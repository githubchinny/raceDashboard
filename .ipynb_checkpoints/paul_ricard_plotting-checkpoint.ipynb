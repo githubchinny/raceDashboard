{
 "cells": [
  {
   "cell_type": "markdown",
   "metadata": {
    "pycharm": {
     "name": "#%% md\n"
    }
   },
   "source": [
    "# Sanofi Paul Ricard\n",
    "This notebook is being used to generate a nice image of cars around the Paul Ricard ciruit."
   ]
  },
  {
   "cell_type": "code",
   "execution_count": 8,
   "metadata": {
    "pycharm": {
     "name": "#%%\n"
    }
   },
   "outputs": [],
   "source": [
    "# import libraries\n",
    "import plotly.graph_objects as go\n",
    "import pandas as pd\n",
    "import fastf1 as ff1\n",
    "import numpy as np"
   ]
  },
  {
   "cell_type": "code",
   "execution_count": 11,
   "metadata": {
    "pycharm": {
     "name": "#%%\n"
    },
    "scrolled": false
   },
   "outputs": [
    {
     "data": {
      "text/html": [
       "<div>\n",
       "<style scoped>\n",
       "    .dataframe tbody tr th:only-of-type {\n",
       "        vertical-align: middle;\n",
       "    }\n",
       "\n",
       "    .dataframe tbody tr th {\n",
       "        vertical-align: top;\n",
       "    }\n",
       "\n",
       "    .dataframe thead th {\n",
       "        text-align: right;\n",
       "    }\n",
       "</style>\n",
       "<table border=\"1\" class=\"dataframe\">\n",
       "  <thead>\n",
       "    <tr style=\"text-align: right;\">\n",
       "      <th></th>\n",
       "      <th>Unnamed: 0</th>\n",
       "      <th>Line</th>\n",
       "      <th>2021-04-30 00:00:00</th>\n",
       "      <th>2021-05-31 00:00:00</th>\n",
       "      <th>2021-06-30 00:00:00</th>\n",
       "      <th>race_time</th>\n",
       "      <th>Plant</th>\n",
       "      <th>position</th>\n",
       "      <th>gap_to_leader</th>\n",
       "      <th>prev_race_time</th>\n",
       "      <th>prev_position</th>\n",
       "      <th>Gain/Loss</th>\n",
       "      <th>interval</th>\n",
       "      <th>OEE  Start point</th>\n",
       "      <th>⇗ OEE% progress</th>\n",
       "      <th>OEE% Target (2022)</th>\n",
       "    </tr>\n",
       "  </thead>\n",
       "  <tbody>\n",
       "    <tr>\n",
       "      <th>0</th>\n",
       "      <td>0</td>\n",
       "      <td>GAMMA1</td>\n",
       "      <td>90.486072</td>\n",
       "      <td>90.279055</td>\n",
       "      <td>67.467512</td>\n",
       "      <td>248.232638</td>\n",
       "      <td>SCOPPITO</td>\n",
       "      <td>1</td>\n",
       "      <td>0.000000</td>\n",
       "      <td>157.746566</td>\n",
       "      <td>1</td>\n",
       "      <td>0</td>\n",
       "      <td>NaN</td>\n",
       "      <td>0.418683</td>\n",
       "      <td>0.085148</td>\n",
       "      <td>0.57</td>\n",
       "    </tr>\n",
       "    <tr>\n",
       "      <th>1</th>\n",
       "      <td>1</td>\n",
       "      <td>IMA C80/2</td>\n",
       "      <td>90.085654</td>\n",
       "      <td>90.127927</td>\n",
       "      <td>74.458474</td>\n",
       "      <td>254.672056</td>\n",
       "      <td>SCOPPITO</td>\n",
       "      <td>2</td>\n",
       "      <td>6.439417</td>\n",
       "      <td>164.586401</td>\n",
       "      <td>2</td>\n",
       "      <td>0</td>\n",
       "      <td>6.439417</td>\n",
       "      <td>0.451031</td>\n",
       "      <td>0.043365</td>\n",
       "      <td>0.58</td>\n",
       "    </tr>\n",
       "    <tr>\n",
       "      <th>2</th>\n",
       "      <td>2</td>\n",
       "      <td>AL6</td>\n",
       "      <td>90.711176</td>\n",
       "      <td>90.594798</td>\n",
       "      <td>83.091331</td>\n",
       "      <td>264.397306</td>\n",
       "      <td>Frankfurt</td>\n",
       "      <td>3</td>\n",
       "      <td>16.164667</td>\n",
       "      <td>173.686130</td>\n",
       "      <td>3</td>\n",
       "      <td>0</td>\n",
       "      <td>9.725250</td>\n",
       "      <td>0.332657</td>\n",
       "      <td>0.078541</td>\n",
       "      <td>0.45</td>\n",
       "    </tr>\n",
       "    <tr>\n",
       "      <th>3</th>\n",
       "      <td>3</td>\n",
       "      <td>M22 Filling</td>\n",
       "      <td>90.500646</td>\n",
       "      <td>90.486761</td>\n",
       "      <td>83.659358</td>\n",
       "      <td>264.646764</td>\n",
       "      <td>Frankfurt</td>\n",
       "      <td>4</td>\n",
       "      <td>16.414126</td>\n",
       "      <td>174.146119</td>\n",
       "      <td>4</td>\n",
       "      <td>0</td>\n",
       "      <td>0.249459</td>\n",
       "      <td>0.530068</td>\n",
       "      <td>0.120280</td>\n",
       "      <td>0.65</td>\n",
       "    </tr>\n",
       "    <tr>\n",
       "      <th>4</th>\n",
       "      <td>4</td>\n",
       "      <td>M18 Filling</td>\n",
       "      <td>92.445654</td>\n",
       "      <td>90.491491</td>\n",
       "      <td>85.053607</td>\n",
       "      <td>267.990752</td>\n",
       "      <td>Frankfurt</td>\n",
       "      <td>5</td>\n",
       "      <td>19.758114</td>\n",
       "      <td>175.545098</td>\n",
       "      <td>5</td>\n",
       "      <td>0</td>\n",
       "      <td>3.343988</td>\n",
       "      <td>0.443522</td>\n",
       "      <td>-0.010057</td>\n",
       "      <td>0.65</td>\n",
       "    </tr>\n",
       "  </tbody>\n",
       "</table>\n",
       "</div>"
      ],
      "text/plain": [
       "   Unnamed: 0         Line  2021-04-30 00:00:00  2021-05-31 00:00:00  \\\n",
       "0           0       GAMMA1            90.486072            90.279055   \n",
       "1           1    IMA C80/2            90.085654            90.127927   \n",
       "2           2          AL6            90.711176            90.594798   \n",
       "3           3  M22 Filling            90.500646            90.486761   \n",
       "4           4  M18 Filling            92.445654            90.491491   \n",
       "\n",
       "   2021-06-30 00:00:00   race_time      Plant  position  gap_to_leader  \\\n",
       "0            67.467512  248.232638   SCOPPITO         1       0.000000   \n",
       "1            74.458474  254.672056   SCOPPITO         2       6.439417   \n",
       "2            83.091331  264.397306  Frankfurt         3      16.164667   \n",
       "3            83.659358  264.646764  Frankfurt         4      16.414126   \n",
       "4            85.053607  267.990752  Frankfurt         5      19.758114   \n",
       "\n",
       "   prev_race_time  prev_position  Gain/Loss  interval  OEE  Start point  \\\n",
       "0      157.746566              1          0       NaN          0.418683   \n",
       "1      164.586401              2          0  6.439417          0.451031   \n",
       "2      173.686130              3          0  9.725250          0.332657   \n",
       "3      174.146119              4          0  0.249459          0.530068   \n",
       "4      175.545098              5          0  3.343988          0.443522   \n",
       "\n",
       "   ⇗ OEE% progress  OEE% Target (2022)  \n",
       "0         0.085148                0.57  \n",
       "1         0.043365                0.58  \n",
       "2         0.078541                0.45  \n",
       "3         0.120280                0.65  \n",
       "4        -0.010057                0.65  "
      ]
     },
     "execution_count": 11,
     "metadata": {},
     "output_type": "execute_result"
    }
   ],
   "source": [
    "df = pd.read_csv('C:/Users/mark_/Documents/McLaren2021/Sanofi/leaderboard.csv')\n",
    "df.head()\n"
   ]
  },
  {
   "cell_type": "code",
   "execution_count": 12,
   "metadata": {
    "pycharm": {
     "name": "#%%\n"
    }
   },
   "outputs": [],
   "source": [
    "cars = df[['Line', 'gap_to_leader']]"
   ]
  },
  {
   "cell_type": "code",
   "execution_count": 4,
   "metadata": {
    "pycharm": {
     "name": "#%%\n"
    }
   },
   "outputs": [
    {
     "name": "stderr",
     "output_type": "stream",
     "text": [
      "core           INFO \tLoading laps for French Grand Prix - Qualifying [v2.1.6]\n",
      "api            INFO \tUsing cached data for timing_data\n",
      "api            INFO \tUsing cached data for timing_app_data\n",
      "core           INFO \tProcessing timing data...\n",
      "api            INFO \tUsing cached data for session_status_data\n",
      "api            INFO \tUsing cached data for track_status_data\n",
      "api            INFO \tUsing cached data for car_data\n",
      "api            INFO \tUsing cached data for position_data\n",
      "api            INFO \tUsing cached data for weather_data\n",
      "core           INFO \tLoaded data for 20 drivers: ['33', '23', '88', '55', '26', '16', '99', '77', '27', '5', '18', '7', '8', '44', '10', '63', '3', '4', '11', '20']\n"
     ]
    }
   ],
   "source": [
    "# ff1.Cache.enable_cache('f1_cache')\n",
    "ff1.Cache.enable_cache('C:/Users/mark_/Documents/McLaren2021/Sanofi/f1cache')\n",
    "laps = ff1.get_session(2019, 'France', 'Q').load_laps(with_telemetry=True)\n",
    "tel = laps.pick_driver('NOR').pick_fastest().telemetry"
   ]
  },
  {
   "cell_type": "code",
   "execution_count": 13,
   "metadata": {
    "pycharm": {
     "name": "#%%\n"
    }
   },
   "outputs": [],
   "source": [
    "import matplotlib.pyplot as plt"
   ]
  },
  {
   "cell_type": "code",
   "execution_count": 14,
   "metadata": {
    "pycharm": {
     "name": "#%%\n"
    }
   },
   "outputs": [],
   "source": [
    "plt.style.use('dark_background')"
   ]
  },
  {
   "cell_type": "code",
   "execution_count": 15,
   "metadata": {},
   "outputs": [
    {
     "data": {
      "image/png": "[encoded data removed]",
      "text/plain": [
       "<Figure size 1296x648 with 1 Axes>"
      ]
     },
     "metadata": {},
     "output_type": "display_data"
    }
   ],
   "source": [
    "plt.figure(figsize=(18,9))\n",
    "plt.plot(tel.X, tel.Y, zorder=1, lw=5)\n",
    "\n",
    "\n",
    "result_x=[]\n",
    "result_y=[]\n",
    "\n",
    "t = np.linspace(1,15,len(cars))\n",
    "\n",
    "# im = plt.imread(dir + 'chequeredFlag.png')\n",
    "# plt.imshow(im,zorder=1)  \n",
    "\n",
    "for i, row in cars.iterrows():\n",
    "    result_x.__iadd__([tel.X.iloc[int(-15*(row[1]+1))]])\n",
    "    result_y.__iadd__([tel.Y.iloc[int(-15*(row[1]+1))]])\n",
    "\n",
    "\n",
    "plt.scatter(result_x, result_y, s=1500, c=t, cmap='turbo_r', zorder=2)\n",
    "font = {'weight' : 'bold',\n",
    "        'size'   : 15}\n",
    "\n",
    "plt.rc('font', **font)\n",
    "\n",
    "for i, row in cars.iterrows():\n",
    "    plt.text(tel.X.iloc[int(-15*(row[1]+1))]-450, tel.Y.iloc[int(-15*(row[1]+1))]-200, row[0][:3], c='white')\n",
    "\n",
    "    \n",
    "# grid(color='r', linestyle='-', linewidth=2)\n",
    "plt.scatter(300, -1930, marker = 's', c='white', zorder=2)\n",
    "plt.scatter(600, -1930, marker = 's', c='white', zorder=2)\n",
    "plt.scatter(460, -2130, marker = 's', c='white', zorder=2)\n",
    "plt.scatter(300, -2130, marker = 's', c='black', zorder=2)  \n",
    "plt.scatter(460, -1930, marker = 's', c='black', zorder=2)  \n",
    "plt.scatter(600, -2130, marker = 's', c='black', zorder=2)  \n",
    "    \n",
    "# for i, row in cars.iterrows():\n",
    "#     plt.scatter(tel.X.iloc[int(-15*(row[1]+1))], tel.Y.iloc[int(-15*(row[1]+1))], s = 1000, c=t, cmap='Oranges', zorder=2)\n",
    "#     plt.text(tel.X.iloc[int(-15*(row[1]+1))]-200, tel.Y.iloc[int(-15*(row[1]+1))], row[0][:3], c='white')\n",
    "\n",
    "plt.title('Circuit Paul Ricard')\n",
    "plt.axis('off')\n",
    "plt.show()"
   ]
  },
  {
   "cell_type": "code",
   "execution_count": 16,
   "metadata": {},
   "outputs": [
    {
     "data": {
      "text/plain": [
       "-1932"
      ]
     },
     "execution_count": 16,
     "metadata": {},
     "output_type": "execute_result"
    }
   ],
   "source": [
    "tel.Y.iloc[-1]"
   ]
  },
  {
   "cell_type": "code",
   "execution_count": 10,
   "metadata": {},
   "outputs": [
    {
     "ename": "NameError",
     "evalue": "name 'df_weekly' is not defined",
     "output_type": "error",
     "traceback": [
      "\u001b[1;31m---------------------------------------------------------------------------\u001b[0m",
      "\u001b[1;31mNameError\u001b[0m                                 Traceback (most recent call last)",
      "\u001b[1;32m<ipython-input-10-adf6578c91b9>\u001b[0m in \u001b[0;36m<module>\u001b[1;34m\u001b[0m\n\u001b[1;32m----> 1\u001b[1;33m \u001b[0mdf_weekly\u001b[0m\u001b[1;33m[\u001b[0m\u001b[0mdf_weekly\u001b[0m\u001b[1;33m[\u001b[0m\u001b[1;34m'Line'\u001b[0m\u001b[1;33m]\u001b[0m\u001b[1;33m.\u001b[0m\u001b[0mstr\u001b[0m\u001b[1;33m.\u001b[0m\u001b[0mcontains\u001b[0m\u001b[1;33m(\u001b[0m\u001b[1;34m'M18'\u001b[0m\u001b[1;33m)\u001b[0m\u001b[1;33m]\u001b[0m\u001b[1;33m\u001b[0m\u001b[1;33m\u001b[0m\u001b[0m\n\u001b[0m",
      "\u001b[1;31mNameError\u001b[0m: name 'df_weekly' is not defined"
     ]
    }
   ],
   "source": []
  },
  {
   "cell_type": "code",
   "execution_count": null,
   "metadata": {},
   "outputs": [],
   "source": []
  }
 ],
 "metadata": {
  "kernelspec": {
   "display_name": "Python 3",
   "language": "python",
   "name": "python3"
  },
  "language_info": {
   "codemirror_mode": {
    "name": "ipython",
    "version": 3
   },
   "file_extension": ".py",
   "mimetype": "text/x-python",
   "name": "python",
   "nbconvert_exporter": "python",
   "pygments_lexer": "ipython3",
   "version": "3.9.4"
  }
 },
 "nbformat": 4,
 "nbformat_minor": 1
}
