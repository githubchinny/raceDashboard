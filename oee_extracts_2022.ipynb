{
 "cells": [
  {
   "cell_type": "code",
   "execution_count": 70,
   "metadata": {},
   "outputs": [],
   "source": [
    "import pandas as pd\n",
    "import numpy as np\n",
    "\n",
    "# data viz\n",
    "import plotly.express as px\n",
    "import matplotlib.pyplot as plt\n",
    "\n",
    "import os\n",
    "import datetime\n",
    "\n",
    "import set_config"
   ]
  },
  {
   "cell_type": "code",
   "execution_count": 2,
   "metadata": {},
   "outputs": [
    {
     "name": "stdout",
     "output_type": "stream",
     "text": [
      "dir_sanofi_share is C:/Users/mark_/Sanofi/Sanofi x McLaren sharing - General/Frankfurt sprint/SFD/\n",
      "dir_local is C:/Users/mark_/Documents/McLaren2021/Sanofi/\n",
      "dir_race is C:/Users/mark_/Sanofi/Sanofi x McLaren sharing - General/Race Dashboard data\n"
     ]
    }
   ],
   "source": [
    "dir_local = set_config.ConfigSectionMap(\"SectionOne\")['local']\n",
    "dir_sanofi_share = set_config.ConfigSectionMap(\"SectionOne\")['sanofi']\n",
    "dir_race = set_config.ConfigSectionMap(\"SectionOne\")['race']\n",
    "\n",
    "print (\"dir_sanofi_share is %s\" % (dir_sanofi_share))\n",
    "print (\"dir_local is %s\" % (dir_local))\n",
    "print (\"dir_race is %s\" % (dir_race))\n"
   ]
  },
  {
   "cell_type": "code",
   "execution_count": 3,
   "metadata": {},
   "outputs": [],
   "source": [
    "filename = 'oee_extracts_all_sites.xlsx'\n",
    "path = os.path.join(dir_local, filename)\n",
    "df = pd.read_excel(path, na_values=('-'))"
   ]
  },
  {
   "cell_type": "code",
   "execution_count": 4,
   "metadata": {},
   "outputs": [],
   "source": [
    "df.dropna(subset={'Week'}, inplace=True)"
   ]
  },
  {
   "cell_type": "code",
   "execution_count": 5,
   "metadata": {},
   "outputs": [
    {
     "data": {
      "text/html": [
       "<div>\n",
       "<style scoped>\n",
       "    .dataframe tbody tr th:only-of-type {\n",
       "        vertical-align: middle;\n",
       "    }\n",
       "\n",
       "    .dataframe tbody tr th {\n",
       "        vertical-align: top;\n",
       "    }\n",
       "\n",
       "    .dataframe thead th {\n",
       "        text-align: right;\n",
       "    }\n",
       "</style>\n",
       "<table border=\"1\" class=\"dataframe\">\n",
       "  <thead>\n",
       "    <tr style=\"text-align: right;\">\n",
       "      <th></th>\n",
       "      <th>Week</th>\n",
       "      <th>Line</th>\n",
       "      <th>OEE %</th>\n",
       "      <th>Changeover</th>\n",
       "      <th>Unplanned_tech_loss</th>\n",
       "      <th>Availability %</th>\n",
       "      <th>Performance %</th>\n",
       "      <th>WeekOfYear</th>\n",
       "      <th>Year</th>\n",
       "      <th>Date</th>\n",
       "    </tr>\n",
       "  </thead>\n",
       "  <tbody>\n",
       "    <tr>\n",
       "      <th>24</th>\n",
       "      <td>W01-2020</td>\n",
       "      <td>LSX - 1030 Packaging Line</td>\n",
       "      <td>0.519638</td>\n",
       "      <td>0.069918</td>\n",
       "      <td>0.211838</td>\n",
       "      <td>0.711021</td>\n",
       "      <td>0.730834</td>\n",
       "      <td>1</td>\n",
       "      <td>2020</td>\n",
       "      <td>2020-01-12</td>\n",
       "    </tr>\n",
       "    <tr>\n",
       "      <th>25</th>\n",
       "      <td>W01-2020</td>\n",
       "      <td>LSX - 1070-1 Packaging Line</td>\n",
       "      <td>0.359199</td>\n",
       "      <td>0.062479</td>\n",
       "      <td>0.470711</td>\n",
       "      <td>0.474172</td>\n",
       "      <td>0.762421</td>\n",
       "      <td>1</td>\n",
       "      <td>2020</td>\n",
       "      <td>2020-01-12</td>\n",
       "    </tr>\n",
       "    <tr>\n",
       "      <th>26</th>\n",
       "      <td>W01-2020</td>\n",
       "      <td>LSX - 1070-2 Packaging Line</td>\n",
       "      <td>0.031299</td>\n",
       "      <td>0.000000</td>\n",
       "      <td>0.000000</td>\n",
       "      <td>1.000000</td>\n",
       "      <td>0.031299</td>\n",
       "      <td>1</td>\n",
       "      <td>2020</td>\n",
       "      <td>2020-01-12</td>\n",
       "    </tr>\n",
       "    <tr>\n",
       "      <th>27</th>\n",
       "      <td>W01-2020</td>\n",
       "      <td>LSX - C65-1 Packaging Line</td>\n",
       "      <td>0.390467</td>\n",
       "      <td>0.139973</td>\n",
       "      <td>0.296680</td>\n",
       "      <td>0.601649</td>\n",
       "      <td>0.649678</td>\n",
       "      <td>1</td>\n",
       "      <td>2020</td>\n",
       "      <td>2020-01-12</td>\n",
       "    </tr>\n",
       "    <tr>\n",
       "      <th>28</th>\n",
       "      <td>W01-2020</td>\n",
       "      <td>LSX - C65-2 Packaging Line</td>\n",
       "      <td>0.158301</td>\n",
       "      <td>0.089099</td>\n",
       "      <td>0.137793</td>\n",
       "      <td>0.706554</td>\n",
       "      <td>0.224047</td>\n",
       "      <td>1</td>\n",
       "      <td>2020</td>\n",
       "      <td>2020-01-12</td>\n",
       "    </tr>\n",
       "  </tbody>\n",
       "</table>\n",
       "</div>"
      ],
      "text/plain": [
       "        Week                         Line     OEE %  Changeover  \\\n",
       "24  W01-2020    LSX - 1030 Packaging Line  0.519638    0.069918   \n",
       "25  W01-2020  LSX - 1070-1 Packaging Line  0.359199    0.062479   \n",
       "26  W01-2020  LSX - 1070-2 Packaging Line  0.031299    0.000000   \n",
       "27  W01-2020   LSX - C65-1 Packaging Line  0.390467    0.139973   \n",
       "28  W01-2020   LSX - C65-2 Packaging Line  0.158301    0.089099   \n",
       "\n",
       "    Unplanned_tech_loss  Availability %  Performance %  WeekOfYear  Year  \\\n",
       "24             0.211838        0.711021       0.730834           1  2020   \n",
       "25             0.470711        0.474172       0.762421           1  2020   \n",
       "26             0.000000        1.000000       0.031299           1  2020   \n",
       "27             0.296680        0.601649       0.649678           1  2020   \n",
       "28             0.137793        0.706554       0.224047           1  2020   \n",
       "\n",
       "         Date  \n",
       "24 2020-01-12  \n",
       "25 2020-01-12  \n",
       "26 2020-01-12  \n",
       "27 2020-01-12  \n",
       "28 2020-01-12  "
      ]
     },
     "execution_count": 5,
     "metadata": {},
     "output_type": "execute_result"
    }
   ],
   "source": [
    "df['WeekOfYear'] = pd.to_numeric(df['Week'].str[1:3])\n",
    "df['Year'] = pd.to_numeric(df['Week'].str[4:])\n",
    "dates = df.Year*100+df.WeekOfYear\n",
    "df['Date'] = pd.to_datetime(dates.astype(str) + '0', format='%Y%W%w')\n",
    "df.head()"
   ]
  },
  {
   "cell_type": "code",
   "execution_count": 6,
   "metadata": {},
   "outputs": [
    {
     "data": {
      "text/html": [
       "<div>\n",
       "<style scoped>\n",
       "    .dataframe tbody tr th:only-of-type {\n",
       "        vertical-align: middle;\n",
       "    }\n",
       "\n",
       "    .dataframe tbody tr th {\n",
       "        vertical-align: top;\n",
       "    }\n",
       "\n",
       "    .dataframe thead th {\n",
       "        text-align: right;\n",
       "    }\n",
       "</style>\n",
       "<table border=\"1\" class=\"dataframe\">\n",
       "  <thead>\n",
       "    <tr style=\"text-align: right;\">\n",
       "      <th></th>\n",
       "      <th>Week</th>\n",
       "      <th>Line</th>\n",
       "      <th>OEE %</th>\n",
       "      <th>Changeover</th>\n",
       "      <th>Unplanned_tech_loss</th>\n",
       "      <th>Availability %</th>\n",
       "      <th>Performance %</th>\n",
       "      <th>WeekOfYear</th>\n",
       "      <th>Year</th>\n",
       "      <th>Date</th>\n",
       "    </tr>\n",
       "  </thead>\n",
       "  <tbody>\n",
       "    <tr>\n",
       "      <th>24</th>\n",
       "      <td>W01-2020</td>\n",
       "      <td>LSX - 1030 Packaging Line</td>\n",
       "      <td>0.519638</td>\n",
       "      <td>0.069918</td>\n",
       "      <td>0.211838</td>\n",
       "      <td>0.711021</td>\n",
       "      <td>0.730834</td>\n",
       "      <td>1</td>\n",
       "      <td>2020</td>\n",
       "      <td>2020-01-12</td>\n",
       "    </tr>\n",
       "    <tr>\n",
       "      <th>25</th>\n",
       "      <td>W01-2020</td>\n",
       "      <td>LSX - 1070-1 Packaging Line</td>\n",
       "      <td>0.359199</td>\n",
       "      <td>0.062479</td>\n",
       "      <td>0.470711</td>\n",
       "      <td>0.474172</td>\n",
       "      <td>0.762421</td>\n",
       "      <td>1</td>\n",
       "      <td>2020</td>\n",
       "      <td>2020-01-12</td>\n",
       "    </tr>\n",
       "    <tr>\n",
       "      <th>26</th>\n",
       "      <td>W01-2020</td>\n",
       "      <td>LSX - 1070-2 Packaging Line</td>\n",
       "      <td>0.031299</td>\n",
       "      <td>0.000000</td>\n",
       "      <td>0.000000</td>\n",
       "      <td>1.000000</td>\n",
       "      <td>0.031299</td>\n",
       "      <td>1</td>\n",
       "      <td>2020</td>\n",
       "      <td>2020-01-12</td>\n",
       "    </tr>\n",
       "    <tr>\n",
       "      <th>27</th>\n",
       "      <td>W01-2020</td>\n",
       "      <td>LSX - C65-1 Packaging Line</td>\n",
       "      <td>0.390467</td>\n",
       "      <td>0.139973</td>\n",
       "      <td>0.296680</td>\n",
       "      <td>0.601649</td>\n",
       "      <td>0.649678</td>\n",
       "      <td>1</td>\n",
       "      <td>2020</td>\n",
       "      <td>2020-01-12</td>\n",
       "    </tr>\n",
       "    <tr>\n",
       "      <th>28</th>\n",
       "      <td>W01-2020</td>\n",
       "      <td>LSX - C65-2 Packaging Line</td>\n",
       "      <td>0.158301</td>\n",
       "      <td>0.089099</td>\n",
       "      <td>0.137793</td>\n",
       "      <td>0.706554</td>\n",
       "      <td>0.224047</td>\n",
       "      <td>1</td>\n",
       "      <td>2020</td>\n",
       "      <td>2020-01-12</td>\n",
       "    </tr>\n",
       "    <tr>\n",
       "      <th>...</th>\n",
       "      <td>...</td>\n",
       "      <td>...</td>\n",
       "      <td>...</td>\n",
       "      <td>...</td>\n",
       "      <td>...</td>\n",
       "      <td>...</td>\n",
       "      <td>...</td>\n",
       "      <td>...</td>\n",
       "      <td>...</td>\n",
       "      <td>...</td>\n",
       "    </tr>\n",
       "    <tr>\n",
       "      <th>8935</th>\n",
       "      <td>W53-2020</td>\n",
       "      <td>TRS - L19 Packaging Line</td>\n",
       "      <td>NaN</td>\n",
       "      <td>NaN</td>\n",
       "      <td>NaN</td>\n",
       "      <td>NaN</td>\n",
       "      <td>NaN</td>\n",
       "      <td>53</td>\n",
       "      <td>2020</td>\n",
       "      <td>2021-01-10</td>\n",
       "    </tr>\n",
       "    <tr>\n",
       "      <th>8936</th>\n",
       "      <td>W53-2020</td>\n",
       "      <td>TRS - L21 Packaging Line</td>\n",
       "      <td>NaN</td>\n",
       "      <td>NaN</td>\n",
       "      <td>NaN</td>\n",
       "      <td>NaN</td>\n",
       "      <td>NaN</td>\n",
       "      <td>53</td>\n",
       "      <td>2020</td>\n",
       "      <td>2021-01-10</td>\n",
       "    </tr>\n",
       "    <tr>\n",
       "      <th>8937</th>\n",
       "      <td>W53-2020</td>\n",
       "      <td>TRS - L22 Packaging Line</td>\n",
       "      <td>NaN</td>\n",
       "      <td>NaN</td>\n",
       "      <td>NaN</td>\n",
       "      <td>NaN</td>\n",
       "      <td>NaN</td>\n",
       "      <td>53</td>\n",
       "      <td>2020</td>\n",
       "      <td>2021-01-10</td>\n",
       "    </tr>\n",
       "    <tr>\n",
       "      <th>8938</th>\n",
       "      <td>W53-2020</td>\n",
       "      <td>TRS - L24 Packaging Line</td>\n",
       "      <td>NaN</td>\n",
       "      <td>NaN</td>\n",
       "      <td>NaN</td>\n",
       "      <td>NaN</td>\n",
       "      <td>NaN</td>\n",
       "      <td>53</td>\n",
       "      <td>2020</td>\n",
       "      <td>2021-01-10</td>\n",
       "    </tr>\n",
       "    <tr>\n",
       "      <th>8939</th>\n",
       "      <td>W53-2020</td>\n",
       "      <td>TRS - L25 Packaging Line</td>\n",
       "      <td>NaN</td>\n",
       "      <td>NaN</td>\n",
       "      <td>NaN</td>\n",
       "      <td>NaN</td>\n",
       "      <td>NaN</td>\n",
       "      <td>53</td>\n",
       "      <td>2020</td>\n",
       "      <td>2021-01-10</td>\n",
       "    </tr>\n",
       "  </tbody>\n",
       "</table>\n",
       "<p>8916 rows × 10 columns</p>\n",
       "</div>"
      ],
      "text/plain": [
       "          Week                         Line     OEE %  Changeover  \\\n",
       "24    W01-2020    LSX - 1030 Packaging Line  0.519638    0.069918   \n",
       "25    W01-2020  LSX - 1070-1 Packaging Line  0.359199    0.062479   \n",
       "26    W01-2020  LSX - 1070-2 Packaging Line  0.031299    0.000000   \n",
       "27    W01-2020   LSX - C65-1 Packaging Line  0.390467    0.139973   \n",
       "28    W01-2020   LSX - C65-2 Packaging Line  0.158301    0.089099   \n",
       "...        ...                          ...       ...         ...   \n",
       "8935  W53-2020     TRS - L19 Packaging Line       NaN         NaN   \n",
       "8936  W53-2020     TRS - L21 Packaging Line       NaN         NaN   \n",
       "8937  W53-2020     TRS - L22 Packaging Line       NaN         NaN   \n",
       "8938  W53-2020     TRS - L24 Packaging Line       NaN         NaN   \n",
       "8939  W53-2020     TRS - L25 Packaging Line       NaN         NaN   \n",
       "\n",
       "      Unplanned_tech_loss  Availability %  Performance %  WeekOfYear  Year  \\\n",
       "24               0.211838        0.711021       0.730834           1  2020   \n",
       "25               0.470711        0.474172       0.762421           1  2020   \n",
       "26               0.000000        1.000000       0.031299           1  2020   \n",
       "27               0.296680        0.601649       0.649678           1  2020   \n",
       "28               0.137793        0.706554       0.224047           1  2020   \n",
       "...                   ...             ...            ...         ...   ...   \n",
       "8935                  NaN             NaN            NaN          53  2020   \n",
       "8936                  NaN             NaN            NaN          53  2020   \n",
       "8937                  NaN             NaN            NaN          53  2020   \n",
       "8938                  NaN             NaN            NaN          53  2020   \n",
       "8939                  NaN             NaN            NaN          53  2020   \n",
       "\n",
       "           Date  \n",
       "24   2020-01-12  \n",
       "25   2020-01-12  \n",
       "26   2020-01-12  \n",
       "27   2020-01-12  \n",
       "28   2020-01-12  \n",
       "...         ...  \n",
       "8935 2021-01-10  \n",
       "8936 2021-01-10  \n",
       "8937 2021-01-10  \n",
       "8938 2021-01-10  \n",
       "8939 2021-01-10  \n",
       "\n",
       "[8916 rows x 10 columns]"
      ]
     },
     "execution_count": 6,
     "metadata": {},
     "output_type": "execute_result"
    }
   ],
   "source": [
    "df.dropna(subset=['WeekOfYear'], inplace=True)\n",
    "df\n",
    "# df"
   ]
  },
  {
   "cell_type": "code",
   "execution_count": 60,
   "metadata": {},
   "outputs": [
    {
     "name": "stdout",
     "output_type": "stream",
     "text": [
      "Number of Unique Plants/Factories: 19\n",
      "Number of Unique Lines: 231\n",
      "Number of Unique Lines recording OEE % values: 169\n"
     ]
    }
   ],
   "source": [
    "print (\"Number of Unique Plants/Factories: {}\".format(len(rolling_avg.Line.str[:3].unique())))\n",
    "print (\"Number of Unique Lines: {}\".format(len(rolling_avg.Line.unique())))\n",
    "print (\"Number of Unique Lines recording OEE % values: {}\".format(len(rolling_avg[rolling_avg['OEE %'] > 0].Line.unique())))"
   ]
  },
  {
   "cell_type": "code",
   "execution_count": 8,
   "metadata": {},
   "outputs": [
    {
     "data": {
      "text/plain": [
       "<AxesSubplot:xlabel='Line,None'>"
      ]
     },
     "execution_count": 8,
     "metadata": {},
     "output_type": "execute_result"
    },
    {
     "data": {
      "image/png": "[encoded data removed]",
      "text/plain": [
       "<Figure size 1080x720 with 1 Axes>"
      ]
     },
     "metadata": {
      "needs_background": "light"
     },
     "output_type": "display_data"
    }
   ],
   "source": [
    "df.groupby('Line')[['OEE %','Availability %','Performance %']].rolling(window=4).mean().plot(figsize=(15,10), ylim=(0,1))"
   ]
  },
  {
   "cell_type": "code",
   "execution_count": 9,
   "metadata": {},
   "outputs": [
    {
     "data": {
      "text/html": [
       "<div>\n",
       "<style scoped>\n",
       "    .dataframe tbody tr th:only-of-type {\n",
       "        vertical-align: middle;\n",
       "    }\n",
       "\n",
       "    .dataframe tbody tr th {\n",
       "        vertical-align: top;\n",
       "    }\n",
       "\n",
       "    .dataframe thead tr th {\n",
       "        text-align: left;\n",
       "    }\n",
       "\n",
       "    .dataframe thead tr:last-of-type th {\n",
       "        text-align: right;\n",
       "    }\n",
       "</style>\n",
       "<table border=\"1\" class=\"dataframe\">\n",
       "  <thead>\n",
       "    <tr>\n",
       "      <th></th>\n",
       "      <th colspan=\"2\" halign=\"left\">OEE %</th>\n",
       "      <th colspan=\"2\" halign=\"left\">Availability %</th>\n",
       "      <th colspan=\"2\" halign=\"left\">Performance %</th>\n",
       "    </tr>\n",
       "    <tr>\n",
       "      <th></th>\n",
       "      <th>count</th>\n",
       "      <th>mean</th>\n",
       "      <th>count</th>\n",
       "      <th>mean</th>\n",
       "      <th>count</th>\n",
       "      <th>mean</th>\n",
       "    </tr>\n",
       "    <tr>\n",
       "      <th>Line</th>\n",
       "      <th></th>\n",
       "      <th></th>\n",
       "      <th></th>\n",
       "      <th></th>\n",
       "      <th></th>\n",
       "      <th></th>\n",
       "    </tr>\n",
       "  </thead>\n",
       "  <tbody>\n",
       "    <tr>\n",
       "      <th>ANA - Fiale 6</th>\n",
       "      <td>1</td>\n",
       "      <td>0.018917</td>\n",
       "      <td>1</td>\n",
       "      <td>0.467283</td>\n",
       "      <td>1</td>\n",
       "      <td>0.041494</td>\n",
       "    </tr>\n",
       "    <tr>\n",
       "      <th>ELB - Extraction B12 1st cycle</th>\n",
       "      <td>27</td>\n",
       "      <td>0.733439</td>\n",
       "      <td>27</td>\n",
       "      <td>0.750083</td>\n",
       "      <td>27</td>\n",
       "      <td>0.896803</td>\n",
       "    </tr>\n",
       "    <tr>\n",
       "      <th>ELB - FERMENTATION E05</th>\n",
       "      <td>27</td>\n",
       "      <td>0.611262</td>\n",
       "      <td>27</td>\n",
       "      <td>0.909730</td>\n",
       "      <td>27</td>\n",
       "      <td>0.665360</td>\n",
       "    </tr>\n",
       "    <tr>\n",
       "      <th>ELB - FERMENTATION E06</th>\n",
       "      <td>27</td>\n",
       "      <td>0.451722</td>\n",
       "      <td>27</td>\n",
       "      <td>0.846434</td>\n",
       "      <td>27</td>\n",
       "      <td>0.456475</td>\n",
       "    </tr>\n",
       "    <tr>\n",
       "      <th>ELB - FERMENTATION E07</th>\n",
       "      <td>27</td>\n",
       "      <td>0.548899</td>\n",
       "      <td>27</td>\n",
       "      <td>0.865264</td>\n",
       "      <td>26</td>\n",
       "      <td>0.611429</td>\n",
       "    </tr>\n",
       "    <tr>\n",
       "      <th>...</th>\n",
       "      <td>...</td>\n",
       "      <td>...</td>\n",
       "      <td>...</td>\n",
       "      <td>...</td>\n",
       "      <td>...</td>\n",
       "      <td>...</td>\n",
       "    </tr>\n",
       "    <tr>\n",
       "      <th>WAT - AIL2 Packaging</th>\n",
       "      <td>8</td>\n",
       "      <td>0.456916</td>\n",
       "      <td>8</td>\n",
       "      <td>0.393191</td>\n",
       "      <td>8</td>\n",
       "      <td>1.157775</td>\n",
       "    </tr>\n",
       "    <tr>\n",
       "      <th>WAT - LYO INSPECTION</th>\n",
       "      <td>7</td>\n",
       "      <td>7.262697</td>\n",
       "      <td>7</td>\n",
       "      <td>0.401163</td>\n",
       "      <td>7</td>\n",
       "      <td>19.079511</td>\n",
       "    </tr>\n",
       "    <tr>\n",
       "      <th>WAT - LYO Packaging Line 3</th>\n",
       "      <td>8</td>\n",
       "      <td>0.124131</td>\n",
       "      <td>8</td>\n",
       "      <td>0.228860</td>\n",
       "      <td>8</td>\n",
       "      <td>1.253745</td>\n",
       "    </tr>\n",
       "    <tr>\n",
       "      <th>WAT - LYO Packaging Line 9</th>\n",
       "      <td>8</td>\n",
       "      <td>0.251019</td>\n",
       "      <td>8</td>\n",
       "      <td>0.263696</td>\n",
       "      <td>8</td>\n",
       "      <td>1.165633</td>\n",
       "    </tr>\n",
       "    <tr>\n",
       "      <th>WAT - PFS Filling Line</th>\n",
       "      <td>0</td>\n",
       "      <td>NaN</td>\n",
       "      <td>0</td>\n",
       "      <td>NaN</td>\n",
       "      <td>0</td>\n",
       "      <td>NaN</td>\n",
       "    </tr>\n",
       "  </tbody>\n",
       "</table>\n",
       "<p>236 rows × 6 columns</p>\n",
       "</div>"
      ],
      "text/plain": [
       "                               OEE %           Availability %            \\\n",
       "                               count      mean          count      mean   \n",
       "Line                                                                      \n",
       "ANA - Fiale 6                      1  0.018917              1  0.467283   \n",
       "ELB - Extraction B12 1st cycle    27  0.733439             27  0.750083   \n",
       "ELB - FERMENTATION E05            27  0.611262             27  0.909730   \n",
       "ELB - FERMENTATION E06            27  0.451722             27  0.846434   \n",
       "ELB - FERMENTATION E07            27  0.548899             27  0.865264   \n",
       "...                              ...       ...            ...       ...   \n",
       "WAT - AIL2 Packaging               8  0.456916              8  0.393191   \n",
       "WAT - LYO INSPECTION               7  7.262697              7  0.401163   \n",
       "WAT - LYO Packaging Line 3         8  0.124131              8  0.228860   \n",
       "WAT - LYO Packaging Line 9         8  0.251019              8  0.263696   \n",
       "WAT - PFS Filling Line             0       NaN              0       NaN   \n",
       "\n",
       "                               Performance %             \n",
       "                                       count       mean  \n",
       "Line                                                     \n",
       "ANA - Fiale 6                              1   0.041494  \n",
       "ELB - Extraction B12 1st cycle            27   0.896803  \n",
       "ELB - FERMENTATION E05                    27   0.665360  \n",
       "ELB - FERMENTATION E06                    27   0.456475  \n",
       "ELB - FERMENTATION E07                    26   0.611429  \n",
       "...                                      ...        ...  \n",
       "WAT - AIL2 Packaging                       8   1.157775  \n",
       "WAT - LYO INSPECTION                       7  19.079511  \n",
       "WAT - LYO Packaging Line 3                 8   1.253745  \n",
       "WAT - LYO Packaging Line 9                 8   1.165633  \n",
       "WAT - PFS Filling Line                     0        NaN  \n",
       "\n",
       "[236 rows x 6 columns]"
      ]
     },
     "execution_count": 9,
     "metadata": {},
     "output_type": "execute_result"
    }
   ],
   "source": [
    "df.groupby('Line')[['OEE %','Availability %','Performance %']].agg(['count','mean'])"
   ]
  },
  {
   "cell_type": "code",
   "execution_count": 10,
   "metadata": {},
   "outputs": [],
   "source": [
    "df.set_index('Date', inplace=True)"
   ]
  },
  {
   "cell_type": "code",
   "execution_count": 11,
   "metadata": {
    "scrolled": true
   },
   "outputs": [
    {
     "data": {
      "text/html": [
       "<div>\n",
       "<style scoped>\n",
       "    .dataframe tbody tr th:only-of-type {\n",
       "        vertical-align: middle;\n",
       "    }\n",
       "\n",
       "    .dataframe tbody tr th {\n",
       "        vertical-align: top;\n",
       "    }\n",
       "\n",
       "    .dataframe thead th {\n",
       "        text-align: right;\n",
       "    }\n",
       "</style>\n",
       "<table border=\"1\" class=\"dataframe\">\n",
       "  <thead>\n",
       "    <tr style=\"text-align: right;\">\n",
       "      <th></th>\n",
       "      <th></th>\n",
       "      <th>OEE %</th>\n",
       "      <th>Changeover</th>\n",
       "      <th>Unplanned_tech_loss</th>\n",
       "      <th>Availability %</th>\n",
       "      <th>Performance %</th>\n",
       "      <th>WeekOfYear</th>\n",
       "      <th>Year</th>\n",
       "    </tr>\n",
       "    <tr>\n",
       "      <th>Date</th>\n",
       "      <th>Line</th>\n",
       "      <th></th>\n",
       "      <th></th>\n",
       "      <th></th>\n",
       "      <th></th>\n",
       "      <th></th>\n",
       "      <th></th>\n",
       "      <th></th>\n",
       "    </tr>\n",
       "  </thead>\n",
       "  <tbody>\n",
       "    <tr>\n",
       "      <th rowspan=\"5\" valign=\"top\">2019-12-22</th>\n",
       "      <th>LSX - 1030 Packaging Line</th>\n",
       "      <td>0.420687</td>\n",
       "      <td>0.064168</td>\n",
       "      <td>0.449807</td>\n",
       "      <td>0.478008</td>\n",
       "      <td>0.889270</td>\n",
       "      <td>50.0</td>\n",
       "      <td>2019.0</td>\n",
       "    </tr>\n",
       "    <tr>\n",
       "      <th>LSX - 1070-1 Packaging Line</th>\n",
       "      <td>0.484414</td>\n",
       "      <td>0.081965</td>\n",
       "      <td>0.355933</td>\n",
       "      <td>0.601635</td>\n",
       "      <td>0.810673</td>\n",
       "      <td>50.0</td>\n",
       "      <td>2019.0</td>\n",
       "    </tr>\n",
       "    <tr>\n",
       "      <th>LSX - 1070-2 Packaging Line</th>\n",
       "      <td>0.333714</td>\n",
       "      <td>0.053591</td>\n",
       "      <td>0.530042</td>\n",
       "      <td>0.395914</td>\n",
       "      <td>0.850691</td>\n",
       "      <td>50.0</td>\n",
       "      <td>2019.0</td>\n",
       "    </tr>\n",
       "    <tr>\n",
       "      <th>LSX - C65-1 Packaging Line</th>\n",
       "      <td>0.489151</td>\n",
       "      <td>0.138048</td>\n",
       "      <td>0.338704</td>\n",
       "      <td>0.535639</td>\n",
       "      <td>0.918572</td>\n",
       "      <td>50.0</td>\n",
       "      <td>2019.0</td>\n",
       "    </tr>\n",
       "    <tr>\n",
       "      <th>LSX - C65-2 Packaging Line</th>\n",
       "      <td>0.652574</td>\n",
       "      <td>0.100262</td>\n",
       "      <td>0.201653</td>\n",
       "      <td>0.715837</td>\n",
       "      <td>0.916370</td>\n",
       "      <td>50.0</td>\n",
       "      <td>2019.0</td>\n",
       "    </tr>\n",
       "    <tr>\n",
       "      <th>...</th>\n",
       "      <th>...</th>\n",
       "      <td>...</td>\n",
       "      <td>...</td>\n",
       "      <td>...</td>\n",
       "      <td>...</td>\n",
       "      <td>...</td>\n",
       "      <td>...</td>\n",
       "      <td>...</td>\n",
       "    </tr>\n",
       "    <tr>\n",
       "      <th rowspan=\"5\" valign=\"top\">2021-12-12</th>\n",
       "      <th>WAT - AIL2 Packaging</th>\n",
       "      <td>0.285589</td>\n",
       "      <td>0.187658</td>\n",
       "      <td>0.527863</td>\n",
       "      <td>0.246672</td>\n",
       "      <td>1.163458</td>\n",
       "      <td>49.0</td>\n",
       "      <td>2021.0</td>\n",
       "    </tr>\n",
       "    <tr>\n",
       "      <th>WAT - LYO INSPECTION</th>\n",
       "      <td>0.323387</td>\n",
       "      <td>0.000000</td>\n",
       "      <td>0.561805</td>\n",
       "      <td>0.444221</td>\n",
       "      <td>0.727985</td>\n",
       "      <td>49.0</td>\n",
       "      <td>2021.0</td>\n",
       "    </tr>\n",
       "    <tr>\n",
       "      <th>WAT - LYO Packaging Line 3</th>\n",
       "      <td>0.218169</td>\n",
       "      <td>0.391559</td>\n",
       "      <td>0.341620</td>\n",
       "      <td>0.107151</td>\n",
       "      <td>2.036994</td>\n",
       "      <td>49.0</td>\n",
       "      <td>2021.0</td>\n",
       "    </tr>\n",
       "    <tr>\n",
       "      <th>WAT - LYO Packaging Line 9</th>\n",
       "      <td>0.373803</td>\n",
       "      <td>0.492465</td>\n",
       "      <td>0.082049</td>\n",
       "      <td>0.311634</td>\n",
       "      <td>1.253848</td>\n",
       "      <td>49.0</td>\n",
       "      <td>2021.0</td>\n",
       "    </tr>\n",
       "    <tr>\n",
       "      <th>WAT - PFS Filling Line</th>\n",
       "      <td>NaN</td>\n",
       "      <td>NaN</td>\n",
       "      <td>NaN</td>\n",
       "      <td>NaN</td>\n",
       "      <td>NaN</td>\n",
       "      <td>49.0</td>\n",
       "      <td>2021.0</td>\n",
       "    </tr>\n",
       "  </tbody>\n",
       "</table>\n",
       "<p>8856 rows × 7 columns</p>\n",
       "</div>"
      ],
      "text/plain": [
       "                                           OEE %  Changeover  \\\n",
       "Date       Line                                                \n",
       "2019-12-22 LSX - 1030 Packaging Line    0.420687    0.064168   \n",
       "           LSX - 1070-1 Packaging Line  0.484414    0.081965   \n",
       "           LSX - 1070-2 Packaging Line  0.333714    0.053591   \n",
       "           LSX - C65-1 Packaging Line   0.489151    0.138048   \n",
       "           LSX - C65-2 Packaging Line   0.652574    0.100262   \n",
       "...                                          ...         ...   \n",
       "2021-12-12 WAT - AIL2 Packaging         0.285589    0.187658   \n",
       "           WAT - LYO INSPECTION         0.323387    0.000000   \n",
       "           WAT - LYO Packaging Line 3   0.218169    0.391559   \n",
       "           WAT - LYO Packaging Line 9   0.373803    0.492465   \n",
       "           WAT - PFS Filling Line            NaN         NaN   \n",
       "\n",
       "                                        Unplanned_tech_loss  Availability %  \\\n",
       "Date       Line                                                               \n",
       "2019-12-22 LSX - 1030 Packaging Line               0.449807        0.478008   \n",
       "           LSX - 1070-1 Packaging Line             0.355933        0.601635   \n",
       "           LSX - 1070-2 Packaging Line             0.530042        0.395914   \n",
       "           LSX - C65-1 Packaging Line              0.338704        0.535639   \n",
       "           LSX - C65-2 Packaging Line              0.201653        0.715837   \n",
       "...                                                     ...             ...   \n",
       "2021-12-12 WAT - AIL2 Packaging                    0.527863        0.246672   \n",
       "           WAT - LYO INSPECTION                    0.561805        0.444221   \n",
       "           WAT - LYO Packaging Line 3              0.341620        0.107151   \n",
       "           WAT - LYO Packaging Line 9              0.082049        0.311634   \n",
       "           WAT - PFS Filling Line                       NaN             NaN   \n",
       "\n",
       "                                        Performance %  WeekOfYear    Year  \n",
       "Date       Line                                                            \n",
       "2019-12-22 LSX - 1030 Packaging Line         0.889270        50.0  2019.0  \n",
       "           LSX - 1070-1 Packaging Line       0.810673        50.0  2019.0  \n",
       "           LSX - 1070-2 Packaging Line       0.850691        50.0  2019.0  \n",
       "           LSX - C65-1 Packaging Line        0.918572        50.0  2019.0  \n",
       "           LSX - C65-2 Packaging Line        0.916370        50.0  2019.0  \n",
       "...                                               ...         ...     ...  \n",
       "2021-12-12 WAT - AIL2 Packaging              1.163458        49.0  2021.0  \n",
       "           WAT - LYO INSPECTION              0.727985        49.0  2021.0  \n",
       "           WAT - LYO Packaging Line 3        2.036994        49.0  2021.0  \n",
       "           WAT - LYO Packaging Line 9        1.253848        49.0  2021.0  \n",
       "           WAT - PFS Filling Line                 NaN        49.0  2021.0  \n",
       "\n",
       "[8856 rows x 7 columns]"
      ]
     },
     "execution_count": 11,
     "metadata": {},
     "output_type": "execute_result"
    }
   ],
   "source": [
    "df.groupby([pd.Grouper(freq='W'),'Line']).mean()"
   ]
  },
  {
   "cell_type": "code",
   "execution_count": 12,
   "metadata": {},
   "outputs": [],
   "source": [
    "df.sort_index(inplace=True)"
   ]
  },
  {
   "cell_type": "code",
   "execution_count": 13,
   "metadata": {},
   "outputs": [],
   "source": [
    "rolling_avg = df.groupby('Line')[['OEE %','Performance %','Availability %']].rolling(window=4).mean().reset_index()"
   ]
  },
  {
   "cell_type": "code",
   "execution_count": 81,
   "metadata": {
    "scrolled": true
   },
   "outputs": [],
   "source": [
    "# keep the data after this start date\n",
    "start_date = '2021-11-01'\n",
    "\n",
    "rolling_avg = rolling_avg[rolling_avg.Date >= start_date]\n",
    "\n",
    "# keep only the lines actively reporting OEE \n",
    "active_rolling = rolling_avg.dropna(subset={'OEE %'})"
   ]
  },
  {
   "cell_type": "code",
   "execution_count": 93,
   "metadata": {},
   "outputs": [
    {
     "name": "stderr",
     "output_type": "stream",
     "text": [
      "<ipython-input-93-235679fd5446>:2: SettingWithCopyWarning:\n",
      "\n",
      "\n",
      "A value is trying to be set on a copy of a slice from a DataFrame.\n",
      "Try using .loc[row_indexer,col_indexer] = value instead\n",
      "\n",
      "See the caveats in the documentation: https://pandas.pydata.org/pandas-docs/stable/user_guide/indexing.html#returning-a-view-versus-a-copy\n",
      "\n"
     ]
    },
    {
     "data": {
      "text/html": [
       "<div>\n",
       "<style scoped>\n",
       "    .dataframe tbody tr th:only-of-type {\n",
       "        vertical-align: middle;\n",
       "    }\n",
       "\n",
       "    .dataframe tbody tr th {\n",
       "        vertical-align: top;\n",
       "    }\n",
       "\n",
       "    .dataframe thead th {\n",
       "        text-align: right;\n",
       "    }\n",
       "</style>\n",
       "<table border=\"1\" class=\"dataframe\">\n",
       "  <thead>\n",
       "    <tr style=\"text-align: right;\">\n",
       "      <th></th>\n",
       "      <th>Line</th>\n",
       "      <th>Date</th>\n",
       "      <th>OEE %</th>\n",
       "      <th>Performance %</th>\n",
       "      <th>Availability %</th>\n",
       "      <th>Plant</th>\n",
       "    </tr>\n",
       "  </thead>\n",
       "  <tbody>\n",
       "    <tr>\n",
       "      <th>23</th>\n",
       "      <td>ELB - Extraction B12 1st cycle</td>\n",
       "      <td>2021-11-07</td>\n",
       "      <td>0.795330</td>\n",
       "      <td>1.725741</td>\n",
       "      <td>0.474908</td>\n",
       "      <td>ELB</td>\n",
       "    </tr>\n",
       "    <tr>\n",
       "      <th>24</th>\n",
       "      <td>ELB - Extraction B12 1st cycle</td>\n",
       "      <td>2021-11-14</td>\n",
       "      <td>0.820368</td>\n",
       "      <td>1.543931</td>\n",
       "      <td>0.535938</td>\n",
       "      <td>ELB</td>\n",
       "    </tr>\n",
       "    <tr>\n",
       "      <th>25</th>\n",
       "      <td>ELB - Extraction B12 1st cycle</td>\n",
       "      <td>2021-11-21</td>\n",
       "      <td>0.855380</td>\n",
       "      <td>1.586336</td>\n",
       "      <td>0.543582</td>\n",
       "      <td>ELB</td>\n",
       "    </tr>\n",
       "    <tr>\n",
       "      <th>26</th>\n",
       "      <td>ELB - Extraction B12 1st cycle</td>\n",
       "      <td>2021-11-28</td>\n",
       "      <td>0.716087</td>\n",
       "      <td>1.032890</td>\n",
       "      <td>0.320868</td>\n",
       "      <td>ELB</td>\n",
       "    </tr>\n",
       "    <tr>\n",
       "      <th>27</th>\n",
       "      <td>ELB - Extraction B12 1st cycle</td>\n",
       "      <td>2021-12-05</td>\n",
       "      <td>0.577270</td>\n",
       "      <td>0.576205</td>\n",
       "      <td>-0.007901</td>\n",
       "      <td>ELB</td>\n",
       "    </tr>\n",
       "    <tr>\n",
       "      <th>...</th>\n",
       "      <td>...</td>\n",
       "      <td>...</td>\n",
       "      <td>...</td>\n",
       "      <td>...</td>\n",
       "      <td>...</td>\n",
       "      <td>...</td>\n",
       "    </tr>\n",
       "    <tr>\n",
       "      <th>8909</th>\n",
       "      <td>WAT - LYO Packaging Line 9</td>\n",
       "      <td>2021-11-14</td>\n",
       "      <td>0.166988</td>\n",
       "      <td>0.769164</td>\n",
       "      <td>0.290127</td>\n",
       "      <td>WAT</td>\n",
       "    </tr>\n",
       "    <tr>\n",
       "      <th>8910</th>\n",
       "      <td>WAT - LYO Packaging Line 9</td>\n",
       "      <td>2021-11-21</td>\n",
       "      <td>0.222417</td>\n",
       "      <td>1.041534</td>\n",
       "      <td>0.236636</td>\n",
       "      <td>WAT</td>\n",
       "    </tr>\n",
       "    <tr>\n",
       "      <th>8911</th>\n",
       "      <td>WAT - LYO Packaging Line 9</td>\n",
       "      <td>2021-11-28</td>\n",
       "      <td>0.264629</td>\n",
       "      <td>1.263474</td>\n",
       "      <td>0.227115</td>\n",
       "      <td>WAT</td>\n",
       "    </tr>\n",
       "    <tr>\n",
       "      <th>8912</th>\n",
       "      <td>WAT - LYO Packaging Line 9</td>\n",
       "      <td>2021-12-05</td>\n",
       "      <td>0.306373</td>\n",
       "      <td>1.646607</td>\n",
       "      <td>0.203074</td>\n",
       "      <td>WAT</td>\n",
       "    </tr>\n",
       "    <tr>\n",
       "      <th>8913</th>\n",
       "      <td>WAT - LYO Packaging Line 9</td>\n",
       "      <td>2021-12-12</td>\n",
       "      <td>0.335051</td>\n",
       "      <td>1.562102</td>\n",
       "      <td>0.237266</td>\n",
       "      <td>WAT</td>\n",
       "    </tr>\n",
       "  </tbody>\n",
       "</table>\n",
       "<p>785 rows × 6 columns</p>\n",
       "</div>"
      ],
      "text/plain": [
       "                                Line       Date     OEE %  Performance %  \\\n",
       "23    ELB - Extraction B12 1st cycle 2021-11-07  0.795330       1.725741   \n",
       "24    ELB - Extraction B12 1st cycle 2021-11-14  0.820368       1.543931   \n",
       "25    ELB - Extraction B12 1st cycle 2021-11-21  0.855380       1.586336   \n",
       "26    ELB - Extraction B12 1st cycle 2021-11-28  0.716087       1.032890   \n",
       "27    ELB - Extraction B12 1st cycle 2021-12-05  0.577270       0.576205   \n",
       "...                              ...        ...       ...            ...   \n",
       "8909      WAT - LYO Packaging Line 9 2021-11-14  0.166988       0.769164   \n",
       "8910      WAT - LYO Packaging Line 9 2021-11-21  0.222417       1.041534   \n",
       "8911      WAT - LYO Packaging Line 9 2021-11-28  0.264629       1.263474   \n",
       "8912      WAT - LYO Packaging Line 9 2021-12-05  0.306373       1.646607   \n",
       "8913      WAT - LYO Packaging Line 9 2021-12-12  0.335051       1.562102   \n",
       "\n",
       "      Availability % Plant  \n",
       "23          0.474908   ELB  \n",
       "24          0.535938   ELB  \n",
       "25          0.543582   ELB  \n",
       "26          0.320868   ELB  \n",
       "27         -0.007901   ELB  \n",
       "...              ...   ...  \n",
       "8909        0.290127   WAT  \n",
       "8910        0.236636   WAT  \n",
       "8911        0.227115   WAT  \n",
       "8912        0.203074   WAT  \n",
       "8913        0.237266   WAT  \n",
       "\n",
       "[785 rows x 6 columns]"
      ]
     },
     "execution_count": 93,
     "metadata": {},
     "output_type": "execute_result"
    }
   ],
   "source": [
    "#  create a Plant column from first 3 chars of Line - will do properly later\n",
    "active_rolling['Plant'] = active_rolling.Line.str[:3]\n",
    "active_rolling"
   ]
  },
  {
   "cell_type": "code",
   "execution_count": 94,
   "metadata": {},
   "outputs": [
    {
     "data": {
      "application/vnd.plotly.v1+json": {
       "config": {
        "plotlyServerURL": "https://plot.ly"
       },
       "data": [
        {
         "hovertemplate": "Line=ELB - Extraction B12 1st cycle<br>Date=%{x}<br>OEE %=%{y}<extra></extra>",
         "legendgroup": "ELB - Extraction B12 1st cycle",
         "line": {
          "color": "#636efa",
          "dash": "solid"
         },
         "marker": {
          "symbol": "circle"
         },
         "mode": "lines",
         "name": "ELB - Extraction B12 1st cycle",
         "orientation": "v",
         "showlegend": true,
         "type": "scatter",
         "x": [
          "2021-11-07T00:00:00",
          "2021-11-14T00:00:00",
          "2021-11-21T00:00:00",
          "2021-11-28T00:00:00",
          "2021-12-05T00:00:00",
          "2021-12-12T00:00:00"
         ],
         "xaxis": "x",
         "y": [
          0.7953301349453592,
          0.8203680318757729,
          0.8553799366376776,
          0.7160872679580306,
          0.5772702280064567,
          0.4632502125187331
         ],
         "yaxis": "y"
        },
        {
         "hovertemplate": "Line=ELB - FERMENTATION E05<br>Date=%{x}<br>OEE %=%{y}<extra></extra>",
         "legendgroup": "ELB - FERMENTATION E05",
         "line": {
          "color": "#EF553B",
          "dash": "solid"
         },
         "marker": {
          "symbol": "circle"
         },
         "mode": "lines",
         "name": "ELB - FERMENTATION E05",
         "orientation": "v",
         "showlegend": true,
         "type": "scatter",
         "x": [
          "2021-11-07T00:00:00",
          "2021-11-14T00:00:00",
          "2021-11-21T00:00:00",
          "2021-11-28T00:00:00",
          "2021-12-05T00:00:00",
          "2021-12-12T00:00:00"
         ],
         "xaxis": "x",
         "y": [
          0.48654394748876656,
          0.5382038051698709,
          0.7220394830447443,
          0.6061769682434144,
          0.3659793221251267,
          0.3143194644440223
         ],
         "yaxis": "y"
        },
        {
         "hovertemplate": "Line=ELB - FERMENTATION E06<br>Date=%{x}<br>OEE %=%{y}<extra></extra>",
         "legendgroup": "ELB - FERMENTATION E06",
         "line": {
          "color": "#00cc96",
          "dash": "solid"
         },
         "marker": {
          "symbol": "circle"
         },
         "mode": "lines",
         "name": "ELB - FERMENTATION E06",
         "orientation": "v",
         "showlegend": true,
         "type": "scatter",
         "x": [
          "2021-11-07T00:00:00",
          "2021-11-14T00:00:00",
          "2021-11-21T00:00:00",
          "2021-11-28T00:00:00",
          "2021-12-05T00:00:00",
          "2021-12-12T00:00:00"
         ],
         "xaxis": "x",
         "y": [
          0.19180138677811545,
          0.19180138677811545,
          0.5664288880445795,
          0.5664288880445794,
          0.3746275012664639,
          0.37462750126646394
         ],
         "yaxis": "y"
        },
        {
         "hovertemplate": "Line=ELB - FERMENTATION E07<br>Date=%{x}<br>OEE %=%{y}<extra></extra>",
         "legendgroup": "ELB - FERMENTATION E07",
         "line": {
          "color": "#ab63fa",
          "dash": "solid"
         },
         "marker": {
          "symbol": "circle"
         },
         "mode": "lines",
         "name": "ELB - FERMENTATION E07",
         "orientation": "v",
         "showlegend": true,
         "type": "scatter",
         "x": [
          "2021-11-07T00:00:00",
          "2021-11-14T00:00:00",
          "2021-11-21T00:00:00",
          "2021-11-28T00:00:00",
          "2021-12-05T00:00:00",
          "2021-12-12T00:00:00"
         ],
         "xaxis": "x",
         "y": [
          0.6041030558877837,
          0.7285334636892021,
          0.7832953684511068,
          0.5625474924012156,
          0.3998238031914892,
          0.2753933953900708
         ],
         "yaxis": "y"
        },
        {
         "hovertemplate": "Line=ELB - FERMENTATION E08<br>Date=%{x}<br>OEE %=%{y}<extra></extra>",
         "legendgroup": "ELB - FERMENTATION E08",
         "line": {
          "color": "#FFA15A",
          "dash": "solid"
         },
         "marker": {
          "symbol": "circle"
         },
         "mode": "lines",
         "name": "ELB - FERMENTATION E08",
         "orientation": "v",
         "showlegend": true,
         "type": "scatter",
         "x": [
          "2021-11-07T00:00:00",
          "2021-11-14T00:00:00",
          "2021-11-21T00:00:00",
          "2021-11-28T00:00:00",
          "2021-12-05T00:00:00",
          "2021-12-12T00:00:00"
         ],
         "xaxis": "x",
         "y": [
          0.4531669563047425,
          0.74313561131994,
          0.6610364471862015,
          0.6120516717325225,
          0.5897609549138801,
          0.2997922998986827
         ],
         "yaxis": "y"
        },
        {
         "hovertemplate": "Line=ELB - FERMENTATION E09<br>Date=%{x}<br>OEE %=%{y}<extra></extra>",
         "legendgroup": "ELB - FERMENTATION E09",
         "line": {
          "color": "#19d3f3",
          "dash": "solid"
         },
         "marker": {
          "symbol": "circle"
         },
         "mode": "lines",
         "name": "ELB - FERMENTATION E09",
         "orientation": "v",
         "showlegend": true,
         "type": "scatter",
         "x": [
          "2021-11-07T00:00:00",
          "2021-11-14T00:00:00",
          "2021-11-21T00:00:00",
          "2021-11-28T00:00:00",
          "2021-12-05T00:00:00",
          "2021-12-12T00:00:00"
         ],
         "xaxis": "x",
         "y": [
          0.49377607492071474,
          0.7317536901689417,
          0.6428202111922446,
          0.7145445478723402,
          0.4551755635764943,
          0.2171979483282674
         ],
         "yaxis": "y"
        },
        {
         "hovertemplate": "Line=ELB - FERMENTATION E10<br>Date=%{x}<br>OEE %=%{y}<extra></extra>",
         "legendgroup": "ELB - FERMENTATION E10",
         "line": {
          "color": "#FF6692",
          "dash": "solid"
         },
         "marker": {
          "symbol": "circle"
         },
         "mode": "lines",
         "name": "ELB - FERMENTATION E10",
         "orientation": "v",
         "showlegend": true,
         "type": "scatter",
         "x": [
          "2021-11-07T00:00:00",
          "2021-11-14T00:00:00",
          "2021-11-21T00:00:00",
          "2021-11-28T00:00:00",
          "2021-12-05T00:00:00",
          "2021-12-12T00:00:00"
         ],
         "xaxis": "x",
         "y": [
          0.42501986812287534,
          0.6085305064207477,
          0.44520967941973455,
          0.5710457826747719,
          0.461602077001013,
          0.2780914387031407
         ],
         "yaxis": "y"
        },
        {
         "hovertemplate": "Line=ELB - FERMENTATION E11<br>Date=%{x}<br>OEE %=%{y}<extra></extra>",
         "legendgroup": "ELB - FERMENTATION E11",
         "line": {
          "color": "#B6E880",
          "dash": "solid"
         },
         "marker": {
          "symbol": "circle"
         },
         "mode": "lines",
         "name": "ELB - FERMENTATION E11",
         "orientation": "v",
         "showlegend": true,
         "type": "scatter",
         "x": [
          "2021-11-07T00:00:00",
          "2021-11-14T00:00:00",
          "2021-11-21T00:00:00",
          "2021-11-28T00:00:00",
          "2021-12-05T00:00:00",
          "2021-12-12T00:00:00"
         ],
         "xaxis": "x",
         "y": [
          0.2732160271023301,
          0.2830396719858154,
          0.2830396719858154,
          0.2830396719858154,
          0.009823644883485196,
          0
         ],
         "yaxis": "y"
        },
        {
         "hovertemplate": "Line=ELB - FERMENTATION V08<br>Date=%{x}<br>OEE %=%{y}<extra></extra>",
         "legendgroup": "ELB - FERMENTATION V08",
         "line": {
          "color": "#FF97FF",
          "dash": "solid"
         },
         "marker": {
          "symbol": "circle"
         },
         "mode": "lines",
         "name": "ELB - FERMENTATION V08",
         "orientation": "v",
         "showlegend": true,
         "type": "scatter",
         "x": [
          "2021-11-07T00:00:00",
          "2021-11-14T00:00:00",
          "2021-11-21T00:00:00",
          "2021-11-28T00:00:00",
          "2021-12-05T00:00:00",
          "2021-12-12T00:00:00"
         ],
         "xaxis": "x",
         "y": [
          0.33998388840073546,
          0.35840903564384324,
          0.4694717087328157,
          0.39562879803675843,
          0.20370021094402663,
          0.1852750637009189
         ],
         "yaxis": "y"
        },
        {
         "hovertemplate": "Line=ELB - FERMENTATION V09<br>Date=%{x}<br>OEE %=%{y}<extra></extra>",
         "legendgroup": "ELB - FERMENTATION V09",
         "line": {
          "color": "#FECB52",
          "dash": "solid"
         },
         "marker": {
          "symbol": "circle"
         },
         "mode": "lines",
         "name": "ELB - FERMENTATION V09",
         "orientation": "v",
         "showlegend": true,
         "type": "scatter",
         "x": [
          "2021-11-07T00:00:00",
          "2021-11-14T00:00:00",
          "2021-11-21T00:00:00",
          "2021-11-28T00:00:00",
          "2021-12-05T00:00:00",
          "2021-12-12T00:00:00"
         ],
         "xaxis": "x",
         "y": [
          0.6710270563248127,
          0.412058190567024,
          0.28512941446008994,
          0.31169202615914776,
          0.3101565972222221,
          0.1187398177736006
         ],
         "yaxis": "y"
        },
        {
         "hovertemplate": "Line=FRA - Devices AI, EMA 20<br>Date=%{x}<br>OEE %=%{y}<extra></extra>",
         "legendgroup": "FRA - Devices AI, EMA 20",
         "line": {
          "color": "#636efa",
          "dash": "solid"
         },
         "marker": {
          "symbol": "circle"
         },
         "mode": "lines",
         "name": "FRA - Devices AI, EMA 20",
         "orientation": "v",
         "showlegend": true,
         "type": "scatter",
         "x": [
          "2021-11-07T00:00:00",
          "2021-11-14T00:00:00"
         ],
         "xaxis": "x",
         "y": [
          0.4344473195880483,
          0.5062009320761116
         ],
         "yaxis": "y"
        },
        {
         "hovertemplate": "Line=FRA - Devices AI, FDLE<br>Date=%{x}<br>OEE %=%{y}<extra></extra>",
         "legendgroup": "FRA - Devices AI, FDLE",
         "line": {
          "color": "#EF553B",
          "dash": "solid"
         },
         "marker": {
          "symbol": "circle"
         },
         "mode": "lines",
         "name": "FRA - Devices AI, FDLE",
         "orientation": "v",
         "showlegend": true,
         "type": "scatter",
         "x": [
          "2021-11-07T00:00:00"
         ],
         "xaxis": "x",
         "y": [
          0.23606679524700042
         ],
         "yaxis": "y"
        },
        {
         "hovertemplate": "Line=FRA - Devices AI, Semi 120-1 Assembly<br>Date=%{x}<br>OEE %=%{y}<extra></extra>",
         "legendgroup": "FRA - Devices AI, Semi 120-1 Assembly",
         "line": {
          "color": "#00cc96",
          "dash": "solid"
         },
         "marker": {
          "symbol": "circle"
         },
         "mode": "lines",
         "name": "FRA - Devices AI, Semi 120-1 Assembly",
         "orientation": "v",
         "showlegend": true,
         "type": "scatter",
         "x": [
          "2021-12-12T00:00:00"
         ],
         "xaxis": "x",
         "y": [
          0.6365463678022032
         ],
         "yaxis": "y"
        },
        {
         "hovertemplate": "Line=FRA - Devices AI, Semi 120-1 Labeling<br>Date=%{x}<br>OEE %=%{y}<extra></extra>",
         "legendgroup": "FRA - Devices AI, Semi 120-1 Labeling",
         "line": {
          "color": "#ab63fa",
          "dash": "solid"
         },
         "marker": {
          "symbol": "circle"
         },
         "mode": "lines",
         "name": "FRA - Devices AI, Semi 120-1 Labeling",
         "orientation": "v",
         "showlegend": true,
         "type": "scatter",
         "x": [
          "2021-11-07T00:00:00",
          "2021-11-14T00:00:00"
         ],
         "xaxis": "x",
         "y": [
          0.3751069942084594,
          0.31042198477581284
         ],
         "yaxis": "y"
        },
        {
         "hovertemplate": "Line=FRA - Devices AI, Semi 120-1 Packaging<br>Date=%{x}<br>OEE %=%{y}<extra></extra>",
         "legendgroup": "FRA - Devices AI, Semi 120-1 Packaging",
         "line": {
          "color": "#FFA15A",
          "dash": "solid"
         },
         "marker": {
          "symbol": "circle"
         },
         "mode": "lines",
         "name": "FRA - Devices AI, Semi 120-1 Packaging",
         "orientation": "v",
         "showlegend": true,
         "type": "scatter",
         "x": [
          "2021-11-07T00:00:00",
          "2021-11-14T00:00:00",
          "2021-11-21T00:00:00"
         ],
         "xaxis": "x",
         "y": [
          0.2697429763979376,
          0.25683077175717506,
          0.271387346918708
         ],
         "yaxis": "y"
        },
        {
         "hovertemplate": "Line=FRA - Devices Pens, AL1<br>Date=%{x}<br>OEE %=%{y}<extra></extra>",
         "legendgroup": "FRA - Devices Pens, AL1",
         "line": {
          "color": "#19d3f3",
          "dash": "solid"
         },
         "marker": {
          "symbol": "circle"
         },
         "mode": "lines",
         "name": "FRA - Devices Pens, AL1",
         "orientation": "v",
         "showlegend": true,
         "type": "scatter",
         "x": [
          "2021-11-07T00:00:00",
          "2021-11-14T00:00:00",
          "2021-11-21T00:00:00",
          "2021-11-28T00:00:00",
          "2021-12-05T00:00:00",
          "2021-12-12T00:00:00"
         ],
         "xaxis": "x",
         "y": [
          0.5532401776313903,
          0.5581094965190371,
          0.5551945067139048,
          0.5580419386493889,
          0.5155550900172005,
          0.4075105768342257
         ],
         "yaxis": "y"
        },
        {
         "hovertemplate": "Line=FRA - Devices Pens, AL2<br>Date=%{x}<br>OEE %=%{y}<extra></extra>",
         "legendgroup": "FRA - Devices Pens, AL2",
         "line": {
          "color": "#FF6692",
          "dash": "solid"
         },
         "marker": {
          "symbol": "circle"
         },
         "mode": "lines",
         "name": "FRA - Devices Pens, AL2",
         "orientation": "v",
         "showlegend": true,
         "type": "scatter",
         "x": [
          "2021-11-07T00:00:00",
          "2021-11-14T00:00:00",
          "2021-11-21T00:00:00",
          "2021-11-28T00:00:00",
          "2021-12-05T00:00:00",
          "2021-12-12T00:00:00"
         ],
         "xaxis": "x",
         "y": [
          0.537807907288319,
          0.5453976063623931,
          0.5335620305522079,
          0.5341284016333081,
          0.5378408038516942,
          0.5301966478758581
         ],
         "yaxis": "y"
        },
        {
         "hovertemplate": "Line=FRA - Devices Pens, AL3<br>Date=%{x}<br>OEE %=%{y}<extra></extra>",
         "legendgroup": "FRA - Devices Pens, AL3",
         "line": {
          "color": "#B6E880",
          "dash": "solid"
         },
         "marker": {
          "symbol": "circle"
         },
         "mode": "lines",
         "name": "FRA - Devices Pens, AL3",
         "orientation": "v",
         "showlegend": true,
         "type": "scatter",
         "x": [
          "2021-11-28T00:00:00",
          "2021-12-05T00:00:00",
          "2021-12-12T00:00:00"
         ],
         "xaxis": "x",
         "y": [
          0.47713731240416846,
          0.48753544560185186,
          0.4757139565798184
         ],
         "yaxis": "y"
        },
        {
         "hovertemplate": "Line=FRA - Devices Pens, AL4<br>Date=%{x}<br>OEE %=%{y}<extra></extra>",
         "legendgroup": "FRA - Devices Pens, AL4",
         "line": {
          "color": "#FF97FF",
          "dash": "solid"
         },
         "marker": {
          "symbol": "circle"
         },
         "mode": "lines",
         "name": "FRA - Devices Pens, AL4",
         "orientation": "v",
         "showlegend": true,
         "type": "scatter",
         "x": [
          "2021-11-07T00:00:00",
          "2021-11-14T00:00:00",
          "2021-11-21T00:00:00",
          "2021-11-28T00:00:00",
          "2021-12-05T00:00:00"
         ],
         "xaxis": "x",
         "y": [
          0.41248135960037957,
          0.4268375517300092,
          0.41632142036426845,
          0.4415535603706542,
          0.5020575472890871
         ],
         "yaxis": "y"
        },
        {
         "hovertemplate": "Line=FRA - Devices Pens, AL5 Assembly<br>Date=%{x}<br>OEE %=%{y}<extra></extra>",
         "legendgroup": "FRA - Devices Pens, AL5 Assembly",
         "line": {
          "color": "#FECB52",
          "dash": "solid"
         },
         "marker": {
          "symbol": "circle"
         },
         "mode": "lines",
         "name": "FRA - Devices Pens, AL5 Assembly",
         "orientation": "v",
         "showlegend": true,
         "type": "scatter",
         "x": [
          "2021-11-07T00:00:00",
          "2021-11-14T00:00:00",
          "2021-11-21T00:00:00",
          "2021-11-28T00:00:00",
          "2021-12-05T00:00:00",
          "2021-12-12T00:00:00"
         ],
         "xaxis": "x",
         "y": [
          0.22807898909283672,
          0.23725286532494905,
          0.23951162274990812,
          0.21128255957920053,
          0.22557550053115838,
          0.18548836400771118
         ],
         "yaxis": "y"
        },
        {
         "hovertemplate": "Line=FRA - Devices Pens, AL5 Packaging 1<br>Date=%{x}<br>OEE %=%{y}<extra></extra>",
         "legendgroup": "FRA - Devices Pens, AL5 Packaging 1",
         "line": {
          "color": "#636efa",
          "dash": "solid"
         },
         "marker": {
          "symbol": "circle"
         },
         "mode": "lines",
         "name": "FRA - Devices Pens, AL5 Packaging 1",
         "orientation": "v",
         "showlegend": true,
         "type": "scatter",
         "x": [
          "2021-12-05T00:00:00",
          "2021-12-12T00:00:00"
         ],
         "xaxis": "x",
         "y": [
          0.413713224644108,
          0.403401288362467
         ],
         "yaxis": "y"
        },
        {
         "hovertemplate": "Line=FRA - Devices Pens, AL5 Packaging 2<br>Date=%{x}<br>OEE %=%{y}<extra></extra>",
         "legendgroup": "FRA - Devices Pens, AL5 Packaging 2",
         "line": {
          "color": "#EF553B",
          "dash": "solid"
         },
         "marker": {
          "symbol": "circle"
         },
         "mode": "lines",
         "name": "FRA - Devices Pens, AL5 Packaging 2",
         "orientation": "v",
         "showlegend": true,
         "type": "scatter",
         "x": [
          "2021-11-07T00:00:00",
          "2021-11-14T00:00:00",
          "2021-11-21T00:00:00",
          "2021-11-28T00:00:00",
          "2021-12-05T00:00:00",
          "2021-12-12T00:00:00"
         ],
         "xaxis": "x",
         "y": [
          0.3587164244225766,
          0.36329562706980795,
          0.3815541673300952,
          0.4290784250008246,
          0.42425375942432453,
          0.3456977979756349
         ],
         "yaxis": "y"
        },
        {
         "hovertemplate": "Line=FRA - Devices Pens, AL6<br>Date=%{x}<br>OEE %=%{y}<extra></extra>",
         "legendgroup": "FRA - Devices Pens, AL6",
         "line": {
          "color": "#00cc96",
          "dash": "solid"
         },
         "marker": {
          "symbol": "circle"
         },
         "mode": "lines",
         "name": "FRA - Devices Pens, AL6",
         "orientation": "v",
         "showlegend": true,
         "type": "scatter",
         "x": [
          "2021-11-07T00:00:00",
          "2021-11-14T00:00:00",
          "2021-11-21T00:00:00",
          "2021-11-28T00:00:00",
          "2021-12-05T00:00:00",
          "2021-12-12T00:00:00"
         ],
         "xaxis": "x",
         "y": [
          0.43861415523594366,
          0.44522244559632357,
          0.4451036876571422,
          0.45969551595438973,
          0.41160629968915063,
          0.347864500808818
         ],
         "yaxis": "y"
        },
        {
         "hovertemplate": "Line=FRA - FF NAPA, M24 Inspection<br>Date=%{x}<br>OEE %=%{y}<extra></extra>",
         "legendgroup": "FRA - FF NAPA, M24 Inspection",
         "line": {
          "color": "#ab63fa",
          "dash": "solid"
         },
         "marker": {
          "symbol": "circle"
         },
         "mode": "lines",
         "name": "FRA - FF NAPA, M24 Inspection",
         "orientation": "v",
         "showlegend": true,
         "type": "scatter",
         "x": [
          "2021-11-07T00:00:00",
          "2021-11-14T00:00:00",
          "2021-11-21T00:00:00",
          "2021-11-28T00:00:00",
          "2021-12-05T00:00:00",
          "2021-12-12T00:00:00"
         ],
         "xaxis": "x",
         "y": [
          0.47787646275424256,
          0.5083249781190204,
          0.5073024921364685,
          0.5114910721114081,
          0.5650378087515378,
          0.5226299772648871
         ],
         "yaxis": "y"
        },
        {
         "hovertemplate": "Line=FRA - FF NAPA, M31 Inspection<br>Date=%{x}<br>OEE %=%{y}<extra></extra>",
         "legendgroup": "FRA - FF NAPA, M31 Inspection",
         "line": {
          "color": "#FFA15A",
          "dash": "solid"
         },
         "marker": {
          "symbol": "circle"
         },
         "mode": "lines",
         "name": "FRA - FF NAPA, M31 Inspection",
         "orientation": "v",
         "showlegend": true,
         "type": "scatter",
         "x": [
          "2021-11-07T00:00:00",
          "2021-11-14T00:00:00",
          "2021-11-21T00:00:00",
          "2021-11-28T00:00:00",
          "2021-12-05T00:00:00"
         ],
         "xaxis": "x",
         "y": [
          0.5528451607256928,
          0.5516050032013919,
          0.5432435391284982,
          0.5380256368213456,
          0.40410931817210227
         ],
         "yaxis": "y"
        },
        {
         "hovertemplate": "Line=FRA - FF NAPA, M46 Filling<br>Date=%{x}<br>OEE %=%{y}<extra></extra>",
         "legendgroup": "FRA - FF NAPA, M46 Filling",
         "line": {
          "color": "#19d3f3",
          "dash": "solid"
         },
         "marker": {
          "symbol": "circle"
         },
         "mode": "lines",
         "name": "FRA - FF NAPA, M46 Filling",
         "orientation": "v",
         "showlegend": true,
         "type": "scatter",
         "x": [
          "2021-11-07T00:00:00",
          "2021-11-14T00:00:00",
          "2021-11-21T00:00:00",
          "2021-11-28T00:00:00",
          "2021-12-05T00:00:00",
          "2021-12-12T00:00:00"
         ],
         "xaxis": "x",
         "y": [
          0.2756936564940319,
          0.3050719442282702,
          0.3009782451914807,
          0.2942555707910737,
          0.30407814230976704,
          0.26686904765433755
         ],
         "yaxis": "y"
        },
        {
         "hovertemplate": "Line=FRA - FF NAPA, M48 Inspection<br>Date=%{x}<br>OEE %=%{y}<extra></extra>",
         "legendgroup": "FRA - FF NAPA, M48 Inspection",
         "line": {
          "color": "#FF6692",
          "dash": "solid"
         },
         "marker": {
          "symbol": "circle"
         },
         "mode": "lines",
         "name": "FRA - FF NAPA, M48 Inspection",
         "orientation": "v",
         "showlegend": true,
         "type": "scatter",
         "x": [
          "2021-11-07T00:00:00",
          "2021-11-14T00:00:00",
          "2021-11-21T00:00:00",
          "2021-11-28T00:00:00",
          "2021-12-05T00:00:00",
          "2021-12-12T00:00:00"
         ],
         "xaxis": "x",
         "y": [
          0.4873012456030822,
          0.5184171790010128,
          0.5401082553716594,
          0.5639595381035079,
          0.5537159975025612,
          0.545121866038055
         ],
         "yaxis": "y"
        },
        {
         "hovertemplate": "Line=FRA - FF NAPA, M53 Filling<br>Date=%{x}<br>OEE %=%{y}<extra></extra>",
         "legendgroup": "FRA - FF NAPA, M53 Filling",
         "line": {
          "color": "#B6E880",
          "dash": "solid"
         },
         "marker": {
          "symbol": "circle"
         },
         "mode": "lines",
         "name": "FRA - FF NAPA, M53 Filling",
         "orientation": "v",
         "showlegend": true,
         "type": "scatter",
         "x": [
          "2021-11-07T00:00:00"
         ],
         "xaxis": "x",
         "y": [
          0.2320031305980015
         ],
         "yaxis": "y"
        },
        {
         "hovertemplate": "Line=FRA - FF NLP, M21 Filling<br>Date=%{x}<br>OEE %=%{y}<extra></extra>",
         "legendgroup": "FRA - FF NLP, M21 Filling",
         "line": {
          "color": "#FF97FF",
          "dash": "solid"
         },
         "marker": {
          "symbol": "circle"
         },
         "mode": "lines",
         "name": "FRA - FF NLP, M21 Filling",
         "orientation": "v",
         "showlegend": true,
         "type": "scatter",
         "x": [
          "2021-11-07T00:00:00",
          "2021-11-14T00:00:00",
          "2021-11-21T00:00:00",
          "2021-11-28T00:00:00"
         ],
         "xaxis": "x",
         "y": [
          0.6859239036454554,
          0.5934110242734056,
          0.598830075729573,
          0.6045155352150119
         ],
         "yaxis": "y"
        },
        {
         "hovertemplate": "Line=FRA - FF NLP, M21 Inspection<br>Date=%{x}<br>OEE %=%{y}<extra></extra>",
         "legendgroup": "FRA - FF NLP, M21 Inspection",
         "line": {
          "color": "#FECB52",
          "dash": "solid"
         },
         "marker": {
          "symbol": "circle"
         },
         "mode": "lines",
         "name": "FRA - FF NLP, M21 Inspection",
         "orientation": "v",
         "showlegend": true,
         "type": "scatter",
         "x": [
          "2021-11-07T00:00:00",
          "2021-11-14T00:00:00",
          "2021-11-21T00:00:00",
          "2021-11-28T00:00:00"
         ],
         "xaxis": "x",
         "y": [
          0.6173345757210198,
          0.49751654808866347,
          0.5056775103902507,
          0.5122692828341013
         ],
         "yaxis": "y"
        },
        {
         "hovertemplate": "Line=FRA - FF NLP, M22 Filling<br>Date=%{x}<br>OEE %=%{y}<extra></extra>",
         "legendgroup": "FRA - FF NLP, M22 Filling",
         "line": {
          "color": "#636efa",
          "dash": "solid"
         },
         "marker": {
          "symbol": "circle"
         },
         "mode": "lines",
         "name": "FRA - FF NLP, M22 Filling",
         "orientation": "v",
         "showlegend": true,
         "type": "scatter",
         "x": [
          "2021-11-07T00:00:00",
          "2021-11-14T00:00:00",
          "2021-11-21T00:00:00"
         ],
         "xaxis": "x",
         "y": [
          0.5782847932331645,
          0.5820624488623921,
          0.596402254158957
         ],
         "yaxis": "y"
        },
        {
         "hovertemplate": "Line=FRA - FF NLP, M22 Inspection<br>Date=%{x}<br>OEE %=%{y}<extra></extra>",
         "legendgroup": "FRA - FF NLP, M22 Inspection",
         "line": {
          "color": "#EF553B",
          "dash": "solid"
         },
         "marker": {
          "symbol": "circle"
         },
         "mode": "lines",
         "name": "FRA - FF NLP, M22 Inspection",
         "orientation": "v",
         "showlegend": true,
         "type": "scatter",
         "x": [
          "2021-11-07T00:00:00",
          "2021-11-14T00:00:00",
          "2021-11-21T00:00:00"
         ],
         "xaxis": "x",
         "y": [
          0.49140017530946056,
          0.5003875277366864,
          0.5125789226526276
         ],
         "yaxis": "y"
        },
        {
         "hovertemplate": "Line=FRA - FF Packaging, HV01<br>Date=%{x}<br>OEE %=%{y}<extra></extra>",
         "legendgroup": "FRA - FF Packaging, HV01",
         "line": {
          "color": "#00cc96",
          "dash": "solid"
         },
         "marker": {
          "symbol": "circle"
         },
         "mode": "lines",
         "name": "FRA - FF Packaging, HV01",
         "orientation": "v",
         "showlegend": true,
         "type": "scatter",
         "x": [
          "2021-11-07T00:00:00",
          "2021-11-14T00:00:00",
          "2021-11-21T00:00:00"
         ],
         "xaxis": "x",
         "y": [
          0.35671562942906365,
          0.3856848803701456,
          0.3648511774876622
         ],
         "yaxis": "y"
        },
        {
         "hovertemplate": "Line=FRA - FF Packaging, VL32<br>Date=%{x}<br>OEE %=%{y}<extra></extra>",
         "legendgroup": "FRA - FF Packaging, VL32",
         "line": {
          "color": "#ab63fa",
          "dash": "solid"
         },
         "marker": {
          "symbol": "circle"
         },
         "mode": "lines",
         "name": "FRA - FF Packaging, VL32",
         "orientation": "v",
         "showlegend": true,
         "type": "scatter",
         "x": [
          "2021-11-21T00:00:00",
          "2021-11-28T00:00:00",
          "2021-12-05T00:00:00"
         ],
         "xaxis": "x",
         "y": [
          0.2931832650481371,
          0.22832026620534535,
          0.18197636503376566
         ],
         "yaxis": "y"
        },
        {
         "hovertemplate": "Line=FRA - FF Packaging, VL44<br>Date=%{x}<br>OEE %=%{y}<extra></extra>",
         "legendgroup": "FRA - FF Packaging, VL44",
         "line": {
          "color": "#FFA15A",
          "dash": "solid"
         },
         "marker": {
          "symbol": "circle"
         },
         "mode": "lines",
         "name": "FRA - FF Packaging, VL44",
         "orientation": "v",
         "showlegend": true,
         "type": "scatter",
         "x": [
          "2021-11-14T00:00:00",
          "2021-11-21T00:00:00",
          "2021-11-28T00:00:00",
          "2021-12-05T00:00:00",
          "2021-12-12T00:00:00"
         ],
         "xaxis": "x",
         "y": [
          0.16723349763440828,
          0.1673219777747952,
          0.19664908961981925,
          0.20133112288960972,
          0.21256658858294195
         ],
         "yaxis": "y"
        },
        {
         "hovertemplate": "Line=FRA - FF Packaging, VL47<br>Date=%{x}<br>OEE %=%{y}<extra></extra>",
         "legendgroup": "FRA - FF Packaging, VL47",
         "line": {
          "color": "#19d3f3",
          "dash": "solid"
         },
         "marker": {
          "symbol": "circle"
         },
         "mode": "lines",
         "name": "FRA - FF Packaging, VL47",
         "orientation": "v",
         "showlegend": true,
         "type": "scatter",
         "x": [
          "2021-11-21T00:00:00",
          "2021-11-28T00:00:00",
          "2021-12-05T00:00:00",
          "2021-12-12T00:00:00"
         ],
         "xaxis": "x",
         "y": [
          0.29110645553890585,
          0.2551865277354918,
          0.2341597651980266,
          0.21579564163835918
         ],
         "yaxis": "y"
        },
        {
         "hovertemplate": "Line=FRA - FF Packaging, VL50<br>Date=%{x}<br>OEE %=%{y}<extra></extra>",
         "legendgroup": "FRA - FF Packaging, VL50",
         "line": {
          "color": "#FF6692",
          "dash": "solid"
         },
         "marker": {
          "symbol": "circle"
         },
         "mode": "lines",
         "name": "FRA - FF Packaging, VL50",
         "orientation": "v",
         "showlegend": true,
         "type": "scatter",
         "x": [
          "2021-11-28T00:00:00",
          "2021-12-05T00:00:00",
          "2021-12-12T00:00:00"
         ],
         "xaxis": "x",
         "y": [
          0.5466201875279267,
          0.5390054029414898,
          0.5359021037486389
         ],
         "yaxis": "y"
        },
        {
         "hovertemplate": "Line=FRA - FF Packaging, VL56<br>Date=%{x}<br>OEE %=%{y}<extra></extra>",
         "legendgroup": "FRA - FF Packaging, VL56",
         "line": {
          "color": "#B6E880",
          "dash": "solid"
         },
         "marker": {
          "symbol": "circle"
         },
         "mode": "lines",
         "name": "FRA - FF Packaging, VL56",
         "orientation": "v",
         "showlegend": true,
         "type": "scatter",
         "x": [
          "2021-11-07T00:00:00",
          "2021-11-14T00:00:00",
          "2021-11-21T00:00:00",
          "2021-11-28T00:00:00",
          "2021-12-05T00:00:00",
          "2021-12-12T00:00:00"
         ],
         "xaxis": "x",
         "y": [
          0.6185009122781148,
          0.5961471848764498,
          0.5919526441676817,
          0.5788668330037969,
          0.5856542441334385,
          0.5982022901448005
         ],
         "yaxis": "y"
        },
        {
         "hovertemplate": "Line=FRA - FF Packaging, VL6<br>Date=%{x}<br>OEE %=%{y}<extra></extra>",
         "legendgroup": "FRA - FF Packaging, VL6",
         "line": {
          "color": "#FF97FF",
          "dash": "solid"
         },
         "marker": {
          "symbol": "circle"
         },
         "mode": "lines",
         "name": "FRA - FF Packaging, VL6",
         "orientation": "v",
         "showlegend": true,
         "type": "scatter",
         "x": [
          "2021-11-07T00:00:00",
          "2021-11-14T00:00:00",
          "2021-11-21T00:00:00",
          "2021-11-28T00:00:00",
          "2021-12-05T00:00:00",
          "2021-12-12T00:00:00"
         ],
         "xaxis": "x",
         "y": [
          0.2291950247101923,
          0.22795592039068993,
          0.1849713930387205,
          0.18634686699609498,
          0.15628206306215095,
          0.13301838427995782
         ],
         "yaxis": "y"
        },
        {
         "hovertemplate": "Line=FRA - FF Packaging, VL62<br>Date=%{x}<br>OEE %=%{y}<extra></extra>",
         "legendgroup": "FRA - FF Packaging, VL62",
         "line": {
          "color": "#FECB52",
          "dash": "solid"
         },
         "marker": {
          "symbol": "circle"
         },
         "mode": "lines",
         "name": "FRA - FF Packaging, VL62",
         "orientation": "v",
         "showlegend": true,
         "type": "scatter",
         "x": [
          "2021-11-28T00:00:00",
          "2021-12-05T00:00:00",
          "2021-12-12T00:00:00"
         ],
         "xaxis": "x",
         "y": [
          0.09117263124386318,
          0.10415237442871268,
          0.0943534566833878
         ],
         "yaxis": "y"
        },
        {
         "hovertemplate": "Line=FRA - FF Packaging, VL9<br>Date=%{x}<br>OEE %=%{y}<extra></extra>",
         "legendgroup": "FRA - FF Packaging, VL9",
         "line": {
          "color": "#636efa",
          "dash": "solid"
         },
         "marker": {
          "symbol": "circle"
         },
         "mode": "lines",
         "name": "FRA - FF Packaging, VL9",
         "orientation": "v",
         "showlegend": true,
         "type": "scatter",
         "x": [
          "2021-11-07T00:00:00",
          "2021-11-14T00:00:00",
          "2021-11-21T00:00:00",
          "2021-11-28T00:00:00",
          "2021-12-05T00:00:00",
          "2021-12-12T00:00:00"
         ],
         "xaxis": "x",
         "y": [
          0.349731076670643,
          0.37962953196250443,
          0.39246371042577655,
          0.4048137831634497,
          0.3976494313115978,
          0.40588260548948557
         ],
         "yaxis": "y"
        },
        {
         "hovertemplate": "Line=FRA - Pharma, M26 Filling<br>Date=%{x}<br>OEE %=%{y}<extra></extra>",
         "legendgroup": "FRA - Pharma, M26 Filling",
         "line": {
          "color": "#EF553B",
          "dash": "solid"
         },
         "marker": {
          "symbol": "circle"
         },
         "mode": "lines",
         "name": "FRA - Pharma, M26 Filling",
         "orientation": "v",
         "showlegend": true,
         "type": "scatter",
         "x": [
          "2021-11-07T00:00:00",
          "2021-11-14T00:00:00",
          "2021-11-21T00:00:00",
          "2021-11-28T00:00:00",
          "2021-12-05T00:00:00",
          "2021-12-12T00:00:00"
         ],
         "xaxis": "x",
         "y": [
          0.23001363062104227,
          0.23401658426801947,
          0.25274052488134796,
          0.2830109484692529,
          0.2777090276998246,
          0.22214978531302967
         ],
         "yaxis": "y"
        },
        {
         "hovertemplate": "Line=FRA - Pharma, M52 Inspection<br>Date=%{x}<br>OEE %=%{y}<extra></extra>",
         "legendgroup": "FRA - Pharma, M52 Inspection",
         "line": {
          "color": "#00cc96",
          "dash": "solid"
         },
         "marker": {
          "symbol": "circle"
         },
         "mode": "lines",
         "name": "FRA - Pharma, M52 Inspection",
         "orientation": "v",
         "showlegend": true,
         "type": "scatter",
         "x": [
          "2021-11-07T00:00:00",
          "2021-11-14T00:00:00",
          "2021-11-21T00:00:00",
          "2021-11-28T00:00:00",
          "2021-12-05T00:00:00",
          "2021-12-12T00:00:00"
         ],
         "xaxis": "x",
         "y": [
          0.11228641254343978,
          0.09840380824079144,
          0.05111239888165874,
          0.006118490268279838,
          0.01283586107553389,
          0.007993476259293692
         ],
         "yaxis": "y"
        },
        {
         "hovertemplate": "Line=FRA - Pharma, M58 Inspection<br>Date=%{x}<br>OEE %=%{y}<extra></extra>",
         "legendgroup": "FRA - Pharma, M58 Inspection",
         "line": {
          "color": "#ab63fa",
          "dash": "solid"
         },
         "marker": {
          "symbol": "circle"
         },
         "mode": "lines",
         "name": "FRA - Pharma, M58 Inspection",
         "orientation": "v",
         "showlegend": true,
         "type": "scatter",
         "x": [
          "2021-11-07T00:00:00",
          "2021-11-14T00:00:00",
          "2021-11-21T00:00:00",
          "2021-11-28T00:00:00",
          "2021-12-05T00:00:00",
          "2021-12-12T00:00:00"
         ],
         "xaxis": "x",
         "y": [
          0.14733962993954436,
          0.06410584952448435,
          0.040002672802014784,
          0.11660895326855475,
          0.14165699935061818,
          0.13927477569408755
         ],
         "yaxis": "y"
        },
        {
         "hovertemplate": "Line=HZG - Blister packaging line 1<br>Date=%{x}<br>OEE %=%{y}<extra></extra>",
         "legendgroup": "HZG - Blister packaging line 1",
         "line": {
          "color": "#FFA15A",
          "dash": "solid"
         },
         "marker": {
          "symbol": "circle"
         },
         "mode": "lines",
         "name": "HZG - Blister packaging line 1",
         "orientation": "v",
         "showlegend": true,
         "type": "scatter",
         "x": [
          "2021-11-07T00:00:00",
          "2021-11-14T00:00:00",
          "2021-11-21T00:00:00",
          "2021-11-28T00:00:00",
          "2021-12-05T00:00:00",
          "2021-12-12T00:00:00"
         ],
         "xaxis": "x",
         "y": [
          0.7018031708658787,
          0.6992221270864843,
          0.7160820321228248,
          0.7307488534634917,
          0.7439333174980967,
          0.7629832025089193
         ],
         "yaxis": "y"
        },
        {
         "hovertemplate": "Line=HZG - Blister packaging line 2<br>Date=%{x}<br>OEE %=%{y}<extra></extra>",
         "legendgroup": "HZG - Blister packaging line 2",
         "line": {
          "color": "#19d3f3",
          "dash": "solid"
         },
         "marker": {
          "symbol": "circle"
         },
         "mode": "lines",
         "name": "HZG - Blister packaging line 2",
         "orientation": "v",
         "showlegend": true,
         "type": "scatter",
         "x": [
          "2021-11-07T00:00:00",
          "2021-11-14T00:00:00",
          "2021-11-21T00:00:00",
          "2021-11-28T00:00:00",
          "2021-12-05T00:00:00",
          "2021-12-12T00:00:00"
         ],
         "xaxis": "x",
         "y": [
          0.6757724835087197,
          0.6724360655640215,
          0.6782195522765276,
          0.6552139148326228,
          0.6395780740588133,
          0.6231416557900111
         ],
         "yaxis": "y"
        },
        {
         "hovertemplate": "Line=HZG - Blister packaging line 3<br>Date=%{x}<br>OEE %=%{y}<extra></extra>",
         "legendgroup": "HZG - Blister packaging line 3",
         "line": {
          "color": "#FF6692",
          "dash": "solid"
         },
         "marker": {
          "symbol": "circle"
         },
         "mode": "lines",
         "name": "HZG - Blister packaging line 3",
         "orientation": "v",
         "showlegend": true,
         "type": "scatter",
         "x": [
          "2021-12-05T00:00:00"
         ],
         "xaxis": "x",
         "y": [
          0.4577758504618077
         ],
         "yaxis": "y"
        },
        {
         "hovertemplate": "Line=HZG - Blister packaging line 4<br>Date=%{x}<br>OEE %=%{y}<extra></extra>",
         "legendgroup": "HZG - Blister packaging line 4",
         "line": {
          "color": "#B6E880",
          "dash": "solid"
         },
         "marker": {
          "symbol": "circle"
         },
         "mode": "lines",
         "name": "HZG - Blister packaging line 4",
         "orientation": "v",
         "showlegend": true,
         "type": "scatter",
         "x": [
          "2021-11-07T00:00:00",
          "2021-11-14T00:00:00",
          "2021-11-21T00:00:00",
          "2021-11-28T00:00:00",
          "2021-12-05T00:00:00",
          "2021-12-12T00:00:00"
         ],
         "xaxis": "x",
         "y": [
          0.6678927087457531,
          0.6507664027522596,
          0.650524101084847,
          0.6836435934709219,
          0.6829263949238635,
          0.7015384937414311
         ],
         "yaxis": "y"
        },
        {
         "hovertemplate": "Line=HZG - Bottle Packaging line 6<br>Date=%{x}<br>OEE %=%{y}<extra></extra>",
         "legendgroup": "HZG - Bottle Packaging line 6",
         "line": {
          "color": "#FF97FF",
          "dash": "solid"
         },
         "marker": {
          "symbol": "circle"
         },
         "mode": "lines",
         "name": "HZG - Bottle Packaging line 6",
         "orientation": "v",
         "showlegend": true,
         "type": "scatter",
         "x": [
          "2021-11-14T00:00:00",
          "2021-11-21T00:00:00",
          "2021-11-28T00:00:00"
         ],
         "xaxis": "x",
         "y": [
          0.6764877029256365,
          0.6946117826035227,
          0.7180505806945421
         ],
         "yaxis": "y"
        },
        {
         "hovertemplate": "Line=HZG - Bottle Packaging line 7<br>Date=%{x}<br>OEE %=%{y}<extra></extra>",
         "legendgroup": "HZG - Bottle Packaging line 7",
         "line": {
          "color": "#FECB52",
          "dash": "solid"
         },
         "marker": {
          "symbol": "circle"
         },
         "mode": "lines",
         "name": "HZG - Bottle Packaging line 7",
         "orientation": "v",
         "showlegend": true,
         "type": "scatter",
         "x": [
          "2021-11-07T00:00:00",
          "2021-11-14T00:00:00",
          "2021-11-21T00:00:00",
          "2021-11-28T00:00:00",
          "2021-12-05T00:00:00",
          "2021-12-12T00:00:00"
         ],
         "xaxis": "x",
         "y": [
          0.6823974354422209,
          0.7120086765378014,
          0.7654798403563454,
          0.7731585126535713,
          0.8097702904156101,
          0.8328979991308831
         ],
         "yaxis": "y"
        },
        {
         "hovertemplate": "Line=HZG - Semi-automatic Packaging line<br>Date=%{x}<br>OEE %=%{y}<extra></extra>",
         "legendgroup": "HZG - Semi-automatic Packaging line",
         "line": {
          "color": "#636efa",
          "dash": "solid"
         },
         "marker": {
          "symbol": "circle"
         },
         "mode": "lines",
         "name": "HZG - Semi-automatic Packaging line",
         "orientation": "v",
         "showlegend": true,
         "type": "scatter",
         "x": [
          "2021-11-07T00:00:00",
          "2021-11-14T00:00:00",
          "2021-11-21T00:00:00",
          "2021-11-28T00:00:00",
          "2021-12-05T00:00:00",
          "2021-12-12T00:00:00"
         ],
         "xaxis": "x",
         "y": [
          0.6528730040280966,
          0.6414445401225742,
          0.6324256753105859,
          0.6875666205259519,
          0.6442905825190166,
          0.6394759258577531
         ],
         "yaxis": "y"
        },
        {
         "hovertemplate": "Line=LLB - Bosch-1 Packaging (CEPH)<br>Date=%{x}<br>OEE %=%{y}<extra></extra>",
         "legendgroup": "LLB - Bosch-1 Packaging (CEPH)",
         "line": {
          "color": "#EF553B",
          "dash": "solid"
         },
         "marker": {
          "symbol": "circle"
         },
         "mode": "lines",
         "name": "LLB - Bosch-1 Packaging (CEPH)",
         "orientation": "v",
         "showlegend": true,
         "type": "scatter",
         "x": [
          "2021-11-07T00:00:00",
          "2021-11-14T00:00:00",
          "2021-11-21T00:00:00",
          "2021-11-28T00:00:00",
          "2021-12-05T00:00:00",
          "2021-12-12T00:00:00"
         ],
         "xaxis": "x",
         "y": [
          0.6429595430679779,
          0.6356164185337521,
          0.6543347183783133,
          0.6368980754405824,
          0.6155197375606465,
          0.6098340675627176
         ],
         "yaxis": "y"
        },
        {
         "hovertemplate": "Line=LLB - Bosch-1 Packaging (PENC)<br>Date=%{x}<br>OEE %=%{y}<extra></extra>",
         "legendgroup": "LLB - Bosch-1 Packaging (PENC)",
         "line": {
          "color": "#00cc96",
          "dash": "solid"
         },
         "marker": {
          "symbol": "circle"
         },
         "mode": "lines",
         "name": "LLB - Bosch-1 Packaging (PENC)",
         "orientation": "v",
         "showlegend": true,
         "type": "scatter",
         "x": [
          "2021-11-07T00:00:00",
          "2021-11-14T00:00:00",
          "2021-11-21T00:00:00",
          "2021-11-28T00:00:00",
          "2021-12-05T00:00:00",
          "2021-12-12T00:00:00"
         ],
         "xaxis": "x",
         "y": [
          0.5150584309959311,
          0.439219523907024,
          0.49709972553722565,
          0.5285583005895507,
          0.5725060693810694,
          0.5368035223789147
         ],
         "yaxis": "y"
        },
        {
         "hovertemplate": "Line=LLB - Bosch-1 Packaging (SOLD)<br>Date=%{x}<br>OEE %=%{y}<extra></extra>",
         "legendgroup": "LLB - Bosch-1 Packaging (SOLD)",
         "line": {
          "color": "#ab63fa",
          "dash": "solid"
         },
         "marker": {
          "symbol": "circle"
         },
         "mode": "lines",
         "name": "LLB - Bosch-1 Packaging (SOLD)",
         "orientation": "v",
         "showlegend": true,
         "type": "scatter",
         "x": [
          "2021-12-12T00:00:00"
         ],
         "xaxis": "x",
         "y": [
          0.365768451641569
         ],
         "yaxis": "y"
        },
        {
         "hovertemplate": "Line=LLB - Bosch-2 Packaging (SOLD)<br>Date=%{x}<br>OEE %=%{y}<extra></extra>",
         "legendgroup": "LLB - Bosch-2 Packaging (SOLD)",
         "line": {
          "color": "#FFA15A",
          "dash": "solid"
         },
         "marker": {
          "symbol": "circle"
         },
         "mode": "lines",
         "name": "LLB - Bosch-2 Packaging (SOLD)",
         "orientation": "v",
         "showlegend": true,
         "type": "scatter",
         "x": [
          "2021-11-07T00:00:00",
          "2021-11-14T00:00:00",
          "2021-11-21T00:00:00",
          "2021-11-28T00:00:00",
          "2021-12-05T00:00:00",
          "2021-12-12T00:00:00"
         ],
         "xaxis": "x",
         "y": [
          0.5434873118358479,
          0.5466930827132959,
          0.5462731849312591,
          0.5545640048225285,
          0.5972337644414323,
          0.5949242172164146
         ],
         "yaxis": "y"
        },
        {
         "hovertemplate": "Line=LLB - Bosch-3 Packaging (SOLD)<br>Date=%{x}<br>OEE %=%{y}<extra></extra>",
         "legendgroup": "LLB - Bosch-3 Packaging (SOLD)",
         "line": {
          "color": "#19d3f3",
          "dash": "solid"
         },
         "marker": {
          "symbol": "circle"
         },
         "mode": "lines",
         "name": "LLB - Bosch-3 Packaging (SOLD)",
         "orientation": "v",
         "showlegend": true,
         "type": "scatter",
         "x": [
          "2021-11-07T00:00:00",
          "2021-11-14T00:00:00",
          "2021-11-21T00:00:00",
          "2021-11-28T00:00:00",
          "2021-12-05T00:00:00",
          "2021-12-12T00:00:00"
         ],
         "xaxis": "x",
         "y": [
          0.34564671581341444,
          0.33562561045140393,
          0.24666719222447314,
          0.2876918107432196,
          0.3239963518971018,
          0.44615259419557907
         ],
         "yaxis": "y"
        },
        {
         "hovertemplate": "Line=LLB - CP-2 Packaging (STRL)<br>Date=%{x}<br>OEE %=%{y}<extra></extra>",
         "legendgroup": "LLB - CP-2 Packaging (STRL)",
         "line": {
          "color": "#FF6692",
          "dash": "solid"
         },
         "marker": {
          "symbol": "circle"
         },
         "mode": "lines",
         "name": "LLB - CP-2 Packaging (STRL)",
         "orientation": "v",
         "showlegend": true,
         "type": "scatter",
         "x": [
          "2021-11-07T00:00:00",
          "2021-11-14T00:00:00",
          "2021-11-21T00:00:00",
          "2021-11-28T00:00:00",
          "2021-12-05T00:00:00",
          "2021-12-12T00:00:00"
         ],
         "xaxis": "x",
         "y": [
          0.48516951272977066,
          0.43365508952382703,
          0.38413434652601974,
          0.40489760104800593,
          0.45866053283105557,
          0.4371037203397302
         ],
         "yaxis": "y"
        },
        {
         "hovertemplate": "Line=LLB - CP-3 Packaging (STRL)<br>Date=%{x}<br>OEE %=%{y}<extra></extra>",
         "legendgroup": "LLB - CP-3 Packaging (STRL)",
         "line": {
          "color": "#B6E880",
          "dash": "solid"
         },
         "marker": {
          "symbol": "circle"
         },
         "mode": "lines",
         "name": "LLB - CP-3 Packaging (STRL)",
         "orientation": "v",
         "showlegend": true,
         "type": "scatter",
         "x": [
          "2021-11-07T00:00:00",
          "2021-11-14T00:00:00",
          "2021-11-21T00:00:00",
          "2021-11-28T00:00:00",
          "2021-12-05T00:00:00",
          "2021-12-12T00:00:00"
         ],
         "xaxis": "x",
         "y": [
          0.5187798671943323,
          0.49639646205507393,
          0.4993323522323476,
          0.5211515750613102,
          0.6269709097703225,
          0.5668503008148811
         ],
         "yaxis": "y"
        },
        {
         "hovertemplate": "Line=LLB - Huttlin-1 Granulation<br>Date=%{x}<br>OEE %=%{y}<extra></extra>",
         "legendgroup": "LLB - Huttlin-1 Granulation",
         "line": {
          "color": "#FF97FF",
          "dash": "solid"
         },
         "marker": {
          "symbol": "circle"
         },
         "mode": "lines",
         "name": "LLB - Huttlin-1 Granulation",
         "orientation": "v",
         "showlegend": true,
         "type": "scatter",
         "x": [
          "2021-11-07T00:00:00",
          "2021-11-14T00:00:00",
          "2021-11-21T00:00:00",
          "2021-11-28T00:00:00",
          "2021-12-05T00:00:00",
          "2021-12-12T00:00:00"
         ],
         "xaxis": "x",
         "y": [
          0.5533580744986533,
          0.5264369584156425,
          0.590728820077452,
          0.7666279056732288,
          0.7192992834865937,
          0.604388779259101
         ],
         "yaxis": "y"
        },
        {
         "hovertemplate": "Line=LLB - IMA C95 Packaging (SOLD)<br>Date=%{x}<br>OEE %=%{y}<extra></extra>",
         "legendgroup": "LLB - IMA C95 Packaging (SOLD)",
         "line": {
          "color": "#FECB52",
          "dash": "solid"
         },
         "marker": {
          "symbol": "circle"
         },
         "mode": "lines",
         "name": "LLB - IMA C95 Packaging (SOLD)",
         "orientation": "v",
         "showlegend": true,
         "type": "scatter",
         "x": [
          "2021-11-07T00:00:00",
          "2021-11-14T00:00:00",
          "2021-11-21T00:00:00",
          "2021-11-28T00:00:00",
          "2021-12-05T00:00:00",
          "2021-12-12T00:00:00"
         ],
         "xaxis": "x",
         "y": [
          0.4162533576869434,
          0.43924685431491406,
          0.46869314979135385,
          0.4937638163555593,
          0.5194754971552671,
          0.5850217406306784
         ],
         "yaxis": "y"
        },
        {
         "hovertemplate": "Line=LLB - IMA-1 Packaging (NSL)<br>Date=%{x}<br>OEE %=%{y}<extra></extra>",
         "legendgroup": "LLB - IMA-1 Packaging (NSL)",
         "line": {
          "color": "#636efa",
          "dash": "solid"
         },
         "marker": {
          "symbol": "circle"
         },
         "mode": "lines",
         "name": "LLB - IMA-1 Packaging (NSL)",
         "orientation": "v",
         "showlegend": true,
         "type": "scatter",
         "x": [
          "2021-11-28T00:00:00",
          "2021-12-05T00:00:00"
         ],
         "xaxis": "x",
         "y": [
          0.34670384462883436,
          0.35709779985297363
         ],
         "yaxis": "y"
        },
        {
         "hovertemplate": "Line=LLB - IMA-1 Packaging (SOLD)<br>Date=%{x}<br>OEE %=%{y}<extra></extra>",
         "legendgroup": "LLB - IMA-1 Packaging (SOLD)",
         "line": {
          "color": "#EF553B",
          "dash": "solid"
         },
         "marker": {
          "symbol": "circle"
         },
         "mode": "lines",
         "name": "LLB - IMA-1 Packaging (SOLD)",
         "orientation": "v",
         "showlegend": true,
         "type": "scatter",
         "x": [
          "2021-11-14T00:00:00",
          "2021-11-21T00:00:00",
          "2021-11-28T00:00:00",
          "2021-12-05T00:00:00",
          "2021-12-12T00:00:00"
         ],
         "xaxis": "x",
         "y": [
          1.077078699950155,
          0.9663707823124426,
          0.4643467554791214,
          0.47261085081657683,
          0.318151744717997
         ],
         "yaxis": "y"
        },
        {
         "hovertemplate": "Line=LLB - IMA-2 Packaging (NSL)<br>Date=%{x}<br>OEE %=%{y}<extra></extra>",
         "legendgroup": "LLB - IMA-2 Packaging (NSL)",
         "line": {
          "color": "#00cc96",
          "dash": "solid"
         },
         "marker": {
          "symbol": "circle"
         },
         "mode": "lines",
         "name": "LLB - IMA-2 Packaging (NSL)",
         "orientation": "v",
         "showlegend": true,
         "type": "scatter",
         "x": [
          "2021-12-05T00:00:00",
          "2021-12-12T00:00:00"
         ],
         "xaxis": "x",
         "y": [
          0.4003223949937518,
          0.32518198580908764
         ],
         "yaxis": "y"
        },
        {
         "hovertemplate": "Line=LLB - IMA-2 Packaging (SOLD)<br>Date=%{x}<br>OEE %=%{y}<extra></extra>",
         "legendgroup": "LLB - IMA-2 Packaging (SOLD)",
         "line": {
          "color": "#ab63fa",
          "dash": "solid"
         },
         "marker": {
          "symbol": "circle"
         },
         "mode": "lines",
         "name": "LLB - IMA-2 Packaging (SOLD)",
         "orientation": "v",
         "showlegend": true,
         "type": "scatter",
         "x": [
          "2021-11-07T00:00:00",
          "2021-11-14T00:00:00",
          "2021-11-21T00:00:00",
          "2021-11-28T00:00:00",
          "2021-12-05T00:00:00",
          "2021-12-12T00:00:00"
         ],
         "xaxis": "x",
         "y": [
          0.5256544910448127,
          0.5231761477079285,
          0.5298168008219014,
          0.5127374832890094,
          0.517336021618374,
          0.5290272534598013
         ],
         "yaxis": "y"
        },
        {
         "hovertemplate": "Line=LLB - IMA-3 Packaging (SOLD)<br>Date=%{x}<br>OEE %=%{y}<extra></extra>",
         "legendgroup": "LLB - IMA-3 Packaging (SOLD)",
         "line": {
          "color": "#FFA15A",
          "dash": "solid"
         },
         "marker": {
          "symbol": "circle"
         },
         "mode": "lines",
         "name": "LLB - IMA-3 Packaging (SOLD)",
         "orientation": "v",
         "showlegend": true,
         "type": "scatter",
         "x": [
          "2021-11-07T00:00:00",
          "2021-11-14T00:00:00",
          "2021-11-21T00:00:00",
          "2021-11-28T00:00:00",
          "2021-12-05T00:00:00",
          "2021-12-12T00:00:00"
         ],
         "xaxis": "x",
         "y": [
          0.5403887671555415,
          0.5983521301566973,
          0.596079577450631,
          0.5147728219608165,
          0.5338527212961306,
          0.4981496374981983
         ],
         "yaxis": "y"
        },
        {
         "hovertemplate": "Line=LLB - IMA-4 Packaging (SOLD)<br>Date=%{x}<br>OEE %=%{y}<extra></extra>",
         "legendgroup": "LLB - IMA-4 Packaging (SOLD)",
         "line": {
          "color": "#19d3f3",
          "dash": "solid"
         },
         "marker": {
          "symbol": "circle"
         },
         "mode": "lines",
         "name": "LLB - IMA-4 Packaging (SOLD)",
         "orientation": "v",
         "showlegend": true,
         "type": "scatter",
         "x": [
          "2021-11-14T00:00:00",
          "2021-11-21T00:00:00",
          "2021-11-28T00:00:00",
          "2021-12-05T00:00:00",
          "2021-12-12T00:00:00"
         ],
         "xaxis": "x",
         "y": [
          0.28118746982462733,
          0.36169329940306666,
          0.39864335292423175,
          0.4110442965729266,
          0.4422236342185953
         ],
         "yaxis": "y"
        },
        {
         "hovertemplate": "Line=LLB - SPREY Packaging (NSL)<br>Date=%{x}<br>OEE %=%{y}<extra></extra>",
         "legendgroup": "LLB - SPREY Packaging (NSL)",
         "line": {
          "color": "#FF6692",
          "dash": "solid"
         },
         "marker": {
          "symbol": "circle"
         },
         "mode": "lines",
         "name": "LLB - SPREY Packaging (NSL)",
         "orientation": "v",
         "showlegend": true,
         "type": "scatter",
         "x": [
          "2021-11-07T00:00:00",
          "2021-11-14T00:00:00",
          "2021-11-21T00:00:00",
          "2021-11-28T00:00:00",
          "2021-12-05T00:00:00",
          "2021-12-12T00:00:00"
         ],
         "xaxis": "x",
         "y": [
          0.6895072420643921,
          0.6841931755682973,
          0.6375078957873143,
          0.5071082909667536,
          0.5854420640123769,
          0.5371263372894264
         ],
         "yaxis": "y"
        },
        {
         "hovertemplate": "Line=LLB - Sarong Packaging (SSL)<br>Date=%{x}<br>OEE %=%{y}<extra></extra>",
         "legendgroup": "LLB - Sarong Packaging (SSL)",
         "line": {
          "color": "#B6E880",
          "dash": "solid"
         },
         "marker": {
          "symbol": "circle"
         },
         "mode": "lines",
         "name": "LLB - Sarong Packaging (SSL)",
         "orientation": "v",
         "showlegend": true,
         "type": "scatter",
         "x": [
          "2021-11-07T00:00:00",
          "2021-11-14T00:00:00",
          "2021-11-21T00:00:00",
          "2021-11-28T00:00:00",
          "2021-12-05T00:00:00",
          "2021-12-12T00:00:00"
         ],
         "xaxis": "x",
         "y": [
          0.7719219352438846,
          0.7889432917419825,
          0.7370552435468103,
          0.7082200433182051,
          0.6474587568958624,
          0.5820471104496379
         ],
         "yaxis": "y"
        },
        {
         "hovertemplate": "Line=LLB - TFS-30 Packaging (SSL)<br>Date=%{x}<br>OEE %=%{y}<extra></extra>",
         "legendgroup": "LLB - TFS-30 Packaging (SSL)",
         "line": {
          "color": "#FF97FF",
          "dash": "solid"
         },
         "marker": {
          "symbol": "circle"
         },
         "mode": "lines",
         "name": "LLB - TFS-30 Packaging (SSL)",
         "orientation": "v",
         "showlegend": true,
         "type": "scatter",
         "x": [
          "2021-11-28T00:00:00",
          "2021-12-05T00:00:00",
          "2021-12-12T00:00:00"
         ],
         "xaxis": "x",
         "y": [
          0.5111802561189112,
          0.49644883638768944,
          0.49638929792203895
         ],
         "yaxis": "y"
        },
        {
         "hovertemplate": "Line=LLB - Uhlmann Packaging (SOLD)<br>Date=%{x}<br>OEE %=%{y}<extra></extra>",
         "legendgroup": "LLB - Uhlmann Packaging (SOLD)",
         "line": {
          "color": "#FECB52",
          "dash": "solid"
         },
         "marker": {
          "symbol": "circle"
         },
         "mode": "lines",
         "name": "LLB - Uhlmann Packaging (SOLD)",
         "orientation": "v",
         "showlegend": true,
         "type": "scatter",
         "x": [
          "2021-12-05T00:00:00",
          "2021-12-12T00:00:00"
         ],
         "xaxis": "x",
         "y": [
          0.47001377683968,
          0.44467132972725565
         ],
         "yaxis": "y"
        },
        {
         "hovertemplate": "Line=LSX - 1030 Packaging Line<br>Date=%{x}<br>OEE %=%{y}<extra></extra>",
         "legendgroup": "LSX - 1030 Packaging Line",
         "line": {
          "color": "#636efa",
          "dash": "solid"
         },
         "marker": {
          "symbol": "circle"
         },
         "mode": "lines",
         "name": "LSX - 1030 Packaging Line",
         "orientation": "v",
         "showlegend": true,
         "type": "scatter",
         "x": [
          "2021-11-07T00:00:00",
          "2021-11-14T00:00:00",
          "2021-11-21T00:00:00",
          "2021-11-28T00:00:00",
          "2021-12-05T00:00:00",
          "2021-12-12T00:00:00"
         ],
         "xaxis": "x",
         "y": [
          0.5551780522441211,
          0.5613761070764469,
          0.5580723662522653,
          0.540213566328233,
          0.5304655118373458,
          0.4927145460137016
         ],
         "yaxis": "y"
        },
        {
         "hovertemplate": "Line=LSX - 1070-1 Packaging Line<br>Date=%{x}<br>OEE %=%{y}<extra></extra>",
         "legendgroup": "LSX - 1070-1 Packaging Line",
         "line": {
          "color": "#EF553B",
          "dash": "solid"
         },
         "marker": {
          "symbol": "circle"
         },
         "mode": "lines",
         "name": "LSX - 1070-1 Packaging Line",
         "orientation": "v",
         "showlegend": true,
         "type": "scatter",
         "x": [
          "2021-11-07T00:00:00",
          "2021-11-14T00:00:00",
          "2021-11-21T00:00:00",
          "2021-11-28T00:00:00",
          "2021-12-05T00:00:00",
          "2021-12-12T00:00:00"
         ],
         "xaxis": "x",
         "y": [
          0.45919452334393146,
          0.47954428344562816,
          0.49689143244410017,
          0.5011799504943282,
          0.5144781262606815,
          0.5232566196188552
         ],
         "yaxis": "y"
        },
        {
         "hovertemplate": "Line=LSX - 1070-2 Packaging Line<br>Date=%{x}<br>OEE %=%{y}<extra></extra>",
         "legendgroup": "LSX - 1070-2 Packaging Line",
         "line": {
          "color": "#00cc96",
          "dash": "solid"
         },
         "marker": {
          "symbol": "circle"
         },
         "mode": "lines",
         "name": "LSX - 1070-2 Packaging Line",
         "orientation": "v",
         "showlegend": true,
         "type": "scatter",
         "x": [
          "2021-11-07T00:00:00",
          "2021-11-14T00:00:00",
          "2021-11-21T00:00:00",
          "2021-11-28T00:00:00",
          "2021-12-05T00:00:00",
          "2021-12-12T00:00:00"
         ],
         "xaxis": "x",
         "y": [
          0.5219255272461647,
          0.5233010518160877,
          0.5086122785559879,
          0.4852420740322909,
          0.47987050034145434,
          0.49081237096032465
         ],
         "yaxis": "y"
        },
        {
         "hovertemplate": "Line=LSX - C65-1 Packaging Line<br>Date=%{x}<br>OEE %=%{y}<extra></extra>",
         "legendgroup": "LSX - C65-1 Packaging Line",
         "line": {
          "color": "#ab63fa",
          "dash": "solid"
         },
         "marker": {
          "symbol": "circle"
         },
         "mode": "lines",
         "name": "LSX - C65-1 Packaging Line",
         "orientation": "v",
         "showlegend": true,
         "type": "scatter",
         "x": [
          "2021-11-07T00:00:00",
          "2021-11-14T00:00:00",
          "2021-11-21T00:00:00",
          "2021-11-28T00:00:00",
          "2021-12-05T00:00:00",
          "2021-12-12T00:00:00"
         ],
         "xaxis": "x",
         "y": [
          0.5017074351141979,
          0.5169482135288122,
          0.5520514867931424,
          0.5809776358108156,
          0.5965738728692919,
          0.6311892585598607
         ],
         "yaxis": "y"
        },
        {
         "hovertemplate": "Line=LSX - C65-2 Packaging Line<br>Date=%{x}<br>OEE %=%{y}<extra></extra>",
         "legendgroup": "LSX - C65-2 Packaging Line",
         "line": {
          "color": "#FFA15A",
          "dash": "solid"
         },
         "marker": {
          "symbol": "circle"
         },
         "mode": "lines",
         "name": "LSX - C65-2 Packaging Line",
         "orientation": "v",
         "showlegend": true,
         "type": "scatter",
         "x": [
          "2021-11-07T00:00:00",
          "2021-11-14T00:00:00",
          "2021-11-21T00:00:00",
          "2021-11-28T00:00:00",
          "2021-12-05T00:00:00",
          "2021-12-12T00:00:00"
         ],
         "xaxis": "x",
         "y": [
          0.6925558226521108,
          0.7049987388315541,
          0.7222547778949874,
          0.7080733644909436,
          0.6847944510982038,
          0.6907966001599628
         ],
         "yaxis": "y"
        },
        {
         "hovertemplate": "Line=LSX - IWK Packaging Line<br>Date=%{x}<br>OEE %=%{y}<extra></extra>",
         "legendgroup": "LSX - IWK Packaging Line",
         "line": {
          "color": "#19d3f3",
          "dash": "solid"
         },
         "marker": {
          "symbol": "circle"
         },
         "mode": "lines",
         "name": "LSX - IWK Packaging Line",
         "orientation": "v",
         "showlegend": true,
         "type": "scatter",
         "x": [
          "2021-11-07T00:00:00",
          "2021-11-14T00:00:00",
          "2021-11-21T00:00:00",
          "2021-11-28T00:00:00",
          "2021-12-05T00:00:00",
          "2021-12-12T00:00:00"
         ],
         "xaxis": "x",
         "y": [
          0.3401253744601842,
          0.35937529102365917,
          0.48121433824383164,
          0.5395284475157748,
          0.5689681378587335,
          0.4837836127000953
         ],
         "yaxis": "y"
        },
        {
         "hovertemplate": "Line=LSX - SIG1 Packaging Line<br>Date=%{x}<br>OEE %=%{y}<extra></extra>",
         "legendgroup": "LSX - SIG1 Packaging Line",
         "line": {
          "color": "#FF6692",
          "dash": "solid"
         },
         "marker": {
          "symbol": "circle"
         },
         "mode": "lines",
         "name": "LSX - SIG1 Packaging Line",
         "orientation": "v",
         "showlegend": true,
         "type": "scatter",
         "x": [
          "2021-11-07T00:00:00",
          "2021-11-14T00:00:00",
          "2021-11-21T00:00:00",
          "2021-11-28T00:00:00",
          "2021-12-05T00:00:00",
          "2021-12-12T00:00:00"
         ],
         "xaxis": "x",
         "y": [
          0.578763837914856,
          0.5412894207514087,
          0.5022139577707723,
          0.5438796279424598,
          0.5434886726860053,
          0.5817861222369085
         ],
         "yaxis": "y"
        },
        {
         "hovertemplate": "Line=LSX - SIG2 Packaging Line<br>Date=%{x}<br>OEE %=%{y}<extra></extra>",
         "legendgroup": "LSX - SIG2 Packaging Line",
         "line": {
          "color": "#B6E880",
          "dash": "solid"
         },
         "marker": {
          "symbol": "circle"
         },
         "mode": "lines",
         "name": "LSX - SIG2 Packaging Line",
         "orientation": "v",
         "showlegend": true,
         "type": "scatter",
         "x": [
          "2021-11-07T00:00:00",
          "2021-11-14T00:00:00",
          "2021-11-21T00:00:00",
          "2021-11-28T00:00:00",
          "2021-12-05T00:00:00",
          "2021-12-12T00:00:00"
         ],
         "xaxis": "x",
         "y": [
          0.5471010809168524,
          0.562360416171984,
          0.6016290256008445,
          0.6148577984664891,
          0.621080537283558,
          0.628028158376305
         ],
         "yaxis": "y"
        },
        {
         "hovertemplate": "Line=LSX - SUPPO Packaging Line<br>Date=%{x}<br>OEE %=%{y}<extra></extra>",
         "legendgroup": "LSX - SUPPO Packaging Line",
         "line": {
          "color": "#FF97FF",
          "dash": "solid"
         },
         "marker": {
          "symbol": "circle"
         },
         "mode": "lines",
         "name": "LSX - SUPPO Packaging Line",
         "orientation": "v",
         "showlegend": true,
         "type": "scatter",
         "x": [
          "2021-11-07T00:00:00",
          "2021-11-14T00:00:00",
          "2021-11-21T00:00:00",
          "2021-11-28T00:00:00",
          "2021-12-05T00:00:00",
          "2021-12-12T00:00:00"
         ],
         "xaxis": "x",
         "y": [
          0.48251035435448264,
          0.5246265504510867,
          0.5520618692011644,
          0.561692782275109,
          0.532280466618504,
          0.46498119747257277
         ],
         "yaxis": "y"
        },
        {
         "hovertemplate": "Line=LSX - TR200 Packaging Line<br>Date=%{x}<br>OEE %=%{y}<extra></extra>",
         "legendgroup": "LSX - TR200 Packaging Line",
         "line": {
          "color": "#FECB52",
          "dash": "solid"
         },
         "marker": {
          "symbol": "circle"
         },
         "mode": "lines",
         "name": "LSX - TR200 Packaging Line",
         "orientation": "v",
         "showlegend": true,
         "type": "scatter",
         "x": [
          "2021-11-07T00:00:00",
          "2021-11-14T00:00:00",
          "2021-11-21T00:00:00",
          "2021-11-28T00:00:00",
          "2021-12-05T00:00:00",
          "2021-12-12T00:00:00"
         ],
         "xaxis": "x",
         "y": [
          0.5688343621828993,
          0.6023138596654465,
          0.519228394077377,
          0.4818851063852411,
          0.5011661167363952,
          0.43400448491700166
         ],
         "yaxis": "y"
        },
        {
         "hovertemplate": "Line=LTR - C2 Packaging Line<br>Date=%{x}<br>OEE %=%{y}<extra></extra>",
         "legendgroup": "LTR - C2 Packaging Line",
         "line": {
          "color": "#636efa",
          "dash": "solid"
         },
         "marker": {
          "symbol": "circle"
         },
         "mode": "lines",
         "name": "LTR - C2 Packaging Line",
         "orientation": "v",
         "showlegend": true,
         "type": "scatter",
         "x": [
          "2021-12-12T00:00:00"
         ],
         "xaxis": "x",
         "y": [
          0.3948110177430758
         ],
         "yaxis": "y"
        },
        {
         "hovertemplate": "Line=LTR - C6 Packaging line<br>Date=%{x}<br>OEE %=%{y}<extra></extra>",
         "legendgroup": "LTR - C6 Packaging line",
         "line": {
          "color": "#EF553B",
          "dash": "solid"
         },
         "marker": {
          "symbol": "circle"
         },
         "mode": "lines",
         "name": "LTR - C6 Packaging line",
         "orientation": "v",
         "showlegend": true,
         "type": "scatter",
         "x": [
          "2021-11-07T00:00:00",
          "2021-11-14T00:00:00",
          "2021-11-21T00:00:00",
          "2021-11-28T00:00:00",
          "2021-12-05T00:00:00",
          "2021-12-12T00:00:00"
         ],
         "xaxis": "x",
         "y": [
          0.34217202135170893,
          0.33761818762193174,
          0.3777020996589688,
          0.3860082147492875,
          0.3660115216275943,
          0.3484945575259373
         ],
         "yaxis": "y"
        },
        {
         "hovertemplate": "Line=LTR - C7 Packaging line<br>Date=%{x}<br>OEE %=%{y}<extra></extra>",
         "legendgroup": "LTR - C7 Packaging line",
         "line": {
          "color": "#00cc96",
          "dash": "solid"
         },
         "marker": {
          "symbol": "circle"
         },
         "mode": "lines",
         "name": "LTR - C7 Packaging line",
         "orientation": "v",
         "showlegend": true,
         "type": "scatter",
         "x": [
          "2021-11-21T00:00:00",
          "2021-11-28T00:00:00",
          "2021-12-05T00:00:00",
          "2021-12-12T00:00:00"
         ],
         "xaxis": "x",
         "y": [
          0.21344428550303685,
          0.2572351053942233,
          0.2916640447135115,
          0.29230467411486194
         ],
         "yaxis": "y"
        },
        {
         "hovertemplate": "Line=LTR - C8 Packaging line<br>Date=%{x}<br>OEE %=%{y}<extra></extra>",
         "legendgroup": "LTR - C8 Packaging line",
         "line": {
          "color": "#ab63fa",
          "dash": "solid"
         },
         "marker": {
          "symbol": "circle"
         },
         "mode": "lines",
         "name": "LTR - C8 Packaging line",
         "orientation": "v",
         "showlegend": true,
         "type": "scatter",
         "x": [
          "2021-11-07T00:00:00",
          "2021-12-12T00:00:00"
         ],
         "xaxis": "x",
         "y": [
          0.4665614903604667,
          0.37728694624778364
         ],
         "yaxis": "y"
        },
        {
         "hovertemplate": "Line=LTR - C9 Packaging line<br>Date=%{x}<br>OEE %=%{y}<extra></extra>",
         "legendgroup": "LTR - C9 Packaging line",
         "line": {
          "color": "#FFA15A",
          "dash": "solid"
         },
         "marker": {
          "symbol": "circle"
         },
         "mode": "lines",
         "name": "LTR - C9 Packaging line",
         "orientation": "v",
         "showlegend": true,
         "type": "scatter",
         "x": [
          "2021-11-14T00:00:00",
          "2021-11-21T00:00:00",
          "2021-11-28T00:00:00",
          "2021-12-05T00:00:00",
          "2021-12-12T00:00:00"
         ],
         "xaxis": "x",
         "y": [
          0.38956105773957334,
          0.41075705444215627,
          0.4037609090744688,
          0.37816263466369443,
          0.3353058079598289
         ],
         "yaxis": "y"
        },
        {
         "hovertemplate": "Line=LTR - Corima Assembling Machine<br>Date=%{x}<br>OEE %=%{y}<extra></extra>",
         "legendgroup": "LTR - Corima Assembling Machine",
         "line": {
          "color": "#19d3f3",
          "dash": "solid"
         },
         "marker": {
          "symbol": "circle"
         },
         "mode": "lines",
         "name": "LTR - Corima Assembling Machine",
         "orientation": "v",
         "showlegend": true,
         "type": "scatter",
         "x": [
          "2021-11-28T00:00:00",
          "2021-12-05T00:00:00",
          "2021-12-12T00:00:00"
         ],
         "xaxis": "x",
         "y": [
          0.039215727489585364,
          0.02147784201121724,
          0.014389300344550576
         ],
         "yaxis": "y"
        },
        {
         "hovertemplate": "Line=LTR - L647 Bio-Tech Packaging<br>Date=%{x}<br>OEE %=%{y}<extra></extra>",
         "legendgroup": "LTR - L647 Bio-Tech Packaging",
         "line": {
          "color": "#FF6692",
          "dash": "solid"
         },
         "marker": {
          "symbol": "circle"
         },
         "mode": "lines",
         "name": "LTR - L647 Bio-Tech Packaging",
         "orientation": "v",
         "showlegend": true,
         "type": "scatter",
         "x": [
          "2021-11-21T00:00:00",
          "2021-11-28T00:00:00",
          "2021-12-05T00:00:00",
          "2021-12-12T00:00:00"
         ],
         "xaxis": "x",
         "y": [
          0.3579952130090844,
          0.27203919071427085,
          0.24803946079758651,
          0.25036107855569284
         ],
         "yaxis": "y"
        },
        {
         "hovertemplate": "Line=LTR - Optima Assembling Machine<br>Date=%{x}<br>OEE %=%{y}<extra></extra>",
         "legendgroup": "LTR - Optima Assembling Machine",
         "line": {
          "color": "#B6E880",
          "dash": "solid"
         },
         "marker": {
          "symbol": "circle"
         },
         "mode": "lines",
         "name": "LTR - Optima Assembling Machine",
         "orientation": "v",
         "showlegend": true,
         "type": "scatter",
         "x": [
          "2021-11-21T00:00:00",
          "2021-11-28T00:00:00",
          "2021-12-05T00:00:00",
          "2021-12-12T00:00:00"
         ],
         "xaxis": "x",
         "y": [
          0.1809909045513564,
          0.21464673230026163,
          0.2020627077301254,
          0.1772716255129113
         ],
         "yaxis": "y"
        },
        {
         "hovertemplate": "Line=MAF - C2 Packaging Line<br>Date=%{x}<br>OEE %=%{y}<extra></extra>",
         "legendgroup": "MAF - C2 Packaging Line",
         "line": {
          "color": "#FF97FF",
          "dash": "solid"
         },
         "marker": {
          "symbol": "circle"
         },
         "mode": "lines",
         "name": "MAF - C2 Packaging Line",
         "orientation": "v",
         "showlegend": true,
         "type": "scatter",
         "x": [
          "2021-11-07T00:00:00",
          "2021-11-14T00:00:00",
          "2021-11-21T00:00:00",
          "2021-11-28T00:00:00",
          "2021-12-05T00:00:00",
          "2021-12-12T00:00:00"
         ],
         "xaxis": "x",
         "y": [
          0.48684997476589476,
          0.4931866237866702,
          0.46743685643060656,
          0.43784242812583346,
          0.44814916499694313,
          0.4422572280939768
         ],
         "yaxis": "y"
        },
        {
         "hovertemplate": "Line=MAF - C3 Packaging Line<br>Date=%{x}<br>OEE %=%{y}<extra></extra>",
         "legendgroup": "MAF - C3 Packaging Line",
         "line": {
          "color": "#FECB52",
          "dash": "solid"
         },
         "marker": {
          "symbol": "circle"
         },
         "mode": "lines",
         "name": "MAF - C3 Packaging Line",
         "orientation": "v",
         "showlegend": true,
         "type": "scatter",
         "x": [
          "2021-11-07T00:00:00",
          "2021-11-14T00:00:00",
          "2021-11-21T00:00:00",
          "2021-11-28T00:00:00",
          "2021-12-05T00:00:00",
          "2021-12-12T00:00:00"
         ],
         "xaxis": "x",
         "y": [
          0.5143993046975552,
          0.5066166373760773,
          0.4971119465160095,
          0.47813009587269467,
          0.5000718621356288,
          0.552257534256583
         ],
         "yaxis": "y"
        },
        {
         "hovertemplate": "Line=MAF - C4 Packaging Line<br>Date=%{x}<br>OEE %=%{y}<extra></extra>",
         "legendgroup": "MAF - C4 Packaging Line",
         "line": {
          "color": "#636efa",
          "dash": "solid"
         },
         "marker": {
          "symbol": "circle"
         },
         "mode": "lines",
         "name": "MAF - C4 Packaging Line",
         "orientation": "v",
         "showlegend": true,
         "type": "scatter",
         "x": [
          "2021-11-07T00:00:00",
          "2021-11-14T00:00:00",
          "2021-11-21T00:00:00",
          "2021-11-28T00:00:00",
          "2021-12-05T00:00:00",
          "2021-12-12T00:00:00"
         ],
         "xaxis": "x",
         "y": [
          0.4299575324039137,
          0.42429670389550456,
          0.4162824462452327,
          0.41971820407052546,
          0.4660589654510888,
          0.4261069696571291
         ],
         "yaxis": "y"
        },
        {
         "hovertemplate": "Line=MAF - C5 Packaging Line<br>Date=%{x}<br>OEE %=%{y}<extra></extra>",
         "legendgroup": "MAF - C5 Packaging Line",
         "line": {
          "color": "#EF553B",
          "dash": "solid"
         },
         "marker": {
          "symbol": "circle"
         },
         "mode": "lines",
         "name": "MAF - C5 Packaging Line",
         "orientation": "v",
         "showlegend": true,
         "type": "scatter",
         "x": [
          "2021-11-07T00:00:00",
          "2021-11-14T00:00:00",
          "2021-11-21T00:00:00",
          "2021-11-28T00:00:00",
          "2021-12-05T00:00:00",
          "2021-12-12T00:00:00"
         ],
         "xaxis": "x",
         "y": [
          0.48449566721094506,
          0.4527449268275269,
          0.47470293065013314,
          0.4348778423076924,
          0.4227887329154198,
          0.40177278969058144
         ],
         "yaxis": "y"
        },
        {
         "hovertemplate": "Line=MAF - C6 Packaging Line<br>Date=%{x}<br>OEE %=%{y}<extra></extra>",
         "legendgroup": "MAF - C6 Packaging Line",
         "line": {
          "color": "#00cc96",
          "dash": "solid"
         },
         "marker": {
          "symbol": "circle"
         },
         "mode": "lines",
         "name": "MAF - C6 Packaging Line",
         "orientation": "v",
         "showlegend": true,
         "type": "scatter",
         "x": [
          "2021-11-07T00:00:00",
          "2021-11-14T00:00:00",
          "2021-11-21T00:00:00",
          "2021-11-28T00:00:00",
          "2021-12-05T00:00:00",
          "2021-12-12T00:00:00"
         ],
         "xaxis": "x",
         "y": [
          0.3377618386227135,
          0.36956618305062194,
          0.3757970297168937,
          0.38273357431039196,
          0.3739308486655019,
          0.35312360606551924
         ],
         "yaxis": "y"
        },
        {
         "hovertemplate": "Line=MAF - C9 Packaging Line<br>Date=%{x}<br>OEE %=%{y}<extra></extra>",
         "legendgroup": "MAF - C9 Packaging Line",
         "line": {
          "color": "#ab63fa",
          "dash": "solid"
         },
         "marker": {
          "symbol": "circle"
         },
         "mode": "lines",
         "name": "MAF - C9 Packaging Line",
         "orientation": "v",
         "showlegend": true,
         "type": "scatter",
         "x": [
          "2021-11-07T00:00:00",
          "2021-11-14T00:00:00",
          "2021-11-21T00:00:00"
         ],
         "xaxis": "x",
         "y": [
          0.6302867275261604,
          0.6313631233656323,
          0.6140850815845109
         ],
         "yaxis": "y"
        },
        {
         "hovertemplate": "Line=MAF - I2 Inspection Line<br>Date=%{x}<br>OEE %=%{y}<extra></extra>",
         "legendgroup": "MAF - I2 Inspection Line",
         "line": {
          "color": "#FFA15A",
          "dash": "solid"
         },
         "marker": {
          "symbol": "circle"
         },
         "mode": "lines",
         "name": "MAF - I2 Inspection Line",
         "orientation": "v",
         "showlegend": true,
         "type": "scatter",
         "x": [
          "2021-11-07T00:00:00",
          "2021-11-14T00:00:00",
          "2021-11-21T00:00:00",
          "2021-11-28T00:00:00",
          "2021-12-05T00:00:00",
          "2021-12-12T00:00:00"
         ],
         "xaxis": "x",
         "y": [
          0.7748807586578403,
          0.7869924589958784,
          0.7974968234806326,
          0.7933235722689294,
          0.8063800856606069,
          0.7857205026691666
         ],
         "yaxis": "y"
        },
        {
         "hovertemplate": "Line=MAF - I4 Inspection Line<br>Date=%{x}<br>OEE %=%{y}<extra></extra>",
         "legendgroup": "MAF - I4 Inspection Line",
         "line": {
          "color": "#19d3f3",
          "dash": "solid"
         },
         "marker": {
          "symbol": "circle"
         },
         "mode": "lines",
         "name": "MAF - I4 Inspection Line",
         "orientation": "v",
         "showlegend": true,
         "type": "scatter",
         "x": [
          "2021-11-07T00:00:00",
          "2021-11-14T00:00:00",
          "2021-11-21T00:00:00",
          "2021-11-28T00:00:00",
          "2021-12-05T00:00:00",
          "2021-12-12T00:00:00"
         ],
         "xaxis": "x",
         "y": [
          0.61162688713266,
          0.6196235922877802,
          0.6739603418610249,
          0.7378783580836668,
          0.7512053287188957,
          0.7348832868634388
         ],
         "yaxis": "y"
        },
        {
         "hovertemplate": "Line=MAF - I6 Inspection Line<br>Date=%{x}<br>OEE %=%{y}<extra></extra>",
         "legendgroup": "MAF - I6 Inspection Line",
         "line": {
          "color": "#FF6692",
          "dash": "solid"
         },
         "marker": {
          "symbol": "circle"
         },
         "mode": "lines",
         "name": "MAF - I6 Inspection Line",
         "orientation": "v",
         "showlegend": true,
         "type": "scatter",
         "x": [
          "2021-11-07T00:00:00",
          "2021-11-14T00:00:00",
          "2021-11-21T00:00:00",
          "2021-11-28T00:00:00",
          "2021-12-05T00:00:00",
          "2021-12-12T00:00:00"
         ],
         "xaxis": "x",
         "y": [
          0.6267209781025946,
          0.6243071855833472,
          0.5844928209607785,
          0.5907077628132321,
          0.6256916878192429,
          0.6159576812474791
         ],
         "yaxis": "y"
        },
        {
         "hovertemplate": "Line=MAF - R1 Filling Line<br>Date=%{x}<br>OEE %=%{y}<extra></extra>",
         "legendgroup": "MAF - R1 Filling Line",
         "line": {
          "color": "#B6E880",
          "dash": "solid"
         },
         "marker": {
          "symbol": "circle"
         },
         "mode": "lines",
         "name": "MAF - R1 Filling Line",
         "orientation": "v",
         "showlegend": true,
         "type": "scatter",
         "x": [
          "2021-11-07T00:00:00",
          "2021-11-14T00:00:00",
          "2021-11-21T00:00:00",
          "2021-11-28T00:00:00",
          "2021-12-05T00:00:00",
          "2021-12-12T00:00:00"
         ],
         "xaxis": "x",
         "y": [
          0.7477008865494033,
          0.7558975262135024,
          0.7508989699619038,
          0.7348341151171857,
          0.7244161362078754,
          0.6415928578156043
         ],
         "yaxis": "y"
        },
        {
         "hovertemplate": "Line=MAF - R4 Filling Line<br>Date=%{x}<br>OEE %=%{y}<extra></extra>",
         "legendgroup": "MAF - R4 Filling Line",
         "line": {
          "color": "#FF97FF",
          "dash": "solid"
         },
         "marker": {
          "symbol": "circle"
         },
         "mode": "lines",
         "name": "MAF - R4 Filling Line",
         "orientation": "v",
         "showlegend": true,
         "type": "scatter",
         "x": [
          "2021-11-07T00:00:00",
          "2021-11-14T00:00:00",
          "2021-11-21T00:00:00",
          "2021-11-28T00:00:00",
          "2021-12-05T00:00:00",
          "2021-12-12T00:00:00"
         ],
         "xaxis": "x",
         "y": [
          0.5832149113108218,
          0.5863282179461184,
          0.5794931638157764,
          0.5962648279445867,
          0.5799513606776826,
          0.4999820516285654
         ],
         "yaxis": "y"
        },
        {
         "hovertemplate": "Line=MAF - R5 Filling Line<br>Date=%{x}<br>OEE %=%{y}<extra></extra>",
         "legendgroup": "MAF - R5 Filling Line",
         "line": {
          "color": "#FECB52",
          "dash": "solid"
         },
         "marker": {
          "symbol": "circle"
         },
         "mode": "lines",
         "name": "MAF - R5 Filling Line",
         "orientation": "v",
         "showlegend": true,
         "type": "scatter",
         "x": [
          "2021-11-07T00:00:00",
          "2021-11-14T00:00:00"
         ],
         "xaxis": "x",
         "y": [
          0.5325552884223713,
          0.5097596827203912
         ],
         "yaxis": "y"
        },
        {
         "hovertemplate": "Line=MLE - P2A1<br>Date=%{x}<br>OEE %=%{y}<extra></extra>",
         "legendgroup": "MLE - P2A1",
         "line": {
          "color": "#636efa",
          "dash": "solid"
         },
         "marker": {
          "symbol": "circle"
         },
         "mode": "lines",
         "name": "MLE - P2A1",
         "orientation": "v",
         "showlegend": true,
         "type": "scatter",
         "x": [
          "2021-11-28T00:00:00"
         ],
         "xaxis": "x",
         "y": [
          0.22049109118477855
         ],
         "yaxis": "y"
        },
        {
         "hovertemplate": "Line=OCO - C90 Packaging Line<br>Date=%{x}<br>OEE %=%{y}<extra></extra>",
         "legendgroup": "OCO - C90 Packaging Line",
         "line": {
          "color": "#EF553B",
          "dash": "solid"
         },
         "marker": {
          "symbol": "circle"
         },
         "mode": "lines",
         "name": "OCO - C90 Packaging Line",
         "orientation": "v",
         "showlegend": true,
         "type": "scatter",
         "x": [
          "2021-11-07T00:00:00",
          "2021-12-12T00:00:00"
         ],
         "xaxis": "x",
         "y": [
          0.3240623129242653,
          0.32252520411316293
         ],
         "yaxis": "y"
        },
        {
         "hovertemplate": "Line=OCO - JARABES Packaging Line<br>Date=%{x}<br>OEE %=%{y}<extra></extra>",
         "legendgroup": "OCO - JARABES Packaging Line",
         "line": {
          "color": "#00cc96",
          "dash": "solid"
         },
         "marker": {
          "symbol": "circle"
         },
         "mode": "lines",
         "name": "OCO - JARABES Packaging Line",
         "orientation": "v",
         "showlegend": true,
         "type": "scatter",
         "x": [
          "2021-11-07T00:00:00",
          "2021-11-14T00:00:00",
          "2021-11-21T00:00:00",
          "2021-11-28T00:00:00",
          "2021-12-05T00:00:00"
         ],
         "xaxis": "x",
         "y": [
          0.6361740604413509,
          0.5856747696765557,
          0.6226742346844208,
          0.5375452592342863,
          0.5585513246894254
         ],
         "yaxis": "y"
        },
        {
         "hovertemplate": "Line=OCO - LACTACYD Packaging Line<br>Date=%{x}<br>OEE %=%{y}<extra></extra>",
         "legendgroup": "OCO - LACTACYD Packaging Line",
         "line": {
          "color": "#ab63fa",
          "dash": "solid"
         },
         "marker": {
          "symbol": "circle"
         },
         "mode": "lines",
         "name": "OCO - LACTACYD Packaging Line",
         "orientation": "v",
         "showlegend": true,
         "type": "scatter",
         "x": [
          "2021-11-07T00:00:00",
          "2021-11-14T00:00:00",
          "2021-11-21T00:00:00",
          "2021-11-28T00:00:00",
          "2021-12-05T00:00:00",
          "2021-12-12T00:00:00"
         ],
         "xaxis": "x",
         "y": [
          0.4086400412095845,
          0.37805167940201173,
          0.3109240363211608,
          0.32362132006445576,
          0.30059591616998094,
          0.29977282714535447
         ],
         "yaxis": "y"
        },
        {
         "hovertemplate": "Line=OCO - MEDISEAL Packaging Line<br>Date=%{x}<br>OEE %=%{y}<extra></extra>",
         "legendgroup": "OCO - MEDISEAL Packaging Line",
         "line": {
          "color": "#FFA15A",
          "dash": "solid"
         },
         "marker": {
          "symbol": "circle"
         },
         "mode": "lines",
         "name": "OCO - MEDISEAL Packaging Line",
         "orientation": "v",
         "showlegend": true,
         "type": "scatter",
         "x": [
          "2021-11-07T00:00:00",
          "2021-11-14T00:00:00",
          "2021-11-21T00:00:00",
          "2021-11-28T00:00:00",
          "2021-12-05T00:00:00"
         ],
         "xaxis": "x",
         "y": [
          0.44538426664290715,
          0.4572470529610838,
          0.43341335689724214,
          0.4205604897767487,
          0.3341145488155799
         ],
         "yaxis": "y"
        },
        {
         "hovertemplate": "Line=OCO - MELOX Packaging Line<br>Date=%{x}<br>OEE %=%{y}<extra></extra>",
         "legendgroup": "OCO - MELOX Packaging Line",
         "line": {
          "color": "#19d3f3",
          "dash": "solid"
         },
         "marker": {
          "symbol": "circle"
         },
         "mode": "lines",
         "name": "OCO - MELOX Packaging Line",
         "orientation": "v",
         "showlegend": true,
         "type": "scatter",
         "x": [
          "2021-11-21T00:00:00",
          "2021-11-28T00:00:00",
          "2021-12-05T00:00:00",
          "2021-12-12T00:00:00"
         ],
         "xaxis": "x",
         "y": [
          0.3869806444174581,
          0.4194220989506928,
          0.4379344543824016,
          0.44899915429474474
         ],
         "yaxis": "y"
        },
        {
         "hovertemplate": "Line=OCO - PARTENA 1 Packaging Line<br>Date=%{x}<br>OEE %=%{y}<extra></extra>",
         "legendgroup": "OCO - PARTENA 1 Packaging Line",
         "line": {
          "color": "#FF6692",
          "dash": "solid"
         },
         "marker": {
          "symbol": "circle"
         },
         "mode": "lines",
         "name": "OCO - PARTENA 1 Packaging Line",
         "orientation": "v",
         "showlegend": true,
         "type": "scatter",
         "x": [
          "2021-11-07T00:00:00",
          "2021-11-14T00:00:00",
          "2021-11-21T00:00:00",
          "2021-11-28T00:00:00",
          "2021-12-05T00:00:00"
         ],
         "xaxis": "x",
         "y": [
          0.38775352238704197,
          0.35677808122515353,
          0.32731125607401934,
          0.3013011344629921,
          0.28464024145093647
         ],
         "yaxis": "y"
        },
        {
         "hovertemplate": "Line=OCO - PARTENA 3 Packaging Line<br>Date=%{x}<br>OEE %=%{y}<extra></extra>",
         "legendgroup": "OCO - PARTENA 3 Packaging Line",
         "line": {
          "color": "#B6E880",
          "dash": "solid"
         },
         "marker": {
          "symbol": "circle"
         },
         "mode": "lines",
         "name": "OCO - PARTENA 3 Packaging Line",
         "orientation": "v",
         "showlegend": true,
         "type": "scatter",
         "x": [
          "2021-11-28T00:00:00",
          "2021-12-05T00:00:00",
          "2021-12-12T00:00:00"
         ],
         "xaxis": "x",
         "y": [
          0.3961689845873869,
          0.5117696483401806,
          0.5778321394957389
         ],
         "yaxis": "y"
        },
        {
         "hovertemplate": "Line=OCO - SUSPENSIONES Packaging Line<br>Date=%{x}<br>OEE %=%{y}<extra></extra>",
         "legendgroup": "OCO - SUSPENSIONES Packaging Line",
         "line": {
          "color": "#FF97FF",
          "dash": "solid"
         },
         "marker": {
          "symbol": "circle"
         },
         "mode": "lines",
         "name": "OCO - SUSPENSIONES Packaging Line",
         "orientation": "v",
         "showlegend": true,
         "type": "scatter",
         "x": [
          "2021-12-05T00:00:00",
          "2021-12-12T00:00:00"
         ],
         "xaxis": "x",
         "y": [
          0.44533253458012406,
          0.4253743694858896
         ],
         "yaxis": "y"
        },
        {
         "hovertemplate": "Line=OCO - UHLMANN 1 Packaging Line<br>Date=%{x}<br>OEE %=%{y}<extra></extra>",
         "legendgroup": "OCO - UHLMANN 1 Packaging Line",
         "line": {
          "color": "#FECB52",
          "dash": "solid"
         },
         "marker": {
          "symbol": "circle"
         },
         "mode": "lines",
         "name": "OCO - UHLMANN 1 Packaging Line",
         "orientation": "v",
         "showlegend": true,
         "type": "scatter",
         "x": [
          "2021-11-07T00:00:00",
          "2021-11-14T00:00:00",
          "2021-11-21T00:00:00",
          "2021-11-28T00:00:00",
          "2021-12-05T00:00:00",
          "2021-12-12T00:00:00"
         ],
         "xaxis": "x",
         "y": [
          0.7071267711187343,
          0.7290369355149845,
          0.7352381953749534,
          0.7135955831847927,
          0.744747384894419,
          0.7080346376466282
         ],
         "yaxis": "y"
        },
        {
         "hovertemplate": "Line=OCO - UHLMANN 2 Packaging Line<br>Date=%{x}<br>OEE %=%{y}<extra></extra>",
         "legendgroup": "OCO - UHLMANN 2 Packaging Line",
         "line": {
          "color": "#636efa",
          "dash": "solid"
         },
         "marker": {
          "symbol": "circle"
         },
         "mode": "lines",
         "name": "OCO - UHLMANN 2 Packaging Line",
         "orientation": "v",
         "showlegend": true,
         "type": "scatter",
         "x": [
          "2021-11-07T00:00:00",
          "2021-11-14T00:00:00",
          "2021-11-21T00:00:00",
          "2021-11-28T00:00:00",
          "2021-12-05T00:00:00",
          "2021-12-12T00:00:00"
         ],
         "xaxis": "x",
         "y": [
          0.627792872499947,
          0.6132230878085516,
          0.621028861732269,
          0.6228630418709405,
          0.6473678430601039,
          0.6542982575540889
         ],
         "yaxis": "y"
        },
        {
         "hovertemplate": "Line=ORI - EG123<br>Date=%{x}<br>OEE %=%{y}<extra></extra>",
         "legendgroup": "ORI - EG123",
         "line": {
          "color": "#EF553B",
          "dash": "solid"
         },
         "marker": {
          "symbol": "circle"
         },
         "mode": "lines",
         "name": "ORI - EG123",
         "orientation": "v",
         "showlegend": true,
         "type": "scatter",
         "x": [
          "2021-12-12T00:00:00"
         ],
         "xaxis": "x",
         "y": [
          0.6403485797842052
         ],
         "yaxis": "y"
        },
        {
         "hovertemplate": "Line=ORI - L27<br>Date=%{x}<br>OEE %=%{y}<extra></extra>",
         "legendgroup": "ORI - L27",
         "line": {
          "color": "#00cc96",
          "dash": "solid"
         },
         "marker": {
          "symbol": "circle"
         },
         "mode": "lines",
         "name": "ORI - L27",
         "orientation": "v",
         "showlegend": true,
         "type": "scatter",
         "x": [
          "2021-12-12T00:00:00"
         ],
         "xaxis": "x",
         "y": [
          0.21000796205506056
         ],
         "yaxis": "y"
        },
        {
         "hovertemplate": "Line=RDG - H6 Syringe Filling Line<br>Date=%{x}<br>OEE %=%{y}<extra></extra>",
         "legendgroup": "RDG - H6 Syringe Filling Line",
         "line": {
          "color": "#ab63fa",
          "dash": "solid"
         },
         "marker": {
          "symbol": "circle"
         },
         "mode": "lines",
         "name": "RDG - H6 Syringe Filling Line",
         "orientation": "v",
         "showlegend": true,
         "type": "scatter",
         "x": [
          "2021-11-07T00:00:00",
          "2021-11-14T00:00:00"
         ],
         "xaxis": "x",
         "y": [
          0.6467911312324469,
          0.5983971320465484
         ],
         "yaxis": "y"
        },
        {
         "hovertemplate": "Line=RDG - Synvisc Packaging Line<br>Date=%{x}<br>OEE %=%{y}<extra></extra>",
         "legendgroup": "RDG - Synvisc Packaging Line",
         "line": {
          "color": "#FFA15A",
          "dash": "solid"
         },
         "marker": {
          "symbol": "circle"
         },
         "mode": "lines",
         "name": "RDG - Synvisc Packaging Line",
         "orientation": "v",
         "showlegend": true,
         "type": "scatter",
         "x": [
          "2021-11-07T00:00:00",
          "2021-11-14T00:00:00",
          "2021-11-21T00:00:00"
         ],
         "xaxis": "x",
         "y": [
          0.412158264541734,
          0.3956175242953937,
          0.4114045319760403
         ],
         "yaxis": "y"
        },
        {
         "hovertemplate": "Line=SCO - COLLE1<br>Date=%{x}<br>OEE %=%{y}<extra></extra>",
         "legendgroup": "SCO - COLLE1",
         "line": {
          "color": "#19d3f3",
          "dash": "solid"
         },
         "marker": {
          "symbol": "circle"
         },
         "mode": "lines",
         "name": "SCO - COLLE1",
         "orientation": "v",
         "showlegend": true,
         "type": "scatter",
         "x": [
          "2021-12-05T00:00:00",
          "2021-12-12T00:00:00"
         ],
         "xaxis": "x",
         "y": [
          0.0921920124639003,
          0.0921920124639003
         ],
         "yaxis": "y"
        },
        {
         "hovertemplate": "Line=SCO - COLLE2<br>Date=%{x}<br>OEE %=%{y}<extra></extra>",
         "legendgroup": "SCO - COLLE2",
         "line": {
          "color": "#FF6692",
          "dash": "solid"
         },
         "marker": {
          "symbol": "circle"
         },
         "mode": "lines",
         "name": "SCO - COLLE2",
         "orientation": "v",
         "showlegend": true,
         "type": "scatter",
         "x": [
          "2021-11-07T00:00:00",
          "2021-11-14T00:00:00",
          "2021-11-21T00:00:00",
          "2021-11-28T00:00:00",
          "2021-12-05T00:00:00",
          "2021-12-12T00:00:00"
         ],
         "xaxis": "x",
         "y": [
          2.7755575615628914e-17,
          0.0016534391534391818,
          0.0016534391534391818,
          0.0016534391534391818,
          0.0016534391534391818,
          2.7755575615628914e-17
         ],
         "yaxis": "y"
        },
        {
         "hovertemplate": "Line=SCO - Diosna 1<br>Date=%{x}<br>OEE %=%{y}<extra></extra>",
         "legendgroup": "SCO - Diosna 1",
         "line": {
          "color": "#B6E880",
          "dash": "solid"
         },
         "marker": {
          "symbol": "circle"
         },
         "mode": "lines",
         "name": "SCO - Diosna 1",
         "orientation": "v",
         "showlegend": true,
         "type": "scatter",
         "x": [
          "2021-11-07T00:00:00",
          "2021-11-14T00:00:00",
          "2021-11-21T00:00:00",
          "2021-11-28T00:00:00",
          "2021-12-05T00:00:00",
          "2021-12-12T00:00:00"
         ],
         "xaxis": "x",
         "y": [
          0.09449407025879261,
          0.10286879759199036,
          0.10302450156086931,
          0.10136153695454671,
          0.06438131530562657,
          0.04227135172481418
         ],
         "yaxis": "y"
        },
        {
         "hovertemplate": "Line=SCO - Diosna 2<br>Date=%{x}<br>OEE %=%{y}<extra></extra>",
         "legendgroup": "SCO - Diosna 2",
         "line": {
          "color": "#FF97FF",
          "dash": "solid"
         },
         "marker": {
          "symbol": "circle"
         },
         "mode": "lines",
         "name": "SCO - Diosna 2",
         "orientation": "v",
         "showlegend": true,
         "type": "scatter",
         "x": [
          "2021-11-07T00:00:00",
          "2021-11-14T00:00:00",
          "2021-11-21T00:00:00",
          "2021-11-28T00:00:00",
          "2021-12-05T00:00:00",
          "2021-12-12T00:00:00"
         ],
         "xaxis": "x",
         "y": [
          0.07392015398952784,
          0.07555592712966169,
          0.09047486979286191,
          0.060390688715224086,
          0.052754086967674724,
          0.045223795221251334
         ],
         "yaxis": "y"
        },
        {
         "hovertemplate": "Line=SCO - GAMMA1<br>Date=%{x}<br>OEE %=%{y}<extra></extra>",
         "legendgroup": "SCO - GAMMA1",
         "line": {
          "color": "#FECB52",
          "dash": "solid"
         },
         "marker": {
          "symbol": "circle"
         },
         "mode": "lines",
         "name": "SCO - GAMMA1",
         "orientation": "v",
         "showlegend": true,
         "type": "scatter",
         "x": [
          "2021-11-07T00:00:00",
          "2021-11-14T00:00:00",
          "2021-11-21T00:00:00",
          "2021-11-28T00:00:00",
          "2021-12-05T00:00:00",
          "2021-12-12T00:00:00"
         ],
         "xaxis": "x",
         "y": [
          0.553870405475471,
          0.5752794273811264,
          0.5479053807255532,
          0.6078701607950878,
          0.5716657787573725,
          0.4918879889956489
         ],
         "yaxis": "y"
        },
        {
         "hovertemplate": "Line=SCO - GAMMA2<br>Date=%{x}<br>OEE %=%{y}<extra></extra>",
         "legendgroup": "SCO - GAMMA2",
         "line": {
          "color": "#636efa",
          "dash": "solid"
         },
         "marker": {
          "symbol": "circle"
         },
         "mode": "lines",
         "name": "SCO - GAMMA2",
         "orientation": "v",
         "showlegend": true,
         "type": "scatter",
         "x": [
          "2021-11-07T00:00:00",
          "2021-11-14T00:00:00",
          "2021-11-21T00:00:00",
          "2021-11-28T00:00:00",
          "2021-12-05T00:00:00",
          "2021-12-12T00:00:00"
         ],
         "xaxis": "x",
         "y": [
          0.34523862790639664,
          0.340775812006108,
          0.3364711589680418,
          0.3200485614742577,
          0.32616720433624125,
          0.31985407804889554
         ],
         "yaxis": "y"
        },
        {
         "hovertemplate": "Line=SCO - GAMMA3<br>Date=%{x}<br>OEE %=%{y}<extra></extra>",
         "legendgroup": "SCO - GAMMA3",
         "line": {
          "color": "#EF553B",
          "dash": "solid"
         },
         "marker": {
          "symbol": "circle"
         },
         "mode": "lines",
         "name": "SCO - GAMMA3",
         "orientation": "v",
         "showlegend": true,
         "type": "scatter",
         "x": [
          "2021-11-07T00:00:00",
          "2021-11-14T00:00:00",
          "2021-11-21T00:00:00",
          "2021-11-28T00:00:00",
          "2021-12-05T00:00:00",
          "2021-12-12T00:00:00"
         ],
         "xaxis": "x",
         "y": [
          0.42870272984391955,
          0.45889723730942583,
          0.44121544011692526,
          0.43691379877692044,
          0.4766839955587891,
          0.423025911477818
         ],
         "yaxis": "y"
        },
        {
         "hovertemplate": "Line=SCO - Gamma4<br>Date=%{x}<br>OEE %=%{y}<extra></extra>",
         "legendgroup": "SCO - Gamma4",
         "line": {
          "color": "#00cc96",
          "dash": "solid"
         },
         "marker": {
          "symbol": "circle"
         },
         "mode": "lines",
         "name": "SCO - Gamma4",
         "orientation": "v",
         "showlegend": true,
         "type": "scatter",
         "x": [
          "2021-11-14T00:00:00",
          "2021-11-21T00:00:00",
          "2021-11-28T00:00:00",
          "2021-12-05T00:00:00",
          "2021-12-12T00:00:00"
         ],
         "xaxis": "x",
         "y": [
          0.5275715807143703,
          0.5238282442128619,
          0.5519678889596495,
          0.5613977257228404,
          0.5606067361355895
         ],
         "yaxis": "y"
        },
        {
         "hovertemplate": "Line=SCO - IMA C80/1<br>Date=%{x}<br>OEE %=%{y}<extra></extra>",
         "legendgroup": "SCO - IMA C80/1",
         "line": {
          "color": "#ab63fa",
          "dash": "solid"
         },
         "marker": {
          "symbol": "circle"
         },
         "mode": "lines",
         "name": "SCO - IMA C80/1",
         "orientation": "v",
         "showlegend": true,
         "type": "scatter",
         "x": [
          "2021-11-07T00:00:00",
          "2021-11-14T00:00:00",
          "2021-11-21T00:00:00",
          "2021-11-28T00:00:00",
          "2021-12-05T00:00:00"
         ],
         "xaxis": "x",
         "y": [
          0.5357198290702487,
          0.526423081563052,
          0.5093948977603474,
          0.49514290728486565,
          0.5221618735647933
         ],
         "yaxis": "y"
        },
        {
         "hovertemplate": "Line=SCO - IMA C80/2<br>Date=%{x}<br>OEE %=%{y}<extra></extra>",
         "legendgroup": "SCO - IMA C80/2",
         "line": {
          "color": "#FFA15A",
          "dash": "solid"
         },
         "marker": {
          "symbol": "circle"
         },
         "mode": "lines",
         "name": "SCO - IMA C80/2",
         "orientation": "v",
         "showlegend": true,
         "type": "scatter",
         "x": [
          "2021-11-07T00:00:00",
          "2021-11-14T00:00:00",
          "2021-11-21T00:00:00",
          "2021-11-28T00:00:00",
          "2021-12-05T00:00:00",
          "2021-12-12T00:00:00"
         ],
         "xaxis": "x",
         "y": [
          0.553241570946705,
          0.5378746087631986,
          0.5221461692738595,
          0.5309138476751278,
          0.565136085808005,
          0.6479376812029845
         ],
         "yaxis": "y"
        },
        {
         "hovertemplate": "Line=SCO - IMA C80/3<br>Date=%{x}<br>OEE %=%{y}<extra></extra>",
         "legendgroup": "SCO - IMA C80/3",
         "line": {
          "color": "#19d3f3",
          "dash": "solid"
         },
         "marker": {
          "symbol": "circle"
         },
         "mode": "lines",
         "name": "SCO - IMA C80/3",
         "orientation": "v",
         "showlegend": true,
         "type": "scatter",
         "x": [
          "2021-11-07T00:00:00",
          "2021-11-14T00:00:00",
          "2021-11-21T00:00:00",
          "2021-11-28T00:00:00",
          "2021-12-05T00:00:00",
          "2021-12-12T00:00:00"
         ],
         "xaxis": "x",
         "y": [
          0.5215795408146764,
          0.5235190750862763,
          0.46764885455076644,
          0.49005187495659097,
          0.45669768250609594,
          0.4985624469813135
         ],
         "yaxis": "y"
        },
        {
         "hovertemplate": "Line=SCO - IMA C80/4<br>Date=%{x}<br>OEE %=%{y}<extra></extra>",
         "legendgroup": "SCO - IMA C80/4",
         "line": {
          "color": "#FF6692",
          "dash": "solid"
         },
         "marker": {
          "symbol": "circle"
         },
         "mode": "lines",
         "name": "SCO - IMA C80/4",
         "orientation": "v",
         "showlegend": true,
         "type": "scatter",
         "x": [
          "2021-11-14T00:00:00",
          "2021-11-21T00:00:00",
          "2021-11-28T00:00:00",
          "2021-12-05T00:00:00",
          "2021-12-12T00:00:00"
         ],
         "xaxis": "x",
         "y": [
          0.3042148268210931,
          0.35091613642102,
          0.36152952596682986,
          0.3884442428243465,
          0.37626426307616306
         ],
         "yaxis": "y"
        },
        {
         "hovertemplate": "Line=SCO - PAR102<br>Date=%{x}<br>OEE %=%{y}<extra></extra>",
         "legendgroup": "SCO - PAR102",
         "line": {
          "color": "#B6E880",
          "dash": "solid"
         },
         "marker": {
          "symbol": "circle"
         },
         "mode": "lines",
         "name": "SCO - PAR102",
         "orientation": "v",
         "showlegend": true,
         "type": "scatter",
         "x": [
          "2021-11-07T00:00:00",
          "2021-11-14T00:00:00",
          "2021-11-21T00:00:00",
          "2021-11-28T00:00:00",
          "2021-12-05T00:00:00",
          "2021-12-12T00:00:00"
         ],
         "xaxis": "x",
         "y": [
          0.414002843100415,
          0.4247787030661281,
          0.45192162530375307,
          0.46856962067779917,
          0.4509354033477317,
          0.43628456240967883
         ],
         "yaxis": "y"
        },
        {
         "hovertemplate": "Line=SCO - PART92<br>Date=%{x}<br>OEE %=%{y}<extra></extra>",
         "legendgroup": "SCO - PART92",
         "line": {
          "color": "#FF97FF",
          "dash": "solid"
         },
         "marker": {
          "symbol": "circle"
         },
         "mode": "lines",
         "name": "SCO - PART92",
         "orientation": "v",
         "showlegend": true,
         "type": "scatter",
         "x": [
          "2021-11-07T00:00:00",
          "2021-11-14T00:00:00",
          "2021-11-21T00:00:00",
          "2021-11-28T00:00:00",
          "2021-12-05T00:00:00",
          "2021-12-12T00:00:00"
         ],
         "xaxis": "x",
         "y": [
          0.42898057001413564,
          0.4042612763308145,
          0.4193907614022397,
          0.4243216407999587,
          0.441484130154769,
          0.4351064178406872
         ],
         "yaxis": "y"
        },
        {
         "hovertemplate": "Line=SCO - U3<br>Date=%{x}<br>OEE %=%{y}<extra></extra>",
         "legendgroup": "SCO - U3",
         "line": {
          "color": "#FECB52",
          "dash": "solid"
         },
         "marker": {
          "symbol": "circle"
         },
         "mode": "lines",
         "name": "SCO - U3",
         "orientation": "v",
         "showlegend": true,
         "type": "scatter",
         "x": [
          "2021-11-21T00:00:00",
          "2021-11-28T00:00:00",
          "2021-12-05T00:00:00",
          "2021-12-12T00:00:00"
         ],
         "xaxis": "x",
         "y": [
          0.5183889835663855,
          0.5334116627353057,
          0.5500379148902688,
          0.49581691313427356
         ],
         "yaxis": "y"
        },
        {
         "hovertemplate": "Line=SUZ - BAUSCH<br>Date=%{x}<br>OEE %=%{y}<extra></extra>",
         "legendgroup": "SUZ - BAUSCH",
         "line": {
          "color": "#636efa",
          "dash": "solid"
         },
         "marker": {
          "symbol": "circle"
         },
         "mode": "lines",
         "name": "SUZ - BAUSCH",
         "orientation": "v",
         "showlegend": true,
         "type": "scatter",
         "x": [
          "2021-12-05T00:00:00",
          "2021-12-12T00:00:00"
         ],
         "xaxis": "x",
         "y": [
          0.6686818703586311,
          0.5913039190272875
         ],
         "yaxis": "y"
        },
        {
         "hovertemplate": "Line=SUZ - EFERVESCENT CEWIN<br>Date=%{x}<br>OEE %=%{y}<extra></extra>",
         "legendgroup": "SUZ - EFERVESCENT CEWIN",
         "line": {
          "color": "#EF553B",
          "dash": "solid"
         },
         "marker": {
          "symbol": "circle"
         },
         "mode": "lines",
         "name": "SUZ - EFERVESCENT CEWIN",
         "orientation": "v",
         "showlegend": true,
         "type": "scatter",
         "x": [
          "2021-11-07T00:00:00",
          "2021-11-14T00:00:00",
          "2021-11-21T00:00:00",
          "2021-11-28T00:00:00",
          "2021-12-05T00:00:00",
          "2021-12-12T00:00:00"
         ],
         "xaxis": "x",
         "y": [
          0.2756695313607231,
          0.2577171324170437,
          0.23320997771396423,
          0.20855827814729494,
          0.2148752340741355,
          0.21549990191142826
         ],
         "yaxis": "y"
        },
        {
         "hovertemplate": "Line=SUZ - EYE DROPS OPTIMA<br>Date=%{x}<br>OEE %=%{y}<extra></extra>",
         "legendgroup": "SUZ - EYE DROPS OPTIMA",
         "line": {
          "color": "#00cc96",
          "dash": "solid"
         },
         "marker": {
          "symbol": "circle"
         },
         "mode": "lines",
         "name": "SUZ - EYE DROPS OPTIMA",
         "orientation": "v",
         "showlegend": true,
         "type": "scatter",
         "x": [
          "2021-11-28T00:00:00",
          "2021-12-05T00:00:00"
         ],
         "xaxis": "x",
         "y": [
          0.411797248066465,
          0.4489145550655239
         ],
         "yaxis": "y"
        },
        {
         "hovertemplate": "Line=SUZ - FARCON<br>Date=%{x}<br>OEE %=%{y}<extra></extra>",
         "legendgroup": "SUZ - FARCON",
         "line": {
          "color": "#ab63fa",
          "dash": "solid"
         },
         "marker": {
          "symbol": "circle"
         },
         "mode": "lines",
         "name": "SUZ - FARCON",
         "orientation": "v",
         "showlegend": true,
         "type": "scatter",
         "x": [
          "2021-11-07T00:00:00",
          "2021-11-14T00:00:00",
          "2021-11-21T00:00:00",
          "2021-11-28T00:00:00"
         ],
         "xaxis": "x",
         "y": [
          0.456747745877523,
          0.4332450043769408,
          0.37694763647203233,
          0.34835299757985955
         ],
         "yaxis": "y"
        },
        {
         "hovertemplate": "Line=SUZ - FETTE 2090 I<br>Date=%{x}<br>OEE %=%{y}<extra></extra>",
         "legendgroup": "SUZ - FETTE 2090 I",
         "line": {
          "color": "#FFA15A",
          "dash": "solid"
         },
         "marker": {
          "symbol": "circle"
         },
         "mode": "lines",
         "name": "SUZ - FETTE 2090 I",
         "orientation": "v",
         "showlegend": true,
         "type": "scatter",
         "x": [
          "2021-11-28T00:00:00",
          "2021-12-05T00:00:00",
          "2021-12-12T00:00:00"
         ],
         "xaxis": "x",
         "y": [
          0.1962087621994884,
          0.07007760466130121,
          5.551115123125783e-17
         ],
         "yaxis": "y"
        },
        {
         "hovertemplate": "Line=SUZ - FETTE 2090 IV<br>Date=%{x}<br>OEE %=%{y}<extra></extra>",
         "legendgroup": "SUZ - FETTE 2090 IV",
         "line": {
          "color": "#19d3f3",
          "dash": "solid"
         },
         "marker": {
          "symbol": "circle"
         },
         "mode": "lines",
         "name": "SUZ - FETTE 2090 IV",
         "orientation": "v",
         "showlegend": true,
         "type": "scatter",
         "x": [
          "2021-11-28T00:00:00",
          "2021-12-05T00:00:00",
          "2021-12-12T00:00:00"
         ],
         "xaxis": "x",
         "y": [
          0.5286092766356013,
          0.4003180499136789,
          0.6253640045259018
         ],
         "yaxis": "y"
        },
        {
         "hovertemplate": "Line=SUZ - FETTE 3090 I<br>Date=%{x}<br>OEE %=%{y}<extra></extra>",
         "legendgroup": "SUZ - FETTE 3090 I",
         "line": {
          "color": "#FF6692",
          "dash": "solid"
         },
         "marker": {
          "symbol": "circle"
         },
         "mode": "lines",
         "name": "SUZ - FETTE 3090 I",
         "orientation": "v",
         "showlegend": true,
         "type": "scatter",
         "x": [
          "2021-11-28T00:00:00",
          "2021-12-05T00:00:00",
          "2021-12-12T00:00:00"
         ],
         "xaxis": "x",
         "y": [
          0.3192930572457815,
          0.39836101356037107,
          0.33603218152471614
         ],
         "yaxis": "y"
        },
        {
         "hovertemplate": "Line=SUZ - FETTE 3090 III<br>Date=%{x}<br>OEE %=%{y}<extra></extra>",
         "legendgroup": "SUZ - FETTE 3090 III",
         "line": {
          "color": "#B6E880",
          "dash": "solid"
         },
         "marker": {
          "symbol": "circle"
         },
         "mode": "lines",
         "name": "SUZ - FETTE 3090 III",
         "orientation": "v",
         "showlegend": true,
         "type": "scatter",
         "x": [
          "2021-11-28T00:00:00",
          "2021-12-05T00:00:00",
          "2021-12-12T00:00:00"
         ],
         "xaxis": "x",
         "y": [
          0.007992995203123531,
          0.01818224882126874,
          0.0189552807301566
         ],
         "yaxis": "y"
        },
        {
         "hovertemplate": "Line=SUZ - GRON.DROPS/SPRAY<br>Date=%{x}<br>OEE %=%{y}<extra></extra>",
         "legendgroup": "SUZ - GRON.DROPS/SPRAY",
         "line": {
          "color": "#FF97FF",
          "dash": "solid"
         },
         "marker": {
          "symbol": "circle"
         },
         "mode": "lines",
         "name": "SUZ - GRON.DROPS/SPRAY",
         "orientation": "v",
         "showlegend": true,
         "type": "scatter",
         "x": [
          "2021-11-07T00:00:00",
          "2021-11-14T00:00:00",
          "2021-11-21T00:00:00",
          "2021-11-28T00:00:00",
          "2021-12-05T00:00:00",
          "2021-12-12T00:00:00"
         ],
         "xaxis": "x",
         "y": [
          0.4839540005686895,
          0.44829191370333804,
          0.4114244791033846,
          0.41987260318854036,
          0.42651546292301623,
          0.4754230880861302
         ],
         "yaxis": "y"
        },
        {
         "hovertemplate": "Line=SUZ - GRON.SYRUP<br>Date=%{x}<br>OEE %=%{y}<extra></extra>",
         "legendgroup": "SUZ - GRON.SYRUP",
         "line": {
          "color": "#FECB52",
          "dash": "solid"
         },
         "marker": {
          "symbol": "circle"
         },
         "mode": "lines",
         "name": "SUZ - GRON.SYRUP",
         "orientation": "v",
         "showlegend": true,
         "type": "scatter",
         "x": [
          "2021-12-05T00:00:00"
         ],
         "xaxis": "x",
         "y": [
          0.3038455348691139
         ],
         "yaxis": "y"
        },
        {
         "hovertemplate": "Line=SUZ - IMA DERMACYD<br>Date=%{x}<br>OEE %=%{y}<extra></extra>",
         "legendgroup": "SUZ - IMA DERMACYD",
         "line": {
          "color": "#636efa",
          "dash": "solid"
         },
         "marker": {
          "symbol": "circle"
         },
         "mode": "lines",
         "name": "SUZ - IMA DERMACYD",
         "orientation": "v",
         "showlegend": true,
         "type": "scatter",
         "x": [
          "2021-12-05T00:00:00",
          "2021-12-12T00:00:00"
         ],
         "xaxis": "x",
         "y": [
          0.5837373851595222,
          0.5702332229827526
         ],
         "yaxis": "y"
        },
        {
         "hovertemplate": "Line=SUZ - LINE 01 - UHLMANN 1880<br>Date=%{x}<br>OEE %=%{y}<extra></extra>",
         "legendgroup": "SUZ - LINE 01 - UHLMANN 1880",
         "line": {
          "color": "#EF553B",
          "dash": "solid"
         },
         "marker": {
          "symbol": "circle"
         },
         "mode": "lines",
         "name": "SUZ - LINE 01 - UHLMANN 1880",
         "orientation": "v",
         "showlegend": true,
         "type": "scatter",
         "x": [
          "2021-11-07T00:00:00",
          "2021-11-14T00:00:00",
          "2021-11-21T00:00:00",
          "2021-11-28T00:00:00",
          "2021-12-05T00:00:00",
          "2021-12-12T00:00:00"
         ],
         "xaxis": "x",
         "y": [
          0.5347389201218316,
          0.5020092241974188,
          0.4519525831803129,
          0.4466584809889064,
          0.3290819363451266,
          0.30251099866701303
         ],
         "yaxis": "y"
        },
        {
         "hovertemplate": "Line=SUZ - LINE 02 - UHLMANN 1030<br>Date=%{x}<br>OEE %=%{y}<extra></extra>",
         "legendgroup": "SUZ - LINE 02 - UHLMANN 1030",
         "line": {
          "color": "#00cc96",
          "dash": "solid"
         },
         "marker": {
          "symbol": "circle"
         },
         "mode": "lines",
         "name": "SUZ - LINE 02 - UHLMANN 1030",
         "orientation": "v",
         "showlegend": true,
         "type": "scatter",
         "x": [
          "2021-11-07T00:00:00",
          "2021-11-14T00:00:00",
          "2021-11-21T00:00:00",
          "2021-11-28T00:00:00",
          "2021-12-05T00:00:00",
          "2021-12-12T00:00:00"
         ],
         "xaxis": "x",
         "y": [
          0.46894333545946076,
          0.49675129557205777,
          0.4841116310537481,
          0.4646457401468503,
          0.47679485553380085,
          0.4501293567303014
         ],
         "yaxis": "y"
        },
        {
         "hovertemplate": "Line=SUZ - LINE 03 - MEDISEAL CP600<br>Date=%{x}<br>OEE %=%{y}<extra></extra>",
         "legendgroup": "SUZ - LINE 03 - MEDISEAL CP600",
         "line": {
          "color": "#ab63fa",
          "dash": "solid"
         },
         "marker": {
          "symbol": "circle"
         },
         "mode": "lines",
         "name": "SUZ - LINE 03 - MEDISEAL CP600",
         "orientation": "v",
         "showlegend": true,
         "type": "scatter",
         "x": [
          "2021-11-07T00:00:00",
          "2021-11-14T00:00:00",
          "2021-11-21T00:00:00",
          "2021-11-28T00:00:00",
          "2021-12-05T00:00:00",
          "2021-12-12T00:00:00"
         ],
         "xaxis": "x",
         "y": [
          0.457719234001826,
          0.4270572897900732,
          0.450391908410386,
          0.41203904349557513,
          0.41201478450053114,
          0.4668126204316958
         ],
         "yaxis": "y"
        },
        {
         "hovertemplate": "Line=SUZ - LINE 04 - BOSCH TLT 1400<br>Date=%{x}<br>OEE %=%{y}<extra></extra>",
         "legendgroup": "SUZ - LINE 04 - BOSCH TLT 1400",
         "line": {
          "color": "#FFA15A",
          "dash": "solid"
         },
         "marker": {
          "symbol": "circle"
         },
         "mode": "lines",
         "name": "SUZ - LINE 04 - BOSCH TLT 1400",
         "orientation": "v",
         "showlegend": true,
         "type": "scatter",
         "x": [
          "2021-11-07T00:00:00",
          "2021-11-14T00:00:00",
          "2021-11-21T00:00:00",
          "2021-11-28T00:00:00",
          "2021-12-05T00:00:00",
          "2021-12-12T00:00:00"
         ],
         "xaxis": "x",
         "y": [
          0.4740906866311212,
          0.4322455552331246,
          0.4557905649517275,
          0.4566864857022072,
          0.4563924265957754,
          0.4592381421783636
         ],
         "yaxis": "y"
        },
        {
         "hovertemplate": "Line=SUZ - LINE 05 - SOLIDS IMA LINE<br>Date=%{x}<br>OEE %=%{y}<extra></extra>",
         "legendgroup": "SUZ - LINE 05 - SOLIDS IMA LINE",
         "line": {
          "color": "#19d3f3",
          "dash": "solid"
         },
         "marker": {
          "symbol": "circle"
         },
         "mode": "lines",
         "name": "SUZ - LINE 05 - SOLIDS IMA LINE",
         "orientation": "v",
         "showlegend": true,
         "type": "scatter",
         "x": [
          "2021-12-12T00:00:00"
         ],
         "xaxis": "x",
         "y": [
          0.3612307748937271
         ],
         "yaxis": "y"
        },
        {
         "hovertemplate": "Line=SUZ - LINE 06 - MEDISEAL CP 600 COMBO<br>Date=%{x}<br>OEE %=%{y}<extra></extra>",
         "legendgroup": "SUZ - LINE 06 - MEDISEAL CP 600 COMBO",
         "line": {
          "color": "#FF6692",
          "dash": "solid"
         },
         "marker": {
          "symbol": "circle"
         },
         "mode": "lines",
         "name": "SUZ - LINE 06 - MEDISEAL CP 600 COMBO",
         "orientation": "v",
         "showlegend": true,
         "type": "scatter",
         "x": [
          "2021-11-07T00:00:00",
          "2021-11-14T00:00:00",
          "2021-11-21T00:00:00",
          "2021-11-28T00:00:00",
          "2021-12-05T00:00:00",
          "2021-12-12T00:00:00"
         ],
         "xaxis": "x",
         "y": [
          0.4566200932231133,
          0.4709435055696884,
          0.4460557974007136,
          0.4779136390746458,
          0.5623098117351727,
          0.5380753123068699
         ],
         "yaxis": "y"
        },
        {
         "hovertemplate": "Line=SUZ - LINE 07 - UPS300<br>Date=%{x}<br>OEE %=%{y}<extra></extra>",
         "legendgroup": "SUZ - LINE 07 - UPS300",
         "line": {
          "color": "#B6E880",
          "dash": "solid"
         },
         "marker": {
          "symbol": "circle"
         },
         "mode": "lines",
         "name": "SUZ - LINE 07 - UPS300",
         "orientation": "v",
         "showlegend": true,
         "type": "scatter",
         "x": [
          "2021-11-07T00:00:00",
          "2021-11-14T00:00:00",
          "2021-11-21T00:00:00",
          "2021-11-28T00:00:00",
          "2021-12-05T00:00:00",
          "2021-12-12T00:00:00"
         ],
         "xaxis": "x",
         "y": [
          0.8845799978019757,
          0.8942714868223502,
          0.49839377495299364,
          0.5159450256477627,
          0.4945388809136868,
          0.46108728969687357
         ],
         "yaxis": "y"
        },
        {
         "hovertemplate": "Line=SUZ - LINE 10 - BOTTLES LINE<br>Date=%{x}<br>OEE %=%{y}<extra></extra>",
         "legendgroup": "SUZ - LINE 10 - BOTTLES LINE",
         "line": {
          "color": "#FF97FF",
          "dash": "solid"
         },
         "marker": {
          "symbol": "circle"
         },
         "mode": "lines",
         "name": "SUZ - LINE 10 - BOTTLES LINE",
         "orientation": "v",
         "showlegend": true,
         "type": "scatter",
         "x": [
          "2021-11-07T00:00:00",
          "2021-11-14T00:00:00",
          "2021-11-21T00:00:00",
          "2021-11-28T00:00:00",
          "2021-12-05T00:00:00",
          "2021-12-12T00:00:00"
         ],
         "xaxis": "x",
         "y": [
          0.483918371808722,
          0.49094762854591245,
          0.3831089745296073,
          0.3366034529369142,
          0.3137408706307649,
          0.31000941600862547
         ],
         "yaxis": "y"
        },
        {
         "hovertemplate": "Line=SUZ - MARCHESINI<br>Date=%{x}<br>OEE %=%{y}<extra></extra>",
         "legendgroup": "SUZ - MARCHESINI",
         "line": {
          "color": "#FECB52",
          "dash": "solid"
         },
         "marker": {
          "symbol": "circle"
         },
         "mode": "lines",
         "name": "SUZ - MARCHESINI",
         "orientation": "v",
         "showlegend": true,
         "type": "scatter",
         "x": [
          "2021-11-07T00:00:00",
          "2021-11-14T00:00:00",
          "2021-11-21T00:00:00",
          "2021-11-28T00:00:00",
          "2021-12-05T00:00:00",
          "2021-12-12T00:00:00"
         ],
         "xaxis": "x",
         "y": [
          0.30767484692631936,
          0.3018058885113212,
          0.3075070335042327,
          0.31118429766227224,
          0.2900070614240021,
          0.29164228346898824
         ],
         "yaxis": "y"
        },
        {
         "hovertemplate": "Line=SUZ - MEDISEAL PURAN<br>Date=%{x}<br>OEE %=%{y}<extra></extra>",
         "legendgroup": "SUZ - MEDISEAL PURAN",
         "line": {
          "color": "#636efa",
          "dash": "solid"
         },
         "marker": {
          "symbol": "circle"
         },
         "mode": "lines",
         "name": "SUZ - MEDISEAL PURAN",
         "orientation": "v",
         "showlegend": true,
         "type": "scatter",
         "x": [
          "2021-11-07T00:00:00",
          "2021-11-14T00:00:00",
          "2021-11-21T00:00:00",
          "2021-11-28T00:00:00",
          "2021-12-05T00:00:00",
          "2021-12-12T00:00:00"
         ],
         "xaxis": "x",
         "y": [
          0.5920689830396757,
          0.5865431797642058,
          0.5416160375666859,
          0.5452487794820323,
          0.5376691818289479,
          0.5472553288082946
         ],
         "yaxis": "y"
        },
        {
         "hovertemplate": "Line=SUZ - NEWMAN<br>Date=%{x}<br>OEE %=%{y}<extra></extra>",
         "legendgroup": "SUZ - NEWMAN",
         "line": {
          "color": "#EF553B",
          "dash": "solid"
         },
         "marker": {
          "symbol": "circle"
         },
         "mode": "lines",
         "name": "SUZ - NEWMAN",
         "orientation": "v",
         "showlegend": true,
         "type": "scatter",
         "x": [
          "2021-11-07T00:00:00",
          "2021-11-14T00:00:00",
          "2021-11-21T00:00:00",
          "2021-11-28T00:00:00",
          "2021-12-05T00:00:00",
          "2021-12-12T00:00:00"
         ],
         "xaxis": "x",
         "y": [
          0.5919237694442737,
          0.5620565759941595,
          0.5629583460504293,
          0.587906765459414,
          0.6277527576416596,
          0.6368994835608331
         ],
         "yaxis": "y"
        },
        {
         "hovertemplate": "Line=SUZ - NIKKA<br>Date=%{x}<br>OEE %=%{y}<extra></extra>",
         "legendgroup": "SUZ - NIKKA",
         "line": {
          "color": "#00cc96",
          "dash": "solid"
         },
         "marker": {
          "symbol": "circle"
         },
         "mode": "lines",
         "name": "SUZ - NIKKA",
         "orientation": "v",
         "showlegend": true,
         "type": "scatter",
         "x": [
          "2021-12-05T00:00:00",
          "2021-12-12T00:00:00"
         ],
         "xaxis": "x",
         "y": [
          0.7288019369745867,
          0.7005465444770735
         ],
         "yaxis": "y"
        },
        {
         "hovertemplate": "Line=SUZ - POMADAS<br>Date=%{x}<br>OEE %=%{y}<extra></extra>",
         "legendgroup": "SUZ - POMADAS",
         "line": {
          "color": "#ab63fa",
          "dash": "solid"
         },
         "marker": {
          "symbol": "circle"
         },
         "mode": "lines",
         "name": "SUZ - POMADAS",
         "orientation": "v",
         "showlegend": true,
         "type": "scatter",
         "x": [
          "2021-12-12T00:00:00"
         ],
         "xaxis": "x",
         "y": [
          0.6165249492355379
         ],
         "yaxis": "y"
        },
        {
         "hovertemplate": "Line=SUZ - STRUNK<br>Date=%{x}<br>OEE %=%{y}<extra></extra>",
         "legendgroup": "SUZ - STRUNK",
         "line": {
          "color": "#FFA15A",
          "dash": "solid"
         },
         "marker": {
          "symbol": "circle"
         },
         "mode": "lines",
         "name": "SUZ - STRUNK",
         "orientation": "v",
         "showlegend": true,
         "type": "scatter",
         "x": [
          "2021-11-07T00:00:00",
          "2021-11-14T00:00:00",
          "2021-11-21T00:00:00",
          "2021-11-28T00:00:00",
          "2021-12-05T00:00:00"
         ],
         "xaxis": "x",
         "y": [
          0.5331803983197241,
          0.4614734846733694,
          0.526098839564823,
          0.5223904767246037,
          0.49954999510443576
         ],
         "yaxis": "y"
        },
        {
         "hovertemplate": "Line=SUZ - TARGIFOR<br>Date=%{x}<br>OEE %=%{y}<extra></extra>",
         "legendgroup": "SUZ - TARGIFOR",
         "line": {
          "color": "#19d3f3",
          "dash": "solid"
         },
         "marker": {
          "symbol": "circle"
         },
         "mode": "lines",
         "name": "SUZ - TARGIFOR",
         "orientation": "v",
         "showlegend": true,
         "type": "scatter",
         "x": [
          "2021-11-07T00:00:00",
          "2021-11-14T00:00:00",
          "2021-11-21T00:00:00",
          "2021-11-28T00:00:00",
          "2021-12-05T00:00:00",
          "2021-12-12T00:00:00"
         ],
         "xaxis": "x",
         "y": [
          0.48156582782082247,
          0.5267835451866136,
          0.566740675183274,
          0.5736151352066194,
          0.574699964125557,
          0.6231648713731348
         ],
         "yaxis": "y"
        },
        {
         "hovertemplate": "Line=SZX - Packaging line 3<br>Date=%{x}<br>OEE %=%{y}<extra></extra>",
         "legendgroup": "SZX - Packaging line 3",
         "line": {
          "color": "#FF6692",
          "dash": "solid"
         },
         "marker": {
          "symbol": "circle"
         },
         "mode": "lines",
         "name": "SZX - Packaging line 3",
         "orientation": "v",
         "showlegend": true,
         "type": "scatter",
         "x": [
          "2021-11-07T00:00:00",
          "2021-11-14T00:00:00",
          "2021-11-21T00:00:00",
          "2021-11-28T00:00:00",
          "2021-12-05T00:00:00",
          "2021-12-12T00:00:00"
         ],
         "xaxis": "x",
         "y": [
          0.41381597159730116,
          0.4417994468424927,
          0.4477964623019173,
          0.6205724095836306,
          0.6414332898291365,
          0.6635605344980479
         ],
         "yaxis": "y"
        },
        {
         "hovertemplate": "Line=TRS - L15 Packaging Line<br>Date=%{x}<br>OEE %=%{y}<extra></extra>",
         "legendgroup": "TRS - L15 Packaging Line",
         "line": {
          "color": "#B6E880",
          "dash": "solid"
         },
         "marker": {
          "symbol": "circle"
         },
         "mode": "lines",
         "name": "TRS - L15 Packaging Line",
         "orientation": "v",
         "showlegend": true,
         "type": "scatter",
         "x": [
          "2021-11-28T00:00:00",
          "2021-12-05T00:00:00",
          "2021-12-12T00:00:00"
         ],
         "xaxis": "x",
         "y": [
          0.3799530353164175,
          0.41379562161460703,
          0.37992956513227333
         ],
         "yaxis": "y"
        },
        {
         "hovertemplate": "Line=TRS - L19 Packaging Line<br>Date=%{x}<br>OEE %=%{y}<extra></extra>",
         "legendgroup": "TRS - L19 Packaging Line",
         "line": {
          "color": "#FF97FF",
          "dash": "solid"
         },
         "marker": {
          "symbol": "circle"
         },
         "mode": "lines",
         "name": "TRS - L19 Packaging Line",
         "orientation": "v",
         "showlegend": true,
         "type": "scatter",
         "x": [
          "2021-11-14T00:00:00",
          "2021-11-21T00:00:00",
          "2021-11-28T00:00:00",
          "2021-12-05T00:00:00",
          "2021-12-12T00:00:00"
         ],
         "xaxis": "x",
         "y": [
          0.31873251527008195,
          0.300133500408695,
          0.3415932781819974,
          0.4172262732379433,
          0.3778100532314635
         ],
         "yaxis": "y"
        },
        {
         "hovertemplate": "Line=TRS - L21 Packaging Line<br>Date=%{x}<br>OEE %=%{y}<extra></extra>",
         "legendgroup": "TRS - L21 Packaging Line",
         "line": {
          "color": "#FECB52",
          "dash": "solid"
         },
         "marker": {
          "symbol": "circle"
         },
         "mode": "lines",
         "name": "TRS - L21 Packaging Line",
         "orientation": "v",
         "showlegend": true,
         "type": "scatter",
         "x": [
          "2021-11-07T00:00:00",
          "2021-11-14T00:00:00",
          "2021-11-21T00:00:00",
          "2021-11-28T00:00:00",
          "2021-12-05T00:00:00",
          "2021-12-12T00:00:00"
         ],
         "xaxis": "x",
         "y": [
          0.41572422948277754,
          0.4420525693530037,
          0.4228225443530986,
          0.4475402555208378,
          0.4250280727478033,
          0.27791210432035945
         ],
         "yaxis": "y"
        },
        {
         "hovertemplate": "Line=TRS - L24 Packaging Line<br>Date=%{x}<br>OEE %=%{y}<extra></extra>",
         "legendgroup": "TRS - L24 Packaging Line",
         "line": {
          "color": "#636efa",
          "dash": "solid"
         },
         "marker": {
          "symbol": "circle"
         },
         "mode": "lines",
         "name": "TRS - L24 Packaging Line",
         "orientation": "v",
         "showlegend": true,
         "type": "scatter",
         "x": [
          "2021-12-05T00:00:00",
          "2021-12-12T00:00:00"
         ],
         "xaxis": "x",
         "y": [
          0.3855024932732208,
          0.3831466396913107
         ],
         "yaxis": "y"
        },
        {
         "hovertemplate": "Line=TRS - L25 Packaging Line<br>Date=%{x}<br>OEE %=%{y}<extra></extra>",
         "legendgroup": "TRS - L25 Packaging Line",
         "line": {
          "color": "#EF553B",
          "dash": "solid"
         },
         "marker": {
          "symbol": "circle"
         },
         "mode": "lines",
         "name": "TRS - L25 Packaging Line",
         "orientation": "v",
         "showlegend": true,
         "type": "scatter",
         "x": [
          "2021-11-07T00:00:00",
          "2021-11-14T00:00:00",
          "2021-11-21T00:00:00",
          "2021-11-28T00:00:00",
          "2021-12-05T00:00:00",
          "2021-12-12T00:00:00"
         ],
         "xaxis": "x",
         "y": [
          0.30935237561888057,
          0.3516653783179663,
          0.4047598127223452,
          0.3870434258739598,
          0.39273971164837057,
          0.3682840317907925
         ],
         "yaxis": "y"
        },
        {
         "hovertemplate": "Line=VDR - K32_1<br>Date=%{x}<br>OEE %=%{y}<extra></extra>",
         "legendgroup": "VDR - K32_1",
         "line": {
          "color": "#00cc96",
          "dash": "solid"
         },
         "marker": {
          "symbol": "circle"
         },
         "mode": "lines",
         "name": "VDR - K32_1",
         "orientation": "v",
         "showlegend": true,
         "type": "scatter",
         "x": [
          "2021-11-14T00:00:00",
          "2021-11-21T00:00:00",
          "2021-11-28T00:00:00",
          "2021-12-05T00:00:00",
          "2021-12-12T00:00:00"
         ],
         "xaxis": "x",
         "y": [
          0.4357613523607234,
          0.4526934849879466,
          0.4404500185185185,
          0.3943129814814815,
          0.3034664267029098
         ],
         "yaxis": "y"
        },
        {
         "hovertemplate": "Line=WAT - AIL1 Packaging<br>Date=%{x}<br>OEE %=%{y}<extra></extra>",
         "legendgroup": "WAT - AIL1 Packaging",
         "line": {
          "color": "#ab63fa",
          "dash": "solid"
         },
         "marker": {
          "symbol": "circle"
         },
         "mode": "lines",
         "name": "WAT - AIL1 Packaging",
         "orientation": "v",
         "showlegend": true,
         "type": "scatter",
         "x": [
          "2021-11-14T00:00:00",
          "2021-11-21T00:00:00",
          "2021-11-28T00:00:00",
          "2021-12-05T00:00:00",
          "2021-12-12T00:00:00"
         ],
         "xaxis": "x",
         "y": [
          0.6482058543811947,
          0.7663490374805237,
          0.7287629628936048,
          0.7710888621527375,
          0.8406869898094316
         ],
         "yaxis": "y"
        },
        {
         "hovertemplate": "Line=WAT - AIL2 ASSEMBLY<br>Date=%{x}<br>OEE %=%{y}<extra></extra>",
         "legendgroup": "WAT - AIL2 ASSEMBLY",
         "line": {
          "color": "#FFA15A",
          "dash": "solid"
         },
         "marker": {
          "symbol": "circle"
         },
         "mode": "lines",
         "name": "WAT - AIL2 ASSEMBLY",
         "orientation": "v",
         "showlegend": true,
         "type": "scatter",
         "x": [
          "2021-12-12T00:00:00"
         ],
         "xaxis": "x",
         "y": [
          0.4503758580923228
         ],
         "yaxis": "y"
        },
        {
         "hovertemplate": "Line=WAT - AIL2 Packaging<br>Date=%{x}<br>OEE %=%{y}<extra></extra>",
         "legendgroup": "WAT - AIL2 Packaging",
         "line": {
          "color": "#19d3f3",
          "dash": "solid"
         },
         "marker": {
          "symbol": "circle"
         },
         "mode": "lines",
         "name": "WAT - AIL2 Packaging",
         "orientation": "v",
         "showlegend": true,
         "type": "scatter",
         "x": [
          "2021-11-14T00:00:00",
          "2021-11-21T00:00:00",
          "2021-11-28T00:00:00",
          "2021-12-05T00:00:00",
          "2021-12-12T00:00:00"
         ],
         "xaxis": "x",
         "y": [
          0.45103635994023217,
          0.4314831755508463,
          0.398453059419826,
          0.4506010053598809,
          0.46279545429858976
         ],
         "yaxis": "y"
        },
        {
         "hovertemplate": "Line=WAT - LYO INSPECTION<br>Date=%{x}<br>OEE %=%{y}<extra></extra>",
         "legendgroup": "WAT - LYO INSPECTION",
         "line": {
          "color": "#FF6692",
          "dash": "solid"
         },
         "marker": {
          "symbol": "circle"
         },
         "mode": "lines",
         "name": "WAT - LYO INSPECTION",
         "orientation": "v",
         "showlegend": true,
         "type": "scatter",
         "x": [
          "2021-11-21T00:00:00",
          "2021-11-28T00:00:00",
          "2021-12-05T00:00:00",
          "2021-12-12T00:00:00"
         ],
         "xaxis": "x",
         "y": [
          11.186460677972896,
          12.336639999055174,
          11.705558649848825,
          11.711905116160121
         ],
         "yaxis": "y"
        },
        {
         "hovertemplate": "Line=WAT - LYO Packaging Line 3<br>Date=%{x}<br>OEE %=%{y}<extra></extra>",
         "legendgroup": "WAT - LYO Packaging Line 3",
         "line": {
          "color": "#B6E880",
          "dash": "solid"
         },
         "marker": {
          "symbol": "circle"
         },
         "mode": "lines",
         "name": "WAT - LYO Packaging Line 3",
         "orientation": "v",
         "showlegend": true,
         "type": "scatter",
         "x": [
          "2021-11-14T00:00:00",
          "2021-11-21T00:00:00",
          "2021-11-28T00:00:00",
          "2021-12-05T00:00:00",
          "2021-12-12T00:00:00"
         ],
         "xaxis": "x",
         "y": [
          0.07936057318490336,
          0.1143389890235845,
          0.13194992916867707,
          0.13876598615559702,
          0.1689019988979149
         ],
         "yaxis": "y"
        },
        {
         "hovertemplate": "Line=WAT - LYO Packaging Line 9<br>Date=%{x}<br>OEE %=%{y}<extra></extra>",
         "legendgroup": "WAT - LYO Packaging Line 9",
         "line": {
          "color": "#FF97FF",
          "dash": "solid"
         },
         "marker": {
          "symbol": "circle"
         },
         "mode": "lines",
         "name": "WAT - LYO Packaging Line 9",
         "orientation": "v",
         "showlegend": true,
         "type": "scatter",
         "x": [
          "2021-11-14T00:00:00",
          "2021-11-21T00:00:00",
          "2021-11-28T00:00:00",
          "2021-12-05T00:00:00",
          "2021-12-12T00:00:00"
         ],
         "xaxis": "x",
         "y": [
          0.16698821120799945,
          0.22241672290382353,
          0.2646290344897493,
          0.30637254053692065,
          0.33505063879531044
         ],
         "yaxis": "y"
        }
       ],
       "layout": {
        "legend": {
         "title": {
          "text": "Line"
         },
         "tracegroupgap": 0
        },
        "template": {
         "data": {
          "bar": [
           {
            "error_x": {
             "color": "#2a3f5f"
            },
            "error_y": {
             "color": "#2a3f5f"
            },
            "marker": {
             "line": {
              "color": "#E5ECF6",
              "width": 0.5
             },
             "pattern": {
              "fillmode": "overlay",
              "size": 10,
              "solidity": 0.2
             }
            },
            "type": "bar"
           }
          ],
          "barpolar": [
           {
            "marker": {
             "line": {
              "color": "#E5ECF6",
              "width": 0.5
             },
             "pattern": {
              "fillmode": "overlay",
              "size": 10,
              "solidity": 0.2
             }
            },
            "type": "barpolar"
           }
          ],
          "carpet": [
           {
            "aaxis": {
             "endlinecolor": "#2a3f5f",
             "gridcolor": "white",
             "linecolor": "white",
             "minorgridcolor": "white",
             "startlinecolor": "#2a3f5f"
            },
            "baxis": {
             "endlinecolor": "#2a3f5f",
             "gridcolor": "white",
             "linecolor": "white",
             "minorgridcolor": "white",
             "startlinecolor": "#2a3f5f"
            },
            "type": "carpet"
           }
          ],
          "choropleth": [
           {
            "colorbar": {
             "outlinewidth": 0,
             "ticks": ""
            },
            "type": "choropleth"
           }
          ],
          "contour": [
           {
            "colorbar": {
             "outlinewidth": 0,
             "ticks": ""
            },
            "colorscale": [
             [
              0,
              "#0d0887"
             ],
             [
              0.1111111111111111,
              "#46039f"
             ],
             [
              0.2222222222222222,
              "#7201a8"
             ],
             [
              0.3333333333333333,
              "#9c179e"
             ],
             [
              0.4444444444444444,
              "#bd3786"
             ],
             [
              0.5555555555555556,
              "#d8576b"
             ],
             [
              0.6666666666666666,
              "#ed7953"
             ],
             [
              0.7777777777777778,
              "#fb9f3a"
             ],
             [
              0.8888888888888888,
              "#fdca26"
             ],
             [
              1,
              "#f0f921"
             ]
            ],
            "type": "contour"
           }
          ],
          "contourcarpet": [
           {
            "colorbar": {
             "outlinewidth": 0,
             "ticks": ""
            },
            "type": "contourcarpet"
           }
          ],
          "heatmap": [
           {
            "colorbar": {
             "outlinewidth": 0,
             "ticks": ""
            },
            "colorscale": [
             [
              0,
              "#0d0887"
             ],
             [
              0.1111111111111111,
              "#46039f"
             ],
             [
              0.2222222222222222,
              "#7201a8"
             ],
             [
              0.3333333333333333,
              "#9c179e"
             ],
             [
              0.4444444444444444,
              "#bd3786"
             ],
             [
              0.5555555555555556,
              "#d8576b"
             ],
             [
              0.6666666666666666,
              "#ed7953"
             ],
             [
              0.7777777777777778,
              "#fb9f3a"
             ],
             [
              0.8888888888888888,
              "#fdca26"
             ],
             [
              1,
              "#f0f921"
             ]
            ],
            "type": "heatmap"
           }
          ],
          "heatmapgl": [
           {
            "colorbar": {
             "outlinewidth": 0,
             "ticks": ""
            },
            "colorscale": [
             [
              0,
              "#0d0887"
             ],
             [
              0.1111111111111111,
              "#46039f"
             ],
             [
              0.2222222222222222,
              "#7201a8"
             ],
             [
              0.3333333333333333,
              "#9c179e"
             ],
             [
              0.4444444444444444,
              "#bd3786"
             ],
             [
              0.5555555555555556,
              "#d8576b"
             ],
             [
              0.6666666666666666,
              "#ed7953"
             ],
             [
              0.7777777777777778,
              "#fb9f3a"
             ],
             [
              0.8888888888888888,
              "#fdca26"
             ],
             [
              1,
              "#f0f921"
             ]
            ],
            "type": "heatmapgl"
           }
          ],
          "histogram": [
           {
            "marker": {
             "pattern": {
              "fillmode": "overlay",
              "size": 10,
              "solidity": 0.2
             }
            },
            "type": "histogram"
           }
          ],
          "histogram2d": [
           {
            "colorbar": {
             "outlinewidth": 0,
             "ticks": ""
            },
            "colorscale": [
             [
              0,
              "#0d0887"
             ],
             [
              0.1111111111111111,
              "#46039f"
             ],
             [
              0.2222222222222222,
              "#7201a8"
             ],
             [
              0.3333333333333333,
              "#9c179e"
             ],
             [
              0.4444444444444444,
              "#bd3786"
             ],
             [
              0.5555555555555556,
              "#d8576b"
             ],
             [
              0.6666666666666666,
              "#ed7953"
             ],
             [
              0.7777777777777778,
              "#fb9f3a"
             ],
             [
              0.8888888888888888,
              "#fdca26"
             ],
             [
              1,
              "#f0f921"
             ]
            ],
            "type": "histogram2d"
           }
          ],
          "histogram2dcontour": [
           {
            "colorbar": {
             "outlinewidth": 0,
             "ticks": ""
            },
            "colorscale": [
             [
              0,
              "#0d0887"
             ],
             [
              0.1111111111111111,
              "#46039f"
             ],
             [
              0.2222222222222222,
              "#7201a8"
             ],
             [
              0.3333333333333333,
              "#9c179e"
             ],
             [
              0.4444444444444444,
              "#bd3786"
             ],
             [
              0.5555555555555556,
              "#d8576b"
             ],
             [
              0.6666666666666666,
              "#ed7953"
             ],
             [
              0.7777777777777778,
              "#fb9f3a"
             ],
             [
              0.8888888888888888,
              "#fdca26"
             ],
             [
              1,
              "#f0f921"
             ]
            ],
            "type": "histogram2dcontour"
           }
          ],
          "mesh3d": [
           {
            "colorbar": {
             "outlinewidth": 0,
             "ticks": ""
            },
            "type": "mesh3d"
           }
          ],
          "parcoords": [
           {
            "line": {
             "colorbar": {
              "outlinewidth": 0,
              "ticks": ""
             }
            },
            "type": "parcoords"
           }
          ],
          "pie": [
           {
            "automargin": true,
            "type": "pie"
           }
          ],
          "scatter": [
           {
            "marker": {
             "colorbar": {
              "outlinewidth": 0,
              "ticks": ""
             }
            },
            "type": "scatter"
           }
          ],
          "scatter3d": [
           {
            "line": {
             "colorbar": {
              "outlinewidth": 0,
              "ticks": ""
             }
            },
            "marker": {
             "colorbar": {
              "outlinewidth": 0,
              "ticks": ""
             }
            },
            "type": "scatter3d"
           }
          ],
          "scattercarpet": [
           {
            "marker": {
             "colorbar": {
              "outlinewidth": 0,
              "ticks": ""
             }
            },
            "type": "scattercarpet"
           }
          ],
          "scattergeo": [
           {
            "marker": {
             "colorbar": {
              "outlinewidth": 0,
              "ticks": ""
             }
            },
            "type": "scattergeo"
           }
          ],
          "scattergl": [
           {
            "marker": {
             "colorbar": {
              "outlinewidth": 0,
              "ticks": ""
             }
            },
            "type": "scattergl"
           }
          ],
          "scattermapbox": [
           {
            "marker": {
             "colorbar": {
              "outlinewidth": 0,
              "ticks": ""
             }
            },
            "type": "scattermapbox"
           }
          ],
          "scatterpolar": [
           {
            "marker": {
             "colorbar": {
              "outlinewidth": 0,
              "ticks": ""
             }
            },
            "type": "scatterpolar"
           }
          ],
          "scatterpolargl": [
           {
            "marker": {
             "colorbar": {
              "outlinewidth": 0,
              "ticks": ""
             }
            },
            "type": "scatterpolargl"
           }
          ],
          "scatterternary": [
           {
            "marker": {
             "colorbar": {
              "outlinewidth": 0,
              "ticks": ""
             }
            },
            "type": "scatterternary"
           }
          ],
          "surface": [
           {
            "colorbar": {
             "outlinewidth": 0,
             "ticks": ""
            },
            "colorscale": [
             [
              0,
              "#0d0887"
             ],
             [
              0.1111111111111111,
              "#46039f"
             ],
             [
              0.2222222222222222,
              "#7201a8"
             ],
             [
              0.3333333333333333,
              "#9c179e"
             ],
             [
              0.4444444444444444,
              "#bd3786"
             ],
             [
              0.5555555555555556,
              "#d8576b"
             ],
             [
              0.6666666666666666,
              "#ed7953"
             ],
             [
              0.7777777777777778,
              "#fb9f3a"
             ],
             [
              0.8888888888888888,
              "#fdca26"
             ],
             [
              1,
              "#f0f921"
             ]
            ],
            "type": "surface"
           }
          ],
          "table": [
           {
            "cells": {
             "fill": {
              "color": "#EBF0F8"
             },
             "line": {
              "color": "white"
             }
            },
            "header": {
             "fill": {
              "color": "#C8D4E3"
             },
             "line": {
              "color": "white"
             }
            },
            "type": "table"
           }
          ]
         },
         "layout": {
          "annotationdefaults": {
           "arrowcolor": "#2a3f5f",
           "arrowhead": 0,
           "arrowwidth": 1
          },
          "autotypenumbers": "strict",
          "coloraxis": {
           "colorbar": {
            "outlinewidth": 0,
            "ticks": ""
           }
          },
          "colorscale": {
           "diverging": [
            [
             0,
             "#8e0152"
            ],
            [
             0.1,
             "#c51b7d"
            ],
            [
             0.2,
             "#de77ae"
            ],
            [
             0.3,
             "#f1b6da"
            ],
            [
             0.4,
             "#fde0ef"
            ],
            [
             0.5,
             "#f7f7f7"
            ],
            [
             0.6,
             "#e6f5d0"
            ],
            [
             0.7,
             "#b8e186"
            ],
            [
             0.8,
             "#7fbc41"
            ],
            [
             0.9,
             "#4d9221"
            ],
            [
             1,
             "#276419"
            ]
           ],
           "sequential": [
            [
             0,
             "#0d0887"
            ],
            [
             0.1111111111111111,
             "#46039f"
            ],
            [
             0.2222222222222222,
             "#7201a8"
            ],
            [
             0.3333333333333333,
             "#9c179e"
            ],
            [
             0.4444444444444444,
             "#bd3786"
            ],
            [
             0.5555555555555556,
             "#d8576b"
            ],
            [
             0.6666666666666666,
             "#ed7953"
            ],
            [
             0.7777777777777778,
             "#fb9f3a"
            ],
            [
             0.8888888888888888,
             "#fdca26"
            ],
            [
             1,
             "#f0f921"
            ]
           ],
           "sequentialminus": [
            [
             0,
             "#0d0887"
            ],
            [
             0.1111111111111111,
             "#46039f"
            ],
            [
             0.2222222222222222,
             "#7201a8"
            ],
            [
             0.3333333333333333,
             "#9c179e"
            ],
            [
             0.4444444444444444,
             "#bd3786"
            ],
            [
             0.5555555555555556,
             "#d8576b"
            ],
            [
             0.6666666666666666,
             "#ed7953"
            ],
            [
             0.7777777777777778,
             "#fb9f3a"
            ],
            [
             0.8888888888888888,
             "#fdca26"
            ],
            [
             1,
             "#f0f921"
            ]
           ]
          },
          "colorway": [
           "#636efa",
           "#EF553B",
           "#00cc96",
           "#ab63fa",
           "#FFA15A",
           "#19d3f3",
           "#FF6692",
           "#B6E880",
           "#FF97FF",
           "#FECB52"
          ],
          "font": {
           "color": "#2a3f5f"
          },
          "geo": {
           "bgcolor": "white",
           "lakecolor": "white",
           "landcolor": "#E5ECF6",
           "showlakes": true,
           "showland": true,
           "subunitcolor": "white"
          },
          "hoverlabel": {
           "align": "left"
          },
          "hovermode": "closest",
          "mapbox": {
           "style": "light"
          },
          "paper_bgcolor": "white",
          "plot_bgcolor": "#E5ECF6",
          "polar": {
           "angularaxis": {
            "gridcolor": "white",
            "linecolor": "white",
            "ticks": ""
           },
           "bgcolor": "#E5ECF6",
           "radialaxis": {
            "gridcolor": "white",
            "linecolor": "white",
            "ticks": ""
           }
          },
          "scene": {
           "xaxis": {
            "backgroundcolor": "#E5ECF6",
            "gridcolor": "white",
            "gridwidth": 2,
            "linecolor": "white",
            "showbackground": true,
            "ticks": "",
            "zerolinecolor": "white"
           },
           "yaxis": {
            "backgroundcolor": "#E5ECF6",
            "gridcolor": "white",
            "gridwidth": 2,
            "linecolor": "white",
            "showbackground": true,
            "ticks": "",
            "zerolinecolor": "white"
           },
           "zaxis": {
            "backgroundcolor": "#E5ECF6",
            "gridcolor": "white",
            "gridwidth": 2,
            "linecolor": "white",
            "showbackground": true,
            "ticks": "",
            "zerolinecolor": "white"
           }
          },
          "shapedefaults": {
           "line": {
            "color": "#2a3f5f"
           }
          },
          "ternary": {
           "aaxis": {
            "gridcolor": "white",
            "linecolor": "white",
            "ticks": ""
           },
           "baxis": {
            "gridcolor": "white",
            "linecolor": "white",
            "ticks": ""
           },
           "bgcolor": "#E5ECF6",
           "caxis": {
            "gridcolor": "white",
            "linecolor": "white",
            "ticks": ""
           }
          },
          "title": {
           "x": 0.05
          },
          "xaxis": {
           "automargin": true,
           "gridcolor": "white",
           "linecolor": "white",
           "ticks": "",
           "title": {
            "standoff": 15
           },
           "zerolinecolor": "white",
           "zerolinewidth": 2
          },
          "yaxis": {
           "automargin": true,
           "gridcolor": "white",
           "linecolor": "white",
           "ticks": "",
           "title": {
            "standoff": 15
           },
           "zerolinecolor": "white",
           "zerolinewidth": 2
          }
         }
        },
        "title": {
         "text": "OEE %"
        },
        "xaxis": {
         "anchor": "y",
         "domain": [
          0,
          1
         ],
         "title": {
          "text": "Date"
         }
        },
        "yaxis": {
         "anchor": "x",
         "domain": [
          0,
          1
         ],
         "range": [
          0,
          1
         ],
         "title": {
          "text": "OEE %"
         }
        }
       }
      }
     },
     "metadata": {},
     "output_type": "display_data"
    }
   ],
   "source": [
    "px.line(active_rolling, x='Date', y='OEE %', \n",
    "    title='OEE %',\n",
    "    color='Line',\n",
    "    range_y=(0,1)\n",
    "    )"
   ]
  },
  {
   "cell_type": "code",
   "execution_count": 95,
   "metadata": {},
   "outputs": [
    {
     "data": {
      "text/plain": [
       "169"
      ]
     },
     "execution_count": 95,
     "metadata": {},
     "output_type": "execute_result"
    }
   ],
   "source": [
    "len(active_rolling.Line.unique())"
   ]
  },
  {
   "cell_type": "code",
   "execution_count": 96,
   "metadata": {
    "scrolled": true
   },
   "outputs": [
    {
     "data": {
      "application/vnd.plotly.v1+json": {
       "config": {
        "plotlyServerURL": "https://plot.ly"
       },
       "data": [
        {
         "alignmentgroup": "True",
         "hovertemplate": "Line=%{x}<br>OEE %=%{y}<extra></extra>",
         "legendgroup": "",
         "marker": {
          "color": "#636efa",
          "pattern": {
           "shape": ""
          }
         },
         "name": "",
         "offsetgroup": "",
         "orientation": "v",
         "showlegend": false,
         "textposition": "auto",
         "type": "bar",
         "x": [
          "WAT - LYO INSPECTION",
          "WAT - AIL1 Packaging",
          "HZG - Bottle Packaging line 7",
          "MAF - I2 Inspection Line",
          "HZG - Blister packaging line 1",
          "MAF - I4 Inspection Line",
          "HZG - Bottle Packaging line 6",
          "OCO - UHLMANN 1 Packaging Line",
          "HZG - Blister packaging line 4",
          "SUZ - NIKKA",
          "LSX - C65-2 Packaging Line",
          "SZX - Packaging line 3",
          "OCO - UHLMANN 2 Packaging Line",
          "SCO - IMA C80/2",
          "MAF - R1 Filling Line",
          "ORI - EG123",
          "HZG - Semi-automatic Packaging line",
          "SUZ - NEWMAN",
          "FRA - Devices AI, Semi 120-1 Assembly",
          "LSX - C65-1 Packaging Line",
          "LSX - SIG2 Packaging Line",
          "SUZ - FETTE 2090 IV",
          "SUZ - TARGIFOR",
          "HZG - Blister packaging line 2",
          "SUZ - POMADAS",
          "MAF - I6 Inspection Line",
          "MAF - C9 Packaging Line",
          "LLB - Bosch-1 Packaging (CEPH)",
          "FRA - FF NLP, M21 Filling",
          "LLB - Huttlin-1 Granulation",
          "RDG - H6 Syringe Filling Line",
          "FRA - FF Packaging, VL56",
          "FRA - FF NLP, M22 Filling",
          "LLB - Bosch-2 Packaging (SOLD)",
          "SUZ - BAUSCH",
          "LLB - IMA C95 Packaging (SOLD)",
          "LLB - Sarong Packaging (SSL)",
          "LSX - SIG1 Packaging Line",
          "OCO - PARTENA 3 Packaging Line",
          "SUZ - IMA DERMACYD",
          "LLB - CP-3 Packaging (STRL)",
          "SCO - Gamma4",
          "OCO - JARABES Packaging Line",
          "MAF - C3 Packaging Line",
          "SUZ - MEDISEAL PURAN",
          "FRA - FF NAPA, M48 Inspection",
          "SUZ - LINE 06 - MEDISEAL CP 600 COMBO",
          "LLB - SPREY Packaging (NSL)",
          "LLB - Bosch-1 Packaging (PENC)",
          "FRA - FF Packaging, VL50",
          "FRA - Devices Pens, AL2",
          "LLB - IMA-2 Packaging (SOLD)",
          "LSX - 1070-1 Packaging Line",
          "FRA - FF NAPA, M24 Inspection",
          "SCO - IMA C80/1",
          "FRA - FF NLP, M22 Inspection",
          "FRA - FF NLP, M21 Inspection",
          "MAF - R5 Filling Line",
          "FRA - Devices AI, EMA 20",
          "FRA - Devices Pens, AL4",
          "MAF - R4 Filling Line",
          "SUZ - STRUNK",
          "SCO - IMA C80/3",
          "LLB - IMA-3 Packaging (SOLD)",
          "LLB - TFS-30 Packaging (SSL)",
          "SCO - U3",
          "LSX - 1030 Packaging Line",
          "SCO - GAMMA1",
          "LSX - 1070-2 Packaging Line",
          "LSX - IWK Packaging Line",
          "FRA - Devices Pens, AL3",
          "SUZ - GRON.DROPS/SPRAY",
          "SUZ - LINE 03 - MEDISEAL CP600",
          "LSX - SUPPO Packaging Line",
          "ELB - Extraction B12 1st cycle",
          "WAT - AIL2 Packaging",
          "SUZ - LINE 07 - UPS300",
          "SUZ - LINE 04 - BOSCH TLT 1400",
          "HZG - Blister packaging line 3",
          "WAT - AIL2 ASSEMBLY",
          "SUZ - LINE 02 - UHLMANN 1030",
          "OCO - MELOX Packaging Line",
          "SUZ - EYE DROPS OPTIMA",
          "LLB - Bosch-3 Packaging (SOLD)",
          "LLB - Uhlmann Packaging (SOLD)",
          "MAF - C2 Packaging Line",
          "LLB - IMA-4 Packaging (SOLD)",
          "LLB - CP-2 Packaging (STRL)",
          "SCO - PAR102",
          "SCO - PART92",
          "LSX - TR200 Packaging Line",
          "MAF - C4 Packaging Line",
          "OCO - SUSPENSIONES Packaging Line",
          "SCO - GAMMA3",
          "RDG - Synvisc Packaging Line",
          "FRA - Devices Pens, AL1",
          "FRA - FF Packaging, VL9",
          "FRA - FF NAPA, M31 Inspection",
          "FRA - Devices Pens, AL5 Packaging 1",
          "MAF - C5 Packaging Line",
          "LTR - C2 Packaging Line",
          "TRS - L24 Packaging Line",
          "TRS - L15 Packaging Line",
          "TRS - L19 Packaging Line",
          "LTR - C8 Packaging line",
          "SCO - IMA C80/4",
          "ELB - FERMENTATION E06",
          "TRS - L25 Packaging Line",
          "LLB - Bosch-1 Packaging (SOLD)",
          "FRA - FF Packaging, HV01",
          "SUZ - LINE 05 - SOLIDS IMA LINE",
          "LLB - IMA-1 Packaging (NSL)",
          "MAF - C6 Packaging Line",
          "LTR - C6 Packaging line",
          "SUZ - FARCON",
          "FRA - Devices Pens, AL6",
          "FRA - Devices Pens, AL5 Packaging 2",
          "SUZ - FETTE 3090 I",
          "LTR - C9 Packaging line",
          "WAT - LYO Packaging Line 9",
          "OCO - MEDISEAL Packaging Line",
          "LLB - IMA-2 Packaging (NSL)",
          "OCO - C90 Packaging Line",
          "SCO - GAMMA2",
          "LLB - IMA-1 Packaging (SOLD)",
          "ELB - FERMENTATION E05",
          "FRA - Devices AI, Semi 120-1 Labeling",
          "SUZ - LINE 10 - BOTTLES LINE",
          "SUZ - GRON.SYRUP",
          "VDR - K32_1",
          "SUZ - LINE 01 - UHLMANN 1880",
          "ELB - FERMENTATION E08",
          "OCO - LACTACYD Packaging Line",
          "LTR - C7 Packaging line",
          "SUZ - MARCHESINI",
          "OCO - PARTENA 1 Packaging Line",
          "ELB - FERMENTATION E10",
          "TRS - L21 Packaging Line",
          "ELB - FERMENTATION E07",
          "FRA - Devices AI, Semi 120-1 Packaging",
          "FRA - FF NAPA, M46 Filling",
          "LTR - L647 Bio-Tech Packaging",
          "FRA - Devices AI, FDLE",
          "FRA - FF NAPA, M53 Filling",
          "FRA - Pharma, M26 Filling",
          "MLE - P2A1",
          "ELB - FERMENTATION E09",
          "FRA - FF Packaging, VL47",
          "SUZ - EFERVESCENT CEWIN",
          "FRA - FF Packaging, VL44",
          "ORI - L27",
          "FRA - Devices Pens, AL5 Assembly",
          "ELB - FERMENTATION V08",
          "FRA - FF Packaging, VL32",
          "LTR - Optima Assembling Machine",
          "WAT - LYO Packaging Line 3",
          "FRA - Pharma, M58 Inspection",
          "FRA - FF Packaging, VL6",
          "ELB - FERMENTATION V09",
          "FRA - FF Packaging, VL62",
          "SCO - COLLE1",
          "SCO - Diosna 2",
          "SCO - Diosna 1",
          "SUZ - FETTE 3090 III",
          "LTR - Corima Assembling Machine",
          "FRA - Pharma, M52 Inspection",
          "SUZ - FETTE 2090 I",
          "SCO - COLLE2",
          "ELB - FERMENTATION E11"
         ],
         "xaxis": "x",
         "y": [
          11.711905116160121,
          0.8406869898094316,
          0.8328979991308831,
          0.7857205026691666,
          0.7629832025089193,
          0.7348832868634388,
          0.7180505806945421,
          0.7080346376466282,
          0.7015384937414311,
          0.7005465444770735,
          0.6907966001599628,
          0.6635605344980479,
          0.6542982575540889,
          0.6479376812029845,
          0.6415928578156043,
          0.6403485797842052,
          0.6394759258577531,
          0.6368994835608331,
          0.6365463678022032,
          0.6311892585598607,
          0.628028158376305,
          0.6253640045259018,
          0.6231648713731348,
          0.6231416557900111,
          0.6165249492355379,
          0.6159576812474791,
          0.6140850815845109,
          0.6098340675627176,
          0.6045155352150119,
          0.604388779259101,
          0.5983971320465484,
          0.5982022901448005,
          0.596402254158957,
          0.5949242172164146,
          0.5913039190272875,
          0.5850217406306784,
          0.5820471104496379,
          0.5817861222369085,
          0.5778321394957389,
          0.5702332229827526,
          0.5668503008148811,
          0.5606067361355895,
          0.5585513246894254,
          0.552257534256583,
          0.5472553288082946,
          0.545121866038055,
          0.5380753123068699,
          0.5371263372894264,
          0.5368035223789147,
          0.5359021037486389,
          0.5301966478758581,
          0.5290272534598013,
          0.5232566196188552,
          0.5226299772648871,
          0.5221618735647933,
          0.5125789226526276,
          0.5122692828341013,
          0.5097596827203912,
          0.5062009320761116,
          0.5020575472890871,
          0.4999820516285654,
          0.49954999510443576,
          0.4985624469813135,
          0.4981496374981983,
          0.49638929792203895,
          0.49581691313427356,
          0.4927145460137016,
          0.4918879889956489,
          0.49081237096032465,
          0.4837836127000953,
          0.4757139565798184,
          0.4754230880861302,
          0.4668126204316958,
          0.46498119747257277,
          0.4632502125187331,
          0.46279545429858976,
          0.46108728969687357,
          0.4592381421783636,
          0.4577758504618077,
          0.4503758580923228,
          0.4501293567303014,
          0.44899915429474474,
          0.4489145550655239,
          0.44615259419557907,
          0.44467132972725565,
          0.4422572280939768,
          0.4422236342185953,
          0.4371037203397302,
          0.43628456240967883,
          0.4351064178406872,
          0.43400448491700166,
          0.4261069696571291,
          0.4253743694858896,
          0.423025911477818,
          0.4114045319760403,
          0.4075105768342257,
          0.40588260548948557,
          0.40410931817210227,
          0.403401288362467,
          0.40177278969058144,
          0.3948110177430758,
          0.3831466396913107,
          0.37992956513227333,
          0.3778100532314635,
          0.37728694624778364,
          0.37626426307616306,
          0.37462750126646394,
          0.3682840317907925,
          0.365768451641569,
          0.3648511774876622,
          0.3612307748937271,
          0.35709779985297363,
          0.35312360606551924,
          0.3484945575259373,
          0.34835299757985955,
          0.347864500808818,
          0.3456977979756349,
          0.33603218152471614,
          0.3353058079598289,
          0.33505063879531044,
          0.3341145488155799,
          0.32518198580908764,
          0.32252520411316293,
          0.31985407804889554,
          0.318151744717997,
          0.3143194644440223,
          0.31042198477581284,
          0.31000941600862547,
          0.3038455348691139,
          0.3034664267029098,
          0.30251099866701303,
          0.2997922998986827,
          0.29977282714535447,
          0.29230467411486194,
          0.29164228346898824,
          0.28464024145093647,
          0.2780914387031407,
          0.27791210432035945,
          0.2753933953900708,
          0.271387346918708,
          0.26686904765433755,
          0.25036107855569284,
          0.23606679524700042,
          0.2320031305980015,
          0.22214978531302967,
          0.22049109118477855,
          0.2171979483282674,
          0.21579564163835918,
          0.21549990191142826,
          0.21256658858294195,
          0.21000796205506056,
          0.18548836400771118,
          0.1852750637009189,
          0.18197636503376566,
          0.1772716255129113,
          0.1689019988979149,
          0.13927477569408755,
          0.13301838427995782,
          0.1187398177736006,
          0.0943534566833878,
          0.0921920124639003,
          0.045223795221251334,
          0.04227135172481418,
          0.0189552807301566,
          0.014389300344550576,
          0.007993476259293692,
          5.551115123125783e-17,
          2.7755575615628914e-17,
          0
         ],
         "yaxis": "y"
        }
       ],
       "layout": {
        "barmode": "relative",
        "legend": {
         "tracegroupgap": 0
        },
        "template": {
         "data": {
          "bar": [
           {
            "error_x": {
             "color": "#2a3f5f"
            },
            "error_y": {
             "color": "#2a3f5f"
            },
            "marker": {
             "line": {
              "color": "#E5ECF6",
              "width": 0.5
             },
             "pattern": {
              "fillmode": "overlay",
              "size": 10,
              "solidity": 0.2
             }
            },
            "type": "bar"
           }
          ],
          "barpolar": [
           {
            "marker": {
             "line": {
              "color": "#E5ECF6",
              "width": 0.5
             },
             "pattern": {
              "fillmode": "overlay",
              "size": 10,
              "solidity": 0.2
             }
            },
            "type": "barpolar"
           }
          ],
          "carpet": [
           {
            "aaxis": {
             "endlinecolor": "#2a3f5f",
             "gridcolor": "white",
             "linecolor": "white",
             "minorgridcolor": "white",
             "startlinecolor": "#2a3f5f"
            },
            "baxis": {
             "endlinecolor": "#2a3f5f",
             "gridcolor": "white",
             "linecolor": "white",
             "minorgridcolor": "white",
             "startlinecolor": "#2a3f5f"
            },
            "type": "carpet"
           }
          ],
          "choropleth": [
           {
            "colorbar": {
             "outlinewidth": 0,
             "ticks": ""
            },
            "type": "choropleth"
           }
          ],
          "contour": [
           {
            "colorbar": {
             "outlinewidth": 0,
             "ticks": ""
            },
            "colorscale": [
             [
              0,
              "#0d0887"
             ],
             [
              0.1111111111111111,
              "#46039f"
             ],
             [
              0.2222222222222222,
              "#7201a8"
             ],
             [
              0.3333333333333333,
              "#9c179e"
             ],
             [
              0.4444444444444444,
              "#bd3786"
             ],
             [
              0.5555555555555556,
              "#d8576b"
             ],
             [
              0.6666666666666666,
              "#ed7953"
             ],
             [
              0.7777777777777778,
              "#fb9f3a"
             ],
             [
              0.8888888888888888,
              "#fdca26"
             ],
             [
              1,
              "#f0f921"
             ]
            ],
            "type": "contour"
           }
          ],
          "contourcarpet": [
           {
            "colorbar": {
             "outlinewidth": 0,
             "ticks": ""
            },
            "type": "contourcarpet"
           }
          ],
          "heatmap": [
           {
            "colorbar": {
             "outlinewidth": 0,
             "ticks": ""
            },
            "colorscale": [
             [
              0,
              "#0d0887"
             ],
             [
              0.1111111111111111,
              "#46039f"
             ],
             [
              0.2222222222222222,
              "#7201a8"
             ],
             [
              0.3333333333333333,
              "#9c179e"
             ],
             [
              0.4444444444444444,
              "#bd3786"
             ],
             [
              0.5555555555555556,
              "#d8576b"
             ],
             [
              0.6666666666666666,
              "#ed7953"
             ],
             [
              0.7777777777777778,
              "#fb9f3a"
             ],
             [
              0.8888888888888888,
              "#fdca26"
             ],
             [
              1,
              "#f0f921"
             ]
            ],
            "type": "heatmap"
           }
          ],
          "heatmapgl": [
           {
            "colorbar": {
             "outlinewidth": 0,
             "ticks": ""
            },
            "colorscale": [
             [
              0,
              "#0d0887"
             ],
             [
              0.1111111111111111,
              "#46039f"
             ],
             [
              0.2222222222222222,
              "#7201a8"
             ],
             [
              0.3333333333333333,
              "#9c179e"
             ],
             [
              0.4444444444444444,
              "#bd3786"
             ],
             [
              0.5555555555555556,
              "#d8576b"
             ],
             [
              0.6666666666666666,
              "#ed7953"
             ],
             [
              0.7777777777777778,
              "#fb9f3a"
             ],
             [
              0.8888888888888888,
              "#fdca26"
             ],
             [
              1,
              "#f0f921"
             ]
            ],
            "type": "heatmapgl"
           }
          ],
          "histogram": [
           {
            "marker": {
             "pattern": {
              "fillmode": "overlay",
              "size": 10,
              "solidity": 0.2
             }
            },
            "type": "histogram"
           }
          ],
          "histogram2d": [
           {
            "colorbar": {
             "outlinewidth": 0,
             "ticks": ""
            },
            "colorscale": [
             [
              0,
              "#0d0887"
             ],
             [
              0.1111111111111111,
              "#46039f"
             ],
             [
              0.2222222222222222,
              "#7201a8"
             ],
             [
              0.3333333333333333,
              "#9c179e"
             ],
             [
              0.4444444444444444,
              "#bd3786"
             ],
             [
              0.5555555555555556,
              "#d8576b"
             ],
             [
              0.6666666666666666,
              "#ed7953"
             ],
             [
              0.7777777777777778,
              "#fb9f3a"
             ],
             [
              0.8888888888888888,
              "#fdca26"
             ],
             [
              1,
              "#f0f921"
             ]
            ],
            "type": "histogram2d"
           }
          ],
          "histogram2dcontour": [
           {
            "colorbar": {
             "outlinewidth": 0,
             "ticks": ""
            },
            "colorscale": [
             [
              0,
              "#0d0887"
             ],
             [
              0.1111111111111111,
              "#46039f"
             ],
             [
              0.2222222222222222,
              "#7201a8"
             ],
             [
              0.3333333333333333,
              "#9c179e"
             ],
             [
              0.4444444444444444,
              "#bd3786"
             ],
             [
              0.5555555555555556,
              "#d8576b"
             ],
             [
              0.6666666666666666,
              "#ed7953"
             ],
             [
              0.7777777777777778,
              "#fb9f3a"
             ],
             [
              0.8888888888888888,
              "#fdca26"
             ],
             [
              1,
              "#f0f921"
             ]
            ],
            "type": "histogram2dcontour"
           }
          ],
          "mesh3d": [
           {
            "colorbar": {
             "outlinewidth": 0,
             "ticks": ""
            },
            "type": "mesh3d"
           }
          ],
          "parcoords": [
           {
            "line": {
             "colorbar": {
              "outlinewidth": 0,
              "ticks": ""
             }
            },
            "type": "parcoords"
           }
          ],
          "pie": [
           {
            "automargin": true,
            "type": "pie"
           }
          ],
          "scatter": [
           {
            "marker": {
             "colorbar": {
              "outlinewidth": 0,
              "ticks": ""
             }
            },
            "type": "scatter"
           }
          ],
          "scatter3d": [
           {
            "line": {
             "colorbar": {
              "outlinewidth": 0,
              "ticks": ""
             }
            },
            "marker": {
             "colorbar": {
              "outlinewidth": 0,
              "ticks": ""
             }
            },
            "type": "scatter3d"
           }
          ],
          "scattercarpet": [
           {
            "marker": {
             "colorbar": {
              "outlinewidth": 0,
              "ticks": ""
             }
            },
            "type": "scattercarpet"
           }
          ],
          "scattergeo": [
           {
            "marker": {
             "colorbar": {
              "outlinewidth": 0,
              "ticks": ""
             }
            },
            "type": "scattergeo"
           }
          ],
          "scattergl": [
           {
            "marker": {
             "colorbar": {
              "outlinewidth": 0,
              "ticks": ""
             }
            },
            "type": "scattergl"
           }
          ],
          "scattermapbox": [
           {
            "marker": {
             "colorbar": {
              "outlinewidth": 0,
              "ticks": ""
             }
            },
            "type": "scattermapbox"
           }
          ],
          "scatterpolar": [
           {
            "marker": {
             "colorbar": {
              "outlinewidth": 0,
              "ticks": ""
             }
            },
            "type": "scatterpolar"
           }
          ],
          "scatterpolargl": [
           {
            "marker": {
             "colorbar": {
              "outlinewidth": 0,
              "ticks": ""
             }
            },
            "type": "scatterpolargl"
           }
          ],
          "scatterternary": [
           {
            "marker": {
             "colorbar": {
              "outlinewidth": 0,
              "ticks": ""
             }
            },
            "type": "scatterternary"
           }
          ],
          "surface": [
           {
            "colorbar": {
             "outlinewidth": 0,
             "ticks": ""
            },
            "colorscale": [
             [
              0,
              "#0d0887"
             ],
             [
              0.1111111111111111,
              "#46039f"
             ],
             [
              0.2222222222222222,
              "#7201a8"
             ],
             [
              0.3333333333333333,
              "#9c179e"
             ],
             [
              0.4444444444444444,
              "#bd3786"
             ],
             [
              0.5555555555555556,
              "#d8576b"
             ],
             [
              0.6666666666666666,
              "#ed7953"
             ],
             [
              0.7777777777777778,
              "#fb9f3a"
             ],
             [
              0.8888888888888888,
              "#fdca26"
             ],
             [
              1,
              "#f0f921"
             ]
            ],
            "type": "surface"
           }
          ],
          "table": [
           {
            "cells": {
             "fill": {
              "color": "#EBF0F8"
             },
             "line": {
              "color": "white"
             }
            },
            "header": {
             "fill": {
              "color": "#C8D4E3"
             },
             "line": {
              "color": "white"
             }
            },
            "type": "table"
           }
          ]
         },
         "layout": {
          "annotationdefaults": {
           "arrowcolor": "#2a3f5f",
           "arrowhead": 0,
           "arrowwidth": 1
          },
          "autotypenumbers": "strict",
          "coloraxis": {
           "colorbar": {
            "outlinewidth": 0,
            "ticks": ""
           }
          },
          "colorscale": {
           "diverging": [
            [
             0,
             "#8e0152"
            ],
            [
             0.1,
             "#c51b7d"
            ],
            [
             0.2,
             "#de77ae"
            ],
            [
             0.3,
             "#f1b6da"
            ],
            [
             0.4,
             "#fde0ef"
            ],
            [
             0.5,
             "#f7f7f7"
            ],
            [
             0.6,
             "#e6f5d0"
            ],
            [
             0.7,
             "#b8e186"
            ],
            [
             0.8,
             "#7fbc41"
            ],
            [
             0.9,
             "#4d9221"
            ],
            [
             1,
             "#276419"
            ]
           ],
           "sequential": [
            [
             0,
             "#0d0887"
            ],
            [
             0.1111111111111111,
             "#46039f"
            ],
            [
             0.2222222222222222,
             "#7201a8"
            ],
            [
             0.3333333333333333,
             "#9c179e"
            ],
            [
             0.4444444444444444,
             "#bd3786"
            ],
            [
             0.5555555555555556,
             "#d8576b"
            ],
            [
             0.6666666666666666,
             "#ed7953"
            ],
            [
             0.7777777777777778,
             "#fb9f3a"
            ],
            [
             0.8888888888888888,
             "#fdca26"
            ],
            [
             1,
             "#f0f921"
            ]
           ],
           "sequentialminus": [
            [
             0,
             "#0d0887"
            ],
            [
             0.1111111111111111,
             "#46039f"
            ],
            [
             0.2222222222222222,
             "#7201a8"
            ],
            [
             0.3333333333333333,
             "#9c179e"
            ],
            [
             0.4444444444444444,
             "#bd3786"
            ],
            [
             0.5555555555555556,
             "#d8576b"
            ],
            [
             0.6666666666666666,
             "#ed7953"
            ],
            [
             0.7777777777777778,
             "#fb9f3a"
            ],
            [
             0.8888888888888888,
             "#fdca26"
            ],
            [
             1,
             "#f0f921"
            ]
           ]
          },
          "colorway": [
           "#636efa",
           "#EF553B",
           "#00cc96",
           "#ab63fa",
           "#FFA15A",
           "#19d3f3",
           "#FF6692",
           "#B6E880",
           "#FF97FF",
           "#FECB52"
          ],
          "font": {
           "color": "#2a3f5f"
          },
          "geo": {
           "bgcolor": "white",
           "lakecolor": "white",
           "landcolor": "#E5ECF6",
           "showlakes": true,
           "showland": true,
           "subunitcolor": "white"
          },
          "hoverlabel": {
           "align": "left"
          },
          "hovermode": "closest",
          "mapbox": {
           "style": "light"
          },
          "paper_bgcolor": "white",
          "plot_bgcolor": "#E5ECF6",
          "polar": {
           "angularaxis": {
            "gridcolor": "white",
            "linecolor": "white",
            "ticks": ""
           },
           "bgcolor": "#E5ECF6",
           "radialaxis": {
            "gridcolor": "white",
            "linecolor": "white",
            "ticks": ""
           }
          },
          "scene": {
           "xaxis": {
            "backgroundcolor": "#E5ECF6",
            "gridcolor": "white",
            "gridwidth": 2,
            "linecolor": "white",
            "showbackground": true,
            "ticks": "",
            "zerolinecolor": "white"
           },
           "yaxis": {
            "backgroundcolor": "#E5ECF6",
            "gridcolor": "white",
            "gridwidth": 2,
            "linecolor": "white",
            "showbackground": true,
            "ticks": "",
            "zerolinecolor": "white"
           },
           "zaxis": {
            "backgroundcolor": "#E5ECF6",
            "gridcolor": "white",
            "gridwidth": 2,
            "linecolor": "white",
            "showbackground": true,
            "ticks": "",
            "zerolinecolor": "white"
           }
          },
          "shapedefaults": {
           "line": {
            "color": "#2a3f5f"
           }
          },
          "ternary": {
           "aaxis": {
            "gridcolor": "white",
            "linecolor": "white",
            "ticks": ""
           },
           "baxis": {
            "gridcolor": "white",
            "linecolor": "white",
            "ticks": ""
           },
           "bgcolor": "#E5ECF6",
           "caxis": {
            "gridcolor": "white",
            "linecolor": "white",
            "ticks": ""
           }
          },
          "title": {
           "x": 0.05
          },
          "xaxis": {
           "automargin": true,
           "gridcolor": "white",
           "linecolor": "white",
           "ticks": "",
           "title": {
            "standoff": 15
           },
           "zerolinecolor": "white",
           "zerolinewidth": 2
          },
          "yaxis": {
           "automargin": true,
           "gridcolor": "white",
           "linecolor": "white",
           "ticks": "",
           "title": {
            "standoff": 15
           },
           "zerolinecolor": "white",
           "zerolinewidth": 2
          }
         }
        },
        "title": {
         "text": "Latest Rolling OEE by Line"
        },
        "xaxis": {
         "anchor": "y",
         "domain": [
          0,
          1
         ],
         "title": {
          "text": "Line"
         }
        },
        "yaxis": {
         "anchor": "x",
         "domain": [
          0,
          1
         ],
         "range": [
          0,
          1
         ],
         "title": {
          "text": "OEE %"
         }
        }
       }
      }
     },
     "metadata": {},
     "output_type": "display_data"
    }
   ],
   "source": [
    "px.bar(active_rolling.groupby('Line').tail(1).sort_values(by='OEE %', ascending=False), x='Line', y='OEE %',\n",
    "     title='Latest Rolling OEE by Line',\n",
    "    range_y=(0,1)\n",
    "     )"
   ]
  },
  {
   "cell_type": "code",
   "execution_count": 87,
   "metadata": {},
   "outputs": [
    {
     "data": {
      "application/vnd.plotly.v1+json": {
       "config": {
        "plotlyServerURL": "https://plot.ly"
       },
       "data": [
        {
         "alignmentgroup": "True",
         "hovertemplate": "Line=%{x}<br>Availability %=%{y}<extra></extra>",
         "legendgroup": "",
         "marker": {
          "color": "#636efa",
          "pattern": {
           "shape": ""
          }
         },
         "name": "",
         "offsetgroup": "",
         "orientation": "v",
         "showlegend": false,
         "textposition": "auto",
         "type": "bar",
         "x": [
          "SCO - Diosna 2",
          "LLB - Huttlin-1 Granulation",
          "MAF - I2 Inspection Line",
          "LLB - IMA C95 Packaging (SOLD)",
          "MAF - I4 Inspection Line",
          "HZG - Blister packaging line 1",
          "LLB - IMA-1 Packaging (SOLD)",
          "LLB - Bosch-2 Packaging (SOLD)",
          "LLB - Bosch-1 Packaging (SOLD)",
          "ELB - FERMENTATION V09",
          "LLB - IMA-2 Packaging (SOLD)",
          "SZX - Packaging line 3",
          "OCO - UHLMANN 2 Packaging Line",
          "HZG - Blister packaging line 4",
          "HZG - Bottle Packaging line 7",
          "LLB - Bosch-3 Packaging (SOLD)",
          "LSX - C65-2 Packaging Line",
          "SCO - Diosna 1",
          "OCO - UHLMANN 1 Packaging Line",
          "LLB - TFS-30 Packaging (SSL)",
          "ELB - FERMENTATION E05",
          "LLB - IMA-3 Packaging (SOLD)",
          "SUZ - NEWMAN",
          "SUZ - MEDISEAL PURAN",
          "FRA - Devices AI, EMA 20",
          "MAF - C9 Packaging Line",
          "LSX - C65-1 Packaging Line",
          "HZG - Blister packaging line 2",
          "LLB - Sarong Packaging (SSL)",
          "SCO - IMA C80/2",
          "LLB - SPREY Packaging (NSL)",
          "FRA - FF Packaging, VL50",
          "ORI - EG123",
          "SUZ - NIKKA",
          "LLB - CP-3 Packaging (STRL)",
          "HZG - Semi-automatic Packaging line",
          "LLB - Bosch-1 Packaging (PENC)",
          "FRA - FF NLP, M21 Filling",
          "MAF - I6 Inspection Line",
          "SUZ - POMADAS",
          "SUZ - LINE 06 - MEDISEAL CP 600 COMBO",
          "LLB - IMA-4 Packaging (SOLD)",
          "FRA - FF NLP, M22 Filling",
          "RDG - H6 Syringe Filling Line",
          "OCO - MELOX Packaging Line",
          "LSX - 1070-1 Packaging Line",
          "FRA - Devices Pens, AL2",
          "FRA - FF Packaging, VL56",
          "LSX - SUPPO Packaging Line",
          "MAF - R1 Filling Line",
          "LSX - SIG1 Packaging Line",
          "LLB - Uhlmann Packaging (SOLD)",
          "MAF - C3 Packaging Line",
          "HZG - Bottle Packaging line 6",
          "SUZ - IMA DERMACYD",
          "FRA - Devices AI, Semi 120-1 Assembly",
          "OCO - PARTENA 3 Packaging Line",
          "LLB - CP-2 Packaging (STRL)",
          "LSX - 1070-2 Packaging Line",
          "FRA - Devices Pens, AL4",
          "FRA - Devices AI, Semi 120-1 Labeling",
          "SCO - U3",
          "SCO - Gamma4",
          "LSX - SIG2 Packaging Line",
          "LTR - C2 Packaging Line",
          "SUZ - BAUSCH",
          "MAF - R5 Filling Line",
          "FRA - Devices Pens, AL3",
          "FRA - FF Packaging, HV01",
          "FRA - Devices Pens, AL1",
          "LSX - TR200 Packaging Line",
          "OCO - JARABES Packaging Line",
          "FRA - FF NAPA, M24 Inspection",
          "FRA - Devices Pens, AL5 Packaging 1",
          "RDG - Synvisc Packaging Line",
          "SCO - IMA C80/3",
          "SCO - IMA C80/1",
          "MAF - C2 Packaging Line",
          "FRA - FF NAPA, M48 Inspection",
          "LSX - 1030 Packaging Line",
          "ELB - FERMENTATION E11",
          "ELB - FERMENTATION E06",
          "FRA - FF NLP, M21 Inspection",
          "MAF - C4 Packaging Line",
          "SCO - GAMMA1",
          "LLB - Bosch-1 Packaging (CEPH)",
          "LSX - IWK Packaging Line",
          "FRA - FF NLP, M22 Inspection",
          "SCO - GAMMA3",
          "LLB - IMA-2 Packaging (NSL)",
          "LLB - IMA-1 Packaging (NSL)",
          "LTR - Corima Assembling Machine",
          "SUZ - LINE 03 - MEDISEAL CP600",
          "HZG - Blister packaging line 3",
          "LTR - C8 Packaging line",
          "LTR - C6 Packaging line",
          "LTR - Optima Assembling Machine",
          "MAF - C5 Packaging Line",
          "OCO - SUSPENSIONES Packaging Line",
          "MAF - R4 Filling Line",
          "MAF - C6 Packaging Line",
          "LTR - C9 Packaging line",
          "FRA - Devices Pens, AL6",
          "SUZ - LINE 07 - UPS300",
          "SCO - IMA C80/4",
          "SUZ - LINE 04 - BOSCH TLT 1400",
          "FRA - FF Packaging, VL9",
          "SCO - PART92",
          "FRA - FF Packaging, VL32",
          "WAT - AIL2 ASSEMBLY",
          "SCO - PAR102",
          "ELB - FERMENTATION E09",
          "FRA - FF NAPA, M31 Inspection",
          "SUZ - LINE 02 - UHLMANN 1030",
          "FRA - Devices AI, Semi 120-1 Packaging",
          "LTR - C7 Packaging line",
          "SUZ - LINE 05 - SOLIDS IMA LINE",
          "SUZ - FARCON",
          "SCO - GAMMA2",
          "FRA - Devices Pens, AL5 Packaging 2",
          "SCO - COLLE1",
          "OCO - C90 Packaging Line",
          "OCO - LACTACYD Packaging Line",
          "SUZ - EYE DROPS OPTIMA",
          "FRA - FF Packaging, VL6",
          "OCO - MEDISEAL Packaging Line",
          "ELB - FERMENTATION E10",
          "TRS - L25 Packaging Line",
          "WAT - AIL2 Packaging",
          "FRA - Devices AI, FDLE",
          "TRS - L15 Packaging Line",
          "TRS - L24 Packaging Line",
          "SUZ - STRUNK",
          "LTR - L647 Bio-Tech Packaging",
          "SUZ - TARGIFOR",
          "OCO - PARTENA 1 Packaging Line",
          "SUZ - MARCHESINI",
          "SUZ - GRON.DROPS/SPRAY",
          "WAT - LYO INSPECTION",
          "TRS - L19 Packaging Line",
          "FRA - FF NAPA, M46 Filling",
          "FRA - FF Packaging, VL44",
          "FRA - Devices Pens, AL5 Assembly",
          "SUZ - GRON.SYRUP",
          "VDR - K32_1",
          "SUZ - LINE 01 - UHLMANN 1880",
          "SUZ - FETTE 3090 I",
          "FRA - FF NAPA, M53 Filling",
          "TRS - L21 Packaging Line",
          "ELB - FERMENTATION V08",
          "ELB - FERMENTATION E08",
          "ORI - L27",
          "ELB - FERMENTATION E07",
          "FRA - Pharma, M26 Filling",
          "MLE - P2A1",
          "FRA - FF Packaging, VL47",
          "SUZ - EFERVESCENT CEWIN",
          "SUZ - LINE 10 - BOTTLES LINE",
          "WAT - LYO Packaging Line 9",
          "FRA - Pharma, M58 Inspection",
          "FRA - FF Packaging, VL62",
          "WAT - AIL1 Packaging",
          "SUZ - FETTE 2090 IV",
          "SUZ - FETTE 3090 III",
          "WAT - LYO Packaging Line 3",
          "FRA - Pharma, M52 Inspection",
          "SUZ - FETTE 2090 I",
          "SCO - COLLE2",
          "ELB - Extraction B12 1st cycle"
         ],
         "xaxis": "x",
         "y": [
          0.9424851190476189,
          0.8888888888888888,
          0.8299990908235759,
          0.824517992912897,
          0.7828395437966136,
          0.780189710330556,
          0.7678577482509399,
          0.763477628429394,
          0.759295932408709,
          0.7589178240740742,
          0.7533514396842542,
          0.7525629052862726,
          0.7516051879852736,
          0.7400170286262491,
          0.738917881083166,
          0.7378205303203943,
          0.7369013794630015,
          0.7319701029335333,
          0.72530375904554,
          0.7251167943170658,
          0.7239103835978836,
          0.7218524653930722,
          0.7137419634755245,
          0.7094500158167325,
          0.7064536498437644,
          0.7044584825498681,
          0.6969380230679441,
          0.6888399641625662,
          0.6883433791660184,
          0.6882364211311656,
          0.6871412078387055,
          0.6798591511340428,
          0.6765244001615176,
          0.6672106264640416,
          0.6654032527339375,
          0.6639319909216631,
          0.6624173348899554,
          0.6615553346651202,
          0.6612982556376426,
          0.6589035108054258,
          0.6561947665969381,
          0.6542888411767642,
          0.6537943597432234,
          0.653478130905099,
          0.6486351475882639,
          0.648038405911746,
          0.6479305174342718,
          0.6471425442361958,
          0.6462382317670514,
          0.6422027729818685,
          0.6406080981193751,
          0.636845411078933,
          0.6364110914795442,
          0.6313648813096173,
          0.6293932333635563,
          0.6252158812019278,
          0.6248307907474273,
          0.6232456046728547,
          0.6181701044632881,
          0.6180347946308968,
          0.6163518823996148,
          0.6150219164326055,
          0.613651596679202,
          0.6131984354682067,
          0.6112746043418432,
          0.5941439975478976,
          0.5937610135255418,
          0.5907441553764385,
          0.5903848347164362,
          0.5867061618564254,
          0.5863286999606594,
          0.5844232394996809,
          0.5803913855135644,
          0.5796417335801313,
          0.5767783620246243,
          0.5732019732130565,
          0.5731443399365213,
          0.5714846674451567,
          0.5702579870041604,
          0.5684773038103661,
          0.5658738506471986,
          0.5623752175860453,
          0.5595657588752347,
          0.5593997118748435,
          0.5575250122780997,
          0.5537353790690648,
          0.551002759907711,
          0.5503816773662075,
          0.5343008189830244,
          0.5321444410324363,
          0.5281917289294976,
          0.5215946646372963,
          0.520456730971151,
          0.5203355897789397,
          0.5160218521454445,
          0.5138024253938147,
          0.5130629832894534,
          0.5128132878399261,
          0.5099116442243452,
          0.5093382662489271,
          0.5065506495296889,
          0.5051070083525516,
          0.5044852294230013,
          0.5027172022138409,
          0.5010796820681684,
          0.5003078755286938,
          0.4994992370843453,
          0.4989080274752117,
          0.4943199031231073,
          0.4913926514869279,
          0.4881577033099516,
          0.4834680886243386,
          0.4752710158864547,
          0.4683122449545523,
          0.46399240365759686,
          0.46125372144805876,
          0.46118131261633877,
          0.45970469880694254,
          0.4567747578362821,
          0.4541095907132827,
          0.4528273809523807,
          0.4503422233440997,
          0.44090039401450054,
          0.4403367833906554,
          0.43826306180991537,
          0.4364650649686187,
          0.4297399966931217,
          0.42790179129115735,
          0.4150947087916694,
          0.41301749451328107,
          0.41128615438870275,
          0.40763183772600825,
          0.4074952013552136,
          0.4070542249068102,
          0.40474106622122025,
          0.3907127690465755,
          0.3884861773257351,
          0.3882154822782342,
          0.3764741044359122,
          0.36906010936306355,
          0.36661964655571755,
          0.36017316518060727,
          0.3585246434588378,
          0.3574367036443094,
          0.3564306629553635,
          0.3546870826049038,
          0.35090157344389494,
          0.34330059603291935,
          0.33903538491749874,
          0.33544973544973544,
          0.32957506613756615,
          0.3282914619641743,
          0.3209846752580028,
          0.2999682945349292,
          0.29766393712052963,
          0.29028507555132116,
          0.2832044711045115,
          0.2731985087742401,
          0.23726559578466436,
          0.2124186429127647,
          0.20809739740029656,
          0.20619505026816076,
          0.17591215431733645,
          0.15523354828042288,
          0.09895520536235033,
          0.009722030000026147,
          0.0000017236191738579701,
          0,
          -0.06234578735845414
         ],
         "yaxis": "y"
        }
       ],
       "layout": {
        "barmode": "relative",
        "legend": {
         "tracegroupgap": 0
        },
        "template": {
         "data": {
          "bar": [
           {
            "error_x": {
             "color": "#2a3f5f"
            },
            "error_y": {
             "color": "#2a3f5f"
            },
            "marker": {
             "line": {
              "color": "#E5ECF6",
              "width": 0.5
             },
             "pattern": {
              "fillmode": "overlay",
              "size": 10,
              "solidity": 0.2
             }
            },
            "type": "bar"
           }
          ],
          "barpolar": [
           {
            "marker": {
             "line": {
              "color": "#E5ECF6",
              "width": 0.5
             },
             "pattern": {
              "fillmode": "overlay",
              "size": 10,
              "solidity": 0.2
             }
            },
            "type": "barpolar"
           }
          ],
          "carpet": [
           {
            "aaxis": {
             "endlinecolor": "#2a3f5f",
             "gridcolor": "white",
             "linecolor": "white",
             "minorgridcolor": "white",
             "startlinecolor": "#2a3f5f"
            },
            "baxis": {
             "endlinecolor": "#2a3f5f",
             "gridcolor": "white",
             "linecolor": "white",
             "minorgridcolor": "white",
             "startlinecolor": "#2a3f5f"
            },
            "type": "carpet"
           }
          ],
          "choropleth": [
           {
            "colorbar": {
             "outlinewidth": 0,
             "ticks": ""
            },
            "type": "choropleth"
           }
          ],
          "contour": [
           {
            "colorbar": {
             "outlinewidth": 0,
             "ticks": ""
            },
            "colorscale": [
             [
              0,
              "#0d0887"
             ],
             [
              0.1111111111111111,
              "#46039f"
             ],
             [
              0.2222222222222222,
              "#7201a8"
             ],
             [
              0.3333333333333333,
              "#9c179e"
             ],
             [
              0.4444444444444444,
              "#bd3786"
             ],
             [
              0.5555555555555556,
              "#d8576b"
             ],
             [
              0.6666666666666666,
              "#ed7953"
             ],
             [
              0.7777777777777778,
              "#fb9f3a"
             ],
             [
              0.8888888888888888,
              "#fdca26"
             ],
             [
              1,
              "#f0f921"
             ]
            ],
            "type": "contour"
           }
          ],
          "contourcarpet": [
           {
            "colorbar": {
             "outlinewidth": 0,
             "ticks": ""
            },
            "type": "contourcarpet"
           }
          ],
          "heatmap": [
           {
            "colorbar": {
             "outlinewidth": 0,
             "ticks": ""
            },
            "colorscale": [
             [
              0,
              "#0d0887"
             ],
             [
              0.1111111111111111,
              "#46039f"
             ],
             [
              0.2222222222222222,
              "#7201a8"
             ],
             [
              0.3333333333333333,
              "#9c179e"
             ],
             [
              0.4444444444444444,
              "#bd3786"
             ],
             [
              0.5555555555555556,
              "#d8576b"
             ],
             [
              0.6666666666666666,
              "#ed7953"
             ],
             [
              0.7777777777777778,
              "#fb9f3a"
             ],
             [
              0.8888888888888888,
              "#fdca26"
             ],
             [
              1,
              "#f0f921"
             ]
            ],
            "type": "heatmap"
           }
          ],
          "heatmapgl": [
           {
            "colorbar": {
             "outlinewidth": 0,
             "ticks": ""
            },
            "colorscale": [
             [
              0,
              "#0d0887"
             ],
             [
              0.1111111111111111,
              "#46039f"
             ],
             [
              0.2222222222222222,
              "#7201a8"
             ],
             [
              0.3333333333333333,
              "#9c179e"
             ],
             [
              0.4444444444444444,
              "#bd3786"
             ],
             [
              0.5555555555555556,
              "#d8576b"
             ],
             [
              0.6666666666666666,
              "#ed7953"
             ],
             [
              0.7777777777777778,
              "#fb9f3a"
             ],
             [
              0.8888888888888888,
              "#fdca26"
             ],
             [
              1,
              "#f0f921"
             ]
            ],
            "type": "heatmapgl"
           }
          ],
          "histogram": [
           {
            "marker": {
             "pattern": {
              "fillmode": "overlay",
              "size": 10,
              "solidity": 0.2
             }
            },
            "type": "histogram"
           }
          ],
          "histogram2d": [
           {
            "colorbar": {
             "outlinewidth": 0,
             "ticks": ""
            },
            "colorscale": [
             [
              0,
              "#0d0887"
             ],
             [
              0.1111111111111111,
              "#46039f"
             ],
             [
              0.2222222222222222,
              "#7201a8"
             ],
             [
              0.3333333333333333,
              "#9c179e"
             ],
             [
              0.4444444444444444,
              "#bd3786"
             ],
             [
              0.5555555555555556,
              "#d8576b"
             ],
             [
              0.6666666666666666,
              "#ed7953"
             ],
             [
              0.7777777777777778,
              "#fb9f3a"
             ],
             [
              0.8888888888888888,
              "#fdca26"
             ],
             [
              1,
              "#f0f921"
             ]
            ],
            "type": "histogram2d"
           }
          ],
          "histogram2dcontour": [
           {
            "colorbar": {
             "outlinewidth": 0,
             "ticks": ""
            },
            "colorscale": [
             [
              0,
              "#0d0887"
             ],
             [
              0.1111111111111111,
              "#46039f"
             ],
             [
              0.2222222222222222,
              "#7201a8"
             ],
             [
              0.3333333333333333,
              "#9c179e"
             ],
             [
              0.4444444444444444,
              "#bd3786"
             ],
             [
              0.5555555555555556,
              "#d8576b"
             ],
             [
              0.6666666666666666,
              "#ed7953"
             ],
             [
              0.7777777777777778,
              "#fb9f3a"
             ],
             [
              0.8888888888888888,
              "#fdca26"
             ],
             [
              1,
              "#f0f921"
             ]
            ],
            "type": "histogram2dcontour"
           }
          ],
          "mesh3d": [
           {
            "colorbar": {
             "outlinewidth": 0,
             "ticks": ""
            },
            "type": "mesh3d"
           }
          ],
          "parcoords": [
           {
            "line": {
             "colorbar": {
              "outlinewidth": 0,
              "ticks": ""
             }
            },
            "type": "parcoords"
           }
          ],
          "pie": [
           {
            "automargin": true,
            "type": "pie"
           }
          ],
          "scatter": [
           {
            "marker": {
             "colorbar": {
              "outlinewidth": 0,
              "ticks": ""
             }
            },
            "type": "scatter"
           }
          ],
          "scatter3d": [
           {
            "line": {
             "colorbar": {
              "outlinewidth": 0,
              "ticks": ""
             }
            },
            "marker": {
             "colorbar": {
              "outlinewidth": 0,
              "ticks": ""
             }
            },
            "type": "scatter3d"
           }
          ],
          "scattercarpet": [
           {
            "marker": {
             "colorbar": {
              "outlinewidth": 0,
              "ticks": ""
             }
            },
            "type": "scattercarpet"
           }
          ],
          "scattergeo": [
           {
            "marker": {
             "colorbar": {
              "outlinewidth": 0,
              "ticks": ""
             }
            },
            "type": "scattergeo"
           }
          ],
          "scattergl": [
           {
            "marker": {
             "colorbar": {
              "outlinewidth": 0,
              "ticks": ""
             }
            },
            "type": "scattergl"
           }
          ],
          "scattermapbox": [
           {
            "marker": {
             "colorbar": {
              "outlinewidth": 0,
              "ticks": ""
             }
            },
            "type": "scattermapbox"
           }
          ],
          "scatterpolar": [
           {
            "marker": {
             "colorbar": {
              "outlinewidth": 0,
              "ticks": ""
             }
            },
            "type": "scatterpolar"
           }
          ],
          "scatterpolargl": [
           {
            "marker": {
             "colorbar": {
              "outlinewidth": 0,
              "ticks": ""
             }
            },
            "type": "scatterpolargl"
           }
          ],
          "scatterternary": [
           {
            "marker": {
             "colorbar": {
              "outlinewidth": 0,
              "ticks": ""
             }
            },
            "type": "scatterternary"
           }
          ],
          "surface": [
           {
            "colorbar": {
             "outlinewidth": 0,
             "ticks": ""
            },
            "colorscale": [
             [
              0,
              "#0d0887"
             ],
             [
              0.1111111111111111,
              "#46039f"
             ],
             [
              0.2222222222222222,
              "#7201a8"
             ],
             [
              0.3333333333333333,
              "#9c179e"
             ],
             [
              0.4444444444444444,
              "#bd3786"
             ],
             [
              0.5555555555555556,
              "#d8576b"
             ],
             [
              0.6666666666666666,
              "#ed7953"
             ],
             [
              0.7777777777777778,
              "#fb9f3a"
             ],
             [
              0.8888888888888888,
              "#fdca26"
             ],
             [
              1,
              "#f0f921"
             ]
            ],
            "type": "surface"
           }
          ],
          "table": [
           {
            "cells": {
             "fill": {
              "color": "#EBF0F8"
             },
             "line": {
              "color": "white"
             }
            },
            "header": {
             "fill": {
              "color": "#C8D4E3"
             },
             "line": {
              "color": "white"
             }
            },
            "type": "table"
           }
          ]
         },
         "layout": {
          "annotationdefaults": {
           "arrowcolor": "#2a3f5f",
           "arrowhead": 0,
           "arrowwidth": 1
          },
          "autotypenumbers": "strict",
          "coloraxis": {
           "colorbar": {
            "outlinewidth": 0,
            "ticks": ""
           }
          },
          "colorscale": {
           "diverging": [
            [
             0,
             "#8e0152"
            ],
            [
             0.1,
             "#c51b7d"
            ],
            [
             0.2,
             "#de77ae"
            ],
            [
             0.3,
             "#f1b6da"
            ],
            [
             0.4,
             "#fde0ef"
            ],
            [
             0.5,
             "#f7f7f7"
            ],
            [
             0.6,
             "#e6f5d0"
            ],
            [
             0.7,
             "#b8e186"
            ],
            [
             0.8,
             "#7fbc41"
            ],
            [
             0.9,
             "#4d9221"
            ],
            [
             1,
             "#276419"
            ]
           ],
           "sequential": [
            [
             0,
             "#0d0887"
            ],
            [
             0.1111111111111111,
             "#46039f"
            ],
            [
             0.2222222222222222,
             "#7201a8"
            ],
            [
             0.3333333333333333,
             "#9c179e"
            ],
            [
             0.4444444444444444,
             "#bd3786"
            ],
            [
             0.5555555555555556,
             "#d8576b"
            ],
            [
             0.6666666666666666,
             "#ed7953"
            ],
            [
             0.7777777777777778,
             "#fb9f3a"
            ],
            [
             0.8888888888888888,
             "#fdca26"
            ],
            [
             1,
             "#f0f921"
            ]
           ],
           "sequentialminus": [
            [
             0,
             "#0d0887"
            ],
            [
             0.1111111111111111,
             "#46039f"
            ],
            [
             0.2222222222222222,
             "#7201a8"
            ],
            [
             0.3333333333333333,
             "#9c179e"
            ],
            [
             0.4444444444444444,
             "#bd3786"
            ],
            [
             0.5555555555555556,
             "#d8576b"
            ],
            [
             0.6666666666666666,
             "#ed7953"
            ],
            [
             0.7777777777777778,
             "#fb9f3a"
            ],
            [
             0.8888888888888888,
             "#fdca26"
            ],
            [
             1,
             "#f0f921"
            ]
           ]
          },
          "colorway": [
           "#636efa",
           "#EF553B",
           "#00cc96",
           "#ab63fa",
           "#FFA15A",
           "#19d3f3",
           "#FF6692",
           "#B6E880",
           "#FF97FF",
           "#FECB52"
          ],
          "font": {
           "color": "#2a3f5f"
          },
          "geo": {
           "bgcolor": "white",
           "lakecolor": "white",
           "landcolor": "#E5ECF6",
           "showlakes": true,
           "showland": true,
           "subunitcolor": "white"
          },
          "hoverlabel": {
           "align": "left"
          },
          "hovermode": "closest",
          "mapbox": {
           "style": "light"
          },
          "paper_bgcolor": "white",
          "plot_bgcolor": "#E5ECF6",
          "polar": {
           "angularaxis": {
            "gridcolor": "white",
            "linecolor": "white",
            "ticks": ""
           },
           "bgcolor": "#E5ECF6",
           "radialaxis": {
            "gridcolor": "white",
            "linecolor": "white",
            "ticks": ""
           }
          },
          "scene": {
           "xaxis": {
            "backgroundcolor": "#E5ECF6",
            "gridcolor": "white",
            "gridwidth": 2,
            "linecolor": "white",
            "showbackground": true,
            "ticks": "",
            "zerolinecolor": "white"
           },
           "yaxis": {
            "backgroundcolor": "#E5ECF6",
            "gridcolor": "white",
            "gridwidth": 2,
            "linecolor": "white",
            "showbackground": true,
            "ticks": "",
            "zerolinecolor": "white"
           },
           "zaxis": {
            "backgroundcolor": "#E5ECF6",
            "gridcolor": "white",
            "gridwidth": 2,
            "linecolor": "white",
            "showbackground": true,
            "ticks": "",
            "zerolinecolor": "white"
           }
          },
          "shapedefaults": {
           "line": {
            "color": "#2a3f5f"
           }
          },
          "ternary": {
           "aaxis": {
            "gridcolor": "white",
            "linecolor": "white",
            "ticks": ""
           },
           "baxis": {
            "gridcolor": "white",
            "linecolor": "white",
            "ticks": ""
           },
           "bgcolor": "#E5ECF6",
           "caxis": {
            "gridcolor": "white",
            "linecolor": "white",
            "ticks": ""
           }
          },
          "title": {
           "x": 0.05
          },
          "xaxis": {
           "automargin": true,
           "gridcolor": "white",
           "linecolor": "white",
           "ticks": "",
           "title": {
            "standoff": 15
           },
           "zerolinecolor": "white",
           "zerolinewidth": 2
          },
          "yaxis": {
           "automargin": true,
           "gridcolor": "white",
           "linecolor": "white",
           "ticks": "",
           "title": {
            "standoff": 15
           },
           "zerolinecolor": "white",
           "zerolinewidth": 2
          }
         }
        },
        "title": {
         "text": "Latest Rolling Availability %"
        },
        "xaxis": {
         "anchor": "y",
         "domain": [
          0,
          1
         ],
         "title": {
          "text": "Line"
         }
        },
        "yaxis": {
         "anchor": "x",
         "domain": [
          0,
          1
         ],
         "range": [
          0,
          1
         ],
         "title": {
          "text": "Availability %"
         }
        }
       }
      }
     },
     "metadata": {},
     "output_type": "display_data"
    }
   ],
   "source": [
    "px.bar(active_rolling.dropna(subset=['OEE %']).groupby('Line').tail(1).sort_values(by='Availability %', ascending=False), x='Line', y='Availability %',\n",
    "     title='Latest Rolling Availability %',\n",
    "    range_y=(0,1)\n",
    "     )"
   ]
  },
  {
   "cell_type": "code",
   "execution_count": 128,
   "metadata": {},
   "outputs": [
    {
     "data": {
      "application/vnd.plotly.v1+json": {
       "config": {
        "plotlyServerURL": "https://plot.ly"
       },
       "data": [
        {
         "alignmentgroup": "True",
         "hovertemplate": "Line=%{x}<br>OEE %=%{y}<extra></extra>",
         "legendgroup": "",
         "marker": {
          "color": "#636efa",
          "pattern": {
           "shape": ""
          }
         },
         "name": "",
         "offsetgroup": "",
         "orientation": "v",
         "showlegend": false,
         "textposition": "auto",
         "type": "bar",
         "x": [
          "WAT - LYO INSPECTION",
          "WAT - AIL1 Packaging",
          "HZG - Bottle Packaging line 7",
          "MAF - I2 Inspection Line",
          "HZG - Blister packaging line 1",
          "MAF - I4 Inspection Line",
          "HZG - Bottle Packaging line 6",
          "OCO - UHLMANN 1 Packaging Line",
          "HZG - Blister packaging line 4",
          "SUZ - NIKKA",
          "LSX - C65-2 Packaging Line",
          "SZX - Packaging line 3",
          "OCO - UHLMANN 2 Packaging Line",
          "SCO - IMA C80/2",
          "MAF - R1 Filling Line",
          "ORI - EG123",
          "HZG - Semi-automatic Packaging line",
          "SUZ - NEWMAN",
          "FRA - Devices AI, Semi 120-1 Assembly",
          "LSX - C65-1 Packaging Line",
          "LSX - SIG2 Packaging Line",
          "SUZ - FETTE 2090 IV",
          "SUZ - TARGIFOR",
          "HZG - Blister packaging line 2",
          "SUZ - POMADAS",
          "MAF - I6 Inspection Line",
          "MAF - C9 Packaging Line",
          "LLB - Bosch-1 Packaging (CEPH)",
          "FRA - FF NLP, M21 Filling",
          "LLB - Huttlin-1 Granulation",
          "RDG - H6 Syringe Filling Line",
          "FRA - FF Packaging, VL56",
          "FRA - FF NLP, M22 Filling",
          "LLB - Bosch-2 Packaging (SOLD)",
          "SUZ - BAUSCH",
          "LLB - IMA C95 Packaging (SOLD)",
          "LLB - Sarong Packaging (SSL)",
          "LSX - SIG1 Packaging Line",
          "OCO - PARTENA 3 Packaging Line",
          "SUZ - IMA DERMACYD",
          "LLB - CP-3 Packaging (STRL)",
          "SCO - Gamma4",
          "OCO - JARABES Packaging Line",
          "MAF - C3 Packaging Line",
          "SUZ - MEDISEAL PURAN",
          "FRA - FF NAPA, M48 Inspection",
          "SUZ - LINE 06 - MEDISEAL CP 600 COMBO",
          "LLB - SPREY Packaging (NSL)",
          "LLB - Bosch-1 Packaging (PENC)",
          "FRA - FF Packaging, VL50",
          "FRA - Devices Pens, AL2",
          "LLB - IMA-2 Packaging (SOLD)",
          "LSX - 1070-1 Packaging Line",
          "FRA - FF NAPA, M24 Inspection",
          "SCO - IMA C80/1",
          "FRA - FF NLP, M22 Inspection",
          "FRA - FF NLP, M21 Inspection",
          "MAF - R5 Filling Line",
          "FRA - Devices AI, EMA 20",
          "FRA - Devices Pens, AL4",
          "MAF - R4 Filling Line",
          "SUZ - STRUNK",
          "SCO - IMA C80/3",
          "LLB - IMA-3 Packaging (SOLD)",
          "LLB - TFS-30 Packaging (SSL)",
          "SCO - U3",
          "LSX - 1030 Packaging Line",
          "SCO - GAMMA1",
          "LSX - 1070-2 Packaging Line",
          "LSX - IWK Packaging Line",
          "FRA - Devices Pens, AL3",
          "SUZ - GRON.DROPS/SPRAY",
          "SUZ - LINE 03 - MEDISEAL CP600",
          "LSX - SUPPO Packaging Line",
          "ELB - Extraction B12 1st cycle",
          "WAT - AIL2 Packaging",
          "SUZ - LINE 07 - UPS300",
          "SUZ - LINE 04 - BOSCH TLT 1400",
          "HZG - Blister packaging line 3",
          "WAT - AIL2 ASSEMBLY",
          "SUZ - LINE 02 - UHLMANN 1030",
          "OCO - MELOX Packaging Line",
          "SUZ - EYE DROPS OPTIMA",
          "LLB - Bosch-3 Packaging (SOLD)",
          "LLB - Uhlmann Packaging (SOLD)",
          "MAF - C2 Packaging Line",
          "LLB - IMA-4 Packaging (SOLD)",
          "LLB - CP-2 Packaging (STRL)",
          "SCO - PAR102",
          "SCO - PART92",
          "LSX - TR200 Packaging Line",
          "MAF - C4 Packaging Line",
          "OCO - SUSPENSIONES Packaging Line",
          "SCO - GAMMA3",
          "RDG - Synvisc Packaging Line",
          "FRA - Devices Pens, AL1",
          "FRA - FF Packaging, VL9",
          "FRA - FF NAPA, M31 Inspection",
          "FRA - Devices Pens, AL5 Packaging 1",
          "MAF - C5 Packaging Line",
          "LTR - C2 Packaging Line",
          "TRS - L24 Packaging Line",
          "TRS - L15 Packaging Line",
          "TRS - L19 Packaging Line",
          "LTR - C8 Packaging line",
          "SCO - IMA C80/4",
          "ELB - FERMENTATION E06",
          "TRS - L25 Packaging Line",
          "LLB - Bosch-1 Packaging (SOLD)",
          "FRA - FF Packaging, HV01",
          "SUZ - LINE 05 - SOLIDS IMA LINE",
          "LLB - IMA-1 Packaging (NSL)",
          "MAF - C6 Packaging Line",
          "LTR - C6 Packaging line",
          "SUZ - FARCON",
          "FRA - Devices Pens, AL6",
          "FRA - Devices Pens, AL5 Packaging 2",
          "SUZ - FETTE 3090 I",
          "LTR - C9 Packaging line",
          "WAT - LYO Packaging Line 9",
          "OCO - MEDISEAL Packaging Line",
          "LLB - IMA-2 Packaging (NSL)",
          "OCO - C90 Packaging Line",
          "SCO - GAMMA2",
          "LLB - IMA-1 Packaging (SOLD)",
          "ELB - FERMENTATION E05",
          "FRA - Devices AI, Semi 120-1 Labeling",
          "SUZ - LINE 10 - BOTTLES LINE",
          "SUZ - GRON.SYRUP",
          "VDR - K32_1",
          "SUZ - LINE 01 - UHLMANN 1880",
          "ELB - FERMENTATION E08",
          "OCO - LACTACYD Packaging Line",
          "LTR - C7 Packaging line",
          "SUZ - MARCHESINI",
          "OCO - PARTENA 1 Packaging Line",
          "ELB - FERMENTATION E10",
          "TRS - L21 Packaging Line",
          "ELB - FERMENTATION E07",
          "FRA - Devices AI, Semi 120-1 Packaging",
          "FRA - FF NAPA, M46 Filling",
          "LTR - L647 Bio-Tech Packaging",
          "FRA - Devices AI, FDLE",
          "FRA - FF NAPA, M53 Filling",
          "FRA - Pharma, M26 Filling",
          "MLE - P2A1",
          "ELB - FERMENTATION E09",
          "FRA - FF Packaging, VL47",
          "SUZ - EFERVESCENT CEWIN",
          "FRA - FF Packaging, VL44",
          "ORI - L27",
          "FRA - Devices Pens, AL5 Assembly",
          "ELB - FERMENTATION V08",
          "FRA - FF Packaging, VL32",
          "LTR - Optima Assembling Machine",
          "WAT - LYO Packaging Line 3",
          "FRA - Pharma, M58 Inspection",
          "FRA - FF Packaging, VL6",
          "ELB - FERMENTATION V09",
          "FRA - FF Packaging, VL62",
          "SCO - COLLE1",
          "SCO - Diosna 2",
          "SCO - Diosna 1",
          "SUZ - FETTE 3090 III",
          "LTR - Corima Assembling Machine",
          "FRA - Pharma, M52 Inspection",
          "SUZ - FETTE 2090 I",
          "SCO - COLLE2",
          "ELB - FERMENTATION E11"
         ],
         "xaxis": "x",
         "y": [
          11.711905116160121,
          0.8406869898094316,
          0.8328979991308831,
          0.7857205026691666,
          0.7629832025089193,
          0.7348832868634388,
          0.7180505806945421,
          0.7080346376466282,
          0.7015384937414311,
          0.7005465444770735,
          0.6907966001599628,
          0.6635605344980479,
          0.6542982575540889,
          0.6479376812029845,
          0.6415928578156043,
          0.6403485797842052,
          0.6394759258577531,
          0.6368994835608331,
          0.6365463678022032,
          0.6311892585598607,
          0.628028158376305,
          0.6253640045259018,
          0.6231648713731348,
          0.6231416557900111,
          0.6165249492355379,
          0.6159576812474791,
          0.6140850815845109,
          0.6098340675627176,
          0.6045155352150119,
          0.604388779259101,
          0.5983971320465484,
          0.5982022901448005,
          0.596402254158957,
          0.5949242172164146,
          0.5913039190272875,
          0.5850217406306784,
          0.5820471104496379,
          0.5817861222369085,
          0.5778321394957389,
          0.5702332229827526,
          0.5668503008148811,
          0.5606067361355895,
          0.5585513246894254,
          0.552257534256583,
          0.5472553288082946,
          0.545121866038055,
          0.5380753123068699,
          0.5371263372894264,
          0.5368035223789147,
          0.5359021037486389,
          0.5301966478758581,
          0.5290272534598013,
          0.5232566196188552,
          0.5226299772648871,
          0.5221618735647933,
          0.5125789226526276,
          0.5122692828341013,
          0.5097596827203912,
          0.5062009320761116,
          0.5020575472890871,
          0.4999820516285654,
          0.49954999510443576,
          0.4985624469813135,
          0.4981496374981983,
          0.49638929792203895,
          0.49581691313427356,
          0.4927145460137016,
          0.4918879889956489,
          0.49081237096032465,
          0.4837836127000953,
          0.4757139565798184,
          0.4754230880861302,
          0.4668126204316958,
          0.46498119747257277,
          0.4632502125187331,
          0.46279545429858976,
          0.46108728969687357,
          0.4592381421783636,
          0.4577758504618077,
          0.4503758580923228,
          0.4501293567303014,
          0.44899915429474474,
          0.4489145550655239,
          0.44615259419557907,
          0.44467132972725565,
          0.4422572280939768,
          0.4422236342185953,
          0.4371037203397302,
          0.43628456240967883,
          0.4351064178406872,
          0.43400448491700166,
          0.4261069696571291,
          0.4253743694858896,
          0.423025911477818,
          0.4114045319760403,
          0.4075105768342257,
          0.40588260548948557,
          0.40410931817210227,
          0.403401288362467,
          0.40177278969058144,
          0.3948110177430758,
          0.3831466396913107,
          0.37992956513227333,
          0.3778100532314635,
          0.37728694624778364,
          0.37626426307616306,
          0.37462750126646394,
          0.3682840317907925,
          0.365768451641569,
          0.3648511774876622,
          0.3612307748937271,
          0.35709779985297363,
          0.35312360606551924,
          0.3484945575259373,
          0.34835299757985955,
          0.347864500808818,
          0.3456977979756349,
          0.33603218152471614,
          0.3353058079598289,
          0.33505063879531044,
          0.3341145488155799,
          0.32518198580908764,
          0.32252520411316293,
          0.31985407804889554,
          0.318151744717997,
          0.3143194644440223,
          0.31042198477581284,
          0.31000941600862547,
          0.3038455348691139,
          0.3034664267029098,
          0.30251099866701303,
          0.2997922998986827,
          0.29977282714535447,
          0.29230467411486194,
          0.29164228346898824,
          0.28464024145093647,
          0.2780914387031407,
          0.27791210432035945,
          0.2753933953900708,
          0.271387346918708,
          0.26686904765433755,
          0.25036107855569284,
          0.23606679524700042,
          0.2320031305980015,
          0.22214978531302967,
          0.22049109118477855,
          0.2171979483282674,
          0.21579564163835918,
          0.21549990191142826,
          0.21256658858294195,
          0.21000796205506056,
          0.18548836400771118,
          0.1852750637009189,
          0.18197636503376566,
          0.1772716255129113,
          0.1689019988979149,
          0.13927477569408755,
          0.13301838427995782,
          0.1187398177736006,
          0.0943534566833878,
          0.0921920124639003,
          0.045223795221251334,
          0.04227135172481418,
          0.0189552807301566,
          0.014389300344550576,
          0.007993476259293692,
          5.551115123125783e-17,
          2.7755575615628914e-17,
          0
         ],
         "yaxis": "y"
        }
       ],
       "layout": {
        "barmode": "relative",
        "legend": {
         "tracegroupgap": 0
        },
        "template": {
         "data": {
          "bar": [
           {
            "error_x": {
             "color": "#2a3f5f"
            },
            "error_y": {
             "color": "#2a3f5f"
            },
            "marker": {
             "line": {
              "color": "#E5ECF6",
              "width": 0.5
             },
             "pattern": {
              "fillmode": "overlay",
              "size": 10,
              "solidity": 0.2
             }
            },
            "type": "bar"
           }
          ],
          "barpolar": [
           {
            "marker": {
             "line": {
              "color": "#E5ECF6",
              "width": 0.5
             },
             "pattern": {
              "fillmode": "overlay",
              "size": 10,
              "solidity": 0.2
             }
            },
            "type": "barpolar"
           }
          ],
          "carpet": [
           {
            "aaxis": {
             "endlinecolor": "#2a3f5f",
             "gridcolor": "white",
             "linecolor": "white",
             "minorgridcolor": "white",
             "startlinecolor": "#2a3f5f"
            },
            "baxis": {
             "endlinecolor": "#2a3f5f",
             "gridcolor": "white",
             "linecolor": "white",
             "minorgridcolor": "white",
             "startlinecolor": "#2a3f5f"
            },
            "type": "carpet"
           }
          ],
          "choropleth": [
           {
            "colorbar": {
             "outlinewidth": 0,
             "ticks": ""
            },
            "type": "choropleth"
           }
          ],
          "contour": [
           {
            "colorbar": {
             "outlinewidth": 0,
             "ticks": ""
            },
            "colorscale": [
             [
              0,
              "#0d0887"
             ],
             [
              0.1111111111111111,
              "#46039f"
             ],
             [
              0.2222222222222222,
              "#7201a8"
             ],
             [
              0.3333333333333333,
              "#9c179e"
             ],
             [
              0.4444444444444444,
              "#bd3786"
             ],
             [
              0.5555555555555556,
              "#d8576b"
             ],
             [
              0.6666666666666666,
              "#ed7953"
             ],
             [
              0.7777777777777778,
              "#fb9f3a"
             ],
             [
              0.8888888888888888,
              "#fdca26"
             ],
             [
              1,
              "#f0f921"
             ]
            ],
            "type": "contour"
           }
          ],
          "contourcarpet": [
           {
            "colorbar": {
             "outlinewidth": 0,
             "ticks": ""
            },
            "type": "contourcarpet"
           }
          ],
          "heatmap": [
           {
            "colorbar": {
             "outlinewidth": 0,
             "ticks": ""
            },
            "colorscale": [
             [
              0,
              "#0d0887"
             ],
             [
              0.1111111111111111,
              "#46039f"
             ],
             [
              0.2222222222222222,
              "#7201a8"
             ],
             [
              0.3333333333333333,
              "#9c179e"
             ],
             [
              0.4444444444444444,
              "#bd3786"
             ],
             [
              0.5555555555555556,
              "#d8576b"
             ],
             [
              0.6666666666666666,
              "#ed7953"
             ],
             [
              0.7777777777777778,
              "#fb9f3a"
             ],
             [
              0.8888888888888888,
              "#fdca26"
             ],
             [
              1,
              "#f0f921"
             ]
            ],
            "type": "heatmap"
           }
          ],
          "heatmapgl": [
           {
            "colorbar": {
             "outlinewidth": 0,
             "ticks": ""
            },
            "colorscale": [
             [
              0,
              "#0d0887"
             ],
             [
              0.1111111111111111,
              "#46039f"
             ],
             [
              0.2222222222222222,
              "#7201a8"
             ],
             [
              0.3333333333333333,
              "#9c179e"
             ],
             [
              0.4444444444444444,
              "#bd3786"
             ],
             [
              0.5555555555555556,
              "#d8576b"
             ],
             [
              0.6666666666666666,
              "#ed7953"
             ],
             [
              0.7777777777777778,
              "#fb9f3a"
             ],
             [
              0.8888888888888888,
              "#fdca26"
             ],
             [
              1,
              "#f0f921"
             ]
            ],
            "type": "heatmapgl"
           }
          ],
          "histogram": [
           {
            "marker": {
             "pattern": {
              "fillmode": "overlay",
              "size": 10,
              "solidity": 0.2
             }
            },
            "type": "histogram"
           }
          ],
          "histogram2d": [
           {
            "colorbar": {
             "outlinewidth": 0,
             "ticks": ""
            },
            "colorscale": [
             [
              0,
              "#0d0887"
             ],
             [
              0.1111111111111111,
              "#46039f"
             ],
             [
              0.2222222222222222,
              "#7201a8"
             ],
             [
              0.3333333333333333,
              "#9c179e"
             ],
             [
              0.4444444444444444,
              "#bd3786"
             ],
             [
              0.5555555555555556,
              "#d8576b"
             ],
             [
              0.6666666666666666,
              "#ed7953"
             ],
             [
              0.7777777777777778,
              "#fb9f3a"
             ],
             [
              0.8888888888888888,
              "#fdca26"
             ],
             [
              1,
              "#f0f921"
             ]
            ],
            "type": "histogram2d"
           }
          ],
          "histogram2dcontour": [
           {
            "colorbar": {
             "outlinewidth": 0,
             "ticks": ""
            },
            "colorscale": [
             [
              0,
              "#0d0887"
             ],
             [
              0.1111111111111111,
              "#46039f"
             ],
             [
              0.2222222222222222,
              "#7201a8"
             ],
             [
              0.3333333333333333,
              "#9c179e"
             ],
             [
              0.4444444444444444,
              "#bd3786"
             ],
             [
              0.5555555555555556,
              "#d8576b"
             ],
             [
              0.6666666666666666,
              "#ed7953"
             ],
             [
              0.7777777777777778,
              "#fb9f3a"
             ],
             [
              0.8888888888888888,
              "#fdca26"
             ],
             [
              1,
              "#f0f921"
             ]
            ],
            "type": "histogram2dcontour"
           }
          ],
          "mesh3d": [
           {
            "colorbar": {
             "outlinewidth": 0,
             "ticks": ""
            },
            "type": "mesh3d"
           }
          ],
          "parcoords": [
           {
            "line": {
             "colorbar": {
              "outlinewidth": 0,
              "ticks": ""
             }
            },
            "type": "parcoords"
           }
          ],
          "pie": [
           {
            "automargin": true,
            "type": "pie"
           }
          ],
          "scatter": [
           {
            "marker": {
             "colorbar": {
              "outlinewidth": 0,
              "ticks": ""
             }
            },
            "type": "scatter"
           }
          ],
          "scatter3d": [
           {
            "line": {
             "colorbar": {
              "outlinewidth": 0,
              "ticks": ""
             }
            },
            "marker": {
             "colorbar": {
              "outlinewidth": 0,
              "ticks": ""
             }
            },
            "type": "scatter3d"
           }
          ],
          "scattercarpet": [
           {
            "marker": {
             "colorbar": {
              "outlinewidth": 0,
              "ticks": ""
             }
            },
            "type": "scattercarpet"
           }
          ],
          "scattergeo": [
           {
            "marker": {
             "colorbar": {
              "outlinewidth": 0,
              "ticks": ""
             }
            },
            "type": "scattergeo"
           }
          ],
          "scattergl": [
           {
            "marker": {
             "colorbar": {
              "outlinewidth": 0,
              "ticks": ""
             }
            },
            "type": "scattergl"
           }
          ],
          "scattermapbox": [
           {
            "marker": {
             "colorbar": {
              "outlinewidth": 0,
              "ticks": ""
             }
            },
            "type": "scattermapbox"
           }
          ],
          "scatterpolar": [
           {
            "marker": {
             "colorbar": {
              "outlinewidth": 0,
              "ticks": ""
             }
            },
            "type": "scatterpolar"
           }
          ],
          "scatterpolargl": [
           {
            "marker": {
             "colorbar": {
              "outlinewidth": 0,
              "ticks": ""
             }
            },
            "type": "scatterpolargl"
           }
          ],
          "scatterternary": [
           {
            "marker": {
             "colorbar": {
              "outlinewidth": 0,
              "ticks": ""
             }
            },
            "type": "scatterternary"
           }
          ],
          "surface": [
           {
            "colorbar": {
             "outlinewidth": 0,
             "ticks": ""
            },
            "colorscale": [
             [
              0,
              "#0d0887"
             ],
             [
              0.1111111111111111,
              "#46039f"
             ],
             [
              0.2222222222222222,
              "#7201a8"
             ],
             [
              0.3333333333333333,
              "#9c179e"
             ],
             [
              0.4444444444444444,
              "#bd3786"
             ],
             [
              0.5555555555555556,
              "#d8576b"
             ],
             [
              0.6666666666666666,
              "#ed7953"
             ],
             [
              0.7777777777777778,
              "#fb9f3a"
             ],
             [
              0.8888888888888888,
              "#fdca26"
             ],
             [
              1,
              "#f0f921"
             ]
            ],
            "type": "surface"
           }
          ],
          "table": [
           {
            "cells": {
             "fill": {
              "color": "#EBF0F8"
             },
             "line": {
              "color": "white"
             }
            },
            "header": {
             "fill": {
              "color": "#C8D4E3"
             },
             "line": {
              "color": "white"
             }
            },
            "type": "table"
           }
          ]
         },
         "layout": {
          "annotationdefaults": {
           "arrowcolor": "#2a3f5f",
           "arrowhead": 0,
           "arrowwidth": 1
          },
          "autotypenumbers": "strict",
          "coloraxis": {
           "colorbar": {
            "outlinewidth": 0,
            "ticks": ""
           }
          },
          "colorscale": {
           "diverging": [
            [
             0,
             "#8e0152"
            ],
            [
             0.1,
             "#c51b7d"
            ],
            [
             0.2,
             "#de77ae"
            ],
            [
             0.3,
             "#f1b6da"
            ],
            [
             0.4,
             "#fde0ef"
            ],
            [
             0.5,
             "#f7f7f7"
            ],
            [
             0.6,
             "#e6f5d0"
            ],
            [
             0.7,
             "#b8e186"
            ],
            [
             0.8,
             "#7fbc41"
            ],
            [
             0.9,
             "#4d9221"
            ],
            [
             1,
             "#276419"
            ]
           ],
           "sequential": [
            [
             0,
             "#0d0887"
            ],
            [
             0.1111111111111111,
             "#46039f"
            ],
            [
             0.2222222222222222,
             "#7201a8"
            ],
            [
             0.3333333333333333,
             "#9c179e"
            ],
            [
             0.4444444444444444,
             "#bd3786"
            ],
            [
             0.5555555555555556,
             "#d8576b"
            ],
            [
             0.6666666666666666,
             "#ed7953"
            ],
            [
             0.7777777777777778,
             "#fb9f3a"
            ],
            [
             0.8888888888888888,
             "#fdca26"
            ],
            [
             1,
             "#f0f921"
            ]
           ],
           "sequentialminus": [
            [
             0,
             "#0d0887"
            ],
            [
             0.1111111111111111,
             "#46039f"
            ],
            [
             0.2222222222222222,
             "#7201a8"
            ],
            [
             0.3333333333333333,
             "#9c179e"
            ],
            [
             0.4444444444444444,
             "#bd3786"
            ],
            [
             0.5555555555555556,
             "#d8576b"
            ],
            [
             0.6666666666666666,
             "#ed7953"
            ],
            [
             0.7777777777777778,
             "#fb9f3a"
            ],
            [
             0.8888888888888888,
             "#fdca26"
            ],
            [
             1,
             "#f0f921"
            ]
           ]
          },
          "colorway": [
           "#636efa",
           "#EF553B",
           "#00cc96",
           "#ab63fa",
           "#FFA15A",
           "#19d3f3",
           "#FF6692",
           "#B6E880",
           "#FF97FF",
           "#FECB52"
          ],
          "font": {
           "color": "#2a3f5f"
          },
          "geo": {
           "bgcolor": "white",
           "lakecolor": "white",
           "landcolor": "#E5ECF6",
           "showlakes": true,
           "showland": true,
           "subunitcolor": "white"
          },
          "hoverlabel": {
           "align": "left"
          },
          "hovermode": "closest",
          "mapbox": {
           "style": "light"
          },
          "paper_bgcolor": "white",
          "plot_bgcolor": "#E5ECF6",
          "polar": {
           "angularaxis": {
            "gridcolor": "white",
            "linecolor": "white",
            "ticks": ""
           },
           "bgcolor": "#E5ECF6",
           "radialaxis": {
            "gridcolor": "white",
            "linecolor": "white",
            "ticks": ""
           }
          },
          "scene": {
           "xaxis": {
            "backgroundcolor": "#E5ECF6",
            "gridcolor": "white",
            "gridwidth": 2,
            "linecolor": "white",
            "showbackground": true,
            "ticks": "",
            "zerolinecolor": "white"
           },
           "yaxis": {
            "backgroundcolor": "#E5ECF6",
            "gridcolor": "white",
            "gridwidth": 2,
            "linecolor": "white",
            "showbackground": true,
            "ticks": "",
            "zerolinecolor": "white"
           },
           "zaxis": {
            "backgroundcolor": "#E5ECF6",
            "gridcolor": "white",
            "gridwidth": 2,
            "linecolor": "white",
            "showbackground": true,
            "ticks": "",
            "zerolinecolor": "white"
           }
          },
          "shapedefaults": {
           "line": {
            "color": "#2a3f5f"
           }
          },
          "ternary": {
           "aaxis": {
            "gridcolor": "white",
            "linecolor": "white",
            "ticks": ""
           },
           "baxis": {
            "gridcolor": "white",
            "linecolor": "white",
            "ticks": ""
           },
           "bgcolor": "#E5ECF6",
           "caxis": {
            "gridcolor": "white",
            "linecolor": "white",
            "ticks": ""
           }
          },
          "title": {
           "x": 0.05
          },
          "xaxis": {
           "automargin": true,
           "gridcolor": "white",
           "linecolor": "white",
           "ticks": "",
           "title": {
            "standoff": 15
           },
           "zerolinecolor": "white",
           "zerolinewidth": 2
          },
          "yaxis": {
           "automargin": true,
           "gridcolor": "white",
           "linecolor": "white",
           "ticks": "",
           "title": {
            "standoff": 15
           },
           "zerolinecolor": "white",
           "zerolinewidth": 2
          }
         }
        },
        "title": {
         "text": "Latest Rolling OEE % by Line"
        },
        "xaxis": {
         "anchor": "y",
         "domain": [
          0,
          1
         ],
         "title": {
          "text": "Line"
         }
        },
        "yaxis": {
         "anchor": "x",
         "domain": [
          0,
          1
         ],
         "range": [
          0,
          1
         ],
         "title": {
          "text": "OEE %"
         }
        }
       }
      }
     },
     "metadata": {},
     "output_type": "display_data"
    },
    {
     "data": {
      "application/vnd.plotly.v1+json": {
       "config": {
        "plotlyServerURL": "https://plot.ly"
       },
       "data": [
        {
         "alignmentgroup": "True",
         "hovertemplate": "Line=%{x}<br>Availability %=%{y}<extra></extra>",
         "legendgroup": "",
         "marker": {
          "color": "#636efa",
          "pattern": {
           "shape": ""
          }
         },
         "name": "",
         "offsetgroup": "",
         "orientation": "v",
         "showlegend": false,
         "textposition": "auto",
         "type": "bar",
         "x": [
          "SCO - Diosna 2",
          "LLB - Huttlin-1 Granulation",
          "MAF - I2 Inspection Line",
          "LLB - IMA C95 Packaging (SOLD)",
          "MAF - I4 Inspection Line",
          "HZG - Blister packaging line 1",
          "LLB - IMA-1 Packaging (SOLD)",
          "LLB - Bosch-2 Packaging (SOLD)",
          "LLB - Bosch-1 Packaging (SOLD)",
          "ELB - FERMENTATION V09",
          "LLB - IMA-2 Packaging (SOLD)",
          "SZX - Packaging line 3",
          "OCO - UHLMANN 2 Packaging Line",
          "HZG - Blister packaging line 4",
          "HZG - Bottle Packaging line 7",
          "LLB - Bosch-3 Packaging (SOLD)",
          "LSX - C65-2 Packaging Line",
          "SCO - Diosna 1",
          "OCO - UHLMANN 1 Packaging Line",
          "LLB - TFS-30 Packaging (SSL)",
          "ELB - FERMENTATION E05",
          "LLB - IMA-3 Packaging (SOLD)",
          "SUZ - NEWMAN",
          "SUZ - MEDISEAL PURAN",
          "FRA - Devices AI, EMA 20",
          "MAF - C9 Packaging Line",
          "LSX - C65-1 Packaging Line",
          "HZG - Blister packaging line 2",
          "LLB - Sarong Packaging (SSL)",
          "SCO - IMA C80/2",
          "LLB - SPREY Packaging (NSL)",
          "FRA - FF Packaging, VL50",
          "ORI - EG123",
          "SUZ - NIKKA",
          "LLB - CP-3 Packaging (STRL)",
          "HZG - Semi-automatic Packaging line",
          "LLB - Bosch-1 Packaging (PENC)",
          "FRA - FF NLP, M21 Filling",
          "MAF - I6 Inspection Line",
          "SUZ - POMADAS",
          "SUZ - LINE 06 - MEDISEAL CP 600 COMBO",
          "LLB - IMA-4 Packaging (SOLD)",
          "FRA - FF NLP, M22 Filling",
          "RDG - H6 Syringe Filling Line",
          "OCO - MELOX Packaging Line",
          "LSX - 1070-1 Packaging Line",
          "FRA - Devices Pens, AL2",
          "FRA - FF Packaging, VL56",
          "LSX - SUPPO Packaging Line",
          "MAF - R1 Filling Line",
          "LSX - SIG1 Packaging Line",
          "LLB - Uhlmann Packaging (SOLD)",
          "MAF - C3 Packaging Line",
          "HZG - Bottle Packaging line 6",
          "SUZ - IMA DERMACYD",
          "FRA - Devices AI, Semi 120-1 Assembly",
          "OCO - PARTENA 3 Packaging Line",
          "LLB - CP-2 Packaging (STRL)",
          "LSX - 1070-2 Packaging Line",
          "FRA - Devices Pens, AL4",
          "FRA - Devices AI, Semi 120-1 Labeling",
          "SCO - U3",
          "SCO - Gamma4",
          "LSX - SIG2 Packaging Line",
          "LTR - C2 Packaging Line",
          "SUZ - BAUSCH",
          "MAF - R5 Filling Line",
          "FRA - Devices Pens, AL3",
          "FRA - FF Packaging, HV01",
          "FRA - Devices Pens, AL1",
          "LSX - TR200 Packaging Line",
          "OCO - JARABES Packaging Line",
          "FRA - FF NAPA, M24 Inspection",
          "FRA - Devices Pens, AL5 Packaging 1",
          "RDG - Synvisc Packaging Line",
          "SCO - IMA C80/3",
          "SCO - IMA C80/1",
          "MAF - C2 Packaging Line",
          "FRA - FF NAPA, M48 Inspection",
          "LSX - 1030 Packaging Line",
          "ELB - FERMENTATION E11",
          "ELB - FERMENTATION E06",
          "FRA - FF NLP, M21 Inspection",
          "MAF - C4 Packaging Line",
          "SCO - GAMMA1",
          "LLB - Bosch-1 Packaging (CEPH)",
          "LSX - IWK Packaging Line",
          "FRA - FF NLP, M22 Inspection",
          "SCO - GAMMA3",
          "LLB - IMA-2 Packaging (NSL)",
          "LLB - IMA-1 Packaging (NSL)",
          "LTR - Corima Assembling Machine",
          "SUZ - LINE 03 - MEDISEAL CP600",
          "HZG - Blister packaging line 3",
          "LTR - C8 Packaging line",
          "LTR - C6 Packaging line",
          "LTR - Optima Assembling Machine",
          "MAF - C5 Packaging Line",
          "OCO - SUSPENSIONES Packaging Line",
          "MAF - R4 Filling Line",
          "MAF - C6 Packaging Line",
          "LTR - C9 Packaging line",
          "FRA - Devices Pens, AL6",
          "SUZ - LINE 07 - UPS300",
          "SCO - IMA C80/4",
          "SUZ - LINE 04 - BOSCH TLT 1400",
          "FRA - FF Packaging, VL9",
          "SCO - PART92",
          "FRA - FF Packaging, VL32",
          "WAT - AIL2 ASSEMBLY",
          "SCO - PAR102",
          "ELB - FERMENTATION E09",
          "FRA - FF NAPA, M31 Inspection",
          "SUZ - LINE 02 - UHLMANN 1030",
          "FRA - Devices AI, Semi 120-1 Packaging",
          "LTR - C7 Packaging line",
          "SUZ - LINE 05 - SOLIDS IMA LINE",
          "SUZ - FARCON",
          "SCO - GAMMA2",
          "FRA - Devices Pens, AL5 Packaging 2",
          "SCO - COLLE1",
          "OCO - C90 Packaging Line",
          "OCO - LACTACYD Packaging Line",
          "SUZ - EYE DROPS OPTIMA",
          "FRA - FF Packaging, VL6",
          "OCO - MEDISEAL Packaging Line",
          "ELB - FERMENTATION E10",
          "TRS - L25 Packaging Line",
          "WAT - AIL2 Packaging",
          "FRA - Devices AI, FDLE",
          "TRS - L15 Packaging Line",
          "TRS - L24 Packaging Line",
          "SUZ - STRUNK",
          "LTR - L647 Bio-Tech Packaging",
          "SUZ - TARGIFOR",
          "OCO - PARTENA 1 Packaging Line",
          "SUZ - MARCHESINI",
          "SUZ - GRON.DROPS/SPRAY",
          "WAT - LYO INSPECTION",
          "TRS - L19 Packaging Line",
          "FRA - FF NAPA, M46 Filling",
          "FRA - FF Packaging, VL44",
          "FRA - Devices Pens, AL5 Assembly",
          "SUZ - GRON.SYRUP",
          "VDR - K32_1",
          "SUZ - LINE 01 - UHLMANN 1880",
          "SUZ - FETTE 3090 I",
          "FRA - FF NAPA, M53 Filling",
          "TRS - L21 Packaging Line",
          "ELB - FERMENTATION V08",
          "ELB - FERMENTATION E08",
          "ORI - L27",
          "ELB - FERMENTATION E07",
          "FRA - Pharma, M26 Filling",
          "MLE - P2A1",
          "FRA - FF Packaging, VL47",
          "SUZ - EFERVESCENT CEWIN",
          "SUZ - LINE 10 - BOTTLES LINE",
          "WAT - LYO Packaging Line 9",
          "FRA - Pharma, M58 Inspection",
          "FRA - FF Packaging, VL62",
          "WAT - AIL1 Packaging",
          "SUZ - FETTE 2090 IV",
          "SUZ - FETTE 3090 III",
          "WAT - LYO Packaging Line 3",
          "FRA - Pharma, M52 Inspection",
          "SUZ - FETTE 2090 I",
          "SCO - COLLE2",
          "ELB - Extraction B12 1st cycle"
         ],
         "xaxis": "x",
         "y": [
          0.9424851190476189,
          0.8888888888888888,
          0.8299990908235759,
          0.824517992912897,
          0.7828395437966136,
          0.780189710330556,
          0.7678577482509399,
          0.763477628429394,
          0.759295932408709,
          0.7589178240740742,
          0.7533514396842542,
          0.7525629052862726,
          0.7516051879852736,
          0.7400170286262491,
          0.738917881083166,
          0.7378205303203943,
          0.7369013794630015,
          0.7319701029335333,
          0.72530375904554,
          0.7251167943170658,
          0.7239103835978836,
          0.7218524653930722,
          0.7137419634755245,
          0.7094500158167325,
          0.7064536498437644,
          0.7044584825498681,
          0.6969380230679441,
          0.6888399641625662,
          0.6883433791660184,
          0.6882364211311656,
          0.6871412078387055,
          0.6798591511340428,
          0.6765244001615176,
          0.6672106264640416,
          0.6654032527339375,
          0.6639319909216631,
          0.6624173348899554,
          0.6615553346651202,
          0.6612982556376426,
          0.6589035108054258,
          0.6561947665969381,
          0.6542888411767642,
          0.6537943597432234,
          0.653478130905099,
          0.6486351475882639,
          0.648038405911746,
          0.6479305174342718,
          0.6471425442361958,
          0.6462382317670514,
          0.6422027729818685,
          0.6406080981193751,
          0.636845411078933,
          0.6364110914795442,
          0.6313648813096173,
          0.6293932333635563,
          0.6252158812019278,
          0.6248307907474273,
          0.6232456046728547,
          0.6181701044632881,
          0.6180347946308968,
          0.6163518823996148,
          0.6150219164326055,
          0.613651596679202,
          0.6131984354682067,
          0.6112746043418432,
          0.5941439975478976,
          0.5937610135255418,
          0.5907441553764385,
          0.5903848347164362,
          0.5867061618564254,
          0.5863286999606594,
          0.5844232394996809,
          0.5803913855135644,
          0.5796417335801313,
          0.5767783620246243,
          0.5732019732130565,
          0.5731443399365213,
          0.5714846674451567,
          0.5702579870041604,
          0.5684773038103661,
          0.5658738506471986,
          0.5623752175860453,
          0.5595657588752347,
          0.5593997118748435,
          0.5575250122780997,
          0.5537353790690648,
          0.551002759907711,
          0.5503816773662075,
          0.5343008189830244,
          0.5321444410324363,
          0.5281917289294976,
          0.5215946646372963,
          0.520456730971151,
          0.5203355897789397,
          0.5160218521454445,
          0.5138024253938147,
          0.5130629832894534,
          0.5128132878399261,
          0.5099116442243452,
          0.5093382662489271,
          0.5065506495296889,
          0.5051070083525516,
          0.5044852294230013,
          0.5027172022138409,
          0.5010796820681684,
          0.5003078755286938,
          0.4994992370843453,
          0.4989080274752117,
          0.4943199031231073,
          0.4913926514869279,
          0.4881577033099516,
          0.4834680886243386,
          0.4752710158864547,
          0.4683122449545523,
          0.46399240365759686,
          0.46125372144805876,
          0.46118131261633877,
          0.45970469880694254,
          0.4567747578362821,
          0.4541095907132827,
          0.4528273809523807,
          0.4503422233440997,
          0.44090039401450054,
          0.4403367833906554,
          0.43826306180991537,
          0.4364650649686187,
          0.4297399966931217,
          0.42790179129115735,
          0.4150947087916694,
          0.41301749451328107,
          0.41128615438870275,
          0.40763183772600825,
          0.4074952013552136,
          0.4070542249068102,
          0.40474106622122025,
          0.3907127690465755,
          0.3884861773257351,
          0.3882154822782342,
          0.3764741044359122,
          0.36906010936306355,
          0.36661964655571755,
          0.36017316518060727,
          0.3585246434588378,
          0.3574367036443094,
          0.3564306629553635,
          0.3546870826049038,
          0.35090157344389494,
          0.34330059603291935,
          0.33903538491749874,
          0.33544973544973544,
          0.32957506613756615,
          0.3282914619641743,
          0.3209846752580028,
          0.2999682945349292,
          0.29766393712052963,
          0.29028507555132116,
          0.2832044711045115,
          0.2731985087742401,
          0.23726559578466436,
          0.2124186429127647,
          0.20809739740029656,
          0.20619505026816076,
          0.17591215431733645,
          0.15523354828042288,
          0.09895520536235033,
          0.009722030000026147,
          0.0000017236191738579701,
          0,
          -0.06234578735845414
         ],
         "yaxis": "y"
        }
       ],
       "layout": {
        "barmode": "relative",
        "legend": {
         "tracegroupgap": 0
        },
        "template": {
         "data": {
          "bar": [
           {
            "error_x": {
             "color": "#2a3f5f"
            },
            "error_y": {
             "color": "#2a3f5f"
            },
            "marker": {
             "line": {
              "color": "#E5ECF6",
              "width": 0.5
             },
             "pattern": {
              "fillmode": "overlay",
              "size": 10,
              "solidity": 0.2
             }
            },
            "type": "bar"
           }
          ],
          "barpolar": [
           {
            "marker": {
             "line": {
              "color": "#E5ECF6",
              "width": 0.5
             },
             "pattern": {
              "fillmode": "overlay",
              "size": 10,
              "solidity": 0.2
             }
            },
            "type": "barpolar"
           }
          ],
          "carpet": [
           {
            "aaxis": {
             "endlinecolor": "#2a3f5f",
             "gridcolor": "white",
             "linecolor": "white",
             "minorgridcolor": "white",
             "startlinecolor": "#2a3f5f"
            },
            "baxis": {
             "endlinecolor": "#2a3f5f",
             "gridcolor": "white",
             "linecolor": "white",
             "minorgridcolor": "white",
             "startlinecolor": "#2a3f5f"
            },
            "type": "carpet"
           }
          ],
          "choropleth": [
           {
            "colorbar": {
             "outlinewidth": 0,
             "ticks": ""
            },
            "type": "choropleth"
           }
          ],
          "contour": [
           {
            "colorbar": {
             "outlinewidth": 0,
             "ticks": ""
            },
            "colorscale": [
             [
              0,
              "#0d0887"
             ],
             [
              0.1111111111111111,
              "#46039f"
             ],
             [
              0.2222222222222222,
              "#7201a8"
             ],
             [
              0.3333333333333333,
              "#9c179e"
             ],
             [
              0.4444444444444444,
              "#bd3786"
             ],
             [
              0.5555555555555556,
              "#d8576b"
             ],
             [
              0.6666666666666666,
              "#ed7953"
             ],
             [
              0.7777777777777778,
              "#fb9f3a"
             ],
             [
              0.8888888888888888,
              "#fdca26"
             ],
             [
              1,
              "#f0f921"
             ]
            ],
            "type": "contour"
           }
          ],
          "contourcarpet": [
           {
            "colorbar": {
             "outlinewidth": 0,
             "ticks": ""
            },
            "type": "contourcarpet"
           }
          ],
          "heatmap": [
           {
            "colorbar": {
             "outlinewidth": 0,
             "ticks": ""
            },
            "colorscale": [
             [
              0,
              "#0d0887"
             ],
             [
              0.1111111111111111,
              "#46039f"
             ],
             [
              0.2222222222222222,
              "#7201a8"
             ],
             [
              0.3333333333333333,
              "#9c179e"
             ],
             [
              0.4444444444444444,
              "#bd3786"
             ],
             [
              0.5555555555555556,
              "#d8576b"
             ],
             [
              0.6666666666666666,
              "#ed7953"
             ],
             [
              0.7777777777777778,
              "#fb9f3a"
             ],
             [
              0.8888888888888888,
              "#fdca26"
             ],
             [
              1,
              "#f0f921"
             ]
            ],
            "type": "heatmap"
           }
          ],
          "heatmapgl": [
           {
            "colorbar": {
             "outlinewidth": 0,
             "ticks": ""
            },
            "colorscale": [
             [
              0,
              "#0d0887"
             ],
             [
              0.1111111111111111,
              "#46039f"
             ],
             [
              0.2222222222222222,
              "#7201a8"
             ],
             [
              0.3333333333333333,
              "#9c179e"
             ],
             [
              0.4444444444444444,
              "#bd3786"
             ],
             [
              0.5555555555555556,
              "#d8576b"
             ],
             [
              0.6666666666666666,
              "#ed7953"
             ],
             [
              0.7777777777777778,
              "#fb9f3a"
             ],
             [
              0.8888888888888888,
              "#fdca26"
             ],
             [
              1,
              "#f0f921"
             ]
            ],
            "type": "heatmapgl"
           }
          ],
          "histogram": [
           {
            "marker": {
             "pattern": {
              "fillmode": "overlay",
              "size": 10,
              "solidity": 0.2
             }
            },
            "type": "histogram"
           }
          ],
          "histogram2d": [
           {
            "colorbar": {
             "outlinewidth": 0,
             "ticks": ""
            },
            "colorscale": [
             [
              0,
              "#0d0887"
             ],
             [
              0.1111111111111111,
              "#46039f"
             ],
             [
              0.2222222222222222,
              "#7201a8"
             ],
             [
              0.3333333333333333,
              "#9c179e"
             ],
             [
              0.4444444444444444,
              "#bd3786"
             ],
             [
              0.5555555555555556,
              "#d8576b"
             ],
             [
              0.6666666666666666,
              "#ed7953"
             ],
             [
              0.7777777777777778,
              "#fb9f3a"
             ],
             [
              0.8888888888888888,
              "#fdca26"
             ],
             [
              1,
              "#f0f921"
             ]
            ],
            "type": "histogram2d"
           }
          ],
          "histogram2dcontour": [
           {
            "colorbar": {
             "outlinewidth": 0,
             "ticks": ""
            },
            "colorscale": [
             [
              0,
              "#0d0887"
             ],
             [
              0.1111111111111111,
              "#46039f"
             ],
             [
              0.2222222222222222,
              "#7201a8"
             ],
             [
              0.3333333333333333,
              "#9c179e"
             ],
             [
              0.4444444444444444,
              "#bd3786"
             ],
             [
              0.5555555555555556,
              "#d8576b"
             ],
             [
              0.6666666666666666,
              "#ed7953"
             ],
             [
              0.7777777777777778,
              "#fb9f3a"
             ],
             [
              0.8888888888888888,
              "#fdca26"
             ],
             [
              1,
              "#f0f921"
             ]
            ],
            "type": "histogram2dcontour"
           }
          ],
          "mesh3d": [
           {
            "colorbar": {
             "outlinewidth": 0,
             "ticks": ""
            },
            "type": "mesh3d"
           }
          ],
          "parcoords": [
           {
            "line": {
             "colorbar": {
              "outlinewidth": 0,
              "ticks": ""
             }
            },
            "type": "parcoords"
           }
          ],
          "pie": [
           {
            "automargin": true,
            "type": "pie"
           }
          ],
          "scatter": [
           {
            "marker": {
             "colorbar": {
              "outlinewidth": 0,
              "ticks": ""
             }
            },
            "type": "scatter"
           }
          ],
          "scatter3d": [
           {
            "line": {
             "colorbar": {
              "outlinewidth": 0,
              "ticks": ""
             }
            },
            "marker": {
             "colorbar": {
              "outlinewidth": 0,
              "ticks": ""
             }
            },
            "type": "scatter3d"
           }
          ],
          "scattercarpet": [
           {
            "marker": {
             "colorbar": {
              "outlinewidth": 0,
              "ticks": ""
             }
            },
            "type": "scattercarpet"
           }
          ],
          "scattergeo": [
           {
            "marker": {
             "colorbar": {
              "outlinewidth": 0,
              "ticks": ""
             }
            },
            "type": "scattergeo"
           }
          ],
          "scattergl": [
           {
            "marker": {
             "colorbar": {
              "outlinewidth": 0,
              "ticks": ""
             }
            },
            "type": "scattergl"
           }
          ],
          "scattermapbox": [
           {
            "marker": {
             "colorbar": {
              "outlinewidth": 0,
              "ticks": ""
             }
            },
            "type": "scattermapbox"
           }
          ],
          "scatterpolar": [
           {
            "marker": {
             "colorbar": {
              "outlinewidth": 0,
              "ticks": ""
             }
            },
            "type": "scatterpolar"
           }
          ],
          "scatterpolargl": [
           {
            "marker": {
             "colorbar": {
              "outlinewidth": 0,
              "ticks": ""
             }
            },
            "type": "scatterpolargl"
           }
          ],
          "scatterternary": [
           {
            "marker": {
             "colorbar": {
              "outlinewidth": 0,
              "ticks": ""
             }
            },
            "type": "scatterternary"
           }
          ],
          "surface": [
           {
            "colorbar": {
             "outlinewidth": 0,
             "ticks": ""
            },
            "colorscale": [
             [
              0,
              "#0d0887"
             ],
             [
              0.1111111111111111,
              "#46039f"
             ],
             [
              0.2222222222222222,
              "#7201a8"
             ],
             [
              0.3333333333333333,
              "#9c179e"
             ],
             [
              0.4444444444444444,
              "#bd3786"
             ],
             [
              0.5555555555555556,
              "#d8576b"
             ],
             [
              0.6666666666666666,
              "#ed7953"
             ],
             [
              0.7777777777777778,
              "#fb9f3a"
             ],
             [
              0.8888888888888888,
              "#fdca26"
             ],
             [
              1,
              "#f0f921"
             ]
            ],
            "type": "surface"
           }
          ],
          "table": [
           {
            "cells": {
             "fill": {
              "color": "#EBF0F8"
             },
             "line": {
              "color": "white"
             }
            },
            "header": {
             "fill": {
              "color": "#C8D4E3"
             },
             "line": {
              "color": "white"
             }
            },
            "type": "table"
           }
          ]
         },
         "layout": {
          "annotationdefaults": {
           "arrowcolor": "#2a3f5f",
           "arrowhead": 0,
           "arrowwidth": 1
          },
          "autotypenumbers": "strict",
          "coloraxis": {
           "colorbar": {
            "outlinewidth": 0,
            "ticks": ""
           }
          },
          "colorscale": {
           "diverging": [
            [
             0,
             "#8e0152"
            ],
            [
             0.1,
             "#c51b7d"
            ],
            [
             0.2,
             "#de77ae"
            ],
            [
             0.3,
             "#f1b6da"
            ],
            [
             0.4,
             "#fde0ef"
            ],
            [
             0.5,
             "#f7f7f7"
            ],
            [
             0.6,
             "#e6f5d0"
            ],
            [
             0.7,
             "#b8e186"
            ],
            [
             0.8,
             "#7fbc41"
            ],
            [
             0.9,
             "#4d9221"
            ],
            [
             1,
             "#276419"
            ]
           ],
           "sequential": [
            [
             0,
             "#0d0887"
            ],
            [
             0.1111111111111111,
             "#46039f"
            ],
            [
             0.2222222222222222,
             "#7201a8"
            ],
            [
             0.3333333333333333,
             "#9c179e"
            ],
            [
             0.4444444444444444,
             "#bd3786"
            ],
            [
             0.5555555555555556,
             "#d8576b"
            ],
            [
             0.6666666666666666,
             "#ed7953"
            ],
            [
             0.7777777777777778,
             "#fb9f3a"
            ],
            [
             0.8888888888888888,
             "#fdca26"
            ],
            [
             1,
             "#f0f921"
            ]
           ],
           "sequentialminus": [
            [
             0,
             "#0d0887"
            ],
            [
             0.1111111111111111,
             "#46039f"
            ],
            [
             0.2222222222222222,
             "#7201a8"
            ],
            [
             0.3333333333333333,
             "#9c179e"
            ],
            [
             0.4444444444444444,
             "#bd3786"
            ],
            [
             0.5555555555555556,
             "#d8576b"
            ],
            [
             0.6666666666666666,
             "#ed7953"
            ],
            [
             0.7777777777777778,
             "#fb9f3a"
            ],
            [
             0.8888888888888888,
             "#fdca26"
            ],
            [
             1,
             "#f0f921"
            ]
           ]
          },
          "colorway": [
           "#636efa",
           "#EF553B",
           "#00cc96",
           "#ab63fa",
           "#FFA15A",
           "#19d3f3",
           "#FF6692",
           "#B6E880",
           "#FF97FF",
           "#FECB52"
          ],
          "font": {
           "color": "#2a3f5f"
          },
          "geo": {
           "bgcolor": "white",
           "lakecolor": "white",
           "landcolor": "#E5ECF6",
           "showlakes": true,
           "showland": true,
           "subunitcolor": "white"
          },
          "hoverlabel": {
           "align": "left"
          },
          "hovermode": "closest",
          "mapbox": {
           "style": "light"
          },
          "paper_bgcolor": "white",
          "plot_bgcolor": "#E5ECF6",
          "polar": {
           "angularaxis": {
            "gridcolor": "white",
            "linecolor": "white",
            "ticks": ""
           },
           "bgcolor": "#E5ECF6",
           "radialaxis": {
            "gridcolor": "white",
            "linecolor": "white",
            "ticks": ""
           }
          },
          "scene": {
           "xaxis": {
            "backgroundcolor": "#E5ECF6",
            "gridcolor": "white",
            "gridwidth": 2,
            "linecolor": "white",
            "showbackground": true,
            "ticks": "",
            "zerolinecolor": "white"
           },
           "yaxis": {
            "backgroundcolor": "#E5ECF6",
            "gridcolor": "white",
            "gridwidth": 2,
            "linecolor": "white",
            "showbackground": true,
            "ticks": "",
            "zerolinecolor": "white"
           },
           "zaxis": {
            "backgroundcolor": "#E5ECF6",
            "gridcolor": "white",
            "gridwidth": 2,
            "linecolor": "white",
            "showbackground": true,
            "ticks": "",
            "zerolinecolor": "white"
           }
          },
          "shapedefaults": {
           "line": {
            "color": "#2a3f5f"
           }
          },
          "ternary": {
           "aaxis": {
            "gridcolor": "white",
            "linecolor": "white",
            "ticks": ""
           },
           "baxis": {
            "gridcolor": "white",
            "linecolor": "white",
            "ticks": ""
           },
           "bgcolor": "#E5ECF6",
           "caxis": {
            "gridcolor": "white",
            "linecolor": "white",
            "ticks": ""
           }
          },
          "title": {
           "x": 0.05
          },
          "xaxis": {
           "automargin": true,
           "gridcolor": "white",
           "linecolor": "white",
           "ticks": "",
           "title": {
            "standoff": 15
           },
           "zerolinecolor": "white",
           "zerolinewidth": 2
          },
          "yaxis": {
           "automargin": true,
           "gridcolor": "white",
           "linecolor": "white",
           "ticks": "",
           "title": {
            "standoff": 15
           },
           "zerolinecolor": "white",
           "zerolinewidth": 2
          }
         }
        },
        "title": {
         "text": "Latest Rolling Availability % by Line"
        },
        "xaxis": {
         "anchor": "y",
         "domain": [
          0,
          1
         ],
         "title": {
          "text": "Line"
         }
        },
        "yaxis": {
         "anchor": "x",
         "domain": [
          0,
          1
         ],
         "range": [
          0,
          1
         ],
         "title": {
          "text": "Availability %"
         }
        }
       }
      }
     },
     "metadata": {},
     "output_type": "display_data"
    },
    {
     "data": {
      "application/vnd.plotly.v1+json": {
       "config": {
        "plotlyServerURL": "https://plot.ly"
       },
       "data": [
        {
         "alignmentgroup": "True",
         "hovertemplate": "Line=%{x}<br>Performance %=%{y}<extra></extra>",
         "legendgroup": "",
         "marker": {
          "color": "#636efa",
          "pattern": {
           "shape": ""
          }
         },
         "name": "",
         "offsetgroup": "",
         "orientation": "v",
         "showlegend": false,
         "textposition": "auto",
         "type": "bar",
         "x": [
          "WAT - LYO INSPECTION",
          "WAT - AIL1 Packaging",
          "SUZ - FETTE 2090 IV",
          "WAT - LYO Packaging Line 3",
          "LTR - C8 Packaging line",
          "WAT - LYO Packaging Line 9",
          "SUZ - TARGIFOR",
          "SUZ - GRON.DROPS/SPRAY",
          "SUZ - STRUNK",
          "SUZ - LINE 10 - BOTTLES LINE",
          "HZG - Bottle Packaging line 6",
          "HZG - Bottle Packaging line 7",
          "WAT - AIL2 Packaging",
          "LLB - Bosch-1 Packaging (CEPH)",
          "SUZ - NIKKA",
          "SUZ - FETTE 3090 I",
          "TRS - L19 Packaging Line",
          "LSX - SIG2 Packaging Line",
          "SUZ - EYE DROPS OPTIMA",
          "MAF - I6 Inspection Line",
          "MAF - R1 Filling Line",
          "MAF - I4 Inspection Line",
          "MAF - I2 Inspection Line",
          "SUZ - LINE 02 - UHLMANN 1030",
          "SUZ - BAUSCH",
          "HZG - Blister packaging line 1",
          "OCO - UHLMANN 1 Packaging Line",
          "MAF - R4 Filling Line",
          "SUZ - LINE 05 - SOLIDS IMA LINE",
          "FRA - FF NAPA, M48 Inspection",
          "OCO - JARABES Packaging Line",
          "HZG - Semi-automatic Packaging line",
          "HZG - Blister packaging line 4",
          "LSX - C65-2 Packaging Line",
          "ORI - EG123",
          "TRS - L24 Packaging Line",
          "SUZ - POMADAS",
          "SCO - IMA C80/2",
          "FRA - FF NLP, M22 Inspection",
          "SUZ - LINE 07 - UPS300",
          "FRA - FF Packaging, VL56",
          "OCO - PARTENA 3 Packaging Line",
          "RDG - H6 Syringe Filling Line",
          "TRS - L15 Packaging Line",
          "SUZ - NEWMAN",
          "SCO - Gamma4",
          "LSX - SIG1 Packaging Line",
          "FRA - FF NLP, M22 Filling",
          "WAT - AIL2 ASSEMBLY",
          "SUZ - IMA DERMACYD",
          "SCO - IMA C80/1",
          "LSX - C65-1 Packaging Line",
          "FRA - FF NLP, M21 Inspection",
          "SUZ - LINE 04 - BOSCH TLT 1400",
          "VDR - K32_1",
          "HZG - Blister packaging line 2",
          "FRA - FF NLP, M21 Filling",
          "FRA - FF NAPA, M24 Inspection",
          "SZX - Packaging line 3",
          "SCO - PAR102",
          "SUZ - LINE 03 - MEDISEAL CP600",
          "SCO - GAMMA1",
          "SCO - PART92",
          "MAF - C9 Packaging Line",
          "OCO - SUSPENSIONES Packaging Line",
          "OCO - UHLMANN 2 Packaging Line",
          "LSX - 1030 Packaging Line",
          "LSX - IWK Packaging Line",
          "MAF - C3 Packaging Line",
          "SCO - IMA C80/3",
          "LLB - CP-3 Packaging (STRL)",
          "SUZ - GRON.SYRUP",
          "MAF - R5 Filling Line",
          "SUZ - LINE 01 - UHLMANN 1880",
          "TRS - L25 Packaging Line",
          "LLB - Sarong Packaging (SSL)",
          "LLB - Bosch-1 Packaging (PENC)",
          "FRA - Devices Pens, AL2",
          "SUZ - LINE 06 - MEDISEAL CP 600 COMBO",
          "FRA - Devices Pens, AL4",
          "FRA - FF Packaging, VL9",
          "LSX - 1070-1 Packaging Line",
          "LSX - 1070-2 Packaging Line",
          "SCO - U3",
          "FRA - Devices Pens, AL3",
          "ELB - FERMENTATION E08",
          "MAF - C5 Packaging Line",
          "FRA - FF Packaging, VL50",
          "LLB - Bosch-2 Packaging (SOLD)",
          "SCO - GAMMA3",
          "MAF - C2 Packaging Line",
          "LLB - SPREY Packaging (NSL)",
          "SUZ - MEDISEAL PURAN",
          "SUZ - EFERVESCENT CEWIN",
          "SUZ - FARCON",
          "LSX - TR200 Packaging Line",
          "FRA - Devices Pens, AL5 Packaging 2",
          "MLE - P2A1",
          "SUZ - MARCHESINI",
          "LLB - CP-2 Packaging (STRL)",
          "MAF - C4 Packaging Line",
          "OCO - MEDISEAL Packaging Line",
          "FRA - FF Packaging, VL47",
          "SCO - IMA C80/4",
          "ELB - FERMENTATION E07",
          "OCO - PARTENA 1 Packaging Line",
          "FRA - FF NAPA, M46 Filling",
          "FRA - Devices Pens, AL1",
          "FRA - Devices AI, EMA 20",
          "SUZ - FETTE 2090 I",
          "RDG - Synvisc Packaging Line",
          "LLB - IMA C95 Packaging (SOLD)",
          "OCO - C90 Packaging Line",
          "SCO - GAMMA2",
          "LSX - SUPPO Packaging Line",
          "LLB - Huttlin-1 Granulation",
          "LLB - Uhlmann Packaging (SOLD)",
          "MAF - C6 Packaging Line",
          "LLB - IMA-2 Packaging (SOLD)",
          "OCO - MELOX Packaging Line",
          "FRA - FF NAPA, M53 Filling",
          "LLB - IMA-3 Packaging (SOLD)",
          "LLB - TFS-30 Packaging (SSL)",
          "FRA - Devices Pens, AL5 Packaging 1",
          "LLB - IMA-4 Packaging (SOLD)",
          "LTR - C6 Packaging line",
          "FRA - Devices Pens, AL6",
          "LLB - IMA-1 Packaging (NSL)",
          "FRA - Pharma, M26 Filling",
          "OCO - LACTACYD Packaging Line",
          "LTR - C2 Packaging Line",
          "LTR - C9 Packaging line",
          "ORI - L27",
          "FRA - FF Packaging, HV01",
          "FRA - FF NAPA, M31 Inspection",
          "FRA - Pharma, M58 Inspection",
          "LTR - L647 Bio-Tech Packaging",
          "LTR - C7 Packaging line",
          "LLB - IMA-2 Packaging (NSL)",
          "TRS - L21 Packaging Line",
          "LLB - Bosch-3 Packaging (SOLD)",
          "FRA - FF Packaging, VL44",
          "FRA - Devices AI, Semi 120-1 Labeling",
          "FRA - Devices AI, FDLE",
          "FRA - Devices AI, Semi 120-1 Packaging",
          "ELB - FERMENTATION E09",
          "LLB - Bosch-1 Packaging (SOLD)",
          "ELB - FERMENTATION V08",
          "FRA - Devices Pens, AL5 Assembly",
          "ELB - FERMENTATION E05",
          "ELB - Extraction B12 1st cycle",
          "ELB - FERMENTATION E10",
          "SCO - COLLE1",
          "FRA - FF Packaging, VL62",
          "LLB - IMA-1 Packaging (SOLD)",
          "ELB - FERMENTATION E06",
          "FRA - FF Packaging, VL32",
          "FRA - Pharma, M52 Inspection",
          "LTR - Optima Assembling Machine",
          "FRA - FF Packaging, VL6",
          "SCO - Diosna 1",
          "SUZ - FETTE 3090 III",
          "ELB - FERMENTATION V09",
          "SCO - Diosna 2",
          "LTR - Corima Assembling Machine",
          "SCO - COLLE2",
          "ELB - FERMENTATION E11"
         ],
         "xaxis": "x",
         "y": [
          30.230357646672932,
          5.100771387433575,
          4.0800579861571595,
          1.8505560377617711,
          1.7564712913680425,
          1.5621018757483425,
          1.5396186598848933,
          1.227382149465254,
          1.2269459626262529,
          1.1512661199095353,
          1.135976013903856,
          1.1349776012872916,
          1.1323655538909718,
          1.116986073983755,
          1.049267159070353,
          1.0420341480569597,
          1.0374240452148729,
          1.0258763551842336,
          1.0245294606330448,
          1.0100372875259227,
          0.9899276308118633,
          0.9871501737682687,
          0.9849373166365483,
          0.9843743322899389,
          0.9837628017923494,
          0.979012871351987,
          0.9765070796161883,
          0.9704347045628154,
          0.9660943788283066,
          0.9620121609621377,
          0.9617887902949913,
          0.9612034860893335,
          0.9474050614088719,
          0.9472489156801711,
          0.9469526512634715,
          0.9438024320209808,
          0.9372194861531842,
          0.9366291406571579,
          0.9361291487579397,
          0.9282059632935215,
          0.9258027218395937,
          0.9216710398898519,
          0.9210461111215499,
          0.9208624977835478,
          0.9151625427163018,
          0.9148764776424058,
          0.9143276100397104,
          0.9117560736453142,
          0.9117309959563227,
          0.9116910489687906,
          0.9106246296853293,
          0.909846816646021,
          0.9091517825265856,
          0.9090317269025876,
          0.9053579681722113,
          0.9048518385622155,
          0.90038089857158,
          0.8993415413609123,
          0.8938507544526308,
          0.891082606374617,
          0.8904773641338174,
          0.8778594459441892,
          0.8750581392790393,
          0.8726231775984344,
          0.8716233526233488,
          0.8688448717502654,
          0.8686377788035216,
          0.8677370748652337,
          0.8670400570663007,
          0.8654648173640686,
          0.8650600862242576,
          0.8628406963219846,
          0.8603959307591618,
          0.8530152852260608,
          0.8524021404537407,
          0.8427523350118495,
          0.832815387743857,
          0.8185333639622957,
          0.8166209289472685,
          0.8129023009233227,
          0.8117152520183931,
          0.8098595538138122,
          0.8062894628409516,
          0.8053321368408337,
          0.8040528883038618,
          0.7921504197920479,
          0.7912752183013303,
          0.7877099632095363,
          0.7820634783028533,
          0.7816140446604385,
          0.7761105191534938,
          0.7696382435156583,
          0.7681347354031856,
          0.7659736748795308,
          0.7635464498603239,
          0.7630186427665147,
          0.7612174615174981,
          0.7594935276806898,
          0.7588332263722247,
          0.7544029461341222,
          0.753938679361128,
          0.7477351143289699,
          0.7417101254694718,
          0.7395594943623726,
          0.7393533519170559,
          0.728612721341147,
          0.7282334728039104,
          0.7255722495813453,
          0.7156540726837849,
          0.7128539380909903,
          0.7104684282727981,
          0.7057213665772955,
          0.7048978240028286,
          0.7041482777474672,
          0.703274947264815,
          0.7029609043466045,
          0.7023482932538004,
          0.7020248494254671,
          0.7018179330937824,
          0.6933541065819332,
          0.6897562110717647,
          0.6885560118840302,
          0.6868446307794415,
          0.6867648169219105,
          0.682938178572183,
          0.6821438120861716,
          0.6791249450704236,
          0.6787047762266263,
          0.6715044981590887,
          0.66890720682058,
          0.667798731935717,
          0.6662764427676449,
          0.6626798799286667,
          0.6432476708841522,
          0.6412206311605613,
          0.639492119985416,
          0.6316396093137763,
          0.6271908356489251,
          0.6177538977206789,
          0.6126506670952451,
          0.6088965071527739,
          0.5799214187879478,
          0.5798554565468349,
          0.5751393045388139,
          0.5638080189098961,
          0.5412394900010682,
          0.5388550772660313,
          0.532135289949341,
          0.5162547843836537,
          0.49922017927962953,
          0.48864648117128984,
          0.4838367499701404,
          0.4731087475983782,
          0.47228436721993217,
          0.46073109481594027,
          0.3998551338692815,
          0.39228835755741265,
          0.3916900215691257,
          0.3364105420545577,
          0.3327985620549262,
          0.2551428308001385,
          0.1870267186581312,
          0.13731889867925617,
          0.05873674215052344,
          0.04847363392254341,
          0.015096618357487648,
          1.1102230246251565e-16
         ],
         "yaxis": "y"
        }
       ],
       "layout": {
        "barmode": "relative",
        "legend": {
         "tracegroupgap": 0
        },
        "template": {
         "data": {
          "bar": [
           {
            "error_x": {
             "color": "#2a3f5f"
            },
            "error_y": {
             "color": "#2a3f5f"
            },
            "marker": {
             "line": {
              "color": "#E5ECF6",
              "width": 0.5
             },
             "pattern": {
              "fillmode": "overlay",
              "size": 10,
              "solidity": 0.2
             }
            },
            "type": "bar"
           }
          ],
          "barpolar": [
           {
            "marker": {
             "line": {
              "color": "#E5ECF6",
              "width": 0.5
             },
             "pattern": {
              "fillmode": "overlay",
              "size": 10,
              "solidity": 0.2
             }
            },
            "type": "barpolar"
           }
          ],
          "carpet": [
           {
            "aaxis": {
             "endlinecolor": "#2a3f5f",
             "gridcolor": "white",
             "linecolor": "white",
             "minorgridcolor": "white",
             "startlinecolor": "#2a3f5f"
            },
            "baxis": {
             "endlinecolor": "#2a3f5f",
             "gridcolor": "white",
             "linecolor": "white",
             "minorgridcolor": "white",
             "startlinecolor": "#2a3f5f"
            },
            "type": "carpet"
           }
          ],
          "choropleth": [
           {
            "colorbar": {
             "outlinewidth": 0,
             "ticks": ""
            },
            "type": "choropleth"
           }
          ],
          "contour": [
           {
            "colorbar": {
             "outlinewidth": 0,
             "ticks": ""
            },
            "colorscale": [
             [
              0,
              "#0d0887"
             ],
             [
              0.1111111111111111,
              "#46039f"
             ],
             [
              0.2222222222222222,
              "#7201a8"
             ],
             [
              0.3333333333333333,
              "#9c179e"
             ],
             [
              0.4444444444444444,
              "#bd3786"
             ],
             [
              0.5555555555555556,
              "#d8576b"
             ],
             [
              0.6666666666666666,
              "#ed7953"
             ],
             [
              0.7777777777777778,
              "#fb9f3a"
             ],
             [
              0.8888888888888888,
              "#fdca26"
             ],
             [
              1,
              "#f0f921"
             ]
            ],
            "type": "contour"
           }
          ],
          "contourcarpet": [
           {
            "colorbar": {
             "outlinewidth": 0,
             "ticks": ""
            },
            "type": "contourcarpet"
           }
          ],
          "heatmap": [
           {
            "colorbar": {
             "outlinewidth": 0,
             "ticks": ""
            },
            "colorscale": [
             [
              0,
              "#0d0887"
             ],
             [
              0.1111111111111111,
              "#46039f"
             ],
             [
              0.2222222222222222,
              "#7201a8"
             ],
             [
              0.3333333333333333,
              "#9c179e"
             ],
             [
              0.4444444444444444,
              "#bd3786"
             ],
             [
              0.5555555555555556,
              "#d8576b"
             ],
             [
              0.6666666666666666,
              "#ed7953"
             ],
             [
              0.7777777777777778,
              "#fb9f3a"
             ],
             [
              0.8888888888888888,
              "#fdca26"
             ],
             [
              1,
              "#f0f921"
             ]
            ],
            "type": "heatmap"
           }
          ],
          "heatmapgl": [
           {
            "colorbar": {
             "outlinewidth": 0,
             "ticks": ""
            },
            "colorscale": [
             [
              0,
              "#0d0887"
             ],
             [
              0.1111111111111111,
              "#46039f"
             ],
             [
              0.2222222222222222,
              "#7201a8"
             ],
             [
              0.3333333333333333,
              "#9c179e"
             ],
             [
              0.4444444444444444,
              "#bd3786"
             ],
             [
              0.5555555555555556,
              "#d8576b"
             ],
             [
              0.6666666666666666,
              "#ed7953"
             ],
             [
              0.7777777777777778,
              "#fb9f3a"
             ],
             [
              0.8888888888888888,
              "#fdca26"
             ],
             [
              1,
              "#f0f921"
             ]
            ],
            "type": "heatmapgl"
           }
          ],
          "histogram": [
           {
            "marker": {
             "pattern": {
              "fillmode": "overlay",
              "size": 10,
              "solidity": 0.2
             }
            },
            "type": "histogram"
           }
          ],
          "histogram2d": [
           {
            "colorbar": {
             "outlinewidth": 0,
             "ticks": ""
            },
            "colorscale": [
             [
              0,
              "#0d0887"
             ],
             [
              0.1111111111111111,
              "#46039f"
             ],
             [
              0.2222222222222222,
              "#7201a8"
             ],
             [
              0.3333333333333333,
              "#9c179e"
             ],
             [
              0.4444444444444444,
              "#bd3786"
             ],
             [
              0.5555555555555556,
              "#d8576b"
             ],
             [
              0.6666666666666666,
              "#ed7953"
             ],
             [
              0.7777777777777778,
              "#fb9f3a"
             ],
             [
              0.8888888888888888,
              "#fdca26"
             ],
             [
              1,
              "#f0f921"
             ]
            ],
            "type": "histogram2d"
           }
          ],
          "histogram2dcontour": [
           {
            "colorbar": {
             "outlinewidth": 0,
             "ticks": ""
            },
            "colorscale": [
             [
              0,
              "#0d0887"
             ],
             [
              0.1111111111111111,
              "#46039f"
             ],
             [
              0.2222222222222222,
              "#7201a8"
             ],
             [
              0.3333333333333333,
              "#9c179e"
             ],
             [
              0.4444444444444444,
              "#bd3786"
             ],
             [
              0.5555555555555556,
              "#d8576b"
             ],
             [
              0.6666666666666666,
              "#ed7953"
             ],
             [
              0.7777777777777778,
              "#fb9f3a"
             ],
             [
              0.8888888888888888,
              "#fdca26"
             ],
             [
              1,
              "#f0f921"
             ]
            ],
            "type": "histogram2dcontour"
           }
          ],
          "mesh3d": [
           {
            "colorbar": {
             "outlinewidth": 0,
             "ticks": ""
            },
            "type": "mesh3d"
           }
          ],
          "parcoords": [
           {
            "line": {
             "colorbar": {
              "outlinewidth": 0,
              "ticks": ""
             }
            },
            "type": "parcoords"
           }
          ],
          "pie": [
           {
            "automargin": true,
            "type": "pie"
           }
          ],
          "scatter": [
           {
            "marker": {
             "colorbar": {
              "outlinewidth": 0,
              "ticks": ""
             }
            },
            "type": "scatter"
           }
          ],
          "scatter3d": [
           {
            "line": {
             "colorbar": {
              "outlinewidth": 0,
              "ticks": ""
             }
            },
            "marker": {
             "colorbar": {
              "outlinewidth": 0,
              "ticks": ""
             }
            },
            "type": "scatter3d"
           }
          ],
          "scattercarpet": [
           {
            "marker": {
             "colorbar": {
              "outlinewidth": 0,
              "ticks": ""
             }
            },
            "type": "scattercarpet"
           }
          ],
          "scattergeo": [
           {
            "marker": {
             "colorbar": {
              "outlinewidth": 0,
              "ticks": ""
             }
            },
            "type": "scattergeo"
           }
          ],
          "scattergl": [
           {
            "marker": {
             "colorbar": {
              "outlinewidth": 0,
              "ticks": ""
             }
            },
            "type": "scattergl"
           }
          ],
          "scattermapbox": [
           {
            "marker": {
             "colorbar": {
              "outlinewidth": 0,
              "ticks": ""
             }
            },
            "type": "scattermapbox"
           }
          ],
          "scatterpolar": [
           {
            "marker": {
             "colorbar": {
              "outlinewidth": 0,
              "ticks": ""
             }
            },
            "type": "scatterpolar"
           }
          ],
          "scatterpolargl": [
           {
            "marker": {
             "colorbar": {
              "outlinewidth": 0,
              "ticks": ""
             }
            },
            "type": "scatterpolargl"
           }
          ],
          "scatterternary": [
           {
            "marker": {
             "colorbar": {
              "outlinewidth": 0,
              "ticks": ""
             }
            },
            "type": "scatterternary"
           }
          ],
          "surface": [
           {
            "colorbar": {
             "outlinewidth": 0,
             "ticks": ""
            },
            "colorscale": [
             [
              0,
              "#0d0887"
             ],
             [
              0.1111111111111111,
              "#46039f"
             ],
             [
              0.2222222222222222,
              "#7201a8"
             ],
             [
              0.3333333333333333,
              "#9c179e"
             ],
             [
              0.4444444444444444,
              "#bd3786"
             ],
             [
              0.5555555555555556,
              "#d8576b"
             ],
             [
              0.6666666666666666,
              "#ed7953"
             ],
             [
              0.7777777777777778,
              "#fb9f3a"
             ],
             [
              0.8888888888888888,
              "#fdca26"
             ],
             [
              1,
              "#f0f921"
             ]
            ],
            "type": "surface"
           }
          ],
          "table": [
           {
            "cells": {
             "fill": {
              "color": "#EBF0F8"
             },
             "line": {
              "color": "white"
             }
            },
            "header": {
             "fill": {
              "color": "#C8D4E3"
             },
             "line": {
              "color": "white"
             }
            },
            "type": "table"
           }
          ]
         },
         "layout": {
          "annotationdefaults": {
           "arrowcolor": "#2a3f5f",
           "arrowhead": 0,
           "arrowwidth": 1
          },
          "autotypenumbers": "strict",
          "coloraxis": {
           "colorbar": {
            "outlinewidth": 0,
            "ticks": ""
           }
          },
          "colorscale": {
           "diverging": [
            [
             0,
             "#8e0152"
            ],
            [
             0.1,
             "#c51b7d"
            ],
            [
             0.2,
             "#de77ae"
            ],
            [
             0.3,
             "#f1b6da"
            ],
            [
             0.4,
             "#fde0ef"
            ],
            [
             0.5,
             "#f7f7f7"
            ],
            [
             0.6,
             "#e6f5d0"
            ],
            [
             0.7,
             "#b8e186"
            ],
            [
             0.8,
             "#7fbc41"
            ],
            [
             0.9,
             "#4d9221"
            ],
            [
             1,
             "#276419"
            ]
           ],
           "sequential": [
            [
             0,
             "#0d0887"
            ],
            [
             0.1111111111111111,
             "#46039f"
            ],
            [
             0.2222222222222222,
             "#7201a8"
            ],
            [
             0.3333333333333333,
             "#9c179e"
            ],
            [
             0.4444444444444444,
             "#bd3786"
            ],
            [
             0.5555555555555556,
             "#d8576b"
            ],
            [
             0.6666666666666666,
             "#ed7953"
            ],
            [
             0.7777777777777778,
             "#fb9f3a"
            ],
            [
             0.8888888888888888,
             "#fdca26"
            ],
            [
             1,
             "#f0f921"
            ]
           ],
           "sequentialminus": [
            [
             0,
             "#0d0887"
            ],
            [
             0.1111111111111111,
             "#46039f"
            ],
            [
             0.2222222222222222,
             "#7201a8"
            ],
            [
             0.3333333333333333,
             "#9c179e"
            ],
            [
             0.4444444444444444,
             "#bd3786"
            ],
            [
             0.5555555555555556,
             "#d8576b"
            ],
            [
             0.6666666666666666,
             "#ed7953"
            ],
            [
             0.7777777777777778,
             "#fb9f3a"
            ],
            [
             0.8888888888888888,
             "#fdca26"
            ],
            [
             1,
             "#f0f921"
            ]
           ]
          },
          "colorway": [
           "#636efa",
           "#EF553B",
           "#00cc96",
           "#ab63fa",
           "#FFA15A",
           "#19d3f3",
           "#FF6692",
           "#B6E880",
           "#FF97FF",
           "#FECB52"
          ],
          "font": {
           "color": "#2a3f5f"
          },
          "geo": {
           "bgcolor": "white",
           "lakecolor": "white",
           "landcolor": "#E5ECF6",
           "showlakes": true,
           "showland": true,
           "subunitcolor": "white"
          },
          "hoverlabel": {
           "align": "left"
          },
          "hovermode": "closest",
          "mapbox": {
           "style": "light"
          },
          "paper_bgcolor": "white",
          "plot_bgcolor": "#E5ECF6",
          "polar": {
           "angularaxis": {
            "gridcolor": "white",
            "linecolor": "white",
            "ticks": ""
           },
           "bgcolor": "#E5ECF6",
           "radialaxis": {
            "gridcolor": "white",
            "linecolor": "white",
            "ticks": ""
           }
          },
          "scene": {
           "xaxis": {
            "backgroundcolor": "#E5ECF6",
            "gridcolor": "white",
            "gridwidth": 2,
            "linecolor": "white",
            "showbackground": true,
            "ticks": "",
            "zerolinecolor": "white"
           },
           "yaxis": {
            "backgroundcolor": "#E5ECF6",
            "gridcolor": "white",
            "gridwidth": 2,
            "linecolor": "white",
            "showbackground": true,
            "ticks": "",
            "zerolinecolor": "white"
           },
           "zaxis": {
            "backgroundcolor": "#E5ECF6",
            "gridcolor": "white",
            "gridwidth": 2,
            "linecolor": "white",
            "showbackground": true,
            "ticks": "",
            "zerolinecolor": "white"
           }
          },
          "shapedefaults": {
           "line": {
            "color": "#2a3f5f"
           }
          },
          "ternary": {
           "aaxis": {
            "gridcolor": "white",
            "linecolor": "white",
            "ticks": ""
           },
           "baxis": {
            "gridcolor": "white",
            "linecolor": "white",
            "ticks": ""
           },
           "bgcolor": "#E5ECF6",
           "caxis": {
            "gridcolor": "white",
            "linecolor": "white",
            "ticks": ""
           }
          },
          "title": {
           "x": 0.05
          },
          "xaxis": {
           "automargin": true,
           "gridcolor": "white",
           "linecolor": "white",
           "ticks": "",
           "title": {
            "standoff": 15
           },
           "zerolinecolor": "white",
           "zerolinewidth": 2
          },
          "yaxis": {
           "automargin": true,
           "gridcolor": "white",
           "linecolor": "white",
           "ticks": "",
           "title": {
            "standoff": 15
           },
           "zerolinecolor": "white",
           "zerolinewidth": 2
          }
         }
        },
        "title": {
         "text": "Latest Rolling Performance % by Line"
        },
        "xaxis": {
         "anchor": "y",
         "domain": [
          0,
          1
         ],
         "title": {
          "text": "Line"
         }
        },
        "yaxis": {
         "anchor": "x",
         "domain": [
          0,
          1
         ],
         "range": [
          0,
          1
         ],
         "title": {
          "text": "Performance %"
         }
        }
       }
      }
     },
     "metadata": {},
     "output_type": "display_data"
    },
    {
     "data": {
      "application/vnd.plotly.v1+json": {
       "config": {
        "plotlyServerURL": "https://plot.ly"
       },
       "data": [
        {
         "alignmentgroup": "True",
         "hovertemplate": "Plant=%{x}<br>OEE %=%{y}<extra></extra>",
         "legendgroup": "",
         "marker": {
          "color": "#636efa",
          "pattern": {
           "shape": ""
          }
         },
         "name": "",
         "offsetgroup": "",
         "orientation": "v",
         "showlegend": false,
         "textposition": "auto",
         "type": "bar",
         "x": [
          "WAT",
          "HZG",
          "MAF",
          "LSX",
          "SZX",
          "LLB",
          "RDG",
          "OCO",
          "ELB",
          "SUZ",
          "ORI",
          "VDR",
          "TRS",
          "FRA",
          "SCO",
          "LTR",
          "MLE"
         ],
         "xaxis": "x",
         "y": [
          2.210767107471227,
          0.6869747401141589,
          0.561715407551186,
          0.5445051658062304,
          0.5381630191087544,
          0.5268778758975875,
          0.49287371681843267,
          0.4893519190355626,
          0.4579583793218943,
          0.4454379240598362,
          0.4251782709196329,
          0.40533685281031595,
          0.3792157948685547,
          0.3761289863124242,
          0.3680096148413137,
          0.28783970391409486,
          0.22049109118477855
         ],
         "yaxis": "y"
        }
       ],
       "layout": {
        "barmode": "relative",
        "legend": {
         "tracegroupgap": 0
        },
        "template": {
         "data": {
          "bar": [
           {
            "error_x": {
             "color": "#2a3f5f"
            },
            "error_y": {
             "color": "#2a3f5f"
            },
            "marker": {
             "line": {
              "color": "#E5ECF6",
              "width": 0.5
             },
             "pattern": {
              "fillmode": "overlay",
              "size": 10,
              "solidity": 0.2
             }
            },
            "type": "bar"
           }
          ],
          "barpolar": [
           {
            "marker": {
             "line": {
              "color": "#E5ECF6",
              "width": 0.5
             },
             "pattern": {
              "fillmode": "overlay",
              "size": 10,
              "solidity": 0.2
             }
            },
            "type": "barpolar"
           }
          ],
          "carpet": [
           {
            "aaxis": {
             "endlinecolor": "#2a3f5f",
             "gridcolor": "white",
             "linecolor": "white",
             "minorgridcolor": "white",
             "startlinecolor": "#2a3f5f"
            },
            "baxis": {
             "endlinecolor": "#2a3f5f",
             "gridcolor": "white",
             "linecolor": "white",
             "minorgridcolor": "white",
             "startlinecolor": "#2a3f5f"
            },
            "type": "carpet"
           }
          ],
          "choropleth": [
           {
            "colorbar": {
             "outlinewidth": 0,
             "ticks": ""
            },
            "type": "choropleth"
           }
          ],
          "contour": [
           {
            "colorbar": {
             "outlinewidth": 0,
             "ticks": ""
            },
            "colorscale": [
             [
              0,
              "#0d0887"
             ],
             [
              0.1111111111111111,
              "#46039f"
             ],
             [
              0.2222222222222222,
              "#7201a8"
             ],
             [
              0.3333333333333333,
              "#9c179e"
             ],
             [
              0.4444444444444444,
              "#bd3786"
             ],
             [
              0.5555555555555556,
              "#d8576b"
             ],
             [
              0.6666666666666666,
              "#ed7953"
             ],
             [
              0.7777777777777778,
              "#fb9f3a"
             ],
             [
              0.8888888888888888,
              "#fdca26"
             ],
             [
              1,
              "#f0f921"
             ]
            ],
            "type": "contour"
           }
          ],
          "contourcarpet": [
           {
            "colorbar": {
             "outlinewidth": 0,
             "ticks": ""
            },
            "type": "contourcarpet"
           }
          ],
          "heatmap": [
           {
            "colorbar": {
             "outlinewidth": 0,
             "ticks": ""
            },
            "colorscale": [
             [
              0,
              "#0d0887"
             ],
             [
              0.1111111111111111,
              "#46039f"
             ],
             [
              0.2222222222222222,
              "#7201a8"
             ],
             [
              0.3333333333333333,
              "#9c179e"
             ],
             [
              0.4444444444444444,
              "#bd3786"
             ],
             [
              0.5555555555555556,
              "#d8576b"
             ],
             [
              0.6666666666666666,
              "#ed7953"
             ],
             [
              0.7777777777777778,
              "#fb9f3a"
             ],
             [
              0.8888888888888888,
              "#fdca26"
             ],
             [
              1,
              "#f0f921"
             ]
            ],
            "type": "heatmap"
           }
          ],
          "heatmapgl": [
           {
            "colorbar": {
             "outlinewidth": 0,
             "ticks": ""
            },
            "colorscale": [
             [
              0,
              "#0d0887"
             ],
             [
              0.1111111111111111,
              "#46039f"
             ],
             [
              0.2222222222222222,
              "#7201a8"
             ],
             [
              0.3333333333333333,
              "#9c179e"
             ],
             [
              0.4444444444444444,
              "#bd3786"
             ],
             [
              0.5555555555555556,
              "#d8576b"
             ],
             [
              0.6666666666666666,
              "#ed7953"
             ],
             [
              0.7777777777777778,
              "#fb9f3a"
             ],
             [
              0.8888888888888888,
              "#fdca26"
             ],
             [
              1,
              "#f0f921"
             ]
            ],
            "type": "heatmapgl"
           }
          ],
          "histogram": [
           {
            "marker": {
             "pattern": {
              "fillmode": "overlay",
              "size": 10,
              "solidity": 0.2
             }
            },
            "type": "histogram"
           }
          ],
          "histogram2d": [
           {
            "colorbar": {
             "outlinewidth": 0,
             "ticks": ""
            },
            "colorscale": [
             [
              0,
              "#0d0887"
             ],
             [
              0.1111111111111111,
              "#46039f"
             ],
             [
              0.2222222222222222,
              "#7201a8"
             ],
             [
              0.3333333333333333,
              "#9c179e"
             ],
             [
              0.4444444444444444,
              "#bd3786"
             ],
             [
              0.5555555555555556,
              "#d8576b"
             ],
             [
              0.6666666666666666,
              "#ed7953"
             ],
             [
              0.7777777777777778,
              "#fb9f3a"
             ],
             [
              0.8888888888888888,
              "#fdca26"
             ],
             [
              1,
              "#f0f921"
             ]
            ],
            "type": "histogram2d"
           }
          ],
          "histogram2dcontour": [
           {
            "colorbar": {
             "outlinewidth": 0,
             "ticks": ""
            },
            "colorscale": [
             [
              0,
              "#0d0887"
             ],
             [
              0.1111111111111111,
              "#46039f"
             ],
             [
              0.2222222222222222,
              "#7201a8"
             ],
             [
              0.3333333333333333,
              "#9c179e"
             ],
             [
              0.4444444444444444,
              "#bd3786"
             ],
             [
              0.5555555555555556,
              "#d8576b"
             ],
             [
              0.6666666666666666,
              "#ed7953"
             ],
             [
              0.7777777777777778,
              "#fb9f3a"
             ],
             [
              0.8888888888888888,
              "#fdca26"
             ],
             [
              1,
              "#f0f921"
             ]
            ],
            "type": "histogram2dcontour"
           }
          ],
          "mesh3d": [
           {
            "colorbar": {
             "outlinewidth": 0,
             "ticks": ""
            },
            "type": "mesh3d"
           }
          ],
          "parcoords": [
           {
            "line": {
             "colorbar": {
              "outlinewidth": 0,
              "ticks": ""
             }
            },
            "type": "parcoords"
           }
          ],
          "pie": [
           {
            "automargin": true,
            "type": "pie"
           }
          ],
          "scatter": [
           {
            "marker": {
             "colorbar": {
              "outlinewidth": 0,
              "ticks": ""
             }
            },
            "type": "scatter"
           }
          ],
          "scatter3d": [
           {
            "line": {
             "colorbar": {
              "outlinewidth": 0,
              "ticks": ""
             }
            },
            "marker": {
             "colorbar": {
              "outlinewidth": 0,
              "ticks": ""
             }
            },
            "type": "scatter3d"
           }
          ],
          "scattercarpet": [
           {
            "marker": {
             "colorbar": {
              "outlinewidth": 0,
              "ticks": ""
             }
            },
            "type": "scattercarpet"
           }
          ],
          "scattergeo": [
           {
            "marker": {
             "colorbar": {
              "outlinewidth": 0,
              "ticks": ""
             }
            },
            "type": "scattergeo"
           }
          ],
          "scattergl": [
           {
            "marker": {
             "colorbar": {
              "outlinewidth": 0,
              "ticks": ""
             }
            },
            "type": "scattergl"
           }
          ],
          "scattermapbox": [
           {
            "marker": {
             "colorbar": {
              "outlinewidth": 0,
              "ticks": ""
             }
            },
            "type": "scattermapbox"
           }
          ],
          "scatterpolar": [
           {
            "marker": {
             "colorbar": {
              "outlinewidth": 0,
              "ticks": ""
             }
            },
            "type": "scatterpolar"
           }
          ],
          "scatterpolargl": [
           {
            "marker": {
             "colorbar": {
              "outlinewidth": 0,
              "ticks": ""
             }
            },
            "type": "scatterpolargl"
           }
          ],
          "scatterternary": [
           {
            "marker": {
             "colorbar": {
              "outlinewidth": 0,
              "ticks": ""
             }
            },
            "type": "scatterternary"
           }
          ],
          "surface": [
           {
            "colorbar": {
             "outlinewidth": 0,
             "ticks": ""
            },
            "colorscale": [
             [
              0,
              "#0d0887"
             ],
             [
              0.1111111111111111,
              "#46039f"
             ],
             [
              0.2222222222222222,
              "#7201a8"
             ],
             [
              0.3333333333333333,
              "#9c179e"
             ],
             [
              0.4444444444444444,
              "#bd3786"
             ],
             [
              0.5555555555555556,
              "#d8576b"
             ],
             [
              0.6666666666666666,
              "#ed7953"
             ],
             [
              0.7777777777777778,
              "#fb9f3a"
             ],
             [
              0.8888888888888888,
              "#fdca26"
             ],
             [
              1,
              "#f0f921"
             ]
            ],
            "type": "surface"
           }
          ],
          "table": [
           {
            "cells": {
             "fill": {
              "color": "#EBF0F8"
             },
             "line": {
              "color": "white"
             }
            },
            "header": {
             "fill": {
              "color": "#C8D4E3"
             },
             "line": {
              "color": "white"
             }
            },
            "type": "table"
           }
          ]
         },
         "layout": {
          "annotationdefaults": {
           "arrowcolor": "#2a3f5f",
           "arrowhead": 0,
           "arrowwidth": 1
          },
          "autotypenumbers": "strict",
          "coloraxis": {
           "colorbar": {
            "outlinewidth": 0,
            "ticks": ""
           }
          },
          "colorscale": {
           "diverging": [
            [
             0,
             "#8e0152"
            ],
            [
             0.1,
             "#c51b7d"
            ],
            [
             0.2,
             "#de77ae"
            ],
            [
             0.3,
             "#f1b6da"
            ],
            [
             0.4,
             "#fde0ef"
            ],
            [
             0.5,
             "#f7f7f7"
            ],
            [
             0.6,
             "#e6f5d0"
            ],
            [
             0.7,
             "#b8e186"
            ],
            [
             0.8,
             "#7fbc41"
            ],
            [
             0.9,
             "#4d9221"
            ],
            [
             1,
             "#276419"
            ]
           ],
           "sequential": [
            [
             0,
             "#0d0887"
            ],
            [
             0.1111111111111111,
             "#46039f"
            ],
            [
             0.2222222222222222,
             "#7201a8"
            ],
            [
             0.3333333333333333,
             "#9c179e"
            ],
            [
             0.4444444444444444,
             "#bd3786"
            ],
            [
             0.5555555555555556,
             "#d8576b"
            ],
            [
             0.6666666666666666,
             "#ed7953"
            ],
            [
             0.7777777777777778,
             "#fb9f3a"
            ],
            [
             0.8888888888888888,
             "#fdca26"
            ],
            [
             1,
             "#f0f921"
            ]
           ],
           "sequentialminus": [
            [
             0,
             "#0d0887"
            ],
            [
             0.1111111111111111,
             "#46039f"
            ],
            [
             0.2222222222222222,
             "#7201a8"
            ],
            [
             0.3333333333333333,
             "#9c179e"
            ],
            [
             0.4444444444444444,
             "#bd3786"
            ],
            [
             0.5555555555555556,
             "#d8576b"
            ],
            [
             0.6666666666666666,
             "#ed7953"
            ],
            [
             0.7777777777777778,
             "#fb9f3a"
            ],
            [
             0.8888888888888888,
             "#fdca26"
            ],
            [
             1,
             "#f0f921"
            ]
           ]
          },
          "colorway": [
           "#636efa",
           "#EF553B",
           "#00cc96",
           "#ab63fa",
           "#FFA15A",
           "#19d3f3",
           "#FF6692",
           "#B6E880",
           "#FF97FF",
           "#FECB52"
          ],
          "font": {
           "color": "#2a3f5f"
          },
          "geo": {
           "bgcolor": "white",
           "lakecolor": "white",
           "landcolor": "#E5ECF6",
           "showlakes": true,
           "showland": true,
           "subunitcolor": "white"
          },
          "hoverlabel": {
           "align": "left"
          },
          "hovermode": "closest",
          "mapbox": {
           "style": "light"
          },
          "paper_bgcolor": "white",
          "plot_bgcolor": "#E5ECF6",
          "polar": {
           "angularaxis": {
            "gridcolor": "white",
            "linecolor": "white",
            "ticks": ""
           },
           "bgcolor": "#E5ECF6",
           "radialaxis": {
            "gridcolor": "white",
            "linecolor": "white",
            "ticks": ""
           }
          },
          "scene": {
           "xaxis": {
            "backgroundcolor": "#E5ECF6",
            "gridcolor": "white",
            "gridwidth": 2,
            "linecolor": "white",
            "showbackground": true,
            "ticks": "",
            "zerolinecolor": "white"
           },
           "yaxis": {
            "backgroundcolor": "#E5ECF6",
            "gridcolor": "white",
            "gridwidth": 2,
            "linecolor": "white",
            "showbackground": true,
            "ticks": "",
            "zerolinecolor": "white"
           },
           "zaxis": {
            "backgroundcolor": "#E5ECF6",
            "gridcolor": "white",
            "gridwidth": 2,
            "linecolor": "white",
            "showbackground": true,
            "ticks": "",
            "zerolinecolor": "white"
           }
          },
          "shapedefaults": {
           "line": {
            "color": "#2a3f5f"
           }
          },
          "ternary": {
           "aaxis": {
            "gridcolor": "white",
            "linecolor": "white",
            "ticks": ""
           },
           "baxis": {
            "gridcolor": "white",
            "linecolor": "white",
            "ticks": ""
           },
           "bgcolor": "#E5ECF6",
           "caxis": {
            "gridcolor": "white",
            "linecolor": "white",
            "ticks": ""
           }
          },
          "title": {
           "x": 0.05
          },
          "xaxis": {
           "automargin": true,
           "gridcolor": "white",
           "linecolor": "white",
           "ticks": "",
           "title": {
            "standoff": 15
           },
           "zerolinecolor": "white",
           "zerolinewidth": 2
          },
          "yaxis": {
           "automargin": true,
           "gridcolor": "white",
           "linecolor": "white",
           "ticks": "",
           "title": {
            "standoff": 15
           },
           "zerolinecolor": "white",
           "zerolinewidth": 2
          }
         }
        },
        "title": {
         "text": "Latest Rolling OEE % by Plant"
        },
        "xaxis": {
         "anchor": "y",
         "domain": [
          0,
          1
         ],
         "title": {
          "text": "Plant"
         }
        },
        "yaxis": {
         "anchor": "x",
         "domain": [
          0,
          1
         ],
         "title": {
          "text": "OEE %"
         }
        }
       }
      }
     },
     "metadata": {},
     "output_type": "display_data"
    },
    {
     "data": {
      "application/vnd.plotly.v1+json": {
       "config": {
        "plotlyServerURL": "https://plot.ly"
       },
       "data": [
        {
         "alignmentgroup": "True",
         "hovertemplate": "Plant=%{x}<br>Availability %=%{y}<extra></extra>",
         "legendgroup": "",
         "marker": {
          "color": "#636efa",
          "pattern": {
           "shape": ""
          }
         },
         "name": "",
         "offsetgroup": "",
         "orientation": "v",
         "showlegend": false,
         "textposition": "auto",
         "type": "bar",
         "x": [
          "SZX",
          "HZG",
          "LLB",
          "LSX",
          "ELB",
          "MAF",
          "RDG",
          "OCO",
          "SCO",
          "ORI",
          "LTR",
          "FRA",
          "SUZ",
          "TRS",
          "VDR",
          "MLE",
          "WAT"
         ],
         "xaxis": "x",
         "y": [
          0.7546871543225797,
          0.6979593719452064,
          0.6804973885256205,
          0.675387339827733,
          0.6332787237664511,
          0.6215241809889464,
          0.6001295194646747,
          0.5796592102725524,
          0.5337366532160477,
          0.502407931062846,
          0.4966833688707115,
          0.49376704740230193,
          0.4487739061117366,
          0.43667640554465736,
          0.39601888431609406,
          0.29766393712052963,
          0.2815197027790939
         ],
         "yaxis": "y"
        }
       ],
       "layout": {
        "barmode": "relative",
        "legend": {
         "tracegroupgap": 0
        },
        "template": {
         "data": {
          "bar": [
           {
            "error_x": {
             "color": "#2a3f5f"
            },
            "error_y": {
             "color": "#2a3f5f"
            },
            "marker": {
             "line": {
              "color": "#E5ECF6",
              "width": 0.5
             },
             "pattern": {
              "fillmode": "overlay",
              "size": 10,
              "solidity": 0.2
             }
            },
            "type": "bar"
           }
          ],
          "barpolar": [
           {
            "marker": {
             "line": {
              "color": "#E5ECF6",
              "width": 0.5
             },
             "pattern": {
              "fillmode": "overlay",
              "size": 10,
              "solidity": 0.2
             }
            },
            "type": "barpolar"
           }
          ],
          "carpet": [
           {
            "aaxis": {
             "endlinecolor": "#2a3f5f",
             "gridcolor": "white",
             "linecolor": "white",
             "minorgridcolor": "white",
             "startlinecolor": "#2a3f5f"
            },
            "baxis": {
             "endlinecolor": "#2a3f5f",
             "gridcolor": "white",
             "linecolor": "white",
             "minorgridcolor": "white",
             "startlinecolor": "#2a3f5f"
            },
            "type": "carpet"
           }
          ],
          "choropleth": [
           {
            "colorbar": {
             "outlinewidth": 0,
             "ticks": ""
            },
            "type": "choropleth"
           }
          ],
          "contour": [
           {
            "colorbar": {
             "outlinewidth": 0,
             "ticks": ""
            },
            "colorscale": [
             [
              0,
              "#0d0887"
             ],
             [
              0.1111111111111111,
              "#46039f"
             ],
             [
              0.2222222222222222,
              "#7201a8"
             ],
             [
              0.3333333333333333,
              "#9c179e"
             ],
             [
              0.4444444444444444,
              "#bd3786"
             ],
             [
              0.5555555555555556,
              "#d8576b"
             ],
             [
              0.6666666666666666,
              "#ed7953"
             ],
             [
              0.7777777777777778,
              "#fb9f3a"
             ],
             [
              0.8888888888888888,
              "#fdca26"
             ],
             [
              1,
              "#f0f921"
             ]
            ],
            "type": "contour"
           }
          ],
          "contourcarpet": [
           {
            "colorbar": {
             "outlinewidth": 0,
             "ticks": ""
            },
            "type": "contourcarpet"
           }
          ],
          "heatmap": [
           {
            "colorbar": {
             "outlinewidth": 0,
             "ticks": ""
            },
            "colorscale": [
             [
              0,
              "#0d0887"
             ],
             [
              0.1111111111111111,
              "#46039f"
             ],
             [
              0.2222222222222222,
              "#7201a8"
             ],
             [
              0.3333333333333333,
              "#9c179e"
             ],
             [
              0.4444444444444444,
              "#bd3786"
             ],
             [
              0.5555555555555556,
              "#d8576b"
             ],
             [
              0.6666666666666666,
              "#ed7953"
             ],
             [
              0.7777777777777778,
              "#fb9f3a"
             ],
             [
              0.8888888888888888,
              "#fdca26"
             ],
             [
              1,
              "#f0f921"
             ]
            ],
            "type": "heatmap"
           }
          ],
          "heatmapgl": [
           {
            "colorbar": {
             "outlinewidth": 0,
             "ticks": ""
            },
            "colorscale": [
             [
              0,
              "#0d0887"
             ],
             [
              0.1111111111111111,
              "#46039f"
             ],
             [
              0.2222222222222222,
              "#7201a8"
             ],
             [
              0.3333333333333333,
              "#9c179e"
             ],
             [
              0.4444444444444444,
              "#bd3786"
             ],
             [
              0.5555555555555556,
              "#d8576b"
             ],
             [
              0.6666666666666666,
              "#ed7953"
             ],
             [
              0.7777777777777778,
              "#fb9f3a"
             ],
             [
              0.8888888888888888,
              "#fdca26"
             ],
             [
              1,
              "#f0f921"
             ]
            ],
            "type": "heatmapgl"
           }
          ],
          "histogram": [
           {
            "marker": {
             "pattern": {
              "fillmode": "overlay",
              "size": 10,
              "solidity": 0.2
             }
            },
            "type": "histogram"
           }
          ],
          "histogram2d": [
           {
            "colorbar": {
             "outlinewidth": 0,
             "ticks": ""
            },
            "colorscale": [
             [
              0,
              "#0d0887"
             ],
             [
              0.1111111111111111,
              "#46039f"
             ],
             [
              0.2222222222222222,
              "#7201a8"
             ],
             [
              0.3333333333333333,
              "#9c179e"
             ],
             [
              0.4444444444444444,
              "#bd3786"
             ],
             [
              0.5555555555555556,
              "#d8576b"
             ],
             [
              0.6666666666666666,
              "#ed7953"
             ],
             [
              0.7777777777777778,
              "#fb9f3a"
             ],
             [
              0.8888888888888888,
              "#fdca26"
             ],
             [
              1,
              "#f0f921"
             ]
            ],
            "type": "histogram2d"
           }
          ],
          "histogram2dcontour": [
           {
            "colorbar": {
             "outlinewidth": 0,
             "ticks": ""
            },
            "colorscale": [
             [
              0,
              "#0d0887"
             ],
             [
              0.1111111111111111,
              "#46039f"
             ],
             [
              0.2222222222222222,
              "#7201a8"
             ],
             [
              0.3333333333333333,
              "#9c179e"
             ],
             [
              0.4444444444444444,
              "#bd3786"
             ],
             [
              0.5555555555555556,
              "#d8576b"
             ],
             [
              0.6666666666666666,
              "#ed7953"
             ],
             [
              0.7777777777777778,
              "#fb9f3a"
             ],
             [
              0.8888888888888888,
              "#fdca26"
             ],
             [
              1,
              "#f0f921"
             ]
            ],
            "type": "histogram2dcontour"
           }
          ],
          "mesh3d": [
           {
            "colorbar": {
             "outlinewidth": 0,
             "ticks": ""
            },
            "type": "mesh3d"
           }
          ],
          "parcoords": [
           {
            "line": {
             "colorbar": {
              "outlinewidth": 0,
              "ticks": ""
             }
            },
            "type": "parcoords"
           }
          ],
          "pie": [
           {
            "automargin": true,
            "type": "pie"
           }
          ],
          "scatter": [
           {
            "marker": {
             "colorbar": {
              "outlinewidth": 0,
              "ticks": ""
             }
            },
            "type": "scatter"
           }
          ],
          "scatter3d": [
           {
            "line": {
             "colorbar": {
              "outlinewidth": 0,
              "ticks": ""
             }
            },
            "marker": {
             "colorbar": {
              "outlinewidth": 0,
              "ticks": ""
             }
            },
            "type": "scatter3d"
           }
          ],
          "scattercarpet": [
           {
            "marker": {
             "colorbar": {
              "outlinewidth": 0,
              "ticks": ""
             }
            },
            "type": "scattercarpet"
           }
          ],
          "scattergeo": [
           {
            "marker": {
             "colorbar": {
              "outlinewidth": 0,
              "ticks": ""
             }
            },
            "type": "scattergeo"
           }
          ],
          "scattergl": [
           {
            "marker": {
             "colorbar": {
              "outlinewidth": 0,
              "ticks": ""
             }
            },
            "type": "scattergl"
           }
          ],
          "scattermapbox": [
           {
            "marker": {
             "colorbar": {
              "outlinewidth": 0,
              "ticks": ""
             }
            },
            "type": "scattermapbox"
           }
          ],
          "scatterpolar": [
           {
            "marker": {
             "colorbar": {
              "outlinewidth": 0,
              "ticks": ""
             }
            },
            "type": "scatterpolar"
           }
          ],
          "scatterpolargl": [
           {
            "marker": {
             "colorbar": {
              "outlinewidth": 0,
              "ticks": ""
             }
            },
            "type": "scatterpolargl"
           }
          ],
          "scatterternary": [
           {
            "marker": {
             "colorbar": {
              "outlinewidth": 0,
              "ticks": ""
             }
            },
            "type": "scatterternary"
           }
          ],
          "surface": [
           {
            "colorbar": {
             "outlinewidth": 0,
             "ticks": ""
            },
            "colorscale": [
             [
              0,
              "#0d0887"
             ],
             [
              0.1111111111111111,
              "#46039f"
             ],
             [
              0.2222222222222222,
              "#7201a8"
             ],
             [
              0.3333333333333333,
              "#9c179e"
             ],
             [
              0.4444444444444444,
              "#bd3786"
             ],
             [
              0.5555555555555556,
              "#d8576b"
             ],
             [
              0.6666666666666666,
              "#ed7953"
             ],
             [
              0.7777777777777778,
              "#fb9f3a"
             ],
             [
              0.8888888888888888,
              "#fdca26"
             ],
             [
              1,
              "#f0f921"
             ]
            ],
            "type": "surface"
           }
          ],
          "table": [
           {
            "cells": {
             "fill": {
              "color": "#EBF0F8"
             },
             "line": {
              "color": "white"
             }
            },
            "header": {
             "fill": {
              "color": "#C8D4E3"
             },
             "line": {
              "color": "white"
             }
            },
            "type": "table"
           }
          ]
         },
         "layout": {
          "annotationdefaults": {
           "arrowcolor": "#2a3f5f",
           "arrowhead": 0,
           "arrowwidth": 1
          },
          "autotypenumbers": "strict",
          "coloraxis": {
           "colorbar": {
            "outlinewidth": 0,
            "ticks": ""
           }
          },
          "colorscale": {
           "diverging": [
            [
             0,
             "#8e0152"
            ],
            [
             0.1,
             "#c51b7d"
            ],
            [
             0.2,
             "#de77ae"
            ],
            [
             0.3,
             "#f1b6da"
            ],
            [
             0.4,
             "#fde0ef"
            ],
            [
             0.5,
             "#f7f7f7"
            ],
            [
             0.6,
             "#e6f5d0"
            ],
            [
             0.7,
             "#b8e186"
            ],
            [
             0.8,
             "#7fbc41"
            ],
            [
             0.9,
             "#4d9221"
            ],
            [
             1,
             "#276419"
            ]
           ],
           "sequential": [
            [
             0,
             "#0d0887"
            ],
            [
             0.1111111111111111,
             "#46039f"
            ],
            [
             0.2222222222222222,
             "#7201a8"
            ],
            [
             0.3333333333333333,
             "#9c179e"
            ],
            [
             0.4444444444444444,
             "#bd3786"
            ],
            [
             0.5555555555555556,
             "#d8576b"
            ],
            [
             0.6666666666666666,
             "#ed7953"
            ],
            [
             0.7777777777777778,
             "#fb9f3a"
            ],
            [
             0.8888888888888888,
             "#fdca26"
            ],
            [
             1,
             "#f0f921"
            ]
           ],
           "sequentialminus": [
            [
             0,
             "#0d0887"
            ],
            [
             0.1111111111111111,
             "#46039f"
            ],
            [
             0.2222222222222222,
             "#7201a8"
            ],
            [
             0.3333333333333333,
             "#9c179e"
            ],
            [
             0.4444444444444444,
             "#bd3786"
            ],
            [
             0.5555555555555556,
             "#d8576b"
            ],
            [
             0.6666666666666666,
             "#ed7953"
            ],
            [
             0.7777777777777778,
             "#fb9f3a"
            ],
            [
             0.8888888888888888,
             "#fdca26"
            ],
            [
             1,
             "#f0f921"
            ]
           ]
          },
          "colorway": [
           "#636efa",
           "#EF553B",
           "#00cc96",
           "#ab63fa",
           "#FFA15A",
           "#19d3f3",
           "#FF6692",
           "#B6E880",
           "#FF97FF",
           "#FECB52"
          ],
          "font": {
           "color": "#2a3f5f"
          },
          "geo": {
           "bgcolor": "white",
           "lakecolor": "white",
           "landcolor": "#E5ECF6",
           "showlakes": true,
           "showland": true,
           "subunitcolor": "white"
          },
          "hoverlabel": {
           "align": "left"
          },
          "hovermode": "closest",
          "mapbox": {
           "style": "light"
          },
          "paper_bgcolor": "white",
          "plot_bgcolor": "#E5ECF6",
          "polar": {
           "angularaxis": {
            "gridcolor": "white",
            "linecolor": "white",
            "ticks": ""
           },
           "bgcolor": "#E5ECF6",
           "radialaxis": {
            "gridcolor": "white",
            "linecolor": "white",
            "ticks": ""
           }
          },
          "scene": {
           "xaxis": {
            "backgroundcolor": "#E5ECF6",
            "gridcolor": "white",
            "gridwidth": 2,
            "linecolor": "white",
            "showbackground": true,
            "ticks": "",
            "zerolinecolor": "white"
           },
           "yaxis": {
            "backgroundcolor": "#E5ECF6",
            "gridcolor": "white",
            "gridwidth": 2,
            "linecolor": "white",
            "showbackground": true,
            "ticks": "",
            "zerolinecolor": "white"
           },
           "zaxis": {
            "backgroundcolor": "#E5ECF6",
            "gridcolor": "white",
            "gridwidth": 2,
            "linecolor": "white",
            "showbackground": true,
            "ticks": "",
            "zerolinecolor": "white"
           }
          },
          "shapedefaults": {
           "line": {
            "color": "#2a3f5f"
           }
          },
          "ternary": {
           "aaxis": {
            "gridcolor": "white",
            "linecolor": "white",
            "ticks": ""
           },
           "baxis": {
            "gridcolor": "white",
            "linecolor": "white",
            "ticks": ""
           },
           "bgcolor": "#E5ECF6",
           "caxis": {
            "gridcolor": "white",
            "linecolor": "white",
            "ticks": ""
           }
          },
          "title": {
           "x": 0.05
          },
          "xaxis": {
           "automargin": true,
           "gridcolor": "white",
           "linecolor": "white",
           "ticks": "",
           "title": {
            "standoff": 15
           },
           "zerolinecolor": "white",
           "zerolinewidth": 2
          },
          "yaxis": {
           "automargin": true,
           "gridcolor": "white",
           "linecolor": "white",
           "ticks": "",
           "title": {
            "standoff": 15
           },
           "zerolinecolor": "white",
           "zerolinewidth": 2
          }
         }
        },
        "title": {
         "text": "Latest Rolling Availability % by Plant"
        },
        "xaxis": {
         "anchor": "y",
         "domain": [
          0,
          1
         ],
         "title": {
          "text": "Plant"
         }
        },
        "yaxis": {
         "anchor": "x",
         "domain": [
          0,
          1
         ],
         "title": {
          "text": "Availability %"
         }
        }
       }
      }
     },
     "metadata": {},
     "output_type": "display_data"
    },
    {
     "data": {
      "application/vnd.plotly.v1+json": {
       "config": {
        "plotlyServerURL": "https://plot.ly"
       },
       "data": [
        {
         "alignmentgroup": "True",
         "hovertemplate": "Plant=%{x}<br>Performance %=%{y}<extra></extra>",
         "legendgroup": "",
         "marker": {
          "color": "#636efa",
          "pattern": {
           "shape": ""
          }
         },
         "name": "",
         "offsetgroup": "",
         "orientation": "v",
         "showlegend": false,
         "textposition": "auto",
         "type": "bar",
         "x": [
          "WAT",
          "SUZ",
          "VDR",
          "HZG",
          "MAF",
          "TRS",
          "OCO",
          "LSX",
          "RDG",
          "ORI",
          "LLB",
          "MLE",
          "SZX",
          "SCO",
          "FRA",
          "ELB",
          "LTR"
         ],
         "xaxis": "x",
         "y": [
          6.878485498126089,
          1.0817288855933094,
          1.0579268259654415,
          0.9903026676739959,
          0.9142102456643352,
          0.8586314492959687,
          0.8348797238683314,
          0.8206040565128355,
          0.8171301694071668,
          0.8048162655960691,
          0.7892950109098646,
          0.7594935276806898,
          0.7593909061421625,
          0.7383307444990721,
          0.7363730578465822,
          0.6168580369922618,
          0.6052579029012516
         ],
         "yaxis": "y"
        }
       ],
       "layout": {
        "barmode": "relative",
        "legend": {
         "tracegroupgap": 0
        },
        "template": {
         "data": {
          "bar": [
           {
            "error_x": {
             "color": "#2a3f5f"
            },
            "error_y": {
             "color": "#2a3f5f"
            },
            "marker": {
             "line": {
              "color": "#E5ECF6",
              "width": 0.5
             },
             "pattern": {
              "fillmode": "overlay",
              "size": 10,
              "solidity": 0.2
             }
            },
            "type": "bar"
           }
          ],
          "barpolar": [
           {
            "marker": {
             "line": {
              "color": "#E5ECF6",
              "width": 0.5
             },
             "pattern": {
              "fillmode": "overlay",
              "size": 10,
              "solidity": 0.2
             }
            },
            "type": "barpolar"
           }
          ],
          "carpet": [
           {
            "aaxis": {
             "endlinecolor": "#2a3f5f",
             "gridcolor": "white",
             "linecolor": "white",
             "minorgridcolor": "white",
             "startlinecolor": "#2a3f5f"
            },
            "baxis": {
             "endlinecolor": "#2a3f5f",
             "gridcolor": "white",
             "linecolor": "white",
             "minorgridcolor": "white",
             "startlinecolor": "#2a3f5f"
            },
            "type": "carpet"
           }
          ],
          "choropleth": [
           {
            "colorbar": {
             "outlinewidth": 0,
             "ticks": ""
            },
            "type": "choropleth"
           }
          ],
          "contour": [
           {
            "colorbar": {
             "outlinewidth": 0,
             "ticks": ""
            },
            "colorscale": [
             [
              0,
              "#0d0887"
             ],
             [
              0.1111111111111111,
              "#46039f"
             ],
             [
              0.2222222222222222,
              "#7201a8"
             ],
             [
              0.3333333333333333,
              "#9c179e"
             ],
             [
              0.4444444444444444,
              "#bd3786"
             ],
             [
              0.5555555555555556,
              "#d8576b"
             ],
             [
              0.6666666666666666,
              "#ed7953"
             ],
             [
              0.7777777777777778,
              "#fb9f3a"
             ],
             [
              0.8888888888888888,
              "#fdca26"
             ],
             [
              1,
              "#f0f921"
             ]
            ],
            "type": "contour"
           }
          ],
          "contourcarpet": [
           {
            "colorbar": {
             "outlinewidth": 0,
             "ticks": ""
            },
            "type": "contourcarpet"
           }
          ],
          "heatmap": [
           {
            "colorbar": {
             "outlinewidth": 0,
             "ticks": ""
            },
            "colorscale": [
             [
              0,
              "#0d0887"
             ],
             [
              0.1111111111111111,
              "#46039f"
             ],
             [
              0.2222222222222222,
              "#7201a8"
             ],
             [
              0.3333333333333333,
              "#9c179e"
             ],
             [
              0.4444444444444444,
              "#bd3786"
             ],
             [
              0.5555555555555556,
              "#d8576b"
             ],
             [
              0.6666666666666666,
              "#ed7953"
             ],
             [
              0.7777777777777778,
              "#fb9f3a"
             ],
             [
              0.8888888888888888,
              "#fdca26"
             ],
             [
              1,
              "#f0f921"
             ]
            ],
            "type": "heatmap"
           }
          ],
          "heatmapgl": [
           {
            "colorbar": {
             "outlinewidth": 0,
             "ticks": ""
            },
            "colorscale": [
             [
              0,
              "#0d0887"
             ],
             [
              0.1111111111111111,
              "#46039f"
             ],
             [
              0.2222222222222222,
              "#7201a8"
             ],
             [
              0.3333333333333333,
              "#9c179e"
             ],
             [
              0.4444444444444444,
              "#bd3786"
             ],
             [
              0.5555555555555556,
              "#d8576b"
             ],
             [
              0.6666666666666666,
              "#ed7953"
             ],
             [
              0.7777777777777778,
              "#fb9f3a"
             ],
             [
              0.8888888888888888,
              "#fdca26"
             ],
             [
              1,
              "#f0f921"
             ]
            ],
            "type": "heatmapgl"
           }
          ],
          "histogram": [
           {
            "marker": {
             "pattern": {
              "fillmode": "overlay",
              "size": 10,
              "solidity": 0.2
             }
            },
            "type": "histogram"
           }
          ],
          "histogram2d": [
           {
            "colorbar": {
             "outlinewidth": 0,
             "ticks": ""
            },
            "colorscale": [
             [
              0,
              "#0d0887"
             ],
             [
              0.1111111111111111,
              "#46039f"
             ],
             [
              0.2222222222222222,
              "#7201a8"
             ],
             [
              0.3333333333333333,
              "#9c179e"
             ],
             [
              0.4444444444444444,
              "#bd3786"
             ],
             [
              0.5555555555555556,
              "#d8576b"
             ],
             [
              0.6666666666666666,
              "#ed7953"
             ],
             [
              0.7777777777777778,
              "#fb9f3a"
             ],
             [
              0.8888888888888888,
              "#fdca26"
             ],
             [
              1,
              "#f0f921"
             ]
            ],
            "type": "histogram2d"
           }
          ],
          "histogram2dcontour": [
           {
            "colorbar": {
             "outlinewidth": 0,
             "ticks": ""
            },
            "colorscale": [
             [
              0,
              "#0d0887"
             ],
             [
              0.1111111111111111,
              "#46039f"
             ],
             [
              0.2222222222222222,
              "#7201a8"
             ],
             [
              0.3333333333333333,
              "#9c179e"
             ],
             [
              0.4444444444444444,
              "#bd3786"
             ],
             [
              0.5555555555555556,
              "#d8576b"
             ],
             [
              0.6666666666666666,
              "#ed7953"
             ],
             [
              0.7777777777777778,
              "#fb9f3a"
             ],
             [
              0.8888888888888888,
              "#fdca26"
             ],
             [
              1,
              "#f0f921"
             ]
            ],
            "type": "histogram2dcontour"
           }
          ],
          "mesh3d": [
           {
            "colorbar": {
             "outlinewidth": 0,
             "ticks": ""
            },
            "type": "mesh3d"
           }
          ],
          "parcoords": [
           {
            "line": {
             "colorbar": {
              "outlinewidth": 0,
              "ticks": ""
             }
            },
            "type": "parcoords"
           }
          ],
          "pie": [
           {
            "automargin": true,
            "type": "pie"
           }
          ],
          "scatter": [
           {
            "marker": {
             "colorbar": {
              "outlinewidth": 0,
              "ticks": ""
             }
            },
            "type": "scatter"
           }
          ],
          "scatter3d": [
           {
            "line": {
             "colorbar": {
              "outlinewidth": 0,
              "ticks": ""
             }
            },
            "marker": {
             "colorbar": {
              "outlinewidth": 0,
              "ticks": ""
             }
            },
            "type": "scatter3d"
           }
          ],
          "scattercarpet": [
           {
            "marker": {
             "colorbar": {
              "outlinewidth": 0,
              "ticks": ""
             }
            },
            "type": "scattercarpet"
           }
          ],
          "scattergeo": [
           {
            "marker": {
             "colorbar": {
              "outlinewidth": 0,
              "ticks": ""
             }
            },
            "type": "scattergeo"
           }
          ],
          "scattergl": [
           {
            "marker": {
             "colorbar": {
              "outlinewidth": 0,
              "ticks": ""
             }
            },
            "type": "scattergl"
           }
          ],
          "scattermapbox": [
           {
            "marker": {
             "colorbar": {
              "outlinewidth": 0,
              "ticks": ""
             }
            },
            "type": "scattermapbox"
           }
          ],
          "scatterpolar": [
           {
            "marker": {
             "colorbar": {
              "outlinewidth": 0,
              "ticks": ""
             }
            },
            "type": "scatterpolar"
           }
          ],
          "scatterpolargl": [
           {
            "marker": {
             "colorbar": {
              "outlinewidth": 0,
              "ticks": ""
             }
            },
            "type": "scatterpolargl"
           }
          ],
          "scatterternary": [
           {
            "marker": {
             "colorbar": {
              "outlinewidth": 0,
              "ticks": ""
             }
            },
            "type": "scatterternary"
           }
          ],
          "surface": [
           {
            "colorbar": {
             "outlinewidth": 0,
             "ticks": ""
            },
            "colorscale": [
             [
              0,
              "#0d0887"
             ],
             [
              0.1111111111111111,
              "#46039f"
             ],
             [
              0.2222222222222222,
              "#7201a8"
             ],
             [
              0.3333333333333333,
              "#9c179e"
             ],
             [
              0.4444444444444444,
              "#bd3786"
             ],
             [
              0.5555555555555556,
              "#d8576b"
             ],
             [
              0.6666666666666666,
              "#ed7953"
             ],
             [
              0.7777777777777778,
              "#fb9f3a"
             ],
             [
              0.8888888888888888,
              "#fdca26"
             ],
             [
              1,
              "#f0f921"
             ]
            ],
            "type": "surface"
           }
          ],
          "table": [
           {
            "cells": {
             "fill": {
              "color": "#EBF0F8"
             },
             "line": {
              "color": "white"
             }
            },
            "header": {
             "fill": {
              "color": "#C8D4E3"
             },
             "line": {
              "color": "white"
             }
            },
            "type": "table"
           }
          ]
         },
         "layout": {
          "annotationdefaults": {
           "arrowcolor": "#2a3f5f",
           "arrowhead": 0,
           "arrowwidth": 1
          },
          "autotypenumbers": "strict",
          "coloraxis": {
           "colorbar": {
            "outlinewidth": 0,
            "ticks": ""
           }
          },
          "colorscale": {
           "diverging": [
            [
             0,
             "#8e0152"
            ],
            [
             0.1,
             "#c51b7d"
            ],
            [
             0.2,
             "#de77ae"
            ],
            [
             0.3,
             "#f1b6da"
            ],
            [
             0.4,
             "#fde0ef"
            ],
            [
             0.5,
             "#f7f7f7"
            ],
            [
             0.6,
             "#e6f5d0"
            ],
            [
             0.7,
             "#b8e186"
            ],
            [
             0.8,
             "#7fbc41"
            ],
            [
             0.9,
             "#4d9221"
            ],
            [
             1,
             "#276419"
            ]
           ],
           "sequential": [
            [
             0,
             "#0d0887"
            ],
            [
             0.1111111111111111,
             "#46039f"
            ],
            [
             0.2222222222222222,
             "#7201a8"
            ],
            [
             0.3333333333333333,
             "#9c179e"
            ],
            [
             0.4444444444444444,
             "#bd3786"
            ],
            [
             0.5555555555555556,
             "#d8576b"
            ],
            [
             0.6666666666666666,
             "#ed7953"
            ],
            [
             0.7777777777777778,
             "#fb9f3a"
            ],
            [
             0.8888888888888888,
             "#fdca26"
            ],
            [
             1,
             "#f0f921"
            ]
           ],
           "sequentialminus": [
            [
             0,
             "#0d0887"
            ],
            [
             0.1111111111111111,
             "#46039f"
            ],
            [
             0.2222222222222222,
             "#7201a8"
            ],
            [
             0.3333333333333333,
             "#9c179e"
            ],
            [
             0.4444444444444444,
             "#bd3786"
            ],
            [
             0.5555555555555556,
             "#d8576b"
            ],
            [
             0.6666666666666666,
             "#ed7953"
            ],
            [
             0.7777777777777778,
             "#fb9f3a"
            ],
            [
             0.8888888888888888,
             "#fdca26"
            ],
            [
             1,
             "#f0f921"
            ]
           ]
          },
          "colorway": [
           "#636efa",
           "#EF553B",
           "#00cc96",
           "#ab63fa",
           "#FFA15A",
           "#19d3f3",
           "#FF6692",
           "#B6E880",
           "#FF97FF",
           "#FECB52"
          ],
          "font": {
           "color": "#2a3f5f"
          },
          "geo": {
           "bgcolor": "white",
           "lakecolor": "white",
           "landcolor": "#E5ECF6",
           "showlakes": true,
           "showland": true,
           "subunitcolor": "white"
          },
          "hoverlabel": {
           "align": "left"
          },
          "hovermode": "closest",
          "mapbox": {
           "style": "light"
          },
          "paper_bgcolor": "white",
          "plot_bgcolor": "#E5ECF6",
          "polar": {
           "angularaxis": {
            "gridcolor": "white",
            "linecolor": "white",
            "ticks": ""
           },
           "bgcolor": "#E5ECF6",
           "radialaxis": {
            "gridcolor": "white",
            "linecolor": "white",
            "ticks": ""
           }
          },
          "scene": {
           "xaxis": {
            "backgroundcolor": "#E5ECF6",
            "gridcolor": "white",
            "gridwidth": 2,
            "linecolor": "white",
            "showbackground": true,
            "ticks": "",
            "zerolinecolor": "white"
           },
           "yaxis": {
            "backgroundcolor": "#E5ECF6",
            "gridcolor": "white",
            "gridwidth": 2,
            "linecolor": "white",
            "showbackground": true,
            "ticks": "",
            "zerolinecolor": "white"
           },
           "zaxis": {
            "backgroundcolor": "#E5ECF6",
            "gridcolor": "white",
            "gridwidth": 2,
            "linecolor": "white",
            "showbackground": true,
            "ticks": "",
            "zerolinecolor": "white"
           }
          },
          "shapedefaults": {
           "line": {
            "color": "#2a3f5f"
           }
          },
          "ternary": {
           "aaxis": {
            "gridcolor": "white",
            "linecolor": "white",
            "ticks": ""
           },
           "baxis": {
            "gridcolor": "white",
            "linecolor": "white",
            "ticks": ""
           },
           "bgcolor": "#E5ECF6",
           "caxis": {
            "gridcolor": "white",
            "linecolor": "white",
            "ticks": ""
           }
          },
          "title": {
           "x": 0.05
          },
          "xaxis": {
           "automargin": true,
           "gridcolor": "white",
           "linecolor": "white",
           "ticks": "",
           "title": {
            "standoff": 15
           },
           "zerolinecolor": "white",
           "zerolinewidth": 2
          },
          "yaxis": {
           "automargin": true,
           "gridcolor": "white",
           "linecolor": "white",
           "ticks": "",
           "title": {
            "standoff": 15
           },
           "zerolinecolor": "white",
           "zerolinewidth": 2
          }
         }
        },
        "title": {
         "text": "Latest Rolling Performance % by Plant"
        },
        "xaxis": {
         "anchor": "y",
         "domain": [
          0,
          1
         ],
         "title": {
          "text": "Plant"
         }
        },
        "yaxis": {
         "anchor": "x",
         "domain": [
          0,
          1
         ],
         "title": {
          "text": "Performance %"
         }
        }
       }
      }
     },
     "metadata": {},
     "output_type": "display_data"
    }
   ],
   "source": [
    "metrics = ['OEE %','Availability %','Performance %']\n",
    "\n",
    "for metric in metrics:\n",
    "\n",
    "     fig = px.bar(active_rolling.dropna(subset=[metric]).groupby('Line').tail(1).sort_values(by=metric, ascending=False), x='Line', y=metric,\n",
    "     title='Latest Rolling {} by Line'.format(metric),\n",
    "     range_y=(0,1)\n",
    "     )\n",
    "     fig.show()\n",
    "\n",
    "for metric in metrics:\n",
    "\n",
    "    fig = px.bar(active_rolling.dropna(subset=[metric]).groupby('Plant').mean().reset_index().sort_values(by=metric, ascending=False), \n",
    "    x='Plant', \n",
    "    y=metric, \n",
    "    title='Latest Rolling {} by Plant'.format(metric), \n",
    "    )\n",
    "    fig.show()\n",
    "\n",
    "    "
   ]
  },
  {
   "cell_type": "code",
   "execution_count": 127,
   "metadata": {},
   "outputs": [
    {
     "data": {
      "text/html": [
       "<div>\n",
       "<style scoped>\n",
       "    .dataframe tbody tr th:only-of-type {\n",
       "        vertical-align: middle;\n",
       "    }\n",
       "\n",
       "    .dataframe tbody tr th {\n",
       "        vertical-align: top;\n",
       "    }\n",
       "\n",
       "    .dataframe thead th {\n",
       "        text-align: right;\n",
       "    }\n",
       "</style>\n",
       "<table border=\"1\" class=\"dataframe\">\n",
       "  <thead>\n",
       "    <tr style=\"text-align: right;\">\n",
       "      <th></th>\n",
       "      <th>Plant</th>\n",
       "      <th>OEE %</th>\n",
       "      <th>Performance %</th>\n",
       "      <th>Availability %</th>\n",
       "    </tr>\n",
       "  </thead>\n",
       "  <tbody>\n",
       "    <tr>\n",
       "      <th>0</th>\n",
       "      <td>MLE</td>\n",
       "      <td>0.220491</td>\n",
       "      <td>0.759494</td>\n",
       "      <td>0.297664</td>\n",
       "    </tr>\n",
       "    <tr>\n",
       "      <th>1</th>\n",
       "      <td>LTR</td>\n",
       "      <td>0.287840</td>\n",
       "      <td>0.605258</td>\n",
       "      <td>0.496683</td>\n",
       "    </tr>\n",
       "    <tr>\n",
       "      <th>2</th>\n",
       "      <td>SCO</td>\n",
       "      <td>0.368010</td>\n",
       "      <td>0.738331</td>\n",
       "      <td>0.533737</td>\n",
       "    </tr>\n",
       "    <tr>\n",
       "      <th>3</th>\n",
       "      <td>FRA</td>\n",
       "      <td>0.376129</td>\n",
       "      <td>0.736373</td>\n",
       "      <td>0.493767</td>\n",
       "    </tr>\n",
       "    <tr>\n",
       "      <th>4</th>\n",
       "      <td>TRS</td>\n",
       "      <td>0.379216</td>\n",
       "      <td>0.858631</td>\n",
       "      <td>0.436676</td>\n",
       "    </tr>\n",
       "    <tr>\n",
       "      <th>5</th>\n",
       "      <td>VDR</td>\n",
       "      <td>0.405337</td>\n",
       "      <td>1.057927</td>\n",
       "      <td>0.396019</td>\n",
       "    </tr>\n",
       "    <tr>\n",
       "      <th>6</th>\n",
       "      <td>ORI</td>\n",
       "      <td>0.425178</td>\n",
       "      <td>0.804816</td>\n",
       "      <td>0.502408</td>\n",
       "    </tr>\n",
       "    <tr>\n",
       "      <th>7</th>\n",
       "      <td>SUZ</td>\n",
       "      <td>0.445438</td>\n",
       "      <td>1.081729</td>\n",
       "      <td>0.448774</td>\n",
       "    </tr>\n",
       "    <tr>\n",
       "      <th>8</th>\n",
       "      <td>ELB</td>\n",
       "      <td>0.457958</td>\n",
       "      <td>0.616858</td>\n",
       "      <td>0.633279</td>\n",
       "    </tr>\n",
       "    <tr>\n",
       "      <th>9</th>\n",
       "      <td>OCO</td>\n",
       "      <td>0.489352</td>\n",
       "      <td>0.834880</td>\n",
       "      <td>0.579659</td>\n",
       "    </tr>\n",
       "    <tr>\n",
       "      <th>10</th>\n",
       "      <td>RDG</td>\n",
       "      <td>0.492874</td>\n",
       "      <td>0.817130</td>\n",
       "      <td>0.600130</td>\n",
       "    </tr>\n",
       "    <tr>\n",
       "      <th>11</th>\n",
       "      <td>LLB</td>\n",
       "      <td>0.526878</td>\n",
       "      <td>0.789295</td>\n",
       "      <td>0.680497</td>\n",
       "    </tr>\n",
       "    <tr>\n",
       "      <th>12</th>\n",
       "      <td>SZX</td>\n",
       "      <td>0.538163</td>\n",
       "      <td>0.759391</td>\n",
       "      <td>0.754687</td>\n",
       "    </tr>\n",
       "    <tr>\n",
       "      <th>13</th>\n",
       "      <td>LSX</td>\n",
       "      <td>0.544505</td>\n",
       "      <td>0.820604</td>\n",
       "      <td>0.675387</td>\n",
       "    </tr>\n",
       "    <tr>\n",
       "      <th>14</th>\n",
       "      <td>MAF</td>\n",
       "      <td>0.561715</td>\n",
       "      <td>0.914210</td>\n",
       "      <td>0.621524</td>\n",
       "    </tr>\n",
       "    <tr>\n",
       "      <th>15</th>\n",
       "      <td>HZG</td>\n",
       "      <td>0.686975</td>\n",
       "      <td>0.990303</td>\n",
       "      <td>0.697959</td>\n",
       "    </tr>\n",
       "    <tr>\n",
       "      <th>16</th>\n",
       "      <td>WAT</td>\n",
       "      <td>2.210767</td>\n",
       "      <td>6.878485</td>\n",
       "      <td>0.281520</td>\n",
       "    </tr>\n",
       "  </tbody>\n",
       "</table>\n",
       "</div>"
      ],
      "text/plain": [
       "   Plant     OEE %  Performance %  Availability %\n",
       "0    MLE  0.220491       0.759494        0.297664\n",
       "1    LTR  0.287840       0.605258        0.496683\n",
       "2    SCO  0.368010       0.738331        0.533737\n",
       "3    FRA  0.376129       0.736373        0.493767\n",
       "4    TRS  0.379216       0.858631        0.436676\n",
       "5    VDR  0.405337       1.057927        0.396019\n",
       "6    ORI  0.425178       0.804816        0.502408\n",
       "7    SUZ  0.445438       1.081729        0.448774\n",
       "8    ELB  0.457958       0.616858        0.633279\n",
       "9    OCO  0.489352       0.834880        0.579659\n",
       "10   RDG  0.492874       0.817130        0.600130\n",
       "11   LLB  0.526878       0.789295        0.680497\n",
       "12   SZX  0.538163       0.759391        0.754687\n",
       "13   LSX  0.544505       0.820604        0.675387\n",
       "14   MAF  0.561715       0.914210        0.621524\n",
       "15   HZG  0.686975       0.990303        0.697959\n",
       "16   WAT  2.210767       6.878485        0.281520"
      ]
     },
     "execution_count": 127,
     "metadata": {},
     "output_type": "execute_result"
    }
   ],
   "source": [
    "active_rolling.dropna(subset=[metric]).groupby('Plant').mean().sort_values(by='OEE %').reset_index()"
   ]
  },
  {
   "cell_type": "code",
   "execution_count": 126,
   "metadata": {},
   "outputs": [
    {
     "data": {
      "text/html": [
       "<div>\n",
       "<style scoped>\n",
       "    .dataframe tbody tr th:only-of-type {\n",
       "        vertical-align: middle;\n",
       "    }\n",
       "\n",
       "    .dataframe tbody tr th {\n",
       "        vertical-align: top;\n",
       "    }\n",
       "\n",
       "    .dataframe thead th {\n",
       "        text-align: right;\n",
       "    }\n",
       "</style>\n",
       "<table border=\"1\" class=\"dataframe\">\n",
       "  <thead>\n",
       "    <tr style=\"text-align: right;\">\n",
       "      <th></th>\n",
       "      <th>Line</th>\n",
       "      <th>Date</th>\n",
       "      <th>OEE %</th>\n",
       "      <th>Performance %</th>\n",
       "      <th>Availability %</th>\n",
       "    </tr>\n",
       "  </thead>\n",
       "  <tbody>\n",
       "    <tr>\n",
       "      <th>8852</th>\n",
       "      <td>VER - UHLMANN-1040-3</td>\n",
       "      <td>2021-11-21</td>\n",
       "      <td>NaN</td>\n",
       "      <td>NaN</td>\n",
       "      <td>NaN</td>\n",
       "    </tr>\n",
       "    <tr>\n",
       "      <th>8853</th>\n",
       "      <td>VER - UHLMANN-1040-3</td>\n",
       "      <td>2021-11-28</td>\n",
       "      <td>NaN</td>\n",
       "      <td>NaN</td>\n",
       "      <td>NaN</td>\n",
       "    </tr>\n",
       "    <tr>\n",
       "      <th>8854</th>\n",
       "      <td>VER - UHLMANN-1040-3</td>\n",
       "      <td>2021-12-05</td>\n",
       "      <td>NaN</td>\n",
       "      <td>NaN</td>\n",
       "      <td>NaN</td>\n",
       "    </tr>\n",
       "    <tr>\n",
       "      <th>8855</th>\n",
       "      <td>VER - UHLMANN-1040-3</td>\n",
       "      <td>2021-12-12</td>\n",
       "      <td>NaN</td>\n",
       "      <td>NaN</td>\n",
       "      <td>NaN</td>\n",
       "    </tr>\n",
       "  </tbody>\n",
       "</table>\n",
       "</div>"
      ],
      "text/plain": [
       "                      Line       Date  OEE %  Performance %  Availability %\n",
       "8852  VER - UHLMANN-1040-3 2021-11-21    NaN            NaN             NaN\n",
       "8853  VER - UHLMANN-1040-3 2021-11-28    NaN            NaN             NaN\n",
       "8854  VER - UHLMANN-1040-3 2021-12-05    NaN            NaN             NaN\n",
       "8855  VER - UHLMANN-1040-3 2021-12-12    NaN            NaN             NaN"
      ]
     },
     "execution_count": 126,
     "metadata": {},
     "output_type": "execute_result"
    }
   ],
   "source": [
    "rolling_avg[rolling_avg.Line == 'VER - UHLMANN-1040-3']"
   ]
  },
  {
   "cell_type": "code",
   "execution_count": 39,
   "metadata": {},
   "outputs": [
    {
     "data": {
      "application/vnd.plotly.v1+json": {
       "config": {
        "plotlyServerURL": "https://plot.ly"
       },
       "data": [
        {
         "alignmentgroup": "True",
         "bingroup": "x",
         "hovertemplate": "variable=OEE %<br>value=%{x}<br>count=%{y}<extra></extra>",
         "legendgroup": "OEE %",
         "marker": {
          "color": "#636efa",
          "pattern": {
           "shape": ""
          }
         },
         "name": "OEE %",
         "offsetgroup": "OEE %",
         "orientation": "v",
         "showlegend": true,
         "type": "histogram",
         "x": [
          0.7953301349453592,
          0.8203680318757729,
          0.8553799366376776,
          0.7160872679580306,
          0.5772702280064567,
          0.4632502125187331,
          0.48654394748876656,
          0.5382038051698709,
          0.7220394830447443,
          0.6061769682434144,
          0.3659793221251267,
          0.3143194644440223,
          0.19180138677811545,
          0.19180138677811545,
          0.5664288880445795,
          0.5664288880445794,
          0.3746275012664639,
          0.37462750126646394,
          0.6041030558877837,
          0.7285334636892021,
          0.7832953684511068,
          0.5625474924012156,
          0.3998238031914892,
          0.2753933953900708,
          0.4531669563047425,
          0.74313561131994,
          0.6610364471862015,
          0.6120516717325225,
          0.5897609549138801,
          0.2997922998986827,
          0.49377607492071474,
          0.7317536901689417,
          0.6428202111922446,
          0.7145445478723402,
          0.4551755635764943,
          0.2171979483282674,
          0.42501986812287534,
          0.6085305064207477,
          0.44520967941973455,
          0.5710457826747719,
          0.461602077001013,
          0.2780914387031407,
          0.2732160271023301,
          0.2830396719858154,
          0.2830396719858154,
          0.2830396719858154,
          0.009823644883485196,
          0,
          0.33998388840073546,
          0.35840903564384324,
          0.4694717087328157,
          0.39562879803675843,
          0.20370021094402663,
          0.1852750637009189,
          0.6710270563248127,
          0.412058190567024,
          0.28512941446008994,
          0.31169202615914776,
          0.3101565972222221,
          0.1187398177736006,
          0.4344473195880483,
          0.5062009320761116,
          0.23606679524700042,
          0.6365463678022032,
          0.3751069942084594,
          0.31042198477581284,
          0.2697429763979376,
          0.25683077175717506,
          0.271387346918708,
          0.5532401776313903,
          0.5581094965190371,
          0.5551945067139048,
          0.5580419386493889,
          0.5155550900172005,
          0.4075105768342257,
          0.537807907288319,
          0.5453976063623931,
          0.5335620305522079,
          0.5341284016333081,
          0.5378408038516942,
          0.5301966478758581,
          0.47713731240416846,
          0.48753544560185186,
          0.4757139565798184,
          0.41248135960037957,
          0.4268375517300092,
          0.41632142036426845,
          0.4415535603706542,
          0.5020575472890871,
          0.22807898909283672,
          0.23725286532494905,
          0.23951162274990812,
          0.21128255957920053,
          0.22557550053115838,
          0.18548836400771118,
          0.413713224644108,
          0.403401288362467,
          0.3587164244225766,
          0.36329562706980795,
          0.3815541673300952,
          0.4290784250008246,
          0.42425375942432453,
          0.3456977979756349,
          0.43861415523594366,
          0.44522244559632357,
          0.4451036876571422,
          0.45969551595438973,
          0.41160629968915063,
          0.347864500808818,
          0.47787646275424256,
          0.5083249781190204,
          0.5073024921364685,
          0.5114910721114081,
          0.5650378087515378,
          0.5226299772648871,
          0.5528451607256928,
          0.5516050032013919,
          0.5432435391284982,
          0.5380256368213456,
          0.40410931817210227,
          0.2756936564940319,
          0.3050719442282702,
          0.3009782451914807,
          0.2942555707910737,
          0.30407814230976704,
          0.26686904765433755,
          0.4873012456030822,
          0.5184171790010128,
          0.5401082553716594,
          0.5639595381035079,
          0.5537159975025612,
          0.545121866038055,
          0.2320031305980015,
          0.6859239036454554,
          0.5934110242734056,
          0.598830075729573,
          0.6045155352150119,
          0.6173345757210198,
          0.49751654808866347,
          0.5056775103902507,
          0.5122692828341013,
          0.5782847932331645,
          0.5820624488623921,
          0.596402254158957,
          0.49140017530946056,
          0.5003875277366864,
          0.5125789226526276,
          0.35671562942906365,
          0.3856848803701456,
          0.3648511774876622,
          0.2931832650481371,
          0.22832026620534535,
          0.18197636503376566,
          0.16723349763440828,
          0.1673219777747952,
          0.19664908961981925,
          0.20133112288960972,
          0.21256658858294195,
          0.29110645553890585,
          0.2551865277354918,
          0.2341597651980266,
          0.21579564163835918,
          0.5466201875279267,
          0.5390054029414898,
          0.5359021037486389,
          0.6185009122781148,
          0.5961471848764498,
          0.5919526441676817,
          0.5788668330037969,
          0.5856542441334385,
          0.5982022901448005,
          0.2291950247101923,
          0.22795592039068993,
          0.1849713930387205,
          0.18634686699609498,
          0.15628206306215095,
          0.13301838427995782,
          0.09117263124386318,
          0.10415237442871268,
          0.0943534566833878,
          0.349731076670643,
          0.37962953196250443,
          0.39246371042577655,
          0.4048137831634497,
          0.3976494313115978,
          0.40588260548948557,
          0.23001363062104227,
          0.23401658426801947,
          0.25274052488134796,
          0.2830109484692529,
          0.2777090276998246,
          0.22214978531302967,
          0.11228641254343978,
          0.09840380824079144,
          0.05111239888165874,
          0.006118490268279838,
          0.01283586107553389,
          0.007993476259293692,
          0.14733962993954436,
          0.06410584952448435,
          0.040002672802014784,
          0.11660895326855475,
          0.14165699935061818,
          0.13927477569408755,
          0.7018031708658787,
          0.6992221270864843,
          0.7160820321228248,
          0.7307488534634917,
          0.7439333174980967,
          0.7629832025089193,
          0.6757724835087197,
          0.6724360655640215,
          0.6782195522765276,
          0.6552139148326228,
          0.6395780740588133,
          0.6231416557900111,
          0.4577758504618077,
          0.6678927087457531,
          0.6507664027522596,
          0.650524101084847,
          0.6836435934709219,
          0.6829263949238635,
          0.7015384937414311,
          0.6764877029256365,
          0.6946117826035227,
          0.7180505806945421,
          0.6823974354422209,
          0.7120086765378014,
          0.7654798403563454,
          0.7731585126535713,
          0.8097702904156101,
          0.8328979991308831,
          0.6528730040280966,
          0.6414445401225742,
          0.6324256753105859,
          0.6875666205259519,
          0.6442905825190166,
          0.6394759258577531,
          0.6429595430679779,
          0.6356164185337521,
          0.6543347183783133,
          0.6368980754405824,
          0.6155197375606465,
          0.6098340675627176,
          0.5150584309959311,
          0.439219523907024,
          0.49709972553722565,
          0.5285583005895507,
          0.5725060693810694,
          0.5368035223789147,
          0.365768451641569,
          0.5434873118358479,
          0.5466930827132959,
          0.5462731849312591,
          0.5545640048225285,
          0.5972337644414323,
          0.5949242172164146,
          0.34564671581341444,
          0.33562561045140393,
          0.24666719222447314,
          0.2876918107432196,
          0.3239963518971018,
          0.44615259419557907,
          0.48516951272977066,
          0.43365508952382703,
          0.38413434652601974,
          0.40489760104800593,
          0.45866053283105557,
          0.4371037203397302,
          0.5187798671943323,
          0.49639646205507393,
          0.4993323522323476,
          0.5211515750613102,
          0.6269709097703225,
          0.5668503008148811,
          0.5533580744986533,
          0.5264369584156425,
          0.590728820077452,
          0.7666279056732288,
          0.7192992834865937,
          0.604388779259101,
          0.4162533576869434,
          0.43924685431491406,
          0.46869314979135385,
          0.4937638163555593,
          0.5194754971552671,
          0.5850217406306784,
          0.34670384462883436,
          0.35709779985297363,
          1.077078699950155,
          0.9663707823124426,
          0.4643467554791214,
          0.47261085081657683,
          0.318151744717997,
          0.4003223949937518,
          0.32518198580908764,
          0.5256544910448127,
          0.5231761477079285,
          0.5298168008219014,
          0.5127374832890094,
          0.517336021618374,
          0.5290272534598013,
          0.5403887671555415,
          0.5983521301566973,
          0.596079577450631,
          0.5147728219608165,
          0.5338527212961306,
          0.4981496374981983,
          0.28118746982462733,
          0.36169329940306666,
          0.39864335292423175,
          0.4110442965729266,
          0.4422236342185953,
          0.6895072420643921,
          0.6841931755682973,
          0.6375078957873143,
          0.5071082909667536,
          0.5854420640123769,
          0.5371263372894264,
          0.7719219352438846,
          0.7889432917419825,
          0.7370552435468103,
          0.7082200433182051,
          0.6474587568958624,
          0.5820471104496379,
          0.5111802561189112,
          0.49644883638768944,
          0.49638929792203895,
          0.47001377683968,
          0.44467132972725565,
          0.5551780522441211,
          0.5613761070764469,
          0.5580723662522653,
          0.540213566328233,
          0.5304655118373458,
          0.4927145460137016,
          0.45919452334393146,
          0.47954428344562816,
          0.49689143244410017,
          0.5011799504943282,
          0.5144781262606815,
          0.5232566196188552,
          0.5219255272461647,
          0.5233010518160877,
          0.5086122785559879,
          0.4852420740322909,
          0.47987050034145434,
          0.49081237096032465,
          0.5017074351141979,
          0.5169482135288122,
          0.5520514867931424,
          0.5809776358108156,
          0.5965738728692919,
          0.6311892585598607,
          0.6925558226521108,
          0.7049987388315541,
          0.7222547778949874,
          0.7080733644909436,
          0.6847944510982038,
          0.6907966001599628,
          0.3401253744601842,
          0.35937529102365917,
          0.48121433824383164,
          0.5395284475157748,
          0.5689681378587335,
          0.4837836127000953,
          0.578763837914856,
          0.5412894207514087,
          0.5022139577707723,
          0.5438796279424598,
          0.5434886726860053,
          0.5817861222369085,
          0.5471010809168524,
          0.562360416171984,
          0.6016290256008445,
          0.6148577984664891,
          0.621080537283558,
          0.628028158376305,
          0.48251035435448264,
          0.5246265504510867,
          0.5520618692011644,
          0.561692782275109,
          0.532280466618504,
          0.46498119747257277,
          0.5688343621828993,
          0.6023138596654465,
          0.519228394077377,
          0.4818851063852411,
          0.5011661167363952,
          0.43400448491700166,
          0.3948110177430758,
          0.34217202135170893,
          0.33761818762193174,
          0.3777020996589688,
          0.3860082147492875,
          0.3660115216275943,
          0.3484945575259373,
          0.21344428550303685,
          0.2572351053942233,
          0.2916640447135115,
          0.29230467411486194,
          0.4665614903604667,
          0.37728694624778364,
          0.38956105773957334,
          0.41075705444215627,
          0.4037609090744688,
          0.37816263466369443,
          0.3353058079598289,
          0.039215727489585364,
          0.02147784201121724,
          0.014389300344550576,
          0.3579952130090844,
          0.27203919071427085,
          0.24803946079758651,
          0.25036107855569284,
          0.1809909045513564,
          0.21464673230026163,
          0.2020627077301254,
          0.1772716255129113,
          0.48684997476589476,
          0.4931866237866702,
          0.46743685643060656,
          0.43784242812583346,
          0.44814916499694313,
          0.4422572280939768,
          0.5143993046975552,
          0.5066166373760773,
          0.4971119465160095,
          0.47813009587269467,
          0.5000718621356288,
          0.552257534256583,
          0.4299575324039137,
          0.42429670389550456,
          0.4162824462452327,
          0.41971820407052546,
          0.4660589654510888,
          0.4261069696571291,
          0.48449566721094506,
          0.4527449268275269,
          0.47470293065013314,
          0.4348778423076924,
          0.4227887329154198,
          0.40177278969058144,
          0.3377618386227135,
          0.36956618305062194,
          0.3757970297168937,
          0.38273357431039196,
          0.3739308486655019,
          0.35312360606551924,
          0.6302867275261604,
          0.6313631233656323,
          0.6140850815845109,
          0.7748807586578403,
          0.7869924589958784,
          0.7974968234806326,
          0.7933235722689294,
          0.8063800856606069,
          0.7857205026691666,
          0.61162688713266,
          0.6196235922877802,
          0.6739603418610249,
          0.7378783580836668,
          0.7512053287188957,
          0.7348832868634388,
          0.6267209781025946,
          0.6243071855833472,
          0.5844928209607785,
          0.5907077628132321,
          0.6256916878192429,
          0.6159576812474791,
          0.7477008865494033,
          0.7558975262135024,
          0.7508989699619038,
          0.7348341151171857,
          0.7244161362078754,
          0.6415928578156043,
          0.5832149113108218,
          0.5863282179461184,
          0.5794931638157764,
          0.5962648279445867,
          0.5799513606776826,
          0.4999820516285654,
          0.5325552884223713,
          0.5097596827203912,
          0.22049109118477855,
          0.3240623129242653,
          0.32252520411316293,
          0.6361740604413509,
          0.5856747696765557,
          0.6226742346844208,
          0.5375452592342863,
          0.5585513246894254,
          0.4086400412095845,
          0.37805167940201173,
          0.3109240363211608,
          0.32362132006445576,
          0.30059591616998094,
          0.29977282714535447,
          0.44538426664290715,
          0.4572470529610838,
          0.43341335689724214,
          0.4205604897767487,
          0.3341145488155799,
          0.3869806444174581,
          0.4194220989506928,
          0.4379344543824016,
          0.44899915429474474,
          0.38775352238704197,
          0.35677808122515353,
          0.32731125607401934,
          0.3013011344629921,
          0.28464024145093647,
          0.3961689845873869,
          0.5117696483401806,
          0.5778321394957389,
          0.44533253458012406,
          0.4253743694858896,
          0.7071267711187343,
          0.7290369355149845,
          0.7352381953749534,
          0.7135955831847927,
          0.744747384894419,
          0.7080346376466282,
          0.627792872499947,
          0.6132230878085516,
          0.621028861732269,
          0.6228630418709405,
          0.6473678430601039,
          0.6542982575540889,
          0.6403485797842052,
          0.21000796205506056,
          0.6467911312324469,
          0.5983971320465484,
          0.412158264541734,
          0.3956175242953937,
          0.4114045319760403,
          0.0921920124639003,
          0.0921920124639003,
          2.7755575615628914e-17,
          0.0016534391534391818,
          0.0016534391534391818,
          0.0016534391534391818,
          0.0016534391534391818,
          2.7755575615628914e-17,
          0.09449407025879261,
          0.10286879759199036,
          0.10302450156086931,
          0.10136153695454671,
          0.06438131530562657,
          0.04227135172481418,
          0.07392015398952784,
          0.07555592712966169,
          0.09047486979286191,
          0.060390688715224086,
          0.052754086967674724,
          0.045223795221251334,
          0.553870405475471,
          0.5752794273811264,
          0.5479053807255532,
          0.6078701607950878,
          0.5716657787573725,
          0.4918879889956489,
          0.34523862790639664,
          0.340775812006108,
          0.3364711589680418,
          0.3200485614742577,
          0.32616720433624125,
          0.31985407804889554,
          0.42870272984391955,
          0.45889723730942583,
          0.44121544011692526,
          0.43691379877692044,
          0.4766839955587891,
          0.423025911477818,
          0.5275715807143703,
          0.5238282442128619,
          0.5519678889596495,
          0.5613977257228404,
          0.5606067361355895,
          0.5357198290702487,
          0.526423081563052,
          0.5093948977603474,
          0.49514290728486565,
          0.5221618735647933,
          0.553241570946705,
          0.5378746087631986,
          0.5221461692738595,
          0.5309138476751278,
          0.565136085808005,
          0.6479376812029845,
          0.5215795408146764,
          0.5235190750862763,
          0.46764885455076644,
          0.49005187495659097,
          0.45669768250609594,
          0.4985624469813135,
          0.3042148268210931,
          0.35091613642102,
          0.36152952596682986,
          0.3884442428243465,
          0.37626426307616306,
          0.414002843100415,
          0.4247787030661281,
          0.45192162530375307,
          0.46856962067779917,
          0.4509354033477317,
          0.43628456240967883,
          0.42898057001413564,
          0.4042612763308145,
          0.4193907614022397,
          0.4243216407999587,
          0.441484130154769,
          0.4351064178406872,
          0.5183889835663855,
          0.5334116627353057,
          0.5500379148902688,
          0.49581691313427356,
          0.6686818703586311,
          0.5913039190272875,
          0.2756695313607231,
          0.2577171324170437,
          0.23320997771396423,
          0.20855827814729494,
          0.2148752340741355,
          0.21549990191142826,
          0.411797248066465,
          0.4489145550655239,
          0.456747745877523,
          0.4332450043769408,
          0.37694763647203233,
          0.34835299757985955,
          0.1962087621994884,
          0.07007760466130121,
          5.551115123125783e-17,
          0.5286092766356013,
          0.4003180499136789,
          0.6253640045259018,
          0.3192930572457815,
          0.39836101356037107,
          0.33603218152471614,
          0.007992995203123531,
          0.01818224882126874,
          0.0189552807301566,
          0.4839540005686895,
          0.44829191370333804,
          0.4114244791033846,
          0.41987260318854036,
          0.42651546292301623,
          0.4754230880861302,
          0.3038455348691139,
          0.5837373851595222,
          0.5702332229827526,
          0.5347389201218316,
          0.5020092241974188,
          0.4519525831803129,
          0.4466584809889064,
          0.3290819363451266,
          0.30251099866701303,
          0.46894333545946076,
          0.49675129557205777,
          0.4841116310537481,
          0.4646457401468503,
          0.47679485553380085,
          0.4501293567303014,
          0.457719234001826,
          0.4270572897900732,
          0.450391908410386,
          0.41203904349557513,
          0.41201478450053114,
          0.4668126204316958,
          0.4740906866311212,
          0.4322455552331246,
          0.4557905649517275,
          0.4566864857022072,
          0.4563924265957754,
          0.4592381421783636,
          0.3612307748937271,
          0.4566200932231133,
          0.4709435055696884,
          0.4460557974007136,
          0.4779136390746458,
          0.5623098117351727,
          0.5380753123068699,
          0.8845799978019757,
          0.8942714868223502,
          0.49839377495299364,
          0.5159450256477627,
          0.4945388809136868,
          0.46108728969687357,
          0.483918371808722,
          0.49094762854591245,
          0.3831089745296073,
          0.3366034529369142,
          0.3137408706307649,
          0.31000941600862547,
          0.30767484692631936,
          0.3018058885113212,
          0.3075070335042327,
          0.31118429766227224,
          0.2900070614240021,
          0.29164228346898824,
          0.5920689830396757,
          0.5865431797642058,
          0.5416160375666859,
          0.5452487794820323,
          0.5376691818289479,
          0.5472553288082946,
          0.5919237694442737,
          0.5620565759941595,
          0.5629583460504293,
          0.587906765459414,
          0.6277527576416596,
          0.6368994835608331,
          0.7288019369745867,
          0.7005465444770735,
          0.6165249492355379,
          0.5331803983197241,
          0.4614734846733694,
          0.526098839564823,
          0.5223904767246037,
          0.49954999510443576,
          0.48156582782082247,
          0.5267835451866136,
          0.566740675183274,
          0.5736151352066194,
          0.574699964125557,
          0.6231648713731348,
          0.41381597159730116,
          0.4417994468424927,
          0.4477964623019173,
          0.6205724095836306,
          0.6414332898291365,
          0.6635605344980479,
          0.3799530353164175,
          0.41379562161460703,
          0.37992956513227333,
          0.31873251527008195,
          0.300133500408695,
          0.3415932781819974,
          0.4172262732379433,
          0.3778100532314635,
          0.41572422948277754,
          0.4420525693530037,
          0.4228225443530986,
          0.4475402555208378,
          0.4250280727478033,
          0.27791210432035945,
          0.3855024932732208,
          0.3831466396913107,
          0.30935237561888057,
          0.3516653783179663,
          0.4047598127223452,
          0.3870434258739598,
          0.39273971164837057,
          0.3682840317907925,
          0.4357613523607234,
          0.4526934849879466,
          0.4404500185185185,
          0.3943129814814815,
          0.3034664267029098,
          0.6482058543811947,
          0.7663490374805237,
          0.7287629628936048,
          0.7710888621527375,
          0.8406869898094316,
          0.4503758580923228,
          0.45103635994023217,
          0.4314831755508463,
          0.398453059419826,
          0.4506010053598809,
          0.46279545429858976,
          11.186460677972896,
          11.705558649848825,
          11.711905116160121,
          0.07936057318490336,
          0.1143389890235845,
          0.13194992916867707,
          0.13876598615559702,
          0.1689019988979149,
          0.16698821120799945,
          0.22241672290382353,
          0.2646290344897493,
          0.30637254053692065,
          0.33505063879531044
         ],
         "xaxis": "x",
         "yaxis": "y"
        }
       ],
       "layout": {
        "barmode": "relative",
        "legend": {
         "title": {
          "text": "variable"
         },
         "tracegroupgap": 0
        },
        "margin": {
         "t": 60
        },
        "template": {
         "data": {
          "bar": [
           {
            "error_x": {
             "color": "#2a3f5f"
            },
            "error_y": {
             "color": "#2a3f5f"
            },
            "marker": {
             "line": {
              "color": "#E5ECF6",
              "width": 0.5
             },
             "pattern": {
              "fillmode": "overlay",
              "size": 10,
              "solidity": 0.2
             }
            },
            "type": "bar"
           }
          ],
          "barpolar": [
           {
            "marker": {
             "line": {
              "color": "#E5ECF6",
              "width": 0.5
             },
             "pattern": {
              "fillmode": "overlay",
              "size": 10,
              "solidity": 0.2
             }
            },
            "type": "barpolar"
           }
          ],
          "carpet": [
           {
            "aaxis": {
             "endlinecolor": "#2a3f5f",
             "gridcolor": "white",
             "linecolor": "white",
             "minorgridcolor": "white",
             "startlinecolor": "#2a3f5f"
            },
            "baxis": {
             "endlinecolor": "#2a3f5f",
             "gridcolor": "white",
             "linecolor": "white",
             "minorgridcolor": "white",
             "startlinecolor": "#2a3f5f"
            },
            "type": "carpet"
           }
          ],
          "choropleth": [
           {
            "colorbar": {
             "outlinewidth": 0,
             "ticks": ""
            },
            "type": "choropleth"
           }
          ],
          "contour": [
           {
            "colorbar": {
             "outlinewidth": 0,
             "ticks": ""
            },
            "colorscale": [
             [
              0,
              "#0d0887"
             ],
             [
              0.1111111111111111,
              "#46039f"
             ],
             [
              0.2222222222222222,
              "#7201a8"
             ],
             [
              0.3333333333333333,
              "#9c179e"
             ],
             [
              0.4444444444444444,
              "#bd3786"
             ],
             [
              0.5555555555555556,
              "#d8576b"
             ],
             [
              0.6666666666666666,
              "#ed7953"
             ],
             [
              0.7777777777777778,
              "#fb9f3a"
             ],
             [
              0.8888888888888888,
              "#fdca26"
             ],
             [
              1,
              "#f0f921"
             ]
            ],
            "type": "contour"
           }
          ],
          "contourcarpet": [
           {
            "colorbar": {
             "outlinewidth": 0,
             "ticks": ""
            },
            "type": "contourcarpet"
           }
          ],
          "heatmap": [
           {
            "colorbar": {
             "outlinewidth": 0,
             "ticks": ""
            },
            "colorscale": [
             [
              0,
              "#0d0887"
             ],
             [
              0.1111111111111111,
              "#46039f"
             ],
             [
              0.2222222222222222,
              "#7201a8"
             ],
             [
              0.3333333333333333,
              "#9c179e"
             ],
             [
              0.4444444444444444,
              "#bd3786"
             ],
             [
              0.5555555555555556,
              "#d8576b"
             ],
             [
              0.6666666666666666,
              "#ed7953"
             ],
             [
              0.7777777777777778,
              "#fb9f3a"
             ],
             [
              0.8888888888888888,
              "#fdca26"
             ],
             [
              1,
              "#f0f921"
             ]
            ],
            "type": "heatmap"
           }
          ],
          "heatmapgl": [
           {
            "colorbar": {
             "outlinewidth": 0,
             "ticks": ""
            },
            "colorscale": [
             [
              0,
              "#0d0887"
             ],
             [
              0.1111111111111111,
              "#46039f"
             ],
             [
              0.2222222222222222,
              "#7201a8"
             ],
             [
              0.3333333333333333,
              "#9c179e"
             ],
             [
              0.4444444444444444,
              "#bd3786"
             ],
             [
              0.5555555555555556,
              "#d8576b"
             ],
             [
              0.6666666666666666,
              "#ed7953"
             ],
             [
              0.7777777777777778,
              "#fb9f3a"
             ],
             [
              0.8888888888888888,
              "#fdca26"
             ],
             [
              1,
              "#f0f921"
             ]
            ],
            "type": "heatmapgl"
           }
          ],
          "histogram": [
           {
            "marker": {
             "pattern": {
              "fillmode": "overlay",
              "size": 10,
              "solidity": 0.2
             }
            },
            "type": "histogram"
           }
          ],
          "histogram2d": [
           {
            "colorbar": {
             "outlinewidth": 0,
             "ticks": ""
            },
            "colorscale": [
             [
              0,
              "#0d0887"
             ],
             [
              0.1111111111111111,
              "#46039f"
             ],
             [
              0.2222222222222222,
              "#7201a8"
             ],
             [
              0.3333333333333333,
              "#9c179e"
             ],
             [
              0.4444444444444444,
              "#bd3786"
             ],
             [
              0.5555555555555556,
              "#d8576b"
             ],
             [
              0.6666666666666666,
              "#ed7953"
             ],
             [
              0.7777777777777778,
              "#fb9f3a"
             ],
             [
              0.8888888888888888,
              "#fdca26"
             ],
             [
              1,
              "#f0f921"
             ]
            ],
            "type": "histogram2d"
           }
          ],
          "histogram2dcontour": [
           {
            "colorbar": {
             "outlinewidth": 0,
             "ticks": ""
            },
            "colorscale": [
             [
              0,
              "#0d0887"
             ],
             [
              0.1111111111111111,
              "#46039f"
             ],
             [
              0.2222222222222222,
              "#7201a8"
             ],
             [
              0.3333333333333333,
              "#9c179e"
             ],
             [
              0.4444444444444444,
              "#bd3786"
             ],
             [
              0.5555555555555556,
              "#d8576b"
             ],
             [
              0.6666666666666666,
              "#ed7953"
             ],
             [
              0.7777777777777778,
              "#fb9f3a"
             ],
             [
              0.8888888888888888,
              "#fdca26"
             ],
             [
              1,
              "#f0f921"
             ]
            ],
            "type": "histogram2dcontour"
           }
          ],
          "mesh3d": [
           {
            "colorbar": {
             "outlinewidth": 0,
             "ticks": ""
            },
            "type": "mesh3d"
           }
          ],
          "parcoords": [
           {
            "line": {
             "colorbar": {
              "outlinewidth": 0,
              "ticks": ""
             }
            },
            "type": "parcoords"
           }
          ],
          "pie": [
           {
            "automargin": true,
            "type": "pie"
           }
          ],
          "scatter": [
           {
            "marker": {
             "colorbar": {
              "outlinewidth": 0,
              "ticks": ""
             }
            },
            "type": "scatter"
           }
          ],
          "scatter3d": [
           {
            "line": {
             "colorbar": {
              "outlinewidth": 0,
              "ticks": ""
             }
            },
            "marker": {
             "colorbar": {
              "outlinewidth": 0,
              "ticks": ""
             }
            },
            "type": "scatter3d"
           }
          ],
          "scattercarpet": [
           {
            "marker": {
             "colorbar": {
              "outlinewidth": 0,
              "ticks": ""
             }
            },
            "type": "scattercarpet"
           }
          ],
          "scattergeo": [
           {
            "marker": {
             "colorbar": {
              "outlinewidth": 0,
              "ticks": ""
             }
            },
            "type": "scattergeo"
           }
          ],
          "scattergl": [
           {
            "marker": {
             "colorbar": {
              "outlinewidth": 0,
              "ticks": ""
             }
            },
            "type": "scattergl"
           }
          ],
          "scattermapbox": [
           {
            "marker": {
             "colorbar": {
              "outlinewidth": 0,
              "ticks": ""
             }
            },
            "type": "scattermapbox"
           }
          ],
          "scatterpolar": [
           {
            "marker": {
             "colorbar": {
              "outlinewidth": 0,
              "ticks": ""
             }
            },
            "type": "scatterpolar"
           }
          ],
          "scatterpolargl": [
           {
            "marker": {
             "colorbar": {
              "outlinewidth": 0,
              "ticks": ""
             }
            },
            "type": "scatterpolargl"
           }
          ],
          "scatterternary": [
           {
            "marker": {
             "colorbar": {
              "outlinewidth": 0,
              "ticks": ""
             }
            },
            "type": "scatterternary"
           }
          ],
          "surface": [
           {
            "colorbar": {
             "outlinewidth": 0,
             "ticks": ""
            },
            "colorscale": [
             [
              0,
              "#0d0887"
             ],
             [
              0.1111111111111111,
              "#46039f"
             ],
             [
              0.2222222222222222,
              "#7201a8"
             ],
             [
              0.3333333333333333,
              "#9c179e"
             ],
             [
              0.4444444444444444,
              "#bd3786"
             ],
             [
              0.5555555555555556,
              "#d8576b"
             ],
             [
              0.6666666666666666,
              "#ed7953"
             ],
             [
              0.7777777777777778,
              "#fb9f3a"
             ],
             [
              0.8888888888888888,
              "#fdca26"
             ],
             [
              1,
              "#f0f921"
             ]
            ],
            "type": "surface"
           }
          ],
          "table": [
           {
            "cells": {
             "fill": {
              "color": "#EBF0F8"
             },
             "line": {
              "color": "white"
             }
            },
            "header": {
             "fill": {
              "color": "#C8D4E3"
             },
             "line": {
              "color": "white"
             }
            },
            "type": "table"
           }
          ]
         },
         "layout": {
          "annotationdefaults": {
           "arrowcolor": "#2a3f5f",
           "arrowhead": 0,
           "arrowwidth": 1
          },
          "autotypenumbers": "strict",
          "coloraxis": {
           "colorbar": {
            "outlinewidth": 0,
            "ticks": ""
           }
          },
          "colorscale": {
           "diverging": [
            [
             0,
             "#8e0152"
            ],
            [
             0.1,
             "#c51b7d"
            ],
            [
             0.2,
             "#de77ae"
            ],
            [
             0.3,
             "#f1b6da"
            ],
            [
             0.4,
             "#fde0ef"
            ],
            [
             0.5,
             "#f7f7f7"
            ],
            [
             0.6,
             "#e6f5d0"
            ],
            [
             0.7,
             "#b8e186"
            ],
            [
             0.8,
             "#7fbc41"
            ],
            [
             0.9,
             "#4d9221"
            ],
            [
             1,
             "#276419"
            ]
           ],
           "sequential": [
            [
             0,
             "#0d0887"
            ],
            [
             0.1111111111111111,
             "#46039f"
            ],
            [
             0.2222222222222222,
             "#7201a8"
            ],
            [
             0.3333333333333333,
             "#9c179e"
            ],
            [
             0.4444444444444444,
             "#bd3786"
            ],
            [
             0.5555555555555556,
             "#d8576b"
            ],
            [
             0.6666666666666666,
             "#ed7953"
            ],
            [
             0.7777777777777778,
             "#fb9f3a"
            ],
            [
             0.8888888888888888,
             "#fdca26"
            ],
            [
             1,
             "#f0f921"
            ]
           ],
           "sequentialminus": [
            [
             0,
             "#0d0887"
            ],
            [
             0.1111111111111111,
             "#46039f"
            ],
            [
             0.2222222222222222,
             "#7201a8"
            ],
            [
             0.3333333333333333,
             "#9c179e"
            ],
            [
             0.4444444444444444,
             "#bd3786"
            ],
            [
             0.5555555555555556,
             "#d8576b"
            ],
            [
             0.6666666666666666,
             "#ed7953"
            ],
            [
             0.7777777777777778,
             "#fb9f3a"
            ],
            [
             0.8888888888888888,
             "#fdca26"
            ],
            [
             1,
             "#f0f921"
            ]
           ]
          },
          "colorway": [
           "#636efa",
           "#EF553B",
           "#00cc96",
           "#ab63fa",
           "#FFA15A",
           "#19d3f3",
           "#FF6692",
           "#B6E880",
           "#FF97FF",
           "#FECB52"
          ],
          "font": {
           "color": "#2a3f5f"
          },
          "geo": {
           "bgcolor": "white",
           "lakecolor": "white",
           "landcolor": "#E5ECF6",
           "showlakes": true,
           "showland": true,
           "subunitcolor": "white"
          },
          "hoverlabel": {
           "align": "left"
          },
          "hovermode": "closest",
          "mapbox": {
           "style": "light"
          },
          "paper_bgcolor": "white",
          "plot_bgcolor": "#E5ECF6",
          "polar": {
           "angularaxis": {
            "gridcolor": "white",
            "linecolor": "white",
            "ticks": ""
           },
           "bgcolor": "#E5ECF6",
           "radialaxis": {
            "gridcolor": "white",
            "linecolor": "white",
            "ticks": ""
           }
          },
          "scene": {
           "xaxis": {
            "backgroundcolor": "#E5ECF6",
            "gridcolor": "white",
            "gridwidth": 2,
            "linecolor": "white",
            "showbackground": true,
            "ticks": "",
            "zerolinecolor": "white"
           },
           "yaxis": {
            "backgroundcolor": "#E5ECF6",
            "gridcolor": "white",
            "gridwidth": 2,
            "linecolor": "white",
            "showbackground": true,
            "ticks": "",
            "zerolinecolor": "white"
           },
           "zaxis": {
            "backgroundcolor": "#E5ECF6",
            "gridcolor": "white",
            "gridwidth": 2,
            "linecolor": "white",
            "showbackground": true,
            "ticks": "",
            "zerolinecolor": "white"
           }
          },
          "shapedefaults": {
           "line": {
            "color": "#2a3f5f"
           }
          },
          "ternary": {
           "aaxis": {
            "gridcolor": "white",
            "linecolor": "white",
            "ticks": ""
           },
           "baxis": {
            "gridcolor": "white",
            "linecolor": "white",
            "ticks": ""
           },
           "bgcolor": "#E5ECF6",
           "caxis": {
            "gridcolor": "white",
            "linecolor": "white",
            "ticks": ""
           }
          },
          "title": {
           "x": 0.05
          },
          "xaxis": {
           "automargin": true,
           "gridcolor": "white",
           "linecolor": "white",
           "ticks": "",
           "title": {
            "standoff": 15
           },
           "zerolinecolor": "white",
           "zerolinewidth": 2
          },
          "yaxis": {
           "automargin": true,
           "gridcolor": "white",
           "linecolor": "white",
           "ticks": "",
           "title": {
            "standoff": 15
           },
           "zerolinecolor": "white",
           "zerolinewidth": 2
          }
         }
        },
        "xaxis": {
         "anchor": "y",
         "domain": [
          0,
          1
         ],
         "title": {
          "text": "value"
         }
        },
        "yaxis": {
         "anchor": "x",
         "domain": [
          0,
          1
         ],
         "title": {
          "text": "count"
         }
        }
       }
      }
     },
     "metadata": {},
     "output_type": "display_data"
    }
   ],
   "source": [
    "import seaborn as sns\n",
    "\n",
    "# sns.displot(rolling_avg[rolling_avg['OEE %'] < 4].dropna(subset=['OEE %'])['OEE %'])\n",
    "fig = px.histogram(rolling_avg[rolling_avg['OEE %'] < 12].dropna(subset=['OEE %'])['OEE %'])\n",
    "fig.show()"
   ]
  },
  {
   "cell_type": "code",
   "execution_count": 74,
   "metadata": {},
   "outputs": [
    {
     "data": {
      "text/plain": [
       "array([   1,    2,    3, ..., 8914, 8915, 8916])"
      ]
     },
     "execution_count": 74,
     "metadata": {},
     "output_type": "execute_result"
    }
   ],
   "source": [
    "np.arange(1,len(plants)+1)"
   ]
  },
  {
   "cell_type": "code",
   "execution_count": 77,
   "metadata": {},
   "outputs": [
    {
     "data": {
      "text/plain": [
       "Text(0, 0.5, 'Availability')"
      ]
     },
     "execution_count": 77,
     "metadata": {},
     "output_type": "execute_result"
    },
    {
     "data": {
      "image/png": "[encoded data removed]",
      "text/plain": [
       "<Figure size 1000x800 with 2 Axes>"
      ]
     },
     "metadata": {
      "needs_background": "light"
     },
     "output_type": "display_data"
    }
   ],
   "source": [
    "x = rolling_avg['OEE %'][rolling_avg['OEE %']]\n",
    "y = rolling_avg['Availability %']\n",
    "plants = (rolling_avg['Line'].str[:3])\n",
    "color = np.arange(1,len(plants)+1)\n",
    "\n",
    "plt.scatter(x, y)\n",
    "plt.rcParams.update({'figure.figsize':(10,8), 'figure.dpi':100})\n",
    "plt.title('Availability vs OEE')\n",
    "plt.scatter(x, y, c=color, cmap='Spectral')\n",
    "plt.colorbar()\n",
    "plt.xlabel('OEE %')\n",
    "plt.ylabel('Availability')"
   ]
  },
  {
   "cell_type": "code",
   "execution_count": null,
   "metadata": {},
   "outputs": [],
   "source": []
  }
 ],
 "metadata": {
  "interpreter": {
   "hash": "dc38ca91b741400ca81ff193f73ec074f6545a5dbac62412cc25190e340b3fbc"
  },
  "kernelspec": {
   "display_name": "Python 3",
   "language": "python",
   "name": "python3"
  },
  "language_info": {
   "codemirror_mode": {
    "name": "ipython",
    "version": 3
   },
   "file_extension": ".py",
   "mimetype": "text/x-python",
   "name": "python",
   "nbconvert_exporter": "python",
   "pygments_lexer": "ipython3",
   "version": "3.8.8"
  }
 },
 "nbformat": 4,
 "nbformat_minor": 2
}
