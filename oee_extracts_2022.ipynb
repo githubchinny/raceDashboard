{
 "cells": [
  {
   "cell_type": "markdown",
   "metadata": {},
   "source": [
    "# OEE Extracts 2022\n",
    "\n",
    "Extract ALL sites recording data in QlikSense and report their Availability % and Performance %.\n",
    "\n",
    "Used a start date of 2021-11-01 and dropped any sites recorded null OEE values, as some sites are in QliKSense but not actively recording eOEE."
   ]
  },
  {
   "cell_type": "code",
   "execution_count": 33,
   "metadata": {},
   "outputs": [],
   "source": [
    "import pandas as pd\n",
    "import numpy as np\n",
    "\n",
    "# data viz\n",
    "import plotly.express as px\n",
    "import matplotlib.pyplot as plt\n",
    "import plotly.graph_objects as go\n",
    "\n",
    "plt.style.use('fivethirtyeight')\n",
    "\n",
    "import os\n",
    "import datetime\n",
    "\n",
    "import set_config"
   ]
  },
  {
   "cell_type": "code",
   "execution_count": 34,
   "metadata": {},
   "outputs": [],
   "source": [
    "filename = 'oee_extracts_all_sites2.xlsx'\n",
    "dir = 'C:/Users/mark_/Sanofi/Sanofi x McLaren sharing - General/Data Analysis'\n",
    "path = os.path.join(dir, filename)\n",
    "df = pd.read_excel(path, na_values=('-'))"
   ]
  },
  {
   "cell_type": "markdown",
   "metadata": {},
   "source": [
    "Drop rows with null Week "
   ]
  },
  {
   "cell_type": "code",
   "execution_count": 35,
   "metadata": {},
   "outputs": [],
   "source": [
    "df.dropna(subset={'Week'}, inplace=True)\n",
    "df[['OEE %','Changeover','Availability %','Performance %', 'Quality %']] = df[['OEE %','Changeover','Availability %','Performance %', 'Quality %']].mul(100)"
   ]
  },
  {
   "cell_type": "markdown",
   "metadata": {},
   "source": [
    "Create a real data from the week number"
   ]
  },
  {
   "cell_type": "code",
   "execution_count": 36,
   "metadata": {},
   "outputs": [
    {
     "data": {
      "text/html": [
       "<div>\n",
       "<style scoped>\n",
       "    .dataframe tbody tr th:only-of-type {\n",
       "        vertical-align: middle;\n",
       "    }\n",
       "\n",
       "    .dataframe tbody tr th {\n",
       "        vertical-align: top;\n",
       "    }\n",
       "\n",
       "    .dataframe thead th {\n",
       "        text-align: right;\n",
       "    }\n",
       "</style>\n",
       "<table border=\"1\" class=\"dataframe\">\n",
       "  <thead>\n",
       "    <tr style=\"text-align: right;\">\n",
       "      <th></th>\n",
       "      <th>Week</th>\n",
       "      <th>Line</th>\n",
       "      <th>OEE %</th>\n",
       "      <th>Changeover</th>\n",
       "      <th>Unplanned_tech_loss</th>\n",
       "      <th>Availability %</th>\n",
       "      <th>Performance %</th>\n",
       "      <th>Quality %</th>\n",
       "      <th>Net Time</th>\n",
       "      <th>Net Opening Time</th>\n",
       "      <th>Scheduled Down Time</th>\n",
       "      <th>Useful Time</th>\n",
       "      <th>Operating Time</th>\n",
       "      <th>Duration (min)</th>\n",
       "      <th>WeekOfYear</th>\n",
       "      <th>Year</th>\n",
       "      <th>Date</th>\n",
       "    </tr>\n",
       "  </thead>\n",
       "  <tbody>\n",
       "    <tr>\n",
       "      <th>33</th>\n",
       "      <td>W01-2021</td>\n",
       "      <td>FRA - FF NLP, M18 Filling</td>\n",
       "      <td>NaN</td>\n",
       "      <td>NaN</td>\n",
       "      <td>NaN</td>\n",
       "      <td>NaN</td>\n",
       "      <td>NaN</td>\n",
       "      <td>NaN</td>\n",
       "      <td>00:00:00</td>\n",
       "      <td>0.000000</td>\n",
       "      <td>168.000000</td>\n",
       "      <td>00:00:00</td>\n",
       "      <td>00:00:00</td>\n",
       "      <td>0.000000</td>\n",
       "      <td>1</td>\n",
       "      <td>2021</td>\n",
       "      <td>2021-01-10</td>\n",
       "    </tr>\n",
       "    <tr>\n",
       "      <th>34</th>\n",
       "      <td>W01-2021</td>\n",
       "      <td>FRA - FF NLP, M18 Inspection</td>\n",
       "      <td>7.649363</td>\n",
       "      <td>10.990661</td>\n",
       "      <td>0.057656</td>\n",
       "      <td>82.255787</td>\n",
       "      <td>9.299483</td>\n",
       "      <td>100.0</td>\n",
       "      <td>02:32:36.364000</td>\n",
       "      <td>33.250278</td>\n",
       "      <td>134.749722</td>\n",
       "      <td>02:32:36.364000</td>\n",
       "      <td>1900-01-01 03:21:01</td>\n",
       "      <td>354.000000</td>\n",
       "      <td>1</td>\n",
       "      <td>2021</td>\n",
       "      <td>2021-01-10</td>\n",
       "    </tr>\n",
       "    <tr>\n",
       "      <th>35</th>\n",
       "      <td>W01-2021</td>\n",
       "      <td>FRA - FF NLP, M21 Filling</td>\n",
       "      <td>31.774697</td>\n",
       "      <td>68.696543</td>\n",
       "      <td>0.082621</td>\n",
       "      <td>25.603870</td>\n",
       "      <td>124.101148</td>\n",
       "      <td>100.0</td>\n",
       "      <td>15:15:07.312000</td>\n",
       "      <td>48.000556</td>\n",
       "      <td>119.999444</td>\n",
       "      <td>15:15:07.312000</td>\n",
       "      <td>12:17:24</td>\n",
       "      <td>2142.633333</td>\n",
       "      <td>1</td>\n",
       "      <td>2021</td>\n",
       "      <td>2021-01-10</td>\n",
       "    </tr>\n",
       "    <tr>\n",
       "      <th>36</th>\n",
       "      <td>W01-2021</td>\n",
       "      <td>FRA - FF NLP, M21 Inspection</td>\n",
       "      <td>12.904944</td>\n",
       "      <td>0.000000</td>\n",
       "      <td>0.100696</td>\n",
       "      <td>90.655838</td>\n",
       "      <td>14.235095</td>\n",
       "      <td>100.0</td>\n",
       "      <td>14:02:10.600000</td>\n",
       "      <td>108.766667</td>\n",
       "      <td>59.233333</td>\n",
       "      <td>14:02:10.600000</td>\n",
       "      <td>1900-01-04 02:36:12</td>\n",
       "      <td>609.800000</td>\n",
       "      <td>1</td>\n",
       "      <td>2021</td>\n",
       "      <td>2021-01-10</td>\n",
       "    </tr>\n",
       "    <tr>\n",
       "      <th>37</th>\n",
       "      <td>W01-2021</td>\n",
       "      <td>FRA - FF NLP, M22 Filling</td>\n",
       "      <td>0.001215</td>\n",
       "      <td>99.999421</td>\n",
       "      <td>0.000000</td>\n",
       "      <td>0.000579</td>\n",
       "      <td>210.000000</td>\n",
       "      <td>100.0</td>\n",
       "      <td>00:00:02.100000</td>\n",
       "      <td>48.000556</td>\n",
       "      <td>119.999444</td>\n",
       "      <td>00:00:02.100000</td>\n",
       "      <td>00:00:01</td>\n",
       "      <td>2880.016667</td>\n",
       "      <td>1</td>\n",
       "      <td>2021</td>\n",
       "      <td>2021-01-10</td>\n",
       "    </tr>\n",
       "  </tbody>\n",
       "</table>\n",
       "</div>"
      ],
      "text/plain": [
       "        Week                          Line      OEE %  Changeover  \\\n",
       "33  W01-2021     FRA - FF NLP, M18 Filling        NaN         NaN   \n",
       "34  W01-2021  FRA - FF NLP, M18 Inspection   7.649363   10.990661   \n",
       "35  W01-2021     FRA - FF NLP, M21 Filling  31.774697   68.696543   \n",
       "36  W01-2021  FRA - FF NLP, M21 Inspection  12.904944    0.000000   \n",
       "37  W01-2021     FRA - FF NLP, M22 Filling   0.001215   99.999421   \n",
       "\n",
       "    Unplanned_tech_loss  Availability %  Performance %  Quality %  \\\n",
       "33                  NaN             NaN            NaN        NaN   \n",
       "34             0.057656       82.255787       9.299483      100.0   \n",
       "35             0.082621       25.603870     124.101148      100.0   \n",
       "36             0.100696       90.655838      14.235095      100.0   \n",
       "37             0.000000        0.000579     210.000000      100.0   \n",
       "\n",
       "           Net Time  Net Opening Time  Scheduled Down Time      Useful Time  \\\n",
       "33         00:00:00          0.000000           168.000000         00:00:00   \n",
       "34  02:32:36.364000         33.250278           134.749722  02:32:36.364000   \n",
       "35  15:15:07.312000         48.000556           119.999444  15:15:07.312000   \n",
       "36  14:02:10.600000        108.766667            59.233333  14:02:10.600000   \n",
       "37  00:00:02.100000         48.000556           119.999444  00:00:02.100000   \n",
       "\n",
       "         Operating Time  Duration (min)  WeekOfYear  Year       Date  \n",
       "33             00:00:00        0.000000           1  2021 2021-01-10  \n",
       "34  1900-01-01 03:21:01      354.000000           1  2021 2021-01-10  \n",
       "35             12:17:24     2142.633333           1  2021 2021-01-10  \n",
       "36  1900-01-04 02:36:12      609.800000           1  2021 2021-01-10  \n",
       "37             00:00:01     2880.016667           1  2021 2021-01-10  "
      ]
     },
     "execution_count": 36,
     "metadata": {},
     "output_type": "execute_result"
    }
   ],
   "source": [
    "df['WeekOfYear'] = pd.to_numeric(df['Week'].str[1:3])\n",
    "df['Year'] = pd.to_numeric(df['Week'].str[4:])\n",
    "dates = df.Year*100+df.WeekOfYear\n",
    "df['Date'] = pd.to_datetime(dates.astype(str) + '0', format='%Y%W%w')\n",
    "df.head()"
   ]
  },
  {
   "cell_type": "markdown",
   "metadata": {},
   "source": [
    "Drop null WeekOfYear because the data obviously isn't valid"
   ]
  },
  {
   "cell_type": "code",
   "execution_count": 37,
   "metadata": {},
   "outputs": [
    {
     "data": {
      "text/html": [
       "<div>\n",
       "<style scoped>\n",
       "    .dataframe tbody tr th:only-of-type {\n",
       "        vertical-align: middle;\n",
       "    }\n",
       "\n",
       "    .dataframe tbody tr th {\n",
       "        vertical-align: top;\n",
       "    }\n",
       "\n",
       "    .dataframe thead th {\n",
       "        text-align: right;\n",
       "    }\n",
       "</style>\n",
       "<table border=\"1\" class=\"dataframe\">\n",
       "  <thead>\n",
       "    <tr style=\"text-align: right;\">\n",
       "      <th></th>\n",
       "      <th>Week</th>\n",
       "      <th>Line</th>\n",
       "      <th>OEE %</th>\n",
       "      <th>Changeover</th>\n",
       "      <th>Unplanned_tech_loss</th>\n",
       "      <th>Availability %</th>\n",
       "      <th>Performance %</th>\n",
       "      <th>Quality %</th>\n",
       "      <th>Net Time</th>\n",
       "      <th>Net Opening Time</th>\n",
       "      <th>Scheduled Down Time</th>\n",
       "      <th>Useful Time</th>\n",
       "      <th>Operating Time</th>\n",
       "      <th>Duration (min)</th>\n",
       "      <th>WeekOfYear</th>\n",
       "      <th>Year</th>\n",
       "      <th>Date</th>\n",
       "    </tr>\n",
       "  </thead>\n",
       "  <tbody>\n",
       "    <tr>\n",
       "      <th>33</th>\n",
       "      <td>W01-2021</td>\n",
       "      <td>FRA - FF NLP, M18 Filling</td>\n",
       "      <td>NaN</td>\n",
       "      <td>NaN</td>\n",
       "      <td>NaN</td>\n",
       "      <td>NaN</td>\n",
       "      <td>NaN</td>\n",
       "      <td>NaN</td>\n",
       "      <td>00:00:00</td>\n",
       "      <td>0.000000</td>\n",
       "      <td>168.000000</td>\n",
       "      <td>00:00:00</td>\n",
       "      <td>00:00:00</td>\n",
       "      <td>0.000000</td>\n",
       "      <td>1</td>\n",
       "      <td>2021</td>\n",
       "      <td>2021-01-10</td>\n",
       "    </tr>\n",
       "    <tr>\n",
       "      <th>34</th>\n",
       "      <td>W01-2021</td>\n",
       "      <td>FRA - FF NLP, M18 Inspection</td>\n",
       "      <td>7.649363</td>\n",
       "      <td>10.990661</td>\n",
       "      <td>0.057656</td>\n",
       "      <td>82.255787</td>\n",
       "      <td>9.299483</td>\n",
       "      <td>100.0</td>\n",
       "      <td>02:32:36.364000</td>\n",
       "      <td>33.250278</td>\n",
       "      <td>134.749722</td>\n",
       "      <td>02:32:36.364000</td>\n",
       "      <td>1900-01-01 03:21:01</td>\n",
       "      <td>354.000000</td>\n",
       "      <td>1</td>\n",
       "      <td>2021</td>\n",
       "      <td>2021-01-10</td>\n",
       "    </tr>\n",
       "    <tr>\n",
       "      <th>35</th>\n",
       "      <td>W01-2021</td>\n",
       "      <td>FRA - FF NLP, M21 Filling</td>\n",
       "      <td>31.774697</td>\n",
       "      <td>68.696543</td>\n",
       "      <td>0.082621</td>\n",
       "      <td>25.603870</td>\n",
       "      <td>124.101148</td>\n",
       "      <td>100.0</td>\n",
       "      <td>15:15:07.312000</td>\n",
       "      <td>48.000556</td>\n",
       "      <td>119.999444</td>\n",
       "      <td>15:15:07.312000</td>\n",
       "      <td>12:17:24</td>\n",
       "      <td>2142.633333</td>\n",
       "      <td>1</td>\n",
       "      <td>2021</td>\n",
       "      <td>2021-01-10</td>\n",
       "    </tr>\n",
       "    <tr>\n",
       "      <th>36</th>\n",
       "      <td>W01-2021</td>\n",
       "      <td>FRA - FF NLP, M21 Inspection</td>\n",
       "      <td>12.904944</td>\n",
       "      <td>0.000000</td>\n",
       "      <td>0.100696</td>\n",
       "      <td>90.655838</td>\n",
       "      <td>14.235095</td>\n",
       "      <td>100.0</td>\n",
       "      <td>14:02:10.600000</td>\n",
       "      <td>108.766667</td>\n",
       "      <td>59.233333</td>\n",
       "      <td>14:02:10.600000</td>\n",
       "      <td>1900-01-04 02:36:12</td>\n",
       "      <td>609.800000</td>\n",
       "      <td>1</td>\n",
       "      <td>2021</td>\n",
       "      <td>2021-01-10</td>\n",
       "    </tr>\n",
       "    <tr>\n",
       "      <th>37</th>\n",
       "      <td>W01-2021</td>\n",
       "      <td>FRA - FF NLP, M22 Filling</td>\n",
       "      <td>0.001215</td>\n",
       "      <td>99.999421</td>\n",
       "      <td>0.000000</td>\n",
       "      <td>0.000579</td>\n",
       "      <td>210.000000</td>\n",
       "      <td>100.0</td>\n",
       "      <td>00:00:02.100000</td>\n",
       "      <td>48.000556</td>\n",
       "      <td>119.999444</td>\n",
       "      <td>00:00:02.100000</td>\n",
       "      <td>00:00:01</td>\n",
       "      <td>2880.016667</td>\n",
       "      <td>1</td>\n",
       "      <td>2021</td>\n",
       "      <td>2021-01-10</td>\n",
       "    </tr>\n",
       "    <tr>\n",
       "      <th>...</th>\n",
       "      <td>...</td>\n",
       "      <td>...</td>\n",
       "      <td>...</td>\n",
       "      <td>...</td>\n",
       "      <td>...</td>\n",
       "      <td>...</td>\n",
       "      <td>...</td>\n",
       "      <td>...</td>\n",
       "      <td>...</td>\n",
       "      <td>...</td>\n",
       "      <td>...</td>\n",
       "      <td>...</td>\n",
       "      <td>...</td>\n",
       "      <td>...</td>\n",
       "      <td>...</td>\n",
       "      <td>...</td>\n",
       "      <td>...</td>\n",
       "    </tr>\n",
       "    <tr>\n",
       "      <th>10018</th>\n",
       "      <td>W53-2020</td>\n",
       "      <td>TRS - L19 Packaging Line</td>\n",
       "      <td>NaN</td>\n",
       "      <td>NaN</td>\n",
       "      <td>NaN</td>\n",
       "      <td>NaN</td>\n",
       "      <td>NaN</td>\n",
       "      <td>100.0</td>\n",
       "      <td>00:00:00.857000</td>\n",
       "      <td>0.000000</td>\n",
       "      <td>168.000000</td>\n",
       "      <td>00:00:00.857000</td>\n",
       "      <td>00:00:00</td>\n",
       "      <td>0.000000</td>\n",
       "      <td>53</td>\n",
       "      <td>2020</td>\n",
       "      <td>2021-01-10</td>\n",
       "    </tr>\n",
       "    <tr>\n",
       "      <th>10019</th>\n",
       "      <td>W53-2020</td>\n",
       "      <td>TRS - L21 Packaging Line</td>\n",
       "      <td>NaN</td>\n",
       "      <td>NaN</td>\n",
       "      <td>NaN</td>\n",
       "      <td>NaN</td>\n",
       "      <td>NaN</td>\n",
       "      <td>100.0</td>\n",
       "      <td>00:00:03.333000</td>\n",
       "      <td>0.000000</td>\n",
       "      <td>168.000000</td>\n",
       "      <td>00:00:03.333000</td>\n",
       "      <td>00:00:00</td>\n",
       "      <td>0.000000</td>\n",
       "      <td>53</td>\n",
       "      <td>2020</td>\n",
       "      <td>2021-01-10</td>\n",
       "    </tr>\n",
       "    <tr>\n",
       "      <th>10020</th>\n",
       "      <td>W53-2020</td>\n",
       "      <td>TRS - L22 Packaging Line</td>\n",
       "      <td>NaN</td>\n",
       "      <td>NaN</td>\n",
       "      <td>NaN</td>\n",
       "      <td>NaN</td>\n",
       "      <td>NaN</td>\n",
       "      <td>NaN</td>\n",
       "      <td>00:00:00</td>\n",
       "      <td>0.000000</td>\n",
       "      <td>168.000000</td>\n",
       "      <td>00:00:00</td>\n",
       "      <td>00:00:00</td>\n",
       "      <td>0.000000</td>\n",
       "      <td>53</td>\n",
       "      <td>2020</td>\n",
       "      <td>2021-01-10</td>\n",
       "    </tr>\n",
       "    <tr>\n",
       "      <th>10021</th>\n",
       "      <td>W53-2020</td>\n",
       "      <td>TRS - L24 Packaging Line</td>\n",
       "      <td>NaN</td>\n",
       "      <td>NaN</td>\n",
       "      <td>NaN</td>\n",
       "      <td>NaN</td>\n",
       "      <td>NaN</td>\n",
       "      <td>100.0</td>\n",
       "      <td>00:00:00.545000</td>\n",
       "      <td>0.000000</td>\n",
       "      <td>168.000000</td>\n",
       "      <td>00:00:00.545000</td>\n",
       "      <td>00:00:00</td>\n",
       "      <td>0.000000</td>\n",
       "      <td>53</td>\n",
       "      <td>2020</td>\n",
       "      <td>2021-01-10</td>\n",
       "    </tr>\n",
       "    <tr>\n",
       "      <th>10022</th>\n",
       "      <td>W53-2020</td>\n",
       "      <td>TRS - L25 Packaging Line</td>\n",
       "      <td>NaN</td>\n",
       "      <td>NaN</td>\n",
       "      <td>NaN</td>\n",
       "      <td>NaN</td>\n",
       "      <td>NaN</td>\n",
       "      <td>100.0</td>\n",
       "      <td>00:00:00.375000</td>\n",
       "      <td>0.000000</td>\n",
       "      <td>168.000000</td>\n",
       "      <td>00:00:00.375000</td>\n",
       "      <td>00:00:00</td>\n",
       "      <td>0.000000</td>\n",
       "      <td>53</td>\n",
       "      <td>2020</td>\n",
       "      <td>2021-01-10</td>\n",
       "    </tr>\n",
       "  </tbody>\n",
       "</table>\n",
       "<p>9990 rows × 17 columns</p>\n",
       "</div>"
      ],
      "text/plain": [
       "           Week                          Line      OEE %  Changeover  \\\n",
       "33     W01-2021     FRA - FF NLP, M18 Filling        NaN         NaN   \n",
       "34     W01-2021  FRA - FF NLP, M18 Inspection   7.649363   10.990661   \n",
       "35     W01-2021     FRA - FF NLP, M21 Filling  31.774697   68.696543   \n",
       "36     W01-2021  FRA - FF NLP, M21 Inspection  12.904944    0.000000   \n",
       "37     W01-2021     FRA - FF NLP, M22 Filling   0.001215   99.999421   \n",
       "...         ...                           ...        ...         ...   \n",
       "10018  W53-2020      TRS - L19 Packaging Line        NaN         NaN   \n",
       "10019  W53-2020      TRS - L21 Packaging Line        NaN         NaN   \n",
       "10020  W53-2020      TRS - L22 Packaging Line        NaN         NaN   \n",
       "10021  W53-2020      TRS - L24 Packaging Line        NaN         NaN   \n",
       "10022  W53-2020      TRS - L25 Packaging Line        NaN         NaN   \n",
       "\n",
       "       Unplanned_tech_loss  Availability %  Performance %  Quality %  \\\n",
       "33                     NaN             NaN            NaN        NaN   \n",
       "34                0.057656       82.255787       9.299483      100.0   \n",
       "35                0.082621       25.603870     124.101148      100.0   \n",
       "36                0.100696       90.655838      14.235095      100.0   \n",
       "37                0.000000        0.000579     210.000000      100.0   \n",
       "...                    ...             ...            ...        ...   \n",
       "10018                  NaN             NaN            NaN      100.0   \n",
       "10019                  NaN             NaN            NaN      100.0   \n",
       "10020                  NaN             NaN            NaN        NaN   \n",
       "10021                  NaN             NaN            NaN      100.0   \n",
       "10022                  NaN             NaN            NaN      100.0   \n",
       "\n",
       "              Net Time  Net Opening Time  Scheduled Down Time  \\\n",
       "33            00:00:00          0.000000           168.000000   \n",
       "34     02:32:36.364000         33.250278           134.749722   \n",
       "35     15:15:07.312000         48.000556           119.999444   \n",
       "36     14:02:10.600000        108.766667            59.233333   \n",
       "37     00:00:02.100000         48.000556           119.999444   \n",
       "...                ...               ...                  ...   \n",
       "10018  00:00:00.857000          0.000000           168.000000   \n",
       "10019  00:00:03.333000          0.000000           168.000000   \n",
       "10020         00:00:00          0.000000           168.000000   \n",
       "10021  00:00:00.545000          0.000000           168.000000   \n",
       "10022  00:00:00.375000          0.000000           168.000000   \n",
       "\n",
       "           Useful Time       Operating Time  Duration (min)  WeekOfYear  Year  \\\n",
       "33            00:00:00             00:00:00        0.000000           1  2021   \n",
       "34     02:32:36.364000  1900-01-01 03:21:01      354.000000           1  2021   \n",
       "35     15:15:07.312000             12:17:24     2142.633333           1  2021   \n",
       "36     14:02:10.600000  1900-01-04 02:36:12      609.800000           1  2021   \n",
       "37     00:00:02.100000             00:00:01     2880.016667           1  2021   \n",
       "...                ...                  ...             ...         ...   ...   \n",
       "10018  00:00:00.857000             00:00:00        0.000000          53  2020   \n",
       "10019  00:00:03.333000             00:00:00        0.000000          53  2020   \n",
       "10020         00:00:00             00:00:00        0.000000          53  2020   \n",
       "10021  00:00:00.545000             00:00:00        0.000000          53  2020   \n",
       "10022  00:00:00.375000             00:00:00        0.000000          53  2020   \n",
       "\n",
       "            Date  \n",
       "33    2021-01-10  \n",
       "34    2021-01-10  \n",
       "35    2021-01-10  \n",
       "36    2021-01-10  \n",
       "37    2021-01-10  \n",
       "...          ...  \n",
       "10018 2021-01-10  \n",
       "10019 2021-01-10  \n",
       "10020 2021-01-10  \n",
       "10021 2021-01-10  \n",
       "10022 2021-01-10  \n",
       "\n",
       "[9990 rows x 17 columns]"
      ]
     },
     "execution_count": 37,
     "metadata": {},
     "output_type": "execute_result"
    }
   ],
   "source": [
    "df.dropna(subset=['WeekOfYear'], inplace=True)\n",
    "df\n",
    "# df"
   ]
  },
  {
   "cell_type": "code",
   "execution_count": 38,
   "metadata": {},
   "outputs": [],
   "source": [
    "df.set_index('Date', inplace=True)\n",
    "df.sort_index(inplace=True)"
   ]
  },
  {
   "cell_type": "markdown",
   "metadata": {},
   "source": [
    "- Create a dataframe of the rolling_avg values using a 4 period window\n",
    "- Drop anything before the start date we want to use\n",
    "- Drop the null OEE % values because that site isn't recording valid eOEE - so assumed eOEE recording it not active for that site"
   ]
  },
  {
   "cell_type": "code",
   "execution_count": 39,
   "metadata": {
    "scrolled": true
   },
   "outputs": [],
   "source": [
    "rolling_avg = df.groupby('Line')[['OEE %','Performance %','Availability %', 'Quality %']].rolling(window=4).mean().reset_index()\n",
    "\n",
    "# keep the data after this start date\n",
    "start_date = '2021-11-01'\n",
    "\n",
    "rolling_avg = rolling_avg[rolling_avg.Date >= start_date]\n",
    "\n",
    "# keep only the lines actively reporting OEE \n",
    "active_rolling = rolling_avg.dropna(subset={'OEE %'}).copy()"
   ]
  },
  {
   "cell_type": "code",
   "execution_count": 40,
   "metadata": {},
   "outputs": [
    {
     "name": "stdout",
     "output_type": "stream",
     "text": [
      "Number of Unique Plants/Factories: 17\n",
      "Number of Unique Lines: 173\n",
      "Number of Unique Lines recording OEE % values: 172\n"
     ]
    }
   ],
   "source": [
    "print (\"Number of Unique Plants/Factories: {}\".format(len(active_rolling.Line.str[:3].unique())))\n",
    "print (\"Number of Unique Lines: {}\".format(len(active_rolling.Line.unique())))\n",
    "print (\"Number of Unique Lines recording OEE % values: {}\".format(len(active_rolling[active_rolling['OEE %'] > 0].Line.unique())))"
   ]
  },
  {
   "cell_type": "markdown",
   "metadata": {},
   "source": [
    "create a Plant column from first 3 chars of Line - currently Sanofi data is passing PLANT abbreviation through in the first 3 chars"
   ]
  },
  {
   "cell_type": "code",
   "execution_count": 41,
   "metadata": {},
   "outputs": [
    {
     "data": {
      "text/html": [
       "<div>\n",
       "<style scoped>\n",
       "    .dataframe tbody tr th:only-of-type {\n",
       "        vertical-align: middle;\n",
       "    }\n",
       "\n",
       "    .dataframe tbody tr th {\n",
       "        vertical-align: top;\n",
       "    }\n",
       "\n",
       "    .dataframe thead th {\n",
       "        text-align: right;\n",
       "    }\n",
       "</style>\n",
       "<table border=\"1\" class=\"dataframe\">\n",
       "  <thead>\n",
       "    <tr style=\"text-align: right;\">\n",
       "      <th></th>\n",
       "      <th>Line</th>\n",
       "      <th>Date</th>\n",
       "      <th>OEE %</th>\n",
       "      <th>Performance %</th>\n",
       "      <th>Availability %</th>\n",
       "      <th>Quality %</th>\n",
       "      <th>Plant</th>\n",
       "    </tr>\n",
       "  </thead>\n",
       "  <tbody>\n",
       "    <tr>\n",
       "      <th>34</th>\n",
       "      <td>ELB - Extraction B12 1st cycle</td>\n",
       "      <td>2021-11-07</td>\n",
       "      <td>79.533013</td>\n",
       "      <td>172.574119</td>\n",
       "      <td>47.490781</td>\n",
       "      <td>100.000000</td>\n",
       "      <td>ELB</td>\n",
       "    </tr>\n",
       "    <tr>\n",
       "      <th>35</th>\n",
       "      <td>ELB - Extraction B12 1st cycle</td>\n",
       "      <td>2021-11-14</td>\n",
       "      <td>82.036803</td>\n",
       "      <td>154.393102</td>\n",
       "      <td>53.593807</td>\n",
       "      <td>100.000000</td>\n",
       "      <td>ELB</td>\n",
       "    </tr>\n",
       "    <tr>\n",
       "      <th>36</th>\n",
       "      <td>ELB - Extraction B12 1st cycle</td>\n",
       "      <td>2021-11-21</td>\n",
       "      <td>85.537994</td>\n",
       "      <td>158.633616</td>\n",
       "      <td>54.358192</td>\n",
       "      <td>100.000000</td>\n",
       "      <td>ELB</td>\n",
       "    </tr>\n",
       "    <tr>\n",
       "      <th>37</th>\n",
       "      <td>ELB - Extraction B12 1st cycle</td>\n",
       "      <td>2021-11-28</td>\n",
       "      <td>71.608727</td>\n",
       "      <td>103.289031</td>\n",
       "      <td>32.086806</td>\n",
       "      <td>100.000000</td>\n",
       "      <td>ELB</td>\n",
       "    </tr>\n",
       "    <tr>\n",
       "      <th>38</th>\n",
       "      <td>ELB - Extraction B12 1st cycle</td>\n",
       "      <td>2021-12-05</td>\n",
       "      <td>57.727023</td>\n",
       "      <td>57.620507</td>\n",
       "      <td>-0.790096</td>\n",
       "      <td>100.000000</td>\n",
       "      <td>ELB</td>\n",
       "    </tr>\n",
       "    <tr>\n",
       "      <th>...</th>\n",
       "      <td>...</td>\n",
       "      <td>...</td>\n",
       "      <td>...</td>\n",
       "      <td>...</td>\n",
       "      <td>...</td>\n",
       "      <td>...</td>\n",
       "      <td>...</td>\n",
       "    </tr>\n",
       "    <tr>\n",
       "      <th>9975</th>\n",
       "      <td>WAT - LYO Packaging Line 9</td>\n",
       "      <td>2021-11-28</td>\n",
       "      <td>26.462903</td>\n",
       "      <td>126.347437</td>\n",
       "      <td>22.711537</td>\n",
       "      <td>94.364311</td>\n",
       "      <td>WAT</td>\n",
       "    </tr>\n",
       "    <tr>\n",
       "      <th>9976</th>\n",
       "      <td>WAT - LYO Packaging Line 9</td>\n",
       "      <td>2021-12-05</td>\n",
       "      <td>32.589871</td>\n",
       "      <td>164.663977</td>\n",
       "      <td>21.221754</td>\n",
       "      <td>94.987313</td>\n",
       "      <td>WAT</td>\n",
       "    </tr>\n",
       "    <tr>\n",
       "      <th>9977</th>\n",
       "      <td>WAT - LYO Packaging Line 9</td>\n",
       "      <td>2021-12-12</td>\n",
       "      <td>33.162075</td>\n",
       "      <td>152.586467</td>\n",
       "      <td>23.514165</td>\n",
       "      <td>95.569884</td>\n",
       "      <td>WAT</td>\n",
       "    </tr>\n",
       "    <tr>\n",
       "      <th>9978</th>\n",
       "      <td>WAT - LYO Packaging Line 9</td>\n",
       "      <td>2021-12-19</td>\n",
       "      <td>37.531273</td>\n",
       "      <td>154.902523</td>\n",
       "      <td>26.594611</td>\n",
       "      <td>94.794501</td>\n",
       "      <td>WAT</td>\n",
       "    </tr>\n",
       "    <tr>\n",
       "      <th>9979</th>\n",
       "      <td>WAT - LYO Packaging Line 9</td>\n",
       "      <td>2021-12-26</td>\n",
       "      <td>35.630578</td>\n",
       "      <td>155.354509</td>\n",
       "      <td>25.136070</td>\n",
       "      <td>94.808234</td>\n",
       "      <td>WAT</td>\n",
       "    </tr>\n",
       "  </tbody>\n",
       "</table>\n",
       "<p>1182 rows × 7 columns</p>\n",
       "</div>"
      ],
      "text/plain": [
       "                                Line       Date      OEE %  Performance %  \\\n",
       "34    ELB - Extraction B12 1st cycle 2021-11-07  79.533013     172.574119   \n",
       "35    ELB - Extraction B12 1st cycle 2021-11-14  82.036803     154.393102   \n",
       "36    ELB - Extraction B12 1st cycle 2021-11-21  85.537994     158.633616   \n",
       "37    ELB - Extraction B12 1st cycle 2021-11-28  71.608727     103.289031   \n",
       "38    ELB - Extraction B12 1st cycle 2021-12-05  57.727023      57.620507   \n",
       "...                              ...        ...        ...            ...   \n",
       "9975      WAT - LYO Packaging Line 9 2021-11-28  26.462903     126.347437   \n",
       "9976      WAT - LYO Packaging Line 9 2021-12-05  32.589871     164.663977   \n",
       "9977      WAT - LYO Packaging Line 9 2021-12-12  33.162075     152.586467   \n",
       "9978      WAT - LYO Packaging Line 9 2021-12-19  37.531273     154.902523   \n",
       "9979      WAT - LYO Packaging Line 9 2021-12-26  35.630578     155.354509   \n",
       "\n",
       "      Availability %   Quality % Plant  \n",
       "34         47.490781  100.000000   ELB  \n",
       "35         53.593807  100.000000   ELB  \n",
       "36         54.358192  100.000000   ELB  \n",
       "37         32.086806  100.000000   ELB  \n",
       "38         -0.790096  100.000000   ELB  \n",
       "...              ...         ...   ...  \n",
       "9975       22.711537   94.364311   WAT  \n",
       "9976       21.221754   94.987313   WAT  \n",
       "9977       23.514165   95.569884   WAT  \n",
       "9978       26.594611   94.794501   WAT  \n",
       "9979       25.136070   94.808234   WAT  \n",
       "\n",
       "[1182 rows x 7 columns]"
      ]
     },
     "execution_count": 41,
     "metadata": {},
     "output_type": "execute_result"
    }
   ],
   "source": [
    "\n",
    "active_rolling['Plant'] = active_rolling.Line.str[:3]\n",
    "active_rolling"
   ]
  },
  {
   "cell_type": "markdown",
   "metadata": {},
   "source": [
    "print out the metrics by Line and then by Plant"
   ]
  },
  {
   "cell_type": "code",
   "execution_count": 42,
   "metadata": {},
   "outputs": [
    {
     "data": {
      "application/vnd.plotly.v1+json": {
       "config": {
        "plotlyServerURL": "https://plot.ly"
       },
       "data": [
        {
         "alignmentgroup": "True",
         "hovertemplate": "Line=%{x}<br>OEE %=%{y}<extra></extra>",
         "legendgroup": "",
         "marker": {
          "color": "#636efa",
          "pattern": {
           "shape": ""
          }
         },
         "name": "",
         "offsetgroup": "",
         "orientation": "v",
         "showlegend": false,
         "textposition": "auto",
         "type": "bar",
         "x": [
          "FRA - FF Packaging, HV01",
          "FRA - FF Packaging, VL6",
          "FRA - FF Packaging, VL44",
          "MAF - I4 Inspection Line",
          "MAF - I2 Inspection Line",
          "SUZ - NIKKA",
          "SUZ - LINE 08 - BLISTERFLEX",
          "LLB - IMA C95 Packaging (SOLD)",
          "OCO - UHLMANN 1 Packaging Line",
          "HZG - Blister packaging line 4",
          "HZG - Blister packaging line 1",
          "HZG - Bottle Packaging line 7",
          "SCO - IMA C80/2",
          "SUZ - FETTE 2090 IV",
          "FRA - Devices AI, Semi 120-1 Assembly",
          "ORI - EG123",
          "OCO - UHLMANN 2 Packaging Line",
          "LLB - Sarong Packaging (SSL)",
          "MAF - R1 Filling Line",
          "SZX - Packaging line 3",
          "HZG - Blister packaging line 2",
          "SUZ - NEWMAN",
          "HZG - Semi-automatic Packaging line",
          "LSX - SIG2 Packaging Line",
          "MAF - C9 Packaging Line",
          "FRA - FF Packaging, VL56",
          "LLB - CP-2 Packaging (STRL)",
          "FRA - FF NLP, M21 Filling",
          "LSX - SIG1 Packaging Line",
          "MAF - C3 Packaging Line",
          "RDG - H6 Syringe Filling Line",
          "FRA - FF NLP, M22 Filling",
          "LSX - C65-2 Packaging Line",
          "SCO - Gamma4",
          "FRA - FF NLP, M22 Inspection",
          "OCO - JARABES Packaging Line",
          "SUZ - TARGIFOR",
          "SUZ - BAUSCH",
          "SUZ - POMADAS",
          "SUZ - MEDISEAL PURAN",
          "FRA - FF NAPA, M48 Inspection",
          "LLB - Bosch-2 Packaging (SOLD)",
          "LLB - IMA-3 Packaging (SOLD)",
          "WAT - AIL2 ASSEMBLY",
          "LSX - 1070-2 Packaging Line",
          "SUZ - IMA DERMACYD",
          "LLB - Uhlmann Packaging (SOLD)",
          "FRA - FF Packaging, VL50",
          "LLB - Bosch-1 Packaging (CEPH)",
          "FRA - FF NAPA, M31 Inspection",
          "MAF - I6 Inspection Line",
          "SUZ - LINE 10 - BOTTLES LINE",
          "SUZ - LINE 04 - BOSCH TLT 1400",
          "SCO - IMA C80/3",
          "LSX - C65-1 Packaging Line",
          "SCO - IMA C80/1",
          "OCO - PARTENA 3 Packaging Line",
          "HZG - Bottle Packaging line 6",
          "FRA - FF NLP, M21 Inspection",
          "LLB - SPREY Packaging (NSL)",
          "SUZ - STRUNK",
          "MAF - R4 Filling Line",
          "SUZ - GRON.DROPS/SPRAY",
          "OCO - C90 Packaging Line",
          "FRA - Devices AI, Semi 120-1 Labeling",
          "SUZ - LINE 06 - MEDISEAL CP 600 COMBO",
          "LLB - Bosch-2 Packaging (PENC)",
          "OCO - MELOX Packaging Line",
          "TRS - L15 Packaging Line",
          "LLB - CP-3 Packaging (STRL)",
          "SUZ - LINE 02 - UHLMANN 1030",
          "OCO - SUSPENSIONES Packaging Line",
          "SUZ - LINE 03 - MEDISEAL CP600",
          "FRA - FF NAPA, M24 Inspection",
          "SCO - GAMMA1",
          "LSX - 1030 Packaging Line",
          "LLB - IMA-2 Packaging (SOLD)",
          "FRA - Devices Pens, AL1",
          "SUZ - EYE DROPS OPTIMA",
          "LLB - Bosch-1 Packaging (SOLD)",
          "LLB - Huttlin-1 Granulation",
          "MAF - R5 Filling Line",
          "LLB - IMA-4 Packaging (SOLD)",
          "WAT - AIL2 Packaging",
          "FRA - Devices Pens, AL4",
          "LLB - TFS-30 Packaging (SSL)",
          "SCO - U3",
          "WAT - AIL1 Packaging",
          "SCO - PART92",
          "FRA - Devices Pens, AL3",
          "MAF - C2 Packaging Line",
          "SCO - PAR102",
          "LTR - C8 Packaging line",
          "MAF - C5 Packaging Line",
          "FRA - Devices Pens, AL6",
          "MAF - C4 Packaging Line",
          "SUZ - LINE 07 - UPS300",
          "VDR - K15_2",
          "FRA - FF Packaging, VL9",
          "TRS - L17 Packaging Line",
          "SCO - GAMMA2",
          "TRS - L24 Packaging Line",
          "OCO - MEDISEAL Packaging Line",
          "FRA - Devices AI, EMA 20",
          "LTR - C2 Packaging Line",
          "RDG - Synvisc Packaging Line",
          "LSX - 1070-1 Packaging Line",
          "FRA - Devices Pens, AL2",
          "LSX - TR200 Packaging Line",
          "LLB - Bosch-1 Packaging (PENC)",
          "LLB - IMA-1 Packaging (NSL)",
          "SCO - IMA C80/4",
          "TRS - L18 Packaging Line",
          "WAT - LYO Packaging Line 9",
          "SCO - GAMMA3",
          "TRS - L19 Packaging Line",
          "TRS - L25 Packaging Line",
          "SUZ - LINE 01 - UHLMANN 1880",
          "SUZ - FARCON",
          "LTR - C6 Packaging line",
          "FRA - Devices Pens, AL5 Packaging 1",
          "MAF - C6 Packaging Line",
          "LSX - SUPPO Packaging Line",
          "FRA - Devices AI, Semi 120-1 Packaging",
          "OCO - LACTACYD Packaging Line",
          "LLB - IMA-2 Packaging (NSL)",
          "SUZ - FETTE 3090 I",
          "LTR - C9 Packaging line",
          "SUZ - LINE 05 - SOLIDS IMA LINE",
          "TRS - L21 Packaging Line",
          "SUZ - GRON.SYRUP",
          "LTR - C7 Packaging line",
          "OCO - PARTENA 1 Packaging Line",
          "SUZ - MARCHESINI",
          "FRA - FF Packaging, VL47",
          "FRA - Devices AI, FDLE",
          "LLB - Bosch-3 Packaging (SOLD)",
          "FRA - FF NAPA, M46 Filling",
          "SUZ - EFERVESCENT CEWIN",
          "LTR - C5 Packaging Line",
          "WAT - LYO Packaging Line 3",
          "ELB - Extraction B12 1st cycle",
          "VDR - K32_1",
          "FRA - FF NAPA, M53 Filling",
          "WAT - LYO INSPECTION",
          "FRA - Devices Pens, AL5 Packaging 2",
          "ELB - FERMENTATION E10",
          "LLB - IMA-1 Packaging (SOLD)",
          "FRA - Pharma, M26 Filling",
          "LTR - L647 Bio-Tech Packaging",
          "LTR - Optima Assembling Machine",
          "LTR - C10 Packaging Line",
          "FRA - FF Packaging, VL32",
          "LSX - IWK Packaging Line",
          "MLE - P2A1",
          "ELB - FERMENTATION E11",
          "ELB - FERMENTATION V08",
          "FRA - Pharma, M52 Inspection",
          "ELB - FERMENTATION E08",
          "ELB - FERMENTATION E05",
          "FRA - Devices Pens, AL5 Assembly",
          "FRA - FF Packaging, VL62",
          "ELB - FERMENTATION V09",
          "ELB - FERMENTATION E09",
          "LTR - Corima Assembling Machine",
          "ORI - EG096",
          "SCO - COLLE1",
          "SCO - Diosna 1",
          "FRA - Pharma, M58 Inspection",
          "ELB - FERMENTATION E07",
          "ELB - FERMENTATION E06",
          "SCO - COLLE2",
          "SCO - Diosna 2"
         ],
         "xaxis": "x",
         "y": [
          1127.2319303709332,
          891.4565142147751,
          598.6365153871133,
          77.80537776074212,
          77.29331845015857,
          76.94694781839308,
          74.1538869756246,
          73.60953457947434,
          73.20583110512119,
          72.9410174904406,
          72.82658336386393,
          71.10228927426041,
          70.03764017715244,
          69.53064547954054,
          67.47693468535707,
          67.43126642415253,
          67.35306028534889,
          65.85102333896737,
          64.1462889459689,
          64.03887974791503,
          62.747817182877405,
          62.3481701827605,
          61.88194700305158,
          61.86697674006918,
          61.8052389514303,
          60.96665743510393,
          60.79271378513968,
          60.4515535215012,
          60.34759046224942,
          60.17566151856775,
          59.83971320465483,
          59.64022541589571,
          59.4969189990766,
          59.24586379908339,
          59.01078771598872,
          58.3852380409854,
          58.1052633375305,
          57.6847468070182,
          57.55372002045888,
          57.05170686130097,
          56.964727086626965,
          56.923729578351384,
          56.167440869168374,
          54.99501898475689,
          54.877406017023446,
          54.37099716377386,
          54.15864336160298,
          53.96821772138294,
          53.926605570294264,
          53.80256368213456,
          53.63957185345735,
          53.46735235034768,
          53.38175990846441,
          53.005900068152975,
          52.87521826225859,
          52.21618735647932,
          51.919118075077385,
          51.87949889216415,
          51.22692828341014,
          50.61355793369385,
          49.95499951044356,
          49.49862831152086,
          48.913699252109225,
          47.74810129226796,
          47.5461261127501,
          47.49557147704685,
          47.48548864461693,
          47.456178508942045,
          47.40338899830458,
          47.33052547023466,
          47.07217251274592,
          46.84583087375036,
          46.47499183899194,
          46.43900843436065,
          46.296552592916086,
          45.50335451184042,
          45.145262792824944,
          44.99228828684363,
          44.89145550655239,
          44.62111521194748,
          44.58818630659398,
          44.42804388775342,
          44.28677429492838,
          44.091364992683914,
          43.668469296263666,
          43.610845260462966,
          43.48639603339969,
          43.29975986650669,
          43.20108604192099,
          43.07591053178751,
          42.90178839725784,
          42.84615221523033,
          42.29310152977314,
          42.022636423697165,
          41.946070112455445,
          41.58762542461862,
          41.270515891286166,
          41.02746947261485,
          39.97822915977323,
          39.61176449550742,
          39.038568367531745,
          38.79030729931548,
          38.138065280266886,
          37.703737414590485,
          37.6719708136824,
          37.625347530753295,
          37.34409795125107,
          37.00939165643395,
          36.61472877595692,
          36.40212757400257,
          36.12746047764101,
          35.888280422736145,
          35.67720701285193,
          35.63057778299375,
          35.62039453582695,
          35.523664740837596,
          35.37154789356594,
          34.99000434039477,
          34.83529975798595,
          33.93852087465825,
          33.839112525061594,
          33.66195141612342,
          33.64340393535845,
          33.031698881247,
          32.97510580645705,
          32.88406604384618,
          32.46076302163041,
          31.48015830167218,
          31.163521939715732,
          30.710809653076815,
          30.384553486911383,
          29.897458156417603,
          29.017657349693042,
          28.93833846033662,
          28.8358251422147,
          28.704610341726735,
          28.246806912175735,
          27.574573641642438,
          27.231711779174155,
          26.92155237123987,
          26.243973770721045,
          25.761745659368014,
          25.27483796296297,
          23.200313059800152,
          23.105964475131657,
          22.75114006892414,
          22.41269313576494,
          21.071408317979547,
          20.090454264627,
          19.721517644337133,
          18.671647717968682,
          18.255920983467732,
          18.197636503376565,
          17.74066203532702,
          16.48156539667864,
          15.662487335359666,
          15.354286967418536,
          15.318191483115037,
          13.47201114488348,
          12.944411141717325,
          10.525652514143795,
          8.007160362600985,
          7.5236005900167005,
          5.010859929078007,
          2.1639607336033895,
          0,
          0,
          0,
          0,
          0,
          0,
          0,
          0
         ],
         "yaxis": "y"
        }
       ],
       "layout": {
        "annotations": [
         {
          "showarrow": false,
          "text": "60% June 2022 Target",
          "x": 0,
          "xanchor": "left",
          "xref": "x domain",
          "y": 60,
          "yanchor": "top",
          "yref": "y"
         },
         {
          "showarrow": false,
          "text": "65% December 2022 Target",
          "x": 0,
          "xanchor": "left",
          "xref": "x domain",
          "y": 65,
          "yanchor": "top",
          "yref": "y"
         }
        ],
        "barmode": "relative",
        "legend": {
         "tracegroupgap": 0
        },
        "shapes": [
         {
          "line": {
           "dash": "dot"
          },
          "type": "line",
          "x0": 0,
          "x1": 1,
          "xref": "x domain",
          "y0": 60,
          "y1": 60,
          "yref": "y"
         },
         {
          "line": {
           "dash": "dot"
          },
          "type": "line",
          "x0": 0,
          "x1": 1,
          "xref": "x domain",
          "y0": 65,
          "y1": 65,
          "yref": "y"
         }
        ],
        "template": {
         "data": {
          "bar": [
           {
            "error_x": {
             "color": "#2a3f5f"
            },
            "error_y": {
             "color": "#2a3f5f"
            },
            "marker": {
             "line": {
              "color": "#E5ECF6",
              "width": 0.5
             },
             "pattern": {
              "fillmode": "overlay",
              "size": 10,
              "solidity": 0.2
             }
            },
            "type": "bar"
           }
          ],
          "barpolar": [
           {
            "marker": {
             "line": {
              "color": "#E5ECF6",
              "width": 0.5
             },
             "pattern": {
              "fillmode": "overlay",
              "size": 10,
              "solidity": 0.2
             }
            },
            "type": "barpolar"
           }
          ],
          "carpet": [
           {
            "aaxis": {
             "endlinecolor": "#2a3f5f",
             "gridcolor": "white",
             "linecolor": "white",
             "minorgridcolor": "white",
             "startlinecolor": "#2a3f5f"
            },
            "baxis": {
             "endlinecolor": "#2a3f5f",
             "gridcolor": "white",
             "linecolor": "white",
             "minorgridcolor": "white",
             "startlinecolor": "#2a3f5f"
            },
            "type": "carpet"
           }
          ],
          "choropleth": [
           {
            "colorbar": {
             "outlinewidth": 0,
             "ticks": ""
            },
            "type": "choropleth"
           }
          ],
          "contour": [
           {
            "colorbar": {
             "outlinewidth": 0,
             "ticks": ""
            },
            "colorscale": [
             [
              0,
              "#0d0887"
             ],
             [
              0.1111111111111111,
              "#46039f"
             ],
             [
              0.2222222222222222,
              "#7201a8"
             ],
             [
              0.3333333333333333,
              "#9c179e"
             ],
             [
              0.4444444444444444,
              "#bd3786"
             ],
             [
              0.5555555555555556,
              "#d8576b"
             ],
             [
              0.6666666666666666,
              "#ed7953"
             ],
             [
              0.7777777777777778,
              "#fb9f3a"
             ],
             [
              0.8888888888888888,
              "#fdca26"
             ],
             [
              1,
              "#f0f921"
             ]
            ],
            "type": "contour"
           }
          ],
          "contourcarpet": [
           {
            "colorbar": {
             "outlinewidth": 0,
             "ticks": ""
            },
            "type": "contourcarpet"
           }
          ],
          "heatmap": [
           {
            "colorbar": {
             "outlinewidth": 0,
             "ticks": ""
            },
            "colorscale": [
             [
              0,
              "#0d0887"
             ],
             [
              0.1111111111111111,
              "#46039f"
             ],
             [
              0.2222222222222222,
              "#7201a8"
             ],
             [
              0.3333333333333333,
              "#9c179e"
             ],
             [
              0.4444444444444444,
              "#bd3786"
             ],
             [
              0.5555555555555556,
              "#d8576b"
             ],
             [
              0.6666666666666666,
              "#ed7953"
             ],
             [
              0.7777777777777778,
              "#fb9f3a"
             ],
             [
              0.8888888888888888,
              "#fdca26"
             ],
             [
              1,
              "#f0f921"
             ]
            ],
            "type": "heatmap"
           }
          ],
          "heatmapgl": [
           {
            "colorbar": {
             "outlinewidth": 0,
             "ticks": ""
            },
            "colorscale": [
             [
              0,
              "#0d0887"
             ],
             [
              0.1111111111111111,
              "#46039f"
             ],
             [
              0.2222222222222222,
              "#7201a8"
             ],
             [
              0.3333333333333333,
              "#9c179e"
             ],
             [
              0.4444444444444444,
              "#bd3786"
             ],
             [
              0.5555555555555556,
              "#d8576b"
             ],
             [
              0.6666666666666666,
              "#ed7953"
             ],
             [
              0.7777777777777778,
              "#fb9f3a"
             ],
             [
              0.8888888888888888,
              "#fdca26"
             ],
             [
              1,
              "#f0f921"
             ]
            ],
            "type": "heatmapgl"
           }
          ],
          "histogram": [
           {
            "marker": {
             "pattern": {
              "fillmode": "overlay",
              "size": 10,
              "solidity": 0.2
             }
            },
            "type": "histogram"
           }
          ],
          "histogram2d": [
           {
            "colorbar": {
             "outlinewidth": 0,
             "ticks": ""
            },
            "colorscale": [
             [
              0,
              "#0d0887"
             ],
             [
              0.1111111111111111,
              "#46039f"
             ],
             [
              0.2222222222222222,
              "#7201a8"
             ],
             [
              0.3333333333333333,
              "#9c179e"
             ],
             [
              0.4444444444444444,
              "#bd3786"
             ],
             [
              0.5555555555555556,
              "#d8576b"
             ],
             [
              0.6666666666666666,
              "#ed7953"
             ],
             [
              0.7777777777777778,
              "#fb9f3a"
             ],
             [
              0.8888888888888888,
              "#fdca26"
             ],
             [
              1,
              "#f0f921"
             ]
            ],
            "type": "histogram2d"
           }
          ],
          "histogram2dcontour": [
           {
            "colorbar": {
             "outlinewidth": 0,
             "ticks": ""
            },
            "colorscale": [
             [
              0,
              "#0d0887"
             ],
             [
              0.1111111111111111,
              "#46039f"
             ],
             [
              0.2222222222222222,
              "#7201a8"
             ],
             [
              0.3333333333333333,
              "#9c179e"
             ],
             [
              0.4444444444444444,
              "#bd3786"
             ],
             [
              0.5555555555555556,
              "#d8576b"
             ],
             [
              0.6666666666666666,
              "#ed7953"
             ],
             [
              0.7777777777777778,
              "#fb9f3a"
             ],
             [
              0.8888888888888888,
              "#fdca26"
             ],
             [
              1,
              "#f0f921"
             ]
            ],
            "type": "histogram2dcontour"
           }
          ],
          "mesh3d": [
           {
            "colorbar": {
             "outlinewidth": 0,
             "ticks": ""
            },
            "type": "mesh3d"
           }
          ],
          "parcoords": [
           {
            "line": {
             "colorbar": {
              "outlinewidth": 0,
              "ticks": ""
             }
            },
            "type": "parcoords"
           }
          ],
          "pie": [
           {
            "automargin": true,
            "type": "pie"
           }
          ],
          "scatter": [
           {
            "marker": {
             "colorbar": {
              "outlinewidth": 0,
              "ticks": ""
             }
            },
            "type": "scatter"
           }
          ],
          "scatter3d": [
           {
            "line": {
             "colorbar": {
              "outlinewidth": 0,
              "ticks": ""
             }
            },
            "marker": {
             "colorbar": {
              "outlinewidth": 0,
              "ticks": ""
             }
            },
            "type": "scatter3d"
           }
          ],
          "scattercarpet": [
           {
            "marker": {
             "colorbar": {
              "outlinewidth": 0,
              "ticks": ""
             }
            },
            "type": "scattercarpet"
           }
          ],
          "scattergeo": [
           {
            "marker": {
             "colorbar": {
              "outlinewidth": 0,
              "ticks": ""
             }
            },
            "type": "scattergeo"
           }
          ],
          "scattergl": [
           {
            "marker": {
             "colorbar": {
              "outlinewidth": 0,
              "ticks": ""
             }
            },
            "type": "scattergl"
           }
          ],
          "scattermapbox": [
           {
            "marker": {
             "colorbar": {
              "outlinewidth": 0,
              "ticks": ""
             }
            },
            "type": "scattermapbox"
           }
          ],
          "scatterpolar": [
           {
            "marker": {
             "colorbar": {
              "outlinewidth": 0,
              "ticks": ""
             }
            },
            "type": "scatterpolar"
           }
          ],
          "scatterpolargl": [
           {
            "marker": {
             "colorbar": {
              "outlinewidth": 0,
              "ticks": ""
             }
            },
            "type": "scatterpolargl"
           }
          ],
          "scatterternary": [
           {
            "marker": {
             "colorbar": {
              "outlinewidth": 0,
              "ticks": ""
             }
            },
            "type": "scatterternary"
           }
          ],
          "surface": [
           {
            "colorbar": {
             "outlinewidth": 0,
             "ticks": ""
            },
            "colorscale": [
             [
              0,
              "#0d0887"
             ],
             [
              0.1111111111111111,
              "#46039f"
             ],
             [
              0.2222222222222222,
              "#7201a8"
             ],
             [
              0.3333333333333333,
              "#9c179e"
             ],
             [
              0.4444444444444444,
              "#bd3786"
             ],
             [
              0.5555555555555556,
              "#d8576b"
             ],
             [
              0.6666666666666666,
              "#ed7953"
             ],
             [
              0.7777777777777778,
              "#fb9f3a"
             ],
             [
              0.8888888888888888,
              "#fdca26"
             ],
             [
              1,
              "#f0f921"
             ]
            ],
            "type": "surface"
           }
          ],
          "table": [
           {
            "cells": {
             "fill": {
              "color": "#EBF0F8"
             },
             "line": {
              "color": "white"
             }
            },
            "header": {
             "fill": {
              "color": "#C8D4E3"
             },
             "line": {
              "color": "white"
             }
            },
            "type": "table"
           }
          ]
         },
         "layout": {
          "annotationdefaults": {
           "arrowcolor": "#2a3f5f",
           "arrowhead": 0,
           "arrowwidth": 1
          },
          "autotypenumbers": "strict",
          "coloraxis": {
           "colorbar": {
            "outlinewidth": 0,
            "ticks": ""
           }
          },
          "colorscale": {
           "diverging": [
            [
             0,
             "#8e0152"
            ],
            [
             0.1,
             "#c51b7d"
            ],
            [
             0.2,
             "#de77ae"
            ],
            [
             0.3,
             "#f1b6da"
            ],
            [
             0.4,
             "#fde0ef"
            ],
            [
             0.5,
             "#f7f7f7"
            ],
            [
             0.6,
             "#e6f5d0"
            ],
            [
             0.7,
             "#b8e186"
            ],
            [
             0.8,
             "#7fbc41"
            ],
            [
             0.9,
             "#4d9221"
            ],
            [
             1,
             "#276419"
            ]
           ],
           "sequential": [
            [
             0,
             "#0d0887"
            ],
            [
             0.1111111111111111,
             "#46039f"
            ],
            [
             0.2222222222222222,
             "#7201a8"
            ],
            [
             0.3333333333333333,
             "#9c179e"
            ],
            [
             0.4444444444444444,
             "#bd3786"
            ],
            [
             0.5555555555555556,
             "#d8576b"
            ],
            [
             0.6666666666666666,
             "#ed7953"
            ],
            [
             0.7777777777777778,
             "#fb9f3a"
            ],
            [
             0.8888888888888888,
             "#fdca26"
            ],
            [
             1,
             "#f0f921"
            ]
           ],
           "sequentialminus": [
            [
             0,
             "#0d0887"
            ],
            [
             0.1111111111111111,
             "#46039f"
            ],
            [
             0.2222222222222222,
             "#7201a8"
            ],
            [
             0.3333333333333333,
             "#9c179e"
            ],
            [
             0.4444444444444444,
             "#bd3786"
            ],
            [
             0.5555555555555556,
             "#d8576b"
            ],
            [
             0.6666666666666666,
             "#ed7953"
            ],
            [
             0.7777777777777778,
             "#fb9f3a"
            ],
            [
             0.8888888888888888,
             "#fdca26"
            ],
            [
             1,
             "#f0f921"
            ]
           ]
          },
          "colorway": [
           "#636efa",
           "#EF553B",
           "#00cc96",
           "#ab63fa",
           "#FFA15A",
           "#19d3f3",
           "#FF6692",
           "#B6E880",
           "#FF97FF",
           "#FECB52"
          ],
          "font": {
           "color": "#2a3f5f"
          },
          "geo": {
           "bgcolor": "white",
           "lakecolor": "white",
           "landcolor": "#E5ECF6",
           "showlakes": true,
           "showland": true,
           "subunitcolor": "white"
          },
          "hoverlabel": {
           "align": "left"
          },
          "hovermode": "closest",
          "mapbox": {
           "style": "light"
          },
          "paper_bgcolor": "white",
          "plot_bgcolor": "#E5ECF6",
          "polar": {
           "angularaxis": {
            "gridcolor": "white",
            "linecolor": "white",
            "ticks": ""
           },
           "bgcolor": "#E5ECF6",
           "radialaxis": {
            "gridcolor": "white",
            "linecolor": "white",
            "ticks": ""
           }
          },
          "scene": {
           "xaxis": {
            "backgroundcolor": "#E5ECF6",
            "gridcolor": "white",
            "gridwidth": 2,
            "linecolor": "white",
            "showbackground": true,
            "ticks": "",
            "zerolinecolor": "white"
           },
           "yaxis": {
            "backgroundcolor": "#E5ECF6",
            "gridcolor": "white",
            "gridwidth": 2,
            "linecolor": "white",
            "showbackground": true,
            "ticks": "",
            "zerolinecolor": "white"
           },
           "zaxis": {
            "backgroundcolor": "#E5ECF6",
            "gridcolor": "white",
            "gridwidth": 2,
            "linecolor": "white",
            "showbackground": true,
            "ticks": "",
            "zerolinecolor": "white"
           }
          },
          "shapedefaults": {
           "line": {
            "color": "#2a3f5f"
           }
          },
          "ternary": {
           "aaxis": {
            "gridcolor": "white",
            "linecolor": "white",
            "ticks": ""
           },
           "baxis": {
            "gridcolor": "white",
            "linecolor": "white",
            "ticks": ""
           },
           "bgcolor": "#E5ECF6",
           "caxis": {
            "gridcolor": "white",
            "linecolor": "white",
            "ticks": ""
           }
          },
          "title": {
           "x": 0.05
          },
          "xaxis": {
           "automargin": true,
           "gridcolor": "white",
           "linecolor": "white",
           "ticks": "",
           "title": {
            "standoff": 15
           },
           "zerolinecolor": "white",
           "zerolinewidth": 2
          },
          "yaxis": {
           "automargin": true,
           "gridcolor": "white",
           "linecolor": "white",
           "ticks": "",
           "title": {
            "standoff": 15
           },
           "zerolinecolor": "white",
           "zerolinewidth": 2
          }
         }
        },
        "title": {
         "text": "Latest Rolling OEE % by Line"
        },
        "xaxis": {
         "anchor": "y",
         "domain": [
          0,
          1
         ],
         "title": {
          "text": "Line"
         }
        },
        "yaxis": {
         "anchor": "x",
         "domain": [
          0,
          1
         ],
         "range": [
          0,
          100
         ],
         "title": {
          "text": "OEE %"
         }
        }
       }
      }
     },
     "metadata": {},
     "output_type": "display_data"
    },
    {
     "data": {
      "application/vnd.plotly.v1+json": {
       "config": {
        "plotlyServerURL": "https://plot.ly"
       },
       "data": [
        {
         "alignmentgroup": "True",
         "hovertemplate": "Line=%{x}<br>Availability %=%{y}<extra></extra>",
         "legendgroup": "",
         "marker": {
          "color": "#636efa",
          "pattern": {
           "shape": ""
          }
         },
         "name": "",
         "offsetgroup": "",
         "orientation": "v",
         "showlegend": false,
         "textposition": "auto",
         "type": "bar",
         "x": [
          "SCO - Diosna 1",
          "ORI - EG096",
          "ELB - FERMENTATION E07",
          "LLB - IMA C95 Packaging (SOLD)",
          "FRA - Devices AI, Semi 120-1 Assembly",
          "ELB - FERMENTATION E08",
          "LLB - IMA-1 Packaging (SOLD)",
          "MAF - I4 Inspection Line",
          "LLB - CP-3 Packaging (STRL)",
          "LLB - Sarong Packaging (SSL)",
          "ELB - FERMENTATION E05",
          "LLB - Huttlin-1 Granulation",
          "LLB - IMA-2 Packaging (SOLD)",
          "ELB - FERMENTATION V09",
          "HZG - Blister packaging line 1",
          "LLB - Bosch-1 Packaging (CEPH)",
          "MAF - I2 Inspection Line",
          "HZG - Blister packaging line 4",
          "OCO - UHLMANN 2 Packaging Line",
          "LLB - IMA-3 Packaging (SOLD)",
          "LLB - Uhlmann Packaging (SOLD)",
          "FRA - Devices AI, EMA 20",
          "OCO - UHLMANN 1 Packaging Line",
          "FRA - FF Packaging, HV01",
          "LLB - IMA-4 Packaging (SOLD)",
          "SCO - IMA C80/2",
          "MAF - C9 Packaging Line",
          "LLB - Bosch-2 Packaging (SOLD)",
          "ELB - FERMENTATION E10",
          "LSX - 1070-1 Packaging Line",
          "ELB - FERMENTATION E11",
          "SZX - Packaging line 3",
          "SUZ - LINE 08 - BLISTERFLEX",
          "SUZ - MEDISEAL PURAN",
          "HZG - Blister packaging line 2",
          "LLB - CP-2 Packaging (STRL)",
          "SUZ - IMA DERMACYD",
          "FRA - FF Packaging, VL50",
          "OCO - MELOX Packaging Line",
          "LLB - SPREY Packaging (NSL)",
          "FRA - FF NLP, M21 Filling",
          "MAF - C3 Packaging Line",
          "ELB - FERMENTATION E09",
          "FRA - FF Packaging, VL56",
          "LTR - C5 Packaging Line",
          "FRA - FF NLP, M22 Filling",
          "RDG - H6 Syringe Filling Line",
          "FRA - FF NAPA, M48 Inspection",
          "LSX - C65-2 Packaging Line",
          "SUZ - POMADAS",
          "HZG - Bottle Packaging line 7",
          "LLB - Bosch-1 Packaging (SOLD)",
          "SUZ - NEWMAN",
          "OCO - SUSPENSIONES Packaging Line",
          "LSX - SIG1 Packaging Line",
          "MAF - R1 Filling Line",
          "OCO - JARABES Packaging Line",
          "SCO - Gamma4",
          "FRA - Devices Pens, AL6",
          "FRA - FF NLP, M22 Inspection",
          "ORI - EG123",
          "LSX - SIG2 Packaging Line",
          "LTR - C8 Packaging line",
          "FRA - FF NAPA, M31 Inspection",
          "LSX - 1070-2 Packaging Line",
          "FRA - Devices AI, Semi 120-1 Labeling",
          "LTR - L647 Bio-Tech Packaging",
          "ELB - Extraction B12 1st cycle",
          "LLB - Bosch-2 Packaging (PENC)",
          "OCO - PARTENA 3 Packaging Line",
          "LTR - C2 Packaging Line",
          "SUZ - BAUSCH",
          "MAF - I6 Inspection Line",
          "SCO - IMA C80/3",
          "LSX - C65-1 Packaging Line",
          "SUZ - LINE 06 - MEDISEAL CP 600 COMBO",
          "SUZ - NIKKA",
          "LLB - IMA-2 Packaging (NSL)",
          "OCO - C90 Packaging Line",
          "FRA - Devices Pens, AL1",
          "ELB - FERMENTATION V08",
          "LLB - Bosch-1 Packaging (PENC)",
          "LLB - TFS-30 Packaging (SSL)",
          "FRA - Devices Pens, AL3",
          "WAT - AIL2 ASSEMBLY",
          "SCO - U3",
          "SCO - IMA C80/1",
          "FRA - Devices Pens, AL4",
          "HZG - Semi-automatic Packaging line",
          "SUZ - LINE 04 - BOSCH TLT 1400",
          "SUZ - LINE 05 - SOLIDS IMA LINE",
          "FRA - FF NLP, M21 Inspection",
          "SCO - PAR102",
          "FRA - FF Packaging, VL9",
          "FRA - Devices AI, Semi 120-1 Packaging",
          "RDG - Synvisc Packaging Line",
          "OCO - MEDISEAL Packaging Line",
          "MAF - C2 Packaging Line",
          "HZG - Bottle Packaging line 6",
          "SUZ - LINE 02 - UHLMANN 1030",
          "MAF - R5 Filling Line",
          "LLB - IMA-1 Packaging (NSL)",
          "SUZ - LINE 03 - MEDISEAL CP600",
          "FRA - FF NAPA, M24 Inspection",
          "LTR - C6 Packaging line",
          "LLB - Bosch-3 Packaging (SOLD)",
          "MLE - P2A1",
          "SCO - GAMMA1",
          "LTR - Optima Assembling Machine",
          "FRA - Devices Pens, AL2",
          "VDR - K32_1",
          "TRS - L15 Packaging Line",
          "FRA - Devices Pens, AL5 Packaging 1",
          "LSX - 1030 Packaging Line",
          "SCO - GAMMA2",
          "SCO - PART92",
          "MAF - R4 Filling Line",
          "OCO - LACTACYD Packaging Line",
          "FRA - FF Packaging, VL32",
          "MAF - C5 Packaging Line",
          "LTR - C7 Packaging line",
          "MAF - C4 Packaging Line",
          "FRA - Devices AI, FDLE",
          "LTR - C9 Packaging line",
          "VDR - K15_2",
          "TRS - L17 Packaging Line",
          "SCO - GAMMA3",
          "MAF - C6 Packaging Line",
          "LSX - SUPPO Packaging Line",
          "SCO - IMA C80/4",
          "SUZ - LINE 07 - UPS300",
          "FRA - Pharma, M52 Inspection",
          "SUZ - FARCON",
          "LTR - Corima Assembling Machine",
          "SUZ - EYE DROPS OPTIMA",
          "LSX - TR200 Packaging Line",
          "SUZ - LINE 10 - BOTTLES LINE",
          "FRA - Devices Pens, AL5 Packaging 2",
          "SUZ - LINE 01 - UHLMANN 1880",
          "FRA - FF Packaging, VL47",
          "SUZ - FETTE 3090 I",
          "TRS - L24 Packaging Line",
          "SUZ - STRUNK",
          "SUZ - GRON.DROPS/SPRAY",
          "TRS - L25 Packaging Line",
          "OCO - PARTENA 1 Packaging Line",
          "TRS - L18 Packaging Line",
          "WAT - AIL2 Packaging",
          "FRA - FF Packaging, VL44",
          "SUZ - TARGIFOR",
          "FRA - FF Packaging, VL6",
          "SUZ - MARCHESINI",
          "FRA - FF NAPA, M46 Filling",
          "LTR - C10 Packaging Line",
          "SUZ - GRON.SYRUP",
          "FRA - FF NAPA, M53 Filling",
          "TRS - L21 Packaging Line",
          "SUZ - EFERVESCENT CEWIN",
          "TRS - L19 Packaging Line",
          "SUZ - FETTE 2090 IV",
          "FRA - Pharma, M26 Filling",
          "WAT - LYO Packaging Line 9",
          "LSX - IWK Packaging Line",
          "FRA - Devices Pens, AL5 Assembly",
          "WAT - LYO INSPECTION",
          "FRA - FF Packaging, VL62",
          "WAT - LYO Packaging Line 3",
          "WAT - AIL1 Packaging",
          "FRA - Pharma, M58 Inspection",
          "SCO - Diosna 2",
          "SCO - COLLE1",
          "ELB - FERMENTATION E06",
          "SCO - COLLE2"
         ],
         "xaxis": "x",
         "y": [
          99.99999999999997,
          99.99999999999997,
          93.20453042328042,
          89.66239169140943,
          86.60183655868398,
          86.02236276455027,
          83.81030135431143,
          82.49263294970066,
          81.00041811254393,
          80.59872613997464,
          79.34044312169313,
          79.19269228052596,
          78.49262283742026,
          78.15290178571429,
          77.9733609311476,
          77.76036431100252,
          77.70147489963328,
          77.63182324873823,
          77.45959238849477,
          77.02769279021601,
          76.54150741600421,
          75.34247447474347,
          75.0295979660701,
          75.02656591885602,
          74.24318445771232,
          73.93411166353573,
          72.58567044592644,
          72.2969646453966,
          72.26343619549104,
          72.1215364597742,
          71.68701044440513,
          71.49987619290471,
          71.00773041212861,
          70.34010503804001,
          69.45969856334204,
          69.08562434379544,
          68.77994222709077,
          67.925088246794,
          67.08826000341726,
          66.90568430420151,
          66.155533466512,
          65.86409671498902,
          65.8285937502845,
          65.47320586135316,
          65.43100276459646,
          65.3794359743223,
          65.3478130905099,
          64.69869879776223,
          64.50044624708882,
          64.39893944478239,
          64.37319065486916,
          64.34327830269434,
          63.84155233698294,
          63.73595698452212,
          63.6664684529213,
          63.57427066638101,
          63.56409605144755,
          63.43969518354339,
          63.3093157500828,
          63.07767800502395,
          62.94259080454019,
          62.9135522004111,
          62.60317943247925,
          61.7983223653391,
          61.768856087479485,
          61.42548323965448,
          61.339889000872645,
          60.24928153967026,
          60.19607032627862,
          60.14364030806616,
          59.85522383140459,
          59.7447771935046,
          59.730406413345186,
          59.6971758470781,
          59.577570589969625,
          59.39640733634634,
          59.295590935283705,
          59.16563176289166,
          59.05449092804487,
          59.035047282484236,
          58.28393683862434,
          58.20968364197526,
          57.79455949137935,
          57.66527780281616,
          57.51357720561962,
          57.335911087763,
          57.314433993652116,
          56.14807643161843,
          56.12755418621022,
          56.077932391506835,
          55.976799973043654,
          55.95657588752344,
          55.23480794853323,
          55.153009224792044,
          55.151815491842584,
          55.11954415501247,
          54.999044262713745,
          54.95329009524083,
          54.719397523135044,
          53.97032018626044,
          53.716408086250794,
          53.527670588258225,
          53.286422623784134,
          53.17472226730956,
          53.06190294035311,
          52.68524353751578,
          52.17230085043662,
          51.7345085236705,
          51.59536473988935,
          51.39399146580473,
          50.82332175925923,
          50.762039540682835,
          50.62211996636448,
          50.48652195854199,
          50.16956769767804,
          50.00825021224243,
          49.99342790057638,
          49.73280253629959,
          49.43199031231068,
          49.28652238516945,
          49.11665470527156,
          49.078874850004894,
          48.687104460315325,
          48.22151236864391,
          48.19929811947622,
          48.16279679201453,
          48.052710202429225,
          47.428948063012484,
          46.98388246065417,
          46.56696141667838,
          46.543524466740834,
          46.3423949400747,
          45.97046988069425,
          45.22740070813444,
          44.03367833906554,
          43.97725916857921,
          43.8604383108072,
          43.27906159304151,
          42.451250918927926,
          42.19845059983027,
          42.16594662058368,
          41.14386998199837,
          40.749520135521365,
          40.36610676927633,
          40.05876286514659,
          39.85006347867817,
          39.69609432198079,
          39.69129481468913,
          39.219877720455095,
          38.48391167870968,
          38.448710497004996,
          38.06736151364761,
          37.868008762429206,
          36.49832018507011,
          35.74367036443095,
          34.33005960329192,
          34.26586422709828,
          34.235480437602455,
          33.584102826505344,
          31.220072751322707,
          29.433063510996185,
          25.13607021068095,
          22.96620128220656,
          22.636623693633325,
          22.60541382490238,
          21.339652499844476,
          11.330621796865735,
          11.27598663074263,
          10.905045620537885,
          0,
          0,
          0,
          0
         ],
         "yaxis": "y"
        }
       ],
       "layout": {
        "barmode": "relative",
        "legend": {
         "tracegroupgap": 0
        },
        "template": {
         "data": {
          "bar": [
           {
            "error_x": {
             "color": "#2a3f5f"
            },
            "error_y": {
             "color": "#2a3f5f"
            },
            "marker": {
             "line": {
              "color": "#E5ECF6",
              "width": 0.5
             },
             "pattern": {
              "fillmode": "overlay",
              "size": 10,
              "solidity": 0.2
             }
            },
            "type": "bar"
           }
          ],
          "barpolar": [
           {
            "marker": {
             "line": {
              "color": "#E5ECF6",
              "width": 0.5
             },
             "pattern": {
              "fillmode": "overlay",
              "size": 10,
              "solidity": 0.2
             }
            },
            "type": "barpolar"
           }
          ],
          "carpet": [
           {
            "aaxis": {
             "endlinecolor": "#2a3f5f",
             "gridcolor": "white",
             "linecolor": "white",
             "minorgridcolor": "white",
             "startlinecolor": "#2a3f5f"
            },
            "baxis": {
             "endlinecolor": "#2a3f5f",
             "gridcolor": "white",
             "linecolor": "white",
             "minorgridcolor": "white",
             "startlinecolor": "#2a3f5f"
            },
            "type": "carpet"
           }
          ],
          "choropleth": [
           {
            "colorbar": {
             "outlinewidth": 0,
             "ticks": ""
            },
            "type": "choropleth"
           }
          ],
          "contour": [
           {
            "colorbar": {
             "outlinewidth": 0,
             "ticks": ""
            },
            "colorscale": [
             [
              0,
              "#0d0887"
             ],
             [
              0.1111111111111111,
              "#46039f"
             ],
             [
              0.2222222222222222,
              "#7201a8"
             ],
             [
              0.3333333333333333,
              "#9c179e"
             ],
             [
              0.4444444444444444,
              "#bd3786"
             ],
             [
              0.5555555555555556,
              "#d8576b"
             ],
             [
              0.6666666666666666,
              "#ed7953"
             ],
             [
              0.7777777777777778,
              "#fb9f3a"
             ],
             [
              0.8888888888888888,
              "#fdca26"
             ],
             [
              1,
              "#f0f921"
             ]
            ],
            "type": "contour"
           }
          ],
          "contourcarpet": [
           {
            "colorbar": {
             "outlinewidth": 0,
             "ticks": ""
            },
            "type": "contourcarpet"
           }
          ],
          "heatmap": [
           {
            "colorbar": {
             "outlinewidth": 0,
             "ticks": ""
            },
            "colorscale": [
             [
              0,
              "#0d0887"
             ],
             [
              0.1111111111111111,
              "#46039f"
             ],
             [
              0.2222222222222222,
              "#7201a8"
             ],
             [
              0.3333333333333333,
              "#9c179e"
             ],
             [
              0.4444444444444444,
              "#bd3786"
             ],
             [
              0.5555555555555556,
              "#d8576b"
             ],
             [
              0.6666666666666666,
              "#ed7953"
             ],
             [
              0.7777777777777778,
              "#fb9f3a"
             ],
             [
              0.8888888888888888,
              "#fdca26"
             ],
             [
              1,
              "#f0f921"
             ]
            ],
            "type": "heatmap"
           }
          ],
          "heatmapgl": [
           {
            "colorbar": {
             "outlinewidth": 0,
             "ticks": ""
            },
            "colorscale": [
             [
              0,
              "#0d0887"
             ],
             [
              0.1111111111111111,
              "#46039f"
             ],
             [
              0.2222222222222222,
              "#7201a8"
             ],
             [
              0.3333333333333333,
              "#9c179e"
             ],
             [
              0.4444444444444444,
              "#bd3786"
             ],
             [
              0.5555555555555556,
              "#d8576b"
             ],
             [
              0.6666666666666666,
              "#ed7953"
             ],
             [
              0.7777777777777778,
              "#fb9f3a"
             ],
             [
              0.8888888888888888,
              "#fdca26"
             ],
             [
              1,
              "#f0f921"
             ]
            ],
            "type": "heatmapgl"
           }
          ],
          "histogram": [
           {
            "marker": {
             "pattern": {
              "fillmode": "overlay",
              "size": 10,
              "solidity": 0.2
             }
            },
            "type": "histogram"
           }
          ],
          "histogram2d": [
           {
            "colorbar": {
             "outlinewidth": 0,
             "ticks": ""
            },
            "colorscale": [
             [
              0,
              "#0d0887"
             ],
             [
              0.1111111111111111,
              "#46039f"
             ],
             [
              0.2222222222222222,
              "#7201a8"
             ],
             [
              0.3333333333333333,
              "#9c179e"
             ],
             [
              0.4444444444444444,
              "#bd3786"
             ],
             [
              0.5555555555555556,
              "#d8576b"
             ],
             [
              0.6666666666666666,
              "#ed7953"
             ],
             [
              0.7777777777777778,
              "#fb9f3a"
             ],
             [
              0.8888888888888888,
              "#fdca26"
             ],
             [
              1,
              "#f0f921"
             ]
            ],
            "type": "histogram2d"
           }
          ],
          "histogram2dcontour": [
           {
            "colorbar": {
             "outlinewidth": 0,
             "ticks": ""
            },
            "colorscale": [
             [
              0,
              "#0d0887"
             ],
             [
              0.1111111111111111,
              "#46039f"
             ],
             [
              0.2222222222222222,
              "#7201a8"
             ],
             [
              0.3333333333333333,
              "#9c179e"
             ],
             [
              0.4444444444444444,
              "#bd3786"
             ],
             [
              0.5555555555555556,
              "#d8576b"
             ],
             [
              0.6666666666666666,
              "#ed7953"
             ],
             [
              0.7777777777777778,
              "#fb9f3a"
             ],
             [
              0.8888888888888888,
              "#fdca26"
             ],
             [
              1,
              "#f0f921"
             ]
            ],
            "type": "histogram2dcontour"
           }
          ],
          "mesh3d": [
           {
            "colorbar": {
             "outlinewidth": 0,
             "ticks": ""
            },
            "type": "mesh3d"
           }
          ],
          "parcoords": [
           {
            "line": {
             "colorbar": {
              "outlinewidth": 0,
              "ticks": ""
             }
            },
            "type": "parcoords"
           }
          ],
          "pie": [
           {
            "automargin": true,
            "type": "pie"
           }
          ],
          "scatter": [
           {
            "marker": {
             "colorbar": {
              "outlinewidth": 0,
              "ticks": ""
             }
            },
            "type": "scatter"
           }
          ],
          "scatter3d": [
           {
            "line": {
             "colorbar": {
              "outlinewidth": 0,
              "ticks": ""
             }
            },
            "marker": {
             "colorbar": {
              "outlinewidth": 0,
              "ticks": ""
             }
            },
            "type": "scatter3d"
           }
          ],
          "scattercarpet": [
           {
            "marker": {
             "colorbar": {
              "outlinewidth": 0,
              "ticks": ""
             }
            },
            "type": "scattercarpet"
           }
          ],
          "scattergeo": [
           {
            "marker": {
             "colorbar": {
              "outlinewidth": 0,
              "ticks": ""
             }
            },
            "type": "scattergeo"
           }
          ],
          "scattergl": [
           {
            "marker": {
             "colorbar": {
              "outlinewidth": 0,
              "ticks": ""
             }
            },
            "type": "scattergl"
           }
          ],
          "scattermapbox": [
           {
            "marker": {
             "colorbar": {
              "outlinewidth": 0,
              "ticks": ""
             }
            },
            "type": "scattermapbox"
           }
          ],
          "scatterpolar": [
           {
            "marker": {
             "colorbar": {
              "outlinewidth": 0,
              "ticks": ""
             }
            },
            "type": "scatterpolar"
           }
          ],
          "scatterpolargl": [
           {
            "marker": {
             "colorbar": {
              "outlinewidth": 0,
              "ticks": ""
             }
            },
            "type": "scatterpolargl"
           }
          ],
          "scatterternary": [
           {
            "marker": {
             "colorbar": {
              "outlinewidth": 0,
              "ticks": ""
             }
            },
            "type": "scatterternary"
           }
          ],
          "surface": [
           {
            "colorbar": {
             "outlinewidth": 0,
             "ticks": ""
            },
            "colorscale": [
             [
              0,
              "#0d0887"
             ],
             [
              0.1111111111111111,
              "#46039f"
             ],
             [
              0.2222222222222222,
              "#7201a8"
             ],
             [
              0.3333333333333333,
              "#9c179e"
             ],
             [
              0.4444444444444444,
              "#bd3786"
             ],
             [
              0.5555555555555556,
              "#d8576b"
             ],
             [
              0.6666666666666666,
              "#ed7953"
             ],
             [
              0.7777777777777778,
              "#fb9f3a"
             ],
             [
              0.8888888888888888,
              "#fdca26"
             ],
             [
              1,
              "#f0f921"
             ]
            ],
            "type": "surface"
           }
          ],
          "table": [
           {
            "cells": {
             "fill": {
              "color": "#EBF0F8"
             },
             "line": {
              "color": "white"
             }
            },
            "header": {
             "fill": {
              "color": "#C8D4E3"
             },
             "line": {
              "color": "white"
             }
            },
            "type": "table"
           }
          ]
         },
         "layout": {
          "annotationdefaults": {
           "arrowcolor": "#2a3f5f",
           "arrowhead": 0,
           "arrowwidth": 1
          },
          "autotypenumbers": "strict",
          "coloraxis": {
           "colorbar": {
            "outlinewidth": 0,
            "ticks": ""
           }
          },
          "colorscale": {
           "diverging": [
            [
             0,
             "#8e0152"
            ],
            [
             0.1,
             "#c51b7d"
            ],
            [
             0.2,
             "#de77ae"
            ],
            [
             0.3,
             "#f1b6da"
            ],
            [
             0.4,
             "#fde0ef"
            ],
            [
             0.5,
             "#f7f7f7"
            ],
            [
             0.6,
             "#e6f5d0"
            ],
            [
             0.7,
             "#b8e186"
            ],
            [
             0.8,
             "#7fbc41"
            ],
            [
             0.9,
             "#4d9221"
            ],
            [
             1,
             "#276419"
            ]
           ],
           "sequential": [
            [
             0,
             "#0d0887"
            ],
            [
             0.1111111111111111,
             "#46039f"
            ],
            [
             0.2222222222222222,
             "#7201a8"
            ],
            [
             0.3333333333333333,
             "#9c179e"
            ],
            [
             0.4444444444444444,
             "#bd3786"
            ],
            [
             0.5555555555555556,
             "#d8576b"
            ],
            [
             0.6666666666666666,
             "#ed7953"
            ],
            [
             0.7777777777777778,
             "#fb9f3a"
            ],
            [
             0.8888888888888888,
             "#fdca26"
            ],
            [
             1,
             "#f0f921"
            ]
           ],
           "sequentialminus": [
            [
             0,
             "#0d0887"
            ],
            [
             0.1111111111111111,
             "#46039f"
            ],
            [
             0.2222222222222222,
             "#7201a8"
            ],
            [
             0.3333333333333333,
             "#9c179e"
            ],
            [
             0.4444444444444444,
             "#bd3786"
            ],
            [
             0.5555555555555556,
             "#d8576b"
            ],
            [
             0.6666666666666666,
             "#ed7953"
            ],
            [
             0.7777777777777778,
             "#fb9f3a"
            ],
            [
             0.8888888888888888,
             "#fdca26"
            ],
            [
             1,
             "#f0f921"
            ]
           ]
          },
          "colorway": [
           "#636efa",
           "#EF553B",
           "#00cc96",
           "#ab63fa",
           "#FFA15A",
           "#19d3f3",
           "#FF6692",
           "#B6E880",
           "#FF97FF",
           "#FECB52"
          ],
          "font": {
           "color": "#2a3f5f"
          },
          "geo": {
           "bgcolor": "white",
           "lakecolor": "white",
           "landcolor": "#E5ECF6",
           "showlakes": true,
           "showland": true,
           "subunitcolor": "white"
          },
          "hoverlabel": {
           "align": "left"
          },
          "hovermode": "closest",
          "mapbox": {
           "style": "light"
          },
          "paper_bgcolor": "white",
          "plot_bgcolor": "#E5ECF6",
          "polar": {
           "angularaxis": {
            "gridcolor": "white",
            "linecolor": "white",
            "ticks": ""
           },
           "bgcolor": "#E5ECF6",
           "radialaxis": {
            "gridcolor": "white",
            "linecolor": "white",
            "ticks": ""
           }
          },
          "scene": {
           "xaxis": {
            "backgroundcolor": "#E5ECF6",
            "gridcolor": "white",
            "gridwidth": 2,
            "linecolor": "white",
            "showbackground": true,
            "ticks": "",
            "zerolinecolor": "white"
           },
           "yaxis": {
            "backgroundcolor": "#E5ECF6",
            "gridcolor": "white",
            "gridwidth": 2,
            "linecolor": "white",
            "showbackground": true,
            "ticks": "",
            "zerolinecolor": "white"
           },
           "zaxis": {
            "backgroundcolor": "#E5ECF6",
            "gridcolor": "white",
            "gridwidth": 2,
            "linecolor": "white",
            "showbackground": true,
            "ticks": "",
            "zerolinecolor": "white"
           }
          },
          "shapedefaults": {
           "line": {
            "color": "#2a3f5f"
           }
          },
          "ternary": {
           "aaxis": {
            "gridcolor": "white",
            "linecolor": "white",
            "ticks": ""
           },
           "baxis": {
            "gridcolor": "white",
            "linecolor": "white",
            "ticks": ""
           },
           "bgcolor": "#E5ECF6",
           "caxis": {
            "gridcolor": "white",
            "linecolor": "white",
            "ticks": ""
           }
          },
          "title": {
           "x": 0.05
          },
          "xaxis": {
           "automargin": true,
           "gridcolor": "white",
           "linecolor": "white",
           "ticks": "",
           "title": {
            "standoff": 15
           },
           "zerolinecolor": "white",
           "zerolinewidth": 2
          },
          "yaxis": {
           "automargin": true,
           "gridcolor": "white",
           "linecolor": "white",
           "ticks": "",
           "title": {
            "standoff": 15
           },
           "zerolinecolor": "white",
           "zerolinewidth": 2
          }
         }
        },
        "title": {
         "text": "Latest Rolling Availability % by Line"
        },
        "xaxis": {
         "anchor": "y",
         "domain": [
          0,
          1
         ],
         "title": {
          "text": "Line"
         }
        },
        "yaxis": {
         "anchor": "x",
         "domain": [
          0,
          1
         ],
         "range": [
          0,
          100
         ],
         "title": {
          "text": "Availability %"
         }
        }
       }
      }
     },
     "metadata": {},
     "output_type": "display_data"
    },
    {
     "data": {
      "application/vnd.plotly.v1+json": {
       "config": {
        "plotlyServerURL": "https://plot.ly"
       },
       "data": [
        {
         "alignmentgroup": "True",
         "hovertemplate": "Line=%{x}<br>Performance %=%{y}<extra></extra>",
         "legendgroup": "",
         "marker": {
          "color": "#636efa",
          "pattern": {
           "shape": ""
          }
         },
         "name": "",
         "offsetgroup": "",
         "orientation": "v",
         "showlegend": false,
         "textposition": "auto",
         "type": "bar",
         "x": [
          "FRA - FF Packaging, VL6",
          "FRA - FF Packaging, VL44",
          "FRA - FF Packaging, HV01",
          "WAT - AIL1 Packaging",
          "SUZ - FETTE 2090 IV",
          "WAT - LYO Packaging Line 3",
          "WAT - LYO Packaging Line 9",
          "SUZ - TARGIFOR",
          "SCO - COLLE1",
          "SUZ - NIKKA",
          "SUZ - STRUNK",
          "SUZ - GRON.DROPS/SPRAY",
          "SUZ - LINE 10 - BOTTLES LINE",
          "HZG - Bottle Packaging line 7",
          "HZG - Semi-automatic Packaging line",
          "WAT - AIL2 Packaging",
          "TRS - L19 Packaging Line",
          "ORI - EG123",
          "SUZ - LINE 08 - BLISTERFLEX",
          "MAF - I2 Inspection Line",
          "SUZ - EYE DROPS OPTIMA",
          "MAF - R1 Filling Line",
          "MAF - I4 Inspection Line",
          "LSX - SIG2 Packaging Line",
          "MAF - R4 Filling Line",
          "OCO - UHLMANN 1 Packaging Line",
          "SUZ - NEWMAN",
          "WAT - AIL2 ASSEMBLY",
          "SUZ - BAUSCH",
          "HZG - Bottle Packaging line 6",
          "LSX - SIG1 Packaging Line",
          "SCO - IMA C80/2",
          "SUZ - FETTE 3090 I",
          "TRS - L24 Packaging Line",
          "SUZ - LINE 04 - BOSCH TLT 1400",
          "HZG - Blister packaging line 4",
          "TRS - L15 Packaging Line",
          "FRA - FF NLP, M22 Inspection",
          "MAF - I6 Inspection Line",
          "HZG - Blister packaging line 1",
          "SCO - Gamma4",
          "FRA - FF Packaging, VL56",
          "LSX - C65-2 Packaging Line",
          "RDG - H6 Syringe Filling Line",
          "MAF - C3 Packaging Line",
          "OCO - JARABES Packaging Line",
          "SZX - Packaging line 3",
          "FRA - FF NLP, M22 Filling",
          "SCO - IMA C80/1",
          "FRA - FF NLP, M21 Inspection",
          "LSX - 1030 Packaging Line",
          "FRA - FF NLP, M21 Filling",
          "FRA - FF NAPA, M48 Inspection",
          "HZG - Blister packaging line 2",
          "TRS - L18 Packaging Line",
          "SCO - GAMMA1",
          "SUZ - LINE 07 - UPS300",
          "SUZ - POMADAS",
          "LSX - C65-1 Packaging Line",
          "LSX - 1070-2 Packaging Line",
          "LLB - CP-2 Packaging (STRL)",
          "SCO - IMA C80/3",
          "TRS - L25 Packaging Line",
          "FRA - FF NAPA, M31 Inspection",
          "VDR - K15_2",
          "SUZ - LINE 02 - UHLMANN 1030",
          "SUZ - LINE 03 - MEDISEAL CP600",
          "OCO - UHLMANN 2 Packaging Line",
          "SCO - PART92",
          "FRA - FF NAPA, M24 Inspection",
          "SUZ - GRON.SYRUP",
          "MAF - C5 Packaging Line",
          "MAF - C9 Packaging Line",
          "MAF - C4 Packaging Line",
          "OCO - PARTENA 3 Packaging Line",
          "SUZ - LINE 01 - UHLMANN 1880",
          "MAF - R5 Filling Line",
          "WAT - LYO INSPECTION",
          "LLB - IMA C95 Packaging (SOLD)",
          "SUZ - MEDISEAL PURAN",
          "LLB - Sarong Packaging (SSL)",
          "SUZ - IMA DERMACYD",
          "LLB - Bosch-1 Packaging (CEPH)",
          "OCO - C90 Packaging Line",
          "FRA - FF Packaging, VL50",
          "SCO - PAR102",
          "SUZ - LINE 06 - MEDISEAL CP 600 COMBO",
          "TRS - L17 Packaging Line",
          "MAF - C2 Packaging Line",
          "LLB - Bosch-2 Packaging (PENC)",
          "FRA - Devices Pens, AL4",
          "LLB - TFS-30 Packaging (SSL)",
          "FRA - Devices AI, Semi 120-1 Assembly",
          "SUZ - EFERVESCENT CEWIN",
          "LLB - Bosch-2 Packaging (SOLD)",
          "SCO - GAMMA2",
          "LLB - SPREY Packaging (NSL)",
          "FRA - Devices Pens, AL1",
          "SCO - IMA C80/4",
          "SUZ - MARCHESINI",
          "SUZ - FARCON",
          "FRA - Devices AI, Semi 120-1 Labeling",
          "SCO - U3",
          "FRA - FF Packaging, VL9",
          "OCO - SUSPENSIONES Packaging Line",
          "LLB - IMA-3 Packaging (SOLD)",
          "FRA - FF NAPA, M46 Filling",
          "FRA - Devices Pens, AL3",
          "OCO - PARTENA 1 Packaging Line",
          "FRA - Devices Pens, AL2",
          "SCO - GAMMA3",
          "MAF - C6 Packaging Line",
          "OCO - MELOX Packaging Line",
          "LLB - Uhlmann Packaging (SOLD)",
          "FRA - FF Packaging, VL47",
          "LSX - TR200 Packaging Line",
          "VDR - K32_1",
          "LLB - Bosch-1 Packaging (SOLD)",
          "FRA - FF NAPA, M53 Filling",
          "OCO - MEDISEAL Packaging Line",
          "LLB - IMA-1 Packaging (NSL)",
          "LTR - C8 Packaging line",
          "RDG - Synvisc Packaging Line",
          "FRA - Pharma, M26 Filling",
          "FRA - Devices Pens, AL6",
          "TRS - L21 Packaging Line",
          "LTR - C9 Packaging line",
          "OCO - LACTACYD Packaging Line",
          "LTR - C6 Packaging line",
          "LTR - C2 Packaging Line",
          "FRA - Devices Pens, AL5 Packaging 1",
          "LTR - C7 Packaging line",
          "LLB - Bosch-1 Packaging (PENC)",
          "LLB - IMA-4 Packaging (SOLD)",
          "LLB - IMA-2 Packaging (SOLD)",
          "LLB - Huttlin-1 Granulation",
          "FRA - Devices AI, Semi 120-1 Packaging",
          "LSX - 1070-1 Packaging Line",
          "LLB - CP-3 Packaging (STRL)",
          "FRA - Devices AI, FDLE",
          "LLB - IMA-2 Packaging (NSL)",
          "LSX - IWK Packaging Line",
          "LSX - SUPPO Packaging Line",
          "SUZ - LINE 05 - SOLIDS IMA LINE",
          "FRA - Devices Pens, AL5 Packaging 2",
          "LTR - C10 Packaging Line",
          "LTR - C5 Packaging Line",
          "FRA - Devices Pens, AL5 Assembly",
          "FRA - Devices AI, EMA 20",
          "LLB - Bosch-3 Packaging (SOLD)",
          "LTR - L647 Bio-Tech Packaging",
          "ELB - FERMENTATION E06",
          "FRA - FF Packaging, VL32",
          "FRA - Pharma, M52 Inspection",
          "MLE - P2A1",
          "FRA - FF Packaging, VL62",
          "ELB - Extraction B12 1st cycle",
          "LTR - Optima Assembling Machine",
          "ELB - FERMENTATION E10",
          "LLB - IMA-1 Packaging (SOLD)",
          "ELB - FERMENTATION V08",
          "FRA - Pharma, M58 Inspection",
          "ELB - FERMENTATION E11",
          "ELB - FERMENTATION E08",
          "ELB - FERMENTATION E05",
          "ELB - FERMENTATION V09",
          "LTR - Corima Assembling Machine",
          "SCO - Diosna 2",
          "ELB - FERMENTATION E09",
          "SCO - COLLE2",
          "SCO - Diosna 1",
          "ORI - EG096",
          "ELB - FERMENTATION E07"
         ],
         "xaxis": "x",
         "y": [
          2622.1617962725127,
          1427.2728730823967,
          1140.9952263880025,
          432.0948282072229,
          312.48169985010713,
          254.57031973050567,
          155.35450880320417,
          150.31205832858768,
          141.7963553759604,
          137.31078928684474,
          122.69459626262525,
          121.6413816807341,
          121.23919648168152,
          110.44513379964172,
          110.43470077341108,
          110.02396667958097,
          107.49659096119554,
          106.75558174687775,
          104.8152830362058,
          104.44654593996064,
          102.45294606330448,
          100.12227767181786,
          99.22037849949608,
          98.51503816468559,
          97.9329536777861,
          97.85618553893809,
          97.3721624965137,
          96.36602895273413,
          96.04316684606006,
          95.05772931001252,
          94.61767443418276,
          94.60851338007002,
          94.59486758162886,
          94.13916607974463,
          93.96556340882472,
          93.90139226686033,
          93.78128756232438,
          93.62130282131986,
          93.4346217123666,
          93.37035488649978,
          93.35520975143791,
          93.30448814831928,
          92.12740315819207,
          92.10461111215498,
          91.46886447686842,
          91.44402703213372,
          91.34550873301889,
          91.17560736453143,
          91.06246296853294,
          90.91517825265855,
          90.54336307578306,
          90.03808985715798,
          90.02962281287867,
          89.93878609367485,
          89.82922553254417,
          89.58752764711306,
          89.14389731996805,
          89.14295871494673,
          89.03670610482688,
          88.91864931026015,
          88.81752189880393,
          88.66708510943923,
          88.36118854764847,
          87.57795819234997,
          87.4445547095712,
          87.38475516782327,
          86.98323016195549,
          86.71054593428151,
          86.66562308548794,
          86.32268494630205,
          86.28406963219845,
          85.16663735529825,
          85.0526194420245,
          84.43278129688099,
          83.8326053569911,
          83.43071426367268,
          82.6820166863063,
          82.44166702033557,
          82.00016837850515,
          81.14431920028017,
          81.05146657756288,
          80.86581037274857,
          80.5684796919503,
          80.2810595132252,
          79.36679830841487,
          78.95276831324564,
          78.9405389676947,
          78.90689745159455,
          78.70750221006925,
          78.41640179602271,
          78.29442374730834,
          78.0137446886705,
          77.96815381329536,
          77.72551133623132,
          77.36371191797012,
          77.32271989487185,
          77.26157646911126,
          77.25118441512177,
          77.04125693686522,
          76.57550918187101,
          76.35464498603241,
          75.8490788894874,
          75.64712712245866,
          74.35713031040615,
          73.66938718264728,
          73.08373558741008,
          72.9863353728587,
          72.98321837653842,
          72.85737554914999,
          72.41315071002796,
          72.35712725987624,
          71.37198843984748,
          70.75560152276451,
          70.53368797081681,
          70.51977348972892,
          69.90948201421688,
          69.73628111153322,
          69.29822556679909,
          68.97562110717647,
          68.89500976799593,
          67.87532795866092,
          67.2708181058573,
          67.12929314481771,
          66.86657689144181,
          66.71100546600235,
          66.52402361996144,
          65.89249067301071,
          65.79757639159257,
          65.02111269273033,
          64.52650108848235,
          63.000553402030285,
          61.000416359963204,
          60.686828427463176,
          60.441275451114876,
          60.33442115309851,
          59.89843405937747,
          59.77276518769693,
          59.35693522378317,
          58.154138883549734,
          56.91648183025812,
          56.12425330394654,
          56.06471647756082,
          54.85390822012391,
          52.72042864107381,
          52.206799404295666,
          51.80212673366573,
          49.31506945086387,
          49.049242870854066,
          47.45108867683331,
          46.7593100287145,
          42.4610009516707,
          39.98551338692815,
          39.22883575574126,
          38.82685335489686,
          38.28586773109798,
          36.95621585086642,
          36.75175044134486,
          34.95030405949162,
          31.38527188662134,
          31.246932575569463,
          30.442104849071576,
          30.01853938500291,
          18.357820978262737,
          17.07920182706205,
          15.10877865858418,
          7.80225246372103,
          7.202981822176531,
          5.8736742150523495,
          5.0108599290780145,
          1.509661835748757,
          0,
          0,
          0
         ],
         "yaxis": "y"
        }
       ],
       "layout": {
        "barmode": "relative",
        "legend": {
         "tracegroupgap": 0
        },
        "template": {
         "data": {
          "bar": [
           {
            "error_x": {
             "color": "#2a3f5f"
            },
            "error_y": {
             "color": "#2a3f5f"
            },
            "marker": {
             "line": {
              "color": "#E5ECF6",
              "width": 0.5
             },
             "pattern": {
              "fillmode": "overlay",
              "size": 10,
              "solidity": 0.2
             }
            },
            "type": "bar"
           }
          ],
          "barpolar": [
           {
            "marker": {
             "line": {
              "color": "#E5ECF6",
              "width": 0.5
             },
             "pattern": {
              "fillmode": "overlay",
              "size": 10,
              "solidity": 0.2
             }
            },
            "type": "barpolar"
           }
          ],
          "carpet": [
           {
            "aaxis": {
             "endlinecolor": "#2a3f5f",
             "gridcolor": "white",
             "linecolor": "white",
             "minorgridcolor": "white",
             "startlinecolor": "#2a3f5f"
            },
            "baxis": {
             "endlinecolor": "#2a3f5f",
             "gridcolor": "white",
             "linecolor": "white",
             "minorgridcolor": "white",
             "startlinecolor": "#2a3f5f"
            },
            "type": "carpet"
           }
          ],
          "choropleth": [
           {
            "colorbar": {
             "outlinewidth": 0,
             "ticks": ""
            },
            "type": "choropleth"
           }
          ],
          "contour": [
           {
            "colorbar": {
             "outlinewidth": 0,
             "ticks": ""
            },
            "colorscale": [
             [
              0,
              "#0d0887"
             ],
             [
              0.1111111111111111,
              "#46039f"
             ],
             [
              0.2222222222222222,
              "#7201a8"
             ],
             [
              0.3333333333333333,
              "#9c179e"
             ],
             [
              0.4444444444444444,
              "#bd3786"
             ],
             [
              0.5555555555555556,
              "#d8576b"
             ],
             [
              0.6666666666666666,
              "#ed7953"
             ],
             [
              0.7777777777777778,
              "#fb9f3a"
             ],
             [
              0.8888888888888888,
              "#fdca26"
             ],
             [
              1,
              "#f0f921"
             ]
            ],
            "type": "contour"
           }
          ],
          "contourcarpet": [
           {
            "colorbar": {
             "outlinewidth": 0,
             "ticks": ""
            },
            "type": "contourcarpet"
           }
          ],
          "heatmap": [
           {
            "colorbar": {
             "outlinewidth": 0,
             "ticks": ""
            },
            "colorscale": [
             [
              0,
              "#0d0887"
             ],
             [
              0.1111111111111111,
              "#46039f"
             ],
             [
              0.2222222222222222,
              "#7201a8"
             ],
             [
              0.3333333333333333,
              "#9c179e"
             ],
             [
              0.4444444444444444,
              "#bd3786"
             ],
             [
              0.5555555555555556,
              "#d8576b"
             ],
             [
              0.6666666666666666,
              "#ed7953"
             ],
             [
              0.7777777777777778,
              "#fb9f3a"
             ],
             [
              0.8888888888888888,
              "#fdca26"
             ],
             [
              1,
              "#f0f921"
             ]
            ],
            "type": "heatmap"
           }
          ],
          "heatmapgl": [
           {
            "colorbar": {
             "outlinewidth": 0,
             "ticks": ""
            },
            "colorscale": [
             [
              0,
              "#0d0887"
             ],
             [
              0.1111111111111111,
              "#46039f"
             ],
             [
              0.2222222222222222,
              "#7201a8"
             ],
             [
              0.3333333333333333,
              "#9c179e"
             ],
             [
              0.4444444444444444,
              "#bd3786"
             ],
             [
              0.5555555555555556,
              "#d8576b"
             ],
             [
              0.6666666666666666,
              "#ed7953"
             ],
             [
              0.7777777777777778,
              "#fb9f3a"
             ],
             [
              0.8888888888888888,
              "#fdca26"
             ],
             [
              1,
              "#f0f921"
             ]
            ],
            "type": "heatmapgl"
           }
          ],
          "histogram": [
           {
            "marker": {
             "pattern": {
              "fillmode": "overlay",
              "size": 10,
              "solidity": 0.2
             }
            },
            "type": "histogram"
           }
          ],
          "histogram2d": [
           {
            "colorbar": {
             "outlinewidth": 0,
             "ticks": ""
            },
            "colorscale": [
             [
              0,
              "#0d0887"
             ],
             [
              0.1111111111111111,
              "#46039f"
             ],
             [
              0.2222222222222222,
              "#7201a8"
             ],
             [
              0.3333333333333333,
              "#9c179e"
             ],
             [
              0.4444444444444444,
              "#bd3786"
             ],
             [
              0.5555555555555556,
              "#d8576b"
             ],
             [
              0.6666666666666666,
              "#ed7953"
             ],
             [
              0.7777777777777778,
              "#fb9f3a"
             ],
             [
              0.8888888888888888,
              "#fdca26"
             ],
             [
              1,
              "#f0f921"
             ]
            ],
            "type": "histogram2d"
           }
          ],
          "histogram2dcontour": [
           {
            "colorbar": {
             "outlinewidth": 0,
             "ticks": ""
            },
            "colorscale": [
             [
              0,
              "#0d0887"
             ],
             [
              0.1111111111111111,
              "#46039f"
             ],
             [
              0.2222222222222222,
              "#7201a8"
             ],
             [
              0.3333333333333333,
              "#9c179e"
             ],
             [
              0.4444444444444444,
              "#bd3786"
             ],
             [
              0.5555555555555556,
              "#d8576b"
             ],
             [
              0.6666666666666666,
              "#ed7953"
             ],
             [
              0.7777777777777778,
              "#fb9f3a"
             ],
             [
              0.8888888888888888,
              "#fdca26"
             ],
             [
              1,
              "#f0f921"
             ]
            ],
            "type": "histogram2dcontour"
           }
          ],
          "mesh3d": [
           {
            "colorbar": {
             "outlinewidth": 0,
             "ticks": ""
            },
            "type": "mesh3d"
           }
          ],
          "parcoords": [
           {
            "line": {
             "colorbar": {
              "outlinewidth": 0,
              "ticks": ""
             }
            },
            "type": "parcoords"
           }
          ],
          "pie": [
           {
            "automargin": true,
            "type": "pie"
           }
          ],
          "scatter": [
           {
            "marker": {
             "colorbar": {
              "outlinewidth": 0,
              "ticks": ""
             }
            },
            "type": "scatter"
           }
          ],
          "scatter3d": [
           {
            "line": {
             "colorbar": {
              "outlinewidth": 0,
              "ticks": ""
             }
            },
            "marker": {
             "colorbar": {
              "outlinewidth": 0,
              "ticks": ""
             }
            },
            "type": "scatter3d"
           }
          ],
          "scattercarpet": [
           {
            "marker": {
             "colorbar": {
              "outlinewidth": 0,
              "ticks": ""
             }
            },
            "type": "scattercarpet"
           }
          ],
          "scattergeo": [
           {
            "marker": {
             "colorbar": {
              "outlinewidth": 0,
              "ticks": ""
             }
            },
            "type": "scattergeo"
           }
          ],
          "scattergl": [
           {
            "marker": {
             "colorbar": {
              "outlinewidth": 0,
              "ticks": ""
             }
            },
            "type": "scattergl"
           }
          ],
          "scattermapbox": [
           {
            "marker": {
             "colorbar": {
              "outlinewidth": 0,
              "ticks": ""
             }
            },
            "type": "scattermapbox"
           }
          ],
          "scatterpolar": [
           {
            "marker": {
             "colorbar": {
              "outlinewidth": 0,
              "ticks": ""
             }
            },
            "type": "scatterpolar"
           }
          ],
          "scatterpolargl": [
           {
            "marker": {
             "colorbar": {
              "outlinewidth": 0,
              "ticks": ""
             }
            },
            "type": "scatterpolargl"
           }
          ],
          "scatterternary": [
           {
            "marker": {
             "colorbar": {
              "outlinewidth": 0,
              "ticks": ""
             }
            },
            "type": "scatterternary"
           }
          ],
          "surface": [
           {
            "colorbar": {
             "outlinewidth": 0,
             "ticks": ""
            },
            "colorscale": [
             [
              0,
              "#0d0887"
             ],
             [
              0.1111111111111111,
              "#46039f"
             ],
             [
              0.2222222222222222,
              "#7201a8"
             ],
             [
              0.3333333333333333,
              "#9c179e"
             ],
             [
              0.4444444444444444,
              "#bd3786"
             ],
             [
              0.5555555555555556,
              "#d8576b"
             ],
             [
              0.6666666666666666,
              "#ed7953"
             ],
             [
              0.7777777777777778,
              "#fb9f3a"
             ],
             [
              0.8888888888888888,
              "#fdca26"
             ],
             [
              1,
              "#f0f921"
             ]
            ],
            "type": "surface"
           }
          ],
          "table": [
           {
            "cells": {
             "fill": {
              "color": "#EBF0F8"
             },
             "line": {
              "color": "white"
             }
            },
            "header": {
             "fill": {
              "color": "#C8D4E3"
             },
             "line": {
              "color": "white"
             }
            },
            "type": "table"
           }
          ]
         },
         "layout": {
          "annotationdefaults": {
           "arrowcolor": "#2a3f5f",
           "arrowhead": 0,
           "arrowwidth": 1
          },
          "autotypenumbers": "strict",
          "coloraxis": {
           "colorbar": {
            "outlinewidth": 0,
            "ticks": ""
           }
          },
          "colorscale": {
           "diverging": [
            [
             0,
             "#8e0152"
            ],
            [
             0.1,
             "#c51b7d"
            ],
            [
             0.2,
             "#de77ae"
            ],
            [
             0.3,
             "#f1b6da"
            ],
            [
             0.4,
             "#fde0ef"
            ],
            [
             0.5,
             "#f7f7f7"
            ],
            [
             0.6,
             "#e6f5d0"
            ],
            [
             0.7,
             "#b8e186"
            ],
            [
             0.8,
             "#7fbc41"
            ],
            [
             0.9,
             "#4d9221"
            ],
            [
             1,
             "#276419"
            ]
           ],
           "sequential": [
            [
             0,
             "#0d0887"
            ],
            [
             0.1111111111111111,
             "#46039f"
            ],
            [
             0.2222222222222222,
             "#7201a8"
            ],
            [
             0.3333333333333333,
             "#9c179e"
            ],
            [
             0.4444444444444444,
             "#bd3786"
            ],
            [
             0.5555555555555556,
             "#d8576b"
            ],
            [
             0.6666666666666666,
             "#ed7953"
            ],
            [
             0.7777777777777778,
             "#fb9f3a"
            ],
            [
             0.8888888888888888,
             "#fdca26"
            ],
            [
             1,
             "#f0f921"
            ]
           ],
           "sequentialminus": [
            [
             0,
             "#0d0887"
            ],
            [
             0.1111111111111111,
             "#46039f"
            ],
            [
             0.2222222222222222,
             "#7201a8"
            ],
            [
             0.3333333333333333,
             "#9c179e"
            ],
            [
             0.4444444444444444,
             "#bd3786"
            ],
            [
             0.5555555555555556,
             "#d8576b"
            ],
            [
             0.6666666666666666,
             "#ed7953"
            ],
            [
             0.7777777777777778,
             "#fb9f3a"
            ],
            [
             0.8888888888888888,
             "#fdca26"
            ],
            [
             1,
             "#f0f921"
            ]
           ]
          },
          "colorway": [
           "#636efa",
           "#EF553B",
           "#00cc96",
           "#ab63fa",
           "#FFA15A",
           "#19d3f3",
           "#FF6692",
           "#B6E880",
           "#FF97FF",
           "#FECB52"
          ],
          "font": {
           "color": "#2a3f5f"
          },
          "geo": {
           "bgcolor": "white",
           "lakecolor": "white",
           "landcolor": "#E5ECF6",
           "showlakes": true,
           "showland": true,
           "subunitcolor": "white"
          },
          "hoverlabel": {
           "align": "left"
          },
          "hovermode": "closest",
          "mapbox": {
           "style": "light"
          },
          "paper_bgcolor": "white",
          "plot_bgcolor": "#E5ECF6",
          "polar": {
           "angularaxis": {
            "gridcolor": "white",
            "linecolor": "white",
            "ticks": ""
           },
           "bgcolor": "#E5ECF6",
           "radialaxis": {
            "gridcolor": "white",
            "linecolor": "white",
            "ticks": ""
           }
          },
          "scene": {
           "xaxis": {
            "backgroundcolor": "#E5ECF6",
            "gridcolor": "white",
            "gridwidth": 2,
            "linecolor": "white",
            "showbackground": true,
            "ticks": "",
            "zerolinecolor": "white"
           },
           "yaxis": {
            "backgroundcolor": "#E5ECF6",
            "gridcolor": "white",
            "gridwidth": 2,
            "linecolor": "white",
            "showbackground": true,
            "ticks": "",
            "zerolinecolor": "white"
           },
           "zaxis": {
            "backgroundcolor": "#E5ECF6",
            "gridcolor": "white",
            "gridwidth": 2,
            "linecolor": "white",
            "showbackground": true,
            "ticks": "",
            "zerolinecolor": "white"
           }
          },
          "shapedefaults": {
           "line": {
            "color": "#2a3f5f"
           }
          },
          "ternary": {
           "aaxis": {
            "gridcolor": "white",
            "linecolor": "white",
            "ticks": ""
           },
           "baxis": {
            "gridcolor": "white",
            "linecolor": "white",
            "ticks": ""
           },
           "bgcolor": "#E5ECF6",
           "caxis": {
            "gridcolor": "white",
            "linecolor": "white",
            "ticks": ""
           }
          },
          "title": {
           "x": 0.05
          },
          "xaxis": {
           "automargin": true,
           "gridcolor": "white",
           "linecolor": "white",
           "ticks": "",
           "title": {
            "standoff": 15
           },
           "zerolinecolor": "white",
           "zerolinewidth": 2
          },
          "yaxis": {
           "automargin": true,
           "gridcolor": "white",
           "linecolor": "white",
           "ticks": "",
           "title": {
            "standoff": 15
           },
           "zerolinecolor": "white",
           "zerolinewidth": 2
          }
         }
        },
        "title": {
         "text": "Latest Rolling Performance % by Line"
        },
        "xaxis": {
         "anchor": "y",
         "domain": [
          0,
          1
         ],
         "title": {
          "text": "Line"
         }
        },
        "yaxis": {
         "anchor": "x",
         "domain": [
          0,
          1
         ],
         "range": [
          0,
          100
         ],
         "title": {
          "text": "Performance %"
         }
        }
       }
      }
     },
     "metadata": {},
     "output_type": "display_data"
    },
    {
     "data": {
      "application/vnd.plotly.v1+json": {
       "config": {
        "plotlyServerURL": "https://plot.ly"
       },
       "data": [
        {
         "alignmentgroup": "True",
         "hovertemplate": "Line=%{x}<br>Quality %=%{y}<extra></extra>",
         "legendgroup": "",
         "marker": {
          "color": "#636efa",
          "pattern": {
           "shape": ""
          }
         },
         "name": "",
         "offsetgroup": "",
         "orientation": "v",
         "showlegend": false,
         "textposition": "auto",
         "type": "bar",
         "x": [
          "FRA - Devices Pens, AL5 Packaging 1",
          "ELB - Extraction B12 1st cycle",
          "OCO - UHLMANN 1 Packaging Line",
          "OCO - PARTENA 3 Packaging Line",
          "OCO - PARTENA 1 Packaging Line",
          "OCO - MELOX Packaging Line",
          "OCO - MEDISEAL Packaging Line",
          "OCO - LACTACYD Packaging Line",
          "OCO - JARABES Packaging Line",
          "OCO - C90 Packaging Line",
          "MLE - P2A1",
          "MAF - R5 Filling Line",
          "MAF - R4 Filling Line",
          "MAF - R1 Filling Line",
          "SUZ - LINE 10 - BOTTLES LINE",
          "SUZ - MARCHESINI",
          "SUZ - MEDISEAL PURAN",
          "SUZ - NEWMAN",
          "SUZ - NIKKA",
          "ELB - FERMENTATION E05",
          "SUZ - POMADAS",
          "SUZ - STRUNK",
          "SUZ - TARGIFOR",
          "TRS - L15 Packaging Line",
          "TRS - L17 Packaging Line",
          "TRS - L18 Packaging Line",
          "TRS - L19 Packaging Line",
          "TRS - L21 Packaging Line",
          "TRS - L24 Packaging Line",
          "SUZ - LINE 07 - UPS300",
          "TRS - L25 Packaging Line",
          "OCO - SUSPENSIONES Packaging Line",
          "OCO - UHLMANN 2 Packaging Line",
          "LLB - TFS-30 Packaging (SSL)",
          "SCO - U3",
          "SUZ - LINE 04 - BOSCH TLT 1400",
          "SUZ - LINE 03 - MEDISEAL CP600",
          "SUZ - LINE 02 - UHLMANN 1030",
          "SUZ - LINE 01 - UHLMANN 1880",
          "SUZ - IMA DERMACYD",
          "SUZ - GRON.SYRUP",
          "SUZ - GRON.DROPS/SPRAY",
          "SUZ - FETTE 3090 I",
          "SUZ - FETTE 2090 IV",
          "SUZ - FARCON",
          "SUZ - EYE DROPS OPTIMA",
          "SUZ - EFERVESCENT CEWIN",
          "SUZ - BAUSCH",
          "SCO - PART92",
          "ORI - EG123",
          "SCO - PAR102",
          "SCO - IMA C80/4",
          "SCO - IMA C80/3",
          "SCO - IMA C80/2",
          "SCO - IMA C80/1",
          "SCO - Gamma4",
          "SCO - GAMMA3",
          "SCO - GAMMA2",
          "SCO - GAMMA1",
          "SCO - Diosna 2",
          "SCO - Diosna 1",
          "SCO - COLLE1",
          "SUZ - LINE 08 - BLISTERFLEX",
          "LLB - Uhlmann Packaging (SOLD)",
          "SUZ - LINE 06 - MEDISEAL CP 600 COMBO",
          "LLB - Sarong Packaging (SSL)",
          "LLB - SPREY Packaging (NSL)",
          "FRA - FF NAPA, M24 Inspection",
          "FRA - FF NAPA, M31 Inspection",
          "FRA - FF NAPA, M46 Filling",
          "FRA - FF NAPA, M48 Inspection",
          "FRA - FF NAPA, M53 Filling",
          "FRA - FF NLP, M21 Filling",
          "FRA - FF NLP, M21 Inspection",
          "FRA - FF NLP, M22 Filling",
          "FRA - FF NLP, M22 Inspection",
          "FRA - FF Packaging, HV01",
          "FRA - FF Packaging, VL32",
          "FRA - FF Packaging, VL44",
          "FRA - FF Packaging, VL47",
          "FRA - FF Packaging, VL50",
          "FRA - FF Packaging, VL56",
          "FRA - Devices Pens, AL6",
          "FRA - Devices Pens, AL5 Packaging 2",
          "FRA - Devices Pens, AL5 Assembly",
          "FRA - Devices AI, EMA 20",
          "ELB - FERMENTATION E07",
          "ELB - FERMENTATION E08",
          "ELB - FERMENTATION E09",
          "ELB - FERMENTATION E10",
          "ELB - FERMENTATION V08",
          "ELB - FERMENTATION V09",
          "FRA - Devices AI, FDLE",
          "FRA - Devices Pens, AL4",
          "FRA - Devices AI, Semi 120-1 Assembly",
          "FRA - Devices AI, Semi 120-1 Labeling",
          "FRA - Devices AI, Semi 120-1 Packaging",
          "FRA - Devices Pens, AL1",
          "FRA - Devices Pens, AL2",
          "FRA - Devices Pens, AL3",
          "FRA - FF Packaging, VL62",
          "FRA - FF Packaging, VL9",
          "FRA - Pharma, M26 Filling",
          "FRA - Pharma, M58 Inspection",
          "LLB - IMA-4 Packaging (SOLD)",
          "LLB - IMA-3 Packaging (SOLD)",
          "LLB - IMA-2 Packaging (SOLD)",
          "LLB - IMA-2 Packaging (NSL)",
          "LLB - IMA-1 Packaging (SOLD)",
          "WAT - LYO INSPECTION",
          "LLB - IMA C95 Packaging (SOLD)",
          "LLB - Huttlin-1 Granulation",
          "LLB - CP-3 Packaging (STRL)",
          "LLB - CP-2 Packaging (STRL)",
          "LLB - Bosch-3 Packaging (SOLD)",
          "LLB - Bosch-2 Packaging (PENC)",
          "HZG - Semi-automatic Packaging line",
          "HZG - Blister packaging line 1",
          "HZG - Blister packaging line 2",
          "HZG - Blister packaging line 4",
          "HZG - Bottle Packaging line 6",
          "LLB - Bosch-1 Packaging (SOLD)",
          "HZG - Bottle Packaging line 7",
          "LLB - Bosch-1 Packaging (CEPH)",
          "LLB - Bosch-1 Packaging (PENC)",
          "LTR - C7 Packaging line",
          "MAF - C3 Packaging Line",
          "WAT - LYO Packaging Line 3",
          "MAF - C9 Packaging Line",
          "MAF - C4 Packaging Line",
          "RDG - Synvisc Packaging Line",
          "LSX - C65-2 Packaging Line",
          "LSX - 1070-2 Packaging Line",
          "LSX - 1070-1 Packaging Line",
          "MAF - C2 Packaging Line",
          "MAF - C5 Packaging Line",
          "LSX - SIG1 Packaging Line",
          "LTR - Optima Assembling Machine",
          "LSX - C65-1 Packaging Line",
          "FRA - FF Packaging, VL6",
          "LTR - Corima Assembling Machine",
          "RDG - H6 Syringe Filling Line",
          "LSX - 1030 Packaging Line",
          "LSX - SIG2 Packaging Line",
          "LLB - Bosch-2 Packaging (SOLD)",
          "MAF - C6 Packaging Line",
          "LTR - C9 Packaging line",
          "LLB - IMA-1 Packaging (NSL)",
          "LTR - C8 Packaging line",
          "LSX - SUPPO Packaging Line",
          "WAT - AIL2 ASSEMBLY",
          "LTR - C6 Packaging line",
          "LSX - TR200 Packaging Line",
          "WAT - AIL2 Packaging",
          "LSX - IWK Packaging Line",
          "SZX - Packaging line 3",
          "LTR - C2 Packaging Line",
          "LTR - C10 Packaging Line",
          "WAT - AIL1 Packaging",
          "VDR - K15_2",
          "LTR - L647 Bio-Tech Packaging",
          "MAF - I2 Inspection Line",
          "MAF - I4 Inspection Line",
          "WAT - LYO Packaging Line 9",
          "VDR - K32_1",
          "MAF - I6 Inspection Line"
         ],
         "xaxis": "x",
         "y": [
          106.197593875319,
          100,
          100,
          100,
          100,
          100,
          100,
          100,
          100,
          100,
          100,
          100,
          100,
          100,
          100,
          100,
          100,
          100,
          100,
          100,
          100,
          100,
          100,
          100,
          100,
          100,
          100,
          100,
          100,
          100,
          100,
          100,
          100,
          100,
          100,
          100,
          100,
          100,
          100,
          100,
          100,
          100,
          100,
          100,
          100,
          100,
          100,
          100,
          100,
          100,
          100,
          100,
          100,
          100,
          100,
          100,
          100,
          100,
          100,
          100,
          100,
          100,
          100,
          100,
          100,
          100,
          100,
          100,
          100,
          100,
          100,
          100,
          100,
          100,
          100,
          100,
          100,
          100,
          100,
          100,
          100,
          100,
          100,
          100,
          100,
          100,
          100,
          100,
          100,
          100,
          100,
          100,
          100,
          100,
          100,
          100,
          100,
          100,
          100,
          100,
          100,
          100,
          100,
          100,
          100,
          100,
          100,
          100,
          100,
          100,
          100,
          100,
          100,
          100,
          100,
          100,
          100,
          100,
          100,
          100,
          100,
          100,
          100,
          100,
          100,
          99.97235705252129,
          99.95134775329389,
          99.94278621748455,
          99.92871789333974,
          99.8996205091412,
          99.88979084533189,
          99.84053674189815,
          99.8345046549355,
          99.80924447283518,
          99.80068910518557,
          99.79909592183805,
          99.78488192050393,
          99.77436366780094,
          99.75635055810939,
          99.70768374164811,
          99.65311117412978,
          99.65260483557763,
          99.62422699258819,
          99.6220495118376,
          99.53026923455698,
          99.51669391986206,
          99.49643126802547,
          99.45685594809933,
          99.38625603016716,
          99.38579078408509,
          99.34434569903725,
          99.32479797309591,
          99.28718958576793,
          99.28369768382726,
          99.20874554656051,
          98.5413459256428,
          98.16972898807254,
          97.95255197357373,
          97.80564201642606,
          96.38590599136543,
          95.69854907712936,
          95.2893436308457,
          95.02061095742471,
          94.80823448359553,
          93.36292973759711,
          92.26557873498032
         ],
         "yaxis": "y"
        }
       ],
       "layout": {
        "barmode": "relative",
        "legend": {
         "tracegroupgap": 0
        },
        "template": {
         "data": {
          "bar": [
           {
            "error_x": {
             "color": "#2a3f5f"
            },
            "error_y": {
             "color": "#2a3f5f"
            },
            "marker": {
             "line": {
              "color": "#E5ECF6",
              "width": 0.5
             },
             "pattern": {
              "fillmode": "overlay",
              "size": 10,
              "solidity": 0.2
             }
            },
            "type": "bar"
           }
          ],
          "barpolar": [
           {
            "marker": {
             "line": {
              "color": "#E5ECF6",
              "width": 0.5
             },
             "pattern": {
              "fillmode": "overlay",
              "size": 10,
              "solidity": 0.2
             }
            },
            "type": "barpolar"
           }
          ],
          "carpet": [
           {
            "aaxis": {
             "endlinecolor": "#2a3f5f",
             "gridcolor": "white",
             "linecolor": "white",
             "minorgridcolor": "white",
             "startlinecolor": "#2a3f5f"
            },
            "baxis": {
             "endlinecolor": "#2a3f5f",
             "gridcolor": "white",
             "linecolor": "white",
             "minorgridcolor": "white",
             "startlinecolor": "#2a3f5f"
            },
            "type": "carpet"
           }
          ],
          "choropleth": [
           {
            "colorbar": {
             "outlinewidth": 0,
             "ticks": ""
            },
            "type": "choropleth"
           }
          ],
          "contour": [
           {
            "colorbar": {
             "outlinewidth": 0,
             "ticks": ""
            },
            "colorscale": [
             [
              0,
              "#0d0887"
             ],
             [
              0.1111111111111111,
              "#46039f"
             ],
             [
              0.2222222222222222,
              "#7201a8"
             ],
             [
              0.3333333333333333,
              "#9c179e"
             ],
             [
              0.4444444444444444,
              "#bd3786"
             ],
             [
              0.5555555555555556,
              "#d8576b"
             ],
             [
              0.6666666666666666,
              "#ed7953"
             ],
             [
              0.7777777777777778,
              "#fb9f3a"
             ],
             [
              0.8888888888888888,
              "#fdca26"
             ],
             [
              1,
              "#f0f921"
             ]
            ],
            "type": "contour"
           }
          ],
          "contourcarpet": [
           {
            "colorbar": {
             "outlinewidth": 0,
             "ticks": ""
            },
            "type": "contourcarpet"
           }
          ],
          "heatmap": [
           {
            "colorbar": {
             "outlinewidth": 0,
             "ticks": ""
            },
            "colorscale": [
             [
              0,
              "#0d0887"
             ],
             [
              0.1111111111111111,
              "#46039f"
             ],
             [
              0.2222222222222222,
              "#7201a8"
             ],
             [
              0.3333333333333333,
              "#9c179e"
             ],
             [
              0.4444444444444444,
              "#bd3786"
             ],
             [
              0.5555555555555556,
              "#d8576b"
             ],
             [
              0.6666666666666666,
              "#ed7953"
             ],
             [
              0.7777777777777778,
              "#fb9f3a"
             ],
             [
              0.8888888888888888,
              "#fdca26"
             ],
             [
              1,
              "#f0f921"
             ]
            ],
            "type": "heatmap"
           }
          ],
          "heatmapgl": [
           {
            "colorbar": {
             "outlinewidth": 0,
             "ticks": ""
            },
            "colorscale": [
             [
              0,
              "#0d0887"
             ],
             [
              0.1111111111111111,
              "#46039f"
             ],
             [
              0.2222222222222222,
              "#7201a8"
             ],
             [
              0.3333333333333333,
              "#9c179e"
             ],
             [
              0.4444444444444444,
              "#bd3786"
             ],
             [
              0.5555555555555556,
              "#d8576b"
             ],
             [
              0.6666666666666666,
              "#ed7953"
             ],
             [
              0.7777777777777778,
              "#fb9f3a"
             ],
             [
              0.8888888888888888,
              "#fdca26"
             ],
             [
              1,
              "#f0f921"
             ]
            ],
            "type": "heatmapgl"
           }
          ],
          "histogram": [
           {
            "marker": {
             "pattern": {
              "fillmode": "overlay",
              "size": 10,
              "solidity": 0.2
             }
            },
            "type": "histogram"
           }
          ],
          "histogram2d": [
           {
            "colorbar": {
             "outlinewidth": 0,
             "ticks": ""
            },
            "colorscale": [
             [
              0,
              "#0d0887"
             ],
             [
              0.1111111111111111,
              "#46039f"
             ],
             [
              0.2222222222222222,
              "#7201a8"
             ],
             [
              0.3333333333333333,
              "#9c179e"
             ],
             [
              0.4444444444444444,
              "#bd3786"
             ],
             [
              0.5555555555555556,
              "#d8576b"
             ],
             [
              0.6666666666666666,
              "#ed7953"
             ],
             [
              0.7777777777777778,
              "#fb9f3a"
             ],
             [
              0.8888888888888888,
              "#fdca26"
             ],
             [
              1,
              "#f0f921"
             ]
            ],
            "type": "histogram2d"
           }
          ],
          "histogram2dcontour": [
           {
            "colorbar": {
             "outlinewidth": 0,
             "ticks": ""
            },
            "colorscale": [
             [
              0,
              "#0d0887"
             ],
             [
              0.1111111111111111,
              "#46039f"
             ],
             [
              0.2222222222222222,
              "#7201a8"
             ],
             [
              0.3333333333333333,
              "#9c179e"
             ],
             [
              0.4444444444444444,
              "#bd3786"
             ],
             [
              0.5555555555555556,
              "#d8576b"
             ],
             [
              0.6666666666666666,
              "#ed7953"
             ],
             [
              0.7777777777777778,
              "#fb9f3a"
             ],
             [
              0.8888888888888888,
              "#fdca26"
             ],
             [
              1,
              "#f0f921"
             ]
            ],
            "type": "histogram2dcontour"
           }
          ],
          "mesh3d": [
           {
            "colorbar": {
             "outlinewidth": 0,
             "ticks": ""
            },
            "type": "mesh3d"
           }
          ],
          "parcoords": [
           {
            "line": {
             "colorbar": {
              "outlinewidth": 0,
              "ticks": ""
             }
            },
            "type": "parcoords"
           }
          ],
          "pie": [
           {
            "automargin": true,
            "type": "pie"
           }
          ],
          "scatter": [
           {
            "marker": {
             "colorbar": {
              "outlinewidth": 0,
              "ticks": ""
             }
            },
            "type": "scatter"
           }
          ],
          "scatter3d": [
           {
            "line": {
             "colorbar": {
              "outlinewidth": 0,
              "ticks": ""
             }
            },
            "marker": {
             "colorbar": {
              "outlinewidth": 0,
              "ticks": ""
             }
            },
            "type": "scatter3d"
           }
          ],
          "scattercarpet": [
           {
            "marker": {
             "colorbar": {
              "outlinewidth": 0,
              "ticks": ""
             }
            },
            "type": "scattercarpet"
           }
          ],
          "scattergeo": [
           {
            "marker": {
             "colorbar": {
              "outlinewidth": 0,
              "ticks": ""
             }
            },
            "type": "scattergeo"
           }
          ],
          "scattergl": [
           {
            "marker": {
             "colorbar": {
              "outlinewidth": 0,
              "ticks": ""
             }
            },
            "type": "scattergl"
           }
          ],
          "scattermapbox": [
           {
            "marker": {
             "colorbar": {
              "outlinewidth": 0,
              "ticks": ""
             }
            },
            "type": "scattermapbox"
           }
          ],
          "scatterpolar": [
           {
            "marker": {
             "colorbar": {
              "outlinewidth": 0,
              "ticks": ""
             }
            },
            "type": "scatterpolar"
           }
          ],
          "scatterpolargl": [
           {
            "marker": {
             "colorbar": {
              "outlinewidth": 0,
              "ticks": ""
             }
            },
            "type": "scatterpolargl"
           }
          ],
          "scatterternary": [
           {
            "marker": {
             "colorbar": {
              "outlinewidth": 0,
              "ticks": ""
             }
            },
            "type": "scatterternary"
           }
          ],
          "surface": [
           {
            "colorbar": {
             "outlinewidth": 0,
             "ticks": ""
            },
            "colorscale": [
             [
              0,
              "#0d0887"
             ],
             [
              0.1111111111111111,
              "#46039f"
             ],
             [
              0.2222222222222222,
              "#7201a8"
             ],
             [
              0.3333333333333333,
              "#9c179e"
             ],
             [
              0.4444444444444444,
              "#bd3786"
             ],
             [
              0.5555555555555556,
              "#d8576b"
             ],
             [
              0.6666666666666666,
              "#ed7953"
             ],
             [
              0.7777777777777778,
              "#fb9f3a"
             ],
             [
              0.8888888888888888,
              "#fdca26"
             ],
             [
              1,
              "#f0f921"
             ]
            ],
            "type": "surface"
           }
          ],
          "table": [
           {
            "cells": {
             "fill": {
              "color": "#EBF0F8"
             },
             "line": {
              "color": "white"
             }
            },
            "header": {
             "fill": {
              "color": "#C8D4E3"
             },
             "line": {
              "color": "white"
             }
            },
            "type": "table"
           }
          ]
         },
         "layout": {
          "annotationdefaults": {
           "arrowcolor": "#2a3f5f",
           "arrowhead": 0,
           "arrowwidth": 1
          },
          "autotypenumbers": "strict",
          "coloraxis": {
           "colorbar": {
            "outlinewidth": 0,
            "ticks": ""
           }
          },
          "colorscale": {
           "diverging": [
            [
             0,
             "#8e0152"
            ],
            [
             0.1,
             "#c51b7d"
            ],
            [
             0.2,
             "#de77ae"
            ],
            [
             0.3,
             "#f1b6da"
            ],
            [
             0.4,
             "#fde0ef"
            ],
            [
             0.5,
             "#f7f7f7"
            ],
            [
             0.6,
             "#e6f5d0"
            ],
            [
             0.7,
             "#b8e186"
            ],
            [
             0.8,
             "#7fbc41"
            ],
            [
             0.9,
             "#4d9221"
            ],
            [
             1,
             "#276419"
            ]
           ],
           "sequential": [
            [
             0,
             "#0d0887"
            ],
            [
             0.1111111111111111,
             "#46039f"
            ],
            [
             0.2222222222222222,
             "#7201a8"
            ],
            [
             0.3333333333333333,
             "#9c179e"
            ],
            [
             0.4444444444444444,
             "#bd3786"
            ],
            [
             0.5555555555555556,
             "#d8576b"
            ],
            [
             0.6666666666666666,
             "#ed7953"
            ],
            [
             0.7777777777777778,
             "#fb9f3a"
            ],
            [
             0.8888888888888888,
             "#fdca26"
            ],
            [
             1,
             "#f0f921"
            ]
           ],
           "sequentialminus": [
            [
             0,
             "#0d0887"
            ],
            [
             0.1111111111111111,
             "#46039f"
            ],
            [
             0.2222222222222222,
             "#7201a8"
            ],
            [
             0.3333333333333333,
             "#9c179e"
            ],
            [
             0.4444444444444444,
             "#bd3786"
            ],
            [
             0.5555555555555556,
             "#d8576b"
            ],
            [
             0.6666666666666666,
             "#ed7953"
            ],
            [
             0.7777777777777778,
             "#fb9f3a"
            ],
            [
             0.8888888888888888,
             "#fdca26"
            ],
            [
             1,
             "#f0f921"
            ]
           ]
          },
          "colorway": [
           "#636efa",
           "#EF553B",
           "#00cc96",
           "#ab63fa",
           "#FFA15A",
           "#19d3f3",
           "#FF6692",
           "#B6E880",
           "#FF97FF",
           "#FECB52"
          ],
          "font": {
           "color": "#2a3f5f"
          },
          "geo": {
           "bgcolor": "white",
           "lakecolor": "white",
           "landcolor": "#E5ECF6",
           "showlakes": true,
           "showland": true,
           "subunitcolor": "white"
          },
          "hoverlabel": {
           "align": "left"
          },
          "hovermode": "closest",
          "mapbox": {
           "style": "light"
          },
          "paper_bgcolor": "white",
          "plot_bgcolor": "#E5ECF6",
          "polar": {
           "angularaxis": {
            "gridcolor": "white",
            "linecolor": "white",
            "ticks": ""
           },
           "bgcolor": "#E5ECF6",
           "radialaxis": {
            "gridcolor": "white",
            "linecolor": "white",
            "ticks": ""
           }
          },
          "scene": {
           "xaxis": {
            "backgroundcolor": "#E5ECF6",
            "gridcolor": "white",
            "gridwidth": 2,
            "linecolor": "white",
            "showbackground": true,
            "ticks": "",
            "zerolinecolor": "white"
           },
           "yaxis": {
            "backgroundcolor": "#E5ECF6",
            "gridcolor": "white",
            "gridwidth": 2,
            "linecolor": "white",
            "showbackground": true,
            "ticks": "",
            "zerolinecolor": "white"
           },
           "zaxis": {
            "backgroundcolor": "#E5ECF6",
            "gridcolor": "white",
            "gridwidth": 2,
            "linecolor": "white",
            "showbackground": true,
            "ticks": "",
            "zerolinecolor": "white"
           }
          },
          "shapedefaults": {
           "line": {
            "color": "#2a3f5f"
           }
          },
          "ternary": {
           "aaxis": {
            "gridcolor": "white",
            "linecolor": "white",
            "ticks": ""
           },
           "baxis": {
            "gridcolor": "white",
            "linecolor": "white",
            "ticks": ""
           },
           "bgcolor": "#E5ECF6",
           "caxis": {
            "gridcolor": "white",
            "linecolor": "white",
            "ticks": ""
           }
          },
          "title": {
           "x": 0.05
          },
          "xaxis": {
           "automargin": true,
           "gridcolor": "white",
           "linecolor": "white",
           "ticks": "",
           "title": {
            "standoff": 15
           },
           "zerolinecolor": "white",
           "zerolinewidth": 2
          },
          "yaxis": {
           "automargin": true,
           "gridcolor": "white",
           "linecolor": "white",
           "ticks": "",
           "title": {
            "standoff": 15
           },
           "zerolinecolor": "white",
           "zerolinewidth": 2
          }
         }
        },
        "title": {
         "text": "Latest Rolling Quality % by Line"
        },
        "xaxis": {
         "anchor": "y",
         "domain": [
          0,
          1
         ],
         "title": {
          "text": "Line"
         }
        },
        "yaxis": {
         "anchor": "x",
         "domain": [
          0,
          1
         ],
         "range": [
          0,
          100
         ],
         "title": {
          "text": "Quality %"
         }
        }
       }
      }
     },
     "metadata": {},
     "output_type": "display_data"
    },
    {
     "data": {
      "application/vnd.plotly.v1+json": {
       "config": {
        "plotlyServerURL": "https://plot.ly"
       },
       "data": [
        {
         "alignmentgroup": "True",
         "hovertemplate": "Plant=%{x}<br>OEE %=%{y}<extra></extra>",
         "legendgroup": "",
         "marker": {
          "color": "#636efa",
          "pattern": {
           "shape": ""
          }
         },
         "name": "",
         "offsetgroup": "",
         "orientation": "v",
         "showlegend": false,
         "textposition": "auto",
         "type": "bar",
         "x": [
          "WAT",
          "HZG",
          "SZX",
          "MAF",
          "LLB",
          "LSX",
          "FRA",
          "OCO",
          "SUZ",
          "RDG",
          "TRS",
          "VDR",
          "SCO",
          "LTR",
          "ELB",
          "ORI",
          "MLE"
         ],
         "xaxis": "x",
         "y": [
          119.89015292454415,
          68.30070069955453,
          55.17198098363836,
          54.94615901229726,
          52.59081746327667,
          51.37127119912605,
          49.895128526659576,
          48.90189627396511,
          47.8877786021806,
          47.343700989994936,
          38.09206511981401,
          37.96833691713889,
          32.62087723733296,
          29.888945290932895,
          29.19907850005927,
          16.85781660603813,
          9.481389724752349
         ],
         "yaxis": "y"
        }
       ],
       "layout": {
        "annotations": [
         {
          "showarrow": false,
          "text": "60% June 2022 Target",
          "x": 0,
          "xanchor": "left",
          "xref": "x domain",
          "y": 60,
          "yanchor": "top",
          "yref": "y"
         },
         {
          "showarrow": false,
          "text": "65% December 2022 Target",
          "x": 1,
          "xanchor": "right",
          "xref": "x domain",
          "y": 65,
          "yanchor": "bottom",
          "yref": "y"
         }
        ],
        "barmode": "relative",
        "legend": {
         "tracegroupgap": 0
        },
        "shapes": [
         {
          "line": {
           "color": "orange",
           "dash": "dot"
          },
          "type": "line",
          "x0": 0,
          "x1": 1,
          "xref": "x domain",
          "y0": 60,
          "y1": 60,
          "yref": "y"
         },
         {
          "line": {
           "color": "green",
           "dash": "dot"
          },
          "type": "line",
          "x0": 0,
          "x1": 1,
          "xref": "x domain",
          "y0": 65,
          "y1": 65,
          "yref": "y"
         }
        ],
        "template": {
         "data": {
          "bar": [
           {
            "error_x": {
             "color": "#2a3f5f"
            },
            "error_y": {
             "color": "#2a3f5f"
            },
            "marker": {
             "line": {
              "color": "#E5ECF6",
              "width": 0.5
             },
             "pattern": {
              "fillmode": "overlay",
              "size": 10,
              "solidity": 0.2
             }
            },
            "type": "bar"
           }
          ],
          "barpolar": [
           {
            "marker": {
             "line": {
              "color": "#E5ECF6",
              "width": 0.5
             },
             "pattern": {
              "fillmode": "overlay",
              "size": 10,
              "solidity": 0.2
             }
            },
            "type": "barpolar"
           }
          ],
          "carpet": [
           {
            "aaxis": {
             "endlinecolor": "#2a3f5f",
             "gridcolor": "white",
             "linecolor": "white",
             "minorgridcolor": "white",
             "startlinecolor": "#2a3f5f"
            },
            "baxis": {
             "endlinecolor": "#2a3f5f",
             "gridcolor": "white",
             "linecolor": "white",
             "minorgridcolor": "white",
             "startlinecolor": "#2a3f5f"
            },
            "type": "carpet"
           }
          ],
          "choropleth": [
           {
            "colorbar": {
             "outlinewidth": 0,
             "ticks": ""
            },
            "type": "choropleth"
           }
          ],
          "contour": [
           {
            "colorbar": {
             "outlinewidth": 0,
             "ticks": ""
            },
            "colorscale": [
             [
              0,
              "#0d0887"
             ],
             [
              0.1111111111111111,
              "#46039f"
             ],
             [
              0.2222222222222222,
              "#7201a8"
             ],
             [
              0.3333333333333333,
              "#9c179e"
             ],
             [
              0.4444444444444444,
              "#bd3786"
             ],
             [
              0.5555555555555556,
              "#d8576b"
             ],
             [
              0.6666666666666666,
              "#ed7953"
             ],
             [
              0.7777777777777778,
              "#fb9f3a"
             ],
             [
              0.8888888888888888,
              "#fdca26"
             ],
             [
              1,
              "#f0f921"
             ]
            ],
            "type": "contour"
           }
          ],
          "contourcarpet": [
           {
            "colorbar": {
             "outlinewidth": 0,
             "ticks": ""
            },
            "type": "contourcarpet"
           }
          ],
          "heatmap": [
           {
            "colorbar": {
             "outlinewidth": 0,
             "ticks": ""
            },
            "colorscale": [
             [
              0,
              "#0d0887"
             ],
             [
              0.1111111111111111,
              "#46039f"
             ],
             [
              0.2222222222222222,
              "#7201a8"
             ],
             [
              0.3333333333333333,
              "#9c179e"
             ],
             [
              0.4444444444444444,
              "#bd3786"
             ],
             [
              0.5555555555555556,
              "#d8576b"
             ],
             [
              0.6666666666666666,
              "#ed7953"
             ],
             [
              0.7777777777777778,
              "#fb9f3a"
             ],
             [
              0.8888888888888888,
              "#fdca26"
             ],
             [
              1,
              "#f0f921"
             ]
            ],
            "type": "heatmap"
           }
          ],
          "heatmapgl": [
           {
            "colorbar": {
             "outlinewidth": 0,
             "ticks": ""
            },
            "colorscale": [
             [
              0,
              "#0d0887"
             ],
             [
              0.1111111111111111,
              "#46039f"
             ],
             [
              0.2222222222222222,
              "#7201a8"
             ],
             [
              0.3333333333333333,
              "#9c179e"
             ],
             [
              0.4444444444444444,
              "#bd3786"
             ],
             [
              0.5555555555555556,
              "#d8576b"
             ],
             [
              0.6666666666666666,
              "#ed7953"
             ],
             [
              0.7777777777777778,
              "#fb9f3a"
             ],
             [
              0.8888888888888888,
              "#fdca26"
             ],
             [
              1,
              "#f0f921"
             ]
            ],
            "type": "heatmapgl"
           }
          ],
          "histogram": [
           {
            "marker": {
             "pattern": {
              "fillmode": "overlay",
              "size": 10,
              "solidity": 0.2
             }
            },
            "type": "histogram"
           }
          ],
          "histogram2d": [
           {
            "colorbar": {
             "outlinewidth": 0,
             "ticks": ""
            },
            "colorscale": [
             [
              0,
              "#0d0887"
             ],
             [
              0.1111111111111111,
              "#46039f"
             ],
             [
              0.2222222222222222,
              "#7201a8"
             ],
             [
              0.3333333333333333,
              "#9c179e"
             ],
             [
              0.4444444444444444,
              "#bd3786"
             ],
             [
              0.5555555555555556,
              "#d8576b"
             ],
             [
              0.6666666666666666,
              "#ed7953"
             ],
             [
              0.7777777777777778,
              "#fb9f3a"
             ],
             [
              0.8888888888888888,
              "#fdca26"
             ],
             [
              1,
              "#f0f921"
             ]
            ],
            "type": "histogram2d"
           }
          ],
          "histogram2dcontour": [
           {
            "colorbar": {
             "outlinewidth": 0,
             "ticks": ""
            },
            "colorscale": [
             [
              0,
              "#0d0887"
             ],
             [
              0.1111111111111111,
              "#46039f"
             ],
             [
              0.2222222222222222,
              "#7201a8"
             ],
             [
              0.3333333333333333,
              "#9c179e"
             ],
             [
              0.4444444444444444,
              "#bd3786"
             ],
             [
              0.5555555555555556,
              "#d8576b"
             ],
             [
              0.6666666666666666,
              "#ed7953"
             ],
             [
              0.7777777777777778,
              "#fb9f3a"
             ],
             [
              0.8888888888888888,
              "#fdca26"
             ],
             [
              1,
              "#f0f921"
             ]
            ],
            "type": "histogram2dcontour"
           }
          ],
          "mesh3d": [
           {
            "colorbar": {
             "outlinewidth": 0,
             "ticks": ""
            },
            "type": "mesh3d"
           }
          ],
          "parcoords": [
           {
            "line": {
             "colorbar": {
              "outlinewidth": 0,
              "ticks": ""
             }
            },
            "type": "parcoords"
           }
          ],
          "pie": [
           {
            "automargin": true,
            "type": "pie"
           }
          ],
          "scatter": [
           {
            "marker": {
             "colorbar": {
              "outlinewidth": 0,
              "ticks": ""
             }
            },
            "type": "scatter"
           }
          ],
          "scatter3d": [
           {
            "line": {
             "colorbar": {
              "outlinewidth": 0,
              "ticks": ""
             }
            },
            "marker": {
             "colorbar": {
              "outlinewidth": 0,
              "ticks": ""
             }
            },
            "type": "scatter3d"
           }
          ],
          "scattercarpet": [
           {
            "marker": {
             "colorbar": {
              "outlinewidth": 0,
              "ticks": ""
             }
            },
            "type": "scattercarpet"
           }
          ],
          "scattergeo": [
           {
            "marker": {
             "colorbar": {
              "outlinewidth": 0,
              "ticks": ""
             }
            },
            "type": "scattergeo"
           }
          ],
          "scattergl": [
           {
            "marker": {
             "colorbar": {
              "outlinewidth": 0,
              "ticks": ""
             }
            },
            "type": "scattergl"
           }
          ],
          "scattermapbox": [
           {
            "marker": {
             "colorbar": {
              "outlinewidth": 0,
              "ticks": ""
             }
            },
            "type": "scattermapbox"
           }
          ],
          "scatterpolar": [
           {
            "marker": {
             "colorbar": {
              "outlinewidth": 0,
              "ticks": ""
             }
            },
            "type": "scatterpolar"
           }
          ],
          "scatterpolargl": [
           {
            "marker": {
             "colorbar": {
              "outlinewidth": 0,
              "ticks": ""
             }
            },
            "type": "scatterpolargl"
           }
          ],
          "scatterternary": [
           {
            "marker": {
             "colorbar": {
              "outlinewidth": 0,
              "ticks": ""
             }
            },
            "type": "scatterternary"
           }
          ],
          "surface": [
           {
            "colorbar": {
             "outlinewidth": 0,
             "ticks": ""
            },
            "colorscale": [
             [
              0,
              "#0d0887"
             ],
             [
              0.1111111111111111,
              "#46039f"
             ],
             [
              0.2222222222222222,
              "#7201a8"
             ],
             [
              0.3333333333333333,
              "#9c179e"
             ],
             [
              0.4444444444444444,
              "#bd3786"
             ],
             [
              0.5555555555555556,
              "#d8576b"
             ],
             [
              0.6666666666666666,
              "#ed7953"
             ],
             [
              0.7777777777777778,
              "#fb9f3a"
             ],
             [
              0.8888888888888888,
              "#fdca26"
             ],
             [
              1,
              "#f0f921"
             ]
            ],
            "type": "surface"
           }
          ],
          "table": [
           {
            "cells": {
             "fill": {
              "color": "#EBF0F8"
             },
             "line": {
              "color": "white"
             }
            },
            "header": {
             "fill": {
              "color": "#C8D4E3"
             },
             "line": {
              "color": "white"
             }
            },
            "type": "table"
           }
          ]
         },
         "layout": {
          "annotationdefaults": {
           "arrowcolor": "#2a3f5f",
           "arrowhead": 0,
           "arrowwidth": 1
          },
          "autotypenumbers": "strict",
          "coloraxis": {
           "colorbar": {
            "outlinewidth": 0,
            "ticks": ""
           }
          },
          "colorscale": {
           "diverging": [
            [
             0,
             "#8e0152"
            ],
            [
             0.1,
             "#c51b7d"
            ],
            [
             0.2,
             "#de77ae"
            ],
            [
             0.3,
             "#f1b6da"
            ],
            [
             0.4,
             "#fde0ef"
            ],
            [
             0.5,
             "#f7f7f7"
            ],
            [
             0.6,
             "#e6f5d0"
            ],
            [
             0.7,
             "#b8e186"
            ],
            [
             0.8,
             "#7fbc41"
            ],
            [
             0.9,
             "#4d9221"
            ],
            [
             1,
             "#276419"
            ]
           ],
           "sequential": [
            [
             0,
             "#0d0887"
            ],
            [
             0.1111111111111111,
             "#46039f"
            ],
            [
             0.2222222222222222,
             "#7201a8"
            ],
            [
             0.3333333333333333,
             "#9c179e"
            ],
            [
             0.4444444444444444,
             "#bd3786"
            ],
            [
             0.5555555555555556,
             "#d8576b"
            ],
            [
             0.6666666666666666,
             "#ed7953"
            ],
            [
             0.7777777777777778,
             "#fb9f3a"
            ],
            [
             0.8888888888888888,
             "#fdca26"
            ],
            [
             1,
             "#f0f921"
            ]
           ],
           "sequentialminus": [
            [
             0,
             "#0d0887"
            ],
            [
             0.1111111111111111,
             "#46039f"
            ],
            [
             0.2222222222222222,
             "#7201a8"
            ],
            [
             0.3333333333333333,
             "#9c179e"
            ],
            [
             0.4444444444444444,
             "#bd3786"
            ],
            [
             0.5555555555555556,
             "#d8576b"
            ],
            [
             0.6666666666666666,
             "#ed7953"
            ],
            [
             0.7777777777777778,
             "#fb9f3a"
            ],
            [
             0.8888888888888888,
             "#fdca26"
            ],
            [
             1,
             "#f0f921"
            ]
           ]
          },
          "colorway": [
           "#636efa",
           "#EF553B",
           "#00cc96",
           "#ab63fa",
           "#FFA15A",
           "#19d3f3",
           "#FF6692",
           "#B6E880",
           "#FF97FF",
           "#FECB52"
          ],
          "font": {
           "color": "#2a3f5f"
          },
          "geo": {
           "bgcolor": "white",
           "lakecolor": "white",
           "landcolor": "#E5ECF6",
           "showlakes": true,
           "showland": true,
           "subunitcolor": "white"
          },
          "hoverlabel": {
           "align": "left"
          },
          "hovermode": "closest",
          "mapbox": {
           "style": "light"
          },
          "paper_bgcolor": "white",
          "plot_bgcolor": "#E5ECF6",
          "polar": {
           "angularaxis": {
            "gridcolor": "white",
            "linecolor": "white",
            "ticks": ""
           },
           "bgcolor": "#E5ECF6",
           "radialaxis": {
            "gridcolor": "white",
            "linecolor": "white",
            "ticks": ""
           }
          },
          "scene": {
           "xaxis": {
            "backgroundcolor": "#E5ECF6",
            "gridcolor": "white",
            "gridwidth": 2,
            "linecolor": "white",
            "showbackground": true,
            "ticks": "",
            "zerolinecolor": "white"
           },
           "yaxis": {
            "backgroundcolor": "#E5ECF6",
            "gridcolor": "white",
            "gridwidth": 2,
            "linecolor": "white",
            "showbackground": true,
            "ticks": "",
            "zerolinecolor": "white"
           },
           "zaxis": {
            "backgroundcolor": "#E5ECF6",
            "gridcolor": "white",
            "gridwidth": 2,
            "linecolor": "white",
            "showbackground": true,
            "ticks": "",
            "zerolinecolor": "white"
           }
          },
          "shapedefaults": {
           "line": {
            "color": "#2a3f5f"
           }
          },
          "ternary": {
           "aaxis": {
            "gridcolor": "white",
            "linecolor": "white",
            "ticks": ""
           },
           "baxis": {
            "gridcolor": "white",
            "linecolor": "white",
            "ticks": ""
           },
           "bgcolor": "#E5ECF6",
           "caxis": {
            "gridcolor": "white",
            "linecolor": "white",
            "ticks": ""
           }
          },
          "title": {
           "x": 0.05
          },
          "xaxis": {
           "automargin": true,
           "gridcolor": "white",
           "linecolor": "white",
           "ticks": "",
           "title": {
            "standoff": 15
           },
           "zerolinecolor": "white",
           "zerolinewidth": 2
          },
          "yaxis": {
           "automargin": true,
           "gridcolor": "white",
           "linecolor": "white",
           "ticks": "",
           "title": {
            "standoff": 15
           },
           "zerolinecolor": "white",
           "zerolinewidth": 2
          }
         }
        },
        "title": {
         "text": "Latest Rolling OEE % by Plant"
        },
        "xaxis": {
         "anchor": "y",
         "domain": [
          0,
          1
         ],
         "title": {
          "text": "Plant"
         }
        },
        "yaxis": {
         "anchor": "x",
         "domain": [
          0,
          1
         ],
         "range": [
          0,
          100
         ],
         "title": {
          "text": "OEE %"
         }
        }
       }
      }
     },
     "metadata": {},
     "output_type": "display_data"
    },
    {
     "data": {
      "application/vnd.plotly.v1+json": {
       "config": {
        "plotlyServerURL": "https://plot.ly"
       },
       "data": [
        {
         "alignmentgroup": "True",
         "hovertemplate": "Plant=%{x}<br>Availability %=%{y}<extra></extra>",
         "legendgroup": "",
         "marker": {
          "color": "#636efa",
          "pattern": {
           "shape": ""
          }
         },
         "name": "",
         "offsetgroup": "",
         "orientation": "v",
         "showlegend": false,
         "textposition": "auto",
         "type": "bar",
         "x": [
          "ORI",
          "SZX",
          "MLE",
          "LLB",
          "HZG",
          "LSX",
          "MAF",
          "RDG",
          "OCO",
          "ELB",
          "LTR",
          "FRA",
          "SCO",
          "SUZ",
          "TRS",
          "VDR",
          "WAT"
         ],
         "xaxis": "x",
         "y": [
          90.73564770113502,
          74.93824923314271,
          71.3630049675852,
          69.84873677148117,
          69.44037122055856,
          63.682634700469535,
          61.32591817649466,
          59.19738398122498,
          58.7051044201243,
          53.945710126863275,
          51.11261523909366,
          50.89166606052075,
          50.2833071804005,
          48.42316770302914,
          42.95675226282908,
          42.09859553247059,
          28.15315302893567
         ],
         "yaxis": "y"
        }
       ],
       "layout": {
        "barmode": "relative",
        "legend": {
         "tracegroupgap": 0
        },
        "template": {
         "data": {
          "bar": [
           {
            "error_x": {
             "color": "#2a3f5f"
            },
            "error_y": {
             "color": "#2a3f5f"
            },
            "marker": {
             "line": {
              "color": "#E5ECF6",
              "width": 0.5
             },
             "pattern": {
              "fillmode": "overlay",
              "size": 10,
              "solidity": 0.2
             }
            },
            "type": "bar"
           }
          ],
          "barpolar": [
           {
            "marker": {
             "line": {
              "color": "#E5ECF6",
              "width": 0.5
             },
             "pattern": {
              "fillmode": "overlay",
              "size": 10,
              "solidity": 0.2
             }
            },
            "type": "barpolar"
           }
          ],
          "carpet": [
           {
            "aaxis": {
             "endlinecolor": "#2a3f5f",
             "gridcolor": "white",
             "linecolor": "white",
             "minorgridcolor": "white",
             "startlinecolor": "#2a3f5f"
            },
            "baxis": {
             "endlinecolor": "#2a3f5f",
             "gridcolor": "white",
             "linecolor": "white",
             "minorgridcolor": "white",
             "startlinecolor": "#2a3f5f"
            },
            "type": "carpet"
           }
          ],
          "choropleth": [
           {
            "colorbar": {
             "outlinewidth": 0,
             "ticks": ""
            },
            "type": "choropleth"
           }
          ],
          "contour": [
           {
            "colorbar": {
             "outlinewidth": 0,
             "ticks": ""
            },
            "colorscale": [
             [
              0,
              "#0d0887"
             ],
             [
              0.1111111111111111,
              "#46039f"
             ],
             [
              0.2222222222222222,
              "#7201a8"
             ],
             [
              0.3333333333333333,
              "#9c179e"
             ],
             [
              0.4444444444444444,
              "#bd3786"
             ],
             [
              0.5555555555555556,
              "#d8576b"
             ],
             [
              0.6666666666666666,
              "#ed7953"
             ],
             [
              0.7777777777777778,
              "#fb9f3a"
             ],
             [
              0.8888888888888888,
              "#fdca26"
             ],
             [
              1,
              "#f0f921"
             ]
            ],
            "type": "contour"
           }
          ],
          "contourcarpet": [
           {
            "colorbar": {
             "outlinewidth": 0,
             "ticks": ""
            },
            "type": "contourcarpet"
           }
          ],
          "heatmap": [
           {
            "colorbar": {
             "outlinewidth": 0,
             "ticks": ""
            },
            "colorscale": [
             [
              0,
              "#0d0887"
             ],
             [
              0.1111111111111111,
              "#46039f"
             ],
             [
              0.2222222222222222,
              "#7201a8"
             ],
             [
              0.3333333333333333,
              "#9c179e"
             ],
             [
              0.4444444444444444,
              "#bd3786"
             ],
             [
              0.5555555555555556,
              "#d8576b"
             ],
             [
              0.6666666666666666,
              "#ed7953"
             ],
             [
              0.7777777777777778,
              "#fb9f3a"
             ],
             [
              0.8888888888888888,
              "#fdca26"
             ],
             [
              1,
              "#f0f921"
             ]
            ],
            "type": "heatmap"
           }
          ],
          "heatmapgl": [
           {
            "colorbar": {
             "outlinewidth": 0,
             "ticks": ""
            },
            "colorscale": [
             [
              0,
              "#0d0887"
             ],
             [
              0.1111111111111111,
              "#46039f"
             ],
             [
              0.2222222222222222,
              "#7201a8"
             ],
             [
              0.3333333333333333,
              "#9c179e"
             ],
             [
              0.4444444444444444,
              "#bd3786"
             ],
             [
              0.5555555555555556,
              "#d8576b"
             ],
             [
              0.6666666666666666,
              "#ed7953"
             ],
             [
              0.7777777777777778,
              "#fb9f3a"
             ],
             [
              0.8888888888888888,
              "#fdca26"
             ],
             [
              1,
              "#f0f921"
             ]
            ],
            "type": "heatmapgl"
           }
          ],
          "histogram": [
           {
            "marker": {
             "pattern": {
              "fillmode": "overlay",
              "size": 10,
              "solidity": 0.2
             }
            },
            "type": "histogram"
           }
          ],
          "histogram2d": [
           {
            "colorbar": {
             "outlinewidth": 0,
             "ticks": ""
            },
            "colorscale": [
             [
              0,
              "#0d0887"
             ],
             [
              0.1111111111111111,
              "#46039f"
             ],
             [
              0.2222222222222222,
              "#7201a8"
             ],
             [
              0.3333333333333333,
              "#9c179e"
             ],
             [
              0.4444444444444444,
              "#bd3786"
             ],
             [
              0.5555555555555556,
              "#d8576b"
             ],
             [
              0.6666666666666666,
              "#ed7953"
             ],
             [
              0.7777777777777778,
              "#fb9f3a"
             ],
             [
              0.8888888888888888,
              "#fdca26"
             ],
             [
              1,
              "#f0f921"
             ]
            ],
            "type": "histogram2d"
           }
          ],
          "histogram2dcontour": [
           {
            "colorbar": {
             "outlinewidth": 0,
             "ticks": ""
            },
            "colorscale": [
             [
              0,
              "#0d0887"
             ],
             [
              0.1111111111111111,
              "#46039f"
             ],
             [
              0.2222222222222222,
              "#7201a8"
             ],
             [
              0.3333333333333333,
              "#9c179e"
             ],
             [
              0.4444444444444444,
              "#bd3786"
             ],
             [
              0.5555555555555556,
              "#d8576b"
             ],
             [
              0.6666666666666666,
              "#ed7953"
             ],
             [
              0.7777777777777778,
              "#fb9f3a"
             ],
             [
              0.8888888888888888,
              "#fdca26"
             ],
             [
              1,
              "#f0f921"
             ]
            ],
            "type": "histogram2dcontour"
           }
          ],
          "mesh3d": [
           {
            "colorbar": {
             "outlinewidth": 0,
             "ticks": ""
            },
            "type": "mesh3d"
           }
          ],
          "parcoords": [
           {
            "line": {
             "colorbar": {
              "outlinewidth": 0,
              "ticks": ""
             }
            },
            "type": "parcoords"
           }
          ],
          "pie": [
           {
            "automargin": true,
            "type": "pie"
           }
          ],
          "scatter": [
           {
            "marker": {
             "colorbar": {
              "outlinewidth": 0,
              "ticks": ""
             }
            },
            "type": "scatter"
           }
          ],
          "scatter3d": [
           {
            "line": {
             "colorbar": {
              "outlinewidth": 0,
              "ticks": ""
             }
            },
            "marker": {
             "colorbar": {
              "outlinewidth": 0,
              "ticks": ""
             }
            },
            "type": "scatter3d"
           }
          ],
          "scattercarpet": [
           {
            "marker": {
             "colorbar": {
              "outlinewidth": 0,
              "ticks": ""
             }
            },
            "type": "scattercarpet"
           }
          ],
          "scattergeo": [
           {
            "marker": {
             "colorbar": {
              "outlinewidth": 0,
              "ticks": ""
             }
            },
            "type": "scattergeo"
           }
          ],
          "scattergl": [
           {
            "marker": {
             "colorbar": {
              "outlinewidth": 0,
              "ticks": ""
             }
            },
            "type": "scattergl"
           }
          ],
          "scattermapbox": [
           {
            "marker": {
             "colorbar": {
              "outlinewidth": 0,
              "ticks": ""
             }
            },
            "type": "scattermapbox"
           }
          ],
          "scatterpolar": [
           {
            "marker": {
             "colorbar": {
              "outlinewidth": 0,
              "ticks": ""
             }
            },
            "type": "scatterpolar"
           }
          ],
          "scatterpolargl": [
           {
            "marker": {
             "colorbar": {
              "outlinewidth": 0,
              "ticks": ""
             }
            },
            "type": "scatterpolargl"
           }
          ],
          "scatterternary": [
           {
            "marker": {
             "colorbar": {
              "outlinewidth": 0,
              "ticks": ""
             }
            },
            "type": "scatterternary"
           }
          ],
          "surface": [
           {
            "colorbar": {
             "outlinewidth": 0,
             "ticks": ""
            },
            "colorscale": [
             [
              0,
              "#0d0887"
             ],
             [
              0.1111111111111111,
              "#46039f"
             ],
             [
              0.2222222222222222,
              "#7201a8"
             ],
             [
              0.3333333333333333,
              "#9c179e"
             ],
             [
              0.4444444444444444,
              "#bd3786"
             ],
             [
              0.5555555555555556,
              "#d8576b"
             ],
             [
              0.6666666666666666,
              "#ed7953"
             ],
             [
              0.7777777777777778,
              "#fb9f3a"
             ],
             [
              0.8888888888888888,
              "#fdca26"
             ],
             [
              1,
              "#f0f921"
             ]
            ],
            "type": "surface"
           }
          ],
          "table": [
           {
            "cells": {
             "fill": {
              "color": "#EBF0F8"
             },
             "line": {
              "color": "white"
             }
            },
            "header": {
             "fill": {
              "color": "#C8D4E3"
             },
             "line": {
              "color": "white"
             }
            },
            "type": "table"
           }
          ]
         },
         "layout": {
          "annotationdefaults": {
           "arrowcolor": "#2a3f5f",
           "arrowhead": 0,
           "arrowwidth": 1
          },
          "autotypenumbers": "strict",
          "coloraxis": {
           "colorbar": {
            "outlinewidth": 0,
            "ticks": ""
           }
          },
          "colorscale": {
           "diverging": [
            [
             0,
             "#8e0152"
            ],
            [
             0.1,
             "#c51b7d"
            ],
            [
             0.2,
             "#de77ae"
            ],
            [
             0.3,
             "#f1b6da"
            ],
            [
             0.4,
             "#fde0ef"
            ],
            [
             0.5,
             "#f7f7f7"
            ],
            [
             0.6,
             "#e6f5d0"
            ],
            [
             0.7,
             "#b8e186"
            ],
            [
             0.8,
             "#7fbc41"
            ],
            [
             0.9,
             "#4d9221"
            ],
            [
             1,
             "#276419"
            ]
           ],
           "sequential": [
            [
             0,
             "#0d0887"
            ],
            [
             0.1111111111111111,
             "#46039f"
            ],
            [
             0.2222222222222222,
             "#7201a8"
            ],
            [
             0.3333333333333333,
             "#9c179e"
            ],
            [
             0.4444444444444444,
             "#bd3786"
            ],
            [
             0.5555555555555556,
             "#d8576b"
            ],
            [
             0.6666666666666666,
             "#ed7953"
            ],
            [
             0.7777777777777778,
             "#fb9f3a"
            ],
            [
             0.8888888888888888,
             "#fdca26"
            ],
            [
             1,
             "#f0f921"
            ]
           ],
           "sequentialminus": [
            [
             0,
             "#0d0887"
            ],
            [
             0.1111111111111111,
             "#46039f"
            ],
            [
             0.2222222222222222,
             "#7201a8"
            ],
            [
             0.3333333333333333,
             "#9c179e"
            ],
            [
             0.4444444444444444,
             "#bd3786"
            ],
            [
             0.5555555555555556,
             "#d8576b"
            ],
            [
             0.6666666666666666,
             "#ed7953"
            ],
            [
             0.7777777777777778,
             "#fb9f3a"
            ],
            [
             0.8888888888888888,
             "#fdca26"
            ],
            [
             1,
             "#f0f921"
            ]
           ]
          },
          "colorway": [
           "#636efa",
           "#EF553B",
           "#00cc96",
           "#ab63fa",
           "#FFA15A",
           "#19d3f3",
           "#FF6692",
           "#B6E880",
           "#FF97FF",
           "#FECB52"
          ],
          "font": {
           "color": "#2a3f5f"
          },
          "geo": {
           "bgcolor": "white",
           "lakecolor": "white",
           "landcolor": "#E5ECF6",
           "showlakes": true,
           "showland": true,
           "subunitcolor": "white"
          },
          "hoverlabel": {
           "align": "left"
          },
          "hovermode": "closest",
          "mapbox": {
           "style": "light"
          },
          "paper_bgcolor": "white",
          "plot_bgcolor": "#E5ECF6",
          "polar": {
           "angularaxis": {
            "gridcolor": "white",
            "linecolor": "white",
            "ticks": ""
           },
           "bgcolor": "#E5ECF6",
           "radialaxis": {
            "gridcolor": "white",
            "linecolor": "white",
            "ticks": ""
           }
          },
          "scene": {
           "xaxis": {
            "backgroundcolor": "#E5ECF6",
            "gridcolor": "white",
            "gridwidth": 2,
            "linecolor": "white",
            "showbackground": true,
            "ticks": "",
            "zerolinecolor": "white"
           },
           "yaxis": {
            "backgroundcolor": "#E5ECF6",
            "gridcolor": "white",
            "gridwidth": 2,
            "linecolor": "white",
            "showbackground": true,
            "ticks": "",
            "zerolinecolor": "white"
           },
           "zaxis": {
            "backgroundcolor": "#E5ECF6",
            "gridcolor": "white",
            "gridwidth": 2,
            "linecolor": "white",
            "showbackground": true,
            "ticks": "",
            "zerolinecolor": "white"
           }
          },
          "shapedefaults": {
           "line": {
            "color": "#2a3f5f"
           }
          },
          "ternary": {
           "aaxis": {
            "gridcolor": "white",
            "linecolor": "white",
            "ticks": ""
           },
           "baxis": {
            "gridcolor": "white",
            "linecolor": "white",
            "ticks": ""
           },
           "bgcolor": "#E5ECF6",
           "caxis": {
            "gridcolor": "white",
            "linecolor": "white",
            "ticks": ""
           }
          },
          "title": {
           "x": 0.05
          },
          "xaxis": {
           "automargin": true,
           "gridcolor": "white",
           "linecolor": "white",
           "ticks": "",
           "title": {
            "standoff": 15
           },
           "zerolinecolor": "white",
           "zerolinewidth": 2
          },
          "yaxis": {
           "automargin": true,
           "gridcolor": "white",
           "linecolor": "white",
           "ticks": "",
           "title": {
            "standoff": 15
           },
           "zerolinecolor": "white",
           "zerolinewidth": 2
          }
         }
        },
        "title": {
         "text": "Latest Rolling Availability % by Plant"
        },
        "xaxis": {
         "anchor": "y",
         "domain": [
          0,
          1
         ],
         "title": {
          "text": "Plant"
         }
        },
        "yaxis": {
         "anchor": "x",
         "domain": [
          0,
          1
         ],
         "range": [
          0,
          100
         ],
         "title": {
          "text": "Availability %"
         }
        }
       }
      }
     },
     "metadata": {},
     "output_type": "display_data"
    },
    {
     "data": {
      "application/vnd.plotly.v1+json": {
       "config": {
        "plotlyServerURL": "https://plot.ly"
       },
       "data": [
        {
         "alignmentgroup": "True",
         "hovertemplate": "Plant=%{x}<br>Performance %=%{y}<extra></extra>",
         "legendgroup": "",
         "marker": {
          "color": "#636efa",
          "pattern": {
           "shape": ""
          }
         },
         "name": "",
         "offsetgroup": "",
         "orientation": "v",
         "showlegend": false,
         "textposition": "auto",
         "type": "bar",
         "x": [
          "WAT",
          "SUZ",
          "HZG",
          "VDR",
          "FRA",
          "MAF",
          "TRS",
          "OCO",
          "LSX",
          "RDG",
          "SZX",
          "LLB",
          "SCO",
          "LTR",
          "ELB",
          "ORI",
          "MLE"
         ],
         "xaxis": "x",
         "y": [
          446.7638309102527,
          107.56368560287446,
          98.74346839822833,
          97.45247443203328,
          96.03745899370531,
          90.45397529457364,
          87.52375299294927,
          82.39733537259468,
          80.92451989010058,
          79.28239630806684,
          77.94418677666536,
          76.39649522610596,
          72.79328192702532,
          57.98457792405258,
          48.15851947693837,
          26.688895436719438,
          19.90690527051042
         ],
         "yaxis": "y"
        }
       ],
       "layout": {
        "barmode": "relative",
        "legend": {
         "tracegroupgap": 0
        },
        "template": {
         "data": {
          "bar": [
           {
            "error_x": {
             "color": "#2a3f5f"
            },
            "error_y": {
             "color": "#2a3f5f"
            },
            "marker": {
             "line": {
              "color": "#E5ECF6",
              "width": 0.5
             },
             "pattern": {
              "fillmode": "overlay",
              "size": 10,
              "solidity": 0.2
             }
            },
            "type": "bar"
           }
          ],
          "barpolar": [
           {
            "marker": {
             "line": {
              "color": "#E5ECF6",
              "width": 0.5
             },
             "pattern": {
              "fillmode": "overlay",
              "size": 10,
              "solidity": 0.2
             }
            },
            "type": "barpolar"
           }
          ],
          "carpet": [
           {
            "aaxis": {
             "endlinecolor": "#2a3f5f",
             "gridcolor": "white",
             "linecolor": "white",
             "minorgridcolor": "white",
             "startlinecolor": "#2a3f5f"
            },
            "baxis": {
             "endlinecolor": "#2a3f5f",
             "gridcolor": "white",
             "linecolor": "white",
             "minorgridcolor": "white",
             "startlinecolor": "#2a3f5f"
            },
            "type": "carpet"
           }
          ],
          "choropleth": [
           {
            "colorbar": {
             "outlinewidth": 0,
             "ticks": ""
            },
            "type": "choropleth"
           }
          ],
          "contour": [
           {
            "colorbar": {
             "outlinewidth": 0,
             "ticks": ""
            },
            "colorscale": [
             [
              0,
              "#0d0887"
             ],
             [
              0.1111111111111111,
              "#46039f"
             ],
             [
              0.2222222222222222,
              "#7201a8"
             ],
             [
              0.3333333333333333,
              "#9c179e"
             ],
             [
              0.4444444444444444,
              "#bd3786"
             ],
             [
              0.5555555555555556,
              "#d8576b"
             ],
             [
              0.6666666666666666,
              "#ed7953"
             ],
             [
              0.7777777777777778,
              "#fb9f3a"
             ],
             [
              0.8888888888888888,
              "#fdca26"
             ],
             [
              1,
              "#f0f921"
             ]
            ],
            "type": "contour"
           }
          ],
          "contourcarpet": [
           {
            "colorbar": {
             "outlinewidth": 0,
             "ticks": ""
            },
            "type": "contourcarpet"
           }
          ],
          "heatmap": [
           {
            "colorbar": {
             "outlinewidth": 0,
             "ticks": ""
            },
            "colorscale": [
             [
              0,
              "#0d0887"
             ],
             [
              0.1111111111111111,
              "#46039f"
             ],
             [
              0.2222222222222222,
              "#7201a8"
             ],
             [
              0.3333333333333333,
              "#9c179e"
             ],
             [
              0.4444444444444444,
              "#bd3786"
             ],
             [
              0.5555555555555556,
              "#d8576b"
             ],
             [
              0.6666666666666666,
              "#ed7953"
             ],
             [
              0.7777777777777778,
              "#fb9f3a"
             ],
             [
              0.8888888888888888,
              "#fdca26"
             ],
             [
              1,
              "#f0f921"
             ]
            ],
            "type": "heatmap"
           }
          ],
          "heatmapgl": [
           {
            "colorbar": {
             "outlinewidth": 0,
             "ticks": ""
            },
            "colorscale": [
             [
              0,
              "#0d0887"
             ],
             [
              0.1111111111111111,
              "#46039f"
             ],
             [
              0.2222222222222222,
              "#7201a8"
             ],
             [
              0.3333333333333333,
              "#9c179e"
             ],
             [
              0.4444444444444444,
              "#bd3786"
             ],
             [
              0.5555555555555556,
              "#d8576b"
             ],
             [
              0.6666666666666666,
              "#ed7953"
             ],
             [
              0.7777777777777778,
              "#fb9f3a"
             ],
             [
              0.8888888888888888,
              "#fdca26"
             ],
             [
              1,
              "#f0f921"
             ]
            ],
            "type": "heatmapgl"
           }
          ],
          "histogram": [
           {
            "marker": {
             "pattern": {
              "fillmode": "overlay",
              "size": 10,
              "solidity": 0.2
             }
            },
            "type": "histogram"
           }
          ],
          "histogram2d": [
           {
            "colorbar": {
             "outlinewidth": 0,
             "ticks": ""
            },
            "colorscale": [
             [
              0,
              "#0d0887"
             ],
             [
              0.1111111111111111,
              "#46039f"
             ],
             [
              0.2222222222222222,
              "#7201a8"
             ],
             [
              0.3333333333333333,
              "#9c179e"
             ],
             [
              0.4444444444444444,
              "#bd3786"
             ],
             [
              0.5555555555555556,
              "#d8576b"
             ],
             [
              0.6666666666666666,
              "#ed7953"
             ],
             [
              0.7777777777777778,
              "#fb9f3a"
             ],
             [
              0.8888888888888888,
              "#fdca26"
             ],
             [
              1,
              "#f0f921"
             ]
            ],
            "type": "histogram2d"
           }
          ],
          "histogram2dcontour": [
           {
            "colorbar": {
             "outlinewidth": 0,
             "ticks": ""
            },
            "colorscale": [
             [
              0,
              "#0d0887"
             ],
             [
              0.1111111111111111,
              "#46039f"
             ],
             [
              0.2222222222222222,
              "#7201a8"
             ],
             [
              0.3333333333333333,
              "#9c179e"
             ],
             [
              0.4444444444444444,
              "#bd3786"
             ],
             [
              0.5555555555555556,
              "#d8576b"
             ],
             [
              0.6666666666666666,
              "#ed7953"
             ],
             [
              0.7777777777777778,
              "#fb9f3a"
             ],
             [
              0.8888888888888888,
              "#fdca26"
             ],
             [
              1,
              "#f0f921"
             ]
            ],
            "type": "histogram2dcontour"
           }
          ],
          "mesh3d": [
           {
            "colorbar": {
             "outlinewidth": 0,
             "ticks": ""
            },
            "type": "mesh3d"
           }
          ],
          "parcoords": [
           {
            "line": {
             "colorbar": {
              "outlinewidth": 0,
              "ticks": ""
             }
            },
            "type": "parcoords"
           }
          ],
          "pie": [
           {
            "automargin": true,
            "type": "pie"
           }
          ],
          "scatter": [
           {
            "marker": {
             "colorbar": {
              "outlinewidth": 0,
              "ticks": ""
             }
            },
            "type": "scatter"
           }
          ],
          "scatter3d": [
           {
            "line": {
             "colorbar": {
              "outlinewidth": 0,
              "ticks": ""
             }
            },
            "marker": {
             "colorbar": {
              "outlinewidth": 0,
              "ticks": ""
             }
            },
            "type": "scatter3d"
           }
          ],
          "scattercarpet": [
           {
            "marker": {
             "colorbar": {
              "outlinewidth": 0,
              "ticks": ""
             }
            },
            "type": "scattercarpet"
           }
          ],
          "scattergeo": [
           {
            "marker": {
             "colorbar": {
              "outlinewidth": 0,
              "ticks": ""
             }
            },
            "type": "scattergeo"
           }
          ],
          "scattergl": [
           {
            "marker": {
             "colorbar": {
              "outlinewidth": 0,
              "ticks": ""
             }
            },
            "type": "scattergl"
           }
          ],
          "scattermapbox": [
           {
            "marker": {
             "colorbar": {
              "outlinewidth": 0,
              "ticks": ""
             }
            },
            "type": "scattermapbox"
           }
          ],
          "scatterpolar": [
           {
            "marker": {
             "colorbar": {
              "outlinewidth": 0,
              "ticks": ""
             }
            },
            "type": "scatterpolar"
           }
          ],
          "scatterpolargl": [
           {
            "marker": {
             "colorbar": {
              "outlinewidth": 0,
              "ticks": ""
             }
            },
            "type": "scatterpolargl"
           }
          ],
          "scatterternary": [
           {
            "marker": {
             "colorbar": {
              "outlinewidth": 0,
              "ticks": ""
             }
            },
            "type": "scatterternary"
           }
          ],
          "surface": [
           {
            "colorbar": {
             "outlinewidth": 0,
             "ticks": ""
            },
            "colorscale": [
             [
              0,
              "#0d0887"
             ],
             [
              0.1111111111111111,
              "#46039f"
             ],
             [
              0.2222222222222222,
              "#7201a8"
             ],
             [
              0.3333333333333333,
              "#9c179e"
             ],
             [
              0.4444444444444444,
              "#bd3786"
             ],
             [
              0.5555555555555556,
              "#d8576b"
             ],
             [
              0.6666666666666666,
              "#ed7953"
             ],
             [
              0.7777777777777778,
              "#fb9f3a"
             ],
             [
              0.8888888888888888,
              "#fdca26"
             ],
             [
              1,
              "#f0f921"
             ]
            ],
            "type": "surface"
           }
          ],
          "table": [
           {
            "cells": {
             "fill": {
              "color": "#EBF0F8"
             },
             "line": {
              "color": "white"
             }
            },
            "header": {
             "fill": {
              "color": "#C8D4E3"
             },
             "line": {
              "color": "white"
             }
            },
            "type": "table"
           }
          ]
         },
         "layout": {
          "annotationdefaults": {
           "arrowcolor": "#2a3f5f",
           "arrowhead": 0,
           "arrowwidth": 1
          },
          "autotypenumbers": "strict",
          "coloraxis": {
           "colorbar": {
            "outlinewidth": 0,
            "ticks": ""
           }
          },
          "colorscale": {
           "diverging": [
            [
             0,
             "#8e0152"
            ],
            [
             0.1,
             "#c51b7d"
            ],
            [
             0.2,
             "#de77ae"
            ],
            [
             0.3,
             "#f1b6da"
            ],
            [
             0.4,
             "#fde0ef"
            ],
            [
             0.5,
             "#f7f7f7"
            ],
            [
             0.6,
             "#e6f5d0"
            ],
            [
             0.7,
             "#b8e186"
            ],
            [
             0.8,
             "#7fbc41"
            ],
            [
             0.9,
             "#4d9221"
            ],
            [
             1,
             "#276419"
            ]
           ],
           "sequential": [
            [
             0,
             "#0d0887"
            ],
            [
             0.1111111111111111,
             "#46039f"
            ],
            [
             0.2222222222222222,
             "#7201a8"
            ],
            [
             0.3333333333333333,
             "#9c179e"
            ],
            [
             0.4444444444444444,
             "#bd3786"
            ],
            [
             0.5555555555555556,
             "#d8576b"
            ],
            [
             0.6666666666666666,
             "#ed7953"
            ],
            [
             0.7777777777777778,
             "#fb9f3a"
            ],
            [
             0.8888888888888888,
             "#fdca26"
            ],
            [
             1,
             "#f0f921"
            ]
           ],
           "sequentialminus": [
            [
             0,
             "#0d0887"
            ],
            [
             0.1111111111111111,
             "#46039f"
            ],
            [
             0.2222222222222222,
             "#7201a8"
            ],
            [
             0.3333333333333333,
             "#9c179e"
            ],
            [
             0.4444444444444444,
             "#bd3786"
            ],
            [
             0.5555555555555556,
             "#d8576b"
            ],
            [
             0.6666666666666666,
             "#ed7953"
            ],
            [
             0.7777777777777778,
             "#fb9f3a"
            ],
            [
             0.8888888888888888,
             "#fdca26"
            ],
            [
             1,
             "#f0f921"
            ]
           ]
          },
          "colorway": [
           "#636efa",
           "#EF553B",
           "#00cc96",
           "#ab63fa",
           "#FFA15A",
           "#19d3f3",
           "#FF6692",
           "#B6E880",
           "#FF97FF",
           "#FECB52"
          ],
          "font": {
           "color": "#2a3f5f"
          },
          "geo": {
           "bgcolor": "white",
           "lakecolor": "white",
           "landcolor": "#E5ECF6",
           "showlakes": true,
           "showland": true,
           "subunitcolor": "white"
          },
          "hoverlabel": {
           "align": "left"
          },
          "hovermode": "closest",
          "mapbox": {
           "style": "light"
          },
          "paper_bgcolor": "white",
          "plot_bgcolor": "#E5ECF6",
          "polar": {
           "angularaxis": {
            "gridcolor": "white",
            "linecolor": "white",
            "ticks": ""
           },
           "bgcolor": "#E5ECF6",
           "radialaxis": {
            "gridcolor": "white",
            "linecolor": "white",
            "ticks": ""
           }
          },
          "scene": {
           "xaxis": {
            "backgroundcolor": "#E5ECF6",
            "gridcolor": "white",
            "gridwidth": 2,
            "linecolor": "white",
            "showbackground": true,
            "ticks": "",
            "zerolinecolor": "white"
           },
           "yaxis": {
            "backgroundcolor": "#E5ECF6",
            "gridcolor": "white",
            "gridwidth": 2,
            "linecolor": "white",
            "showbackground": true,
            "ticks": "",
            "zerolinecolor": "white"
           },
           "zaxis": {
            "backgroundcolor": "#E5ECF6",
            "gridcolor": "white",
            "gridwidth": 2,
            "linecolor": "white",
            "showbackground": true,
            "ticks": "",
            "zerolinecolor": "white"
           }
          },
          "shapedefaults": {
           "line": {
            "color": "#2a3f5f"
           }
          },
          "ternary": {
           "aaxis": {
            "gridcolor": "white",
            "linecolor": "white",
            "ticks": ""
           },
           "baxis": {
            "gridcolor": "white",
            "linecolor": "white",
            "ticks": ""
           },
           "bgcolor": "#E5ECF6",
           "caxis": {
            "gridcolor": "white",
            "linecolor": "white",
            "ticks": ""
           }
          },
          "title": {
           "x": 0.05
          },
          "xaxis": {
           "automargin": true,
           "gridcolor": "white",
           "linecolor": "white",
           "ticks": "",
           "title": {
            "standoff": 15
           },
           "zerolinecolor": "white",
           "zerolinewidth": 2
          },
          "yaxis": {
           "automargin": true,
           "gridcolor": "white",
           "linecolor": "white",
           "ticks": "",
           "title": {
            "standoff": 15
           },
           "zerolinecolor": "white",
           "zerolinewidth": 2
          }
         }
        },
        "title": {
         "text": "Latest Rolling Performance % by Plant"
        },
        "xaxis": {
         "anchor": "y",
         "domain": [
          0,
          1
         ],
         "title": {
          "text": "Plant"
         }
        },
        "yaxis": {
         "anchor": "x",
         "domain": [
          0,
          1
         ],
         "range": [
          0,
          100
         ],
         "title": {
          "text": "Performance %"
         }
        }
       }
      }
     },
     "metadata": {},
     "output_type": "display_data"
    },
    {
     "data": {
      "application/vnd.plotly.v1+json": {
       "config": {
        "plotlyServerURL": "https://plot.ly"
       },
       "data": [
        {
         "alignmentgroup": "True",
         "hovertemplate": "Plant=%{x}<br>Quality %=%{y}<extra></extra>",
         "legendgroup": "",
         "marker": {
          "color": "#636efa",
          "pattern": {
           "shape": ""
          }
         },
         "name": "",
         "offsetgroup": "",
         "orientation": "v",
         "showlegend": false,
         "textposition": "auto",
         "type": "bar",
         "x": [
          "FRA",
          "ELB",
          "MLE",
          "TRS",
          "SUZ",
          "SCO",
          "ORI",
          "OCO",
          "HZG",
          "LLB",
          "LSX",
          "RDG",
          "LTR",
          "SZX",
          "WAT",
          "MAF",
          "VDR"
         ],
         "xaxis": "x",
         "y": [
          100.08850691687948,
          100,
          100,
          100,
          100,
          100,
          100,
          100,
          100,
          99.97038490071344,
          99.44244760647886,
          99.11288988817472,
          98.78121770370203,
          98.60641389414579,
          98.43177730221525,
          98.21282629689846,
          94.25485949495753
         ],
         "yaxis": "y"
        }
       ],
       "layout": {
        "barmode": "relative",
        "legend": {
         "tracegroupgap": 0
        },
        "template": {
         "data": {
          "bar": [
           {
            "error_x": {
             "color": "#2a3f5f"
            },
            "error_y": {
             "color": "#2a3f5f"
            },
            "marker": {
             "line": {
              "color": "#E5ECF6",
              "width": 0.5
             },
             "pattern": {
              "fillmode": "overlay",
              "size": 10,
              "solidity": 0.2
             }
            },
            "type": "bar"
           }
          ],
          "barpolar": [
           {
            "marker": {
             "line": {
              "color": "#E5ECF6",
              "width": 0.5
             },
             "pattern": {
              "fillmode": "overlay",
              "size": 10,
              "solidity": 0.2
             }
            },
            "type": "barpolar"
           }
          ],
          "carpet": [
           {
            "aaxis": {
             "endlinecolor": "#2a3f5f",
             "gridcolor": "white",
             "linecolor": "white",
             "minorgridcolor": "white",
             "startlinecolor": "#2a3f5f"
            },
            "baxis": {
             "endlinecolor": "#2a3f5f",
             "gridcolor": "white",
             "linecolor": "white",
             "minorgridcolor": "white",
             "startlinecolor": "#2a3f5f"
            },
            "type": "carpet"
           }
          ],
          "choropleth": [
           {
            "colorbar": {
             "outlinewidth": 0,
             "ticks": ""
            },
            "type": "choropleth"
           }
          ],
          "contour": [
           {
            "colorbar": {
             "outlinewidth": 0,
             "ticks": ""
            },
            "colorscale": [
             [
              0,
              "#0d0887"
             ],
             [
              0.1111111111111111,
              "#46039f"
             ],
             [
              0.2222222222222222,
              "#7201a8"
             ],
             [
              0.3333333333333333,
              "#9c179e"
             ],
             [
              0.4444444444444444,
              "#bd3786"
             ],
             [
              0.5555555555555556,
              "#d8576b"
             ],
             [
              0.6666666666666666,
              "#ed7953"
             ],
             [
              0.7777777777777778,
              "#fb9f3a"
             ],
             [
              0.8888888888888888,
              "#fdca26"
             ],
             [
              1,
              "#f0f921"
             ]
            ],
            "type": "contour"
           }
          ],
          "contourcarpet": [
           {
            "colorbar": {
             "outlinewidth": 0,
             "ticks": ""
            },
            "type": "contourcarpet"
           }
          ],
          "heatmap": [
           {
            "colorbar": {
             "outlinewidth": 0,
             "ticks": ""
            },
            "colorscale": [
             [
              0,
              "#0d0887"
             ],
             [
              0.1111111111111111,
              "#46039f"
             ],
             [
              0.2222222222222222,
              "#7201a8"
             ],
             [
              0.3333333333333333,
              "#9c179e"
             ],
             [
              0.4444444444444444,
              "#bd3786"
             ],
             [
              0.5555555555555556,
              "#d8576b"
             ],
             [
              0.6666666666666666,
              "#ed7953"
             ],
             [
              0.7777777777777778,
              "#fb9f3a"
             ],
             [
              0.8888888888888888,
              "#fdca26"
             ],
             [
              1,
              "#f0f921"
             ]
            ],
            "type": "heatmap"
           }
          ],
          "heatmapgl": [
           {
            "colorbar": {
             "outlinewidth": 0,
             "ticks": ""
            },
            "colorscale": [
             [
              0,
              "#0d0887"
             ],
             [
              0.1111111111111111,
              "#46039f"
             ],
             [
              0.2222222222222222,
              "#7201a8"
             ],
             [
              0.3333333333333333,
              "#9c179e"
             ],
             [
              0.4444444444444444,
              "#bd3786"
             ],
             [
              0.5555555555555556,
              "#d8576b"
             ],
             [
              0.6666666666666666,
              "#ed7953"
             ],
             [
              0.7777777777777778,
              "#fb9f3a"
             ],
             [
              0.8888888888888888,
              "#fdca26"
             ],
             [
              1,
              "#f0f921"
             ]
            ],
            "type": "heatmapgl"
           }
          ],
          "histogram": [
           {
            "marker": {
             "pattern": {
              "fillmode": "overlay",
              "size": 10,
              "solidity": 0.2
             }
            },
            "type": "histogram"
           }
          ],
          "histogram2d": [
           {
            "colorbar": {
             "outlinewidth": 0,
             "ticks": ""
            },
            "colorscale": [
             [
              0,
              "#0d0887"
             ],
             [
              0.1111111111111111,
              "#46039f"
             ],
             [
              0.2222222222222222,
              "#7201a8"
             ],
             [
              0.3333333333333333,
              "#9c179e"
             ],
             [
              0.4444444444444444,
              "#bd3786"
             ],
             [
              0.5555555555555556,
              "#d8576b"
             ],
             [
              0.6666666666666666,
              "#ed7953"
             ],
             [
              0.7777777777777778,
              "#fb9f3a"
             ],
             [
              0.8888888888888888,
              "#fdca26"
             ],
             [
              1,
              "#f0f921"
             ]
            ],
            "type": "histogram2d"
           }
          ],
          "histogram2dcontour": [
           {
            "colorbar": {
             "outlinewidth": 0,
             "ticks": ""
            },
            "colorscale": [
             [
              0,
              "#0d0887"
             ],
             [
              0.1111111111111111,
              "#46039f"
             ],
             [
              0.2222222222222222,
              "#7201a8"
             ],
             [
              0.3333333333333333,
              "#9c179e"
             ],
             [
              0.4444444444444444,
              "#bd3786"
             ],
             [
              0.5555555555555556,
              "#d8576b"
             ],
             [
              0.6666666666666666,
              "#ed7953"
             ],
             [
              0.7777777777777778,
              "#fb9f3a"
             ],
             [
              0.8888888888888888,
              "#fdca26"
             ],
             [
              1,
              "#f0f921"
             ]
            ],
            "type": "histogram2dcontour"
           }
          ],
          "mesh3d": [
           {
            "colorbar": {
             "outlinewidth": 0,
             "ticks": ""
            },
            "type": "mesh3d"
           }
          ],
          "parcoords": [
           {
            "line": {
             "colorbar": {
              "outlinewidth": 0,
              "ticks": ""
             }
            },
            "type": "parcoords"
           }
          ],
          "pie": [
           {
            "automargin": true,
            "type": "pie"
           }
          ],
          "scatter": [
           {
            "marker": {
             "colorbar": {
              "outlinewidth": 0,
              "ticks": ""
             }
            },
            "type": "scatter"
           }
          ],
          "scatter3d": [
           {
            "line": {
             "colorbar": {
              "outlinewidth": 0,
              "ticks": ""
             }
            },
            "marker": {
             "colorbar": {
              "outlinewidth": 0,
              "ticks": ""
             }
            },
            "type": "scatter3d"
           }
          ],
          "scattercarpet": [
           {
            "marker": {
             "colorbar": {
              "outlinewidth": 0,
              "ticks": ""
             }
            },
            "type": "scattercarpet"
           }
          ],
          "scattergeo": [
           {
            "marker": {
             "colorbar": {
              "outlinewidth": 0,
              "ticks": ""
             }
            },
            "type": "scattergeo"
           }
          ],
          "scattergl": [
           {
            "marker": {
             "colorbar": {
              "outlinewidth": 0,
              "ticks": ""
             }
            },
            "type": "scattergl"
           }
          ],
          "scattermapbox": [
           {
            "marker": {
             "colorbar": {
              "outlinewidth": 0,
              "ticks": ""
             }
            },
            "type": "scattermapbox"
           }
          ],
          "scatterpolar": [
           {
            "marker": {
             "colorbar": {
              "outlinewidth": 0,
              "ticks": ""
             }
            },
            "type": "scatterpolar"
           }
          ],
          "scatterpolargl": [
           {
            "marker": {
             "colorbar": {
              "outlinewidth": 0,
              "ticks": ""
             }
            },
            "type": "scatterpolargl"
           }
          ],
          "scatterternary": [
           {
            "marker": {
             "colorbar": {
              "outlinewidth": 0,
              "ticks": ""
             }
            },
            "type": "scatterternary"
           }
          ],
          "surface": [
           {
            "colorbar": {
             "outlinewidth": 0,
             "ticks": ""
            },
            "colorscale": [
             [
              0,
              "#0d0887"
             ],
             [
              0.1111111111111111,
              "#46039f"
             ],
             [
              0.2222222222222222,
              "#7201a8"
             ],
             [
              0.3333333333333333,
              "#9c179e"
             ],
             [
              0.4444444444444444,
              "#bd3786"
             ],
             [
              0.5555555555555556,
              "#d8576b"
             ],
             [
              0.6666666666666666,
              "#ed7953"
             ],
             [
              0.7777777777777778,
              "#fb9f3a"
             ],
             [
              0.8888888888888888,
              "#fdca26"
             ],
             [
              1,
              "#f0f921"
             ]
            ],
            "type": "surface"
           }
          ],
          "table": [
           {
            "cells": {
             "fill": {
              "color": "#EBF0F8"
             },
             "line": {
              "color": "white"
             }
            },
            "header": {
             "fill": {
              "color": "#C8D4E3"
             },
             "line": {
              "color": "white"
             }
            },
            "type": "table"
           }
          ]
         },
         "layout": {
          "annotationdefaults": {
           "arrowcolor": "#2a3f5f",
           "arrowhead": 0,
           "arrowwidth": 1
          },
          "autotypenumbers": "strict",
          "coloraxis": {
           "colorbar": {
            "outlinewidth": 0,
            "ticks": ""
           }
          },
          "colorscale": {
           "diverging": [
            [
             0,
             "#8e0152"
            ],
            [
             0.1,
             "#c51b7d"
            ],
            [
             0.2,
             "#de77ae"
            ],
            [
             0.3,
             "#f1b6da"
            ],
            [
             0.4,
             "#fde0ef"
            ],
            [
             0.5,
             "#f7f7f7"
            ],
            [
             0.6,
             "#e6f5d0"
            ],
            [
             0.7,
             "#b8e186"
            ],
            [
             0.8,
             "#7fbc41"
            ],
            [
             0.9,
             "#4d9221"
            ],
            [
             1,
             "#276419"
            ]
           ],
           "sequential": [
            [
             0,
             "#0d0887"
            ],
            [
             0.1111111111111111,
             "#46039f"
            ],
            [
             0.2222222222222222,
             "#7201a8"
            ],
            [
             0.3333333333333333,
             "#9c179e"
            ],
            [
             0.4444444444444444,
             "#bd3786"
            ],
            [
             0.5555555555555556,
             "#d8576b"
            ],
            [
             0.6666666666666666,
             "#ed7953"
            ],
            [
             0.7777777777777778,
             "#fb9f3a"
            ],
            [
             0.8888888888888888,
             "#fdca26"
            ],
            [
             1,
             "#f0f921"
            ]
           ],
           "sequentialminus": [
            [
             0,
             "#0d0887"
            ],
            [
             0.1111111111111111,
             "#46039f"
            ],
            [
             0.2222222222222222,
             "#7201a8"
            ],
            [
             0.3333333333333333,
             "#9c179e"
            ],
            [
             0.4444444444444444,
             "#bd3786"
            ],
            [
             0.5555555555555556,
             "#d8576b"
            ],
            [
             0.6666666666666666,
             "#ed7953"
            ],
            [
             0.7777777777777778,
             "#fb9f3a"
            ],
            [
             0.8888888888888888,
             "#fdca26"
            ],
            [
             1,
             "#f0f921"
            ]
           ]
          },
          "colorway": [
           "#636efa",
           "#EF553B",
           "#00cc96",
           "#ab63fa",
           "#FFA15A",
           "#19d3f3",
           "#FF6692",
           "#B6E880",
           "#FF97FF",
           "#FECB52"
          ],
          "font": {
           "color": "#2a3f5f"
          },
          "geo": {
           "bgcolor": "white",
           "lakecolor": "white",
           "landcolor": "#E5ECF6",
           "showlakes": true,
           "showland": true,
           "subunitcolor": "white"
          },
          "hoverlabel": {
           "align": "left"
          },
          "hovermode": "closest",
          "mapbox": {
           "style": "light"
          },
          "paper_bgcolor": "white",
          "plot_bgcolor": "#E5ECF6",
          "polar": {
           "angularaxis": {
            "gridcolor": "white",
            "linecolor": "white",
            "ticks": ""
           },
           "bgcolor": "#E5ECF6",
           "radialaxis": {
            "gridcolor": "white",
            "linecolor": "white",
            "ticks": ""
           }
          },
          "scene": {
           "xaxis": {
            "backgroundcolor": "#E5ECF6",
            "gridcolor": "white",
            "gridwidth": 2,
            "linecolor": "white",
            "showbackground": true,
            "ticks": "",
            "zerolinecolor": "white"
           },
           "yaxis": {
            "backgroundcolor": "#E5ECF6",
            "gridcolor": "white",
            "gridwidth": 2,
            "linecolor": "white",
            "showbackground": true,
            "ticks": "",
            "zerolinecolor": "white"
           },
           "zaxis": {
            "backgroundcolor": "#E5ECF6",
            "gridcolor": "white",
            "gridwidth": 2,
            "linecolor": "white",
            "showbackground": true,
            "ticks": "",
            "zerolinecolor": "white"
           }
          },
          "shapedefaults": {
           "line": {
            "color": "#2a3f5f"
           }
          },
          "ternary": {
           "aaxis": {
            "gridcolor": "white",
            "linecolor": "white",
            "ticks": ""
           },
           "baxis": {
            "gridcolor": "white",
            "linecolor": "white",
            "ticks": ""
           },
           "bgcolor": "#E5ECF6",
           "caxis": {
            "gridcolor": "white",
            "linecolor": "white",
            "ticks": ""
           }
          },
          "title": {
           "x": 0.05
          },
          "xaxis": {
           "automargin": true,
           "gridcolor": "white",
           "linecolor": "white",
           "ticks": "",
           "title": {
            "standoff": 15
           },
           "zerolinecolor": "white",
           "zerolinewidth": 2
          },
          "yaxis": {
           "automargin": true,
           "gridcolor": "white",
           "linecolor": "white",
           "ticks": "",
           "title": {
            "standoff": 15
           },
           "zerolinecolor": "white",
           "zerolinewidth": 2
          }
         }
        },
        "title": {
         "text": "Latest Rolling Quality % by Plant"
        },
        "xaxis": {
         "anchor": "y",
         "domain": [
          0,
          1
         ],
         "title": {
          "text": "Plant"
         }
        },
        "yaxis": {
         "anchor": "x",
         "domain": [
          0,
          1
         ],
         "range": [
          0,
          100
         ],
         "title": {
          "text": "Quality %"
         }
        }
       }
      }
     },
     "metadata": {},
     "output_type": "display_data"
    }
   ],
   "source": [
    "metrics = ['OEE %','Availability %','Performance %', 'Quality %']\n",
    "\n",
    "for metric in metrics:\n",
    "\n",
    "     fig = px.bar(active_rolling.dropna(subset=[metric]).groupby('Line').tail(1).sort_values(by=metric, ascending=False), x='Line', y=metric,\n",
    "     title='Latest Rolling {} by Line'.format(metric),\n",
    "     range_y=(0,100)\n",
    "     )\n",
    "     if metric == 'OEE %':\n",
    "          fig.add_hline(y=60, line_dash='dot', \n",
    "               annotation_text='60% June 2022 Target', \n",
    "               annotation_position='bottom left')\n",
    "          fig.add_hline(y=65, line_dash='dot', \n",
    "               annotation_text='65% December 2022 Target', \n",
    "               annotation_position='bottom left')\n",
    "     fig.show()\n",
    "\n",
    "for metric in metrics:\n",
    "\n",
    "    fig = px.bar(active_rolling.dropna(subset=[metric]).groupby('Plant').mean().reset_index().sort_values(by=metric, ascending=False), \n",
    "    x='Plant', \n",
    "    y=metric, \n",
    "    title='Latest Rolling {} by Plant'.format(metric),\n",
    "    range_y=(0,100) \n",
    "    )\n",
    "    if metric == 'OEE %':\n",
    "          fig.add_hline(y=60, line_dash='dot',\n",
    "               line_color='orange', \n",
    "               annotation_text='60% June 2022 Target', \n",
    "               annotation_position='bottom left')\n",
    "          fig.add_hline(y=65, line_dash='dot', \n",
    "               line_color='green',\n",
    "               annotation_text='65% December 2022 Target', \n",
    "               annotation_position='top right')\n",
    "\n",
    "    fig.show()\n",
    "\n",
    "    "
   ]
  },
  {
   "cell_type": "markdown",
   "metadata": {},
   "source": [
    "where we have incomplete data provided our metric is null - drop 'em"
   ]
  },
  {
   "cell_type": "code",
   "execution_count": 43,
   "metadata": {},
   "outputs": [
    {
     "data": {
      "text/html": [
       "<div>\n",
       "<style scoped>\n",
       "    .dataframe tbody tr th:only-of-type {\n",
       "        vertical-align: middle;\n",
       "    }\n",
       "\n",
       "    .dataframe tbody tr th {\n",
       "        vertical-align: top;\n",
       "    }\n",
       "\n",
       "    .dataframe thead th {\n",
       "        text-align: right;\n",
       "    }\n",
       "</style>\n",
       "<table border=\"1\" class=\"dataframe\">\n",
       "  <thead>\n",
       "    <tr style=\"text-align: right;\">\n",
       "      <th></th>\n",
       "      <th>Plant</th>\n",
       "      <th>OEE %</th>\n",
       "      <th>Performance %</th>\n",
       "      <th>Availability %</th>\n",
       "      <th>Quality %</th>\n",
       "    </tr>\n",
       "  </thead>\n",
       "  <tbody>\n",
       "    <tr>\n",
       "      <th>0</th>\n",
       "      <td>MLE</td>\n",
       "      <td>16.481565</td>\n",
       "      <td>38.285868</td>\n",
       "      <td>52.172301</td>\n",
       "      <td>100.000000</td>\n",
       "    </tr>\n",
       "    <tr>\n",
       "      <th>1</th>\n",
       "      <td>LTR</td>\n",
       "      <td>30.885526</td>\n",
       "      <td>59.813229</td>\n",
       "      <td>50.657482</td>\n",
       "      <td>98.781218</td>\n",
       "    </tr>\n",
       "    <tr>\n",
       "      <th>2</th>\n",
       "      <td>TRS</td>\n",
       "      <td>38.627887</td>\n",
       "      <td>88.955826</td>\n",
       "      <td>43.494452</td>\n",
       "      <td>100.000000</td>\n",
       "    </tr>\n",
       "    <tr>\n",
       "      <th>3</th>\n",
       "      <td>VDR</td>\n",
       "      <td>39.781694</td>\n",
       "      <td>101.411931</td>\n",
       "      <td>40.852206</td>\n",
       "      <td>94.254859</td>\n",
       "    </tr>\n",
       "    <tr>\n",
       "      <th>4</th>\n",
       "      <td>SCO</td>\n",
       "      <td>43.368767</td>\n",
       "      <td>81.343399</td>\n",
       "      <td>53.814698</td>\n",
       "      <td>100.000000</td>\n",
       "    </tr>\n",
       "    <tr>\n",
       "      <th>5</th>\n",
       "      <td>RDG</td>\n",
       "      <td>47.343701</td>\n",
       "      <td>79.282396</td>\n",
       "      <td>59.197384</td>\n",
       "      <td>99.112890</td>\n",
       "    </tr>\n",
       "    <tr>\n",
       "      <th>6</th>\n",
       "      <td>SUZ</td>\n",
       "      <td>48.233247</td>\n",
       "      <td>108.431920</td>\n",
       "      <td>48.368264</td>\n",
       "      <td>100.000000</td>\n",
       "    </tr>\n",
       "    <tr>\n",
       "      <th>7</th>\n",
       "      <td>OCO</td>\n",
       "      <td>49.219121</td>\n",
       "      <td>82.397335</td>\n",
       "      <td>58.936841</td>\n",
       "      <td>100.000000</td>\n",
       "    </tr>\n",
       "    <tr>\n",
       "      <th>8</th>\n",
       "      <td>FRA</td>\n",
       "      <td>51.223821</td>\n",
       "      <td>97.442134</td>\n",
       "      <td>51.506524</td>\n",
       "      <td>100.088507</td>\n",
       "    </tr>\n",
       "    <tr>\n",
       "      <th>9</th>\n",
       "      <td>LLB</td>\n",
       "      <td>53.251163</td>\n",
       "      <td>77.707836</td>\n",
       "      <td>69.148805</td>\n",
       "      <td>99.970385</td>\n",
       "    </tr>\n",
       "    <tr>\n",
       "      <th>10</th>\n",
       "      <td>LSX</td>\n",
       "      <td>53.548420</td>\n",
       "      <td>83.478452</td>\n",
       "      <td>65.041507</td>\n",
       "      <td>99.442448</td>\n",
       "    </tr>\n",
       "    <tr>\n",
       "      <th>11</th>\n",
       "      <td>MAF</td>\n",
       "      <td>54.946159</td>\n",
       "      <td>90.453975</td>\n",
       "      <td>61.325918</td>\n",
       "      <td>98.212826</td>\n",
       "    </tr>\n",
       "    <tr>\n",
       "      <th>12</th>\n",
       "      <td>ELB</td>\n",
       "      <td>60.695847</td>\n",
       "      <td>80.036799</td>\n",
       "      <td>64.535971</td>\n",
       "      <td>100.000000</td>\n",
       "    </tr>\n",
       "    <tr>\n",
       "      <th>13</th>\n",
       "      <td>SZX</td>\n",
       "      <td>63.965670</td>\n",
       "      <td>88.439929</td>\n",
       "      <td>73.450176</td>\n",
       "      <td>98.606414</td>\n",
       "    </tr>\n",
       "    <tr>\n",
       "      <th>14</th>\n",
       "      <td>ORI</td>\n",
       "      <td>67.431266</td>\n",
       "      <td>106.755582</td>\n",
       "      <td>62.942591</td>\n",
       "      <td>100.000000</td>\n",
       "    </tr>\n",
       "    <tr>\n",
       "      <th>15</th>\n",
       "      <td>HZG</td>\n",
       "      <td>68.300701</td>\n",
       "      <td>98.743468</td>\n",
       "      <td>69.440371</td>\n",
       "      <td>100.000000</td>\n",
       "    </tr>\n",
       "    <tr>\n",
       "      <th>16</th>\n",
       "      <td>WAT</td>\n",
       "      <td>130.487576</td>\n",
       "      <td>447.182945</td>\n",
       "      <td>28.774086</td>\n",
       "      <td>98.431777</td>\n",
       "    </tr>\n",
       "  </tbody>\n",
       "</table>\n",
       "</div>"
      ],
      "text/plain": [
       "   Plant       OEE %  Performance %  Availability %   Quality %\n",
       "0    MLE   16.481565      38.285868       52.172301  100.000000\n",
       "1    LTR   30.885526      59.813229       50.657482   98.781218\n",
       "2    TRS   38.627887      88.955826       43.494452  100.000000\n",
       "3    VDR   39.781694     101.411931       40.852206   94.254859\n",
       "4    SCO   43.368767      81.343399       53.814698  100.000000\n",
       "5    RDG   47.343701      79.282396       59.197384   99.112890\n",
       "6    SUZ   48.233247     108.431920       48.368264  100.000000\n",
       "7    OCO   49.219121      82.397335       58.936841  100.000000\n",
       "8    FRA   51.223821      97.442134       51.506524  100.088507\n",
       "9    LLB   53.251163      77.707836       69.148805   99.970385\n",
       "10   LSX   53.548420      83.478452       65.041507   99.442448\n",
       "11   MAF   54.946159      90.453975       61.325918   98.212826\n",
       "12   ELB   60.695847      80.036799       64.535971  100.000000\n",
       "13   SZX   63.965670      88.439929       73.450176   98.606414\n",
       "14   ORI   67.431266     106.755582       62.942591  100.000000\n",
       "15   HZG   68.300701      98.743468       69.440371  100.000000\n",
       "16   WAT  130.487576     447.182945       28.774086   98.431777"
      ]
     },
     "execution_count": 43,
     "metadata": {},
     "output_type": "execute_result"
    }
   ],
   "source": [
    "active_rolling.dropna(subset=[metric]).groupby('Plant').mean().sort_values(by='OEE %').reset_index()"
   ]
  },
  {
   "cell_type": "code",
   "execution_count": 44,
   "metadata": {},
   "outputs": [
    {
     "data": {
      "application/vnd.plotly.v1+json": {
       "config": {
        "plotlyServerURL": "https://plot.ly"
       },
       "data": [
        {
         "alignmentgroup": "True",
         "bingroup": "x",
         "hovertemplate": "variable=Performance %<br>Performance %=%{x}<br>count=%{y}<extra></extra>",
         "legendgroup": "Performance %",
         "marker": {
          "color": "#636efa",
          "pattern": {
           "shape": ""
          }
         },
         "name": "Performance %",
         "offsetgroup": "Performance %",
         "orientation": "v",
         "showlegend": true,
         "type": "histogram",
         "x": [
          null,
          null,
          null,
          null,
          null,
          null,
          null,
          null,
          null,
          null,
          null,
          null,
          172.5741186833763,
          154.3931022658518,
          158.63361590561217,
          103.2890308592158,
          57.62050718927911,
          4.799538814955646,
          -42.717650469769076,
          -21.550727214008408,
          -15.91236918466429,
          18.743116349819893,
          36.75175044134486,
          62.836532546306515,
          71.8469728395224,
          83.7653639080066,
          82.9522228330076,
          58.93245822117883,
          49.922017927962955,
          null,
          null,
          null,
          null,
          15.10877865858418,
          19.865920229654687,
          19.865920229654687,
          59.85143361658284,
          59.85143361658284,
          39.98551338692815,
          39.98551338692815,
          null,
          null,
          null,
          null,
          null,
          75.6891576655095,
          91.88320313426274,
          88.55244587807005,
          73.93533519170558,
          null,
          null,
          null,
          null,
          26.761968085106375,
          26.761968085106375,
          0,
          56.13520206287004,
          85.13206756438979,
          74.36206985481307,
          79.2150419792048,
          null,
          null,
          null,
          null,
          null,
          17.07920182706205,
          17.07920182706205,
          58.914598484906215,
          85.44409058150059,
          78.92237856234958,
          83.73892121045928,
          54.1239490001068,
          null,
          null,
          null,
          null,
          5.0108599290780145,
          5.0108599290780145,
          55.35200858999222,
          74.20347153709558,
          59.22929020451029,
          65.91080399182655,
          48.38367499701403,
          null,
          null,
          null,
          null,
          31.38527188662134,
          31.38527188662134,
          27.32160271023302,
          28.746155701846337,
          28.746155701846337,
          28.746155701846337,
          1.424552991613314,
          0,
          null,
          null,
          null,
          null,
          18.357820978262737,
          38.802394552582314,
          42.51529531312994,
          60.85206501920706,
          53.213528994934094,
          null,
          null,
          null,
          null,
          null,
          30.442104849071576,
          null,
          106.52924320619259,
          44.83682613788004,
          31.707949450333935,
          33.45037294403569,
          32.87356781278775,
          13.73188986792559,
          null,
          null,
          null,
          null,
          7.80225246372103,
          null,
          null,
          null,
          null,
          null,
          null,
          null,
          null,
          null,
          null,
          null,
          70.16289000888294,
          71.56540726837848,
          null,
          null,
          null,
          null,
          83.4567159045765,
          82.0122341533032,
          80.68764312872045,
          67.02332070906651,
          47.45108867683331,
          57.51393045388138,
          null,
          null,
          null,
          null,
          null,
          null,
          56.91648183025812,
          null,
          null,
          null,
          null,
          null,
          null,
          null,
          null,
          79.11632285784403,
          77.96815381329536,
          null,
          null,
          null,
          null,
          75.36006537722574,
          72.24733223861234,
          null,
          null,
          null,
          null,
          null,
          75.8490788894874,
          null,
          null,
          null,
          59.55741294022316,
          57.408525894193524,
          56.38080189098958,
          null,
          null,
          null,
          null,
          57.7786574851653,
          61.17348801362144,
          59.77276518769693,
          null,
          92.23817788409852,
          91.76452357574398,
          91.80351719192237,
          92.0593879926291,
          91.09778499739701,
          83.64527509777268,
          81.77308413521159,
          78.09440198948535,
          77.25118441512177,
          null,
          null,
          83.1068113119659,
          83.13777237104206,
          83.43992114284809,
          82.81583441168551,
          81.88397276939779,
          81.25750159165719,
          77.86452297293982,
          75.3769615027126,
          72.85133483327478,
          70.37562696249441,
          72.41315071002796,
          null,
          null,
          null,
          80.65400127719087,
          80.98087140167995,
          80.0155148766138,
          80.55226661832339,
          73.64705608304759,
          71.79116210594199,
          72.27198320623378,
          72.98321837653842,
          80.88034706213935,
          80.16254931475304,
          79.49235011152331,
          79.6278317962821,
          81.28554630424102,
          80.39598443354762,
          79.46764591936588,
          78.2414606666648,
          76.33602408538728,
          76.28384673061925,
          78.29442374730834,
          59.61187467703941,
          59.85899542098488,
          56.446701097796534,
          53.40444191311928,
          52.51401283968467,
          48.517400822517935,
          47.299629962711734,
          48.682333752655246,
          49.76729855410907,
          53.127046121686924,
          49.049242870854066,
          null,
          null,
          null,
          null,
          68.54424789525295,
          55.18621450640882,
          53.093562099351445,
          57.01372427452608,
          51.4505109985229,
          63.000553402030285,
          null,
          72.39578751941762,
          72.68254540905014,
          72.40055120561685,
          76.34872821196346,
          75.95255389234944,
          74.575249340788,
          63.646205105437204,
          55.938002614754176,
          52.173752057222124,
          48.97529979087041,
          52.206799404295666,
          72.84893164506637,
          73.34490135888886,
          73.44011717073458,
          73.24228632769308,
          70.93911707033794,
          71.77723085559758,
          71.99250750290346,
          68.19767134936261,
          68.55393609746503,
          68.29098552095019,
          66.71100546600235,
          87.1304547735286,
          87.65156126294072,
          88.87792412098285,
          89.07521798594398,
          89.96846822149097,
          90.10399507811739,
          86.32268494630205,
          null,
          null,
          null,
          null,
          93.04204699892517,
          91.89689628373142,
          87.61081792226237,
          87.57795819234997,
          null,
          null,
          null,
          null,
          null,
          null,
          null,
          69.81709534529377,
          71.15149722179908,
          75.59475374817913,
          76.54913986723841,
          75.06895731263667,
          72.9863353728587,
          null,
          null,
          null,
          null,
          null,
          null,
          null,
          null,
          null,
          null,
          null,
          null,
          null,
          null,
          null,
          null,
          96.46539559204268,
          98.73831140150271,
          95.32380185962812,
          98.00603456695238,
          98.10136336608672,
          95.21487895873048,
          97.06473119558518,
          90.02962281287867,
          null,
          null,
          null,
          68.97562110717647,
          null,
          null,
          null,
          null,
          null,
          null,
          null,
          null,
          null,
          null,
          null,
          null,
          null,
          null,
          null,
          null,
          null,
          null,
          null,
          null,
          null,
          null,
          null,
          null,
          null,
          null,
          null,
          null,
          null,
          null,
          null,
          null,
          92.04963842262913,
          89.85043316833014,
          90.14019433835678,
          90.03808985715798,
          null,
          null,
          null,
          null,
          null,
          null,
          null,
          96.75106034136913,
          93.67717837957535,
          91.56328332712047,
          90.91517825265855,
          null,
          null,
          null,
          null,
          null,
          null,
          null,
          88.80696358605886,
          90.23293674710003,
          91.17560736453143,
          null,
          null,
          null,
          null,
          null,
          null,
          null,
          null,
          93.71419261934753,
          94.65808507513673,
          93.62130282131986,
          null,
          null,
          null,
          null,
          null,
          null,
          null,
          null,
          54.12869746130109,
          59.627479844720774,
          64.32476708841521,
          null,
          null,
          null,
          null,
          1140.9952263880025,
          null,
          null,
          null,
          null,
          null,
          47.222698932245166,
          40.96484016406465,
          39.22883575574126,
          null,
          null,
          null,
          null,
          null,
          null,
          null,
          null,
          null,
          null,
          null,
          null,
          null,
          null,
          null,
          null,
          null,
          null,
          null,
          null,
          null,
          null,
          null,
          null,
          null,
          null,
          null,
          null,
          null,
          52.19636597514571,
          50.628198355870815,
          53.513159507719976,
          56.10029021439328,
          55.4267648008438,
          57.70610589548451,
          1427.2728730823967,
          null,
          null,
          null,
          null,
          null,
          73.403905923537,
          66.23389585994414,
          68.66667332736947,
          73.44310712713374,
          73.9680780802902,
          70.51977348972892,
          null,
          null,
          null,
          null,
          null,
          null,
          null,
          null,
          null,
          null,
          null,
          null,
          null,
          null,
          null,
          null,
          null,
          83.06204890442461,
          80.09631058907895,
          79.36679830841487,
          null,
          null,
          null,
          null,
          null,
          null,
          null,
          null,
          null,
          null,
          null,
          null,
          null,
          null,
          null,
          null,
          90.101763753293,
          87.8866762047557,
          88.76835024471767,
          89.61883156943468,
          93.30604752131755,
          92.06441578708039,
          93.30448814831928,
          null,
          null,
          null,
          null,
          49.72830893907859,
          47.7153321824562,
          42.36709533175722,
          42.67576592863068,
          45.3072226978657,
          40.33224465574334,
          35.583595161595746,
          2622.1617962725127,
          null,
          null,
          null,
          null,
          null,
          null,
          null,
          null,
          null,
          null,
          null,
          null,
          null,
          null,
          null,
          null,
          null,
          37.28021498684478,
          40.2176016189072,
          40.69467596737358,
          36.95621585086642,
          null,
          null,
          null,
          null,
          75.15205040246063,
          78.43964225752623,
          80.30476988084732,
          81.67940069931342,
          81.14145753052813,
          81.2672077457588,
          80.96036420773197,
          74.35713031040615,
          null,
          null,
          null,
          89.34063052012922,
          89.03900511069669,
          87.55903360664254,
          86.64010853815397,
          85.9052358644316,
          71.58690348674013,
          66.86657689144181,
          null,
          null,
          null,
          null,
          33.25195143565861,
          38.82685335489686,
          null,
          null,
          null,
          null,
          null,
          null,
          null,
          null,
          null,
          64.44710130204714,
          46.73143774969212,
          36.248340093405346,
          45.41805157122913,
          49.99999841838461,
          52.86703714568334,
          49.703913661001664,
          30.01853938500291,
          null,
          null,
          null,
          91.25291612080588,
          91.2919308064838,
          93.72017194842667,
          92.98463118710154,
          94.92029073776365,
          94.77770576689493,
          94.81344400967484,
          95.78209755605393,
          93.9594856168197,
          93.4804282478785,
          93.37035488649978,
          92.02614769671155,
          91.94206854447862,
          92.57385954705828,
          91.59803964201599,
          91.5971302739723,
          93.63375149585414,
          96.75225919424821,
          98.56483866054718,
          95.58541296851331,
          93.1656762387971,
          89.93878609367485,
          null,
          null,
          null,
          null,
          null,
          null,
          null,
          null,
          null,
          null,
          null,
          92.71300159345604,
          91.3457421030046,
          91.7696681380751,
          93.50213456140942,
          93.22482427552754,
          94.52311820838946,
          96.30577679275353,
          95.10949254230742,
          95.503169497692,
          95.01168751397556,
          93.90139226686033,
          null,
          120.91635301722486,
          114.31255728460768,
          113.59760139038559,
          null,
          null,
          null,
          null,
          101.79131360125872,
          92.82350984774358,
          95.05772931001252,
          108.51097435932938,
          108.86911860485517,
          108.5014755657797,
          112.5430017291242,
          112.83281172183872,
          114.49114596175525,
          114.64485484032139,
          110.44513379964172,
          null,
          null,
          null,
          98.32830796060408,
          97.4737387728496,
          96.72451813054457,
          99.37687743286189,
          96.8038243079194,
          95.8884605648923,
          101.41337240682432,
          99.90536783775237,
          98.85277981542797,
          111.94020332655134,
          110.43470077341108,
          120.18500772939822,
          122.20585123158145,
          128.2970313148503,
          123.54108738621724,
          119.27235794598334,
          110.91591307365951,
          105.78112112512471,
          112.80004936090421,
          115.74629408376978,
          108.90252261667544,
          80.5684796919503,
          86.16876240913908,
          85.22079372478444,
          87.87155063135516,
          94.62317877026891,
          97.6933544854307,
          88.93015273169091,
          86.20171505539088,
          88.40603641698607,
          72.70593297923072,
          63.88605660546778,
          60.686828427463176,
          null,
          null,
          null,
          null,
          null,
          53.24163704680562,
          69.49563157593428,
          69.29822556679909,
          null,
          null,
          null,
          null,
          null,
          null,
          null,
          null,
          null,
          null,
          null,
          null,
          null,
          null,
          null,
          null,
          null,
          null,
          null,
          null,
          null,
          80.34129476825676,
          79.53753880262798,
          79.01590723491469,
          78.41640179602271,
          83.484204021638,
          82.57390551854874,
          81.41073683465812,
          78.78404432460098,
          81.06929142120569,
          78.37930105223208,
          74.88963715587722,
          76.46433548062132,
          70.51498415816808,
          72.58884068934051,
          77.36371191797012,
          58.026332181741296,
          45.2582514081037,
          34.35619904389736,
          38.92238276141537,
          47.04914064245555,
          56.52314884701816,
          64.97831375089095,
          70.70541288963165,
          61.00095999717731,
          57.769881154511744,
          46.7593100287145,
          78.67341392832806,
          67.16881767158642,
          53.823476961525806,
          56.28857222301508,
          61.76117304319536,
          69.34633150011638,
          82.29200861641378,
          85.29908790748837,
          62.08109975117244,
          88.81752189880393,
          null,
          73.02646818595402,
          72.2311484813936,
          72.08542114039437,
          74.73804241694428,
          88.85621892017639,
          83.38099094107775,
          78.83477772771165,
          76.58345063659156,
          64.70455996972022,
          58.654689967223206,
          58.154138883549734,
          62.01689652253279,
          58.6446821746582,
          64.91913445463933,
          89.27439246020842,
          85.12281297536967,
          84.43999582271678,
          78.72719993270894,
          72.87978325555315,
          77.1528222178112,
          73.59673510488793,
          59.89843405937747,
          64.83021671769862,
          71.3370022956797,
          70.4585588453072,
          68.22046654086527,
          69.90374535642047,
          70.49361835520321,
          75.76788359117326,
          82.00016837850515,
          null,
          null,
          null,
          null,
          null,
          null,
          67.55041422852622,
          67.87532795866092,
          null,
          null,
          null,
          null,
          null,
          null,
          null,
          148.52472666538495,
          138.42230749241662,
          68.11186999175155,
          66.94666861227424,
          46.073109481594024,
          47.037549160559216,
          46.628509374138666,
          31.246932575569463,
          null,
          null,
          null,
          null,
          null,
          null,
          70.47728882692992,
          59.975395058974705,
          57.75423395069628,
          56.12425330394654,
          null,
          null,
          null,
          84.63783312678841,
          82.93069893999511,
          82.4080902098923,
          77.33569762170896,
          75.61719047574157,
          73.93581036941859,
          72.22949832255149,
          60.33442115309851,
          null,
          null,
          null,
          78.08133352714655,
          83.73510275666281,
          83.41288551698854,
          74.66710370221548,
          74.84606201471027,
          68.36990316019474,
          68.94702746549726,
          73.08373558741008,
          null,
          null,
          null,
          null,
          59.328685095428185,
          68.16857680714273,
          69.7614325579512,
          68.45543560379926,
          67.26303261585733,
          60.37393618673302,
          60.441275451114876,
          null,
          null,
          null,
          104.67805062013322,
          109.5587300534962,
          97.75699888459667,
          85.56912892286694,
          74.00375765307004,
          61.9286317963343,
          69.28510974491148,
          76.56171593821793,
          82.05068680270966,
          84.30799506495447,
          77.26157646911126,
          100.44486022433712,
          99.70078568007182,
          95.80310093391499,
          93.55933666592459,
          88.05472846403917,
          83.21697117035333,
          81.84279025553916,
          75.768817686886,
          78.01685852778525,
          78.75863257374746,
          81.05146657756288,
          null,
          null,
          null,
          76.27317513013175,
          71.56863719154425,
          66.73426447031582,
          63.542640624034014,
          67.77056142626077,
          70.28704495983195,
          73.90835049863522,
          78.0137446886705,
          null,
          null,
          null,
          null,
          73.86988474838367,
          70.67097084595623,
          74.2325073816268,
          78.29976852391985,
          76.58716258738357,
          77.52022589713644,
          70.53368797081681,
          79.88765839056575,
          80.64634052006883,
          79.81690030132089,
          83.39847675700223,
          86.71720122371664,
          86.46196507008058,
          87.23277466428421,
          88.21622430359173,
          90.00028931216302,
          90.6907080776197,
          90.54336307578306,
          73.22962795776792,
          72.50747143169282,
          73.70515368996358,
          78.1776247085063,
          81.39382181019897,
          81.4037875609014,
          81.4057396124355,
          81.47531773029573,
          61.60564080496918,
          60.94382350134454,
          59.35693522378317,
          75.67778140975504,
          74.07383633582869,
          69.77984516211032,
          75.32704999058402,
          79.83333724135075,
          81.3289624552402,
          84.85793596595623,
          86.75017978433064,
          88.83210426960945,
          88.4089934162478,
          88.91864931026015,
          84.26542707105699,
          85.92260551251977,
          87.42358497990494,
          87.10724363595799,
          89.17723194849236,
          90.45330796049963,
          89.69836379336209,
          90.63631895854937,
          90.94099506802205,
          89.58262622213579,
          89.03670610482688,
          89.41739295347809,
          89.56765365280401,
          90.11073567473152,
          93.34570358369466,
          93.48532710941087,
          94.30304016730199,
          94.02366829692528,
          95.65228989556437,
          95.9142624218694,
          94.5209404399485,
          92.12740315819207,
          69.40726790169303,
          71.75483768325392,
          77.16729315611748,
          95.08361717302668,
          94.62882746368062,
          89.98409835292463,
          89.47028477218552,
          88.65052513291373,
          65.44667559436192,
          60.04542718057977,
          56.06471647756082,
          86.76029914950465,
          85.16462414049008,
          83.51395737578923,
          89.07772088169055,
          92.16011007733002,
          92.86362205667336,
          95.20048831735404,
          94.61767443418276,
          null,
          null,
          null,
          83.31528008312114,
          75.86014073332717,
          80.74600544235899,
          85.59418850318025,
          92.80980114314787,
          102.07020693610221,
          95.99180230908016,
          98.51503816468559,
          null,
          null,
          null,
          66.56855251393154,
          72.68629362799471,
          73.6645571787862,
          77.99800218414507,
          78.25356503220036,
          70.65304234814649,
          50.90441102907328,
          49.23157524894283,
          30.57969348801234,
          35.09223877475432,
          54.85390822012391,
          77.67376750027634,
          77.67206500917914,
          72.47648115902842,
          69.2787687852703,
          78.70156633550633,
          79.1180891234929,
          77.21834858451761,
          86.33694359906642,
          68.44975974039282,
          67.54607675850984,
          69.90948201421688,
          null,
          null,
          null,
          null,
          null,
          null,
          51.80212673366573,
          null,
          null,
          null,
          null,
          null,
          null,
          null,
          67.0601895800448,
          66.86031062114806,
          64.52650108848235,
          null,
          null,
          null,
          null,
          null,
          null,
          null,
          null,
          null,
          null,
          null,
          null,
          null,
          null,
          null,
          null,
          null,
          null,
          null,
          null,
          null,
          null,
          null,
          null,
          null,
          null,
          null,
          49.31506945086387,
          null,
          null,
          null,
          64.74385979417691,
          67.20034704633156,
          68.74654800350908,
          70.55389657044847,
          70.10059044579182,
          68.23782687322782,
          68.51916329440758,
          65.02111269273033,
          null,
          null,
          null,
          null,
          null,
          54.746405290272484,
          57.341896953701024,
          61.50434107083785,
          62.85746816791285,
          63.48144539682536,
          61.000416359963204,
          null,
          null,
          null,
          71.9492848164952,
          null,
          null,
          null,
          null,
          70.06973070984839,
          68.16459002168007,
          67.2708181058573,
          null,
          null,
          null,
          null,
          67.47556868004729,
          70.62521757331501,
          70.06743581076607,
          69.14048543346749,
          66.67158984577931,
          64.94475573598952,
          65.89249067301071,
          null,
          null,
          null,
          null,
          null,
          null,
          10.625656798533315,
          9.240406971877128,
          7.202981822176531,
          null,
          null,
          null,
          null,
          null,
          null,
          null,
          null,
          null,
          null,
          null,
          null,
          null,
          null,
          null,
          null,
          null,
          null,
          null,
          null,
          null,
          null,
          null,
          null,
          null,
          null,
          78.76867712555236,
          70.1963806292979,
          66.8049772862436,
          61.96428122164642,
          55.07332560824361,
          42.4610009516707,
          null,
          null,
          null,
          null,
          null,
          null,
          null,
          null,
          null,
          null,
          null,
          null,
          null,
          null,
          null,
          null,
          34.4960963407156,
          42.864773241300405,
          40.440100719004974,
          40.340983041961834,
          34.95030405949162,
          null,
          null,
          null,
          null,
          null,
          null,
          null,
          null,
          null,
          null,
          null,
          83.67652851000256,
          84.29860638568279,
          83.60580025799514,
          81.35418263682386,
          80.26453483699764,
          77.6435174109579,
          81.13828508584135,
          78.70750221006925,
          null,
          null,
          null,
          90.41061447984936,
          88.11970726976818,
          87.79047965045906,
          87.45695316759011,
          84.63444470044553,
          86.77969102571642,
          88.69651505496677,
          91.46886447686842,
          null,
          null,
          null,
          83.74089693839534,
          82.06644387479903,
          80.10871448583798,
          80.53347241381442,
          80.6225666770886,
          80.79809636376322,
          82.0089327127943,
          84.43278129688099,
          null,
          null,
          null,
          89.99545032592363,
          89.20470231559928,
          89.86653175232763,
          89.10717468772067,
          87.06573257647264,
          83.70769646582453,
          83.95510753171428,
          85.16663735529825,
          null,
          null,
          null,
          80.4563417695669,
          81.73720995006511,
          79.84318469970299,
          77.8318236528896,
          75.20841451535753,
          73.44977311822768,
          72.850036557806,
          71.37198843984748,
          null,
          null,
          null,
          null,
          null,
          86.8400029638234,
          87.50317017313738,
          87.26231775984343,
          null,
          null,
          null,
          null,
          85.0526194420245,
          null,
          null,
          null,
          99.72791378845085,
          99.55496285273544,
          98.99174974866303,
          97.47064520133489,
          97.77428071439826,
          98.17595917548448,
          98.37557610245608,
          104.44654593996064,
          null,
          null,
          null,
          96.81424110105135,
          96.98166360389305,
          98.4237425845347,
          98.34451241816092,
          99.15587010519698,
          99.22037849949608,
          null,
          null,
          null,
          null,
          null,
          null,
          99.85785019180065,
          102.98113431953357,
          104.07614090394787,
          103.84275007464399,
          103.69812312466712,
          104.40551879011592,
          103.12811151833984,
          93.4346217123666,
          null,
          null,
          null,
          null,
          null,
          null,
          null,
          null,
          null,
          null,
          null,
          null,
          null,
          null,
          103.45758806058527,
          103.2308948367062,
          103.35112022894701,
          103.42300455014643,
          103.09089544708704,
          100.12227767181786,
          null,
          null,
          null,
          null,
          null,
          99.51086940811896,
          98.60273433456332,
          99.9736291795434,
          100.54875487438878,
          100.28621007191649,
          97.9329536777861,
          null,
          null,
          null,
          null,
          null,
          89.03599685565031,
          86.03959307591619,
          null,
          null,
          null,
          null,
          79.22109474774604,
          82.6820166863063,
          null,
          null,
          null,
          null,
          null,
          null,
          null,
          null,
          null,
          null,
          null,
          null,
          null,
          null,
          null,
          null,
          null,
          null,
          null,
          null,
          null,
          null,
          null,
          null,
          null,
          null,
          null,
          null,
          null,
          null,
          null,
          null,
          null,
          null,
          null,
          null,
          9.498033775096587,
          6.49825386225395,
          25.34546571359316,
          38.28586773109798,
          null,
          null,
          null,
          null,
          null,
          null,
          null,
          null,
          null,
          null,
          null,
          null,
          null,
          null,
          null,
          null,
          null,
          null,
          null,
          null,
          null,
          null,
          null,
          null,
          null,
          null,
          null,
          null,
          null,
          null,
          null,
          null,
          null,
          null,
          null,
          null,
          null,
          null,
          null,
          null,
          null,
          null,
          null,
          null,
          null,
          null,
          null,
          null,
          null,
          null,
          null,
          null,
          null,
          null,
          null,
          null,
          null,
          66.36340396736858,
          80.2810595132252,
          null,
          null,
          null,
          null,
          103.48224311848915,
          100.20354886413082,
          103.33786781922993,
          96.22685239782899,
          96.17887902949911,
          92.76206143215202,
          91.44402703213372,
          null,
          null,
          86.80369562996873,
          81.9739321051026,
          77.20504861783995,
          76.95328744310558,
          70.34045286742898,
          65.79118676230681,
          65.79757639159257,
          null,
          null,
          82.99427413210964,
          80.33435757147397,
          81.10863321404346,
          80.46149494054298,
          74.77404126496461,
          73.11903284260822,
          68.89500976799593,
          null,
          null,
          null,
          null,
          63.217484869523545,
          65.43222250909398,
          66.95968053127169,
          69.53102104850592,
          70.75560152276451,
          null,
          null,
          null,
          null,
          null,
          null,
          null,
          null,
          null,
          null,
          null,
          null,
          null,
          81.45573081807724,
          79.61560726627191,
          76.47613335503067,
          75.57882525252026,
          72.85737554914999,
          null,
          null,
          null,
          null,
          null,
          null,
          null,
          null,
          null,
          null,
          null,
          null,
          null,
          null,
          null,
          null,
          76.28532806042227,
          86.6730713847968,
          92.38509323240893,
          83.8326053569911,
          null,
          null,
          null,
          null,
          null,
          null,
          null,
          null,
          89.78916411176996,
          86.14803711909379,
          73.66938718264728,
          null,
          null,
          92.38163336000108,
          91.82015090081896,
          91.82695896958649,
          92.38379090339299,
          97.9155745751079,
          97.85618553893809,
          null,
          null,
          null,
          84.89828293225463,
          83.62002396199146,
          85.17475503183562,
          86.04845992776393,
          86.53074144346952,
          86.71054593428151,
          null,
          null,
          null,
          null,
          null,
          null,
          null,
          0,
          0,
          0,
          null,
          null,
          null,
          106.75558174687775,
          null,
          null,
          null,
          null,
          null,
          null,
          null,
          null,
          null,
          null,
          null,
          null,
          null,
          null,
          null,
          null,
          null,
          null,
          null,
          null,
          null,
          93.88916278013927,
          92.10461111215498,
          null,
          null,
          null,
          null,
          null,
          null,
          null,
          null,
          null,
          null,
          null,
          null,
          null,
          76.77748972301424,
          74.74697826099501,
          71.0468428272798,
          null,
          null,
          null,
          null,
          67.12929314481771,
          null,
          null,
          null,
          null,
          null,
          null,
          null,
          null,
          null,
          null,
          null,
          null,
          null,
          null,
          null,
          null,
          null,
          null,
          null,
          null,
          null,
          null,
          null,
          null,
          null,
          null,
          null,
          null,
          null,
          47.310874759837816,
          48.95826969980611,
          141.7963553759604,
          null,
          null,
          null,
          null,
          0,
          1.509661835748757,
          null,
          null,
          null,
          null,
          null,
          null,
          null,
          null,
          null,
          24.64555764159232,
          19.313273832898766,
          37.62532935927538,
          36.855487806526966,
          29.045711267220135,
          25.514283080013847,
          2.1772743999521924,
          0,
          0,
          0,
          0,
          23.963777188911415,
          48.581449827677986,
          49.64604164686833,
          33.59073005518505,
          31.779933875102774,
          5.8736742150523495,
          null,
          null,
          null,
          null,
          null,
          89.90759731792231,
          90.5888293965395,
          89.25697328209867,
          91.10581700699503,
          90.01702985611004,
          87.33493580618574,
          89.08992427559761,
          89.58752764711306,
          null,
          null,
          null,
          75.63102728622955,
          75.2785635845835,
          76.1287146917917,
          73.32835798476162,
          71.12397108666826,
          71.25279263687202,
          74.51179703351735,
          77.32271989487185,
          null,
          null,
          null,
          77.44923820433559,
          81.03345507133385,
          80.45026138261613,
          81.18175599419027,
          83.17782311892788,
          77.38720864260195,
          73.43226971296036,
          72.35712725987624,
          null,
          null,
          null,
          null,
          89.23634497747156,
          90.1125340092524,
          90.39583325497182,
          93.14492244370315,
          92.21868812424957,
          93.15874121527074,
          93.35520975143791,
          null,
          null,
          null,
          92.32386240762534,
          91.229535131961,
          91.1874561373527,
          90.59268105174905,
          91.06246296853294,
          null,
          null,
          null,
          null,
          null,
          null,
          92.42601437164224,
          91.39444513926223,
          90.73607008535727,
          90.94953639074134,
          91.36753216321442,
          94.07942559704176,
          94.96030100355873,
          94.60851338007002,
          null,
          null,
          null,
          86.07592035798353,
          85.6376414005585,
          84.60190057147751,
          84.64110192144014,
          84.58163671690384,
          86.62543960952198,
          88.02248057020333,
          88.66708510943923,
          null,
          null,
          null,
          null,
          78.20997295024381,
          77.79279944855239,
          77.4250553898184,
          77.36799730345189,
          76.57697751938946,
          75.91443903935604,
          77.04125693686522,
          null,
          null,
          null,
          92.21090288960869,
          88.57280945384173,
          89.71711786487585,
          89.51647376405576,
          88.96289596508394,
          83.82287313167551,
          81.84066889173253,
          78.95276831324564,
          null,
          null,
          null,
          92.53034483323292,
          91.99646827195049,
          92.48834774502546,
          91.94413607156469,
          88.02173878782642,
          87.36029911482197,
          86.84311148560279,
          86.66562308548794,
          null,
          null,
          null,
          null,
          null,
          79.30213206179467,
          79.3658809028363,
          80.6356929337782,
          80.52720500454879,
          76.93820229655749,
          75.64712712245866,
          null,
          null,
          null,
          null,
          null,
          null,
          null,
          null,
          null,
          null,
          null,
          null,
          null,
          null,
          null,
          null,
          null,
          null,
          97.03757760091774,
          93.22392564815466,
          92.47009278440211,
          96.04316684606006,
          null,
          null,
          null,
          null,
          null,
          null,
          null,
          null,
          null,
          null,
          null,
          null,
          null,
          null,
          null,
          null,
          null,
          null,
          null,
          null,
          null,
          null,
          null,
          null,
          null,
          null,
          null,
          null,
          null,
          null,
          null,
          null,
          null,
          null,
          null,
          null,
          78.19711520209525,
          72.53634135030721,
          76.79382037606581,
          74.567888110302,
          74.93046879342782,
          78.95017475721922,
          77.72551133623132,
          null,
          null,
          null,
          null,
          null,
          null,
          null,
          98.30789788027644,
          102.45294606330448,
          null,
          null,
          null,
          null,
          null,
          null,
          84.02248337838782,
          78.94490126410946,
          77.59483411315668,
          76.35464498603241,
          null,
          null,
          null,
          null,
          null,
          null,
          null,
          null,
          null,
          null,
          null,
          null,
          null,
          null,
          null,
          null,
          null,
          null,
          null,
          null,
          null,
          null,
          null,
          null,
          null,
          null,
          null,
          null,
          null,
          null,
          null,
          null,
          null,
          null,
          null,
          null,
          null,
          null,
          null,
          null,
          null,
          null,
          null,
          472.383078211676,
          442.4246195418426,
          330.76259587854577,
          312.48169985010713,
          null,
          null,
          null,
          null,
          null,
          null,
          null,
          105.60733930937398,
          114.10906485849941,
          106.8707746673289,
          94.59486758162886,
          null,
          null,
          null,
          null,
          null,
          null,
          null,
          null,
          null,
          null,
          null,
          null,
          null,
          null,
          null,
          null,
          null,
          null,
          null,
          null,
          null,
          null,
          null,
          null,
          null,
          null,
          124.4003620332586,
          120.60439387282725,
          122.37796676051563,
          123.70054537762154,
          121.29107899937503,
          121.6413816807341,
          null,
          null,
          null,
          null,
          null,
          null,
          null,
          null,
          null,
          86.28406963219845,
          null,
          null,
          null,
          null,
          null,
          null,
          null,
          null,
          null,
          null,
          90.48211851745955,
          89.86282439242238,
          80.86581037274857,
          null,
          null,
          null,
          null,
          null,
          null,
          null,
          null,
          null,
          null,
          null,
          null,
          null,
          null,
          null,
          121.12607022330768,
          106.35939137642916,
          99.98213931962687,
          100.11092037363403,
          86.58842897331039,
          84.70709452176959,
          82.74262712732175,
          83.43071426367268,
          null,
          null,
          null,
          91.87163509842513,
          97.08232475805463,
          99.30027681756889,
          111.06412816778649,
          106.77300878267897,
          99.44773215284658,
          100.95415409061924,
          87.38475516782327,
          null,
          null,
          null,
          92.2328632646108,
          86.05897946336938,
          90.82641213161946,
          86.62338176421335,
          84.61001469168693,
          88.44201990678965,
          86.91335685250795,
          86.98323016195549,
          null,
          null,
          null,
          98.18758235471705,
          96.59767883636934,
          93.11373338968394,
          92.342018325888,
          90.37997465056964,
          90.63271226676171,
          90.89226873903377,
          93.96556340882472,
          null,
          null,
          null,
          null,
          null,
          null,
          null,
          null,
          95.91500641972765,
          59.448648258004425,
          52.72042864107381,
          null,
          null,
          null,
          72.44657769561556,
          76.35631794149063,
          75.48255553512489,
          78.22032847908041,
          85.86756504981201,
          83.31582449405519,
          84.0574659133002,
          78.9405389676947,
          null,
          null,
          null,
          180.30911875534852,
          181.5686184910953,
          105.71215447123879,
          101.01053935301141,
          97.35547258092663,
          92.84376792698558,
          88.78941762091954,
          89.14389731996805,
          null,
          null,
          null,
          null,
          null,
          null,
          null,
          null,
          null,
          104.8152830362058,
          null,
          null,
          null,
          null,
          139.2609293909996,
          140.10064728980117,
          112.53230181707649,
          116.53731029732094,
          113.98248295960937,
          118.15216360023169,
          122.43468801843402,
          121.23919648168152,
          null,
          null,
          null,
          77.42963171299994,
          81.35443113363384,
          85.33627712877492,
          82.60486727543338,
          79.329518304185,
          76.57550918187101,
          null,
          null,
          null,
          null,
          null,
          80.9574147387132,
          78.57921657153054,
          76.31002658503094,
          77.87142708389561,
          77.19004219183452,
          76.32763886372122,
          77.96270341721527,
          81.14431920028017,
          null,
          null,
          null,
          99.20661970198611,
          96.0328472938387,
          97.84301167690631,
          97.16478940638497,
          99.96378945638673,
          103.5828758848178,
          103.58241178903822,
          97.3721624965137,
          null,
          null,
          null,
          null,
          null,
          null,
          null,
          105.97604580135807,
          113.07915737635889,
          110.71555260596884,
          137.31078928684474,
          null,
          null,
          null,
          null,
          null,
          null,
          null,
          null,
          94.99043152028196,
          89.14295871494673,
          null,
          null,
          null,
          null,
          110.02361484361037,
          106.53013664138848,
          112.09865857593591,
          116.98479851568881,
          122.69459626262525,
          null,
          null,
          null,
          null,
          null,
          null,
          133.4962578667938,
          140.78201731169924,
          147.0311957960934,
          149.15211672992808,
          155.38499519794533,
          154.48582365907913,
          150.31205832858768,
          null,
          null,
          null,
          null,
          null,
          null,
          null,
          null,
          null,
          null,
          null,
          null,
          null,
          null,
          null,
          null,
          null,
          null,
          null,
          null,
          null,
          null,
          null,
          null,
          null,
          null,
          null,
          null,
          null,
          null,
          null,
          null,
          null,
          null,
          null,
          null,
          null,
          61.03005945905516,
          65.87921925107611,
          64.9403108846081,
          86.88813427091173,
          87.51174437438321,
          88.01433046360437,
          91.34550873301889,
          null,
          null,
          null,
          null,
          null,
          null,
          null,
          95.10183695883725,
          93.64177745123817,
          93.67077828456388,
          95.09583596576766,
          93.78128756232438,
          null,
          null,
          null,
          null,
          null,
          null,
          null,
          null,
          null,
          null,
          null,
          null,
          null,
          null,
          null,
          null,
          null,
          null,
          null,
          null,
          80.02449203851072,
          78.90689745159455,
          null,
          null,
          null,
          null,
          null,
          null,
          null,
          null,
          null,
          90.51486041227642,
          89.82922553254417,
          null,
          null,
          null,
          null,
          82.18581743682367,
          80.99060021232805,
          85.09108935875445,
          94.53385447458439,
          103.10884597950125,
          109.38085190995346,
          107.49659096119554,
          null,
          null,
          null,
          null,
          null,
          null,
          null,
          null,
          null,
          null,
          null,
          null,
          null,
          null,
          74.42027738766896,
          75.68285253722128,
          79.44465892983229,
          91.20746662684093,
          85.81171851785193,
          61.26506670952452,
          66.52402361996144,
          null,
          null,
          null,
          null,
          null,
          null,
          null,
          null,
          null,
          null,
          null,
          null,
          null,
          null,
          null,
          null,
          null,
          null,
          null,
          96.53413779476944,
          95.22317245717288,
          92.45464743289554,
          94.13916607974463,
          null,
          null,
          null,
          81.36887556579586,
          80.9489308539124,
          87.19604456930026,
          82.42470810373241,
          85.69036341480046,
          86.04045397607526,
          85.23895963767724,
          88.36118854764847,
          null,
          null,
          null,
          null,
          null,
          null,
          null,
          null,
          null,
          null,
          null,
          null,
          null,
          87.4445547095712,
          null,
          null,
          null,
          null,
          null,
          null,
          null,
          null,
          null,
          null,
          null,
          117.39173884191035,
          109.75157577156733,
          107.69135209935487,
          103.59294945266522,
          91.38759146744354,
          92.62375200222054,
          69.73628111153322,
          null,
          null,
          null,
          null,
          null,
          null,
          null,
          null,
          null,
          null,
          null,
          null,
          null,
          null,
          null,
          null,
          null,
          null,
          null,
          null,
          823.6505833679531,
          661.5830476264049,
          607.661298057211,
          496.0870405550473,
          483.96468835763153,
          555.5842612209087,
          432.0948282072229,
          null,
          null,
          null,
          null,
          null,
          null,
          null,
          null,
          91.17309959563228,
          96.36602895273413,
          null,
          null,
          null,
          null,
          null,
          118.31844941466612,
          111.05604242357157,
          109.45251144805303,
          114.13109246138664,
          110.32716364152245,
          106.63764942968878,
          110.02396667958097,
          null,
          null,
          null,
          null,
          null,
          1957.9089427909378,
          2317.030725904374,
          2096.128158006862,
          2103.9936993683045,
          475.9870336986823,
          82.44166702033557,
          null,
          null,
          null,
          null,
          65.69341833304532,
          93.28789315717677,
          129.05804599345848,
          183.95433709418865,
          177.0012856203146,
          183.4059491233964,
          254.57031973050567,
          null,
          null,
          null,
          null,
          76.91637827214467,
          104.15339387389172,
          126.34743746541461,
          164.6639769105472,
          152.5864667642975,
          154.90252339880038,
          155.35450880320417,
          null,
          null,
          null,
          null,
          null,
          null,
          null,
          null,
          null,
          null
         ],
         "xaxis": "x",
         "yaxis": "y"
        }
       ],
       "layout": {
        "barmode": "relative",
        "legend": {
         "title": {
          "text": "variable"
         },
         "tracegroupgap": 0
        },
        "margin": {
         "t": 60
        },
        "template": {
         "data": {
          "bar": [
           {
            "error_x": {
             "color": "#2a3f5f"
            },
            "error_y": {
             "color": "#2a3f5f"
            },
            "marker": {
             "line": {
              "color": "#E5ECF6",
              "width": 0.5
             },
             "pattern": {
              "fillmode": "overlay",
              "size": 10,
              "solidity": 0.2
             }
            },
            "type": "bar"
           }
          ],
          "barpolar": [
           {
            "marker": {
             "line": {
              "color": "#E5ECF6",
              "width": 0.5
             },
             "pattern": {
              "fillmode": "overlay",
              "size": 10,
              "solidity": 0.2
             }
            },
            "type": "barpolar"
           }
          ],
          "carpet": [
           {
            "aaxis": {
             "endlinecolor": "#2a3f5f",
             "gridcolor": "white",
             "linecolor": "white",
             "minorgridcolor": "white",
             "startlinecolor": "#2a3f5f"
            },
            "baxis": {
             "endlinecolor": "#2a3f5f",
             "gridcolor": "white",
             "linecolor": "white",
             "minorgridcolor": "white",
             "startlinecolor": "#2a3f5f"
            },
            "type": "carpet"
           }
          ],
          "choropleth": [
           {
            "colorbar": {
             "outlinewidth": 0,
             "ticks": ""
            },
            "type": "choropleth"
           }
          ],
          "contour": [
           {
            "colorbar": {
             "outlinewidth": 0,
             "ticks": ""
            },
            "colorscale": [
             [
              0,
              "#0d0887"
             ],
             [
              0.1111111111111111,
              "#46039f"
             ],
             [
              0.2222222222222222,
              "#7201a8"
             ],
             [
              0.3333333333333333,
              "#9c179e"
             ],
             [
              0.4444444444444444,
              "#bd3786"
             ],
             [
              0.5555555555555556,
              "#d8576b"
             ],
             [
              0.6666666666666666,
              "#ed7953"
             ],
             [
              0.7777777777777778,
              "#fb9f3a"
             ],
             [
              0.8888888888888888,
              "#fdca26"
             ],
             [
              1,
              "#f0f921"
             ]
            ],
            "type": "contour"
           }
          ],
          "contourcarpet": [
           {
            "colorbar": {
             "outlinewidth": 0,
             "ticks": ""
            },
            "type": "contourcarpet"
           }
          ],
          "heatmap": [
           {
            "colorbar": {
             "outlinewidth": 0,
             "ticks": ""
            },
            "colorscale": [
             [
              0,
              "#0d0887"
             ],
             [
              0.1111111111111111,
              "#46039f"
             ],
             [
              0.2222222222222222,
              "#7201a8"
             ],
             [
              0.3333333333333333,
              "#9c179e"
             ],
             [
              0.4444444444444444,
              "#bd3786"
             ],
             [
              0.5555555555555556,
              "#d8576b"
             ],
             [
              0.6666666666666666,
              "#ed7953"
             ],
             [
              0.7777777777777778,
              "#fb9f3a"
             ],
             [
              0.8888888888888888,
              "#fdca26"
             ],
             [
              1,
              "#f0f921"
             ]
            ],
            "type": "heatmap"
           }
          ],
          "heatmapgl": [
           {
            "colorbar": {
             "outlinewidth": 0,
             "ticks": ""
            },
            "colorscale": [
             [
              0,
              "#0d0887"
             ],
             [
              0.1111111111111111,
              "#46039f"
             ],
             [
              0.2222222222222222,
              "#7201a8"
             ],
             [
              0.3333333333333333,
              "#9c179e"
             ],
             [
              0.4444444444444444,
              "#bd3786"
             ],
             [
              0.5555555555555556,
              "#d8576b"
             ],
             [
              0.6666666666666666,
              "#ed7953"
             ],
             [
              0.7777777777777778,
              "#fb9f3a"
             ],
             [
              0.8888888888888888,
              "#fdca26"
             ],
             [
              1,
              "#f0f921"
             ]
            ],
            "type": "heatmapgl"
           }
          ],
          "histogram": [
           {
            "marker": {
             "pattern": {
              "fillmode": "overlay",
              "size": 10,
              "solidity": 0.2
             }
            },
            "type": "histogram"
           }
          ],
          "histogram2d": [
           {
            "colorbar": {
             "outlinewidth": 0,
             "ticks": ""
            },
            "colorscale": [
             [
              0,
              "#0d0887"
             ],
             [
              0.1111111111111111,
              "#46039f"
             ],
             [
              0.2222222222222222,
              "#7201a8"
             ],
             [
              0.3333333333333333,
              "#9c179e"
             ],
             [
              0.4444444444444444,
              "#bd3786"
             ],
             [
              0.5555555555555556,
              "#d8576b"
             ],
             [
              0.6666666666666666,
              "#ed7953"
             ],
             [
              0.7777777777777778,
              "#fb9f3a"
             ],
             [
              0.8888888888888888,
              "#fdca26"
             ],
             [
              1,
              "#f0f921"
             ]
            ],
            "type": "histogram2d"
           }
          ],
          "histogram2dcontour": [
           {
            "colorbar": {
             "outlinewidth": 0,
             "ticks": ""
            },
            "colorscale": [
             [
              0,
              "#0d0887"
             ],
             [
              0.1111111111111111,
              "#46039f"
             ],
             [
              0.2222222222222222,
              "#7201a8"
             ],
             [
              0.3333333333333333,
              "#9c179e"
             ],
             [
              0.4444444444444444,
              "#bd3786"
             ],
             [
              0.5555555555555556,
              "#d8576b"
             ],
             [
              0.6666666666666666,
              "#ed7953"
             ],
             [
              0.7777777777777778,
              "#fb9f3a"
             ],
             [
              0.8888888888888888,
              "#fdca26"
             ],
             [
              1,
              "#f0f921"
             ]
            ],
            "type": "histogram2dcontour"
           }
          ],
          "mesh3d": [
           {
            "colorbar": {
             "outlinewidth": 0,
             "ticks": ""
            },
            "type": "mesh3d"
           }
          ],
          "parcoords": [
           {
            "line": {
             "colorbar": {
              "outlinewidth": 0,
              "ticks": ""
             }
            },
            "type": "parcoords"
           }
          ],
          "pie": [
           {
            "automargin": true,
            "type": "pie"
           }
          ],
          "scatter": [
           {
            "marker": {
             "colorbar": {
              "outlinewidth": 0,
              "ticks": ""
             }
            },
            "type": "scatter"
           }
          ],
          "scatter3d": [
           {
            "line": {
             "colorbar": {
              "outlinewidth": 0,
              "ticks": ""
             }
            },
            "marker": {
             "colorbar": {
              "outlinewidth": 0,
              "ticks": ""
             }
            },
            "type": "scatter3d"
           }
          ],
          "scattercarpet": [
           {
            "marker": {
             "colorbar": {
              "outlinewidth": 0,
              "ticks": ""
             }
            },
            "type": "scattercarpet"
           }
          ],
          "scattergeo": [
           {
            "marker": {
             "colorbar": {
              "outlinewidth": 0,
              "ticks": ""
             }
            },
            "type": "scattergeo"
           }
          ],
          "scattergl": [
           {
            "marker": {
             "colorbar": {
              "outlinewidth": 0,
              "ticks": ""
             }
            },
            "type": "scattergl"
           }
          ],
          "scattermapbox": [
           {
            "marker": {
             "colorbar": {
              "outlinewidth": 0,
              "ticks": ""
             }
            },
            "type": "scattermapbox"
           }
          ],
          "scatterpolar": [
           {
            "marker": {
             "colorbar": {
              "outlinewidth": 0,
              "ticks": ""
             }
            },
            "type": "scatterpolar"
           }
          ],
          "scatterpolargl": [
           {
            "marker": {
             "colorbar": {
              "outlinewidth": 0,
              "ticks": ""
             }
            },
            "type": "scatterpolargl"
           }
          ],
          "scatterternary": [
           {
            "marker": {
             "colorbar": {
              "outlinewidth": 0,
              "ticks": ""
             }
            },
            "type": "scatterternary"
           }
          ],
          "surface": [
           {
            "colorbar": {
             "outlinewidth": 0,
             "ticks": ""
            },
            "colorscale": [
             [
              0,
              "#0d0887"
             ],
             [
              0.1111111111111111,
              "#46039f"
             ],
             [
              0.2222222222222222,
              "#7201a8"
             ],
             [
              0.3333333333333333,
              "#9c179e"
             ],
             [
              0.4444444444444444,
              "#bd3786"
             ],
             [
              0.5555555555555556,
              "#d8576b"
             ],
             [
              0.6666666666666666,
              "#ed7953"
             ],
             [
              0.7777777777777778,
              "#fb9f3a"
             ],
             [
              0.8888888888888888,
              "#fdca26"
             ],
             [
              1,
              "#f0f921"
             ]
            ],
            "type": "surface"
           }
          ],
          "table": [
           {
            "cells": {
             "fill": {
              "color": "#EBF0F8"
             },
             "line": {
              "color": "white"
             }
            },
            "header": {
             "fill": {
              "color": "#C8D4E3"
             },
             "line": {
              "color": "white"
             }
            },
            "type": "table"
           }
          ]
         },
         "layout": {
          "annotationdefaults": {
           "arrowcolor": "#2a3f5f",
           "arrowhead": 0,
           "arrowwidth": 1
          },
          "autotypenumbers": "strict",
          "coloraxis": {
           "colorbar": {
            "outlinewidth": 0,
            "ticks": ""
           }
          },
          "colorscale": {
           "diverging": [
            [
             0,
             "#8e0152"
            ],
            [
             0.1,
             "#c51b7d"
            ],
            [
             0.2,
             "#de77ae"
            ],
            [
             0.3,
             "#f1b6da"
            ],
            [
             0.4,
             "#fde0ef"
            ],
            [
             0.5,
             "#f7f7f7"
            ],
            [
             0.6,
             "#e6f5d0"
            ],
            [
             0.7,
             "#b8e186"
            ],
            [
             0.8,
             "#7fbc41"
            ],
            [
             0.9,
             "#4d9221"
            ],
            [
             1,
             "#276419"
            ]
           ],
           "sequential": [
            [
             0,
             "#0d0887"
            ],
            [
             0.1111111111111111,
             "#46039f"
            ],
            [
             0.2222222222222222,
             "#7201a8"
            ],
            [
             0.3333333333333333,
             "#9c179e"
            ],
            [
             0.4444444444444444,
             "#bd3786"
            ],
            [
             0.5555555555555556,
             "#d8576b"
            ],
            [
             0.6666666666666666,
             "#ed7953"
            ],
            [
             0.7777777777777778,
             "#fb9f3a"
            ],
            [
             0.8888888888888888,
             "#fdca26"
            ],
            [
             1,
             "#f0f921"
            ]
           ],
           "sequentialminus": [
            [
             0,
             "#0d0887"
            ],
            [
             0.1111111111111111,
             "#46039f"
            ],
            [
             0.2222222222222222,
             "#7201a8"
            ],
            [
             0.3333333333333333,
             "#9c179e"
            ],
            [
             0.4444444444444444,
             "#bd3786"
            ],
            [
             0.5555555555555556,
             "#d8576b"
            ],
            [
             0.6666666666666666,
             "#ed7953"
            ],
            [
             0.7777777777777778,
             "#fb9f3a"
            ],
            [
             0.8888888888888888,
             "#fdca26"
            ],
            [
             1,
             "#f0f921"
            ]
           ]
          },
          "colorway": [
           "#636efa",
           "#EF553B",
           "#00cc96",
           "#ab63fa",
           "#FFA15A",
           "#19d3f3",
           "#FF6692",
           "#B6E880",
           "#FF97FF",
           "#FECB52"
          ],
          "font": {
           "color": "#2a3f5f"
          },
          "geo": {
           "bgcolor": "white",
           "lakecolor": "white",
           "landcolor": "#E5ECF6",
           "showlakes": true,
           "showland": true,
           "subunitcolor": "white"
          },
          "hoverlabel": {
           "align": "left"
          },
          "hovermode": "closest",
          "mapbox": {
           "style": "light"
          },
          "paper_bgcolor": "white",
          "plot_bgcolor": "#E5ECF6",
          "polar": {
           "angularaxis": {
            "gridcolor": "white",
            "linecolor": "white",
            "ticks": ""
           },
           "bgcolor": "#E5ECF6",
           "radialaxis": {
            "gridcolor": "white",
            "linecolor": "white",
            "ticks": ""
           }
          },
          "scene": {
           "xaxis": {
            "backgroundcolor": "#E5ECF6",
            "gridcolor": "white",
            "gridwidth": 2,
            "linecolor": "white",
            "showbackground": true,
            "ticks": "",
            "zerolinecolor": "white"
           },
           "yaxis": {
            "backgroundcolor": "#E5ECF6",
            "gridcolor": "white",
            "gridwidth": 2,
            "linecolor": "white",
            "showbackground": true,
            "ticks": "",
            "zerolinecolor": "white"
           },
           "zaxis": {
            "backgroundcolor": "#E5ECF6",
            "gridcolor": "white",
            "gridwidth": 2,
            "linecolor": "white",
            "showbackground": true,
            "ticks": "",
            "zerolinecolor": "white"
           }
          },
          "shapedefaults": {
           "line": {
            "color": "#2a3f5f"
           }
          },
          "ternary": {
           "aaxis": {
            "gridcolor": "white",
            "linecolor": "white",
            "ticks": ""
           },
           "baxis": {
            "gridcolor": "white",
            "linecolor": "white",
            "ticks": ""
           },
           "bgcolor": "#E5ECF6",
           "caxis": {
            "gridcolor": "white",
            "linecolor": "white",
            "ticks": ""
           }
          },
          "title": {
           "x": 0.05
          },
          "xaxis": {
           "automargin": true,
           "gridcolor": "white",
           "linecolor": "white",
           "ticks": "",
           "title": {
            "standoff": 15
           },
           "zerolinecolor": "white",
           "zerolinewidth": 2
          },
          "yaxis": {
           "automargin": true,
           "gridcolor": "white",
           "linecolor": "white",
           "ticks": "",
           "title": {
            "standoff": 15
           },
           "zerolinecolor": "white",
           "zerolinewidth": 2
          }
         }
        },
        "xaxis": {
         "anchor": "y",
         "domain": [
          0,
          1
         ],
         "title": {
          "text": "Performance %"
         }
        },
        "yaxis": {
         "anchor": "x",
         "domain": [
          0,
          1
         ],
         "title": {
          "text": "count"
         }
        }
       }
      }
     },
     "metadata": {},
     "output_type": "display_data"
    }
   ],
   "source": [
    "# sns.displot(rolling_avg[rolling_avg['OEE %'] < 4].dropna(subset=['OEE %'])['OEE %'])\n",
    "fig = px.histogram(rolling_avg['Performance %']\n",
    "    ,labels={'value':'Performance %'})\n",
    "fig.show()"
   ]
  },
  {
   "cell_type": "markdown",
   "metadata": {},
   "source": [
    "Create a scatter of all ** Lines ** by Availability and Performance %.\n",
    "\n",
    "This chart is created using plotly - very nice but couldn't get some of the formatting I wanted (difficult to overlay text)"
   ]
  },
  {
   "cell_type": "code",
   "execution_count": 45,
   "metadata": {},
   "outputs": [
    {
     "data": {
      "application/vnd.plotly.v1+json": {
       "config": {
        "plotlyServerURL": "https://plot.ly"
       },
       "data": [
        {
         "hovertemplate": "Line=ELB - Extraction B12 1st cycle<br>Plant=ELB<br>Availability %=%{x}<br>Performance %=%{y}<extra></extra>",
         "legendgroup": "ELB - Extraction B12 1st cycle, ELB",
         "marker": {
          "color": "#636efa",
          "symbol": "circle"
         },
         "mode": "markers",
         "name": "ELB - Extraction B12 1st cycle, ELB",
         "showlegend": true,
         "type": "scattergl",
         "x": [
          47.49078126439779,
          53.593806745249054,
          54.35819166588398,
          32.08680555555556,
          -0.7900958994708986,
          -24.07647156084656,
          -54.97337962962963,
          -38.245453042328045,
          -1.3814484126984166,
          17.289351851851848,
          60.24928153967026
         ],
         "xaxis": "x",
         "y": [
          172.5741186833763,
          154.3931022658518,
          158.63361590561217,
          103.2890308592158,
          57.62050718927911,
          4.799538814955646,
          -42.717650469769076,
          -21.550727214008408,
          -15.91236918466429,
          18.743116349819893,
          36.75175044134486
         ],
         "yaxis": "y"
        },
        {
         "hovertemplate": "Line=ELB - FERMENTATION E05<br>Plant=ELB<br>Availability %=%{x}<br>Performance %=%{y}<extra></extra>",
         "legendgroup": "ELB - FERMENTATION E05, ELB",
         "marker": {
          "color": "#EF553B",
          "symbol": "circle"
         },
         "mode": "markers",
         "name": "ELB - FERMENTATION E05, ELB",
         "showlegend": true,
         "type": "scattergl",
         "x": [
          77.34334483139045,
          71.07396033898438,
          80.15105193951348,
          66.44655257936508,
          61.7243716931217,
          63.78993055555556,
          38.78993055555556,
          45.90790343915344,
          49.32064318783069,
          54.34044312169313,
          79.34044312169313
         ],
         "xaxis": "x",
         "y": [
          62.836532546306515,
          71.8469728395224,
          83.7653639080066,
          82.9522228330076,
          58.93245822117883,
          49.922017927962955,
          null,
          null,
          null,
          null,
          15.10877865858418
         ],
         "yaxis": "y"
        },
        {
         "hovertemplate": "Line=ELB - FERMENTATION E06<br>Plant=ELB<br>Availability %=%{x}<br>Performance %=%{y}<extra></extra>",
         "legendgroup": "ELB - FERMENTATION E06, ELB",
         "marker": {
          "color": "#00cc96",
          "symbol": "circle"
         },
         "mode": "markers",
         "name": "ELB - FERMENTATION E06, ELB",
         "showlegend": true,
         "type": "scattergl",
         "x": [
          55.92831129189302,
          65.09950328339751,
          65.74934620667793,
          69.89847883597884,
          65.41439318783068,
          56.23743386243386,
          32.81473214285714,
          19.652984457671955,
          0.00008267195767195765,
          0,
          0
         ],
         "xaxis": "x",
         "y": [
          19.865920229654687,
          19.865920229654687,
          59.85143361658284,
          59.85143361658284,
          39.98551338692815,
          39.98551338692815,
          null,
          null,
          null,
          null,
          null
         ],
         "yaxis": "y"
        },
        {
         "hovertemplate": "Line=ELB - FERMENTATION E07<br>Plant=ELB<br>Availability %=%{x}<br>Performance %=%{y}<extra></extra>",
         "legendgroup": "ELB - FERMENTATION E07, ELB",
         "marker": {
          "color": "#ab63fa",
          "symbol": "circle"
         },
         "mode": "markers",
         "name": "ELB - FERMENTATION E07, ELB",
         "showlegend": true,
         "type": "scattergl",
         "x": [
          82.74512212398298,
          79.08325310729157,
          87.02013306760904,
          69.54245205026456,
          51.30758101851852,
          41.78091931216931,
          40.59044312169311,
          56.03430886243386,
          81.03430886243386,
          92.01405423280423,
          93.20453042328042
         ],
         "xaxis": "x",
         "y": [
          75.6891576655095,
          91.88320313426274,
          88.55244587807005,
          73.93533519170558,
          null,
          null,
          null,
          null,
          26.761968085106375,
          26.761968085106375,
          0
         ],
         "yaxis": "y"
        },
        {
         "hovertemplate": "Line=ELB - FERMENTATION E08<br>Plant=ELB<br>Availability %=%{x}<br>Performance %=%{y}<extra></extra>",
         "legendgroup": "ELB - FERMENTATION E08, ELB",
         "marker": {
          "color": "#FFA15A",
          "symbol": "circle"
         },
         "mode": "markers",
         "name": "ELB - FERMENTATION E08, ELB",
         "showlegend": true,
         "type": "scattergl",
         "x": [
          76.15008191850337,
          80.61611276455027,
          80.036541005291,
          70.59222056878306,
          57.95750661375661,
          32.95750661375661,
          28.958540013227513,
          33.12276785714286,
          55.873263888888886,
          74.42522321428572,
          86.02236276455027
         ],
         "xaxis": "x",
         "y": [
          56.13520206287004,
          85.13206756438979,
          74.36206985481307,
          79.2150419792048,
          null,
          null,
          null,
          null,
          null,
          17.07920182706205,
          17.07920182706205
         ],
         "yaxis": "y"
        },
        {
         "hovertemplate": "Line=ELB - FERMENTATION E09<br>Plant=ELB<br>Availability %=%{x}<br>Performance %=%{y}<extra></extra>",
         "legendgroup": "ELB - FERMENTATION E09, ELB",
         "marker": {
          "color": "#19d3f3",
          "symbol": "circle"
         },
         "mode": "markers",
         "name": "ELB - FERMENTATION E09, ELB",
         "showlegend": true,
         "type": "scattergl",
         "x": [
          77.10245221158942,
          83.03215963612598,
          77.07523172607307,
          84.20027281746033,
          70.77256944444444,
          48.34680886243386,
          33.46746858465608,
          25.731853505291006,
          37.306754298941804,
          62.306754298941804,
          65.8285937502845
         ],
         "xaxis": "x",
         "y": [
          58.914598484906215,
          85.44409058150059,
          78.92237856234958,
          83.73892121045928,
          54.1239490001068,
          null,
          null,
          null,
          null,
          5.0108599290780145,
          5.0108599290780145
         ],
         "yaxis": "y"
        },
        {
         "hovertemplate": "Line=ELB - FERMENTATION E10<br>Plant=ELB<br>Availability %=%{x}<br>Performance %=%{y}<extra></extra>",
         "legendgroup": "ELB - FERMENTATION E10, ELB",
         "marker": {
          "color": "#FF6692",
          "symbol": "circle"
         },
         "mode": "markers",
         "name": "ELB - FERMENTATION E10, ELB",
         "showlegend": true,
         "type": "scattergl",
         "x": [
          61.58113883245514,
          80.93309074739363,
          74.31338175268463,
          82.9209656084656,
          67.31039186507937,
          42.97399966931217,
          27.35639880952381,
          27.584449404761905,
          47.30671296296296,
          62.85751488095239,
          72.26343619549104
         ],
         "xaxis": "x",
         "y": [
          55.35200858999222,
          74.20347153709558,
          59.22929020451029,
          65.91080399182655,
          48.38367499701403,
          null,
          null,
          null,
          null,
          31.38527188662134,
          31.38527188662134
         ],
         "yaxis": "y"
        },
        {
         "hovertemplate": "Line=ELB - FERMENTATION E11<br>Plant=ELB<br>Availability %=%{x}<br>Performance %=%{y}<extra></extra>",
         "legendgroup": "ELB - FERMENTATION E11, ELB",
         "marker": {
          "color": "#B6E880",
          "symbol": "circle"
         },
         "mode": "markers",
         "name": "ELB - FERMENTATION E11, ELB",
         "showlegend": true,
         "type": "scattergl",
         "x": [
          55.38868959601268,
          49.451054287592754,
          66.18199840134938,
          84.35875496031747,
          73.77839781746033,
          56.565806878306894,
          35.464616402116405,
          33.50198412698413,
          38.52686838624338,
          59.82903439153439,
          71.68701044440513
         ],
         "xaxis": "x",
         "y": [
          27.32160271023302,
          28.746155701846337,
          28.746155701846337,
          28.746155701846337,
          1.424552991613314,
          0,
          null,
          null,
          null,
          null,
          18.357820978262737
         ],
         "yaxis": "y"
        },
        {
         "hovertemplate": "Line=ELB - FERMENTATION V08<br>Plant=ELB<br>Availability %=%{x}<br>Performance %=%{y}<extra></extra>",
         "legendgroup": "ELB - FERMENTATION V08, ELB",
         "marker": {
          "color": "#FF97FF",
          "symbol": "circle"
         },
         "mode": "markers",
         "name": "ELB - FERMENTATION V08, ELB",
         "showlegend": true,
         "type": "scattergl",
         "x": [
          62.317201507654055,
          68.92588997096207,
          71.19573124080334,
          68.71064814814814,
          45.951140873015866,
          33.544973544973544,
          23.459945436507937,
          30.057043650793652,
          50.73156415343915,
          63.34098048941799,
          58.28393683862434
         ],
         "xaxis": "x",
         "y": [
          38.802394552582314,
          42.51529531312994,
          60.85206501920706,
          53.213528994934094,
          null,
          null,
          null,
          null,
          null,
          30.442104849071576,
          null
         ],
         "yaxis": "y"
        },
        {
         "hovertemplate": "Line=ELB - FERMENTATION V09<br>Plant=ELB<br>Availability %=%{x}<br>Performance %=%{y}<extra></extra>",
         "legendgroup": "ELB - FERMENTATION V09, ELB",
         "marker": {
          "color": "#FECB52",
          "symbol": "circle"
         },
         "mode": "markers",
         "name": "ELB - FERMENTATION V09, ELB",
         "showlegend": true,
         "type": "scattergl",
         "x": [
          64.46050736312284,
          75.53118567241162,
          65.11538706130052,
          67.75735780423281,
          75.89178240740742,
          71.55691964285714,
          60.45444775132275,
          42.72371031746032,
          49.710896164021165,
          53.15290178571429,
          78.15290178571429
         ],
         "xaxis": "x",
         "y": [
          106.52924320619259,
          44.83682613788004,
          31.707949450333935,
          33.45037294403569,
          32.87356781278775,
          13.73188986792559,
          null,
          null,
          null,
          null,
          7.80225246372103
         ],
         "yaxis": "y"
        },
        {
         "hovertemplate": "Line=FRA - Devices AI, EMA 20<br>Plant=FRA<br>Availability %=%{x}<br>Performance %=%{y}<extra></extra>",
         "legendgroup": "FRA - Devices AI, EMA 20, FRA",
         "marker": {
          "color": "#636efa",
          "symbol": "diamond"
         },
         "mode": "markers",
         "name": "FRA - Devices AI, EMA 20, FRA",
         "showlegend": true,
         "type": "scattergl",
         "x": [
          62.13710327044633,
          70.64536498437644,
          68.65686644113084,
          70.00679631975036,
          71.32314889165983,
          78.84744069815993,
          75.34247447474347
         ],
         "xaxis": "x",
         "y": [
          70.16289000888294,
          71.56540726837848,
          83.4567159045765,
          82.0122341533032,
          80.68764312872045,
          67.02332070906651,
          47.45108867683331
         ],
         "yaxis": "y"
        },
        {
         "hovertemplate": "Line=FRA - Devices AI, FDLE<br>Plant=FRA<br>Availability %=%{x}<br>Performance %=%{y}<extra></extra>",
         "legendgroup": "FRA - Devices AI, FDLE, FRA",
         "marker": {
          "color": "#EF553B",
          "symbol": "diamond"
         },
         "mode": "markers",
         "name": "FRA - Devices AI, FDLE, FRA",
         "showlegend": true,
         "type": "scattergl",
         "x": [
          41.3017494513281,
          48.687104460315325
         ],
         "xaxis": "x",
         "y": [
          57.51393045388138,
          56.91648183025812
         ],
         "yaxis": "y"
        },
        {
         "hovertemplate": "Line=FRA - Devices AI, Semi 120-1 Assembly<br>Plant=FRA<br>Availability %=%{x}<br>Performance %=%{y}<extra></extra>",
         "legendgroup": "FRA - Devices AI, Semi 120-1 Assembly, FRA",
         "marker": {
          "color": "#00cc96",
          "symbol": "diamond"
         },
         "mode": "markers",
         "name": "FRA - Devices AI, Semi 120-1 Assembly, FRA",
         "showlegend": true,
         "type": "scattergl",
         "x": [
          83.80857483516864,
          86.60183655868398
         ],
         "xaxis": "x",
         "y": [
          79.11632285784403,
          77.96815381329536
         ],
         "yaxis": "y"
        },
        {
         "hovertemplate": "Line=FRA - Devices AI, Semi 120-1 Labeling<br>Plant=FRA<br>Availability %=%{x}<br>Performance %=%{y}<extra></extra>",
         "legendgroup": "FRA - Devices AI, Semi 120-1 Labeling, FRA",
         "marker": {
          "color": "#ab63fa",
          "symbol": "diamond"
         },
         "mode": "markers",
         "name": "FRA - Devices AI, Semi 120-1 Labeling, FRA",
         "showlegend": true,
         "type": "scattergl",
         "x": [
          66.60955774389822,
          60.875731723130656,
          61.42548323965448
         ],
         "xaxis": "x",
         "y": [
          75.36006537722574,
          72.24733223861234,
          75.8490788894874
         ],
         "yaxis": "y"
        },
        {
         "hovertemplate": "Line=FRA - Devices AI, Semi 120-1 Packaging<br>Plant=FRA<br>Availability %=%{x}<br>Performance %=%{y}<extra></extra>",
         "legendgroup": "FRA - Devices AI, Semi 120-1 Packaging, FRA",
         "marker": {
          "color": "#FFA15A",
          "symbol": "diamond"
         },
         "mode": "markers",
         "name": "FRA - Devices AI, Semi 120-1 Packaging, FRA",
         "showlegend": true,
         "type": "scattergl",
         "x": [
          43.30955237341228,
          43.10701721390045,
          46.39924036575968,
          46.335451485493394,
          49.814012378651796,
          55.151815491842584
         ],
         "xaxis": "x",
         "y": [
          59.55741294022316,
          57.408525894193524,
          56.38080189098958,
          57.7786574851653,
          61.17348801362144,
          59.77276518769693
         ],
         "yaxis": "y"
        },
        {
         "hovertemplate": "Line=FRA - Devices Pens, AL1<br>Plant=FRA<br>Availability %=%{x}<br>Performance %=%{y}<extra></extra>",
         "legendgroup": "FRA - Devices Pens, AL1, FRA",
         "marker": {
          "color": "#19d3f3",
          "symbol": "diamond"
         },
         "mode": "markers",
         "name": "FRA - Devices Pens, AL1, FRA",
         "showlegend": true,
         "type": "scattergl",
         "x": [
          59.992247470176025,
          60.81119577393919,
          60.46822526005629,
          60.61133462763441,
          56.523425817993704,
          58.387380919958666,
          57.926624974061795,
          59.92566114915766,
          59.035047282484236
         ],
         "xaxis": "x",
         "y": [
          92.23817788409852,
          91.76452357574398,
          91.80351719192237,
          92.0593879926291,
          91.09778499739701,
          83.64527509777268,
          81.77308413521159,
          78.09440198948535,
          77.25118441512177
         ],
         "yaxis": "y"
        },
        {
         "hovertemplate": "Line=FRA - Devices Pens, AL2<br>Plant=FRA<br>Availability %=%{x}<br>Performance %=%{y}<extra></extra>",
         "legendgroup": "FRA - Devices Pens, AL2, FRA",
         "marker": {
          "color": "#FF6692",
          "symbol": "diamond"
         },
         "mode": "markers",
         "name": "FRA - Devices Pens, AL2, FRA",
         "showlegend": true,
         "type": "scattergl",
         "x": [
          64.74474205856693,
          65.65060625609779,
          63.98244460486321,
          64.59492488433133,
          65.70582618464051,
          66.05226859336129,
          64.41550161805266,
          59.18421247044916,
          58.25716008062028,
          55.84208769933434,
          51.39399146580473
         ],
         "xaxis": "x",
         "y": [
          83.1068113119659,
          83.13777237104206,
          83.43992114284809,
          82.81583441168551,
          81.88397276939779,
          81.25750159165719,
          77.86452297293982,
          75.3769615027126,
          72.85133483327478,
          70.37562696249441,
          72.41315071002796
         ],
         "yaxis": "y"
        },
        {
         "hovertemplate": "Line=FRA - Devices Pens, AL3<br>Plant=FRA<br>Availability %=%{x}<br>Performance %=%{y}<extra></extra>",
         "legendgroup": "FRA - Devices Pens, AL3, FRA",
         "marker": {
          "color": "#B6E880",
          "symbol": "diamond"
         },
         "mode": "markers",
         "name": "FRA - Devices Pens, AL3, FRA",
         "showlegend": true,
         "type": "scattergl",
         "x": [
          59.1974957011997,
          60.225405092592595,
          59.23118648424054,
          59.21204103670967,
          52.49973479889436,
          52.47241394303201,
          57.314288801384066,
          57.66527780281616
         ],
         "xaxis": "x",
         "y": [
          80.65400127719087,
          80.98087140167995,
          80.0155148766138,
          80.55226661832339,
          73.64705608304759,
          71.79116210594199,
          72.27198320623378,
          72.98321837653842
         ],
         "yaxis": "y"
        },
        {
         "hovertemplate": "Line=FRA - Devices Pens, AL4<br>Plant=FRA<br>Availability %=%{x}<br>Performance %=%{y}<extra></extra>",
         "legendgroup": "FRA - Devices Pens, AL4, FRA",
         "marker": {
          "color": "#FF97FF",
          "symbol": "diamond"
         },
         "mode": "markers",
         "name": "FRA - Devices Pens, AL4, FRA",
         "showlegend": true,
         "type": "scattergl",
         "x": [
          50.72949377399296,
          53.05265156720284,
          52.24574570300531,
          55.225898494086614,
          61.804847347602134,
          59.21813824266386,
          60.10369958525645,
          59.03175201490617,
          58.54704837872379,
          60.756260484347926,
          56.14807643161843
         ],
         "xaxis": "x",
         "y": [
          80.88034706213935,
          80.16254931475304,
          79.49235011152331,
          79.6278317962821,
          81.28554630424102,
          80.39598443354762,
          79.46764591936588,
          78.2414606666648,
          76.33602408538728,
          76.28384673061925,
          78.29442374730834
         ],
         "yaxis": "y"
        },
        {
         "hovertemplate": "Line=FRA - Devices Pens, AL5 Assembly<br>Plant=FRA<br>Availability %=%{x}<br>Performance %=%{y}<extra></extra>",
         "legendgroup": "FRA - Devices Pens, AL5 Assembly, FRA",
         "marker": {
          "color": "#FECB52",
          "symbol": "diamond"
         },
         "mode": "markers",
         "name": "FRA - Devices Pens, AL5 Assembly, FRA",
         "showlegend": true,
         "type": "scattergl",
         "x": [
          37.929732675833115,
          39.505033963182356,
          42.27653110370523,
          40.60899724431497,
          44.178816540307785,
          37.32552840354524,
          32.59051885156398,
          25.454642353498624,
          18.951165273724946,
          23.24372446960009,
          22.636623693633325
         ],
         "xaxis": "x",
         "y": [
          59.61187467703941,
          59.85899542098488,
          56.446701097796534,
          53.40444191311928,
          52.51401283968467,
          48.517400822517935,
          47.299629962711734,
          48.682333752655246,
          49.76729855410907,
          53.127046121686924,
          49.049242870854066
         ],
         "yaxis": "y"
        },
        {
         "hovertemplate": "Line=FRA - Devices Pens, AL5 Packaging 1<br>Plant=FRA<br>Availability %=%{x}<br>Performance %=%{y}<extra></extra>",
         "legendgroup": "FRA - Devices Pens, AL5 Packaging 1, FRA",
         "marker": {
          "color": "#636efa",
          "symbol": "diamond"
         },
         "mode": "markers",
         "name": "FRA - Devices Pens, AL5 Packaging 1, FRA",
         "showlegend": true,
         "type": "scattergl",
         "x": [
          59.415163410487025,
          57.02495238921005,
          55.52036382793232,
          52.865796618265634,
          50.20650249434607,
          50.62211996636448
         ],
         "xaxis": "x",
         "y": [
          68.54424789525295,
          55.18621450640882,
          53.093562099351445,
          57.01372427452608,
          51.4505109985229,
          63.000553402030285
         ],
         "yaxis": "y"
        },
        {
         "hovertemplate": "Line=FRA - Devices Pens, AL5 Packaging 2<br>Plant=FRA<br>Availability %=%{x}<br>Performance %=%{y}<extra></extra>",
         "legendgroup": "FRA - Devices Pens, AL5 Packaging 2, FRA",
         "marker": {
          "color": "#EF553B",
          "symbol": "diamond"
         },
         "mode": "markers",
         "name": "FRA - Devices Pens, AL5 Packaging 2, FRA",
         "showlegend": true,
         "type": "scattergl",
         "x": [
          48.497373894881434,
          48.88114003040291,
          51.407516728841514,
          56.1207816269365,
          55.73965579623535,
          45.878301566527725,
          44.96276276398606,
          42.16777751384604,
          42.124049744730016,
          47.96575223056531,
          43.27906159304151
         ],
         "xaxis": "x",
         "y": [
          72.39578751941762,
          72.68254540905014,
          72.40055120561685,
          76.34872821196346,
          75.95255389234944,
          74.575249340788,
          63.646205105437204,
          55.938002614754176,
          52.173752057222124,
          48.97529979087041,
          52.206799404295666
         ],
         "yaxis": "y"
        },
        {
         "hovertemplate": "Line=FRA - Devices Pens, AL6<br>Plant=FRA<br>Availability %=%{x}<br>Performance %=%{y}<extra></extra>",
         "legendgroup": "FRA - Devices Pens, AL6, FRA",
         "marker": {
          "color": "#00cc96",
          "symbol": "diamond"
         },
         "mode": "markers",
         "name": "FRA - Devices Pens, AL6, FRA",
         "showlegend": true,
         "type": "scattergl",
         "x": [
          60.10526171734806,
          60.607115266029254,
          60.51578121003607,
          62.62850007987906,
          57.86307563516101,
          56.31293358411369,
          55.89342628830341,
          57.22106980412334,
          61.81016605567726,
          61.19112239432973,
          63.3093157500828
         ],
         "xaxis": "x",
         "y": [
          72.84893164506637,
          73.34490135888886,
          73.44011717073458,
          73.24228632769308,
          70.93911707033794,
          71.77723085559758,
          71.99250750290346,
          68.19767134936261,
          68.55393609746503,
          68.29098552095019,
          66.71100546600235
         ],
         "yaxis": "y"
        },
        {
         "hovertemplate": "Line=FRA - FF NAPA, M24 Inspection<br>Plant=FRA<br>Availability %=%{x}<br>Performance %=%{y}<extra></extra>",
         "legendgroup": "FRA - FF NAPA, M24 Inspection, FRA",
         "marker": {
          "color": "#ab63fa",
          "symbol": "diamond"
         },
         "mode": "markers",
         "name": "FRA - FF NAPA, M24 Inspection, FRA",
         "showlegend": true,
         "type": "scattergl",
         "x": [
          55.02316280541098,
          58.13581070090473,
          57.1202902576663,
          57.462392568889484,
          62.82075847166341,
          57.86907632240717,
          53.17472226730956
         ],
         "xaxis": "x",
         "y": [
          87.1304547735286,
          87.65156126294072,
          88.87792412098285,
          89.07521798594398,
          89.96846822149097,
          90.10399507811739,
          86.32268494630205
         ],
         "yaxis": "y"
        },
        {
         "hovertemplate": "Line=FRA - FF NAPA, M31 Inspection<br>Plant=FRA<br>Availability %=%{x}<br>Performance %=%{y}<extra></extra>",
         "legendgroup": "FRA - FF NAPA, M31 Inspection, FRA",
         "marker": {
          "color": "#FFA15A",
          "symbol": "diamond"
         },
         "mode": "markers",
         "name": "FRA - FF NAPA, M31 Inspection, FRA",
         "showlegend": true,
         "type": "scattergl",
         "x": [
          59.41726028471191,
          60.06514997221424,
          62.345785756592235,
          61.7983223653391
         ],
         "xaxis": "x",
         "y": [
          93.04204699892517,
          91.89689628373142,
          87.61081792226237,
          87.57795819234997
         ],
         "yaxis": "y"
        },
        {
         "hovertemplate": "Line=FRA - FF NAPA, M46 Filling<br>Plant=FRA<br>Availability %=%{x}<br>Performance %=%{y}<extra></extra>",
         "legendgroup": "FRA - FF NAPA, M46 Filling, FRA",
         "marker": {
          "color": "#19d3f3",
          "symbol": "diamond"
         },
         "mode": "markers",
         "name": "FRA - FF NAPA, M46 Filling, FRA",
         "showlegend": true,
         "type": "scattergl",
         "x": [
          39.86901797657563,
          43.029760827551556,
          39.97888753382274,
          38.435237922693204,
          40.473796836823816,
          37.868008762429206
         ],
         "xaxis": "x",
         "y": [
          69.81709534529377,
          71.15149722179908,
          75.59475374817913,
          76.54913986723841,
          75.06895731263667,
          72.9863353728587
         ],
         "yaxis": "y"
        },
        {
         "hovertemplate": "Line=FRA - FF NAPA, M48 Inspection<br>Plant=FRA<br>Availability %=%{x}<br>Performance %=%{y}<extra></extra>",
         "legendgroup": "FRA - FF NAPA, M48 Inspection, FRA",
         "marker": {
          "color": "#FF6692",
          "symbol": "diamond"
         },
         "mode": "markers",
         "name": "FRA - FF NAPA, M48 Inspection, FRA",
         "showlegend": true,
         "type": "scattergl",
         "x": [
          50.45980822388311,
          52.34438862924218,
          56.87303955206971,
          57.94472101760136,
          56.87414302338438,
          57.913478232845165,
          57.653939326743256,
          64.69869879776223
         ],
         "xaxis": "x",
         "y": [
          96.46539559204268,
          98.73831140150271,
          95.32380185962812,
          98.00603456695238,
          98.10136336608672,
          95.21487895873048,
          97.06473119558518,
          90.02962281287867
         ],
         "yaxis": "y"
        },
        {
         "hovertemplate": "Line=FRA - FF NAPA, M53 Filling<br>Plant=FRA<br>Availability %=%{x}<br>Performance %=%{y}<extra></extra>",
         "legendgroup": "FRA - FF NAPA, M53 Filling, FRA",
         "marker": {
          "color": "#B6E880",
          "symbol": "diamond"
         },
         "mode": "markers",
         "name": "FRA - FF NAPA, M53 Filling, FRA",
         "showlegend": true,
         "type": "scattergl",
         "x": [
          34.33005960329192
         ],
         "xaxis": "x",
         "y": [
          68.97562110717647
         ],
         "yaxis": "y"
        },
        {
         "hovertemplate": "Line=FRA - FF NLP, M21 Filling<br>Plant=FRA<br>Availability %=%{x}<br>Performance %=%{y}<extra></extra>",
         "legendgroup": "FRA - FF NLP, M21 Filling, FRA",
         "marker": {
          "color": "#FF97FF",
          "symbol": "diamond"
         },
         "mode": "markers",
         "name": "FRA - FF NLP, M21 Filling, FRA",
         "showlegend": true,
         "type": "scattergl",
         "x": [
          74.49996388328448,
          65.12065150660112,
          65.4596078006984,
          66.155533466512
         ],
         "xaxis": "x",
         "y": [
          92.04963842262913,
          89.85043316833014,
          90.14019433835678,
          90.03808985715798
         ],
         "yaxis": "y"
        },
        {
         "hovertemplate": "Line=FRA - FF NLP, M21 Inspection<br>Plant=FRA<br>Availability %=%{x}<br>Performance %=%{y}<extra></extra>",
         "legendgroup": "FRA - FF NLP, M21 Inspection, FRA",
         "marker": {
          "color": "#FECB52",
          "symbol": "diamond"
         },
         "mode": "markers",
         "name": "FRA - FF NLP, M21 Inspection, FRA",
         "showlegend": true,
         "type": "scattergl",
         "x": [
          63.799269670121035,
          52.09115830750445,
          54.75443542390656,
          55.95657588752344
         ],
         "xaxis": "x",
         "y": [
          96.75106034136913,
          93.67717837957535,
          91.56328332712047,
          90.91517825265855
         ],
         "yaxis": "y"
        },
        {
         "hovertemplate": "Line=FRA - FF NLP, M22 Filling<br>Plant=FRA<br>Availability %=%{x}<br>Performance %=%{y}<extra></extra>",
         "legendgroup": "FRA - FF NLP, M22 Filling, FRA",
         "marker": {
          "color": "#636efa",
          "symbol": "diamond"
         },
         "mode": "markers",
         "name": "FRA - FF NLP, M22 Filling, FRA",
         "showlegend": true,
         "type": "scattergl",
         "x": [
          64.78147565411348,
          64.52726993698089,
          65.3794359743223
         ],
         "xaxis": "x",
         "y": [
          88.80696358605886,
          90.23293674710003,
          91.17560736453143
         ],
         "yaxis": "y"
        },
        {
         "hovertemplate": "Line=FRA - FF NLP, M22 Inspection<br>Plant=FRA<br>Availability %=%{x}<br>Performance %=%{y}<extra></extra>",
         "legendgroup": "FRA - FF NLP, M22 Inspection, FRA",
         "marker": {
          "color": "#EF553B",
          "symbol": "diamond"
         },
         "mode": "markers",
         "name": "FRA - FF NLP, M22 Inspection, FRA",
         "showlegend": true,
         "type": "scattergl",
         "x": [
          59.320057842219114,
          60.92092663960322,
          63.07767800502395
         ],
         "xaxis": "x",
         "y": [
          93.71419261934753,
          94.65808507513673,
          93.62130282131986
         ],
         "yaxis": "y"
        },
        {
         "hovertemplate": "Line=FRA - FF Packaging, HV01<br>Plant=FRA<br>Availability %=%{x}<br>Performance %=%{y}<extra></extra>",
         "legendgroup": "FRA - FF Packaging, HV01, FRA",
         "marker": {
          "color": "#00cc96",
          "symbol": "diamond"
         },
         "mode": "markers",
         "name": "FRA - FF Packaging, HV01, FRA",
         "showlegend": true,
         "type": "scattergl",
         "x": [
          68.42251552086573,
          64.88253373032798,
          59.03848347164358,
          75.02656591885602
         ],
         "xaxis": "x",
         "y": [
          54.12869746130109,
          59.627479844720774,
          64.32476708841521,
          1140.9952263880025
         ],
         "yaxis": "y"
        },
        {
         "hovertemplate": "Line=FRA - FF Packaging, VL32<br>Plant=FRA<br>Availability %=%{x}<br>Performance %=%{y}<extra></extra>",
         "legendgroup": "FRA - FF Packaging, VL32, FRA",
         "marker": {
          "color": "#ab63fa",
          "symbol": "diamond"
         },
         "mode": "markers",
         "name": "FRA - FF Packaging, VL32, FRA",
         "showlegend": true,
         "type": "scattergl",
         "x": [
          61.62175921138829,
          56.2582609015649,
          49.43199031231068
         ],
         "xaxis": "x",
         "y": [
          47.222698932245166,
          40.96484016406465,
          39.22883575574126
         ],
         "yaxis": "y"
        },
        {
         "hovertemplate": "Line=FRA - FF Packaging, VL44<br>Plant=FRA<br>Availability %=%{x}<br>Performance %=%{y}<extra></extra>",
         "legendgroup": "FRA - FF Packaging, VL44, FRA",
         "marker": {
          "color": "#FFA15A",
          "symbol": "diamond"
         },
         "mode": "markers",
         "name": "FRA - FF Packaging, VL44, FRA",
         "showlegend": true,
         "type": "scattergl",
         "x": [
          31.510598877625235,
          32.70503449438606,
          35.90841693097314,
          35.40256198407806,
          35.87408976185584,
          39.14380569857215,
          39.219877720455095
         ],
         "xaxis": "x",
         "y": [
          52.19636597514571,
          50.628198355870815,
          53.513159507719976,
          56.10029021439328,
          55.4267648008438,
          57.70610589548451,
          1427.2728730823967
         ],
         "yaxis": "y"
        },
        {
         "hovertemplate": "Line=FRA - FF Packaging, VL47<br>Plant=FRA<br>Availability %=%{x}<br>Performance %=%{y}<extra></extra>",
         "legendgroup": "FRA - FF Packaging, VL47, FRA",
         "marker": {
          "color": "#19d3f3",
          "symbol": "diamond"
         },
         "mode": "markers",
         "name": "FRA - FF Packaging, VL47, FRA",
         "showlegend": true,
         "type": "scattergl",
         "x": [
          40.841881290207205,
          38.67578251643384,
          34.114424536343925,
          30.501273494677257,
          33.97148240507225,
          42.19845059983027
         ],
         "xaxis": "x",
         "y": [
          73.403905923537,
          66.23389585994414,
          68.66667332736947,
          73.44310712713374,
          73.9680780802902,
          70.51977348972892
         ],
         "yaxis": "y"
        },
        {
         "hovertemplate": "Line=FRA - FF Packaging, VL50<br>Plant=FRA<br>Availability %=%{x}<br>Performance %=%{y}<extra></extra>",
         "legendgroup": "FRA - FF Packaging, VL50, FRA",
         "marker": {
          "color": "#FF6692",
          "symbol": "diamond"
         },
         "mode": "markers",
         "name": "FRA - FF Packaging, VL50, FRA",
         "showlegend": true,
         "type": "scattergl",
         "x": [
          65.84846705577891,
          67.1935943059341,
          67.925088246794
         ],
         "xaxis": "x",
         "y": [
          83.06204890442461,
          80.09631058907895,
          79.36679830841487
         ],
         "yaxis": "y"
        },
        {
         "hovertemplate": "Line=FRA - FF Packaging, VL56<br>Plant=FRA<br>Availability %=%{x}<br>Performance %=%{y}<extra></extra>",
         "legendgroup": "FRA - FF Packaging, VL56, FRA",
         "marker": {
          "color": "#B6E880",
          "symbol": "diamond"
         },
         "mode": "markers",
         "name": "FRA - FF Packaging, VL56, FRA",
         "showlegend": true,
         "type": "scattergl",
         "x": [
          68.76926575661076,
          67.92615913798164,
          66.84907239124243,
          64.87590383999816,
          62.75067178972442,
          64.43146286467442,
          65.47320586135316
         ],
         "xaxis": "x",
         "y": [
          90.101763753293,
          87.8866762047557,
          88.76835024471767,
          89.61883156943468,
          93.30604752131755,
          92.06441578708039,
          93.30448814831928
         ],
         "yaxis": "y"
        },
        {
         "hovertemplate": "Line=FRA - FF Packaging, VL6<br>Plant=FRA<br>Availability %=%{x}<br>Performance %=%{y}<extra></extra>",
         "legendgroup": "FRA - FF Packaging, VL6, FRA",
         "marker": {
          "color": "#FF97FF",
          "symbol": "diamond"
         },
         "mode": "markers",
         "name": "FRA - FF Packaging, VL6, FRA",
         "showlegend": true,
         "type": "scattergl",
         "x": [
          48.474759815600756,
          49.55911827592329,
          46.690625621530586,
          46.74141929941183,
          35.63156372646681,
          41.301347058934255,
          39.51220272141245,
          38.448710497004996
         ],
         "xaxis": "x",
         "y": [
          49.72830893907859,
          47.7153321824562,
          42.36709533175722,
          42.67576592863068,
          45.3072226978657,
          40.33224465574334,
          35.583595161595746,
          2622.1617962725127
         ],
         "yaxis": "y"
        },
        {
         "hovertemplate": "Line=FRA - FF Packaging, VL62<br>Plant=FRA<br>Availability %=%{x}<br>Performance %=%{y}<extra></extra>",
         "legendgroup": "FRA - FF Packaging, VL62, FRA",
         "marker": {
          "color": "#FECB52",
          "symbol": "diamond"
         },
         "mode": "markers",
         "name": "FRA - FF Packaging, VL62, FRA",
         "showlegend": true,
         "type": "scattergl",
         "x": [
          23.326560870552957,
          25.46911718907344,
          23.41379948304366,
          21.339652499844476
         ],
         "xaxis": "x",
         "y": [
          37.28021498684478,
          40.2176016189072,
          40.69467596737358,
          36.95621585086642
         ],
         "yaxis": "y"
        },
        {
         "hovertemplate": "Line=FRA - FF Packaging, VL9<br>Plant=FRA<br>Availability %=%{x}<br>Performance %=%{y}<extra></extra>",
         "legendgroup": "FRA - FF Packaging, VL9, FRA",
         "marker": {
          "color": "#636efa",
          "symbol": "diamond"
         },
         "mode": "markers",
         "name": "FRA - FF Packaging, VL9, FRA",
         "showlegend": true,
         "type": "scattergl",
         "x": [
          46.137240853909326,
          48.39976445153608,
          48.89302958391043,
          49.52118620328196,
          48.94783550883751,
          51.052422330247964,
          50.11691885802574,
          55.153009224792044
         ],
         "xaxis": "x",
         "y": [
          75.15205040246063,
          78.43964225752623,
          80.30476988084732,
          81.67940069931342,
          81.14145753052813,
          81.2672077457588,
          80.96036420773197,
          74.35713031040615
         ],
         "yaxis": "y"
        },
        {
         "hovertemplate": "Line=FRA - Pharma, M26 Filling<br>Plant=FRA<br>Availability %=%{x}<br>Performance %=%{y}<extra></extra>",
         "legendgroup": "FRA - Pharma, M26 Filling, FRA",
         "marker": {
          "color": "#EF553B",
          "symbol": "diamond"
         },
         "mode": "markers",
         "name": "FRA - Pharma, M26 Filling, FRA",
         "showlegend": true,
         "type": "scattergl",
         "x": [
          25.75631069147755,
          26.293777232467416,
          28.94426631523301,
          32.747035681604785,
          32.375084836930014,
          32.471858187209676,
          29.433063510996185
         ],
         "xaxis": "x",
         "y": [
          89.34063052012922,
          89.03900511069669,
          87.55903360664254,
          86.64010853815397,
          85.9052358644316,
          71.58690348674013,
          66.86657689144181
         ],
         "yaxis": "y"
        },
        {
         "hovertemplate": "Line=FRA - Pharma, M52 Inspection<br>Plant=FRA<br>Availability %=%{x}<br>Performance %=%{y}<extra></extra>",
         "legendgroup": "FRA - Pharma, M52 Inspection, FRA",
         "marker": {
          "color": "#00cc96",
          "symbol": "diamond"
         },
         "mode": "markers",
         "name": "FRA - Pharma, M52 Inspection, FRA",
         "showlegend": true,
         "type": "scattergl",
         "x": [
          42.605079164193924,
          46.3423949400747
         ],
         "xaxis": "x",
         "y": [
          33.25195143565861,
          38.82685335489686
         ],
         "yaxis": "y"
        },
        {
         "hovertemplate": "Line=FRA - Pharma, M58 Inspection<br>Plant=FRA<br>Availability %=%{x}<br>Performance %=%{y}<extra></extra>",
         "legendgroup": "FRA - Pharma, M58 Inspection, FRA",
         "marker": {
          "color": "#ab63fa",
          "symbol": "diamond"
         },
         "mode": "markers",
         "name": "FRA - Pharma, M58 Inspection, FRA",
         "showlegend": true,
         "type": "scattergl",
         "x": [
          18.738088569165846,
          13.007395238544428,
          11.816355605983242,
          21.36133917422034,
          23.718758689291196,
          21.826325844712635,
          27.013348228132926,
          18.594019186992664,
          12.467763238922288,
          10.905045620537885
         ],
         "xaxis": "x",
         "y": [
          64.44710130204714,
          46.73143774969212,
          36.248340093405346,
          45.41805157122913,
          49.99999841838461,
          52.86703714568334,
          49.703913661001664,
          30.01853938500291,
          null,
          null
         ],
         "yaxis": "y"
        },
        {
         "hovertemplate": "Line=HZG - Blister packaging line 1<br>Plant=HZG<br>Availability %=%{x}<br>Performance %=%{y}<extra></extra>",
         "legendgroup": "HZG - Blister packaging line 1, HZG",
         "marker": {
          "color": "#FFA15A",
          "symbol": "square"
         },
         "mode": "markers",
         "name": "HZG - Blister packaging line 1, HZG",
         "showlegend": true,
         "type": "scattergl",
         "x": [
          76.8900923299187,
          76.58825241957183,
          76.43823046283367,
          78.65552726043174,
          78.40979895513348,
          78.48135153449856,
          79.44585761822084,
          78.88277891451713,
          78.17614490932219,
          77.54544054424282,
          77.9733609311476
         ],
         "xaxis": "x",
         "y": [
          91.25291612080588,
          91.2919308064838,
          93.72017194842667,
          92.98463118710154,
          94.92029073776365,
          94.77770576689493,
          94.81344400967484,
          95.78209755605393,
          93.9594856168197,
          93.4804282478785,
          93.37035488649978
         ],
         "yaxis": "y"
        },
        {
         "hovertemplate": "Line=HZG - Blister packaging line 2<br>Plant=HZG<br>Availability %=%{x}<br>Performance %=%{y}<extra></extra>",
         "legendgroup": "HZG - Blister packaging line 2, HZG",
         "marker": {
          "color": "#19d3f3",
          "symbol": "square"
         },
         "mode": "markers",
         "name": "HZG - Blister packaging line 2, HZG",
         "showlegend": true,
         "type": "scattergl",
         "x": [
          73.35226478475532,
          73.06305285785521,
          73.25976522157022,
          71.49544893218523,
          69.81236981512174,
          65.44158640963202,
          67.66334571699286,
          71.10439647757487,
          68.84928353796069,
          69.85634828225739,
          69.45969856334204
         ],
         "xaxis": "x",
         "y": [
          92.02614769671155,
          91.94206854447862,
          92.57385954705828,
          91.59803964201599,
          91.5971302739723,
          93.63375149585414,
          96.75225919424821,
          98.56483866054718,
          95.58541296851331,
          93.1656762387971,
          89.93878609367485
         ],
         "yaxis": "y"
        },
        {
         "hovertemplate": "Line=HZG - Blister packaging line 4<br>Plant=HZG<br>Availability %=%{x}<br>Performance %=%{y}<extra></extra>",
         "legendgroup": "HZG - Blister packaging line 4, HZG",
         "marker": {
          "color": "#FF6692",
          "symbol": "square"
         },
         "mode": "markers",
         "name": "HZG - Blister packaging line 4, HZG",
         "showlegend": true,
         "type": "scattergl",
         "x": [
          71.94246814168372,
          71.20752225830033,
          70.85943558448149,
          73.08677252620261,
          73.2309352199822,
          73.96240888114338,
          74.10844634325937,
          73.23210432675192,
          74.17047713242285,
          74.14964379908952,
          77.63182324873823
         ],
         "xaxis": "x",
         "y": [
          92.71300159345604,
          91.3457421030046,
          91.7696681380751,
          93.50213456140942,
          93.22482427552754,
          94.52311820838946,
          96.30577679275353,
          95.10949254230742,
          95.503169497692,
          95.01168751397556,
          93.90139226686033
         ],
         "yaxis": "y"
        },
        {
         "hovertemplate": "Line=HZG - Bottle Packaging line 6<br>Plant=HZG<br>Availability %=%{x}<br>Performance %=%{y}<extra></extra>",
         "legendgroup": "HZG - Bottle Packaging line 6, HZG",
         "marker": {
          "color": "#B6E880",
          "symbol": "square"
         },
         "mode": "markers",
         "name": "HZG - Bottle Packaging line 6, HZG",
         "showlegend": true,
         "type": "scattergl",
         "x": [
          56.41880898616341,
          60.75128703858882,
          63.13648813096168,
          52.58687791726505,
          52.93978718362888,
          54.719397523135044
         ],
         "xaxis": "x",
         "y": [
          120.91635301722486,
          114.31255728460768,
          113.59760139038559,
          101.79131360125872,
          92.82350984774358,
          95.05772931001252
         ],
         "yaxis": "y"
        },
        {
         "hovertemplate": "Line=HZG - Bottle Packaging line 7<br>Plant=HZG<br>Availability %=%{x}<br>Performance %=%{y}<extra></extra>",
         "legendgroup": "HZG - Bottle Packaging line 7, HZG",
         "marker": {
          "color": "#FF97FF",
          "symbol": "square"
         },
         "mode": "markers",
         "name": "HZG - Bottle Packaging line 7, HZG",
         "showlegend": true,
         "type": "scattergl",
         "x": [
          62.88482226396887,
          65.35919866596967,
          70.54131700431915,
          69.11778500654283,
          72.28073343503812,
          68.93844073424384,
          64.78042048253583,
          64.37319065486916
         ],
         "xaxis": "x",
         "y": [
          108.51097435932938,
          108.86911860485517,
          108.5014755657797,
          112.5430017291242,
          112.83281172183872,
          114.49114596175525,
          114.64485484032139,
          110.44513379964172
         ],
         "yaxis": "y"
        },
        {
         "hovertemplate": "Line=HZG - Semi-automatic Packaging line<br>Plant=HZG<br>Availability %=%{x}<br>Performance %=%{y}<extra></extra>",
         "legendgroup": "HZG - Semi-automatic Packaging line, HZG",
         "marker": {
          "color": "#FECB52",
          "symbol": "square"
         },
         "mode": "markers",
         "name": "HZG - Semi-automatic Packaging line, HZG",
         "showlegend": true,
         "type": "scattergl",
         "x": [
          65.80607184992702,
          65.25609541391016,
          64.76123467095505,
          68.82110102418434,
          66.41176786282995,
          65.22630710445252,
          68.02207849429982,
          64.38333506620297,
          63.26447661959604,
          62.206519531456586,
          56.12755418621022
         ],
         "xaxis": "x",
         "y": [
          98.32830796060408,
          97.4737387728496,
          96.72451813054457,
          99.37687743286189,
          96.8038243079194,
          95.8884605648923,
          101.41337240682432,
          99.90536783775237,
          98.85277981542797,
          111.94020332655134,
          110.43470077341108
         ],
         "yaxis": "y"
        },
        {
         "hovertemplate": "Line=LLB - Bosch-1 Packaging (CEPH)<br>Plant=LLB<br>Availability %=%{x}<br>Performance %=%{y}<extra></extra>",
         "legendgroup": "LLB - Bosch-1 Packaging (CEPH), LLB",
         "marker": {
          "color": "#636efa",
          "symbol": "x"
         },
         "mode": "markers",
         "name": "LLB - Bosch-1 Packaging (CEPH), LLB",
         "showlegend": true,
         "type": "scattergl",
         "x": [
          53.35192402890435,
          52.00507986110431,
          51.266138349937066,
          52.118097399059266,
          52.549663863535,
          57.28419864234901,
          60.825755178886055,
          60.94709155730745,
          60.84412665848329,
          67.33368620268826,
          77.76036431100252
         ],
         "xaxis": "x",
         "y": [
          120.18500772939822,
          122.20585123158145,
          128.2970313148503,
          123.54108738621724,
          119.27235794598334,
          110.91591307365951,
          105.78112112512471,
          112.80004936090421,
          115.74629408376978,
          108.90252261667544,
          80.5684796919503
         ],
         "yaxis": "y"
        },
        {
         "hovertemplate": "Line=LLB - Bosch-1 Packaging (PENC)<br>Plant=LLB<br>Availability %=%{x}<br>Performance %=%{y}<extra></extra>",
         "legendgroup": "LLB - Bosch-1 Packaging (PENC), LLB",
         "marker": {
          "color": "#EF553B",
          "symbol": "x"
         },
         "mode": "markers",
         "name": "LLB - Bosch-1 Packaging (PENC), LLB",
         "showlegend": true,
         "type": "scattergl",
         "x": [
          60.98843625992059,
          54.69652846671071,
          59.325662064594304,
          56.64156194885357,
          59.54988563712517,
          63.17816495811282,
          70.4534143518518,
          71.57204861111106,
          65.52261766975303,
          65.97048611111106,
          58.20968364197526
         ],
         "xaxis": "x",
         "y": [
          86.16876240913908,
          85.22079372478444,
          87.87155063135516,
          94.62317877026891,
          97.6933544854307,
          88.93015273169091,
          86.20171505539088,
          88.40603641698607,
          72.70593297923072,
          63.88605660546778,
          60.686828427463176
         ],
         "yaxis": "y"
        },
        {
         "hovertemplate": "Line=LLB - Bosch-1 Packaging (SOLD)<br>Plant=LLB<br>Availability %=%{x}<br>Performance %=%{y}<extra></extra>",
         "legendgroup": "LLB - Bosch-1 Packaging (SOLD), LLB",
         "marker": {
          "color": "#00cc96",
          "symbol": "x"
         },
         "mode": "markers",
         "name": "LLB - Bosch-1 Packaging (SOLD), LLB",
         "showlegend": true,
         "type": "scattergl",
         "x": [
          76.20288861976063,
          67.12416279544527,
          64.34327830269434
         ],
         "xaxis": "x",
         "y": [
          53.24163704680562,
          69.49563157593428,
          69.29822556679909
         ],
         "yaxis": "y"
        },
        {
         "hovertemplate": "Line=LLB - Bosch-2 Packaging (PENC)<br>Plant=LLB<br>Availability %=%{x}<br>Performance %=%{y}<extra></extra>",
         "legendgroup": "LLB - Bosch-2 Packaging (PENC), LLB",
         "marker": {
          "color": "#ab63fa",
          "symbol": "x"
         },
         "mode": "markers",
         "name": "LLB - Bosch-2 Packaging (PENC), LLB",
         "showlegend": true,
         "type": "scattergl",
         "x": [
          69.28073606247035,
          72.7098283179012,
          66.99231839726627,
          60.19607032627862
         ],
         "xaxis": "x",
         "y": [
          80.34129476825676,
          79.53753880262798,
          79.01590723491469,
          78.41640179602271
         ],
         "yaxis": "y"
        },
        {
         "hovertemplate": "Line=LLB - Bosch-2 Packaging (SOLD)<br>Plant=LLB<br>Availability %=%{x}<br>Performance %=%{y}<extra></extra>",
         "legendgroup": "LLB - Bosch-2 Packaging (SOLD), LLB",
         "marker": {
          "color": "#FFA15A",
          "symbol": "x"
         },
         "mode": "markers",
         "name": "LLB - Bosch-2 Packaging (SOLD), LLB",
         "showlegend": true,
         "type": "scattergl",
         "x": [
          64.94860679906624,
          66.07143161533169,
          66.92615761732253,
          70.36087073970607,
          73.81550569336608,
          77.95161437260914,
          81.20046030887056,
          80.55770525000634,
          76.0488593033184,
          71.22374260216738,
          72.2969646453966
         ],
         "xaxis": "x",
         "y": [
          83.484204021638,
          82.57390551854874,
          81.41073683465812,
          78.78404432460098,
          81.06929142120569,
          78.37930105223208,
          74.88963715587722,
          76.46433548062132,
          70.51498415816808,
          72.58884068934051,
          77.36371191797012
         ],
         "yaxis": "y"
        },
        {
         "hovertemplate": "Line=LLB - Bosch-3 Packaging (SOLD)<br>Plant=LLB<br>Availability %=%{x}<br>Performance %=%{y}<extra></extra>",
         "legendgroup": "LLB - Bosch-3 Packaging (SOLD), LLB",
         "marker": {
          "color": "#19d3f3",
          "symbol": "x"
         },
         "mode": "markers",
         "name": "LLB - Bosch-3 Packaging (SOLD), LLB",
         "showlegend": true,
         "type": "scattergl",
         "x": [
          64.15376265417434,
          72.10776560679562,
          71.19404407162219,
          72.38963732377437,
          70.36070676221306,
          75.3258654419064,
          73.58454083318944,
          72.17351764778051,
          66.95871090790111,
          62.542400934885926,
          52.68524353751578
         ],
         "xaxis": "x",
         "y": [
          58.026332181741296,
          45.2582514081037,
          34.35619904389736,
          38.92238276141537,
          47.04914064245555,
          56.52314884701816,
          64.97831375089095,
          70.70541288963165,
          61.00095999717731,
          57.769881154511744,
          46.7593100287145
         ],
         "yaxis": "y"
        },
        {
         "hovertemplate": "Line=LLB - CP-2 Packaging (STRL)<br>Plant=LLB<br>Availability %=%{x}<br>Performance %=%{y}<extra></extra>",
         "legendgroup": "LLB - CP-2 Packaging (STRL), LLB",
         "marker": {
          "color": "#FF6692",
          "symbol": "x"
         },
         "mode": "markers",
         "name": "LLB - CP-2 Packaging (STRL), LLB",
         "showlegend": true,
         "type": "scattergl",
         "x": [
          61.786557083514424,
          67.3389853025232,
          74.03500501101885,
          74.76162110865381,
          76.69227393563125,
          73.29196917712333,
          68.97577657396268,
          69.2907897161561,
          69.7680898898303,
          69.08562434379544
         ],
         "xaxis": "x",
         "y": [
          78.67341392832806,
          67.16881767158642,
          53.823476961525806,
          56.28857222301508,
          61.76117304319536,
          69.34633150011638,
          82.29200861641378,
          85.29908790748837,
          62.08109975117244,
          88.81752189880393
         ],
         "yaxis": "y"
        },
        {
         "hovertemplate": "Line=LLB - CP-3 Packaging (STRL)<br>Plant=LLB<br>Availability %=%{x}<br>Performance %=%{y}<extra></extra>",
         "legendgroup": "LLB - CP-3 Packaging (STRL), LLB",
         "marker": {
          "color": "#B6E880",
          "symbol": "x"
         },
         "mode": "markers",
         "name": "LLB - CP-3 Packaging (STRL), LLB",
         "showlegend": true,
         "type": "scattergl",
         "x": [
          71.08149560354592,
          69.2091585421114,
          69.67048081461668,
          70.66202737556033,
          68.95452389489525,
          72.23992738069005,
          73.75218565900909,
          77.85781783864823,
          80.20679467231503,
          79.65717390241602,
          81.00041811254393
         ],
         "xaxis": "x",
         "y": [
          73.02646818595402,
          72.2311484813936,
          72.08542114039437,
          74.73804241694428,
          88.85621892017639,
          83.38099094107775,
          78.83477772771165,
          76.58345063659156,
          64.70455996972022,
          58.654689967223206,
          58.154138883549734
         ],
         "yaxis": "y"
        },
        {
         "hovertemplate": "Line=LLB - Huttlin-1 Granulation<br>Plant=LLB<br>Availability %=%{x}<br>Performance %=%{y}<extra></extra>",
         "legendgroup": "LLB - Huttlin-1 Granulation, LLB",
         "marker": {
          "color": "#FF97FF",
          "symbol": "x"
         },
         "mode": "markers",
         "name": "LLB - Huttlin-1 Granulation, LLB",
         "showlegend": true,
         "type": "scattergl",
         "x": [
          92.29340113095228,
          92.4361952581214,
          93.13027807553351,
          86.18583363108907,
          84.86790986790983,
          86.11111111111106,
          86.02941176470583,
          87.41830065359471,
          81.8743031193059,
          77.72210404523184,
          79.19269228052596
         ],
         "xaxis": "x",
         "y": [
          62.01689652253279,
          58.6446821746582,
          64.91913445463933,
          89.27439246020842,
          85.12281297536967,
          84.43999582271678,
          78.72719993270894,
          72.87978325555315,
          77.1528222178112,
          73.59673510488793,
          59.89843405937747
         ],
         "yaxis": "y"
        },
        {
         "hovertemplate": "Line=LLB - IMA C95 Packaging (SOLD)<br>Plant=LLB<br>Availability %=%{x}<br>Performance %=%{y}<extra></extra>",
         "legendgroup": "LLB - IMA C95 Packaging (SOLD), LLB",
         "marker": {
          "color": "#FECB52",
          "symbol": "x"
         },
         "mode": "markers",
         "name": "LLB - IMA C95 Packaging (SOLD), LLB",
         "showlegend": true,
         "type": "scattergl",
         "x": [
          64.83362748745677,
          61.97678484079379,
          67.09008928476003,
          73.13015330954485,
          74.82942088586063,
          83.13103256253183,
          86.38809423442206,
          89.66239169140943
         ],
         "xaxis": "x",
         "y": [
          64.83021671769862,
          71.3370022956797,
          70.4585588453072,
          68.22046654086527,
          69.90374535642047,
          70.49361835520321,
          75.76788359117326,
          82.00016837850515
         ],
         "yaxis": "y"
        },
        {
         "hovertemplate": "Line=LLB - IMA-1 Packaging (NSL)<br>Plant=LLB<br>Availability %=%{x}<br>Performance %=%{y}<extra></extra>",
         "legendgroup": "LLB - IMA-1 Packaging (NSL), LLB",
         "marker": {
          "color": "#636efa",
          "symbol": "x"
         },
         "mode": "markers",
         "name": "LLB - IMA-1 Packaging (NSL), LLB",
         "showlegend": true,
         "type": "scattergl",
         "x": [
          51.03625274759688,
          53.527670588258225
         ],
         "xaxis": "x",
         "y": [
          67.55041422852622,
          67.87532795866092
         ],
         "yaxis": "y"
        },
        {
         "hovertemplate": "Line=LLB - IMA-1 Packaging (SOLD)<br>Plant=LLB<br>Availability %=%{x}<br>Performance %=%{y}<extra></extra>",
         "legendgroup": "LLB - IMA-1 Packaging (SOLD), LLB",
         "marker": {
          "color": "#EF553B",
          "symbol": "x"
         },
         "mode": "markers",
         "name": "LLB - IMA-1 Packaging (SOLD), LLB",
         "showlegend": true,
         "type": "scattergl",
         "x": [
          73.01628783309538,
          68.66042763016762,
          67.7255818422829,
          70.2851482586779,
          76.78577482509395,
          76.03709157283832,
          77.42711709319968,
          83.81030135431143
         ],
         "xaxis": "x",
         "y": [
          148.52472666538495,
          138.42230749241662,
          68.11186999175155,
          66.94666861227424,
          46.073109481594024,
          47.037549160559216,
          46.628509374138666,
          31.246932575569463
         ],
         "yaxis": "y"
        },
        {
         "hovertemplate": "Line=LLB - IMA-2 Packaging (NSL)<br>Plant=LLB<br>Availability %=%{x}<br>Performance %=%{y}<extra></extra>",
         "legendgroup": "LLB - IMA-2 Packaging (NSL), LLB",
         "marker": {
          "color": "#00cc96",
          "symbol": "x"
         },
         "mode": "markers",
         "name": "LLB - IMA-2 Packaging (NSL), LLB",
         "showlegend": true,
         "type": "scattergl",
         "x": [
          55.32119472774845,
          50.699656047967316,
          53.404143529988175,
          59.16563176289166
         ],
         "xaxis": "x",
         "y": [
          70.47728882692992,
          59.975395058974705,
          57.75423395069628,
          56.12425330394654
         ],
         "yaxis": "y"
        },
        {
         "hovertemplate": "Line=LLB - IMA-2 Packaging (SOLD)<br>Plant=LLB<br>Availability %=%{x}<br>Performance %=%{y}<extra></extra>",
         "legendgroup": "LLB - IMA-2 Packaging (SOLD), LLB",
         "marker": {
          "color": "#ab63fa",
          "symbol": "x"
         },
         "mode": "markers",
         "name": "LLB - IMA-2 Packaging (SOLD), LLB",
         "showlegend": true,
         "type": "scattergl",
         "x": [
          62.17297995025679,
          63.20929318089155,
          64.3662035261514,
          66.32447988578777,
          68.54426974505795,
          72.68514252207947,
          71.81947338106968,
          78.49262283742026
         ],
         "xaxis": "x",
         "y": [
          84.63783312678841,
          82.93069893999511,
          82.4080902098923,
          77.33569762170896,
          75.61719047574157,
          73.93581036941859,
          72.22949832255149,
          60.33442115309851
         ],
         "yaxis": "y"
        },
        {
         "hovertemplate": "Line=LLB - IMA-3 Packaging (SOLD)<br>Plant=LLB<br>Availability %=%{x}<br>Performance %=%{y}<extra></extra>",
         "legendgroup": "LLB - IMA-3 Packaging (SOLD), LLB",
         "marker": {
          "color": "#FFA15A",
          "symbol": "x"
         },
         "mode": "markers",
         "name": "LLB - IMA-3 Packaging (SOLD), LLB",
         "showlegend": true,
         "type": "scattergl",
         "x": [
          69.17879502272028,
          71.46707101820641,
          71.44820604720411,
          68.96136084084189,
          71.16102723149166,
          73.20476960219564,
          75.2075174797578,
          77.02769279021601
         ],
         "xaxis": "x",
         "y": [
          78.08133352714655,
          83.73510275666281,
          83.41288551698854,
          74.66710370221548,
          74.84606201471027,
          68.36990316019474,
          68.94702746549726,
          73.08373558741008
         ],
         "yaxis": "y"
        },
        {
         "hovertemplate": "Line=LLB - IMA-4 Packaging (SOLD)<br>Plant=LLB<br>Availability %=%{x}<br>Performance %=%{y}<extra></extra>",
         "legendgroup": "LLB - IMA-4 Packaging (SOLD), LLB",
         "marker": {
          "color": "#19d3f3",
          "symbol": "x"
         },
         "mode": "markers",
         "name": "LLB - IMA-4 Packaging (SOLD), LLB",
         "showlegend": true,
         "type": "scattergl",
         "x": [
          49.08170868984885,
          56.647416434634195,
          61.74981764737184,
          64.80481605362726,
          67.9354984959362,
          73.46826388771983,
          74.24318445771232
         ],
         "xaxis": "x",
         "y": [
          59.328685095428185,
          68.16857680714273,
          69.7614325579512,
          68.45543560379926,
          67.26303261585733,
          60.37393618673302,
          60.441275451114876
         ],
         "yaxis": "y"
        },
        {
         "hovertemplate": "Line=LLB - SPREY Packaging (NSL)<br>Plant=LLB<br>Availability %=%{x}<br>Performance %=%{y}<extra></extra>",
         "legendgroup": "LLB - SPREY Packaging (NSL), LLB",
         "marker": {
          "color": "#FF6692",
          "symbol": "x"
         },
         "mode": "markers",
         "name": "LLB - SPREY Packaging (NSL), LLB",
         "showlegend": true,
         "type": "scattergl",
         "x": [
          66.94192178586106,
          62.8964391313356,
          66.96364109892818,
          59.901158119625364,
          64.16907448743382,
          69.21989877329837,
          65.60726979094197,
          69.12869929118268,
          65.10607275971745,
          65.60738793399202,
          66.90568430420151
         ],
         "xaxis": "x",
         "y": [
          104.67805062013322,
          109.5587300534962,
          97.75699888459667,
          85.56912892286694,
          74.00375765307004,
          61.9286317963343,
          69.28510974491148,
          76.56171593821793,
          82.05068680270966,
          84.30799506495447,
          77.26157646911126
         ],
         "yaxis": "y"
        },
        {
         "hovertemplate": "Line=LLB - Sarong Packaging (SSL)<br>Plant=LLB<br>Availability %=%{x}<br>Performance %=%{y}<extra></extra>",
         "legendgroup": "LLB - Sarong Packaging (SSL), LLB",
         "marker": {
          "color": "#B6E880",
          "symbol": "x"
         },
         "mode": "markers",
         "name": "LLB - Sarong Packaging (SSL), LLB",
         "showlegend": true,
         "type": "scattergl",
         "x": [
          76.8409493687202,
          79.13113423500697,
          76.50709272920484,
          75.41355164800103,
          73.2345957977046,
          69.7118227556413,
          68.90616034887327,
          66.67968873961743,
          69.72543822078892,
          74.03140049113156,
          80.59872613997464
         ],
         "xaxis": "x",
         "y": [
          100.44486022433712,
          99.70078568007182,
          95.80310093391499,
          93.55933666592459,
          88.05472846403917,
          83.21697117035333,
          81.84279025553916,
          75.768817686886,
          78.01685852778525,
          78.75863257374746,
          81.05146657756288
         ],
         "yaxis": "y"
        },
        {
         "hovertemplate": "Line=LLB - TFS-30 Packaging (SSL)<br>Plant=LLB<br>Availability %=%{x}<br>Performance %=%{y}<extra></extra>",
         "legendgroup": "LLB - TFS-30 Packaging (SSL), LLB",
         "marker": {
          "color": "#FF97FF",
          "symbol": "x"
         },
         "mode": "markers",
         "name": "LLB - TFS-30 Packaging (SSL), LLB",
         "showlegend": true,
         "type": "scattergl",
         "x": [
          67.35288885597119,
          69.88832820085449,
          72.88543525530862,
          75.8826086295427,
          77.1979761235508,
          78.11731070005119,
          76.55506971173664,
          57.79455949137935
         ],
         "xaxis": "x",
         "y": [
          76.27317513013175,
          71.56863719154425,
          66.73426447031582,
          63.542640624034014,
          67.77056142626077,
          70.28704495983195,
          73.90835049863522,
          78.0137446886705
         ],
         "yaxis": "y"
        },
        {
         "hovertemplate": "Line=LLB - Uhlmann Packaging (SOLD)<br>Plant=LLB<br>Availability %=%{x}<br>Performance %=%{y}<extra></extra>",
         "legendgroup": "LLB - Uhlmann Packaging (SOLD), LLB",
         "marker": {
          "color": "#FECB52",
          "symbol": "x"
         },
         "mode": "markers",
         "name": "LLB - Uhlmann Packaging (SOLD), LLB",
         "showlegend": true,
         "type": "scattergl",
         "x": [
          63.73870977511805,
          65.00115277464857,
          68.5379765698174,
          70.94836836624151,
          74.04204809178363,
          75.4820844003506,
          76.54150741600421
         ],
         "xaxis": "x",
         "y": [
          73.86988474838367,
          70.67097084595623,
          74.2325073816268,
          78.29976852391985,
          76.58716258738357,
          77.52022589713644,
          70.53368797081681
         ],
         "yaxis": "y"
        },
        {
         "hovertemplate": "Line=LSX - 1030 Packaging Line<br>Plant=LSX<br>Availability %=%{x}<br>Performance %=%{y}<extra></extra>",
         "legendgroup": "LSX - 1030 Packaging Line, LSX",
         "marker": {
          "color": "#636efa",
          "symbol": "cross"
         },
         "mode": "markers",
         "name": "LSX - 1030 Packaging Line, LSX",
         "showlegend": true,
         "type": "scattergl",
         "x": [
          69.95118176242698,
          70.08666187169224,
          70.36956147816878,
          65.03043329250946,
          61.224491425372186,
          59.71446271131248,
          54.66002799685531,
          48.08038092168752,
          51.44094036342853,
          52.63595402829381,
          50.48652195854199
         ],
         "xaxis": "x",
         "y": [
          79.88765839056575,
          80.64634052006883,
          79.81690030132089,
          83.39847675700223,
          86.71720122371664,
          86.46196507008058,
          87.23277466428421,
          88.21622430359173,
          90.00028931216302,
          90.6907080776197,
          90.54336307578306
         ],
         "yaxis": "y"
        },
        {
         "hovertemplate": "Line=LSX - 1070-1 Packaging Line<br>Plant=LSX<br>Availability %=%{x}<br>Performance %=%{y}<extra></extra>",
         "legendgroup": "LSX - 1070-1 Packaging Line, LSX",
         "marker": {
          "color": "#EF553B",
          "symbol": "cross"
         },
         "mode": "markers",
         "name": "LSX - 1070-1 Packaging Line, LSX",
         "showlegend": true,
         "type": "scattergl",
         "x": [
          64.187390460684,
          67.16505986683482,
          68.43828237014678,
          64.31100479009342,
          63.35263795708999,
          64.74119238781753,
          65.99890398021837,
          63.042590722114966,
          72.65410587363012,
          70.59928259082707,
          72.1215364597742
         ],
         "xaxis": "x",
         "y": [
          73.22962795776792,
          72.50747143169282,
          73.70515368996358,
          78.1776247085063,
          81.39382181019897,
          81.4037875609014,
          81.4057396124355,
          81.47531773029573,
          61.60564080496918,
          60.94382350134454,
          59.35693522378317
         ],
         "yaxis": "y"
        },
        {
         "hovertemplate": "Line=LSX - 1070-2 Packaging Line<br>Plant=LSX<br>Availability %=%{x}<br>Performance %=%{y}<extra></extra>",
         "legendgroup": "LSX - 1070-2 Packaging Line, LSX",
         "marker": {
          "color": "#00cc96",
          "symbol": "cross"
         },
         "mode": "markers",
         "name": "LSX - 1070-2 Packaging Line, LSX",
         "showlegend": true,
         "type": "scattergl",
         "x": [
          70.31167537620053,
          71.63359775544102,
          73.78168587611387,
          66.04003020172475,
          61.174532610093365,
          62.05939202950256,
          55.736586816368,
          59.248908451239686,
          62.02402281541134,
          59.38924198239971,
          61.768856087479485
         ],
         "xaxis": "x",
         "y": [
          75.67778140975504,
          74.07383633582869,
          69.77984516211032,
          75.32704999058402,
          79.83333724135075,
          81.3289624552402,
          84.85793596595623,
          86.75017978433064,
          88.83210426960945,
          88.4089934162478,
          88.91864931026015
         ],
         "yaxis": "y"
        },
        {
         "hovertemplate": "Line=LSX - C65-1 Packaging Line<br>Plant=LSX<br>Availability %=%{x}<br>Performance %=%{y}<extra></extra>",
         "legendgroup": "LSX - C65-1 Packaging Line, LSX",
         "marker": {
          "color": "#ab63fa",
          "symbol": "cross"
         },
         "mode": "markers",
         "name": "LSX - C65-1 Packaging Line, LSX",
         "showlegend": true,
         "type": "scattergl",
         "x": [
          60.69918376755172,
          61.295122732275225,
          64.2450600081834,
          66.9413936702428,
          67.0391284316681,
          68.14592080466994,
          65.98205942495454,
          66.20316542774498,
          59.19886335079933,
          58.144531964420864,
          59.577570589969625
         ],
         "xaxis": "x",
         "y": [
          84.26542707105699,
          85.92260551251977,
          87.42358497990494,
          87.10724363595799,
          89.17723194849236,
          90.45330796049963,
          89.69836379336209,
          90.63631895854937,
          90.94099506802205,
          89.58262622213579,
          89.03670610482688
         ],
         "yaxis": "y"
        },
        {
         "hovertemplate": "Line=LSX - C65-2 Packaging Line<br>Plant=LSX<br>Availability %=%{x}<br>Performance %=%{y}<extra></extra>",
         "legendgroup": "LSX - C65-2 Packaging Line, LSX",
         "marker": {
          "color": "#FFA15A",
          "symbol": "cross"
         },
         "mode": "markers",
         "name": "LSX - C65-2 Packaging Line, LSX",
         "showlegend": true,
         "type": "scattergl",
         "x": [
          79.21872833770804,
          80.44354254930741,
          81.82396899300824,
          77.1947697023774,
          73.35849498170204,
          73.48378534745734,
          71.2334463102353,
          72.1105803036138,
          70.66905157820194,
          66.94284042718462,
          64.50044624708882
         ],
         "xaxis": "x",
         "y": [
          89.41739295347809,
          89.56765365280401,
          90.11073567473152,
          93.34570358369466,
          93.48532710941087,
          94.30304016730199,
          94.02366829692528,
          95.65228989556437,
          95.9142624218694,
          94.5209404399485,
          92.12740315819207
         ],
         "yaxis": "y"
        },
        {
         "hovertemplate": "Line=LSX - IWK Packaging Line<br>Plant=LSX<br>Availability %=%{x}<br>Performance %=%{y}<extra></extra>",
         "legendgroup": "LSX - IWK Packaging Line, LSX",
         "marker": {
          "color": "#19d3f3",
          "symbol": "cross"
         },
         "mode": "markers",
         "name": "LSX - IWK Packaging Line, LSX",
         "showlegend": true,
         "type": "scattergl",
         "x": [
          57.467241993911514,
          58.444109779014966,
          70.54181725319704,
          57.34219354272858,
          60.734002312720726,
          56.318618407277434,
          49.42435028966539,
          48.739589173089826,
          32.11298549503544,
          26.39366964278745,
          22.96620128220656
         ],
         "xaxis": "x",
         "y": [
          69.40726790169303,
          71.75483768325392,
          77.16729315611748,
          95.08361717302668,
          94.62882746368062,
          89.98409835292463,
          89.47028477218552,
          88.65052513291373,
          65.44667559436192,
          60.04542718057977,
          56.06471647756082
         ],
         "yaxis": "y"
        },
        {
         "hovertemplate": "Line=LSX - SIG1 Packaging Line<br>Plant=LSX<br>Availability %=%{x}<br>Performance %=%{y}<extra></extra>",
         "legendgroup": "LSX - SIG1 Packaging Line, LSX",
         "marker": {
          "color": "#FF6692",
          "symbol": "cross"
         },
         "mode": "markers",
         "name": "LSX - SIG1 Packaging Line, LSX",
         "showlegend": true,
         "type": "scattergl",
         "x": [
          67.1471229094287,
          64.2209094090281,
          61.33018528768621,
          61.952750184912844,
          59.56707381805756,
          65.13439605689989,
          66.94692962399438,
          63.6664684529213
         ],
         "xaxis": "x",
         "y": [
          86.76029914950465,
          85.16462414049008,
          83.51395737578923,
          89.07772088169055,
          92.16011007733002,
          92.86362205667336,
          95.20048831735404,
          94.61767443418276
         ],
         "yaxis": "y"
        },
        {
         "hovertemplate": "Line=LSX - SIG2 Packaging Line<br>Plant=LSX<br>Availability %=%{x}<br>Performance %=%{y}<extra></extra>",
         "legendgroup": "LSX - SIG2 Packaging Line, LSX",
         "marker": {
          "color": "#B6E880",
          "symbol": "cross"
         },
         "mode": "markers",
         "name": "LSX - SIG2 Packaging Line, LSX",
         "showlegend": true,
         "type": "scattergl",
         "x": [
          67.77970798842853,
          75.12819442107568,
          76.00252021239467,
          73.89900407112049,
          68.27110554021787,
          62.67204342330804,
          62.39697253056184,
          62.9135522004111
         ],
         "xaxis": "x",
         "y": [
          83.31528008312114,
          75.86014073332717,
          80.74600544235899,
          85.59418850318025,
          92.80980114314787,
          102.07020693610221,
          95.99180230908016,
          98.51503816468559
         ],
         "yaxis": "y"
        },
        {
         "hovertemplate": "Line=LSX - SUPPO Packaging Line<br>Plant=LSX<br>Availability %=%{x}<br>Performance %=%{y}<extra></extra>",
         "legendgroup": "LSX - SUPPO Packaging Line, LSX",
         "marker": {
          "color": "#FF97FF",
          "symbol": "cross"
         },
         "mode": "markers",
         "name": "LSX - SUPPO Packaging Line, LSX",
         "showlegend": true,
         "type": "scattergl",
         "x": [
          72.32822803158521,
          73.28141496535238,
          75.96352888886514,
          72.72710249355258,
          68.52290417117193,
          65.95272664602622,
          72.17846006612274,
          69.80974266704841,
          52.1951138196228,
          56.369270415654,
          46.98388246065417
         ],
         "xaxis": "x",
         "y": [
          66.56855251393154,
          72.68629362799471,
          73.6645571787862,
          77.99800218414507,
          78.25356503220036,
          70.65304234814649,
          50.90441102907328,
          49.23157524894283,
          30.57969348801234,
          35.09223877475432,
          54.85390822012391
         ],
         "yaxis": "y"
        },
        {
         "hovertemplate": "Line=LSX - TR200 Packaging Line<br>Plant=LSX<br>Availability %=%{x}<br>Performance %=%{y}<extra></extra>",
         "legendgroup": "LSX - TR200 Packaging Line, LSX",
         "marker": {
          "color": "#FECB52",
          "symbol": "cross"
         },
         "mode": "markers",
         "name": "LSX - TR200 Packaging Line, LSX",
         "showlegend": true,
         "type": "scattergl",
         "x": [
          74.6047070065522,
          78.21305753005677,
          72.02638183557289,
          70.32751126383815,
          64.5934995933734,
          63.43283332178139,
          64.66149846528342,
          61.96217471411938,
          51.42031171227117,
          50.0358940878064,
          43.97725916857921
         ],
         "xaxis": "x",
         "y": [
          77.67376750027634,
          77.67206500917914,
          72.47648115902842,
          69.2787687852703,
          78.70156633550633,
          79.1180891234929,
          77.21834858451761,
          86.33694359906642,
          68.44975974039282,
          67.54607675850984,
          69.90948201421688
         ],
         "yaxis": "y"
        },
        {
         "hovertemplate": "Line=LTR - C10 Packaging Line<br>Plant=LTR<br>Availability %=%{x}<br>Performance %=%{y}<extra></extra>",
         "legendgroup": "LTR - C10 Packaging Line, LTR",
         "marker": {
          "color": "#636efa",
          "symbol": "circle"
         },
         "mode": "markers",
         "name": "LTR - C10 Packaging Line, LTR",
         "showlegend": true,
         "type": "scattergl",
         "x": [
          36.49832018507011
         ],
         "xaxis": "x",
         "y": [
          51.80212673366573
         ],
         "yaxis": "y"
        },
        {
         "hovertemplate": "Line=LTR - C2 Packaging Line<br>Plant=LTR<br>Availability %=%{x}<br>Performance %=%{y}<extra></extra>",
         "legendgroup": "LTR - C2 Packaging Line, LTR",
         "marker": {
          "color": "#EF553B",
          "symbol": "circle"
         },
         "mode": "markers",
         "name": "LTR - C2 Packaging Line, LTR",
         "showlegend": true,
         "type": "scattergl",
         "x": [
          65.17830446412064,
          61.26467599189842,
          59.85522383140459
         ],
         "xaxis": "x",
         "y": [
          67.0601895800448,
          66.86031062114806,
          64.52650108848235
         ],
         "yaxis": "y"
        },
        {
         "hovertemplate": "Line=LTR - C5 Packaging Line<br>Plant=LTR<br>Availability %=%{x}<br>Performance %=%{y}<extra></extra>",
         "legendgroup": "LTR - C5 Packaging Line, LTR",
         "marker": {
          "color": "#00cc96",
          "symbol": "circle"
         },
         "mode": "markers",
         "name": "LTR - C5 Packaging Line, LTR",
         "showlegend": true,
         "type": "scattergl",
         "x": [
          65.43100276459646
         ],
         "xaxis": "x",
         "y": [
          49.31506945086387
         ],
         "yaxis": "y"
        },
        {
         "hovertemplate": "Line=LTR - C6 Packaging line<br>Plant=LTR<br>Availability %=%{x}<br>Performance %=%{y}<extra></extra>",
         "legendgroup": "LTR - C6 Packaging line, LTR",
         "marker": {
          "color": "#ab63fa",
          "symbol": "circle"
         },
         "mode": "markers",
         "name": "LTR - C6 Packaging line, LTR",
         "showlegend": true,
         "type": "scattergl",
         "x": [
          53.76537318568562,
          51.026616834982484,
          55.52632748313063,
          55.43885283240195,
          52.82745925876878,
          51.74983138217763,
          48.82703435368028,
          53.06190294035311
         ],
         "xaxis": "x",
         "y": [
          64.74385979417691,
          67.20034704633156,
          68.74654800350908,
          70.55389657044847,
          70.10059044579182,
          68.23782687322782,
          68.51916329440758,
          65.02111269273033
         ],
         "yaxis": "y"
        },
        {
         "hovertemplate": "Line=LTR - C7 Packaging line<br>Plant=LTR<br>Availability %=%{x}<br>Performance %=%{y}<extra></extra>",
         "legendgroup": "LTR - C7 Packaging line, LTR",
         "marker": {
          "color": "#FFA15A",
          "symbol": "circle"
         },
         "mode": "markers",
         "name": "LTR - C7 Packaging line, LTR",
         "showlegend": true,
         "type": "scattergl",
         "x": [
          38.010226796867045,
          44.72090294948793,
          46.733640458295866,
          50.50196597438167,
          46.91388360192241,
          49.11665470527156
         ],
         "xaxis": "x",
         "y": [
          54.746405290272484,
          57.341896953701024,
          61.50434107083785,
          62.85746816791285,
          63.48144539682536,
          61.000416359963204
         ],
         "yaxis": "y"
        },
        {
         "hovertemplate": "Line=LTR - C8 Packaging line<br>Plant=LTR<br>Availability %=%{x}<br>Performance %=%{y}<extra></extra>",
         "legendgroup": "LTR - C8 Packaging line, LTR",
         "marker": {
          "color": "#19d3f3",
          "symbol": "circle"
         },
         "mode": "markers",
         "name": "LTR - C8 Packaging line, LTR",
         "showlegend": true,
         "type": "scattergl",
         "x": [
          65.32811072628363,
          64.02760373603577,
          61.35659679159133,
          62.60317943247925
         ],
         "xaxis": "x",
         "y": [
          71.9492848164952,
          70.06973070984839,
          68.16459002168007,
          67.2708181058573
         ],
         "yaxis": "y"
        },
        {
         "hovertemplate": "Line=LTR - C9 Packaging line<br>Plant=LTR<br>Availability %=%{x}<br>Performance %=%{y}<extra></extra>",
         "legendgroup": "LTR - C9 Packaging line, LTR",
         "marker": {
          "color": "#FF6692",
          "symbol": "circle"
         },
         "mode": "markers",
         "name": "LTR - C9 Packaging line, LTR",
         "showlegend": true,
         "type": "scattergl",
         "x": [
          57.554780354919416,
          58.365505412627805,
          57.70563251976156,
          54.637634834576374,
          53.347553303937275,
          52.43682581915786,
          48.22151236864391
         ],
         "xaxis": "x",
         "y": [
          67.47556868004729,
          70.62521757331501,
          70.06743581076607,
          69.14048543346749,
          66.67158984577931,
          64.94475573598952,
          65.89249067301071
         ],
         "yaxis": "y"
        },
        {
         "hovertemplate": "Line=LTR - Corima Assembling Machine<br>Plant=LTR<br>Availability %=%{x}<br>Performance %=%{y}<extra></extra>",
         "legendgroup": "LTR - Corima Assembling Machine, LTR",
         "marker": {
          "color": "#B6E880",
          "symbol": "circle"
         },
         "mode": "markers",
         "name": "LTR - Corima Assembling Machine, LTR",
         "showlegend": true,
         "type": "scattergl",
         "x": [
          31.313544945494574,
          28.92531737480111,
          45.22740070813444
         ],
         "xaxis": "x",
         "y": [
          10.625656798533315,
          9.240406971877128,
          7.202981822176531
         ],
         "yaxis": "y"
        },
        {
         "hovertemplate": "Line=LTR - L647 Bio-Tech Packaging<br>Plant=LTR<br>Availability %=%{x}<br>Performance %=%{y}<extra></extra>",
         "legendgroup": "LTR - L647 Bio-Tech Packaging, LTR",
         "marker": {
          "color": "#FF97FF",
          "symbol": "circle"
         },
         "mode": "markers",
         "name": "LTR - L647 Bio-Tech Packaging, LTR",
         "showlegend": true,
         "type": "scattergl",
         "x": [
          46.86900001691923,
          39.623820094552705,
          37.748245455603474,
          40.99288656520902,
          44.02429592341554,
          61.339889000872645
         ],
         "xaxis": "x",
         "y": [
          78.76867712555236,
          70.1963806292979,
          66.8049772862436,
          61.96428122164642,
          55.07332560824361,
          42.4610009516707
         ],
         "yaxis": "y"
        },
        {
         "hovertemplate": "Line=LTR - Optima Assembling Machine<br>Plant=LTR<br>Availability %=%{x}<br>Performance %=%{y}<extra></extra>",
         "legendgroup": "LTR - Optima Assembling Machine, LTR",
         "marker": {
          "color": "#FECB52",
          "symbol": "circle"
         },
         "mode": "markers",
         "name": "LTR - Optima Assembling Machine, LTR",
         "showlegend": true,
         "type": "scattergl",
         "x": [
          52.65248799371931,
          48.43096445864957,
          48.15493444707815,
          50.02378350127038,
          51.59536473988935
         ],
         "xaxis": "x",
         "y": [
          34.4960963407156,
          42.864773241300405,
          40.440100719004974,
          40.340983041961834,
          34.95030405949162
         ],
         "yaxis": "y"
        },
        {
         "hovertemplate": "Line=MAF - C2 Packaging Line<br>Plant=MAF<br>Availability %=%{x}<br>Performance %=%{y}<extra></extra>",
         "legendgroup": "MAF - C2 Packaging Line, MAF",
         "marker": {
          "color": "#636efa",
          "symbol": "diamond"
         },
         "mode": "markers",
         "name": "MAF - C2 Packaging Line, MAF",
         "showlegend": true,
         "type": "scattergl",
         "x": [
          58.33863563112628,
          58.650984607543876,
          55.92569889601134,
          53.82293831049215,
          55.805274499669,
          57.14846674451565,
          55.21761994406559,
          54.95329009524083
         ],
         "xaxis": "x",
         "y": [
          83.67652851000256,
          84.29860638568279,
          83.60580025799514,
          81.35418263682386,
          80.26453483699764,
          77.6435174109579,
          81.13828508584135,
          78.70750221006925
         ],
         "yaxis": "y"
        },
        {
         "hovertemplate": "Line=MAF - C3 Packaging Line<br>Plant=MAF<br>Availability %=%{x}<br>Performance %=%{y}<extra></extra>",
         "legendgroup": "MAF - C3 Packaging Line, MAF",
         "marker": {
          "color": "#EF553B",
          "symbol": "diamond"
         },
         "mode": "markers",
         "name": "MAF - C3 Packaging Line, MAF",
         "showlegend": true,
         "type": "scattergl",
         "x": [
          57.41733932913775,
          57.997980182460054,
          57.11708383577984,
          55.15960648148143,
          59.07601067744768,
          63.35998038816728,
          64.80322714977163,
          65.86409671498902
         ],
         "xaxis": "x",
         "y": [
          90.41061447984936,
          88.11970726976818,
          87.79047965045906,
          87.45695316759011,
          84.63444470044553,
          86.77969102571642,
          88.69651505496677,
          91.46886447686842
         ],
         "yaxis": "y"
        },
        {
         "hovertemplate": "Line=MAF - C4 Packaging Line<br>Plant=MAF<br>Availability %=%{x}<br>Performance %=%{y}<extra></extra>",
         "legendgroup": "MAF - C4 Packaging Line, MAF",
         "marker": {
          "color": "#00cc96",
          "symbol": "diamond"
         },
         "mode": "markers",
         "name": "MAF - C4 Packaging Line, MAF",
         "showlegend": true,
         "type": "scattergl",
         "x": [
          51.4089091115875,
          51.82594195553567,
          52.09828544149536,
          52.22961287805535,
          57.671906975888106,
          54.20435319800707,
          50.69484636484441,
          49.078874850004894
         ],
         "xaxis": "x",
         "y": [
          83.74089693839534,
          82.06644387479903,
          80.10871448583798,
          80.53347241381442,
          80.6225666770886,
          80.79809636376322,
          82.0089327127943,
          84.43278129688099
         ],
         "yaxis": "y"
        },
        {
         "hovertemplate": "Line=MAF - C5 Packaging Line<br>Plant=MAF<br>Availability %=%{x}<br>Performance %=%{y}<extra></extra>",
         "legendgroup": "MAF - C5 Packaging Line, MAF",
         "marker": {
          "color": "#ab63fa",
          "symbol": "diamond"
         },
         "mode": "markers",
         "name": "MAF - C5 Packaging Line, MAF",
         "showlegend": true,
         "type": "scattergl",
         "x": [
          53.85071695526929,
          50.839870580918436,
          52.960527736910905,
          48.86526887464386,
          48.598631108055386,
          48.59275032278718,
          47.200934013680445,
          49.28652238516945
         ],
         "xaxis": "x",
         "y": [
          89.99545032592363,
          89.20470231559928,
          89.86653175232763,
          89.10717468772067,
          87.06573257647264,
          83.70769646582453,
          83.95510753171428,
          85.16663735529825
         ],
         "yaxis": "y"
        },
        {
         "hovertemplate": "Line=MAF - C6 Packaging Line<br>Plant=MAF<br>Availability %=%{x}<br>Performance %=%{y}<extra></extra>",
         "legendgroup": "MAF - C6 Packaging Line, MAF",
         "marker": {
          "color": "#FFA15A",
          "symbol": "diamond"
         },
         "mode": "markers",
         "name": "MAF - C6 Packaging Line, MAF",
         "showlegend": true,
         "type": "scattergl",
         "x": [
          41.98400801466724,
          45.51446739053925,
          47.3575512828114,
          49.53124470369025,
          49.85243545271068,
          50.76501730137357,
          49.790203563970074,
          47.428948063012484
         ],
         "xaxis": "x",
         "y": [
          80.4563417695669,
          81.73720995006511,
          79.84318469970299,
          77.8318236528896,
          75.20841451535753,
          73.44977311822768,
          72.850036557806,
          71.37198843984748
         ],
         "yaxis": "y"
        },
        {
         "hovertemplate": "Line=MAF - C9 Packaging Line<br>Plant=MAF<br>Availability %=%{x}<br>Performance %=%{y}<extra></extra>",
         "legendgroup": "MAF - C9 Packaging Line, MAF",
         "marker": {
          "color": "#19d3f3",
          "symbol": "diamond"
         },
         "mode": "markers",
         "name": "MAF - C9 Packaging Line, MAF",
         "showlegend": true,
         "type": "scattergl",
         "x": [
          72.65302583335338,
          72.17293858720035,
          70.44584825498683,
          72.58567044592644
         ],
         "xaxis": "x",
         "y": [
          86.8400029638234,
          87.50317017313738,
          87.26231775984343,
          85.0526194420245
         ],
         "yaxis": "y"
        },
        {
         "hovertemplate": "Line=MAF - I2 Inspection Line<br>Plant=MAF<br>Availability %=%{x}<br>Performance %=%{y}<extra></extra>",
         "legendgroup": "MAF - I2 Inspection Line, MAF",
         "marker": {
          "color": "#FF6692",
          "symbol": "diamond"
         },
         "mode": "markers",
         "name": "MAF - I2 Inspection Line, MAF",
         "showlegend": true,
         "type": "scattergl",
         "x": [
          82.775539278391,
          84.16969091208173,
          85.37853606284077,
          85.18330768119253,
          85.45858396206704,
          82.91257757874448,
          79.80355367938924,
          77.70147489963328
         ],
         "xaxis": "x",
         "y": [
          99.72791378845085,
          99.55496285273544,
          98.99174974866303,
          97.47064520133489,
          97.77428071439826,
          98.17595917548448,
          98.37557610245608,
          104.44654593996064
         ],
         "yaxis": "y"
        },
        {
         "hovertemplate": "Line=MAF - I4 Inspection Line<br>Plant=MAF<br>Availability %=%{x}<br>Performance %=%{y}<extra></extra>",
         "legendgroup": "MAF - I4 Inspection Line, MAF",
         "marker": {
          "color": "#B6E880",
          "symbol": "diamond"
         },
         "mode": "markers",
         "name": "MAF - I4 Inspection Line, MAF",
         "showlegend": true,
         "type": "scattergl",
         "x": [
          66.85377498973165,
          67.1687720603779,
          71.69351851326834,
          78.39301505197193,
          79.70140035798909,
          82.49263294970066
         ],
         "xaxis": "x",
         "y": [
          96.81424110105135,
          96.98166360389305,
          98.4237425845347,
          98.34451241816092,
          99.15587010519698,
          99.22037849949608
         ],
         "yaxis": "y"
        },
        {
         "hovertemplate": "Line=MAF - I6 Inspection Line<br>Plant=MAF<br>Availability %=%{x}<br>Performance %=%{y}<extra></extra>",
         "legendgroup": "MAF - I6 Inspection Line, MAF",
         "marker": {
          "color": "#FF97FF",
          "symbol": "diamond"
         },
         "mode": "markers",
         "name": "MAF - I6 Inspection Line, MAF",
         "showlegend": true,
         "type": "scattergl",
         "x": [
          68.69144614746445,
          65.23547861216487,
          60.646694294884874,
          61.804047351416,
          64.50869971758402,
          65.21207573346004,
          67.32641357540884,
          59.730406413345186
         ],
         "xaxis": "x",
         "y": [
          99.85785019180065,
          102.98113431953357,
          104.07614090394787,
          103.84275007464399,
          103.69812312466712,
          104.40551879011592,
          103.12811151833984,
          93.4346217123666
         ],
         "yaxis": "y"
        },
        {
         "hovertemplate": "Line=MAF - R1 Filling Line<br>Plant=MAF<br>Availability %=%{x}<br>Performance %=%{y}<extra></extra>",
         "legendgroup": "MAF - R1 Filling Line, MAF",
         "marker": {
          "color": "#FECB52",
          "symbol": "diamond"
         },
         "mode": "markers",
         "name": "MAF - R1 Filling Line, MAF",
         "showlegend": true,
         "type": "scattergl",
         "x": [
          72.26481818856794,
          73.22078719684917,
          72.65312183124031,
          71.04248641384014,
          70.265971764248,
          63.57427066638101
         ],
         "xaxis": "x",
         "y": [
          103.45758806058527,
          103.2308948367062,
          103.35112022894701,
          103.42300455014643,
          103.09089544708704,
          100.12227767181786
         ],
         "yaxis": "y"
        },
        {
         "hovertemplate": "Line=MAF - R4 Filling Line<br>Plant=MAF<br>Availability %=%{x}<br>Performance %=%{y}<extra></extra>",
         "legendgroup": "MAF - R4 Filling Line, MAF",
         "marker": {
          "color": "#636efa",
          "symbol": "diamond"
         },
         "mode": "markers",
         "name": "MAF - R4 Filling Line, MAF",
         "showlegend": true,
         "type": "scattergl",
         "x": [
          58.537842998095144,
          59.426340550680806,
          57.98513363232152,
          59.30602875046365,
          57.84760995888937,
          49.99342790057638
         ],
         "xaxis": "x",
         "y": [
          99.51086940811896,
          98.60273433456332,
          99.9736291795434,
          100.54875487438878,
          100.28621007191649,
          97.9329536777861
         ],
         "yaxis": "y"
        },
        {
         "hovertemplate": "Line=MAF - R5 Filling Line<br>Plant=MAF<br>Availability %=%{x}<br>Performance %=%{y}<extra></extra>",
         "legendgroup": "MAF - R5 Filling Line, MAF",
         "marker": {
          "color": "#EF553B",
          "symbol": "diamond"
         },
         "mode": "markers",
         "name": "MAF - R5 Filling Line, MAF",
         "showlegend": true,
         "type": "scattergl",
         "x": [
          59.91195144172802,
          59.376101352554194,
          46.61380478177336,
          53.716408086250794
         ],
         "xaxis": "x",
         "y": [
          89.03599685565031,
          86.03959307591619,
          79.22109474774604,
          82.6820166863063
         ],
         "yaxis": "y"
        },
        {
         "hovertemplate": "Line=MLE - P2A1<br>Plant=MLE<br>Availability %=%{x}<br>Performance %=%{y}<extra></extra>",
         "legendgroup": "MLE - P2A1, MLE",
         "marker": {
          "color": "#00cc96",
          "symbol": "square"
         },
         "mode": "markers",
         "name": "MLE - P2A1, MLE",
         "showlegend": true,
         "type": "scattergl",
         "x": [
          83.17546540282045,
          82.94234777704209,
          67.16190584004161,
          52.17230085043662
         ],
         "xaxis": "x",
         "y": [
          9.498033775096587,
          6.49825386225395,
          25.34546571359316,
          38.28586773109798
         ],
         "yaxis": "y"
        },
        {
         "hovertemplate": "Line=OCO - C90 Packaging Line<br>Plant=OCO<br>Availability %=%{x}<br>Performance %=%{y}<extra></extra>",
         "legendgroup": "OCO - C90 Packaging Line, OCO",
         "marker": {
          "color": "#ab63fa",
          "symbol": "x"
         },
         "mode": "markers",
         "name": "OCO - C90 Packaging Line, OCO",
         "showlegend": true,
         "type": "scattergl",
         "x": [
          46.65479040038375,
          54.37505198610068,
          59.05449092804487
         ],
         "xaxis": "x",
         "y": [
          null,
          66.36340396736858,
          80.2810595132252
         ],
         "yaxis": "y"
        },
        {
         "hovertemplate": "Line=OCO - JARABES Packaging Line<br>Plant=OCO<br>Availability %=%{x}<br>Performance %=%{y}<extra></extra>",
         "legendgroup": "OCO - JARABES Packaging Line, OCO",
         "marker": {
          "color": "#FFA15A",
          "symbol": "x"
         },
         "mode": "markers",
         "name": "OCO - JARABES Packaging Line, OCO",
         "showlegend": true,
         "type": "scattergl",
         "x": [
          60.91455136362419,
          58.28396684725544,
          60.23138724567913,
          55.85905541145118,
          58.44232394996809,
          61.56077790688279,
          63.56409605144755
         ],
         "xaxis": "x",
         "y": [
          103.48224311848915,
          100.20354886413082,
          103.33786781922993,
          96.22685239782899,
          96.17887902949911,
          92.76206143215202,
          91.44402703213372
         ],
         "yaxis": "y"
        },
        {
         "hovertemplate": "Line=OCO - LACTACYD Packaging Line<br>Plant=OCO<br>Availability %=%{x}<br>Performance %=%{y}<extra></extra>",
         "legendgroup": "OCO - LACTACYD Packaging Line, OCO",
         "marker": {
          "color": "#19d3f3",
          "symbol": "x"
         },
         "mode": "markers",
         "name": "OCO - LACTACYD Packaging Line, OCO",
         "showlegend": true,
         "type": "scattergl",
         "x": [
          47.34833278127274,
          46.02585862907073,
          39.248944238502006,
          40.955301139520785,
          42.18209399436447,
          40.32426968169362,
          49.73280253629959
         ],
         "xaxis": "x",
         "y": [
          86.80369562996873,
          81.9739321051026,
          77.20504861783995,
          76.95328744310558,
          70.34045286742898,
          65.79118676230681,
          65.79757639159257
         ],
         "yaxis": "y"
        },
        {
         "hovertemplate": "Line=OCO - MEDISEAL Packaging Line<br>Plant=OCO<br>Availability %=%{x}<br>Performance %=%{y}<extra></extra>",
         "legendgroup": "OCO - MEDISEAL Packaging Line, OCO",
         "marker": {
          "color": "#FF6692",
          "symbol": "x"
         },
         "mode": "markers",
         "name": "OCO - MEDISEAL Packaging Line, OCO",
         "showlegend": true,
         "type": "scattergl",
         "x": [
          53.87162819668073,
          56.824394571354894,
          53.537849197512784,
          52.25694641506669,
          49.02536007087734,
          53.40478389012968,
          54.999044262713745
         ],
         "xaxis": "x",
         "y": [
          82.99427413210964,
          80.33435757147397,
          81.10863321404346,
          80.46149494054298,
          74.77404126496461,
          73.11903284260822,
          68.89500976799593
         ],
         "yaxis": "y"
        },
        {
         "hovertemplate": "Line=OCO - MELOX Packaging Line<br>Plant=OCO<br>Availability %=%{x}<br>Performance %=%{y}<extra></extra>",
         "legendgroup": "OCO - MELOX Packaging Line, OCO",
         "marker": {
          "color": "#B6E880",
          "symbol": "x"
         },
         "mode": "markers",
         "name": "OCO - MELOX Packaging Line, OCO",
         "showlegend": true,
         "type": "scattergl",
         "x": [
          61.016725790058516,
          63.65625981413187,
          65.09032786359238,
          69.12052055569242,
          67.08826000341726
         ],
         "xaxis": "x",
         "y": [
          63.217484869523545,
          65.43222250909398,
          66.95968053127169,
          69.53102104850592,
          70.75560152276451
         ],
         "yaxis": "y"
        },
        {
         "hovertemplate": "Line=OCO - PARTENA 1 Packaging Line<br>Plant=OCO<br>Availability %=%{x}<br>Performance %=%{y}<extra></extra>",
         "legendgroup": "OCO - PARTENA 1 Packaging Line, OCO",
         "marker": {
          "color": "#FF97FF",
          "symbol": "x"
         },
         "mode": "markers",
         "name": "OCO - PARTENA 1 Packaging Line, OCO",
         "showlegend": true,
         "type": "scattergl",
         "x": [
          47.653391630015946,
          44.75489821696639,
          42.776209198269655,
          39.750833754912065,
          39.85006347867817
         ],
         "xaxis": "x",
         "y": [
          81.45573081807724,
          79.61560726627191,
          76.47613335503067,
          75.57882525252026,
          72.85737554914999
         ],
         "yaxis": "y"
        },
        {
         "hovertemplate": "Line=OCO - PARTENA 3 Packaging Line<br>Plant=OCO<br>Availability %=%{x}<br>Performance %=%{y}<extra></extra>",
         "legendgroup": "OCO - PARTENA 3 Packaging Line, OCO",
         "marker": {
          "color": "#FECB52",
          "symbol": "x"
         },
         "mode": "markers",
         "name": "OCO - PARTENA 3 Packaging Line, OCO",
         "showlegend": true,
         "type": "scattergl",
         "x": [
          49.335059725474494,
          57.19006256228958,
          63.07295026431711,
          60.14364030806616
         ],
         "xaxis": "x",
         "y": [
          76.28532806042227,
          86.6730713847968,
          92.38509323240893,
          83.8326053569911
         ],
         "yaxis": "y"
        },
        {
         "hovertemplate": "Line=OCO - SUSPENSIONES Packaging Line<br>Plant=OCO<br>Availability %=%{x}<br>Performance %=%{y}<extra></extra>",
         "legendgroup": "OCO - SUSPENSIONES Packaging Line, OCO",
         "marker": {
          "color": "#636efa",
          "symbol": "x"
         },
         "mode": "markers",
         "name": "OCO - SUSPENSIONES Packaging Line, OCO",
         "showlegend": true,
         "type": "scattergl",
         "x": [
          52.03150534230941,
          55.83835169150324,
          63.73595698452212
         ],
         "xaxis": "x",
         "y": [
          89.78916411176996,
          86.14803711909379,
          73.66938718264728
         ],
         "yaxis": "y"
        },
        {
         "hovertemplate": "Line=OCO - UHLMANN 1 Packaging Line<br>Plant=OCO<br>Availability %=%{x}<br>Performance %=%{y}<extra></extra>",
         "legendgroup": "OCO - UHLMANN 1 Packaging Line, OCO",
         "marker": {
          "color": "#EF553B",
          "symbol": "x"
         },
         "mode": "markers",
         "name": "OCO - UHLMANN 1 Packaging Line, OCO",
         "showlegend": true,
         "type": "scattergl",
         "x": [
          76.56399669807894,
          79.37873402685476,
          80.04091151788865,
          77.23854970955624,
          76.37357428218166,
          75.0295979660701
         ],
         "xaxis": "x",
         "y": [
          92.38163336000108,
          91.82015090081896,
          91.82695896958649,
          92.38379090339299,
          97.9155745751079,
          97.85618553893809
         ],
         "yaxis": "y"
        },
        {
         "hovertemplate": "Line=OCO - UHLMANN 2 Packaging Line<br>Plant=OCO<br>Availability %=%{x}<br>Performance %=%{y}<extra></extra>",
         "legendgroup": "OCO - UHLMANN 2 Packaging Line, OCO",
         "marker": {
          "color": "#00cc96",
          "symbol": "x"
         },
         "mode": "markers",
         "name": "OCO - UHLMANN 2 Packaging Line, OCO",
         "showlegend": true,
         "type": "scattergl",
         "x": [
          73.89321084782856,
          73.36962053309875,
          72.92362699165108,
          72.34377242969437,
          75.97222799507568,
          77.45959238849477
         ],
         "xaxis": "x",
         "y": [
          84.89828293225463,
          83.62002396199146,
          85.17475503183562,
          86.04845992776393,
          86.53074144346952,
          86.71054593428151
         ],
         "yaxis": "y"
        },
        {
         "hovertemplate": "Line=ORI - EG096<br>Plant=ORI<br>Availability %=%{x}<br>Performance %=%{y}<extra></extra>",
         "legendgroup": "ORI - EG096, ORI",
         "marker": {
          "color": "#ab63fa",
          "symbol": "cross"
         },
         "mode": "markers",
         "name": "ORI - EG096, ORI",
         "showlegend": true,
         "type": "scattergl",
         "x": [
          99.99999999999997,
          99.99999999999997,
          99.99999999999997
         ],
         "xaxis": "x",
         "y": [
          0,
          0,
          0
         ],
         "yaxis": "y"
        },
        {
         "hovertemplate": "Line=ORI - EG123<br>Plant=ORI<br>Availability %=%{x}<br>Performance %=%{y}<extra></extra>",
         "legendgroup": "ORI - EG123, ORI",
         "marker": {
          "color": "#FFA15A",
          "symbol": "cross"
         },
         "mode": "markers",
         "name": "ORI - EG123, ORI",
         "showlegend": true,
         "type": "scattergl",
         "x": [
          62.94259080454019
         ],
         "xaxis": "x",
         "y": [
          106.75558174687775
         ],
         "yaxis": "y"
        },
        {
         "hovertemplate": "Line=RDG - H6 Syringe Filling Line<br>Plant=RDG<br>Availability %=%{x}<br>Performance %=%{y}<extra></extra>",
         "legendgroup": "RDG - H6 Syringe Filling Line, RDG",
         "marker": {
          "color": "#19d3f3",
          "symbol": "circle"
         },
         "mode": "markers",
         "name": "RDG - H6 Syringe Filling Line, RDG",
         "showlegend": true,
         "type": "scattergl",
         "x": [
          69.40779805398147,
          65.3478130905099
         ],
         "xaxis": "x",
         "y": [
          93.88916278013927,
          92.10461111215498
         ],
         "yaxis": "y"
        },
        {
         "hovertemplate": "Line=RDG - Synvisc Packaging Line<br>Plant=RDG<br>Availability %=%{x}<br>Performance %=%{y}<extra></extra>",
         "legendgroup": "RDG - Synvisc Packaging Line, RDG",
         "marker": {
          "color": "#FF6692",
          "symbol": "circle"
         },
         "mode": "markers",
         "name": "RDG - Synvisc Packaging Line, RDG",
         "showlegend": true,
         "type": "scattergl",
         "x": [
          54.73347049948838,
          52.89784188589523,
          57.67783620246244,
          55.11954415501247
         ],
         "xaxis": "x",
         "y": [
          76.77748972301424,
          74.74697826099501,
          71.0468428272798,
          67.12929314481771
         ],
         "yaxis": "y"
        },
        {
         "hovertemplate": "Line=SCO - COLLE1<br>Plant=SCO<br>Availability %=%{x}<br>Performance %=%{y}<extra></extra>",
         "legendgroup": "SCO - COLLE1, SCO",
         "marker": {
          "color": "#B6E880",
          "symbol": "diamond"
         },
         "mode": "markers",
         "name": "SCO - COLLE1, SCO",
         "showlegend": true,
         "type": "scattergl",
         "x": [
          45.282738095238074,
          34.273313492063465,
          31.711309523809504,
          24.8363095238095,
          14.186507936507912,
          0.19593253968251487,
          0
         ],
         "xaxis": "x",
         "y": [
          47.310874759837816,
          48.95826969980611,
          141.7963553759604,
          null,
          null,
          null,
          null
         ],
         "yaxis": "y"
        },
        {
         "hovertemplate": "Line=SCO - COLLE2<br>Plant=SCO<br>Availability %=%{x}<br>Performance %=%{y}<extra></extra>",
         "legendgroup": "SCO - COLLE2, SCO",
         "marker": {
          "color": "#FF97FF",
          "symbol": "diamond"
         },
         "mode": "markers",
         "name": "SCO - COLLE2, SCO",
         "showlegend": true,
         "type": "scattergl",
         "x": [
          91.36904761904759,
          69.10714285714283,
          44.10714285714283,
          19.107142857142833,
          2.7380952380952124,
          0,
          0,
          0,
          0,
          0,
          0
         ],
         "xaxis": "x",
         "y": [
          0,
          1.509661835748757,
          null,
          null,
          null,
          null,
          null,
          null,
          null,
          null,
          null
         ],
         "yaxis": "y"
        },
        {
         "hovertemplate": "Line=SCO - Diosna 1<br>Plant=SCO<br>Availability %=%{x}<br>Performance %=%{y}<extra></extra>",
         "legendgroup": "SCO - Diosna 1, SCO",
         "marker": {
          "color": "#FECB52",
          "symbol": "diamond"
         },
         "mode": "markers",
         "name": "SCO - Diosna 1, SCO",
         "showlegend": true,
         "type": "scattergl",
         "x": [
          45.14773821264204,
          56.92601202216585,
          48.37194456184839,
          53.00843253968252,
          64.9801587301587,
          66.01190476190473,
          87.51240079365076,
          89.36259920634919,
          90.55307539682536,
          98.86904761904759,
          99.99999999999997
         ],
         "xaxis": "x",
         "y": [
          24.64555764159232,
          19.313273832898766,
          37.62532935927538,
          36.855487806526966,
          29.045711267220135,
          25.514283080013847,
          2.1772743999521924,
          0,
          0,
          0,
          0
         ],
         "yaxis": "y"
        },
        {
         "hovertemplate": "Line=SCO - Diosna 2<br>Plant=SCO<br>Availability %=%{x}<br>Performance %=%{y}<extra></extra>",
         "legendgroup": "SCO - Diosna 2, SCO",
         "marker": {
          "color": "#636efa",
          "symbol": "diamond"
         },
         "mode": "markers",
         "name": "SCO - Diosna 2, SCO",
         "showlegend": true,
         "type": "scattergl",
         "x": [
          42.41759415797874,
          31.70826876115334,
          35.202812411946994,
          55.51835317460314,
          69.97519841269838,
          84.99751984126982,
          65.7490079365079,
          40.7490079365079,
          15.749007936507901,
          0,
          0
         ],
         "xaxis": "x",
         "y": [
          23.963777188911415,
          48.581449827677986,
          49.64604164686833,
          33.59073005518505,
          31.779933875102774,
          5.8736742150523495,
          null,
          null,
          null,
          null,
          null
         ],
         "yaxis": "y"
        },
        {
         "hovertemplate": "Line=SCO - GAMMA1<br>Plant=SCO<br>Availability %=%{x}<br>Performance %=%{y}<extra></extra>",
         "legendgroup": "SCO - GAMMA1, SCO",
         "marker": {
          "color": "#EF553B",
          "symbol": "diamond"
         },
         "mode": "markers",
         "name": "SCO - GAMMA1, SCO",
         "showlegend": true,
         "type": "scattergl",
         "x": [
          61.347122657111505,
          63.16985879075219,
          61.008968032205175,
          66.58172043656755,
          63.31274448886353,
          57.16459745645987,
          55.237008948499955,
          51.7345085236705
         ],
         "xaxis": "x",
         "y": [
          89.90759731792231,
          90.5888293965395,
          89.25697328209867,
          91.10581700699503,
          90.01702985611004,
          87.33493580618574,
          89.08992427559761,
          89.58752764711306
         ],
         "yaxis": "y"
        },
        {
         "hovertemplate": "Line=SCO - GAMMA2<br>Plant=SCO<br>Availability %=%{x}<br>Performance %=%{y}<extra></extra>",
         "legendgroup": "SCO - GAMMA2, SCO",
         "marker": {
          "color": "#00cc96",
          "symbol": "diamond"
         },
         "mode": "markers",
         "name": "SCO - GAMMA2, SCO",
         "showlegend": true,
         "type": "scattergl",
         "x": [
          45.94090115214132,
          45.53078480644501,
          44.36666034126283,
          43.78151483171359,
          46.14174739388178,
          45.357556999381494,
          45.56010011358048,
          50.16956769767804
         ],
         "xaxis": "x",
         "y": [
          75.63102728622955,
          75.2785635845835,
          76.1287146917917,
          73.32835798476162,
          71.12397108666826,
          71.25279263687202,
          74.51179703351735,
          77.32271989487185
         ],
         "yaxis": "y"
        },
        {
         "hovertemplate": "Line=SCO - GAMMA3<br>Plant=SCO<br>Availability %=%{x}<br>Performance %=%{y}<extra></extra>",
         "legendgroup": "SCO - GAMMA3, SCO",
         "marker": {
          "color": "#ab63fa",
          "symbol": "diamond"
         },
         "mode": "markers",
         "name": "SCO - GAMMA3, SCO",
         "showlegend": true,
         "type": "scattergl",
         "x": [
          55.112627372845594,
          56.469644035443636,
          54.66571238973065,
          53.64936963792081,
          57.25937030457508,
          53.57613180157995,
          49.387580004904315,
          48.052710202429225
         ],
         "xaxis": "x",
         "y": [
          77.44923820433559,
          81.03345507133385,
          80.45026138261613,
          81.18175599419027,
          83.17782311892788,
          77.38720864260195,
          73.43226971296036,
          72.35712725987624
         ],
         "yaxis": "y"
        },
        {
         "hovertemplate": "Line=SCO - Gamma4<br>Plant=SCO<br>Availability %=%{x}<br>Performance %=%{y}<extra></extra>",
         "legendgroup": "SCO - Gamma4, SCO",
         "marker": {
          "color": "#FFA15A",
          "symbol": "diamond"
         },
         "mode": "markers",
         "name": "SCO - Gamma4, SCO",
         "showlegend": true,
         "type": "scattergl",
         "x": [
          59.236589116720126,
          58.31873725415464,
          61.22215278703446,
          60.31324672208668,
          60.496392871557035,
          63.81931240073172,
          63.43969518354339
         ],
         "xaxis": "x",
         "y": [
          89.23634497747156,
          90.1125340092524,
          90.39583325497182,
          93.14492244370315,
          92.21868812424957,
          93.15874121527074,
          93.35520975143791
         ],
         "yaxis": "y"
        },
        {
         "hovertemplate": "Line=SCO - IMA C80/1<br>Plant=SCO<br>Availability %=%{x}<br>Performance %=%{y}<extra></extra>",
         "legendgroup": "SCO - IMA C80/1, SCO",
         "marker": {
          "color": "#19d3f3",
          "symbol": "diamond"
         },
         "mode": "markers",
         "name": "SCO - IMA C80/1, SCO",
         "showlegend": true,
         "type": "scattergl",
         "x": [
          57.98204875256316,
          57.70308706633378,
          55.8726019479615,
          54.66033778726832,
          57.314433993652116
         ],
         "xaxis": "x",
         "y": [
          92.32386240762534,
          91.229535131961,
          91.1874561373527,
          90.59268105174905,
          91.06246296853294
         ],
         "yaxis": "y"
        },
        {
         "hovertemplate": "Line=SCO - IMA C80/2<br>Plant=SCO<br>Availability %=%{x}<br>Performance %=%{y}<extra></extra>",
         "legendgroup": "SCO - IMA C80/2, SCO",
         "marker": {
          "color": "#FF6692",
          "symbol": "diamond"
         },
         "mode": "markers",
         "name": "SCO - IMA C80/2, SCO",
         "showlegend": true,
         "type": "scattergl",
         "x": [
          59.71823316562139,
          58.54474683491072,
          57.1972387685492,
          57.98645062082547,
          61.20940755670042,
          68.35393122449578,
          72.66372507909053,
          73.93411166353573
         ],
         "xaxis": "x",
         "y": [
          92.42601437164224,
          91.39444513926223,
          90.73607008535727,
          90.94953639074134,
          91.36753216321442,
          94.07942559704176,
          94.96030100355873,
          94.60851338007002
         ],
         "yaxis": "y"
        },
        {
         "hovertemplate": "Line=SCO - IMA C80/3<br>Plant=SCO<br>Availability %=%{x}<br>Performance %=%{y}<extra></extra>",
         "legendgroup": "SCO - IMA C80/3, SCO",
         "marker": {
          "color": "#B6E880",
          "symbol": "diamond"
         },
         "mode": "markers",
         "name": "SCO - IMA C80/3, SCO",
         "showlegend": true,
         "type": "scattergl",
         "x": [
          60.484775130129776,
          60.98487404784663,
          55.00130737347418,
          57.550322463640484,
          53.78707702451325,
          58.67298581993713,
          59.97336239636989,
          59.6971758470781
         ],
         "xaxis": "x",
         "y": [
          86.07592035798353,
          85.6376414005585,
          84.60190057147751,
          84.64110192144014,
          84.58163671690384,
          86.62543960952198,
          88.02248057020333,
          88.66708510943923
         ],
         "yaxis": "y"
        },
        {
         "hovertemplate": "Line=SCO - IMA C80/4<br>Plant=SCO<br>Availability %=%{x}<br>Performance %=%{y}<extra></extra>",
         "legendgroup": "SCO - IMA C80/4, SCO",
         "marker": {
          "color": "#FF97FF",
          "symbol": "diamond"
         },
         "mode": "markers",
         "name": "SCO - IMA C80/4, SCO",
         "showlegend": true,
         "type": "scattergl",
         "x": [
          38.97771829054212,
          44.95063927052832,
          46.62512785362729,
          50.04462326772052,
          52.80525475429347,
          47.94008269143254,
          46.56696141667838
         ],
         "xaxis": "x",
         "y": [
          78.20997295024381,
          77.79279944855239,
          77.4250553898184,
          77.36799730345189,
          76.57697751938946,
          75.91443903935604,
          77.04125693686522
         ],
         "yaxis": "y"
        },
        {
         "hovertemplate": "Line=SCO - PAR102<br>Plant=SCO<br>Availability %=%{x}<br>Performance %=%{y}<extra></extra>",
         "legendgroup": "SCO - PAR102, SCO",
         "marker": {
          "color": "#FECB52",
          "symbol": "diamond"
         },
         "mode": "markers",
         "name": "SCO - PAR102, SCO",
         "showlegend": true,
         "type": "scattergl",
         "x": [
          44.769291708380884,
          47.77471476404541,
          50.37822720353761,
          52.232155921668706,
          50.707341253761925,
          55.10930799770581,
          54.14456971538928,
          55.23480794853323
         ],
         "xaxis": "x",
         "y": [
          92.21090288960869,
          88.57280945384173,
          89.71711786487585,
          89.51647376405576,
          88.96289596508394,
          83.82287313167551,
          81.84066889173253,
          78.95276831324564
         ],
         "yaxis": "y"
        },
        {
         "hovertemplate": "Line=SCO - PART92<br>Plant=SCO<br>Availability %=%{x}<br>Performance %=%{y}<extra></extra>",
         "legendgroup": "SCO - PART92, SCO",
         "marker": {
          "color": "#636efa",
          "symbol": "diamond"
         },
         "mode": "markers",
         "name": "SCO - PART92, SCO",
         "showlegend": true,
         "type": "scattergl",
         "x": [
          46.37358467277295,
          43.91113666559444,
          45.34553458103233,
          46.21181094195446,
          50.377913495621215,
          50.825643144122104,
          52.47306740045679,
          50.00825021224243
         ],
         "xaxis": "x",
         "y": [
          92.53034483323292,
          91.99646827195049,
          92.48834774502546,
          91.94413607156469,
          88.02173878782642,
          87.36029911482197,
          86.84311148560279,
          86.66562308548794
         ],
         "yaxis": "y"
        },
        {
         "hovertemplate": "Line=SCO - U3<br>Plant=SCO<br>Availability %=%{x}<br>Performance %=%{y}<extra></extra>",
         "legendgroup": "SCO - U3, SCO",
         "marker": {
          "color": "#EF553B",
          "symbol": "diamond"
         },
         "mode": "markers",
         "name": "SCO - U3, SCO",
         "showlegend": true,
         "type": "scattergl",
         "x": [
          65.31816744491886,
          67.21655029879435,
          68.24406458732257,
          62.16655271338969,
          59.76952125152886,
          57.335911087763
         ],
         "xaxis": "x",
         "y": [
          79.30213206179467,
          79.3658809028363,
          80.6356929337782,
          80.52720500454879,
          76.93820229655749,
          75.64712712245866
         ],
         "yaxis": "y"
        },
        {
         "hovertemplate": "Line=SUZ - BAUSCH<br>Plant=SUZ<br>Availability %=%{x}<br>Performance %=%{y}<extra></extra>",
         "legendgroup": "SUZ - BAUSCH, SUZ",
         "marker": {
          "color": "#00cc96",
          "symbol": "square"
         },
         "mode": "markers",
         "name": "SUZ - BAUSCH, SUZ",
         "showlegend": true,
         "type": "scattergl",
         "x": [
          65.92468453778592,
          63.94614576542766,
          55.62418524345518,
          59.7447771935046
         ],
         "xaxis": "x",
         "y": [
          97.03757760091774,
          93.22392564815466,
          92.47009278440211,
          96.04316684606006
         ],
         "yaxis": "y"
        },
        {
         "hovertemplate": "Line=SUZ - EFERVESCENT CEWIN<br>Plant=SUZ<br>Availability %=%{x}<br>Performance %=%{y}<extra></extra>",
         "legendgroup": "SUZ - EFERVESCENT CEWIN, SUZ",
         "marker": {
          "color": "#ab63fa",
          "symbol": "square"
         },
         "mode": "markers",
         "name": "SUZ - EFERVESCENT CEWIN, SUZ",
         "showlegend": true,
         "type": "scattergl",
         "x": [
          35.009048097284314,
          35.60613548372176,
          31.182599011482605,
          28.472366376426812,
          29.14106930518202,
          29.406377937577176,
          34.235480437602455
         ],
         "xaxis": "x",
         "y": [
          78.19711520209525,
          72.53634135030721,
          76.79382037606581,
          74.567888110302,
          74.93046879342782,
          78.95017475721922,
          77.72551133623132
         ],
         "yaxis": "y"
        },
        {
         "hovertemplate": "Line=SUZ - EYE DROPS OPTIMA<br>Plant=SUZ<br>Availability %=%{x}<br>Performance %=%{y}<extra></extra>",
         "legendgroup": "SUZ - EYE DROPS OPTIMA, SUZ",
         "marker": {
          "color": "#FFA15A",
          "symbol": "square"
         },
         "mode": "markers",
         "name": "SUZ - EYE DROPS OPTIMA, SUZ",
         "showlegend": true,
         "type": "scattergl",
         "x": [
          42.090165839143864,
          44.03367833906554
         ],
         "xaxis": "x",
         "y": [
          98.30789788027644,
          102.45294606330448
         ],
         "yaxis": "y"
        },
        {
         "hovertemplate": "Line=SUZ - FARCON<br>Plant=SUZ<br>Availability %=%{x}<br>Performance %=%{y}<extra></extra>",
         "legendgroup": "SUZ - FARCON, SUZ",
         "marker": {
          "color": "#19d3f3",
          "symbol": "square"
         },
         "mode": "markers",
         "name": "SUZ - FARCON, SUZ",
         "showlegend": true,
         "type": "scattergl",
         "x": [
          53.975456822177065,
          54.22563683688465,
          49.03784717000629,
          45.97046988069425
         ],
         "xaxis": "x",
         "y": [
          84.02248337838782,
          78.94490126410946,
          77.59483411315668,
          76.35464498603241
         ],
         "yaxis": "y"
        },
        {
         "hovertemplate": "Line=SUZ - FETTE 2090 IV<br>Plant=SUZ<br>Availability %=%{x}<br>Performance %=%{y}<extra></extra>",
         "legendgroup": "SUZ - FETTE 2090 IV, SUZ",
         "marker": {
          "color": "#FF6692",
          "symbol": "square"
         },
         "mode": "markers",
         "name": "SUZ - FETTE 2090 IV, SUZ",
         "showlegend": true,
         "type": "scattergl",
         "x": [
          15.968150691900654,
          13.04658564814811,
          22.40935019841266,
          31.220072751322707
         ],
         "xaxis": "x",
         "y": [
          472.383078211676,
          442.4246195418426,
          330.76259587854577,
          312.48169985010713
         ],
         "yaxis": "y"
        },
        {
         "hovertemplate": "Line=SUZ - FETTE 3090 I<br>Plant=SUZ<br>Availability %=%{x}<br>Performance %=%{y}<extra></extra>",
         "legendgroup": "SUZ - FETTE 3090 I, SUZ",
         "marker": {
          "color": "#B6E880",
          "symbol": "square"
         },
         "mode": "markers",
         "name": "SUZ - FETTE 3090 I, SUZ",
         "showlegend": true,
         "type": "scattergl",
         "x": [
          33.89444253663,
          38.384755291005256,
          38.978587962962926,
          42.16594662058368
         ],
         "xaxis": "x",
         "y": [
          105.60733930937398,
          114.10906485849941,
          106.8707746673289,
          94.59486758162886
         ],
         "yaxis": "y"
        },
        {
         "hovertemplate": "Line=SUZ - GRON.DROPS/SPRAY<br>Plant=SUZ<br>Availability %=%{x}<br>Performance %=%{y}<extra></extra>",
         "legendgroup": "SUZ - GRON.DROPS/SPRAY, SUZ",
         "marker": {
          "color": "#FF97FF",
          "symbol": "square"
         },
         "mode": "markers",
         "name": "SUZ - GRON.DROPS/SPRAY, SUZ",
         "showlegend": true,
         "type": "scattergl",
         "x": [
          38.87133737544539,
          37.165285215903864,
          33.64298923955785,
          33.95748225787529,
          35.33026624299624,
          40.36610676927633
         ],
         "xaxis": "x",
         "y": [
          124.4003620332586,
          120.60439387282725,
          122.37796676051563,
          123.70054537762154,
          121.29107899937503,
          121.6413816807341
         ],
         "yaxis": "y"
        },
        {
         "hovertemplate": "Line=SUZ - GRON.SYRUP<br>Plant=SUZ<br>Availability %=%{x}<br>Performance %=%{y}<extra></extra>",
         "legendgroup": "SUZ - GRON.SYRUP, SUZ",
         "marker": {
          "color": "#FECB52",
          "symbol": "square"
         },
         "mode": "markers",
         "name": "SUZ - GRON.SYRUP, SUZ",
         "showlegend": true,
         "type": "scattergl",
         "x": [
          35.74367036443095
         ],
         "xaxis": "x",
         "y": [
          86.28406963219845
         ],
         "yaxis": "y"
        },
        {
         "hovertemplate": "Line=SUZ - IMA DERMACYD<br>Plant=SUZ<br>Availability %=%{x}<br>Performance %=%{y}<extra></extra>",
         "legendgroup": "SUZ - IMA DERMACYD, SUZ",
         "marker": {
          "color": "#636efa",
          "symbol": "square"
         },
         "mode": "markers",
         "name": "SUZ - IMA DERMACYD, SUZ",
         "showlegend": true,
         "type": "scattergl",
         "x": [
          64.87778052473145,
          64.68516167370365,
          68.77994222709077
         ],
         "xaxis": "x",
         "y": [
          90.48211851745955,
          89.86282439242238,
          80.86581037274857
         ],
         "yaxis": "y"
        },
        {
         "hovertemplate": "Line=SUZ - LINE 01 - UHLMANN 1880<br>Plant=SUZ<br>Availability %=%{x}<br>Performance %=%{y}<extra></extra>",
         "legendgroup": "SUZ - LINE 01 - UHLMANN 1880, SUZ",
         "marker": {
          "color": "#EF553B",
          "symbol": "square"
         },
         "mode": "markers",
         "name": "SUZ - LINE 01 - UHLMANN 1880, SUZ",
         "showlegend": true,
         "type": "scattergl",
         "x": [
          43.875616797771315,
          46.032074570795196,
          43.392540179026234,
          42.74354082150005,
          38.78956449035526,
          36.318395445696375,
          41.0890811767056,
          42.451250918927926
         ],
         "xaxis": "x",
         "y": [
          121.12607022330768,
          106.35939137642916,
          99.98213931962687,
          100.11092037363403,
          86.58842897331039,
          84.70709452176959,
          82.74262712732175,
          83.43071426367268
         ],
         "yaxis": "y"
        },
        {
         "hovertemplate": "Line=SUZ - LINE 02 - UHLMANN 1030<br>Plant=SUZ<br>Availability %=%{x}<br>Performance %=%{y}<extra></extra>",
         "legendgroup": "SUZ - LINE 02 - UHLMANN 1030, SUZ",
         "marker": {
          "color": "#00cc96",
          "symbol": "square"
         },
         "mode": "markers",
         "name": "SUZ - LINE 02 - UHLMANN 1030, SUZ",
         "showlegend": true,
         "type": "scattergl",
         "x": [
          51.914652635048206,
          52.120495091982825,
          49.62446254000968,
          41.78100921359131,
          45.785663480220485,
          50.51605181636033,
          51.653817611439955,
          53.97032018626044
         ],
         "xaxis": "x",
         "y": [
          91.87163509842513,
          97.08232475805463,
          99.30027681756889,
          111.06412816778649,
          106.77300878267897,
          99.44773215284658,
          100.95415409061924,
          87.38475516782327
         ],
         "yaxis": "y"
        },
        {
         "hovertemplate": "Line=SUZ - LINE 03 - MEDISEAL CP600<br>Plant=SUZ<br>Availability %=%{x}<br>Performance %=%{y}<extra></extra>",
         "legendgroup": "SUZ - LINE 03 - MEDISEAL CP600, SUZ",
         "marker": {
          "color": "#ab63fa",
          "symbol": "square"
         },
         "mode": "markers",
         "name": "SUZ - LINE 03 - MEDISEAL CP600, SUZ",
         "showlegend": true,
         "type": "scattergl",
         "x": [
          49.60727277251881,
          49.63415027771722,
          49.479823413203405,
          47.58463780156558,
          49.05022117372759,
          50.54005792427863,
          51.882482011938876,
          53.286422623784134
         ],
         "xaxis": "x",
         "y": [
          92.2328632646108,
          86.05897946336938,
          90.82641213161946,
          86.62338176421335,
          84.61001469168693,
          88.44201990678965,
          86.91335685250795,
          86.98323016195549
         ],
         "yaxis": "y"
        },
        {
         "hovertemplate": "Line=SUZ - LINE 04 - BOSCH TLT 1400<br>Plant=SUZ<br>Availability %=%{x}<br>Performance %=%{y}<extra></extra>",
         "legendgroup": "SUZ - LINE 04 - BOSCH TLT 1400, SUZ",
         "marker": {
          "color": "#FFA15A",
          "symbol": "square"
         },
         "mode": "markers",
         "name": "SUZ - LINE 04 - BOSCH TLT 1400, SUZ",
         "showlegend": true,
         "type": "scattergl",
         "x": [
          48.03512147173117,
          44.61502778082792,
          48.59314311262747,
          49.08258822354647,
          50.5311604847226,
          50.84202691377071,
          53.184463103176114,
          56.077932391506835
         ],
         "xaxis": "x",
         "y": [
          98.18758235471705,
          96.59767883636934,
          93.11373338968394,
          92.342018325888,
          90.37997465056964,
          90.63271226676171,
          90.89226873903377,
          93.96556340882472
         ],
         "yaxis": "y"
        },
        {
         "hovertemplate": "Line=SUZ - LINE 05 - SOLIDS IMA LINE<br>Plant=SUZ<br>Availability %=%{x}<br>Performance %=%{y}<extra></extra>",
         "legendgroup": "SUZ - LINE 05 - SOLIDS IMA LINE, SUZ",
         "marker": {
          "color": "#19d3f3",
          "symbol": "square"
         },
         "mode": "markers",
         "name": "SUZ - LINE 05 - SOLIDS IMA LINE, SUZ",
         "showlegend": true,
         "type": "scattergl",
         "x": [
          44.11452510501603,
          52.42541560944088,
          55.976799973043654
         ],
         "xaxis": "x",
         "y": [
          95.91500641972765,
          59.448648258004425,
          52.72042864107381
         ],
         "yaxis": "y"
        },
        {
         "hovertemplate": "Line=SUZ - LINE 06 - MEDISEAL CP 600 COMBO<br>Plant=SUZ<br>Availability %=%{x}<br>Performance %=%{y}<extra></extra>",
         "legendgroup": "SUZ - LINE 06 - MEDISEAL CP 600 COMBO, SUZ",
         "marker": {
          "color": "#FF6692",
          "symbol": "square"
         },
         "mode": "markers",
         "name": "SUZ - LINE 06 - MEDISEAL CP 600 COMBO, SUZ",
         "showlegend": true,
         "type": "scattergl",
         "x": [
          62.008492043026834,
          60.915720747263435,
          58.55488520352833,
          60.20551404955427,
          65.57835431362551,
          68.02651723913715,
          65.55628336503041,
          59.39640733634634
         ],
         "xaxis": "x",
         "y": [
          72.44657769561556,
          76.35631794149063,
          75.48255553512489,
          78.22032847908041,
          85.86756504981201,
          83.31582449405519,
          84.0574659133002,
          78.9405389676947
         ],
         "yaxis": "y"
        },
        {
         "hovertemplate": "Line=SUZ - LINE 07 - UPS300<br>Plant=SUZ<br>Availability %=%{x}<br>Performance %=%{y}<extra></extra>",
         "legendgroup": "SUZ - LINE 07 - UPS300, SUZ",
         "marker": {
          "color": "#B6E880",
          "symbol": "square"
         },
         "mode": "markers",
         "name": "SUZ - LINE 07 - UPS300, SUZ",
         "showlegend": true,
         "type": "scattergl",
         "x": [
          48.845067373948865,
          49.1498418701653,
          47.45771039980885,
          51.48249647683123,
          51.368478892741074,
          49.94569330885693,
          50.78916069198414,
          46.543524466740834
         ],
         "xaxis": "x",
         "y": [
          180.30911875534852,
          181.5686184910953,
          105.71215447123879,
          101.01053935301141,
          97.35547258092663,
          92.84376792698558,
          88.78941762091954,
          89.14389731996805
         ],
         "yaxis": "y"
        },
        {
         "hovertemplate": "Line=SUZ - LINE 08 - BLISTERFLEX<br>Plant=SUZ<br>Availability %=%{x}<br>Performance %=%{y}<extra></extra>",
         "legendgroup": "SUZ - LINE 08 - BLISTERFLEX, SUZ",
         "marker": {
          "color": "#FF97FF",
          "symbol": "square"
         },
         "mode": "markers",
         "name": "SUZ - LINE 08 - BLISTERFLEX, SUZ",
         "showlegend": true,
         "type": "scattergl",
         "x": [
          71.00773041212861
         ],
         "xaxis": "x",
         "y": [
          104.8152830362058
         ],
         "yaxis": "y"
        },
        {
         "hovertemplate": "Line=SUZ - LINE 10 - BOTTLES LINE<br>Plant=SUZ<br>Availability %=%{x}<br>Performance %=%{y}<extra></extra>",
         "legendgroup": "SUZ - LINE 10 - BOTTLES LINE, SUZ",
         "marker": {
          "color": "#FECB52",
          "symbol": "square"
         },
         "mode": "markers",
         "name": "SUZ - LINE 10 - BOTTLES LINE, SUZ",
         "showlegend": true,
         "type": "scattergl",
         "x": [
          35.11207499441137,
          35.51869783475556,
          34.057520211670294,
          29.245169996771992,
          28.447989885134366,
          28.76485888481005,
          30.90455578984104,
          43.8604383108072
         ],
         "xaxis": "x",
         "y": [
          139.2609293909996,
          140.10064728980117,
          112.53230181707649,
          116.53731029732094,
          113.98248295960937,
          118.15216360023169,
          122.43468801843402,
          121.23919648168152
         ],
         "yaxis": "y"
        },
        {
         "hovertemplate": "Line=SUZ - MARCHESINI<br>Plant=SUZ<br>Availability %=%{x}<br>Performance %=%{y}<extra></extra>",
         "legendgroup": "SUZ - MARCHESINI, SUZ",
         "marker": {
          "color": "#636efa",
          "symbol": "square"
         },
         "mode": "markers",
         "name": "SUZ - MARCHESINI, SUZ",
         "showlegend": true,
         "type": "scattergl",
         "x": [
          40.404728119630526,
          37.238565400805776,
          36.21884552020411,
          37.7357489495506,
          36.66452444393413,
          38.06736151364761
         ],
         "xaxis": "x",
         "y": [
          77.42963171299994,
          81.35443113363384,
          85.33627712877492,
          82.60486727543338,
          79.329518304185,
          76.57550918187101
         ],
         "yaxis": "y"
        },
        {
         "hovertemplate": "Line=SUZ - MEDISEAL PURAN<br>Plant=SUZ<br>Availability %=%{x}<br>Performance %=%{y}<extra></extra>",
         "legendgroup": "SUZ - MEDISEAL PURAN, SUZ",
         "marker": {
          "color": "#EF553B",
          "symbol": "square"
         },
         "mode": "markers",
         "name": "SUZ - MEDISEAL PURAN, SUZ",
         "showlegend": true,
         "type": "scattergl",
         "x": [
          73.20024996543542,
          74.5487825873127,
          70.83955052405392,
          69.80476708758675,
          70.02776509278021,
          70.21095523971292,
          70.41952132012369,
          70.34010503804001
         ],
         "xaxis": "x",
         "y": [
          80.9574147387132,
          78.57921657153054,
          76.31002658503094,
          77.87142708389561,
          77.19004219183452,
          76.32763886372122,
          77.96270341721527,
          81.14431920028017
         ],
         "yaxis": "y"
        },
        {
         "hovertemplate": "Line=SUZ - NEWMAN<br>Plant=SUZ<br>Availability %=%{x}<br>Performance %=%{y}<extra></extra>",
         "legendgroup": "SUZ - NEWMAN, SUZ",
         "marker": {
          "color": "#00cc96",
          "symbol": "square"
         },
         "mode": "markers",
         "name": "SUZ - NEWMAN, SUZ",
         "showlegend": true,
         "type": "scattergl",
         "x": [
          59.757785767471766,
          58.464046410822185,
          57.42662297023901,
          60.45110834582207,
          62.497924151334644,
          64.8609119579438,
          65.56927624906268,
          63.84155233698294
         ],
         "xaxis": "x",
         "y": [
          99.20661970198611,
          96.0328472938387,
          97.84301167690631,
          97.16478940638497,
          99.96378945638673,
          103.5828758848178,
          103.58241178903822,
          97.3721624965137
         ],
         "yaxis": "y"
        },
        {
         "hovertemplate": "Line=SUZ - NIKKA<br>Plant=SUZ<br>Availability %=%{x}<br>Performance %=%{y}<extra></extra>",
         "legendgroup": "SUZ - NIKKA, SUZ",
         "marker": {
          "color": "#ab63fa",
          "symbol": "square"
         },
         "mode": "markers",
         "name": "SUZ - NIKKA, SUZ",
         "showlegend": true,
         "type": "scattergl",
         "x": [
          69.07592014265637,
          67.58121802931204,
          67.97029301745066,
          59.295590935283705
         ],
         "xaxis": "x",
         "y": [
          105.97604580135807,
          113.07915737635889,
          110.71555260596884,
          137.31078928684474
         ],
         "yaxis": "y"
        },
        {
         "hovertemplate": "Line=SUZ - POMADAS<br>Plant=SUZ<br>Availability %=%{x}<br>Performance %=%{y}<extra></extra>",
         "legendgroup": "SUZ - POMADAS, SUZ",
         "marker": {
          "color": "#FFA15A",
          "symbol": "square"
         },
         "mode": "markers",
         "name": "SUZ - POMADAS, SUZ",
         "showlegend": true,
         "type": "scattergl",
         "x": [
          64.64063572011872,
          64.39893944478239
         ],
         "xaxis": "x",
         "y": [
          94.99043152028196,
          89.14295871494673
         ],
         "yaxis": "y"
        },
        {
         "hovertemplate": "Line=SUZ - STRUNK<br>Plant=SUZ<br>Availability %=%{x}<br>Performance %=%{y}<extra></extra>",
         "legendgroup": "SUZ - STRUNK, SUZ",
         "marker": {
          "color": "#19d3f3",
          "symbol": "square"
         },
         "mode": "markers",
         "name": "SUZ - STRUNK, SUZ",
         "showlegend": true,
         "type": "scattergl",
         "x": [
          47.91445267954612,
          43.35588949635611,
          46.85695371673255,
          44.512165336785905,
          40.749520135521365
         ],
         "xaxis": "x",
         "y": [
          110.02361484361037,
          106.53013664138848,
          112.09865857593591,
          116.98479851568881,
          122.69459626262525
         ],
         "yaxis": "y"
        },
        {
         "hovertemplate": "Line=SUZ - TARGIFOR<br>Plant=SUZ<br>Availability %=%{x}<br>Performance %=%{y}<extra></extra>",
         "legendgroup": "SUZ - TARGIFOR, SUZ",
         "marker": {
          "color": "#FF6692",
          "symbol": "square"
         },
         "mode": "markers",
         "name": "SUZ - TARGIFOR, SUZ",
         "showlegend": true,
         "type": "scattergl",
         "x": [
          35.75517097989399,
          37.460802183960325,
          38.69272065448216,
          38.52518040324366,
          36.95495818017366,
          39.853587069271654,
          38.48391167870968
         ],
         "xaxis": "x",
         "y": [
          133.4962578667938,
          140.78201731169924,
          147.0311957960934,
          149.15211672992808,
          155.38499519794533,
          154.48582365907913,
          150.31205832858768
         ],
         "yaxis": "y"
        },
        {
         "hovertemplate": "Line=SZX - Packaging line 3<br>Plant=SZX<br>Availability %=%{x}<br>Performance %=%{y}<extra></extra>",
         "legendgroup": "SZX - Packaging line 3, SZX",
         "marker": {
          "color": "#B6E880",
          "symbol": "x"
         },
         "mode": "markers",
         "name": "SZX - Packaging line 3, SZX",
         "showlegend": true,
         "type": "scattergl",
         "x": [
          77.01221342417548,
          76.14333461795582,
          77.61149427767289,
          72.50338060386729,
          74.2855791412492,
          75.5118663741736,
          71.49987619290471
         ],
         "xaxis": "x",
         "y": [
          61.03005945905516,
          65.87921925107611,
          64.9403108846081,
          86.88813427091173,
          87.51174437438321,
          88.01433046360437,
          91.34550873301889
         ],
         "yaxis": "y"
        },
        {
         "hovertemplate": "Line=TRS - L15 Packaging Line<br>Plant=TRS<br>Availability %=%{x}<br>Performance %=%{y}<extra></extra>",
         "legendgroup": "TRS - L15 Packaging Line, TRS",
         "marker": {
          "color": "#FF97FF",
          "symbol": "cross"
         },
         "mode": "markers",
         "name": "TRS - L15 Packaging Line, TRS",
         "showlegend": true,
         "type": "scattergl",
         "x": [
          39.90962365631484,
          44.283732371878855,
          48.10143503265762,
          45.84363377925638,
          50.762039540682835
         ],
         "xaxis": "x",
         "y": [
          95.10183695883725,
          93.64177745123817,
          93.67077828456388,
          95.09583596576766,
          93.78128756232438
         ],
         "yaxis": "y"
        },
        {
         "hovertemplate": "Line=TRS - L17 Packaging Line<br>Plant=TRS<br>Availability %=%{x}<br>Performance %=%{y}<extra></extra>",
         "legendgroup": "TRS - L17 Packaging Line, TRS",
         "marker": {
          "color": "#FECB52",
          "symbol": "cross"
         },
         "mode": "markers",
         "name": "TRS - L17 Packaging Line, TRS",
         "showlegend": true,
         "type": "scattergl",
         "x": [
          45.999341399666335,
          48.16279679201453
         ],
         "xaxis": "x",
         "y": [
          80.02449203851072,
          78.90689745159455
         ],
         "yaxis": "y"
        },
        {
         "hovertemplate": "Line=TRS - L18 Packaging Line<br>Plant=TRS<br>Availability %=%{x}<br>Performance %=%{y}<extra></extra>",
         "legendgroup": "TRS - L18 Packaging Line, TRS",
         "marker": {
          "color": "#636efa",
          "symbol": "cross"
         },
         "mode": "markers",
         "name": "TRS - L18 Packaging Line, TRS",
         "showlegend": true,
         "type": "scattergl",
         "x": [
          40.284288766425234,
          39.69609432198079
         ],
         "xaxis": "x",
         "y": [
          90.51486041227642,
          89.82922553254417
         ],
         "yaxis": "y"
        },
        {
         "hovertemplate": "Line=TRS - L19 Packaging Line<br>Plant=TRS<br>Availability %=%{x}<br>Performance %=%{y}<extra></extra>",
         "legendgroup": "TRS - L19 Packaging Line, TRS",
         "marker": {
          "color": "#EF553B",
          "symbol": "cross"
         },
         "mode": "markers",
         "name": "TRS - L19 Packaging Line, TRS",
         "showlegend": true,
         "type": "scattergl",
         "x": [
          37.731517276372536,
          36.09608637832446,
          39.265845891936436,
          43.97997547819717,
          37.996731238355565,
          32.613080741295306,
          33.584102826505344
         ],
         "xaxis": "x",
         "y": [
          82.18581743682367,
          80.99060021232805,
          85.09108935875445,
          94.53385447458439,
          103.10884597950125,
          109.38085190995346,
          107.49659096119554
         ],
         "yaxis": "y"
        },
        {
         "hovertemplate": "Line=TRS - L21 Packaging Line<br>Plant=TRS<br>Availability %=%{x}<br>Performance %=%{y}<extra></extra>",
         "legendgroup": "TRS - L21 Packaging Line, TRS",
         "marker": {
          "color": "#00cc96",
          "symbol": "cross"
         },
         "mode": "markers",
         "name": "TRS - L21 Packaging Line, TRS",
         "showlegend": true,
         "type": "scattergl",
         "x": [
          55.85929363284351,
          57.87368760552898,
          53.13825665046292,
          48.160824411169365,
          48.88325723746546,
          33.90353849174988,
          34.26586422709828
         ],
         "xaxis": "x",
         "y": [
          74.42027738766896,
          75.68285253722128,
          79.44465892983229,
          91.20746662684093,
          85.81171851785193,
          61.26506670952452,
          66.52402361996144
         ],
         "yaxis": "y"
        },
        {
         "hovertemplate": "Line=TRS - L24 Packaging Line<br>Plant=TRS<br>Availability %=%{x}<br>Performance %=%{y}<extra></extra>",
         "legendgroup": "TRS - L24 Packaging Line, TRS",
         "marker": {
          "color": "#ab63fa",
          "symbol": "cross"
         },
         "mode": "markers",
         "name": "TRS - L24 Packaging Line, TRS",
         "showlegend": true,
         "type": "scattergl",
         "x": [
          40.30888097185095,
          42.04245689501703,
          41.88336102595716,
          41.14386998199837
         ],
         "xaxis": "x",
         "y": [
          96.53413779476944,
          95.22317245717288,
          92.45464743289554,
          94.13916607974463
         ],
         "yaxis": "y"
        },
        {
         "hovertemplate": "Line=TRS - L25 Packaging Line<br>Plant=TRS<br>Availability %=%{x}<br>Performance %=%{y}<extra></extra>",
         "legendgroup": "TRS - L25 Packaging Line, TRS",
         "marker": {
          "color": "#FFA15A",
          "symbol": "cross"
         },
         "mode": "markers",
         "name": "TRS - L25 Packaging Line, TRS",
         "showlegend": true,
         "type": "scattergl",
         "x": [
          38.323869546194615,
          43.42492744804683,
          46.41722564333594,
          46.17636223070264,
          45.363197998977796,
          43.03794878553186,
          38.910418058075365,
          40.05876286514659
         ],
         "xaxis": "x",
         "y": [
          81.36887556579586,
          80.9489308539124,
          87.19604456930026,
          82.42470810373241,
          85.69036341480046,
          86.04045397607526,
          85.23895963767724,
          88.36118854764847
         ],
         "yaxis": "y"
        },
        {
         "hovertemplate": "Line=VDR - K15_2<br>Plant=VDR<br>Availability %=%{x}<br>Performance %=%{y}<extra></extra>",
         "legendgroup": "VDR - K15_2, VDR",
         "marker": {
          "color": "#19d3f3",
          "symbol": "circle"
         },
         "mode": "markers",
         "name": "VDR - K15_2, VDR",
         "showlegend": true,
         "type": "scattergl",
         "x": [
          48.19929811947622
         ],
         "xaxis": "x",
         "y": [
          87.4445547095712
         ],
         "yaxis": "y"
        },
        {
         "hovertemplate": "Line=VDR - K32_1<br>Plant=VDR<br>Availability %=%{x}<br>Performance %=%{y}<extra></extra>",
         "legendgroup": "VDR - K32_1, VDR",
         "marker": {
          "color": "#FF6692",
          "symbol": "circle"
         },
         "mode": "markers",
         "name": "VDR - K32_1, VDR",
         "showlegend": true,
         "type": "scattergl",
         "x": [
          38.22193732935599,
          43.192811879715705,
          42.30863822751321,
          38.6429884259259,
          38.030960648148124,
          37.36880787037034,
          50.82332175925923
         ],
         "xaxis": "x",
         "y": [
          117.39173884191035,
          109.75157577156733,
          107.69135209935487,
          103.59294945266522,
          91.38759146744354,
          92.62375200222054,
          69.73628111153322
         ],
         "yaxis": "y"
        },
        {
         "hovertemplate": "Line=WAT - AIL1 Packaging<br>Plant=WAT<br>Availability %=%{x}<br>Performance %=%{y}<extra></extra>",
         "legendgroup": "WAT - AIL1 Packaging, WAT",
         "marker": {
          "color": "#B6E880",
          "symbol": "diamond"
         },
         "mode": "markers",
         "name": "WAT - AIL1 Packaging, WAT",
         "showlegend": true,
         "type": "scattergl",
         "x": [
          8.327866239068046,
          17.500216445051777,
          17.80437721108838,
          19.742386771082906,
          19.44244436384256,
          10.432687357283232,
          11.27598663074263
         ],
         "xaxis": "x",
         "y": [
          823.6505833679531,
          661.5830476264049,
          607.661298057211,
          496.0870405550473,
          483.96468835763153,
          555.5842612209087,
          432.0948282072229
         ],
         "yaxis": "y"
        },
        {
         "hovertemplate": "Line=WAT - AIL2 ASSEMBLY<br>Plant=WAT<br>Availability %=%{x}<br>Performance %=%{y}<extra></extra>",
         "legendgroup": "WAT - AIL2 ASSEMBLY, WAT",
         "marker": {
          "color": "#FF97FF",
          "symbol": "diamond"
         },
         "mode": "markers",
         "name": "WAT - AIL2 ASSEMBLY, WAT",
         "showlegend": true,
         "type": "scattergl",
         "x": [
          51.28219819140821,
          57.51357720561962
         ],
         "xaxis": "x",
         "y": [
          91.17309959563228,
          96.36602895273413
         ],
         "yaxis": "y"
        },
        {
         "hovertemplate": "Line=WAT - AIL2 Packaging<br>Plant=WAT<br>Availability %=%{x}<br>Performance %=%{y}<extra></extra>",
         "legendgroup": "WAT - AIL2 Packaging, WAT",
         "marker": {
          "color": "#FECB52",
          "symbol": "diamond"
         },
         "mode": "markers",
         "name": "WAT - AIL2 Packaging, WAT",
         "showlegend": true,
         "type": "scattergl",
         "x": [
          37.128665558647256,
          38.74929909191059,
          36.76876258406999,
          40.31190672258572,
          44.05001251042391,
          38.60453909409871,
          39.69129481468913
         ],
         "xaxis": "x",
         "y": [
          118.31844941466612,
          111.05604242357157,
          109.45251144805303,
          114.13109246138664,
          110.32716364152245,
          106.63764942968878,
          110.02396667958097
         ],
         "yaxis": "y"
        },
        {
         "hovertemplate": "Line=WAT - LYO INSPECTION<br>Plant=WAT<br>Availability %=%{x}<br>Performance %=%{y}<extra></extra>",
         "legendgroup": "WAT - LYO INSPECTION, WAT",
         "marker": {
          "color": "#636efa",
          "symbol": "diamond"
         },
         "mode": "markers",
         "name": "WAT - LYO INSPECTION, WAT",
         "showlegend": true,
         "type": "scattergl",
         "x": [
          42.4979130374306,
          41.79613095238091,
          43.00434027777774,
          35.10830026455023,
          39.60887896825394,
          37.89761078042326,
          29.42390046296294,
          27.574652777777754,
          22.60541382490238
         ],
         "xaxis": "x",
         "y": [
          1957.9089427909378,
          2317.030725904374,
          2096.128158006862,
          2103.9936993683045,
          475.9870336986823,
          82.44166702033557,
          null,
          null,
          null
         ],
         "yaxis": "y"
        },
        {
         "hovertemplate": "Line=WAT - LYO Packaging Line 3<br>Plant=WAT<br>Availability %=%{x}<br>Performance %=%{y}<extra></extra>",
         "legendgroup": "WAT - LYO Packaging Line 3, WAT",
         "marker": {
          "color": "#EF553B",
          "symbol": "diamond"
         },
         "mode": "markers",
         "name": "WAT - LYO Packaging Line 3, WAT",
         "showlegend": true,
         "type": "scattergl",
         "x": [
          35.87653133367645,
          23.114669862484895,
          14.970458770975625,
          9.290369201433844,
          11.721562014935623,
          11.670984141777106,
          11.330621796865735
         ],
         "xaxis": "x",
         "y": [
          65.69341833304532,
          93.28789315717677,
          129.05804599345848,
          183.95433709418865,
          177.0012856203146,
          183.4059491233964,
          254.57031973050567
         ],
         "yaxis": "y"
        },
        {
         "hovertemplate": "Line=WAT - LYO Packaging Line 9<br>Plant=WAT<br>Availability %=%{x}<br>Performance %=%{y}<extra></extra>",
         "legendgroup": "WAT - LYO Packaging Line 9, WAT",
         "marker": {
          "color": "#00cc96",
          "symbol": "diamond"
         },
         "mode": "markers",
         "name": "WAT - LYO Packaging Line 9, WAT",
         "showlegend": true,
         "type": "scattergl",
         "x": [
          29.01268440357206,
          23.663587877891295,
          22.71153688010859,
          21.221754358879522,
          23.514164605210762,
          26.594610531926186,
          25.13607021068095
         ],
         "xaxis": "x",
         "y": [
          76.91637827214467,
          104.15339387389172,
          126.34743746541461,
          164.6639769105472,
          152.5864667642975,
          154.90252339880038,
          155.35450880320417
         ],
         "yaxis": "y"
        },
        {
         "line": {
          "color": "orange"
         },
         "mode": "lines",
         "name": "60% June 2022 target",
         "showlegend": false,
         "text": "June 2022 target",
         "textposition": "bottom left",
         "type": "scatter",
         "x": [
          0.001,
          1.011090909090909,
          2.021181818181818,
          3.0312727272727273,
          4.041363636363637,
          5.051454545454546,
          6.061545454545455,
          7.071636363636364,
          8.081727272727273,
          9.091818181818182,
          10.101909090909091,
          11.112,
          12.12209090909091,
          13.132181818181818,
          14.142272727272728,
          15.152363636363637,
          16.162454545454548,
          17.172545454545457,
          18.182636363636366,
          19.192727272727275,
          20.202818181818184,
          21.212909090909093,
          22.223000000000003,
          23.23309090909091,
          24.24318181818182,
          25.25327272727273,
          26.26336363636364,
          27.27345454545455,
          28.283545454545457,
          29.293636363636367,
          30.303727272727276,
          31.313818181818185,
          32.32390909090909,
          33.333999999999996,
          34.34409090909091,
          35.35418181818182,
          36.36427272727273,
          37.37436363636363,
          38.384454545454545,
          39.39454545454546,
          40.404636363636364,
          41.41472727272727,
          42.42481818181818,
          43.434909090909095,
          44.445,
          45.455090909090906,
          46.46518181818182,
          47.47527272727273,
          48.48536363636364,
          49.49545454545454,
          50.505545454545455,
          51.51563636363637,
          52.52572727272727,
          53.53581818181818,
          54.54590909090909,
          55.556000000000004,
          56.56609090909091,
          57.576181818181816,
          58.58627272727273,
          59.59636363636364,
          60.60645454545455,
          61.61654545454545,
          62.626636363636365,
          63.63672727272728,
          64.64681818181819,
          65.6569090909091,
          66.667,
          67.67709090909092,
          68.68718181818183,
          69.69727272727273,
          70.70736363636365,
          71.71745454545456,
          72.72754545454546,
          73.73763636363637,
          74.74772727272727,
          75.7578181818182,
          76.7679090909091,
          77.778,
          78.78809090909093,
          79.79818181818183,
          80.80827272727274,
          81.81836363636364,
          82.82845454545455,
          83.83854545454547,
          84.84863636363637,
          85.85872727272728,
          86.8688181818182,
          87.8789090909091,
          88.88900000000001,
          89.89909090909092,
          90.90918181818182,
          91.91927272727274,
          92.92936363636365,
          93.93945454545455,
          94.94954545454547,
          95.95963636363638,
          96.96972727272728,
          97.97981818181819,
          98.9899090909091,
          100
         ],
         "y": [
          5999999.999999999,
          5934.184499190794,
          2968.5602482795844,
          1979.36660268714,
          1484.647396243392,
          1187.7766979807795,
          989.8465737810639,
          848.4599166966626,
          742.4155502311612,
          659.93400659934,
          593.9471387046553,
          539.9568034557236,
          494.9641151016551,
          456.89285170365645,
          424.25995564555006,
          395.97782524178643,
          371.23074240523766,
          349.39491153956095,
          329.98515066821994,
          312.6184160666919,
          296.9882689633759,
          282.84663712490675,
          269.9905503307384,
          258.2523360097666,
          247.49226586669164,
          237.5929672481694,
          228.4551241445913,
          219.99413348977362,
          212.1374779425236,
          204.8226422120845,
          197.9954461047396,
          191.60870019625375,
          185.62111355793488,
          179.99640007199852,
          174.7025424513943,
          169.7111824240928,
          164.99711255053035,
          160.53785044683033,
          156.31328023418573,
          152.30534914847465,
          148.49780965730756,
          144.87599931513162,
          141.4266520668648,
          138.137735880649,
          134.99831252109348,
          131.99841601900778,
          129.12894699256725,
          126.38158045910981,
          123.74868517022006,
          121.22325282395077,
          118.79883577140944,
          116.46949205183952,
          114.22973676968688,
          112.07449897604664,
          109.99908334097216,
          107.99913600691195,
          106.07061410064173,
          104.20975845441139,
          102.41306914899396,
          100.67728354384037,
          98.99935650418273,
          97.37644257298071,
          95.80587986813627,
          94.28517551328278,
          92.81199243441638,
          91.38413737528143,
          89.99955000224999,
          88.65629298486932,
          87.35254295164242,
          86.08658223225117,
          84.85679130757887,
          83.66164189775026,
          82.49969062616015,
          81.36957320425981,
          80.26999908784092,
          79.19974656081101,
          78.15765820708701,
          77.14263673532362,
          76.15364112481237,
          75.18968306409351,
          74.24982365666881,
          73.33317037073252,
          72.43887421209004,
          71.56612710144174,
          70.714159439001,
          69.88223784102003,
          69.0696630342303,
          68.27576789549255,
          67.49991562510547,
          66.74149804326063,
          65.99993400006599,
          65.27466789040184,
          64.56516826563285,
          63.87092653488611,
          63.19145574922567,
          62.52628946261496,
          61.874980664068545,
          61.23710077585551,
          60.612238713036874,
          60
         ]
        },
        {
         "line": {
          "color": "green"
         },
         "mode": "lines",
         "name": "65% Dec 2022 target",
         "showlegend": false,
         "text": "65% December target",
         "textposition": "top right",
         "type": "scatter",
         "x": [
          0.001,
          1.011090909090909,
          2.021181818181818,
          3.0312727272727273,
          4.041363636363637,
          5.051454545454546,
          6.061545454545455,
          7.071636363636364,
          8.081727272727273,
          9.091818181818182,
          10.101909090909091,
          11.112,
          12.12209090909091,
          13.132181818181818,
          14.142272727272728,
          15.152363636363637,
          16.162454545454548,
          17.172545454545457,
          18.182636363636366,
          19.192727272727275,
          20.202818181818184,
          21.212909090909093,
          22.223000000000003,
          23.23309090909091,
          24.24318181818182,
          25.25327272727273,
          26.26336363636364,
          27.27345454545455,
          28.283545454545457,
          29.293636363636367,
          30.303727272727276,
          31.313818181818185,
          32.32390909090909,
          33.333999999999996,
          34.34409090909091,
          35.35418181818182,
          36.36427272727273,
          37.37436363636363,
          38.384454545454545,
          39.39454545454546,
          40.404636363636364,
          41.41472727272727,
          42.42481818181818,
          43.434909090909095,
          44.445,
          45.455090909090906,
          46.46518181818182,
          47.47527272727273,
          48.48536363636364,
          49.49545454545454,
          50.505545454545455,
          51.51563636363637,
          52.52572727272727,
          53.53581818181818,
          54.54590909090909,
          55.556000000000004,
          56.56609090909091,
          57.576181818181816,
          58.58627272727273,
          59.59636363636364,
          60.60645454545455,
          61.61654545454545,
          62.626636363636365,
          63.63672727272728,
          64.64681818181819,
          65.6569090909091,
          66.667,
          67.67709090909092,
          68.68718181818183,
          69.69727272727273,
          70.70736363636365,
          71.71745454545456,
          72.72754545454546,
          73.73763636363637,
          74.74772727272727,
          75.7578181818182,
          76.7679090909091,
          77.778,
          78.78809090909093,
          79.79818181818183,
          80.80827272727274,
          81.81836363636364,
          82.82845454545455,
          83.83854545454547,
          84.84863636363637,
          85.85872727272728,
          86.8688181818182,
          87.8789090909091,
          88.88900000000001,
          89.89909090909092,
          90.90918181818182,
          91.91927272727274,
          92.92936363636365,
          93.93945454545455,
          94.94954545454547,
          95.95963636363638,
          96.96972727272728,
          97.97981818181819,
          98.9899090909091,
          100
         ],
         "y": [
          6500000,
          6428.699874123359,
          3215.94026896955,
          2144.313819577735,
          1608.368012597008,
          1286.758089479178,
          1072.333788262819,
          919.1649097547181,
          804.2835127504247,
          714.9285071492851,
          643.4427335967099,
          584.9532037437006,
          536.2111246934597,
          494.9672560122945,
          459.61495194934594,
          428.9759773452687,
          402.16663760567417,
          378.51115416785774,
          357.48391322390495,
          338.66995073891627,
          321.7372913769906,
          306.417190218649,
          292.48976285829997,
          279.7733640105805,
          268.11662135558265,
          257.3923811855169,
          247.49305115664058,
          238.32697794725476,
          229.81560110440057,
          221.89119572975824,
          214.4950666134679,
          207.57609187927494,
          201.08953968776277,
          194.99610007799845,
          189.26108765567716,
          183.8537809594339,
          178.74687192974125,
          173.91600465073287,
          169.33938692036787,
          164.9974615775142,
          160.87262712874985,
          156.94899925805927,
          153.2122064057702,
          149.64921387070308,
          146.24817189785128,
          142.99828402059177,
          139.8896925752812,
          136.91337883070233,
          134.06107560107174,
          131.32519055928,
          128.69873875236024,
          126.17528305615949,
          123.74888150049412,
          121.41404055738387,
          119.16567361938652,
          116.99906400748796,
          114.90983194236189,
          112.893904992279,
          110.94749157807678,
          109.06705717249375,
          107.2493028795313,
          105.4911461207291,
          103.78970319048098,
          102.14227347272302,
          100.54632513728441,
          98.99948215655489,
          97.4995125024375,
          96.0443174002751,
          94.63192153094596,
          93.26046408493877,
          91.92819058321045,
          90.63344538922946,
          89.37466484500683,
          88.15037097128148,
          86.95916567849433,
          85.79972544087859,
          84.67079639101094,
          83.57118979660059,
          82.4997778852134,
          81.45548998610131,
          80.43730896139122,
          79.44426790162689,
          78.47544706309756,
          77.52997102656188,
          76.60700605891775,
          75.70575766110504,
          74.82546828708283,
          73.96541522011695,
          73.12490859386426,
          72.30328954686568,
          71.4999285000715,
          70.71422354793533,
          69.94559895443558,
          69.19350374612662,
          68.45741039499448,
          67.73681358449954,
          67.03122905274093,
          66.34019250717681,
          65.66325860578995,
          65
         ]
        },
        {
         "line": {
          "color": "gray"
         },
         "mode": "lines",
         "name": "50%",
         "showlegend": false,
         "text": "50% OEE",
         "textposition": "top right",
         "type": "scatter",
         "x": [
          0.001,
          1.011090909090909,
          2.021181818181818,
          3.0312727272727273,
          4.041363636363637,
          5.051454545454546,
          6.061545454545455,
          7.071636363636364,
          8.081727272727273,
          9.091818181818182,
          10.101909090909091,
          11.112,
          12.12209090909091,
          13.132181818181818,
          14.142272727272728,
          15.152363636363637,
          16.162454545454548,
          17.172545454545457,
          18.182636363636366,
          19.192727272727275,
          20.202818181818184,
          21.212909090909093,
          22.223000000000003,
          23.23309090909091,
          24.24318181818182,
          25.25327272727273,
          26.26336363636364,
          27.27345454545455,
          28.283545454545457,
          29.293636363636367,
          30.303727272727276,
          31.313818181818185,
          32.32390909090909,
          33.333999999999996,
          34.34409090909091,
          35.35418181818182,
          36.36427272727273,
          37.37436363636363,
          38.384454545454545,
          39.39454545454546,
          40.404636363636364,
          41.41472727272727,
          42.42481818181818,
          43.434909090909095,
          44.445,
          45.455090909090906,
          46.46518181818182,
          47.47527272727273,
          48.48536363636364,
          49.49545454545454,
          50.505545454545455,
          51.51563636363637,
          52.52572727272727,
          53.53581818181818,
          54.54590909090909,
          55.556000000000004,
          56.56609090909091,
          57.576181818181816,
          58.58627272727273,
          59.59636363636364,
          60.60645454545455,
          61.61654545454545,
          62.626636363636365,
          63.63672727272728,
          64.64681818181819,
          65.6569090909091,
          66.667,
          67.67709090909092,
          68.68718181818183,
          69.69727272727273,
          70.70736363636365,
          71.71745454545456,
          72.72754545454546,
          73.73763636363637,
          74.74772727272727,
          75.7578181818182,
          76.7679090909091,
          77.778,
          78.78809090909093,
          79.79818181818183,
          80.80827272727274,
          81.81836363636364,
          82.82845454545455,
          83.83854545454547,
          84.84863636363637,
          85.85872727272728,
          86.8688181818182,
          87.8789090909091,
          88.88900000000001,
          89.89909090909092,
          90.90918181818182,
          91.91927272727274,
          92.92936363636365,
          93.93945454545455,
          94.94954545454547,
          95.95963636363638,
          96.96972727272728,
          97.97981818181819,
          98.9899090909091,
          100
         ],
         "y": [
          4999999.999999999,
          4945.153749325661,
          2473.800206899654,
          1649.47216890595,
          1237.20616353616,
          989.813914983983,
          824.8721448175532,
          707.0499305805523,
          618.6796251926344,
          549.9450054994501,
          494.95594892054606,
          449.9640028797696,
          412.47009591804596,
          380.7440430863804,
          353.5499630379584,
          329.9815210348221,
          309.35895200436477,
          291.1624262829675,
          274.98762555684993,
          260.5153467222433,
          247.4902241361466,
          235.7055309374223,
          224.99212527561534,
          215.21028000813885,
          206.2435548889097,
          197.99413937347452,
          190.37927012049275,
          183.32844457481136,
          176.78123161876965,
          170.6855351767371,
          164.99620508728302,
          159.67391683021145,
          154.68426129827907,
          149.99700005999878,
          145.5854520428286,
          141.42598535341068,
          137.49759379210863,
          133.78154203902528,
          130.26106686182143,
          126.92112429039553,
          123.74817471442296,
          120.72999942927636,
          117.85554338905399,
          115.11477990054082,
          112.49859376757789,
          109.99868001583981,
          107.6074558271394,
          105.31798371592484,
          103.12390430851673,
          101.01937735329231,
          98.99902980950786,
          97.0579100431996,
          95.19144730807241,
          93.3954158133722,
          91.66590278414348,
          89.99928000575996,
          88.39217841720145,
          86.84146537867616,
          85.3442242908283,
          83.89773628653366,
          82.49946375348561,
          81.14703547748393,
          79.83823322344689,
          78.57097959440232,
          77.34332702868032,
          76.15344781273453,
          74.99962500187499,
          73.88024415405778,
          72.79378579303535,
          71.73881852687597,
          70.71399275631573,
          69.7180349147919,
          68.7497421884668,
          67.80797767021653,
          66.8916659065341,
          65.99978880067584,
          65.13138183923918,
          64.28553061276968,
          63.4613676040103,
          62.65806922007793,
          61.87485304722402,
          61.11097530894376,
          60.365728510075044,
          59.63843925120145,
          58.928466199167495,
          58.23519820085002,
          57.55805252852525,
          56.89647324624381,
          56.249929687587894,
          55.617915036050526,
          54.99994500005501,
          54.39555657533488,
          53.80430688802738,
          53.22577211240509,
          52.65954645768806,
          52.10524121884581,
          51.56248388672379,
          51.03091731321293,
          50.51019892753072,
          50
         ]
        },
        {
         "line": {
          "color": "gray"
         },
         "mode": "lines",
         "showlegend": false,
         "textposition": "top right",
         "type": "scatter",
         "x": [
          0.001,
          1.011090909090909,
          2.021181818181818,
          3.0312727272727273,
          4.041363636363637,
          5.051454545454546,
          6.061545454545455,
          7.071636363636364,
          8.081727272727273,
          9.091818181818182,
          10.101909090909091,
          11.112,
          12.12209090909091,
          13.132181818181818,
          14.142272727272728,
          15.152363636363637,
          16.162454545454548,
          17.172545454545457,
          18.182636363636366,
          19.192727272727275,
          20.202818181818184,
          21.212909090909093,
          22.223000000000003,
          23.23309090909091,
          24.24318181818182,
          25.25327272727273,
          26.26336363636364,
          27.27345454545455,
          28.283545454545457,
          29.293636363636367,
          30.303727272727276,
          31.313818181818185,
          32.32390909090909,
          33.333999999999996,
          34.34409090909091,
          35.35418181818182,
          36.36427272727273,
          37.37436363636363,
          38.384454545454545,
          39.39454545454546,
          40.404636363636364,
          41.41472727272727,
          42.42481818181818,
          43.434909090909095,
          44.445,
          45.455090909090906,
          46.46518181818182,
          47.47527272727273,
          48.48536363636364,
          49.49545454545454,
          50.505545454545455,
          51.51563636363637,
          52.52572727272727,
          53.53581818181818,
          54.54590909090909,
          55.556000000000004,
          56.56609090909091,
          57.576181818181816,
          58.58627272727273,
          59.59636363636364,
          60.60645454545455,
          61.61654545454545,
          62.626636363636365,
          63.63672727272728,
          64.64681818181819,
          65.6569090909091,
          66.667,
          67.67709090909092,
          68.68718181818183,
          69.69727272727273,
          70.70736363636365,
          71.71745454545456,
          72.72754545454546,
          73.73763636363637,
          74.74772727272727,
          75.7578181818182,
          76.7679090909091,
          77.778,
          78.78809090909093,
          79.79818181818183,
          80.80827272727274,
          81.81836363636364,
          82.82845454545455,
          83.83854545454547,
          84.84863636363637,
          85.85872727272728,
          86.8688181818182,
          87.8789090909091,
          88.88900000000001,
          89.89909090909092,
          90.90918181818182,
          91.91927272727274,
          92.92936363636365,
          93.93945454545455,
          94.94954545454547,
          95.95963636363638,
          96.96972727272728,
          97.97981818181819,
          98.9899090909091,
          100
         ],
         "y": [
          4000000,
          3956.122999460529,
          1979.040165519723,
          1319.5777351247602,
          989.7649308289282,
          791.8511319871864,
          659.8977158540426,
          565.6399444644419,
          494.94370015410755,
          439.95600439956013,
          395.9647591364369,
          359.97120230381574,
          329.9760767344368,
          304.5952344691043,
          282.8399704303667,
          263.9852168278577,
          247.4871616034918,
          232.92994102637402,
          219.99010044547998,
          208.41227737779465,
          197.99217930891731,
          188.56442474993784,
          179.9937002204923,
          172.1682240065111,
          164.9948439111278,
          158.39531149877962,
          152.3034160963942,
          146.66275565984907,
          141.42498529501572,
          136.54842814138968,
          131.99696406982642,
          127.73913346416919,
          123.74740903862325,
          119.99760004799904,
          116.46836163426286,
          113.14078828272855,
          109.9980750336869,
          107.02523363122023,
          104.20885348945714,
          101.53689943231643,
          98.99853977153838,
          96.5839995434211,
          94.28443471124321,
          92.09182392043267,
          89.99887501406234,
          87.99894401267184,
          86.08596466171151,
          84.25438697273988,
          82.49912344681339,
          80.81550188263385,
          79.1992238476063,
          77.64632803455967,
          76.15315784645793,
          74.71633265069777,
          73.33272222731479,
          71.99942400460797,
          70.71374273376117,
          69.47317230294094,
          68.27537943266265,
          67.11818902922693,
          65.9995710027885,
          64.91762838198713,
          63.870586578757525,
          62.85678367552187,
          61.87466162294426,
          60.92275825018763,
          59.9997000015,
          59.10419532324622,
          58.23502863442829,
          57.39105482150079,
          56.57119420505259,
          55.774427931833515,
          54.99979375077344,
          54.246382136173224,
          53.51333272522728,
          52.79983104054067,
          52.10510547139135,
          51.428424490215754,
          50.769094083208245,
          50.12645537606234,
          49.49988243777921,
          48.88878024715501,
          48.29258280806003,
          47.71075140096116,
          47.142772959334,
          46.58815856068003,
          46.04644202282021,
          45.517178596995045,
          44.999943750070315,
          44.494332028840425,
          43.99995600004401,
          43.51644526026791,
          43.043445510421904,
          42.580617689924075,
          42.12763716615045,
          41.68419297507665,
          41.249987109379035,
          40.82473385057035,
          40.40815914202458,
          40
         ]
        },
        {
         "line": {
          "color": "gray"
         },
         "mode": "lines",
         "name": "30%",
         "showlegend": false,
         "text": "30% OEE",
         "textposition": "top right",
         "type": "scatter",
         "x": [
          0.001,
          1.011090909090909,
          2.021181818181818,
          3.0312727272727273,
          4.041363636363637,
          5.051454545454546,
          6.061545454545455,
          7.071636363636364,
          8.081727272727273,
          9.091818181818182,
          10.101909090909091,
          11.112,
          12.12209090909091,
          13.132181818181818,
          14.142272727272728,
          15.152363636363637,
          16.162454545454548,
          17.172545454545457,
          18.182636363636366,
          19.192727272727275,
          20.202818181818184,
          21.212909090909093,
          22.223000000000003,
          23.23309090909091,
          24.24318181818182,
          25.25327272727273,
          26.26336363636364,
          27.27345454545455,
          28.283545454545457,
          29.293636363636367,
          30.303727272727276,
          31.313818181818185,
          32.32390909090909,
          33.333999999999996,
          34.34409090909091,
          35.35418181818182,
          36.36427272727273,
          37.37436363636363,
          38.384454545454545,
          39.39454545454546,
          40.404636363636364,
          41.41472727272727,
          42.42481818181818,
          43.434909090909095,
          44.445,
          45.455090909090906,
          46.46518181818182,
          47.47527272727273,
          48.48536363636364,
          49.49545454545454,
          50.505545454545455,
          51.51563636363637,
          52.52572727272727,
          53.53581818181818,
          54.54590909090909,
          55.556000000000004,
          56.56609090909091,
          57.576181818181816,
          58.58627272727273,
          59.59636363636364,
          60.60645454545455,
          61.61654545454545,
          62.626636363636365,
          63.63672727272728,
          64.64681818181819,
          65.6569090909091,
          66.667,
          67.67709090909092,
          68.68718181818183,
          69.69727272727273,
          70.70736363636365,
          71.71745454545456,
          72.72754545454546,
          73.73763636363637,
          74.74772727272727,
          75.7578181818182,
          76.7679090909091,
          77.778,
          78.78809090909093,
          79.79818181818183,
          80.80827272727274,
          81.81836363636364,
          82.82845454545455,
          83.83854545454547,
          84.84863636363637,
          85.85872727272728,
          86.8688181818182,
          87.8789090909091,
          88.88900000000001,
          89.89909090909092,
          90.90918181818182,
          91.91927272727274,
          92.92936363636365,
          93.93945454545455,
          94.94954545454547,
          95.95963636363638,
          96.96972727272728,
          97.97981818181819,
          98.9899090909091,
          100
         ],
         "y": [
          2999999.9999999995,
          2967.092249595397,
          1484.2801241397922,
          989.68330134357,
          742.323698121696,
          593.8883489903898,
          494.9232868905319,
          424.2299583483313,
          371.2077751155806,
          329.96700329967,
          296.9735693523277,
          269.9784017278618,
          247.48205755082756,
          228.44642585182822,
          212.12997782277503,
          197.98891262089322,
          185.61537120261883,
          174.69745576978048,
          164.99257533410997,
          156.30920803334595,
          148.49413448168795,
          141.42331856245337,
          134.9952751653692,
          129.1261680048833,
          123.74613293334582,
          118.7964836240847,
          114.22756207229565,
          109.99706674488681,
          106.0687389712618,
          102.41132110604225,
          98.9977230523698,
          95.80435009812687,
          92.81055677896744,
          89.99820003599926,
          87.35127122569715,
          84.8555912120464,
          82.49855627526517,
          80.26892522341517,
          78.15664011709286,
          76.15267457423732,
          74.24890482865378,
          72.43799965756581,
          70.7133260334324,
          69.0688679403245,
          67.49915626054674,
          65.99920800950389,
          64.56447349628363,
          63.190790229554906,
          61.87434258511003,
          60.61162641197539,
          59.39941788570472,
          58.23474602591976,
          57.11486838484344,
          56.03724948802332,
          54.99954167048608,
          53.99956800345598,
          53.03530705032087,
          52.10487922720569,
          51.20653457449698,
          50.33864177192019,
          49.499678252091364,
          48.688221286490354,
          47.90293993406814,
          47.14258775664139,
          46.40599621720819,
          45.69206868764071,
          44.999775001124995,
          44.32814649243466,
          43.67627147582121,
          43.04329111612559,
          42.42839565378944,
          41.83082094887513,
          41.24984531308007,
          40.684786602129904,
          40.13499954392046,
          39.599873280405504,
          39.078829103543505,
          38.57131836766181,
          38.07682056240618,
          37.59484153204676,
          37.124911828334405,
          36.66658518536626,
          36.21943710604502,
          35.78306355072087,
          35.3570797195005,
          34.941118920510014,
          34.53483151711515,
          34.137883947746275,
          33.749957812552736,
          33.37074902163032,
          32.999967000032996,
          32.63733394520092,
          32.282584132816424,
          31.935463267443055,
          31.595727874612834,
          31.26314473130748,
          30.937490332034272,
          30.618550387927755,
          30.306119356518437,
          30
         ]
        },
        {
         "line": {
          "color": "gray"
         },
         "mode": "lines",
         "name": "20%",
         "showlegend": false,
         "text": "20% OEE",
         "textfont": {
          "color": "green",
          "size": 15
         },
         "textposition": "top right",
         "type": "scatter",
         "x": [
          0.001,
          1.011090909090909,
          2.021181818181818,
          3.0312727272727273,
          4.041363636363637,
          5.051454545454546,
          6.061545454545455,
          7.071636363636364,
          8.081727272727273,
          9.091818181818182,
          10.101909090909091,
          11.112,
          12.12209090909091,
          13.132181818181818,
          14.142272727272728,
          15.152363636363637,
          16.162454545454548,
          17.172545454545457,
          18.182636363636366,
          19.192727272727275,
          20.202818181818184,
          21.212909090909093,
          22.223000000000003,
          23.23309090909091,
          24.24318181818182,
          25.25327272727273,
          26.26336363636364,
          27.27345454545455,
          28.283545454545457,
          29.293636363636367,
          30.303727272727276,
          31.313818181818185,
          32.32390909090909,
          33.333999999999996,
          34.34409090909091,
          35.35418181818182,
          36.36427272727273,
          37.37436363636363,
          38.384454545454545,
          39.39454545454546,
          40.404636363636364,
          41.41472727272727,
          42.42481818181818,
          43.434909090909095,
          44.445,
          45.455090909090906,
          46.46518181818182,
          47.47527272727273,
          48.48536363636364,
          49.49545454545454,
          50.505545454545455,
          51.51563636363637,
          52.52572727272727,
          53.53581818181818,
          54.54590909090909,
          55.556000000000004,
          56.56609090909091,
          57.576181818181816,
          58.58627272727273,
          59.59636363636364,
          60.60645454545455,
          61.61654545454545,
          62.626636363636365,
          63.63672727272728,
          64.64681818181819,
          65.6569090909091,
          66.667,
          67.67709090909092,
          68.68718181818183,
          69.69727272727273,
          70.70736363636365,
          71.71745454545456,
          72.72754545454546,
          73.73763636363637,
          74.74772727272727,
          75.7578181818182,
          76.7679090909091,
          77.778,
          78.78809090909093,
          79.79818181818183,
          80.80827272727274,
          81.81836363636364,
          82.82845454545455,
          83.83854545454547,
          84.84863636363637,
          85.85872727272728,
          86.8688181818182,
          87.8789090909091,
          88.88900000000001,
          89.89909090909092,
          90.90918181818182,
          91.91927272727274,
          92.92936363636365,
          93.93945454545455,
          94.94954545454547,
          95.95963636363638,
          96.96972727272728,
          97.97981818181819,
          98.9899090909091,
          100
         ],
         "y": [
          2000000,
          1978.0614997302646,
          989.5200827598615,
          659.7888675623801,
          494.8824654144641,
          395.9255659935932,
          329.9488579270213,
          282.81997223222095,
          247.47185007705377,
          219.97800219978006,
          197.98237956821845,
          179.98560115190787,
          164.9880383672184,
          152.29761723455215,
          141.41998521518335,
          131.99260841392885,
          123.7435808017459,
          116.46497051318701,
          109.99505022273999,
          104.20613868889733,
          98.99608965445866,
          94.28221237496892,
          89.99685011024614,
          86.08411200325556,
          82.4974219555639,
          79.19765574938981,
          76.1517080481971,
          73.33137782992453,
          70.71249264750786,
          68.27421407069484,
          65.99848203491321,
          63.86956673208459,
          61.87370451931162,
          59.99880002399952,
          58.23418081713143,
          56.570394141364275,
          54.99903751684345,
          53.512616815610116,
          52.10442674472857,
          50.768449716158216,
          49.49926988576919,
          48.29199977171055,
          47.142217355621604,
          46.04591196021634,
          44.99943750703117,
          43.99947200633592,
          43.04298233085576,
          42.12719348636994,
          41.24956172340669,
          40.40775094131693,
          39.59961192380315,
          38.82316401727984,
          38.076578923228965,
          37.35816632534888,
          36.666361113657395,
          35.99971200230399,
          35.35687136688058,
          34.73658615147047,
          34.13768971633132,
          33.55909451461346,
          32.99978550139425,
          32.458814190993564,
          31.935293289378762,
          31.428391837760934,
          30.93733081147213,
          30.461379125093814,
          29.99985000075,
          29.55209766162311,
          29.117514317214145,
          28.695527410750394,
          28.285597102526296,
          27.887213965916757,
          27.49989687538672,
          27.123191068086612,
          26.75666636261364,
          26.399915520270334,
          26.052552735695674,
          25.714212245107877,
          25.384547041604122,
          25.06322768803117,
          24.749941218889607,
          24.444390123577506,
          24.146291404030016,
          23.85537570048058,
          23.571386479667,
          23.294079280340014,
          23.023221011410104,
          22.758589298497522,
          22.499971875035158,
          22.247166014420213,
          21.999978000022004,
          21.758222630133954,
          21.521722755210952,
          21.290308844962038,
          21.063818583075225,
          20.842096487538324,
          20.624993554689517,
          20.412366925285173,
          20.20407957101229,
          20
         ]
        }
       ],
       "layout": {
        "height": 900,
        "legend": {
         "title": {
          "text": "Line, Plant"
         },
         "tracegroupgap": 0
        },
        "template": {
         "data": {
          "bar": [
           {
            "error_x": {
             "color": "#2a3f5f"
            },
            "error_y": {
             "color": "#2a3f5f"
            },
            "marker": {
             "line": {
              "color": "#E5ECF6",
              "width": 0.5
             },
             "pattern": {
              "fillmode": "overlay",
              "size": 10,
              "solidity": 0.2
             }
            },
            "type": "bar"
           }
          ],
          "barpolar": [
           {
            "marker": {
             "line": {
              "color": "#E5ECF6",
              "width": 0.5
             },
             "pattern": {
              "fillmode": "overlay",
              "size": 10,
              "solidity": 0.2
             }
            },
            "type": "barpolar"
           }
          ],
          "carpet": [
           {
            "aaxis": {
             "endlinecolor": "#2a3f5f",
             "gridcolor": "white",
             "linecolor": "white",
             "minorgridcolor": "white",
             "startlinecolor": "#2a3f5f"
            },
            "baxis": {
             "endlinecolor": "#2a3f5f",
             "gridcolor": "white",
             "linecolor": "white",
             "minorgridcolor": "white",
             "startlinecolor": "#2a3f5f"
            },
            "type": "carpet"
           }
          ],
          "choropleth": [
           {
            "colorbar": {
             "outlinewidth": 0,
             "ticks": ""
            },
            "type": "choropleth"
           }
          ],
          "contour": [
           {
            "colorbar": {
             "outlinewidth": 0,
             "ticks": ""
            },
            "colorscale": [
             [
              0,
              "#0d0887"
             ],
             [
              0.1111111111111111,
              "#46039f"
             ],
             [
              0.2222222222222222,
              "#7201a8"
             ],
             [
              0.3333333333333333,
              "#9c179e"
             ],
             [
              0.4444444444444444,
              "#bd3786"
             ],
             [
              0.5555555555555556,
              "#d8576b"
             ],
             [
              0.6666666666666666,
              "#ed7953"
             ],
             [
              0.7777777777777778,
              "#fb9f3a"
             ],
             [
              0.8888888888888888,
              "#fdca26"
             ],
             [
              1,
              "#f0f921"
             ]
            ],
            "type": "contour"
           }
          ],
          "contourcarpet": [
           {
            "colorbar": {
             "outlinewidth": 0,
             "ticks": ""
            },
            "type": "contourcarpet"
           }
          ],
          "heatmap": [
           {
            "colorbar": {
             "outlinewidth": 0,
             "ticks": ""
            },
            "colorscale": [
             [
              0,
              "#0d0887"
             ],
             [
              0.1111111111111111,
              "#46039f"
             ],
             [
              0.2222222222222222,
              "#7201a8"
             ],
             [
              0.3333333333333333,
              "#9c179e"
             ],
             [
              0.4444444444444444,
              "#bd3786"
             ],
             [
              0.5555555555555556,
              "#d8576b"
             ],
             [
              0.6666666666666666,
              "#ed7953"
             ],
             [
              0.7777777777777778,
              "#fb9f3a"
             ],
             [
              0.8888888888888888,
              "#fdca26"
             ],
             [
              1,
              "#f0f921"
             ]
            ],
            "type": "heatmap"
           }
          ],
          "heatmapgl": [
           {
            "colorbar": {
             "outlinewidth": 0,
             "ticks": ""
            },
            "colorscale": [
             [
              0,
              "#0d0887"
             ],
             [
              0.1111111111111111,
              "#46039f"
             ],
             [
              0.2222222222222222,
              "#7201a8"
             ],
             [
              0.3333333333333333,
              "#9c179e"
             ],
             [
              0.4444444444444444,
              "#bd3786"
             ],
             [
              0.5555555555555556,
              "#d8576b"
             ],
             [
              0.6666666666666666,
              "#ed7953"
             ],
             [
              0.7777777777777778,
              "#fb9f3a"
             ],
             [
              0.8888888888888888,
              "#fdca26"
             ],
             [
              1,
              "#f0f921"
             ]
            ],
            "type": "heatmapgl"
           }
          ],
          "histogram": [
           {
            "marker": {
             "pattern": {
              "fillmode": "overlay",
              "size": 10,
              "solidity": 0.2
             }
            },
            "type": "histogram"
           }
          ],
          "histogram2d": [
           {
            "colorbar": {
             "outlinewidth": 0,
             "ticks": ""
            },
            "colorscale": [
             [
              0,
              "#0d0887"
             ],
             [
              0.1111111111111111,
              "#46039f"
             ],
             [
              0.2222222222222222,
              "#7201a8"
             ],
             [
              0.3333333333333333,
              "#9c179e"
             ],
             [
              0.4444444444444444,
              "#bd3786"
             ],
             [
              0.5555555555555556,
              "#d8576b"
             ],
             [
              0.6666666666666666,
              "#ed7953"
             ],
             [
              0.7777777777777778,
              "#fb9f3a"
             ],
             [
              0.8888888888888888,
              "#fdca26"
             ],
             [
              1,
              "#f0f921"
             ]
            ],
            "type": "histogram2d"
           }
          ],
          "histogram2dcontour": [
           {
            "colorbar": {
             "outlinewidth": 0,
             "ticks": ""
            },
            "colorscale": [
             [
              0,
              "#0d0887"
             ],
             [
              0.1111111111111111,
              "#46039f"
             ],
             [
              0.2222222222222222,
              "#7201a8"
             ],
             [
              0.3333333333333333,
              "#9c179e"
             ],
             [
              0.4444444444444444,
              "#bd3786"
             ],
             [
              0.5555555555555556,
              "#d8576b"
             ],
             [
              0.6666666666666666,
              "#ed7953"
             ],
             [
              0.7777777777777778,
              "#fb9f3a"
             ],
             [
              0.8888888888888888,
              "#fdca26"
             ],
             [
              1,
              "#f0f921"
             ]
            ],
            "type": "histogram2dcontour"
           }
          ],
          "mesh3d": [
           {
            "colorbar": {
             "outlinewidth": 0,
             "ticks": ""
            },
            "type": "mesh3d"
           }
          ],
          "parcoords": [
           {
            "line": {
             "colorbar": {
              "outlinewidth": 0,
              "ticks": ""
             }
            },
            "type": "parcoords"
           }
          ],
          "pie": [
           {
            "automargin": true,
            "type": "pie"
           }
          ],
          "scatter": [
           {
            "marker": {
             "colorbar": {
              "outlinewidth": 0,
              "ticks": ""
             }
            },
            "type": "scatter"
           }
          ],
          "scatter3d": [
           {
            "line": {
             "colorbar": {
              "outlinewidth": 0,
              "ticks": ""
             }
            },
            "marker": {
             "colorbar": {
              "outlinewidth": 0,
              "ticks": ""
             }
            },
            "type": "scatter3d"
           }
          ],
          "scattercarpet": [
           {
            "marker": {
             "colorbar": {
              "outlinewidth": 0,
              "ticks": ""
             }
            },
            "type": "scattercarpet"
           }
          ],
          "scattergeo": [
           {
            "marker": {
             "colorbar": {
              "outlinewidth": 0,
              "ticks": ""
             }
            },
            "type": "scattergeo"
           }
          ],
          "scattergl": [
           {
            "marker": {
             "colorbar": {
              "outlinewidth": 0,
              "ticks": ""
             }
            },
            "type": "scattergl"
           }
          ],
          "scattermapbox": [
           {
            "marker": {
             "colorbar": {
              "outlinewidth": 0,
              "ticks": ""
             }
            },
            "type": "scattermapbox"
           }
          ],
          "scatterpolar": [
           {
            "marker": {
             "colorbar": {
              "outlinewidth": 0,
              "ticks": ""
             }
            },
            "type": "scatterpolar"
           }
          ],
          "scatterpolargl": [
           {
            "marker": {
             "colorbar": {
              "outlinewidth": 0,
              "ticks": ""
             }
            },
            "type": "scatterpolargl"
           }
          ],
          "scatterternary": [
           {
            "marker": {
             "colorbar": {
              "outlinewidth": 0,
              "ticks": ""
             }
            },
            "type": "scatterternary"
           }
          ],
          "surface": [
           {
            "colorbar": {
             "outlinewidth": 0,
             "ticks": ""
            },
            "colorscale": [
             [
              0,
              "#0d0887"
             ],
             [
              0.1111111111111111,
              "#46039f"
             ],
             [
              0.2222222222222222,
              "#7201a8"
             ],
             [
              0.3333333333333333,
              "#9c179e"
             ],
             [
              0.4444444444444444,
              "#bd3786"
             ],
             [
              0.5555555555555556,
              "#d8576b"
             ],
             [
              0.6666666666666666,
              "#ed7953"
             ],
             [
              0.7777777777777778,
              "#fb9f3a"
             ],
             [
              0.8888888888888888,
              "#fdca26"
             ],
             [
              1,
              "#f0f921"
             ]
            ],
            "type": "surface"
           }
          ],
          "table": [
           {
            "cells": {
             "fill": {
              "color": "#EBF0F8"
             },
             "line": {
              "color": "white"
             }
            },
            "header": {
             "fill": {
              "color": "#C8D4E3"
             },
             "line": {
              "color": "white"
             }
            },
            "type": "table"
           }
          ]
         },
         "layout": {
          "annotationdefaults": {
           "arrowcolor": "#2a3f5f",
           "arrowhead": 0,
           "arrowwidth": 1
          },
          "autotypenumbers": "strict",
          "coloraxis": {
           "colorbar": {
            "outlinewidth": 0,
            "ticks": ""
           }
          },
          "colorscale": {
           "diverging": [
            [
             0,
             "#8e0152"
            ],
            [
             0.1,
             "#c51b7d"
            ],
            [
             0.2,
             "#de77ae"
            ],
            [
             0.3,
             "#f1b6da"
            ],
            [
             0.4,
             "#fde0ef"
            ],
            [
             0.5,
             "#f7f7f7"
            ],
            [
             0.6,
             "#e6f5d0"
            ],
            [
             0.7,
             "#b8e186"
            ],
            [
             0.8,
             "#7fbc41"
            ],
            [
             0.9,
             "#4d9221"
            ],
            [
             1,
             "#276419"
            ]
           ],
           "sequential": [
            [
             0,
             "#0d0887"
            ],
            [
             0.1111111111111111,
             "#46039f"
            ],
            [
             0.2222222222222222,
             "#7201a8"
            ],
            [
             0.3333333333333333,
             "#9c179e"
            ],
            [
             0.4444444444444444,
             "#bd3786"
            ],
            [
             0.5555555555555556,
             "#d8576b"
            ],
            [
             0.6666666666666666,
             "#ed7953"
            ],
            [
             0.7777777777777778,
             "#fb9f3a"
            ],
            [
             0.8888888888888888,
             "#fdca26"
            ],
            [
             1,
             "#f0f921"
            ]
           ],
           "sequentialminus": [
            [
             0,
             "#0d0887"
            ],
            [
             0.1111111111111111,
             "#46039f"
            ],
            [
             0.2222222222222222,
             "#7201a8"
            ],
            [
             0.3333333333333333,
             "#9c179e"
            ],
            [
             0.4444444444444444,
             "#bd3786"
            ],
            [
             0.5555555555555556,
             "#d8576b"
            ],
            [
             0.6666666666666666,
             "#ed7953"
            ],
            [
             0.7777777777777778,
             "#fb9f3a"
            ],
            [
             0.8888888888888888,
             "#fdca26"
            ],
            [
             1,
             "#f0f921"
            ]
           ]
          },
          "colorway": [
           "#636efa",
           "#EF553B",
           "#00cc96",
           "#ab63fa",
           "#FFA15A",
           "#19d3f3",
           "#FF6692",
           "#B6E880",
           "#FF97FF",
           "#FECB52"
          ],
          "font": {
           "color": "#2a3f5f"
          },
          "geo": {
           "bgcolor": "white",
           "lakecolor": "white",
           "landcolor": "#E5ECF6",
           "showlakes": true,
           "showland": true,
           "subunitcolor": "white"
          },
          "hoverlabel": {
           "align": "left"
          },
          "hovermode": "closest",
          "mapbox": {
           "style": "light"
          },
          "paper_bgcolor": "white",
          "plot_bgcolor": "#E5ECF6",
          "polar": {
           "angularaxis": {
            "gridcolor": "white",
            "linecolor": "white",
            "ticks": ""
           },
           "bgcolor": "#E5ECF6",
           "radialaxis": {
            "gridcolor": "white",
            "linecolor": "white",
            "ticks": ""
           }
          },
          "scene": {
           "xaxis": {
            "backgroundcolor": "#E5ECF6",
            "gridcolor": "white",
            "gridwidth": 2,
            "linecolor": "white",
            "showbackground": true,
            "ticks": "",
            "zerolinecolor": "white"
           },
           "yaxis": {
            "backgroundcolor": "#E5ECF6",
            "gridcolor": "white",
            "gridwidth": 2,
            "linecolor": "white",
            "showbackground": true,
            "ticks": "",
            "zerolinecolor": "white"
           },
           "zaxis": {
            "backgroundcolor": "#E5ECF6",
            "gridcolor": "white",
            "gridwidth": 2,
            "linecolor": "white",
            "showbackground": true,
            "ticks": "",
            "zerolinecolor": "white"
           }
          },
          "shapedefaults": {
           "line": {
            "color": "#2a3f5f"
           }
          },
          "ternary": {
           "aaxis": {
            "gridcolor": "white",
            "linecolor": "white",
            "ticks": ""
           },
           "baxis": {
            "gridcolor": "white",
            "linecolor": "white",
            "ticks": ""
           },
           "bgcolor": "#E5ECF6",
           "caxis": {
            "gridcolor": "white",
            "linecolor": "white",
            "ticks": ""
           }
          },
          "title": {
           "x": 0.05
          },
          "xaxis": {
           "automargin": true,
           "gridcolor": "white",
           "linecolor": "white",
           "ticks": "",
           "title": {
            "standoff": 15
           },
           "zerolinecolor": "white",
           "zerolinewidth": 2
          },
          "yaxis": {
           "automargin": true,
           "gridcolor": "white",
           "linecolor": "white",
           "ticks": "",
           "title": {
            "standoff": 15
           },
           "zerolinecolor": "white",
           "zerolinewidth": 2
          }
         }
        },
        "title": {
         "text": "Availability vs Performance %"
        },
        "width": 1200,
        "xaxis": {
         "anchor": "y",
         "domain": [
          0,
          1
         ],
         "range": [
          0,
          100
         ],
         "title": {
          "text": "Availability %"
         }
        },
        "yaxis": {
         "anchor": "x",
         "domain": [
          0,
          1
         ],
         "range": [
          0,
          100
         ],
         "title": {
          "text": "Performance %"
         }
        }
       }
      }
     },
     "metadata": {},
     "output_type": "display_data"
    }
   ],
   "source": [
    "x = active_rolling['Availability %']\n",
    "y = active_rolling['Performance %']\n",
    "colors = active_rolling.Plant\n",
    "\n",
    "fig = px.scatter(active_rolling, x=x, y=y\n",
    "    , color='Line'\n",
    "    , symbol='Plant'\n",
    "    , title='Availability vs Performance %'\n",
    "    , range_x=(0,100)\n",
    "    , range_y=(0,100)\n",
    "    , width=1200\n",
    "    , height=900)\n",
    "\n",
    "\n",
    "def oee_line(x, target):\n",
    "    y = (target/x)*100\n",
    "    return y\n",
    "\n",
    "\n",
    "line_x = np.linspace(.001,100,100)\n",
    "\n",
    "line_y = oee_line(np.linspace(.00001,1,100), .60)\n",
    "fig.add_trace(go.Scatter(x=line_x, y=line_y, line_color='orange'\n",
    "    , mode=\"lines\"\n",
    "    , text='June 2022 target'\n",
    "    , textposition='bottom left'\n",
    "    , name = '60% June 2022 target'\n",
    "    , showlegend = False))\n",
    "\n",
    "# fig.add_trace(go.Scatter(x=x, y=y, mode=\"markers\"))\n",
    "line_y = oee_line(np.linspace(.00001,1,100), .65)\n",
    "fig.add_trace(go.Scatter(x=line_x, y=line_y, line_color='green'\n",
    "    , mode=\"lines\"\n",
    "    , text='65% December target'\n",
    "    , textposition='top right'\n",
    "    , name = '65% Dec 2022 target'\n",
    "    , showlegend = False))\n",
    "\n",
    "# fig.add_trace(go.Scatter(x=x, y=y, mode=\"markers\"))\n",
    "line_y = oee_line(np.linspace(.00001,1,100), .50)\n",
    "fig.add_trace(go.Scatter(x=line_x, y=line_y, line_color='gray'\n",
    "    , mode=\"lines\"\n",
    "    , text='50% OEE'\n",
    "    , textposition='top right'\n",
    "    , name='50%'\n",
    "    , showlegend=False))\n",
    "\n",
    "# for p in [.20, .30, .40, .50]:\n",
    "\n",
    "    # fig.add_trace(go.Scatter(x=x, y=y, mode=\"markers\"))\n",
    "line_y = oee_line(np.linspace(.00001,1,100), .40)\n",
    "fig.add_trace(go.Scatter(x=line_x, y=line_y, line_color='gray'\n",
    "    , mode=\"lines\"\n",
    "    # , text=('{}'.format(pct*100))\n",
    "    , textposition='top right'\n",
    "    # , name=('{}'.format(pct*100))\n",
    "    , showlegend=False))    \n",
    "\n",
    "\n",
    "# fig.add_trace(go.Scatter(x=x, y=y, mode=\"markers\"))\n",
    "line_y = oee_line(np.linspace(.00001,1,100), .30)\n",
    "fig.add_trace(go.Scatter(x=line_x, y=line_y, line_color='gray'\n",
    "    , mode=\"lines\"\n",
    "    , text='30% OEE'\n",
    "    , textposition='top right'\n",
    "    , name='30%'\n",
    "    , showlegend=False))    \n",
    "\n",
    "# fig.add_trace(go.Scatter(x=x, y=y, mode=\"markers\"))\n",
    "line_y = oee_line(np.linspace(.00001,1,100), .20)\n",
    "fig.add_trace(go.Scatter(x=line_x, y=line_y, line_color='gray'\n",
    "    , mode=\"lines\"\n",
    "    , text='20% OEE'\n",
    "    , textfont=dict(color='green', size=15)\n",
    "    , textposition='top right'\n",
    "    , name='20%'\n",
    "    , showlegend=False))\n",
    "\n",
    "fig.add_annotation\n",
    "\n",
    "\n",
    "# to update both axis\n",
    "# fig.update_xaxes(range=(0,100))\n",
    "\n",
    "# add shapes\n",
    "# fig.update_layout (\n",
    "#     shapes=[\n",
    "#         dict (\n",
    "#             type='path',\n",
    "#             path='M 100,65 Q 65,65 65,100',\n",
    "#             line_color='green'\n",
    "#         ),\n",
    "#         dict (\n",
    "#             type='path',\n",
    "#             path='M 0,60 Q 60,60 60,0',\n",
    "#             line_color='orange',\n",
    "#         )\n",
    "\n",
    "#     ]\n",
    "# )\n",
    "\n",
    "fig.update_annotations()\n"
   ]
  },
  {
   "cell_type": "markdown",
   "metadata": {},
   "source": [
    "Create scatter of Availability and Performance to highlight how many sites are not currently hitting 60%/65% OEE targets (for June and Dec 2022).  The 20th percentile line shows how many lines would be dropped if you were to concentrate on getting the 'top' 80% of the lines above the target line."
   ]
  },
  {
   "cell_type": "code",
   "execution_count": 106,
   "metadata": {},
   "outputs": [
    {
     "data": {
      "text/plain": [
       "array([[5.00000000e-01, 0.00000000e+00, 1.00000000e+00, 1.00000000e+00],\n",
       "       [3.74509804e-01, 1.95845467e-01, 9.95146916e-01, 1.00000000e+00],\n",
       "       [2.49019608e-01, 3.84105749e-01, 9.80634770e-01, 1.00000000e+00],\n",
       "       [1.23529412e-01, 5.57489439e-01, 9.56604420e-01, 1.00000000e+00],\n",
       "       [1.96078431e-03, 7.09281308e-01, 9.23289106e-01, 1.00000000e+00],\n",
       "       [1.27450980e-01, 8.33602385e-01, 8.81012194e-01, 1.00000000e+00],\n",
       "       [2.52941176e-01, 9.25637660e-01, 8.30184031e-01, 1.00000000e+00],\n",
       "       [3.78431373e-01, 9.81822563e-01, 7.71297962e-01, 1.00000000e+00],\n",
       "       [5.03921569e-01, 9.99981027e-01, 7.04925547e-01, 1.00000000e+00],\n",
       "       [6.29411765e-01, 9.79409768e-01, 6.31711006e-01, 1.00000000e+00],\n",
       "       [7.54901961e-01, 9.20905518e-01, 5.52364973e-01, 1.00000000e+00],\n",
       "       [8.80392157e-01, 8.26734175e-01, 4.67657593e-01, 1.00000000e+00],\n",
       "       [1.00000000e+00, 7.00543038e-01, 3.78411050e-01, 1.00000000e+00],\n",
       "       [1.00000000e+00, 5.47219547e-01, 2.85491586e-01, 1.00000000e+00],\n",
       "       [1.00000000e+00, 3.72701992e-01, 1.89801093e-01, 1.00000000e+00],\n",
       "       [1.00000000e+00, 1.83749518e-01, 9.22683595e-02, 1.00000000e+00],\n",
       "       [1.00000000e+00, 1.22464680e-16, 6.12323400e-17, 1.00000000e+00]])"
      ]
     },
     "execution_count": 106,
     "metadata": {},
     "output_type": "execute_result"
    }
   ],
   "source": [
    "import matplotlib.cm as cm\n",
    "\n",
    "plants = data.Plant.unique()\n",
    "colors = cm.rainbow(np.linspace(0, 1, len(plants)))\n",
    "colors"
   ]
  },
  {
   "cell_type": "code",
   "execution_count": 148,
   "metadata": {},
   "outputs": [
    {
     "data": {
      "text/plain": [
       "Text(0.5, 1.0, 'Rolling avg Availability/Performance since 2021-11-01')"
      ]
     },
     "execution_count": 148,
     "metadata": {},
     "output_type": "execute_result"
    },
    {
     "data": {
      "image/png": "[encoded data removed]",
      "text/plain": [
       "<Figure size 864x864 with 1 Axes>"
      ]
     },
     "metadata": {},
     "output_type": "display_data"
    }
   ],
   "source": [
    "def oee_line(x, target):\n",
    "    y = (target/x)\n",
    "    return y\n",
    "\n",
    "x = active_rolling['Availability %']\n",
    "y = active_rolling['Performance %']\n",
    "\n",
    "plt.style.use('fivethirtyeight')\n",
    "\n",
    "plt.figure(figsize=(12,12))\n",
    "\n",
    "# ['Line', 'Date', 'OEE %', 'Performance %', 'Availability %', 'Plant']\n",
    "# i don't think it makes sense to use rolling mean here - it creates a row for every data point.  We just want the mean for each line\n",
    "# data = active_rolling.groupby(['Plant','Line'])[['Availability %','Performance %']].rolling(window=4).mean().reset_index()\n",
    "data = active_rolling.groupby(['Plant','Line'])[['Availability %','Performance %']].mean().reset_index()\n",
    "\n",
    "plt\n",
    "\n",
    "for plant in data.Plant.unique():\n",
    "    plt.scatter(data[data.Plant == plant]['Availability %'], data[data.Plant == plant]['Performance %'], label=plant)\n",
    "\n",
    "    # plt.xlim(0, 100)\n",
    "    # plt.ylim(0, 100)\n",
    "\n",
    "plt.plot(np.linspace(.001,100,100), oee_line(np.linspace(.00001,1,100), 60), c='orange', lw=3, ls='--', label='_60% June 2022 Target')\n",
    "plt.annotate(xy=(100,60), text='60% June 2022 Target')\n",
    "plt.plot(np.linspace(.001,100,100), oee_line(np.linspace(.00001,1,100), 65), c='green', lw=3, ls='--', label='_65% December 2022 Target')\n",
    "plt.annotate(xy=(100,65), text='65% Dec 2022 Target')\n",
    "for pct in [20]:\n",
    "    pctl = int(np.percentile(active_rolling['OEE %'], pct))\n",
    "    plt.plot(np.linspace(.001,100,100), oee_line(np.linspace(.00001,1,100), pctl), c='gray', lw=3, ls='--', label='_{}%'.format(pctl))\n",
    "    plt.annotate(xy=(100,pctl), text='{}th percentile - {}% OEE'.format(pct, pctl))\n",
    "for pct in [20,30,40,50]:\n",
    "    plt.plot(np.linspace(.001,100,100), oee_line(np.linspace(.00001,1,100), pct), c='gray', lw=3, ls='--', label='_{}%'.format(pct))\n",
    "    plt.annotate(xy=(100,pct), text='{}% OEE'.format(pct))\n",
    "plt.xlim(0,100)\n",
    "plt.ylim(0,100)\n",
    "plt.xlabel('Availability')\n",
    "plt.ylabel('Performance')\n",
    "plt.legend()\n",
    "plt.title('Rolling avg Availability/Performance since {}'.format(start_date))\n"
   ]
  },
  {
   "cell_type": "code",
   "execution_count": 123,
   "metadata": {},
   "outputs": [
    {
     "data": {
      "text/plain": [
       "array([0.    , 0.0625, 0.125 , 0.1875, 0.25  , 0.3125, 0.375 , 0.4375,\n",
       "       0.5   , 0.5625, 0.625 , 0.6875, 0.75  , 0.8125, 0.875 , 0.9375,\n",
       "       1.    ])"
      ]
     },
     "execution_count": 123,
     "metadata": {},
     "output_type": "execute_result"
    }
   ],
   "source": [
    "np.linspace(0,1,len(plants))"
   ]
  },
  {
   "cell_type": "code",
   "execution_count": 97,
   "metadata": {},
   "outputs": [
    {
     "data": {
      "text/html": [
       "<div>\n",
       "<style scoped>\n",
       "    .dataframe tbody tr th:only-of-type {\n",
       "        vertical-align: middle;\n",
       "    }\n",
       "\n",
       "    .dataframe tbody tr th {\n",
       "        vertical-align: top;\n",
       "    }\n",
       "\n",
       "    .dataframe thead th {\n",
       "        text-align: right;\n",
       "    }\n",
       "</style>\n",
       "<table border=\"1\" class=\"dataframe\">\n",
       "  <thead>\n",
       "    <tr style=\"text-align: right;\">\n",
       "      <th></th>\n",
       "      <th>Plant</th>\n",
       "      <th>level_1</th>\n",
       "      <th>Availability %</th>\n",
       "      <th>Performance %</th>\n",
       "    </tr>\n",
       "  </thead>\n",
       "  <tbody>\n",
       "    <tr>\n",
       "      <th>0</th>\n",
       "      <td>ELB</td>\n",
       "      <td>183.000000</td>\n",
       "      <td>53.835558</td>\n",
       "      <td>47.375230</td>\n",
       "    </tr>\n",
       "    <tr>\n",
       "      <th>1</th>\n",
       "      <td>FRA</td>\n",
       "      <td>1246.082126</td>\n",
       "      <td>51.060902</td>\n",
       "      <td>96.622908</td>\n",
       "    </tr>\n",
       "    <tr>\n",
       "      <th>2</th>\n",
       "      <td>HZG</td>\n",
       "      <td>2556.051724</td>\n",
       "      <td>69.517368</td>\n",
       "      <td>98.656294</td>\n",
       "    </tr>\n",
       "    <tr>\n",
       "      <th>3</th>\n",
       "      <td>LLB</td>\n",
       "      <td>3122.345455</td>\n",
       "      <td>69.954018</td>\n",
       "      <td>75.995670</td>\n",
       "    </tr>\n",
       "    <tr>\n",
       "      <th>4</th>\n",
       "      <td>LSX</td>\n",
       "      <td>4109.269231</td>\n",
       "      <td>63.832069</td>\n",
       "      <td>81.115241</td>\n",
       "    </tr>\n",
       "    <tr>\n",
       "      <th>5</th>\n",
       "      <td>LTR</td>\n",
       "      <td>4797.659091</td>\n",
       "      <td>51.168997</td>\n",
       "      <td>58.676376</td>\n",
       "    </tr>\n",
       "    <tr>\n",
       "      <th>6</th>\n",
       "      <td>MAF</td>\n",
       "      <td>5479.280488</td>\n",
       "      <td>61.559825</td>\n",
       "      <td>90.737796</td>\n",
       "    </tr>\n",
       "    <tr>\n",
       "      <th>7</th>\n",
       "      <td>MLE</td>\n",
       "      <td>5977.500000</td>\n",
       "      <td>71.363005</td>\n",
       "      <td>19.906905</td>\n",
       "    </tr>\n",
       "    <tr>\n",
       "      <th>8</th>\n",
       "      <td>OCO</td>\n",
       "      <td>6590.622642</td>\n",
       "      <td>58.405231</td>\n",
       "      <td>82.429947</td>\n",
       "    </tr>\n",
       "    <tr>\n",
       "      <th>9</th>\n",
       "      <td>ORI</td>\n",
       "      <td>7135.250000</td>\n",
       "      <td>90.735648</td>\n",
       "      <td>26.688895</td>\n",
       "    </tr>\n",
       "    <tr>\n",
       "      <th>10</th>\n",
       "      <td>RDG</td>\n",
       "      <td>7210.166667</td>\n",
       "      <td>57.789381</td>\n",
       "      <td>78.491231</td>\n",
       "    </tr>\n",
       "    <tr>\n",
       "      <th>11</th>\n",
       "      <td>SCO</td>\n",
       "      <td>7649.289256</td>\n",
       "      <td>50.312079</td>\n",
       "      <td>75.451274</td>\n",
       "    </tr>\n",
       "    <tr>\n",
       "      <th>12</th>\n",
       "      <td>SUZ</td>\n",
       "      <td>8583.533333</td>\n",
       "      <td>48.361943</td>\n",
       "      <td>107.195202</td>\n",
       "    </tr>\n",
       "    <tr>\n",
       "      <th>13</th>\n",
       "      <td>SZX</td>\n",
       "      <td>9091.000000</td>\n",
       "      <td>74.845452</td>\n",
       "      <td>79.066961</td>\n",
       "    </tr>\n",
       "    <tr>\n",
       "      <th>14</th>\n",
       "      <td>TRS</td>\n",
       "      <td>9552.485714</td>\n",
       "      <td>43.097754</td>\n",
       "      <td>87.230185</td>\n",
       "    </tr>\n",
       "    <tr>\n",
       "      <th>15</th>\n",
       "      <td>VDR</td>\n",
       "      <td>9879.750000</td>\n",
       "      <td>40.884097</td>\n",
       "      <td>101.288326</td>\n",
       "    </tr>\n",
       "    <tr>\n",
       "      <th>16</th>\n",
       "      <td>WAT</td>\n",
       "      <td>9946.871795</td>\n",
       "      <td>28.902721</td>\n",
       "      <td>459.897922</td>\n",
       "    </tr>\n",
       "  </tbody>\n",
       "</table>\n",
       "</div>"
      ],
      "text/plain": [
       "   Plant      level_1  Availability %  Performance %\n",
       "0    ELB   183.000000       53.835558      47.375230\n",
       "1    FRA  1246.082126       51.060902      96.622908\n",
       "2    HZG  2556.051724       69.517368      98.656294\n",
       "3    LLB  3122.345455       69.954018      75.995670\n",
       "4    LSX  4109.269231       63.832069      81.115241\n",
       "5    LTR  4797.659091       51.168997      58.676376\n",
       "6    MAF  5479.280488       61.559825      90.737796\n",
       "7    MLE  5977.500000       71.363005      19.906905\n",
       "8    OCO  6590.622642       58.405231      82.429947\n",
       "9    ORI  7135.250000       90.735648      26.688895\n",
       "10   RDG  7210.166667       57.789381      78.491231\n",
       "11   SCO  7649.289256       50.312079      75.451274\n",
       "12   SUZ  8583.533333       48.361943     107.195202\n",
       "13   SZX  9091.000000       74.845452      79.066961\n",
       "14   TRS  9552.485714       43.097754      87.230185\n",
       "15   VDR  9879.750000       40.884097     101.288326\n",
       "16   WAT  9946.871795       28.902721     459.897922"
      ]
     },
     "execution_count": 97,
     "metadata": {},
     "output_type": "execute_result"
    }
   ],
   "source": [
    "  data = active_rolling.groupby(['Plant'])[['Availability %','Performance %']].rolling(window=4).mean().reset_index()\n",
    "  data.groupby('Plant').mean().reset_index()"
   ]
  },
  {
   "cell_type": "code",
   "execution_count": 47,
   "metadata": {},
   "outputs": [],
   "source": [
    "rank = active_rolling.groupby('Line').mean().rank(pct=True)"
   ]
  },
  {
   "cell_type": "code",
   "execution_count": 48,
   "metadata": {},
   "outputs": [
    {
     "name": "stdout",
     "output_type": "stream",
     "text": [
      "59.204571526527666\n",
      "nan\n",
      "70.32434408631062\n",
      "nan\n"
     ]
    },
    {
     "data": {
      "text/html": [
       "<div>\n",
       "<style scoped>\n",
       "    .dataframe tbody tr th:only-of-type {\n",
       "        vertical-align: middle;\n",
       "    }\n",
       "\n",
       "    .dataframe tbody tr th {\n",
       "        vertical-align: top;\n",
       "    }\n",
       "\n",
       "    .dataframe thead th {\n",
       "        text-align: right;\n",
       "    }\n",
       "</style>\n",
       "<table border=\"1\" class=\"dataframe\">\n",
       "  <thead>\n",
       "    <tr style=\"text-align: right;\">\n",
       "      <th></th>\n",
       "      <th>OEE %</th>\n",
       "      <th>Performance %</th>\n",
       "      <th>Availability %</th>\n",
       "      <th>Quality %</th>\n",
       "    </tr>\n",
       "  </thead>\n",
       "  <tbody>\n",
       "    <tr>\n",
       "      <th>count</th>\n",
       "      <td>1182.000000</td>\n",
       "      <td>1118.000000</td>\n",
       "      <td>1182.000000</td>\n",
       "      <td>1020.000000</td>\n",
       "    </tr>\n",
       "    <tr>\n",
       "      <th>mean</th>\n",
       "      <td>48.590957</td>\n",
       "      <td>95.897691</td>\n",
       "      <td>55.939961</td>\n",
       "      <td>99.663791</td>\n",
       "    </tr>\n",
       "    <tr>\n",
       "      <th>std</th>\n",
       "      <td>64.688100</td>\n",
       "      <td>161.044499</td>\n",
       "      <td>17.687992</td>\n",
       "      <td>1.260551</td>\n",
       "    </tr>\n",
       "    <tr>\n",
       "      <th>min</th>\n",
       "      <td>0.000000</td>\n",
       "      <td>-42.717650</td>\n",
       "      <td>-54.973380</td>\n",
       "      <td>89.823088</td>\n",
       "    </tr>\n",
       "    <tr>\n",
       "      <th>25%</th>\n",
       "      <td>33.478434</td>\n",
       "      <td>69.838758</td>\n",
       "      <td>46.448800</td>\n",
       "      <td>99.981427</td>\n",
       "    </tr>\n",
       "    <tr>\n",
       "      <th>50%</th>\n",
       "      <td>46.007879</td>\n",
       "      <td>81.755147</td>\n",
       "      <td>58.233422</td>\n",
       "      <td>100.000000</td>\n",
       "    </tr>\n",
       "    <tr>\n",
       "      <th>75%</th>\n",
       "      <td>56.642889</td>\n",
       "      <td>92.749796</td>\n",
       "      <td>67.961594</td>\n",
       "      <td>100.000000</td>\n",
       "    </tr>\n",
       "    <tr>\n",
       "      <th>max</th>\n",
       "      <td>1127.231930</td>\n",
       "      <td>2622.161796</td>\n",
       "      <td>100.000000</td>\n",
       "      <td>106.197594</td>\n",
       "    </tr>\n",
       "  </tbody>\n",
       "</table>\n",
       "</div>"
      ],
      "text/plain": [
       "             OEE %  Performance %  Availability %    Quality %\n",
       "count  1182.000000    1118.000000     1182.000000  1020.000000\n",
       "mean     48.590957      95.897691       55.939961    99.663791\n",
       "std      64.688100     161.044499       17.687992     1.260551\n",
       "min       0.000000     -42.717650      -54.973380    89.823088\n",
       "25%      33.478434      69.838758       46.448800    99.981427\n",
       "50%      46.007879      81.755147       58.233422   100.000000\n",
       "75%      56.642889      92.749796       67.961594   100.000000\n",
       "max    1127.231930    2622.161796      100.000000   106.197594"
      ]
     },
     "execution_count": 48,
     "metadata": {},
     "output_type": "execute_result"
    }
   ],
   "source": [
    "for metric in ['OEE %','Performance %','Availability %','Quality %']:\n",
    "    print (np.percentile(active_rolling[metric],80))\n",
    "\n",
    "active_rolling.describe()"
   ]
  },
  {
   "cell_type": "code",
   "execution_count": 49,
   "metadata": {},
   "outputs": [],
   "source": [
    "active_rolling['category'] = pd.qcut(active_rolling['OEE %'], 5, labels=False)"
   ]
  },
  {
   "cell_type": "code",
   "execution_count": 50,
   "metadata": {},
   "outputs": [
    {
     "data": {
      "text/plain": [
       "[Text(0.5, 0, '%')]"
      ]
     },
     "execution_count": 50,
     "metadata": {},
     "output_type": "execute_result"
    },
    {
     "data": {
      "image/png": "[encoded data removed]",
      "text/plain": [
       "<Figure size 720x576 with 1 Axes>"
      ]
     },
     "metadata": {},
     "output_type": "display_data"
    }
   ],
   "source": [
    "import seaborn as sns\n",
    "ax = sns.ecdfplot(data=active_rolling[['OEE %','Performance %','Availability %', 'Quality %']])\n",
    "ax.set(xlim=(0,100))\n",
    "ax.set(xlabel='%')"
   ]
  },
  {
   "cell_type": "code",
   "execution_count": 51,
   "metadata": {},
   "outputs": [
    {
     "data": {
      "text/plain": [
       "Date\n",
       "2020-02-09    104.115826\n",
       "2020-02-16    160.018977\n",
       "2020-02-16    204.314209\n",
       "2020-02-16    101.396788\n",
       "2020-03-01    122.416514\n",
       "                 ...    \n",
       "2022-01-16    137.957819\n",
       "2022-01-16    100.581938\n",
       "2022-01-16    121.245767\n",
       "2022-01-16    100.014760\n",
       "2022-01-16    108.564018\n",
       "Name: Performance %, Length: 924, dtype: float64"
      ]
     },
     "execution_count": 51,
     "metadata": {},
     "output_type": "execute_result"
    }
   ],
   "source": [
    "df[df['Performance %'] > 100]['Performance %']"
   ]
  },
  {
   "cell_type": "markdown",
   "metadata": {},
   "source": [
    "Calculate OEE using the individual metrics and see whether the provided OEE% is accurate"
   ]
  },
  {
   "cell_type": "code",
   "execution_count": 52,
   "metadata": {},
   "outputs": [],
   "source": [
    "active_rolling['CalcOEE'] = active_rolling['Performance %'] * active_rolling['Availability %'] * active_rolling['Quality %']/10000"
   ]
  },
  {
   "cell_type": "code",
   "execution_count": 53,
   "metadata": {},
   "outputs": [],
   "source": [
    "active_rolling['OEECalcDiff'] = (active_rolling['OEE %']/active_rolling['CalcOEE'])"
   ]
  },
  {
   "cell_type": "markdown",
   "metadata": {},
   "source": [
    "Scatter plot the reported OEE% against our calculated OEE%"
   ]
  },
  {
   "cell_type": "code",
   "execution_count": 60,
   "metadata": {},
   "outputs": [
    {
     "data": {
      "text/plain": [
       "Text(0.5, 1.0, 'Reported OEE % versus Calculated OEE %')"
      ]
     },
     "execution_count": 60,
     "metadata": {},
     "output_type": "execute_result"
    },
    {
     "data": {
      "image/png": "[encoded data removed]",
      "text/plain": [
       "<Figure size 720x576 with 1 Axes>"
      ]
     },
     "metadata": {},
     "output_type": "display_data"
    }
   ],
   "source": [
    "\n",
    "sns.set(rc={\"figure.figsize\":(10,8)})\n",
    "sns.scatterplot(data=active_rolling, x='OEE %', y='CalcOEE')\n",
    "plt.ylim(0,100)\n",
    "plt.xlim(0,100)\n",
    "plt.title('Reported OEE % versus Calculated OEE %')\n",
    "\n",
    "\n"
   ]
  },
  {
   "cell_type": "code",
   "execution_count": 55,
   "metadata": {},
   "outputs": [],
   "source": [
    "active_rolling.OEECalcDiff.fillna(0, inplace=True)"
   ]
  },
  {
   "cell_type": "code",
   "execution_count": 56,
   "metadata": {},
   "outputs": [
    {
     "data": {
      "text/html": [
       "<div>\n",
       "<style scoped>\n",
       "    .dataframe tbody tr th:only-of-type {\n",
       "        vertical-align: middle;\n",
       "    }\n",
       "\n",
       "    .dataframe tbody tr th {\n",
       "        vertical-align: top;\n",
       "    }\n",
       "\n",
       "    .dataframe thead th {\n",
       "        text-align: right;\n",
       "    }\n",
       "</style>\n",
       "<table border=\"1\" class=\"dataframe\">\n",
       "  <thead>\n",
       "    <tr style=\"text-align: right;\">\n",
       "      <th></th>\n",
       "      <th>OEE %</th>\n",
       "      <th>CalcOEE</th>\n",
       "      <th>OEECalcDiff</th>\n",
       "    </tr>\n",
       "  </thead>\n",
       "  <tbody>\n",
       "    <tr>\n",
       "      <th>count</th>\n",
       "      <td>1182.000000</td>\n",
       "      <td>1020.000000</td>\n",
       "      <td>1182.000000</td>\n",
       "    </tr>\n",
       "    <tr>\n",
       "      <th>mean</th>\n",
       "      <td>48.590957</td>\n",
       "      <td>53.721552</td>\n",
       "      <td>0.719978</td>\n",
       "    </tr>\n",
       "    <tr>\n",
       "      <th>std</th>\n",
       "      <td>64.688100</td>\n",
       "      <td>68.182953</td>\n",
       "      <td>3.873912</td>\n",
       "    </tr>\n",
       "    <tr>\n",
       "      <th>min</th>\n",
       "      <td>0.000000</td>\n",
       "      <td>-1.155560</td>\n",
       "      <td>-126.800882</td>\n",
       "    </tr>\n",
       "    <tr>\n",
       "      <th>25%</th>\n",
       "      <td>33.478434</td>\n",
       "      <td>38.777480</td>\n",
       "      <td>0.986035</td>\n",
       "    </tr>\n",
       "    <tr>\n",
       "      <th>50%</th>\n",
       "      <td>46.007879</td>\n",
       "      <td>48.693740</td>\n",
       "      <td>0.999406</td>\n",
       "    </tr>\n",
       "    <tr>\n",
       "      <th>75%</th>\n",
       "      <td>56.642889</td>\n",
       "      <td>58.179859</td>\n",
       "      <td>1.002754</td>\n",
       "    </tr>\n",
       "    <tr>\n",
       "      <th>max</th>\n",
       "      <td>1127.231930</td>\n",
       "      <td>1005.240302</td>\n",
       "      <td>2.160654</td>\n",
       "    </tr>\n",
       "  </tbody>\n",
       "</table>\n",
       "</div>"
      ],
      "text/plain": [
       "             OEE %      CalcOEE  OEECalcDiff\n",
       "count  1182.000000  1020.000000  1182.000000\n",
       "mean     48.590957    53.721552     0.719978\n",
       "std      64.688100    68.182953     3.873912\n",
       "min       0.000000    -1.155560  -126.800882\n",
       "25%      33.478434    38.777480     0.986035\n",
       "50%      46.007879    48.693740     0.999406\n",
       "75%      56.642889    58.179859     1.002754\n",
       "max    1127.231930  1005.240302     2.160654"
      ]
     },
     "execution_count": 56,
     "metadata": {},
     "output_type": "execute_result"
    }
   ],
   "source": [
    "active_rolling[['OEE %','CalcOEE', 'OEECalcDiff']].describe()"
   ]
  },
  {
   "cell_type": "code",
   "execution_count": 57,
   "metadata": {},
   "outputs": [
    {
     "data": {
      "text/html": [
       "<div>\n",
       "<style scoped>\n",
       "    .dataframe tbody tr th:only-of-type {\n",
       "        vertical-align: middle;\n",
       "    }\n",
       "\n",
       "    .dataframe tbody tr th {\n",
       "        vertical-align: top;\n",
       "    }\n",
       "\n",
       "    .dataframe thead th {\n",
       "        text-align: right;\n",
       "    }\n",
       "</style>\n",
       "<table border=\"1\" class=\"dataframe\">\n",
       "  <thead>\n",
       "    <tr style=\"text-align: right;\">\n",
       "      <th></th>\n",
       "      <th>Line</th>\n",
       "      <th>Date</th>\n",
       "      <th>OEE %</th>\n",
       "      <th>Performance %</th>\n",
       "      <th>Availability %</th>\n",
       "      <th>Quality %</th>\n",
       "      <th>Plant</th>\n",
       "      <th>category</th>\n",
       "      <th>CalcOEE</th>\n",
       "      <th>OEECalcDiff</th>\n",
       "    </tr>\n",
       "  </thead>\n",
       "  <tbody>\n",
       "    <tr>\n",
       "      <th>1584</th>\n",
       "      <td>FRA - FF Packaging, HV01</td>\n",
       "      <td>2021-12-26</td>\n",
       "      <td>1127.231930</td>\n",
       "      <td>1140.995226</td>\n",
       "      <td>75.026566</td>\n",
       "      <td>100.000000</td>\n",
       "      <td>FRA</td>\n",
       "      <td>4</td>\n",
       "      <td>856.049536</td>\n",
       "      <td>1.316784</td>\n",
       "    </tr>\n",
       "    <tr>\n",
       "      <th>1784</th>\n",
       "      <td>FRA - FF Packaging, VL44</td>\n",
       "      <td>2021-12-26</td>\n",
       "      <td>598.636515</td>\n",
       "      <td>1427.272873</td>\n",
       "      <td>39.219878</td>\n",
       "      <td>100.000000</td>\n",
       "      <td>FRA</td>\n",
       "      <td>4</td>\n",
       "      <td>559.774676</td>\n",
       "      <td>1.069424</td>\n",
       "    </tr>\n",
       "    <tr>\n",
       "      <th>2062</th>\n",
       "      <td>FRA - FF Packaging, VL6</td>\n",
       "      <td>2021-12-26</td>\n",
       "      <td>891.456514</td>\n",
       "      <td>2622.161796</td>\n",
       "      <td>38.448710</td>\n",
       "      <td>99.707684</td>\n",
       "      <td>FRA</td>\n",
       "      <td>4</td>\n",
       "      <td>1005.240302</td>\n",
       "      <td>0.886809</td>\n",
       "    </tr>\n",
       "    <tr>\n",
       "      <th>3186</th>\n",
       "      <td>LLB - IMA-1 Packaging (SOLD)</td>\n",
       "      <td>2021-11-14</td>\n",
       "      <td>107.707870</td>\n",
       "      <td>148.524727</td>\n",
       "      <td>73.016288</td>\n",
       "      <td>100.000000</td>\n",
       "      <td>LLB</td>\n",
       "      <td>4</td>\n",
       "      <td>108.447242</td>\n",
       "      <td>0.993182</td>\n",
       "    </tr>\n",
       "    <tr>\n",
       "      <th>9948</th>\n",
       "      <td>WAT - LYO INSPECTION</td>\n",
       "      <td>2021-11-21</td>\n",
       "      <td>752.776227</td>\n",
       "      <td>1957.908943</td>\n",
       "      <td>42.497913</td>\n",
       "      <td>100.000000</td>\n",
       "      <td>WAT</td>\n",
       "      <td>4</td>\n",
       "      <td>832.070440</td>\n",
       "      <td>0.904703</td>\n",
       "    </tr>\n",
       "    <tr>\n",
       "      <th>9949</th>\n",
       "      <td>WAT - LYO INSPECTION</td>\n",
       "      <td>2021-11-28</td>\n",
       "      <td>867.794159</td>\n",
       "      <td>2317.030726</td>\n",
       "      <td>41.796131</td>\n",
       "      <td>100.000000</td>\n",
       "      <td>WAT</td>\n",
       "      <td>4</td>\n",
       "      <td>968.429196</td>\n",
       "      <td>0.896084</td>\n",
       "    </tr>\n",
       "    <tr>\n",
       "      <th>9950</th>\n",
       "      <td>WAT - LYO INSPECTION</td>\n",
       "      <td>2021-12-05</td>\n",
       "      <td>804.686024</td>\n",
       "      <td>2096.128158</td>\n",
       "      <td>43.004340</td>\n",
       "      <td>100.000000</td>\n",
       "      <td>WAT</td>\n",
       "      <td>4</td>\n",
       "      <td>901.426086</td>\n",
       "      <td>0.892681</td>\n",
       "    </tr>\n",
       "    <tr>\n",
       "      <th>9951</th>\n",
       "      <td>WAT - LYO INSPECTION</td>\n",
       "      <td>2021-12-12</td>\n",
       "      <td>803.807887</td>\n",
       "      <td>2103.993699</td>\n",
       "      <td>35.108300</td>\n",
       "      <td>100.000000</td>\n",
       "      <td>WAT</td>\n",
       "      <td>4</td>\n",
       "      <td>738.676426</td>\n",
       "      <td>1.088173</td>\n",
       "    </tr>\n",
       "    <tr>\n",
       "      <th>9952</th>\n",
       "      <td>WAT - LYO INSPECTION</td>\n",
       "      <td>2021-12-19</td>\n",
       "      <td>158.914486</td>\n",
       "      <td>475.987034</td>\n",
       "      <td>39.608879</td>\n",
       "      <td>100.000000</td>\n",
       "      <td>WAT</td>\n",
       "      <td>4</td>\n",
       "      <td>188.533128</td>\n",
       "      <td>0.842900</td>\n",
       "    </tr>\n",
       "  </tbody>\n",
       "</table>\n",
       "</div>"
      ],
      "text/plain": [
       "                              Line       Date        OEE %  Performance %  \\\n",
       "1584      FRA - FF Packaging, HV01 2021-12-26  1127.231930    1140.995226   \n",
       "1784      FRA - FF Packaging, VL44 2021-12-26   598.636515    1427.272873   \n",
       "2062       FRA - FF Packaging, VL6 2021-12-26   891.456514    2622.161796   \n",
       "3186  LLB - IMA-1 Packaging (SOLD) 2021-11-14   107.707870     148.524727   \n",
       "9948          WAT - LYO INSPECTION 2021-11-21   752.776227    1957.908943   \n",
       "9949          WAT - LYO INSPECTION 2021-11-28   867.794159    2317.030726   \n",
       "9950          WAT - LYO INSPECTION 2021-12-05   804.686024    2096.128158   \n",
       "9951          WAT - LYO INSPECTION 2021-12-12   803.807887    2103.993699   \n",
       "9952          WAT - LYO INSPECTION 2021-12-19   158.914486     475.987034   \n",
       "\n",
       "      Availability %   Quality % Plant  category      CalcOEE  OEECalcDiff  \n",
       "1584       75.026566  100.000000   FRA         4   856.049536     1.316784  \n",
       "1784       39.219878  100.000000   FRA         4   559.774676     1.069424  \n",
       "2062       38.448710   99.707684   FRA         4  1005.240302     0.886809  \n",
       "3186       73.016288  100.000000   LLB         4   108.447242     0.993182  \n",
       "9948       42.497913  100.000000   WAT         4   832.070440     0.904703  \n",
       "9949       41.796131  100.000000   WAT         4   968.429196     0.896084  \n",
       "9950       43.004340  100.000000   WAT         4   901.426086     0.892681  \n",
       "9951       35.108300  100.000000   WAT         4   738.676426     1.088173  \n",
       "9952       39.608879  100.000000   WAT         4   188.533128     0.842900  "
      ]
     },
     "execution_count": 57,
     "metadata": {},
     "output_type": "execute_result"
    }
   ],
   "source": [
    "active_rolling[active_rolling['OEE %'] > 100]"
   ]
  },
  {
   "cell_type": "code",
   "execution_count": 58,
   "metadata": {},
   "outputs": [
    {
     "data": {
      "text/html": [
       "<div>\n",
       "<style scoped>\n",
       "    .dataframe tbody tr th:only-of-type {\n",
       "        vertical-align: middle;\n",
       "    }\n",
       "\n",
       "    .dataframe tbody tr th {\n",
       "        vertical-align: top;\n",
       "    }\n",
       "\n",
       "    .dataframe thead th {\n",
       "        text-align: right;\n",
       "    }\n",
       "</style>\n",
       "<table border=\"1\" class=\"dataframe\">\n",
       "  <thead>\n",
       "    <tr style=\"text-align: right;\">\n",
       "      <th></th>\n",
       "      <th>Line</th>\n",
       "      <th>Date</th>\n",
       "      <th>OEE %</th>\n",
       "      <th>Performance %</th>\n",
       "      <th>Availability %</th>\n",
       "      <th>Quality %</th>\n",
       "      <th>Plant</th>\n",
       "      <th>category</th>\n",
       "      <th>CalcOEE</th>\n",
       "      <th>OEECalcDiff</th>\n",
       "    </tr>\n",
       "  </thead>\n",
       "  <tbody>\n",
       "    <tr>\n",
       "      <th>34</th>\n",
       "      <td>ELB - Extraction B12 1st cycle</td>\n",
       "      <td>2021-11-07</td>\n",
       "      <td>79.533013</td>\n",
       "      <td>172.574119</td>\n",
       "      <td>47.490781</td>\n",
       "      <td>100.000000</td>\n",
       "      <td>ELB</td>\n",
       "      <td>4</td>\n",
       "      <td>81.956797</td>\n",
       "      <td>0.970426</td>\n",
       "    </tr>\n",
       "    <tr>\n",
       "      <th>35</th>\n",
       "      <td>ELB - Extraction B12 1st cycle</td>\n",
       "      <td>2021-11-14</td>\n",
       "      <td>82.036803</td>\n",
       "      <td>154.393102</td>\n",
       "      <td>53.593807</td>\n",
       "      <td>100.000000</td>\n",
       "      <td>ELB</td>\n",
       "      <td>4</td>\n",
       "      <td>82.745141</td>\n",
       "      <td>0.991440</td>\n",
       "    </tr>\n",
       "    <tr>\n",
       "      <th>36</th>\n",
       "      <td>ELB - Extraction B12 1st cycle</td>\n",
       "      <td>2021-11-21</td>\n",
       "      <td>85.537994</td>\n",
       "      <td>158.633616</td>\n",
       "      <td>54.358192</td>\n",
       "      <td>100.000000</td>\n",
       "      <td>ELB</td>\n",
       "      <td>4</td>\n",
       "      <td>86.230365</td>\n",
       "      <td>0.991971</td>\n",
       "    </tr>\n",
       "    <tr>\n",
       "      <th>37</th>\n",
       "      <td>ELB - Extraction B12 1st cycle</td>\n",
       "      <td>2021-11-28</td>\n",
       "      <td>71.608727</td>\n",
       "      <td>103.289031</td>\n",
       "      <td>32.086806</td>\n",
       "      <td>100.000000</td>\n",
       "      <td>ELB</td>\n",
       "      <td>4</td>\n",
       "      <td>33.142150</td>\n",
       "      <td>2.160654</td>\n",
       "    </tr>\n",
       "    <tr>\n",
       "      <th>322</th>\n",
       "      <td>ELB - FERMENTATION V09</td>\n",
       "      <td>2021-11-07</td>\n",
       "      <td>67.102706</td>\n",
       "      <td>106.529243</td>\n",
       "      <td>64.460507</td>\n",
       "      <td>100.000000</td>\n",
       "      <td>ELB</td>\n",
       "      <td>4</td>\n",
       "      <td>68.669291</td>\n",
       "      <td>0.977187</td>\n",
       "    </tr>\n",
       "    <tr>\n",
       "      <th>...</th>\n",
       "      <td>...</td>\n",
       "      <td>...</td>\n",
       "      <td>...</td>\n",
       "      <td>...</td>\n",
       "      <td>...</td>\n",
       "      <td>...</td>\n",
       "      <td>...</td>\n",
       "      <td>...</td>\n",
       "      <td>...</td>\n",
       "      <td>...</td>\n",
       "    </tr>\n",
       "    <tr>\n",
       "      <th>9975</th>\n",
       "      <td>WAT - LYO Packaging Line 9</td>\n",
       "      <td>2021-11-28</td>\n",
       "      <td>26.462903</td>\n",
       "      <td>126.347437</td>\n",
       "      <td>22.711537</td>\n",
       "      <td>94.364311</td>\n",
       "      <td>WAT</td>\n",
       "      <td>0</td>\n",
       "      <td>27.078259</td>\n",
       "      <td>0.977275</td>\n",
       "    </tr>\n",
       "    <tr>\n",
       "      <th>9976</th>\n",
       "      <td>WAT - LYO Packaging Line 9</td>\n",
       "      <td>2021-12-05</td>\n",
       "      <td>32.589871</td>\n",
       "      <td>164.663977</td>\n",
       "      <td>21.221754</td>\n",
       "      <td>94.987313</td>\n",
       "      <td>WAT</td>\n",
       "      <td>1</td>\n",
       "      <td>33.192922</td>\n",
       "      <td>0.981832</td>\n",
       "    </tr>\n",
       "    <tr>\n",
       "      <th>9977</th>\n",
       "      <td>WAT - LYO Packaging Line 9</td>\n",
       "      <td>2021-12-12</td>\n",
       "      <td>33.162075</td>\n",
       "      <td>152.586467</td>\n",
       "      <td>23.514165</td>\n",
       "      <td>95.569884</td>\n",
       "      <td>WAT</td>\n",
       "      <td>1</td>\n",
       "      <td>34.289933</td>\n",
       "      <td>0.967108</td>\n",
       "    </tr>\n",
       "    <tr>\n",
       "      <th>9978</th>\n",
       "      <td>WAT - LYO Packaging Line 9</td>\n",
       "      <td>2021-12-19</td>\n",
       "      <td>37.531273</td>\n",
       "      <td>154.902523</td>\n",
       "      <td>26.594611</td>\n",
       "      <td>94.794501</td>\n",
       "      <td>WAT</td>\n",
       "      <td>1</td>\n",
       "      <td>39.051280</td>\n",
       "      <td>0.961077</td>\n",
       "    </tr>\n",
       "    <tr>\n",
       "      <th>9979</th>\n",
       "      <td>WAT - LYO Packaging Line 9</td>\n",
       "      <td>2021-12-26</td>\n",
       "      <td>35.630578</td>\n",
       "      <td>155.354509</td>\n",
       "      <td>25.136070</td>\n",
       "      <td>94.808234</td>\n",
       "      <td>WAT</td>\n",
       "      <td>1</td>\n",
       "      <td>37.022633</td>\n",
       "      <td>0.962400</td>\n",
       "    </tr>\n",
       "  </tbody>\n",
       "</table>\n",
       "<p>147 rows × 10 columns</p>\n",
       "</div>"
      ],
      "text/plain": [
       "                                Line       Date      OEE %  Performance %  \\\n",
       "34    ELB - Extraction B12 1st cycle 2021-11-07  79.533013     172.574119   \n",
       "35    ELB - Extraction B12 1st cycle 2021-11-14  82.036803     154.393102   \n",
       "36    ELB - Extraction B12 1st cycle 2021-11-21  85.537994     158.633616   \n",
       "37    ELB - Extraction B12 1st cycle 2021-11-28  71.608727     103.289031   \n",
       "322           ELB - FERMENTATION V09 2021-11-07  67.102706     106.529243   \n",
       "...                              ...        ...        ...            ...   \n",
       "9975      WAT - LYO Packaging Line 9 2021-11-28  26.462903     126.347437   \n",
       "9976      WAT - LYO Packaging Line 9 2021-12-05  32.589871     164.663977   \n",
       "9977      WAT - LYO Packaging Line 9 2021-12-12  33.162075     152.586467   \n",
       "9978      WAT - LYO Packaging Line 9 2021-12-19  37.531273     154.902523   \n",
       "9979      WAT - LYO Packaging Line 9 2021-12-26  35.630578     155.354509   \n",
       "\n",
       "      Availability %   Quality % Plant  category    CalcOEE  OEECalcDiff  \n",
       "34         47.490781  100.000000   ELB         4  81.956797     0.970426  \n",
       "35         53.593807  100.000000   ELB         4  82.745141     0.991440  \n",
       "36         54.358192  100.000000   ELB         4  86.230365     0.991971  \n",
       "37         32.086806  100.000000   ELB         4  33.142150     2.160654  \n",
       "322        64.460507  100.000000   ELB         4  68.669291     0.977187  \n",
       "...              ...         ...   ...       ...        ...          ...  \n",
       "9975       22.711537   94.364311   WAT         0  27.078259     0.977275  \n",
       "9976       21.221754   94.987313   WAT         1  33.192922     0.981832  \n",
       "9977       23.514165   95.569884   WAT         1  34.289933     0.967108  \n",
       "9978       26.594611   94.794501   WAT         1  39.051280     0.961077  \n",
       "9979       25.136070   94.808234   WAT         1  37.022633     0.962400  \n",
       "\n",
       "[147 rows x 10 columns]"
      ]
     },
     "execution_count": 58,
     "metadata": {},
     "output_type": "execute_result"
    }
   ],
   "source": [
    "active_rolling[active_rolling['Performance %'] > 100]"
   ]
  },
  {
   "cell_type": "code",
   "execution_count": 59,
   "metadata": {},
   "outputs": [
    {
     "data": {
      "text/html": [
       "<div>\n",
       "<style scoped>\n",
       "    .dataframe tbody tr th:only-of-type {\n",
       "        vertical-align: middle;\n",
       "    }\n",
       "\n",
       "    .dataframe tbody tr th {\n",
       "        vertical-align: top;\n",
       "    }\n",
       "\n",
       "    .dataframe thead th {\n",
       "        text-align: right;\n",
       "    }\n",
       "</style>\n",
       "<table border=\"1\" class=\"dataframe\">\n",
       "  <thead>\n",
       "    <tr style=\"text-align: right;\">\n",
       "      <th></th>\n",
       "      <th>OEE %</th>\n",
       "      <th>Performance %</th>\n",
       "      <th>Availability %</th>\n",
       "    </tr>\n",
       "  </thead>\n",
       "  <tbody>\n",
       "    <tr>\n",
       "      <th>count</th>\n",
       "      <td>1182.000000</td>\n",
       "      <td>1118.000000</td>\n",
       "      <td>1182.000000</td>\n",
       "    </tr>\n",
       "    <tr>\n",
       "      <th>mean</th>\n",
       "      <td>48.590957</td>\n",
       "      <td>95.897691</td>\n",
       "      <td>55.939961</td>\n",
       "    </tr>\n",
       "    <tr>\n",
       "      <th>std</th>\n",
       "      <td>64.688100</td>\n",
       "      <td>161.044499</td>\n",
       "      <td>17.687992</td>\n",
       "    </tr>\n",
       "    <tr>\n",
       "      <th>min</th>\n",
       "      <td>0.000000</td>\n",
       "      <td>-42.717650</td>\n",
       "      <td>-54.973380</td>\n",
       "    </tr>\n",
       "    <tr>\n",
       "      <th>25%</th>\n",
       "      <td>33.478434</td>\n",
       "      <td>69.838758</td>\n",
       "      <td>46.448800</td>\n",
       "    </tr>\n",
       "    <tr>\n",
       "      <th>50%</th>\n",
       "      <td>46.007879</td>\n",
       "      <td>81.755147</td>\n",
       "      <td>58.233422</td>\n",
       "    </tr>\n",
       "    <tr>\n",
       "      <th>75%</th>\n",
       "      <td>56.642889</td>\n",
       "      <td>92.749796</td>\n",
       "      <td>67.961594</td>\n",
       "    </tr>\n",
       "    <tr>\n",
       "      <th>max</th>\n",
       "      <td>1127.231930</td>\n",
       "      <td>2622.161796</td>\n",
       "      <td>100.000000</td>\n",
       "    </tr>\n",
       "  </tbody>\n",
       "</table>\n",
       "</div>"
      ],
      "text/plain": [
       "             OEE %  Performance %  Availability %\n",
       "count  1182.000000    1118.000000     1182.000000\n",
       "mean     48.590957      95.897691       55.939961\n",
       "std      64.688100     161.044499       17.687992\n",
       "min       0.000000     -42.717650      -54.973380\n",
       "25%      33.478434      69.838758       46.448800\n",
       "50%      46.007879      81.755147       58.233422\n",
       "75%      56.642889      92.749796       67.961594\n",
       "max    1127.231930    2622.161796      100.000000"
      ]
     },
     "execution_count": 59,
     "metadata": {},
     "output_type": "execute_result"
    }
   ],
   "source": [
    "active_rolling[['OEE %','Performance %','Availability %']].describe()"
   ]
  },
  {
   "cell_type": "code",
   "execution_count": null,
   "metadata": {},
   "outputs": [],
   "source": []
  },
  {
   "cell_type": "code",
   "execution_count": null,
   "metadata": {},
   "outputs": [],
   "source": []
  }
 ],
 "metadata": {
  "interpreter": {
   "hash": "dc38ca91b741400ca81ff193f73ec074f6545a5dbac62412cc25190e340b3fbc"
  },
  "kernelspec": {
   "display_name": "Python 3",
   "language": "python",
   "name": "python3"
  },
  "language_info": {
   "codemirror_mode": {
    "name": "ipython",
    "version": 3
   },
   "file_extension": ".py",
   "mimetype": "text/x-python",
   "name": "python",
   "nbconvert_exporter": "python",
   "pygments_lexer": "ipython3",
   "version": "3.9.9"
  }
 },
 "nbformat": 4,
 "nbformat_minor": 2
}
