{
 "cells": [
  {
   "cell_type": "code",
   "execution_count": 15,
   "metadata": {},
   "outputs": [],
   "source": [
    "import pandas as pd\n",
    "import numpy as np\n",
    "\n",
    "# data viz\n",
    "import plotly.express as px\n",
    "import matplotlib.pyplot as plt\n",
    "import plotly.graph_objects as go\n",
    "\n",
    "plt.style.use('fivethirtyeight')\n",
    "\n",
    "import os\n",
    "import datetime\n",
    "\n",
    "import set_config"
   ]
  },
  {
   "cell_type": "code",
   "execution_count": 16,
   "metadata": {},
   "outputs": [
    {
     "name": "stdout",
     "output_type": "stream",
     "text": [
      "dir_sanofi_share is C:/Users/mark_/Sanofi/Sanofi x McLaren sharing - General/Frankfurt sprint/SFD/\n",
      "dir_local is C:/Users/mark_/Documents/McLaren2021/Sanofi/\n",
      "dir_race is C:/Users/mark_/Sanofi/Sanofi x McLaren sharing - General/Race Dashboard data\n"
     ]
    }
   ],
   "source": [
    "dir_local = set_config.ConfigSectionMap(\"SectionOne\")['local']\n",
    "dir_sanofi_share = set_config.ConfigSectionMap(\"SectionOne\")['sanofi']\n",
    "dir_race = set_config.ConfigSectionMap(\"SectionOne\")['race']\n",
    "\n",
    "print (\"dir_sanofi_share is %s\" % (dir_sanofi_share))\n",
    "print (\"dir_local is %s\" % (dir_local))\n",
    "print (\"dir_race is %s\" % (dir_race))\n"
   ]
  },
  {
   "cell_type": "code",
   "execution_count": 17,
   "metadata": {},
   "outputs": [],
   "source": [
    "filename = 'oee_extracts_all_sites.xlsx'\n",
    "path = os.path.join(dir_sanofi_share, filename)\n",
    "df = pd.read_excel(path, na_values=('-'))"
   ]
  },
  {
   "cell_type": "code",
   "execution_count": 18,
   "metadata": {},
   "outputs": [],
   "source": [
    "df.dropna(subset={'Week'}, inplace=True)\n",
    "df[['OEE %','Changeover','Availability %','Performance %']] = df[['OEE %','Changeover','Availability %','Performance %']].mul(100)"
   ]
  },
  {
   "cell_type": "code",
   "execution_count": 19,
   "metadata": {},
   "outputs": [
    {
     "data": {
      "text/html": [
       "<div>\n",
       "<style scoped>\n",
       "    .dataframe tbody tr th:only-of-type {\n",
       "        vertical-align: middle;\n",
       "    }\n",
       "\n",
       "    .dataframe tbody tr th {\n",
       "        vertical-align: top;\n",
       "    }\n",
       "\n",
       "    .dataframe thead th {\n",
       "        text-align: right;\n",
       "    }\n",
       "</style>\n",
       "<table border=\"1\" class=\"dataframe\">\n",
       "  <thead>\n",
       "    <tr style=\"text-align: right;\">\n",
       "      <th></th>\n",
       "      <th>Week</th>\n",
       "      <th>Line</th>\n",
       "      <th>OEE %</th>\n",
       "      <th>Changeover</th>\n",
       "      <th>Unplanned_tech_loss</th>\n",
       "      <th>Availability %</th>\n",
       "      <th>Performance %</th>\n",
       "      <th>WeekOfYear</th>\n",
       "      <th>Year</th>\n",
       "      <th>Date</th>\n",
       "    </tr>\n",
       "  </thead>\n",
       "  <tbody>\n",
       "    <tr>\n",
       "      <th>24</th>\n",
       "      <td>W01-2020</td>\n",
       "      <td>LSX - 1030 Packaging Line</td>\n",
       "      <td>51.963834</td>\n",
       "      <td>6.991830</td>\n",
       "      <td>0.211838</td>\n",
       "      <td>71.102124</td>\n",
       "      <td>73.083378</td>\n",
       "      <td>1</td>\n",
       "      <td>2020</td>\n",
       "      <td>2020-01-12</td>\n",
       "    </tr>\n",
       "    <tr>\n",
       "      <th>25</th>\n",
       "      <td>W01-2020</td>\n",
       "      <td>LSX - 1070-1 Packaging Line</td>\n",
       "      <td>35.919900</td>\n",
       "      <td>6.247921</td>\n",
       "      <td>0.470711</td>\n",
       "      <td>47.417234</td>\n",
       "      <td>76.242102</td>\n",
       "      <td>1</td>\n",
       "      <td>2020</td>\n",
       "      <td>2020-01-12</td>\n",
       "    </tr>\n",
       "    <tr>\n",
       "      <th>26</th>\n",
       "      <td>W01-2020</td>\n",
       "      <td>LSX - 1070-2 Packaging Line</td>\n",
       "      <td>3.129890</td>\n",
       "      <td>0.000000</td>\n",
       "      <td>0.000000</td>\n",
       "      <td>100.000000</td>\n",
       "      <td>3.129890</td>\n",
       "      <td>1</td>\n",
       "      <td>2020</td>\n",
       "      <td>2020-01-12</td>\n",
       "    </tr>\n",
       "    <tr>\n",
       "      <th>27</th>\n",
       "      <td>W01-2020</td>\n",
       "      <td>LSX - C65-1 Packaging Line</td>\n",
       "      <td>39.046651</td>\n",
       "      <td>13.997290</td>\n",
       "      <td>0.296680</td>\n",
       "      <td>60.164860</td>\n",
       "      <td>64.967799</td>\n",
       "      <td>1</td>\n",
       "      <td>2020</td>\n",
       "      <td>2020-01-12</td>\n",
       "    </tr>\n",
       "    <tr>\n",
       "      <th>28</th>\n",
       "      <td>W01-2020</td>\n",
       "      <td>LSX - C65-2 Packaging Line</td>\n",
       "      <td>15.830116</td>\n",
       "      <td>8.909910</td>\n",
       "      <td>0.137793</td>\n",
       "      <td>70.655405</td>\n",
       "      <td>22.404678</td>\n",
       "      <td>1</td>\n",
       "      <td>2020</td>\n",
       "      <td>2020-01-12</td>\n",
       "    </tr>\n",
       "  </tbody>\n",
       "</table>\n",
       "</div>"
      ],
      "text/plain": [
       "        Week                         Line      OEE %  Changeover  \\\n",
       "24  W01-2020    LSX - 1030 Packaging Line  51.963834    6.991830   \n",
       "25  W01-2020  LSX - 1070-1 Packaging Line  35.919900    6.247921   \n",
       "26  W01-2020  LSX - 1070-2 Packaging Line   3.129890    0.000000   \n",
       "27  W01-2020   LSX - C65-1 Packaging Line  39.046651   13.997290   \n",
       "28  W01-2020   LSX - C65-2 Packaging Line  15.830116    8.909910   \n",
       "\n",
       "    Unplanned_tech_loss  Availability %  Performance %  WeekOfYear  Year  \\\n",
       "24             0.211838       71.102124      73.083378           1  2020   \n",
       "25             0.470711       47.417234      76.242102           1  2020   \n",
       "26             0.000000      100.000000       3.129890           1  2020   \n",
       "27             0.296680       60.164860      64.967799           1  2020   \n",
       "28             0.137793       70.655405      22.404678           1  2020   \n",
       "\n",
       "         Date  \n",
       "24 2020-01-12  \n",
       "25 2020-01-12  \n",
       "26 2020-01-12  \n",
       "27 2020-01-12  \n",
       "28 2020-01-12  "
      ]
     },
     "execution_count": 19,
     "metadata": {},
     "output_type": "execute_result"
    }
   ],
   "source": [
    "df['WeekOfYear'] = pd.to_numeric(df['Week'].str[1:3])\n",
    "df['Year'] = pd.to_numeric(df['Week'].str[4:])\n",
    "dates = df.Year*100+df.WeekOfYear\n",
    "df['Date'] = pd.to_datetime(dates.astype(str) + '0', format='%Y%W%w')\n",
    "df.head()"
   ]
  },
  {
   "cell_type": "code",
   "execution_count": 20,
   "metadata": {},
   "outputs": [
    {
     "data": {
      "text/html": [
       "<div>\n",
       "<style scoped>\n",
       "    .dataframe tbody tr th:only-of-type {\n",
       "        vertical-align: middle;\n",
       "    }\n",
       "\n",
       "    .dataframe tbody tr th {\n",
       "        vertical-align: top;\n",
       "    }\n",
       "\n",
       "    .dataframe thead th {\n",
       "        text-align: right;\n",
       "    }\n",
       "</style>\n",
       "<table border=\"1\" class=\"dataframe\">\n",
       "  <thead>\n",
       "    <tr style=\"text-align: right;\">\n",
       "      <th></th>\n",
       "      <th>Week</th>\n",
       "      <th>Line</th>\n",
       "      <th>OEE %</th>\n",
       "      <th>Changeover</th>\n",
       "      <th>Unplanned_tech_loss</th>\n",
       "      <th>Availability %</th>\n",
       "      <th>Performance %</th>\n",
       "      <th>WeekOfYear</th>\n",
       "      <th>Year</th>\n",
       "      <th>Date</th>\n",
       "    </tr>\n",
       "  </thead>\n",
       "  <tbody>\n",
       "    <tr>\n",
       "      <th>24</th>\n",
       "      <td>W01-2020</td>\n",
       "      <td>LSX - 1030 Packaging Line</td>\n",
       "      <td>51.963834</td>\n",
       "      <td>6.991830</td>\n",
       "      <td>0.211838</td>\n",
       "      <td>71.102124</td>\n",
       "      <td>73.083378</td>\n",
       "      <td>1</td>\n",
       "      <td>2020</td>\n",
       "      <td>2020-01-12</td>\n",
       "    </tr>\n",
       "    <tr>\n",
       "      <th>25</th>\n",
       "      <td>W01-2020</td>\n",
       "      <td>LSX - 1070-1 Packaging Line</td>\n",
       "      <td>35.919900</td>\n",
       "      <td>6.247921</td>\n",
       "      <td>0.470711</td>\n",
       "      <td>47.417234</td>\n",
       "      <td>76.242102</td>\n",
       "      <td>1</td>\n",
       "      <td>2020</td>\n",
       "      <td>2020-01-12</td>\n",
       "    </tr>\n",
       "    <tr>\n",
       "      <th>26</th>\n",
       "      <td>W01-2020</td>\n",
       "      <td>LSX - 1070-2 Packaging Line</td>\n",
       "      <td>3.129890</td>\n",
       "      <td>0.000000</td>\n",
       "      <td>0.000000</td>\n",
       "      <td>100.000000</td>\n",
       "      <td>3.129890</td>\n",
       "      <td>1</td>\n",
       "      <td>2020</td>\n",
       "      <td>2020-01-12</td>\n",
       "    </tr>\n",
       "    <tr>\n",
       "      <th>27</th>\n",
       "      <td>W01-2020</td>\n",
       "      <td>LSX - C65-1 Packaging Line</td>\n",
       "      <td>39.046651</td>\n",
       "      <td>13.997290</td>\n",
       "      <td>0.296680</td>\n",
       "      <td>60.164860</td>\n",
       "      <td>64.967799</td>\n",
       "      <td>1</td>\n",
       "      <td>2020</td>\n",
       "      <td>2020-01-12</td>\n",
       "    </tr>\n",
       "    <tr>\n",
       "      <th>28</th>\n",
       "      <td>W01-2020</td>\n",
       "      <td>LSX - C65-2 Packaging Line</td>\n",
       "      <td>15.830116</td>\n",
       "      <td>8.909910</td>\n",
       "      <td>0.137793</td>\n",
       "      <td>70.655405</td>\n",
       "      <td>22.404678</td>\n",
       "      <td>1</td>\n",
       "      <td>2020</td>\n",
       "      <td>2020-01-12</td>\n",
       "    </tr>\n",
       "    <tr>\n",
       "      <th>...</th>\n",
       "      <td>...</td>\n",
       "      <td>...</td>\n",
       "      <td>...</td>\n",
       "      <td>...</td>\n",
       "      <td>...</td>\n",
       "      <td>...</td>\n",
       "      <td>...</td>\n",
       "      <td>...</td>\n",
       "      <td>...</td>\n",
       "      <td>...</td>\n",
       "    </tr>\n",
       "    <tr>\n",
       "      <th>8935</th>\n",
       "      <td>W53-2020</td>\n",
       "      <td>TRS - L19 Packaging Line</td>\n",
       "      <td>NaN</td>\n",
       "      <td>NaN</td>\n",
       "      <td>NaN</td>\n",
       "      <td>NaN</td>\n",
       "      <td>NaN</td>\n",
       "      <td>53</td>\n",
       "      <td>2020</td>\n",
       "      <td>2021-01-10</td>\n",
       "    </tr>\n",
       "    <tr>\n",
       "      <th>8936</th>\n",
       "      <td>W53-2020</td>\n",
       "      <td>TRS - L21 Packaging Line</td>\n",
       "      <td>NaN</td>\n",
       "      <td>NaN</td>\n",
       "      <td>NaN</td>\n",
       "      <td>NaN</td>\n",
       "      <td>NaN</td>\n",
       "      <td>53</td>\n",
       "      <td>2020</td>\n",
       "      <td>2021-01-10</td>\n",
       "    </tr>\n",
       "    <tr>\n",
       "      <th>8937</th>\n",
       "      <td>W53-2020</td>\n",
       "      <td>TRS - L22 Packaging Line</td>\n",
       "      <td>NaN</td>\n",
       "      <td>NaN</td>\n",
       "      <td>NaN</td>\n",
       "      <td>NaN</td>\n",
       "      <td>NaN</td>\n",
       "      <td>53</td>\n",
       "      <td>2020</td>\n",
       "      <td>2021-01-10</td>\n",
       "    </tr>\n",
       "    <tr>\n",
       "      <th>8938</th>\n",
       "      <td>W53-2020</td>\n",
       "      <td>TRS - L24 Packaging Line</td>\n",
       "      <td>NaN</td>\n",
       "      <td>NaN</td>\n",
       "      <td>NaN</td>\n",
       "      <td>NaN</td>\n",
       "      <td>NaN</td>\n",
       "      <td>53</td>\n",
       "      <td>2020</td>\n",
       "      <td>2021-01-10</td>\n",
       "    </tr>\n",
       "    <tr>\n",
       "      <th>8939</th>\n",
       "      <td>W53-2020</td>\n",
       "      <td>TRS - L25 Packaging Line</td>\n",
       "      <td>NaN</td>\n",
       "      <td>NaN</td>\n",
       "      <td>NaN</td>\n",
       "      <td>NaN</td>\n",
       "      <td>NaN</td>\n",
       "      <td>53</td>\n",
       "      <td>2020</td>\n",
       "      <td>2021-01-10</td>\n",
       "    </tr>\n",
       "  </tbody>\n",
       "</table>\n",
       "<p>8916 rows × 10 columns</p>\n",
       "</div>"
      ],
      "text/plain": [
       "          Week                         Line      OEE %  Changeover  \\\n",
       "24    W01-2020    LSX - 1030 Packaging Line  51.963834    6.991830   \n",
       "25    W01-2020  LSX - 1070-1 Packaging Line  35.919900    6.247921   \n",
       "26    W01-2020  LSX - 1070-2 Packaging Line   3.129890    0.000000   \n",
       "27    W01-2020   LSX - C65-1 Packaging Line  39.046651   13.997290   \n",
       "28    W01-2020   LSX - C65-2 Packaging Line  15.830116    8.909910   \n",
       "...        ...                          ...        ...         ...   \n",
       "8935  W53-2020     TRS - L19 Packaging Line        NaN         NaN   \n",
       "8936  W53-2020     TRS - L21 Packaging Line        NaN         NaN   \n",
       "8937  W53-2020     TRS - L22 Packaging Line        NaN         NaN   \n",
       "8938  W53-2020     TRS - L24 Packaging Line        NaN         NaN   \n",
       "8939  W53-2020     TRS - L25 Packaging Line        NaN         NaN   \n",
       "\n",
       "      Unplanned_tech_loss  Availability %  Performance %  WeekOfYear  Year  \\\n",
       "24               0.211838       71.102124      73.083378           1  2020   \n",
       "25               0.470711       47.417234      76.242102           1  2020   \n",
       "26               0.000000      100.000000       3.129890           1  2020   \n",
       "27               0.296680       60.164860      64.967799           1  2020   \n",
       "28               0.137793       70.655405      22.404678           1  2020   \n",
       "...                   ...             ...            ...         ...   ...   \n",
       "8935                  NaN             NaN            NaN          53  2020   \n",
       "8936                  NaN             NaN            NaN          53  2020   \n",
       "8937                  NaN             NaN            NaN          53  2020   \n",
       "8938                  NaN             NaN            NaN          53  2020   \n",
       "8939                  NaN             NaN            NaN          53  2020   \n",
       "\n",
       "           Date  \n",
       "24   2020-01-12  \n",
       "25   2020-01-12  \n",
       "26   2020-01-12  \n",
       "27   2020-01-12  \n",
       "28   2020-01-12  \n",
       "...         ...  \n",
       "8935 2021-01-10  \n",
       "8936 2021-01-10  \n",
       "8937 2021-01-10  \n",
       "8938 2021-01-10  \n",
       "8939 2021-01-10  \n",
       "\n",
       "[8916 rows x 10 columns]"
      ]
     },
     "execution_count": 20,
     "metadata": {},
     "output_type": "execute_result"
    }
   ],
   "source": [
    "df.dropna(subset=['WeekOfYear'], inplace=True)\n",
    "df\n",
    "# df"
   ]
  },
  {
   "cell_type": "code",
   "execution_count": 21,
   "metadata": {},
   "outputs": [],
   "source": [
    "df.set_index('Date', inplace=True)\n",
    "df.sort_index(inplace=True)"
   ]
  },
  {
   "cell_type": "code",
   "execution_count": 22,
   "metadata": {
    "scrolled": true
   },
   "outputs": [],
   "source": [
    "rolling_avg = df.groupby('Line')[['OEE %','Performance %','Availability %']].rolling(window=4).mean().reset_index()\n",
    "\n",
    "# keep the data after this start date\n",
    "start_date = '2021-11-01'\n",
    "\n",
    "rolling_avg = rolling_avg[rolling_avg.Date >= start_date]\n",
    "\n",
    "# keep only the lines actively reporting OEE \n",
    "active_rolling = rolling_avg.dropna(subset={'OEE %'}).copy()"
   ]
  },
  {
   "cell_type": "code",
   "execution_count": 23,
   "metadata": {},
   "outputs": [
    {
     "name": "stdout",
     "output_type": "stream",
     "text": [
      "Number of Unique Plants/Factories: 19\n",
      "Number of Unique Lines: 231\n",
      "Number of Unique Lines recording OEE % values: 169\n"
     ]
    }
   ],
   "source": [
    "print (\"Number of Unique Plants/Factories: {}\".format(len(rolling_avg.Line.str[:3].unique())))\n",
    "print (\"Number of Unique Lines: {}\".format(len(rolling_avg.Line.unique())))\n",
    "print (\"Number of Unique Lines recording OEE % values: {}\".format(len(rolling_avg[rolling_avg['OEE %'] > 0].Line.unique())))"
   ]
  },
  {
   "cell_type": "code",
   "execution_count": 24,
   "metadata": {},
   "outputs": [
    {
     "data": {
      "text/html": [
       "<div>\n",
       "<style scoped>\n",
       "    .dataframe tbody tr th:only-of-type {\n",
       "        vertical-align: middle;\n",
       "    }\n",
       "\n",
       "    .dataframe tbody tr th {\n",
       "        vertical-align: top;\n",
       "    }\n",
       "\n",
       "    .dataframe thead th {\n",
       "        text-align: right;\n",
       "    }\n",
       "</style>\n",
       "<table border=\"1\" class=\"dataframe\">\n",
       "  <thead>\n",
       "    <tr style=\"text-align: right;\">\n",
       "      <th></th>\n",
       "      <th>Line</th>\n",
       "      <th>Date</th>\n",
       "      <th>OEE %</th>\n",
       "      <th>Performance %</th>\n",
       "      <th>Availability %</th>\n",
       "      <th>Plant</th>\n",
       "    </tr>\n",
       "  </thead>\n",
       "  <tbody>\n",
       "    <tr>\n",
       "      <th>23</th>\n",
       "      <td>ELB - Extraction B12 1st cycle</td>\n",
       "      <td>2021-11-07</td>\n",
       "      <td>79.533013</td>\n",
       "      <td>172.574119</td>\n",
       "      <td>47.490781</td>\n",
       "      <td>ELB</td>\n",
       "    </tr>\n",
       "    <tr>\n",
       "      <th>24</th>\n",
       "      <td>ELB - Extraction B12 1st cycle</td>\n",
       "      <td>2021-11-14</td>\n",
       "      <td>82.036803</td>\n",
       "      <td>154.393102</td>\n",
       "      <td>53.593807</td>\n",
       "      <td>ELB</td>\n",
       "    </tr>\n",
       "    <tr>\n",
       "      <th>25</th>\n",
       "      <td>ELB - Extraction B12 1st cycle</td>\n",
       "      <td>2021-11-21</td>\n",
       "      <td>85.537994</td>\n",
       "      <td>158.633616</td>\n",
       "      <td>54.358192</td>\n",
       "      <td>ELB</td>\n",
       "    </tr>\n",
       "    <tr>\n",
       "      <th>26</th>\n",
       "      <td>ELB - Extraction B12 1st cycle</td>\n",
       "      <td>2021-11-28</td>\n",
       "      <td>71.608727</td>\n",
       "      <td>103.289031</td>\n",
       "      <td>32.086806</td>\n",
       "      <td>ELB</td>\n",
       "    </tr>\n",
       "    <tr>\n",
       "      <th>27</th>\n",
       "      <td>ELB - Extraction B12 1st cycle</td>\n",
       "      <td>2021-12-05</td>\n",
       "      <td>57.727023</td>\n",
       "      <td>57.620507</td>\n",
       "      <td>-0.790096</td>\n",
       "      <td>ELB</td>\n",
       "    </tr>\n",
       "    <tr>\n",
       "      <th>...</th>\n",
       "      <td>...</td>\n",
       "      <td>...</td>\n",
       "      <td>...</td>\n",
       "      <td>...</td>\n",
       "      <td>...</td>\n",
       "      <td>...</td>\n",
       "    </tr>\n",
       "    <tr>\n",
       "      <th>8909</th>\n",
       "      <td>WAT - LYO Packaging Line 9</td>\n",
       "      <td>2021-11-14</td>\n",
       "      <td>16.698821</td>\n",
       "      <td>76.916378</td>\n",
       "      <td>29.012684</td>\n",
       "      <td>WAT</td>\n",
       "    </tr>\n",
       "    <tr>\n",
       "      <th>8910</th>\n",
       "      <td>WAT - LYO Packaging Line 9</td>\n",
       "      <td>2021-11-21</td>\n",
       "      <td>22.241672</td>\n",
       "      <td>104.153394</td>\n",
       "      <td>23.663588</td>\n",
       "      <td>WAT</td>\n",
       "    </tr>\n",
       "    <tr>\n",
       "      <th>8911</th>\n",
       "      <td>WAT - LYO Packaging Line 9</td>\n",
       "      <td>2021-11-28</td>\n",
       "      <td>26.462903</td>\n",
       "      <td>126.347437</td>\n",
       "      <td>22.711537</td>\n",
       "      <td>WAT</td>\n",
       "    </tr>\n",
       "    <tr>\n",
       "      <th>8912</th>\n",
       "      <td>WAT - LYO Packaging Line 9</td>\n",
       "      <td>2021-12-05</td>\n",
       "      <td>30.637254</td>\n",
       "      <td>164.660714</td>\n",
       "      <td>20.307421</td>\n",
       "      <td>WAT</td>\n",
       "    </tr>\n",
       "    <tr>\n",
       "      <th>8913</th>\n",
       "      <td>WAT - LYO Packaging Line 9</td>\n",
       "      <td>2021-12-12</td>\n",
       "      <td>33.505064</td>\n",
       "      <td>156.210188</td>\n",
       "      <td>23.726560</td>\n",
       "      <td>WAT</td>\n",
       "    </tr>\n",
       "  </tbody>\n",
       "</table>\n",
       "<p>785 rows × 6 columns</p>\n",
       "</div>"
      ],
      "text/plain": [
       "                                Line       Date      OEE %  Performance %  \\\n",
       "23    ELB - Extraction B12 1st cycle 2021-11-07  79.533013     172.574119   \n",
       "24    ELB - Extraction B12 1st cycle 2021-11-14  82.036803     154.393102   \n",
       "25    ELB - Extraction B12 1st cycle 2021-11-21  85.537994     158.633616   \n",
       "26    ELB - Extraction B12 1st cycle 2021-11-28  71.608727     103.289031   \n",
       "27    ELB - Extraction B12 1st cycle 2021-12-05  57.727023      57.620507   \n",
       "...                              ...        ...        ...            ...   \n",
       "8909      WAT - LYO Packaging Line 9 2021-11-14  16.698821      76.916378   \n",
       "8910      WAT - LYO Packaging Line 9 2021-11-21  22.241672     104.153394   \n",
       "8911      WAT - LYO Packaging Line 9 2021-11-28  26.462903     126.347437   \n",
       "8912      WAT - LYO Packaging Line 9 2021-12-05  30.637254     164.660714   \n",
       "8913      WAT - LYO Packaging Line 9 2021-12-12  33.505064     156.210188   \n",
       "\n",
       "      Availability % Plant  \n",
       "23         47.490781   ELB  \n",
       "24         53.593807   ELB  \n",
       "25         54.358192   ELB  \n",
       "26         32.086806   ELB  \n",
       "27         -0.790096   ELB  \n",
       "...              ...   ...  \n",
       "8909       29.012684   WAT  \n",
       "8910       23.663588   WAT  \n",
       "8911       22.711537   WAT  \n",
       "8912       20.307421   WAT  \n",
       "8913       23.726560   WAT  \n",
       "\n",
       "[785 rows x 6 columns]"
      ]
     },
     "execution_count": 24,
     "metadata": {},
     "output_type": "execute_result"
    }
   ],
   "source": [
    "#  create a Plant column from first 3 chars of Line - will do properly later\n",
    "active_rolling['Plant'] = active_rolling.Line.str[:3]\n",
    "active_rolling"
   ]
  },
  {
   "cell_type": "code",
   "execution_count": 25,
   "metadata": {},
   "outputs": [
    {
     "data": {
      "application/vnd.plotly.v1+json": {
       "config": {
        "plotlyServerURL": "https://plot.ly"
       },
       "data": [
        {
         "alignmentgroup": "True",
         "hovertemplate": "Line=%{x}<br>OEE %=%{y}<extra></extra>",
         "legendgroup": "",
         "marker": {
          "color": "#636efa",
          "pattern": {
           "shape": ""
          }
         },
         "name": "",
         "offsetgroup": "",
         "orientation": "v",
         "showlegend": false,
         "textposition": "auto",
         "type": "bar",
         "x": [
          "WAT - LYO INSPECTION",
          "WAT - AIL1 Packaging",
          "HZG - Bottle Packaging line 7",
          "MAF - I2 Inspection Line",
          "HZG - Blister packaging line 1",
          "MAF - I4 Inspection Line",
          "HZG - Bottle Packaging line 6",
          "OCO - UHLMANN 1 Packaging Line",
          "HZG - Blister packaging line 4",
          "SUZ - NIKKA",
          "LSX - C65-2 Packaging Line",
          "SZX - Packaging line 3",
          "OCO - UHLMANN 2 Packaging Line",
          "SCO - IMA C80/2",
          "MAF - R1 Filling Line",
          "ORI - EG123",
          "HZG - Semi-automatic Packaging line",
          "SUZ - NEWMAN",
          "FRA - Devices AI, Semi 120-1 Assembly",
          "LSX - C65-1 Packaging Line",
          "LSX - SIG2 Packaging Line",
          "SUZ - FETTE 2090 IV",
          "SUZ - TARGIFOR",
          "HZG - Blister packaging line 2",
          "SUZ - POMADAS",
          "MAF - I6 Inspection Line",
          "MAF - C9 Packaging Line",
          "LLB - Bosch-1 Packaging (CEPH)",
          "FRA - FF NLP, M21 Filling",
          "LLB - Huttlin-1 Granulation",
          "RDG - H6 Syringe Filling Line",
          "FRA - FF Packaging, VL56",
          "FRA - FF NLP, M22 Filling",
          "LLB - Bosch-2 Packaging (SOLD)",
          "SUZ - BAUSCH",
          "LLB - IMA C95 Packaging (SOLD)",
          "LLB - Sarong Packaging (SSL)",
          "LSX - SIG1 Packaging Line",
          "OCO - PARTENA 3 Packaging Line",
          "SUZ - IMA DERMACYD",
          "LLB - CP-3 Packaging (STRL)",
          "SCO - Gamma4",
          "OCO - JARABES Packaging Line",
          "MAF - C3 Packaging Line",
          "SUZ - MEDISEAL PURAN",
          "FRA - FF NAPA, M48 Inspection",
          "SUZ - LINE 06 - MEDISEAL CP 600 COMBO",
          "LLB - SPREY Packaging (NSL)",
          "LLB - Bosch-1 Packaging (PENC)",
          "FRA - FF Packaging, VL50",
          "FRA - Devices Pens, AL2",
          "LLB - IMA-2 Packaging (SOLD)",
          "LSX - 1070-1 Packaging Line",
          "FRA - FF NAPA, M24 Inspection",
          "SCO - IMA C80/1",
          "FRA - FF NLP, M22 Inspection",
          "FRA - FF NLP, M21 Inspection",
          "MAF - R5 Filling Line",
          "FRA - Devices AI, EMA 20",
          "FRA - Devices Pens, AL4",
          "MAF - R4 Filling Line",
          "SUZ - STRUNK",
          "SCO - IMA C80/3",
          "LLB - IMA-3 Packaging (SOLD)",
          "LLB - TFS-30 Packaging (SSL)",
          "SCO - U3",
          "LSX - 1030 Packaging Line",
          "SCO - GAMMA1",
          "LSX - 1070-2 Packaging Line",
          "LSX - IWK Packaging Line",
          "FRA - Devices Pens, AL3",
          "SUZ - GRON.DROPS/SPRAY",
          "SUZ - LINE 03 - MEDISEAL CP600",
          "LSX - SUPPO Packaging Line",
          "ELB - Extraction B12 1st cycle",
          "WAT - AIL2 Packaging",
          "SUZ - LINE 07 - UPS300",
          "SUZ - LINE 04 - BOSCH TLT 1400",
          "HZG - Blister packaging line 3",
          "WAT - AIL2 ASSEMBLY",
          "SUZ - LINE 02 - UHLMANN 1030",
          "OCO - MELOX Packaging Line",
          "SUZ - EYE DROPS OPTIMA",
          "LLB - Bosch-3 Packaging (SOLD)",
          "LLB - Uhlmann Packaging (SOLD)",
          "MAF - C2 Packaging Line",
          "LLB - IMA-4 Packaging (SOLD)",
          "LLB - CP-2 Packaging (STRL)",
          "SCO - PAR102",
          "SCO - PART92",
          "LSX - TR200 Packaging Line",
          "MAF - C4 Packaging Line",
          "OCO - SUSPENSIONES Packaging Line",
          "SCO - GAMMA3",
          "RDG - Synvisc Packaging Line",
          "FRA - Devices Pens, AL1",
          "FRA - FF Packaging, VL9",
          "FRA - FF NAPA, M31 Inspection",
          "FRA - Devices Pens, AL5 Packaging 1",
          "MAF - C5 Packaging Line",
          "LTR - C2 Packaging Line",
          "TRS - L24 Packaging Line",
          "TRS - L15 Packaging Line",
          "TRS - L19 Packaging Line",
          "LTR - C8 Packaging line",
          "SCO - IMA C80/4",
          "ELB - FERMENTATION E06",
          "TRS - L25 Packaging Line",
          "LLB - Bosch-1 Packaging (SOLD)",
          "FRA - FF Packaging, HV01",
          "SUZ - LINE 05 - SOLIDS IMA LINE",
          "LLB - IMA-1 Packaging (NSL)",
          "MAF - C6 Packaging Line",
          "LTR - C6 Packaging line",
          "SUZ - FARCON",
          "FRA - Devices Pens, AL6",
          "FRA - Devices Pens, AL5 Packaging 2",
          "SUZ - FETTE 3090 I",
          "LTR - C9 Packaging line",
          "WAT - LYO Packaging Line 9",
          "OCO - MEDISEAL Packaging Line",
          "LLB - IMA-2 Packaging (NSL)",
          "OCO - C90 Packaging Line",
          "SCO - GAMMA2",
          "LLB - IMA-1 Packaging (SOLD)",
          "ELB - FERMENTATION E05",
          "FRA - Devices AI, Semi 120-1 Labeling",
          "SUZ - LINE 10 - BOTTLES LINE",
          "SUZ - GRON.SYRUP",
          "VDR - K32_1",
          "SUZ - LINE 01 - UHLMANN 1880",
          "ELB - FERMENTATION E08",
          "OCO - LACTACYD Packaging Line",
          "LTR - C7 Packaging line",
          "SUZ - MARCHESINI",
          "OCO - PARTENA 1 Packaging Line",
          "ELB - FERMENTATION E10",
          "TRS - L21 Packaging Line",
          "ELB - FERMENTATION E07",
          "FRA - Devices AI, Semi 120-1 Packaging",
          "FRA - FF NAPA, M46 Filling",
          "LTR - L647 Bio-Tech Packaging",
          "FRA - Devices AI, FDLE",
          "FRA - FF NAPA, M53 Filling",
          "FRA - Pharma, M26 Filling",
          "MLE - P2A1",
          "ELB - FERMENTATION E09",
          "FRA - FF Packaging, VL47",
          "SUZ - EFERVESCENT CEWIN",
          "FRA - FF Packaging, VL44",
          "ORI - L27",
          "FRA - Devices Pens, AL5 Assembly",
          "ELB - FERMENTATION V08",
          "FRA - FF Packaging, VL32",
          "LTR - Optima Assembling Machine",
          "WAT - LYO Packaging Line 3",
          "FRA - Pharma, M58 Inspection",
          "FRA - FF Packaging, VL6",
          "ELB - FERMENTATION V09",
          "FRA - FF Packaging, VL62",
          "SCO - COLLE1",
          "SCO - Diosna 2",
          "SCO - Diosna 1",
          "SUZ - FETTE 3090 III",
          "LTR - Corima Assembling Machine",
          "FRA - Pharma, M52 Inspection",
          "SCO - COLLE2",
          "SUZ - FETTE 2090 I",
          "ELB - FERMENTATION E11"
         ],
         "xaxis": "x",
         "y": [
          1171.1905116160121,
          84.0686989809432,
          83.2897999130883,
          78.57205026691666,
          76.29832025089193,
          73.48832868634388,
          71.80505806945419,
          70.80346376466282,
          70.1538493741431,
          70.05465444770736,
          69.07966001599628,
          66.35605344980479,
          65.4298257554089,
          64.79376812029844,
          64.15928578156043,
          64.03485797842052,
          63.947592585775304,
          63.68994835608332,
          63.654636780220315,
          63.11892585598608,
          62.802815837630504,
          62.53640045259017,
          62.31648713731348,
          62.31416557900111,
          61.652494923553796,
          61.595768124747906,
          61.4085081584511,
          60.98340675627176,
          60.4515535215012,
          60.43887792591007,
          59.83971320465484,
          59.82022901448004,
          59.640225415895706,
          59.49242172164146,
          59.130391902728746,
          58.50217406306782,
          58.20471104496375,
          58.178612223690834,
          57.783213949573906,
          57.02332229827526,
          56.6850300814881,
          56.06067361355895,
          55.85513246894254,
          55.22575342565828,
          54.72553288082946,
          54.51218660380551,
          53.80753123068699,
          53.712633728942606,
          53.68035223789147,
          53.59021037486391,
          53.01966478758581,
          52.9027253459801,
          52.32566196188552,
          52.262997726488706,
          52.216187356479324,
          51.257892265262775,
          51.22692828341013,
          50.97596827203912,
          50.62009320761117,
          50.20575472890871,
          49.99820516285654,
          49.95499951044357,
          49.85624469813134,
          49.814963749819796,
          49.63892979220389,
          49.58169131342734,
          49.271454601370166,
          49.18879889956488,
          49.08123709603247,
          48.37836127000952,
          47.57139565798184,
          47.542308808613015,
          46.68126204316958,
          46.49811974725728,
          46.3250212518733,
          46.279545429859006,
          46.108728969687355,
          45.923814217836366,
          45.77758504618076,
          45.03758580923231,
          45.01293567303015,
          44.89991542947448,
          44.89145550655239,
          44.6152594195579,
          44.467132972725565,
          44.22572280939767,
          44.222363421859505,
          43.710372033973016,
          43.62845624096788,
          43.51064178406872,
          43.40044849170016,
          42.610696965712904,
          42.537436948588955,
          42.3025911477818,
          41.14045319760403,
          40.75105768342257,
          40.588260548948554,
          40.410931817210226,
          40.3401288362467,
          40.177278969058136,
          39.481101774307575,
          38.31466396913109,
          37.99295651322734,
          37.78100532314636,
          37.72869462477836,
          37.6264263076163,
          37.4627501266464,
          36.828403179079274,
          36.57684516415689,
          36.485117748766235,
          36.12307748937271,
          35.709779985297345,
          35.31236060655193,
          34.84945575259372,
          34.83529975798595,
          34.78645008088179,
          34.569779797563484,
          33.60321815247161,
          33.53058079598288,
          33.50506387953116,
          33.411454881558,
          32.51819858090874,
          32.25252041131629,
          31.985407804889554,
          31.815174471799672,
          31.431946444402243,
          31.04219847758128,
          31.000941600862546,
          30.384553486911393,
          30.346642670291008,
          30.251099866701303,
          29.979229989868287,
          29.977282714535455,
          29.23046741148619,
          29.164228346898817,
          28.464024145093656,
          27.80914387031408,
          27.791210432035967,
          27.539339539007088,
          27.1387346918708,
          26.686904765433752,
          25.036107855569274,
          23.60667952470005,
          23.200313059800155,
          22.214978531302965,
          22.04910911847785,
          21.71979483282675,
          21.57956416383593,
          21.54999019114282,
          21.2566588582942,
          21.000796205506063,
          18.548836400771116,
          18.527506370091892,
          18.197636503376575,
          17.727162551291123,
          16.890199889791603,
          13.927477569408758,
          13.301838427995776,
          11.873981777360065,
          9.43534566833878,
          9.219201246390035,
          4.522379522125131,
          4.227135172481419,
          1.8955280730156614,
          1.4389300344550504,
          0.7993476259293706,
          7.105427357601002e-15,
          3.552713678800501e-15,
          0
         ],
         "yaxis": "y"
        }
       ],
       "layout": {
        "annotations": [
         {
          "showarrow": false,
          "text": "60% June 2022 Target",
          "x": 0,
          "xanchor": "left",
          "xref": "x domain",
          "y": 60,
          "yanchor": "top",
          "yref": "y"
         },
         {
          "showarrow": false,
          "text": "65% December 2022 Target",
          "x": 0,
          "xanchor": "left",
          "xref": "x domain",
          "y": 65,
          "yanchor": "top",
          "yref": "y"
         }
        ],
        "barmode": "relative",
        "legend": {
         "tracegroupgap": 0
        },
        "shapes": [
         {
          "line": {
           "dash": "dot"
          },
          "type": "line",
          "x0": 0,
          "x1": 1,
          "xref": "x domain",
          "y0": 60,
          "y1": 60,
          "yref": "y"
         },
         {
          "line": {
           "dash": "dot"
          },
          "type": "line",
          "x0": 0,
          "x1": 1,
          "xref": "x domain",
          "y0": 65,
          "y1": 65,
          "yref": "y"
         }
        ],
        "template": {
         "data": {
          "bar": [
           {
            "error_x": {
             "color": "#2a3f5f"
            },
            "error_y": {
             "color": "#2a3f5f"
            },
            "marker": {
             "line": {
              "color": "#E5ECF6",
              "width": 0.5
             },
             "pattern": {
              "fillmode": "overlay",
              "size": 10,
              "solidity": 0.2
             }
            },
            "type": "bar"
           }
          ],
          "barpolar": [
           {
            "marker": {
             "line": {
              "color": "#E5ECF6",
              "width": 0.5
             },
             "pattern": {
              "fillmode": "overlay",
              "size": 10,
              "solidity": 0.2
             }
            },
            "type": "barpolar"
           }
          ],
          "carpet": [
           {
            "aaxis": {
             "endlinecolor": "#2a3f5f",
             "gridcolor": "white",
             "linecolor": "white",
             "minorgridcolor": "white",
             "startlinecolor": "#2a3f5f"
            },
            "baxis": {
             "endlinecolor": "#2a3f5f",
             "gridcolor": "white",
             "linecolor": "white",
             "minorgridcolor": "white",
             "startlinecolor": "#2a3f5f"
            },
            "type": "carpet"
           }
          ],
          "choropleth": [
           {
            "colorbar": {
             "outlinewidth": 0,
             "ticks": ""
            },
            "type": "choropleth"
           }
          ],
          "contour": [
           {
            "colorbar": {
             "outlinewidth": 0,
             "ticks": ""
            },
            "colorscale": [
             [
              0,
              "#0d0887"
             ],
             [
              0.1111111111111111,
              "#46039f"
             ],
             [
              0.2222222222222222,
              "#7201a8"
             ],
             [
              0.3333333333333333,
              "#9c179e"
             ],
             [
              0.4444444444444444,
              "#bd3786"
             ],
             [
              0.5555555555555556,
              "#d8576b"
             ],
             [
              0.6666666666666666,
              "#ed7953"
             ],
             [
              0.7777777777777778,
              "#fb9f3a"
             ],
             [
              0.8888888888888888,
              "#fdca26"
             ],
             [
              1,
              "#f0f921"
             ]
            ],
            "type": "contour"
           }
          ],
          "contourcarpet": [
           {
            "colorbar": {
             "outlinewidth": 0,
             "ticks": ""
            },
            "type": "contourcarpet"
           }
          ],
          "heatmap": [
           {
            "colorbar": {
             "outlinewidth": 0,
             "ticks": ""
            },
            "colorscale": [
             [
              0,
              "#0d0887"
             ],
             [
              0.1111111111111111,
              "#46039f"
             ],
             [
              0.2222222222222222,
              "#7201a8"
             ],
             [
              0.3333333333333333,
              "#9c179e"
             ],
             [
              0.4444444444444444,
              "#bd3786"
             ],
             [
              0.5555555555555556,
              "#d8576b"
             ],
             [
              0.6666666666666666,
              "#ed7953"
             ],
             [
              0.7777777777777778,
              "#fb9f3a"
             ],
             [
              0.8888888888888888,
              "#fdca26"
             ],
             [
              1,
              "#f0f921"
             ]
            ],
            "type": "heatmap"
           }
          ],
          "heatmapgl": [
           {
            "colorbar": {
             "outlinewidth": 0,
             "ticks": ""
            },
            "colorscale": [
             [
              0,
              "#0d0887"
             ],
             [
              0.1111111111111111,
              "#46039f"
             ],
             [
              0.2222222222222222,
              "#7201a8"
             ],
             [
              0.3333333333333333,
              "#9c179e"
             ],
             [
              0.4444444444444444,
              "#bd3786"
             ],
             [
              0.5555555555555556,
              "#d8576b"
             ],
             [
              0.6666666666666666,
              "#ed7953"
             ],
             [
              0.7777777777777778,
              "#fb9f3a"
             ],
             [
              0.8888888888888888,
              "#fdca26"
             ],
             [
              1,
              "#f0f921"
             ]
            ],
            "type": "heatmapgl"
           }
          ],
          "histogram": [
           {
            "marker": {
             "pattern": {
              "fillmode": "overlay",
              "size": 10,
              "solidity": 0.2
             }
            },
            "type": "histogram"
           }
          ],
          "histogram2d": [
           {
            "colorbar": {
             "outlinewidth": 0,
             "ticks": ""
            },
            "colorscale": [
             [
              0,
              "#0d0887"
             ],
             [
              0.1111111111111111,
              "#46039f"
             ],
             [
              0.2222222222222222,
              "#7201a8"
             ],
             [
              0.3333333333333333,
              "#9c179e"
             ],
             [
              0.4444444444444444,
              "#bd3786"
             ],
             [
              0.5555555555555556,
              "#d8576b"
             ],
             [
              0.6666666666666666,
              "#ed7953"
             ],
             [
              0.7777777777777778,
              "#fb9f3a"
             ],
             [
              0.8888888888888888,
              "#fdca26"
             ],
             [
              1,
              "#f0f921"
             ]
            ],
            "type": "histogram2d"
           }
          ],
          "histogram2dcontour": [
           {
            "colorbar": {
             "outlinewidth": 0,
             "ticks": ""
            },
            "colorscale": [
             [
              0,
              "#0d0887"
             ],
             [
              0.1111111111111111,
              "#46039f"
             ],
             [
              0.2222222222222222,
              "#7201a8"
             ],
             [
              0.3333333333333333,
              "#9c179e"
             ],
             [
              0.4444444444444444,
              "#bd3786"
             ],
             [
              0.5555555555555556,
              "#d8576b"
             ],
             [
              0.6666666666666666,
              "#ed7953"
             ],
             [
              0.7777777777777778,
              "#fb9f3a"
             ],
             [
              0.8888888888888888,
              "#fdca26"
             ],
             [
              1,
              "#f0f921"
             ]
            ],
            "type": "histogram2dcontour"
           }
          ],
          "mesh3d": [
           {
            "colorbar": {
             "outlinewidth": 0,
             "ticks": ""
            },
            "type": "mesh3d"
           }
          ],
          "parcoords": [
           {
            "line": {
             "colorbar": {
              "outlinewidth": 0,
              "ticks": ""
             }
            },
            "type": "parcoords"
           }
          ],
          "pie": [
           {
            "automargin": true,
            "type": "pie"
           }
          ],
          "scatter": [
           {
            "marker": {
             "colorbar": {
              "outlinewidth": 0,
              "ticks": ""
             }
            },
            "type": "scatter"
           }
          ],
          "scatter3d": [
           {
            "line": {
             "colorbar": {
              "outlinewidth": 0,
              "ticks": ""
             }
            },
            "marker": {
             "colorbar": {
              "outlinewidth": 0,
              "ticks": ""
             }
            },
            "type": "scatter3d"
           }
          ],
          "scattercarpet": [
           {
            "marker": {
             "colorbar": {
              "outlinewidth": 0,
              "ticks": ""
             }
            },
            "type": "scattercarpet"
           }
          ],
          "scattergeo": [
           {
            "marker": {
             "colorbar": {
              "outlinewidth": 0,
              "ticks": ""
             }
            },
            "type": "scattergeo"
           }
          ],
          "scattergl": [
           {
            "marker": {
             "colorbar": {
              "outlinewidth": 0,
              "ticks": ""
             }
            },
            "type": "scattergl"
           }
          ],
          "scattermapbox": [
           {
            "marker": {
             "colorbar": {
              "outlinewidth": 0,
              "ticks": ""
             }
            },
            "type": "scattermapbox"
           }
          ],
          "scatterpolar": [
           {
            "marker": {
             "colorbar": {
              "outlinewidth": 0,
              "ticks": ""
             }
            },
            "type": "scatterpolar"
           }
          ],
          "scatterpolargl": [
           {
            "marker": {
             "colorbar": {
              "outlinewidth": 0,
              "ticks": ""
             }
            },
            "type": "scatterpolargl"
           }
          ],
          "scatterternary": [
           {
            "marker": {
             "colorbar": {
              "outlinewidth": 0,
              "ticks": ""
             }
            },
            "type": "scatterternary"
           }
          ],
          "surface": [
           {
            "colorbar": {
             "outlinewidth": 0,
             "ticks": ""
            },
            "colorscale": [
             [
              0,
              "#0d0887"
             ],
             [
              0.1111111111111111,
              "#46039f"
             ],
             [
              0.2222222222222222,
              "#7201a8"
             ],
             [
              0.3333333333333333,
              "#9c179e"
             ],
             [
              0.4444444444444444,
              "#bd3786"
             ],
             [
              0.5555555555555556,
              "#d8576b"
             ],
             [
              0.6666666666666666,
              "#ed7953"
             ],
             [
              0.7777777777777778,
              "#fb9f3a"
             ],
             [
              0.8888888888888888,
              "#fdca26"
             ],
             [
              1,
              "#f0f921"
             ]
            ],
            "type": "surface"
           }
          ],
          "table": [
           {
            "cells": {
             "fill": {
              "color": "#EBF0F8"
             },
             "line": {
              "color": "white"
             }
            },
            "header": {
             "fill": {
              "color": "#C8D4E3"
             },
             "line": {
              "color": "white"
             }
            },
            "type": "table"
           }
          ]
         },
         "layout": {
          "annotationdefaults": {
           "arrowcolor": "#2a3f5f",
           "arrowhead": 0,
           "arrowwidth": 1
          },
          "autotypenumbers": "strict",
          "coloraxis": {
           "colorbar": {
            "outlinewidth": 0,
            "ticks": ""
           }
          },
          "colorscale": {
           "diverging": [
            [
             0,
             "#8e0152"
            ],
            [
             0.1,
             "#c51b7d"
            ],
            [
             0.2,
             "#de77ae"
            ],
            [
             0.3,
             "#f1b6da"
            ],
            [
             0.4,
             "#fde0ef"
            ],
            [
             0.5,
             "#f7f7f7"
            ],
            [
             0.6,
             "#e6f5d0"
            ],
            [
             0.7,
             "#b8e186"
            ],
            [
             0.8,
             "#7fbc41"
            ],
            [
             0.9,
             "#4d9221"
            ],
            [
             1,
             "#276419"
            ]
           ],
           "sequential": [
            [
             0,
             "#0d0887"
            ],
            [
             0.1111111111111111,
             "#46039f"
            ],
            [
             0.2222222222222222,
             "#7201a8"
            ],
            [
             0.3333333333333333,
             "#9c179e"
            ],
            [
             0.4444444444444444,
             "#bd3786"
            ],
            [
             0.5555555555555556,
             "#d8576b"
            ],
            [
             0.6666666666666666,
             "#ed7953"
            ],
            [
             0.7777777777777778,
             "#fb9f3a"
            ],
            [
             0.8888888888888888,
             "#fdca26"
            ],
            [
             1,
             "#f0f921"
            ]
           ],
           "sequentialminus": [
            [
             0,
             "#0d0887"
            ],
            [
             0.1111111111111111,
             "#46039f"
            ],
            [
             0.2222222222222222,
             "#7201a8"
            ],
            [
             0.3333333333333333,
             "#9c179e"
            ],
            [
             0.4444444444444444,
             "#bd3786"
            ],
            [
             0.5555555555555556,
             "#d8576b"
            ],
            [
             0.6666666666666666,
             "#ed7953"
            ],
            [
             0.7777777777777778,
             "#fb9f3a"
            ],
            [
             0.8888888888888888,
             "#fdca26"
            ],
            [
             1,
             "#f0f921"
            ]
           ]
          },
          "colorway": [
           "#636efa",
           "#EF553B",
           "#00cc96",
           "#ab63fa",
           "#FFA15A",
           "#19d3f3",
           "#FF6692",
           "#B6E880",
           "#FF97FF",
           "#FECB52"
          ],
          "font": {
           "color": "#2a3f5f"
          },
          "geo": {
           "bgcolor": "white",
           "lakecolor": "white",
           "landcolor": "#E5ECF6",
           "showlakes": true,
           "showland": true,
           "subunitcolor": "white"
          },
          "hoverlabel": {
           "align": "left"
          },
          "hovermode": "closest",
          "mapbox": {
           "style": "light"
          },
          "paper_bgcolor": "white",
          "plot_bgcolor": "#E5ECF6",
          "polar": {
           "angularaxis": {
            "gridcolor": "white",
            "linecolor": "white",
            "ticks": ""
           },
           "bgcolor": "#E5ECF6",
           "radialaxis": {
            "gridcolor": "white",
            "linecolor": "white",
            "ticks": ""
           }
          },
          "scene": {
           "xaxis": {
            "backgroundcolor": "#E5ECF6",
            "gridcolor": "white",
            "gridwidth": 2,
            "linecolor": "white",
            "showbackground": true,
            "ticks": "",
            "zerolinecolor": "white"
           },
           "yaxis": {
            "backgroundcolor": "#E5ECF6",
            "gridcolor": "white",
            "gridwidth": 2,
            "linecolor": "white",
            "showbackground": true,
            "ticks": "",
            "zerolinecolor": "white"
           },
           "zaxis": {
            "backgroundcolor": "#E5ECF6",
            "gridcolor": "white",
            "gridwidth": 2,
            "linecolor": "white",
            "showbackground": true,
            "ticks": "",
            "zerolinecolor": "white"
           }
          },
          "shapedefaults": {
           "line": {
            "color": "#2a3f5f"
           }
          },
          "ternary": {
           "aaxis": {
            "gridcolor": "white",
            "linecolor": "white",
            "ticks": ""
           },
           "baxis": {
            "gridcolor": "white",
            "linecolor": "white",
            "ticks": ""
           },
           "bgcolor": "#E5ECF6",
           "caxis": {
            "gridcolor": "white",
            "linecolor": "white",
            "ticks": ""
           }
          },
          "title": {
           "x": 0.05
          },
          "xaxis": {
           "automargin": true,
           "gridcolor": "white",
           "linecolor": "white",
           "ticks": "",
           "title": {
            "standoff": 15
           },
           "zerolinecolor": "white",
           "zerolinewidth": 2
          },
          "yaxis": {
           "automargin": true,
           "gridcolor": "white",
           "linecolor": "white",
           "ticks": "",
           "title": {
            "standoff": 15
           },
           "zerolinecolor": "white",
           "zerolinewidth": 2
          }
         }
        },
        "title": {
         "text": "Latest Rolling OEE % by Line"
        },
        "xaxis": {
         "anchor": "y",
         "domain": [
          0,
          1
         ],
         "title": {
          "text": "Line"
         }
        },
        "yaxis": {
         "anchor": "x",
         "domain": [
          0,
          1
         ],
         "range": [
          0,
          100
         ],
         "title": {
          "text": "OEE %"
         }
        }
       }
      }
     },
     "metadata": {},
     "output_type": "display_data"
    },
    {
     "data": {
      "application/vnd.plotly.v1+json": {
       "config": {
        "plotlyServerURL": "https://plot.ly"
       },
       "data": [
        {
         "alignmentgroup": "True",
         "hovertemplate": "Line=%{x}<br>Availability %=%{y}<extra></extra>",
         "legendgroup": "",
         "marker": {
          "color": "#636efa",
          "pattern": {
           "shape": ""
          }
         },
         "name": "",
         "offsetgroup": "",
         "orientation": "v",
         "showlegend": false,
         "textposition": "auto",
         "type": "bar",
         "x": [
          "SCO - Diosna 2",
          "LLB - Huttlin-1 Granulation",
          "MAF - I2 Inspection Line",
          "LLB - IMA C95 Packaging (SOLD)",
          "MAF - I4 Inspection Line",
          "HZG - Blister packaging line 1",
          "LLB - IMA-1 Packaging (SOLD)",
          "LLB - Bosch-2 Packaging (SOLD)",
          "LLB - Bosch-1 Packaging (SOLD)",
          "ELB - FERMENTATION V09",
          "LLB - IMA-2 Packaging (SOLD)",
          "SZX - Packaging line 3",
          "OCO - UHLMANN 2 Packaging Line",
          "HZG - Blister packaging line 4",
          "HZG - Bottle Packaging line 7",
          "LLB - Bosch-3 Packaging (SOLD)",
          "LSX - C65-2 Packaging Line",
          "SCO - Diosna 1",
          "OCO - UHLMANN 1 Packaging Line",
          "LLB - TFS-30 Packaging (SSL)",
          "ELB - FERMENTATION E05",
          "LLB - IMA-3 Packaging (SOLD)",
          "SUZ - NEWMAN",
          "SUZ - MEDISEAL PURAN",
          "FRA - Devices AI, EMA 20",
          "MAF - C9 Packaging Line",
          "LSX - C65-1 Packaging Line",
          "HZG - Blister packaging line 2",
          "LLB - Sarong Packaging (SSL)",
          "SCO - IMA C80/2",
          "LLB - SPREY Packaging (NSL)",
          "FRA - FF Packaging, VL50",
          "ORI - EG123",
          "SUZ - NIKKA",
          "LLB - CP-3 Packaging (STRL)",
          "HZG - Semi-automatic Packaging line",
          "LLB - Bosch-1 Packaging (PENC)",
          "FRA - FF NLP, M21 Filling",
          "MAF - I6 Inspection Line",
          "SUZ - POMADAS",
          "SUZ - LINE 06 - MEDISEAL CP 600 COMBO",
          "LLB - IMA-4 Packaging (SOLD)",
          "FRA - FF NLP, M22 Filling",
          "RDG - H6 Syringe Filling Line",
          "OCO - MELOX Packaging Line",
          "LSX - 1070-1 Packaging Line",
          "FRA - Devices Pens, AL2",
          "FRA - FF Packaging, VL56",
          "LSX - SUPPO Packaging Line",
          "MAF - R1 Filling Line",
          "LSX - SIG1 Packaging Line",
          "LLB - Uhlmann Packaging (SOLD)",
          "MAF - C3 Packaging Line",
          "HZG - Bottle Packaging line 6",
          "SUZ - IMA DERMACYD",
          "FRA - Devices AI, Semi 120-1 Assembly",
          "OCO - PARTENA 3 Packaging Line",
          "LLB - CP-2 Packaging (STRL)",
          "LSX - 1070-2 Packaging Line",
          "FRA - Devices Pens, AL4",
          "FRA - Devices AI, Semi 120-1 Labeling",
          "SCO - U3",
          "SCO - Gamma4",
          "LSX - SIG2 Packaging Line",
          "LTR - C2 Packaging Line",
          "SUZ - BAUSCH",
          "MAF - R5 Filling Line",
          "FRA - Devices Pens, AL3",
          "FRA - FF Packaging, HV01",
          "FRA - Devices Pens, AL1",
          "LSX - TR200 Packaging Line",
          "OCO - JARABES Packaging Line",
          "FRA - FF NAPA, M24 Inspection",
          "FRA - Devices Pens, AL5 Packaging 1",
          "RDG - Synvisc Packaging Line",
          "SCO - IMA C80/3",
          "SCO - IMA C80/1",
          "MAF - C2 Packaging Line",
          "FRA - FF NAPA, M48 Inspection",
          "LSX - 1030 Packaging Line",
          "ELB - FERMENTATION E11",
          "ELB - FERMENTATION E06",
          "FRA - FF NLP, M21 Inspection",
          "MAF - C4 Packaging Line",
          "SCO - GAMMA1",
          "LLB - Bosch-1 Packaging (CEPH)",
          "LSX - IWK Packaging Line",
          "FRA - FF NLP, M22 Inspection",
          "SCO - GAMMA3",
          "LLB - IMA-2 Packaging (NSL)",
          "LLB - IMA-1 Packaging (NSL)",
          "LTR - Corima Assembling Machine",
          "SUZ - LINE 03 - MEDISEAL CP600",
          "HZG - Blister packaging line 3",
          "LTR - C8 Packaging line",
          "LTR - C6 Packaging line",
          "LTR - Optima Assembling Machine",
          "MAF - C5 Packaging Line",
          "OCO - SUSPENSIONES Packaging Line",
          "MAF - R4 Filling Line",
          "MAF - C6 Packaging Line",
          "LTR - C9 Packaging line",
          "FRA - Devices Pens, AL6",
          "SUZ - LINE 07 - UPS300",
          "SCO - IMA C80/4",
          "SUZ - LINE 04 - BOSCH TLT 1400",
          "FRA - FF Packaging, VL9",
          "SCO - PART92",
          "FRA - FF Packaging, VL32",
          "WAT - AIL2 ASSEMBLY",
          "SCO - PAR102",
          "ELB - FERMENTATION E09",
          "FRA - FF NAPA, M31 Inspection",
          "SUZ - LINE 02 - UHLMANN 1030",
          "FRA - Devices AI, Semi 120-1 Packaging",
          "LTR - C7 Packaging line",
          "SUZ - LINE 05 - SOLIDS IMA LINE",
          "SUZ - FARCON",
          "SCO - GAMMA2",
          "FRA - Devices Pens, AL5 Packaging 2",
          "SCO - COLLE1",
          "OCO - C90 Packaging Line",
          "OCO - LACTACYD Packaging Line",
          "SUZ - EYE DROPS OPTIMA",
          "FRA - FF Packaging, VL6",
          "OCO - MEDISEAL Packaging Line",
          "ELB - FERMENTATION E10",
          "TRS - L25 Packaging Line",
          "WAT - AIL2 Packaging",
          "FRA - Devices AI, FDLE",
          "TRS - L15 Packaging Line",
          "TRS - L24 Packaging Line",
          "SUZ - STRUNK",
          "LTR - L647 Bio-Tech Packaging",
          "SUZ - TARGIFOR",
          "OCO - PARTENA 1 Packaging Line",
          "SUZ - MARCHESINI",
          "SUZ - GRON.DROPS/SPRAY",
          "WAT - LYO INSPECTION",
          "TRS - L19 Packaging Line",
          "FRA - FF NAPA, M46 Filling",
          "FRA - FF Packaging, VL44",
          "FRA - Devices Pens, AL5 Assembly",
          "SUZ - GRON.SYRUP",
          "VDR - K32_1",
          "SUZ - LINE 01 - UHLMANN 1880",
          "SUZ - FETTE 3090 I",
          "FRA - FF NAPA, M53 Filling",
          "TRS - L21 Packaging Line",
          "ELB - FERMENTATION V08",
          "ELB - FERMENTATION E08",
          "ORI - L27",
          "ELB - FERMENTATION E07",
          "FRA - Pharma, M26 Filling",
          "MLE - P2A1",
          "FRA - FF Packaging, VL47",
          "SUZ - EFERVESCENT CEWIN",
          "SUZ - LINE 10 - BOTTLES LINE",
          "WAT - LYO Packaging Line 9",
          "FRA - Pharma, M58 Inspection",
          "FRA - FF Packaging, VL62",
          "WAT - AIL1 Packaging",
          "SUZ - FETTE 2090 IV",
          "SUZ - FETTE 3090 III",
          "WAT - LYO Packaging Line 3",
          "FRA - Pharma, M52 Inspection",
          "SUZ - FETTE 2090 I",
          "SCO - COLLE2",
          "ELB - Extraction B12 1st cycle"
         ],
         "xaxis": "x",
         "y": [
          94.24851190476186,
          88.88888888888887,
          82.99990908235759,
          82.45179929128967,
          78.28395437966135,
          78.01897103305558,
          76.78577482509397,
          76.34776284293937,
          75.92959324087087,
          75.8917824074074,
          75.3351439684254,
          75.25629052862723,
          75.16051879852735,
          74.00170286262488,
          73.89178810831658,
          73.78205303203941,
          73.69013794630013,
          73.1970102933533,
          72.53037590455398,
          72.51167943170655,
          72.39103835978835,
          72.1852465393072,
          71.37419634755243,
          70.94500158167324,
          70.64536498437644,
          70.4458482549868,
          69.69380230679437,
          68.8839964162566,
          68.83433791660181,
          68.82364211311652,
          68.71412078387053,
          67.98591511340427,
          67.65244001615173,
          66.72106264640414,
          66.54032527339373,
          66.3931990921663,
          66.24173348899552,
          66.155533466512,
          66.12982556376423,
          65.89035108054256,
          65.61947665969379,
          65.4288841176764,
          65.37943597432232,
          65.34781309050987,
          64.8635147588264,
          64.80384059117458,
          64.79305174342717,
          64.71425442361954,
          64.62382317670513,
          64.22027729818683,
          64.0608098119375,
          63.68454110789327,
          63.64110914795442,
          63.13648813096171,
          62.93932333635562,
          62.52158812019279,
          62.48307907474271,
          62.32456046728546,
          61.817010446328794,
          61.80347946308967,
          61.63518823996148,
          61.50219164326053,
          61.36515966792017,
          61.31984354682066,
          61.12746043418432,
          59.414399754789734,
          59.37610135255417,
          59.074415537643844,
          59.03848347164359,
          58.67061618564254,
          58.63286999606594,
          58.44232394996807,
          58.03913855135643,
          57.96417335801312,
          57.6778362024624,
          57.320197321305635,
          57.31443399365209,
          57.148466744515666,
          57.02579870041602,
          56.84773038103658,
          56.58738506471986,
          56.23752175860453,
          55.95657588752346,
          55.939971187484346,
          55.75250122780993,
          55.373537906906456,
          55.10027599077107,
          55.03816773662073,
          53.430081898302404,
          53.2144441032436,
          52.819172892949744,
          52.15946646372963,
          52.045673097115085,
          52.03355897789395,
          51.60218521454444,
          51.38024253938147,
          51.30629832894534,
          51.28132878399259,
          50.9911644224345,
          50.93382662489269,
          50.65506495296888,
          50.51070083525515,
          50.448522942300116,
          50.271720221384065,
          50.10796820681682,
          50.03078755286937,
          49.9499237084345,
          49.89080274752114,
          49.43199031231071,
          49.139265148692786,
          48.815770330995136,
          48.34680886243386,
          47.527101588645465,
          46.83122449545522,
          46.39924036575968,
          46.12537214480587,
          46.11813126163386,
          45.97046988069423,
          45.677475783628175,
          45.410959071328264,
          45.282738095238045,
          45.03422233440995,
          44.090039401450035,
          44.03367833906552,
          43.82630618099151,
          43.64650649686185,
          42.973999669312164,
          42.79017912911573,
          41.50947087916693,
          41.30174945132811,
          41.12861543887026,
          40.76318377260081,
          40.749520135521344,
          40.705422490681016,
          40.47410662212201,
          39.07127690465754,
          38.84861773257349,
          38.821548227823406,
          37.64741044359121,
          36.90601093630634,
          36.66196465557174,
          36.01731651806071,
          35.85246434588377,
          35.743670364430926,
          35.64306629553635,
          35.46870826049036,
          35.09015734438947,
          34.33005960329191,
          33.903538491749856,
          33.54497354497354,
          32.95750661375661,
          32.82914619641741,
          32.09846752580028,
          29.99682945349288,
          29.766393712052945,
          29.028507555132094,
          28.32044711045112,
          27.31985087742399,
          23.726559578466425,
          21.241864291276435,
          20.809739740029627,
          20.61950502681607,
          17.59121543173362,
          15.523354828042269,
          9.895520536235022,
          0.9722030000025806,
          0.0001723619173622603,
          0,
          -6.234578735845412
         ],
         "yaxis": "y"
        }
       ],
       "layout": {
        "barmode": "relative",
        "legend": {
         "tracegroupgap": 0
        },
        "template": {
         "data": {
          "bar": [
           {
            "error_x": {
             "color": "#2a3f5f"
            },
            "error_y": {
             "color": "#2a3f5f"
            },
            "marker": {
             "line": {
              "color": "#E5ECF6",
              "width": 0.5
             },
             "pattern": {
              "fillmode": "overlay",
              "size": 10,
              "solidity": 0.2
             }
            },
            "type": "bar"
           }
          ],
          "barpolar": [
           {
            "marker": {
             "line": {
              "color": "#E5ECF6",
              "width": 0.5
             },
             "pattern": {
              "fillmode": "overlay",
              "size": 10,
              "solidity": 0.2
             }
            },
            "type": "barpolar"
           }
          ],
          "carpet": [
           {
            "aaxis": {
             "endlinecolor": "#2a3f5f",
             "gridcolor": "white",
             "linecolor": "white",
             "minorgridcolor": "white",
             "startlinecolor": "#2a3f5f"
            },
            "baxis": {
             "endlinecolor": "#2a3f5f",
             "gridcolor": "white",
             "linecolor": "white",
             "minorgridcolor": "white",
             "startlinecolor": "#2a3f5f"
            },
            "type": "carpet"
           }
          ],
          "choropleth": [
           {
            "colorbar": {
             "outlinewidth": 0,
             "ticks": ""
            },
            "type": "choropleth"
           }
          ],
          "contour": [
           {
            "colorbar": {
             "outlinewidth": 0,
             "ticks": ""
            },
            "colorscale": [
             [
              0,
              "#0d0887"
             ],
             [
              0.1111111111111111,
              "#46039f"
             ],
             [
              0.2222222222222222,
              "#7201a8"
             ],
             [
              0.3333333333333333,
              "#9c179e"
             ],
             [
              0.4444444444444444,
              "#bd3786"
             ],
             [
              0.5555555555555556,
              "#d8576b"
             ],
             [
              0.6666666666666666,
              "#ed7953"
             ],
             [
              0.7777777777777778,
              "#fb9f3a"
             ],
             [
              0.8888888888888888,
              "#fdca26"
             ],
             [
              1,
              "#f0f921"
             ]
            ],
            "type": "contour"
           }
          ],
          "contourcarpet": [
           {
            "colorbar": {
             "outlinewidth": 0,
             "ticks": ""
            },
            "type": "contourcarpet"
           }
          ],
          "heatmap": [
           {
            "colorbar": {
             "outlinewidth": 0,
             "ticks": ""
            },
            "colorscale": [
             [
              0,
              "#0d0887"
             ],
             [
              0.1111111111111111,
              "#46039f"
             ],
             [
              0.2222222222222222,
              "#7201a8"
             ],
             [
              0.3333333333333333,
              "#9c179e"
             ],
             [
              0.4444444444444444,
              "#bd3786"
             ],
             [
              0.5555555555555556,
              "#d8576b"
             ],
             [
              0.6666666666666666,
              "#ed7953"
             ],
             [
              0.7777777777777778,
              "#fb9f3a"
             ],
             [
              0.8888888888888888,
              "#fdca26"
             ],
             [
              1,
              "#f0f921"
             ]
            ],
            "type": "heatmap"
           }
          ],
          "heatmapgl": [
           {
            "colorbar": {
             "outlinewidth": 0,
             "ticks": ""
            },
            "colorscale": [
             [
              0,
              "#0d0887"
             ],
             [
              0.1111111111111111,
              "#46039f"
             ],
             [
              0.2222222222222222,
              "#7201a8"
             ],
             [
              0.3333333333333333,
              "#9c179e"
             ],
             [
              0.4444444444444444,
              "#bd3786"
             ],
             [
              0.5555555555555556,
              "#d8576b"
             ],
             [
              0.6666666666666666,
              "#ed7953"
             ],
             [
              0.7777777777777778,
              "#fb9f3a"
             ],
             [
              0.8888888888888888,
              "#fdca26"
             ],
             [
              1,
              "#f0f921"
             ]
            ],
            "type": "heatmapgl"
           }
          ],
          "histogram": [
           {
            "marker": {
             "pattern": {
              "fillmode": "overlay",
              "size": 10,
              "solidity": 0.2
             }
            },
            "type": "histogram"
           }
          ],
          "histogram2d": [
           {
            "colorbar": {
             "outlinewidth": 0,
             "ticks": ""
            },
            "colorscale": [
             [
              0,
              "#0d0887"
             ],
             [
              0.1111111111111111,
              "#46039f"
             ],
             [
              0.2222222222222222,
              "#7201a8"
             ],
             [
              0.3333333333333333,
              "#9c179e"
             ],
             [
              0.4444444444444444,
              "#bd3786"
             ],
             [
              0.5555555555555556,
              "#d8576b"
             ],
             [
              0.6666666666666666,
              "#ed7953"
             ],
             [
              0.7777777777777778,
              "#fb9f3a"
             ],
             [
              0.8888888888888888,
              "#fdca26"
             ],
             [
              1,
              "#f0f921"
             ]
            ],
            "type": "histogram2d"
           }
          ],
          "histogram2dcontour": [
           {
            "colorbar": {
             "outlinewidth": 0,
             "ticks": ""
            },
            "colorscale": [
             [
              0,
              "#0d0887"
             ],
             [
              0.1111111111111111,
              "#46039f"
             ],
             [
              0.2222222222222222,
              "#7201a8"
             ],
             [
              0.3333333333333333,
              "#9c179e"
             ],
             [
              0.4444444444444444,
              "#bd3786"
             ],
             [
              0.5555555555555556,
              "#d8576b"
             ],
             [
              0.6666666666666666,
              "#ed7953"
             ],
             [
              0.7777777777777778,
              "#fb9f3a"
             ],
             [
              0.8888888888888888,
              "#fdca26"
             ],
             [
              1,
              "#f0f921"
             ]
            ],
            "type": "histogram2dcontour"
           }
          ],
          "mesh3d": [
           {
            "colorbar": {
             "outlinewidth": 0,
             "ticks": ""
            },
            "type": "mesh3d"
           }
          ],
          "parcoords": [
           {
            "line": {
             "colorbar": {
              "outlinewidth": 0,
              "ticks": ""
             }
            },
            "type": "parcoords"
           }
          ],
          "pie": [
           {
            "automargin": true,
            "type": "pie"
           }
          ],
          "scatter": [
           {
            "marker": {
             "colorbar": {
              "outlinewidth": 0,
              "ticks": ""
             }
            },
            "type": "scatter"
           }
          ],
          "scatter3d": [
           {
            "line": {
             "colorbar": {
              "outlinewidth": 0,
              "ticks": ""
             }
            },
            "marker": {
             "colorbar": {
              "outlinewidth": 0,
              "ticks": ""
             }
            },
            "type": "scatter3d"
           }
          ],
          "scattercarpet": [
           {
            "marker": {
             "colorbar": {
              "outlinewidth": 0,
              "ticks": ""
             }
            },
            "type": "scattercarpet"
           }
          ],
          "scattergeo": [
           {
            "marker": {
             "colorbar": {
              "outlinewidth": 0,
              "ticks": ""
             }
            },
            "type": "scattergeo"
           }
          ],
          "scattergl": [
           {
            "marker": {
             "colorbar": {
              "outlinewidth": 0,
              "ticks": ""
             }
            },
            "type": "scattergl"
           }
          ],
          "scattermapbox": [
           {
            "marker": {
             "colorbar": {
              "outlinewidth": 0,
              "ticks": ""
             }
            },
            "type": "scattermapbox"
           }
          ],
          "scatterpolar": [
           {
            "marker": {
             "colorbar": {
              "outlinewidth": 0,
              "ticks": ""
             }
            },
            "type": "scatterpolar"
           }
          ],
          "scatterpolargl": [
           {
            "marker": {
             "colorbar": {
              "outlinewidth": 0,
              "ticks": ""
             }
            },
            "type": "scatterpolargl"
           }
          ],
          "scatterternary": [
           {
            "marker": {
             "colorbar": {
              "outlinewidth": 0,
              "ticks": ""
             }
            },
            "type": "scatterternary"
           }
          ],
          "surface": [
           {
            "colorbar": {
             "outlinewidth": 0,
             "ticks": ""
            },
            "colorscale": [
             [
              0,
              "#0d0887"
             ],
             [
              0.1111111111111111,
              "#46039f"
             ],
             [
              0.2222222222222222,
              "#7201a8"
             ],
             [
              0.3333333333333333,
              "#9c179e"
             ],
             [
              0.4444444444444444,
              "#bd3786"
             ],
             [
              0.5555555555555556,
              "#d8576b"
             ],
             [
              0.6666666666666666,
              "#ed7953"
             ],
             [
              0.7777777777777778,
              "#fb9f3a"
             ],
             [
              0.8888888888888888,
              "#fdca26"
             ],
             [
              1,
              "#f0f921"
             ]
            ],
            "type": "surface"
           }
          ],
          "table": [
           {
            "cells": {
             "fill": {
              "color": "#EBF0F8"
             },
             "line": {
              "color": "white"
             }
            },
            "header": {
             "fill": {
              "color": "#C8D4E3"
             },
             "line": {
              "color": "white"
             }
            },
            "type": "table"
           }
          ]
         },
         "layout": {
          "annotationdefaults": {
           "arrowcolor": "#2a3f5f",
           "arrowhead": 0,
           "arrowwidth": 1
          },
          "autotypenumbers": "strict",
          "coloraxis": {
           "colorbar": {
            "outlinewidth": 0,
            "ticks": ""
           }
          },
          "colorscale": {
           "diverging": [
            [
             0,
             "#8e0152"
            ],
            [
             0.1,
             "#c51b7d"
            ],
            [
             0.2,
             "#de77ae"
            ],
            [
             0.3,
             "#f1b6da"
            ],
            [
             0.4,
             "#fde0ef"
            ],
            [
             0.5,
             "#f7f7f7"
            ],
            [
             0.6,
             "#e6f5d0"
            ],
            [
             0.7,
             "#b8e186"
            ],
            [
             0.8,
             "#7fbc41"
            ],
            [
             0.9,
             "#4d9221"
            ],
            [
             1,
             "#276419"
            ]
           ],
           "sequential": [
            [
             0,
             "#0d0887"
            ],
            [
             0.1111111111111111,
             "#46039f"
            ],
            [
             0.2222222222222222,
             "#7201a8"
            ],
            [
             0.3333333333333333,
             "#9c179e"
            ],
            [
             0.4444444444444444,
             "#bd3786"
            ],
            [
             0.5555555555555556,
             "#d8576b"
            ],
            [
             0.6666666666666666,
             "#ed7953"
            ],
            [
             0.7777777777777778,
             "#fb9f3a"
            ],
            [
             0.8888888888888888,
             "#fdca26"
            ],
            [
             1,
             "#f0f921"
            ]
           ],
           "sequentialminus": [
            [
             0,
             "#0d0887"
            ],
            [
             0.1111111111111111,
             "#46039f"
            ],
            [
             0.2222222222222222,
             "#7201a8"
            ],
            [
             0.3333333333333333,
             "#9c179e"
            ],
            [
             0.4444444444444444,
             "#bd3786"
            ],
            [
             0.5555555555555556,
             "#d8576b"
            ],
            [
             0.6666666666666666,
             "#ed7953"
            ],
            [
             0.7777777777777778,
             "#fb9f3a"
            ],
            [
             0.8888888888888888,
             "#fdca26"
            ],
            [
             1,
             "#f0f921"
            ]
           ]
          },
          "colorway": [
           "#636efa",
           "#EF553B",
           "#00cc96",
           "#ab63fa",
           "#FFA15A",
           "#19d3f3",
           "#FF6692",
           "#B6E880",
           "#FF97FF",
           "#FECB52"
          ],
          "font": {
           "color": "#2a3f5f"
          },
          "geo": {
           "bgcolor": "white",
           "lakecolor": "white",
           "landcolor": "#E5ECF6",
           "showlakes": true,
           "showland": true,
           "subunitcolor": "white"
          },
          "hoverlabel": {
           "align": "left"
          },
          "hovermode": "closest",
          "mapbox": {
           "style": "light"
          },
          "paper_bgcolor": "white",
          "plot_bgcolor": "#E5ECF6",
          "polar": {
           "angularaxis": {
            "gridcolor": "white",
            "linecolor": "white",
            "ticks": ""
           },
           "bgcolor": "#E5ECF6",
           "radialaxis": {
            "gridcolor": "white",
            "linecolor": "white",
            "ticks": ""
           }
          },
          "scene": {
           "xaxis": {
            "backgroundcolor": "#E5ECF6",
            "gridcolor": "white",
            "gridwidth": 2,
            "linecolor": "white",
            "showbackground": true,
            "ticks": "",
            "zerolinecolor": "white"
           },
           "yaxis": {
            "backgroundcolor": "#E5ECF6",
            "gridcolor": "white",
            "gridwidth": 2,
            "linecolor": "white",
            "showbackground": true,
            "ticks": "",
            "zerolinecolor": "white"
           },
           "zaxis": {
            "backgroundcolor": "#E5ECF6",
            "gridcolor": "white",
            "gridwidth": 2,
            "linecolor": "white",
            "showbackground": true,
            "ticks": "",
            "zerolinecolor": "white"
           }
          },
          "shapedefaults": {
           "line": {
            "color": "#2a3f5f"
           }
          },
          "ternary": {
           "aaxis": {
            "gridcolor": "white",
            "linecolor": "white",
            "ticks": ""
           },
           "baxis": {
            "gridcolor": "white",
            "linecolor": "white",
            "ticks": ""
           },
           "bgcolor": "#E5ECF6",
           "caxis": {
            "gridcolor": "white",
            "linecolor": "white",
            "ticks": ""
           }
          },
          "title": {
           "x": 0.05
          },
          "xaxis": {
           "automargin": true,
           "gridcolor": "white",
           "linecolor": "white",
           "ticks": "",
           "title": {
            "standoff": 15
           },
           "zerolinecolor": "white",
           "zerolinewidth": 2
          },
          "yaxis": {
           "automargin": true,
           "gridcolor": "white",
           "linecolor": "white",
           "ticks": "",
           "title": {
            "standoff": 15
           },
           "zerolinecolor": "white",
           "zerolinewidth": 2
          }
         }
        },
        "title": {
         "text": "Latest Rolling Availability % by Line"
        },
        "xaxis": {
         "anchor": "y",
         "domain": [
          0,
          1
         ],
         "title": {
          "text": "Line"
         }
        },
        "yaxis": {
         "anchor": "x",
         "domain": [
          0,
          1
         ],
         "range": [
          0,
          100
         ],
         "title": {
          "text": "Availability %"
         }
        }
       }
      }
     },
     "metadata": {},
     "output_type": "display_data"
    },
    {
     "data": {
      "application/vnd.plotly.v1+json": {
       "config": {
        "plotlyServerURL": "https://plot.ly"
       },
       "data": [
        {
         "alignmentgroup": "True",
         "hovertemplate": "Line=%{x}<br>Performance %=%{y}<extra></extra>",
         "legendgroup": "",
         "marker": {
          "color": "#636efa",
          "pattern": {
           "shape": ""
          }
         },
         "name": "",
         "offsetgroup": "",
         "orientation": "v",
         "showlegend": false,
         "textposition": "auto",
         "type": "bar",
         "x": [
          "WAT - LYO INSPECTION",
          "WAT - AIL1 Packaging",
          "SUZ - FETTE 2090 IV",
          "WAT - LYO Packaging Line 3",
          "LTR - C8 Packaging line",
          "WAT - LYO Packaging Line 9",
          "SUZ - TARGIFOR",
          "SUZ - GRON.DROPS/SPRAY",
          "SUZ - STRUNK",
          "SUZ - LINE 10 - BOTTLES LINE",
          "HZG - Bottle Packaging line 6",
          "HZG - Bottle Packaging line 7",
          "WAT - AIL2 Packaging",
          "LLB - Bosch-1 Packaging (CEPH)",
          "SUZ - NIKKA",
          "SUZ - FETTE 3090 I",
          "TRS - L19 Packaging Line",
          "LSX - SIG2 Packaging Line",
          "SUZ - EYE DROPS OPTIMA",
          "MAF - I6 Inspection Line",
          "MAF - R1 Filling Line",
          "MAF - I4 Inspection Line",
          "MAF - I2 Inspection Line",
          "SUZ - LINE 02 - UHLMANN 1030",
          "SUZ - BAUSCH",
          "HZG - Blister packaging line 1",
          "OCO - UHLMANN 1 Packaging Line",
          "MAF - R4 Filling Line",
          "SUZ - LINE 05 - SOLIDS IMA LINE",
          "FRA - FF NAPA, M48 Inspection",
          "OCO - JARABES Packaging Line",
          "HZG - Semi-automatic Packaging line",
          "HZG - Blister packaging line 4",
          "LSX - C65-2 Packaging Line",
          "ORI - EG123",
          "TRS - L24 Packaging Line",
          "SUZ - POMADAS",
          "SCO - IMA C80/2",
          "FRA - FF NLP, M22 Inspection",
          "SUZ - LINE 07 - UPS300",
          "FRA - FF Packaging, VL56",
          "OCO - PARTENA 3 Packaging Line",
          "RDG - H6 Syringe Filling Line",
          "TRS - L15 Packaging Line",
          "SUZ - NEWMAN",
          "SCO - Gamma4",
          "LSX - SIG1 Packaging Line",
          "FRA - FF NLP, M22 Filling",
          "WAT - AIL2 ASSEMBLY",
          "SUZ - IMA DERMACYD",
          "SCO - IMA C80/1",
          "LSX - C65-1 Packaging Line",
          "FRA - FF NLP, M21 Inspection",
          "SUZ - LINE 04 - BOSCH TLT 1400",
          "VDR - K32_1",
          "HZG - Blister packaging line 2",
          "FRA - FF NLP, M21 Filling",
          "FRA - FF NAPA, M24 Inspection",
          "SZX - Packaging line 3",
          "SCO - PAR102",
          "SUZ - LINE 03 - MEDISEAL CP600",
          "SCO - GAMMA1",
          "SCO - PART92",
          "MAF - C9 Packaging Line",
          "OCO - SUSPENSIONES Packaging Line",
          "OCO - UHLMANN 2 Packaging Line",
          "LSX - 1030 Packaging Line",
          "LSX - IWK Packaging Line",
          "MAF - C3 Packaging Line",
          "SCO - IMA C80/3",
          "LLB - CP-3 Packaging (STRL)",
          "SUZ - GRON.SYRUP",
          "MAF - R5 Filling Line",
          "SUZ - LINE 01 - UHLMANN 1880",
          "TRS - L25 Packaging Line",
          "LLB - Sarong Packaging (SSL)",
          "LLB - Bosch-1 Packaging (PENC)",
          "FRA - Devices Pens, AL2",
          "SUZ - LINE 06 - MEDISEAL CP 600 COMBO",
          "FRA - Devices Pens, AL4",
          "FRA - FF Packaging, VL9",
          "LSX - 1070-1 Packaging Line",
          "LSX - 1070-2 Packaging Line",
          "SCO - U3",
          "FRA - Devices Pens, AL3",
          "ELB - FERMENTATION E08",
          "MAF - C5 Packaging Line",
          "FRA - FF Packaging, VL50",
          "LLB - Bosch-2 Packaging (SOLD)",
          "SCO - GAMMA3",
          "MAF - C2 Packaging Line",
          "LLB - SPREY Packaging (NSL)",
          "SUZ - MEDISEAL PURAN",
          "SUZ - EFERVESCENT CEWIN",
          "SUZ - FARCON",
          "LSX - TR200 Packaging Line",
          "FRA - Devices Pens, AL5 Packaging 2",
          "MLE - P2A1",
          "SUZ - MARCHESINI",
          "LLB - CP-2 Packaging (STRL)",
          "MAF - C4 Packaging Line",
          "OCO - MEDISEAL Packaging Line",
          "FRA - FF Packaging, VL47",
          "SCO - IMA C80/4",
          "ELB - FERMENTATION E07",
          "OCO - PARTENA 1 Packaging Line",
          "FRA - FF NAPA, M46 Filling",
          "FRA - Devices Pens, AL1",
          "FRA - Devices AI, EMA 20",
          "SUZ - FETTE 2090 I",
          "RDG - Synvisc Packaging Line",
          "LLB - IMA C95 Packaging (SOLD)",
          "OCO - C90 Packaging Line",
          "SCO - GAMMA2",
          "LSX - SUPPO Packaging Line",
          "LLB - Huttlin-1 Granulation",
          "LLB - Uhlmann Packaging (SOLD)",
          "MAF - C6 Packaging Line",
          "LLB - IMA-2 Packaging (SOLD)",
          "OCO - MELOX Packaging Line",
          "FRA - FF NAPA, M53 Filling",
          "LLB - IMA-3 Packaging (SOLD)",
          "LLB - TFS-30 Packaging (SSL)",
          "FRA - Devices Pens, AL5 Packaging 1",
          "LLB - IMA-4 Packaging (SOLD)",
          "LTR - C6 Packaging line",
          "FRA - Devices Pens, AL6",
          "LLB - IMA-1 Packaging (NSL)",
          "FRA - Pharma, M26 Filling",
          "OCO - LACTACYD Packaging Line",
          "LTR - C2 Packaging Line",
          "LTR - C9 Packaging line",
          "ORI - L27",
          "FRA - FF Packaging, HV01",
          "FRA - FF NAPA, M31 Inspection",
          "FRA - Pharma, M58 Inspection",
          "LTR - L647 Bio-Tech Packaging",
          "LTR - C7 Packaging line",
          "LLB - IMA-2 Packaging (NSL)",
          "TRS - L21 Packaging Line",
          "LLB - Bosch-3 Packaging (SOLD)",
          "FRA - FF Packaging, VL44",
          "FRA - Devices AI, Semi 120-1 Labeling",
          "FRA - Devices AI, FDLE",
          "FRA - Devices AI, Semi 120-1 Packaging",
          "ELB - FERMENTATION E09",
          "LLB - Bosch-1 Packaging (SOLD)",
          "ELB - FERMENTATION V08",
          "FRA - Devices Pens, AL5 Assembly",
          "ELB - FERMENTATION E05",
          "ELB - Extraction B12 1st cycle",
          "ELB - FERMENTATION E10",
          "SCO - COLLE1",
          "FRA - FF Packaging, VL62",
          "LLB - IMA-1 Packaging (SOLD)",
          "ELB - FERMENTATION E06",
          "FRA - FF Packaging, VL32",
          "FRA - Pharma, M52 Inspection",
          "LTR - Optima Assembling Machine",
          "FRA - FF Packaging, VL6",
          "SCO - Diosna 1",
          "SUZ - FETTE 3090 III",
          "ELB - FERMENTATION V09",
          "SCO - Diosna 2",
          "LTR - Corima Assembling Machine",
          "SCO - COLLE2",
          "ELB - FERMENTATION E11"
         ],
         "xaxis": "x",
         "y": [
          3023.0357646672933,
          510.0771387433575,
          408.005798615716,
          185.05560377617712,
          175.64712913680424,
          156.21018757483426,
          153.96186598848934,
          122.73821494652539,
          122.69459626262528,
          115.1266119909535,
          113.59760139038559,
          113.49776012872918,
          113.23655538909716,
          111.69860739837551,
          104.9267159070353,
          104.20341480569596,
          103.74240452148729,
          102.58763551842335,
          102.45294606330447,
          101.00372875259227,
          98.99276308118633,
          98.71501737682685,
          98.49373166365481,
          98.43743322899388,
          98.37628017923491,
          97.90128713519871,
          97.65070796161886,
          97.04347045628154,
          96.60943788283066,
          96.20121609621378,
          96.17887902949911,
          96.12034860893334,
          94.7405061408872,
          94.72489156801711,
          94.69526512634718,
          94.38024320209809,
          93.72194861531841,
          93.66291406571577,
          93.61291487579396,
          92.82059632935214,
          92.58027218395937,
          92.1671039889852,
          92.10461111215501,
          92.08624977835476,
          91.51625427163019,
          91.48764776424056,
          91.43276100397104,
          91.17560736453142,
          91.17309959563228,
          91.16910489687906,
          91.06246296853293,
          90.9846816646021,
          90.91517825265856,
          90.90317269025876,
          90.53579681722114,
          90.48518385622157,
          90.03808985715798,
          89.93415413609122,
          89.38507544526306,
          89.1082606374617,
          89.04773641338176,
          87.78594459441891,
          87.50581392790392,
          87.26231775984343,
          87.1623352623349,
          86.88448717502658,
          86.86377788035216,
          86.77370748652336,
          86.70400570663006,
          86.54648173640685,
          86.50600862242575,
          86.28406963219845,
          86.03959307591617,
          85.30152852260609,
          85.2402140453741,
          84.27523350118497,
          83.28153877438571,
          81.85333639622957,
          81.66209289472684,
          81.29023009233225,
          81.17152520183932,
          80.98595538138123,
          80.62894628409515,
          80.53321368408335,
          80.40528883038618,
          79.21504197920481,
          79.12752183013302,
          78.77099632095363,
          78.20634783028532,
          78.16140446604385,
          77.61105191534935,
          76.96382435156583,
          76.81347354031854,
          76.59736748795305,
          76.35464498603238,
          76.30186427665147,
          76.1217461517498,
          75.94935276806898,
          75.88332263722246,
          75.44029461341225,
          75.39386793611278,
          74.77351143289698,
          74.17101254694717,
          73.95594943623725,
          73.93533519170559,
          72.86127213411471,
          72.82334728039103,
          72.55722495813451,
          71.56540726837848,
          71.28539380909902,
          71.04684282727983,
          70.57213665772957,
          70.48978240028286,
          70.41482777474671,
          70.3274947264815,
          70.29609043466047,
          70.23482932538005,
          70.2024849425467,
          70.18179330937825,
          69.33541065819331,
          68.97562110717648,
          68.855601188403,
          68.68446307794414,
          68.67648169219103,
          68.2938178572183,
          68.21438120861716,
          67.91249450704237,
          67.87047762266265,
          67.15044981590887,
          66.89072068205799,
          66.77987319357172,
          66.62764427676447,
          66.2679879928667,
          64.32476708841521,
          64.12206311605613,
          63.949211998541614,
          63.1639609313776,
          62.7190835648925,
          61.775389772067896,
          61.26506670952452,
          60.8896507152774,
          57.99214187879477,
          57.98554565468348,
          57.51393045388138,
          56.3808018909896,
          54.12394900010681,
          53.88550772660314,
          53.2135289949341,
          51.62547843836536,
          49.92201792796296,
          48.86464811712898,
          48.38367499701404,
          47.310874759837844,
          47.22843672199322,
          46.07310948159403,
          39.98551338692816,
          39.228835755741265,
          39.169002156912576,
          33.64105420545576,
          33.27985620549263,
          25.514283080013843,
          18.702671865813123,
          13.73188986792561,
          5.873674215052335,
          4.847363392254319,
          1.5096618357487925,
          1.0658141036401503e-14
         ],
         "yaxis": "y"
        }
       ],
       "layout": {
        "barmode": "relative",
        "legend": {
         "tracegroupgap": 0
        },
        "template": {
         "data": {
          "bar": [
           {
            "error_x": {
             "color": "#2a3f5f"
            },
            "error_y": {
             "color": "#2a3f5f"
            },
            "marker": {
             "line": {
              "color": "#E5ECF6",
              "width": 0.5
             },
             "pattern": {
              "fillmode": "overlay",
              "size": 10,
              "solidity": 0.2
             }
            },
            "type": "bar"
           }
          ],
          "barpolar": [
           {
            "marker": {
             "line": {
              "color": "#E5ECF6",
              "width": 0.5
             },
             "pattern": {
              "fillmode": "overlay",
              "size": 10,
              "solidity": 0.2
             }
            },
            "type": "barpolar"
           }
          ],
          "carpet": [
           {
            "aaxis": {
             "endlinecolor": "#2a3f5f",
             "gridcolor": "white",
             "linecolor": "white",
             "minorgridcolor": "white",
             "startlinecolor": "#2a3f5f"
            },
            "baxis": {
             "endlinecolor": "#2a3f5f",
             "gridcolor": "white",
             "linecolor": "white",
             "minorgridcolor": "white",
             "startlinecolor": "#2a3f5f"
            },
            "type": "carpet"
           }
          ],
          "choropleth": [
           {
            "colorbar": {
             "outlinewidth": 0,
             "ticks": ""
            },
            "type": "choropleth"
           }
          ],
          "contour": [
           {
            "colorbar": {
             "outlinewidth": 0,
             "ticks": ""
            },
            "colorscale": [
             [
              0,
              "#0d0887"
             ],
             [
              0.1111111111111111,
              "#46039f"
             ],
             [
              0.2222222222222222,
              "#7201a8"
             ],
             [
              0.3333333333333333,
              "#9c179e"
             ],
             [
              0.4444444444444444,
              "#bd3786"
             ],
             [
              0.5555555555555556,
              "#d8576b"
             ],
             [
              0.6666666666666666,
              "#ed7953"
             ],
             [
              0.7777777777777778,
              "#fb9f3a"
             ],
             [
              0.8888888888888888,
              "#fdca26"
             ],
             [
              1,
              "#f0f921"
             ]
            ],
            "type": "contour"
           }
          ],
          "contourcarpet": [
           {
            "colorbar": {
             "outlinewidth": 0,
             "ticks": ""
            },
            "type": "contourcarpet"
           }
          ],
          "heatmap": [
           {
            "colorbar": {
             "outlinewidth": 0,
             "ticks": ""
            },
            "colorscale": [
             [
              0,
              "#0d0887"
             ],
             [
              0.1111111111111111,
              "#46039f"
             ],
             [
              0.2222222222222222,
              "#7201a8"
             ],
             [
              0.3333333333333333,
              "#9c179e"
             ],
             [
              0.4444444444444444,
              "#bd3786"
             ],
             [
              0.5555555555555556,
              "#d8576b"
             ],
             [
              0.6666666666666666,
              "#ed7953"
             ],
             [
              0.7777777777777778,
              "#fb9f3a"
             ],
             [
              0.8888888888888888,
              "#fdca26"
             ],
             [
              1,
              "#f0f921"
             ]
            ],
            "type": "heatmap"
           }
          ],
          "heatmapgl": [
           {
            "colorbar": {
             "outlinewidth": 0,
             "ticks": ""
            },
            "colorscale": [
             [
              0,
              "#0d0887"
             ],
             [
              0.1111111111111111,
              "#46039f"
             ],
             [
              0.2222222222222222,
              "#7201a8"
             ],
             [
              0.3333333333333333,
              "#9c179e"
             ],
             [
              0.4444444444444444,
              "#bd3786"
             ],
             [
              0.5555555555555556,
              "#d8576b"
             ],
             [
              0.6666666666666666,
              "#ed7953"
             ],
             [
              0.7777777777777778,
              "#fb9f3a"
             ],
             [
              0.8888888888888888,
              "#fdca26"
             ],
             [
              1,
              "#f0f921"
             ]
            ],
            "type": "heatmapgl"
           }
          ],
          "histogram": [
           {
            "marker": {
             "pattern": {
              "fillmode": "overlay",
              "size": 10,
              "solidity": 0.2
             }
            },
            "type": "histogram"
           }
          ],
          "histogram2d": [
           {
            "colorbar": {
             "outlinewidth": 0,
             "ticks": ""
            },
            "colorscale": [
             [
              0,
              "#0d0887"
             ],
             [
              0.1111111111111111,
              "#46039f"
             ],
             [
              0.2222222222222222,
              "#7201a8"
             ],
             [
              0.3333333333333333,
              "#9c179e"
             ],
             [
              0.4444444444444444,
              "#bd3786"
             ],
             [
              0.5555555555555556,
              "#d8576b"
             ],
             [
              0.6666666666666666,
              "#ed7953"
             ],
             [
              0.7777777777777778,
              "#fb9f3a"
             ],
             [
              0.8888888888888888,
              "#fdca26"
             ],
             [
              1,
              "#f0f921"
             ]
            ],
            "type": "histogram2d"
           }
          ],
          "histogram2dcontour": [
           {
            "colorbar": {
             "outlinewidth": 0,
             "ticks": ""
            },
            "colorscale": [
             [
              0,
              "#0d0887"
             ],
             [
              0.1111111111111111,
              "#46039f"
             ],
             [
              0.2222222222222222,
              "#7201a8"
             ],
             [
              0.3333333333333333,
              "#9c179e"
             ],
             [
              0.4444444444444444,
              "#bd3786"
             ],
             [
              0.5555555555555556,
              "#d8576b"
             ],
             [
              0.6666666666666666,
              "#ed7953"
             ],
             [
              0.7777777777777778,
              "#fb9f3a"
             ],
             [
              0.8888888888888888,
              "#fdca26"
             ],
             [
              1,
              "#f0f921"
             ]
            ],
            "type": "histogram2dcontour"
           }
          ],
          "mesh3d": [
           {
            "colorbar": {
             "outlinewidth": 0,
             "ticks": ""
            },
            "type": "mesh3d"
           }
          ],
          "parcoords": [
           {
            "line": {
             "colorbar": {
              "outlinewidth": 0,
              "ticks": ""
             }
            },
            "type": "parcoords"
           }
          ],
          "pie": [
           {
            "automargin": true,
            "type": "pie"
           }
          ],
          "scatter": [
           {
            "marker": {
             "colorbar": {
              "outlinewidth": 0,
              "ticks": ""
             }
            },
            "type": "scatter"
           }
          ],
          "scatter3d": [
           {
            "line": {
             "colorbar": {
              "outlinewidth": 0,
              "ticks": ""
             }
            },
            "marker": {
             "colorbar": {
              "outlinewidth": 0,
              "ticks": ""
             }
            },
            "type": "scatter3d"
           }
          ],
          "scattercarpet": [
           {
            "marker": {
             "colorbar": {
              "outlinewidth": 0,
              "ticks": ""
             }
            },
            "type": "scattercarpet"
           }
          ],
          "scattergeo": [
           {
            "marker": {
             "colorbar": {
              "outlinewidth": 0,
              "ticks": ""
             }
            },
            "type": "scattergeo"
           }
          ],
          "scattergl": [
           {
            "marker": {
             "colorbar": {
              "outlinewidth": 0,
              "ticks": ""
             }
            },
            "type": "scattergl"
           }
          ],
          "scattermapbox": [
           {
            "marker": {
             "colorbar": {
              "outlinewidth": 0,
              "ticks": ""
             }
            },
            "type": "scattermapbox"
           }
          ],
          "scatterpolar": [
           {
            "marker": {
             "colorbar": {
              "outlinewidth": 0,
              "ticks": ""
             }
            },
            "type": "scatterpolar"
           }
          ],
          "scatterpolargl": [
           {
            "marker": {
             "colorbar": {
              "outlinewidth": 0,
              "ticks": ""
             }
            },
            "type": "scatterpolargl"
           }
          ],
          "scatterternary": [
           {
            "marker": {
             "colorbar": {
              "outlinewidth": 0,
              "ticks": ""
             }
            },
            "type": "scatterternary"
           }
          ],
          "surface": [
           {
            "colorbar": {
             "outlinewidth": 0,
             "ticks": ""
            },
            "colorscale": [
             [
              0,
              "#0d0887"
             ],
             [
              0.1111111111111111,
              "#46039f"
             ],
             [
              0.2222222222222222,
              "#7201a8"
             ],
             [
              0.3333333333333333,
              "#9c179e"
             ],
             [
              0.4444444444444444,
              "#bd3786"
             ],
             [
              0.5555555555555556,
              "#d8576b"
             ],
             [
              0.6666666666666666,
              "#ed7953"
             ],
             [
              0.7777777777777778,
              "#fb9f3a"
             ],
             [
              0.8888888888888888,
              "#fdca26"
             ],
             [
              1,
              "#f0f921"
             ]
            ],
            "type": "surface"
           }
          ],
          "table": [
           {
            "cells": {
             "fill": {
              "color": "#EBF0F8"
             },
             "line": {
              "color": "white"
             }
            },
            "header": {
             "fill": {
              "color": "#C8D4E3"
             },
             "line": {
              "color": "white"
             }
            },
            "type": "table"
           }
          ]
         },
         "layout": {
          "annotationdefaults": {
           "arrowcolor": "#2a3f5f",
           "arrowhead": 0,
           "arrowwidth": 1
          },
          "autotypenumbers": "strict",
          "coloraxis": {
           "colorbar": {
            "outlinewidth": 0,
            "ticks": ""
           }
          },
          "colorscale": {
           "diverging": [
            [
             0,
             "#8e0152"
            ],
            [
             0.1,
             "#c51b7d"
            ],
            [
             0.2,
             "#de77ae"
            ],
            [
             0.3,
             "#f1b6da"
            ],
            [
             0.4,
             "#fde0ef"
            ],
            [
             0.5,
             "#f7f7f7"
            ],
            [
             0.6,
             "#e6f5d0"
            ],
            [
             0.7,
             "#b8e186"
            ],
            [
             0.8,
             "#7fbc41"
            ],
            [
             0.9,
             "#4d9221"
            ],
            [
             1,
             "#276419"
            ]
           ],
           "sequential": [
            [
             0,
             "#0d0887"
            ],
            [
             0.1111111111111111,
             "#46039f"
            ],
            [
             0.2222222222222222,
             "#7201a8"
            ],
            [
             0.3333333333333333,
             "#9c179e"
            ],
            [
             0.4444444444444444,
             "#bd3786"
            ],
            [
             0.5555555555555556,
             "#d8576b"
            ],
            [
             0.6666666666666666,
             "#ed7953"
            ],
            [
             0.7777777777777778,
             "#fb9f3a"
            ],
            [
             0.8888888888888888,
             "#fdca26"
            ],
            [
             1,
             "#f0f921"
            ]
           ],
           "sequentialminus": [
            [
             0,
             "#0d0887"
            ],
            [
             0.1111111111111111,
             "#46039f"
            ],
            [
             0.2222222222222222,
             "#7201a8"
            ],
            [
             0.3333333333333333,
             "#9c179e"
            ],
            [
             0.4444444444444444,
             "#bd3786"
            ],
            [
             0.5555555555555556,
             "#d8576b"
            ],
            [
             0.6666666666666666,
             "#ed7953"
            ],
            [
             0.7777777777777778,
             "#fb9f3a"
            ],
            [
             0.8888888888888888,
             "#fdca26"
            ],
            [
             1,
             "#f0f921"
            ]
           ]
          },
          "colorway": [
           "#636efa",
           "#EF553B",
           "#00cc96",
           "#ab63fa",
           "#FFA15A",
           "#19d3f3",
           "#FF6692",
           "#B6E880",
           "#FF97FF",
           "#FECB52"
          ],
          "font": {
           "color": "#2a3f5f"
          },
          "geo": {
           "bgcolor": "white",
           "lakecolor": "white",
           "landcolor": "#E5ECF6",
           "showlakes": true,
           "showland": true,
           "subunitcolor": "white"
          },
          "hoverlabel": {
           "align": "left"
          },
          "hovermode": "closest",
          "mapbox": {
           "style": "light"
          },
          "paper_bgcolor": "white",
          "plot_bgcolor": "#E5ECF6",
          "polar": {
           "angularaxis": {
            "gridcolor": "white",
            "linecolor": "white",
            "ticks": ""
           },
           "bgcolor": "#E5ECF6",
           "radialaxis": {
            "gridcolor": "white",
            "linecolor": "white",
            "ticks": ""
           }
          },
          "scene": {
           "xaxis": {
            "backgroundcolor": "#E5ECF6",
            "gridcolor": "white",
            "gridwidth": 2,
            "linecolor": "white",
            "showbackground": true,
            "ticks": "",
            "zerolinecolor": "white"
           },
           "yaxis": {
            "backgroundcolor": "#E5ECF6",
            "gridcolor": "white",
            "gridwidth": 2,
            "linecolor": "white",
            "showbackground": true,
            "ticks": "",
            "zerolinecolor": "white"
           },
           "zaxis": {
            "backgroundcolor": "#E5ECF6",
            "gridcolor": "white",
            "gridwidth": 2,
            "linecolor": "white",
            "showbackground": true,
            "ticks": "",
            "zerolinecolor": "white"
           }
          },
          "shapedefaults": {
           "line": {
            "color": "#2a3f5f"
           }
          },
          "ternary": {
           "aaxis": {
            "gridcolor": "white",
            "linecolor": "white",
            "ticks": ""
           },
           "baxis": {
            "gridcolor": "white",
            "linecolor": "white",
            "ticks": ""
           },
           "bgcolor": "#E5ECF6",
           "caxis": {
            "gridcolor": "white",
            "linecolor": "white",
            "ticks": ""
           }
          },
          "title": {
           "x": 0.05
          },
          "xaxis": {
           "automargin": true,
           "gridcolor": "white",
           "linecolor": "white",
           "ticks": "",
           "title": {
            "standoff": 15
           },
           "zerolinecolor": "white",
           "zerolinewidth": 2
          },
          "yaxis": {
           "automargin": true,
           "gridcolor": "white",
           "linecolor": "white",
           "ticks": "",
           "title": {
            "standoff": 15
           },
           "zerolinecolor": "white",
           "zerolinewidth": 2
          }
         }
        },
        "title": {
         "text": "Latest Rolling Performance % by Line"
        },
        "xaxis": {
         "anchor": "y",
         "domain": [
          0,
          1
         ],
         "title": {
          "text": "Line"
         }
        },
        "yaxis": {
         "anchor": "x",
         "domain": [
          0,
          1
         ],
         "range": [
          0,
          100
         ],
         "title": {
          "text": "Performance %"
         }
        }
       }
      }
     },
     "metadata": {},
     "output_type": "display_data"
    },
    {
     "data": {
      "application/vnd.plotly.v1+json": {
       "config": {
        "plotlyServerURL": "https://plot.ly"
       },
       "data": [
        {
         "alignmentgroup": "True",
         "hovertemplate": "Plant=%{x}<br>OEE %=%{y}<extra></extra>",
         "legendgroup": "",
         "marker": {
          "color": "#636efa",
          "pattern": {
           "shape": ""
          }
         },
         "name": "",
         "offsetgroup": "",
         "orientation": "v",
         "showlegend": false,
         "textposition": "auto",
         "type": "bar",
         "x": [
          "WAT",
          "HZG",
          "MAF",
          "LSX",
          "SZX",
          "LLB",
          "RDG",
          "OCO",
          "ELB",
          "SUZ",
          "ORI",
          "VDR",
          "TRS",
          "FRA",
          "SCO",
          "LTR",
          "MLE"
         ],
         "xaxis": "x",
         "y": [
          221.0767107471228,
          68.6974740114159,
          56.171540755118606,
          54.45051658062305,
          53.81630191087544,
          52.687787589758734,
          49.28737168184327,
          48.93519190355626,
          45.795837932189464,
          44.54379240598364,
          42.51782709196329,
          40.53368528103162,
          37.9215794868555,
          37.6128986312424,
          36.80096148413137,
          28.783970391409486,
          22.04910911847785
         ],
         "yaxis": "y"
        }
       ],
       "layout": {
        "annotations": [
         {
          "showarrow": false,
          "text": "60% June 2022 Target",
          "x": 0,
          "xanchor": "left",
          "xref": "x domain",
          "y": 60,
          "yanchor": "top",
          "yref": "y"
         },
         {
          "showarrow": false,
          "text": "65% December 2022 Target",
          "x": 1,
          "xanchor": "right",
          "xref": "x domain",
          "y": 65,
          "yanchor": "bottom",
          "yref": "y"
         }
        ],
        "barmode": "relative",
        "legend": {
         "tracegroupgap": 0
        },
        "shapes": [
         {
          "line": {
           "color": "orange",
           "dash": "dot"
          },
          "type": "line",
          "x0": 0,
          "x1": 1,
          "xref": "x domain",
          "y0": 60,
          "y1": 60,
          "yref": "y"
         },
         {
          "line": {
           "color": "green",
           "dash": "dot"
          },
          "type": "line",
          "x0": 0,
          "x1": 1,
          "xref": "x domain",
          "y0": 65,
          "y1": 65,
          "yref": "y"
         }
        ],
        "template": {
         "data": {
          "bar": [
           {
            "error_x": {
             "color": "#2a3f5f"
            },
            "error_y": {
             "color": "#2a3f5f"
            },
            "marker": {
             "line": {
              "color": "#E5ECF6",
              "width": 0.5
             },
             "pattern": {
              "fillmode": "overlay",
              "size": 10,
              "solidity": 0.2
             }
            },
            "type": "bar"
           }
          ],
          "barpolar": [
           {
            "marker": {
             "line": {
              "color": "#E5ECF6",
              "width": 0.5
             },
             "pattern": {
              "fillmode": "overlay",
              "size": 10,
              "solidity": 0.2
             }
            },
            "type": "barpolar"
           }
          ],
          "carpet": [
           {
            "aaxis": {
             "endlinecolor": "#2a3f5f",
             "gridcolor": "white",
             "linecolor": "white",
             "minorgridcolor": "white",
             "startlinecolor": "#2a3f5f"
            },
            "baxis": {
             "endlinecolor": "#2a3f5f",
             "gridcolor": "white",
             "linecolor": "white",
             "minorgridcolor": "white",
             "startlinecolor": "#2a3f5f"
            },
            "type": "carpet"
           }
          ],
          "choropleth": [
           {
            "colorbar": {
             "outlinewidth": 0,
             "ticks": ""
            },
            "type": "choropleth"
           }
          ],
          "contour": [
           {
            "colorbar": {
             "outlinewidth": 0,
             "ticks": ""
            },
            "colorscale": [
             [
              0,
              "#0d0887"
             ],
             [
              0.1111111111111111,
              "#46039f"
             ],
             [
              0.2222222222222222,
              "#7201a8"
             ],
             [
              0.3333333333333333,
              "#9c179e"
             ],
             [
              0.4444444444444444,
              "#bd3786"
             ],
             [
              0.5555555555555556,
              "#d8576b"
             ],
             [
              0.6666666666666666,
              "#ed7953"
             ],
             [
              0.7777777777777778,
              "#fb9f3a"
             ],
             [
              0.8888888888888888,
              "#fdca26"
             ],
             [
              1,
              "#f0f921"
             ]
            ],
            "type": "contour"
           }
          ],
          "contourcarpet": [
           {
            "colorbar": {
             "outlinewidth": 0,
             "ticks": ""
            },
            "type": "contourcarpet"
           }
          ],
          "heatmap": [
           {
            "colorbar": {
             "outlinewidth": 0,
             "ticks": ""
            },
            "colorscale": [
             [
              0,
              "#0d0887"
             ],
             [
              0.1111111111111111,
              "#46039f"
             ],
             [
              0.2222222222222222,
              "#7201a8"
             ],
             [
              0.3333333333333333,
              "#9c179e"
             ],
             [
              0.4444444444444444,
              "#bd3786"
             ],
             [
              0.5555555555555556,
              "#d8576b"
             ],
             [
              0.6666666666666666,
              "#ed7953"
             ],
             [
              0.7777777777777778,
              "#fb9f3a"
             ],
             [
              0.8888888888888888,
              "#fdca26"
             ],
             [
              1,
              "#f0f921"
             ]
            ],
            "type": "heatmap"
           }
          ],
          "heatmapgl": [
           {
            "colorbar": {
             "outlinewidth": 0,
             "ticks": ""
            },
            "colorscale": [
             [
              0,
              "#0d0887"
             ],
             [
              0.1111111111111111,
              "#46039f"
             ],
             [
              0.2222222222222222,
              "#7201a8"
             ],
             [
              0.3333333333333333,
              "#9c179e"
             ],
             [
              0.4444444444444444,
              "#bd3786"
             ],
             [
              0.5555555555555556,
              "#d8576b"
             ],
             [
              0.6666666666666666,
              "#ed7953"
             ],
             [
              0.7777777777777778,
              "#fb9f3a"
             ],
             [
              0.8888888888888888,
              "#fdca26"
             ],
             [
              1,
              "#f0f921"
             ]
            ],
            "type": "heatmapgl"
           }
          ],
          "histogram": [
           {
            "marker": {
             "pattern": {
              "fillmode": "overlay",
              "size": 10,
              "solidity": 0.2
             }
            },
            "type": "histogram"
           }
          ],
          "histogram2d": [
           {
            "colorbar": {
             "outlinewidth": 0,
             "ticks": ""
            },
            "colorscale": [
             [
              0,
              "#0d0887"
             ],
             [
              0.1111111111111111,
              "#46039f"
             ],
             [
              0.2222222222222222,
              "#7201a8"
             ],
             [
              0.3333333333333333,
              "#9c179e"
             ],
             [
              0.4444444444444444,
              "#bd3786"
             ],
             [
              0.5555555555555556,
              "#d8576b"
             ],
             [
              0.6666666666666666,
              "#ed7953"
             ],
             [
              0.7777777777777778,
              "#fb9f3a"
             ],
             [
              0.8888888888888888,
              "#fdca26"
             ],
             [
              1,
              "#f0f921"
             ]
            ],
            "type": "histogram2d"
           }
          ],
          "histogram2dcontour": [
           {
            "colorbar": {
             "outlinewidth": 0,
             "ticks": ""
            },
            "colorscale": [
             [
              0,
              "#0d0887"
             ],
             [
              0.1111111111111111,
              "#46039f"
             ],
             [
              0.2222222222222222,
              "#7201a8"
             ],
             [
              0.3333333333333333,
              "#9c179e"
             ],
             [
              0.4444444444444444,
              "#bd3786"
             ],
             [
              0.5555555555555556,
              "#d8576b"
             ],
             [
              0.6666666666666666,
              "#ed7953"
             ],
             [
              0.7777777777777778,
              "#fb9f3a"
             ],
             [
              0.8888888888888888,
              "#fdca26"
             ],
             [
              1,
              "#f0f921"
             ]
            ],
            "type": "histogram2dcontour"
           }
          ],
          "mesh3d": [
           {
            "colorbar": {
             "outlinewidth": 0,
             "ticks": ""
            },
            "type": "mesh3d"
           }
          ],
          "parcoords": [
           {
            "line": {
             "colorbar": {
              "outlinewidth": 0,
              "ticks": ""
             }
            },
            "type": "parcoords"
           }
          ],
          "pie": [
           {
            "automargin": true,
            "type": "pie"
           }
          ],
          "scatter": [
           {
            "marker": {
             "colorbar": {
              "outlinewidth": 0,
              "ticks": ""
             }
            },
            "type": "scatter"
           }
          ],
          "scatter3d": [
           {
            "line": {
             "colorbar": {
              "outlinewidth": 0,
              "ticks": ""
             }
            },
            "marker": {
             "colorbar": {
              "outlinewidth": 0,
              "ticks": ""
             }
            },
            "type": "scatter3d"
           }
          ],
          "scattercarpet": [
           {
            "marker": {
             "colorbar": {
              "outlinewidth": 0,
              "ticks": ""
             }
            },
            "type": "scattercarpet"
           }
          ],
          "scattergeo": [
           {
            "marker": {
             "colorbar": {
              "outlinewidth": 0,
              "ticks": ""
             }
            },
            "type": "scattergeo"
           }
          ],
          "scattergl": [
           {
            "marker": {
             "colorbar": {
              "outlinewidth": 0,
              "ticks": ""
             }
            },
            "type": "scattergl"
           }
          ],
          "scattermapbox": [
           {
            "marker": {
             "colorbar": {
              "outlinewidth": 0,
              "ticks": ""
             }
            },
            "type": "scattermapbox"
           }
          ],
          "scatterpolar": [
           {
            "marker": {
             "colorbar": {
              "outlinewidth": 0,
              "ticks": ""
             }
            },
            "type": "scatterpolar"
           }
          ],
          "scatterpolargl": [
           {
            "marker": {
             "colorbar": {
              "outlinewidth": 0,
              "ticks": ""
             }
            },
            "type": "scatterpolargl"
           }
          ],
          "scatterternary": [
           {
            "marker": {
             "colorbar": {
              "outlinewidth": 0,
              "ticks": ""
             }
            },
            "type": "scatterternary"
           }
          ],
          "surface": [
           {
            "colorbar": {
             "outlinewidth": 0,
             "ticks": ""
            },
            "colorscale": [
             [
              0,
              "#0d0887"
             ],
             [
              0.1111111111111111,
              "#46039f"
             ],
             [
              0.2222222222222222,
              "#7201a8"
             ],
             [
              0.3333333333333333,
              "#9c179e"
             ],
             [
              0.4444444444444444,
              "#bd3786"
             ],
             [
              0.5555555555555556,
              "#d8576b"
             ],
             [
              0.6666666666666666,
              "#ed7953"
             ],
             [
              0.7777777777777778,
              "#fb9f3a"
             ],
             [
              0.8888888888888888,
              "#fdca26"
             ],
             [
              1,
              "#f0f921"
             ]
            ],
            "type": "surface"
           }
          ],
          "table": [
           {
            "cells": {
             "fill": {
              "color": "#EBF0F8"
             },
             "line": {
              "color": "white"
             }
            },
            "header": {
             "fill": {
              "color": "#C8D4E3"
             },
             "line": {
              "color": "white"
             }
            },
            "type": "table"
           }
          ]
         },
         "layout": {
          "annotationdefaults": {
           "arrowcolor": "#2a3f5f",
           "arrowhead": 0,
           "arrowwidth": 1
          },
          "autotypenumbers": "strict",
          "coloraxis": {
           "colorbar": {
            "outlinewidth": 0,
            "ticks": ""
           }
          },
          "colorscale": {
           "diverging": [
            [
             0,
             "#8e0152"
            ],
            [
             0.1,
             "#c51b7d"
            ],
            [
             0.2,
             "#de77ae"
            ],
            [
             0.3,
             "#f1b6da"
            ],
            [
             0.4,
             "#fde0ef"
            ],
            [
             0.5,
             "#f7f7f7"
            ],
            [
             0.6,
             "#e6f5d0"
            ],
            [
             0.7,
             "#b8e186"
            ],
            [
             0.8,
             "#7fbc41"
            ],
            [
             0.9,
             "#4d9221"
            ],
            [
             1,
             "#276419"
            ]
           ],
           "sequential": [
            [
             0,
             "#0d0887"
            ],
            [
             0.1111111111111111,
             "#46039f"
            ],
            [
             0.2222222222222222,
             "#7201a8"
            ],
            [
             0.3333333333333333,
             "#9c179e"
            ],
            [
             0.4444444444444444,
             "#bd3786"
            ],
            [
             0.5555555555555556,
             "#d8576b"
            ],
            [
             0.6666666666666666,
             "#ed7953"
            ],
            [
             0.7777777777777778,
             "#fb9f3a"
            ],
            [
             0.8888888888888888,
             "#fdca26"
            ],
            [
             1,
             "#f0f921"
            ]
           ],
           "sequentialminus": [
            [
             0,
             "#0d0887"
            ],
            [
             0.1111111111111111,
             "#46039f"
            ],
            [
             0.2222222222222222,
             "#7201a8"
            ],
            [
             0.3333333333333333,
             "#9c179e"
            ],
            [
             0.4444444444444444,
             "#bd3786"
            ],
            [
             0.5555555555555556,
             "#d8576b"
            ],
            [
             0.6666666666666666,
             "#ed7953"
            ],
            [
             0.7777777777777778,
             "#fb9f3a"
            ],
            [
             0.8888888888888888,
             "#fdca26"
            ],
            [
             1,
             "#f0f921"
            ]
           ]
          },
          "colorway": [
           "#636efa",
           "#EF553B",
           "#00cc96",
           "#ab63fa",
           "#FFA15A",
           "#19d3f3",
           "#FF6692",
           "#B6E880",
           "#FF97FF",
           "#FECB52"
          ],
          "font": {
           "color": "#2a3f5f"
          },
          "geo": {
           "bgcolor": "white",
           "lakecolor": "white",
           "landcolor": "#E5ECF6",
           "showlakes": true,
           "showland": true,
           "subunitcolor": "white"
          },
          "hoverlabel": {
           "align": "left"
          },
          "hovermode": "closest",
          "mapbox": {
           "style": "light"
          },
          "paper_bgcolor": "white",
          "plot_bgcolor": "#E5ECF6",
          "polar": {
           "angularaxis": {
            "gridcolor": "white",
            "linecolor": "white",
            "ticks": ""
           },
           "bgcolor": "#E5ECF6",
           "radialaxis": {
            "gridcolor": "white",
            "linecolor": "white",
            "ticks": ""
           }
          },
          "scene": {
           "xaxis": {
            "backgroundcolor": "#E5ECF6",
            "gridcolor": "white",
            "gridwidth": 2,
            "linecolor": "white",
            "showbackground": true,
            "ticks": "",
            "zerolinecolor": "white"
           },
           "yaxis": {
            "backgroundcolor": "#E5ECF6",
            "gridcolor": "white",
            "gridwidth": 2,
            "linecolor": "white",
            "showbackground": true,
            "ticks": "",
            "zerolinecolor": "white"
           },
           "zaxis": {
            "backgroundcolor": "#E5ECF6",
            "gridcolor": "white",
            "gridwidth": 2,
            "linecolor": "white",
            "showbackground": true,
            "ticks": "",
            "zerolinecolor": "white"
           }
          },
          "shapedefaults": {
           "line": {
            "color": "#2a3f5f"
           }
          },
          "ternary": {
           "aaxis": {
            "gridcolor": "white",
            "linecolor": "white",
            "ticks": ""
           },
           "baxis": {
            "gridcolor": "white",
            "linecolor": "white",
            "ticks": ""
           },
           "bgcolor": "#E5ECF6",
           "caxis": {
            "gridcolor": "white",
            "linecolor": "white",
            "ticks": ""
           }
          },
          "title": {
           "x": 0.05
          },
          "xaxis": {
           "automargin": true,
           "gridcolor": "white",
           "linecolor": "white",
           "ticks": "",
           "title": {
            "standoff": 15
           },
           "zerolinecolor": "white",
           "zerolinewidth": 2
          },
          "yaxis": {
           "automargin": true,
           "gridcolor": "white",
           "linecolor": "white",
           "ticks": "",
           "title": {
            "standoff": 15
           },
           "zerolinecolor": "white",
           "zerolinewidth": 2
          }
         }
        },
        "title": {
         "text": "Latest Rolling OEE % by Plant"
        },
        "xaxis": {
         "anchor": "y",
         "domain": [
          0,
          1
         ],
         "title": {
          "text": "Plant"
         }
        },
        "yaxis": {
         "anchor": "x",
         "domain": [
          0,
          1
         ],
         "range": [
          0,
          100
         ],
         "title": {
          "text": "OEE %"
         }
        }
       }
      }
     },
     "metadata": {},
     "output_type": "display_data"
    },
    {
     "data": {
      "application/vnd.plotly.v1+json": {
       "config": {
        "plotlyServerURL": "https://plot.ly"
       },
       "data": [
        {
         "alignmentgroup": "True",
         "hovertemplate": "Plant=%{x}<br>Availability %=%{y}<extra></extra>",
         "legendgroup": "",
         "marker": {
          "color": "#636efa",
          "pattern": {
           "shape": ""
          }
         },
         "name": "",
         "offsetgroup": "",
         "orientation": "v",
         "showlegend": false,
         "textposition": "auto",
         "type": "bar",
         "x": [
          "SZX",
          "HZG",
          "LLB",
          "LSX",
          "ELB",
          "MAF",
          "RDG",
          "OCO",
          "SCO",
          "ORI",
          "LTR",
          "FRA",
          "SUZ",
          "TRS",
          "VDR",
          "MLE",
          "WAT"
         ],
         "xaxis": "x",
         "y": [
          75.46871543225797,
          69.79593719452062,
          68.04973885256203,
          67.53873398277328,
          63.32787237664511,
          62.152418098894636,
          60.01295194646745,
          57.965921027255234,
          53.37366532160477,
          50.24079310628457,
          49.668336887071156,
          49.376704740230174,
          44.87739061117365,
          43.66764055446572,
          39.6018884316094,
          29.766393712052945,
          28.15197027790938
         ],
         "yaxis": "y"
        }
       ],
       "layout": {
        "barmode": "relative",
        "legend": {
         "tracegroupgap": 0
        },
        "template": {
         "data": {
          "bar": [
           {
            "error_x": {
             "color": "#2a3f5f"
            },
            "error_y": {
             "color": "#2a3f5f"
            },
            "marker": {
             "line": {
              "color": "#E5ECF6",
              "width": 0.5
             },
             "pattern": {
              "fillmode": "overlay",
              "size": 10,
              "solidity": 0.2
             }
            },
            "type": "bar"
           }
          ],
          "barpolar": [
           {
            "marker": {
             "line": {
              "color": "#E5ECF6",
              "width": 0.5
             },
             "pattern": {
              "fillmode": "overlay",
              "size": 10,
              "solidity": 0.2
             }
            },
            "type": "barpolar"
           }
          ],
          "carpet": [
           {
            "aaxis": {
             "endlinecolor": "#2a3f5f",
             "gridcolor": "white",
             "linecolor": "white",
             "minorgridcolor": "white",
             "startlinecolor": "#2a3f5f"
            },
            "baxis": {
             "endlinecolor": "#2a3f5f",
             "gridcolor": "white",
             "linecolor": "white",
             "minorgridcolor": "white",
             "startlinecolor": "#2a3f5f"
            },
            "type": "carpet"
           }
          ],
          "choropleth": [
           {
            "colorbar": {
             "outlinewidth": 0,
             "ticks": ""
            },
            "type": "choropleth"
           }
          ],
          "contour": [
           {
            "colorbar": {
             "outlinewidth": 0,
             "ticks": ""
            },
            "colorscale": [
             [
              0,
              "#0d0887"
             ],
             [
              0.1111111111111111,
              "#46039f"
             ],
             [
              0.2222222222222222,
              "#7201a8"
             ],
             [
              0.3333333333333333,
              "#9c179e"
             ],
             [
              0.4444444444444444,
              "#bd3786"
             ],
             [
              0.5555555555555556,
              "#d8576b"
             ],
             [
              0.6666666666666666,
              "#ed7953"
             ],
             [
              0.7777777777777778,
              "#fb9f3a"
             ],
             [
              0.8888888888888888,
              "#fdca26"
             ],
             [
              1,
              "#f0f921"
             ]
            ],
            "type": "contour"
           }
          ],
          "contourcarpet": [
           {
            "colorbar": {
             "outlinewidth": 0,
             "ticks": ""
            },
            "type": "contourcarpet"
           }
          ],
          "heatmap": [
           {
            "colorbar": {
             "outlinewidth": 0,
             "ticks": ""
            },
            "colorscale": [
             [
              0,
              "#0d0887"
             ],
             [
              0.1111111111111111,
              "#46039f"
             ],
             [
              0.2222222222222222,
              "#7201a8"
             ],
             [
              0.3333333333333333,
              "#9c179e"
             ],
             [
              0.4444444444444444,
              "#bd3786"
             ],
             [
              0.5555555555555556,
              "#d8576b"
             ],
             [
              0.6666666666666666,
              "#ed7953"
             ],
             [
              0.7777777777777778,
              "#fb9f3a"
             ],
             [
              0.8888888888888888,
              "#fdca26"
             ],
             [
              1,
              "#f0f921"
             ]
            ],
            "type": "heatmap"
           }
          ],
          "heatmapgl": [
           {
            "colorbar": {
             "outlinewidth": 0,
             "ticks": ""
            },
            "colorscale": [
             [
              0,
              "#0d0887"
             ],
             [
              0.1111111111111111,
              "#46039f"
             ],
             [
              0.2222222222222222,
              "#7201a8"
             ],
             [
              0.3333333333333333,
              "#9c179e"
             ],
             [
              0.4444444444444444,
              "#bd3786"
             ],
             [
              0.5555555555555556,
              "#d8576b"
             ],
             [
              0.6666666666666666,
              "#ed7953"
             ],
             [
              0.7777777777777778,
              "#fb9f3a"
             ],
             [
              0.8888888888888888,
              "#fdca26"
             ],
             [
              1,
              "#f0f921"
             ]
            ],
            "type": "heatmapgl"
           }
          ],
          "histogram": [
           {
            "marker": {
             "pattern": {
              "fillmode": "overlay",
              "size": 10,
              "solidity": 0.2
             }
            },
            "type": "histogram"
           }
          ],
          "histogram2d": [
           {
            "colorbar": {
             "outlinewidth": 0,
             "ticks": ""
            },
            "colorscale": [
             [
              0,
              "#0d0887"
             ],
             [
              0.1111111111111111,
              "#46039f"
             ],
             [
              0.2222222222222222,
              "#7201a8"
             ],
             [
              0.3333333333333333,
              "#9c179e"
             ],
             [
              0.4444444444444444,
              "#bd3786"
             ],
             [
              0.5555555555555556,
              "#d8576b"
             ],
             [
              0.6666666666666666,
              "#ed7953"
             ],
             [
              0.7777777777777778,
              "#fb9f3a"
             ],
             [
              0.8888888888888888,
              "#fdca26"
             ],
             [
              1,
              "#f0f921"
             ]
            ],
            "type": "histogram2d"
           }
          ],
          "histogram2dcontour": [
           {
            "colorbar": {
             "outlinewidth": 0,
             "ticks": ""
            },
            "colorscale": [
             [
              0,
              "#0d0887"
             ],
             [
              0.1111111111111111,
              "#46039f"
             ],
             [
              0.2222222222222222,
              "#7201a8"
             ],
             [
              0.3333333333333333,
              "#9c179e"
             ],
             [
              0.4444444444444444,
              "#bd3786"
             ],
             [
              0.5555555555555556,
              "#d8576b"
             ],
             [
              0.6666666666666666,
              "#ed7953"
             ],
             [
              0.7777777777777778,
              "#fb9f3a"
             ],
             [
              0.8888888888888888,
              "#fdca26"
             ],
             [
              1,
              "#f0f921"
             ]
            ],
            "type": "histogram2dcontour"
           }
          ],
          "mesh3d": [
           {
            "colorbar": {
             "outlinewidth": 0,
             "ticks": ""
            },
            "type": "mesh3d"
           }
          ],
          "parcoords": [
           {
            "line": {
             "colorbar": {
              "outlinewidth": 0,
              "ticks": ""
             }
            },
            "type": "parcoords"
           }
          ],
          "pie": [
           {
            "automargin": true,
            "type": "pie"
           }
          ],
          "scatter": [
           {
            "marker": {
             "colorbar": {
              "outlinewidth": 0,
              "ticks": ""
             }
            },
            "type": "scatter"
           }
          ],
          "scatter3d": [
           {
            "line": {
             "colorbar": {
              "outlinewidth": 0,
              "ticks": ""
             }
            },
            "marker": {
             "colorbar": {
              "outlinewidth": 0,
              "ticks": ""
             }
            },
            "type": "scatter3d"
           }
          ],
          "scattercarpet": [
           {
            "marker": {
             "colorbar": {
              "outlinewidth": 0,
              "ticks": ""
             }
            },
            "type": "scattercarpet"
           }
          ],
          "scattergeo": [
           {
            "marker": {
             "colorbar": {
              "outlinewidth": 0,
              "ticks": ""
             }
            },
            "type": "scattergeo"
           }
          ],
          "scattergl": [
           {
            "marker": {
             "colorbar": {
              "outlinewidth": 0,
              "ticks": ""
             }
            },
            "type": "scattergl"
           }
          ],
          "scattermapbox": [
           {
            "marker": {
             "colorbar": {
              "outlinewidth": 0,
              "ticks": ""
             }
            },
            "type": "scattermapbox"
           }
          ],
          "scatterpolar": [
           {
            "marker": {
             "colorbar": {
              "outlinewidth": 0,
              "ticks": ""
             }
            },
            "type": "scatterpolar"
           }
          ],
          "scatterpolargl": [
           {
            "marker": {
             "colorbar": {
              "outlinewidth": 0,
              "ticks": ""
             }
            },
            "type": "scatterpolargl"
           }
          ],
          "scatterternary": [
           {
            "marker": {
             "colorbar": {
              "outlinewidth": 0,
              "ticks": ""
             }
            },
            "type": "scatterternary"
           }
          ],
          "surface": [
           {
            "colorbar": {
             "outlinewidth": 0,
             "ticks": ""
            },
            "colorscale": [
             [
              0,
              "#0d0887"
             ],
             [
              0.1111111111111111,
              "#46039f"
             ],
             [
              0.2222222222222222,
              "#7201a8"
             ],
             [
              0.3333333333333333,
              "#9c179e"
             ],
             [
              0.4444444444444444,
              "#bd3786"
             ],
             [
              0.5555555555555556,
              "#d8576b"
             ],
             [
              0.6666666666666666,
              "#ed7953"
             ],
             [
              0.7777777777777778,
              "#fb9f3a"
             ],
             [
              0.8888888888888888,
              "#fdca26"
             ],
             [
              1,
              "#f0f921"
             ]
            ],
            "type": "surface"
           }
          ],
          "table": [
           {
            "cells": {
             "fill": {
              "color": "#EBF0F8"
             },
             "line": {
              "color": "white"
             }
            },
            "header": {
             "fill": {
              "color": "#C8D4E3"
             },
             "line": {
              "color": "white"
             }
            },
            "type": "table"
           }
          ]
         },
         "layout": {
          "annotationdefaults": {
           "arrowcolor": "#2a3f5f",
           "arrowhead": 0,
           "arrowwidth": 1
          },
          "autotypenumbers": "strict",
          "coloraxis": {
           "colorbar": {
            "outlinewidth": 0,
            "ticks": ""
           }
          },
          "colorscale": {
           "diverging": [
            [
             0,
             "#8e0152"
            ],
            [
             0.1,
             "#c51b7d"
            ],
            [
             0.2,
             "#de77ae"
            ],
            [
             0.3,
             "#f1b6da"
            ],
            [
             0.4,
             "#fde0ef"
            ],
            [
             0.5,
             "#f7f7f7"
            ],
            [
             0.6,
             "#e6f5d0"
            ],
            [
             0.7,
             "#b8e186"
            ],
            [
             0.8,
             "#7fbc41"
            ],
            [
             0.9,
             "#4d9221"
            ],
            [
             1,
             "#276419"
            ]
           ],
           "sequential": [
            [
             0,
             "#0d0887"
            ],
            [
             0.1111111111111111,
             "#46039f"
            ],
            [
             0.2222222222222222,
             "#7201a8"
            ],
            [
             0.3333333333333333,
             "#9c179e"
            ],
            [
             0.4444444444444444,
             "#bd3786"
            ],
            [
             0.5555555555555556,
             "#d8576b"
            ],
            [
             0.6666666666666666,
             "#ed7953"
            ],
            [
             0.7777777777777778,
             "#fb9f3a"
            ],
            [
             0.8888888888888888,
             "#fdca26"
            ],
            [
             1,
             "#f0f921"
            ]
           ],
           "sequentialminus": [
            [
             0,
             "#0d0887"
            ],
            [
             0.1111111111111111,
             "#46039f"
            ],
            [
             0.2222222222222222,
             "#7201a8"
            ],
            [
             0.3333333333333333,
             "#9c179e"
            ],
            [
             0.4444444444444444,
             "#bd3786"
            ],
            [
             0.5555555555555556,
             "#d8576b"
            ],
            [
             0.6666666666666666,
             "#ed7953"
            ],
            [
             0.7777777777777778,
             "#fb9f3a"
            ],
            [
             0.8888888888888888,
             "#fdca26"
            ],
            [
             1,
             "#f0f921"
            ]
           ]
          },
          "colorway": [
           "#636efa",
           "#EF553B",
           "#00cc96",
           "#ab63fa",
           "#FFA15A",
           "#19d3f3",
           "#FF6692",
           "#B6E880",
           "#FF97FF",
           "#FECB52"
          ],
          "font": {
           "color": "#2a3f5f"
          },
          "geo": {
           "bgcolor": "white",
           "lakecolor": "white",
           "landcolor": "#E5ECF6",
           "showlakes": true,
           "showland": true,
           "subunitcolor": "white"
          },
          "hoverlabel": {
           "align": "left"
          },
          "hovermode": "closest",
          "mapbox": {
           "style": "light"
          },
          "paper_bgcolor": "white",
          "plot_bgcolor": "#E5ECF6",
          "polar": {
           "angularaxis": {
            "gridcolor": "white",
            "linecolor": "white",
            "ticks": ""
           },
           "bgcolor": "#E5ECF6",
           "radialaxis": {
            "gridcolor": "white",
            "linecolor": "white",
            "ticks": ""
           }
          },
          "scene": {
           "xaxis": {
            "backgroundcolor": "#E5ECF6",
            "gridcolor": "white",
            "gridwidth": 2,
            "linecolor": "white",
            "showbackground": true,
            "ticks": "",
            "zerolinecolor": "white"
           },
           "yaxis": {
            "backgroundcolor": "#E5ECF6",
            "gridcolor": "white",
            "gridwidth": 2,
            "linecolor": "white",
            "showbackground": true,
            "ticks": "",
            "zerolinecolor": "white"
           },
           "zaxis": {
            "backgroundcolor": "#E5ECF6",
            "gridcolor": "white",
            "gridwidth": 2,
            "linecolor": "white",
            "showbackground": true,
            "ticks": "",
            "zerolinecolor": "white"
           }
          },
          "shapedefaults": {
           "line": {
            "color": "#2a3f5f"
           }
          },
          "ternary": {
           "aaxis": {
            "gridcolor": "white",
            "linecolor": "white",
            "ticks": ""
           },
           "baxis": {
            "gridcolor": "white",
            "linecolor": "white",
            "ticks": ""
           },
           "bgcolor": "#E5ECF6",
           "caxis": {
            "gridcolor": "white",
            "linecolor": "white",
            "ticks": ""
           }
          },
          "title": {
           "x": 0.05
          },
          "xaxis": {
           "automargin": true,
           "gridcolor": "white",
           "linecolor": "white",
           "ticks": "",
           "title": {
            "standoff": 15
           },
           "zerolinecolor": "white",
           "zerolinewidth": 2
          },
          "yaxis": {
           "automargin": true,
           "gridcolor": "white",
           "linecolor": "white",
           "ticks": "",
           "title": {
            "standoff": 15
           },
           "zerolinecolor": "white",
           "zerolinewidth": 2
          }
         }
        },
        "title": {
         "text": "Latest Rolling Availability % by Plant"
        },
        "xaxis": {
         "anchor": "y",
         "domain": [
          0,
          1
         ],
         "title": {
          "text": "Plant"
         }
        },
        "yaxis": {
         "anchor": "x",
         "domain": [
          0,
          1
         ],
         "range": [
          0,
          100
         ],
         "title": {
          "text": "Availability %"
         }
        }
       }
      }
     },
     "metadata": {},
     "output_type": "display_data"
    },
    {
     "data": {
      "application/vnd.plotly.v1+json": {
       "config": {
        "plotlyServerURL": "https://plot.ly"
       },
       "data": [
        {
         "alignmentgroup": "True",
         "hovertemplate": "Plant=%{x}<br>Performance %=%{y}<extra></extra>",
         "legendgroup": "",
         "marker": {
          "color": "#636efa",
          "pattern": {
           "shape": ""
          }
         },
         "name": "",
         "offsetgroup": "",
         "orientation": "v",
         "showlegend": false,
         "textposition": "auto",
         "type": "bar",
         "x": [
          "WAT",
          "SUZ",
          "VDR",
          "HZG",
          "MAF",
          "TRS",
          "OCO",
          "LSX",
          "RDG",
          "ORI",
          "LLB",
          "MLE",
          "SZX",
          "SCO",
          "FRA",
          "ELB",
          "LTR"
         ],
         "xaxis": "x",
         "y": [
          687.8485498126088,
          108.17288855933089,
          105.79268259654418,
          99.03026676739958,
          91.42102456643353,
          85.86314492959686,
          83.48797238683315,
          82.06040565128355,
          81.7130169407167,
          80.48162655960694,
          78.92950109098649,
          75.94935276806898,
          75.93909061421623,
          73.83307444990719,
          73.63730578465822,
          61.68580369922619,
          60.52579029012514
         ],
         "yaxis": "y"
        }
       ],
       "layout": {
        "barmode": "relative",
        "legend": {
         "tracegroupgap": 0
        },
        "template": {
         "data": {
          "bar": [
           {
            "error_x": {
             "color": "#2a3f5f"
            },
            "error_y": {
             "color": "#2a3f5f"
            },
            "marker": {
             "line": {
              "color": "#E5ECF6",
              "width": 0.5
             },
             "pattern": {
              "fillmode": "overlay",
              "size": 10,
              "solidity": 0.2
             }
            },
            "type": "bar"
           }
          ],
          "barpolar": [
           {
            "marker": {
             "line": {
              "color": "#E5ECF6",
              "width": 0.5
             },
             "pattern": {
              "fillmode": "overlay",
              "size": 10,
              "solidity": 0.2
             }
            },
            "type": "barpolar"
           }
          ],
          "carpet": [
           {
            "aaxis": {
             "endlinecolor": "#2a3f5f",
             "gridcolor": "white",
             "linecolor": "white",
             "minorgridcolor": "white",
             "startlinecolor": "#2a3f5f"
            },
            "baxis": {
             "endlinecolor": "#2a3f5f",
             "gridcolor": "white",
             "linecolor": "white",
             "minorgridcolor": "white",
             "startlinecolor": "#2a3f5f"
            },
            "type": "carpet"
           }
          ],
          "choropleth": [
           {
            "colorbar": {
             "outlinewidth": 0,
             "ticks": ""
            },
            "type": "choropleth"
           }
          ],
          "contour": [
           {
            "colorbar": {
             "outlinewidth": 0,
             "ticks": ""
            },
            "colorscale": [
             [
              0,
              "#0d0887"
             ],
             [
              0.1111111111111111,
              "#46039f"
             ],
             [
              0.2222222222222222,
              "#7201a8"
             ],
             [
              0.3333333333333333,
              "#9c179e"
             ],
             [
              0.4444444444444444,
              "#bd3786"
             ],
             [
              0.5555555555555556,
              "#d8576b"
             ],
             [
              0.6666666666666666,
              "#ed7953"
             ],
             [
              0.7777777777777778,
              "#fb9f3a"
             ],
             [
              0.8888888888888888,
              "#fdca26"
             ],
             [
              1,
              "#f0f921"
             ]
            ],
            "type": "contour"
           }
          ],
          "contourcarpet": [
           {
            "colorbar": {
             "outlinewidth": 0,
             "ticks": ""
            },
            "type": "contourcarpet"
           }
          ],
          "heatmap": [
           {
            "colorbar": {
             "outlinewidth": 0,
             "ticks": ""
            },
            "colorscale": [
             [
              0,
              "#0d0887"
             ],
             [
              0.1111111111111111,
              "#46039f"
             ],
             [
              0.2222222222222222,
              "#7201a8"
             ],
             [
              0.3333333333333333,
              "#9c179e"
             ],
             [
              0.4444444444444444,
              "#bd3786"
             ],
             [
              0.5555555555555556,
              "#d8576b"
             ],
             [
              0.6666666666666666,
              "#ed7953"
             ],
             [
              0.7777777777777778,
              "#fb9f3a"
             ],
             [
              0.8888888888888888,
              "#fdca26"
             ],
             [
              1,
              "#f0f921"
             ]
            ],
            "type": "heatmap"
           }
          ],
          "heatmapgl": [
           {
            "colorbar": {
             "outlinewidth": 0,
             "ticks": ""
            },
            "colorscale": [
             [
              0,
              "#0d0887"
             ],
             [
              0.1111111111111111,
              "#46039f"
             ],
             [
              0.2222222222222222,
              "#7201a8"
             ],
             [
              0.3333333333333333,
              "#9c179e"
             ],
             [
              0.4444444444444444,
              "#bd3786"
             ],
             [
              0.5555555555555556,
              "#d8576b"
             ],
             [
              0.6666666666666666,
              "#ed7953"
             ],
             [
              0.7777777777777778,
              "#fb9f3a"
             ],
             [
              0.8888888888888888,
              "#fdca26"
             ],
             [
              1,
              "#f0f921"
             ]
            ],
            "type": "heatmapgl"
           }
          ],
          "histogram": [
           {
            "marker": {
             "pattern": {
              "fillmode": "overlay",
              "size": 10,
              "solidity": 0.2
             }
            },
            "type": "histogram"
           }
          ],
          "histogram2d": [
           {
            "colorbar": {
             "outlinewidth": 0,
             "ticks": ""
            },
            "colorscale": [
             [
              0,
              "#0d0887"
             ],
             [
              0.1111111111111111,
              "#46039f"
             ],
             [
              0.2222222222222222,
              "#7201a8"
             ],
             [
              0.3333333333333333,
              "#9c179e"
             ],
             [
              0.4444444444444444,
              "#bd3786"
             ],
             [
              0.5555555555555556,
              "#d8576b"
             ],
             [
              0.6666666666666666,
              "#ed7953"
             ],
             [
              0.7777777777777778,
              "#fb9f3a"
             ],
             [
              0.8888888888888888,
              "#fdca26"
             ],
             [
              1,
              "#f0f921"
             ]
            ],
            "type": "histogram2d"
           }
          ],
          "histogram2dcontour": [
           {
            "colorbar": {
             "outlinewidth": 0,
             "ticks": ""
            },
            "colorscale": [
             [
              0,
              "#0d0887"
             ],
             [
              0.1111111111111111,
              "#46039f"
             ],
             [
              0.2222222222222222,
              "#7201a8"
             ],
             [
              0.3333333333333333,
              "#9c179e"
             ],
             [
              0.4444444444444444,
              "#bd3786"
             ],
             [
              0.5555555555555556,
              "#d8576b"
             ],
             [
              0.6666666666666666,
              "#ed7953"
             ],
             [
              0.7777777777777778,
              "#fb9f3a"
             ],
             [
              0.8888888888888888,
              "#fdca26"
             ],
             [
              1,
              "#f0f921"
             ]
            ],
            "type": "histogram2dcontour"
           }
          ],
          "mesh3d": [
           {
            "colorbar": {
             "outlinewidth": 0,
             "ticks": ""
            },
            "type": "mesh3d"
           }
          ],
          "parcoords": [
           {
            "line": {
             "colorbar": {
              "outlinewidth": 0,
              "ticks": ""
             }
            },
            "type": "parcoords"
           }
          ],
          "pie": [
           {
            "automargin": true,
            "type": "pie"
           }
          ],
          "scatter": [
           {
            "marker": {
             "colorbar": {
              "outlinewidth": 0,
              "ticks": ""
             }
            },
            "type": "scatter"
           }
          ],
          "scatter3d": [
           {
            "line": {
             "colorbar": {
              "outlinewidth": 0,
              "ticks": ""
             }
            },
            "marker": {
             "colorbar": {
              "outlinewidth": 0,
              "ticks": ""
             }
            },
            "type": "scatter3d"
           }
          ],
          "scattercarpet": [
           {
            "marker": {
             "colorbar": {
              "outlinewidth": 0,
              "ticks": ""
             }
            },
            "type": "scattercarpet"
           }
          ],
          "scattergeo": [
           {
            "marker": {
             "colorbar": {
              "outlinewidth": 0,
              "ticks": ""
             }
            },
            "type": "scattergeo"
           }
          ],
          "scattergl": [
           {
            "marker": {
             "colorbar": {
              "outlinewidth": 0,
              "ticks": ""
             }
            },
            "type": "scattergl"
           }
          ],
          "scattermapbox": [
           {
            "marker": {
             "colorbar": {
              "outlinewidth": 0,
              "ticks": ""
             }
            },
            "type": "scattermapbox"
           }
          ],
          "scatterpolar": [
           {
            "marker": {
             "colorbar": {
              "outlinewidth": 0,
              "ticks": ""
             }
            },
            "type": "scatterpolar"
           }
          ],
          "scatterpolargl": [
           {
            "marker": {
             "colorbar": {
              "outlinewidth": 0,
              "ticks": ""
             }
            },
            "type": "scatterpolargl"
           }
          ],
          "scatterternary": [
           {
            "marker": {
             "colorbar": {
              "outlinewidth": 0,
              "ticks": ""
             }
            },
            "type": "scatterternary"
           }
          ],
          "surface": [
           {
            "colorbar": {
             "outlinewidth": 0,
             "ticks": ""
            },
            "colorscale": [
             [
              0,
              "#0d0887"
             ],
             [
              0.1111111111111111,
              "#46039f"
             ],
             [
              0.2222222222222222,
              "#7201a8"
             ],
             [
              0.3333333333333333,
              "#9c179e"
             ],
             [
              0.4444444444444444,
              "#bd3786"
             ],
             [
              0.5555555555555556,
              "#d8576b"
             ],
             [
              0.6666666666666666,
              "#ed7953"
             ],
             [
              0.7777777777777778,
              "#fb9f3a"
             ],
             [
              0.8888888888888888,
              "#fdca26"
             ],
             [
              1,
              "#f0f921"
             ]
            ],
            "type": "surface"
           }
          ],
          "table": [
           {
            "cells": {
             "fill": {
              "color": "#EBF0F8"
             },
             "line": {
              "color": "white"
             }
            },
            "header": {
             "fill": {
              "color": "#C8D4E3"
             },
             "line": {
              "color": "white"
             }
            },
            "type": "table"
           }
          ]
         },
         "layout": {
          "annotationdefaults": {
           "arrowcolor": "#2a3f5f",
           "arrowhead": 0,
           "arrowwidth": 1
          },
          "autotypenumbers": "strict",
          "coloraxis": {
           "colorbar": {
            "outlinewidth": 0,
            "ticks": ""
           }
          },
          "colorscale": {
           "diverging": [
            [
             0,
             "#8e0152"
            ],
            [
             0.1,
             "#c51b7d"
            ],
            [
             0.2,
             "#de77ae"
            ],
            [
             0.3,
             "#f1b6da"
            ],
            [
             0.4,
             "#fde0ef"
            ],
            [
             0.5,
             "#f7f7f7"
            ],
            [
             0.6,
             "#e6f5d0"
            ],
            [
             0.7,
             "#b8e186"
            ],
            [
             0.8,
             "#7fbc41"
            ],
            [
             0.9,
             "#4d9221"
            ],
            [
             1,
             "#276419"
            ]
           ],
           "sequential": [
            [
             0,
             "#0d0887"
            ],
            [
             0.1111111111111111,
             "#46039f"
            ],
            [
             0.2222222222222222,
             "#7201a8"
            ],
            [
             0.3333333333333333,
             "#9c179e"
            ],
            [
             0.4444444444444444,
             "#bd3786"
            ],
            [
             0.5555555555555556,
             "#d8576b"
            ],
            [
             0.6666666666666666,
             "#ed7953"
            ],
            [
             0.7777777777777778,
             "#fb9f3a"
            ],
            [
             0.8888888888888888,
             "#fdca26"
            ],
            [
             1,
             "#f0f921"
            ]
           ],
           "sequentialminus": [
            [
             0,
             "#0d0887"
            ],
            [
             0.1111111111111111,
             "#46039f"
            ],
            [
             0.2222222222222222,
             "#7201a8"
            ],
            [
             0.3333333333333333,
             "#9c179e"
            ],
            [
             0.4444444444444444,
             "#bd3786"
            ],
            [
             0.5555555555555556,
             "#d8576b"
            ],
            [
             0.6666666666666666,
             "#ed7953"
            ],
            [
             0.7777777777777778,
             "#fb9f3a"
            ],
            [
             0.8888888888888888,
             "#fdca26"
            ],
            [
             1,
             "#f0f921"
            ]
           ]
          },
          "colorway": [
           "#636efa",
           "#EF553B",
           "#00cc96",
           "#ab63fa",
           "#FFA15A",
           "#19d3f3",
           "#FF6692",
           "#B6E880",
           "#FF97FF",
           "#FECB52"
          ],
          "font": {
           "color": "#2a3f5f"
          },
          "geo": {
           "bgcolor": "white",
           "lakecolor": "white",
           "landcolor": "#E5ECF6",
           "showlakes": true,
           "showland": true,
           "subunitcolor": "white"
          },
          "hoverlabel": {
           "align": "left"
          },
          "hovermode": "closest",
          "mapbox": {
           "style": "light"
          },
          "paper_bgcolor": "white",
          "plot_bgcolor": "#E5ECF6",
          "polar": {
           "angularaxis": {
            "gridcolor": "white",
            "linecolor": "white",
            "ticks": ""
           },
           "bgcolor": "#E5ECF6",
           "radialaxis": {
            "gridcolor": "white",
            "linecolor": "white",
            "ticks": ""
           }
          },
          "scene": {
           "xaxis": {
            "backgroundcolor": "#E5ECF6",
            "gridcolor": "white",
            "gridwidth": 2,
            "linecolor": "white",
            "showbackground": true,
            "ticks": "",
            "zerolinecolor": "white"
           },
           "yaxis": {
            "backgroundcolor": "#E5ECF6",
            "gridcolor": "white",
            "gridwidth": 2,
            "linecolor": "white",
            "showbackground": true,
            "ticks": "",
            "zerolinecolor": "white"
           },
           "zaxis": {
            "backgroundcolor": "#E5ECF6",
            "gridcolor": "white",
            "gridwidth": 2,
            "linecolor": "white",
            "showbackground": true,
            "ticks": "",
            "zerolinecolor": "white"
           }
          },
          "shapedefaults": {
           "line": {
            "color": "#2a3f5f"
           }
          },
          "ternary": {
           "aaxis": {
            "gridcolor": "white",
            "linecolor": "white",
            "ticks": ""
           },
           "baxis": {
            "gridcolor": "white",
            "linecolor": "white",
            "ticks": ""
           },
           "bgcolor": "#E5ECF6",
           "caxis": {
            "gridcolor": "white",
            "linecolor": "white",
            "ticks": ""
           }
          },
          "title": {
           "x": 0.05
          },
          "xaxis": {
           "automargin": true,
           "gridcolor": "white",
           "linecolor": "white",
           "ticks": "",
           "title": {
            "standoff": 15
           },
           "zerolinecolor": "white",
           "zerolinewidth": 2
          },
          "yaxis": {
           "automargin": true,
           "gridcolor": "white",
           "linecolor": "white",
           "ticks": "",
           "title": {
            "standoff": 15
           },
           "zerolinecolor": "white",
           "zerolinewidth": 2
          }
         }
        },
        "title": {
         "text": "Latest Rolling Performance % by Plant"
        },
        "xaxis": {
         "anchor": "y",
         "domain": [
          0,
          1
         ],
         "title": {
          "text": "Plant"
         }
        },
        "yaxis": {
         "anchor": "x",
         "domain": [
          0,
          1
         ],
         "range": [
          0,
          100
         ],
         "title": {
          "text": "Performance %"
         }
        }
       }
      }
     },
     "metadata": {},
     "output_type": "display_data"
    }
   ],
   "source": [
    "metrics = ['OEE %','Availability %','Performance %']\n",
    "\n",
    "for metric in metrics:\n",
    "\n",
    "     fig = px.bar(active_rolling.dropna(subset=[metric]).groupby('Line').tail(1).sort_values(by=metric, ascending=False), x='Line', y=metric,\n",
    "     title='Latest Rolling {} by Line'.format(metric),\n",
    "     range_y=(0,100)\n",
    "     )\n",
    "     if metric == 'OEE %':\n",
    "          fig.add_hline(y=60, line_dash='dot', \n",
    "               annotation_text='60% June 2022 Target', \n",
    "               annotation_position='bottom left')\n",
    "          fig.add_hline(y=65, line_dash='dot', \n",
    "               annotation_text='65% December 2022 Target', \n",
    "               annotation_position='bottom left')\n",
    "     fig.show()\n",
    "\n",
    "for metric in metrics:\n",
    "\n",
    "    fig = px.bar(active_rolling.dropna(subset=[metric]).groupby('Plant').mean().reset_index().sort_values(by=metric, ascending=False), \n",
    "    x='Plant', \n",
    "    y=metric, \n",
    "    title='Latest Rolling {} by Plant'.format(metric),\n",
    "    range_y=(0,100) \n",
    "    )\n",
    "    if metric == 'OEE %':\n",
    "          fig.add_hline(y=60, line_dash='dot',\n",
    "               line_color='orange', \n",
    "               annotation_text='60% June 2022 Target', \n",
    "               annotation_position='bottom left')\n",
    "          fig.add_hline(y=65, line_dash='dot', \n",
    "               line_color='green',\n",
    "               annotation_text='65% December 2022 Target', \n",
    "               annotation_position='top right')\n",
    "\n",
    "    fig.show()\n",
    "\n",
    "    "
   ]
  },
  {
   "cell_type": "code",
   "execution_count": 26,
   "metadata": {},
   "outputs": [
    {
     "data": {
      "text/html": [
       "<div>\n",
       "<style scoped>\n",
       "    .dataframe tbody tr th:only-of-type {\n",
       "        vertical-align: middle;\n",
       "    }\n",
       "\n",
       "    .dataframe tbody tr th {\n",
       "        vertical-align: top;\n",
       "    }\n",
       "\n",
       "    .dataframe thead th {\n",
       "        text-align: right;\n",
       "    }\n",
       "</style>\n",
       "<table border=\"1\" class=\"dataframe\">\n",
       "  <thead>\n",
       "    <tr style=\"text-align: right;\">\n",
       "      <th></th>\n",
       "      <th>Plant</th>\n",
       "      <th>OEE %</th>\n",
       "      <th>Performance %</th>\n",
       "      <th>Availability %</th>\n",
       "    </tr>\n",
       "  </thead>\n",
       "  <tbody>\n",
       "    <tr>\n",
       "      <th>0</th>\n",
       "      <td>MLE</td>\n",
       "      <td>22.049109</td>\n",
       "      <td>75.949353</td>\n",
       "      <td>29.766394</td>\n",
       "    </tr>\n",
       "    <tr>\n",
       "      <th>1</th>\n",
       "      <td>LTR</td>\n",
       "      <td>28.783970</td>\n",
       "      <td>60.525790</td>\n",
       "      <td>49.668337</td>\n",
       "    </tr>\n",
       "    <tr>\n",
       "      <th>2</th>\n",
       "      <td>TRS</td>\n",
       "      <td>37.921579</td>\n",
       "      <td>85.863145</td>\n",
       "      <td>43.667641</td>\n",
       "    </tr>\n",
       "    <tr>\n",
       "      <th>3</th>\n",
       "      <td>FRA</td>\n",
       "      <td>38.451775</td>\n",
       "      <td>73.637306</td>\n",
       "      <td>50.443717</td>\n",
       "    </tr>\n",
       "    <tr>\n",
       "      <th>4</th>\n",
       "      <td>SCO</td>\n",
       "      <td>38.706258</td>\n",
       "      <td>73.833074</td>\n",
       "      <td>55.289799</td>\n",
       "    </tr>\n",
       "    <tr>\n",
       "      <th>5</th>\n",
       "      <td>VDR</td>\n",
       "      <td>40.533685</td>\n",
       "      <td>105.792683</td>\n",
       "      <td>39.601888</td>\n",
       "    </tr>\n",
       "    <tr>\n",
       "      <th>6</th>\n",
       "      <td>ORI</td>\n",
       "      <td>42.517827</td>\n",
       "      <td>80.481627</td>\n",
       "      <td>50.240793</td>\n",
       "    </tr>\n",
       "    <tr>\n",
       "      <th>7</th>\n",
       "      <td>SUZ</td>\n",
       "      <td>45.709475</td>\n",
       "      <td>108.172889</td>\n",
       "      <td>45.920424</td>\n",
       "    </tr>\n",
       "    <tr>\n",
       "      <th>8</th>\n",
       "      <td>ELB</td>\n",
       "      <td>48.131669</td>\n",
       "      <td>61.685804</td>\n",
       "      <td>66.433353</td>\n",
       "    </tr>\n",
       "    <tr>\n",
       "      <th>9</th>\n",
       "      <td>RDG</td>\n",
       "      <td>49.287372</td>\n",
       "      <td>81.713017</td>\n",
       "      <td>60.012952</td>\n",
       "    </tr>\n",
       "    <tr>\n",
       "      <th>10</th>\n",
       "      <td>OCO</td>\n",
       "      <td>49.319586</td>\n",
       "      <td>83.487972</td>\n",
       "      <td>58.228971</td>\n",
       "    </tr>\n",
       "    <tr>\n",
       "      <th>11</th>\n",
       "      <td>LLB</td>\n",
       "      <td>52.687788</td>\n",
       "      <td>78.929501</td>\n",
       "      <td>68.049739</td>\n",
       "    </tr>\n",
       "    <tr>\n",
       "      <th>12</th>\n",
       "      <td>SZX</td>\n",
       "      <td>53.816302</td>\n",
       "      <td>75.939091</td>\n",
       "      <td>75.468715</td>\n",
       "    </tr>\n",
       "    <tr>\n",
       "      <th>13</th>\n",
       "      <td>LSX</td>\n",
       "      <td>54.450517</td>\n",
       "      <td>82.060406</td>\n",
       "      <td>67.538734</td>\n",
       "    </tr>\n",
       "    <tr>\n",
       "      <th>14</th>\n",
       "      <td>MAF</td>\n",
       "      <td>56.171541</td>\n",
       "      <td>91.421025</td>\n",
       "      <td>62.152418</td>\n",
       "    </tr>\n",
       "    <tr>\n",
       "      <th>15</th>\n",
       "      <td>HZG</td>\n",
       "      <td>69.392016</td>\n",
       "      <td>99.030267</td>\n",
       "      <td>70.334191</td>\n",
       "    </tr>\n",
       "    <tr>\n",
       "      <th>16</th>\n",
       "      <td>WAT</td>\n",
       "      <td>221.076711</td>\n",
       "      <td>687.848550</td>\n",
       "      <td>28.151970</td>\n",
       "    </tr>\n",
       "  </tbody>\n",
       "</table>\n",
       "</div>"
      ],
      "text/plain": [
       "   Plant       OEE %  Performance %  Availability %\n",
       "0    MLE   22.049109      75.949353       29.766394\n",
       "1    LTR   28.783970      60.525790       49.668337\n",
       "2    TRS   37.921579      85.863145       43.667641\n",
       "3    FRA   38.451775      73.637306       50.443717\n",
       "4    SCO   38.706258      73.833074       55.289799\n",
       "5    VDR   40.533685     105.792683       39.601888\n",
       "6    ORI   42.517827      80.481627       50.240793\n",
       "7    SUZ   45.709475     108.172889       45.920424\n",
       "8    ELB   48.131669      61.685804       66.433353\n",
       "9    RDG   49.287372      81.713017       60.012952\n",
       "10   OCO   49.319586      83.487972       58.228971\n",
       "11   LLB   52.687788      78.929501       68.049739\n",
       "12   SZX   53.816302      75.939091       75.468715\n",
       "13   LSX   54.450517      82.060406       67.538734\n",
       "14   MAF   56.171541      91.421025       62.152418\n",
       "15   HZG   69.392016      99.030267       70.334191\n",
       "16   WAT  221.076711     687.848550       28.151970"
      ]
     },
     "execution_count": 26,
     "metadata": {},
     "output_type": "execute_result"
    }
   ],
   "source": [
    "active_rolling.dropna(subset=[metric]).groupby('Plant').mean().sort_values(by='OEE %').reset_index()"
   ]
  },
  {
   "cell_type": "code",
   "execution_count": 27,
   "metadata": {},
   "outputs": [
    {
     "data": {
      "application/vnd.plotly.v1+json": {
       "config": {
        "plotlyServerURL": "https://plot.ly"
       },
       "data": [
        {
         "alignmentgroup": "True",
         "bingroup": "x",
         "hovertemplate": "variable=OEE %<br>OEE %=%{x}<br>count=%{y}<extra></extra>",
         "legendgroup": "OEE %",
         "marker": {
          "color": "#636efa",
          "pattern": {
           "shape": ""
          }
         },
         "name": "OEE %",
         "offsetgroup": "OEE %",
         "orientation": "v",
         "showlegend": true,
         "type": "histogram",
         "x": [
          79.53301349453591,
          82.03680318757729,
          85.53799366376776,
          71.60872679580307,
          57.72702280064568,
          46.3250212518733,
          48.65439474887667,
          53.8203805169871,
          72.20394830447444,
          60.617696824341444,
          36.597932212512674,
          31.431946444402243,
          19.18013867781156,
          19.18013867781156,
          56.642888804457954,
          56.642888804457954,
          37.4627501266464,
          37.4627501266464,
          60.41030558877838,
          72.85334636892023,
          78.3295368451107,
          56.25474924012157,
          39.98238031914893,
          27.539339539007088,
          45.31669563047427,
          74.31356113199402,
          66.10364471862016,
          61.20516717325226,
          58.97609549138803,
          29.979229989868287,
          49.37760749207148,
          73.17536901689417,
          64.28202111922447,
          71.45445478723404,
          45.51755635764944,
          21.71979483282675,
          42.50198681228755,
          60.85305064207478,
          44.52096794197346,
          57.104578267477194,
          46.16020770010131,
          27.80914387031408,
          27.32160271023302,
          28.30396719858155,
          28.30396719858155,
          28.30396719858155,
          0.9823644883485272,
          0,
          33.99838884007356,
          35.840903564384334,
          46.94717087328158,
          39.56287980367585,
          20.370021094402667,
          18.527506370091892,
          67.10270563248127,
          41.20581905670241,
          28.512941446009005,
          31.169202615914784,
          31.015659722222217,
          11.873981777360065,
          43.44473195880483,
          50.62009320761117,
          23.60667952470005,
          63.654636780220315,
          37.51069942084594,
          31.04219847758128,
          26.974297639793757,
          25.683077175717507,
          27.1387346918708,
          55.32401776313904,
          55.8109496519037,
          55.51945067139049,
          55.804193864938895,
          51.55550900172004,
          40.75105768342257,
          53.7807907288319,
          54.5397606362393,
          53.35620305522078,
          53.41284016333081,
          53.78408038516941,
          53.01966478758581,
          47.71373124041685,
          48.75354456018519,
          47.57139565798184,
          41.248135960037956,
          42.68375517300092,
          41.63214203642684,
          44.15535603706542,
          50.20575472890871,
          22.807898909283672,
          23.7252865324949,
          23.95116227499081,
          21.128255957920054,
          22.55755005311584,
          18.548836400771116,
          41.371322464410795,
          40.3401288362467,
          35.87164244225767,
          36.329562706980795,
          38.15541673300952,
          42.90784250008246,
          42.42537594243245,
          34.569779797563484,
          43.86141552359437,
          44.522244559632355,
          44.51036876571422,
          45.96955159543897,
          41.16062996891506,
          34.78645008088179,
          47.78764627542426,
          50.83249781190204,
          50.73024921364685,
          51.14910721114081,
          56.503780875153765,
          52.262997726488706,
          55.28451607256929,
          55.160500320139185,
          54.324353912849816,
          53.80256368213456,
          40.410931817210226,
          27.569365649403185,
          30.50719442282702,
          30.09782451914807,
          29.425557079107364,
          30.4078142309767,
          26.686904765433752,
          48.73012456030822,
          51.84171790010129,
          54.01082553716595,
          56.3959538103508,
          55.371599750256124,
          54.51218660380551,
          23.200313059800155,
          68.59239036454555,
          59.34110242734057,
          59.88300757295732,
          60.4515535215012,
          61.73345757210198,
          49.75165480886635,
          50.56775103902508,
          51.22692828341013,
          57.82847932331647,
          58.20624488623922,
          59.640225415895706,
          49.14001753094606,
          50.03875277366864,
          51.257892265262775,
          35.67156294290638,
          38.568488037014575,
          36.485117748766235,
          29.31832650481372,
          22.83202662053455,
          18.197636503376575,
          16.723349763440837,
          16.732197777479527,
          19.66490896198193,
          20.133112288960977,
          21.2566588582942,
          29.110645553890592,
          25.518652773549185,
          23.41597651980267,
          21.57956416383593,
          54.662018752792676,
          53.90054029414898,
          53.59021037486391,
          61.850091227811475,
          59.614718487644964,
          59.195264416768154,
          57.88668330037969,
          58.565424413343834,
          59.82022901448004,
          22.91950247101922,
          22.795592039068982,
          18.497139303872043,
          18.634686699609492,
          15.628206306215086,
          13.301838427995776,
          9.11726312438632,
          10.41523744287127,
          9.43534566833878,
          34.9731076670643,
          37.962953196250446,
          39.24637104257765,
          40.48137831634497,
          39.76494313115978,
          40.588260548948554,
          23.00136306210423,
          23.40165842680195,
          25.274052488134796,
          28.30109484692529,
          27.770902769982456,
          22.214978531302965,
          11.22864125434398,
          9.840380824079146,
          5.111239888165875,
          0.6118490268279853,
          1.2835861075533903,
          0.7993476259293706,
          14.733962993954437,
          6.410584952448436,
          4.00026728020148,
          11.660895326855478,
          14.165699935061818,
          13.927477569408758,
          70.18031708658788,
          69.92221270864842,
          71.60820321228248,
          73.07488534634916,
          74.39333174980968,
          76.29832025089193,
          67.57724835087197,
          67.24360655640214,
          67.82195522765277,
          65.52139148326228,
          63.957807405881326,
          62.31416557900111,
          45.77758504618076,
          66.7892708745753,
          65.07664027522596,
          65.05241010848471,
          68.36435934709219,
          68.29263949238634,
          70.1538493741431,
          67.64877029256364,
          69.46117826035226,
          71.80505806945419,
          68.23974354422208,
          71.20086765378014,
          76.54798403563454,
          77.31585126535713,
          80.977029041561,
          83.2897999130883,
          65.28730040280965,
          64.14445401225741,
          63.24256753105858,
          68.75666205259517,
          64.42905825190165,
          63.947592585775304,
          64.29595430679778,
          63.56164185337519,
          65.43347183783132,
          63.689807544058226,
          61.55197375606465,
          60.98340675627176,
          51.5058430995931,
          43.921952390702394,
          49.70997255372255,
          52.85583005895506,
          57.25060693810694,
          53.68035223789147,
          36.57684516415689,
          54.348731183584775,
          54.66930827132957,
          54.6273184931259,
          55.45640048225284,
          59.72337644414323,
          59.49242172164146,
          34.564671581341436,
          33.562561045140384,
          24.666719222447302,
          28.769181074321946,
          32.39963518971017,
          44.6152594195579,
          48.516951272977046,
          43.36550895238269,
          38.41343465260196,
          40.48976010480058,
          45.86605328310554,
          43.710372033973016,
          51.87798671943322,
          49.639646205507375,
          49.93323522323474,
          52.115157506131,
          62.69709097703224,
          56.6850300814881,
          55.335807449865314,
          52.64369584156424,
          59.07288200774519,
          76.66279056732287,
          71.92992834865936,
          60.43887792591007,
          41.62533576869433,
          43.92468543149139,
          46.86931497913537,
          49.376381635555916,
          51.9475497155267,
          58.50217406306782,
          34.67038446288342,
          35.709779985297345,
          107.70786999501547,
          96.63707823124423,
          46.43467554791212,
          47.261085081657654,
          31.815174471799672,
          40.03223949937516,
          32.51819858090874,
          52.56544910448124,
          52.31761477079283,
          52.981680082190124,
          51.27374832890091,
          51.73360216183738,
          52.9027253459801,
          54.038876715554125,
          59.8352130156697,
          59.60795774506307,
          51.477282196081624,
          53.385272129613035,
          49.814963749819796,
          28.118746982462703,
          36.16932994030664,
          39.86433529242315,
          41.104429657292634,
          44.222363421859505,
          68.95072420643918,
          68.4193175568297,
          63.7507895787314,
          50.710829096675326,
          58.54420640123765,
          53.712633728942606,
          77.19219352438843,
          78.89432917419822,
          73.705524354681,
          70.82200433182047,
          64.74587568958621,
          58.20471104496375,
          51.118025611891106,
          49.644883638768945,
          49.63892979220389,
          47.001377683967995,
          44.467132972725565,
          55.51780522441211,
          56.13761070764469,
          55.80723662522653,
          54.0213566328233,
          53.04655118373458,
          49.271454601370166,
          45.91945233439314,
          47.954428344562814,
          49.68914324441002,
          50.11799504943281,
          51.44781262606815,
          52.32566196188552,
          52.19255272461646,
          52.33010518160878,
          50.861227855598784,
          48.52420740322909,
          47.98705003414543,
          49.08123709603247,
          50.170743511419786,
          51.694821352881206,
          55.20514867931425,
          58.097763581081566,
          59.657387286929186,
          63.11892585598608,
          69.25558226521107,
          70.4998738831554,
          72.22547778949874,
          70.80733644909436,
          68.47944510982039,
          69.07966001599628,
          34.01253744601842,
          35.937529102365914,
          48.12143382438316,
          53.95284475157747,
          56.89681378587335,
          48.37836127000952,
          57.87638379148558,
          54.128942075140856,
          50.221395777077205,
          54.387962794245965,
          54.348867268600515,
          58.178612223690834,
          54.71010809168524,
          56.236041617198396,
          60.16290256008446,
          61.48577984664892,
          62.108053728355806,
          62.802815837630504,
          48.25103543544826,
          52.46265504510868,
          55.206186920116444,
          56.1692782275109,
          53.2280466618504,
          46.49811974725728,
          56.88343621828993,
          60.23138596654464,
          51.92283940773769,
          48.18851063852411,
          50.116611673639525,
          43.40044849170016,
          39.481101774307575,
          34.217202135170886,
          33.761818762193165,
          37.77020996589687,
          38.60082147492874,
          36.60115216275943,
          34.84945575259372,
          21.344428550303682,
          25.723510539422325,
          29.166404471351143,
          29.23046741148619,
          46.656149036046656,
          37.72869462477836,
          38.956105773957326,
          41.075705444215615,
          40.37609090744687,
          37.816263466369435,
          33.53058079598288,
          3.921572748958529,
          2.1477842011217168,
          1.4389300344550504,
          35.79952130090843,
          27.203919071427073,
          24.803946079758646,
          25.036107855569274,
          18.099090455135634,
          21.464673230026154,
          20.206270773012537,
          17.727162551291123,
          48.68499747658947,
          49.318662378667014,
          46.74368564306065,
          43.784242812583344,
          44.814916499694306,
          44.22572280939767,
          51.43993046975551,
          50.66166373760773,
          49.71119465160095,
          47.81300958726946,
          50.007186213562875,
          55.22575342565828,
          42.995753240391366,
          42.42967038955045,
          41.62824462452327,
          41.97182040705254,
          46.60589654510888,
          42.610696965712904,
          48.449566721094506,
          45.27449268275268,
          47.47029306501332,
          43.487784230769236,
          42.27887329154197,
          40.177278969058136,
          33.776183862271346,
          36.9566183050622,
          37.57970297168937,
          38.273357431039194,
          37.3930848665502,
          35.31236060655193,
          63.028672752616046,
          63.13631233656322,
          61.4085081584511,
          77.48807586578404,
          78.69924589958784,
          79.74968234806326,
          79.33235722689294,
          80.63800856606068,
          78.57205026691666,
          61.162688713266,
          61.96235922877801,
          67.3960341861025,
          73.78783580836667,
          75.12053287188957,
          73.48832868634388,
          62.67209781025947,
          62.430718558334725,
          58.44928209607785,
          59.07077628132322,
          62.5691687819243,
          61.595768124747906,
          74.77008865494032,
          75.58975262135024,
          75.08989699619038,
          73.48341151171857,
          72.44161362078754,
          64.15928578156043,
          58.321491131082176,
          58.63282179461185,
          57.94931638157764,
          59.62648279445867,
          57.99513606776826,
          49.99820516285654,
          53.255528842237126,
          50.97596827203912,
          22.04910911847785,
          32.406231292426526,
          32.25252041131629,
          63.61740604413511,
          58.56747696765559,
          62.267423468442104,
          53.754525923428645,
          55.85513246894254,
          40.86400412095847,
          37.805167940201194,
          31.092403632116095,
          32.36213200644559,
          30.059591616998112,
          29.977282714535455,
          44.53842666429073,
          45.724705296108404,
          43.34133568972423,
          42.056048977674884,
          33.411454881558,
          38.69806444174583,
          41.9422098950693,
          43.79344543824018,
          44.89991542947448,
          38.77535223870421,
          35.677808122515366,
          32.73112560740195,
          30.130113446299227,
          28.464024145093656,
          39.61689845873871,
          51.17696483401808,
          57.783213949573906,
          44.53325345801241,
          42.537436948588955,
          70.71267711187345,
          72.90369355149846,
          73.52381953749534,
          71.35955831847927,
          74.4747384894419,
          70.80346376466282,
          62.779287249994695,
          61.32230878085517,
          62.10288617322691,
          62.28630418709405,
          64.73678430601038,
          65.4298257554089,
          64.03485797842052,
          21.000796205506063,
          64.67911312324469,
          59.83971320465484,
          41.2158264541734,
          39.561752429539375,
          41.14045319760403,
          9.219201246390035,
          9.219201246390035,
          7.105427357601002e-15,
          0.1653439153439225,
          0.1653439153439225,
          0.1653439153439225,
          0.1653439153439225,
          7.105427357601002e-15,
          9.44940702587926,
          10.286879759199037,
          10.302450156086934,
          10.136153695454672,
          6.438131530562657,
          4.227135172481419,
          7.392015398952781,
          7.555592712966166,
          9.04748697928619,
          6.039068871522407,
          5.27540869676747,
          4.522379522125131,
          55.38704054754709,
          57.527942738112635,
          54.79053807255531,
          60.787016079508774,
          57.16657787573725,
          49.18879889956488,
          34.52386279063966,
          34.077581200610794,
          33.64711589680417,
          32.00485614742576,
          32.61672043362412,
          31.985407804889554,
          42.87027298439195,
          45.88972373094258,
          44.12154401169252,
          43.69137987769204,
          47.668399555878906,
          42.3025911477818,
          52.75715807143703,
          52.382824421286195,
          55.19678889596495,
          56.139772572284045,
          56.06067361355895,
          53.57198290702487,
          52.642308156305184,
          50.93948977603474,
          49.514290728486564,
          52.216187356479324,
          55.3241570946705,
          53.787460876319855,
          52.21461692738595,
          53.09138476751278,
          56.51360858080049,
          64.79376812029844,
          52.157954081467636,
          52.35190750862762,
          46.76488545507664,
          49.005187495659094,
          45.669768250609586,
          49.85624469813134,
          30.421482682109296,
          35.09161364210199,
          36.15295259668298,
          38.844424282434645,
          37.6264263076163,
          41.4002843100415,
          42.47787030661281,
          45.192162530375306,
          46.85696206777991,
          45.09354033477317,
          43.62845624096788,
          42.89805700141356,
          40.42612763308145,
          41.93907614022396,
          42.43216407999587,
          44.1484130154769,
          43.51064178406872,
          51.83889835663854,
          53.34116627353056,
          55.00379148902686,
          49.58169131342734,
          66.86818703586312,
          59.130391902728746,
          27.566953136072307,
          25.771713241704365,
          23.32099777139642,
          20.85582781472949,
          21.487523407413544,
          21.54999019114282,
          41.179724806646504,
          44.89145550655239,
          45.674774587752296,
          43.32450043769408,
          37.69476364720323,
          34.83529975798595,
          19.62087621994884,
          7.007760466130119,
          3.552713678800501e-15,
          52.86092766356013,
          40.031804991367885,
          62.53640045259017,
          31.929305724578153,
          39.83610135603712,
          33.60321815247161,
          0.7992995203123547,
          1.8182248821268752,
          1.8955280730156614,
          48.39540005686895,
          44.82919137033381,
          41.14244791033846,
          41.987260318854034,
          42.651546292301624,
          47.542308808613015,
          30.384553486911393,
          58.373738515952226,
          57.02332229827526,
          53.47389201218316,
          50.20092241974187,
          45.19525831803129,
          44.66584809889065,
          32.90819363451266,
          30.251099866701303,
          46.894333545946076,
          49.67512955720578,
          48.41116310537481,
          46.46457401468503,
          47.67948555338009,
          45.01293567303015,
          45.7719234001826,
          42.70572897900732,
          45.039190841038604,
          41.20390434955752,
          41.201478450053116,
          46.68126204316958,
          47.40906866311212,
          43.22455552331246,
          45.57905649517275,
          45.668648570220725,
          45.63924265957754,
          45.923814217836366,
          36.12307748937271,
          45.662009322311334,
          47.09435055696884,
          44.605579740071356,
          47.79136390746457,
          56.230981173517264,
          53.80753123068699,
          88.45799978019757,
          89.42714868223501,
          49.83937749529936,
          51.594502564776256,
          49.453888091368675,
          46.108728969687355,
          48.3918371808722,
          49.09476285459125,
          38.31089745296073,
          33.660345293691414,
          31.374087063076487,
          31.000941600862546,
          30.767484692631935,
          30.180588851132114,
          30.750703350423272,
          31.118429766227223,
          29.000706142400208,
          29.164228346898817,
          59.20689830396757,
          58.654317976420586,
          54.16160375666859,
          54.52487794820323,
          53.766918182894784,
          54.72553288082946,
          59.19237694442737,
          56.20565759941595,
          56.29583460504293,
          58.79067654594141,
          62.77527576416597,
          63.68994835608332,
          72.88019369745868,
          70.05465444770736,
          61.652494923553796,
          53.31803983197241,
          46.14734846733695,
          52.60988395648229,
          52.239047672460366,
          49.95499951044357,
          48.15658278208225,
          52.678354518661365,
          56.674067518327405,
          57.36151352066195,
          57.4699964125557,
          62.31648713731348,
          41.38159715973012,
          44.17994468424928,
          44.77964623019174,
          62.05724095836307,
          64.14332898291366,
          66.35605344980479,
          37.99530353164176,
          41.37956216146071,
          37.99295651322734,
          31.87325152700821,
          30.01335004086952,
          34.15932781819975,
          41.72262732379434,
          37.78100532314636,
          41.572422948277776,
          44.2052569353004,
          42.28225443530988,
          44.7540255520838,
          42.50280727478035,
          27.791210432035967,
          38.550249327322106,
          38.31466396913109,
          30.93523756188808,
          35.16653783179666,
          40.47598127223455,
          38.704342587396006,
          39.273971164837086,
          36.828403179079274,
          43.57613523607236,
          45.269348498794685,
          44.04500185185188,
          39.43129814814817,
          30.346642670291008,
          64.8205854381195,
          76.63490374805241,
          72.87629628936051,
          77.10888621527378,
          84.0686989809432,
          45.03758580923231,
          45.10363599402325,
          43.14831755508467,
          39.84530594198264,
          45.06010053598812,
          46.279545429859006,
          7.93605731849045,
          11.433898902358564,
          13.194992916867822,
          13.876598615559814,
          16.890199889791603,
          16.69882112080006,
          22.241672290382464,
          26.462903448975045,
          30.63725405369218,
          33.50506387953116
         ],
         "xaxis": "x",
         "yaxis": "y"
        }
       ],
       "layout": {
        "barmode": "relative",
        "legend": {
         "title": {
          "text": "variable"
         },
         "tracegroupgap": 0
        },
        "margin": {
         "t": 60
        },
        "template": {
         "data": {
          "bar": [
           {
            "error_x": {
             "color": "#2a3f5f"
            },
            "error_y": {
             "color": "#2a3f5f"
            },
            "marker": {
             "line": {
              "color": "#E5ECF6",
              "width": 0.5
             },
             "pattern": {
              "fillmode": "overlay",
              "size": 10,
              "solidity": 0.2
             }
            },
            "type": "bar"
           }
          ],
          "barpolar": [
           {
            "marker": {
             "line": {
              "color": "#E5ECF6",
              "width": 0.5
             },
             "pattern": {
              "fillmode": "overlay",
              "size": 10,
              "solidity": 0.2
             }
            },
            "type": "barpolar"
           }
          ],
          "carpet": [
           {
            "aaxis": {
             "endlinecolor": "#2a3f5f",
             "gridcolor": "white",
             "linecolor": "white",
             "minorgridcolor": "white",
             "startlinecolor": "#2a3f5f"
            },
            "baxis": {
             "endlinecolor": "#2a3f5f",
             "gridcolor": "white",
             "linecolor": "white",
             "minorgridcolor": "white",
             "startlinecolor": "#2a3f5f"
            },
            "type": "carpet"
           }
          ],
          "choropleth": [
           {
            "colorbar": {
             "outlinewidth": 0,
             "ticks": ""
            },
            "type": "choropleth"
           }
          ],
          "contour": [
           {
            "colorbar": {
             "outlinewidth": 0,
             "ticks": ""
            },
            "colorscale": [
             [
              0,
              "#0d0887"
             ],
             [
              0.1111111111111111,
              "#46039f"
             ],
             [
              0.2222222222222222,
              "#7201a8"
             ],
             [
              0.3333333333333333,
              "#9c179e"
             ],
             [
              0.4444444444444444,
              "#bd3786"
             ],
             [
              0.5555555555555556,
              "#d8576b"
             ],
             [
              0.6666666666666666,
              "#ed7953"
             ],
             [
              0.7777777777777778,
              "#fb9f3a"
             ],
             [
              0.8888888888888888,
              "#fdca26"
             ],
             [
              1,
              "#f0f921"
             ]
            ],
            "type": "contour"
           }
          ],
          "contourcarpet": [
           {
            "colorbar": {
             "outlinewidth": 0,
             "ticks": ""
            },
            "type": "contourcarpet"
           }
          ],
          "heatmap": [
           {
            "colorbar": {
             "outlinewidth": 0,
             "ticks": ""
            },
            "colorscale": [
             [
              0,
              "#0d0887"
             ],
             [
              0.1111111111111111,
              "#46039f"
             ],
             [
              0.2222222222222222,
              "#7201a8"
             ],
             [
              0.3333333333333333,
              "#9c179e"
             ],
             [
              0.4444444444444444,
              "#bd3786"
             ],
             [
              0.5555555555555556,
              "#d8576b"
             ],
             [
              0.6666666666666666,
              "#ed7953"
             ],
             [
              0.7777777777777778,
              "#fb9f3a"
             ],
             [
              0.8888888888888888,
              "#fdca26"
             ],
             [
              1,
              "#f0f921"
             ]
            ],
            "type": "heatmap"
           }
          ],
          "heatmapgl": [
           {
            "colorbar": {
             "outlinewidth": 0,
             "ticks": ""
            },
            "colorscale": [
             [
              0,
              "#0d0887"
             ],
             [
              0.1111111111111111,
              "#46039f"
             ],
             [
              0.2222222222222222,
              "#7201a8"
             ],
             [
              0.3333333333333333,
              "#9c179e"
             ],
             [
              0.4444444444444444,
              "#bd3786"
             ],
             [
              0.5555555555555556,
              "#d8576b"
             ],
             [
              0.6666666666666666,
              "#ed7953"
             ],
             [
              0.7777777777777778,
              "#fb9f3a"
             ],
             [
              0.8888888888888888,
              "#fdca26"
             ],
             [
              1,
              "#f0f921"
             ]
            ],
            "type": "heatmapgl"
           }
          ],
          "histogram": [
           {
            "marker": {
             "pattern": {
              "fillmode": "overlay",
              "size": 10,
              "solidity": 0.2
             }
            },
            "type": "histogram"
           }
          ],
          "histogram2d": [
           {
            "colorbar": {
             "outlinewidth": 0,
             "ticks": ""
            },
            "colorscale": [
             [
              0,
              "#0d0887"
             ],
             [
              0.1111111111111111,
              "#46039f"
             ],
             [
              0.2222222222222222,
              "#7201a8"
             ],
             [
              0.3333333333333333,
              "#9c179e"
             ],
             [
              0.4444444444444444,
              "#bd3786"
             ],
             [
              0.5555555555555556,
              "#d8576b"
             ],
             [
              0.6666666666666666,
              "#ed7953"
             ],
             [
              0.7777777777777778,
              "#fb9f3a"
             ],
             [
              0.8888888888888888,
              "#fdca26"
             ],
             [
              1,
              "#f0f921"
             ]
            ],
            "type": "histogram2d"
           }
          ],
          "histogram2dcontour": [
           {
            "colorbar": {
             "outlinewidth": 0,
             "ticks": ""
            },
            "colorscale": [
             [
              0,
              "#0d0887"
             ],
             [
              0.1111111111111111,
              "#46039f"
             ],
             [
              0.2222222222222222,
              "#7201a8"
             ],
             [
              0.3333333333333333,
              "#9c179e"
             ],
             [
              0.4444444444444444,
              "#bd3786"
             ],
             [
              0.5555555555555556,
              "#d8576b"
             ],
             [
              0.6666666666666666,
              "#ed7953"
             ],
             [
              0.7777777777777778,
              "#fb9f3a"
             ],
             [
              0.8888888888888888,
              "#fdca26"
             ],
             [
              1,
              "#f0f921"
             ]
            ],
            "type": "histogram2dcontour"
           }
          ],
          "mesh3d": [
           {
            "colorbar": {
             "outlinewidth": 0,
             "ticks": ""
            },
            "type": "mesh3d"
           }
          ],
          "parcoords": [
           {
            "line": {
             "colorbar": {
              "outlinewidth": 0,
              "ticks": ""
             }
            },
            "type": "parcoords"
           }
          ],
          "pie": [
           {
            "automargin": true,
            "type": "pie"
           }
          ],
          "scatter": [
           {
            "marker": {
             "colorbar": {
              "outlinewidth": 0,
              "ticks": ""
             }
            },
            "type": "scatter"
           }
          ],
          "scatter3d": [
           {
            "line": {
             "colorbar": {
              "outlinewidth": 0,
              "ticks": ""
             }
            },
            "marker": {
             "colorbar": {
              "outlinewidth": 0,
              "ticks": ""
             }
            },
            "type": "scatter3d"
           }
          ],
          "scattercarpet": [
           {
            "marker": {
             "colorbar": {
              "outlinewidth": 0,
              "ticks": ""
             }
            },
            "type": "scattercarpet"
           }
          ],
          "scattergeo": [
           {
            "marker": {
             "colorbar": {
              "outlinewidth": 0,
              "ticks": ""
             }
            },
            "type": "scattergeo"
           }
          ],
          "scattergl": [
           {
            "marker": {
             "colorbar": {
              "outlinewidth": 0,
              "ticks": ""
             }
            },
            "type": "scattergl"
           }
          ],
          "scattermapbox": [
           {
            "marker": {
             "colorbar": {
              "outlinewidth": 0,
              "ticks": ""
             }
            },
            "type": "scattermapbox"
           }
          ],
          "scatterpolar": [
           {
            "marker": {
             "colorbar": {
              "outlinewidth": 0,
              "ticks": ""
             }
            },
            "type": "scatterpolar"
           }
          ],
          "scatterpolargl": [
           {
            "marker": {
             "colorbar": {
              "outlinewidth": 0,
              "ticks": ""
             }
            },
            "type": "scatterpolargl"
           }
          ],
          "scatterternary": [
           {
            "marker": {
             "colorbar": {
              "outlinewidth": 0,
              "ticks": ""
             }
            },
            "type": "scatterternary"
           }
          ],
          "surface": [
           {
            "colorbar": {
             "outlinewidth": 0,
             "ticks": ""
            },
            "colorscale": [
             [
              0,
              "#0d0887"
             ],
             [
              0.1111111111111111,
              "#46039f"
             ],
             [
              0.2222222222222222,
              "#7201a8"
             ],
             [
              0.3333333333333333,
              "#9c179e"
             ],
             [
              0.4444444444444444,
              "#bd3786"
             ],
             [
              0.5555555555555556,
              "#d8576b"
             ],
             [
              0.6666666666666666,
              "#ed7953"
             ],
             [
              0.7777777777777778,
              "#fb9f3a"
             ],
             [
              0.8888888888888888,
              "#fdca26"
             ],
             [
              1,
              "#f0f921"
             ]
            ],
            "type": "surface"
           }
          ],
          "table": [
           {
            "cells": {
             "fill": {
              "color": "#EBF0F8"
             },
             "line": {
              "color": "white"
             }
            },
            "header": {
             "fill": {
              "color": "#C8D4E3"
             },
             "line": {
              "color": "white"
             }
            },
            "type": "table"
           }
          ]
         },
         "layout": {
          "annotationdefaults": {
           "arrowcolor": "#2a3f5f",
           "arrowhead": 0,
           "arrowwidth": 1
          },
          "autotypenumbers": "strict",
          "coloraxis": {
           "colorbar": {
            "outlinewidth": 0,
            "ticks": ""
           }
          },
          "colorscale": {
           "diverging": [
            [
             0,
             "#8e0152"
            ],
            [
             0.1,
             "#c51b7d"
            ],
            [
             0.2,
             "#de77ae"
            ],
            [
             0.3,
             "#f1b6da"
            ],
            [
             0.4,
             "#fde0ef"
            ],
            [
             0.5,
             "#f7f7f7"
            ],
            [
             0.6,
             "#e6f5d0"
            ],
            [
             0.7,
             "#b8e186"
            ],
            [
             0.8,
             "#7fbc41"
            ],
            [
             0.9,
             "#4d9221"
            ],
            [
             1,
             "#276419"
            ]
           ],
           "sequential": [
            [
             0,
             "#0d0887"
            ],
            [
             0.1111111111111111,
             "#46039f"
            ],
            [
             0.2222222222222222,
             "#7201a8"
            ],
            [
             0.3333333333333333,
             "#9c179e"
            ],
            [
             0.4444444444444444,
             "#bd3786"
            ],
            [
             0.5555555555555556,
             "#d8576b"
            ],
            [
             0.6666666666666666,
             "#ed7953"
            ],
            [
             0.7777777777777778,
             "#fb9f3a"
            ],
            [
             0.8888888888888888,
             "#fdca26"
            ],
            [
             1,
             "#f0f921"
            ]
           ],
           "sequentialminus": [
            [
             0,
             "#0d0887"
            ],
            [
             0.1111111111111111,
             "#46039f"
            ],
            [
             0.2222222222222222,
             "#7201a8"
            ],
            [
             0.3333333333333333,
             "#9c179e"
            ],
            [
             0.4444444444444444,
             "#bd3786"
            ],
            [
             0.5555555555555556,
             "#d8576b"
            ],
            [
             0.6666666666666666,
             "#ed7953"
            ],
            [
             0.7777777777777778,
             "#fb9f3a"
            ],
            [
             0.8888888888888888,
             "#fdca26"
            ],
            [
             1,
             "#f0f921"
            ]
           ]
          },
          "colorway": [
           "#636efa",
           "#EF553B",
           "#00cc96",
           "#ab63fa",
           "#FFA15A",
           "#19d3f3",
           "#FF6692",
           "#B6E880",
           "#FF97FF",
           "#FECB52"
          ],
          "font": {
           "color": "#2a3f5f"
          },
          "geo": {
           "bgcolor": "white",
           "lakecolor": "white",
           "landcolor": "#E5ECF6",
           "showlakes": true,
           "showland": true,
           "subunitcolor": "white"
          },
          "hoverlabel": {
           "align": "left"
          },
          "hovermode": "closest",
          "mapbox": {
           "style": "light"
          },
          "paper_bgcolor": "white",
          "plot_bgcolor": "#E5ECF6",
          "polar": {
           "angularaxis": {
            "gridcolor": "white",
            "linecolor": "white",
            "ticks": ""
           },
           "bgcolor": "#E5ECF6",
           "radialaxis": {
            "gridcolor": "white",
            "linecolor": "white",
            "ticks": ""
           }
          },
          "scene": {
           "xaxis": {
            "backgroundcolor": "#E5ECF6",
            "gridcolor": "white",
            "gridwidth": 2,
            "linecolor": "white",
            "showbackground": true,
            "ticks": "",
            "zerolinecolor": "white"
           },
           "yaxis": {
            "backgroundcolor": "#E5ECF6",
            "gridcolor": "white",
            "gridwidth": 2,
            "linecolor": "white",
            "showbackground": true,
            "ticks": "",
            "zerolinecolor": "white"
           },
           "zaxis": {
            "backgroundcolor": "#E5ECF6",
            "gridcolor": "white",
            "gridwidth": 2,
            "linecolor": "white",
            "showbackground": true,
            "ticks": "",
            "zerolinecolor": "white"
           }
          },
          "shapedefaults": {
           "line": {
            "color": "#2a3f5f"
           }
          },
          "ternary": {
           "aaxis": {
            "gridcolor": "white",
            "linecolor": "white",
            "ticks": ""
           },
           "baxis": {
            "gridcolor": "white",
            "linecolor": "white",
            "ticks": ""
           },
           "bgcolor": "#E5ECF6",
           "caxis": {
            "gridcolor": "white",
            "linecolor": "white",
            "ticks": ""
           }
          },
          "title": {
           "x": 0.05
          },
          "xaxis": {
           "automargin": true,
           "gridcolor": "white",
           "linecolor": "white",
           "ticks": "",
           "title": {
            "standoff": 15
           },
           "zerolinecolor": "white",
           "zerolinewidth": 2
          },
          "yaxis": {
           "automargin": true,
           "gridcolor": "white",
           "linecolor": "white",
           "ticks": "",
           "title": {
            "standoff": 15
           },
           "zerolinecolor": "white",
           "zerolinewidth": 2
          }
         }
        },
        "xaxis": {
         "anchor": "y",
         "domain": [
          0,
          1
         ],
         "title": {
          "text": "OEE %"
         }
        },
        "yaxis": {
         "anchor": "x",
         "domain": [
          0,
          1
         ],
         "title": {
          "text": "count"
         }
        }
       }
      }
     },
     "metadata": {},
     "output_type": "display_data"
    }
   ],
   "source": [
    "# sns.displot(rolling_avg[rolling_avg['OEE %'] < 4].dropna(subset=['OEE %'])['OEE %'])\n",
    "fig = px.histogram(rolling_avg[rolling_avg['OEE %'] < 200].dropna(subset=['OEE %'])['OEE %']\n",
    "    ,labels={'value':'OEE %'})\n",
    "fig.show()"
   ]
  },
  {
   "cell_type": "code",
   "execution_count": 34,
   "metadata": {},
   "outputs": [
    {
     "data": {
      "application/vnd.plotly.v1+json": {
       "config": {
        "plotlyServerURL": "https://plot.ly"
       },
       "data": [
        {
         "hovertemplate": "Plant=ELB<br>Availability %=%{x}<br>Performance %=%{y}<extra></extra>",
         "legendgroup": "ELB",
         "marker": {
          "color": "#636efa",
          "symbol": "circle"
         },
         "mode": "markers",
         "name": "ELB",
         "orientation": "v",
         "showlegend": true,
         "type": "scatter",
         "x": [
          47.49078126439778,
          53.593806745249054,
          54.35819166588398,
          32.08680555555556,
          -0.7900958994708951,
          -6.234578735845412,
          77.34334483139045,
          71.07396033898438,
          80.15105193951348,
          66.44655257936508,
          61.7243716931217,
          72.39103835978835,
          55.928311291893024,
          65.09950328339751,
          65.74934620667793,
          69.89847883597884,
          65.4143931878307,
          56.23752175860453,
          82.74512212398297,
          79.08325310729155,
          87.02013306760902,
          69.54245205026454,
          51.307581018518526,
          32.09846752580028,
          76.15008191850337,
          80.61611276455027,
          80.036541005291,
          70.59222056878306,
          57.95750661375661,
          32.95750661375661,
          77.10245221158942,
          83.03215963612598,
          77.07523172607308,
          84.20027281746032,
          70.77256944444444,
          48.34680886243386,
          61.581138832455146,
          80.93309074739363,
          74.31338175268463,
          82.92096560846561,
          67.31039186507937,
          42.973999669312164,
          55.38868959601268,
          49.45105428759274,
          66.18199840134936,
          84.35875496031744,
          73.77864583333331,
          56.58738506471986,
          62.317201507654055,
          68.92588997096207,
          71.19573124080335,
          68.71064814814814,
          45.951140873015866,
          33.54497354497354,
          64.46050736312284,
          75.53118567241162,
          65.11538706130052,
          67.75735780423281,
          75.8917824074074,
          75.8917824074074
         ],
         "xaxis": "x",
         "y": [
          172.57411868337633,
          154.3931022658518,
          158.63361590561215,
          103.28903085921581,
          57.62050718927911,
          48.86464811712898,
          62.83653254630653,
          71.84697283952241,
          83.76536390800662,
          82.95222283300761,
          58.932458221178834,
          49.92201792796296,
          19.8659202296547,
          19.8659202296547,
          59.85143361658285,
          59.85143361658285,
          39.98551338692816,
          39.98551338692816,
          75.68915766550951,
          91.88320313426274,
          88.55244587807006,
          73.93533519170559,
          null,
          null,
          56.13520206287006,
          85.1320675643898,
          74.36206985481309,
          79.21504197920481,
          null,
          null,
          58.91459848490623,
          85.4440905815006,
          78.92237856234959,
          83.7389212104593,
          54.12394900010681,
          null,
          55.352008589992224,
          74.20347153709558,
          59.22929020451029,
          65.91080399182655,
          48.38367499701404,
          null,
          27.321602710233034,
          28.74615570184635,
          28.74615570184635,
          28.74615570184635,
          1.4245529916133282,
          1.0658141036401503e-14,
          38.80239455258233,
          42.51529531312995,
          60.85206501920707,
          53.2135289949341,
          null,
          null,
          106.5292432061926,
          44.83682613788005,
          31.70794945033395,
          33.450372944035706,
          32.87356781278777,
          13.73188986792561
         ],
         "yaxis": "y"
        },
        {
         "hovertemplate": "Plant=FRA<br>Availability %=%{x}<br>Performance %=%{y}<extra></extra>",
         "legendgroup": "FRA",
         "marker": {
          "color": "#EF553B",
          "symbol": "diamond"
         },
         "mode": "markers",
         "name": "FRA",
         "orientation": "v",
         "showlegend": true,
         "type": "scatter",
         "x": [
          62.13710327044633,
          70.64536498437644,
          41.30174945132811,
          62.52158812019279,
          67.36901426072905,
          61.63518823996148,
          43.30955237341227,
          43.107017213900434,
          46.39924036575968,
          59.992247470176025,
          60.81119577393918,
          60.4682252600563,
          60.61133462763441,
          56.5234258179937,
          58.67061618564254,
          64.74474205856691,
          65.65060625609777,
          63.98244460486321,
          64.59492488433132,
          65.70582618464051,
          64.79305174342717,
          59.1974957011997,
          60.22540509259258,
          59.074415537643844,
          50.72949377399295,
          53.05265156720283,
          52.245745703005305,
          55.22589849408662,
          61.80347946308967,
          37.929732675833115,
          39.50503396318235,
          42.276531103705224,
          39.70297450942659,
          43.27279380541941,
          35.85246434588377,
          59.41661734986647,
          57.96417335801312,
          48.49737389488145,
          48.881140030402925,
          51.40751672884152,
          56.120781626936505,
          55.73965579623536,
          45.410959071328264,
          60.105261717348064,
          60.607115266029254,
          60.515781210036074,
          62.628500079879075,
          57.86307563516102,
          50.448522942300116,
          55.023162805410976,
          58.13581070090473,
          57.120290257666284,
          57.46239256888948,
          62.8207584716634,
          58.03913855135643,
          59.4172602847119,
          60.06514997221425,
          62.34578575659222,
          61.7983223653391,
          47.527101588645465,
          39.86901797657563,
          43.029760827551556,
          39.97888753382274,
          38.435237922693204,
          40.473796836823816,
          36.66196465557174,
          50.459808223883094,
          52.344388629242175,
          56.873039552069706,
          57.94472101760136,
          56.87414302338437,
          57.02579870041602,
          34.33005960329191,
          74.49996388328447,
          65.1206515066011,
          65.45960780069838,
          66.155533466512,
          63.799269670121035,
          52.09115830750446,
          54.75443542390657,
          55.95657588752346,
          64.78147565411349,
          64.5272699369809,
          65.37943597432232,
          52.2829464588456,
          52.881416371200004,
          55.03816773662073,
          68.42251552086574,
          64.88253373032799,
          59.03848347164359,
          61.621759211388316,
          56.25826090156494,
          49.43199031231071,
          31.510598877625274,
          32.705034494386105,
          35.90841693097318,
          35.402561984078105,
          36.01731651806071,
          40.84188129020724,
          38.67578251643388,
          34.11442453634397,
          29.028507555132094,
          65.84846705577895,
          67.19359430593413,
          67.98591511340427,
          68.76926575661079,
          67.92615913798166,
          66.84907239124246,
          64.87590383999819,
          62.75067178972444,
          64.71425442361954,
          48.47475981560078,
          49.55911827592331,
          46.69062562153062,
          46.74141929941186,
          38.25730721436541,
          43.82630618099151,
          23.326560870552985,
          25.469117189073465,
          20.809739740029627,
          46.13724085390935,
          48.39976445153611,
          48.89302958391045,
          49.521186203281985,
          48.947835508837535,
          49.9499237084345,
          25.75631069147758,
          26.29377723246744,
          28.944266315233037,
          32.74703568160482,
          32.37508483693004,
          29.99682945349288,
          42.60507916419395,
          32.36006022003669,
          19.200323702951472,
          13.579397812185064,
          2.295251235507625,
          0.9722030000025806,
          18.738088569165875,
          13.007395238544456,
          11.81635560598327,
          21.36133917422037,
          23.718758689291224,
          21.241864291276435
         ],
         "xaxis": "x",
         "y": [
          70.16289000888295,
          71.56540726837848,
          57.51393045388138,
          null,
          61.09827879329688,
          57.98554565468348,
          59.55741294022317,
          57.408525894193545,
          56.3808018909896,
          92.23817788409855,
          91.764523575744,
          91.80351719192237,
          92.0593879926291,
          91.09778499739701,
          72.55722495813451,
          83.1068113119659,
          83.13777237104205,
          83.43992114284808,
          82.8158344116855,
          81.8839727693978,
          81.85333639622957,
          80.65400127719089,
          80.98087140167996,
          80.40528883038618,
          80.88034706213935,
          80.16254931475305,
          79.49235011152331,
          79.6278317962821,
          81.29023009233225,
          59.611874677039424,
          59.8589954209849,
          56.44670109779654,
          53.40444191311929,
          52.514012839684675,
          51.62547843836536,
          68.53952343433504,
          68.67648169219103,
          72.39578751941764,
          72.68254540905015,
          72.40055120561686,
          76.34872821196348,
          75.95255389234947,
          76.1217461517498,
          72.84893164506639,
          73.34490135888888,
          73.4401171707346,
          73.2422863276931,
          70.93911707033797,
          67.91249450704237,
          87.13045477352861,
          87.65156126294073,
          88.87792412098287,
          89.07521798594398,
          89.96846822149095,
          89.93415413609122,
          93.0420469989252,
          91.89689628373142,
          87.61081792226237,
          87.57795819234998,
          64.12206311605613,
          69.81709534529375,
          71.15149722179909,
          75.59475374817913,
          76.54913986723842,
          75.06895731263667,
          72.82334728039103,
          96.46539559204268,
          98.7383114015027,
          95.3238018596281,
          98.00603456695237,
          98.10136336608669,
          96.20121609621378,
          68.97562110717648,
          92.04963842262913,
          89.85043316833014,
          90.14019433835676,
          90.03808985715798,
          96.75106034136914,
          93.67717837957537,
          91.56328332712047,
          90.91517825265856,
          88.80696358605886,
          90.23293674710003,
          91.17560736453142,
          93.67435572146049,
          94.64969712961086,
          93.61291487579396,
          54.1286974613011,
          59.62747984472079,
          64.32476708841521,
          47.222698932245166,
          40.964840164064654,
          39.228835755741265,
          52.196365975145696,
          50.62819835587081,
          53.51315950771997,
          56.10029021439328,
          57.99214187879477,
          73.40390592353698,
          66.23389585994413,
          68.66667332736947,
          74.17101254694717,
          83.0620489044246,
          80.09631058907895,
          78.77099632095363,
          90.10176375329299,
          87.8866762047557,
          88.76835024471765,
          89.61883156943468,
          93.30604752131757,
          92.58027218395937,
          49.728308939078595,
          47.7153321824562,
          42.36709533175723,
          42.67576592863069,
          41.68680080130119,
          33.27985620549263,
          37.28021498684477,
          40.217601618907196,
          47.22843672199322,
          75.15205040246062,
          78.43964225752624,
          80.30476988084732,
          81.67940069931342,
          81.14145753052813,
          81.17152520183932,
          89.34063052012922,
          89.03900511069669,
          87.55903360664254,
          86.64010853815398,
          85.9052358644316,
          67.15044981590887,
          33.25195143565861,
          39.169002156912576,
          null,
          null,
          null,
          null,
          64.44710130204712,
          46.731437749692134,
          36.24834009340535,
          45.41805157122913,
          49.999998418384614,
          63.949211998541614
         ],
         "yaxis": "y"
        },
        {
         "hovertemplate": "Plant=HZG<br>Availability %=%{x}<br>Performance %=%{y}<extra></extra>",
         "legendgroup": "HZG",
         "marker": {
          "color": "#00cc96",
          "symbol": "square"
         },
         "mode": "markers",
         "name": "HZG",
         "orientation": "v",
         "showlegend": true,
         "type": "scatter",
         "x": [
          76.89009232991872,
          76.58825241957186,
          76.4382304628337,
          78.65552726043175,
          78.40979895513351,
          78.01897103305558,
          73.35226478475533,
          73.06305285785523,
          73.25976522157023,
          71.49544893218524,
          69.81236981512174,
          68.8839964162566,
          52.03355897789395,
          71.94246814168373,
          71.20752225830036,
          70.8594355844815,
          73.08677252620265,
          73.23093521998223,
          74.00170286262488,
          56.418808986163455,
          60.751287038588856,
          63.13648813096171,
          62.884822263968886,
          65.3591986659697,
          70.54131700431915,
          69.11778500654285,
          72.28073343503814,
          73.89178810831658,
          65.80607184992706,
          65.2560954139102,
          64.76123467095509,
          68.82110102418437,
          66.41176786282998,
          66.3931990921663
         ],
         "xaxis": "x",
         "y": [
          91.25291612080589,
          91.29193080648383,
          93.72017194842667,
          92.98463118710154,
          94.92029073776364,
          97.90128713519871,
          92.02614769671155,
          91.94206854447863,
          92.5738595470583,
          91.598039642016,
          91.59713027397231,
          90.48518385622157,
          null,
          92.71300159345606,
          91.34574210300464,
          91.76966813807513,
          93.50213456140943,
          93.22482427552754,
          94.7405061408872,
          120.91635301722488,
          114.31255728460766,
          113.59760139038559,
          108.5109743593294,
          108.86911860485517,
          108.50147556577971,
          112.54300172912421,
          112.83281172183874,
          113.49776012872918,
          98.32830796060405,
          97.47373877284957,
          96.72451813054457,
          99.37687743286189,
          96.8038243079194,
          96.12034860893334
         ],
         "yaxis": "y"
        },
        {
         "hovertemplate": "Plant=LLB<br>Availability %=%{x}<br>Performance %=%{y}<extra></extra>",
         "legendgroup": "LLB",
         "marker": {
          "color": "#ab63fa",
          "symbol": "x"
         },
         "mode": "markers",
         "name": "LLB",
         "orientation": "v",
         "showlegend": true,
         "type": "scatter",
         "x": [
          53.351924028904364,
          52.005079861104335,
          51.266138349937094,
          52.11809739905929,
          52.60364979899448,
          55.373537906906456,
          60.98843625992061,
          54.69652846671073,
          59.32566206459433,
          56.64156194885359,
          59.54988563712519,
          66.24173348899552,
          75.92959324087087,
          64.94860679906625,
          66.0714316153317,
          66.92615761732253,
          70.36087073970609,
          73.81550569336608,
          76.34776284293937,
          64.15376265417436,
          72.10776560679564,
          71.19404407162222,
          72.3896373237744,
          68.73370009698401,
          73.78205303203941,
          61.78655708351445,
          67.33898530252323,
          74.03500501101888,
          74.76162110865386,
          76.69227393563128,
          62.32456046728546,
          71.08149560354595,
          69.20915854211142,
          69.6704808146167,
          70.66202737556036,
          65.05731222969892,
          66.54032527339373,
          92.29340113095229,
          92.43619525812142,
          93.13027807553352,
          86.18583363108908,
          84.86790986790984,
          88.88888888888887,
          64.8336274874568,
          61.976784840793805,
          67.09008928476004,
          73.13015330954488,
          74.82942088586066,
          82.45179929128967,
          51.03625274759691,
          52.819172892949744,
          73.0162878330954,
          68.66042763016763,
          67.72558184228292,
          70.28514825867794,
          76.78577482509397,
          55.32119472774848,
          53.2144441032436,
          67.74805410091868,
          68.2676113840499,
          69.27608352312937,
          70.92119255978072,
          72.34617285031976,
          75.3351439684254,
          69.17879502272031,
          71.46707101820644,
          71.44820604720414,
          68.9613608408419,
          71.16102723149167,
          72.1852465393072,
          45.6851074376619,
          53.250815182447234,
          58.35321639518489,
          61.247340054781006,
          65.4288841176764,
          66.94192178586108,
          62.896439131335626,
          66.9636410989282,
          59.901158119625386,
          64.69796006944443,
          68.71412078387053,
          76.84094936872023,
          79.131134235007,
          76.50709272920486,
          75.41355164800106,
          73.23459579770464,
          68.83433791660181,
          67.35288885597122,
          69.88832820085452,
          72.51167943170655,
          63.73870977511809,
          63.68454110789327
         ],
         "xaxis": "x",
         "y": [
          120.18500772939821,
          122.20585123158146,
          128.2970313148503,
          123.54108738621726,
          119.03867686728793,
          111.69860739837551,
          86.16876240913908,
          85.22079372478446,
          87.87155063135518,
          94.62317877026891,
          97.69335448543072,
          83.28153877438571,
          53.88550772660314,
          83.48420402163804,
          82.57390551854877,
          81.41073683465815,
          78.78404432460101,
          81.06929142120572,
          78.20634783028532,
          58.02633218174131,
          45.25825140810372,
          34.35619904389738,
          38.92238276141538,
          47.214886833008634,
          60.8896507152774,
          78.67341392832809,
          67.16881767158644,
          53.82347696152582,
          56.288572223015095,
          61.76117304319537,
          75.44029461341225,
          73.02646818595403,
          72.23114848139362,
          72.08542114039439,
          74.73804241694431,
          96.55741260245861,
          86.50600862242575,
          62.01689652253279,
          58.644682174658215,
          64.91913445463935,
          89.27439246020845,
          85.1228129753697,
          70.29609043466047,
          64.83021671769865,
          71.33700229567972,
          70.45855884530722,
          68.22046654086529,
          69.90374535642049,
          70.57213665772957,
          67.55041422852624,
          67.87047762266265,
          148.52472666538495,
          138.4223074924166,
          68.11186999175156,
          66.94666861227425,
          46.07310948159403,
          70.47728882692994,
          61.775389772067896,
          77.58926505339319,
          76.68061927027122,
          76.51994268276334,
          72.22693973405276,
          71.42806111988469,
          70.18179330937825,
          78.08133352714657,
          83.73510275666283,
          83.41288551698854,
          74.66710370221547,
          74.84606201471026,
          68.855601188403,
          59.32421489659214,
          68.16410660830668,
          69.75696235911516,
          68.45445658004517,
          68.2938178572183,
          104.67805062013322,
          109.5587300534962,
          97.75699888459667,
          85.56912892286694,
          88.7442450540234,
          76.96382435156583,
          100.44486022433712,
          99.70078568007182,
          95.803100933915,
          93.55933666592459,
          88.05472846403919,
          84.27523350118497,
          76.27317513013175,
          71.56863719154425,
          68.68446307794414,
          73.86988474838367,
          70.23482932538005
         ],
         "yaxis": "y"
        },
        {
         "hovertemplate": "Plant=LSX<br>Availability %=%{x}<br>Performance %=%{y}<extra></extra>",
         "legendgroup": "LSX",
         "marker": {
          "color": "#FFA15A",
          "symbol": "cross"
         },
         "mode": "markers",
         "name": "LSX",
         "orientation": "v",
         "showlegend": true,
         "type": "scatter",
         "x": [
          69.95118176242701,
          70.08666187169227,
          70.36956147816882,
          65.03043329250949,
          61.22449142537222,
          56.84773038103658,
          64.18739046068403,
          67.16505986683485,
          68.43828237014681,
          64.31100479009345,
          63.35263795709001,
          64.80384059117458,
          70.31167537620055,
          71.63359775544104,
          73.7816858761139,
          66.04003020172476,
          61.17453261009339,
          61.817010446328794,
          60.699183767551766,
          61.29512273227526,
          64.24506000818344,
          66.94139367024283,
          67.03912843166812,
          69.69380230679437,
          79.21872833770809,
          80.44354254930744,
          81.82396899300826,
          77.19476970237743,
          73.35849498170208,
          73.69013794630013,
          57.46724199391156,
          58.44410977901501,
          70.54181725319708,
          57.342193542728616,
          60.73400231272077,
          55.10027599077107,
          67.14712290942876,
          64.22090940902815,
          61.330185287686255,
          61.95275018491289,
          59.56707381805761,
          64.0608098119375,
          67.77970798842857,
          75.12819442107572,
          76.00252021239471,
          73.89900407112052,
          68.27110554021792,
          61.31984354682066,
          72.32822803158524,
          73.28141496535241,
          75.96352888886518,
          72.72710249355262,
          68.52290417117197,
          64.62382317670513,
          74.60470700655225,
          78.2130575300568,
          72.02638183557292,
          70.32751126383818,
          64.59349959337341,
          58.63286999606594
         ],
         "xaxis": "x",
         "y": [
          79.88765839056575,
          80.64634052006883,
          79.81690030132089,
          83.39847675700223,
          86.71720122371661,
          86.86377788035216,
          73.22962795776792,
          72.50747143169282,
          73.70515368996358,
          78.1776247085063,
          81.39382181019899,
          80.98595538138123,
          75.67778140975504,
          74.07383633582869,
          69.7798451621103,
          75.32704999058402,
          79.83333724135075,
          80.62894628409515,
          84.26542707105698,
          85.92260551251977,
          87.42358497990493,
          87.10724363595797,
          89.17723194849236,
          90.9846816646021,
          89.4173929534781,
          89.56765365280404,
          90.11073567473153,
          93.34570358369467,
          93.4853271094109,
          94.72489156801711,
          69.40726790169305,
          71.75483768325392,
          77.16729315611747,
          95.08361717302667,
          94.62882746368062,
          86.77370748652336,
          86.76029914950465,
          85.16462414049006,
          83.5139573757892,
          89.07772088169054,
          92.16011007733002,
          91.43276100397104,
          83.31528008312114,
          75.86014073332719,
          80.74600544235899,
          85.59418850318028,
          92.80980114314788,
          102.58763551842335,
          66.56855251393154,
          72.68629362799471,
          73.6645571787862,
          77.9980021841451,
          78.25356503220037,
          70.3274947264815,
          77.67376750027634,
          77.67206500917914,
          72.47648115902842,
          69.27876878527032,
          78.70156633550636,
          76.30186427665147
         ],
         "yaxis": "y"
        },
        {
         "hovertemplate": "Plant=LTR<br>Availability %=%{x}<br>Performance %=%{y}<extra></extra>",
         "legendgroup": "LTR",
         "marker": {
          "color": "#19d3f3",
          "symbol": "circle"
         },
         "mode": "markers",
         "name": "LTR",
         "orientation": "v",
         "showlegend": true,
         "type": "scatter",
         "x": [
          61.12746043418432,
          53.76537318568566,
          51.026616834982526,
          55.52632748313067,
          55.43885283240199,
          52.82745925876883,
          51.38024253938147,
          38.01022679686708,
          44.720902949487964,
          46.733640458295895,
          46.12537214480587,
          65.32811072628365,
          51.60218521454444,
          57.554780354919444,
          58.36550541262783,
          57.70563251976158,
          54.637634834576396,
          50.51070083525515,
          31.313544945494595,
          35.8573831303963,
          52.15946646372963,
          46.86900001691925,
          39.62382009455273,
          37.748245455603495,
          40.705422490681016,
          52.65248799371934,
          48.4309644586496,
          51.32811153041151,
          51.30629832894534
         ],
         "xaxis": "x",
         "y": [
          66.77987319357172,
          64.74385979417693,
          67.20034704633157,
          68.74654800350909,
          70.55389657044847,
          70.10059044579181,
          68.21438120861716,
          54.7464052902725,
          57.34189695370104,
          61.50434107083787,
          62.7190835648925,
          71.9492848164952,
          175.64712913680424,
          67.47556868004727,
          70.62521757331501,
          70.06743581076606,
          69.14048543346749,
          66.62764427676447,
          10.62565679853331,
          6.884788541954917,
          4.847363392254319,
          78.76867712555236,
          70.1963806292979,
          66.8049772862436,
          63.1639609313776,
          34.496096340715596,
          42.86477324130039,
          38.770201051132865,
          33.64105420545576
         ],
         "yaxis": "y"
        },
        {
         "hovertemplate": "Plant=MAF<br>Availability %=%{x}<br>Performance %=%{y}<extra></extra>",
         "legendgroup": "MAF",
         "marker": {
          "color": "#FF6692",
          "symbol": "diamond"
         },
         "mode": "markers",
         "name": "MAF",
         "orientation": "v",
         "showlegend": true,
         "type": "scatter",
         "x": [
          58.338635631126294,
          58.650984607543904,
          55.925698896011376,
          53.82293831049217,
          55.80527449966902,
          57.148466744515666,
          57.41733932913776,
          57.99798018246007,
          57.117083835779866,
          55.15960648148146,
          59.0760106774477,
          63.64110914795442,
          51.408909111587505,
          51.82594195553567,
          52.098285441495364,
          52.22961287805535,
          57.671906975888106,
          55.939971187484346,
          53.850716955269284,
          50.83987058091843,
          52.960527736910905,
          48.865268874643846,
          48.598631108055365,
          51.28132878399259,
          41.984008014667225,
          45.51446739053924,
          47.357551282811386,
          49.53124470369024,
          49.852435452710665,
          50.65506495296888,
          72.65302583335334,
          72.1729385872003,
          70.4458482549868,
          82.77553927839098,
          84.16969091208172,
          85.37853606284074,
          85.1833076811925,
          85.45858396206702,
          82.99990908235759,
          66.85377498973165,
          67.1687720603779,
          71.69351851326834,
          78.39301505197193,
          79.70140035798906,
          78.28395437966135,
          68.69144614746442,
          65.23547861216485,
          60.64669429488485,
          61.804047351415974,
          64.50869971758401,
          66.12982556376423,
          72.26481818856794,
          73.22078719684916,
          72.6531218312403,
          71.04248641384012,
          70.26597176424798,
          64.22027729818683,
          58.537842998095115,
          59.426340550680784,
          57.9851336323215,
          59.30602875046363,
          57.84760995888936,
          50.93382662489269,
          59.911951441728,
          59.37610135255417
         ],
         "xaxis": "x",
         "y": [
          83.67652851000256,
          84.29860638568277,
          83.60580025799513,
          81.35418263682385,
          80.26453483699763,
          77.61105191534935,
          90.41061447984933,
          88.11970726976817,
          87.79047965045902,
          87.45695316759009,
          84.6344447004455,
          86.70400570663006,
          83.74089693839531,
          82.06644387479902,
          80.10871448583796,
          80.53347241381442,
          80.6225666770886,
          75.39386793611278,
          89.99545032592361,
          89.20470231559926,
          89.86653175232762,
          89.10717468772066,
          87.06573257647264,
          79.12752183013302,
          80.45634176956692,
          81.73720995006511,
          79.84318469970299,
          77.83182365288958,
          75.20841451535752,
          70.2024849425467,
          86.8400029638234,
          87.50317017313736,
          87.26231775984343,
          99.72791378845083,
          99.55496285273541,
          98.99174974866301,
          97.47064520133486,
          97.77428071439824,
          98.49373166365481,
          96.81424110105134,
          96.98166360389303,
          98.42374258453466,
          98.34451241816089,
          99.15587010519697,
          98.71501737682685,
          99.85785019180064,
          105.74615048424343,
          106.84115706865775,
          106.19077294608672,
          106.04614599610984,
          101.00372875259227,
          103.45758806058521,
          103.23089483670613,
          103.35112022894698,
          103.42300455014637,
          103.09089544708704,
          98.99276308118633,
          99.51086940811896,
          98.60273433456331,
          99.97362917954338,
          100.54875487438878,
          100.28621007191649,
          97.04347045628154,
          89.0359968556503,
          86.03959307591617
         ],
         "yaxis": "y"
        },
        {
         "hovertemplate": "Plant=MLE<br>Availability %=%{x}<br>Performance %=%{y}<extra></extra>",
         "legendgroup": "MLE",
         "marker": {
          "color": "#B6E880",
          "symbol": "square"
         },
         "mode": "markers",
         "name": "MLE",
         "orientation": "v",
         "showlegend": true,
         "type": "scatter",
         "x": [
          29.766393712052945
         ],
         "xaxis": "x",
         "y": [
          75.94935276806898
         ],
         "yaxis": "y"
        },
        {
         "hovertemplate": "Plant=OCO<br>Availability %=%{x}<br>Performance %=%{y}<extra></extra>",
         "legendgroup": "OCO",
         "marker": {
          "color": "#FF97FF",
          "symbol": "x"
         },
         "mode": "markers",
         "name": "OCO",
         "orientation": "v",
         "showlegend": true,
         "type": "scatter",
         "x": [
          46.65479040038373,
          45.03422233440995,
          60.91455136362417,
          58.283966847255414,
          60.23138724567911,
          55.85905541145115,
          58.44232394996807,
          47.34833278127272,
          46.02585862907071,
          39.24894423850199,
          40.955301139520756,
          42.18209399436444,
          44.090039401450035,
          53.871628196680696,
          56.82439457135486,
          53.537849197512756,
          52.25694641506667,
          43.64650649686185,
          61.016725790058494,
          63.65625981413186,
          65.09032786359236,
          64.8635147588264,
          47.65339163001591,
          44.75489821696635,
          42.77620919826962,
          39.75083375491204,
          39.07127690465754,
          49.33505972547446,
          57.19006256228954,
          62.48307907474271,
          52.03150534230937,
          50.9911644224345,
          76.56399669807891,
          79.37873402685472,
          80.04091151788862,
          77.2385497095562,
          76.37357428218164,
          72.53037590455398,
          73.89321084782854,
          73.36962053309874,
          72.92362699165105,
          72.34377242969434,
          74.61113178620583,
          75.16051879852735
         ],
         "xaxis": "x",
         "y": [
          null,
          70.48978240028286,
          103.48224311848915,
          100.20354886413082,
          103.33786781922993,
          96.22685239782899,
          96.17887902949911,
          86.80369562996871,
          81.97393210510262,
          77.20504861783994,
          76.95328744310557,
          70.34045286742898,
          66.89072068205799,
          82.99427413210964,
          80.33435757147397,
          81.10863321404346,
          80.46149494054298,
          74.77351143289698,
          63.21748486952355,
          65.43222250909398,
          66.95968053127169,
          69.33541065819331,
          81.45573081807726,
          79.61560726627192,
          76.4761333550307,
          75.57882525252028,
          72.86127213411471,
          76.28532806042229,
          86.67307138479681,
          92.1671039889852,
          89.78916411176998,
          87.1623352623349,
          92.38163336000112,
          91.820150900819,
          91.82695896958654,
          92.38379090339302,
          97.91557457510793,
          97.65070796161886,
          84.89828293225465,
          83.62002396199148,
          85.17475503183563,
          86.04845992776396,
          86.6100344659883,
          86.88448717502658
         ],
         "yaxis": "y"
        },
        {
         "hovertemplate": "Plant=ORI<br>Availability %=%{x}<br>Performance %=%{y}<extra></extra>",
         "legendgroup": "ORI",
         "marker": {
          "color": "#FECB52",
          "symbol": "cross"
         },
         "mode": "markers",
         "name": "ORI",
         "orientation": "v",
         "showlegend": true,
         "type": "scatter",
         "x": [
          67.65244001615173,
          32.82914619641741
         ],
         "xaxis": "x",
         "y": [
          94.69526512634718,
          66.2679879928667
         ],
         "yaxis": "y"
        },
        {
         "hovertemplate": "Plant=RDG<br>Availability %=%{x}<br>Performance %=%{y}<extra></extra>",
         "legendgroup": "RDG",
         "marker": {
          "color": "#636efa",
          "symbol": "circle"
         },
         "mode": "markers",
         "name": "RDG",
         "orientation": "v",
         "showlegend": true,
         "type": "scatter",
         "x": [
          69.40779805398144,
          65.34781309050987,
          54.73347049948835,
          52.8978418858952,
          57.6778362024624
         ],
         "xaxis": "x",
         "y": [
          93.88916278013932,
          92.10461111215501,
          76.77748972301427,
          74.74697826099504,
          71.04684282727983
         ],
         "yaxis": "y"
        },
        {
         "hovertemplate": "Plant=SCO<br>Availability %=%{x}<br>Performance %=%{y}<extra></extra>",
         "legendgroup": "SCO",
         "marker": {
          "color": "#EF553B",
          "symbol": "diamond"
         },
         "mode": "markers",
         "name": "SCO",
         "orientation": "v",
         "showlegend": true,
         "type": "scatter",
         "x": [
          45.282738095238045,
          45.282738095238045,
          91.36904761904756,
          69.1071428571428,
          44.107142857142804,
          19.107142857142804,
          2.738095238095184,
          0,
          45.147738212642,
          56.92601202216581,
          48.371944561848345,
          53.008432539682474,
          64.98015873015866,
          73.1970102933533,
          42.41759415797871,
          31.70826876115332,
          35.20281241194697,
          55.51835317460312,
          69.97519841269836,
          94.24851190476186,
          61.34712265711147,
          63.16985879075215,
          61.008968032205146,
          66.58172043656752,
          63.312744488863515,
          55.75250122780993,
          45.94090115214129,
          45.530784806445,
          44.366660341262815,
          43.78151483171358,
          46.14174739388177,
          45.677475783628175,
          55.11262737284558,
          56.469644035443615,
          54.66571238973063,
          53.64936963792079,
          57.25937030457506,
          53.430081898302404,
          59.23658911672011,
          58.31873725415461,
          61.22215278703443,
          60.31324672208666,
          61.36515966792017,
          57.982048752563145,
          57.703087066333765,
          55.87260194796147,
          54.660337787268304,
          57.31443399365209,
          59.71823316562138,
          58.54474683491069,
          57.19723876854918,
          57.98645062082545,
          61.2094075567004,
          68.82364211311652,
          60.48477513012975,
          60.98487404784661,
          55.00130737347415,
          57.55032246364046,
          53.78707702451321,
          57.320197321305635,
          38.97771829054211,
          44.9506392705283,
          46.62512785362727,
          50.04462326772048,
          50.10796820681682,
          44.76929170838087,
          47.7747147640454,
          50.378227203537584,
          52.23215592166868,
          50.70734125376191,
          48.815770330995136,
          46.37358467277292,
          43.91113666559442,
          45.34553458103231,
          46.21181094195444,
          50.3779134956212,
          49.89080274752114,
          65.31816744491883,
          67.21655029879432,
          68.24406458732254,
          61.50219164326053
         ],
         "xaxis": "x",
         "y": [
          47.310874759837844,
          47.310874759837844,
          0,
          1.5096618357487925,
          null,
          null,
          null,
          null,
          24.64555764159232,
          19.313273832898766,
          37.62532935927538,
          36.85548780652696,
          29.04571126722013,
          25.514283080013843,
          23.9637771889114,
          48.58144982767797,
          49.64604164686832,
          33.590730055185034,
          31.77993387510276,
          5.873674215052335,
          89.9075973179223,
          90.58882939653948,
          89.25697328209866,
          91.10581700699501,
          90.01702985611004,
          87.78594459441891,
          75.63102728622954,
          75.27856358458348,
          76.12871469179169,
          73.32835798476161,
          71.12397108666826,
          70.41482777474671,
          77.44923820433559,
          81.03345507133383,
          80.45026138261615,
          81.18175599419024,
          83.17782311892786,
          78.16140446604385,
          89.23634497747155,
          90.11253400925239,
          90.39583325497179,
          93.14492244370314,
          91.48764776424056,
          92.32386240762531,
          91.22953513196099,
          91.18745613735267,
          90.59268105174903,
          91.06246296853293,
          92.42601437164222,
          91.39444513926223,
          90.73607008535726,
          90.94953639074132,
          91.36753216321439,
          93.66291406571577,
          86.0759203579835,
          85.63764140055846,
          84.60190057147749,
          84.64110192144013,
          84.58163671690383,
          86.54648173640685,
          78.20997295024378,
          77.79279944855237,
          77.42505538981838,
          77.36799730345186,
          73.95594943623725,
          92.21090288960866,
          88.57280945384169,
          89.71711786487583,
          89.51647376405575,
          88.96289596508393,
          89.1082606374617,
          92.53034483323287,
          91.99646827195048,
          92.48834774502545,
          91.94413607156467,
          88.02173878782642,
          87.50581392790392,
          79.30213206179464,
          79.36588090283627,
          80.63569293377817,
          80.53321368408335
         ],
         "yaxis": "y"
        },
        {
         "hovertemplate": "Plant=SUZ<br>Availability %=%{x}<br>Performance %=%{y}<extra></extra>",
         "legendgroup": "SUZ",
         "marker": {
          "color": "#00cc96",
          "symbol": "square"
         },
         "mode": "markers",
         "name": "SUZ",
         "orientation": "v",
         "showlegend": true,
         "type": "scatter",
         "x": [
          65.83710425254841,
          59.414399754789734,
          35.00904809728429,
          35.60613548372174,
          31.18259901148258,
          28.472366376426784,
          29.141069305182004,
          28.32044711045112,
          42.09016583914384,
          44.03367833906552,
          53.975456822177044,
          54.225636836884625,
          49.03784717000626,
          45.97046988069423,
          14.081827304639749,
          7.504092261904705,
          0.0001723619173622603,
          15.968150691900632,
          13.046585648148092,
          17.59121543173362,
          33.89444253662998,
          38.384755291005234,
          35.09015734438947,
          25.068809142246586,
          26.81886574074068,
          15.523354828042269,
          38.87133737544538,
          37.16528521590384,
          33.642989239557835,
          33.95748225787528,
          35.33026624299622,
          38.821548227823406,
          35.743670364430926,
          64.87778052473143,
          62.93932333635562,
          43.875616797771286,
          46.03207457079517,
          43.3925401790262,
          42.74354082150002,
          37.44222816252126,
          35.46870826049036,
          51.914652635048185,
          52.120495091982804,
          49.62446254000966,
          41.78100921359128,
          45.15056612762669,
          46.83122449545522,
          49.60727277251878,
          49.63415027771718,
          49.47982341320338,
          47.58463780156555,
          49.05022117372757,
          52.045673097115085,
          48.035121471731145,
          44.6150277808279,
          48.593143112627445,
          49.08258822354645,
          49.57438459416892,
          50.03078755286937,
          46.11813126163386,
          62.0084920430268,
          60.9157207472634,
          58.55488520352829,
          60.20551404955424,
          65.57835431362548,
          65.61947665969379,
          48.84506737394882,
          49.14984187016526,
          47.45771039980882,
          51.48249647683119,
          51.36847889274104,
          50.271720221384065,
          35.112074994411344,
          35.51869783475552,
          34.05752021167026,
          29.245169996771963,
          27.951298299793766,
          27.31985087742399,
          40.4047281196305,
          37.23856540080575,
          36.218845520204084,
          37.73574894955057,
          36.66041887208659,
          38.84861773257349,
          73.20024996543539,
          74.54878258731266,
          70.83955052405389,
          69.80476708758673,
          70.02776509278017,
          70.94500158167324,
          59.757785767471724,
          58.46404641082214,
          57.426622970238974,
          60.45110834582205,
          62.49792415133462,
          71.37419634755243,
          69.07592014265633,
          66.72106264640414,
          65.89035108054256,
          47.9144526795461,
          43.35588949635609,
          46.85695371673252,
          44.512165336785884,
          40.749520135521344,
          35.75517097989397,
          37.460802183960304,
          38.69272065448213,
          38.52518040324363,
          36.954958180173634,
          40.47410662212201
         ],
         "xaxis": "x",
         "y": [
          101.49733409403711,
          98.37628017923491,
          78.19711520209522,
          72.5363413503072,
          76.79382037606578,
          74.56788811030198,
          74.93046879342779,
          76.59736748795305,
          98.30789788027643,
          102.45294606330447,
          84.02248337838779,
          78.94490126410943,
          77.59483411315665,
          76.35464498603238,
          71.28539380909902,
          null,
          null,
          472.383078211676,
          442.4246195418426,
          408.005798615716,
          105.60733930937396,
          114.10906485849941,
          104.20341480569596,
          21.262394879121242,
          18.702671865813123,
          null,
          124.4003620332586,
          120.60439387282725,
          122.37796676051563,
          123.70054537762152,
          121.29107899937503,
          122.73821494652539,
          86.28406963219845,
          90.49075813731629,
          91.16910489687906,
          121.12607022330769,
          106.35939137642917,
          99.9821393196269,
          100.11092037363404,
          87.57381688077612,
          85.30152852260609,
          91.87163509842512,
          97.0823247580546,
          99.30027681756889,
          111.06412816778648,
          106.62221381773374,
          98.43743322899388,
          92.23286326461078,
          86.05897946336937,
          90.82641213161943,
          86.62338176421333,
          83.8390913734789,
          89.04773641338176,
          98.18758235471704,
          96.59767883636934,
          93.11373338968393,
          92.342018325888,
          91.16819049937675,
          90.90317269025876,
          96.60943788283066,
          72.44657769561556,
          76.35631794149063,
          75.48255553512489,
          78.22032847908041,
          85.86756504981201,
          81.66209289472684,
          180.3091187553485,
          181.56861849109532,
          105.7121544712388,
          101.01053935301144,
          97.35547258092663,
          92.82059632935214,
          139.2609293909996,
          140.10064728980117,
          112.53230181707649,
          116.53731029732094,
          113.98340023544515,
          115.1266119909535,
          77.42963171299994,
          81.35443113363385,
          85.33627712877491,
          82.60486727543338,
          79.33687901288084,
          75.88332263722246,
          80.95741473871321,
          78.57921657153055,
          76.31002658503094,
          77.87142708389563,
          76.57994316172247,
          76.81347354031854,
          99.20661970198611,
          96.0328472938387,
          97.84301167690631,
          97.16478940638497,
          99.96378945638673,
          91.51625427163019,
          105.97604580135805,
          104.9267159070353,
          93.72194861531841,
          110.02361484361037,
          106.53013664138848,
          112.09865857593591,
          116.98479851568881,
          122.69459626262528,
          133.4962578667938,
          140.7820173116993,
          147.0311957960934,
          149.1521167299281,
          155.3849951979454,
          153.96186598848934
         ],
         "yaxis": "y"
        },
        {
         "hovertemplate": "Plant=SZX<br>Availability %=%{x}<br>Performance %=%{y}<extra></extra>",
         "legendgroup": "SZX",
         "marker": {
          "color": "#ab63fa",
          "symbol": "x"
         },
         "mode": "markers",
         "name": "SZX",
         "orientation": "v",
         "showlegend": true,
         "type": "scatter",
         "x": [
          77.01221342417546,
          76.14333461795579,
          77.61149427767286,
          72.50338060386726,
          74.28557914124917,
          75.25629052862723
         ],
         "xaxis": "x",
         "y": [
          61.030059459055174,
          65.87921925107611,
          64.9403108846081,
          86.88813427091173,
          87.51174437438321,
          89.38507544526306
         ],
         "yaxis": "y"
        },
        {
         "hovertemplate": "Plant=TRS<br>Availability %=%{x}<br>Performance %=%{y}<extra></extra>",
         "legendgroup": "TRS",
         "marker": {
          "color": "#FFA15A",
          "symbol": "cross"
         },
         "mode": "markers",
         "name": "TRS",
         "orientation": "v",
         "showlegend": true,
         "type": "scatter",
         "x": [
          39.90962365631482,
          44.283732371878834,
          41.12861543887026,
          37.731517276372514,
          36.096086378324436,
          39.26584589193641,
          43.97997547819715,
          36.90601093630634,
          55.85929363284349,
          57.87368760552896,
          53.1382566504629,
          48.160824411169344,
          48.88325723746543,
          33.903538491749856,
          40.308880971850925,
          40.76318377260081,
          38.32386954619459,
          43.42492744804681,
          46.41722564333591,
          46.17636223070261,
          45.363197998977775,
          42.79017912911573
         ],
         "xaxis": "x",
         "y": [
          95.10183695883724,
          93.64177745123817,
          92.08624977835476,
          82.18581743682368,
          80.99060021232805,
          85.09108935875446,
          94.53385447458439,
          103.74240452148729,
          74.42027738766896,
          75.68285253722127,
          79.44465892983229,
          91.2074666268409,
          85.81171851785194,
          61.26506670952452,
          96.53413779476946,
          94.38024320209809,
          81.36887556579586,
          80.9489308539124,
          87.19604456930026,
          82.42470810373243,
          85.69036341480047,
          85.2402140453741
         ],
         "yaxis": "y"
        },
        {
         "hovertemplate": "Plant=VDR<br>Availability %=%{x}<br>Performance %=%{y}<extra></extra>",
         "legendgroup": "VDR",
         "marker": {
          "color": "#19d3f3",
          "symbol": "circle"
         },
         "mode": "markers",
         "name": "VDR",
         "orientation": "v",
         "showlegend": true,
         "type": "scatter",
         "x": [
          38.22193732935595,
          43.19281187971567,
          42.30863822751317,
          38.64298842592587,
          35.64306629553635
         ],
         "xaxis": "x",
         "y": [
          117.39173884191229,
          109.75157577156736,
          107.6913520993549,
          103.59294945266524,
          90.53579681722114
         ],
         "yaxis": "y"
        },
        {
         "hovertemplate": "Plant=WAT<br>Availability %=%{x}<br>Performance %=%{y}<extra></extra>",
         "legendgroup": "WAT",
         "marker": {
          "color": "#FF6692",
          "symbol": "diamond"
         },
         "mode": "markers",
         "name": "WAT",
         "orientation": "v",
         "showlegend": true,
         "type": "scatter",
         "x": [
          8.327866239068012,
          17.50021644505175,
          17.80437721108835,
          19.742386771082877,
          20.61950502681607,
          49.139265148692786,
          37.12866555864723,
          38.74929909191057,
          36.76876258406996,
          40.31190672258569,
          41.50947087916693,
          42.49791303743057,
          41.796130952380885,
          43.00434027777771,
          37.64741044359121,
          35.87653133367641,
          23.114669862484853,
          14.507621142328578,
          8.435608037657676,
          9.895520536235022,
          29.012684403572024,
          23.663587877891256,
          22.711536880108554,
          20.307420905953144,
          23.726559578466425
         ],
         "xaxis": "x",
         "y": [
          823.650583367953,
          661.5830476264048,
          607.661298057211,
          496.08704055504734,
          510.0771387433575,
          91.17309959563228,
          118.31844941466612,
          111.05604242357158,
          109.45251144805304,
          114.13109246138664,
          113.23655538909716,
          2877.9305631539937,
          3237.05234626743,
          3016.149778369918,
          3023.0357646672933,
          65.69341833304532,
          93.28789315717674,
          129.05804599345845,
          184.23536179746665,
          185.05560377617712,
          76.91637827214467,
          104.1533938738917,
          126.3474374654146,
          164.66071353059544,
          156.21018757483426
         ],
         "yaxis": "y"
        },
        {
         "line": {
          "color": "orange"
         },
         "mode": "lines",
         "name": "60% June 2022 target",
         "showlegend": false,
         "text": "June 2022 target",
         "textposition": "bottom left",
         "type": "scatter",
         "x": [
          0.001,
          1.011090909090909,
          2.021181818181818,
          3.0312727272727273,
          4.041363636363637,
          5.051454545454546,
          6.061545454545455,
          7.071636363636364,
          8.081727272727273,
          9.091818181818182,
          10.101909090909091,
          11.112,
          12.12209090909091,
          13.132181818181818,
          14.142272727272728,
          15.152363636363637,
          16.162454545454548,
          17.172545454545457,
          18.182636363636366,
          19.192727272727275,
          20.202818181818184,
          21.212909090909093,
          22.223000000000003,
          23.23309090909091,
          24.24318181818182,
          25.25327272727273,
          26.26336363636364,
          27.27345454545455,
          28.283545454545457,
          29.293636363636367,
          30.303727272727276,
          31.313818181818185,
          32.32390909090909,
          33.333999999999996,
          34.34409090909091,
          35.35418181818182,
          36.36427272727273,
          37.37436363636363,
          38.384454545454545,
          39.39454545454546,
          40.404636363636364,
          41.41472727272727,
          42.42481818181818,
          43.434909090909095,
          44.445,
          45.455090909090906,
          46.46518181818182,
          47.47527272727273,
          48.48536363636364,
          49.49545454545454,
          50.505545454545455,
          51.51563636363637,
          52.52572727272727,
          53.53581818181818,
          54.54590909090909,
          55.556000000000004,
          56.56609090909091,
          57.576181818181816,
          58.58627272727273,
          59.59636363636364,
          60.60645454545455,
          61.61654545454545,
          62.626636363636365,
          63.63672727272728,
          64.64681818181819,
          65.6569090909091,
          66.667,
          67.67709090909092,
          68.68718181818183,
          69.69727272727273,
          70.70736363636365,
          71.71745454545456,
          72.72754545454546,
          73.73763636363637,
          74.74772727272727,
          75.7578181818182,
          76.7679090909091,
          77.778,
          78.78809090909093,
          79.79818181818183,
          80.80827272727274,
          81.81836363636364,
          82.82845454545455,
          83.83854545454547,
          84.84863636363637,
          85.85872727272728,
          86.8688181818182,
          87.8789090909091,
          88.88900000000001,
          89.89909090909092,
          90.90918181818182,
          91.91927272727274,
          92.92936363636365,
          93.93945454545455,
          94.94954545454547,
          95.95963636363638,
          96.96972727272728,
          97.97981818181819,
          98.9899090909091,
          100
         ],
         "y": [
          5999999.999999999,
          5934.184499190794,
          2968.5602482795844,
          1979.36660268714,
          1484.647396243392,
          1187.7766979807795,
          989.8465737810639,
          848.4599166966626,
          742.4155502311612,
          659.93400659934,
          593.9471387046553,
          539.9568034557236,
          494.9641151016551,
          456.89285170365645,
          424.25995564555006,
          395.97782524178643,
          371.23074240523766,
          349.39491153956095,
          329.98515066821994,
          312.6184160666919,
          296.9882689633759,
          282.84663712490675,
          269.9905503307384,
          258.2523360097666,
          247.49226586669164,
          237.5929672481694,
          228.4551241445913,
          219.99413348977362,
          212.1374779425236,
          204.8226422120845,
          197.9954461047396,
          191.60870019625375,
          185.62111355793488,
          179.99640007199852,
          174.7025424513943,
          169.7111824240928,
          164.99711255053035,
          160.53785044683033,
          156.31328023418573,
          152.30534914847465,
          148.49780965730756,
          144.87599931513162,
          141.4266520668648,
          138.137735880649,
          134.99831252109348,
          131.99841601900778,
          129.12894699256725,
          126.38158045910981,
          123.74868517022006,
          121.22325282395077,
          118.79883577140944,
          116.46949205183952,
          114.22973676968688,
          112.07449897604664,
          109.99908334097216,
          107.99913600691195,
          106.07061410064173,
          104.20975845441139,
          102.41306914899396,
          100.67728354384037,
          98.99935650418273,
          97.37644257298071,
          95.80587986813627,
          94.28517551328278,
          92.81199243441638,
          91.38413737528143,
          89.99955000224999,
          88.65629298486932,
          87.35254295164242,
          86.08658223225117,
          84.85679130757887,
          83.66164189775026,
          82.49969062616015,
          81.36957320425981,
          80.26999908784092,
          79.19974656081101,
          78.15765820708701,
          77.14263673532362,
          76.15364112481237,
          75.18968306409351,
          74.24982365666881,
          73.33317037073252,
          72.43887421209004,
          71.56612710144174,
          70.714159439001,
          69.88223784102003,
          69.0696630342303,
          68.27576789549255,
          67.49991562510547,
          66.74149804326063,
          65.99993400006599,
          65.27466789040184,
          64.56516826563285,
          63.87092653488611,
          63.19145574922567,
          62.52628946261496,
          61.874980664068545,
          61.23710077585551,
          60.612238713036874,
          60
         ]
        },
        {
         "line": {
          "color": "green"
         },
         "mode": "lines",
         "name": "65% Dec 2022 target",
         "showlegend": false,
         "text": "65% December target",
         "textposition": "top right",
         "type": "scatter",
         "x": [
          0.001,
          1.011090909090909,
          2.021181818181818,
          3.0312727272727273,
          4.041363636363637,
          5.051454545454546,
          6.061545454545455,
          7.071636363636364,
          8.081727272727273,
          9.091818181818182,
          10.101909090909091,
          11.112,
          12.12209090909091,
          13.132181818181818,
          14.142272727272728,
          15.152363636363637,
          16.162454545454548,
          17.172545454545457,
          18.182636363636366,
          19.192727272727275,
          20.202818181818184,
          21.212909090909093,
          22.223000000000003,
          23.23309090909091,
          24.24318181818182,
          25.25327272727273,
          26.26336363636364,
          27.27345454545455,
          28.283545454545457,
          29.293636363636367,
          30.303727272727276,
          31.313818181818185,
          32.32390909090909,
          33.333999999999996,
          34.34409090909091,
          35.35418181818182,
          36.36427272727273,
          37.37436363636363,
          38.384454545454545,
          39.39454545454546,
          40.404636363636364,
          41.41472727272727,
          42.42481818181818,
          43.434909090909095,
          44.445,
          45.455090909090906,
          46.46518181818182,
          47.47527272727273,
          48.48536363636364,
          49.49545454545454,
          50.505545454545455,
          51.51563636363637,
          52.52572727272727,
          53.53581818181818,
          54.54590909090909,
          55.556000000000004,
          56.56609090909091,
          57.576181818181816,
          58.58627272727273,
          59.59636363636364,
          60.60645454545455,
          61.61654545454545,
          62.626636363636365,
          63.63672727272728,
          64.64681818181819,
          65.6569090909091,
          66.667,
          67.67709090909092,
          68.68718181818183,
          69.69727272727273,
          70.70736363636365,
          71.71745454545456,
          72.72754545454546,
          73.73763636363637,
          74.74772727272727,
          75.7578181818182,
          76.7679090909091,
          77.778,
          78.78809090909093,
          79.79818181818183,
          80.80827272727274,
          81.81836363636364,
          82.82845454545455,
          83.83854545454547,
          84.84863636363637,
          85.85872727272728,
          86.8688181818182,
          87.8789090909091,
          88.88900000000001,
          89.89909090909092,
          90.90918181818182,
          91.91927272727274,
          92.92936363636365,
          93.93945454545455,
          94.94954545454547,
          95.95963636363638,
          96.96972727272728,
          97.97981818181819,
          98.9899090909091,
          100
         ],
         "y": [
          6500000,
          6428.699874123359,
          3215.94026896955,
          2144.313819577735,
          1608.368012597008,
          1286.758089479178,
          1072.333788262819,
          919.1649097547181,
          804.2835127504247,
          714.9285071492851,
          643.4427335967099,
          584.9532037437006,
          536.2111246934597,
          494.9672560122945,
          459.61495194934594,
          428.9759773452687,
          402.16663760567417,
          378.51115416785774,
          357.48391322390495,
          338.66995073891627,
          321.7372913769906,
          306.417190218649,
          292.48976285829997,
          279.7733640105805,
          268.11662135558265,
          257.3923811855169,
          247.49305115664058,
          238.32697794725476,
          229.81560110440057,
          221.89119572975824,
          214.4950666134679,
          207.57609187927494,
          201.08953968776277,
          194.99610007799845,
          189.26108765567716,
          183.8537809594339,
          178.74687192974125,
          173.91600465073287,
          169.33938692036787,
          164.9974615775142,
          160.87262712874985,
          156.94899925805927,
          153.2122064057702,
          149.64921387070308,
          146.24817189785128,
          142.99828402059177,
          139.8896925752812,
          136.91337883070233,
          134.06107560107174,
          131.32519055928,
          128.69873875236024,
          126.17528305615949,
          123.74888150049412,
          121.41404055738387,
          119.16567361938652,
          116.99906400748796,
          114.90983194236189,
          112.893904992279,
          110.94749157807678,
          109.06705717249375,
          107.2493028795313,
          105.4911461207291,
          103.78970319048098,
          102.14227347272302,
          100.54632513728441,
          98.99948215655489,
          97.4995125024375,
          96.0443174002751,
          94.63192153094596,
          93.26046408493877,
          91.92819058321045,
          90.63344538922946,
          89.37466484500683,
          88.15037097128148,
          86.95916567849433,
          85.79972544087859,
          84.67079639101094,
          83.57118979660059,
          82.4997778852134,
          81.45548998610131,
          80.43730896139122,
          79.44426790162689,
          78.47544706309756,
          77.52997102656188,
          76.60700605891775,
          75.70575766110504,
          74.82546828708283,
          73.96541522011695,
          73.12490859386426,
          72.30328954686568,
          71.4999285000715,
          70.71422354793533,
          69.94559895443558,
          69.19350374612662,
          68.45741039499448,
          67.73681358449954,
          67.03122905274093,
          66.34019250717681,
          65.66325860578995,
          65
         ]
        },
        {
         "line": {
          "color": "gray"
         },
         "mode": "lines",
         "name": "50%",
         "text": "50% OEE",
         "textposition": "top right",
         "type": "scatter",
         "x": [
          0.001,
          1.011090909090909,
          2.021181818181818,
          3.0312727272727273,
          4.041363636363637,
          5.051454545454546,
          6.061545454545455,
          7.071636363636364,
          8.081727272727273,
          9.091818181818182,
          10.101909090909091,
          11.112,
          12.12209090909091,
          13.132181818181818,
          14.142272727272728,
          15.152363636363637,
          16.162454545454548,
          17.172545454545457,
          18.182636363636366,
          19.192727272727275,
          20.202818181818184,
          21.212909090909093,
          22.223000000000003,
          23.23309090909091,
          24.24318181818182,
          25.25327272727273,
          26.26336363636364,
          27.27345454545455,
          28.283545454545457,
          29.293636363636367,
          30.303727272727276,
          31.313818181818185,
          32.32390909090909,
          33.333999999999996,
          34.34409090909091,
          35.35418181818182,
          36.36427272727273,
          37.37436363636363,
          38.384454545454545,
          39.39454545454546,
          40.404636363636364,
          41.41472727272727,
          42.42481818181818,
          43.434909090909095,
          44.445,
          45.455090909090906,
          46.46518181818182,
          47.47527272727273,
          48.48536363636364,
          49.49545454545454,
          50.505545454545455,
          51.51563636363637,
          52.52572727272727,
          53.53581818181818,
          54.54590909090909,
          55.556000000000004,
          56.56609090909091,
          57.576181818181816,
          58.58627272727273,
          59.59636363636364,
          60.60645454545455,
          61.61654545454545,
          62.626636363636365,
          63.63672727272728,
          64.64681818181819,
          65.6569090909091,
          66.667,
          67.67709090909092,
          68.68718181818183,
          69.69727272727273,
          70.70736363636365,
          71.71745454545456,
          72.72754545454546,
          73.73763636363637,
          74.74772727272727,
          75.7578181818182,
          76.7679090909091,
          77.778,
          78.78809090909093,
          79.79818181818183,
          80.80827272727274,
          81.81836363636364,
          82.82845454545455,
          83.83854545454547,
          84.84863636363637,
          85.85872727272728,
          86.8688181818182,
          87.8789090909091,
          88.88900000000001,
          89.89909090909092,
          90.90918181818182,
          91.91927272727274,
          92.92936363636365,
          93.93945454545455,
          94.94954545454547,
          95.95963636363638,
          96.96972727272728,
          97.97981818181819,
          98.9899090909091,
          100
         ],
         "y": [
          4999999.999999999,
          4945.153749325661,
          2473.800206899654,
          1649.47216890595,
          1237.20616353616,
          989.813914983983,
          824.8721448175532,
          707.0499305805523,
          618.6796251926344,
          549.9450054994501,
          494.95594892054606,
          449.9640028797696,
          412.47009591804596,
          380.7440430863804,
          353.5499630379584,
          329.9815210348221,
          309.35895200436477,
          291.1624262829675,
          274.98762555684993,
          260.5153467222433,
          247.4902241361466,
          235.7055309374223,
          224.99212527561534,
          215.21028000813885,
          206.2435548889097,
          197.99413937347452,
          190.37927012049275,
          183.32844457481136,
          176.78123161876965,
          170.6855351767371,
          164.99620508728302,
          159.67391683021145,
          154.68426129827907,
          149.99700005999878,
          145.5854520428286,
          141.42598535341068,
          137.49759379210863,
          133.78154203902528,
          130.26106686182143,
          126.92112429039553,
          123.74817471442296,
          120.72999942927636,
          117.85554338905399,
          115.11477990054082,
          112.49859376757789,
          109.99868001583981,
          107.6074558271394,
          105.31798371592484,
          103.12390430851673,
          101.01937735329231,
          98.99902980950786,
          97.0579100431996,
          95.19144730807241,
          93.3954158133722,
          91.66590278414348,
          89.99928000575996,
          88.39217841720145,
          86.84146537867616,
          85.3442242908283,
          83.89773628653366,
          82.49946375348561,
          81.14703547748393,
          79.83823322344689,
          78.57097959440232,
          77.34332702868032,
          76.15344781273453,
          74.99962500187499,
          73.88024415405778,
          72.79378579303535,
          71.73881852687597,
          70.71399275631573,
          69.7180349147919,
          68.7497421884668,
          67.80797767021653,
          66.8916659065341,
          65.99978880067584,
          65.13138183923918,
          64.28553061276968,
          63.4613676040103,
          62.65806922007793,
          61.87485304722402,
          61.11097530894376,
          60.365728510075044,
          59.63843925120145,
          58.928466199167495,
          58.23519820085002,
          57.55805252852525,
          56.89647324624381,
          56.249929687587894,
          55.617915036050526,
          54.99994500005501,
          54.39555657533488,
          53.80430688802738,
          53.22577211240509,
          52.65954645768806,
          52.10524121884581,
          51.56248388672379,
          51.03091731321293,
          50.51019892753072,
          50
         ]
        },
        {
         "line": {
          "color": "gray"
         },
         "mode": "lines",
         "showlegend": false,
         "textposition": "top right",
         "type": "scatter",
         "x": [
          0.001,
          1.011090909090909,
          2.021181818181818,
          3.0312727272727273,
          4.041363636363637,
          5.051454545454546,
          6.061545454545455,
          7.071636363636364,
          8.081727272727273,
          9.091818181818182,
          10.101909090909091,
          11.112,
          12.12209090909091,
          13.132181818181818,
          14.142272727272728,
          15.152363636363637,
          16.162454545454548,
          17.172545454545457,
          18.182636363636366,
          19.192727272727275,
          20.202818181818184,
          21.212909090909093,
          22.223000000000003,
          23.23309090909091,
          24.24318181818182,
          25.25327272727273,
          26.26336363636364,
          27.27345454545455,
          28.283545454545457,
          29.293636363636367,
          30.303727272727276,
          31.313818181818185,
          32.32390909090909,
          33.333999999999996,
          34.34409090909091,
          35.35418181818182,
          36.36427272727273,
          37.37436363636363,
          38.384454545454545,
          39.39454545454546,
          40.404636363636364,
          41.41472727272727,
          42.42481818181818,
          43.434909090909095,
          44.445,
          45.455090909090906,
          46.46518181818182,
          47.47527272727273,
          48.48536363636364,
          49.49545454545454,
          50.505545454545455,
          51.51563636363637,
          52.52572727272727,
          53.53581818181818,
          54.54590909090909,
          55.556000000000004,
          56.56609090909091,
          57.576181818181816,
          58.58627272727273,
          59.59636363636364,
          60.60645454545455,
          61.61654545454545,
          62.626636363636365,
          63.63672727272728,
          64.64681818181819,
          65.6569090909091,
          66.667,
          67.67709090909092,
          68.68718181818183,
          69.69727272727273,
          70.70736363636365,
          71.71745454545456,
          72.72754545454546,
          73.73763636363637,
          74.74772727272727,
          75.7578181818182,
          76.7679090909091,
          77.778,
          78.78809090909093,
          79.79818181818183,
          80.80827272727274,
          81.81836363636364,
          82.82845454545455,
          83.83854545454547,
          84.84863636363637,
          85.85872727272728,
          86.8688181818182,
          87.8789090909091,
          88.88900000000001,
          89.89909090909092,
          90.90918181818182,
          91.91927272727274,
          92.92936363636365,
          93.93945454545455,
          94.94954545454547,
          95.95963636363638,
          96.96972727272728,
          97.97981818181819,
          98.9899090909091,
          100
         ],
         "y": [
          4000000,
          3956.122999460529,
          1979.040165519723,
          1319.5777351247602,
          989.7649308289282,
          791.8511319871864,
          659.8977158540426,
          565.6399444644419,
          494.94370015410755,
          439.95600439956013,
          395.9647591364369,
          359.97120230381574,
          329.9760767344368,
          304.5952344691043,
          282.8399704303667,
          263.9852168278577,
          247.4871616034918,
          232.92994102637402,
          219.99010044547998,
          208.41227737779465,
          197.99217930891731,
          188.56442474993784,
          179.9937002204923,
          172.1682240065111,
          164.9948439111278,
          158.39531149877962,
          152.3034160963942,
          146.66275565984907,
          141.42498529501572,
          136.54842814138968,
          131.99696406982642,
          127.73913346416919,
          123.74740903862325,
          119.99760004799904,
          116.46836163426286,
          113.14078828272855,
          109.9980750336869,
          107.02523363122023,
          104.20885348945714,
          101.53689943231643,
          98.99853977153838,
          96.5839995434211,
          94.28443471124321,
          92.09182392043267,
          89.99887501406234,
          87.99894401267184,
          86.08596466171151,
          84.25438697273988,
          82.49912344681339,
          80.81550188263385,
          79.1992238476063,
          77.64632803455967,
          76.15315784645793,
          74.71633265069777,
          73.33272222731479,
          71.99942400460797,
          70.71374273376117,
          69.47317230294094,
          68.27537943266265,
          67.11818902922693,
          65.9995710027885,
          64.91762838198713,
          63.870586578757525,
          62.85678367552187,
          61.87466162294426,
          60.92275825018763,
          59.9997000015,
          59.10419532324622,
          58.23502863442829,
          57.39105482150079,
          56.57119420505259,
          55.774427931833515,
          54.99979375077344,
          54.246382136173224,
          53.51333272522728,
          52.79983104054067,
          52.10510547139135,
          51.428424490215754,
          50.769094083208245,
          50.12645537606234,
          49.49988243777921,
          48.88878024715501,
          48.29258280806003,
          47.71075140096116,
          47.142772959334,
          46.58815856068003,
          46.04644202282021,
          45.517178596995045,
          44.999943750070315,
          44.494332028840425,
          43.99995600004401,
          43.51644526026791,
          43.043445510421904,
          42.580617689924075,
          42.12763716615045,
          41.68419297507665,
          41.249987109379035,
          40.82473385057035,
          40.40815914202458,
          40
         ]
        },
        {
         "line": {
          "color": "gray"
         },
         "mode": "lines",
         "name": "30%",
         "showlegend": false,
         "text": "30% OEE",
         "textposition": "top right",
         "type": "scatter",
         "x": [
          0.001,
          1.011090909090909,
          2.021181818181818,
          3.0312727272727273,
          4.041363636363637,
          5.051454545454546,
          6.061545454545455,
          7.071636363636364,
          8.081727272727273,
          9.091818181818182,
          10.101909090909091,
          11.112,
          12.12209090909091,
          13.132181818181818,
          14.142272727272728,
          15.152363636363637,
          16.162454545454548,
          17.172545454545457,
          18.182636363636366,
          19.192727272727275,
          20.202818181818184,
          21.212909090909093,
          22.223000000000003,
          23.23309090909091,
          24.24318181818182,
          25.25327272727273,
          26.26336363636364,
          27.27345454545455,
          28.283545454545457,
          29.293636363636367,
          30.303727272727276,
          31.313818181818185,
          32.32390909090909,
          33.333999999999996,
          34.34409090909091,
          35.35418181818182,
          36.36427272727273,
          37.37436363636363,
          38.384454545454545,
          39.39454545454546,
          40.404636363636364,
          41.41472727272727,
          42.42481818181818,
          43.434909090909095,
          44.445,
          45.455090909090906,
          46.46518181818182,
          47.47527272727273,
          48.48536363636364,
          49.49545454545454,
          50.505545454545455,
          51.51563636363637,
          52.52572727272727,
          53.53581818181818,
          54.54590909090909,
          55.556000000000004,
          56.56609090909091,
          57.576181818181816,
          58.58627272727273,
          59.59636363636364,
          60.60645454545455,
          61.61654545454545,
          62.626636363636365,
          63.63672727272728,
          64.64681818181819,
          65.6569090909091,
          66.667,
          67.67709090909092,
          68.68718181818183,
          69.69727272727273,
          70.70736363636365,
          71.71745454545456,
          72.72754545454546,
          73.73763636363637,
          74.74772727272727,
          75.7578181818182,
          76.7679090909091,
          77.778,
          78.78809090909093,
          79.79818181818183,
          80.80827272727274,
          81.81836363636364,
          82.82845454545455,
          83.83854545454547,
          84.84863636363637,
          85.85872727272728,
          86.8688181818182,
          87.8789090909091,
          88.88900000000001,
          89.89909090909092,
          90.90918181818182,
          91.91927272727274,
          92.92936363636365,
          93.93945454545455,
          94.94954545454547,
          95.95963636363638,
          96.96972727272728,
          97.97981818181819,
          98.9899090909091,
          100
         ],
         "y": [
          2999999.9999999995,
          2967.092249595397,
          1484.2801241397922,
          989.68330134357,
          742.323698121696,
          593.8883489903898,
          494.9232868905319,
          424.2299583483313,
          371.2077751155806,
          329.96700329967,
          296.9735693523277,
          269.9784017278618,
          247.48205755082756,
          228.44642585182822,
          212.12997782277503,
          197.98891262089322,
          185.61537120261883,
          174.69745576978048,
          164.99257533410997,
          156.30920803334595,
          148.49413448168795,
          141.42331856245337,
          134.9952751653692,
          129.1261680048833,
          123.74613293334582,
          118.7964836240847,
          114.22756207229565,
          109.99706674488681,
          106.0687389712618,
          102.41132110604225,
          98.9977230523698,
          95.80435009812687,
          92.81055677896744,
          89.99820003599926,
          87.35127122569715,
          84.8555912120464,
          82.49855627526517,
          80.26892522341517,
          78.15664011709286,
          76.15267457423732,
          74.24890482865378,
          72.43799965756581,
          70.7133260334324,
          69.0688679403245,
          67.49915626054674,
          65.99920800950389,
          64.56447349628363,
          63.190790229554906,
          61.87434258511003,
          60.61162641197539,
          59.39941788570472,
          58.23474602591976,
          57.11486838484344,
          56.03724948802332,
          54.99954167048608,
          53.99956800345598,
          53.03530705032087,
          52.10487922720569,
          51.20653457449698,
          50.33864177192019,
          49.499678252091364,
          48.688221286490354,
          47.90293993406814,
          47.14258775664139,
          46.40599621720819,
          45.69206868764071,
          44.999775001124995,
          44.32814649243466,
          43.67627147582121,
          43.04329111612559,
          42.42839565378944,
          41.83082094887513,
          41.24984531308007,
          40.684786602129904,
          40.13499954392046,
          39.599873280405504,
          39.078829103543505,
          38.57131836766181,
          38.07682056240618,
          37.59484153204676,
          37.124911828334405,
          36.66658518536626,
          36.21943710604502,
          35.78306355072087,
          35.3570797195005,
          34.941118920510014,
          34.53483151711515,
          34.137883947746275,
          33.749957812552736,
          33.37074902163032,
          32.999967000032996,
          32.63733394520092,
          32.282584132816424,
          31.935463267443055,
          31.595727874612834,
          31.26314473130748,
          30.937490332034272,
          30.618550387927755,
          30.306119356518437,
          30
         ]
        },
        {
         "line": {
          "color": "gray"
         },
         "mode": "lines",
         "name": "20%",
         "showlegend": false,
         "text": "20% OEE",
         "textfont": {
          "color": "green",
          "size": 15
         },
         "textposition": "top right",
         "type": "scatter",
         "x": [
          0.001,
          1.011090909090909,
          2.021181818181818,
          3.0312727272727273,
          4.041363636363637,
          5.051454545454546,
          6.061545454545455,
          7.071636363636364,
          8.081727272727273,
          9.091818181818182,
          10.101909090909091,
          11.112,
          12.12209090909091,
          13.132181818181818,
          14.142272727272728,
          15.152363636363637,
          16.162454545454548,
          17.172545454545457,
          18.182636363636366,
          19.192727272727275,
          20.202818181818184,
          21.212909090909093,
          22.223000000000003,
          23.23309090909091,
          24.24318181818182,
          25.25327272727273,
          26.26336363636364,
          27.27345454545455,
          28.283545454545457,
          29.293636363636367,
          30.303727272727276,
          31.313818181818185,
          32.32390909090909,
          33.333999999999996,
          34.34409090909091,
          35.35418181818182,
          36.36427272727273,
          37.37436363636363,
          38.384454545454545,
          39.39454545454546,
          40.404636363636364,
          41.41472727272727,
          42.42481818181818,
          43.434909090909095,
          44.445,
          45.455090909090906,
          46.46518181818182,
          47.47527272727273,
          48.48536363636364,
          49.49545454545454,
          50.505545454545455,
          51.51563636363637,
          52.52572727272727,
          53.53581818181818,
          54.54590909090909,
          55.556000000000004,
          56.56609090909091,
          57.576181818181816,
          58.58627272727273,
          59.59636363636364,
          60.60645454545455,
          61.61654545454545,
          62.626636363636365,
          63.63672727272728,
          64.64681818181819,
          65.6569090909091,
          66.667,
          67.67709090909092,
          68.68718181818183,
          69.69727272727273,
          70.70736363636365,
          71.71745454545456,
          72.72754545454546,
          73.73763636363637,
          74.74772727272727,
          75.7578181818182,
          76.7679090909091,
          77.778,
          78.78809090909093,
          79.79818181818183,
          80.80827272727274,
          81.81836363636364,
          82.82845454545455,
          83.83854545454547,
          84.84863636363637,
          85.85872727272728,
          86.8688181818182,
          87.8789090909091,
          88.88900000000001,
          89.89909090909092,
          90.90918181818182,
          91.91927272727274,
          92.92936363636365,
          93.93945454545455,
          94.94954545454547,
          95.95963636363638,
          96.96972727272728,
          97.97981818181819,
          98.9899090909091,
          100
         ],
         "y": [
          2000000,
          1978.0614997302646,
          989.5200827598615,
          659.7888675623801,
          494.8824654144641,
          395.9255659935932,
          329.9488579270213,
          282.81997223222095,
          247.47185007705377,
          219.97800219978006,
          197.98237956821845,
          179.98560115190787,
          164.9880383672184,
          152.29761723455215,
          141.41998521518335,
          131.99260841392885,
          123.7435808017459,
          116.46497051318701,
          109.99505022273999,
          104.20613868889733,
          98.99608965445866,
          94.28221237496892,
          89.99685011024614,
          86.08411200325556,
          82.4974219555639,
          79.19765574938981,
          76.1517080481971,
          73.33137782992453,
          70.71249264750786,
          68.27421407069484,
          65.99848203491321,
          63.86956673208459,
          61.87370451931162,
          59.99880002399952,
          58.23418081713143,
          56.570394141364275,
          54.99903751684345,
          53.512616815610116,
          52.10442674472857,
          50.768449716158216,
          49.49926988576919,
          48.29199977171055,
          47.142217355621604,
          46.04591196021634,
          44.99943750703117,
          43.99947200633592,
          43.04298233085576,
          42.12719348636994,
          41.24956172340669,
          40.40775094131693,
          39.59961192380315,
          38.82316401727984,
          38.076578923228965,
          37.35816632534888,
          36.666361113657395,
          35.99971200230399,
          35.35687136688058,
          34.73658615147047,
          34.13768971633132,
          33.55909451461346,
          32.99978550139425,
          32.458814190993564,
          31.935293289378762,
          31.428391837760934,
          30.93733081147213,
          30.461379125093814,
          29.99985000075,
          29.55209766162311,
          29.117514317214145,
          28.695527410750394,
          28.285597102526296,
          27.887213965916757,
          27.49989687538672,
          27.123191068086612,
          26.75666636261364,
          26.399915520270334,
          26.052552735695674,
          25.714212245107877,
          25.384547041604122,
          25.06322768803117,
          24.749941218889607,
          24.444390123577506,
          24.146291404030016,
          23.85537570048058,
          23.571386479667,
          23.294079280340014,
          23.023221011410104,
          22.758589298497522,
          22.499971875035158,
          22.247166014420213,
          21.999978000022004,
          21.758222630133954,
          21.521722755210952,
          21.290308844962038,
          21.063818583075225,
          20.842096487538324,
          20.624993554689517,
          20.412366925285173,
          20.20407957101229,
          20
         ]
        }
       ],
       "layout": {
        "height": 900,
        "legend": {
         "title": {
          "text": "Plant"
         },
         "tracegroupgap": 0
        },
        "template": {
         "data": {
          "bar": [
           {
            "error_x": {
             "color": "#2a3f5f"
            },
            "error_y": {
             "color": "#2a3f5f"
            },
            "marker": {
             "line": {
              "color": "#E5ECF6",
              "width": 0.5
             },
             "pattern": {
              "fillmode": "overlay",
              "size": 10,
              "solidity": 0.2
             }
            },
            "type": "bar"
           }
          ],
          "barpolar": [
           {
            "marker": {
             "line": {
              "color": "#E5ECF6",
              "width": 0.5
             },
             "pattern": {
              "fillmode": "overlay",
              "size": 10,
              "solidity": 0.2
             }
            },
            "type": "barpolar"
           }
          ],
          "carpet": [
           {
            "aaxis": {
             "endlinecolor": "#2a3f5f",
             "gridcolor": "white",
             "linecolor": "white",
             "minorgridcolor": "white",
             "startlinecolor": "#2a3f5f"
            },
            "baxis": {
             "endlinecolor": "#2a3f5f",
             "gridcolor": "white",
             "linecolor": "white",
             "minorgridcolor": "white",
             "startlinecolor": "#2a3f5f"
            },
            "type": "carpet"
           }
          ],
          "choropleth": [
           {
            "colorbar": {
             "outlinewidth": 0,
             "ticks": ""
            },
            "type": "choropleth"
           }
          ],
          "contour": [
           {
            "colorbar": {
             "outlinewidth": 0,
             "ticks": ""
            },
            "colorscale": [
             [
              0,
              "#0d0887"
             ],
             [
              0.1111111111111111,
              "#46039f"
             ],
             [
              0.2222222222222222,
              "#7201a8"
             ],
             [
              0.3333333333333333,
              "#9c179e"
             ],
             [
              0.4444444444444444,
              "#bd3786"
             ],
             [
              0.5555555555555556,
              "#d8576b"
             ],
             [
              0.6666666666666666,
              "#ed7953"
             ],
             [
              0.7777777777777778,
              "#fb9f3a"
             ],
             [
              0.8888888888888888,
              "#fdca26"
             ],
             [
              1,
              "#f0f921"
             ]
            ],
            "type": "contour"
           }
          ],
          "contourcarpet": [
           {
            "colorbar": {
             "outlinewidth": 0,
             "ticks": ""
            },
            "type": "contourcarpet"
           }
          ],
          "heatmap": [
           {
            "colorbar": {
             "outlinewidth": 0,
             "ticks": ""
            },
            "colorscale": [
             [
              0,
              "#0d0887"
             ],
             [
              0.1111111111111111,
              "#46039f"
             ],
             [
              0.2222222222222222,
              "#7201a8"
             ],
             [
              0.3333333333333333,
              "#9c179e"
             ],
             [
              0.4444444444444444,
              "#bd3786"
             ],
             [
              0.5555555555555556,
              "#d8576b"
             ],
             [
              0.6666666666666666,
              "#ed7953"
             ],
             [
              0.7777777777777778,
              "#fb9f3a"
             ],
             [
              0.8888888888888888,
              "#fdca26"
             ],
             [
              1,
              "#f0f921"
             ]
            ],
            "type": "heatmap"
           }
          ],
          "heatmapgl": [
           {
            "colorbar": {
             "outlinewidth": 0,
             "ticks": ""
            },
            "colorscale": [
             [
              0,
              "#0d0887"
             ],
             [
              0.1111111111111111,
              "#46039f"
             ],
             [
              0.2222222222222222,
              "#7201a8"
             ],
             [
              0.3333333333333333,
              "#9c179e"
             ],
             [
              0.4444444444444444,
              "#bd3786"
             ],
             [
              0.5555555555555556,
              "#d8576b"
             ],
             [
              0.6666666666666666,
              "#ed7953"
             ],
             [
              0.7777777777777778,
              "#fb9f3a"
             ],
             [
              0.8888888888888888,
              "#fdca26"
             ],
             [
              1,
              "#f0f921"
             ]
            ],
            "type": "heatmapgl"
           }
          ],
          "histogram": [
           {
            "marker": {
             "pattern": {
              "fillmode": "overlay",
              "size": 10,
              "solidity": 0.2
             }
            },
            "type": "histogram"
           }
          ],
          "histogram2d": [
           {
            "colorbar": {
             "outlinewidth": 0,
             "ticks": ""
            },
            "colorscale": [
             [
              0,
              "#0d0887"
             ],
             [
              0.1111111111111111,
              "#46039f"
             ],
             [
              0.2222222222222222,
              "#7201a8"
             ],
             [
              0.3333333333333333,
              "#9c179e"
             ],
             [
              0.4444444444444444,
              "#bd3786"
             ],
             [
              0.5555555555555556,
              "#d8576b"
             ],
             [
              0.6666666666666666,
              "#ed7953"
             ],
             [
              0.7777777777777778,
              "#fb9f3a"
             ],
             [
              0.8888888888888888,
              "#fdca26"
             ],
             [
              1,
              "#f0f921"
             ]
            ],
            "type": "histogram2d"
           }
          ],
          "histogram2dcontour": [
           {
            "colorbar": {
             "outlinewidth": 0,
             "ticks": ""
            },
            "colorscale": [
             [
              0,
              "#0d0887"
             ],
             [
              0.1111111111111111,
              "#46039f"
             ],
             [
              0.2222222222222222,
              "#7201a8"
             ],
             [
              0.3333333333333333,
              "#9c179e"
             ],
             [
              0.4444444444444444,
              "#bd3786"
             ],
             [
              0.5555555555555556,
              "#d8576b"
             ],
             [
              0.6666666666666666,
              "#ed7953"
             ],
             [
              0.7777777777777778,
              "#fb9f3a"
             ],
             [
              0.8888888888888888,
              "#fdca26"
             ],
             [
              1,
              "#f0f921"
             ]
            ],
            "type": "histogram2dcontour"
           }
          ],
          "mesh3d": [
           {
            "colorbar": {
             "outlinewidth": 0,
             "ticks": ""
            },
            "type": "mesh3d"
           }
          ],
          "parcoords": [
           {
            "line": {
             "colorbar": {
              "outlinewidth": 0,
              "ticks": ""
             }
            },
            "type": "parcoords"
           }
          ],
          "pie": [
           {
            "automargin": true,
            "type": "pie"
           }
          ],
          "scatter": [
           {
            "marker": {
             "colorbar": {
              "outlinewidth": 0,
              "ticks": ""
             }
            },
            "type": "scatter"
           }
          ],
          "scatter3d": [
           {
            "line": {
             "colorbar": {
              "outlinewidth": 0,
              "ticks": ""
             }
            },
            "marker": {
             "colorbar": {
              "outlinewidth": 0,
              "ticks": ""
             }
            },
            "type": "scatter3d"
           }
          ],
          "scattercarpet": [
           {
            "marker": {
             "colorbar": {
              "outlinewidth": 0,
              "ticks": ""
             }
            },
            "type": "scattercarpet"
           }
          ],
          "scattergeo": [
           {
            "marker": {
             "colorbar": {
              "outlinewidth": 0,
              "ticks": ""
             }
            },
            "type": "scattergeo"
           }
          ],
          "scattergl": [
           {
            "marker": {
             "colorbar": {
              "outlinewidth": 0,
              "ticks": ""
             }
            },
            "type": "scattergl"
           }
          ],
          "scattermapbox": [
           {
            "marker": {
             "colorbar": {
              "outlinewidth": 0,
              "ticks": ""
             }
            },
            "type": "scattermapbox"
           }
          ],
          "scatterpolar": [
           {
            "marker": {
             "colorbar": {
              "outlinewidth": 0,
              "ticks": ""
             }
            },
            "type": "scatterpolar"
           }
          ],
          "scatterpolargl": [
           {
            "marker": {
             "colorbar": {
              "outlinewidth": 0,
              "ticks": ""
             }
            },
            "type": "scatterpolargl"
           }
          ],
          "scatterternary": [
           {
            "marker": {
             "colorbar": {
              "outlinewidth": 0,
              "ticks": ""
             }
            },
            "type": "scatterternary"
           }
          ],
          "surface": [
           {
            "colorbar": {
             "outlinewidth": 0,
             "ticks": ""
            },
            "colorscale": [
             [
              0,
              "#0d0887"
             ],
             [
              0.1111111111111111,
              "#46039f"
             ],
             [
              0.2222222222222222,
              "#7201a8"
             ],
             [
              0.3333333333333333,
              "#9c179e"
             ],
             [
              0.4444444444444444,
              "#bd3786"
             ],
             [
              0.5555555555555556,
              "#d8576b"
             ],
             [
              0.6666666666666666,
              "#ed7953"
             ],
             [
              0.7777777777777778,
              "#fb9f3a"
             ],
             [
              0.8888888888888888,
              "#fdca26"
             ],
             [
              1,
              "#f0f921"
             ]
            ],
            "type": "surface"
           }
          ],
          "table": [
           {
            "cells": {
             "fill": {
              "color": "#EBF0F8"
             },
             "line": {
              "color": "white"
             }
            },
            "header": {
             "fill": {
              "color": "#C8D4E3"
             },
             "line": {
              "color": "white"
             }
            },
            "type": "table"
           }
          ]
         },
         "layout": {
          "annotationdefaults": {
           "arrowcolor": "#2a3f5f",
           "arrowhead": 0,
           "arrowwidth": 1
          },
          "autotypenumbers": "strict",
          "coloraxis": {
           "colorbar": {
            "outlinewidth": 0,
            "ticks": ""
           }
          },
          "colorscale": {
           "diverging": [
            [
             0,
             "#8e0152"
            ],
            [
             0.1,
             "#c51b7d"
            ],
            [
             0.2,
             "#de77ae"
            ],
            [
             0.3,
             "#f1b6da"
            ],
            [
             0.4,
             "#fde0ef"
            ],
            [
             0.5,
             "#f7f7f7"
            ],
            [
             0.6,
             "#e6f5d0"
            ],
            [
             0.7,
             "#b8e186"
            ],
            [
             0.8,
             "#7fbc41"
            ],
            [
             0.9,
             "#4d9221"
            ],
            [
             1,
             "#276419"
            ]
           ],
           "sequential": [
            [
             0,
             "#0d0887"
            ],
            [
             0.1111111111111111,
             "#46039f"
            ],
            [
             0.2222222222222222,
             "#7201a8"
            ],
            [
             0.3333333333333333,
             "#9c179e"
            ],
            [
             0.4444444444444444,
             "#bd3786"
            ],
            [
             0.5555555555555556,
             "#d8576b"
            ],
            [
             0.6666666666666666,
             "#ed7953"
            ],
            [
             0.7777777777777778,
             "#fb9f3a"
            ],
            [
             0.8888888888888888,
             "#fdca26"
            ],
            [
             1,
             "#f0f921"
            ]
           ],
           "sequentialminus": [
            [
             0,
             "#0d0887"
            ],
            [
             0.1111111111111111,
             "#46039f"
            ],
            [
             0.2222222222222222,
             "#7201a8"
            ],
            [
             0.3333333333333333,
             "#9c179e"
            ],
            [
             0.4444444444444444,
             "#bd3786"
            ],
            [
             0.5555555555555556,
             "#d8576b"
            ],
            [
             0.6666666666666666,
             "#ed7953"
            ],
            [
             0.7777777777777778,
             "#fb9f3a"
            ],
            [
             0.8888888888888888,
             "#fdca26"
            ],
            [
             1,
             "#f0f921"
            ]
           ]
          },
          "colorway": [
           "#636efa",
           "#EF553B",
           "#00cc96",
           "#ab63fa",
           "#FFA15A",
           "#19d3f3",
           "#FF6692",
           "#B6E880",
           "#FF97FF",
           "#FECB52"
          ],
          "font": {
           "color": "#2a3f5f"
          },
          "geo": {
           "bgcolor": "white",
           "lakecolor": "white",
           "landcolor": "#E5ECF6",
           "showlakes": true,
           "showland": true,
           "subunitcolor": "white"
          },
          "hoverlabel": {
           "align": "left"
          },
          "hovermode": "closest",
          "mapbox": {
           "style": "light"
          },
          "paper_bgcolor": "white",
          "plot_bgcolor": "#E5ECF6",
          "polar": {
           "angularaxis": {
            "gridcolor": "white",
            "linecolor": "white",
            "ticks": ""
           },
           "bgcolor": "#E5ECF6",
           "radialaxis": {
            "gridcolor": "white",
            "linecolor": "white",
            "ticks": ""
           }
          },
          "scene": {
           "xaxis": {
            "backgroundcolor": "#E5ECF6",
            "gridcolor": "white",
            "gridwidth": 2,
            "linecolor": "white",
            "showbackground": true,
            "ticks": "",
            "zerolinecolor": "white"
           },
           "yaxis": {
            "backgroundcolor": "#E5ECF6",
            "gridcolor": "white",
            "gridwidth": 2,
            "linecolor": "white",
            "showbackground": true,
            "ticks": "",
            "zerolinecolor": "white"
           },
           "zaxis": {
            "backgroundcolor": "#E5ECF6",
            "gridcolor": "white",
            "gridwidth": 2,
            "linecolor": "white",
            "showbackground": true,
            "ticks": "",
            "zerolinecolor": "white"
           }
          },
          "shapedefaults": {
           "line": {
            "color": "#2a3f5f"
           }
          },
          "ternary": {
           "aaxis": {
            "gridcolor": "white",
            "linecolor": "white",
            "ticks": ""
           },
           "baxis": {
            "gridcolor": "white",
            "linecolor": "white",
            "ticks": ""
           },
           "bgcolor": "#E5ECF6",
           "caxis": {
            "gridcolor": "white",
            "linecolor": "white",
            "ticks": ""
           }
          },
          "title": {
           "x": 0.05
          },
          "xaxis": {
           "automargin": true,
           "gridcolor": "white",
           "linecolor": "white",
           "ticks": "",
           "title": {
            "standoff": 15
           },
           "zerolinecolor": "white",
           "zerolinewidth": 2
          },
          "yaxis": {
           "automargin": true,
           "gridcolor": "white",
           "linecolor": "white",
           "ticks": "",
           "title": {
            "standoff": 15
           },
           "zerolinecolor": "white",
           "zerolinewidth": 2
          }
         }
        },
        "title": {
         "text": "Availability vs Performance %"
        },
        "width": 1200,
        "xaxis": {
         "anchor": "y",
         "domain": [
          0,
          1
         ],
         "range": [
          0,
          100
         ],
         "title": {
          "text": "Availability %"
         }
        },
        "yaxis": {
         "anchor": "x",
         "domain": [
          0,
          1
         ],
         "range": [
          0,
          100
         ],
         "title": {
          "text": "Performance %"
         }
        }
       }
      }
     },
     "metadata": {},
     "output_type": "display_data"
    }
   ],
   "source": [
    "x = active_rolling['Availability %']\n",
    "y = active_rolling['Performance %']\n",
    "colors = active_rolling.Plant\n",
    "\n",
    "fig = px.scatter(active_rolling, x=x, y=y\n",
    "    , color='Plant'\n",
    "    , symbol='Plant'\n",
    "    , title='Availability vs Performance %'\n",
    "    , range_x=(0,100)\n",
    "    , range_y=(0,100)\n",
    "    , width=1200\n",
    "    , height=900)\n",
    "\n",
    "\n",
    "def oee_line(x, target):\n",
    "    y = (target/x)*100\n",
    "    return y\n",
    "\n",
    "\n",
    "line_x = np.linspace(.001,100,100)\n",
    "\n",
    "line_y = oee_line(np.linspace(.00001,1,100), .60)\n",
    "fig.add_trace(go.Scatter(x=line_x, y=line_y, line_color='orange'\n",
    "    , mode=\"lines\"\n",
    "    , text='June 2022 target'\n",
    "    , textposition='bottom left'\n",
    "    , name = '60% June 2022 target'\n",
    "    , showlegend = False))\n",
    "\n",
    "# fig.add_trace(go.Scatter(x=x, y=y, mode=\"markers\"))\n",
    "line_y = oee_line(np.linspace(.00001,1,100), .65)\n",
    "fig.add_trace(go.Scatter(x=line_x, y=line_y, line_color='green'\n",
    "    , mode=\"lines\"\n",
    "    , text='65% December target'\n",
    "    , textposition='top right'\n",
    "    , name = '65% Dec 2022 target'\n",
    "    , showlegend = False))\n",
    "\n",
    "# fig.add_trace(go.Scatter(x=x, y=y, mode=\"markers\"))\n",
    "line_y = oee_line(np.linspace(.00001,1,100), .50)\n",
    "fig.add_trace(go.Scatter(x=line_x, y=line_y, line_color='gray'\n",
    "    , mode=\"lines\"\n",
    "    , text='50% OEE'\n",
    "    , textposition='top right'\n",
    "    , name='50%'))\n",
    "\n",
    "# for p in [.20, .30, .40, .50]:\n",
    "\n",
    "    # fig.add_trace(go.Scatter(x=x, y=y, mode=\"markers\"))\n",
    "line_y = oee_line(np.linspace(.00001,1,100), .40)\n",
    "fig.add_trace(go.Scatter(x=line_x, y=line_y, line_color='gray'\n",
    "    , mode=\"lines\"\n",
    "    # , text=('{}'.format(pct*100))\n",
    "    , textposition='top right'\n",
    "    # , name=('{}'.format(pct*100))\n",
    "    , showlegend=False))    \n",
    "\n",
    "\n",
    "# fig.add_trace(go.Scatter(x=x, y=y, mode=\"markers\"))\n",
    "line_y = oee_line(np.linspace(.00001,1,100), .30)\n",
    "fig.add_trace(go.Scatter(x=line_x, y=line_y, line_color='gray'\n",
    "    , mode=\"lines\"\n",
    "    , text='30% OEE'\n",
    "    , textposition='top right'\n",
    "    , name='30%'\n",
    "    , showlegend=False))    \n",
    "\n",
    "# fig.add_trace(go.Scatter(x=x, y=y, mode=\"markers\"))\n",
    "line_y = oee_line(np.linspace(.00001,1,100), .20)\n",
    "fig.add_trace(go.Scatter(x=line_x, y=line_y, line_color='gray'\n",
    "    , mode=\"lines\"\n",
    "    , text='20% OEE'\n",
    "    , textfont=dict(color='green', size=15)\n",
    "    , textposition='top right'\n",
    "    , name='20%'\n",
    "    , showlegend=False))\n",
    "\n",
    "fig.add_annotation\n",
    "\n",
    "\n",
    "# to update both axis\n",
    "# fig.update_xaxes(range=(0,100))\n",
    "\n",
    "# add shapes\n",
    "# fig.update_layout (\n",
    "#     shapes=[\n",
    "#         dict (\n",
    "#             type='path',\n",
    "#             path='M 100,65 Q 65,65 65,100',\n",
    "#             line_color='green'\n",
    "#         ),\n",
    "#         dict (\n",
    "#             type='path',\n",
    "#             path='M 0,60 Q 60,60 60,0',\n",
    "#             line_color='orange',\n",
    "#         )\n",
    "\n",
    "#     ]\n",
    "# )\n",
    "\n",
    "fig.update_annotations()\n"
   ]
  },
  {
   "cell_type": "code",
   "execution_count": 102,
   "metadata": {},
   "outputs": [
    {
     "data": {
      "text/plain": [
       "Text(0.5, 1.0, 'Start and Finish Availability/Performance during Race')"
      ]
     },
     "execution_count": 102,
     "metadata": {},
     "output_type": "execute_result"
    },
    {
     "data": {
      "image/png": "[encoded data removed]",
      "text/plain": [
       "<Figure size 1008x1008 with 1 Axes>"
      ]
     },
     "metadata": {},
     "output_type": "display_data"
    }
   ],
   "source": [
    "def oee_line(x, target):\n",
    "    y = (target/x)\n",
    "    return y\n",
    "\n",
    "x = active_rolling['Availability %']\n",
    "y = active_rolling['Performance %']\n",
    "colors = active_rolling.Plant\n",
    "\n",
    "plt.style.use('fivethirtyeight')\n",
    "\n",
    "plt.figure(figsize=(14,14))\n",
    "\n",
    "# ['Line', 'Date', 'OEE %', 'Performance %', 'Availability %', 'Plant']\n",
    "data = active_rolling.groupby('Plant')[['Availability %','Performance %']].rolling(window=4).mean().reset_index()\n",
    "\n",
    "plt\n",
    "\n",
    "for plant in data.Plant.unique():\n",
    "    plt.scatter(data[data.Plant == plant]['Availability %'], data[data.Plant == plant]['Performance %'], label=plant)\n",
    "\n",
    "    plt.xlim(0, 100)\n",
    "    plt.ylim(0, 100)\n",
    "\n",
    "plt.plot(np.linspace(.001,100,100), oee_line(np.linspace(.00001,1,100), 60), c='orange', lw=3, ls='--', label='_60% June 2022 Target')\n",
    "plt.annotate(xy=(90,62), text='60% June 2022 Target')\n",
    "plt.plot(np.linspace(.001,100,100), oee_line(np.linspace(.00001,1,100), 65), c='green', lw=3, ls='--', label='_65% December 2022 Target')\n",
    "plt.annotate(xy=(90,68), text='65% Dec 2022 Target')\n",
    "for pct in [20,30,40,50]:\n",
    "    plt.plot(np.linspace(.001,100,100), oee_line(np.linspace(.00001,1,100), pct), c='gray', lw=3, ls='--', label='_{}%'.format(pct))\n",
    "    plt.annotate(xy=(90,pct), text='{}% OEE'.format(pct))\n",
    "plt.xlim(0,110)\n",
    "plt.ylim(0,110)\n",
    "plt.xlabel('Availability')\n",
    "plt.ylabel('Performance')\n",
    "plt.legend()\n",
    "plt.title('Start and Finish Availability/Performance during Race')"
   ]
  },
  {
   "cell_type": "code",
   "execution_count": 135,
   "metadata": {},
   "outputs": [
    {
     "data": {
      "text/plain": [
       "Text(0.5, 1.0, 'Rolling avg Availability/Performance since 2021-11-01')"
      ]
     },
     "execution_count": 135,
     "metadata": {},
     "output_type": "execute_result"
    },
    {
     "data": {
      "image/png": "[encoded data removed]",
      "text/plain": [
       "<Figure size 936x936 with 1 Axes>"
      ]
     },
     "metadata": {},
     "output_type": "display_data"
    }
   ],
   "source": [
    "def oee_line(x, target):\n",
    "    y = (target/x)\n",
    "    return y\n",
    "\n",
    "x = active_rolling['Availability %']\n",
    "y = active_rolling['Performance %']\n",
    "colors = active_rolling.Plant\n",
    "\n",
    "plt.style.use('fivethirtyeight')\n",
    "\n",
    "plt.figure(figsize=(13,13))\n",
    "\n",
    "# ['Line', 'Date', 'OEE %', 'Performance %', 'Availability %', 'Plant']\n",
    "data = active_rolling.groupby('Plant')[['Availability %','Performance %']].rolling(window=4).mean().reset_index()\n",
    "\n",
    "plt\n",
    "\n",
    "for plant in data.Plant.unique():\n",
    "    plt.scatter(data[data.Plant == plant]['Availability %'], data[data.Plant == plant]['Performance %'], label=plant)\n",
    "\n",
    "    plt.xlim(0, 100)\n",
    "    plt.ylim(0, 100)\n",
    "\n",
    "plt.plot(np.linspace(.001,100,100), oee_line(np.linspace(.00001,1,100), 60), c='orange', lw=3, ls='--', label='_60% June 2022 Target')\n",
    "plt.annotate(xy=(100,60), text='60% June 2022 Target')\n",
    "plt.plot(np.linspace(.001,100,100), oee_line(np.linspace(.00001,1,100), 65), c='green', lw=3, ls='--', label='_65% December 2022 Target')\n",
    "plt.annotate(xy=(100,65), text='65% Dec 2022 Target')\n",
    "for pct in [20,80]:\n",
    "    pctl = int(np.percentile(active_rolling['OEE %'], pct))\n",
    "    plt.plot(np.linspace(.001,100,100), oee_line(np.linspace(.00001,1,100), pctl), c='gray', lw=3, ls='--', label='_{}%'.format(pctl))\n",
    "    plt.annotate(xy=(100,pctl), text='{}th percentile - {}% OEE'.format(pct, pctl))\n",
    "for pct in [20,30,40,50]:\n",
    "    plt.plot(np.linspace(.001,100,100), oee_line(np.linspace(.00001,1,100), pct), c='gray', lw=3, ls='--', label='_{}%'.format(pct))\n",
    "    plt.annotate(xy=(100,pct), text='{}% OEE'.format(pct))\n",
    "plt.xlim(0,110)\n",
    "plt.ylim(0,110)\n",
    "plt.xlabel('Availability')\n",
    "plt.ylabel('Performance')\n",
    "plt.legend()\n",
    "plt.title('Rolling avg Availability/Performance since {}'.format(start_date))\n"
   ]
  },
  {
   "cell_type": "code",
   "execution_count": 132,
   "metadata": {},
   "outputs": [
    {
     "data": {
      "text/plain": [
       "Line                        OEE %    \n",
       "WAT - LYO Packaging Line 9  16.698821    1\n",
       "                            22.241672    1\n",
       "                            26.462903    1\n",
       "                            30.637254    1\n",
       "                            33.505064    1\n",
       "Name: OEE %, dtype: int64"
      ]
     },
     "execution_count": 132,
     "metadata": {},
     "output_type": "execute_result"
    }
   ],
   "source": [
    "active_rolling.groupby('Line')['OEE %'].value_counts()"
   ]
  },
  {
   "cell_type": "code",
   "execution_count": 16,
   "metadata": {},
   "outputs": [
    {
     "data": {
      "application/vnd.plotly.v1+json": {
       "config": {
        "plotlyServerURL": "https://plot.ly"
       },
       "data": [
        {
         "hovertemplate": "Plant=ELB<br>Availability %=%{x}<br>Performance %=%{y}<br>OEE %=%{z}<br>size=%{marker.size}<extra></extra>",
         "legendgroup": "ELB",
         "marker": {
          "color": "#636efa",
          "size": [
           112.14154902729562,
           115.67189249448397,
           120.60857106591254,
           100.96830478208231,
           81.3951021489104,
           65.31827996514136,
           68.6026965959161,
           75.8867365289518,
           101.80756710930895,
           85.47095252232143,
           51.60308441964287,
           44.31904448660716,
           27.0439955357143,
           27.0439955357143,
           79.8664732142857,
           79.8664732142857,
           52.82247767857142,
           52.82247767857142,
           85.1785308801775,
           102.72321838017751,
           110.44464695160607,
           79.3191964285714,
           56.37515624999999,
           38.830468749999994,
           63.89654083896872,
           104.78212119611156,
           93.20613905325442,
           86.29928571428569,
           83.15629464285712,
           42.270714285714284,
           69.62242656382078,
           103.17727031382077,
           90.63764977810649,
           100.75078124999999,
           64.17975446428571,
           30.624910714285715,
           59.92780140532544,
           85.80280140532543,
           62.774564798182574,
           80.51745535714284,
           65.08589285714284,
           39.21089285714285,
           38.52345982142855,
           39.90859374999998,
           39.90859374999998,
           39.90859374999998,
           1.3851339285714233,
           0,
           47.93772826450372,
           50.53567402578191,
           66.19551093132702,
           55.783660523182945,
           28.72172974310776,
           26.123783981829565,
           94.6148149417986,
           58.100204869950396,
           40.203247438872694,
           43.948575688439846,
           43.73208020833332,
           16.74231430607769
          ],
          "sizemode": "area",
          "sizeref": 0.2717915999791843,
          "symbol": "circle"
         },
         "mode": "markers",
         "name": "ELB",
         "scene": "scene",
         "showlegend": true,
         "type": "scatter3d",
         "x": [
          47.49078126439778,
          53.593806745249054,
          54.35819166588398,
          32.08680555555556,
          -0.7900958994708951,
          -6.234578735845412,
          77.34334483139045,
          71.07396033898438,
          80.15105193951348,
          66.44655257936508,
          61.7243716931217,
          72.39103835978835,
          55.928311291893024,
          65.09950328339751,
          65.74934620667793,
          69.89847883597884,
          65.4143931878307,
          56.23752175860453,
          82.74512212398297,
          79.08325310729155,
          87.02013306760902,
          69.54245205026454,
          51.307581018518526,
          32.09846752580028,
          76.15008191850337,
          80.61611276455027,
          80.036541005291,
          70.59222056878306,
          57.95750661375661,
          32.95750661375661,
          77.10245221158942,
          83.03215963612598,
          77.07523172607308,
          84.20027281746032,
          70.77256944444444,
          48.34680886243386,
          61.581138832455146,
          80.93309074739363,
          74.31338175268463,
          82.92096560846561,
          67.31039186507937,
          42.973999669312164,
          55.38868959601268,
          49.45105428759274,
          66.18199840134936,
          84.35875496031744,
          73.77864583333331,
          56.58738506471986,
          62.317201507654055,
          68.92588997096207,
          71.19573124080335,
          68.71064814814814,
          45.951140873015866,
          33.54497354497354,
          64.46050736312284,
          75.53118567241162,
          65.11538706130052,
          67.75735780423281,
          75.8917824074074,
          75.8917824074074
         ],
         "y": [
          172.57411868337633,
          154.3931022658518,
          158.63361590561215,
          103.28903085921581,
          57.62050718927911,
          48.86464811712898,
          62.83653254630653,
          71.84697283952241,
          83.76536390800662,
          82.95222283300761,
          58.932458221178834,
          49.92201792796296,
          19.8659202296547,
          19.8659202296547,
          59.85143361658285,
          59.85143361658285,
          39.98551338692816,
          39.98551338692816,
          75.68915766550951,
          91.88320313426274,
          88.55244587807006,
          73.93533519170559,
          null,
          null,
          56.13520206287006,
          85.1320675643898,
          74.36206985481309,
          79.21504197920481,
          null,
          null,
          58.91459848490623,
          85.4440905815006,
          78.92237856234959,
          83.7389212104593,
          54.12394900010681,
          null,
          55.352008589992224,
          74.20347153709558,
          59.22929020451029,
          65.91080399182655,
          48.38367499701404,
          null,
          27.321602710233034,
          28.74615570184635,
          28.74615570184635,
          28.74615570184635,
          1.4245529916133282,
          1.0658141036401503e-14,
          38.80239455258233,
          42.51529531312995,
          60.85206501920707,
          53.2135289949341,
          null,
          null,
          106.5292432061926,
          44.83682613788005,
          31.70794945033395,
          33.450372944035706,
          32.87356781278777,
          13.73188986792561
         ],
         "z": [
          79.53301349453591,
          82.03680318757729,
          85.53799366376776,
          71.60872679580307,
          57.72702280064568,
          46.3250212518733,
          48.65439474887667,
          53.8203805169871,
          72.20394830447444,
          60.617696824341444,
          36.597932212512674,
          31.431946444402243,
          19.18013867781156,
          19.18013867781156,
          56.642888804457954,
          56.642888804457954,
          37.4627501266464,
          37.4627501266464,
          60.41030558877838,
          72.85334636892023,
          78.3295368451107,
          56.25474924012157,
          39.98238031914893,
          27.539339539007088,
          45.31669563047427,
          74.31356113199402,
          66.10364471862016,
          61.20516717325226,
          58.97609549138803,
          29.979229989868287,
          49.37760749207148,
          73.17536901689417,
          64.28202111922447,
          71.45445478723404,
          45.51755635764944,
          21.71979483282675,
          42.50198681228755,
          60.85305064207478,
          44.52096794197346,
          57.104578267477194,
          46.16020770010131,
          27.80914387031408,
          27.32160271023302,
          28.30396719858155,
          28.30396719858155,
          28.30396719858155,
          0.9823644883485272,
          0,
          33.99838884007356,
          35.840903564384334,
          46.94717087328158,
          39.56287980367585,
          20.370021094402667,
          18.527506370091892,
          67.10270563248127,
          41.20581905670241,
          28.512941446009005,
          31.169202615914784,
          31.015659722222217,
          11.873981777360065
         ]
        },
        {
         "hovertemplate": "Plant=FRA<br>Availability %=%{x}<br>Performance %=%{y}<br>OEE %=%{z}<br>size=%{marker.size}<extra></extra>",
         "legendgroup": "FRA",
         "marker": {
          "color": "#EF553B",
          "size": [
           61.257072061914805,
           71.37433142273174,
           33.285418129827065,
           89.75303786011064,
           52.89008618339277,
           43.769499853389604,
           38.0337596721092,
           36.21313881776168,
           38.26561591553782,
           78.00686504602604,
           78.6934390091842,
           78.28242544666058,
           78.68391334956384,
           72.69326769242525,
           57.458991333625825,
           75.83091492765298,
           76.90106249709741,
           75.2322463078613,
           75.31210463029645,
           75.83555334308886,
           74.75772735049598,
           67.27636104898775,
           68.74249782986111,
           67.07566787775438,
           58.159871703653515,
           60.184094793931294,
           58.701320271361844,
           62.25905201226223,
           70.79011416776127,
           32.15913746208997,
           33.4526540108178,
           33.77113880773704,
           29.790840900667273,
           31.806145574893332,
           26.15385932508727,
           58.333564674819215,
           56.87958165910784,
           50.579015843583306,
           51.224683416842915,
           53.79913759354341,
           60.500057925116266,
           59.81978007882976,
           48.74338951456451,
           61.84459588826805,
           62.776364829081615,
           62.759619959657044,
           64.81706774956895,
           58.03648825617023,
           49.04889461404333,
           67.38058124834821,
           71.67382191478187,
           71.52965139124206,
           72.12024116770854,
           79.6703310339668,
           73.69082679434906,
           77.95116766232269,
           77.77630545139624,
           76.59733901711823,
           75.86161479180973,
           56.97941386226642,
           38.87280556565849,
           43.015144136186095,
           42.43793257199878,
           41.49003548154138,
           42.875018065677146,
           37.628535719261585,
           68.70947563003459,
           73.09682223914281,
           76.15526400740399,
           79.51829487259462,
           78.07395564786113,
           76.86218311136577,
           32.71244141431822,
           96.71527041400923,
           83.67095442255021,
           84.43504067786981,
           85.23669046531668,
           87.04417517666379,
           70.14983328050155,
           71.30052896502536,
           72.22996887960828,
           81.53815584587622,
           82.07080528959729,
           84.09271783641294,
           69.28742471863394,
           70.55464141087278,
           72.27362809402051,
           50.296903749497986,
           54.381568132190544,
           51.44401602576039,
           41.33884037178734,
           32.19315753495371,
           25.65866746976097,
           23.57992316645158,
           23.592398866246132,
           27.727521636394517,
           28.387688327434976,
           29.971888990194824,
           41.04601023098573,
           35.98130041070435,
           33.01652689292176,
           30.42718547100866,
           77.07344644143767,
           75.99976181475006,
           75.56219662855811,
           87.20862863121418,
           84.0567530675794,
           83.46532282764309,
           81.62022345353536,
           82.5772484228148,
           84.34652291041685,
           32.3164984841371,
           32.14178477508726,
           26.080966418459578,
           26.27490824644938,
           22.03577089176327,
           18.755592183474043,
           12.855341005384709,
           14.68548479444849,
           13.303837392357678,
           49.312081810560656,
           53.52776400671313,
           55.337383170034485,
           57.07874342604641,
           56.06856981493529,
           57.22944737401746,
           32.43192191756696,
           32.99633838179075,
           35.63641400827006,
           39.90454373416466,
           39.15697290567526,
           31.32311972913718,
           15.832384168625012,
           13.874936961951596,
           7.2068482423138835,
           0.8627071278274592,
           1.8098564116502802,
           1.1270801525604124,
           20.774887821475755,
           9.038924782952295,
           5.640376865084086,
           16.44186241086622,
           19.97363690843716,
           19.637743372866346
          ],
          "sizemode": "area",
          "sizeref": 0.2717915999791843,
          "symbol": "diamond"
         },
         "mode": "markers",
         "name": "FRA",
         "scene": "scene",
         "showlegend": true,
         "type": "scatter3d",
         "x": [
          62.13710327044633,
          70.64536498437644,
          41.30174945132811,
          62.52158812019279,
          67.36901426072905,
          61.63518823996148,
          43.30955237341227,
          43.107017213900434,
          46.39924036575968,
          59.992247470176025,
          60.81119577393918,
          60.4682252600563,
          60.61133462763441,
          56.5234258179937,
          58.67061618564254,
          64.74474205856691,
          65.65060625609777,
          63.98244460486321,
          64.59492488433132,
          65.70582618464051,
          64.79305174342717,
          59.1974957011997,
          60.22540509259258,
          59.074415537643844,
          50.72949377399295,
          53.05265156720283,
          52.245745703005305,
          55.22589849408662,
          61.80347946308967,
          37.929732675833115,
          39.50503396318235,
          42.276531103705224,
          39.70297450942659,
          43.27279380541941,
          35.85246434588377,
          59.41661734986647,
          57.96417335801312,
          48.49737389488145,
          48.881140030402925,
          51.40751672884152,
          56.120781626936505,
          55.73965579623536,
          45.410959071328264,
          60.105261717348064,
          60.607115266029254,
          60.515781210036074,
          62.628500079879075,
          57.86307563516102,
          50.448522942300116,
          55.023162805410976,
          58.13581070090473,
          57.120290257666284,
          57.46239256888948,
          62.8207584716634,
          58.03913855135643,
          59.4172602847119,
          60.06514997221425,
          62.34578575659222,
          61.7983223653391,
          47.527101588645465,
          39.86901797657563,
          43.029760827551556,
          39.97888753382274,
          38.435237922693204,
          40.473796836823816,
          36.66196465557174,
          50.459808223883094,
          52.344388629242175,
          56.873039552069706,
          57.94472101760136,
          56.87414302338437,
          57.02579870041602,
          34.33005960329191,
          74.49996388328447,
          65.1206515066011,
          65.45960780069838,
          66.155533466512,
          63.799269670121035,
          52.09115830750446,
          54.75443542390657,
          55.95657588752346,
          64.78147565411349,
          64.5272699369809,
          65.37943597432232,
          52.2829464588456,
          52.881416371200004,
          55.03816773662073,
          68.42251552086574,
          64.88253373032799,
          59.03848347164359,
          61.621759211388316,
          56.25826090156494,
          49.43199031231071,
          31.510598877625274,
          32.705034494386105,
          35.90841693097318,
          35.402561984078105,
          36.01731651806071,
          40.84188129020724,
          38.67578251643388,
          34.11442453634397,
          29.028507555132094,
          65.84846705577895,
          67.19359430593413,
          67.98591511340427,
          68.76926575661079,
          67.92615913798166,
          66.84907239124246,
          64.87590383999819,
          62.75067178972444,
          64.71425442361954,
          48.47475981560078,
          49.55911827592331,
          46.69062562153062,
          46.74141929941186,
          38.25730721436541,
          43.82630618099151,
          23.326560870552985,
          25.469117189073465,
          20.809739740029627,
          46.13724085390935,
          48.39976445153611,
          48.89302958391045,
          49.521186203281985,
          48.947835508837535,
          49.9499237084345,
          25.75631069147758,
          26.29377723246744,
          28.944266315233037,
          32.74703568160482,
          32.37508483693004,
          29.99682945349288,
          42.60507916419395,
          32.36006022003669,
          19.200323702951472,
          13.579397812185064,
          2.295251235507625,
          0.9722030000025806,
          18.738088569165875,
          13.007395238544456,
          11.81635560598327,
          21.36133917422037,
          23.718758689291224,
          21.241864291276435
         ],
         "y": [
          70.16289000888295,
          71.56540726837848,
          57.51393045388138,
          null,
          61.09827879329688,
          57.98554565468348,
          59.55741294022317,
          57.408525894193545,
          56.3808018909896,
          92.23817788409855,
          91.764523575744,
          91.80351719192237,
          92.0593879926291,
          91.09778499739701,
          72.55722495813451,
          83.1068113119659,
          83.13777237104205,
          83.43992114284808,
          82.8158344116855,
          81.8839727693978,
          81.85333639622957,
          80.65400127719089,
          80.98087140167996,
          80.40528883038618,
          80.88034706213935,
          80.16254931475305,
          79.49235011152331,
          79.6278317962821,
          81.29023009233225,
          59.611874677039424,
          59.8589954209849,
          56.44670109779654,
          53.40444191311929,
          52.514012839684675,
          51.62547843836536,
          68.53952343433504,
          68.67648169219103,
          72.39578751941764,
          72.68254540905015,
          72.40055120561686,
          76.34872821196348,
          75.95255389234947,
          76.1217461517498,
          72.84893164506639,
          73.34490135888888,
          73.4401171707346,
          73.2422863276931,
          70.93911707033797,
          67.91249450704237,
          87.13045477352861,
          87.65156126294073,
          88.87792412098287,
          89.07521798594398,
          89.96846822149095,
          89.93415413609122,
          93.0420469989252,
          91.89689628373142,
          87.61081792226237,
          87.57795819234998,
          64.12206311605613,
          69.81709534529375,
          71.15149722179909,
          75.59475374817913,
          76.54913986723842,
          75.06895731263667,
          72.82334728039103,
          96.46539559204268,
          98.7383114015027,
          95.3238018596281,
          98.00603456695237,
          98.10136336608669,
          96.20121609621378,
          68.97562110717648,
          92.04963842262913,
          89.85043316833014,
          90.14019433835676,
          90.03808985715798,
          96.75106034136914,
          93.67717837957537,
          91.56328332712047,
          90.91517825265856,
          88.80696358605886,
          90.23293674710003,
          91.17560736453142,
          93.67435572146049,
          94.64969712961086,
          93.61291487579396,
          54.1286974613011,
          59.62747984472079,
          64.32476708841521,
          47.222698932245166,
          40.964840164064654,
          39.228835755741265,
          52.196365975145696,
          50.62819835587081,
          53.51315950771997,
          56.10029021439328,
          57.99214187879477,
          73.40390592353698,
          66.23389585994413,
          68.66667332736947,
          74.17101254694717,
          83.0620489044246,
          80.09631058907895,
          78.77099632095363,
          90.10176375329299,
          87.8866762047557,
          88.76835024471765,
          89.61883156943468,
          93.30604752131757,
          92.58027218395937,
          49.728308939078595,
          47.7153321824562,
          42.36709533175723,
          42.67576592863069,
          41.68680080130119,
          33.27985620549263,
          37.28021498684477,
          40.217601618907196,
          47.22843672199322,
          75.15205040246062,
          78.43964225752624,
          80.30476988084732,
          81.67940069931342,
          81.14145753052813,
          81.17152520183932,
          89.34063052012922,
          89.03900511069669,
          87.55903360664254,
          86.64010853815398,
          85.9052358644316,
          67.15044981590887,
          33.25195143565861,
          39.169002156912576,
          null,
          null,
          null,
          null,
          64.44710130204712,
          46.731437749692134,
          36.24834009340535,
          45.41805157122913,
          49.999998418384614,
          63.949211998541614
         ],
         "z": [
          43.44473195880483,
          50.62009320761117,
          23.60667952470005,
          63.654636780220315,
          37.51069942084594,
          31.04219847758128,
          26.974297639793757,
          25.683077175717507,
          27.1387346918708,
          55.32401776313904,
          55.8109496519037,
          55.51945067139049,
          55.804193864938895,
          51.55550900172004,
          40.75105768342257,
          53.7807907288319,
          54.5397606362393,
          53.35620305522078,
          53.41284016333081,
          53.78408038516941,
          53.01966478758581,
          47.71373124041685,
          48.75354456018519,
          47.57139565798184,
          41.248135960037956,
          42.68375517300092,
          41.63214203642684,
          44.15535603706542,
          50.20575472890871,
          22.807898909283672,
          23.7252865324949,
          23.95116227499081,
          21.128255957920054,
          22.55755005311584,
          18.548836400771116,
          41.371322464410795,
          40.3401288362467,
          35.87164244225767,
          36.329562706980795,
          38.15541673300952,
          42.90784250008246,
          42.42537594243245,
          34.569779797563484,
          43.86141552359437,
          44.522244559632355,
          44.51036876571422,
          45.96955159543897,
          41.16062996891506,
          34.78645008088179,
          47.78764627542426,
          50.83249781190204,
          50.73024921364685,
          51.14910721114081,
          56.503780875153765,
          52.262997726488706,
          55.28451607256929,
          55.160500320139185,
          54.324353912849816,
          53.80256368213456,
          40.410931817210226,
          27.569365649403185,
          30.50719442282702,
          30.09782451914807,
          29.425557079107364,
          30.4078142309767,
          26.686904765433752,
          48.73012456030822,
          51.84171790010129,
          54.01082553716595,
          56.3959538103508,
          55.371599750256124,
          54.51218660380551,
          23.200313059800155,
          68.59239036454555,
          59.34110242734057,
          59.88300757295732,
          60.4515535215012,
          61.73345757210198,
          49.75165480886635,
          50.56775103902508,
          51.22692828341013,
          57.82847932331647,
          58.20624488623922,
          59.640225415895706,
          49.14001753094606,
          50.03875277366864,
          51.257892265262775,
          35.67156294290638,
          38.568488037014575,
          36.485117748766235,
          29.31832650481372,
          22.83202662053455,
          18.197636503376575,
          16.723349763440837,
          16.732197777479527,
          19.66490896198193,
          20.133112288960977,
          21.2566588582942,
          29.110645553890592,
          25.518652773549185,
          23.41597651980267,
          21.57956416383593,
          54.662018752792676,
          53.90054029414898,
          53.59021037486391,
          61.850091227811475,
          59.614718487644964,
          59.195264416768154,
          57.88668330037969,
          58.565424413343834,
          59.82022901448004,
          22.91950247101922,
          22.795592039068982,
          18.497139303872043,
          18.634686699609492,
          15.628206306215086,
          13.301838427995776,
          9.11726312438632,
          10.41523744287127,
          9.43534566833878,
          34.9731076670643,
          37.962953196250446,
          39.24637104257765,
          40.48137831634497,
          39.76494313115978,
          40.588260548948554,
          23.00136306210423,
          23.40165842680195,
          25.274052488134796,
          28.30109484692529,
          27.770902769982456,
          22.214978531302965,
          11.22864125434398,
          9.840380824079146,
          5.111239888165875,
          0.6118490268279853,
          1.2835861075533903,
          0.7993476259293706,
          14.733962993954437,
          6.410584952448436,
          4.00026728020148,
          11.660895326855478,
          14.165699935061818,
          13.927477569408758
         ]
        },
        {
         "hovertemplate": "Plant=HZG<br>Availability %=%{x}<br>Performance %=%{y}<br>OEE %=%{z}<br>size=%{marker.size}<extra></extra>",
         "legendgroup": "HZG",
         "marker": {
          "color": "#00cc96",
          "size": [
           98.9542470920889,
           98.59031991919426,
           100.96756652931829,
           103.03558833835231,
           104.89459776723163,
           107.58063155375763,
           95.28392017472947,
           94.81348524452702,
           95.6289568709904,
           92.38516199139981,
           90.18050844229266,
           87.86297346639157,
           64.54639491511487,
           94.17287193315116,
           91.75806278806859,
           91.72389825296344,
           96.39374667939998,
           96.29262168426473,
           98.91692761754177,
           95.38476611251473,
           97.94026134709668,
           101.2451318779304,
           96.21803839735313,
           100.39322339182999,
           107.9326574902447,
           109.01535028415354,
           114.177610948601,
           117.4386178774545,
           92.0550935679616,
           90.44368015728294,
           89.1720202187926,
           96.94689349415918,
           90.84497213518132,
           90.16610554594317
          ],
          "sizemode": "area",
          "sizeref": 0.2717915999791843,
          "symbol": "square"
         },
         "mode": "markers",
         "name": "HZG",
         "scene": "scene",
         "showlegend": true,
         "type": "scatter3d",
         "x": [
          76.89009232991872,
          76.58825241957186,
          76.4382304628337,
          78.65552726043175,
          78.40979895513351,
          78.01897103305558,
          73.35226478475533,
          73.06305285785523,
          73.25976522157023,
          71.49544893218524,
          69.81236981512174,
          68.8839964162566,
          52.03355897789395,
          71.94246814168373,
          71.20752225830036,
          70.8594355844815,
          73.08677252620265,
          73.23093521998223,
          74.00170286262488,
          56.418808986163455,
          60.751287038588856,
          63.13648813096171,
          62.884822263968886,
          65.3591986659697,
          70.54131700431915,
          69.11778500654285,
          72.28073343503814,
          73.89178810831658,
          65.80607184992706,
          65.2560954139102,
          64.76123467095509,
          68.82110102418437,
          66.41176786282998,
          66.3931990921663
         ],
         "y": [
          91.25291612080589,
          91.29193080648383,
          93.72017194842667,
          92.98463118710154,
          94.92029073776364,
          97.90128713519871,
          92.02614769671155,
          91.94206854447863,
          92.5738595470583,
          91.598039642016,
          91.59713027397231,
          90.48518385622157,
          null,
          92.71300159345606,
          91.34574210300464,
          91.76966813807513,
          93.50213456140943,
          93.22482427552754,
          94.7405061408872,
          120.91635301722488,
          114.31255728460766,
          113.59760139038559,
          108.5109743593294,
          108.86911860485517,
          108.50147556577971,
          112.54300172912421,
          112.83281172183874,
          113.49776012872918,
          98.32830796060405,
          97.47373877284957,
          96.72451813054457,
          99.37687743286189,
          96.8038243079194,
          96.12034860893334
         ],
         "z": [
          70.18031708658788,
          69.92221270864842,
          71.60820321228248,
          73.07488534634916,
          74.39333174980968,
          76.29832025089193,
          67.57724835087197,
          67.24360655640214,
          67.82195522765277,
          65.52139148326228,
          63.957807405881326,
          62.31416557900111,
          45.77758504618076,
          66.7892708745753,
          65.07664027522596,
          65.05241010848471,
          68.36435934709219,
          68.29263949238634,
          70.1538493741431,
          67.64877029256364,
          69.46117826035226,
          71.80505806945419,
          68.23974354422208,
          71.20086765378014,
          76.54798403563454,
          77.31585126535713,
          80.977029041561,
          83.2897999130883,
          65.28730040280965,
          64.14445401225741,
          63.24256753105858,
          68.75666205259517,
          64.42905825190165,
          63.947592585775304
         ]
        },
        {
         "hovertemplate": "Plant=LLB<br>Availability %=%{x}<br>Performance %=%{y}<br>OEE %=%{z}<br>size=%{marker.size}<extra></extra>",
         "legendgroup": "LLB",
         "marker": {
          "color": "#ab63fa",
          "size": [
           90.65729557258487,
           89.62191501325901,
           92.26119529134216,
           89.8026286371221,
           86.78828299605115,
           85.98660352634317,
           72.62323877042627,
           61.929952870890375,
           70.09106130074879,
           74.52672038312663,
           80.72335578273078,
           75.68929665542697,
           51.57335168146122,
           76.63171096885453,
           77.0837246625747,
           77.02451907530751,
           78.1935246799765,
           84.20996078624195,
           83.88431462751446,
           48.73618692969142,
           47.32321107364794,
           34.78007410365069,
           40.56454531479394,
           45.683485617491336,
           62.907515781576635,
           68.40890129489763,
           61.14536762285959,
           54.162942860168755,
           57.09056174776882,
           64.67113512917881,
           61.63162456790195,
           73.14796127440083,
           69.9919011497654,
           70.40586166476098,
           73.4823720836447,
           88.40289827761545,
           79.92589241489821,
           78.0234885043101,
           74.22761113660557,
           83.29276363092072,
           108.09453469992525,
           101.4211989716097,
           85.21881787553319,
           58.691723433858996,
           61.933806458402856,
           66.08573412058087,
           69.62069810613384,
           73.24604509889264,
           82.48806542892562,
           48.88524209266562,
           50.350789779269256,
           151.86809669297182,
           136.25828030605436,
           65.4728925225561,
           66.6381299651373,
           44.859396005237535,
           56.44545769411897,
           45.850659999081316,
           74.11728323731855,
           73.76783682681788,
           74.70416891588808,
           72.29598514375027,
           72.94437904819071,
           74.59284273783194,
           76.19481616893131,
           84.36765035209427,
           84.04722042053892,
           72.58296789647508,
           75.27323370275438,
           70.2390988872459,
           39.64743324527241,
           50.99875521583236,
           56.20871276231664,
           57.95724581678261,
           62.3535324248219,
           97.22052113107924,
           96.47123775512986,
           89.88861330601127,
           71.5022690263122,
           82.54733102574508,
           75.73481355780908,
           108.84099286938768,
           111.24100413561948,
           103.9247893401002,
           99.85902610786685,
           91.29168472231656,
           82.06864257339889,
           72.07641611276645,
           69.99928593066421,
           69.99089100700748,
           66.27194253439487,
           62.698657491543045
          ],
          "sizemode": "area",
          "sizeref": 0.2717915999791843,
          "symbol": "x"
         },
         "mode": "markers",
         "name": "LLB",
         "scene": "scene",
         "showlegend": true,
         "type": "scatter3d",
         "x": [
          53.351924028904364,
          52.005079861104335,
          51.266138349937094,
          52.11809739905929,
          52.60364979899448,
          55.373537906906456,
          60.98843625992061,
          54.69652846671073,
          59.32566206459433,
          56.64156194885359,
          59.54988563712519,
          66.24173348899552,
          75.92959324087087,
          64.94860679906625,
          66.0714316153317,
          66.92615761732253,
          70.36087073970609,
          73.81550569336608,
          76.34776284293937,
          64.15376265417436,
          72.10776560679564,
          71.19404407162222,
          72.3896373237744,
          68.73370009698401,
          73.78205303203941,
          61.78655708351445,
          67.33898530252323,
          74.03500501101888,
          74.76162110865386,
          76.69227393563128,
          62.32456046728546,
          71.08149560354595,
          69.20915854211142,
          69.6704808146167,
          70.66202737556036,
          65.05731222969892,
          66.54032527339373,
          92.29340113095229,
          92.43619525812142,
          93.13027807553352,
          86.18583363108908,
          84.86790986790984,
          88.88888888888887,
          64.8336274874568,
          61.976784840793805,
          67.09008928476004,
          73.13015330954488,
          74.82942088586066,
          82.45179929128967,
          51.03625274759691,
          52.819172892949744,
          73.0162878330954,
          68.66042763016763,
          67.72558184228292,
          70.28514825867794,
          76.78577482509397,
          55.32119472774848,
          53.2144441032436,
          67.74805410091868,
          68.2676113840499,
          69.27608352312937,
          70.92119255978072,
          72.34617285031976,
          75.3351439684254,
          69.17879502272031,
          71.46707101820644,
          71.44820604720414,
          68.9613608408419,
          71.16102723149167,
          72.1852465393072,
          45.6851074376619,
          53.250815182447234,
          58.35321639518489,
          61.247340054781006,
          65.4288841176764,
          66.94192178586108,
          62.896439131335626,
          66.9636410989282,
          59.901158119625386,
          64.69796006944443,
          68.71412078387053,
          76.84094936872023,
          79.131134235007,
          76.50709272920486,
          75.41355164800106,
          73.23459579770464,
          68.83433791660181,
          67.35288885597122,
          69.88832820085452,
          72.51167943170655,
          63.73870977511809,
          63.68454110789327
         ],
         "y": [
          120.18500772939821,
          122.20585123158146,
          128.2970313148503,
          123.54108738621726,
          119.03867686728793,
          111.69860739837551,
          86.16876240913908,
          85.22079372478446,
          87.87155063135518,
          94.62317877026891,
          97.69335448543072,
          83.28153877438571,
          53.88550772660314,
          83.48420402163804,
          82.57390551854877,
          81.41073683465815,
          78.78404432460101,
          81.06929142120572,
          78.20634783028532,
          58.02633218174131,
          45.25825140810372,
          34.35619904389738,
          38.92238276141538,
          47.214886833008634,
          60.8896507152774,
          78.67341392832809,
          67.16881767158644,
          53.82347696152582,
          56.288572223015095,
          61.76117304319537,
          75.44029461341225,
          73.02646818595403,
          72.23114848139362,
          72.08542114039439,
          74.73804241694431,
          96.55741260245861,
          86.50600862242575,
          62.01689652253279,
          58.644682174658215,
          64.91913445463935,
          89.27439246020845,
          85.1228129753697,
          70.29609043466047,
          64.83021671769865,
          71.33700229567972,
          70.45855884530722,
          68.22046654086529,
          69.90374535642049,
          70.57213665772957,
          67.55041422852624,
          67.87047762266265,
          148.52472666538495,
          138.4223074924166,
          68.11186999175156,
          66.94666861227425,
          46.07310948159403,
          70.47728882692994,
          61.775389772067896,
          77.58926505339319,
          76.68061927027122,
          76.51994268276334,
          72.22693973405276,
          71.42806111988469,
          70.18179330937825,
          78.08133352714657,
          83.73510275666283,
          83.41288551698854,
          74.66710370221547,
          74.84606201471026,
          68.855601188403,
          59.32421489659214,
          68.16410660830668,
          69.75696235911516,
          68.45445658004517,
          68.2938178572183,
          104.67805062013322,
          109.5587300534962,
          97.75699888459667,
          85.56912892286694,
          88.7442450540234,
          76.96382435156583,
          100.44486022433712,
          99.70078568007182,
          95.803100933915,
          93.55933666592459,
          88.05472846403919,
          84.27523350118497,
          76.27317513013175,
          71.56863719154425,
          68.68446307794414,
          73.86988474838367,
          70.23482932538005
         ],
         "z": [
          64.29595430679778,
          63.56164185337519,
          65.43347183783132,
          63.689807544058226,
          61.55197375606465,
          60.98340675627176,
          51.5058430995931,
          43.921952390702394,
          49.70997255372255,
          52.85583005895506,
          57.25060693810694,
          53.68035223789147,
          36.57684516415689,
          54.348731183584775,
          54.66930827132957,
          54.6273184931259,
          55.45640048225284,
          59.72337644414323,
          59.49242172164146,
          34.564671581341436,
          33.562561045140384,
          24.666719222447302,
          28.769181074321946,
          32.39963518971017,
          44.6152594195579,
          48.516951272977046,
          43.36550895238269,
          38.41343465260196,
          40.48976010480058,
          45.86605328310554,
          43.710372033973016,
          51.87798671943322,
          49.639646205507375,
          49.93323522323474,
          52.115157506131,
          62.69709097703224,
          56.6850300814881,
          55.335807449865314,
          52.64369584156424,
          59.07288200774519,
          76.66279056732287,
          71.92992834865936,
          60.43887792591007,
          41.62533576869433,
          43.92468543149139,
          46.86931497913537,
          49.376381635555916,
          51.9475497155267,
          58.50217406306782,
          34.67038446288342,
          35.709779985297345,
          107.70786999501547,
          96.63707823124423,
          46.43467554791212,
          47.261085081657654,
          31.815174471799672,
          40.03223949937516,
          32.51819858090874,
          52.56544910448124,
          52.31761477079283,
          52.981680082190124,
          51.27374832890091,
          51.73360216183738,
          52.9027253459801,
          54.038876715554125,
          59.8352130156697,
          59.60795774506307,
          51.477282196081624,
          53.385272129613035,
          49.814963749819796,
          28.118746982462703,
          36.16932994030664,
          39.86433529242315,
          41.104429657292634,
          44.222363421859505,
          68.95072420643918,
          68.4193175568297,
          63.7507895787314,
          50.710829096675326,
          58.54420640123765,
          53.712633728942606,
          77.19219352438843,
          78.89432917419822,
          73.705524354681,
          70.82200433182047,
          64.74587568958621,
          58.20471104496375,
          51.118025611891106,
          49.644883638768945,
          49.63892979220389,
          47.001377683967995,
          44.467132972725565
         ]
        },
        {
         "hovertemplate": "Plant=LSX<br>Availability %=%{x}<br>Performance %=%{y}<br>OEE %=%{z}<br>size=%{marker.size}<extra></extra>",
         "legendgroup": "LSX",
         "marker": {
          "color": "#FFA15A",
          "size": [
           78.28010536642107,
           79.15403109777901,
           78.6882036415694,
           76.17011285228085,
           74.79563716906576,
           69.47275098793193,
           64.74642779149433,
           67.61574396583356,
           70.06169197461813,
           70.66637301970026,
           72.54141580275609,
           73.77918336625858,
           73.59149934170921,
           73.78544830606837,
           71.71433127639428,
           68.41913243855302,
           67.66174054814506,
           69.20454430540578,
           70.7407483511019,
           72.8896981075625,
           77.83925963783308,
           81.917846649325,
           84.11691607457014,
           88.99768545694036,
           97.6503709939476,
           99.40482217524911,
           101.83792368319321,
           99.83834439322305,
           96.55601760484674,
           97.40232062255475,
           47.95767779888597,
           50.671916034335936,
           67.85122169238025,
           76.07351109972423,
           80.22450743808142,
           68.21348939071342,
           81.60570114599466,
           76.3218083259486,
           70.81216804567886,
           76.68702753988681,
           76.63190284872672,
           82.03184323540407,
           77.14125240927619,
           79.29281868024974,
           84.82969260971909,
           86.69494958377497,
           87.57235575698168,
           88.55197033105901,
           68.03395996398204,
           73.97234361360324,
           77.84072355736419,
           79.19868230079037,
           75.05154579320906,
           65.56234884363276,
           80.2056450677888,
           84.92625421282794,
           73.21120356491014,
           67.94580000031898,
           70.66442245983173,
           61.194632373297225
          ],
          "sizemode": "area",
          "sizeref": 0.2717915999791843,
          "symbol": "cross"
         },
         "mode": "markers",
         "name": "LSX",
         "scene": "scene",
         "showlegend": true,
         "type": "scatter3d",
         "x": [
          69.95118176242701,
          70.08666187169227,
          70.36956147816882,
          65.03043329250949,
          61.22449142537222,
          56.84773038103658,
          64.18739046068403,
          67.16505986683485,
          68.43828237014681,
          64.31100479009345,
          63.35263795709001,
          64.80384059117458,
          70.31167537620055,
          71.63359775544104,
          73.7816858761139,
          66.04003020172476,
          61.17453261009339,
          61.817010446328794,
          60.699183767551766,
          61.29512273227526,
          64.24506000818344,
          66.94139367024283,
          67.03912843166812,
          69.69380230679437,
          79.21872833770809,
          80.44354254930744,
          81.82396899300826,
          77.19476970237743,
          73.35849498170208,
          73.69013794630013,
          57.46724199391156,
          58.44410977901501,
          70.54181725319708,
          57.342193542728616,
          60.73400231272077,
          55.10027599077107,
          67.14712290942876,
          64.22090940902815,
          61.330185287686255,
          61.95275018491289,
          59.56707381805761,
          64.0608098119375,
          67.77970798842857,
          75.12819442107572,
          76.00252021239471,
          73.89900407112052,
          68.27110554021792,
          61.31984354682066,
          72.32822803158524,
          73.28141496535241,
          75.96352888886518,
          72.72710249355262,
          68.52290417117197,
          64.62382317670513,
          74.60470700655225,
          78.2130575300568,
          72.02638183557292,
          70.32751126383818,
          64.59349959337341,
          58.63286999606594
         ],
         "y": [
          79.88765839056575,
          80.64634052006883,
          79.81690030132089,
          83.39847675700223,
          86.71720122371661,
          86.86377788035216,
          73.22962795776792,
          72.50747143169282,
          73.70515368996358,
          78.1776247085063,
          81.39382181019899,
          80.98595538138123,
          75.67778140975504,
          74.07383633582869,
          69.7798451621103,
          75.32704999058402,
          79.83333724135075,
          80.62894628409515,
          84.26542707105698,
          85.92260551251977,
          87.42358497990493,
          87.10724363595797,
          89.17723194849236,
          90.9846816646021,
          89.4173929534781,
          89.56765365280404,
          90.11073567473153,
          93.34570358369467,
          93.4853271094109,
          94.72489156801711,
          69.40726790169305,
          71.75483768325392,
          77.16729315611747,
          95.08361717302667,
          94.62882746368062,
          86.77370748652336,
          86.76029914950465,
          85.16462414049006,
          83.5139573757892,
          89.07772088169054,
          92.16011007733002,
          91.43276100397104,
          83.31528008312114,
          75.86014073332719,
          80.74600544235899,
          85.59418850318028,
          92.80980114314788,
          102.58763551842335,
          66.56855251393154,
          72.68629362799471,
          73.6645571787862,
          77.9980021841451,
          78.25356503220037,
          70.3274947264815,
          77.67376750027634,
          77.67206500917914,
          72.47648115902842,
          69.27876878527032,
          78.70156633550636,
          76.30186427665147
         ],
         "z": [
          55.51780522441211,
          56.13761070764469,
          55.80723662522653,
          54.0213566328233,
          53.04655118373458,
          49.271454601370166,
          45.91945233439314,
          47.954428344562814,
          49.68914324441002,
          50.11799504943281,
          51.44781262606815,
          52.32566196188552,
          52.19255272461646,
          52.33010518160878,
          50.861227855598784,
          48.52420740322909,
          47.98705003414543,
          49.08123709603247,
          50.170743511419786,
          51.694821352881206,
          55.20514867931425,
          58.097763581081566,
          59.657387286929186,
          63.11892585598608,
          69.25558226521107,
          70.4998738831554,
          72.22547778949874,
          70.80733644909436,
          68.47944510982039,
          69.07966001599628,
          34.01253744601842,
          35.937529102365914,
          48.12143382438316,
          53.95284475157747,
          56.89681378587335,
          48.37836127000952,
          57.87638379148558,
          54.128942075140856,
          50.221395777077205,
          54.387962794245965,
          54.348867268600515,
          58.178612223690834,
          54.71010809168524,
          56.236041617198396,
          60.16290256008446,
          61.48577984664892,
          62.108053728355806,
          62.802815837630504,
          48.25103543544826,
          52.46265504510868,
          55.206186920116444,
          56.1692782275109,
          53.2280466618504,
          46.49811974725728,
          56.88343621828993,
          60.23138596654464,
          51.92283940773769,
          48.18851063852411,
          50.116611673639525,
          43.40044849170016
         ]
        },
        {
         "hovertemplate": "Plant=LTR<br>Availability %=%{x}<br>Performance %=%{y}<br>OEE %=%{z}<br>size=%{marker.size}<extra></extra>",
         "legendgroup": "LTR",
         "marker": {
          "color": "#19d3f3",
          "size": [
           55.66835350177368,
           48.24625501059095,
           47.60416445469236,
           53.25599605191458,
           54.427158279649525,
           51.6076245494908,
           49.13773261115714,
           30.09564425592819,
           36.27014986058548,
           41.12463030460511,
           41.214959050195525,
           65.78517014082578,
           53.19745942093749,
           54.928109141279826,
           57.91674467634402,
           56.93028817950009,
           53.3209314875809,
           47.27811892233586,
           5.529417576031525,
           3.0283757235816204,
           2.028891348581621,
           50.47732503428089,
           38.35752589071217,
           34.97356397245969,
           35.300912076352674,
           25.519717541741244,
           30.265189254336875,
           28.490841789947677,
           24.99529919732048
          ],
          "sizemode": "area",
          "sizeref": 0.2717915999791843,
          "symbol": "circle"
         },
         "mode": "markers",
         "name": "LTR",
         "scene": "scene",
         "showlegend": true,
         "type": "scatter3d",
         "x": [
          61.12746043418432,
          53.76537318568566,
          51.026616834982526,
          55.52632748313067,
          55.43885283240199,
          52.82745925876883,
          51.38024253938147,
          38.01022679686708,
          44.720902949487964,
          46.733640458295895,
          46.12537214480587,
          65.32811072628365,
          51.60218521454444,
          57.554780354919444,
          58.36550541262783,
          57.70563251976158,
          54.637634834576396,
          50.51070083525515,
          31.313544945494595,
          35.8573831303963,
          52.15946646372963,
          46.86900001691925,
          39.62382009455273,
          37.748245455603495,
          40.705422490681016,
          52.65248799371934,
          48.4309644586496,
          51.32811153041151,
          51.30629832894534
         ],
         "y": [
          66.77987319357172,
          64.74385979417693,
          67.20034704633157,
          68.74654800350909,
          70.55389657044847,
          70.10059044579181,
          68.21438120861716,
          54.7464052902725,
          57.34189695370104,
          61.50434107083787,
          62.7190835648925,
          71.9492848164952,
          175.64712913680424,
          67.47556868004727,
          70.62521757331501,
          70.06743581076606,
          69.14048543346749,
          66.62764427676447,
          10.62565679853331,
          6.884788541954917,
          4.847363392254319,
          78.76867712555236,
          70.1963806292979,
          66.8049772862436,
          63.1639609313776,
          34.496096340715596,
          42.86477324130039,
          38.770201051132865,
          33.64105420545576
         ],
         "z": [
          39.481101774307575,
          34.217202135170886,
          33.761818762193165,
          37.77020996589687,
          38.60082147492874,
          36.60115216275943,
          34.84945575259372,
          21.344428550303682,
          25.723510539422325,
          29.166404471351143,
          29.23046741148619,
          46.656149036046656,
          37.72869462477836,
          38.956105773957326,
          41.075705444215615,
          40.37609090744687,
          37.816263466369435,
          33.53058079598288,
          3.921572748958529,
          2.1477842011217168,
          1.4389300344550504,
          35.79952130090843,
          27.203919071427073,
          24.803946079758646,
          25.036107855569274,
          18.099090455135634,
          21.464673230026154,
          20.206270773012537,
          17.727162551291123
         ]
        },
        {
         "hovertemplate": "Plant=MAF<br>Availability %=%{x}<br>Performance %=%{y}<br>OEE %=%{z}<br>size=%{marker.size}<extra></extra>",
         "legendgroup": "MAF",
         "marker": {
          "color": "#FF6692",
          "size": [
           68.64584644199115,
           69.53931395392048,
           65.90859675671551,
           61.73578236574251,
           63.189032264568965,
           62.35826916125072,
           72.53030196235527,
           71.4329458700269,
           70.09278445875734,
           67.41634351804994,
           70.51013256112365,
           77.86831233017817,
           60.62401206895182,
           59.825835249266134,
           58.695824920577806,
           59.180266773944076,
           65.71431412860352,
           60.08108272165519,
           68.31388907674325,
           63.83703468268128,
           66.93311322166878,
           61.31777576538462,
           59.61321134107418,
           56.64996334637197,
           47.62441924580259,
           52.1088318101377,
           52.98738119008201,
           53.96543397776526,
           52.72424966183578,
           49.790428455238214,
           88.87042858118862,
           89.02220039455413,
           86.58599650341604,
           109.25818697075549,
           110.96593671841885,
           112.44705211076919,
           111.85862368991904,
           113.69959207814554,
           110.78659087635249,
           86.23939108570505,
           87.366926512577,
           95.02840820240452,
           104.04084848979699,
           105.91995134936428,
           103.61854344774486,
           88.36765791246584,
           88.02731316725196,
           82.41348775546976,
           83.28979455666574,
           88.22252798251326,
           86.85003305589454,
           105.42582500346585,
           106.58155119610383,
           105.87675476462843,
           103.61161023152319,
           102.14267520531043,
           90.4645929520002,
           82.23330249482586,
           82.67227873040271,
           81.70853609802447,
           84.07334074018672,
           81.77314185555323,
           70.49746927962772,
           75.09029566755434,
           71.87611526357516
          ],
          "sizemode": "area",
          "sizeref": 0.2717915999791843,
          "symbol": "diamond"
         },
         "mode": "markers",
         "name": "MAF",
         "scene": "scene",
         "showlegend": true,
         "type": "scatter3d",
         "x": [
          58.338635631126294,
          58.650984607543904,
          55.925698896011376,
          53.82293831049217,
          55.80527449966902,
          57.148466744515666,
          57.41733932913776,
          57.99798018246007,
          57.117083835779866,
          55.15960648148146,
          59.0760106774477,
          63.64110914795442,
          51.408909111587505,
          51.82594195553567,
          52.098285441495364,
          52.22961287805535,
          57.671906975888106,
          55.939971187484346,
          53.850716955269284,
          50.83987058091843,
          52.960527736910905,
          48.865268874643846,
          48.598631108055365,
          51.28132878399259,
          41.984008014667225,
          45.51446739053924,
          47.357551282811386,
          49.53124470369024,
          49.852435452710665,
          50.65506495296888,
          72.65302583335334,
          72.1729385872003,
          70.4458482549868,
          82.77553927839098,
          84.16969091208172,
          85.37853606284074,
          85.1833076811925,
          85.45858396206702,
          82.99990908235759,
          66.85377498973165,
          67.1687720603779,
          71.69351851326834,
          78.39301505197193,
          79.70140035798906,
          78.28395437966135,
          68.69144614746442,
          65.23547861216485,
          60.64669429488485,
          61.804047351415974,
          64.50869971758401,
          66.12982556376423,
          72.26481818856794,
          73.22078719684916,
          72.6531218312403,
          71.04248641384012,
          70.26597176424798,
          64.22027729818683,
          58.537842998095115,
          59.426340550680784,
          57.9851336323215,
          59.30602875046363,
          57.84760995888936,
          50.93382662489269,
          59.911951441728,
          59.37610135255417
         ],
         "y": [
          83.67652851000256,
          84.29860638568277,
          83.60580025799513,
          81.35418263682385,
          80.26453483699763,
          77.61105191534935,
          90.41061447984933,
          88.11970726976817,
          87.79047965045902,
          87.45695316759009,
          84.6344447004455,
          86.70400570663006,
          83.74089693839531,
          82.06644387479902,
          80.10871448583796,
          80.53347241381442,
          80.6225666770886,
          75.39386793611278,
          89.99545032592361,
          89.20470231559926,
          89.86653175232762,
          89.10717468772066,
          87.06573257647264,
          79.12752183013302,
          80.45634176956692,
          81.73720995006511,
          79.84318469970299,
          77.83182365288958,
          75.20841451535752,
          70.2024849425467,
          86.8400029638234,
          87.50317017313736,
          87.26231775984343,
          99.72791378845083,
          99.55496285273541,
          98.99174974866301,
          97.47064520133486,
          97.77428071439824,
          98.49373166365481,
          96.81424110105134,
          96.98166360389303,
          98.42374258453466,
          98.34451241816089,
          99.15587010519697,
          98.71501737682685,
          99.85785019180064,
          105.74615048424343,
          106.84115706865775,
          106.19077294608672,
          106.04614599610984,
          101.00372875259227,
          103.45758806058521,
          103.23089483670613,
          103.35112022894698,
          103.42300455014637,
          103.09089544708704,
          98.99276308118633,
          99.51086940811896,
          98.60273433456331,
          99.97362917954338,
          100.54875487438878,
          100.28621007191649,
          97.04347045628154,
          89.0359968556503,
          86.03959307591617
         ],
         "z": [
          48.68499747658947,
          49.318662378667014,
          46.74368564306065,
          43.784242812583344,
          44.814916499694306,
          44.22572280939767,
          51.43993046975551,
          50.66166373760773,
          49.71119465160095,
          47.81300958726946,
          50.007186213562875,
          55.22575342565828,
          42.995753240391366,
          42.42967038955045,
          41.62824462452327,
          41.97182040705254,
          46.60589654510888,
          42.610696965712904,
          48.449566721094506,
          45.27449268275268,
          47.47029306501332,
          43.487784230769236,
          42.27887329154197,
          40.177278969058136,
          33.776183862271346,
          36.9566183050622,
          37.57970297168937,
          38.273357431039194,
          37.3930848665502,
          35.31236060655193,
          63.028672752616046,
          63.13631233656322,
          61.4085081584511,
          77.48807586578404,
          78.69924589958784,
          79.74968234806326,
          79.33235722689294,
          80.63800856606068,
          78.57205026691666,
          61.162688713266,
          61.96235922877801,
          67.3960341861025,
          73.78783580836667,
          75.12053287188957,
          73.48832868634388,
          62.67209781025947,
          62.430718558334725,
          58.44928209607785,
          59.07077628132322,
          62.5691687819243,
          61.595768124747906,
          74.77008865494032,
          75.58975262135024,
          75.08989699619038,
          73.48341151171857,
          72.44161362078754,
          64.15928578156043,
          58.321491131082176,
          58.63282179461185,
          57.94931638157764,
          59.62648279445867,
          57.99513606776826,
          49.99820516285654,
          53.255528842237126,
          50.97596827203912
         ]
        },
        {
         "hovertemplate": "Plant=MLE<br>Availability %=%{x}<br>Performance %=%{y}<br>OEE %=%{z}<br>size=%{marker.size}<extra></extra>",
         "legendgroup": "MLE",
         "marker": {
          "color": "#B6E880",
          "size": [
           31.08924385705377
          ],
          "sizemode": "area",
          "sizeref": 0.2717915999791843,
          "symbol": "square"
         },
         "mode": "markers",
         "name": "MLE",
         "scene": "scene",
         "showlegend": true,
         "type": "scatter3d",
         "x": [
          29.766393712052945
         ],
         "y": [
          75.94935276806898
         ],
         "z": [
          22.04910911847785
         ]
        },
        {
         "hovertemplate": "Plant=OCO<br>Availability %=%{x}<br>Performance %=%{y}<br>OEE %=%{z}<br>size=%{marker.size}<extra></extra>",
         "legendgroup": "OCO",
         "marker": {
          "color": "#FF97FF",
          "size": [
           45.6927861223214,
           45.47605377995597,
           89.70054252223049,
           82.58014252439438,
           87.79706709050336,
           75.79388155203438,
           78.75573678120898,
           57.618245810551436,
           53.30528679568368,
           43.84028912128369,
           45.63060612908828,
           42.384024179967334,
           42.26796862749499,
           62.79918159664993,
           64.47183446751285,
           61.11128332251116,
           59.29902905852158,
           47.110151382996776,
           54.56427086286161,
           59.138515952047705,
           61.748758067918644,
           63.30888075555902,
           54.67324665657293,
           50.30570945274666,
           46.15088710643675,
           42.48345995928191,
           40.13427404458206,
           55.859826826821575,
           72.15952041596549,
           81.4743316688992,
           62.791887375797494,
           59.977786097510425,
           99.70487472774155,
           102.79420790761283,
           103.66858554786843,
           100.61697722905576,
           105.00938127011308,
           99.83288390817458,
           88.51879502249251,
           86.46445538100578,
           87.56506950424995,
           87.8236889038026,
           91.27886587147462,
           92.25605431512655
          ],
          "sizemode": "area",
          "sizeref": 0.2717915999791843,
          "symbol": "x"
         },
         "mode": "markers",
         "name": "OCO",
         "scene": "scene",
         "showlegend": true,
         "type": "scatter3d",
         "x": [
          46.65479040038373,
          45.03422233440995,
          60.91455136362417,
          58.283966847255414,
          60.23138724567911,
          55.85905541145115,
          58.44232394996807,
          47.34833278127272,
          46.02585862907071,
          39.24894423850199,
          40.955301139520756,
          42.18209399436444,
          44.090039401450035,
          53.871628196680696,
          56.82439457135486,
          53.537849197512756,
          52.25694641506667,
          43.64650649686185,
          61.016725790058494,
          63.65625981413186,
          65.09032786359236,
          64.8635147588264,
          47.65339163001591,
          44.75489821696635,
          42.77620919826962,
          39.75083375491204,
          39.07127690465754,
          49.33505972547446,
          57.19006256228954,
          62.48307907474271,
          52.03150534230937,
          50.9911644224345,
          76.56399669807891,
          79.37873402685472,
          80.04091151788862,
          77.2385497095562,
          76.37357428218164,
          72.53037590455398,
          73.89321084782854,
          73.36962053309874,
          72.92362699165105,
          72.34377242969434,
          74.61113178620583,
          75.16051879852735
         ],
         "y": [
          null,
          70.48978240028286,
          103.48224311848915,
          100.20354886413082,
          103.33786781922993,
          96.22685239782899,
          96.17887902949911,
          86.80369562996871,
          81.97393210510262,
          77.20504861783994,
          76.95328744310557,
          70.34045286742898,
          66.89072068205799,
          82.99427413210964,
          80.33435757147397,
          81.10863321404346,
          80.46149494054298,
          74.77351143289698,
          63.21748486952355,
          65.43222250909398,
          66.95968053127169,
          69.33541065819331,
          81.45573081807726,
          79.61560726627192,
          76.4761333550307,
          75.57882525252028,
          72.86127213411471,
          76.28532806042229,
          86.67307138479681,
          92.1671039889852,
          89.78916411176998,
          87.1623352623349,
          92.38163336000112,
          91.820150900819,
          91.82695896958654,
          92.38379090339302,
          97.91557457510793,
          97.65070796161886,
          84.89828293225465,
          83.62002396199148,
          85.17475503183563,
          86.04845992776396,
          86.6100344659883,
          86.88448717502658
         ],
         "z": [
          32.406231292426526,
          32.25252041131629,
          63.61740604413511,
          58.56747696765559,
          62.267423468442104,
          53.754525923428645,
          55.85513246894254,
          40.86400412095847,
          37.805167940201194,
          31.092403632116095,
          32.36213200644559,
          30.059591616998112,
          29.977282714535455,
          44.53842666429073,
          45.724705296108404,
          43.34133568972423,
          42.056048977674884,
          33.411454881558,
          38.69806444174583,
          41.9422098950693,
          43.79344543824018,
          44.89991542947448,
          38.77535223870421,
          35.677808122515366,
          32.73112560740195,
          30.130113446299227,
          28.464024145093656,
          39.61689845873871,
          51.17696483401808,
          57.783213949573906,
          44.53325345801241,
          42.537436948588955,
          70.71267711187345,
          72.90369355149846,
          73.52381953749534,
          71.35955831847927,
          74.4747384894419,
          70.80346376466282,
          62.779287249994695,
          61.32230878085517,
          62.10288617322691,
          62.28630418709405,
          64.73678430601038,
          65.4298257554089
         ]
        },
        {
         "hovertemplate": "Plant=ORI<br>Availability %=%{x}<br>Performance %=%{y}<br>OEE %=%{z}<br>size=%{marker.size}<extra></extra>",
         "legendgroup": "ORI",
         "marker": {
          "color": "#FECB52",
          "size": [
           90.28914974957293,
           29.611122649763548
          ],
          "sizemode": "area",
          "sizeref": 0.2717915999791843,
          "symbol": "cross"
         },
         "mode": "markers",
         "name": "ORI",
         "scene": "scene",
         "showlegend": true,
         "type": "scatter3d",
         "x": [
          67.65244001615173,
          32.82914619641741
         ],
         "y": [
          94.69526512634718,
          66.2679879928667
         ],
         "z": [
          64.03485797842052,
          21.000796205506063
         ]
        },
        {
         "hovertemplate": "Plant=RDG<br>Availability %=%{x}<br>Performance %=%{y}<br>OEE %=%{z}<br>size=%{marker.size}<extra></extra>",
         "legendgroup": "RDG",
         "marker": {
          "color": "#636efa",
          "size": [
           91.19754950377501,
           84.37399561856333,
           58.1143153003845,
           55.782070925650515,
           58.00803900862168
          ],
          "sizemode": "area",
          "sizeref": 0.2717915999791843,
          "symbol": "circle"
         },
         "mode": "markers",
         "name": "RDG",
         "scene": "scene",
         "showlegend": true,
         "type": "scatter3d",
         "x": [
          69.40779805398144,
          65.34781309050987,
          54.73347049948835,
          52.8978418858952,
          57.6778362024624
         ],
         "y": [
          93.88916278013932,
          92.10461111215501,
          76.77748972301427,
          74.74697826099504,
          71.04684282727983
         ],
         "z": [
          64.67911312324469,
          59.83971320465484,
          41.2158264541734,
          39.561752429539375,
          41.14045319760403
         ]
        },
        {
         "hovertemplate": "Plant=SCO<br>Availability %=%{x}<br>Performance %=%{y}<br>OEE %=%{z}<br>size=%{marker.size}<extra></extra>",
         "legendgroup": "SCO",
         "marker": {
          "color": "#EF553B",
          "size": [
           12.999073757409949,
           12.999073757409949,
           1.0018652574217412e-14,
           0.23313492063493071,
           0.23313492063493071,
           0.23313492063493071,
           0.23313492063493071,
           1.0018652574217412e-14,
           13.323663906489756,
           14.504500460470641,
           14.526454720082576,
           14.291976710591086,
           9.077765458093346,
           5.9602605931988,
           10.42274171252342,
           10.653385725282293,
           12.756956640793526,
           8.515087108846593,
           7.438326262442132,
           6.3765551261964335,
           78.09572717204139,
           81.11439926073881,
           77.25465868230297,
           85.70969267210737,
           80.60487480478952,
           69.35620644838647,
           48.67864653480192,
           48.049389492861216,
           47.442433414493884,
           45.126847167870324,
           45.98957581141,
           45.09942500489427,
           60.44708490799265,
           64.70451046062902,
           62.21137705648645,
           61.60484562754578,
           67.21244337378926,
           59.64665351837233,
           74.38759288072622,
           73.85978243401352,
           77.82747234331057,
           79.1570793269205,
           79.0455497951181,
           75.53649589890506,
           74.2256545003903,
           71.82468058420898,
           69.81514992716605,
           73.62482417263584,
           78.0070615034854,
           75.840319835611,
           73.62260986761419,
           74.85885252219302,
           79.68418809892869,
           91.35921304962079,
           73.54271525486936,
           73.81618958716494,
           65.93848849165805,
           69.09731436887932,
           64.39437323335952,
           70.29730502436519,
           42.89429058177411,
           49.479175235363805,
           50.975663161323,
           54.77063823823285,
           53.05326109373898,
           58.37440087715851,
           59.89379713232405,
           63.720949167829176,
           66.06831651556968,
           63.58189187203016,
           61.51612329976471,
           60.48626037199312,
           57.00083996264484,
           59.13409735771578,
           59.82935135279418,
           62.24926235182242,
           61.350004915536886,
           73.09284668286034,
           75.21104444567808,
           77.55534599952787,
           69.91018475193255
          ],
          "sizemode": "area",
          "sizeref": 0.2717915999791843,
          "symbol": "diamond"
         },
         "mode": "markers",
         "name": "SCO",
         "scene": "scene",
         "showlegend": true,
         "type": "scatter3d",
         "x": [
          45.282738095238045,
          45.282738095238045,
          91.36904761904756,
          69.1071428571428,
          44.107142857142804,
          19.107142857142804,
          2.738095238095184,
          0,
          45.147738212642,
          56.92601202216581,
          48.371944561848345,
          53.008432539682474,
          64.98015873015866,
          73.1970102933533,
          42.41759415797871,
          31.70826876115332,
          35.20281241194697,
          55.51835317460312,
          69.97519841269836,
          94.24851190476186,
          61.34712265711147,
          63.16985879075215,
          61.008968032205146,
          66.58172043656752,
          63.312744488863515,
          55.75250122780993,
          45.94090115214129,
          45.530784806445,
          44.366660341262815,
          43.78151483171358,
          46.14174739388177,
          45.677475783628175,
          55.11262737284558,
          56.469644035443615,
          54.66571238973063,
          53.64936963792079,
          57.25937030457506,
          53.430081898302404,
          59.23658911672011,
          58.31873725415461,
          61.22215278703443,
          60.31324672208666,
          61.36515966792017,
          57.982048752563145,
          57.703087066333765,
          55.87260194796147,
          54.660337787268304,
          57.31443399365209,
          59.71823316562138,
          58.54474683491069,
          57.19723876854918,
          57.98645062082545,
          61.2094075567004,
          68.82364211311652,
          60.48477513012975,
          60.98487404784661,
          55.00130737347415,
          57.55032246364046,
          53.78707702451321,
          57.320197321305635,
          38.97771829054211,
          44.9506392705283,
          46.62512785362727,
          50.04462326772048,
          50.10796820681682,
          44.76929170838087,
          47.7747147640454,
          50.378227203537584,
          52.23215592166868,
          50.70734125376191,
          48.815770330995136,
          46.37358467277292,
          43.91113666559442,
          45.34553458103231,
          46.21181094195444,
          50.3779134956212,
          49.89080274752114,
          65.31816744491883,
          67.21655029879432,
          68.24406458732254,
          61.50219164326053
         ],
         "y": [
          47.310874759837844,
          47.310874759837844,
          0,
          1.5096618357487925,
          null,
          null,
          null,
          null,
          24.64555764159232,
          19.313273832898766,
          37.62532935927538,
          36.85548780652696,
          29.04571126722013,
          25.514283080013843,
          23.9637771889114,
          48.58144982767797,
          49.64604164686832,
          33.590730055185034,
          31.77993387510276,
          5.873674215052335,
          89.9075973179223,
          90.58882939653948,
          89.25697328209866,
          91.10581700699501,
          90.01702985611004,
          87.78594459441891,
          75.63102728622954,
          75.27856358458348,
          76.12871469179169,
          73.32835798476161,
          71.12397108666826,
          70.41482777474671,
          77.44923820433559,
          81.03345507133383,
          80.45026138261615,
          81.18175599419024,
          83.17782311892786,
          78.16140446604385,
          89.23634497747155,
          90.11253400925239,
          90.39583325497179,
          93.14492244370314,
          91.48764776424056,
          92.32386240762531,
          91.22953513196099,
          91.18745613735267,
          90.59268105174903,
          91.06246296853293,
          92.42601437164222,
          91.39444513926223,
          90.73607008535726,
          90.94953639074132,
          91.36753216321439,
          93.66291406571577,
          86.0759203579835,
          85.63764140055846,
          84.60190057147749,
          84.64110192144013,
          84.58163671690383,
          86.54648173640685,
          78.20997295024378,
          77.79279944855237,
          77.42505538981838,
          77.36799730345186,
          73.95594943623725,
          92.21090288960866,
          88.57280945384169,
          89.71711786487583,
          89.51647376405575,
          88.96289596508393,
          89.1082606374617,
          92.53034483323287,
          91.99646827195048,
          92.48834774502545,
          91.94413607156467,
          88.02173878782642,
          87.50581392790392,
          79.30213206179464,
          79.36588090283627,
          80.63569293377817,
          80.53321368408335
         ],
         "z": [
          9.219201246390035,
          9.219201246390035,
          7.105427357601002e-15,
          0.1653439153439225,
          0.1653439153439225,
          0.1653439153439225,
          0.1653439153439225,
          7.105427357601002e-15,
          9.44940702587926,
          10.286879759199037,
          10.302450156086934,
          10.136153695454672,
          6.438131530562657,
          4.227135172481419,
          7.392015398952781,
          7.555592712966166,
          9.04748697928619,
          6.039068871522407,
          5.27540869676747,
          4.522379522125131,
          55.38704054754709,
          57.527942738112635,
          54.79053807255531,
          60.787016079508774,
          57.16657787573725,
          49.18879889956488,
          34.52386279063966,
          34.077581200610794,
          33.64711589680417,
          32.00485614742576,
          32.61672043362412,
          31.985407804889554,
          42.87027298439195,
          45.88972373094258,
          44.12154401169252,
          43.69137987769204,
          47.668399555878906,
          42.3025911477818,
          52.75715807143703,
          52.382824421286195,
          55.19678889596495,
          56.139772572284045,
          56.06067361355895,
          53.57198290702487,
          52.642308156305184,
          50.93948977603474,
          49.514290728486564,
          52.216187356479324,
          55.3241570946705,
          53.787460876319855,
          52.21461692738595,
          53.09138476751278,
          56.51360858080049,
          64.79376812029844,
          52.157954081467636,
          52.35190750862762,
          46.76488545507664,
          49.005187495659094,
          45.669768250609586,
          49.85624469813134,
          30.421482682109296,
          35.09161364210199,
          36.15295259668298,
          38.844424282434645,
          37.6264263076163,
          41.4002843100415,
          42.47787030661281,
          45.192162530375306,
          46.85696206777991,
          45.09354033477317,
          43.62845624096788,
          42.89805700141356,
          40.42612763308145,
          41.93907614022396,
          42.43216407999587,
          44.1484130154769,
          43.51064178406872,
          51.83889835663854,
          53.34116627353056,
          55.00379148902686,
          49.58169131342734
         ]
        },
        {
         "hovertemplate": "Plant=SUZ<br>Availability %=%{x}<br>Performance %=%{y}<br>OEE %=%{z}<br>size=%{marker.size}<extra></extra>",
         "legendgroup": "SUZ",
         "marker": {
          "color": "#00cc96",
          "size": [
           94.28414372056699,
           83.37385258284753,
           38.86940392186195,
           36.338115670803155,
           32.882606857668954,
           29.40671721876858,
           30.297408004453096,
           30.385486169511378,
           58.063411977371565,
           63.29695226423887,
           64.40143216873074,
           61.08754561714864,
           53.14961674255655,
           49.11777265876019,
           27.665435470127864,
           9.880942257243467,
           5.009326287108706e-15,
           74.53390800561978,
           56.44484503782871,
           88.17632463815214,
           45.0203210716552,
           56.168902912012335,
           47.38053759498497,
           1.1270123236404201,
           2.563697083798894,
           2.6726945829520825,
           68.23751408018522,
           63.20915983217067,
           58.010851553577226,
           59.202037049584185,
           60.13868027214529,
           67.03465542014435,
           42.84222041654506,
           82.30697130749263,
           80.40288444056812,
           75.39818773717825,
           70.78330061183604,
           63.72531422842412,
           62.97884581943581,
           46.400553024662855,
           42.65405081204884,
           66.12101029978396,
           70.04193267566015,
           68.25973997857848,
           65.51504936070589,
           67.22807463026592,
           63.468239298972506,
           64.53841199425746,
           60.215077860400314,
           63.50525908586443,
           58.0975051328761,
           58.09408461457489,
           65.82057948086911,
           66.84678681498809,
           60.946623287870565,
           64.26646965819357,
           64.39279448401122,
           64.35133215000432,
           64.75257804714927,
           50.93353926001552,
           64.38343314445898,
           66.40303428532606,
           62.89386743350061,
           67.38582310952505,
           79.28568345465933,
           75.86861903526865,
           124.72577969007857,
           126.09227964195136,
           70.27352226837209,
           72.74824861633452,
           69.72998220882982,
           65.01330784725917,
           68.2324904250298,
           69.22361562497366,
           54.018365408674626,
           47.46108686410489,
           44.237462758937845,
           43.71132765721619,
           43.382153416611025,
           42.554630280096276,
           43.35849172409681,
           43.87698597038038,
           40.89099566078429,
           41.12156196912733,
           83.48172660859427,
           82.70258834675302,
           76.3678612969027,
           76.88007790696655,
           75.81135463788164,
           77.16300136196953,
           83.46125149164259,
           79.24997721517649,
           79.37712679311052,
           82.89485392977738,
           88.51313882747401,
           89.80282718207748,
           102.76107311341673,
           98.77706277126738,
           86.93001784221084,
           75.1784361630811,
           65.06776133894509,
           74.17993637864002,
           73.65705721816911,
           70.43654930972544,
           67.90078172273597,
           74.27647987131252,
           79.91043520084163,
           80.87973406413334,
           81.03269494170354,
           87.866246863612
          ],
          "sizemode": "area",
          "sizeref": 0.2717915999791843,
          "symbol": "square"
         },
         "mode": "markers",
         "name": "SUZ",
         "scene": "scene",
         "showlegend": true,
         "type": "scatter3d",
         "x": [
          65.83710425254841,
          59.414399754789734,
          35.00904809728429,
          35.60613548372174,
          31.18259901148258,
          28.472366376426784,
          29.141069305182004,
          28.32044711045112,
          42.09016583914384,
          44.03367833906552,
          53.975456822177044,
          54.225636836884625,
          49.03784717000626,
          45.97046988069423,
          14.081827304639749,
          7.504092261904705,
          0.0001723619173622603,
          15.968150691900632,
          13.046585648148092,
          17.59121543173362,
          33.89444253662998,
          38.384755291005234,
          35.09015734438947,
          25.068809142246586,
          26.81886574074068,
          15.523354828042269,
          38.87133737544538,
          37.16528521590384,
          33.642989239557835,
          33.95748225787528,
          35.33026624299622,
          38.821548227823406,
          35.743670364430926,
          64.87778052473143,
          62.93932333635562,
          43.875616797771286,
          46.03207457079517,
          43.3925401790262,
          42.74354082150002,
          37.44222816252126,
          35.46870826049036,
          51.914652635048185,
          52.120495091982804,
          49.62446254000966,
          41.78100921359128,
          45.15056612762669,
          46.83122449545522,
          49.60727277251878,
          49.63415027771718,
          49.47982341320338,
          47.58463780156555,
          49.05022117372757,
          52.045673097115085,
          48.035121471731145,
          44.6150277808279,
          48.593143112627445,
          49.08258822354645,
          49.57438459416892,
          50.03078755286937,
          46.11813126163386,
          62.0084920430268,
          60.9157207472634,
          58.55488520352829,
          60.20551404955424,
          65.57835431362548,
          65.61947665969379,
          48.84506737394882,
          49.14984187016526,
          47.45771039980882,
          51.48249647683119,
          51.36847889274104,
          50.271720221384065,
          35.112074994411344,
          35.51869783475552,
          34.05752021167026,
          29.245169996771963,
          27.951298299793766,
          27.31985087742399,
          40.4047281196305,
          37.23856540080575,
          36.218845520204084,
          37.73574894955057,
          36.66041887208659,
          38.84861773257349,
          73.20024996543539,
          74.54878258731266,
          70.83955052405389,
          69.80476708758673,
          70.02776509278017,
          70.94500158167324,
          59.757785767471724,
          58.46404641082214,
          57.426622970238974,
          60.45110834582205,
          62.49792415133462,
          71.37419634755243,
          69.07592014265633,
          66.72106264640414,
          65.89035108054256,
          47.9144526795461,
          43.35588949635609,
          46.85695371673252,
          44.512165336785884,
          40.749520135521344,
          35.75517097989397,
          37.460802183960304,
          38.69272065448213,
          38.52518040324363,
          36.954958180173634,
          40.47410662212201
         ],
         "y": [
          101.49733409403711,
          98.37628017923491,
          78.19711520209522,
          72.5363413503072,
          76.79382037606578,
          74.56788811030198,
          74.93046879342779,
          76.59736748795305,
          98.30789788027643,
          102.45294606330447,
          84.02248337838779,
          78.94490126410943,
          77.59483411315665,
          76.35464498603238,
          71.28539380909902,
          null,
          null,
          472.383078211676,
          442.4246195418426,
          408.005798615716,
          105.60733930937396,
          114.10906485849941,
          104.20341480569596,
          21.262394879121242,
          18.702671865813123,
          null,
          124.4003620332586,
          120.60439387282725,
          122.37796676051563,
          123.70054537762152,
          121.29107899937503,
          122.73821494652539,
          86.28406963219845,
          90.49075813731629,
          91.16910489687906,
          121.12607022330769,
          106.35939137642917,
          99.9821393196269,
          100.11092037363404,
          87.57381688077612,
          85.30152852260609,
          91.87163509842512,
          97.0823247580546,
          99.30027681756889,
          111.06412816778648,
          106.62221381773374,
          98.43743322899388,
          92.23286326461078,
          86.05897946336937,
          90.82641213161943,
          86.62338176421333,
          83.8390913734789,
          89.04773641338176,
          98.18758235471704,
          96.59767883636934,
          93.11373338968393,
          92.342018325888,
          91.16819049937675,
          90.90317269025876,
          96.60943788283066,
          72.44657769561556,
          76.35631794149063,
          75.48255553512489,
          78.22032847908041,
          85.86756504981201,
          81.66209289472684,
          180.3091187553485,
          181.56861849109532,
          105.7121544712388,
          101.01053935301144,
          97.35547258092663,
          92.82059632935214,
          139.2609293909996,
          140.10064728980117,
          112.53230181707649,
          116.53731029732094,
          113.98340023544515,
          115.1266119909535,
          77.42963171299994,
          81.35443113363385,
          85.33627712877491,
          82.60486727543338,
          79.33687901288084,
          75.88332263722246,
          80.95741473871321,
          78.57921657153055,
          76.31002658503094,
          77.87142708389563,
          76.57994316172247,
          76.81347354031854,
          99.20661970198611,
          96.0328472938387,
          97.84301167690631,
          97.16478940638497,
          99.96378945638673,
          91.51625427163019,
          105.97604580135805,
          104.9267159070353,
          93.72194861531841,
          110.02361484361037,
          106.53013664138848,
          112.09865857593591,
          116.98479851568881,
          122.69459626262528,
          133.4962578667938,
          140.7820173116993,
          147.0311957960934,
          149.1521167299281,
          155.3849951979454,
          153.96186598848934
         ],
         "z": [
          66.86818703586312,
          59.130391902728746,
          27.566953136072307,
          25.771713241704365,
          23.32099777139642,
          20.85582781472949,
          21.487523407413544,
          21.54999019114282,
          41.179724806646504,
          44.89145550655239,
          45.674774587752296,
          43.32450043769408,
          37.69476364720323,
          34.83529975798595,
          19.62087621994884,
          7.007760466130119,
          3.552713678800501e-15,
          52.86092766356013,
          40.031804991367885,
          62.53640045259017,
          31.929305724578153,
          39.83610135603712,
          33.60321815247161,
          0.7992995203123547,
          1.8182248821268752,
          1.8955280730156614,
          48.39540005686895,
          44.82919137033381,
          41.14244791033846,
          41.987260318854034,
          42.651546292301624,
          47.542308808613015,
          30.384553486911393,
          58.373738515952226,
          57.02332229827526,
          53.47389201218316,
          50.20092241974187,
          45.19525831803129,
          44.66584809889065,
          32.90819363451266,
          30.251099866701303,
          46.894333545946076,
          49.67512955720578,
          48.41116310537481,
          46.46457401468503,
          47.67948555338009,
          45.01293567303015,
          45.7719234001826,
          42.70572897900732,
          45.039190841038604,
          41.20390434955752,
          41.201478450053116,
          46.68126204316958,
          47.40906866311212,
          43.22455552331246,
          45.57905649517275,
          45.668648570220725,
          45.63924265957754,
          45.923814217836366,
          36.12307748937271,
          45.662009322311334,
          47.09435055696884,
          44.605579740071356,
          47.79136390746457,
          56.230981173517264,
          53.80753123068699,
          88.45799978019757,
          89.42714868223501,
          49.83937749529936,
          51.594502564776256,
          49.453888091368675,
          46.108728969687355,
          48.3918371808722,
          49.09476285459125,
          38.31089745296073,
          33.660345293691414,
          31.374087063076487,
          31.000941600862546,
          30.767484692631935,
          30.180588851132114,
          30.750703350423272,
          31.118429766227223,
          29.000706142400208,
          29.164228346898817,
          59.20689830396757,
          58.654317976420586,
          54.16160375666859,
          54.52487794820323,
          53.766918182894784,
          54.72553288082946,
          59.19237694442737,
          56.20565759941595,
          56.29583460504293,
          58.79067654594141,
          62.77527576416597,
          63.68994835608332,
          72.88019369745868,
          70.05465444770736,
          61.652494923553796,
          53.31803983197241,
          46.14734846733695,
          52.60988395648229,
          52.239047672460366,
          49.95499951044357,
          48.15658278208225,
          52.678354518661365,
          56.674067518327405,
          57.36151352066195,
          57.4699964125557,
          62.31648713731348
         ]
        },
        {
         "hovertemplate": "Plant=SZX<br>Availability %=%{x}<br>Performance %=%{y}<br>OEE %=%{z}<br>size=%{marker.size}<extra></extra>",
         "legendgroup": "SZX",
         "marker": {
          "color": "#ab63fa",
          "size": [
           58.348051995219464,
           62.293722004791476,
           63.13930118457034,
           87.50070975129192,
           90.44209386590825,
           93.56203536422476
          ],
          "sizemode": "area",
          "sizeref": 0.2717915999791843,
          "symbol": "x"
         },
         "mode": "markers",
         "name": "SZX",
         "scene": "scene",
         "showlegend": true,
         "type": "scatter3d",
         "x": [
          77.01221342417546,
          76.14333461795579,
          77.61149427767286,
          72.50338060386726,
          74.28557914124917,
          75.25629052862723
         ],
         "y": [
          61.030059459055174,
          65.87921925107611,
          64.9403108846081,
          86.88813427091173,
          87.51174437438321,
          89.38507544526306
         ],
         "z": [
          41.38159715973012,
          44.17994468424928,
          44.77964623019174,
          62.05724095836307,
          64.14332898291366,
          66.35605344980479
         ]
        },
        {
         "hovertemplate": "Plant=TRS<br>Availability %=%{x}<br>Performance %=%{y}<br>OEE %=%{z}<br>size=%{marker.size}<extra></extra>",
         "legendgroup": "TRS",
         "marker": {
          "color": "#FFA15A",
          "size": [
           53.573377979614875,
           58.3451826476596,
           53.57006868365055,
           44.941284653081574,
           42.31882355762602,
           48.16465222366164,
           58.82890452655002,
           53.271217505636365,
           58.61711635707166,
           62.32941227877356,
           59.61797875378693,
           63.103176028438156,
           59.92895825744029,
           39.18560670917071,
           54.35585155152417,
           54.02367619647483,
           43.61868496226219,
           49.58481834283329,
           57.07113359385071,
           54.57312304822837,
           55.37629934242029,
           51.92804848250177
          ],
          "sizemode": "area",
          "sizeref": 0.2717915999791843,
          "symbol": "cross"
         },
         "mode": "markers",
         "name": "TRS",
         "scene": "scene",
         "showlegend": true,
         "type": "scatter3d",
         "x": [
          39.90962365631482,
          44.283732371878834,
          41.12861543887026,
          37.731517276372514,
          36.096086378324436,
          39.26584589193641,
          43.97997547819715,
          36.90601093630634,
          55.85929363284349,
          57.87368760552896,
          53.1382566504629,
          48.160824411169344,
          48.88325723746543,
          33.903538491749856,
          40.308880971850925,
          40.76318377260081,
          38.32386954619459,
          43.42492744804681,
          46.41722564333591,
          46.17636223070261,
          45.363197998977775,
          42.79017912911573
         ],
         "y": [
          95.10183695883724,
          93.64177745123817,
          92.08624977835476,
          82.18581743682368,
          80.99060021232805,
          85.09108935875446,
          94.53385447458439,
          103.74240452148729,
          74.42027738766896,
          75.68285253722127,
          79.44465892983229,
          91.2074666268409,
          85.81171851785194,
          61.26506670952452,
          96.53413779476946,
          94.38024320209809,
          81.36887556579586,
          80.9489308539124,
          87.19604456930026,
          82.42470810373243,
          85.69036341480047,
          85.2402140453741
         ],
         "z": [
          37.99530353164176,
          41.37956216146071,
          37.99295651322734,
          31.87325152700821,
          30.01335004086952,
          34.15932781819975,
          41.72262732379434,
          37.78100532314636,
          41.572422948277776,
          44.2052569353004,
          42.28225443530988,
          44.7540255520838,
          42.50280727478035,
          27.791210432035967,
          38.550249327322106,
          38.31466396913109,
          30.93523756188808,
          35.16653783179666,
          40.47598127223455,
          38.704342587396006,
          39.273971164837086,
          36.828403179079274
         ]
        },
        {
         "hovertemplate": "Plant=VDR<br>Availability %=%{x}<br>Performance %=%{y}<br>OEE %=%{z}<br>size=%{marker.size}<extra></extra>",
         "legendgroup": "VDR",
         "marker": {
          "color": "#19d3f3",
          "size": [
           61.44235068286203,
           63.8297813833005,
           62.103452611111145,
           55.59813038888892,
           42.78876616511032
          ],
          "sizemode": "area",
          "sizeref": 0.2717915999791843,
          "symbol": "circle"
         },
         "mode": "markers",
         "name": "VDR",
         "scene": "scene",
         "showlegend": true,
         "type": "scatter3d",
         "x": [
          38.22193732935595,
          43.19281187971567,
          42.30863822751317,
          38.64298842592587,
          35.64306629553635
         ],
         "y": [
          117.39173884191229,
          109.75157577156736,
          107.6913520993549,
          103.59294945266524,
          90.53579681722114
         ],
         "z": [
          43.57613523607236,
          45.269348498794685,
          44.04500185185188,
          39.43129814814817,
          30.346642670291008
         ]
        },
        {
         "hovertemplate": "Plant=WAT<br>Availability %=%{x}<br>Performance %=%{y}<br>OEE %=%{z}<br>size=%{marker.size}<extra></extra>",
         "legendgroup": "WAT",
         "marker": {
          "color": "#FF6692",
          "size": [
           91.39702546774848,
           108.05521428475389,
           102.75557776799832,
           108.72352956353603,
           118.5368655631299,
           63.502995991017556,
           63.596126751572776,
           60.83912775266938,
           56.18188137819551,
           63.53474175574325,
           65.2541590561012,
           1577.2909555941783,
           1739.4662398667795,
           1650.4837696286845,
           1651.378621378577,
           11.189840819071534,
           16.121797452325573,
           18.60494001278363,
           19.566004047939337,
           23.81518184460616,
           23.54533778032808,
           31.360757929439274,
           37.31269386305481,
           43.19852821570597,
           47.24214007013893
          ],
          "sizemode": "area",
          "sizeref": 0.2717915999791843,
          "symbol": "diamond"
         },
         "mode": "markers",
         "name": "WAT",
         "scene": "scene",
         "showlegend": true,
         "type": "scatter3d",
         "x": [
          8.327866239068012,
          17.50021644505175,
          17.80437721108835,
          19.742386771082877,
          20.61950502681607,
          49.139265148692786,
          37.12866555864723,
          38.74929909191057,
          36.76876258406996,
          40.31190672258569,
          41.50947087916693,
          42.49791303743057,
          41.796130952380885,
          43.00434027777771,
          37.64741044359121,
          35.87653133367641,
          23.114669862484853,
          14.507621142328578,
          8.435608037657676,
          9.895520536235022,
          29.012684403572024,
          23.663587877891256,
          22.711536880108554,
          20.307420905953144,
          23.726559578466425
         ],
         "y": [
          823.650583367953,
          661.5830476264048,
          607.661298057211,
          496.08704055504734,
          510.0771387433575,
          91.17309959563228,
          118.31844941466612,
          111.05604242357158,
          109.45251144805304,
          114.13109246138664,
          113.23655538909716,
          2877.9305631539937,
          3237.05234626743,
          3016.149778369918,
          3023.0357646672933,
          65.69341833304532,
          93.28789315717674,
          129.05804599345845,
          184.23536179746665,
          185.05560377617712,
          76.91637827214467,
          104.1533938738917,
          126.3474374654146,
          164.66071353059544,
          156.21018757483426
         ],
         "z": [
          64.8205854381195,
          76.63490374805241,
          72.87629628936051,
          77.10888621527378,
          84.0686989809432,
          45.03758580923231,
          45.10363599402325,
          43.14831755508467,
          39.84530594198264,
          45.06010053598812,
          46.279545429859006,
          1118.6460677972896,
          1233.6639999055174,
          1170.5558649848826,
          1171.1905116160121,
          7.93605731849045,
          11.433898902358564,
          13.194992916867822,
          13.876598615559814,
          16.890199889791603,
          16.69882112080006,
          22.241672290382464,
          26.462903448975045,
          30.63725405369218,
          33.50506387953116
         ]
        }
       ],
       "layout": {
        "height": 600,
        "legend": {
         "itemsizing": "constant",
         "title": {
          "text": "Plant"
         },
         "tracegroupgap": 0
        },
        "margin": {
         "b": 0,
         "l": 0,
         "r": 0,
         "t": 0
        },
        "scene": {
         "domain": {
          "x": [
           0,
           1
          ],
          "y": [
           0,
           1
          ]
         },
         "xaxis": {
          "range": [
           0,
           100
          ],
          "title": {
           "text": "Availability %"
          }
         },
         "yaxis": {
          "range": [
           0,
           100
          ],
          "title": {
           "text": "Performance %"
          }
         },
         "zaxis": {
          "range": [
           0,
           100
          ],
          "title": {
           "text": "OEE %"
          }
         }
        },
        "template": {
         "data": {
          "bar": [
           {
            "error_x": {
             "color": "#2a3f5f"
            },
            "error_y": {
             "color": "#2a3f5f"
            },
            "marker": {
             "line": {
              "color": "#E5ECF6",
              "width": 0.5
             },
             "pattern": {
              "fillmode": "overlay",
              "size": 10,
              "solidity": 0.2
             }
            },
            "type": "bar"
           }
          ],
          "barpolar": [
           {
            "marker": {
             "line": {
              "color": "#E5ECF6",
              "width": 0.5
             },
             "pattern": {
              "fillmode": "overlay",
              "size": 10,
              "solidity": 0.2
             }
            },
            "type": "barpolar"
           }
          ],
          "carpet": [
           {
            "aaxis": {
             "endlinecolor": "#2a3f5f",
             "gridcolor": "white",
             "linecolor": "white",
             "minorgridcolor": "white",
             "startlinecolor": "#2a3f5f"
            },
            "baxis": {
             "endlinecolor": "#2a3f5f",
             "gridcolor": "white",
             "linecolor": "white",
             "minorgridcolor": "white",
             "startlinecolor": "#2a3f5f"
            },
            "type": "carpet"
           }
          ],
          "choropleth": [
           {
            "colorbar": {
             "outlinewidth": 0,
             "ticks": ""
            },
            "type": "choropleth"
           }
          ],
          "contour": [
           {
            "colorbar": {
             "outlinewidth": 0,
             "ticks": ""
            },
            "colorscale": [
             [
              0,
              "#0d0887"
             ],
             [
              0.1111111111111111,
              "#46039f"
             ],
             [
              0.2222222222222222,
              "#7201a8"
             ],
             [
              0.3333333333333333,
              "#9c179e"
             ],
             [
              0.4444444444444444,
              "#bd3786"
             ],
             [
              0.5555555555555556,
              "#d8576b"
             ],
             [
              0.6666666666666666,
              "#ed7953"
             ],
             [
              0.7777777777777778,
              "#fb9f3a"
             ],
             [
              0.8888888888888888,
              "#fdca26"
             ],
             [
              1,
              "#f0f921"
             ]
            ],
            "type": "contour"
           }
          ],
          "contourcarpet": [
           {
            "colorbar": {
             "outlinewidth": 0,
             "ticks": ""
            },
            "type": "contourcarpet"
           }
          ],
          "heatmap": [
           {
            "colorbar": {
             "outlinewidth": 0,
             "ticks": ""
            },
            "colorscale": [
             [
              0,
              "#0d0887"
             ],
             [
              0.1111111111111111,
              "#46039f"
             ],
             [
              0.2222222222222222,
              "#7201a8"
             ],
             [
              0.3333333333333333,
              "#9c179e"
             ],
             [
              0.4444444444444444,
              "#bd3786"
             ],
             [
              0.5555555555555556,
              "#d8576b"
             ],
             [
              0.6666666666666666,
              "#ed7953"
             ],
             [
              0.7777777777777778,
              "#fb9f3a"
             ],
             [
              0.8888888888888888,
              "#fdca26"
             ],
             [
              1,
              "#f0f921"
             ]
            ],
            "type": "heatmap"
           }
          ],
          "heatmapgl": [
           {
            "colorbar": {
             "outlinewidth": 0,
             "ticks": ""
            },
            "colorscale": [
             [
              0,
              "#0d0887"
             ],
             [
              0.1111111111111111,
              "#46039f"
             ],
             [
              0.2222222222222222,
              "#7201a8"
             ],
             [
              0.3333333333333333,
              "#9c179e"
             ],
             [
              0.4444444444444444,
              "#bd3786"
             ],
             [
              0.5555555555555556,
              "#d8576b"
             ],
             [
              0.6666666666666666,
              "#ed7953"
             ],
             [
              0.7777777777777778,
              "#fb9f3a"
             ],
             [
              0.8888888888888888,
              "#fdca26"
             ],
             [
              1,
              "#f0f921"
             ]
            ],
            "type": "heatmapgl"
           }
          ],
          "histogram": [
           {
            "marker": {
             "pattern": {
              "fillmode": "overlay",
              "size": 10,
              "solidity": 0.2
             }
            },
            "type": "histogram"
           }
          ],
          "histogram2d": [
           {
            "colorbar": {
             "outlinewidth": 0,
             "ticks": ""
            },
            "colorscale": [
             [
              0,
              "#0d0887"
             ],
             [
              0.1111111111111111,
              "#46039f"
             ],
             [
              0.2222222222222222,
              "#7201a8"
             ],
             [
              0.3333333333333333,
              "#9c179e"
             ],
             [
              0.4444444444444444,
              "#bd3786"
             ],
             [
              0.5555555555555556,
              "#d8576b"
             ],
             [
              0.6666666666666666,
              "#ed7953"
             ],
             [
              0.7777777777777778,
              "#fb9f3a"
             ],
             [
              0.8888888888888888,
              "#fdca26"
             ],
             [
              1,
              "#f0f921"
             ]
            ],
            "type": "histogram2d"
           }
          ],
          "histogram2dcontour": [
           {
            "colorbar": {
             "outlinewidth": 0,
             "ticks": ""
            },
            "colorscale": [
             [
              0,
              "#0d0887"
             ],
             [
              0.1111111111111111,
              "#46039f"
             ],
             [
              0.2222222222222222,
              "#7201a8"
             ],
             [
              0.3333333333333333,
              "#9c179e"
             ],
             [
              0.4444444444444444,
              "#bd3786"
             ],
             [
              0.5555555555555556,
              "#d8576b"
             ],
             [
              0.6666666666666666,
              "#ed7953"
             ],
             [
              0.7777777777777778,
              "#fb9f3a"
             ],
             [
              0.8888888888888888,
              "#fdca26"
             ],
             [
              1,
              "#f0f921"
             ]
            ],
            "type": "histogram2dcontour"
           }
          ],
          "mesh3d": [
           {
            "colorbar": {
             "outlinewidth": 0,
             "ticks": ""
            },
            "type": "mesh3d"
           }
          ],
          "parcoords": [
           {
            "line": {
             "colorbar": {
              "outlinewidth": 0,
              "ticks": ""
             }
            },
            "type": "parcoords"
           }
          ],
          "pie": [
           {
            "automargin": true,
            "type": "pie"
           }
          ],
          "scatter": [
           {
            "marker": {
             "colorbar": {
              "outlinewidth": 0,
              "ticks": ""
             }
            },
            "type": "scatter"
           }
          ],
          "scatter3d": [
           {
            "line": {
             "colorbar": {
              "outlinewidth": 0,
              "ticks": ""
             }
            },
            "marker": {
             "colorbar": {
              "outlinewidth": 0,
              "ticks": ""
             }
            },
            "type": "scatter3d"
           }
          ],
          "scattercarpet": [
           {
            "marker": {
             "colorbar": {
              "outlinewidth": 0,
              "ticks": ""
             }
            },
            "type": "scattercarpet"
           }
          ],
          "scattergeo": [
           {
            "marker": {
             "colorbar": {
              "outlinewidth": 0,
              "ticks": ""
             }
            },
            "type": "scattergeo"
           }
          ],
          "scattergl": [
           {
            "marker": {
             "colorbar": {
              "outlinewidth": 0,
              "ticks": ""
             }
            },
            "type": "scattergl"
           }
          ],
          "scattermapbox": [
           {
            "marker": {
             "colorbar": {
              "outlinewidth": 0,
              "ticks": ""
             }
            },
            "type": "scattermapbox"
           }
          ],
          "scatterpolar": [
           {
            "marker": {
             "colorbar": {
              "outlinewidth": 0,
              "ticks": ""
             }
            },
            "type": "scatterpolar"
           }
          ],
          "scatterpolargl": [
           {
            "marker": {
             "colorbar": {
              "outlinewidth": 0,
              "ticks": ""
             }
            },
            "type": "scatterpolargl"
           }
          ],
          "scatterternary": [
           {
            "marker": {
             "colorbar": {
              "outlinewidth": 0,
              "ticks": ""
             }
            },
            "type": "scatterternary"
           }
          ],
          "surface": [
           {
            "colorbar": {
             "outlinewidth": 0,
             "ticks": ""
            },
            "colorscale": [
             [
              0,
              "#0d0887"
             ],
             [
              0.1111111111111111,
              "#46039f"
             ],
             [
              0.2222222222222222,
              "#7201a8"
             ],
             [
              0.3333333333333333,
              "#9c179e"
             ],
             [
              0.4444444444444444,
              "#bd3786"
             ],
             [
              0.5555555555555556,
              "#d8576b"
             ],
             [
              0.6666666666666666,
              "#ed7953"
             ],
             [
              0.7777777777777778,
              "#fb9f3a"
             ],
             [
              0.8888888888888888,
              "#fdca26"
             ],
             [
              1,
              "#f0f921"
             ]
            ],
            "type": "surface"
           }
          ],
          "table": [
           {
            "cells": {
             "fill": {
              "color": "#EBF0F8"
             },
             "line": {
              "color": "white"
             }
            },
            "header": {
             "fill": {
              "color": "#C8D4E3"
             },
             "line": {
              "color": "white"
             }
            },
            "type": "table"
           }
          ]
         },
         "layout": {
          "annotationdefaults": {
           "arrowcolor": "#2a3f5f",
           "arrowhead": 0,
           "arrowwidth": 1
          },
          "autotypenumbers": "strict",
          "coloraxis": {
           "colorbar": {
            "outlinewidth": 0,
            "ticks": ""
           }
          },
          "colorscale": {
           "diverging": [
            [
             0,
             "#8e0152"
            ],
            [
             0.1,
             "#c51b7d"
            ],
            [
             0.2,
             "#de77ae"
            ],
            [
             0.3,
             "#f1b6da"
            ],
            [
             0.4,
             "#fde0ef"
            ],
            [
             0.5,
             "#f7f7f7"
            ],
            [
             0.6,
             "#e6f5d0"
            ],
            [
             0.7,
             "#b8e186"
            ],
            [
             0.8,
             "#7fbc41"
            ],
            [
             0.9,
             "#4d9221"
            ],
            [
             1,
             "#276419"
            ]
           ],
           "sequential": [
            [
             0,
             "#0d0887"
            ],
            [
             0.1111111111111111,
             "#46039f"
            ],
            [
             0.2222222222222222,
             "#7201a8"
            ],
            [
             0.3333333333333333,
             "#9c179e"
            ],
            [
             0.4444444444444444,
             "#bd3786"
            ],
            [
             0.5555555555555556,
             "#d8576b"
            ],
            [
             0.6666666666666666,
             "#ed7953"
            ],
            [
             0.7777777777777778,
             "#fb9f3a"
            ],
            [
             0.8888888888888888,
             "#fdca26"
            ],
            [
             1,
             "#f0f921"
            ]
           ],
           "sequentialminus": [
            [
             0,
             "#0d0887"
            ],
            [
             0.1111111111111111,
             "#46039f"
            ],
            [
             0.2222222222222222,
             "#7201a8"
            ],
            [
             0.3333333333333333,
             "#9c179e"
            ],
            [
             0.4444444444444444,
             "#bd3786"
            ],
            [
             0.5555555555555556,
             "#d8576b"
            ],
            [
             0.6666666666666666,
             "#ed7953"
            ],
            [
             0.7777777777777778,
             "#fb9f3a"
            ],
            [
             0.8888888888888888,
             "#fdca26"
            ],
            [
             1,
             "#f0f921"
            ]
           ]
          },
          "colorway": [
           "#636efa",
           "#EF553B",
           "#00cc96",
           "#ab63fa",
           "#FFA15A",
           "#19d3f3",
           "#FF6692",
           "#B6E880",
           "#FF97FF",
           "#FECB52"
          ],
          "font": {
           "color": "#2a3f5f"
          },
          "geo": {
           "bgcolor": "white",
           "lakecolor": "white",
           "landcolor": "#E5ECF6",
           "showlakes": true,
           "showland": true,
           "subunitcolor": "white"
          },
          "hoverlabel": {
           "align": "left"
          },
          "hovermode": "closest",
          "mapbox": {
           "style": "light"
          },
          "paper_bgcolor": "white",
          "plot_bgcolor": "#E5ECF6",
          "polar": {
           "angularaxis": {
            "gridcolor": "white",
            "linecolor": "white",
            "ticks": ""
           },
           "bgcolor": "#E5ECF6",
           "radialaxis": {
            "gridcolor": "white",
            "linecolor": "white",
            "ticks": ""
           }
          },
          "scene": {
           "xaxis": {
            "backgroundcolor": "#E5ECF6",
            "gridcolor": "white",
            "gridwidth": 2,
            "linecolor": "white",
            "showbackground": true,
            "ticks": "",
            "zerolinecolor": "white"
           },
           "yaxis": {
            "backgroundcolor": "#E5ECF6",
            "gridcolor": "white",
            "gridwidth": 2,
            "linecolor": "white",
            "showbackground": true,
            "ticks": "",
            "zerolinecolor": "white"
           },
           "zaxis": {
            "backgroundcolor": "#E5ECF6",
            "gridcolor": "white",
            "gridwidth": 2,
            "linecolor": "white",
            "showbackground": true,
            "ticks": "",
            "zerolinecolor": "white"
           }
          },
          "shapedefaults": {
           "line": {
            "color": "#2a3f5f"
           }
          },
          "ternary": {
           "aaxis": {
            "gridcolor": "white",
            "linecolor": "white",
            "ticks": ""
           },
           "baxis": {
            "gridcolor": "white",
            "linecolor": "white",
            "ticks": ""
           },
           "bgcolor": "#E5ECF6",
           "caxis": {
            "gridcolor": "white",
            "linecolor": "white",
            "ticks": ""
           }
          },
          "title": {
           "x": 0.05
          },
          "xaxis": {
           "automargin": true,
           "gridcolor": "white",
           "linecolor": "white",
           "ticks": "",
           "title": {
            "standoff": 15
           },
           "zerolinecolor": "white",
           "zerolinewidth": 2
          },
          "yaxis": {
           "automargin": true,
           "gridcolor": "white",
           "linecolor": "white",
           "ticks": "",
           "title": {
            "standoff": 15
           },
           "zerolinecolor": "white",
           "zerolinewidth": 2
          }
         }
        },
        "width": 600
       }
      }
     },
     "metadata": {},
     "output_type": "display_data"
    }
   ],
   "source": [
    "x = active_rolling['Availability %']\n",
    "y = active_rolling['Performance %']\n",
    "z = active_rolling['OEE %']\n",
    "colors = active_rolling.Plant\n",
    "\n",
    "fig = px.scatter_3d(active_rolling, x=x, y=y, z=z\n",
    "    , color='Plant'\n",
    "    # , color = x\n",
    "    , range_x=(0,100)\n",
    "    , range_y=(0,100)\n",
    "    , range_z=(0,100)\n",
    "    , width=600\n",
    "    , height=600\n",
    "    , size=z*1.41\n",
    "    , size_max=80\n",
    "    , symbol='Plant')\n",
    "\n",
    "# tight layout\n",
    "fig.update_layout(margin=dict(l=0, r=0, b=0, t=0))\n",
    "\n",
    "fig.show()\n",
    "\n"
   ]
  },
  {
   "cell_type": "code",
   "execution_count": 230,
   "metadata": {},
   "outputs": [],
   "source": [
    "folder = 'OEE data'\n",
    "\n",
    "\n",
    "file = ('Duration_of_Changeover.xlsx')\n",
    "\n",
    "path = os.path.join(dir_sanofi_share, folder, file)\n",
    "                    \n",
    "df_duration = pd.read_excel(path,  parse_dates=['Calendar Day'])\n",
    "\n"
   ]
  },
  {
   "cell_type": "code",
   "execution_count": 236,
   "metadata": {},
   "outputs": [],
   "source": [
    "race_site_list = [\n",
    "'SCO - IMA C80/2',\n",
    "'SCO - GAMMA1',\n",
    "'MAF - C9 Packaging Line',\n",
    "'FRA - Devices Pens, AL6',\n",
    "'MAF - C2 Packaging Line',\n",
    "'FRA - Devices Pens, AL5 Packaging 1',\n",
    "'SUZ - LINE 01 - UHLMANN 1880',\n",
    "'FRA - FF NLP, M22 Filling',\n",
    "'TRS - L18 Packaging Line',\n",
    "'SUZ - MEDISEAL PURAN',\n",
    "'FRA - FF NLP, M21 Filling',\n",
    "'TRS - L25 Packaging Line',\n",
    "'LLB - IMA-2 Packaging (SOLD)',\n",
    "'FRA - FF NLP, M18 Filling',\n",
    "'LLB - Bosch-2 Packaging (SOLD)',\n",
    "'LTR - C5 Packaging Line',\n",
    "'LSX - SUPPO Packaging Line',\n",
    "'LSX - TR200 Packaging Line'\n",
    "]"
   ]
  },
  {
   "cell_type": "code",
   "execution_count": 248,
   "metadata": {},
   "outputs": [],
   "source": [
    "race = df_duration[df_duration.Line.isin(race_site_list)]"
   ]
  },
  {
   "cell_type": "code",
   "execution_count": 255,
   "metadata": {},
   "outputs": [],
   "source": [
    "race = race.merge(active_rolling, left_on=['Line','Calendar Day'], right_on=['Line', 'Date'])"
   ]
  },
  {
   "cell_type": "code",
   "execution_count": 257,
   "metadata": {},
   "outputs": [
    {
     "data": {
      "text/html": [
       "<div>\n",
       "<style scoped>\n",
       "    .dataframe tbody tr th:only-of-type {\n",
       "        vertical-align: middle;\n",
       "    }\n",
       "\n",
       "    .dataframe tbody tr th {\n",
       "        vertical-align: top;\n",
       "    }\n",
       "\n",
       "    .dataframe thead th {\n",
       "        text-align: right;\n",
       "    }\n",
       "</style>\n",
       "<table border=\"1\" class=\"dataframe\">\n",
       "  <thead>\n",
       "    <tr style=\"text-align: right;\">\n",
       "      <th></th>\n",
       "      <th>Line</th>\n",
       "      <th>Calendar Day</th>\n",
       "      <th>Duration (min)</th>\n",
       "      <th>Date</th>\n",
       "      <th>OEE %</th>\n",
       "      <th>Performance %</th>\n",
       "      <th>Availability %</th>\n",
       "      <th>Plant</th>\n",
       "    </tr>\n",
       "  </thead>\n",
       "  <tbody>\n",
       "    <tr>\n",
       "      <th>0</th>\n",
       "      <td>FRA - Devices Pens, AL6</td>\n",
       "      <td>2021-11-21</td>\n",
       "      <td>01:06:09</td>\n",
       "      <td>2021-11-21</td>\n",
       "      <td>44.510369</td>\n",
       "      <td>73.440117</td>\n",
       "      <td>60.515781</td>\n",
       "      <td>FRA</td>\n",
       "    </tr>\n",
       "    <tr>\n",
       "      <th>1</th>\n",
       "      <td>FRA - FF NLP, M21 Filling</td>\n",
       "      <td>2021-11-07</td>\n",
       "      <td>1900-01-01 00:00:00</td>\n",
       "      <td>2021-11-07</td>\n",
       "      <td>68.592390</td>\n",
       "      <td>92.049638</td>\n",
       "      <td>74.499964</td>\n",
       "      <td>FRA</td>\n",
       "    </tr>\n",
       "    <tr>\n",
       "      <th>2</th>\n",
       "      <td>FRA - FF NLP, M21 Filling</td>\n",
       "      <td>2021-11-21</td>\n",
       "      <td>03:02:17</td>\n",
       "      <td>2021-11-21</td>\n",
       "      <td>59.883008</td>\n",
       "      <td>90.140194</td>\n",
       "      <td>65.459608</td>\n",
       "      <td>FRA</td>\n",
       "    </tr>\n",
       "    <tr>\n",
       "      <th>3</th>\n",
       "      <td>FRA - FF NLP, M22 Filling</td>\n",
       "      <td>2021-11-07</td>\n",
       "      <td>1900-01-01 00:00:00</td>\n",
       "      <td>2021-11-07</td>\n",
       "      <td>57.828479</td>\n",
       "      <td>88.806964</td>\n",
       "      <td>64.781476</td>\n",
       "      <td>FRA</td>\n",
       "    </tr>\n",
       "  </tbody>\n",
       "</table>\n",
       "</div>"
      ],
      "text/plain": [
       "                        Line Calendar Day       Duration (min)       Date  \\\n",
       "0    FRA - Devices Pens, AL6   2021-11-21             01:06:09 2021-11-21   \n",
       "1  FRA - FF NLP, M21 Filling   2021-11-07  1900-01-01 00:00:00 2021-11-07   \n",
       "2  FRA - FF NLP, M21 Filling   2021-11-21             03:02:17 2021-11-21   \n",
       "3  FRA - FF NLP, M22 Filling   2021-11-07  1900-01-01 00:00:00 2021-11-07   \n",
       "\n",
       "       OEE %  Performance %  Availability % Plant  \n",
       "0  44.510369      73.440117       60.515781   FRA  \n",
       "1  68.592390      92.049638       74.499964   FRA  \n",
       "2  59.883008      90.140194       65.459608   FRA  \n",
       "3  57.828479      88.806964       64.781476   FRA  "
      ]
     },
     "execution_count": 257,
     "metadata": {},
     "output_type": "execute_result"
    }
   ],
   "source": [
    "race"
   ]
  },
  {
   "cell_type": "code",
   "execution_count": 374,
   "metadata": {},
   "outputs": [
    {
     "data": {
      "text/html": [
       "<div>\n",
       "<style scoped>\n",
       "    .dataframe tbody tr th:only-of-type {\n",
       "        vertical-align: middle;\n",
       "    }\n",
       "\n",
       "    .dataframe tbody tr th {\n",
       "        vertical-align: top;\n",
       "    }\n",
       "\n",
       "    .dataframe thead th {\n",
       "        text-align: right;\n",
       "    }\n",
       "</style>\n",
       "<table border=\"1\" class=\"dataframe\">\n",
       "  <thead>\n",
       "    <tr style=\"text-align: right;\">\n",
       "      <th></th>\n",
       "      <th>Line</th>\n",
       "      <th>Calendar Day</th>\n",
       "      <th>Duration (min)</th>\n",
       "      <th>Date</th>\n",
       "      <th>OEE %</th>\n",
       "      <th>Performance %</th>\n",
       "      <th>Availability %</th>\n",
       "      <th>Plant</th>\n",
       "    </tr>\n",
       "  </thead>\n",
       "  <tbody>\n",
       "    <tr>\n",
       "      <th>0</th>\n",
       "      <td>FRA - Devices Pens, AL6</td>\n",
       "      <td>2021-11-21</td>\n",
       "      <td>01:06:09</td>\n",
       "      <td>2021-11-21</td>\n",
       "      <td>44.510369</td>\n",
       "      <td>73.440117</td>\n",
       "      <td>60.515781</td>\n",
       "      <td>FRA</td>\n",
       "    </tr>\n",
       "    <tr>\n",
       "      <th>1</th>\n",
       "      <td>FRA - FF NLP, M21 Filling</td>\n",
       "      <td>2021-11-07</td>\n",
       "      <td>1900-01-01 00:00:00</td>\n",
       "      <td>2021-11-07</td>\n",
       "      <td>68.592390</td>\n",
       "      <td>92.049638</td>\n",
       "      <td>74.499964</td>\n",
       "      <td>FRA</td>\n",
       "    </tr>\n",
       "    <tr>\n",
       "      <th>2</th>\n",
       "      <td>FRA - FF NLP, M21 Filling</td>\n",
       "      <td>2021-11-21</td>\n",
       "      <td>03:02:17</td>\n",
       "      <td>2021-11-21</td>\n",
       "      <td>59.883008</td>\n",
       "      <td>90.140194</td>\n",
       "      <td>65.459608</td>\n",
       "      <td>FRA</td>\n",
       "    </tr>\n",
       "    <tr>\n",
       "      <th>3</th>\n",
       "      <td>FRA - FF NLP, M22 Filling</td>\n",
       "      <td>2021-11-07</td>\n",
       "      <td>1900-01-01 00:00:00</td>\n",
       "      <td>2021-11-07</td>\n",
       "      <td>57.828479</td>\n",
       "      <td>88.806964</td>\n",
       "      <td>64.781476</td>\n",
       "      <td>FRA</td>\n",
       "    </tr>\n",
       "  </tbody>\n",
       "</table>\n",
       "</div>"
      ],
      "text/plain": [
       "                        Line Calendar Day       Duration (min)       Date  \\\n",
       "0    FRA - Devices Pens, AL6   2021-11-21             01:06:09 2021-11-21   \n",
       "1  FRA - FF NLP, M21 Filling   2021-11-07  1900-01-01 00:00:00 2021-11-07   \n",
       "2  FRA - FF NLP, M21 Filling   2021-11-21             03:02:17 2021-11-21   \n",
       "3  FRA - FF NLP, M22 Filling   2021-11-07  1900-01-01 00:00:00 2021-11-07   \n",
       "\n",
       "       OEE %  Performance %  Availability % Plant  \n",
       "0  44.510369      73.440117       60.515781   FRA  \n",
       "1  68.592390      92.049638       74.499964   FRA  \n",
       "2  59.883008      90.140194       65.459608   FRA  \n",
       "3  57.828479      88.806964       64.781476   FRA  "
      ]
     },
     "execution_count": 374,
     "metadata": {},
     "output_type": "execute_result"
    }
   ],
   "source": [
    "race"
   ]
  },
  {
   "cell_type": "code",
   "execution_count": null,
   "metadata": {},
   "outputs": [],
   "source": []
  }
 ],
 "metadata": {
  "interpreter": {
   "hash": "dc38ca91b741400ca81ff193f73ec074f6545a5dbac62412cc25190e340b3fbc"
  },
  "kernelspec": {
   "display_name": "Python 3",
   "language": "python",
   "name": "python3"
  },
  "language_info": {
   "codemirror_mode": {
    "name": "ipython",
    "version": 3
   },
   "file_extension": ".py",
   "mimetype": "text/x-python",
   "name": "python",
   "nbconvert_exporter": "python",
   "pygments_lexer": "ipython3",
   "version": "3.9.9"
  }
 },
 "nbformat": 4,
 "nbformat_minor": 2
}
