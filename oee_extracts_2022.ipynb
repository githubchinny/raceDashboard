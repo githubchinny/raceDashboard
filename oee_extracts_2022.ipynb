{
 "cells": [
  {
   "cell_type": "code",
   "execution_count": 1,
   "metadata": {},
   "outputs": [],
   "source": [
    "import pandas as pd\n",
    "import numpy as np\n",
    "\n",
    "# data viz\n",
    "import plotly.express as px\n",
    "import matplotlib.pyplot as plt\n",
    "import plotly.graph_objects as go\n",
    "\n",
    "plt.style.use('fivethirtyeight')\n",
    "\n",
    "import os\n",
    "import datetime\n",
    "\n",
    "import set_config"
   ]
  },
  {
   "cell_type": "code",
   "execution_count": 3,
   "metadata": {},
   "outputs": [],
   "source": [
    "filename = 'oee_extracts_all_sites2.xlsx'\n",
    "dir = 'C:/Users/mark_/Sanofi/Sanofi x McLaren sharing - General/Data Analysis'\n",
    "path = os.path.join(dir, filename)\n",
    "df = pd.read_excel(path, na_values=('-'))"
   ]
  },
  {
   "cell_type": "markdown",
   "metadata": {},
   "source": [
    "Drop rows with null Week "
   ]
  },
  {
   "cell_type": "code",
   "execution_count": 4,
   "metadata": {},
   "outputs": [],
   "source": [
    "df.dropna(subset={'Week'}, inplace=True)\n",
    "df[['OEE %','Changeover','Availability %','Performance %', 'Quality %']] = df[['OEE %','Changeover','Availability %','Performance %', 'Quality %']].mul(100)"
   ]
  },
  {
   "cell_type": "markdown",
   "metadata": {},
   "source": [
    "Create a real data from the week number"
   ]
  },
  {
   "cell_type": "code",
   "execution_count": 5,
   "metadata": {},
   "outputs": [
    {
     "data": {
      "text/html": [
       "<div>\n",
       "<style scoped>\n",
       "    .dataframe tbody tr th:only-of-type {\n",
       "        vertical-align: middle;\n",
       "    }\n",
       "\n",
       "    .dataframe tbody tr th {\n",
       "        vertical-align: top;\n",
       "    }\n",
       "\n",
       "    .dataframe thead th {\n",
       "        text-align: right;\n",
       "    }\n",
       "</style>\n",
       "<table border=\"1\" class=\"dataframe\">\n",
       "  <thead>\n",
       "    <tr style=\"text-align: right;\">\n",
       "      <th></th>\n",
       "      <th>Week</th>\n",
       "      <th>Line</th>\n",
       "      <th>OEE %</th>\n",
       "      <th>Changeover</th>\n",
       "      <th>Unplanned_tech_loss</th>\n",
       "      <th>Availability %</th>\n",
       "      <th>Performance %</th>\n",
       "      <th>Quality %</th>\n",
       "      <th>Net Time</th>\n",
       "      <th>Net Opening Time</th>\n",
       "      <th>Scheduled Down Time</th>\n",
       "      <th>Useful Time</th>\n",
       "      <th>Operating Time</th>\n",
       "      <th>Duration (min)</th>\n",
       "      <th>WeekOfYear</th>\n",
       "      <th>Year</th>\n",
       "      <th>Date</th>\n",
       "    </tr>\n",
       "  </thead>\n",
       "  <tbody>\n",
       "    <tr>\n",
       "      <th>24</th>\n",
       "      <td>W01-2020</td>\n",
       "      <td>LSX - 1030 Packaging Line</td>\n",
       "      <td>51.963834</td>\n",
       "      <td>7.009009</td>\n",
       "      <td>0.212359</td>\n",
       "      <td>71.102124</td>\n",
       "      <td>73.083378</td>\n",
       "      <td>100.000000</td>\n",
       "      <td>17:40:03.733000</td>\n",
       "      <td>34.000000</td>\n",
       "      <td>134.000000</td>\n",
       "      <td>17:40:03.733000</td>\n",
       "      <td>1900-01-01 00:10:29</td>\n",
       "      <td>589.516667</td>\n",
       "      <td>1</td>\n",
       "      <td>2020</td>\n",
       "      <td>2020-01-12</td>\n",
       "    </tr>\n",
       "    <tr>\n",
       "      <th>25</th>\n",
       "      <td>W01-2020</td>\n",
       "      <td>LSX - 1070-1 Packaging Line</td>\n",
       "      <td>35.919900</td>\n",
       "      <td>6.247921</td>\n",
       "      <td>0.470711</td>\n",
       "      <td>47.417234</td>\n",
       "      <td>76.242102</td>\n",
       "      <td>99.358277</td>\n",
       "      <td>13:17:08.958000</td>\n",
       "      <td>36.750000</td>\n",
       "      <td>131.250000</td>\n",
       "      <td>13:12:02.028000</td>\n",
       "      <td>17:25:33</td>\n",
       "      <td>1159.450000</td>\n",
       "      <td>1</td>\n",
       "      <td>2020</td>\n",
       "      <td>2020-01-12</td>\n",
       "    </tr>\n",
       "    <tr>\n",
       "      <th>26</th>\n",
       "      <td>W01-2020</td>\n",
       "      <td>LSX - 1070-2 Packaging Line</td>\n",
       "      <td>3.129890</td>\n",
       "      <td>0.000000</td>\n",
       "      <td>0.000000</td>\n",
       "      <td>100.000000</td>\n",
       "      <td>3.129890</td>\n",
       "      <td>100.000000</td>\n",
       "      <td>00:22:32.113000</td>\n",
       "      <td>12.000000</td>\n",
       "      <td>156.000000</td>\n",
       "      <td>00:22:32.113000</td>\n",
       "      <td>12:00:00</td>\n",
       "      <td>0.000000</td>\n",
       "      <td>1</td>\n",
       "      <td>2020</td>\n",
       "      <td>2020-01-12</td>\n",
       "    </tr>\n",
       "    <tr>\n",
       "      <th>27</th>\n",
       "      <td>W01-2020</td>\n",
       "      <td>LSX - C65-1 Packaging Line</td>\n",
       "      <td>39.046651</td>\n",
       "      <td>13.997290</td>\n",
       "      <td>0.296680</td>\n",
       "      <td>60.164860</td>\n",
       "      <td>64.967799</td>\n",
       "      <td>99.894764</td>\n",
       "      <td>04:48:28.071000</td>\n",
       "      <td>12.300000</td>\n",
       "      <td>155.700000</td>\n",
       "      <td>04:48:09.857000</td>\n",
       "      <td>07:24:01</td>\n",
       "      <td>293.983333</td>\n",
       "      <td>1</td>\n",
       "      <td>2020</td>\n",
       "      <td>2020-01-12</td>\n",
       "    </tr>\n",
       "    <tr>\n",
       "      <th>28</th>\n",
       "      <td>W01-2020</td>\n",
       "      <td>LSX - C65-2 Packaging Line</td>\n",
       "      <td>15.830116</td>\n",
       "      <td>8.909910</td>\n",
       "      <td>0.137793</td>\n",
       "      <td>70.655405</td>\n",
       "      <td>22.404678</td>\n",
       "      <td>100.000000</td>\n",
       "      <td>01:57:08.571000</td>\n",
       "      <td>12.333333</td>\n",
       "      <td>155.666667</td>\n",
       "      <td>01:57:08.571000</td>\n",
       "      <td>08:42:51</td>\n",
       "      <td>217.150000</td>\n",
       "      <td>1</td>\n",
       "      <td>2020</td>\n",
       "      <td>2020-01-12</td>\n",
       "    </tr>\n",
       "  </tbody>\n",
       "</table>\n",
       "</div>"
      ],
      "text/plain": [
       "        Week                         Line      OEE %  Changeover  \\\n",
       "24  W01-2020    LSX - 1030 Packaging Line  51.963834    7.009009   \n",
       "25  W01-2020  LSX - 1070-1 Packaging Line  35.919900    6.247921   \n",
       "26  W01-2020  LSX - 1070-2 Packaging Line   3.129890    0.000000   \n",
       "27  W01-2020   LSX - C65-1 Packaging Line  39.046651   13.997290   \n",
       "28  W01-2020   LSX - C65-2 Packaging Line  15.830116    8.909910   \n",
       "\n",
       "    Unplanned_tech_loss  Availability %  Performance %   Quality %  \\\n",
       "24             0.212359       71.102124      73.083378  100.000000   \n",
       "25             0.470711       47.417234      76.242102   99.358277   \n",
       "26             0.000000      100.000000       3.129890  100.000000   \n",
       "27             0.296680       60.164860      64.967799   99.894764   \n",
       "28             0.137793       70.655405      22.404678  100.000000   \n",
       "\n",
       "           Net Time  Net Opening Time  Scheduled Down Time      Useful Time  \\\n",
       "24  17:40:03.733000         34.000000           134.000000  17:40:03.733000   \n",
       "25  13:17:08.958000         36.750000           131.250000  13:12:02.028000   \n",
       "26  00:22:32.113000         12.000000           156.000000  00:22:32.113000   \n",
       "27  04:48:28.071000         12.300000           155.700000  04:48:09.857000   \n",
       "28  01:57:08.571000         12.333333           155.666667  01:57:08.571000   \n",
       "\n",
       "         Operating Time  Duration (min)  WeekOfYear  Year       Date  \n",
       "24  1900-01-01 00:10:29      589.516667           1  2020 2020-01-12  \n",
       "25             17:25:33     1159.450000           1  2020 2020-01-12  \n",
       "26             12:00:00        0.000000           1  2020 2020-01-12  \n",
       "27             07:24:01      293.983333           1  2020 2020-01-12  \n",
       "28             08:42:51      217.150000           1  2020 2020-01-12  "
      ]
     },
     "execution_count": 5,
     "metadata": {},
     "output_type": "execute_result"
    }
   ],
   "source": [
    "df['WeekOfYear'] = pd.to_numeric(df['Week'].str[1:3])\n",
    "df['Year'] = pd.to_numeric(df['Week'].str[4:])\n",
    "dates = df.Year*100+df.WeekOfYear\n",
    "df['Date'] = pd.to_datetime(dates.astype(str) + '0', format='%Y%W%w')\n",
    "df.head()"
   ]
  },
  {
   "cell_type": "markdown",
   "metadata": {},
   "source": [
    "Drop null WeekOfYear because the data obviously isn't valid"
   ]
  },
  {
   "cell_type": "code",
   "execution_count": 6,
   "metadata": {},
   "outputs": [
    {
     "data": {
      "text/html": [
       "<div>\n",
       "<style scoped>\n",
       "    .dataframe tbody tr th:only-of-type {\n",
       "        vertical-align: middle;\n",
       "    }\n",
       "\n",
       "    .dataframe tbody tr th {\n",
       "        vertical-align: top;\n",
       "    }\n",
       "\n",
       "    .dataframe thead th {\n",
       "        text-align: right;\n",
       "    }\n",
       "</style>\n",
       "<table border=\"1\" class=\"dataframe\">\n",
       "  <thead>\n",
       "    <tr style=\"text-align: right;\">\n",
       "      <th></th>\n",
       "      <th>Week</th>\n",
       "      <th>Line</th>\n",
       "      <th>OEE %</th>\n",
       "      <th>Changeover</th>\n",
       "      <th>Unplanned_tech_loss</th>\n",
       "      <th>Availability %</th>\n",
       "      <th>Performance %</th>\n",
       "      <th>Quality %</th>\n",
       "      <th>Net Time</th>\n",
       "      <th>Net Opening Time</th>\n",
       "      <th>Scheduled Down Time</th>\n",
       "      <th>Useful Time</th>\n",
       "      <th>Operating Time</th>\n",
       "      <th>Duration (min)</th>\n",
       "      <th>WeekOfYear</th>\n",
       "      <th>Year</th>\n",
       "      <th>Date</th>\n",
       "    </tr>\n",
       "  </thead>\n",
       "  <tbody>\n",
       "    <tr>\n",
       "      <th>24</th>\n",
       "      <td>W01-2020</td>\n",
       "      <td>LSX - 1030 Packaging Line</td>\n",
       "      <td>51.963834</td>\n",
       "      <td>7.009009</td>\n",
       "      <td>0.212359</td>\n",
       "      <td>71.102124</td>\n",
       "      <td>73.083378</td>\n",
       "      <td>100.000000</td>\n",
       "      <td>17:40:03.733000</td>\n",
       "      <td>34.000000</td>\n",
       "      <td>134.000000</td>\n",
       "      <td>17:40:03.733000</td>\n",
       "      <td>1900-01-01 00:10:29</td>\n",
       "      <td>589.516667</td>\n",
       "      <td>1</td>\n",
       "      <td>2020</td>\n",
       "      <td>2020-01-12</td>\n",
       "    </tr>\n",
       "    <tr>\n",
       "      <th>25</th>\n",
       "      <td>W01-2020</td>\n",
       "      <td>LSX - 1070-1 Packaging Line</td>\n",
       "      <td>35.919900</td>\n",
       "      <td>6.247921</td>\n",
       "      <td>0.470711</td>\n",
       "      <td>47.417234</td>\n",
       "      <td>76.242102</td>\n",
       "      <td>99.358277</td>\n",
       "      <td>13:17:08.958000</td>\n",
       "      <td>36.750000</td>\n",
       "      <td>131.250000</td>\n",
       "      <td>13:12:02.028000</td>\n",
       "      <td>17:25:33</td>\n",
       "      <td>1159.450000</td>\n",
       "      <td>1</td>\n",
       "      <td>2020</td>\n",
       "      <td>2020-01-12</td>\n",
       "    </tr>\n",
       "    <tr>\n",
       "      <th>26</th>\n",
       "      <td>W01-2020</td>\n",
       "      <td>LSX - 1070-2 Packaging Line</td>\n",
       "      <td>3.129890</td>\n",
       "      <td>0.000000</td>\n",
       "      <td>0.000000</td>\n",
       "      <td>100.000000</td>\n",
       "      <td>3.129890</td>\n",
       "      <td>100.000000</td>\n",
       "      <td>00:22:32.113000</td>\n",
       "      <td>12.000000</td>\n",
       "      <td>156.000000</td>\n",
       "      <td>00:22:32.113000</td>\n",
       "      <td>12:00:00</td>\n",
       "      <td>0.000000</td>\n",
       "      <td>1</td>\n",
       "      <td>2020</td>\n",
       "      <td>2020-01-12</td>\n",
       "    </tr>\n",
       "    <tr>\n",
       "      <th>27</th>\n",
       "      <td>W01-2020</td>\n",
       "      <td>LSX - C65-1 Packaging Line</td>\n",
       "      <td>39.046651</td>\n",
       "      <td>13.997290</td>\n",
       "      <td>0.296680</td>\n",
       "      <td>60.164860</td>\n",
       "      <td>64.967799</td>\n",
       "      <td>99.894764</td>\n",
       "      <td>04:48:28.071000</td>\n",
       "      <td>12.300000</td>\n",
       "      <td>155.700000</td>\n",
       "      <td>04:48:09.857000</td>\n",
       "      <td>07:24:01</td>\n",
       "      <td>293.983333</td>\n",
       "      <td>1</td>\n",
       "      <td>2020</td>\n",
       "      <td>2020-01-12</td>\n",
       "    </tr>\n",
       "    <tr>\n",
       "      <th>28</th>\n",
       "      <td>W01-2020</td>\n",
       "      <td>LSX - C65-2 Packaging Line</td>\n",
       "      <td>15.830116</td>\n",
       "      <td>8.909910</td>\n",
       "      <td>0.137793</td>\n",
       "      <td>70.655405</td>\n",
       "      <td>22.404678</td>\n",
       "      <td>100.000000</td>\n",
       "      <td>01:57:08.571000</td>\n",
       "      <td>12.333333</td>\n",
       "      <td>155.666667</td>\n",
       "      <td>01:57:08.571000</td>\n",
       "      <td>08:42:51</td>\n",
       "      <td>217.150000</td>\n",
       "      <td>1</td>\n",
       "      <td>2020</td>\n",
       "      <td>2020-01-12</td>\n",
       "    </tr>\n",
       "    <tr>\n",
       "      <th>...</th>\n",
       "      <td>...</td>\n",
       "      <td>...</td>\n",
       "      <td>...</td>\n",
       "      <td>...</td>\n",
       "      <td>...</td>\n",
       "      <td>...</td>\n",
       "      <td>...</td>\n",
       "      <td>...</td>\n",
       "      <td>...</td>\n",
       "      <td>...</td>\n",
       "      <td>...</td>\n",
       "      <td>...</td>\n",
       "      <td>...</td>\n",
       "      <td>...</td>\n",
       "      <td>...</td>\n",
       "      <td>...</td>\n",
       "      <td>...</td>\n",
       "    </tr>\n",
       "    <tr>\n",
       "      <th>9152</th>\n",
       "      <td>W53-2020</td>\n",
       "      <td>TRS - L19 Packaging Line</td>\n",
       "      <td>NaN</td>\n",
       "      <td>NaN</td>\n",
       "      <td>NaN</td>\n",
       "      <td>NaN</td>\n",
       "      <td>NaN</td>\n",
       "      <td>100.000000</td>\n",
       "      <td>00:00:00.857000</td>\n",
       "      <td>0.000000</td>\n",
       "      <td>168.000000</td>\n",
       "      <td>00:00:00.857000</td>\n",
       "      <td>00:00:00</td>\n",
       "      <td>0.000000</td>\n",
       "      <td>53</td>\n",
       "      <td>2020</td>\n",
       "      <td>2021-01-10</td>\n",
       "    </tr>\n",
       "    <tr>\n",
       "      <th>9153</th>\n",
       "      <td>W53-2020</td>\n",
       "      <td>TRS - L21 Packaging Line</td>\n",
       "      <td>NaN</td>\n",
       "      <td>NaN</td>\n",
       "      <td>NaN</td>\n",
       "      <td>NaN</td>\n",
       "      <td>NaN</td>\n",
       "      <td>100.000000</td>\n",
       "      <td>00:00:03.333000</td>\n",
       "      <td>0.000000</td>\n",
       "      <td>168.000000</td>\n",
       "      <td>00:00:03.333000</td>\n",
       "      <td>00:00:00</td>\n",
       "      <td>0.000000</td>\n",
       "      <td>53</td>\n",
       "      <td>2020</td>\n",
       "      <td>2021-01-10</td>\n",
       "    </tr>\n",
       "    <tr>\n",
       "      <th>9154</th>\n",
       "      <td>W53-2020</td>\n",
       "      <td>TRS - L22 Packaging Line</td>\n",
       "      <td>NaN</td>\n",
       "      <td>NaN</td>\n",
       "      <td>NaN</td>\n",
       "      <td>NaN</td>\n",
       "      <td>NaN</td>\n",
       "      <td>NaN</td>\n",
       "      <td>00:00:00</td>\n",
       "      <td>0.000000</td>\n",
       "      <td>168.000000</td>\n",
       "      <td>00:00:00</td>\n",
       "      <td>00:00:00</td>\n",
       "      <td>0.000000</td>\n",
       "      <td>53</td>\n",
       "      <td>2020</td>\n",
       "      <td>2021-01-10</td>\n",
       "    </tr>\n",
       "    <tr>\n",
       "      <th>9155</th>\n",
       "      <td>W53-2020</td>\n",
       "      <td>TRS - L24 Packaging Line</td>\n",
       "      <td>NaN</td>\n",
       "      <td>NaN</td>\n",
       "      <td>NaN</td>\n",
       "      <td>NaN</td>\n",
       "      <td>NaN</td>\n",
       "      <td>100.000000</td>\n",
       "      <td>00:00:00.545000</td>\n",
       "      <td>0.000000</td>\n",
       "      <td>168.000000</td>\n",
       "      <td>00:00:00.545000</td>\n",
       "      <td>00:00:00</td>\n",
       "      <td>0.000000</td>\n",
       "      <td>53</td>\n",
       "      <td>2020</td>\n",
       "      <td>2021-01-10</td>\n",
       "    </tr>\n",
       "    <tr>\n",
       "      <th>9156</th>\n",
       "      <td>W53-2020</td>\n",
       "      <td>TRS - L25 Packaging Line</td>\n",
       "      <td>NaN</td>\n",
       "      <td>NaN</td>\n",
       "      <td>NaN</td>\n",
       "      <td>NaN</td>\n",
       "      <td>NaN</td>\n",
       "      <td>100.000000</td>\n",
       "      <td>00:00:00.375000</td>\n",
       "      <td>0.000000</td>\n",
       "      <td>168.000000</td>\n",
       "      <td>00:00:00.375000</td>\n",
       "      <td>00:00:00</td>\n",
       "      <td>0.000000</td>\n",
       "      <td>53</td>\n",
       "      <td>2020</td>\n",
       "      <td>2021-01-10</td>\n",
       "    </tr>\n",
       "  </tbody>\n",
       "</table>\n",
       "<p>9133 rows × 17 columns</p>\n",
       "</div>"
      ],
      "text/plain": [
       "          Week                         Line      OEE %  Changeover  \\\n",
       "24    W01-2020    LSX - 1030 Packaging Line  51.963834    7.009009   \n",
       "25    W01-2020  LSX - 1070-1 Packaging Line  35.919900    6.247921   \n",
       "26    W01-2020  LSX - 1070-2 Packaging Line   3.129890    0.000000   \n",
       "27    W01-2020   LSX - C65-1 Packaging Line  39.046651   13.997290   \n",
       "28    W01-2020   LSX - C65-2 Packaging Line  15.830116    8.909910   \n",
       "...        ...                          ...        ...         ...   \n",
       "9152  W53-2020     TRS - L19 Packaging Line        NaN         NaN   \n",
       "9153  W53-2020     TRS - L21 Packaging Line        NaN         NaN   \n",
       "9154  W53-2020     TRS - L22 Packaging Line        NaN         NaN   \n",
       "9155  W53-2020     TRS - L24 Packaging Line        NaN         NaN   \n",
       "9156  W53-2020     TRS - L25 Packaging Line        NaN         NaN   \n",
       "\n",
       "      Unplanned_tech_loss  Availability %  Performance %   Quality %  \\\n",
       "24               0.212359       71.102124      73.083378  100.000000   \n",
       "25               0.470711       47.417234      76.242102   99.358277   \n",
       "26               0.000000      100.000000       3.129890  100.000000   \n",
       "27               0.296680       60.164860      64.967799   99.894764   \n",
       "28               0.137793       70.655405      22.404678  100.000000   \n",
       "...                   ...             ...            ...         ...   \n",
       "9152                  NaN             NaN            NaN  100.000000   \n",
       "9153                  NaN             NaN            NaN  100.000000   \n",
       "9154                  NaN             NaN            NaN         NaN   \n",
       "9155                  NaN             NaN            NaN  100.000000   \n",
       "9156                  NaN             NaN            NaN  100.000000   \n",
       "\n",
       "             Net Time  Net Opening Time  Scheduled Down Time      Useful Time  \\\n",
       "24    17:40:03.733000         34.000000           134.000000  17:40:03.733000   \n",
       "25    13:17:08.958000         36.750000           131.250000  13:12:02.028000   \n",
       "26    00:22:32.113000         12.000000           156.000000  00:22:32.113000   \n",
       "27    04:48:28.071000         12.300000           155.700000  04:48:09.857000   \n",
       "28    01:57:08.571000         12.333333           155.666667  01:57:08.571000   \n",
       "...               ...               ...                  ...              ...   \n",
       "9152  00:00:00.857000          0.000000           168.000000  00:00:00.857000   \n",
       "9153  00:00:03.333000          0.000000           168.000000  00:00:03.333000   \n",
       "9154         00:00:00          0.000000           168.000000         00:00:00   \n",
       "9155  00:00:00.545000          0.000000           168.000000  00:00:00.545000   \n",
       "9156  00:00:00.375000          0.000000           168.000000  00:00:00.375000   \n",
       "\n",
       "           Operating Time  Duration (min)  WeekOfYear  Year       Date  \n",
       "24    1900-01-01 00:10:29      589.516667           1  2020 2020-01-12  \n",
       "25               17:25:33     1159.450000           1  2020 2020-01-12  \n",
       "26               12:00:00        0.000000           1  2020 2020-01-12  \n",
       "27               07:24:01      293.983333           1  2020 2020-01-12  \n",
       "28               08:42:51      217.150000           1  2020 2020-01-12  \n",
       "...                   ...             ...         ...   ...        ...  \n",
       "9152             00:00:00        0.000000          53  2020 2021-01-10  \n",
       "9153             00:00:00        0.000000          53  2020 2021-01-10  \n",
       "9154             00:00:00        0.000000          53  2020 2021-01-10  \n",
       "9155             00:00:00        0.000000          53  2020 2021-01-10  \n",
       "9156             00:00:00        0.000000          53  2020 2021-01-10  \n",
       "\n",
       "[9133 rows x 17 columns]"
      ]
     },
     "execution_count": 6,
     "metadata": {},
     "output_type": "execute_result"
    }
   ],
   "source": [
    "df.dropna(subset=['WeekOfYear'], inplace=True)\n",
    "df\n",
    "# df"
   ]
  },
  {
   "cell_type": "code",
   "execution_count": 7,
   "metadata": {},
   "outputs": [],
   "source": [
    "df.set_index('Date', inplace=True)\n",
    "df.sort_index(inplace=True)"
   ]
  },
  {
   "cell_type": "markdown",
   "metadata": {},
   "source": [
    "- Create a dataframe of the rolling_avg values using a 4 period window\n",
    "- Drop anything before the start date we want to use\n",
    "- Drop the null OEE % values because that site isn't recording valid eOEE - so assumed eOEE recording it not active for that site"
   ]
  },
  {
   "cell_type": "code",
   "execution_count": 8,
   "metadata": {
    "scrolled": true
   },
   "outputs": [],
   "source": [
    "rolling_avg = df.groupby('Line')[['OEE %','Performance %','Availability %', 'Quality %']].rolling(window=4).mean().reset_index()\n",
    "\n",
    "# keep the data after this start date\n",
    "start_date = '2021-11-01'\n",
    "\n",
    "rolling_avg = rolling_avg[rolling_avg.Date >= start_date]\n",
    "\n",
    "# keep only the lines actively reporting OEE \n",
    "active_rolling = rolling_avg.dropna(subset={'OEE %'}).copy()"
   ]
  },
  {
   "cell_type": "code",
   "execution_count": 9,
   "metadata": {},
   "outputs": [
    {
     "name": "stdout",
     "output_type": "stream",
     "text": [
      "Number of Unique Plants/Factories: 16\n",
      "Number of Unique Lines: 171\n",
      "Number of Unique Lines recording OEE % values: 171\n"
     ]
    }
   ],
   "source": [
    "print (\"Number of Unique Plants/Factories: {}\".format(len(active_rolling.Line.str[:3].unique())))\n",
    "print (\"Number of Unique Lines: {}\".format(len(active_rolling.Line.unique())))\n",
    "print (\"Number of Unique Lines recording OEE % values: {}\".format(len(active_rolling[active_rolling['OEE %'] > 0].Line.unique())))"
   ]
  },
  {
   "cell_type": "markdown",
   "metadata": {},
   "source": [
    "create a Plant column from first 3 chars of Line - currently Sanofi data is passing PLANT abbreviation through in the first 3 chars"
   ]
  },
  {
   "cell_type": "code",
   "execution_count": 10,
   "metadata": {},
   "outputs": [
    {
     "data": {
      "text/html": [
       "<div>\n",
       "<style scoped>\n",
       "    .dataframe tbody tr th:only-of-type {\n",
       "        vertical-align: middle;\n",
       "    }\n",
       "\n",
       "    .dataframe tbody tr th {\n",
       "        vertical-align: top;\n",
       "    }\n",
       "\n",
       "    .dataframe thead th {\n",
       "        text-align: right;\n",
       "    }\n",
       "</style>\n",
       "<table border=\"1\" class=\"dataframe\">\n",
       "  <thead>\n",
       "    <tr style=\"text-align: right;\">\n",
       "      <th></th>\n",
       "      <th>Line</th>\n",
       "      <th>Date</th>\n",
       "      <th>OEE %</th>\n",
       "      <th>Performance %</th>\n",
       "      <th>Availability %</th>\n",
       "      <th>Quality %</th>\n",
       "      <th>Plant</th>\n",
       "    </tr>\n",
       "  </thead>\n",
       "  <tbody>\n",
       "    <tr>\n",
       "      <th>24</th>\n",
       "      <td>ELB - Extraction B12 1st cycle</td>\n",
       "      <td>2021-11-07</td>\n",
       "      <td>79.533013</td>\n",
       "      <td>172.574119</td>\n",
       "      <td>47.490781</td>\n",
       "      <td>100.000000</td>\n",
       "      <td>ELB</td>\n",
       "    </tr>\n",
       "    <tr>\n",
       "      <th>25</th>\n",
       "      <td>ELB - Extraction B12 1st cycle</td>\n",
       "      <td>2021-11-14</td>\n",
       "      <td>82.036803</td>\n",
       "      <td>154.393102</td>\n",
       "      <td>53.593807</td>\n",
       "      <td>100.000000</td>\n",
       "      <td>ELB</td>\n",
       "    </tr>\n",
       "    <tr>\n",
       "      <th>26</th>\n",
       "      <td>ELB - Extraction B12 1st cycle</td>\n",
       "      <td>2021-11-21</td>\n",
       "      <td>85.537994</td>\n",
       "      <td>158.633616</td>\n",
       "      <td>54.358192</td>\n",
       "      <td>100.000000</td>\n",
       "      <td>ELB</td>\n",
       "    </tr>\n",
       "    <tr>\n",
       "      <th>27</th>\n",
       "      <td>ELB - Extraction B12 1st cycle</td>\n",
       "      <td>2021-11-28</td>\n",
       "      <td>71.608727</td>\n",
       "      <td>103.289031</td>\n",
       "      <td>32.086806</td>\n",
       "      <td>100.000000</td>\n",
       "      <td>ELB</td>\n",
       "    </tr>\n",
       "    <tr>\n",
       "      <th>28</th>\n",
       "      <td>ELB - Extraction B12 1st cycle</td>\n",
       "      <td>2021-12-05</td>\n",
       "      <td>57.727023</td>\n",
       "      <td>57.620507</td>\n",
       "      <td>-0.790096</td>\n",
       "      <td>100.000000</td>\n",
       "      <td>ELB</td>\n",
       "    </tr>\n",
       "    <tr>\n",
       "      <th>...</th>\n",
       "      <td>...</td>\n",
       "      <td>...</td>\n",
       "      <td>...</td>\n",
       "      <td>...</td>\n",
       "      <td>...</td>\n",
       "      <td>...</td>\n",
       "      <td>...</td>\n",
       "    </tr>\n",
       "    <tr>\n",
       "      <th>9125</th>\n",
       "      <td>WAT - LYO Packaging Line 9</td>\n",
       "      <td>2021-11-21</td>\n",
       "      <td>22.241672</td>\n",
       "      <td>104.153394</td>\n",
       "      <td>23.663588</td>\n",
       "      <td>94.774818</td>\n",
       "      <td>WAT</td>\n",
       "    </tr>\n",
       "    <tr>\n",
       "      <th>9126</th>\n",
       "      <td>WAT - LYO Packaging Line 9</td>\n",
       "      <td>2021-11-28</td>\n",
       "      <td>26.462903</td>\n",
       "      <td>126.347437</td>\n",
       "      <td>22.711537</td>\n",
       "      <td>94.364311</td>\n",
       "      <td>WAT</td>\n",
       "    </tr>\n",
       "    <tr>\n",
       "      <th>9127</th>\n",
       "      <td>WAT - LYO Packaging Line 9</td>\n",
       "      <td>2021-12-05</td>\n",
       "      <td>30.637254</td>\n",
       "      <td>164.660714</td>\n",
       "      <td>20.307421</td>\n",
       "      <td>94.987313</td>\n",
       "      <td>WAT</td>\n",
       "    </tr>\n",
       "    <tr>\n",
       "      <th>9128</th>\n",
       "      <td>WAT - LYO Packaging Line 9</td>\n",
       "      <td>2021-12-12</td>\n",
       "      <td>31.072512</td>\n",
       "      <td>152.580751</td>\n",
       "      <td>22.470949</td>\n",
       "      <td>95.569884</td>\n",
       "      <td>WAT</td>\n",
       "    </tr>\n",
       "    <tr>\n",
       "      <th>9129</th>\n",
       "      <td>WAT - LYO Packaging Line 9</td>\n",
       "      <td>2021-12-19</td>\n",
       "      <td>34.970994</td>\n",
       "      <td>157.110743</td>\n",
       "      <td>24.717635</td>\n",
       "      <td>94.629279</td>\n",
       "      <td>WAT</td>\n",
       "    </tr>\n",
       "  </tbody>\n",
       "</table>\n",
       "<p>913 rows × 7 columns</p>\n",
       "</div>"
      ],
      "text/plain": [
       "                                Line       Date      OEE %  Performance %  \\\n",
       "24    ELB - Extraction B12 1st cycle 2021-11-07  79.533013     172.574119   \n",
       "25    ELB - Extraction B12 1st cycle 2021-11-14  82.036803     154.393102   \n",
       "26    ELB - Extraction B12 1st cycle 2021-11-21  85.537994     158.633616   \n",
       "27    ELB - Extraction B12 1st cycle 2021-11-28  71.608727     103.289031   \n",
       "28    ELB - Extraction B12 1st cycle 2021-12-05  57.727023      57.620507   \n",
       "...                              ...        ...        ...            ...   \n",
       "9125      WAT - LYO Packaging Line 9 2021-11-21  22.241672     104.153394   \n",
       "9126      WAT - LYO Packaging Line 9 2021-11-28  26.462903     126.347437   \n",
       "9127      WAT - LYO Packaging Line 9 2021-12-05  30.637254     164.660714   \n",
       "9128      WAT - LYO Packaging Line 9 2021-12-12  31.072512     152.580751   \n",
       "9129      WAT - LYO Packaging Line 9 2021-12-19  34.970994     157.110743   \n",
       "\n",
       "      Availability %   Quality % Plant  \n",
       "24         47.490781  100.000000   ELB  \n",
       "25         53.593807  100.000000   ELB  \n",
       "26         54.358192  100.000000   ELB  \n",
       "27         32.086806  100.000000   ELB  \n",
       "28         -0.790096  100.000000   ELB  \n",
       "...              ...         ...   ...  \n",
       "9125       23.663588   94.774818   WAT  \n",
       "9126       22.711537   94.364311   WAT  \n",
       "9127       20.307421   94.987313   WAT  \n",
       "9128       22.470949   95.569884   WAT  \n",
       "9129       24.717635   94.629279   WAT  \n",
       "\n",
       "[913 rows x 7 columns]"
      ]
     },
     "execution_count": 10,
     "metadata": {},
     "output_type": "execute_result"
    }
   ],
   "source": [
    "\n",
    "active_rolling['Plant'] = active_rolling.Line.str[:3]\n",
    "active_rolling"
   ]
  },
  {
   "cell_type": "markdown",
   "metadata": {},
   "source": [
    "print out the metrics by Line and then by Plant"
   ]
  },
  {
   "cell_type": "code",
   "execution_count": 11,
   "metadata": {},
   "outputs": [
    {
     "data": {
      "application/vnd.plotly.v1+json": {
       "config": {
        "plotlyServerURL": "https://plot.ly"
       },
       "data": [
        {
         "alignmentgroup": "True",
         "hovertemplate": "Line=%{x}<br>OEE %=%{y}<extra></extra>",
         "legendgroup": "",
         "marker": {
          "color": "#636efa",
          "pattern": {
           "shape": ""
          }
         },
         "name": "",
         "offsetgroup": "",
         "orientation": "v",
         "showlegend": false,
         "textposition": "auto",
         "type": "bar",
         "x": [
          "WAT - LYO INSPECTION",
          "MAF - I4 Inspection Line",
          "SUZ - NEWMAN",
          "HZG - Blister packaging line 1",
          "MAF - I2 Inspection Line",
          "OCO - UHLMANN 1 Packaging Line",
          "SUZ - NIKKA",
          "HZG - Bottle Packaging line 7",
          "HZG - Bottle Packaging line 6",
          "SUZ - LINE 08 - BLISTERFLEX",
          "HZG - Blister packaging line 4",
          "SCO - IMA C80/2",
          "FRA - Devices AI, Semi 120-1 Assembly",
          "LSX - C65-2 Packaging Line",
          "HZG - Blister packaging line 2",
          "OCO - UHLMANN 2 Packaging Line",
          "LLB - Huttlin-1 Granulation",
          "LLB - IMA C95 Packaging (SOLD)",
          "LSX - SIG1 Packaging Line",
          "SZX - Packaging line 3",
          "MAF - R1 Filling Line",
          "LLB - Bosch-1 Packaging (CEPH)",
          "LLB - Bosch-2 Packaging (SOLD)",
          "MAF - C9 Packaging Line",
          "FRA - FF Packaging, VL56",
          "LSX - SIG2 Packaging Line",
          "LLB - Bosch-1 Packaging (PENC)",
          "HZG - Semi-automatic Packaging line",
          "FRA - FF NLP, M21 Filling",
          "RDG - H6 Syringe Filling Line",
          "FRA - FF NLP, M22 Filling",
          "MAF - I6 Inspection Line",
          "LSX - C65-1 Packaging Line",
          "FRA - FF NLP, M22 Inspection",
          "SCO - Gamma4",
          "SUZ - POMADAS",
          "FRA - FF NAPA, M48 Inspection",
          "SUZ - LINE 06 - MEDISEAL CP 600 COMBO",
          "LLB - Sarong Packaging (SSL)",
          "MAF - C3 Packaging Line",
          "WAT - AIL1 Packaging",
          "OCO - JARABES Packaging Line",
          "SUZ - LINE 02 - UHLMANN 1030",
          "WAT - AIL2 ASSEMBLY",
          "LLB - CP-3 Packaging (STRL)",
          "SUZ - IMA DERMACYD",
          "SUZ - FETTE 2090 IV",
          "SUZ - TARGIFOR",
          "LLB - SPREY Packaging (NSL)",
          "FRA - FF Packaging, VL50",
          "LSX - 1070-1 Packaging Line",
          "SUZ - BAUSCH",
          "SCO - IMA C80/1",
          "SCO - IMA C80/3",
          "OCO - PARTENA 3 Packaging Line",
          "FRA - FF NLP, M21 Inspection",
          "LLB - IMA-2 Packaging (SOLD)",
          "FRA - Devices Pens, AL2",
          "LLB - Uhlmann Packaging (SOLD)",
          "FRA - Devices AI, EMA 20",
          "LLB - IMA-3 Packaging (SOLD)",
          "SUZ - STRUNK",
          "FRA - Devices Pens, AL3",
          "FRA - Devices Pens, AL4",
          "SUZ - MEDISEAL PURAN",
          "MAF - R4 Filling Line",
          "LLB - TFS-30 Packaging (SSL)",
          "SUZ - GRON.DROPS/SPRAY",
          "SCO - GAMMA1",
          "LSX - 1030 Packaging Line",
          "LSX - TR200 Packaging Line",
          "FRA - Devices Pens, AL1",
          "LSX - SUPPO Packaging Line",
          "LSX - 1070-2 Packaging Line",
          "SUZ - LINE 04 - BOSCH TLT 1400",
          "LLB - Bosch-3 Packaging (SOLD)",
          "HZG - Blister packaging line 3",
          "FRA - FF NAPA, M24 Inspection",
          "OCO - SUSPENSIONES Packaging Line",
          "SUZ - EYE DROPS OPTIMA",
          "SCO - PART92",
          "SCO - U3",
          "LLB - Bosch-1 Packaging (SOLD)",
          "OCO - MELOX Packaging Line",
          "SUZ - LINE 03 - MEDISEAL CP600",
          "FRA - Devices AI, Semi 120-1 Labeling",
          "SUZ - LINE 07 - UPS300",
          "SCO - PAR102",
          "LSX - IWK Packaging Line",
          "MAF - C2 Packaging Line",
          "TRS - L15 Packaging Line",
          "OCO - C90 Packaging Line",
          "FRA - FF Packaging, VL9",
          "RDG - Synvisc Packaging Line",
          "LTR - C2 Packaging Line",
          "LLB - CP-2 Packaging (STRL)",
          "LLB - IMA-4 Packaging (SOLD)",
          "LTR - C8 Packaging line",
          "FRA - FF NAPA, M31 Inspection",
          "FRA - Devices Pens, AL6",
          "WAT - AIL2 Packaging",
          "MAF - C5 Packaging Line",
          "SUZ - FETTE 3090 I",
          "SCO - IMA C80/4",
          "TRS - L24 Packaging Line",
          "MAF - C4 Packaging Line",
          "SCO - GAMMA3",
          "TRS - L17 Packaging Line",
          "FRA - FF Packaging, HV01",
          "MAF - C6 Packaging Line",
          "TRS - L18 Packaging Line",
          "LLB - IMA-1 Packaging (NSL)",
          "TRS - L19 Packaging Line",
          "SUZ - LINE 10 - BOTTLES LINE",
          "WAT - LYO Packaging Line 9",
          "SUZ - FARCON",
          "OCO - MEDISEAL Packaging Line",
          "SUZ - LINE 05 - SOLIDS IMA LINE",
          "LTR - C6 Packaging line",
          "VDR - K32_1",
          "LTR - C7 Packaging line",
          "OCO - LACTACYD Packaging Line",
          "LTR - C9 Packaging line",
          "MAF - R5 Filling Line",
          "SCO - GAMMA2",
          "FRA - Devices Pens, AL5 Packaging 1",
          "TRS - L25 Packaging Line",
          "LLB - IMA-1 Packaging (SOLD)",
          "SUZ - GRON.SYRUP",
          "SUZ - LINE 01 - UHLMANN 1880",
          "FRA - Devices Pens, AL5 Packaging 2",
          "SUZ - MARCHESINI",
          "OCO - PARTENA 1 Packaging Line",
          "FRA - FF NAPA, M46 Filling",
          "LLB - IMA-2 Packaging (NSL)",
          "SUZ - EFERVESCENT CEWIN",
          "FRA - Devices AI, Semi 120-1 Packaging",
          "TRS - L21 Packaging Line",
          "FRA - FF Packaging, VL47",
          "ELB - FERMENTATION E10",
          "FRA - Devices AI, FDLE",
          "FRA - FF NAPA, M53 Filling",
          "FRA - FF Packaging, VL44",
          "LTR - L647 Bio-Tech Packaging",
          "MLE - P2A1",
          "FRA - Pharma, M26 Filling",
          "WAT - LYO Packaging Line 3",
          "LTR - C10 Packaging Line",
          "FRA - FF Packaging, VL32",
          "LTR - Optima Assembling Machine",
          "ELB - Extraction B12 1st cycle",
          "ELB - FERMENTATION E08",
          "FRA - Devices Pens, AL5 Assembly",
          "FRA - Pharma, M52 Inspection",
          "FRA - Pharma, M58 Inspection",
          "ELB - FERMENTATION E09",
          "FRA - FF Packaging, VL6",
          "ELB - FERMENTATION V09",
          "SCO - COLLE1",
          "FRA - FF Packaging, VL62",
          "ELB - FERMENTATION V08",
          "ELB - FERMENTATION E07",
          "SCO - Diosna 1",
          "SUZ - FETTE 3090 III",
          "ELB - FERMENTATION E05",
          "LTR - Corima Assembling Machine",
          "SCO - COLLE2",
          "SCO - Diosna 2",
          "SUZ - FETTE 2090 I",
          "ELB - FERMENTATION E06",
          "ELB - FERMENTATION E11"
         ],
         "xaxis": "x",
         "y": [
          159.20539155007663,
          77.80537776074212,
          77.70405802586443,
          75.94423558014029,
          73.59053740476743,
          73.06761856192838,
          73.05874335610386,
          72.20743654900463,
          71.80505806945419,
          70.98372015612034,
          69.94889856395793,
          68.32326344740692,
          67.47693468535708,
          66.47498050800058,
          66.39266699567493,
          66.17785016374663,
          65.62719207412405,
          65.3822278551083,
          64.93828565083513,
          64.03887974791508,
          62.92079573632254,
          62.83412850183922,
          61.421922141449144,
          61.4085081584511,
          60.94536682930938,
          60.794246819960065,
          60.780822015197,
          60.686904216578604,
          60.451553521501225,
          59.839713204654856,
          59.64022541589575,
          59.14861348518036,
          59.14063069585827,
          59.010787715988734,
          58.41453213757296,
          57.35612422560171,
          56.965647900761354,
          56.301792907038816,
          56.2824375659046,
          56.119011586464694,
          55.31519796928572,
          54.76907950802049,
          54.56826682793245,
          54.51116857737158,
          54.46212105892734,
          54.37099716377389,
          54.27710087541114,
          54.213914575440555,
          54.14817533838112,
          53.96821772138297,
          53.52428996441885,
          52.506637621620264,
          52.21618735647935,
          51.662277059842765,
          51.372361099166255,
          51.22692828341017,
          51.029607959854516,
          50.89482148963382,
          50.62622234800248,
          50.62009320761118,
          50.162687895242655,
          49.9549995104436,
          49.85689512833862,
          49.54945693271065,
          49.294835188648676,
          49.205350624129245,
          48.95356144781152,
          48.913699252109254,
          48.89668168290406,
          47.59552729111952,
          47.55126959639804,
          47.38317627460924,
          47.30660219287979,
          47.305519572280275,
          46.518856226843184,
          46.29242138063843,
          45.777585046180775,
          45.62395633399994,
          45.06539017883833,
          44.89145550655242,
          44.75966661689898,
          44.221248549375055,
          44.111929937776914,
          43.67710932013408,
          43.49919420161951,
          43.48483375326014,
          43.09709169465621,
          42.92779032459538,
          42.686243387197656,
          42.42481706424887,
          42.35135426766965,
          41.545871488738186,
          41.34101095840485,
          41.14045319760407,
          41.057523498536426,
          40.82175992754883,
          40.661704797751874,
          40.56239746354024,
          40.41093181721025,
          40.38676571895536,
          38.66789116281055,
          38.48669697587148,
          38.11109063120158,
          37.37946484192835,
          37.31011711664772,
          37.30288496043953,
          36.79304915880663,
          36.65745285782421,
          36.48511774876626,
          36.45585746277776,
          36.14272405389892,
          35.709779985297345,
          35.550956238788444,
          35.22563802577312,
          34.970994264980504,
          34.83529975798597,
          34.44198297760367,
          34.210577617828996,
          33.91524103399321,
          33.435912329016446,
          33.027204558078076,
          32.55198011357443,
          32.46609519831847,
          32.36401797718159,
          31.766233450210812,
          31.429094277642598,
          30.82291924882807,
          30.475200815198225,
          30.384553486911415,
          29.631046725033304,
          29.1553673022072,
          28.788506453799148,
          28.464024145093674,
          27.574573641642463,
          27.290159714047906,
          27.21849077519345,
          27.138734691870813,
          26.626991228505275,
          26.16629325722545,
          23.781740754812564,
          23.60667952470005,
          23.200313059800173,
          23.116583704309853,
          22.167584670094694,
          22.049109118477876,
          20.119911670378603,
          18.575952286291553,
          18.255920983467732,
          18.197636503376597,
          16.517374012345925,
          16.345606335754642,
          16.06155015197568,
          15.523730969542493,
          15.31819148311505,
          13.214755104576602,
          13.082779255319151,
          12.560423123688235,
          10.389734205304926,
          9.156654740725486,
          8.098887286786901,
          7.4212390611946555,
          3.1295117781155,
          2.0161388144002106,
          1.7347933219713987,
          1.7072551766717394,
          1.4389300344550429,
          3.552713678800501e-14,
          3.4638958368304884e-14,
          2.842170943040401e-14,
          0,
          0
         ],
         "yaxis": "y"
        }
       ],
       "layout": {
        "annotations": [
         {
          "showarrow": false,
          "text": "60% June 2022 Target",
          "x": 0,
          "xanchor": "left",
          "xref": "x domain",
          "y": 60,
          "yanchor": "top",
          "yref": "y"
         },
         {
          "showarrow": false,
          "text": "65% December 2022 Target",
          "x": 0,
          "xanchor": "left",
          "xref": "x domain",
          "y": 65,
          "yanchor": "top",
          "yref": "y"
         }
        ],
        "barmode": "relative",
        "legend": {
         "tracegroupgap": 0
        },
        "shapes": [
         {
          "line": {
           "dash": "dot"
          },
          "type": "line",
          "x0": 0,
          "x1": 1,
          "xref": "x domain",
          "y0": 60,
          "y1": 60,
          "yref": "y"
         },
         {
          "line": {
           "dash": "dot"
          },
          "type": "line",
          "x0": 0,
          "x1": 1,
          "xref": "x domain",
          "y0": 65,
          "y1": 65,
          "yref": "y"
         }
        ],
        "template": {
         "data": {
          "bar": [
           {
            "error_x": {
             "color": "#2a3f5f"
            },
            "error_y": {
             "color": "#2a3f5f"
            },
            "marker": {
             "line": {
              "color": "#E5ECF6",
              "width": 0.5
             },
             "pattern": {
              "fillmode": "overlay",
              "size": 10,
              "solidity": 0.2
             }
            },
            "type": "bar"
           }
          ],
          "barpolar": [
           {
            "marker": {
             "line": {
              "color": "#E5ECF6",
              "width": 0.5
             },
             "pattern": {
              "fillmode": "overlay",
              "size": 10,
              "solidity": 0.2
             }
            },
            "type": "barpolar"
           }
          ],
          "carpet": [
           {
            "aaxis": {
             "endlinecolor": "#2a3f5f",
             "gridcolor": "white",
             "linecolor": "white",
             "minorgridcolor": "white",
             "startlinecolor": "#2a3f5f"
            },
            "baxis": {
             "endlinecolor": "#2a3f5f",
             "gridcolor": "white",
             "linecolor": "white",
             "minorgridcolor": "white",
             "startlinecolor": "#2a3f5f"
            },
            "type": "carpet"
           }
          ],
          "choropleth": [
           {
            "colorbar": {
             "outlinewidth": 0,
             "ticks": ""
            },
            "type": "choropleth"
           }
          ],
          "contour": [
           {
            "colorbar": {
             "outlinewidth": 0,
             "ticks": ""
            },
            "colorscale": [
             [
              0,
              "#0d0887"
             ],
             [
              0.1111111111111111,
              "#46039f"
             ],
             [
              0.2222222222222222,
              "#7201a8"
             ],
             [
              0.3333333333333333,
              "#9c179e"
             ],
             [
              0.4444444444444444,
              "#bd3786"
             ],
             [
              0.5555555555555556,
              "#d8576b"
             ],
             [
              0.6666666666666666,
              "#ed7953"
             ],
             [
              0.7777777777777778,
              "#fb9f3a"
             ],
             [
              0.8888888888888888,
              "#fdca26"
             ],
             [
              1,
              "#f0f921"
             ]
            ],
            "type": "contour"
           }
          ],
          "contourcarpet": [
           {
            "colorbar": {
             "outlinewidth": 0,
             "ticks": ""
            },
            "type": "contourcarpet"
           }
          ],
          "heatmap": [
           {
            "colorbar": {
             "outlinewidth": 0,
             "ticks": ""
            },
            "colorscale": [
             [
              0,
              "#0d0887"
             ],
             [
              0.1111111111111111,
              "#46039f"
             ],
             [
              0.2222222222222222,
              "#7201a8"
             ],
             [
              0.3333333333333333,
              "#9c179e"
             ],
             [
              0.4444444444444444,
              "#bd3786"
             ],
             [
              0.5555555555555556,
              "#d8576b"
             ],
             [
              0.6666666666666666,
              "#ed7953"
             ],
             [
              0.7777777777777778,
              "#fb9f3a"
             ],
             [
              0.8888888888888888,
              "#fdca26"
             ],
             [
              1,
              "#f0f921"
             ]
            ],
            "type": "heatmap"
           }
          ],
          "heatmapgl": [
           {
            "colorbar": {
             "outlinewidth": 0,
             "ticks": ""
            },
            "colorscale": [
             [
              0,
              "#0d0887"
             ],
             [
              0.1111111111111111,
              "#46039f"
             ],
             [
              0.2222222222222222,
              "#7201a8"
             ],
             [
              0.3333333333333333,
              "#9c179e"
             ],
             [
              0.4444444444444444,
              "#bd3786"
             ],
             [
              0.5555555555555556,
              "#d8576b"
             ],
             [
              0.6666666666666666,
              "#ed7953"
             ],
             [
              0.7777777777777778,
              "#fb9f3a"
             ],
             [
              0.8888888888888888,
              "#fdca26"
             ],
             [
              1,
              "#f0f921"
             ]
            ],
            "type": "heatmapgl"
           }
          ],
          "histogram": [
           {
            "marker": {
             "pattern": {
              "fillmode": "overlay",
              "size": 10,
              "solidity": 0.2
             }
            },
            "type": "histogram"
           }
          ],
          "histogram2d": [
           {
            "colorbar": {
             "outlinewidth": 0,
             "ticks": ""
            },
            "colorscale": [
             [
              0,
              "#0d0887"
             ],
             [
              0.1111111111111111,
              "#46039f"
             ],
             [
              0.2222222222222222,
              "#7201a8"
             ],
             [
              0.3333333333333333,
              "#9c179e"
             ],
             [
              0.4444444444444444,
              "#bd3786"
             ],
             [
              0.5555555555555556,
              "#d8576b"
             ],
             [
              0.6666666666666666,
              "#ed7953"
             ],
             [
              0.7777777777777778,
              "#fb9f3a"
             ],
             [
              0.8888888888888888,
              "#fdca26"
             ],
             [
              1,
              "#f0f921"
             ]
            ],
            "type": "histogram2d"
           }
          ],
          "histogram2dcontour": [
           {
            "colorbar": {
             "outlinewidth": 0,
             "ticks": ""
            },
            "colorscale": [
             [
              0,
              "#0d0887"
             ],
             [
              0.1111111111111111,
              "#46039f"
             ],
             [
              0.2222222222222222,
              "#7201a8"
             ],
             [
              0.3333333333333333,
              "#9c179e"
             ],
             [
              0.4444444444444444,
              "#bd3786"
             ],
             [
              0.5555555555555556,
              "#d8576b"
             ],
             [
              0.6666666666666666,
              "#ed7953"
             ],
             [
              0.7777777777777778,
              "#fb9f3a"
             ],
             [
              0.8888888888888888,
              "#fdca26"
             ],
             [
              1,
              "#f0f921"
             ]
            ],
            "type": "histogram2dcontour"
           }
          ],
          "mesh3d": [
           {
            "colorbar": {
             "outlinewidth": 0,
             "ticks": ""
            },
            "type": "mesh3d"
           }
          ],
          "parcoords": [
           {
            "line": {
             "colorbar": {
              "outlinewidth": 0,
              "ticks": ""
             }
            },
            "type": "parcoords"
           }
          ],
          "pie": [
           {
            "automargin": true,
            "type": "pie"
           }
          ],
          "scatter": [
           {
            "marker": {
             "colorbar": {
              "outlinewidth": 0,
              "ticks": ""
             }
            },
            "type": "scatter"
           }
          ],
          "scatter3d": [
           {
            "line": {
             "colorbar": {
              "outlinewidth": 0,
              "ticks": ""
             }
            },
            "marker": {
             "colorbar": {
              "outlinewidth": 0,
              "ticks": ""
             }
            },
            "type": "scatter3d"
           }
          ],
          "scattercarpet": [
           {
            "marker": {
             "colorbar": {
              "outlinewidth": 0,
              "ticks": ""
             }
            },
            "type": "scattercarpet"
           }
          ],
          "scattergeo": [
           {
            "marker": {
             "colorbar": {
              "outlinewidth": 0,
              "ticks": ""
             }
            },
            "type": "scattergeo"
           }
          ],
          "scattergl": [
           {
            "marker": {
             "colorbar": {
              "outlinewidth": 0,
              "ticks": ""
             }
            },
            "type": "scattergl"
           }
          ],
          "scattermapbox": [
           {
            "marker": {
             "colorbar": {
              "outlinewidth": 0,
              "ticks": ""
             }
            },
            "type": "scattermapbox"
           }
          ],
          "scatterpolar": [
           {
            "marker": {
             "colorbar": {
              "outlinewidth": 0,
              "ticks": ""
             }
            },
            "type": "scatterpolar"
           }
          ],
          "scatterpolargl": [
           {
            "marker": {
             "colorbar": {
              "outlinewidth": 0,
              "ticks": ""
             }
            },
            "type": "scatterpolargl"
           }
          ],
          "scatterternary": [
           {
            "marker": {
             "colorbar": {
              "outlinewidth": 0,
              "ticks": ""
             }
            },
            "type": "scatterternary"
           }
          ],
          "surface": [
           {
            "colorbar": {
             "outlinewidth": 0,
             "ticks": ""
            },
            "colorscale": [
             [
              0,
              "#0d0887"
             ],
             [
              0.1111111111111111,
              "#46039f"
             ],
             [
              0.2222222222222222,
              "#7201a8"
             ],
             [
              0.3333333333333333,
              "#9c179e"
             ],
             [
              0.4444444444444444,
              "#bd3786"
             ],
             [
              0.5555555555555556,
              "#d8576b"
             ],
             [
              0.6666666666666666,
              "#ed7953"
             ],
             [
              0.7777777777777778,
              "#fb9f3a"
             ],
             [
              0.8888888888888888,
              "#fdca26"
             ],
             [
              1,
              "#f0f921"
             ]
            ],
            "type": "surface"
           }
          ],
          "table": [
           {
            "cells": {
             "fill": {
              "color": "#EBF0F8"
             },
             "line": {
              "color": "white"
             }
            },
            "header": {
             "fill": {
              "color": "#C8D4E3"
             },
             "line": {
              "color": "white"
             }
            },
            "type": "table"
           }
          ]
         },
         "layout": {
          "annotationdefaults": {
           "arrowcolor": "#2a3f5f",
           "arrowhead": 0,
           "arrowwidth": 1
          },
          "autotypenumbers": "strict",
          "coloraxis": {
           "colorbar": {
            "outlinewidth": 0,
            "ticks": ""
           }
          },
          "colorscale": {
           "diverging": [
            [
             0,
             "#8e0152"
            ],
            [
             0.1,
             "#c51b7d"
            ],
            [
             0.2,
             "#de77ae"
            ],
            [
             0.3,
             "#f1b6da"
            ],
            [
             0.4,
             "#fde0ef"
            ],
            [
             0.5,
             "#f7f7f7"
            ],
            [
             0.6,
             "#e6f5d0"
            ],
            [
             0.7,
             "#b8e186"
            ],
            [
             0.8,
             "#7fbc41"
            ],
            [
             0.9,
             "#4d9221"
            ],
            [
             1,
             "#276419"
            ]
           ],
           "sequential": [
            [
             0,
             "#0d0887"
            ],
            [
             0.1111111111111111,
             "#46039f"
            ],
            [
             0.2222222222222222,
             "#7201a8"
            ],
            [
             0.3333333333333333,
             "#9c179e"
            ],
            [
             0.4444444444444444,
             "#bd3786"
            ],
            [
             0.5555555555555556,
             "#d8576b"
            ],
            [
             0.6666666666666666,
             "#ed7953"
            ],
            [
             0.7777777777777778,
             "#fb9f3a"
            ],
            [
             0.8888888888888888,
             "#fdca26"
            ],
            [
             1,
             "#f0f921"
            ]
           ],
           "sequentialminus": [
            [
             0,
             "#0d0887"
            ],
            [
             0.1111111111111111,
             "#46039f"
            ],
            [
             0.2222222222222222,
             "#7201a8"
            ],
            [
             0.3333333333333333,
             "#9c179e"
            ],
            [
             0.4444444444444444,
             "#bd3786"
            ],
            [
             0.5555555555555556,
             "#d8576b"
            ],
            [
             0.6666666666666666,
             "#ed7953"
            ],
            [
             0.7777777777777778,
             "#fb9f3a"
            ],
            [
             0.8888888888888888,
             "#fdca26"
            ],
            [
             1,
             "#f0f921"
            ]
           ]
          },
          "colorway": [
           "#636efa",
           "#EF553B",
           "#00cc96",
           "#ab63fa",
           "#FFA15A",
           "#19d3f3",
           "#FF6692",
           "#B6E880",
           "#FF97FF",
           "#FECB52"
          ],
          "font": {
           "color": "#2a3f5f"
          },
          "geo": {
           "bgcolor": "white",
           "lakecolor": "white",
           "landcolor": "#E5ECF6",
           "showlakes": true,
           "showland": true,
           "subunitcolor": "white"
          },
          "hoverlabel": {
           "align": "left"
          },
          "hovermode": "closest",
          "mapbox": {
           "style": "light"
          },
          "paper_bgcolor": "white",
          "plot_bgcolor": "#E5ECF6",
          "polar": {
           "angularaxis": {
            "gridcolor": "white",
            "linecolor": "white",
            "ticks": ""
           },
           "bgcolor": "#E5ECF6",
           "radialaxis": {
            "gridcolor": "white",
            "linecolor": "white",
            "ticks": ""
           }
          },
          "scene": {
           "xaxis": {
            "backgroundcolor": "#E5ECF6",
            "gridcolor": "white",
            "gridwidth": 2,
            "linecolor": "white",
            "showbackground": true,
            "ticks": "",
            "zerolinecolor": "white"
           },
           "yaxis": {
            "backgroundcolor": "#E5ECF6",
            "gridcolor": "white",
            "gridwidth": 2,
            "linecolor": "white",
            "showbackground": true,
            "ticks": "",
            "zerolinecolor": "white"
           },
           "zaxis": {
            "backgroundcolor": "#E5ECF6",
            "gridcolor": "white",
            "gridwidth": 2,
            "linecolor": "white",
            "showbackground": true,
            "ticks": "",
            "zerolinecolor": "white"
           }
          },
          "shapedefaults": {
           "line": {
            "color": "#2a3f5f"
           }
          },
          "ternary": {
           "aaxis": {
            "gridcolor": "white",
            "linecolor": "white",
            "ticks": ""
           },
           "baxis": {
            "gridcolor": "white",
            "linecolor": "white",
            "ticks": ""
           },
           "bgcolor": "#E5ECF6",
           "caxis": {
            "gridcolor": "white",
            "linecolor": "white",
            "ticks": ""
           }
          },
          "title": {
           "x": 0.05
          },
          "xaxis": {
           "automargin": true,
           "gridcolor": "white",
           "linecolor": "white",
           "ticks": "",
           "title": {
            "standoff": 15
           },
           "zerolinecolor": "white",
           "zerolinewidth": 2
          },
          "yaxis": {
           "automargin": true,
           "gridcolor": "white",
           "linecolor": "white",
           "ticks": "",
           "title": {
            "standoff": 15
           },
           "zerolinecolor": "white",
           "zerolinewidth": 2
          }
         }
        },
        "title": {
         "text": "Latest Rolling OEE % by Line"
        },
        "xaxis": {
         "anchor": "y",
         "domain": [
          0,
          1
         ],
         "title": {
          "text": "Line"
         }
        },
        "yaxis": {
         "anchor": "x",
         "domain": [
          0,
          1
         ],
         "range": [
          0,
          100
         ],
         "title": {
          "text": "OEE %"
         }
        }
       }
      }
     },
     "metadata": {},
     "output_type": "display_data"
    },
    {
     "data": {
      "application/vnd.plotly.v1+json": {
       "config": {
        "plotlyServerURL": "https://plot.ly"
       },
       "data": [
        {
         "alignmentgroup": "True",
         "hovertemplate": "Line=%{x}<br>Availability %=%{y}<extra></extra>",
         "legendgroup": "",
         "marker": {
          "color": "#636efa",
          "pattern": {
           "shape": ""
          }
         },
         "name": "",
         "offsetgroup": "",
         "orientation": "v",
         "showlegend": false,
         "textposition": "auto",
         "type": "bar",
         "x": [
          "LLB - Huttlin-1 Granulation",
          "LLB - IMA C95 Packaging (SOLD)",
          "FRA - Devices AI, Semi 120-1 Assembly",
          "SCO - Diosna 1",
          "MAF - I4 Inspection Line",
          "LLB - Bosch-2 Packaging (SOLD)",
          "HZG - Blister packaging line 1",
          "MAF - I2 Inspection Line",
          "LLB - IMA-1 Packaging (SOLD)",
          "LLB - TFS-30 Packaging (SSL)",
          "LLB - IMA-2 Packaging (SOLD)",
          "OCO - UHLMANN 2 Packaging Line",
          "OCO - UHLMANN 1 Packaging Line",
          "LLB - IMA-3 Packaging (SOLD)",
          "HZG - Blister packaging line 4",
          "SUZ - IMA DERMACYD",
          "SCO - IMA C80/2",
          "SZX - Packaging line 3",
          "LSX - C65-2 Packaging Line",
          "LLB - Uhlmann Packaging (SOLD)",
          "FRA - Devices AI, EMA 20",
          "SUZ - LINE 08 - BLISTERFLEX",
          "LLB - Bosch-3 Packaging (SOLD)",
          "MAF - C9 Packaging Line",
          "LLB - Bosch-1 Packaging (PENC)",
          "LSX - SIG1 Packaging Line",
          "LLB - Sarong Packaging (SSL)",
          "FRA - FF Packaging, VL50",
          "HZG - Blister packaging line 2",
          "SUZ - NIKKA",
          "LSX - C65-1 Packaging Line",
          "SUZ - LINE 06 - MEDISEAL CP 600 COMBO",
          "FRA - FF NLP, M21 Filling",
          "LSX - SUPPO Packaging Line",
          "MAF - I6 Inspection Line",
          "LSX - 1070-1 Packaging Line",
          "SCO - Diosna 2",
          "LSX - TR200 Packaging Line",
          "LLB - SPREY Packaging (NSL)",
          "FRA - FF Packaging, VL56",
          "LLB - CP-3 Packaging (STRL)",
          "FRA - FF NLP, M22 Filling",
          "RDG - H6 Syringe Filling Line",
          "LSX - SIG2 Packaging Line",
          "FRA - Devices Pens, AL2",
          "SUZ - NEWMAN",
          "SUZ - MEDISEAL PURAN",
          "LTR - C2 Packaging Line",
          "LLB - IMA-4 Packaging (SOLD)",
          "LLB - Bosch-1 Packaging (SOLD)",
          "HZG - Bottle Packaging line 7",
          "HZG - Bottle Packaging line 6",
          "FRA - FF NLP, M22 Inspection",
          "MAF - C3 Packaging Line",
          "SUZ - POMADAS",
          "SCO - Gamma4",
          "HZG - Semi-automatic Packaging line",
          "MAF - R1 Filling Line",
          "FRA - Devices Pens, AL4",
          "OCO - MELOX Packaging Line",
          "OCO - SUSPENSIONES Packaging Line",
          "OCO - JARABES Packaging Line",
          "FRA - Devices Pens, AL3",
          "FRA - Devices AI, Semi 120-1 Labeling",
          "ELB - FERMENTATION V09",
          "LTR - C8 Packaging line",
          "LLB - Bosch-1 Packaging (CEPH)",
          "LLB - CP-2 Packaging (STRL)",
          "FRA - FF Packaging, HV01",
          "SCO - IMA C80/3",
          "FRA - FF NAPA, M48 Inspection",
          "SUZ - BAUSCH",
          "FRA - Devices Pens, AL1",
          "RDG - Synvisc Packaging Line",
          "OCO - PARTENA 3 Packaging Line",
          "SCO - IMA C80/1",
          "WAT - AIL2 ASSEMBLY",
          "FRA - Devices Pens, AL5 Packaging 1",
          "SCO - U3",
          "FRA - FF NLP, M21 Inspection",
          "FRA - Devices Pens, AL6",
          "SCO - PAR102",
          "LSX - 1070-2 Packaging Line",
          "SCO - GAMMA1",
          "LSX - 1030 Packaging Line",
          "MAF - C2 Packaging Line",
          "LTR - Optima Assembling Machine",
          "LTR - C9 Packaging line",
          "FRA - FF NAPA, M24 Inspection",
          "LLB - IMA-1 Packaging (NSL)",
          "OCO - C90 Packaging Line",
          "SUZ - LINE 05 - SOLIDS IMA LINE",
          "SUZ - LINE 03 - MEDISEAL CP600",
          "LTR - Corima Assembling Machine",
          "HZG - Blister packaging line 3",
          "LTR - C7 Packaging line",
          "SCO - PART92",
          "LLB - IMA-2 Packaging (NSL)",
          "SUZ - LINE 04 - BOSCH TLT 1400",
          "FRA - FF Packaging, VL9",
          "SUZ - LINE 02 - UHLMANN 1030",
          "MAF - R4 Filling Line",
          "LTR - C6 Packaging line",
          "SCO - IMA C80/4",
          "SUZ - LINE 07 - UPS300",
          "OCO - LACTACYD Packaging Line",
          "FRA - FF Packaging, VL32",
          "MAF - C6 Packaging Line",
          "SCO - GAMMA3",
          "TRS - L17 Packaging Line",
          "LSX - IWK Packaging Line",
          "FRA - FF NAPA, M31 Inspection",
          "MAF - C5 Packaging Line",
          "FRA - Devices AI, Semi 120-1 Packaging",
          "FRA - Pharma, M52 Inspection",
          "SUZ - FARCON",
          "OCO - MEDISEAL Packaging Line",
          "MAF - C4 Packaging Line",
          "TRS - L15 Packaging Line",
          "SCO - GAMMA2",
          "SUZ - EYE DROPS OPTIMA",
          "FRA - FF Packaging, VL6",
          "WAT - LYO INSPECTION",
          "FRA - Devices AI, FDLE",
          "LTR - L647 Bio-Tech Packaging",
          "SUZ - STRUNK",
          "TRS - L24 Packaging Line",
          "MAF - R5 Filling Line",
          "SUZ - GRON.DROPS/SPRAY",
          "FRA - Devices Pens, AL5 Packaging 2",
          "TRS - L18 Packaging Line",
          "OCO - PARTENA 1 Packaging Line",
          "ELB - FERMENTATION E05",
          "FRA - FF Packaging, VL44",
          "VDR - K32_1",
          "FRA - FF NAPA, M46 Filling",
          "SUZ - MARCHESINI",
          "LTR - C10 Packaging Line",
          "TRS - L25 Packaging Line",
          "SUZ - TARGIFOR",
          "SUZ - GRON.SYRUP",
          "ELB - FERMENTATION E11",
          "FRA - FF Packaging, VL47",
          "WAT - AIL2 Packaging",
          "FRA - FF NAPA, M53 Filling",
          "SUZ - EFERVESCENT CEWIN",
          "SUZ - LINE 01 - UHLMANN 1880",
          "ELB - FERMENTATION E09",
          "ELB - FERMENTATION E06",
          "TRS - L19 Packaging Line",
          "SCO - COLLE1",
          "TRS - L21 Packaging Line",
          "SUZ - FETTE 3090 I",
          "FRA - Devices Pens, AL5 Assembly",
          "MLE - P2A1",
          "FRA - Pharma, M26 Filling",
          "SUZ - LINE 10 - BOTTLES LINE",
          "SUZ - FETTE 2090 IV",
          "ELB - FERMENTATION E10",
          "WAT - LYO Packaging Line 9",
          "FRA - Pharma, M58 Inspection",
          "FRA - FF Packaging, VL62",
          "ELB - FERMENTATION V08",
          "ELB - FERMENTATION E08",
          "SUZ - FETTE 3090 III",
          "WAT - LYO Packaging Line 3",
          "WAT - AIL1 Packaging",
          "ELB - FERMENTATION E07",
          "SUZ - FETTE 2090 I",
          "SCO - COLLE2",
          "ELB - Extraction B12 1st cycle"
         ],
         "xaxis": "x",
         "y": [
          87.50000000000001,
          87.10302995090251,
          86.60183655868398,
          86.47044150473324,
          82.49263294970068,
          80.51129359805452,
          79.93115328320407,
          79.61300745347258,
          77.9268218759862,
          76.77341627534707,
          76.58147565330184,
          76.01092882011766,
          74.87688338075303,
          74.6868254633065,
          73.96240888114345,
          73.10570027626419,
          71.9869287701601,
          71.49987619290475,
          71.43391855247172,
          71.22660176350138,
          70.64536498437644,
          70.57729464422994,
          70.57179067946413,
          70.44584825498686,
          69.63504401655443,
          68.46462184259022,
          68.0658311049133,
          67.92508824679408,
          67.42320246903716,
          67.30681066484412,
          66.28166001596905,
          66.19543439281158,
          66.15553346651201,
          65.95272664602626,
          65.88751419140915,
          65.88375208829802,
          65.74900793650792,
          65.67367480691605,
          65.6107439266357,
          65.47320586135322,
          65.3826482004068,
          65.37943597432235,
          65.3478130905099,
          65.32686588064168,
          64.73619176851437,
          64.65398865810795,
          64.41500922463439,
          64.35021338011597,
          64.22351388291095,
          63.64120497134451,
          63.2491167477312,
          63.136488130961745,
          63.077678005023984,
          63.02722420508557,
          62.86738957440939,
          62.66757408811201,
          62.4865159268313,
          62.21887156544625,
          61.891610699741534,
          61.75941534184726,
          61.72812090820388,
          61.50927705747697,
          61.18800181707297,
          60.87573172313066,
          60.454447751322746,
          59.70415991150641,
          59.32430000441419,
          59.240350560793495,
          59.038483471643616,
          58.838787349194185,
          58.654264638701655,
          58.62356217023741,
          58.0707554301408,
          57.677836202462444,
          57.334950505331705,
          57.31443399365213,
          57.204709545809806,
          57.02495238921005,
          56.8643794436953,
          55.95657588752347,
          55.822850035097446,
          55.74940333116084,
          55.65602533381231,
          55.45087962910026,
          55.37969678809879,
          53.515823742181546,
          53.3769828959825,
          52.99469649393593,
          52.938994823456795,
          52.819172892949766,
          52.81695990397891,
          52.75451680796797,
          52.527508499732214,
          52.15946646372965,
          52.03355897789396,
          51.80307863748122,
          51.769316054974986,
          50.87364633956494,
          50.84206577133881,
          50.83050392747025,
          50.651153409703916,
          49.66187166700472,
          49.58144871896668,
          49.5312169815121,
          49.4711272212588,
          49.468116972226944,
          49.43199031231073,
          49.334959825737236,
          49.010676708479224,
          48.91660720235599,
          48.52426215070239,
          47.52710158864548,
          46.54945898136653,
          46.39924036575969,
          46.342394940074776,
          45.97046988069428,
          45.87024606444923,
          45.00648739213632,
          44.956486290654425,
          44.0852915757379,
          44.03367833906556,
          42.068192126353594,
          41.956350684792696,
          41.30174945132809,
          41.293486402917175,
          40.7495201355214,
          40.640905277724606,
          40.37849124025982,
          40.36610676927637,
          40.288107165268656,
          39.939618751743204,
          39.07127690465758,
          38.78993055555556,
          38.71558519982554,
          38.14689759944377,
          37.86800876242923,
          37.851611905046006,
          36.49832018507016,
          36.408452590118735,
          35.842392663658025,
          35.74367036443097,
          35.461144179894184,
          35.06958901881832,
          35.01685716215186,
          34.330059603291936,
          33.75629537798872,
          33.61658073170401,
          33.46738591269841,
          32.81473214285714,
          32.591126304278895,
          31.891824400617594,
          31.616090622465506,
          30.996187969156505,
          30.505179674261978,
          29.766393712052984,
          29.477626054573726,
          28.967903145319422,
          24.853400787221645,
          24.771990740740737,
          24.71763451149661,
          22.596688246949967,
          21.59231281300343,
          18.402901785714292,
          15.55583840206442,
          13.445293910265548,
          10.81622297800099,
          9.982950459288274,
          7.09837962962963,
          0.00008267195766485221,
          0,
          -60.87691587734822
         ],
         "yaxis": "y"
        }
       ],
       "layout": {
        "barmode": "relative",
        "legend": {
         "tracegroupgap": 0
        },
        "template": {
         "data": {
          "bar": [
           {
            "error_x": {
             "color": "#2a3f5f"
            },
            "error_y": {
             "color": "#2a3f5f"
            },
            "marker": {
             "line": {
              "color": "#E5ECF6",
              "width": 0.5
             },
             "pattern": {
              "fillmode": "overlay",
              "size": 10,
              "solidity": 0.2
             }
            },
            "type": "bar"
           }
          ],
          "barpolar": [
           {
            "marker": {
             "line": {
              "color": "#E5ECF6",
              "width": 0.5
             },
             "pattern": {
              "fillmode": "overlay",
              "size": 10,
              "solidity": 0.2
             }
            },
            "type": "barpolar"
           }
          ],
          "carpet": [
           {
            "aaxis": {
             "endlinecolor": "#2a3f5f",
             "gridcolor": "white",
             "linecolor": "white",
             "minorgridcolor": "white",
             "startlinecolor": "#2a3f5f"
            },
            "baxis": {
             "endlinecolor": "#2a3f5f",
             "gridcolor": "white",
             "linecolor": "white",
             "minorgridcolor": "white",
             "startlinecolor": "#2a3f5f"
            },
            "type": "carpet"
           }
          ],
          "choropleth": [
           {
            "colorbar": {
             "outlinewidth": 0,
             "ticks": ""
            },
            "type": "choropleth"
           }
          ],
          "contour": [
           {
            "colorbar": {
             "outlinewidth": 0,
             "ticks": ""
            },
            "colorscale": [
             [
              0,
              "#0d0887"
             ],
             [
              0.1111111111111111,
              "#46039f"
             ],
             [
              0.2222222222222222,
              "#7201a8"
             ],
             [
              0.3333333333333333,
              "#9c179e"
             ],
             [
              0.4444444444444444,
              "#bd3786"
             ],
             [
              0.5555555555555556,
              "#d8576b"
             ],
             [
              0.6666666666666666,
              "#ed7953"
             ],
             [
              0.7777777777777778,
              "#fb9f3a"
             ],
             [
              0.8888888888888888,
              "#fdca26"
             ],
             [
              1,
              "#f0f921"
             ]
            ],
            "type": "contour"
           }
          ],
          "contourcarpet": [
           {
            "colorbar": {
             "outlinewidth": 0,
             "ticks": ""
            },
            "type": "contourcarpet"
           }
          ],
          "heatmap": [
           {
            "colorbar": {
             "outlinewidth": 0,
             "ticks": ""
            },
            "colorscale": [
             [
              0,
              "#0d0887"
             ],
             [
              0.1111111111111111,
              "#46039f"
             ],
             [
              0.2222222222222222,
              "#7201a8"
             ],
             [
              0.3333333333333333,
              "#9c179e"
             ],
             [
              0.4444444444444444,
              "#bd3786"
             ],
             [
              0.5555555555555556,
              "#d8576b"
             ],
             [
              0.6666666666666666,
              "#ed7953"
             ],
             [
              0.7777777777777778,
              "#fb9f3a"
             ],
             [
              0.8888888888888888,
              "#fdca26"
             ],
             [
              1,
              "#f0f921"
             ]
            ],
            "type": "heatmap"
           }
          ],
          "heatmapgl": [
           {
            "colorbar": {
             "outlinewidth": 0,
             "ticks": ""
            },
            "colorscale": [
             [
              0,
              "#0d0887"
             ],
             [
              0.1111111111111111,
              "#46039f"
             ],
             [
              0.2222222222222222,
              "#7201a8"
             ],
             [
              0.3333333333333333,
              "#9c179e"
             ],
             [
              0.4444444444444444,
              "#bd3786"
             ],
             [
              0.5555555555555556,
              "#d8576b"
             ],
             [
              0.6666666666666666,
              "#ed7953"
             ],
             [
              0.7777777777777778,
              "#fb9f3a"
             ],
             [
              0.8888888888888888,
              "#fdca26"
             ],
             [
              1,
              "#f0f921"
             ]
            ],
            "type": "heatmapgl"
           }
          ],
          "histogram": [
           {
            "marker": {
             "pattern": {
              "fillmode": "overlay",
              "size": 10,
              "solidity": 0.2
             }
            },
            "type": "histogram"
           }
          ],
          "histogram2d": [
           {
            "colorbar": {
             "outlinewidth": 0,
             "ticks": ""
            },
            "colorscale": [
             [
              0,
              "#0d0887"
             ],
             [
              0.1111111111111111,
              "#46039f"
             ],
             [
              0.2222222222222222,
              "#7201a8"
             ],
             [
              0.3333333333333333,
              "#9c179e"
             ],
             [
              0.4444444444444444,
              "#bd3786"
             ],
             [
              0.5555555555555556,
              "#d8576b"
             ],
             [
              0.6666666666666666,
              "#ed7953"
             ],
             [
              0.7777777777777778,
              "#fb9f3a"
             ],
             [
              0.8888888888888888,
              "#fdca26"
             ],
             [
              1,
              "#f0f921"
             ]
            ],
            "type": "histogram2d"
           }
          ],
          "histogram2dcontour": [
           {
            "colorbar": {
             "outlinewidth": 0,
             "ticks": ""
            },
            "colorscale": [
             [
              0,
              "#0d0887"
             ],
             [
              0.1111111111111111,
              "#46039f"
             ],
             [
              0.2222222222222222,
              "#7201a8"
             ],
             [
              0.3333333333333333,
              "#9c179e"
             ],
             [
              0.4444444444444444,
              "#bd3786"
             ],
             [
              0.5555555555555556,
              "#d8576b"
             ],
             [
              0.6666666666666666,
              "#ed7953"
             ],
             [
              0.7777777777777778,
              "#fb9f3a"
             ],
             [
              0.8888888888888888,
              "#fdca26"
             ],
             [
              1,
              "#f0f921"
             ]
            ],
            "type": "histogram2dcontour"
           }
          ],
          "mesh3d": [
           {
            "colorbar": {
             "outlinewidth": 0,
             "ticks": ""
            },
            "type": "mesh3d"
           }
          ],
          "parcoords": [
           {
            "line": {
             "colorbar": {
              "outlinewidth": 0,
              "ticks": ""
             }
            },
            "type": "parcoords"
           }
          ],
          "pie": [
           {
            "automargin": true,
            "type": "pie"
           }
          ],
          "scatter": [
           {
            "marker": {
             "colorbar": {
              "outlinewidth": 0,
              "ticks": ""
             }
            },
            "type": "scatter"
           }
          ],
          "scatter3d": [
           {
            "line": {
             "colorbar": {
              "outlinewidth": 0,
              "ticks": ""
             }
            },
            "marker": {
             "colorbar": {
              "outlinewidth": 0,
              "ticks": ""
             }
            },
            "type": "scatter3d"
           }
          ],
          "scattercarpet": [
           {
            "marker": {
             "colorbar": {
              "outlinewidth": 0,
              "ticks": ""
             }
            },
            "type": "scattercarpet"
           }
          ],
          "scattergeo": [
           {
            "marker": {
             "colorbar": {
              "outlinewidth": 0,
              "ticks": ""
             }
            },
            "type": "scattergeo"
           }
          ],
          "scattergl": [
           {
            "marker": {
             "colorbar": {
              "outlinewidth": 0,
              "ticks": ""
             }
            },
            "type": "scattergl"
           }
          ],
          "scattermapbox": [
           {
            "marker": {
             "colorbar": {
              "outlinewidth": 0,
              "ticks": ""
             }
            },
            "type": "scattermapbox"
           }
          ],
          "scatterpolar": [
           {
            "marker": {
             "colorbar": {
              "outlinewidth": 0,
              "ticks": ""
             }
            },
            "type": "scatterpolar"
           }
          ],
          "scatterpolargl": [
           {
            "marker": {
             "colorbar": {
              "outlinewidth": 0,
              "ticks": ""
             }
            },
            "type": "scatterpolargl"
           }
          ],
          "scatterternary": [
           {
            "marker": {
             "colorbar": {
              "outlinewidth": 0,
              "ticks": ""
             }
            },
            "type": "scatterternary"
           }
          ],
          "surface": [
           {
            "colorbar": {
             "outlinewidth": 0,
             "ticks": ""
            },
            "colorscale": [
             [
              0,
              "#0d0887"
             ],
             [
              0.1111111111111111,
              "#46039f"
             ],
             [
              0.2222222222222222,
              "#7201a8"
             ],
             [
              0.3333333333333333,
              "#9c179e"
             ],
             [
              0.4444444444444444,
              "#bd3786"
             ],
             [
              0.5555555555555556,
              "#d8576b"
             ],
             [
              0.6666666666666666,
              "#ed7953"
             ],
             [
              0.7777777777777778,
              "#fb9f3a"
             ],
             [
              0.8888888888888888,
              "#fdca26"
             ],
             [
              1,
              "#f0f921"
             ]
            ],
            "type": "surface"
           }
          ],
          "table": [
           {
            "cells": {
             "fill": {
              "color": "#EBF0F8"
             },
             "line": {
              "color": "white"
             }
            },
            "header": {
             "fill": {
              "color": "#C8D4E3"
             },
             "line": {
              "color": "white"
             }
            },
            "type": "table"
           }
          ]
         },
         "layout": {
          "annotationdefaults": {
           "arrowcolor": "#2a3f5f",
           "arrowhead": 0,
           "arrowwidth": 1
          },
          "autotypenumbers": "strict",
          "coloraxis": {
           "colorbar": {
            "outlinewidth": 0,
            "ticks": ""
           }
          },
          "colorscale": {
           "diverging": [
            [
             0,
             "#8e0152"
            ],
            [
             0.1,
             "#c51b7d"
            ],
            [
             0.2,
             "#de77ae"
            ],
            [
             0.3,
             "#f1b6da"
            ],
            [
             0.4,
             "#fde0ef"
            ],
            [
             0.5,
             "#f7f7f7"
            ],
            [
             0.6,
             "#e6f5d0"
            ],
            [
             0.7,
             "#b8e186"
            ],
            [
             0.8,
             "#7fbc41"
            ],
            [
             0.9,
             "#4d9221"
            ],
            [
             1,
             "#276419"
            ]
           ],
           "sequential": [
            [
             0,
             "#0d0887"
            ],
            [
             0.1111111111111111,
             "#46039f"
            ],
            [
             0.2222222222222222,
             "#7201a8"
            ],
            [
             0.3333333333333333,
             "#9c179e"
            ],
            [
             0.4444444444444444,
             "#bd3786"
            ],
            [
             0.5555555555555556,
             "#d8576b"
            ],
            [
             0.6666666666666666,
             "#ed7953"
            ],
            [
             0.7777777777777778,
             "#fb9f3a"
            ],
            [
             0.8888888888888888,
             "#fdca26"
            ],
            [
             1,
             "#f0f921"
            ]
           ],
           "sequentialminus": [
            [
             0,
             "#0d0887"
            ],
            [
             0.1111111111111111,
             "#46039f"
            ],
            [
             0.2222222222222222,
             "#7201a8"
            ],
            [
             0.3333333333333333,
             "#9c179e"
            ],
            [
             0.4444444444444444,
             "#bd3786"
            ],
            [
             0.5555555555555556,
             "#d8576b"
            ],
            [
             0.6666666666666666,
             "#ed7953"
            ],
            [
             0.7777777777777778,
             "#fb9f3a"
            ],
            [
             0.8888888888888888,
             "#fdca26"
            ],
            [
             1,
             "#f0f921"
            ]
           ]
          },
          "colorway": [
           "#636efa",
           "#EF553B",
           "#00cc96",
           "#ab63fa",
           "#FFA15A",
           "#19d3f3",
           "#FF6692",
           "#B6E880",
           "#FF97FF",
           "#FECB52"
          ],
          "font": {
           "color": "#2a3f5f"
          },
          "geo": {
           "bgcolor": "white",
           "lakecolor": "white",
           "landcolor": "#E5ECF6",
           "showlakes": true,
           "showland": true,
           "subunitcolor": "white"
          },
          "hoverlabel": {
           "align": "left"
          },
          "hovermode": "closest",
          "mapbox": {
           "style": "light"
          },
          "paper_bgcolor": "white",
          "plot_bgcolor": "#E5ECF6",
          "polar": {
           "angularaxis": {
            "gridcolor": "white",
            "linecolor": "white",
            "ticks": ""
           },
           "bgcolor": "#E5ECF6",
           "radialaxis": {
            "gridcolor": "white",
            "linecolor": "white",
            "ticks": ""
           }
          },
          "scene": {
           "xaxis": {
            "backgroundcolor": "#E5ECF6",
            "gridcolor": "white",
            "gridwidth": 2,
            "linecolor": "white",
            "showbackground": true,
            "ticks": "",
            "zerolinecolor": "white"
           },
           "yaxis": {
            "backgroundcolor": "#E5ECF6",
            "gridcolor": "white",
            "gridwidth": 2,
            "linecolor": "white",
            "showbackground": true,
            "ticks": "",
            "zerolinecolor": "white"
           },
           "zaxis": {
            "backgroundcolor": "#E5ECF6",
            "gridcolor": "white",
            "gridwidth": 2,
            "linecolor": "white",
            "showbackground": true,
            "ticks": "",
            "zerolinecolor": "white"
           }
          },
          "shapedefaults": {
           "line": {
            "color": "#2a3f5f"
           }
          },
          "ternary": {
           "aaxis": {
            "gridcolor": "white",
            "linecolor": "white",
            "ticks": ""
           },
           "baxis": {
            "gridcolor": "white",
            "linecolor": "white",
            "ticks": ""
           },
           "bgcolor": "#E5ECF6",
           "caxis": {
            "gridcolor": "white",
            "linecolor": "white",
            "ticks": ""
           }
          },
          "title": {
           "x": 0.05
          },
          "xaxis": {
           "automargin": true,
           "gridcolor": "white",
           "linecolor": "white",
           "ticks": "",
           "title": {
            "standoff": 15
           },
           "zerolinecolor": "white",
           "zerolinewidth": 2
          },
          "yaxis": {
           "automargin": true,
           "gridcolor": "white",
           "linecolor": "white",
           "ticks": "",
           "title": {
            "standoff": 15
           },
           "zerolinecolor": "white",
           "zerolinewidth": 2
          }
         }
        },
        "title": {
         "text": "Latest Rolling Availability % by Line"
        },
        "xaxis": {
         "anchor": "y",
         "domain": [
          0,
          1
         ],
         "title": {
          "text": "Line"
         }
        },
        "yaxis": {
         "anchor": "x",
         "domain": [
          0,
          1
         ],
         "range": [
          0,
          100
         ],
         "title": {
          "text": "Availability %"
         }
        }
       }
      }
     },
     "metadata": {},
     "output_type": "display_data"
    },
    {
     "data": {
      "application/vnd.plotly.v1+json": {
       "config": {
        "plotlyServerURL": "https://plot.ly"
       },
       "data": [
        {
         "alignmentgroup": "True",
         "hovertemplate": "Line=%{x}<br>Performance %=%{y}<extra></extra>",
         "legendgroup": "",
         "marker": {
          "color": "#636efa",
          "pattern": {
           "shape": ""
          }
         },
         "name": "",
         "offsetgroup": "",
         "orientation": "v",
         "showlegend": false,
         "textposition": "auto",
         "type": "bar",
         "x": [
          "WAT - AIL1 Packaging",
          "WAT - LYO INSPECTION",
          "SUZ - FETTE 2090 IV",
          "WAT - LYO Packaging Line 3",
          "WAT - LYO Packaging Line 9",
          "SUZ - TARGIFOR",
          "SCO - COLLE1",
          "SUZ - FETTE 3090 I",
          "SUZ - STRUNK",
          "SUZ - LINE 10 - BOTTLES LINE",
          "SUZ - GRON.DROPS/SPRAY",
          "SUZ - NEWMAN",
          "HZG - Bottle Packaging line 7",
          "HZG - Bottle Packaging line 6",
          "WAT - AIL2 Packaging",
          "TRS - L19 Packaging Line",
          "SUZ - NIKKA",
          "SUZ - LINE 02 - UHLMANN 1030",
          "LLB - Bosch-1 Packaging (CEPH)",
          "SUZ - EYE DROPS OPTIMA",
          "SUZ - LINE 08 - BLISTERFLEX",
          "MAF - R1 Filling Line",
          "MAF - I4 Inspection Line",
          "HZG - Blister packaging line 2",
          "MAF - R4 Filling Line",
          "OCO - UHLMANN 1 Packaging Line",
          "FRA - FF NAPA, M48 Inspection",
          "HZG - Semi-automatic Packaging line",
          "MAF - I6 Inspection Line",
          "MAF - I2 Inspection Line",
          "WAT - AIL2 ASSEMBLY",
          "LSX - SIG1 Packaging Line",
          "HZG - Blister packaging line 1",
          "SCO - IMA C80/2",
          "TRS - L15 Packaging Line",
          "HZG - Blister packaging line 4",
          "LSX - SIG2 Packaging Line",
          "LSX - C65-2 Packaging Line",
          "FRA - FF NLP, M22 Inspection",
          "VDR - K32_1",
          "SCO - Gamma4",
          "FRA - FF Packaging, VL56",
          "TRS - L24 Packaging Line",
          "RDG - H6 Syringe Filling Line",
          "SZX - Packaging line 3",
          "FRA - FF NLP, M22 Filling",
          "SCO - IMA C80/1",
          "SUZ - POMADAS",
          "FRA - FF NLP, M21 Inspection",
          "SUZ - LINE 04 - BOSCH TLT 1400",
          "TRS - L18 Packaging Line",
          "FRA - FF NLP, M21 Filling",
          "LSX - C65-1 Packaging Line",
          "SUZ - BAUSCH",
          "MAF - C3 Packaging Line",
          "OCO - JARABES Packaging Line",
          "SUZ - LINE 01 - UHLMANN 1880",
          "SCO - GAMMA1",
          "LSX - IWK Packaging Line",
          "SCO - IMA C80/3",
          "SUZ - LINE 07 - UPS300",
          "MAF - C9 Packaging Line",
          "OCO - UHLMANN 2 Packaging Line",
          "LLB - Bosch-1 Packaging (PENC)",
          "OCO - PARTENA 3 Packaging Line",
          "SCO - PART92",
          "SUZ - GRON.SYRUP",
          "LSX - 1030 Packaging Line",
          "LSX - 1070-2 Packaging Line",
          "SUZ - LINE 06 - MEDISEAL CP 600 COMBO",
          "FRA - FF NAPA, M24 Inspection",
          "LLB - CP-3 Packaging (STRL)",
          "TRS - L25 Packaging Line",
          "MAF - C4 Packaging Line",
          "MAF - C5 Packaging Line",
          "SUZ - LINE 03 - MEDISEAL CP600",
          "FRA - Devices Pens, AL1",
          "LLB - Sarong Packaging (SSL)",
          "LSX - 1070-1 Packaging Line",
          "FRA - FF Packaging, VL9",
          "FRA - Devices Pens, AL3",
          "MAF - C2 Packaging Line",
          "LLB - SPREY Packaging (NSL)",
          "FRA - Devices Pens, AL4",
          "FRA - FF Packaging, VL50",
          "ELB - FERMENTATION E08",
          "MAF - R5 Filling Line",
          "SUZ - EFERVESCENT CEWIN",
          "SCO - PAR102",
          "FRA - Devices Pens, AL2",
          "FRA - Devices AI, Semi 120-1 Assembly",
          "OCO - C90 Packaging Line",
          "SCO - U3",
          "SUZ - IMA DERMACYD",
          "SUZ - MARCHESINI",
          "SUZ - MEDISEAL PURAN",
          "LLB - Bosch-2 Packaging (SOLD)",
          "LLB - Huttlin-1 Granulation",
          "SUZ - FARCON",
          "LLB - CP-2 Packaging (STRL)",
          "MLE - P2A1",
          "SCO - IMA C80/4",
          "SUZ - FETTE 3090 III",
          "LSX - TR200 Packaging Line",
          "LLB - IMA C95 Packaging (SOLD)",
          "MAF - C6 Packaging Line",
          "FRA - FF Packaging, VL47",
          "ELB - FERMENTATION E07",
          "OCO - MEDISEAL Packaging Line",
          "OCO - SUSPENSIONES Packaging Line",
          "FRA - FF NAPA, M46 Filling",
          "OCO - PARTENA 1 Packaging Line",
          "SCO - GAMMA3",
          "SCO - GAMMA2",
          "FRA - Devices AI, Semi 120-1 Labeling",
          "FRA - Devices Pens, AL6",
          "FRA - Devices Pens, AL5 Packaging 2",
          "TRS - L17 Packaging Line",
          "FRA - Devices AI, EMA 20",
          "SUZ - FETTE 2090 I",
          "RDG - Synvisc Packaging Line",
          "LLB - Uhlmann Packaging (SOLD)",
          "OCO - MELOX Packaging Line",
          "LSX - SUPPO Packaging Line",
          "LLB - Bosch-1 Packaging (SOLD)",
          "FRA - FF NAPA, M53 Filling",
          "LTR - C6 Packaging line",
          "LLB - IMA-1 Packaging (NSL)",
          "LTR - C8 Packaging line",
          "FRA - Pharma, M26 Filling",
          "LLB - IMA-3 Packaging (SOLD)",
          "LLB - Bosch-3 Packaging (SOLD)",
          "LLB - IMA-2 Packaging (SOLD)",
          "LTR - C2 Packaging Line",
          "OCO - LACTACYD Packaging Line",
          "FRA - FF Packaging, HV01",
          "FRA - FF NAPA, M31 Inspection",
          "TRS - L21 Packaging Line",
          "LLB - TFS-30 Packaging (SSL)",
          "LTR - C7 Packaging line",
          "LLB - IMA-4 Packaging (SOLD)",
          "SUZ - LINE 05 - SOLIDS IMA LINE",
          "LTR - C9 Packaging line",
          "FRA - FF Packaging, VL44",
          "FRA - Devices AI, FDLE",
          "FRA - Devices AI, Semi 120-1 Packaging",
          "LLB - IMA-2 Packaging (NSL)",
          "LTR - L647 Bio-Tech Packaging",
          "FRA - Devices Pens, AL5 Packaging 1",
          "ELB - FERMENTATION E09",
          "ELB - FERMENTATION V08",
          "LTR - C10 Packaging Line",
          "ELB - FERMENTATION E05",
          "FRA - Devices Pens, AL5 Assembly",
          "FRA - Pharma, M58 Inspection",
          "ELB - FERMENTATION E10",
          "LLB - IMA-1 Packaging (SOLD)",
          "ELB - FERMENTATION E06",
          "FRA - FF Packaging, VL32",
          "FRA - Pharma, M52 Inspection",
          "FRA - FF Packaging, VL62",
          "FRA - FF Packaging, VL6",
          "LTR - Optima Assembling Machine",
          "ELB - FERMENTATION V09",
          "SCO - Diosna 2",
          "LTR - Corima Assembling Machine",
          "SCO - Diosna 1",
          "SCO - COLLE2",
          "ELB - FERMENTATION E11",
          "ELB - Extraction B12 1st cycle"
         ],
         "xaxis": "x",
         "y": [
          572.813150179764,
          474.4594820904065,
          305.2178839042067,
          183.68697382667398,
          157.1107428110534,
          149.48969009104803,
          141.7963553759604,
          127.18040094241725,
          122.69459626262528,
          122.60779683901221,
          121.64138168073409,
          121.51580186155351,
          114.5624433949334,
          113.59760139038556,
          110.42565774352562,
          110.39949721268135,
          108.53236727349287,
          108.42715074061549,
          106.47285257692815,
          102.45294606330447,
          101.00133033821683,
          100.13215245849267,
          99.22037849949606,
          98.62044906567219,
          97.93485805933597,
          97.8571468369466,
          97.40973453339392,
          97.05932173738117,
          96.96273413563665,
          96.65432626759812,
          96.0714178736389,
          95.1868210741855,
          95.04374791485102,
          94.74509757601365,
          94.65218928615613,
          94.52311820838946,
          94.0878139038843,
          93.750741041385,
          93.62130282131986,
          93.31082598594949,
          93.27835899868013,
          93.27141269992529,
          92.1722959021372,
          92.10461111215498,
          91.3455087330189,
          91.17560736453144,
          91.06246296853291,
          91.00199063570741,
          90.91517825265856,
          90.63256661054331,
          90.28233578335002,
          90.038089857158,
          89.58920804953564,
          89.1944723658379,
          89.0878034191629,
          88.86333154007282,
          87.84676398869571,
          87.82419555654376,
          87.81770355673923,
          87.52744839862739,
          87.48676098105294,
          87.26231775984346,
          86.88360477095547,
          86.74214799768043,
          86.72619668280659,
          86.60165173572003,
          86.28406963219845,
          86.18486755778594,
          85.48507805072676,
          85.14770013991762,
          84.76812181871705,
          84.2692444031532,
          84.15668037739023,
          83.33147078779717,
          82.8371313326083,
          82.77685882880938,
          82.5975467302462,
          82.26885880779531,
          81.40554430759015,
          81.25395169246262,
          81.14349394674215,
          80.2608154163169,
          80.09609926149196,
          79.94666380986585,
          79.3667983084149,
          79.21504197920481,
          79.07974902519538,
          78.84745529104623,
          78.79075569206734,
          78.50040606687072,
          77.96815381329537,
          77.87236074350156,
          77.13289345151361,
          76.82081485815036,
          76.58199273691606,
          76.47454288987316,
          76.43050881676855,
          76.3571549254407,
          76.35464498603238,
          76.12885543784407,
          75.94935276806899,
          75.37541223014328,
          75.07199899039558,
          74.94880971270975,
          74.57970079266745,
          74.39354328379994,
          74.3352051484437,
          73.93533519170559,
          73.72593305495992,
          73.22112791499138,
          72.98633537285872,
          72.86127213411471,
          72.6630448663712,
          72.62901429153376,
          72.24733223861236,
          72.23456772149544,
          72.0109236065261,
          71.60831029333428,
          71.56540726837848,
          71.285393809099,
          71.0468428272798,
          70.93113740207153,
          70.8264524266945,
          70.65304234814647,
          69.10709889029866,
          68.97562110717648,
          68.7720117850895,
          67.87047762266263,
          67.70092646956438,
          66.8665768914418,
          66.75208259967259,
          66.21919851645822,
          66.1267319055749,
          66.063341524183,
          65.3889016036811,
          64.32476708841523,
          64.12206311605613,
          63.797314128942304,
          63.52720173944378,
          63.413769813097105,
          63.276057759720196,
          61.2979103311194,
          61.28775840093397,
          58.67289599866718,
          57.513930453881386,
          56.38080189098959,
          55.50693886842088,
          55.25097455722167,
          55.18621450640882,
          54.123949000106805,
          53.21352899493409,
          51.80212673366573,
          49.92201792796296,
          49.81248355062369,
          49.70391366100168,
          48.383674997014054,
          43.18001301304577,
          39.985513386928154,
          39.22883575574128,
          38.82685335489687,
          37.01873482431397,
          31.604212610981524,
          30.925949028814912,
          13.731889867925593,
          5.873674215052335,
          4.847363392254318,
          2.177274399952189,
          1.5096618357487925,
          0,
          -42.71765046976908
         ],
         "yaxis": "y"
        }
       ],
       "layout": {
        "barmode": "relative",
        "legend": {
         "tracegroupgap": 0
        },
        "template": {
         "data": {
          "bar": [
           {
            "error_x": {
             "color": "#2a3f5f"
            },
            "error_y": {
             "color": "#2a3f5f"
            },
            "marker": {
             "line": {
              "color": "#E5ECF6",
              "width": 0.5
             },
             "pattern": {
              "fillmode": "overlay",
              "size": 10,
              "solidity": 0.2
             }
            },
            "type": "bar"
           }
          ],
          "barpolar": [
           {
            "marker": {
             "line": {
              "color": "#E5ECF6",
              "width": 0.5
             },
             "pattern": {
              "fillmode": "overlay",
              "size": 10,
              "solidity": 0.2
             }
            },
            "type": "barpolar"
           }
          ],
          "carpet": [
           {
            "aaxis": {
             "endlinecolor": "#2a3f5f",
             "gridcolor": "white",
             "linecolor": "white",
             "minorgridcolor": "white",
             "startlinecolor": "#2a3f5f"
            },
            "baxis": {
             "endlinecolor": "#2a3f5f",
             "gridcolor": "white",
             "linecolor": "white",
             "minorgridcolor": "white",
             "startlinecolor": "#2a3f5f"
            },
            "type": "carpet"
           }
          ],
          "choropleth": [
           {
            "colorbar": {
             "outlinewidth": 0,
             "ticks": ""
            },
            "type": "choropleth"
           }
          ],
          "contour": [
           {
            "colorbar": {
             "outlinewidth": 0,
             "ticks": ""
            },
            "colorscale": [
             [
              0,
              "#0d0887"
             ],
             [
              0.1111111111111111,
              "#46039f"
             ],
             [
              0.2222222222222222,
              "#7201a8"
             ],
             [
              0.3333333333333333,
              "#9c179e"
             ],
             [
              0.4444444444444444,
              "#bd3786"
             ],
             [
              0.5555555555555556,
              "#d8576b"
             ],
             [
              0.6666666666666666,
              "#ed7953"
             ],
             [
              0.7777777777777778,
              "#fb9f3a"
             ],
             [
              0.8888888888888888,
              "#fdca26"
             ],
             [
              1,
              "#f0f921"
             ]
            ],
            "type": "contour"
           }
          ],
          "contourcarpet": [
           {
            "colorbar": {
             "outlinewidth": 0,
             "ticks": ""
            },
            "type": "contourcarpet"
           }
          ],
          "heatmap": [
           {
            "colorbar": {
             "outlinewidth": 0,
             "ticks": ""
            },
            "colorscale": [
             [
              0,
              "#0d0887"
             ],
             [
              0.1111111111111111,
              "#46039f"
             ],
             [
              0.2222222222222222,
              "#7201a8"
             ],
             [
              0.3333333333333333,
              "#9c179e"
             ],
             [
              0.4444444444444444,
              "#bd3786"
             ],
             [
              0.5555555555555556,
              "#d8576b"
             ],
             [
              0.6666666666666666,
              "#ed7953"
             ],
             [
              0.7777777777777778,
              "#fb9f3a"
             ],
             [
              0.8888888888888888,
              "#fdca26"
             ],
             [
              1,
              "#f0f921"
             ]
            ],
            "type": "heatmap"
           }
          ],
          "heatmapgl": [
           {
            "colorbar": {
             "outlinewidth": 0,
             "ticks": ""
            },
            "colorscale": [
             [
              0,
              "#0d0887"
             ],
             [
              0.1111111111111111,
              "#46039f"
             ],
             [
              0.2222222222222222,
              "#7201a8"
             ],
             [
              0.3333333333333333,
              "#9c179e"
             ],
             [
              0.4444444444444444,
              "#bd3786"
             ],
             [
              0.5555555555555556,
              "#d8576b"
             ],
             [
              0.6666666666666666,
              "#ed7953"
             ],
             [
              0.7777777777777778,
              "#fb9f3a"
             ],
             [
              0.8888888888888888,
              "#fdca26"
             ],
             [
              1,
              "#f0f921"
             ]
            ],
            "type": "heatmapgl"
           }
          ],
          "histogram": [
           {
            "marker": {
             "pattern": {
              "fillmode": "overlay",
              "size": 10,
              "solidity": 0.2
             }
            },
            "type": "histogram"
           }
          ],
          "histogram2d": [
           {
            "colorbar": {
             "outlinewidth": 0,
             "ticks": ""
            },
            "colorscale": [
             [
              0,
              "#0d0887"
             ],
             [
              0.1111111111111111,
              "#46039f"
             ],
             [
              0.2222222222222222,
              "#7201a8"
             ],
             [
              0.3333333333333333,
              "#9c179e"
             ],
             [
              0.4444444444444444,
              "#bd3786"
             ],
             [
              0.5555555555555556,
              "#d8576b"
             ],
             [
              0.6666666666666666,
              "#ed7953"
             ],
             [
              0.7777777777777778,
              "#fb9f3a"
             ],
             [
              0.8888888888888888,
              "#fdca26"
             ],
             [
              1,
              "#f0f921"
             ]
            ],
            "type": "histogram2d"
           }
          ],
          "histogram2dcontour": [
           {
            "colorbar": {
             "outlinewidth": 0,
             "ticks": ""
            },
            "colorscale": [
             [
              0,
              "#0d0887"
             ],
             [
              0.1111111111111111,
              "#46039f"
             ],
             [
              0.2222222222222222,
              "#7201a8"
             ],
             [
              0.3333333333333333,
              "#9c179e"
             ],
             [
              0.4444444444444444,
              "#bd3786"
             ],
             [
              0.5555555555555556,
              "#d8576b"
             ],
             [
              0.6666666666666666,
              "#ed7953"
             ],
             [
              0.7777777777777778,
              "#fb9f3a"
             ],
             [
              0.8888888888888888,
              "#fdca26"
             ],
             [
              1,
              "#f0f921"
             ]
            ],
            "type": "histogram2dcontour"
           }
          ],
          "mesh3d": [
           {
            "colorbar": {
             "outlinewidth": 0,
             "ticks": ""
            },
            "type": "mesh3d"
           }
          ],
          "parcoords": [
           {
            "line": {
             "colorbar": {
              "outlinewidth": 0,
              "ticks": ""
             }
            },
            "type": "parcoords"
           }
          ],
          "pie": [
           {
            "automargin": true,
            "type": "pie"
           }
          ],
          "scatter": [
           {
            "marker": {
             "colorbar": {
              "outlinewidth": 0,
              "ticks": ""
             }
            },
            "type": "scatter"
           }
          ],
          "scatter3d": [
           {
            "line": {
             "colorbar": {
              "outlinewidth": 0,
              "ticks": ""
             }
            },
            "marker": {
             "colorbar": {
              "outlinewidth": 0,
              "ticks": ""
             }
            },
            "type": "scatter3d"
           }
          ],
          "scattercarpet": [
           {
            "marker": {
             "colorbar": {
              "outlinewidth": 0,
              "ticks": ""
             }
            },
            "type": "scattercarpet"
           }
          ],
          "scattergeo": [
           {
            "marker": {
             "colorbar": {
              "outlinewidth": 0,
              "ticks": ""
             }
            },
            "type": "scattergeo"
           }
          ],
          "scattergl": [
           {
            "marker": {
             "colorbar": {
              "outlinewidth": 0,
              "ticks": ""
             }
            },
            "type": "scattergl"
           }
          ],
          "scattermapbox": [
           {
            "marker": {
             "colorbar": {
              "outlinewidth": 0,
              "ticks": ""
             }
            },
            "type": "scattermapbox"
           }
          ],
          "scatterpolar": [
           {
            "marker": {
             "colorbar": {
              "outlinewidth": 0,
              "ticks": ""
             }
            },
            "type": "scatterpolar"
           }
          ],
          "scatterpolargl": [
           {
            "marker": {
             "colorbar": {
              "outlinewidth": 0,
              "ticks": ""
             }
            },
            "type": "scatterpolargl"
           }
          ],
          "scatterternary": [
           {
            "marker": {
             "colorbar": {
              "outlinewidth": 0,
              "ticks": ""
             }
            },
            "type": "scatterternary"
           }
          ],
          "surface": [
           {
            "colorbar": {
             "outlinewidth": 0,
             "ticks": ""
            },
            "colorscale": [
             [
              0,
              "#0d0887"
             ],
             [
              0.1111111111111111,
              "#46039f"
             ],
             [
              0.2222222222222222,
              "#7201a8"
             ],
             [
              0.3333333333333333,
              "#9c179e"
             ],
             [
              0.4444444444444444,
              "#bd3786"
             ],
             [
              0.5555555555555556,
              "#d8576b"
             ],
             [
              0.6666666666666666,
              "#ed7953"
             ],
             [
              0.7777777777777778,
              "#fb9f3a"
             ],
             [
              0.8888888888888888,
              "#fdca26"
             ],
             [
              1,
              "#f0f921"
             ]
            ],
            "type": "surface"
           }
          ],
          "table": [
           {
            "cells": {
             "fill": {
              "color": "#EBF0F8"
             },
             "line": {
              "color": "white"
             }
            },
            "header": {
             "fill": {
              "color": "#C8D4E3"
             },
             "line": {
              "color": "white"
             }
            },
            "type": "table"
           }
          ]
         },
         "layout": {
          "annotationdefaults": {
           "arrowcolor": "#2a3f5f",
           "arrowhead": 0,
           "arrowwidth": 1
          },
          "autotypenumbers": "strict",
          "coloraxis": {
           "colorbar": {
            "outlinewidth": 0,
            "ticks": ""
           }
          },
          "colorscale": {
           "diverging": [
            [
             0,
             "#8e0152"
            ],
            [
             0.1,
             "#c51b7d"
            ],
            [
             0.2,
             "#de77ae"
            ],
            [
             0.3,
             "#f1b6da"
            ],
            [
             0.4,
             "#fde0ef"
            ],
            [
             0.5,
             "#f7f7f7"
            ],
            [
             0.6,
             "#e6f5d0"
            ],
            [
             0.7,
             "#b8e186"
            ],
            [
             0.8,
             "#7fbc41"
            ],
            [
             0.9,
             "#4d9221"
            ],
            [
             1,
             "#276419"
            ]
           ],
           "sequential": [
            [
             0,
             "#0d0887"
            ],
            [
             0.1111111111111111,
             "#46039f"
            ],
            [
             0.2222222222222222,
             "#7201a8"
            ],
            [
             0.3333333333333333,
             "#9c179e"
            ],
            [
             0.4444444444444444,
             "#bd3786"
            ],
            [
             0.5555555555555556,
             "#d8576b"
            ],
            [
             0.6666666666666666,
             "#ed7953"
            ],
            [
             0.7777777777777778,
             "#fb9f3a"
            ],
            [
             0.8888888888888888,
             "#fdca26"
            ],
            [
             1,
             "#f0f921"
            ]
           ],
           "sequentialminus": [
            [
             0,
             "#0d0887"
            ],
            [
             0.1111111111111111,
             "#46039f"
            ],
            [
             0.2222222222222222,
             "#7201a8"
            ],
            [
             0.3333333333333333,
             "#9c179e"
            ],
            [
             0.4444444444444444,
             "#bd3786"
            ],
            [
             0.5555555555555556,
             "#d8576b"
            ],
            [
             0.6666666666666666,
             "#ed7953"
            ],
            [
             0.7777777777777778,
             "#fb9f3a"
            ],
            [
             0.8888888888888888,
             "#fdca26"
            ],
            [
             1,
             "#f0f921"
            ]
           ]
          },
          "colorway": [
           "#636efa",
           "#EF553B",
           "#00cc96",
           "#ab63fa",
           "#FFA15A",
           "#19d3f3",
           "#FF6692",
           "#B6E880",
           "#FF97FF",
           "#FECB52"
          ],
          "font": {
           "color": "#2a3f5f"
          },
          "geo": {
           "bgcolor": "white",
           "lakecolor": "white",
           "landcolor": "#E5ECF6",
           "showlakes": true,
           "showland": true,
           "subunitcolor": "white"
          },
          "hoverlabel": {
           "align": "left"
          },
          "hovermode": "closest",
          "mapbox": {
           "style": "light"
          },
          "paper_bgcolor": "white",
          "plot_bgcolor": "#E5ECF6",
          "polar": {
           "angularaxis": {
            "gridcolor": "white",
            "linecolor": "white",
            "ticks": ""
           },
           "bgcolor": "#E5ECF6",
           "radialaxis": {
            "gridcolor": "white",
            "linecolor": "white",
            "ticks": ""
           }
          },
          "scene": {
           "xaxis": {
            "backgroundcolor": "#E5ECF6",
            "gridcolor": "white",
            "gridwidth": 2,
            "linecolor": "white",
            "showbackground": true,
            "ticks": "",
            "zerolinecolor": "white"
           },
           "yaxis": {
            "backgroundcolor": "#E5ECF6",
            "gridcolor": "white",
            "gridwidth": 2,
            "linecolor": "white",
            "showbackground": true,
            "ticks": "",
            "zerolinecolor": "white"
           },
           "zaxis": {
            "backgroundcolor": "#E5ECF6",
            "gridcolor": "white",
            "gridwidth": 2,
            "linecolor": "white",
            "showbackground": true,
            "ticks": "",
            "zerolinecolor": "white"
           }
          },
          "shapedefaults": {
           "line": {
            "color": "#2a3f5f"
           }
          },
          "ternary": {
           "aaxis": {
            "gridcolor": "white",
            "linecolor": "white",
            "ticks": ""
           },
           "baxis": {
            "gridcolor": "white",
            "linecolor": "white",
            "ticks": ""
           },
           "bgcolor": "#E5ECF6",
           "caxis": {
            "gridcolor": "white",
            "linecolor": "white",
            "ticks": ""
           }
          },
          "title": {
           "x": 0.05
          },
          "xaxis": {
           "automargin": true,
           "gridcolor": "white",
           "linecolor": "white",
           "ticks": "",
           "title": {
            "standoff": 15
           },
           "zerolinecolor": "white",
           "zerolinewidth": 2
          },
          "yaxis": {
           "automargin": true,
           "gridcolor": "white",
           "linecolor": "white",
           "ticks": "",
           "title": {
            "standoff": 15
           },
           "zerolinecolor": "white",
           "zerolinewidth": 2
          }
         }
        },
        "title": {
         "text": "Latest Rolling Performance % by Line"
        },
        "xaxis": {
         "anchor": "y",
         "domain": [
          0,
          1
         ],
         "title": {
          "text": "Line"
         }
        },
        "yaxis": {
         "anchor": "x",
         "domain": [
          0,
          1
         ],
         "range": [
          0,
          100
         ],
         "title": {
          "text": "Performance %"
         }
        }
       }
      }
     },
     "metadata": {},
     "output_type": "display_data"
    },
    {
     "data": {
      "application/vnd.plotly.v1+json": {
       "config": {
        "plotlyServerURL": "https://plot.ly"
       },
       "data": [
        {
         "alignmentgroup": "True",
         "hovertemplate": "Line=%{x}<br>Quality %=%{y}<extra></extra>",
         "legendgroup": "",
         "marker": {
          "color": "#636efa",
          "pattern": {
           "shape": ""
          }
         },
         "name": "",
         "offsetgroup": "",
         "orientation": "v",
         "showlegend": false,
         "textposition": "auto",
         "type": "bar",
         "x": [
          "ELB - Extraction B12 1st cycle",
          "SUZ - MEDISEAL PURAN",
          "OCO - PARTENA 1 Packaging Line",
          "OCO - MELOX Packaging Line",
          "OCO - MEDISEAL Packaging Line",
          "OCO - LACTACYD Packaging Line",
          "OCO - JARABES Packaging Line",
          "OCO - C90 Packaging Line",
          "MLE - P2A1",
          "MAF - R5 Filling Line",
          "MAF - R4 Filling Line",
          "MAF - R1 Filling Line",
          "SUZ - LINE 08 - BLISTERFLEX",
          "SUZ - LINE 10 - BOTTLES LINE",
          "SUZ - MARCHESINI",
          "SUZ - NEWMAN",
          "OCO - SUSPENSIONES Packaging Line",
          "ELB - FERMENTATION E05",
          "SUZ - NIKKA",
          "SUZ - POMADAS",
          "SUZ - STRUNK",
          "SUZ - TARGIFOR",
          "TRS - L15 Packaging Line",
          "TRS - L17 Packaging Line",
          "TRS - L18 Packaging Line",
          "TRS - L19 Packaging Line",
          "TRS - L21 Packaging Line",
          "SUZ - LINE 06 - MEDISEAL CP 600 COMBO",
          "TRS - L25 Packaging Line",
          "WAT - LYO INSPECTION",
          "OCO - PARTENA 3 Packaging Line",
          "OCO - UHLMANN 1 Packaging Line",
          "LLB - TFS-30 Packaging (SSL)",
          "SCO - U3",
          "SUZ - LINE 03 - MEDISEAL CP600",
          "SUZ - LINE 02 - UHLMANN 1030",
          "SUZ - LINE 01 - UHLMANN 1880",
          "SUZ - IMA DERMACYD",
          "SUZ - GRON.SYRUP",
          "SUZ - GRON.DROPS/SPRAY",
          "SUZ - FETTE 3090 III",
          "SUZ - FETTE 3090 I",
          "SUZ - FETTE 2090 IV",
          "SUZ - FARCON",
          "SUZ - EYE DROPS OPTIMA",
          "SUZ - EFERVESCENT CEWIN",
          "SUZ - BAUSCH",
          "SCO - PART92",
          "OCO - UHLMANN 2 Packaging Line",
          "SCO - PAR102",
          "SCO - IMA C80/4",
          "SCO - IMA C80/3",
          "SCO - IMA C80/2",
          "SCO - IMA C80/1",
          "SCO - Gamma4",
          "SCO - GAMMA3",
          "SCO - GAMMA2",
          "SCO - GAMMA1",
          "SCO - Diosna 2",
          "SCO - Diosna 1",
          "SCO - COLLE1",
          "SUZ - LINE 07 - UPS300",
          "LLB - Uhlmann Packaging (SOLD)",
          "TRS - L24 Packaging Line",
          "LLB - Sarong Packaging (SSL)",
          "LLB - SPREY Packaging (NSL)",
          "FRA - Devices Pens, AL6",
          "FRA - FF NAPA, M24 Inspection",
          "FRA - FF NAPA, M31 Inspection",
          "FRA - FF NAPA, M46 Filling",
          "FRA - FF NAPA, M48 Inspection",
          "FRA - FF NAPA, M53 Filling",
          "FRA - FF NLP, M21 Filling",
          "FRA - FF NLP, M21 Inspection",
          "FRA - FF NLP, M22 Filling",
          "FRA - FF NLP, M22 Inspection",
          "FRA - FF Packaging, HV01",
          "FRA - FF Packaging, VL32",
          "FRA - FF Packaging, VL44",
          "FRA - FF Packaging, VL47",
          "FRA - FF Packaging, VL50",
          "FRA - Devices Pens, AL5 Packaging 2",
          "FRA - Devices Pens, AL5 Packaging 1",
          "FRA - Devices Pens, AL5 Assembly",
          "FRA - Devices AI, EMA 20",
          "ELB - FERMENTATION E07",
          "ELB - FERMENTATION E08",
          "ELB - FERMENTATION E09",
          "ELB - FERMENTATION E10",
          "ELB - FERMENTATION V08",
          "ELB - FERMENTATION V09",
          "FRA - Devices AI, FDLE",
          "FRA - Devices Pens, AL4",
          "FRA - Devices AI, Semi 120-1 Assembly",
          "FRA - Devices AI, Semi 120-1 Labeling",
          "FRA - Devices AI, Semi 120-1 Packaging",
          "FRA - Devices Pens, AL1",
          "FRA - Devices Pens, AL2",
          "FRA - Devices Pens, AL3",
          "FRA - FF Packaging, VL56",
          "SUZ - LINE 04 - BOSCH TLT 1400",
          "FRA - FF Packaging, VL62",
          "FRA - FF Packaging, VL9",
          "LLB - IMA-4 Packaging (SOLD)",
          "LLB - IMA-3 Packaging (SOLD)",
          "LLB - IMA-2 Packaging (SOLD)",
          "LLB - IMA-2 Packaging (NSL)",
          "LLB - IMA-1 Packaging (SOLD)",
          "LLB - IMA C95 Packaging (SOLD)",
          "LLB - Huttlin-1 Granulation",
          "LLB - CP-3 Packaging (STRL)",
          "LLB - CP-2 Packaging (STRL)",
          "LLB - Bosch-3 Packaging (SOLD)",
          "LLB - Bosch-2 Packaging (SOLD)",
          "LLB - Bosch-1 Packaging (SOLD)",
          "LLB - Bosch-1 Packaging (PENC)",
          "HZG - Bottle Packaging line 6",
          "HZG - Bottle Packaging line 7",
          "FRA - Pharma, M26 Filling",
          "FRA - Pharma, M58 Inspection",
          "HZG - Blister packaging line 1",
          "HZG - Blister packaging line 2",
          "LLB - Bosch-1 Packaging (CEPH)",
          "HZG - Blister packaging line 4",
          "HZG - Semi-automatic Packaging line",
          "MAF - C9 Packaging Line",
          "MAF - C3 Packaging Line",
          "WAT - LYO Packaging Line 3",
          "MAF - C4 Packaging Line",
          "LTR - C7 Packaging line",
          "MAF - C5 Packaging Line",
          "LSX - 1070-1 Packaging Line",
          "LTR - Optima Assembling Machine",
          "MAF - C2 Packaging Line",
          "LSX - SIG2 Packaging Line",
          "LTR - C9 Packaging line",
          "FRA - FF Packaging, VL6",
          "RDG - H6 Syringe Filling Line",
          "LTR - Corima Assembling Machine",
          "LSX - 1030 Packaging Line",
          "LSX - C65-1 Packaging Line",
          "LSX - SIG1 Packaging Line",
          "RDG - Synvisc Packaging Line",
          "MAF - C6 Packaging Line",
          "LLB - IMA-1 Packaging (NSL)",
          "LSX - SUPPO Packaging Line",
          "WAT - AIL2 ASSEMBLY",
          "LTR - C8 Packaging line",
          "LSX - IWK Packaging Line",
          "LSX - C65-2 Packaging Line",
          "WAT - AIL2 Packaging",
          "LTR - C6 Packaging line",
          "LSX - 1070-2 Packaging Line",
          "SZX - Packaging line 3",
          "LSX - TR200 Packaging Line",
          "LTR - C10 Packaging Line",
          "WAT - AIL1 Packaging",
          "LTR - C2 Packaging Line",
          "LTR - L647 Bio-Tech Packaging",
          "MAF - I2 Inspection Line",
          "MAF - I4 Inspection Line",
          "WAT - LYO Packaging Line 9",
          "VDR - K32_1",
          "MAF - I6 Inspection Line"
         ],
         "xaxis": "x",
         "y": [
          100,
          100,
          100,
          100,
          100,
          100,
          100,
          100,
          100,
          100,
          100,
          100,
          100,
          100,
          100,
          100,
          100,
          100,
          100,
          100,
          100,
          100,
          100,
          100,
          100,
          100,
          100,
          100,
          100,
          100,
          100,
          100,
          100,
          100,
          100,
          100,
          100,
          100,
          100,
          100,
          100,
          100,
          100,
          100,
          100,
          100,
          100,
          100,
          100,
          100,
          100,
          100,
          100,
          100,
          100,
          100,
          100,
          100,
          100,
          100,
          100,
          100,
          100,
          100,
          100,
          100,
          100,
          100,
          100,
          100,
          100,
          100,
          100,
          100,
          100,
          100,
          100,
          100,
          100,
          100,
          100,
          100,
          100,
          100,
          100,
          100,
          100,
          100,
          100,
          100,
          100,
          100,
          100,
          100,
          100,
          100,
          100,
          100,
          100,
          100,
          100,
          100,
          100,
          100,
          100,
          100,
          100,
          100,
          100,
          100,
          100,
          100,
          100,
          100,
          100,
          100,
          100,
          100,
          100,
          100,
          100,
          100,
          100,
          100,
          100,
          99.97063285432768,
          99.96153301179673,
          99.94896389849549,
          99.89574076664883,
          99.88237260294117,
          99.83484249424157,
          99.82782843525982,
          99.77271965152248,
          99.74964066635124,
          99.70972245581542,
          99.7081281647958,
          99.70768374164811,
          99.65260483557763,
          99.65015556581338,
          99.64514946348778,
          99.5587349073358,
          99.506867305631,
          99.50630523657182,
          99.49093645914778,
          99.45685594809933,
          99.38579078408509,
          99.32408511452367,
          99.30275925163357,
          99.25494159742323,
          99.230082408971,
          99.19831152152048,
          99.1373444173071,
          99.02205409882137,
          98.54134592564282,
          98.29044075067922,
          97.95255197357373,
          97.87541089749479,
          97.27014900758904,
          95.69854907712934,
          95.5335590216126,
          95.02061095742468,
          94.62927866456737,
          92.89448955382541,
          92.81524705679291
         ],
         "yaxis": "y"
        }
       ],
       "layout": {
        "barmode": "relative",
        "legend": {
         "tracegroupgap": 0
        },
        "template": {
         "data": {
          "bar": [
           {
            "error_x": {
             "color": "#2a3f5f"
            },
            "error_y": {
             "color": "#2a3f5f"
            },
            "marker": {
             "line": {
              "color": "#E5ECF6",
              "width": 0.5
             },
             "pattern": {
              "fillmode": "overlay",
              "size": 10,
              "solidity": 0.2
             }
            },
            "type": "bar"
           }
          ],
          "barpolar": [
           {
            "marker": {
             "line": {
              "color": "#E5ECF6",
              "width": 0.5
             },
             "pattern": {
              "fillmode": "overlay",
              "size": 10,
              "solidity": 0.2
             }
            },
            "type": "barpolar"
           }
          ],
          "carpet": [
           {
            "aaxis": {
             "endlinecolor": "#2a3f5f",
             "gridcolor": "white",
             "linecolor": "white",
             "minorgridcolor": "white",
             "startlinecolor": "#2a3f5f"
            },
            "baxis": {
             "endlinecolor": "#2a3f5f",
             "gridcolor": "white",
             "linecolor": "white",
             "minorgridcolor": "white",
             "startlinecolor": "#2a3f5f"
            },
            "type": "carpet"
           }
          ],
          "choropleth": [
           {
            "colorbar": {
             "outlinewidth": 0,
             "ticks": ""
            },
            "type": "choropleth"
           }
          ],
          "contour": [
           {
            "colorbar": {
             "outlinewidth": 0,
             "ticks": ""
            },
            "colorscale": [
             [
              0,
              "#0d0887"
             ],
             [
              0.1111111111111111,
              "#46039f"
             ],
             [
              0.2222222222222222,
              "#7201a8"
             ],
             [
              0.3333333333333333,
              "#9c179e"
             ],
             [
              0.4444444444444444,
              "#bd3786"
             ],
             [
              0.5555555555555556,
              "#d8576b"
             ],
             [
              0.6666666666666666,
              "#ed7953"
             ],
             [
              0.7777777777777778,
              "#fb9f3a"
             ],
             [
              0.8888888888888888,
              "#fdca26"
             ],
             [
              1,
              "#f0f921"
             ]
            ],
            "type": "contour"
           }
          ],
          "contourcarpet": [
           {
            "colorbar": {
             "outlinewidth": 0,
             "ticks": ""
            },
            "type": "contourcarpet"
           }
          ],
          "heatmap": [
           {
            "colorbar": {
             "outlinewidth": 0,
             "ticks": ""
            },
            "colorscale": [
             [
              0,
              "#0d0887"
             ],
             [
              0.1111111111111111,
              "#46039f"
             ],
             [
              0.2222222222222222,
              "#7201a8"
             ],
             [
              0.3333333333333333,
              "#9c179e"
             ],
             [
              0.4444444444444444,
              "#bd3786"
             ],
             [
              0.5555555555555556,
              "#d8576b"
             ],
             [
              0.6666666666666666,
              "#ed7953"
             ],
             [
              0.7777777777777778,
              "#fb9f3a"
             ],
             [
              0.8888888888888888,
              "#fdca26"
             ],
             [
              1,
              "#f0f921"
             ]
            ],
            "type": "heatmap"
           }
          ],
          "heatmapgl": [
           {
            "colorbar": {
             "outlinewidth": 0,
             "ticks": ""
            },
            "colorscale": [
             [
              0,
              "#0d0887"
             ],
             [
              0.1111111111111111,
              "#46039f"
             ],
             [
              0.2222222222222222,
              "#7201a8"
             ],
             [
              0.3333333333333333,
              "#9c179e"
             ],
             [
              0.4444444444444444,
              "#bd3786"
             ],
             [
              0.5555555555555556,
              "#d8576b"
             ],
             [
              0.6666666666666666,
              "#ed7953"
             ],
             [
              0.7777777777777778,
              "#fb9f3a"
             ],
             [
              0.8888888888888888,
              "#fdca26"
             ],
             [
              1,
              "#f0f921"
             ]
            ],
            "type": "heatmapgl"
           }
          ],
          "histogram": [
           {
            "marker": {
             "pattern": {
              "fillmode": "overlay",
              "size": 10,
              "solidity": 0.2
             }
            },
            "type": "histogram"
           }
          ],
          "histogram2d": [
           {
            "colorbar": {
             "outlinewidth": 0,
             "ticks": ""
            },
            "colorscale": [
             [
              0,
              "#0d0887"
             ],
             [
              0.1111111111111111,
              "#46039f"
             ],
             [
              0.2222222222222222,
              "#7201a8"
             ],
             [
              0.3333333333333333,
              "#9c179e"
             ],
             [
              0.4444444444444444,
              "#bd3786"
             ],
             [
              0.5555555555555556,
              "#d8576b"
             ],
             [
              0.6666666666666666,
              "#ed7953"
             ],
             [
              0.7777777777777778,
              "#fb9f3a"
             ],
             [
              0.8888888888888888,
              "#fdca26"
             ],
             [
              1,
              "#f0f921"
             ]
            ],
            "type": "histogram2d"
           }
          ],
          "histogram2dcontour": [
           {
            "colorbar": {
             "outlinewidth": 0,
             "ticks": ""
            },
            "colorscale": [
             [
              0,
              "#0d0887"
             ],
             [
              0.1111111111111111,
              "#46039f"
             ],
             [
              0.2222222222222222,
              "#7201a8"
             ],
             [
              0.3333333333333333,
              "#9c179e"
             ],
             [
              0.4444444444444444,
              "#bd3786"
             ],
             [
              0.5555555555555556,
              "#d8576b"
             ],
             [
              0.6666666666666666,
              "#ed7953"
             ],
             [
              0.7777777777777778,
              "#fb9f3a"
             ],
             [
              0.8888888888888888,
              "#fdca26"
             ],
             [
              1,
              "#f0f921"
             ]
            ],
            "type": "histogram2dcontour"
           }
          ],
          "mesh3d": [
           {
            "colorbar": {
             "outlinewidth": 0,
             "ticks": ""
            },
            "type": "mesh3d"
           }
          ],
          "parcoords": [
           {
            "line": {
             "colorbar": {
              "outlinewidth": 0,
              "ticks": ""
             }
            },
            "type": "parcoords"
           }
          ],
          "pie": [
           {
            "automargin": true,
            "type": "pie"
           }
          ],
          "scatter": [
           {
            "marker": {
             "colorbar": {
              "outlinewidth": 0,
              "ticks": ""
             }
            },
            "type": "scatter"
           }
          ],
          "scatter3d": [
           {
            "line": {
             "colorbar": {
              "outlinewidth": 0,
              "ticks": ""
             }
            },
            "marker": {
             "colorbar": {
              "outlinewidth": 0,
              "ticks": ""
             }
            },
            "type": "scatter3d"
           }
          ],
          "scattercarpet": [
           {
            "marker": {
             "colorbar": {
              "outlinewidth": 0,
              "ticks": ""
             }
            },
            "type": "scattercarpet"
           }
          ],
          "scattergeo": [
           {
            "marker": {
             "colorbar": {
              "outlinewidth": 0,
              "ticks": ""
             }
            },
            "type": "scattergeo"
           }
          ],
          "scattergl": [
           {
            "marker": {
             "colorbar": {
              "outlinewidth": 0,
              "ticks": ""
             }
            },
            "type": "scattergl"
           }
          ],
          "scattermapbox": [
           {
            "marker": {
             "colorbar": {
              "outlinewidth": 0,
              "ticks": ""
             }
            },
            "type": "scattermapbox"
           }
          ],
          "scatterpolar": [
           {
            "marker": {
             "colorbar": {
              "outlinewidth": 0,
              "ticks": ""
             }
            },
            "type": "scatterpolar"
           }
          ],
          "scatterpolargl": [
           {
            "marker": {
             "colorbar": {
              "outlinewidth": 0,
              "ticks": ""
             }
            },
            "type": "scatterpolargl"
           }
          ],
          "scatterternary": [
           {
            "marker": {
             "colorbar": {
              "outlinewidth": 0,
              "ticks": ""
             }
            },
            "type": "scatterternary"
           }
          ],
          "surface": [
           {
            "colorbar": {
             "outlinewidth": 0,
             "ticks": ""
            },
            "colorscale": [
             [
              0,
              "#0d0887"
             ],
             [
              0.1111111111111111,
              "#46039f"
             ],
             [
              0.2222222222222222,
              "#7201a8"
             ],
             [
              0.3333333333333333,
              "#9c179e"
             ],
             [
              0.4444444444444444,
              "#bd3786"
             ],
             [
              0.5555555555555556,
              "#d8576b"
             ],
             [
              0.6666666666666666,
              "#ed7953"
             ],
             [
              0.7777777777777778,
              "#fb9f3a"
             ],
             [
              0.8888888888888888,
              "#fdca26"
             ],
             [
              1,
              "#f0f921"
             ]
            ],
            "type": "surface"
           }
          ],
          "table": [
           {
            "cells": {
             "fill": {
              "color": "#EBF0F8"
             },
             "line": {
              "color": "white"
             }
            },
            "header": {
             "fill": {
              "color": "#C8D4E3"
             },
             "line": {
              "color": "white"
             }
            },
            "type": "table"
           }
          ]
         },
         "layout": {
          "annotationdefaults": {
           "arrowcolor": "#2a3f5f",
           "arrowhead": 0,
           "arrowwidth": 1
          },
          "autotypenumbers": "strict",
          "coloraxis": {
           "colorbar": {
            "outlinewidth": 0,
            "ticks": ""
           }
          },
          "colorscale": {
           "diverging": [
            [
             0,
             "#8e0152"
            ],
            [
             0.1,
             "#c51b7d"
            ],
            [
             0.2,
             "#de77ae"
            ],
            [
             0.3,
             "#f1b6da"
            ],
            [
             0.4,
             "#fde0ef"
            ],
            [
             0.5,
             "#f7f7f7"
            ],
            [
             0.6,
             "#e6f5d0"
            ],
            [
             0.7,
             "#b8e186"
            ],
            [
             0.8,
             "#7fbc41"
            ],
            [
             0.9,
             "#4d9221"
            ],
            [
             1,
             "#276419"
            ]
           ],
           "sequential": [
            [
             0,
             "#0d0887"
            ],
            [
             0.1111111111111111,
             "#46039f"
            ],
            [
             0.2222222222222222,
             "#7201a8"
            ],
            [
             0.3333333333333333,
             "#9c179e"
            ],
            [
             0.4444444444444444,
             "#bd3786"
            ],
            [
             0.5555555555555556,
             "#d8576b"
            ],
            [
             0.6666666666666666,
             "#ed7953"
            ],
            [
             0.7777777777777778,
             "#fb9f3a"
            ],
            [
             0.8888888888888888,
             "#fdca26"
            ],
            [
             1,
             "#f0f921"
            ]
           ],
           "sequentialminus": [
            [
             0,
             "#0d0887"
            ],
            [
             0.1111111111111111,
             "#46039f"
            ],
            [
             0.2222222222222222,
             "#7201a8"
            ],
            [
             0.3333333333333333,
             "#9c179e"
            ],
            [
             0.4444444444444444,
             "#bd3786"
            ],
            [
             0.5555555555555556,
             "#d8576b"
            ],
            [
             0.6666666666666666,
             "#ed7953"
            ],
            [
             0.7777777777777778,
             "#fb9f3a"
            ],
            [
             0.8888888888888888,
             "#fdca26"
            ],
            [
             1,
             "#f0f921"
            ]
           ]
          },
          "colorway": [
           "#636efa",
           "#EF553B",
           "#00cc96",
           "#ab63fa",
           "#FFA15A",
           "#19d3f3",
           "#FF6692",
           "#B6E880",
           "#FF97FF",
           "#FECB52"
          ],
          "font": {
           "color": "#2a3f5f"
          },
          "geo": {
           "bgcolor": "white",
           "lakecolor": "white",
           "landcolor": "#E5ECF6",
           "showlakes": true,
           "showland": true,
           "subunitcolor": "white"
          },
          "hoverlabel": {
           "align": "left"
          },
          "hovermode": "closest",
          "mapbox": {
           "style": "light"
          },
          "paper_bgcolor": "white",
          "plot_bgcolor": "#E5ECF6",
          "polar": {
           "angularaxis": {
            "gridcolor": "white",
            "linecolor": "white",
            "ticks": ""
           },
           "bgcolor": "#E5ECF6",
           "radialaxis": {
            "gridcolor": "white",
            "linecolor": "white",
            "ticks": ""
           }
          },
          "scene": {
           "xaxis": {
            "backgroundcolor": "#E5ECF6",
            "gridcolor": "white",
            "gridwidth": 2,
            "linecolor": "white",
            "showbackground": true,
            "ticks": "",
            "zerolinecolor": "white"
           },
           "yaxis": {
            "backgroundcolor": "#E5ECF6",
            "gridcolor": "white",
            "gridwidth": 2,
            "linecolor": "white",
            "showbackground": true,
            "ticks": "",
            "zerolinecolor": "white"
           },
           "zaxis": {
            "backgroundcolor": "#E5ECF6",
            "gridcolor": "white",
            "gridwidth": 2,
            "linecolor": "white",
            "showbackground": true,
            "ticks": "",
            "zerolinecolor": "white"
           }
          },
          "shapedefaults": {
           "line": {
            "color": "#2a3f5f"
           }
          },
          "ternary": {
           "aaxis": {
            "gridcolor": "white",
            "linecolor": "white",
            "ticks": ""
           },
           "baxis": {
            "gridcolor": "white",
            "linecolor": "white",
            "ticks": ""
           },
           "bgcolor": "#E5ECF6",
           "caxis": {
            "gridcolor": "white",
            "linecolor": "white",
            "ticks": ""
           }
          },
          "title": {
           "x": 0.05
          },
          "xaxis": {
           "automargin": true,
           "gridcolor": "white",
           "linecolor": "white",
           "ticks": "",
           "title": {
            "standoff": 15
           },
           "zerolinecolor": "white",
           "zerolinewidth": 2
          },
          "yaxis": {
           "automargin": true,
           "gridcolor": "white",
           "linecolor": "white",
           "ticks": "",
           "title": {
            "standoff": 15
           },
           "zerolinecolor": "white",
           "zerolinewidth": 2
          }
         }
        },
        "title": {
         "text": "Latest Rolling Quality % by Line"
        },
        "xaxis": {
         "anchor": "y",
         "domain": [
          0,
          1
         ],
         "title": {
          "text": "Line"
         }
        },
        "yaxis": {
         "anchor": "x",
         "domain": [
          0,
          1
         ],
         "range": [
          0,
          100
         ],
         "title": {
          "text": "Quality %"
         }
        }
       }
      }
     },
     "metadata": {},
     "output_type": "display_data"
    },
    {
     "data": {
      "application/vnd.plotly.v1+json": {
       "config": {
        "plotlyServerURL": "https://plot.ly"
       },
       "data": [
        {
         "alignmentgroup": "True",
         "hovertemplate": "Plant=%{x}<br>OEE %=%{y}<extra></extra>",
         "legendgroup": "",
         "marker": {
          "color": "#636efa",
          "pattern": {
           "shape": ""
          }
         },
         "name": "",
         "offsetgroup": "",
         "orientation": "v",
         "showlegend": false,
         "textposition": "auto",
         "type": "bar",
         "x": [
          "WAT",
          "HZG",
          "SZX",
          "MAF",
          "LSX",
          "LLB",
          "RDG",
          "OCO",
          "SUZ",
          "ELB",
          "VDR",
          "FRA",
          "TRS",
          "SCO",
          "LTR",
          "MLE"
         ],
         "xaxis": "x",
         "y": [
          189.64231269080807,
          68.45279810293562,
          55.17198098363841,
          55.12549947745207,
          54.63146814574388,
          52.42608009211531,
          49.2873716818433,
          48.26120442808673,
          44.8750732773159,
          40.48708273219093,
          39.708202044597776,
          38.867252879161626,
          37.58682716158821,
          36.480603876609145,
          29.45934274744494,
          22.049109118477876
         ],
         "yaxis": "y"
        }
       ],
       "layout": {
        "annotations": [
         {
          "showarrow": false,
          "text": "60% June 2022 Target",
          "x": 0,
          "xanchor": "left",
          "xref": "x domain",
          "y": 60,
          "yanchor": "top",
          "yref": "y"
         },
         {
          "showarrow": false,
          "text": "65% December 2022 Target",
          "x": 1,
          "xanchor": "right",
          "xref": "x domain",
          "y": 65,
          "yanchor": "bottom",
          "yref": "y"
         }
        ],
        "barmode": "relative",
        "legend": {
         "tracegroupgap": 0
        },
        "shapes": [
         {
          "line": {
           "color": "orange",
           "dash": "dot"
          },
          "type": "line",
          "x0": 0,
          "x1": 1,
          "xref": "x domain",
          "y0": 60,
          "y1": 60,
          "yref": "y"
         },
         {
          "line": {
           "color": "green",
           "dash": "dot"
          },
          "type": "line",
          "x0": 0,
          "x1": 1,
          "xref": "x domain",
          "y0": 65,
          "y1": 65,
          "yref": "y"
         }
        ],
        "template": {
         "data": {
          "bar": [
           {
            "error_x": {
             "color": "#2a3f5f"
            },
            "error_y": {
             "color": "#2a3f5f"
            },
            "marker": {
             "line": {
              "color": "#E5ECF6",
              "width": 0.5
             },
             "pattern": {
              "fillmode": "overlay",
              "size": 10,
              "solidity": 0.2
             }
            },
            "type": "bar"
           }
          ],
          "barpolar": [
           {
            "marker": {
             "line": {
              "color": "#E5ECF6",
              "width": 0.5
             },
             "pattern": {
              "fillmode": "overlay",
              "size": 10,
              "solidity": 0.2
             }
            },
            "type": "barpolar"
           }
          ],
          "carpet": [
           {
            "aaxis": {
             "endlinecolor": "#2a3f5f",
             "gridcolor": "white",
             "linecolor": "white",
             "minorgridcolor": "white",
             "startlinecolor": "#2a3f5f"
            },
            "baxis": {
             "endlinecolor": "#2a3f5f",
             "gridcolor": "white",
             "linecolor": "white",
             "minorgridcolor": "white",
             "startlinecolor": "#2a3f5f"
            },
            "type": "carpet"
           }
          ],
          "choropleth": [
           {
            "colorbar": {
             "outlinewidth": 0,
             "ticks": ""
            },
            "type": "choropleth"
           }
          ],
          "contour": [
           {
            "colorbar": {
             "outlinewidth": 0,
             "ticks": ""
            },
            "colorscale": [
             [
              0,
              "#0d0887"
             ],
             [
              0.1111111111111111,
              "#46039f"
             ],
             [
              0.2222222222222222,
              "#7201a8"
             ],
             [
              0.3333333333333333,
              "#9c179e"
             ],
             [
              0.4444444444444444,
              "#bd3786"
             ],
             [
              0.5555555555555556,
              "#d8576b"
             ],
             [
              0.6666666666666666,
              "#ed7953"
             ],
             [
              0.7777777777777778,
              "#fb9f3a"
             ],
             [
              0.8888888888888888,
              "#fdca26"
             ],
             [
              1,
              "#f0f921"
             ]
            ],
            "type": "contour"
           }
          ],
          "contourcarpet": [
           {
            "colorbar": {
             "outlinewidth": 0,
             "ticks": ""
            },
            "type": "contourcarpet"
           }
          ],
          "heatmap": [
           {
            "colorbar": {
             "outlinewidth": 0,
             "ticks": ""
            },
            "colorscale": [
             [
              0,
              "#0d0887"
             ],
             [
              0.1111111111111111,
              "#46039f"
             ],
             [
              0.2222222222222222,
              "#7201a8"
             ],
             [
              0.3333333333333333,
              "#9c179e"
             ],
             [
              0.4444444444444444,
              "#bd3786"
             ],
             [
              0.5555555555555556,
              "#d8576b"
             ],
             [
              0.6666666666666666,
              "#ed7953"
             ],
             [
              0.7777777777777778,
              "#fb9f3a"
             ],
             [
              0.8888888888888888,
              "#fdca26"
             ],
             [
              1,
              "#f0f921"
             ]
            ],
            "type": "heatmap"
           }
          ],
          "heatmapgl": [
           {
            "colorbar": {
             "outlinewidth": 0,
             "ticks": ""
            },
            "colorscale": [
             [
              0,
              "#0d0887"
             ],
             [
              0.1111111111111111,
              "#46039f"
             ],
             [
              0.2222222222222222,
              "#7201a8"
             ],
             [
              0.3333333333333333,
              "#9c179e"
             ],
             [
              0.4444444444444444,
              "#bd3786"
             ],
             [
              0.5555555555555556,
              "#d8576b"
             ],
             [
              0.6666666666666666,
              "#ed7953"
             ],
             [
              0.7777777777777778,
              "#fb9f3a"
             ],
             [
              0.8888888888888888,
              "#fdca26"
             ],
             [
              1,
              "#f0f921"
             ]
            ],
            "type": "heatmapgl"
           }
          ],
          "histogram": [
           {
            "marker": {
             "pattern": {
              "fillmode": "overlay",
              "size": 10,
              "solidity": 0.2
             }
            },
            "type": "histogram"
           }
          ],
          "histogram2d": [
           {
            "colorbar": {
             "outlinewidth": 0,
             "ticks": ""
            },
            "colorscale": [
             [
              0,
              "#0d0887"
             ],
             [
              0.1111111111111111,
              "#46039f"
             ],
             [
              0.2222222222222222,
              "#7201a8"
             ],
             [
              0.3333333333333333,
              "#9c179e"
             ],
             [
              0.4444444444444444,
              "#bd3786"
             ],
             [
              0.5555555555555556,
              "#d8576b"
             ],
             [
              0.6666666666666666,
              "#ed7953"
             ],
             [
              0.7777777777777778,
              "#fb9f3a"
             ],
             [
              0.8888888888888888,
              "#fdca26"
             ],
             [
              1,
              "#f0f921"
             ]
            ],
            "type": "histogram2d"
           }
          ],
          "histogram2dcontour": [
           {
            "colorbar": {
             "outlinewidth": 0,
             "ticks": ""
            },
            "colorscale": [
             [
              0,
              "#0d0887"
             ],
             [
              0.1111111111111111,
              "#46039f"
             ],
             [
              0.2222222222222222,
              "#7201a8"
             ],
             [
              0.3333333333333333,
              "#9c179e"
             ],
             [
              0.4444444444444444,
              "#bd3786"
             ],
             [
              0.5555555555555556,
              "#d8576b"
             ],
             [
              0.6666666666666666,
              "#ed7953"
             ],
             [
              0.7777777777777778,
              "#fb9f3a"
             ],
             [
              0.8888888888888888,
              "#fdca26"
             ],
             [
              1,
              "#f0f921"
             ]
            ],
            "type": "histogram2dcontour"
           }
          ],
          "mesh3d": [
           {
            "colorbar": {
             "outlinewidth": 0,
             "ticks": ""
            },
            "type": "mesh3d"
           }
          ],
          "parcoords": [
           {
            "line": {
             "colorbar": {
              "outlinewidth": 0,
              "ticks": ""
             }
            },
            "type": "parcoords"
           }
          ],
          "pie": [
           {
            "automargin": true,
            "type": "pie"
           }
          ],
          "scatter": [
           {
            "marker": {
             "colorbar": {
              "outlinewidth": 0,
              "ticks": ""
             }
            },
            "type": "scatter"
           }
          ],
          "scatter3d": [
           {
            "line": {
             "colorbar": {
              "outlinewidth": 0,
              "ticks": ""
             }
            },
            "marker": {
             "colorbar": {
              "outlinewidth": 0,
              "ticks": ""
             }
            },
            "type": "scatter3d"
           }
          ],
          "scattercarpet": [
           {
            "marker": {
             "colorbar": {
              "outlinewidth": 0,
              "ticks": ""
             }
            },
            "type": "scattercarpet"
           }
          ],
          "scattergeo": [
           {
            "marker": {
             "colorbar": {
              "outlinewidth": 0,
              "ticks": ""
             }
            },
            "type": "scattergeo"
           }
          ],
          "scattergl": [
           {
            "marker": {
             "colorbar": {
              "outlinewidth": 0,
              "ticks": ""
             }
            },
            "type": "scattergl"
           }
          ],
          "scattermapbox": [
           {
            "marker": {
             "colorbar": {
              "outlinewidth": 0,
              "ticks": ""
             }
            },
            "type": "scattermapbox"
           }
          ],
          "scatterpolar": [
           {
            "marker": {
             "colorbar": {
              "outlinewidth": 0,
              "ticks": ""
             }
            },
            "type": "scatterpolar"
           }
          ],
          "scatterpolargl": [
           {
            "marker": {
             "colorbar": {
              "outlinewidth": 0,
              "ticks": ""
             }
            },
            "type": "scatterpolargl"
           }
          ],
          "scatterternary": [
           {
            "marker": {
             "colorbar": {
              "outlinewidth": 0,
              "ticks": ""
             }
            },
            "type": "scatterternary"
           }
          ],
          "surface": [
           {
            "colorbar": {
             "outlinewidth": 0,
             "ticks": ""
            },
            "colorscale": [
             [
              0,
              "#0d0887"
             ],
             [
              0.1111111111111111,
              "#46039f"
             ],
             [
              0.2222222222222222,
              "#7201a8"
             ],
             [
              0.3333333333333333,
              "#9c179e"
             ],
             [
              0.4444444444444444,
              "#bd3786"
             ],
             [
              0.5555555555555556,
              "#d8576b"
             ],
             [
              0.6666666666666666,
              "#ed7953"
             ],
             [
              0.7777777777777778,
              "#fb9f3a"
             ],
             [
              0.8888888888888888,
              "#fdca26"
             ],
             [
              1,
              "#f0f921"
             ]
            ],
            "type": "surface"
           }
          ],
          "table": [
           {
            "cells": {
             "fill": {
              "color": "#EBF0F8"
             },
             "line": {
              "color": "white"
             }
            },
            "header": {
             "fill": {
              "color": "#C8D4E3"
             },
             "line": {
              "color": "white"
             }
            },
            "type": "table"
           }
          ]
         },
         "layout": {
          "annotationdefaults": {
           "arrowcolor": "#2a3f5f",
           "arrowhead": 0,
           "arrowwidth": 1
          },
          "autotypenumbers": "strict",
          "coloraxis": {
           "colorbar": {
            "outlinewidth": 0,
            "ticks": ""
           }
          },
          "colorscale": {
           "diverging": [
            [
             0,
             "#8e0152"
            ],
            [
             0.1,
             "#c51b7d"
            ],
            [
             0.2,
             "#de77ae"
            ],
            [
             0.3,
             "#f1b6da"
            ],
            [
             0.4,
             "#fde0ef"
            ],
            [
             0.5,
             "#f7f7f7"
            ],
            [
             0.6,
             "#e6f5d0"
            ],
            [
             0.7,
             "#b8e186"
            ],
            [
             0.8,
             "#7fbc41"
            ],
            [
             0.9,
             "#4d9221"
            ],
            [
             1,
             "#276419"
            ]
           ],
           "sequential": [
            [
             0,
             "#0d0887"
            ],
            [
             0.1111111111111111,
             "#46039f"
            ],
            [
             0.2222222222222222,
             "#7201a8"
            ],
            [
             0.3333333333333333,
             "#9c179e"
            ],
            [
             0.4444444444444444,
             "#bd3786"
            ],
            [
             0.5555555555555556,
             "#d8576b"
            ],
            [
             0.6666666666666666,
             "#ed7953"
            ],
            [
             0.7777777777777778,
             "#fb9f3a"
            ],
            [
             0.8888888888888888,
             "#fdca26"
            ],
            [
             1,
             "#f0f921"
            ]
           ],
           "sequentialminus": [
            [
             0,
             "#0d0887"
            ],
            [
             0.1111111111111111,
             "#46039f"
            ],
            [
             0.2222222222222222,
             "#7201a8"
            ],
            [
             0.3333333333333333,
             "#9c179e"
            ],
            [
             0.4444444444444444,
             "#bd3786"
            ],
            [
             0.5555555555555556,
             "#d8576b"
            ],
            [
             0.6666666666666666,
             "#ed7953"
            ],
            [
             0.7777777777777778,
             "#fb9f3a"
            ],
            [
             0.8888888888888888,
             "#fdca26"
            ],
            [
             1,
             "#f0f921"
            ]
           ]
          },
          "colorway": [
           "#636efa",
           "#EF553B",
           "#00cc96",
           "#ab63fa",
           "#FFA15A",
           "#19d3f3",
           "#FF6692",
           "#B6E880",
           "#FF97FF",
           "#FECB52"
          ],
          "font": {
           "color": "#2a3f5f"
          },
          "geo": {
           "bgcolor": "white",
           "lakecolor": "white",
           "landcolor": "#E5ECF6",
           "showlakes": true,
           "showland": true,
           "subunitcolor": "white"
          },
          "hoverlabel": {
           "align": "left"
          },
          "hovermode": "closest",
          "mapbox": {
           "style": "light"
          },
          "paper_bgcolor": "white",
          "plot_bgcolor": "#E5ECF6",
          "polar": {
           "angularaxis": {
            "gridcolor": "white",
            "linecolor": "white",
            "ticks": ""
           },
           "bgcolor": "#E5ECF6",
           "radialaxis": {
            "gridcolor": "white",
            "linecolor": "white",
            "ticks": ""
           }
          },
          "scene": {
           "xaxis": {
            "backgroundcolor": "#E5ECF6",
            "gridcolor": "white",
            "gridwidth": 2,
            "linecolor": "white",
            "showbackground": true,
            "ticks": "",
            "zerolinecolor": "white"
           },
           "yaxis": {
            "backgroundcolor": "#E5ECF6",
            "gridcolor": "white",
            "gridwidth": 2,
            "linecolor": "white",
            "showbackground": true,
            "ticks": "",
            "zerolinecolor": "white"
           },
           "zaxis": {
            "backgroundcolor": "#E5ECF6",
            "gridcolor": "white",
            "gridwidth": 2,
            "linecolor": "white",
            "showbackground": true,
            "ticks": "",
            "zerolinecolor": "white"
           }
          },
          "shapedefaults": {
           "line": {
            "color": "#2a3f5f"
           }
          },
          "ternary": {
           "aaxis": {
            "gridcolor": "white",
            "linecolor": "white",
            "ticks": ""
           },
           "baxis": {
            "gridcolor": "white",
            "linecolor": "white",
            "ticks": ""
           },
           "bgcolor": "#E5ECF6",
           "caxis": {
            "gridcolor": "white",
            "linecolor": "white",
            "ticks": ""
           }
          },
          "title": {
           "x": 0.05
          },
          "xaxis": {
           "automargin": true,
           "gridcolor": "white",
           "linecolor": "white",
           "ticks": "",
           "title": {
            "standoff": 15
           },
           "zerolinecolor": "white",
           "zerolinewidth": 2
          },
          "yaxis": {
           "automargin": true,
           "gridcolor": "white",
           "linecolor": "white",
           "ticks": "",
           "title": {
            "standoff": 15
           },
           "zerolinecolor": "white",
           "zerolinewidth": 2
          }
         }
        },
        "title": {
         "text": "Latest Rolling OEE % by Plant"
        },
        "xaxis": {
         "anchor": "y",
         "domain": [
          0,
          1
         ],
         "title": {
          "text": "Plant"
         }
        },
        "yaxis": {
         "anchor": "x",
         "domain": [
          0,
          1
         ],
         "range": [
          0,
          100
         ],
         "title": {
          "text": "OEE %"
         }
        }
       }
      }
     },
     "metadata": {},
     "output_type": "display_data"
    },
    {
     "data": {
      "application/vnd.plotly.v1+json": {
       "config": {
        "plotlyServerURL": "https://plot.ly"
       },
       "data": [
        {
         "alignmentgroup": "True",
         "hovertemplate": "Plant=%{x}<br>Availability %=%{y}<extra></extra>",
         "legendgroup": "",
         "marker": {
          "color": "#636efa",
          "pattern": {
           "shape": ""
          }
         },
         "name": "",
         "offsetgroup": "",
         "orientation": "v",
         "showlegend": false,
         "textposition": "auto",
         "type": "bar",
         "x": [
          "SZX",
          "HZG",
          "LLB",
          "LSX",
          "MAF",
          "RDG",
          "OCO",
          "ELB",
          "SCO",
          "FRA",
          "LTR",
          "SUZ",
          "TRS",
          "VDR",
          "MLE",
          "WAT"
         ],
         "xaxis": "x",
         "y": [
          74.93824923314274,
          69.38883811560828,
          68.48628604123297,
          67.0436774401162,
          61.32356238809954,
          60.01295194646749,
          57.78935513095411,
          56.7829869746725,
          53.133996425980065,
          50.84071154980436,
          50.708691361451585,
          45.24576018054749,
          42.94303316938817,
          39.757372351683784,
          29.766393712052984,
          28.52183729355867
         ],
         "yaxis": "y"
        }
       ],
       "layout": {
        "barmode": "relative",
        "legend": {
         "tracegroupgap": 0
        },
        "template": {
         "data": {
          "bar": [
           {
            "error_x": {
             "color": "#2a3f5f"
            },
            "error_y": {
             "color": "#2a3f5f"
            },
            "marker": {
             "line": {
              "color": "#E5ECF6",
              "width": 0.5
             },
             "pattern": {
              "fillmode": "overlay",
              "size": 10,
              "solidity": 0.2
             }
            },
            "type": "bar"
           }
          ],
          "barpolar": [
           {
            "marker": {
             "line": {
              "color": "#E5ECF6",
              "width": 0.5
             },
             "pattern": {
              "fillmode": "overlay",
              "size": 10,
              "solidity": 0.2
             }
            },
            "type": "barpolar"
           }
          ],
          "carpet": [
           {
            "aaxis": {
             "endlinecolor": "#2a3f5f",
             "gridcolor": "white",
             "linecolor": "white",
             "minorgridcolor": "white",
             "startlinecolor": "#2a3f5f"
            },
            "baxis": {
             "endlinecolor": "#2a3f5f",
             "gridcolor": "white",
             "linecolor": "white",
             "minorgridcolor": "white",
             "startlinecolor": "#2a3f5f"
            },
            "type": "carpet"
           }
          ],
          "choropleth": [
           {
            "colorbar": {
             "outlinewidth": 0,
             "ticks": ""
            },
            "type": "choropleth"
           }
          ],
          "contour": [
           {
            "colorbar": {
             "outlinewidth": 0,
             "ticks": ""
            },
            "colorscale": [
             [
              0,
              "#0d0887"
             ],
             [
              0.1111111111111111,
              "#46039f"
             ],
             [
              0.2222222222222222,
              "#7201a8"
             ],
             [
              0.3333333333333333,
              "#9c179e"
             ],
             [
              0.4444444444444444,
              "#bd3786"
             ],
             [
              0.5555555555555556,
              "#d8576b"
             ],
             [
              0.6666666666666666,
              "#ed7953"
             ],
             [
              0.7777777777777778,
              "#fb9f3a"
             ],
             [
              0.8888888888888888,
              "#fdca26"
             ],
             [
              1,
              "#f0f921"
             ]
            ],
            "type": "contour"
           }
          ],
          "contourcarpet": [
           {
            "colorbar": {
             "outlinewidth": 0,
             "ticks": ""
            },
            "type": "contourcarpet"
           }
          ],
          "heatmap": [
           {
            "colorbar": {
             "outlinewidth": 0,
             "ticks": ""
            },
            "colorscale": [
             [
              0,
              "#0d0887"
             ],
             [
              0.1111111111111111,
              "#46039f"
             ],
             [
              0.2222222222222222,
              "#7201a8"
             ],
             [
              0.3333333333333333,
              "#9c179e"
             ],
             [
              0.4444444444444444,
              "#bd3786"
             ],
             [
              0.5555555555555556,
              "#d8576b"
             ],
             [
              0.6666666666666666,
              "#ed7953"
             ],
             [
              0.7777777777777778,
              "#fb9f3a"
             ],
             [
              0.8888888888888888,
              "#fdca26"
             ],
             [
              1,
              "#f0f921"
             ]
            ],
            "type": "heatmap"
           }
          ],
          "heatmapgl": [
           {
            "colorbar": {
             "outlinewidth": 0,
             "ticks": ""
            },
            "colorscale": [
             [
              0,
              "#0d0887"
             ],
             [
              0.1111111111111111,
              "#46039f"
             ],
             [
              0.2222222222222222,
              "#7201a8"
             ],
             [
              0.3333333333333333,
              "#9c179e"
             ],
             [
              0.4444444444444444,
              "#bd3786"
             ],
             [
              0.5555555555555556,
              "#d8576b"
             ],
             [
              0.6666666666666666,
              "#ed7953"
             ],
             [
              0.7777777777777778,
              "#fb9f3a"
             ],
             [
              0.8888888888888888,
              "#fdca26"
             ],
             [
              1,
              "#f0f921"
             ]
            ],
            "type": "heatmapgl"
           }
          ],
          "histogram": [
           {
            "marker": {
             "pattern": {
              "fillmode": "overlay",
              "size": 10,
              "solidity": 0.2
             }
            },
            "type": "histogram"
           }
          ],
          "histogram2d": [
           {
            "colorbar": {
             "outlinewidth": 0,
             "ticks": ""
            },
            "colorscale": [
             [
              0,
              "#0d0887"
             ],
             [
              0.1111111111111111,
              "#46039f"
             ],
             [
              0.2222222222222222,
              "#7201a8"
             ],
             [
              0.3333333333333333,
              "#9c179e"
             ],
             [
              0.4444444444444444,
              "#bd3786"
             ],
             [
              0.5555555555555556,
              "#d8576b"
             ],
             [
              0.6666666666666666,
              "#ed7953"
             ],
             [
              0.7777777777777778,
              "#fb9f3a"
             ],
             [
              0.8888888888888888,
              "#fdca26"
             ],
             [
              1,
              "#f0f921"
             ]
            ],
            "type": "histogram2d"
           }
          ],
          "histogram2dcontour": [
           {
            "colorbar": {
             "outlinewidth": 0,
             "ticks": ""
            },
            "colorscale": [
             [
              0,
              "#0d0887"
             ],
             [
              0.1111111111111111,
              "#46039f"
             ],
             [
              0.2222222222222222,
              "#7201a8"
             ],
             [
              0.3333333333333333,
              "#9c179e"
             ],
             [
              0.4444444444444444,
              "#bd3786"
             ],
             [
              0.5555555555555556,
              "#d8576b"
             ],
             [
              0.6666666666666666,
              "#ed7953"
             ],
             [
              0.7777777777777778,
              "#fb9f3a"
             ],
             [
              0.8888888888888888,
              "#fdca26"
             ],
             [
              1,
              "#f0f921"
             ]
            ],
            "type": "histogram2dcontour"
           }
          ],
          "mesh3d": [
           {
            "colorbar": {
             "outlinewidth": 0,
             "ticks": ""
            },
            "type": "mesh3d"
           }
          ],
          "parcoords": [
           {
            "line": {
             "colorbar": {
              "outlinewidth": 0,
              "ticks": ""
             }
            },
            "type": "parcoords"
           }
          ],
          "pie": [
           {
            "automargin": true,
            "type": "pie"
           }
          ],
          "scatter": [
           {
            "marker": {
             "colorbar": {
              "outlinewidth": 0,
              "ticks": ""
             }
            },
            "type": "scatter"
           }
          ],
          "scatter3d": [
           {
            "line": {
             "colorbar": {
              "outlinewidth": 0,
              "ticks": ""
             }
            },
            "marker": {
             "colorbar": {
              "outlinewidth": 0,
              "ticks": ""
             }
            },
            "type": "scatter3d"
           }
          ],
          "scattercarpet": [
           {
            "marker": {
             "colorbar": {
              "outlinewidth": 0,
              "ticks": ""
             }
            },
            "type": "scattercarpet"
           }
          ],
          "scattergeo": [
           {
            "marker": {
             "colorbar": {
              "outlinewidth": 0,
              "ticks": ""
             }
            },
            "type": "scattergeo"
           }
          ],
          "scattergl": [
           {
            "marker": {
             "colorbar": {
              "outlinewidth": 0,
              "ticks": ""
             }
            },
            "type": "scattergl"
           }
          ],
          "scattermapbox": [
           {
            "marker": {
             "colorbar": {
              "outlinewidth": 0,
              "ticks": ""
             }
            },
            "type": "scattermapbox"
           }
          ],
          "scatterpolar": [
           {
            "marker": {
             "colorbar": {
              "outlinewidth": 0,
              "ticks": ""
             }
            },
            "type": "scatterpolar"
           }
          ],
          "scatterpolargl": [
           {
            "marker": {
             "colorbar": {
              "outlinewidth": 0,
              "ticks": ""
             }
            },
            "type": "scatterpolargl"
           }
          ],
          "scatterternary": [
           {
            "marker": {
             "colorbar": {
              "outlinewidth": 0,
              "ticks": ""
             }
            },
            "type": "scatterternary"
           }
          ],
          "surface": [
           {
            "colorbar": {
             "outlinewidth": 0,
             "ticks": ""
            },
            "colorscale": [
             [
              0,
              "#0d0887"
             ],
             [
              0.1111111111111111,
              "#46039f"
             ],
             [
              0.2222222222222222,
              "#7201a8"
             ],
             [
              0.3333333333333333,
              "#9c179e"
             ],
             [
              0.4444444444444444,
              "#bd3786"
             ],
             [
              0.5555555555555556,
              "#d8576b"
             ],
             [
              0.6666666666666666,
              "#ed7953"
             ],
             [
              0.7777777777777778,
              "#fb9f3a"
             ],
             [
              0.8888888888888888,
              "#fdca26"
             ],
             [
              1,
              "#f0f921"
             ]
            ],
            "type": "surface"
           }
          ],
          "table": [
           {
            "cells": {
             "fill": {
              "color": "#EBF0F8"
             },
             "line": {
              "color": "white"
             }
            },
            "header": {
             "fill": {
              "color": "#C8D4E3"
             },
             "line": {
              "color": "white"
             }
            },
            "type": "table"
           }
          ]
         },
         "layout": {
          "annotationdefaults": {
           "arrowcolor": "#2a3f5f",
           "arrowhead": 0,
           "arrowwidth": 1
          },
          "autotypenumbers": "strict",
          "coloraxis": {
           "colorbar": {
            "outlinewidth": 0,
            "ticks": ""
           }
          },
          "colorscale": {
           "diverging": [
            [
             0,
             "#8e0152"
            ],
            [
             0.1,
             "#c51b7d"
            ],
            [
             0.2,
             "#de77ae"
            ],
            [
             0.3,
             "#f1b6da"
            ],
            [
             0.4,
             "#fde0ef"
            ],
            [
             0.5,
             "#f7f7f7"
            ],
            [
             0.6,
             "#e6f5d0"
            ],
            [
             0.7,
             "#b8e186"
            ],
            [
             0.8,
             "#7fbc41"
            ],
            [
             0.9,
             "#4d9221"
            ],
            [
             1,
             "#276419"
            ]
           ],
           "sequential": [
            [
             0,
             "#0d0887"
            ],
            [
             0.1111111111111111,
             "#46039f"
            ],
            [
             0.2222222222222222,
             "#7201a8"
            ],
            [
             0.3333333333333333,
             "#9c179e"
            ],
            [
             0.4444444444444444,
             "#bd3786"
            ],
            [
             0.5555555555555556,
             "#d8576b"
            ],
            [
             0.6666666666666666,
             "#ed7953"
            ],
            [
             0.7777777777777778,
             "#fb9f3a"
            ],
            [
             0.8888888888888888,
             "#fdca26"
            ],
            [
             1,
             "#f0f921"
            ]
           ],
           "sequentialminus": [
            [
             0,
             "#0d0887"
            ],
            [
             0.1111111111111111,
             "#46039f"
            ],
            [
             0.2222222222222222,
             "#7201a8"
            ],
            [
             0.3333333333333333,
             "#9c179e"
            ],
            [
             0.4444444444444444,
             "#bd3786"
            ],
            [
             0.5555555555555556,
             "#d8576b"
            ],
            [
             0.6666666666666666,
             "#ed7953"
            ],
            [
             0.7777777777777778,
             "#fb9f3a"
            ],
            [
             0.8888888888888888,
             "#fdca26"
            ],
            [
             1,
             "#f0f921"
            ]
           ]
          },
          "colorway": [
           "#636efa",
           "#EF553B",
           "#00cc96",
           "#ab63fa",
           "#FFA15A",
           "#19d3f3",
           "#FF6692",
           "#B6E880",
           "#FF97FF",
           "#FECB52"
          ],
          "font": {
           "color": "#2a3f5f"
          },
          "geo": {
           "bgcolor": "white",
           "lakecolor": "white",
           "landcolor": "#E5ECF6",
           "showlakes": true,
           "showland": true,
           "subunitcolor": "white"
          },
          "hoverlabel": {
           "align": "left"
          },
          "hovermode": "closest",
          "mapbox": {
           "style": "light"
          },
          "paper_bgcolor": "white",
          "plot_bgcolor": "#E5ECF6",
          "polar": {
           "angularaxis": {
            "gridcolor": "white",
            "linecolor": "white",
            "ticks": ""
           },
           "bgcolor": "#E5ECF6",
           "radialaxis": {
            "gridcolor": "white",
            "linecolor": "white",
            "ticks": ""
           }
          },
          "scene": {
           "xaxis": {
            "backgroundcolor": "#E5ECF6",
            "gridcolor": "white",
            "gridwidth": 2,
            "linecolor": "white",
            "showbackground": true,
            "ticks": "",
            "zerolinecolor": "white"
           },
           "yaxis": {
            "backgroundcolor": "#E5ECF6",
            "gridcolor": "white",
            "gridwidth": 2,
            "linecolor": "white",
            "showbackground": true,
            "ticks": "",
            "zerolinecolor": "white"
           },
           "zaxis": {
            "backgroundcolor": "#E5ECF6",
            "gridcolor": "white",
            "gridwidth": 2,
            "linecolor": "white",
            "showbackground": true,
            "ticks": "",
            "zerolinecolor": "white"
           }
          },
          "shapedefaults": {
           "line": {
            "color": "#2a3f5f"
           }
          },
          "ternary": {
           "aaxis": {
            "gridcolor": "white",
            "linecolor": "white",
            "ticks": ""
           },
           "baxis": {
            "gridcolor": "white",
            "linecolor": "white",
            "ticks": ""
           },
           "bgcolor": "#E5ECF6",
           "caxis": {
            "gridcolor": "white",
            "linecolor": "white",
            "ticks": ""
           }
          },
          "title": {
           "x": 0.05
          },
          "xaxis": {
           "automargin": true,
           "gridcolor": "white",
           "linecolor": "white",
           "ticks": "",
           "title": {
            "standoff": 15
           },
           "zerolinecolor": "white",
           "zerolinewidth": 2
          },
          "yaxis": {
           "automargin": true,
           "gridcolor": "white",
           "linecolor": "white",
           "ticks": "",
           "title": {
            "standoff": 15
           },
           "zerolinecolor": "white",
           "zerolinewidth": 2
          }
         }
        },
        "title": {
         "text": "Latest Rolling Availability % by Plant"
        },
        "xaxis": {
         "anchor": "y",
         "domain": [
          0,
          1
         ],
         "title": {
          "text": "Plant"
         }
        },
        "yaxis": {
         "anchor": "x",
         "domain": [
          0,
          1
         ],
         "range": [
          0,
          100
         ],
         "title": {
          "text": "Availability %"
         }
        }
       }
      }
     },
     "metadata": {},
     "output_type": "display_data"
    },
    {
     "data": {
      "application/vnd.plotly.v1+json": {
       "config": {
        "plotlyServerURL": "https://plot.ly"
       },
       "data": [
        {
         "alignmentgroup": "True",
         "hovertemplate": "Plant=%{x}<br>Performance %=%{y}<extra></extra>",
         "legendgroup": "",
         "marker": {
          "color": "#636efa",
          "pattern": {
           "shape": ""
          }
         },
         "name": "",
         "offsetgroup": "",
         "orientation": "v",
         "showlegend": false,
         "textposition": "auto",
         "type": "bar",
         "x": [
          "WAT",
          "SUZ",
          "VDR",
          "HZG",
          "MAF",
          "TRS",
          "LSX",
          "OCO",
          "RDG",
          "SZX",
          "LLB",
          "MLE",
          "SCO",
          "FRA",
          "ELB",
          "LTR"
         ],
         "xaxis": "x",
         "y": [
          604.8818113814168,
          107.36319034243336,
          103.85433893648172,
          99.30120983618355,
          90.85394584887531,
          86.16041208914213,
          82.88564250104956,
          82.45057699793288,
          81.71301694071667,
          77.94418677666538,
          77.8691775586021,
          75.94935276806899,
          74.7793148006247,
          73.42615438100347,
          58.88451004882678,
          57.27577891841257
         ],
         "yaxis": "y"
        }
       ],
       "layout": {
        "barmode": "relative",
        "legend": {
         "tracegroupgap": 0
        },
        "template": {
         "data": {
          "bar": [
           {
            "error_x": {
             "color": "#2a3f5f"
            },
            "error_y": {
             "color": "#2a3f5f"
            },
            "marker": {
             "line": {
              "color": "#E5ECF6",
              "width": 0.5
             },
             "pattern": {
              "fillmode": "overlay",
              "size": 10,
              "solidity": 0.2
             }
            },
            "type": "bar"
           }
          ],
          "barpolar": [
           {
            "marker": {
             "line": {
              "color": "#E5ECF6",
              "width": 0.5
             },
             "pattern": {
              "fillmode": "overlay",
              "size": 10,
              "solidity": 0.2
             }
            },
            "type": "barpolar"
           }
          ],
          "carpet": [
           {
            "aaxis": {
             "endlinecolor": "#2a3f5f",
             "gridcolor": "white",
             "linecolor": "white",
             "minorgridcolor": "white",
             "startlinecolor": "#2a3f5f"
            },
            "baxis": {
             "endlinecolor": "#2a3f5f",
             "gridcolor": "white",
             "linecolor": "white",
             "minorgridcolor": "white",
             "startlinecolor": "#2a3f5f"
            },
            "type": "carpet"
           }
          ],
          "choropleth": [
           {
            "colorbar": {
             "outlinewidth": 0,
             "ticks": ""
            },
            "type": "choropleth"
           }
          ],
          "contour": [
           {
            "colorbar": {
             "outlinewidth": 0,
             "ticks": ""
            },
            "colorscale": [
             [
              0,
              "#0d0887"
             ],
             [
              0.1111111111111111,
              "#46039f"
             ],
             [
              0.2222222222222222,
              "#7201a8"
             ],
             [
              0.3333333333333333,
              "#9c179e"
             ],
             [
              0.4444444444444444,
              "#bd3786"
             ],
             [
              0.5555555555555556,
              "#d8576b"
             ],
             [
              0.6666666666666666,
              "#ed7953"
             ],
             [
              0.7777777777777778,
              "#fb9f3a"
             ],
             [
              0.8888888888888888,
              "#fdca26"
             ],
             [
              1,
              "#f0f921"
             ]
            ],
            "type": "contour"
           }
          ],
          "contourcarpet": [
           {
            "colorbar": {
             "outlinewidth": 0,
             "ticks": ""
            },
            "type": "contourcarpet"
           }
          ],
          "heatmap": [
           {
            "colorbar": {
             "outlinewidth": 0,
             "ticks": ""
            },
            "colorscale": [
             [
              0,
              "#0d0887"
             ],
             [
              0.1111111111111111,
              "#46039f"
             ],
             [
              0.2222222222222222,
              "#7201a8"
             ],
             [
              0.3333333333333333,
              "#9c179e"
             ],
             [
              0.4444444444444444,
              "#bd3786"
             ],
             [
              0.5555555555555556,
              "#d8576b"
             ],
             [
              0.6666666666666666,
              "#ed7953"
             ],
             [
              0.7777777777777778,
              "#fb9f3a"
             ],
             [
              0.8888888888888888,
              "#fdca26"
             ],
             [
              1,
              "#f0f921"
             ]
            ],
            "type": "heatmap"
           }
          ],
          "heatmapgl": [
           {
            "colorbar": {
             "outlinewidth": 0,
             "ticks": ""
            },
            "colorscale": [
             [
              0,
              "#0d0887"
             ],
             [
              0.1111111111111111,
              "#46039f"
             ],
             [
              0.2222222222222222,
              "#7201a8"
             ],
             [
              0.3333333333333333,
              "#9c179e"
             ],
             [
              0.4444444444444444,
              "#bd3786"
             ],
             [
              0.5555555555555556,
              "#d8576b"
             ],
             [
              0.6666666666666666,
              "#ed7953"
             ],
             [
              0.7777777777777778,
              "#fb9f3a"
             ],
             [
              0.8888888888888888,
              "#fdca26"
             ],
             [
              1,
              "#f0f921"
             ]
            ],
            "type": "heatmapgl"
           }
          ],
          "histogram": [
           {
            "marker": {
             "pattern": {
              "fillmode": "overlay",
              "size": 10,
              "solidity": 0.2
             }
            },
            "type": "histogram"
           }
          ],
          "histogram2d": [
           {
            "colorbar": {
             "outlinewidth": 0,
             "ticks": ""
            },
            "colorscale": [
             [
              0,
              "#0d0887"
             ],
             [
              0.1111111111111111,
              "#46039f"
             ],
             [
              0.2222222222222222,
              "#7201a8"
             ],
             [
              0.3333333333333333,
              "#9c179e"
             ],
             [
              0.4444444444444444,
              "#bd3786"
             ],
             [
              0.5555555555555556,
              "#d8576b"
             ],
             [
              0.6666666666666666,
              "#ed7953"
             ],
             [
              0.7777777777777778,
              "#fb9f3a"
             ],
             [
              0.8888888888888888,
              "#fdca26"
             ],
             [
              1,
              "#f0f921"
             ]
            ],
            "type": "histogram2d"
           }
          ],
          "histogram2dcontour": [
           {
            "colorbar": {
             "outlinewidth": 0,
             "ticks": ""
            },
            "colorscale": [
             [
              0,
              "#0d0887"
             ],
             [
              0.1111111111111111,
              "#46039f"
             ],
             [
              0.2222222222222222,
              "#7201a8"
             ],
             [
              0.3333333333333333,
              "#9c179e"
             ],
             [
              0.4444444444444444,
              "#bd3786"
             ],
             [
              0.5555555555555556,
              "#d8576b"
             ],
             [
              0.6666666666666666,
              "#ed7953"
             ],
             [
              0.7777777777777778,
              "#fb9f3a"
             ],
             [
              0.8888888888888888,
              "#fdca26"
             ],
             [
              1,
              "#f0f921"
             ]
            ],
            "type": "histogram2dcontour"
           }
          ],
          "mesh3d": [
           {
            "colorbar": {
             "outlinewidth": 0,
             "ticks": ""
            },
            "type": "mesh3d"
           }
          ],
          "parcoords": [
           {
            "line": {
             "colorbar": {
              "outlinewidth": 0,
              "ticks": ""
             }
            },
            "type": "parcoords"
           }
          ],
          "pie": [
           {
            "automargin": true,
            "type": "pie"
           }
          ],
          "scatter": [
           {
            "marker": {
             "colorbar": {
              "outlinewidth": 0,
              "ticks": ""
             }
            },
            "type": "scatter"
           }
          ],
          "scatter3d": [
           {
            "line": {
             "colorbar": {
              "outlinewidth": 0,
              "ticks": ""
             }
            },
            "marker": {
             "colorbar": {
              "outlinewidth": 0,
              "ticks": ""
             }
            },
            "type": "scatter3d"
           }
          ],
          "scattercarpet": [
           {
            "marker": {
             "colorbar": {
              "outlinewidth": 0,
              "ticks": ""
             }
            },
            "type": "scattercarpet"
           }
          ],
          "scattergeo": [
           {
            "marker": {
             "colorbar": {
              "outlinewidth": 0,
              "ticks": ""
             }
            },
            "type": "scattergeo"
           }
          ],
          "scattergl": [
           {
            "marker": {
             "colorbar": {
              "outlinewidth": 0,
              "ticks": ""
             }
            },
            "type": "scattergl"
           }
          ],
          "scattermapbox": [
           {
            "marker": {
             "colorbar": {
              "outlinewidth": 0,
              "ticks": ""
             }
            },
            "type": "scattermapbox"
           }
          ],
          "scatterpolar": [
           {
            "marker": {
             "colorbar": {
              "outlinewidth": 0,
              "ticks": ""
             }
            },
            "type": "scatterpolar"
           }
          ],
          "scatterpolargl": [
           {
            "marker": {
             "colorbar": {
              "outlinewidth": 0,
              "ticks": ""
             }
            },
            "type": "scatterpolargl"
           }
          ],
          "scatterternary": [
           {
            "marker": {
             "colorbar": {
              "outlinewidth": 0,
              "ticks": ""
             }
            },
            "type": "scatterternary"
           }
          ],
          "surface": [
           {
            "colorbar": {
             "outlinewidth": 0,
             "ticks": ""
            },
            "colorscale": [
             [
              0,
              "#0d0887"
             ],
             [
              0.1111111111111111,
              "#46039f"
             ],
             [
              0.2222222222222222,
              "#7201a8"
             ],
             [
              0.3333333333333333,
              "#9c179e"
             ],
             [
              0.4444444444444444,
              "#bd3786"
             ],
             [
              0.5555555555555556,
              "#d8576b"
             ],
             [
              0.6666666666666666,
              "#ed7953"
             ],
             [
              0.7777777777777778,
              "#fb9f3a"
             ],
             [
              0.8888888888888888,
              "#fdca26"
             ],
             [
              1,
              "#f0f921"
             ]
            ],
            "type": "surface"
           }
          ],
          "table": [
           {
            "cells": {
             "fill": {
              "color": "#EBF0F8"
             },
             "line": {
              "color": "white"
             }
            },
            "header": {
             "fill": {
              "color": "#C8D4E3"
             },
             "line": {
              "color": "white"
             }
            },
            "type": "table"
           }
          ]
         },
         "layout": {
          "annotationdefaults": {
           "arrowcolor": "#2a3f5f",
           "arrowhead": 0,
           "arrowwidth": 1
          },
          "autotypenumbers": "strict",
          "coloraxis": {
           "colorbar": {
            "outlinewidth": 0,
            "ticks": ""
           }
          },
          "colorscale": {
           "diverging": [
            [
             0,
             "#8e0152"
            ],
            [
             0.1,
             "#c51b7d"
            ],
            [
             0.2,
             "#de77ae"
            ],
            [
             0.3,
             "#f1b6da"
            ],
            [
             0.4,
             "#fde0ef"
            ],
            [
             0.5,
             "#f7f7f7"
            ],
            [
             0.6,
             "#e6f5d0"
            ],
            [
             0.7,
             "#b8e186"
            ],
            [
             0.8,
             "#7fbc41"
            ],
            [
             0.9,
             "#4d9221"
            ],
            [
             1,
             "#276419"
            ]
           ],
           "sequential": [
            [
             0,
             "#0d0887"
            ],
            [
             0.1111111111111111,
             "#46039f"
            ],
            [
             0.2222222222222222,
             "#7201a8"
            ],
            [
             0.3333333333333333,
             "#9c179e"
            ],
            [
             0.4444444444444444,
             "#bd3786"
            ],
            [
             0.5555555555555556,
             "#d8576b"
            ],
            [
             0.6666666666666666,
             "#ed7953"
            ],
            [
             0.7777777777777778,
             "#fb9f3a"
            ],
            [
             0.8888888888888888,
             "#fdca26"
            ],
            [
             1,
             "#f0f921"
            ]
           ],
           "sequentialminus": [
            [
             0,
             "#0d0887"
            ],
            [
             0.1111111111111111,
             "#46039f"
            ],
            [
             0.2222222222222222,
             "#7201a8"
            ],
            [
             0.3333333333333333,
             "#9c179e"
            ],
            [
             0.4444444444444444,
             "#bd3786"
            ],
            [
             0.5555555555555556,
             "#d8576b"
            ],
            [
             0.6666666666666666,
             "#ed7953"
            ],
            [
             0.7777777777777778,
             "#fb9f3a"
            ],
            [
             0.8888888888888888,
             "#fdca26"
            ],
            [
             1,
             "#f0f921"
            ]
           ]
          },
          "colorway": [
           "#636efa",
           "#EF553B",
           "#00cc96",
           "#ab63fa",
           "#FFA15A",
           "#19d3f3",
           "#FF6692",
           "#B6E880",
           "#FF97FF",
           "#FECB52"
          ],
          "font": {
           "color": "#2a3f5f"
          },
          "geo": {
           "bgcolor": "white",
           "lakecolor": "white",
           "landcolor": "#E5ECF6",
           "showlakes": true,
           "showland": true,
           "subunitcolor": "white"
          },
          "hoverlabel": {
           "align": "left"
          },
          "hovermode": "closest",
          "mapbox": {
           "style": "light"
          },
          "paper_bgcolor": "white",
          "plot_bgcolor": "#E5ECF6",
          "polar": {
           "angularaxis": {
            "gridcolor": "white",
            "linecolor": "white",
            "ticks": ""
           },
           "bgcolor": "#E5ECF6",
           "radialaxis": {
            "gridcolor": "white",
            "linecolor": "white",
            "ticks": ""
           }
          },
          "scene": {
           "xaxis": {
            "backgroundcolor": "#E5ECF6",
            "gridcolor": "white",
            "gridwidth": 2,
            "linecolor": "white",
            "showbackground": true,
            "ticks": "",
            "zerolinecolor": "white"
           },
           "yaxis": {
            "backgroundcolor": "#E5ECF6",
            "gridcolor": "white",
            "gridwidth": 2,
            "linecolor": "white",
            "showbackground": true,
            "ticks": "",
            "zerolinecolor": "white"
           },
           "zaxis": {
            "backgroundcolor": "#E5ECF6",
            "gridcolor": "white",
            "gridwidth": 2,
            "linecolor": "white",
            "showbackground": true,
            "ticks": "",
            "zerolinecolor": "white"
           }
          },
          "shapedefaults": {
           "line": {
            "color": "#2a3f5f"
           }
          },
          "ternary": {
           "aaxis": {
            "gridcolor": "white",
            "linecolor": "white",
            "ticks": ""
           },
           "baxis": {
            "gridcolor": "white",
            "linecolor": "white",
            "ticks": ""
           },
           "bgcolor": "#E5ECF6",
           "caxis": {
            "gridcolor": "white",
            "linecolor": "white",
            "ticks": ""
           }
          },
          "title": {
           "x": 0.05
          },
          "xaxis": {
           "automargin": true,
           "gridcolor": "white",
           "linecolor": "white",
           "ticks": "",
           "title": {
            "standoff": 15
           },
           "zerolinecolor": "white",
           "zerolinewidth": 2
          },
          "yaxis": {
           "automargin": true,
           "gridcolor": "white",
           "linecolor": "white",
           "ticks": "",
           "title": {
            "standoff": 15
           },
           "zerolinecolor": "white",
           "zerolinewidth": 2
          }
         }
        },
        "title": {
         "text": "Latest Rolling Performance % by Plant"
        },
        "xaxis": {
         "anchor": "y",
         "domain": [
          0,
          1
         ],
         "title": {
          "text": "Plant"
         }
        },
        "yaxis": {
         "anchor": "x",
         "domain": [
          0,
          1
         ],
         "range": [
          0,
          100
         ],
         "title": {
          "text": "Performance %"
         }
        }
       }
      }
     },
     "metadata": {},
     "output_type": "display_data"
    },
    {
     "data": {
      "application/vnd.plotly.v1+json": {
       "config": {
        "plotlyServerURL": "https://plot.ly"
       },
       "data": [
        {
         "alignmentgroup": "True",
         "hovertemplate": "Plant=%{x}<br>Quality %=%{y}<extra></extra>",
         "legendgroup": "",
         "marker": {
          "color": "#636efa",
          "pattern": {
           "shape": ""
          }
         },
         "name": "",
         "offsetgroup": "",
         "orientation": "v",
         "showlegend": false,
         "textposition": "auto",
         "type": "bar",
         "x": [
          "ELB",
          "HZG",
          "MLE",
          "OCO",
          "SCO",
          "SUZ",
          "TRS",
          "FRA",
          "LLB",
          "LSX",
          "RDG",
          "LTR",
          "SZX",
          "WAT",
          "MAF",
          "VDR"
         ],
         "xaxis": "x",
         "y": [
          100,
          100,
          100,
          100,
          100,
          100,
          100,
          99.99613495489221,
          99.96489539559106,
          99.41369530012975,
          98.95750969674329,
          98.71555909355232,
          98.6064138941458,
          98.42180978770512,
          98.18009468379387,
          93.8216117149275
         ],
         "yaxis": "y"
        }
       ],
       "layout": {
        "barmode": "relative",
        "legend": {
         "tracegroupgap": 0
        },
        "template": {
         "data": {
          "bar": [
           {
            "error_x": {
             "color": "#2a3f5f"
            },
            "error_y": {
             "color": "#2a3f5f"
            },
            "marker": {
             "line": {
              "color": "#E5ECF6",
              "width": 0.5
             },
             "pattern": {
              "fillmode": "overlay",
              "size": 10,
              "solidity": 0.2
             }
            },
            "type": "bar"
           }
          ],
          "barpolar": [
           {
            "marker": {
             "line": {
              "color": "#E5ECF6",
              "width": 0.5
             },
             "pattern": {
              "fillmode": "overlay",
              "size": 10,
              "solidity": 0.2
             }
            },
            "type": "barpolar"
           }
          ],
          "carpet": [
           {
            "aaxis": {
             "endlinecolor": "#2a3f5f",
             "gridcolor": "white",
             "linecolor": "white",
             "minorgridcolor": "white",
             "startlinecolor": "#2a3f5f"
            },
            "baxis": {
             "endlinecolor": "#2a3f5f",
             "gridcolor": "white",
             "linecolor": "white",
             "minorgridcolor": "white",
             "startlinecolor": "#2a3f5f"
            },
            "type": "carpet"
           }
          ],
          "choropleth": [
           {
            "colorbar": {
             "outlinewidth": 0,
             "ticks": ""
            },
            "type": "choropleth"
           }
          ],
          "contour": [
           {
            "colorbar": {
             "outlinewidth": 0,
             "ticks": ""
            },
            "colorscale": [
             [
              0,
              "#0d0887"
             ],
             [
              0.1111111111111111,
              "#46039f"
             ],
             [
              0.2222222222222222,
              "#7201a8"
             ],
             [
              0.3333333333333333,
              "#9c179e"
             ],
             [
              0.4444444444444444,
              "#bd3786"
             ],
             [
              0.5555555555555556,
              "#d8576b"
             ],
             [
              0.6666666666666666,
              "#ed7953"
             ],
             [
              0.7777777777777778,
              "#fb9f3a"
             ],
             [
              0.8888888888888888,
              "#fdca26"
             ],
             [
              1,
              "#f0f921"
             ]
            ],
            "type": "contour"
           }
          ],
          "contourcarpet": [
           {
            "colorbar": {
             "outlinewidth": 0,
             "ticks": ""
            },
            "type": "contourcarpet"
           }
          ],
          "heatmap": [
           {
            "colorbar": {
             "outlinewidth": 0,
             "ticks": ""
            },
            "colorscale": [
             [
              0,
              "#0d0887"
             ],
             [
              0.1111111111111111,
              "#46039f"
             ],
             [
              0.2222222222222222,
              "#7201a8"
             ],
             [
              0.3333333333333333,
              "#9c179e"
             ],
             [
              0.4444444444444444,
              "#bd3786"
             ],
             [
              0.5555555555555556,
              "#d8576b"
             ],
             [
              0.6666666666666666,
              "#ed7953"
             ],
             [
              0.7777777777777778,
              "#fb9f3a"
             ],
             [
              0.8888888888888888,
              "#fdca26"
             ],
             [
              1,
              "#f0f921"
             ]
            ],
            "type": "heatmap"
           }
          ],
          "heatmapgl": [
           {
            "colorbar": {
             "outlinewidth": 0,
             "ticks": ""
            },
            "colorscale": [
             [
              0,
              "#0d0887"
             ],
             [
              0.1111111111111111,
              "#46039f"
             ],
             [
              0.2222222222222222,
              "#7201a8"
             ],
             [
              0.3333333333333333,
              "#9c179e"
             ],
             [
              0.4444444444444444,
              "#bd3786"
             ],
             [
              0.5555555555555556,
              "#d8576b"
             ],
             [
              0.6666666666666666,
              "#ed7953"
             ],
             [
              0.7777777777777778,
              "#fb9f3a"
             ],
             [
              0.8888888888888888,
              "#fdca26"
             ],
             [
              1,
              "#f0f921"
             ]
            ],
            "type": "heatmapgl"
           }
          ],
          "histogram": [
           {
            "marker": {
             "pattern": {
              "fillmode": "overlay",
              "size": 10,
              "solidity": 0.2
             }
            },
            "type": "histogram"
           }
          ],
          "histogram2d": [
           {
            "colorbar": {
             "outlinewidth": 0,
             "ticks": ""
            },
            "colorscale": [
             [
              0,
              "#0d0887"
             ],
             [
              0.1111111111111111,
              "#46039f"
             ],
             [
              0.2222222222222222,
              "#7201a8"
             ],
             [
              0.3333333333333333,
              "#9c179e"
             ],
             [
              0.4444444444444444,
              "#bd3786"
             ],
             [
              0.5555555555555556,
              "#d8576b"
             ],
             [
              0.6666666666666666,
              "#ed7953"
             ],
             [
              0.7777777777777778,
              "#fb9f3a"
             ],
             [
              0.8888888888888888,
              "#fdca26"
             ],
             [
              1,
              "#f0f921"
             ]
            ],
            "type": "histogram2d"
           }
          ],
          "histogram2dcontour": [
           {
            "colorbar": {
             "outlinewidth": 0,
             "ticks": ""
            },
            "colorscale": [
             [
              0,
              "#0d0887"
             ],
             [
              0.1111111111111111,
              "#46039f"
             ],
             [
              0.2222222222222222,
              "#7201a8"
             ],
             [
              0.3333333333333333,
              "#9c179e"
             ],
             [
              0.4444444444444444,
              "#bd3786"
             ],
             [
              0.5555555555555556,
              "#d8576b"
             ],
             [
              0.6666666666666666,
              "#ed7953"
             ],
             [
              0.7777777777777778,
              "#fb9f3a"
             ],
             [
              0.8888888888888888,
              "#fdca26"
             ],
             [
              1,
              "#f0f921"
             ]
            ],
            "type": "histogram2dcontour"
           }
          ],
          "mesh3d": [
           {
            "colorbar": {
             "outlinewidth": 0,
             "ticks": ""
            },
            "type": "mesh3d"
           }
          ],
          "parcoords": [
           {
            "line": {
             "colorbar": {
              "outlinewidth": 0,
              "ticks": ""
             }
            },
            "type": "parcoords"
           }
          ],
          "pie": [
           {
            "automargin": true,
            "type": "pie"
           }
          ],
          "scatter": [
           {
            "marker": {
             "colorbar": {
              "outlinewidth": 0,
              "ticks": ""
             }
            },
            "type": "scatter"
           }
          ],
          "scatter3d": [
           {
            "line": {
             "colorbar": {
              "outlinewidth": 0,
              "ticks": ""
             }
            },
            "marker": {
             "colorbar": {
              "outlinewidth": 0,
              "ticks": ""
             }
            },
            "type": "scatter3d"
           }
          ],
          "scattercarpet": [
           {
            "marker": {
             "colorbar": {
              "outlinewidth": 0,
              "ticks": ""
             }
            },
            "type": "scattercarpet"
           }
          ],
          "scattergeo": [
           {
            "marker": {
             "colorbar": {
              "outlinewidth": 0,
              "ticks": ""
             }
            },
            "type": "scattergeo"
           }
          ],
          "scattergl": [
           {
            "marker": {
             "colorbar": {
              "outlinewidth": 0,
              "ticks": ""
             }
            },
            "type": "scattergl"
           }
          ],
          "scattermapbox": [
           {
            "marker": {
             "colorbar": {
              "outlinewidth": 0,
              "ticks": ""
             }
            },
            "type": "scattermapbox"
           }
          ],
          "scatterpolar": [
           {
            "marker": {
             "colorbar": {
              "outlinewidth": 0,
              "ticks": ""
             }
            },
            "type": "scatterpolar"
           }
          ],
          "scatterpolargl": [
           {
            "marker": {
             "colorbar": {
              "outlinewidth": 0,
              "ticks": ""
             }
            },
            "type": "scatterpolargl"
           }
          ],
          "scatterternary": [
           {
            "marker": {
             "colorbar": {
              "outlinewidth": 0,
              "ticks": ""
             }
            },
            "type": "scatterternary"
           }
          ],
          "surface": [
           {
            "colorbar": {
             "outlinewidth": 0,
             "ticks": ""
            },
            "colorscale": [
             [
              0,
              "#0d0887"
             ],
             [
              0.1111111111111111,
              "#46039f"
             ],
             [
              0.2222222222222222,
              "#7201a8"
             ],
             [
              0.3333333333333333,
              "#9c179e"
             ],
             [
              0.4444444444444444,
              "#bd3786"
             ],
             [
              0.5555555555555556,
              "#d8576b"
             ],
             [
              0.6666666666666666,
              "#ed7953"
             ],
             [
              0.7777777777777778,
              "#fb9f3a"
             ],
             [
              0.8888888888888888,
              "#fdca26"
             ],
             [
              1,
              "#f0f921"
             ]
            ],
            "type": "surface"
           }
          ],
          "table": [
           {
            "cells": {
             "fill": {
              "color": "#EBF0F8"
             },
             "line": {
              "color": "white"
             }
            },
            "header": {
             "fill": {
              "color": "#C8D4E3"
             },
             "line": {
              "color": "white"
             }
            },
            "type": "table"
           }
          ]
         },
         "layout": {
          "annotationdefaults": {
           "arrowcolor": "#2a3f5f",
           "arrowhead": 0,
           "arrowwidth": 1
          },
          "autotypenumbers": "strict",
          "coloraxis": {
           "colorbar": {
            "outlinewidth": 0,
            "ticks": ""
           }
          },
          "colorscale": {
           "diverging": [
            [
             0,
             "#8e0152"
            ],
            [
             0.1,
             "#c51b7d"
            ],
            [
             0.2,
             "#de77ae"
            ],
            [
             0.3,
             "#f1b6da"
            ],
            [
             0.4,
             "#fde0ef"
            ],
            [
             0.5,
             "#f7f7f7"
            ],
            [
             0.6,
             "#e6f5d0"
            ],
            [
             0.7,
             "#b8e186"
            ],
            [
             0.8,
             "#7fbc41"
            ],
            [
             0.9,
             "#4d9221"
            ],
            [
             1,
             "#276419"
            ]
           ],
           "sequential": [
            [
             0,
             "#0d0887"
            ],
            [
             0.1111111111111111,
             "#46039f"
            ],
            [
             0.2222222222222222,
             "#7201a8"
            ],
            [
             0.3333333333333333,
             "#9c179e"
            ],
            [
             0.4444444444444444,
             "#bd3786"
            ],
            [
             0.5555555555555556,
             "#d8576b"
            ],
            [
             0.6666666666666666,
             "#ed7953"
            ],
            [
             0.7777777777777778,
             "#fb9f3a"
            ],
            [
             0.8888888888888888,
             "#fdca26"
            ],
            [
             1,
             "#f0f921"
            ]
           ],
           "sequentialminus": [
            [
             0,
             "#0d0887"
            ],
            [
             0.1111111111111111,
             "#46039f"
            ],
            [
             0.2222222222222222,
             "#7201a8"
            ],
            [
             0.3333333333333333,
             "#9c179e"
            ],
            [
             0.4444444444444444,
             "#bd3786"
            ],
            [
             0.5555555555555556,
             "#d8576b"
            ],
            [
             0.6666666666666666,
             "#ed7953"
            ],
            [
             0.7777777777777778,
             "#fb9f3a"
            ],
            [
             0.8888888888888888,
             "#fdca26"
            ],
            [
             1,
             "#f0f921"
            ]
           ]
          },
          "colorway": [
           "#636efa",
           "#EF553B",
           "#00cc96",
           "#ab63fa",
           "#FFA15A",
           "#19d3f3",
           "#FF6692",
           "#B6E880",
           "#FF97FF",
           "#FECB52"
          ],
          "font": {
           "color": "#2a3f5f"
          },
          "geo": {
           "bgcolor": "white",
           "lakecolor": "white",
           "landcolor": "#E5ECF6",
           "showlakes": true,
           "showland": true,
           "subunitcolor": "white"
          },
          "hoverlabel": {
           "align": "left"
          },
          "hovermode": "closest",
          "mapbox": {
           "style": "light"
          },
          "paper_bgcolor": "white",
          "plot_bgcolor": "#E5ECF6",
          "polar": {
           "angularaxis": {
            "gridcolor": "white",
            "linecolor": "white",
            "ticks": ""
           },
           "bgcolor": "#E5ECF6",
           "radialaxis": {
            "gridcolor": "white",
            "linecolor": "white",
            "ticks": ""
           }
          },
          "scene": {
           "xaxis": {
            "backgroundcolor": "#E5ECF6",
            "gridcolor": "white",
            "gridwidth": 2,
            "linecolor": "white",
            "showbackground": true,
            "ticks": "",
            "zerolinecolor": "white"
           },
           "yaxis": {
            "backgroundcolor": "#E5ECF6",
            "gridcolor": "white",
            "gridwidth": 2,
            "linecolor": "white",
            "showbackground": true,
            "ticks": "",
            "zerolinecolor": "white"
           },
           "zaxis": {
            "backgroundcolor": "#E5ECF6",
            "gridcolor": "white",
            "gridwidth": 2,
            "linecolor": "white",
            "showbackground": true,
            "ticks": "",
            "zerolinecolor": "white"
           }
          },
          "shapedefaults": {
           "line": {
            "color": "#2a3f5f"
           }
          },
          "ternary": {
           "aaxis": {
            "gridcolor": "white",
            "linecolor": "white",
            "ticks": ""
           },
           "baxis": {
            "gridcolor": "white",
            "linecolor": "white",
            "ticks": ""
           },
           "bgcolor": "#E5ECF6",
           "caxis": {
            "gridcolor": "white",
            "linecolor": "white",
            "ticks": ""
           }
          },
          "title": {
           "x": 0.05
          },
          "xaxis": {
           "automargin": true,
           "gridcolor": "white",
           "linecolor": "white",
           "ticks": "",
           "title": {
            "standoff": 15
           },
           "zerolinecolor": "white",
           "zerolinewidth": 2
          },
          "yaxis": {
           "automargin": true,
           "gridcolor": "white",
           "linecolor": "white",
           "ticks": "",
           "title": {
            "standoff": 15
           },
           "zerolinecolor": "white",
           "zerolinewidth": 2
          }
         }
        },
        "title": {
         "text": "Latest Rolling Quality % by Plant"
        },
        "xaxis": {
         "anchor": "y",
         "domain": [
          0,
          1
         ],
         "title": {
          "text": "Plant"
         }
        },
        "yaxis": {
         "anchor": "x",
         "domain": [
          0,
          1
         ],
         "range": [
          0,
          100
         ],
         "title": {
          "text": "Quality %"
         }
        }
       }
      }
     },
     "metadata": {},
     "output_type": "display_data"
    }
   ],
   "source": [
    "metrics = ['OEE %','Availability %','Performance %', 'Quality %']\n",
    "\n",
    "for metric in metrics:\n",
    "\n",
    "     fig = px.bar(active_rolling.dropna(subset=[metric]).groupby('Line').tail(1).sort_values(by=metric, ascending=False), x='Line', y=metric,\n",
    "     title='Latest Rolling {} by Line'.format(metric),\n",
    "     range_y=(0,100)\n",
    "     )\n",
    "     if metric == 'OEE %':\n",
    "          fig.add_hline(y=60, line_dash='dot', \n",
    "               annotation_text='60% June 2022 Target', \n",
    "               annotation_position='bottom left')\n",
    "          fig.add_hline(y=65, line_dash='dot', \n",
    "               annotation_text='65% December 2022 Target', \n",
    "               annotation_position='bottom left')\n",
    "     fig.show()\n",
    "\n",
    "for metric in metrics:\n",
    "\n",
    "    fig = px.bar(active_rolling.dropna(subset=[metric]).groupby('Plant').mean().reset_index().sort_values(by=metric, ascending=False), \n",
    "    x='Plant', \n",
    "    y=metric, \n",
    "    title='Latest Rolling {} by Plant'.format(metric),\n",
    "    range_y=(0,100) \n",
    "    )\n",
    "    if metric == 'OEE %':\n",
    "          fig.add_hline(y=60, line_dash='dot',\n",
    "               line_color='orange', \n",
    "               annotation_text='60% June 2022 Target', \n",
    "               annotation_position='bottom left')\n",
    "          fig.add_hline(y=65, line_dash='dot', \n",
    "               line_color='green',\n",
    "               annotation_text='65% December 2022 Target', \n",
    "               annotation_position='top right')\n",
    "\n",
    "    fig.show()\n",
    "\n",
    "    "
   ]
  },
  {
   "cell_type": "markdown",
   "metadata": {},
   "source": [
    "where we have incomplete data provided our metric is null - drop 'em"
   ]
  },
  {
   "cell_type": "code",
   "execution_count": 12,
   "metadata": {},
   "outputs": [
    {
     "data": {
      "text/html": [
       "<div>\n",
       "<style scoped>\n",
       "    .dataframe tbody tr th:only-of-type {\n",
       "        vertical-align: middle;\n",
       "    }\n",
       "\n",
       "    .dataframe tbody tr th {\n",
       "        vertical-align: top;\n",
       "    }\n",
       "\n",
       "    .dataframe thead th {\n",
       "        text-align: right;\n",
       "    }\n",
       "</style>\n",
       "<table border=\"1\" class=\"dataframe\">\n",
       "  <thead>\n",
       "    <tr style=\"text-align: right;\">\n",
       "      <th></th>\n",
       "      <th>Plant</th>\n",
       "      <th>OEE %</th>\n",
       "      <th>Performance %</th>\n",
       "      <th>Availability %</th>\n",
       "      <th>Quality %</th>\n",
       "    </tr>\n",
       "  </thead>\n",
       "  <tbody>\n",
       "    <tr>\n",
       "      <th>0</th>\n",
       "      <td>MLE</td>\n",
       "      <td>22.049109</td>\n",
       "      <td>75.949353</td>\n",
       "      <td>29.766394</td>\n",
       "      <td>100.000000</td>\n",
       "    </tr>\n",
       "    <tr>\n",
       "      <th>1</th>\n",
       "      <td>LTR</td>\n",
       "      <td>30.237688</td>\n",
       "      <td>58.732124</td>\n",
       "      <td>50.668392</td>\n",
       "      <td>98.715559</td>\n",
       "    </tr>\n",
       "    <tr>\n",
       "      <th>2</th>\n",
       "      <td>TRS</td>\n",
       "      <td>38.355548</td>\n",
       "      <td>87.910725</td>\n",
       "      <td>43.697346</td>\n",
       "      <td>100.000000</td>\n",
       "    </tr>\n",
       "    <tr>\n",
       "      <th>3</th>\n",
       "      <td>FRA</td>\n",
       "      <td>39.353037</td>\n",
       "      <td>74.121637</td>\n",
       "      <td>51.126464</td>\n",
       "      <td>99.996135</td>\n",
       "    </tr>\n",
       "    <tr>\n",
       "      <th>4</th>\n",
       "      <td>VDR</td>\n",
       "      <td>39.708202</td>\n",
       "      <td>103.854339</td>\n",
       "      <td>39.757372</td>\n",
       "      <td>93.821612</td>\n",
       "    </tr>\n",
       "    <tr>\n",
       "      <th>5</th>\n",
       "      <td>SCO</td>\n",
       "      <td>42.840732</td>\n",
       "      <td>80.981961</td>\n",
       "      <td>53.528947</td>\n",
       "      <td>100.000000</td>\n",
       "    </tr>\n",
       "    <tr>\n",
       "      <th>6</th>\n",
       "      <td>SUZ</td>\n",
       "      <td>46.283508</td>\n",
       "      <td>108.112316</td>\n",
       "      <td>46.484276</td>\n",
       "      <td>100.000000</td>\n",
       "    </tr>\n",
       "    <tr>\n",
       "      <th>7</th>\n",
       "      <td>OCO</td>\n",
       "      <td>48.566108</td>\n",
       "      <td>82.450577</td>\n",
       "      <td>58.003481</td>\n",
       "      <td>100.000000</td>\n",
       "    </tr>\n",
       "    <tr>\n",
       "      <th>8</th>\n",
       "      <td>RDG</td>\n",
       "      <td>49.287372</td>\n",
       "      <td>81.713017</td>\n",
       "      <td>60.012952</td>\n",
       "      <td>98.957510</td>\n",
       "    </tr>\n",
       "    <tr>\n",
       "      <th>9</th>\n",
       "      <td>LLB</td>\n",
       "      <td>52.904498</td>\n",
       "      <td>79.197660</td>\n",
       "      <td>67.565472</td>\n",
       "      <td>99.964895</td>\n",
       "    </tr>\n",
       "    <tr>\n",
       "      <th>10</th>\n",
       "      <td>LSX</td>\n",
       "      <td>54.631468</td>\n",
       "      <td>82.885643</td>\n",
       "      <td>67.043677</td>\n",
       "      <td>99.413695</td>\n",
       "    </tr>\n",
       "    <tr>\n",
       "      <th>11</th>\n",
       "      <td>MAF</td>\n",
       "      <td>55.125499</td>\n",
       "      <td>90.853946</td>\n",
       "      <td>61.323562</td>\n",
       "      <td>98.180095</td>\n",
       "    </tr>\n",
       "    <tr>\n",
       "      <th>12</th>\n",
       "      <td>ELB</td>\n",
       "      <td>60.695847</td>\n",
       "      <td>80.036799</td>\n",
       "      <td>64.535971</td>\n",
       "      <td>100.000000</td>\n",
       "    </tr>\n",
       "    <tr>\n",
       "      <th>13</th>\n",
       "      <td>SZX</td>\n",
       "      <td>63.965670</td>\n",
       "      <td>88.439929</td>\n",
       "      <td>73.450176</td>\n",
       "      <td>98.606414</td>\n",
       "    </tr>\n",
       "    <tr>\n",
       "      <th>14</th>\n",
       "      <td>HZG</td>\n",
       "      <td>69.065642</td>\n",
       "      <td>99.301210</td>\n",
       "      <td>69.857900</td>\n",
       "      <td>100.000000</td>\n",
       "    </tr>\n",
       "    <tr>\n",
       "      <th>15</th>\n",
       "      <td>WAT</td>\n",
       "      <td>189.642313</td>\n",
       "      <td>604.881811</td>\n",
       "      <td>28.521837</td>\n",
       "      <td>98.421810</td>\n",
       "    </tr>\n",
       "  </tbody>\n",
       "</table>\n",
       "</div>"
      ],
      "text/plain": [
       "   Plant       OEE %  Performance %  Availability %   Quality %\n",
       "0    MLE   22.049109      75.949353       29.766394  100.000000\n",
       "1    LTR   30.237688      58.732124       50.668392   98.715559\n",
       "2    TRS   38.355548      87.910725       43.697346  100.000000\n",
       "3    FRA   39.353037      74.121637       51.126464   99.996135\n",
       "4    VDR   39.708202     103.854339       39.757372   93.821612\n",
       "5    SCO   42.840732      80.981961       53.528947  100.000000\n",
       "6    SUZ   46.283508     108.112316       46.484276  100.000000\n",
       "7    OCO   48.566108      82.450577       58.003481  100.000000\n",
       "8    RDG   49.287372      81.713017       60.012952   98.957510\n",
       "9    LLB   52.904498      79.197660       67.565472   99.964895\n",
       "10   LSX   54.631468      82.885643       67.043677   99.413695\n",
       "11   MAF   55.125499      90.853946       61.323562   98.180095\n",
       "12   ELB   60.695847      80.036799       64.535971  100.000000\n",
       "13   SZX   63.965670      88.439929       73.450176   98.606414\n",
       "14   HZG   69.065642      99.301210       69.857900  100.000000\n",
       "15   WAT  189.642313     604.881811       28.521837   98.421810"
      ]
     },
     "execution_count": 12,
     "metadata": {},
     "output_type": "execute_result"
    }
   ],
   "source": [
    "active_rolling.dropna(subset=[metric]).groupby('Plant').mean().sort_values(by='OEE %').reset_index()"
   ]
  },
  {
   "cell_type": "code",
   "execution_count": 13,
   "metadata": {},
   "outputs": [
    {
     "data": {
      "application/vnd.plotly.v1+json": {
       "config": {
        "plotlyServerURL": "https://plot.ly"
       },
       "data": [
        {
         "alignmentgroup": "True",
         "bingroup": "x",
         "hovertemplate": "variable=Performance %<br>Performance %=%{x}<br>count=%{y}<extra></extra>",
         "legendgroup": "Performance %",
         "marker": {
          "color": "#636efa",
          "pattern": {
           "shape": ""
          }
         },
         "name": "Performance %",
         "offsetgroup": "Performance %",
         "orientation": "v",
         "showlegend": true,
         "type": "histogram",
         "x": [
          null,
          null,
          172.5741186833763,
          154.3931022658518,
          158.63361590561215,
          103.2890308592158,
          57.62050718927911,
          4.799538814955643,
          -42.71765046976908,
          62.83653254630653,
          71.84697283952241,
          83.76536390800662,
          82.95222283300761,
          58.932458221178834,
          49.92201792796296,
          null,
          19.865920229654698,
          19.865920229654698,
          59.851433616582845,
          59.851433616582845,
          39.985513386928154,
          39.985513386928154,
          null,
          75.6891576655095,
          91.88320313426274,
          88.55244587807007,
          73.93533519170559,
          null,
          null,
          null,
          56.13520206287004,
          85.13206756438979,
          74.36206985481309,
          79.21504197920481,
          null,
          null,
          null,
          58.91459848490622,
          85.4440905815006,
          78.92237856234958,
          83.73892121045928,
          54.123949000106805,
          null,
          null,
          55.352008589992224,
          74.2034715370956,
          59.22929020451029,
          65.91080399182657,
          48.383674997014054,
          null,
          null,
          27.32160271023302,
          28.746155701846337,
          28.746155701846337,
          28.746155701846337,
          1.4245529916133144,
          0,
          null,
          38.802394552582314,
          42.51529531312993,
          60.85206501920705,
          53.21352899493409,
          null,
          null,
          null,
          106.52924320619258,
          44.83682613788003,
          31.707949450333935,
          33.45037294403569,
          32.87356781278775,
          13.731889867925593,
          null,
          null,
          null,
          null,
          null,
          null,
          null,
          null,
          70.16289000888294,
          71.56540726837848,
          null,
          null,
          null,
          null,
          null,
          57.513930453881386,
          null,
          null,
          null,
          null,
          null,
          null,
          null,
          null,
          null,
          null,
          null,
          79.11632285784403,
          77.96815381329537,
          75.36006537722575,
          72.24733223861236,
          null,
          null,
          null,
          null,
          null,
          59.55741294022316,
          57.40852589419353,
          56.38080189098959,
          null,
          null,
          null,
          null,
          92.23817788409853,
          91.764523575744,
          91.80351719192238,
          92.05938799262911,
          91.09778499739701,
          83.64527509777268,
          82.5975467302462,
          83.1068113119659,
          83.13777237104206,
          83.43992114284808,
          82.8158344116855,
          81.88397276939779,
          81.25750159165719,
          78.50040606687072,
          null,
          null,
          null,
          80.65400127719087,
          80.98087140167996,
          80.01551487661382,
          81.14349394674215,
          80.88034706213935,
          80.16254931475305,
          79.49235011152331,
          79.6278317962821,
          81.28554630424104,
          80.39598443354764,
          79.94666380986585,
          59.61187467703941,
          59.85899542098488,
          56.446701097796534,
          53.40444191311927,
          52.51401283968466,
          48.51740082251793,
          49.81248355062369,
          null,
          null,
          null,
          null,
          68.54424789525295,
          55.18621450640882,
          null,
          72.39578751941764,
          72.68254540905014,
          72.40055120561685,
          76.34872821196346,
          75.95255389234944,
          74.57524934078799,
          72.0109236065261,
          72.84893164506637,
          73.34490135888886,
          73.44011717073458,
          73.24228632769308,
          70.93911707033794,
          71.77723085559757,
          72.23456772149544,
          87.13045477352858,
          87.65156126294072,
          88.87792412098285,
          89.07521798594398,
          89.96846822149097,
          90.10399507811739,
          84.76812181871705,
          93.04204699892519,
          91.89689628373142,
          87.61081792226238,
          87.57795819234998,
          64.12206311605613,
          null,
          null,
          69.81709534529375,
          71.15149722179909,
          75.59475374817913,
          76.54913986723842,
          75.06895731263667,
          72.98633537285872,
          null,
          null,
          null,
          null,
          null,
          null,
          null,
          null,
          96.46539559204271,
          98.73831140150271,
          95.32380185962813,
          98.0060345669524,
          98.10136336608672,
          95.2148789587305,
          97.40973453339392,
          68.97562110717648,
          null,
          null,
          null,
          null,
          null,
          null,
          null,
          null,
          null,
          null,
          null,
          null,
          null,
          null,
          null,
          null,
          null,
          null,
          null,
          null,
          92.04963842262913,
          89.85043316833017,
          90.14019433835679,
          90.038089857158,
          null,
          null,
          null,
          96.75106034136915,
          93.67717837957537,
          91.56328332712049,
          90.91517825265856,
          null,
          null,
          null,
          88.80696358605886,
          90.23293674710006,
          91.17560736453144,
          null,
          null,
          null,
          null,
          93.71419261934756,
          94.65808507513674,
          93.62130282131986,
          null,
          null,
          null,
          null,
          54.128697461301115,
          59.627479844720796,
          64.32476708841523,
          null,
          null,
          null,
          null,
          null,
          null,
          47.22269893224518,
          40.96484016406467,
          39.22883575574128,
          null,
          null,
          null,
          null,
          null,
          null,
          null,
          null,
          null,
          null,
          null,
          null,
          null,
          null,
          null,
          null,
          null,
          52.19636597514572,
          50.62819835587083,
          53.51315950771999,
          56.1002902143933,
          55.4267648008438,
          58.67289599866718,
          null,
          null,
          73.403905923537,
          66.23389585994414,
          68.66667332736947,
          73.44310712713374,
          74.3352051484437,
          null,
          null,
          null,
          null,
          null,
          null,
          null,
          null,
          null,
          null,
          83.06204890442461,
          80.09631058907897,
          79.3667983084149,
          null,
          null,
          null,
          null,
          null,
          null,
          null,
          null,
          90.101763753293,
          87.88667620475572,
          88.76835024471767,
          89.61883156943468,
          93.30604752131757,
          92.06441578708038,
          93.27141269992529,
          49.72830893907859,
          47.715332182456194,
          42.36709533175721,
          42.675765928630675,
          41.686800801301175,
          36.71182275917881,
          31.604212610981524,
          null,
          null,
          null,
          null,
          null,
          null,
          null,
          null,
          null,
          null,
          37.28021498684477,
          40.217601618907196,
          40.69467596737357,
          37.01873482431397,
          75.15205040246062,
          78.43964225752623,
          80.30476988084732,
          81.67940069931342,
          81.14145753052814,
          81.2672077457588,
          81.25395169246262,
          89.34063052012922,
          89.03900511069669,
          87.55903360664254,
          86.64010853815397,
          85.90523586443159,
          71.58690348674013,
          66.8665768914418,
          33.25195143565861,
          38.82685335489687,
          null,
          null,
          null,
          null,
          null,
          64.44710130204714,
          46.731437749692134,
          36.24834009340535,
          45.418051571229135,
          49.99999841838462,
          52.867037145683355,
          49.70391366100168,
          91.25291612080589,
          91.29193080648383,
          93.7201719484267,
          92.98463118710156,
          94.92029073776365,
          95.06860814084638,
          95.04374791485102,
          92.02614769671155,
          91.94206854447862,
          92.57385954705829,
          91.598039642016,
          91.59713027397231,
          93.63375149585416,
          98.62044906567219,
          null,
          null,
          null,
          null,
          null,
          null,
          null,
          92.71300159345606,
          91.34574210300462,
          91.76966813807512,
          93.50213456140943,
          93.22482427552754,
          94.52311820838946,
          null,
          null,
          120.91635301722485,
          114.31255728460764,
          113.59760139038556,
          null,
          null,
          null,
          108.5109743593294,
          108.86911860485517,
          108.50147556577974,
          112.54300172912423,
          112.83281172183877,
          114.49114596175528,
          114.5624433949334,
          98.32830796060404,
          97.47373877284957,
          96.72451813054457,
          99.37687743286189,
          96.80382430791938,
          95.88846056489228,
          97.05932173738117,
          120.18500772939818,
          122.20585123158142,
          128.2970313148503,
          123.54108738621727,
          119.03867686728792,
          110.55569976238623,
          106.47285257692815,
          86.16876240913905,
          85.22079372478446,
          87.87155063135516,
          94.62317877026891,
          97.69335448543069,
          88.93015273169091,
          86.74214799768043,
          null,
          null,
          null,
          null,
          null,
          54.21902640921543,
          69.10709889029866,
          null,
          null,
          null,
          null,
          null,
          null,
          null,
          null,
          null,
          null,
          null,
          null,
          null,
          null,
          83.48420402163802,
          82.57390551854876,
          81.41073683465814,
          78.784044324601,
          81.0692914212057,
          78.37930105223208,
          76.43050881676855,
          58.02633218174128,
          45.2582514081037,
          34.35619904389736,
          38.92238276141538,
          47.21488683300862,
          56.6902634599619,
          66.21919851645822,
          78.67341392832807,
          67.16881767158642,
          53.823476961525806,
          56.28857222301508,
          61.76117304319536,
          55.77013557529521,
          76.12885543784407,
          73.02646818595403,
          72.23114848139362,
          72.08542114039437,
          74.7380424169443,
          96.55741260245857,
          90.23298644345435,
          84.2692444031532,
          62.01689652253278,
          58.64468217465821,
          64.91913445463933,
          89.27439246020842,
          85.12281297536967,
          84.43999582271678,
          76.3571549254407,
          64.83021671769865,
          71.33700229567971,
          70.45855884530721,
          68.22046654086529,
          69.90374535642047,
          70.49361835520322,
          74.57970079266745,
          null,
          null,
          null,
          67.55041422852624,
          67.87047762266263,
          null,
          null,
          null,
          148.52472666538492,
          138.4223074924166,
          68.11186999175155,
          66.94666861227425,
          46.073109481594024,
          43.18001301304577,
          null,
          null,
          null,
          null,
          70.47728882692992,
          59.97539505897471,
          55.50693886842088,
          77.58926505339316,
          76.6806192702712,
          76.51994268276333,
          72.22693973405275,
          71.42806111988469,
          70.62313902921473,
          66.1267319055749,
          78.08133352714657,
          83.73510275666281,
          83.41288551698855,
          74.66710370221547,
          74.84606201471026,
          68.36990316019472,
          66.75208259967259,
          null,
          59.32421489659213,
          68.16410660830667,
          69.75696235911515,
          68.45445658004517,
          70.24691973049157,
          63.276057759720196,
          104.67805062013322,
          109.5587300534962,
          97.75699888459667,
          85.56912892286694,
          88.7442450540234,
          76.61416705626422,
          80.09609926149196,
          100.44486022433715,
          99.70078568007185,
          95.80310093391502,
          93.55933666592458,
          88.05472846403919,
          83.21874355372861,
          82.26885880779531,
          null,
          null,
          null,
          76.27317513013173,
          71.56863719154424,
          66.73426447031585,
          63.52720173944378,
          null,
          null,
          null,
          null,
          73.86988474838367,
          70.67097084595622,
          70.93113740207153,
          79.88765839056575,
          80.64634052006883,
          79.81690030132089,
          83.39847675700224,
          86.71720122371664,
          86.46196507008057,
          86.18486755778594,
          73.2296279577679,
          72.5074714316928,
          73.70515368996357,
          78.1776247085063,
          81.39382181019897,
          81.4037875609014,
          81.40554430759015,
          75.67778140975504,
          74.07383633582867,
          69.7798451621103,
          75.32704999058402,
          79.83333724135073,
          81.3289624552402,
          85.48507805072676,
          84.26542707105698,
          85.92260551251977,
          87.42358497990492,
          87.10724363595799,
          89.17723194849235,
          90.45330796049961,
          89.58920804953564,
          89.41739295347809,
          89.56765365280401,
          90.11073567473152,
          93.34570358369466,
          93.48532710941087,
          94.30304016730196,
          93.750741041385,
          69.40726790169302,
          71.75483768325391,
          77.16729315611747,
          95.08361717302665,
          94.62882746368061,
          89.9840983529246,
          87.81770355673923,
          86.76029914950462,
          85.16462414049005,
          83.5139573757892,
          89.07772088169054,
          92.16011007733002,
          92.86362205667336,
          95.1868210741855,
          83.31528008312114,
          75.86014073332717,
          80.74600544235899,
          85.59418850318026,
          92.80980114314788,
          102.07020693610222,
          94.0878139038843,
          66.56855251393152,
          72.6862936279947,
          73.66455717878618,
          77.99800218414507,
          78.25356503220036,
          70.65304234814647,
          null,
          77.67376750027634,
          77.67206500917915,
          72.47648115902842,
          69.27876878527032,
          78.70156633550634,
          79.1180891234929,
          74.94880971270975,
          null,
          null,
          null,
          null,
          null,
          null,
          51.80212673366573,
          null,
          null,
          null,
          67.06018958004482,
          66.063341524183,
          null,
          null,
          null,
          null,
          null,
          null,
          null,
          null,
          null,
          null,
          null,
          null,
          null,
          null,
          null,
          null,
          64.74385979417693,
          67.20034704633157,
          68.74654800350909,
          70.55389657044847,
          70.10059044579181,
          68.23782687322782,
          68.7720117850895,
          null,
          null,
          54.74640529027248,
          57.341896953701024,
          61.50434107083786,
          62.85746816791284,
          63.413769813097105,
          71.94928481649518,
          null,
          null,
          null,
          null,
          70.06973070984839,
          67.70092646956438,
          null,
          67.47556868004729,
          70.62521757331501,
          70.06743581076606,
          69.14048543346748,
          66.6715898457793,
          61.28775840093397,
          null,
          null,
          null,
          10.625656798533312,
          6.884788541954916,
          4.847363392254318,
          null,
          null,
          null,
          null,
          null,
          null,
          null,
          null,
          null,
          null,
          78.76867712555236,
          70.19638062929789,
          66.80497728624358,
          61.964281221646395,
          55.25097455722167,
          null,
          null,
          null,
          null,
          null,
          null,
          null,
          null,
          null,
          34.496096340715596,
          42.864773241300384,
          38.77020105113287,
          38.67108337408973,
          30.925949028814912,
          null,
          null,
          null,
          83.67652851000256,
          84.29860638568279,
          83.60580025799516,
          81.35418263682385,
          80.26453483699764,
          77.6435174109579,
          80.2608154163169,
          90.41061447984933,
          88.11970726976817,
          87.79047965045903,
          87.45695316759009,
          84.63444470044553,
          86.7796910257164,
          89.0878034191629,
          83.74089693839531,
          82.06644387479902,
          80.10871448583796,
          80.53347241381442,
          80.62256667708859,
          80.79809636376321,
          83.33147078779717,
          89.99545032592361,
          89.20470231559926,
          89.86653175232763,
          89.10717468772066,
          87.06573257647264,
          83.70769646582451,
          82.8371313326083,
          80.4563417695669,
          81.7372099500651,
          79.84318469970297,
          77.83182365288958,
          75.20841451535752,
          73.44977311822767,
          74.39354328379994,
          86.8400029638234,
          87.50317017313739,
          87.26231775984346,
          null,
          null,
          null,
          null,
          99.72791378845085,
          99.55496285273543,
          98.99174974866304,
          97.4706452013349,
          97.77428071439829,
          98.17595917548451,
          96.65432626759812,
          96.81424110105135,
          96.98166360389305,
          98.42374258453466,
          98.3445124181609,
          99.15587010519698,
          99.22037849949606,
          null,
          null,
          99.85785019180064,
          102.98113431953355,
          104.07614090394787,
          103.842750074644,
          103.69812312466712,
          103.03547563792208,
          96.96273413563665,
          null,
          null,
          null,
          null,
          null,
          null,
          null,
          103.45758806058527,
          103.2308948367062,
          103.35112022894702,
          103.42300455014643,
          103.09089544708704,
          100.13215245849267,
          74.14378532836764,
          99.51086940811898,
          98.60273433456331,
          99.9736291795434,
          100.54875487438878,
          100.28621007191649,
          97.93485805933597,
          null,
          89.03599685565031,
          86.03959307591619,
          null,
          null,
          null,
          null,
          79.07974902519538,
          null,
          null,
          null,
          null,
          null,
          75.94935276806899,
          null,
          null,
          null,
          null,
          null,
          null,
          null,
          null,
          65.36529704870922,
          77.87236074350156,
          103.48224311848915,
          100.20354886413082,
          103.33786781922993,
          96.22685239782899,
          96.17887902949911,
          92.76206143215202,
          88.86333154007282,
          86.80369562996874,
          81.97393210510262,
          77.20504861783996,
          76.95328744310558,
          70.340452867429,
          65.79118676230681,
          65.3889016036811,
          82.99427413210967,
          80.33435757147399,
          81.1086332140435,
          80.46149494054299,
          74.77377634430991,
          74.68180620578495,
          73.72593305495992,
          null,
          null,
          63.21748486952356,
          65.43222250909398,
          66.9596805312717,
          69.53102104850593,
          70.8264524266945,
          null,
          null,
          null,
          null,
          null,
          null,
          null,
          81.45573081807724,
          79.61560726627191,
          76.47613335503067,
          75.57882525252026,
          72.86127213411471,
          null,
          null,
          null,
          null,
          null,
          null,
          null,
          null,
          null,
          null,
          null,
          null,
          76.28532806042226,
          86.67307138479678,
          92.38300928460919,
          86.72619668280659,
          null,
          null,
          null,
          null,
          89.78916411176995,
          86.14803711909379,
          73.22112791499138,
          92.38163336000108,
          91.82015090081896,
          91.8269589695865,
          92.38379090339298,
          97.9155745751079,
          97.8571468369466,
          null,
          84.89828293225462,
          83.62002396199145,
          85.17475503183559,
          86.04845992776391,
          86.61003446598828,
          86.88360477095547,
          null,
          null,
          null,
          null,
          null,
          null,
          null,
          null,
          null,
          null,
          null,
          null,
          null,
          null,
          null,
          null,
          null,
          93.88916278013929,
          92.10461111215498,
          null,
          null,
          null,
          null,
          null,
          null,
          null,
          null,
          null,
          null,
          null,
          null,
          76.77748972301424,
          74.74697826099501,
          71.0468428272798,
          null,
          null,
          null,
          null,
          null,
          null,
          null,
          null,
          null,
          null,
          null,
          null,
          null,
          null,
          null,
          null,
          null,
          null,
          null,
          null,
          null,
          null,
          47.310874759837844,
          48.95826969980614,
          141.7963553759604,
          0,
          1.5096618357487925,
          null,
          null,
          null,
          null,
          null,
          24.64555764159232,
          19.313273832898762,
          37.62532935927538,
          36.855487806526966,
          29.04571126722013,
          25.514283080013843,
          2.177274399952189,
          23.9637771889114,
          48.58144982767797,
          49.64604164686832,
          33.590730055185034,
          31.77993387510276,
          5.873674215052335,
          null,
          89.9075973179223,
          90.58882939653947,
          89.25697328209866,
          91.10581700699501,
          90.01702985611004,
          87.33493580618571,
          87.82419555654376,
          75.63102728622954,
          75.27856358458348,
          76.12871469179169,
          73.32835798476161,
          71.12397108666826,
          71.252792636872,
          72.62901429153376,
          77.44923820433557,
          81.03345507133383,
          80.45026138261612,
          81.18175599419024,
          83.17782311892785,
          77.38720864260193,
          72.6630448663712,
          null,
          89.23634497747155,
          90.11253400925239,
          90.39583325497179,
          93.14492244370314,
          92.21868812424955,
          93.27835899868013,
          92.32386240762531,
          91.22953513196099,
          91.18745613735267,
          90.59268105174903,
          91.06246296853291,
          null,
          null,
          92.42601437164221,
          91.3944451392622,
          90.73607008535726,
          90.94953639074132,
          91.3675321632144,
          94.07942559704173,
          94.74509757601365,
          86.07592035798352,
          85.63764140055846,
          84.60190057147749,
          84.64110192144013,
          84.58163671690383,
          86.62543960952195,
          87.52744839862739,
          null,
          78.20997295024377,
          77.79279944855237,
          77.42505538981837,
          77.36799730345186,
          76.57697751938943,
          75.37541223014328,
          92.21090288960866,
          88.5728094538417,
          89.71711786487583,
          89.51647376405573,
          88.96289596508393,
          83.82287313167548,
          78.79075569206734,
          92.5303448332329,
          91.99646827195046,
          92.48834774502545,
          91.94413607156467,
          88.02173878782642,
          87.36029911482196,
          86.60165173572003,
          null,
          null,
          79.30213206179464,
          79.36588090283627,
          80.63569293377819,
          80.52720500454878,
          77.13289345151361,
          null,
          null,
          null,
          null,
          null,
          null,
          null,
          null,
          null,
          null,
          null,
          101.49733409403711,
          97.72535861157512,
          89.1944723658379,
          null,
          null,
          null,
          null,
          null,
          null,
          null,
          null,
          null,
          null,
          null,
          null,
          null,
          null,
          null,
          null,
          null,
          null,
          null,
          null,
          null,
          78.1971152020952,
          72.53634135030718,
          76.79382037606578,
          74.56788811030196,
          74.93046879342779,
          78.95007260434289,
          78.84745529104623,
          null,
          null,
          null,
          98.30789788027643,
          102.45294606330447,
          null,
          null,
          84.02248337838779,
          78.94490126410943,
          77.59483411315664,
          76.35464498603238,
          null,
          null,
          null,
          null,
          null,
          null,
          71.285393809099,
          null,
          null,
          null,
          null,
          null,
          null,
          null,
          null,
          null,
          null,
          null,
          null,
          null,
          null,
          null,
          null,
          null,
          null,
          null,
          null,
          472.3830782116759,
          442.4246195418426,
          330.7625958785457,
          305.2178839042067,
          null,
          null,
          null,
          105.60733930937393,
          114.10906485849935,
          106.87077466732887,
          127.18040094241725,
          null,
          null,
          null,
          null,
          null,
          null,
          null,
          null,
          null,
          null,
          21.26239487912121,
          18.702671865813095,
          54.65199612998681,
          75.07199899039558,
          124.40036203325855,
          120.60439387282722,
          122.37796676051562,
          123.70054537762152,
          121.29107899937503,
          121.64138168073409,
          null,
          null,
          null,
          null,
          null,
          86.28406963219845,
          null,
          null,
          null,
          null,
          null,
          null,
          90.48211851745954,
          87.20670114744136,
          76.82081485815036,
          null,
          null,
          null,
          null,
          null,
          null,
          null,
          121.12607022330766,
          106.35939137642914,
          99.98213931962687,
          100.11092037363402,
          87.5738168807761,
          87.71966724883934,
          87.84676398869571,
          91.8716350984251,
          97.0823247580546,
          99.30027681756886,
          111.06412816778646,
          106.62221381773372,
          106.57346945132416,
          108.42715074061549,
          92.23286326461077,
          86.05897946336935,
          90.82641213161943,
          86.62338176421332,
          83.83909137347888,
          87.67109658858159,
          82.77685882880938,
          98.18758235471702,
          96.59767883636933,
          93.11373338968392,
          92.34201832588798,
          90.37997465056961,
          90.63256661054331,
          null,
          null,
          null,
          null,
          null,
          null,
          96.61466986448498,
          61.2979103311194,
          72.44657769561555,
          76.3563179414906,
          75.48255553512486,
          78.2203284790804,
          85.867565049812,
          83.31838784567697,
          85.14770013991762,
          180.3091187553485,
          181.56861849109532,
          105.7121544712388,
          101.01053935301144,
          97.35547258092664,
          92.84376792698556,
          87.48676098105294,
          null,
          null,
          null,
          null,
          null,
          null,
          101.00133033821683,
          139.26092939099962,
          140.1006472898012,
          112.5323018170765,
          116.53731029732096,
          113.98340023544516,
          117.76126706259109,
          122.60779683901221,
          77.42963171299994,
          81.35443113363385,
          85.33627712877494,
          82.6048672754334,
          79.33687901288086,
          76.58199273691606,
          null,
          80.95741473871323,
          78.57921657153055,
          76.31002658503094,
          77.87142708389563,
          77.19004219183452,
          76.05151328888567,
          76.47454288987316,
          99.20661970198614,
          96.03284729383873,
          97.84301167690634,
          97.16478940638498,
          99.96378945638673,
          116.61639962780586,
          121.51580186155351,
          null,
          null,
          null,
          null,
          105.97604580135805,
          113.07915737635888,
          108.53236727349287,
          null,
          null,
          null,
          null,
          null,
          94.93687462510937,
          91.00199063570741,
          110.02361484361037,
          106.53013664138848,
          112.0986585759359,
          116.98479851568882,
          122.69459626262528,
          null,
          null,
          133.4962578667938,
          140.7820173116993,
          147.03119579609344,
          149.1521167299281,
          155.3849951979454,
          154.4858236590792,
          149.48969009104803,
          null,
          null,
          null,
          null,
          null,
          null,
          null,
          null,
          null,
          null,
          null,
          null,
          null,
          null,
          null,
          null,
          null,
          null,
          null,
          null,
          null,
          61.03005945905518,
          65.87921925107612,
          64.94031088460811,
          86.88813427091175,
          87.51174437438323,
          88.01433046360437,
          91.3455087330189,
          null,
          null,
          null,
          95.10183695883725,
          93.64177745123817,
          93.67077828456388,
          94.65218928615613,
          null,
          null,
          null,
          null,
          null,
          null,
          null,
          null,
          null,
          null,
          null,
          null,
          null,
          71.60831029333428,
          null,
          null,
          null,
          null,
          null,
          null,
          90.28233578335002,
          null,
          82.18581743682371,
          80.99060021232808,
          85.09108935875446,
          94.53385447458443,
          103.10884597950128,
          110.39949721268135,
          null,
          null,
          null,
          null,
          null,
          null,
          null,
          74.42027738766895,
          75.68285253722127,
          79.44465892983227,
          91.2074666268409,
          85.81171851785193,
          61.265066709524504,
          63.797314128942304,
          null,
          null,
          null,
          null,
          null,
          null,
          null,
          null,
          null,
          null,
          null,
          96.53413779476945,
          95.22317245717288,
          92.1722959021372,
          81.36887556579586,
          80.9489308539124,
          87.19604456930024,
          82.42470810373243,
          85.69036341480046,
          86.04045397607526,
          84.15668037739023,
          null,
          null,
          null,
          null,
          null,
          null,
          null,
          null,
          null,
          null,
          117.3917388419099,
          109.75157577156733,
          107.69135209935487,
          103.59294945266524,
          91.38759146744356,
          93.31082598594949,
          null,
          null,
          null,
          null,
          null,
          null,
          null,
          null,
          null,
          null,
          null,
          null,
          null,
          null,
          null,
          null,
          null,
          null,
          null,
          null,
          null,
          null,
          null,
          null,
          null,
          null,
          null,
          null,
          null,
          null,
          null,
          null,
          null,
          null,
          null,
          null,
          null,
          null,
          null,
          null,
          null,
          null,
          null,
          null,
          null,
          null,
          null,
          null,
          null,
          null,
          null,
          null,
          null,
          null,
          null,
          null,
          null,
          null,
          null,
          null,
          null,
          null,
          823.650583367953,
          661.5830476264048,
          607.6612980572108,
          496.0870405550472,
          483.96468835763153,
          572.813150179764,
          null,
          null,
          null,
          null,
          null,
          91.17309959563228,
          96.0714178736389,
          null,
          118.31844941466612,
          111.05604242357158,
          109.45251144805304,
          114.13109246138664,
          110.32716364152245,
          110.42565774352562,
          null,
          null,
          2877.9305631539937,
          3237.05234626743,
          3016.149778369918,
          3024.0153197313603,
          474.4594820904065,
          null,
          65.69341833304486,
          93.28789315717631,
          129.05804599345802,
          184.23536179746623,
          177.28231032359216,
          183.68697382667398,
          null,
          76.91637827214419,
          104.15339387389123,
          126.34743746541413,
          164.660713530595,
          152.5807510802978,
          157.1107428110534,
          null,
          null,
          null
         ],
         "xaxis": "x",
         "yaxis": "y"
        }
       ],
       "layout": {
        "barmode": "relative",
        "legend": {
         "title": {
          "text": "variable"
         },
         "tracegroupgap": 0
        },
        "margin": {
         "t": 60
        },
        "template": {
         "data": {
          "bar": [
           {
            "error_x": {
             "color": "#2a3f5f"
            },
            "error_y": {
             "color": "#2a3f5f"
            },
            "marker": {
             "line": {
              "color": "#E5ECF6",
              "width": 0.5
             },
             "pattern": {
              "fillmode": "overlay",
              "size": 10,
              "solidity": 0.2
             }
            },
            "type": "bar"
           }
          ],
          "barpolar": [
           {
            "marker": {
             "line": {
              "color": "#E5ECF6",
              "width": 0.5
             },
             "pattern": {
              "fillmode": "overlay",
              "size": 10,
              "solidity": 0.2
             }
            },
            "type": "barpolar"
           }
          ],
          "carpet": [
           {
            "aaxis": {
             "endlinecolor": "#2a3f5f",
             "gridcolor": "white",
             "linecolor": "white",
             "minorgridcolor": "white",
             "startlinecolor": "#2a3f5f"
            },
            "baxis": {
             "endlinecolor": "#2a3f5f",
             "gridcolor": "white",
             "linecolor": "white",
             "minorgridcolor": "white",
             "startlinecolor": "#2a3f5f"
            },
            "type": "carpet"
           }
          ],
          "choropleth": [
           {
            "colorbar": {
             "outlinewidth": 0,
             "ticks": ""
            },
            "type": "choropleth"
           }
          ],
          "contour": [
           {
            "colorbar": {
             "outlinewidth": 0,
             "ticks": ""
            },
            "colorscale": [
             [
              0,
              "#0d0887"
             ],
             [
              0.1111111111111111,
              "#46039f"
             ],
             [
              0.2222222222222222,
              "#7201a8"
             ],
             [
              0.3333333333333333,
              "#9c179e"
             ],
             [
              0.4444444444444444,
              "#bd3786"
             ],
             [
              0.5555555555555556,
              "#d8576b"
             ],
             [
              0.6666666666666666,
              "#ed7953"
             ],
             [
              0.7777777777777778,
              "#fb9f3a"
             ],
             [
              0.8888888888888888,
              "#fdca26"
             ],
             [
              1,
              "#f0f921"
             ]
            ],
            "type": "contour"
           }
          ],
          "contourcarpet": [
           {
            "colorbar": {
             "outlinewidth": 0,
             "ticks": ""
            },
            "type": "contourcarpet"
           }
          ],
          "heatmap": [
           {
            "colorbar": {
             "outlinewidth": 0,
             "ticks": ""
            },
            "colorscale": [
             [
              0,
              "#0d0887"
             ],
             [
              0.1111111111111111,
              "#46039f"
             ],
             [
              0.2222222222222222,
              "#7201a8"
             ],
             [
              0.3333333333333333,
              "#9c179e"
             ],
             [
              0.4444444444444444,
              "#bd3786"
             ],
             [
              0.5555555555555556,
              "#d8576b"
             ],
             [
              0.6666666666666666,
              "#ed7953"
             ],
             [
              0.7777777777777778,
              "#fb9f3a"
             ],
             [
              0.8888888888888888,
              "#fdca26"
             ],
             [
              1,
              "#f0f921"
             ]
            ],
            "type": "heatmap"
           }
          ],
          "heatmapgl": [
           {
            "colorbar": {
             "outlinewidth": 0,
             "ticks": ""
            },
            "colorscale": [
             [
              0,
              "#0d0887"
             ],
             [
              0.1111111111111111,
              "#46039f"
             ],
             [
              0.2222222222222222,
              "#7201a8"
             ],
             [
              0.3333333333333333,
              "#9c179e"
             ],
             [
              0.4444444444444444,
              "#bd3786"
             ],
             [
              0.5555555555555556,
              "#d8576b"
             ],
             [
              0.6666666666666666,
              "#ed7953"
             ],
             [
              0.7777777777777778,
              "#fb9f3a"
             ],
             [
              0.8888888888888888,
              "#fdca26"
             ],
             [
              1,
              "#f0f921"
             ]
            ],
            "type": "heatmapgl"
           }
          ],
          "histogram": [
           {
            "marker": {
             "pattern": {
              "fillmode": "overlay",
              "size": 10,
              "solidity": 0.2
             }
            },
            "type": "histogram"
           }
          ],
          "histogram2d": [
           {
            "colorbar": {
             "outlinewidth": 0,
             "ticks": ""
            },
            "colorscale": [
             [
              0,
              "#0d0887"
             ],
             [
              0.1111111111111111,
              "#46039f"
             ],
             [
              0.2222222222222222,
              "#7201a8"
             ],
             [
              0.3333333333333333,
              "#9c179e"
             ],
             [
              0.4444444444444444,
              "#bd3786"
             ],
             [
              0.5555555555555556,
              "#d8576b"
             ],
             [
              0.6666666666666666,
              "#ed7953"
             ],
             [
              0.7777777777777778,
              "#fb9f3a"
             ],
             [
              0.8888888888888888,
              "#fdca26"
             ],
             [
              1,
              "#f0f921"
             ]
            ],
            "type": "histogram2d"
           }
          ],
          "histogram2dcontour": [
           {
            "colorbar": {
             "outlinewidth": 0,
             "ticks": ""
            },
            "colorscale": [
             [
              0,
              "#0d0887"
             ],
             [
              0.1111111111111111,
              "#46039f"
             ],
             [
              0.2222222222222222,
              "#7201a8"
             ],
             [
              0.3333333333333333,
              "#9c179e"
             ],
             [
              0.4444444444444444,
              "#bd3786"
             ],
             [
              0.5555555555555556,
              "#d8576b"
             ],
             [
              0.6666666666666666,
              "#ed7953"
             ],
             [
              0.7777777777777778,
              "#fb9f3a"
             ],
             [
              0.8888888888888888,
              "#fdca26"
             ],
             [
              1,
              "#f0f921"
             ]
            ],
            "type": "histogram2dcontour"
           }
          ],
          "mesh3d": [
           {
            "colorbar": {
             "outlinewidth": 0,
             "ticks": ""
            },
            "type": "mesh3d"
           }
          ],
          "parcoords": [
           {
            "line": {
             "colorbar": {
              "outlinewidth": 0,
              "ticks": ""
             }
            },
            "type": "parcoords"
           }
          ],
          "pie": [
           {
            "automargin": true,
            "type": "pie"
           }
          ],
          "scatter": [
           {
            "marker": {
             "colorbar": {
              "outlinewidth": 0,
              "ticks": ""
             }
            },
            "type": "scatter"
           }
          ],
          "scatter3d": [
           {
            "line": {
             "colorbar": {
              "outlinewidth": 0,
              "ticks": ""
             }
            },
            "marker": {
             "colorbar": {
              "outlinewidth": 0,
              "ticks": ""
             }
            },
            "type": "scatter3d"
           }
          ],
          "scattercarpet": [
           {
            "marker": {
             "colorbar": {
              "outlinewidth": 0,
              "ticks": ""
             }
            },
            "type": "scattercarpet"
           }
          ],
          "scattergeo": [
           {
            "marker": {
             "colorbar": {
              "outlinewidth": 0,
              "ticks": ""
             }
            },
            "type": "scattergeo"
           }
          ],
          "scattergl": [
           {
            "marker": {
             "colorbar": {
              "outlinewidth": 0,
              "ticks": ""
             }
            },
            "type": "scattergl"
           }
          ],
          "scattermapbox": [
           {
            "marker": {
             "colorbar": {
              "outlinewidth": 0,
              "ticks": ""
             }
            },
            "type": "scattermapbox"
           }
          ],
          "scatterpolar": [
           {
            "marker": {
             "colorbar": {
              "outlinewidth": 0,
              "ticks": ""
             }
            },
            "type": "scatterpolar"
           }
          ],
          "scatterpolargl": [
           {
            "marker": {
             "colorbar": {
              "outlinewidth": 0,
              "ticks": ""
             }
            },
            "type": "scatterpolargl"
           }
          ],
          "scatterternary": [
           {
            "marker": {
             "colorbar": {
              "outlinewidth": 0,
              "ticks": ""
             }
            },
            "type": "scatterternary"
           }
          ],
          "surface": [
           {
            "colorbar": {
             "outlinewidth": 0,
             "ticks": ""
            },
            "colorscale": [
             [
              0,
              "#0d0887"
             ],
             [
              0.1111111111111111,
              "#46039f"
             ],
             [
              0.2222222222222222,
              "#7201a8"
             ],
             [
              0.3333333333333333,
              "#9c179e"
             ],
             [
              0.4444444444444444,
              "#bd3786"
             ],
             [
              0.5555555555555556,
              "#d8576b"
             ],
             [
              0.6666666666666666,
              "#ed7953"
             ],
             [
              0.7777777777777778,
              "#fb9f3a"
             ],
             [
              0.8888888888888888,
              "#fdca26"
             ],
             [
              1,
              "#f0f921"
             ]
            ],
            "type": "surface"
           }
          ],
          "table": [
           {
            "cells": {
             "fill": {
              "color": "#EBF0F8"
             },
             "line": {
              "color": "white"
             }
            },
            "header": {
             "fill": {
              "color": "#C8D4E3"
             },
             "line": {
              "color": "white"
             }
            },
            "type": "table"
           }
          ]
         },
         "layout": {
          "annotationdefaults": {
           "arrowcolor": "#2a3f5f",
           "arrowhead": 0,
           "arrowwidth": 1
          },
          "autotypenumbers": "strict",
          "coloraxis": {
           "colorbar": {
            "outlinewidth": 0,
            "ticks": ""
           }
          },
          "colorscale": {
           "diverging": [
            [
             0,
             "#8e0152"
            ],
            [
             0.1,
             "#c51b7d"
            ],
            [
             0.2,
             "#de77ae"
            ],
            [
             0.3,
             "#f1b6da"
            ],
            [
             0.4,
             "#fde0ef"
            ],
            [
             0.5,
             "#f7f7f7"
            ],
            [
             0.6,
             "#e6f5d0"
            ],
            [
             0.7,
             "#b8e186"
            ],
            [
             0.8,
             "#7fbc41"
            ],
            [
             0.9,
             "#4d9221"
            ],
            [
             1,
             "#276419"
            ]
           ],
           "sequential": [
            [
             0,
             "#0d0887"
            ],
            [
             0.1111111111111111,
             "#46039f"
            ],
            [
             0.2222222222222222,
             "#7201a8"
            ],
            [
             0.3333333333333333,
             "#9c179e"
            ],
            [
             0.4444444444444444,
             "#bd3786"
            ],
            [
             0.5555555555555556,
             "#d8576b"
            ],
            [
             0.6666666666666666,
             "#ed7953"
            ],
            [
             0.7777777777777778,
             "#fb9f3a"
            ],
            [
             0.8888888888888888,
             "#fdca26"
            ],
            [
             1,
             "#f0f921"
            ]
           ],
           "sequentialminus": [
            [
             0,
             "#0d0887"
            ],
            [
             0.1111111111111111,
             "#46039f"
            ],
            [
             0.2222222222222222,
             "#7201a8"
            ],
            [
             0.3333333333333333,
             "#9c179e"
            ],
            [
             0.4444444444444444,
             "#bd3786"
            ],
            [
             0.5555555555555556,
             "#d8576b"
            ],
            [
             0.6666666666666666,
             "#ed7953"
            ],
            [
             0.7777777777777778,
             "#fb9f3a"
            ],
            [
             0.8888888888888888,
             "#fdca26"
            ],
            [
             1,
             "#f0f921"
            ]
           ]
          },
          "colorway": [
           "#636efa",
           "#EF553B",
           "#00cc96",
           "#ab63fa",
           "#FFA15A",
           "#19d3f3",
           "#FF6692",
           "#B6E880",
           "#FF97FF",
           "#FECB52"
          ],
          "font": {
           "color": "#2a3f5f"
          },
          "geo": {
           "bgcolor": "white",
           "lakecolor": "white",
           "landcolor": "#E5ECF6",
           "showlakes": true,
           "showland": true,
           "subunitcolor": "white"
          },
          "hoverlabel": {
           "align": "left"
          },
          "hovermode": "closest",
          "mapbox": {
           "style": "light"
          },
          "paper_bgcolor": "white",
          "plot_bgcolor": "#E5ECF6",
          "polar": {
           "angularaxis": {
            "gridcolor": "white",
            "linecolor": "white",
            "ticks": ""
           },
           "bgcolor": "#E5ECF6",
           "radialaxis": {
            "gridcolor": "white",
            "linecolor": "white",
            "ticks": ""
           }
          },
          "scene": {
           "xaxis": {
            "backgroundcolor": "#E5ECF6",
            "gridcolor": "white",
            "gridwidth": 2,
            "linecolor": "white",
            "showbackground": true,
            "ticks": "",
            "zerolinecolor": "white"
           },
           "yaxis": {
            "backgroundcolor": "#E5ECF6",
            "gridcolor": "white",
            "gridwidth": 2,
            "linecolor": "white",
            "showbackground": true,
            "ticks": "",
            "zerolinecolor": "white"
           },
           "zaxis": {
            "backgroundcolor": "#E5ECF6",
            "gridcolor": "white",
            "gridwidth": 2,
            "linecolor": "white",
            "showbackground": true,
            "ticks": "",
            "zerolinecolor": "white"
           }
          },
          "shapedefaults": {
           "line": {
            "color": "#2a3f5f"
           }
          },
          "ternary": {
           "aaxis": {
            "gridcolor": "white",
            "linecolor": "white",
            "ticks": ""
           },
           "baxis": {
            "gridcolor": "white",
            "linecolor": "white",
            "ticks": ""
           },
           "bgcolor": "#E5ECF6",
           "caxis": {
            "gridcolor": "white",
            "linecolor": "white",
            "ticks": ""
           }
          },
          "title": {
           "x": 0.05
          },
          "xaxis": {
           "automargin": true,
           "gridcolor": "white",
           "linecolor": "white",
           "ticks": "",
           "title": {
            "standoff": 15
           },
           "zerolinecolor": "white",
           "zerolinewidth": 2
          },
          "yaxis": {
           "automargin": true,
           "gridcolor": "white",
           "linecolor": "white",
           "ticks": "",
           "title": {
            "standoff": 15
           },
           "zerolinecolor": "white",
           "zerolinewidth": 2
          }
         }
        },
        "xaxis": {
         "anchor": "y",
         "domain": [
          0,
          1
         ],
         "title": {
          "text": "Performance %"
         }
        },
        "yaxis": {
         "anchor": "x",
         "domain": [
          0,
          1
         ],
         "title": {
          "text": "count"
         }
        }
       }
      }
     },
     "metadata": {},
     "output_type": "display_data"
    }
   ],
   "source": [
    "# sns.displot(rolling_avg[rolling_avg['OEE %'] < 4].dropna(subset=['OEE %'])['OEE %'])\n",
    "fig = px.histogram(rolling_avg['Performance %']\n",
    "    ,labels={'value':'Performance %'})\n",
    "fig.show()"
   ]
  },
  {
   "cell_type": "markdown",
   "metadata": {},
   "source": [
    "Create a scatter of all the Lines by Availability and Performance %.\n",
    "\n",
    "This one is created using plotly - very nice but couldn't get some of the formatting I wanted.  So it's charted again underneath using plt"
   ]
  },
  {
   "cell_type": "code",
   "execution_count": 41,
   "metadata": {},
   "outputs": [
    {
     "data": {
      "application/vnd.plotly.v1+json": {
       "config": {
        "plotlyServerURL": "https://plot.ly"
       },
       "data": [
        {
         "hovertemplate": "Line=ELB - Extraction B12 1st cycle<br>Plant=ELB<br>Availability %=%{x}<br>Performance %=%{y}<extra></extra>",
         "legendgroup": "ELB - Extraction B12 1st cycle, ELB",
         "marker": {
          "color": "#636efa",
          "symbol": "circle"
         },
         "mode": "markers",
         "name": "ELB - Extraction B12 1st cycle, ELB",
         "orientation": "v",
         "showlegend": true,
         "type": "scatter",
         "x": [
          47.49078126439778,
          53.593806745249054,
          54.35819166588398,
          32.086805555555564,
          -0.7900958994708951,
          -24.076471560846556,
          -60.87691587734822
         ],
         "xaxis": "x",
         "y": [
          172.5741186833763,
          154.3931022658518,
          158.63361590561215,
          103.2890308592158,
          57.62050718927911,
          4.799538814955643,
          -42.71765046976908
         ],
         "yaxis": "y"
        },
        {
         "hovertemplate": "Line=ELB - FERMENTATION E05<br>Plant=ELB<br>Availability %=%{x}<br>Performance %=%{y}<extra></extra>",
         "legendgroup": "ELB - FERMENTATION E05, ELB",
         "marker": {
          "color": "#EF553B",
          "symbol": "circle"
         },
         "mode": "markers",
         "name": "ELB - FERMENTATION E05, ELB",
         "orientation": "v",
         "showlegend": true,
         "type": "scatter",
         "x": [
          77.34334483139045,
          71.07396033898436,
          80.15105193951348,
          66.44655257936508,
          61.7243716931217,
          63.78993055555556,
          38.78993055555556
         ],
         "xaxis": "x",
         "y": [
          62.83653254630653,
          71.84697283952241,
          83.76536390800662,
          82.95222283300761,
          58.932458221178834,
          49.92201792796296,
          null
         ],
         "yaxis": "y"
        },
        {
         "hovertemplate": "Line=ELB - FERMENTATION E06<br>Plant=ELB<br>Availability %=%{x}<br>Performance %=%{y}<extra></extra>",
         "legendgroup": "ELB - FERMENTATION E06, ELB",
         "marker": {
          "color": "#00cc96",
          "symbol": "circle"
         },
         "mode": "markers",
         "name": "ELB - FERMENTATION E06, ELB",
         "orientation": "v",
         "showlegend": true,
         "type": "scatter",
         "x": [
          55.92831129189302,
          65.09950328339751,
          65.74934620667793,
          69.89847883597882,
          65.41439318783068,
          56.23743386243386,
          32.81473214285714
         ],
         "xaxis": "x",
         "y": [
          19.865920229654698,
          19.865920229654698,
          59.851433616582845,
          59.851433616582845,
          39.985513386928154,
          39.985513386928154,
          null
         ],
         "yaxis": "y"
        },
        {
         "hovertemplate": "Line=ELB - FERMENTATION E07<br>Plant=ELB<br>Availability %=%{x}<br>Performance %=%{y}<extra></extra>",
         "legendgroup": "ELB - FERMENTATION E07, ELB",
         "marker": {
          "color": "#ab63fa",
          "symbol": "circle"
         },
         "mode": "markers",
         "name": "ELB - FERMENTATION E07, ELB",
         "orientation": "v",
         "showlegend": true,
         "type": "scatter",
         "x": [
          82.74512212398298,
          79.08325310729157,
          87.02013306760904,
          69.54245205026454,
          51.30758101851852,
          32.09837962962963,
          7.09837962962963
         ],
         "xaxis": "x",
         "y": [
          75.6891576655095,
          91.88320313426274,
          88.55244587807007,
          73.93533519170559,
          null,
          null,
          null
         ],
         "yaxis": "y"
        },
        {
         "hovertemplate": "Line=ELB - FERMENTATION E08<br>Plant=ELB<br>Availability %=%{x}<br>Performance %=%{y}<extra></extra>",
         "legendgroup": "ELB - FERMENTATION E08, ELB",
         "marker": {
          "color": "#FFA15A",
          "symbol": "circle"
         },
         "mode": "markers",
         "name": "ELB - FERMENTATION E08, ELB",
         "orientation": "v",
         "showlegend": true,
         "type": "scatter",
         "x": [
          76.15008191850339,
          80.61611276455025,
          80.03654100529099,
          70.59222056878305,
          57.95750661375661,
          32.95750661375661,
          15.55583840206442
         ],
         "xaxis": "x",
         "y": [
          56.13520206287004,
          85.13206756438979,
          74.36206985481309,
          79.21504197920481,
          null,
          null,
          null
         ],
         "yaxis": "y"
        },
        {
         "hovertemplate": "Line=ELB - FERMENTATION E09<br>Plant=ELB<br>Availability %=%{x}<br>Performance %=%{y}<extra></extra>",
         "legendgroup": "ELB - FERMENTATION E09, ELB",
         "marker": {
          "color": "#19d3f3",
          "symbol": "circle"
         },
         "mode": "markers",
         "name": "ELB - FERMENTATION E09, ELB",
         "orientation": "v",
         "showlegend": true,
         "type": "scatter",
         "x": [
          77.10245221158942,
          83.03215963612598,
          77.07523172607307,
          84.20027281746032,
          70.77256944444444,
          48.34680886243386,
          33.46738591269841
         ],
         "xaxis": "x",
         "y": [
          58.91459848490622,
          85.4440905815006,
          78.92237856234958,
          83.73892121045928,
          54.123949000106805,
          null,
          null
         ],
         "yaxis": "y"
        },
        {
         "hovertemplate": "Line=ELB - FERMENTATION E10<br>Plant=ELB<br>Availability %=%{x}<br>Performance %=%{y}<extra></extra>",
         "legendgroup": "ELB - FERMENTATION E10, ELB",
         "marker": {
          "color": "#FF6692",
          "symbol": "circle"
         },
         "mode": "markers",
         "name": "ELB - FERMENTATION E10, ELB",
         "orientation": "v",
         "showlegend": true,
         "type": "scatter",
         "x": [
          61.58113883245514,
          80.93309074739363,
          74.31338175268463,
          82.92096560846561,
          67.31039186507937,
          42.973999669312164,
          24.771990740740737
         ],
         "xaxis": "x",
         "y": [
          55.352008589992224,
          74.2034715370956,
          59.22929020451029,
          65.91080399182657,
          48.383674997014054,
          null,
          null
         ],
         "yaxis": "y"
        },
        {
         "hovertemplate": "Line=ELB - FERMENTATION E11<br>Plant=ELB<br>Availability %=%{x}<br>Performance %=%{y}<extra></extra>",
         "legendgroup": "ELB - FERMENTATION E11, ELB",
         "marker": {
          "color": "#B6E880",
          "symbol": "circle"
         },
         "mode": "markers",
         "name": "ELB - FERMENTATION E11, ELB",
         "orientation": "v",
         "showlegend": true,
         "type": "scatter",
         "x": [
          55.38868959601268,
          49.45105428759274,
          66.18199840134935,
          84.35875496031746,
          73.77864583333333,
          56.56233465608466,
          35.461144179894184
         ],
         "xaxis": "x",
         "y": [
          27.32160271023302,
          28.746155701846337,
          28.746155701846337,
          28.746155701846337,
          1.4245529916133144,
          0,
          null
         ],
         "yaxis": "y"
        },
        {
         "hovertemplate": "Line=ELB - FERMENTATION V08<br>Plant=ELB<br>Availability %=%{x}<br>Performance %=%{y}<extra></extra>",
         "legendgroup": "ELB - FERMENTATION V08, ELB",
         "marker": {
          "color": "#FF97FF",
          "symbol": "circle"
         },
         "mode": "markers",
         "name": "ELB - FERMENTATION V08, ELB",
         "orientation": "v",
         "showlegend": true,
         "type": "scatter",
         "x": [
          62.31720150765406,
          68.92588997096209,
          71.19573124080335,
          68.71064814814815,
          45.95114087301588,
          33.54497354497356,
          18.402901785714292
         ],
         "xaxis": "x",
         "y": [
          38.802394552582314,
          42.51529531312993,
          60.85206501920705,
          53.21352899493409,
          null,
          null,
          null
         ],
         "yaxis": "y"
        },
        {
         "hovertemplate": "Line=ELB - FERMENTATION V09<br>Plant=ELB<br>Availability %=%{x}<br>Performance %=%{y}<extra></extra>",
         "legendgroup": "ELB - FERMENTATION V09, ELB",
         "marker": {
          "color": "#FECB52",
          "symbol": "circle"
         },
         "mode": "markers",
         "name": "ELB - FERMENTATION V09, ELB",
         "orientation": "v",
         "showlegend": true,
         "type": "scatter",
         "x": [
          64.46050736312284,
          75.53118567241162,
          65.11538706130052,
          67.75735780423281,
          75.8917824074074,
          71.55691964285714,
          60.454447751322746
         ],
         "xaxis": "x",
         "y": [
          106.52924320619258,
          44.83682613788003,
          31.707949450333935,
          33.45037294403569,
          32.87356781278775,
          13.731889867925593,
          null
         ],
         "yaxis": "y"
        },
        {
         "hovertemplate": "Line=FRA - Devices AI, EMA 20<br>Plant=FRA<br>Availability %=%{x}<br>Performance %=%{y}<extra></extra>",
         "legendgroup": "FRA - Devices AI, EMA 20, FRA",
         "marker": {
          "color": "#636efa",
          "symbol": "diamond"
         },
         "mode": "markers",
         "name": "FRA - Devices AI, EMA 20, FRA",
         "orientation": "v",
         "showlegend": true,
         "type": "scatter",
         "x": [
          62.137103270446346,
          70.64536498437644
         ],
         "xaxis": "x",
         "y": [
          70.16289000888294,
          71.56540726837848
         ],
         "yaxis": "y"
        },
        {
         "hovertemplate": "Line=FRA - Devices AI, FDLE<br>Plant=FRA<br>Availability %=%{x}<br>Performance %=%{y}<extra></extra>",
         "legendgroup": "FRA - Devices AI, FDLE, FRA",
         "marker": {
          "color": "#EF553B",
          "symbol": "diamond"
         },
         "mode": "markers",
         "name": "FRA - Devices AI, FDLE, FRA",
         "orientation": "v",
         "showlegend": true,
         "type": "scatter",
         "x": [
          41.30174945132809
         ],
         "xaxis": "x",
         "y": [
          57.513930453881386
         ],
         "yaxis": "y"
        },
        {
         "hovertemplate": "Line=FRA - Devices AI, Semi 120-1 Assembly<br>Plant=FRA<br>Availability %=%{x}<br>Performance %=%{y}<extra></extra>",
         "legendgroup": "FRA - Devices AI, Semi 120-1 Assembly, FRA",
         "marker": {
          "color": "#00cc96",
          "symbol": "diamond"
         },
         "mode": "markers",
         "name": "FRA - Devices AI, Semi 120-1 Assembly, FRA",
         "orientation": "v",
         "showlegend": true,
         "type": "scatter",
         "x": [
          83.80857483516863,
          86.60183655868398
         ],
         "xaxis": "x",
         "y": [
          79.11632285784403,
          77.96815381329537
         ],
         "yaxis": "y"
        },
        {
         "hovertemplate": "Line=FRA - Devices AI, Semi 120-1 Labeling<br>Plant=FRA<br>Availability %=%{x}<br>Performance %=%{y}<extra></extra>",
         "legendgroup": "FRA - Devices AI, Semi 120-1 Labeling, FRA",
         "marker": {
          "color": "#ab63fa",
          "symbol": "diamond"
         },
         "mode": "markers",
         "name": "FRA - Devices AI, Semi 120-1 Labeling, FRA",
         "orientation": "v",
         "showlegend": true,
         "type": "scatter",
         "x": [
          66.60955774389822,
          60.87573172313066
         ],
         "xaxis": "x",
         "y": [
          75.36006537722575,
          72.24733223861236
         ],
         "yaxis": "y"
        },
        {
         "hovertemplate": "Line=FRA - Devices AI, Semi 120-1 Packaging<br>Plant=FRA<br>Availability %=%{x}<br>Performance %=%{y}<extra></extra>",
         "legendgroup": "FRA - Devices AI, Semi 120-1 Packaging, FRA",
         "marker": {
          "color": "#FFA15A",
          "symbol": "diamond"
         },
         "mode": "markers",
         "name": "FRA - Devices AI, Semi 120-1 Packaging, FRA",
         "orientation": "v",
         "showlegend": true,
         "type": "scatter",
         "x": [
          43.30955237341229,
          43.10701721390044,
          46.39924036575969
         ],
         "xaxis": "x",
         "y": [
          59.55741294022316,
          57.40852589419353,
          56.38080189098959
         ],
         "yaxis": "y"
        },
        {
         "hovertemplate": "Line=FRA - Devices Pens, AL1<br>Plant=FRA<br>Availability %=%{x}<br>Performance %=%{y}<extra></extra>",
         "legendgroup": "FRA - Devices Pens, AL1, FRA",
         "marker": {
          "color": "#19d3f3",
          "symbol": "diamond"
         },
         "mode": "markers",
         "name": "FRA - Devices Pens, AL1, FRA",
         "orientation": "v",
         "showlegend": true,
         "type": "scatter",
         "x": [
          59.992247470176025,
          60.811195773939176,
          60.468225260056286,
          60.61133462763441,
          56.5234258179937,
          58.38738091995867,
          58.0707554301408
         ],
         "xaxis": "x",
         "y": [
          92.23817788409853,
          91.764523575744,
          91.80351719192238,
          92.05938799262911,
          91.09778499739701,
          83.64527509777268,
          82.5975467302462
         ],
         "yaxis": "y"
        },
        {
         "hovertemplate": "Line=FRA - Devices Pens, AL2<br>Plant=FRA<br>Availability %=%{x}<br>Performance %=%{y}<extra></extra>",
         "legendgroup": "FRA - Devices Pens, AL2, FRA",
         "marker": {
          "color": "#FF6692",
          "symbol": "diamond"
         },
         "mode": "markers",
         "name": "FRA - Devices Pens, AL2, FRA",
         "orientation": "v",
         "showlegend": true,
         "type": "scatter",
         "x": [
          64.74474205856693,
          65.6506062560978,
          63.98244460486323,
          64.59492488433133,
          65.70582618464053,
          66.0522685933613,
          64.73619176851437
         ],
         "xaxis": "x",
         "y": [
          83.1068113119659,
          83.13777237104206,
          83.43992114284808,
          82.8158344116855,
          81.88397276939779,
          81.25750159165719,
          78.50040606687072
         ],
         "yaxis": "y"
        },
        {
         "hovertemplate": "Line=FRA - Devices Pens, AL3<br>Plant=FRA<br>Availability %=%{x}<br>Performance %=%{y}<extra></extra>",
         "legendgroup": "FRA - Devices Pens, AL3, FRA",
         "marker": {
          "color": "#B6E880",
          "symbol": "diamond"
         },
         "mode": "markers",
         "name": "FRA - Devices Pens, AL3, FRA",
         "orientation": "v",
         "showlegend": true,
         "type": "scatter",
         "x": [
          59.1974957011997,
          60.22540509259258,
          59.231186484240524,
          61.18800181707297
         ],
         "xaxis": "x",
         "y": [
          80.65400127719087,
          80.98087140167996,
          80.01551487661382,
          81.14349394674215
         ],
         "yaxis": "y"
        },
        {
         "hovertemplate": "Line=FRA - Devices Pens, AL4<br>Plant=FRA<br>Availability %=%{x}<br>Performance %=%{y}<extra></extra>",
         "legendgroup": "FRA - Devices Pens, AL4, FRA",
         "marker": {
          "color": "#FF97FF",
          "symbol": "diamond"
         },
         "mode": "markers",
         "name": "FRA - Devices Pens, AL4, FRA",
         "orientation": "v",
         "showlegend": true,
         "type": "scatter",
         "x": [
          50.72949377399296,
          53.05265156720284,
          52.245745703005305,
          55.225898494086614,
          61.80484734760213,
          59.218138242663855,
          61.891610699741534
         ],
         "xaxis": "x",
         "y": [
          80.88034706213935,
          80.16254931475305,
          79.49235011152331,
          79.6278317962821,
          81.28554630424104,
          80.39598443354764,
          79.94666380986585
         ],
         "yaxis": "y"
        },
        {
         "hovertemplate": "Line=FRA - Devices Pens, AL5 Assembly<br>Plant=FRA<br>Availability %=%{x}<br>Performance %=%{y}<extra></extra>",
         "legendgroup": "FRA - Devices Pens, AL5 Assembly, FRA",
         "marker": {
          "color": "#FECB52",
          "symbol": "diamond"
         },
         "mode": "markers",
         "name": "FRA - Devices Pens, AL5 Assembly, FRA",
         "orientation": "v",
         "showlegend": true,
         "type": "scatter",
         "x": [
          37.929732675833115,
          39.50503396318235,
          42.27653110370523,
          39.702974509426596,
          43.27279380541941,
          36.419505668656875,
          30.505179674261978
         ],
         "xaxis": "x",
         "y": [
          59.61187467703941,
          59.85899542098488,
          56.446701097796534,
          53.40444191311927,
          52.51401283968466,
          48.51740082251793,
          49.81248355062369
         ],
         "yaxis": "y"
        },
        {
         "hovertemplate": "Line=FRA - Devices Pens, AL5 Packaging 1<br>Plant=FRA<br>Availability %=%{x}<br>Performance %=%{y}<extra></extra>",
         "legendgroup": "FRA - Devices Pens, AL5 Packaging 1, FRA",
         "marker": {
          "color": "#636efa",
          "symbol": "diamond"
         },
         "mode": "markers",
         "name": "FRA - Devices Pens, AL5 Packaging 1, FRA",
         "orientation": "v",
         "showlegend": true,
         "type": "scatter",
         "x": [
          59.415163410487025,
          57.02495238921005
         ],
         "xaxis": "x",
         "y": [
          68.54424789525295,
          55.18621450640882
         ],
         "yaxis": "y"
        },
        {
         "hovertemplate": "Line=FRA - Devices Pens, AL5 Packaging 2<br>Plant=FRA<br>Availability %=%{x}<br>Performance %=%{y}<extra></extra>",
         "legendgroup": "FRA - Devices Pens, AL5 Packaging 2, FRA",
         "marker": {
          "color": "#EF553B",
          "symbol": "diamond"
         },
         "mode": "markers",
         "name": "FRA - Devices Pens, AL5 Packaging 2, FRA",
         "orientation": "v",
         "showlegend": true,
         "type": "scatter",
         "x": [
          48.497373894881456,
          48.881140030402925,
          51.407516728841536,
          56.12078162693652,
          55.73965579623537,
          45.87830156652774,
          40.288107165268656
         ],
         "xaxis": "x",
         "y": [
          72.39578751941764,
          72.68254540905014,
          72.40055120561685,
          76.34872821196346,
          75.95255389234944,
          74.57524934078799,
          72.0109236065261
         ],
         "yaxis": "y"
        },
        {
         "hovertemplate": "Line=FRA - Devices Pens, AL6<br>Plant=FRA<br>Availability %=%{x}<br>Performance %=%{y}<extra></extra>",
         "legendgroup": "FRA - Devices Pens, AL6, FRA",
         "marker": {
          "color": "#00cc96",
          "symbol": "diamond"
         },
         "mode": "markers",
         "name": "FRA - Devices Pens, AL6, FRA",
         "orientation": "v",
         "showlegend": true,
         "type": "scatter",
         "x": [
          60.10526171734807,
          60.60711526602926,
          60.51578121003608,
          62.62850007987908,
          57.86307563516103,
          56.3129335841137,
          55.822850035097446
         ],
         "xaxis": "x",
         "y": [
          72.84893164506637,
          73.34490135888886,
          73.44011717073458,
          73.24228632769308,
          70.93911707033794,
          71.77723085559757,
          72.23456772149544
         ],
         "yaxis": "y"
        },
        {
         "hovertemplate": "Line=FRA - FF NAPA, M24 Inspection<br>Plant=FRA<br>Availability %=%{x}<br>Performance %=%{y}<extra></extra>",
         "legendgroup": "FRA - FF NAPA, M24 Inspection, FRA",
         "marker": {
          "color": "#ab63fa",
          "symbol": "diamond"
         },
         "mode": "markers",
         "name": "FRA - FF NAPA, M24 Inspection, FRA",
         "orientation": "v",
         "showlegend": true,
         "type": "scatter",
         "x": [
          55.023162805411005,
          58.13581070090475,
          57.12029025766631,
          57.46239256888949,
          62.82075847166342,
          57.869076322407174,
          52.938994823456795
         ],
         "xaxis": "x",
         "y": [
          87.13045477352858,
          87.65156126294072,
          88.87792412098285,
          89.07521798594398,
          89.96846822149097,
          90.10399507811739,
          84.76812181871705
         ],
         "yaxis": "y"
        },
        {
         "hovertemplate": "Line=FRA - FF NAPA, M31 Inspection<br>Plant=FRA<br>Availability %=%{x}<br>Performance %=%{y}<extra></extra>",
         "legendgroup": "FRA - FF NAPA, M31 Inspection, FRA",
         "marker": {
          "color": "#FFA15A",
          "symbol": "diamond"
         },
         "mode": "markers",
         "name": "FRA - FF NAPA, M31 Inspection, FRA",
         "orientation": "v",
         "showlegend": true,
         "type": "scatter",
         "x": [
          59.41726028471193,
          60.06514997221427,
          62.34578575659225,
          61.79832236533911,
          47.52710158864548
         ],
         "xaxis": "x",
         "y": [
          93.04204699892519,
          91.89689628373142,
          87.61081792226238,
          87.57795819234998,
          64.12206311605613
         ],
         "yaxis": "y"
        },
        {
         "hovertemplate": "Line=FRA - FF NAPA, M46 Filling<br>Plant=FRA<br>Availability %=%{x}<br>Performance %=%{y}<extra></extra>",
         "legendgroup": "FRA - FF NAPA, M46 Filling, FRA",
         "marker": {
          "color": "#19d3f3",
          "symbol": "diamond"
         },
         "mode": "markers",
         "name": "FRA - FF NAPA, M46 Filling, FRA",
         "orientation": "v",
         "showlegend": true,
         "type": "scatter",
         "x": [
          39.86901797657564,
          43.02976082755157,
          39.978887533822764,
          38.43523792269322,
          40.47379683682383,
          37.86800876242923
         ],
         "xaxis": "x",
         "y": [
          69.81709534529375,
          71.15149722179909,
          75.59475374817913,
          76.54913986723842,
          75.06895731263667,
          72.98633537285872
         ],
         "yaxis": "y"
        },
        {
         "hovertemplate": "Line=FRA - FF NAPA, M48 Inspection<br>Plant=FRA<br>Availability %=%{x}<br>Performance %=%{y}<extra></extra>",
         "legendgroup": "FRA - FF NAPA, M48 Inspection, FRA",
         "marker": {
          "color": "#FF6692",
          "symbol": "diamond"
         },
         "mode": "markers",
         "name": "FRA - FF NAPA, M48 Inspection, FRA",
         "orientation": "v",
         "showlegend": true,
         "type": "scatter",
         "x": [
          50.459808223883115,
          52.34438862924218,
          56.87303955206971,
          57.94472101760137,
          56.87414302338438,
          57.91347823284518,
          58.654264638701655
         ],
         "xaxis": "x",
         "y": [
          96.46539559204271,
          98.73831140150271,
          95.32380185962813,
          98.0060345669524,
          98.10136336608672,
          95.2148789587305,
          97.40973453339392
         ],
         "yaxis": "y"
        },
        {
         "hovertemplate": "Line=FRA - FF NAPA, M53 Filling<br>Plant=FRA<br>Availability %=%{x}<br>Performance %=%{y}<extra></extra>",
         "legendgroup": "FRA - FF NAPA, M53 Filling, FRA",
         "marker": {
          "color": "#B6E880",
          "symbol": "diamond"
         },
         "mode": "markers",
         "name": "FRA - FF NAPA, M53 Filling, FRA",
         "orientation": "v",
         "showlegend": true,
         "type": "scatter",
         "x": [
          34.330059603291936
         ],
         "xaxis": "x",
         "y": [
          68.97562110717648
         ],
         "yaxis": "y"
        },
        {
         "hovertemplate": "Line=FRA - FF NLP, M21 Filling<br>Plant=FRA<br>Availability %=%{x}<br>Performance %=%{y}<extra></extra>",
         "legendgroup": "FRA - FF NLP, M21 Filling, FRA",
         "marker": {
          "color": "#FF97FF",
          "symbol": "diamond"
         },
         "mode": "markers",
         "name": "FRA - FF NLP, M21 Filling, FRA",
         "orientation": "v",
         "showlegend": true,
         "type": "scatter",
         "x": [
          74.4999638832845,
          65.12065150660112,
          65.4596078006984,
          66.15553346651201
         ],
         "xaxis": "x",
         "y": [
          92.04963842262913,
          89.85043316833017,
          90.14019433835679,
          90.038089857158
         ],
         "yaxis": "y"
        },
        {
         "hovertemplate": "Line=FRA - FF NLP, M21 Inspection<br>Plant=FRA<br>Availability %=%{x}<br>Performance %=%{y}<extra></extra>",
         "legendgroup": "FRA - FF NLP, M21 Inspection, FRA",
         "marker": {
          "color": "#FECB52",
          "symbol": "diamond"
         },
         "mode": "markers",
         "name": "FRA - FF NLP, M21 Inspection, FRA",
         "orientation": "v",
         "showlegend": true,
         "type": "scatter",
         "x": [
          63.79926967012106,
          52.09115830750447,
          54.754435423906585,
          55.95657588752347
         ],
         "xaxis": "x",
         "y": [
          96.75106034136915,
          93.67717837957537,
          91.56328332712049,
          90.91517825265856
         ],
         "yaxis": "y"
        },
        {
         "hovertemplate": "Line=FRA - FF NLP, M22 Filling<br>Plant=FRA<br>Availability %=%{x}<br>Performance %=%{y}<extra></extra>",
         "legendgroup": "FRA - FF NLP, M22 Filling, FRA",
         "marker": {
          "color": "#636efa",
          "symbol": "diamond"
         },
         "mode": "markers",
         "name": "FRA - FF NLP, M22 Filling, FRA",
         "orientation": "v",
         "showlegend": true,
         "type": "scatter",
         "x": [
          64.7814756541135,
          64.52726993698091,
          65.37943597432235
         ],
         "xaxis": "x",
         "y": [
          88.80696358605886,
          90.23293674710006,
          91.17560736453144
         ],
         "yaxis": "y"
        },
        {
         "hovertemplate": "Line=FRA - FF NLP, M22 Inspection<br>Plant=FRA<br>Availability %=%{x}<br>Performance %=%{y}<extra></extra>",
         "legendgroup": "FRA - FF NLP, M22 Inspection, FRA",
         "marker": {
          "color": "#EF553B",
          "symbol": "diamond"
         },
         "mode": "markers",
         "name": "FRA - FF NLP, M22 Inspection, FRA",
         "orientation": "v",
         "showlegend": true,
         "type": "scatter",
         "x": [
          59.32005784221916,
          60.920926639603266,
          63.077678005023984
         ],
         "xaxis": "x",
         "y": [
          93.71419261934756,
          94.65808507513674,
          93.62130282131986
         ],
         "yaxis": "y"
        },
        {
         "hovertemplate": "Line=FRA - FF Packaging, HV01<br>Plant=FRA<br>Availability %=%{x}<br>Performance %=%{y}<extra></extra>",
         "legendgroup": "FRA - FF Packaging, HV01, FRA",
         "marker": {
          "color": "#00cc96",
          "symbol": "diamond"
         },
         "mode": "markers",
         "name": "FRA - FF Packaging, HV01, FRA",
         "orientation": "v",
         "showlegend": true,
         "type": "scatter",
         "x": [
          68.42251552086577,
          64.88253373032802,
          59.038483471643616
         ],
         "xaxis": "x",
         "y": [
          54.128697461301115,
          59.627479844720796,
          64.32476708841523
         ],
         "yaxis": "y"
        },
        {
         "hovertemplate": "Line=FRA - FF Packaging, VL32<br>Plant=FRA<br>Availability %=%{x}<br>Performance %=%{y}<extra></extra>",
         "legendgroup": "FRA - FF Packaging, VL32, FRA",
         "marker": {
          "color": "#ab63fa",
          "symbol": "diamond"
         },
         "mode": "markers",
         "name": "FRA - FF Packaging, VL32, FRA",
         "orientation": "v",
         "showlegend": true,
         "type": "scatter",
         "x": [
          61.621759211388344,
          56.25826090156496,
          49.43199031231073
         ],
         "xaxis": "x",
         "y": [
          47.22269893224518,
          40.96484016406467,
          39.22883575574128
         ],
         "yaxis": "y"
        },
        {
         "hovertemplate": "Line=FRA - FF Packaging, VL44<br>Plant=FRA<br>Availability %=%{x}<br>Performance %=%{y}<extra></extra>",
         "legendgroup": "FRA - FF Packaging, VL44, FRA",
         "marker": {
          "color": "#FFA15A",
          "symbol": "diamond"
         },
         "mode": "markers",
         "name": "FRA - FF Packaging, VL44, FRA",
         "orientation": "v",
         "showlegend": true,
         "type": "scatter",
         "x": [
          31.510598877625302,
          32.70503449438613,
          35.90841693097321,
          35.40256198407813,
          35.87408976185591,
          38.71558519982554
         ],
         "xaxis": "x",
         "y": [
          52.19636597514572,
          50.62819835587083,
          53.51315950771999,
          56.1002902143933,
          55.4267648008438,
          58.67289599866718
         ],
         "yaxis": "y"
        },
        {
         "hovertemplate": "Line=FRA - FF Packaging, VL47<br>Plant=FRA<br>Availability %=%{x}<br>Performance %=%{y}<extra></extra>",
         "legendgroup": "FRA - FF Packaging, VL47, FRA",
         "marker": {
          "color": "#19d3f3",
          "symbol": "diamond"
         },
         "mode": "markers",
         "name": "FRA - FF Packaging, VL47, FRA",
         "orientation": "v",
         "showlegend": true,
         "type": "scatter",
         "x": [
          40.841881290207276,
          38.67578251643391,
          34.114424536343996,
          30.501273494677324,
          35.06958901881832
         ],
         "xaxis": "x",
         "y": [
          73.403905923537,
          66.23389585994414,
          68.66667332736947,
          73.44310712713374,
          74.3352051484437
         ],
         "yaxis": "y"
        },
        {
         "hovertemplate": "Line=FRA - FF Packaging, VL50<br>Plant=FRA<br>Availability %=%{x}<br>Performance %=%{y}<extra></extra>",
         "legendgroup": "FRA - FF Packaging, VL50, FRA",
         "marker": {
          "color": "#FF6692",
          "symbol": "diamond"
         },
         "mode": "markers",
         "name": "FRA - FF Packaging, VL50, FRA",
         "orientation": "v",
         "showlegend": true,
         "type": "scatter",
         "x": [
          65.84846705577898,
          67.19359430593416,
          67.92508824679408
         ],
         "xaxis": "x",
         "y": [
          83.06204890442461,
          80.09631058907897,
          79.3667983084149
         ],
         "yaxis": "y"
        },
        {
         "hovertemplate": "Line=FRA - FF Packaging, VL56<br>Plant=FRA<br>Availability %=%{x}<br>Performance %=%{y}<extra></extra>",
         "legendgroup": "FRA - FF Packaging, VL56, FRA",
         "marker": {
          "color": "#B6E880",
          "symbol": "diamond"
         },
         "mode": "markers",
         "name": "FRA - FF Packaging, VL56, FRA",
         "orientation": "v",
         "showlegend": true,
         "type": "scatter",
         "x": [
          68.76926575661082,
          67.9261591379817,
          66.84907239124249,
          64.87590383999822,
          62.75067178972448,
          64.43146286467447,
          65.47320586135322
         ],
         "xaxis": "x",
         "y": [
          90.101763753293,
          87.88667620475572,
          88.76835024471767,
          89.61883156943468,
          93.30604752131757,
          92.06441578708038,
          93.27141269992529
         ],
         "yaxis": "y"
        },
        {
         "hovertemplate": "Line=FRA - FF Packaging, VL6<br>Plant=FRA<br>Availability %=%{x}<br>Performance %=%{y}<extra></extra>",
         "legendgroup": "FRA - FF Packaging, VL6, FRA",
         "marker": {
          "color": "#FF97FF",
          "symbol": "diamond"
         },
         "mode": "markers",
         "name": "FRA - FF Packaging, VL6, FRA",
         "orientation": "v",
         "showlegend": true,
         "type": "scatter",
         "x": [
          48.47475981560082,
          49.55911827592335,
          46.69062562153066,
          46.741419299411895,
          38.257307214365454,
          43.9270905468329,
          42.068192126353594
         ],
         "xaxis": "x",
         "y": [
          49.72830893907859,
          47.715332182456194,
          42.36709533175721,
          42.675765928630675,
          41.686800801301175,
          36.71182275917881,
          31.604212610981524
         ],
         "yaxis": "y"
        },
        {
         "hovertemplate": "Line=FRA - FF Packaging, VL62<br>Plant=FRA<br>Availability %=%{x}<br>Performance %=%{y}<extra></extra>",
         "legendgroup": "FRA - FF Packaging, VL62, FRA",
         "marker": {
          "color": "#FECB52",
          "symbol": "diamond"
         },
         "mode": "markers",
         "name": "FRA - FF Packaging, VL62, FRA",
         "orientation": "v",
         "showlegend": true,
         "type": "scatter",
         "x": [
          23.32656087055302,
          25.4691171890735,
          23.413799483043725,
          21.59231281300343
         ],
         "xaxis": "x",
         "y": [
          37.28021498684477,
          40.217601618907196,
          40.69467596737357,
          37.01873482431397
         ],
         "yaxis": "y"
        },
        {
         "hovertemplate": "Line=FRA - FF Packaging, VL9<br>Plant=FRA<br>Availability %=%{x}<br>Performance %=%{y}<extra></extra>",
         "legendgroup": "FRA - FF Packaging, VL9, FRA",
         "marker": {
          "color": "#636efa",
          "symbol": "diamond"
         },
         "mode": "markers",
         "name": "FRA - FF Packaging, VL9, FRA",
         "orientation": "v",
         "showlegend": true,
         "type": "scatter",
         "x": [
          46.13724085390939,
          48.39976445153615,
          48.89302958391049,
          49.52118620328203,
          48.94783550883758,
          51.05242233024803,
          50.83050392747025
         ],
         "xaxis": "x",
         "y": [
          75.15205040246062,
          78.43964225752623,
          80.30476988084732,
          81.67940069931342,
          81.14145753052814,
          81.2672077457588,
          81.25395169246262
         ],
         "yaxis": "y"
        },
        {
         "hovertemplate": "Line=FRA - Pharma, M26 Filling<br>Plant=FRA<br>Availability %=%{x}<br>Performance %=%{y}<extra></extra>",
         "legendgroup": "FRA - Pharma, M26 Filling, FRA",
         "marker": {
          "color": "#EF553B",
          "symbol": "diamond"
         },
         "mode": "markers",
         "name": "FRA - Pharma, M26 Filling, FRA",
         "orientation": "v",
         "showlegend": true,
         "type": "scatter",
         "x": [
          25.756310691477623,
          26.293777232467484,
          28.944266315233076,
          32.74703568160486,
          32.37508483693008,
          32.47185818720975,
          29.477626054573726
         ],
         "xaxis": "x",
         "y": [
          89.34063052012922,
          89.03900511069669,
          87.55903360664254,
          86.64010853815397,
          85.90523586443159,
          71.58690348674013,
          66.8665768914418
         ],
         "yaxis": "y"
        },
        {
         "hovertemplate": "Line=FRA - Pharma, M52 Inspection<br>Plant=FRA<br>Availability %=%{x}<br>Performance %=%{y}<extra></extra>",
         "legendgroup": "FRA - Pharma, M52 Inspection, FRA",
         "marker": {
          "color": "#00cc96",
          "symbol": "diamond"
         },
         "mode": "markers",
         "name": "FRA - Pharma, M52 Inspection, FRA",
         "orientation": "v",
         "showlegend": true,
         "type": "scatter",
         "x": [
          42.605079164194,
          46.342394940074776
         ],
         "xaxis": "x",
         "y": [
          33.25195143565861,
          38.82685335489687
         ],
         "yaxis": "y"
        },
        {
         "hovertemplate": "Line=FRA - Pharma, M58 Inspection<br>Plant=FRA<br>Availability %=%{x}<br>Performance %=%{y}<extra></extra>",
         "legendgroup": "FRA - Pharma, M58 Inspection, FRA",
         "marker": {
          "color": "#ab63fa",
          "symbol": "diamond"
         },
         "mode": "markers",
         "name": "FRA - Pharma, M58 Inspection, FRA",
         "orientation": "v",
         "showlegend": true,
         "type": "scatter",
         "x": [
          18.73808856916591,
          13.007395238544495,
          11.81635560598331,
          21.36133917422041,
          23.718758689291263,
          21.826325844712702,
          22.596688246949967
         ],
         "xaxis": "x",
         "y": [
          64.44710130204714,
          46.731437749692134,
          36.24834009340535,
          45.418051571229135,
          49.99999841838462,
          52.867037145683355,
          49.70391366100168
         ],
         "yaxis": "y"
        },
        {
         "hovertemplate": "Line=HZG - Blister packaging line 1<br>Plant=HZG<br>Availability %=%{x}<br>Performance %=%{y}<extra></extra>",
         "legendgroup": "HZG - Blister packaging line 1, HZG",
         "marker": {
          "color": "#FFA15A",
          "symbol": "square"
         },
         "mode": "markers",
         "name": "HZG - Blister packaging line 1, HZG",
         "orientation": "v",
         "showlegend": true,
         "type": "scatter",
         "x": [
          76.89009232991876,
          76.5882524195719,
          76.43823046283373,
          78.6555272604318,
          78.40979895513354,
          78.2449097355568,
          79.93115328320407
         ],
         "xaxis": "x",
         "y": [
          91.25291612080589,
          91.29193080648383,
          93.7201719484267,
          92.98463118710156,
          94.92029073776365,
          95.06860814084638,
          95.04374791485102
         ],
         "yaxis": "y"
        },
        {
         "hovertemplate": "Line=HZG - Blister packaging line 2<br>Plant=HZG<br>Availability %=%{x}<br>Performance %=%{y}<extra></extra>",
         "legendgroup": "HZG - Blister packaging line 2, HZG",
         "marker": {
          "color": "#19d3f3",
          "symbol": "square"
         },
         "mode": "markers",
         "name": "HZG - Blister packaging line 2, HZG",
         "orientation": "v",
         "showlegend": true,
         "type": "scatter",
         "x": [
          73.35226478475538,
          73.06305285785527,
          73.25976522157026,
          71.49544893218528,
          69.8123698151218,
          65.4415864096321,
          67.42320246903716
         ],
         "xaxis": "x",
         "y": [
          92.02614769671155,
          91.94206854447862,
          92.57385954705829,
          91.598039642016,
          91.59713027397231,
          93.63375149585416,
          98.62044906567219
         ],
         "yaxis": "y"
        },
        {
         "hovertemplate": "Line=HZG - Blister packaging line 3<br>Plant=HZG<br>Availability %=%{x}<br>Performance %=%{y}<extra></extra>",
         "legendgroup": "HZG - Blister packaging line 3, HZG",
         "marker": {
          "color": "#FF6692",
          "symbol": "square"
         },
         "mode": "markers",
         "name": "HZG - Blister packaging line 3, HZG",
         "orientation": "v",
         "showlegend": true,
         "type": "scatter",
         "x": [
          52.03355897789396
         ],
         "xaxis": "x",
         "y": [
          null
         ],
         "yaxis": "y"
        },
        {
         "hovertemplate": "Line=HZG - Blister packaging line 4<br>Plant=HZG<br>Availability %=%{x}<br>Performance %=%{y}<extra></extra>",
         "legendgroup": "HZG - Blister packaging line 4, HZG",
         "marker": {
          "color": "#B6E880",
          "symbol": "square"
         },
         "mode": "markers",
         "name": "HZG - Blister packaging line 4, HZG",
         "orientation": "v",
         "showlegend": true,
         "type": "scatter",
         "x": [
          71.94246814168378,
          71.20752225830039,
          70.85943558448155,
          73.08677252620268,
          73.23093521998227,
          73.96240888114345
         ],
         "xaxis": "x",
         "y": [
          92.71300159345606,
          91.34574210300462,
          91.76966813807512,
          93.50213456140943,
          93.22482427552754,
          94.52311820838946
         ],
         "yaxis": "y"
        },
        {
         "hovertemplate": "Line=HZG - Bottle Packaging line 6<br>Plant=HZG<br>Availability %=%{x}<br>Performance %=%{y}<extra></extra>",
         "legendgroup": "HZG - Bottle Packaging line 6, HZG",
         "marker": {
          "color": "#FF97FF",
          "symbol": "square"
         },
         "mode": "markers",
         "name": "HZG - Bottle Packaging line 6, HZG",
         "orientation": "v",
         "showlegend": true,
         "type": "scatter",
         "x": [
          56.41880898616349,
          60.751287038588885,
          63.136488130961745
         ],
         "xaxis": "x",
         "y": [
          120.91635301722485,
          114.31255728460764,
          113.59760139038556
         ],
         "yaxis": "y"
        },
        {
         "hovertemplate": "Line=HZG - Bottle Packaging line 7<br>Plant=HZG<br>Availability %=%{x}<br>Performance %=%{y}<extra></extra>",
         "legendgroup": "HZG - Bottle Packaging line 7, HZG",
         "marker": {
          "color": "#FECB52",
          "symbol": "square"
         },
         "mode": "markers",
         "name": "HZG - Bottle Packaging line 7, HZG",
         "orientation": "v",
         "showlegend": true,
         "type": "scatter",
         "x": [
          62.88482226396892,
          65.35919866596973,
          70.54131700431918,
          69.11778500654287,
          72.28073343503817,
          68.93844073424387,
          63.2491167477312
         ],
         "xaxis": "x",
         "y": [
          108.5109743593294,
          108.86911860485517,
          108.50147556577974,
          112.54300172912423,
          112.83281172183877,
          114.49114596175528,
          114.5624433949334
         ],
         "yaxis": "y"
        },
        {
         "hovertemplate": "Line=HZG - Semi-automatic Packaging line<br>Plant=HZG<br>Availability %=%{x}<br>Performance %=%{y}<extra></extra>",
         "legendgroup": "HZG - Semi-automatic Packaging line, HZG",
         "marker": {
          "color": "#636efa",
          "symbol": "square"
         },
         "mode": "markers",
         "name": "HZG - Semi-automatic Packaging line, HZG",
         "orientation": "v",
         "showlegend": true,
         "type": "scatter",
         "x": [
          65.80607184992708,
          65.25609541391022,
          64.7612346709551,
          68.8211010241844,
          66.41176786283,
          65.22630710445259,
          62.4865159268313
         ],
         "xaxis": "x",
         "y": [
          98.32830796060404,
          97.47373877284957,
          96.72451813054457,
          99.37687743286189,
          96.80382430791938,
          95.88846056489228,
          97.05932173738117
         ],
         "yaxis": "y"
        },
        {
         "hovertemplate": "Line=LLB - Bosch-1 Packaging (CEPH)<br>Plant=LLB<br>Availability %=%{x}<br>Performance %=%{y}<extra></extra>",
         "legendgroup": "LLB - Bosch-1 Packaging (CEPH), LLB",
         "marker": {
          "color": "#EF553B",
          "symbol": "x"
         },
         "mode": "markers",
         "name": "LLB - Bosch-1 Packaging (CEPH), LLB",
         "orientation": "v",
         "showlegend": true,
         "type": "scatter",
         "x": [
          53.3519240289044,
          52.00507986110437,
          51.266138349937115,
          52.118097399059316,
          52.60364979899451,
          57.24360223271922,
          59.32430000441419
         ],
         "xaxis": "x",
         "y": [
          120.18500772939818,
          122.20585123158142,
          128.2970313148503,
          123.54108738621727,
          119.03867686728792,
          110.55569976238623,
          106.47285257692815
         ],
         "yaxis": "y"
        },
        {
         "hovertemplate": "Line=LLB - Bosch-1 Packaging (PENC)<br>Plant=LLB<br>Availability %=%{x}<br>Performance %=%{y}<extra></extra>",
         "legendgroup": "LLB - Bosch-1 Packaging (PENC), LLB",
         "marker": {
          "color": "#00cc96",
          "symbol": "x"
         },
         "mode": "markers",
         "name": "LLB - Bosch-1 Packaging (PENC), LLB",
         "orientation": "v",
         "showlegend": true,
         "type": "scatter",
         "x": [
          60.98843625992065,
          54.69652846671076,
          59.32566206459437,
          56.64156194885362,
          59.54988563712523,
          63.17816495811288,
          69.63504401655443
         ],
         "xaxis": "x",
         "y": [
          86.16876240913905,
          85.22079372478446,
          87.87155063135516,
          94.62317877026891,
          97.69335448543069,
          88.93015273169091,
          86.74214799768043
         ],
         "yaxis": "y"
        },
        {
         "hovertemplate": "Line=LLB - Bosch-1 Packaging (SOLD)<br>Plant=LLB<br>Availability %=%{x}<br>Performance %=%{y}<extra></extra>",
         "legendgroup": "LLB - Bosch-1 Packaging (SOLD), LLB",
         "marker": {
          "color": "#ab63fa",
          "symbol": "x"
         },
         "mode": "markers",
         "name": "LLB - Bosch-1 Packaging (SOLD), LLB",
         "orientation": "v",
         "showlegend": true,
         "type": "scatter",
         "x": [
          74.10995497134451,
          63.64120497134451
         ],
         "xaxis": "x",
         "y": [
          54.21902640921543,
          69.10709889029866
         ],
         "yaxis": "y"
        },
        {
         "hovertemplate": "Line=LLB - Bosch-2 Packaging (SOLD)<br>Plant=LLB<br>Availability %=%{x}<br>Performance %=%{y}<extra></extra>",
         "legendgroup": "LLB - Bosch-2 Packaging (SOLD), LLB",
         "marker": {
          "color": "#FFA15A",
          "symbol": "x"
         },
         "mode": "markers",
         "name": "LLB - Bosch-2 Packaging (SOLD), LLB",
         "orientation": "v",
         "showlegend": true,
         "type": "scatter",
         "x": [
          64.94860679906628,
          66.07143161533173,
          66.92615761732256,
          70.36087073970612,
          73.81550569336612,
          77.95161437260919,
          80.51129359805452
         ],
         "xaxis": "x",
         "y": [
          83.48420402163802,
          82.57390551854876,
          81.41073683465814,
          78.784044324601,
          81.0692914212057,
          78.37930105223208,
          76.43050881676855
         ],
         "yaxis": "y"
        },
        {
         "hovertemplate": "Line=LLB - Bosch-3 Packaging (SOLD)<br>Plant=LLB<br>Availability %=%{x}<br>Performance %=%{y}<extra></extra>",
         "legendgroup": "LLB - Bosch-3 Packaging (SOLD), LLB",
         "marker": {
          "color": "#19d3f3",
          "symbol": "x"
         },
         "mode": "markers",
         "name": "LLB - Bosch-3 Packaging (SOLD), LLB",
         "orientation": "v",
         "showlegend": true,
         "type": "scatter",
         "x": [
          64.1537626541744,
          72.10776560679568,
          71.19404407162224,
          72.38963732377442,
          68.73370009698402,
          73.64657841430405,
          70.57179067946413
         ],
         "xaxis": "x",
         "y": [
          58.02633218174128,
          45.2582514081037,
          34.35619904389736,
          38.92238276141538,
          47.21488683300862,
          56.6902634599619,
          66.21919851645822
         ],
         "yaxis": "y"
        },
        {
         "hovertemplate": "Line=LLB - CP-2 Packaging (STRL)<br>Plant=LLB<br>Availability %=%{x}<br>Performance %=%{y}<extra></extra>",
         "legendgroup": "LLB - CP-2 Packaging (STRL), LLB",
         "marker": {
          "color": "#FF6692",
          "symbol": "x"
         },
         "mode": "markers",
         "name": "LLB - CP-2 Packaging (STRL), LLB",
         "orientation": "v",
         "showlegend": true,
         "type": "scatter",
         "x": [
          61.78655708351448,
          67.33898530252326,
          74.03500501101891,
          74.76162110865387,
          76.6922739356313,
          72.58792710634744,
          59.240350560793495
         ],
         "xaxis": "x",
         "y": [
          78.67341392832807,
          67.16881767158642,
          53.823476961525806,
          56.28857222301508,
          61.76117304319536,
          55.77013557529521,
          76.12885543784407
         ],
         "yaxis": "y"
        },
        {
         "hovertemplate": "Line=LLB - CP-3 Packaging (STRL)<br>Plant=LLB<br>Availability %=%{x}<br>Performance %=%{y}<extra></extra>",
         "legendgroup": "LLB - CP-3 Packaging (STRL), LLB",
         "marker": {
          "color": "#B6E880",
          "symbol": "x"
         },
         "mode": "markers",
         "name": "LLB - CP-3 Packaging (STRL), LLB",
         "orientation": "v",
         "showlegend": true,
         "type": "scatter",
         "x": [
          71.08149560354596,
          69.20915854211145,
          69.67048081461674,
          70.66202737556038,
          65.05731222969897,
          64.80363940951307,
          65.3826482004068
         ],
         "xaxis": "x",
         "y": [
          73.02646818595403,
          72.23114848139362,
          72.08542114039437,
          74.7380424169443,
          96.55741260245857,
          90.23298644345435,
          84.2692444031532
         ],
         "yaxis": "y"
        },
        {
         "hovertemplate": "Line=LLB - Huttlin-1 Granulation<br>Plant=LLB<br>Availability %=%{x}<br>Performance %=%{y}<extra></extra>",
         "legendgroup": "LLB - Huttlin-1 Granulation, LLB",
         "marker": {
          "color": "#FF97FF",
          "symbol": "x"
         },
         "mode": "markers",
         "name": "LLB - Huttlin-1 Granulation, LLB",
         "orientation": "v",
         "showlegend": true,
         "type": "scatter",
         "x": [
          92.29340113095233,
          92.43619525812146,
          93.13027807553357,
          86.18583363108911,
          84.86790986790987,
          86.11111111111111,
          87.50000000000001
         ],
         "xaxis": "x",
         "y": [
          62.01689652253278,
          58.64468217465821,
          64.91913445463933,
          89.27439246020842,
          85.12281297536967,
          84.43999582271678,
          76.3571549254407
         ],
         "yaxis": "y"
        },
        {
         "hovertemplate": "Line=LLB - IMA C95 Packaging (SOLD)<br>Plant=LLB<br>Availability %=%{x}<br>Performance %=%{y}<extra></extra>",
         "legendgroup": "LLB - IMA C95 Packaging (SOLD), LLB",
         "marker": {
          "color": "#FECB52",
          "symbol": "x"
         },
         "mode": "markers",
         "name": "LLB - IMA C95 Packaging (SOLD), LLB",
         "orientation": "v",
         "showlegend": true,
         "type": "scatter",
         "x": [
          64.83362748745682,
          61.976784840793826,
          67.09008928476007,
          73.1301533095449,
          74.82942088586067,
          83.13103256253187,
          87.10302995090251
         ],
         "xaxis": "x",
         "y": [
          64.83021671769865,
          71.33700229567971,
          70.45855884530721,
          68.22046654086529,
          69.90374535642047,
          70.49361835520322,
          74.57970079266745
         ],
         "yaxis": "y"
        },
        {
         "hovertemplate": "Line=LLB - IMA-1 Packaging (NSL)<br>Plant=LLB<br>Availability %=%{x}<br>Performance %=%{y}<extra></extra>",
         "legendgroup": "LLB - IMA-1 Packaging (NSL), LLB",
         "marker": {
          "color": "#636efa",
          "symbol": "x"
         },
         "mode": "markers",
         "name": "LLB - IMA-1 Packaging (NSL), LLB",
         "orientation": "v",
         "showlegend": true,
         "type": "scatter",
         "x": [
          51.03625274759693,
          52.819172892949766
         ],
         "xaxis": "x",
         "y": [
          67.55041422852624,
          67.87047762266263
         ],
         "yaxis": "y"
        },
        {
         "hovertemplate": "Line=LLB - IMA-1 Packaging (SOLD)<br>Plant=LLB<br>Availability %=%{x}<br>Performance %=%{y}<extra></extra>",
         "legendgroup": "LLB - IMA-1 Packaging (SOLD), LLB",
         "marker": {
          "color": "#EF553B",
          "symbol": "x"
         },
         "mode": "markers",
         "name": "LLB - IMA-1 Packaging (SOLD), LLB",
         "orientation": "v",
         "showlegend": true,
         "type": "scatter",
         "x": [
          73.01628783309545,
          68.66042763016767,
          67.72558184228296,
          70.28514825867796,
          76.78577482509401,
          77.9268218759862
         ],
         "xaxis": "x",
         "y": [
          148.52472666538492,
          138.4223074924166,
          68.11186999175155,
          66.94666861227425,
          46.073109481594024,
          43.18001301304577
         ],
         "yaxis": "y"
        },
        {
         "hovertemplate": "Line=LLB - IMA-2 Packaging (NSL)<br>Plant=LLB<br>Availability %=%{x}<br>Performance %=%{y}<extra></extra>",
         "legendgroup": "LLB - IMA-2 Packaging (NSL), LLB",
         "marker": {
          "color": "#00cc96",
          "symbol": "x"
         },
         "mode": "markers",
         "name": "LLB - IMA-2 Packaging (NSL), LLB",
         "orientation": "v",
         "showlegend": true,
         "type": "scatter",
         "x": [
          55.321194727748505,
          50.699656047967366,
          50.87364633956494
         ],
         "xaxis": "x",
         "y": [
          70.47728882692992,
          59.97539505897471,
          55.50693886842088
         ],
         "yaxis": "y"
        },
        {
         "hovertemplate": "Line=LLB - IMA-2 Packaging (SOLD)<br>Plant=LLB<br>Availability %=%{x}<br>Performance %=%{y}<extra></extra>",
         "legendgroup": "LLB - IMA-2 Packaging (SOLD), LLB",
         "marker": {
          "color": "#ab63fa",
          "symbol": "x"
         },
         "mode": "markers",
         "name": "LLB - IMA-2 Packaging (SOLD), LLB",
         "orientation": "v",
         "showlegend": true,
         "type": "scatter",
         "x": [
          67.74805410091871,
          68.26761138404993,
          69.2760835231294,
          70.92119255978075,
          72.34617285031979,
          75.72582467212685,
          76.58147565330184
         ],
         "xaxis": "x",
         "y": [
          77.58926505339316,
          76.6806192702712,
          76.51994268276333,
          72.22693973405275,
          71.42806111988469,
          70.62313902921473,
          66.1267319055749
         ],
         "yaxis": "y"
        },
        {
         "hovertemplate": "Line=LLB - IMA-3 Packaging (SOLD)<br>Plant=LLB<br>Availability %=%{x}<br>Performance %=%{y}<extra></extra>",
         "legendgroup": "LLB - IMA-3 Packaging (SOLD), LLB",
         "marker": {
          "color": "#FFA15A",
          "symbol": "x"
         },
         "mode": "markers",
         "name": "LLB - IMA-3 Packaging (SOLD), LLB",
         "orientation": "v",
         "showlegend": true,
         "type": "scatter",
         "x": [
          69.17879502272035,
          71.46707101820647,
          71.44820604720417,
          68.96136084084195,
          71.16102723149172,
          73.2047696021957,
          74.6868254633065
         ],
         "xaxis": "x",
         "y": [
          78.08133352714657,
          83.73510275666281,
          83.41288551698855,
          74.66710370221547,
          74.84606201471026,
          68.36990316019472,
          66.75208259967259
         ],
         "yaxis": "y"
        },
        {
         "hovertemplate": "Line=LLB - IMA-4 Packaging (SOLD)<br>Plant=LLB<br>Availability %=%{x}<br>Performance %=%{y}<extra></extra>",
         "legendgroup": "LLB - IMA-4 Packaging (SOLD), LLB",
         "marker": {
          "color": "#19d3f3",
          "symbol": "x"
         },
         "mode": "markers",
         "name": "LLB - IMA-4 Packaging (SOLD), LLB",
         "orientation": "v",
         "showlegend": true,
         "type": "scatter",
         "x": [
          45.68510743766193,
          53.25081518244727,
          58.35321639518492,
          61.24734005478105,
          65.36456839872346,
          64.22351388291095
         ],
         "xaxis": "x",
         "y": [
          59.32421489659213,
          68.16410660830667,
          69.75696235911515,
          68.45445658004517,
          70.24691973049157,
          63.276057759720196
         ],
         "yaxis": "y"
        },
        {
         "hovertemplate": "Line=LLB - SPREY Packaging (NSL)<br>Plant=LLB<br>Availability %=%{x}<br>Performance %=%{y}<extra></extra>",
         "legendgroup": "LLB - SPREY Packaging (NSL), LLB",
         "marker": {
          "color": "#FF6692",
          "symbol": "x"
         },
         "mode": "markers",
         "name": "LLB - SPREY Packaging (NSL), LLB",
         "orientation": "v",
         "showlegend": true,
         "type": "scatter",
         "x": [
          66.94192178586111,
          62.896439131335654,
          66.96364109892824,
          59.901158119625414,
          64.69796006944446,
          66.65475363756615,
          65.6107439266357
         ],
         "xaxis": "x",
         "y": [
          104.67805062013322,
          109.5587300534962,
          97.75699888459667,
          85.56912892286694,
          88.7442450540234,
          76.61416705626422,
          80.09609926149196
         ],
         "yaxis": "y"
        },
        {
         "hovertemplate": "Line=LLB - Sarong Packaging (SSL)<br>Plant=LLB<br>Availability %=%{x}<br>Performance %=%{y}<extra></extra>",
         "legendgroup": "LLB - Sarong Packaging (SSL), LLB",
         "marker": {
          "color": "#B6E880",
          "symbol": "x"
         },
         "mode": "markers",
         "name": "LLB - Sarong Packaging (SSL), LLB",
         "orientation": "v",
         "showlegend": true,
         "type": "scatter",
         "x": [
          76.84094936872026,
          79.13113423500701,
          76.50709272920489,
          75.41355164800109,
          73.23459579770466,
          69.52581870672009,
          68.0658311049133
         ],
         "xaxis": "x",
         "y": [
          100.44486022433715,
          99.70078568007185,
          95.80310093391502,
          93.55933666592458,
          88.05472846403919,
          83.21874355372861,
          82.26885880779531
         ],
         "yaxis": "y"
        },
        {
         "hovertemplate": "Line=LLB - TFS-30 Packaging (SSL)<br>Plant=LLB<br>Availability %=%{x}<br>Performance %=%{y}<extra></extra>",
         "legendgroup": "LLB - TFS-30 Packaging (SSL), LLB",
         "marker": {
          "color": "#FF97FF",
          "symbol": "x"
         },
         "mode": "markers",
         "name": "LLB - TFS-30 Packaging (SSL), LLB",
         "orientation": "v",
         "showlegend": true,
         "type": "scatter",
         "x": [
          67.35288885597124,
          69.88832820085455,
          72.88543525530868,
          76.77341627534707
         ],
         "xaxis": "x",
         "y": [
          76.27317513013173,
          71.56863719154424,
          66.73426447031585,
          63.52720173944378
         ],
         "yaxis": "y"
        },
        {
         "hovertemplate": "Line=LLB - Uhlmann Packaging (SOLD)<br>Plant=LLB<br>Availability %=%{x}<br>Performance %=%{y}<extra></extra>",
         "legendgroup": "LLB - Uhlmann Packaging (SOLD), LLB",
         "marker": {
          "color": "#FECB52",
          "symbol": "x"
         },
         "mode": "markers",
         "name": "LLB - Uhlmann Packaging (SOLD), LLB",
         "orientation": "v",
         "showlegend": true,
         "type": "scatter",
         "x": [
          63.73870977511812,
          65.00115277464863,
          71.22660176350138
         ],
         "xaxis": "x",
         "y": [
          73.86988474838367,
          70.67097084595622,
          70.93113740207153
         ],
         "yaxis": "y"
        },
        {
         "hovertemplate": "Line=LSX - 1030 Packaging Line<br>Plant=LSX<br>Availability %=%{x}<br>Performance %=%{y}<extra></extra>",
         "legendgroup": "LSX - 1030 Packaging Line, LSX",
         "marker": {
          "color": "#636efa",
          "symbol": "cross"
         },
         "mode": "markers",
         "name": "LSX - 1030 Packaging Line, LSX",
         "orientation": "v",
         "showlegend": true,
         "type": "scatter",
         "x": [
          69.95118176242704,
          70.08666187169231,
          70.36956147816886,
          65.03043329250951,
          61.22449142537225,
          59.714462711312535,
          55.37969678809879
         ],
         "xaxis": "x",
         "y": [
          79.88765839056575,
          80.64634052006883,
          79.81690030132089,
          83.39847675700224,
          86.71720122371664,
          86.46196507008057,
          86.18486755778594
         ],
         "yaxis": "y"
        },
        {
         "hovertemplate": "Line=LSX - 1070-1 Packaging Line<br>Plant=LSX<br>Availability %=%{x}<br>Performance %=%{y}<extra></extra>",
         "legendgroup": "LSX - 1070-1 Packaging Line, LSX",
         "marker": {
          "color": "#EF553B",
          "symbol": "cross"
         },
         "mode": "markers",
         "name": "LSX - 1070-1 Packaging Line, LSX",
         "orientation": "v",
         "showlegend": true,
         "type": "scatter",
         "x": [
          64.18739046068404,
          67.16505986683487,
          68.43828237014684,
          64.31100479009348,
          63.35263795709003,
          64.74119238781758,
          65.88375208829802
         ],
         "xaxis": "x",
         "y": [
          73.2296279577679,
          72.5074714316928,
          73.70515368996357,
          78.1776247085063,
          81.39382181019897,
          81.4037875609014,
          81.40554430759015
         ],
         "yaxis": "y"
        },
        {
         "hovertemplate": "Line=LSX - 1070-2 Packaging Line<br>Plant=LSX<br>Availability %=%{x}<br>Performance %=%{y}<extra></extra>",
         "legendgroup": "LSX - 1070-2 Packaging Line, LSX",
         "marker": {
          "color": "#00cc96",
          "symbol": "cross"
         },
         "mode": "markers",
         "name": "LSX - 1070-2 Packaging Line, LSX",
         "orientation": "v",
         "showlegend": true,
         "type": "scatter",
         "x": [
          70.31167537620058,
          71.63359775544107,
          73.78168587611393,
          66.04003020172479,
          61.17453261009341,
          62.05939202950261,
          55.65602533381231
         ],
         "xaxis": "x",
         "y": [
          75.67778140975504,
          74.07383633582867,
          69.7798451621103,
          75.32704999058402,
          79.83333724135073,
          81.3289624552402,
          85.48507805072676
         ],
         "yaxis": "y"
        },
        {
         "hovertemplate": "Line=LSX - C65-1 Packaging Line<br>Plant=LSX<br>Availability %=%{x}<br>Performance %=%{y}<extra></extra>",
         "legendgroup": "LSX - C65-1 Packaging Line, LSX",
         "marker": {
          "color": "#ab63fa",
          "symbol": "cross"
         },
         "mode": "markers",
         "name": "LSX - C65-1 Packaging Line, LSX",
         "orientation": "v",
         "showlegend": true,
         "type": "scatter",
         "x": [
          60.69918376755177,
          61.295122732275274,
          64.24506000818346,
          66.94139367024286,
          67.03912843166815,
          68.14592080467,
          66.28166001596905
         ],
         "xaxis": "x",
         "y": [
          84.26542707105698,
          85.92260551251977,
          87.42358497990492,
          87.10724363595799,
          89.17723194849235,
          90.45330796049961,
          89.58920804953564
         ],
         "yaxis": "y"
        },
        {
         "hovertemplate": "Line=LSX - C65-2 Packaging Line<br>Plant=LSX<br>Availability %=%{x}<br>Performance %=%{y}<extra></extra>",
         "legendgroup": "LSX - C65-2 Packaging Line, LSX",
         "marker": {
          "color": "#FFA15A",
          "symbol": "cross"
         },
         "mode": "markers",
         "name": "LSX - C65-2 Packaging Line, LSX",
         "orientation": "v",
         "showlegend": true,
         "type": "scatter",
         "x": [
          79.2187283377081,
          80.44354254930747,
          81.8239689930083,
          77.19476970237746,
          73.3584949817021,
          73.4837853474574,
          71.43391855247172
         ],
         "xaxis": "x",
         "y": [
          89.41739295347809,
          89.56765365280401,
          90.11073567473152,
          93.34570358369466,
          93.48532710941087,
          94.30304016730196,
          93.750741041385
         ],
         "yaxis": "y"
        },
        {
         "hovertemplate": "Line=LSX - IWK Packaging Line<br>Plant=LSX<br>Availability %=%{x}<br>Performance %=%{y}<extra></extra>",
         "legendgroup": "LSX - IWK Packaging Line, LSX",
         "marker": {
          "color": "#19d3f3",
          "symbol": "cross"
         },
         "mode": "markers",
         "name": "LSX - IWK Packaging Line, LSX",
         "orientation": "v",
         "showlegend": true,
         "type": "scatter",
         "x": [
          57.46724199391157,
          58.44410977901503,
          70.5418172531971,
          57.34219354272864,
          60.73400231272078,
          56.31861840727749,
          48.52426215070239
         ],
         "xaxis": "x",
         "y": [
          69.40726790169302,
          71.75483768325391,
          77.16729315611747,
          95.08361717302665,
          94.62882746368061,
          89.9840983529246,
          87.81770355673923
         ],
         "yaxis": "y"
        },
        {
         "hovertemplate": "Line=LSX - SIG1 Packaging Line<br>Plant=LSX<br>Availability %=%{x}<br>Performance %=%{y}<extra></extra>",
         "legendgroup": "LSX - SIG1 Packaging Line, LSX",
         "marker": {
          "color": "#FF6692",
          "symbol": "cross"
         },
         "mode": "markers",
         "name": "LSX - SIG1 Packaging Line, LSX",
         "orientation": "v",
         "showlegend": true,
         "type": "scatter",
         "x": [
          67.14712290942877,
          64.22090940902817,
          61.33018528768628,
          61.9527501849129,
          59.56707381805762,
          65.13439605689996,
          68.46462184259022
         ],
         "xaxis": "x",
         "y": [
          86.76029914950462,
          85.16462414049005,
          83.5139573757892,
          89.07772088169054,
          92.16011007733002,
          92.86362205667336,
          95.1868210741855
         ],
         "yaxis": "y"
        },
        {
         "hovertemplate": "Line=LSX - SIG2 Packaging Line<br>Plant=LSX<br>Availability %=%{x}<br>Performance %=%{y}<extra></extra>",
         "legendgroup": "LSX - SIG2 Packaging Line, LSX",
         "marker": {
          "color": "#B6E880",
          "symbol": "cross"
         },
         "mode": "markers",
         "name": "LSX - SIG2 Packaging Line, LSX",
         "orientation": "v",
         "showlegend": true,
         "type": "scatter",
         "x": [
          67.77970798842858,
          75.12819442107573,
          76.00252021239473,
          73.89900407112054,
          68.27110554021795,
          62.672043423308104,
          65.32686588064168
         ],
         "xaxis": "x",
         "y": [
          83.31528008312114,
          75.86014073332717,
          80.74600544235899,
          85.59418850318026,
          92.80980114314788,
          102.07020693610222,
          94.0878139038843
         ],
         "yaxis": "y"
        },
        {
         "hovertemplate": "Line=LSX - SUPPO Packaging Line<br>Plant=LSX<br>Availability %=%{x}<br>Performance %=%{y}<extra></extra>",
         "legendgroup": "LSX - SUPPO Packaging Line, LSX",
         "marker": {
          "color": "#FF97FF",
          "symbol": "cross"
         },
         "mode": "markers",
         "name": "LSX - SUPPO Packaging Line, LSX",
         "orientation": "v",
         "showlegend": true,
         "type": "scatter",
         "x": [
          72.32822803158525,
          73.28141496535243,
          75.9635288888652,
          72.72710249355262,
          68.52290417117197,
          65.95272664602626
         ],
         "xaxis": "x",
         "y": [
          66.56855251393152,
          72.6862936279947,
          73.66455717878618,
          77.99800218414507,
          78.25356503220036,
          70.65304234814647
         ],
         "yaxis": "y"
        },
        {
         "hovertemplate": "Line=LSX - TR200 Packaging Line<br>Plant=LSX<br>Availability %=%{x}<br>Performance %=%{y}<extra></extra>",
         "legendgroup": "LSX - TR200 Packaging Line, LSX",
         "marker": {
          "color": "#FECB52",
          "symbol": "cross"
         },
         "mode": "markers",
         "name": "LSX - TR200 Packaging Line, LSX",
         "orientation": "v",
         "showlegend": true,
         "type": "scatter",
         "x": [
          74.60470700655227,
          78.21305753005683,
          72.02638183557295,
          70.32751126383819,
          64.59349959337344,
          63.43283332178143,
          65.67367480691605
         ],
         "xaxis": "x",
         "y": [
          77.67376750027634,
          77.67206500917915,
          72.47648115902842,
          69.27876878527032,
          78.70156633550634,
          79.1180891234929,
          74.94880971270975
         ],
         "yaxis": "y"
        },
        {
         "hovertemplate": "Line=LTR - C10 Packaging Line<br>Plant=LTR<br>Availability %=%{x}<br>Performance %=%{y}<extra></extra>",
         "legendgroup": "LTR - C10 Packaging Line, LTR",
         "marker": {
          "color": "#636efa",
          "symbol": "circle"
         },
         "mode": "markers",
         "name": "LTR - C10 Packaging Line, LTR",
         "orientation": "v",
         "showlegend": true,
         "type": "scatter",
         "x": [
          36.49832018507016
         ],
         "xaxis": "x",
         "y": [
          51.80212673366573
         ],
         "yaxis": "y"
        },
        {
         "hovertemplate": "Line=LTR - C2 Packaging Line<br>Plant=LTR<br>Availability %=%{x}<br>Performance %=%{y}<extra></extra>",
         "legendgroup": "LTR - C2 Packaging Line, LTR",
         "marker": {
          "color": "#EF553B",
          "symbol": "circle"
         },
         "mode": "markers",
         "name": "LTR - C2 Packaging Line, LTR",
         "orientation": "v",
         "showlegend": true,
         "type": "scatter",
         "x": [
          65.17830446412069,
          64.35021338011597
         ],
         "xaxis": "x",
         "y": [
          67.06018958004482,
          66.063341524183
         ],
         "yaxis": "y"
        },
        {
         "hovertemplate": "Line=LTR - C6 Packaging line<br>Plant=LTR<br>Availability %=%{x}<br>Performance %=%{y}<extra></extra>",
         "legendgroup": "LTR - C6 Packaging line, LTR",
         "marker": {
          "color": "#00cc96",
          "symbol": "circle"
         },
         "mode": "markers",
         "name": "LTR - C6 Packaging line, LTR",
         "orientation": "v",
         "showlegend": true,
         "type": "scatter",
         "x": [
          53.76537318568569,
          51.02661683498255,
          55.526327483130686,
          55.438852832402,
          52.82745925876885,
          51.74983138217769,
          49.58144871896668
         ],
         "xaxis": "x",
         "y": [
          64.74385979417693,
          67.20034704633157,
          68.74654800350909,
          70.55389657044847,
          70.10059044579181,
          68.23782687322782,
          68.7720117850895
         ],
         "yaxis": "y"
        },
        {
         "hovertemplate": "Line=LTR - C7 Packaging line<br>Plant=LTR<br>Availability %=%{x}<br>Performance %=%{y}<extra></extra>",
         "legendgroup": "LTR - C7 Packaging line, LTR",
         "marker": {
          "color": "#ab63fa",
          "symbol": "circle"
         },
         "mode": "markers",
         "name": "LTR - C7 Packaging line, LTR",
         "orientation": "v",
         "showlegend": true,
         "type": "scatter",
         "x": [
          38.01022679686711,
          44.72090294948799,
          46.73364045829592,
          50.50196597438173,
          51.80307863748122
         ],
         "xaxis": "x",
         "y": [
          54.74640529027248,
          57.341896953701024,
          61.50434107083786,
          62.85746816791284,
          63.413769813097105
         ],
         "yaxis": "y"
        },
        {
         "hovertemplate": "Line=LTR - C8 Packaging line<br>Plant=LTR<br>Availability %=%{x}<br>Performance %=%{y}<extra></extra>",
         "legendgroup": "LTR - C8 Packaging line, LTR",
         "marker": {
          "color": "#FFA15A",
          "symbol": "circle"
         },
         "mode": "markers",
         "name": "LTR - C8 Packaging line, LTR",
         "orientation": "v",
         "showlegend": true,
         "type": "scatter",
         "x": [
          65.32811072628368,
          64.02760373603583,
          59.70415991150641
         ],
         "xaxis": "x",
         "y": [
          71.94928481649518,
          70.06973070984839,
          67.70092646956438
         ],
         "yaxis": "y"
        },
        {
         "hovertemplate": "Line=LTR - C9 Packaging line<br>Plant=LTR<br>Availability %=%{x}<br>Performance %=%{y}<extra></extra>",
         "legendgroup": "LTR - C9 Packaging line, LTR",
         "marker": {
          "color": "#19d3f3",
          "symbol": "circle"
         },
         "mode": "markers",
         "name": "LTR - C9 Packaging line, LTR",
         "orientation": "v",
         "showlegend": true,
         "type": "scatter",
         "x": [
          57.55478035491947,
          58.36550541262786,
          57.70563251976161,
          54.637634834576424,
          53.34755330393732,
          52.99469649393593
         ],
         "xaxis": "x",
         "y": [
          67.47556868004729,
          70.62521757331501,
          70.06743581076606,
          69.14048543346748,
          66.6715898457793,
          61.28775840093397
         ],
         "yaxis": "y"
        },
        {
         "hovertemplate": "Line=LTR - Corima Assembling Machine<br>Plant=LTR<br>Availability %=%{x}<br>Performance %=%{y}<extra></extra>",
         "legendgroup": "LTR - Corima Assembling Machine, LTR",
         "marker": {
          "color": "#FF6692",
          "symbol": "circle"
         },
         "mode": "markers",
         "name": "LTR - Corima Assembling Machine, LTR",
         "orientation": "v",
         "showlegend": true,
         "type": "scatter",
         "x": [
          31.31354494549462,
          35.85738313039632,
          52.15946646372965
         ],
         "xaxis": "x",
         "y": [
          10.625656798533312,
          6.884788541954916,
          4.847363392254318
         ],
         "yaxis": "y"
        },
        {
         "hovertemplate": "Line=LTR - L647 Bio-Tech Packaging<br>Plant=LTR<br>Availability %=%{x}<br>Performance %=%{y}<extra></extra>",
         "legendgroup": "LTR - L647 Bio-Tech Packaging, LTR",
         "marker": {
          "color": "#B6E880",
          "symbol": "circle"
         },
         "mode": "markers",
         "name": "LTR - L647 Bio-Tech Packaging, LTR",
         "orientation": "v",
         "showlegend": true,
         "type": "scatter",
         "x": [
          46.86900001691928,
          39.62382009455275,
          37.74824545560352,
          40.992886565209055,
          41.293486402917175
         ],
         "xaxis": "x",
         "y": [
          78.76867712555236,
          70.19638062929789,
          66.80497728624358,
          61.964281221646395,
          55.25097455722167
         ],
         "yaxis": "y"
        },
        {
         "hovertemplate": "Line=LTR - Optima Assembling Machine<br>Plant=LTR<br>Availability %=%{x}<br>Performance %=%{y}<extra></extra>",
         "legendgroup": "LTR - Optima Assembling Machine, LTR",
         "marker": {
          "color": "#FF97FF",
          "symbol": "circle"
         },
         "mode": "markers",
         "name": "LTR - Optima Assembling Machine, LTR",
         "orientation": "v",
         "showlegend": true,
         "type": "scatter",
         "x": [
          52.652487993719376,
          48.43096445864963,
          51.32811153041155,
          53.19696058460378,
          53.3769828959825
         ],
         "xaxis": "x",
         "y": [
          34.496096340715596,
          42.864773241300384,
          38.77020105113287,
          38.67108337408973,
          30.925949028814912
         ],
         "yaxis": "y"
        },
        {
         "hovertemplate": "Line=MAF - C2 Packaging Line<br>Plant=MAF<br>Availability %=%{x}<br>Performance %=%{y}<extra></extra>",
         "legendgroup": "MAF - C2 Packaging Line, MAF",
         "marker": {
          "color": "#FECB52",
          "symbol": "diamond"
         },
         "mode": "markers",
         "name": "MAF - C2 Packaging Line, MAF",
         "orientation": "v",
         "showlegend": true,
         "type": "scatter",
         "x": [
          58.33863563112632,
          58.65098460754393,
          55.925698896011404,
          53.8229383104922,
          55.805274499669046,
          57.148466744515694,
          53.515823742181546
         ],
         "xaxis": "x",
         "y": [
          83.67652851000256,
          84.29860638568279,
          83.60580025799516,
          81.35418263682385,
          80.26453483699764,
          77.6435174109579,
          80.2608154163169
         ],
         "yaxis": "y"
        },
        {
         "hovertemplate": "Line=MAF - C3 Packaging Line<br>Plant=MAF<br>Availability %=%{x}<br>Performance %=%{y}<extra></extra>",
         "legendgroup": "MAF - C3 Packaging Line, MAF",
         "marker": {
          "color": "#636efa",
          "symbol": "diamond"
         },
         "mode": "markers",
         "name": "MAF - C3 Packaging Line, MAF",
         "orientation": "v",
         "showlegend": true,
         "type": "scatter",
         "x": [
          57.41733932913779,
          57.9979801824601,
          57.117083835779894,
          55.15960648148149,
          59.07601067744772,
          63.35998038816732,
          63.02722420508557
         ],
         "xaxis": "x",
         "y": [
          90.41061447984933,
          88.11970726976817,
          87.79047965045903,
          87.45695316759009,
          84.63444470044553,
          86.7796910257164,
          89.0878034191629
         ],
         "yaxis": "y"
        },
        {
         "hovertemplate": "Line=MAF - C4 Packaging Line<br>Plant=MAF<br>Availability %=%{x}<br>Performance %=%{y}<extra></extra>",
         "legendgroup": "MAF - C4 Packaging Line, MAF",
         "marker": {
          "color": "#EF553B",
          "symbol": "diamond"
         },
         "mode": "markers",
         "name": "MAF - C4 Packaging Line, MAF",
         "orientation": "v",
         "showlegend": true,
         "type": "scatter",
         "x": [
          51.408909111587526,
          51.8259419555357,
          52.09828544149539,
          52.229612878055384,
          57.671906975888135,
          54.204353198007105,
          45.00648739213632
         ],
         "xaxis": "x",
         "y": [
          83.74089693839531,
          82.06644387479902,
          80.10871448583796,
          80.53347241381442,
          80.62256667708859,
          80.79809636376321,
          83.33147078779717
         ],
         "yaxis": "y"
        },
        {
         "hovertemplate": "Line=MAF - C5 Packaging Line<br>Plant=MAF<br>Availability %=%{x}<br>Performance %=%{y}<extra></extra>",
         "legendgroup": "MAF - C5 Packaging Line, MAF",
         "marker": {
          "color": "#00cc96",
          "symbol": "diamond"
         },
         "mode": "markers",
         "name": "MAF - C5 Packaging Line, MAF",
         "orientation": "v",
         "showlegend": true,
         "type": "scatter",
         "x": [
          53.85071695526932,
          50.83987058091846,
          52.960527736910926,
          48.865268874643874,
          48.5986311080554,
          48.59275032278719,
          46.54945898136653
         ],
         "xaxis": "x",
         "y": [
          89.99545032592361,
          89.20470231559926,
          89.86653175232763,
          89.10717468772066,
          87.06573257647264,
          83.70769646582451,
          82.8371313326083
         ],
         "yaxis": "y"
        },
        {
         "hovertemplate": "Line=MAF - C6 Packaging Line<br>Plant=MAF<br>Availability %=%{x}<br>Performance %=%{y}<extra></extra>",
         "legendgroup": "MAF - C6 Packaging Line, MAF",
         "marker": {
          "color": "#ab63fa",
          "symbol": "diamond"
         },
         "mode": "markers",
         "name": "MAF - C6 Packaging Line, MAF",
         "orientation": "v",
         "showlegend": true,
         "type": "scatter",
         "x": [
          41.98400801466726,
          45.514467390539274,
          47.357551282811414,
          49.53124470369028,
          49.8524354527107,
          50.76501730137359,
          49.334959825737236
         ],
         "xaxis": "x",
         "y": [
          80.4563417695669,
          81.7372099500651,
          79.84318469970297,
          77.83182365288958,
          75.20841451535752,
          73.44977311822767,
          74.39354328379994
         ],
         "yaxis": "y"
        },
        {
         "hovertemplate": "Line=MAF - C9 Packaging Line<br>Plant=MAF<br>Availability %=%{x}<br>Performance %=%{y}<extra></extra>",
         "legendgroup": "MAF - C9 Packaging Line, MAF",
         "marker": {
          "color": "#FFA15A",
          "symbol": "diamond"
         },
         "mode": "markers",
         "name": "MAF - C9 Packaging Line, MAF",
         "orientation": "v",
         "showlegend": true,
         "type": "scatter",
         "x": [
          72.6530258333534,
          72.17293858720036,
          70.44584825498686
         ],
         "xaxis": "x",
         "y": [
          86.8400029638234,
          87.50317017313739,
          87.26231775984346
         ],
         "yaxis": "y"
        },
        {
         "hovertemplate": "Line=MAF - I2 Inspection Line<br>Plant=MAF<br>Availability %=%{x}<br>Performance %=%{y}<extra></extra>",
         "legendgroup": "MAF - I2 Inspection Line, MAF",
         "marker": {
          "color": "#19d3f3",
          "symbol": "diamond"
         },
         "mode": "markers",
         "name": "MAF - I2 Inspection Line, MAF",
         "orientation": "v",
         "showlegend": true,
         "type": "scatter",
         "x": [
          82.77553927839102,
          84.16969091208176,
          85.37853606284077,
          85.18330768119253,
          85.45858396206707,
          82.9125775787445,
          79.61300745347258
         ],
         "xaxis": "x",
         "y": [
          99.72791378845085,
          99.55496285273543,
          98.99174974866304,
          97.4706452013349,
          97.77428071439829,
          98.17595917548451,
          96.65432626759812
         ],
         "yaxis": "y"
        },
        {
         "hovertemplate": "Line=MAF - I4 Inspection Line<br>Plant=MAF<br>Availability %=%{x}<br>Performance %=%{y}<extra></extra>",
         "legendgroup": "MAF - I4 Inspection Line, MAF",
         "marker": {
          "color": "#FF6692",
          "symbol": "diamond"
         },
         "mode": "markers",
         "name": "MAF - I4 Inspection Line, MAF",
         "orientation": "v",
         "showlegend": true,
         "type": "scatter",
         "x": [
          66.85377498973169,
          67.16877206037793,
          71.69351851326837,
          78.39301505197196,
          79.7014003579891,
          82.49263294970068
         ],
         "xaxis": "x",
         "y": [
          96.81424110105135,
          96.98166360389305,
          98.42374258453466,
          98.3445124181609,
          99.15587010519698,
          99.22037849949606
         ],
         "yaxis": "y"
        },
        {
         "hovertemplate": "Line=MAF - I6 Inspection Line<br>Plant=MAF<br>Availability %=%{x}<br>Performance %=%{y}<extra></extra>",
         "legendgroup": "MAF - I6 Inspection Line, MAF",
         "marker": {
          "color": "#B6E880",
          "symbol": "diamond"
         },
         "mode": "markers",
         "name": "MAF - I6 Inspection Line, MAF",
         "orientation": "v",
         "showlegend": true,
         "type": "scatter",
         "x": [
          68.69144614746446,
          65.2354786121649,
          60.6466942948849,
          61.804047351416024,
          64.50869971758405,
          63.27712292149529,
          65.88751419140915
         ],
         "xaxis": "x",
         "y": [
          99.85785019180064,
          102.98113431953355,
          104.07614090394787,
          103.842750074644,
          103.69812312466712,
          103.03547563792208,
          96.96273413563665
         ],
         "yaxis": "y"
        },
        {
         "hovertemplate": "Line=MAF - R1 Filling Line<br>Plant=MAF<br>Availability %=%{x}<br>Performance %=%{y}<extra></extra>",
         "legendgroup": "MAF - R1 Filling Line, MAF",
         "marker": {
          "color": "#FF97FF",
          "symbol": "diamond"
         },
         "mode": "markers",
         "name": "MAF - R1 Filling Line, MAF",
         "orientation": "v",
         "showlegend": true,
         "type": "scatter",
         "x": [
          72.26481818856799,
          73.2207871968492,
          72.65312183124033,
          71.04248641384015,
          70.26597176424801,
          62.21887156544625
         ],
         "xaxis": "x",
         "y": [
          103.45758806058527,
          103.2308948367062,
          103.35112022894702,
          103.42300455014643,
          103.09089544708704,
          100.13215245849267
         ],
         "yaxis": "y"
        },
        {
         "hovertemplate": "Line=MAF - R4 Filling Line<br>Plant=MAF<br>Availability %=%{x}<br>Performance %=%{y}<extra></extra>",
         "legendgroup": "MAF - R4 Filling Line, MAF",
         "marker": {
          "color": "#FECB52",
          "symbol": "diamond"
         },
         "mode": "markers",
         "name": "MAF - R4 Filling Line, MAF",
         "orientation": "v",
         "showlegend": true,
         "type": "scatter",
         "x": [
          58.537842998095165,
          59.42634055068082,
          57.985133632321535,
          59.306028750463675,
          57.8476099588894,
          49.66187166700472
         ],
         "xaxis": "x",
         "y": [
          99.51086940811898,
          98.60273433456331,
          99.9736291795434,
          100.54875487438878,
          100.28621007191649,
          97.93485805933597
         ],
         "yaxis": "y"
        },
        {
         "hovertemplate": "Line=MAF - R5 Filling Line<br>Plant=MAF<br>Availability %=%{x}<br>Performance %=%{y}<extra></extra>",
         "legendgroup": "MAF - R5 Filling Line, MAF",
         "marker": {
          "color": "#636efa",
          "symbol": "diamond"
         },
         "mode": "markers",
         "name": "MAF - R5 Filling Line, MAF",
         "orientation": "v",
         "showlegend": true,
         "type": "scatter",
         "x": [
          59.91195144172806,
          59.37610135255422,
          40.37849124025982
         ],
         "xaxis": "x",
         "y": [
          89.03599685565031,
          86.03959307591619,
          79.07974902519538
         ],
         "yaxis": "y"
        },
        {
         "hovertemplate": "Line=MLE - P2A1<br>Plant=MLE<br>Availability %=%{x}<br>Performance %=%{y}<extra></extra>",
         "legendgroup": "MLE - P2A1, MLE",
         "marker": {
          "color": "#EF553B",
          "symbol": "square"
         },
         "mode": "markers",
         "name": "MLE - P2A1, MLE",
         "orientation": "v",
         "showlegend": true,
         "type": "scatter",
         "x": [
          29.766393712052984
         ],
         "xaxis": "x",
         "y": [
          75.94935276806899
         ],
         "yaxis": "y"
        },
        {
         "hovertemplate": "Line=OCO - C90 Packaging Line<br>Plant=OCO<br>Availability %=%{x}<br>Performance %=%{y}<extra></extra>",
         "legendgroup": "OCO - C90 Packaging Line, OCO",
         "marker": {
          "color": "#00cc96",
          "symbol": "x"
         },
         "mode": "markers",
         "name": "OCO - C90 Packaging Line, OCO",
         "orientation": "v",
         "showlegend": true,
         "type": "scatter",
         "x": [
          46.654790400383774,
          50.31392530391213,
          52.81695990397891
         ],
         "xaxis": "x",
         "y": [
          null,
          65.36529704870922,
          77.87236074350156
         ],
         "yaxis": "y"
        },
        {
         "hovertemplate": "Line=OCO - JARABES Packaging Line<br>Plant=OCO<br>Availability %=%{x}<br>Performance %=%{y}<extra></extra>",
         "legendgroup": "OCO - JARABES Packaging Line, OCO",
         "marker": {
          "color": "#ab63fa",
          "symbol": "x"
         },
         "mode": "markers",
         "name": "OCO - JARABES Packaging Line, OCO",
         "orientation": "v",
         "showlegend": true,
         "type": "scatter",
         "x": [
          60.9145513636242,
          58.28396684725545,
          60.23138724567916,
          55.859055411451195,
          58.44232394996811,
          61.56077790688281,
          61.50927705747697
         ],
         "xaxis": "x",
         "y": [
          103.48224311848915,
          100.20354886413082,
          103.33786781922993,
          96.22685239782899,
          96.17887902949911,
          92.76206143215202,
          88.86333154007282
         ],
         "yaxis": "y"
        },
        {
         "hovertemplate": "Line=OCO - LACTACYD Packaging Line<br>Plant=OCO<br>Availability %=%{x}<br>Performance %=%{y}<extra></extra>",
         "legendgroup": "OCO - LACTACYD Packaging Line, OCO",
         "marker": {
          "color": "#FFA15A",
          "symbol": "x"
         },
         "mode": "markers",
         "name": "OCO - LACTACYD Packaging Line, OCO",
         "orientation": "v",
         "showlegend": true,
         "type": "scatter",
         "x": [
          47.34833278127275,
          46.02585862907075,
          39.24894423850202,
          40.9553011395208,
          42.182093994364486,
          40.324269681693636,
          49.468116972226944
         ],
         "xaxis": "x",
         "y": [
          86.80369562996874,
          81.97393210510262,
          77.20504861783996,
          76.95328744310558,
          70.340452867429,
          65.79118676230681,
          65.3889016036811
         ],
         "yaxis": "y"
        },
        {
         "hovertemplate": "Line=OCO - MEDISEAL Packaging Line<br>Plant=OCO<br>Availability %=%{x}<br>Performance %=%{y}<extra></extra>",
         "legendgroup": "OCO - MEDISEAL Packaging Line, OCO",
         "marker": {
          "color": "#19d3f3",
          "symbol": "x"
         },
         "mode": "markers",
         "name": "OCO - MEDISEAL Packaging Line, OCO",
         "orientation": "v",
         "showlegend": true,
         "type": "scatter",
         "x": [
          53.87162819668073,
          56.8243945713549,
          53.53784919751279,
          52.256946415066714,
          44.867283843897816,
          46.3352041971924,
          45.87024606444923
         ],
         "xaxis": "x",
         "y": [
          82.99427413210967,
          80.33435757147399,
          81.1086332140435,
          80.46149494054299,
          74.77377634430991,
          74.68180620578495,
          73.72593305495992
         ],
         "yaxis": "y"
        },
        {
         "hovertemplate": "Line=OCO - MELOX Packaging Line<br>Plant=OCO<br>Availability %=%{x}<br>Performance %=%{y}<extra></extra>",
         "legendgroup": "OCO - MELOX Packaging Line, OCO",
         "marker": {
          "color": "#FF6692",
          "symbol": "x"
         },
         "mode": "markers",
         "name": "OCO - MELOX Packaging Line, OCO",
         "orientation": "v",
         "showlegend": true,
         "type": "scatter",
         "x": [
          61.01672579005852,
          63.656259814131886,
          65.09032786359239,
          69.12052055569244,
          61.75941534184726
         ],
         "xaxis": "x",
         "y": [
          63.21748486952356,
          65.43222250909398,
          66.9596805312717,
          69.53102104850593,
          70.8264524266945
         ],
         "yaxis": "y"
        },
        {
         "hovertemplate": "Line=OCO - PARTENA 1 Packaging Line<br>Plant=OCO<br>Availability %=%{x}<br>Performance %=%{y}<extra></extra>",
         "legendgroup": "OCO - PARTENA 1 Packaging Line, OCO",
         "marker": {
          "color": "#B6E880",
          "symbol": "x"
         },
         "mode": "markers",
         "name": "OCO - PARTENA 1 Packaging Line, OCO",
         "orientation": "v",
         "showlegend": true,
         "type": "scatter",
         "x": [
          47.653391630015946,
          44.75489821696639,
          42.776209198269655,
          39.75083375491207,
          39.07127690465758
         ],
         "xaxis": "x",
         "y": [
          81.45573081807724,
          79.61560726627191,
          76.47613335503067,
          75.57882525252026,
          72.86127213411471
         ],
         "yaxis": "y"
        },
        {
         "hovertemplate": "Line=OCO - PARTENA 3 Packaging Line<br>Plant=OCO<br>Availability %=%{x}<br>Performance %=%{y}<extra></extra>",
         "legendgroup": "OCO - PARTENA 3 Packaging Line, OCO",
         "marker": {
          "color": "#FF97FF",
          "symbol": "x"
         },
         "mode": "markers",
         "name": "OCO - PARTENA 3 Packaging Line, OCO",
         "orientation": "v",
         "showlegend": true,
         "type": "scatter",
         "x": [
          49.3350597254745,
          57.19006256228958,
          63.03616426796741,
          57.334950505331705
         ],
         "xaxis": "x",
         "y": [
          76.28532806042226,
          86.67307138479678,
          92.38300928460919,
          86.72619668280659
         ],
         "yaxis": "y"
        },
        {
         "hovertemplate": "Line=OCO - SUSPENSIONES Packaging Line<br>Plant=OCO<br>Availability %=%{x}<br>Performance %=%{y}<extra></extra>",
         "legendgroup": "OCO - SUSPENSIONES Packaging Line, OCO",
         "marker": {
          "color": "#FECB52",
          "symbol": "x"
         },
         "mode": "markers",
         "name": "OCO - SUSPENSIONES Packaging Line, OCO",
         "orientation": "v",
         "showlegend": true,
         "type": "scatter",
         "x": [
          52.031505342309416,
          54.20167322151888,
          61.72812090820388
         ],
         "xaxis": "x",
         "y": [
          89.78916411176995,
          86.14803711909379,
          73.22112791499138
         ],
         "yaxis": "y"
        },
        {
         "hovertemplate": "Line=OCO - UHLMANN 1 Packaging Line<br>Plant=OCO<br>Availability %=%{x}<br>Performance %=%{y}<extra></extra>",
         "legendgroup": "OCO - UHLMANN 1 Packaging Line, OCO",
         "marker": {
          "color": "#636efa",
          "symbol": "x"
         },
         "mode": "markers",
         "name": "OCO - UHLMANN 1 Packaging Line, OCO",
         "orientation": "v",
         "showlegend": true,
         "type": "scatter",
         "x": [
          76.56399669807895,
          79.37873402685477,
          80.04091151788866,
          77.23854970955625,
          76.37357428218168,
          74.87688338075303
         ],
         "xaxis": "x",
         "y": [
          92.38163336000108,
          91.82015090081896,
          91.8269589695865,
          92.38379090339298,
          97.9155745751079,
          97.8571468369466
         ],
         "yaxis": "y"
        },
        {
         "hovertemplate": "Line=OCO - UHLMANN 2 Packaging Line<br>Plant=OCO<br>Availability %=%{x}<br>Performance %=%{y}<extra></extra>",
         "legendgroup": "OCO - UHLMANN 2 Packaging Line, OCO",
         "marker": {
          "color": "#EF553B",
          "symbol": "x"
         },
         "mode": "markers",
         "name": "OCO - UHLMANN 2 Packaging Line, OCO",
         "orientation": "v",
         "showlegend": true,
         "type": "scatter",
         "x": [
          73.89321084782858,
          73.36962053309878,
          72.92362699165109,
          72.34377242969438,
          74.61113178620589,
          76.01092882011766
         ],
         "xaxis": "x",
         "y": [
          84.89828293225462,
          83.62002396199145,
          85.17475503183559,
          86.04845992776391,
          86.61003446598828,
          86.88360477095547
         ],
         "yaxis": "y"
        },
        {
         "hovertemplate": "Line=RDG - H6 Syringe Filling Line<br>Plant=RDG<br>Availability %=%{x}<br>Performance %=%{y}<extra></extra>",
         "legendgroup": "RDG - H6 Syringe Filling Line, RDG",
         "marker": {
          "color": "#00cc96",
          "symbol": "cross"
         },
         "mode": "markers",
         "name": "RDG - H6 Syringe Filling Line, RDG",
         "orientation": "v",
         "showlegend": true,
         "type": "scatter",
         "x": [
          69.40779805398148,
          65.3478130905099
         ],
         "xaxis": "x",
         "y": [
          93.88916278013929,
          92.10461111215498
         ],
         "yaxis": "y"
        },
        {
         "hovertemplate": "Line=RDG - Synvisc Packaging Line<br>Plant=RDG<br>Availability %=%{x}<br>Performance %=%{y}<extra></extra>",
         "legendgroup": "RDG - Synvisc Packaging Line, RDG",
         "marker": {
          "color": "#ab63fa",
          "symbol": "cross"
         },
         "mode": "markers",
         "name": "RDG - Synvisc Packaging Line, RDG",
         "orientation": "v",
         "showlegend": true,
         "type": "scatter",
         "x": [
          54.73347049948839,
          52.89784188589525,
          57.677836202462444
         ],
         "xaxis": "x",
         "y": [
          76.77748972301424,
          74.74697826099501,
          71.0468428272798
         ],
         "yaxis": "y"
        },
        {
         "hovertemplate": "Line=SCO - COLLE1<br>Plant=SCO<br>Availability %=%{x}<br>Performance %=%{y}<extra></extra>",
         "legendgroup": "SCO - COLLE1, SCO",
         "marker": {
          "color": "#FFA15A",
          "symbol": "circle"
         },
         "mode": "markers",
         "name": "SCO - COLLE1, SCO",
         "orientation": "v",
         "showlegend": true,
         "type": "scatter",
         "x": [
          45.28273809523808,
          34.27331349206348,
          31.891824400617594
         ],
         "xaxis": "x",
         "y": [
          47.310874759837844,
          48.95826969980614,
          141.7963553759604
         ],
         "yaxis": "y"
        },
        {
         "hovertemplate": "Line=SCO - COLLE2<br>Plant=SCO<br>Availability %=%{x}<br>Performance %=%{y}<extra></extra>",
         "legendgroup": "SCO - COLLE2, SCO",
         "marker": {
          "color": "#19d3f3",
          "symbol": "circle"
         },
         "mode": "markers",
         "name": "SCO - COLLE2, SCO",
         "orientation": "v",
         "showlegend": true,
         "type": "scatter",
         "x": [
          91.3690476190476,
          69.10714285714285,
          44.10714285714285,
          19.107142857142847,
          2.738095238095226,
          0,
          0
         ],
         "xaxis": "x",
         "y": [
          0,
          1.5096618357487925,
          null,
          null,
          null,
          null,
          null
         ],
         "yaxis": "y"
        },
        {
         "hovertemplate": "Line=SCO - Diosna 1<br>Plant=SCO<br>Availability %=%{x}<br>Performance %=%{y}<extra></extra>",
         "legendgroup": "SCO - Diosna 1, SCO",
         "marker": {
          "color": "#FF6692",
          "symbol": "circle"
         },
         "mode": "markers",
         "name": "SCO - Diosna 1, SCO",
         "orientation": "v",
         "showlegend": true,
         "type": "scatter",
         "x": [
          45.147738212642054,
          56.926012022165864,
          48.3719445618484,
          53.008432539682524,
          64.9801587301587,
          66.01190476190474,
          86.47044150473324
         ],
         "xaxis": "x",
         "y": [
          24.64555764159232,
          19.313273832898762,
          37.62532935927538,
          36.855487806526966,
          29.04571126722013,
          25.514283080013843,
          2.177274399952189
         ],
         "yaxis": "y"
        },
        {
         "hovertemplate": "Line=SCO - Diosna 2<br>Plant=SCO<br>Availability %=%{x}<br>Performance %=%{y}<extra></extra>",
         "legendgroup": "SCO - Diosna 2, SCO",
         "marker": {
          "color": "#B6E880",
          "symbol": "circle"
         },
         "mode": "markers",
         "name": "SCO - Diosna 2, SCO",
         "orientation": "v",
         "showlegend": true,
         "type": "scatter",
         "x": [
          42.417594157978755,
          31.708268761153363,
          35.202812411947015,
          55.51835317460316,
          69.9751984126984,
          84.99751984126983,
          65.74900793650792
         ],
         "xaxis": "x",
         "y": [
          23.9637771889114,
          48.58144982767797,
          49.64604164686832,
          33.590730055185034,
          31.77993387510276,
          5.873674215052335,
          null
         ],
         "yaxis": "y"
        },
        {
         "hovertemplate": "Line=SCO - GAMMA1<br>Plant=SCO<br>Availability %=%{x}<br>Performance %=%{y}<extra></extra>",
         "legendgroup": "SCO - GAMMA1, SCO",
         "marker": {
          "color": "#FF97FF",
          "symbol": "circle"
         },
         "mode": "markers",
         "name": "SCO - GAMMA1, SCO",
         "orientation": "v",
         "showlegend": true,
         "type": "scatter",
         "x": [
          61.34712265711153,
          63.169858790752215,
          61.008968032205196,
          66.58172043656758,
          63.31274448886356,
          57.16459745645991,
          55.45087962910026
         ],
         "xaxis": "x",
         "y": [
          89.9075973179223,
          90.58882939653947,
          89.25697328209866,
          91.10581700699501,
          90.01702985611004,
          87.33493580618571,
          87.82419555654376
         ],
         "yaxis": "y"
        },
        {
         "hovertemplate": "Line=SCO - GAMMA2<br>Plant=SCO<br>Availability %=%{x}<br>Performance %=%{y}<extra></extra>",
         "legendgroup": "SCO - GAMMA2, SCO",
         "marker": {
          "color": "#FECB52",
          "symbol": "circle"
         },
         "mode": "markers",
         "name": "SCO - GAMMA2, SCO",
         "orientation": "v",
         "showlegend": true,
         "type": "scatter",
         "x": [
          45.94090115214135,
          45.53078480644504,
          44.36666034126285,
          43.781514831713615,
          46.1417473938818,
          45.357556999381515,
          44.0852915757379
         ],
         "xaxis": "x",
         "y": [
          75.63102728622954,
          75.27856358458348,
          76.12871469179169,
          73.32835798476161,
          71.12397108666826,
          71.252792636872,
          72.62901429153376
         ],
         "yaxis": "y"
        },
        {
         "hovertemplate": "Line=SCO - GAMMA3<br>Plant=SCO<br>Availability %=%{x}<br>Performance %=%{y}<extra></extra>",
         "legendgroup": "SCO - GAMMA3, SCO",
         "marker": {
          "color": "#636efa",
          "symbol": "circle"
         },
         "mode": "markers",
         "name": "SCO - GAMMA3, SCO",
         "orientation": "v",
         "showlegend": true,
         "type": "scatter",
         "x": [
          55.11262737284562,
          56.469644035443665,
          54.66571238973067,
          53.64936963792084,
          57.2593703045751,
          53.576131801579955,
          49.010676708479224
         ],
         "xaxis": "x",
         "y": [
          77.44923820433557,
          81.03345507133383,
          80.45026138261612,
          81.18175599419024,
          83.17782311892785,
          77.38720864260193,
          72.6630448663712
         ],
         "yaxis": "y"
        },
        {
         "hovertemplate": "Line=SCO - Gamma4<br>Plant=SCO<br>Availability %=%{x}<br>Performance %=%{y}<extra></extra>",
         "legendgroup": "SCO - Gamma4, SCO",
         "marker": {
          "color": "#EF553B",
          "symbol": "circle"
         },
         "mode": "markers",
         "name": "SCO - Gamma4, SCO",
         "orientation": "v",
         "showlegend": true,
         "type": "scatter",
         "x": [
          59.236589116720154,
          58.31873725415467,
          61.22215278703448,
          60.3132467220867,
          60.496392871557056,
          62.66757408811201
         ],
         "xaxis": "x",
         "y": [
          89.23634497747155,
          90.11253400925239,
          90.39583325497179,
          93.14492244370314,
          92.21868812424955,
          93.27835899868013
         ],
         "yaxis": "y"
        },
        {
         "hovertemplate": "Line=SCO - IMA C80/1<br>Plant=SCO<br>Availability %=%{x}<br>Performance %=%{y}<extra></extra>",
         "legendgroup": "SCO - IMA C80/1, SCO",
         "marker": {
          "color": "#00cc96",
          "symbol": "circle"
         },
         "mode": "markers",
         "name": "SCO - IMA C80/1, SCO",
         "orientation": "v",
         "showlegend": true,
         "type": "scatter",
         "x": [
          57.98204875256319,
          57.70308706633381,
          55.87260194796153,
          54.66033778726835,
          57.31443399365213
         ],
         "xaxis": "x",
         "y": [
          92.32386240762531,
          91.22953513196099,
          91.18745613735267,
          90.59268105174903,
          91.06246296853291
         ],
         "yaxis": "y"
        },
        {
         "hovertemplate": "Line=SCO - IMA C80/2<br>Plant=SCO<br>Availability %=%{x}<br>Performance %=%{y}<extra></extra>",
         "legendgroup": "SCO - IMA C80/2, SCO",
         "marker": {
          "color": "#ab63fa",
          "symbol": "circle"
         },
         "mode": "markers",
         "name": "SCO - IMA C80/2, SCO",
         "orientation": "v",
         "showlegend": true,
         "type": "scatter",
         "x": [
          59.71823316562142,
          58.54474683491074,
          57.19723876854921,
          57.98645062082549,
          61.209407556700434,
          68.3539312244958,
          71.9869287701601
         ],
         "xaxis": "x",
         "y": [
          92.42601437164221,
          91.3944451392622,
          90.73607008535726,
          90.94953639074132,
          91.3675321632144,
          94.07942559704173,
          94.74509757601365
         ],
         "yaxis": "y"
        },
        {
         "hovertemplate": "Line=SCO - IMA C80/3<br>Plant=SCO<br>Availability %=%{x}<br>Performance %=%{y}<extra></extra>",
         "legendgroup": "SCO - IMA C80/3, SCO",
         "marker": {
          "color": "#FFA15A",
          "symbol": "circle"
         },
         "mode": "markers",
         "name": "SCO - IMA C80/3, SCO",
         "orientation": "v",
         "showlegend": true,
         "type": "scatter",
         "x": [
          60.48477513012979,
          60.98487404784666,
          55.0013073734742,
          57.55032246364051,
          53.78707702451327,
          58.67298581993715,
          58.838787349194185
         ],
         "xaxis": "x",
         "y": [
          86.07592035798352,
          85.63764140055846,
          84.60190057147749,
          84.64110192144013,
          84.58163671690383,
          86.62543960952195,
          87.52744839862739
         ],
         "yaxis": "y"
        },
        {
         "hovertemplate": "Line=SCO - IMA C80/4<br>Plant=SCO<br>Availability %=%{x}<br>Performance %=%{y}<extra></extra>",
         "legendgroup": "SCO - IMA C80/4, SCO",
         "marker": {
          "color": "#19d3f3",
          "symbol": "circle"
         },
         "mode": "markers",
         "name": "SCO - IMA C80/4, SCO",
         "orientation": "v",
         "showlegend": true,
         "type": "scatter",
         "x": [
          38.97771829054214,
          44.95063927052834,
          46.62512785362732,
          50.04462326772053,
          52.80525475429349,
          49.5312169815121
         ],
         "xaxis": "x",
         "y": [
          78.20997295024377,
          77.79279944855237,
          77.42505538981837,
          77.36799730345186,
          76.57697751938943,
          75.37541223014328
         ],
         "yaxis": "y"
        },
        {
         "hovertemplate": "Line=SCO - PAR102<br>Plant=SCO<br>Availability %=%{x}<br>Performance %=%{y}<extra></extra>",
         "legendgroup": "SCO - PAR102, SCO",
         "marker": {
          "color": "#FF6692",
          "symbol": "circle"
         },
         "mode": "markers",
         "name": "SCO - PAR102, SCO",
         "orientation": "v",
         "showlegend": true,
         "type": "scatter",
         "x": [
          44.76929170838092,
          47.77471476404545,
          50.378227203537634,
          52.23215592166873,
          50.70734125376195,
          55.10930799770584,
          55.74940333116084
         ],
         "xaxis": "x",
         "y": [
          92.21090288960866,
          88.5728094538417,
          89.71711786487583,
          89.51647376405573,
          88.96289596508393,
          83.82287313167548,
          78.79075569206734
         ],
         "yaxis": "y"
        },
        {
         "hovertemplate": "Line=SCO - PART92<br>Plant=SCO<br>Availability %=%{x}<br>Performance %=%{y}<extra></extra>",
         "legendgroup": "SCO - PART92, SCO",
         "marker": {
          "color": "#B6E880",
          "symbol": "circle"
         },
         "mode": "markers",
         "name": "SCO - PART92, SCO",
         "orientation": "v",
         "showlegend": true,
         "type": "scatter",
         "x": [
          46.37358467277297,
          43.911136665594476,
          45.34553458103236,
          46.21181094195449,
          50.37791349562124,
          50.825643144122125,
          51.769316054974986
         ],
         "xaxis": "x",
         "y": [
          92.5303448332329,
          91.99646827195046,
          92.48834774502545,
          91.94413607156467,
          88.02173878782642,
          87.36029911482196,
          86.60165173572003
         ],
         "yaxis": "y"
        },
        {
         "hovertemplate": "Line=SCO - U3<br>Plant=SCO<br>Availability %=%{x}<br>Performance %=%{y}<extra></extra>",
         "legendgroup": "SCO - U3, SCO",
         "marker": {
          "color": "#FF97FF",
          "symbol": "circle"
         },
         "mode": "markers",
         "name": "SCO - U3, SCO",
         "orientation": "v",
         "showlegend": true,
         "type": "scatter",
         "x": [
          65.31816744491888,
          67.21655029879437,
          68.2440645873226,
          62.16655271338972,
          56.8643794436953
         ],
         "xaxis": "x",
         "y": [
          79.30213206179464,
          79.36588090283627,
          80.63569293377819,
          80.52720500454878,
          77.13289345151361
         ],
         "yaxis": "y"
        },
        {
         "hovertemplate": "Line=SUZ - BAUSCH<br>Plant=SUZ<br>Availability %=%{x}<br>Performance %=%{y}<extra></extra>",
         "legendgroup": "SUZ - BAUSCH, SUZ",
         "marker": {
          "color": "#FECB52",
          "symbol": "diamond"
         },
         "mode": "markers",
         "name": "SUZ - BAUSCH, SUZ",
         "orientation": "v",
         "showlegend": true,
         "type": "scatter",
         "x": [
          65.83710425254847,
          63.69967813245076,
          58.62356217023741
         ],
         "xaxis": "x",
         "y": [
          101.49733409403711,
          97.72535861157512,
          89.1944723658379
         ],
         "yaxis": "y"
        },
        {
         "hovertemplate": "Line=SUZ - EFERVESCENT CEWIN<br>Plant=SUZ<br>Availability %=%{x}<br>Performance %=%{y}<extra></extra>",
         "legendgroup": "SUZ - EFERVESCENT CEWIN, SUZ",
         "marker": {
          "color": "#636efa",
          "symbol": "diamond"
         },
         "mode": "markers",
         "name": "SUZ - EFERVESCENT CEWIN, SUZ",
         "orientation": "v",
         "showlegend": true,
         "type": "scatter",
         "x": [
          35.00904809728435,
          35.606135483721786,
          31.18259901148263,
          28.472366376426834,
          29.141069305182054,
          29.330911723682362,
          33.75629537798872
         ],
         "xaxis": "x",
         "y": [
          78.1971152020952,
          72.53634135030718,
          76.79382037606578,
          74.56788811030196,
          74.93046879342779,
          78.95007260434289,
          78.84745529104623
         ],
         "yaxis": "y"
        },
        {
         "hovertemplate": "Line=SUZ - EYE DROPS OPTIMA<br>Plant=SUZ<br>Availability %=%{x}<br>Performance %=%{y}<extra></extra>",
         "legendgroup": "SUZ - EYE DROPS OPTIMA, SUZ",
         "marker": {
          "color": "#EF553B",
          "symbol": "diamond"
         },
         "mode": "markers",
         "name": "SUZ - EYE DROPS OPTIMA, SUZ",
         "orientation": "v",
         "showlegend": true,
         "type": "scatter",
         "x": [
          42.09016583914389,
          44.03367833906556
         ],
         "xaxis": "x",
         "y": [
          98.30789788027643,
          102.45294606330447
         ],
         "yaxis": "y"
        },
        {
         "hovertemplate": "Line=SUZ - FARCON<br>Plant=SUZ<br>Availability %=%{x}<br>Performance %=%{y}<extra></extra>",
         "legendgroup": "SUZ - FARCON, SUZ",
         "marker": {
          "color": "#00cc96",
          "symbol": "diamond"
         },
         "mode": "markers",
         "name": "SUZ - FARCON, SUZ",
         "orientation": "v",
         "showlegend": true,
         "type": "scatter",
         "x": [
          53.975456822177094,
          54.225636836884675,
          49.03784717000631,
          45.97046988069428
         ],
         "xaxis": "x",
         "y": [
          84.02248337838779,
          78.94490126410943,
          77.59483411315664,
          76.35464498603238
         ],
         "yaxis": "y"
        },
        {
         "hovertemplate": "Line=SUZ - FETTE 2090 I<br>Plant=SUZ<br>Availability %=%{x}<br>Performance %=%{y}<extra></extra>",
         "legendgroup": "SUZ - FETTE 2090 I, SUZ",
         "marker": {
          "color": "#ab63fa",
          "symbol": "diamond"
         },
         "mode": "markers",
         "name": "SUZ - FETTE 2090 I, SUZ",
         "orientation": "v",
         "showlegend": true,
         "type": "scatter",
         "x": [
          14.0818273046398,
          7.504092261904757,
          0.00012400793650083105,
          0.00008267195766485221
         ],
         "xaxis": "x",
         "y": [
          71.285393809099,
          null,
          null,
          null
         ],
         "yaxis": "y"
        },
        {
         "hovertemplate": "Line=SUZ - FETTE 2090 IV<br>Plant=SUZ<br>Availability %=%{x}<br>Performance %=%{y}<extra></extra>",
         "legendgroup": "SUZ - FETTE 2090 IV, SUZ",
         "marker": {
          "color": "#FFA15A",
          "symbol": "diamond"
         },
         "mode": "markers",
         "name": "SUZ - FETTE 2090 IV, SUZ",
         "orientation": "v",
         "showlegend": true,
         "type": "scatter",
         "x": [
          15.968150691900682,
          13.046585648148142,
          22.40935019841269,
          24.853400787221645
         ],
         "xaxis": "x",
         "y": [
          472.3830782116759,
          442.4246195418426,
          330.7625958785457,
          305.2178839042067
         ],
         "yaxis": "y"
        },
        {
         "hovertemplate": "Line=SUZ - FETTE 3090 I<br>Plant=SUZ<br>Availability %=%{x}<br>Performance %=%{y}<extra></extra>",
         "legendgroup": "SUZ - FETTE 3090 I, SUZ",
         "marker": {
          "color": "#19d3f3",
          "symbol": "diamond"
         },
         "mode": "markers",
         "name": "SUZ - FETTE 3090 I, SUZ",
         "orientation": "v",
         "showlegend": true,
         "type": "scatter",
         "x": [
          33.89444253663003,
          38.384755291005284,
          38.978587962962955,
          30.996187969156505
         ],
         "xaxis": "x",
         "y": [
          105.60733930937393,
          114.10906485849935,
          106.87077466732887,
          127.18040094241725
         ],
         "yaxis": "y"
        },
        {
         "hovertemplate": "Line=SUZ - FETTE 3090 III<br>Plant=SUZ<br>Availability %=%{x}<br>Performance %=%{y}<extra></extra>",
         "legendgroup": "SUZ - FETTE 3090 III, SUZ",
         "marker": {
          "color": "#FF6692",
          "symbol": "diamond"
         },
         "mode": "markers",
         "name": "SUZ - FETTE 3090 III, SUZ",
         "orientation": "v",
         "showlegend": true,
         "type": "scatter",
         "x": [
          25.068809142246636,
          26.81886574074073,
          15.640252976190467,
          13.445293910265548
         ],
         "xaxis": "x",
         "y": [
          21.26239487912121,
          18.702671865813095,
          54.65199612998681,
          75.07199899039558
         ],
         "yaxis": "y"
        },
        {
         "hovertemplate": "Line=SUZ - GRON.DROPS/SPRAY<br>Plant=SUZ<br>Availability %=%{x}<br>Performance %=%{y}<extra></extra>",
         "legendgroup": "SUZ - GRON.DROPS/SPRAY, SUZ",
         "marker": {
          "color": "#B6E880",
          "symbol": "diamond"
         },
         "mode": "markers",
         "name": "SUZ - GRON.DROPS/SPRAY, SUZ",
         "orientation": "v",
         "showlegend": true,
         "type": "scatter",
         "x": [
          38.87133737544543,
          37.16528521590389,
          33.642989239557885,
          33.95748225787533,
          35.33026624299627,
          40.36610676927637
         ],
         "xaxis": "x",
         "y": [
          124.40036203325855,
          120.60439387282722,
          122.37796676051562,
          123.70054537762152,
          121.29107899937503,
          121.64138168073409
         ],
         "yaxis": "y"
        },
        {
         "hovertemplate": "Line=SUZ - GRON.SYRUP<br>Plant=SUZ<br>Availability %=%{x}<br>Performance %=%{y}<extra></extra>",
         "legendgroup": "SUZ - GRON.SYRUP, SUZ",
         "marker": {
          "color": "#FF97FF",
          "symbol": "diamond"
         },
         "mode": "markers",
         "name": "SUZ - GRON.SYRUP, SUZ",
         "orientation": "v",
         "showlegend": true,
         "type": "scatter",
         "x": [
          35.74367036443097
         ],
         "xaxis": "x",
         "y": [
          86.28406963219845
         ],
         "yaxis": "y"
        },
        {
         "hovertemplate": "Line=SUZ - IMA DERMACYD<br>Plant=SUZ<br>Availability %=%{x}<br>Performance %=%{y}<extra></extra>",
         "legendgroup": "SUZ - IMA DERMACYD, SUZ",
         "marker": {
          "color": "#FECB52",
          "symbol": "diamond"
         },
         "mode": "markers",
         "name": "SUZ - IMA DERMACYD, SUZ",
         "orientation": "v",
         "showlegend": true,
         "type": "scatter",
         "x": [
          64.87778052473149,
          66.96173939500821,
          73.10570027626419
         ],
         "xaxis": "x",
         "y": [
          90.48211851745954,
          87.20670114744136,
          76.82081485815036
         ],
         "yaxis": "y"
        },
        {
         "hovertemplate": "Line=SUZ - LINE 01 - UHLMANN 1880<br>Plant=SUZ<br>Availability %=%{x}<br>Performance %=%{y}<extra></extra>",
         "legendgroup": "SUZ - LINE 01 - UHLMANN 1880, SUZ",
         "marker": {
          "color": "#636efa",
          "symbol": "diamond"
         },
         "mode": "markers",
         "name": "SUZ - LINE 01 - UHLMANN 1880, SUZ",
         "orientation": "v",
         "showlegend": true,
         "type": "scatter",
         "x": [
          43.87561679777134,
          46.03207457079522,
          43.392540179026255,
          42.743540821500076,
          37.44222816252132,
          34.97105911786244,
          33.61658073170401
         ],
         "xaxis": "x",
         "y": [
          121.12607022330766,
          106.35939137642914,
          99.98213931962687,
          100.11092037363402,
          87.5738168807761,
          87.71966724883934,
          87.84676398869571
         ],
         "yaxis": "y"
        },
        {
         "hovertemplate": "Line=SUZ - LINE 02 - UHLMANN 1030<br>Plant=SUZ<br>Availability %=%{x}<br>Performance %=%{y}<extra></extra>",
         "legendgroup": "SUZ - LINE 02 - UHLMANN 1030, SUZ",
         "marker": {
          "color": "#EF553B",
          "symbol": "diamond"
         },
         "mode": "markers",
         "name": "SUZ - LINE 02 - UHLMANN 1030, SUZ",
         "orientation": "v",
         "showlegend": true,
         "type": "scatter",
         "x": [
          51.91465263504824,
          52.12049509198286,
          49.624462540009716,
          41.78100921359135,
          45.15056612762674,
          48.23935615429871,
          50.651153409703916
         ],
         "xaxis": "x",
         "y": [
          91.8716350984251,
          97.0823247580546,
          99.30027681756886,
          111.06412816778646,
          106.62221381773372,
          106.57346945132416,
          108.42715074061549
         ],
         "yaxis": "y"
        },
        {
         "hovertemplate": "Line=SUZ - LINE 03 - MEDISEAL CP600<br>Plant=SUZ<br>Availability %=%{x}<br>Performance %=%{y}<extra></extra>",
         "legendgroup": "SUZ - LINE 03 - MEDISEAL CP600, SUZ",
         "marker": {
          "color": "#00cc96",
          "symbol": "diamond"
         },
         "mode": "markers",
         "name": "SUZ - LINE 03 - MEDISEAL CP600, SUZ",
         "orientation": "v",
         "showlegend": true,
         "type": "scatter",
         "x": [
          49.60727277251884,
          49.63415027771724,
          49.47982341320342,
          47.584637801565606,
          49.05022117372762,
          50.540057924278656,
          52.527508499732214
         ],
         "xaxis": "x",
         "y": [
          92.23286326461077,
          86.05897946336935,
          90.82641213161943,
          86.62338176421332,
          83.83909137347888,
          87.67109658858159,
          82.77685882880938
         ],
         "yaxis": "y"
        },
        {
         "hovertemplate": "Line=SUZ - LINE 04 - BOSCH TLT 1400<br>Plant=SUZ<br>Availability %=%{x}<br>Performance %=%{y}<extra></extra>",
         "legendgroup": "SUZ - LINE 04 - BOSCH TLT 1400, SUZ",
         "marker": {
          "color": "#ab63fa",
          "symbol": "diamond"
         },
         "mode": "markers",
         "name": "SUZ - LINE 04 - BOSCH TLT 1400, SUZ",
         "orientation": "v",
         "showlegend": true,
         "type": "scatter",
         "x": [
          48.03512147173119,
          44.615027780827944,
          48.59314311262749,
          49.082588223546495,
          50.53116048472262,
          50.84206577133881
         ],
         "xaxis": "x",
         "y": [
          98.18758235471702,
          96.59767883636933,
          93.11373338968392,
          92.34201832588798,
          90.37997465056961,
          90.63256661054331
         ],
         "yaxis": "y"
        },
        {
         "hovertemplate": "Line=SUZ - LINE 05 - SOLIDS IMA LINE<br>Plant=SUZ<br>Availability %=%{x}<br>Performance %=%{y}<extra></extra>",
         "legendgroup": "SUZ - LINE 05 - SOLIDS IMA LINE, SUZ",
         "marker": {
          "color": "#FFA15A",
          "symbol": "diamond"
         },
         "mode": "markers",
         "name": "SUZ - LINE 05 - SOLIDS IMA LINE, SUZ",
         "orientation": "v",
         "showlegend": true,
         "type": "scatter",
         "x": [
          43.55791412081197,
          52.75451680796797
         ],
         "xaxis": "x",
         "y": [
          96.61466986448498,
          61.2979103311194
         ],
         "yaxis": "y"
        },
        {
         "hovertemplate": "Line=SUZ - LINE 06 - MEDISEAL CP 600 COMBO<br>Plant=SUZ<br>Availability %=%{x}<br>Performance %=%{y}<extra></extra>",
         "legendgroup": "SUZ - LINE 06 - MEDISEAL CP 600 COMBO, SUZ",
         "marker": {
          "color": "#19d3f3",
          "symbol": "diamond"
         },
         "mode": "markers",
         "name": "SUZ - LINE 06 - MEDISEAL CP 600 COMBO, SUZ",
         "orientation": "v",
         "showlegend": true,
         "type": "scatter",
         "x": [
          62.00849204302686,
          60.91572074726346,
          58.55488520352836,
          60.205514049554296,
          65.57835431362552,
          67.7147274542958,
          66.19543439281158
         ],
         "xaxis": "x",
         "y": [
          72.44657769561555,
          76.3563179414906,
          75.48255553512486,
          78.2203284790804,
          85.867565049812,
          83.31838784567697,
          85.14770013991762
         ],
         "yaxis": "y"
        },
        {
         "hovertemplate": "Line=SUZ - LINE 07 - UPS300<br>Plant=SUZ<br>Availability %=%{x}<br>Performance %=%{y}<extra></extra>",
         "legendgroup": "SUZ - LINE 07 - UPS300, SUZ",
         "marker": {
          "color": "#FF6692",
          "symbol": "diamond"
         },
         "mode": "markers",
         "name": "SUZ - LINE 07 - UPS300, SUZ",
         "orientation": "v",
         "showlegend": true,
         "type": "scatter",
         "x": [
          48.84506737394888,
          49.14984187016532,
          47.45771039980887,
          51.482496476831244,
          51.36847889274109,
          49.94569330885695,
          49.4711272212588
         ],
         "xaxis": "x",
         "y": [
          180.3091187553485,
          181.56861849109532,
          105.7121544712388,
          101.01053935301144,
          97.35547258092664,
          92.84376792698556,
          87.48676098105294
         ],
         "yaxis": "y"
        },
        {
         "hovertemplate": "Line=SUZ - LINE 08 - BLISTERFLEX<br>Plant=SUZ<br>Availability %=%{x}<br>Performance %=%{y}<extra></extra>",
         "legendgroup": "SUZ - LINE 08 - BLISTERFLEX, SUZ",
         "marker": {
          "color": "#B6E880",
          "symbol": "diamond"
         },
         "mode": "markers",
         "name": "SUZ - LINE 08 - BLISTERFLEX, SUZ",
         "orientation": "v",
         "showlegend": true,
         "type": "scatter",
         "x": [
          70.57729464422994
         ],
         "xaxis": "x",
         "y": [
          101.00133033821683
         ],
         "yaxis": "y"
        },
        {
         "hovertemplate": "Line=SUZ - LINE 10 - BOTTLES LINE<br>Plant=SUZ<br>Availability %=%{x}<br>Performance %=%{y}<extra></extra>",
         "legendgroup": "SUZ - LINE 10 - BOTTLES LINE, SUZ",
         "marker": {
          "color": "#FF97FF",
          "symbol": "diamond"
         },
         "mode": "markers",
         "name": "SUZ - LINE 10 - BOTTLES LINE, SUZ",
         "orientation": "v",
         "showlegend": true,
         "type": "scatter",
         "x": [
          35.1120749944114,
          35.51869783475558,
          34.05752021167032,
          29.245169996772024,
          27.951298299793834,
          28.093558582548702,
          28.967903145319422
         ],
         "xaxis": "x",
         "y": [
          139.26092939099962,
          140.1006472898012,
          112.5323018170765,
          116.53731029732096,
          113.98340023544516,
          117.76126706259109,
          122.60779683901221
         ],
         "yaxis": "y"
        },
        {
         "hovertemplate": "Line=SUZ - MARCHESINI<br>Plant=SUZ<br>Availability %=%{x}<br>Performance %=%{y}<extra></extra>",
         "legendgroup": "SUZ - MARCHESINI, SUZ",
         "marker": {
          "color": "#FECB52",
          "symbol": "diamond"
         },
         "mode": "markers",
         "name": "SUZ - MARCHESINI, SUZ",
         "orientation": "v",
         "showlegend": true,
         "type": "scatter",
         "x": [
          40.40472811963056,
          37.23856540080581,
          36.21884552020415,
          37.735748949550626,
          36.66041887208665,
          37.851611905046006
         ],
         "xaxis": "x",
         "y": [
          77.42963171299994,
          81.35443113363385,
          85.33627712877494,
          82.6048672754334,
          79.33687901288086,
          76.58199273691606
         ],
         "yaxis": "y"
        },
        {
         "hovertemplate": "Line=SUZ - MEDISEAL PURAN<br>Plant=SUZ<br>Availability %=%{x}<br>Performance %=%{y}<extra></extra>",
         "legendgroup": "SUZ - MEDISEAL PURAN, SUZ",
         "marker": {
          "color": "#636efa",
          "symbol": "diamond"
         },
         "mode": "markers",
         "name": "SUZ - MEDISEAL PURAN, SUZ",
         "orientation": "v",
         "showlegend": true,
         "type": "scatter",
         "x": [
          73.20024996543543,
          74.5487825873127,
          70.83955052405393,
          69.80476708758677,
          70.02776509278021,
          69.60166636650123,
          64.41500922463439
         ],
         "xaxis": "x",
         "y": [
          80.95741473871323,
          78.57921657153055,
          76.31002658503094,
          77.87142708389563,
          77.19004219183452,
          76.05151328888567,
          76.47454288987316
         ],
         "yaxis": "y"
        },
        {
         "hovertemplate": "Line=SUZ - NEWMAN<br>Plant=SUZ<br>Availability %=%{x}<br>Performance %=%{y}<extra></extra>",
         "legendgroup": "SUZ - NEWMAN, SUZ",
         "marker": {
          "color": "#EF553B",
          "symbol": "diamond"
         },
         "mode": "markers",
         "name": "SUZ - NEWMAN, SUZ",
         "orientation": "v",
         "showlegend": true,
         "type": "scatter",
         "x": [
          59.75778576747178,
          58.4640464108222,
          57.42662297023902,
          60.45110834582209,
          62.49792415133467,
          64.86091195794383,
          64.65398865810795
         ],
         "xaxis": "x",
         "y": [
          99.20661970198614,
          96.03284729383873,
          97.84301167690634,
          97.16478940638498,
          99.96378945638673,
          116.61639962780586,
          121.51580186155351
         ],
         "yaxis": "y"
        },
        {
         "hovertemplate": "Line=SUZ - NIKKA<br>Plant=SUZ<br>Availability %=%{x}<br>Performance %=%{y}<extra></extra>",
         "legendgroup": "SUZ - NIKKA, SUZ",
         "marker": {
          "color": "#00cc96",
          "symbol": "diamond"
         },
         "mode": "markers",
         "name": "SUZ - NIKKA, SUZ",
         "orientation": "v",
         "showlegend": true,
         "type": "scatter",
         "x": [
          69.0759201426564,
          67.58121802931208,
          67.30681066484412
         ],
         "xaxis": "x",
         "y": [
          105.97604580135805,
          113.07915737635888,
          108.53236727349287
         ],
         "yaxis": "y"
        },
        {
         "hovertemplate": "Line=SUZ - POMADAS<br>Plant=SUZ<br>Availability %=%{x}<br>Performance %=%{y}<extra></extra>",
         "legendgroup": "SUZ - POMADAS, SUZ",
         "marker": {
          "color": "#ab63fa",
          "symbol": "diamond"
         },
         "mode": "markers",
         "name": "SUZ - POMADAS, SUZ",
         "orientation": "v",
         "showlegend": true,
         "type": "scatter",
         "x": [
          64.47079545419105,
          62.86738957440939
         ],
         "xaxis": "x",
         "y": [
          94.93687462510937,
          91.00199063570741
         ],
         "yaxis": "y"
        },
        {
         "hovertemplate": "Line=SUZ - STRUNK<br>Plant=SUZ<br>Availability %=%{x}<br>Performance %=%{y}<extra></extra>",
         "legendgroup": "SUZ - STRUNK, SUZ",
         "marker": {
          "color": "#FFA15A",
          "symbol": "diamond"
         },
         "mode": "markers",
         "name": "SUZ - STRUNK, SUZ",
         "orientation": "v",
         "showlegend": true,
         "type": "scatter",
         "x": [
          47.91445267954616,
          43.35588949635614,
          46.85695371673258,
          44.51216533678594,
          40.7495201355214
         ],
         "xaxis": "x",
         "y": [
          110.02361484361037,
          106.53013664138848,
          112.0986585759359,
          116.98479851568882,
          122.69459626262528
         ],
         "yaxis": "y"
        },
        {
         "hovertemplate": "Line=SUZ - TARGIFOR<br>Plant=SUZ<br>Availability %=%{x}<br>Performance %=%{y}<extra></extra>",
         "legendgroup": "SUZ - TARGIFOR, SUZ",
         "marker": {
          "color": "#19d3f3",
          "symbol": "diamond"
         },
         "mode": "markers",
         "name": "SUZ - TARGIFOR, SUZ",
         "orientation": "v",
         "showlegend": true,
         "type": "scatter",
         "x": [
          35.75517097989403,
          37.46080218396037,
          38.6927206544822,
          38.5251804032437,
          36.9549581801737,
          39.85358706927169,
          35.842392663658025
         ],
         "xaxis": "x",
         "y": [
          133.4962578667938,
          140.7820173116993,
          147.03119579609344,
          149.1521167299281,
          155.3849951979454,
          154.4858236590792,
          149.48969009104803
         ],
         "yaxis": "y"
        },
        {
         "hovertemplate": "Line=SZX - Packaging line 3<br>Plant=SZX<br>Availability %=%{x}<br>Performance %=%{y}<extra></extra>",
         "legendgroup": "SZX - Packaging line 3, SZX",
         "marker": {
          "color": "#FF6692",
          "symbol": "square"
         },
         "mode": "markers",
         "name": "SZX - Packaging line 3, SZX",
         "orientation": "v",
         "showlegend": true,
         "type": "scatter",
         "x": [
          77.01221342417551,
          76.14333461795584,
          77.61149427767292,
          72.50338060386731,
          74.28557914124923,
          75.51186637417365,
          71.49987619290475
         ],
         "xaxis": "x",
         "y": [
          61.03005945905518,
          65.87921925107612,
          64.94031088460811,
          86.88813427091175,
          87.51174437438323,
          88.01433046360437,
          91.3455087330189
         ],
         "yaxis": "y"
        },
        {
         "hovertemplate": "Line=TRS - L15 Packaging Line<br>Plant=TRS<br>Availability %=%{x}<br>Performance %=%{y}<extra></extra>",
         "legendgroup": "TRS - L15 Packaging Line, TRS",
         "marker": {
          "color": "#B6E880",
          "symbol": "x"
         },
         "mode": "markers",
         "name": "TRS - L15 Packaging Line, TRS",
         "orientation": "v",
         "showlegend": true,
         "type": "scatter",
         "x": [
          39.90962365631488,
          44.283732371878884,
          48.10143503265765,
          44.956486290654425
         ],
         "xaxis": "x",
         "y": [
          95.10183695883725,
          93.64177745123817,
          93.67077828456388,
          94.65218928615613
         ],
         "yaxis": "y"
        },
        {
         "hovertemplate": "Line=TRS - L17 Packaging Line<br>Plant=TRS<br>Availability %=%{x}<br>Performance %=%{y}<extra></extra>",
         "legendgroup": "TRS - L17 Packaging Line, TRS",
         "marker": {
          "color": "#FF97FF",
          "symbol": "x"
         },
         "mode": "markers",
         "name": "TRS - L17 Packaging Line, TRS",
         "orientation": "v",
         "showlegend": true,
         "type": "scatter",
         "x": [
          48.91660720235599
         ],
         "xaxis": "x",
         "y": [
          71.60831029333428
         ],
         "yaxis": "y"
        },
        {
         "hovertemplate": "Line=TRS - L18 Packaging Line<br>Plant=TRS<br>Availability %=%{x}<br>Performance %=%{y}<extra></extra>",
         "legendgroup": "TRS - L18 Packaging Line, TRS",
         "marker": {
          "color": "#FECB52",
          "symbol": "x"
         },
         "mode": "markers",
         "name": "TRS - L18 Packaging Line, TRS",
         "orientation": "v",
         "showlegend": true,
         "type": "scatter",
         "x": [
          39.939618751743204
         ],
         "xaxis": "x",
         "y": [
          90.28233578335002
         ],
         "yaxis": "y"
        },
        {
         "hovertemplate": "Line=TRS - L19 Packaging Line<br>Plant=TRS<br>Availability %=%{x}<br>Performance %=%{y}<extra></extra>",
         "legendgroup": "TRS - L19 Packaging Line, TRS",
         "marker": {
          "color": "#636efa",
          "symbol": "x"
         },
         "mode": "markers",
         "name": "TRS - L19 Packaging Line, TRS",
         "orientation": "v",
         "showlegend": true,
         "type": "scatter",
         "x": [
          37.73151727637256,
          36.09608637832448,
          39.26584589193645,
          43.97997547819719,
          37.996731238355586,
          32.591126304278895
         ],
         "xaxis": "x",
         "y": [
          82.18581743682371,
          80.99060021232808,
          85.09108935875446,
          94.53385447458443,
          103.10884597950128,
          110.39949721268135
         ],
         "yaxis": "y"
        },
        {
         "hovertemplate": "Line=TRS - L21 Packaging Line<br>Plant=TRS<br>Availability %=%{x}<br>Performance %=%{y}<extra></extra>",
         "legendgroup": "TRS - L21 Packaging Line, TRS",
         "marker": {
          "color": "#EF553B",
          "symbol": "x"
         },
         "mode": "markers",
         "name": "TRS - L21 Packaging Line, TRS",
         "orientation": "v",
         "showlegend": true,
         "type": "scatter",
         "x": [
          55.85929363284353,
          57.873687605529,
          53.13825665046294,
          48.160824411169386,
          48.88325723746547,
          33.9035384917499,
          31.616090622465506
         ],
         "xaxis": "x",
         "y": [
          74.42027738766895,
          75.68285253722127,
          79.44465892983227,
          91.2074666268409,
          85.81171851785193,
          61.265066709524504,
          63.797314128942304
         ],
         "yaxis": "y"
        },
        {
         "hovertemplate": "Line=TRS - L24 Packaging Line<br>Plant=TRS<br>Availability %=%{x}<br>Performance %=%{y}<extra></extra>",
         "legendgroup": "TRS - L24 Packaging Line, TRS",
         "marker": {
          "color": "#00cc96",
          "symbol": "x"
         },
         "mode": "markers",
         "name": "TRS - L24 Packaging Line, TRS",
         "orientation": "v",
         "showlegend": true,
         "type": "scatter",
         "x": [
          40.308880971850954,
          42.04245689501704,
          40.640905277724606
         ],
         "xaxis": "x",
         "y": [
          96.53413779476945,
          95.22317245717288,
          92.1722959021372
         ],
         "yaxis": "y"
        },
        {
         "hovertemplate": "Line=TRS - L25 Packaging Line<br>Plant=TRS<br>Availability %=%{x}<br>Performance %=%{y}<extra></extra>",
         "legendgroup": "TRS - L25 Packaging Line, TRS",
         "marker": {
          "color": "#ab63fa",
          "symbol": "x"
         },
         "mode": "markers",
         "name": "TRS - L25 Packaging Line, TRS",
         "orientation": "v",
         "showlegend": true,
         "type": "scatter",
         "x": [
          38.32386954619462,
          43.424927448046844,
          46.41722564333595,
          46.17636223070265,
          45.36319799897781,
          43.03794878553187,
          36.408452590118735
         ],
         "xaxis": "x",
         "y": [
          81.36887556579586,
          80.9489308539124,
          87.19604456930024,
          82.42470810373243,
          85.69036341480046,
          86.04045397607526,
          84.15668037739023
         ],
         "yaxis": "y"
        },
        {
         "hovertemplate": "Line=VDR - K32_1<br>Plant=VDR<br>Availability %=%{x}<br>Performance %=%{y}<extra></extra>",
         "legendgroup": "VDR - K32_1, VDR",
         "marker": {
          "color": "#FFA15A",
          "symbol": "cross"
         },
         "mode": "markers",
         "name": "VDR - K32_1, VDR",
         "orientation": "v",
         "showlegend": true,
         "type": "scatter",
         "x": [
          38.221937329355995,
          43.192811879715705,
          42.30863822751321,
          38.6429884259259,
          38.030960648148124,
          38.14689759944377
         ],
         "xaxis": "x",
         "y": [
          117.3917388419099,
          109.75157577156733,
          107.69135209935487,
          103.59294945266524,
          91.38759146744356,
          93.31082598594949
         ],
         "yaxis": "y"
        },
        {
         "hovertemplate": "Line=WAT - AIL1 Packaging<br>Plant=WAT<br>Availability %=%{x}<br>Performance %=%{y}<extra></extra>",
         "legendgroup": "WAT - AIL1 Packaging, WAT",
         "marker": {
          "color": "#19d3f3",
          "symbol": "circle"
         },
         "mode": "markers",
         "name": "WAT - AIL1 Packaging, WAT",
         "orientation": "v",
         "showlegend": true,
         "type": "scatter",
         "x": [
          8.327866239068056,
          17.50021644505179,
          17.804377211088394,
          19.74238677108292,
          19.442444363842576,
          9.982950459288274
         ],
         "xaxis": "x",
         "y": [
          823.650583367953,
          661.5830476264048,
          607.6612980572108,
          496.0870405550472,
          483.96468835763153,
          572.813150179764
         ],
         "yaxis": "y"
        },
        {
         "hovertemplate": "Line=WAT - AIL2 ASSEMBLY<br>Plant=WAT<br>Availability %=%{x}<br>Performance %=%{y}<extra></extra>",
         "legendgroup": "WAT - AIL2 ASSEMBLY, WAT",
         "marker": {
          "color": "#FF6692",
          "symbol": "circle"
         },
         "mode": "markers",
         "name": "WAT - AIL2 ASSEMBLY, WAT",
         "orientation": "v",
         "showlegend": true,
         "type": "scatter",
         "x": [
          51.28219819140823,
          57.204709545809806
         ],
         "xaxis": "x",
         "y": [
          91.17309959563228,
          96.0714178736389
         ],
         "yaxis": "y"
        },
        {
         "hovertemplate": "Line=WAT - AIL2 Packaging<br>Plant=WAT<br>Availability %=%{x}<br>Performance %=%{y}<extra></extra>",
         "legendgroup": "WAT - AIL2 Packaging, WAT",
         "marker": {
          "color": "#B6E880",
          "symbol": "circle"
         },
         "mode": "markers",
         "name": "WAT - AIL2 Packaging, WAT",
         "orientation": "v",
         "showlegend": true,
         "type": "scatter",
         "x": [
          37.12866555864727,
          38.74929909191061,
          36.76876258407,
          40.31190672258573,
          44.050012510423926,
          35.01685716215186
         ],
         "xaxis": "x",
         "y": [
          118.31844941466612,
          111.05604242357158,
          109.45251144805304,
          114.13109246138664,
          110.32716364152245,
          110.42565774352562
         ],
         "yaxis": "y"
        },
        {
         "hovertemplate": "Line=WAT - LYO INSPECTION<br>Plant=WAT<br>Availability %=%{x}<br>Performance %=%{y}<extra></extra>",
         "legendgroup": "WAT - LYO INSPECTION, WAT",
         "marker": {
          "color": "#FF97FF",
          "symbol": "circle"
         },
         "mode": "markers",
         "name": "WAT - LYO INSPECTION, WAT",
         "orientation": "v",
         "showlegend": true,
         "type": "scatter",
         "x": [
          42.497913037430614,
          41.79613095238093,
          43.00434027777776,
          35.108300264550245,
          41.956350684792696
         ],
         "xaxis": "x",
         "y": [
          2877.9305631539937,
          3237.05234626743,
          3016.149778369918,
          3024.0153197313603,
          474.4594820904065
         ],
         "yaxis": "y"
        },
        {
         "hovertemplate": "Line=WAT - LYO Packaging Line 3<br>Plant=WAT<br>Availability %=%{x}<br>Performance %=%{y}<extra></extra>",
         "legendgroup": "WAT - LYO Packaging Line 3, WAT",
         "marker": {
          "color": "#FECB52",
          "symbol": "circle"
         },
         "mode": "markers",
         "name": "WAT - LYO Packaging Line 3, WAT",
         "orientation": "v",
         "showlegend": true,
         "type": "scatter",
         "x": [
          35.87653133367646,
          23.114669862484902,
          14.507621142328627,
          8.435608037657726,
          10.866800851159507,
          10.81622297800099
         ],
         "xaxis": "x",
         "y": [
          65.69341833304486,
          93.28789315717631,
          129.05804599345802,
          184.23536179746623,
          177.28231032359216,
          183.68697382667398
         ],
         "yaxis": "y"
        },
        {
         "hovertemplate": "Line=WAT - LYO Packaging Line 9<br>Plant=WAT<br>Availability %=%{x}<br>Performance %=%{y}<extra></extra>",
         "legendgroup": "WAT - LYO Packaging Line 9, WAT",
         "marker": {
          "color": "#636efa",
          "symbol": "circle"
         },
         "mode": "markers",
         "name": "WAT - LYO Packaging Line 9, WAT",
         "orientation": "v",
         "showlegend": true,
         "type": "scatter",
         "x": [
          29.012684403572067,
          23.663587877891302,
          22.7115368801086,
          20.30742090595319,
          22.47094924262705,
          24.71763451149661
         ],
         "xaxis": "x",
         "y": [
          76.91637827214419,
          104.15339387389123,
          126.34743746541413,
          164.660713530595,
          152.5807510802978,
          157.1107428110534
         ],
         "yaxis": "y"
        },
        {
         "line": {
          "color": "orange"
         },
         "mode": "lines",
         "name": "60% June 2022 target",
         "showlegend": false,
         "text": "June 2022 target",
         "textposition": "bottom left",
         "type": "scatter",
         "x": [
          0.001,
          1.011090909090909,
          2.021181818181818,
          3.0312727272727273,
          4.041363636363637,
          5.051454545454546,
          6.061545454545455,
          7.071636363636364,
          8.081727272727273,
          9.091818181818182,
          10.101909090909091,
          11.112,
          12.12209090909091,
          13.132181818181818,
          14.142272727272728,
          15.152363636363637,
          16.162454545454548,
          17.172545454545457,
          18.182636363636366,
          19.192727272727275,
          20.202818181818184,
          21.212909090909093,
          22.223000000000003,
          23.23309090909091,
          24.24318181818182,
          25.25327272727273,
          26.26336363636364,
          27.27345454545455,
          28.283545454545457,
          29.293636363636367,
          30.303727272727276,
          31.313818181818185,
          32.32390909090909,
          33.333999999999996,
          34.34409090909091,
          35.35418181818182,
          36.36427272727273,
          37.37436363636363,
          38.384454545454545,
          39.39454545454546,
          40.404636363636364,
          41.41472727272727,
          42.42481818181818,
          43.434909090909095,
          44.445,
          45.455090909090906,
          46.46518181818182,
          47.47527272727273,
          48.48536363636364,
          49.49545454545454,
          50.505545454545455,
          51.51563636363637,
          52.52572727272727,
          53.53581818181818,
          54.54590909090909,
          55.556000000000004,
          56.56609090909091,
          57.576181818181816,
          58.58627272727273,
          59.59636363636364,
          60.60645454545455,
          61.61654545454545,
          62.626636363636365,
          63.63672727272728,
          64.64681818181819,
          65.6569090909091,
          66.667,
          67.67709090909092,
          68.68718181818183,
          69.69727272727273,
          70.70736363636365,
          71.71745454545456,
          72.72754545454546,
          73.73763636363637,
          74.74772727272727,
          75.7578181818182,
          76.7679090909091,
          77.778,
          78.78809090909093,
          79.79818181818183,
          80.80827272727274,
          81.81836363636364,
          82.82845454545455,
          83.83854545454547,
          84.84863636363637,
          85.85872727272728,
          86.8688181818182,
          87.8789090909091,
          88.88900000000001,
          89.89909090909092,
          90.90918181818182,
          91.91927272727274,
          92.92936363636365,
          93.93945454545455,
          94.94954545454547,
          95.95963636363638,
          96.96972727272728,
          97.97981818181819,
          98.9899090909091,
          100
         ],
         "y": [
          5999999.999999999,
          5934.184499190794,
          2968.5602482795844,
          1979.36660268714,
          1484.647396243392,
          1187.7766979807795,
          989.8465737810639,
          848.4599166966626,
          742.4155502311612,
          659.93400659934,
          593.9471387046553,
          539.9568034557236,
          494.9641151016551,
          456.89285170365645,
          424.25995564555006,
          395.97782524178643,
          371.23074240523766,
          349.39491153956095,
          329.98515066821994,
          312.6184160666919,
          296.9882689633759,
          282.84663712490675,
          269.9905503307384,
          258.2523360097666,
          247.49226586669164,
          237.5929672481694,
          228.4551241445913,
          219.99413348977362,
          212.1374779425236,
          204.8226422120845,
          197.9954461047396,
          191.60870019625375,
          185.62111355793488,
          179.99640007199852,
          174.7025424513943,
          169.7111824240928,
          164.99711255053035,
          160.53785044683033,
          156.31328023418573,
          152.30534914847465,
          148.49780965730756,
          144.87599931513162,
          141.4266520668648,
          138.137735880649,
          134.99831252109348,
          131.99841601900778,
          129.12894699256725,
          126.38158045910981,
          123.74868517022006,
          121.22325282395077,
          118.79883577140944,
          116.46949205183952,
          114.22973676968688,
          112.07449897604664,
          109.99908334097216,
          107.99913600691195,
          106.07061410064173,
          104.20975845441139,
          102.41306914899396,
          100.67728354384037,
          98.99935650418273,
          97.37644257298071,
          95.80587986813627,
          94.28517551328278,
          92.81199243441638,
          91.38413737528143,
          89.99955000224999,
          88.65629298486932,
          87.35254295164242,
          86.08658223225117,
          84.85679130757887,
          83.66164189775026,
          82.49969062616015,
          81.36957320425981,
          80.26999908784092,
          79.19974656081101,
          78.15765820708701,
          77.14263673532362,
          76.15364112481237,
          75.18968306409351,
          74.24982365666881,
          73.33317037073252,
          72.43887421209004,
          71.56612710144174,
          70.714159439001,
          69.88223784102003,
          69.0696630342303,
          68.27576789549255,
          67.49991562510547,
          66.74149804326063,
          65.99993400006599,
          65.27466789040184,
          64.56516826563285,
          63.87092653488611,
          63.19145574922567,
          62.52628946261496,
          61.874980664068545,
          61.23710077585551,
          60.612238713036874,
          60
         ]
        },
        {
         "line": {
          "color": "green"
         },
         "mode": "lines",
         "name": "65% Dec 2022 target",
         "showlegend": false,
         "text": "65% December target",
         "textposition": "top right",
         "type": "scatter",
         "x": [
          0.001,
          1.011090909090909,
          2.021181818181818,
          3.0312727272727273,
          4.041363636363637,
          5.051454545454546,
          6.061545454545455,
          7.071636363636364,
          8.081727272727273,
          9.091818181818182,
          10.101909090909091,
          11.112,
          12.12209090909091,
          13.132181818181818,
          14.142272727272728,
          15.152363636363637,
          16.162454545454548,
          17.172545454545457,
          18.182636363636366,
          19.192727272727275,
          20.202818181818184,
          21.212909090909093,
          22.223000000000003,
          23.23309090909091,
          24.24318181818182,
          25.25327272727273,
          26.26336363636364,
          27.27345454545455,
          28.283545454545457,
          29.293636363636367,
          30.303727272727276,
          31.313818181818185,
          32.32390909090909,
          33.333999999999996,
          34.34409090909091,
          35.35418181818182,
          36.36427272727273,
          37.37436363636363,
          38.384454545454545,
          39.39454545454546,
          40.404636363636364,
          41.41472727272727,
          42.42481818181818,
          43.434909090909095,
          44.445,
          45.455090909090906,
          46.46518181818182,
          47.47527272727273,
          48.48536363636364,
          49.49545454545454,
          50.505545454545455,
          51.51563636363637,
          52.52572727272727,
          53.53581818181818,
          54.54590909090909,
          55.556000000000004,
          56.56609090909091,
          57.576181818181816,
          58.58627272727273,
          59.59636363636364,
          60.60645454545455,
          61.61654545454545,
          62.626636363636365,
          63.63672727272728,
          64.64681818181819,
          65.6569090909091,
          66.667,
          67.67709090909092,
          68.68718181818183,
          69.69727272727273,
          70.70736363636365,
          71.71745454545456,
          72.72754545454546,
          73.73763636363637,
          74.74772727272727,
          75.7578181818182,
          76.7679090909091,
          77.778,
          78.78809090909093,
          79.79818181818183,
          80.80827272727274,
          81.81836363636364,
          82.82845454545455,
          83.83854545454547,
          84.84863636363637,
          85.85872727272728,
          86.8688181818182,
          87.8789090909091,
          88.88900000000001,
          89.89909090909092,
          90.90918181818182,
          91.91927272727274,
          92.92936363636365,
          93.93945454545455,
          94.94954545454547,
          95.95963636363638,
          96.96972727272728,
          97.97981818181819,
          98.9899090909091,
          100
         ],
         "y": [
          6500000,
          6428.699874123359,
          3215.94026896955,
          2144.313819577735,
          1608.368012597008,
          1286.758089479178,
          1072.333788262819,
          919.1649097547181,
          804.2835127504247,
          714.9285071492851,
          643.4427335967099,
          584.9532037437006,
          536.2111246934597,
          494.9672560122945,
          459.61495194934594,
          428.9759773452687,
          402.16663760567417,
          378.51115416785774,
          357.48391322390495,
          338.66995073891627,
          321.7372913769906,
          306.417190218649,
          292.48976285829997,
          279.7733640105805,
          268.11662135558265,
          257.3923811855169,
          247.49305115664058,
          238.32697794725476,
          229.81560110440057,
          221.89119572975824,
          214.4950666134679,
          207.57609187927494,
          201.08953968776277,
          194.99610007799845,
          189.26108765567716,
          183.8537809594339,
          178.74687192974125,
          173.91600465073287,
          169.33938692036787,
          164.9974615775142,
          160.87262712874985,
          156.94899925805927,
          153.2122064057702,
          149.64921387070308,
          146.24817189785128,
          142.99828402059177,
          139.8896925752812,
          136.91337883070233,
          134.06107560107174,
          131.32519055928,
          128.69873875236024,
          126.17528305615949,
          123.74888150049412,
          121.41404055738387,
          119.16567361938652,
          116.99906400748796,
          114.90983194236189,
          112.893904992279,
          110.94749157807678,
          109.06705717249375,
          107.2493028795313,
          105.4911461207291,
          103.78970319048098,
          102.14227347272302,
          100.54632513728441,
          98.99948215655489,
          97.4995125024375,
          96.0443174002751,
          94.63192153094596,
          93.26046408493877,
          91.92819058321045,
          90.63344538922946,
          89.37466484500683,
          88.15037097128148,
          86.95916567849433,
          85.79972544087859,
          84.67079639101094,
          83.57118979660059,
          82.4997778852134,
          81.45548998610131,
          80.43730896139122,
          79.44426790162689,
          78.47544706309756,
          77.52997102656188,
          76.60700605891775,
          75.70575766110504,
          74.82546828708283,
          73.96541522011695,
          73.12490859386426,
          72.30328954686568,
          71.4999285000715,
          70.71422354793533,
          69.94559895443558,
          69.19350374612662,
          68.45741039499448,
          67.73681358449954,
          67.03122905274093,
          66.34019250717681,
          65.66325860578995,
          65
         ]
        },
        {
         "line": {
          "color": "gray"
         },
         "mode": "lines",
         "name": "50%",
         "showlegend": false,
         "text": "50% OEE",
         "textposition": "top right",
         "type": "scatter",
         "x": [
          0.001,
          1.011090909090909,
          2.021181818181818,
          3.0312727272727273,
          4.041363636363637,
          5.051454545454546,
          6.061545454545455,
          7.071636363636364,
          8.081727272727273,
          9.091818181818182,
          10.101909090909091,
          11.112,
          12.12209090909091,
          13.132181818181818,
          14.142272727272728,
          15.152363636363637,
          16.162454545454548,
          17.172545454545457,
          18.182636363636366,
          19.192727272727275,
          20.202818181818184,
          21.212909090909093,
          22.223000000000003,
          23.23309090909091,
          24.24318181818182,
          25.25327272727273,
          26.26336363636364,
          27.27345454545455,
          28.283545454545457,
          29.293636363636367,
          30.303727272727276,
          31.313818181818185,
          32.32390909090909,
          33.333999999999996,
          34.34409090909091,
          35.35418181818182,
          36.36427272727273,
          37.37436363636363,
          38.384454545454545,
          39.39454545454546,
          40.404636363636364,
          41.41472727272727,
          42.42481818181818,
          43.434909090909095,
          44.445,
          45.455090909090906,
          46.46518181818182,
          47.47527272727273,
          48.48536363636364,
          49.49545454545454,
          50.505545454545455,
          51.51563636363637,
          52.52572727272727,
          53.53581818181818,
          54.54590909090909,
          55.556000000000004,
          56.56609090909091,
          57.576181818181816,
          58.58627272727273,
          59.59636363636364,
          60.60645454545455,
          61.61654545454545,
          62.626636363636365,
          63.63672727272728,
          64.64681818181819,
          65.6569090909091,
          66.667,
          67.67709090909092,
          68.68718181818183,
          69.69727272727273,
          70.70736363636365,
          71.71745454545456,
          72.72754545454546,
          73.73763636363637,
          74.74772727272727,
          75.7578181818182,
          76.7679090909091,
          77.778,
          78.78809090909093,
          79.79818181818183,
          80.80827272727274,
          81.81836363636364,
          82.82845454545455,
          83.83854545454547,
          84.84863636363637,
          85.85872727272728,
          86.8688181818182,
          87.8789090909091,
          88.88900000000001,
          89.89909090909092,
          90.90918181818182,
          91.91927272727274,
          92.92936363636365,
          93.93945454545455,
          94.94954545454547,
          95.95963636363638,
          96.96972727272728,
          97.97981818181819,
          98.9899090909091,
          100
         ],
         "y": [
          4999999.999999999,
          4945.153749325661,
          2473.800206899654,
          1649.47216890595,
          1237.20616353616,
          989.813914983983,
          824.8721448175532,
          707.0499305805523,
          618.6796251926344,
          549.9450054994501,
          494.95594892054606,
          449.9640028797696,
          412.47009591804596,
          380.7440430863804,
          353.5499630379584,
          329.9815210348221,
          309.35895200436477,
          291.1624262829675,
          274.98762555684993,
          260.5153467222433,
          247.4902241361466,
          235.7055309374223,
          224.99212527561534,
          215.21028000813885,
          206.2435548889097,
          197.99413937347452,
          190.37927012049275,
          183.32844457481136,
          176.78123161876965,
          170.6855351767371,
          164.99620508728302,
          159.67391683021145,
          154.68426129827907,
          149.99700005999878,
          145.5854520428286,
          141.42598535341068,
          137.49759379210863,
          133.78154203902528,
          130.26106686182143,
          126.92112429039553,
          123.74817471442296,
          120.72999942927636,
          117.85554338905399,
          115.11477990054082,
          112.49859376757789,
          109.99868001583981,
          107.6074558271394,
          105.31798371592484,
          103.12390430851673,
          101.01937735329231,
          98.99902980950786,
          97.0579100431996,
          95.19144730807241,
          93.3954158133722,
          91.66590278414348,
          89.99928000575996,
          88.39217841720145,
          86.84146537867616,
          85.3442242908283,
          83.89773628653366,
          82.49946375348561,
          81.14703547748393,
          79.83823322344689,
          78.57097959440232,
          77.34332702868032,
          76.15344781273453,
          74.99962500187499,
          73.88024415405778,
          72.79378579303535,
          71.73881852687597,
          70.71399275631573,
          69.7180349147919,
          68.7497421884668,
          67.80797767021653,
          66.8916659065341,
          65.99978880067584,
          65.13138183923918,
          64.28553061276968,
          63.4613676040103,
          62.65806922007793,
          61.87485304722402,
          61.11097530894376,
          60.365728510075044,
          59.63843925120145,
          58.928466199167495,
          58.23519820085002,
          57.55805252852525,
          56.89647324624381,
          56.249929687587894,
          55.617915036050526,
          54.99994500005501,
          54.39555657533488,
          53.80430688802738,
          53.22577211240509,
          52.65954645768806,
          52.10524121884581,
          51.56248388672379,
          51.03091731321293,
          50.51019892753072,
          50
         ]
        },
        {
         "line": {
          "color": "gray"
         },
         "mode": "lines",
         "showlegend": false,
         "textposition": "top right",
         "type": "scatter",
         "x": [
          0.001,
          1.011090909090909,
          2.021181818181818,
          3.0312727272727273,
          4.041363636363637,
          5.051454545454546,
          6.061545454545455,
          7.071636363636364,
          8.081727272727273,
          9.091818181818182,
          10.101909090909091,
          11.112,
          12.12209090909091,
          13.132181818181818,
          14.142272727272728,
          15.152363636363637,
          16.162454545454548,
          17.172545454545457,
          18.182636363636366,
          19.192727272727275,
          20.202818181818184,
          21.212909090909093,
          22.223000000000003,
          23.23309090909091,
          24.24318181818182,
          25.25327272727273,
          26.26336363636364,
          27.27345454545455,
          28.283545454545457,
          29.293636363636367,
          30.303727272727276,
          31.313818181818185,
          32.32390909090909,
          33.333999999999996,
          34.34409090909091,
          35.35418181818182,
          36.36427272727273,
          37.37436363636363,
          38.384454545454545,
          39.39454545454546,
          40.404636363636364,
          41.41472727272727,
          42.42481818181818,
          43.434909090909095,
          44.445,
          45.455090909090906,
          46.46518181818182,
          47.47527272727273,
          48.48536363636364,
          49.49545454545454,
          50.505545454545455,
          51.51563636363637,
          52.52572727272727,
          53.53581818181818,
          54.54590909090909,
          55.556000000000004,
          56.56609090909091,
          57.576181818181816,
          58.58627272727273,
          59.59636363636364,
          60.60645454545455,
          61.61654545454545,
          62.626636363636365,
          63.63672727272728,
          64.64681818181819,
          65.6569090909091,
          66.667,
          67.67709090909092,
          68.68718181818183,
          69.69727272727273,
          70.70736363636365,
          71.71745454545456,
          72.72754545454546,
          73.73763636363637,
          74.74772727272727,
          75.7578181818182,
          76.7679090909091,
          77.778,
          78.78809090909093,
          79.79818181818183,
          80.80827272727274,
          81.81836363636364,
          82.82845454545455,
          83.83854545454547,
          84.84863636363637,
          85.85872727272728,
          86.8688181818182,
          87.8789090909091,
          88.88900000000001,
          89.89909090909092,
          90.90918181818182,
          91.91927272727274,
          92.92936363636365,
          93.93945454545455,
          94.94954545454547,
          95.95963636363638,
          96.96972727272728,
          97.97981818181819,
          98.9899090909091,
          100
         ],
         "y": [
          4000000,
          3956.122999460529,
          1979.040165519723,
          1319.5777351247602,
          989.7649308289282,
          791.8511319871864,
          659.8977158540426,
          565.6399444644419,
          494.94370015410755,
          439.95600439956013,
          395.9647591364369,
          359.97120230381574,
          329.9760767344368,
          304.5952344691043,
          282.8399704303667,
          263.9852168278577,
          247.4871616034918,
          232.92994102637402,
          219.99010044547998,
          208.41227737779465,
          197.99217930891731,
          188.56442474993784,
          179.9937002204923,
          172.1682240065111,
          164.9948439111278,
          158.39531149877962,
          152.3034160963942,
          146.66275565984907,
          141.42498529501572,
          136.54842814138968,
          131.99696406982642,
          127.73913346416919,
          123.74740903862325,
          119.99760004799904,
          116.46836163426286,
          113.14078828272855,
          109.9980750336869,
          107.02523363122023,
          104.20885348945714,
          101.53689943231643,
          98.99853977153838,
          96.5839995434211,
          94.28443471124321,
          92.09182392043267,
          89.99887501406234,
          87.99894401267184,
          86.08596466171151,
          84.25438697273988,
          82.49912344681339,
          80.81550188263385,
          79.1992238476063,
          77.64632803455967,
          76.15315784645793,
          74.71633265069777,
          73.33272222731479,
          71.99942400460797,
          70.71374273376117,
          69.47317230294094,
          68.27537943266265,
          67.11818902922693,
          65.9995710027885,
          64.91762838198713,
          63.870586578757525,
          62.85678367552187,
          61.87466162294426,
          60.92275825018763,
          59.9997000015,
          59.10419532324622,
          58.23502863442829,
          57.39105482150079,
          56.57119420505259,
          55.774427931833515,
          54.99979375077344,
          54.246382136173224,
          53.51333272522728,
          52.79983104054067,
          52.10510547139135,
          51.428424490215754,
          50.769094083208245,
          50.12645537606234,
          49.49988243777921,
          48.88878024715501,
          48.29258280806003,
          47.71075140096116,
          47.142772959334,
          46.58815856068003,
          46.04644202282021,
          45.517178596995045,
          44.999943750070315,
          44.494332028840425,
          43.99995600004401,
          43.51644526026791,
          43.043445510421904,
          42.580617689924075,
          42.12763716615045,
          41.68419297507665,
          41.249987109379035,
          40.82473385057035,
          40.40815914202458,
          40
         ]
        },
        {
         "line": {
          "color": "gray"
         },
         "mode": "lines",
         "name": "30%",
         "showlegend": false,
         "text": "30% OEE",
         "textposition": "top right",
         "type": "scatter",
         "x": [
          0.001,
          1.011090909090909,
          2.021181818181818,
          3.0312727272727273,
          4.041363636363637,
          5.051454545454546,
          6.061545454545455,
          7.071636363636364,
          8.081727272727273,
          9.091818181818182,
          10.101909090909091,
          11.112,
          12.12209090909091,
          13.132181818181818,
          14.142272727272728,
          15.152363636363637,
          16.162454545454548,
          17.172545454545457,
          18.182636363636366,
          19.192727272727275,
          20.202818181818184,
          21.212909090909093,
          22.223000000000003,
          23.23309090909091,
          24.24318181818182,
          25.25327272727273,
          26.26336363636364,
          27.27345454545455,
          28.283545454545457,
          29.293636363636367,
          30.303727272727276,
          31.313818181818185,
          32.32390909090909,
          33.333999999999996,
          34.34409090909091,
          35.35418181818182,
          36.36427272727273,
          37.37436363636363,
          38.384454545454545,
          39.39454545454546,
          40.404636363636364,
          41.41472727272727,
          42.42481818181818,
          43.434909090909095,
          44.445,
          45.455090909090906,
          46.46518181818182,
          47.47527272727273,
          48.48536363636364,
          49.49545454545454,
          50.505545454545455,
          51.51563636363637,
          52.52572727272727,
          53.53581818181818,
          54.54590909090909,
          55.556000000000004,
          56.56609090909091,
          57.576181818181816,
          58.58627272727273,
          59.59636363636364,
          60.60645454545455,
          61.61654545454545,
          62.626636363636365,
          63.63672727272728,
          64.64681818181819,
          65.6569090909091,
          66.667,
          67.67709090909092,
          68.68718181818183,
          69.69727272727273,
          70.70736363636365,
          71.71745454545456,
          72.72754545454546,
          73.73763636363637,
          74.74772727272727,
          75.7578181818182,
          76.7679090909091,
          77.778,
          78.78809090909093,
          79.79818181818183,
          80.80827272727274,
          81.81836363636364,
          82.82845454545455,
          83.83854545454547,
          84.84863636363637,
          85.85872727272728,
          86.8688181818182,
          87.8789090909091,
          88.88900000000001,
          89.89909090909092,
          90.90918181818182,
          91.91927272727274,
          92.92936363636365,
          93.93945454545455,
          94.94954545454547,
          95.95963636363638,
          96.96972727272728,
          97.97981818181819,
          98.9899090909091,
          100
         ],
         "y": [
          2999999.9999999995,
          2967.092249595397,
          1484.2801241397922,
          989.68330134357,
          742.323698121696,
          593.8883489903898,
          494.9232868905319,
          424.2299583483313,
          371.2077751155806,
          329.96700329967,
          296.9735693523277,
          269.9784017278618,
          247.48205755082756,
          228.44642585182822,
          212.12997782277503,
          197.98891262089322,
          185.61537120261883,
          174.69745576978048,
          164.99257533410997,
          156.30920803334595,
          148.49413448168795,
          141.42331856245337,
          134.9952751653692,
          129.1261680048833,
          123.74613293334582,
          118.7964836240847,
          114.22756207229565,
          109.99706674488681,
          106.0687389712618,
          102.41132110604225,
          98.9977230523698,
          95.80435009812687,
          92.81055677896744,
          89.99820003599926,
          87.35127122569715,
          84.8555912120464,
          82.49855627526517,
          80.26892522341517,
          78.15664011709286,
          76.15267457423732,
          74.24890482865378,
          72.43799965756581,
          70.7133260334324,
          69.0688679403245,
          67.49915626054674,
          65.99920800950389,
          64.56447349628363,
          63.190790229554906,
          61.87434258511003,
          60.61162641197539,
          59.39941788570472,
          58.23474602591976,
          57.11486838484344,
          56.03724948802332,
          54.99954167048608,
          53.99956800345598,
          53.03530705032087,
          52.10487922720569,
          51.20653457449698,
          50.33864177192019,
          49.499678252091364,
          48.688221286490354,
          47.90293993406814,
          47.14258775664139,
          46.40599621720819,
          45.69206868764071,
          44.999775001124995,
          44.32814649243466,
          43.67627147582121,
          43.04329111612559,
          42.42839565378944,
          41.83082094887513,
          41.24984531308007,
          40.684786602129904,
          40.13499954392046,
          39.599873280405504,
          39.078829103543505,
          38.57131836766181,
          38.07682056240618,
          37.59484153204676,
          37.124911828334405,
          36.66658518536626,
          36.21943710604502,
          35.78306355072087,
          35.3570797195005,
          34.941118920510014,
          34.53483151711515,
          34.137883947746275,
          33.749957812552736,
          33.37074902163032,
          32.999967000032996,
          32.63733394520092,
          32.282584132816424,
          31.935463267443055,
          31.595727874612834,
          31.26314473130748,
          30.937490332034272,
          30.618550387927755,
          30.306119356518437,
          30
         ]
        },
        {
         "line": {
          "color": "gray"
         },
         "mode": "lines",
         "name": "20%",
         "showlegend": false,
         "text": "20% OEE",
         "textfont": {
          "color": "green",
          "size": 15
         },
         "textposition": "top right",
         "type": "scatter",
         "x": [
          0.001,
          1.011090909090909,
          2.021181818181818,
          3.0312727272727273,
          4.041363636363637,
          5.051454545454546,
          6.061545454545455,
          7.071636363636364,
          8.081727272727273,
          9.091818181818182,
          10.101909090909091,
          11.112,
          12.12209090909091,
          13.132181818181818,
          14.142272727272728,
          15.152363636363637,
          16.162454545454548,
          17.172545454545457,
          18.182636363636366,
          19.192727272727275,
          20.202818181818184,
          21.212909090909093,
          22.223000000000003,
          23.23309090909091,
          24.24318181818182,
          25.25327272727273,
          26.26336363636364,
          27.27345454545455,
          28.283545454545457,
          29.293636363636367,
          30.303727272727276,
          31.313818181818185,
          32.32390909090909,
          33.333999999999996,
          34.34409090909091,
          35.35418181818182,
          36.36427272727273,
          37.37436363636363,
          38.384454545454545,
          39.39454545454546,
          40.404636363636364,
          41.41472727272727,
          42.42481818181818,
          43.434909090909095,
          44.445,
          45.455090909090906,
          46.46518181818182,
          47.47527272727273,
          48.48536363636364,
          49.49545454545454,
          50.505545454545455,
          51.51563636363637,
          52.52572727272727,
          53.53581818181818,
          54.54590909090909,
          55.556000000000004,
          56.56609090909091,
          57.576181818181816,
          58.58627272727273,
          59.59636363636364,
          60.60645454545455,
          61.61654545454545,
          62.626636363636365,
          63.63672727272728,
          64.64681818181819,
          65.6569090909091,
          66.667,
          67.67709090909092,
          68.68718181818183,
          69.69727272727273,
          70.70736363636365,
          71.71745454545456,
          72.72754545454546,
          73.73763636363637,
          74.74772727272727,
          75.7578181818182,
          76.7679090909091,
          77.778,
          78.78809090909093,
          79.79818181818183,
          80.80827272727274,
          81.81836363636364,
          82.82845454545455,
          83.83854545454547,
          84.84863636363637,
          85.85872727272728,
          86.8688181818182,
          87.8789090909091,
          88.88900000000001,
          89.89909090909092,
          90.90918181818182,
          91.91927272727274,
          92.92936363636365,
          93.93945454545455,
          94.94954545454547,
          95.95963636363638,
          96.96972727272728,
          97.97981818181819,
          98.9899090909091,
          100
         ],
         "y": [
          2000000,
          1978.0614997302646,
          989.5200827598615,
          659.7888675623801,
          494.8824654144641,
          395.9255659935932,
          329.9488579270213,
          282.81997223222095,
          247.47185007705377,
          219.97800219978006,
          197.98237956821845,
          179.98560115190787,
          164.9880383672184,
          152.29761723455215,
          141.41998521518335,
          131.99260841392885,
          123.7435808017459,
          116.46497051318701,
          109.99505022273999,
          104.20613868889733,
          98.99608965445866,
          94.28221237496892,
          89.99685011024614,
          86.08411200325556,
          82.4974219555639,
          79.19765574938981,
          76.1517080481971,
          73.33137782992453,
          70.71249264750786,
          68.27421407069484,
          65.99848203491321,
          63.86956673208459,
          61.87370451931162,
          59.99880002399952,
          58.23418081713143,
          56.570394141364275,
          54.99903751684345,
          53.512616815610116,
          52.10442674472857,
          50.768449716158216,
          49.49926988576919,
          48.29199977171055,
          47.142217355621604,
          46.04591196021634,
          44.99943750703117,
          43.99947200633592,
          43.04298233085576,
          42.12719348636994,
          41.24956172340669,
          40.40775094131693,
          39.59961192380315,
          38.82316401727984,
          38.076578923228965,
          37.35816632534888,
          36.666361113657395,
          35.99971200230399,
          35.35687136688058,
          34.73658615147047,
          34.13768971633132,
          33.55909451461346,
          32.99978550139425,
          32.458814190993564,
          31.935293289378762,
          31.428391837760934,
          30.93733081147213,
          30.461379125093814,
          29.99985000075,
          29.55209766162311,
          29.117514317214145,
          28.695527410750394,
          28.285597102526296,
          27.887213965916757,
          27.49989687538672,
          27.123191068086612,
          26.75666636261364,
          26.399915520270334,
          26.052552735695674,
          25.714212245107877,
          25.384547041604122,
          25.06322768803117,
          24.749941218889607,
          24.444390123577506,
          24.146291404030016,
          23.85537570048058,
          23.571386479667,
          23.294079280340014,
          23.023221011410104,
          22.758589298497522,
          22.499971875035158,
          22.247166014420213,
          21.999978000022004,
          21.758222630133954,
          21.521722755210952,
          21.290308844962038,
          21.063818583075225,
          20.842096487538324,
          20.624993554689517,
          20.412366925285173,
          20.20407957101229,
          20
         ]
        }
       ],
       "layout": {
        "height": 900,
        "legend": {
         "title": {
          "text": "Line, Plant"
         },
         "tracegroupgap": 0
        },
        "template": {
         "data": {
          "bar": [
           {
            "error_x": {
             "color": "#2a3f5f"
            },
            "error_y": {
             "color": "#2a3f5f"
            },
            "marker": {
             "line": {
              "color": "#E5ECF6",
              "width": 0.5
             },
             "pattern": {
              "fillmode": "overlay",
              "size": 10,
              "solidity": 0.2
             }
            },
            "type": "bar"
           }
          ],
          "barpolar": [
           {
            "marker": {
             "line": {
              "color": "#E5ECF6",
              "width": 0.5
             },
             "pattern": {
              "fillmode": "overlay",
              "size": 10,
              "solidity": 0.2
             }
            },
            "type": "barpolar"
           }
          ],
          "carpet": [
           {
            "aaxis": {
             "endlinecolor": "#2a3f5f",
             "gridcolor": "white",
             "linecolor": "white",
             "minorgridcolor": "white",
             "startlinecolor": "#2a3f5f"
            },
            "baxis": {
             "endlinecolor": "#2a3f5f",
             "gridcolor": "white",
             "linecolor": "white",
             "minorgridcolor": "white",
             "startlinecolor": "#2a3f5f"
            },
            "type": "carpet"
           }
          ],
          "choropleth": [
           {
            "colorbar": {
             "outlinewidth": 0,
             "ticks": ""
            },
            "type": "choropleth"
           }
          ],
          "contour": [
           {
            "colorbar": {
             "outlinewidth": 0,
             "ticks": ""
            },
            "colorscale": [
             [
              0,
              "#0d0887"
             ],
             [
              0.1111111111111111,
              "#46039f"
             ],
             [
              0.2222222222222222,
              "#7201a8"
             ],
             [
              0.3333333333333333,
              "#9c179e"
             ],
             [
              0.4444444444444444,
              "#bd3786"
             ],
             [
              0.5555555555555556,
              "#d8576b"
             ],
             [
              0.6666666666666666,
              "#ed7953"
             ],
             [
              0.7777777777777778,
              "#fb9f3a"
             ],
             [
              0.8888888888888888,
              "#fdca26"
             ],
             [
              1,
              "#f0f921"
             ]
            ],
            "type": "contour"
           }
          ],
          "contourcarpet": [
           {
            "colorbar": {
             "outlinewidth": 0,
             "ticks": ""
            },
            "type": "contourcarpet"
           }
          ],
          "heatmap": [
           {
            "colorbar": {
             "outlinewidth": 0,
             "ticks": ""
            },
            "colorscale": [
             [
              0,
              "#0d0887"
             ],
             [
              0.1111111111111111,
              "#46039f"
             ],
             [
              0.2222222222222222,
              "#7201a8"
             ],
             [
              0.3333333333333333,
              "#9c179e"
             ],
             [
              0.4444444444444444,
              "#bd3786"
             ],
             [
              0.5555555555555556,
              "#d8576b"
             ],
             [
              0.6666666666666666,
              "#ed7953"
             ],
             [
              0.7777777777777778,
              "#fb9f3a"
             ],
             [
              0.8888888888888888,
              "#fdca26"
             ],
             [
              1,
              "#f0f921"
             ]
            ],
            "type": "heatmap"
           }
          ],
          "heatmapgl": [
           {
            "colorbar": {
             "outlinewidth": 0,
             "ticks": ""
            },
            "colorscale": [
             [
              0,
              "#0d0887"
             ],
             [
              0.1111111111111111,
              "#46039f"
             ],
             [
              0.2222222222222222,
              "#7201a8"
             ],
             [
              0.3333333333333333,
              "#9c179e"
             ],
             [
              0.4444444444444444,
              "#bd3786"
             ],
             [
              0.5555555555555556,
              "#d8576b"
             ],
             [
              0.6666666666666666,
              "#ed7953"
             ],
             [
              0.7777777777777778,
              "#fb9f3a"
             ],
             [
              0.8888888888888888,
              "#fdca26"
             ],
             [
              1,
              "#f0f921"
             ]
            ],
            "type": "heatmapgl"
           }
          ],
          "histogram": [
           {
            "marker": {
             "pattern": {
              "fillmode": "overlay",
              "size": 10,
              "solidity": 0.2
             }
            },
            "type": "histogram"
           }
          ],
          "histogram2d": [
           {
            "colorbar": {
             "outlinewidth": 0,
             "ticks": ""
            },
            "colorscale": [
             [
              0,
              "#0d0887"
             ],
             [
              0.1111111111111111,
              "#46039f"
             ],
             [
              0.2222222222222222,
              "#7201a8"
             ],
             [
              0.3333333333333333,
              "#9c179e"
             ],
             [
              0.4444444444444444,
              "#bd3786"
             ],
             [
              0.5555555555555556,
              "#d8576b"
             ],
             [
              0.6666666666666666,
              "#ed7953"
             ],
             [
              0.7777777777777778,
              "#fb9f3a"
             ],
             [
              0.8888888888888888,
              "#fdca26"
             ],
             [
              1,
              "#f0f921"
             ]
            ],
            "type": "histogram2d"
           }
          ],
          "histogram2dcontour": [
           {
            "colorbar": {
             "outlinewidth": 0,
             "ticks": ""
            },
            "colorscale": [
             [
              0,
              "#0d0887"
             ],
             [
              0.1111111111111111,
              "#46039f"
             ],
             [
              0.2222222222222222,
              "#7201a8"
             ],
             [
              0.3333333333333333,
              "#9c179e"
             ],
             [
              0.4444444444444444,
              "#bd3786"
             ],
             [
              0.5555555555555556,
              "#d8576b"
             ],
             [
              0.6666666666666666,
              "#ed7953"
             ],
             [
              0.7777777777777778,
              "#fb9f3a"
             ],
             [
              0.8888888888888888,
              "#fdca26"
             ],
             [
              1,
              "#f0f921"
             ]
            ],
            "type": "histogram2dcontour"
           }
          ],
          "mesh3d": [
           {
            "colorbar": {
             "outlinewidth": 0,
             "ticks": ""
            },
            "type": "mesh3d"
           }
          ],
          "parcoords": [
           {
            "line": {
             "colorbar": {
              "outlinewidth": 0,
              "ticks": ""
             }
            },
            "type": "parcoords"
           }
          ],
          "pie": [
           {
            "automargin": true,
            "type": "pie"
           }
          ],
          "scatter": [
           {
            "marker": {
             "colorbar": {
              "outlinewidth": 0,
              "ticks": ""
             }
            },
            "type": "scatter"
           }
          ],
          "scatter3d": [
           {
            "line": {
             "colorbar": {
              "outlinewidth": 0,
              "ticks": ""
             }
            },
            "marker": {
             "colorbar": {
              "outlinewidth": 0,
              "ticks": ""
             }
            },
            "type": "scatter3d"
           }
          ],
          "scattercarpet": [
           {
            "marker": {
             "colorbar": {
              "outlinewidth": 0,
              "ticks": ""
             }
            },
            "type": "scattercarpet"
           }
          ],
          "scattergeo": [
           {
            "marker": {
             "colorbar": {
              "outlinewidth": 0,
              "ticks": ""
             }
            },
            "type": "scattergeo"
           }
          ],
          "scattergl": [
           {
            "marker": {
             "colorbar": {
              "outlinewidth": 0,
              "ticks": ""
             }
            },
            "type": "scattergl"
           }
          ],
          "scattermapbox": [
           {
            "marker": {
             "colorbar": {
              "outlinewidth": 0,
              "ticks": ""
             }
            },
            "type": "scattermapbox"
           }
          ],
          "scatterpolar": [
           {
            "marker": {
             "colorbar": {
              "outlinewidth": 0,
              "ticks": ""
             }
            },
            "type": "scatterpolar"
           }
          ],
          "scatterpolargl": [
           {
            "marker": {
             "colorbar": {
              "outlinewidth": 0,
              "ticks": ""
             }
            },
            "type": "scatterpolargl"
           }
          ],
          "scatterternary": [
           {
            "marker": {
             "colorbar": {
              "outlinewidth": 0,
              "ticks": ""
             }
            },
            "type": "scatterternary"
           }
          ],
          "surface": [
           {
            "colorbar": {
             "outlinewidth": 0,
             "ticks": ""
            },
            "colorscale": [
             [
              0,
              "#0d0887"
             ],
             [
              0.1111111111111111,
              "#46039f"
             ],
             [
              0.2222222222222222,
              "#7201a8"
             ],
             [
              0.3333333333333333,
              "#9c179e"
             ],
             [
              0.4444444444444444,
              "#bd3786"
             ],
             [
              0.5555555555555556,
              "#d8576b"
             ],
             [
              0.6666666666666666,
              "#ed7953"
             ],
             [
              0.7777777777777778,
              "#fb9f3a"
             ],
             [
              0.8888888888888888,
              "#fdca26"
             ],
             [
              1,
              "#f0f921"
             ]
            ],
            "type": "surface"
           }
          ],
          "table": [
           {
            "cells": {
             "fill": {
              "color": "#EBF0F8"
             },
             "line": {
              "color": "white"
             }
            },
            "header": {
             "fill": {
              "color": "#C8D4E3"
             },
             "line": {
              "color": "white"
             }
            },
            "type": "table"
           }
          ]
         },
         "layout": {
          "annotationdefaults": {
           "arrowcolor": "#2a3f5f",
           "arrowhead": 0,
           "arrowwidth": 1
          },
          "autotypenumbers": "strict",
          "coloraxis": {
           "colorbar": {
            "outlinewidth": 0,
            "ticks": ""
           }
          },
          "colorscale": {
           "diverging": [
            [
             0,
             "#8e0152"
            ],
            [
             0.1,
             "#c51b7d"
            ],
            [
             0.2,
             "#de77ae"
            ],
            [
             0.3,
             "#f1b6da"
            ],
            [
             0.4,
             "#fde0ef"
            ],
            [
             0.5,
             "#f7f7f7"
            ],
            [
             0.6,
             "#e6f5d0"
            ],
            [
             0.7,
             "#b8e186"
            ],
            [
             0.8,
             "#7fbc41"
            ],
            [
             0.9,
             "#4d9221"
            ],
            [
             1,
             "#276419"
            ]
           ],
           "sequential": [
            [
             0,
             "#0d0887"
            ],
            [
             0.1111111111111111,
             "#46039f"
            ],
            [
             0.2222222222222222,
             "#7201a8"
            ],
            [
             0.3333333333333333,
             "#9c179e"
            ],
            [
             0.4444444444444444,
             "#bd3786"
            ],
            [
             0.5555555555555556,
             "#d8576b"
            ],
            [
             0.6666666666666666,
             "#ed7953"
            ],
            [
             0.7777777777777778,
             "#fb9f3a"
            ],
            [
             0.8888888888888888,
             "#fdca26"
            ],
            [
             1,
             "#f0f921"
            ]
           ],
           "sequentialminus": [
            [
             0,
             "#0d0887"
            ],
            [
             0.1111111111111111,
             "#46039f"
            ],
            [
             0.2222222222222222,
             "#7201a8"
            ],
            [
             0.3333333333333333,
             "#9c179e"
            ],
            [
             0.4444444444444444,
             "#bd3786"
            ],
            [
             0.5555555555555556,
             "#d8576b"
            ],
            [
             0.6666666666666666,
             "#ed7953"
            ],
            [
             0.7777777777777778,
             "#fb9f3a"
            ],
            [
             0.8888888888888888,
             "#fdca26"
            ],
            [
             1,
             "#f0f921"
            ]
           ]
          },
          "colorway": [
           "#636efa",
           "#EF553B",
           "#00cc96",
           "#ab63fa",
           "#FFA15A",
           "#19d3f3",
           "#FF6692",
           "#B6E880",
           "#FF97FF",
           "#FECB52"
          ],
          "font": {
           "color": "#2a3f5f"
          },
          "geo": {
           "bgcolor": "white",
           "lakecolor": "white",
           "landcolor": "#E5ECF6",
           "showlakes": true,
           "showland": true,
           "subunitcolor": "white"
          },
          "hoverlabel": {
           "align": "left"
          },
          "hovermode": "closest",
          "mapbox": {
           "style": "light"
          },
          "paper_bgcolor": "white",
          "plot_bgcolor": "#E5ECF6",
          "polar": {
           "angularaxis": {
            "gridcolor": "white",
            "linecolor": "white",
            "ticks": ""
           },
           "bgcolor": "#E5ECF6",
           "radialaxis": {
            "gridcolor": "white",
            "linecolor": "white",
            "ticks": ""
           }
          },
          "scene": {
           "xaxis": {
            "backgroundcolor": "#E5ECF6",
            "gridcolor": "white",
            "gridwidth": 2,
            "linecolor": "white",
            "showbackground": true,
            "ticks": "",
            "zerolinecolor": "white"
           },
           "yaxis": {
            "backgroundcolor": "#E5ECF6",
            "gridcolor": "white",
            "gridwidth": 2,
            "linecolor": "white",
            "showbackground": true,
            "ticks": "",
            "zerolinecolor": "white"
           },
           "zaxis": {
            "backgroundcolor": "#E5ECF6",
            "gridcolor": "white",
            "gridwidth": 2,
            "linecolor": "white",
            "showbackground": true,
            "ticks": "",
            "zerolinecolor": "white"
           }
          },
          "shapedefaults": {
           "line": {
            "color": "#2a3f5f"
           }
          },
          "ternary": {
           "aaxis": {
            "gridcolor": "white",
            "linecolor": "white",
            "ticks": ""
           },
           "baxis": {
            "gridcolor": "white",
            "linecolor": "white",
            "ticks": ""
           },
           "bgcolor": "#E5ECF6",
           "caxis": {
            "gridcolor": "white",
            "linecolor": "white",
            "ticks": ""
           }
          },
          "title": {
           "x": 0.05
          },
          "xaxis": {
           "automargin": true,
           "gridcolor": "white",
           "linecolor": "white",
           "ticks": "",
           "title": {
            "standoff": 15
           },
           "zerolinecolor": "white",
           "zerolinewidth": 2
          },
          "yaxis": {
           "automargin": true,
           "gridcolor": "white",
           "linecolor": "white",
           "ticks": "",
           "title": {
            "standoff": 15
           },
           "zerolinecolor": "white",
           "zerolinewidth": 2
          }
         }
        },
        "title": {
         "text": "Availability vs Performance %"
        },
        "width": 1200,
        "xaxis": {
         "anchor": "y",
         "domain": [
          0,
          1
         ],
         "range": [
          0,
          100
         ],
         "title": {
          "text": "Availability %"
         }
        },
        "yaxis": {
         "anchor": "x",
         "domain": [
          0,
          1
         ],
         "range": [
          0,
          100
         ],
         "title": {
          "text": "Performance %"
         }
        }
       }
      }
     },
     "metadata": {},
     "output_type": "display_data"
    }
   ],
   "source": [
    "x = active_rolling['Availability %']\n",
    "y = active_rolling['Performance %']\n",
    "colors = active_rolling.Plant\n",
    "\n",
    "fig = px.scatter(active_rolling, x=x, y=y\n",
    "    , color='Line'\n",
    "    , symbol='Plant'\n",
    "    , title='Availability vs Performance %'\n",
    "    , range_x=(0,100)\n",
    "    , range_y=(0,100)\n",
    "    , width=1200\n",
    "    , height=900)\n",
    "\n",
    "\n",
    "def oee_line(x, target):\n",
    "    y = (target/x)*100\n",
    "    return y\n",
    "\n",
    "\n",
    "line_x = np.linspace(.001,100,100)\n",
    "\n",
    "line_y = oee_line(np.linspace(.00001,1,100), .60)\n",
    "fig.add_trace(go.Scatter(x=line_x, y=line_y, line_color='orange'\n",
    "    , mode=\"lines\"\n",
    "    , text='June 2022 target'\n",
    "    , textposition='bottom left'\n",
    "    , name = '60% June 2022 target'\n",
    "    , showlegend = False))\n",
    "\n",
    "# fig.add_trace(go.Scatter(x=x, y=y, mode=\"markers\"))\n",
    "line_y = oee_line(np.linspace(.00001,1,100), .65)\n",
    "fig.add_trace(go.Scatter(x=line_x, y=line_y, line_color='green'\n",
    "    , mode=\"lines\"\n",
    "    , text='65% December target'\n",
    "    , textposition='top right'\n",
    "    , name = '65% Dec 2022 target'\n",
    "    , showlegend = False))\n",
    "\n",
    "# fig.add_trace(go.Scatter(x=x, y=y, mode=\"markers\"))\n",
    "line_y = oee_line(np.linspace(.00001,1,100), .50)\n",
    "fig.add_trace(go.Scatter(x=line_x, y=line_y, line_color='gray'\n",
    "    , mode=\"lines\"\n",
    "    , text='50% OEE'\n",
    "    , textposition='top right'\n",
    "    , name='50%'\n",
    "    , showlegend=False))\n",
    "\n",
    "# for p in [.20, .30, .40, .50]:\n",
    "\n",
    "    # fig.add_trace(go.Scatter(x=x, y=y, mode=\"markers\"))\n",
    "line_y = oee_line(np.linspace(.00001,1,100), .40)\n",
    "fig.add_trace(go.Scatter(x=line_x, y=line_y, line_color='gray'\n",
    "    , mode=\"lines\"\n",
    "    # , text=('{}'.format(pct*100))\n",
    "    , textposition='top right'\n",
    "    # , name=('{}'.format(pct*100))\n",
    "    , showlegend=False))    \n",
    "\n",
    "\n",
    "# fig.add_trace(go.Scatter(x=x, y=y, mode=\"markers\"))\n",
    "line_y = oee_line(np.linspace(.00001,1,100), .30)\n",
    "fig.add_trace(go.Scatter(x=line_x, y=line_y, line_color='gray'\n",
    "    , mode=\"lines\"\n",
    "    , text='30% OEE'\n",
    "    , textposition='top right'\n",
    "    , name='30%'\n",
    "    , showlegend=False))    \n",
    "\n",
    "# fig.add_trace(go.Scatter(x=x, y=y, mode=\"markers\"))\n",
    "line_y = oee_line(np.linspace(.00001,1,100), .20)\n",
    "fig.add_trace(go.Scatter(x=line_x, y=line_y, line_color='gray'\n",
    "    , mode=\"lines\"\n",
    "    , text='20% OEE'\n",
    "    , textfont=dict(color='green', size=15)\n",
    "    , textposition='top right'\n",
    "    , name='20%'\n",
    "    , showlegend=False))\n",
    "\n",
    "fig.add_annotation\n",
    "\n",
    "\n",
    "# to update both axis\n",
    "# fig.update_xaxes(range=(0,100))\n",
    "\n",
    "# add shapes\n",
    "# fig.update_layout (\n",
    "#     shapes=[\n",
    "#         dict (\n",
    "#             type='path',\n",
    "#             path='M 100,65 Q 65,65 65,100',\n",
    "#             line_color='green'\n",
    "#         ),\n",
    "#         dict (\n",
    "#             type='path',\n",
    "#             path='M 0,60 Q 60,60 60,0',\n",
    "#             line_color='orange',\n",
    "#         )\n",
    "\n",
    "#     ]\n",
    "# )\n",
    "\n",
    "fig.update_annotations()\n"
   ]
  },
  {
   "cell_type": "markdown",
   "metadata": {},
   "source": [
    "Create scatter of Availability and Performance to highlight how many sites are not currently hitting 60%/65% OEE targets (for June and Dec 2022).  The 20th percentile line shows how many lines would be dropped if you were to concentrate on getting the 'top' 80% of the lines above the target line."
   ]
  },
  {
   "cell_type": "code",
   "execution_count": 44,
   "metadata": {},
   "outputs": [
    {
     "data": {
      "text/plain": [
       "Text(0.5, 1.0, 'Rolling avg Availability/Performance since 2021-11-01')"
      ]
     },
     "execution_count": 44,
     "metadata": {},
     "output_type": "execute_result"
    },
    {
     "data": {
      "image/png": "[encoded data removed]",
      "text/plain": [
       "<Figure size 864x864 with 1 Axes>"
      ]
     },
     "metadata": {},
     "output_type": "display_data"
    }
   ],
   "source": [
    "def oee_line(x, target):\n",
    "    y = (target/x)\n",
    "    return y\n",
    "\n",
    "x = active_rolling['Availability %']\n",
    "y = active_rolling['Performance %']\n",
    "\n",
    "plt.style.use('fivethirtyeight')\n",
    "\n",
    "plt.figure(figsize=(12,12))\n",
    "\n",
    "# ['Line', 'Date', 'OEE %', 'Performance %', 'Availability %', 'Plant']\n",
    "data = active_rolling.groupby('Plant')[['Availability %','Performance %']].rolling(window=4).mean().reset_index()\n",
    "\n",
    "plt\n",
    "\n",
    "for plant in data.Plant.unique():\n",
    "    plt.scatter(data[data.Plant == plant]['Availability %'], data[data.Plant == plant]['Performance %'], label=plant)\n",
    "\n",
    "    # plt.xlim(0, 100)\n",
    "    # plt.ylim(0, 100)\n",
    "\n",
    "plt.plot(np.linspace(.001,100,100), oee_line(np.linspace(.00001,1,100), 60), c='orange', lw=3, ls='--', label='_60% June 2022 Target')\n",
    "plt.annotate(xy=(100,60), text='60% June 2022 Target')\n",
    "plt.plot(np.linspace(.001,100,100), oee_line(np.linspace(.00001,1,100), 65), c='green', lw=3, ls='--', label='_65% December 2022 Target')\n",
    "plt.annotate(xy=(100,65), text='65% Dec 2022 Target')\n",
    "for pct in [20]:\n",
    "    pctl = int(np.percentile(active_rolling['OEE %'], pct))\n",
    "    plt.plot(np.linspace(.001,100,100), oee_line(np.linspace(.00001,1,100), pctl), c='gray', lw=3, ls='--', label='_{}%'.format(pctl))\n",
    "    plt.annotate(xy=(100,pctl), text='{}th percentile - {}% OEE'.format(pct, pctl))\n",
    "for pct in [20,30,40,50]:\n",
    "    plt.plot(np.linspace(.001,100,100), oee_line(np.linspace(.00001,1,100), pct), c='gray', lw=3, ls='--', label='_{}%'.format(pct))\n",
    "    plt.annotate(xy=(100,pct), text='{}% OEE'.format(pct))\n",
    "plt.xlim(0,100)\n",
    "plt.ylim(0,100)\n",
    "plt.xlabel('Availability')\n",
    "plt.ylabel('Performance')\n",
    "plt.legend()\n",
    "plt.title('Rolling avg Availability/Performance since {}'.format(start_date))\n"
   ]
  },
  {
   "cell_type": "code",
   "execution_count": 16,
   "metadata": {},
   "outputs": [],
   "source": [
    "rank = active_rolling.groupby('Line').mean().rank(pct=True)"
   ]
  },
  {
   "cell_type": "code",
   "execution_count": 17,
   "metadata": {},
   "outputs": [
    {
     "name": "stdout",
     "output_type": "stream",
     "text": [
      "59.50121561797408\n",
      "nan\n",
      "69.11942633603262\n",
      "nan\n"
     ]
    },
    {
     "data": {
      "text/html": [
       "<div>\n",
       "<style scoped>\n",
       "    .dataframe tbody tr th:only-of-type {\n",
       "        vertical-align: middle;\n",
       "    }\n",
       "\n",
       "    .dataframe tbody tr th {\n",
       "        vertical-align: top;\n",
       "    }\n",
       "\n",
       "    .dataframe thead th {\n",
       "        text-align: right;\n",
       "    }\n",
       "</style>\n",
       "<table border=\"1\" class=\"dataframe\">\n",
       "  <thead>\n",
       "    <tr style=\"text-align: right;\">\n",
       "      <th></th>\n",
       "      <th>OEE %</th>\n",
       "      <th>Performance %</th>\n",
       "      <th>Availability %</th>\n",
       "      <th>Quality %</th>\n",
       "    </tr>\n",
       "  </thead>\n",
       "  <tbody>\n",
       "    <tr>\n",
       "      <th>count</th>\n",
       "      <td>913.000000</td>\n",
       "      <td>885.000000</td>\n",
       "      <td>913.000000</td>\n",
       "      <td>831.000000</td>\n",
       "    </tr>\n",
       "    <tr>\n",
       "      <th>mean</th>\n",
       "      <td>50.366837</td>\n",
       "      <td>100.550503</td>\n",
       "      <td>55.227368</td>\n",
       "      <td>99.614225</td>\n",
       "    </tr>\n",
       "    <tr>\n",
       "      <th>std</th>\n",
       "      <td>76.732291</td>\n",
       "      <td>206.054558</td>\n",
       "      <td>16.912014</td>\n",
       "      <td>1.281742</td>\n",
       "    </tr>\n",
       "    <tr>\n",
       "      <th>min</th>\n",
       "      <td>0.000000</td>\n",
       "      <td>-42.717650</td>\n",
       "      <td>-60.876916</td>\n",
       "      <td>89.823088</td>\n",
       "    </tr>\n",
       "    <tr>\n",
       "      <th>25%</th>\n",
       "      <td>35.104586</td>\n",
       "      <td>71.846973</td>\n",
       "      <td>45.357557</td>\n",
       "      <td>99.981931</td>\n",
       "    </tr>\n",
       "    <tr>\n",
       "      <th>50%</th>\n",
       "      <td>47.089269</td>\n",
       "      <td>83.412886</td>\n",
       "      <td>57.671907</td>\n",
       "      <td>100.000000</td>\n",
       "    </tr>\n",
       "    <tr>\n",
       "      <th>75%</th>\n",
       "      <td>56.713171</td>\n",
       "      <td>93.306048</td>\n",
       "      <td>66.941394</td>\n",
       "      <td>100.000000</td>\n",
       "    </tr>\n",
       "    <tr>\n",
       "      <th>max</th>\n",
       "      <td>1233.664000</td>\n",
       "      <td>3237.052346</td>\n",
       "      <td>93.130278</td>\n",
       "      <td>100.000000</td>\n",
       "    </tr>\n",
       "  </tbody>\n",
       "</table>\n",
       "</div>"
      ],
      "text/plain": [
       "             OEE %  Performance %  Availability %   Quality %\n",
       "count   913.000000     885.000000      913.000000  831.000000\n",
       "mean     50.366837     100.550503       55.227368   99.614225\n",
       "std      76.732291     206.054558       16.912014    1.281742\n",
       "min       0.000000     -42.717650      -60.876916   89.823088\n",
       "25%      35.104586      71.846973       45.357557   99.981931\n",
       "50%      47.089269      83.412886       57.671907  100.000000\n",
       "75%      56.713171      93.306048       66.941394  100.000000\n",
       "max    1233.664000    3237.052346       93.130278  100.000000"
      ]
     },
     "execution_count": 17,
     "metadata": {},
     "output_type": "execute_result"
    }
   ],
   "source": [
    "for metric in ['OEE %','Performance %','Availability %','Quality %']:\n",
    "    print (np.percentile(active_rolling[metric],80))\n",
    "\n",
    "active_rolling.describe()"
   ]
  },
  {
   "cell_type": "code",
   "execution_count": 18,
   "metadata": {},
   "outputs": [],
   "source": [
    "active_rolling['category'] = pd.qcut(active_rolling['OEE %'], 5, labels=False)"
   ]
  },
  {
   "cell_type": "code",
   "execution_count": 19,
   "metadata": {},
   "outputs": [
    {
     "data": {
      "text/plain": [
       "[Text(0.5, 0, '%')]"
      ]
     },
     "execution_count": 19,
     "metadata": {},
     "output_type": "execute_result"
    },
    {
     "data": {
      "image/png": "[encoded data removed]",
      "text/plain": [
       "<Figure size 432x288 with 1 Axes>"
      ]
     },
     "metadata": {},
     "output_type": "display_data"
    }
   ],
   "source": [
    "import seaborn as sns\n",
    "ax = sns.ecdfplot(data=active_rolling[['OEE %','Performance %','Availability %', 'Quality %']])\n",
    "ax.set(xlim=(0,100))\n",
    "ax.set(xlabel='%')"
   ]
  },
  {
   "cell_type": "code",
   "execution_count": 20,
   "metadata": {},
   "outputs": [
    {
     "data": {
      "text/plain": [
       "Date\n",
       "2019-12-29    102.448753\n",
       "2020-01-05    135.908386\n",
       "2020-01-05    100.762910\n",
       "2020-02-09    104.115826\n",
       "2020-02-16    101.396788\n",
       "                 ...    \n",
       "2021-12-19    121.463762\n",
       "2021-12-19    137.228895\n",
       "2021-12-19    176.797861\n",
       "2021-12-19    138.954887\n",
       "2021-12-19    471.391135\n",
       "Name: Performance %, Length: 869, dtype: float64"
      ]
     },
     "execution_count": 20,
     "metadata": {},
     "output_type": "execute_result"
    }
   ],
   "source": [
    "df[df['Performance %'] > 100]['Performance %']"
   ]
  },
  {
   "cell_type": "markdown",
   "metadata": {},
   "source": [
    "Calculate OEE using the individual metrics and see whether the provided OEE% is accurate"
   ]
  },
  {
   "cell_type": "code",
   "execution_count": 21,
   "metadata": {},
   "outputs": [],
   "source": [
    "active_rolling['CalcOEE'] = active_rolling['Performance %'] * active_rolling['Availability %'] * active_rolling['Quality %']/10000"
   ]
  },
  {
   "cell_type": "code",
   "execution_count": 22,
   "metadata": {},
   "outputs": [],
   "source": [
    "active_rolling['OEECalcDiff'] = (active_rolling['OEE %']/active_rolling['CalcOEE'])"
   ]
  },
  {
   "cell_type": "markdown",
   "metadata": {},
   "source": [
    "Scatter plot the reported OEE% against our calculated OEE%"
   ]
  },
  {
   "cell_type": "code",
   "execution_count": 30,
   "metadata": {},
   "outputs": [
    {
     "data": {
      "text/plain": [
       "Text(0.5, 1.0, 'Reported OEE % versus Calculated OEE %')"
      ]
     },
     "execution_count": 30,
     "metadata": {},
     "output_type": "execute_result"
    },
    {
     "data": {
      "image/png": "[encoded data removed]",
      "text/plain": [
       "<Figure size 720x576 with 1 Axes>"
      ]
     },
     "metadata": {},
     "output_type": "display_data"
    }
   ],
   "source": [
    "\n",
    "sns.set(rc={\"figure.figsize\":(10,8)})\n",
    "sns.scatterplot(data=active_rolling, x='OEE %', y='CalcOEE')\n",
    "plt.ylim(0,100)\n",
    "plt.xlim(0,100)\n",
    "plt.title('Reported OEE % versus Calculated OEE %')\n",
    "\n",
    "\n"
   ]
  },
  {
   "cell_type": "code",
   "execution_count": 24,
   "metadata": {},
   "outputs": [],
   "source": [
    "active_rolling.OEECalcDiff.fillna(0, inplace=True)"
   ]
  },
  {
   "cell_type": "code",
   "execution_count": 25,
   "metadata": {},
   "outputs": [
    {
     "data": {
      "text/html": [
       "<div>\n",
       "<style scoped>\n",
       "    .dataframe tbody tr th:only-of-type {\n",
       "        vertical-align: middle;\n",
       "    }\n",
       "\n",
       "    .dataframe tbody tr th {\n",
       "        vertical-align: top;\n",
       "    }\n",
       "\n",
       "    .dataframe thead th {\n",
       "        text-align: right;\n",
       "    }\n",
       "</style>\n",
       "<table border=\"1\" class=\"dataframe\">\n",
       "  <thead>\n",
       "    <tr style=\"text-align: right;\">\n",
       "      <th></th>\n",
       "      <th>OEE %</th>\n",
       "      <th>CalcOEE</th>\n",
       "      <th>OEECalcDiff</th>\n",
       "    </tr>\n",
       "  </thead>\n",
       "  <tbody>\n",
       "    <tr>\n",
       "      <th>count</th>\n",
       "      <td>913.000000</td>\n",
       "      <td>831.000000</td>\n",
       "      <td>913.000000</td>\n",
       "    </tr>\n",
       "    <tr>\n",
       "      <th>mean</th>\n",
       "      <td>50.366837</td>\n",
       "      <td>53.544940</td>\n",
       "      <td>0.721507</td>\n",
       "    </tr>\n",
       "    <tr>\n",
       "      <th>std</th>\n",
       "      <td>76.732291</td>\n",
       "      <td>84.251256</td>\n",
       "      <td>4.401374</td>\n",
       "    </tr>\n",
       "    <tr>\n",
       "      <th>min</th>\n",
       "      <td>0.000000</td>\n",
       "      <td>-1.155560</td>\n",
       "      <td>-126.800882</td>\n",
       "    </tr>\n",
       "    <tr>\n",
       "      <th>25%</th>\n",
       "      <td>35.104586</td>\n",
       "      <td>37.970485</td>\n",
       "      <td>0.990708</td>\n",
       "    </tr>\n",
       "    <tr>\n",
       "      <th>50%</th>\n",
       "      <td>47.089269</td>\n",
       "      <td>48.699289</td>\n",
       "      <td>0.999641</td>\n",
       "    </tr>\n",
       "    <tr>\n",
       "      <th>75%</th>\n",
       "      <td>56.713171</td>\n",
       "      <td>57.991509</td>\n",
       "      <td>1.002893</td>\n",
       "    </tr>\n",
       "    <tr>\n",
       "      <th>max</th>\n",
       "      <td>1233.664000</td>\n",
       "      <td>1352.962638</td>\n",
       "      <td>2.160654</td>\n",
       "    </tr>\n",
       "  </tbody>\n",
       "</table>\n",
       "</div>"
      ],
      "text/plain": [
       "             OEE %      CalcOEE  OEECalcDiff\n",
       "count   913.000000   831.000000   913.000000\n",
       "mean     50.366837    53.544940     0.721507\n",
       "std      76.732291    84.251256     4.401374\n",
       "min       0.000000    -1.155560  -126.800882\n",
       "25%      35.104586    37.970485     0.990708\n",
       "50%      47.089269    48.699289     0.999641\n",
       "75%      56.713171    57.991509     1.002893\n",
       "max    1233.664000  1352.962638     2.160654"
      ]
     },
     "execution_count": 25,
     "metadata": {},
     "output_type": "execute_result"
    }
   ],
   "source": [
    "active_rolling[['OEE %','CalcOEE', 'OEECalcDiff']].describe()"
   ]
  },
  {
   "cell_type": "code",
   "execution_count": 26,
   "metadata": {},
   "outputs": [
    {
     "data": {
      "text/html": [
       "<div>\n",
       "<style scoped>\n",
       "    .dataframe tbody tr th:only-of-type {\n",
       "        vertical-align: middle;\n",
       "    }\n",
       "\n",
       "    .dataframe tbody tr th {\n",
       "        vertical-align: top;\n",
       "    }\n",
       "\n",
       "    .dataframe thead th {\n",
       "        text-align: right;\n",
       "    }\n",
       "</style>\n",
       "<table border=\"1\" class=\"dataframe\">\n",
       "  <thead>\n",
       "    <tr style=\"text-align: right;\">\n",
       "      <th></th>\n",
       "      <th>Line</th>\n",
       "      <th>Date</th>\n",
       "      <th>OEE %</th>\n",
       "      <th>Performance %</th>\n",
       "      <th>Availability %</th>\n",
       "      <th>Quality %</th>\n",
       "      <th>Plant</th>\n",
       "      <th>category</th>\n",
       "      <th>CalcOEE</th>\n",
       "      <th>OEECalcDiff</th>\n",
       "    </tr>\n",
       "  </thead>\n",
       "  <tbody>\n",
       "    <tr>\n",
       "      <th>2888</th>\n",
       "      <td>LLB - IMA-1 Packaging (SOLD)</td>\n",
       "      <td>2021-11-14</td>\n",
       "      <td>107.707870</td>\n",
       "      <td>148.524727</td>\n",
       "      <td>73.016288</td>\n",
       "      <td>100.0</td>\n",
       "      <td>LLB</td>\n",
       "      <td>4</td>\n",
       "      <td>108.447242</td>\n",
       "      <td>0.993182</td>\n",
       "    </tr>\n",
       "    <tr>\n",
       "      <th>9107</th>\n",
       "      <td>WAT - LYO INSPECTION</td>\n",
       "      <td>2021-11-21</td>\n",
       "      <td>1118.646068</td>\n",
       "      <td>2877.930563</td>\n",
       "      <td>42.497913</td>\n",
       "      <td>100.0</td>\n",
       "      <td>WAT</td>\n",
       "      <td>4</td>\n",
       "      <td>1223.060428</td>\n",
       "      <td>0.914629</td>\n",
       "    </tr>\n",
       "    <tr>\n",
       "      <th>9108</th>\n",
       "      <td>WAT - LYO INSPECTION</td>\n",
       "      <td>2021-11-28</td>\n",
       "      <td>1233.664000</td>\n",
       "      <td>3237.052346</td>\n",
       "      <td>41.796131</td>\n",
       "      <td>100.0</td>\n",
       "      <td>WAT</td>\n",
       "      <td>4</td>\n",
       "      <td>1352.962638</td>\n",
       "      <td>0.911824</td>\n",
       "    </tr>\n",
       "    <tr>\n",
       "      <th>9109</th>\n",
       "      <td>WAT - LYO INSPECTION</td>\n",
       "      <td>2021-12-05</td>\n",
       "      <td>1170.555865</td>\n",
       "      <td>3016.149778</td>\n",
       "      <td>43.004340</td>\n",
       "      <td>100.0</td>\n",
       "      <td>WAT</td>\n",
       "      <td>4</td>\n",
       "      <td>1297.075314</td>\n",
       "      <td>0.902458</td>\n",
       "    </tr>\n",
       "    <tr>\n",
       "      <th>9110</th>\n",
       "      <td>WAT - LYO INSPECTION</td>\n",
       "      <td>2021-12-12</td>\n",
       "      <td>1169.677728</td>\n",
       "      <td>3024.015320</td>\n",
       "      <td>35.108300</td>\n",
       "      <td>100.0</td>\n",
       "      <td>WAT</td>\n",
       "      <td>4</td>\n",
       "      <td>1061.680378</td>\n",
       "      <td>1.101723</td>\n",
       "    </tr>\n",
       "    <tr>\n",
       "      <th>9111</th>\n",
       "      <td>WAT - LYO INSPECTION</td>\n",
       "      <td>2021-12-19</td>\n",
       "      <td>159.205392</td>\n",
       "      <td>474.459482</td>\n",
       "      <td>41.956351</td>\n",
       "      <td>100.0</td>\n",
       "      <td>WAT</td>\n",
       "      <td>4</td>\n",
       "      <td>199.065884</td>\n",
       "      <td>0.799762</td>\n",
       "    </tr>\n",
       "  </tbody>\n",
       "</table>\n",
       "</div>"
      ],
      "text/plain": [
       "                              Line       Date        OEE %  Performance %  \\\n",
       "2888  LLB - IMA-1 Packaging (SOLD) 2021-11-14   107.707870     148.524727   \n",
       "9107          WAT - LYO INSPECTION 2021-11-21  1118.646068    2877.930563   \n",
       "9108          WAT - LYO INSPECTION 2021-11-28  1233.664000    3237.052346   \n",
       "9109          WAT - LYO INSPECTION 2021-12-05  1170.555865    3016.149778   \n",
       "9110          WAT - LYO INSPECTION 2021-12-12  1169.677728    3024.015320   \n",
       "9111          WAT - LYO INSPECTION 2021-12-19   159.205392     474.459482   \n",
       "\n",
       "      Availability %  Quality % Plant  category      CalcOEE  OEECalcDiff  \n",
       "2888       73.016288      100.0   LLB         4   108.447242     0.993182  \n",
       "9107       42.497913      100.0   WAT         4  1223.060428     0.914629  \n",
       "9108       41.796131      100.0   WAT         4  1352.962638     0.911824  \n",
       "9109       43.004340      100.0   WAT         4  1297.075314     0.902458  \n",
       "9110       35.108300      100.0   WAT         4  1061.680378     1.101723  \n",
       "9111       41.956351      100.0   WAT         4   199.065884     0.799762  "
      ]
     },
     "execution_count": 26,
     "metadata": {},
     "output_type": "execute_result"
    }
   ],
   "source": [
    "active_rolling[active_rolling['OEE %'] > 100]"
   ]
  },
  {
   "cell_type": "code",
   "execution_count": 27,
   "metadata": {},
   "outputs": [
    {
     "data": {
      "text/html": [
       "<div>\n",
       "<style scoped>\n",
       "    .dataframe tbody tr th:only-of-type {\n",
       "        vertical-align: middle;\n",
       "    }\n",
       "\n",
       "    .dataframe tbody tr th {\n",
       "        vertical-align: top;\n",
       "    }\n",
       "\n",
       "    .dataframe thead th {\n",
       "        text-align: right;\n",
       "    }\n",
       "</style>\n",
       "<table border=\"1\" class=\"dataframe\">\n",
       "  <thead>\n",
       "    <tr style=\"text-align: right;\">\n",
       "      <th></th>\n",
       "      <th>Line</th>\n",
       "      <th>Date</th>\n",
       "      <th>OEE %</th>\n",
       "      <th>Performance %</th>\n",
       "      <th>Availability %</th>\n",
       "      <th>Quality %</th>\n",
       "      <th>Plant</th>\n",
       "      <th>category</th>\n",
       "      <th>CalcOEE</th>\n",
       "      <th>OEECalcDiff</th>\n",
       "    </tr>\n",
       "  </thead>\n",
       "  <tbody>\n",
       "    <tr>\n",
       "      <th>24</th>\n",
       "      <td>ELB - Extraction B12 1st cycle</td>\n",
       "      <td>2021-11-07</td>\n",
       "      <td>79.533013</td>\n",
       "      <td>172.574119</td>\n",
       "      <td>47.490781</td>\n",
       "      <td>100.000000</td>\n",
       "      <td>ELB</td>\n",
       "      <td>4</td>\n",
       "      <td>81.956797</td>\n",
       "      <td>0.970426</td>\n",
       "    </tr>\n",
       "    <tr>\n",
       "      <th>25</th>\n",
       "      <td>ELB - Extraction B12 1st cycle</td>\n",
       "      <td>2021-11-14</td>\n",
       "      <td>82.036803</td>\n",
       "      <td>154.393102</td>\n",
       "      <td>53.593807</td>\n",
       "      <td>100.000000</td>\n",
       "      <td>ELB</td>\n",
       "      <td>4</td>\n",
       "      <td>82.745141</td>\n",
       "      <td>0.991440</td>\n",
       "    </tr>\n",
       "    <tr>\n",
       "      <th>26</th>\n",
       "      <td>ELB - Extraction B12 1st cycle</td>\n",
       "      <td>2021-11-21</td>\n",
       "      <td>85.537994</td>\n",
       "      <td>158.633616</td>\n",
       "      <td>54.358192</td>\n",
       "      <td>100.000000</td>\n",
       "      <td>ELB</td>\n",
       "      <td>4</td>\n",
       "      <td>86.230365</td>\n",
       "      <td>0.991971</td>\n",
       "    </tr>\n",
       "    <tr>\n",
       "      <th>27</th>\n",
       "      <td>ELB - Extraction B12 1st cycle</td>\n",
       "      <td>2021-11-28</td>\n",
       "      <td>71.608727</td>\n",
       "      <td>103.289031</td>\n",
       "      <td>32.086806</td>\n",
       "      <td>100.000000</td>\n",
       "      <td>ELB</td>\n",
       "      <td>4</td>\n",
       "      <td>33.142150</td>\n",
       "      <td>2.160654</td>\n",
       "    </tr>\n",
       "    <tr>\n",
       "      <th>276</th>\n",
       "      <td>ELB - FERMENTATION V09</td>\n",
       "      <td>2021-11-07</td>\n",
       "      <td>67.102706</td>\n",
       "      <td>106.529243</td>\n",
       "      <td>64.460507</td>\n",
       "      <td>100.000000</td>\n",
       "      <td>ELB</td>\n",
       "      <td>4</td>\n",
       "      <td>68.669291</td>\n",
       "      <td>0.977187</td>\n",
       "    </tr>\n",
       "    <tr>\n",
       "      <th>...</th>\n",
       "      <td>...</td>\n",
       "      <td>...</td>\n",
       "      <td>...</td>\n",
       "      <td>...</td>\n",
       "      <td>...</td>\n",
       "      <td>...</td>\n",
       "      <td>...</td>\n",
       "      <td>...</td>\n",
       "      <td>...</td>\n",
       "      <td>...</td>\n",
       "    </tr>\n",
       "    <tr>\n",
       "      <th>9125</th>\n",
       "      <td>WAT - LYO Packaging Line 9</td>\n",
       "      <td>2021-11-21</td>\n",
       "      <td>22.241672</td>\n",
       "      <td>104.153394</td>\n",
       "      <td>23.663588</td>\n",
       "      <td>94.774818</td>\n",
       "      <td>WAT</td>\n",
       "      <td>0</td>\n",
       "      <td>23.358609</td>\n",
       "      <td>0.952183</td>\n",
       "    </tr>\n",
       "    <tr>\n",
       "      <th>9126</th>\n",
       "      <td>WAT - LYO Packaging Line 9</td>\n",
       "      <td>2021-11-28</td>\n",
       "      <td>26.462903</td>\n",
       "      <td>126.347437</td>\n",
       "      <td>22.711537</td>\n",
       "      <td>94.364311</td>\n",
       "      <td>WAT</td>\n",
       "      <td>0</td>\n",
       "      <td>27.078259</td>\n",
       "      <td>0.977275</td>\n",
       "    </tr>\n",
       "    <tr>\n",
       "      <th>9127</th>\n",
       "      <td>WAT - LYO Packaging Line 9</td>\n",
       "      <td>2021-12-05</td>\n",
       "      <td>30.637254</td>\n",
       "      <td>164.660714</td>\n",
       "      <td>20.307421</td>\n",
       "      <td>94.987313</td>\n",
       "      <td>WAT</td>\n",
       "      <td>0</td>\n",
       "      <td>31.762185</td>\n",
       "      <td>0.964583</td>\n",
       "    </tr>\n",
       "    <tr>\n",
       "      <th>9128</th>\n",
       "      <td>WAT - LYO Packaging Line 9</td>\n",
       "      <td>2021-12-12</td>\n",
       "      <td>31.072512</td>\n",
       "      <td>152.580751</td>\n",
       "      <td>22.470949</td>\n",
       "      <td>95.569884</td>\n",
       "      <td>WAT</td>\n",
       "      <td>0</td>\n",
       "      <td>32.767419</td>\n",
       "      <td>0.948275</td>\n",
       "    </tr>\n",
       "    <tr>\n",
       "      <th>9129</th>\n",
       "      <td>WAT - LYO Packaging Line 9</td>\n",
       "      <td>2021-12-19</td>\n",
       "      <td>34.970994</td>\n",
       "      <td>157.110743</td>\n",
       "      <td>24.717635</td>\n",
       "      <td>94.629279</td>\n",
       "      <td>WAT</td>\n",
       "      <td>1</td>\n",
       "      <td>36.748390</td>\n",
       "      <td>0.951633</td>\n",
       "    </tr>\n",
       "  </tbody>\n",
       "</table>\n",
       "<p>129 rows × 10 columns</p>\n",
       "</div>"
      ],
      "text/plain": [
       "                                Line       Date      OEE %  Performance %  \\\n",
       "24    ELB - Extraction B12 1st cycle 2021-11-07  79.533013     172.574119   \n",
       "25    ELB - Extraction B12 1st cycle 2021-11-14  82.036803     154.393102   \n",
       "26    ELB - Extraction B12 1st cycle 2021-11-21  85.537994     158.633616   \n",
       "27    ELB - Extraction B12 1st cycle 2021-11-28  71.608727     103.289031   \n",
       "276           ELB - FERMENTATION V09 2021-11-07  67.102706     106.529243   \n",
       "...                              ...        ...        ...            ...   \n",
       "9125      WAT - LYO Packaging Line 9 2021-11-21  22.241672     104.153394   \n",
       "9126      WAT - LYO Packaging Line 9 2021-11-28  26.462903     126.347437   \n",
       "9127      WAT - LYO Packaging Line 9 2021-12-05  30.637254     164.660714   \n",
       "9128      WAT - LYO Packaging Line 9 2021-12-12  31.072512     152.580751   \n",
       "9129      WAT - LYO Packaging Line 9 2021-12-19  34.970994     157.110743   \n",
       "\n",
       "      Availability %   Quality % Plant  category    CalcOEE  OEECalcDiff  \n",
       "24         47.490781  100.000000   ELB         4  81.956797     0.970426  \n",
       "25         53.593807  100.000000   ELB         4  82.745141     0.991440  \n",
       "26         54.358192  100.000000   ELB         4  86.230365     0.991971  \n",
       "27         32.086806  100.000000   ELB         4  33.142150     2.160654  \n",
       "276        64.460507  100.000000   ELB         4  68.669291     0.977187  \n",
       "...              ...         ...   ...       ...        ...          ...  \n",
       "9125       23.663588   94.774818   WAT         0  23.358609     0.952183  \n",
       "9126       22.711537   94.364311   WAT         0  27.078259     0.977275  \n",
       "9127       20.307421   94.987313   WAT         0  31.762185     0.964583  \n",
       "9128       22.470949   95.569884   WAT         0  32.767419     0.948275  \n",
       "9129       24.717635   94.629279   WAT         1  36.748390     0.951633  \n",
       "\n",
       "[129 rows x 10 columns]"
      ]
     },
     "execution_count": 27,
     "metadata": {},
     "output_type": "execute_result"
    }
   ],
   "source": [
    "active_rolling[active_rolling['Performance %'] > 100]"
   ]
  },
  {
   "cell_type": "code",
   "execution_count": 28,
   "metadata": {},
   "outputs": [
    {
     "data": {
      "text/html": [
       "<div>\n",
       "<style scoped>\n",
       "    .dataframe tbody tr th:only-of-type {\n",
       "        vertical-align: middle;\n",
       "    }\n",
       "\n",
       "    .dataframe tbody tr th {\n",
       "        vertical-align: top;\n",
       "    }\n",
       "\n",
       "    .dataframe thead th {\n",
       "        text-align: right;\n",
       "    }\n",
       "</style>\n",
       "<table border=\"1\" class=\"dataframe\">\n",
       "  <thead>\n",
       "    <tr style=\"text-align: right;\">\n",
       "      <th></th>\n",
       "      <th>OEE %</th>\n",
       "      <th>Performance %</th>\n",
       "      <th>Availability %</th>\n",
       "    </tr>\n",
       "  </thead>\n",
       "  <tbody>\n",
       "    <tr>\n",
       "      <th>count</th>\n",
       "      <td>913.000000</td>\n",
       "      <td>885.000000</td>\n",
       "      <td>913.000000</td>\n",
       "    </tr>\n",
       "    <tr>\n",
       "      <th>mean</th>\n",
       "      <td>50.366837</td>\n",
       "      <td>100.550503</td>\n",
       "      <td>55.227368</td>\n",
       "    </tr>\n",
       "    <tr>\n",
       "      <th>std</th>\n",
       "      <td>76.732291</td>\n",
       "      <td>206.054558</td>\n",
       "      <td>16.912014</td>\n",
       "    </tr>\n",
       "    <tr>\n",
       "      <th>min</th>\n",
       "      <td>0.000000</td>\n",
       "      <td>-42.717650</td>\n",
       "      <td>-60.876916</td>\n",
       "    </tr>\n",
       "    <tr>\n",
       "      <th>25%</th>\n",
       "      <td>35.104586</td>\n",
       "      <td>71.846973</td>\n",
       "      <td>45.357557</td>\n",
       "    </tr>\n",
       "    <tr>\n",
       "      <th>50%</th>\n",
       "      <td>47.089269</td>\n",
       "      <td>83.412886</td>\n",
       "      <td>57.671907</td>\n",
       "    </tr>\n",
       "    <tr>\n",
       "      <th>75%</th>\n",
       "      <td>56.713171</td>\n",
       "      <td>93.306048</td>\n",
       "      <td>66.941394</td>\n",
       "    </tr>\n",
       "    <tr>\n",
       "      <th>max</th>\n",
       "      <td>1233.664000</td>\n",
       "      <td>3237.052346</td>\n",
       "      <td>93.130278</td>\n",
       "    </tr>\n",
       "  </tbody>\n",
       "</table>\n",
       "</div>"
      ],
      "text/plain": [
       "             OEE %  Performance %  Availability %\n",
       "count   913.000000     885.000000      913.000000\n",
       "mean     50.366837     100.550503       55.227368\n",
       "std      76.732291     206.054558       16.912014\n",
       "min       0.000000     -42.717650      -60.876916\n",
       "25%      35.104586      71.846973       45.357557\n",
       "50%      47.089269      83.412886       57.671907\n",
       "75%      56.713171      93.306048       66.941394\n",
       "max    1233.664000    3237.052346       93.130278"
      ]
     },
     "execution_count": 28,
     "metadata": {},
     "output_type": "execute_result"
    }
   ],
   "source": [
    "active_rolling[['OEE %','Performance %','Availability %']].describe()"
   ]
  },
  {
   "cell_type": "code",
   "execution_count": null,
   "metadata": {},
   "outputs": [],
   "source": []
  },
  {
   "cell_type": "code",
   "execution_count": null,
   "metadata": {},
   "outputs": [],
   "source": []
  }
 ],
 "metadata": {
  "interpreter": {
   "hash": "dc38ca91b741400ca81ff193f73ec074f6545a5dbac62412cc25190e340b3fbc"
  },
  "kernelspec": {
   "display_name": "Python 3",
   "language": "python",
   "name": "python3"
  },
  "language_info": {
   "codemirror_mode": {
    "name": "ipython",
    "version": 3
   },
   "file_extension": ".py",
   "mimetype": "text/x-python",
   "name": "python",
   "nbconvert_exporter": "python",
   "pygments_lexer": "ipython3",
   "version": "3.9.9"
  }
 },
 "nbformat": 4,
 "nbformat_minor": 2
}
