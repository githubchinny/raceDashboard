{
 "cells": [
  {
   "cell_type": "markdown",
   "metadata": {
    "pycharm": {
     "name": "#%% md\n"
    }
   },
   "source": [
    "# Sanofi Paul Ricard\n",
    "This notebook is being used to generate a nice image of cars around the Paul Ricard ciruit."
   ]
  },
  {
   "cell_type": "code",
   "execution_count": 1,
   "metadata": {
    "pycharm": {
     "name": "#%%\n"
    }
   },
   "outputs": [],
   "source": [
    "# import libraries\n",
    "import plotly.graph_objects as go\n",
    "import pandas as pd\n",
    "import fastf1 as ff1\n",
    "import numpy as np"
   ]
  },
  {
   "cell_type": "code",
   "execution_count": 2,
   "metadata": {
    "pycharm": {
     "name": "#%%\n"
    }
   },
   "outputs": [
    {
     "data": {
      "text/html": [
       "<div>\n",
       "<style scoped>\n",
       "    .dataframe tbody tr th:only-of-type {\n",
       "        vertical-align: middle;\n",
       "    }\n",
       "\n",
       "    .dataframe tbody tr th {\n",
       "        vertical-align: top;\n",
       "    }\n",
       "\n",
       "    .dataframe thead th {\n",
       "        text-align: right;\n",
       "    }\n",
       "</style>\n",
       "<table border=\"1\" class=\"dataframe\">\n",
       "  <thead>\n",
       "    <tr style=\"text-align: right;\">\n",
       "      <th></th>\n",
       "      <th>Unnamed: 0</th>\n",
       "      <th>Line</th>\n",
       "      <th>2021-04-15 00:00:00</th>\n",
       "      <th>2021-05-13 00:00:00</th>\n",
       "      <th>2021-06-10 00:00:00</th>\n",
       "      <th>2021-07-08 00:00:00</th>\n",
       "      <th>race_time</th>\n",
       "      <th>prev_race_time</th>\n",
       "      <th>Plant</th>\n",
       "      <th>position</th>\n",
       "      <th>...</th>\n",
       "      <th>Gain/Loss</th>\n",
       "      <th>interval</th>\n",
       "      <th>OEE  Start point</th>\n",
       "      <th>⇗ OEE% progress</th>\n",
       "      <th>OEE% Target (2022)</th>\n",
       "      <th>apr_position</th>\n",
       "      <th>temp_race_time</th>\n",
       "      <th>may_position</th>\n",
       "      <th>jun_position</th>\n",
       "      <th>jly_position</th>\n",
       "    </tr>\n",
       "  </thead>\n",
       "  <tbody>\n",
       "    <tr>\n",
       "      <th>0</th>\n",
       "      <td>0</td>\n",
       "      <td>GAMMA1</td>\n",
       "      <td>89.153727</td>\n",
       "      <td>79.525767</td>\n",
       "      <td>79.076756</td>\n",
       "      <td>73.579194</td>\n",
       "      <td>321.335444</td>\n",
       "      <td>247.756250</td>\n",
       "      <td>SCOPPITO</td>\n",
       "      <td>1</td>\n",
       "      <td>...</td>\n",
       "      <td>0</td>\n",
       "      <td>NaN</td>\n",
       "      <td>0.418683</td>\n",
       "      <td>0.107661</td>\n",
       "      <td>0.650</td>\n",
       "      <td>10</td>\n",
       "      <td>321.335444</td>\n",
       "      <td>2</td>\n",
       "      <td>1</td>\n",
       "      <td>1</td>\n",
       "    </tr>\n",
       "    <tr>\n",
       "      <th>1</th>\n",
       "      <td>1</td>\n",
       "      <td>IMA C80/2</td>\n",
       "      <td>88.910416</td>\n",
       "      <td>79.456522</td>\n",
       "      <td>82.482693</td>\n",
       "      <td>77.474113</td>\n",
       "      <td>328.323744</td>\n",
       "      <td>250.849631</td>\n",
       "      <td>SCOPPITO</td>\n",
       "      <td>2</td>\n",
       "      <td>...</td>\n",
       "      <td>0</td>\n",
       "      <td>6.988299</td>\n",
       "      <td>0.451031</td>\n",
       "      <td>0.082125</td>\n",
       "      <td>0.650</td>\n",
       "      <td>5</td>\n",
       "      <td>328.323744</td>\n",
       "      <td>1</td>\n",
       "      <td>2</td>\n",
       "      <td>2</td>\n",
       "    </tr>\n",
       "    <tr>\n",
       "      <th>2</th>\n",
       "      <td>2</td>\n",
       "      <td>AL6</td>\n",
       "      <td>89.138010</td>\n",
       "      <td>90.323044</td>\n",
       "      <td>87.005598</td>\n",
       "      <td>75.556131</td>\n",
       "      <td>342.022783</td>\n",
       "      <td>266.466652</td>\n",
       "      <td>Frankfurt</td>\n",
       "      <td>3</td>\n",
       "      <td>...</td>\n",
       "      <td>5</td>\n",
       "      <td>13.699039</td>\n",
       "      <td>0.332657</td>\n",
       "      <td>-0.005371</td>\n",
       "      <td>0.485</td>\n",
       "      <td>9</td>\n",
       "      <td>342.022783</td>\n",
       "      <td>15</td>\n",
       "      <td>8</td>\n",
       "      <td>3</td>\n",
       "    </tr>\n",
       "    <tr>\n",
       "      <th>3</th>\n",
       "      <td>3</td>\n",
       "      <td>AL5 Packaging 1</td>\n",
       "      <td>89.248851</td>\n",
       "      <td>89.725754</td>\n",
       "      <td>90.495004</td>\n",
       "      <td>75.209946</td>\n",
       "      <td>344.679555</td>\n",
       "      <td>269.469609</td>\n",
       "      <td>Frankfurt</td>\n",
       "      <td>4</td>\n",
       "      <td>...</td>\n",
       "      <td>10</td>\n",
       "      <td>2.656772</td>\n",
       "      <td>0.479693</td>\n",
       "      <td>0.035382</td>\n",
       "      <td>0.500</td>\n",
       "      <td>11</td>\n",
       "      <td>344.679555</td>\n",
       "      <td>12</td>\n",
       "      <td>14</td>\n",
       "      <td>4</td>\n",
       "    </tr>\n",
       "    <tr>\n",
       "      <th>4</th>\n",
       "      <td>4</td>\n",
       "      <td>C9 Packaging Line</td>\n",
       "      <td>88.912817</td>\n",
       "      <td>89.747841</td>\n",
       "      <td>90.361488</td>\n",
       "      <td>76.980804</td>\n",
       "      <td>346.002950</td>\n",
       "      <td>269.022146</td>\n",
       "      <td>Maisons-Alfort</td>\n",
       "      <td>5</td>\n",
       "      <td>...</td>\n",
       "      <td>8</td>\n",
       "      <td>1.323395</td>\n",
       "      <td>0.419899</td>\n",
       "      <td>0.089002</td>\n",
       "      <td>0.530</td>\n",
       "      <td>6</td>\n",
       "      <td>346.002950</td>\n",
       "      <td>11</td>\n",
       "      <td>13</td>\n",
       "      <td>5</td>\n",
       "    </tr>\n",
       "  </tbody>\n",
       "</table>\n",
       "<p>5 rows × 22 columns</p>\n",
       "</div>"
      ],
      "text/plain": [
       "   Unnamed: 0               Line  2021-04-15 00:00:00  2021-05-13 00:00:00  \\\n",
       "0           0             GAMMA1            89.153727            79.525767   \n",
       "1           1          IMA C80/2            88.910416            79.456522   \n",
       "2           2                AL6            89.138010            90.323044   \n",
       "3           3    AL5 Packaging 1            89.248851            89.725754   \n",
       "4           4  C9 Packaging Line            88.912817            89.747841   \n",
       "\n",
       "   2021-06-10 00:00:00  2021-07-08 00:00:00   race_time  prev_race_time  \\\n",
       "0            79.076756            73.579194  321.335444      247.756250   \n",
       "1            82.482693            77.474113  328.323744      250.849631   \n",
       "2            87.005598            75.556131  342.022783      266.466652   \n",
       "3            90.495004            75.209946  344.679555      269.469609   \n",
       "4            90.361488            76.980804  346.002950      269.022146   \n",
       "\n",
       "            Plant  position  ...  Gain/Loss   interval  OEE  Start point  \\\n",
       "0        SCOPPITO         1  ...          0        NaN          0.418683   \n",
       "1        SCOPPITO         2  ...          0   6.988299          0.451031   \n",
       "2       Frankfurt         3  ...          5  13.699039          0.332657   \n",
       "3       Frankfurt         4  ...         10   2.656772          0.479693   \n",
       "4  Maisons-Alfort         5  ...          8   1.323395          0.419899   \n",
       "\n",
       "   ⇗ OEE% progress  OEE% Target (2022)  apr_position  temp_race_time  \\\n",
       "0         0.107661               0.650            10      321.335444   \n",
       "1         0.082125               0.650             5      328.323744   \n",
       "2        -0.005371               0.485             9      342.022783   \n",
       "3         0.035382               0.500            11      344.679555   \n",
       "4         0.089002               0.530             6      346.002950   \n",
       "\n",
       "   may_position  jun_position  jly_position  \n",
       "0             2             1             1  \n",
       "1             1             2             2  \n",
       "2            15             8             3  \n",
       "3            12            14             4  \n",
       "4            11            13             5  \n",
       "\n",
       "[5 rows x 22 columns]"
      ]
     },
     "execution_count": 2,
     "metadata": {},
     "output_type": "execute_result"
    }
   ],
   "source": [
    "# dir = \"data/\"\n",
    "dir = \"C:/Users/mark_/Documents/McLaren2021/Sanofi/Race Dashboard Data/\"\n",
    "df = pd.read_csv(dir + 'leaderboard.csv')\n",
    "df.head()\n"
   ]
  },
  {
   "cell_type": "code",
   "execution_count": 3,
   "metadata": {
    "pycharm": {
     "name": "#%%\n"
    }
   },
   "outputs": [],
   "source": [
    "cars = df[['Line', 'gap_to_leader']]"
   ]
  },
  {
   "cell_type": "code",
   "execution_count": 4,
   "metadata": {
    "pycharm": {
     "name": "#%%\n"
    }
   },
   "outputs": [
    {
     "name": "stderr",
     "output_type": "stream",
     "text": [
      "core           INFO \tLoading laps for British Grand Prix - Qualifying [v2.1.6]\n",
      "api            INFO \tUsing cached data for timing_data\n",
      "api            INFO \tUsing cached data for timing_app_data\n",
      "core           INFO \tProcessing timing data...\n",
      "api            INFO \tUsing cached data for session_status_data\n",
      "api            INFO \tUsing cached data for track_status_data\n",
      "api            INFO \tUsing cached data for car_data\n",
      "api            INFO \tUsing cached data for position_data\n",
      "api            INFO \tUsing cached data for weather_data\n",
      "core           INFO \tLoaded data for 20 drivers: ['99', '16', '23', '77', '27', '6', '63', '10', '55', '20', '26', '7', '31', '5', '8', '3', '33', '44', '4', '18']\n"
     ]
    }
   ],
   "source": [
    "ff1.Cache.enable_cache('f1_cache')\n",
    "laps = ff1.get_session(2020, 'Silverstone', 'Q').load_laps(with_telemetry=True)\n",
    "tel = laps.pick_driver('NOR').pick_fastest().telemetry"
   ]
  },
  {
   "cell_type": "code",
   "execution_count": 5,
   "metadata": {
    "pycharm": {
     "name": "#%%\n"
    }
   },
   "outputs": [],
   "source": [
    "import matplotlib.pyplot as plt"
   ]
  },
  {
   "cell_type": "code",
   "execution_count": 6,
   "metadata": {
    "pycharm": {
     "name": "#%%\n"
    }
   },
   "outputs": [],
   "source": [
    "plt.style.use('dark_background')"
   ]
  },
  {
   "cell_type": "code",
   "execution_count": 8,
   "metadata": {},
   "outputs": [
    {
     "data": {
      "image/png": "[encoded data removed]",
      "text/plain": [
       "<Figure size 1296x648 with 1 Axes>"
      ]
     },
     "metadata": {},
     "output_type": "display_data"
    }
   ],
   "source": [
    "plt.figure(figsize=(18,9))\n",
    "plt.plot(tel.X, tel.Y, zorder=1, lw=5)\n",
    "\n",
    "\n",
    "result_x=[]\n",
    "result_y=[]\n",
    "\n",
    "t = np.linspace(1,15,len(cars))\n",
    "\n",
    "#im = plt.imread('images/ch_flag.jpg')\n",
    "#plt.imshow(im,x=tel.X.iloc[0], y=tel.Y.iloc[0],zorder=1, origin='lower')  \n",
    "\n",
    "multiplier=-4\n",
    "offset_for_cars=10\n",
    "\n",
    "# show where the start / finish line is\n",
    "start_x=[]\n",
    "start_y=[]\n",
    "start_x.__iadd__([tel.X.iloc[int(1)]])\n",
    "start_y.__iadd__([tel.Y.iloc[int(1)]])\n",
    "\n",
    "for i, row in cars.iterrows():\n",
    "    result_x.__iadd__([tel.X.iloc[int(multiplier*(row[1]+1))-offset_for_cars]])\n",
    "    result_y.__iadd__([tel.Y.iloc[int(multiplier*(row[1]+1))-offset_for_cars]])\n",
    "\n",
    "\n",
    "plt.scatter(result_x, result_y, s=1500, c=t, cmap='turbo_r', zorder=2)\n",
    "font = {'weight' : 'bold',\n",
    "        'size'   : 15}\n",
    "\n",
    "plt.rc('font', **font)\n",
    "\n",
    "for i, row in cars.iterrows():\n",
    "    plt.text(tel.X.iloc[int(multiplier*(row[1]+1))-offset_for_cars]-200, tel.Y.iloc[int(multiplier*(row[1]+1))-offset_for_cars]-200, row[0][:3], c='white')\n",
    "\n",
    "plt.scatter(start_x, start_y, marker = 'D', c='white', zorder=2, s=200)\n",
    "\n",
    "# plt.scatter(160, -2330, marker = 'D', c='white', zorder=2)\n",
    "#plt.scatter(460, -2130, marker = 'd', c='white', zorder=2)\n",
    "#plt.scatter(300, -2130, marker = 'd', c='black', zorder=2)  \n",
    "#plt.scatter(460, -1930, marker = 'd', c='black', zorder=2)  \n",
    "#plt.scatter(600, -2130, marker = 'd', c='black', zorder=2) \n",
    "    \n",
    "# for i, row in cars.iterrows():\n",
    "#     plt.scatter(tel.X.iloc[int(-15*(row[1]+1))], tel.Y.iloc[int(-15*(row[1]+1))], s = 1000, c=t, cmap='Oranges', zorder=2)\n",
    "#     plt.text(tel.X.iloc[int(-15*(row[1]+1))]-200, tel.Y.iloc[int(-15*(row[1]+1))], row[0][:3], c='white')\n",
    "\n",
    "plt.title('Silverstone')\n",
    "plt.axis('off')\n",
    "plt.show()"
   ]
  },
  {
   "cell_type": "code",
   "execution_count": 25,
   "metadata": {},
   "outputs": [
    {
     "data": {
      "text/plain": [
       "-1932"
      ]
     },
     "execution_count": 25,
     "metadata": {},
     "output_type": "execute_result"
    }
   ],
   "source": [
    "tel.Y.iloc[-1]"
   ]
  },
  {
   "cell_type": "code",
   "execution_count": null,
   "metadata": {},
   "outputs": [],
   "source": []
  }
 ],
 "metadata": {
  "interpreter": {
   "hash": "64df9273c7c7c97b3318506263537159d6f3fef0fb8567dd7f31f5ef4e8ecec2"
  },
  "kernelspec": {
   "display_name": "Python 3",
   "language": "python",
   "name": "python3"
  },
  "language_info": {
   "codemirror_mode": {
    "name": "ipython",
    "version": 3
   },
   "file_extension": ".py",
   "mimetype": "text/x-python",
   "name": "python",
   "nbconvert_exporter": "python",
   "pygments_lexer": "ipython3",
   "version": "3.9.4"
  }
 },
 "nbformat": 4,
 "nbformat_minor": 1
}
