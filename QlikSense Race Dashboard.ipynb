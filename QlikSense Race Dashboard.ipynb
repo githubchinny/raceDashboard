{
 "cells": [
  {
   "cell_type": "markdown",
   "metadata": {},
   "source": [
    "# Race Dashboard\n",
    "\n"
   ]
  },
  {
   "cell_type": "markdown",
   "metadata": {},
   "source": [
    "This document describes the requirements and design decisions we will adopt for the Race Dashboard for the Sanofi Asset Efficiency challenge.  This document is intended to provide a detailed explanation of what is to be included on the dashboard, required data sources, and assumptions being made in the design.  It will also show the steps for getting the data into the necessary format."
   ]
  },
  {
   "cell_type": "markdown",
   "metadata": {},
   "source": [
    "## Scope/objective\n",
    "\n",
    "The objective is to be able to display the documented metrics and categories as best suited on a Dashboard presentation for Sanofi staff to be able to access.\n"
   ]
  },
  {
   "cell_type": "markdown",
   "metadata": {},
   "source": [
    "## Metrics / categories\n",
    "The metrics have been mapped into sectors to mimic different sectors of a race track.  The metrics are:\n",
    " \n",
    " \n",
    " \n",
    "•     Race = 8 Laps = 8 Months   \n",
    "•     Lap = Monthly Progress   \n",
    "<br>\n",
    "<br>\n",
    "\n",
    "•     **Sector 1 = OEE Improvement   \n",
    "•     Sector 2 = OEE Variability Improvement   \n",
    "•     Sector 3 = Stoppage Reduction   \n",
    "•     Sector 4 = Changeover Improvement**   \n",
    "• _Sector 5 = Most effective OEE application   \n",
    "• Sector 6 = Best Innovation   \n",
    "• Sector 7 = Most consistent OEE improvement progress   \n",
    "• Sector 8 = Collaboration   \n",
    "• Sector 9 = Team Spirit_\n",
    "\n",
    " \n",
    " \n"
   ]
  },
  {
   "cell_type": "markdown",
   "metadata": {},
   "source": [
    "| Change log |\n",
    "|:----------:|    \n",
    "\n",
    "\n",
    "| Date | Initials | Comments |\n",
    "|------|:---------|:---------|\n",
    "| 2021-06-23 | MC | in leaderboard, replace NaN values in laptime calc with the max laptime for that lap\n",
    "| 2021-06-23 | MC | use race review dates for grouping data, rather than calendar months\n",
    "| 2021-06-24 |JB | missing OEE_Diff figures should default to 'OEE %' - OEE start point, not just 'OEE %' value\n",
    "| 2021-06-24 |JB | for sector one, multiply sum of OEE_Diff by -1.  Should have always been doing this.\n",
    "|2021-06-25 | MC | in leaderboard, change prev_race_time calc to include all but last 2 cols, to handle new race cols as they arrive\n",
    "|2021-06-28 | MC | correct dates in nominations spreadsheet, and merge on 1 row with a date within the review period\n",
    "|2021-06-29 | MC | corrected nominations spreadsheet for Lisieux IWK - should be TR200 Packaging\n",
    "|2021-06-30 | MC | populate missing OEE % values before calculating rolling_std using the OEE % column\n",
    "|2021-06-30 | MC | remove start_changeover_calc merge as it's not being used any more, and was dropping rows"
   ]
  },
  {
   "cell_type": "code",
   "execution_count": 252,
   "metadata": {},
   "outputs": [],
   "source": [
    "import pandas as pd\n",
    "import numpy as np\n",
    "import datetime\n",
    "\n",
    "\n",
    "# Viz libs\n",
    "import matplotlib.pyplot as plt\n",
    "%matplotlib inline\n",
    "\n",
    "import seaborn as sns\n",
    "\n",
    "# display options\n",
    "# pd.options.display.float_format = \"{:.2f}\".format\n"
   ]
  },
  {
   "cell_type": "markdown",
   "metadata": {},
   "source": [
    "## Read file and cleanse\n",
    "\n",
    "- OEE.xlsx should contain the OEE latest data from QS by week   \n",
    "- QSDashboard.xlsx has a list of plants/sites taking part, with original target OEE  \n",
    "- UnplannedTechLoss.xlxs should contain the latest data from QS (my unplanned chart by line/week)   \n",
    "- changeover.xlsx should contain the changeover information in QlikSense\n",
    "\n",
    "#### Cleaning required:   \n",
    "- OEE % needs converting to numeric, coerce the nulls to nan values\n",
    "- I think W53-2020 data is bobbings - causes dup indexes for date 2021-01-10 and don't need 2020 data anyway...so dropping it"
   ]
  },
  {
   "cell_type": "code",
   "execution_count": 253,
   "metadata": {},
   "outputs": [],
   "source": [
    "# dir = \"C:/Users/mark_/McLaren Technology Group/McLaren Accelerator - Sanofi - Sanofi/Data Analysis/\"\n",
    "# dir = \"C:/Users/mark_/Sanofi/Sanofi x McLaren sharing - General/Race Dashboard data/\"\n",
    "dir = \"C:/Users/mark_/Documents/McLaren2021/Sanofi/Race Dashboard data/\"\n",
    "output_dir = \"C:/Users/mark_/Documents/McLaren2021/Sanofi/Race Dashboard data/\"\n",
    "\n",
    "# dir = 'C:/Users/james.blood/Documents/McLarenSanofi/McLarenSanofi/data/'\n",
    "\n",
    "file = (dir + 'OEE.xlsx')\n",
    "df_weekly = pd.read_excel(file)\n",
    "file = (dir + 'QSDashboard.xlsx')\n",
    "df_dash = pd.read_excel(file)\n",
    "file = (dir + 'Unplanned_tech_loss.xlsx')\n",
    "df_techloss = pd.read_excel(file)\n",
    "file = (dir + 'changeover.xlsx')\n",
    "df_changeover = pd.read_excel(file)\n",
    "df_weekly = df_weekly.loc[df_weekly['Week'].str.contains('2021')]\n",
    "df_techloss = df_techloss.loc[df_techloss['Week'].str.contains('2021')]\n",
    "df_weekly['OEE %'] = pd.to_numeric(df_weekly['OEE %'], errors='coerce')\n",
    "df_techloss.rename(columns={'Unplanned losses - %OEE':'Unplanned_tech_loss'}, inplace=True)\n",
    "df_techloss['Unplanned_tech_loss'] = pd.to_numeric(df_techloss['Unplanned_tech_loss'], errors='coerce')\n",
    "df_changeover.rename(columns={'Change over losses - %OEE':'Changeover'}, inplace=True)\n",
    "df_changeover['Changeover'] = pd.to_numeric(df_changeover['Changeover'], errors='coerce')\n",
    "# don't use their progress figure as it's a static val\n",
    "# df_dash.rename(columns={'⇗ OEE% progress':'OEE% progress'}, inplace=True)"
   ]
  },
  {
   "cell_type": "markdown",
   "metadata": {},
   "source": [
    "create a datetime from the week number"
   ]
  },
  {
   "cell_type": "code",
   "execution_count": 254,
   "metadata": {},
   "outputs": [
    {
     "output_type": "execute_result",
     "data": {
      "text/plain": [
       "        Week                Line     OEE %  WeekOfYear  Year       Date\n",
       "11  W01-2021   C2 Packaging Line  0.168970           1  2021 2021-01-10\n",
       "12  W01-2021   C9 Packaging Line       NaN           1  2021 2021-01-10\n",
       "13  W01-2021              GAMMA1  0.406686           1  2021 2021-01-10\n",
       "14  W01-2021           IMA C80/2  0.510044           1  2021 2021-01-10\n",
       "15  W01-2021  L18 Packaging Line  0.173736           1  2021 2021-01-10"
      ],
      "text/html": "<div>\n<style scoped>\n    .dataframe tbody tr th:only-of-type {\n        vertical-align: middle;\n    }\n\n    .dataframe tbody tr th {\n        vertical-align: top;\n    }\n\n    .dataframe thead th {\n        text-align: right;\n    }\n</style>\n<table border=\"1\" class=\"dataframe\">\n  <thead>\n    <tr style=\"text-align: right;\">\n      <th></th>\n      <th>Week</th>\n      <th>Line</th>\n      <th>OEE %</th>\n      <th>WeekOfYear</th>\n      <th>Year</th>\n      <th>Date</th>\n    </tr>\n  </thead>\n  <tbody>\n    <tr>\n      <th>11</th>\n      <td>W01-2021</td>\n      <td>C2 Packaging Line</td>\n      <td>0.168970</td>\n      <td>1</td>\n      <td>2021</td>\n      <td>2021-01-10</td>\n    </tr>\n    <tr>\n      <th>12</th>\n      <td>W01-2021</td>\n      <td>C9 Packaging Line</td>\n      <td>NaN</td>\n      <td>1</td>\n      <td>2021</td>\n      <td>2021-01-10</td>\n    </tr>\n    <tr>\n      <th>13</th>\n      <td>W01-2021</td>\n      <td>GAMMA1</td>\n      <td>0.406686</td>\n      <td>1</td>\n      <td>2021</td>\n      <td>2021-01-10</td>\n    </tr>\n    <tr>\n      <th>14</th>\n      <td>W01-2021</td>\n      <td>IMA C80/2</td>\n      <td>0.510044</td>\n      <td>1</td>\n      <td>2021</td>\n      <td>2021-01-10</td>\n    </tr>\n    <tr>\n      <th>15</th>\n      <td>W01-2021</td>\n      <td>L18 Packaging Line</td>\n      <td>0.173736</td>\n      <td>1</td>\n      <td>2021</td>\n      <td>2021-01-10</td>\n    </tr>\n  </tbody>\n</table>\n</div>"
     },
     "metadata": {},
     "execution_count": 254
    }
   ],
   "source": [
    "df_weekly['WeekOfYear'] = pd.to_numeric(df_weekly['Week'].str[1:3])\n",
    "df_weekly['Year'] = pd.to_numeric(df_weekly['Week'].str[4:])\n",
    "dates = df_weekly.Year*100+df_weekly.WeekOfYear\n",
    "df_weekly['Date'] = pd.to_datetime(dates.astype(str) + '0', format='%Y%W%w')\n",
    "# df_weekly.drop(columns=['Year','WeekOfYear'], inplace=True)\n",
    "df_weekly.head()"
   ]
  },
  {
   "cell_type": "code",
   "execution_count": 255,
   "metadata": {
    "scrolled": true
   },
   "outputs": [],
   "source": [
    "#merge the 2 dataframes to get the start OEE\n",
    "df_weekly = df_weekly.merge(df_dash[['Plant','Line', 'OEE  Start point','OEE% Target (2022)']],on='Line')"
   ]
  },
  {
   "cell_type": "code",
   "execution_count": 256,
   "metadata": {},
   "outputs": [],
   "source": [
    "df_weekly = df_weekly.merge(df_techloss[['Line', 'Week', 'Unplanned_tech_loss']],on=['Line','Week'])"
   ]
  },
  {
   "cell_type": "code",
   "execution_count": 257,
   "metadata": {},
   "outputs": [],
   "source": [
    "df_weekly = df_weekly.merge(df_changeover[['Line','Week','Changeover']])"
   ]
  },
  {
   "cell_type": "markdown",
   "metadata": {},
   "source": [
    "#### Start Changeover\n",
    "\n",
    "*not sure this is needed if we are using changeover_diff, which will naturally reward increases / decreases in changeover??*\n",
    "\n",
    "Start changeover value isn't provided, so going to calc our own start point using the average changeover for each site in 2021 up to April 2021.  This needs to be done before we drop the early 2021 rows.\n",
    "\n",
    "This is then merged into the df_weekly dataframe as a loose join."
   ]
  },
  {
   "cell_type": "code",
   "execution_count": 258,
   "metadata": {},
   "outputs": [],
   "source": [
    "# start_changeover_calc = df_weekly[['Plant','Line','Changeover']][df_weekly['Date'] < '2021-04-30'].groupby(['Plant','Line']).mean().reset_index()\n",
    "# start_changeover_calc.rename(columns={'Changeover':'start_changeover'}, inplace=True)\n",
    "# df_weekly = df_weekly.merge(start_changeover_calc[['Line','start_changeover']])"
   ]
  },
  {
   "cell_type": "code",
   "execution_count": 259,
   "metadata": {},
   "outputs": [
    {
     "output_type": "execute_result",
     "data": {
      "text/plain": [
       "              Plant               Line  Changeover\n",
       "0    Maisons-Alfort  C2 Packaging Line    0.079648\n",
       "1    Maisons-Alfort  C2 Packaging Line    0.066610\n",
       "2    Maisons-Alfort  C2 Packaging Line    0.108895\n",
       "3    Maisons-Alfort  C2 Packaging Line    0.098150\n",
       "4    Maisons-Alfort  C2 Packaging Line    0.064475\n",
       "..              ...                ...         ...\n",
       "289       Frankfurt    AL5 Packaging 1    0.122727\n",
       "300       Frankfurt                AL6    0.184958\n",
       "301       Frankfurt                AL6    0.101231\n",
       "302       Frankfurt                AL6    0.056547\n",
       "303       Frankfurt                AL6    0.085174\n",
       "\n",
       "[184 rows x 3 columns]"
      ],
      "text/html": "<div>\n<style scoped>\n    .dataframe tbody tr th:only-of-type {\n        vertical-align: middle;\n    }\n\n    .dataframe tbody tr th {\n        vertical-align: top;\n    }\n\n    .dataframe thead th {\n        text-align: right;\n    }\n</style>\n<table border=\"1\" class=\"dataframe\">\n  <thead>\n    <tr style=\"text-align: right;\">\n      <th></th>\n      <th>Plant</th>\n      <th>Line</th>\n      <th>Changeover</th>\n    </tr>\n  </thead>\n  <tbody>\n    <tr>\n      <th>0</th>\n      <td>Maisons-Alfort</td>\n      <td>C2 Packaging Line</td>\n      <td>0.079648</td>\n    </tr>\n    <tr>\n      <th>1</th>\n      <td>Maisons-Alfort</td>\n      <td>C2 Packaging Line</td>\n      <td>0.066610</td>\n    </tr>\n    <tr>\n      <th>2</th>\n      <td>Maisons-Alfort</td>\n      <td>C2 Packaging Line</td>\n      <td>0.108895</td>\n    </tr>\n    <tr>\n      <th>3</th>\n      <td>Maisons-Alfort</td>\n      <td>C2 Packaging Line</td>\n      <td>0.098150</td>\n    </tr>\n    <tr>\n      <th>4</th>\n      <td>Maisons-Alfort</td>\n      <td>C2 Packaging Line</td>\n      <td>0.064475</td>\n    </tr>\n    <tr>\n      <th>...</th>\n      <td>...</td>\n      <td>...</td>\n      <td>...</td>\n    </tr>\n    <tr>\n      <th>289</th>\n      <td>Frankfurt</td>\n      <td>AL5 Packaging 1</td>\n      <td>0.122727</td>\n    </tr>\n    <tr>\n      <th>300</th>\n      <td>Frankfurt</td>\n      <td>AL6</td>\n      <td>0.184958</td>\n    </tr>\n    <tr>\n      <th>301</th>\n      <td>Frankfurt</td>\n      <td>AL6</td>\n      <td>0.101231</td>\n    </tr>\n    <tr>\n      <th>302</th>\n      <td>Frankfurt</td>\n      <td>AL6</td>\n      <td>0.056547</td>\n    </tr>\n    <tr>\n      <th>303</th>\n      <td>Frankfurt</td>\n      <td>AL6</td>\n      <td>0.085174</td>\n    </tr>\n  </tbody>\n</table>\n<p>184 rows × 3 columns</p>\n</div>"
     },
     "metadata": {},
     "execution_count": 259
    }
   ],
   "source": [
    " df_weekly[['Plant','Line','Changeover']][df_weekly['Date'] < '2021-04-30']"
   ]
  },
  {
   "cell_type": "markdown",
   "metadata": {},
   "source": [
    "#### Dates for the Asset Challenge\n",
    "\n",
    "Start Date is going to be fixed as 2021-04-01. Remove all the rows from df_weekly before this date\n",
    "\n",
    "End Date will move and act as a cutoff before each Race meeting"
   ]
  },
  {
   "cell_type": "code",
   "execution_count": 260,
   "metadata": {},
   "outputs": [
    {
     "output_type": "execute_result",
     "data": {
      "text/plain": [
       "          Date     OEE %\n",
       "314 2021-05-02  0.000000\n",
       "315 2021-05-09  0.000000\n",
       "316 2021-05-16  0.372515\n",
       "317 2021-05-23  0.441221\n",
       "318 2021-05-30  0.385174\n",
       "319 2021-06-06  0.314807\n",
       "320 2021-06-13  0.518701\n",
       "321 2021-06-20  0.368540\n",
       "322 2021-06-27  0.566651\n",
       "323 2021-07-04  0.602027"
      ],
      "text/html": "<div>\n<style scoped>\n    .dataframe tbody tr th:only-of-type {\n        vertical-align: middle;\n    }\n\n    .dataframe tbody tr th {\n        vertical-align: top;\n    }\n\n    .dataframe thead th {\n        text-align: right;\n    }\n</style>\n<table border=\"1\" class=\"dataframe\">\n  <thead>\n    <tr style=\"text-align: right;\">\n      <th></th>\n      <th>Date</th>\n      <th>OEE %</th>\n    </tr>\n  </thead>\n  <tbody>\n    <tr>\n      <th>314</th>\n      <td>2021-05-02</td>\n      <td>0.000000</td>\n    </tr>\n    <tr>\n      <th>315</th>\n      <td>2021-05-09</td>\n      <td>0.000000</td>\n    </tr>\n    <tr>\n      <th>316</th>\n      <td>2021-05-16</td>\n      <td>0.372515</td>\n    </tr>\n    <tr>\n      <th>317</th>\n      <td>2021-05-23</td>\n      <td>0.441221</td>\n    </tr>\n    <tr>\n      <th>318</th>\n      <td>2021-05-30</td>\n      <td>0.385174</td>\n    </tr>\n    <tr>\n      <th>319</th>\n      <td>2021-06-06</td>\n      <td>0.314807</td>\n    </tr>\n    <tr>\n      <th>320</th>\n      <td>2021-06-13</td>\n      <td>0.518701</td>\n    </tr>\n    <tr>\n      <th>321</th>\n      <td>2021-06-20</td>\n      <td>0.368540</td>\n    </tr>\n    <tr>\n      <th>322</th>\n      <td>2021-06-27</td>\n      <td>0.566651</td>\n    </tr>\n    <tr>\n      <th>323</th>\n      <td>2021-07-04</td>\n      <td>0.602027</td>\n    </tr>\n  </tbody>\n</table>\n</div>"
     },
     "metadata": {},
     "execution_count": 260
    }
   ],
   "source": [
    "df_weekly[['Date','OEE %']][df_weekly.Line.str.contains('LINE')]"
   ]
  },
  {
   "cell_type": "code",
   "execution_count": 261,
   "metadata": {},
   "outputs": [],
   "source": [
    "start_date = '2021-04-01'\n",
    "df_weekly = df_weekly[df_weekly['Date'] > start_date].sort_values('Date')\n",
    "\n",
    "# do we need this?  We now have race review dates\n",
    "# end_date = '2021-07-15'\n",
    "# df_weekly = df_weekly[df_weekly['Date'] < end_date].sort_values('Date')"
   ]
  },
  {
   "cell_type": "markdown",
   "metadata": {},
   "source": [
    "### PCT_CHANGE\n",
    "Using pct_change python function with periods=4, giving a 4 week (4 previous rows) rolling pct_change figure\n",
    "- I believe we are doing this rolling average calculation within Tableau at the moment, so this isn't being used here\n",
    "\n",
    "- Not sure whether this is required any more - removing for all categories (2021-06-30)"
   ]
  },
  {
   "cell_type": "code",
   "execution_count": 262,
   "metadata": {},
   "outputs": [],
   "source": [
    "# df_weekly.sort_values(['Line','Date'], inplace = True)\n",
    "# df_weekly['OEE_pct_chg'] = (df_weekly.groupby('Line')['OEE %']\n",
    "#                                    .apply(pd.Series.pct_change, periods=4))\n",
    "# df_weekly['techloss_pct_chg'] = (df_weekly.groupby('Line')['Unplanned_tech_loss']\n",
    "#                                    .apply(pd.Series.pct_change, periods=4))\n",
    "# df_weekly['Changeover_pct_chg'] = (df_weekly.groupby('Line')['Changeover']\n",
    "#                                    .apply(pd.Series.pct_change, periods=4))\n",
    "# df_weekly.head()"
   ]
  },
  {
   "cell_type": "markdown",
   "metadata": {},
   "source": [
    "## Standard Deviation\n",
    "Calculate std_dev and mean on a 4 week rolling basis\n",
    "\n",
    "Standard deviation is the square root of the variance, so no need to calculate both and have left var out"
   ]
  },
  {
   "cell_type": "markdown",
   "metadata": {},
   "source": [
    "#### Populate missing OEE %\n",
    "- Find the weekly min/max OEE % from any site   \n",
    "- Merge those columns into df_weekly   \n",
    "- fill any NaN with the min OEE we calc'd for that week   "
   ]
  },
  {
   "cell_type": "code",
   "execution_count": 263,
   "metadata": {},
   "outputs": [
    {
     "output_type": "execute_result",
     "data": {
      "text/plain": [
       "         Week                  Line     OEE %  WeekOfYear  Year       Date  \\\n",
       "0    W13-2021     C2 Packaging Line  0.458414          13  2021 2021-04-04   \n",
       "1    W13-2021    L18 Packaging Line  0.465923          13  2021 2021-04-04   \n",
       "2    W13-2021                GAMMA1  0.431186          13  2021 2021-04-04   \n",
       "3    W13-2021    L25 Packaging Line  0.393740          13  2021 2021-04-04   \n",
       "4    W13-2021           M18 Filling  0.046124          13  2021 2021-04-04   \n",
       "..        ...                   ...       ...         ...   ...        ...   \n",
       "197  W26-2021           M18 Filling  0.000000          26  2021 2021-07-04   \n",
       "198  W26-2021    L25 Packaging Line  0.520840          26  2021 2021-07-04   \n",
       "199  W26-2021  TR200 Packaging Line  0.000000          26  2021 2021-07-04   \n",
       "200  W26-2021     C2 Packaging Line  0.156844          26  2021 2021-07-04   \n",
       "201  W26-2021        MEDISEAL PURAN  0.599820          26  2021 2021-07-04   \n",
       "\n",
       "              Plant  OEE  Start point  OEE% Target (2022)  \\\n",
       "0    Maisons-Alfort          0.397503               0.470   \n",
       "1             Tours          0.377683               0.547   \n",
       "2          SCOPPITO          0.418683               0.570   \n",
       "3             Tours          0.351564               0.478   \n",
       "4         Frankfurt          0.443522               0.650   \n",
       "..              ...               ...                 ...   \n",
       "197       Frankfurt          0.443522               0.650   \n",
       "198           Tours          0.351564               0.478   \n",
       "199         Lisieux          0.483505               0.650   \n",
       "200  Maisons-Alfort          0.397503               0.470   \n",
       "201          SUZANO          0.592206               0.650   \n",
       "\n",
       "     Unplanned_tech_loss  Changeover  \n",
       "0               0.465009    0.044140  \n",
       "1               0.208273    0.134271  \n",
       "2               0.291389    0.209384  \n",
       "3               0.206618    0.132655  \n",
       "4               0.114818    0.789781  \n",
       "..                   ...         ...  \n",
       "197             0.000000    0.943690  \n",
       "198             0.147637    0.113122  \n",
       "199                  NaN         NaN  \n",
       "200             0.461691    0.212684  \n",
       "201             0.237507    0.031372  \n",
       "\n",
       "[202 rows x 11 columns]"
      ],
      "text/html": "<div>\n<style scoped>\n    .dataframe tbody tr th:only-of-type {\n        vertical-align: middle;\n    }\n\n    .dataframe tbody tr th {\n        vertical-align: top;\n    }\n\n    .dataframe thead th {\n        text-align: right;\n    }\n</style>\n<table border=\"1\" class=\"dataframe\">\n  <thead>\n    <tr style=\"text-align: right;\">\n      <th></th>\n      <th>Week</th>\n      <th>Line</th>\n      <th>OEE %</th>\n      <th>WeekOfYear</th>\n      <th>Year</th>\n      <th>Date</th>\n      <th>Plant</th>\n      <th>OEE  Start point</th>\n      <th>OEE% Target (2022)</th>\n      <th>Unplanned_tech_loss</th>\n      <th>Changeover</th>\n    </tr>\n  </thead>\n  <tbody>\n    <tr>\n      <th>0</th>\n      <td>W13-2021</td>\n      <td>C2 Packaging Line</td>\n      <td>0.458414</td>\n      <td>13</td>\n      <td>2021</td>\n      <td>2021-04-04</td>\n      <td>Maisons-Alfort</td>\n      <td>0.397503</td>\n      <td>0.470</td>\n      <td>0.465009</td>\n      <td>0.044140</td>\n    </tr>\n    <tr>\n      <th>1</th>\n      <td>W13-2021</td>\n      <td>L18 Packaging Line</td>\n      <td>0.465923</td>\n      <td>13</td>\n      <td>2021</td>\n      <td>2021-04-04</td>\n      <td>Tours</td>\n      <td>0.377683</td>\n      <td>0.547</td>\n      <td>0.208273</td>\n      <td>0.134271</td>\n    </tr>\n    <tr>\n      <th>2</th>\n      <td>W13-2021</td>\n      <td>GAMMA1</td>\n      <td>0.431186</td>\n      <td>13</td>\n      <td>2021</td>\n      <td>2021-04-04</td>\n      <td>SCOPPITO</td>\n      <td>0.418683</td>\n      <td>0.570</td>\n      <td>0.291389</td>\n      <td>0.209384</td>\n    </tr>\n    <tr>\n      <th>3</th>\n      <td>W13-2021</td>\n      <td>L25 Packaging Line</td>\n      <td>0.393740</td>\n      <td>13</td>\n      <td>2021</td>\n      <td>2021-04-04</td>\n      <td>Tours</td>\n      <td>0.351564</td>\n      <td>0.478</td>\n      <td>0.206618</td>\n      <td>0.132655</td>\n    </tr>\n    <tr>\n      <th>4</th>\n      <td>W13-2021</td>\n      <td>M18 Filling</td>\n      <td>0.046124</td>\n      <td>13</td>\n      <td>2021</td>\n      <td>2021-04-04</td>\n      <td>Frankfurt</td>\n      <td>0.443522</td>\n      <td>0.650</td>\n      <td>0.114818</td>\n      <td>0.789781</td>\n    </tr>\n    <tr>\n      <th>...</th>\n      <td>...</td>\n      <td>...</td>\n      <td>...</td>\n      <td>...</td>\n      <td>...</td>\n      <td>...</td>\n      <td>...</td>\n      <td>...</td>\n      <td>...</td>\n      <td>...</td>\n      <td>...</td>\n    </tr>\n    <tr>\n      <th>197</th>\n      <td>W26-2021</td>\n      <td>M18 Filling</td>\n      <td>0.000000</td>\n      <td>26</td>\n      <td>2021</td>\n      <td>2021-07-04</td>\n      <td>Frankfurt</td>\n      <td>0.443522</td>\n      <td>0.650</td>\n      <td>0.000000</td>\n      <td>0.943690</td>\n    </tr>\n    <tr>\n      <th>198</th>\n      <td>W26-2021</td>\n      <td>L25 Packaging Line</td>\n      <td>0.520840</td>\n      <td>26</td>\n      <td>2021</td>\n      <td>2021-07-04</td>\n      <td>Tours</td>\n      <td>0.351564</td>\n      <td>0.478</td>\n      <td>0.147637</td>\n      <td>0.113122</td>\n    </tr>\n    <tr>\n      <th>199</th>\n      <td>W26-2021</td>\n      <td>TR200 Packaging Line</td>\n      <td>0.000000</td>\n      <td>26</td>\n      <td>2021</td>\n      <td>2021-07-04</td>\n      <td>Lisieux</td>\n      <td>0.483505</td>\n      <td>0.650</td>\n      <td>NaN</td>\n      <td>NaN</td>\n    </tr>\n    <tr>\n      <th>200</th>\n      <td>W26-2021</td>\n      <td>C2 Packaging Line</td>\n      <td>0.156844</td>\n      <td>26</td>\n      <td>2021</td>\n      <td>2021-07-04</td>\n      <td>Maisons-Alfort</td>\n      <td>0.397503</td>\n      <td>0.470</td>\n      <td>0.461691</td>\n      <td>0.212684</td>\n    </tr>\n    <tr>\n      <th>201</th>\n      <td>W26-2021</td>\n      <td>MEDISEAL PURAN</td>\n      <td>0.599820</td>\n      <td>26</td>\n      <td>2021</td>\n      <td>2021-07-04</td>\n      <td>SUZANO</td>\n      <td>0.592206</td>\n      <td>0.650</td>\n      <td>0.237507</td>\n      <td>0.031372</td>\n    </tr>\n  </tbody>\n</table>\n<p>202 rows × 11 columns</p>\n</div>"
     },
     "metadata": {},
     "execution_count": 263
    }
   ],
   "source": [
    "df_weekly_minmax = (df_weekly.assign(Data_Value=df_weekly['OEE %'].abs())\n",
    "       .groupby(pd.Grouper(key='Date',freq='W'))['OEE %'].agg([('Min' , 'min'), ('Max', 'max')])\n",
    "       .add_prefix('Week'))\n",
    "df_weekly_minmax.reset_index(inplace=True)\n",
    "df_weekly = df_weekly.merge(df_weekly_minmax[['Date','WeekMin','WeekMax']])\n",
    "df_weekly['OEE %'].fillna(df_weekly.WeekMin, inplace=True)\n",
    "df_weekly.drop(columns=['WeekMin','WeekMax'], inplace=True)\n",
    "df_weekly"
   ]
  },
  {
   "cell_type": "code",
   "execution_count": 264,
   "metadata": {
    "scrolled": true
   },
   "outputs": [
    {
     "output_type": "execute_result",
     "data": {
      "text/plain": [
       "       Week                Line     OEE %  WeekOfYear  Year       Date  \\\n",
       "0  W13-2021   C2 Packaging Line  0.458414          13  2021 2021-04-04   \n",
       "1  W13-2021  L18 Packaging Line  0.465923          13  2021 2021-04-04   \n",
       "2  W13-2021              GAMMA1  0.431186          13  2021 2021-04-04   \n",
       "3  W13-2021  L25 Packaging Line  0.393740          13  2021 2021-04-04   \n",
       "4  W13-2021         M18 Filling  0.046124          13  2021 2021-04-04   \n",
       "\n",
       "            Plant  OEE  Start point  OEE% Target (2022)  Unplanned_tech_loss  \\\n",
       "0  Maisons-Alfort          0.397503               0.470             0.465009   \n",
       "1           Tours          0.377683               0.547             0.208273   \n",
       "2        SCOPPITO          0.418683               0.570             0.291389   \n",
       "3           Tours          0.351564               0.478             0.206618   \n",
       "4       Frankfurt          0.443522               0.650             0.114818   \n",
       "\n",
       "   Changeover  rolling_std  \n",
       "0    0.044140          NaN  \n",
       "1    0.134271          NaN  \n",
       "2    0.209384          NaN  \n",
       "3    0.132655          NaN  \n",
       "4    0.789781          NaN  "
      ],
      "text/html": "<div>\n<style scoped>\n    .dataframe tbody tr th:only-of-type {\n        vertical-align: middle;\n    }\n\n    .dataframe tbody tr th {\n        vertical-align: top;\n    }\n\n    .dataframe thead th {\n        text-align: right;\n    }\n</style>\n<table border=\"1\" class=\"dataframe\">\n  <thead>\n    <tr style=\"text-align: right;\">\n      <th></th>\n      <th>Week</th>\n      <th>Line</th>\n      <th>OEE %</th>\n      <th>WeekOfYear</th>\n      <th>Year</th>\n      <th>Date</th>\n      <th>Plant</th>\n      <th>OEE  Start point</th>\n      <th>OEE% Target (2022)</th>\n      <th>Unplanned_tech_loss</th>\n      <th>Changeover</th>\n      <th>rolling_std</th>\n    </tr>\n  </thead>\n  <tbody>\n    <tr>\n      <th>0</th>\n      <td>W13-2021</td>\n      <td>C2 Packaging Line</td>\n      <td>0.458414</td>\n      <td>13</td>\n      <td>2021</td>\n      <td>2021-04-04</td>\n      <td>Maisons-Alfort</td>\n      <td>0.397503</td>\n      <td>0.470</td>\n      <td>0.465009</td>\n      <td>0.044140</td>\n      <td>NaN</td>\n    </tr>\n    <tr>\n      <th>1</th>\n      <td>W13-2021</td>\n      <td>L18 Packaging Line</td>\n      <td>0.465923</td>\n      <td>13</td>\n      <td>2021</td>\n      <td>2021-04-04</td>\n      <td>Tours</td>\n      <td>0.377683</td>\n      <td>0.547</td>\n      <td>0.208273</td>\n      <td>0.134271</td>\n      <td>NaN</td>\n    </tr>\n    <tr>\n      <th>2</th>\n      <td>W13-2021</td>\n      <td>GAMMA1</td>\n      <td>0.431186</td>\n      <td>13</td>\n      <td>2021</td>\n      <td>2021-04-04</td>\n      <td>SCOPPITO</td>\n      <td>0.418683</td>\n      <td>0.570</td>\n      <td>0.291389</td>\n      <td>0.209384</td>\n      <td>NaN</td>\n    </tr>\n    <tr>\n      <th>3</th>\n      <td>W13-2021</td>\n      <td>L25 Packaging Line</td>\n      <td>0.393740</td>\n      <td>13</td>\n      <td>2021</td>\n      <td>2021-04-04</td>\n      <td>Tours</td>\n      <td>0.351564</td>\n      <td>0.478</td>\n      <td>0.206618</td>\n      <td>0.132655</td>\n      <td>NaN</td>\n    </tr>\n    <tr>\n      <th>4</th>\n      <td>W13-2021</td>\n      <td>M18 Filling</td>\n      <td>0.046124</td>\n      <td>13</td>\n      <td>2021</td>\n      <td>2021-04-04</td>\n      <td>Frankfurt</td>\n      <td>0.443522</td>\n      <td>0.650</td>\n      <td>0.114818</td>\n      <td>0.789781</td>\n      <td>NaN</td>\n    </tr>\n  </tbody>\n</table>\n</div>"
     },
     "metadata": {},
     "execution_count": 264
    }
   ],
   "source": [
    "df_weekly['rolling_std'] = df_weekly.groupby('Line')['OEE %'].apply(lambda x : x.rolling(4,1).agg(np.std))\n",
    "df_weekly.head(5)"
   ]
  },
  {
   "cell_type": "code",
   "execution_count": 265,
   "metadata": {},
   "outputs": [],
   "source": [
    "file = (dir + 'Nominations Category Scoring.xlsx')\n",
    "df_nom_sectors = pd.read_excel(file, sheet_name='Nomination scoring', usecols=\"A:H\", parse_dates=['Date'])"
   ]
  },
  {
   "cell_type": "code",
   "execution_count": 266,
   "metadata": {},
   "outputs": [
    {
     "output_type": "execute_result",
     "data": {
      "text/plain": [
       "         Week                Line     OEE %  WeekOfYear    Year       Date  \\\n",
       "0    W13-2021   C2 Packaging Line  0.458414        13.0  2021.0 2021-04-04   \n",
       "1    W13-2021  L18 Packaging Line  0.465923        13.0  2021.0 2021-04-04   \n",
       "2    W13-2021              GAMMA1  0.431186        13.0  2021.0 2021-04-04   \n",
       "3    W13-2021  L25 Packaging Line  0.393740        13.0  2021.0 2021-04-04   \n",
       "4    W13-2021         M18 Filling  0.046124        13.0  2021.0 2021-04-04   \n",
       "..        ...                 ...       ...         ...     ...        ...   \n",
       "227       NaN     AL5 Packaging 1       NaN         NaN     NaN 2021-09-12   \n",
       "228       NaN                 AL6       NaN         NaN     NaN 2021-09-12   \n",
       "229       NaN         M18 Filling       NaN         NaN     NaN 2021-09-12   \n",
       "230       NaN         M21 Filling       NaN         NaN     NaN 2021-09-12   \n",
       "231       NaN         M22 Filling       NaN         NaN     NaN 2021-09-12   \n",
       "\n",
       "              Plant  OEE  Start point  OEE% Target (2022)  \\\n",
       "0    Maisons-Alfort          0.397503               0.470   \n",
       "1             Tours          0.377683               0.547   \n",
       "2          SCOPPITO          0.418683               0.570   \n",
       "3             Tours          0.351564               0.478   \n",
       "4         Frankfurt          0.443522               0.650   \n",
       "..              ...               ...                 ...   \n",
       "227       Frankfurt               NaN                 NaN   \n",
       "228       Frankfurt               NaN                 NaN   \n",
       "229       Frankfurt               NaN                 NaN   \n",
       "230       Frankfurt               NaN                 NaN   \n",
       "231       Frankfurt               NaN                 NaN   \n",
       "\n",
       "     Unplanned_tech_loss  Changeover  rolling_std  Best Solution  \\\n",
       "0               0.465009    0.044140          NaN            NaN   \n",
       "1               0.208273    0.134271          NaN            NaN   \n",
       "2               0.291389    0.209384          NaN            NaN   \n",
       "3               0.206618    0.132655          NaN            NaN   \n",
       "4               0.114818    0.789781          NaN            NaN   \n",
       "..                   ...         ...          ...            ...   \n",
       "227                  NaN         NaN          NaN            0.0   \n",
       "228                  NaN         NaN          NaN            0.0   \n",
       "229                  NaN         NaN          NaN            0.0   \n",
       "230                  NaN         NaN          NaN            0.0   \n",
       "231                  NaN         NaN          NaN            0.0   \n",
       "\n",
       "     Best Innovation  Improvement Iterations  Lessons and Sharing  \\\n",
       "0                NaN                     NaN                  NaN   \n",
       "1                NaN                     NaN                  NaN   \n",
       "2                NaN                     NaN                  NaN   \n",
       "3                NaN                     NaN                  NaN   \n",
       "4                NaN                     NaN                  NaN   \n",
       "..               ...                     ...                  ...   \n",
       "227              0.0                     0.0                  0.0   \n",
       "228              0.0                     0.0                  0.0   \n",
       "229              0.0                     0.0                  0.0   \n",
       "230              0.0                     0.0                  0.0   \n",
       "231              0.0                     0.0                  0.0   \n",
       "\n",
       "     Team Contribution and Spirit  \n",
       "0                             NaN  \n",
       "1                             NaN  \n",
       "2                             NaN  \n",
       "3                             NaN  \n",
       "4                             NaN  \n",
       "..                            ...  \n",
       "227                           0.0  \n",
       "228                           0.0  \n",
       "229                           0.0  \n",
       "230                           0.0  \n",
       "231                           0.0  \n",
       "\n",
       "[232 rows x 17 columns]"
      ],
      "text/html": "<div>\n<style scoped>\n    .dataframe tbody tr th:only-of-type {\n        vertical-align: middle;\n    }\n\n    .dataframe tbody tr th {\n        vertical-align: top;\n    }\n\n    .dataframe thead th {\n        text-align: right;\n    }\n</style>\n<table border=\"1\" class=\"dataframe\">\n  <thead>\n    <tr style=\"text-align: right;\">\n      <th></th>\n      <th>Week</th>\n      <th>Line</th>\n      <th>OEE %</th>\n      <th>WeekOfYear</th>\n      <th>Year</th>\n      <th>Date</th>\n      <th>Plant</th>\n      <th>OEE  Start point</th>\n      <th>OEE% Target (2022)</th>\n      <th>Unplanned_tech_loss</th>\n      <th>Changeover</th>\n      <th>rolling_std</th>\n      <th>Best Solution</th>\n      <th>Best Innovation</th>\n      <th>Improvement Iterations</th>\n      <th>Lessons and Sharing</th>\n      <th>Team Contribution and Spirit</th>\n    </tr>\n  </thead>\n  <tbody>\n    <tr>\n      <th>0</th>\n      <td>W13-2021</td>\n      <td>C2 Packaging Line</td>\n      <td>0.458414</td>\n      <td>13.0</td>\n      <td>2021.0</td>\n      <td>2021-04-04</td>\n      <td>Maisons-Alfort</td>\n      <td>0.397503</td>\n      <td>0.470</td>\n      <td>0.465009</td>\n      <td>0.044140</td>\n      <td>NaN</td>\n      <td>NaN</td>\n      <td>NaN</td>\n      <td>NaN</td>\n      <td>NaN</td>\n      <td>NaN</td>\n    </tr>\n    <tr>\n      <th>1</th>\n      <td>W13-2021</td>\n      <td>L18 Packaging Line</td>\n      <td>0.465923</td>\n      <td>13.0</td>\n      <td>2021.0</td>\n      <td>2021-04-04</td>\n      <td>Tours</td>\n      <td>0.377683</td>\n      <td>0.547</td>\n      <td>0.208273</td>\n      <td>0.134271</td>\n      <td>NaN</td>\n      <td>NaN</td>\n      <td>NaN</td>\n      <td>NaN</td>\n      <td>NaN</td>\n      <td>NaN</td>\n    </tr>\n    <tr>\n      <th>2</th>\n      <td>W13-2021</td>\n      <td>GAMMA1</td>\n      <td>0.431186</td>\n      <td>13.0</td>\n      <td>2021.0</td>\n      <td>2021-04-04</td>\n      <td>SCOPPITO</td>\n      <td>0.418683</td>\n      <td>0.570</td>\n      <td>0.291389</td>\n      <td>0.209384</td>\n      <td>NaN</td>\n      <td>NaN</td>\n      <td>NaN</td>\n      <td>NaN</td>\n      <td>NaN</td>\n      <td>NaN</td>\n    </tr>\n    <tr>\n      <th>3</th>\n      <td>W13-2021</td>\n      <td>L25 Packaging Line</td>\n      <td>0.393740</td>\n      <td>13.0</td>\n      <td>2021.0</td>\n      <td>2021-04-04</td>\n      <td>Tours</td>\n      <td>0.351564</td>\n      <td>0.478</td>\n      <td>0.206618</td>\n      <td>0.132655</td>\n      <td>NaN</td>\n      <td>NaN</td>\n      <td>NaN</td>\n      <td>NaN</td>\n      <td>NaN</td>\n      <td>NaN</td>\n    </tr>\n    <tr>\n      <th>4</th>\n      <td>W13-2021</td>\n      <td>M18 Filling</td>\n      <td>0.046124</td>\n      <td>13.0</td>\n      <td>2021.0</td>\n      <td>2021-04-04</td>\n      <td>Frankfurt</td>\n      <td>0.443522</td>\n      <td>0.650</td>\n      <td>0.114818</td>\n      <td>0.789781</td>\n      <td>NaN</td>\n      <td>NaN</td>\n      <td>NaN</td>\n      <td>NaN</td>\n      <td>NaN</td>\n      <td>NaN</td>\n    </tr>\n    <tr>\n      <th>...</th>\n      <td>...</td>\n      <td>...</td>\n      <td>...</td>\n      <td>...</td>\n      <td>...</td>\n      <td>...</td>\n      <td>...</td>\n      <td>...</td>\n      <td>...</td>\n      <td>...</td>\n      <td>...</td>\n      <td>...</td>\n      <td>...</td>\n      <td>...</td>\n      <td>...</td>\n      <td>...</td>\n      <td>...</td>\n    </tr>\n    <tr>\n      <th>227</th>\n      <td>NaN</td>\n      <td>AL5 Packaging 1</td>\n      <td>NaN</td>\n      <td>NaN</td>\n      <td>NaN</td>\n      <td>2021-09-12</td>\n      <td>Frankfurt</td>\n      <td>NaN</td>\n      <td>NaN</td>\n      <td>NaN</td>\n      <td>NaN</td>\n      <td>NaN</td>\n      <td>0.0</td>\n      <td>0.0</td>\n      <td>0.0</td>\n      <td>0.0</td>\n      <td>0.0</td>\n    </tr>\n    <tr>\n      <th>228</th>\n      <td>NaN</td>\n      <td>AL6</td>\n      <td>NaN</td>\n      <td>NaN</td>\n      <td>NaN</td>\n      <td>2021-09-12</td>\n      <td>Frankfurt</td>\n      <td>NaN</td>\n      <td>NaN</td>\n      <td>NaN</td>\n      <td>NaN</td>\n      <td>NaN</td>\n      <td>0.0</td>\n      <td>0.0</td>\n      <td>0.0</td>\n      <td>0.0</td>\n      <td>0.0</td>\n    </tr>\n    <tr>\n      <th>229</th>\n      <td>NaN</td>\n      <td>M18 Filling</td>\n      <td>NaN</td>\n      <td>NaN</td>\n      <td>NaN</td>\n      <td>2021-09-12</td>\n      <td>Frankfurt</td>\n      <td>NaN</td>\n      <td>NaN</td>\n      <td>NaN</td>\n      <td>NaN</td>\n      <td>NaN</td>\n      <td>0.0</td>\n      <td>0.0</td>\n      <td>0.0</td>\n      <td>0.0</td>\n      <td>0.0</td>\n    </tr>\n    <tr>\n      <th>230</th>\n      <td>NaN</td>\n      <td>M21 Filling</td>\n      <td>NaN</td>\n      <td>NaN</td>\n      <td>NaN</td>\n      <td>2021-09-12</td>\n      <td>Frankfurt</td>\n      <td>NaN</td>\n      <td>NaN</td>\n      <td>NaN</td>\n      <td>NaN</td>\n      <td>NaN</td>\n      <td>0.0</td>\n      <td>0.0</td>\n      <td>0.0</td>\n      <td>0.0</td>\n      <td>0.0</td>\n    </tr>\n    <tr>\n      <th>231</th>\n      <td>NaN</td>\n      <td>M22 Filling</td>\n      <td>NaN</td>\n      <td>NaN</td>\n      <td>NaN</td>\n      <td>2021-09-12</td>\n      <td>Frankfurt</td>\n      <td>NaN</td>\n      <td>NaN</td>\n      <td>NaN</td>\n      <td>NaN</td>\n      <td>NaN</td>\n      <td>0.0</td>\n      <td>0.0</td>\n      <td>0.0</td>\n      <td>0.0</td>\n      <td>0.0</td>\n    </tr>\n  </tbody>\n</table>\n<p>232 rows × 17 columns</p>\n</div>"
     },
     "metadata": {},
     "execution_count": 266
    }
   ],
   "source": [
    "df_nom_sectors['Date'] = pd.Series(df_nom_sectors['Date']).fillna(method='ffill')\n",
    "df_nom_sectors = df_nom_sectors.fillna(0)\n",
    "\n",
    "df_weekly = df_weekly.merge(df_nom_sectors[['Line','Plant','Date','Best Solution','Best Innovation','Improvement Iterations','Lessons and Sharing','Team Contribution and Spirit']], how='outer', on=['Date','Plant','Line'])\n",
    "df_weekly"
   ]
  },
  {
   "cell_type": "markdown",
   "metadata": {},
   "source": [
    "## Create review dates\n",
    "create a review_date column for grouping the data later, so we only get the data we're interested in for each review"
   ]
  },
  {
   "cell_type": "code",
   "execution_count": 267,
   "metadata": {},
   "outputs": [],
   "source": [
    "def thurs_of_weekbefore(year, week):\n",
    "    return datetime.date.fromisocalendar(year, week-1, 4)  # (year, week before (w-1), thursday)\n",
    "\n",
    "review_weeks = [16, 20, 24, 28, 34, 38, 42, 47]\n",
    "review_dates = []\n",
    "\n",
    "for i in review_weeks:\n",
    "    if i > 0:\n",
    "        review_dates.append((thurs_of_weekbefore(2021,i)))\n",
    "\n",
    "df_review_dates = pd.DataFrame(review_dates)\n",
    "df_review_dates.rename(columns={0:'Review_Date'}, inplace=True)\n",
    "df_review_dates['Review_Date'] = pd.to_datetime(df_review_dates.Review_Date)\n",
    "\n",
    "# df_review_dates.info()\n",
    "df_weekly = pd.merge_asof(df_weekly.sort_values('Date'), df_review_dates, left_on='Date', right_on='Review_Date', allow_exact_matches=True, direction='forward')\n"
   ]
  },
  {
   "cell_type": "markdown",
   "metadata": {},
   "source": [
    "#### We need the diff between the weekly OEE % figures, and the Weekly Changeover figures\n",
    "Need something to calculate the OEE Progress and Changeover, otherwise we will have problems when we group and sum values later\n",
    "- Create OEE_diff with OEE % from groupby of each Line, Week (only 1 row per week, so 'mean' will yield the same)   \n",
    "- Find the diff between the rows in OEE_Diff for each Line   \n",
    "- fillNA (first row for each Line) with OEE Start point - should only be needed on the first row for each Line   \n",
    "\n",
    "repeat same logic for Changeover - there will be more NaN as start_changeover wasn't provided for all.  We populate this later"
   ]
  },
  {
   "cell_type": "code",
   "execution_count": 268,
   "metadata": {},
   "outputs": [],
   "source": [
    "# this was calculating the wrong Diff - the first row of each site was looking at the previous site for all but the 1st calc\n",
    "# needed to sort by Line and Date first \n",
    "\n",
    "# OEE_Diff = df_weekly.groupby(['Line',pd.Grouper(key='Date',freq='W')])['OEE %'].mean().reset_index()\n",
    "# OEE_Diff[\"OEE_Diff\"] = OEE_Diff[\"OEE %\"].diff()\n",
    "# df_weekly = df_weekly.merge(OEE_Diff[[\"Line\",\"Date\",\"OEE_Diff\"]], on=([\"Line\",\"Date\"]))\n",
    "\n",
    "# df_weekly['OEE_Diff'].fillna(df_weekly['OEE %'] - df_weekly['OEE  Start point'], inplace=True)\n",
    "# df_weekly[[\"Line\",\"Date\",\"OEE %\",\"OEE_Diff\"]].head(50).sort_values(by=['Line', 'Date'])"
   ]
  },
  {
   "cell_type": "code",
   "execution_count": 269,
   "metadata": {},
   "outputs": [
    {
     "output_type": "execute_result",
     "data": {
      "text/plain": [
       "                    Line       Date     OEE %  OEE_Diff\n",
       "2        AL5 Packaging 1 2021-04-04  0.046124 -0.433569\n",
       "17       AL5 Packaging 1 2021-04-11  0.259071  0.212947\n",
       "31       AL5 Packaging 1 2021-04-18  0.449745  0.190675\n",
       "41       AL5 Packaging 1 2021-04-25  0.642652  0.192906\n",
       "1                    AL6 2021-04-04  0.367897  0.035240\n",
       "21                   AL6 2021-04-11  0.360681 -0.007216\n",
       "34                   AL6 2021-04-18  0.334140 -0.026541\n",
       "45                   AL6 2021-04-25  0.309545 -0.024595\n",
       "0      C2 Packaging Line 2021-04-04  0.458414  0.060911\n",
       "23     C2 Packaging Line 2021-04-11  0.530707  0.072293\n",
       "29     C2 Packaging Line 2021-04-18  0.410676 -0.120032\n",
       "5      C9 Packaging Line 2021-04-04  0.371845 -0.156673\n",
       "15     C9 Packaging Line 2021-04-11  0.259071 -0.112774\n",
       "28     C9 Packaging Line 2021-04-18  0.444577  0.185507\n",
       "47     C9 Packaging Line 2021-04-25  0.509444  0.064867\n",
       "10                GAMMA1 2021-04-04  0.431186  0.012503\n",
       "22                GAMMA1 2021-04-11  0.389690 -0.041496\n",
       "27                GAMMA1 2021-04-18  0.458668  0.068978\n",
       "3              IMA C80/2 2021-04-04  0.581304  0.130272\n",
       "16             IMA C80/2 2021-04-11  0.433635 -0.147669\n",
       "38             IMA C80/2 2021-04-18  0.451515  0.017881\n",
       "40             IMA C80/2 2021-04-25  0.406219 -0.045296\n",
       "11    L18 Packaging Line 2021-04-04  0.465923  0.088240\n",
       "19    L18 Packaging Line 2021-04-11  0.410901 -0.055022\n",
       "32    L18 Packaging Line 2021-04-18  0.401397 -0.009504\n",
       "49    L18 Packaging Line 2021-04-25  0.357559 -0.043839\n",
       "9     L25 Packaging Line 2021-04-04  0.393740  0.042176\n",
       "20    L25 Packaging Line 2021-04-11  0.346988 -0.046751\n",
       "36    L25 Packaging Line 2021-04-18  0.187845 -0.159143\n",
       "44    L25 Packaging Line 2021-04-25  0.293744  0.105899\n",
       "8            M18 Filling 2021-04-04  0.046124 -0.397398\n",
       "24           M18 Filling 2021-04-11  0.463021  0.416897\n",
       "37           M18 Filling 2021-04-18  0.386723 -0.076297\n",
       "43           M18 Filling 2021-04-25  0.352420 -0.034303\n",
       "7            M21 Filling 2021-04-04  0.046124 -0.553548\n",
       "13           M21 Filling 2021-04-11  0.259071  0.212947\n",
       "30           M21 Filling 2021-04-18  0.187845 -0.071226\n",
       "48           M21 Filling 2021-04-25  0.000000 -0.187845\n",
       "12           M22 Filling 2021-04-04  0.649336  0.119268\n",
       "18           M22 Filling 2021-04-11  0.427316 -0.222019\n",
       "35           M22 Filling 2021-04-18  0.520511  0.093195\n",
       "46           M22 Filling 2021-04-25  0.703703  0.183191\n",
       "4   SUPPO Packaging Line 2021-04-04  0.432432  0.079411\n",
       "14  SUPPO Packaging Line 2021-04-11  0.518594  0.086162\n",
       "26  SUPPO Packaging Line 2021-04-18  0.633037  0.114443\n",
       "39  SUPPO Packaging Line 2021-04-25  0.403974 -0.229063\n",
       "6   TR200 Packaging Line 2021-04-04  0.596432  0.112928\n",
       "25  TR200 Packaging Line 2021-04-11  0.515187 -0.081246\n",
       "33  TR200 Packaging Line 2021-04-18  0.655470  0.140283\n",
       "42  TR200 Packaging Line 2021-04-25  0.501130 -0.154340"
      ],
      "text/html": "<div>\n<style scoped>\n    .dataframe tbody tr th:only-of-type {\n        vertical-align: middle;\n    }\n\n    .dataframe tbody tr th {\n        vertical-align: top;\n    }\n\n    .dataframe thead th {\n        text-align: right;\n    }\n</style>\n<table border=\"1\" class=\"dataframe\">\n  <thead>\n    <tr style=\"text-align: right;\">\n      <th></th>\n      <th>Line</th>\n      <th>Date</th>\n      <th>OEE %</th>\n      <th>OEE_Diff</th>\n    </tr>\n  </thead>\n  <tbody>\n    <tr>\n      <th>2</th>\n      <td>AL5 Packaging 1</td>\n      <td>2021-04-04</td>\n      <td>0.046124</td>\n      <td>-0.433569</td>\n    </tr>\n    <tr>\n      <th>17</th>\n      <td>AL5 Packaging 1</td>\n      <td>2021-04-11</td>\n      <td>0.259071</td>\n      <td>0.212947</td>\n    </tr>\n    <tr>\n      <th>31</th>\n      <td>AL5 Packaging 1</td>\n      <td>2021-04-18</td>\n      <td>0.449745</td>\n      <td>0.190675</td>\n    </tr>\n    <tr>\n      <th>41</th>\n      <td>AL5 Packaging 1</td>\n      <td>2021-04-25</td>\n      <td>0.642652</td>\n      <td>0.192906</td>\n    </tr>\n    <tr>\n      <th>1</th>\n      <td>AL6</td>\n      <td>2021-04-04</td>\n      <td>0.367897</td>\n      <td>0.035240</td>\n    </tr>\n    <tr>\n      <th>21</th>\n      <td>AL6</td>\n      <td>2021-04-11</td>\n      <td>0.360681</td>\n      <td>-0.007216</td>\n    </tr>\n    <tr>\n      <th>34</th>\n      <td>AL6</td>\n      <td>2021-04-18</td>\n      <td>0.334140</td>\n      <td>-0.026541</td>\n    </tr>\n    <tr>\n      <th>45</th>\n      <td>AL6</td>\n      <td>2021-04-25</td>\n      <td>0.309545</td>\n      <td>-0.024595</td>\n    </tr>\n    <tr>\n      <th>0</th>\n      <td>C2 Packaging Line</td>\n      <td>2021-04-04</td>\n      <td>0.458414</td>\n      <td>0.060911</td>\n    </tr>\n    <tr>\n      <th>23</th>\n      <td>C2 Packaging Line</td>\n      <td>2021-04-11</td>\n      <td>0.530707</td>\n      <td>0.072293</td>\n    </tr>\n    <tr>\n      <th>29</th>\n      <td>C2 Packaging Line</td>\n      <td>2021-04-18</td>\n      <td>0.410676</td>\n      <td>-0.120032</td>\n    </tr>\n    <tr>\n      <th>5</th>\n      <td>C9 Packaging Line</td>\n      <td>2021-04-04</td>\n      <td>0.371845</td>\n      <td>-0.156673</td>\n    </tr>\n    <tr>\n      <th>15</th>\n      <td>C9 Packaging Line</td>\n      <td>2021-04-11</td>\n      <td>0.259071</td>\n      <td>-0.112774</td>\n    </tr>\n    <tr>\n      <th>28</th>\n      <td>C9 Packaging Line</td>\n      <td>2021-04-18</td>\n      <td>0.444577</td>\n      <td>0.185507</td>\n    </tr>\n    <tr>\n      <th>47</th>\n      <td>C9 Packaging Line</td>\n      <td>2021-04-25</td>\n      <td>0.509444</td>\n      <td>0.064867</td>\n    </tr>\n    <tr>\n      <th>10</th>\n      <td>GAMMA1</td>\n      <td>2021-04-04</td>\n      <td>0.431186</td>\n      <td>0.012503</td>\n    </tr>\n    <tr>\n      <th>22</th>\n      <td>GAMMA1</td>\n      <td>2021-04-11</td>\n      <td>0.389690</td>\n      <td>-0.041496</td>\n    </tr>\n    <tr>\n      <th>27</th>\n      <td>GAMMA1</td>\n      <td>2021-04-18</td>\n      <td>0.458668</td>\n      <td>0.068978</td>\n    </tr>\n    <tr>\n      <th>3</th>\n      <td>IMA C80/2</td>\n      <td>2021-04-04</td>\n      <td>0.581304</td>\n      <td>0.130272</td>\n    </tr>\n    <tr>\n      <th>16</th>\n      <td>IMA C80/2</td>\n      <td>2021-04-11</td>\n      <td>0.433635</td>\n      <td>-0.147669</td>\n    </tr>\n    <tr>\n      <th>38</th>\n      <td>IMA C80/2</td>\n      <td>2021-04-18</td>\n      <td>0.451515</td>\n      <td>0.017881</td>\n    </tr>\n    <tr>\n      <th>40</th>\n      <td>IMA C80/2</td>\n      <td>2021-04-25</td>\n      <td>0.406219</td>\n      <td>-0.045296</td>\n    </tr>\n    <tr>\n      <th>11</th>\n      <td>L18 Packaging Line</td>\n      <td>2021-04-04</td>\n      <td>0.465923</td>\n      <td>0.088240</td>\n    </tr>\n    <tr>\n      <th>19</th>\n      <td>L18 Packaging Line</td>\n      <td>2021-04-11</td>\n      <td>0.410901</td>\n      <td>-0.055022</td>\n    </tr>\n    <tr>\n      <th>32</th>\n      <td>L18 Packaging Line</td>\n      <td>2021-04-18</td>\n      <td>0.401397</td>\n      <td>-0.009504</td>\n    </tr>\n    <tr>\n      <th>49</th>\n      <td>L18 Packaging Line</td>\n      <td>2021-04-25</td>\n      <td>0.357559</td>\n      <td>-0.043839</td>\n    </tr>\n    <tr>\n      <th>9</th>\n      <td>L25 Packaging Line</td>\n      <td>2021-04-04</td>\n      <td>0.393740</td>\n      <td>0.042176</td>\n    </tr>\n    <tr>\n      <th>20</th>\n      <td>L25 Packaging Line</td>\n      <td>2021-04-11</td>\n      <td>0.346988</td>\n      <td>-0.046751</td>\n    </tr>\n    <tr>\n      <th>36</th>\n      <td>L25 Packaging Line</td>\n      <td>2021-04-18</td>\n      <td>0.187845</td>\n      <td>-0.159143</td>\n    </tr>\n    <tr>\n      <th>44</th>\n      <td>L25 Packaging Line</td>\n      <td>2021-04-25</td>\n      <td>0.293744</td>\n      <td>0.105899</td>\n    </tr>\n    <tr>\n      <th>8</th>\n      <td>M18 Filling</td>\n      <td>2021-04-04</td>\n      <td>0.046124</td>\n      <td>-0.397398</td>\n    </tr>\n    <tr>\n      <th>24</th>\n      <td>M18 Filling</td>\n      <td>2021-04-11</td>\n      <td>0.463021</td>\n      <td>0.416897</td>\n    </tr>\n    <tr>\n      <th>37</th>\n      <td>M18 Filling</td>\n      <td>2021-04-18</td>\n      <td>0.386723</td>\n      <td>-0.076297</td>\n    </tr>\n    <tr>\n      <th>43</th>\n      <td>M18 Filling</td>\n      <td>2021-04-25</td>\n      <td>0.352420</td>\n      <td>-0.034303</td>\n    </tr>\n    <tr>\n      <th>7</th>\n      <td>M21 Filling</td>\n      <td>2021-04-04</td>\n      <td>0.046124</td>\n      <td>-0.553548</td>\n    </tr>\n    <tr>\n      <th>13</th>\n      <td>M21 Filling</td>\n      <td>2021-04-11</td>\n      <td>0.259071</td>\n      <td>0.212947</td>\n    </tr>\n    <tr>\n      <th>30</th>\n      <td>M21 Filling</td>\n      <td>2021-04-18</td>\n      <td>0.187845</td>\n      <td>-0.071226</td>\n    </tr>\n    <tr>\n      <th>48</th>\n      <td>M21 Filling</td>\n      <td>2021-04-25</td>\n      <td>0.000000</td>\n      <td>-0.187845</td>\n    </tr>\n    <tr>\n      <th>12</th>\n      <td>M22 Filling</td>\n      <td>2021-04-04</td>\n      <td>0.649336</td>\n      <td>0.119268</td>\n    </tr>\n    <tr>\n      <th>18</th>\n      <td>M22 Filling</td>\n      <td>2021-04-11</td>\n      <td>0.427316</td>\n      <td>-0.222019</td>\n    </tr>\n    <tr>\n      <th>35</th>\n      <td>M22 Filling</td>\n      <td>2021-04-18</td>\n      <td>0.520511</td>\n      <td>0.093195</td>\n    </tr>\n    <tr>\n      <th>46</th>\n      <td>M22 Filling</td>\n      <td>2021-04-25</td>\n      <td>0.703703</td>\n      <td>0.183191</td>\n    </tr>\n    <tr>\n      <th>4</th>\n      <td>SUPPO Packaging Line</td>\n      <td>2021-04-04</td>\n      <td>0.432432</td>\n      <td>0.079411</td>\n    </tr>\n    <tr>\n      <th>14</th>\n      <td>SUPPO Packaging Line</td>\n      <td>2021-04-11</td>\n      <td>0.518594</td>\n      <td>0.086162</td>\n    </tr>\n    <tr>\n      <th>26</th>\n      <td>SUPPO Packaging Line</td>\n      <td>2021-04-18</td>\n      <td>0.633037</td>\n      <td>0.114443</td>\n    </tr>\n    <tr>\n      <th>39</th>\n      <td>SUPPO Packaging Line</td>\n      <td>2021-04-25</td>\n      <td>0.403974</td>\n      <td>-0.229063</td>\n    </tr>\n    <tr>\n      <th>6</th>\n      <td>TR200 Packaging Line</td>\n      <td>2021-04-04</td>\n      <td>0.596432</td>\n      <td>0.112928</td>\n    </tr>\n    <tr>\n      <th>25</th>\n      <td>TR200 Packaging Line</td>\n      <td>2021-04-11</td>\n      <td>0.515187</td>\n      <td>-0.081246</td>\n    </tr>\n    <tr>\n      <th>33</th>\n      <td>TR200 Packaging Line</td>\n      <td>2021-04-18</td>\n      <td>0.655470</td>\n      <td>0.140283</td>\n    </tr>\n    <tr>\n      <th>42</th>\n      <td>TR200 Packaging Line</td>\n      <td>2021-04-25</td>\n      <td>0.501130</td>\n      <td>-0.154340</td>\n    </tr>\n  </tbody>\n</table>\n</div>"
     },
     "metadata": {},
     "execution_count": 269
    }
   ],
   "source": [
    "OEE_Diff = df_weekly.sort_values(by=['Line', 'Date'])[['Line','Date','OEE %','OEE  Start point']]\n",
    "OEE_Diff['OEE_Diff'] = OEE_Diff.groupby('Line')['OEE %'].diff().fillna(df_weekly['OEE %'] - df_weekly['OEE  Start point'])\n",
    "df_weekly = df_weekly.merge(OEE_Diff[[\"Line\",\"Date\",\"OEE_Diff\"]], on=([\"Line\",\"Date\"]))\n",
    "df_weekly[[\"Line\",\"Date\",\"OEE %\",\"OEE_Diff\"]].head(50).sort_values(by=['Line', 'Date'])"
   ]
  },
  {
   "cell_type": "code",
   "execution_count": 270,
   "metadata": {},
   "outputs": [],
   "source": [
    "# Changeover_Diff = df_weekly.sort_values(by=['Line', 'Date'])[['Line','Date','Changeover','start_changeover']]\n",
    "Changeover_Diff = df_weekly.sort_values(by=['Line', 'Date'])[['Line','Date','Changeover']]\n",
    "# Changeover_Diff['Changeover_Diff'] = Changeover_Diff.groupby('Line')['Changeover'].diff().fillna(df_weekly['start_changeover'] - df_weekly['Changeover'])\n",
    "Changeover_Diff['Changeover_Diff'] = Changeover_Diff.groupby('Line')['Changeover'].diff().fillna(0)\n",
    "df_weekly = df_weekly.merge(Changeover_Diff[[\"Line\",\"Date\",\"Changeover_Diff\"]], on=([\"Line\",\"Date\"]))"
   ]
  },
  {
   "cell_type": "code",
   "execution_count": 271,
   "metadata": {},
   "outputs": [
    {
     "output_type": "execute_result",
     "data": {
      "text/plain": [
       "                Line       Date  Changeover  Changeover_Diff\n",
       "2    AL5 Packaging 1 2021-04-04         NaN         0.000000\n",
       "17   AL5 Packaging 1 2021-04-11         NaN         0.000000\n",
       "31   AL5 Packaging 1 2021-04-18    0.087039         0.000000\n",
       "41   AL5 Packaging 1 2021-04-25    0.122727         0.035688\n",
       "60   AL5 Packaging 1 2021-05-02    0.063261        -0.059466\n",
       "81   AL5 Packaging 1 2021-05-09    0.089293         0.026032\n",
       "91   AL5 Packaging 1 2021-05-16    0.060573        -0.028721\n",
       "103  AL5 Packaging 1 2021-05-23         NaN         0.000000\n",
       "126  AL5 Packaging 1 2021-05-30         NaN         0.000000\n",
       "136  AL5 Packaging 1 2021-06-06    0.088889         0.000000\n",
       "153  AL5 Packaging 1 2021-06-13    0.060616        -0.028273\n",
       "158  AL5 Packaging 1 2021-06-20    0.036089        -0.024526\n",
       "185  AL5 Packaging 1 2021-06-27    0.123431         0.087341\n",
       "194  AL5 Packaging 1 2021-07-04         NaN         0.000000\n",
       "206  AL5 Packaging 1 2021-08-15         NaN         0.000000\n",
       "219  AL5 Packaging 1 2021-09-12         NaN         0.000000"
      ],
      "text/html": "<div>\n<style scoped>\n    .dataframe tbody tr th:only-of-type {\n        vertical-align: middle;\n    }\n\n    .dataframe tbody tr th {\n        vertical-align: top;\n    }\n\n    .dataframe thead th {\n        text-align: right;\n    }\n</style>\n<table border=\"1\" class=\"dataframe\">\n  <thead>\n    <tr style=\"text-align: right;\">\n      <th></th>\n      <th>Line</th>\n      <th>Date</th>\n      <th>Changeover</th>\n      <th>Changeover_Diff</th>\n    </tr>\n  </thead>\n  <tbody>\n    <tr>\n      <th>2</th>\n      <td>AL5 Packaging 1</td>\n      <td>2021-04-04</td>\n      <td>NaN</td>\n      <td>0.000000</td>\n    </tr>\n    <tr>\n      <th>17</th>\n      <td>AL5 Packaging 1</td>\n      <td>2021-04-11</td>\n      <td>NaN</td>\n      <td>0.000000</td>\n    </tr>\n    <tr>\n      <th>31</th>\n      <td>AL5 Packaging 1</td>\n      <td>2021-04-18</td>\n      <td>0.087039</td>\n      <td>0.000000</td>\n    </tr>\n    <tr>\n      <th>41</th>\n      <td>AL5 Packaging 1</td>\n      <td>2021-04-25</td>\n      <td>0.122727</td>\n      <td>0.035688</td>\n    </tr>\n    <tr>\n      <th>60</th>\n      <td>AL5 Packaging 1</td>\n      <td>2021-05-02</td>\n      <td>0.063261</td>\n      <td>-0.059466</td>\n    </tr>\n    <tr>\n      <th>81</th>\n      <td>AL5 Packaging 1</td>\n      <td>2021-05-09</td>\n      <td>0.089293</td>\n      <td>0.026032</td>\n    </tr>\n    <tr>\n      <th>91</th>\n      <td>AL5 Packaging 1</td>\n      <td>2021-05-16</td>\n      <td>0.060573</td>\n      <td>-0.028721</td>\n    </tr>\n    <tr>\n      <th>103</th>\n      <td>AL5 Packaging 1</td>\n      <td>2021-05-23</td>\n      <td>NaN</td>\n      <td>0.000000</td>\n    </tr>\n    <tr>\n      <th>126</th>\n      <td>AL5 Packaging 1</td>\n      <td>2021-05-30</td>\n      <td>NaN</td>\n      <td>0.000000</td>\n    </tr>\n    <tr>\n      <th>136</th>\n      <td>AL5 Packaging 1</td>\n      <td>2021-06-06</td>\n      <td>0.088889</td>\n      <td>0.000000</td>\n    </tr>\n    <tr>\n      <th>153</th>\n      <td>AL5 Packaging 1</td>\n      <td>2021-06-13</td>\n      <td>0.060616</td>\n      <td>-0.028273</td>\n    </tr>\n    <tr>\n      <th>158</th>\n      <td>AL5 Packaging 1</td>\n      <td>2021-06-20</td>\n      <td>0.036089</td>\n      <td>-0.024526</td>\n    </tr>\n    <tr>\n      <th>185</th>\n      <td>AL5 Packaging 1</td>\n      <td>2021-06-27</td>\n      <td>0.123431</td>\n      <td>0.087341</td>\n    </tr>\n    <tr>\n      <th>194</th>\n      <td>AL5 Packaging 1</td>\n      <td>2021-07-04</td>\n      <td>NaN</td>\n      <td>0.000000</td>\n    </tr>\n    <tr>\n      <th>206</th>\n      <td>AL5 Packaging 1</td>\n      <td>2021-08-15</td>\n      <td>NaN</td>\n      <td>0.000000</td>\n    </tr>\n    <tr>\n      <th>219</th>\n      <td>AL5 Packaging 1</td>\n      <td>2021-09-12</td>\n      <td>NaN</td>\n      <td>0.000000</td>\n    </tr>\n  </tbody>\n</table>\n</div>"
     },
     "metadata": {},
     "execution_count": 271
    }
   ],
   "source": [
    "Changeover_Diff[Changeover_Diff.Line.str.contains('AL5')]"
   ]
  },
  {
   "cell_type": "code",
   "execution_count": 272,
   "metadata": {},
   "outputs": [],
   "source": [
    "# Changeover_mean = df_weekly.sort_values(by=['Line', 'Date'])[['Line','Date','Changeover','start_changeover']]\n",
    "Changeover_mean = df_weekly.sort_values(by=['Line', 'Date'])[['Line','Date','Changeover']]\n",
    "Changeover_mean['Changeover_rolling_mean'] = Changeover_mean.groupby('Line')['Changeover'].apply(lambda x : x.rolling(4,1).mean())\n",
    "df_weekly = df_weekly.merge(Changeover_mean[[\"Line\",\"Date\",\"Changeover_rolling_mean\"]], on=([\"Line\",\"Date\"]))"
   ]
  },
  {
   "cell_type": "code",
   "execution_count": 273,
   "metadata": {},
   "outputs": [
    {
     "output_type": "execute_result",
     "data": {
      "text/plain": [
       "                       Line       Date  Changeover  Changeover_rolling_mean\n",
       "52   LINE 01 - UHLMANN 1880 2021-05-02    0.000000                 0.000000\n",
       "70   LINE 01 - UHLMANN 1880 2021-05-09    0.000000                 0.000000\n",
       "86   LINE 01 - UHLMANN 1880 2021-05-16    0.016561                 0.005520\n",
       "105  LINE 01 - UHLMANN 1880 2021-05-23    0.040157                 0.014179\n",
       "121  LINE 01 - UHLMANN 1880 2021-05-30    0.024481                 0.020300\n",
       "131  LINE 01 - UHLMANN 1880 2021-06-06    0.205835                 0.071758\n",
       "152  LINE 01 - UHLMANN 1880 2021-06-13    0.025332                 0.073951\n",
       "163  LINE 01 - UHLMANN 1880 2021-06-20    0.023659                 0.069827\n",
       "176  LINE 01 - UHLMANN 1880 2021-06-27    0.018125                 0.068238\n",
       "200  LINE 01 - UHLMANN 1880 2021-07-04    0.024520                 0.022909\n",
       "213  LINE 01 - UHLMANN 1880 2021-08-15         NaN                 0.022101\n",
       "226  LINE 01 - UHLMANN 1880 2021-09-12         NaN                 0.021322"
      ],
      "text/html": "<div>\n<style scoped>\n    .dataframe tbody tr th:only-of-type {\n        vertical-align: middle;\n    }\n\n    .dataframe tbody tr th {\n        vertical-align: top;\n    }\n\n    .dataframe thead th {\n        text-align: right;\n    }\n</style>\n<table border=\"1\" class=\"dataframe\">\n  <thead>\n    <tr style=\"text-align: right;\">\n      <th></th>\n      <th>Line</th>\n      <th>Date</th>\n      <th>Changeover</th>\n      <th>Changeover_rolling_mean</th>\n    </tr>\n  </thead>\n  <tbody>\n    <tr>\n      <th>52</th>\n      <td>LINE 01 - UHLMANN 1880</td>\n      <td>2021-05-02</td>\n      <td>0.000000</td>\n      <td>0.000000</td>\n    </tr>\n    <tr>\n      <th>70</th>\n      <td>LINE 01 - UHLMANN 1880</td>\n      <td>2021-05-09</td>\n      <td>0.000000</td>\n      <td>0.000000</td>\n    </tr>\n    <tr>\n      <th>86</th>\n      <td>LINE 01 - UHLMANN 1880</td>\n      <td>2021-05-16</td>\n      <td>0.016561</td>\n      <td>0.005520</td>\n    </tr>\n    <tr>\n      <th>105</th>\n      <td>LINE 01 - UHLMANN 1880</td>\n      <td>2021-05-23</td>\n      <td>0.040157</td>\n      <td>0.014179</td>\n    </tr>\n    <tr>\n      <th>121</th>\n      <td>LINE 01 - UHLMANN 1880</td>\n      <td>2021-05-30</td>\n      <td>0.024481</td>\n      <td>0.020300</td>\n    </tr>\n    <tr>\n      <th>131</th>\n      <td>LINE 01 - UHLMANN 1880</td>\n      <td>2021-06-06</td>\n      <td>0.205835</td>\n      <td>0.071758</td>\n    </tr>\n    <tr>\n      <th>152</th>\n      <td>LINE 01 - UHLMANN 1880</td>\n      <td>2021-06-13</td>\n      <td>0.025332</td>\n      <td>0.073951</td>\n    </tr>\n    <tr>\n      <th>163</th>\n      <td>LINE 01 - UHLMANN 1880</td>\n      <td>2021-06-20</td>\n      <td>0.023659</td>\n      <td>0.069827</td>\n    </tr>\n    <tr>\n      <th>176</th>\n      <td>LINE 01 - UHLMANN 1880</td>\n      <td>2021-06-27</td>\n      <td>0.018125</td>\n      <td>0.068238</td>\n    </tr>\n    <tr>\n      <th>200</th>\n      <td>LINE 01 - UHLMANN 1880</td>\n      <td>2021-07-04</td>\n      <td>0.024520</td>\n      <td>0.022909</td>\n    </tr>\n    <tr>\n      <th>213</th>\n      <td>LINE 01 - UHLMANN 1880</td>\n      <td>2021-08-15</td>\n      <td>NaN</td>\n      <td>0.022101</td>\n    </tr>\n    <tr>\n      <th>226</th>\n      <td>LINE 01 - UHLMANN 1880</td>\n      <td>2021-09-12</td>\n      <td>NaN</td>\n      <td>0.021322</td>\n    </tr>\n  </tbody>\n</table>\n</div>"
     },
     "metadata": {},
     "execution_count": 273
    }
   ],
   "source": [
    "Changeover_mean[Changeover_mean.Line.str.contains('LINE')]"
   ]
  },
  {
   "cell_type": "markdown",
   "metadata": {},
   "source": [
    "#### Populate missing Unplanned Tech Loss\n",
    "\n",
    "- Create weekly min/max cols for Unplanned tech loss from any site   \n",
    "- Merge those columns into df_weekly   \n",
    "- fill any NaN rows with the max Unplanned_tech_loss found for that week   \n",
    "\n",
    "**this might be flawed!!** "
   ]
  },
  {
   "cell_type": "code",
   "execution_count": 274,
   "metadata": {},
   "outputs": [
    {
     "output_type": "execute_result",
     "data": {
      "text/plain": [
       "         Week                  Line     OEE %  WeekOfYear    Year       Date  \\\n",
       "0    W13-2021     C2 Packaging Line  0.458414        13.0  2021.0 2021-04-04   \n",
       "1    W13-2021                   AL6  0.367897        13.0  2021.0 2021-04-04   \n",
       "2    W13-2021       AL5 Packaging 1  0.046124        13.0  2021.0 2021-04-04   \n",
       "3    W13-2021             IMA C80/2  0.581304        13.0  2021.0 2021-04-04   \n",
       "4    W13-2021  SUPPO Packaging Line  0.432432        13.0  2021.0 2021-04-04   \n",
       "..        ...                   ...       ...         ...     ...        ...   \n",
       "227       NaN    L25 Packaging Line       NaN         NaN     NaN 2021-09-12   \n",
       "228       NaN    L18 Packaging Line       NaN         NaN     NaN 2021-09-12   \n",
       "229       NaN           M21 Filling       NaN         NaN     NaN 2021-09-12   \n",
       "230       NaN     C2 Packaging Line       NaN         NaN     NaN 2021-09-12   \n",
       "231       NaN           M22 Filling       NaN         NaN     NaN 2021-09-12   \n",
       "\n",
       "              Plant  OEE  Start point  OEE% Target (2022)  \\\n",
       "0    Maisons-Alfort          0.397503                0.47   \n",
       "1         Frankfurt          0.332657                0.45   \n",
       "2         Frankfurt          0.479693                0.50   \n",
       "3          SCOPPITO          0.451031                0.58   \n",
       "4           Lisieux          0.353021                0.53   \n",
       "..              ...               ...                 ...   \n",
       "227           Tours               NaN                 NaN   \n",
       "228           Tours               NaN                 NaN   \n",
       "229       Frankfurt               NaN                 NaN   \n",
       "230  Maisons-Alfort               NaN                 NaN   \n",
       "231       Frankfurt               NaN                 NaN   \n",
       "\n",
       "     Unplanned_tech_loss  ...  rolling_std  Best Solution  Best Innovation  \\\n",
       "0               0.465009  ...          NaN            NaN              NaN   \n",
       "1               0.342851  ...          NaN            NaN              NaN   \n",
       "2               0.465009  ...          NaN            NaN              NaN   \n",
       "3               0.224561  ...          NaN            NaN              NaN   \n",
       "4               0.148267  ...          NaN            NaN              NaN   \n",
       "..                   ...  ...          ...            ...              ...   \n",
       "227                  NaN  ...          NaN            0.0              0.0   \n",
       "228                  NaN  ...          NaN            0.0              0.0   \n",
       "229                  NaN  ...          NaN            0.0              0.0   \n",
       "230                  NaN  ...          NaN            0.0              0.0   \n",
       "231                  NaN  ...          NaN            0.0              0.0   \n",
       "\n",
       "     Improvement Iterations  Lessons and Sharing  \\\n",
       "0                       NaN                  NaN   \n",
       "1                       NaN                  NaN   \n",
       "2                       NaN                  NaN   \n",
       "3                       NaN                  NaN   \n",
       "4                       NaN                  NaN   \n",
       "..                      ...                  ...   \n",
       "227                     0.0                  0.0   \n",
       "228                     0.0                  0.0   \n",
       "229                     0.0                  0.0   \n",
       "230                     0.0                  0.0   \n",
       "231                     0.0                  0.0   \n",
       "\n",
       "     Team Contribution and Spirit  Review_Date  OEE_Diff  Changeover_Diff  \\\n",
       "0                             NaN   2021-04-15  0.060911              0.0   \n",
       "1                             NaN   2021-04-15  0.035240              0.0   \n",
       "2                             NaN   2021-04-15 -0.433569              0.0   \n",
       "3                             NaN   2021-04-15  0.130272              0.0   \n",
       "4                             NaN   2021-04-15  0.079411              0.0   \n",
       "..                            ...          ...       ...              ...   \n",
       "227                           0.0   2021-09-16       NaN              0.0   \n",
       "228                           0.0   2021-09-16       NaN              0.0   \n",
       "229                           0.0   2021-09-16       NaN              0.0   \n",
       "230                           0.0   2021-09-16       NaN              0.0   \n",
       "231                           0.0   2021-09-16       NaN              0.0   \n",
       "\n",
       "     Changeover_rolling_mean  \n",
       "0                   0.044140  \n",
       "1                   0.184958  \n",
       "2                        NaN  \n",
       "3                   0.070836  \n",
       "4                   0.178806  \n",
       "..                       ...  \n",
       "227                 0.178769  \n",
       "228                 0.111640  \n",
       "229                 0.220155  \n",
       "230                 0.212684  \n",
       "231                 0.120819  \n",
       "\n",
       "[232 rows x 21 columns]"
      ],
      "text/html": "<div>\n<style scoped>\n    .dataframe tbody tr th:only-of-type {\n        vertical-align: middle;\n    }\n\n    .dataframe tbody tr th {\n        vertical-align: top;\n    }\n\n    .dataframe thead th {\n        text-align: right;\n    }\n</style>\n<table border=\"1\" class=\"dataframe\">\n  <thead>\n    <tr style=\"text-align: right;\">\n      <th></th>\n      <th>Week</th>\n      <th>Line</th>\n      <th>OEE %</th>\n      <th>WeekOfYear</th>\n      <th>Year</th>\n      <th>Date</th>\n      <th>Plant</th>\n      <th>OEE  Start point</th>\n      <th>OEE% Target (2022)</th>\n      <th>Unplanned_tech_loss</th>\n      <th>...</th>\n      <th>rolling_std</th>\n      <th>Best Solution</th>\n      <th>Best Innovation</th>\n      <th>Improvement Iterations</th>\n      <th>Lessons and Sharing</th>\n      <th>Team Contribution and Spirit</th>\n      <th>Review_Date</th>\n      <th>OEE_Diff</th>\n      <th>Changeover_Diff</th>\n      <th>Changeover_rolling_mean</th>\n    </tr>\n  </thead>\n  <tbody>\n    <tr>\n      <th>0</th>\n      <td>W13-2021</td>\n      <td>C2 Packaging Line</td>\n      <td>0.458414</td>\n      <td>13.0</td>\n      <td>2021.0</td>\n      <td>2021-04-04</td>\n      <td>Maisons-Alfort</td>\n      <td>0.397503</td>\n      <td>0.47</td>\n      <td>0.465009</td>\n      <td>...</td>\n      <td>NaN</td>\n      <td>NaN</td>\n      <td>NaN</td>\n      <td>NaN</td>\n      <td>NaN</td>\n      <td>NaN</td>\n      <td>2021-04-15</td>\n      <td>0.060911</td>\n      <td>0.0</td>\n      <td>0.044140</td>\n    </tr>\n    <tr>\n      <th>1</th>\n      <td>W13-2021</td>\n      <td>AL6</td>\n      <td>0.367897</td>\n      <td>13.0</td>\n      <td>2021.0</td>\n      <td>2021-04-04</td>\n      <td>Frankfurt</td>\n      <td>0.332657</td>\n      <td>0.45</td>\n      <td>0.342851</td>\n      <td>...</td>\n      <td>NaN</td>\n      <td>NaN</td>\n      <td>NaN</td>\n      <td>NaN</td>\n      <td>NaN</td>\n      <td>NaN</td>\n      <td>2021-04-15</td>\n      <td>0.035240</td>\n      <td>0.0</td>\n      <td>0.184958</td>\n    </tr>\n    <tr>\n      <th>2</th>\n      <td>W13-2021</td>\n      <td>AL5 Packaging 1</td>\n      <td>0.046124</td>\n      <td>13.0</td>\n      <td>2021.0</td>\n      <td>2021-04-04</td>\n      <td>Frankfurt</td>\n      <td>0.479693</td>\n      <td>0.50</td>\n      <td>0.465009</td>\n      <td>...</td>\n      <td>NaN</td>\n      <td>NaN</td>\n      <td>NaN</td>\n      <td>NaN</td>\n      <td>NaN</td>\n      <td>NaN</td>\n      <td>2021-04-15</td>\n      <td>-0.433569</td>\n      <td>0.0</td>\n      <td>NaN</td>\n    </tr>\n    <tr>\n      <th>3</th>\n      <td>W13-2021</td>\n      <td>IMA C80/2</td>\n      <td>0.581304</td>\n      <td>13.0</td>\n      <td>2021.0</td>\n      <td>2021-04-04</td>\n      <td>SCOPPITO</td>\n      <td>0.451031</td>\n      <td>0.58</td>\n      <td>0.224561</td>\n      <td>...</td>\n      <td>NaN</td>\n      <td>NaN</td>\n      <td>NaN</td>\n      <td>NaN</td>\n      <td>NaN</td>\n      <td>NaN</td>\n      <td>2021-04-15</td>\n      <td>0.130272</td>\n      <td>0.0</td>\n      <td>0.070836</td>\n    </tr>\n    <tr>\n      <th>4</th>\n      <td>W13-2021</td>\n      <td>SUPPO Packaging Line</td>\n      <td>0.432432</td>\n      <td>13.0</td>\n      <td>2021.0</td>\n      <td>2021-04-04</td>\n      <td>Lisieux</td>\n      <td>0.353021</td>\n      <td>0.53</td>\n      <td>0.148267</td>\n      <td>...</td>\n      <td>NaN</td>\n      <td>NaN</td>\n      <td>NaN</td>\n      <td>NaN</td>\n      <td>NaN</td>\n      <td>NaN</td>\n      <td>2021-04-15</td>\n      <td>0.079411</td>\n      <td>0.0</td>\n      <td>0.178806</td>\n    </tr>\n    <tr>\n      <th>...</th>\n      <td>...</td>\n      <td>...</td>\n      <td>...</td>\n      <td>...</td>\n      <td>...</td>\n      <td>...</td>\n      <td>...</td>\n      <td>...</td>\n      <td>...</td>\n      <td>...</td>\n      <td>...</td>\n      <td>...</td>\n      <td>...</td>\n      <td>...</td>\n      <td>...</td>\n      <td>...</td>\n      <td>...</td>\n      <td>...</td>\n      <td>...</td>\n      <td>...</td>\n      <td>...</td>\n    </tr>\n    <tr>\n      <th>227</th>\n      <td>NaN</td>\n      <td>L25 Packaging Line</td>\n      <td>NaN</td>\n      <td>NaN</td>\n      <td>NaN</td>\n      <td>2021-09-12</td>\n      <td>Tours</td>\n      <td>NaN</td>\n      <td>NaN</td>\n      <td>NaN</td>\n      <td>...</td>\n      <td>NaN</td>\n      <td>0.0</td>\n      <td>0.0</td>\n      <td>0.0</td>\n      <td>0.0</td>\n      <td>0.0</td>\n      <td>2021-09-16</td>\n      <td>NaN</td>\n      <td>0.0</td>\n      <td>0.178769</td>\n    </tr>\n    <tr>\n      <th>228</th>\n      <td>NaN</td>\n      <td>L18 Packaging Line</td>\n      <td>NaN</td>\n      <td>NaN</td>\n      <td>NaN</td>\n      <td>2021-09-12</td>\n      <td>Tours</td>\n      <td>NaN</td>\n      <td>NaN</td>\n      <td>NaN</td>\n      <td>...</td>\n      <td>NaN</td>\n      <td>0.0</td>\n      <td>0.0</td>\n      <td>0.0</td>\n      <td>0.0</td>\n      <td>0.0</td>\n      <td>2021-09-16</td>\n      <td>NaN</td>\n      <td>0.0</td>\n      <td>0.111640</td>\n    </tr>\n    <tr>\n      <th>229</th>\n      <td>NaN</td>\n      <td>M21 Filling</td>\n      <td>NaN</td>\n      <td>NaN</td>\n      <td>NaN</td>\n      <td>2021-09-12</td>\n      <td>Frankfurt</td>\n      <td>NaN</td>\n      <td>NaN</td>\n      <td>NaN</td>\n      <td>...</td>\n      <td>NaN</td>\n      <td>0.0</td>\n      <td>0.0</td>\n      <td>0.0</td>\n      <td>0.0</td>\n      <td>0.0</td>\n      <td>2021-09-16</td>\n      <td>NaN</td>\n      <td>0.0</td>\n      <td>0.220155</td>\n    </tr>\n    <tr>\n      <th>230</th>\n      <td>NaN</td>\n      <td>C2 Packaging Line</td>\n      <td>NaN</td>\n      <td>NaN</td>\n      <td>NaN</td>\n      <td>2021-09-12</td>\n      <td>Maisons-Alfort</td>\n      <td>NaN</td>\n      <td>NaN</td>\n      <td>NaN</td>\n      <td>...</td>\n      <td>NaN</td>\n      <td>0.0</td>\n      <td>0.0</td>\n      <td>0.0</td>\n      <td>0.0</td>\n      <td>0.0</td>\n      <td>2021-09-16</td>\n      <td>NaN</td>\n      <td>0.0</td>\n      <td>0.212684</td>\n    </tr>\n    <tr>\n      <th>231</th>\n      <td>NaN</td>\n      <td>M22 Filling</td>\n      <td>NaN</td>\n      <td>NaN</td>\n      <td>NaN</td>\n      <td>2021-09-12</td>\n      <td>Frankfurt</td>\n      <td>NaN</td>\n      <td>NaN</td>\n      <td>NaN</td>\n      <td>...</td>\n      <td>NaN</td>\n      <td>0.0</td>\n      <td>0.0</td>\n      <td>0.0</td>\n      <td>0.0</td>\n      <td>0.0</td>\n      <td>2021-09-16</td>\n      <td>NaN</td>\n      <td>0.0</td>\n      <td>0.120819</td>\n    </tr>\n  </tbody>\n</table>\n<p>232 rows × 21 columns</p>\n</div>"
     },
     "metadata": {},
     "execution_count": 274
    }
   ],
   "source": [
    "df_weekly_minmax = (df_weekly.assign(Data_Value=df_weekly['Unplanned_tech_loss'].abs())\n",
    "       .groupby(pd.Grouper(key='Date',freq='W'))['Unplanned_tech_loss'].agg([('Min' , 'min'), ('Max', 'max')])\n",
    "       .add_prefix('WeekUTL'))\n",
    "df_weekly_minmax.reset_index(inplace=True)\n",
    "df_weekly = df_weekly.merge(df_weekly_minmax[['Date','WeekUTLMin','WeekUTLMax']])\n",
    "df_weekly['Unplanned_tech_loss'].fillna(df_weekly.WeekUTLMax, inplace=True)\n",
    "df_weekly.drop(columns=['WeekUTLMin','WeekUTLMax'], inplace=True)\n",
    "df_weekly"
   ]
  },
  {
   "cell_type": "markdown",
   "metadata": {},
   "source": [
    "#### Populate missing Changeover "
   ]
  },
  {
   "cell_type": "code",
   "execution_count": 275,
   "metadata": {},
   "outputs": [
    {
     "output_type": "execute_result",
     "data": {
      "text/plain": [
       "         Week                  Line     OEE %  WeekOfYear    Year       Date  \\\n",
       "0    W13-2021     C2 Packaging Line  0.458414        13.0  2021.0 2021-04-04   \n",
       "1    W13-2021                   AL6  0.367897        13.0  2021.0 2021-04-04   \n",
       "2    W13-2021       AL5 Packaging 1  0.046124        13.0  2021.0 2021-04-04   \n",
       "3    W13-2021             IMA C80/2  0.581304        13.0  2021.0 2021-04-04   \n",
       "4    W13-2021  SUPPO Packaging Line  0.432432        13.0  2021.0 2021-04-04   \n",
       "..        ...                   ...       ...         ...     ...        ...   \n",
       "227       NaN    L25 Packaging Line       NaN         NaN     NaN 2021-09-12   \n",
       "228       NaN    L18 Packaging Line       NaN         NaN     NaN 2021-09-12   \n",
       "229       NaN           M21 Filling       NaN         NaN     NaN 2021-09-12   \n",
       "230       NaN     C2 Packaging Line       NaN         NaN     NaN 2021-09-12   \n",
       "231       NaN           M22 Filling       NaN         NaN     NaN 2021-09-12   \n",
       "\n",
       "              Plant  OEE  Start point  OEE% Target (2022)  \\\n",
       "0    Maisons-Alfort          0.397503                0.47   \n",
       "1         Frankfurt          0.332657                0.45   \n",
       "2         Frankfurt          0.479693                0.50   \n",
       "3          SCOPPITO          0.451031                0.58   \n",
       "4           Lisieux          0.353021                0.53   \n",
       "..              ...               ...                 ...   \n",
       "227           Tours               NaN                 NaN   \n",
       "228           Tours               NaN                 NaN   \n",
       "229       Frankfurt               NaN                 NaN   \n",
       "230  Maisons-Alfort               NaN                 NaN   \n",
       "231       Frankfurt               NaN                 NaN   \n",
       "\n",
       "     Unplanned_tech_loss  ...  rolling_std  Best Solution  Best Innovation  \\\n",
       "0               0.465009  ...          NaN            NaN              NaN   \n",
       "1               0.342851  ...          NaN            NaN              NaN   \n",
       "2               0.465009  ...          NaN            NaN              NaN   \n",
       "3               0.224561  ...          NaN            NaN              NaN   \n",
       "4               0.148267  ...          NaN            NaN              NaN   \n",
       "..                   ...  ...          ...            ...              ...   \n",
       "227                  NaN  ...          NaN            0.0              0.0   \n",
       "228                  NaN  ...          NaN            0.0              0.0   \n",
       "229                  NaN  ...          NaN            0.0              0.0   \n",
       "230                  NaN  ...          NaN            0.0              0.0   \n",
       "231                  NaN  ...          NaN            0.0              0.0   \n",
       "\n",
       "     Improvement Iterations  Lessons and Sharing  \\\n",
       "0                       NaN                  NaN   \n",
       "1                       NaN                  NaN   \n",
       "2                       NaN                  NaN   \n",
       "3                       NaN                  NaN   \n",
       "4                       NaN                  NaN   \n",
       "..                      ...                  ...   \n",
       "227                     0.0                  0.0   \n",
       "228                     0.0                  0.0   \n",
       "229                     0.0                  0.0   \n",
       "230                     0.0                  0.0   \n",
       "231                     0.0                  0.0   \n",
       "\n",
       "     Team Contribution and Spirit  Review_Date  OEE_Diff  Changeover_Diff  \\\n",
       "0                             NaN   2021-04-15  0.060911              0.0   \n",
       "1                             NaN   2021-04-15  0.035240              0.0   \n",
       "2                             NaN   2021-04-15 -0.433569              0.0   \n",
       "3                             NaN   2021-04-15  0.130272              0.0   \n",
       "4                             NaN   2021-04-15  0.079411              0.0   \n",
       "..                            ...          ...       ...              ...   \n",
       "227                           0.0   2021-09-16       NaN              0.0   \n",
       "228                           0.0   2021-09-16       NaN              0.0   \n",
       "229                           0.0   2021-09-16       NaN              0.0   \n",
       "230                           0.0   2021-09-16       NaN              0.0   \n",
       "231                           0.0   2021-09-16       NaN              0.0   \n",
       "\n",
       "     Changeover_rolling_mean  \n",
       "0                   0.044140  \n",
       "1                   0.184958  \n",
       "2                        NaN  \n",
       "3                   0.070836  \n",
       "4                   0.178806  \n",
       "..                       ...  \n",
       "227                 0.178769  \n",
       "228                 0.111640  \n",
       "229                 0.220155  \n",
       "230                 0.212684  \n",
       "231                 0.120819  \n",
       "\n",
       "[232 rows x 21 columns]"
      ],
      "text/html": "<div>\n<style scoped>\n    .dataframe tbody tr th:only-of-type {\n        vertical-align: middle;\n    }\n\n    .dataframe tbody tr th {\n        vertical-align: top;\n    }\n\n    .dataframe thead th {\n        text-align: right;\n    }\n</style>\n<table border=\"1\" class=\"dataframe\">\n  <thead>\n    <tr style=\"text-align: right;\">\n      <th></th>\n      <th>Week</th>\n      <th>Line</th>\n      <th>OEE %</th>\n      <th>WeekOfYear</th>\n      <th>Year</th>\n      <th>Date</th>\n      <th>Plant</th>\n      <th>OEE  Start point</th>\n      <th>OEE% Target (2022)</th>\n      <th>Unplanned_tech_loss</th>\n      <th>...</th>\n      <th>rolling_std</th>\n      <th>Best Solution</th>\n      <th>Best Innovation</th>\n      <th>Improvement Iterations</th>\n      <th>Lessons and Sharing</th>\n      <th>Team Contribution and Spirit</th>\n      <th>Review_Date</th>\n      <th>OEE_Diff</th>\n      <th>Changeover_Diff</th>\n      <th>Changeover_rolling_mean</th>\n    </tr>\n  </thead>\n  <tbody>\n    <tr>\n      <th>0</th>\n      <td>W13-2021</td>\n      <td>C2 Packaging Line</td>\n      <td>0.458414</td>\n      <td>13.0</td>\n      <td>2021.0</td>\n      <td>2021-04-04</td>\n      <td>Maisons-Alfort</td>\n      <td>0.397503</td>\n      <td>0.47</td>\n      <td>0.465009</td>\n      <td>...</td>\n      <td>NaN</td>\n      <td>NaN</td>\n      <td>NaN</td>\n      <td>NaN</td>\n      <td>NaN</td>\n      <td>NaN</td>\n      <td>2021-04-15</td>\n      <td>0.060911</td>\n      <td>0.0</td>\n      <td>0.044140</td>\n    </tr>\n    <tr>\n      <th>1</th>\n      <td>W13-2021</td>\n      <td>AL6</td>\n      <td>0.367897</td>\n      <td>13.0</td>\n      <td>2021.0</td>\n      <td>2021-04-04</td>\n      <td>Frankfurt</td>\n      <td>0.332657</td>\n      <td>0.45</td>\n      <td>0.342851</td>\n      <td>...</td>\n      <td>NaN</td>\n      <td>NaN</td>\n      <td>NaN</td>\n      <td>NaN</td>\n      <td>NaN</td>\n      <td>NaN</td>\n      <td>2021-04-15</td>\n      <td>0.035240</td>\n      <td>0.0</td>\n      <td>0.184958</td>\n    </tr>\n    <tr>\n      <th>2</th>\n      <td>W13-2021</td>\n      <td>AL5 Packaging 1</td>\n      <td>0.046124</td>\n      <td>13.0</td>\n      <td>2021.0</td>\n      <td>2021-04-04</td>\n      <td>Frankfurt</td>\n      <td>0.479693</td>\n      <td>0.50</td>\n      <td>0.465009</td>\n      <td>...</td>\n      <td>NaN</td>\n      <td>NaN</td>\n      <td>NaN</td>\n      <td>NaN</td>\n      <td>NaN</td>\n      <td>NaN</td>\n      <td>2021-04-15</td>\n      <td>-0.433569</td>\n      <td>0.0</td>\n      <td>NaN</td>\n    </tr>\n    <tr>\n      <th>3</th>\n      <td>W13-2021</td>\n      <td>IMA C80/2</td>\n      <td>0.581304</td>\n      <td>13.0</td>\n      <td>2021.0</td>\n      <td>2021-04-04</td>\n      <td>SCOPPITO</td>\n      <td>0.451031</td>\n      <td>0.58</td>\n      <td>0.224561</td>\n      <td>...</td>\n      <td>NaN</td>\n      <td>NaN</td>\n      <td>NaN</td>\n      <td>NaN</td>\n      <td>NaN</td>\n      <td>NaN</td>\n      <td>2021-04-15</td>\n      <td>0.130272</td>\n      <td>0.0</td>\n      <td>0.070836</td>\n    </tr>\n    <tr>\n      <th>4</th>\n      <td>W13-2021</td>\n      <td>SUPPO Packaging Line</td>\n      <td>0.432432</td>\n      <td>13.0</td>\n      <td>2021.0</td>\n      <td>2021-04-04</td>\n      <td>Lisieux</td>\n      <td>0.353021</td>\n      <td>0.53</td>\n      <td>0.148267</td>\n      <td>...</td>\n      <td>NaN</td>\n      <td>NaN</td>\n      <td>NaN</td>\n      <td>NaN</td>\n      <td>NaN</td>\n      <td>NaN</td>\n      <td>2021-04-15</td>\n      <td>0.079411</td>\n      <td>0.0</td>\n      <td>0.178806</td>\n    </tr>\n    <tr>\n      <th>...</th>\n      <td>...</td>\n      <td>...</td>\n      <td>...</td>\n      <td>...</td>\n      <td>...</td>\n      <td>...</td>\n      <td>...</td>\n      <td>...</td>\n      <td>...</td>\n      <td>...</td>\n      <td>...</td>\n      <td>...</td>\n      <td>...</td>\n      <td>...</td>\n      <td>...</td>\n      <td>...</td>\n      <td>...</td>\n      <td>...</td>\n      <td>...</td>\n      <td>...</td>\n      <td>...</td>\n    </tr>\n    <tr>\n      <th>227</th>\n      <td>NaN</td>\n      <td>L25 Packaging Line</td>\n      <td>NaN</td>\n      <td>NaN</td>\n      <td>NaN</td>\n      <td>2021-09-12</td>\n      <td>Tours</td>\n      <td>NaN</td>\n      <td>NaN</td>\n      <td>NaN</td>\n      <td>...</td>\n      <td>NaN</td>\n      <td>0.0</td>\n      <td>0.0</td>\n      <td>0.0</td>\n      <td>0.0</td>\n      <td>0.0</td>\n      <td>2021-09-16</td>\n      <td>NaN</td>\n      <td>0.0</td>\n      <td>0.178769</td>\n    </tr>\n    <tr>\n      <th>228</th>\n      <td>NaN</td>\n      <td>L18 Packaging Line</td>\n      <td>NaN</td>\n      <td>NaN</td>\n      <td>NaN</td>\n      <td>2021-09-12</td>\n      <td>Tours</td>\n      <td>NaN</td>\n      <td>NaN</td>\n      <td>NaN</td>\n      <td>...</td>\n      <td>NaN</td>\n      <td>0.0</td>\n      <td>0.0</td>\n      <td>0.0</td>\n      <td>0.0</td>\n      <td>0.0</td>\n      <td>2021-09-16</td>\n      <td>NaN</td>\n      <td>0.0</td>\n      <td>0.111640</td>\n    </tr>\n    <tr>\n      <th>229</th>\n      <td>NaN</td>\n      <td>M21 Filling</td>\n      <td>NaN</td>\n      <td>NaN</td>\n      <td>NaN</td>\n      <td>2021-09-12</td>\n      <td>Frankfurt</td>\n      <td>NaN</td>\n      <td>NaN</td>\n      <td>NaN</td>\n      <td>...</td>\n      <td>NaN</td>\n      <td>0.0</td>\n      <td>0.0</td>\n      <td>0.0</td>\n      <td>0.0</td>\n      <td>0.0</td>\n      <td>2021-09-16</td>\n      <td>NaN</td>\n      <td>0.0</td>\n      <td>0.220155</td>\n    </tr>\n    <tr>\n      <th>230</th>\n      <td>NaN</td>\n      <td>C2 Packaging Line</td>\n      <td>NaN</td>\n      <td>NaN</td>\n      <td>NaN</td>\n      <td>2021-09-12</td>\n      <td>Maisons-Alfort</td>\n      <td>NaN</td>\n      <td>NaN</td>\n      <td>NaN</td>\n      <td>...</td>\n      <td>NaN</td>\n      <td>0.0</td>\n      <td>0.0</td>\n      <td>0.0</td>\n      <td>0.0</td>\n      <td>0.0</td>\n      <td>2021-09-16</td>\n      <td>NaN</td>\n      <td>0.0</td>\n      <td>0.212684</td>\n    </tr>\n    <tr>\n      <th>231</th>\n      <td>NaN</td>\n      <td>M22 Filling</td>\n      <td>NaN</td>\n      <td>NaN</td>\n      <td>NaN</td>\n      <td>2021-09-12</td>\n      <td>Frankfurt</td>\n      <td>NaN</td>\n      <td>NaN</td>\n      <td>NaN</td>\n      <td>...</td>\n      <td>NaN</td>\n      <td>0.0</td>\n      <td>0.0</td>\n      <td>0.0</td>\n      <td>0.0</td>\n      <td>0.0</td>\n      <td>2021-09-16</td>\n      <td>NaN</td>\n      <td>0.0</td>\n      <td>0.120819</td>\n    </tr>\n  </tbody>\n</table>\n<p>232 rows × 21 columns</p>\n</div>"
     },
     "metadata": {},
     "execution_count": 275
    }
   ],
   "source": [
    "df_weekly_minmax = (df_weekly.assign(Data_Value=df_weekly['Changeover'].abs())\n",
    "       .groupby(pd.Grouper(key='Date',freq='W'))['Changeover'].agg([('Min' , 'min'), ('Max', 'max')])\n",
    "       .add_prefix('WeekChangeover'))\n",
    "df_weekly_minmax.reset_index(inplace=True)\n",
    "df_weekly = df_weekly.merge(df_weekly_minmax[['Date','WeekChangeoverMin','WeekChangeoverMax']])\n",
    "df_weekly['Changeover'].fillna(df_weekly.WeekChangeoverMax, inplace=True)\n",
    "df_weekly.drop(columns=['WeekChangeoverMin','WeekChangeoverMax'], inplace=True)\n",
    "df_weekly"
   ]
  },
  {
   "cell_type": "markdown",
   "metadata": {},
   "source": [
    "#### Populate missing start_changeover (NaN)\n",
    "If we've got this far and you still don't have a start_changeover, then you're a new site and can have this week's Changeover value"
   ]
  },
  {
   "cell_type": "markdown",
   "metadata": {},
   "source": [
    "These rows still have NaN Changeover values"
   ]
  },
  {
   "cell_type": "code",
   "execution_count": 277,
   "metadata": {},
   "outputs": [
    {
     "output_type": "execute_result",
     "data": {
      "text/plain": [
       "                       Line       Date  Changeover\n",
       "202             M21 Filling 2021-08-15         NaN\n",
       "203             M18 Filling 2021-08-15         NaN\n",
       "204                     AL6 2021-08-15         NaN\n",
       "205             M22 Filling 2021-08-15         NaN\n",
       "206         AL5 Packaging 1 2021-08-15         NaN\n",
       "207    SUPPO Packaging Line 2021-08-15         NaN\n",
       "208    TR200 Packaging Line 2021-08-15         NaN\n",
       "209          MEDISEAL PURAN 2021-08-15         NaN\n",
       "210       C2 Packaging Line 2021-08-15         NaN\n",
       "211               IMA C80/2 2021-08-15         NaN\n",
       "212                  GAMMA1 2021-08-15         NaN\n",
       "213  LINE 01 - UHLMANN 1880 2021-08-15         NaN\n",
       "214      L25 Packaging Line 2021-08-15         NaN\n",
       "215      L18 Packaging Line 2021-08-15         NaN\n",
       "216       C9 Packaging Line 2021-08-15         NaN\n",
       "217             M18 Filling 2021-09-12         NaN\n",
       "218                     AL6 2021-09-12         NaN\n",
       "219         AL5 Packaging 1 2021-09-12         NaN\n",
       "220    SUPPO Packaging Line 2021-09-12         NaN\n",
       "221    TR200 Packaging Line 2021-09-12         NaN\n",
       "222       C9 Packaging Line 2021-09-12         NaN\n",
       "223          MEDISEAL PURAN 2021-09-12         NaN\n",
       "224               IMA C80/2 2021-09-12         NaN\n",
       "225                  GAMMA1 2021-09-12         NaN\n",
       "226  LINE 01 - UHLMANN 1880 2021-09-12         NaN\n",
       "227      L25 Packaging Line 2021-09-12         NaN\n",
       "228      L18 Packaging Line 2021-09-12         NaN\n",
       "229             M21 Filling 2021-09-12         NaN\n",
       "230       C2 Packaging Line 2021-09-12         NaN\n",
       "231             M22 Filling 2021-09-12         NaN"
      ],
      "text/html": "<div>\n<style scoped>\n    .dataframe tbody tr th:only-of-type {\n        vertical-align: middle;\n    }\n\n    .dataframe tbody tr th {\n        vertical-align: top;\n    }\n\n    .dataframe thead th {\n        text-align: right;\n    }\n</style>\n<table border=\"1\" class=\"dataframe\">\n  <thead>\n    <tr style=\"text-align: right;\">\n      <th></th>\n      <th>Line</th>\n      <th>Date</th>\n      <th>Changeover</th>\n    </tr>\n  </thead>\n  <tbody>\n    <tr>\n      <th>202</th>\n      <td>M21 Filling</td>\n      <td>2021-08-15</td>\n      <td>NaN</td>\n    </tr>\n    <tr>\n      <th>203</th>\n      <td>M18 Filling</td>\n      <td>2021-08-15</td>\n      <td>NaN</td>\n    </tr>\n    <tr>\n      <th>204</th>\n      <td>AL6</td>\n      <td>2021-08-15</td>\n      <td>NaN</td>\n    </tr>\n    <tr>\n      <th>205</th>\n      <td>M22 Filling</td>\n      <td>2021-08-15</td>\n      <td>NaN</td>\n    </tr>\n    <tr>\n      <th>206</th>\n      <td>AL5 Packaging 1</td>\n      <td>2021-08-15</td>\n      <td>NaN</td>\n    </tr>\n    <tr>\n      <th>207</th>\n      <td>SUPPO Packaging Line</td>\n      <td>2021-08-15</td>\n      <td>NaN</td>\n    </tr>\n    <tr>\n      <th>208</th>\n      <td>TR200 Packaging Line</td>\n      <td>2021-08-15</td>\n      <td>NaN</td>\n    </tr>\n    <tr>\n      <th>209</th>\n      <td>MEDISEAL PURAN</td>\n      <td>2021-08-15</td>\n      <td>NaN</td>\n    </tr>\n    <tr>\n      <th>210</th>\n      <td>C2 Packaging Line</td>\n      <td>2021-08-15</td>\n      <td>NaN</td>\n    </tr>\n    <tr>\n      <th>211</th>\n      <td>IMA C80/2</td>\n      <td>2021-08-15</td>\n      <td>NaN</td>\n    </tr>\n    <tr>\n      <th>212</th>\n      <td>GAMMA1</td>\n      <td>2021-08-15</td>\n      <td>NaN</td>\n    </tr>\n    <tr>\n      <th>213</th>\n      <td>LINE 01 - UHLMANN 1880</td>\n      <td>2021-08-15</td>\n      <td>NaN</td>\n    </tr>\n    <tr>\n      <th>214</th>\n      <td>L25 Packaging Line</td>\n      <td>2021-08-15</td>\n      <td>NaN</td>\n    </tr>\n    <tr>\n      <th>215</th>\n      <td>L18 Packaging Line</td>\n      <td>2021-08-15</td>\n      <td>NaN</td>\n    </tr>\n    <tr>\n      <th>216</th>\n      <td>C9 Packaging Line</td>\n      <td>2021-08-15</td>\n      <td>NaN</td>\n    </tr>\n    <tr>\n      <th>217</th>\n      <td>M18 Filling</td>\n      <td>2021-09-12</td>\n      <td>NaN</td>\n    </tr>\n    <tr>\n      <th>218</th>\n      <td>AL6</td>\n      <td>2021-09-12</td>\n      <td>NaN</td>\n    </tr>\n    <tr>\n      <th>219</th>\n      <td>AL5 Packaging 1</td>\n      <td>2021-09-12</td>\n      <td>NaN</td>\n    </tr>\n    <tr>\n      <th>220</th>\n      <td>SUPPO Packaging Line</td>\n      <td>2021-09-12</td>\n      <td>NaN</td>\n    </tr>\n    <tr>\n      <th>221</th>\n      <td>TR200 Packaging Line</td>\n      <td>2021-09-12</td>\n      <td>NaN</td>\n    </tr>\n    <tr>\n      <th>222</th>\n      <td>C9 Packaging Line</td>\n      <td>2021-09-12</td>\n      <td>NaN</td>\n    </tr>\n    <tr>\n      <th>223</th>\n      <td>MEDISEAL PURAN</td>\n      <td>2021-09-12</td>\n      <td>NaN</td>\n    </tr>\n    <tr>\n      <th>224</th>\n      <td>IMA C80/2</td>\n      <td>2021-09-12</td>\n      <td>NaN</td>\n    </tr>\n    <tr>\n      <th>225</th>\n      <td>GAMMA1</td>\n      <td>2021-09-12</td>\n      <td>NaN</td>\n    </tr>\n    <tr>\n      <th>226</th>\n      <td>LINE 01 - UHLMANN 1880</td>\n      <td>2021-09-12</td>\n      <td>NaN</td>\n    </tr>\n    <tr>\n      <th>227</th>\n      <td>L25 Packaging Line</td>\n      <td>2021-09-12</td>\n      <td>NaN</td>\n    </tr>\n    <tr>\n      <th>228</th>\n      <td>L18 Packaging Line</td>\n      <td>2021-09-12</td>\n      <td>NaN</td>\n    </tr>\n    <tr>\n      <th>229</th>\n      <td>M21 Filling</td>\n      <td>2021-09-12</td>\n      <td>NaN</td>\n    </tr>\n    <tr>\n      <th>230</th>\n      <td>C2 Packaging Line</td>\n      <td>2021-09-12</td>\n      <td>NaN</td>\n    </tr>\n    <tr>\n      <th>231</th>\n      <td>M22 Filling</td>\n      <td>2021-09-12</td>\n      <td>NaN</td>\n    </tr>\n  </tbody>\n</table>\n</div>"
     },
     "metadata": {},
     "execution_count": 277
    }
   ],
   "source": [
    "df_weekly[['Line','Date','Changeover']][df_weekly['Changeover'].isna()]"
   ]
  },
  {
   "cell_type": "code",
   "execution_count": 278,
   "metadata": {},
   "outputs": [],
   "source": [
    "# df_weekly.start_changeover.fillna(df_weekly.Changeover, inplace=True)\n",
    "df_weekly['OEE  Start point'].fillna(df_weekly['OEE %'], inplace=True)\n",
    "df_weekly['OEE% Target (2022)'].fillna(0.65, inplace=True)"
   ]
  },
  {
   "source": [
    "### Calculating Sector times\n",
    "\n",
    "\n",
    "The lap time is a sum of the calculated sector scores + the pole position time from the F1 race data (eg for Paul Ricard it was 88 secs):\n",
    "\n",
    "\n",
    "\n",
    "Sector [1-4] calculations   \n",
    "**sector 1**\n",
    "How much has your OEE increased / decreased?  Sum difference between each week and multiply total by -1.  This provides a negative figure to subtract from your laptime, so that larger OEE increase is rewarded with a bigger reduction in laptime\n",
    "\n",
    "df_weekly['sector_1'] = df_weekly['OEE_Diff'].mul(-1)\n",
    "\n",
    "OEE_Diff calculation\n",
    "- Sort values by Line and Date\n",
    "- Find the difference between each weekly OEE figure\n",
    "- Fill NaN values from missing OEE figures with the weekly OEE minus OEE Start Point for that site\n",
    "\n",
    "\n",
    "**Sector 2** \n",
    "How big was your rolling std deviation this period, over the previous 4 weeks std dev?  \n",
    "\n",
    "df_weekly['sector_2'] = df_weekly['rolling_std']\n",
    "\n",
    "rolling_std = rolling std deviation for past 4 weeks for each site\n",
    "\n",
    "\n",
    " \n",
    "**Sector 3**\n",
    "We want to reduce Unplanned tech loss (recorded as % of OEE) Unplanned tech loss is calculated within QlikSense but missing values sometimes.  Fill the missing values and then display the average Unplanned tech loss :\n",
    "\n",
    "df_weekly['sector_3'] = df_weekly['Unplanned_tech_loss']\n",
    "\n",
    "\n",
    "Populate missing unplanned tech loss:\n",
    "- Create weekly min/max cols for Unplanned tech loss from any site\n",
    "- Merge those columns into df_weekly\n",
    "- fill any NaN unplanned tech loss rows with the max OEE calc'd for that week (bigger is worse)\n",
    "\n",
    " \n",
    "**Sector 4**\n",
    "We're trying to reduce changeover time (recorded as % of OEE).  \n",
    "Start changeover value isn't provided, so calc our own start point for each Line using the average changeover in 2021 up to 30 April, 2021.\n",
    "   \n",
    "start_changeover_calc = df_weekly[['Plant','Line','Changeover']][df_weekly['Date'] < '2021-04-30'].groupby(['Plant','Line']).mean().reset_index()\n",
    "start_changeover_calc.rename(columns={'Changeover':'start_changeover'}, inplace=True)\n",
    "df_weekly = df_weekly.merge(start_changeover_calc[['Line','start_changeover']])\n",
    "\n",
    "\n",
    "\n",
    "df_weekly['sector_4'] = df_weekly['Changeover_rolling_mean']\n",
    "\n",
    "Changeover_mean = df_weekly.sort_values(by=['Line', 'Date'])[['Line', 'Date', 'Changeover', 'start_changeover']]   \n",
    "Changeover_mean['Changeover_rolling_mean'] = Changeover_mean.groupby('Line')['Changeover'].apply(lambda x : x.rolling(4,1).mean())\n",
    "df_weekly = df_weekly.merge(Changeover_mean[[\"Line\",\"Date\",\"Changeover_rolling_mean\"]], on=([\"Line\",\"Date\"]))\n",
    "\n",
    "\n",
    "\n",
    "**Clean the sectors of NaN before summing them**   \n",
    "Sometimes, when we haven't got enough information for pct_change calcs, we were getting no values coming through for the lap_time.  We should make sure there is a value in each of the sectors, otherwise there is an unfair advantage by not having data available.  Find all NaN values and replace with the mean for that column(sector)\n",
    "\n",
    "**Sectors 5 - 9**   \n",
    "These scores are taken from the Nomination process.  Read in the Nomination s/s, merge any values we find with df_weekly, replace all NaN (missing) values with 0, and reduce the scores we find to 10% of their original value.  This value is then subtracted from the lap_time - so the better you do in the nominations the more your lap_time gets reduced by.\n",
    "\n",
    " \n",
    "**lap_time**   \n",
    "df_weekly['lap_time'] = df_weekly[['sector_1','sector_2','sector_3','sector_4','sector_5','sector_6','sector_7','sector_8','sector_9']].sum(axis=1)"
   ],
   "cell_type": "markdown",
   "metadata": {}
  },
  {
   "cell_type": "code",
   "execution_count": 279,
   "metadata": {},
   "outputs": [
    {
     "output_type": "execute_result",
     "data": {
      "text/plain": [
       "Line                  Date      \n",
       "AL5 Packaging 1       2021-04-04    1.159030\n",
       "                      2021-04-11    0.477869\n",
       "                      2021-04-18    0.413241\n",
       "                      2021-04-25    0.302763\n",
       "                      2021-05-02    0.667515\n",
       "                                      ...   \n",
       "TR200 Packaging Line  2021-06-20    0.635328\n",
       "                      2021-06-27    0.297245\n",
       "                      2021-07-04    1.729838\n",
       "                      2021-08-15    0.522206\n",
       "                      2021-09-12    0.409362\n",
       "Name: lap_time, Length: 232, dtype: float64"
      ]
     },
     "metadata": {},
     "execution_count": 279
    }
   ],
   "source": [
    "# df_weekly['sector_1'] = (df_weekly['WeekMax'] - df_weekly['OEE %'])\n",
    "# df_weekly['sector_1'] = (df_weekly['OEE  Start point'] - df_weekly['OEE %'])\n",
    "df_weekly['sector_1'] = df_weekly['OEE_Diff'].mul(-1)\n",
    "df_weekly['sector_2'] = df_weekly['rolling_std']\n",
    "df_weekly['sector_3'] = df_weekly['Unplanned_tech_loss']\n",
    "# df_weekly['sector_4'] = (df_weekly['start_changeover'] - df_weekly['Changeover'])\n",
    "# df_weekly['sector_4'] = (df_weekly['Changeover'] - df_weekly['start_changeover'])\n",
    "df_weekly['sector_4'] = df_weekly['Changeover_rolling_mean']\n",
    "# take 10% of the sector5-9 scores \n",
    "df_weekly[['sector_5','sector_6','sector_7','sector_8','sector_9']] = df_weekly[['Best Solution','Best Innovation','Improvement Iterations','Lessons and Sharing','Team Contribution and Spirit']] * -0.1\n",
    "df_weekly[['sector_5','sector_6','sector_7','sector_8','sector_9']] = df_weekly[['sector_5','sector_6','sector_7','sector_8','sector_9']].fillna(0)\n",
    "\n",
    "# we'll use these in the absence of values for a sector\n",
    "df_weekly[['sector_1','sector_2','sector_3','sector_4']] = df_weekly[['sector_1','sector_2','sector_3','sector_4']].fillna(df_weekly[['sector_1','sector_2','sector_3','sector_4']].mean())\n",
    "\n",
    "#this will sum and handle the NaN\n",
    "df_weekly['lap_time'] = df_weekly[['sector_1','sector_2','sector_3','sector_4','sector_5','sector_6','sector_7','sector_8','sector_9']].sum(axis=1)\n",
    "\n",
    "# now add the pole['Laptime'] from fastf1 to the lap_time adjustment we've created\n",
    "# just use 88 secs rather than playing with timedeltas for now\n",
    "# df_weekly['lap_time'] = pole['LapTime'] + pd.to_timedelta(df_weekly['lap_time'], unit='S')\n",
    "# df_weekly['lap_time'] = 88 + df_weekly['lap_time']\n",
    "df_weekly.groupby(['Line', pd.Grouper(key='Date', freq='W')])['lap_time'].sum()\n",
    "# print (df_weekly['sector_1_time'] , df_weekly['sector_2_time'] , df_weekly['sector_3_time'], df_weekly['sector_4_time'])"
   ]
  },
  {
   "cell_type": "markdown",
   "metadata": {},
   "source": [
    "#### Write out df_weekly to excel"
   ]
  },
  {
   "cell_type": "code",
   "execution_count": 280,
   "metadata": {},
   "outputs": [],
   "source": [
    "df_weekly.to_excel(output_dir + \"df_weekly_with_calcs.xlsx\")"
   ]
  },
  {
   "cell_type": "markdown",
   "metadata": {},
   "source": [
    "#### Monthly Calcs\n",
    "\n",
    "Repeat the process for a df_monthly spreadsheet.  We will use this for calculating the Leader board  \n",
    "group df_weekly by review_date so we can get the right data for each review meeting"
   ]
  },
  {
   "cell_type": "code",
   "execution_count": 281,
   "metadata": {
    "scrolled": true
   },
   "outputs": [
    {
     "output_type": "execute_result",
     "data": {
      "text/plain": [
       "         Date                  Line  lap_time\n",
       "0  2021-04-15       AL5 Packaging 1  1.636899\n",
       "1  2021-04-15                   AL6  1.154460\n",
       "2  2021-04-15     C2 Packaging Line  0.969295\n",
       "3  2021-04-15     C9 Packaging Line  1.037885\n",
       "4  2021-04-15                GAMMA1  1.170176\n",
       "..        ...                   ...       ...\n",
       "83 2021-09-16           M21 Filling  0.591000\n",
       "84 2021-09-16           M22 Filling  0.491664\n",
       "85 2021-09-16        MEDISEAL PURAN  0.428794\n",
       "86 2021-09-16  SUPPO Packaging Line  0.456799\n",
       "87 2021-09-16  TR200 Packaging Line  0.409362\n",
       "\n",
       "[88 rows x 3 columns]"
      ],
      "text/html": "<div>\n<style scoped>\n    .dataframe tbody tr th:only-of-type {\n        vertical-align: middle;\n    }\n\n    .dataframe tbody tr th {\n        vertical-align: top;\n    }\n\n    .dataframe thead th {\n        text-align: right;\n    }\n</style>\n<table border=\"1\" class=\"dataframe\">\n  <thead>\n    <tr style=\"text-align: right;\">\n      <th></th>\n      <th>Date</th>\n      <th>Line</th>\n      <th>lap_time</th>\n    </tr>\n  </thead>\n  <tbody>\n    <tr>\n      <th>0</th>\n      <td>2021-04-15</td>\n      <td>AL5 Packaging 1</td>\n      <td>1.636899</td>\n    </tr>\n    <tr>\n      <th>1</th>\n      <td>2021-04-15</td>\n      <td>AL6</td>\n      <td>1.154460</td>\n    </tr>\n    <tr>\n      <th>2</th>\n      <td>2021-04-15</td>\n      <td>C2 Packaging Line</td>\n      <td>0.969295</td>\n    </tr>\n    <tr>\n      <th>3</th>\n      <td>2021-04-15</td>\n      <td>C9 Packaging Line</td>\n      <td>1.037885</td>\n    </tr>\n    <tr>\n      <th>4</th>\n      <td>2021-04-15</td>\n      <td>GAMMA1</td>\n      <td>1.170176</td>\n    </tr>\n    <tr>\n      <th>...</th>\n      <td>...</td>\n      <td>...</td>\n      <td>...</td>\n    </tr>\n    <tr>\n      <th>83</th>\n      <td>2021-09-16</td>\n      <td>M21 Filling</td>\n      <td>0.591000</td>\n    </tr>\n    <tr>\n      <th>84</th>\n      <td>2021-09-16</td>\n      <td>M22 Filling</td>\n      <td>0.491664</td>\n    </tr>\n    <tr>\n      <th>85</th>\n      <td>2021-09-16</td>\n      <td>MEDISEAL PURAN</td>\n      <td>0.428794</td>\n    </tr>\n    <tr>\n      <th>86</th>\n      <td>2021-09-16</td>\n      <td>SUPPO Packaging Line</td>\n      <td>0.456799</td>\n    </tr>\n    <tr>\n      <th>87</th>\n      <td>2021-09-16</td>\n      <td>TR200 Packaging Line</td>\n      <td>0.409362</td>\n    </tr>\n  </tbody>\n</table>\n<p>88 rows × 3 columns</p>\n</div>"
     },
     "metadata": {},
     "execution_count": 281
    }
   ],
   "source": [
    "# df_monthly = df_weekly.groupby([pd.Grouper(key='Date',freq='M'),'Line'])[['start_changeover','OEE  Start point','OEE %','Unplanned_tech_loss','Changeover','rolling_std','techloss_pct_chg','Changeover_pct_chg']].mean().reset_index()\n",
    "# df_monthly = df_weekly.groupby([pd.Grouper(key='Date',freq='M'),'Line']).lap_time.sum().reset_index()\n",
    "df_monthly = df_weekly.groupby(['Review_Date','Line']).lap_time.sum().reset_index()\n",
    "# change the name of review_date to save renaming all references to Date later\n",
    "df_monthly = df_monthly.rename(columns={'Review_Date':'Date'})\n",
    "df_monthly"
   ]
  },
  {
   "cell_type": "code",
   "execution_count": 282,
   "metadata": {},
   "outputs": [
    {
     "output_type": "execute_result",
     "data": {
      "text/plain": [
       "         Date                  Line   lap_time\n",
       "0  2021-04-15       AL5 Packaging 1  89.636899\n",
       "1  2021-04-15                   AL6  89.154460\n",
       "2  2021-04-15     C2 Packaging Line  88.969295\n",
       "3  2021-04-15     C9 Packaging Line  89.037885\n",
       "4  2021-04-15                GAMMA1  89.170176\n",
       "..        ...                   ...        ...\n",
       "83 2021-09-16           M21 Filling  88.591000\n",
       "84 2021-09-16           M22 Filling  88.491664\n",
       "85 2021-09-16        MEDISEAL PURAN  88.428794\n",
       "86 2021-09-16  SUPPO Packaging Line  88.456799\n",
       "87 2021-09-16  TR200 Packaging Line  88.409362\n",
       "\n",
       "[88 rows x 3 columns]"
      ],
      "text/html": "<div>\n<style scoped>\n    .dataframe tbody tr th:only-of-type {\n        vertical-align: middle;\n    }\n\n    .dataframe tbody tr th {\n        vertical-align: top;\n    }\n\n    .dataframe thead th {\n        text-align: right;\n    }\n</style>\n<table border=\"1\" class=\"dataframe\">\n  <thead>\n    <tr style=\"text-align: right;\">\n      <th></th>\n      <th>Date</th>\n      <th>Line</th>\n      <th>lap_time</th>\n    </tr>\n  </thead>\n  <tbody>\n    <tr>\n      <th>0</th>\n      <td>2021-04-15</td>\n      <td>AL5 Packaging 1</td>\n      <td>89.636899</td>\n    </tr>\n    <tr>\n      <th>1</th>\n      <td>2021-04-15</td>\n      <td>AL6</td>\n      <td>89.154460</td>\n    </tr>\n    <tr>\n      <th>2</th>\n      <td>2021-04-15</td>\n      <td>C2 Packaging Line</td>\n      <td>88.969295</td>\n    </tr>\n    <tr>\n      <th>3</th>\n      <td>2021-04-15</td>\n      <td>C9 Packaging Line</td>\n      <td>89.037885</td>\n    </tr>\n    <tr>\n      <th>4</th>\n      <td>2021-04-15</td>\n      <td>GAMMA1</td>\n      <td>89.170176</td>\n    </tr>\n    <tr>\n      <th>...</th>\n      <td>...</td>\n      <td>...</td>\n      <td>...</td>\n    </tr>\n    <tr>\n      <th>83</th>\n      <td>2021-09-16</td>\n      <td>M21 Filling</td>\n      <td>88.591000</td>\n    </tr>\n    <tr>\n      <th>84</th>\n      <td>2021-09-16</td>\n      <td>M22 Filling</td>\n      <td>88.491664</td>\n    </tr>\n    <tr>\n      <th>85</th>\n      <td>2021-09-16</td>\n      <td>MEDISEAL PURAN</td>\n      <td>88.428794</td>\n    </tr>\n    <tr>\n      <th>86</th>\n      <td>2021-09-16</td>\n      <td>SUPPO Packaging Line</td>\n      <td>88.456799</td>\n    </tr>\n    <tr>\n      <th>87</th>\n      <td>2021-09-16</td>\n      <td>TR200 Packaging Line</td>\n      <td>88.409362</td>\n    </tr>\n  </tbody>\n</table>\n<p>88 rows × 3 columns</p>\n</div>"
     },
     "metadata": {},
     "execution_count": 282
    }
   ],
   "source": [
    "# df_monthly_minmax = (df_weekly.assign(Data_Value=df_weekly['OEE %'].abs())\n",
    "#        .groupby(pd.Grouper(key='Date',freq='M'))['OEE %'].agg([('Min' , 'min'), ('Max', 'max')])\n",
    "#        .add_prefix('Month'))\n",
    "# df_monthly_minmax.reset_index(inplace=True)\n",
    "# df_monthly = df_monthly.merge(df_monthly_minmax[['Date','MonthMin','MonthMax']])\n",
    "df_monthly['lap_time'] = df_monthly['lap_time'] + 88\n",
    "df_monthly"
   ]
  },
  {
   "cell_type": "markdown",
   "metadata": {},
   "source": [
    "### Leader board table"
   ]
  },
  {
   "cell_type": "code",
   "execution_count": 283,
   "metadata": {},
   "outputs": [
    {
     "output_type": "execute_result",
     "data": {
      "text/plain": [
       "                      Line  2021-04-15 00:00:00  2021-05-13 00:00:00  \\\n",
       "0                   GAMMA1            89.170176            69.325767   \n",
       "1                IMA C80/2            88.926865            69.256522   \n",
       "2       L18 Packaging Line            88.863912            74.226704   \n",
       "3       L25 Packaging Line            88.866388            74.908842   \n",
       "4              M22 Filling            88.970596            81.806345   \n",
       "5              M21 Filling            89.756877            83.292606   \n",
       "6              M18 Filling            89.977078            82.596174   \n",
       "7                      AL6            89.154460            90.323044   \n",
       "8   LINE 01 - UHLMANN 1880            89.977078            88.542111   \n",
       "9     SUPPO Packaging Line            88.601992            89.937915   \n",
       "10       C9 Packaging Line            89.037885            89.747841   \n",
       "11    TR200 Packaging Line            88.727020            89.591164   \n",
       "12          MEDISEAL PURAN            89.977078            89.455549   \n",
       "13       C2 Packaging Line            88.969295            90.451874   \n",
       "14         AL5 Packaging 1            89.636899            89.931643   \n",
       "\n",
       "    2021-06-10 00:00:00  2021-07-08 00:00:00  2021-08-19 00:00:00  \\\n",
       "0             68.226756            90.143947            88.607297   \n",
       "1             75.232693            89.520411            88.540948   \n",
       "2             89.407996            89.262767            88.498359   \n",
       "3             90.011979            89.722251            88.586427   \n",
       "4             84.857670            89.844474            88.572975   \n",
       "5             84.767181            90.769388            88.531191   \n",
       "6             85.446232            90.866765            88.759629   \n",
       "7             84.205598            89.779721            88.414162   \n",
       "8             89.636847            89.083857            88.392947   \n",
       "9             89.978621            89.681359            88.438778   \n",
       "10            90.361488            89.831886            88.439962   \n",
       "11            89.381941            91.366632            88.522206   \n",
       "12            90.312110            89.859159            88.428389   \n",
       "13            90.261138            90.572525            88.534653   \n",
       "14            90.895951            90.434052            88.450605   \n",
       "\n",
       "    2021-09-16 00:00:00   race_time  prev_race_time           Plant  position  \\\n",
       "0             88.646505  494.120448      405.473943        SCOPPITO         1   \n",
       "1             88.540666  500.018105      411.477439        SCOPPITO         2   \n",
       "2             88.482486  518.742224      430.259738           Tours         3   \n",
       "3             88.549614  520.645501      432.095887           Tours         4   \n",
       "4             88.491664  522.543725      434.052061       Frankfurt         5   \n",
       "5             88.591000  525.708243      437.117243       Frankfurt         6   \n",
       "6             88.935114  526.580993      437.645879       Frankfurt         7   \n",
       "7             88.430910  530.307895      441.876985       Frankfurt         8   \n",
       "8             88.392168  534.025008      445.632840          SUZANO         9   \n",
       "9             88.456799  535.095463      446.638664         Lisieux        10   \n",
       "10            88.424910  535.843972      447.419062  Maisons-Alfort        11   \n",
       "11            88.409362  535.998327      447.588965         Lisieux        12   \n",
       "12            88.428794  536.461079      448.032285          SUZANO        13   \n",
       "13            88.583530  537.373016      448.789486  Maisons-Alfort        14   \n",
       "14            88.494276  537.843426      449.349150       Frankfurt        15   \n",
       "\n",
       "    gap_to_leader  prev_position  Gain/Loss   interval  OEE  Start point  \\\n",
       "0        0.000000              1          0        NaN          0.418683   \n",
       "1        5.897657              2          0   5.897657          0.451031   \n",
       "2       24.621775              3          0  18.724118          0.377683   \n",
       "3       26.525053              4          0   1.903277          0.351564   \n",
       "4       28.423277              5          0   1.898224          0.530068   \n",
       "5       31.587795              6          0   3.164518          0.599671   \n",
       "6       32.460545              7          0   0.872750          0.443522   \n",
       "7       36.187447              8          0   3.726902          0.332657   \n",
       "8       39.904559              9          0   3.717112          0.427854   \n",
       "9       40.975015             10          0   1.070456          0.353021   \n",
       "10      41.723524             11          0   0.748509          0.528518   \n",
       "11      41.877879             12          0   0.154355          0.483505   \n",
       "12      42.340631             13          0   0.462752          0.592206   \n",
       "13      43.252568             14          0   0.911937          0.397503   \n",
       "14      43.722978             15          0   0.470410          0.479693   \n",
       "\n",
       "    ⇗ OEE% progress  OEE% Target (2022)  \n",
       "0          0.085148               0.570  \n",
       "1          0.043365               0.580  \n",
       "2          0.086173               0.547  \n",
       "3          0.001613               0.478  \n",
       "4          0.120280               0.650  \n",
       "5          0.022006               0.650  \n",
       "6         -0.010057               0.650  \n",
       "7          0.078541               0.450  \n",
       "8          0.015085               0.650  \n",
       "9         -0.010676               0.530  \n",
       "10        -0.019492               0.530  \n",
       "11         0.120926               0.650  \n",
       "12        -0.025165               0.650  \n",
       "13         0.012193               0.470  \n",
       "14        -0.187473               0.500  "
      ],
      "text/html": "<div>\n<style scoped>\n    .dataframe tbody tr th:only-of-type {\n        vertical-align: middle;\n    }\n\n    .dataframe tbody tr th {\n        vertical-align: top;\n    }\n\n    .dataframe thead th {\n        text-align: right;\n    }\n</style>\n<table border=\"1\" class=\"dataframe\">\n  <thead>\n    <tr style=\"text-align: right;\">\n      <th></th>\n      <th>Line</th>\n      <th>2021-04-15 00:00:00</th>\n      <th>2021-05-13 00:00:00</th>\n      <th>2021-06-10 00:00:00</th>\n      <th>2021-07-08 00:00:00</th>\n      <th>2021-08-19 00:00:00</th>\n      <th>2021-09-16 00:00:00</th>\n      <th>race_time</th>\n      <th>prev_race_time</th>\n      <th>Plant</th>\n      <th>position</th>\n      <th>gap_to_leader</th>\n      <th>prev_position</th>\n      <th>Gain/Loss</th>\n      <th>interval</th>\n      <th>OEE  Start point</th>\n      <th>⇗ OEE% progress</th>\n      <th>OEE% Target (2022)</th>\n    </tr>\n  </thead>\n  <tbody>\n    <tr>\n      <th>0</th>\n      <td>GAMMA1</td>\n      <td>89.170176</td>\n      <td>69.325767</td>\n      <td>68.226756</td>\n      <td>90.143947</td>\n      <td>88.607297</td>\n      <td>88.646505</td>\n      <td>494.120448</td>\n      <td>405.473943</td>\n      <td>SCOPPITO</td>\n      <td>1</td>\n      <td>0.000000</td>\n      <td>1</td>\n      <td>0</td>\n      <td>NaN</td>\n      <td>0.418683</td>\n      <td>0.085148</td>\n      <td>0.570</td>\n    </tr>\n    <tr>\n      <th>1</th>\n      <td>IMA C80/2</td>\n      <td>88.926865</td>\n      <td>69.256522</td>\n      <td>75.232693</td>\n      <td>89.520411</td>\n      <td>88.540948</td>\n      <td>88.540666</td>\n      <td>500.018105</td>\n      <td>411.477439</td>\n      <td>SCOPPITO</td>\n      <td>2</td>\n      <td>5.897657</td>\n      <td>2</td>\n      <td>0</td>\n      <td>5.897657</td>\n      <td>0.451031</td>\n      <td>0.043365</td>\n      <td>0.580</td>\n    </tr>\n    <tr>\n      <th>2</th>\n      <td>L18 Packaging Line</td>\n      <td>88.863912</td>\n      <td>74.226704</td>\n      <td>89.407996</td>\n      <td>89.262767</td>\n      <td>88.498359</td>\n      <td>88.482486</td>\n      <td>518.742224</td>\n      <td>430.259738</td>\n      <td>Tours</td>\n      <td>3</td>\n      <td>24.621775</td>\n      <td>3</td>\n      <td>0</td>\n      <td>18.724118</td>\n      <td>0.377683</td>\n      <td>0.086173</td>\n      <td>0.547</td>\n    </tr>\n    <tr>\n      <th>3</th>\n      <td>L25 Packaging Line</td>\n      <td>88.866388</td>\n      <td>74.908842</td>\n      <td>90.011979</td>\n      <td>89.722251</td>\n      <td>88.586427</td>\n      <td>88.549614</td>\n      <td>520.645501</td>\n      <td>432.095887</td>\n      <td>Tours</td>\n      <td>4</td>\n      <td>26.525053</td>\n      <td>4</td>\n      <td>0</td>\n      <td>1.903277</td>\n      <td>0.351564</td>\n      <td>0.001613</td>\n      <td>0.478</td>\n    </tr>\n    <tr>\n      <th>4</th>\n      <td>M22 Filling</td>\n      <td>88.970596</td>\n      <td>81.806345</td>\n      <td>84.857670</td>\n      <td>89.844474</td>\n      <td>88.572975</td>\n      <td>88.491664</td>\n      <td>522.543725</td>\n      <td>434.052061</td>\n      <td>Frankfurt</td>\n      <td>5</td>\n      <td>28.423277</td>\n      <td>5</td>\n      <td>0</td>\n      <td>1.898224</td>\n      <td>0.530068</td>\n      <td>0.120280</td>\n      <td>0.650</td>\n    </tr>\n    <tr>\n      <th>5</th>\n      <td>M21 Filling</td>\n      <td>89.756877</td>\n      <td>83.292606</td>\n      <td>84.767181</td>\n      <td>90.769388</td>\n      <td>88.531191</td>\n      <td>88.591000</td>\n      <td>525.708243</td>\n      <td>437.117243</td>\n      <td>Frankfurt</td>\n      <td>6</td>\n      <td>31.587795</td>\n      <td>6</td>\n      <td>0</td>\n      <td>3.164518</td>\n      <td>0.599671</td>\n      <td>0.022006</td>\n      <td>0.650</td>\n    </tr>\n    <tr>\n      <th>6</th>\n      <td>M18 Filling</td>\n      <td>89.977078</td>\n      <td>82.596174</td>\n      <td>85.446232</td>\n      <td>90.866765</td>\n      <td>88.759629</td>\n      <td>88.935114</td>\n      <td>526.580993</td>\n      <td>437.645879</td>\n      <td>Frankfurt</td>\n      <td>7</td>\n      <td>32.460545</td>\n      <td>7</td>\n      <td>0</td>\n      <td>0.872750</td>\n      <td>0.443522</td>\n      <td>-0.010057</td>\n      <td>0.650</td>\n    </tr>\n    <tr>\n      <th>7</th>\n      <td>AL6</td>\n      <td>89.154460</td>\n      <td>90.323044</td>\n      <td>84.205598</td>\n      <td>89.779721</td>\n      <td>88.414162</td>\n      <td>88.430910</td>\n      <td>530.307895</td>\n      <td>441.876985</td>\n      <td>Frankfurt</td>\n      <td>8</td>\n      <td>36.187447</td>\n      <td>8</td>\n      <td>0</td>\n      <td>3.726902</td>\n      <td>0.332657</td>\n      <td>0.078541</td>\n      <td>0.450</td>\n    </tr>\n    <tr>\n      <th>8</th>\n      <td>LINE 01 - UHLMANN 1880</td>\n      <td>89.977078</td>\n      <td>88.542111</td>\n      <td>89.636847</td>\n      <td>89.083857</td>\n      <td>88.392947</td>\n      <td>88.392168</td>\n      <td>534.025008</td>\n      <td>445.632840</td>\n      <td>SUZANO</td>\n      <td>9</td>\n      <td>39.904559</td>\n      <td>9</td>\n      <td>0</td>\n      <td>3.717112</td>\n      <td>0.427854</td>\n      <td>0.015085</td>\n      <td>0.650</td>\n    </tr>\n    <tr>\n      <th>9</th>\n      <td>SUPPO Packaging Line</td>\n      <td>88.601992</td>\n      <td>89.937915</td>\n      <td>89.978621</td>\n      <td>89.681359</td>\n      <td>88.438778</td>\n      <td>88.456799</td>\n      <td>535.095463</td>\n      <td>446.638664</td>\n      <td>Lisieux</td>\n      <td>10</td>\n      <td>40.975015</td>\n      <td>10</td>\n      <td>0</td>\n      <td>1.070456</td>\n      <td>0.353021</td>\n      <td>-0.010676</td>\n      <td>0.530</td>\n    </tr>\n    <tr>\n      <th>10</th>\n      <td>C9 Packaging Line</td>\n      <td>89.037885</td>\n      <td>89.747841</td>\n      <td>90.361488</td>\n      <td>89.831886</td>\n      <td>88.439962</td>\n      <td>88.424910</td>\n      <td>535.843972</td>\n      <td>447.419062</td>\n      <td>Maisons-Alfort</td>\n      <td>11</td>\n      <td>41.723524</td>\n      <td>11</td>\n      <td>0</td>\n      <td>0.748509</td>\n      <td>0.528518</td>\n      <td>-0.019492</td>\n      <td>0.530</td>\n    </tr>\n    <tr>\n      <th>11</th>\n      <td>TR200 Packaging Line</td>\n      <td>88.727020</td>\n      <td>89.591164</td>\n      <td>89.381941</td>\n      <td>91.366632</td>\n      <td>88.522206</td>\n      <td>88.409362</td>\n      <td>535.998327</td>\n      <td>447.588965</td>\n      <td>Lisieux</td>\n      <td>12</td>\n      <td>41.877879</td>\n      <td>12</td>\n      <td>0</td>\n      <td>0.154355</td>\n      <td>0.483505</td>\n      <td>0.120926</td>\n      <td>0.650</td>\n    </tr>\n    <tr>\n      <th>12</th>\n      <td>MEDISEAL PURAN</td>\n      <td>89.977078</td>\n      <td>89.455549</td>\n      <td>90.312110</td>\n      <td>89.859159</td>\n      <td>88.428389</td>\n      <td>88.428794</td>\n      <td>536.461079</td>\n      <td>448.032285</td>\n      <td>SUZANO</td>\n      <td>13</td>\n      <td>42.340631</td>\n      <td>13</td>\n      <td>0</td>\n      <td>0.462752</td>\n      <td>0.592206</td>\n      <td>-0.025165</td>\n      <td>0.650</td>\n    </tr>\n    <tr>\n      <th>13</th>\n      <td>C2 Packaging Line</td>\n      <td>88.969295</td>\n      <td>90.451874</td>\n      <td>90.261138</td>\n      <td>90.572525</td>\n      <td>88.534653</td>\n      <td>88.583530</td>\n      <td>537.373016</td>\n      <td>448.789486</td>\n      <td>Maisons-Alfort</td>\n      <td>14</td>\n      <td>43.252568</td>\n      <td>14</td>\n      <td>0</td>\n      <td>0.911937</td>\n      <td>0.397503</td>\n      <td>0.012193</td>\n      <td>0.470</td>\n    </tr>\n    <tr>\n      <th>14</th>\n      <td>AL5 Packaging 1</td>\n      <td>89.636899</td>\n      <td>89.931643</td>\n      <td>90.895951</td>\n      <td>90.434052</td>\n      <td>88.450605</td>\n      <td>88.494276</td>\n      <td>537.843426</td>\n      <td>449.349150</td>\n      <td>Frankfurt</td>\n      <td>15</td>\n      <td>43.722978</td>\n      <td>15</td>\n      <td>0</td>\n      <td>0.470410</td>\n      <td>0.479693</td>\n      <td>-0.187473</td>\n      <td>0.500</td>\n    </tr>\n  </tbody>\n</table>\n</div>"
     },
     "metadata": {},
     "execution_count": 283
    }
   ],
   "source": [
    "# filter using the end_date to stop picking up future dated nomination rows of zero I created when joining the s/s\n",
    "# pivot = df_monthly[df_monthly['Date'] < end_date].pivot(index='Line', columns='Date', values='lap_time')\n",
    "pivot = df_monthly.pivot(index='Line', columns='Date', values='lap_time')\n",
    "pivot.reset_index(inplace=True)\n",
    "# pivot creates NaN for rows with no monthly data for each race review data\n",
    "# populate each NaN value with the max for that column - so they get the max laptime for that race\n",
    "# we can search for cols [1:] and find all cols after Date and Line\n",
    "pivot.iloc[:,1:] = pivot.iloc[:,1:].fillna(pivot.iloc[:,1:].max())\n",
    "\n",
    "# sum all the columns to get a race_time\n",
    "pivot['race_time'] = pivot.sum(axis=1)\n",
    "# sum all but the last 2 cols (this lap and the race_time) to calc prev_race_time\n",
    "\n",
    "# pivot['prev_race_time'] = pivot[pivot.columns[2]] + pivot[pivot.columns[3]]\n",
    "pivot['prev_race_time'] = pivot.iloc[:,1:-2].sum(axis=1)\n",
    "\n",
    "pivot = pivot.merge(df_dash[['Plant','Line']], on='Line')\n",
    "pivot.sort_values('race_time', inplace=True)\n",
    "pivot['position'] = np.arange(1,len(pivot) + 1)\n",
    "pivot['gap_to_leader'] = pivot['race_time'] - pivot['race_time'].iloc[0]\n",
    "pivot.sort_values('prev_race_time', inplace=True)\n",
    "pivot['prev_position'] = np.arange(1,len(pivot) + 1)\n",
    "pivot['Gain/Loss'] = pivot.prev_position - pivot.position\n",
    "pivot.sort_values('race_time', inplace=True)\n",
    "pivot['interval'] = pivot.race_time.diff()\n",
    "pivot = pivot.merge(df_dash[['Line','OEE  Start point', '⇗ OEE% progress', 'OEE% Target (2022)']], on='Line')\n",
    "pivot"
   ]
  },
  {
   "cell_type": "markdown",
   "metadata": {},
   "source": [
    "#### write this out for tableau"
   ]
  },
  {
   "cell_type": "code",
   "execution_count": 284,
   "metadata": {},
   "outputs": [],
   "source": [
    "pivot.to_csv(output_dir + \"leaderboard.csv\")"
   ]
  },
  {
   "cell_type": "markdown",
   "metadata": {},
   "source": [
    "END OF PROCESSING - Sanity checks below"
   ]
  },
  {
   "cell_type": "code",
   "execution_count": 285,
   "metadata": {},
   "outputs": [],
   "source": [
    "pivot.sort_values(pivot.columns[1], inplace=True)\n",
    "pivot['apr_position'] = np.arange(1,len(pivot) + 1)\n",
    "pivot['temp_race_time'] = pivot[pivot.columns[[1,2]]].sum(axis=1)\n",
    "pivot.sort_values(by='temp_race_time', inplace=True)\n",
    "pivot['may_position'] = np.arange(1,len(pivot) + 1)\n",
    "pivot['temp_race_time'] = pivot[pivot.columns[[1,2,3]]].sum(axis=1)\n",
    "pivot.sort_values(by='temp_race_time', inplace=True)\n",
    "pivot['jun_position'] = np.arange(1,len(pivot) + 1)\n",
    "pivot['temp_race_time'] = pivot[pivot.columns[[1,2,3,4]]].sum(axis=1)\n",
    "pivot.sort_values(by='temp_race_time', inplace=True)\n",
    "pivot['jly_position'] = np.arange(1,len(pivot) + 1)"
   ]
  },
  {
   "cell_type": "code",
   "execution_count": 286,
   "metadata": {
    "scrolled": true
   },
   "outputs": [
    {
     "output_type": "execute_result",
     "data": {
      "text/plain": [
       "                      Line  2021-04-15 00:00:00  2021-05-13 00:00:00  \\\n",
       "0                   GAMMA1            89.170176            69.325767   \n",
       "1                IMA C80/2            88.926865            69.256522   \n",
       "2       L18 Packaging Line            88.863912            74.226704   \n",
       "3       L25 Packaging Line            88.866388            74.908842   \n",
       "4              M22 Filling            88.970596            81.806345   \n",
       "5              M21 Filling            89.756877            83.292606   \n",
       "6              M18 Filling            89.977078            82.596174   \n",
       "7                      AL6            89.154460            90.323044   \n",
       "8   LINE 01 - UHLMANN 1880            89.977078            88.542111   \n",
       "9     SUPPO Packaging Line            88.601992            89.937915   \n",
       "10       C9 Packaging Line            89.037885            89.747841   \n",
       "11    TR200 Packaging Line            88.727020            89.591164   \n",
       "12          MEDISEAL PURAN            89.977078            89.455549   \n",
       "13       C2 Packaging Line            88.969295            90.451874   \n",
       "14         AL5 Packaging 1            89.636899            89.931643   \n",
       "\n",
       "    2021-06-10 00:00:00  2021-07-08 00:00:00  2021-08-19 00:00:00  \\\n",
       "0             68.226756            90.143947            88.607297   \n",
       "1             75.232693            89.520411            88.540948   \n",
       "2             89.407996            89.262767            88.498359   \n",
       "3             90.011979            89.722251            88.586427   \n",
       "4             84.857670            89.844474            88.572975   \n",
       "5             84.767181            90.769388            88.531191   \n",
       "6             85.446232            90.866765            88.759629   \n",
       "7             84.205598            89.779721            88.414162   \n",
       "8             89.636847            89.083857            88.392947   \n",
       "9             89.978621            89.681359            88.438778   \n",
       "10            90.361488            89.831886            88.439962   \n",
       "11            89.381941            91.366632            88.522206   \n",
       "12            90.312110            89.859159            88.428389   \n",
       "13            90.261138            90.572525            88.534653   \n",
       "14            90.895951            90.434052            88.450605   \n",
       "\n",
       "    2021-09-16 00:00:00  position  prev_position  apr_position  may_position  \\\n",
       "0             88.646505         1              1            10             2   \n",
       "1             88.540666         2              2             5             1   \n",
       "2             88.482486         3              3             3             3   \n",
       "3             88.549614         4              4             4             4   \n",
       "4             88.491664         5              5             7             5   \n",
       "5             88.591000         6              6            12             7   \n",
       "6             88.935114         7              7            13             6   \n",
       "7             88.430910         8              8             9            14   \n",
       "8             88.392168         9              9            14             9   \n",
       "9             88.456799        10             10             1            10   \n",
       "10            88.424910        11             11             8            11   \n",
       "11            88.409362        12             12             2             8   \n",
       "12            88.428794        13             13            15            13   \n",
       "13            88.583530        14             14             6            12   \n",
       "14            88.494276        15             15            11            15   \n",
       "\n",
       "    jun_position  jly_position  \n",
       "0              1             1  \n",
       "1              2             2  \n",
       "2              3             3  \n",
       "3              4             4  \n",
       "4              5             5  \n",
       "5              6             6  \n",
       "6              7             7  \n",
       "7              8             8  \n",
       "8             10             9  \n",
       "9             11            10  \n",
       "10            12            11  \n",
       "11             9            12  \n",
       "12            14            13  \n",
       "13            13            14  \n",
       "14            15            15  "
      ],
      "text/html": "<div>\n<style scoped>\n    .dataframe tbody tr th:only-of-type {\n        vertical-align: middle;\n    }\n\n    .dataframe tbody tr th {\n        vertical-align: top;\n    }\n\n    .dataframe thead th {\n        text-align: right;\n    }\n</style>\n<table border=\"1\" class=\"dataframe\">\n  <thead>\n    <tr style=\"text-align: right;\">\n      <th></th>\n      <th>Line</th>\n      <th>2021-04-15 00:00:00</th>\n      <th>2021-05-13 00:00:00</th>\n      <th>2021-06-10 00:00:00</th>\n      <th>2021-07-08 00:00:00</th>\n      <th>2021-08-19 00:00:00</th>\n      <th>2021-09-16 00:00:00</th>\n      <th>position</th>\n      <th>prev_position</th>\n      <th>apr_position</th>\n      <th>may_position</th>\n      <th>jun_position</th>\n      <th>jly_position</th>\n    </tr>\n  </thead>\n  <tbody>\n    <tr>\n      <th>0</th>\n      <td>GAMMA1</td>\n      <td>89.170176</td>\n      <td>69.325767</td>\n      <td>68.226756</td>\n      <td>90.143947</td>\n      <td>88.607297</td>\n      <td>88.646505</td>\n      <td>1</td>\n      <td>1</td>\n      <td>10</td>\n      <td>2</td>\n      <td>1</td>\n      <td>1</td>\n    </tr>\n    <tr>\n      <th>1</th>\n      <td>IMA C80/2</td>\n      <td>88.926865</td>\n      <td>69.256522</td>\n      <td>75.232693</td>\n      <td>89.520411</td>\n      <td>88.540948</td>\n      <td>88.540666</td>\n      <td>2</td>\n      <td>2</td>\n      <td>5</td>\n      <td>1</td>\n      <td>2</td>\n      <td>2</td>\n    </tr>\n    <tr>\n      <th>2</th>\n      <td>L18 Packaging Line</td>\n      <td>88.863912</td>\n      <td>74.226704</td>\n      <td>89.407996</td>\n      <td>89.262767</td>\n      <td>88.498359</td>\n      <td>88.482486</td>\n      <td>3</td>\n      <td>3</td>\n      <td>3</td>\n      <td>3</td>\n      <td>3</td>\n      <td>3</td>\n    </tr>\n    <tr>\n      <th>3</th>\n      <td>L25 Packaging Line</td>\n      <td>88.866388</td>\n      <td>74.908842</td>\n      <td>90.011979</td>\n      <td>89.722251</td>\n      <td>88.586427</td>\n      <td>88.549614</td>\n      <td>4</td>\n      <td>4</td>\n      <td>4</td>\n      <td>4</td>\n      <td>4</td>\n      <td>4</td>\n    </tr>\n    <tr>\n      <th>4</th>\n      <td>M22 Filling</td>\n      <td>88.970596</td>\n      <td>81.806345</td>\n      <td>84.857670</td>\n      <td>89.844474</td>\n      <td>88.572975</td>\n      <td>88.491664</td>\n      <td>5</td>\n      <td>5</td>\n      <td>7</td>\n      <td>5</td>\n      <td>5</td>\n      <td>5</td>\n    </tr>\n    <tr>\n      <th>5</th>\n      <td>M21 Filling</td>\n      <td>89.756877</td>\n      <td>83.292606</td>\n      <td>84.767181</td>\n      <td>90.769388</td>\n      <td>88.531191</td>\n      <td>88.591000</td>\n      <td>6</td>\n      <td>6</td>\n      <td>12</td>\n      <td>7</td>\n      <td>6</td>\n      <td>6</td>\n    </tr>\n    <tr>\n      <th>6</th>\n      <td>M18 Filling</td>\n      <td>89.977078</td>\n      <td>82.596174</td>\n      <td>85.446232</td>\n      <td>90.866765</td>\n      <td>88.759629</td>\n      <td>88.935114</td>\n      <td>7</td>\n      <td>7</td>\n      <td>13</td>\n      <td>6</td>\n      <td>7</td>\n      <td>7</td>\n    </tr>\n    <tr>\n      <th>7</th>\n      <td>AL6</td>\n      <td>89.154460</td>\n      <td>90.323044</td>\n      <td>84.205598</td>\n      <td>89.779721</td>\n      <td>88.414162</td>\n      <td>88.430910</td>\n      <td>8</td>\n      <td>8</td>\n      <td>9</td>\n      <td>14</td>\n      <td>8</td>\n      <td>8</td>\n    </tr>\n    <tr>\n      <th>8</th>\n      <td>LINE 01 - UHLMANN 1880</td>\n      <td>89.977078</td>\n      <td>88.542111</td>\n      <td>89.636847</td>\n      <td>89.083857</td>\n      <td>88.392947</td>\n      <td>88.392168</td>\n      <td>9</td>\n      <td>9</td>\n      <td>14</td>\n      <td>9</td>\n      <td>10</td>\n      <td>9</td>\n    </tr>\n    <tr>\n      <th>9</th>\n      <td>SUPPO Packaging Line</td>\n      <td>88.601992</td>\n      <td>89.937915</td>\n      <td>89.978621</td>\n      <td>89.681359</td>\n      <td>88.438778</td>\n      <td>88.456799</td>\n      <td>10</td>\n      <td>10</td>\n      <td>1</td>\n      <td>10</td>\n      <td>11</td>\n      <td>10</td>\n    </tr>\n    <tr>\n      <th>10</th>\n      <td>C9 Packaging Line</td>\n      <td>89.037885</td>\n      <td>89.747841</td>\n      <td>90.361488</td>\n      <td>89.831886</td>\n      <td>88.439962</td>\n      <td>88.424910</td>\n      <td>11</td>\n      <td>11</td>\n      <td>8</td>\n      <td>11</td>\n      <td>12</td>\n      <td>11</td>\n    </tr>\n    <tr>\n      <th>11</th>\n      <td>TR200 Packaging Line</td>\n      <td>88.727020</td>\n      <td>89.591164</td>\n      <td>89.381941</td>\n      <td>91.366632</td>\n      <td>88.522206</td>\n      <td>88.409362</td>\n      <td>12</td>\n      <td>12</td>\n      <td>2</td>\n      <td>8</td>\n      <td>9</td>\n      <td>12</td>\n    </tr>\n    <tr>\n      <th>12</th>\n      <td>MEDISEAL PURAN</td>\n      <td>89.977078</td>\n      <td>89.455549</td>\n      <td>90.312110</td>\n      <td>89.859159</td>\n      <td>88.428389</td>\n      <td>88.428794</td>\n      <td>13</td>\n      <td>13</td>\n      <td>15</td>\n      <td>13</td>\n      <td>14</td>\n      <td>13</td>\n    </tr>\n    <tr>\n      <th>13</th>\n      <td>C2 Packaging Line</td>\n      <td>88.969295</td>\n      <td>90.451874</td>\n      <td>90.261138</td>\n      <td>90.572525</td>\n      <td>88.534653</td>\n      <td>88.583530</td>\n      <td>14</td>\n      <td>14</td>\n      <td>6</td>\n      <td>12</td>\n      <td>13</td>\n      <td>14</td>\n    </tr>\n    <tr>\n      <th>14</th>\n      <td>AL5 Packaging 1</td>\n      <td>89.636899</td>\n      <td>89.931643</td>\n      <td>90.895951</td>\n      <td>90.434052</td>\n      <td>88.450605</td>\n      <td>88.494276</td>\n      <td>15</td>\n      <td>15</td>\n      <td>11</td>\n      <td>15</td>\n      <td>15</td>\n      <td>15</td>\n    </tr>\n  </tbody>\n</table>\n</div>"
     },
     "metadata": {},
     "execution_count": 286
    }
   ],
   "source": [
    "# regex filter on column name contains Line, position or 2021\n",
    "pivot.filter(regex='Line|position|2021')"
   ]
  },
  {
   "cell_type": "code",
   "execution_count": 287,
   "metadata": {},
   "outputs": [],
   "source": [
    "# df_weekly.groupby(['Review_Date','Line']).lap_time.sum().reset_index()\n",
    "sectors = df_weekly.filter(regex='Line|sector|Review_Date')"
   ]
  },
  {
   "cell_type": "code",
   "execution_count": 288,
   "metadata": {},
   "outputs": [
    {
     "output_type": "execute_result",
     "data": {
      "text/plain": [
       "Review_Date                    Line  2021-04-15 00:00:00  2021-05-13 00:00:00  \\\n",
       "0                   AL5 Packaging 1             1.636899             1.931643   \n",
       "1                               AL6             1.154460             2.323044   \n",
       "2                 C2 Packaging Line             0.969295             2.451874   \n",
       "3                 C9 Packaging Line             1.037885             1.747841   \n",
       "4                            GAMMA1             1.170176             1.725767   \n",
       "5                         IMA C80/2             0.926865             1.656522   \n",
       "6                L18 Packaging Line             0.863912             1.426704   \n",
       "7                L25 Packaging Line             0.866388             2.108842   \n",
       "8            LINE 01 - UHLMANN 1880                  NaN             0.542111   \n",
       "9                       M18 Filling             1.977078             2.596174   \n",
       "10                      M21 Filling             1.756877             3.292606   \n",
       "11                      M22 Filling             0.970596             1.806345   \n",
       "12                   MEDISEAL PURAN                  NaN             1.455549   \n",
       "13             SUPPO Packaging Line             0.601992             1.937915   \n",
       "14             TR200 Packaging Line             0.727020             1.591164   \n",
       "\n",
       "Review_Date  2021-06-10 00:00:00  2021-07-08 00:00:00  2021-08-19 00:00:00  \\\n",
       "0                       2.895951             2.434052             0.450605   \n",
       "1                       1.805598             1.779721             0.414162   \n",
       "2                       2.261138             2.572525             0.534653   \n",
       "3                       2.361488             1.831886             0.439962   \n",
       "4                       1.926756             2.143947             0.607297   \n",
       "5                       1.732693             1.520411             0.540948   \n",
       "6                       1.407996             1.262767             0.498359   \n",
       "7                       2.011979             1.722251             0.586427   \n",
       "8                       1.636847             1.083857             0.392947   \n",
       "9                       2.646232             2.866765             0.759629   \n",
       "10                      1.967181             2.769388             0.531191   \n",
       "11                      2.057670             1.844474             0.572975   \n",
       "12                      2.312110             1.859159             0.428389   \n",
       "13                      1.978621             1.681359             0.438778   \n",
       "14                      1.381941             3.366632             0.522206   \n",
       "\n",
       "Review_Date  2021-09-16 00:00:00  \n",
       "0                       0.494276  \n",
       "1                       0.430910  \n",
       "2                       0.583530  \n",
       "3                       0.424910  \n",
       "4                       0.646505  \n",
       "5                       0.540666  \n",
       "6                       0.482486  \n",
       "7                       0.549614  \n",
       "8                       0.392168  \n",
       "9                       0.935114  \n",
       "10                      0.591000  \n",
       "11                      0.491664  \n",
       "12                      0.428794  \n",
       "13                      0.456799  \n",
       "14                      0.409362  "
      ],
      "text/html": "<div>\n<style scoped>\n    .dataframe tbody tr th:only-of-type {\n        vertical-align: middle;\n    }\n\n    .dataframe tbody tr th {\n        vertical-align: top;\n    }\n\n    .dataframe thead th {\n        text-align: right;\n    }\n</style>\n<table border=\"1\" class=\"dataframe\">\n  <thead>\n    <tr style=\"text-align: right;\">\n      <th>Review_Date</th>\n      <th>Line</th>\n      <th>2021-04-15 00:00:00</th>\n      <th>2021-05-13 00:00:00</th>\n      <th>2021-06-10 00:00:00</th>\n      <th>2021-07-08 00:00:00</th>\n      <th>2021-08-19 00:00:00</th>\n      <th>2021-09-16 00:00:00</th>\n    </tr>\n  </thead>\n  <tbody>\n    <tr>\n      <th>0</th>\n      <td>AL5 Packaging 1</td>\n      <td>1.636899</td>\n      <td>1.931643</td>\n      <td>2.895951</td>\n      <td>2.434052</td>\n      <td>0.450605</td>\n      <td>0.494276</td>\n    </tr>\n    <tr>\n      <th>1</th>\n      <td>AL6</td>\n      <td>1.154460</td>\n      <td>2.323044</td>\n      <td>1.805598</td>\n      <td>1.779721</td>\n      <td>0.414162</td>\n      <td>0.430910</td>\n    </tr>\n    <tr>\n      <th>2</th>\n      <td>C2 Packaging Line</td>\n      <td>0.969295</td>\n      <td>2.451874</td>\n      <td>2.261138</td>\n      <td>2.572525</td>\n      <td>0.534653</td>\n      <td>0.583530</td>\n    </tr>\n    <tr>\n      <th>3</th>\n      <td>C9 Packaging Line</td>\n      <td>1.037885</td>\n      <td>1.747841</td>\n      <td>2.361488</td>\n      <td>1.831886</td>\n      <td>0.439962</td>\n      <td>0.424910</td>\n    </tr>\n    <tr>\n      <th>4</th>\n      <td>GAMMA1</td>\n      <td>1.170176</td>\n      <td>1.725767</td>\n      <td>1.926756</td>\n      <td>2.143947</td>\n      <td>0.607297</td>\n      <td>0.646505</td>\n    </tr>\n    <tr>\n      <th>5</th>\n      <td>IMA C80/2</td>\n      <td>0.926865</td>\n      <td>1.656522</td>\n      <td>1.732693</td>\n      <td>1.520411</td>\n      <td>0.540948</td>\n      <td>0.540666</td>\n    </tr>\n    <tr>\n      <th>6</th>\n      <td>L18 Packaging Line</td>\n      <td>0.863912</td>\n      <td>1.426704</td>\n      <td>1.407996</td>\n      <td>1.262767</td>\n      <td>0.498359</td>\n      <td>0.482486</td>\n    </tr>\n    <tr>\n      <th>7</th>\n      <td>L25 Packaging Line</td>\n      <td>0.866388</td>\n      <td>2.108842</td>\n      <td>2.011979</td>\n      <td>1.722251</td>\n      <td>0.586427</td>\n      <td>0.549614</td>\n    </tr>\n    <tr>\n      <th>8</th>\n      <td>LINE 01 - UHLMANN 1880</td>\n      <td>NaN</td>\n      <td>0.542111</td>\n      <td>1.636847</td>\n      <td>1.083857</td>\n      <td>0.392947</td>\n      <td>0.392168</td>\n    </tr>\n    <tr>\n      <th>9</th>\n      <td>M18 Filling</td>\n      <td>1.977078</td>\n      <td>2.596174</td>\n      <td>2.646232</td>\n      <td>2.866765</td>\n      <td>0.759629</td>\n      <td>0.935114</td>\n    </tr>\n    <tr>\n      <th>10</th>\n      <td>M21 Filling</td>\n      <td>1.756877</td>\n      <td>3.292606</td>\n      <td>1.967181</td>\n      <td>2.769388</td>\n      <td>0.531191</td>\n      <td>0.591000</td>\n    </tr>\n    <tr>\n      <th>11</th>\n      <td>M22 Filling</td>\n      <td>0.970596</td>\n      <td>1.806345</td>\n      <td>2.057670</td>\n      <td>1.844474</td>\n      <td>0.572975</td>\n      <td>0.491664</td>\n    </tr>\n    <tr>\n      <th>12</th>\n      <td>MEDISEAL PURAN</td>\n      <td>NaN</td>\n      <td>1.455549</td>\n      <td>2.312110</td>\n      <td>1.859159</td>\n      <td>0.428389</td>\n      <td>0.428794</td>\n    </tr>\n    <tr>\n      <th>13</th>\n      <td>SUPPO Packaging Line</td>\n      <td>0.601992</td>\n      <td>1.937915</td>\n      <td>1.978621</td>\n      <td>1.681359</td>\n      <td>0.438778</td>\n      <td>0.456799</td>\n    </tr>\n    <tr>\n      <th>14</th>\n      <td>TR200 Packaging Line</td>\n      <td>0.727020</td>\n      <td>1.591164</td>\n      <td>1.381941</td>\n      <td>3.366632</td>\n      <td>0.522206</td>\n      <td>0.409362</td>\n    </tr>\n  </tbody>\n</table>\n</div>"
     },
     "metadata": {},
     "execution_count": 288
    }
   ],
   "source": [
    "# sectors[sectors.columns[[2,3,4,5]]].sum(axis=1)\n",
    "sectors = df_weekly.filter(regex='Line|sector|Review_Date')\n",
    "sectors = sectors.iloc[:,0:6]\n",
    "sectors = sectors.groupby(['Line','Review_Date']).sum().reset_index()\n",
    "sectors['time'] = sectors.sum(axis=1)\n",
    "sectors_pivot = sectors.pivot(index='Line', columns='Review_Date', values='time')\n",
    "sectors_pivot.reset_index(inplace=True)\n",
    "sectors_pivot\n",
    "# sectors[sectors[sectors.columns[[2,3,4,5]]].sum(axis=1)\n",
    "# sectors[sectors.Line.str.contains('AL5')]"
   ]
  },
  {
   "cell_type": "code",
   "execution_count": 289,
   "metadata": {},
   "outputs": [],
   "source": [
    "# search for cols [1:] and find all cols after Date and Line\n",
    "sectors_pivot.iloc[:,1:] = sectors_pivot.iloc[:,1:].fillna(sectors_pivot.iloc[:,1:].max())\n"
   ]
  },
  {
   "cell_type": "code",
   "execution_count": 290,
   "metadata": {},
   "outputs": [
    {
     "output_type": "execute_result",
     "data": {
      "text/plain": [
       "Review_Date                    Line  2021-04-15 00:00:00  2021-05-13 00:00:00  \\\n",
       "6                L18 Packaging Line             0.863912             1.426704   \n",
       "8            LINE 01 - UHLMANN 1880             1.977078             0.542111   \n",
       "5                         IMA C80/2             0.926865             1.656522   \n",
       "13             SUPPO Packaging Line             0.601992             1.937915   \n",
       "11                      M22 Filling             0.970596             1.806345   \n",
       "7                L25 Packaging Line             0.866388             2.108842   \n",
       "4                            GAMMA1             1.170176             1.725767   \n",
       "3                 C9 Packaging Line             1.037885             1.747841   \n",
       "1                               AL6             1.154460             2.323044   \n",
       "14             TR200 Packaging Line             0.727020             1.591164   \n",
       "12                   MEDISEAL PURAN             1.977078             1.455549   \n",
       "2                 C2 Packaging Line             0.969295             2.451874   \n",
       "0                   AL5 Packaging 1             1.636899             1.931643   \n",
       "10                      M21 Filling             1.756877             3.292606   \n",
       "9                       M18 Filling             1.977078             2.596174   \n",
       "\n",
       "Review_Date  2021-06-10 00:00:00  2021-07-08 00:00:00  2021-08-19 00:00:00  \\\n",
       "6                       1.407996             1.262767             0.498359   \n",
       "8                       1.636847             1.083857             0.392947   \n",
       "5                       1.732693             1.520411             0.540948   \n",
       "13                      1.978621             1.681359             0.438778   \n",
       "11                      2.057670             1.844474             0.572975   \n",
       "7                       2.011979             1.722251             0.586427   \n",
       "4                       1.926756             2.143947             0.607297   \n",
       "3                       2.361488             1.831886             0.439962   \n",
       "1                       1.805598             1.779721             0.414162   \n",
       "14                      1.381941             3.366632             0.522206   \n",
       "12                      2.312110             1.859159             0.428389   \n",
       "2                       2.261138             2.572525             0.534653   \n",
       "0                       2.895951             2.434052             0.450605   \n",
       "10                      1.967181             2.769388             0.531191   \n",
       "9                       2.646232             2.866765             0.759629   \n",
       "\n",
       "Review_Date  2021-09-16 00:00:00  apr_position  temp_race_time  may_position  \\\n",
       "6                       0.482486             3        4.961379             1   \n",
       "8                       0.392168            13        5.239893             3   \n",
       "5                       0.540666             5        5.836491             5   \n",
       "13                      0.456799             1        6.199886             4   \n",
       "11                      0.491664             7        6.679085             6   \n",
       "7                       0.549614             4        6.709460             9   \n",
       "4                       0.646505            10        6.966647             8   \n",
       "3                       0.424910             8        6.979100             7   \n",
       "1                       0.430910             9        7.062823            12   \n",
       "14                      0.409362             2        7.066758             2   \n",
       "12                      0.428794            15        7.603896            11   \n",
       "2                       0.583530             6        8.254833            10   \n",
       "0                       0.494276            11        8.898545            13   \n",
       "10                      0.591000            12        9.786052            15   \n",
       "9                       0.935114            14       10.086250            14   \n",
       "\n",
       "Review_Date  jun_position  jly_position  \n",
       "6                       1             1  \n",
       "8                       3             2  \n",
       "5                       4             3  \n",
       "13                      5             4  \n",
       "11                      7             5  \n",
       "7                       8             6  \n",
       "4                       6             7  \n",
       "3                       9             8  \n",
       "1                      10             9  \n",
       "14                      2            10  \n",
       "12                     12            11  \n",
       "2                      11            12  \n",
       "0                      13            13  \n",
       "10                     14            14  \n",
       "9                      15            15  "
      ],
      "text/html": "<div>\n<style scoped>\n    .dataframe tbody tr th:only-of-type {\n        vertical-align: middle;\n    }\n\n    .dataframe tbody tr th {\n        vertical-align: top;\n    }\n\n    .dataframe thead th {\n        text-align: right;\n    }\n</style>\n<table border=\"1\" class=\"dataframe\">\n  <thead>\n    <tr style=\"text-align: right;\">\n      <th>Review_Date</th>\n      <th>Line</th>\n      <th>2021-04-15 00:00:00</th>\n      <th>2021-05-13 00:00:00</th>\n      <th>2021-06-10 00:00:00</th>\n      <th>2021-07-08 00:00:00</th>\n      <th>2021-08-19 00:00:00</th>\n      <th>2021-09-16 00:00:00</th>\n      <th>apr_position</th>\n      <th>temp_race_time</th>\n      <th>may_position</th>\n      <th>jun_position</th>\n      <th>jly_position</th>\n    </tr>\n  </thead>\n  <tbody>\n    <tr>\n      <th>6</th>\n      <td>L18 Packaging Line</td>\n      <td>0.863912</td>\n      <td>1.426704</td>\n      <td>1.407996</td>\n      <td>1.262767</td>\n      <td>0.498359</td>\n      <td>0.482486</td>\n      <td>3</td>\n      <td>4.961379</td>\n      <td>1</td>\n      <td>1</td>\n      <td>1</td>\n    </tr>\n    <tr>\n      <th>8</th>\n      <td>LINE 01 - UHLMANN 1880</td>\n      <td>1.977078</td>\n      <td>0.542111</td>\n      <td>1.636847</td>\n      <td>1.083857</td>\n      <td>0.392947</td>\n      <td>0.392168</td>\n      <td>13</td>\n      <td>5.239893</td>\n      <td>3</td>\n      <td>3</td>\n      <td>2</td>\n    </tr>\n    <tr>\n      <th>5</th>\n      <td>IMA C80/2</td>\n      <td>0.926865</td>\n      <td>1.656522</td>\n      <td>1.732693</td>\n      <td>1.520411</td>\n      <td>0.540948</td>\n      <td>0.540666</td>\n      <td>5</td>\n      <td>5.836491</td>\n      <td>5</td>\n      <td>4</td>\n      <td>3</td>\n    </tr>\n    <tr>\n      <th>13</th>\n      <td>SUPPO Packaging Line</td>\n      <td>0.601992</td>\n      <td>1.937915</td>\n      <td>1.978621</td>\n      <td>1.681359</td>\n      <td>0.438778</td>\n      <td>0.456799</td>\n      <td>1</td>\n      <td>6.199886</td>\n      <td>4</td>\n      <td>5</td>\n      <td>4</td>\n    </tr>\n    <tr>\n      <th>11</th>\n      <td>M22 Filling</td>\n      <td>0.970596</td>\n      <td>1.806345</td>\n      <td>2.057670</td>\n      <td>1.844474</td>\n      <td>0.572975</td>\n      <td>0.491664</td>\n      <td>7</td>\n      <td>6.679085</td>\n      <td>6</td>\n      <td>7</td>\n      <td>5</td>\n    </tr>\n    <tr>\n      <th>7</th>\n      <td>L25 Packaging Line</td>\n      <td>0.866388</td>\n      <td>2.108842</td>\n      <td>2.011979</td>\n      <td>1.722251</td>\n      <td>0.586427</td>\n      <td>0.549614</td>\n      <td>4</td>\n      <td>6.709460</td>\n      <td>9</td>\n      <td>8</td>\n      <td>6</td>\n    </tr>\n    <tr>\n      <th>4</th>\n      <td>GAMMA1</td>\n      <td>1.170176</td>\n      <td>1.725767</td>\n      <td>1.926756</td>\n      <td>2.143947</td>\n      <td>0.607297</td>\n      <td>0.646505</td>\n      <td>10</td>\n      <td>6.966647</td>\n      <td>8</td>\n      <td>6</td>\n      <td>7</td>\n    </tr>\n    <tr>\n      <th>3</th>\n      <td>C9 Packaging Line</td>\n      <td>1.037885</td>\n      <td>1.747841</td>\n      <td>2.361488</td>\n      <td>1.831886</td>\n      <td>0.439962</td>\n      <td>0.424910</td>\n      <td>8</td>\n      <td>6.979100</td>\n      <td>7</td>\n      <td>9</td>\n      <td>8</td>\n    </tr>\n    <tr>\n      <th>1</th>\n      <td>AL6</td>\n      <td>1.154460</td>\n      <td>2.323044</td>\n      <td>1.805598</td>\n      <td>1.779721</td>\n      <td>0.414162</td>\n      <td>0.430910</td>\n      <td>9</td>\n      <td>7.062823</td>\n      <td>12</td>\n      <td>10</td>\n      <td>9</td>\n    </tr>\n    <tr>\n      <th>14</th>\n      <td>TR200 Packaging Line</td>\n      <td>0.727020</td>\n      <td>1.591164</td>\n      <td>1.381941</td>\n      <td>3.366632</td>\n      <td>0.522206</td>\n      <td>0.409362</td>\n      <td>2</td>\n      <td>7.066758</td>\n      <td>2</td>\n      <td>2</td>\n      <td>10</td>\n    </tr>\n    <tr>\n      <th>12</th>\n      <td>MEDISEAL PURAN</td>\n      <td>1.977078</td>\n      <td>1.455549</td>\n      <td>2.312110</td>\n      <td>1.859159</td>\n      <td>0.428389</td>\n      <td>0.428794</td>\n      <td>15</td>\n      <td>7.603896</td>\n      <td>11</td>\n      <td>12</td>\n      <td>11</td>\n    </tr>\n    <tr>\n      <th>2</th>\n      <td>C2 Packaging Line</td>\n      <td>0.969295</td>\n      <td>2.451874</td>\n      <td>2.261138</td>\n      <td>2.572525</td>\n      <td>0.534653</td>\n      <td>0.583530</td>\n      <td>6</td>\n      <td>8.254833</td>\n      <td>10</td>\n      <td>11</td>\n      <td>12</td>\n    </tr>\n    <tr>\n      <th>0</th>\n      <td>AL5 Packaging 1</td>\n      <td>1.636899</td>\n      <td>1.931643</td>\n      <td>2.895951</td>\n      <td>2.434052</td>\n      <td>0.450605</td>\n      <td>0.494276</td>\n      <td>11</td>\n      <td>8.898545</td>\n      <td>13</td>\n      <td>13</td>\n      <td>13</td>\n    </tr>\n    <tr>\n      <th>10</th>\n      <td>M21 Filling</td>\n      <td>1.756877</td>\n      <td>3.292606</td>\n      <td>1.967181</td>\n      <td>2.769388</td>\n      <td>0.531191</td>\n      <td>0.591000</td>\n      <td>12</td>\n      <td>9.786052</td>\n      <td>15</td>\n      <td>14</td>\n      <td>14</td>\n    </tr>\n    <tr>\n      <th>9</th>\n      <td>M18 Filling</td>\n      <td>1.977078</td>\n      <td>2.596174</td>\n      <td>2.646232</td>\n      <td>2.866765</td>\n      <td>0.759629</td>\n      <td>0.935114</td>\n      <td>14</td>\n      <td>10.086250</td>\n      <td>14</td>\n      <td>15</td>\n      <td>15</td>\n    </tr>\n  </tbody>\n</table>\n</div>"
     },
     "metadata": {},
     "execution_count": 290
    }
   ],
   "source": [
    "sectors_pivot.sort_values(sectors_pivot.columns[1], inplace=True)\n",
    "sectors_pivot['apr_position'] = np.arange(1,len(sectors_pivot) + 1)\n",
    "sectors_pivot['temp_race_time'] = sectors_pivot[sectors_pivot.columns[[1,2]]].sum(axis=1)\n",
    "sectors_pivot.sort_values(by='temp_race_time', inplace=True)\n",
    "sectors_pivot['may_position'] = np.arange(1,len(sectors_pivot) + 1)\n",
    "sectors_pivot['temp_race_time'] = sectors_pivot[sectors_pivot.columns[[1,2,3]]].sum(axis=1)\n",
    "sectors_pivot.sort_values(by='temp_race_time', inplace=True)\n",
    "sectors_pivot['jun_position'] = np.arange(1,len(sectors_pivot) + 1)\n",
    "sectors_pivot['temp_race_time'] = sectors_pivot[sectors_pivot.columns[[1,2,3,4]]].sum(axis=1)\n",
    "sectors_pivot.sort_values(by='temp_race_time', inplace=True)\n",
    "sectors_pivot['jly_position'] = np.arange(1,len(sectors_pivot) + 1)\n",
    "sectors_pivot"
   ]
  },
  {
   "cell_type": "code",
   "execution_count": 291,
   "metadata": {},
   "outputs": [
    {
     "output_type": "execute_result",
     "data": {
      "text/plain": [
       "array(['L18 Packaging Line', 'L25 Packaging Line',\n",
       "       'LINE 01 - UHLMANN 1880', 'MEDISEAL PURAN', 'GAMMA1', 'IMA C80/2',\n",
       "       'C2 Packaging Line', 'C9 Packaging Line', 'TR200 Packaging Line',\n",
       "       'SUPPO Packaging Line', 'AL5 Packaging 1', 'AL6', 'M18 Filling',\n",
       "       'M21 Filling', 'M22 Filling'], dtype=object)"
      ]
     },
     "metadata": {},
     "execution_count": 291
    }
   ],
   "source": [
    "df_nom_sectors.Line.unique()"
   ]
  },
  {
   "cell_type": "code",
   "execution_count": 292,
   "metadata": {},
   "outputs": [],
   "source": [
    "aggregations = {\n",
    "    'sector_1':'sum',\n",
    "    'sector_2':'mean',\n",
    "    'sector_3':'sum',\n",
    "    'sector_4':'mean',\n",
    "    'sector_5':'sum',\n",
    "    'sector_6':'sum',\n",
    "    'sector_7':'sum',\n",
    "    'sector_8':'sum',\n",
    "    'sector_9':'sum',\n",
    "    'lap_time':'sum'\n",
    "}\n",
    "all_sectors = df_weekly.groupby(['Review_Date','Line'])[['sector_1','sector_2','sector_3','sector_4','sector_5','sector_6','sector_7','sector_8','sector_9','lap_time']].agg(aggregations).reset_index()"
   ]
  },
  {
   "cell_type": "code",
   "execution_count": 293,
   "metadata": {},
   "outputs": [
    {
     "output_type": "execute_result",
     "data": {
      "text/plain": [
       "   Review_Date                    Line  sector_1  sector_2  sector_3  \\\n",
       "43  2021-07-08         AL5 Packaging 1  0.000000  0.180824  1.423505   \n",
       "44  2021-07-08                     AL6  0.136446  0.091301  1.032491   \n",
       "45  2021-07-08       C2 Packaging Line  0.271201  0.072110  1.681960   \n",
       "46  2021-07-08       C9 Packaging Line  0.010068  0.052656  1.363444   \n",
       "47  2021-07-08                  GAMMA1  0.005434  0.107147  0.798803   \n",
       "48  2021-07-08               IMA C80/2 -0.037165  0.039564  0.653713   \n",
       "49  2021-07-08      L18 Packaging Line -0.009593  0.038636  0.458949   \n",
       "50  2021-07-08      L25 Packaging Line -0.164782  0.038427  0.749900   \n",
       "51  2021-07-08  LINE 01 - UHLMANN 1880 -0.287220  0.098874  0.740656   \n",
       "52  2021-07-08             M18 Filling  0.537044  0.191487  0.574535   \n",
       "53  2021-07-08             M21 Filling  0.490358  0.164783  1.096247   \n",
       "54  2021-07-08             M22 Filling -0.001581  0.218331  0.459435   \n",
       "55  2021-07-08          MEDISEAL PURAN  0.091036  0.089914  1.068571   \n",
       "56  2021-07-08    SUPPO Packaging Line -0.017070  0.075893  1.181738   \n",
       "57  2021-07-08    TR200 Packaging Line  0.769493  0.167205  1.384908   \n",
       "\n",
       "    sector_4  sector_5  sector_6  sector_7  sector_8  sector_9  lap_time  \n",
       "43  0.071813       0.0       0.0       0.0       0.0       0.0  2.434052  \n",
       "44  0.061395       0.0       0.0       0.0       0.0       0.0  1.779721  \n",
       "45  0.082731       0.0       0.0       0.0       0.0       0.0  2.572525  \n",
       "46  0.061938       0.0       0.0       0.0       0.0       0.0  1.831886  \n",
       "47  0.227780       0.0       0.0       0.0       0.0       0.0  2.143947  \n",
       "48  0.186402       0.0       0.0       0.0       0.0       0.0  1.520411  \n",
       "49  0.164717       0.0       0.0       0.0       0.0       0.0  1.262767  \n",
       "50  0.245856       0.0       0.0       0.0       0.0       0.0  1.722251  \n",
       "51  0.058731       0.0       0.0       0.0       0.0       0.0  1.083857  \n",
       "52  0.247309       0.0       0.0       0.0       0.0       0.0  2.866765  \n",
       "53  0.130913       0.0       0.0       0.0       0.0       0.0  2.769388  \n",
       "54  0.128323       0.0       0.0       0.0       0.0       0.0  1.844474  \n",
       "55  0.084974       0.0       0.0       0.0       0.0       0.0  1.859159  \n",
       "56  0.053280       0.0       0.0       0.0       0.0       0.0  1.681359  \n",
       "57  0.135853       0.0       0.0       0.0       0.0       0.0  3.366632  "
      ],
      "text/html": "<div>\n<style scoped>\n    .dataframe tbody tr th:only-of-type {\n        vertical-align: middle;\n    }\n\n    .dataframe tbody tr th {\n        vertical-align: top;\n    }\n\n    .dataframe thead th {\n        text-align: right;\n    }\n</style>\n<table border=\"1\" class=\"dataframe\">\n  <thead>\n    <tr style=\"text-align: right;\">\n      <th></th>\n      <th>Review_Date</th>\n      <th>Line</th>\n      <th>sector_1</th>\n      <th>sector_2</th>\n      <th>sector_3</th>\n      <th>sector_4</th>\n      <th>sector_5</th>\n      <th>sector_6</th>\n      <th>sector_7</th>\n      <th>sector_8</th>\n      <th>sector_9</th>\n      <th>lap_time</th>\n    </tr>\n  </thead>\n  <tbody>\n    <tr>\n      <th>43</th>\n      <td>2021-07-08</td>\n      <td>AL5 Packaging 1</td>\n      <td>0.000000</td>\n      <td>0.180824</td>\n      <td>1.423505</td>\n      <td>0.071813</td>\n      <td>0.0</td>\n      <td>0.0</td>\n      <td>0.0</td>\n      <td>0.0</td>\n      <td>0.0</td>\n      <td>2.434052</td>\n    </tr>\n    <tr>\n      <th>44</th>\n      <td>2021-07-08</td>\n      <td>AL6</td>\n      <td>0.136446</td>\n      <td>0.091301</td>\n      <td>1.032491</td>\n      <td>0.061395</td>\n      <td>0.0</td>\n      <td>0.0</td>\n      <td>0.0</td>\n      <td>0.0</td>\n      <td>0.0</td>\n      <td>1.779721</td>\n    </tr>\n    <tr>\n      <th>45</th>\n      <td>2021-07-08</td>\n      <td>C2 Packaging Line</td>\n      <td>0.271201</td>\n      <td>0.072110</td>\n      <td>1.681960</td>\n      <td>0.082731</td>\n      <td>0.0</td>\n      <td>0.0</td>\n      <td>0.0</td>\n      <td>0.0</td>\n      <td>0.0</td>\n      <td>2.572525</td>\n    </tr>\n    <tr>\n      <th>46</th>\n      <td>2021-07-08</td>\n      <td>C9 Packaging Line</td>\n      <td>0.010068</td>\n      <td>0.052656</td>\n      <td>1.363444</td>\n      <td>0.061938</td>\n      <td>0.0</td>\n      <td>0.0</td>\n      <td>0.0</td>\n      <td>0.0</td>\n      <td>0.0</td>\n      <td>1.831886</td>\n    </tr>\n    <tr>\n      <th>47</th>\n      <td>2021-07-08</td>\n      <td>GAMMA1</td>\n      <td>0.005434</td>\n      <td>0.107147</td>\n      <td>0.798803</td>\n      <td>0.227780</td>\n      <td>0.0</td>\n      <td>0.0</td>\n      <td>0.0</td>\n      <td>0.0</td>\n      <td>0.0</td>\n      <td>2.143947</td>\n    </tr>\n    <tr>\n      <th>48</th>\n      <td>2021-07-08</td>\n      <td>IMA C80/2</td>\n      <td>-0.037165</td>\n      <td>0.039564</td>\n      <td>0.653713</td>\n      <td>0.186402</td>\n      <td>0.0</td>\n      <td>0.0</td>\n      <td>0.0</td>\n      <td>0.0</td>\n      <td>0.0</td>\n      <td>1.520411</td>\n    </tr>\n    <tr>\n      <th>49</th>\n      <td>2021-07-08</td>\n      <td>L18 Packaging Line</td>\n      <td>-0.009593</td>\n      <td>0.038636</td>\n      <td>0.458949</td>\n      <td>0.164717</td>\n      <td>0.0</td>\n      <td>0.0</td>\n      <td>0.0</td>\n      <td>0.0</td>\n      <td>0.0</td>\n      <td>1.262767</td>\n    </tr>\n    <tr>\n      <th>50</th>\n      <td>2021-07-08</td>\n      <td>L25 Packaging Line</td>\n      <td>-0.164782</td>\n      <td>0.038427</td>\n      <td>0.749900</td>\n      <td>0.245856</td>\n      <td>0.0</td>\n      <td>0.0</td>\n      <td>0.0</td>\n      <td>0.0</td>\n      <td>0.0</td>\n      <td>1.722251</td>\n    </tr>\n    <tr>\n      <th>51</th>\n      <td>2021-07-08</td>\n      <td>LINE 01 - UHLMANN 1880</td>\n      <td>-0.287220</td>\n      <td>0.098874</td>\n      <td>0.740656</td>\n      <td>0.058731</td>\n      <td>0.0</td>\n      <td>0.0</td>\n      <td>0.0</td>\n      <td>0.0</td>\n      <td>0.0</td>\n      <td>1.083857</td>\n    </tr>\n    <tr>\n      <th>52</th>\n      <td>2021-07-08</td>\n      <td>M18 Filling</td>\n      <td>0.537044</td>\n      <td>0.191487</td>\n      <td>0.574535</td>\n      <td>0.247309</td>\n      <td>0.0</td>\n      <td>0.0</td>\n      <td>0.0</td>\n      <td>0.0</td>\n      <td>0.0</td>\n      <td>2.866765</td>\n    </tr>\n    <tr>\n      <th>53</th>\n      <td>2021-07-08</td>\n      <td>M21 Filling</td>\n      <td>0.490358</td>\n      <td>0.164783</td>\n      <td>1.096247</td>\n      <td>0.130913</td>\n      <td>0.0</td>\n      <td>0.0</td>\n      <td>0.0</td>\n      <td>0.0</td>\n      <td>0.0</td>\n      <td>2.769388</td>\n    </tr>\n    <tr>\n      <th>54</th>\n      <td>2021-07-08</td>\n      <td>M22 Filling</td>\n      <td>-0.001581</td>\n      <td>0.218331</td>\n      <td>0.459435</td>\n      <td>0.128323</td>\n      <td>0.0</td>\n      <td>0.0</td>\n      <td>0.0</td>\n      <td>0.0</td>\n      <td>0.0</td>\n      <td>1.844474</td>\n    </tr>\n    <tr>\n      <th>55</th>\n      <td>2021-07-08</td>\n      <td>MEDISEAL PURAN</td>\n      <td>0.091036</td>\n      <td>0.089914</td>\n      <td>1.068571</td>\n      <td>0.084974</td>\n      <td>0.0</td>\n      <td>0.0</td>\n      <td>0.0</td>\n      <td>0.0</td>\n      <td>0.0</td>\n      <td>1.859159</td>\n    </tr>\n    <tr>\n      <th>56</th>\n      <td>2021-07-08</td>\n      <td>SUPPO Packaging Line</td>\n      <td>-0.017070</td>\n      <td>0.075893</td>\n      <td>1.181738</td>\n      <td>0.053280</td>\n      <td>0.0</td>\n      <td>0.0</td>\n      <td>0.0</td>\n      <td>0.0</td>\n      <td>0.0</td>\n      <td>1.681359</td>\n    </tr>\n    <tr>\n      <th>57</th>\n      <td>2021-07-08</td>\n      <td>TR200 Packaging Line</td>\n      <td>0.769493</td>\n      <td>0.167205</td>\n      <td>1.384908</td>\n      <td>0.135853</td>\n      <td>0.0</td>\n      <td>0.0</td>\n      <td>0.0</td>\n      <td>0.0</td>\n      <td>0.0</td>\n      <td>3.366632</td>\n    </tr>\n  </tbody>\n</table>\n</div>"
     },
     "metadata": {},
     "execution_count": 293
    }
   ],
   "source": [
    "all_sectors[all_sectors.Review_Date == '2021-07-08']"
   ]
  },
  {
   "cell_type": "code",
   "execution_count": 294,
   "metadata": {},
   "outputs": [
    {
     "output_type": "execute_result",
     "data": {
      "text/plain": [
       "                       Line     OEE %  rolling_std  Unplanned_tech_loss  \\\n",
       "52   LINE 01 - UHLMANN 1880  0.000000          NaN             0.000000   \n",
       "70   LINE 01 - UHLMANN 1880  0.000000     0.000000             0.000000   \n",
       "86   LINE 01 - UHLMANN 1880  0.372515     0.215072             0.337516   \n",
       "105  LINE 01 - UHLMANN 1880  0.441221     0.236574             0.203047   \n",
       "121  LINE 01 - UHLMANN 1880  0.385174     0.202037             0.281732   \n",
       "131  LINE 01 - UHLMANN 1880  0.314807     0.051869             0.312050   \n",
       "152  LINE 01 - UHLMANN 1880  0.518701     0.086351             0.117504   \n",
       "163  LINE 01 - UHLMANN 1880  0.368540     0.086634             0.080061   \n",
       "176  LINE 01 - UHLMANN 1880  0.566651     0.119715             0.233553   \n",
       "200  LINE 01 - UHLMANN 1880  0.602027     0.102797             0.309537   \n",
       "213  LINE 01 - UHLMANN 1880       NaN          NaN                  NaN   \n",
       "226  LINE 01 - UHLMANN 1880       NaN          NaN                  NaN   \n",
       "\n",
       "     Changeover_rolling_mean Review_Date       Date  \n",
       "52                  0.000000  2021-05-13 2021-05-02  \n",
       "70                  0.000000  2021-05-13 2021-05-09  \n",
       "86                  0.005520  2021-06-10 2021-05-16  \n",
       "105                 0.014179  2021-06-10 2021-05-23  \n",
       "121                 0.020300  2021-06-10 2021-05-30  \n",
       "131                 0.071758  2021-06-10 2021-06-06  \n",
       "152                 0.073951  2021-07-08 2021-06-13  \n",
       "163                 0.069827  2021-07-08 2021-06-20  \n",
       "176                 0.068238  2021-07-08 2021-06-27  \n",
       "200                 0.022909  2021-07-08 2021-07-04  \n",
       "213                 0.022101  2021-08-19 2021-08-15  \n",
       "226                 0.021322  2021-09-16 2021-09-12  "
      ],
      "text/html": "<div>\n<style scoped>\n    .dataframe tbody tr th:only-of-type {\n        vertical-align: middle;\n    }\n\n    .dataframe tbody tr th {\n        vertical-align: top;\n    }\n\n    .dataframe thead th {\n        text-align: right;\n    }\n</style>\n<table border=\"1\" class=\"dataframe\">\n  <thead>\n    <tr style=\"text-align: right;\">\n      <th></th>\n      <th>Line</th>\n      <th>OEE %</th>\n      <th>rolling_std</th>\n      <th>Unplanned_tech_loss</th>\n      <th>Changeover_rolling_mean</th>\n      <th>Review_Date</th>\n      <th>Date</th>\n    </tr>\n  </thead>\n  <tbody>\n    <tr>\n      <th>52</th>\n      <td>LINE 01 - UHLMANN 1880</td>\n      <td>0.000000</td>\n      <td>NaN</td>\n      <td>0.000000</td>\n      <td>0.000000</td>\n      <td>2021-05-13</td>\n      <td>2021-05-02</td>\n    </tr>\n    <tr>\n      <th>70</th>\n      <td>LINE 01 - UHLMANN 1880</td>\n      <td>0.000000</td>\n      <td>0.000000</td>\n      <td>0.000000</td>\n      <td>0.000000</td>\n      <td>2021-05-13</td>\n      <td>2021-05-09</td>\n    </tr>\n    <tr>\n      <th>86</th>\n      <td>LINE 01 - UHLMANN 1880</td>\n      <td>0.372515</td>\n      <td>0.215072</td>\n      <td>0.337516</td>\n      <td>0.005520</td>\n      <td>2021-06-10</td>\n      <td>2021-05-16</td>\n    </tr>\n    <tr>\n      <th>105</th>\n      <td>LINE 01 - UHLMANN 1880</td>\n      <td>0.441221</td>\n      <td>0.236574</td>\n      <td>0.203047</td>\n      <td>0.014179</td>\n      <td>2021-06-10</td>\n      <td>2021-05-23</td>\n    </tr>\n    <tr>\n      <th>121</th>\n      <td>LINE 01 - UHLMANN 1880</td>\n      <td>0.385174</td>\n      <td>0.202037</td>\n      <td>0.281732</td>\n      <td>0.020300</td>\n      <td>2021-06-10</td>\n      <td>2021-05-30</td>\n    </tr>\n    <tr>\n      <th>131</th>\n      <td>LINE 01 - UHLMANN 1880</td>\n      <td>0.314807</td>\n      <td>0.051869</td>\n      <td>0.312050</td>\n      <td>0.071758</td>\n      <td>2021-06-10</td>\n      <td>2021-06-06</td>\n    </tr>\n    <tr>\n      <th>152</th>\n      <td>LINE 01 - UHLMANN 1880</td>\n      <td>0.518701</td>\n      <td>0.086351</td>\n      <td>0.117504</td>\n      <td>0.073951</td>\n      <td>2021-07-08</td>\n      <td>2021-06-13</td>\n    </tr>\n    <tr>\n      <th>163</th>\n      <td>LINE 01 - UHLMANN 1880</td>\n      <td>0.368540</td>\n      <td>0.086634</td>\n      <td>0.080061</td>\n      <td>0.069827</td>\n      <td>2021-07-08</td>\n      <td>2021-06-20</td>\n    </tr>\n    <tr>\n      <th>176</th>\n      <td>LINE 01 - UHLMANN 1880</td>\n      <td>0.566651</td>\n      <td>0.119715</td>\n      <td>0.233553</td>\n      <td>0.068238</td>\n      <td>2021-07-08</td>\n      <td>2021-06-27</td>\n    </tr>\n    <tr>\n      <th>200</th>\n      <td>LINE 01 - UHLMANN 1880</td>\n      <td>0.602027</td>\n      <td>0.102797</td>\n      <td>0.309537</td>\n      <td>0.022909</td>\n      <td>2021-07-08</td>\n      <td>2021-07-04</td>\n    </tr>\n    <tr>\n      <th>213</th>\n      <td>LINE 01 - UHLMANN 1880</td>\n      <td>NaN</td>\n      <td>NaN</td>\n      <td>NaN</td>\n      <td>0.022101</td>\n      <td>2021-08-19</td>\n      <td>2021-08-15</td>\n    </tr>\n    <tr>\n      <th>226</th>\n      <td>LINE 01 - UHLMANN 1880</td>\n      <td>NaN</td>\n      <td>NaN</td>\n      <td>NaN</td>\n      <td>0.021322</td>\n      <td>2021-09-16</td>\n      <td>2021-09-12</td>\n    </tr>\n  </tbody>\n</table>\n</div>"
     },
     "metadata": {},
     "execution_count": 294
    }
   ],
   "source": [
    "df_weekly[['Line','OEE %','rolling_std','Unplanned_tech_loss','Changeover_rolling_mean','Review_Date','Date']][df_weekly.Line.str.contains('LINE')]"
   ]
  },
  {
   "cell_type": "code",
   "execution_count": 305,
   "metadata": {},
   "outputs": [
    {
     "output_type": "execute_result",
     "data": {
      "text/plain": [
       "                    Line Review_Date  Changeover_rolling_mean\n",
       "0        AL5 Packaging 1  2021-04-15                 0.000000\n",
       "1        AL5 Packaging 1  2021-05-13                 0.373511\n",
       "2        AL5 Packaging 1  2021-06-10                 0.304670\n",
       "3        AL5 Packaging 1  2021-07-08                 0.287251\n",
       "4        AL5 Packaging 1  2021-08-19                 0.079760\n",
       "..                   ...         ...                      ...\n",
       "83  TR200 Packaging Line  2021-05-13                 0.632965\n",
       "84  TR200 Packaging Line  2021-06-10                 0.584134\n",
       "85  TR200 Packaging Line  2021-07-08                 0.543412\n",
       "86  TR200 Packaging Line  2021-08-19                 0.151361\n",
       "87  TR200 Packaging Line  2021-09-16                 0.038517\n",
       "\n",
       "[88 rows x 3 columns]"
      ],
      "text/html": "<div>\n<style scoped>\n    .dataframe tbody tr th:only-of-type {\n        vertical-align: middle;\n    }\n\n    .dataframe tbody tr th {\n        vertical-align: top;\n    }\n\n    .dataframe thead th {\n        text-align: right;\n    }\n</style>\n<table border=\"1\" class=\"dataframe\">\n  <thead>\n    <tr style=\"text-align: right;\">\n      <th></th>\n      <th>Line</th>\n      <th>Review_Date</th>\n      <th>Changeover_rolling_mean</th>\n    </tr>\n  </thead>\n  <tbody>\n    <tr>\n      <th>0</th>\n      <td>AL5 Packaging 1</td>\n      <td>2021-04-15</td>\n      <td>0.000000</td>\n    </tr>\n    <tr>\n      <th>1</th>\n      <td>AL5 Packaging 1</td>\n      <td>2021-05-13</td>\n      <td>0.373511</td>\n    </tr>\n    <tr>\n      <th>2</th>\n      <td>AL5 Packaging 1</td>\n      <td>2021-06-10</td>\n      <td>0.304670</td>\n    </tr>\n    <tr>\n      <th>3</th>\n      <td>AL5 Packaging 1</td>\n      <td>2021-07-08</td>\n      <td>0.287251</td>\n    </tr>\n    <tr>\n      <th>4</th>\n      <td>AL5 Packaging 1</td>\n      <td>2021-08-19</td>\n      <td>0.079760</td>\n    </tr>\n    <tr>\n      <th>...</th>\n      <td>...</td>\n      <td>...</td>\n      <td>...</td>\n    </tr>\n    <tr>\n      <th>83</th>\n      <td>TR200 Packaging Line</td>\n      <td>2021-05-13</td>\n      <td>0.632965</td>\n    </tr>\n    <tr>\n      <th>84</th>\n      <td>TR200 Packaging Line</td>\n      <td>2021-06-10</td>\n      <td>0.584134</td>\n    </tr>\n    <tr>\n      <th>85</th>\n      <td>TR200 Packaging Line</td>\n      <td>2021-07-08</td>\n      <td>0.543412</td>\n    </tr>\n    <tr>\n      <th>86</th>\n      <td>TR200 Packaging Line</td>\n      <td>2021-08-19</td>\n      <td>0.151361</td>\n    </tr>\n    <tr>\n      <th>87</th>\n      <td>TR200 Packaging Line</td>\n      <td>2021-09-16</td>\n      <td>0.038517</td>\n    </tr>\n  </tbody>\n</table>\n<p>88 rows × 3 columns</p>\n</div>"
     },
     "metadata": {},
     "execution_count": 305
    }
   ],
   "source": [
    "df_weekly[['Line','Review_Date','Changeover_rolling_mean']].groupby(['Line','Review_Date']).sum().reset_index()"
   ]
  },
  {
   "cell_type": "code",
   "execution_count": null,
   "metadata": {},
   "outputs": [],
   "source": []
  }
 ],
 "metadata": {
  "kernelspec": {
   "display_name": "geo_env",
   "language": "python",
   "name": "geo_env"
  },
  "language_info": {
   "codemirror_mode": {
    "name": "ipython",
    "version": 3
   },
   "file_extension": ".py",
   "mimetype": "text/x-python",
   "name": "python",
   "nbconvert_exporter": "python",
   "pygments_lexer": "ipython3",
   "version": "3.9.4"
  }
 },
 "nbformat": 4,
 "nbformat_minor": 4
}