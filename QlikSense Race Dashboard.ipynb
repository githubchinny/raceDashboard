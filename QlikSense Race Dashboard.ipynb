{
 "cells": [
  {
   "cell_type": "markdown",
   "metadata": {},
   "source": [
    "# Race Dashboard\n",
    "\n"
   ]
  },
  {
   "cell_type": "markdown",
   "metadata": {},
   "source": [
    "This document describes the requirements and design decisions we will adopt for the Race Dashboard for the Sanofi Asset Efficiency challenge.  This document is intended to provide a detailed explanation of what is to be included on the dashboard, required data sources, and assumptions being made in the design.  It will also show the steps for getting the data into the necessary format."
   ]
  },
  {
   "cell_type": "markdown",
   "metadata": {},
   "source": [
    "## Scope/objective\n",
    "\n",
    "The objective is to be able to display the documented metrics and categories as best suited on a Dashboard presentation for Sanofi staff to be able to access.\n"
   ]
  },
  {
   "cell_type": "markdown",
   "metadata": {},
   "source": [
    "## Metrics / categories\n",
    "The metrics have been mapped into sectors to mimic different sectors of a race track.  The metrics are:\n",
    " \n",
    " \n",
    " \n",
    "•     Race = 8 Laps = 8 Months   \n",
    "•     Lap = Monthly Progress   \n",
    "<br>\n",
    "<br>\n",
    "\n",
    "•     **Sector 1 = OEE Improvement   \n",
    "•     Sector 2 = OEE Variability Improvement   \n",
    "•     Sector 3 = Stoppage Reduction   \n",
    "•     Sector 4 = Changeover Improvement**   \n",
    "• _Sector 5 = Most effective OEE application   \n",
    "• Sector 6 = Best Innovation   \n",
    "• Sector 7 = Most consistent OEE improvement progress   \n",
    "• Sector 8 = Collaboration   \n",
    "• Sector 9 = Team Spirit_\n",
    "\n",
    " \n",
    " \n"
   ]
  },
  {
   "cell_type": "markdown",
   "metadata": {},
   "source": [
    "| Change log |\n",
    "|:----------:|    \n",
    "\n",
    "\n",
    "| Date | Initials | Comments |\n",
    "|------|:---------|:---------|\n",
    "| 2021-06-23 | MC | in leaderboard, replace NaN values in laptime calc with the max laptime for that lap\n",
    "| 2021-06-23 | MC | use race review dates for grouping data, rather than calendar months\n",
    "| 2021-06-24 |JB | missing OEE_Diff figures should default to 'OEE %' - OEE start point, not just 'OEE %' value\n",
    "| 2021-06-24 |JB | for sector one, multiply sum of OEE_Diff by -1.  Should have always been doing this.\n",
    "|2021-06-25 | MC | in leaderboard, change prev_race_time calc to include all but last 2 cols, to handle new race cols as they arrive\n",
    "|2021-06-28 | MC | correct dates in nominations spreadsheet, and merge on 1 row with a date within the review period\n",
    "|2021-06-29 | MC | corrected nominations spreadsheet for Lisieux IWK - should be TR200 Packaging"
   ]
  },
  {
   "cell_type": "code",
   "execution_count": 515,
   "metadata": {},
   "outputs": [],
   "source": [
    "import pandas as pd\n",
    "import numpy as np\n",
    "import datetime\n",
    "\n",
    "\n",
    "# Viz libs\n",
    "import matplotlib.pyplot as plt\n",
    "%matplotlib inline\n",
    "\n",
    "import seaborn as sns\n",
    "\n",
    "# display options\n",
    "# pd.options.display.float_format = \"{:.2f}\".format\n"
   ]
  },
  {
   "cell_type": "markdown",
   "metadata": {},
   "source": [
    "## Read file and cleanse\n",
    "\n",
    "- QSWeeklyFigures.xlsx should contain the latest data from QS   \n",
    "- QSDashboard.xlsx has a list of plants/sites taking part, with original target OEE  \n",
    "- QSWeeklyUnplannedTechLoss.xles should contain the latest data from QS (my unplanned chart by line/week)\n",
    "\n",
    "#### Cleaning required:   \n",
    "- OEE % needs converting to numeric, coerce the nulls to nan values\n",
    "- I think W53-2020 data is bobbings - causes dup indexes for date 2021-01-10 and don't need 2020 data anyway...so dropping it"
   ]
  },
  {
   "cell_type": "code",
   "execution_count": 516,
   "metadata": {},
   "outputs": [],
   "source": [
    "# dir = \"C:/Users/mark_/McLaren Technology Group/McLaren Accelerator - Sanofi - Sanofi/Data Analysis/\"\n",
    "# dir = \"C:/Users/mark_/Sanofi/Sanofi x McLaren sharing - General/Race Dashboard data/\"\n",
    "dir = \"C:/Users/mark_/Documents/McLaren2021/Sanofi/Race Dashboard data/\"\n",
    "output_dir = \"C:/Users/mark_/Documents/McLaren2021/Sanofi/Race Dashboard data/\"\n",
    "\n",
    "# dir = 'C:/Users/james.blood/Documents/McLarenSanofi/McLarenSanofi/data/'\n",
    "\n",
    "file = (dir + 'OEE.xlsx')\n",
    "df_weekly = pd.read_excel(file)\n",
    "file = (dir + 'QSDashboard.xlsx')\n",
    "df_dash = pd.read_excel(file)\n",
    "file = (dir + 'Unplanned_tech_loss.xlsx')\n",
    "df_techloss = pd.read_excel(file)\n",
    "file = (dir + 'changeover.xlsx')\n",
    "df_changeover = pd.read_excel(file)\n",
    "df_weekly = df_weekly.loc[df_weekly['Week'].str.contains('2021')]\n",
    "df_techloss = df_techloss.loc[df_techloss['Week'].str.contains('2021')]\n",
    "df_weekly['OEE %'] = pd.to_numeric(df_weekly['OEE %'], errors='coerce')\n",
    "df_techloss.rename(columns={'Unplanned losses - %OEE':'Unplanned_tech_loss'}, inplace=True)\n",
    "df_techloss['Unplanned_tech_loss'] = pd.to_numeric(df_techloss['Unplanned_tech_loss'], errors='coerce')\n",
    "df_changeover.rename(columns={'Change over losses - %OEE':'Changeover'}, inplace=True)\n",
    "df_changeover['Changeover'] = pd.to_numeric(df_changeover['Changeover'], errors='coerce')\n",
    "# don't use their progress figure as it's a static val\n",
    "# df_dash.rename(columns={'⇗ OEE% progress':'OEE% progress'}, inplace=True)"
   ]
  },
  {
   "cell_type": "markdown",
   "metadata": {},
   "source": [
    "create a datetime from the week number"
   ]
  },
  {
   "cell_type": "code",
   "execution_count": 517,
   "metadata": {},
   "outputs": [
    {
     "output_type": "execute_result",
     "data": {
      "text/plain": [
       "        Week                Line     OEE %  WeekOfYear  Year       Date\n",
       "11  W01-2021   C2 Packaging Line  0.168970           1  2021 2021-01-10\n",
       "12  W01-2021   C9 Packaging Line       NaN           1  2021 2021-01-10\n",
       "13  W01-2021              GAMMA1  0.406686           1  2021 2021-01-10\n",
       "14  W01-2021           IMA C80/2  0.510044           1  2021 2021-01-10\n",
       "15  W01-2021  L18 Packaging Line  0.173736           1  2021 2021-01-10"
      ],
      "text/html": "<div>\n<style scoped>\n    .dataframe tbody tr th:only-of-type {\n        vertical-align: middle;\n    }\n\n    .dataframe tbody tr th {\n        vertical-align: top;\n    }\n\n    .dataframe thead th {\n        text-align: right;\n    }\n</style>\n<table border=\"1\" class=\"dataframe\">\n  <thead>\n    <tr style=\"text-align: right;\">\n      <th></th>\n      <th>Week</th>\n      <th>Line</th>\n      <th>OEE %</th>\n      <th>WeekOfYear</th>\n      <th>Year</th>\n      <th>Date</th>\n    </tr>\n  </thead>\n  <tbody>\n    <tr>\n      <th>11</th>\n      <td>W01-2021</td>\n      <td>C2 Packaging Line</td>\n      <td>0.168970</td>\n      <td>1</td>\n      <td>2021</td>\n      <td>2021-01-10</td>\n    </tr>\n    <tr>\n      <th>12</th>\n      <td>W01-2021</td>\n      <td>C9 Packaging Line</td>\n      <td>NaN</td>\n      <td>1</td>\n      <td>2021</td>\n      <td>2021-01-10</td>\n    </tr>\n    <tr>\n      <th>13</th>\n      <td>W01-2021</td>\n      <td>GAMMA1</td>\n      <td>0.406686</td>\n      <td>1</td>\n      <td>2021</td>\n      <td>2021-01-10</td>\n    </tr>\n    <tr>\n      <th>14</th>\n      <td>W01-2021</td>\n      <td>IMA C80/2</td>\n      <td>0.510044</td>\n      <td>1</td>\n      <td>2021</td>\n      <td>2021-01-10</td>\n    </tr>\n    <tr>\n      <th>15</th>\n      <td>W01-2021</td>\n      <td>L18 Packaging Line</td>\n      <td>0.173736</td>\n      <td>1</td>\n      <td>2021</td>\n      <td>2021-01-10</td>\n    </tr>\n  </tbody>\n</table>\n</div>"
     },
     "metadata": {},
     "execution_count": 517
    }
   ],
   "source": [
    "df_weekly['WeekOfYear'] = pd.to_numeric(df_weekly['Week'].str[1:3])\n",
    "df_weekly['Year'] = pd.to_numeric(df_weekly['Week'].str[4:])\n",
    "dates = df_weekly.Year*100+df_weekly.WeekOfYear\n",
    "df_weekly['Date'] = pd.to_datetime(dates.astype(str) + '0', format='%Y%W%w')\n",
    "# df_weekly.drop(columns=['Year','WeekOfYear'], inplace=True)\n",
    "df_weekly.head()"
   ]
  },
  {
   "cell_type": "code",
   "execution_count": 518,
   "metadata": {
    "scrolled": true
   },
   "outputs": [],
   "source": [
    "#merge the 2 dataframes to get the start OEE\n",
    "df_weekly = df_weekly.merge(df_dash[['Plant','Line', 'OEE  Start point','OEE% Target (2022)']],on='Line')"
   ]
  },
  {
   "cell_type": "code",
   "execution_count": 519,
   "metadata": {},
   "outputs": [],
   "source": [
    "df_weekly = df_weekly.merge(df_techloss[['Line', 'Week', 'Unplanned_tech_loss']],on=['Line','Week'])"
   ]
  },
  {
   "cell_type": "code",
   "execution_count": 520,
   "metadata": {},
   "outputs": [],
   "source": [
    "df_weekly = df_weekly.merge(df_changeover[['Line','Week','Changeover']])"
   ]
  },
  {
   "cell_type": "markdown",
   "metadata": {},
   "source": [
    "#### Start Changeover\n",
    "\n",
    "Start changeover value isn't provided, so going to calc our own start point using the average changeover for each site in 2021 up to April 2021.  This needs to be done before we drop the early 2021 rows.\n",
    "\n",
    "This is then merged into the df_weekly dataframe as a loose join."
   ]
  },
  {
   "cell_type": "code",
   "execution_count": 524,
   "metadata": {},
   "outputs": [],
   "source": [
    "start_changeover_calc = df_weekly[['Plant','Line','Changeover']][df_weekly['Date'] < '2021-04-30'].groupby(['Plant','Line']).mean().reset_index()\n",
    "start_changeover_calc.rename(columns={'Changeover':'start_changeover'}, inplace=True)\n",
    "df_weekly = df_weekly.merge(start_changeover_calc[['Line','start_changeover']])"
   ]
  },
  {
   "source": [
    "start_changeover_calc"
   ],
   "cell_type": "code",
   "metadata": {},
   "execution_count": 525,
   "outputs": [
    {
     "output_type": "execute_result",
     "data": {
      "text/plain": [
       "             Plant                  Line  start_changeover\n",
       "0        Frankfurt       AL5 Packaging 1          0.104883\n",
       "1        Frankfurt                   AL6          0.106977\n",
       "2        Frankfurt           M18 Filling          0.247334\n",
       "3        Frankfurt           M21 Filling          0.252377\n",
       "4        Frankfurt           M22 Filling          0.197075\n",
       "5          Lisieux  SUPPO Packaging Line          0.101747\n",
       "6          Lisieux  TR200 Packaging Line          0.193981\n",
       "7   Maisons-Alfort     C2 Packaging Line          0.051707\n",
       "8   Maisons-Alfort     C9 Packaging Line          0.016374\n",
       "9         SCOPPITO                GAMMA1          0.245149\n",
       "10        SCOPPITO             IMA C80/2          0.176972\n",
       "11           Tours    L18 Packaging Line          0.150782\n",
       "12           Tours    L25 Packaging Line          0.282744"
      ],
      "text/html": "<div>\n<style scoped>\n    .dataframe tbody tr th:only-of-type {\n        vertical-align: middle;\n    }\n\n    .dataframe tbody tr th {\n        vertical-align: top;\n    }\n\n    .dataframe thead th {\n        text-align: right;\n    }\n</style>\n<table border=\"1\" class=\"dataframe\">\n  <thead>\n    <tr style=\"text-align: right;\">\n      <th></th>\n      <th>Plant</th>\n      <th>Line</th>\n      <th>start_changeover</th>\n    </tr>\n  </thead>\n  <tbody>\n    <tr>\n      <th>0</th>\n      <td>Frankfurt</td>\n      <td>AL5 Packaging 1</td>\n      <td>0.104883</td>\n    </tr>\n    <tr>\n      <th>1</th>\n      <td>Frankfurt</td>\n      <td>AL6</td>\n      <td>0.106977</td>\n    </tr>\n    <tr>\n      <th>2</th>\n      <td>Frankfurt</td>\n      <td>M18 Filling</td>\n      <td>0.247334</td>\n    </tr>\n    <tr>\n      <th>3</th>\n      <td>Frankfurt</td>\n      <td>M21 Filling</td>\n      <td>0.252377</td>\n    </tr>\n    <tr>\n      <th>4</th>\n      <td>Frankfurt</td>\n      <td>M22 Filling</td>\n      <td>0.197075</td>\n    </tr>\n    <tr>\n      <th>5</th>\n      <td>Lisieux</td>\n      <td>SUPPO Packaging Line</td>\n      <td>0.101747</td>\n    </tr>\n    <tr>\n      <th>6</th>\n      <td>Lisieux</td>\n      <td>TR200 Packaging Line</td>\n      <td>0.193981</td>\n    </tr>\n    <tr>\n      <th>7</th>\n      <td>Maisons-Alfort</td>\n      <td>C2 Packaging Line</td>\n      <td>0.051707</td>\n    </tr>\n    <tr>\n      <th>8</th>\n      <td>Maisons-Alfort</td>\n      <td>C9 Packaging Line</td>\n      <td>0.016374</td>\n    </tr>\n    <tr>\n      <th>9</th>\n      <td>SCOPPITO</td>\n      <td>GAMMA1</td>\n      <td>0.245149</td>\n    </tr>\n    <tr>\n      <th>10</th>\n      <td>SCOPPITO</td>\n      <td>IMA C80/2</td>\n      <td>0.176972</td>\n    </tr>\n    <tr>\n      <th>11</th>\n      <td>Tours</td>\n      <td>L18 Packaging Line</td>\n      <td>0.150782</td>\n    </tr>\n    <tr>\n      <th>12</th>\n      <td>Tours</td>\n      <td>L25 Packaging Line</td>\n      <td>0.282744</td>\n    </tr>\n  </tbody>\n</table>\n</div>"
     },
     "metadata": {},
     "execution_count": 525
    }
   ]
  },
  {
   "cell_type": "markdown",
   "metadata": {},
   "source": [
    "#### Dates for the Asset Challenge\n",
    "\n",
    "Start Date is going to be fixed as 2021-04-01. Remove all the rows from df_weekly before this date\n",
    "\n",
    "End Date will move and act as a cutoff before each Race meeting"
   ]
  },
  {
   "cell_type": "code",
   "execution_count": 527,
   "metadata": {},
   "outputs": [],
   "source": [
    "start_date = '2021-04-01'\n",
    "df_weekly = df_weekly[df_weekly['Date'] > start_date].sort_values('Date')\n",
    "\n",
    "# do we need this?  We now have race review dates\n",
    "# end_date = '2021-07-15'\n",
    "# df_weekly = df_weekly[df_weekly['Date'] < end_date].sort_values('Date')"
   ]
  },
  {
   "cell_type": "markdown",
   "metadata": {},
   "source": [
    "### PCT_CHANGE\n",
    "Using pct_change python function with periods=4, giving a 4 week (4 previous rows) rolling pct_change figure\n",
    "- I believe we are doing this rolling average calculation within Tableau at the moment, so this isn't being used here\n",
    "\n",
    "- Not sure whether this is required for all of the categories?"
   ]
  },
  {
   "cell_type": "code",
   "execution_count": 528,
   "metadata": {},
   "outputs": [
    {
     "output_type": "execute_result",
     "data": {
      "text/plain": [
       "         Week             Line     OEE %  WeekOfYear  Year       Date  \\\n",
       "286  W13-2021  AL5 Packaging 1       NaN          13  2021 2021-04-04   \n",
       "287  W14-2021  AL5 Packaging 1       NaN          14  2021 2021-04-11   \n",
       "288  W15-2021  AL5 Packaging 1  0.449745          15  2021 2021-04-18   \n",
       "289  W16-2021  AL5 Packaging 1  0.642652          16  2021 2021-04-25   \n",
       "290  W17-2021  AL5 Packaging 1  0.505804          17  2021 2021-05-02   \n",
       "\n",
       "         Plant  OEE  Start point  OEE% Target (2022)  Unplanned_tech_loss  \\\n",
       "286  Frankfurt          0.479693                 0.5                  NaN   \n",
       "287  Frankfurt          0.479693                 0.5                  NaN   \n",
       "288  Frankfurt          0.479693                 0.5             0.314964   \n",
       "289  Frankfurt          0.479693                 0.5             0.135051   \n",
       "290  Frankfurt          0.479693                 0.5             0.280638   \n",
       "\n",
       "     Changeover  start_changeover  OEE_pct_chg  techloss_pct_chg  \\\n",
       "286         NaN          0.104883          NaN               NaN   \n",
       "287         NaN          0.104883          NaN               NaN   \n",
       "288    0.087039          0.104883          NaN               NaN   \n",
       "289    0.122727          0.104883          NaN               NaN   \n",
       "290    0.063261          0.104883          NaN               NaN   \n",
       "\n",
       "     Changeover_pct_chg  \n",
       "286                 NaN  \n",
       "287                 NaN  \n",
       "288                 NaN  \n",
       "289                 NaN  \n",
       "290                 NaN  "
      ],
      "text/html": "<div>\n<style scoped>\n    .dataframe tbody tr th:only-of-type {\n        vertical-align: middle;\n    }\n\n    .dataframe tbody tr th {\n        vertical-align: top;\n    }\n\n    .dataframe thead th {\n        text-align: right;\n    }\n</style>\n<table border=\"1\" class=\"dataframe\">\n  <thead>\n    <tr style=\"text-align: right;\">\n      <th></th>\n      <th>Week</th>\n      <th>Line</th>\n      <th>OEE %</th>\n      <th>WeekOfYear</th>\n      <th>Year</th>\n      <th>Date</th>\n      <th>Plant</th>\n      <th>OEE  Start point</th>\n      <th>OEE% Target (2022)</th>\n      <th>Unplanned_tech_loss</th>\n      <th>Changeover</th>\n      <th>start_changeover</th>\n      <th>OEE_pct_chg</th>\n      <th>techloss_pct_chg</th>\n      <th>Changeover_pct_chg</th>\n    </tr>\n  </thead>\n  <tbody>\n    <tr>\n      <th>286</th>\n      <td>W13-2021</td>\n      <td>AL5 Packaging 1</td>\n      <td>NaN</td>\n      <td>13</td>\n      <td>2021</td>\n      <td>2021-04-04</td>\n      <td>Frankfurt</td>\n      <td>0.479693</td>\n      <td>0.5</td>\n      <td>NaN</td>\n      <td>NaN</td>\n      <td>0.104883</td>\n      <td>NaN</td>\n      <td>NaN</td>\n      <td>NaN</td>\n    </tr>\n    <tr>\n      <th>287</th>\n      <td>W14-2021</td>\n      <td>AL5 Packaging 1</td>\n      <td>NaN</td>\n      <td>14</td>\n      <td>2021</td>\n      <td>2021-04-11</td>\n      <td>Frankfurt</td>\n      <td>0.479693</td>\n      <td>0.5</td>\n      <td>NaN</td>\n      <td>NaN</td>\n      <td>0.104883</td>\n      <td>NaN</td>\n      <td>NaN</td>\n      <td>NaN</td>\n    </tr>\n    <tr>\n      <th>288</th>\n      <td>W15-2021</td>\n      <td>AL5 Packaging 1</td>\n      <td>0.449745</td>\n      <td>15</td>\n      <td>2021</td>\n      <td>2021-04-18</td>\n      <td>Frankfurt</td>\n      <td>0.479693</td>\n      <td>0.5</td>\n      <td>0.314964</td>\n      <td>0.087039</td>\n      <td>0.104883</td>\n      <td>NaN</td>\n      <td>NaN</td>\n      <td>NaN</td>\n    </tr>\n    <tr>\n      <th>289</th>\n      <td>W16-2021</td>\n      <td>AL5 Packaging 1</td>\n      <td>0.642652</td>\n      <td>16</td>\n      <td>2021</td>\n      <td>2021-04-25</td>\n      <td>Frankfurt</td>\n      <td>0.479693</td>\n      <td>0.5</td>\n      <td>0.135051</td>\n      <td>0.122727</td>\n      <td>0.104883</td>\n      <td>NaN</td>\n      <td>NaN</td>\n      <td>NaN</td>\n    </tr>\n    <tr>\n      <th>290</th>\n      <td>W17-2021</td>\n      <td>AL5 Packaging 1</td>\n      <td>0.505804</td>\n      <td>17</td>\n      <td>2021</td>\n      <td>2021-05-02</td>\n      <td>Frankfurt</td>\n      <td>0.479693</td>\n      <td>0.5</td>\n      <td>0.280638</td>\n      <td>0.063261</td>\n      <td>0.104883</td>\n      <td>NaN</td>\n      <td>NaN</td>\n      <td>NaN</td>\n    </tr>\n  </tbody>\n</table>\n</div>"
     },
     "metadata": {},
     "execution_count": 528
    }
   ],
   "source": [
    "df_weekly.sort_values(['Line','Date'], inplace = True)\n",
    "df_weekly['OEE_pct_chg'] = (df_weekly.groupby('Line')['OEE %']\n",
    "                                   .apply(pd.Series.pct_change, periods=4))\n",
    "df_weekly['techloss_pct_chg'] = (df_weekly.groupby('Line')['Unplanned_tech_loss']\n",
    "                                   .apply(pd.Series.pct_change, periods=4))\n",
    "df_weekly['Changeover_pct_chg'] = (df_weekly.groupby('Line')['Changeover']\n",
    "                                   .apply(pd.Series.pct_change, periods=4))\n",
    "df_weekly.head()"
   ]
  },
  {
   "cell_type": "markdown",
   "metadata": {},
   "source": [
    "## Standard Deviation\n",
    "Calculate std_dev and mean on a 4 week rolling basis\n",
    "\n",
    "Standard deviation is the square root of the variance, so no need to calculate both and have left var out"
   ]
  },
  {
   "cell_type": "code",
   "execution_count": 529,
   "metadata": {
    "scrolled": true
   },
   "outputs": [
    {
     "output_type": "execute_result",
     "data": {
      "text/plain": [
       "         Week             Line     OEE %  WeekOfYear  Year       Date  \\\n",
       "286  W13-2021  AL5 Packaging 1       NaN          13  2021 2021-04-04   \n",
       "287  W14-2021  AL5 Packaging 1       NaN          14  2021 2021-04-11   \n",
       "288  W15-2021  AL5 Packaging 1  0.449745          15  2021 2021-04-18   \n",
       "289  W16-2021  AL5 Packaging 1  0.642652          16  2021 2021-04-25   \n",
       "290  W17-2021  AL5 Packaging 1  0.505804          17  2021 2021-05-02   \n",
       "\n",
       "         Plant  OEE  Start point  OEE% Target (2022)  Unplanned_tech_loss  \\\n",
       "286  Frankfurt          0.479693                 0.5                  NaN   \n",
       "287  Frankfurt          0.479693                 0.5                  NaN   \n",
       "288  Frankfurt          0.479693                 0.5             0.314964   \n",
       "289  Frankfurt          0.479693                 0.5             0.135051   \n",
       "290  Frankfurt          0.479693                 0.5             0.280638   \n",
       "\n",
       "     Changeover  start_changeover  OEE_pct_chg  techloss_pct_chg  \\\n",
       "286         NaN          0.104883          NaN               NaN   \n",
       "287         NaN          0.104883          NaN               NaN   \n",
       "288    0.087039          0.104883          NaN               NaN   \n",
       "289    0.122727          0.104883          NaN               NaN   \n",
       "290    0.063261          0.104883          NaN               NaN   \n",
       "\n",
       "     Changeover_pct_chg  rolling_std  \n",
       "286                 NaN          NaN  \n",
       "287                 NaN          NaN  \n",
       "288                 NaN          NaN  \n",
       "289                 NaN     0.136405  \n",
       "290                 NaN     0.099233  "
      ],
      "text/html": "<div>\n<style scoped>\n    .dataframe tbody tr th:only-of-type {\n        vertical-align: middle;\n    }\n\n    .dataframe tbody tr th {\n        vertical-align: top;\n    }\n\n    .dataframe thead th {\n        text-align: right;\n    }\n</style>\n<table border=\"1\" class=\"dataframe\">\n  <thead>\n    <tr style=\"text-align: right;\">\n      <th></th>\n      <th>Week</th>\n      <th>Line</th>\n      <th>OEE %</th>\n      <th>WeekOfYear</th>\n      <th>Year</th>\n      <th>Date</th>\n      <th>Plant</th>\n      <th>OEE  Start point</th>\n      <th>OEE% Target (2022)</th>\n      <th>Unplanned_tech_loss</th>\n      <th>Changeover</th>\n      <th>start_changeover</th>\n      <th>OEE_pct_chg</th>\n      <th>techloss_pct_chg</th>\n      <th>Changeover_pct_chg</th>\n      <th>rolling_std</th>\n    </tr>\n  </thead>\n  <tbody>\n    <tr>\n      <th>286</th>\n      <td>W13-2021</td>\n      <td>AL5 Packaging 1</td>\n      <td>NaN</td>\n      <td>13</td>\n      <td>2021</td>\n      <td>2021-04-04</td>\n      <td>Frankfurt</td>\n      <td>0.479693</td>\n      <td>0.5</td>\n      <td>NaN</td>\n      <td>NaN</td>\n      <td>0.104883</td>\n      <td>NaN</td>\n      <td>NaN</td>\n      <td>NaN</td>\n      <td>NaN</td>\n    </tr>\n    <tr>\n      <th>287</th>\n      <td>W14-2021</td>\n      <td>AL5 Packaging 1</td>\n      <td>NaN</td>\n      <td>14</td>\n      <td>2021</td>\n      <td>2021-04-11</td>\n      <td>Frankfurt</td>\n      <td>0.479693</td>\n      <td>0.5</td>\n      <td>NaN</td>\n      <td>NaN</td>\n      <td>0.104883</td>\n      <td>NaN</td>\n      <td>NaN</td>\n      <td>NaN</td>\n      <td>NaN</td>\n    </tr>\n    <tr>\n      <th>288</th>\n      <td>W15-2021</td>\n      <td>AL5 Packaging 1</td>\n      <td>0.449745</td>\n      <td>15</td>\n      <td>2021</td>\n      <td>2021-04-18</td>\n      <td>Frankfurt</td>\n      <td>0.479693</td>\n      <td>0.5</td>\n      <td>0.314964</td>\n      <td>0.087039</td>\n      <td>0.104883</td>\n      <td>NaN</td>\n      <td>NaN</td>\n      <td>NaN</td>\n      <td>NaN</td>\n    </tr>\n    <tr>\n      <th>289</th>\n      <td>W16-2021</td>\n      <td>AL5 Packaging 1</td>\n      <td>0.642652</td>\n      <td>16</td>\n      <td>2021</td>\n      <td>2021-04-25</td>\n      <td>Frankfurt</td>\n      <td>0.479693</td>\n      <td>0.5</td>\n      <td>0.135051</td>\n      <td>0.122727</td>\n      <td>0.104883</td>\n      <td>NaN</td>\n      <td>NaN</td>\n      <td>NaN</td>\n      <td>0.136405</td>\n    </tr>\n    <tr>\n      <th>290</th>\n      <td>W17-2021</td>\n      <td>AL5 Packaging 1</td>\n      <td>0.505804</td>\n      <td>17</td>\n      <td>2021</td>\n      <td>2021-05-02</td>\n      <td>Frankfurt</td>\n      <td>0.479693</td>\n      <td>0.5</td>\n      <td>0.280638</td>\n      <td>0.063261</td>\n      <td>0.104883</td>\n      <td>NaN</td>\n      <td>NaN</td>\n      <td>NaN</td>\n      <td>0.099233</td>\n    </tr>\n  </tbody>\n</table>\n</div>"
     },
     "metadata": {},
     "execution_count": 529
    }
   ],
   "source": [
    "df_weekly['rolling_std'] = df_weekly.groupby('Line')['OEE %'].apply(lambda x : x.rolling(4,1).agg(np.std))\n",
    "df_weekly.head(5)"
   ]
  },
  {
   "cell_type": "code",
   "execution_count": 530,
   "metadata": {},
   "outputs": [],
   "source": [
    "file = (dir + 'Nominations Category Scoring.xlsx')\n",
    "df_nom_sectors = pd.read_excel(file, sheet_name='Nomination scoring', usecols=\"A:H\", parse_dates=['Date'])"
   ]
  },
  {
   "cell_type": "code",
   "execution_count": 531,
   "metadata": {},
   "outputs": [
    {
     "output_type": "execute_result",
     "data": {
      "text/plain": [
       "         Week             Line     OEE %  WeekOfYear    Year       Date  \\\n",
       "0    W13-2021  AL5 Packaging 1       NaN        13.0  2021.0 2021-04-04   \n",
       "1    W14-2021  AL5 Packaging 1       NaN        14.0  2021.0 2021-04-11   \n",
       "2    W15-2021  AL5 Packaging 1  0.449745        15.0  2021.0 2021-04-18   \n",
       "3    W16-2021  AL5 Packaging 1  0.642652        16.0  2021.0 2021-04-25   \n",
       "4    W17-2021  AL5 Packaging 1  0.505804        17.0  2021.0 2021-05-02   \n",
       "..        ...              ...       ...         ...     ...        ...   \n",
       "213       NaN  AL5 Packaging 1       NaN         NaN     NaN 2021-09-12   \n",
       "214       NaN              AL6       NaN         NaN     NaN 2021-09-12   \n",
       "215       NaN      M18 Filling       NaN         NaN     NaN 2021-09-12   \n",
       "216       NaN      M21 Filling       NaN         NaN     NaN 2021-09-12   \n",
       "217       NaN      M22 Filling       NaN         NaN     NaN 2021-09-12   \n",
       "\n",
       "         Plant  OEE  Start point  OEE% Target (2022)  Unplanned_tech_loss  \\\n",
       "0    Frankfurt          0.479693                 0.5                  NaN   \n",
       "1    Frankfurt          0.479693                 0.5                  NaN   \n",
       "2    Frankfurt          0.479693                 0.5             0.314964   \n",
       "3    Frankfurt          0.479693                 0.5             0.135051   \n",
       "4    Frankfurt          0.479693                 0.5             0.280638   \n",
       "..         ...               ...                 ...                  ...   \n",
       "213  Frankfurt               NaN                 NaN                  NaN   \n",
       "214  Frankfurt               NaN                 NaN                  NaN   \n",
       "215  Frankfurt               NaN                 NaN                  NaN   \n",
       "216  Frankfurt               NaN                 NaN                  NaN   \n",
       "217  Frankfurt               NaN                 NaN                  NaN   \n",
       "\n",
       "     ...  start_changeover  OEE_pct_chg  techloss_pct_chg  Changeover_pct_chg  \\\n",
       "0    ...          0.104883          NaN               NaN                 NaN   \n",
       "1    ...          0.104883          NaN               NaN                 NaN   \n",
       "2    ...          0.104883          NaN               NaN                 NaN   \n",
       "3    ...          0.104883          NaN               NaN                 NaN   \n",
       "4    ...          0.104883          NaN               NaN                 NaN   \n",
       "..   ...               ...          ...               ...                 ...   \n",
       "213  ...               NaN          NaN               NaN                 NaN   \n",
       "214  ...               NaN          NaN               NaN                 NaN   \n",
       "215  ...               NaN          NaN               NaN                 NaN   \n",
       "216  ...               NaN          NaN               NaN                 NaN   \n",
       "217  ...               NaN          NaN               NaN                 NaN   \n",
       "\n",
       "     rolling_std  Best Solution  Best Innovation  Improvement Iterations  \\\n",
       "0            NaN            NaN              NaN                     NaN   \n",
       "1            NaN            NaN              NaN                     NaN   \n",
       "2            NaN            NaN              NaN                     NaN   \n",
       "3       0.136405            NaN              NaN                     NaN   \n",
       "4       0.099233            NaN              NaN                     NaN   \n",
       "..           ...            ...              ...                     ...   \n",
       "213          NaN            0.0              0.0                     0.0   \n",
       "214          NaN            0.0              0.0                     0.0   \n",
       "215          NaN            0.0              0.0                     0.0   \n",
       "216          NaN            0.0              0.0                     0.0   \n",
       "217          NaN            0.0              0.0                     0.0   \n",
       "\n",
       "     Lessons and Sharing  Team Contribution and Spirit  \n",
       "0                    NaN                           NaN  \n",
       "1                    NaN                           NaN  \n",
       "2                    NaN                           NaN  \n",
       "3                    NaN                           NaN  \n",
       "4                    NaN                           NaN  \n",
       "..                   ...                           ...  \n",
       "213                  0.0                           0.0  \n",
       "214                  0.0                           0.0  \n",
       "215                  0.0                           0.0  \n",
       "216                  0.0                           0.0  \n",
       "217                  0.0                           0.0  \n",
       "\n",
       "[218 rows x 21 columns]"
      ],
      "text/html": "<div>\n<style scoped>\n    .dataframe tbody tr th:only-of-type {\n        vertical-align: middle;\n    }\n\n    .dataframe tbody tr th {\n        vertical-align: top;\n    }\n\n    .dataframe thead th {\n        text-align: right;\n    }\n</style>\n<table border=\"1\" class=\"dataframe\">\n  <thead>\n    <tr style=\"text-align: right;\">\n      <th></th>\n      <th>Week</th>\n      <th>Line</th>\n      <th>OEE %</th>\n      <th>WeekOfYear</th>\n      <th>Year</th>\n      <th>Date</th>\n      <th>Plant</th>\n      <th>OEE  Start point</th>\n      <th>OEE% Target (2022)</th>\n      <th>Unplanned_tech_loss</th>\n      <th>...</th>\n      <th>start_changeover</th>\n      <th>OEE_pct_chg</th>\n      <th>techloss_pct_chg</th>\n      <th>Changeover_pct_chg</th>\n      <th>rolling_std</th>\n      <th>Best Solution</th>\n      <th>Best Innovation</th>\n      <th>Improvement Iterations</th>\n      <th>Lessons and Sharing</th>\n      <th>Team Contribution and Spirit</th>\n    </tr>\n  </thead>\n  <tbody>\n    <tr>\n      <th>0</th>\n      <td>W13-2021</td>\n      <td>AL5 Packaging 1</td>\n      <td>NaN</td>\n      <td>13.0</td>\n      <td>2021.0</td>\n      <td>2021-04-04</td>\n      <td>Frankfurt</td>\n      <td>0.479693</td>\n      <td>0.5</td>\n      <td>NaN</td>\n      <td>...</td>\n      <td>0.104883</td>\n      <td>NaN</td>\n      <td>NaN</td>\n      <td>NaN</td>\n      <td>NaN</td>\n      <td>NaN</td>\n      <td>NaN</td>\n      <td>NaN</td>\n      <td>NaN</td>\n      <td>NaN</td>\n    </tr>\n    <tr>\n      <th>1</th>\n      <td>W14-2021</td>\n      <td>AL5 Packaging 1</td>\n      <td>NaN</td>\n      <td>14.0</td>\n      <td>2021.0</td>\n      <td>2021-04-11</td>\n      <td>Frankfurt</td>\n      <td>0.479693</td>\n      <td>0.5</td>\n      <td>NaN</td>\n      <td>...</td>\n      <td>0.104883</td>\n      <td>NaN</td>\n      <td>NaN</td>\n      <td>NaN</td>\n      <td>NaN</td>\n      <td>NaN</td>\n      <td>NaN</td>\n      <td>NaN</td>\n      <td>NaN</td>\n      <td>NaN</td>\n    </tr>\n    <tr>\n      <th>2</th>\n      <td>W15-2021</td>\n      <td>AL5 Packaging 1</td>\n      <td>0.449745</td>\n      <td>15.0</td>\n      <td>2021.0</td>\n      <td>2021-04-18</td>\n      <td>Frankfurt</td>\n      <td>0.479693</td>\n      <td>0.5</td>\n      <td>0.314964</td>\n      <td>...</td>\n      <td>0.104883</td>\n      <td>NaN</td>\n      <td>NaN</td>\n      <td>NaN</td>\n      <td>NaN</td>\n      <td>NaN</td>\n      <td>NaN</td>\n      <td>NaN</td>\n      <td>NaN</td>\n      <td>NaN</td>\n    </tr>\n    <tr>\n      <th>3</th>\n      <td>W16-2021</td>\n      <td>AL5 Packaging 1</td>\n      <td>0.642652</td>\n      <td>16.0</td>\n      <td>2021.0</td>\n      <td>2021-04-25</td>\n      <td>Frankfurt</td>\n      <td>0.479693</td>\n      <td>0.5</td>\n      <td>0.135051</td>\n      <td>...</td>\n      <td>0.104883</td>\n      <td>NaN</td>\n      <td>NaN</td>\n      <td>NaN</td>\n      <td>0.136405</td>\n      <td>NaN</td>\n      <td>NaN</td>\n      <td>NaN</td>\n      <td>NaN</td>\n      <td>NaN</td>\n    </tr>\n    <tr>\n      <th>4</th>\n      <td>W17-2021</td>\n      <td>AL5 Packaging 1</td>\n      <td>0.505804</td>\n      <td>17.0</td>\n      <td>2021.0</td>\n      <td>2021-05-02</td>\n      <td>Frankfurt</td>\n      <td>0.479693</td>\n      <td>0.5</td>\n      <td>0.280638</td>\n      <td>...</td>\n      <td>0.104883</td>\n      <td>NaN</td>\n      <td>NaN</td>\n      <td>NaN</td>\n      <td>0.099233</td>\n      <td>NaN</td>\n      <td>NaN</td>\n      <td>NaN</td>\n      <td>NaN</td>\n      <td>NaN</td>\n    </tr>\n    <tr>\n      <th>...</th>\n      <td>...</td>\n      <td>...</td>\n      <td>...</td>\n      <td>...</td>\n      <td>...</td>\n      <td>...</td>\n      <td>...</td>\n      <td>...</td>\n      <td>...</td>\n      <td>...</td>\n      <td>...</td>\n      <td>...</td>\n      <td>...</td>\n      <td>...</td>\n      <td>...</td>\n      <td>...</td>\n      <td>...</td>\n      <td>...</td>\n      <td>...</td>\n      <td>...</td>\n      <td>...</td>\n    </tr>\n    <tr>\n      <th>213</th>\n      <td>NaN</td>\n      <td>AL5 Packaging 1</td>\n      <td>NaN</td>\n      <td>NaN</td>\n      <td>NaN</td>\n      <td>2021-09-12</td>\n      <td>Frankfurt</td>\n      <td>NaN</td>\n      <td>NaN</td>\n      <td>NaN</td>\n      <td>...</td>\n      <td>NaN</td>\n      <td>NaN</td>\n      <td>NaN</td>\n      <td>NaN</td>\n      <td>NaN</td>\n      <td>0.0</td>\n      <td>0.0</td>\n      <td>0.0</td>\n      <td>0.0</td>\n      <td>0.0</td>\n    </tr>\n    <tr>\n      <th>214</th>\n      <td>NaN</td>\n      <td>AL6</td>\n      <td>NaN</td>\n      <td>NaN</td>\n      <td>NaN</td>\n      <td>2021-09-12</td>\n      <td>Frankfurt</td>\n      <td>NaN</td>\n      <td>NaN</td>\n      <td>NaN</td>\n      <td>...</td>\n      <td>NaN</td>\n      <td>NaN</td>\n      <td>NaN</td>\n      <td>NaN</td>\n      <td>NaN</td>\n      <td>0.0</td>\n      <td>0.0</td>\n      <td>0.0</td>\n      <td>0.0</td>\n      <td>0.0</td>\n    </tr>\n    <tr>\n      <th>215</th>\n      <td>NaN</td>\n      <td>M18 Filling</td>\n      <td>NaN</td>\n      <td>NaN</td>\n      <td>NaN</td>\n      <td>2021-09-12</td>\n      <td>Frankfurt</td>\n      <td>NaN</td>\n      <td>NaN</td>\n      <td>NaN</td>\n      <td>...</td>\n      <td>NaN</td>\n      <td>NaN</td>\n      <td>NaN</td>\n      <td>NaN</td>\n      <td>NaN</td>\n      <td>0.0</td>\n      <td>0.0</td>\n      <td>0.0</td>\n      <td>0.0</td>\n      <td>0.0</td>\n    </tr>\n    <tr>\n      <th>216</th>\n      <td>NaN</td>\n      <td>M21 Filling</td>\n      <td>NaN</td>\n      <td>NaN</td>\n      <td>NaN</td>\n      <td>2021-09-12</td>\n      <td>Frankfurt</td>\n      <td>NaN</td>\n      <td>NaN</td>\n      <td>NaN</td>\n      <td>...</td>\n      <td>NaN</td>\n      <td>NaN</td>\n      <td>NaN</td>\n      <td>NaN</td>\n      <td>NaN</td>\n      <td>0.0</td>\n      <td>0.0</td>\n      <td>0.0</td>\n      <td>0.0</td>\n      <td>0.0</td>\n    </tr>\n    <tr>\n      <th>217</th>\n      <td>NaN</td>\n      <td>M22 Filling</td>\n      <td>NaN</td>\n      <td>NaN</td>\n      <td>NaN</td>\n      <td>2021-09-12</td>\n      <td>Frankfurt</td>\n      <td>NaN</td>\n      <td>NaN</td>\n      <td>NaN</td>\n      <td>...</td>\n      <td>NaN</td>\n      <td>NaN</td>\n      <td>NaN</td>\n      <td>NaN</td>\n      <td>NaN</td>\n      <td>0.0</td>\n      <td>0.0</td>\n      <td>0.0</td>\n      <td>0.0</td>\n      <td>0.0</td>\n    </tr>\n  </tbody>\n</table>\n<p>218 rows × 21 columns</p>\n</div>"
     },
     "metadata": {},
     "execution_count": 531
    }
   ],
   "source": [
    "df_nom_sectors['Date'] = pd.Series(df_nom_sectors['Date']).fillna(method='ffill')\n",
    "df_nom_sectors = df_nom_sectors.fillna(0)\n",
    "\n",
    "df_weekly = df_weekly.merge(df_nom_sectors[['Line','Plant','Date','Best Solution','Best Innovation','Improvement Iterations','Lessons and Sharing','Team Contribution and Spirit']], how='outer', on=['Date','Plant','Line'])\n",
    "df_weekly"
   ]
  },
  {
   "cell_type": "markdown",
   "metadata": {},
   "source": [
    "## Create review dates\n",
    "create a review_date column for grouping the data later, so we only get the data we're interested in for each review"
   ]
  },
  {
   "cell_type": "code",
   "execution_count": 533,
   "metadata": {},
   "outputs": [],
   "source": [
    "def thurs_of_weekbefore(year, week):\n",
    "    return datetime.date.fromisocalendar(year, week-1, 4)  # (year, week before (w-1), thursday)\n",
    "\n",
    "review_weeks = [16, 20, 24, 28, 34, 38, 42, 47]\n",
    "review_dates = []\n",
    "\n",
    "for i in review_weeks:\n",
    "    if i > 0:\n",
    "        review_dates.append((thurs_of_weekbefore(2021,i)))\n",
    "\n",
    "df_review_dates = pd.DataFrame(review_dates)\n",
    "df_review_dates.rename(columns={0:'Review_Date'}, inplace=True)\n",
    "df_review_dates['Review_Date'] = pd.to_datetime(df_review_dates.Review_Date)\n",
    "\n",
    "# df_review_dates.info()\n",
    "df_weekly = pd.merge_asof(df_weekly.sort_values('Date'), df_review_dates, left_on='Date', right_on='Review_Date', allow_exact_matches=True, direction='forward')\n"
   ]
  },
  {
   "cell_type": "markdown",
   "metadata": {},
   "source": [
    "### Calculating Sector times\n",
    "\n",
    "\n",
    "The lap time is a sum of the calculated sector scores + the pole position time from the F1 race data (eg for Paul Ricard it was 88 secs):\n",
    "\n",
    "\n",
    "\n",
    "Sector [1-4] calculations   \n",
    "**sector 1**\n",
    "How much has your OEE increased / decreased?  Sum difference between each week and multiply total by -1.  This provides a negative figure to subtract from your laptime, so that larger OEE increase is rewarded with a bigger reduction in laptime\n",
    "\n",
    "df_weekly['sector_1'] = df_weekly['OEE_Diff'].mul(-1)\n",
    "\n",
    "OEE_Diff calculation\n",
    "- Sort values by Line and Date\n",
    "- Find the difference between each weekly OEE figure\n",
    "- Fill NaN values from missing OEE figures with the weekly OEE minus OEE Start Point for that site\n",
    "\n",
    "\n",
    "**Sector 2** \n",
    "How big was your rolling std deviation this period, over the previous 4 weeks std dev?  \n",
    "\n",
    "df_weekly['sector_2'] = df_weekly['rolling_std']\n",
    "\n",
    "rolling_std = rolling std deviation for past 4 weeks for each site\n",
    "\n",
    "\n",
    " \n",
    "**Sector 3**\n",
    "We want to reduce Unplanned tech loss (recorded as % of OEE) Unplanned tech loss is calculated within QlikSense but missing values sometimes.  Fill the missing values and then display the average Unplanned tech loss :\n",
    "\n",
    "df_weekly['sector_3'] = df_weekly['Unplanned_tech_loss']\n",
    "\n",
    "\n",
    "Populate missing unplanned tech loss:\n",
    "- Create weekly min/max cols for Unplanned tech loss from any site \n",
    "- Merge those columns into df_weekly \n",
    "- fill any NaN unplanned tech loss rows with the max OEE calc'd for that week (bigger is worse)\n",
    "\n",
    " \n",
    "**Sector 4**\n",
    "We're trying to reduce changeover time (recorded as % of OEE).  \n",
    "Start changeover value isn't provided, so calc our own start point for each Line using the average changeover in 2021 up to 30 April, 2021.\n",
    "   \n",
    "start_changeover_calc = df_weekly[['Plant','Line','Changeover']][df_weekly['Date'] < '2021-04-30'].groupby(['Plant','Line']).mean().reset_index()\n",
    "start_changeover_calc.rename(columns={'Changeover':'start_changeover'}, inplace=True)\n",
    "df_weekly = df_weekly.merge(start_changeover_calc[['Line','start_changeover']])\n",
    "\n",
    "\n",
    "\n",
    "df_weekly['sector_4'] = df_weekly['Changeover_rolling_mean']\n",
    "\n",
    "Changeover_mean = df_weekly.sort_values(by=['Line', 'Date'])[['Line', 'Date', 'Changeover', 'start_changeover']]\n",
    "Changeover_mean['Changeover_rolling_mean'] = Changeover_mean.groupby('Line')['Changeover'].apply(lambda x : x.rolling(4,1).mean())\n",
    "df_weekly = df_weekly.merge(Changeover_mean[[\"Line\",\"Date\",\"Changeover_rolling_mean\"]], on=([\"Line\",\"Date\"]))\n",
    "\n",
    "\n",
    "\n",
    "**Clean the sectors of NaN before summing them**   \n",
    "Sometimes, when we haven't got enough information for pct_change calcs, we were getting no values coming through for the lap_time.  We should make sure there is a value in each of the sectors, otherwise there is an unfair advantage by not having data available.  Find all NaN values and replace with the mean for that column(sector)\n",
    "\n",
    "**Sectors 5 - 9**   \n",
    "These scores are taken from the Nomination process.  Read in the Nomination s/s, merge any values we find with df_weekly, replace all NaN (missing) values with 0, and reduce the scores we find to 10% of their original value.  This value is then subtracted from the lap_time - so the better you do in the nominations the more your lap_time gets reduced by.\n",
    "\n",
    " \n",
    "**lap_time**\n",
    "df_weekly['lap_time'] = df_weekly[['sector_1','sector_2','sector_3','sector_4']].sum(axis=1)"
   ]
  },
  {
   "cell_type": "markdown",
   "metadata": {},
   "source": [
    "#### Populate missing OEE %\n",
    "- Find the weekly min/max OEE % from any site   \n",
    "- Merge those columns into df_weekly   \n",
    "- fill any NaN with the min OEE we calc'd for that week   "
   ]
  },
  {
   "cell_type": "code",
   "execution_count": 534,
   "metadata": {},
   "outputs": [
    {
     "output_type": "execute_result",
     "data": {
      "text/plain": [
       "         Week                  Line     OEE %  WeekOfYear    Year       Date  \\\n",
       "0    W13-2021       AL5 Packaging 1  0.046124        13.0  2021.0 2021-04-04   \n",
       "1    W13-2021           M21 Filling  0.046124        13.0  2021.0 2021-04-04   \n",
       "2    W13-2021           M18 Filling  0.046124        13.0  2021.0 2021-04-04   \n",
       "3    W13-2021    L25 Packaging Line  0.393740        13.0  2021.0 2021-04-04   \n",
       "4    W13-2021  SUPPO Packaging Line  0.432432        13.0  2021.0 2021-04-04   \n",
       "..        ...                   ...       ...         ...     ...        ...   \n",
       "213       NaN    L25 Packaging Line       NaN         NaN     NaN 2021-09-12   \n",
       "214       NaN    L18 Packaging Line       NaN         NaN     NaN 2021-09-12   \n",
       "215       NaN           M21 Filling       NaN         NaN     NaN 2021-09-12   \n",
       "216       NaN     C2 Packaging Line       NaN         NaN     NaN 2021-09-12   \n",
       "217       NaN           M22 Filling       NaN         NaN     NaN 2021-09-12   \n",
       "\n",
       "              Plant  OEE  Start point  OEE% Target (2022)  \\\n",
       "0         Frankfurt          0.479693               0.500   \n",
       "1         Frankfurt          0.599671               0.650   \n",
       "2         Frankfurt          0.443522               0.650   \n",
       "3             Tours          0.351564               0.478   \n",
       "4           Lisieux          0.353021               0.530   \n",
       "..              ...               ...                 ...   \n",
       "213           Tours               NaN                 NaN   \n",
       "214           Tours               NaN                 NaN   \n",
       "215       Frankfurt               NaN                 NaN   \n",
       "216  Maisons-Alfort               NaN                 NaN   \n",
       "217       Frankfurt               NaN                 NaN   \n",
       "\n",
       "     Unplanned_tech_loss  ...  Changeover_pct_chg  rolling_std  Best Solution  \\\n",
       "0                    NaN  ...                 NaN          NaN            NaN   \n",
       "1                    NaN  ...                 NaN          NaN            NaN   \n",
       "2               0.114818  ...                 NaN          NaN            NaN   \n",
       "3               0.206618  ...                 NaN          NaN            NaN   \n",
       "4               0.148267  ...                 NaN          NaN            NaN   \n",
       "..                   ...  ...                 ...          ...            ...   \n",
       "213                  NaN  ...                 NaN          NaN            0.0   \n",
       "214                  NaN  ...                 NaN          NaN            0.0   \n",
       "215                  NaN  ...                 NaN          NaN            0.0   \n",
       "216                  NaN  ...                 NaN          NaN            0.0   \n",
       "217                  NaN  ...                 NaN          NaN            0.0   \n",
       "\n",
       "     Best Innovation  Improvement Iterations  Lessons and Sharing  \\\n",
       "0                NaN                     NaN                  NaN   \n",
       "1                NaN                     NaN                  NaN   \n",
       "2                NaN                     NaN                  NaN   \n",
       "3                NaN                     NaN                  NaN   \n",
       "4                NaN                     NaN                  NaN   \n",
       "..               ...                     ...                  ...   \n",
       "213              0.0                     0.0                  0.0   \n",
       "214              0.0                     0.0                  0.0   \n",
       "215              0.0                     0.0                  0.0   \n",
       "216              0.0                     0.0                  0.0   \n",
       "217              0.0                     0.0                  0.0   \n",
       "\n",
       "     Team Contribution and Spirit  Review_Date   WeekMin   WeekMax  \n",
       "0                             NaN   2021-04-15  0.046124  0.649336  \n",
       "1                             NaN   2021-04-15  0.046124  0.649336  \n",
       "2                             NaN   2021-04-15  0.046124  0.649336  \n",
       "3                             NaN   2021-04-15  0.046124  0.649336  \n",
       "4                             NaN   2021-04-15  0.046124  0.649336  \n",
       "..                            ...          ...       ...       ...  \n",
       "213                           0.0   2021-09-16       NaN       NaN  \n",
       "214                           0.0   2021-09-16       NaN       NaN  \n",
       "215                           0.0   2021-09-16       NaN       NaN  \n",
       "216                           0.0   2021-09-16       NaN       NaN  \n",
       "217                           0.0   2021-09-16       NaN       NaN  \n",
       "\n",
       "[218 rows x 24 columns]"
      ],
      "text/html": "<div>\n<style scoped>\n    .dataframe tbody tr th:only-of-type {\n        vertical-align: middle;\n    }\n\n    .dataframe tbody tr th {\n        vertical-align: top;\n    }\n\n    .dataframe thead th {\n        text-align: right;\n    }\n</style>\n<table border=\"1\" class=\"dataframe\">\n  <thead>\n    <tr style=\"text-align: right;\">\n      <th></th>\n      <th>Week</th>\n      <th>Line</th>\n      <th>OEE %</th>\n      <th>WeekOfYear</th>\n      <th>Year</th>\n      <th>Date</th>\n      <th>Plant</th>\n      <th>OEE  Start point</th>\n      <th>OEE% Target (2022)</th>\n      <th>Unplanned_tech_loss</th>\n      <th>...</th>\n      <th>Changeover_pct_chg</th>\n      <th>rolling_std</th>\n      <th>Best Solution</th>\n      <th>Best Innovation</th>\n      <th>Improvement Iterations</th>\n      <th>Lessons and Sharing</th>\n      <th>Team Contribution and Spirit</th>\n      <th>Review_Date</th>\n      <th>WeekMin</th>\n      <th>WeekMax</th>\n    </tr>\n  </thead>\n  <tbody>\n    <tr>\n      <th>0</th>\n      <td>W13-2021</td>\n      <td>AL5 Packaging 1</td>\n      <td>0.046124</td>\n      <td>13.0</td>\n      <td>2021.0</td>\n      <td>2021-04-04</td>\n      <td>Frankfurt</td>\n      <td>0.479693</td>\n      <td>0.500</td>\n      <td>NaN</td>\n      <td>...</td>\n      <td>NaN</td>\n      <td>NaN</td>\n      <td>NaN</td>\n      <td>NaN</td>\n      <td>NaN</td>\n      <td>NaN</td>\n      <td>NaN</td>\n      <td>2021-04-15</td>\n      <td>0.046124</td>\n      <td>0.649336</td>\n    </tr>\n    <tr>\n      <th>1</th>\n      <td>W13-2021</td>\n      <td>M21 Filling</td>\n      <td>0.046124</td>\n      <td>13.0</td>\n      <td>2021.0</td>\n      <td>2021-04-04</td>\n      <td>Frankfurt</td>\n      <td>0.599671</td>\n      <td>0.650</td>\n      <td>NaN</td>\n      <td>...</td>\n      <td>NaN</td>\n      <td>NaN</td>\n      <td>NaN</td>\n      <td>NaN</td>\n      <td>NaN</td>\n      <td>NaN</td>\n      <td>NaN</td>\n      <td>2021-04-15</td>\n      <td>0.046124</td>\n      <td>0.649336</td>\n    </tr>\n    <tr>\n      <th>2</th>\n      <td>W13-2021</td>\n      <td>M18 Filling</td>\n      <td>0.046124</td>\n      <td>13.0</td>\n      <td>2021.0</td>\n      <td>2021-04-04</td>\n      <td>Frankfurt</td>\n      <td>0.443522</td>\n      <td>0.650</td>\n      <td>0.114818</td>\n      <td>...</td>\n      <td>NaN</td>\n      <td>NaN</td>\n      <td>NaN</td>\n      <td>NaN</td>\n      <td>NaN</td>\n      <td>NaN</td>\n      <td>NaN</td>\n      <td>2021-04-15</td>\n      <td>0.046124</td>\n      <td>0.649336</td>\n    </tr>\n    <tr>\n      <th>3</th>\n      <td>W13-2021</td>\n      <td>L25 Packaging Line</td>\n      <td>0.393740</td>\n      <td>13.0</td>\n      <td>2021.0</td>\n      <td>2021-04-04</td>\n      <td>Tours</td>\n      <td>0.351564</td>\n      <td>0.478</td>\n      <td>0.206618</td>\n      <td>...</td>\n      <td>NaN</td>\n      <td>NaN</td>\n      <td>NaN</td>\n      <td>NaN</td>\n      <td>NaN</td>\n      <td>NaN</td>\n      <td>NaN</td>\n      <td>2021-04-15</td>\n      <td>0.046124</td>\n      <td>0.649336</td>\n    </tr>\n    <tr>\n      <th>4</th>\n      <td>W13-2021</td>\n      <td>SUPPO Packaging Line</td>\n      <td>0.432432</td>\n      <td>13.0</td>\n      <td>2021.0</td>\n      <td>2021-04-04</td>\n      <td>Lisieux</td>\n      <td>0.353021</td>\n      <td>0.530</td>\n      <td>0.148267</td>\n      <td>...</td>\n      <td>NaN</td>\n      <td>NaN</td>\n      <td>NaN</td>\n      <td>NaN</td>\n      <td>NaN</td>\n      <td>NaN</td>\n      <td>NaN</td>\n      <td>2021-04-15</td>\n      <td>0.046124</td>\n      <td>0.649336</td>\n    </tr>\n    <tr>\n      <th>...</th>\n      <td>...</td>\n      <td>...</td>\n      <td>...</td>\n      <td>...</td>\n      <td>...</td>\n      <td>...</td>\n      <td>...</td>\n      <td>...</td>\n      <td>...</td>\n      <td>...</td>\n      <td>...</td>\n      <td>...</td>\n      <td>...</td>\n      <td>...</td>\n      <td>...</td>\n      <td>...</td>\n      <td>...</td>\n      <td>...</td>\n      <td>...</td>\n      <td>...</td>\n      <td>...</td>\n    </tr>\n    <tr>\n      <th>213</th>\n      <td>NaN</td>\n      <td>L25 Packaging Line</td>\n      <td>NaN</td>\n      <td>NaN</td>\n      <td>NaN</td>\n      <td>2021-09-12</td>\n      <td>Tours</td>\n      <td>NaN</td>\n      <td>NaN</td>\n      <td>NaN</td>\n      <td>...</td>\n      <td>NaN</td>\n      <td>NaN</td>\n      <td>0.0</td>\n      <td>0.0</td>\n      <td>0.0</td>\n      <td>0.0</td>\n      <td>0.0</td>\n      <td>2021-09-16</td>\n      <td>NaN</td>\n      <td>NaN</td>\n    </tr>\n    <tr>\n      <th>214</th>\n      <td>NaN</td>\n      <td>L18 Packaging Line</td>\n      <td>NaN</td>\n      <td>NaN</td>\n      <td>NaN</td>\n      <td>2021-09-12</td>\n      <td>Tours</td>\n      <td>NaN</td>\n      <td>NaN</td>\n      <td>NaN</td>\n      <td>...</td>\n      <td>NaN</td>\n      <td>NaN</td>\n      <td>0.0</td>\n      <td>0.0</td>\n      <td>0.0</td>\n      <td>0.0</td>\n      <td>0.0</td>\n      <td>2021-09-16</td>\n      <td>NaN</td>\n      <td>NaN</td>\n    </tr>\n    <tr>\n      <th>215</th>\n      <td>NaN</td>\n      <td>M21 Filling</td>\n      <td>NaN</td>\n      <td>NaN</td>\n      <td>NaN</td>\n      <td>2021-09-12</td>\n      <td>Frankfurt</td>\n      <td>NaN</td>\n      <td>NaN</td>\n      <td>NaN</td>\n      <td>...</td>\n      <td>NaN</td>\n      <td>NaN</td>\n      <td>0.0</td>\n      <td>0.0</td>\n      <td>0.0</td>\n      <td>0.0</td>\n      <td>0.0</td>\n      <td>2021-09-16</td>\n      <td>NaN</td>\n      <td>NaN</td>\n    </tr>\n    <tr>\n      <th>216</th>\n      <td>NaN</td>\n      <td>C2 Packaging Line</td>\n      <td>NaN</td>\n      <td>NaN</td>\n      <td>NaN</td>\n      <td>2021-09-12</td>\n      <td>Maisons-Alfort</td>\n      <td>NaN</td>\n      <td>NaN</td>\n      <td>NaN</td>\n      <td>...</td>\n      <td>NaN</td>\n      <td>NaN</td>\n      <td>0.0</td>\n      <td>0.0</td>\n      <td>0.0</td>\n      <td>0.0</td>\n      <td>0.0</td>\n      <td>2021-09-16</td>\n      <td>NaN</td>\n      <td>NaN</td>\n    </tr>\n    <tr>\n      <th>217</th>\n      <td>NaN</td>\n      <td>M22 Filling</td>\n      <td>NaN</td>\n      <td>NaN</td>\n      <td>NaN</td>\n      <td>2021-09-12</td>\n      <td>Frankfurt</td>\n      <td>NaN</td>\n      <td>NaN</td>\n      <td>NaN</td>\n      <td>...</td>\n      <td>NaN</td>\n      <td>NaN</td>\n      <td>0.0</td>\n      <td>0.0</td>\n      <td>0.0</td>\n      <td>0.0</td>\n      <td>0.0</td>\n      <td>2021-09-16</td>\n      <td>NaN</td>\n      <td>NaN</td>\n    </tr>\n  </tbody>\n</table>\n<p>218 rows × 24 columns</p>\n</div>"
     },
     "metadata": {},
     "execution_count": 534
    }
   ],
   "source": [
    "df_weekly_minmax = (df_weekly.assign(Data_Value=df_weekly['OEE %'].abs())\n",
    "       .groupby(pd.Grouper(key='Date',freq='W'))['OEE %'].agg([('Min' , 'min'), ('Max', 'max')])\n",
    "       .add_prefix('Week'))\n",
    "df_weekly_minmax.reset_index(inplace=True)\n",
    "df_weekly = df_weekly.merge(df_weekly_minmax[['Date','WeekMin','WeekMax']])\n",
    "df_weekly['OEE %'].fillna(df_weekly.WeekMin, inplace=True)\n",
    "df_weekly"
   ]
  },
  {
   "cell_type": "markdown",
   "metadata": {},
   "source": [
    "#### We need the diff between the weekly OEE % figures, and the Weekly Changeover figures\n",
    "Need something to calculate the OEE Progress and Changeover, otherwise we will have problems when we group and sum values later\n",
    "- Create OEE_diff with OEE % from groupby of each Line, Week (only 1 row per week, so 'mean' will yield the same)   \n",
    "- Find the diff between the rows in OEE_Diff for each Line   \n",
    "- fillNA (first row for each Line) with OEE Start point - should only be needed on the first row for each Line   \n",
    "\n",
    "repeat same logic for Changeover - there will be more NaN as start_changeover wasn't provided for all.  We populate this later"
   ]
  },
  {
   "cell_type": "code",
   "execution_count": 535,
   "metadata": {},
   "outputs": [],
   "source": [
    "# this was calculating the wrong Diff - the first row of each site was looking at the previous site for all but the 1st calc\n",
    "# needed to sort by Line and Date first \n",
    "\n",
    "# OEE_Diff = df_weekly.groupby(['Line',pd.Grouper(key='Date',freq='W')])['OEE %'].mean().reset_index()\n",
    "# OEE_Diff[\"OEE_Diff\"] = OEE_Diff[\"OEE %\"].diff()\n",
    "# df_weekly = df_weekly.merge(OEE_Diff[[\"Line\",\"Date\",\"OEE_Diff\"]], on=([\"Line\",\"Date\"]))\n",
    "\n",
    "# df_weekly['OEE_Diff'].fillna(df_weekly['OEE %'] - df_weekly['OEE  Start point'], inplace=True)\n",
    "# df_weekly[[\"Line\",\"Date\",\"OEE %\",\"OEE_Diff\"]].head(50).sort_values(by=['Line', 'Date'])"
   ]
  },
  {
   "cell_type": "code",
   "execution_count": 536,
   "metadata": {},
   "outputs": [
    {
     "output_type": "execute_result",
     "data": {
      "text/plain": [
       "                    Line       Date     OEE %  OEE_Diff\n",
       "0        AL5 Packaging 1 2021-04-04  0.046124 -0.433569\n",
       "17       AL5 Packaging 1 2021-04-11  0.259071  0.212947\n",
       "26       AL5 Packaging 1 2021-04-18  0.449745  0.190675\n",
       "41       AL5 Packaging 1 2021-04-25  0.642652  0.192906\n",
       "11                   AL6 2021-04-04  0.367897  0.035240\n",
       "23                   AL6 2021-04-11  0.360681 -0.007216\n",
       "36                   AL6 2021-04-18  0.334140 -0.026541\n",
       "47                   AL6 2021-04-25  0.309545 -0.024595\n",
       "10     C2 Packaging Line 2021-04-04  0.458414  0.060911\n",
       "20     C2 Packaging Line 2021-04-11  0.530707  0.072293\n",
       "37     C2 Packaging Line 2021-04-18  0.410676 -0.120032\n",
       "9      C9 Packaging Line 2021-04-04  0.371845 -0.156673\n",
       "13     C9 Packaging Line 2021-04-11  0.259071 -0.112774\n",
       "38     C9 Packaging Line 2021-04-18  0.444577  0.185507\n",
       "44     C9 Packaging Line 2021-04-25  0.509444  0.064867\n",
       "7                 GAMMA1 2021-04-04  0.431186  0.012503\n",
       "19                GAMMA1 2021-04-11  0.389690 -0.041496\n",
       "30                GAMMA1 2021-04-18  0.458668  0.068978\n",
       "39                GAMMA1 2021-04-25  0.471819  0.013150\n",
       "6              IMA C80/2 2021-04-04  0.581304  0.130272\n",
       "24             IMA C80/2 2021-04-11  0.433635 -0.147669\n",
       "31             IMA C80/2 2021-04-18  0.451515  0.017881\n",
       "45             IMA C80/2 2021-04-25  0.406219 -0.045296\n",
       "5     L18 Packaging Line 2021-04-04  0.465923  0.088240\n",
       "21    L18 Packaging Line 2021-04-11  0.410901 -0.055022\n",
       "34    L18 Packaging Line 2021-04-18  0.401397 -0.009504\n",
       "40    L18 Packaging Line 2021-04-25  0.357559 -0.043839\n",
       "3     L25 Packaging Line 2021-04-04  0.393740  0.042176\n",
       "22    L25 Packaging Line 2021-04-11  0.346988 -0.046751\n",
       "27    L25 Packaging Line 2021-04-18  0.187845 -0.159143\n",
       "43    L25 Packaging Line 2021-04-25  0.293744  0.105899\n",
       "2            M18 Filling 2021-04-04  0.046124 -0.397398\n",
       "25           M18 Filling 2021-04-11  0.463021  0.416897\n",
       "29           M18 Filling 2021-04-18  0.386723 -0.076297\n",
       "48           M18 Filling 2021-04-25  0.352420 -0.034303\n",
       "1            M21 Filling 2021-04-04  0.046124 -0.553548\n",
       "18           M21 Filling 2021-04-11  0.259071  0.212947\n",
       "33           M21 Filling 2021-04-18  0.187845 -0.071226\n",
       "49           M21 Filling 2021-04-25  0.000000 -0.187845\n",
       "12           M22 Filling 2021-04-04  0.649336  0.119268\n",
       "16           M22 Filling 2021-04-11  0.427316 -0.222019\n",
       "32           M22 Filling 2021-04-18  0.520511  0.093195\n",
       "4   SUPPO Packaging Line 2021-04-04  0.432432  0.079411\n",
       "14  SUPPO Packaging Line 2021-04-11  0.518594  0.086162\n",
       "35  SUPPO Packaging Line 2021-04-18  0.633037  0.114443\n",
       "42  SUPPO Packaging Line 2021-04-25  0.403974 -0.229063\n",
       "8   TR200 Packaging Line 2021-04-04  0.596432  0.112928\n",
       "15  TR200 Packaging Line 2021-04-11  0.515187 -0.081246\n",
       "28  TR200 Packaging Line 2021-04-18  0.655470  0.140283\n",
       "46  TR200 Packaging Line 2021-04-25  0.501130 -0.154340"
      ],
      "text/html": "<div>\n<style scoped>\n    .dataframe tbody tr th:only-of-type {\n        vertical-align: middle;\n    }\n\n    .dataframe tbody tr th {\n        vertical-align: top;\n    }\n\n    .dataframe thead th {\n        text-align: right;\n    }\n</style>\n<table border=\"1\" class=\"dataframe\">\n  <thead>\n    <tr style=\"text-align: right;\">\n      <th></th>\n      <th>Line</th>\n      <th>Date</th>\n      <th>OEE %</th>\n      <th>OEE_Diff</th>\n    </tr>\n  </thead>\n  <tbody>\n    <tr>\n      <th>0</th>\n      <td>AL5 Packaging 1</td>\n      <td>2021-04-04</td>\n      <td>0.046124</td>\n      <td>-0.433569</td>\n    </tr>\n    <tr>\n      <th>17</th>\n      <td>AL5 Packaging 1</td>\n      <td>2021-04-11</td>\n      <td>0.259071</td>\n      <td>0.212947</td>\n    </tr>\n    <tr>\n      <th>26</th>\n      <td>AL5 Packaging 1</td>\n      <td>2021-04-18</td>\n      <td>0.449745</td>\n      <td>0.190675</td>\n    </tr>\n    <tr>\n      <th>41</th>\n      <td>AL5 Packaging 1</td>\n      <td>2021-04-25</td>\n      <td>0.642652</td>\n      <td>0.192906</td>\n    </tr>\n    <tr>\n      <th>11</th>\n      <td>AL6</td>\n      <td>2021-04-04</td>\n      <td>0.367897</td>\n      <td>0.035240</td>\n    </tr>\n    <tr>\n      <th>23</th>\n      <td>AL6</td>\n      <td>2021-04-11</td>\n      <td>0.360681</td>\n      <td>-0.007216</td>\n    </tr>\n    <tr>\n      <th>36</th>\n      <td>AL6</td>\n      <td>2021-04-18</td>\n      <td>0.334140</td>\n      <td>-0.026541</td>\n    </tr>\n    <tr>\n      <th>47</th>\n      <td>AL6</td>\n      <td>2021-04-25</td>\n      <td>0.309545</td>\n      <td>-0.024595</td>\n    </tr>\n    <tr>\n      <th>10</th>\n      <td>C2 Packaging Line</td>\n      <td>2021-04-04</td>\n      <td>0.458414</td>\n      <td>0.060911</td>\n    </tr>\n    <tr>\n      <th>20</th>\n      <td>C2 Packaging Line</td>\n      <td>2021-04-11</td>\n      <td>0.530707</td>\n      <td>0.072293</td>\n    </tr>\n    <tr>\n      <th>37</th>\n      <td>C2 Packaging Line</td>\n      <td>2021-04-18</td>\n      <td>0.410676</td>\n      <td>-0.120032</td>\n    </tr>\n    <tr>\n      <th>9</th>\n      <td>C9 Packaging Line</td>\n      <td>2021-04-04</td>\n      <td>0.371845</td>\n      <td>-0.156673</td>\n    </tr>\n    <tr>\n      <th>13</th>\n      <td>C9 Packaging Line</td>\n      <td>2021-04-11</td>\n      <td>0.259071</td>\n      <td>-0.112774</td>\n    </tr>\n    <tr>\n      <th>38</th>\n      <td>C9 Packaging Line</td>\n      <td>2021-04-18</td>\n      <td>0.444577</td>\n      <td>0.185507</td>\n    </tr>\n    <tr>\n      <th>44</th>\n      <td>C9 Packaging Line</td>\n      <td>2021-04-25</td>\n      <td>0.509444</td>\n      <td>0.064867</td>\n    </tr>\n    <tr>\n      <th>7</th>\n      <td>GAMMA1</td>\n      <td>2021-04-04</td>\n      <td>0.431186</td>\n      <td>0.012503</td>\n    </tr>\n    <tr>\n      <th>19</th>\n      <td>GAMMA1</td>\n      <td>2021-04-11</td>\n      <td>0.389690</td>\n      <td>-0.041496</td>\n    </tr>\n    <tr>\n      <th>30</th>\n      <td>GAMMA1</td>\n      <td>2021-04-18</td>\n      <td>0.458668</td>\n      <td>0.068978</td>\n    </tr>\n    <tr>\n      <th>39</th>\n      <td>GAMMA1</td>\n      <td>2021-04-25</td>\n      <td>0.471819</td>\n      <td>0.013150</td>\n    </tr>\n    <tr>\n      <th>6</th>\n      <td>IMA C80/2</td>\n      <td>2021-04-04</td>\n      <td>0.581304</td>\n      <td>0.130272</td>\n    </tr>\n    <tr>\n      <th>24</th>\n      <td>IMA C80/2</td>\n      <td>2021-04-11</td>\n      <td>0.433635</td>\n      <td>-0.147669</td>\n    </tr>\n    <tr>\n      <th>31</th>\n      <td>IMA C80/2</td>\n      <td>2021-04-18</td>\n      <td>0.451515</td>\n      <td>0.017881</td>\n    </tr>\n    <tr>\n      <th>45</th>\n      <td>IMA C80/2</td>\n      <td>2021-04-25</td>\n      <td>0.406219</td>\n      <td>-0.045296</td>\n    </tr>\n    <tr>\n      <th>5</th>\n      <td>L18 Packaging Line</td>\n      <td>2021-04-04</td>\n      <td>0.465923</td>\n      <td>0.088240</td>\n    </tr>\n    <tr>\n      <th>21</th>\n      <td>L18 Packaging Line</td>\n      <td>2021-04-11</td>\n      <td>0.410901</td>\n      <td>-0.055022</td>\n    </tr>\n    <tr>\n      <th>34</th>\n      <td>L18 Packaging Line</td>\n      <td>2021-04-18</td>\n      <td>0.401397</td>\n      <td>-0.009504</td>\n    </tr>\n    <tr>\n      <th>40</th>\n      <td>L18 Packaging Line</td>\n      <td>2021-04-25</td>\n      <td>0.357559</td>\n      <td>-0.043839</td>\n    </tr>\n    <tr>\n      <th>3</th>\n      <td>L25 Packaging Line</td>\n      <td>2021-04-04</td>\n      <td>0.393740</td>\n      <td>0.042176</td>\n    </tr>\n    <tr>\n      <th>22</th>\n      <td>L25 Packaging Line</td>\n      <td>2021-04-11</td>\n      <td>0.346988</td>\n      <td>-0.046751</td>\n    </tr>\n    <tr>\n      <th>27</th>\n      <td>L25 Packaging Line</td>\n      <td>2021-04-18</td>\n      <td>0.187845</td>\n      <td>-0.159143</td>\n    </tr>\n    <tr>\n      <th>43</th>\n      <td>L25 Packaging Line</td>\n      <td>2021-04-25</td>\n      <td>0.293744</td>\n      <td>0.105899</td>\n    </tr>\n    <tr>\n      <th>2</th>\n      <td>M18 Filling</td>\n      <td>2021-04-04</td>\n      <td>0.046124</td>\n      <td>-0.397398</td>\n    </tr>\n    <tr>\n      <th>25</th>\n      <td>M18 Filling</td>\n      <td>2021-04-11</td>\n      <td>0.463021</td>\n      <td>0.416897</td>\n    </tr>\n    <tr>\n      <th>29</th>\n      <td>M18 Filling</td>\n      <td>2021-04-18</td>\n      <td>0.386723</td>\n      <td>-0.076297</td>\n    </tr>\n    <tr>\n      <th>48</th>\n      <td>M18 Filling</td>\n      <td>2021-04-25</td>\n      <td>0.352420</td>\n      <td>-0.034303</td>\n    </tr>\n    <tr>\n      <th>1</th>\n      <td>M21 Filling</td>\n      <td>2021-04-04</td>\n      <td>0.046124</td>\n      <td>-0.553548</td>\n    </tr>\n    <tr>\n      <th>18</th>\n      <td>M21 Filling</td>\n      <td>2021-04-11</td>\n      <td>0.259071</td>\n      <td>0.212947</td>\n    </tr>\n    <tr>\n      <th>33</th>\n      <td>M21 Filling</td>\n      <td>2021-04-18</td>\n      <td>0.187845</td>\n      <td>-0.071226</td>\n    </tr>\n    <tr>\n      <th>49</th>\n      <td>M21 Filling</td>\n      <td>2021-04-25</td>\n      <td>0.000000</td>\n      <td>-0.187845</td>\n    </tr>\n    <tr>\n      <th>12</th>\n      <td>M22 Filling</td>\n      <td>2021-04-04</td>\n      <td>0.649336</td>\n      <td>0.119268</td>\n    </tr>\n    <tr>\n      <th>16</th>\n      <td>M22 Filling</td>\n      <td>2021-04-11</td>\n      <td>0.427316</td>\n      <td>-0.222019</td>\n    </tr>\n    <tr>\n      <th>32</th>\n      <td>M22 Filling</td>\n      <td>2021-04-18</td>\n      <td>0.520511</td>\n      <td>0.093195</td>\n    </tr>\n    <tr>\n      <th>4</th>\n      <td>SUPPO Packaging Line</td>\n      <td>2021-04-04</td>\n      <td>0.432432</td>\n      <td>0.079411</td>\n    </tr>\n    <tr>\n      <th>14</th>\n      <td>SUPPO Packaging Line</td>\n      <td>2021-04-11</td>\n      <td>0.518594</td>\n      <td>0.086162</td>\n    </tr>\n    <tr>\n      <th>35</th>\n      <td>SUPPO Packaging Line</td>\n      <td>2021-04-18</td>\n      <td>0.633037</td>\n      <td>0.114443</td>\n    </tr>\n    <tr>\n      <th>42</th>\n      <td>SUPPO Packaging Line</td>\n      <td>2021-04-25</td>\n      <td>0.403974</td>\n      <td>-0.229063</td>\n    </tr>\n    <tr>\n      <th>8</th>\n      <td>TR200 Packaging Line</td>\n      <td>2021-04-04</td>\n      <td>0.596432</td>\n      <td>0.112928</td>\n    </tr>\n    <tr>\n      <th>15</th>\n      <td>TR200 Packaging Line</td>\n      <td>2021-04-11</td>\n      <td>0.515187</td>\n      <td>-0.081246</td>\n    </tr>\n    <tr>\n      <th>28</th>\n      <td>TR200 Packaging Line</td>\n      <td>2021-04-18</td>\n      <td>0.655470</td>\n      <td>0.140283</td>\n    </tr>\n    <tr>\n      <th>46</th>\n      <td>TR200 Packaging Line</td>\n      <td>2021-04-25</td>\n      <td>0.501130</td>\n      <td>-0.154340</td>\n    </tr>\n  </tbody>\n</table>\n</div>"
     },
     "metadata": {},
     "execution_count": 536
    }
   ],
   "source": [
    "OEE_Diff = df_weekly.sort_values(by=['Line', 'Date'])[['Line','Date','OEE %','OEE  Start point']]\n",
    "OEE_Diff['OEE_Diff'] = OEE_Diff.groupby('Line')['OEE %'].diff().fillna(df_weekly['OEE %'] - df_weekly['OEE  Start point'])\n",
    "df_weekly = df_weekly.merge(OEE_Diff[[\"Line\",\"Date\",\"OEE_Diff\"]], on=([\"Line\",\"Date\"]))\n",
    "df_weekly[[\"Line\",\"Date\",\"OEE %\",\"OEE_Diff\"]].head(50).sort_values(by=['Line', 'Date'])"
   ]
  },
  {
   "cell_type": "code",
   "execution_count": 538,
   "metadata": {},
   "outputs": [],
   "source": [
    "# Changeover_Diff = df_weekly.groupby(['Line',pd.Grouper(key='Date',freq='W')])['Changeover'].mean().reset_index()\n",
    "# Changeover_Diff[\"Changeover_Diff\"] = Changeover_diff[\"Changeover\"].diff()\n",
    "# df_weekly = df_weekly.merge(Changeover_diff[[\"Line\",\"Date\",\"Changeover_Diff\"]], on=([\"Line\",\"Date\"]))\n",
    "\n",
    "# df_weekly['Changeover_Diff'].fillna(df_weekly['start_changeover'] - df_weekly['Changeover'], inplace=True)"
   ]
  },
  {
   "cell_type": "code",
   "execution_count": 539,
   "metadata": {},
   "outputs": [],
   "source": [
    "Changeover_Diff = df_weekly.sort_values(by=['Line', 'Date'])[['Line','Date','Changeover','start_changeover']]\n",
    "Changeover_Diff['Changeover_Diff'] = Changeover_Diff.groupby('Line')['Changeover'].diff().fillna(df_weekly['start_changeover'] - df_weekly['Changeover'])\n",
    "df_weekly = df_weekly.merge(Changeover_Diff[[\"Line\",\"Date\",\"Changeover_Diff\"]], on=([\"Line\",\"Date\"]))"
   ]
  },
  {
   "cell_type": "code",
   "execution_count": 540,
   "metadata": {},
   "outputs": [],
   "source": [
    "Changeover_mean = df_weekly.sort_values(by=['Line', 'Date'])[['Line','Date','Changeover','start_changeover']]\n",
    "Changeover_mean['Changeover_rolling_mean'] = Changeover_mean.groupby('Line')['Changeover'].apply(lambda x : x.rolling(4,1).mean())\n",
    "df_weekly = df_weekly.merge(Changeover_mean[[\"Line\",\"Date\",\"Changeover_rolling_mean\"]], on=([\"Line\",\"Date\"]))"
   ]
  },
  {
   "cell_type": "markdown",
   "metadata": {},
   "source": [
    "#### Populate missing Unplanned Tech Loss\n",
    "\n",
    "- Create weekly min/max cols for Unplanned tech loss from any site   \n",
    "- Merge those columns into df_weekly   \n",
    "- fill any NaN rows with the max OEE calc'd for that week   \n",
    "\n",
    "**this might be flawed!!** "
   ]
  },
  {
   "cell_type": "code",
   "execution_count": 541,
   "metadata": {},
   "outputs": [
    {
     "output_type": "execute_result",
     "data": {
      "text/plain": [
       "         Week                  Line     OEE %  WeekOfYear    Year       Date  \\\n",
       "0    W13-2021       AL5 Packaging 1  0.046124        13.0  2021.0 2021-04-04   \n",
       "1    W13-2021           M21 Filling  0.046124        13.0  2021.0 2021-04-04   \n",
       "2    W13-2021           M18 Filling  0.046124        13.0  2021.0 2021-04-04   \n",
       "3    W13-2021    L25 Packaging Line  0.393740        13.0  2021.0 2021-04-04   \n",
       "4    W13-2021  SUPPO Packaging Line  0.432432        13.0  2021.0 2021-04-04   \n",
       "..        ...                   ...       ...         ...     ...        ...   \n",
       "213       NaN    L25 Packaging Line       NaN         NaN     NaN 2021-09-12   \n",
       "214       NaN    L18 Packaging Line       NaN         NaN     NaN 2021-09-12   \n",
       "215       NaN           M21 Filling       NaN         NaN     NaN 2021-09-12   \n",
       "216       NaN     C2 Packaging Line       NaN         NaN     NaN 2021-09-12   \n",
       "217       NaN           M22 Filling       NaN         NaN     NaN 2021-09-12   \n",
       "\n",
       "              Plant  OEE  Start point  OEE% Target (2022)  \\\n",
       "0         Frankfurt          0.479693               0.500   \n",
       "1         Frankfurt          0.599671               0.650   \n",
       "2         Frankfurt          0.443522               0.650   \n",
       "3             Tours          0.351564               0.478   \n",
       "4           Lisieux          0.353021               0.530   \n",
       "..              ...               ...                 ...   \n",
       "213           Tours               NaN                 NaN   \n",
       "214           Tours               NaN                 NaN   \n",
       "215       Frankfurt               NaN                 NaN   \n",
       "216  Maisons-Alfort               NaN                 NaN   \n",
       "217       Frankfurt               NaN                 NaN   \n",
       "\n",
       "     Unplanned_tech_loss  ...  Lessons and Sharing  \\\n",
       "0               0.465009  ...                  NaN   \n",
       "1               0.465009  ...                  NaN   \n",
       "2               0.114818  ...                  NaN   \n",
       "3               0.206618  ...                  NaN   \n",
       "4               0.148267  ...                  NaN   \n",
       "..                   ...  ...                  ...   \n",
       "213                  NaN  ...                  0.0   \n",
       "214                  NaN  ...                  0.0   \n",
       "215                  NaN  ...                  0.0   \n",
       "216                  NaN  ...                  0.0   \n",
       "217                  NaN  ...                  0.0   \n",
       "\n",
       "     Team Contribution and Spirit  Review_Date   WeekMin   WeekMax  OEE_Diff  \\\n",
       "0                             NaN   2021-04-15  0.046124  0.649336 -0.433569   \n",
       "1                             NaN   2021-04-15  0.046124  0.649336 -0.553548   \n",
       "2                             NaN   2021-04-15  0.046124  0.649336 -0.397398   \n",
       "3                             NaN   2021-04-15  0.046124  0.649336  0.042176   \n",
       "4                             NaN   2021-04-15  0.046124  0.649336  0.079411   \n",
       "..                            ...          ...       ...       ...       ...   \n",
       "213                           0.0   2021-09-16       NaN       NaN       NaN   \n",
       "214                           0.0   2021-09-16       NaN       NaN       NaN   \n",
       "215                           0.0   2021-09-16       NaN       NaN       NaN   \n",
       "216                           0.0   2021-09-16       NaN       NaN       NaN   \n",
       "217                           0.0   2021-09-16       NaN       NaN       NaN   \n",
       "\n",
       "     Changeover_Diff  Changeover_rolling_mean  WeekUTLMin  WeekUTLMax  \n",
       "0                NaN                      NaN    0.114818    0.465009  \n",
       "1                NaN                      NaN    0.114818    0.465009  \n",
       "2          -0.542447                 0.789781    0.114818    0.465009  \n",
       "3           0.150089                 0.132655    0.114818    0.465009  \n",
       "4          -0.077059                 0.178806    0.114818    0.465009  \n",
       "..               ...                      ...         ...         ...  \n",
       "213              NaN                 0.178769         NaN         NaN  \n",
       "214              NaN                 0.111640         NaN         NaN  \n",
       "215              NaN                 0.220155         NaN         NaN  \n",
       "216              NaN                 0.212684         NaN         NaN  \n",
       "217              NaN                 0.120819         NaN         NaN  \n",
       "\n",
       "[218 rows x 29 columns]"
      ],
      "text/html": "<div>\n<style scoped>\n    .dataframe tbody tr th:only-of-type {\n        vertical-align: middle;\n    }\n\n    .dataframe tbody tr th {\n        vertical-align: top;\n    }\n\n    .dataframe thead th {\n        text-align: right;\n    }\n</style>\n<table border=\"1\" class=\"dataframe\">\n  <thead>\n    <tr style=\"text-align: right;\">\n      <th></th>\n      <th>Week</th>\n      <th>Line</th>\n      <th>OEE %</th>\n      <th>WeekOfYear</th>\n      <th>Year</th>\n      <th>Date</th>\n      <th>Plant</th>\n      <th>OEE  Start point</th>\n      <th>OEE% Target (2022)</th>\n      <th>Unplanned_tech_loss</th>\n      <th>...</th>\n      <th>Lessons and Sharing</th>\n      <th>Team Contribution and Spirit</th>\n      <th>Review_Date</th>\n      <th>WeekMin</th>\n      <th>WeekMax</th>\n      <th>OEE_Diff</th>\n      <th>Changeover_Diff</th>\n      <th>Changeover_rolling_mean</th>\n      <th>WeekUTLMin</th>\n      <th>WeekUTLMax</th>\n    </tr>\n  </thead>\n  <tbody>\n    <tr>\n      <th>0</th>\n      <td>W13-2021</td>\n      <td>AL5 Packaging 1</td>\n      <td>0.046124</td>\n      <td>13.0</td>\n      <td>2021.0</td>\n      <td>2021-04-04</td>\n      <td>Frankfurt</td>\n      <td>0.479693</td>\n      <td>0.500</td>\n      <td>0.465009</td>\n      <td>...</td>\n      <td>NaN</td>\n      <td>NaN</td>\n      <td>2021-04-15</td>\n      <td>0.046124</td>\n      <td>0.649336</td>\n      <td>-0.433569</td>\n      <td>NaN</td>\n      <td>NaN</td>\n      <td>0.114818</td>\n      <td>0.465009</td>\n    </tr>\n    <tr>\n      <th>1</th>\n      <td>W13-2021</td>\n      <td>M21 Filling</td>\n      <td>0.046124</td>\n      <td>13.0</td>\n      <td>2021.0</td>\n      <td>2021-04-04</td>\n      <td>Frankfurt</td>\n      <td>0.599671</td>\n      <td>0.650</td>\n      <td>0.465009</td>\n      <td>...</td>\n      <td>NaN</td>\n      <td>NaN</td>\n      <td>2021-04-15</td>\n      <td>0.046124</td>\n      <td>0.649336</td>\n      <td>-0.553548</td>\n      <td>NaN</td>\n      <td>NaN</td>\n      <td>0.114818</td>\n      <td>0.465009</td>\n    </tr>\n    <tr>\n      <th>2</th>\n      <td>W13-2021</td>\n      <td>M18 Filling</td>\n      <td>0.046124</td>\n      <td>13.0</td>\n      <td>2021.0</td>\n      <td>2021-04-04</td>\n      <td>Frankfurt</td>\n      <td>0.443522</td>\n      <td>0.650</td>\n      <td>0.114818</td>\n      <td>...</td>\n      <td>NaN</td>\n      <td>NaN</td>\n      <td>2021-04-15</td>\n      <td>0.046124</td>\n      <td>0.649336</td>\n      <td>-0.397398</td>\n      <td>-0.542447</td>\n      <td>0.789781</td>\n      <td>0.114818</td>\n      <td>0.465009</td>\n    </tr>\n    <tr>\n      <th>3</th>\n      <td>W13-2021</td>\n      <td>L25 Packaging Line</td>\n      <td>0.393740</td>\n      <td>13.0</td>\n      <td>2021.0</td>\n      <td>2021-04-04</td>\n      <td>Tours</td>\n      <td>0.351564</td>\n      <td>0.478</td>\n      <td>0.206618</td>\n      <td>...</td>\n      <td>NaN</td>\n      <td>NaN</td>\n      <td>2021-04-15</td>\n      <td>0.046124</td>\n      <td>0.649336</td>\n      <td>0.042176</td>\n      <td>0.150089</td>\n      <td>0.132655</td>\n      <td>0.114818</td>\n      <td>0.465009</td>\n    </tr>\n    <tr>\n      <th>4</th>\n      <td>W13-2021</td>\n      <td>SUPPO Packaging Line</td>\n      <td>0.432432</td>\n      <td>13.0</td>\n      <td>2021.0</td>\n      <td>2021-04-04</td>\n      <td>Lisieux</td>\n      <td>0.353021</td>\n      <td>0.530</td>\n      <td>0.148267</td>\n      <td>...</td>\n      <td>NaN</td>\n      <td>NaN</td>\n      <td>2021-04-15</td>\n      <td>0.046124</td>\n      <td>0.649336</td>\n      <td>0.079411</td>\n      <td>-0.077059</td>\n      <td>0.178806</td>\n      <td>0.114818</td>\n      <td>0.465009</td>\n    </tr>\n    <tr>\n      <th>...</th>\n      <td>...</td>\n      <td>...</td>\n      <td>...</td>\n      <td>...</td>\n      <td>...</td>\n      <td>...</td>\n      <td>...</td>\n      <td>...</td>\n      <td>...</td>\n      <td>...</td>\n      <td>...</td>\n      <td>...</td>\n      <td>...</td>\n      <td>...</td>\n      <td>...</td>\n      <td>...</td>\n      <td>...</td>\n      <td>...</td>\n      <td>...</td>\n      <td>...</td>\n      <td>...</td>\n    </tr>\n    <tr>\n      <th>213</th>\n      <td>NaN</td>\n      <td>L25 Packaging Line</td>\n      <td>NaN</td>\n      <td>NaN</td>\n      <td>NaN</td>\n      <td>2021-09-12</td>\n      <td>Tours</td>\n      <td>NaN</td>\n      <td>NaN</td>\n      <td>NaN</td>\n      <td>...</td>\n      <td>0.0</td>\n      <td>0.0</td>\n      <td>2021-09-16</td>\n      <td>NaN</td>\n      <td>NaN</td>\n      <td>NaN</td>\n      <td>NaN</td>\n      <td>0.178769</td>\n      <td>NaN</td>\n      <td>NaN</td>\n    </tr>\n    <tr>\n      <th>214</th>\n      <td>NaN</td>\n      <td>L18 Packaging Line</td>\n      <td>NaN</td>\n      <td>NaN</td>\n      <td>NaN</td>\n      <td>2021-09-12</td>\n      <td>Tours</td>\n      <td>NaN</td>\n      <td>NaN</td>\n      <td>NaN</td>\n      <td>...</td>\n      <td>0.0</td>\n      <td>0.0</td>\n      <td>2021-09-16</td>\n      <td>NaN</td>\n      <td>NaN</td>\n      <td>NaN</td>\n      <td>NaN</td>\n      <td>0.111640</td>\n      <td>NaN</td>\n      <td>NaN</td>\n    </tr>\n    <tr>\n      <th>215</th>\n      <td>NaN</td>\n      <td>M21 Filling</td>\n      <td>NaN</td>\n      <td>NaN</td>\n      <td>NaN</td>\n      <td>2021-09-12</td>\n      <td>Frankfurt</td>\n      <td>NaN</td>\n      <td>NaN</td>\n      <td>NaN</td>\n      <td>...</td>\n      <td>0.0</td>\n      <td>0.0</td>\n      <td>2021-09-16</td>\n      <td>NaN</td>\n      <td>NaN</td>\n      <td>NaN</td>\n      <td>NaN</td>\n      <td>0.220155</td>\n      <td>NaN</td>\n      <td>NaN</td>\n    </tr>\n    <tr>\n      <th>216</th>\n      <td>NaN</td>\n      <td>C2 Packaging Line</td>\n      <td>NaN</td>\n      <td>NaN</td>\n      <td>NaN</td>\n      <td>2021-09-12</td>\n      <td>Maisons-Alfort</td>\n      <td>NaN</td>\n      <td>NaN</td>\n      <td>NaN</td>\n      <td>...</td>\n      <td>0.0</td>\n      <td>0.0</td>\n      <td>2021-09-16</td>\n      <td>NaN</td>\n      <td>NaN</td>\n      <td>NaN</td>\n      <td>NaN</td>\n      <td>0.212684</td>\n      <td>NaN</td>\n      <td>NaN</td>\n    </tr>\n    <tr>\n      <th>217</th>\n      <td>NaN</td>\n      <td>M22 Filling</td>\n      <td>NaN</td>\n      <td>NaN</td>\n      <td>NaN</td>\n      <td>2021-09-12</td>\n      <td>Frankfurt</td>\n      <td>NaN</td>\n      <td>NaN</td>\n      <td>NaN</td>\n      <td>...</td>\n      <td>0.0</td>\n      <td>0.0</td>\n      <td>2021-09-16</td>\n      <td>NaN</td>\n      <td>NaN</td>\n      <td>NaN</td>\n      <td>NaN</td>\n      <td>0.120819</td>\n      <td>NaN</td>\n      <td>NaN</td>\n    </tr>\n  </tbody>\n</table>\n<p>218 rows × 29 columns</p>\n</div>"
     },
     "metadata": {},
     "execution_count": 541
    }
   ],
   "source": [
    "df_weekly_minmax = (df_weekly.assign(Data_Value=df_weekly['Unplanned_tech_loss'].abs())\n",
    "       .groupby(pd.Grouper(key='Date',freq='W'))['Unplanned_tech_loss'].agg([('Min' , 'min'), ('Max', 'max')])\n",
    "       .add_prefix('WeekUTL'))\n",
    "df_weekly_minmax.reset_index(inplace=True)\n",
    "df_weekly = df_weekly.merge(df_weekly_minmax[['Date','WeekUTLMin','WeekUTLMax']])\n",
    "df_weekly['Unplanned_tech_loss'].fillna(df_weekly.WeekUTLMax, inplace=True)\n",
    "df_weekly"
   ]
  },
  {
   "cell_type": "markdown",
   "metadata": {},
   "source": [
    "#### Populate missing Changeover "
   ]
  },
  {
   "cell_type": "code",
   "execution_count": 542,
   "metadata": {},
   "outputs": [
    {
     "output_type": "execute_result",
     "data": {
      "text/plain": [
       "         Week                  Line     OEE %  WeekOfYear    Year       Date  \\\n",
       "0    W13-2021       AL5 Packaging 1  0.046124        13.0  2021.0 2021-04-04   \n",
       "1    W13-2021           M21 Filling  0.046124        13.0  2021.0 2021-04-04   \n",
       "2    W13-2021           M18 Filling  0.046124        13.0  2021.0 2021-04-04   \n",
       "3    W13-2021    L25 Packaging Line  0.393740        13.0  2021.0 2021-04-04   \n",
       "4    W13-2021  SUPPO Packaging Line  0.432432        13.0  2021.0 2021-04-04   \n",
       "..        ...                   ...       ...         ...     ...        ...   \n",
       "213       NaN    L25 Packaging Line       NaN         NaN     NaN 2021-09-12   \n",
       "214       NaN    L18 Packaging Line       NaN         NaN     NaN 2021-09-12   \n",
       "215       NaN           M21 Filling       NaN         NaN     NaN 2021-09-12   \n",
       "216       NaN     C2 Packaging Line       NaN         NaN     NaN 2021-09-12   \n",
       "217       NaN           M22 Filling       NaN         NaN     NaN 2021-09-12   \n",
       "\n",
       "              Plant  OEE  Start point  OEE% Target (2022)  \\\n",
       "0         Frankfurt          0.479693               0.500   \n",
       "1         Frankfurt          0.599671               0.650   \n",
       "2         Frankfurt          0.443522               0.650   \n",
       "3             Tours          0.351564               0.478   \n",
       "4           Lisieux          0.353021               0.530   \n",
       "..              ...               ...                 ...   \n",
       "213           Tours               NaN                 NaN   \n",
       "214           Tours               NaN                 NaN   \n",
       "215       Frankfurt               NaN                 NaN   \n",
       "216  Maisons-Alfort               NaN                 NaN   \n",
       "217       Frankfurt               NaN                 NaN   \n",
       "\n",
       "     Unplanned_tech_loss  ...  Review_Date   WeekMin   WeekMax  OEE_Diff  \\\n",
       "0               0.465009  ...   2021-04-15  0.046124  0.649336 -0.433569   \n",
       "1               0.465009  ...   2021-04-15  0.046124  0.649336 -0.553548   \n",
       "2               0.114818  ...   2021-04-15  0.046124  0.649336 -0.397398   \n",
       "3               0.206618  ...   2021-04-15  0.046124  0.649336  0.042176   \n",
       "4               0.148267  ...   2021-04-15  0.046124  0.649336  0.079411   \n",
       "..                   ...  ...          ...       ...       ...       ...   \n",
       "213                  NaN  ...   2021-09-16       NaN       NaN       NaN   \n",
       "214                  NaN  ...   2021-09-16       NaN       NaN       NaN   \n",
       "215                  NaN  ...   2021-09-16       NaN       NaN       NaN   \n",
       "216                  NaN  ...   2021-09-16       NaN       NaN       NaN   \n",
       "217                  NaN  ...   2021-09-16       NaN       NaN       NaN   \n",
       "\n",
       "     Changeover_Diff  Changeover_rolling_mean  WeekUTLMin  WeekUTLMax  \\\n",
       "0                NaN                      NaN    0.114818    0.465009   \n",
       "1                NaN                      NaN    0.114818    0.465009   \n",
       "2          -0.542447                 0.789781    0.114818    0.465009   \n",
       "3           0.150089                 0.132655    0.114818    0.465009   \n",
       "4          -0.077059                 0.178806    0.114818    0.465009   \n",
       "..               ...                      ...         ...         ...   \n",
       "213              NaN                 0.178769         NaN         NaN   \n",
       "214              NaN                 0.111640         NaN         NaN   \n",
       "215              NaN                 0.220155         NaN         NaN   \n",
       "216              NaN                 0.212684         NaN         NaN   \n",
       "217              NaN                 0.120819         NaN         NaN   \n",
       "\n",
       "     WeekChangeoverMin  WeekChangeoverMax  \n",
       "0             0.035164           0.789781  \n",
       "1             0.035164           0.789781  \n",
       "2             0.035164           0.789781  \n",
       "3             0.035164           0.789781  \n",
       "4             0.035164           0.789781  \n",
       "..                 ...                ...  \n",
       "213                NaN                NaN  \n",
       "214                NaN                NaN  \n",
       "215                NaN                NaN  \n",
       "216                NaN                NaN  \n",
       "217                NaN                NaN  \n",
       "\n",
       "[218 rows x 31 columns]"
      ],
      "text/html": "<div>\n<style scoped>\n    .dataframe tbody tr th:only-of-type {\n        vertical-align: middle;\n    }\n\n    .dataframe tbody tr th {\n        vertical-align: top;\n    }\n\n    .dataframe thead th {\n        text-align: right;\n    }\n</style>\n<table border=\"1\" class=\"dataframe\">\n  <thead>\n    <tr style=\"text-align: right;\">\n      <th></th>\n      <th>Week</th>\n      <th>Line</th>\n      <th>OEE %</th>\n      <th>WeekOfYear</th>\n      <th>Year</th>\n      <th>Date</th>\n      <th>Plant</th>\n      <th>OEE  Start point</th>\n      <th>OEE% Target (2022)</th>\n      <th>Unplanned_tech_loss</th>\n      <th>...</th>\n      <th>Review_Date</th>\n      <th>WeekMin</th>\n      <th>WeekMax</th>\n      <th>OEE_Diff</th>\n      <th>Changeover_Diff</th>\n      <th>Changeover_rolling_mean</th>\n      <th>WeekUTLMin</th>\n      <th>WeekUTLMax</th>\n      <th>WeekChangeoverMin</th>\n      <th>WeekChangeoverMax</th>\n    </tr>\n  </thead>\n  <tbody>\n    <tr>\n      <th>0</th>\n      <td>W13-2021</td>\n      <td>AL5 Packaging 1</td>\n      <td>0.046124</td>\n      <td>13.0</td>\n      <td>2021.0</td>\n      <td>2021-04-04</td>\n      <td>Frankfurt</td>\n      <td>0.479693</td>\n      <td>0.500</td>\n      <td>0.465009</td>\n      <td>...</td>\n      <td>2021-04-15</td>\n      <td>0.046124</td>\n      <td>0.649336</td>\n      <td>-0.433569</td>\n      <td>NaN</td>\n      <td>NaN</td>\n      <td>0.114818</td>\n      <td>0.465009</td>\n      <td>0.035164</td>\n      <td>0.789781</td>\n    </tr>\n    <tr>\n      <th>1</th>\n      <td>W13-2021</td>\n      <td>M21 Filling</td>\n      <td>0.046124</td>\n      <td>13.0</td>\n      <td>2021.0</td>\n      <td>2021-04-04</td>\n      <td>Frankfurt</td>\n      <td>0.599671</td>\n      <td>0.650</td>\n      <td>0.465009</td>\n      <td>...</td>\n      <td>2021-04-15</td>\n      <td>0.046124</td>\n      <td>0.649336</td>\n      <td>-0.553548</td>\n      <td>NaN</td>\n      <td>NaN</td>\n      <td>0.114818</td>\n      <td>0.465009</td>\n      <td>0.035164</td>\n      <td>0.789781</td>\n    </tr>\n    <tr>\n      <th>2</th>\n      <td>W13-2021</td>\n      <td>M18 Filling</td>\n      <td>0.046124</td>\n      <td>13.0</td>\n      <td>2021.0</td>\n      <td>2021-04-04</td>\n      <td>Frankfurt</td>\n      <td>0.443522</td>\n      <td>0.650</td>\n      <td>0.114818</td>\n      <td>...</td>\n      <td>2021-04-15</td>\n      <td>0.046124</td>\n      <td>0.649336</td>\n      <td>-0.397398</td>\n      <td>-0.542447</td>\n      <td>0.789781</td>\n      <td>0.114818</td>\n      <td>0.465009</td>\n      <td>0.035164</td>\n      <td>0.789781</td>\n    </tr>\n    <tr>\n      <th>3</th>\n      <td>W13-2021</td>\n      <td>L25 Packaging Line</td>\n      <td>0.393740</td>\n      <td>13.0</td>\n      <td>2021.0</td>\n      <td>2021-04-04</td>\n      <td>Tours</td>\n      <td>0.351564</td>\n      <td>0.478</td>\n      <td>0.206618</td>\n      <td>...</td>\n      <td>2021-04-15</td>\n      <td>0.046124</td>\n      <td>0.649336</td>\n      <td>0.042176</td>\n      <td>0.150089</td>\n      <td>0.132655</td>\n      <td>0.114818</td>\n      <td>0.465009</td>\n      <td>0.035164</td>\n      <td>0.789781</td>\n    </tr>\n    <tr>\n      <th>4</th>\n      <td>W13-2021</td>\n      <td>SUPPO Packaging Line</td>\n      <td>0.432432</td>\n      <td>13.0</td>\n      <td>2021.0</td>\n      <td>2021-04-04</td>\n      <td>Lisieux</td>\n      <td>0.353021</td>\n      <td>0.530</td>\n      <td>0.148267</td>\n      <td>...</td>\n      <td>2021-04-15</td>\n      <td>0.046124</td>\n      <td>0.649336</td>\n      <td>0.079411</td>\n      <td>-0.077059</td>\n      <td>0.178806</td>\n      <td>0.114818</td>\n      <td>0.465009</td>\n      <td>0.035164</td>\n      <td>0.789781</td>\n    </tr>\n    <tr>\n      <th>...</th>\n      <td>...</td>\n      <td>...</td>\n      <td>...</td>\n      <td>...</td>\n      <td>...</td>\n      <td>...</td>\n      <td>...</td>\n      <td>...</td>\n      <td>...</td>\n      <td>...</td>\n      <td>...</td>\n      <td>...</td>\n      <td>...</td>\n      <td>...</td>\n      <td>...</td>\n      <td>...</td>\n      <td>...</td>\n      <td>...</td>\n      <td>...</td>\n      <td>...</td>\n      <td>...</td>\n    </tr>\n    <tr>\n      <th>213</th>\n      <td>NaN</td>\n      <td>L25 Packaging Line</td>\n      <td>NaN</td>\n      <td>NaN</td>\n      <td>NaN</td>\n      <td>2021-09-12</td>\n      <td>Tours</td>\n      <td>NaN</td>\n      <td>NaN</td>\n      <td>NaN</td>\n      <td>...</td>\n      <td>2021-09-16</td>\n      <td>NaN</td>\n      <td>NaN</td>\n      <td>NaN</td>\n      <td>NaN</td>\n      <td>0.178769</td>\n      <td>NaN</td>\n      <td>NaN</td>\n      <td>NaN</td>\n      <td>NaN</td>\n    </tr>\n    <tr>\n      <th>214</th>\n      <td>NaN</td>\n      <td>L18 Packaging Line</td>\n      <td>NaN</td>\n      <td>NaN</td>\n      <td>NaN</td>\n      <td>2021-09-12</td>\n      <td>Tours</td>\n      <td>NaN</td>\n      <td>NaN</td>\n      <td>NaN</td>\n      <td>...</td>\n      <td>2021-09-16</td>\n      <td>NaN</td>\n      <td>NaN</td>\n      <td>NaN</td>\n      <td>NaN</td>\n      <td>0.111640</td>\n      <td>NaN</td>\n      <td>NaN</td>\n      <td>NaN</td>\n      <td>NaN</td>\n    </tr>\n    <tr>\n      <th>215</th>\n      <td>NaN</td>\n      <td>M21 Filling</td>\n      <td>NaN</td>\n      <td>NaN</td>\n      <td>NaN</td>\n      <td>2021-09-12</td>\n      <td>Frankfurt</td>\n      <td>NaN</td>\n      <td>NaN</td>\n      <td>NaN</td>\n      <td>...</td>\n      <td>2021-09-16</td>\n      <td>NaN</td>\n      <td>NaN</td>\n      <td>NaN</td>\n      <td>NaN</td>\n      <td>0.220155</td>\n      <td>NaN</td>\n      <td>NaN</td>\n      <td>NaN</td>\n      <td>NaN</td>\n    </tr>\n    <tr>\n      <th>216</th>\n      <td>NaN</td>\n      <td>C2 Packaging Line</td>\n      <td>NaN</td>\n      <td>NaN</td>\n      <td>NaN</td>\n      <td>2021-09-12</td>\n      <td>Maisons-Alfort</td>\n      <td>NaN</td>\n      <td>NaN</td>\n      <td>NaN</td>\n      <td>...</td>\n      <td>2021-09-16</td>\n      <td>NaN</td>\n      <td>NaN</td>\n      <td>NaN</td>\n      <td>NaN</td>\n      <td>0.212684</td>\n      <td>NaN</td>\n      <td>NaN</td>\n      <td>NaN</td>\n      <td>NaN</td>\n    </tr>\n    <tr>\n      <th>217</th>\n      <td>NaN</td>\n      <td>M22 Filling</td>\n      <td>NaN</td>\n      <td>NaN</td>\n      <td>NaN</td>\n      <td>2021-09-12</td>\n      <td>Frankfurt</td>\n      <td>NaN</td>\n      <td>NaN</td>\n      <td>NaN</td>\n      <td>...</td>\n      <td>2021-09-16</td>\n      <td>NaN</td>\n      <td>NaN</td>\n      <td>NaN</td>\n      <td>NaN</td>\n      <td>0.120819</td>\n      <td>NaN</td>\n      <td>NaN</td>\n      <td>NaN</td>\n      <td>NaN</td>\n    </tr>\n  </tbody>\n</table>\n<p>218 rows × 31 columns</p>\n</div>"
     },
     "metadata": {},
     "execution_count": 542
    }
   ],
   "source": [
    "df_weekly_minmax = (df_weekly.assign(Data_Value=df_weekly['Changeover'].abs())\n",
    "       .groupby(pd.Grouper(key='Date',freq='W'))['Changeover'].agg([('Min' , 'min'), ('Max', 'max')])\n",
    "       .add_prefix('WeekChangeover'))\n",
    "df_weekly_minmax.reset_index(inplace=True)\n",
    "df_weekly = df_weekly.merge(df_weekly_minmax[['Date','WeekChangeoverMin','WeekChangeoverMax']])\n",
    "df_weekly['Changeover'].fillna(df_weekly.WeekChangeoverMax, inplace=True)\n",
    "df_weekly"
   ]
  },
  {
   "cell_type": "markdown",
   "metadata": {},
   "source": [
    "#### Populate missing start_changeover (NaN)\n",
    "If we've got this far and you still don't have a start_changeover, then you're a new site and can have this week's Changeover value"
   ]
  },
  {
   "cell_type": "markdown",
   "metadata": {},
   "source": [
    "These rows still have NaN Changeover values"
   ]
  },
  {
   "cell_type": "code",
   "execution_count": 543,
   "metadata": {},
   "outputs": [
    {
     "output_type": "execute_result",
     "data": {
      "text/plain": [
       "                       Line       Date  Changeover  start_changeover\n",
       "188             M22 Filling 2021-08-15         NaN               NaN\n",
       "189             M21 Filling 2021-08-15         NaN               NaN\n",
       "190             M18 Filling 2021-08-15         NaN               NaN\n",
       "191                     AL6 2021-08-15         NaN               NaN\n",
       "192         AL5 Packaging 1 2021-08-15         NaN               NaN\n",
       "193    SUPPO Packaging Line 2021-08-15         NaN               NaN\n",
       "194    TR200 Packaging Line 2021-08-15         NaN               NaN\n",
       "195                  GAMMA1 2021-08-15         NaN               NaN\n",
       "196       C2 Packaging Line 2021-08-15         NaN               NaN\n",
       "197               IMA C80/2 2021-08-15         NaN               NaN\n",
       "198          MEDISEAL PURAN 2021-08-15         NaN               NaN\n",
       "199  LINE 01 - UHLMANN 1880 2021-08-15         NaN               NaN\n",
       "200      L25 Packaging Line 2021-08-15         NaN               NaN\n",
       "201      L18 Packaging Line 2021-08-15         NaN               NaN\n",
       "202       C9 Packaging Line 2021-08-15         NaN               NaN\n",
       "203             M18 Filling 2021-09-12         NaN               NaN\n",
       "204                     AL6 2021-09-12         NaN               NaN\n",
       "205         AL5 Packaging 1 2021-09-12         NaN               NaN\n",
       "206    SUPPO Packaging Line 2021-09-12         NaN               NaN\n",
       "207    TR200 Packaging Line 2021-09-12         NaN               NaN\n",
       "208       C9 Packaging Line 2021-09-12         NaN               NaN\n",
       "209          MEDISEAL PURAN 2021-09-12         NaN               NaN\n",
       "210               IMA C80/2 2021-09-12         NaN               NaN\n",
       "211                  GAMMA1 2021-09-12         NaN               NaN\n",
       "212  LINE 01 - UHLMANN 1880 2021-09-12         NaN               NaN\n",
       "213      L25 Packaging Line 2021-09-12         NaN               NaN\n",
       "214      L18 Packaging Line 2021-09-12         NaN               NaN\n",
       "215             M21 Filling 2021-09-12         NaN               NaN\n",
       "216       C2 Packaging Line 2021-09-12         NaN               NaN\n",
       "217             M22 Filling 2021-09-12         NaN               NaN"
      ],
      "text/html": "<div>\n<style scoped>\n    .dataframe tbody tr th:only-of-type {\n        vertical-align: middle;\n    }\n\n    .dataframe tbody tr th {\n        vertical-align: top;\n    }\n\n    .dataframe thead th {\n        text-align: right;\n    }\n</style>\n<table border=\"1\" class=\"dataframe\">\n  <thead>\n    <tr style=\"text-align: right;\">\n      <th></th>\n      <th>Line</th>\n      <th>Date</th>\n      <th>Changeover</th>\n      <th>start_changeover</th>\n    </tr>\n  </thead>\n  <tbody>\n    <tr>\n      <th>188</th>\n      <td>M22 Filling</td>\n      <td>2021-08-15</td>\n      <td>NaN</td>\n      <td>NaN</td>\n    </tr>\n    <tr>\n      <th>189</th>\n      <td>M21 Filling</td>\n      <td>2021-08-15</td>\n      <td>NaN</td>\n      <td>NaN</td>\n    </tr>\n    <tr>\n      <th>190</th>\n      <td>M18 Filling</td>\n      <td>2021-08-15</td>\n      <td>NaN</td>\n      <td>NaN</td>\n    </tr>\n    <tr>\n      <th>191</th>\n      <td>AL6</td>\n      <td>2021-08-15</td>\n      <td>NaN</td>\n      <td>NaN</td>\n    </tr>\n    <tr>\n      <th>192</th>\n      <td>AL5 Packaging 1</td>\n      <td>2021-08-15</td>\n      <td>NaN</td>\n      <td>NaN</td>\n    </tr>\n    <tr>\n      <th>193</th>\n      <td>SUPPO Packaging Line</td>\n      <td>2021-08-15</td>\n      <td>NaN</td>\n      <td>NaN</td>\n    </tr>\n    <tr>\n      <th>194</th>\n      <td>TR200 Packaging Line</td>\n      <td>2021-08-15</td>\n      <td>NaN</td>\n      <td>NaN</td>\n    </tr>\n    <tr>\n      <th>195</th>\n      <td>GAMMA1</td>\n      <td>2021-08-15</td>\n      <td>NaN</td>\n      <td>NaN</td>\n    </tr>\n    <tr>\n      <th>196</th>\n      <td>C2 Packaging Line</td>\n      <td>2021-08-15</td>\n      <td>NaN</td>\n      <td>NaN</td>\n    </tr>\n    <tr>\n      <th>197</th>\n      <td>IMA C80/2</td>\n      <td>2021-08-15</td>\n      <td>NaN</td>\n      <td>NaN</td>\n    </tr>\n    <tr>\n      <th>198</th>\n      <td>MEDISEAL PURAN</td>\n      <td>2021-08-15</td>\n      <td>NaN</td>\n      <td>NaN</td>\n    </tr>\n    <tr>\n      <th>199</th>\n      <td>LINE 01 - UHLMANN 1880</td>\n      <td>2021-08-15</td>\n      <td>NaN</td>\n      <td>NaN</td>\n    </tr>\n    <tr>\n      <th>200</th>\n      <td>L25 Packaging Line</td>\n      <td>2021-08-15</td>\n      <td>NaN</td>\n      <td>NaN</td>\n    </tr>\n    <tr>\n      <th>201</th>\n      <td>L18 Packaging Line</td>\n      <td>2021-08-15</td>\n      <td>NaN</td>\n      <td>NaN</td>\n    </tr>\n    <tr>\n      <th>202</th>\n      <td>C9 Packaging Line</td>\n      <td>2021-08-15</td>\n      <td>NaN</td>\n      <td>NaN</td>\n    </tr>\n    <tr>\n      <th>203</th>\n      <td>M18 Filling</td>\n      <td>2021-09-12</td>\n      <td>NaN</td>\n      <td>NaN</td>\n    </tr>\n    <tr>\n      <th>204</th>\n      <td>AL6</td>\n      <td>2021-09-12</td>\n      <td>NaN</td>\n      <td>NaN</td>\n    </tr>\n    <tr>\n      <th>205</th>\n      <td>AL5 Packaging 1</td>\n      <td>2021-09-12</td>\n      <td>NaN</td>\n      <td>NaN</td>\n    </tr>\n    <tr>\n      <th>206</th>\n      <td>SUPPO Packaging Line</td>\n      <td>2021-09-12</td>\n      <td>NaN</td>\n      <td>NaN</td>\n    </tr>\n    <tr>\n      <th>207</th>\n      <td>TR200 Packaging Line</td>\n      <td>2021-09-12</td>\n      <td>NaN</td>\n      <td>NaN</td>\n    </tr>\n    <tr>\n      <th>208</th>\n      <td>C9 Packaging Line</td>\n      <td>2021-09-12</td>\n      <td>NaN</td>\n      <td>NaN</td>\n    </tr>\n    <tr>\n      <th>209</th>\n      <td>MEDISEAL PURAN</td>\n      <td>2021-09-12</td>\n      <td>NaN</td>\n      <td>NaN</td>\n    </tr>\n    <tr>\n      <th>210</th>\n      <td>IMA C80/2</td>\n      <td>2021-09-12</td>\n      <td>NaN</td>\n      <td>NaN</td>\n    </tr>\n    <tr>\n      <th>211</th>\n      <td>GAMMA1</td>\n      <td>2021-09-12</td>\n      <td>NaN</td>\n      <td>NaN</td>\n    </tr>\n    <tr>\n      <th>212</th>\n      <td>LINE 01 - UHLMANN 1880</td>\n      <td>2021-09-12</td>\n      <td>NaN</td>\n      <td>NaN</td>\n    </tr>\n    <tr>\n      <th>213</th>\n      <td>L25 Packaging Line</td>\n      <td>2021-09-12</td>\n      <td>NaN</td>\n      <td>NaN</td>\n    </tr>\n    <tr>\n      <th>214</th>\n      <td>L18 Packaging Line</td>\n      <td>2021-09-12</td>\n      <td>NaN</td>\n      <td>NaN</td>\n    </tr>\n    <tr>\n      <th>215</th>\n      <td>M21 Filling</td>\n      <td>2021-09-12</td>\n      <td>NaN</td>\n      <td>NaN</td>\n    </tr>\n    <tr>\n      <th>216</th>\n      <td>C2 Packaging Line</td>\n      <td>2021-09-12</td>\n      <td>NaN</td>\n      <td>NaN</td>\n    </tr>\n    <tr>\n      <th>217</th>\n      <td>M22 Filling</td>\n      <td>2021-09-12</td>\n      <td>NaN</td>\n      <td>NaN</td>\n    </tr>\n  </tbody>\n</table>\n</div>"
     },
     "metadata": {},
     "execution_count": 543
    }
   ],
   "source": [
    "df_weekly[['Line','Date','Changeover','start_changeover']][df_weekly['Changeover'].isna()]"
   ]
  },
  {
   "cell_type": "code",
   "execution_count": 544,
   "metadata": {},
   "outputs": [],
   "source": [
    "df_weekly.start_changeover.fillna(df_weekly.Changeover, inplace=True)\n",
    "df_weekly['OEE  Start point'].fillna(df_weekly['OEE %'], inplace=True)\n",
    "df_weekly['OEE% Target (2022)'].fillna(0.65, inplace=True)"
   ]
  },
  {
   "cell_type": "markdown",
   "metadata": {},
   "source": [
    "#### Sector times"
   ]
  },
  {
   "cell_type": "code",
   "execution_count": 545,
   "metadata": {},
   "outputs": [
    {
     "output_type": "execute_result",
     "data": {
      "text/plain": [
       "Line                  Date      \n",
       "AL5 Packaging 1       2021-04-04    1.158450\n",
       "                      2021-04-11    0.440969\n",
       "                      2021-04-18    0.314179\n",
       "                      2021-04-25    0.183433\n",
       "                      2021-05-02    0.607727\n",
       "                                      ...   \n",
       "TR200 Packaging Line  2021-06-20    0.635328\n",
       "                      2021-06-27    0.297245\n",
       "                      2021-07-04    1.544698\n",
       "                      2021-08-15    0.526818\n",
       "                      2021-09-12    0.413974\n",
       "Name: lap_time, Length: 218, dtype: float64"
      ]
     },
     "metadata": {},
     "execution_count": 545
    }
   ],
   "source": [
    "# df_weekly['sector_1'] = (df_weekly['WeekMax'] - df_weekly['OEE %'])\n",
    "# df_weekly['sector_1'] = (df_weekly['OEE  Start point'] - df_weekly['OEE %'])\n",
    "df_weekly['sector_1'] = df_weekly['OEE_Diff'].mul(-1)\n",
    "df_weekly['sector_2'] = df_weekly['rolling_std']\n",
    "df_weekly['sector_3'] = df_weekly['Unplanned_tech_loss']\n",
    "# df_weekly['sector_4'] = (df_weekly['start_changeover'] - df_weekly['Changeover'])\n",
    "# df_weekly['sector_4'] = (df_weekly['Changeover'] - df_weekly['start_changeover'])\n",
    "df_weekly['sector_4'] = df_weekly['Changeover_rolling_mean']\n",
    "# take 10% of the sector5-9 scores \n",
    "df_weekly[['sector_5','sector_6','sector_7','sector_8','sector_9']] = df_weekly[['Best Solution','Best Innovation','Improvement Iterations','Lessons and Sharing','Team Contribution and Spirit']] * -0.1\n",
    "df_weekly[['sector_5','sector_6','sector_7','sector_8','sector_9']] = df_weekly[['sector_5','sector_6','sector_7','sector_8','sector_9']].fillna(0)\n",
    "\n",
    "# we'll use these in the absence of values for a sector\n",
    "df_weekly[['sector_1','sector_2','sector_3','sector_4']] = df_weekly[['sector_1','sector_2','sector_3','sector_4']].fillna(df_weekly[['sector_1','sector_2','sector_3','sector_4']].mean())\n",
    "\n",
    "#this will sum and handle the NaN\n",
    "df_weekly['lap_time'] = df_weekly[['sector_1','sector_2','sector_3','sector_4','sector_5','sector_6','sector_7','sector_8','sector_9']].sum(axis=1)\n",
    "\n",
    "# now add the pole['Laptime'] from fastf1 to the lap_time adjustment we've created\n",
    "# just use 88 secs rather than playing with timedeltas for now\n",
    "# df_weekly['lap_time'] = pole['LapTime'] + pd.to_timedelta(df_weekly['lap_time'], unit='S')\n",
    "# df_weekly['lap_time'] = 88 + df_weekly['lap_time']\n",
    "df_weekly.groupby(['Line', pd.Grouper(key='Date', freq='W')])['lap_time'].sum()\n",
    "# print (df_weekly['sector_1_time'] , df_weekly['sector_2_time'] , df_weekly['sector_3_time'], df_weekly['sector_4_time'])"
   ]
  },
  {
   "cell_type": "markdown",
   "metadata": {},
   "source": [
    "#### Write out df_weekly to excel"
   ]
  },
  {
   "cell_type": "code",
   "execution_count": 546,
   "metadata": {},
   "outputs": [],
   "source": [
    "df_weekly.to_excel(output_dir + \"df_weekly_with_calcs.xlsx\")"
   ]
  },
  {
   "cell_type": "markdown",
   "metadata": {},
   "source": [
    "#### Monthly Calcs\n",
    "\n",
    "Repeat the process for a df_monthly spreadsheet.  We will use this for calculating the Leader board  \n",
    "group df_weekly by review_date so we can get the right data for each review meeting"
   ]
  },
  {
   "cell_type": "code",
   "execution_count": 548,
   "metadata": {
    "scrolled": true
   },
   "outputs": [
    {
     "output_type": "execute_result",
     "data": {
      "text/plain": [
       "         Date                  Line  lap_time\n",
       "0  2021-04-15       AL5 Packaging 1  1.599419\n",
       "1  2021-04-15                   AL6  1.143054\n",
       "2  2021-04-15     C2 Packaging Line  0.957890\n",
       "3  2021-04-15     C9 Packaging Line  1.026479\n",
       "4  2021-04-15                GAMMA1  1.158770\n",
       "..        ...                   ...       ...\n",
       "83 2021-09-16           M21 Filling  0.595611\n",
       "84 2021-09-16           M22 Filling  0.496276\n",
       "85 2021-09-16        MEDISEAL PURAN  0.532477\n",
       "86 2021-09-16  SUPPO Packaging Line  0.461410\n",
       "87 2021-09-16  TR200 Packaging Line  0.413974\n",
       "\n",
       "[88 rows x 3 columns]"
      ],
      "text/html": "<div>\n<style scoped>\n    .dataframe tbody tr th:only-of-type {\n        vertical-align: middle;\n    }\n\n    .dataframe tbody tr th {\n        vertical-align: top;\n    }\n\n    .dataframe thead th {\n        text-align: right;\n    }\n</style>\n<table border=\"1\" class=\"dataframe\">\n  <thead>\n    <tr style=\"text-align: right;\">\n      <th></th>\n      <th>Date</th>\n      <th>Line</th>\n      <th>lap_time</th>\n    </tr>\n  </thead>\n  <tbody>\n    <tr>\n      <th>0</th>\n      <td>2021-04-15</td>\n      <td>AL5 Packaging 1</td>\n      <td>1.599419</td>\n    </tr>\n    <tr>\n      <th>1</th>\n      <td>2021-04-15</td>\n      <td>AL6</td>\n      <td>1.143054</td>\n    </tr>\n    <tr>\n      <th>2</th>\n      <td>2021-04-15</td>\n      <td>C2 Packaging Line</td>\n      <td>0.957890</td>\n    </tr>\n    <tr>\n      <th>3</th>\n      <td>2021-04-15</td>\n      <td>C9 Packaging Line</td>\n      <td>1.026479</td>\n    </tr>\n    <tr>\n      <th>4</th>\n      <td>2021-04-15</td>\n      <td>GAMMA1</td>\n      <td>1.158770</td>\n    </tr>\n    <tr>\n      <th>...</th>\n      <td>...</td>\n      <td>...</td>\n      <td>...</td>\n    </tr>\n    <tr>\n      <th>83</th>\n      <td>2021-09-16</td>\n      <td>M21 Filling</td>\n      <td>0.595611</td>\n    </tr>\n    <tr>\n      <th>84</th>\n      <td>2021-09-16</td>\n      <td>M22 Filling</td>\n      <td>0.496276</td>\n    </tr>\n    <tr>\n      <th>85</th>\n      <td>2021-09-16</td>\n      <td>MEDISEAL PURAN</td>\n      <td>0.532477</td>\n    </tr>\n    <tr>\n      <th>86</th>\n      <td>2021-09-16</td>\n      <td>SUPPO Packaging Line</td>\n      <td>0.461410</td>\n    </tr>\n    <tr>\n      <th>87</th>\n      <td>2021-09-16</td>\n      <td>TR200 Packaging Line</td>\n      <td>0.413974</td>\n    </tr>\n  </tbody>\n</table>\n<p>88 rows × 3 columns</p>\n</div>"
     },
     "metadata": {},
     "execution_count": 548
    }
   ],
   "source": [
    "# df_monthly = df_weekly.groupby([pd.Grouper(key='Date',freq='M'),'Line'])[['start_changeover','OEE  Start point','OEE %','Unplanned_tech_loss','Changeover','rolling_std','techloss_pct_chg','Changeover_pct_chg']].mean().reset_index()\n",
    "# df_monthly = df_weekly.groupby([pd.Grouper(key='Date',freq='M'),'Line']).lap_time.sum().reset_index()\n",
    "df_monthly = df_weekly.groupby(['Review_Date','Line']).lap_time.sum().reset_index()\n",
    "# change the name of review_date to save renaming all references to Date later\n",
    "df_monthly = df_monthly.rename(columns={'Review_Date':'Date'})\n",
    "df_monthly"
   ]
  },
  {
   "cell_type": "code",
   "execution_count": 549,
   "metadata": {},
   "outputs": [
    {
     "output_type": "execute_result",
     "data": {
      "text/plain": [
       "         Date                  Line   lap_time\n",
       "0  2021-04-15       AL5 Packaging 1  89.599419\n",
       "1  2021-04-15                   AL6  89.143054\n",
       "2  2021-04-15     C2 Packaging Line  88.957890\n",
       "3  2021-04-15     C9 Packaging Line  89.026479\n",
       "4  2021-04-15                GAMMA1  89.158770\n",
       "..        ...                   ...        ...\n",
       "83 2021-09-16           M21 Filling  88.595611\n",
       "84 2021-09-16           M22 Filling  88.496276\n",
       "85 2021-09-16        MEDISEAL PURAN  88.532477\n",
       "86 2021-09-16  SUPPO Packaging Line  88.461410\n",
       "87 2021-09-16  TR200 Packaging Line  88.413974\n",
       "\n",
       "[88 rows x 3 columns]"
      ],
      "text/html": "<div>\n<style scoped>\n    .dataframe tbody tr th:only-of-type {\n        vertical-align: middle;\n    }\n\n    .dataframe tbody tr th {\n        vertical-align: top;\n    }\n\n    .dataframe thead th {\n        text-align: right;\n    }\n</style>\n<table border=\"1\" class=\"dataframe\">\n  <thead>\n    <tr style=\"text-align: right;\">\n      <th></th>\n      <th>Date</th>\n      <th>Line</th>\n      <th>lap_time</th>\n    </tr>\n  </thead>\n  <tbody>\n    <tr>\n      <th>0</th>\n      <td>2021-04-15</td>\n      <td>AL5 Packaging 1</td>\n      <td>89.599419</td>\n    </tr>\n    <tr>\n      <th>1</th>\n      <td>2021-04-15</td>\n      <td>AL6</td>\n      <td>89.143054</td>\n    </tr>\n    <tr>\n      <th>2</th>\n      <td>2021-04-15</td>\n      <td>C2 Packaging Line</td>\n      <td>88.957890</td>\n    </tr>\n    <tr>\n      <th>3</th>\n      <td>2021-04-15</td>\n      <td>C9 Packaging Line</td>\n      <td>89.026479</td>\n    </tr>\n    <tr>\n      <th>4</th>\n      <td>2021-04-15</td>\n      <td>GAMMA1</td>\n      <td>89.158770</td>\n    </tr>\n    <tr>\n      <th>...</th>\n      <td>...</td>\n      <td>...</td>\n      <td>...</td>\n    </tr>\n    <tr>\n      <th>83</th>\n      <td>2021-09-16</td>\n      <td>M21 Filling</td>\n      <td>88.595611</td>\n    </tr>\n    <tr>\n      <th>84</th>\n      <td>2021-09-16</td>\n      <td>M22 Filling</td>\n      <td>88.496276</td>\n    </tr>\n    <tr>\n      <th>85</th>\n      <td>2021-09-16</td>\n      <td>MEDISEAL PURAN</td>\n      <td>88.532477</td>\n    </tr>\n    <tr>\n      <th>86</th>\n      <td>2021-09-16</td>\n      <td>SUPPO Packaging Line</td>\n      <td>88.461410</td>\n    </tr>\n    <tr>\n      <th>87</th>\n      <td>2021-09-16</td>\n      <td>TR200 Packaging Line</td>\n      <td>88.413974</td>\n    </tr>\n  </tbody>\n</table>\n<p>88 rows × 3 columns</p>\n</div>"
     },
     "metadata": {},
     "execution_count": 549
    }
   ],
   "source": [
    "# df_monthly_minmax = (df_weekly.assign(Data_Value=df_weekly['OEE %'].abs())\n",
    "#        .groupby(pd.Grouper(key='Date',freq='M'))['OEE %'].agg([('Min' , 'min'), ('Max', 'max')])\n",
    "#        .add_prefix('Month'))\n",
    "# df_monthly_minmax.reset_index(inplace=True)\n",
    "# df_monthly = df_monthly.merge(df_monthly_minmax[['Date','MonthMin','MonthMax']])\n",
    "df_monthly['lap_time'] = df_monthly['lap_time'] + 88\n",
    "df_monthly"
   ]
  },
  {
   "cell_type": "markdown",
   "metadata": {},
   "source": [
    "### Leader board table"
   ]
  },
  {
   "cell_type": "code",
   "execution_count": 550,
   "metadata": {},
   "outputs": [
    {
     "output_type": "execute_result",
     "data": {
      "text/plain": [
       "                      Line  2021-04-15 00:00:00  2021-05-13 00:00:00  \\\n",
       "0                   GAMMA1            89.158770            69.325767   \n",
       "1                IMA C80/2            88.915460            69.256522   \n",
       "2       L18 Packaging Line            88.852506            74.226704   \n",
       "3       L25 Packaging Line            88.854983            74.908842   \n",
       "4              M22 Filling            88.959190            81.806345   \n",
       "5              M21 Filling            89.719397            83.496534   \n",
       "6              M18 Filling            89.965673            82.596174   \n",
       "7                      AL6            89.143054            90.323044   \n",
       "8   LINE 01 - UHLMANN 1880            89.965673            88.720611   \n",
       "9           MEDISEAL PURAN            89.965673            88.720611   \n",
       "10    SUPPO Packaging Line            88.590586            89.612821   \n",
       "11    TR200 Packaging Line            88.715615            89.591164   \n",
       "12       C9 Packaging Line            89.026479            89.747841   \n",
       "13       C2 Packaging Line            88.957890            90.451874   \n",
       "14         AL5 Packaging 1            89.599419            89.653462   \n",
       "\n",
       "    2021-06-10 00:00:00  2021-07-08 00:00:00   race_time  prev_race_time  \\\n",
       "0             68.226756            90.038576  316.749870      226.711294   \n",
       "1             75.232693            89.520411  322.925085      233.404675   \n",
       "2             89.407996            89.262767  341.749974      252.487206   \n",
       "3             90.011979            89.722251  343.498054      253.775803   \n",
       "4             84.857670            89.844474  345.467680      255.623206   \n",
       "5             84.767181            90.769388  348.752500      257.983112   \n",
       "6             85.446232            90.866765  348.874844      258.008079   \n",
       "7             84.205598            89.779721  353.451417      263.671696   \n",
       "8             89.037542            89.028156  356.751981      267.723826   \n",
       "9             89.037542            89.028156  356.751981      267.723826   \n",
       "10            89.992146            89.679336  357.874889      268.195553   \n",
       "11            89.381941            91.181492  358.870212      267.688721   \n",
       "12            90.361488            89.831886  358.967695      269.135808   \n",
       "13            90.261138            90.572581  360.243483      269.670902   \n",
       "14            90.618101            90.426822  360.297803      269.870981   \n",
       "\n",
       "             Plant  position  gap_to_leader  prev_position  Gain/Loss  \\\n",
       "0         SCOPPITO         1       0.000000              1          0   \n",
       "1         SCOPPITO         2       6.175215              2          0   \n",
       "2            Tours         3      25.000103              3          0   \n",
       "3            Tours         4      26.748184              4          0   \n",
       "4        Frankfurt         5      28.717809              5          0   \n",
       "5        Frankfurt         6      32.002630              6          0   \n",
       "6        Frankfurt         7      32.124974              7          0   \n",
       "7        Frankfurt         8      36.701547              8          0   \n",
       "8           SUZANO         9      40.002111             10          1   \n",
       "9           SUZANO        10      40.002111             11          1   \n",
       "10         Lisieux        11      41.125019             12          1   \n",
       "11         Lisieux        12      42.120342              9         -3   \n",
       "12  Maisons-Alfort        13      42.217824             13          0   \n",
       "13  Maisons-Alfort        14      43.493613             14          0   \n",
       "14       Frankfurt        15      43.547933             15          0   \n",
       "\n",
       "     interval  OEE  Start point  ⇗ OEE% progress  OEE% Target (2022)  \n",
       "0         NaN          0.418683         0.085148               0.570  \n",
       "1    6.175215          0.451031         0.043365               0.580  \n",
       "2   18.824888          0.377683         0.086173               0.547  \n",
       "3    1.748081          0.351564         0.001613               0.478  \n",
       "4    1.969625          0.530068         0.120280               0.650  \n",
       "5    3.284821          0.599671         0.022006               0.650  \n",
       "6    0.122344          0.443522        -0.010057               0.650  \n",
       "7    4.576573          0.332657         0.078541               0.450  \n",
       "8    3.300564          0.427854         0.015085               0.650  \n",
       "9    0.000000          0.592206        -0.025165               0.650  \n",
       "10   1.122908          0.353021        -0.010676               0.530  \n",
       "11   0.995323          0.483505         0.120926               0.650  \n",
       "12   0.097482          0.528518        -0.019492               0.530  \n",
       "13   1.275789          0.397503         0.012193               0.470  \n",
       "14   0.054320          0.479693        -0.187473               0.500  "
      ],
      "text/html": "<div>\n<style scoped>\n    .dataframe tbody tr th:only-of-type {\n        vertical-align: middle;\n    }\n\n    .dataframe tbody tr th {\n        vertical-align: top;\n    }\n\n    .dataframe thead th {\n        text-align: right;\n    }\n</style>\n<table border=\"1\" class=\"dataframe\">\n  <thead>\n    <tr style=\"text-align: right;\">\n      <th></th>\n      <th>Line</th>\n      <th>2021-04-15 00:00:00</th>\n      <th>2021-05-13 00:00:00</th>\n      <th>2021-06-10 00:00:00</th>\n      <th>2021-07-08 00:00:00</th>\n      <th>race_time</th>\n      <th>prev_race_time</th>\n      <th>Plant</th>\n      <th>position</th>\n      <th>gap_to_leader</th>\n      <th>prev_position</th>\n      <th>Gain/Loss</th>\n      <th>interval</th>\n      <th>OEE  Start point</th>\n      <th>⇗ OEE% progress</th>\n      <th>OEE% Target (2022)</th>\n    </tr>\n  </thead>\n  <tbody>\n    <tr>\n      <th>0</th>\n      <td>GAMMA1</td>\n      <td>89.158770</td>\n      <td>69.325767</td>\n      <td>68.226756</td>\n      <td>90.038576</td>\n      <td>316.749870</td>\n      <td>226.711294</td>\n      <td>SCOPPITO</td>\n      <td>1</td>\n      <td>0.000000</td>\n      <td>1</td>\n      <td>0</td>\n      <td>NaN</td>\n      <td>0.418683</td>\n      <td>0.085148</td>\n      <td>0.570</td>\n    </tr>\n    <tr>\n      <th>1</th>\n      <td>IMA C80/2</td>\n      <td>88.915460</td>\n      <td>69.256522</td>\n      <td>75.232693</td>\n      <td>89.520411</td>\n      <td>322.925085</td>\n      <td>233.404675</td>\n      <td>SCOPPITO</td>\n      <td>2</td>\n      <td>6.175215</td>\n      <td>2</td>\n      <td>0</td>\n      <td>6.175215</td>\n      <td>0.451031</td>\n      <td>0.043365</td>\n      <td>0.580</td>\n    </tr>\n    <tr>\n      <th>2</th>\n      <td>L18 Packaging Line</td>\n      <td>88.852506</td>\n      <td>74.226704</td>\n      <td>89.407996</td>\n      <td>89.262767</td>\n      <td>341.749974</td>\n      <td>252.487206</td>\n      <td>Tours</td>\n      <td>3</td>\n      <td>25.000103</td>\n      <td>3</td>\n      <td>0</td>\n      <td>18.824888</td>\n      <td>0.377683</td>\n      <td>0.086173</td>\n      <td>0.547</td>\n    </tr>\n    <tr>\n      <th>3</th>\n      <td>L25 Packaging Line</td>\n      <td>88.854983</td>\n      <td>74.908842</td>\n      <td>90.011979</td>\n      <td>89.722251</td>\n      <td>343.498054</td>\n      <td>253.775803</td>\n      <td>Tours</td>\n      <td>4</td>\n      <td>26.748184</td>\n      <td>4</td>\n      <td>0</td>\n      <td>1.748081</td>\n      <td>0.351564</td>\n      <td>0.001613</td>\n      <td>0.478</td>\n    </tr>\n    <tr>\n      <th>4</th>\n      <td>M22 Filling</td>\n      <td>88.959190</td>\n      <td>81.806345</td>\n      <td>84.857670</td>\n      <td>89.844474</td>\n      <td>345.467680</td>\n      <td>255.623206</td>\n      <td>Frankfurt</td>\n      <td>5</td>\n      <td>28.717809</td>\n      <td>5</td>\n      <td>0</td>\n      <td>1.969625</td>\n      <td>0.530068</td>\n      <td>0.120280</td>\n      <td>0.650</td>\n    </tr>\n    <tr>\n      <th>5</th>\n      <td>M21 Filling</td>\n      <td>89.719397</td>\n      <td>83.496534</td>\n      <td>84.767181</td>\n      <td>90.769388</td>\n      <td>348.752500</td>\n      <td>257.983112</td>\n      <td>Frankfurt</td>\n      <td>6</td>\n      <td>32.002630</td>\n      <td>6</td>\n      <td>0</td>\n      <td>3.284821</td>\n      <td>0.599671</td>\n      <td>0.022006</td>\n      <td>0.650</td>\n    </tr>\n    <tr>\n      <th>6</th>\n      <td>M18 Filling</td>\n      <td>89.965673</td>\n      <td>82.596174</td>\n      <td>85.446232</td>\n      <td>90.866765</td>\n      <td>348.874844</td>\n      <td>258.008079</td>\n      <td>Frankfurt</td>\n      <td>7</td>\n      <td>32.124974</td>\n      <td>7</td>\n      <td>0</td>\n      <td>0.122344</td>\n      <td>0.443522</td>\n      <td>-0.010057</td>\n      <td>0.650</td>\n    </tr>\n    <tr>\n      <th>7</th>\n      <td>AL6</td>\n      <td>89.143054</td>\n      <td>90.323044</td>\n      <td>84.205598</td>\n      <td>89.779721</td>\n      <td>353.451417</td>\n      <td>263.671696</td>\n      <td>Frankfurt</td>\n      <td>8</td>\n      <td>36.701547</td>\n      <td>8</td>\n      <td>0</td>\n      <td>4.576573</td>\n      <td>0.332657</td>\n      <td>0.078541</td>\n      <td>0.450</td>\n    </tr>\n    <tr>\n      <th>8</th>\n      <td>LINE 01 - UHLMANN 1880</td>\n      <td>89.965673</td>\n      <td>88.720611</td>\n      <td>89.037542</td>\n      <td>89.028156</td>\n      <td>356.751981</td>\n      <td>267.723826</td>\n      <td>SUZANO</td>\n      <td>9</td>\n      <td>40.002111</td>\n      <td>10</td>\n      <td>1</td>\n      <td>3.300564</td>\n      <td>0.427854</td>\n      <td>0.015085</td>\n      <td>0.650</td>\n    </tr>\n    <tr>\n      <th>9</th>\n      <td>MEDISEAL PURAN</td>\n      <td>89.965673</td>\n      <td>88.720611</td>\n      <td>89.037542</td>\n      <td>89.028156</td>\n      <td>356.751981</td>\n      <td>267.723826</td>\n      <td>SUZANO</td>\n      <td>10</td>\n      <td>40.002111</td>\n      <td>11</td>\n      <td>1</td>\n      <td>0.000000</td>\n      <td>0.592206</td>\n      <td>-0.025165</td>\n      <td>0.650</td>\n    </tr>\n    <tr>\n      <th>10</th>\n      <td>SUPPO Packaging Line</td>\n      <td>88.590586</td>\n      <td>89.612821</td>\n      <td>89.992146</td>\n      <td>89.679336</td>\n      <td>357.874889</td>\n      <td>268.195553</td>\n      <td>Lisieux</td>\n      <td>11</td>\n      <td>41.125019</td>\n      <td>12</td>\n      <td>1</td>\n      <td>1.122908</td>\n      <td>0.353021</td>\n      <td>-0.010676</td>\n      <td>0.530</td>\n    </tr>\n    <tr>\n      <th>11</th>\n      <td>TR200 Packaging Line</td>\n      <td>88.715615</td>\n      <td>89.591164</td>\n      <td>89.381941</td>\n      <td>91.181492</td>\n      <td>358.870212</td>\n      <td>267.688721</td>\n      <td>Lisieux</td>\n      <td>12</td>\n      <td>42.120342</td>\n      <td>9</td>\n      <td>-3</td>\n      <td>0.995323</td>\n      <td>0.483505</td>\n      <td>0.120926</td>\n      <td>0.650</td>\n    </tr>\n    <tr>\n      <th>12</th>\n      <td>C9 Packaging Line</td>\n      <td>89.026479</td>\n      <td>89.747841</td>\n      <td>90.361488</td>\n      <td>89.831886</td>\n      <td>358.967695</td>\n      <td>269.135808</td>\n      <td>Maisons-Alfort</td>\n      <td>13</td>\n      <td>42.217824</td>\n      <td>13</td>\n      <td>0</td>\n      <td>0.097482</td>\n      <td>0.528518</td>\n      <td>-0.019492</td>\n      <td>0.530</td>\n    </tr>\n    <tr>\n      <th>13</th>\n      <td>C2 Packaging Line</td>\n      <td>88.957890</td>\n      <td>90.451874</td>\n      <td>90.261138</td>\n      <td>90.572581</td>\n      <td>360.243483</td>\n      <td>269.670902</td>\n      <td>Maisons-Alfort</td>\n      <td>14</td>\n      <td>43.493613</td>\n      <td>14</td>\n      <td>0</td>\n      <td>1.275789</td>\n      <td>0.397503</td>\n      <td>0.012193</td>\n      <td>0.470</td>\n    </tr>\n    <tr>\n      <th>14</th>\n      <td>AL5 Packaging 1</td>\n      <td>89.599419</td>\n      <td>89.653462</td>\n      <td>90.618101</td>\n      <td>90.426822</td>\n      <td>360.297803</td>\n      <td>269.870981</td>\n      <td>Frankfurt</td>\n      <td>15</td>\n      <td>43.547933</td>\n      <td>15</td>\n      <td>0</td>\n      <td>0.054320</td>\n      <td>0.479693</td>\n      <td>-0.187473</td>\n      <td>0.500</td>\n    </tr>\n  </tbody>\n</table>\n</div>"
     },
     "metadata": {},
     "execution_count": 550
    }
   ],
   "source": [
    "# filter using the end_date to stop picking up future dated nomination rows of zero I created when joining the s/s\n",
    "pivot = df_monthly[df_monthly['Date'] < end_date].pivot(index='Line', columns='Date', values='lap_time')\n",
    "pivot.reset_index(inplace=True)\n",
    "# pivot creates NaN for rows with no monthly data for each race review data\n",
    "# populate each NaN value with the max for that column - so they get the max laptime for that race\n",
    "# we can search for cols [1:] and find all cols after Date and Line\n",
    "pivot.iloc[:,1:] = pivot.iloc[:,1:].fillna(pivot.iloc[:,1:].max())\n",
    "\n",
    "# sum all the columns to get a race_time\n",
    "pivot['race_time'] = pivot.sum(axis=1)\n",
    "# sum all but the last 2 cols (this lap and the race_time) to calc prev_race_time\n",
    "\n",
    "# pivot['prev_race_time'] = pivot[pivot.columns[2]] + pivot[pivot.columns[3]]\n",
    "pivot['prev_race_time'] = pivot.iloc[:,1:-2].sum(axis=1)\n",
    "\n",
    "pivot = pivot.merge(df_dash[['Plant','Line']], on='Line')\n",
    "pivot.sort_values('race_time', inplace=True)\n",
    "pivot['position'] = np.arange(1,len(pivot) + 1)\n",
    "pivot['gap_to_leader'] = pivot['race_time'] - pivot['race_time'].iloc[0]\n",
    "pivot.sort_values('prev_race_time', inplace=True)\n",
    "pivot['prev_position'] = np.arange(1,len(pivot) + 1)\n",
    "pivot['Gain/Loss'] = pivot.prev_position - pivot.position\n",
    "pivot.sort_values('race_time', inplace=True)\n",
    "pivot['interval'] = pivot.race_time.diff()\n",
    "pivot = pivot.merge(df_dash[['Line','OEE  Start point', '⇗ OEE% progress', 'OEE% Target (2022)']], on='Line')\n",
    "pivot"
   ]
  },
  {
   "cell_type": "markdown",
   "metadata": {},
   "source": [
    "#### write this out for tableau"
   ]
  },
  {
   "cell_type": "code",
   "execution_count": 551,
   "metadata": {},
   "outputs": [],
   "source": [
    "pivot.to_csv(output_dir + \"leaderboard.csv\")"
   ]
  },
  {
   "cell_type": "markdown",
   "metadata": {},
   "source": [
    "END OF PROCESSING - Sanity checks below"
   ]
  },
  {
   "cell_type": "code",
   "execution_count": 552,
   "metadata": {},
   "outputs": [],
   "source": [
    "pivot.sort_values(pivot.columns[1], inplace=True)\n",
    "pivot['apr_position'] = np.arange(1,len(pivot) + 1)\n",
    "pivot['temp_race_time'] = pivot[pivot.columns[[1,2]]].sum(axis=1)\n",
    "pivot.sort_values(by='temp_race_time', inplace=True)\n",
    "pivot['may_position'] = np.arange(1,len(pivot) + 1)\n",
    "pivot['temp_race_time'] = pivot[pivot.columns[[1,2,3]]].sum(axis=1)\n",
    "pivot.sort_values(by='temp_race_time', inplace=True)\n",
    "pivot['jun_position'] = np.arange(1,len(pivot) + 1)\n",
    "pivot['temp_race_time'] = pivot[pivot.columns[[1,2,3,4]]].sum(axis=1)\n",
    "pivot.sort_values(by='temp_race_time', inplace=True)\n",
    "pivot['jly_position'] = np.arange(1,len(pivot) + 1)"
   ]
  },
  {
   "cell_type": "code",
   "execution_count": 553,
   "metadata": {
    "scrolled": true
   },
   "outputs": [
    {
     "output_type": "execute_result",
     "data": {
      "text/plain": [
       "                      Line  2021-04-15 00:00:00  2021-05-13 00:00:00  \\\n",
       "0                   GAMMA1            89.158770            69.325767   \n",
       "1                IMA C80/2            88.915460            69.256522   \n",
       "2       L18 Packaging Line            88.852506            74.226704   \n",
       "3       L25 Packaging Line            88.854983            74.908842   \n",
       "4              M22 Filling            88.959190            81.806345   \n",
       "5              M21 Filling            89.719397            83.496534   \n",
       "6              M18 Filling            89.965673            82.596174   \n",
       "7                      AL6            89.143054            90.323044   \n",
       "8   LINE 01 - UHLMANN 1880            89.965673            88.720611   \n",
       "9           MEDISEAL PURAN            89.965673            88.720611   \n",
       "10    SUPPO Packaging Line            88.590586            89.612821   \n",
       "11    TR200 Packaging Line            88.715615            89.591164   \n",
       "12       C9 Packaging Line            89.026479            89.747841   \n",
       "13       C2 Packaging Line            88.957890            90.451874   \n",
       "14         AL5 Packaging 1            89.599419            89.653462   \n",
       "\n",
       "    2021-06-10 00:00:00  2021-07-08 00:00:00  position  prev_position  \\\n",
       "0             68.226756            90.038576         1              1   \n",
       "1             75.232693            89.520411         2              2   \n",
       "2             89.407996            89.262767         3              3   \n",
       "3             90.011979            89.722251         4              4   \n",
       "4             84.857670            89.844474         5              5   \n",
       "5             84.767181            90.769388         6              6   \n",
       "6             85.446232            90.866765         7              7   \n",
       "7             84.205598            89.779721         8              8   \n",
       "8             89.037542            89.028156         9             10   \n",
       "9             89.037542            89.028156        10             11   \n",
       "10            89.992146            89.679336        11             12   \n",
       "11            89.381941            91.181492        12              9   \n",
       "12            90.361488            89.831886        13             13   \n",
       "13            90.261138            90.572581        14             14   \n",
       "14            90.618101            90.426822        15             15   \n",
       "\n",
       "    apr_position  may_position  jun_position  jly_position  \n",
       "0             10             2             1             1  \n",
       "1              5             1             2             2  \n",
       "2              3             3             3             3  \n",
       "3              4             4             4             4  \n",
       "4              7             5             5             5  \n",
       "5             12             7             6             6  \n",
       "6             13             6             7             7  \n",
       "7              9            15             8             8  \n",
       "8             14            10            10             9  \n",
       "9             15            11            11            10  \n",
       "10             1             8            12            11  \n",
       "11             2             9             9            12  \n",
       "12             8            12            13            13  \n",
       "13             6            14            14            14  \n",
       "14            11            13            15            15  "
      ],
      "text/html": "<div>\n<style scoped>\n    .dataframe tbody tr th:only-of-type {\n        vertical-align: middle;\n    }\n\n    .dataframe tbody tr th {\n        vertical-align: top;\n    }\n\n    .dataframe thead th {\n        text-align: right;\n    }\n</style>\n<table border=\"1\" class=\"dataframe\">\n  <thead>\n    <tr style=\"text-align: right;\">\n      <th></th>\n      <th>Line</th>\n      <th>2021-04-15 00:00:00</th>\n      <th>2021-05-13 00:00:00</th>\n      <th>2021-06-10 00:00:00</th>\n      <th>2021-07-08 00:00:00</th>\n      <th>position</th>\n      <th>prev_position</th>\n      <th>apr_position</th>\n      <th>may_position</th>\n      <th>jun_position</th>\n      <th>jly_position</th>\n    </tr>\n  </thead>\n  <tbody>\n    <tr>\n      <th>0</th>\n      <td>GAMMA1</td>\n      <td>89.158770</td>\n      <td>69.325767</td>\n      <td>68.226756</td>\n      <td>90.038576</td>\n      <td>1</td>\n      <td>1</td>\n      <td>10</td>\n      <td>2</td>\n      <td>1</td>\n      <td>1</td>\n    </tr>\n    <tr>\n      <th>1</th>\n      <td>IMA C80/2</td>\n      <td>88.915460</td>\n      <td>69.256522</td>\n      <td>75.232693</td>\n      <td>89.520411</td>\n      <td>2</td>\n      <td>2</td>\n      <td>5</td>\n      <td>1</td>\n      <td>2</td>\n      <td>2</td>\n    </tr>\n    <tr>\n      <th>2</th>\n      <td>L18 Packaging Line</td>\n      <td>88.852506</td>\n      <td>74.226704</td>\n      <td>89.407996</td>\n      <td>89.262767</td>\n      <td>3</td>\n      <td>3</td>\n      <td>3</td>\n      <td>3</td>\n      <td>3</td>\n      <td>3</td>\n    </tr>\n    <tr>\n      <th>3</th>\n      <td>L25 Packaging Line</td>\n      <td>88.854983</td>\n      <td>74.908842</td>\n      <td>90.011979</td>\n      <td>89.722251</td>\n      <td>4</td>\n      <td>4</td>\n      <td>4</td>\n      <td>4</td>\n      <td>4</td>\n      <td>4</td>\n    </tr>\n    <tr>\n      <th>4</th>\n      <td>M22 Filling</td>\n      <td>88.959190</td>\n      <td>81.806345</td>\n      <td>84.857670</td>\n      <td>89.844474</td>\n      <td>5</td>\n      <td>5</td>\n      <td>7</td>\n      <td>5</td>\n      <td>5</td>\n      <td>5</td>\n    </tr>\n    <tr>\n      <th>5</th>\n      <td>M21 Filling</td>\n      <td>89.719397</td>\n      <td>83.496534</td>\n      <td>84.767181</td>\n      <td>90.769388</td>\n      <td>6</td>\n      <td>6</td>\n      <td>12</td>\n      <td>7</td>\n      <td>6</td>\n      <td>6</td>\n    </tr>\n    <tr>\n      <th>6</th>\n      <td>M18 Filling</td>\n      <td>89.965673</td>\n      <td>82.596174</td>\n      <td>85.446232</td>\n      <td>90.866765</td>\n      <td>7</td>\n      <td>7</td>\n      <td>13</td>\n      <td>6</td>\n      <td>7</td>\n      <td>7</td>\n    </tr>\n    <tr>\n      <th>7</th>\n      <td>AL6</td>\n      <td>89.143054</td>\n      <td>90.323044</td>\n      <td>84.205598</td>\n      <td>89.779721</td>\n      <td>8</td>\n      <td>8</td>\n      <td>9</td>\n      <td>15</td>\n      <td>8</td>\n      <td>8</td>\n    </tr>\n    <tr>\n      <th>8</th>\n      <td>LINE 01 - UHLMANN 1880</td>\n      <td>89.965673</td>\n      <td>88.720611</td>\n      <td>89.037542</td>\n      <td>89.028156</td>\n      <td>9</td>\n      <td>10</td>\n      <td>14</td>\n      <td>10</td>\n      <td>10</td>\n      <td>9</td>\n    </tr>\n    <tr>\n      <th>9</th>\n      <td>MEDISEAL PURAN</td>\n      <td>89.965673</td>\n      <td>88.720611</td>\n      <td>89.037542</td>\n      <td>89.028156</td>\n      <td>10</td>\n      <td>11</td>\n      <td>15</td>\n      <td>11</td>\n      <td>11</td>\n      <td>10</td>\n    </tr>\n    <tr>\n      <th>10</th>\n      <td>SUPPO Packaging Line</td>\n      <td>88.590586</td>\n      <td>89.612821</td>\n      <td>89.992146</td>\n      <td>89.679336</td>\n      <td>11</td>\n      <td>12</td>\n      <td>1</td>\n      <td>8</td>\n      <td>12</td>\n      <td>11</td>\n    </tr>\n    <tr>\n      <th>11</th>\n      <td>TR200 Packaging Line</td>\n      <td>88.715615</td>\n      <td>89.591164</td>\n      <td>89.381941</td>\n      <td>91.181492</td>\n      <td>12</td>\n      <td>9</td>\n      <td>2</td>\n      <td>9</td>\n      <td>9</td>\n      <td>12</td>\n    </tr>\n    <tr>\n      <th>12</th>\n      <td>C9 Packaging Line</td>\n      <td>89.026479</td>\n      <td>89.747841</td>\n      <td>90.361488</td>\n      <td>89.831886</td>\n      <td>13</td>\n      <td>13</td>\n      <td>8</td>\n      <td>12</td>\n      <td>13</td>\n      <td>13</td>\n    </tr>\n    <tr>\n      <th>13</th>\n      <td>C2 Packaging Line</td>\n      <td>88.957890</td>\n      <td>90.451874</td>\n      <td>90.261138</td>\n      <td>90.572581</td>\n      <td>14</td>\n      <td>14</td>\n      <td>6</td>\n      <td>14</td>\n      <td>14</td>\n      <td>14</td>\n    </tr>\n    <tr>\n      <th>14</th>\n      <td>AL5 Packaging 1</td>\n      <td>89.599419</td>\n      <td>89.653462</td>\n      <td>90.618101</td>\n      <td>90.426822</td>\n      <td>15</td>\n      <td>15</td>\n      <td>11</td>\n      <td>13</td>\n      <td>15</td>\n      <td>15</td>\n    </tr>\n  </tbody>\n</table>\n</div>"
     },
     "metadata": {},
     "execution_count": 553
    }
   ],
   "source": [
    "# regex filter on column name contains Line, position or 2021\n",
    "pivot.filter(regex='Line|position|2021')"
   ]
  },
  {
   "cell_type": "code",
   "execution_count": 554,
   "metadata": {},
   "outputs": [],
   "source": [
    "# df_weekly.groupby(['Review_Date','Line']).lap_time.sum().reset_index()\n",
    "sectors = df_weekly.filter(regex='Line|sector|Review_Date')"
   ]
  },
  {
   "cell_type": "code",
   "execution_count": 555,
   "metadata": {},
   "outputs": [
    {
     "output_type": "execute_result",
     "data": {
      "text/plain": [
       "Review_Date                    Line  2021-04-15 00:00:00  2021-05-13 00:00:00  \\\n",
       "0                   AL5 Packaging 1             1.599419             1.653462   \n",
       "1                               AL6             1.143054             2.323044   \n",
       "2                 C2 Packaging Line             0.957890             2.451874   \n",
       "3                 C9 Packaging Line             1.026479             1.747841   \n",
       "4                            GAMMA1             1.158770             1.725767   \n",
       "5                         IMA C80/2             0.915460             1.656522   \n",
       "6                L18 Packaging Line             0.852506             1.426704   \n",
       "7                L25 Packaging Line             0.854983             2.108842   \n",
       "8            LINE 01 - UHLMANN 1880                  NaN             0.720611   \n",
       "9                       M18 Filling             1.965673             2.596174   \n",
       "10                      M21 Filling             1.719397             3.496534   \n",
       "11                      M22 Filling             0.959190             1.806345   \n",
       "12                   MEDISEAL PURAN                  NaN             0.720611   \n",
       "13             SUPPO Packaging Line             0.590586             1.612821   \n",
       "14             TR200 Packaging Line             0.715615             1.591164   \n",
       "\n",
       "Review_Date  2021-06-10 00:00:00  2021-07-08 00:00:00  2021-08-19 00:00:00  \\\n",
       "0                       2.618101             2.426822             0.455217   \n",
       "1                       1.805598             1.779721             0.418774   \n",
       "2                       2.261138             2.572581             0.539264   \n",
       "3                       2.361488             1.831886             0.444573   \n",
       "4                       1.926756             2.038576             0.611908   \n",
       "5                       1.732693             1.520411             0.545559   \n",
       "6                       1.407996             1.262767             0.502970   \n",
       "7                       2.011979             1.722251             0.591038   \n",
       "8                       1.037542             1.028156             0.532477   \n",
       "9                       2.646232             2.866765             0.764240   \n",
       "10                      1.967181             2.769388             0.535802   \n",
       "11                      2.057670             1.844474             0.577587   \n",
       "12                      1.037542             1.028156             0.532477   \n",
       "13                      1.992146             1.679336             0.443389   \n",
       "14                      1.381941             3.181492             0.526818   \n",
       "\n",
       "Review_Date  2021-09-16 00:00:00  \n",
       "0                       0.498887  \n",
       "1                       0.435521  \n",
       "2                       0.588141  \n",
       "3                       0.429521  \n",
       "4                       0.651116  \n",
       "5                       0.545278  \n",
       "6                       0.487097  \n",
       "7                       0.554225  \n",
       "8                       0.532477  \n",
       "9                       0.939725  \n",
       "10                      0.595611  \n",
       "11                      0.496276  \n",
       "12                      0.532477  \n",
       "13                      0.461410  \n",
       "14                      0.413974  "
      ],
      "text/html": "<div>\n<style scoped>\n    .dataframe tbody tr th:only-of-type {\n        vertical-align: middle;\n    }\n\n    .dataframe tbody tr th {\n        vertical-align: top;\n    }\n\n    .dataframe thead th {\n        text-align: right;\n    }\n</style>\n<table border=\"1\" class=\"dataframe\">\n  <thead>\n    <tr style=\"text-align: right;\">\n      <th>Review_Date</th>\n      <th>Line</th>\n      <th>2021-04-15 00:00:00</th>\n      <th>2021-05-13 00:00:00</th>\n      <th>2021-06-10 00:00:00</th>\n      <th>2021-07-08 00:00:00</th>\n      <th>2021-08-19 00:00:00</th>\n      <th>2021-09-16 00:00:00</th>\n    </tr>\n  </thead>\n  <tbody>\n    <tr>\n      <th>0</th>\n      <td>AL5 Packaging 1</td>\n      <td>1.599419</td>\n      <td>1.653462</td>\n      <td>2.618101</td>\n      <td>2.426822</td>\n      <td>0.455217</td>\n      <td>0.498887</td>\n    </tr>\n    <tr>\n      <th>1</th>\n      <td>AL6</td>\n      <td>1.143054</td>\n      <td>2.323044</td>\n      <td>1.805598</td>\n      <td>1.779721</td>\n      <td>0.418774</td>\n      <td>0.435521</td>\n    </tr>\n    <tr>\n      <th>2</th>\n      <td>C2 Packaging Line</td>\n      <td>0.957890</td>\n      <td>2.451874</td>\n      <td>2.261138</td>\n      <td>2.572581</td>\n      <td>0.539264</td>\n      <td>0.588141</td>\n    </tr>\n    <tr>\n      <th>3</th>\n      <td>C9 Packaging Line</td>\n      <td>1.026479</td>\n      <td>1.747841</td>\n      <td>2.361488</td>\n      <td>1.831886</td>\n      <td>0.444573</td>\n      <td>0.429521</td>\n    </tr>\n    <tr>\n      <th>4</th>\n      <td>GAMMA1</td>\n      <td>1.158770</td>\n      <td>1.725767</td>\n      <td>1.926756</td>\n      <td>2.038576</td>\n      <td>0.611908</td>\n      <td>0.651116</td>\n    </tr>\n    <tr>\n      <th>5</th>\n      <td>IMA C80/2</td>\n      <td>0.915460</td>\n      <td>1.656522</td>\n      <td>1.732693</td>\n      <td>1.520411</td>\n      <td>0.545559</td>\n      <td>0.545278</td>\n    </tr>\n    <tr>\n      <th>6</th>\n      <td>L18 Packaging Line</td>\n      <td>0.852506</td>\n      <td>1.426704</td>\n      <td>1.407996</td>\n      <td>1.262767</td>\n      <td>0.502970</td>\n      <td>0.487097</td>\n    </tr>\n    <tr>\n      <th>7</th>\n      <td>L25 Packaging Line</td>\n      <td>0.854983</td>\n      <td>2.108842</td>\n      <td>2.011979</td>\n      <td>1.722251</td>\n      <td>0.591038</td>\n      <td>0.554225</td>\n    </tr>\n    <tr>\n      <th>8</th>\n      <td>LINE 01 - UHLMANN 1880</td>\n      <td>NaN</td>\n      <td>0.720611</td>\n      <td>1.037542</td>\n      <td>1.028156</td>\n      <td>0.532477</td>\n      <td>0.532477</td>\n    </tr>\n    <tr>\n      <th>9</th>\n      <td>M18 Filling</td>\n      <td>1.965673</td>\n      <td>2.596174</td>\n      <td>2.646232</td>\n      <td>2.866765</td>\n      <td>0.764240</td>\n      <td>0.939725</td>\n    </tr>\n    <tr>\n      <th>10</th>\n      <td>M21 Filling</td>\n      <td>1.719397</td>\n      <td>3.496534</td>\n      <td>1.967181</td>\n      <td>2.769388</td>\n      <td>0.535802</td>\n      <td>0.595611</td>\n    </tr>\n    <tr>\n      <th>11</th>\n      <td>M22 Filling</td>\n      <td>0.959190</td>\n      <td>1.806345</td>\n      <td>2.057670</td>\n      <td>1.844474</td>\n      <td>0.577587</td>\n      <td>0.496276</td>\n    </tr>\n    <tr>\n      <th>12</th>\n      <td>MEDISEAL PURAN</td>\n      <td>NaN</td>\n      <td>0.720611</td>\n      <td>1.037542</td>\n      <td>1.028156</td>\n      <td>0.532477</td>\n      <td>0.532477</td>\n    </tr>\n    <tr>\n      <th>13</th>\n      <td>SUPPO Packaging Line</td>\n      <td>0.590586</td>\n      <td>1.612821</td>\n      <td>1.992146</td>\n      <td>1.679336</td>\n      <td>0.443389</td>\n      <td>0.461410</td>\n    </tr>\n    <tr>\n      <th>14</th>\n      <td>TR200 Packaging Line</td>\n      <td>0.715615</td>\n      <td>1.591164</td>\n      <td>1.381941</td>\n      <td>3.181492</td>\n      <td>0.526818</td>\n      <td>0.413974</td>\n    </tr>\n  </tbody>\n</table>\n</div>"
     },
     "metadata": {},
     "execution_count": 555
    }
   ],
   "source": [
    "# sectors[sectors.columns[[2,3,4,5]]].sum(axis=1)\n",
    "sectors = df_weekly.filter(regex='Line|sector|Review_Date')\n",
    "sectors = sectors.iloc[:,0:6]\n",
    "sectors = sectors.groupby(['Line','Review_Date']).sum().reset_index()\n",
    "sectors['time'] = sectors.sum(axis=1)\n",
    "sectors_pivot = sectors.pivot(index='Line', columns='Review_Date', values='time')\n",
    "sectors_pivot.reset_index(inplace=True)\n",
    "sectors_pivot\n",
    "# sectors[sectors[sectors.columns[[2,3,4,5]]].sum(axis=1)\n",
    "# sectors[sectors.Line.str.contains('AL5')]"
   ]
  },
  {
   "cell_type": "code",
   "execution_count": 556,
   "metadata": {},
   "outputs": [],
   "source": [
    "# search for cols [1:] and find all cols after Date and Line\n",
    "sectors_pivot.iloc[:,1:] = sectors_pivot.iloc[:,1:].fillna(sectors_pivot.iloc[:,1:].max())\n"
   ]
  },
  {
   "cell_type": "code",
   "execution_count": 557,
   "metadata": {},
   "outputs": [
    {
     "output_type": "execute_result",
     "data": {
      "text/plain": [
       "Review_Date                    Line  2021-04-15 00:00:00  2021-05-13 00:00:00  \\\n",
       "8            LINE 01 - UHLMANN 1880             1.965673             0.720611   \n",
       "12                   MEDISEAL PURAN             1.965673             0.720611   \n",
       "6                L18 Packaging Line             0.852506             1.426704   \n",
       "5                         IMA C80/2             0.915460             1.656522   \n",
       "13             SUPPO Packaging Line             0.590586             1.612821   \n",
       "11                      M22 Filling             0.959190             1.806345   \n",
       "7                L25 Packaging Line             0.854983             2.108842   \n",
       "4                            GAMMA1             1.158770             1.725767   \n",
       "14             TR200 Packaging Line             0.715615             1.591164   \n",
       "3                 C9 Packaging Line             1.026479             1.747841   \n",
       "1                               AL6             1.143054             2.323044   \n",
       "2                 C2 Packaging Line             0.957890             2.451874   \n",
       "0                   AL5 Packaging 1             1.599419             1.653462   \n",
       "10                      M21 Filling             1.719397             3.496534   \n",
       "9                       M18 Filling             1.965673             2.596174   \n",
       "\n",
       "Review_Date  2021-06-10 00:00:00  2021-07-08 00:00:00  2021-08-19 00:00:00  \\\n",
       "8                       1.037542             1.028156             0.532477   \n",
       "12                      1.037542             1.028156             0.532477   \n",
       "6                       1.407996             1.262767             0.502970   \n",
       "5                       1.732693             1.520411             0.545559   \n",
       "13                      1.992146             1.679336             0.443389   \n",
       "11                      2.057670             1.844474             0.577587   \n",
       "7                       2.011979             1.722251             0.591038   \n",
       "4                       1.926756             2.038576             0.611908   \n",
       "14                      1.381941             3.181492             0.526818   \n",
       "3                       2.361488             1.831886             0.444573   \n",
       "1                       1.805598             1.779721             0.418774   \n",
       "2                       2.261138             2.572581             0.539264   \n",
       "0                       2.618101             2.426822             0.455217   \n",
       "10                      1.967181             2.769388             0.535802   \n",
       "9                       2.646232             2.866765             0.764240   \n",
       "\n",
       "Review_Date  2021-09-16 00:00:00  apr_position  temp_race_time  may_position  \\\n",
       "8                       0.532477            13        4.751981             5   \n",
       "12                      0.532477            15        4.751981             6   \n",
       "6                       0.487097             3        4.949974             2   \n",
       "5                       0.545278             5        5.825085             4   \n",
       "13                      0.461410             1        5.874889             1   \n",
       "11                      0.496276             7        6.667680             7   \n",
       "7                       0.554225             4        6.698054            10   \n",
       "4                       0.651116            10        6.849870             9   \n",
       "14                      0.413974             2        6.870212             3   \n",
       "3                       0.429521             8        6.967695             8   \n",
       "1                       0.435521             9        7.051417            13   \n",
       "2                       0.588141             6        8.243483            12   \n",
       "0                       0.498887            11        8.297803            11   \n",
       "10                      0.595611            12        9.952500            15   \n",
       "9                       0.939725            14       10.074844            14   \n",
       "\n",
       "Review_Date  jun_position  jly_position  \n",
       "8                       3             1  \n",
       "12                      4             2  \n",
       "6                       1             3  \n",
       "5                       6             4  \n",
       "13                      5             5  \n",
       "11                      8             6  \n",
       "7                       9             7  \n",
       "4                       7             8  \n",
       "14                      2             9  \n",
       "3                      10            10  \n",
       "1                      11            11  \n",
       "2                      12            12  \n",
       "0                      13            13  \n",
       "10                     14            14  \n",
       "9                      15            15  "
      ],
      "text/html": "<div>\n<style scoped>\n    .dataframe tbody tr th:only-of-type {\n        vertical-align: middle;\n    }\n\n    .dataframe tbody tr th {\n        vertical-align: top;\n    }\n\n    .dataframe thead th {\n        text-align: right;\n    }\n</style>\n<table border=\"1\" class=\"dataframe\">\n  <thead>\n    <tr style=\"text-align: right;\">\n      <th>Review_Date</th>\n      <th>Line</th>\n      <th>2021-04-15 00:00:00</th>\n      <th>2021-05-13 00:00:00</th>\n      <th>2021-06-10 00:00:00</th>\n      <th>2021-07-08 00:00:00</th>\n      <th>2021-08-19 00:00:00</th>\n      <th>2021-09-16 00:00:00</th>\n      <th>apr_position</th>\n      <th>temp_race_time</th>\n      <th>may_position</th>\n      <th>jun_position</th>\n      <th>jly_position</th>\n    </tr>\n  </thead>\n  <tbody>\n    <tr>\n      <th>8</th>\n      <td>LINE 01 - UHLMANN 1880</td>\n      <td>1.965673</td>\n      <td>0.720611</td>\n      <td>1.037542</td>\n      <td>1.028156</td>\n      <td>0.532477</td>\n      <td>0.532477</td>\n      <td>13</td>\n      <td>4.751981</td>\n      <td>5</td>\n      <td>3</td>\n      <td>1</td>\n    </tr>\n    <tr>\n      <th>12</th>\n      <td>MEDISEAL PURAN</td>\n      <td>1.965673</td>\n      <td>0.720611</td>\n      <td>1.037542</td>\n      <td>1.028156</td>\n      <td>0.532477</td>\n      <td>0.532477</td>\n      <td>15</td>\n      <td>4.751981</td>\n      <td>6</td>\n      <td>4</td>\n      <td>2</td>\n    </tr>\n    <tr>\n      <th>6</th>\n      <td>L18 Packaging Line</td>\n      <td>0.852506</td>\n      <td>1.426704</td>\n      <td>1.407996</td>\n      <td>1.262767</td>\n      <td>0.502970</td>\n      <td>0.487097</td>\n      <td>3</td>\n      <td>4.949974</td>\n      <td>2</td>\n      <td>1</td>\n      <td>3</td>\n    </tr>\n    <tr>\n      <th>5</th>\n      <td>IMA C80/2</td>\n      <td>0.915460</td>\n      <td>1.656522</td>\n      <td>1.732693</td>\n      <td>1.520411</td>\n      <td>0.545559</td>\n      <td>0.545278</td>\n      <td>5</td>\n      <td>5.825085</td>\n      <td>4</td>\n      <td>6</td>\n      <td>4</td>\n    </tr>\n    <tr>\n      <th>13</th>\n      <td>SUPPO Packaging Line</td>\n      <td>0.590586</td>\n      <td>1.612821</td>\n      <td>1.992146</td>\n      <td>1.679336</td>\n      <td>0.443389</td>\n      <td>0.461410</td>\n      <td>1</td>\n      <td>5.874889</td>\n      <td>1</td>\n      <td>5</td>\n      <td>5</td>\n    </tr>\n    <tr>\n      <th>11</th>\n      <td>M22 Filling</td>\n      <td>0.959190</td>\n      <td>1.806345</td>\n      <td>2.057670</td>\n      <td>1.844474</td>\n      <td>0.577587</td>\n      <td>0.496276</td>\n      <td>7</td>\n      <td>6.667680</td>\n      <td>7</td>\n      <td>8</td>\n      <td>6</td>\n    </tr>\n    <tr>\n      <th>7</th>\n      <td>L25 Packaging Line</td>\n      <td>0.854983</td>\n      <td>2.108842</td>\n      <td>2.011979</td>\n      <td>1.722251</td>\n      <td>0.591038</td>\n      <td>0.554225</td>\n      <td>4</td>\n      <td>6.698054</td>\n      <td>10</td>\n      <td>9</td>\n      <td>7</td>\n    </tr>\n    <tr>\n      <th>4</th>\n      <td>GAMMA1</td>\n      <td>1.158770</td>\n      <td>1.725767</td>\n      <td>1.926756</td>\n      <td>2.038576</td>\n      <td>0.611908</td>\n      <td>0.651116</td>\n      <td>10</td>\n      <td>6.849870</td>\n      <td>9</td>\n      <td>7</td>\n      <td>8</td>\n    </tr>\n    <tr>\n      <th>14</th>\n      <td>TR200 Packaging Line</td>\n      <td>0.715615</td>\n      <td>1.591164</td>\n      <td>1.381941</td>\n      <td>3.181492</td>\n      <td>0.526818</td>\n      <td>0.413974</td>\n      <td>2</td>\n      <td>6.870212</td>\n      <td>3</td>\n      <td>2</td>\n      <td>9</td>\n    </tr>\n    <tr>\n      <th>3</th>\n      <td>C9 Packaging Line</td>\n      <td>1.026479</td>\n      <td>1.747841</td>\n      <td>2.361488</td>\n      <td>1.831886</td>\n      <td>0.444573</td>\n      <td>0.429521</td>\n      <td>8</td>\n      <td>6.967695</td>\n      <td>8</td>\n      <td>10</td>\n      <td>10</td>\n    </tr>\n    <tr>\n      <th>1</th>\n      <td>AL6</td>\n      <td>1.143054</td>\n      <td>2.323044</td>\n      <td>1.805598</td>\n      <td>1.779721</td>\n      <td>0.418774</td>\n      <td>0.435521</td>\n      <td>9</td>\n      <td>7.051417</td>\n      <td>13</td>\n      <td>11</td>\n      <td>11</td>\n    </tr>\n    <tr>\n      <th>2</th>\n      <td>C2 Packaging Line</td>\n      <td>0.957890</td>\n      <td>2.451874</td>\n      <td>2.261138</td>\n      <td>2.572581</td>\n      <td>0.539264</td>\n      <td>0.588141</td>\n      <td>6</td>\n      <td>8.243483</td>\n      <td>12</td>\n      <td>12</td>\n      <td>12</td>\n    </tr>\n    <tr>\n      <th>0</th>\n      <td>AL5 Packaging 1</td>\n      <td>1.599419</td>\n      <td>1.653462</td>\n      <td>2.618101</td>\n      <td>2.426822</td>\n      <td>0.455217</td>\n      <td>0.498887</td>\n      <td>11</td>\n      <td>8.297803</td>\n      <td>11</td>\n      <td>13</td>\n      <td>13</td>\n    </tr>\n    <tr>\n      <th>10</th>\n      <td>M21 Filling</td>\n      <td>1.719397</td>\n      <td>3.496534</td>\n      <td>1.967181</td>\n      <td>2.769388</td>\n      <td>0.535802</td>\n      <td>0.595611</td>\n      <td>12</td>\n      <td>9.952500</td>\n      <td>15</td>\n      <td>14</td>\n      <td>14</td>\n    </tr>\n    <tr>\n      <th>9</th>\n      <td>M18 Filling</td>\n      <td>1.965673</td>\n      <td>2.596174</td>\n      <td>2.646232</td>\n      <td>2.866765</td>\n      <td>0.764240</td>\n      <td>0.939725</td>\n      <td>14</td>\n      <td>10.074844</td>\n      <td>14</td>\n      <td>15</td>\n      <td>15</td>\n    </tr>\n  </tbody>\n</table>\n</div>"
     },
     "metadata": {},
     "execution_count": 557
    }
   ],
   "source": [
    "sectors_pivot.sort_values(sectors_pivot.columns[1], inplace=True)\n",
    "sectors_pivot['apr_position'] = np.arange(1,len(sectors_pivot) + 1)\n",
    "sectors_pivot['temp_race_time'] = sectors_pivot[sectors_pivot.columns[[1,2]]].sum(axis=1)\n",
    "sectors_pivot.sort_values(by='temp_race_time', inplace=True)\n",
    "sectors_pivot['may_position'] = np.arange(1,len(sectors_pivot) + 1)\n",
    "sectors_pivot['temp_race_time'] = sectors_pivot[sectors_pivot.columns[[1,2,3]]].sum(axis=1)\n",
    "sectors_pivot.sort_values(by='temp_race_time', inplace=True)\n",
    "sectors_pivot['jun_position'] = np.arange(1,len(sectors_pivot) + 1)\n",
    "sectors_pivot['temp_race_time'] = sectors_pivot[sectors_pivot.columns[[1,2,3,4]]].sum(axis=1)\n",
    "sectors_pivot.sort_values(by='temp_race_time', inplace=True)\n",
    "sectors_pivot['jly_position'] = np.arange(1,len(sectors_pivot) + 1)\n",
    "sectors_pivot"
   ]
  },
  {
   "cell_type": "code",
   "execution_count": 560,
   "metadata": {},
   "outputs": [
    {
     "output_type": "execute_result",
     "data": {
      "text/plain": [
       "array(['L18 Packaging Line', 'L25 Packaging Line',\n",
       "       'LINE 01 - UHLMANN 1880', 'MEDISEAL PURAN', 'GAMMA1', 'IMA C80/2',\n",
       "       'C2 Packaging Line', 'C9 Packaging Line', 'TR200 Packaging Line',\n",
       "       'SUPPO Packaging Line', 'AL5 Packaging 1', 'AL6', 'M18 Filling',\n",
       "       'M21 Filling', 'M22 Filling'], dtype=object)"
      ]
     },
     "metadata": {},
     "execution_count": 560
    }
   ],
   "source": [
    "df_nom_sectors.Line.unique()"
   ]
  },
  {
   "cell_type": "code",
   "execution_count": null,
   "metadata": {},
   "outputs": [],
   "source": []
  }
 ],
 "metadata": {
  "kernelspec": {
   "display_name": "geo_env",
   "language": "python",
   "name": "geo_env"
  },
  "language_info": {
   "codemirror_mode": {
    "name": "ipython",
    "version": 3
   },
   "file_extension": ".py",
   "mimetype": "text/x-python",
   "name": "python",
   "nbconvert_exporter": "python",
   "pygments_lexer": "ipython3",
   "version": "3.9.4"
  }
 },
 "nbformat": 4,
 "nbformat_minor": 4
}