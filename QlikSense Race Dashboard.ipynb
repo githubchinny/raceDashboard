{
 "cells": [
  {
   "cell_type": "markdown",
   "metadata": {},
   "source": [
    "# Race Dashboard\n",
    "\n"
   ]
  },
  {
   "cell_type": "markdown",
   "metadata": {},
   "source": [
    "This document describes the requirements and design decisions we will adopt for the Race Dashboard for the Sanofi Asset Efficiency challenge.  This document is intended to provide a detailed explanation of what is to be included on the dashboard, required data sources, and assumptions being made in the design.  It will also show the steps for getting the data into the necessary format."
   ]
  },
  {
   "cell_type": "markdown",
   "metadata": {},
   "source": [
    "## Scope/objective\n",
    "\n",
    "The objective is to be able to display the documented metrics and categories as best suited on a Dashboard presentation for Sanofi staff to be able to access.\n"
   ]
  },
  {
   "cell_type": "markdown",
   "metadata": {},
   "source": [
    "## Metrics / categories\n",
    "The metrics have been mapped into sectors to mimic different sectors of a race track.  The metrics are:\n",
    " \n",
    " \n",
    " \n",
    "•     Race = 8 Laps = 8 Months   \n",
    "•     Lap = Monthly Progress   \n",
    "<br>\n",
    "<br>\n",
    "\n",
    "•     **Sector 1 = OEE Improvement   \n",
    "•     Sector 2 = OEE Variability Improvement   \n",
    "•     Sector 3 = Stoppage Reduction   \n",
    "•     Sector 4 = Changeover Improvement**   \n",
    "• _Sector 5 = Most effective OEE application   \n",
    "• Sector 6 = Best Innovation   \n",
    "• Sector 7 = Most consistent OEE improvement progress   \n",
    "• Sector 8 = Collaboration   \n",
    "• Sector 9 = Team Spirit_\n",
    "\n",
    " \n",
    " \n"
   ]
  },
  {
   "cell_type": "markdown",
   "metadata": {},
   "source": [
    "| Change log |\n",
    "|:----------:|    \n",
    "\n",
    "\n",
    "| Date | Initials | Comments |\n",
    "|------|:---------|:---------|\n",
    "| 2021-06-23 | MC | in leaderboard, replace NaN values in laptime calc with the max laptime for that lap\n",
    "| 2021-06-23 | MC | use race review dates for grouping data, rather than calendar months\n",
    "| 2021-06-24 |JB | missing OEE_Diff figures should default to 'OEE %' - OEE start point, not just 'OEE %' value\n",
    "| 2021-06-24 |JB | for sector one, multiply sum of OEE_Diff by -1.  (was doing this in Tableau calcs but too late for lap_time calc).\n",
    "|2021-06-25 | MC | in leaderboard, change prev_race_time calc to include all but last 2 cols, to handle new race cols as they arrive\n",
    "|2021-06-28 | MC | correct dates in nominations spreadsheet, and merge on 1 row with a date within the review period\n",
    "|2021-06-29 | MC | corrected nominations spreadsheet for Lisieux IWK - should be TR200 Packaging\n",
    "|2021-06-30 | MC | populate missing OEE % values before calculating rolling_std using the OEE % column\n",
    "|2021-06-30 | MC | remove start_changeover_calc merge as it's not being used any more, and was dropping rows\n",
    "|2021-07-06 | MC | populate missing OEE % values with OEE from previous week for that site."
   ]
  },
  {
   "cell_type": "code",
   "execution_count": 366,
   "metadata": {},
   "outputs": [],
   "source": [
    "import pandas as pd\n",
    "import numpy as np\n",
    "import datetime\n",
    "\n",
    "\n",
    "# Viz libs\n",
    "import matplotlib.pyplot as plt\n",
    "%matplotlib inline\n",
    "\n",
    "import seaborn as sns\n",
    "\n",
    "# display options\n",
    "# pd.options.display.float_format = \"{:.2f}\".format\n"
   ]
  },
  {
   "cell_type": "markdown",
   "metadata": {},
   "source": [
    "## Read file and cleanse\n",
    "\n",
    "- OEE.xlsx should contain the OEE latest data from QS by week   \n",
    "- QSDashboard.xlsx has a list of plants/sites taking part, with original target OEE  \n",
    "- UnplannedTechLoss.xlxs should contain the latest data from QS (my unplanned chart by line/week)   \n",
    "- changeover.xlsx should contain the changeover information in QlikSense\n",
    "\n",
    "#### Cleaning required:   \n",
    "- OEE % needs converting to numeric, coerce the nulls to nan values\n",
    "- I think W53-2020 data is bobbings - causes dup indexes for date 2021-01-10 and don't need 2020 data anyway...so dropping it"
   ]
  },
  {
   "cell_type": "code",
   "execution_count": 384,
   "metadata": {},
   "outputs": [],
   "source": [
    "# this dir should point at where ever your sanofi Mclaren directory is syncing\n",
    "dir = \"C:/Users/mark_/Sanofi/Sanofi x McLaren sharing - General/Race Dashboard data/\"\n",
    "\n",
    "# this is a local copy of sanofi share for when I don't trust Microsoft syncing!\n",
    "# dir = \"C:/Users/mark_/Documents/McLaren2021/Sanofi/Race Dashboard data/\"\n",
    "\n",
    "# write out the files where ever you like.  As long as same file is used within Tableau.\n",
    "output_dir = \"C:/Users/mark_/Documents/McLaren2021/Sanofi/Race Dashboard data/\"\n",
    "\n",
    "# dir = 'C:/Users/james.blood/Documents/McLarenSanofi/McLarenSanofi/data/'\n",
    "\n",
    "file = (dir + 'OEE.xlsx')\n",
    "df_weekly = pd.read_excel(file)\n",
    "file = (dir + 'QSDashboard.xlsx')\n",
    "df_dash = pd.read_excel(file)\n",
    "file = (dir + 'Unplanned_tech_loss.xlsx')\n",
    "df_techloss = pd.read_excel(file)\n",
    "file = (dir + 'changeover.xlsx')\n",
    "df_changeover = pd.read_excel(file)\n",
    "df_weekly = df_weekly.loc[df_weekly['Week'].str.contains('2021')]\n",
    "df_techloss = df_techloss.loc[df_techloss['Week'].str.contains('2021')]\n",
    "df_weekly['OEE %'] = pd.to_numeric(df_weekly['OEE %'], errors='coerce')\n",
    "df_techloss.rename(columns={'Unplanned losses - %OEE':'Unplanned_tech_loss'}, inplace=True)\n",
    "df_techloss['Unplanned_tech_loss'] = pd.to_numeric(df_techloss['Unplanned_tech_loss'], errors='coerce')\n",
    "df_changeover.rename(columns={'Change over losses - %OEE':'Changeover'}, inplace=True)\n",
    "df_changeover['Changeover'] = pd.to_numeric(df_changeover['Changeover'], errors='coerce')\n",
    "# don't use their progress figure as it's a static val\n",
    "# df_dash.rename(columns={'⇗ OEE% progress':'OEE% progress'}, inplace=True)"
   ]
  },
  {
   "cell_type": "markdown",
   "metadata": {},
   "source": [
    "create a datetime from the week number"
   ]
  },
  {
   "cell_type": "code",
   "execution_count": 385,
   "metadata": {},
   "outputs": [
    {
     "output_type": "execute_result",
     "data": {
      "text/plain": [
       "        Week                Line     OEE %  WeekOfYear  Year       Date\n",
       "11  W01-2021   C2 Packaging Line  0.168970           1  2021 2021-01-10\n",
       "12  W01-2021   C9 Packaging Line       NaN           1  2021 2021-01-10\n",
       "13  W01-2021              GAMMA1  0.406686           1  2021 2021-01-10\n",
       "14  W01-2021           IMA C80/2  0.510044           1  2021 2021-01-10\n",
       "15  W01-2021  L18 Packaging Line  0.173736           1  2021 2021-01-10"
      ],
      "text/html": "<div>\n<style scoped>\n    .dataframe tbody tr th:only-of-type {\n        vertical-align: middle;\n    }\n\n    .dataframe tbody tr th {\n        vertical-align: top;\n    }\n\n    .dataframe thead th {\n        text-align: right;\n    }\n</style>\n<table border=\"1\" class=\"dataframe\">\n  <thead>\n    <tr style=\"text-align: right;\">\n      <th></th>\n      <th>Week</th>\n      <th>Line</th>\n      <th>OEE %</th>\n      <th>WeekOfYear</th>\n      <th>Year</th>\n      <th>Date</th>\n    </tr>\n  </thead>\n  <tbody>\n    <tr>\n      <th>11</th>\n      <td>W01-2021</td>\n      <td>C2 Packaging Line</td>\n      <td>0.168970</td>\n      <td>1</td>\n      <td>2021</td>\n      <td>2021-01-10</td>\n    </tr>\n    <tr>\n      <th>12</th>\n      <td>W01-2021</td>\n      <td>C9 Packaging Line</td>\n      <td>NaN</td>\n      <td>1</td>\n      <td>2021</td>\n      <td>2021-01-10</td>\n    </tr>\n    <tr>\n      <th>13</th>\n      <td>W01-2021</td>\n      <td>GAMMA1</td>\n      <td>0.406686</td>\n      <td>1</td>\n      <td>2021</td>\n      <td>2021-01-10</td>\n    </tr>\n    <tr>\n      <th>14</th>\n      <td>W01-2021</td>\n      <td>IMA C80/2</td>\n      <td>0.510044</td>\n      <td>1</td>\n      <td>2021</td>\n      <td>2021-01-10</td>\n    </tr>\n    <tr>\n      <th>15</th>\n      <td>W01-2021</td>\n      <td>L18 Packaging Line</td>\n      <td>0.173736</td>\n      <td>1</td>\n      <td>2021</td>\n      <td>2021-01-10</td>\n    </tr>\n  </tbody>\n</table>\n</div>"
     },
     "metadata": {},
     "execution_count": 385
    }
   ],
   "source": [
    "df_weekly['WeekOfYear'] = pd.to_numeric(df_weekly['Week'].str[1:3])\n",
    "df_weekly['Year'] = pd.to_numeric(df_weekly['Week'].str[4:])\n",
    "dates = df_weekly.Year*100+df_weekly.WeekOfYear\n",
    "df_weekly['Date'] = pd.to_datetime(dates.astype(str) + '0', format='%Y%W%w')\n",
    "# df_weekly.drop(columns=['Year','WeekOfYear'], inplace=True)\n",
    "df_weekly.head()"
   ]
  },
  {
   "cell_type": "code",
   "execution_count": 386,
   "metadata": {
    "scrolled": true
   },
   "outputs": [],
   "source": [
    "#merge the 2 dataframes to get the start OEE\n",
    "df_weekly = df_weekly.merge(df_dash[['Plant','Line', 'OEE  Start point','OEE% Target (2022)']],on='Line')"
   ]
  },
  {
   "cell_type": "code",
   "execution_count": 387,
   "metadata": {},
   "outputs": [],
   "source": [
    "df_weekly = df_weekly.merge(df_techloss[['Line', 'Week', 'Unplanned_tech_loss']],on=['Line','Week'])"
   ]
  },
  {
   "cell_type": "code",
   "execution_count": 388,
   "metadata": {},
   "outputs": [],
   "source": [
    "df_weekly = df_weekly.merge(df_changeover[['Line','Week','Changeover']])"
   ]
  },
  {
   "cell_type": "markdown",
   "metadata": {},
   "source": [
    "#### Start Changeover\n",
    "\n",
    "*not sure this is needed if we are using changeover_diff, which will naturally reward increases / decreases in changeover??*\n",
    "\n",
    "Start changeover value isn't provided, so going to calc our own start point using the average changeover for each site in 2021 up to April 2021.  This needs to be done before we drop the early 2021 rows.\n",
    "\n",
    "This is then merged into the df_weekly dataframe as a loose join."
   ]
  },
  {
   "cell_type": "code",
   "execution_count": 389,
   "metadata": {},
   "outputs": [],
   "source": [
    "# start_changeover_calc = df_weekly[['Plant','Line','Changeover']][df_weekly['Date'] < '2021-04-30'].groupby(['Plant','Line']).mean().reset_index()\n",
    "# start_changeover_calc.rename(columns={'Changeover':'start_changeover'}, inplace=True)\n",
    "# df_weekly = df_weekly.merge(start_changeover_calc[['Line','start_changeover']])"
   ]
  },
  {
   "cell_type": "markdown",
   "metadata": {},
   "source": [
    "#### Dates for the Asset Challenge\n",
    "\n",
    "Start Date is going to be fixed as 2021-04-01. Remove all the rows from df_weekly before this date\n",
    "\n",
    "Review Date will move and act as a cutoff for each Race meeting"
   ]
  },
  {
   "cell_type": "code",
   "execution_count": 390,
   "metadata": {},
   "outputs": [],
   "source": [
    "start_date = '2021-04-01'\n",
    "df_weekly = df_weekly[df_weekly['Date'] > start_date].sort_values('Date')\n",
    "\n",
    "# this is needed to prevent including additional values in the race time.\n",
    "review_date = '2021-07-08'\n",
    "# df_weekly = df_weekly[df_weekly['Date'] < end_date].sort_values('Date')"
   ]
  },
  {
   "cell_type": "markdown",
   "metadata": {},
   "source": [
    "### PCT_CHANGE\n",
    "Using pct_change python function with periods=4, giving a 4 week (4 previous rows) rolling pct_change figure\n",
    "- I believe we are doing this rolling average calculation within Tableau at the moment, so this isn't being used here\n",
    "\n",
    "- Not sure whether this is required any more - removing for all categories (2021-06-30)"
   ]
  },
  {
   "cell_type": "code",
   "execution_count": 391,
   "metadata": {},
   "outputs": [],
   "source": [
    "# df_weekly.sort_values(['Line','Date'], inplace = True)\n",
    "# df_weekly['OEE_pct_chg'] = (df_weekly.groupby('Line')['OEE %']\n",
    "#                                    .apply(pd.Series.pct_change, periods=4))\n",
    "# df_weekly['techloss_pct_chg'] = (df_weekly.groupby('Line')['Unplanned_tech_loss']\n",
    "#                                    .apply(pd.Series.pct_change, periods=4))\n",
    "# df_weekly['Changeover_pct_chg'] = (df_weekly.groupby('Line')['Changeover']\n",
    "#                                    .apply(pd.Series.pct_change, periods=4))\n",
    "# df_weekly.head()"
   ]
  },
  {
   "cell_type": "markdown",
   "metadata": {},
   "source": [
    "#### Populate missing OEE %\n",
    "2021-06-07 - change of plan! Populating with min OEE value does not work when some Lines record 0% OEE.  Missing values can be just delayed data collection which sorts itself later.  So, until proper data arrives:\n",
    "\n",
    "- Use the previous week's value (ffill) for that Line.  This will still leave NaN if they existed in the first row(s).  \n",
    "- populate the remaining NaN with 'OEE  start point'\n",
    "- ~~Find the weekly min/max OEE % from any site~~   \n",
    "- ~~Merge those columns into df_weekly~~   \n",
    "- ~~fill any NaN with the min OEE we calc'd for that week~~    \n"
   ]
  },
  {
   "cell_type": "code",
   "execution_count": 392,
   "metadata": {},
   "outputs": [
    {
     "output_type": "execute_result",
     "data": {
      "text/plain": [
       "         Week         Line     OEE %  WeekOfYear  Year       Date      Plant  \\\n",
       "174  W13-2021  M18 Filling  0.046124          13  2021 2021-04-04  Frankfurt   \n",
       "175  W14-2021  M18 Filling  0.463021          14  2021 2021-04-11  Frankfurt   \n",
       "176  W15-2021  M18 Filling  0.386723          15  2021 2021-04-18  Frankfurt   \n",
       "177  W16-2021  M18 Filling  0.352420          16  2021 2021-04-25  Frankfurt   \n",
       "178  W17-2021  M18 Filling  0.530336          17  2021 2021-05-02  Frankfurt   \n",
       "179  W18-2021  M18 Filling  0.562696          18  2021 2021-05-09  Frankfurt   \n",
       "180  W19-2021  M18 Filling  0.698908          19  2021 2021-05-16  Frankfurt   \n",
       "181  W20-2021  M18 Filling  0.000000          20  2021 2021-05-23  Frankfurt   \n",
       "182  W21-2021  M18 Filling  0.191951          21  2021 2021-05-30  Frankfurt   \n",
       "183  W22-2021  M18 Filling  0.537044          22  2021 2021-06-06  Frankfurt   \n",
       "184  W23-2021  M18 Filling  0.638877          23  2021 2021-06-13  Frankfurt   \n",
       "185  W24-2021  M18 Filling  0.661879          24  2021 2021-06-20  Frankfurt   \n",
       "186  W25-2021  M18 Filling  0.620440          25  2021 2021-06-27  Frankfurt   \n",
       "187  W26-2021  M18 Filling  0.000000          26  2021 2021-07-04  Frankfurt   \n",
       "188  W27-2021  M18 Filling  0.000000          27  2021 2021-07-11  Frankfurt   \n",
       "\n",
       "     OEE  Start point  OEE% Target (2022)  Unplanned_tech_loss  Changeover  \n",
       "174          0.443522                0.65             0.114818    0.789781  \n",
       "175          0.443522                0.65             0.240339    0.095404  \n",
       "176          0.443522                0.65             0.069673    0.390417  \n",
       "177          0.443522                0.65             0.485988    0.033241  \n",
       "178          0.443522                0.65             0.311511    0.029190  \n",
       "179          0.443522                0.65             0.227898    0.037331  \n",
       "180          0.443522                0.65             0.108069    0.000000  \n",
       "181          0.443522                0.65             0.000000    1.000000  \n",
       "182          0.443522                0.65             0.080336    0.626590  \n",
       "183          0.443522                0.65             0.216673    0.038185  \n",
       "184          0.443522                0.65             0.222576    0.040598  \n",
       "185          0.443522                0.65             0.200207    0.037814  \n",
       "186          0.443522                0.65             0.198006    0.041189  \n",
       "187          0.443522                0.65             0.000000    1.000000  \n",
       "188          0.443522                0.65             0.000000    1.000000  "
      ],
      "text/html": "<div>\n<style scoped>\n    .dataframe tbody tr th:only-of-type {\n        vertical-align: middle;\n    }\n\n    .dataframe tbody tr th {\n        vertical-align: top;\n    }\n\n    .dataframe thead th {\n        text-align: right;\n    }\n</style>\n<table border=\"1\" class=\"dataframe\">\n  <thead>\n    <tr style=\"text-align: right;\">\n      <th></th>\n      <th>Week</th>\n      <th>Line</th>\n      <th>OEE %</th>\n      <th>WeekOfYear</th>\n      <th>Year</th>\n      <th>Date</th>\n      <th>Plant</th>\n      <th>OEE  Start point</th>\n      <th>OEE% Target (2022)</th>\n      <th>Unplanned_tech_loss</th>\n      <th>Changeover</th>\n    </tr>\n  </thead>\n  <tbody>\n    <tr>\n      <th>174</th>\n      <td>W13-2021</td>\n      <td>M18 Filling</td>\n      <td>0.046124</td>\n      <td>13</td>\n      <td>2021</td>\n      <td>2021-04-04</td>\n      <td>Frankfurt</td>\n      <td>0.443522</td>\n      <td>0.65</td>\n      <td>0.114818</td>\n      <td>0.789781</td>\n    </tr>\n    <tr>\n      <th>175</th>\n      <td>W14-2021</td>\n      <td>M18 Filling</td>\n      <td>0.463021</td>\n      <td>14</td>\n      <td>2021</td>\n      <td>2021-04-11</td>\n      <td>Frankfurt</td>\n      <td>0.443522</td>\n      <td>0.65</td>\n      <td>0.240339</td>\n      <td>0.095404</td>\n    </tr>\n    <tr>\n      <th>176</th>\n      <td>W15-2021</td>\n      <td>M18 Filling</td>\n      <td>0.386723</td>\n      <td>15</td>\n      <td>2021</td>\n      <td>2021-04-18</td>\n      <td>Frankfurt</td>\n      <td>0.443522</td>\n      <td>0.65</td>\n      <td>0.069673</td>\n      <td>0.390417</td>\n    </tr>\n    <tr>\n      <th>177</th>\n      <td>W16-2021</td>\n      <td>M18 Filling</td>\n      <td>0.352420</td>\n      <td>16</td>\n      <td>2021</td>\n      <td>2021-04-25</td>\n      <td>Frankfurt</td>\n      <td>0.443522</td>\n      <td>0.65</td>\n      <td>0.485988</td>\n      <td>0.033241</td>\n    </tr>\n    <tr>\n      <th>178</th>\n      <td>W17-2021</td>\n      <td>M18 Filling</td>\n      <td>0.530336</td>\n      <td>17</td>\n      <td>2021</td>\n      <td>2021-05-02</td>\n      <td>Frankfurt</td>\n      <td>0.443522</td>\n      <td>0.65</td>\n      <td>0.311511</td>\n      <td>0.029190</td>\n    </tr>\n    <tr>\n      <th>179</th>\n      <td>W18-2021</td>\n      <td>M18 Filling</td>\n      <td>0.562696</td>\n      <td>18</td>\n      <td>2021</td>\n      <td>2021-05-09</td>\n      <td>Frankfurt</td>\n      <td>0.443522</td>\n      <td>0.65</td>\n      <td>0.227898</td>\n      <td>0.037331</td>\n    </tr>\n    <tr>\n      <th>180</th>\n      <td>W19-2021</td>\n      <td>M18 Filling</td>\n      <td>0.698908</td>\n      <td>19</td>\n      <td>2021</td>\n      <td>2021-05-16</td>\n      <td>Frankfurt</td>\n      <td>0.443522</td>\n      <td>0.65</td>\n      <td>0.108069</td>\n      <td>0.000000</td>\n    </tr>\n    <tr>\n      <th>181</th>\n      <td>W20-2021</td>\n      <td>M18 Filling</td>\n      <td>0.000000</td>\n      <td>20</td>\n      <td>2021</td>\n      <td>2021-05-23</td>\n      <td>Frankfurt</td>\n      <td>0.443522</td>\n      <td>0.65</td>\n      <td>0.000000</td>\n      <td>1.000000</td>\n    </tr>\n    <tr>\n      <th>182</th>\n      <td>W21-2021</td>\n      <td>M18 Filling</td>\n      <td>0.191951</td>\n      <td>21</td>\n      <td>2021</td>\n      <td>2021-05-30</td>\n      <td>Frankfurt</td>\n      <td>0.443522</td>\n      <td>0.65</td>\n      <td>0.080336</td>\n      <td>0.626590</td>\n    </tr>\n    <tr>\n      <th>183</th>\n      <td>W22-2021</td>\n      <td>M18 Filling</td>\n      <td>0.537044</td>\n      <td>22</td>\n      <td>2021</td>\n      <td>2021-06-06</td>\n      <td>Frankfurt</td>\n      <td>0.443522</td>\n      <td>0.65</td>\n      <td>0.216673</td>\n      <td>0.038185</td>\n    </tr>\n    <tr>\n      <th>184</th>\n      <td>W23-2021</td>\n      <td>M18 Filling</td>\n      <td>0.638877</td>\n      <td>23</td>\n      <td>2021</td>\n      <td>2021-06-13</td>\n      <td>Frankfurt</td>\n      <td>0.443522</td>\n      <td>0.65</td>\n      <td>0.222576</td>\n      <td>0.040598</td>\n    </tr>\n    <tr>\n      <th>185</th>\n      <td>W24-2021</td>\n      <td>M18 Filling</td>\n      <td>0.661879</td>\n      <td>24</td>\n      <td>2021</td>\n      <td>2021-06-20</td>\n      <td>Frankfurt</td>\n      <td>0.443522</td>\n      <td>0.65</td>\n      <td>0.200207</td>\n      <td>0.037814</td>\n    </tr>\n    <tr>\n      <th>186</th>\n      <td>W25-2021</td>\n      <td>M18 Filling</td>\n      <td>0.620440</td>\n      <td>25</td>\n      <td>2021</td>\n      <td>2021-06-27</td>\n      <td>Frankfurt</td>\n      <td>0.443522</td>\n      <td>0.65</td>\n      <td>0.198006</td>\n      <td>0.041189</td>\n    </tr>\n    <tr>\n      <th>187</th>\n      <td>W26-2021</td>\n      <td>M18 Filling</td>\n      <td>0.000000</td>\n      <td>26</td>\n      <td>2021</td>\n      <td>2021-07-04</td>\n      <td>Frankfurt</td>\n      <td>0.443522</td>\n      <td>0.65</td>\n      <td>0.000000</td>\n      <td>1.000000</td>\n    </tr>\n    <tr>\n      <th>188</th>\n      <td>W27-2021</td>\n      <td>M18 Filling</td>\n      <td>0.000000</td>\n      <td>27</td>\n      <td>2021</td>\n      <td>2021-07-11</td>\n      <td>Frankfurt</td>\n      <td>0.443522</td>\n      <td>0.65</td>\n      <td>0.000000</td>\n      <td>1.000000</td>\n    </tr>\n  </tbody>\n</table>\n</div>"
     },
     "metadata": {},
     "execution_count": 392
    }
   ],
   "source": [
    "# df_weekly_minmax = (df_weekly.assign(Data_Value=df_weekly['OEE %'].abs())\n",
    "#        .groupby(pd.Grouper(key='Date',freq='W'))['OEE %'].agg([('Min' , 'min'), ('Max', 'max')])\n",
    "#        .add_prefix('Week'))\n",
    "# df_weekly_minmax.reset_index(inplace=True)\n",
    "# df_weekly = df_weekly.merge(df_weekly_minmax[['Date','WeekMin','WeekMax']])\n",
    "# df_weekly['OEE %'].fillna(df_weekly.WeekMin, inplace=True)\n",
    "# df_weekly.drop(columns=['WeekMin','WeekMax'], inplace=True)\n",
    "df_weekly['OEE %'] = df_weekly.sort_values(['Line','Date']).groupby(['Line'])['OEE %'].ffill()\n",
    "df_weekly['OEE %'] = df_weekly.sort_values(['Line','Date']).groupby(['Line'])['OEE %'].fillna(df_weekly['OEE  Start point'])\n",
    "# df_weekly[df_weekly['OEE %'].isna()]\n",
    "df_weekly[df_weekly.Line.str.contains('M18')]"
   ]
  },
  {
   "cell_type": "markdown",
   "metadata": {},
   "source": [
    "## Standard Deviation\n",
    "Calculate std_dev and mean on a 4 week rolling basis\n",
    "\n",
    "Standard deviation is the square root of the variance, so no need to calculate both and have left var out"
   ]
  },
  {
   "cell_type": "code",
   "execution_count": 393,
   "metadata": {
    "scrolled": true
   },
   "outputs": [
    {
     "output_type": "execute_result",
     "data": {
      "text/plain": [
       "         Week                  Line     OEE %  WeekOfYear  Year       Date  \\\n",
       "12   W13-2021     C2 Packaging Line  0.458414          13  2021 2021-04-04   \n",
       "228  W13-2021           M22 Filling  0.649336          13  2021 2021-04-04   \n",
       "255  W13-2021  SUPPO Packaging Line  0.432432          13  2021 2021-04-04   \n",
       "174  W13-2021           M18 Filling  0.046124          13  2021 2021-04-04   \n",
       "39   W13-2021     C9 Packaging Line  0.371845          13  2021 2021-04-04   \n",
       "\n",
       "              Plant  OEE  Start point  OEE% Target (2022)  \\\n",
       "12   Maisons-Alfort          0.397503                0.47   \n",
       "228       Frankfurt          0.530068                0.65   \n",
       "255         Lisieux          0.353021                0.53   \n",
       "174       Frankfurt          0.443522                0.65   \n",
       "39   Maisons-Alfort          0.528518                0.53   \n",
       "\n",
       "     Unplanned_tech_loss  Changeover  rolling_std  \n",
       "12              0.465009    0.044140          NaN  \n",
       "228             0.234635    0.035164          NaN  \n",
       "255             0.148267    0.178806          NaN  \n",
       "174             0.114818    0.789781          NaN  \n",
       "39              0.229297    0.081871          NaN  "
      ],
      "text/html": "<div>\n<style scoped>\n    .dataframe tbody tr th:only-of-type {\n        vertical-align: middle;\n    }\n\n    .dataframe tbody tr th {\n        vertical-align: top;\n    }\n\n    .dataframe thead th {\n        text-align: right;\n    }\n</style>\n<table border=\"1\" class=\"dataframe\">\n  <thead>\n    <tr style=\"text-align: right;\">\n      <th></th>\n      <th>Week</th>\n      <th>Line</th>\n      <th>OEE %</th>\n      <th>WeekOfYear</th>\n      <th>Year</th>\n      <th>Date</th>\n      <th>Plant</th>\n      <th>OEE  Start point</th>\n      <th>OEE% Target (2022)</th>\n      <th>Unplanned_tech_loss</th>\n      <th>Changeover</th>\n      <th>rolling_std</th>\n    </tr>\n  </thead>\n  <tbody>\n    <tr>\n      <th>12</th>\n      <td>W13-2021</td>\n      <td>C2 Packaging Line</td>\n      <td>0.458414</td>\n      <td>13</td>\n      <td>2021</td>\n      <td>2021-04-04</td>\n      <td>Maisons-Alfort</td>\n      <td>0.397503</td>\n      <td>0.47</td>\n      <td>0.465009</td>\n      <td>0.044140</td>\n      <td>NaN</td>\n    </tr>\n    <tr>\n      <th>228</th>\n      <td>W13-2021</td>\n      <td>M22 Filling</td>\n      <td>0.649336</td>\n      <td>13</td>\n      <td>2021</td>\n      <td>2021-04-04</td>\n      <td>Frankfurt</td>\n      <td>0.530068</td>\n      <td>0.65</td>\n      <td>0.234635</td>\n      <td>0.035164</td>\n      <td>NaN</td>\n    </tr>\n    <tr>\n      <th>255</th>\n      <td>W13-2021</td>\n      <td>SUPPO Packaging Line</td>\n      <td>0.432432</td>\n      <td>13</td>\n      <td>2021</td>\n      <td>2021-04-04</td>\n      <td>Lisieux</td>\n      <td>0.353021</td>\n      <td>0.53</td>\n      <td>0.148267</td>\n      <td>0.178806</td>\n      <td>NaN</td>\n    </tr>\n    <tr>\n      <th>174</th>\n      <td>W13-2021</td>\n      <td>M18 Filling</td>\n      <td>0.046124</td>\n      <td>13</td>\n      <td>2021</td>\n      <td>2021-04-04</td>\n      <td>Frankfurt</td>\n      <td>0.443522</td>\n      <td>0.65</td>\n      <td>0.114818</td>\n      <td>0.789781</td>\n      <td>NaN</td>\n    </tr>\n    <tr>\n      <th>39</th>\n      <td>W13-2021</td>\n      <td>C9 Packaging Line</td>\n      <td>0.371845</td>\n      <td>13</td>\n      <td>2021</td>\n      <td>2021-04-04</td>\n      <td>Maisons-Alfort</td>\n      <td>0.528518</td>\n      <td>0.53</td>\n      <td>0.229297</td>\n      <td>0.081871</td>\n      <td>NaN</td>\n    </tr>\n  </tbody>\n</table>\n</div>"
     },
     "metadata": {},
     "execution_count": 393
    }
   ],
   "source": [
    "df_weekly['rolling_std'] = df_weekly.groupby('Line')['OEE %'].apply(lambda x : x.rolling(4,1).agg(np.std))\n",
    "df_weekly.head(5)"
   ]
  },
  {
   "cell_type": "code",
   "execution_count": 394,
   "metadata": {},
   "outputs": [],
   "source": [
    "file = (dir + 'Nominations Category Scoring.xlsx')\n",
    "df_nom_sectors = pd.read_excel(file, sheet_name='Nomination scoring', usecols=\"A:H\", parse_dates=['Date'])"
   ]
  },
  {
   "cell_type": "code",
   "execution_count": 395,
   "metadata": {},
   "outputs": [
    {
     "output_type": "execute_result",
     "data": {
      "text/plain": [
       "         Week                  Line     OEE %  WeekOfYear    Year       Date  \\\n",
       "0    W13-2021     C2 Packaging Line  0.458414        13.0  2021.0 2021-04-04   \n",
       "1    W13-2021           M22 Filling  0.649336        13.0  2021.0 2021-04-04   \n",
       "2    W13-2021  SUPPO Packaging Line  0.432432        13.0  2021.0 2021-04-04   \n",
       "3    W13-2021           M18 Filling  0.046124        13.0  2021.0 2021-04-04   \n",
       "4    W13-2021     C9 Packaging Line  0.371845        13.0  2021.0 2021-04-04   \n",
       "..        ...                   ...       ...         ...     ...        ...   \n",
       "242       NaN       AL5 Packaging 1       NaN         NaN     NaN 2021-09-12   \n",
       "243       NaN                   AL6       NaN         NaN     NaN 2021-09-12   \n",
       "244       NaN           M18 Filling       NaN         NaN     NaN 2021-09-12   \n",
       "245       NaN           M21 Filling       NaN         NaN     NaN 2021-09-12   \n",
       "246       NaN           M22 Filling       NaN         NaN     NaN 2021-09-12   \n",
       "\n",
       "              Plant  OEE  Start point  OEE% Target (2022)  \\\n",
       "0    Maisons-Alfort          0.397503                0.47   \n",
       "1         Frankfurt          0.530068                0.65   \n",
       "2           Lisieux          0.353021                0.53   \n",
       "3         Frankfurt          0.443522                0.65   \n",
       "4    Maisons-Alfort          0.528518                0.53   \n",
       "..              ...               ...                 ...   \n",
       "242       Frankfurt               NaN                 NaN   \n",
       "243       Frankfurt               NaN                 NaN   \n",
       "244       Frankfurt               NaN                 NaN   \n",
       "245       Frankfurt               NaN                 NaN   \n",
       "246       Frankfurt               NaN                 NaN   \n",
       "\n",
       "     Unplanned_tech_loss  Changeover  rolling_std  Best Solution  \\\n",
       "0               0.465009    0.044140          NaN            NaN   \n",
       "1               0.234635    0.035164          NaN            NaN   \n",
       "2               0.148267    0.178806          NaN            NaN   \n",
       "3               0.114818    0.789781          NaN            NaN   \n",
       "4               0.229297    0.081871          NaN            NaN   \n",
       "..                   ...         ...          ...            ...   \n",
       "242                  NaN         NaN          NaN            0.0   \n",
       "243                  NaN         NaN          NaN            0.0   \n",
       "244                  NaN         NaN          NaN            0.0   \n",
       "245                  NaN         NaN          NaN            0.0   \n",
       "246                  NaN         NaN          NaN            0.0   \n",
       "\n",
       "     Best Innovation  Improvement Iterations  Lessons and Sharing  \\\n",
       "0                NaN                     NaN                  NaN   \n",
       "1                NaN                     NaN                  NaN   \n",
       "2                NaN                     NaN                  NaN   \n",
       "3                NaN                     NaN                  NaN   \n",
       "4                NaN                     NaN                  NaN   \n",
       "..               ...                     ...                  ...   \n",
       "242              0.0                     0.0                  0.0   \n",
       "243              0.0                     0.0                  0.0   \n",
       "244              0.0                     0.0                  0.0   \n",
       "245              0.0                     0.0                  0.0   \n",
       "246              0.0                     0.0                  0.0   \n",
       "\n",
       "     Team Contribution and Spirit  \n",
       "0                             NaN  \n",
       "1                             NaN  \n",
       "2                             NaN  \n",
       "3                             NaN  \n",
       "4                             NaN  \n",
       "..                            ...  \n",
       "242                           0.0  \n",
       "243                           0.0  \n",
       "244                           0.0  \n",
       "245                           0.0  \n",
       "246                           0.0  \n",
       "\n",
       "[247 rows x 17 columns]"
      ],
      "text/html": "<div>\n<style scoped>\n    .dataframe tbody tr th:only-of-type {\n        vertical-align: middle;\n    }\n\n    .dataframe tbody tr th {\n        vertical-align: top;\n    }\n\n    .dataframe thead th {\n        text-align: right;\n    }\n</style>\n<table border=\"1\" class=\"dataframe\">\n  <thead>\n    <tr style=\"text-align: right;\">\n      <th></th>\n      <th>Week</th>\n      <th>Line</th>\n      <th>OEE %</th>\n      <th>WeekOfYear</th>\n      <th>Year</th>\n      <th>Date</th>\n      <th>Plant</th>\n      <th>OEE  Start point</th>\n      <th>OEE% Target (2022)</th>\n      <th>Unplanned_tech_loss</th>\n      <th>Changeover</th>\n      <th>rolling_std</th>\n      <th>Best Solution</th>\n      <th>Best Innovation</th>\n      <th>Improvement Iterations</th>\n      <th>Lessons and Sharing</th>\n      <th>Team Contribution and Spirit</th>\n    </tr>\n  </thead>\n  <tbody>\n    <tr>\n      <th>0</th>\n      <td>W13-2021</td>\n      <td>C2 Packaging Line</td>\n      <td>0.458414</td>\n      <td>13.0</td>\n      <td>2021.0</td>\n      <td>2021-04-04</td>\n      <td>Maisons-Alfort</td>\n      <td>0.397503</td>\n      <td>0.47</td>\n      <td>0.465009</td>\n      <td>0.044140</td>\n      <td>NaN</td>\n      <td>NaN</td>\n      <td>NaN</td>\n      <td>NaN</td>\n      <td>NaN</td>\n      <td>NaN</td>\n    </tr>\n    <tr>\n      <th>1</th>\n      <td>W13-2021</td>\n      <td>M22 Filling</td>\n      <td>0.649336</td>\n      <td>13.0</td>\n      <td>2021.0</td>\n      <td>2021-04-04</td>\n      <td>Frankfurt</td>\n      <td>0.530068</td>\n      <td>0.65</td>\n      <td>0.234635</td>\n      <td>0.035164</td>\n      <td>NaN</td>\n      <td>NaN</td>\n      <td>NaN</td>\n      <td>NaN</td>\n      <td>NaN</td>\n      <td>NaN</td>\n    </tr>\n    <tr>\n      <th>2</th>\n      <td>W13-2021</td>\n      <td>SUPPO Packaging Line</td>\n      <td>0.432432</td>\n      <td>13.0</td>\n      <td>2021.0</td>\n      <td>2021-04-04</td>\n      <td>Lisieux</td>\n      <td>0.353021</td>\n      <td>0.53</td>\n      <td>0.148267</td>\n      <td>0.178806</td>\n      <td>NaN</td>\n      <td>NaN</td>\n      <td>NaN</td>\n      <td>NaN</td>\n      <td>NaN</td>\n      <td>NaN</td>\n    </tr>\n    <tr>\n      <th>3</th>\n      <td>W13-2021</td>\n      <td>M18 Filling</td>\n      <td>0.046124</td>\n      <td>13.0</td>\n      <td>2021.0</td>\n      <td>2021-04-04</td>\n      <td>Frankfurt</td>\n      <td>0.443522</td>\n      <td>0.65</td>\n      <td>0.114818</td>\n      <td>0.789781</td>\n      <td>NaN</td>\n      <td>NaN</td>\n      <td>NaN</td>\n      <td>NaN</td>\n      <td>NaN</td>\n      <td>NaN</td>\n    </tr>\n    <tr>\n      <th>4</th>\n      <td>W13-2021</td>\n      <td>C9 Packaging Line</td>\n      <td>0.371845</td>\n      <td>13.0</td>\n      <td>2021.0</td>\n      <td>2021-04-04</td>\n      <td>Maisons-Alfort</td>\n      <td>0.528518</td>\n      <td>0.53</td>\n      <td>0.229297</td>\n      <td>0.081871</td>\n      <td>NaN</td>\n      <td>NaN</td>\n      <td>NaN</td>\n      <td>NaN</td>\n      <td>NaN</td>\n      <td>NaN</td>\n    </tr>\n    <tr>\n      <th>...</th>\n      <td>...</td>\n      <td>...</td>\n      <td>...</td>\n      <td>...</td>\n      <td>...</td>\n      <td>...</td>\n      <td>...</td>\n      <td>...</td>\n      <td>...</td>\n      <td>...</td>\n      <td>...</td>\n      <td>...</td>\n      <td>...</td>\n      <td>...</td>\n      <td>...</td>\n      <td>...</td>\n      <td>...</td>\n    </tr>\n    <tr>\n      <th>242</th>\n      <td>NaN</td>\n      <td>AL5 Packaging 1</td>\n      <td>NaN</td>\n      <td>NaN</td>\n      <td>NaN</td>\n      <td>2021-09-12</td>\n      <td>Frankfurt</td>\n      <td>NaN</td>\n      <td>NaN</td>\n      <td>NaN</td>\n      <td>NaN</td>\n      <td>NaN</td>\n      <td>0.0</td>\n      <td>0.0</td>\n      <td>0.0</td>\n      <td>0.0</td>\n      <td>0.0</td>\n    </tr>\n    <tr>\n      <th>243</th>\n      <td>NaN</td>\n      <td>AL6</td>\n      <td>NaN</td>\n      <td>NaN</td>\n      <td>NaN</td>\n      <td>2021-09-12</td>\n      <td>Frankfurt</td>\n      <td>NaN</td>\n      <td>NaN</td>\n      <td>NaN</td>\n      <td>NaN</td>\n      <td>NaN</td>\n      <td>0.0</td>\n      <td>0.0</td>\n      <td>0.0</td>\n      <td>0.0</td>\n      <td>0.0</td>\n    </tr>\n    <tr>\n      <th>244</th>\n      <td>NaN</td>\n      <td>M18 Filling</td>\n      <td>NaN</td>\n      <td>NaN</td>\n      <td>NaN</td>\n      <td>2021-09-12</td>\n      <td>Frankfurt</td>\n      <td>NaN</td>\n      <td>NaN</td>\n      <td>NaN</td>\n      <td>NaN</td>\n      <td>NaN</td>\n      <td>0.0</td>\n      <td>0.0</td>\n      <td>0.0</td>\n      <td>0.0</td>\n      <td>0.0</td>\n    </tr>\n    <tr>\n      <th>245</th>\n      <td>NaN</td>\n      <td>M21 Filling</td>\n      <td>NaN</td>\n      <td>NaN</td>\n      <td>NaN</td>\n      <td>2021-09-12</td>\n      <td>Frankfurt</td>\n      <td>NaN</td>\n      <td>NaN</td>\n      <td>NaN</td>\n      <td>NaN</td>\n      <td>NaN</td>\n      <td>0.0</td>\n      <td>0.0</td>\n      <td>0.0</td>\n      <td>0.0</td>\n      <td>0.0</td>\n    </tr>\n    <tr>\n      <th>246</th>\n      <td>NaN</td>\n      <td>M22 Filling</td>\n      <td>NaN</td>\n      <td>NaN</td>\n      <td>NaN</td>\n      <td>2021-09-12</td>\n      <td>Frankfurt</td>\n      <td>NaN</td>\n      <td>NaN</td>\n      <td>NaN</td>\n      <td>NaN</td>\n      <td>NaN</td>\n      <td>0.0</td>\n      <td>0.0</td>\n      <td>0.0</td>\n      <td>0.0</td>\n      <td>0.0</td>\n    </tr>\n  </tbody>\n</table>\n<p>247 rows × 17 columns</p>\n</div>"
     },
     "metadata": {},
     "execution_count": 395
    }
   ],
   "source": [
    "df_nom_sectors['Date'] = pd.Series(df_nom_sectors['Date']).fillna(method='ffill')\n",
    "df_nom_sectors = df_nom_sectors.fillna(0)\n",
    "\n",
    "df_weekly = df_weekly.merge(df_nom_sectors[['Line','Plant','Date','Best Solution','Best Innovation','Improvement Iterations','Lessons and Sharing','Team Contribution and Spirit']],how='outer', on=['Date','Plant','Line'])\n",
    "df_weekly"
   ]
  },
  {
   "cell_type": "markdown",
   "metadata": {},
   "source": [
    "## Create review dates\n",
    "create a review_date column for grouping the data later, so we only get the data we're interested in for each review"
   ]
  },
  {
   "cell_type": "code",
   "execution_count": 396,
   "metadata": {},
   "outputs": [],
   "source": [
    "def thurs_of_weekbefore(year, week):\n",
    "    return datetime.date.fromisocalendar(year, week-1, 4)  # (year, week before (w-1), thursday)\n",
    "\n",
    "review_weeks = [16, 20, 24, 28, 34, 38, 42, 47]\n",
    "review_dates = []\n",
    "\n",
    "for i in review_weeks:\n",
    "    if i > 0:\n",
    "        review_dates.append((thurs_of_weekbefore(2021,i)))\n",
    "\n",
    "df_review_dates = pd.DataFrame(review_dates)\n",
    "df_review_dates.rename(columns={0:'Review_Date'}, inplace=True)\n",
    "df_review_dates['Review_Date'] = pd.to_datetime(df_review_dates.Review_Date)\n",
    "\n",
    "# df_review_dates.info()\n",
    "df_weekly = pd.merge_asof(df_weekly.sort_values('Date'), df_review_dates, left_on='Date', right_on='Review_Date', allow_exact_matches=True, direction='forward')\n"
   ]
  },
  {
   "cell_type": "markdown",
   "metadata": {},
   "source": [
    "#### We need the diff between the weekly OEE % figures, and the Weekly Changeover figures\n",
    "Need something to calculate the OEE Progress and Changeover, otherwise we will have problems when we group and sum values later\n",
    "- Create OEE_diff with OEE % from groupby of each Line, Week (only 1 row per week, so 'mean' will yield the same)   \n",
    "- Find the diff between the rows in OEE_Diff for each Line   \n",
    "- fillNA (first row for each Line) with OEE Start point - should only be needed on the first row for each Line   \n",
    "\n",
    "repeat same logic for Changeover - there will be more NaN as start_changeover wasn't provided for all.  We populate this later"
   ]
  },
  {
   "cell_type": "code",
   "execution_count": 397,
   "metadata": {},
   "outputs": [],
   "source": [
    "# this was calculating the wrong Diff - the first row of each site was looking at the previous site for all but the 1st calc\n",
    "# needed to sort by Line and Date first \n",
    "\n",
    "# OEE_Diff = df_weekly.groupby(['Line',pd.Grouper(key='Date',freq='W')])['OEE %'].mean().reset_index()\n",
    "# OEE_Diff[\"OEE_Diff\"] = OEE_Diff[\"OEE %\"].diff()\n",
    "# df_weekly = df_weekly.merge(OEE_Diff[[\"Line\",\"Date\",\"OEE_Diff\"]], on=([\"Line\",\"Date\"]))\n",
    "\n",
    "# df_weekly['OEE_Diff'].fillna(df_weekly['OEE %'] - df_weekly['OEE  Start point'], inplace=True)\n",
    "# df_weekly[[\"Line\",\"Date\",\"OEE %\",\"OEE_Diff\"]].head(50).sort_values(by=['Line', 'Date'])"
   ]
  },
  {
   "source": [
    "after merging with nominations spreadsheet we will have future dated rows that get in the way of calcs later - get rid of them using the review_date set earlier"
   ],
   "cell_type": "markdown",
   "metadata": {}
  },
  {
   "cell_type": "code",
   "execution_count": 399,
   "metadata": {},
   "outputs": [],
   "source": [
    "df_weekly = df_weekly[df_weekly['Review_Date'] <= review_date]"
   ]
  },
  {
   "cell_type": "code",
   "execution_count": 400,
   "metadata": {},
   "outputs": [
    {
     "output_type": "execute_result",
     "data": {
      "text/plain": [
       "                    Line       Date     OEE %  OEE_Diff\n",
       "12       AL5 Packaging 1 2021-04-04  0.479693  0.000000\n",
       "25       AL5 Packaging 1 2021-04-11  0.479693  0.000000\n",
       "30       AL5 Packaging 1 2021-04-18  0.449745 -0.029948\n",
       "3                    AL6 2021-04-04  0.367897  0.035240\n",
       "16                   AL6 2021-04-11  0.360681 -0.007216\n",
       "31                   AL6 2021-04-18  0.334140 -0.026541\n",
       "45                   AL6 2021-04-25  0.309545 -0.024595\n",
       "0      C2 Packaging Line 2021-04-04  0.458414  0.060911\n",
       "19     C2 Packaging Line 2021-04-11  0.530707  0.072293\n",
       "38     C2 Packaging Line 2021-04-18  0.410676 -0.120032\n",
       "39     C2 Packaging Line 2021-04-25  0.372550 -0.038125\n",
       "8      C9 Packaging Line 2021-04-04  0.371845 -0.156673\n",
       "13     C9 Packaging Line 2021-04-11  0.259071 -0.112774\n",
       "28     C9 Packaging Line 2021-04-18  0.444577  0.185507\n",
       "40     C9 Packaging Line 2021-04-25  0.509444  0.064867\n",
       "6                 GAMMA1 2021-04-04  0.431186  0.012503\n",
       "23                GAMMA1 2021-04-11  0.389690 -0.041496\n",
       "37                GAMMA1 2021-04-18  0.458668  0.068978\n",
       "41                GAMMA1 2021-04-25  0.471819  0.013150\n",
       "2              IMA C80/2 2021-04-04  0.581304  0.130272\n",
       "21             IMA C80/2 2021-04-11  0.433635 -0.147669\n",
       "27             IMA C80/2 2021-04-18  0.451515  0.017881\n",
       "44             IMA C80/2 2021-04-25  0.406219 -0.045296\n",
       "1     L18 Packaging Line 2021-04-04  0.465923  0.088240\n",
       "17    L18 Packaging Line 2021-04-11  0.410901 -0.055022\n",
       "35    L18 Packaging Line 2021-04-18  0.401397 -0.009504\n",
       "46    L18 Packaging Line 2021-04-25  0.357559 -0.043839\n",
       "5     L25 Packaging Line 2021-04-04  0.393740  0.042176\n",
       "14    L25 Packaging Line 2021-04-11  0.346988 -0.046751\n",
       "36    L25 Packaging Line 2021-04-18  0.187845 -0.159143\n",
       "9            M18 Filling 2021-04-04  0.046124 -0.397398\n",
       "18           M18 Filling 2021-04-11  0.463021  0.416897\n",
       "32           M18 Filling 2021-04-18  0.386723 -0.076297\n",
       "47           M18 Filling 2021-04-25  0.352420 -0.034303\n",
       "7            M21 Filling 2021-04-04  0.599671  0.000000\n",
       "24           M21 Filling 2021-04-11  0.599671  0.000000\n",
       "33           M21 Filling 2021-04-18  0.599671  0.000000\n",
       "42           M21 Filling 2021-04-25  0.000000 -0.599671\n",
       "11           M22 Filling 2021-04-04  0.649336  0.119268\n",
       "22           M22 Filling 2021-04-11  0.427316 -0.222019\n",
       "34           M22 Filling 2021-04-18  0.520511  0.093195\n",
       "43           M22 Filling 2021-04-25  0.703703  0.183191\n",
       "10  SUPPO Packaging Line 2021-04-04  0.432432  0.079411\n",
       "20  SUPPO Packaging Line 2021-04-11  0.518594  0.086162\n",
       "29  SUPPO Packaging Line 2021-04-18  0.633037  0.114443\n",
       "49  SUPPO Packaging Line 2021-04-25  0.403974 -0.229063\n",
       "4   TR200 Packaging Line 2021-04-04  0.596432  0.112928\n",
       "15  TR200 Packaging Line 2021-04-11  0.515187 -0.081246\n",
       "26  TR200 Packaging Line 2021-04-18  0.655470  0.140283\n",
       "48  TR200 Packaging Line 2021-04-25  0.501130 -0.154340"
      ],
      "text/html": "<div>\n<style scoped>\n    .dataframe tbody tr th:only-of-type {\n        vertical-align: middle;\n    }\n\n    .dataframe tbody tr th {\n        vertical-align: top;\n    }\n\n    .dataframe thead th {\n        text-align: right;\n    }\n</style>\n<table border=\"1\" class=\"dataframe\">\n  <thead>\n    <tr style=\"text-align: right;\">\n      <th></th>\n      <th>Line</th>\n      <th>Date</th>\n      <th>OEE %</th>\n      <th>OEE_Diff</th>\n    </tr>\n  </thead>\n  <tbody>\n    <tr>\n      <th>12</th>\n      <td>AL5 Packaging 1</td>\n      <td>2021-04-04</td>\n      <td>0.479693</td>\n      <td>0.000000</td>\n    </tr>\n    <tr>\n      <th>25</th>\n      <td>AL5 Packaging 1</td>\n      <td>2021-04-11</td>\n      <td>0.479693</td>\n      <td>0.000000</td>\n    </tr>\n    <tr>\n      <th>30</th>\n      <td>AL5 Packaging 1</td>\n      <td>2021-04-18</td>\n      <td>0.449745</td>\n      <td>-0.029948</td>\n    </tr>\n    <tr>\n      <th>3</th>\n      <td>AL6</td>\n      <td>2021-04-04</td>\n      <td>0.367897</td>\n      <td>0.035240</td>\n    </tr>\n    <tr>\n      <th>16</th>\n      <td>AL6</td>\n      <td>2021-04-11</td>\n      <td>0.360681</td>\n      <td>-0.007216</td>\n    </tr>\n    <tr>\n      <th>31</th>\n      <td>AL6</td>\n      <td>2021-04-18</td>\n      <td>0.334140</td>\n      <td>-0.026541</td>\n    </tr>\n    <tr>\n      <th>45</th>\n      <td>AL6</td>\n      <td>2021-04-25</td>\n      <td>0.309545</td>\n      <td>-0.024595</td>\n    </tr>\n    <tr>\n      <th>0</th>\n      <td>C2 Packaging Line</td>\n      <td>2021-04-04</td>\n      <td>0.458414</td>\n      <td>0.060911</td>\n    </tr>\n    <tr>\n      <th>19</th>\n      <td>C2 Packaging Line</td>\n      <td>2021-04-11</td>\n      <td>0.530707</td>\n      <td>0.072293</td>\n    </tr>\n    <tr>\n      <th>38</th>\n      <td>C2 Packaging Line</td>\n      <td>2021-04-18</td>\n      <td>0.410676</td>\n      <td>-0.120032</td>\n    </tr>\n    <tr>\n      <th>39</th>\n      <td>C2 Packaging Line</td>\n      <td>2021-04-25</td>\n      <td>0.372550</td>\n      <td>-0.038125</td>\n    </tr>\n    <tr>\n      <th>8</th>\n      <td>C9 Packaging Line</td>\n      <td>2021-04-04</td>\n      <td>0.371845</td>\n      <td>-0.156673</td>\n    </tr>\n    <tr>\n      <th>13</th>\n      <td>C9 Packaging Line</td>\n      <td>2021-04-11</td>\n      <td>0.259071</td>\n      <td>-0.112774</td>\n    </tr>\n    <tr>\n      <th>28</th>\n      <td>C9 Packaging Line</td>\n      <td>2021-04-18</td>\n      <td>0.444577</td>\n      <td>0.185507</td>\n    </tr>\n    <tr>\n      <th>40</th>\n      <td>C9 Packaging Line</td>\n      <td>2021-04-25</td>\n      <td>0.509444</td>\n      <td>0.064867</td>\n    </tr>\n    <tr>\n      <th>6</th>\n      <td>GAMMA1</td>\n      <td>2021-04-04</td>\n      <td>0.431186</td>\n      <td>0.012503</td>\n    </tr>\n    <tr>\n      <th>23</th>\n      <td>GAMMA1</td>\n      <td>2021-04-11</td>\n      <td>0.389690</td>\n      <td>-0.041496</td>\n    </tr>\n    <tr>\n      <th>37</th>\n      <td>GAMMA1</td>\n      <td>2021-04-18</td>\n      <td>0.458668</td>\n      <td>0.068978</td>\n    </tr>\n    <tr>\n      <th>41</th>\n      <td>GAMMA1</td>\n      <td>2021-04-25</td>\n      <td>0.471819</td>\n      <td>0.013150</td>\n    </tr>\n    <tr>\n      <th>2</th>\n      <td>IMA C80/2</td>\n      <td>2021-04-04</td>\n      <td>0.581304</td>\n      <td>0.130272</td>\n    </tr>\n    <tr>\n      <th>21</th>\n      <td>IMA C80/2</td>\n      <td>2021-04-11</td>\n      <td>0.433635</td>\n      <td>-0.147669</td>\n    </tr>\n    <tr>\n      <th>27</th>\n      <td>IMA C80/2</td>\n      <td>2021-04-18</td>\n      <td>0.451515</td>\n      <td>0.017881</td>\n    </tr>\n    <tr>\n      <th>44</th>\n      <td>IMA C80/2</td>\n      <td>2021-04-25</td>\n      <td>0.406219</td>\n      <td>-0.045296</td>\n    </tr>\n    <tr>\n      <th>1</th>\n      <td>L18 Packaging Line</td>\n      <td>2021-04-04</td>\n      <td>0.465923</td>\n      <td>0.088240</td>\n    </tr>\n    <tr>\n      <th>17</th>\n      <td>L18 Packaging Line</td>\n      <td>2021-04-11</td>\n      <td>0.410901</td>\n      <td>-0.055022</td>\n    </tr>\n    <tr>\n      <th>35</th>\n      <td>L18 Packaging Line</td>\n      <td>2021-04-18</td>\n      <td>0.401397</td>\n      <td>-0.009504</td>\n    </tr>\n    <tr>\n      <th>46</th>\n      <td>L18 Packaging Line</td>\n      <td>2021-04-25</td>\n      <td>0.357559</td>\n      <td>-0.043839</td>\n    </tr>\n    <tr>\n      <th>5</th>\n      <td>L25 Packaging Line</td>\n      <td>2021-04-04</td>\n      <td>0.393740</td>\n      <td>0.042176</td>\n    </tr>\n    <tr>\n      <th>14</th>\n      <td>L25 Packaging Line</td>\n      <td>2021-04-11</td>\n      <td>0.346988</td>\n      <td>-0.046751</td>\n    </tr>\n    <tr>\n      <th>36</th>\n      <td>L25 Packaging Line</td>\n      <td>2021-04-18</td>\n      <td>0.187845</td>\n      <td>-0.159143</td>\n    </tr>\n    <tr>\n      <th>9</th>\n      <td>M18 Filling</td>\n      <td>2021-04-04</td>\n      <td>0.046124</td>\n      <td>-0.397398</td>\n    </tr>\n    <tr>\n      <th>18</th>\n      <td>M18 Filling</td>\n      <td>2021-04-11</td>\n      <td>0.463021</td>\n      <td>0.416897</td>\n    </tr>\n    <tr>\n      <th>32</th>\n      <td>M18 Filling</td>\n      <td>2021-04-18</td>\n      <td>0.386723</td>\n      <td>-0.076297</td>\n    </tr>\n    <tr>\n      <th>47</th>\n      <td>M18 Filling</td>\n      <td>2021-04-25</td>\n      <td>0.352420</td>\n      <td>-0.034303</td>\n    </tr>\n    <tr>\n      <th>7</th>\n      <td>M21 Filling</td>\n      <td>2021-04-04</td>\n      <td>0.599671</td>\n      <td>0.000000</td>\n    </tr>\n    <tr>\n      <th>24</th>\n      <td>M21 Filling</td>\n      <td>2021-04-11</td>\n      <td>0.599671</td>\n      <td>0.000000</td>\n    </tr>\n    <tr>\n      <th>33</th>\n      <td>M21 Filling</td>\n      <td>2021-04-18</td>\n      <td>0.599671</td>\n      <td>0.000000</td>\n    </tr>\n    <tr>\n      <th>42</th>\n      <td>M21 Filling</td>\n      <td>2021-04-25</td>\n      <td>0.000000</td>\n      <td>-0.599671</td>\n    </tr>\n    <tr>\n      <th>11</th>\n      <td>M22 Filling</td>\n      <td>2021-04-04</td>\n      <td>0.649336</td>\n      <td>0.119268</td>\n    </tr>\n    <tr>\n      <th>22</th>\n      <td>M22 Filling</td>\n      <td>2021-04-11</td>\n      <td>0.427316</td>\n      <td>-0.222019</td>\n    </tr>\n    <tr>\n      <th>34</th>\n      <td>M22 Filling</td>\n      <td>2021-04-18</td>\n      <td>0.520511</td>\n      <td>0.093195</td>\n    </tr>\n    <tr>\n      <th>43</th>\n      <td>M22 Filling</td>\n      <td>2021-04-25</td>\n      <td>0.703703</td>\n      <td>0.183191</td>\n    </tr>\n    <tr>\n      <th>10</th>\n      <td>SUPPO Packaging Line</td>\n      <td>2021-04-04</td>\n      <td>0.432432</td>\n      <td>0.079411</td>\n    </tr>\n    <tr>\n      <th>20</th>\n      <td>SUPPO Packaging Line</td>\n      <td>2021-04-11</td>\n      <td>0.518594</td>\n      <td>0.086162</td>\n    </tr>\n    <tr>\n      <th>29</th>\n      <td>SUPPO Packaging Line</td>\n      <td>2021-04-18</td>\n      <td>0.633037</td>\n      <td>0.114443</td>\n    </tr>\n    <tr>\n      <th>49</th>\n      <td>SUPPO Packaging Line</td>\n      <td>2021-04-25</td>\n      <td>0.403974</td>\n      <td>-0.229063</td>\n    </tr>\n    <tr>\n      <th>4</th>\n      <td>TR200 Packaging Line</td>\n      <td>2021-04-04</td>\n      <td>0.596432</td>\n      <td>0.112928</td>\n    </tr>\n    <tr>\n      <th>15</th>\n      <td>TR200 Packaging Line</td>\n      <td>2021-04-11</td>\n      <td>0.515187</td>\n      <td>-0.081246</td>\n    </tr>\n    <tr>\n      <th>26</th>\n      <td>TR200 Packaging Line</td>\n      <td>2021-04-18</td>\n      <td>0.655470</td>\n      <td>0.140283</td>\n    </tr>\n    <tr>\n      <th>48</th>\n      <td>TR200 Packaging Line</td>\n      <td>2021-04-25</td>\n      <td>0.501130</td>\n      <td>-0.154340</td>\n    </tr>\n  </tbody>\n</table>\n</div>"
     },
     "metadata": {},
     "execution_count": 400
    }
   ],
   "source": [
    "OEE_Diff = df_weekly.sort_values(by=['Line', 'Date'])[['Line','Date','OEE %','OEE  Start point']]\n",
    "OEE_Diff['OEE_Diff'] = OEE_Diff.groupby('Line')['OEE %'].diff().fillna(df_weekly['OEE %'] - df_weekly['OEE  Start point'])\n",
    "df_weekly = df_weekly.merge(OEE_Diff[[\"Line\",\"Date\",\"OEE_Diff\"]], on=([\"Line\",\"Date\"]))\n",
    "df_weekly[[\"Line\",\"Date\",\"OEE %\",\"OEE_Diff\"]].head(50).sort_values(by=['Line', 'Date'])"
   ]
  },
  {
   "cell_type": "code",
   "execution_count": 401,
   "metadata": {},
   "outputs": [],
   "source": [
    "# Changeover_Diff = df_weekly.sort_values(by=['Line', 'Date'])[['Line','Date','Changeover','start_changeover']]\n",
    "Changeover_Diff = df_weekly.sort_values(by=['Line', 'Date'])[['Line','Date','Changeover']]\n",
    "# Changeover_Diff['Changeover_Diff'] = Changeover_Diff.groupby('Line')['Changeover'].diff().fillna(df_weekly['start_changeover'] - df_weekly['Changeover'])\n",
    "Changeover_Diff['Changeover_Diff'] = Changeover_Diff.groupby('Line')['Changeover'].diff().fillna(0)\n",
    "df_weekly = df_weekly.merge(Changeover_Diff[[\"Line\",\"Date\",\"Changeover_Diff\"]], on=([\"Line\",\"Date\"]))"
   ]
  },
  {
   "cell_type": "code",
   "execution_count": 402,
   "metadata": {},
   "outputs": [
    {
     "output_type": "execute_result",
     "data": {
      "text/plain": [
       "                Line       Date  Changeover  Changeover_Diff\n",
       "12   AL5 Packaging 1 2021-04-04         NaN         0.000000\n",
       "25   AL5 Packaging 1 2021-04-11         NaN         0.000000\n",
       "30   AL5 Packaging 1 2021-04-18    0.087039         0.000000\n",
       "51   AL5 Packaging 1 2021-04-25    0.122727         0.035688\n",
       "54   AL5 Packaging 1 2021-05-02    0.063261        -0.059466\n",
       "77   AL5 Packaging 1 2021-05-09    0.089293         0.026032\n",
       "91   AL5 Packaging 1 2021-05-16    0.060573        -0.028721\n",
       "108  AL5 Packaging 1 2021-05-23         NaN         0.000000\n",
       "114  AL5 Packaging 1 2021-05-30         NaN         0.000000\n",
       "129  AL5 Packaging 1 2021-06-06    0.088889         0.000000\n",
       "148  AL5 Packaging 1 2021-06-13    0.060616        -0.028273\n",
       "157  AL5 Packaging 1 2021-06-20    0.043202        -0.017414\n",
       "182  AL5 Packaging 1 2021-06-27    0.123431         0.080229\n",
       "191  AL5 Packaging 1 2021-07-04    0.089052        -0.034378"
      ],
      "text/html": "<div>\n<style scoped>\n    .dataframe tbody tr th:only-of-type {\n        vertical-align: middle;\n    }\n\n    .dataframe tbody tr th {\n        vertical-align: top;\n    }\n\n    .dataframe thead th {\n        text-align: right;\n    }\n</style>\n<table border=\"1\" class=\"dataframe\">\n  <thead>\n    <tr style=\"text-align: right;\">\n      <th></th>\n      <th>Line</th>\n      <th>Date</th>\n      <th>Changeover</th>\n      <th>Changeover_Diff</th>\n    </tr>\n  </thead>\n  <tbody>\n    <tr>\n      <th>12</th>\n      <td>AL5 Packaging 1</td>\n      <td>2021-04-04</td>\n      <td>NaN</td>\n      <td>0.000000</td>\n    </tr>\n    <tr>\n      <th>25</th>\n      <td>AL5 Packaging 1</td>\n      <td>2021-04-11</td>\n      <td>NaN</td>\n      <td>0.000000</td>\n    </tr>\n    <tr>\n      <th>30</th>\n      <td>AL5 Packaging 1</td>\n      <td>2021-04-18</td>\n      <td>0.087039</td>\n      <td>0.000000</td>\n    </tr>\n    <tr>\n      <th>51</th>\n      <td>AL5 Packaging 1</td>\n      <td>2021-04-25</td>\n      <td>0.122727</td>\n      <td>0.035688</td>\n    </tr>\n    <tr>\n      <th>54</th>\n      <td>AL5 Packaging 1</td>\n      <td>2021-05-02</td>\n      <td>0.063261</td>\n      <td>-0.059466</td>\n    </tr>\n    <tr>\n      <th>77</th>\n      <td>AL5 Packaging 1</td>\n      <td>2021-05-09</td>\n      <td>0.089293</td>\n      <td>0.026032</td>\n    </tr>\n    <tr>\n      <th>91</th>\n      <td>AL5 Packaging 1</td>\n      <td>2021-05-16</td>\n      <td>0.060573</td>\n      <td>-0.028721</td>\n    </tr>\n    <tr>\n      <th>108</th>\n      <td>AL5 Packaging 1</td>\n      <td>2021-05-23</td>\n      <td>NaN</td>\n      <td>0.000000</td>\n    </tr>\n    <tr>\n      <th>114</th>\n      <td>AL5 Packaging 1</td>\n      <td>2021-05-30</td>\n      <td>NaN</td>\n      <td>0.000000</td>\n    </tr>\n    <tr>\n      <th>129</th>\n      <td>AL5 Packaging 1</td>\n      <td>2021-06-06</td>\n      <td>0.088889</td>\n      <td>0.000000</td>\n    </tr>\n    <tr>\n      <th>148</th>\n      <td>AL5 Packaging 1</td>\n      <td>2021-06-13</td>\n      <td>0.060616</td>\n      <td>-0.028273</td>\n    </tr>\n    <tr>\n      <th>157</th>\n      <td>AL5 Packaging 1</td>\n      <td>2021-06-20</td>\n      <td>0.043202</td>\n      <td>-0.017414</td>\n    </tr>\n    <tr>\n      <th>182</th>\n      <td>AL5 Packaging 1</td>\n      <td>2021-06-27</td>\n      <td>0.123431</td>\n      <td>0.080229</td>\n    </tr>\n    <tr>\n      <th>191</th>\n      <td>AL5 Packaging 1</td>\n      <td>2021-07-04</td>\n      <td>0.089052</td>\n      <td>-0.034378</td>\n    </tr>\n  </tbody>\n</table>\n</div>"
     },
     "metadata": {},
     "execution_count": 402
    }
   ],
   "source": [
    "Changeover_Diff[Changeover_Diff.Line.str.contains('AL5')]"
   ]
  },
  {
   "cell_type": "code",
   "execution_count": 403,
   "metadata": {},
   "outputs": [],
   "source": [
    "# Changeover_mean = df_weekly.sort_values(by=['Line', 'Date'])[['Line','Date','Changeover','start_changeover']]\n",
    "Changeover_mean = df_weekly.sort_values(by=['Line', 'Date'])[['Line','Date','Changeover']]\n",
    "Changeover_mean['Changeover_rolling_mean'] = Changeover_mean.groupby('Line')['Changeover'].apply(lambda x : x.rolling(4,1).mean())\n",
    "df_weekly = df_weekly.merge(Changeover_mean[[\"Line\",\"Date\",\"Changeover_rolling_mean\"]], on=([\"Line\",\"Date\"]))"
   ]
  },
  {
   "cell_type": "code",
   "execution_count": 404,
   "metadata": {},
   "outputs": [
    {
     "output_type": "execute_result",
     "data": {
      "text/plain": [
       "                       Line       Date  Changeover  Changeover_rolling_mean\n",
       "65   LINE 01 - UHLMANN 1880 2021-05-02    0.000000                 0.000000\n",
       "73   LINE 01 - UHLMANN 1880 2021-05-09    0.000000                 0.000000\n",
       "89   LINE 01 - UHLMANN 1880 2021-05-16    0.016561                 0.005520\n",
       "100  LINE 01 - UHLMANN 1880 2021-05-23    0.040157                 0.014179\n",
       "126  LINE 01 - UHLMANN 1880 2021-05-30    0.024481                 0.020300\n",
       "132  LINE 01 - UHLMANN 1880 2021-06-06    0.205835                 0.071758\n",
       "142  LINE 01 - UHLMANN 1880 2021-06-13    0.025332                 0.073951\n",
       "166  LINE 01 - UHLMANN 1880 2021-06-20    0.023659                 0.069827\n",
       "184  LINE 01 - UHLMANN 1880 2021-06-27    0.018125                 0.068238\n",
       "195  LINE 01 - UHLMANN 1880 2021-07-04    0.094504                 0.040405"
      ],
      "text/html": "<div>\n<style scoped>\n    .dataframe tbody tr th:only-of-type {\n        vertical-align: middle;\n    }\n\n    .dataframe tbody tr th {\n        vertical-align: top;\n    }\n\n    .dataframe thead th {\n        text-align: right;\n    }\n</style>\n<table border=\"1\" class=\"dataframe\">\n  <thead>\n    <tr style=\"text-align: right;\">\n      <th></th>\n      <th>Line</th>\n      <th>Date</th>\n      <th>Changeover</th>\n      <th>Changeover_rolling_mean</th>\n    </tr>\n  </thead>\n  <tbody>\n    <tr>\n      <th>65</th>\n      <td>LINE 01 - UHLMANN 1880</td>\n      <td>2021-05-02</td>\n      <td>0.000000</td>\n      <td>0.000000</td>\n    </tr>\n    <tr>\n      <th>73</th>\n      <td>LINE 01 - UHLMANN 1880</td>\n      <td>2021-05-09</td>\n      <td>0.000000</td>\n      <td>0.000000</td>\n    </tr>\n    <tr>\n      <th>89</th>\n      <td>LINE 01 - UHLMANN 1880</td>\n      <td>2021-05-16</td>\n      <td>0.016561</td>\n      <td>0.005520</td>\n    </tr>\n    <tr>\n      <th>100</th>\n      <td>LINE 01 - UHLMANN 1880</td>\n      <td>2021-05-23</td>\n      <td>0.040157</td>\n      <td>0.014179</td>\n    </tr>\n    <tr>\n      <th>126</th>\n      <td>LINE 01 - UHLMANN 1880</td>\n      <td>2021-05-30</td>\n      <td>0.024481</td>\n      <td>0.020300</td>\n    </tr>\n    <tr>\n      <th>132</th>\n      <td>LINE 01 - UHLMANN 1880</td>\n      <td>2021-06-06</td>\n      <td>0.205835</td>\n      <td>0.071758</td>\n    </tr>\n    <tr>\n      <th>142</th>\n      <td>LINE 01 - UHLMANN 1880</td>\n      <td>2021-06-13</td>\n      <td>0.025332</td>\n      <td>0.073951</td>\n    </tr>\n    <tr>\n      <th>166</th>\n      <td>LINE 01 - UHLMANN 1880</td>\n      <td>2021-06-20</td>\n      <td>0.023659</td>\n      <td>0.069827</td>\n    </tr>\n    <tr>\n      <th>184</th>\n      <td>LINE 01 - UHLMANN 1880</td>\n      <td>2021-06-27</td>\n      <td>0.018125</td>\n      <td>0.068238</td>\n    </tr>\n    <tr>\n      <th>195</th>\n      <td>LINE 01 - UHLMANN 1880</td>\n      <td>2021-07-04</td>\n      <td>0.094504</td>\n      <td>0.040405</td>\n    </tr>\n  </tbody>\n</table>\n</div>"
     },
     "metadata": {},
     "execution_count": 404
    }
   ],
   "source": [
    "Changeover_mean[Changeover_mean.Line.str.contains('LINE')]"
   ]
  },
  {
   "cell_type": "markdown",
   "metadata": {},
   "source": [
    "#### Populate missing Unplanned Tech Loss\n",
    "\n",
    "- Create weekly min/max cols for Unplanned tech loss from any site   \n",
    "- Merge those columns into df_weekly   \n",
    "- fill any NaN rows with the max Unplanned_tech_loss found for that week   \n",
    "\n",
    "**this might be flawed!!** "
   ]
  },
  {
   "cell_type": "code",
   "execution_count": 405,
   "metadata": {},
   "outputs": [
    {
     "output_type": "execute_result",
     "data": {
      "text/plain": [
       "         Week                  Line     OEE %  WeekOfYear    Year       Date  \\\n",
       "0    W13-2021     C2 Packaging Line  0.458414        13.0  2021.0 2021-04-04   \n",
       "1    W13-2021    L18 Packaging Line  0.465923        13.0  2021.0 2021-04-04   \n",
       "2    W13-2021             IMA C80/2  0.581304        13.0  2021.0 2021-04-04   \n",
       "3    W13-2021                   AL6  0.367897        13.0  2021.0 2021-04-04   \n",
       "4    W13-2021  TR200 Packaging Line  0.596432        13.0  2021.0 2021-04-04   \n",
       "..        ...                   ...       ...         ...     ...        ...   \n",
       "197  W26-2021                GAMMA1  0.491885        26.0  2021.0 2021-07-04   \n",
       "198  W26-2021     C9 Packaging Line  0.406623        26.0  2021.0 2021-07-04   \n",
       "199  W26-2021    L18 Packaging Line  0.408843        26.0  2021.0 2021-07-04   \n",
       "200  W26-2021    L25 Packaging Line  0.381273        26.0  2021.0 2021-07-04   \n",
       "201  W26-2021           M18 Filling  0.000000        26.0  2021.0 2021-07-04   \n",
       "\n",
       "              Plant  OEE  Start point  OEE% Target (2022)  \\\n",
       "0    Maisons-Alfort          0.397503               0.470   \n",
       "1             Tours          0.377683               0.547   \n",
       "2          SCOPPITO          0.451031               0.580   \n",
       "3         Frankfurt          0.332657               0.450   \n",
       "4           Lisieux          0.483505               0.650   \n",
       "..              ...               ...                 ...   \n",
       "197        SCOPPITO          0.418683               0.570   \n",
       "198  Maisons-Alfort          0.528518               0.530   \n",
       "199           Tours          0.377683               0.547   \n",
       "200           Tours          0.351564               0.478   \n",
       "201       Frankfurt          0.443522               0.650   \n",
       "\n",
       "     Unplanned_tech_loss  ...  rolling_std  Best Solution  Best Innovation  \\\n",
       "0               0.465009  ...          NaN            NaN              NaN   \n",
       "1               0.208273  ...          NaN            NaN              NaN   \n",
       "2               0.224561  ...          NaN            NaN              NaN   \n",
       "3               0.342851  ...          NaN            NaN              NaN   \n",
       "4               0.163573  ...          NaN            NaN              NaN   \n",
       "..                   ...  ...          ...            ...              ...   \n",
       "197             0.143339  ...     0.055086            0.0              0.0   \n",
       "198             0.452948  ...     0.081720            0.0              0.0   \n",
       "199             0.184455  ...     0.054692            0.0              0.0   \n",
       "200             0.192098  ...     0.019916            0.0              0.0   \n",
       "201             0.000000  ...     0.320648            0.0              0.0   \n",
       "\n",
       "     Improvement Iterations  Lessons and Sharing  \\\n",
       "0                       NaN                  NaN   \n",
       "1                       NaN                  NaN   \n",
       "2                       NaN                  NaN   \n",
       "3                       NaN                  NaN   \n",
       "4                       NaN                  NaN   \n",
       "..                      ...                  ...   \n",
       "197                     0.0                  0.0   \n",
       "198                     0.0                  0.0   \n",
       "199                     0.0                  0.0   \n",
       "200                     0.0                  0.0   \n",
       "201                     0.0                  0.0   \n",
       "\n",
       "     Team Contribution and Spirit  Review_Date  OEE_Diff  Changeover_Diff  \\\n",
       "0                             NaN   2021-04-15  0.060911         0.000000   \n",
       "1                             NaN   2021-04-15  0.088240         0.000000   \n",
       "2                             NaN   2021-04-15  0.130272         0.000000   \n",
       "3                             NaN   2021-04-15  0.035240         0.000000   \n",
       "4                             NaN   2021-04-15  0.112928         0.000000   \n",
       "..                            ...          ...       ...              ...   \n",
       "197                           0.0   2021-07-08 -0.111172         0.000000   \n",
       "198                           0.0   2021-07-08 -0.082118        -0.057612   \n",
       "199                           0.0   2021-07-08 -0.084213         0.036575   \n",
       "200                           0.0   2021-07-08  0.036620        -0.031079   \n",
       "201                           0.0   2021-07-08 -0.620440         0.958811   \n",
       "\n",
       "     Changeover_rolling_mean  \n",
       "0                   0.044140  \n",
       "1                   0.134271  \n",
       "2                   0.070836  \n",
       "3                   0.184958  \n",
       "4                   0.075189  \n",
       "..                       ...  \n",
       "197                 0.219199  \n",
       "198                 0.064467  \n",
       "199                 0.182758  \n",
       "200                 0.252406  \n",
       "201                 0.279900  \n",
       "\n",
       "[202 rows x 21 columns]"
      ],
      "text/html": "<div>\n<style scoped>\n    .dataframe tbody tr th:only-of-type {\n        vertical-align: middle;\n    }\n\n    .dataframe tbody tr th {\n        vertical-align: top;\n    }\n\n    .dataframe thead th {\n        text-align: right;\n    }\n</style>\n<table border=\"1\" class=\"dataframe\">\n  <thead>\n    <tr style=\"text-align: right;\">\n      <th></th>\n      <th>Week</th>\n      <th>Line</th>\n      <th>OEE %</th>\n      <th>WeekOfYear</th>\n      <th>Year</th>\n      <th>Date</th>\n      <th>Plant</th>\n      <th>OEE  Start point</th>\n      <th>OEE% Target (2022)</th>\n      <th>Unplanned_tech_loss</th>\n      <th>...</th>\n      <th>rolling_std</th>\n      <th>Best Solution</th>\n      <th>Best Innovation</th>\n      <th>Improvement Iterations</th>\n      <th>Lessons and Sharing</th>\n      <th>Team Contribution and Spirit</th>\n      <th>Review_Date</th>\n      <th>OEE_Diff</th>\n      <th>Changeover_Diff</th>\n      <th>Changeover_rolling_mean</th>\n    </tr>\n  </thead>\n  <tbody>\n    <tr>\n      <th>0</th>\n      <td>W13-2021</td>\n      <td>C2 Packaging Line</td>\n      <td>0.458414</td>\n      <td>13.0</td>\n      <td>2021.0</td>\n      <td>2021-04-04</td>\n      <td>Maisons-Alfort</td>\n      <td>0.397503</td>\n      <td>0.470</td>\n      <td>0.465009</td>\n      <td>...</td>\n      <td>NaN</td>\n      <td>NaN</td>\n      <td>NaN</td>\n      <td>NaN</td>\n      <td>NaN</td>\n      <td>NaN</td>\n      <td>2021-04-15</td>\n      <td>0.060911</td>\n      <td>0.000000</td>\n      <td>0.044140</td>\n    </tr>\n    <tr>\n      <th>1</th>\n      <td>W13-2021</td>\n      <td>L18 Packaging Line</td>\n      <td>0.465923</td>\n      <td>13.0</td>\n      <td>2021.0</td>\n      <td>2021-04-04</td>\n      <td>Tours</td>\n      <td>0.377683</td>\n      <td>0.547</td>\n      <td>0.208273</td>\n      <td>...</td>\n      <td>NaN</td>\n      <td>NaN</td>\n      <td>NaN</td>\n      <td>NaN</td>\n      <td>NaN</td>\n      <td>NaN</td>\n      <td>2021-04-15</td>\n      <td>0.088240</td>\n      <td>0.000000</td>\n      <td>0.134271</td>\n    </tr>\n    <tr>\n      <th>2</th>\n      <td>W13-2021</td>\n      <td>IMA C80/2</td>\n      <td>0.581304</td>\n      <td>13.0</td>\n      <td>2021.0</td>\n      <td>2021-04-04</td>\n      <td>SCOPPITO</td>\n      <td>0.451031</td>\n      <td>0.580</td>\n      <td>0.224561</td>\n      <td>...</td>\n      <td>NaN</td>\n      <td>NaN</td>\n      <td>NaN</td>\n      <td>NaN</td>\n      <td>NaN</td>\n      <td>NaN</td>\n      <td>2021-04-15</td>\n      <td>0.130272</td>\n      <td>0.000000</td>\n      <td>0.070836</td>\n    </tr>\n    <tr>\n      <th>3</th>\n      <td>W13-2021</td>\n      <td>AL6</td>\n      <td>0.367897</td>\n      <td>13.0</td>\n      <td>2021.0</td>\n      <td>2021-04-04</td>\n      <td>Frankfurt</td>\n      <td>0.332657</td>\n      <td>0.450</td>\n      <td>0.342851</td>\n      <td>...</td>\n      <td>NaN</td>\n      <td>NaN</td>\n      <td>NaN</td>\n      <td>NaN</td>\n      <td>NaN</td>\n      <td>NaN</td>\n      <td>2021-04-15</td>\n      <td>0.035240</td>\n      <td>0.000000</td>\n      <td>0.184958</td>\n    </tr>\n    <tr>\n      <th>4</th>\n      <td>W13-2021</td>\n      <td>TR200 Packaging Line</td>\n      <td>0.596432</td>\n      <td>13.0</td>\n      <td>2021.0</td>\n      <td>2021-04-04</td>\n      <td>Lisieux</td>\n      <td>0.483505</td>\n      <td>0.650</td>\n      <td>0.163573</td>\n      <td>...</td>\n      <td>NaN</td>\n      <td>NaN</td>\n      <td>NaN</td>\n      <td>NaN</td>\n      <td>NaN</td>\n      <td>NaN</td>\n      <td>2021-04-15</td>\n      <td>0.112928</td>\n      <td>0.000000</td>\n      <td>0.075189</td>\n    </tr>\n    <tr>\n      <th>...</th>\n      <td>...</td>\n      <td>...</td>\n      <td>...</td>\n      <td>...</td>\n      <td>...</td>\n      <td>...</td>\n      <td>...</td>\n      <td>...</td>\n      <td>...</td>\n      <td>...</td>\n      <td>...</td>\n      <td>...</td>\n      <td>...</td>\n      <td>...</td>\n      <td>...</td>\n      <td>...</td>\n      <td>...</td>\n      <td>...</td>\n      <td>...</td>\n      <td>...</td>\n      <td>...</td>\n    </tr>\n    <tr>\n      <th>197</th>\n      <td>W26-2021</td>\n      <td>GAMMA1</td>\n      <td>0.491885</td>\n      <td>26.0</td>\n      <td>2021.0</td>\n      <td>2021-07-04</td>\n      <td>SCOPPITO</td>\n      <td>0.418683</td>\n      <td>0.570</td>\n      <td>0.143339</td>\n      <td>...</td>\n      <td>0.055086</td>\n      <td>0.0</td>\n      <td>0.0</td>\n      <td>0.0</td>\n      <td>0.0</td>\n      <td>0.0</td>\n      <td>2021-07-08</td>\n      <td>-0.111172</td>\n      <td>0.000000</td>\n      <td>0.219199</td>\n    </tr>\n    <tr>\n      <th>198</th>\n      <td>W26-2021</td>\n      <td>C9 Packaging Line</td>\n      <td>0.406623</td>\n      <td>26.0</td>\n      <td>2021.0</td>\n      <td>2021-07-04</td>\n      <td>Maisons-Alfort</td>\n      <td>0.528518</td>\n      <td>0.530</td>\n      <td>0.452948</td>\n      <td>...</td>\n      <td>0.081720</td>\n      <td>0.0</td>\n      <td>0.0</td>\n      <td>0.0</td>\n      <td>0.0</td>\n      <td>0.0</td>\n      <td>2021-07-08</td>\n      <td>-0.082118</td>\n      <td>-0.057612</td>\n      <td>0.064467</td>\n    </tr>\n    <tr>\n      <th>199</th>\n      <td>W26-2021</td>\n      <td>L18 Packaging Line</td>\n      <td>0.408843</td>\n      <td>26.0</td>\n      <td>2021.0</td>\n      <td>2021-07-04</td>\n      <td>Tours</td>\n      <td>0.377683</td>\n      <td>0.547</td>\n      <td>0.184455</td>\n      <td>...</td>\n      <td>0.054692</td>\n      <td>0.0</td>\n      <td>0.0</td>\n      <td>0.0</td>\n      <td>0.0</td>\n      <td>0.0</td>\n      <td>2021-07-08</td>\n      <td>-0.084213</td>\n      <td>0.036575</td>\n      <td>0.182758</td>\n    </tr>\n    <tr>\n      <th>200</th>\n      <td>W26-2021</td>\n      <td>L25 Packaging Line</td>\n      <td>0.381273</td>\n      <td>26.0</td>\n      <td>2021.0</td>\n      <td>2021-07-04</td>\n      <td>Tours</td>\n      <td>0.351564</td>\n      <td>0.478</td>\n      <td>0.192098</td>\n      <td>...</td>\n      <td>0.019916</td>\n      <td>0.0</td>\n      <td>0.0</td>\n      <td>0.0</td>\n      <td>0.0</td>\n      <td>0.0</td>\n      <td>2021-07-08</td>\n      <td>0.036620</td>\n      <td>-0.031079</td>\n      <td>0.252406</td>\n    </tr>\n    <tr>\n      <th>201</th>\n      <td>W26-2021</td>\n      <td>M18 Filling</td>\n      <td>0.000000</td>\n      <td>26.0</td>\n      <td>2021.0</td>\n      <td>2021-07-04</td>\n      <td>Frankfurt</td>\n      <td>0.443522</td>\n      <td>0.650</td>\n      <td>0.000000</td>\n      <td>...</td>\n      <td>0.320648</td>\n      <td>0.0</td>\n      <td>0.0</td>\n      <td>0.0</td>\n      <td>0.0</td>\n      <td>0.0</td>\n      <td>2021-07-08</td>\n      <td>-0.620440</td>\n      <td>0.958811</td>\n      <td>0.279900</td>\n    </tr>\n  </tbody>\n</table>\n<p>202 rows × 21 columns</p>\n</div>"
     },
     "metadata": {},
     "execution_count": 405
    }
   ],
   "source": [
    "df_weekly_minmax = (df_weekly.assign(Data_Value=df_weekly['Unplanned_tech_loss'].abs())\n",
    "       .groupby(pd.Grouper(key='Date',freq='W'))['Unplanned_tech_loss'].agg([('Min' , 'min'), ('Max', 'max')])\n",
    "       .add_prefix('WeekUTL'))\n",
    "df_weekly_minmax.reset_index(inplace=True)\n",
    "df_weekly = df_weekly.merge(df_weekly_minmax[['Date','WeekUTLMin','WeekUTLMax']])\n",
    "df_weekly['Unplanned_tech_loss'].fillna(df_weekly.WeekUTLMax, inplace=True)\n",
    "df_weekly.drop(columns=['WeekUTLMin','WeekUTLMax'], inplace=True)\n",
    "df_weekly"
   ]
  },
  {
   "cell_type": "markdown",
   "metadata": {},
   "source": [
    "#### Populate missing Changeover "
   ]
  },
  {
   "cell_type": "code",
   "execution_count": 406,
   "metadata": {},
   "outputs": [
    {
     "output_type": "execute_result",
     "data": {
      "text/plain": [
       "         Week                  Line     OEE %  WeekOfYear    Year       Date  \\\n",
       "0    W13-2021     C2 Packaging Line  0.458414        13.0  2021.0 2021-04-04   \n",
       "1    W13-2021    L18 Packaging Line  0.465923        13.0  2021.0 2021-04-04   \n",
       "2    W13-2021             IMA C80/2  0.581304        13.0  2021.0 2021-04-04   \n",
       "3    W13-2021                   AL6  0.367897        13.0  2021.0 2021-04-04   \n",
       "4    W13-2021  TR200 Packaging Line  0.596432        13.0  2021.0 2021-04-04   \n",
       "..        ...                   ...       ...         ...     ...        ...   \n",
       "197  W26-2021                GAMMA1  0.491885        26.0  2021.0 2021-07-04   \n",
       "198  W26-2021     C9 Packaging Line  0.406623        26.0  2021.0 2021-07-04   \n",
       "199  W26-2021    L18 Packaging Line  0.408843        26.0  2021.0 2021-07-04   \n",
       "200  W26-2021    L25 Packaging Line  0.381273        26.0  2021.0 2021-07-04   \n",
       "201  W26-2021           M18 Filling  0.000000        26.0  2021.0 2021-07-04   \n",
       "\n",
       "              Plant  OEE  Start point  OEE% Target (2022)  \\\n",
       "0    Maisons-Alfort          0.397503               0.470   \n",
       "1             Tours          0.377683               0.547   \n",
       "2          SCOPPITO          0.451031               0.580   \n",
       "3         Frankfurt          0.332657               0.450   \n",
       "4           Lisieux          0.483505               0.650   \n",
       "..              ...               ...                 ...   \n",
       "197        SCOPPITO          0.418683               0.570   \n",
       "198  Maisons-Alfort          0.528518               0.530   \n",
       "199           Tours          0.377683               0.547   \n",
       "200           Tours          0.351564               0.478   \n",
       "201       Frankfurt          0.443522               0.650   \n",
       "\n",
       "     Unplanned_tech_loss  ...  rolling_std  Best Solution  Best Innovation  \\\n",
       "0               0.465009  ...          NaN            NaN              NaN   \n",
       "1               0.208273  ...          NaN            NaN              NaN   \n",
       "2               0.224561  ...          NaN            NaN              NaN   \n",
       "3               0.342851  ...          NaN            NaN              NaN   \n",
       "4               0.163573  ...          NaN            NaN              NaN   \n",
       "..                   ...  ...          ...            ...              ...   \n",
       "197             0.143339  ...     0.055086            0.0              0.0   \n",
       "198             0.452948  ...     0.081720            0.0              0.0   \n",
       "199             0.184455  ...     0.054692            0.0              0.0   \n",
       "200             0.192098  ...     0.019916            0.0              0.0   \n",
       "201             0.000000  ...     0.320648            0.0              0.0   \n",
       "\n",
       "     Improvement Iterations  Lessons and Sharing  \\\n",
       "0                       NaN                  NaN   \n",
       "1                       NaN                  NaN   \n",
       "2                       NaN                  NaN   \n",
       "3                       NaN                  NaN   \n",
       "4                       NaN                  NaN   \n",
       "..                      ...                  ...   \n",
       "197                     0.0                  0.0   \n",
       "198                     0.0                  0.0   \n",
       "199                     0.0                  0.0   \n",
       "200                     0.0                  0.0   \n",
       "201                     0.0                  0.0   \n",
       "\n",
       "     Team Contribution and Spirit  Review_Date  OEE_Diff  Changeover_Diff  \\\n",
       "0                             NaN   2021-04-15  0.060911         0.000000   \n",
       "1                             NaN   2021-04-15  0.088240         0.000000   \n",
       "2                             NaN   2021-04-15  0.130272         0.000000   \n",
       "3                             NaN   2021-04-15  0.035240         0.000000   \n",
       "4                             NaN   2021-04-15  0.112928         0.000000   \n",
       "..                            ...          ...       ...              ...   \n",
       "197                           0.0   2021-07-08 -0.111172         0.000000   \n",
       "198                           0.0   2021-07-08 -0.082118        -0.057612   \n",
       "199                           0.0   2021-07-08 -0.084213         0.036575   \n",
       "200                           0.0   2021-07-08  0.036620        -0.031079   \n",
       "201                           0.0   2021-07-08 -0.620440         0.958811   \n",
       "\n",
       "     Changeover_rolling_mean  \n",
       "0                   0.044140  \n",
       "1                   0.134271  \n",
       "2                   0.070836  \n",
       "3                   0.184958  \n",
       "4                   0.075189  \n",
       "..                       ...  \n",
       "197                 0.219199  \n",
       "198                 0.064467  \n",
       "199                 0.182758  \n",
       "200                 0.252406  \n",
       "201                 0.279900  \n",
       "\n",
       "[202 rows x 21 columns]"
      ],
      "text/html": "<div>\n<style scoped>\n    .dataframe tbody tr th:only-of-type {\n        vertical-align: middle;\n    }\n\n    .dataframe tbody tr th {\n        vertical-align: top;\n    }\n\n    .dataframe thead th {\n        text-align: right;\n    }\n</style>\n<table border=\"1\" class=\"dataframe\">\n  <thead>\n    <tr style=\"text-align: right;\">\n      <th></th>\n      <th>Week</th>\n      <th>Line</th>\n      <th>OEE %</th>\n      <th>WeekOfYear</th>\n      <th>Year</th>\n      <th>Date</th>\n      <th>Plant</th>\n      <th>OEE  Start point</th>\n      <th>OEE% Target (2022)</th>\n      <th>Unplanned_tech_loss</th>\n      <th>...</th>\n      <th>rolling_std</th>\n      <th>Best Solution</th>\n      <th>Best Innovation</th>\n      <th>Improvement Iterations</th>\n      <th>Lessons and Sharing</th>\n      <th>Team Contribution and Spirit</th>\n      <th>Review_Date</th>\n      <th>OEE_Diff</th>\n      <th>Changeover_Diff</th>\n      <th>Changeover_rolling_mean</th>\n    </tr>\n  </thead>\n  <tbody>\n    <tr>\n      <th>0</th>\n      <td>W13-2021</td>\n      <td>C2 Packaging Line</td>\n      <td>0.458414</td>\n      <td>13.0</td>\n      <td>2021.0</td>\n      <td>2021-04-04</td>\n      <td>Maisons-Alfort</td>\n      <td>0.397503</td>\n      <td>0.470</td>\n      <td>0.465009</td>\n      <td>...</td>\n      <td>NaN</td>\n      <td>NaN</td>\n      <td>NaN</td>\n      <td>NaN</td>\n      <td>NaN</td>\n      <td>NaN</td>\n      <td>2021-04-15</td>\n      <td>0.060911</td>\n      <td>0.000000</td>\n      <td>0.044140</td>\n    </tr>\n    <tr>\n      <th>1</th>\n      <td>W13-2021</td>\n      <td>L18 Packaging Line</td>\n      <td>0.465923</td>\n      <td>13.0</td>\n      <td>2021.0</td>\n      <td>2021-04-04</td>\n      <td>Tours</td>\n      <td>0.377683</td>\n      <td>0.547</td>\n      <td>0.208273</td>\n      <td>...</td>\n      <td>NaN</td>\n      <td>NaN</td>\n      <td>NaN</td>\n      <td>NaN</td>\n      <td>NaN</td>\n      <td>NaN</td>\n      <td>2021-04-15</td>\n      <td>0.088240</td>\n      <td>0.000000</td>\n      <td>0.134271</td>\n    </tr>\n    <tr>\n      <th>2</th>\n      <td>W13-2021</td>\n      <td>IMA C80/2</td>\n      <td>0.581304</td>\n      <td>13.0</td>\n      <td>2021.0</td>\n      <td>2021-04-04</td>\n      <td>SCOPPITO</td>\n      <td>0.451031</td>\n      <td>0.580</td>\n      <td>0.224561</td>\n      <td>...</td>\n      <td>NaN</td>\n      <td>NaN</td>\n      <td>NaN</td>\n      <td>NaN</td>\n      <td>NaN</td>\n      <td>NaN</td>\n      <td>2021-04-15</td>\n      <td>0.130272</td>\n      <td>0.000000</td>\n      <td>0.070836</td>\n    </tr>\n    <tr>\n      <th>3</th>\n      <td>W13-2021</td>\n      <td>AL6</td>\n      <td>0.367897</td>\n      <td>13.0</td>\n      <td>2021.0</td>\n      <td>2021-04-04</td>\n      <td>Frankfurt</td>\n      <td>0.332657</td>\n      <td>0.450</td>\n      <td>0.342851</td>\n      <td>...</td>\n      <td>NaN</td>\n      <td>NaN</td>\n      <td>NaN</td>\n      <td>NaN</td>\n      <td>NaN</td>\n      <td>NaN</td>\n      <td>2021-04-15</td>\n      <td>0.035240</td>\n      <td>0.000000</td>\n      <td>0.184958</td>\n    </tr>\n    <tr>\n      <th>4</th>\n      <td>W13-2021</td>\n      <td>TR200 Packaging Line</td>\n      <td>0.596432</td>\n      <td>13.0</td>\n      <td>2021.0</td>\n      <td>2021-04-04</td>\n      <td>Lisieux</td>\n      <td>0.483505</td>\n      <td>0.650</td>\n      <td>0.163573</td>\n      <td>...</td>\n      <td>NaN</td>\n      <td>NaN</td>\n      <td>NaN</td>\n      <td>NaN</td>\n      <td>NaN</td>\n      <td>NaN</td>\n      <td>2021-04-15</td>\n      <td>0.112928</td>\n      <td>0.000000</td>\n      <td>0.075189</td>\n    </tr>\n    <tr>\n      <th>...</th>\n      <td>...</td>\n      <td>...</td>\n      <td>...</td>\n      <td>...</td>\n      <td>...</td>\n      <td>...</td>\n      <td>...</td>\n      <td>...</td>\n      <td>...</td>\n      <td>...</td>\n      <td>...</td>\n      <td>...</td>\n      <td>...</td>\n      <td>...</td>\n      <td>...</td>\n      <td>...</td>\n      <td>...</td>\n      <td>...</td>\n      <td>...</td>\n      <td>...</td>\n      <td>...</td>\n    </tr>\n    <tr>\n      <th>197</th>\n      <td>W26-2021</td>\n      <td>GAMMA1</td>\n      <td>0.491885</td>\n      <td>26.0</td>\n      <td>2021.0</td>\n      <td>2021-07-04</td>\n      <td>SCOPPITO</td>\n      <td>0.418683</td>\n      <td>0.570</td>\n      <td>0.143339</td>\n      <td>...</td>\n      <td>0.055086</td>\n      <td>0.0</td>\n      <td>0.0</td>\n      <td>0.0</td>\n      <td>0.0</td>\n      <td>0.0</td>\n      <td>2021-07-08</td>\n      <td>-0.111172</td>\n      <td>0.000000</td>\n      <td>0.219199</td>\n    </tr>\n    <tr>\n      <th>198</th>\n      <td>W26-2021</td>\n      <td>C9 Packaging Line</td>\n      <td>0.406623</td>\n      <td>26.0</td>\n      <td>2021.0</td>\n      <td>2021-07-04</td>\n      <td>Maisons-Alfort</td>\n      <td>0.528518</td>\n      <td>0.530</td>\n      <td>0.452948</td>\n      <td>...</td>\n      <td>0.081720</td>\n      <td>0.0</td>\n      <td>0.0</td>\n      <td>0.0</td>\n      <td>0.0</td>\n      <td>0.0</td>\n      <td>2021-07-08</td>\n      <td>-0.082118</td>\n      <td>-0.057612</td>\n      <td>0.064467</td>\n    </tr>\n    <tr>\n      <th>199</th>\n      <td>W26-2021</td>\n      <td>L18 Packaging Line</td>\n      <td>0.408843</td>\n      <td>26.0</td>\n      <td>2021.0</td>\n      <td>2021-07-04</td>\n      <td>Tours</td>\n      <td>0.377683</td>\n      <td>0.547</td>\n      <td>0.184455</td>\n      <td>...</td>\n      <td>0.054692</td>\n      <td>0.0</td>\n      <td>0.0</td>\n      <td>0.0</td>\n      <td>0.0</td>\n      <td>0.0</td>\n      <td>2021-07-08</td>\n      <td>-0.084213</td>\n      <td>0.036575</td>\n      <td>0.182758</td>\n    </tr>\n    <tr>\n      <th>200</th>\n      <td>W26-2021</td>\n      <td>L25 Packaging Line</td>\n      <td>0.381273</td>\n      <td>26.0</td>\n      <td>2021.0</td>\n      <td>2021-07-04</td>\n      <td>Tours</td>\n      <td>0.351564</td>\n      <td>0.478</td>\n      <td>0.192098</td>\n      <td>...</td>\n      <td>0.019916</td>\n      <td>0.0</td>\n      <td>0.0</td>\n      <td>0.0</td>\n      <td>0.0</td>\n      <td>0.0</td>\n      <td>2021-07-08</td>\n      <td>0.036620</td>\n      <td>-0.031079</td>\n      <td>0.252406</td>\n    </tr>\n    <tr>\n      <th>201</th>\n      <td>W26-2021</td>\n      <td>M18 Filling</td>\n      <td>0.000000</td>\n      <td>26.0</td>\n      <td>2021.0</td>\n      <td>2021-07-04</td>\n      <td>Frankfurt</td>\n      <td>0.443522</td>\n      <td>0.650</td>\n      <td>0.000000</td>\n      <td>...</td>\n      <td>0.320648</td>\n      <td>0.0</td>\n      <td>0.0</td>\n      <td>0.0</td>\n      <td>0.0</td>\n      <td>0.0</td>\n      <td>2021-07-08</td>\n      <td>-0.620440</td>\n      <td>0.958811</td>\n      <td>0.279900</td>\n    </tr>\n  </tbody>\n</table>\n<p>202 rows × 21 columns</p>\n</div>"
     },
     "metadata": {},
     "execution_count": 406
    }
   ],
   "source": [
    "df_weekly_minmax = (df_weekly.assign(Data_Value=df_weekly['Changeover'].abs())\n",
    "       .groupby(pd.Grouper(key='Date',freq='W'))['Changeover'].agg([('Min' , 'min'), ('Max', 'max')])\n",
    "       .add_prefix('WeekChangeover'))\n",
    "df_weekly_minmax.reset_index(inplace=True)\n",
    "df_weekly = df_weekly.merge(df_weekly_minmax[['Date','WeekChangeoverMin','WeekChangeoverMax']])\n",
    "df_weekly['Changeover'].fillna(df_weekly.WeekChangeoverMax, inplace=True)\n",
    "df_weekly.drop(columns=['WeekChangeoverMin','WeekChangeoverMax'], inplace=True)\n",
    "df_weekly"
   ]
  },
  {
   "cell_type": "markdown",
   "metadata": {},
   "source": [
    "#### Populate missing start_changeover (NaN)\n",
    "If we've got this far and you still don't have a start_changeover, then you're a new site and can have this week's Changeover value"
   ]
  },
  {
   "cell_type": "markdown",
   "metadata": {},
   "source": [
    "These rows still have NaN Changeover values"
   ]
  },
  {
   "cell_type": "code",
   "execution_count": 407,
   "metadata": {},
   "outputs": [
    {
     "output_type": "execute_result",
     "data": {
      "text/plain": [
       "Empty DataFrame\n",
       "Columns: [Line, Date, Changeover]\n",
       "Index: []"
      ],
      "text/html": "<div>\n<style scoped>\n    .dataframe tbody tr th:only-of-type {\n        vertical-align: middle;\n    }\n\n    .dataframe tbody tr th {\n        vertical-align: top;\n    }\n\n    .dataframe thead th {\n        text-align: right;\n    }\n</style>\n<table border=\"1\" class=\"dataframe\">\n  <thead>\n    <tr style=\"text-align: right;\">\n      <th></th>\n      <th>Line</th>\n      <th>Date</th>\n      <th>Changeover</th>\n    </tr>\n  </thead>\n  <tbody>\n  </tbody>\n</table>\n</div>"
     },
     "metadata": {},
     "execution_count": 407
    }
   ],
   "source": [
    "df_weekly[['Line','Date','Changeover']][df_weekly['Changeover'].isna()]"
   ]
  },
  {
   "cell_type": "code",
   "execution_count": 408,
   "metadata": {},
   "outputs": [],
   "source": [
    "# df_weekly.start_changeover.fillna(df_weekly.Changeover, inplace=True)\n",
    "df_weekly['OEE  Start point'].fillna(df_weekly['OEE %'], inplace=True)\n",
    "df_weekly['OEE% Target (2022)'].fillna(0.65, inplace=True)"
   ]
  },
  {
   "source": [
    "### Calculating Sector times\n",
    "\n",
    "\n",
    "The lap time is a sum of the calculated sector scores + the pole position time from the F1 race data (eg for Paul Ricard it was 88 secs):\n",
    "\n",
    "\n",
    "\n",
    "Sector [1-4] calculations   \n",
    "**sector 1**\n",
    "How much has your OEE increased / decreased?  Sum difference between each week and multiply total by -1.  This provides a negative figure to subtract from your laptime, so that larger OEE increase is rewarded with a bigger reduction in laptime\n",
    "\n",
    "df_weekly['sector_1'] = df_weekly['OEE_Diff'].mul(-1)\n",
    "\n",
    "OEE_Diff calculation\n",
    "- Sort values by Line and Date\n",
    "- Find the difference between each weekly OEE figure\n",
    "- ~~Fill NaN values from missing OEE figures with the weekly OEE minus OEE Start Point for that site~~   \n",
    "- any missing OEE figures will already be populated with previous week's value or the start OEE value\n",
    "\n",
    "\n",
    "**Sector 2** \n",
    "How big was your rolling std deviation this period, over the previous 4 weeks std dev?  \n",
    "\n",
    "df_weekly['sector_2'] = df_weekly['rolling_std']\n",
    "\n",
    "rolling_std = rolling std deviation for past 4 weeks for each site\n",
    "\n",
    "\n",
    " \n",
    "**Sector 3**\n",
    "We want to reduce Unplanned tech loss (recorded as % of OEE) Unplanned tech loss is calculated within QlikSense but missing values sometimes.  Fill the missing values and then display the average Unplanned tech loss :\n",
    "\n",
    "df_weekly['sector_3'] = df_weekly['Unplanned_tech_loss']\n",
    "\n",
    "\n",
    "Populate missing unplanned tech loss:\n",
    "- Create weekly min/max cols for Unplanned tech loss from any site\n",
    "- Merge those columns into df_weekly\n",
    "- fill any NaN unplanned tech loss rows with the max OEE calc'd for that week (bigger is worse)\n",
    "\n",
    " \n",
    "**Sector 4**\n",
    "We're trying to reduce changeover time (recorded as % of OEE).  \n",
    "Start changeover value isn't provided, so calc our own start point for each Line using the average changeover in 2021 up to 30 April, 2021.\n",
    "   \n",
    "start_changeover_calc = df_weekly[['Plant','Line','Changeover']][df_weekly['Date'] < '2021-04-30'].groupby(['Plant','Line']).mean().reset_index()\n",
    "start_changeover_calc.rename(columns={'Changeover':'start_changeover'}, inplace=True)\n",
    "df_weekly = df_weekly.merge(start_changeover_calc[['Line','start_changeover']])\n",
    "\n",
    "\n",
    "\n",
    "df_weekly['sector_4'] = df_weekly['Changeover_rolling_mean']\n",
    "\n",
    "Changeover_mean = df_weekly.sort_values(by=['Line', 'Date'])[['Line', 'Date', 'Changeover', 'start_changeover']]   \n",
    "Changeover_mean['Changeover_rolling_mean'] = Changeover_mean.groupby('Line')['Changeover'].apply(lambda x : x.rolling(4,1).mean())\n",
    "df_weekly = df_weekly.merge(Changeover_mean[[\"Line\",\"Date\",\"Changeover_rolling_mean\"]], on=([\"Line\",\"Date\"]))\n",
    "\n",
    "\n",
    "\n",
    "**Clean the sectors of NaN before summing them**   \n",
    "Sometimes, when we haven't got enough information for pct_change calcs, we were getting no values coming through for the lap_time.  We should make sure there is a value in each of the sectors, otherwise there is an unfair advantage by not having data available.  Find all NaN values and replace with the mean for that column(sector)\n",
    "\n",
    "**Sectors 5 - 9**   \n",
    "These scores are taken from the Nomination process.  Read in the Nomination s/s, merge any values we find with df_weekly, replace all NaN (missing) values with 0, and reduce the scores we find to 10% of their original value.  This value is then subtracted from the lap_time - so the better you do in the nominations the more your lap_time gets reduced by.\n",
    "\n",
    " \n",
    "**lap_time**   \n",
    "df_weekly['lap_time'] = df_weekly[['sector_1','sector_2','sector_3','sector_4','sector_5','sector_6','sector_7','sector_8','sector_9']].sum(axis=1)"
   ],
   "cell_type": "markdown",
   "metadata": {}
  },
  {
   "cell_type": "code",
   "execution_count": 409,
   "metadata": {},
   "outputs": [
    {
     "output_type": "execute_result",
     "data": {
      "text/plain": [
       "Line                  Date      \n",
       "AL5 Packaging 1       2021-04-04    0.708826\n",
       "                      2021-04-11    0.540147\n",
       "                      2021-04-18    0.449241\n",
       "                      2021-04-25    0.134643\n",
       "                      2021-05-02    0.593747\n",
       "                                      ...   \n",
       "TR200 Packaging Line  2021-06-06    0.162536\n",
       "                      2021-06-13    0.704221\n",
       "                      2021-06-20    0.635328\n",
       "                      2021-06-27    0.297245\n",
       "                      2021-07-04    0.832851\n",
       "Name: lap_time, Length: 202, dtype: float64"
      ]
     },
     "metadata": {},
     "execution_count": 409
    }
   ],
   "source": [
    "# df_weekly['sector_1'] = (df_weekly['WeekMax'] - df_weekly['OEE %'])\n",
    "# df_weekly['sector_1'] = (df_weekly['OEE  Start point'] - df_weekly['OEE %'])\n",
    "df_weekly['sector_1'] = df_weekly['OEE_Diff'].mul(-1)\n",
    "df_weekly['sector_2'] = df_weekly['rolling_std']\n",
    "df_weekly['sector_3'] = df_weekly['Unplanned_tech_loss']\n",
    "# df_weekly['sector_4'] = (df_weekly['start_changeover'] - df_weekly['Changeover'])\n",
    "# df_weekly['sector_4'] = (df_weekly['Changeover'] - df_weekly['start_changeover'])\n",
    "df_weekly['sector_4'] = df_weekly['Changeover_rolling_mean']\n",
    "# take 10% of the sector5-9 scores \n",
    "df_weekly[['sector_5','sector_6','sector_7','sector_8','sector_9']] = df_weekly[['Best Solution','Best Innovation','Improvement Iterations','Lessons and Sharing','Team Contribution and Spirit']] * -0.1\n",
    "df_weekly[['sector_5','sector_6','sector_7','sector_8','sector_9']] = df_weekly[['sector_5','sector_6','sector_7','sector_8','sector_9']].fillna(0)\n",
    "\n",
    "# we'll use these in the absence of values for a sector\n",
    "df_weekly[['sector_1','sector_2','sector_3','sector_4']] = df_weekly[['sector_1','sector_2','sector_3','sector_4']].fillna(df_weekly[['sector_1','sector_2','sector_3','sector_4']].mean())\n",
    "\n",
    "#this will sum and handle the NaN\n",
    "df_weekly['lap_time'] = df_weekly[['sector_1','sector_2','sector_3','sector_4','sector_5','sector_6','sector_7','sector_8','sector_9']].sum(axis=1)\n",
    "\n",
    "# now add the pole['Laptime'] from fastf1 to the lap_time adjustment we've created\n",
    "# just use 88 secs rather than playing with timedeltas for now\n",
    "# df_weekly['lap_time'] = pole['LapTime'] + pd.to_timedelta(df_weekly['lap_time'], unit='S')\n",
    "# df_weekly['lap_time'] = 88 + df_weekly['lap_time']\n",
    "df_weekly.groupby(['Line', pd.Grouper(key='Date', freq='W')])['lap_time'].sum()\n",
    "# print (df_weekly['sector_1_time'] , df_weekly['sector_2_time'] , df_weekly['sector_3_time'], df_weekly['sector_4_time'])"
   ]
  },
  {
   "cell_type": "markdown",
   "metadata": {},
   "source": [
    "#### Write out df_weekly to excel"
   ]
  },
  {
   "cell_type": "code",
   "execution_count": 410,
   "metadata": {},
   "outputs": [],
   "source": [
    "df_weekly.to_excel(output_dir + \"df_weekly_with_calcs.xlsx\")"
   ]
  },
  {
   "cell_type": "markdown",
   "metadata": {},
   "source": [
    "#### Monthly Calcs\n",
    "\n",
    "Repeat the process for a df_monthly spreadsheet.  We will use this for calculating the Leader board  \n",
    "group df_weekly by review_date so we can get the right data for each review meeting"
   ]
  },
  {
   "cell_type": "code",
   "execution_count": 411,
   "metadata": {
    "scrolled": true
   },
   "outputs": [
    {
     "output_type": "execute_result",
     "data": {
      "text/plain": [
       "        Date               Line   lap_time\n",
       "0 2021-04-15    AL5 Packaging 1  89.248972\n",
       "1 2021-04-15                AL6  89.137919\n",
       "2 2021-04-15  C2 Packaging Line  88.952755\n",
       "3 2021-04-15  C9 Packaging Line  89.021344\n",
       "4 2021-04-15             GAMMA1  89.153635"
      ],
      "text/html": "<div>\n<style scoped>\n    .dataframe tbody tr th:only-of-type {\n        vertical-align: middle;\n    }\n\n    .dataframe tbody tr th {\n        vertical-align: top;\n    }\n\n    .dataframe thead th {\n        text-align: right;\n    }\n</style>\n<table border=\"1\" class=\"dataframe\">\n  <thead>\n    <tr style=\"text-align: right;\">\n      <th></th>\n      <th>Date</th>\n      <th>Line</th>\n      <th>lap_time</th>\n    </tr>\n  </thead>\n  <tbody>\n    <tr>\n      <th>0</th>\n      <td>2021-04-15</td>\n      <td>AL5 Packaging 1</td>\n      <td>89.248972</td>\n    </tr>\n    <tr>\n      <th>1</th>\n      <td>2021-04-15</td>\n      <td>AL6</td>\n      <td>89.137919</td>\n    </tr>\n    <tr>\n      <th>2</th>\n      <td>2021-04-15</td>\n      <td>C2 Packaging Line</td>\n      <td>88.952755</td>\n    </tr>\n    <tr>\n      <th>3</th>\n      <td>2021-04-15</td>\n      <td>C9 Packaging Line</td>\n      <td>89.021344</td>\n    </tr>\n    <tr>\n      <th>4</th>\n      <td>2021-04-15</td>\n      <td>GAMMA1</td>\n      <td>89.153635</td>\n    </tr>\n  </tbody>\n</table>\n</div>"
     },
     "metadata": {},
     "execution_count": 411
    }
   ],
   "source": [
    "# df_monthly = df_weekly.groupby([pd.Grouper(key='Date',freq='M'),'Line'])[['start_changeover','OEE  Start point','OEE %','Unplanned_tech_loss','Changeover','rolling_std','techloss_pct_chg','Changeover_pct_chg']].mean().reset_index()\n",
    "# df_monthly = df_weekly.groupby([pd.Grouper(key='Date',freq='M'),'Line']).lap_time.sum().reset_index()\n",
    "df_monthly = df_weekly.groupby(['Review_Date','Line']).lap_time.sum().reset_index()\n",
    "# change the name of review_date to save renaming all references to Date later\n",
    "df_monthly = df_monthly.rename(columns={'Review_Date':'Date'})\n",
    "df_monthly['lap_time'] = df_monthly['lap_time'] + 88\n",
    "df_monthly.head()"
   ]
  },
  {
   "cell_type": "markdown",
   "metadata": {},
   "source": [
    "### Leader board table"
   ]
  },
  {
   "cell_type": "code",
   "execution_count": 412,
   "metadata": {},
   "outputs": [
    {
     "output_type": "execute_result",
     "data": {
      "text/plain": [
       "                      Line  2021-04-15 00:00:00  2021-05-13 00:00:00  \\\n",
       "0                   GAMMA1            89.153635            69.325767   \n",
       "1                IMA C80/2            88.910325            69.256522   \n",
       "2       L18 Packaging Line            88.847371            74.226704   \n",
       "3       L25 Packaging Line            88.849848            74.908842   \n",
       "4              M22 Filling            88.954055            81.806345   \n",
       "5              M21 Filling            89.248972            83.742471   \n",
       "6              M18 Filling            89.960538            82.596174   \n",
       "7                      AL6            89.137919            90.323044   \n",
       "8     SUPPO Packaging Line            88.585451            89.604811   \n",
       "9   LINE 01 - UHLMANN 1880            89.960538            88.525570   \n",
       "10    TR200 Packaging Line            88.710480            89.591164   \n",
       "11          MEDISEAL PURAN            89.960538            89.020162   \n",
       "12         AL5 Packaging 1            89.248972            89.725754   \n",
       "13       C9 Packaging Line            89.021344            89.747841   \n",
       "14       C2 Packaging Line            88.952755            90.451874   \n",
       "\n",
       "    2021-06-10 00:00:00  2021-07-08 00:00:00   race_time  prev_race_time  \\\n",
       "0             68.226756            89.979194  316.685353      226.706159   \n",
       "1             75.232693            89.680834  323.080373      233.399540   \n",
       "2             89.407996            89.427519  341.909591      252.482071   \n",
       "3             90.011979            89.862601  343.633269      253.770668   \n",
       "4             84.857670            89.522488  345.140559      255.618071   \n",
       "5             84.767181            89.760825  347.519450      257.758625   \n",
       "6             85.446232            90.979137  348.982081      258.002944   \n",
       "7             84.205598            89.849765  353.516326      263.666561   \n",
       "8             89.904755            89.318502  357.413519      268.095017   \n",
       "9             89.636847            89.547483  357.670438      268.122955   \n",
       "10            89.381941            90.469644  358.153230      267.683586   \n",
       "11            89.838256            89.971539  358.790495      268.818956   \n",
       "12            90.495004            89.559946  359.029676      269.469730   \n",
       "13            90.361488            90.130804  359.261477      269.130673   \n",
       "14            90.261138            90.594185  360.259952      269.665767   \n",
       "\n",
       "             Plant  position  gap_to_leader  prev_position  Gain/Loss  \\\n",
       "0         SCOPPITO         1       0.000000              1          0   \n",
       "1         SCOPPITO         2       6.395020              2          0   \n",
       "2            Tours         3      25.224238              3          0   \n",
       "3            Tours         4      26.947916              4          0   \n",
       "4        Frankfurt         5      28.455206              5          0   \n",
       "5        Frankfurt         6      30.834097              6          0   \n",
       "6        Frankfurt         7      32.296728              7          0   \n",
       "7        Frankfurt         8      36.830973              8          0   \n",
       "8          Lisieux         9      40.728166             10          1   \n",
       "9           SUZANO        10      40.985085             11          1   \n",
       "10         Lisieux        11      41.467877              9         -2   \n",
       "11          SUZANO        12      42.105142             12          0   \n",
       "12       Frankfurt        13      42.344323             14          1   \n",
       "13  Maisons-Alfort        14      42.576124             13         -1   \n",
       "14  Maisons-Alfort        15      43.574599             15          0   \n",
       "\n",
       "     interval  OEE  Start point  ⇗ OEE% progress  OEE% Target (2022)  \n",
       "0         NaN          0.418683         0.085148               0.570  \n",
       "1    6.395020          0.451031         0.043365               0.580  \n",
       "2   18.829217          0.377683         0.086173               0.547  \n",
       "3    1.723678          0.351564         0.001613               0.478  \n",
       "4    1.507290          0.530068         0.120280               0.650  \n",
       "5    2.378891          0.599671         0.022006               0.650  \n",
       "6    1.462632          0.443522        -0.010057               0.650  \n",
       "7    4.534245          0.332657         0.078541               0.450  \n",
       "8    3.897193          0.353021        -0.010676               0.530  \n",
       "9    0.256919          0.427854         0.015085               0.650  \n",
       "10   0.482792          0.483505         0.120926               0.650  \n",
       "11   0.637265          0.592206        -0.025165               0.650  \n",
       "12   0.239182          0.479693        -0.187473               0.500  \n",
       "13   0.231801          0.528518        -0.019492               0.530  \n",
       "14   0.998475          0.397503         0.012193               0.470  "
      ],
      "text/html": "<div>\n<style scoped>\n    .dataframe tbody tr th:only-of-type {\n        vertical-align: middle;\n    }\n\n    .dataframe tbody tr th {\n        vertical-align: top;\n    }\n\n    .dataframe thead th {\n        text-align: right;\n    }\n</style>\n<table border=\"1\" class=\"dataframe\">\n  <thead>\n    <tr style=\"text-align: right;\">\n      <th></th>\n      <th>Line</th>\n      <th>2021-04-15 00:00:00</th>\n      <th>2021-05-13 00:00:00</th>\n      <th>2021-06-10 00:00:00</th>\n      <th>2021-07-08 00:00:00</th>\n      <th>race_time</th>\n      <th>prev_race_time</th>\n      <th>Plant</th>\n      <th>position</th>\n      <th>gap_to_leader</th>\n      <th>prev_position</th>\n      <th>Gain/Loss</th>\n      <th>interval</th>\n      <th>OEE  Start point</th>\n      <th>⇗ OEE% progress</th>\n      <th>OEE% Target (2022)</th>\n    </tr>\n  </thead>\n  <tbody>\n    <tr>\n      <th>0</th>\n      <td>GAMMA1</td>\n      <td>89.153635</td>\n      <td>69.325767</td>\n      <td>68.226756</td>\n      <td>89.979194</td>\n      <td>316.685353</td>\n      <td>226.706159</td>\n      <td>SCOPPITO</td>\n      <td>1</td>\n      <td>0.000000</td>\n      <td>1</td>\n      <td>0</td>\n      <td>NaN</td>\n      <td>0.418683</td>\n      <td>0.085148</td>\n      <td>0.570</td>\n    </tr>\n    <tr>\n      <th>1</th>\n      <td>IMA C80/2</td>\n      <td>88.910325</td>\n      <td>69.256522</td>\n      <td>75.232693</td>\n      <td>89.680834</td>\n      <td>323.080373</td>\n      <td>233.399540</td>\n      <td>SCOPPITO</td>\n      <td>2</td>\n      <td>6.395020</td>\n      <td>2</td>\n      <td>0</td>\n      <td>6.395020</td>\n      <td>0.451031</td>\n      <td>0.043365</td>\n      <td>0.580</td>\n    </tr>\n    <tr>\n      <th>2</th>\n      <td>L18 Packaging Line</td>\n      <td>88.847371</td>\n      <td>74.226704</td>\n      <td>89.407996</td>\n      <td>89.427519</td>\n      <td>341.909591</td>\n      <td>252.482071</td>\n      <td>Tours</td>\n      <td>3</td>\n      <td>25.224238</td>\n      <td>3</td>\n      <td>0</td>\n      <td>18.829217</td>\n      <td>0.377683</td>\n      <td>0.086173</td>\n      <td>0.547</td>\n    </tr>\n    <tr>\n      <th>3</th>\n      <td>L25 Packaging Line</td>\n      <td>88.849848</td>\n      <td>74.908842</td>\n      <td>90.011979</td>\n      <td>89.862601</td>\n      <td>343.633269</td>\n      <td>253.770668</td>\n      <td>Tours</td>\n      <td>4</td>\n      <td>26.947916</td>\n      <td>4</td>\n      <td>0</td>\n      <td>1.723678</td>\n      <td>0.351564</td>\n      <td>0.001613</td>\n      <td>0.478</td>\n    </tr>\n    <tr>\n      <th>4</th>\n      <td>M22 Filling</td>\n      <td>88.954055</td>\n      <td>81.806345</td>\n      <td>84.857670</td>\n      <td>89.522488</td>\n      <td>345.140559</td>\n      <td>255.618071</td>\n      <td>Frankfurt</td>\n      <td>5</td>\n      <td>28.455206</td>\n      <td>5</td>\n      <td>0</td>\n      <td>1.507290</td>\n      <td>0.530068</td>\n      <td>0.120280</td>\n      <td>0.650</td>\n    </tr>\n    <tr>\n      <th>5</th>\n      <td>M21 Filling</td>\n      <td>89.248972</td>\n      <td>83.742471</td>\n      <td>84.767181</td>\n      <td>89.760825</td>\n      <td>347.519450</td>\n      <td>257.758625</td>\n      <td>Frankfurt</td>\n      <td>6</td>\n      <td>30.834097</td>\n      <td>6</td>\n      <td>0</td>\n      <td>2.378891</td>\n      <td>0.599671</td>\n      <td>0.022006</td>\n      <td>0.650</td>\n    </tr>\n    <tr>\n      <th>6</th>\n      <td>M18 Filling</td>\n      <td>89.960538</td>\n      <td>82.596174</td>\n      <td>85.446232</td>\n      <td>90.979137</td>\n      <td>348.982081</td>\n      <td>258.002944</td>\n      <td>Frankfurt</td>\n      <td>7</td>\n      <td>32.296728</td>\n      <td>7</td>\n      <td>0</td>\n      <td>1.462632</td>\n      <td>0.443522</td>\n      <td>-0.010057</td>\n      <td>0.650</td>\n    </tr>\n    <tr>\n      <th>7</th>\n      <td>AL6</td>\n      <td>89.137919</td>\n      <td>90.323044</td>\n      <td>84.205598</td>\n      <td>89.849765</td>\n      <td>353.516326</td>\n      <td>263.666561</td>\n      <td>Frankfurt</td>\n      <td>8</td>\n      <td>36.830973</td>\n      <td>8</td>\n      <td>0</td>\n      <td>4.534245</td>\n      <td>0.332657</td>\n      <td>0.078541</td>\n      <td>0.450</td>\n    </tr>\n    <tr>\n      <th>8</th>\n      <td>SUPPO Packaging Line</td>\n      <td>88.585451</td>\n      <td>89.604811</td>\n      <td>89.904755</td>\n      <td>89.318502</td>\n      <td>357.413519</td>\n      <td>268.095017</td>\n      <td>Lisieux</td>\n      <td>9</td>\n      <td>40.728166</td>\n      <td>10</td>\n      <td>1</td>\n      <td>3.897193</td>\n      <td>0.353021</td>\n      <td>-0.010676</td>\n      <td>0.530</td>\n    </tr>\n    <tr>\n      <th>9</th>\n      <td>LINE 01 - UHLMANN 1880</td>\n      <td>89.960538</td>\n      <td>88.525570</td>\n      <td>89.636847</td>\n      <td>89.547483</td>\n      <td>357.670438</td>\n      <td>268.122955</td>\n      <td>SUZANO</td>\n      <td>10</td>\n      <td>40.985085</td>\n      <td>11</td>\n      <td>1</td>\n      <td>0.256919</td>\n      <td>0.427854</td>\n      <td>0.015085</td>\n      <td>0.650</td>\n    </tr>\n    <tr>\n      <th>10</th>\n      <td>TR200 Packaging Line</td>\n      <td>88.710480</td>\n      <td>89.591164</td>\n      <td>89.381941</td>\n      <td>90.469644</td>\n      <td>358.153230</td>\n      <td>267.683586</td>\n      <td>Lisieux</td>\n      <td>11</td>\n      <td>41.467877</td>\n      <td>9</td>\n      <td>-2</td>\n      <td>0.482792</td>\n      <td>0.483505</td>\n      <td>0.120926</td>\n      <td>0.650</td>\n    </tr>\n    <tr>\n      <th>11</th>\n      <td>MEDISEAL PURAN</td>\n      <td>89.960538</td>\n      <td>89.020162</td>\n      <td>89.838256</td>\n      <td>89.971539</td>\n      <td>358.790495</td>\n      <td>268.818956</td>\n      <td>SUZANO</td>\n      <td>12</td>\n      <td>42.105142</td>\n      <td>12</td>\n      <td>0</td>\n      <td>0.637265</td>\n      <td>0.592206</td>\n      <td>-0.025165</td>\n      <td>0.650</td>\n    </tr>\n    <tr>\n      <th>12</th>\n      <td>AL5 Packaging 1</td>\n      <td>89.248972</td>\n      <td>89.725754</td>\n      <td>90.495004</td>\n      <td>89.559946</td>\n      <td>359.029676</td>\n      <td>269.469730</td>\n      <td>Frankfurt</td>\n      <td>13</td>\n      <td>42.344323</td>\n      <td>14</td>\n      <td>1</td>\n      <td>0.239182</td>\n      <td>0.479693</td>\n      <td>-0.187473</td>\n      <td>0.500</td>\n    </tr>\n    <tr>\n      <th>13</th>\n      <td>C9 Packaging Line</td>\n      <td>89.021344</td>\n      <td>89.747841</td>\n      <td>90.361488</td>\n      <td>90.130804</td>\n      <td>359.261477</td>\n      <td>269.130673</td>\n      <td>Maisons-Alfort</td>\n      <td>14</td>\n      <td>42.576124</td>\n      <td>13</td>\n      <td>-1</td>\n      <td>0.231801</td>\n      <td>0.528518</td>\n      <td>-0.019492</td>\n      <td>0.530</td>\n    </tr>\n    <tr>\n      <th>14</th>\n      <td>C2 Packaging Line</td>\n      <td>88.952755</td>\n      <td>90.451874</td>\n      <td>90.261138</td>\n      <td>90.594185</td>\n      <td>360.259952</td>\n      <td>269.665767</td>\n      <td>Maisons-Alfort</td>\n      <td>15</td>\n      <td>43.574599</td>\n      <td>15</td>\n      <td>0</td>\n      <td>0.998475</td>\n      <td>0.397503</td>\n      <td>0.012193</td>\n      <td>0.470</td>\n    </tr>\n  </tbody>\n</table>\n</div>"
     },
     "metadata": {},
     "execution_count": 412
    }
   ],
   "source": [
    "# filter using the end_date to stop picking up future dated nomination rows of zero I created when joining the s/s\n",
    "# pivot = df_monthly[df_monthly['Date'] < end_date].pivot(index='Line', columns='Date', values='lap_time')\n",
    "pivot = df_monthly.pivot(index='Line', columns='Date', values='lap_time')\n",
    "pivot.reset_index(inplace=True)\n",
    "# pivot creates NaN for rows with no monthly data for each race review data\n",
    "# populate each NaN value with the max for that column - so they get the max laptime for that race\n",
    "# we can search for cols [1:] and find all cols after Date and Line\n",
    "pivot.iloc[:,1:] = pivot.iloc[:,1:].fillna(pivot.iloc[:,1:].max())\n",
    "\n",
    "# sum all the columns to get a race_time\n",
    "pivot['race_time'] = pivot.sum(axis=1)\n",
    "# sum all but the last 2 cols (this lap and the race_time) to calc prev_race_time\n",
    "\n",
    "# pivot['prev_race_time'] = pivot[pivot.columns[2]] + pivot[pivot.columns[3]]\n",
    "pivot['prev_race_time'] = pivot.iloc[:,1:-2].sum(axis=1)\n",
    "\n",
    "pivot = pivot.merge(df_dash[['Plant','Line']], on='Line')\n",
    "pivot.sort_values('race_time', inplace=True)\n",
    "pivot['position'] = np.arange(1,len(pivot) + 1)\n",
    "pivot['gap_to_leader'] = pivot['race_time'] - pivot['race_time'].iloc[0]\n",
    "pivot.sort_values('prev_race_time', inplace=True)\n",
    "pivot['prev_position'] = np.arange(1,len(pivot) + 1)\n",
    "pivot['Gain/Loss'] = pivot.prev_position - pivot.position\n",
    "pivot.sort_values('race_time', inplace=True)\n",
    "pivot['interval'] = pivot.race_time.diff()\n",
    "pivot = pivot.merge(df_dash[['Line','OEE  Start point', '⇗ OEE% progress', 'OEE% Target (2022)']], on='Line')\n",
    "pivot"
   ]
  },
  {
   "cell_type": "markdown",
   "metadata": {},
   "source": [
    "#### write this out for tableau"
   ]
  },
  {
   "cell_type": "code",
   "execution_count": 413,
   "metadata": {},
   "outputs": [],
   "source": [
    "pivot.to_csv(output_dir + \"leaderboard.csv\")\n",
    "pivot.to_excel(output_dir + \"leaderboard.xlsx\")"
   ]
  },
  {
   "cell_type": "markdown",
   "metadata": {},
   "source": [
    "END OF PROCESSING - Sanity checks below"
   ]
  },
  {
   "cell_type": "code",
   "execution_count": 414,
   "metadata": {},
   "outputs": [],
   "source": [
    "pivot.sort_values(pivot.columns[1], inplace=True)\n",
    "pivot['apr_position'] = np.arange(1,len(pivot) + 1)\n",
    "pivot['temp_race_time'] = pivot[pivot.columns[[1,2]]].sum(axis=1)\n",
    "pivot.sort_values(by='temp_race_time', inplace=True)\n",
    "pivot['may_position'] = np.arange(1,len(pivot) + 1)\n",
    "pivot['temp_race_time'] = pivot[pivot.columns[[1,2,3]]].sum(axis=1)\n",
    "pivot.sort_values(by='temp_race_time', inplace=True)\n",
    "pivot['jun_position'] = np.arange(1,len(pivot) + 1)\n",
    "pivot['temp_race_time'] = pivot[pivot.columns[[1,2,3,4]]].sum(axis=1)\n",
    "pivot.sort_values(by='temp_race_time', inplace=True)\n",
    "pivot['jly_position'] = np.arange(1,len(pivot) + 1)"
   ]
  },
  {
   "cell_type": "code",
   "execution_count": 415,
   "metadata": {
    "scrolled": true
   },
   "outputs": [
    {
     "output_type": "execute_result",
     "data": {
      "text/plain": [
       "                      Line  2021-04-15 00:00:00  2021-05-13 00:00:00  \\\n",
       "0                   GAMMA1            89.153635            69.325767   \n",
       "1                IMA C80/2            88.910325            69.256522   \n",
       "2       L18 Packaging Line            88.847371            74.226704   \n",
       "3       L25 Packaging Line            88.849848            74.908842   \n",
       "4              M22 Filling            88.954055            81.806345   \n",
       "5              M21 Filling            89.248972            83.742471   \n",
       "6              M18 Filling            89.960538            82.596174   \n",
       "7                      AL6            89.137919            90.323044   \n",
       "8     SUPPO Packaging Line            88.585451            89.604811   \n",
       "9   LINE 01 - UHLMANN 1880            89.960538            88.525570   \n",
       "10    TR200 Packaging Line            88.710480            89.591164   \n",
       "11          MEDISEAL PURAN            89.960538            89.020162   \n",
       "12         AL5 Packaging 1            89.248972            89.725754   \n",
       "13       C9 Packaging Line            89.021344            89.747841   \n",
       "14       C2 Packaging Line            88.952755            90.451874   \n",
       "\n",
       "    2021-06-10 00:00:00  2021-07-08 00:00:00  position  prev_position  \\\n",
       "0             68.226756            89.979194         1              1   \n",
       "1             75.232693            89.680834         2              2   \n",
       "2             89.407996            89.427519         3              3   \n",
       "3             90.011979            89.862601         4              4   \n",
       "4             84.857670            89.522488         5              5   \n",
       "5             84.767181            89.760825         6              6   \n",
       "6             85.446232            90.979137         7              7   \n",
       "7             84.205598            89.849765         8              8   \n",
       "8             89.904755            89.318502         9             10   \n",
       "9             89.636847            89.547483        10             11   \n",
       "10            89.381941            90.469644        11              9   \n",
       "11            89.838256            89.971539        12             12   \n",
       "12            90.495004            89.559946        13             14   \n",
       "13            90.361488            90.130804        14             13   \n",
       "14            90.261138            90.594185        15             15   \n",
       "\n",
       "    apr_position  may_position  jun_position  jly_position  \n",
       "0             10             2             1             1  \n",
       "1              5             1             2             2  \n",
       "2              3             3             3             3  \n",
       "3              4             4             4             4  \n",
       "4              7             5             5             5  \n",
       "5             11             7             6             6  \n",
       "6             13             6             7             7  \n",
       "7              9            15             8             8  \n",
       "8              1             8            10             9  \n",
       "9             14            10            11            10  \n",
       "10             2             9             9            11  \n",
       "11            15            13            12            12  \n",
       "12            12            12            14            13  \n",
       "13             8            11            13            14  \n",
       "14             6            14            15            15  "
      ],
      "text/html": "<div>\n<style scoped>\n    .dataframe tbody tr th:only-of-type {\n        vertical-align: middle;\n    }\n\n    .dataframe tbody tr th {\n        vertical-align: top;\n    }\n\n    .dataframe thead th {\n        text-align: right;\n    }\n</style>\n<table border=\"1\" class=\"dataframe\">\n  <thead>\n    <tr style=\"text-align: right;\">\n      <th></th>\n      <th>Line</th>\n      <th>2021-04-15 00:00:00</th>\n      <th>2021-05-13 00:00:00</th>\n      <th>2021-06-10 00:00:00</th>\n      <th>2021-07-08 00:00:00</th>\n      <th>position</th>\n      <th>prev_position</th>\n      <th>apr_position</th>\n      <th>may_position</th>\n      <th>jun_position</th>\n      <th>jly_position</th>\n    </tr>\n  </thead>\n  <tbody>\n    <tr>\n      <th>0</th>\n      <td>GAMMA1</td>\n      <td>89.153635</td>\n      <td>69.325767</td>\n      <td>68.226756</td>\n      <td>89.979194</td>\n      <td>1</td>\n      <td>1</td>\n      <td>10</td>\n      <td>2</td>\n      <td>1</td>\n      <td>1</td>\n    </tr>\n    <tr>\n      <th>1</th>\n      <td>IMA C80/2</td>\n      <td>88.910325</td>\n      <td>69.256522</td>\n      <td>75.232693</td>\n      <td>89.680834</td>\n      <td>2</td>\n      <td>2</td>\n      <td>5</td>\n      <td>1</td>\n      <td>2</td>\n      <td>2</td>\n    </tr>\n    <tr>\n      <th>2</th>\n      <td>L18 Packaging Line</td>\n      <td>88.847371</td>\n      <td>74.226704</td>\n      <td>89.407996</td>\n      <td>89.427519</td>\n      <td>3</td>\n      <td>3</td>\n      <td>3</td>\n      <td>3</td>\n      <td>3</td>\n      <td>3</td>\n    </tr>\n    <tr>\n      <th>3</th>\n      <td>L25 Packaging Line</td>\n      <td>88.849848</td>\n      <td>74.908842</td>\n      <td>90.011979</td>\n      <td>89.862601</td>\n      <td>4</td>\n      <td>4</td>\n      <td>4</td>\n      <td>4</td>\n      <td>4</td>\n      <td>4</td>\n    </tr>\n    <tr>\n      <th>4</th>\n      <td>M22 Filling</td>\n      <td>88.954055</td>\n      <td>81.806345</td>\n      <td>84.857670</td>\n      <td>89.522488</td>\n      <td>5</td>\n      <td>5</td>\n      <td>7</td>\n      <td>5</td>\n      <td>5</td>\n      <td>5</td>\n    </tr>\n    <tr>\n      <th>5</th>\n      <td>M21 Filling</td>\n      <td>89.248972</td>\n      <td>83.742471</td>\n      <td>84.767181</td>\n      <td>89.760825</td>\n      <td>6</td>\n      <td>6</td>\n      <td>11</td>\n      <td>7</td>\n      <td>6</td>\n      <td>6</td>\n    </tr>\n    <tr>\n      <th>6</th>\n      <td>M18 Filling</td>\n      <td>89.960538</td>\n      <td>82.596174</td>\n      <td>85.446232</td>\n      <td>90.979137</td>\n      <td>7</td>\n      <td>7</td>\n      <td>13</td>\n      <td>6</td>\n      <td>7</td>\n      <td>7</td>\n    </tr>\n    <tr>\n      <th>7</th>\n      <td>AL6</td>\n      <td>89.137919</td>\n      <td>90.323044</td>\n      <td>84.205598</td>\n      <td>89.849765</td>\n      <td>8</td>\n      <td>8</td>\n      <td>9</td>\n      <td>15</td>\n      <td>8</td>\n      <td>8</td>\n    </tr>\n    <tr>\n      <th>8</th>\n      <td>SUPPO Packaging Line</td>\n      <td>88.585451</td>\n      <td>89.604811</td>\n      <td>89.904755</td>\n      <td>89.318502</td>\n      <td>9</td>\n      <td>10</td>\n      <td>1</td>\n      <td>8</td>\n      <td>10</td>\n      <td>9</td>\n    </tr>\n    <tr>\n      <th>9</th>\n      <td>LINE 01 - UHLMANN 1880</td>\n      <td>89.960538</td>\n      <td>88.525570</td>\n      <td>89.636847</td>\n      <td>89.547483</td>\n      <td>10</td>\n      <td>11</td>\n      <td>14</td>\n      <td>10</td>\n      <td>11</td>\n      <td>10</td>\n    </tr>\n    <tr>\n      <th>10</th>\n      <td>TR200 Packaging Line</td>\n      <td>88.710480</td>\n      <td>89.591164</td>\n      <td>89.381941</td>\n      <td>90.469644</td>\n      <td>11</td>\n      <td>9</td>\n      <td>2</td>\n      <td>9</td>\n      <td>9</td>\n      <td>11</td>\n    </tr>\n    <tr>\n      <th>11</th>\n      <td>MEDISEAL PURAN</td>\n      <td>89.960538</td>\n      <td>89.020162</td>\n      <td>89.838256</td>\n      <td>89.971539</td>\n      <td>12</td>\n      <td>12</td>\n      <td>15</td>\n      <td>13</td>\n      <td>12</td>\n      <td>12</td>\n    </tr>\n    <tr>\n      <th>12</th>\n      <td>AL5 Packaging 1</td>\n      <td>89.248972</td>\n      <td>89.725754</td>\n      <td>90.495004</td>\n      <td>89.559946</td>\n      <td>13</td>\n      <td>14</td>\n      <td>12</td>\n      <td>12</td>\n      <td>14</td>\n      <td>13</td>\n    </tr>\n    <tr>\n      <th>13</th>\n      <td>C9 Packaging Line</td>\n      <td>89.021344</td>\n      <td>89.747841</td>\n      <td>90.361488</td>\n      <td>90.130804</td>\n      <td>14</td>\n      <td>13</td>\n      <td>8</td>\n      <td>11</td>\n      <td>13</td>\n      <td>14</td>\n    </tr>\n    <tr>\n      <th>14</th>\n      <td>C2 Packaging Line</td>\n      <td>88.952755</td>\n      <td>90.451874</td>\n      <td>90.261138</td>\n      <td>90.594185</td>\n      <td>15</td>\n      <td>15</td>\n      <td>6</td>\n      <td>14</td>\n      <td>15</td>\n      <td>15</td>\n    </tr>\n  </tbody>\n</table>\n</div>"
     },
     "metadata": {},
     "execution_count": 415
    }
   ],
   "source": [
    "# regex filter on column name contains Line, position or 2021\n",
    "pivot.filter(regex='Line|position|2021')"
   ]
  },
  {
   "cell_type": "code",
   "execution_count": 416,
   "metadata": {},
   "outputs": [],
   "source": [
    "# df_weekly.groupby(['Review_Date','Line']).lap_time.sum().reset_index()\n",
    "sectors = df_weekly.filter(regex='Line|sector|Review_Date')"
   ]
  },
  {
   "cell_type": "code",
   "execution_count": 417,
   "metadata": {},
   "outputs": [
    {
     "output_type": "execute_result",
     "data": {
      "text/plain": [
       "Review_Date                    Line  2021-04-15 00:00:00  2021-05-13 00:00:00  \\\n",
       "0                   AL5 Packaging 1             1.248972             1.725754   \n",
       "1                               AL6             1.137919             2.323044   \n",
       "2                 C2 Packaging Line             0.952755             2.451874   \n",
       "3                 C9 Packaging Line             1.021344             1.747841   \n",
       "4                            GAMMA1             1.153635             1.725767   \n",
       "5                         IMA C80/2             0.910325             1.656522   \n",
       "6                L18 Packaging Line             0.847371             1.426704   \n",
       "7                L25 Packaging Line             0.849848             2.108842   \n",
       "8            LINE 01 - UHLMANN 1880                  NaN             0.525570   \n",
       "9                       M18 Filling             1.960538             2.596174   \n",
       "10                      M21 Filling             1.248972             3.742471   \n",
       "11                      M22 Filling             0.954055             1.806345   \n",
       "12                   MEDISEAL PURAN                  NaN             1.020162   \n",
       "13             SUPPO Packaging Line             0.585451             1.604811   \n",
       "14             TR200 Packaging Line             0.710480             1.591164   \n",
       "\n",
       "Review_Date  2021-06-10 00:00:00  2021-07-08 00:00:00  \n",
       "0                       2.495004             1.559946  \n",
       "1                       1.805598             1.849765  \n",
       "2                       2.261138             2.594185  \n",
       "3                       2.361488             2.130804  \n",
       "4                       1.926756             1.979194  \n",
       "5                       1.732693             1.680834  \n",
       "6                       1.407996             1.427519  \n",
       "7                       2.011979             1.862601  \n",
       "8                       1.636847             1.547483  \n",
       "9                       2.646232             2.979137  \n",
       "10                      1.967181             1.760825  \n",
       "11                      2.057670             1.522488  \n",
       "12                      1.838256             1.971539  \n",
       "13                      1.904755             1.318502  \n",
       "14                      1.381941             2.469644  "
      ],
      "text/html": "<div>\n<style scoped>\n    .dataframe tbody tr th:only-of-type {\n        vertical-align: middle;\n    }\n\n    .dataframe tbody tr th {\n        vertical-align: top;\n    }\n\n    .dataframe thead th {\n        text-align: right;\n    }\n</style>\n<table border=\"1\" class=\"dataframe\">\n  <thead>\n    <tr style=\"text-align: right;\">\n      <th>Review_Date</th>\n      <th>Line</th>\n      <th>2021-04-15 00:00:00</th>\n      <th>2021-05-13 00:00:00</th>\n      <th>2021-06-10 00:00:00</th>\n      <th>2021-07-08 00:00:00</th>\n    </tr>\n  </thead>\n  <tbody>\n    <tr>\n      <th>0</th>\n      <td>AL5 Packaging 1</td>\n      <td>1.248972</td>\n      <td>1.725754</td>\n      <td>2.495004</td>\n      <td>1.559946</td>\n    </tr>\n    <tr>\n      <th>1</th>\n      <td>AL6</td>\n      <td>1.137919</td>\n      <td>2.323044</td>\n      <td>1.805598</td>\n      <td>1.849765</td>\n    </tr>\n    <tr>\n      <th>2</th>\n      <td>C2 Packaging Line</td>\n      <td>0.952755</td>\n      <td>2.451874</td>\n      <td>2.261138</td>\n      <td>2.594185</td>\n    </tr>\n    <tr>\n      <th>3</th>\n      <td>C9 Packaging Line</td>\n      <td>1.021344</td>\n      <td>1.747841</td>\n      <td>2.361488</td>\n      <td>2.130804</td>\n    </tr>\n    <tr>\n      <th>4</th>\n      <td>GAMMA1</td>\n      <td>1.153635</td>\n      <td>1.725767</td>\n      <td>1.926756</td>\n      <td>1.979194</td>\n    </tr>\n    <tr>\n      <th>5</th>\n      <td>IMA C80/2</td>\n      <td>0.910325</td>\n      <td>1.656522</td>\n      <td>1.732693</td>\n      <td>1.680834</td>\n    </tr>\n    <tr>\n      <th>6</th>\n      <td>L18 Packaging Line</td>\n      <td>0.847371</td>\n      <td>1.426704</td>\n      <td>1.407996</td>\n      <td>1.427519</td>\n    </tr>\n    <tr>\n      <th>7</th>\n      <td>L25 Packaging Line</td>\n      <td>0.849848</td>\n      <td>2.108842</td>\n      <td>2.011979</td>\n      <td>1.862601</td>\n    </tr>\n    <tr>\n      <th>8</th>\n      <td>LINE 01 - UHLMANN 1880</td>\n      <td>NaN</td>\n      <td>0.525570</td>\n      <td>1.636847</td>\n      <td>1.547483</td>\n    </tr>\n    <tr>\n      <th>9</th>\n      <td>M18 Filling</td>\n      <td>1.960538</td>\n      <td>2.596174</td>\n      <td>2.646232</td>\n      <td>2.979137</td>\n    </tr>\n    <tr>\n      <th>10</th>\n      <td>M21 Filling</td>\n      <td>1.248972</td>\n      <td>3.742471</td>\n      <td>1.967181</td>\n      <td>1.760825</td>\n    </tr>\n    <tr>\n      <th>11</th>\n      <td>M22 Filling</td>\n      <td>0.954055</td>\n      <td>1.806345</td>\n      <td>2.057670</td>\n      <td>1.522488</td>\n    </tr>\n    <tr>\n      <th>12</th>\n      <td>MEDISEAL PURAN</td>\n      <td>NaN</td>\n      <td>1.020162</td>\n      <td>1.838256</td>\n      <td>1.971539</td>\n    </tr>\n    <tr>\n      <th>13</th>\n      <td>SUPPO Packaging Line</td>\n      <td>0.585451</td>\n      <td>1.604811</td>\n      <td>1.904755</td>\n      <td>1.318502</td>\n    </tr>\n    <tr>\n      <th>14</th>\n      <td>TR200 Packaging Line</td>\n      <td>0.710480</td>\n      <td>1.591164</td>\n      <td>1.381941</td>\n      <td>2.469644</td>\n    </tr>\n  </tbody>\n</table>\n</div>"
     },
     "metadata": {},
     "execution_count": 417
    }
   ],
   "source": [
    "# sectors[sectors.columns[[2,3,4,5]]].sum(axis=1)\n",
    "sectors = df_weekly.filter(regex='Line|sector|Review_Date')\n",
    "sectors = sectors.iloc[:,0:6]\n",
    "sectors = sectors.groupby(['Line','Review_Date']).sum().reset_index()\n",
    "sectors['time'] = sectors.sum(axis=1)\n",
    "sectors_pivot = sectors.pivot(index='Line', columns='Review_Date', values='time')\n",
    "sectors_pivot.reset_index(inplace=True)\n",
    "sectors_pivot\n",
    "# sectors[sectors[sectors.columns[[2,3,4,5]]].sum(axis=1)\n",
    "# sectors[sectors.Line.str.contains('AL5')]"
   ]
  },
  {
   "cell_type": "code",
   "execution_count": 418,
   "metadata": {},
   "outputs": [],
   "source": [
    "# search for cols [1:] and find all cols after Date and Line\n",
    "sectors_pivot.iloc[:,1:] = sectors_pivot.iloc[:,1:].fillna(sectors_pivot.iloc[:,1:].max())\n"
   ]
  },
  {
   "cell_type": "code",
   "execution_count": 419,
   "metadata": {},
   "outputs": [
    {
     "output_type": "execute_result",
     "data": {
      "text/plain": [
       "Review_Date                    Line  2021-04-15 00:00:00  2021-05-13 00:00:00  \\\n",
       "6                L18 Packaging Line             0.847371             1.426704   \n",
       "13             SUPPO Packaging Line             0.585451             1.604811   \n",
       "8            LINE 01 - UHLMANN 1880             1.960538             0.525570   \n",
       "5                         IMA C80/2             0.910325             1.656522   \n",
       "14             TR200 Packaging Line             0.710480             1.591164   \n",
       "11                      M22 Filling             0.954055             1.806345   \n",
       "4                            GAMMA1             1.153635             1.725767   \n",
       "12                   MEDISEAL PURAN             1.960538             1.020162   \n",
       "7                L25 Packaging Line             0.849848             2.108842   \n",
       "0                   AL5 Packaging 1             1.248972             1.725754   \n",
       "1                               AL6             1.137919             2.323044   \n",
       "3                 C9 Packaging Line             1.021344             1.747841   \n",
       "2                 C2 Packaging Line             0.952755             2.451874   \n",
       "10                      M21 Filling             1.248972             3.742471   \n",
       "9                       M18 Filling             1.960538             2.596174   \n",
       "\n",
       "Review_Date  2021-06-10 00:00:00  2021-07-08 00:00:00  apr_position  \\\n",
       "6                       1.407996             1.427519             3   \n",
       "13                      1.904755             1.318502             1   \n",
       "8                       1.636847             1.547483            13   \n",
       "5                       1.732693             1.680834             5   \n",
       "14                      1.381941             2.469644             2   \n",
       "11                      2.057670             1.522488             7   \n",
       "4                       1.926756             1.979194            10   \n",
       "12                      1.838256             1.971539            15   \n",
       "7                       2.011979             1.862601             4   \n",
       "0                       2.495004             1.559946            11   \n",
       "1                       1.805598             1.849765             9   \n",
       "3                       2.361488             2.130804             8   \n",
       "2                       2.261138             2.594185             6   \n",
       "10                      1.967181             1.760825            12   \n",
       "9                       2.646232             2.979137            14   \n",
       "\n",
       "Review_Date  may_position  jun_position  jly_position  \n",
       "6                       2             1             1  \n",
       "13                      1             3             2  \n",
       "8                       4             4             3  \n",
       "5                       5             5             4  \n",
       "14                      3             2             5  \n",
       "11                      6             7             6  \n",
       "4                       8             6             7  \n",
       "12                     11             8             8  \n",
       "7                       9             9             9  \n",
       "0                      10            12            10  \n",
       "1                      13            11            11  \n",
       "3                       7            10            12  \n",
       "2                      12            13            13  \n",
       "10                     15            14            14  \n",
       "9                      14            15            15  "
      ],
      "text/html": "<div>\n<style scoped>\n    .dataframe tbody tr th:only-of-type {\n        vertical-align: middle;\n    }\n\n    .dataframe tbody tr th {\n        vertical-align: top;\n    }\n\n    .dataframe thead th {\n        text-align: right;\n    }\n</style>\n<table border=\"1\" class=\"dataframe\">\n  <thead>\n    <tr style=\"text-align: right;\">\n      <th>Review_Date</th>\n      <th>Line</th>\n      <th>2021-04-15 00:00:00</th>\n      <th>2021-05-13 00:00:00</th>\n      <th>2021-06-10 00:00:00</th>\n      <th>2021-07-08 00:00:00</th>\n      <th>apr_position</th>\n      <th>may_position</th>\n      <th>jun_position</th>\n      <th>jly_position</th>\n    </tr>\n  </thead>\n  <tbody>\n    <tr>\n      <th>6</th>\n      <td>L18 Packaging Line</td>\n      <td>0.847371</td>\n      <td>1.426704</td>\n      <td>1.407996</td>\n      <td>1.427519</td>\n      <td>3</td>\n      <td>2</td>\n      <td>1</td>\n      <td>1</td>\n    </tr>\n    <tr>\n      <th>13</th>\n      <td>SUPPO Packaging Line</td>\n      <td>0.585451</td>\n      <td>1.604811</td>\n      <td>1.904755</td>\n      <td>1.318502</td>\n      <td>1</td>\n      <td>1</td>\n      <td>3</td>\n      <td>2</td>\n    </tr>\n    <tr>\n      <th>8</th>\n      <td>LINE 01 - UHLMANN 1880</td>\n      <td>1.960538</td>\n      <td>0.525570</td>\n      <td>1.636847</td>\n      <td>1.547483</td>\n      <td>13</td>\n      <td>4</td>\n      <td>4</td>\n      <td>3</td>\n    </tr>\n    <tr>\n      <th>5</th>\n      <td>IMA C80/2</td>\n      <td>0.910325</td>\n      <td>1.656522</td>\n      <td>1.732693</td>\n      <td>1.680834</td>\n      <td>5</td>\n      <td>5</td>\n      <td>5</td>\n      <td>4</td>\n    </tr>\n    <tr>\n      <th>14</th>\n      <td>TR200 Packaging Line</td>\n      <td>0.710480</td>\n      <td>1.591164</td>\n      <td>1.381941</td>\n      <td>2.469644</td>\n      <td>2</td>\n      <td>3</td>\n      <td>2</td>\n      <td>5</td>\n    </tr>\n    <tr>\n      <th>11</th>\n      <td>M22 Filling</td>\n      <td>0.954055</td>\n      <td>1.806345</td>\n      <td>2.057670</td>\n      <td>1.522488</td>\n      <td>7</td>\n      <td>6</td>\n      <td>7</td>\n      <td>6</td>\n    </tr>\n    <tr>\n      <th>4</th>\n      <td>GAMMA1</td>\n      <td>1.153635</td>\n      <td>1.725767</td>\n      <td>1.926756</td>\n      <td>1.979194</td>\n      <td>10</td>\n      <td>8</td>\n      <td>6</td>\n      <td>7</td>\n    </tr>\n    <tr>\n      <th>12</th>\n      <td>MEDISEAL PURAN</td>\n      <td>1.960538</td>\n      <td>1.020162</td>\n      <td>1.838256</td>\n      <td>1.971539</td>\n      <td>15</td>\n      <td>11</td>\n      <td>8</td>\n      <td>8</td>\n    </tr>\n    <tr>\n      <th>7</th>\n      <td>L25 Packaging Line</td>\n      <td>0.849848</td>\n      <td>2.108842</td>\n      <td>2.011979</td>\n      <td>1.862601</td>\n      <td>4</td>\n      <td>9</td>\n      <td>9</td>\n      <td>9</td>\n    </tr>\n    <tr>\n      <th>0</th>\n      <td>AL5 Packaging 1</td>\n      <td>1.248972</td>\n      <td>1.725754</td>\n      <td>2.495004</td>\n      <td>1.559946</td>\n      <td>11</td>\n      <td>10</td>\n      <td>12</td>\n      <td>10</td>\n    </tr>\n    <tr>\n      <th>1</th>\n      <td>AL6</td>\n      <td>1.137919</td>\n      <td>2.323044</td>\n      <td>1.805598</td>\n      <td>1.849765</td>\n      <td>9</td>\n      <td>13</td>\n      <td>11</td>\n      <td>11</td>\n    </tr>\n    <tr>\n      <th>3</th>\n      <td>C9 Packaging Line</td>\n      <td>1.021344</td>\n      <td>1.747841</td>\n      <td>2.361488</td>\n      <td>2.130804</td>\n      <td>8</td>\n      <td>7</td>\n      <td>10</td>\n      <td>12</td>\n    </tr>\n    <tr>\n      <th>2</th>\n      <td>C2 Packaging Line</td>\n      <td>0.952755</td>\n      <td>2.451874</td>\n      <td>2.261138</td>\n      <td>2.594185</td>\n      <td>6</td>\n      <td>12</td>\n      <td>13</td>\n      <td>13</td>\n    </tr>\n    <tr>\n      <th>10</th>\n      <td>M21 Filling</td>\n      <td>1.248972</td>\n      <td>3.742471</td>\n      <td>1.967181</td>\n      <td>1.760825</td>\n      <td>12</td>\n      <td>15</td>\n      <td>14</td>\n      <td>14</td>\n    </tr>\n    <tr>\n      <th>9</th>\n      <td>M18 Filling</td>\n      <td>1.960538</td>\n      <td>2.596174</td>\n      <td>2.646232</td>\n      <td>2.979137</td>\n      <td>14</td>\n      <td>14</td>\n      <td>15</td>\n      <td>15</td>\n    </tr>\n  </tbody>\n</table>\n</div>"
     },
     "metadata": {},
     "execution_count": 419
    }
   ],
   "source": [
    "sectors_pivot.sort_values(sectors_pivot.columns[1], inplace=True)\n",
    "sectors_pivot['apr_position'] = np.arange(1,len(sectors_pivot) + 1)\n",
    "sectors_pivot['temp_race_time'] = sectors_pivot[sectors_pivot.columns[[1,2]]].sum(axis=1)\n",
    "sectors_pivot.sort_values(by='temp_race_time', inplace=True)\n",
    "sectors_pivot['may_position'] = np.arange(1,len(sectors_pivot) + 1)\n",
    "sectors_pivot['temp_race_time'] = sectors_pivot[sectors_pivot.columns[[1,2,3]]].sum(axis=1)\n",
    "sectors_pivot.sort_values(by='temp_race_time', inplace=True)\n",
    "sectors_pivot['jun_position'] = np.arange(1,len(sectors_pivot) + 1)\n",
    "sectors_pivot['temp_race_time'] = sectors_pivot[sectors_pivot.columns[[1,2,3,4]]].sum(axis=1)\n",
    "sectors_pivot.sort_values(by='temp_race_time', inplace=True)\n",
    "sectors_pivot['jly_position'] = np.arange(1,len(sectors_pivot) + 1)\n",
    "sectors_pivot.drop(columns='temp_race_time', inplace=True)\n",
    "sectors_pivot"
   ]
  },
  {
   "cell_type": "code",
   "execution_count": 420,
   "metadata": {},
   "outputs": [
    {
     "output_type": "execute_result",
     "data": {
      "text/plain": [
       "                      Line  2021-04-15 00:00:00  2021-05-13 00:00:00  \\\n",
       "0                   GAMMA1            89.153635            69.325767   \n",
       "1                IMA C80/2            88.910325            69.256522   \n",
       "2       L18 Packaging Line            88.847371            74.226704   \n",
       "3       L25 Packaging Line            88.849848            74.908842   \n",
       "4              M22 Filling            88.954055            81.806345   \n",
       "5              M21 Filling            89.248972            83.742471   \n",
       "6              M18 Filling            89.960538            82.596174   \n",
       "7                      AL6            89.137919            90.323044   \n",
       "10    TR200 Packaging Line            88.710480            89.591164   \n",
       "8     SUPPO Packaging Line            88.585451            89.604811   \n",
       "9   LINE 01 - UHLMANN 1880            89.960538            88.525570   \n",
       "11          MEDISEAL PURAN            89.960538            89.020162   \n",
       "13       C9 Packaging Line            89.021344            89.747841   \n",
       "12         AL5 Packaging 1            89.248972            89.725754   \n",
       "14       C2 Packaging Line            88.952755            90.451874   \n",
       "\n",
       "    2021-06-10 00:00:00  2021-07-08 00:00:00  position  prev_position  \\\n",
       "0             68.226756            89.979194         1              1   \n",
       "1             75.232693            89.680834         2              2   \n",
       "2             89.407996            89.427519         3              3   \n",
       "3             90.011979            89.862601         4              4   \n",
       "4             84.857670            89.522488         5              5   \n",
       "5             84.767181            89.760825         6              6   \n",
       "6             85.446232            90.979137         7              7   \n",
       "7             84.205598            89.849765         8              8   \n",
       "10            89.381941            90.469644        11              9   \n",
       "8             89.904755            89.318502         9             10   \n",
       "9             89.636847            89.547483        10             11   \n",
       "11            89.838256            89.971539        12             12   \n",
       "13            90.361488            90.130804        14             13   \n",
       "12            90.495004            89.559946        13             14   \n",
       "14            90.261138            90.594185        15             15   \n",
       "\n",
       "    apr_position  may_position  jun_position  jly_position  \n",
       "0             10             2             1             1  \n",
       "1              5             1             2             2  \n",
       "2              3             3             3             3  \n",
       "3              4             4             4             4  \n",
       "4              7             5             5             5  \n",
       "5             11             7             6             6  \n",
       "6             13             6             7             7  \n",
       "7              9            15             8             8  \n",
       "10             2             9             9            11  \n",
       "8              1             8            10             9  \n",
       "9             14            10            11            10  \n",
       "11            15            13            12            12  \n",
       "13             8            11            13            14  \n",
       "12            12            12            14            13  \n",
       "14             6            14            15            15  "
      ],
      "text/html": "<div>\n<style scoped>\n    .dataframe tbody tr th:only-of-type {\n        vertical-align: middle;\n    }\n\n    .dataframe tbody tr th {\n        vertical-align: top;\n    }\n\n    .dataframe thead th {\n        text-align: right;\n    }\n</style>\n<table border=\"1\" class=\"dataframe\">\n  <thead>\n    <tr style=\"text-align: right;\">\n      <th></th>\n      <th>Line</th>\n      <th>2021-04-15 00:00:00</th>\n      <th>2021-05-13 00:00:00</th>\n      <th>2021-06-10 00:00:00</th>\n      <th>2021-07-08 00:00:00</th>\n      <th>position</th>\n      <th>prev_position</th>\n      <th>apr_position</th>\n      <th>may_position</th>\n      <th>jun_position</th>\n      <th>jly_position</th>\n    </tr>\n  </thead>\n  <tbody>\n    <tr>\n      <th>0</th>\n      <td>GAMMA1</td>\n      <td>89.153635</td>\n      <td>69.325767</td>\n      <td>68.226756</td>\n      <td>89.979194</td>\n      <td>1</td>\n      <td>1</td>\n      <td>10</td>\n      <td>2</td>\n      <td>1</td>\n      <td>1</td>\n    </tr>\n    <tr>\n      <th>1</th>\n      <td>IMA C80/2</td>\n      <td>88.910325</td>\n      <td>69.256522</td>\n      <td>75.232693</td>\n      <td>89.680834</td>\n      <td>2</td>\n      <td>2</td>\n      <td>5</td>\n      <td>1</td>\n      <td>2</td>\n      <td>2</td>\n    </tr>\n    <tr>\n      <th>2</th>\n      <td>L18 Packaging Line</td>\n      <td>88.847371</td>\n      <td>74.226704</td>\n      <td>89.407996</td>\n      <td>89.427519</td>\n      <td>3</td>\n      <td>3</td>\n      <td>3</td>\n      <td>3</td>\n      <td>3</td>\n      <td>3</td>\n    </tr>\n    <tr>\n      <th>3</th>\n      <td>L25 Packaging Line</td>\n      <td>88.849848</td>\n      <td>74.908842</td>\n      <td>90.011979</td>\n      <td>89.862601</td>\n      <td>4</td>\n      <td>4</td>\n      <td>4</td>\n      <td>4</td>\n      <td>4</td>\n      <td>4</td>\n    </tr>\n    <tr>\n      <th>4</th>\n      <td>M22 Filling</td>\n      <td>88.954055</td>\n      <td>81.806345</td>\n      <td>84.857670</td>\n      <td>89.522488</td>\n      <td>5</td>\n      <td>5</td>\n      <td>7</td>\n      <td>5</td>\n      <td>5</td>\n      <td>5</td>\n    </tr>\n    <tr>\n      <th>5</th>\n      <td>M21 Filling</td>\n      <td>89.248972</td>\n      <td>83.742471</td>\n      <td>84.767181</td>\n      <td>89.760825</td>\n      <td>6</td>\n      <td>6</td>\n      <td>11</td>\n      <td>7</td>\n      <td>6</td>\n      <td>6</td>\n    </tr>\n    <tr>\n      <th>6</th>\n      <td>M18 Filling</td>\n      <td>89.960538</td>\n      <td>82.596174</td>\n      <td>85.446232</td>\n      <td>90.979137</td>\n      <td>7</td>\n      <td>7</td>\n      <td>13</td>\n      <td>6</td>\n      <td>7</td>\n      <td>7</td>\n    </tr>\n    <tr>\n      <th>7</th>\n      <td>AL6</td>\n      <td>89.137919</td>\n      <td>90.323044</td>\n      <td>84.205598</td>\n      <td>89.849765</td>\n      <td>8</td>\n      <td>8</td>\n      <td>9</td>\n      <td>15</td>\n      <td>8</td>\n      <td>8</td>\n    </tr>\n    <tr>\n      <th>10</th>\n      <td>TR200 Packaging Line</td>\n      <td>88.710480</td>\n      <td>89.591164</td>\n      <td>89.381941</td>\n      <td>90.469644</td>\n      <td>11</td>\n      <td>9</td>\n      <td>2</td>\n      <td>9</td>\n      <td>9</td>\n      <td>11</td>\n    </tr>\n    <tr>\n      <th>8</th>\n      <td>SUPPO Packaging Line</td>\n      <td>88.585451</td>\n      <td>89.604811</td>\n      <td>89.904755</td>\n      <td>89.318502</td>\n      <td>9</td>\n      <td>10</td>\n      <td>1</td>\n      <td>8</td>\n      <td>10</td>\n      <td>9</td>\n    </tr>\n    <tr>\n      <th>9</th>\n      <td>LINE 01 - UHLMANN 1880</td>\n      <td>89.960538</td>\n      <td>88.525570</td>\n      <td>89.636847</td>\n      <td>89.547483</td>\n      <td>10</td>\n      <td>11</td>\n      <td>14</td>\n      <td>10</td>\n      <td>11</td>\n      <td>10</td>\n    </tr>\n    <tr>\n      <th>11</th>\n      <td>MEDISEAL PURAN</td>\n      <td>89.960538</td>\n      <td>89.020162</td>\n      <td>89.838256</td>\n      <td>89.971539</td>\n      <td>12</td>\n      <td>12</td>\n      <td>15</td>\n      <td>13</td>\n      <td>12</td>\n      <td>12</td>\n    </tr>\n    <tr>\n      <th>13</th>\n      <td>C9 Packaging Line</td>\n      <td>89.021344</td>\n      <td>89.747841</td>\n      <td>90.361488</td>\n      <td>90.130804</td>\n      <td>14</td>\n      <td>13</td>\n      <td>8</td>\n      <td>11</td>\n      <td>13</td>\n      <td>14</td>\n    </tr>\n    <tr>\n      <th>12</th>\n      <td>AL5 Packaging 1</td>\n      <td>89.248972</td>\n      <td>89.725754</td>\n      <td>90.495004</td>\n      <td>89.559946</td>\n      <td>13</td>\n      <td>14</td>\n      <td>12</td>\n      <td>12</td>\n      <td>14</td>\n      <td>13</td>\n    </tr>\n    <tr>\n      <th>14</th>\n      <td>C2 Packaging Line</td>\n      <td>88.952755</td>\n      <td>90.451874</td>\n      <td>90.261138</td>\n      <td>90.594185</td>\n      <td>15</td>\n      <td>15</td>\n      <td>6</td>\n      <td>14</td>\n      <td>15</td>\n      <td>15</td>\n    </tr>\n  </tbody>\n</table>\n</div>"
     },
     "metadata": {},
     "execution_count": 420
    }
   ],
   "source": [
    "pivot.filter(regex='Line|position|2021').sort_values('jun_position')"
   ]
  },
  {
   "cell_type": "code",
   "execution_count": 421,
   "metadata": {},
   "outputs": [],
   "source": [
    "aggregations = {\n",
    "    'sector_1':'sum',\n",
    "    'sector_2':'mean',\n",
    "    'sector_3':'mean',\n",
    "    'sector_4':'mean',\n",
    "    'sector_5':'sum',\n",
    "    'sector_6':'sum',\n",
    "    'sector_7':'sum',\n",
    "    'sector_8':'sum',\n",
    "    'sector_9':'sum',\n",
    "    'lap_time':'sum'\n",
    "}\n",
    "all_sectors = df_weekly.groupby(['Review_Date','Line'])[['sector_1','sector_2','sector_3','sector_4','sector_5','sector_6','sector_7','sector_8','sector_9','lap_time']].agg(aggregations).reset_index()"
   ]
  },
  {
   "cell_type": "code",
   "execution_count": 422,
   "metadata": {},
   "outputs": [
    {
     "output_type": "execute_result",
     "data": {
      "text/plain": [
       "   Review_Date                    Line  sector_1  sector_2  sector_3  \\\n",
       "43  2021-07-08         AL5 Packaging 1 -0.469051  0.191344  0.241631   \n",
       "56  2021-07-08    SUPPO Packaging Line -0.172830  0.072115  0.244240   \n",
       "50  2021-07-08      L25 Packaging Line -0.025216  0.021244  0.198590   \n",
       "47  2021-07-08                  GAMMA1 -0.008305  0.074553  0.194326   \n",
       "48  2021-07-08               IMA C80/2  0.028888  0.044093  0.178317   \n",
       "51  2021-07-08  LINE 01 - UHLMANN 1880  0.030771  0.105944  0.210129   \n",
       "54  2021-07-08             M22 Filling  0.043290  0.112922  0.127066   \n",
       "53  2021-07-08             M21 Filling  0.054741  0.156167  0.137801   \n",
       "46  2021-07-08       C9 Packaging Line  0.105945  0.060942  0.380177   \n",
       "49  2021-07-08      L18 Packaging Line  0.106991  0.044049  0.114387   \n",
       "55  2021-07-08          MEDISEAL PURAN  0.158613  0.089794  0.276825   \n",
       "44  2021-07-08                     AL6  0.167779  0.058148  0.294394   \n",
       "57  2021-07-08    TR200 Packaging Line  0.207982  0.118991  0.310571   \n",
       "45  2021-07-08       C2 Packaging Line  0.238106  0.060824  0.461483   \n",
       "52  2021-07-08             M18 Filling  0.537044  0.222455  0.155197   \n",
       "\n",
       "    sector_4  sector_5  sector_6  sector_7  sector_8  sector_9  lap_time  \n",
       "43  0.074274       0.0       0.0       0.0       0.0       0.0  1.559946  \n",
       "56  0.056478       0.0       0.0       0.0       0.0       0.0  1.318502  \n",
       "50  0.252119       0.0       0.0       0.0       0.0       0.0  1.862601  \n",
       "47  0.227996       0.0       0.0       0.0       0.0       0.0  1.979194  \n",
       "48  0.190577       0.0       0.0       0.0       0.0       0.0  1.680834  \n",
       "51  0.063105       0.0       0.0       0.0       0.0       0.0  1.547483  \n",
       "54  0.129812       0.0       0.0       0.0       0.0       0.0  1.522488  \n",
       "53  0.132553       0.0       0.0       0.0       0.0       0.0  1.760825  \n",
       "46  0.065095       0.0       0.0       0.0       0.0       0.0  2.130804  \n",
       "49  0.171696       0.0       0.0       0.0       0.0       0.0  1.427519  \n",
       "55  0.086612       0.0       0.0       0.0       0.0       0.0  1.971539  \n",
       "44  0.067954       0.0       0.0       0.0       0.0       0.0  1.849765  \n",
       "57  0.135853       0.0       0.0       0.0       0.0       0.0  2.469644  \n",
       "45  0.066713       0.0       0.0       0.0       0.0       0.0  2.594185  \n",
       "52  0.232872       0.0       0.0       0.0       0.0       0.0  2.979137  "
      ],
      "text/html": "<div>\n<style scoped>\n    .dataframe tbody tr th:only-of-type {\n        vertical-align: middle;\n    }\n\n    .dataframe tbody tr th {\n        vertical-align: top;\n    }\n\n    .dataframe thead th {\n        text-align: right;\n    }\n</style>\n<table border=\"1\" class=\"dataframe\">\n  <thead>\n    <tr style=\"text-align: right;\">\n      <th></th>\n      <th>Review_Date</th>\n      <th>Line</th>\n      <th>sector_1</th>\n      <th>sector_2</th>\n      <th>sector_3</th>\n      <th>sector_4</th>\n      <th>sector_5</th>\n      <th>sector_6</th>\n      <th>sector_7</th>\n      <th>sector_8</th>\n      <th>sector_9</th>\n      <th>lap_time</th>\n    </tr>\n  </thead>\n  <tbody>\n    <tr>\n      <th>43</th>\n      <td>2021-07-08</td>\n      <td>AL5 Packaging 1</td>\n      <td>-0.469051</td>\n      <td>0.191344</td>\n      <td>0.241631</td>\n      <td>0.074274</td>\n      <td>0.0</td>\n      <td>0.0</td>\n      <td>0.0</td>\n      <td>0.0</td>\n      <td>0.0</td>\n      <td>1.559946</td>\n    </tr>\n    <tr>\n      <th>56</th>\n      <td>2021-07-08</td>\n      <td>SUPPO Packaging Line</td>\n      <td>-0.172830</td>\n      <td>0.072115</td>\n      <td>0.244240</td>\n      <td>0.056478</td>\n      <td>0.0</td>\n      <td>0.0</td>\n      <td>0.0</td>\n      <td>0.0</td>\n      <td>0.0</td>\n      <td>1.318502</td>\n    </tr>\n    <tr>\n      <th>50</th>\n      <td>2021-07-08</td>\n      <td>L25 Packaging Line</td>\n      <td>-0.025216</td>\n      <td>0.021244</td>\n      <td>0.198590</td>\n      <td>0.252119</td>\n      <td>0.0</td>\n      <td>0.0</td>\n      <td>0.0</td>\n      <td>0.0</td>\n      <td>0.0</td>\n      <td>1.862601</td>\n    </tr>\n    <tr>\n      <th>47</th>\n      <td>2021-07-08</td>\n      <td>GAMMA1</td>\n      <td>-0.008305</td>\n      <td>0.074553</td>\n      <td>0.194326</td>\n      <td>0.227996</td>\n      <td>0.0</td>\n      <td>0.0</td>\n      <td>0.0</td>\n      <td>0.0</td>\n      <td>0.0</td>\n      <td>1.979194</td>\n    </tr>\n    <tr>\n      <th>48</th>\n      <td>2021-07-08</td>\n      <td>IMA C80/2</td>\n      <td>0.028888</td>\n      <td>0.044093</td>\n      <td>0.178317</td>\n      <td>0.190577</td>\n      <td>0.0</td>\n      <td>0.0</td>\n      <td>0.0</td>\n      <td>0.0</td>\n      <td>0.0</td>\n      <td>1.680834</td>\n    </tr>\n    <tr>\n      <th>51</th>\n      <td>2021-07-08</td>\n      <td>LINE 01 - UHLMANN 1880</td>\n      <td>0.030771</td>\n      <td>0.105944</td>\n      <td>0.210129</td>\n      <td>0.063105</td>\n      <td>0.0</td>\n      <td>0.0</td>\n      <td>0.0</td>\n      <td>0.0</td>\n      <td>0.0</td>\n      <td>1.547483</td>\n    </tr>\n    <tr>\n      <th>54</th>\n      <td>2021-07-08</td>\n      <td>M22 Filling</td>\n      <td>0.043290</td>\n      <td>0.112922</td>\n      <td>0.127066</td>\n      <td>0.129812</td>\n      <td>0.0</td>\n      <td>0.0</td>\n      <td>0.0</td>\n      <td>0.0</td>\n      <td>0.0</td>\n      <td>1.522488</td>\n    </tr>\n    <tr>\n      <th>53</th>\n      <td>2021-07-08</td>\n      <td>M21 Filling</td>\n      <td>0.054741</td>\n      <td>0.156167</td>\n      <td>0.137801</td>\n      <td>0.132553</td>\n      <td>0.0</td>\n      <td>0.0</td>\n      <td>0.0</td>\n      <td>0.0</td>\n      <td>0.0</td>\n      <td>1.760825</td>\n    </tr>\n    <tr>\n      <th>46</th>\n      <td>2021-07-08</td>\n      <td>C9 Packaging Line</td>\n      <td>0.105945</td>\n      <td>0.060942</td>\n      <td>0.380177</td>\n      <td>0.065095</td>\n      <td>0.0</td>\n      <td>0.0</td>\n      <td>0.0</td>\n      <td>0.0</td>\n      <td>0.0</td>\n      <td>2.130804</td>\n    </tr>\n    <tr>\n      <th>49</th>\n      <td>2021-07-08</td>\n      <td>L18 Packaging Line</td>\n      <td>0.106991</td>\n      <td>0.044049</td>\n      <td>0.114387</td>\n      <td>0.171696</td>\n      <td>0.0</td>\n      <td>0.0</td>\n      <td>0.0</td>\n      <td>0.0</td>\n      <td>0.0</td>\n      <td>1.427519</td>\n    </tr>\n    <tr>\n      <th>55</th>\n      <td>2021-07-08</td>\n      <td>MEDISEAL PURAN</td>\n      <td>0.158613</td>\n      <td>0.089794</td>\n      <td>0.276825</td>\n      <td>0.086612</td>\n      <td>0.0</td>\n      <td>0.0</td>\n      <td>0.0</td>\n      <td>0.0</td>\n      <td>0.0</td>\n      <td>1.971539</td>\n    </tr>\n    <tr>\n      <th>44</th>\n      <td>2021-07-08</td>\n      <td>AL6</td>\n      <td>0.167779</td>\n      <td>0.058148</td>\n      <td>0.294394</td>\n      <td>0.067954</td>\n      <td>0.0</td>\n      <td>0.0</td>\n      <td>0.0</td>\n      <td>0.0</td>\n      <td>0.0</td>\n      <td>1.849765</td>\n    </tr>\n    <tr>\n      <th>57</th>\n      <td>2021-07-08</td>\n      <td>TR200 Packaging Line</td>\n      <td>0.207982</td>\n      <td>0.118991</td>\n      <td>0.310571</td>\n      <td>0.135853</td>\n      <td>0.0</td>\n      <td>0.0</td>\n      <td>0.0</td>\n      <td>0.0</td>\n      <td>0.0</td>\n      <td>2.469644</td>\n    </tr>\n    <tr>\n      <th>45</th>\n      <td>2021-07-08</td>\n      <td>C2 Packaging Line</td>\n      <td>0.238106</td>\n      <td>0.060824</td>\n      <td>0.461483</td>\n      <td>0.066713</td>\n      <td>0.0</td>\n      <td>0.0</td>\n      <td>0.0</td>\n      <td>0.0</td>\n      <td>0.0</td>\n      <td>2.594185</td>\n    </tr>\n    <tr>\n      <th>52</th>\n      <td>2021-07-08</td>\n      <td>M18 Filling</td>\n      <td>0.537044</td>\n      <td>0.222455</td>\n      <td>0.155197</td>\n      <td>0.232872</td>\n      <td>0.0</td>\n      <td>0.0</td>\n      <td>0.0</td>\n      <td>0.0</td>\n      <td>0.0</td>\n      <td>2.979137</td>\n    </tr>\n  </tbody>\n</table>\n</div>"
     },
     "metadata": {},
     "execution_count": 422
    }
   ],
   "source": [
    "all_sectors[all_sectors.Review_Date == '2021-07-08'].sort_values('sector_1')"
   ]
  },
  {
   "cell_type": "code",
   "execution_count": 423,
   "metadata": {},
   "outputs": [],
   "source": [
    "all_sectors['lap_time'] = all_sectors['lap_time'] + 88"
   ]
  },
  {
   "cell_type": "code",
   "execution_count": 424,
   "metadata": {},
   "outputs": [
    {
     "output_type": "execute_result",
     "data": {
      "text/plain": [
       "   Review_Date                    Line  sector_1  sector_2  sector_3  \\\n",
       "0   2021-04-15         AL5 Packaging 1  0.000000  0.048858  0.429527   \n",
       "1   2021-04-15                     AL6 -0.028024  0.051409  0.367537   \n",
       "2   2021-04-15       C2 Packaging Line -0.133204  0.074417  0.429527   \n",
       "3   2021-04-15       C9 Packaging Line  0.269447  0.088730  0.225816   \n",
       "4   2021-04-15                  GAMMA1  0.028993  0.063529  0.305332   \n",
       "5   2021-04-15               IMA C80/2  0.017397  0.101067  0.244322   \n",
       "6   2021-04-15      L18 Packaging Line -0.033218  0.068311  0.236805   \n",
       "7   2021-04-15      L25 Packaging Line  0.004575  0.065387  0.208968   \n",
       "8   2021-04-15             M18 Filling -0.019499  0.196253  0.177578   \n",
       "9   2021-04-15             M21 Filling  0.000000  0.048858  0.429527   \n",
       "10  2021-04-15             M22 Filling  0.102752  0.127354  0.179558   \n",
       "11  2021-04-15    SUPPO Packaging Line -0.165573  0.079321  0.129011   \n",
       "12  2021-04-15    TR200 Packaging Line -0.031682  0.077583  0.145368   \n",
       "13  2021-05-13         AL5 Packaging 1  0.036082  0.070657  0.258384   \n",
       "14  2021-05-13                     AL6 -0.067651  0.029582  0.473374   \n",
       "15  2021-05-13       C2 Packaging Line  0.041014  0.061396  0.506260   \n",
       "16  2021-05-13       C9 Packaging Line -0.273983  0.089067  0.404103   \n",
       "17  2021-05-13                  GAMMA1 -0.118075  0.050567  0.170827   \n",
       "18  2021-05-13               IMA C80/2 -0.075507  0.067530  0.186486   \n",
       "19  2021-05-13      L18 Packaging Line -0.079874  0.048475  0.187874   \n",
       "20  2021-05-13      L25 Packaging Line -0.009029  0.101369  0.136500   \n",
       "21  2021-05-13  LINE 01 - UHLMANN 1880  0.427854  0.048858  0.000000   \n",
       "22  2021-05-13             M18 Filling -0.099675  0.147190  0.273768   \n",
       "23  2021-05-13             M21 Filling -0.169501  0.233006  0.206001   \n",
       "24  2021-05-13             M22 Filling -0.158091  0.116919  0.248273   \n",
       "25  2021-05-13          MEDISEAL PURAN -0.143622  0.099636  0.388047   \n",
       "26  2021-05-13    SUPPO Packaging Line -0.021865  0.106334  0.220100   \n",
       "27  2021-05-13    TR200 Packaging Line -0.040662  0.070807  0.178909   \n",
       "28  2021-06-10         AL5 Packaging 1  0.443611  0.100349  0.336332   \n",
       "29  2021-06-10                     AL6 -0.047777  0.061297  0.319880   \n",
       "30  2021-06-10       C2 Packaging Line  0.061649  0.049296  0.474293   \n",
       "31  2021-06-10       C9 Packaging Line  0.020486  0.081697  0.453118   \n",
       "32  2021-06-10                  GAMMA1  0.024185  0.046376  0.187513   \n",
       "33  2021-06-10               IMA C80/2  0.004564  0.049454  0.207634   \n",
       "34  2021-06-10      L18 Packaging Line -0.025058  0.038337  0.155160   \n",
       "35  2021-06-10      L25 Packaging Line -0.000041  0.043675  0.169105   \n",
       "36  2021-06-10  LINE 01 - UHLMANN 1880 -0.314807  0.176388  0.283586   \n",
       "37  2021-06-10             M18 Filling  0.025652  0.272939  0.101270   \n",
       "38  2021-06-10             M21 Filling  0.083331  0.185402  0.120504   \n",
       "39  2021-06-10             M22 Filling -0.125993  0.193902  0.150347   \n",
       "40  2021-06-10          MEDISEAL PURAN  0.044972  0.114912  0.264145   \n",
       "41  2021-06-10    SUPPO Packaging Line  0.161111  0.222715  0.168281   \n",
       "42  2021-06-10    TR200 Packaging Line -0.213645  0.051635  0.201228   \n",
       "43  2021-07-08         AL5 Packaging 1 -0.469051  0.191344  0.241631   \n",
       "44  2021-07-08                     AL6  0.167779  0.058148  0.294394   \n",
       "45  2021-07-08       C2 Packaging Line  0.238106  0.060824  0.461483   \n",
       "46  2021-07-08       C9 Packaging Line  0.105945  0.060942  0.380177   \n",
       "47  2021-07-08                  GAMMA1 -0.008305  0.074553  0.194326   \n",
       "48  2021-07-08               IMA C80/2  0.028888  0.044093  0.178317   \n",
       "49  2021-07-08      L18 Packaging Line  0.106991  0.044049  0.114387   \n",
       "50  2021-07-08      L25 Packaging Line -0.025216  0.021244  0.198590   \n",
       "51  2021-07-08  LINE 01 - UHLMANN 1880  0.030771  0.105944  0.210129   \n",
       "52  2021-07-08             M18 Filling  0.537044  0.222455  0.155197   \n",
       "53  2021-07-08             M21 Filling  0.054741  0.156167  0.137801   \n",
       "54  2021-07-08             M22 Filling  0.043290  0.112922  0.127066   \n",
       "55  2021-07-08          MEDISEAL PURAN  0.158613  0.089794  0.276825   \n",
       "56  2021-07-08    SUPPO Packaging Line -0.172830  0.072115  0.244240   \n",
       "57  2021-07-08    TR200 Packaging Line  0.207982  0.118991  0.310571   \n",
       "\n",
       "    sector_4  sector_5  sector_6  sector_7  sector_8  sector_9   lap_time  \n",
       "0   0.146101       0.0       0.0       0.0       0.0       0.0  89.248972  \n",
       "1   0.164026       0.0       0.0       0.0       0.0       0.0  89.137919  \n",
       "2   0.039035       0.0       0.0       0.0       0.0       0.0  88.952755  \n",
       "3   0.061403       0.0       0.0       0.0       0.0       0.0  89.021344  \n",
       "4   0.193460       0.0       0.0       0.0       0.0       0.0  89.153635  \n",
       "5   0.101075       0.0       0.0       0.0       0.0       0.0  88.910325  \n",
       "6   0.135179       0.0       0.0       0.0       0.0       0.0  88.847371  \n",
       "7   0.148281       0.0       0.0       0.0       0.0       0.0  88.849848  \n",
       "8   0.616187       0.0       0.0       0.0       0.0       0.0  89.960538  \n",
       "9   0.146101       0.0       0.0       0.0       0.0       0.0  89.248972  \n",
       "10  0.118740       0.0       0.0       0.0       0.0       0.0  88.954055  \n",
       "11  0.167180       0.0       0.0       0.0       0.0       0.0  88.585451  \n",
       "12  0.148131       0.0       0.0       0.0       0.0       0.0  88.710480  \n",
       "13  0.093378       0.0       0.0       0.0       0.0       0.0  89.725754  \n",
       "14  0.094717       0.0       0.0       0.0       0.0       0.0  90.323044  \n",
       "15  0.035059       0.0       0.0       0.0       0.0       0.0  90.451874  \n",
       "16  0.012286       0.0       0.0       0.0       0.0       0.0  89.747841  \n",
       "17  0.239566      -6.4      -5.9       0.0       0.0      -8.1  69.325767  \n",
       "18  0.178991      -6.4      -5.9       0.0       0.0      -8.1  69.256522  \n",
       "19  0.140295       0.0      -8.5       0.0       0.0      -6.7  74.226704  \n",
       "20  0.291599       0.0      -8.5       0.0       0.0      -6.7  74.908842  \n",
       "21  0.000000       0.0       0.0       0.0       0.0       0.0  88.525570  \n",
       "22  0.253005      -8.0       0.0       0.0       0.0       0.0  82.596174  \n",
       "23  0.538986      -8.0       0.0       0.0       0.0       0.0  83.742471  \n",
       "24  0.125917      -8.0       0.0       0.0       0.0       0.0  81.806345  \n",
       "25  0.094209       0.0       0.0       0.0       0.0       0.0  89.020162  \n",
       "26  0.080236       0.0       0.0       0.0       0.0       0.0  89.604811  \n",
       "27  0.158241       0.0       0.0       0.0       0.0       0.0  89.591164  \n",
       "28  0.076167       0.0       0.0       0.0       0.0       0.0  90.495004  \n",
       "29  0.082167       0.0      -5.6       0.0       0.0       0.0  84.205598  \n",
       "30  0.026283       0.0       0.0       0.0       0.0       0.0  90.261138  \n",
       "31  0.050435       0.0       0.0       0.0       0.0       0.0  90.361488  \n",
       "32  0.241754      -7.6       0.0      -6.3       0.0      -7.8  68.226756  \n",
       "33  0.174945       0.0      -6.7       0.0       0.0      -7.8  75.232693  \n",
       "34  0.164767       0.0       0.0       0.0       0.0       0.0  89.407996  \n",
       "35  0.290225       0.0       0.0       0.0       0.0       0.0  90.011979  \n",
       "36  0.027939       0.0       0.0       0.0       0.0       0.0  89.636847  \n",
       "37  0.280936       0.0       0.0       0.0       0.0      -5.2  85.446232  \n",
       "38  0.165057       0.0       0.0       0.0       0.0      -5.2  84.767181  \n",
       "39  0.201668       0.0       0.0       0.0       0.0      -5.2  84.857670  \n",
       "40  0.069265       0.0       0.0       0.0       0.0       0.0  89.838256  \n",
       "41  0.044916       0.0       0.0       0.0       0.0       0.0  89.904755  \n",
       "42  0.146033       0.0       0.0       0.0       0.0       0.0  89.381941  \n",
       "43  0.074274       0.0       0.0       0.0       0.0       0.0  89.559946  \n",
       "44  0.067954       0.0       0.0       0.0       0.0       0.0  89.849765  \n",
       "45  0.066713       0.0       0.0       0.0       0.0       0.0  90.594185  \n",
       "46  0.065095       0.0       0.0       0.0       0.0       0.0  90.130804  \n",
       "47  0.227996       0.0       0.0       0.0       0.0       0.0  89.979194  \n",
       "48  0.190577       0.0       0.0       0.0       0.0       0.0  89.680834  \n",
       "49  0.171696       0.0       0.0       0.0       0.0       0.0  89.427519  \n",
       "50  0.252119       0.0       0.0       0.0       0.0       0.0  89.862601  \n",
       "51  0.063105       0.0       0.0       0.0       0.0       0.0  89.547483  \n",
       "52  0.232872       0.0       0.0       0.0       0.0       0.0  90.979137  \n",
       "53  0.132553       0.0       0.0       0.0       0.0       0.0  89.760825  \n",
       "54  0.129812       0.0       0.0       0.0       0.0       0.0  89.522488  \n",
       "55  0.086612       0.0       0.0       0.0       0.0       0.0  89.971539  \n",
       "56  0.056478       0.0       0.0       0.0       0.0       0.0  89.318502  \n",
       "57  0.135853       0.0       0.0       0.0       0.0       0.0  90.469644  "
      ],
      "text/html": "<div>\n<style scoped>\n    .dataframe tbody tr th:only-of-type {\n        vertical-align: middle;\n    }\n\n    .dataframe tbody tr th {\n        vertical-align: top;\n    }\n\n    .dataframe thead th {\n        text-align: right;\n    }\n</style>\n<table border=\"1\" class=\"dataframe\">\n  <thead>\n    <tr style=\"text-align: right;\">\n      <th></th>\n      <th>Review_Date</th>\n      <th>Line</th>\n      <th>sector_1</th>\n      <th>sector_2</th>\n      <th>sector_3</th>\n      <th>sector_4</th>\n      <th>sector_5</th>\n      <th>sector_6</th>\n      <th>sector_7</th>\n      <th>sector_8</th>\n      <th>sector_9</th>\n      <th>lap_time</th>\n    </tr>\n  </thead>\n  <tbody>\n    <tr>\n      <th>0</th>\n      <td>2021-04-15</td>\n      <td>AL5 Packaging 1</td>\n      <td>0.000000</td>\n      <td>0.048858</td>\n      <td>0.429527</td>\n      <td>0.146101</td>\n      <td>0.0</td>\n      <td>0.0</td>\n      <td>0.0</td>\n      <td>0.0</td>\n      <td>0.0</td>\n      <td>89.248972</td>\n    </tr>\n    <tr>\n      <th>1</th>\n      <td>2021-04-15</td>\n      <td>AL6</td>\n      <td>-0.028024</td>\n      <td>0.051409</td>\n      <td>0.367537</td>\n      <td>0.164026</td>\n      <td>0.0</td>\n      <td>0.0</td>\n      <td>0.0</td>\n      <td>0.0</td>\n      <td>0.0</td>\n      <td>89.137919</td>\n    </tr>\n    <tr>\n      <th>2</th>\n      <td>2021-04-15</td>\n      <td>C2 Packaging Line</td>\n      <td>-0.133204</td>\n      <td>0.074417</td>\n      <td>0.429527</td>\n      <td>0.039035</td>\n      <td>0.0</td>\n      <td>0.0</td>\n      <td>0.0</td>\n      <td>0.0</td>\n      <td>0.0</td>\n      <td>88.952755</td>\n    </tr>\n    <tr>\n      <th>3</th>\n      <td>2021-04-15</td>\n      <td>C9 Packaging Line</td>\n      <td>0.269447</td>\n      <td>0.088730</td>\n      <td>0.225816</td>\n      <td>0.061403</td>\n      <td>0.0</td>\n      <td>0.0</td>\n      <td>0.0</td>\n      <td>0.0</td>\n      <td>0.0</td>\n      <td>89.021344</td>\n    </tr>\n    <tr>\n      <th>4</th>\n      <td>2021-04-15</td>\n      <td>GAMMA1</td>\n      <td>0.028993</td>\n      <td>0.063529</td>\n      <td>0.305332</td>\n      <td>0.193460</td>\n      <td>0.0</td>\n      <td>0.0</td>\n      <td>0.0</td>\n      <td>0.0</td>\n      <td>0.0</td>\n      <td>89.153635</td>\n    </tr>\n    <tr>\n      <th>5</th>\n      <td>2021-04-15</td>\n      <td>IMA C80/2</td>\n      <td>0.017397</td>\n      <td>0.101067</td>\n      <td>0.244322</td>\n      <td>0.101075</td>\n      <td>0.0</td>\n      <td>0.0</td>\n      <td>0.0</td>\n      <td>0.0</td>\n      <td>0.0</td>\n      <td>88.910325</td>\n    </tr>\n    <tr>\n      <th>6</th>\n      <td>2021-04-15</td>\n      <td>L18 Packaging Line</td>\n      <td>-0.033218</td>\n      <td>0.068311</td>\n      <td>0.236805</td>\n      <td>0.135179</td>\n      <td>0.0</td>\n      <td>0.0</td>\n      <td>0.0</td>\n      <td>0.0</td>\n      <td>0.0</td>\n      <td>88.847371</td>\n    </tr>\n    <tr>\n      <th>7</th>\n      <td>2021-04-15</td>\n      <td>L25 Packaging Line</td>\n      <td>0.004575</td>\n      <td>0.065387</td>\n      <td>0.208968</td>\n      <td>0.148281</td>\n      <td>0.0</td>\n      <td>0.0</td>\n      <td>0.0</td>\n      <td>0.0</td>\n      <td>0.0</td>\n      <td>88.849848</td>\n    </tr>\n    <tr>\n      <th>8</th>\n      <td>2021-04-15</td>\n      <td>M18 Filling</td>\n      <td>-0.019499</td>\n      <td>0.196253</td>\n      <td>0.177578</td>\n      <td>0.616187</td>\n      <td>0.0</td>\n      <td>0.0</td>\n      <td>0.0</td>\n      <td>0.0</td>\n      <td>0.0</td>\n      <td>89.960538</td>\n    </tr>\n    <tr>\n      <th>9</th>\n      <td>2021-04-15</td>\n      <td>M21 Filling</td>\n      <td>0.000000</td>\n      <td>0.048858</td>\n      <td>0.429527</td>\n      <td>0.146101</td>\n      <td>0.0</td>\n      <td>0.0</td>\n      <td>0.0</td>\n      <td>0.0</td>\n      <td>0.0</td>\n      <td>89.248972</td>\n    </tr>\n    <tr>\n      <th>10</th>\n      <td>2021-04-15</td>\n      <td>M22 Filling</td>\n      <td>0.102752</td>\n      <td>0.127354</td>\n      <td>0.179558</td>\n      <td>0.118740</td>\n      <td>0.0</td>\n      <td>0.0</td>\n      <td>0.0</td>\n      <td>0.0</td>\n      <td>0.0</td>\n      <td>88.954055</td>\n    </tr>\n    <tr>\n      <th>11</th>\n      <td>2021-04-15</td>\n      <td>SUPPO Packaging Line</td>\n      <td>-0.165573</td>\n      <td>0.079321</td>\n      <td>0.129011</td>\n      <td>0.167180</td>\n      <td>0.0</td>\n      <td>0.0</td>\n      <td>0.0</td>\n      <td>0.0</td>\n      <td>0.0</td>\n      <td>88.585451</td>\n    </tr>\n    <tr>\n      <th>12</th>\n      <td>2021-04-15</td>\n      <td>TR200 Packaging Line</td>\n      <td>-0.031682</td>\n      <td>0.077583</td>\n      <td>0.145368</td>\n      <td>0.148131</td>\n      <td>0.0</td>\n      <td>0.0</td>\n      <td>0.0</td>\n      <td>0.0</td>\n      <td>0.0</td>\n      <td>88.710480</td>\n    </tr>\n    <tr>\n      <th>13</th>\n      <td>2021-05-13</td>\n      <td>AL5 Packaging 1</td>\n      <td>0.036082</td>\n      <td>0.070657</td>\n      <td>0.258384</td>\n      <td>0.093378</td>\n      <td>0.0</td>\n      <td>0.0</td>\n      <td>0.0</td>\n      <td>0.0</td>\n      <td>0.0</td>\n      <td>89.725754</td>\n    </tr>\n    <tr>\n      <th>14</th>\n      <td>2021-05-13</td>\n      <td>AL6</td>\n      <td>-0.067651</td>\n      <td>0.029582</td>\n      <td>0.473374</td>\n      <td>0.094717</td>\n      <td>0.0</td>\n      <td>0.0</td>\n      <td>0.0</td>\n      <td>0.0</td>\n      <td>0.0</td>\n      <td>90.323044</td>\n    </tr>\n    <tr>\n      <th>15</th>\n      <td>2021-05-13</td>\n      <td>C2 Packaging Line</td>\n      <td>0.041014</td>\n      <td>0.061396</td>\n      <td>0.506260</td>\n      <td>0.035059</td>\n      <td>0.0</td>\n      <td>0.0</td>\n      <td>0.0</td>\n      <td>0.0</td>\n      <td>0.0</td>\n      <td>90.451874</td>\n    </tr>\n    <tr>\n      <th>16</th>\n      <td>2021-05-13</td>\n      <td>C9 Packaging Line</td>\n      <td>-0.273983</td>\n      <td>0.089067</td>\n      <td>0.404103</td>\n      <td>0.012286</td>\n      <td>0.0</td>\n      <td>0.0</td>\n      <td>0.0</td>\n      <td>0.0</td>\n      <td>0.0</td>\n      <td>89.747841</td>\n    </tr>\n    <tr>\n      <th>17</th>\n      <td>2021-05-13</td>\n      <td>GAMMA1</td>\n      <td>-0.118075</td>\n      <td>0.050567</td>\n      <td>0.170827</td>\n      <td>0.239566</td>\n      <td>-6.4</td>\n      <td>-5.9</td>\n      <td>0.0</td>\n      <td>0.0</td>\n      <td>-8.1</td>\n      <td>69.325767</td>\n    </tr>\n    <tr>\n      <th>18</th>\n      <td>2021-05-13</td>\n      <td>IMA C80/2</td>\n      <td>-0.075507</td>\n      <td>0.067530</td>\n      <td>0.186486</td>\n      <td>0.178991</td>\n      <td>-6.4</td>\n      <td>-5.9</td>\n      <td>0.0</td>\n      <td>0.0</td>\n      <td>-8.1</td>\n      <td>69.256522</td>\n    </tr>\n    <tr>\n      <th>19</th>\n      <td>2021-05-13</td>\n      <td>L18 Packaging Line</td>\n      <td>-0.079874</td>\n      <td>0.048475</td>\n      <td>0.187874</td>\n      <td>0.140295</td>\n      <td>0.0</td>\n      <td>-8.5</td>\n      <td>0.0</td>\n      <td>0.0</td>\n      <td>-6.7</td>\n      <td>74.226704</td>\n    </tr>\n    <tr>\n      <th>20</th>\n      <td>2021-05-13</td>\n      <td>L25 Packaging Line</td>\n      <td>-0.009029</td>\n      <td>0.101369</td>\n      <td>0.136500</td>\n      <td>0.291599</td>\n      <td>0.0</td>\n      <td>-8.5</td>\n      <td>0.0</td>\n      <td>0.0</td>\n      <td>-6.7</td>\n      <td>74.908842</td>\n    </tr>\n    <tr>\n      <th>21</th>\n      <td>2021-05-13</td>\n      <td>LINE 01 - UHLMANN 1880</td>\n      <td>0.427854</td>\n      <td>0.048858</td>\n      <td>0.000000</td>\n      <td>0.000000</td>\n      <td>0.0</td>\n      <td>0.0</td>\n      <td>0.0</td>\n      <td>0.0</td>\n      <td>0.0</td>\n      <td>88.525570</td>\n    </tr>\n    <tr>\n      <th>22</th>\n      <td>2021-05-13</td>\n      <td>M18 Filling</td>\n      <td>-0.099675</td>\n      <td>0.147190</td>\n      <td>0.273768</td>\n      <td>0.253005</td>\n      <td>-8.0</td>\n      <td>0.0</td>\n      <td>0.0</td>\n      <td>0.0</td>\n      <td>0.0</td>\n      <td>82.596174</td>\n    </tr>\n    <tr>\n      <th>23</th>\n      <td>2021-05-13</td>\n      <td>M21 Filling</td>\n      <td>-0.169501</td>\n      <td>0.233006</td>\n      <td>0.206001</td>\n      <td>0.538986</td>\n      <td>-8.0</td>\n      <td>0.0</td>\n      <td>0.0</td>\n      <td>0.0</td>\n      <td>0.0</td>\n      <td>83.742471</td>\n    </tr>\n    <tr>\n      <th>24</th>\n      <td>2021-05-13</td>\n      <td>M22 Filling</td>\n      <td>-0.158091</td>\n      <td>0.116919</td>\n      <td>0.248273</td>\n      <td>0.125917</td>\n      <td>-8.0</td>\n      <td>0.0</td>\n      <td>0.0</td>\n      <td>0.0</td>\n      <td>0.0</td>\n      <td>81.806345</td>\n    </tr>\n    <tr>\n      <th>25</th>\n      <td>2021-05-13</td>\n      <td>MEDISEAL PURAN</td>\n      <td>-0.143622</td>\n      <td>0.099636</td>\n      <td>0.388047</td>\n      <td>0.094209</td>\n      <td>0.0</td>\n      <td>0.0</td>\n      <td>0.0</td>\n      <td>0.0</td>\n      <td>0.0</td>\n      <td>89.020162</td>\n    </tr>\n    <tr>\n      <th>26</th>\n      <td>2021-05-13</td>\n      <td>SUPPO Packaging Line</td>\n      <td>-0.021865</td>\n      <td>0.106334</td>\n      <td>0.220100</td>\n      <td>0.080236</td>\n      <td>0.0</td>\n      <td>0.0</td>\n      <td>0.0</td>\n      <td>0.0</td>\n      <td>0.0</td>\n      <td>89.604811</td>\n    </tr>\n    <tr>\n      <th>27</th>\n      <td>2021-05-13</td>\n      <td>TR200 Packaging Line</td>\n      <td>-0.040662</td>\n      <td>0.070807</td>\n      <td>0.178909</td>\n      <td>0.158241</td>\n      <td>0.0</td>\n      <td>0.0</td>\n      <td>0.0</td>\n      <td>0.0</td>\n      <td>0.0</td>\n      <td>89.591164</td>\n    </tr>\n    <tr>\n      <th>28</th>\n      <td>2021-06-10</td>\n      <td>AL5 Packaging 1</td>\n      <td>0.443611</td>\n      <td>0.100349</td>\n      <td>0.336332</td>\n      <td>0.076167</td>\n      <td>0.0</td>\n      <td>0.0</td>\n      <td>0.0</td>\n      <td>0.0</td>\n      <td>0.0</td>\n      <td>90.495004</td>\n    </tr>\n    <tr>\n      <th>29</th>\n      <td>2021-06-10</td>\n      <td>AL6</td>\n      <td>-0.047777</td>\n      <td>0.061297</td>\n      <td>0.319880</td>\n      <td>0.082167</td>\n      <td>0.0</td>\n      <td>-5.6</td>\n      <td>0.0</td>\n      <td>0.0</td>\n      <td>0.0</td>\n      <td>84.205598</td>\n    </tr>\n    <tr>\n      <th>30</th>\n      <td>2021-06-10</td>\n      <td>C2 Packaging Line</td>\n      <td>0.061649</td>\n      <td>0.049296</td>\n      <td>0.474293</td>\n      <td>0.026283</td>\n      <td>0.0</td>\n      <td>0.0</td>\n      <td>0.0</td>\n      <td>0.0</td>\n      <td>0.0</td>\n      <td>90.261138</td>\n    </tr>\n    <tr>\n      <th>31</th>\n      <td>2021-06-10</td>\n      <td>C9 Packaging Line</td>\n      <td>0.020486</td>\n      <td>0.081697</td>\n      <td>0.453118</td>\n      <td>0.050435</td>\n      <td>0.0</td>\n      <td>0.0</td>\n      <td>0.0</td>\n      <td>0.0</td>\n      <td>0.0</td>\n      <td>90.361488</td>\n    </tr>\n    <tr>\n      <th>32</th>\n      <td>2021-06-10</td>\n      <td>GAMMA1</td>\n      <td>0.024185</td>\n      <td>0.046376</td>\n      <td>0.187513</td>\n      <td>0.241754</td>\n      <td>-7.6</td>\n      <td>0.0</td>\n      <td>-6.3</td>\n      <td>0.0</td>\n      <td>-7.8</td>\n      <td>68.226756</td>\n    </tr>\n    <tr>\n      <th>33</th>\n      <td>2021-06-10</td>\n      <td>IMA C80/2</td>\n      <td>0.004564</td>\n      <td>0.049454</td>\n      <td>0.207634</td>\n      <td>0.174945</td>\n      <td>0.0</td>\n      <td>-6.7</td>\n      <td>0.0</td>\n      <td>0.0</td>\n      <td>-7.8</td>\n      <td>75.232693</td>\n    </tr>\n    <tr>\n      <th>34</th>\n      <td>2021-06-10</td>\n      <td>L18 Packaging Line</td>\n      <td>-0.025058</td>\n      <td>0.038337</td>\n      <td>0.155160</td>\n      <td>0.164767</td>\n      <td>0.0</td>\n      <td>0.0</td>\n      <td>0.0</td>\n      <td>0.0</td>\n      <td>0.0</td>\n      <td>89.407996</td>\n    </tr>\n    <tr>\n      <th>35</th>\n      <td>2021-06-10</td>\n      <td>L25 Packaging Line</td>\n      <td>-0.000041</td>\n      <td>0.043675</td>\n      <td>0.169105</td>\n      <td>0.290225</td>\n      <td>0.0</td>\n      <td>0.0</td>\n      <td>0.0</td>\n      <td>0.0</td>\n      <td>0.0</td>\n      <td>90.011979</td>\n    </tr>\n    <tr>\n      <th>36</th>\n      <td>2021-06-10</td>\n      <td>LINE 01 - UHLMANN 1880</td>\n      <td>-0.314807</td>\n      <td>0.176388</td>\n      <td>0.283586</td>\n      <td>0.027939</td>\n      <td>0.0</td>\n      <td>0.0</td>\n      <td>0.0</td>\n      <td>0.0</td>\n      <td>0.0</td>\n      <td>89.636847</td>\n    </tr>\n    <tr>\n      <th>37</th>\n      <td>2021-06-10</td>\n      <td>M18 Filling</td>\n      <td>0.025652</td>\n      <td>0.272939</td>\n      <td>0.101270</td>\n      <td>0.280936</td>\n      <td>0.0</td>\n      <td>0.0</td>\n      <td>0.0</td>\n      <td>0.0</td>\n      <td>-5.2</td>\n      <td>85.446232</td>\n    </tr>\n    <tr>\n      <th>38</th>\n      <td>2021-06-10</td>\n      <td>M21 Filling</td>\n      <td>0.083331</td>\n      <td>0.185402</td>\n      <td>0.120504</td>\n      <td>0.165057</td>\n      <td>0.0</td>\n      <td>0.0</td>\n      <td>0.0</td>\n      <td>0.0</td>\n      <td>-5.2</td>\n      <td>84.767181</td>\n    </tr>\n    <tr>\n      <th>39</th>\n      <td>2021-06-10</td>\n      <td>M22 Filling</td>\n      <td>-0.125993</td>\n      <td>0.193902</td>\n      <td>0.150347</td>\n      <td>0.201668</td>\n      <td>0.0</td>\n      <td>0.0</td>\n      <td>0.0</td>\n      <td>0.0</td>\n      <td>-5.2</td>\n      <td>84.857670</td>\n    </tr>\n    <tr>\n      <th>40</th>\n      <td>2021-06-10</td>\n      <td>MEDISEAL PURAN</td>\n      <td>0.044972</td>\n      <td>0.114912</td>\n      <td>0.264145</td>\n      <td>0.069265</td>\n      <td>0.0</td>\n      <td>0.0</td>\n      <td>0.0</td>\n      <td>0.0</td>\n      <td>0.0</td>\n      <td>89.838256</td>\n    </tr>\n    <tr>\n      <th>41</th>\n      <td>2021-06-10</td>\n      <td>SUPPO Packaging Line</td>\n      <td>0.161111</td>\n      <td>0.222715</td>\n      <td>0.168281</td>\n      <td>0.044916</td>\n      <td>0.0</td>\n      <td>0.0</td>\n      <td>0.0</td>\n      <td>0.0</td>\n      <td>0.0</td>\n      <td>89.904755</td>\n    </tr>\n    <tr>\n      <th>42</th>\n      <td>2021-06-10</td>\n      <td>TR200 Packaging Line</td>\n      <td>-0.213645</td>\n      <td>0.051635</td>\n      <td>0.201228</td>\n      <td>0.146033</td>\n      <td>0.0</td>\n      <td>0.0</td>\n      <td>0.0</td>\n      <td>0.0</td>\n      <td>0.0</td>\n      <td>89.381941</td>\n    </tr>\n    <tr>\n      <th>43</th>\n      <td>2021-07-08</td>\n      <td>AL5 Packaging 1</td>\n      <td>-0.469051</td>\n      <td>0.191344</td>\n      <td>0.241631</td>\n      <td>0.074274</td>\n      <td>0.0</td>\n      <td>0.0</td>\n      <td>0.0</td>\n      <td>0.0</td>\n      <td>0.0</td>\n      <td>89.559946</td>\n    </tr>\n    <tr>\n      <th>44</th>\n      <td>2021-07-08</td>\n      <td>AL6</td>\n      <td>0.167779</td>\n      <td>0.058148</td>\n      <td>0.294394</td>\n      <td>0.067954</td>\n      <td>0.0</td>\n      <td>0.0</td>\n      <td>0.0</td>\n      <td>0.0</td>\n      <td>0.0</td>\n      <td>89.849765</td>\n    </tr>\n    <tr>\n      <th>45</th>\n      <td>2021-07-08</td>\n      <td>C2 Packaging Line</td>\n      <td>0.238106</td>\n      <td>0.060824</td>\n      <td>0.461483</td>\n      <td>0.066713</td>\n      <td>0.0</td>\n      <td>0.0</td>\n      <td>0.0</td>\n      <td>0.0</td>\n      <td>0.0</td>\n      <td>90.594185</td>\n    </tr>\n    <tr>\n      <th>46</th>\n      <td>2021-07-08</td>\n      <td>C9 Packaging Line</td>\n      <td>0.105945</td>\n      <td>0.060942</td>\n      <td>0.380177</td>\n      <td>0.065095</td>\n      <td>0.0</td>\n      <td>0.0</td>\n      <td>0.0</td>\n      <td>0.0</td>\n      <td>0.0</td>\n      <td>90.130804</td>\n    </tr>\n    <tr>\n      <th>47</th>\n      <td>2021-07-08</td>\n      <td>GAMMA1</td>\n      <td>-0.008305</td>\n      <td>0.074553</td>\n      <td>0.194326</td>\n      <td>0.227996</td>\n      <td>0.0</td>\n      <td>0.0</td>\n      <td>0.0</td>\n      <td>0.0</td>\n      <td>0.0</td>\n      <td>89.979194</td>\n    </tr>\n    <tr>\n      <th>48</th>\n      <td>2021-07-08</td>\n      <td>IMA C80/2</td>\n      <td>0.028888</td>\n      <td>0.044093</td>\n      <td>0.178317</td>\n      <td>0.190577</td>\n      <td>0.0</td>\n      <td>0.0</td>\n      <td>0.0</td>\n      <td>0.0</td>\n      <td>0.0</td>\n      <td>89.680834</td>\n    </tr>\n    <tr>\n      <th>49</th>\n      <td>2021-07-08</td>\n      <td>L18 Packaging Line</td>\n      <td>0.106991</td>\n      <td>0.044049</td>\n      <td>0.114387</td>\n      <td>0.171696</td>\n      <td>0.0</td>\n      <td>0.0</td>\n      <td>0.0</td>\n      <td>0.0</td>\n      <td>0.0</td>\n      <td>89.427519</td>\n    </tr>\n    <tr>\n      <th>50</th>\n      <td>2021-07-08</td>\n      <td>L25 Packaging Line</td>\n      <td>-0.025216</td>\n      <td>0.021244</td>\n      <td>0.198590</td>\n      <td>0.252119</td>\n      <td>0.0</td>\n      <td>0.0</td>\n      <td>0.0</td>\n      <td>0.0</td>\n      <td>0.0</td>\n      <td>89.862601</td>\n    </tr>\n    <tr>\n      <th>51</th>\n      <td>2021-07-08</td>\n      <td>LINE 01 - UHLMANN 1880</td>\n      <td>0.030771</td>\n      <td>0.105944</td>\n      <td>0.210129</td>\n      <td>0.063105</td>\n      <td>0.0</td>\n      <td>0.0</td>\n      <td>0.0</td>\n      <td>0.0</td>\n      <td>0.0</td>\n      <td>89.547483</td>\n    </tr>\n    <tr>\n      <th>52</th>\n      <td>2021-07-08</td>\n      <td>M18 Filling</td>\n      <td>0.537044</td>\n      <td>0.222455</td>\n      <td>0.155197</td>\n      <td>0.232872</td>\n      <td>0.0</td>\n      <td>0.0</td>\n      <td>0.0</td>\n      <td>0.0</td>\n      <td>0.0</td>\n      <td>90.979137</td>\n    </tr>\n    <tr>\n      <th>53</th>\n      <td>2021-07-08</td>\n      <td>M21 Filling</td>\n      <td>0.054741</td>\n      <td>0.156167</td>\n      <td>0.137801</td>\n      <td>0.132553</td>\n      <td>0.0</td>\n      <td>0.0</td>\n      <td>0.0</td>\n      <td>0.0</td>\n      <td>0.0</td>\n      <td>89.760825</td>\n    </tr>\n    <tr>\n      <th>54</th>\n      <td>2021-07-08</td>\n      <td>M22 Filling</td>\n      <td>0.043290</td>\n      <td>0.112922</td>\n      <td>0.127066</td>\n      <td>0.129812</td>\n      <td>0.0</td>\n      <td>0.0</td>\n      <td>0.0</td>\n      <td>0.0</td>\n      <td>0.0</td>\n      <td>89.522488</td>\n    </tr>\n    <tr>\n      <th>55</th>\n      <td>2021-07-08</td>\n      <td>MEDISEAL PURAN</td>\n      <td>0.158613</td>\n      <td>0.089794</td>\n      <td>0.276825</td>\n      <td>0.086612</td>\n      <td>0.0</td>\n      <td>0.0</td>\n      <td>0.0</td>\n      <td>0.0</td>\n      <td>0.0</td>\n      <td>89.971539</td>\n    </tr>\n    <tr>\n      <th>56</th>\n      <td>2021-07-08</td>\n      <td>SUPPO Packaging Line</td>\n      <td>-0.172830</td>\n      <td>0.072115</td>\n      <td>0.244240</td>\n      <td>0.056478</td>\n      <td>0.0</td>\n      <td>0.0</td>\n      <td>0.0</td>\n      <td>0.0</td>\n      <td>0.0</td>\n      <td>89.318502</td>\n    </tr>\n    <tr>\n      <th>57</th>\n      <td>2021-07-08</td>\n      <td>TR200 Packaging Line</td>\n      <td>0.207982</td>\n      <td>0.118991</td>\n      <td>0.310571</td>\n      <td>0.135853</td>\n      <td>0.0</td>\n      <td>0.0</td>\n      <td>0.0</td>\n      <td>0.0</td>\n      <td>0.0</td>\n      <td>90.469644</td>\n    </tr>\n  </tbody>\n</table>\n</div>"
     },
     "metadata": {},
     "execution_count": 424
    }
   ],
   "source": [
    "all_sectors"
   ]
  },
  {
   "cell_type": "code",
   "execution_count": 425,
   "metadata": {},
   "outputs": [
    {
     "output_type": "execute_result",
     "data": {
      "text/plain": [
       "            Line     OEE %  rolling_std  Unplanned_tech_loss  \\\n",
       "9    M18 Filling  0.046124          NaN             0.114818   \n",
       "18   M18 Filling  0.463021     0.294791             0.240339   \n",
       "32   M18 Filling  0.386723     0.221973             0.069673   \n",
       "47   M18 Filling  0.352420     0.183226             0.485988   \n",
       "63   M18 Filling  0.530336     0.079604             0.311511   \n",
       "78   M18 Filling  0.562696     0.103957             0.227898   \n",
       "92   M18 Filling  0.698908     0.142578             0.108069   \n",
       "98   M18 Filling  0.000000     0.307459             0.000000   \n",
       "116  M18 Filling  0.191951     0.323388             0.080336   \n",
       "130  M18 Filling  0.537044     0.318333             0.216673   \n",
       "156  M18 Filling  0.638877     0.297577             0.222576   \n",
       "169  M18 Filling  0.661879     0.217207             0.200207   \n",
       "173  M18 Filling  0.620440     0.054387             0.198006   \n",
       "201  M18 Filling  0.000000     0.320648             0.000000   \n",
       "\n",
       "     Changeover_rolling_mean Review_Date       Date  \n",
       "9                   0.789781  2021-04-15 2021-04-04  \n",
       "18                  0.442593  2021-04-15 2021-04-11  \n",
       "32                  0.425201  2021-05-13 2021-04-18  \n",
       "47                  0.327211  2021-05-13 2021-04-25  \n",
       "63                  0.137063  2021-05-13 2021-05-02  \n",
       "78                  0.122545  2021-05-13 2021-05-09  \n",
       "92                  0.024941  2021-06-10 2021-05-16  \n",
       "98                  0.266630  2021-06-10 2021-05-23  \n",
       "116                 0.415980  2021-06-10 2021-05-30  \n",
       "130                 0.416194  2021-06-10 2021-06-06  \n",
       "156                 0.426343  2021-07-08 2021-06-13  \n",
       "169                 0.185797  2021-07-08 2021-06-20  \n",
       "173                 0.039446  2021-07-08 2021-06-27  \n",
       "201                 0.279900  2021-07-08 2021-07-04  "
      ],
      "text/html": "<div>\n<style scoped>\n    .dataframe tbody tr th:only-of-type {\n        vertical-align: middle;\n    }\n\n    .dataframe tbody tr th {\n        vertical-align: top;\n    }\n\n    .dataframe thead th {\n        text-align: right;\n    }\n</style>\n<table border=\"1\" class=\"dataframe\">\n  <thead>\n    <tr style=\"text-align: right;\">\n      <th></th>\n      <th>Line</th>\n      <th>OEE %</th>\n      <th>rolling_std</th>\n      <th>Unplanned_tech_loss</th>\n      <th>Changeover_rolling_mean</th>\n      <th>Review_Date</th>\n      <th>Date</th>\n    </tr>\n  </thead>\n  <tbody>\n    <tr>\n      <th>9</th>\n      <td>M18 Filling</td>\n      <td>0.046124</td>\n      <td>NaN</td>\n      <td>0.114818</td>\n      <td>0.789781</td>\n      <td>2021-04-15</td>\n      <td>2021-04-04</td>\n    </tr>\n    <tr>\n      <th>18</th>\n      <td>M18 Filling</td>\n      <td>0.463021</td>\n      <td>0.294791</td>\n      <td>0.240339</td>\n      <td>0.442593</td>\n      <td>2021-04-15</td>\n      <td>2021-04-11</td>\n    </tr>\n    <tr>\n      <th>32</th>\n      <td>M18 Filling</td>\n      <td>0.386723</td>\n      <td>0.221973</td>\n      <td>0.069673</td>\n      <td>0.425201</td>\n      <td>2021-05-13</td>\n      <td>2021-04-18</td>\n    </tr>\n    <tr>\n      <th>47</th>\n      <td>M18 Filling</td>\n      <td>0.352420</td>\n      <td>0.183226</td>\n      <td>0.485988</td>\n      <td>0.327211</td>\n      <td>2021-05-13</td>\n      <td>2021-04-25</td>\n    </tr>\n    <tr>\n      <th>63</th>\n      <td>M18 Filling</td>\n      <td>0.530336</td>\n      <td>0.079604</td>\n      <td>0.311511</td>\n      <td>0.137063</td>\n      <td>2021-05-13</td>\n      <td>2021-05-02</td>\n    </tr>\n    <tr>\n      <th>78</th>\n      <td>M18 Filling</td>\n      <td>0.562696</td>\n      <td>0.103957</td>\n      <td>0.227898</td>\n      <td>0.122545</td>\n      <td>2021-05-13</td>\n      <td>2021-05-09</td>\n    </tr>\n    <tr>\n      <th>92</th>\n      <td>M18 Filling</td>\n      <td>0.698908</td>\n      <td>0.142578</td>\n      <td>0.108069</td>\n      <td>0.024941</td>\n      <td>2021-06-10</td>\n      <td>2021-05-16</td>\n    </tr>\n    <tr>\n      <th>98</th>\n      <td>M18 Filling</td>\n      <td>0.000000</td>\n      <td>0.307459</td>\n      <td>0.000000</td>\n      <td>0.266630</td>\n      <td>2021-06-10</td>\n      <td>2021-05-23</td>\n    </tr>\n    <tr>\n      <th>116</th>\n      <td>M18 Filling</td>\n      <td>0.191951</td>\n      <td>0.323388</td>\n      <td>0.080336</td>\n      <td>0.415980</td>\n      <td>2021-06-10</td>\n      <td>2021-05-30</td>\n    </tr>\n    <tr>\n      <th>130</th>\n      <td>M18 Filling</td>\n      <td>0.537044</td>\n      <td>0.318333</td>\n      <td>0.216673</td>\n      <td>0.416194</td>\n      <td>2021-06-10</td>\n      <td>2021-06-06</td>\n    </tr>\n    <tr>\n      <th>156</th>\n      <td>M18 Filling</td>\n      <td>0.638877</td>\n      <td>0.297577</td>\n      <td>0.222576</td>\n      <td>0.426343</td>\n      <td>2021-07-08</td>\n      <td>2021-06-13</td>\n    </tr>\n    <tr>\n      <th>169</th>\n      <td>M18 Filling</td>\n      <td>0.661879</td>\n      <td>0.217207</td>\n      <td>0.200207</td>\n      <td>0.185797</td>\n      <td>2021-07-08</td>\n      <td>2021-06-20</td>\n    </tr>\n    <tr>\n      <th>173</th>\n      <td>M18 Filling</td>\n      <td>0.620440</td>\n      <td>0.054387</td>\n      <td>0.198006</td>\n      <td>0.039446</td>\n      <td>2021-07-08</td>\n      <td>2021-06-27</td>\n    </tr>\n    <tr>\n      <th>201</th>\n      <td>M18 Filling</td>\n      <td>0.000000</td>\n      <td>0.320648</td>\n      <td>0.000000</td>\n      <td>0.279900</td>\n      <td>2021-07-08</td>\n      <td>2021-07-04</td>\n    </tr>\n  </tbody>\n</table>\n</div>"
     },
     "metadata": {},
     "execution_count": 425
    }
   ],
   "source": [
    "df_weekly[['Line','OEE %','rolling_std','Unplanned_tech_loss','Changeover_rolling_mean','Review_Date','Date']][df_weekly.Line.str.contains('M18')]"
   ]
  },
  {
   "cell_type": "code",
   "execution_count": 426,
   "metadata": {},
   "outputs": [
    {
     "output_type": "execute_result",
     "data": {
      "text/plain": [
       "                      Line Review_Date  Changeover_rolling_mean\n",
       "0          AL5 Packaging 1  2021-04-15                 0.000000\n",
       "1          AL5 Packaging 1  2021-05-13                 0.373511\n",
       "2          AL5 Packaging 1  2021-06-10                 0.304670\n",
       "3          AL5 Packaging 1  2021-07-08                 0.297097\n",
       "4                      AL6  2021-04-15                 0.328052\n",
       "5                      AL6  2021-05-13                 0.378869\n",
       "6                      AL6  2021-06-10                 0.328668\n",
       "7                      AL6  2021-07-08                 0.271816\n",
       "8        C2 Packaging Line  2021-04-15                 0.078069\n",
       "9        C2 Packaging Line  2021-05-13                 0.140236\n",
       "10       C2 Packaging Line  2021-06-10                 0.105133\n",
       "11       C2 Packaging Line  2021-07-08                 0.266853\n",
       "12       C9 Packaging Line  2021-04-15                 0.122806\n",
       "13       C9 Packaging Line  2021-05-13                 0.049142\n",
       "14       C9 Packaging Line  2021-06-10                 0.201740\n",
       "15       C9 Packaging Line  2021-07-08                 0.260380\n",
       "16                  GAMMA1  2021-04-15                 0.386920\n",
       "17                  GAMMA1  2021-05-13                 0.958265\n",
       "18                  GAMMA1  2021-06-10                 0.967016\n",
       "19                  GAMMA1  2021-07-08                 0.911984\n",
       "20               IMA C80/2  2021-04-15                 0.202151\n",
       "21               IMA C80/2  2021-05-13                 0.715965\n",
       "22               IMA C80/2  2021-06-10                 0.699778\n",
       "23               IMA C80/2  2021-07-08                 0.762307\n",
       "24      L18 Packaging Line  2021-04-15                 0.270359\n",
       "25      L18 Packaging Line  2021-05-13                 0.561181\n",
       "26      L18 Packaging Line  2021-06-10                 0.659069\n",
       "27      L18 Packaging Line  2021-07-08                 0.686784\n",
       "28      L25 Packaging Line  2021-04-15                 0.296562\n",
       "29      L25 Packaging Line  2021-05-13                 1.166395\n",
       "30      L25 Packaging Line  2021-06-10                 1.160898\n",
       "31      L25 Packaging Line  2021-07-08                 1.008477\n",
       "32  LINE 01 - UHLMANN 1880  2021-05-13                 0.000000\n",
       "33  LINE 01 - UHLMANN 1880  2021-06-10                 0.111758\n",
       "34  LINE 01 - UHLMANN 1880  2021-07-08                 0.252420\n",
       "35             M18 Filling  2021-04-15                 1.232374\n",
       "36             M18 Filling  2021-05-13                 1.012019\n",
       "37             M18 Filling  2021-06-10                 1.123745\n",
       "38             M18 Filling  2021-07-08                 0.931486\n",
       "39             M21 Filling  2021-04-15                 0.000000\n",
       "40             M21 Filling  2021-05-13                 2.009843\n",
       "41             M21 Filling  2021-06-10                 0.660227\n",
       "42             M21 Filling  2021-07-08                 0.530211\n",
       "43             M22 Filling  2021-04-15                 0.237481\n",
       "44             M22 Filling  2021-05-13                 0.503669\n",
       "45             M22 Filling  2021-06-10                 0.806670\n",
       "46             M22 Filling  2021-07-08                 0.519246\n",
       "47          MEDISEAL PURAN  2021-05-13                 0.042317\n",
       "48          MEDISEAL PURAN  2021-06-10                 0.277058\n",
       "49          MEDISEAL PURAN  2021-07-08                 0.346449\n",
       "50    SUPPO Packaging Line  2021-04-15                 0.334360\n",
       "51    SUPPO Packaging Line  2021-05-13                 0.320942\n",
       "52    SUPPO Packaging Line  2021-06-10                 0.179662\n",
       "53    SUPPO Packaging Line  2021-07-08                 0.225913\n",
       "54    TR200 Packaging Line  2021-04-15                 0.296261\n",
       "55    TR200 Packaging Line  2021-05-13                 0.632965\n",
       "56    TR200 Packaging Line  2021-06-10                 0.584134\n",
       "57    TR200 Packaging Line  2021-07-08                 0.543412"
      ],
      "text/html": "<div>\n<style scoped>\n    .dataframe tbody tr th:only-of-type {\n        vertical-align: middle;\n    }\n\n    .dataframe tbody tr th {\n        vertical-align: top;\n    }\n\n    .dataframe thead th {\n        text-align: right;\n    }\n</style>\n<table border=\"1\" class=\"dataframe\">\n  <thead>\n    <tr style=\"text-align: right;\">\n      <th></th>\n      <th>Line</th>\n      <th>Review_Date</th>\n      <th>Changeover_rolling_mean</th>\n    </tr>\n  </thead>\n  <tbody>\n    <tr>\n      <th>0</th>\n      <td>AL5 Packaging 1</td>\n      <td>2021-04-15</td>\n      <td>0.000000</td>\n    </tr>\n    <tr>\n      <th>1</th>\n      <td>AL5 Packaging 1</td>\n      <td>2021-05-13</td>\n      <td>0.373511</td>\n    </tr>\n    <tr>\n      <th>2</th>\n      <td>AL5 Packaging 1</td>\n      <td>2021-06-10</td>\n      <td>0.304670</td>\n    </tr>\n    <tr>\n      <th>3</th>\n      <td>AL5 Packaging 1</td>\n      <td>2021-07-08</td>\n      <td>0.297097</td>\n    </tr>\n    <tr>\n      <th>4</th>\n      <td>AL6</td>\n      <td>2021-04-15</td>\n      <td>0.328052</td>\n    </tr>\n    <tr>\n      <th>5</th>\n      <td>AL6</td>\n      <td>2021-05-13</td>\n      <td>0.378869</td>\n    </tr>\n    <tr>\n      <th>6</th>\n      <td>AL6</td>\n      <td>2021-06-10</td>\n      <td>0.328668</td>\n    </tr>\n    <tr>\n      <th>7</th>\n      <td>AL6</td>\n      <td>2021-07-08</td>\n      <td>0.271816</td>\n    </tr>\n    <tr>\n      <th>8</th>\n      <td>C2 Packaging Line</td>\n      <td>2021-04-15</td>\n      <td>0.078069</td>\n    </tr>\n    <tr>\n      <th>9</th>\n      <td>C2 Packaging Line</td>\n      <td>2021-05-13</td>\n      <td>0.140236</td>\n    </tr>\n    <tr>\n      <th>10</th>\n      <td>C2 Packaging Line</td>\n      <td>2021-06-10</td>\n      <td>0.105133</td>\n    </tr>\n    <tr>\n      <th>11</th>\n      <td>C2 Packaging Line</td>\n      <td>2021-07-08</td>\n      <td>0.266853</td>\n    </tr>\n    <tr>\n      <th>12</th>\n      <td>C9 Packaging Line</td>\n      <td>2021-04-15</td>\n      <td>0.122806</td>\n    </tr>\n    <tr>\n      <th>13</th>\n      <td>C9 Packaging Line</td>\n      <td>2021-05-13</td>\n      <td>0.049142</td>\n    </tr>\n    <tr>\n      <th>14</th>\n      <td>C9 Packaging Line</td>\n      <td>2021-06-10</td>\n      <td>0.201740</td>\n    </tr>\n    <tr>\n      <th>15</th>\n      <td>C9 Packaging Line</td>\n      <td>2021-07-08</td>\n      <td>0.260380</td>\n    </tr>\n    <tr>\n      <th>16</th>\n      <td>GAMMA1</td>\n      <td>2021-04-15</td>\n      <td>0.386920</td>\n    </tr>\n    <tr>\n      <th>17</th>\n      <td>GAMMA1</td>\n      <td>2021-05-13</td>\n      <td>0.958265</td>\n    </tr>\n    <tr>\n      <th>18</th>\n      <td>GAMMA1</td>\n      <td>2021-06-10</td>\n      <td>0.967016</td>\n    </tr>\n    <tr>\n      <th>19</th>\n      <td>GAMMA1</td>\n      <td>2021-07-08</td>\n      <td>0.911984</td>\n    </tr>\n    <tr>\n      <th>20</th>\n      <td>IMA C80/2</td>\n      <td>2021-04-15</td>\n      <td>0.202151</td>\n    </tr>\n    <tr>\n      <th>21</th>\n      <td>IMA C80/2</td>\n      <td>2021-05-13</td>\n      <td>0.715965</td>\n    </tr>\n    <tr>\n      <th>22</th>\n      <td>IMA C80/2</td>\n      <td>2021-06-10</td>\n      <td>0.699778</td>\n    </tr>\n    <tr>\n      <th>23</th>\n      <td>IMA C80/2</td>\n      <td>2021-07-08</td>\n      <td>0.762307</td>\n    </tr>\n    <tr>\n      <th>24</th>\n      <td>L18 Packaging Line</td>\n      <td>2021-04-15</td>\n      <td>0.270359</td>\n    </tr>\n    <tr>\n      <th>25</th>\n      <td>L18 Packaging Line</td>\n      <td>2021-05-13</td>\n      <td>0.561181</td>\n    </tr>\n    <tr>\n      <th>26</th>\n      <td>L18 Packaging Line</td>\n      <td>2021-06-10</td>\n      <td>0.659069</td>\n    </tr>\n    <tr>\n      <th>27</th>\n      <td>L18 Packaging Line</td>\n      <td>2021-07-08</td>\n      <td>0.686784</td>\n    </tr>\n    <tr>\n      <th>28</th>\n      <td>L25 Packaging Line</td>\n      <td>2021-04-15</td>\n      <td>0.296562</td>\n    </tr>\n    <tr>\n      <th>29</th>\n      <td>L25 Packaging Line</td>\n      <td>2021-05-13</td>\n      <td>1.166395</td>\n    </tr>\n    <tr>\n      <th>30</th>\n      <td>L25 Packaging Line</td>\n      <td>2021-06-10</td>\n      <td>1.160898</td>\n    </tr>\n    <tr>\n      <th>31</th>\n      <td>L25 Packaging Line</td>\n      <td>2021-07-08</td>\n      <td>1.008477</td>\n    </tr>\n    <tr>\n      <th>32</th>\n      <td>LINE 01 - UHLMANN 1880</td>\n      <td>2021-05-13</td>\n      <td>0.000000</td>\n    </tr>\n    <tr>\n      <th>33</th>\n      <td>LINE 01 - UHLMANN 1880</td>\n      <td>2021-06-10</td>\n      <td>0.111758</td>\n    </tr>\n    <tr>\n      <th>34</th>\n      <td>LINE 01 - UHLMANN 1880</td>\n      <td>2021-07-08</td>\n      <td>0.252420</td>\n    </tr>\n    <tr>\n      <th>35</th>\n      <td>M18 Filling</td>\n      <td>2021-04-15</td>\n      <td>1.232374</td>\n    </tr>\n    <tr>\n      <th>36</th>\n      <td>M18 Filling</td>\n      <td>2021-05-13</td>\n      <td>1.012019</td>\n    </tr>\n    <tr>\n      <th>37</th>\n      <td>M18 Filling</td>\n      <td>2021-06-10</td>\n      <td>1.123745</td>\n    </tr>\n    <tr>\n      <th>38</th>\n      <td>M18 Filling</td>\n      <td>2021-07-08</td>\n      <td>0.931486</td>\n    </tr>\n    <tr>\n      <th>39</th>\n      <td>M21 Filling</td>\n      <td>2021-04-15</td>\n      <td>0.000000</td>\n    </tr>\n    <tr>\n      <th>40</th>\n      <td>M21 Filling</td>\n      <td>2021-05-13</td>\n      <td>2.009843</td>\n    </tr>\n    <tr>\n      <th>41</th>\n      <td>M21 Filling</td>\n      <td>2021-06-10</td>\n      <td>0.660227</td>\n    </tr>\n    <tr>\n      <th>42</th>\n      <td>M21 Filling</td>\n      <td>2021-07-08</td>\n      <td>0.530211</td>\n    </tr>\n    <tr>\n      <th>43</th>\n      <td>M22 Filling</td>\n      <td>2021-04-15</td>\n      <td>0.237481</td>\n    </tr>\n    <tr>\n      <th>44</th>\n      <td>M22 Filling</td>\n      <td>2021-05-13</td>\n      <td>0.503669</td>\n    </tr>\n    <tr>\n      <th>45</th>\n      <td>M22 Filling</td>\n      <td>2021-06-10</td>\n      <td>0.806670</td>\n    </tr>\n    <tr>\n      <th>46</th>\n      <td>M22 Filling</td>\n      <td>2021-07-08</td>\n      <td>0.519246</td>\n    </tr>\n    <tr>\n      <th>47</th>\n      <td>MEDISEAL PURAN</td>\n      <td>2021-05-13</td>\n      <td>0.042317</td>\n    </tr>\n    <tr>\n      <th>48</th>\n      <td>MEDISEAL PURAN</td>\n      <td>2021-06-10</td>\n      <td>0.277058</td>\n    </tr>\n    <tr>\n      <th>49</th>\n      <td>MEDISEAL PURAN</td>\n      <td>2021-07-08</td>\n      <td>0.346449</td>\n    </tr>\n    <tr>\n      <th>50</th>\n      <td>SUPPO Packaging Line</td>\n      <td>2021-04-15</td>\n      <td>0.334360</td>\n    </tr>\n    <tr>\n      <th>51</th>\n      <td>SUPPO Packaging Line</td>\n      <td>2021-05-13</td>\n      <td>0.320942</td>\n    </tr>\n    <tr>\n      <th>52</th>\n      <td>SUPPO Packaging Line</td>\n      <td>2021-06-10</td>\n      <td>0.179662</td>\n    </tr>\n    <tr>\n      <th>53</th>\n      <td>SUPPO Packaging Line</td>\n      <td>2021-07-08</td>\n      <td>0.225913</td>\n    </tr>\n    <tr>\n      <th>54</th>\n      <td>TR200 Packaging Line</td>\n      <td>2021-04-15</td>\n      <td>0.296261</td>\n    </tr>\n    <tr>\n      <th>55</th>\n      <td>TR200 Packaging Line</td>\n      <td>2021-05-13</td>\n      <td>0.632965</td>\n    </tr>\n    <tr>\n      <th>56</th>\n      <td>TR200 Packaging Line</td>\n      <td>2021-06-10</td>\n      <td>0.584134</td>\n    </tr>\n    <tr>\n      <th>57</th>\n      <td>TR200 Packaging Line</td>\n      <td>2021-07-08</td>\n      <td>0.543412</td>\n    </tr>\n  </tbody>\n</table>\n</div>"
     },
     "metadata": {},
     "execution_count": 426
    }
   ],
   "source": [
    "df_weekly[['Line','Review_Date','Changeover_rolling_mean']].groupby(['Line','Review_Date']).sum().reset_index()"
   ]
  },
  {
   "cell_type": "code",
   "execution_count": 427,
   "metadata": {},
   "outputs": [
    {
     "output_type": "execute_result",
     "data": {
      "text/plain": [
       "Review_Date             2021-04-15  2021-05-13  2021-06-10  2021-07-08\n",
       "Line                                                                  \n",
       "AL5 Packaging 1          89.248972   89.725754   90.495004   89.559946\n",
       "AL6                      89.137919   90.323044   84.205598   89.849765\n",
       "C2 Packaging Line        88.952755   90.451874   90.261138   90.594185\n",
       "C9 Packaging Line        89.021344   89.747841   90.361488   90.130804\n",
       "GAMMA1                   89.153635   69.325767   68.226756   89.979194\n",
       "IMA C80/2                88.910325   69.256522   75.232693   89.680834\n",
       "L18 Packaging Line       88.847371   74.226704   89.407996   89.427519\n",
       "L25 Packaging Line       88.849848   74.908842   90.011979   89.862601\n",
       "LINE 01 - UHLMANN 1880         NaN   88.525570   89.636847   89.547483\n",
       "M18 Filling              89.960538   82.596174   85.446232   90.979137\n",
       "M21 Filling              89.248972   83.742471   84.767181   89.760825\n",
       "M22 Filling              88.954055   81.806345   84.857670   89.522488\n",
       "MEDISEAL PURAN                 NaN   89.020162   89.838256   89.971539\n",
       "SUPPO Packaging Line     88.585451   89.604811   89.904755   89.318502\n",
       "TR200 Packaging Line     88.710480   89.591164   89.381941   90.469644"
      ],
      "text/html": "<div>\n<style scoped>\n    .dataframe tbody tr th:only-of-type {\n        vertical-align: middle;\n    }\n\n    .dataframe tbody tr th {\n        vertical-align: top;\n    }\n\n    .dataframe thead th {\n        text-align: right;\n    }\n</style>\n<table border=\"1\" class=\"dataframe\">\n  <thead>\n    <tr style=\"text-align: right;\">\n      <th>Review_Date</th>\n      <th>2021-04-15</th>\n      <th>2021-05-13</th>\n      <th>2021-06-10</th>\n      <th>2021-07-08</th>\n    </tr>\n    <tr>\n      <th>Line</th>\n      <th></th>\n      <th></th>\n      <th></th>\n      <th></th>\n    </tr>\n  </thead>\n  <tbody>\n    <tr>\n      <th>AL5 Packaging 1</th>\n      <td>89.248972</td>\n      <td>89.725754</td>\n      <td>90.495004</td>\n      <td>89.559946</td>\n    </tr>\n    <tr>\n      <th>AL6</th>\n      <td>89.137919</td>\n      <td>90.323044</td>\n      <td>84.205598</td>\n      <td>89.849765</td>\n    </tr>\n    <tr>\n      <th>C2 Packaging Line</th>\n      <td>88.952755</td>\n      <td>90.451874</td>\n      <td>90.261138</td>\n      <td>90.594185</td>\n    </tr>\n    <tr>\n      <th>C9 Packaging Line</th>\n      <td>89.021344</td>\n      <td>89.747841</td>\n      <td>90.361488</td>\n      <td>90.130804</td>\n    </tr>\n    <tr>\n      <th>GAMMA1</th>\n      <td>89.153635</td>\n      <td>69.325767</td>\n      <td>68.226756</td>\n      <td>89.979194</td>\n    </tr>\n    <tr>\n      <th>IMA C80/2</th>\n      <td>88.910325</td>\n      <td>69.256522</td>\n      <td>75.232693</td>\n      <td>89.680834</td>\n    </tr>\n    <tr>\n      <th>L18 Packaging Line</th>\n      <td>88.847371</td>\n      <td>74.226704</td>\n      <td>89.407996</td>\n      <td>89.427519</td>\n    </tr>\n    <tr>\n      <th>L25 Packaging Line</th>\n      <td>88.849848</td>\n      <td>74.908842</td>\n      <td>90.011979</td>\n      <td>89.862601</td>\n    </tr>\n    <tr>\n      <th>LINE 01 - UHLMANN 1880</th>\n      <td>NaN</td>\n      <td>88.525570</td>\n      <td>89.636847</td>\n      <td>89.547483</td>\n    </tr>\n    <tr>\n      <th>M18 Filling</th>\n      <td>89.960538</td>\n      <td>82.596174</td>\n      <td>85.446232</td>\n      <td>90.979137</td>\n    </tr>\n    <tr>\n      <th>M21 Filling</th>\n      <td>89.248972</td>\n      <td>83.742471</td>\n      <td>84.767181</td>\n      <td>89.760825</td>\n    </tr>\n    <tr>\n      <th>M22 Filling</th>\n      <td>88.954055</td>\n      <td>81.806345</td>\n      <td>84.857670</td>\n      <td>89.522488</td>\n    </tr>\n    <tr>\n      <th>MEDISEAL PURAN</th>\n      <td>NaN</td>\n      <td>89.020162</td>\n      <td>89.838256</td>\n      <td>89.971539</td>\n    </tr>\n    <tr>\n      <th>SUPPO Packaging Line</th>\n      <td>88.585451</td>\n      <td>89.604811</td>\n      <td>89.904755</td>\n      <td>89.318502</td>\n    </tr>\n    <tr>\n      <th>TR200 Packaging Line</th>\n      <td>88.710480</td>\n      <td>89.591164</td>\n      <td>89.381941</td>\n      <td>90.469644</td>\n    </tr>\n  </tbody>\n</table>\n</div>"
     },
     "metadata": {},
     "execution_count": 427
    }
   ],
   "source": [
    "all_sectors.pivot(index='Line', columns='Review_Date', values='lap_time')"
   ]
  },
  {
   "source": [
    "adding a weekly race_time just for the gapminder presentation"
   ],
   "cell_type": "markdown",
   "metadata": {}
  },
  {
   "cell_type": "code",
   "execution_count": 428,
   "metadata": {},
   "outputs": [
    {
     "output_type": "execute_result",
     "data": {
      "text/plain": [
       "         Week                  Line     OEE %  WeekOfYear    Year       Date  \\\n",
       "0    W13-2021     C2 Packaging Line  0.458414        13.0  2021.0 2021-04-04   \n",
       "1    W13-2021    L18 Packaging Line  0.465923        13.0  2021.0 2021-04-04   \n",
       "2    W13-2021             IMA C80/2  0.581304        13.0  2021.0 2021-04-04   \n",
       "3    W13-2021                   AL6  0.367897        13.0  2021.0 2021-04-04   \n",
       "4    W13-2021  TR200 Packaging Line  0.596432        13.0  2021.0 2021-04-04   \n",
       "..        ...                   ...       ...         ...     ...        ...   \n",
       "197  W26-2021                GAMMA1  0.491885        26.0  2021.0 2021-07-04   \n",
       "198  W26-2021     C9 Packaging Line  0.406623        26.0  2021.0 2021-07-04   \n",
       "199  W26-2021    L18 Packaging Line  0.408843        26.0  2021.0 2021-07-04   \n",
       "200  W26-2021    L25 Packaging Line  0.381273        26.0  2021.0 2021-07-04   \n",
       "201  W26-2021           M18 Filling  0.000000        26.0  2021.0 2021-07-04   \n",
       "\n",
       "              Plant  OEE  Start point  OEE% Target (2022)  \\\n",
       "0    Maisons-Alfort          0.397503               0.470   \n",
       "1             Tours          0.377683               0.547   \n",
       "2          SCOPPITO          0.451031               0.580   \n",
       "3         Frankfurt          0.332657               0.450   \n",
       "4           Lisieux          0.483505               0.650   \n",
       "..              ...               ...                 ...   \n",
       "197        SCOPPITO          0.418683               0.570   \n",
       "198  Maisons-Alfort          0.528518               0.530   \n",
       "199           Tours          0.377683               0.547   \n",
       "200           Tours          0.351564               0.478   \n",
       "201       Frankfurt          0.443522               0.650   \n",
       "\n",
       "     Unplanned_tech_loss  ...  sector_2  sector_3  sector_4  sector_5  \\\n",
       "0               0.465009  ...  0.097716  0.465009  0.044140       0.0   \n",
       "1               0.208273  ...  0.097716  0.208273  0.134271       0.0   \n",
       "2               0.224561  ...  0.097716  0.224561  0.070836       0.0   \n",
       "3               0.342851  ...  0.097716  0.342851  0.184958       0.0   \n",
       "4               0.163573  ...  0.097716  0.163573  0.075189       0.0   \n",
       "..                   ...  ...       ...       ...       ...       ...   \n",
       "197             0.143339  ...  0.055086  0.143339  0.219199      -0.0   \n",
       "198             0.452948  ...  0.081720  0.452948  0.064467      -0.0   \n",
       "199             0.184455  ...  0.054692  0.184455  0.182758      -0.0   \n",
       "200             0.192098  ...  0.019916  0.192098  0.252406      -0.0   \n",
       "201             0.000000  ...  0.320648  0.000000  0.279900      -0.0   \n",
       "\n",
       "     sector_6  sector_7  sector_8 sector_9  lap_time  race_time  \n",
       "0         0.0       0.0       0.0      0.0  0.545954  88.545954  \n",
       "1         0.0       0.0       0.0      0.0  0.352020  88.352020  \n",
       "2         0.0       0.0       0.0      0.0  0.262841  88.262841  \n",
       "3         0.0       0.0       0.0      0.0  0.590284  88.590284  \n",
       "4         0.0       0.0       0.0      0.0  0.223551  88.223551  \n",
       "..        ...       ...       ...      ...       ...        ...  \n",
       "197      -0.0      -0.0      -0.0     -0.0  0.528796  52.685353  \n",
       "198      -0.0      -0.0      -0.0     -0.0  0.681253  95.261477  \n",
       "199      -0.0      -0.0      -0.0     -0.0  0.506118  77.909591  \n",
       "200      -0.0      -0.0      -0.0     -0.0  0.427800  79.633269  \n",
       "201      -0.0      -0.0      -0.0     -0.0  1.220988  84.982081  \n",
       "\n",
       "[202 rows x 32 columns]"
      ],
      "text/html": "<div>\n<style scoped>\n    .dataframe tbody tr th:only-of-type {\n        vertical-align: middle;\n    }\n\n    .dataframe tbody tr th {\n        vertical-align: top;\n    }\n\n    .dataframe thead th {\n        text-align: right;\n    }\n</style>\n<table border=\"1\" class=\"dataframe\">\n  <thead>\n    <tr style=\"text-align: right;\">\n      <th></th>\n      <th>Week</th>\n      <th>Line</th>\n      <th>OEE %</th>\n      <th>WeekOfYear</th>\n      <th>Year</th>\n      <th>Date</th>\n      <th>Plant</th>\n      <th>OEE  Start point</th>\n      <th>OEE% Target (2022)</th>\n      <th>Unplanned_tech_loss</th>\n      <th>...</th>\n      <th>sector_2</th>\n      <th>sector_3</th>\n      <th>sector_4</th>\n      <th>sector_5</th>\n      <th>sector_6</th>\n      <th>sector_7</th>\n      <th>sector_8</th>\n      <th>sector_9</th>\n      <th>lap_time</th>\n      <th>race_time</th>\n    </tr>\n  </thead>\n  <tbody>\n    <tr>\n      <th>0</th>\n      <td>W13-2021</td>\n      <td>C2 Packaging Line</td>\n      <td>0.458414</td>\n      <td>13.0</td>\n      <td>2021.0</td>\n      <td>2021-04-04</td>\n      <td>Maisons-Alfort</td>\n      <td>0.397503</td>\n      <td>0.470</td>\n      <td>0.465009</td>\n      <td>...</td>\n      <td>0.097716</td>\n      <td>0.465009</td>\n      <td>0.044140</td>\n      <td>0.0</td>\n      <td>0.0</td>\n      <td>0.0</td>\n      <td>0.0</td>\n      <td>0.0</td>\n      <td>0.545954</td>\n      <td>88.545954</td>\n    </tr>\n    <tr>\n      <th>1</th>\n      <td>W13-2021</td>\n      <td>L18 Packaging Line</td>\n      <td>0.465923</td>\n      <td>13.0</td>\n      <td>2021.0</td>\n      <td>2021-04-04</td>\n      <td>Tours</td>\n      <td>0.377683</td>\n      <td>0.547</td>\n      <td>0.208273</td>\n      <td>...</td>\n      <td>0.097716</td>\n      <td>0.208273</td>\n      <td>0.134271</td>\n      <td>0.0</td>\n      <td>0.0</td>\n      <td>0.0</td>\n      <td>0.0</td>\n      <td>0.0</td>\n      <td>0.352020</td>\n      <td>88.352020</td>\n    </tr>\n    <tr>\n      <th>2</th>\n      <td>W13-2021</td>\n      <td>IMA C80/2</td>\n      <td>0.581304</td>\n      <td>13.0</td>\n      <td>2021.0</td>\n      <td>2021-04-04</td>\n      <td>SCOPPITO</td>\n      <td>0.451031</td>\n      <td>0.580</td>\n      <td>0.224561</td>\n      <td>...</td>\n      <td>0.097716</td>\n      <td>0.224561</td>\n      <td>0.070836</td>\n      <td>0.0</td>\n      <td>0.0</td>\n      <td>0.0</td>\n      <td>0.0</td>\n      <td>0.0</td>\n      <td>0.262841</td>\n      <td>88.262841</td>\n    </tr>\n    <tr>\n      <th>3</th>\n      <td>W13-2021</td>\n      <td>AL6</td>\n      <td>0.367897</td>\n      <td>13.0</td>\n      <td>2021.0</td>\n      <td>2021-04-04</td>\n      <td>Frankfurt</td>\n      <td>0.332657</td>\n      <td>0.450</td>\n      <td>0.342851</td>\n      <td>...</td>\n      <td>0.097716</td>\n      <td>0.342851</td>\n      <td>0.184958</td>\n      <td>0.0</td>\n      <td>0.0</td>\n      <td>0.0</td>\n      <td>0.0</td>\n      <td>0.0</td>\n      <td>0.590284</td>\n      <td>88.590284</td>\n    </tr>\n    <tr>\n      <th>4</th>\n      <td>W13-2021</td>\n      <td>TR200 Packaging Line</td>\n      <td>0.596432</td>\n      <td>13.0</td>\n      <td>2021.0</td>\n      <td>2021-04-04</td>\n      <td>Lisieux</td>\n      <td>0.483505</td>\n      <td>0.650</td>\n      <td>0.163573</td>\n      <td>...</td>\n      <td>0.097716</td>\n      <td>0.163573</td>\n      <td>0.075189</td>\n      <td>0.0</td>\n      <td>0.0</td>\n      <td>0.0</td>\n      <td>0.0</td>\n      <td>0.0</td>\n      <td>0.223551</td>\n      <td>88.223551</td>\n    </tr>\n    <tr>\n      <th>...</th>\n      <td>...</td>\n      <td>...</td>\n      <td>...</td>\n      <td>...</td>\n      <td>...</td>\n      <td>...</td>\n      <td>...</td>\n      <td>...</td>\n      <td>...</td>\n      <td>...</td>\n      <td>...</td>\n      <td>...</td>\n      <td>...</td>\n      <td>...</td>\n      <td>...</td>\n      <td>...</td>\n      <td>...</td>\n      <td>...</td>\n      <td>...</td>\n      <td>...</td>\n      <td>...</td>\n    </tr>\n    <tr>\n      <th>197</th>\n      <td>W26-2021</td>\n      <td>GAMMA1</td>\n      <td>0.491885</td>\n      <td>26.0</td>\n      <td>2021.0</td>\n      <td>2021-07-04</td>\n      <td>SCOPPITO</td>\n      <td>0.418683</td>\n      <td>0.570</td>\n      <td>0.143339</td>\n      <td>...</td>\n      <td>0.055086</td>\n      <td>0.143339</td>\n      <td>0.219199</td>\n      <td>-0.0</td>\n      <td>-0.0</td>\n      <td>-0.0</td>\n      <td>-0.0</td>\n      <td>-0.0</td>\n      <td>0.528796</td>\n      <td>52.685353</td>\n    </tr>\n    <tr>\n      <th>198</th>\n      <td>W26-2021</td>\n      <td>C9 Packaging Line</td>\n      <td>0.406623</td>\n      <td>26.0</td>\n      <td>2021.0</td>\n      <td>2021-07-04</td>\n      <td>Maisons-Alfort</td>\n      <td>0.528518</td>\n      <td>0.530</td>\n      <td>0.452948</td>\n      <td>...</td>\n      <td>0.081720</td>\n      <td>0.452948</td>\n      <td>0.064467</td>\n      <td>-0.0</td>\n      <td>-0.0</td>\n      <td>-0.0</td>\n      <td>-0.0</td>\n      <td>-0.0</td>\n      <td>0.681253</td>\n      <td>95.261477</td>\n    </tr>\n    <tr>\n      <th>199</th>\n      <td>W26-2021</td>\n      <td>L18 Packaging Line</td>\n      <td>0.408843</td>\n      <td>26.0</td>\n      <td>2021.0</td>\n      <td>2021-07-04</td>\n      <td>Tours</td>\n      <td>0.377683</td>\n      <td>0.547</td>\n      <td>0.184455</td>\n      <td>...</td>\n      <td>0.054692</td>\n      <td>0.184455</td>\n      <td>0.182758</td>\n      <td>-0.0</td>\n      <td>-0.0</td>\n      <td>-0.0</td>\n      <td>-0.0</td>\n      <td>-0.0</td>\n      <td>0.506118</td>\n      <td>77.909591</td>\n    </tr>\n    <tr>\n      <th>200</th>\n      <td>W26-2021</td>\n      <td>L25 Packaging Line</td>\n      <td>0.381273</td>\n      <td>26.0</td>\n      <td>2021.0</td>\n      <td>2021-07-04</td>\n      <td>Tours</td>\n      <td>0.351564</td>\n      <td>0.478</td>\n      <td>0.192098</td>\n      <td>...</td>\n      <td>0.019916</td>\n      <td>0.192098</td>\n      <td>0.252406</td>\n      <td>-0.0</td>\n      <td>-0.0</td>\n      <td>-0.0</td>\n      <td>-0.0</td>\n      <td>-0.0</td>\n      <td>0.427800</td>\n      <td>79.633269</td>\n    </tr>\n    <tr>\n      <th>201</th>\n      <td>W26-2021</td>\n      <td>M18 Filling</td>\n      <td>0.000000</td>\n      <td>26.0</td>\n      <td>2021.0</td>\n      <td>2021-07-04</td>\n      <td>Frankfurt</td>\n      <td>0.443522</td>\n      <td>0.650</td>\n      <td>0.000000</td>\n      <td>...</td>\n      <td>0.320648</td>\n      <td>0.000000</td>\n      <td>0.279900</td>\n      <td>-0.0</td>\n      <td>-0.0</td>\n      <td>-0.0</td>\n      <td>-0.0</td>\n      <td>-0.0</td>\n      <td>1.220988</td>\n      <td>84.982081</td>\n    </tr>\n  </tbody>\n</table>\n<p>202 rows × 32 columns</p>\n</div>"
     },
     "metadata": {},
     "execution_count": 428
    }
   ],
   "source": [
    "weekly_race_time = df_weekly.groupby(['Line','Date'])['lap_time'].sum().groupby('Line').cumsum().reset_index()\n",
    "weekly_race_time.rename(columns={'lap_time' : 'race_time'}, inplace=True)\n",
    "weekly_race_time['race_time'] = weekly_race_time['race_time'] + 88\n",
    "df_weekly = df_weekly.merge(weekly_race_time[['Line','Date','race_time']], on=(['Line','Date']))\n",
    "# df_weekly.drop(columns={'race_time'}, inplace=True)\n",
    "df_weekly"
   ]
  },
  {
   "cell_type": "code",
   "execution_count": 429,
   "metadata": {},
   "outputs": [],
   "source": [
    "all_sectors_pivot.to_excel(dir +'all_sectors_pivot.xlsx')"
   ]
  },
  {
   "cell_type": "code",
   "execution_count": 430,
   "metadata": {},
   "outputs": [],
   "source": [
    "gapminder_weekly = df_weekly[['Line','Date','sector_1','sector_2','sector_3','sector_4','lap_time','race_time']]\n",
    "gapminder_weekly.to_excel(dir +'gapfinder_weekly.xlsx', index=False)"
   ]
  },
  {
   "cell_type": "code",
   "execution_count": 432,
   "metadata": {},
   "outputs": [
    {
     "output_type": "execute_result",
     "data": {
      "text/plain": [
       "                     Line       Date  race_time\n",
       "4    TR200 Packaging Line 2021-04-04  88.223551\n",
       "15   TR200 Packaging Line 2021-04-11  88.710480\n",
       "26   TR200 Packaging Line 2021-04-18  88.977055\n",
       "48   TR200 Packaging Line 2021-04-25  89.573539\n",
       "55   TR200 Packaging Line 2021-05-02  90.001985\n",
       "69   TR200 Packaging Line 2021-05-09  90.301644\n",
       "96   TR200 Packaging Line 2021-05-16  90.694533\n",
       "106  TR200 Packaging Line 2021-05-23  90.993509\n",
       "118  TR200 Packaging Line 2021-05-30  91.521049\n",
       "137  TR200 Packaging Line 2021-06-06  91.683586\n",
       "153  TR200 Packaging Line 2021-06-13  92.387807\n",
       "162  TR200 Packaging Line 2021-06-20  93.023135\n",
       "177  TR200 Packaging Line 2021-06-27  93.320379\n",
       "193  TR200 Packaging Line 2021-07-04  94.153230"
      ],
      "text/html": "<div>\n<style scoped>\n    .dataframe tbody tr th:only-of-type {\n        vertical-align: middle;\n    }\n\n    .dataframe tbody tr th {\n        vertical-align: top;\n    }\n\n    .dataframe thead th {\n        text-align: right;\n    }\n</style>\n<table border=\"1\" class=\"dataframe\">\n  <thead>\n    <tr style=\"text-align: right;\">\n      <th></th>\n      <th>Line</th>\n      <th>Date</th>\n      <th>race_time</th>\n    </tr>\n  </thead>\n  <tbody>\n    <tr>\n      <th>4</th>\n      <td>TR200 Packaging Line</td>\n      <td>2021-04-04</td>\n      <td>88.223551</td>\n    </tr>\n    <tr>\n      <th>15</th>\n      <td>TR200 Packaging Line</td>\n      <td>2021-04-11</td>\n      <td>88.710480</td>\n    </tr>\n    <tr>\n      <th>26</th>\n      <td>TR200 Packaging Line</td>\n      <td>2021-04-18</td>\n      <td>88.977055</td>\n    </tr>\n    <tr>\n      <th>48</th>\n      <td>TR200 Packaging Line</td>\n      <td>2021-04-25</td>\n      <td>89.573539</td>\n    </tr>\n    <tr>\n      <th>55</th>\n      <td>TR200 Packaging Line</td>\n      <td>2021-05-02</td>\n      <td>90.001985</td>\n    </tr>\n    <tr>\n      <th>69</th>\n      <td>TR200 Packaging Line</td>\n      <td>2021-05-09</td>\n      <td>90.301644</td>\n    </tr>\n    <tr>\n      <th>96</th>\n      <td>TR200 Packaging Line</td>\n      <td>2021-05-16</td>\n      <td>90.694533</td>\n    </tr>\n    <tr>\n      <th>106</th>\n      <td>TR200 Packaging Line</td>\n      <td>2021-05-23</td>\n      <td>90.993509</td>\n    </tr>\n    <tr>\n      <th>118</th>\n      <td>TR200 Packaging Line</td>\n      <td>2021-05-30</td>\n      <td>91.521049</td>\n    </tr>\n    <tr>\n      <th>137</th>\n      <td>TR200 Packaging Line</td>\n      <td>2021-06-06</td>\n      <td>91.683586</td>\n    </tr>\n    <tr>\n      <th>153</th>\n      <td>TR200 Packaging Line</td>\n      <td>2021-06-13</td>\n      <td>92.387807</td>\n    </tr>\n    <tr>\n      <th>162</th>\n      <td>TR200 Packaging Line</td>\n      <td>2021-06-20</td>\n      <td>93.023135</td>\n    </tr>\n    <tr>\n      <th>177</th>\n      <td>TR200 Packaging Line</td>\n      <td>2021-06-27</td>\n      <td>93.320379</td>\n    </tr>\n    <tr>\n      <th>193</th>\n      <td>TR200 Packaging Line</td>\n      <td>2021-07-04</td>\n      <td>94.153230</td>\n    </tr>\n  </tbody>\n</table>\n</div>"
     },
     "metadata": {},
     "execution_count": 432
    }
   ],
   "source": [
    "df_weekly[['Line','Date','race_time']][df_weekly.Line.str.contains('TR200')].sort_values(['Line','Date'])"
   ]
  },
  {
   "cell_type": "code",
   "execution_count": null,
   "metadata": {},
   "outputs": [],
   "source": []
  }
 ],
 "metadata": {
  "kernelspec": {
   "display_name": "geo_env",
   "language": "python",
   "name": "geo_env"
  },
  "language_info": {
   "codemirror_mode": {
    "name": "ipython",
    "version": 3
   },
   "file_extension": ".py",
   "mimetype": "text/x-python",
   "name": "python",
   "nbconvert_exporter": "python",
   "pygments_lexer": "ipython3",
   "version": "3.9.4"
  }
 },
 "nbformat": 4,
 "nbformat_minor": 4
}