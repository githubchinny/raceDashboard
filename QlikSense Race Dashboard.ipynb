{
 "cells": [
  {
   "cell_type": "markdown",
   "metadata": {},
   "source": [
    "# Race Dashboard\n",
    "\n"
   ]
  },
  {
   "cell_type": "markdown",
   "metadata": {},
   "source": [
    "This document describes the requirements and design decisions we will adopt for the Race Dashboard for the Sanofi Asset Efficiency challenge.  This document is intended to provide a detailed explanation of what is to be included on the dashboard, required data sources, and assumptions being made in the design.  It will also show the steps for getting the data into the necessary format."
   ]
  },
  {
   "cell_type": "markdown",
   "metadata": {},
   "source": [
    "## Scope/objective\n",
    "\n",
    "The objective is to be able to display the documented metrics and categories as best suited on a Dashboard presentation for Sanofi staff to be able to access.\n"
   ]
  },
  {
   "cell_type": "markdown",
   "metadata": {},
   "source": [
    "## Metrics / categories\n",
    "The metrics have been mapped into sectors to mimic different sectors of a race track.  The metrics are:\n",
    " \n",
    " \n",
    " \n",
    "•     Race = 8 Laps = 8 Months   \n",
    "•     Lap = Monthly Progress   \n",
    "<br>\n",
    "<br>\n",
    "\n",
    "•     **Sector 1 = OEE Improvement   \n",
    "•     Sector 2 = OEE Variability Improvement   \n",
    "•     Sector 3 = Stoppage Reduction   \n",
    "•     Sector 4 = Changeover Improvement**   \n",
    "• _Sector 5 = Most effective OEE application   \n",
    "• Sector 6 = Best Innovation   \n",
    "• Sector 7 = Most consistent OEE improvement progress   \n",
    "• Sector 8 = Collaboration   \n",
    "• Sector 9 = Team Spirit_\n",
    "\n",
    " \n",
    " \n"
   ]
  },
  {
   "cell_type": "markdown",
   "metadata": {},
   "source": [
    "| Change log |\n",
    "|:----------:|    \n",
    "\n",
    "\n",
    "| Date | Initials | Comments |\n",
    "|------|:---------|:---------|\n",
    "| 2021-06-23 | MC | in leaderboard, replace NaN values in laptime calc with the max laptime for that lap\n",
    "| 2021-06-23 | MC | use race review dates for grouping data, rather than calendar months\n",
    "| 2021-06-24 |JB | missing OEE_Diff figures should default to 'OEE %' - OEE start point, not just 'OEE %' value\n",
    "| 2021-06-24 |JB | for sector one, multiply sum of OEE_Diff by -1.  (was doing this in Tableau calcs but too late for lap_time calc).\n",
    "|2021-06-25 | MC | in leaderboard, change prev_race_time calc to include all but last 2 cols, to handle new race cols as they arrive\n",
    "|2021-06-28 | MC | correct dates in nominations spreadsheet, and merge on 1 row with a date within the review period\n",
    "|2021-06-29 | MC | corrected nominations spreadsheet for Lisieux IWK - should be TR200 Packaging\n",
    "|2021-06-30 | MC | populate missing OEE % values before calculating rolling_std using the OEE % column\n",
    "|2021-06-30 | MC | remove start_changeover_calc merge as it's not being used any more, and was dropping rows\n",
    "|2021-07-06 | MC | populate missing OEE % values with OEE from previous week for that site."
   ]
  },
  {
   "cell_type": "code",
   "execution_count": 48,
   "metadata": {},
   "outputs": [],
   "source": [
    "import pandas as pd\n",
    "import numpy as np\n",
    "import datetime\n",
    "\n",
    "\n",
    "# Viz libs\n",
    "import matplotlib.pyplot as plt\n",
    "%matplotlib inline\n",
    "\n",
    "import seaborn as sns\n",
    "\n",
    "# display options\n",
    "# pd.options.display.float_format = \"{:.2f}\".format\n"
   ]
  },
  {
   "cell_type": "markdown",
   "metadata": {},
   "source": [
    "## Read file and cleanse\n",
    "\n",
    "- OEE.xlsx should contain the OEE latest data from QS by week   \n",
    "- QSDashboard.xlsx has a list of plants/sites taking part, with original target OEE  \n",
    "- UnplannedTechLoss.xlxs should contain the latest data from QS (my unplanned chart by line/week)   \n",
    "- changeover.xlsx should contain the changeover information in QlikSense\n",
    "\n",
    "#### Cleaning required:   \n",
    "- OEE % needs converting to numeric, coerce the nulls to nan values\n",
    "- I think W53-2020 data is bobbings - causes dup indexes for date 2021-01-10 and don't need 2020 data anyway...so dropping it"
   ]
  },
  {
   "cell_type": "code",
   "execution_count": 49,
   "metadata": {},
   "outputs": [],
   "source": [
    "# this dir should point at where ever your sanofi Mclaren directory is syncing\n",
    "dir = \"C:/Users/mark_/Sanofi/Sanofi x McLaren sharing - General/Race Dashboard data/\"\n",
    "\n",
    "# this is a local copy of sanofi share for when I don't trust Microsoft syncing!\n",
    "# dir = \"C:/Users/mark_/Documents/McLaren2021/Sanofi/Race Dashboard data/\"\n",
    "\n",
    "# write out the files where ever you like.  As long as same file is used within Tableau.\n",
    "output_dir = \"C:/Users/mark_/Documents/McLaren2021/Sanofi/Race Dashboard data/\"\n",
    "\n",
    "# dir = 'C:/Users/james.blood/Documents/McLarenSanofi/McLarenSanofi/data/'\n",
    "\n",
    "file = (dir + 'OEE.xlsx')\n",
    "df_weekly = pd.read_excel(file)\n",
    "file = (dir + 'QSDashboard.xlsx')\n",
    "df_dash = pd.read_excel(file)\n",
    "file = (dir + 'Unplanned_tech_loss.xlsx')\n",
    "df_techloss = pd.read_excel(file)\n",
    "file = (dir + 'changeover.xlsx')\n",
    "df_changeover = pd.read_excel(file)\n",
    "df_weekly = df_weekly.loc[df_weekly['Week'].str.contains('2021')]\n",
    "df_techloss = df_techloss.loc[df_techloss['Week'].str.contains('2021')]\n",
    "df_weekly['OEE %'] = pd.to_numeric(df_weekly['OEE %'], errors='coerce')\n",
    "df_techloss.rename(columns={'Unplanned losses - %OEE':'Unplanned_tech_loss'}, inplace=True)\n",
    "df_techloss['Unplanned_tech_loss'] = pd.to_numeric(df_techloss['Unplanned_tech_loss'], errors='coerce')\n",
    "df_changeover.rename(columns={'Change over losses - %OEE':'Changeover'}, inplace=True)\n",
    "df_changeover['Changeover'] = pd.to_numeric(df_changeover['Changeover'], errors='coerce')\n",
    "# don't use their progress figure as it's a static val\n",
    "# df_dash.rename(columns={'⇗ OEE% progress':'OEE% progress'}, inplace=True)"
   ]
  },
  {
   "cell_type": "markdown",
   "metadata": {},
   "source": [
    "create a datetime from the week number"
   ]
  },
  {
   "cell_type": "code",
   "execution_count": 50,
   "metadata": {},
   "outputs": [
    {
     "output_type": "execute_result",
     "data": {
      "text/plain": [
       "        Week                Line     OEE %  WeekOfYear  Year       Date\n",
       "11  W01-2021   C2 Packaging Line  0.168970           1  2021 2021-01-10\n",
       "12  W01-2021   C9 Packaging Line       NaN           1  2021 2021-01-10\n",
       "13  W01-2021              GAMMA1  0.406686           1  2021 2021-01-10\n",
       "14  W01-2021           IMA C80/2  0.510044           1  2021 2021-01-10\n",
       "15  W01-2021  L18 Packaging Line  0.173736           1  2021 2021-01-10"
      ],
      "text/html": "<div>\n<style scoped>\n    .dataframe tbody tr th:only-of-type {\n        vertical-align: middle;\n    }\n\n    .dataframe tbody tr th {\n        vertical-align: top;\n    }\n\n    .dataframe thead th {\n        text-align: right;\n    }\n</style>\n<table border=\"1\" class=\"dataframe\">\n  <thead>\n    <tr style=\"text-align: right;\">\n      <th></th>\n      <th>Week</th>\n      <th>Line</th>\n      <th>OEE %</th>\n      <th>WeekOfYear</th>\n      <th>Year</th>\n      <th>Date</th>\n    </tr>\n  </thead>\n  <tbody>\n    <tr>\n      <th>11</th>\n      <td>W01-2021</td>\n      <td>C2 Packaging Line</td>\n      <td>0.168970</td>\n      <td>1</td>\n      <td>2021</td>\n      <td>2021-01-10</td>\n    </tr>\n    <tr>\n      <th>12</th>\n      <td>W01-2021</td>\n      <td>C9 Packaging Line</td>\n      <td>NaN</td>\n      <td>1</td>\n      <td>2021</td>\n      <td>2021-01-10</td>\n    </tr>\n    <tr>\n      <th>13</th>\n      <td>W01-2021</td>\n      <td>GAMMA1</td>\n      <td>0.406686</td>\n      <td>1</td>\n      <td>2021</td>\n      <td>2021-01-10</td>\n    </tr>\n    <tr>\n      <th>14</th>\n      <td>W01-2021</td>\n      <td>IMA C80/2</td>\n      <td>0.510044</td>\n      <td>1</td>\n      <td>2021</td>\n      <td>2021-01-10</td>\n    </tr>\n    <tr>\n      <th>15</th>\n      <td>W01-2021</td>\n      <td>L18 Packaging Line</td>\n      <td>0.173736</td>\n      <td>1</td>\n      <td>2021</td>\n      <td>2021-01-10</td>\n    </tr>\n  </tbody>\n</table>\n</div>"
     },
     "metadata": {},
     "execution_count": 50
    }
   ],
   "source": [
    "df_weekly['WeekOfYear'] = pd.to_numeric(df_weekly['Week'].str[1:3])\n",
    "df_weekly['Year'] = pd.to_numeric(df_weekly['Week'].str[4:])\n",
    "dates = df_weekly.Year*100+df_weekly.WeekOfYear\n",
    "df_weekly['Date'] = pd.to_datetime(dates.astype(str) + '0', format='%Y%W%w')\n",
    "# df_weekly.drop(columns=['Year','WeekOfYear'], inplace=True)\n",
    "df_weekly.head()"
   ]
  },
  {
   "cell_type": "code",
   "execution_count": 51,
   "metadata": {
    "scrolled": true
   },
   "outputs": [],
   "source": [
    "#merge the 2 dataframes to get the start OEE\n",
    "df_weekly = df_weekly.merge(df_dash[['Plant','Line', 'OEE  Start point','OEE% Target (2022)']],on='Line')"
   ]
  },
  {
   "cell_type": "code",
   "execution_count": 52,
   "metadata": {},
   "outputs": [],
   "source": [
    "df_weekly = df_weekly.merge(df_techloss[['Line', 'Week', 'Unplanned_tech_loss']],on=['Line','Week'])"
   ]
  },
  {
   "cell_type": "code",
   "execution_count": 53,
   "metadata": {},
   "outputs": [],
   "source": [
    "df_weekly = df_weekly.merge(df_changeover[['Line','Week','Changeover']])"
   ]
  },
  {
   "cell_type": "markdown",
   "metadata": {},
   "source": [
    "#### Start Changeover\n",
    "\n",
    "*not sure this is needed if we are using changeover_diff, which will naturally reward increases / decreases in changeover??*\n",
    "\n",
    "Start changeover value isn't provided, so going to calc our own start point using the average changeover for each site in 2021 up to April 2021.  This needs to be done before we drop the early 2021 rows.\n",
    "\n",
    "This is then merged into the df_weekly dataframe as a loose join."
   ]
  },
  {
   "cell_type": "code",
   "execution_count": 54,
   "metadata": {},
   "outputs": [],
   "source": [
    "# start_changeover_calc = df_weekly[['Plant','Line','Changeover']][df_weekly['Date'] < '2021-04-30'].groupby(['Plant','Line']).mean().reset_index()\n",
    "# start_changeover_calc.rename(columns={'Changeover':'start_changeover'}, inplace=True)\n",
    "# df_weekly = df_weekly.merge(start_changeover_calc[['Line','start_changeover']])"
   ]
  },
  {
   "cell_type": "markdown",
   "metadata": {},
   "source": [
    "#### Dates for the Asset Challenge\n",
    "\n",
    "Start Date is going to be fixed as 2021-04-01. Remove all the rows from df_weekly before this date\n",
    "\n",
    "Review Date will move and act as a cutoff for each Race meeting"
   ]
  },
  {
   "cell_type": "code",
   "execution_count": 55,
   "metadata": {},
   "outputs": [],
   "source": [
    "start_date = '2021-04-01'\n",
    "df_weekly = df_weekly[df_weekly['Date'] > start_date].sort_values('Date')\n",
    "\n",
    "# this is needed to prevent including additional values in the race time.\n",
    "review_date = '2021-07-08'\n",
    "# df_weekly = df_weekly[df_weekly['Date'] < end_date].sort_values('Date')"
   ]
  },
  {
   "cell_type": "markdown",
   "metadata": {},
   "source": [
    "### PCT_CHANGE\n",
    "Using pct_change python function with periods=4, giving a 4 week (4 previous rows) rolling pct_change figure\n",
    "- I believe we are doing this rolling average calculation within Tableau at the moment, so this isn't being used here\n",
    "\n",
    "- Not sure whether this is required any more - removing for all categories (2021-06-30)"
   ]
  },
  {
   "cell_type": "code",
   "execution_count": 56,
   "metadata": {},
   "outputs": [],
   "source": [
    "# df_weekly.sort_values(['Line','Date'], inplace = True)\n",
    "# df_weekly['OEE_pct_chg'] = (df_weekly.groupby('Line')['OEE %']\n",
    "#                                    .apply(pd.Series.pct_change, periods=4))\n",
    "# df_weekly['techloss_pct_chg'] = (df_weekly.groupby('Line')['Unplanned_tech_loss']\n",
    "#                                    .apply(pd.Series.pct_change, periods=4))\n",
    "# df_weekly['Changeover_pct_chg'] = (df_weekly.groupby('Line')['Changeover']\n",
    "#                                    .apply(pd.Series.pct_change, periods=4))\n",
    "# df_weekly.head()"
   ]
  },
  {
   "cell_type": "markdown",
   "metadata": {},
   "source": [
    "#### Populate missing OEE %\n",
    "2021-06-07 - change of plan! Populating with min OEE value does not work when some Lines record 0% OEE.  Missing values can be just delayed data collection which sorts itself later.  So, until proper data arrives:\n",
    "\n",
    "- Use the previous week's value (ffill) for that Line.  This will still leave NaN if they existed in the first row(s).  \n",
    "- populate the remaining NaN with 'OEE  start point'\n",
    "- ~~Find the weekly min/max OEE % from any site~~   \n",
    "- ~~Merge those columns into df_weekly~~   \n",
    "- ~~fill any NaN with the min OEE we calc'd for that week~~    \n"
   ]
  },
  {
   "cell_type": "code",
   "execution_count": 58,
   "metadata": {},
   "outputs": [
    {
     "output_type": "execute_result",
     "data": {
      "text/plain": [
       "         Week                  Line     OEE %  WeekOfYear  Year       Date  \\\n",
       "282  W13-2021  TR200 Packaging Line  0.596432          13  2021 2021-04-04   \n",
       "283  W14-2021  TR200 Packaging Line  0.515187          14  2021 2021-04-11   \n",
       "284  W15-2021  TR200 Packaging Line  0.655470          15  2021 2021-04-18   \n",
       "285  W16-2021  TR200 Packaging Line  0.501130          16  2021 2021-04-25   \n",
       "286  W17-2021  TR200 Packaging Line  0.521534          17  2021 2021-05-02   \n",
       "287  W18-2021  TR200 Packaging Line  0.555848          18  2021 2021-05-09   \n",
       "288  W19-2021  TR200 Packaging Line  0.531703          19  2021 2021-05-16   \n",
       "289  W20-2021  TR200 Packaging Line  0.596425          20  2021 2021-05-23   \n",
       "290  W21-2021  TR200 Packaging Line  0.517050          21  2021 2021-05-30   \n",
       "291  W22-2021  TR200 Packaging Line  0.769493          22  2021 2021-06-06   \n",
       "292  W23-2021  TR200 Packaging Line  0.535201          23  2021 2021-06-13   \n",
       "293  W24-2021  TR200 Packaging Line  0.420414          24  2021 2021-06-20   \n",
       "294  W25-2021  TR200 Packaging Line  0.561511          25  2021 2021-06-27   \n",
       "295  W26-2021  TR200 Packaging Line  0.561511          26  2021 2021-07-04   \n",
       "296  W27-2021  TR200 Packaging Line  0.561511          27  2021 2021-07-11   \n",
       "\n",
       "       Plant  OEE  Start point  OEE% Target (2022)  Unplanned_tech_loss  \\\n",
       "282  Lisieux          0.483505                0.65             0.163573   \n",
       "283  Lisieux          0.483505                0.65             0.127162   \n",
       "284  Lisieux          0.483505                0.65             0.145680   \n",
       "285  Lisieux          0.483505                0.65             0.217642   \n",
       "286  Lisieux          0.483505                0.65             0.203961   \n",
       "287  Lisieux          0.483505                0.65             0.148352   \n",
       "288  Lisieux          0.483505                0.65             0.225213   \n",
       "289  Lisieux          0.483505                0.65             0.169660   \n",
       "290  Lisieux          0.483505                0.65             0.251404   \n",
       "291  Lisieux          0.483505                0.65             0.158634   \n",
       "292  Lisieux          0.483505                0.65             0.221234   \n",
       "293  Lisieux          0.483505                0.65             0.221771   \n",
       "294  Lisieux          0.483505                0.65             0.173618   \n",
       "295  Lisieux          0.483505                0.65                  NaN   \n",
       "296  Lisieux          0.483505                0.65                  NaN   \n",
       "\n",
       "     Changeover  \n",
       "282    0.075189  \n",
       "283    0.366955  \n",
       "284    0.130089  \n",
       "285    0.036253  \n",
       "286    0.158523  \n",
       "287    0.143708  \n",
       "288    0.144646  \n",
       "289    0.196068  \n",
       "290    0.163872  \n",
       "291    0.057577  \n",
       "292    0.116895  \n",
       "293    0.264205  \n",
       "294    0.038517  \n",
       "295         NaN  \n",
       "296         NaN  "
      ],
      "text/html": "<div>\n<style scoped>\n    .dataframe tbody tr th:only-of-type {\n        vertical-align: middle;\n    }\n\n    .dataframe tbody tr th {\n        vertical-align: top;\n    }\n\n    .dataframe thead th {\n        text-align: right;\n    }\n</style>\n<table border=\"1\" class=\"dataframe\">\n  <thead>\n    <tr style=\"text-align: right;\">\n      <th></th>\n      <th>Week</th>\n      <th>Line</th>\n      <th>OEE %</th>\n      <th>WeekOfYear</th>\n      <th>Year</th>\n      <th>Date</th>\n      <th>Plant</th>\n      <th>OEE  Start point</th>\n      <th>OEE% Target (2022)</th>\n      <th>Unplanned_tech_loss</th>\n      <th>Changeover</th>\n    </tr>\n  </thead>\n  <tbody>\n    <tr>\n      <th>282</th>\n      <td>W13-2021</td>\n      <td>TR200 Packaging Line</td>\n      <td>0.596432</td>\n      <td>13</td>\n      <td>2021</td>\n      <td>2021-04-04</td>\n      <td>Lisieux</td>\n      <td>0.483505</td>\n      <td>0.65</td>\n      <td>0.163573</td>\n      <td>0.075189</td>\n    </tr>\n    <tr>\n      <th>283</th>\n      <td>W14-2021</td>\n      <td>TR200 Packaging Line</td>\n      <td>0.515187</td>\n      <td>14</td>\n      <td>2021</td>\n      <td>2021-04-11</td>\n      <td>Lisieux</td>\n      <td>0.483505</td>\n      <td>0.65</td>\n      <td>0.127162</td>\n      <td>0.366955</td>\n    </tr>\n    <tr>\n      <th>284</th>\n      <td>W15-2021</td>\n      <td>TR200 Packaging Line</td>\n      <td>0.655470</td>\n      <td>15</td>\n      <td>2021</td>\n      <td>2021-04-18</td>\n      <td>Lisieux</td>\n      <td>0.483505</td>\n      <td>0.65</td>\n      <td>0.145680</td>\n      <td>0.130089</td>\n    </tr>\n    <tr>\n      <th>285</th>\n      <td>W16-2021</td>\n      <td>TR200 Packaging Line</td>\n      <td>0.501130</td>\n      <td>16</td>\n      <td>2021</td>\n      <td>2021-04-25</td>\n      <td>Lisieux</td>\n      <td>0.483505</td>\n      <td>0.65</td>\n      <td>0.217642</td>\n      <td>0.036253</td>\n    </tr>\n    <tr>\n      <th>286</th>\n      <td>W17-2021</td>\n      <td>TR200 Packaging Line</td>\n      <td>0.521534</td>\n      <td>17</td>\n      <td>2021</td>\n      <td>2021-05-02</td>\n      <td>Lisieux</td>\n      <td>0.483505</td>\n      <td>0.65</td>\n      <td>0.203961</td>\n      <td>0.158523</td>\n    </tr>\n    <tr>\n      <th>287</th>\n      <td>W18-2021</td>\n      <td>TR200 Packaging Line</td>\n      <td>0.555848</td>\n      <td>18</td>\n      <td>2021</td>\n      <td>2021-05-09</td>\n      <td>Lisieux</td>\n      <td>0.483505</td>\n      <td>0.65</td>\n      <td>0.148352</td>\n      <td>0.143708</td>\n    </tr>\n    <tr>\n      <th>288</th>\n      <td>W19-2021</td>\n      <td>TR200 Packaging Line</td>\n      <td>0.531703</td>\n      <td>19</td>\n      <td>2021</td>\n      <td>2021-05-16</td>\n      <td>Lisieux</td>\n      <td>0.483505</td>\n      <td>0.65</td>\n      <td>0.225213</td>\n      <td>0.144646</td>\n    </tr>\n    <tr>\n      <th>289</th>\n      <td>W20-2021</td>\n      <td>TR200 Packaging Line</td>\n      <td>0.596425</td>\n      <td>20</td>\n      <td>2021</td>\n      <td>2021-05-23</td>\n      <td>Lisieux</td>\n      <td>0.483505</td>\n      <td>0.65</td>\n      <td>0.169660</td>\n      <td>0.196068</td>\n    </tr>\n    <tr>\n      <th>290</th>\n      <td>W21-2021</td>\n      <td>TR200 Packaging Line</td>\n      <td>0.517050</td>\n      <td>21</td>\n      <td>2021</td>\n      <td>2021-05-30</td>\n      <td>Lisieux</td>\n      <td>0.483505</td>\n      <td>0.65</td>\n      <td>0.251404</td>\n      <td>0.163872</td>\n    </tr>\n    <tr>\n      <th>291</th>\n      <td>W22-2021</td>\n      <td>TR200 Packaging Line</td>\n      <td>0.769493</td>\n      <td>22</td>\n      <td>2021</td>\n      <td>2021-06-06</td>\n      <td>Lisieux</td>\n      <td>0.483505</td>\n      <td>0.65</td>\n      <td>0.158634</td>\n      <td>0.057577</td>\n    </tr>\n    <tr>\n      <th>292</th>\n      <td>W23-2021</td>\n      <td>TR200 Packaging Line</td>\n      <td>0.535201</td>\n      <td>23</td>\n      <td>2021</td>\n      <td>2021-06-13</td>\n      <td>Lisieux</td>\n      <td>0.483505</td>\n      <td>0.65</td>\n      <td>0.221234</td>\n      <td>0.116895</td>\n    </tr>\n    <tr>\n      <th>293</th>\n      <td>W24-2021</td>\n      <td>TR200 Packaging Line</td>\n      <td>0.420414</td>\n      <td>24</td>\n      <td>2021</td>\n      <td>2021-06-20</td>\n      <td>Lisieux</td>\n      <td>0.483505</td>\n      <td>0.65</td>\n      <td>0.221771</td>\n      <td>0.264205</td>\n    </tr>\n    <tr>\n      <th>294</th>\n      <td>W25-2021</td>\n      <td>TR200 Packaging Line</td>\n      <td>0.561511</td>\n      <td>25</td>\n      <td>2021</td>\n      <td>2021-06-27</td>\n      <td>Lisieux</td>\n      <td>0.483505</td>\n      <td>0.65</td>\n      <td>0.173618</td>\n      <td>0.038517</td>\n    </tr>\n    <tr>\n      <th>295</th>\n      <td>W26-2021</td>\n      <td>TR200 Packaging Line</td>\n      <td>0.561511</td>\n      <td>26</td>\n      <td>2021</td>\n      <td>2021-07-04</td>\n      <td>Lisieux</td>\n      <td>0.483505</td>\n      <td>0.65</td>\n      <td>NaN</td>\n      <td>NaN</td>\n    </tr>\n    <tr>\n      <th>296</th>\n      <td>W27-2021</td>\n      <td>TR200 Packaging Line</td>\n      <td>0.561511</td>\n      <td>27</td>\n      <td>2021</td>\n      <td>2021-07-11</td>\n      <td>Lisieux</td>\n      <td>0.483505</td>\n      <td>0.65</td>\n      <td>NaN</td>\n      <td>NaN</td>\n    </tr>\n  </tbody>\n</table>\n</div>"
     },
     "metadata": {},
     "execution_count": 58
    }
   ],
   "source": [
    "# df_weekly_minmax = (df_weekly.assign(Data_Value=df_weekly['OEE %'].abs())\n",
    "#        .groupby(pd.Grouper(key='Date',freq='W'))['OEE %'].agg([('Min' , 'min'), ('Max', 'max')])\n",
    "#        .add_prefix('Week'))\n",
    "# df_weekly_minmax.reset_index(inplace=True)\n",
    "# df_weekly = df_weekly.merge(df_weekly_minmax[['Date','WeekMin','WeekMax']])\n",
    "# df_weekly['OEE %'].fillna(df_weekly.WeekMin, inplace=True)\n",
    "# df_weekly.drop(columns=['WeekMin','WeekMax'], inplace=True)\n",
    "df_weekly['OEE %'] = df_weekly.sort_values(['Line','Date']).groupby(['Line'])['OEE %'].ffill()\n",
    "df_weekly['OEE %'] = df_weekly.sort_values(['Line','Date']).groupby(['Line'])['OEE %'].fillna(df_weekly['OEE  Start point'])\n",
    "# df_weekly[df_weekly['OEE %'].isna()]\n",
    "df_weekly[df_weekly.Line.str.contains('TR200')]"
   ]
  },
  {
   "cell_type": "markdown",
   "metadata": {},
   "source": [
    "## Standard Deviation\n",
    "Calculate std_dev and mean on a 4 week rolling basis\n",
    "\n",
    "Standard deviation is the square root of the variance, so no need to calculate both and have left var out"
   ]
  },
  {
   "cell_type": "code",
   "execution_count": 59,
   "metadata": {
    "scrolled": true
   },
   "outputs": [
    {
     "output_type": "execute_result",
     "data": {
      "text/plain": [
       "         Week                  Line     OEE %  WeekOfYear  Year       Date  \\\n",
       "12   W13-2021     C2 Packaging Line  0.458414          13  2021 2021-04-04   \n",
       "228  W13-2021           M22 Filling  0.649336          13  2021 2021-04-04   \n",
       "255  W13-2021  SUPPO Packaging Line  0.432432          13  2021 2021-04-04   \n",
       "174  W13-2021           M18 Filling  0.046124          13  2021 2021-04-04   \n",
       "39   W13-2021     C9 Packaging Line  0.371845          13  2021 2021-04-04   \n",
       "\n",
       "              Plant  OEE  Start point  OEE% Target (2022)  \\\n",
       "12   Maisons-Alfort          0.397503                0.47   \n",
       "228       Frankfurt          0.530068                0.65   \n",
       "255         Lisieux          0.353021                0.53   \n",
       "174       Frankfurt          0.443522                0.65   \n",
       "39   Maisons-Alfort          0.528518                0.53   \n",
       "\n",
       "     Unplanned_tech_loss  Changeover  rolling_std  \n",
       "12              0.465009    0.044140          NaN  \n",
       "228             0.234635    0.035164          NaN  \n",
       "255             0.148267    0.178806          NaN  \n",
       "174             0.114818    0.789781          NaN  \n",
       "39              0.229297    0.081871          NaN  "
      ],
      "text/html": "<div>\n<style scoped>\n    .dataframe tbody tr th:only-of-type {\n        vertical-align: middle;\n    }\n\n    .dataframe tbody tr th {\n        vertical-align: top;\n    }\n\n    .dataframe thead th {\n        text-align: right;\n    }\n</style>\n<table border=\"1\" class=\"dataframe\">\n  <thead>\n    <tr style=\"text-align: right;\">\n      <th></th>\n      <th>Week</th>\n      <th>Line</th>\n      <th>OEE %</th>\n      <th>WeekOfYear</th>\n      <th>Year</th>\n      <th>Date</th>\n      <th>Plant</th>\n      <th>OEE  Start point</th>\n      <th>OEE% Target (2022)</th>\n      <th>Unplanned_tech_loss</th>\n      <th>Changeover</th>\n      <th>rolling_std</th>\n    </tr>\n  </thead>\n  <tbody>\n    <tr>\n      <th>12</th>\n      <td>W13-2021</td>\n      <td>C2 Packaging Line</td>\n      <td>0.458414</td>\n      <td>13</td>\n      <td>2021</td>\n      <td>2021-04-04</td>\n      <td>Maisons-Alfort</td>\n      <td>0.397503</td>\n      <td>0.47</td>\n      <td>0.465009</td>\n      <td>0.044140</td>\n      <td>NaN</td>\n    </tr>\n    <tr>\n      <th>228</th>\n      <td>W13-2021</td>\n      <td>M22 Filling</td>\n      <td>0.649336</td>\n      <td>13</td>\n      <td>2021</td>\n      <td>2021-04-04</td>\n      <td>Frankfurt</td>\n      <td>0.530068</td>\n      <td>0.65</td>\n      <td>0.234635</td>\n      <td>0.035164</td>\n      <td>NaN</td>\n    </tr>\n    <tr>\n      <th>255</th>\n      <td>W13-2021</td>\n      <td>SUPPO Packaging Line</td>\n      <td>0.432432</td>\n      <td>13</td>\n      <td>2021</td>\n      <td>2021-04-04</td>\n      <td>Lisieux</td>\n      <td>0.353021</td>\n      <td>0.53</td>\n      <td>0.148267</td>\n      <td>0.178806</td>\n      <td>NaN</td>\n    </tr>\n    <tr>\n      <th>174</th>\n      <td>W13-2021</td>\n      <td>M18 Filling</td>\n      <td>0.046124</td>\n      <td>13</td>\n      <td>2021</td>\n      <td>2021-04-04</td>\n      <td>Frankfurt</td>\n      <td>0.443522</td>\n      <td>0.65</td>\n      <td>0.114818</td>\n      <td>0.789781</td>\n      <td>NaN</td>\n    </tr>\n    <tr>\n      <th>39</th>\n      <td>W13-2021</td>\n      <td>C9 Packaging Line</td>\n      <td>0.371845</td>\n      <td>13</td>\n      <td>2021</td>\n      <td>2021-04-04</td>\n      <td>Maisons-Alfort</td>\n      <td>0.528518</td>\n      <td>0.53</td>\n      <td>0.229297</td>\n      <td>0.081871</td>\n      <td>NaN</td>\n    </tr>\n  </tbody>\n</table>\n</div>"
     },
     "metadata": {},
     "execution_count": 59
    }
   ],
   "source": [
    "df_weekly['rolling_std'] = df_weekly.groupby('Line')['OEE %'].apply(lambda x : x.rolling(4,1).agg(np.std))\n",
    "df_weekly.head(5)"
   ]
  },
  {
   "cell_type": "code",
   "execution_count": 60,
   "metadata": {},
   "outputs": [],
   "source": [
    "file = (dir + 'Nominations Category Scoring.xlsx')\n",
    "df_nom_sectors = pd.read_excel(file, sheet_name='Nomination scoring', usecols=\"A:H\", parse_dates=['Date'])"
   ]
  },
  {
   "cell_type": "code",
   "execution_count": 61,
   "metadata": {},
   "outputs": [
    {
     "output_type": "execute_result",
     "data": {
      "text/plain": [
       "         Week                  Line     OEE %  WeekOfYear    Year       Date  \\\n",
       "0    W13-2021     C2 Packaging Line  0.458414        13.0  2021.0 2021-04-04   \n",
       "1    W13-2021           M22 Filling  0.649336        13.0  2021.0 2021-04-04   \n",
       "2    W13-2021  SUPPO Packaging Line  0.432432        13.0  2021.0 2021-04-04   \n",
       "3    W13-2021           M18 Filling  0.046124        13.0  2021.0 2021-04-04   \n",
       "4    W13-2021     C9 Packaging Line  0.371845        13.0  2021.0 2021-04-04   \n",
       "..        ...                   ...       ...         ...     ...        ...   \n",
       "242       NaN       AL5 Packaging 1       NaN         NaN     NaN 2021-09-12   \n",
       "243       NaN                   AL6       NaN         NaN     NaN 2021-09-12   \n",
       "244       NaN           M18 Filling       NaN         NaN     NaN 2021-09-12   \n",
       "245       NaN           M21 Filling       NaN         NaN     NaN 2021-09-12   \n",
       "246       NaN           M22 Filling       NaN         NaN     NaN 2021-09-12   \n",
       "\n",
       "              Plant  OEE  Start point  OEE% Target (2022)  \\\n",
       "0    Maisons-Alfort          0.397503                0.47   \n",
       "1         Frankfurt          0.530068                0.65   \n",
       "2           Lisieux          0.353021                0.53   \n",
       "3         Frankfurt          0.443522                0.65   \n",
       "4    Maisons-Alfort          0.528518                0.53   \n",
       "..              ...               ...                 ...   \n",
       "242       Frankfurt               NaN                 NaN   \n",
       "243       Frankfurt               NaN                 NaN   \n",
       "244       Frankfurt               NaN                 NaN   \n",
       "245       Frankfurt               NaN                 NaN   \n",
       "246       Frankfurt               NaN                 NaN   \n",
       "\n",
       "     Unplanned_tech_loss  Changeover  rolling_std  Best Solution  \\\n",
       "0               0.465009    0.044140          NaN            NaN   \n",
       "1               0.234635    0.035164          NaN            NaN   \n",
       "2               0.148267    0.178806          NaN            NaN   \n",
       "3               0.114818    0.789781          NaN            NaN   \n",
       "4               0.229297    0.081871          NaN            NaN   \n",
       "..                   ...         ...          ...            ...   \n",
       "242                  NaN         NaN          NaN            0.0   \n",
       "243                  NaN         NaN          NaN            0.0   \n",
       "244                  NaN         NaN          NaN            0.0   \n",
       "245                  NaN         NaN          NaN            0.0   \n",
       "246                  NaN         NaN          NaN            0.0   \n",
       "\n",
       "     Best Innovation  Improvement Iterations  Lessons and Sharing  \\\n",
       "0                NaN                     NaN                  NaN   \n",
       "1                NaN                     NaN                  NaN   \n",
       "2                NaN                     NaN                  NaN   \n",
       "3                NaN                     NaN                  NaN   \n",
       "4                NaN                     NaN                  NaN   \n",
       "..               ...                     ...                  ...   \n",
       "242              0.0                     0.0                  0.0   \n",
       "243              0.0                     0.0                  0.0   \n",
       "244              0.0                     0.0                  0.0   \n",
       "245              0.0                     0.0                  0.0   \n",
       "246              0.0                     0.0                  0.0   \n",
       "\n",
       "     Team Contribution and Spirit  \n",
       "0                             NaN  \n",
       "1                             NaN  \n",
       "2                             NaN  \n",
       "3                             NaN  \n",
       "4                             NaN  \n",
       "..                            ...  \n",
       "242                           0.0  \n",
       "243                           0.0  \n",
       "244                           0.0  \n",
       "245                           0.0  \n",
       "246                           0.0  \n",
       "\n",
       "[247 rows x 17 columns]"
      ],
      "text/html": "<div>\n<style scoped>\n    .dataframe tbody tr th:only-of-type {\n        vertical-align: middle;\n    }\n\n    .dataframe tbody tr th {\n        vertical-align: top;\n    }\n\n    .dataframe thead th {\n        text-align: right;\n    }\n</style>\n<table border=\"1\" class=\"dataframe\">\n  <thead>\n    <tr style=\"text-align: right;\">\n      <th></th>\n      <th>Week</th>\n      <th>Line</th>\n      <th>OEE %</th>\n      <th>WeekOfYear</th>\n      <th>Year</th>\n      <th>Date</th>\n      <th>Plant</th>\n      <th>OEE  Start point</th>\n      <th>OEE% Target (2022)</th>\n      <th>Unplanned_tech_loss</th>\n      <th>Changeover</th>\n      <th>rolling_std</th>\n      <th>Best Solution</th>\n      <th>Best Innovation</th>\n      <th>Improvement Iterations</th>\n      <th>Lessons and Sharing</th>\n      <th>Team Contribution and Spirit</th>\n    </tr>\n  </thead>\n  <tbody>\n    <tr>\n      <th>0</th>\n      <td>W13-2021</td>\n      <td>C2 Packaging Line</td>\n      <td>0.458414</td>\n      <td>13.0</td>\n      <td>2021.0</td>\n      <td>2021-04-04</td>\n      <td>Maisons-Alfort</td>\n      <td>0.397503</td>\n      <td>0.47</td>\n      <td>0.465009</td>\n      <td>0.044140</td>\n      <td>NaN</td>\n      <td>NaN</td>\n      <td>NaN</td>\n      <td>NaN</td>\n      <td>NaN</td>\n      <td>NaN</td>\n    </tr>\n    <tr>\n      <th>1</th>\n      <td>W13-2021</td>\n      <td>M22 Filling</td>\n      <td>0.649336</td>\n      <td>13.0</td>\n      <td>2021.0</td>\n      <td>2021-04-04</td>\n      <td>Frankfurt</td>\n      <td>0.530068</td>\n      <td>0.65</td>\n      <td>0.234635</td>\n      <td>0.035164</td>\n      <td>NaN</td>\n      <td>NaN</td>\n      <td>NaN</td>\n      <td>NaN</td>\n      <td>NaN</td>\n      <td>NaN</td>\n    </tr>\n    <tr>\n      <th>2</th>\n      <td>W13-2021</td>\n      <td>SUPPO Packaging Line</td>\n      <td>0.432432</td>\n      <td>13.0</td>\n      <td>2021.0</td>\n      <td>2021-04-04</td>\n      <td>Lisieux</td>\n      <td>0.353021</td>\n      <td>0.53</td>\n      <td>0.148267</td>\n      <td>0.178806</td>\n      <td>NaN</td>\n      <td>NaN</td>\n      <td>NaN</td>\n      <td>NaN</td>\n      <td>NaN</td>\n      <td>NaN</td>\n    </tr>\n    <tr>\n      <th>3</th>\n      <td>W13-2021</td>\n      <td>M18 Filling</td>\n      <td>0.046124</td>\n      <td>13.0</td>\n      <td>2021.0</td>\n      <td>2021-04-04</td>\n      <td>Frankfurt</td>\n      <td>0.443522</td>\n      <td>0.65</td>\n      <td>0.114818</td>\n      <td>0.789781</td>\n      <td>NaN</td>\n      <td>NaN</td>\n      <td>NaN</td>\n      <td>NaN</td>\n      <td>NaN</td>\n      <td>NaN</td>\n    </tr>\n    <tr>\n      <th>4</th>\n      <td>W13-2021</td>\n      <td>C9 Packaging Line</td>\n      <td>0.371845</td>\n      <td>13.0</td>\n      <td>2021.0</td>\n      <td>2021-04-04</td>\n      <td>Maisons-Alfort</td>\n      <td>0.528518</td>\n      <td>0.53</td>\n      <td>0.229297</td>\n      <td>0.081871</td>\n      <td>NaN</td>\n      <td>NaN</td>\n      <td>NaN</td>\n      <td>NaN</td>\n      <td>NaN</td>\n      <td>NaN</td>\n    </tr>\n    <tr>\n      <th>...</th>\n      <td>...</td>\n      <td>...</td>\n      <td>...</td>\n      <td>...</td>\n      <td>...</td>\n      <td>...</td>\n      <td>...</td>\n      <td>...</td>\n      <td>...</td>\n      <td>...</td>\n      <td>...</td>\n      <td>...</td>\n      <td>...</td>\n      <td>...</td>\n      <td>...</td>\n      <td>...</td>\n      <td>...</td>\n    </tr>\n    <tr>\n      <th>242</th>\n      <td>NaN</td>\n      <td>AL5 Packaging 1</td>\n      <td>NaN</td>\n      <td>NaN</td>\n      <td>NaN</td>\n      <td>2021-09-12</td>\n      <td>Frankfurt</td>\n      <td>NaN</td>\n      <td>NaN</td>\n      <td>NaN</td>\n      <td>NaN</td>\n      <td>NaN</td>\n      <td>0.0</td>\n      <td>0.0</td>\n      <td>0.0</td>\n      <td>0.0</td>\n      <td>0.0</td>\n    </tr>\n    <tr>\n      <th>243</th>\n      <td>NaN</td>\n      <td>AL6</td>\n      <td>NaN</td>\n      <td>NaN</td>\n      <td>NaN</td>\n      <td>2021-09-12</td>\n      <td>Frankfurt</td>\n      <td>NaN</td>\n      <td>NaN</td>\n      <td>NaN</td>\n      <td>NaN</td>\n      <td>NaN</td>\n      <td>0.0</td>\n      <td>0.0</td>\n      <td>0.0</td>\n      <td>0.0</td>\n      <td>0.0</td>\n    </tr>\n    <tr>\n      <th>244</th>\n      <td>NaN</td>\n      <td>M18 Filling</td>\n      <td>NaN</td>\n      <td>NaN</td>\n      <td>NaN</td>\n      <td>2021-09-12</td>\n      <td>Frankfurt</td>\n      <td>NaN</td>\n      <td>NaN</td>\n      <td>NaN</td>\n      <td>NaN</td>\n      <td>NaN</td>\n      <td>0.0</td>\n      <td>0.0</td>\n      <td>0.0</td>\n      <td>0.0</td>\n      <td>0.0</td>\n    </tr>\n    <tr>\n      <th>245</th>\n      <td>NaN</td>\n      <td>M21 Filling</td>\n      <td>NaN</td>\n      <td>NaN</td>\n      <td>NaN</td>\n      <td>2021-09-12</td>\n      <td>Frankfurt</td>\n      <td>NaN</td>\n      <td>NaN</td>\n      <td>NaN</td>\n      <td>NaN</td>\n      <td>NaN</td>\n      <td>0.0</td>\n      <td>0.0</td>\n      <td>0.0</td>\n      <td>0.0</td>\n      <td>0.0</td>\n    </tr>\n    <tr>\n      <th>246</th>\n      <td>NaN</td>\n      <td>M22 Filling</td>\n      <td>NaN</td>\n      <td>NaN</td>\n      <td>NaN</td>\n      <td>2021-09-12</td>\n      <td>Frankfurt</td>\n      <td>NaN</td>\n      <td>NaN</td>\n      <td>NaN</td>\n      <td>NaN</td>\n      <td>NaN</td>\n      <td>0.0</td>\n      <td>0.0</td>\n      <td>0.0</td>\n      <td>0.0</td>\n      <td>0.0</td>\n    </tr>\n  </tbody>\n</table>\n<p>247 rows × 17 columns</p>\n</div>"
     },
     "metadata": {},
     "execution_count": 61
    }
   ],
   "source": [
    "df_nom_sectors['Date'] = pd.Series(df_nom_sectors['Date']).fillna(method='ffill')\n",
    "df_nom_sectors = df_nom_sectors.fillna(0)\n",
    "\n",
    "df_weekly = df_weekly.merge(df_nom_sectors[['Line','Plant','Date','Best Solution','Best Innovation','Improvement Iterations','Lessons and Sharing','Team Contribution and Spirit']],how='outer', on=['Date','Plant','Line'])\n",
    "df_weekly"
   ]
  },
  {
   "cell_type": "markdown",
   "metadata": {},
   "source": [
    "## Create review dates\n",
    "create a review_date column for grouping the data later, so we only get the data we're interested in for each review"
   ]
  },
  {
   "cell_type": "code",
   "execution_count": 62,
   "metadata": {},
   "outputs": [],
   "source": [
    "def thurs_of_weekbefore(year, week):\n",
    "    return datetime.date.fromisocalendar(year, week-1, 4)  # (year, week before (w-1), thursday)\n",
    "\n",
    "review_weeks = [16, 20, 24, 28, 34, 38, 42, 47]\n",
    "review_dates = []\n",
    "\n",
    "for i in review_weeks:\n",
    "    if i > 0:\n",
    "        review_dates.append((thurs_of_weekbefore(2021,i)))\n",
    "\n",
    "df_review_dates = pd.DataFrame(review_dates)\n",
    "df_review_dates.rename(columns={0:'Review_Date'}, inplace=True)\n",
    "df_review_dates['Review_Date'] = pd.to_datetime(df_review_dates.Review_Date)\n",
    "\n",
    "# df_review_dates.info()\n",
    "df_weekly = pd.merge_asof(df_weekly.sort_values('Date'), df_review_dates, left_on='Date', right_on='Review_Date', allow_exact_matches=True, direction='forward')\n"
   ]
  },
  {
   "cell_type": "markdown",
   "metadata": {},
   "source": [
    "#### We need the diff between the weekly OEE % figures, and the Weekly Changeover figures\n",
    "Need something to calculate the OEE Progress and Changeover, otherwise we will have problems when we group and sum values later\n",
    "- Create OEE_diff with OEE % from groupby of each Line, Week (only 1 row per week, so 'mean' will yield the same)   \n",
    "- Find the diff between the rows in OEE_Diff for each Line   \n",
    "- fillNA (first row for each Line) with OEE Start point - should only be needed on the first row for each Line   \n",
    "\n",
    "repeat same logic for Changeover - there will be more NaN as start_changeover wasn't provided for all.  We populate this later"
   ]
  },
  {
   "cell_type": "code",
   "execution_count": 63,
   "metadata": {},
   "outputs": [],
   "source": [
    "# this was calculating the wrong Diff - the first row of each site was looking at the previous site for all but the 1st calc\n",
    "# needed to sort by Line and Date first \n",
    "\n",
    "# OEE_Diff = df_weekly.groupby(['Line',pd.Grouper(key='Date',freq='W')])['OEE %'].mean().reset_index()\n",
    "# OEE_Diff[\"OEE_Diff\"] = OEE_Diff[\"OEE %\"].diff()\n",
    "# df_weekly = df_weekly.merge(OEE_Diff[[\"Line\",\"Date\",\"OEE_Diff\"]], on=([\"Line\",\"Date\"]))\n",
    "\n",
    "# df_weekly['OEE_Diff'].fillna(df_weekly['OEE %'] - df_weekly['OEE  Start point'], inplace=True)\n",
    "# df_weekly[[\"Line\",\"Date\",\"OEE %\",\"OEE_Diff\"]].head(50).sort_values(by=['Line', 'Date'])"
   ]
  },
  {
   "source": [
    "after merging with nominations spreadsheet we will have future dated rows that get in the way of calcs later - get rid of them using the review_date set earlier"
   ],
   "cell_type": "markdown",
   "metadata": {}
  },
  {
   "cell_type": "code",
   "execution_count": 64,
   "metadata": {},
   "outputs": [],
   "source": [
    "df_weekly = df_weekly[df_weekly['Review_Date'] <= review_date]"
   ]
  },
  {
   "cell_type": "code",
   "execution_count": 65,
   "metadata": {},
   "outputs": [
    {
     "output_type": "execute_result",
     "data": {
      "text/plain": [
       "                    Line       Date     OEE %  OEE_Diff\n",
       "12       AL5 Packaging 1 2021-04-04  0.479693  0.000000\n",
       "25       AL5 Packaging 1 2021-04-11  0.479693  0.000000\n",
       "30       AL5 Packaging 1 2021-04-18  0.449745 -0.029948\n",
       "3                    AL6 2021-04-04  0.367897  0.035240\n",
       "16                   AL6 2021-04-11  0.360681 -0.007216\n",
       "31                   AL6 2021-04-18  0.334140 -0.026541\n",
       "45                   AL6 2021-04-25  0.309545 -0.024595\n",
       "0      C2 Packaging Line 2021-04-04  0.458414  0.060911\n",
       "19     C2 Packaging Line 2021-04-11  0.530707  0.072293\n",
       "38     C2 Packaging Line 2021-04-18  0.410676 -0.120032\n",
       "39     C2 Packaging Line 2021-04-25  0.372550 -0.038125\n",
       "8      C9 Packaging Line 2021-04-04  0.371845 -0.156673\n",
       "13     C9 Packaging Line 2021-04-11  0.259071 -0.112774\n",
       "28     C9 Packaging Line 2021-04-18  0.444577  0.185507\n",
       "40     C9 Packaging Line 2021-04-25  0.509444  0.064867\n",
       "6                 GAMMA1 2021-04-04  0.431186  0.012503\n",
       "23                GAMMA1 2021-04-11  0.389690 -0.041496\n",
       "37                GAMMA1 2021-04-18  0.458668  0.068978\n",
       "41                GAMMA1 2021-04-25  0.471819  0.013150\n",
       "2              IMA C80/2 2021-04-04  0.581304  0.130272\n",
       "21             IMA C80/2 2021-04-11  0.433635 -0.147669\n",
       "27             IMA C80/2 2021-04-18  0.451515  0.017881\n",
       "44             IMA C80/2 2021-04-25  0.406219 -0.045296\n",
       "1     L18 Packaging Line 2021-04-04  0.465923  0.088240\n",
       "17    L18 Packaging Line 2021-04-11  0.410901 -0.055022\n",
       "35    L18 Packaging Line 2021-04-18  0.401397 -0.009504\n",
       "46    L18 Packaging Line 2021-04-25  0.357559 -0.043839\n",
       "5     L25 Packaging Line 2021-04-04  0.393740  0.042176\n",
       "14    L25 Packaging Line 2021-04-11  0.346988 -0.046751\n",
       "36    L25 Packaging Line 2021-04-18  0.187845 -0.159143\n",
       "9            M18 Filling 2021-04-04  0.046124 -0.397398\n",
       "18           M18 Filling 2021-04-11  0.463021  0.416897\n",
       "32           M18 Filling 2021-04-18  0.386723 -0.076297\n",
       "47           M18 Filling 2021-04-25  0.352420 -0.034303\n",
       "7            M21 Filling 2021-04-04  0.599671  0.000000\n",
       "24           M21 Filling 2021-04-11  0.599671  0.000000\n",
       "33           M21 Filling 2021-04-18  0.599671  0.000000\n",
       "42           M21 Filling 2021-04-25  0.000000 -0.599671\n",
       "11           M22 Filling 2021-04-04  0.649336  0.119268\n",
       "22           M22 Filling 2021-04-11  0.427316 -0.222019\n",
       "34           M22 Filling 2021-04-18  0.520511  0.093195\n",
       "43           M22 Filling 2021-04-25  0.703703  0.183191\n",
       "10  SUPPO Packaging Line 2021-04-04  0.432432  0.079411\n",
       "20  SUPPO Packaging Line 2021-04-11  0.518594  0.086162\n",
       "29  SUPPO Packaging Line 2021-04-18  0.633037  0.114443\n",
       "49  SUPPO Packaging Line 2021-04-25  0.403974 -0.229063\n",
       "4   TR200 Packaging Line 2021-04-04  0.596432  0.112928\n",
       "15  TR200 Packaging Line 2021-04-11  0.515187 -0.081246\n",
       "26  TR200 Packaging Line 2021-04-18  0.655470  0.140283\n",
       "48  TR200 Packaging Line 2021-04-25  0.501130 -0.154340"
      ],
      "text/html": "<div>\n<style scoped>\n    .dataframe tbody tr th:only-of-type {\n        vertical-align: middle;\n    }\n\n    .dataframe tbody tr th {\n        vertical-align: top;\n    }\n\n    .dataframe thead th {\n        text-align: right;\n    }\n</style>\n<table border=\"1\" class=\"dataframe\">\n  <thead>\n    <tr style=\"text-align: right;\">\n      <th></th>\n      <th>Line</th>\n      <th>Date</th>\n      <th>OEE %</th>\n      <th>OEE_Diff</th>\n    </tr>\n  </thead>\n  <tbody>\n    <tr>\n      <th>12</th>\n      <td>AL5 Packaging 1</td>\n      <td>2021-04-04</td>\n      <td>0.479693</td>\n      <td>0.000000</td>\n    </tr>\n    <tr>\n      <th>25</th>\n      <td>AL5 Packaging 1</td>\n      <td>2021-04-11</td>\n      <td>0.479693</td>\n      <td>0.000000</td>\n    </tr>\n    <tr>\n      <th>30</th>\n      <td>AL5 Packaging 1</td>\n      <td>2021-04-18</td>\n      <td>0.449745</td>\n      <td>-0.029948</td>\n    </tr>\n    <tr>\n      <th>3</th>\n      <td>AL6</td>\n      <td>2021-04-04</td>\n      <td>0.367897</td>\n      <td>0.035240</td>\n    </tr>\n    <tr>\n      <th>16</th>\n      <td>AL6</td>\n      <td>2021-04-11</td>\n      <td>0.360681</td>\n      <td>-0.007216</td>\n    </tr>\n    <tr>\n      <th>31</th>\n      <td>AL6</td>\n      <td>2021-04-18</td>\n      <td>0.334140</td>\n      <td>-0.026541</td>\n    </tr>\n    <tr>\n      <th>45</th>\n      <td>AL6</td>\n      <td>2021-04-25</td>\n      <td>0.309545</td>\n      <td>-0.024595</td>\n    </tr>\n    <tr>\n      <th>0</th>\n      <td>C2 Packaging Line</td>\n      <td>2021-04-04</td>\n      <td>0.458414</td>\n      <td>0.060911</td>\n    </tr>\n    <tr>\n      <th>19</th>\n      <td>C2 Packaging Line</td>\n      <td>2021-04-11</td>\n      <td>0.530707</td>\n      <td>0.072293</td>\n    </tr>\n    <tr>\n      <th>38</th>\n      <td>C2 Packaging Line</td>\n      <td>2021-04-18</td>\n      <td>0.410676</td>\n      <td>-0.120032</td>\n    </tr>\n    <tr>\n      <th>39</th>\n      <td>C2 Packaging Line</td>\n      <td>2021-04-25</td>\n      <td>0.372550</td>\n      <td>-0.038125</td>\n    </tr>\n    <tr>\n      <th>8</th>\n      <td>C9 Packaging Line</td>\n      <td>2021-04-04</td>\n      <td>0.371845</td>\n      <td>-0.156673</td>\n    </tr>\n    <tr>\n      <th>13</th>\n      <td>C9 Packaging Line</td>\n      <td>2021-04-11</td>\n      <td>0.259071</td>\n      <td>-0.112774</td>\n    </tr>\n    <tr>\n      <th>28</th>\n      <td>C9 Packaging Line</td>\n      <td>2021-04-18</td>\n      <td>0.444577</td>\n      <td>0.185507</td>\n    </tr>\n    <tr>\n      <th>40</th>\n      <td>C9 Packaging Line</td>\n      <td>2021-04-25</td>\n      <td>0.509444</td>\n      <td>0.064867</td>\n    </tr>\n    <tr>\n      <th>6</th>\n      <td>GAMMA1</td>\n      <td>2021-04-04</td>\n      <td>0.431186</td>\n      <td>0.012503</td>\n    </tr>\n    <tr>\n      <th>23</th>\n      <td>GAMMA1</td>\n      <td>2021-04-11</td>\n      <td>0.389690</td>\n      <td>-0.041496</td>\n    </tr>\n    <tr>\n      <th>37</th>\n      <td>GAMMA1</td>\n      <td>2021-04-18</td>\n      <td>0.458668</td>\n      <td>0.068978</td>\n    </tr>\n    <tr>\n      <th>41</th>\n      <td>GAMMA1</td>\n      <td>2021-04-25</td>\n      <td>0.471819</td>\n      <td>0.013150</td>\n    </tr>\n    <tr>\n      <th>2</th>\n      <td>IMA C80/2</td>\n      <td>2021-04-04</td>\n      <td>0.581304</td>\n      <td>0.130272</td>\n    </tr>\n    <tr>\n      <th>21</th>\n      <td>IMA C80/2</td>\n      <td>2021-04-11</td>\n      <td>0.433635</td>\n      <td>-0.147669</td>\n    </tr>\n    <tr>\n      <th>27</th>\n      <td>IMA C80/2</td>\n      <td>2021-04-18</td>\n      <td>0.451515</td>\n      <td>0.017881</td>\n    </tr>\n    <tr>\n      <th>44</th>\n      <td>IMA C80/2</td>\n      <td>2021-04-25</td>\n      <td>0.406219</td>\n      <td>-0.045296</td>\n    </tr>\n    <tr>\n      <th>1</th>\n      <td>L18 Packaging Line</td>\n      <td>2021-04-04</td>\n      <td>0.465923</td>\n      <td>0.088240</td>\n    </tr>\n    <tr>\n      <th>17</th>\n      <td>L18 Packaging Line</td>\n      <td>2021-04-11</td>\n      <td>0.410901</td>\n      <td>-0.055022</td>\n    </tr>\n    <tr>\n      <th>35</th>\n      <td>L18 Packaging Line</td>\n      <td>2021-04-18</td>\n      <td>0.401397</td>\n      <td>-0.009504</td>\n    </tr>\n    <tr>\n      <th>46</th>\n      <td>L18 Packaging Line</td>\n      <td>2021-04-25</td>\n      <td>0.357559</td>\n      <td>-0.043839</td>\n    </tr>\n    <tr>\n      <th>5</th>\n      <td>L25 Packaging Line</td>\n      <td>2021-04-04</td>\n      <td>0.393740</td>\n      <td>0.042176</td>\n    </tr>\n    <tr>\n      <th>14</th>\n      <td>L25 Packaging Line</td>\n      <td>2021-04-11</td>\n      <td>0.346988</td>\n      <td>-0.046751</td>\n    </tr>\n    <tr>\n      <th>36</th>\n      <td>L25 Packaging Line</td>\n      <td>2021-04-18</td>\n      <td>0.187845</td>\n      <td>-0.159143</td>\n    </tr>\n    <tr>\n      <th>9</th>\n      <td>M18 Filling</td>\n      <td>2021-04-04</td>\n      <td>0.046124</td>\n      <td>-0.397398</td>\n    </tr>\n    <tr>\n      <th>18</th>\n      <td>M18 Filling</td>\n      <td>2021-04-11</td>\n      <td>0.463021</td>\n      <td>0.416897</td>\n    </tr>\n    <tr>\n      <th>32</th>\n      <td>M18 Filling</td>\n      <td>2021-04-18</td>\n      <td>0.386723</td>\n      <td>-0.076297</td>\n    </tr>\n    <tr>\n      <th>47</th>\n      <td>M18 Filling</td>\n      <td>2021-04-25</td>\n      <td>0.352420</td>\n      <td>-0.034303</td>\n    </tr>\n    <tr>\n      <th>7</th>\n      <td>M21 Filling</td>\n      <td>2021-04-04</td>\n      <td>0.599671</td>\n      <td>0.000000</td>\n    </tr>\n    <tr>\n      <th>24</th>\n      <td>M21 Filling</td>\n      <td>2021-04-11</td>\n      <td>0.599671</td>\n      <td>0.000000</td>\n    </tr>\n    <tr>\n      <th>33</th>\n      <td>M21 Filling</td>\n      <td>2021-04-18</td>\n      <td>0.599671</td>\n      <td>0.000000</td>\n    </tr>\n    <tr>\n      <th>42</th>\n      <td>M21 Filling</td>\n      <td>2021-04-25</td>\n      <td>0.000000</td>\n      <td>-0.599671</td>\n    </tr>\n    <tr>\n      <th>11</th>\n      <td>M22 Filling</td>\n      <td>2021-04-04</td>\n      <td>0.649336</td>\n      <td>0.119268</td>\n    </tr>\n    <tr>\n      <th>22</th>\n      <td>M22 Filling</td>\n      <td>2021-04-11</td>\n      <td>0.427316</td>\n      <td>-0.222019</td>\n    </tr>\n    <tr>\n      <th>34</th>\n      <td>M22 Filling</td>\n      <td>2021-04-18</td>\n      <td>0.520511</td>\n      <td>0.093195</td>\n    </tr>\n    <tr>\n      <th>43</th>\n      <td>M22 Filling</td>\n      <td>2021-04-25</td>\n      <td>0.703703</td>\n      <td>0.183191</td>\n    </tr>\n    <tr>\n      <th>10</th>\n      <td>SUPPO Packaging Line</td>\n      <td>2021-04-04</td>\n      <td>0.432432</td>\n      <td>0.079411</td>\n    </tr>\n    <tr>\n      <th>20</th>\n      <td>SUPPO Packaging Line</td>\n      <td>2021-04-11</td>\n      <td>0.518594</td>\n      <td>0.086162</td>\n    </tr>\n    <tr>\n      <th>29</th>\n      <td>SUPPO Packaging Line</td>\n      <td>2021-04-18</td>\n      <td>0.633037</td>\n      <td>0.114443</td>\n    </tr>\n    <tr>\n      <th>49</th>\n      <td>SUPPO Packaging Line</td>\n      <td>2021-04-25</td>\n      <td>0.403974</td>\n      <td>-0.229063</td>\n    </tr>\n    <tr>\n      <th>4</th>\n      <td>TR200 Packaging Line</td>\n      <td>2021-04-04</td>\n      <td>0.596432</td>\n      <td>0.112928</td>\n    </tr>\n    <tr>\n      <th>15</th>\n      <td>TR200 Packaging Line</td>\n      <td>2021-04-11</td>\n      <td>0.515187</td>\n      <td>-0.081246</td>\n    </tr>\n    <tr>\n      <th>26</th>\n      <td>TR200 Packaging Line</td>\n      <td>2021-04-18</td>\n      <td>0.655470</td>\n      <td>0.140283</td>\n    </tr>\n    <tr>\n      <th>48</th>\n      <td>TR200 Packaging Line</td>\n      <td>2021-04-25</td>\n      <td>0.501130</td>\n      <td>-0.154340</td>\n    </tr>\n  </tbody>\n</table>\n</div>"
     },
     "metadata": {},
     "execution_count": 65
    }
   ],
   "source": [
    "OEE_Diff = df_weekly.sort_values(by=['Line', 'Date'])[['Line','Date','OEE %','OEE  Start point']]\n",
    "OEE_Diff['OEE_Diff'] = OEE_Diff.groupby('Line')['OEE %'].diff().fillna(df_weekly['OEE %'] - df_weekly['OEE  Start point'])\n",
    "df_weekly = df_weekly.merge(OEE_Diff[[\"Line\",\"Date\",\"OEE_Diff\"]], on=([\"Line\",\"Date\"]))\n",
    "df_weekly[[\"Line\",\"Date\",\"OEE %\",\"OEE_Diff\"]].head(50).sort_values(by=['Line', 'Date'])"
   ]
  },
  {
   "cell_type": "code",
   "execution_count": 66,
   "metadata": {},
   "outputs": [],
   "source": [
    "# Changeover_Diff = df_weekly.sort_values(by=['Line', 'Date'])[['Line','Date','Changeover','start_changeover']]\n",
    "Changeover_Diff = df_weekly.sort_values(by=['Line', 'Date'])[['Line','Date','Changeover']]\n",
    "# Changeover_Diff['Changeover_Diff'] = Changeover_Diff.groupby('Line')['Changeover'].diff().fillna(df_weekly['start_changeover'] - df_weekly['Changeover'])\n",
    "Changeover_Diff['Changeover_Diff'] = Changeover_Diff.groupby('Line')['Changeover'].diff().fillna(0)\n",
    "df_weekly = df_weekly.merge(Changeover_Diff[[\"Line\",\"Date\",\"Changeover_Diff\"]], on=([\"Line\",\"Date\"]))"
   ]
  },
  {
   "cell_type": "code",
   "execution_count": 67,
   "metadata": {},
   "outputs": [
    {
     "output_type": "execute_result",
     "data": {
      "text/plain": [
       "                     Line       Date  Changeover  Changeover_Diff\n",
       "4    TR200 Packaging Line 2021-04-04    0.075189         0.000000\n",
       "15   TR200 Packaging Line 2021-04-11    0.366955         0.291765\n",
       "26   TR200 Packaging Line 2021-04-18    0.130089        -0.236865\n",
       "48   TR200 Packaging Line 2021-04-25    0.036253        -0.093836\n",
       "55   TR200 Packaging Line 2021-05-02    0.158523         0.122270\n",
       "69   TR200 Packaging Line 2021-05-09    0.143708        -0.014815\n",
       "96   TR200 Packaging Line 2021-05-16    0.144646         0.000938\n",
       "106  TR200 Packaging Line 2021-05-23    0.196068         0.051422\n",
       "118  TR200 Packaging Line 2021-05-30    0.163872        -0.032196\n",
       "137  TR200 Packaging Line 2021-06-06    0.057577        -0.106295\n",
       "153  TR200 Packaging Line 2021-06-13    0.116895         0.059318\n",
       "162  TR200 Packaging Line 2021-06-20    0.264205         0.147309\n",
       "177  TR200 Packaging Line 2021-06-27    0.038517        -0.225688\n",
       "193  TR200 Packaging Line 2021-07-04         NaN         0.000000"
      ],
      "text/html": "<div>\n<style scoped>\n    .dataframe tbody tr th:only-of-type {\n        vertical-align: middle;\n    }\n\n    .dataframe tbody tr th {\n        vertical-align: top;\n    }\n\n    .dataframe thead th {\n        text-align: right;\n    }\n</style>\n<table border=\"1\" class=\"dataframe\">\n  <thead>\n    <tr style=\"text-align: right;\">\n      <th></th>\n      <th>Line</th>\n      <th>Date</th>\n      <th>Changeover</th>\n      <th>Changeover_Diff</th>\n    </tr>\n  </thead>\n  <tbody>\n    <tr>\n      <th>4</th>\n      <td>TR200 Packaging Line</td>\n      <td>2021-04-04</td>\n      <td>0.075189</td>\n      <td>0.000000</td>\n    </tr>\n    <tr>\n      <th>15</th>\n      <td>TR200 Packaging Line</td>\n      <td>2021-04-11</td>\n      <td>0.366955</td>\n      <td>0.291765</td>\n    </tr>\n    <tr>\n      <th>26</th>\n      <td>TR200 Packaging Line</td>\n      <td>2021-04-18</td>\n      <td>0.130089</td>\n      <td>-0.236865</td>\n    </tr>\n    <tr>\n      <th>48</th>\n      <td>TR200 Packaging Line</td>\n      <td>2021-04-25</td>\n      <td>0.036253</td>\n      <td>-0.093836</td>\n    </tr>\n    <tr>\n      <th>55</th>\n      <td>TR200 Packaging Line</td>\n      <td>2021-05-02</td>\n      <td>0.158523</td>\n      <td>0.122270</td>\n    </tr>\n    <tr>\n      <th>69</th>\n      <td>TR200 Packaging Line</td>\n      <td>2021-05-09</td>\n      <td>0.143708</td>\n      <td>-0.014815</td>\n    </tr>\n    <tr>\n      <th>96</th>\n      <td>TR200 Packaging Line</td>\n      <td>2021-05-16</td>\n      <td>0.144646</td>\n      <td>0.000938</td>\n    </tr>\n    <tr>\n      <th>106</th>\n      <td>TR200 Packaging Line</td>\n      <td>2021-05-23</td>\n      <td>0.196068</td>\n      <td>0.051422</td>\n    </tr>\n    <tr>\n      <th>118</th>\n      <td>TR200 Packaging Line</td>\n      <td>2021-05-30</td>\n      <td>0.163872</td>\n      <td>-0.032196</td>\n    </tr>\n    <tr>\n      <th>137</th>\n      <td>TR200 Packaging Line</td>\n      <td>2021-06-06</td>\n      <td>0.057577</td>\n      <td>-0.106295</td>\n    </tr>\n    <tr>\n      <th>153</th>\n      <td>TR200 Packaging Line</td>\n      <td>2021-06-13</td>\n      <td>0.116895</td>\n      <td>0.059318</td>\n    </tr>\n    <tr>\n      <th>162</th>\n      <td>TR200 Packaging Line</td>\n      <td>2021-06-20</td>\n      <td>0.264205</td>\n      <td>0.147309</td>\n    </tr>\n    <tr>\n      <th>177</th>\n      <td>TR200 Packaging Line</td>\n      <td>2021-06-27</td>\n      <td>0.038517</td>\n      <td>-0.225688</td>\n    </tr>\n    <tr>\n      <th>193</th>\n      <td>TR200 Packaging Line</td>\n      <td>2021-07-04</td>\n      <td>NaN</td>\n      <td>0.000000</td>\n    </tr>\n  </tbody>\n</table>\n</div>"
     },
     "metadata": {},
     "execution_count": 67
    }
   ],
   "source": [
    "Changeover_Diff[Changeover_Diff.Line.str.contains('TR200')]"
   ]
  },
  {
   "cell_type": "code",
   "execution_count": 68,
   "metadata": {},
   "outputs": [],
   "source": [
    "# Changeover_mean = df_weekly.sort_values(by=['Line', 'Date'])[['Line','Date','Changeover','start_changeover']]\n",
    "Changeover_mean = df_weekly.sort_values(by=['Line', 'Date'])[['Line','Date','Changeover']]\n",
    "Changeover_mean['Changeover_rolling_mean'] = Changeover_mean.groupby('Line')['Changeover'].apply(lambda x : x.rolling(4,1).mean())\n",
    "df_weekly = df_weekly.merge(Changeover_mean[[\"Line\",\"Date\",\"Changeover_rolling_mean\"]], on=([\"Line\",\"Date\"]))"
   ]
  },
  {
   "cell_type": "code",
   "execution_count": 69,
   "metadata": {},
   "outputs": [
    {
     "output_type": "execute_result",
     "data": {
      "text/plain": [
       "                     Line       Date  Changeover  Changeover_rolling_mean\n",
       "4    TR200 Packaging Line 2021-04-04    0.075189                 0.075189\n",
       "15   TR200 Packaging Line 2021-04-11    0.366955                 0.221072\n",
       "26   TR200 Packaging Line 2021-04-18    0.130089                 0.190744\n",
       "48   TR200 Packaging Line 2021-04-25    0.036253                 0.152122\n",
       "55   TR200 Packaging Line 2021-05-02    0.158523                 0.172955\n",
       "69   TR200 Packaging Line 2021-05-09    0.143708                 0.117143\n",
       "96   TR200 Packaging Line 2021-05-16    0.144646                 0.120783\n",
       "106  TR200 Packaging Line 2021-05-23    0.196068                 0.160736\n",
       "118  TR200 Packaging Line 2021-05-30    0.163872                 0.162074\n",
       "137  TR200 Packaging Line 2021-06-06    0.057577                 0.140541\n",
       "153  TR200 Packaging Line 2021-06-13    0.116895                 0.133603\n",
       "162  TR200 Packaging Line 2021-06-20    0.264205                 0.150637\n",
       "177  TR200 Packaging Line 2021-06-27    0.038517                 0.119299\n",
       "193  TR200 Packaging Line 2021-07-04         NaN                 0.139872"
      ],
      "text/html": "<div>\n<style scoped>\n    .dataframe tbody tr th:only-of-type {\n        vertical-align: middle;\n    }\n\n    .dataframe tbody tr th {\n        vertical-align: top;\n    }\n\n    .dataframe thead th {\n        text-align: right;\n    }\n</style>\n<table border=\"1\" class=\"dataframe\">\n  <thead>\n    <tr style=\"text-align: right;\">\n      <th></th>\n      <th>Line</th>\n      <th>Date</th>\n      <th>Changeover</th>\n      <th>Changeover_rolling_mean</th>\n    </tr>\n  </thead>\n  <tbody>\n    <tr>\n      <th>4</th>\n      <td>TR200 Packaging Line</td>\n      <td>2021-04-04</td>\n      <td>0.075189</td>\n      <td>0.075189</td>\n    </tr>\n    <tr>\n      <th>15</th>\n      <td>TR200 Packaging Line</td>\n      <td>2021-04-11</td>\n      <td>0.366955</td>\n      <td>0.221072</td>\n    </tr>\n    <tr>\n      <th>26</th>\n      <td>TR200 Packaging Line</td>\n      <td>2021-04-18</td>\n      <td>0.130089</td>\n      <td>0.190744</td>\n    </tr>\n    <tr>\n      <th>48</th>\n      <td>TR200 Packaging Line</td>\n      <td>2021-04-25</td>\n      <td>0.036253</td>\n      <td>0.152122</td>\n    </tr>\n    <tr>\n      <th>55</th>\n      <td>TR200 Packaging Line</td>\n      <td>2021-05-02</td>\n      <td>0.158523</td>\n      <td>0.172955</td>\n    </tr>\n    <tr>\n      <th>69</th>\n      <td>TR200 Packaging Line</td>\n      <td>2021-05-09</td>\n      <td>0.143708</td>\n      <td>0.117143</td>\n    </tr>\n    <tr>\n      <th>96</th>\n      <td>TR200 Packaging Line</td>\n      <td>2021-05-16</td>\n      <td>0.144646</td>\n      <td>0.120783</td>\n    </tr>\n    <tr>\n      <th>106</th>\n      <td>TR200 Packaging Line</td>\n      <td>2021-05-23</td>\n      <td>0.196068</td>\n      <td>0.160736</td>\n    </tr>\n    <tr>\n      <th>118</th>\n      <td>TR200 Packaging Line</td>\n      <td>2021-05-30</td>\n      <td>0.163872</td>\n      <td>0.162074</td>\n    </tr>\n    <tr>\n      <th>137</th>\n      <td>TR200 Packaging Line</td>\n      <td>2021-06-06</td>\n      <td>0.057577</td>\n      <td>0.140541</td>\n    </tr>\n    <tr>\n      <th>153</th>\n      <td>TR200 Packaging Line</td>\n      <td>2021-06-13</td>\n      <td>0.116895</td>\n      <td>0.133603</td>\n    </tr>\n    <tr>\n      <th>162</th>\n      <td>TR200 Packaging Line</td>\n      <td>2021-06-20</td>\n      <td>0.264205</td>\n      <td>0.150637</td>\n    </tr>\n    <tr>\n      <th>177</th>\n      <td>TR200 Packaging Line</td>\n      <td>2021-06-27</td>\n      <td>0.038517</td>\n      <td>0.119299</td>\n    </tr>\n    <tr>\n      <th>193</th>\n      <td>TR200 Packaging Line</td>\n      <td>2021-07-04</td>\n      <td>NaN</td>\n      <td>0.139872</td>\n    </tr>\n  </tbody>\n</table>\n</div>"
     },
     "metadata": {},
     "execution_count": 69
    }
   ],
   "source": [
    "Changeover_mean[Changeover_mean.Line.str.contains('TR200')]"
   ]
  },
  {
   "cell_type": "markdown",
   "metadata": {},
   "source": [
    "#### Populate missing Unplanned Tech Loss\n",
    "\n",
    "- Create weekly min/max cols for Unplanned tech loss from any site   \n",
    "- Merge those columns into df_weekly   \n",
    "- fill any NaN rows with the max Unplanned_tech_loss found for that week   \n",
    "\n",
    "**this might be flawed!!** "
   ]
  },
  {
   "cell_type": "code",
   "execution_count": 70,
   "metadata": {},
   "outputs": [
    {
     "output_type": "execute_result",
     "data": {
      "text/plain": [
       "         Week                  Line     OEE %  WeekOfYear    Year       Date  \\\n",
       "0    W13-2021     C2 Packaging Line  0.458414        13.0  2021.0 2021-04-04   \n",
       "1    W13-2021    L18 Packaging Line  0.465923        13.0  2021.0 2021-04-04   \n",
       "2    W13-2021             IMA C80/2  0.581304        13.0  2021.0 2021-04-04   \n",
       "3    W13-2021                   AL6  0.367897        13.0  2021.0 2021-04-04   \n",
       "4    W13-2021  TR200 Packaging Line  0.596432        13.0  2021.0 2021-04-04   \n",
       "..        ...                   ...       ...         ...     ...        ...   \n",
       "197  W26-2021                GAMMA1  0.491885        26.0  2021.0 2021-07-04   \n",
       "198  W26-2021     C9 Packaging Line  0.406623        26.0  2021.0 2021-07-04   \n",
       "199  W26-2021    L18 Packaging Line  0.411426        26.0  2021.0 2021-07-04   \n",
       "200  W26-2021    L25 Packaging Line  0.381273        26.0  2021.0 2021-07-04   \n",
       "201  W26-2021           M18 Filling  0.000000        26.0  2021.0 2021-07-04   \n",
       "\n",
       "              Plant  OEE  Start point  OEE% Target (2022)  \\\n",
       "0    Maisons-Alfort          0.397503               0.470   \n",
       "1             Tours          0.377683               0.547   \n",
       "2          SCOPPITO          0.451031               0.580   \n",
       "3         Frankfurt          0.332657               0.450   \n",
       "4           Lisieux          0.483505               0.650   \n",
       "..              ...               ...                 ...   \n",
       "197        SCOPPITO          0.418683               0.570   \n",
       "198  Maisons-Alfort          0.528518               0.530   \n",
       "199           Tours          0.377683               0.547   \n",
       "200           Tours          0.351564               0.478   \n",
       "201       Frankfurt          0.443522               0.650   \n",
       "\n",
       "     Unplanned_tech_loss  ...  rolling_std  Best Solution  Best Innovation  \\\n",
       "0               0.465009  ...          NaN            NaN              NaN   \n",
       "1               0.208273  ...          NaN            NaN              NaN   \n",
       "2               0.224561  ...          NaN            NaN              NaN   \n",
       "3               0.342851  ...          NaN            NaN              NaN   \n",
       "4               0.163573  ...          NaN            NaN              NaN   \n",
       "..                   ...  ...          ...            ...              ...   \n",
       "197             0.143339  ...     0.055086            0.0              0.0   \n",
       "198             0.452948  ...     0.081720            0.0              0.0   \n",
       "199             0.185620  ...     0.053623            0.0              0.0   \n",
       "200             0.192098  ...     0.019916            0.0              0.0   \n",
       "201             0.000000  ...     0.320648            0.0              0.0   \n",
       "\n",
       "     Improvement Iterations  Lessons and Sharing  \\\n",
       "0                       NaN                  NaN   \n",
       "1                       NaN                  NaN   \n",
       "2                       NaN                  NaN   \n",
       "3                       NaN                  NaN   \n",
       "4                       NaN                  NaN   \n",
       "..                      ...                  ...   \n",
       "197                     0.0                  0.0   \n",
       "198                     0.0                  0.0   \n",
       "199                     0.0                  0.0   \n",
       "200                     0.0                  0.0   \n",
       "201                     0.0                  0.0   \n",
       "\n",
       "     Team Contribution and Spirit  Review_Date  OEE_Diff  Changeover_Diff  \\\n",
       "0                             NaN   2021-04-15  0.060911         0.000000   \n",
       "1                             NaN   2021-04-15  0.088240         0.000000   \n",
       "2                             NaN   2021-04-15  0.130272         0.000000   \n",
       "3                             NaN   2021-04-15  0.035240         0.000000   \n",
       "4                             NaN   2021-04-15  0.112928         0.000000   \n",
       "..                            ...          ...       ...              ...   \n",
       "197                           0.0   2021-07-08 -0.111172         0.000000   \n",
       "198                           0.0   2021-07-08 -0.082118        -0.057612   \n",
       "199                           0.0   2021-07-08 -0.081630         0.037749   \n",
       "200                           0.0   2021-07-08  0.036620        -0.031079   \n",
       "201                           0.0   2021-07-08 -0.620440         0.958811   \n",
       "\n",
       "     Changeover_rolling_mean  \n",
       "0                   0.044140  \n",
       "1                   0.134271  \n",
       "2                   0.070836  \n",
       "3                   0.184958  \n",
       "4                   0.075189  \n",
       "..                       ...  \n",
       "197                 0.219199  \n",
       "198                 0.064467  \n",
       "199                 0.183051  \n",
       "200                 0.252406  \n",
       "201                 0.279900  \n",
       "\n",
       "[202 rows x 21 columns]"
      ],
      "text/html": "<div>\n<style scoped>\n    .dataframe tbody tr th:only-of-type {\n        vertical-align: middle;\n    }\n\n    .dataframe tbody tr th {\n        vertical-align: top;\n    }\n\n    .dataframe thead th {\n        text-align: right;\n    }\n</style>\n<table border=\"1\" class=\"dataframe\">\n  <thead>\n    <tr style=\"text-align: right;\">\n      <th></th>\n      <th>Week</th>\n      <th>Line</th>\n      <th>OEE %</th>\n      <th>WeekOfYear</th>\n      <th>Year</th>\n      <th>Date</th>\n      <th>Plant</th>\n      <th>OEE  Start point</th>\n      <th>OEE% Target (2022)</th>\n      <th>Unplanned_tech_loss</th>\n      <th>...</th>\n      <th>rolling_std</th>\n      <th>Best Solution</th>\n      <th>Best Innovation</th>\n      <th>Improvement Iterations</th>\n      <th>Lessons and Sharing</th>\n      <th>Team Contribution and Spirit</th>\n      <th>Review_Date</th>\n      <th>OEE_Diff</th>\n      <th>Changeover_Diff</th>\n      <th>Changeover_rolling_mean</th>\n    </tr>\n  </thead>\n  <tbody>\n    <tr>\n      <th>0</th>\n      <td>W13-2021</td>\n      <td>C2 Packaging Line</td>\n      <td>0.458414</td>\n      <td>13.0</td>\n      <td>2021.0</td>\n      <td>2021-04-04</td>\n      <td>Maisons-Alfort</td>\n      <td>0.397503</td>\n      <td>0.470</td>\n      <td>0.465009</td>\n      <td>...</td>\n      <td>NaN</td>\n      <td>NaN</td>\n      <td>NaN</td>\n      <td>NaN</td>\n      <td>NaN</td>\n      <td>NaN</td>\n      <td>2021-04-15</td>\n      <td>0.060911</td>\n      <td>0.000000</td>\n      <td>0.044140</td>\n    </tr>\n    <tr>\n      <th>1</th>\n      <td>W13-2021</td>\n      <td>L18 Packaging Line</td>\n      <td>0.465923</td>\n      <td>13.0</td>\n      <td>2021.0</td>\n      <td>2021-04-04</td>\n      <td>Tours</td>\n      <td>0.377683</td>\n      <td>0.547</td>\n      <td>0.208273</td>\n      <td>...</td>\n      <td>NaN</td>\n      <td>NaN</td>\n      <td>NaN</td>\n      <td>NaN</td>\n      <td>NaN</td>\n      <td>NaN</td>\n      <td>2021-04-15</td>\n      <td>0.088240</td>\n      <td>0.000000</td>\n      <td>0.134271</td>\n    </tr>\n    <tr>\n      <th>2</th>\n      <td>W13-2021</td>\n      <td>IMA C80/2</td>\n      <td>0.581304</td>\n      <td>13.0</td>\n      <td>2021.0</td>\n      <td>2021-04-04</td>\n      <td>SCOPPITO</td>\n      <td>0.451031</td>\n      <td>0.580</td>\n      <td>0.224561</td>\n      <td>...</td>\n      <td>NaN</td>\n      <td>NaN</td>\n      <td>NaN</td>\n      <td>NaN</td>\n      <td>NaN</td>\n      <td>NaN</td>\n      <td>2021-04-15</td>\n      <td>0.130272</td>\n      <td>0.000000</td>\n      <td>0.070836</td>\n    </tr>\n    <tr>\n      <th>3</th>\n      <td>W13-2021</td>\n      <td>AL6</td>\n      <td>0.367897</td>\n      <td>13.0</td>\n      <td>2021.0</td>\n      <td>2021-04-04</td>\n      <td>Frankfurt</td>\n      <td>0.332657</td>\n      <td>0.450</td>\n      <td>0.342851</td>\n      <td>...</td>\n      <td>NaN</td>\n      <td>NaN</td>\n      <td>NaN</td>\n      <td>NaN</td>\n      <td>NaN</td>\n      <td>NaN</td>\n      <td>2021-04-15</td>\n      <td>0.035240</td>\n      <td>0.000000</td>\n      <td>0.184958</td>\n    </tr>\n    <tr>\n      <th>4</th>\n      <td>W13-2021</td>\n      <td>TR200 Packaging Line</td>\n      <td>0.596432</td>\n      <td>13.0</td>\n      <td>2021.0</td>\n      <td>2021-04-04</td>\n      <td>Lisieux</td>\n      <td>0.483505</td>\n      <td>0.650</td>\n      <td>0.163573</td>\n      <td>...</td>\n      <td>NaN</td>\n      <td>NaN</td>\n      <td>NaN</td>\n      <td>NaN</td>\n      <td>NaN</td>\n      <td>NaN</td>\n      <td>2021-04-15</td>\n      <td>0.112928</td>\n      <td>0.000000</td>\n      <td>0.075189</td>\n    </tr>\n    <tr>\n      <th>...</th>\n      <td>...</td>\n      <td>...</td>\n      <td>...</td>\n      <td>...</td>\n      <td>...</td>\n      <td>...</td>\n      <td>...</td>\n      <td>...</td>\n      <td>...</td>\n      <td>...</td>\n      <td>...</td>\n      <td>...</td>\n      <td>...</td>\n      <td>...</td>\n      <td>...</td>\n      <td>...</td>\n      <td>...</td>\n      <td>...</td>\n      <td>...</td>\n      <td>...</td>\n      <td>...</td>\n    </tr>\n    <tr>\n      <th>197</th>\n      <td>W26-2021</td>\n      <td>GAMMA1</td>\n      <td>0.491885</td>\n      <td>26.0</td>\n      <td>2021.0</td>\n      <td>2021-07-04</td>\n      <td>SCOPPITO</td>\n      <td>0.418683</td>\n      <td>0.570</td>\n      <td>0.143339</td>\n      <td>...</td>\n      <td>0.055086</td>\n      <td>0.0</td>\n      <td>0.0</td>\n      <td>0.0</td>\n      <td>0.0</td>\n      <td>0.0</td>\n      <td>2021-07-08</td>\n      <td>-0.111172</td>\n      <td>0.000000</td>\n      <td>0.219199</td>\n    </tr>\n    <tr>\n      <th>198</th>\n      <td>W26-2021</td>\n      <td>C9 Packaging Line</td>\n      <td>0.406623</td>\n      <td>26.0</td>\n      <td>2021.0</td>\n      <td>2021-07-04</td>\n      <td>Maisons-Alfort</td>\n      <td>0.528518</td>\n      <td>0.530</td>\n      <td>0.452948</td>\n      <td>...</td>\n      <td>0.081720</td>\n      <td>0.0</td>\n      <td>0.0</td>\n      <td>0.0</td>\n      <td>0.0</td>\n      <td>0.0</td>\n      <td>2021-07-08</td>\n      <td>-0.082118</td>\n      <td>-0.057612</td>\n      <td>0.064467</td>\n    </tr>\n    <tr>\n      <th>199</th>\n      <td>W26-2021</td>\n      <td>L18 Packaging Line</td>\n      <td>0.411426</td>\n      <td>26.0</td>\n      <td>2021.0</td>\n      <td>2021-07-04</td>\n      <td>Tours</td>\n      <td>0.377683</td>\n      <td>0.547</td>\n      <td>0.185620</td>\n      <td>...</td>\n      <td>0.053623</td>\n      <td>0.0</td>\n      <td>0.0</td>\n      <td>0.0</td>\n      <td>0.0</td>\n      <td>0.0</td>\n      <td>2021-07-08</td>\n      <td>-0.081630</td>\n      <td>0.037749</td>\n      <td>0.183051</td>\n    </tr>\n    <tr>\n      <th>200</th>\n      <td>W26-2021</td>\n      <td>L25 Packaging Line</td>\n      <td>0.381273</td>\n      <td>26.0</td>\n      <td>2021.0</td>\n      <td>2021-07-04</td>\n      <td>Tours</td>\n      <td>0.351564</td>\n      <td>0.478</td>\n      <td>0.192098</td>\n      <td>...</td>\n      <td>0.019916</td>\n      <td>0.0</td>\n      <td>0.0</td>\n      <td>0.0</td>\n      <td>0.0</td>\n      <td>0.0</td>\n      <td>2021-07-08</td>\n      <td>0.036620</td>\n      <td>-0.031079</td>\n      <td>0.252406</td>\n    </tr>\n    <tr>\n      <th>201</th>\n      <td>W26-2021</td>\n      <td>M18 Filling</td>\n      <td>0.000000</td>\n      <td>26.0</td>\n      <td>2021.0</td>\n      <td>2021-07-04</td>\n      <td>Frankfurt</td>\n      <td>0.443522</td>\n      <td>0.650</td>\n      <td>0.000000</td>\n      <td>...</td>\n      <td>0.320648</td>\n      <td>0.0</td>\n      <td>0.0</td>\n      <td>0.0</td>\n      <td>0.0</td>\n      <td>0.0</td>\n      <td>2021-07-08</td>\n      <td>-0.620440</td>\n      <td>0.958811</td>\n      <td>0.279900</td>\n    </tr>\n  </tbody>\n</table>\n<p>202 rows × 21 columns</p>\n</div>"
     },
     "metadata": {},
     "execution_count": 70
    }
   ],
   "source": [
    "df_weekly_minmax = (df_weekly.assign(Data_Value=df_weekly['Unplanned_tech_loss'].abs())\n",
    "       .groupby(pd.Grouper(key='Date',freq='W'))['Unplanned_tech_loss'].agg([('Min' , 'min'), ('Max', 'max')])\n",
    "       .add_prefix('WeekUTL'))\n",
    "df_weekly_minmax.reset_index(inplace=True)\n",
    "df_weekly = df_weekly.merge(df_weekly_minmax[['Date','WeekUTLMin','WeekUTLMax']])\n",
    "df_weekly['Unplanned_tech_loss'].fillna(df_weekly.WeekUTLMax, inplace=True)\n",
    "df_weekly.drop(columns=['WeekUTLMin','WeekUTLMax'], inplace=True)\n",
    "df_weekly"
   ]
  },
  {
   "cell_type": "markdown",
   "metadata": {},
   "source": [
    "#### Populate missing Changeover \n",
    "\n",
    "Now, this doesn't really work!  Sometimes the max value changeover for the week is 100%, and there isn't any correlation in my calc between OEE + Changeover + unplanned outage being < 100% ...\n",
    "\n",
    "...but I don't think we're using/relying on changeover figure for sector calcs here or in tableau.  Going to remove these rows below."
   ]
  },
  {
   "cell_type": "code",
   "execution_count": 71,
   "metadata": {},
   "outputs": [
    {
     "output_type": "execute_result",
     "data": {
      "text/plain": [
       "         Week                  Line     OEE %  WeekOfYear    Year       Date  \\\n",
       "0    W13-2021     C2 Packaging Line  0.458414        13.0  2021.0 2021-04-04   \n",
       "1    W13-2021    L18 Packaging Line  0.465923        13.0  2021.0 2021-04-04   \n",
       "2    W13-2021             IMA C80/2  0.581304        13.0  2021.0 2021-04-04   \n",
       "3    W13-2021                   AL6  0.367897        13.0  2021.0 2021-04-04   \n",
       "4    W13-2021  TR200 Packaging Line  0.596432        13.0  2021.0 2021-04-04   \n",
       "..        ...                   ...       ...         ...     ...        ...   \n",
       "197  W26-2021                GAMMA1  0.491885        26.0  2021.0 2021-07-04   \n",
       "198  W26-2021     C9 Packaging Line  0.406623        26.0  2021.0 2021-07-04   \n",
       "199  W26-2021    L18 Packaging Line  0.411426        26.0  2021.0 2021-07-04   \n",
       "200  W26-2021    L25 Packaging Line  0.381273        26.0  2021.0 2021-07-04   \n",
       "201  W26-2021           M18 Filling  0.000000        26.0  2021.0 2021-07-04   \n",
       "\n",
       "              Plant  OEE  Start point  OEE% Target (2022)  \\\n",
       "0    Maisons-Alfort          0.397503               0.470   \n",
       "1             Tours          0.377683               0.547   \n",
       "2          SCOPPITO          0.451031               0.580   \n",
       "3         Frankfurt          0.332657               0.450   \n",
       "4           Lisieux          0.483505               0.650   \n",
       "..              ...               ...                 ...   \n",
       "197        SCOPPITO          0.418683               0.570   \n",
       "198  Maisons-Alfort          0.528518               0.530   \n",
       "199           Tours          0.377683               0.547   \n",
       "200           Tours          0.351564               0.478   \n",
       "201       Frankfurt          0.443522               0.650   \n",
       "\n",
       "     Unplanned_tech_loss  ...  rolling_std  Best Solution  Best Innovation  \\\n",
       "0               0.465009  ...          NaN            NaN              NaN   \n",
       "1               0.208273  ...          NaN            NaN              NaN   \n",
       "2               0.224561  ...          NaN            NaN              NaN   \n",
       "3               0.342851  ...          NaN            NaN              NaN   \n",
       "4               0.163573  ...          NaN            NaN              NaN   \n",
       "..                   ...  ...          ...            ...              ...   \n",
       "197             0.143339  ...     0.055086            0.0              0.0   \n",
       "198             0.452948  ...     0.081720            0.0              0.0   \n",
       "199             0.185620  ...     0.053623            0.0              0.0   \n",
       "200             0.192098  ...     0.019916            0.0              0.0   \n",
       "201             0.000000  ...     0.320648            0.0              0.0   \n",
       "\n",
       "     Improvement Iterations  Lessons and Sharing  \\\n",
       "0                       NaN                  NaN   \n",
       "1                       NaN                  NaN   \n",
       "2                       NaN                  NaN   \n",
       "3                       NaN                  NaN   \n",
       "4                       NaN                  NaN   \n",
       "..                      ...                  ...   \n",
       "197                     0.0                  0.0   \n",
       "198                     0.0                  0.0   \n",
       "199                     0.0                  0.0   \n",
       "200                     0.0                  0.0   \n",
       "201                     0.0                  0.0   \n",
       "\n",
       "     Team Contribution and Spirit  Review_Date  OEE_Diff  Changeover_Diff  \\\n",
       "0                             NaN   2021-04-15  0.060911         0.000000   \n",
       "1                             NaN   2021-04-15  0.088240         0.000000   \n",
       "2                             NaN   2021-04-15  0.130272         0.000000   \n",
       "3                             NaN   2021-04-15  0.035240         0.000000   \n",
       "4                             NaN   2021-04-15  0.112928         0.000000   \n",
       "..                            ...          ...       ...              ...   \n",
       "197                           0.0   2021-07-08 -0.111172         0.000000   \n",
       "198                           0.0   2021-07-08 -0.082118        -0.057612   \n",
       "199                           0.0   2021-07-08 -0.081630         0.037749   \n",
       "200                           0.0   2021-07-08  0.036620        -0.031079   \n",
       "201                           0.0   2021-07-08 -0.620440         0.958811   \n",
       "\n",
       "     Changeover_rolling_mean  \n",
       "0                   0.044140  \n",
       "1                   0.134271  \n",
       "2                   0.070836  \n",
       "3                   0.184958  \n",
       "4                   0.075189  \n",
       "..                       ...  \n",
       "197                 0.219199  \n",
       "198                 0.064467  \n",
       "199                 0.183051  \n",
       "200                 0.252406  \n",
       "201                 0.279900  \n",
       "\n",
       "[202 rows x 21 columns]"
      ],
      "text/html": "<div>\n<style scoped>\n    .dataframe tbody tr th:only-of-type {\n        vertical-align: middle;\n    }\n\n    .dataframe tbody tr th {\n        vertical-align: top;\n    }\n\n    .dataframe thead th {\n        text-align: right;\n    }\n</style>\n<table border=\"1\" class=\"dataframe\">\n  <thead>\n    <tr style=\"text-align: right;\">\n      <th></th>\n      <th>Week</th>\n      <th>Line</th>\n      <th>OEE %</th>\n      <th>WeekOfYear</th>\n      <th>Year</th>\n      <th>Date</th>\n      <th>Plant</th>\n      <th>OEE  Start point</th>\n      <th>OEE% Target (2022)</th>\n      <th>Unplanned_tech_loss</th>\n      <th>...</th>\n      <th>rolling_std</th>\n      <th>Best Solution</th>\n      <th>Best Innovation</th>\n      <th>Improvement Iterations</th>\n      <th>Lessons and Sharing</th>\n      <th>Team Contribution and Spirit</th>\n      <th>Review_Date</th>\n      <th>OEE_Diff</th>\n      <th>Changeover_Diff</th>\n      <th>Changeover_rolling_mean</th>\n    </tr>\n  </thead>\n  <tbody>\n    <tr>\n      <th>0</th>\n      <td>W13-2021</td>\n      <td>C2 Packaging Line</td>\n      <td>0.458414</td>\n      <td>13.0</td>\n      <td>2021.0</td>\n      <td>2021-04-04</td>\n      <td>Maisons-Alfort</td>\n      <td>0.397503</td>\n      <td>0.470</td>\n      <td>0.465009</td>\n      <td>...</td>\n      <td>NaN</td>\n      <td>NaN</td>\n      <td>NaN</td>\n      <td>NaN</td>\n      <td>NaN</td>\n      <td>NaN</td>\n      <td>2021-04-15</td>\n      <td>0.060911</td>\n      <td>0.000000</td>\n      <td>0.044140</td>\n    </tr>\n    <tr>\n      <th>1</th>\n      <td>W13-2021</td>\n      <td>L18 Packaging Line</td>\n      <td>0.465923</td>\n      <td>13.0</td>\n      <td>2021.0</td>\n      <td>2021-04-04</td>\n      <td>Tours</td>\n      <td>0.377683</td>\n      <td>0.547</td>\n      <td>0.208273</td>\n      <td>...</td>\n      <td>NaN</td>\n      <td>NaN</td>\n      <td>NaN</td>\n      <td>NaN</td>\n      <td>NaN</td>\n      <td>NaN</td>\n      <td>2021-04-15</td>\n      <td>0.088240</td>\n      <td>0.000000</td>\n      <td>0.134271</td>\n    </tr>\n    <tr>\n      <th>2</th>\n      <td>W13-2021</td>\n      <td>IMA C80/2</td>\n      <td>0.581304</td>\n      <td>13.0</td>\n      <td>2021.0</td>\n      <td>2021-04-04</td>\n      <td>SCOPPITO</td>\n      <td>0.451031</td>\n      <td>0.580</td>\n      <td>0.224561</td>\n      <td>...</td>\n      <td>NaN</td>\n      <td>NaN</td>\n      <td>NaN</td>\n      <td>NaN</td>\n      <td>NaN</td>\n      <td>NaN</td>\n      <td>2021-04-15</td>\n      <td>0.130272</td>\n      <td>0.000000</td>\n      <td>0.070836</td>\n    </tr>\n    <tr>\n      <th>3</th>\n      <td>W13-2021</td>\n      <td>AL6</td>\n      <td>0.367897</td>\n      <td>13.0</td>\n      <td>2021.0</td>\n      <td>2021-04-04</td>\n      <td>Frankfurt</td>\n      <td>0.332657</td>\n      <td>0.450</td>\n      <td>0.342851</td>\n      <td>...</td>\n      <td>NaN</td>\n      <td>NaN</td>\n      <td>NaN</td>\n      <td>NaN</td>\n      <td>NaN</td>\n      <td>NaN</td>\n      <td>2021-04-15</td>\n      <td>0.035240</td>\n      <td>0.000000</td>\n      <td>0.184958</td>\n    </tr>\n    <tr>\n      <th>4</th>\n      <td>W13-2021</td>\n      <td>TR200 Packaging Line</td>\n      <td>0.596432</td>\n      <td>13.0</td>\n      <td>2021.0</td>\n      <td>2021-04-04</td>\n      <td>Lisieux</td>\n      <td>0.483505</td>\n      <td>0.650</td>\n      <td>0.163573</td>\n      <td>...</td>\n      <td>NaN</td>\n      <td>NaN</td>\n      <td>NaN</td>\n      <td>NaN</td>\n      <td>NaN</td>\n      <td>NaN</td>\n      <td>2021-04-15</td>\n      <td>0.112928</td>\n      <td>0.000000</td>\n      <td>0.075189</td>\n    </tr>\n    <tr>\n      <th>...</th>\n      <td>...</td>\n      <td>...</td>\n      <td>...</td>\n      <td>...</td>\n      <td>...</td>\n      <td>...</td>\n      <td>...</td>\n      <td>...</td>\n      <td>...</td>\n      <td>...</td>\n      <td>...</td>\n      <td>...</td>\n      <td>...</td>\n      <td>...</td>\n      <td>...</td>\n      <td>...</td>\n      <td>...</td>\n      <td>...</td>\n      <td>...</td>\n      <td>...</td>\n      <td>...</td>\n    </tr>\n    <tr>\n      <th>197</th>\n      <td>W26-2021</td>\n      <td>GAMMA1</td>\n      <td>0.491885</td>\n      <td>26.0</td>\n      <td>2021.0</td>\n      <td>2021-07-04</td>\n      <td>SCOPPITO</td>\n      <td>0.418683</td>\n      <td>0.570</td>\n      <td>0.143339</td>\n      <td>...</td>\n      <td>0.055086</td>\n      <td>0.0</td>\n      <td>0.0</td>\n      <td>0.0</td>\n      <td>0.0</td>\n      <td>0.0</td>\n      <td>2021-07-08</td>\n      <td>-0.111172</td>\n      <td>0.000000</td>\n      <td>0.219199</td>\n    </tr>\n    <tr>\n      <th>198</th>\n      <td>W26-2021</td>\n      <td>C9 Packaging Line</td>\n      <td>0.406623</td>\n      <td>26.0</td>\n      <td>2021.0</td>\n      <td>2021-07-04</td>\n      <td>Maisons-Alfort</td>\n      <td>0.528518</td>\n      <td>0.530</td>\n      <td>0.452948</td>\n      <td>...</td>\n      <td>0.081720</td>\n      <td>0.0</td>\n      <td>0.0</td>\n      <td>0.0</td>\n      <td>0.0</td>\n      <td>0.0</td>\n      <td>2021-07-08</td>\n      <td>-0.082118</td>\n      <td>-0.057612</td>\n      <td>0.064467</td>\n    </tr>\n    <tr>\n      <th>199</th>\n      <td>W26-2021</td>\n      <td>L18 Packaging Line</td>\n      <td>0.411426</td>\n      <td>26.0</td>\n      <td>2021.0</td>\n      <td>2021-07-04</td>\n      <td>Tours</td>\n      <td>0.377683</td>\n      <td>0.547</td>\n      <td>0.185620</td>\n      <td>...</td>\n      <td>0.053623</td>\n      <td>0.0</td>\n      <td>0.0</td>\n      <td>0.0</td>\n      <td>0.0</td>\n      <td>0.0</td>\n      <td>2021-07-08</td>\n      <td>-0.081630</td>\n      <td>0.037749</td>\n      <td>0.183051</td>\n    </tr>\n    <tr>\n      <th>200</th>\n      <td>W26-2021</td>\n      <td>L25 Packaging Line</td>\n      <td>0.381273</td>\n      <td>26.0</td>\n      <td>2021.0</td>\n      <td>2021-07-04</td>\n      <td>Tours</td>\n      <td>0.351564</td>\n      <td>0.478</td>\n      <td>0.192098</td>\n      <td>...</td>\n      <td>0.019916</td>\n      <td>0.0</td>\n      <td>0.0</td>\n      <td>0.0</td>\n      <td>0.0</td>\n      <td>0.0</td>\n      <td>2021-07-08</td>\n      <td>0.036620</td>\n      <td>-0.031079</td>\n      <td>0.252406</td>\n    </tr>\n    <tr>\n      <th>201</th>\n      <td>W26-2021</td>\n      <td>M18 Filling</td>\n      <td>0.000000</td>\n      <td>26.0</td>\n      <td>2021.0</td>\n      <td>2021-07-04</td>\n      <td>Frankfurt</td>\n      <td>0.443522</td>\n      <td>0.650</td>\n      <td>0.000000</td>\n      <td>...</td>\n      <td>0.320648</td>\n      <td>0.0</td>\n      <td>0.0</td>\n      <td>0.0</td>\n      <td>0.0</td>\n      <td>0.0</td>\n      <td>2021-07-08</td>\n      <td>-0.620440</td>\n      <td>0.958811</td>\n      <td>0.279900</td>\n    </tr>\n  </tbody>\n</table>\n<p>202 rows × 21 columns</p>\n</div>"
     },
     "metadata": {},
     "execution_count": 71
    }
   ],
   "source": [
    "df_weekly_minmax = (df_weekly.assign(Data_Value=df_weekly['Changeover'].abs())\n",
    "       .groupby(pd.Grouper(key='Date',freq='W'))['Changeover'].agg([('Min' , 'min'), ('Max', 'max')])\n",
    "       .add_prefix('WeekChangeover'))\n",
    "df_weekly_minmax.reset_index(inplace=True)\n",
    "df_weekly = df_weekly.merge(df_weekly_minmax[['Date','WeekChangeoverMin','WeekChangeoverMax']])\n",
    "df_weekly['Changeover'].fillna(df_weekly.WeekChangeoverMax, inplace=True)\n",
    "df_weekly.drop(columns=['WeekChangeoverMin','WeekChangeoverMax'], inplace=True)\n",
    "df_weekly"
   ]
  },
  {
   "cell_type": "markdown",
   "metadata": {},
   "source": [
    "#### Populate missing start_changeover (NaN)\n",
    "If we've got this far and you still don't have a start_changeover, then you're a new site and can have this week's Changeover value"
   ]
  },
  {
   "cell_type": "markdown",
   "metadata": {},
   "source": [
    "These rows still have NaN Changeover values"
   ]
  },
  {
   "cell_type": "code",
   "execution_count": 72,
   "metadata": {},
   "outputs": [
    {
     "output_type": "execute_result",
     "data": {
      "text/plain": [
       "Empty DataFrame\n",
       "Columns: [Line, Date, Changeover]\n",
       "Index: []"
      ],
      "text/html": "<div>\n<style scoped>\n    .dataframe tbody tr th:only-of-type {\n        vertical-align: middle;\n    }\n\n    .dataframe tbody tr th {\n        vertical-align: top;\n    }\n\n    .dataframe thead th {\n        text-align: right;\n    }\n</style>\n<table border=\"1\" class=\"dataframe\">\n  <thead>\n    <tr style=\"text-align: right;\">\n      <th></th>\n      <th>Line</th>\n      <th>Date</th>\n      <th>Changeover</th>\n    </tr>\n  </thead>\n  <tbody>\n  </tbody>\n</table>\n</div>"
     },
     "metadata": {},
     "execution_count": 72
    }
   ],
   "source": [
    "df_weekly[['Line','Date','Changeover']][df_weekly['Changeover'].isna()]"
   ]
  },
  {
   "cell_type": "code",
   "execution_count": 73,
   "metadata": {},
   "outputs": [],
   "source": [
    "# df_weekly.start_changeover.fillna(df_weekly.Changeover, inplace=True)\n",
    "df_weekly['OEE  Start point'].fillna(df_weekly['OEE %'], inplace=True)\n",
    "df_weekly['OEE% Target (2022)'].fillna(0.65, inplace=True)"
   ]
  },
  {
   "source": [
    "### Calculating Sector times\n",
    "\n",
    "\n",
    "The lap time is a sum of the calculated sector scores + the pole position time from the F1 race data (eg for Paul Ricard it was 88 secs):\n",
    "\n",
    "\n",
    "\n",
    "Sector [1-4] calculations   \n",
    "**sector 1**\n",
    "How much has your OEE increased / decreased?  Sum difference between each week and multiply total by -1.  This provides a negative figure to subtract from your laptime, so that larger OEE increase is rewarded with a bigger reduction in laptime\n",
    "\n",
    "df_weekly['sector_1'] = df_weekly['OEE_Diff'].mul(-1)\n",
    "\n",
    "OEE_Diff calculation\n",
    "- Sort values by Line and Date\n",
    "- Find the difference between each weekly OEE figure\n",
    "- ~~Fill NaN values from missing OEE figures with the weekly OEE minus OEE Start Point for that site~~   \n",
    "- any missing OEE figures will already be populated with previous week's value or the start OEE value\n",
    "\n",
    "\n",
    "**Sector 2** \n",
    "How big was your rolling std deviation this period, over the previous 4 weeks std dev?  \n",
    "\n",
    "df_weekly['sector_2'] = df_weekly['rolling_std']\n",
    "\n",
    "rolling_std = rolling std deviation for past 4 weeks for each site\n",
    "\n",
    "\n",
    " \n",
    "**Sector 3**\n",
    "We want to reduce Unplanned tech loss (recorded as % of OEE) Unplanned tech loss is calculated within QlikSense but missing values sometimes.  Fill the missing values and then display the average Unplanned tech loss :\n",
    "\n",
    "df_weekly['sector_3'] = df_weekly['Unplanned_tech_loss']\n",
    "\n",
    "\n",
    "Populate missing unplanned tech loss:\n",
    "- Create weekly min/max cols for Unplanned tech loss from any site\n",
    "- Merge those columns into df_weekly\n",
    "- fill any NaN unplanned tech loss rows with the max OEE calc'd for that week (bigger is worse)\n",
    "\n",
    " \n",
    "**Sector 4**\n",
    "We're trying to reduce changeover time (recorded as % of OEE).  \n",
    "Start changeover value isn't provided, so calc our own start point for each Line using the average changeover in 2021 up to 30 April, 2021.\n",
    "   \n",
    "start_changeover_calc = df_weekly[['Plant','Line','Changeover']][df_weekly['Date'] < '2021-04-30'].groupby(['Plant','Line']).mean().reset_index()\n",
    "start_changeover_calc.rename(columns={'Changeover':'start_changeover'}, inplace=True)\n",
    "df_weekly = df_weekly.merge(start_changeover_calc[['Line','start_changeover']])\n",
    "\n",
    "\n",
    "\n",
    "df_weekly['sector_4'] = df_weekly['Changeover_rolling_mean']\n",
    "\n",
    "Changeover_mean = df_weekly.sort_values(by=['Line', 'Date'])[['Line', 'Date', 'Changeover', 'start_changeover']]   \n",
    "Changeover_mean['Changeover_rolling_mean'] = Changeover_mean.groupby('Line')['Changeover'].apply(lambda x : x.rolling(4,1).mean())\n",
    "df_weekly = df_weekly.merge(Changeover_mean[[\"Line\",\"Date\",\"Changeover_rolling_mean\"]], on=([\"Line\",\"Date\"]))\n",
    "\n",
    "\n",
    "\n",
    "**Clean the sectors of NaN before summing them**   \n",
    "Sometimes, when we haven't got enough information for pct_change calcs, we were getting no values coming through for the lap_time.  We should make sure there is a value in each of the sectors, otherwise there is an unfair advantage by not having data available.  Find all NaN values and replace with the mean for that column(sector)\n",
    "\n",
    "**Sectors 5 - 9**   \n",
    "These scores are taken from the Nomination process.  Read in the Nomination s/s, merge any values we find with df_weekly, replace all NaN (missing) values with 0, and reduce the scores we find to 10% of their original value.  This value is then subtracted from the lap_time - so the better you do in the nominations the more your lap_time gets reduced by.\n",
    "\n",
    " \n",
    "**lap_time**   \n",
    "df_weekly['lap_time'] = df_weekly[['sector_1','sector_2','sector_3','sector_4','sector_5','sector_6','sector_7','sector_8','sector_9']].sum(axis=1)"
   ],
   "cell_type": "markdown",
   "metadata": {}
  },
  {
   "cell_type": "code",
   "execution_count": 74,
   "metadata": {},
   "outputs": [
    {
     "output_type": "execute_result",
     "data": {
      "text/plain": [
       "Line                  Date      \n",
       "AL5 Packaging 1       2021-04-04    0.708660\n",
       "                      2021-04-11    0.540053\n",
       "                      2021-04-18    0.449241\n",
       "                      2021-04-25    0.134643\n",
       "                      2021-05-02    0.593747\n",
       "                                      ...   \n",
       "TR200 Packaging Line  2021-06-06    0.162536\n",
       "                      2021-06-13    0.704221\n",
       "                      2021-06-20    0.635328\n",
       "                      2021-06-27    0.297245\n",
       "                      2021-07-04    0.892840\n",
       "Name: lap_time, Length: 202, dtype: float64"
      ]
     },
     "metadata": {},
     "execution_count": 74
    }
   ],
   "source": [
    "# df_weekly['sector_1'] = (df_weekly['WeekMax'] - df_weekly['OEE %'])\n",
    "# df_weekly['sector_1'] = (df_weekly['OEE  Start point'] - df_weekly['OEE %'])\n",
    "df_weekly['sector_1'] = df_weekly['OEE_Diff'].mul(-1)\n",
    "df_weekly['sector_2'] = df_weekly['rolling_std']\n",
    "df_weekly['sector_3'] = df_weekly['Unplanned_tech_loss']\n",
    "# df_weekly['sector_4'] = (df_weekly['start_changeover'] - df_weekly['Changeover'])\n",
    "# df_weekly['sector_4'] = (df_weekly['Changeover'] - df_weekly['start_changeover'])\n",
    "df_weekly['sector_4'] = df_weekly['Changeover_rolling_mean']\n",
    "# take 10% of the sector5-9 scores \n",
    "df_weekly[['sector_5','sector_6','sector_7','sector_8','sector_9']] = df_weekly[['Best Solution','Best Innovation','Improvement Iterations','Lessons and Sharing','Team Contribution and Spirit']] * -0.1\n",
    "df_weekly[['sector_5','sector_6','sector_7','sector_8','sector_9']] = df_weekly[['sector_5','sector_6','sector_7','sector_8','sector_9']].fillna(0)\n",
    "\n",
    "# we'll use these in the absence of values for a sector\n",
    "df_weekly[['sector_1','sector_2','sector_3','sector_4']] = df_weekly[['sector_1','sector_2','sector_3','sector_4']].fillna(df_weekly[['sector_1','sector_2','sector_3','sector_4']].mean())\n",
    "\n",
    "#this will sum and handle the NaN\n",
    "df_weekly['lap_time'] = df_weekly[['sector_1','sector_2','sector_3','sector_4','sector_5','sector_6','sector_7','sector_8','sector_9']].sum(axis=1)\n",
    "\n",
    "# now add the pole['Laptime'] from fastf1 to the lap_time adjustment we've created\n",
    "# just use 88 secs rather than playing with timedeltas for now\n",
    "# df_weekly['lap_time'] = pole['LapTime'] + pd.to_timedelta(df_weekly['lap_time'], unit='S')\n",
    "# df_weekly['lap_time'] = 88 + df_weekly['lap_time']\n",
    "df_weekly.groupby(['Line', pd.Grouper(key='Date', freq='W')])['lap_time'].sum()\n",
    "# print (df_weekly['sector_1_time'] , df_weekly['sector_2_time'] , df_weekly['sector_3_time'], df_weekly['sector_4_time'])"
   ]
  },
  {
   "cell_type": "markdown",
   "metadata": {},
   "source": [
    "#### Write out df_weekly to excel"
   ]
  },
  {
   "cell_type": "code",
   "execution_count": 75,
   "metadata": {},
   "outputs": [],
   "source": [
    "df_weekly.to_excel(output_dir + \"df_weekly_with_calcs.xlsx\")"
   ]
  },
  {
   "cell_type": "markdown",
   "metadata": {},
   "source": [
    "#### Monthly Calcs\n",
    "\n",
    "Repeat the process for a df_monthly spreadsheet.  We will use this for calculating the Leader board  \n",
    "group df_weekly by review_date so we can get the right data for each review meeting"
   ]
  },
  {
   "cell_type": "code",
   "execution_count": 76,
   "metadata": {
    "scrolled": true
   },
   "outputs": [
    {
     "output_type": "execute_result",
     "data": {
      "text/plain": [
       "        Date               Line   lap_time\n",
       "0 2021-04-15    AL5 Packaging 1  89.248712\n",
       "1 2021-04-15                AL6  89.137846\n",
       "2 2021-04-15  C2 Packaging Line  88.952682\n",
       "3 2021-04-15  C9 Packaging Line  89.021271\n",
       "4 2021-04-15             GAMMA1  89.153563"
      ],
      "text/html": "<div>\n<style scoped>\n    .dataframe tbody tr th:only-of-type {\n        vertical-align: middle;\n    }\n\n    .dataframe tbody tr th {\n        vertical-align: top;\n    }\n\n    .dataframe thead th {\n        text-align: right;\n    }\n</style>\n<table border=\"1\" class=\"dataframe\">\n  <thead>\n    <tr style=\"text-align: right;\">\n      <th></th>\n      <th>Date</th>\n      <th>Line</th>\n      <th>lap_time</th>\n    </tr>\n  </thead>\n  <tbody>\n    <tr>\n      <th>0</th>\n      <td>2021-04-15</td>\n      <td>AL5 Packaging 1</td>\n      <td>89.248712</td>\n    </tr>\n    <tr>\n      <th>1</th>\n      <td>2021-04-15</td>\n      <td>AL6</td>\n      <td>89.137846</td>\n    </tr>\n    <tr>\n      <th>2</th>\n      <td>2021-04-15</td>\n      <td>C2 Packaging Line</td>\n      <td>88.952682</td>\n    </tr>\n    <tr>\n      <th>3</th>\n      <td>2021-04-15</td>\n      <td>C9 Packaging Line</td>\n      <td>89.021271</td>\n    </tr>\n    <tr>\n      <th>4</th>\n      <td>2021-04-15</td>\n      <td>GAMMA1</td>\n      <td>89.153563</td>\n    </tr>\n  </tbody>\n</table>\n</div>"
     },
     "metadata": {},
     "execution_count": 76
    }
   ],
   "source": [
    "# df_monthly = df_weekly.groupby([pd.Grouper(key='Date',freq='M'),'Line'])[['start_changeover','OEE  Start point','OEE %','Unplanned_tech_loss','Changeover','rolling_std','techloss_pct_chg','Changeover_pct_chg']].mean().reset_index()\n",
    "# df_monthly = df_weekly.groupby([pd.Grouper(key='Date',freq='M'),'Line']).lap_time.sum().reset_index()\n",
    "df_monthly = df_weekly.groupby(['Review_Date','Line']).lap_time.sum().reset_index()\n",
    "# change the name of review_date to save renaming all references to Date later\n",
    "df_monthly = df_monthly.rename(columns={'Review_Date':'Date'})\n",
    "df_monthly['lap_time'] = df_monthly['lap_time'] + 88\n",
    "df_monthly.head()"
   ]
  },
  {
   "cell_type": "markdown",
   "metadata": {},
   "source": [
    "### Leader board table"
   ]
  },
  {
   "cell_type": "code",
   "execution_count": 78,
   "metadata": {},
   "outputs": [
    {
     "output_type": "execute_result",
     "data": {
      "text/plain": [
       "                      Line  2021-04-15 00:00:00  2021-05-13 00:00:00  \\\n",
       "0                   GAMMA1            89.153563            69.325767   \n",
       "1                IMA C80/2            88.910252            69.256522   \n",
       "2       L18 Packaging Line            88.847299            74.226704   \n",
       "3       L25 Packaging Line            88.849775            74.908842   \n",
       "4              M22 Filling            88.953983            81.806345   \n",
       "5              M21 Filling            89.248712            83.742378   \n",
       "6              M18 Filling            89.960465            82.596174   \n",
       "7                      AL6            89.137846            90.323044   \n",
       "8     SUPPO Packaging Line            88.585379            89.604811   \n",
       "9   LINE 01 - UHLMANN 1880            89.960465            88.525497   \n",
       "10    TR200 Packaging Line            88.710407            89.591164   \n",
       "11          MEDISEAL PURAN            89.960465            89.019996   \n",
       "12         AL5 Packaging 1            89.248712            89.725754   \n",
       "13       C9 Packaging Line            89.021271            89.747841   \n",
       "14       C2 Packaging Line            88.952682            90.451874   \n",
       "\n",
       "    2021-06-10 00:00:00  2021-07-08 00:00:00   race_time  prev_race_time  \\\n",
       "0             68.226756            89.979194  316.685280      226.706086   \n",
       "1             75.232693            89.674113  323.073580      233.399467   \n",
       "2             89.407996            89.425327  341.907326      252.481999   \n",
       "3             90.011979            89.862601  343.633196      253.770595   \n",
       "4             84.857670            89.522488  345.140486      255.617998   \n",
       "5             84.767181            89.760825  347.519096      257.758271   \n",
       "6             85.446232            90.979137  348.982009      258.002872   \n",
       "7             84.205598            89.902144  353.568632      263.666488   \n",
       "8             89.904755            89.318502  357.413446      268.094944   \n",
       "9             89.636847            89.547483  357.670293      268.122809   \n",
       "10            89.381941            90.529634  358.213147      267.683513   \n",
       "11            89.838256            89.971539  358.790255      268.818717   \n",
       "12            90.495004            89.559946  359.029416      269.469470   \n",
       "13            90.361488            90.130804  359.261404      269.130601   \n",
       "14            90.261138            90.622942  360.288637      269.665695   \n",
       "\n",
       "             Plant  position  gap_to_leader  prev_position  Gain/Loss  \\\n",
       "0         SCOPPITO         1       0.000000              1          0   \n",
       "1         SCOPPITO         2       6.388299              2          0   \n",
       "2            Tours         3      25.222045              3          0   \n",
       "3            Tours         4      26.947916              4          0   \n",
       "4        Frankfurt         5      28.455206              5          0   \n",
       "5        Frankfurt         6      30.833816              6          0   \n",
       "6        Frankfurt         7      32.296728              7          0   \n",
       "7        Frankfurt         8      36.883352              8          0   \n",
       "8          Lisieux         9      40.728166             10          1   \n",
       "9           SUZANO        10      40.985013             11          1   \n",
       "10         Lisieux        11      41.527866              9         -2   \n",
       "11          SUZANO        12      42.104975             12          0   \n",
       "12       Frankfurt        13      42.344136             14          1   \n",
       "13  Maisons-Alfort        14      42.576124             13         -1   \n",
       "14  Maisons-Alfort        15      43.603356             15          0   \n",
       "\n",
       "     interval  OEE  Start point  ⇗ OEE% progress  OEE% Target (2022)  \n",
       "0         NaN          0.418683         0.085148               0.570  \n",
       "1    6.388299          0.451031         0.043365               0.580  \n",
       "2   18.833746          0.377683         0.086173               0.547  \n",
       "3    1.725871          0.351564         0.001613               0.478  \n",
       "4    1.507290          0.530068         0.120280               0.650  \n",
       "5    2.378610          0.599671         0.022006               0.650  \n",
       "6    1.462913          0.443522        -0.010057               0.650  \n",
       "7    4.586623          0.332657         0.078541               0.450  \n",
       "8    3.844814          0.353021        -0.010676               0.530  \n",
       "9    0.256846          0.427854         0.015085               0.650  \n",
       "10   0.542854          0.483505         0.120926               0.650  \n",
       "11   0.577109          0.592206        -0.025165               0.650  \n",
       "12   0.239161          0.479693        -0.187473               0.500  \n",
       "13   0.231988          0.528518        -0.019492               0.530  \n",
       "14   1.027232          0.397503         0.012193               0.470  "
      ],
      "text/html": "<div>\n<style scoped>\n    .dataframe tbody tr th:only-of-type {\n        vertical-align: middle;\n    }\n\n    .dataframe tbody tr th {\n        vertical-align: top;\n    }\n\n    .dataframe thead th {\n        text-align: right;\n    }\n</style>\n<table border=\"1\" class=\"dataframe\">\n  <thead>\n    <tr style=\"text-align: right;\">\n      <th></th>\n      <th>Line</th>\n      <th>2021-04-15 00:00:00</th>\n      <th>2021-05-13 00:00:00</th>\n      <th>2021-06-10 00:00:00</th>\n      <th>2021-07-08 00:00:00</th>\n      <th>race_time</th>\n      <th>prev_race_time</th>\n      <th>Plant</th>\n      <th>position</th>\n      <th>gap_to_leader</th>\n      <th>prev_position</th>\n      <th>Gain/Loss</th>\n      <th>interval</th>\n      <th>OEE  Start point</th>\n      <th>⇗ OEE% progress</th>\n      <th>OEE% Target (2022)</th>\n    </tr>\n  </thead>\n  <tbody>\n    <tr>\n      <th>0</th>\n      <td>GAMMA1</td>\n      <td>89.153563</td>\n      <td>69.325767</td>\n      <td>68.226756</td>\n      <td>89.979194</td>\n      <td>316.685280</td>\n      <td>226.706086</td>\n      <td>SCOPPITO</td>\n      <td>1</td>\n      <td>0.000000</td>\n      <td>1</td>\n      <td>0</td>\n      <td>NaN</td>\n      <td>0.418683</td>\n      <td>0.085148</td>\n      <td>0.570</td>\n    </tr>\n    <tr>\n      <th>1</th>\n      <td>IMA C80/2</td>\n      <td>88.910252</td>\n      <td>69.256522</td>\n      <td>75.232693</td>\n      <td>89.674113</td>\n      <td>323.073580</td>\n      <td>233.399467</td>\n      <td>SCOPPITO</td>\n      <td>2</td>\n      <td>6.388299</td>\n      <td>2</td>\n      <td>0</td>\n      <td>6.388299</td>\n      <td>0.451031</td>\n      <td>0.043365</td>\n      <td>0.580</td>\n    </tr>\n    <tr>\n      <th>2</th>\n      <td>L18 Packaging Line</td>\n      <td>88.847299</td>\n      <td>74.226704</td>\n      <td>89.407996</td>\n      <td>89.425327</td>\n      <td>341.907326</td>\n      <td>252.481999</td>\n      <td>Tours</td>\n      <td>3</td>\n      <td>25.222045</td>\n      <td>3</td>\n      <td>0</td>\n      <td>18.833746</td>\n      <td>0.377683</td>\n      <td>0.086173</td>\n      <td>0.547</td>\n    </tr>\n    <tr>\n      <th>3</th>\n      <td>L25 Packaging Line</td>\n      <td>88.849775</td>\n      <td>74.908842</td>\n      <td>90.011979</td>\n      <td>89.862601</td>\n      <td>343.633196</td>\n      <td>253.770595</td>\n      <td>Tours</td>\n      <td>4</td>\n      <td>26.947916</td>\n      <td>4</td>\n      <td>0</td>\n      <td>1.725871</td>\n      <td>0.351564</td>\n      <td>0.001613</td>\n      <td>0.478</td>\n    </tr>\n    <tr>\n      <th>4</th>\n      <td>M22 Filling</td>\n      <td>88.953983</td>\n      <td>81.806345</td>\n      <td>84.857670</td>\n      <td>89.522488</td>\n      <td>345.140486</td>\n      <td>255.617998</td>\n      <td>Frankfurt</td>\n      <td>5</td>\n      <td>28.455206</td>\n      <td>5</td>\n      <td>0</td>\n      <td>1.507290</td>\n      <td>0.530068</td>\n      <td>0.120280</td>\n      <td>0.650</td>\n    </tr>\n    <tr>\n      <th>5</th>\n      <td>M21 Filling</td>\n      <td>89.248712</td>\n      <td>83.742378</td>\n      <td>84.767181</td>\n      <td>89.760825</td>\n      <td>347.519096</td>\n      <td>257.758271</td>\n      <td>Frankfurt</td>\n      <td>6</td>\n      <td>30.833816</td>\n      <td>6</td>\n      <td>0</td>\n      <td>2.378610</td>\n      <td>0.599671</td>\n      <td>0.022006</td>\n      <td>0.650</td>\n    </tr>\n    <tr>\n      <th>6</th>\n      <td>M18 Filling</td>\n      <td>89.960465</td>\n      <td>82.596174</td>\n      <td>85.446232</td>\n      <td>90.979137</td>\n      <td>348.982009</td>\n      <td>258.002872</td>\n      <td>Frankfurt</td>\n      <td>7</td>\n      <td>32.296728</td>\n      <td>7</td>\n      <td>0</td>\n      <td>1.462913</td>\n      <td>0.443522</td>\n      <td>-0.010057</td>\n      <td>0.650</td>\n    </tr>\n    <tr>\n      <th>7</th>\n      <td>AL6</td>\n      <td>89.137846</td>\n      <td>90.323044</td>\n      <td>84.205598</td>\n      <td>89.902144</td>\n      <td>353.568632</td>\n      <td>263.666488</td>\n      <td>Frankfurt</td>\n      <td>8</td>\n      <td>36.883352</td>\n      <td>8</td>\n      <td>0</td>\n      <td>4.586623</td>\n      <td>0.332657</td>\n      <td>0.078541</td>\n      <td>0.450</td>\n    </tr>\n    <tr>\n      <th>8</th>\n      <td>SUPPO Packaging Line</td>\n      <td>88.585379</td>\n      <td>89.604811</td>\n      <td>89.904755</td>\n      <td>89.318502</td>\n      <td>357.413446</td>\n      <td>268.094944</td>\n      <td>Lisieux</td>\n      <td>9</td>\n      <td>40.728166</td>\n      <td>10</td>\n      <td>1</td>\n      <td>3.844814</td>\n      <td>0.353021</td>\n      <td>-0.010676</td>\n      <td>0.530</td>\n    </tr>\n    <tr>\n      <th>9</th>\n      <td>LINE 01 - UHLMANN 1880</td>\n      <td>89.960465</td>\n      <td>88.525497</td>\n      <td>89.636847</td>\n      <td>89.547483</td>\n      <td>357.670293</td>\n      <td>268.122809</td>\n      <td>SUZANO</td>\n      <td>10</td>\n      <td>40.985013</td>\n      <td>11</td>\n      <td>1</td>\n      <td>0.256846</td>\n      <td>0.427854</td>\n      <td>0.015085</td>\n      <td>0.650</td>\n    </tr>\n    <tr>\n      <th>10</th>\n      <td>TR200 Packaging Line</td>\n      <td>88.710407</td>\n      <td>89.591164</td>\n      <td>89.381941</td>\n      <td>90.529634</td>\n      <td>358.213147</td>\n      <td>267.683513</td>\n      <td>Lisieux</td>\n      <td>11</td>\n      <td>41.527866</td>\n      <td>9</td>\n      <td>-2</td>\n      <td>0.542854</td>\n      <td>0.483505</td>\n      <td>0.120926</td>\n      <td>0.650</td>\n    </tr>\n    <tr>\n      <th>11</th>\n      <td>MEDISEAL PURAN</td>\n      <td>89.960465</td>\n      <td>89.019996</td>\n      <td>89.838256</td>\n      <td>89.971539</td>\n      <td>358.790255</td>\n      <td>268.818717</td>\n      <td>SUZANO</td>\n      <td>12</td>\n      <td>42.104975</td>\n      <td>12</td>\n      <td>0</td>\n      <td>0.577109</td>\n      <td>0.592206</td>\n      <td>-0.025165</td>\n      <td>0.650</td>\n    </tr>\n    <tr>\n      <th>12</th>\n      <td>AL5 Packaging 1</td>\n      <td>89.248712</td>\n      <td>89.725754</td>\n      <td>90.495004</td>\n      <td>89.559946</td>\n      <td>359.029416</td>\n      <td>269.469470</td>\n      <td>Frankfurt</td>\n      <td>13</td>\n      <td>42.344136</td>\n      <td>14</td>\n      <td>1</td>\n      <td>0.239161</td>\n      <td>0.479693</td>\n      <td>-0.187473</td>\n      <td>0.500</td>\n    </tr>\n    <tr>\n      <th>13</th>\n      <td>C9 Packaging Line</td>\n      <td>89.021271</td>\n      <td>89.747841</td>\n      <td>90.361488</td>\n      <td>90.130804</td>\n      <td>359.261404</td>\n      <td>269.130601</td>\n      <td>Maisons-Alfort</td>\n      <td>14</td>\n      <td>42.576124</td>\n      <td>13</td>\n      <td>-1</td>\n      <td>0.231988</td>\n      <td>0.528518</td>\n      <td>-0.019492</td>\n      <td>0.530</td>\n    </tr>\n    <tr>\n      <th>14</th>\n      <td>C2 Packaging Line</td>\n      <td>88.952682</td>\n      <td>90.451874</td>\n      <td>90.261138</td>\n      <td>90.622942</td>\n      <td>360.288637</td>\n      <td>269.665695</td>\n      <td>Maisons-Alfort</td>\n      <td>15</td>\n      <td>43.603356</td>\n      <td>15</td>\n      <td>0</td>\n      <td>1.027232</td>\n      <td>0.397503</td>\n      <td>0.012193</td>\n      <td>0.470</td>\n    </tr>\n  </tbody>\n</table>\n</div>"
     },
     "metadata": {},
     "execution_count": 78
    }
   ],
   "source": [
    "# filter using the end_date to stop picking up future dated nomination rows of zero I created when joining the s/s\n",
    "# pivot = df_monthly[df_monthly['Date'] < end_date].pivot(index='Line', columns='Date', values='lap_time')\n",
    "pivot = df_monthly.pivot(index='Line', columns='Date', values='lap_time')\n",
    "pivot.reset_index(inplace=True)\n",
    "# pivot creates NaN for rows with no monthly data for each race review data\n",
    "# populate each NaN value with the max for that column - so they get the max laptime for that race\n",
    "# we can search for cols [1:] and find all cols after Date and Line\n",
    "pivot.iloc[:,1:] = pivot.iloc[:,1:].fillna(pivot.iloc[:,1:].max())\n",
    "\n",
    "# sum all the columns to get a race_time\n",
    "pivot['race_time'] = pivot.sum(axis=1)\n",
    "# sum all but the last 2 cols (this lap and the race_time) to calc prev_race_time\n",
    "\n",
    "# pivot['prev_race_time'] = pivot[pivot.columns[2]] + pivot[pivot.columns[3]]\n",
    "pivot['prev_race_time'] = pivot.iloc[:,1:-2].sum(axis=1)\n",
    "\n",
    "pivot = pivot.merge(df_dash[['Plant','Line']], on='Line')\n",
    "pivot.sort_values('race_time', inplace=True)\n",
    "pivot['position'] = np.arange(1,len(pivot) + 1)\n",
    "pivot['gap_to_leader'] = pivot['race_time'] - pivot['race_time'].iloc[0]\n",
    "pivot.sort_values('prev_race_time', inplace=True)\n",
    "pivot['prev_position'] = np.arange(1,len(pivot) + 1)\n",
    "pivot['Gain/Loss'] = pivot.prev_position - pivot.position\n",
    "pivot.sort_values('race_time', inplace=True)\n",
    "pivot['interval'] = pivot.race_time.diff()\n",
    "pivot = pivot.merge(df_dash[['Line','OEE  Start point', '⇗ OEE% progress', 'OEE% Target (2022)']], on='Line')\n",
    "pivot"
   ]
  },
  {
   "cell_type": "markdown",
   "metadata": {},
   "source": [
    "#### write this out for tableau"
   ]
  },
  {
   "cell_type": "code",
   "execution_count": 79,
   "metadata": {},
   "outputs": [],
   "source": [
    "pivot.to_csv(output_dir + \"leaderboard.csv\")\n",
    "pivot.to_excel(output_dir + \"leaderboard.xlsx\")"
   ]
  },
  {
   "cell_type": "markdown",
   "metadata": {},
   "source": [
    "# END OF PROCESSING - Sanity checks below"
   ]
  },
  {
   "cell_type": "code",
   "execution_count": 80,
   "metadata": {},
   "outputs": [],
   "source": [
    "pivot.sort_values(pivot.columns[1], inplace=True)\n",
    "pivot['apr_position'] = np.arange(1,len(pivot) + 1)\n",
    "pivot['temp_race_time'] = pivot[pivot.columns[[1,2]]].sum(axis=1)\n",
    "pivot.sort_values(by='temp_race_time', inplace=True)\n",
    "pivot['may_position'] = np.arange(1,len(pivot) + 1)\n",
    "pivot['temp_race_time'] = pivot[pivot.columns[[1,2,3]]].sum(axis=1)\n",
    "pivot.sort_values(by='temp_race_time', inplace=True)\n",
    "pivot['jun_position'] = np.arange(1,len(pivot) + 1)\n",
    "pivot['temp_race_time'] = pivot[pivot.columns[[1,2,3,4]]].sum(axis=1)\n",
    "pivot.sort_values(by='temp_race_time', inplace=True)\n",
    "pivot['jly_position'] = np.arange(1,len(pivot) + 1)"
   ]
  },
  {
   "cell_type": "code",
   "execution_count": 81,
   "metadata": {
    "scrolled": true
   },
   "outputs": [
    {
     "output_type": "execute_result",
     "data": {
      "text/plain": [
       "                      Line  2021-04-15 00:00:00  2021-05-13 00:00:00  \\\n",
       "0                   GAMMA1            89.153563            69.325767   \n",
       "1                IMA C80/2            88.910252            69.256522   \n",
       "2       L18 Packaging Line            88.847299            74.226704   \n",
       "3       L25 Packaging Line            88.849775            74.908842   \n",
       "4              M22 Filling            88.953983            81.806345   \n",
       "5              M21 Filling            89.248712            83.742378   \n",
       "6              M18 Filling            89.960465            82.596174   \n",
       "7                      AL6            89.137846            90.323044   \n",
       "8     SUPPO Packaging Line            88.585379            89.604811   \n",
       "9   LINE 01 - UHLMANN 1880            89.960465            88.525497   \n",
       "10    TR200 Packaging Line            88.710407            89.591164   \n",
       "11          MEDISEAL PURAN            89.960465            89.019996   \n",
       "12         AL5 Packaging 1            89.248712            89.725754   \n",
       "13       C9 Packaging Line            89.021271            89.747841   \n",
       "14       C2 Packaging Line            88.952682            90.451874   \n",
       "\n",
       "    2021-06-10 00:00:00  2021-07-08 00:00:00  position  prev_position  \\\n",
       "0             68.226756            89.979194         1              1   \n",
       "1             75.232693            89.674113         2              2   \n",
       "2             89.407996            89.425327         3              3   \n",
       "3             90.011979            89.862601         4              4   \n",
       "4             84.857670            89.522488         5              5   \n",
       "5             84.767181            89.760825         6              6   \n",
       "6             85.446232            90.979137         7              7   \n",
       "7             84.205598            89.902144         8              8   \n",
       "8             89.904755            89.318502         9             10   \n",
       "9             89.636847            89.547483        10             11   \n",
       "10            89.381941            90.529634        11              9   \n",
       "11            89.838256            89.971539        12             12   \n",
       "12            90.495004            89.559946        13             14   \n",
       "13            90.361488            90.130804        14             13   \n",
       "14            90.261138            90.622942        15             15   \n",
       "\n",
       "    apr_position  may_position  jun_position  jly_position  \n",
       "0             10             2             1             1  \n",
       "1              5             1             2             2  \n",
       "2              3             3             3             3  \n",
       "3              4             4             4             4  \n",
       "4              7             5             5             5  \n",
       "5             11             7             6             6  \n",
       "6             13             6             7             7  \n",
       "7              9            15             8             8  \n",
       "8              1             8            10             9  \n",
       "9             14            10            11            10  \n",
       "10             2             9             9            11  \n",
       "11            15            13            12            12  \n",
       "12            12            12            14            13  \n",
       "13             8            11            13            14  \n",
       "14             6            14            15            15  "
      ],
      "text/html": "<div>\n<style scoped>\n    .dataframe tbody tr th:only-of-type {\n        vertical-align: middle;\n    }\n\n    .dataframe tbody tr th {\n        vertical-align: top;\n    }\n\n    .dataframe thead th {\n        text-align: right;\n    }\n</style>\n<table border=\"1\" class=\"dataframe\">\n  <thead>\n    <tr style=\"text-align: right;\">\n      <th></th>\n      <th>Line</th>\n      <th>2021-04-15 00:00:00</th>\n      <th>2021-05-13 00:00:00</th>\n      <th>2021-06-10 00:00:00</th>\n      <th>2021-07-08 00:00:00</th>\n      <th>position</th>\n      <th>prev_position</th>\n      <th>apr_position</th>\n      <th>may_position</th>\n      <th>jun_position</th>\n      <th>jly_position</th>\n    </tr>\n  </thead>\n  <tbody>\n    <tr>\n      <th>0</th>\n      <td>GAMMA1</td>\n      <td>89.153563</td>\n      <td>69.325767</td>\n      <td>68.226756</td>\n      <td>89.979194</td>\n      <td>1</td>\n      <td>1</td>\n      <td>10</td>\n      <td>2</td>\n      <td>1</td>\n      <td>1</td>\n    </tr>\n    <tr>\n      <th>1</th>\n      <td>IMA C80/2</td>\n      <td>88.910252</td>\n      <td>69.256522</td>\n      <td>75.232693</td>\n      <td>89.674113</td>\n      <td>2</td>\n      <td>2</td>\n      <td>5</td>\n      <td>1</td>\n      <td>2</td>\n      <td>2</td>\n    </tr>\n    <tr>\n      <th>2</th>\n      <td>L18 Packaging Line</td>\n      <td>88.847299</td>\n      <td>74.226704</td>\n      <td>89.407996</td>\n      <td>89.425327</td>\n      <td>3</td>\n      <td>3</td>\n      <td>3</td>\n      <td>3</td>\n      <td>3</td>\n      <td>3</td>\n    </tr>\n    <tr>\n      <th>3</th>\n      <td>L25 Packaging Line</td>\n      <td>88.849775</td>\n      <td>74.908842</td>\n      <td>90.011979</td>\n      <td>89.862601</td>\n      <td>4</td>\n      <td>4</td>\n      <td>4</td>\n      <td>4</td>\n      <td>4</td>\n      <td>4</td>\n    </tr>\n    <tr>\n      <th>4</th>\n      <td>M22 Filling</td>\n      <td>88.953983</td>\n      <td>81.806345</td>\n      <td>84.857670</td>\n      <td>89.522488</td>\n      <td>5</td>\n      <td>5</td>\n      <td>7</td>\n      <td>5</td>\n      <td>5</td>\n      <td>5</td>\n    </tr>\n    <tr>\n      <th>5</th>\n      <td>M21 Filling</td>\n      <td>89.248712</td>\n      <td>83.742378</td>\n      <td>84.767181</td>\n      <td>89.760825</td>\n      <td>6</td>\n      <td>6</td>\n      <td>11</td>\n      <td>7</td>\n      <td>6</td>\n      <td>6</td>\n    </tr>\n    <tr>\n      <th>6</th>\n      <td>M18 Filling</td>\n      <td>89.960465</td>\n      <td>82.596174</td>\n      <td>85.446232</td>\n      <td>90.979137</td>\n      <td>7</td>\n      <td>7</td>\n      <td>13</td>\n      <td>6</td>\n      <td>7</td>\n      <td>7</td>\n    </tr>\n    <tr>\n      <th>7</th>\n      <td>AL6</td>\n      <td>89.137846</td>\n      <td>90.323044</td>\n      <td>84.205598</td>\n      <td>89.902144</td>\n      <td>8</td>\n      <td>8</td>\n      <td>9</td>\n      <td>15</td>\n      <td>8</td>\n      <td>8</td>\n    </tr>\n    <tr>\n      <th>8</th>\n      <td>SUPPO Packaging Line</td>\n      <td>88.585379</td>\n      <td>89.604811</td>\n      <td>89.904755</td>\n      <td>89.318502</td>\n      <td>9</td>\n      <td>10</td>\n      <td>1</td>\n      <td>8</td>\n      <td>10</td>\n      <td>9</td>\n    </tr>\n    <tr>\n      <th>9</th>\n      <td>LINE 01 - UHLMANN 1880</td>\n      <td>89.960465</td>\n      <td>88.525497</td>\n      <td>89.636847</td>\n      <td>89.547483</td>\n      <td>10</td>\n      <td>11</td>\n      <td>14</td>\n      <td>10</td>\n      <td>11</td>\n      <td>10</td>\n    </tr>\n    <tr>\n      <th>10</th>\n      <td>TR200 Packaging Line</td>\n      <td>88.710407</td>\n      <td>89.591164</td>\n      <td>89.381941</td>\n      <td>90.529634</td>\n      <td>11</td>\n      <td>9</td>\n      <td>2</td>\n      <td>9</td>\n      <td>9</td>\n      <td>11</td>\n    </tr>\n    <tr>\n      <th>11</th>\n      <td>MEDISEAL PURAN</td>\n      <td>89.960465</td>\n      <td>89.019996</td>\n      <td>89.838256</td>\n      <td>89.971539</td>\n      <td>12</td>\n      <td>12</td>\n      <td>15</td>\n      <td>13</td>\n      <td>12</td>\n      <td>12</td>\n    </tr>\n    <tr>\n      <th>12</th>\n      <td>AL5 Packaging 1</td>\n      <td>89.248712</td>\n      <td>89.725754</td>\n      <td>90.495004</td>\n      <td>89.559946</td>\n      <td>13</td>\n      <td>14</td>\n      <td>12</td>\n      <td>12</td>\n      <td>14</td>\n      <td>13</td>\n    </tr>\n    <tr>\n      <th>13</th>\n      <td>C9 Packaging Line</td>\n      <td>89.021271</td>\n      <td>89.747841</td>\n      <td>90.361488</td>\n      <td>90.130804</td>\n      <td>14</td>\n      <td>13</td>\n      <td>8</td>\n      <td>11</td>\n      <td>13</td>\n      <td>14</td>\n    </tr>\n    <tr>\n      <th>14</th>\n      <td>C2 Packaging Line</td>\n      <td>88.952682</td>\n      <td>90.451874</td>\n      <td>90.261138</td>\n      <td>90.622942</td>\n      <td>15</td>\n      <td>15</td>\n      <td>6</td>\n      <td>14</td>\n      <td>15</td>\n      <td>15</td>\n    </tr>\n  </tbody>\n</table>\n</div>"
     },
     "metadata": {},
     "execution_count": 81
    }
   ],
   "source": [
    "# regex filter on column name contains Line, position or 2021\n",
    "pivot.filter(regex='Line|position|2021')"
   ]
  },
  {
   "cell_type": "code",
   "execution_count": 33,
   "metadata": {},
   "outputs": [],
   "source": [
    "# df_weekly.groupby(['Review_Date','Line']).lap_time.sum().reset_index()\n",
    "sectors = df_weekly.filter(regex='Line|sector|Review_Date')"
   ]
  },
  {
   "cell_type": "code",
   "execution_count": 34,
   "metadata": {},
   "outputs": [
    {
     "output_type": "execute_result",
     "data": {
      "text/plain": [
       "Review_Date                    Line  2021-04-15 00:00:00  2021-05-13 00:00:00  \\\n",
       "0                   AL5 Packaging 1             1.248712             1.725754   \n",
       "1                               AL6             1.137846             2.323044   \n",
       "2                 C2 Packaging Line             0.952682             2.451874   \n",
       "3                 C9 Packaging Line             1.021271             1.747841   \n",
       "4                            GAMMA1             1.153563             1.725767   \n",
       "5                         IMA C80/2             0.910252             1.656522   \n",
       "6                L18 Packaging Line             0.847299             1.426704   \n",
       "7                L25 Packaging Line             0.849775             2.108842   \n",
       "8            LINE 01 - UHLMANN 1880                  NaN             0.525497   \n",
       "9                       M18 Filling             1.960465             2.596174   \n",
       "10                      M21 Filling             1.248712             3.742378   \n",
       "11                      M22 Filling             0.953983             1.806345   \n",
       "12                   MEDISEAL PURAN                  NaN             1.019996   \n",
       "13             SUPPO Packaging Line             0.585379             1.604811   \n",
       "14             TR200 Packaging Line             0.710407             1.591164   \n",
       "\n",
       "Review_Date  2021-06-10 00:00:00  2021-07-08 00:00:00  \n",
       "0                       2.495004             1.559946  \n",
       "1                       1.805598             1.902144  \n",
       "2                       2.261138             2.622942  \n",
       "3                       2.361488             2.130804  \n",
       "4                       1.926756             1.979194  \n",
       "5                       1.732693             1.674113  \n",
       "6                       1.407996             1.425327  \n",
       "7                       2.011979             1.862601  \n",
       "8                       1.636847             1.547483  \n",
       "9                       2.646232             2.979137  \n",
       "10                      1.967181             1.760825  \n",
       "11                      2.057670             1.522488  \n",
       "12                      1.838256             1.971539  \n",
       "13                      1.904755             1.318502  \n",
       "14                      1.381941             2.529634  "
      ],
      "text/html": "<div>\n<style scoped>\n    .dataframe tbody tr th:only-of-type {\n        vertical-align: middle;\n    }\n\n    .dataframe tbody tr th {\n        vertical-align: top;\n    }\n\n    .dataframe thead th {\n        text-align: right;\n    }\n</style>\n<table border=\"1\" class=\"dataframe\">\n  <thead>\n    <tr style=\"text-align: right;\">\n      <th>Review_Date</th>\n      <th>Line</th>\n      <th>2021-04-15 00:00:00</th>\n      <th>2021-05-13 00:00:00</th>\n      <th>2021-06-10 00:00:00</th>\n      <th>2021-07-08 00:00:00</th>\n    </tr>\n  </thead>\n  <tbody>\n    <tr>\n      <th>0</th>\n      <td>AL5 Packaging 1</td>\n      <td>1.248712</td>\n      <td>1.725754</td>\n      <td>2.495004</td>\n      <td>1.559946</td>\n    </tr>\n    <tr>\n      <th>1</th>\n      <td>AL6</td>\n      <td>1.137846</td>\n      <td>2.323044</td>\n      <td>1.805598</td>\n      <td>1.902144</td>\n    </tr>\n    <tr>\n      <th>2</th>\n      <td>C2 Packaging Line</td>\n      <td>0.952682</td>\n      <td>2.451874</td>\n      <td>2.261138</td>\n      <td>2.622942</td>\n    </tr>\n    <tr>\n      <th>3</th>\n      <td>C9 Packaging Line</td>\n      <td>1.021271</td>\n      <td>1.747841</td>\n      <td>2.361488</td>\n      <td>2.130804</td>\n    </tr>\n    <tr>\n      <th>4</th>\n      <td>GAMMA1</td>\n      <td>1.153563</td>\n      <td>1.725767</td>\n      <td>1.926756</td>\n      <td>1.979194</td>\n    </tr>\n    <tr>\n      <th>5</th>\n      <td>IMA C80/2</td>\n      <td>0.910252</td>\n      <td>1.656522</td>\n      <td>1.732693</td>\n      <td>1.674113</td>\n    </tr>\n    <tr>\n      <th>6</th>\n      <td>L18 Packaging Line</td>\n      <td>0.847299</td>\n      <td>1.426704</td>\n      <td>1.407996</td>\n      <td>1.425327</td>\n    </tr>\n    <tr>\n      <th>7</th>\n      <td>L25 Packaging Line</td>\n      <td>0.849775</td>\n      <td>2.108842</td>\n      <td>2.011979</td>\n      <td>1.862601</td>\n    </tr>\n    <tr>\n      <th>8</th>\n      <td>LINE 01 - UHLMANN 1880</td>\n      <td>NaN</td>\n      <td>0.525497</td>\n      <td>1.636847</td>\n      <td>1.547483</td>\n    </tr>\n    <tr>\n      <th>9</th>\n      <td>M18 Filling</td>\n      <td>1.960465</td>\n      <td>2.596174</td>\n      <td>2.646232</td>\n      <td>2.979137</td>\n    </tr>\n    <tr>\n      <th>10</th>\n      <td>M21 Filling</td>\n      <td>1.248712</td>\n      <td>3.742378</td>\n      <td>1.967181</td>\n      <td>1.760825</td>\n    </tr>\n    <tr>\n      <th>11</th>\n      <td>M22 Filling</td>\n      <td>0.953983</td>\n      <td>1.806345</td>\n      <td>2.057670</td>\n      <td>1.522488</td>\n    </tr>\n    <tr>\n      <th>12</th>\n      <td>MEDISEAL PURAN</td>\n      <td>NaN</td>\n      <td>1.019996</td>\n      <td>1.838256</td>\n      <td>1.971539</td>\n    </tr>\n    <tr>\n      <th>13</th>\n      <td>SUPPO Packaging Line</td>\n      <td>0.585379</td>\n      <td>1.604811</td>\n      <td>1.904755</td>\n      <td>1.318502</td>\n    </tr>\n    <tr>\n      <th>14</th>\n      <td>TR200 Packaging Line</td>\n      <td>0.710407</td>\n      <td>1.591164</td>\n      <td>1.381941</td>\n      <td>2.529634</td>\n    </tr>\n  </tbody>\n</table>\n</div>"
     },
     "metadata": {},
     "execution_count": 34
    }
   ],
   "source": [
    "# sectors[sectors.columns[[2,3,4,5]]].sum(axis=1)\n",
    "sectors = df_weekly.filter(regex='Line|sector|Review_Date')\n",
    "sectors = sectors.iloc[:,0:6]\n",
    "sectors = sectors.groupby(['Line','Review_Date']).sum().reset_index()\n",
    "sectors['time'] = sectors.sum(axis=1)\n",
    "sectors_pivot = sectors.pivot(index='Line', columns='Review_Date', values='time')\n",
    "sectors_pivot.reset_index(inplace=True)\n",
    "sectors_pivot\n",
    "# sectors[sectors[sectors.columns[[2,3,4,5]]].sum(axis=1)\n",
    "# sectors[sectors.Line.str.contains('AL5')]"
   ]
  },
  {
   "cell_type": "code",
   "execution_count": 35,
   "metadata": {},
   "outputs": [],
   "source": [
    "# search for cols [1:] and find all cols after Date and Line\n",
    "sectors_pivot.iloc[:,1:] = sectors_pivot.iloc[:,1:].fillna(sectors_pivot.iloc[:,1:].max())\n"
   ]
  },
  {
   "cell_type": "code",
   "execution_count": 36,
   "metadata": {},
   "outputs": [
    {
     "output_type": "execute_result",
     "data": {
      "text/plain": [
       "Review_Date                    Line  2021-04-15 00:00:00  2021-05-13 00:00:00  \\\n",
       "6                L18 Packaging Line             0.847299             1.426704   \n",
       "13             SUPPO Packaging Line             0.585379             1.604811   \n",
       "8            LINE 01 - UHLMANN 1880             1.960465             0.525497   \n",
       "5                         IMA C80/2             0.910252             1.656522   \n",
       "14             TR200 Packaging Line             0.710407             1.591164   \n",
       "11                      M22 Filling             0.953983             1.806345   \n",
       "4                            GAMMA1             1.153563             1.725767   \n",
       "12                   MEDISEAL PURAN             1.960465             1.019996   \n",
       "7                L25 Packaging Line             0.849775             2.108842   \n",
       "0                   AL5 Packaging 1             1.248712             1.725754   \n",
       "1                               AL6             1.137846             2.323044   \n",
       "3                 C9 Packaging Line             1.021271             1.747841   \n",
       "2                 C2 Packaging Line             0.952682             2.451874   \n",
       "10                      M21 Filling             1.248712             3.742378   \n",
       "9                       M18 Filling             1.960465             2.596174   \n",
       "\n",
       "Review_Date  2021-06-10 00:00:00  2021-07-08 00:00:00  apr_position  \\\n",
       "6                       1.407996             1.425327             3   \n",
       "13                      1.904755             1.318502             1   \n",
       "8                       1.636847             1.547483            13   \n",
       "5                       1.732693             1.674113             5   \n",
       "14                      1.381941             2.529634             2   \n",
       "11                      2.057670             1.522488             7   \n",
       "4                       1.926756             1.979194            10   \n",
       "12                      1.838256             1.971539            15   \n",
       "7                       2.011979             1.862601             4   \n",
       "0                       2.495004             1.559946            11   \n",
       "1                       1.805598             1.902144             9   \n",
       "3                       2.361488             2.130804             8   \n",
       "2                       2.261138             2.622942             6   \n",
       "10                      1.967181             1.760825            12   \n",
       "9                       2.646232             2.979137            14   \n",
       "\n",
       "Review_Date  may_position  jun_position  jly_position  \n",
       "6                       2             1             1  \n",
       "13                      1             3             2  \n",
       "8                       4             4             3  \n",
       "5                       5             5             4  \n",
       "14                      3             2             5  \n",
       "11                      6             7             6  \n",
       "4                       8             6             7  \n",
       "12                     11             8             8  \n",
       "7                       9             9             9  \n",
       "0                      10            12            10  \n",
       "1                      13            11            11  \n",
       "3                       7            10            12  \n",
       "2                      12            13            13  \n",
       "10                     15            14            14  \n",
       "9                      14            15            15  "
      ],
      "text/html": "<div>\n<style scoped>\n    .dataframe tbody tr th:only-of-type {\n        vertical-align: middle;\n    }\n\n    .dataframe tbody tr th {\n        vertical-align: top;\n    }\n\n    .dataframe thead th {\n        text-align: right;\n    }\n</style>\n<table border=\"1\" class=\"dataframe\">\n  <thead>\n    <tr style=\"text-align: right;\">\n      <th>Review_Date</th>\n      <th>Line</th>\n      <th>2021-04-15 00:00:00</th>\n      <th>2021-05-13 00:00:00</th>\n      <th>2021-06-10 00:00:00</th>\n      <th>2021-07-08 00:00:00</th>\n      <th>apr_position</th>\n      <th>may_position</th>\n      <th>jun_position</th>\n      <th>jly_position</th>\n    </tr>\n  </thead>\n  <tbody>\n    <tr>\n      <th>6</th>\n      <td>L18 Packaging Line</td>\n      <td>0.847299</td>\n      <td>1.426704</td>\n      <td>1.407996</td>\n      <td>1.425327</td>\n      <td>3</td>\n      <td>2</td>\n      <td>1</td>\n      <td>1</td>\n    </tr>\n    <tr>\n      <th>13</th>\n      <td>SUPPO Packaging Line</td>\n      <td>0.585379</td>\n      <td>1.604811</td>\n      <td>1.904755</td>\n      <td>1.318502</td>\n      <td>1</td>\n      <td>1</td>\n      <td>3</td>\n      <td>2</td>\n    </tr>\n    <tr>\n      <th>8</th>\n      <td>LINE 01 - UHLMANN 1880</td>\n      <td>1.960465</td>\n      <td>0.525497</td>\n      <td>1.636847</td>\n      <td>1.547483</td>\n      <td>13</td>\n      <td>4</td>\n      <td>4</td>\n      <td>3</td>\n    </tr>\n    <tr>\n      <th>5</th>\n      <td>IMA C80/2</td>\n      <td>0.910252</td>\n      <td>1.656522</td>\n      <td>1.732693</td>\n      <td>1.674113</td>\n      <td>5</td>\n      <td>5</td>\n      <td>5</td>\n      <td>4</td>\n    </tr>\n    <tr>\n      <th>14</th>\n      <td>TR200 Packaging Line</td>\n      <td>0.710407</td>\n      <td>1.591164</td>\n      <td>1.381941</td>\n      <td>2.529634</td>\n      <td>2</td>\n      <td>3</td>\n      <td>2</td>\n      <td>5</td>\n    </tr>\n    <tr>\n      <th>11</th>\n      <td>M22 Filling</td>\n      <td>0.953983</td>\n      <td>1.806345</td>\n      <td>2.057670</td>\n      <td>1.522488</td>\n      <td>7</td>\n      <td>6</td>\n      <td>7</td>\n      <td>6</td>\n    </tr>\n    <tr>\n      <th>4</th>\n      <td>GAMMA1</td>\n      <td>1.153563</td>\n      <td>1.725767</td>\n      <td>1.926756</td>\n      <td>1.979194</td>\n      <td>10</td>\n      <td>8</td>\n      <td>6</td>\n      <td>7</td>\n    </tr>\n    <tr>\n      <th>12</th>\n      <td>MEDISEAL PURAN</td>\n      <td>1.960465</td>\n      <td>1.019996</td>\n      <td>1.838256</td>\n      <td>1.971539</td>\n      <td>15</td>\n      <td>11</td>\n      <td>8</td>\n      <td>8</td>\n    </tr>\n    <tr>\n      <th>7</th>\n      <td>L25 Packaging Line</td>\n      <td>0.849775</td>\n      <td>2.108842</td>\n      <td>2.011979</td>\n      <td>1.862601</td>\n      <td>4</td>\n      <td>9</td>\n      <td>9</td>\n      <td>9</td>\n    </tr>\n    <tr>\n      <th>0</th>\n      <td>AL5 Packaging 1</td>\n      <td>1.248712</td>\n      <td>1.725754</td>\n      <td>2.495004</td>\n      <td>1.559946</td>\n      <td>11</td>\n      <td>10</td>\n      <td>12</td>\n      <td>10</td>\n    </tr>\n    <tr>\n      <th>1</th>\n      <td>AL6</td>\n      <td>1.137846</td>\n      <td>2.323044</td>\n      <td>1.805598</td>\n      <td>1.902144</td>\n      <td>9</td>\n      <td>13</td>\n      <td>11</td>\n      <td>11</td>\n    </tr>\n    <tr>\n      <th>3</th>\n      <td>C9 Packaging Line</td>\n      <td>1.021271</td>\n      <td>1.747841</td>\n      <td>2.361488</td>\n      <td>2.130804</td>\n      <td>8</td>\n      <td>7</td>\n      <td>10</td>\n      <td>12</td>\n    </tr>\n    <tr>\n      <th>2</th>\n      <td>C2 Packaging Line</td>\n      <td>0.952682</td>\n      <td>2.451874</td>\n      <td>2.261138</td>\n      <td>2.622942</td>\n      <td>6</td>\n      <td>12</td>\n      <td>13</td>\n      <td>13</td>\n    </tr>\n    <tr>\n      <th>10</th>\n      <td>M21 Filling</td>\n      <td>1.248712</td>\n      <td>3.742378</td>\n      <td>1.967181</td>\n      <td>1.760825</td>\n      <td>12</td>\n      <td>15</td>\n      <td>14</td>\n      <td>14</td>\n    </tr>\n    <tr>\n      <th>9</th>\n      <td>M18 Filling</td>\n      <td>1.960465</td>\n      <td>2.596174</td>\n      <td>2.646232</td>\n      <td>2.979137</td>\n      <td>14</td>\n      <td>14</td>\n      <td>15</td>\n      <td>15</td>\n    </tr>\n  </tbody>\n</table>\n</div>"
     },
     "metadata": {},
     "execution_count": 36
    }
   ],
   "source": [
    "sectors_pivot.sort_values(sectors_pivot.columns[1], inplace=True)\n",
    "sectors_pivot['apr_position'] = np.arange(1,len(sectors_pivot) + 1)\n",
    "sectors_pivot['temp_race_time'] = sectors_pivot[sectors_pivot.columns[[1,2]]].sum(axis=1)\n",
    "sectors_pivot.sort_values(by='temp_race_time', inplace=True)\n",
    "sectors_pivot['may_position'] = np.arange(1,len(sectors_pivot) + 1)\n",
    "sectors_pivot['temp_race_time'] = sectors_pivot[sectors_pivot.columns[[1,2,3]]].sum(axis=1)\n",
    "sectors_pivot.sort_values(by='temp_race_time', inplace=True)\n",
    "sectors_pivot['jun_position'] = np.arange(1,len(sectors_pivot) + 1)\n",
    "sectors_pivot['temp_race_time'] = sectors_pivot[sectors_pivot.columns[[1,2,3,4]]].sum(axis=1)\n",
    "sectors_pivot.sort_values(by='temp_race_time', inplace=True)\n",
    "sectors_pivot['jly_position'] = np.arange(1,len(sectors_pivot) + 1)\n",
    "sectors_pivot.drop(columns='temp_race_time', inplace=True)\n",
    "sectors_pivot"
   ]
  },
  {
   "cell_type": "code",
   "execution_count": 37,
   "metadata": {},
   "outputs": [
    {
     "output_type": "execute_result",
     "data": {
      "text/plain": [
       "                      Line  2021-04-15 00:00:00  2021-05-13 00:00:00  \\\n",
       "0                   GAMMA1            89.153563            69.325767   \n",
       "1                IMA C80/2            88.910252            69.256522   \n",
       "2       L18 Packaging Line            88.847299            74.226704   \n",
       "3       L25 Packaging Line            88.849775            74.908842   \n",
       "4              M22 Filling            88.953983            81.806345   \n",
       "5              M21 Filling            89.248712            83.742378   \n",
       "6              M18 Filling            89.960465            82.596174   \n",
       "7                      AL6            89.137846            90.323044   \n",
       "10    TR200 Packaging Line            88.710407            89.591164   \n",
       "8     SUPPO Packaging Line            88.585379            89.604811   \n",
       "9   LINE 01 - UHLMANN 1880            89.960465            88.525497   \n",
       "11          MEDISEAL PURAN            89.960465            89.019996   \n",
       "13       C9 Packaging Line            89.021271            89.747841   \n",
       "12         AL5 Packaging 1            89.248712            89.725754   \n",
       "14       C2 Packaging Line            88.952682            90.451874   \n",
       "\n",
       "    2021-06-10 00:00:00  2021-07-08 00:00:00  position  prev_position  \\\n",
       "0             68.226756            89.979194         1              1   \n",
       "1             75.232693            89.674113         2              2   \n",
       "2             89.407996            89.425327         3              3   \n",
       "3             90.011979            89.862601         4              4   \n",
       "4             84.857670            89.522488         5              5   \n",
       "5             84.767181            89.760825         6              6   \n",
       "6             85.446232            90.979137         7              7   \n",
       "7             84.205598            89.902144         8              8   \n",
       "10            89.381941            90.529634        11              9   \n",
       "8             89.904755            89.318502         9             10   \n",
       "9             89.636847            89.547483        10             11   \n",
       "11            89.838256            89.971539        12             12   \n",
       "13            90.361488            90.130804        14             13   \n",
       "12            90.495004            89.559946        13             14   \n",
       "14            90.261138            90.622942        15             15   \n",
       "\n",
       "    apr_position  may_position  jun_position  jly_position  \n",
       "0             10             2             1             1  \n",
       "1              5             1             2             2  \n",
       "2              3             3             3             3  \n",
       "3              4             4             4             4  \n",
       "4              7             5             5             5  \n",
       "5             11             7             6             6  \n",
       "6             13             6             7             7  \n",
       "7              9            15             8             8  \n",
       "10             2             9             9            11  \n",
       "8              1             8            10             9  \n",
       "9             14            10            11            10  \n",
       "11            15            13            12            12  \n",
       "13             8            11            13            14  \n",
       "12            12            12            14            13  \n",
       "14             6            14            15            15  "
      ],
      "text/html": "<div>\n<style scoped>\n    .dataframe tbody tr th:only-of-type {\n        vertical-align: middle;\n    }\n\n    .dataframe tbody tr th {\n        vertical-align: top;\n    }\n\n    .dataframe thead th {\n        text-align: right;\n    }\n</style>\n<table border=\"1\" class=\"dataframe\">\n  <thead>\n    <tr style=\"text-align: right;\">\n      <th></th>\n      <th>Line</th>\n      <th>2021-04-15 00:00:00</th>\n      <th>2021-05-13 00:00:00</th>\n      <th>2021-06-10 00:00:00</th>\n      <th>2021-07-08 00:00:00</th>\n      <th>position</th>\n      <th>prev_position</th>\n      <th>apr_position</th>\n      <th>may_position</th>\n      <th>jun_position</th>\n      <th>jly_position</th>\n    </tr>\n  </thead>\n  <tbody>\n    <tr>\n      <th>0</th>\n      <td>GAMMA1</td>\n      <td>89.153563</td>\n      <td>69.325767</td>\n      <td>68.226756</td>\n      <td>89.979194</td>\n      <td>1</td>\n      <td>1</td>\n      <td>10</td>\n      <td>2</td>\n      <td>1</td>\n      <td>1</td>\n    </tr>\n    <tr>\n      <th>1</th>\n      <td>IMA C80/2</td>\n      <td>88.910252</td>\n      <td>69.256522</td>\n      <td>75.232693</td>\n      <td>89.674113</td>\n      <td>2</td>\n      <td>2</td>\n      <td>5</td>\n      <td>1</td>\n      <td>2</td>\n      <td>2</td>\n    </tr>\n    <tr>\n      <th>2</th>\n      <td>L18 Packaging Line</td>\n      <td>88.847299</td>\n      <td>74.226704</td>\n      <td>89.407996</td>\n      <td>89.425327</td>\n      <td>3</td>\n      <td>3</td>\n      <td>3</td>\n      <td>3</td>\n      <td>3</td>\n      <td>3</td>\n    </tr>\n    <tr>\n      <th>3</th>\n      <td>L25 Packaging Line</td>\n      <td>88.849775</td>\n      <td>74.908842</td>\n      <td>90.011979</td>\n      <td>89.862601</td>\n      <td>4</td>\n      <td>4</td>\n      <td>4</td>\n      <td>4</td>\n      <td>4</td>\n      <td>4</td>\n    </tr>\n    <tr>\n      <th>4</th>\n      <td>M22 Filling</td>\n      <td>88.953983</td>\n      <td>81.806345</td>\n      <td>84.857670</td>\n      <td>89.522488</td>\n      <td>5</td>\n      <td>5</td>\n      <td>7</td>\n      <td>5</td>\n      <td>5</td>\n      <td>5</td>\n    </tr>\n    <tr>\n      <th>5</th>\n      <td>M21 Filling</td>\n      <td>89.248712</td>\n      <td>83.742378</td>\n      <td>84.767181</td>\n      <td>89.760825</td>\n      <td>6</td>\n      <td>6</td>\n      <td>11</td>\n      <td>7</td>\n      <td>6</td>\n      <td>6</td>\n    </tr>\n    <tr>\n      <th>6</th>\n      <td>M18 Filling</td>\n      <td>89.960465</td>\n      <td>82.596174</td>\n      <td>85.446232</td>\n      <td>90.979137</td>\n      <td>7</td>\n      <td>7</td>\n      <td>13</td>\n      <td>6</td>\n      <td>7</td>\n      <td>7</td>\n    </tr>\n    <tr>\n      <th>7</th>\n      <td>AL6</td>\n      <td>89.137846</td>\n      <td>90.323044</td>\n      <td>84.205598</td>\n      <td>89.902144</td>\n      <td>8</td>\n      <td>8</td>\n      <td>9</td>\n      <td>15</td>\n      <td>8</td>\n      <td>8</td>\n    </tr>\n    <tr>\n      <th>10</th>\n      <td>TR200 Packaging Line</td>\n      <td>88.710407</td>\n      <td>89.591164</td>\n      <td>89.381941</td>\n      <td>90.529634</td>\n      <td>11</td>\n      <td>9</td>\n      <td>2</td>\n      <td>9</td>\n      <td>9</td>\n      <td>11</td>\n    </tr>\n    <tr>\n      <th>8</th>\n      <td>SUPPO Packaging Line</td>\n      <td>88.585379</td>\n      <td>89.604811</td>\n      <td>89.904755</td>\n      <td>89.318502</td>\n      <td>9</td>\n      <td>10</td>\n      <td>1</td>\n      <td>8</td>\n      <td>10</td>\n      <td>9</td>\n    </tr>\n    <tr>\n      <th>9</th>\n      <td>LINE 01 - UHLMANN 1880</td>\n      <td>89.960465</td>\n      <td>88.525497</td>\n      <td>89.636847</td>\n      <td>89.547483</td>\n      <td>10</td>\n      <td>11</td>\n      <td>14</td>\n      <td>10</td>\n      <td>11</td>\n      <td>10</td>\n    </tr>\n    <tr>\n      <th>11</th>\n      <td>MEDISEAL PURAN</td>\n      <td>89.960465</td>\n      <td>89.019996</td>\n      <td>89.838256</td>\n      <td>89.971539</td>\n      <td>12</td>\n      <td>12</td>\n      <td>15</td>\n      <td>13</td>\n      <td>12</td>\n      <td>12</td>\n    </tr>\n    <tr>\n      <th>13</th>\n      <td>C9 Packaging Line</td>\n      <td>89.021271</td>\n      <td>89.747841</td>\n      <td>90.361488</td>\n      <td>90.130804</td>\n      <td>14</td>\n      <td>13</td>\n      <td>8</td>\n      <td>11</td>\n      <td>13</td>\n      <td>14</td>\n    </tr>\n    <tr>\n      <th>12</th>\n      <td>AL5 Packaging 1</td>\n      <td>89.248712</td>\n      <td>89.725754</td>\n      <td>90.495004</td>\n      <td>89.559946</td>\n      <td>13</td>\n      <td>14</td>\n      <td>12</td>\n      <td>12</td>\n      <td>14</td>\n      <td>13</td>\n    </tr>\n    <tr>\n      <th>14</th>\n      <td>C2 Packaging Line</td>\n      <td>88.952682</td>\n      <td>90.451874</td>\n      <td>90.261138</td>\n      <td>90.622942</td>\n      <td>15</td>\n      <td>15</td>\n      <td>6</td>\n      <td>14</td>\n      <td>15</td>\n      <td>15</td>\n    </tr>\n  </tbody>\n</table>\n</div>"
     },
     "metadata": {},
     "execution_count": 37
    }
   ],
   "source": [
    "pivot.filter(regex='Line|position|2021').sort_values('jun_position')"
   ]
  },
  {
   "cell_type": "code",
   "execution_count": 38,
   "metadata": {},
   "outputs": [],
   "source": [
    "aggregations = {\n",
    "    'sector_1':'sum',\n",
    "    'sector_2':'mean',\n",
    "    'sector_3':'mean',\n",
    "    'sector_4':'mean',\n",
    "    'sector_5':'sum',\n",
    "    'sector_6':'sum',\n",
    "    'sector_7':'sum',\n",
    "    'sector_8':'sum',\n",
    "    'sector_9':'sum',\n",
    "    'lap_time':'sum'\n",
    "}\n",
    "all_sectors = df_weekly.groupby(['Review_Date','Line'])[['sector_1','sector_2','sector_3','sector_4','sector_5','sector_6','sector_7','sector_8','sector_9','lap_time']].agg(aggregations).reset_index()"
   ]
  },
  {
   "cell_type": "code",
   "execution_count": 39,
   "metadata": {},
   "outputs": [
    {
     "output_type": "execute_result",
     "data": {
      "text/plain": [
       "   Review_Date                    Line  sector_1  sector_2  sector_3  \\\n",
       "43  2021-07-08         AL5 Packaging 1 -0.469051  0.191344  0.241631   \n",
       "56  2021-07-08    SUPPO Packaging Line -0.172830  0.072115  0.244240   \n",
       "50  2021-07-08      L25 Packaging Line -0.025216  0.021244  0.198590   \n",
       "47  2021-07-08                  GAMMA1 -0.008305  0.074553  0.194326   \n",
       "48  2021-07-08               IMA C80/2  0.024126  0.043614  0.178797   \n",
       "51  2021-07-08  LINE 01 - UHLMANN 1880  0.030771  0.105944  0.210129   \n",
       "54  2021-07-08             M22 Filling  0.043290  0.112922  0.127066   \n",
       "53  2021-07-08             M21 Filling  0.054741  0.156167  0.137801   \n",
       "49  2021-07-08      L18 Packaging Line  0.104408  0.043782  0.114678   \n",
       "46  2021-07-08       C9 Packaging Line  0.105945  0.060942  0.380177   \n",
       "55  2021-07-08          MEDISEAL PURAN  0.158613  0.089794  0.276825   \n",
       "44  2021-07-08                     AL6  0.167779  0.058148  0.311854   \n",
       "57  2021-07-08    TR200 Packaging Line  0.207982  0.118991  0.325569   \n",
       "45  2021-07-08       C2 Packaging Line  0.216716  0.058171  0.476480   \n",
       "52  2021-07-08             M18 Filling  0.537044  0.222455  0.155197   \n",
       "\n",
       "    sector_4  sector_5  sector_6  sector_7  sector_8  sector_9  lap_time  \n",
       "43  0.074274       0.0       0.0       0.0       0.0       0.0  1.559946  \n",
       "56  0.056478       0.0       0.0       0.0       0.0       0.0  1.318502  \n",
       "50  0.252119       0.0       0.0       0.0       0.0       0.0  1.862601  \n",
       "47  0.227996       0.0       0.0       0.0       0.0       0.0  1.979194  \n",
       "48  0.190086       0.0       0.0       0.0       0.0       0.0  1.674113  \n",
       "51  0.063105       0.0       0.0       0.0       0.0       0.0  1.547483  \n",
       "54  0.129812       0.0       0.0       0.0       0.0       0.0  1.522488  \n",
       "53  0.132553       0.0       0.0       0.0       0.0       0.0  1.760825  \n",
       "49  0.171769       0.0       0.0       0.0       0.0       0.0  1.425327  \n",
       "46  0.065095       0.0       0.0       0.0       0.0       0.0  2.130804  \n",
       "55  0.086612       0.0       0.0       0.0       0.0       0.0  1.971539  \n",
       "44  0.063589       0.0       0.0       0.0       0.0       0.0  1.902144  \n",
       "57  0.135853       0.0       0.0       0.0       0.0       0.0  2.529634  \n",
       "45  0.066905       0.0       0.0       0.0       0.0       0.0  2.622942  \n",
       "52  0.232872       0.0       0.0       0.0       0.0       0.0  2.979137  "
      ],
      "text/html": "<div>\n<style scoped>\n    .dataframe tbody tr th:only-of-type {\n        vertical-align: middle;\n    }\n\n    .dataframe tbody tr th {\n        vertical-align: top;\n    }\n\n    .dataframe thead th {\n        text-align: right;\n    }\n</style>\n<table border=\"1\" class=\"dataframe\">\n  <thead>\n    <tr style=\"text-align: right;\">\n      <th></th>\n      <th>Review_Date</th>\n      <th>Line</th>\n      <th>sector_1</th>\n      <th>sector_2</th>\n      <th>sector_3</th>\n      <th>sector_4</th>\n      <th>sector_5</th>\n      <th>sector_6</th>\n      <th>sector_7</th>\n      <th>sector_8</th>\n      <th>sector_9</th>\n      <th>lap_time</th>\n    </tr>\n  </thead>\n  <tbody>\n    <tr>\n      <th>43</th>\n      <td>2021-07-08</td>\n      <td>AL5 Packaging 1</td>\n      <td>-0.469051</td>\n      <td>0.191344</td>\n      <td>0.241631</td>\n      <td>0.074274</td>\n      <td>0.0</td>\n      <td>0.0</td>\n      <td>0.0</td>\n      <td>0.0</td>\n      <td>0.0</td>\n      <td>1.559946</td>\n    </tr>\n    <tr>\n      <th>56</th>\n      <td>2021-07-08</td>\n      <td>SUPPO Packaging Line</td>\n      <td>-0.172830</td>\n      <td>0.072115</td>\n      <td>0.244240</td>\n      <td>0.056478</td>\n      <td>0.0</td>\n      <td>0.0</td>\n      <td>0.0</td>\n      <td>0.0</td>\n      <td>0.0</td>\n      <td>1.318502</td>\n    </tr>\n    <tr>\n      <th>50</th>\n      <td>2021-07-08</td>\n      <td>L25 Packaging Line</td>\n      <td>-0.025216</td>\n      <td>0.021244</td>\n      <td>0.198590</td>\n      <td>0.252119</td>\n      <td>0.0</td>\n      <td>0.0</td>\n      <td>0.0</td>\n      <td>0.0</td>\n      <td>0.0</td>\n      <td>1.862601</td>\n    </tr>\n    <tr>\n      <th>47</th>\n      <td>2021-07-08</td>\n      <td>GAMMA1</td>\n      <td>-0.008305</td>\n      <td>0.074553</td>\n      <td>0.194326</td>\n      <td>0.227996</td>\n      <td>0.0</td>\n      <td>0.0</td>\n      <td>0.0</td>\n      <td>0.0</td>\n      <td>0.0</td>\n      <td>1.979194</td>\n    </tr>\n    <tr>\n      <th>48</th>\n      <td>2021-07-08</td>\n      <td>IMA C80/2</td>\n      <td>0.024126</td>\n      <td>0.043614</td>\n      <td>0.178797</td>\n      <td>0.190086</td>\n      <td>0.0</td>\n      <td>0.0</td>\n      <td>0.0</td>\n      <td>0.0</td>\n      <td>0.0</td>\n      <td>1.674113</td>\n    </tr>\n    <tr>\n      <th>51</th>\n      <td>2021-07-08</td>\n      <td>LINE 01 - UHLMANN 1880</td>\n      <td>0.030771</td>\n      <td>0.105944</td>\n      <td>0.210129</td>\n      <td>0.063105</td>\n      <td>0.0</td>\n      <td>0.0</td>\n      <td>0.0</td>\n      <td>0.0</td>\n      <td>0.0</td>\n      <td>1.547483</td>\n    </tr>\n    <tr>\n      <th>54</th>\n      <td>2021-07-08</td>\n      <td>M22 Filling</td>\n      <td>0.043290</td>\n      <td>0.112922</td>\n      <td>0.127066</td>\n      <td>0.129812</td>\n      <td>0.0</td>\n      <td>0.0</td>\n      <td>0.0</td>\n      <td>0.0</td>\n      <td>0.0</td>\n      <td>1.522488</td>\n    </tr>\n    <tr>\n      <th>53</th>\n      <td>2021-07-08</td>\n      <td>M21 Filling</td>\n      <td>0.054741</td>\n      <td>0.156167</td>\n      <td>0.137801</td>\n      <td>0.132553</td>\n      <td>0.0</td>\n      <td>0.0</td>\n      <td>0.0</td>\n      <td>0.0</td>\n      <td>0.0</td>\n      <td>1.760825</td>\n    </tr>\n    <tr>\n      <th>49</th>\n      <td>2021-07-08</td>\n      <td>L18 Packaging Line</td>\n      <td>0.104408</td>\n      <td>0.043782</td>\n      <td>0.114678</td>\n      <td>0.171769</td>\n      <td>0.0</td>\n      <td>0.0</td>\n      <td>0.0</td>\n      <td>0.0</td>\n      <td>0.0</td>\n      <td>1.425327</td>\n    </tr>\n    <tr>\n      <th>46</th>\n      <td>2021-07-08</td>\n      <td>C9 Packaging Line</td>\n      <td>0.105945</td>\n      <td>0.060942</td>\n      <td>0.380177</td>\n      <td>0.065095</td>\n      <td>0.0</td>\n      <td>0.0</td>\n      <td>0.0</td>\n      <td>0.0</td>\n      <td>0.0</td>\n      <td>2.130804</td>\n    </tr>\n    <tr>\n      <th>55</th>\n      <td>2021-07-08</td>\n      <td>MEDISEAL PURAN</td>\n      <td>0.158613</td>\n      <td>0.089794</td>\n      <td>0.276825</td>\n      <td>0.086612</td>\n      <td>0.0</td>\n      <td>0.0</td>\n      <td>0.0</td>\n      <td>0.0</td>\n      <td>0.0</td>\n      <td>1.971539</td>\n    </tr>\n    <tr>\n      <th>44</th>\n      <td>2021-07-08</td>\n      <td>AL6</td>\n      <td>0.167779</td>\n      <td>0.058148</td>\n      <td>0.311854</td>\n      <td>0.063589</td>\n      <td>0.0</td>\n      <td>0.0</td>\n      <td>0.0</td>\n      <td>0.0</td>\n      <td>0.0</td>\n      <td>1.902144</td>\n    </tr>\n    <tr>\n      <th>57</th>\n      <td>2021-07-08</td>\n      <td>TR200 Packaging Line</td>\n      <td>0.207982</td>\n      <td>0.118991</td>\n      <td>0.325569</td>\n      <td>0.135853</td>\n      <td>0.0</td>\n      <td>0.0</td>\n      <td>0.0</td>\n      <td>0.0</td>\n      <td>0.0</td>\n      <td>2.529634</td>\n    </tr>\n    <tr>\n      <th>45</th>\n      <td>2021-07-08</td>\n      <td>C2 Packaging Line</td>\n      <td>0.216716</td>\n      <td>0.058171</td>\n      <td>0.476480</td>\n      <td>0.066905</td>\n      <td>0.0</td>\n      <td>0.0</td>\n      <td>0.0</td>\n      <td>0.0</td>\n      <td>0.0</td>\n      <td>2.622942</td>\n    </tr>\n    <tr>\n      <th>52</th>\n      <td>2021-07-08</td>\n      <td>M18 Filling</td>\n      <td>0.537044</td>\n      <td>0.222455</td>\n      <td>0.155197</td>\n      <td>0.232872</td>\n      <td>0.0</td>\n      <td>0.0</td>\n      <td>0.0</td>\n      <td>0.0</td>\n      <td>0.0</td>\n      <td>2.979137</td>\n    </tr>\n  </tbody>\n</table>\n</div>"
     },
     "metadata": {},
     "execution_count": 39
    }
   ],
   "source": [
    "all_sectors[all_sectors.Review_Date == '2021-07-08'].sort_values('sector_1')"
   ]
  },
  {
   "cell_type": "code",
   "execution_count": 40,
   "metadata": {},
   "outputs": [],
   "source": [
    "all_sectors['lap_time'] = all_sectors['lap_time'] + 88"
   ]
  },
  {
   "cell_type": "code",
   "execution_count": 41,
   "metadata": {},
   "outputs": [
    {
     "output_type": "execute_result",
     "data": {
      "text/plain": [
       "   Review_Date                    Line  sector_1  sector_2  sector_3  \\\n",
       "0   2021-04-15         AL5 Packaging 1  0.000000  0.048821  0.429527   \n",
       "1   2021-04-15                     AL6 -0.028024  0.051373  0.367537   \n",
       "2   2021-04-15       C2 Packaging Line -0.133204  0.074381  0.429527   \n",
       "3   2021-04-15       C9 Packaging Line  0.269447  0.088693  0.225816   \n",
       "4   2021-04-15                  GAMMA1  0.028993  0.063492  0.305332   \n",
       "5   2021-04-15               IMA C80/2  0.017397  0.101030  0.244322   \n",
       "6   2021-04-15      L18 Packaging Line -0.033218  0.068275  0.236805   \n",
       "7   2021-04-15      L25 Packaging Line  0.004575  0.065351  0.208968   \n",
       "8   2021-04-15             M18 Filling -0.019499  0.196217  0.177578   \n",
       "9   2021-04-15             M21 Filling  0.000000  0.048821  0.429527   \n",
       "10  2021-04-15             M22 Filling  0.102752  0.127317  0.179558   \n",
       "11  2021-04-15    SUPPO Packaging Line -0.165573  0.079284  0.129011   \n",
       "12  2021-04-15    TR200 Packaging Line -0.031682  0.077546  0.145368   \n",
       "13  2021-05-13         AL5 Packaging 1  0.036082  0.070657  0.258384   \n",
       "14  2021-05-13                     AL6 -0.067651  0.029582  0.473374   \n",
       "15  2021-05-13       C2 Packaging Line  0.041014  0.061396  0.506260   \n",
       "16  2021-05-13       C9 Packaging Line -0.273983  0.089067  0.404103   \n",
       "17  2021-05-13                  GAMMA1 -0.118075  0.050567  0.170827   \n",
       "18  2021-05-13               IMA C80/2 -0.075507  0.067530  0.186486   \n",
       "19  2021-05-13      L18 Packaging Line -0.079874  0.048475  0.187874   \n",
       "20  2021-05-13      L25 Packaging Line -0.009029  0.101369  0.136500   \n",
       "21  2021-05-13  LINE 01 - UHLMANN 1880  0.427854  0.048821  0.000000   \n",
       "22  2021-05-13             M18 Filling -0.099675  0.147190  0.273768   \n",
       "23  2021-05-13             M21 Filling -0.169501  0.233006  0.206001   \n",
       "24  2021-05-13             M22 Filling -0.158091  0.116919  0.248273   \n",
       "25  2021-05-13          MEDISEAL PURAN -0.143622  0.099599  0.388047   \n",
       "26  2021-05-13    SUPPO Packaging Line -0.021865  0.106334  0.220100   \n",
       "27  2021-05-13    TR200 Packaging Line -0.040662  0.070807  0.178909   \n",
       "28  2021-06-10         AL5 Packaging 1  0.443611  0.100349  0.336332   \n",
       "29  2021-06-10                     AL6 -0.047777  0.061297  0.319880   \n",
       "30  2021-06-10       C2 Packaging Line  0.061649  0.049296  0.474293   \n",
       "31  2021-06-10       C9 Packaging Line  0.020486  0.081697  0.453118   \n",
       "32  2021-06-10                  GAMMA1  0.024185  0.046376  0.187513   \n",
       "33  2021-06-10               IMA C80/2  0.004564  0.049454  0.207634   \n",
       "34  2021-06-10      L18 Packaging Line -0.025058  0.038337  0.155160   \n",
       "35  2021-06-10      L25 Packaging Line -0.000041  0.043675  0.169105   \n",
       "36  2021-06-10  LINE 01 - UHLMANN 1880 -0.314807  0.176388  0.283586   \n",
       "37  2021-06-10             M18 Filling  0.025652  0.272939  0.101270   \n",
       "38  2021-06-10             M21 Filling  0.083331  0.185402  0.120504   \n",
       "39  2021-06-10             M22 Filling -0.125993  0.193902  0.150347   \n",
       "40  2021-06-10          MEDISEAL PURAN  0.044972  0.114912  0.264145   \n",
       "41  2021-06-10    SUPPO Packaging Line  0.161111  0.222715  0.168281   \n",
       "42  2021-06-10    TR200 Packaging Line -0.213645  0.051635  0.201228   \n",
       "43  2021-07-08         AL5 Packaging 1 -0.469051  0.191344  0.241631   \n",
       "44  2021-07-08                     AL6  0.167779  0.058148  0.311854   \n",
       "45  2021-07-08       C2 Packaging Line  0.216716  0.058171  0.476480   \n",
       "46  2021-07-08       C9 Packaging Line  0.105945  0.060942  0.380177   \n",
       "47  2021-07-08                  GAMMA1 -0.008305  0.074553  0.194326   \n",
       "48  2021-07-08               IMA C80/2  0.024126  0.043614  0.178797   \n",
       "49  2021-07-08      L18 Packaging Line  0.104408  0.043782  0.114678   \n",
       "50  2021-07-08      L25 Packaging Line -0.025216  0.021244  0.198590   \n",
       "51  2021-07-08  LINE 01 - UHLMANN 1880  0.030771  0.105944  0.210129   \n",
       "52  2021-07-08             M18 Filling  0.537044  0.222455  0.155197   \n",
       "53  2021-07-08             M21 Filling  0.054741  0.156167  0.137801   \n",
       "54  2021-07-08             M22 Filling  0.043290  0.112922  0.127066   \n",
       "55  2021-07-08          MEDISEAL PURAN  0.158613  0.089794  0.276825   \n",
       "56  2021-07-08    SUPPO Packaging Line -0.172830  0.072115  0.244240   \n",
       "57  2021-07-08    TR200 Packaging Line  0.207982  0.118991  0.325569   \n",
       "\n",
       "    sector_4  sector_5  sector_6  sector_7  sector_8  sector_9   lap_time  \n",
       "0   0.146007       0.0       0.0       0.0       0.0       0.0  89.248712  \n",
       "1   0.164026       0.0       0.0       0.0       0.0       0.0  89.137846  \n",
       "2   0.039035       0.0       0.0       0.0       0.0       0.0  88.952682  \n",
       "3   0.061403       0.0       0.0       0.0       0.0       0.0  89.021271  \n",
       "4   0.193460       0.0       0.0       0.0       0.0       0.0  89.153563  \n",
       "5   0.101075       0.0       0.0       0.0       0.0       0.0  88.910252  \n",
       "6   0.135179       0.0       0.0       0.0       0.0       0.0  88.847299  \n",
       "7   0.148281       0.0       0.0       0.0       0.0       0.0  88.849775  \n",
       "8   0.616187       0.0       0.0       0.0       0.0       0.0  89.960465  \n",
       "9   0.146007       0.0       0.0       0.0       0.0       0.0  89.248712  \n",
       "10  0.118740       0.0       0.0       0.0       0.0       0.0  88.953983  \n",
       "11  0.167180       0.0       0.0       0.0       0.0       0.0  88.585379  \n",
       "12  0.148131       0.0       0.0       0.0       0.0       0.0  88.710407  \n",
       "13  0.093378       0.0       0.0       0.0       0.0       0.0  89.725754  \n",
       "14  0.094717       0.0       0.0       0.0       0.0       0.0  90.323044  \n",
       "15  0.035059       0.0       0.0       0.0       0.0       0.0  90.451874  \n",
       "16  0.012286       0.0       0.0       0.0       0.0       0.0  89.747841  \n",
       "17  0.239566      -6.4      -5.9       0.0       0.0      -8.1  69.325767  \n",
       "18  0.178991      -6.4      -5.9       0.0       0.0      -8.1  69.256522  \n",
       "19  0.140295       0.0      -8.5       0.0       0.0      -6.7  74.226704  \n",
       "20  0.291599       0.0      -8.5       0.0       0.0      -6.7  74.908842  \n",
       "21  0.000000       0.0       0.0       0.0       0.0       0.0  88.525497  \n",
       "22  0.253005      -8.0       0.0       0.0       0.0       0.0  82.596174  \n",
       "23  0.538963      -8.0       0.0       0.0       0.0       0.0  83.742378  \n",
       "24  0.125917      -8.0       0.0       0.0       0.0       0.0  81.806345  \n",
       "25  0.094162       0.0       0.0       0.0       0.0       0.0  89.019996  \n",
       "26  0.080236       0.0       0.0       0.0       0.0       0.0  89.604811  \n",
       "27  0.158241       0.0       0.0       0.0       0.0       0.0  89.591164  \n",
       "28  0.076167       0.0       0.0       0.0       0.0       0.0  90.495004  \n",
       "29  0.082167       0.0      -5.6       0.0       0.0       0.0  84.205598  \n",
       "30  0.026283       0.0       0.0       0.0       0.0       0.0  90.261138  \n",
       "31  0.050435       0.0       0.0       0.0       0.0       0.0  90.361488  \n",
       "32  0.241754      -7.6       0.0      -6.3       0.0      -7.8  68.226756  \n",
       "33  0.174945       0.0      -6.7       0.0       0.0      -7.8  75.232693  \n",
       "34  0.164767       0.0       0.0       0.0       0.0       0.0  89.407996  \n",
       "35  0.290225       0.0       0.0       0.0       0.0       0.0  90.011979  \n",
       "36  0.027939       0.0       0.0       0.0       0.0       0.0  89.636847  \n",
       "37  0.280936       0.0       0.0       0.0       0.0      -5.2  85.446232  \n",
       "38  0.165057       0.0       0.0       0.0       0.0      -5.2  84.767181  \n",
       "39  0.201668       0.0       0.0       0.0       0.0      -5.2  84.857670  \n",
       "40  0.069265       0.0       0.0       0.0       0.0       0.0  89.838256  \n",
       "41  0.044916       0.0       0.0       0.0       0.0       0.0  89.904755  \n",
       "42  0.146033       0.0       0.0       0.0       0.0       0.0  89.381941  \n",
       "43  0.074274       0.0       0.0       0.0       0.0       0.0  89.559946  \n",
       "44  0.063589       0.0       0.0       0.0       0.0       0.0  89.902144  \n",
       "45  0.066905       0.0       0.0       0.0       0.0       0.0  90.622942  \n",
       "46  0.065095       0.0       0.0       0.0       0.0       0.0  90.130804  \n",
       "47  0.227996       0.0       0.0       0.0       0.0       0.0  89.979194  \n",
       "48  0.190086       0.0       0.0       0.0       0.0       0.0  89.674113  \n",
       "49  0.171769       0.0       0.0       0.0       0.0       0.0  89.425327  \n",
       "50  0.252119       0.0       0.0       0.0       0.0       0.0  89.862601  \n",
       "51  0.063105       0.0       0.0       0.0       0.0       0.0  89.547483  \n",
       "52  0.232872       0.0       0.0       0.0       0.0       0.0  90.979137  \n",
       "53  0.132553       0.0       0.0       0.0       0.0       0.0  89.760825  \n",
       "54  0.129812       0.0       0.0       0.0       0.0       0.0  89.522488  \n",
       "55  0.086612       0.0       0.0       0.0       0.0       0.0  89.971539  \n",
       "56  0.056478       0.0       0.0       0.0       0.0       0.0  89.318502  \n",
       "57  0.135853       0.0       0.0       0.0       0.0       0.0  90.529634  "
      ],
      "text/html": "<div>\n<style scoped>\n    .dataframe tbody tr th:only-of-type {\n        vertical-align: middle;\n    }\n\n    .dataframe tbody tr th {\n        vertical-align: top;\n    }\n\n    .dataframe thead th {\n        text-align: right;\n    }\n</style>\n<table border=\"1\" class=\"dataframe\">\n  <thead>\n    <tr style=\"text-align: right;\">\n      <th></th>\n      <th>Review_Date</th>\n      <th>Line</th>\n      <th>sector_1</th>\n      <th>sector_2</th>\n      <th>sector_3</th>\n      <th>sector_4</th>\n      <th>sector_5</th>\n      <th>sector_6</th>\n      <th>sector_7</th>\n      <th>sector_8</th>\n      <th>sector_9</th>\n      <th>lap_time</th>\n    </tr>\n  </thead>\n  <tbody>\n    <tr>\n      <th>0</th>\n      <td>2021-04-15</td>\n      <td>AL5 Packaging 1</td>\n      <td>0.000000</td>\n      <td>0.048821</td>\n      <td>0.429527</td>\n      <td>0.146007</td>\n      <td>0.0</td>\n      <td>0.0</td>\n      <td>0.0</td>\n      <td>0.0</td>\n      <td>0.0</td>\n      <td>89.248712</td>\n    </tr>\n    <tr>\n      <th>1</th>\n      <td>2021-04-15</td>\n      <td>AL6</td>\n      <td>-0.028024</td>\n      <td>0.051373</td>\n      <td>0.367537</td>\n      <td>0.164026</td>\n      <td>0.0</td>\n      <td>0.0</td>\n      <td>0.0</td>\n      <td>0.0</td>\n      <td>0.0</td>\n      <td>89.137846</td>\n    </tr>\n    <tr>\n      <th>2</th>\n      <td>2021-04-15</td>\n      <td>C2 Packaging Line</td>\n      <td>-0.133204</td>\n      <td>0.074381</td>\n      <td>0.429527</td>\n      <td>0.039035</td>\n      <td>0.0</td>\n      <td>0.0</td>\n      <td>0.0</td>\n      <td>0.0</td>\n      <td>0.0</td>\n      <td>88.952682</td>\n    </tr>\n    <tr>\n      <th>3</th>\n      <td>2021-04-15</td>\n      <td>C9 Packaging Line</td>\n      <td>0.269447</td>\n      <td>0.088693</td>\n      <td>0.225816</td>\n      <td>0.061403</td>\n      <td>0.0</td>\n      <td>0.0</td>\n      <td>0.0</td>\n      <td>0.0</td>\n      <td>0.0</td>\n      <td>89.021271</td>\n    </tr>\n    <tr>\n      <th>4</th>\n      <td>2021-04-15</td>\n      <td>GAMMA1</td>\n      <td>0.028993</td>\n      <td>0.063492</td>\n      <td>0.305332</td>\n      <td>0.193460</td>\n      <td>0.0</td>\n      <td>0.0</td>\n      <td>0.0</td>\n      <td>0.0</td>\n      <td>0.0</td>\n      <td>89.153563</td>\n    </tr>\n    <tr>\n      <th>5</th>\n      <td>2021-04-15</td>\n      <td>IMA C80/2</td>\n      <td>0.017397</td>\n      <td>0.101030</td>\n      <td>0.244322</td>\n      <td>0.101075</td>\n      <td>0.0</td>\n      <td>0.0</td>\n      <td>0.0</td>\n      <td>0.0</td>\n      <td>0.0</td>\n      <td>88.910252</td>\n    </tr>\n    <tr>\n      <th>6</th>\n      <td>2021-04-15</td>\n      <td>L18 Packaging Line</td>\n      <td>-0.033218</td>\n      <td>0.068275</td>\n      <td>0.236805</td>\n      <td>0.135179</td>\n      <td>0.0</td>\n      <td>0.0</td>\n      <td>0.0</td>\n      <td>0.0</td>\n      <td>0.0</td>\n      <td>88.847299</td>\n    </tr>\n    <tr>\n      <th>7</th>\n      <td>2021-04-15</td>\n      <td>L25 Packaging Line</td>\n      <td>0.004575</td>\n      <td>0.065351</td>\n      <td>0.208968</td>\n      <td>0.148281</td>\n      <td>0.0</td>\n      <td>0.0</td>\n      <td>0.0</td>\n      <td>0.0</td>\n      <td>0.0</td>\n      <td>88.849775</td>\n    </tr>\n    <tr>\n      <th>8</th>\n      <td>2021-04-15</td>\n      <td>M18 Filling</td>\n      <td>-0.019499</td>\n      <td>0.196217</td>\n      <td>0.177578</td>\n      <td>0.616187</td>\n      <td>0.0</td>\n      <td>0.0</td>\n      <td>0.0</td>\n      <td>0.0</td>\n      <td>0.0</td>\n      <td>89.960465</td>\n    </tr>\n    <tr>\n      <th>9</th>\n      <td>2021-04-15</td>\n      <td>M21 Filling</td>\n      <td>0.000000</td>\n      <td>0.048821</td>\n      <td>0.429527</td>\n      <td>0.146007</td>\n      <td>0.0</td>\n      <td>0.0</td>\n      <td>0.0</td>\n      <td>0.0</td>\n      <td>0.0</td>\n      <td>89.248712</td>\n    </tr>\n    <tr>\n      <th>10</th>\n      <td>2021-04-15</td>\n      <td>M22 Filling</td>\n      <td>0.102752</td>\n      <td>0.127317</td>\n      <td>0.179558</td>\n      <td>0.118740</td>\n      <td>0.0</td>\n      <td>0.0</td>\n      <td>0.0</td>\n      <td>0.0</td>\n      <td>0.0</td>\n      <td>88.953983</td>\n    </tr>\n    <tr>\n      <th>11</th>\n      <td>2021-04-15</td>\n      <td>SUPPO Packaging Line</td>\n      <td>-0.165573</td>\n      <td>0.079284</td>\n      <td>0.129011</td>\n      <td>0.167180</td>\n      <td>0.0</td>\n      <td>0.0</td>\n      <td>0.0</td>\n      <td>0.0</td>\n      <td>0.0</td>\n      <td>88.585379</td>\n    </tr>\n    <tr>\n      <th>12</th>\n      <td>2021-04-15</td>\n      <td>TR200 Packaging Line</td>\n      <td>-0.031682</td>\n      <td>0.077546</td>\n      <td>0.145368</td>\n      <td>0.148131</td>\n      <td>0.0</td>\n      <td>0.0</td>\n      <td>0.0</td>\n      <td>0.0</td>\n      <td>0.0</td>\n      <td>88.710407</td>\n    </tr>\n    <tr>\n      <th>13</th>\n      <td>2021-05-13</td>\n      <td>AL5 Packaging 1</td>\n      <td>0.036082</td>\n      <td>0.070657</td>\n      <td>0.258384</td>\n      <td>0.093378</td>\n      <td>0.0</td>\n      <td>0.0</td>\n      <td>0.0</td>\n      <td>0.0</td>\n      <td>0.0</td>\n      <td>89.725754</td>\n    </tr>\n    <tr>\n      <th>14</th>\n      <td>2021-05-13</td>\n      <td>AL6</td>\n      <td>-0.067651</td>\n      <td>0.029582</td>\n      <td>0.473374</td>\n      <td>0.094717</td>\n      <td>0.0</td>\n      <td>0.0</td>\n      <td>0.0</td>\n      <td>0.0</td>\n      <td>0.0</td>\n      <td>90.323044</td>\n    </tr>\n    <tr>\n      <th>15</th>\n      <td>2021-05-13</td>\n      <td>C2 Packaging Line</td>\n      <td>0.041014</td>\n      <td>0.061396</td>\n      <td>0.506260</td>\n      <td>0.035059</td>\n      <td>0.0</td>\n      <td>0.0</td>\n      <td>0.0</td>\n      <td>0.0</td>\n      <td>0.0</td>\n      <td>90.451874</td>\n    </tr>\n    <tr>\n      <th>16</th>\n      <td>2021-05-13</td>\n      <td>C9 Packaging Line</td>\n      <td>-0.273983</td>\n      <td>0.089067</td>\n      <td>0.404103</td>\n      <td>0.012286</td>\n      <td>0.0</td>\n      <td>0.0</td>\n      <td>0.0</td>\n      <td>0.0</td>\n      <td>0.0</td>\n      <td>89.747841</td>\n    </tr>\n    <tr>\n      <th>17</th>\n      <td>2021-05-13</td>\n      <td>GAMMA1</td>\n      <td>-0.118075</td>\n      <td>0.050567</td>\n      <td>0.170827</td>\n      <td>0.239566</td>\n      <td>-6.4</td>\n      <td>-5.9</td>\n      <td>0.0</td>\n      <td>0.0</td>\n      <td>-8.1</td>\n      <td>69.325767</td>\n    </tr>\n    <tr>\n      <th>18</th>\n      <td>2021-05-13</td>\n      <td>IMA C80/2</td>\n      <td>-0.075507</td>\n      <td>0.067530</td>\n      <td>0.186486</td>\n      <td>0.178991</td>\n      <td>-6.4</td>\n      <td>-5.9</td>\n      <td>0.0</td>\n      <td>0.0</td>\n      <td>-8.1</td>\n      <td>69.256522</td>\n    </tr>\n    <tr>\n      <th>19</th>\n      <td>2021-05-13</td>\n      <td>L18 Packaging Line</td>\n      <td>-0.079874</td>\n      <td>0.048475</td>\n      <td>0.187874</td>\n      <td>0.140295</td>\n      <td>0.0</td>\n      <td>-8.5</td>\n      <td>0.0</td>\n      <td>0.0</td>\n      <td>-6.7</td>\n      <td>74.226704</td>\n    </tr>\n    <tr>\n      <th>20</th>\n      <td>2021-05-13</td>\n      <td>L25 Packaging Line</td>\n      <td>-0.009029</td>\n      <td>0.101369</td>\n      <td>0.136500</td>\n      <td>0.291599</td>\n      <td>0.0</td>\n      <td>-8.5</td>\n      <td>0.0</td>\n      <td>0.0</td>\n      <td>-6.7</td>\n      <td>74.908842</td>\n    </tr>\n    <tr>\n      <th>21</th>\n      <td>2021-05-13</td>\n      <td>LINE 01 - UHLMANN 1880</td>\n      <td>0.427854</td>\n      <td>0.048821</td>\n      <td>0.000000</td>\n      <td>0.000000</td>\n      <td>0.0</td>\n      <td>0.0</td>\n      <td>0.0</td>\n      <td>0.0</td>\n      <td>0.0</td>\n      <td>88.525497</td>\n    </tr>\n    <tr>\n      <th>22</th>\n      <td>2021-05-13</td>\n      <td>M18 Filling</td>\n      <td>-0.099675</td>\n      <td>0.147190</td>\n      <td>0.273768</td>\n      <td>0.253005</td>\n      <td>-8.0</td>\n      <td>0.0</td>\n      <td>0.0</td>\n      <td>0.0</td>\n      <td>0.0</td>\n      <td>82.596174</td>\n    </tr>\n    <tr>\n      <th>23</th>\n      <td>2021-05-13</td>\n      <td>M21 Filling</td>\n      <td>-0.169501</td>\n      <td>0.233006</td>\n      <td>0.206001</td>\n      <td>0.538963</td>\n      <td>-8.0</td>\n      <td>0.0</td>\n      <td>0.0</td>\n      <td>0.0</td>\n      <td>0.0</td>\n      <td>83.742378</td>\n    </tr>\n    <tr>\n      <th>24</th>\n      <td>2021-05-13</td>\n      <td>M22 Filling</td>\n      <td>-0.158091</td>\n      <td>0.116919</td>\n      <td>0.248273</td>\n      <td>0.125917</td>\n      <td>-8.0</td>\n      <td>0.0</td>\n      <td>0.0</td>\n      <td>0.0</td>\n      <td>0.0</td>\n      <td>81.806345</td>\n    </tr>\n    <tr>\n      <th>25</th>\n      <td>2021-05-13</td>\n      <td>MEDISEAL PURAN</td>\n      <td>-0.143622</td>\n      <td>0.099599</td>\n      <td>0.388047</td>\n      <td>0.094162</td>\n      <td>0.0</td>\n      <td>0.0</td>\n      <td>0.0</td>\n      <td>0.0</td>\n      <td>0.0</td>\n      <td>89.019996</td>\n    </tr>\n    <tr>\n      <th>26</th>\n      <td>2021-05-13</td>\n      <td>SUPPO Packaging Line</td>\n      <td>-0.021865</td>\n      <td>0.106334</td>\n      <td>0.220100</td>\n      <td>0.080236</td>\n      <td>0.0</td>\n      <td>0.0</td>\n      <td>0.0</td>\n      <td>0.0</td>\n      <td>0.0</td>\n      <td>89.604811</td>\n    </tr>\n    <tr>\n      <th>27</th>\n      <td>2021-05-13</td>\n      <td>TR200 Packaging Line</td>\n      <td>-0.040662</td>\n      <td>0.070807</td>\n      <td>0.178909</td>\n      <td>0.158241</td>\n      <td>0.0</td>\n      <td>0.0</td>\n      <td>0.0</td>\n      <td>0.0</td>\n      <td>0.0</td>\n      <td>89.591164</td>\n    </tr>\n    <tr>\n      <th>28</th>\n      <td>2021-06-10</td>\n      <td>AL5 Packaging 1</td>\n      <td>0.443611</td>\n      <td>0.100349</td>\n      <td>0.336332</td>\n      <td>0.076167</td>\n      <td>0.0</td>\n      <td>0.0</td>\n      <td>0.0</td>\n      <td>0.0</td>\n      <td>0.0</td>\n      <td>90.495004</td>\n    </tr>\n    <tr>\n      <th>29</th>\n      <td>2021-06-10</td>\n      <td>AL6</td>\n      <td>-0.047777</td>\n      <td>0.061297</td>\n      <td>0.319880</td>\n      <td>0.082167</td>\n      <td>0.0</td>\n      <td>-5.6</td>\n      <td>0.0</td>\n      <td>0.0</td>\n      <td>0.0</td>\n      <td>84.205598</td>\n    </tr>\n    <tr>\n      <th>30</th>\n      <td>2021-06-10</td>\n      <td>C2 Packaging Line</td>\n      <td>0.061649</td>\n      <td>0.049296</td>\n      <td>0.474293</td>\n      <td>0.026283</td>\n      <td>0.0</td>\n      <td>0.0</td>\n      <td>0.0</td>\n      <td>0.0</td>\n      <td>0.0</td>\n      <td>90.261138</td>\n    </tr>\n    <tr>\n      <th>31</th>\n      <td>2021-06-10</td>\n      <td>C9 Packaging Line</td>\n      <td>0.020486</td>\n      <td>0.081697</td>\n      <td>0.453118</td>\n      <td>0.050435</td>\n      <td>0.0</td>\n      <td>0.0</td>\n      <td>0.0</td>\n      <td>0.0</td>\n      <td>0.0</td>\n      <td>90.361488</td>\n    </tr>\n    <tr>\n      <th>32</th>\n      <td>2021-06-10</td>\n      <td>GAMMA1</td>\n      <td>0.024185</td>\n      <td>0.046376</td>\n      <td>0.187513</td>\n      <td>0.241754</td>\n      <td>-7.6</td>\n      <td>0.0</td>\n      <td>-6.3</td>\n      <td>0.0</td>\n      <td>-7.8</td>\n      <td>68.226756</td>\n    </tr>\n    <tr>\n      <th>33</th>\n      <td>2021-06-10</td>\n      <td>IMA C80/2</td>\n      <td>0.004564</td>\n      <td>0.049454</td>\n      <td>0.207634</td>\n      <td>0.174945</td>\n      <td>0.0</td>\n      <td>-6.7</td>\n      <td>0.0</td>\n      <td>0.0</td>\n      <td>-7.8</td>\n      <td>75.232693</td>\n    </tr>\n    <tr>\n      <th>34</th>\n      <td>2021-06-10</td>\n      <td>L18 Packaging Line</td>\n      <td>-0.025058</td>\n      <td>0.038337</td>\n      <td>0.155160</td>\n      <td>0.164767</td>\n      <td>0.0</td>\n      <td>0.0</td>\n      <td>0.0</td>\n      <td>0.0</td>\n      <td>0.0</td>\n      <td>89.407996</td>\n    </tr>\n    <tr>\n      <th>35</th>\n      <td>2021-06-10</td>\n      <td>L25 Packaging Line</td>\n      <td>-0.000041</td>\n      <td>0.043675</td>\n      <td>0.169105</td>\n      <td>0.290225</td>\n      <td>0.0</td>\n      <td>0.0</td>\n      <td>0.0</td>\n      <td>0.0</td>\n      <td>0.0</td>\n      <td>90.011979</td>\n    </tr>\n    <tr>\n      <th>36</th>\n      <td>2021-06-10</td>\n      <td>LINE 01 - UHLMANN 1880</td>\n      <td>-0.314807</td>\n      <td>0.176388</td>\n      <td>0.283586</td>\n      <td>0.027939</td>\n      <td>0.0</td>\n      <td>0.0</td>\n      <td>0.0</td>\n      <td>0.0</td>\n      <td>0.0</td>\n      <td>89.636847</td>\n    </tr>\n    <tr>\n      <th>37</th>\n      <td>2021-06-10</td>\n      <td>M18 Filling</td>\n      <td>0.025652</td>\n      <td>0.272939</td>\n      <td>0.101270</td>\n      <td>0.280936</td>\n      <td>0.0</td>\n      <td>0.0</td>\n      <td>0.0</td>\n      <td>0.0</td>\n      <td>-5.2</td>\n      <td>85.446232</td>\n    </tr>\n    <tr>\n      <th>38</th>\n      <td>2021-06-10</td>\n      <td>M21 Filling</td>\n      <td>0.083331</td>\n      <td>0.185402</td>\n      <td>0.120504</td>\n      <td>0.165057</td>\n      <td>0.0</td>\n      <td>0.0</td>\n      <td>0.0</td>\n      <td>0.0</td>\n      <td>-5.2</td>\n      <td>84.767181</td>\n    </tr>\n    <tr>\n      <th>39</th>\n      <td>2021-06-10</td>\n      <td>M22 Filling</td>\n      <td>-0.125993</td>\n      <td>0.193902</td>\n      <td>0.150347</td>\n      <td>0.201668</td>\n      <td>0.0</td>\n      <td>0.0</td>\n      <td>0.0</td>\n      <td>0.0</td>\n      <td>-5.2</td>\n      <td>84.857670</td>\n    </tr>\n    <tr>\n      <th>40</th>\n      <td>2021-06-10</td>\n      <td>MEDISEAL PURAN</td>\n      <td>0.044972</td>\n      <td>0.114912</td>\n      <td>0.264145</td>\n      <td>0.069265</td>\n      <td>0.0</td>\n      <td>0.0</td>\n      <td>0.0</td>\n      <td>0.0</td>\n      <td>0.0</td>\n      <td>89.838256</td>\n    </tr>\n    <tr>\n      <th>41</th>\n      <td>2021-06-10</td>\n      <td>SUPPO Packaging Line</td>\n      <td>0.161111</td>\n      <td>0.222715</td>\n      <td>0.168281</td>\n      <td>0.044916</td>\n      <td>0.0</td>\n      <td>0.0</td>\n      <td>0.0</td>\n      <td>0.0</td>\n      <td>0.0</td>\n      <td>89.904755</td>\n    </tr>\n    <tr>\n      <th>42</th>\n      <td>2021-06-10</td>\n      <td>TR200 Packaging Line</td>\n      <td>-0.213645</td>\n      <td>0.051635</td>\n      <td>0.201228</td>\n      <td>0.146033</td>\n      <td>0.0</td>\n      <td>0.0</td>\n      <td>0.0</td>\n      <td>0.0</td>\n      <td>0.0</td>\n      <td>89.381941</td>\n    </tr>\n    <tr>\n      <th>43</th>\n      <td>2021-07-08</td>\n      <td>AL5 Packaging 1</td>\n      <td>-0.469051</td>\n      <td>0.191344</td>\n      <td>0.241631</td>\n      <td>0.074274</td>\n      <td>0.0</td>\n      <td>0.0</td>\n      <td>0.0</td>\n      <td>0.0</td>\n      <td>0.0</td>\n      <td>89.559946</td>\n    </tr>\n    <tr>\n      <th>44</th>\n      <td>2021-07-08</td>\n      <td>AL6</td>\n      <td>0.167779</td>\n      <td>0.058148</td>\n      <td>0.311854</td>\n      <td>0.063589</td>\n      <td>0.0</td>\n      <td>0.0</td>\n      <td>0.0</td>\n      <td>0.0</td>\n      <td>0.0</td>\n      <td>89.902144</td>\n    </tr>\n    <tr>\n      <th>45</th>\n      <td>2021-07-08</td>\n      <td>C2 Packaging Line</td>\n      <td>0.216716</td>\n      <td>0.058171</td>\n      <td>0.476480</td>\n      <td>0.066905</td>\n      <td>0.0</td>\n      <td>0.0</td>\n      <td>0.0</td>\n      <td>0.0</td>\n      <td>0.0</td>\n      <td>90.622942</td>\n    </tr>\n    <tr>\n      <th>46</th>\n      <td>2021-07-08</td>\n      <td>C9 Packaging Line</td>\n      <td>0.105945</td>\n      <td>0.060942</td>\n      <td>0.380177</td>\n      <td>0.065095</td>\n      <td>0.0</td>\n      <td>0.0</td>\n      <td>0.0</td>\n      <td>0.0</td>\n      <td>0.0</td>\n      <td>90.130804</td>\n    </tr>\n    <tr>\n      <th>47</th>\n      <td>2021-07-08</td>\n      <td>GAMMA1</td>\n      <td>-0.008305</td>\n      <td>0.074553</td>\n      <td>0.194326</td>\n      <td>0.227996</td>\n      <td>0.0</td>\n      <td>0.0</td>\n      <td>0.0</td>\n      <td>0.0</td>\n      <td>0.0</td>\n      <td>89.979194</td>\n    </tr>\n    <tr>\n      <th>48</th>\n      <td>2021-07-08</td>\n      <td>IMA C80/2</td>\n      <td>0.024126</td>\n      <td>0.043614</td>\n      <td>0.178797</td>\n      <td>0.190086</td>\n      <td>0.0</td>\n      <td>0.0</td>\n      <td>0.0</td>\n      <td>0.0</td>\n      <td>0.0</td>\n      <td>89.674113</td>\n    </tr>\n    <tr>\n      <th>49</th>\n      <td>2021-07-08</td>\n      <td>L18 Packaging Line</td>\n      <td>0.104408</td>\n      <td>0.043782</td>\n      <td>0.114678</td>\n      <td>0.171769</td>\n      <td>0.0</td>\n      <td>0.0</td>\n      <td>0.0</td>\n      <td>0.0</td>\n      <td>0.0</td>\n      <td>89.425327</td>\n    </tr>\n    <tr>\n      <th>50</th>\n      <td>2021-07-08</td>\n      <td>L25 Packaging Line</td>\n      <td>-0.025216</td>\n      <td>0.021244</td>\n      <td>0.198590</td>\n      <td>0.252119</td>\n      <td>0.0</td>\n      <td>0.0</td>\n      <td>0.0</td>\n      <td>0.0</td>\n      <td>0.0</td>\n      <td>89.862601</td>\n    </tr>\n    <tr>\n      <th>51</th>\n      <td>2021-07-08</td>\n      <td>LINE 01 - UHLMANN 1880</td>\n      <td>0.030771</td>\n      <td>0.105944</td>\n      <td>0.210129</td>\n      <td>0.063105</td>\n      <td>0.0</td>\n      <td>0.0</td>\n      <td>0.0</td>\n      <td>0.0</td>\n      <td>0.0</td>\n      <td>89.547483</td>\n    </tr>\n    <tr>\n      <th>52</th>\n      <td>2021-07-08</td>\n      <td>M18 Filling</td>\n      <td>0.537044</td>\n      <td>0.222455</td>\n      <td>0.155197</td>\n      <td>0.232872</td>\n      <td>0.0</td>\n      <td>0.0</td>\n      <td>0.0</td>\n      <td>0.0</td>\n      <td>0.0</td>\n      <td>90.979137</td>\n    </tr>\n    <tr>\n      <th>53</th>\n      <td>2021-07-08</td>\n      <td>M21 Filling</td>\n      <td>0.054741</td>\n      <td>0.156167</td>\n      <td>0.137801</td>\n      <td>0.132553</td>\n      <td>0.0</td>\n      <td>0.0</td>\n      <td>0.0</td>\n      <td>0.0</td>\n      <td>0.0</td>\n      <td>89.760825</td>\n    </tr>\n    <tr>\n      <th>54</th>\n      <td>2021-07-08</td>\n      <td>M22 Filling</td>\n      <td>0.043290</td>\n      <td>0.112922</td>\n      <td>0.127066</td>\n      <td>0.129812</td>\n      <td>0.0</td>\n      <td>0.0</td>\n      <td>0.0</td>\n      <td>0.0</td>\n      <td>0.0</td>\n      <td>89.522488</td>\n    </tr>\n    <tr>\n      <th>55</th>\n      <td>2021-07-08</td>\n      <td>MEDISEAL PURAN</td>\n      <td>0.158613</td>\n      <td>0.089794</td>\n      <td>0.276825</td>\n      <td>0.086612</td>\n      <td>0.0</td>\n      <td>0.0</td>\n      <td>0.0</td>\n      <td>0.0</td>\n      <td>0.0</td>\n      <td>89.971539</td>\n    </tr>\n    <tr>\n      <th>56</th>\n      <td>2021-07-08</td>\n      <td>SUPPO Packaging Line</td>\n      <td>-0.172830</td>\n      <td>0.072115</td>\n      <td>0.244240</td>\n      <td>0.056478</td>\n      <td>0.0</td>\n      <td>0.0</td>\n      <td>0.0</td>\n      <td>0.0</td>\n      <td>0.0</td>\n      <td>89.318502</td>\n    </tr>\n    <tr>\n      <th>57</th>\n      <td>2021-07-08</td>\n      <td>TR200 Packaging Line</td>\n      <td>0.207982</td>\n      <td>0.118991</td>\n      <td>0.325569</td>\n      <td>0.135853</td>\n      <td>0.0</td>\n      <td>0.0</td>\n      <td>0.0</td>\n      <td>0.0</td>\n      <td>0.0</td>\n      <td>90.529634</td>\n    </tr>\n  </tbody>\n</table>\n</div>"
     },
     "metadata": {},
     "execution_count": 41
    }
   ],
   "source": [
    "all_sectors"
   ]
  },
  {
   "cell_type": "code",
   "execution_count": 42,
   "metadata": {},
   "outputs": [
    {
     "output_type": "execute_result",
     "data": {
      "text/plain": [
       "            Line     OEE %  rolling_std  Unplanned_tech_loss  \\\n",
       "9    M18 Filling  0.046124          NaN             0.114818   \n",
       "18   M18 Filling  0.463021     0.294791             0.240339   \n",
       "32   M18 Filling  0.386723     0.221973             0.069673   \n",
       "47   M18 Filling  0.352420     0.183226             0.485988   \n",
       "63   M18 Filling  0.530336     0.079604             0.311511   \n",
       "78   M18 Filling  0.562696     0.103957             0.227898   \n",
       "92   M18 Filling  0.698908     0.142578             0.108069   \n",
       "98   M18 Filling  0.000000     0.307459             0.000000   \n",
       "116  M18 Filling  0.191951     0.323388             0.080336   \n",
       "130  M18 Filling  0.537044     0.318333             0.216673   \n",
       "156  M18 Filling  0.638877     0.297577             0.222576   \n",
       "169  M18 Filling  0.661879     0.217207             0.200207   \n",
       "173  M18 Filling  0.620440     0.054387             0.198006   \n",
       "201  M18 Filling  0.000000     0.320648             0.000000   \n",
       "\n",
       "     Changeover_rolling_mean Review_Date       Date  \n",
       "9                   0.789781  2021-04-15 2021-04-04  \n",
       "18                  0.442593  2021-04-15 2021-04-11  \n",
       "32                  0.425201  2021-05-13 2021-04-18  \n",
       "47                  0.327211  2021-05-13 2021-04-25  \n",
       "63                  0.137063  2021-05-13 2021-05-02  \n",
       "78                  0.122545  2021-05-13 2021-05-09  \n",
       "92                  0.024941  2021-06-10 2021-05-16  \n",
       "98                  0.266630  2021-06-10 2021-05-23  \n",
       "116                 0.415980  2021-06-10 2021-05-30  \n",
       "130                 0.416194  2021-06-10 2021-06-06  \n",
       "156                 0.426343  2021-07-08 2021-06-13  \n",
       "169                 0.185797  2021-07-08 2021-06-20  \n",
       "173                 0.039446  2021-07-08 2021-06-27  \n",
       "201                 0.279900  2021-07-08 2021-07-04  "
      ],
      "text/html": "<div>\n<style scoped>\n    .dataframe tbody tr th:only-of-type {\n        vertical-align: middle;\n    }\n\n    .dataframe tbody tr th {\n        vertical-align: top;\n    }\n\n    .dataframe thead th {\n        text-align: right;\n    }\n</style>\n<table border=\"1\" class=\"dataframe\">\n  <thead>\n    <tr style=\"text-align: right;\">\n      <th></th>\n      <th>Line</th>\n      <th>OEE %</th>\n      <th>rolling_std</th>\n      <th>Unplanned_tech_loss</th>\n      <th>Changeover_rolling_mean</th>\n      <th>Review_Date</th>\n      <th>Date</th>\n    </tr>\n  </thead>\n  <tbody>\n    <tr>\n      <th>9</th>\n      <td>M18 Filling</td>\n      <td>0.046124</td>\n      <td>NaN</td>\n      <td>0.114818</td>\n      <td>0.789781</td>\n      <td>2021-04-15</td>\n      <td>2021-04-04</td>\n    </tr>\n    <tr>\n      <th>18</th>\n      <td>M18 Filling</td>\n      <td>0.463021</td>\n      <td>0.294791</td>\n      <td>0.240339</td>\n      <td>0.442593</td>\n      <td>2021-04-15</td>\n      <td>2021-04-11</td>\n    </tr>\n    <tr>\n      <th>32</th>\n      <td>M18 Filling</td>\n      <td>0.386723</td>\n      <td>0.221973</td>\n      <td>0.069673</td>\n      <td>0.425201</td>\n      <td>2021-05-13</td>\n      <td>2021-04-18</td>\n    </tr>\n    <tr>\n      <th>47</th>\n      <td>M18 Filling</td>\n      <td>0.352420</td>\n      <td>0.183226</td>\n      <td>0.485988</td>\n      <td>0.327211</td>\n      <td>2021-05-13</td>\n      <td>2021-04-25</td>\n    </tr>\n    <tr>\n      <th>63</th>\n      <td>M18 Filling</td>\n      <td>0.530336</td>\n      <td>0.079604</td>\n      <td>0.311511</td>\n      <td>0.137063</td>\n      <td>2021-05-13</td>\n      <td>2021-05-02</td>\n    </tr>\n    <tr>\n      <th>78</th>\n      <td>M18 Filling</td>\n      <td>0.562696</td>\n      <td>0.103957</td>\n      <td>0.227898</td>\n      <td>0.122545</td>\n      <td>2021-05-13</td>\n      <td>2021-05-09</td>\n    </tr>\n    <tr>\n      <th>92</th>\n      <td>M18 Filling</td>\n      <td>0.698908</td>\n      <td>0.142578</td>\n      <td>0.108069</td>\n      <td>0.024941</td>\n      <td>2021-06-10</td>\n      <td>2021-05-16</td>\n    </tr>\n    <tr>\n      <th>98</th>\n      <td>M18 Filling</td>\n      <td>0.000000</td>\n      <td>0.307459</td>\n      <td>0.000000</td>\n      <td>0.266630</td>\n      <td>2021-06-10</td>\n      <td>2021-05-23</td>\n    </tr>\n    <tr>\n      <th>116</th>\n      <td>M18 Filling</td>\n      <td>0.191951</td>\n      <td>0.323388</td>\n      <td>0.080336</td>\n      <td>0.415980</td>\n      <td>2021-06-10</td>\n      <td>2021-05-30</td>\n    </tr>\n    <tr>\n      <th>130</th>\n      <td>M18 Filling</td>\n      <td>0.537044</td>\n      <td>0.318333</td>\n      <td>0.216673</td>\n      <td>0.416194</td>\n      <td>2021-06-10</td>\n      <td>2021-06-06</td>\n    </tr>\n    <tr>\n      <th>156</th>\n      <td>M18 Filling</td>\n      <td>0.638877</td>\n      <td>0.297577</td>\n      <td>0.222576</td>\n      <td>0.426343</td>\n      <td>2021-07-08</td>\n      <td>2021-06-13</td>\n    </tr>\n    <tr>\n      <th>169</th>\n      <td>M18 Filling</td>\n      <td>0.661879</td>\n      <td>0.217207</td>\n      <td>0.200207</td>\n      <td>0.185797</td>\n      <td>2021-07-08</td>\n      <td>2021-06-20</td>\n    </tr>\n    <tr>\n      <th>173</th>\n      <td>M18 Filling</td>\n      <td>0.620440</td>\n      <td>0.054387</td>\n      <td>0.198006</td>\n      <td>0.039446</td>\n      <td>2021-07-08</td>\n      <td>2021-06-27</td>\n    </tr>\n    <tr>\n      <th>201</th>\n      <td>M18 Filling</td>\n      <td>0.000000</td>\n      <td>0.320648</td>\n      <td>0.000000</td>\n      <td>0.279900</td>\n      <td>2021-07-08</td>\n      <td>2021-07-04</td>\n    </tr>\n  </tbody>\n</table>\n</div>"
     },
     "metadata": {},
     "execution_count": 42
    }
   ],
   "source": [
    "df_weekly[['Line','OEE %','rolling_std','Unplanned_tech_loss','Changeover_rolling_mean','Review_Date','Date']][df_weekly.Line.str.contains('M18')]"
   ]
  },
  {
   "cell_type": "code",
   "execution_count": 85,
   "metadata": {},
   "outputs": [
    {
     "output_type": "execute_result",
     "data": {
      "text/plain": [
       "<pandas.io.formats.style.Styler at 0x2271246f5b0>"
      ],
      "text/html": "<style  type=\"text/css\" >\n#T_a4f41_row0_col3,#T_a4f41_row0_col10,#T_a4f41_row0_col11,#T_a4f41_row0_col14,#T_a4f41_row0_col25,#T_a4f41_row0_col26,#T_a4f41_row0_col28,#T_a4f41_row0_col29,#T_a4f41_row0_col35,#T_a4f41_row0_col36,#T_a4f41_row1_col14,#T_a4f41_row1_col30,#T_a4f41_row2_col14,#T_a4f41_row2_col28,#T_a4f41_row2_col29,#T_a4f41_row2_col31,#T_a4f41_row2_col32,#T_a4f41_row2_col33,#T_a4f41_row2_col34,#T_a4f41_row2_col36,#T_a4f41_row2_col37,#T_a4f41_row2_col38,#T_a4f41_row2_col39,#T_a4f41_row2_col40,#T_a4f41_row2_col41,#T_a4f41_row3_col2,#T_a4f41_row3_col14,#T_a4f41_row3_col35,#T_a4f41_row3_col40,#T_a4f41_row4_col14,#T_a4f41_row4_col40,#T_a4f41_row5_col0,#T_a4f41_row5_col14,#T_a4f41_row6_col14,#T_a4f41_row7_col14,#T_a4f41_row7_col48,#T_a4f41_row7_col49,#T_a4f41_row7_col53,#T_a4f41_row7_col54,#T_a4f41_row8_col6,#T_a4f41_row8_col12,#T_a4f41_row9_col1,#T_a4f41_row9_col8,#T_a4f41_row9_col9,#T_a4f41_row9_col14,#T_a4f41_row9_col15,#T_a4f41_row9_col16,#T_a4f41_row9_col21,#T_a4f41_row9_col22,#T_a4f41_row9_col23,#T_a4f41_row9_col24,#T_a4f41_row9_col27,#T_a4f41_row9_col42,#T_a4f41_row9_col43,#T_a4f41_row9_col44,#T_a4f41_row9_col50,#T_a4f41_row9_col51,#T_a4f41_row9_col52,#T_a4f41_row9_col55,#T_a4f41_row10_col4,#T_a4f41_row10_col5,#T_a4f41_row10_col13,#T_a4f41_row10_col14,#T_a4f41_row10_col17,#T_a4f41_row10_col18,#T_a4f41_row10_col19,#T_a4f41_row10_col20,#T_a4f41_row10_col28,#T_a4f41_row10_col29,#T_a4f41_row10_col30,#T_a4f41_row10_col45,#T_a4f41_row10_col46,#T_a4f41_row10_col47,#T_a4f41_row11_col14,#T_a4f41_row12_col32,#T_a4f41_row13_col7,#T_a4f41_row13_col14,#T_a4f41_row13_col32,#T_a4f41_row13_col38,#T_a4f41_row14_col14,#T_a4f41_row14_col41{\n            background-color:  purple;\n        }</style><table id=\"T_a4f41_\" ><thead>    <tr>        <th class=\"blank level0\" ></th>        <th class=\"col_heading level0 col0\" colspan=\"14\">sector_1</th>        <th class=\"col_heading level0 col14\" colspan=\"14\">sector_2</th>        <th class=\"col_heading level0 col28\" colspan=\"14\">sector_3</th>        <th class=\"col_heading level0 col42\" colspan=\"14\">sector_4</th>    </tr>    <tr>        <th class=\"index_name level1\" >Date</th>        <th class=\"col_heading level1 col0\" >2021-04-04 00:00:00</th>        <th class=\"col_heading level1 col1\" >2021-04-11 00:00:00</th>        <th class=\"col_heading level1 col2\" >2021-04-18 00:00:00</th>        <th class=\"col_heading level1 col3\" >2021-04-25 00:00:00</th>        <th class=\"col_heading level1 col4\" >2021-05-02 00:00:00</th>        <th class=\"col_heading level1 col5\" >2021-05-09 00:00:00</th>        <th class=\"col_heading level1 col6\" >2021-05-16 00:00:00</th>        <th class=\"col_heading level1 col7\" >2021-05-23 00:00:00</th>        <th class=\"col_heading level1 col8\" >2021-05-30 00:00:00</th>        <th class=\"col_heading level1 col9\" >2021-06-06 00:00:00</th>        <th class=\"col_heading level1 col10\" >2021-06-13 00:00:00</th>        <th class=\"col_heading level1 col11\" >2021-06-20 00:00:00</th>        <th class=\"col_heading level1 col12\" >2021-06-27 00:00:00</th>        <th class=\"col_heading level1 col13\" >2021-07-04 00:00:00</th>        <th class=\"col_heading level1 col14\" >2021-04-04 00:00:00</th>        <th class=\"col_heading level1 col15\" >2021-04-11 00:00:00</th>        <th class=\"col_heading level1 col16\" >2021-04-18 00:00:00</th>        <th class=\"col_heading level1 col17\" >2021-04-25 00:00:00</th>        <th class=\"col_heading level1 col18\" >2021-05-02 00:00:00</th>        <th class=\"col_heading level1 col19\" >2021-05-09 00:00:00</th>        <th class=\"col_heading level1 col20\" >2021-05-16 00:00:00</th>        <th class=\"col_heading level1 col21\" >2021-05-23 00:00:00</th>        <th class=\"col_heading level1 col22\" >2021-05-30 00:00:00</th>        <th class=\"col_heading level1 col23\" >2021-06-06 00:00:00</th>        <th class=\"col_heading level1 col24\" >2021-06-13 00:00:00</th>        <th class=\"col_heading level1 col25\" >2021-06-20 00:00:00</th>        <th class=\"col_heading level1 col26\" >2021-06-27 00:00:00</th>        <th class=\"col_heading level1 col27\" >2021-07-04 00:00:00</th>        <th class=\"col_heading level1 col28\" >2021-04-04 00:00:00</th>        <th class=\"col_heading level1 col29\" >2021-04-11 00:00:00</th>        <th class=\"col_heading level1 col30\" >2021-04-18 00:00:00</th>        <th class=\"col_heading level1 col31\" >2021-04-25 00:00:00</th>        <th class=\"col_heading level1 col32\" >2021-05-02 00:00:00</th>        <th class=\"col_heading level1 col33\" >2021-05-09 00:00:00</th>        <th class=\"col_heading level1 col34\" >2021-05-16 00:00:00</th>        <th class=\"col_heading level1 col35\" >2021-05-23 00:00:00</th>        <th class=\"col_heading level1 col36\" >2021-05-30 00:00:00</th>        <th class=\"col_heading level1 col37\" >2021-06-06 00:00:00</th>        <th class=\"col_heading level1 col38\" >2021-06-13 00:00:00</th>        <th class=\"col_heading level1 col39\" >2021-06-20 00:00:00</th>        <th class=\"col_heading level1 col40\" >2021-06-27 00:00:00</th>        <th class=\"col_heading level1 col41\" >2021-07-04 00:00:00</th>        <th class=\"col_heading level1 col42\" >2021-04-04 00:00:00</th>        <th class=\"col_heading level1 col43\" >2021-04-11 00:00:00</th>        <th class=\"col_heading level1 col44\" >2021-04-18 00:00:00</th>        <th class=\"col_heading level1 col45\" >2021-04-25 00:00:00</th>        <th class=\"col_heading level1 col46\" >2021-05-02 00:00:00</th>        <th class=\"col_heading level1 col47\" >2021-05-09 00:00:00</th>        <th class=\"col_heading level1 col48\" >2021-05-16 00:00:00</th>        <th class=\"col_heading level1 col49\" >2021-05-23 00:00:00</th>        <th class=\"col_heading level1 col50\" >2021-05-30 00:00:00</th>        <th class=\"col_heading level1 col51\" >2021-06-06 00:00:00</th>        <th class=\"col_heading level1 col52\" >2021-06-13 00:00:00</th>        <th class=\"col_heading level1 col53\" >2021-06-20 00:00:00</th>        <th class=\"col_heading level1 col54\" >2021-06-27 00:00:00</th>        <th class=\"col_heading level1 col55\" >2021-07-04 00:00:00</th>    </tr>    <tr>        <th class=\"index_name level0\" >Line</th>        <th class=\"blank\" ></th>        <th class=\"blank\" ></th>        <th class=\"blank\" ></th>        <th class=\"blank\" ></th>        <th class=\"blank\" ></th>        <th class=\"blank\" ></th>        <th class=\"blank\" ></th>        <th class=\"blank\" ></th>        <th class=\"blank\" ></th>        <th class=\"blank\" ></th>        <th class=\"blank\" ></th>        <th class=\"blank\" ></th>        <th class=\"blank\" ></th>        <th class=\"blank\" ></th>        <th class=\"blank\" ></th>        <th class=\"blank\" ></th>        <th class=\"blank\" ></th>        <th class=\"blank\" ></th>        <th class=\"blank\" ></th>        <th class=\"blank\" ></th>        <th class=\"blank\" ></th>        <th class=\"blank\" ></th>        <th class=\"blank\" ></th>        <th class=\"blank\" ></th>        <th class=\"blank\" ></th>        <th class=\"blank\" ></th>        <th class=\"blank\" ></th>        <th class=\"blank\" ></th>        <th class=\"blank\" ></th>        <th class=\"blank\" ></th>        <th class=\"blank\" ></th>        <th class=\"blank\" ></th>        <th class=\"blank\" ></th>        <th class=\"blank\" ></th>        <th class=\"blank\" ></th>        <th class=\"blank\" ></th>        <th class=\"blank\" ></th>        <th class=\"blank\" ></th>        <th class=\"blank\" ></th>        <th class=\"blank\" ></th>        <th class=\"blank\" ></th>        <th class=\"blank\" ></th>        <th class=\"blank\" ></th>        <th class=\"blank\" ></th>        <th class=\"blank\" ></th>        <th class=\"blank\" ></th>        <th class=\"blank\" ></th>        <th class=\"blank\" ></th>        <th class=\"blank\" ></th>        <th class=\"blank\" ></th>        <th class=\"blank\" ></th>        <th class=\"blank\" ></th>        <th class=\"blank\" ></th>        <th class=\"blank\" ></th>        <th class=\"blank\" ></th>        <th class=\"blank\" ></th>    </tr></thead><tbody>\n                <tr>\n                        <th id=\"T_a4f41_level0_row0\" class=\"row_heading level0 row0\" >AL5 Packaging 1</th>\n                        <td id=\"T_a4f41_row0_col0\" class=\"data row0 col0\" >0.000000</td>\n                        <td id=\"T_a4f41_row0_col1\" class=\"data row0 col1\" >0.000000</td>\n                        <td id=\"T_a4f41_row0_col2\" class=\"data row0 col2\" >-0.029948</td>\n                        <td id=\"T_a4f41_row0_col3\" class=\"data row0 col3\" >0.192906</td>\n                        <td id=\"T_a4f41_row0_col4\" class=\"data row0 col4\" >-0.136848</td>\n                        <td id=\"T_a4f41_row0_col5\" class=\"data row0 col5\" >-0.062193</td>\n                        <td id=\"T_a4f41_row0_col6\" class=\"data row0 col6\" >0.063953</td>\n                        <td id=\"T_a4f41_row0_col7\" class=\"data row0 col7\" >0.000000</td>\n                        <td id=\"T_a4f41_row0_col8\" class=\"data row0 col8\" >0.000000</td>\n                        <td id=\"T_a4f41_row0_col9\" class=\"data row0 col9\" >-0.507565</td>\n                        <td id=\"T_a4f41_row0_col10\" class=\"data row0 col10\" >0.330179</td>\n                        <td id=\"T_a4f41_row0_col11\" class=\"data row0 col11\" >0.136351</td>\n                        <td id=\"T_a4f41_row0_col12\" class=\"data row0 col12\" >0.016760</td>\n                        <td id=\"T_a4f41_row0_col13\" class=\"data row0 col13\" >-0.014238</td>\n                        <td id=\"T_a4f41_row0_col14\" class=\"data row0 col14\" >0.097643</td>\n                        <td id=\"T_a4f41_row0_col15\" class=\"data row0 col15\" >0.000000</td>\n                        <td id=\"T_a4f41_row0_col16\" class=\"data row0 col16\" >0.017290</td>\n                        <td id=\"T_a4f41_row0_col17\" class=\"data row0 col17\" >0.087615</td>\n                        <td id=\"T_a4f41_row0_col18\" class=\"data row0 col18\" >0.085253</td>\n                        <td id=\"T_a4f41_row0_col19\" class=\"data row0 col19\" >0.092469</td>\n                        <td id=\"T_a4f41_row0_col20\" class=\"data row0 col20\" >0.083941</td>\n                        <td id=\"T_a4f41_row0_col21\" class=\"data row0 col21\" >0.031694</td>\n                        <td id=\"T_a4f41_row0_col22\" class=\"data row0 col22\" >0.031977</td>\n                        <td id=\"T_a4f41_row0_col23\" class=\"data row0 col23\" >0.253782</td>\n                        <td id=\"T_a4f41_row0_col24\" class=\"data row0 col24\" >0.239303</td>\n                        <td id=\"T_a4f41_row0_col25\" class=\"data row0 col25\" >0.230223</td>\n                        <td id=\"T_a4f41_row0_col26\" class=\"data row0 col26\" >0.224082</td>\n                        <td id=\"T_a4f41_row0_col27\" class=\"data row0 col27\" >0.071769</td>\n                        <td id=\"T_a4f41_row0_col28\" class=\"data row0 col28\" >0.465009</td>\n                        <td id=\"T_a4f41_row0_col29\" class=\"data row0 col29\" >0.394046</td>\n                        <td id=\"T_a4f41_row0_col30\" class=\"data row0 col30\" >0.314964</td>\n                        <td id=\"T_a4f41_row0_col31\" class=\"data row0 col31\" >0.135051</td>\n                        <td id=\"T_a4f41_row0_col32\" class=\"data row0 col32\" >0.280638</td>\n                        <td id=\"T_a4f41_row0_col33\" class=\"data row0 col33\" >0.302882</td>\n                        <td id=\"T_a4f41_row0_col34\" class=\"data row0 col34\" >0.230673</td>\n                        <td id=\"T_a4f41_row0_col35\" class=\"data row0 col35\" >0.619956</td>\n                        <td id=\"T_a4f41_row0_col36\" class=\"data row0 col36\" >0.494700</td>\n                        <td id=\"T_a4f41_row0_col37\" class=\"data row0 col37\" >0.000000</td>\n                        <td id=\"T_a4f41_row0_col38\" class=\"data row0 col38\" >0.333841</td>\n                        <td id=\"T_a4f41_row0_col39\" class=\"data row0 col39\" >0.173684</td>\n                        <td id=\"T_a4f41_row0_col40\" class=\"data row0 col40\" >0.192306</td>\n                        <td id=\"T_a4f41_row0_col41\" class=\"data row0 col41\" >0.266691</td>\n                        <td id=\"T_a4f41_row0_col42\" class=\"data row0 col42\" >0.146007</td>\n                        <td id=\"T_a4f41_row0_col43\" class=\"data row0 col43\" >0.146007</td>\n                        <td id=\"T_a4f41_row0_col44\" class=\"data row0 col44\" >0.087039</td>\n                        <td id=\"T_a4f41_row0_col45\" class=\"data row0 col45\" >0.104883</td>\n                        <td id=\"T_a4f41_row0_col46\" class=\"data row0 col46\" >0.091009</td>\n                        <td id=\"T_a4f41_row0_col47\" class=\"data row0 col47\" >0.090580</td>\n                        <td id=\"T_a4f41_row0_col48\" class=\"data row0 col48\" >0.083964</td>\n                        <td id=\"T_a4f41_row0_col49\" class=\"data row0 col49\" >0.071042</td>\n                        <td id=\"T_a4f41_row0_col50\" class=\"data row0 col50\" >0.074933</td>\n                        <td id=\"T_a4f41_row0_col51\" class=\"data row0 col51\" >0.074731</td>\n                        <td id=\"T_a4f41_row0_col52\" class=\"data row0 col52\" >0.074752</td>\n                        <td id=\"T_a4f41_row0_col53\" class=\"data row0 col53\" >0.064235</td>\n                        <td id=\"T_a4f41_row0_col54\" class=\"data row0 col54\" >0.079034</td>\n                        <td id=\"T_a4f41_row0_col55\" class=\"data row0 col55\" >0.079075</td>\n            </tr>\n            <tr>\n                        <th id=\"T_a4f41_level0_row1\" class=\"row_heading level0 row1\" >AL6</th>\n                        <td id=\"T_a4f41_row1_col0\" class=\"data row1 col0\" >0.035240</td>\n                        <td id=\"T_a4f41_row1_col1\" class=\"data row1 col1\" >-0.007216</td>\n                        <td id=\"T_a4f41_row1_col2\" class=\"data row1 col2\" >-0.026541</td>\n                        <td id=\"T_a4f41_row1_col3\" class=\"data row1 col3\" >-0.024595</td>\n                        <td id=\"T_a4f41_row1_col4\" class=\"data row1 col4\" >0.042794</td>\n                        <td id=\"T_a4f41_row1_col5\" class=\"data row1 col5\" >0.075993</td>\n                        <td id=\"T_a4f41_row1_col6\" class=\"data row1 col6\" >-0.027837</td>\n                        <td id=\"T_a4f41_row1_col7\" class=\"data row1 col7\" >0.098800</td>\n                        <td id=\"T_a4f41_row1_col8\" class=\"data row1 col8\" >-0.149572</td>\n                        <td id=\"T_a4f41_row1_col9\" class=\"data row1 col9\" >0.126385</td>\n                        <td id=\"T_a4f41_row1_col10\" class=\"data row1 col10\" >-0.104511</td>\n                        <td id=\"T_a4f41_row1_col11\" class=\"data row1 col11\" >0.063769</td>\n                        <td id=\"T_a4f41_row1_col12\" class=\"data row1 col12\" >-0.048738</td>\n                        <td id=\"T_a4f41_row1_col13\" class=\"data row1 col13\" >-0.078298</td>\n                        <td id=\"T_a4f41_row1_col14\" class=\"data row1 col14\" >0.097643</td>\n                        <td id=\"T_a4f41_row1_col15\" class=\"data row1 col15\" >0.005102</td>\n                        <td id=\"T_a4f41_row1_col16\" class=\"data row1 col16\" >0.017776</td>\n                        <td id=\"T_a4f41_row1_col17\" class=\"data row1 col17\" >0.026647</td>\n                        <td id=\"T_a4f41_row1_col18\" class=\"data row1 col18\" >0.022650</td>\n                        <td id=\"T_a4f41_row1_col19\" class=\"data row1 col19\" >0.051255</td>\n                        <td id=\"T_a4f41_row1_col20\" class=\"data row1 col20\" >0.052506</td>\n                        <td id=\"T_a4f41_row1_col21\" class=\"data row1 col21\" >0.061416</td>\n                        <td id=\"T_a4f41_row1_col22\" class=\"data row1 col22\" >0.062384</td>\n                        <td id=\"T_a4f41_row1_col23\" class=\"data row1 col23\" >0.068884</td>\n                        <td id=\"T_a4f41_row1_col24\" class=\"data row1 col24\" >0.074493</td>\n                        <td id=\"T_a4f41_row1_col25\" class=\"data row1 col25\" >0.058049</td>\n                        <td id=\"T_a4f41_row1_col26\" class=\"data row1 col26\" >0.047659</td>\n                        <td id=\"T_a4f41_row1_col27\" class=\"data row1 col27\" >0.052392</td>\n                        <td id=\"T_a4f41_row1_col28\" class=\"data row1 col28\" >0.342851</td>\n                        <td id=\"T_a4f41_row1_col29\" class=\"data row1 col29\" >0.392222</td>\n                        <td id=\"T_a4f41_row1_col30\" class=\"data row1 col30\" >0.516086</td>\n                        <td id=\"T_a4f41_row1_col31\" class=\"data row1 col31\" >0.486667</td>\n                        <td id=\"T_a4f41_row1_col32\" class=\"data row1 col32\" >0.491310</td>\n                        <td id=\"T_a4f41_row1_col33\" class=\"data row1 col33\" >0.399435</td>\n                        <td id=\"T_a4f41_row1_col34\" class=\"data row1 col34\" >0.432331</td>\n                        <td id=\"T_a4f41_row1_col35\" class=\"data row1 col35\" >0.288794</td>\n                        <td id=\"T_a4f41_row1_col36\" class=\"data row1 col36\" >0.286623</td>\n                        <td id=\"T_a4f41_row1_col37\" class=\"data row1 col37\" >0.271771</td>\n                        <td id=\"T_a4f41_row1_col38\" class=\"data row1 col38\" >0.206465</td>\n                        <td id=\"T_a4f41_row1_col39\" class=\"data row1 col39\" >0.290337</td>\n                        <td id=\"T_a4f41_row1_col40\" class=\"data row1 col40\" >0.354232</td>\n                        <td id=\"T_a4f41_row1_col41\" class=\"data row1 col41\" >0.396381</td>\n                        <td id=\"T_a4f41_row1_col42\" class=\"data row1 col42\" >0.184958</td>\n                        <td id=\"T_a4f41_row1_col43\" class=\"data row1 col43\" >0.143095</td>\n                        <td id=\"T_a4f41_row1_col44\" class=\"data row1 col44\" >0.114245</td>\n                        <td id=\"T_a4f41_row1_col45\" class=\"data row1 col45\" >0.106977</td>\n                        <td id=\"T_a4f41_row1_col46\" class=\"data row1 col46\" >0.078945</td>\n                        <td id=\"T_a4f41_row1_col47\" class=\"data row1 col47\" >0.078701</td>\n                        <td id=\"T_a4f41_row1_col48\" class=\"data row1 col48\" >0.086895</td>\n                        <td id=\"T_a4f41_row1_col49\" class=\"data row1 col49\" >0.076246</td>\n                        <td id=\"T_a4f41_row1_col50\" class=\"data row1 col50\" >0.085130</td>\n                        <td id=\"T_a4f41_row1_col51\" class=\"data row1 col51\" >0.080396</td>\n                        <td id=\"T_a4f41_row1_col52\" class=\"data row1 col52\" >0.075543</td>\n                        <td id=\"T_a4f41_row1_col53\" class=\"data row1 col53\" >0.069819</td>\n                        <td id=\"T_a4f41_row1_col54\" class=\"data row1 col54\" >0.055182</td>\n                        <td id=\"T_a4f41_row1_col55\" class=\"data row1 col55\" >0.053813</td>\n            </tr>\n            <tr>\n                        <th id=\"T_a4f41_level0_row2\" class=\"row_heading level0 row2\" >C2 Packaging Line</th>\n                        <td id=\"T_a4f41_row2_col0\" class=\"data row2 col0\" >0.060911</td>\n                        <td id=\"T_a4f41_row2_col1\" class=\"data row2 col1\" >0.072293</td>\n                        <td id=\"T_a4f41_row2_col2\" class=\"data row2 col2\" >-0.120032</td>\n                        <td id=\"T_a4f41_row2_col3\" class=\"data row2 col3\" >-0.038125</td>\n                        <td id=\"T_a4f41_row2_col4\" class=\"data row2 col4\" >0.045678</td>\n                        <td id=\"T_a4f41_row2_col5\" class=\"data row2 col5\" >0.071465</td>\n                        <td id=\"T_a4f41_row2_col6\" class=\"data row2 col6\" >-0.060302</td>\n                        <td id=\"T_a4f41_row2_col7\" class=\"data row2 col7\" >-0.061913</td>\n                        <td id=\"T_a4f41_row2_col8\" class=\"data row2 col8\" >-0.008330</td>\n                        <td id=\"T_a4f41_row2_col9\" class=\"data row2 col9\" >0.068896</td>\n                        <td id=\"T_a4f41_row2_col10\" class=\"data row2 col10\" >0.039284</td>\n                        <td id=\"T_a4f41_row2_col11\" class=\"data row2 col11\" >-0.032762</td>\n                        <td id=\"T_a4f41_row2_col12\" class=\"data row2 col12\" >0.000000</td>\n                        <td id=\"T_a4f41_row2_col13\" class=\"data row2 col13\" >-0.223237</td>\n                        <td id=\"T_a4f41_row2_col14\" class=\"data row2 col14\" >0.097643</td>\n                        <td id=\"T_a4f41_row2_col15\" class=\"data row2 col15\" >0.051119</td>\n                        <td id=\"T_a4f41_row2_col16\" class=\"data row2 col16\" >0.060433</td>\n                        <td id=\"T_a4f41_row2_col17\" class=\"data row2 col17\" >0.068162</td>\n                        <td id=\"T_a4f41_row2_col18\" class=\"data row2 col18\" >0.068111</td>\n                        <td id=\"T_a4f41_row2_col19\" class=\"data row2 col19\" >0.048880</td>\n                        <td id=\"T_a4f41_row2_col20\" class=\"data row2 col20\" >0.048225</td>\n                        <td id=\"T_a4f41_row2_col21\" class=\"data row2 col21\" >0.050177</td>\n                        <td id=\"T_a4f41_row2_col22\" class=\"data row2 col22\" >0.060863</td>\n                        <td id=\"T_a4f41_row2_col23\" class=\"data row2 col23\" >0.037918</td>\n                        <td id=\"T_a4f41_row2_col24\" class=\"data row2 col24\" >0.051397</td>\n                        <td id=\"T_a4f41_row2_col25\" class=\"data row2 col25\" >0.045457</td>\n                        <td id=\"T_a4f41_row2_col26\" class=\"data row2 col26\" >0.017736</td>\n                        <td id=\"T_a4f41_row2_col27\" class=\"data row2 col27\" >0.118093</td>\n                        <td id=\"T_a4f41_row2_col28\" class=\"data row2 col28\" >0.465009</td>\n                        <td id=\"T_a4f41_row2_col29\" class=\"data row2 col29\" >0.394046</td>\n                        <td id=\"T_a4f41_row2_col30\" class=\"data row2 col30\" >0.456647</td>\n                        <td id=\"T_a4f41_row2_col31\" class=\"data row2 col31\" >0.604006</td>\n                        <td id=\"T_a4f41_row2_col32\" class=\"data row2 col32\" >0.514876</td>\n                        <td id=\"T_a4f41_row2_col33\" class=\"data row2 col33\" >0.449509</td>\n                        <td id=\"T_a4f41_row2_col34\" class=\"data row2 col34\" >0.479049</td>\n                        <td id=\"T_a4f41_row2_col35\" class=\"data row2 col35\" >0.501770</td>\n                        <td id=\"T_a4f41_row2_col36\" class=\"data row2 col36\" >0.494700</td>\n                        <td id=\"T_a4f41_row2_col37\" class=\"data row2 col37\" >0.421654</td>\n                        <td id=\"T_a4f41_row2_col38\" class=\"data row2 col38\" >0.434789</td>\n                        <td id=\"T_a4f41_row2_col39\" class=\"data row2 col39\" >0.406865</td>\n                        <td id=\"T_a4f41_row2_col40\" class=\"data row2 col40\" >0.378615</td>\n                        <td id=\"T_a4f41_row2_col41\" class=\"data row2 col41\" >0.685652</td>\n                        <td id=\"T_a4f41_row2_col42\" class=\"data row2 col42\" >0.044140</td>\n                        <td id=\"T_a4f41_row2_col43\" class=\"data row2 col43\" >0.033929</td>\n                        <td id=\"T_a4f41_row2_col44\" class=\"data row2 col44\" >0.042407</td>\n                        <td id=\"T_a4f41_row2_col45\" class=\"data row2 col45\" >0.037359</td>\n                        <td id=\"T_a4f41_row2_col46\" class=\"data row2 col46\" >0.031083</td>\n                        <td id=\"T_a4f41_row2_col47\" class=\"data row2 col47\" >0.029387</td>\n                        <td id=\"T_a4f41_row2_col48\" class=\"data row2 col48\" >0.014546</td>\n                        <td id=\"T_a4f41_row2_col49\" class=\"data row2 col49\" >0.016415</td>\n                        <td id=\"T_a4f41_row2_col50\" class=\"data row2 col50\" >0.027476</td>\n                        <td id=\"T_a4f41_row2_col51\" class=\"data row2 col51\" >0.046696</td>\n                        <td id=\"T_a4f41_row2_col52\" class=\"data row2 col52\" >0.054718</td>\n                        <td id=\"T_a4f41_row2_col53\" class=\"data row2 col53\" >0.076029</td>\n                        <td id=\"T_a4f41_row2_col54\" class=\"data row2 col54\" >0.080278</td>\n                        <td id=\"T_a4f41_row2_col55\" class=\"data row2 col55\" >0.056597</td>\n            </tr>\n            <tr>\n                        <th id=\"T_a4f41_level0_row3\" class=\"row_heading level0 row3\" >C9 Packaging Line</th>\n                        <td id=\"T_a4f41_row3_col0\" class=\"data row3 col0\" >-0.156673</td>\n                        <td id=\"T_a4f41_row3_col1\" class=\"data row3 col1\" >-0.112774</td>\n                        <td id=\"T_a4f41_row3_col2\" class=\"data row3 col2\" >0.185507</td>\n                        <td id=\"T_a4f41_row3_col3\" class=\"data row3 col3\" >0.064867</td>\n                        <td id=\"T_a4f41_row3_col4\" class=\"data row3 col4\" >-0.003218</td>\n                        <td id=\"T_a4f41_row3_col5\" class=\"data row3 col5\" >0.026828</td>\n                        <td id=\"T_a4f41_row3_col6\" class=\"data row3 col6\" >-0.174445</td>\n                        <td id=\"T_a4f41_row3_col7\" class=\"data row3 col7\" >0.048091</td>\n                        <td id=\"T_a4f41_row3_col8\" class=\"data row3 col8\" >0.112681</td>\n                        <td id=\"T_a4f41_row3_col9\" class=\"data row3 col9\" >-0.006812</td>\n                        <td id=\"T_a4f41_row3_col10\" class=\"data row3 col10\" >0.083021</td>\n                        <td id=\"T_a4f41_row3_col11\" class=\"data row3 col11\" >-0.045966</td>\n                        <td id=\"T_a4f41_row3_col12\" class=\"data row3 col12\" >-0.060883</td>\n                        <td id=\"T_a4f41_row3_col13\" class=\"data row3 col13\" >-0.082118</td>\n                        <td id=\"T_a4f41_row3_col14\" class=\"data row3 col14\" >0.097643</td>\n                        <td id=\"T_a4f41_row3_col15\" class=\"data row3 col15\" >0.079743</td>\n                        <td id=\"T_a4f41_row3_col16\" class=\"data row3 col16\" >0.093471</td>\n                        <td id=\"T_a4f41_row3_col17\" class=\"data row3 col17\" >0.107335</td>\n                        <td id=\"T_a4f41_row3_col18\" class=\"data row3 col18\" >0.117687</td>\n                        <td id=\"T_a4f41_row3_col19\" class=\"data row3 col19\" >0.037776</td>\n                        <td id=\"T_a4f41_row3_col20\" class=\"data row3 col20\" >0.079719</td>\n                        <td id=\"T_a4f41_row3_col21\" class=\"data row3 col21\" >0.082222</td>\n                        <td id=\"T_a4f41_row3_col22\" class=\"data row3 col22\" >0.085362</td>\n                        <td id=\"T_a4f41_row3_col23\" class=\"data row3 col23\" >0.079486</td>\n                        <td id=\"T_a4f41_row3_col24\" class=\"data row3 col24\" >0.077638</td>\n                        <td id=\"T_a4f41_row3_col25\" class=\"data row3 col25\" >0.037802</td>\n                        <td id=\"T_a4f41_row3_col26\" class=\"data row3 col26\" >0.046610</td>\n                        <td id=\"T_a4f41_row3_col27\" class=\"data row3 col27\" >0.081720</td>\n                        <td id=\"T_a4f41_row3_col28\" class=\"data row3 col28\" >0.229297</td>\n                        <td id=\"T_a4f41_row3_col29\" class=\"data row3 col29\" >0.222335</td>\n                        <td id=\"T_a4f41_row3_col30\" class=\"data row3 col30\" >0.394748</td>\n                        <td id=\"T_a4f41_row3_col31\" class=\"data row3 col31\" >0.393027</td>\n                        <td id=\"T_a4f41_row3_col32\" class=\"data row3 col32\" >0.380134</td>\n                        <td id=\"T_a4f41_row3_col33\" class=\"data row3 col33\" >0.448504</td>\n                        <td id=\"T_a4f41_row3_col34\" class=\"data row3 col34\" >0.444345</td>\n                        <td id=\"T_a4f41_row3_col35\" class=\"data row3 col35\" >0.619956</td>\n                        <td id=\"T_a4f41_row3_col36\" class=\"data row3 col36\" >0.362147</td>\n                        <td id=\"T_a4f41_row3_col37\" class=\"data row3 col37\" >0.386026</td>\n                        <td id=\"T_a4f41_row3_col38\" class=\"data row3 col38\" >0.354641</td>\n                        <td id=\"T_a4f41_row3_col39\" class=\"data row3 col39\" >0.334504</td>\n                        <td id=\"T_a4f41_row3_col40\" class=\"data row3 col40\" >0.378615</td>\n                        <td id=\"T_a4f41_row3_col41\" class=\"data row3 col41\" >0.452948</td>\n                        <td id=\"T_a4f41_row3_col42\" class=\"data row3 col42\" >0.081871</td>\n                        <td id=\"T_a4f41_row3_col43\" class=\"data row3 col43\" >0.040935</td>\n                        <td id=\"T_a4f41_row3_col44\" class=\"data row3 col44\" >0.027290</td>\n                        <td id=\"T_a4f41_row3_col45\" class=\"data row3 col45\" >0.020468</td>\n                        <td id=\"T_a4f41_row3_col46\" class=\"data row3 col46\" >0.000000</td>\n                        <td id=\"T_a4f41_row3_col47\" class=\"data row3 col47\" >0.001385</td>\n                        <td id=\"T_a4f41_row3_col48\" class=\"data row3 col48\" >0.024889</td>\n                        <td id=\"T_a4f41_row3_col49\" class=\"data row3 col49\" >0.036109</td>\n                        <td id=\"T_a4f41_row3_col50\" class=\"data row3 col50\" >0.061528</td>\n                        <td id=\"T_a4f41_row3_col51\" class=\"data row3 col51\" >0.079214</td>\n                        <td id=\"T_a4f41_row3_col52\" class=\"data row3 col52\" >0.055710</td>\n                        <td id=\"T_a4f41_row3_col53\" class=\"data row3 col53\" >0.069295</td>\n                        <td id=\"T_a4f41_row3_col54\" class=\"data row3 col54\" >0.070908</td>\n                        <td id=\"T_a4f41_row3_col55\" class=\"data row3 col55\" >0.064467</td>\n            </tr>\n            <tr>\n                        <th id=\"T_a4f41_level0_row4\" class=\"row_heading level0 row4\" >GAMMA1</th>\n                        <td id=\"T_a4f41_row4_col0\" class=\"data row4 col0\" >0.012503</td>\n                        <td id=\"T_a4f41_row4_col1\" class=\"data row4 col1\" >-0.041496</td>\n                        <td id=\"T_a4f41_row4_col2\" class=\"data row4 col2\" >0.068978</td>\n                        <td id=\"T_a4f41_row4_col3\" class=\"data row4 col3\" >0.013150</td>\n                        <td id=\"T_a4f41_row4_col4\" class=\"data row4 col4\" >0.106140</td>\n                        <td id=\"T_a4f41_row4_col5\" class=\"data row4 col5\" >-0.070194</td>\n                        <td id=\"T_a4f41_row4_col6\" class=\"data row4 col6\" >-0.028489</td>\n                        <td id=\"T_a4f41_row4_col7\" class=\"data row4 col7\" >-0.006388</td>\n                        <td id=\"T_a4f41_row4_col8\" class=\"data row4 col8\" >-0.076577</td>\n                        <td id=\"T_a4f41_row4_col9\" class=\"data row4 col9\" >0.087270</td>\n                        <td id=\"T_a4f41_row4_col10\" class=\"data row4 col10\" >0.116359</td>\n                        <td id=\"T_a4f41_row4_col11\" class=\"data row4 col11\" >0.003118</td>\n                        <td id=\"T_a4f41_row4_col12\" class=\"data row4 col12\" >0.000000</td>\n                        <td id=\"T_a4f41_row4_col13\" class=\"data row4 col13\" >-0.111172</td>\n                        <td id=\"T_a4f41_row4_col14\" class=\"data row4 col14\" >0.097643</td>\n                        <td id=\"T_a4f41_row4_col15\" class=\"data row4 col15\" >0.029342</td>\n                        <td id=\"T_a4f41_row4_col16\" class=\"data row4 col16\" >0.034725</td>\n                        <td id=\"T_a4f41_row4_col17\" class=\"data row4 col17\" >0.036291</td>\n                        <td id=\"T_a4f41_row4_col18\" class=\"data row4 col18\" >0.077791</td>\n                        <td id=\"T_a4f41_row4_col19\" class=\"data row4 col19\" >0.053462</td>\n                        <td id=\"T_a4f41_row4_col20\" class=\"data row4 col20\" >0.048383</td>\n                        <td id=\"T_a4f41_row4_col21\" class=\"data row4 col21\" >0.048109</td>\n                        <td id=\"T_a4f41_row4_col22\" class=\"data row4 col22\" >0.047643</td>\n                        <td id=\"T_a4f41_row4_col23\" class=\"data row4 col23\" >0.041369</td>\n                        <td id=\"T_a4f41_row4_col24\" class=\"data row4 col24\" >0.084034</td>\n                        <td id=\"T_a4f41_row4_col25\" class=\"data row4 col25\" >0.099853</td>\n                        <td id=\"T_a4f41_row4_col26\" class=\"data row4 col26\" >0.059237</td>\n                        <td id=\"T_a4f41_row4_col27\" class=\"data row4 col27\" >0.055086</td>\n                        <td id=\"T_a4f41_row4_col28\" class=\"data row4 col28\" >0.291389</td>\n                        <td id=\"T_a4f41_row4_col29\" class=\"data row4 col29\" >0.319276</td>\n                        <td id=\"T_a4f41_row4_col30\" class=\"data row4 col30\" >0.138837</td>\n                        <td id=\"T_a4f41_row4_col31\" class=\"data row4 col31\" >0.200669</td>\n                        <td id=\"T_a4f41_row4_col32\" class=\"data row4 col32\" >0.179874</td>\n                        <td id=\"T_a4f41_row4_col33\" class=\"data row4 col33\" >0.163928</td>\n                        <td id=\"T_a4f41_row4_col34\" class=\"data row4 col34\" >0.196914</td>\n                        <td id=\"T_a4f41_row4_col35\" class=\"data row4 col35\" >0.193325</td>\n                        <td id=\"T_a4f41_row4_col36\" class=\"data row4 col36\" >0.179267</td>\n                        <td id=\"T_a4f41_row4_col37\" class=\"data row4 col37\" >0.180546</td>\n                        <td id=\"T_a4f41_row4_col38\" class=\"data row4 col38\" >0.130150</td>\n                        <td id=\"T_a4f41_row4_col39\" class=\"data row4 col39\" >0.125200</td>\n                        <td id=\"T_a4f41_row4_col40\" class=\"data row4 col40\" >0.378615</td>\n                        <td id=\"T_a4f41_row4_col41\" class=\"data row4 col41\" >0.143339</td>\n                        <td id=\"T_a4f41_row4_col42\" class=\"data row4 col42\" >0.209384</td>\n                        <td id=\"T_a4f41_row4_col43\" class=\"data row4 col43\" >0.177536</td>\n                        <td id=\"T_a4f41_row4_col44\" class=\"data row4 col44\" >0.239314</td>\n                        <td id=\"T_a4f41_row4_col45\" class=\"data row4 col45\" >0.249749</td>\n                        <td id=\"T_a4f41_row4_col46\" class=\"data row4 col46\" >0.224872</td>\n                        <td id=\"T_a4f41_row4_col47\" class=\"data row4 col47\" >0.244330</td>\n                        <td id=\"T_a4f41_row4_col48\" class=\"data row4 col48\" >0.212056</td>\n                        <td id=\"T_a4f41_row4_col49\" class=\"data row4 col49\" >0.214613</td>\n                        <td id=\"T_a4f41_row4_col50\" class=\"data row4 col50\" >0.269997</td>\n                        <td id=\"T_a4f41_row4_col51\" class=\"data row4 col51\" >0.270350</td>\n                        <td id=\"T_a4f41_row4_col52\" class=\"data row4 col52\" >0.257434</td>\n                        <td id=\"T_a4f41_row4_col53\" class=\"data row4 col53\" >0.233924</td>\n                        <td id=\"T_a4f41_row4_col54\" class=\"data row4 col54\" >0.201427</td>\n                        <td id=\"T_a4f41_row4_col55\" class=\"data row4 col55\" >0.219199</td>\n            </tr>\n            <tr>\n                        <th id=\"T_a4f41_level0_row5\" class=\"row_heading level0 row5\" >IMA C80/2</th>\n                        <td id=\"T_a4f41_row5_col0\" class=\"data row5 col0\" >0.130272</td>\n                        <td id=\"T_a4f41_row5_col1\" class=\"data row5 col1\" >-0.147669</td>\n                        <td id=\"T_a4f41_row5_col2\" class=\"data row5 col2\" >0.017881</td>\n                        <td id=\"T_a4f41_row5_col3\" class=\"data row5 col3\" >-0.045296</td>\n                        <td id=\"T_a4f41_row5_col4\" class=\"data row5 col4\" >0.126901</td>\n                        <td id=\"T_a4f41_row5_col5\" class=\"data row5 col5\" >-0.023979</td>\n                        <td id=\"T_a4f41_row5_col6\" class=\"data row5 col6\" >0.039114</td>\n                        <td id=\"T_a4f41_row5_col7\" class=\"data row5 col7\" >0.007142</td>\n                        <td id=\"T_a4f41_row5_col8\" class=\"data row5 col8\" >-0.123470</td>\n                        <td id=\"T_a4f41_row5_col9\" class=\"data row5 col9\" >0.072650</td>\n                        <td id=\"T_a4f41_row5_col10\" class=\"data row5 col10\" >0.010669</td>\n                        <td id=\"T_a4f41_row5_col11\" class=\"data row5 col11\" >0.031821</td>\n                        <td id=\"T_a4f41_row5_col12\" class=\"data row5 col12\" >0.029993</td>\n                        <td id=\"T_a4f41_row5_col13\" class=\"data row5 col13\" >-0.096609</td>\n                        <td id=\"T_a4f41_row5_col14\" class=\"data row5 col14\" >0.097643</td>\n                        <td id=\"T_a4f41_row5_col15\" class=\"data row5 col15\" >0.104418</td>\n                        <td id=\"T_a4f41_row5_col16\" class=\"data row5 col16\" >0.080592</td>\n                        <td id=\"T_a4f41_row5_col17\" class=\"data row5 col17\" >0.077690</td>\n                        <td id=\"T_a4f41_row5_col18\" class=\"data row5 col18\" >0.054607</td>\n                        <td id=\"T_a4f41_row5_col19\" class=\"data row5 col19\" >0.057230</td>\n                        <td id=\"T_a4f41_row5_col20\" class=\"data row5 col20\" >0.064034</td>\n                        <td id=\"T_a4f41_row5_col21\" class=\"data row5 col21\" >0.020455</td>\n                        <td id=\"T_a4f41_row5_col22\" class=\"data row5 col22\" >0.056612</td>\n                        <td id=\"T_a4f41_row5_col23\" class=\"data row5 col23\" >0.056713</td>\n                        <td id=\"T_a4f41_row5_col24\" class=\"data row5 col24\" >0.051457</td>\n                        <td id=\"T_a4f41_row5_col25\" class=\"data row5 col25\" >0.048656</td>\n                        <td id=\"T_a4f41_row5_col26\" class=\"data row5 col26\" >0.032795</td>\n                        <td id=\"T_a4f41_row5_col27\" class=\"data row5 col27\" >0.041548</td>\n                        <td id=\"T_a4f41_row5_col28\" class=\"data row5 col28\" >0.224561</td>\n                        <td id=\"T_a4f41_row5_col29\" class=\"data row5 col29\" >0.264082</td>\n                        <td id=\"T_a4f41_row5_col30\" class=\"data row5 col30\" >0.238785</td>\n                        <td id=\"T_a4f41_row5_col31\" class=\"data row5 col31\" >0.180133</td>\n                        <td id=\"T_a4f41_row5_col32\" class=\"data row5 col32\" >0.164040</td>\n                        <td id=\"T_a4f41_row5_col33\" class=\"data row5 col33\" >0.162985</td>\n                        <td id=\"T_a4f41_row5_col34\" class=\"data row5 col34\" >0.185422</td>\n                        <td id=\"T_a4f41_row5_col35\" class=\"data row5 col35\" >0.149106</td>\n                        <td id=\"T_a4f41_row5_col36\" class=\"data row5 col36\" >0.282920</td>\n                        <td id=\"T_a4f41_row5_col37\" class=\"data row5 col37\" >0.213088</td>\n                        <td id=\"T_a4f41_row5_col38\" class=\"data row5 col38\" >0.188204</td>\n                        <td id=\"T_a4f41_row5_col39\" class=\"data row5 col39\" >0.187384</td>\n                        <td id=\"T_a4f41_row5_col40\" class=\"data row5 col40\" >0.145926</td>\n                        <td id=\"T_a4f41_row5_col41\" class=\"data row5 col41\" >0.193675</td>\n                        <td id=\"T_a4f41_row5_col42\" class=\"data row5 col42\" >0.070836</td>\n                        <td id=\"T_a4f41_row5_col43\" class=\"data row5 col43\" >0.131315</td>\n                        <td id=\"T_a4f41_row5_col44\" class=\"data row5 col44\" >0.158429</td>\n                        <td id=\"T_a4f41_row5_col45\" class=\"data row5 col45\" >0.178621</td>\n                        <td id=\"T_a4f41_row5_col46\" class=\"data row5 col46\" >0.188748</td>\n                        <td id=\"T_a4f41_row5_col47\" class=\"data row5 col47\" >0.190167</td>\n                        <td id=\"T_a4f41_row5_col48\" class=\"data row5 col48\" >0.176568</td>\n                        <td id=\"T_a4f41_row5_col49\" class=\"data row5 col49\" >0.166666</td>\n                        <td id=\"T_a4f41_row5_col50\" class=\"data row5 col50\" >0.182659</td>\n                        <td id=\"T_a4f41_row5_col51\" class=\"data row5 col51\" >0.173885</td>\n                        <td id=\"T_a4f41_row5_col52\" class=\"data row5 col52\" >0.191808</td>\n                        <td id=\"T_a4f41_row5_col53\" class=\"data row5 col53\" >0.184578</td>\n                        <td id=\"T_a4f41_row5_col54\" class=\"data row5 col54\" >0.184157</td>\n                        <td id=\"T_a4f41_row5_col55\" class=\"data row5 col55\" >0.199801</td>\n            </tr>\n            <tr>\n                        <th id=\"T_a4f41_level0_row6\" class=\"row_heading level0 row6\" >L18 Packaging Line</th>\n                        <td id=\"T_a4f41_row6_col0\" class=\"data row6 col0\" >0.088240</td>\n                        <td id=\"T_a4f41_row6_col1\" class=\"data row6 col1\" >-0.055022</td>\n                        <td id=\"T_a4f41_row6_col2\" class=\"data row6 col2\" >-0.009504</td>\n                        <td id=\"T_a4f41_row6_col3\" class=\"data row6 col3\" >-0.043839</td>\n                        <td id=\"T_a4f41_row6_col4\" class=\"data row6 col4\" >0.122455</td>\n                        <td id=\"T_a4f41_row6_col5\" class=\"data row6 col5\" >0.010762</td>\n                        <td id=\"T_a4f41_row6_col6\" class=\"data row6 col6\" >-0.000284</td>\n                        <td id=\"T_a4f41_row6_col7\" class=\"data row6 col7\" >-0.033991</td>\n                        <td id=\"T_a4f41_row6_col8\" class=\"data row6 col8\" >-0.032848</td>\n                        <td id=\"T_a4f41_row6_col9\" class=\"data row6 col9\" >0.092181</td>\n                        <td id=\"T_a4f41_row6_col10\" class=\"data row6 col10\" >-0.049611</td>\n                        <td id=\"T_a4f41_row6_col11\" class=\"data row6 col11\" >0.073659</td>\n                        <td id=\"T_a4f41_row6_col12\" class=\"data row6 col12\" >-0.046826</td>\n                        <td id=\"T_a4f41_row6_col13\" class=\"data row6 col13\" >-0.081630</td>\n                        <td id=\"T_a4f41_row6_col14\" class=\"data row6 col14\" >0.097643</td>\n                        <td id=\"T_a4f41_row6_col15\" class=\"data row6 col15\" >0.038906</td>\n                        <td id=\"T_a4f41_row6_col16\" class=\"data row6 col16\" >0.034836</td>\n                        <td id=\"T_a4f41_row6_col17\" class=\"data row6 col17\" >0.044526</td>\n                        <td id=\"T_a4f41_row6_col18\" class=\"data row6 col18\" >0.050670</td>\n                        <td id=\"T_a4f41_row6_col19\" class=\"data row6 col19\" >0.063867</td>\n                        <td id=\"T_a4f41_row6_col20\" class=\"data row6 col20\" >0.064961</td>\n                        <td id=\"T_a4f41_row6_col21\" class=\"data row6 col21\" >0.016095</td>\n                        <td id=\"T_a4f41_row6_col22\" class=\"data row6 col22\" >0.032122</td>\n                        <td id=\"T_a4f41_row6_col23\" class=\"data row6 col23\" >0.040168</td>\n                        <td id=\"T_a4f41_row6_col24\" class=\"data row6 col24\" >0.038149</td>\n                        <td id=\"T_a4f41_row6_col25\" class=\"data row6 col25\" >0.051868</td>\n                        <td id=\"T_a4f41_row6_col26\" class=\"data row6 col26\" >0.031486</td>\n                        <td id=\"T_a4f41_row6_col27\" class=\"data row6 col27\" >0.053623</td>\n                        <td id=\"T_a4f41_row6_col28\" class=\"data row6 col28\" >0.208273</td>\n                        <td id=\"T_a4f41_row6_col29\" class=\"data row6 col29\" >0.265337</td>\n                        <td id=\"T_a4f41_row6_col30\" class=\"data row6 col30\" >0.226192</td>\n                        <td id=\"T_a4f41_row6_col31\" class=\"data row6 col31\" >0.239612</td>\n                        <td id=\"T_a4f41_row6_col32\" class=\"data row6 col32\" >0.141736</td>\n                        <td id=\"T_a4f41_row6_col33\" class=\"data row6 col33\" >0.143958</td>\n                        <td id=\"T_a4f41_row6_col34\" class=\"data row6 col34\" >0.093607</td>\n                        <td id=\"T_a4f41_row6_col35\" class=\"data row6 col35\" >0.196155</td>\n                        <td id=\"T_a4f41_row6_col36\" class=\"data row6 col36\" >0.187603</td>\n                        <td id=\"T_a4f41_row6_col37\" class=\"data row6 col37\" >0.143274</td>\n                        <td id=\"T_a4f41_row6_col38\" class=\"data row6 col38\" >0.098353</td>\n                        <td id=\"T_a4f41_row6_col39\" class=\"data row6 col39\" >0.083866</td>\n                        <td id=\"T_a4f41_row6_col40\" class=\"data row6 col40\" >0.090875</td>\n                        <td id=\"T_a4f41_row6_col41\" class=\"data row6 col41\" >0.185620</td>\n                        <td id=\"T_a4f41_row6_col42\" class=\"data row6 col42\" >0.134271</td>\n                        <td id=\"T_a4f41_row6_col43\" class=\"data row6 col43\" >0.136087</td>\n                        <td id=\"T_a4f41_row6_col44\" class=\"data row6 col44\" >0.126963</td>\n                        <td id=\"T_a4f41_row6_col45\" class=\"data row6 col45\" >0.138506</td>\n                        <td id=\"T_a4f41_row6_col46\" class=\"data row6 col46\" >0.147048</td>\n                        <td id=\"T_a4f41_row6_col47\" class=\"data row6 col47\" >0.148664</td>\n                        <td id=\"T_a4f41_row6_col48\" class=\"data row6 col48\" >0.177399</td>\n                        <td id=\"T_a4f41_row6_col49\" class=\"data row6 col49\" >0.162827</td>\n                        <td id=\"T_a4f41_row6_col50\" class=\"data row6 col50\" >0.160650</td>\n                        <td id=\"T_a4f41_row6_col51\" class=\"data row6 col51\" >0.158194</td>\n                        <td id=\"T_a4f41_row6_col52\" class=\"data row6 col52\" >0.161486</td>\n                        <td id=\"T_a4f41_row6_col53\" class=\"data row6 col53\" >0.172588</td>\n                        <td id=\"T_a4f41_row6_col54\" class=\"data row6 col54\" >0.169953</td>\n                        <td id=\"T_a4f41_row6_col55\" class=\"data row6 col55\" >0.183051</td>\n            </tr>\n            <tr>\n                        <th id=\"T_a4f41_level0_row7\" class=\"row_heading level0 row7\" >L25 Packaging Line</th>\n                        <td id=\"T_a4f41_row7_col0\" class=\"data row7 col0\" >0.042176</td>\n                        <td id=\"T_a4f41_row7_col1\" class=\"data row7 col1\" >-0.046751</td>\n                        <td id=\"T_a4f41_row7_col2\" class=\"data row7 col2\" >-0.159143</td>\n                        <td id=\"T_a4f41_row7_col3\" class=\"data row7 col3\" >0.105899</td>\n                        <td id=\"T_a4f41_row7_col4\" class=\"data row7 col4\" >0.143051</td>\n                        <td id=\"T_a4f41_row7_col5\" class=\"data row7 col5\" >-0.080778</td>\n                        <td id=\"T_a4f41_row7_col6\" class=\"data row7 col6\" >-0.032293</td>\n                        <td id=\"T_a4f41_row7_col7\" class=\"data row7 col7\" >0.022129</td>\n                        <td id=\"T_a4f41_row7_col8\" class=\"data row7 col8\" >0.053744</td>\n                        <td id=\"T_a4f41_row7_col9\" class=\"data row7 col9\" >-0.043539</td>\n                        <td id=\"T_a4f41_row7_col10\" class=\"data row7 col10\" >-0.020987</td>\n                        <td id=\"T_a4f41_row7_col11\" class=\"data row7 col11\" >0.017593</td>\n                        <td id=\"T_a4f41_row7_col12\" class=\"data row7 col12\" >-0.008010</td>\n                        <td id=\"T_a4f41_row7_col13\" class=\"data row7 col13\" >0.036620</td>\n                        <td id=\"T_a4f41_row7_col14\" class=\"data row7 col14\" >0.097643</td>\n                        <td id=\"T_a4f41_row7_col15\" class=\"data row7 col15\" >0.033058</td>\n                        <td id=\"T_a4f41_row7_col16\" class=\"data row7 col16\" >0.107939</td>\n                        <td id=\"T_a4f41_row7_col17\" class=\"data row7 col17\" >0.088484</td>\n                        <td id=\"T_a4f41_row7_col18\" class=\"data row7 col18\" >0.104036</td>\n                        <td id=\"T_a4f41_row7_col19\" class=\"data row7 col19\" >0.105016</td>\n                        <td id=\"T_a4f41_row7_col20\" class=\"data row7 col20\" >0.061640</td>\n                        <td id=\"T_a4f41_row7_col21\" class=\"data row7 col21\" >0.049343</td>\n                        <td id=\"T_a4f41_row7_col22\" class=\"data row7 col22\" >0.031859</td>\n                        <td id=\"T_a4f41_row7_col23\" class=\"data row7 col23\" >0.031859</td>\n                        <td id=\"T_a4f41_row7_col24\" class=\"data row7 col24\" >0.028297</td>\n                        <td id=\"T_a4f41_row7_col25\" class=\"data row7 col25\" >0.027422</td>\n                        <td id=\"T_a4f41_row7_col26\" class=\"data row7 col26\" >0.009343</td>\n                        <td id=\"T_a4f41_row7_col27\" class=\"data row7 col27\" >0.019916</td>\n                        <td id=\"T_a4f41_row7_col28\" class=\"data row7 col28\" >0.206618</td>\n                        <td id=\"T_a4f41_row7_col29\" class=\"data row7 col29\" >0.211318</td>\n                        <td id=\"T_a4f41_row7_col30\" class=\"data row7 col30\" >0.152292</td>\n                        <td id=\"T_a4f41_row7_col31\" class=\"data row7 col31\" >0.133694</td>\n                        <td id=\"T_a4f41_row7_col32\" class=\"data row7 col32\" >0.152410</td>\n                        <td id=\"T_a4f41_row7_col33\" class=\"data row7 col33\" >0.107606</td>\n                        <td id=\"T_a4f41_row7_col34\" class=\"data row7 col34\" >0.089513</td>\n                        <td id=\"T_a4f41_row7_col35\" class=\"data row7 col35\" >0.209447</td>\n                        <td id=\"T_a4f41_row7_col36\" class=\"data row7 col36\" >0.250883</td>\n                        <td id=\"T_a4f41_row7_col37\" class=\"data row7 col37\" >0.126578</td>\n                        <td id=\"T_a4f41_row7_col38\" class=\"data row7 col38\" >0.224615</td>\n                        <td id=\"T_a4f41_row7_col39\" class=\"data row7 col39\" >0.176019</td>\n                        <td id=\"T_a4f41_row7_col40\" class=\"data row7 col40\" >0.201629</td>\n                        <td id=\"T_a4f41_row7_col41\" class=\"data row7 col41\" >0.192098</td>\n                        <td id=\"T_a4f41_row7_col42\" class=\"data row7 col42\" >0.132655</td>\n                        <td id=\"T_a4f41_row7_col43\" class=\"data row7 col43\" >0.163907</td>\n                        <td id=\"T_a4f41_row7_col44\" class=\"data row7 col44\" >0.258599</td>\n                        <td id=\"T_a4f41_row7_col45\" class=\"data row7 col45\" >0.273209</td>\n                        <td id=\"T_a4f41_row7_col46\" class=\"data row7 col46\" >0.299018</td>\n                        <td id=\"T_a4f41_row7_col47\" class=\"data row7 col47\" >0.335569</td>\n                        <td id=\"T_a4f41_row7_col48\" class=\"data row7 col48\" >0.320791</td>\n                        <td id=\"T_a4f41_row7_col49\" class=\"data row7 col49\" >0.301482</td>\n                        <td id=\"T_a4f41_row7_col50\" class=\"data row7 col50\" >0.273366</td>\n                        <td id=\"T_a4f41_row7_col51\" class=\"data row7 col51\" >0.265260</td>\n                        <td id=\"T_a4f41_row7_col52\" class=\"data row7 col52\" >0.233708</td>\n                        <td id=\"T_a4f41_row7_col53\" class=\"data row7 col53\" >0.246058</td>\n                        <td id=\"T_a4f41_row7_col54\" class=\"data row7 col54\" >0.276305</td>\n                        <td id=\"T_a4f41_row7_col55\" class=\"data row7 col55\" >0.252406</td>\n            </tr>\n            <tr>\n                        <th id=\"T_a4f41_level0_row8\" class=\"row_heading level0 row8\" >LINE 01 - UHLMANN 1880</th>\n                        <td id=\"T_a4f41_row8_col0\" class=\"data row8 col0\" >nan</td>\n                        <td id=\"T_a4f41_row8_col1\" class=\"data row8 col1\" >nan</td>\n                        <td id=\"T_a4f41_row8_col2\" class=\"data row8 col2\" >nan</td>\n                        <td id=\"T_a4f41_row8_col3\" class=\"data row8 col3\" >nan</td>\n                        <td id=\"T_a4f41_row8_col4\" class=\"data row8 col4\" >-0.427854</td>\n                        <td id=\"T_a4f41_row8_col5\" class=\"data row8 col5\" >0.000000</td>\n                        <td id=\"T_a4f41_row8_col6\" class=\"data row8 col6\" >0.372515</td>\n                        <td id=\"T_a4f41_row8_col7\" class=\"data row8 col7\" >0.068707</td>\n                        <td id=\"T_a4f41_row8_col8\" class=\"data row8 col8\" >-0.056047</td>\n                        <td id=\"T_a4f41_row8_col9\" class=\"data row8 col9\" >-0.070367</td>\n                        <td id=\"T_a4f41_row8_col10\" class=\"data row8 col10\" >0.203893</td>\n                        <td id=\"T_a4f41_row8_col11\" class=\"data row8 col11\" >-0.150160</td>\n                        <td id=\"T_a4f41_row8_col12\" class=\"data row8 col12\" >0.198111</td>\n                        <td id=\"T_a4f41_row8_col13\" class=\"data row8 col13\" >-0.282615</td>\n                        <td id=\"T_a4f41_row8_col14\" class=\"data row8 col14\" >nan</td>\n                        <td id=\"T_a4f41_row8_col15\" class=\"data row8 col15\" >nan</td>\n                        <td id=\"T_a4f41_row8_col16\" class=\"data row8 col16\" >nan</td>\n                        <td id=\"T_a4f41_row8_col17\" class=\"data row8 col17\" >nan</td>\n                        <td id=\"T_a4f41_row8_col18\" class=\"data row8 col18\" >0.097643</td>\n                        <td id=\"T_a4f41_row8_col19\" class=\"data row8 col19\" >0.000000</td>\n                        <td id=\"T_a4f41_row8_col20\" class=\"data row8 col20\" >0.215072</td>\n                        <td id=\"T_a4f41_row8_col21\" class=\"data row8 col21\" >0.236574</td>\n                        <td id=\"T_a4f41_row8_col22\" class=\"data row8 col22\" >0.202037</td>\n                        <td id=\"T_a4f41_row8_col23\" class=\"data row8 col23\" >0.051869</td>\n                        <td id=\"T_a4f41_row8_col24\" class=\"data row8 col24\" >0.086351</td>\n                        <td id=\"T_a4f41_row8_col25\" class=\"data row8 col25\" >0.086634</td>\n                        <td id=\"T_a4f41_row8_col26\" class=\"data row8 col26\" >0.119715</td>\n                        <td id=\"T_a4f41_row8_col27\" class=\"data row8 col27\" >0.131077</td>\n                        <td id=\"T_a4f41_row8_col28\" class=\"data row8 col28\" >nan</td>\n                        <td id=\"T_a4f41_row8_col29\" class=\"data row8 col29\" >nan</td>\n                        <td id=\"T_a4f41_row8_col30\" class=\"data row8 col30\" >nan</td>\n                        <td id=\"T_a4f41_row8_col31\" class=\"data row8 col31\" >nan</td>\n                        <td id=\"T_a4f41_row8_col32\" class=\"data row8 col32\" >0.000000</td>\n                        <td id=\"T_a4f41_row8_col33\" class=\"data row8 col33\" >0.000000</td>\n                        <td id=\"T_a4f41_row8_col34\" class=\"data row8 col34\" >0.337516</td>\n                        <td id=\"T_a4f41_row8_col35\" class=\"data row8 col35\" >0.203047</td>\n                        <td id=\"T_a4f41_row8_col36\" class=\"data row8 col36\" >0.281732</td>\n                        <td id=\"T_a4f41_row8_col37\" class=\"data row8 col37\" >0.312050</td>\n                        <td id=\"T_a4f41_row8_col38\" class=\"data row8 col38\" >0.117504</td>\n                        <td id=\"T_a4f41_row8_col39\" class=\"data row8 col39\" >0.080061</td>\n                        <td id=\"T_a4f41_row8_col40\" class=\"data row8 col40\" >0.233553</td>\n                        <td id=\"T_a4f41_row8_col41\" class=\"data row8 col41\" >0.409397</td>\n                        <td id=\"T_a4f41_row8_col42\" class=\"data row8 col42\" >nan</td>\n                        <td id=\"T_a4f41_row8_col43\" class=\"data row8 col43\" >nan</td>\n                        <td id=\"T_a4f41_row8_col44\" class=\"data row8 col44\" >nan</td>\n                        <td id=\"T_a4f41_row8_col45\" class=\"data row8 col45\" >nan</td>\n                        <td id=\"T_a4f41_row8_col46\" class=\"data row8 col46\" >0.000000</td>\n                        <td id=\"T_a4f41_row8_col47\" class=\"data row8 col47\" >0.000000</td>\n                        <td id=\"T_a4f41_row8_col48\" class=\"data row8 col48\" >0.005520</td>\n                        <td id=\"T_a4f41_row8_col49\" class=\"data row8 col49\" >0.014179</td>\n                        <td id=\"T_a4f41_row8_col50\" class=\"data row8 col50\" >0.020300</td>\n                        <td id=\"T_a4f41_row8_col51\" class=\"data row8 col51\" >0.071758</td>\n                        <td id=\"T_a4f41_row8_col52\" class=\"data row8 col52\" >0.073951</td>\n                        <td id=\"T_a4f41_row8_col53\" class=\"data row8 col53\" >0.069827</td>\n                        <td id=\"T_a4f41_row8_col54\" class=\"data row8 col54\" >0.068238</td>\n                        <td id=\"T_a4f41_row8_col55\" class=\"data row8 col55\" >0.040405</td>\n            </tr>\n            <tr>\n                        <th id=\"T_a4f41_level0_row9\" class=\"row_heading level0 row9\" >M18 Filling</th>\n                        <td id=\"T_a4f41_row9_col0\" class=\"data row9 col0\" >-0.397398</td>\n                        <td id=\"T_a4f41_row9_col1\" class=\"data row9 col1\" >0.416897</td>\n                        <td id=\"T_a4f41_row9_col2\" class=\"data row9 col2\" >-0.076297</td>\n                        <td id=\"T_a4f41_row9_col3\" class=\"data row9 col3\" >-0.034303</td>\n                        <td id=\"T_a4f41_row9_col4\" class=\"data row9 col4\" >0.177917</td>\n                        <td id=\"T_a4f41_row9_col5\" class=\"data row9 col5\" >0.032359</td>\n                        <td id=\"T_a4f41_row9_col6\" class=\"data row9 col6\" >0.136212</td>\n                        <td id=\"T_a4f41_row9_col7\" class=\"data row9 col7\" >-0.698908</td>\n                        <td id=\"T_a4f41_row9_col8\" class=\"data row9 col8\" >0.191951</td>\n                        <td id=\"T_a4f41_row9_col9\" class=\"data row9 col9\" >0.345093</td>\n                        <td id=\"T_a4f41_row9_col10\" class=\"data row9 col10\" >0.101833</td>\n                        <td id=\"T_a4f41_row9_col11\" class=\"data row9 col11\" >0.023002</td>\n                        <td id=\"T_a4f41_row9_col12\" class=\"data row9 col12\" >-0.041439</td>\n                        <td id=\"T_a4f41_row9_col13\" class=\"data row9 col13\" >-0.620440</td>\n                        <td id=\"T_a4f41_row9_col14\" class=\"data row9 col14\" >0.097643</td>\n                        <td id=\"T_a4f41_row9_col15\" class=\"data row9 col15\" >0.294791</td>\n                        <td id=\"T_a4f41_row9_col16\" class=\"data row9 col16\" >0.221973</td>\n                        <td id=\"T_a4f41_row9_col17\" class=\"data row9 col17\" >0.183226</td>\n                        <td id=\"T_a4f41_row9_col18\" class=\"data row9 col18\" >0.079604</td>\n                        <td id=\"T_a4f41_row9_col19\" class=\"data row9 col19\" >0.103957</td>\n                        <td id=\"T_a4f41_row9_col20\" class=\"data row9 col20\" >0.142578</td>\n                        <td id=\"T_a4f41_row9_col21\" class=\"data row9 col21\" >0.307459</td>\n                        <td id=\"T_a4f41_row9_col22\" class=\"data row9 col22\" >0.323388</td>\n                        <td id=\"T_a4f41_row9_col23\" class=\"data row9 col23\" >0.318333</td>\n                        <td id=\"T_a4f41_row9_col24\" class=\"data row9 col24\" >0.297577</td>\n                        <td id=\"T_a4f41_row9_col25\" class=\"data row9 col25\" >0.217207</td>\n                        <td id=\"T_a4f41_row9_col26\" class=\"data row9 col26\" >0.054387</td>\n                        <td id=\"T_a4f41_row9_col27\" class=\"data row9 col27\" >0.320648</td>\n                        <td id=\"T_a4f41_row9_col28\" class=\"data row9 col28\" >0.114818</td>\n                        <td id=\"T_a4f41_row9_col29\" class=\"data row9 col29\" >0.240339</td>\n                        <td id=\"T_a4f41_row9_col30\" class=\"data row9 col30\" >0.069673</td>\n                        <td id=\"T_a4f41_row9_col31\" class=\"data row9 col31\" >0.485988</td>\n                        <td id=\"T_a4f41_row9_col32\" class=\"data row9 col32\" >0.311511</td>\n                        <td id=\"T_a4f41_row9_col33\" class=\"data row9 col33\" >0.227898</td>\n                        <td id=\"T_a4f41_row9_col34\" class=\"data row9 col34\" >0.108069</td>\n                        <td id=\"T_a4f41_row9_col35\" class=\"data row9 col35\" >0.000000</td>\n                        <td id=\"T_a4f41_row9_col36\" class=\"data row9 col36\" >0.080336</td>\n                        <td id=\"T_a4f41_row9_col37\" class=\"data row9 col37\" >0.216673</td>\n                        <td id=\"T_a4f41_row9_col38\" class=\"data row9 col38\" >0.222576</td>\n                        <td id=\"T_a4f41_row9_col39\" class=\"data row9 col39\" >0.200207</td>\n                        <td id=\"T_a4f41_row9_col40\" class=\"data row9 col40\" >0.198006</td>\n                        <td id=\"T_a4f41_row9_col41\" class=\"data row9 col41\" >0.000000</td>\n                        <td id=\"T_a4f41_row9_col42\" class=\"data row9 col42\" >0.789781</td>\n                        <td id=\"T_a4f41_row9_col43\" class=\"data row9 col43\" >0.442593</td>\n                        <td id=\"T_a4f41_row9_col44\" class=\"data row9 col44\" >0.425201</td>\n                        <td id=\"T_a4f41_row9_col45\" class=\"data row9 col45\" >0.327211</td>\n                        <td id=\"T_a4f41_row9_col46\" class=\"data row9 col46\" >0.137063</td>\n                        <td id=\"T_a4f41_row9_col47\" class=\"data row9 col47\" >0.122545</td>\n                        <td id=\"T_a4f41_row9_col48\" class=\"data row9 col48\" >0.024941</td>\n                        <td id=\"T_a4f41_row9_col49\" class=\"data row9 col49\" >0.266630</td>\n                        <td id=\"T_a4f41_row9_col50\" class=\"data row9 col50\" >0.415980</td>\n                        <td id=\"T_a4f41_row9_col51\" class=\"data row9 col51\" >0.416194</td>\n                        <td id=\"T_a4f41_row9_col52\" class=\"data row9 col52\" >0.426343</td>\n                        <td id=\"T_a4f41_row9_col53\" class=\"data row9 col53\" >0.185797</td>\n                        <td id=\"T_a4f41_row9_col54\" class=\"data row9 col54\" >0.039446</td>\n                        <td id=\"T_a4f41_row9_col55\" class=\"data row9 col55\" >0.279900</td>\n            </tr>\n            <tr>\n                        <th id=\"T_a4f41_level0_row10\" class=\"row_heading level0 row10\" >M21 Filling</th>\n                        <td id=\"T_a4f41_row10_col0\" class=\"data row10 col0\" >0.000000</td>\n                        <td id=\"T_a4f41_row10_col1\" class=\"data row10 col1\" >0.000000</td>\n                        <td id=\"T_a4f41_row10_col2\" class=\"data row10 col2\" >0.000000</td>\n                        <td id=\"T_a4f41_row10_col3\" class=\"data row10 col3\" >-0.599671</td>\n                        <td id=\"T_a4f41_row10_col4\" class=\"data row10 col4\" >0.579026</td>\n                        <td id=\"T_a4f41_row10_col5\" class=\"data row10 col5\" >0.190146</td>\n                        <td id=\"T_a4f41_row10_col6\" class=\"data row10 col6\" >-0.035178</td>\n                        <td id=\"T_a4f41_row10_col7\" class=\"data row10 col7\" >-0.035825</td>\n                        <td id=\"T_a4f41_row10_col8\" class=\"data row10 col8\" >-0.276402</td>\n                        <td id=\"T_a4f41_row10_col9\" class=\"data row10 col9\" >0.264075</td>\n                        <td id=\"T_a4f41_row10_col10\" class=\"data row10 col10\" >0.014851</td>\n                        <td id=\"T_a4f41_row10_col11\" class=\"data row10 col11\" >0.014932</td>\n                        <td id=\"T_a4f41_row10_col12\" class=\"data row10 col12\" >-0.367543</td>\n                        <td id=\"T_a4f41_row10_col13\" class=\"data row10 col13\" >0.283019</td>\n                        <td id=\"T_a4f41_row10_col14\" class=\"data row10 col14\" >0.097643</td>\n                        <td id=\"T_a4f41_row10_col15\" class=\"data row10 col15\" >0.000000</td>\n                        <td id=\"T_a4f41_row10_col16\" class=\"data row10 col16\" >0.000000</td>\n                        <td id=\"T_a4f41_row10_col17\" class=\"data row10 col17\" >0.299836</td>\n                        <td id=\"T_a4f41_row10_col18\" class=\"data row10 col18\" >0.296555</td>\n                        <td id=\"T_a4f41_row10_col19\" class=\"data row10 col19\" >0.335636</td>\n                        <td id=\"T_a4f41_row10_col20\" class=\"data row10 col20\" >0.356727</td>\n                        <td id=\"T_a4f41_row10_col21\" class=\"data row10 col21\" >0.082628</td>\n                        <td id=\"T_a4f41_row10_col22\" class=\"data row10 col22\" >0.158676</td>\n                        <td id=\"T_a4f41_row10_col23\" class=\"data row10 col23\" >0.143577</td>\n                        <td id=\"T_a4f41_row10_col24\" class=\"data row10 col24\" >0.136721</td>\n                        <td id=\"T_a4f41_row10_col25\" class=\"data row10 col25\" >0.140005</td>\n                        <td id=\"T_a4f41_row10_col26\" class=\"data row10 col26\" >0.176738</td>\n                        <td id=\"T_a4f41_row10_col27\" class=\"data row10 col27\" >0.171205</td>\n                        <td id=\"T_a4f41_row10_col28\" class=\"data row10 col28\" >0.465009</td>\n                        <td id=\"T_a4f41_row10_col29\" class=\"data row10 col29\" >0.394046</td>\n                        <td id=\"T_a4f41_row10_col30\" class=\"data row10 col30\" >0.516086</td>\n                        <td id=\"T_a4f41_row10_col31\" class=\"data row10 col31\" >0.000000</td>\n                        <td id=\"T_a4f41_row10_col32\" class=\"data row10 col32\" >0.147118</td>\n                        <td id=\"T_a4f41_row10_col33\" class=\"data row10 col33\" >0.160799</td>\n                        <td id=\"T_a4f41_row10_col34\" class=\"data row10 col34\" >0.143443</td>\n                        <td id=\"T_a4f41_row10_col35\" class=\"data row10 col35\" >0.108750</td>\n                        <td id=\"T_a4f41_row10_col36\" class=\"data row10 col36\" >0.083764</td>\n                        <td id=\"T_a4f41_row10_col37\" class=\"data row10 col37\" >0.146058</td>\n                        <td id=\"T_a4f41_row10_col38\" class=\"data row10 col38\" >0.104932</td>\n                        <td id=\"T_a4f41_row10_col39\" class=\"data row10 col39\" >0.092956</td>\n                        <td id=\"T_a4f41_row10_col40\" class=\"data row10 col40\" >0.141601</td>\n                        <td id=\"T_a4f41_row10_col41\" class=\"data row10 col41\" >0.211714</td>\n                        <td id=\"T_a4f41_row10_col42\" class=\"data row10 col42\" >0.146007</td>\n                        <td id=\"T_a4f41_row10_col43\" class=\"data row10 col43\" >0.146007</td>\n                        <td id=\"T_a4f41_row10_col44\" class=\"data row10 col44\" >0.146007</td>\n                        <td id=\"T_a4f41_row10_col45\" class=\"data row10 col45\" >1.000000</td>\n                        <td id=\"T_a4f41_row10_col46\" class=\"data row10 col46\" >0.596719</td>\n                        <td id=\"T_a4f41_row10_col47\" class=\"data row10 col47\" >0.413124</td>\n                        <td id=\"T_a4f41_row10_col48\" class=\"data row10 col48\" >0.319312</td>\n                        <td id=\"T_a4f41_row10_col49\" class=\"data row10 col49\" >0.088971</td>\n                        <td id=\"T_a4f41_row10_col50\" class=\"data row10 col50\" >0.127393</td>\n                        <td id=\"T_a4f41_row10_col51\" class=\"data row10 col51\" >0.124551</td>\n                        <td id=\"T_a4f41_row10_col52\" class=\"data row10 col52\" >0.128533</td>\n                        <td id=\"T_a4f41_row10_col53\" class=\"data row10 col53\" >0.119056</td>\n                        <td id=\"T_a4f41_row10_col54\" class=\"data row10 col54\" >0.142352</td>\n                        <td id=\"T_a4f41_row10_col55\" class=\"data row10 col55\" >0.140270</td>\n            </tr>\n            <tr>\n                        <th id=\"T_a4f41_level0_row11\" class=\"row_heading level0 row11\" >M22 Filling</th>\n                        <td id=\"T_a4f41_row11_col0\" class=\"data row11 col0\" >0.119268</td>\n                        <td id=\"T_a4f41_row11_col1\" class=\"data row11 col1\" >-0.222019</td>\n                        <td id=\"T_a4f41_row11_col2\" class=\"data row11 col2\" >0.093195</td>\n                        <td id=\"T_a4f41_row11_col3\" class=\"data row11 col3\" >0.183191</td>\n                        <td id=\"T_a4f41_row11_col4\" class=\"data row11 col4\" >0.003940</td>\n                        <td id=\"T_a4f41_row11_col5\" class=\"data row11 col5\" >-0.122236</td>\n                        <td id=\"T_a4f41_row11_col6\" class=\"data row11 col6\" >-0.312156</td>\n                        <td id=\"T_a4f41_row11_col7\" class=\"data row11 col7\" >0.257623</td>\n                        <td id=\"T_a4f41_row11_col8\" class=\"data row11 col8\" >0.175318</td>\n                        <td id=\"T_a4f41_row11_col9\" class=\"data row11 col9\" >0.005208</td>\n                        <td id=\"T_a4f41_row11_col10\" class=\"data row11 col10\" >-0.042555</td>\n                        <td id=\"T_a4f41_row11_col11\" class=\"data row11 col11\" >-0.232819</td>\n                        <td id=\"T_a4f41_row11_col12\" class=\"data row11 col12\" >0.111666</td>\n                        <td id=\"T_a4f41_row11_col13\" class=\"data row11 col13\" >0.120418</td>\n                        <td id=\"T_a4f41_row11_col14\" class=\"data row11 col14\" >0.097643</td>\n                        <td id=\"T_a4f41_row11_col15\" class=\"data row11 col15\" >0.156991</td>\n                        <td id=\"T_a4f41_row11_col16\" class=\"data row11 col16\" >0.111485</td>\n                        <td id=\"T_a4f41_row11_col17\" class=\"data row11 col17\" >0.124993</td>\n                        <td id=\"T_a4f41_row11_col18\" class=\"data row11 col18\" >0.139119</td>\n                        <td id=\"T_a4f41_row11_col19\" class=\"data row11 col19\" >0.092078</td>\n                        <td id=\"T_a4f41_row11_col20\" class=\"data row11 col20\" >0.204201</td>\n                        <td id=\"T_a4f41_row11_col21\" class=\"data row11 col21\" >0.182955</td>\n                        <td id=\"T_a4f41_row11_col22\" class=\"data row11 col22\" >0.182471</td>\n                        <td id=\"T_a4f41_row11_col23\" class=\"data row11 col23\" >0.205980</td>\n                        <td id=\"T_a4f41_row11_col24\" class=\"data row11 col24\" >0.084457</td>\n                        <td id=\"T_a4f41_row11_col25\" class=\"data row11 col25\" >0.131104</td>\n                        <td id=\"T_a4f41_row11_col26\" class=\"data row11 col26\" >0.124430</td>\n                        <td id=\"T_a4f41_row11_col27\" class=\"data row11 col27\" >0.111698</td>\n                        <td id=\"T_a4f41_row11_col28\" class=\"data row11 col28\" >0.234635</td>\n                        <td id=\"T_a4f41_row11_col29\" class=\"data row11 col29\" >0.124482</td>\n                        <td id=\"T_a4f41_row11_col30\" class=\"data row11 col30\" >0.317892</td>\n                        <td id=\"T_a4f41_row11_col31\" class=\"data row11 col31\" >0.203249</td>\n                        <td id=\"T_a4f41_row11_col32\" class=\"data row11 col32\" >0.194818</td>\n                        <td id=\"T_a4f41_row11_col33\" class=\"data row11 col33\" >0.277133</td>\n                        <td id=\"T_a4f41_row11_col34\" class=\"data row11 col34\" >0.079690</td>\n                        <td id=\"T_a4f41_row11_col35\" class=\"data row11 col35\" >0.188824</td>\n                        <td id=\"T_a4f41_row11_col36\" class=\"data row11 col36\" >0.142502</td>\n                        <td id=\"T_a4f41_row11_col37\" class=\"data row11 col37\" >0.190371</td>\n                        <td id=\"T_a4f41_row11_col38\" class=\"data row11 col38\" >0.131238</td>\n                        <td id=\"T_a4f41_row11_col39\" class=\"data row11 col39\" >0.052069</td>\n                        <td id=\"T_a4f41_row11_col40\" class=\"data row11 col40\" >0.175693</td>\n                        <td id=\"T_a4f41_row11_col41\" class=\"data row11 col41\" >0.149263</td>\n                        <td id=\"T_a4f41_row11_col42\" class=\"data row11 col42\" >0.035164</td>\n                        <td id=\"T_a4f41_row11_col43\" class=\"data row11 col43\" >0.202317</td>\n                        <td id=\"T_a4f41_row11_col44\" class=\"data row11 col44\" >0.168463</td>\n                        <td id=\"T_a4f41_row11_col45\" class=\"data row11 col45\" >0.136297</td>\n                        <td id=\"T_a4f41_row11_col46\" class=\"data row11 col46\" >0.138051</td>\n                        <td id=\"T_a4f41_row11_col47\" class=\"data row11 col47\" >0.060859</td>\n                        <td id=\"T_a4f41_row11_col48\" class=\"data row11 col48\" >0.180677</td>\n                        <td id=\"T_a4f41_row11_col49\" class=\"data row11 col49\" >0.211060</td>\n                        <td id=\"T_a4f41_row11_col50\" class=\"data row11 col50\" >0.209835</td>\n                        <td id=\"T_a4f41_row11_col51\" class=\"data row11 col51\" >0.205098</td>\n                        <td id=\"T_a4f41_row11_col52\" class=\"data row11 col52\" >0.070323</td>\n                        <td id=\"T_a4f41_row11_col53\" class=\"data row11 col53\" >0.121179</td>\n                        <td id=\"T_a4f41_row11_col54\" class=\"data row11 col54\" >0.159962</td>\n                        <td id=\"T_a4f41_row11_col55\" class=\"data row11 col55\" >0.167782</td>\n            </tr>\n            <tr>\n                        <th id=\"T_a4f41_level0_row12\" class=\"row_heading level0 row12\" >MEDISEAL PURAN</th>\n                        <td id=\"T_a4f41_row12_col0\" class=\"data row12 col0\" >nan</td>\n                        <td id=\"T_a4f41_row12_col1\" class=\"data row12 col1\" >nan</td>\n                        <td id=\"T_a4f41_row12_col2\" class=\"data row12 col2\" >nan</td>\n                        <td id=\"T_a4f41_row12_col3\" class=\"data row12 col3\" >nan</td>\n                        <td id=\"T_a4f41_row12_col4\" class=\"data row12 col4\" >0.000000</td>\n                        <td id=\"T_a4f41_row12_col5\" class=\"data row12 col5\" >0.143622</td>\n                        <td id=\"T_a4f41_row12_col6\" class=\"data row12 col6\" >-0.183663</td>\n                        <td id=\"T_a4f41_row12_col7\" class=\"data row12 col7\" >-0.120083</td>\n                        <td id=\"T_a4f41_row12_col8\" class=\"data row12 col8\" >0.190498</td>\n                        <td id=\"T_a4f41_row12_col9\" class=\"data row12 col9\" >0.068276</td>\n                        <td id=\"T_a4f41_row12_col10\" class=\"data row12 col10\" >-0.096687</td>\n                        <td id=\"T_a4f41_row12_col11\" class=\"data row12 col11\" >-0.121009</td>\n                        <td id=\"T_a4f41_row12_col12\" class=\"data row12 col12\" >0.151811</td>\n                        <td id=\"T_a4f41_row12_col13\" class=\"data row12 col13\" >-0.092727</td>\n                        <td id=\"T_a4f41_row12_col14\" class=\"data row12 col14\" >nan</td>\n                        <td id=\"T_a4f41_row12_col15\" class=\"data row12 col15\" >nan</td>\n                        <td id=\"T_a4f41_row12_col16\" class=\"data row12 col16\" >nan</td>\n                        <td id=\"T_a4f41_row12_col17\" class=\"data row12 col17\" >nan</td>\n                        <td id=\"T_a4f41_row12_col18\" class=\"data row12 col18\" >0.097643</td>\n                        <td id=\"T_a4f41_row12_col19\" class=\"data row12 col19\" >0.101556</td>\n                        <td id=\"T_a4f41_row12_col20\" class=\"data row12 col20\" >0.096577</td>\n                        <td id=\"T_a4f41_row12_col21\" class=\"data row12 col21\" >0.125261</td>\n                        <td id=\"T_a4f41_row12_col22\" class=\"data row12 col22\" >0.127307</td>\n                        <td id=\"T_a4f41_row12_col23\" class=\"data row12 col23\" >0.110502</td>\n                        <td id=\"T_a4f41_row12_col24\" class=\"data row12 col24\" >0.109675</td>\n                        <td id=\"T_a4f41_row12_col25\" class=\"data row12 col25\" >0.090911</td>\n                        <td id=\"T_a4f41_row12_col26\" class=\"data row12 col26\" >0.091159</td>\n                        <td id=\"T_a4f41_row12_col27\" class=\"data row12 col27\" >0.067430</td>\n                        <td id=\"T_a4f41_row12_col28\" class=\"data row12 col28\" >nan</td>\n                        <td id=\"T_a4f41_row12_col29\" class=\"data row12 col29\" >nan</td>\n                        <td id=\"T_a4f41_row12_col30\" class=\"data row12 col30\" >nan</td>\n                        <td id=\"T_a4f41_row12_col31\" class=\"data row12 col31\" >nan</td>\n                        <td id=\"T_a4f41_row12_col32\" class=\"data row12 col32\" >0.514876</td>\n                        <td id=\"T_a4f41_row12_col33\" class=\"data row12 col33\" >0.261219</td>\n                        <td id=\"T_a4f41_row12_col34\" class=\"data row12 col34\" >0.232197</td>\n                        <td id=\"T_a4f41_row12_col35\" class=\"data row12 col35\" >0.342854</td>\n                        <td id=\"T_a4f41_row12_col36\" class=\"data row12 col36\" >0.214455</td>\n                        <td id=\"T_a4f41_row12_col37\" class=\"data row12 col37\" >0.267072</td>\n                        <td id=\"T_a4f41_row12_col38\" class=\"data row12 col38\" >0.334920</td>\n                        <td id=\"T_a4f41_row12_col39\" class=\"data row12 col39\" >0.295099</td>\n                        <td id=\"T_a4f41_row12_col40\" class=\"data row12 col40\" >0.201045</td>\n                        <td id=\"T_a4f41_row12_col41\" class=\"data row12 col41\" >0.276238</td>\n                        <td id=\"T_a4f41_row12_col42\" class=\"data row12 col42\" >nan</td>\n                        <td id=\"T_a4f41_row12_col43\" class=\"data row12 col43\" >nan</td>\n                        <td id=\"T_a4f41_row12_col44\" class=\"data row12 col44\" >nan</td>\n                        <td id=\"T_a4f41_row12_col45\" class=\"data row12 col45\" >nan</td>\n                        <td id=\"T_a4f41_row12_col46\" class=\"data row12 col46\" >0.146007</td>\n                        <td id=\"T_a4f41_row12_col47\" class=\"data row12 col47\" >0.042317</td>\n                        <td id=\"T_a4f41_row12_col48\" class=\"data row12 col48\" >0.033966</td>\n                        <td id=\"T_a4f41_row12_col49\" class=\"data row12 col49\" >0.073918</td>\n                        <td id=\"T_a4f41_row12_col50\" class=\"data row12 col50\" >0.075539</td>\n                        <td id=\"T_a4f41_row12_col51\" class=\"data row12 col51\" >0.093635</td>\n                        <td id=\"T_a4f41_row12_col52\" class=\"data row12 col52\" >0.107870</td>\n                        <td id=\"T_a4f41_row12_col53\" class=\"data row12 col53\" >0.083598</td>\n                        <td id=\"T_a4f41_row12_col54\" class=\"data row12 col54\" >0.084629</td>\n                        <td id=\"T_a4f41_row12_col55\" class=\"data row12 col55\" >0.070351</td>\n            </tr>\n            <tr>\n                        <th id=\"T_a4f41_level0_row13\" class=\"row_heading level0 row13\" >SUPPO Packaging Line</th>\n                        <td id=\"T_a4f41_row13_col0\" class=\"data row13 col0\" >0.079411</td>\n                        <td id=\"T_a4f41_row13_col1\" class=\"data row13 col1\" >0.086162</td>\n                        <td id=\"T_a4f41_row13_col2\" class=\"data row13 col2\" >0.114443</td>\n                        <td id=\"T_a4f41_row13_col3\" class=\"data row13 col3\" >-0.229063</td>\n                        <td id=\"T_a4f41_row13_col4\" class=\"data row13 col4\" >0.000000</td>\n                        <td id=\"T_a4f41_row13_col5\" class=\"data row13 col5\" >0.136485</td>\n                        <td id=\"T_a4f41_row13_col6\" class=\"data row13 col6\" >-0.540459</td>\n                        <td id=\"T_a4f41_row13_col7\" class=\"data row13 col7\" >0.279041</td>\n                        <td id=\"T_a4f41_row13_col8\" class=\"data row13 col8\" >0.152742</td>\n                        <td id=\"T_a4f41_row13_col9\" class=\"data row13 col9\" >-0.052434</td>\n                        <td id=\"T_a4f41_row13_col10\" class=\"data row13 col10\" >0.000000</td>\n                        <td id=\"T_a4f41_row13_col11\" class=\"data row13 col11\" >0.135720</td>\n                        <td id=\"T_a4f41_row13_col12\" class=\"data row13 col12\" >-0.140677</td>\n                        <td id=\"T_a4f41_row13_col13\" class=\"data row13 col13\" >0.177787</td>\n                        <td id=\"T_a4f41_row13_col14\" class=\"data row13 col14\" >0.097643</td>\n                        <td id=\"T_a4f41_row13_col15\" class=\"data row13 col15\" >0.060926</td>\n                        <td id=\"T_a4f41_row13_col16\" class=\"data row13 col16\" >0.100634</td>\n                        <td id=\"T_a4f41_row13_col17\" class=\"data row13 col17\" >0.102949</td>\n                        <td id=\"T_a4f41_row13_col18\" class=\"data row13 col18\" >0.109663</td>\n                        <td id=\"T_a4f41_row13_col19\" class=\"data row13 col19\" >0.112089</td>\n                        <td id=\"T_a4f41_row13_col20\" class=\"data row13 col20\" >0.233763</td>\n                        <td id=\"T_a4f41_row13_col21\" class=\"data row13 col21\" >0.230168</td>\n                        <td id=\"T_a4f41_row13_col22\" class=\"data row13 col22\" >0.234499</td>\n                        <td id=\"T_a4f41_row13_col23\" class=\"data row13 col23\" >0.192429</td>\n                        <td id=\"T_a4f41_row13_col24\" class=\"data row13 col24\" >0.063870</td>\n                        <td id=\"T_a4f41_row13_col25\" class=\"data row13 col25\" >0.064080</td>\n                        <td id=\"T_a4f41_row13_col26\" class=\"data row13 col26\" >0.068726</td>\n                        <td id=\"T_a4f41_row13_col27\" class=\"data row13 col27\" >0.091783</td>\n                        <td id=\"T_a4f41_row13_col28\" class=\"data row13 col28\" >0.148267</td>\n                        <td id=\"T_a4f41_row13_col29\" class=\"data row13 col29\" >0.109755</td>\n                        <td id=\"T_a4f41_row13_col30\" class=\"data row13 col30\" >0.088776</td>\n                        <td id=\"T_a4f41_row13_col31\" class=\"data row13 col31\" >0.153475</td>\n                        <td id=\"T_a4f41_row13_col32\" class=\"data row13 col32\" >0.514876</td>\n                        <td id=\"T_a4f41_row13_col33\" class=\"data row13 col33\" >0.123271</td>\n                        <td id=\"T_a4f41_row13_col34\" class=\"data row13 col34\" >0.000000</td>\n                        <td id=\"T_a4f41_row13_col35\" class=\"data row13 col35\" >0.269244</td>\n                        <td id=\"T_a4f41_row13_col36\" class=\"data row13 col36\" >0.187659</td>\n                        <td id=\"T_a4f41_row13_col37\" class=\"data row13 col37\" >0.216220</td>\n                        <td id=\"T_a4f41_row13_col38\" class=\"data row13 col38\" >0.434789</td>\n                        <td id=\"T_a4f41_row13_col39\" class=\"data row13 col39\" >0.112141</td>\n                        <td id=\"T_a4f41_row13_col40\" class=\"data row13 col40\" >0.247184</td>\n                        <td id=\"T_a4f41_row13_col41\" class=\"data row13 col41\" >0.182846</td>\n                        <td id=\"T_a4f41_row13_col42\" class=\"data row13 col42\" >0.178806</td>\n                        <td id=\"T_a4f41_row13_col43\" class=\"data row13 col43\" >0.155554</td>\n                        <td id=\"T_a4f41_row13_col44\" class=\"data row13 col44\" >0.106717</td>\n                        <td id=\"T_a4f41_row13_col45\" class=\"data row13 col45\" >0.098303</td>\n                        <td id=\"T_a4f41_row13_col46\" class=\"data row13 col46\" >0.071469</td>\n                        <td id=\"T_a4f41_row13_col47\" class=\"data row13 col47\" >0.044453</td>\n                        <td id=\"T_a4f41_row13_col48\" class=\"data row13 col48\" >0.041439</td>\n                        <td id=\"T_a4f41_row13_col49\" class=\"data row13 col49\" >0.051282</td>\n                        <td id=\"T_a4f41_row13_col50\" class=\"data row13 col50\" >0.048992</td>\n                        <td id=\"T_a4f41_row13_col51\" class=\"data row13 col51\" >0.037948</td>\n                        <td id=\"T_a4f41_row13_col52\" class=\"data row13 col52\" >0.050597</td>\n                        <td id=\"T_a4f41_row13_col53\" class=\"data row13 col53\" >0.027030</td>\n                        <td id=\"T_a4f41_row13_col54\" class=\"data row13 col54\" >0.067559</td>\n                        <td id=\"T_a4f41_row13_col55\" class=\"data row13 col55\" >0.080726</td>\n            </tr>\n            <tr>\n                        <th id=\"T_a4f41_level0_row14\" class=\"row_heading level0 row14\" >TR200 Packaging Line</th>\n                        <td id=\"T_a4f41_row14_col0\" class=\"data row14 col0\" >0.112928</td>\n                        <td id=\"T_a4f41_row14_col1\" class=\"data row14 col1\" >-0.081246</td>\n                        <td id=\"T_a4f41_row14_col2\" class=\"data row14 col2\" >0.140283</td>\n                        <td id=\"T_a4f41_row14_col3\" class=\"data row14 col3\" >-0.154340</td>\n                        <td id=\"T_a4f41_row14_col4\" class=\"data row14 col4\" >0.020404</td>\n                        <td id=\"T_a4f41_row14_col5\" class=\"data row14 col5\" >0.034314</td>\n                        <td id=\"T_a4f41_row14_col6\" class=\"data row14 col6\" >-0.024146</td>\n                        <td id=\"T_a4f41_row14_col7\" class=\"data row14 col7\" >0.064722</td>\n                        <td id=\"T_a4f41_row14_col8\" class=\"data row14 col8\" >-0.079374</td>\n                        <td id=\"T_a4f41_row14_col9\" class=\"data row14 col9\" >0.252443</td>\n                        <td id=\"T_a4f41_row14_col10\" class=\"data row14 col10\" >-0.234292</td>\n                        <td id=\"T_a4f41_row14_col11\" class=\"data row14 col11\" >-0.114787</td>\n                        <td id=\"T_a4f41_row14_col12\" class=\"data row14 col12\" >0.141097</td>\n                        <td id=\"T_a4f41_row14_col13\" class=\"data row14 col13\" >0.000000</td>\n                        <td id=\"T_a4f41_row14_col14\" class=\"data row14 col14\" >0.097643</td>\n                        <td id=\"T_a4f41_row14_col15\" class=\"data row14 col15\" >0.057449</td>\n                        <td id=\"T_a4f41_row14_col16\" class=\"data row14 col16\" >0.070434</td>\n                        <td id=\"T_a4f41_row14_col17\" class=\"data row14 col17\" >0.072380</td>\n                        <td id=\"T_a4f41_row14_col18\" class=\"data row14 col18\" >0.071934</td>\n                        <td id=\"T_a4f41_row14_col19\" class=\"data row14 col19\" >0.068479</td>\n                        <td id=\"T_a4f41_row14_col20\" class=\"data row14 col20\" >0.022747</td>\n                        <td id=\"T_a4f41_row14_col21\" class=\"data row14 col21\" >0.033301</td>\n                        <td id=\"T_a4f41_row14_col22\" class=\"data row14 col22\" >0.034687</td>\n                        <td id=\"T_a4f41_row14_col23\" class=\"data row14 col23\" >0.115805</td>\n                        <td id=\"T_a4f41_row14_col24\" class=\"data row14 col24\" >0.115091</td>\n                        <td id=\"T_a4f41_row14_col25\" class=\"data row14 col25\" >0.148133</td>\n                        <td id=\"T_a4f41_row14_col26\" class=\"data row14 col26\" >0.145425</td>\n                        <td id=\"T_a4f41_row14_col27\" class=\"data row14 col27\" >0.067316</td>\n                        <td id=\"T_a4f41_row14_col28\" class=\"data row14 col28\" >0.163573</td>\n                        <td id=\"T_a4f41_row14_col29\" class=\"data row14 col29\" >0.127162</td>\n                        <td id=\"T_a4f41_row14_col30\" class=\"data row14 col30\" >0.145680</td>\n                        <td id=\"T_a4f41_row14_col31\" class=\"data row14 col31\" >0.217642</td>\n                        <td id=\"T_a4f41_row14_col32\" class=\"data row14 col32\" >0.203961</td>\n                        <td id=\"T_a4f41_row14_col33\" class=\"data row14 col33\" >0.148352</td>\n                        <td id=\"T_a4f41_row14_col34\" class=\"data row14 col34\" >0.225213</td>\n                        <td id=\"T_a4f41_row14_col35\" class=\"data row14 col35\" >0.169660</td>\n                        <td id=\"T_a4f41_row14_col36\" class=\"data row14 col36\" >0.251404</td>\n                        <td id=\"T_a4f41_row14_col37\" class=\"data row14 col37\" >0.158634</td>\n                        <td id=\"T_a4f41_row14_col38\" class=\"data row14 col38\" >0.221234</td>\n                        <td id=\"T_a4f41_row14_col39\" class=\"data row14 col39\" >0.221771</td>\n                        <td id=\"T_a4f41_row14_col40\" class=\"data row14 col40\" >0.173618</td>\n                        <td id=\"T_a4f41_row14_col41\" class=\"data row14 col41\" >0.685652</td>\n                        <td id=\"T_a4f41_row14_col42\" class=\"data row14 col42\" >0.075189</td>\n                        <td id=\"T_a4f41_row14_col43\" class=\"data row14 col43\" >0.221072</td>\n                        <td id=\"T_a4f41_row14_col44\" class=\"data row14 col44\" >0.190744</td>\n                        <td id=\"T_a4f41_row14_col45\" class=\"data row14 col45\" >0.152122</td>\n                        <td id=\"T_a4f41_row14_col46\" class=\"data row14 col46\" >0.172955</td>\n                        <td id=\"T_a4f41_row14_col47\" class=\"data row14 col47\" >0.117143</td>\n                        <td id=\"T_a4f41_row14_col48\" class=\"data row14 col48\" >0.120783</td>\n                        <td id=\"T_a4f41_row14_col49\" class=\"data row14 col49\" >0.160736</td>\n                        <td id=\"T_a4f41_row14_col50\" class=\"data row14 col50\" >0.162074</td>\n                        <td id=\"T_a4f41_row14_col51\" class=\"data row14 col51\" >0.140541</td>\n                        <td id=\"T_a4f41_row14_col52\" class=\"data row14 col52\" >0.133603</td>\n                        <td id=\"T_a4f41_row14_col53\" class=\"data row14 col53\" >0.150637</td>\n                        <td id=\"T_a4f41_row14_col54\" class=\"data row14 col54\" >0.119299</td>\n                        <td id=\"T_a4f41_row14_col55\" class=\"data row14 col55\" >0.139872</td>\n            </tr>\n    </tbody></table>"
     },
     "metadata": {},
     "execution_count": 85
    }
   ],
   "source": [
    "df_weekly['sector_1'] = df_weekly['sector_1'].mul(-1)\n",
    "highlighted_sectors = df_weekly[['Line','Review_Date','Changeover_rolling_mean']].groupby(['Line','Review_Date']).sum().reset_index()\n",
    "highlighted_sectors = df_weekly.pivot(index='Line', columns='Date', values=['sector_1','sector_2','sector_3','sector_4']).style.highlight_max(color = 'purple', axis = 0)\n",
    "# highlighted_sectors['sector_1'] = df_weekly.pivot(index='Line', columns='Date', values='sector_1').style.highlight_max(color = 'purple', axis = 0)\n",
    "df_weekly['sector_1'] = df_weekly['sector_1'].mul(-1)\n",
    "highlighted_sectors"
   ]
  },
  {
   "cell_type": "code",
   "execution_count": 427,
   "metadata": {},
   "outputs": [
    {
     "output_type": "execute_result",
     "data": {
      "text/plain": [
       "Review_Date             2021-04-15  2021-05-13  2021-06-10  2021-07-08\n",
       "Line                                                                  \n",
       "AL5 Packaging 1          89.248972   89.725754   90.495004   89.559946\n",
       "AL6                      89.137919   90.323044   84.205598   89.849765\n",
       "C2 Packaging Line        88.952755   90.451874   90.261138   90.594185\n",
       "C9 Packaging Line        89.021344   89.747841   90.361488   90.130804\n",
       "GAMMA1                   89.153635   69.325767   68.226756   89.979194\n",
       "IMA C80/2                88.910325   69.256522   75.232693   89.680834\n",
       "L18 Packaging Line       88.847371   74.226704   89.407996   89.427519\n",
       "L25 Packaging Line       88.849848   74.908842   90.011979   89.862601\n",
       "LINE 01 - UHLMANN 1880         NaN   88.525570   89.636847   89.547483\n",
       "M18 Filling              89.960538   82.596174   85.446232   90.979137\n",
       "M21 Filling              89.248972   83.742471   84.767181   89.760825\n",
       "M22 Filling              88.954055   81.806345   84.857670   89.522488\n",
       "MEDISEAL PURAN                 NaN   89.020162   89.838256   89.971539\n",
       "SUPPO Packaging Line     88.585451   89.604811   89.904755   89.318502\n",
       "TR200 Packaging Line     88.710480   89.591164   89.381941   90.469644"
      ],
      "text/html": "<div>\n<style scoped>\n    .dataframe tbody tr th:only-of-type {\n        vertical-align: middle;\n    }\n\n    .dataframe tbody tr th {\n        vertical-align: top;\n    }\n\n    .dataframe thead th {\n        text-align: right;\n    }\n</style>\n<table border=\"1\" class=\"dataframe\">\n  <thead>\n    <tr style=\"text-align: right;\">\n      <th>Review_Date</th>\n      <th>2021-04-15</th>\n      <th>2021-05-13</th>\n      <th>2021-06-10</th>\n      <th>2021-07-08</th>\n    </tr>\n    <tr>\n      <th>Line</th>\n      <th></th>\n      <th></th>\n      <th></th>\n      <th></th>\n    </tr>\n  </thead>\n  <tbody>\n    <tr>\n      <th>AL5 Packaging 1</th>\n      <td>89.248972</td>\n      <td>89.725754</td>\n      <td>90.495004</td>\n      <td>89.559946</td>\n    </tr>\n    <tr>\n      <th>AL6</th>\n      <td>89.137919</td>\n      <td>90.323044</td>\n      <td>84.205598</td>\n      <td>89.849765</td>\n    </tr>\n    <tr>\n      <th>C2 Packaging Line</th>\n      <td>88.952755</td>\n      <td>90.451874</td>\n      <td>90.261138</td>\n      <td>90.594185</td>\n    </tr>\n    <tr>\n      <th>C9 Packaging Line</th>\n      <td>89.021344</td>\n      <td>89.747841</td>\n      <td>90.361488</td>\n      <td>90.130804</td>\n    </tr>\n    <tr>\n      <th>GAMMA1</th>\n      <td>89.153635</td>\n      <td>69.325767</td>\n      <td>68.226756</td>\n      <td>89.979194</td>\n    </tr>\n    <tr>\n      <th>IMA C80/2</th>\n      <td>88.910325</td>\n      <td>69.256522</td>\n      <td>75.232693</td>\n      <td>89.680834</td>\n    </tr>\n    <tr>\n      <th>L18 Packaging Line</th>\n      <td>88.847371</td>\n      <td>74.226704</td>\n      <td>89.407996</td>\n      <td>89.427519</td>\n    </tr>\n    <tr>\n      <th>L25 Packaging Line</th>\n      <td>88.849848</td>\n      <td>74.908842</td>\n      <td>90.011979</td>\n      <td>89.862601</td>\n    </tr>\n    <tr>\n      <th>LINE 01 - UHLMANN 1880</th>\n      <td>NaN</td>\n      <td>88.525570</td>\n      <td>89.636847</td>\n      <td>89.547483</td>\n    </tr>\n    <tr>\n      <th>M18 Filling</th>\n      <td>89.960538</td>\n      <td>82.596174</td>\n      <td>85.446232</td>\n      <td>90.979137</td>\n    </tr>\n    <tr>\n      <th>M21 Filling</th>\n      <td>89.248972</td>\n      <td>83.742471</td>\n      <td>84.767181</td>\n      <td>89.760825</td>\n    </tr>\n    <tr>\n      <th>M22 Filling</th>\n      <td>88.954055</td>\n      <td>81.806345</td>\n      <td>84.857670</td>\n      <td>89.522488</td>\n    </tr>\n    <tr>\n      <th>MEDISEAL PURAN</th>\n      <td>NaN</td>\n      <td>89.020162</td>\n      <td>89.838256</td>\n      <td>89.971539</td>\n    </tr>\n    <tr>\n      <th>SUPPO Packaging Line</th>\n      <td>88.585451</td>\n      <td>89.604811</td>\n      <td>89.904755</td>\n      <td>89.318502</td>\n    </tr>\n    <tr>\n      <th>TR200 Packaging Line</th>\n      <td>88.710480</td>\n      <td>89.591164</td>\n      <td>89.381941</td>\n      <td>90.469644</td>\n    </tr>\n  </tbody>\n</table>\n</div>"
     },
     "metadata": {},
     "execution_count": 427
    }
   ],
   "source": [
    "all_sectors.pivot(index='Line', columns='Review_Date', values='lap_time')"
   ]
  },
  {
   "source": [
    "adding a weekly race_time just for the gapminder presentation"
   ],
   "cell_type": "markdown",
   "metadata": {}
  },
  {
   "cell_type": "code",
   "execution_count": 44,
   "metadata": {},
   "outputs": [
    {
     "output_type": "execute_result",
     "data": {
      "text/plain": [
       "         Week                  Line     OEE %  WeekOfYear    Year       Date  \\\n",
       "0    W13-2021     C2 Packaging Line  0.458414        13.0  2021.0 2021-04-04   \n",
       "1    W13-2021    L18 Packaging Line  0.465923        13.0  2021.0 2021-04-04   \n",
       "2    W13-2021             IMA C80/2  0.581304        13.0  2021.0 2021-04-04   \n",
       "3    W13-2021                   AL6  0.367897        13.0  2021.0 2021-04-04   \n",
       "4    W13-2021  TR200 Packaging Line  0.596432        13.0  2021.0 2021-04-04   \n",
       "..        ...                   ...       ...         ...     ...        ...   \n",
       "197  W26-2021                GAMMA1  0.491885        26.0  2021.0 2021-07-04   \n",
       "198  W26-2021     C9 Packaging Line  0.406623        26.0  2021.0 2021-07-04   \n",
       "199  W26-2021    L18 Packaging Line  0.411426        26.0  2021.0 2021-07-04   \n",
       "200  W26-2021    L25 Packaging Line  0.381273        26.0  2021.0 2021-07-04   \n",
       "201  W26-2021           M18 Filling  0.000000        26.0  2021.0 2021-07-04   \n",
       "\n",
       "              Plant  OEE  Start point  OEE% Target (2022)  \\\n",
       "0    Maisons-Alfort          0.397503               0.470   \n",
       "1             Tours          0.377683               0.547   \n",
       "2          SCOPPITO          0.451031               0.580   \n",
       "3         Frankfurt          0.332657               0.450   \n",
       "4           Lisieux          0.483505               0.650   \n",
       "..              ...               ...                 ...   \n",
       "197        SCOPPITO          0.418683               0.570   \n",
       "198  Maisons-Alfort          0.528518               0.530   \n",
       "199           Tours          0.377683               0.547   \n",
       "200           Tours          0.351564               0.478   \n",
       "201       Frankfurt          0.443522               0.650   \n",
       "\n",
       "     Unplanned_tech_loss  ...  sector_2  sector_3  sector_4  sector_5  \\\n",
       "0               0.465009  ...  0.097643  0.465009  0.044140       0.0   \n",
       "1               0.208273  ...  0.097643  0.208273  0.134271       0.0   \n",
       "2               0.224561  ...  0.097643  0.224561  0.070836       0.0   \n",
       "3               0.342851  ...  0.097643  0.342851  0.184958       0.0   \n",
       "4               0.163573  ...  0.097643  0.163573  0.075189       0.0   \n",
       "..                   ...  ...       ...       ...       ...       ...   \n",
       "197             0.143339  ...  0.055086  0.143339  0.219199      -0.0   \n",
       "198             0.452948  ...  0.081720  0.452948  0.064467      -0.0   \n",
       "199             0.185620  ...  0.053623  0.185620  0.183051      -0.0   \n",
       "200             0.192098  ...  0.019916  0.192098  0.252406      -0.0   \n",
       "201             0.000000  ...  0.320648  0.000000  0.279900      -0.0   \n",
       "\n",
       "     sector_6  sector_7  sector_8 sector_9  lap_time  race_time  \n",
       "0         0.0       0.0       0.0      0.0  0.545881  88.545881  \n",
       "1         0.0       0.0       0.0      0.0  0.351947  88.351947  \n",
       "2         0.0       0.0       0.0      0.0  0.262768  88.262768  \n",
       "3         0.0       0.0       0.0      0.0  0.590211  88.590211  \n",
       "4         0.0       0.0       0.0      0.0  0.223478  88.223478  \n",
       "..        ...       ...       ...      ...       ...        ...  \n",
       "197      -0.0      -0.0      -0.0     -0.0  0.528796  52.685280  \n",
       "198      -0.0      -0.0      -0.0     -0.0  0.681253  95.261404  \n",
       "199      -0.0      -0.0      -0.0     -0.0  0.503925  77.907326  \n",
       "200      -0.0      -0.0      -0.0     -0.0  0.427800  79.633196  \n",
       "201      -0.0      -0.0      -0.0     -0.0  1.220988  84.982009  \n",
       "\n",
       "[202 rows x 32 columns]"
      ],
      "text/html": "<div>\n<style scoped>\n    .dataframe tbody tr th:only-of-type {\n        vertical-align: middle;\n    }\n\n    .dataframe tbody tr th {\n        vertical-align: top;\n    }\n\n    .dataframe thead th {\n        text-align: right;\n    }\n</style>\n<table border=\"1\" class=\"dataframe\">\n  <thead>\n    <tr style=\"text-align: right;\">\n      <th></th>\n      <th>Week</th>\n      <th>Line</th>\n      <th>OEE %</th>\n      <th>WeekOfYear</th>\n      <th>Year</th>\n      <th>Date</th>\n      <th>Plant</th>\n      <th>OEE  Start point</th>\n      <th>OEE% Target (2022)</th>\n      <th>Unplanned_tech_loss</th>\n      <th>...</th>\n      <th>sector_2</th>\n      <th>sector_3</th>\n      <th>sector_4</th>\n      <th>sector_5</th>\n      <th>sector_6</th>\n      <th>sector_7</th>\n      <th>sector_8</th>\n      <th>sector_9</th>\n      <th>lap_time</th>\n      <th>race_time</th>\n    </tr>\n  </thead>\n  <tbody>\n    <tr>\n      <th>0</th>\n      <td>W13-2021</td>\n      <td>C2 Packaging Line</td>\n      <td>0.458414</td>\n      <td>13.0</td>\n      <td>2021.0</td>\n      <td>2021-04-04</td>\n      <td>Maisons-Alfort</td>\n      <td>0.397503</td>\n      <td>0.470</td>\n      <td>0.465009</td>\n      <td>...</td>\n      <td>0.097643</td>\n      <td>0.465009</td>\n      <td>0.044140</td>\n      <td>0.0</td>\n      <td>0.0</td>\n      <td>0.0</td>\n      <td>0.0</td>\n      <td>0.0</td>\n      <td>0.545881</td>\n      <td>88.545881</td>\n    </tr>\n    <tr>\n      <th>1</th>\n      <td>W13-2021</td>\n      <td>L18 Packaging Line</td>\n      <td>0.465923</td>\n      <td>13.0</td>\n      <td>2021.0</td>\n      <td>2021-04-04</td>\n      <td>Tours</td>\n      <td>0.377683</td>\n      <td>0.547</td>\n      <td>0.208273</td>\n      <td>...</td>\n      <td>0.097643</td>\n      <td>0.208273</td>\n      <td>0.134271</td>\n      <td>0.0</td>\n      <td>0.0</td>\n      <td>0.0</td>\n      <td>0.0</td>\n      <td>0.0</td>\n      <td>0.351947</td>\n      <td>88.351947</td>\n    </tr>\n    <tr>\n      <th>2</th>\n      <td>W13-2021</td>\n      <td>IMA C80/2</td>\n      <td>0.581304</td>\n      <td>13.0</td>\n      <td>2021.0</td>\n      <td>2021-04-04</td>\n      <td>SCOPPITO</td>\n      <td>0.451031</td>\n      <td>0.580</td>\n      <td>0.224561</td>\n      <td>...</td>\n      <td>0.097643</td>\n      <td>0.224561</td>\n      <td>0.070836</td>\n      <td>0.0</td>\n      <td>0.0</td>\n      <td>0.0</td>\n      <td>0.0</td>\n      <td>0.0</td>\n      <td>0.262768</td>\n      <td>88.262768</td>\n    </tr>\n    <tr>\n      <th>3</th>\n      <td>W13-2021</td>\n      <td>AL6</td>\n      <td>0.367897</td>\n      <td>13.0</td>\n      <td>2021.0</td>\n      <td>2021-04-04</td>\n      <td>Frankfurt</td>\n      <td>0.332657</td>\n      <td>0.450</td>\n      <td>0.342851</td>\n      <td>...</td>\n      <td>0.097643</td>\n      <td>0.342851</td>\n      <td>0.184958</td>\n      <td>0.0</td>\n      <td>0.0</td>\n      <td>0.0</td>\n      <td>0.0</td>\n      <td>0.0</td>\n      <td>0.590211</td>\n      <td>88.590211</td>\n    </tr>\n    <tr>\n      <th>4</th>\n      <td>W13-2021</td>\n      <td>TR200 Packaging Line</td>\n      <td>0.596432</td>\n      <td>13.0</td>\n      <td>2021.0</td>\n      <td>2021-04-04</td>\n      <td>Lisieux</td>\n      <td>0.483505</td>\n      <td>0.650</td>\n      <td>0.163573</td>\n      <td>...</td>\n      <td>0.097643</td>\n      <td>0.163573</td>\n      <td>0.075189</td>\n      <td>0.0</td>\n      <td>0.0</td>\n      <td>0.0</td>\n      <td>0.0</td>\n      <td>0.0</td>\n      <td>0.223478</td>\n      <td>88.223478</td>\n    </tr>\n    <tr>\n      <th>...</th>\n      <td>...</td>\n      <td>...</td>\n      <td>...</td>\n      <td>...</td>\n      <td>...</td>\n      <td>...</td>\n      <td>...</td>\n      <td>...</td>\n      <td>...</td>\n      <td>...</td>\n      <td>...</td>\n      <td>...</td>\n      <td>...</td>\n      <td>...</td>\n      <td>...</td>\n      <td>...</td>\n      <td>...</td>\n      <td>...</td>\n      <td>...</td>\n      <td>...</td>\n      <td>...</td>\n    </tr>\n    <tr>\n      <th>197</th>\n      <td>W26-2021</td>\n      <td>GAMMA1</td>\n      <td>0.491885</td>\n      <td>26.0</td>\n      <td>2021.0</td>\n      <td>2021-07-04</td>\n      <td>SCOPPITO</td>\n      <td>0.418683</td>\n      <td>0.570</td>\n      <td>0.143339</td>\n      <td>...</td>\n      <td>0.055086</td>\n      <td>0.143339</td>\n      <td>0.219199</td>\n      <td>-0.0</td>\n      <td>-0.0</td>\n      <td>-0.0</td>\n      <td>-0.0</td>\n      <td>-0.0</td>\n      <td>0.528796</td>\n      <td>52.685280</td>\n    </tr>\n    <tr>\n      <th>198</th>\n      <td>W26-2021</td>\n      <td>C9 Packaging Line</td>\n      <td>0.406623</td>\n      <td>26.0</td>\n      <td>2021.0</td>\n      <td>2021-07-04</td>\n      <td>Maisons-Alfort</td>\n      <td>0.528518</td>\n      <td>0.530</td>\n      <td>0.452948</td>\n      <td>...</td>\n      <td>0.081720</td>\n      <td>0.452948</td>\n      <td>0.064467</td>\n      <td>-0.0</td>\n      <td>-0.0</td>\n      <td>-0.0</td>\n      <td>-0.0</td>\n      <td>-0.0</td>\n      <td>0.681253</td>\n      <td>95.261404</td>\n    </tr>\n    <tr>\n      <th>199</th>\n      <td>W26-2021</td>\n      <td>L18 Packaging Line</td>\n      <td>0.411426</td>\n      <td>26.0</td>\n      <td>2021.0</td>\n      <td>2021-07-04</td>\n      <td>Tours</td>\n      <td>0.377683</td>\n      <td>0.547</td>\n      <td>0.185620</td>\n      <td>...</td>\n      <td>0.053623</td>\n      <td>0.185620</td>\n      <td>0.183051</td>\n      <td>-0.0</td>\n      <td>-0.0</td>\n      <td>-0.0</td>\n      <td>-0.0</td>\n      <td>-0.0</td>\n      <td>0.503925</td>\n      <td>77.907326</td>\n    </tr>\n    <tr>\n      <th>200</th>\n      <td>W26-2021</td>\n      <td>L25 Packaging Line</td>\n      <td>0.381273</td>\n      <td>26.0</td>\n      <td>2021.0</td>\n      <td>2021-07-04</td>\n      <td>Tours</td>\n      <td>0.351564</td>\n      <td>0.478</td>\n      <td>0.192098</td>\n      <td>...</td>\n      <td>0.019916</td>\n      <td>0.192098</td>\n      <td>0.252406</td>\n      <td>-0.0</td>\n      <td>-0.0</td>\n      <td>-0.0</td>\n      <td>-0.0</td>\n      <td>-0.0</td>\n      <td>0.427800</td>\n      <td>79.633196</td>\n    </tr>\n    <tr>\n      <th>201</th>\n      <td>W26-2021</td>\n      <td>M18 Filling</td>\n      <td>0.000000</td>\n      <td>26.0</td>\n      <td>2021.0</td>\n      <td>2021-07-04</td>\n      <td>Frankfurt</td>\n      <td>0.443522</td>\n      <td>0.650</td>\n      <td>0.000000</td>\n      <td>...</td>\n      <td>0.320648</td>\n      <td>0.000000</td>\n      <td>0.279900</td>\n      <td>-0.0</td>\n      <td>-0.0</td>\n      <td>-0.0</td>\n      <td>-0.0</td>\n      <td>-0.0</td>\n      <td>1.220988</td>\n      <td>84.982009</td>\n    </tr>\n  </tbody>\n</table>\n<p>202 rows × 32 columns</p>\n</div>"
     },
     "metadata": {},
     "execution_count": 44
    }
   ],
   "source": [
    "weekly_race_time = df_weekly.groupby(['Line','Date'])['lap_time'].sum().groupby('Line').cumsum().reset_index()\n",
    "weekly_race_time.rename(columns={'lap_time' : 'race_time'}, inplace=True)\n",
    "weekly_race_time['race_time'] = weekly_race_time['race_time'] + 88\n",
    "df_weekly = df_weekly.merge(weekly_race_time[['Line','Date','race_time']], on=(['Line','Date']))\n",
    "# df_weekly.drop(columns={'race_time'}, inplace=True)\n",
    "df_weekly"
   ]
  },
  {
   "cell_type": "code",
   "execution_count": 46,
   "metadata": {},
   "outputs": [],
   "source": [
    "gapminder_weekly = df_weekly[['Line','Date','sector_1','sector_2','sector_3','sector_4','lap_time','race_time']]\n",
    "gapminder_weekly.to_excel(dir +'gapfinder_weekly.xlsx', index=False)"
   ]
  },
  {
   "cell_type": "code",
   "execution_count": 47,
   "metadata": {},
   "outputs": [
    {
     "output_type": "execute_result",
     "data": {
      "text/plain": [
       "                     Line       Date  race_time\n",
       "4    TR200 Packaging Line 2021-04-04  88.223478\n",
       "15   TR200 Packaging Line 2021-04-11  88.710407\n",
       "26   TR200 Packaging Line 2021-04-18  88.976982\n",
       "48   TR200 Packaging Line 2021-04-25  89.573466\n",
       "55   TR200 Packaging Line 2021-05-02  90.001912\n",
       "69   TR200 Packaging Line 2021-05-09  90.301571\n",
       "96   TR200 Packaging Line 2021-05-16  90.694460\n",
       "106  TR200 Packaging Line 2021-05-23  90.993436\n",
       "118  TR200 Packaging Line 2021-05-30  91.520976\n",
       "137  TR200 Packaging Line 2021-06-06  91.683513\n",
       "153  TR200 Packaging Line 2021-06-13  92.387734\n",
       "162  TR200 Packaging Line 2021-06-20  93.023062\n",
       "177  TR200 Packaging Line 2021-06-27  93.320307\n",
       "193  TR200 Packaging Line 2021-07-04  94.213147"
      ],
      "text/html": "<div>\n<style scoped>\n    .dataframe tbody tr th:only-of-type {\n        vertical-align: middle;\n    }\n\n    .dataframe tbody tr th {\n        vertical-align: top;\n    }\n\n    .dataframe thead th {\n        text-align: right;\n    }\n</style>\n<table border=\"1\" class=\"dataframe\">\n  <thead>\n    <tr style=\"text-align: right;\">\n      <th></th>\n      <th>Line</th>\n      <th>Date</th>\n      <th>race_time</th>\n    </tr>\n  </thead>\n  <tbody>\n    <tr>\n      <th>4</th>\n      <td>TR200 Packaging Line</td>\n      <td>2021-04-04</td>\n      <td>88.223478</td>\n    </tr>\n    <tr>\n      <th>15</th>\n      <td>TR200 Packaging Line</td>\n      <td>2021-04-11</td>\n      <td>88.710407</td>\n    </tr>\n    <tr>\n      <th>26</th>\n      <td>TR200 Packaging Line</td>\n      <td>2021-04-18</td>\n      <td>88.976982</td>\n    </tr>\n    <tr>\n      <th>48</th>\n      <td>TR200 Packaging Line</td>\n      <td>2021-04-25</td>\n      <td>89.573466</td>\n    </tr>\n    <tr>\n      <th>55</th>\n      <td>TR200 Packaging Line</td>\n      <td>2021-05-02</td>\n      <td>90.001912</td>\n    </tr>\n    <tr>\n      <th>69</th>\n      <td>TR200 Packaging Line</td>\n      <td>2021-05-09</td>\n      <td>90.301571</td>\n    </tr>\n    <tr>\n      <th>96</th>\n      <td>TR200 Packaging Line</td>\n      <td>2021-05-16</td>\n      <td>90.694460</td>\n    </tr>\n    <tr>\n      <th>106</th>\n      <td>TR200 Packaging Line</td>\n      <td>2021-05-23</td>\n      <td>90.993436</td>\n    </tr>\n    <tr>\n      <th>118</th>\n      <td>TR200 Packaging Line</td>\n      <td>2021-05-30</td>\n      <td>91.520976</td>\n    </tr>\n    <tr>\n      <th>137</th>\n      <td>TR200 Packaging Line</td>\n      <td>2021-06-06</td>\n      <td>91.683513</td>\n    </tr>\n    <tr>\n      <th>153</th>\n      <td>TR200 Packaging Line</td>\n      <td>2021-06-13</td>\n      <td>92.387734</td>\n    </tr>\n    <tr>\n      <th>162</th>\n      <td>TR200 Packaging Line</td>\n      <td>2021-06-20</td>\n      <td>93.023062</td>\n    </tr>\n    <tr>\n      <th>177</th>\n      <td>TR200 Packaging Line</td>\n      <td>2021-06-27</td>\n      <td>93.320307</td>\n    </tr>\n    <tr>\n      <th>193</th>\n      <td>TR200 Packaging Line</td>\n      <td>2021-07-04</td>\n      <td>94.213147</td>\n    </tr>\n  </tbody>\n</table>\n</div>"
     },
     "metadata": {},
     "execution_count": 47
    }
   ],
   "source": [
    "df_weekly[['Line','Date','race_time']][df_weekly.Line.str.contains('TR200')].sort_values(['Line','Date'])"
   ]
  },
  {
   "cell_type": "code",
   "execution_count": null,
   "metadata": {},
   "outputs": [],
   "source": []
  }
 ],
 "metadata": {
  "kernelspec": {
   "display_name": "geo_env",
   "language": "python",
   "name": "geo_env"
  },
  "language_info": {
   "codemirror_mode": {
    "name": "ipython",
    "version": 3
   },
   "file_extension": ".py",
   "mimetype": "text/x-python",
   "name": "python",
   "nbconvert_exporter": "python",
   "pygments_lexer": "ipython3",
   "version": "3.9.4"
  }
 },
 "nbformat": 4,
 "nbformat_minor": 4
}