{
 "cells": [
  {
   "cell_type": "markdown",
   "metadata": {},
   "source": [
    "# Race Dashboard\n",
    "\n"
   ]
  },
  {
   "cell_type": "markdown",
   "metadata": {},
   "source": [
    "This document describes the requirements and design decisions we will adopt for the Race Dashboard for the Sanofi Asset Efficiency challenge.  This document is intended to provide a detailed explanation of what is to be included on the dashboard, required data sources, and assumptions being made in the design.  It will also show the steps for getting the data into the necessary format."
   ]
  },
  {
   "cell_type": "markdown",
   "metadata": {},
   "source": [
    "## Scope/objective\n",
    "\n",
    "The objective is to be able to display the documented metrics and categories as best suited on a Dashboard presentation for Sanofi staff to be able to access.\n"
   ]
  },
  {
   "cell_type": "markdown",
   "metadata": {},
   "source": [
    "## Metrics / categories\n",
    "The metrics have been mapped into sectors to mimic different sectors of a race track.  The metrics are:\n",
    " \n",
    " \n",
    " \n",
    "•     Race = 8 Laps = 8 Months   \n",
    "•     Lap = Monthly Progress   \n",
    "<br>\n",
    "<br>\n",
    "\n",
    "•     **Sector 1 = OEE Improvement   \n",
    "•     Sector 2 = OEE Variability Improvement   \n",
    "•     Sector 3 = Stoppage Reduction   \n",
    "•     Sector 4 = Changeover Improvement**   \n",
    "• _Sector 5 = Most effective OEE application   \n",
    "• Sector 6 = Best Innovation   \n",
    "• Sector 7 = Most consistent OEE improvement progress   \n",
    "• Sector 8 = Collaboration   \n",
    "• Sector 9 = Team Spirit_\n",
    "\n",
    " \n",
    " \n"
   ]
  },
  {
   "cell_type": "markdown",
   "metadata": {},
   "source": [
    "| Change log |\n",
    "|:----------:|    \n",
    "\n",
    "\n",
    "| Date | Initials | Comments |\n",
    "|------|:---------|:---------|\n",
    "| 2021-06-23 | MC | in leaderboard, replace NaN values in laptime calc with the max laptime for that lap\n",
    "| 2021-06-23 | MC | use race review dates for grouping data, rather than calendar months\n",
    "| 2021-06-24 |JB | missing OEE_Diff figures should default to 'OEE %' - OEE start point, not just 'OEE %' value\n",
    "| 2021-06-24 |JB | for sector one, multiply sum of OEE_Diff by -1.  (was doing this in Tableau calcs but too late for lap_time calc).\n",
    "|2021-06-25 | MC | in leaderboard, change prev_race_time calc to include all but last 2 cols, to handle new race cols as they arrive\n",
    "|2021-06-28 | MC | correct dates in nominations spreadsheet, and merge on 1 row with a date within the review period\n",
    "|2021-06-29 | MC | corrected nominations spreadsheet for Lisieux IWK - should be TR200 Packaging\n",
    "|2021-06-30 | MC | populate missing OEE % values before calculating rolling_std using the OEE % column\n",
    "|2021-06-30 | MC | remove start_changeover_calc merge as it's not being used any more, and was dropping rows\n",
    "|2021-07-06 | MC | populate missing OEE % values with OEE from previous week for that site."
   ]
  },
  {
   "cell_type": "code",
   "execution_count": 2,
   "metadata": {},
   "outputs": [],
   "source": [
    "import pandas as pd\n",
    "import numpy as np\n",
    "import datetime\n",
    "\n",
    "\n",
    "# Viz libs\n",
    "import matplotlib.pyplot as plt\n",
    "%matplotlib inline\n",
    "\n",
    "import seaborn as sns\n",
    "\n",
    "# display options\n",
    "# pd.options.display.float_format = \"{:.2f}\".format\n"
   ]
  },
  {
   "cell_type": "markdown",
   "metadata": {},
   "source": [
    "## Read file and cleanse\n",
    "\n",
    "- OEE.xlsx should contain the OEE latest data from QS by week   \n",
    "- QSDashboard.xlsx has a list of plants/sites taking part, with original target OEE  \n",
    "- UnplannedTechLoss.xlxs should contain the latest data from QS (my unplanned chart by line/week)   \n",
    "- changeover.xlsx should contain the changeover information in QlikSense\n",
    "\n",
    "#### Cleaning required:   \n",
    "- OEE % needs converting to numeric, coerce the nulls to nan values\n",
    "- I think W53-2020 data is bobbings - causes dup indexes for date 2021-01-10 and don't need 2020 data anyway...so dropping it"
   ]
  },
  {
   "cell_type": "code",
   "execution_count": 3,
   "metadata": {},
   "outputs": [],
   "source": [
    "# this dir should point at where ever your sanofi Mclaren directory is syncing\n",
    "# dir = \"C:/Users/mark_/Sanofi/Sanofi x McLaren sharing - General/Race Dashboard data/\"\n",
    "\n",
    "# this is a local copy of sanofi share for when I don't trust Microsoft syncing!\n",
    "dir = \"C:/Users/mark_/Documents/McLaren2021/Sanofi/Race Dashboard data/\"\n",
    "\n",
    "# write out the files where ever you like.  As long as same file is used within Tableau.\n",
    "output_dir = \"C:/Users/mark_/Documents/McLaren2021/Sanofi/Race Dashboard data/\"\n",
    "\n",
    "# dir = 'C:/Users/james.blood/Documents/McLarenSanofi/McLarenSanofi/data/'\n",
    "\n",
    "file = (dir + 'OEE.xlsx')\n",
    "df_weekly = pd.read_excel(file)\n",
    "file = (dir + 'QSDashboard.xlsx')\n",
    "df_dash = pd.read_excel(file)\n",
    "file = (dir + 'Unplanned_tech_loss.xlsx')\n",
    "df_techloss = pd.read_excel(file)\n",
    "file = (dir + 'changeover.xlsx')\n",
    "df_changeover = pd.read_excel(file)\n",
    "df_weekly = df_weekly.loc[df_weekly['Week'].str.contains('2021')]\n",
    "df_techloss = df_techloss.loc[df_techloss['Week'].str.contains('2021')]\n",
    "df_weekly['OEE %'] = pd.to_numeric(df_weekly['OEE %'], errors='coerce')\n",
    "df_techloss.rename(columns={'Unplanned losses - %OEE':'Unplanned_tech_loss'}, inplace=True)\n",
    "df_techloss['Unplanned_tech_loss'] = pd.to_numeric(df_techloss['Unplanned_tech_loss'], errors='coerce')\n",
    "df_changeover.rename(columns={'Change over losses - %OEE':'Changeover'}, inplace=True)\n",
    "df_changeover['Changeover'] = pd.to_numeric(df_changeover['Changeover'], errors='coerce')\n",
    "# don't use their progress figure as it's a static val\n",
    "# df_dash.rename(columns={'⇗ OEE% progress':'OEE% progress'}, inplace=True)"
   ]
  },
  {
   "cell_type": "markdown",
   "metadata": {},
   "source": [
    "create a datetime from the week number"
   ]
  },
  {
   "cell_type": "code",
   "execution_count": 4,
   "metadata": {},
   "outputs": [
    {
     "output_type": "execute_result",
     "data": {
      "text/plain": [
       "        Week                Line     OEE %  WeekOfYear  Year       Date\n",
       "11  W01-2021   C2 Packaging Line  0.168970           1  2021 2021-01-10\n",
       "12  W01-2021   C9 Packaging Line       NaN           1  2021 2021-01-10\n",
       "13  W01-2021              GAMMA1  0.406686           1  2021 2021-01-10\n",
       "14  W01-2021           IMA C80/2  0.510044           1  2021 2021-01-10\n",
       "15  W01-2021  L18 Packaging Line  0.173736           1  2021 2021-01-10"
      ],
      "text/html": "<div>\n<style scoped>\n    .dataframe tbody tr th:only-of-type {\n        vertical-align: middle;\n    }\n\n    .dataframe tbody tr th {\n        vertical-align: top;\n    }\n\n    .dataframe thead th {\n        text-align: right;\n    }\n</style>\n<table border=\"1\" class=\"dataframe\">\n  <thead>\n    <tr style=\"text-align: right;\">\n      <th></th>\n      <th>Week</th>\n      <th>Line</th>\n      <th>OEE %</th>\n      <th>WeekOfYear</th>\n      <th>Year</th>\n      <th>Date</th>\n    </tr>\n  </thead>\n  <tbody>\n    <tr>\n      <th>11</th>\n      <td>W01-2021</td>\n      <td>C2 Packaging Line</td>\n      <td>0.168970</td>\n      <td>1</td>\n      <td>2021</td>\n      <td>2021-01-10</td>\n    </tr>\n    <tr>\n      <th>12</th>\n      <td>W01-2021</td>\n      <td>C9 Packaging Line</td>\n      <td>NaN</td>\n      <td>1</td>\n      <td>2021</td>\n      <td>2021-01-10</td>\n    </tr>\n    <tr>\n      <th>13</th>\n      <td>W01-2021</td>\n      <td>GAMMA1</td>\n      <td>0.406686</td>\n      <td>1</td>\n      <td>2021</td>\n      <td>2021-01-10</td>\n    </tr>\n    <tr>\n      <th>14</th>\n      <td>W01-2021</td>\n      <td>IMA C80/2</td>\n      <td>0.510044</td>\n      <td>1</td>\n      <td>2021</td>\n      <td>2021-01-10</td>\n    </tr>\n    <tr>\n      <th>15</th>\n      <td>W01-2021</td>\n      <td>L18 Packaging Line</td>\n      <td>0.173736</td>\n      <td>1</td>\n      <td>2021</td>\n      <td>2021-01-10</td>\n    </tr>\n  </tbody>\n</table>\n</div>"
     },
     "metadata": {},
     "execution_count": 4
    }
   ],
   "source": [
    "df_weekly['WeekOfYear'] = pd.to_numeric(df_weekly['Week'].str[1:3])\n",
    "df_weekly['Year'] = pd.to_numeric(df_weekly['Week'].str[4:])\n",
    "dates = df_weekly.Year*100+df_weekly.WeekOfYear\n",
    "df_weekly['Date'] = pd.to_datetime(dates.astype(str) + '0', format='%Y%W%w')\n",
    "# df_weekly.drop(columns=['Year','WeekOfYear'], inplace=True)\n",
    "df_weekly.head()"
   ]
  },
  {
   "cell_type": "code",
   "execution_count": 5,
   "metadata": {
    "scrolled": true
   },
   "outputs": [],
   "source": [
    "#merge the 2 dataframes to get the start OEE\n",
    "df_weekly = df_weekly.merge(df_dash[['Plant','Line', 'OEE  Start point','OEE% Target (2022)']],on='Line')"
   ]
  },
  {
   "cell_type": "code",
   "execution_count": 6,
   "metadata": {},
   "outputs": [],
   "source": [
    "df_weekly = df_weekly.merge(df_techloss[['Line', 'Week', 'Unplanned_tech_loss']],on=['Line','Week'])"
   ]
  },
  {
   "cell_type": "code",
   "execution_count": 7,
   "metadata": {},
   "outputs": [],
   "source": [
    "df_weekly = df_weekly.merge(df_changeover[['Line','Week','Changeover']])"
   ]
  },
  {
   "cell_type": "markdown",
   "metadata": {},
   "source": [
    "#### Start Changeover\n",
    "\n",
    "*not sure this is needed if we are using changeover_diff, which will naturally reward increases / decreases in changeover??*\n",
    "\n",
    "Start changeover value isn't provided, so going to calc our own start point using the average changeover for each site in 2021 up to April 2021.  This needs to be done before we drop the early 2021 rows.\n",
    "\n",
    "This is then merged into the df_weekly dataframe as a loose join."
   ]
  },
  {
   "cell_type": "code",
   "execution_count": 8,
   "metadata": {},
   "outputs": [],
   "source": [
    "# start_changeover_calc = df_weekly[['Plant','Line','Changeover']][df_weekly['Date'] < '2021-04-30'].groupby(['Plant','Line']).mean().reset_index()\n",
    "# start_changeover_calc.rename(columns={'Changeover':'start_changeover'}, inplace=True)\n",
    "# df_weekly = df_weekly.merge(start_changeover_calc[['Line','start_changeover']])"
   ]
  },
  {
   "cell_type": "markdown",
   "metadata": {},
   "source": [
    "#### Dates for the Asset Challenge\n",
    "\n",
    "Start Date is going to be fixed as 2021-04-01. Remove all the rows from df_weekly before this date\n",
    "\n",
    "Review Date will move and act as a cutoff for each Race meeting"
   ]
  },
  {
   "cell_type": "code",
   "execution_count": 9,
   "metadata": {},
   "outputs": [],
   "source": [
    "start_date = '2021-04-01'\n",
    "df_weekly = df_weekly[df_weekly['Date'] > start_date].sort_values('Date')\n",
    "\n",
    "# this is needed to prevent including additional values in the race time.\n",
    "review_date = '2021-07-08'\n",
    "# df_weekly = df_weekly[df_weekly['Date'] < end_date].sort_values('Date')"
   ]
  },
  {
   "cell_type": "markdown",
   "metadata": {},
   "source": [
    "### PCT_CHANGE\n",
    "Using pct_change python function with periods=4, giving a 4 week (4 previous rows) rolling pct_change figure\n",
    "- I believe we are doing this rolling average calculation within Tableau at the moment, so this isn't being used here\n",
    "\n",
    "- Not sure whether this is required any more - removing for all categories (2021-06-30)"
   ]
  },
  {
   "cell_type": "code",
   "execution_count": 10,
   "metadata": {},
   "outputs": [],
   "source": [
    "# df_weekly.sort_values(['Line','Date'], inplace = True)\n",
    "# df_weekly['OEE_pct_chg'] = (df_weekly.groupby('Line')['OEE %']\n",
    "#                                    .apply(pd.Series.pct_change, periods=4))\n",
    "# df_weekly['techloss_pct_chg'] = (df_weekly.groupby('Line')['Unplanned_tech_loss']\n",
    "#                                    .apply(pd.Series.pct_change, periods=4))\n",
    "# df_weekly['Changeover_pct_chg'] = (df_weekly.groupby('Line')['Changeover']\n",
    "#                                    .apply(pd.Series.pct_change, periods=4))\n",
    "# df_weekly.head()"
   ]
  },
  {
   "cell_type": "markdown",
   "metadata": {},
   "source": [
    "#### Populate missing OEE %\n",
    "2021-06-07 - change of plan! Populating with min OEE value does not work when some Lines record 0% OEE.  Missing values can be just delayed data collection which sorts itself later.  So, until proper data arrives:\n",
    "\n",
    "- Use the previous week's value (ffill) for that Line.  This will still leave NaN if they existed in the first row(s).  \n",
    "- populate the remaining NaN with 'OEE  start point'\n",
    "- ~~Find the weekly min/max OEE % from any site~~   \n",
    "- ~~Merge those columns into df_weekly~~   \n",
    "- ~~fill any NaN with the min OEE we calc'd for that week~~    \n"
   ]
  },
  {
   "cell_type": "code",
   "execution_count": 11,
   "metadata": {},
   "outputs": [
    {
     "output_type": "execute_result",
     "data": {
      "text/plain": [
       "         Week                  Line     OEE %  WeekOfYear  Year       Date  \\\n",
       "282  W13-2021  TR200 Packaging Line  0.596432          13  2021 2021-04-04   \n",
       "283  W14-2021  TR200 Packaging Line  0.515187          14  2021 2021-04-11   \n",
       "284  W15-2021  TR200 Packaging Line  0.655470          15  2021 2021-04-18   \n",
       "285  W16-2021  TR200 Packaging Line  0.501130          16  2021 2021-04-25   \n",
       "286  W17-2021  TR200 Packaging Line  0.521534          17  2021 2021-05-02   \n",
       "287  W18-2021  TR200 Packaging Line  0.555848          18  2021 2021-05-09   \n",
       "288  W19-2021  TR200 Packaging Line  0.531703          19  2021 2021-05-16   \n",
       "289  W20-2021  TR200 Packaging Line  0.596425          20  2021 2021-05-23   \n",
       "290  W21-2021  TR200 Packaging Line  0.517050          21  2021 2021-05-30   \n",
       "291  W22-2021  TR200 Packaging Line  0.769493          22  2021 2021-06-06   \n",
       "292  W23-2021  TR200 Packaging Line  0.535201          23  2021 2021-06-13   \n",
       "293  W24-2021  TR200 Packaging Line  0.420414          24  2021 2021-06-20   \n",
       "294  W25-2021  TR200 Packaging Line  0.561511          25  2021 2021-06-27   \n",
       "295  W26-2021  TR200 Packaging Line  0.561511          26  2021 2021-07-04   \n",
       "296  W27-2021  TR200 Packaging Line  0.561511          27  2021 2021-07-11   \n",
       "\n",
       "       Plant  OEE  Start point  OEE% Target (2022)  Unplanned_tech_loss  \\\n",
       "282  Lisieux          0.483505                0.65             0.163573   \n",
       "283  Lisieux          0.483505                0.65             0.127162   \n",
       "284  Lisieux          0.483505                0.65             0.145680   \n",
       "285  Lisieux          0.483505                0.65             0.217642   \n",
       "286  Lisieux          0.483505                0.65             0.203961   \n",
       "287  Lisieux          0.483505                0.65             0.148352   \n",
       "288  Lisieux          0.483505                0.65             0.225213   \n",
       "289  Lisieux          0.483505                0.65             0.169660   \n",
       "290  Lisieux          0.483505                0.65             0.251404   \n",
       "291  Lisieux          0.483505                0.65             0.158634   \n",
       "292  Lisieux          0.483505                0.65             0.221234   \n",
       "293  Lisieux          0.483505                0.65             0.221771   \n",
       "294  Lisieux          0.483505                0.65             0.173618   \n",
       "295  Lisieux          0.483505                0.65                  NaN   \n",
       "296  Lisieux          0.483505                0.65                  NaN   \n",
       "\n",
       "     Changeover  \n",
       "282    0.075189  \n",
       "283    0.366955  \n",
       "284    0.130089  \n",
       "285    0.036253  \n",
       "286    0.158523  \n",
       "287    0.143708  \n",
       "288    0.144646  \n",
       "289    0.196068  \n",
       "290    0.163872  \n",
       "291    0.057577  \n",
       "292    0.116895  \n",
       "293    0.264205  \n",
       "294    0.038517  \n",
       "295         NaN  \n",
       "296         NaN  "
      ],
      "text/html": "<div>\n<style scoped>\n    .dataframe tbody tr th:only-of-type {\n        vertical-align: middle;\n    }\n\n    .dataframe tbody tr th {\n        vertical-align: top;\n    }\n\n    .dataframe thead th {\n        text-align: right;\n    }\n</style>\n<table border=\"1\" class=\"dataframe\">\n  <thead>\n    <tr style=\"text-align: right;\">\n      <th></th>\n      <th>Week</th>\n      <th>Line</th>\n      <th>OEE %</th>\n      <th>WeekOfYear</th>\n      <th>Year</th>\n      <th>Date</th>\n      <th>Plant</th>\n      <th>OEE  Start point</th>\n      <th>OEE% Target (2022)</th>\n      <th>Unplanned_tech_loss</th>\n      <th>Changeover</th>\n    </tr>\n  </thead>\n  <tbody>\n    <tr>\n      <th>282</th>\n      <td>W13-2021</td>\n      <td>TR200 Packaging Line</td>\n      <td>0.596432</td>\n      <td>13</td>\n      <td>2021</td>\n      <td>2021-04-04</td>\n      <td>Lisieux</td>\n      <td>0.483505</td>\n      <td>0.65</td>\n      <td>0.163573</td>\n      <td>0.075189</td>\n    </tr>\n    <tr>\n      <th>283</th>\n      <td>W14-2021</td>\n      <td>TR200 Packaging Line</td>\n      <td>0.515187</td>\n      <td>14</td>\n      <td>2021</td>\n      <td>2021-04-11</td>\n      <td>Lisieux</td>\n      <td>0.483505</td>\n      <td>0.65</td>\n      <td>0.127162</td>\n      <td>0.366955</td>\n    </tr>\n    <tr>\n      <th>284</th>\n      <td>W15-2021</td>\n      <td>TR200 Packaging Line</td>\n      <td>0.655470</td>\n      <td>15</td>\n      <td>2021</td>\n      <td>2021-04-18</td>\n      <td>Lisieux</td>\n      <td>0.483505</td>\n      <td>0.65</td>\n      <td>0.145680</td>\n      <td>0.130089</td>\n    </tr>\n    <tr>\n      <th>285</th>\n      <td>W16-2021</td>\n      <td>TR200 Packaging Line</td>\n      <td>0.501130</td>\n      <td>16</td>\n      <td>2021</td>\n      <td>2021-04-25</td>\n      <td>Lisieux</td>\n      <td>0.483505</td>\n      <td>0.65</td>\n      <td>0.217642</td>\n      <td>0.036253</td>\n    </tr>\n    <tr>\n      <th>286</th>\n      <td>W17-2021</td>\n      <td>TR200 Packaging Line</td>\n      <td>0.521534</td>\n      <td>17</td>\n      <td>2021</td>\n      <td>2021-05-02</td>\n      <td>Lisieux</td>\n      <td>0.483505</td>\n      <td>0.65</td>\n      <td>0.203961</td>\n      <td>0.158523</td>\n    </tr>\n    <tr>\n      <th>287</th>\n      <td>W18-2021</td>\n      <td>TR200 Packaging Line</td>\n      <td>0.555848</td>\n      <td>18</td>\n      <td>2021</td>\n      <td>2021-05-09</td>\n      <td>Lisieux</td>\n      <td>0.483505</td>\n      <td>0.65</td>\n      <td>0.148352</td>\n      <td>0.143708</td>\n    </tr>\n    <tr>\n      <th>288</th>\n      <td>W19-2021</td>\n      <td>TR200 Packaging Line</td>\n      <td>0.531703</td>\n      <td>19</td>\n      <td>2021</td>\n      <td>2021-05-16</td>\n      <td>Lisieux</td>\n      <td>0.483505</td>\n      <td>0.65</td>\n      <td>0.225213</td>\n      <td>0.144646</td>\n    </tr>\n    <tr>\n      <th>289</th>\n      <td>W20-2021</td>\n      <td>TR200 Packaging Line</td>\n      <td>0.596425</td>\n      <td>20</td>\n      <td>2021</td>\n      <td>2021-05-23</td>\n      <td>Lisieux</td>\n      <td>0.483505</td>\n      <td>0.65</td>\n      <td>0.169660</td>\n      <td>0.196068</td>\n    </tr>\n    <tr>\n      <th>290</th>\n      <td>W21-2021</td>\n      <td>TR200 Packaging Line</td>\n      <td>0.517050</td>\n      <td>21</td>\n      <td>2021</td>\n      <td>2021-05-30</td>\n      <td>Lisieux</td>\n      <td>0.483505</td>\n      <td>0.65</td>\n      <td>0.251404</td>\n      <td>0.163872</td>\n    </tr>\n    <tr>\n      <th>291</th>\n      <td>W22-2021</td>\n      <td>TR200 Packaging Line</td>\n      <td>0.769493</td>\n      <td>22</td>\n      <td>2021</td>\n      <td>2021-06-06</td>\n      <td>Lisieux</td>\n      <td>0.483505</td>\n      <td>0.65</td>\n      <td>0.158634</td>\n      <td>0.057577</td>\n    </tr>\n    <tr>\n      <th>292</th>\n      <td>W23-2021</td>\n      <td>TR200 Packaging Line</td>\n      <td>0.535201</td>\n      <td>23</td>\n      <td>2021</td>\n      <td>2021-06-13</td>\n      <td>Lisieux</td>\n      <td>0.483505</td>\n      <td>0.65</td>\n      <td>0.221234</td>\n      <td>0.116895</td>\n    </tr>\n    <tr>\n      <th>293</th>\n      <td>W24-2021</td>\n      <td>TR200 Packaging Line</td>\n      <td>0.420414</td>\n      <td>24</td>\n      <td>2021</td>\n      <td>2021-06-20</td>\n      <td>Lisieux</td>\n      <td>0.483505</td>\n      <td>0.65</td>\n      <td>0.221771</td>\n      <td>0.264205</td>\n    </tr>\n    <tr>\n      <th>294</th>\n      <td>W25-2021</td>\n      <td>TR200 Packaging Line</td>\n      <td>0.561511</td>\n      <td>25</td>\n      <td>2021</td>\n      <td>2021-06-27</td>\n      <td>Lisieux</td>\n      <td>0.483505</td>\n      <td>0.65</td>\n      <td>0.173618</td>\n      <td>0.038517</td>\n    </tr>\n    <tr>\n      <th>295</th>\n      <td>W26-2021</td>\n      <td>TR200 Packaging Line</td>\n      <td>0.561511</td>\n      <td>26</td>\n      <td>2021</td>\n      <td>2021-07-04</td>\n      <td>Lisieux</td>\n      <td>0.483505</td>\n      <td>0.65</td>\n      <td>NaN</td>\n      <td>NaN</td>\n    </tr>\n    <tr>\n      <th>296</th>\n      <td>W27-2021</td>\n      <td>TR200 Packaging Line</td>\n      <td>0.561511</td>\n      <td>27</td>\n      <td>2021</td>\n      <td>2021-07-11</td>\n      <td>Lisieux</td>\n      <td>0.483505</td>\n      <td>0.65</td>\n      <td>NaN</td>\n      <td>NaN</td>\n    </tr>\n  </tbody>\n</table>\n</div>"
     },
     "metadata": {},
     "execution_count": 11
    }
   ],
   "source": [
    "# df_weekly_minmax = (df_weekly.assign(Data_Value=df_weekly['OEE %'].abs())\n",
    "#        .groupby(pd.Grouper(key='Date',freq='W'))['OEE %'].agg([('Min' , 'min'), ('Max', 'max')])\n",
    "#        .add_prefix('Week'))\n",
    "# df_weekly_minmax.reset_index(inplace=True)\n",
    "# df_weekly = df_weekly.merge(df_weekly_minmax[['Date','WeekMin','WeekMax']])\n",
    "# df_weekly['OEE %'].fillna(df_weekly.WeekMin, inplace=True)\n",
    "# df_weekly.drop(columns=['WeekMin','WeekMax'], inplace=True)\n",
    "df_weekly['OEE %'] = df_weekly.sort_values(['Line','Date']).groupby(['Line'])['OEE %'].ffill()\n",
    "df_weekly['OEE %'] = df_weekly.sort_values(['Line','Date']).groupby(['Line'])['OEE %'].fillna(df_weekly['OEE  Start point'])\n",
    "# df_weekly[df_weekly['OEE %'].isna()]\n",
    "df_weekly[df_weekly.Line.str.contains('TR200')]"
   ]
  },
  {
   "cell_type": "markdown",
   "metadata": {},
   "source": [
    "## Standard Deviation\n",
    "Calculate std_dev and mean on a 4 week rolling basis\n",
    "\n",
    "Standard deviation is the square root of the variance, so no need to calculate both and have left var out"
   ]
  },
  {
   "cell_type": "code",
   "execution_count": 12,
   "metadata": {
    "scrolled": true
   },
   "outputs": [
    {
     "output_type": "execute_result",
     "data": {
      "text/plain": [
       "         Week                  Line     OEE %  WeekOfYear  Year       Date  \\\n",
       "12   W13-2021     C2 Packaging Line  0.458414          13  2021 2021-04-04   \n",
       "228  W13-2021           M22 Filling  0.649336          13  2021 2021-04-04   \n",
       "255  W13-2021  SUPPO Packaging Line  0.432432          13  2021 2021-04-04   \n",
       "174  W13-2021           M18 Filling  0.046124          13  2021 2021-04-04   \n",
       "39   W13-2021     C9 Packaging Line  0.371845          13  2021 2021-04-04   \n",
       "\n",
       "              Plant  OEE  Start point  OEE% Target (2022)  \\\n",
       "12   Maisons-Alfort          0.397503                0.47   \n",
       "228       Frankfurt          0.530068                0.65   \n",
       "255         Lisieux          0.353021                0.53   \n",
       "174       Frankfurt          0.443522                0.65   \n",
       "39   Maisons-Alfort          0.528518                0.53   \n",
       "\n",
       "     Unplanned_tech_loss  Changeover  rolling_std  \n",
       "12              0.465009    0.044140          NaN  \n",
       "228             0.234635    0.035164          NaN  \n",
       "255             0.148267    0.178806          NaN  \n",
       "174             0.114818    0.789781          NaN  \n",
       "39              0.229297    0.081871          NaN  "
      ],
      "text/html": "<div>\n<style scoped>\n    .dataframe tbody tr th:only-of-type {\n        vertical-align: middle;\n    }\n\n    .dataframe tbody tr th {\n        vertical-align: top;\n    }\n\n    .dataframe thead th {\n        text-align: right;\n    }\n</style>\n<table border=\"1\" class=\"dataframe\">\n  <thead>\n    <tr style=\"text-align: right;\">\n      <th></th>\n      <th>Week</th>\n      <th>Line</th>\n      <th>OEE %</th>\n      <th>WeekOfYear</th>\n      <th>Year</th>\n      <th>Date</th>\n      <th>Plant</th>\n      <th>OEE  Start point</th>\n      <th>OEE% Target (2022)</th>\n      <th>Unplanned_tech_loss</th>\n      <th>Changeover</th>\n      <th>rolling_std</th>\n    </tr>\n  </thead>\n  <tbody>\n    <tr>\n      <th>12</th>\n      <td>W13-2021</td>\n      <td>C2 Packaging Line</td>\n      <td>0.458414</td>\n      <td>13</td>\n      <td>2021</td>\n      <td>2021-04-04</td>\n      <td>Maisons-Alfort</td>\n      <td>0.397503</td>\n      <td>0.47</td>\n      <td>0.465009</td>\n      <td>0.044140</td>\n      <td>NaN</td>\n    </tr>\n    <tr>\n      <th>228</th>\n      <td>W13-2021</td>\n      <td>M22 Filling</td>\n      <td>0.649336</td>\n      <td>13</td>\n      <td>2021</td>\n      <td>2021-04-04</td>\n      <td>Frankfurt</td>\n      <td>0.530068</td>\n      <td>0.65</td>\n      <td>0.234635</td>\n      <td>0.035164</td>\n      <td>NaN</td>\n    </tr>\n    <tr>\n      <th>255</th>\n      <td>W13-2021</td>\n      <td>SUPPO Packaging Line</td>\n      <td>0.432432</td>\n      <td>13</td>\n      <td>2021</td>\n      <td>2021-04-04</td>\n      <td>Lisieux</td>\n      <td>0.353021</td>\n      <td>0.53</td>\n      <td>0.148267</td>\n      <td>0.178806</td>\n      <td>NaN</td>\n    </tr>\n    <tr>\n      <th>174</th>\n      <td>W13-2021</td>\n      <td>M18 Filling</td>\n      <td>0.046124</td>\n      <td>13</td>\n      <td>2021</td>\n      <td>2021-04-04</td>\n      <td>Frankfurt</td>\n      <td>0.443522</td>\n      <td>0.65</td>\n      <td>0.114818</td>\n      <td>0.789781</td>\n      <td>NaN</td>\n    </tr>\n    <tr>\n      <th>39</th>\n      <td>W13-2021</td>\n      <td>C9 Packaging Line</td>\n      <td>0.371845</td>\n      <td>13</td>\n      <td>2021</td>\n      <td>2021-04-04</td>\n      <td>Maisons-Alfort</td>\n      <td>0.528518</td>\n      <td>0.53</td>\n      <td>0.229297</td>\n      <td>0.081871</td>\n      <td>NaN</td>\n    </tr>\n  </tbody>\n</table>\n</div>"
     },
     "metadata": {},
     "execution_count": 12
    }
   ],
   "source": [
    "df_weekly['rolling_std'] = df_weekly.groupby('Line')['OEE %'].apply(lambda x : x.rolling(4,1).agg(np.std))\n",
    "df_weekly.head(5)"
   ]
  },
  {
   "cell_type": "code",
   "execution_count": 13,
   "metadata": {},
   "outputs": [],
   "source": [
    "file = (dir + 'Nominations Category Scoring.xlsx')\n",
    "df_nom_sectors = pd.read_excel(file, sheet_name='Nomination scoring', usecols=\"A:H\", parse_dates=['Date'])"
   ]
  },
  {
   "cell_type": "code",
   "execution_count": 14,
   "metadata": {},
   "outputs": [
    {
     "output_type": "execute_result",
     "data": {
      "text/plain": [
       "         Week                  Line     OEE %  WeekOfYear    Year       Date  \\\n",
       "0    W13-2021     C2 Packaging Line  0.458414        13.0  2021.0 2021-04-04   \n",
       "1    W13-2021           M22 Filling  0.649336        13.0  2021.0 2021-04-04   \n",
       "2    W13-2021  SUPPO Packaging Line  0.432432        13.0  2021.0 2021-04-04   \n",
       "3    W13-2021           M18 Filling  0.046124        13.0  2021.0 2021-04-04   \n",
       "4    W13-2021     C9 Packaging Line  0.371845        13.0  2021.0 2021-04-04   \n",
       "..        ...                   ...       ...         ...     ...        ...   \n",
       "242       NaN       AL5 Packaging 1       NaN         NaN     NaN 2021-09-12   \n",
       "243       NaN                   AL6       NaN         NaN     NaN 2021-09-12   \n",
       "244       NaN           M18 Filling       NaN         NaN     NaN 2021-09-12   \n",
       "245       NaN           M21 Filling       NaN         NaN     NaN 2021-09-12   \n",
       "246       NaN           M22 Filling       NaN         NaN     NaN 2021-09-12   \n",
       "\n",
       "              Plant  OEE  Start point  OEE% Target (2022)  \\\n",
       "0    Maisons-Alfort          0.397503                0.47   \n",
       "1         Frankfurt          0.530068                0.65   \n",
       "2           Lisieux          0.353021                0.53   \n",
       "3         Frankfurt          0.443522                0.65   \n",
       "4    Maisons-Alfort          0.528518                0.53   \n",
       "..              ...               ...                 ...   \n",
       "242       Frankfurt               NaN                 NaN   \n",
       "243       Frankfurt               NaN                 NaN   \n",
       "244       Frankfurt               NaN                 NaN   \n",
       "245       Frankfurt               NaN                 NaN   \n",
       "246       Frankfurt               NaN                 NaN   \n",
       "\n",
       "     Unplanned_tech_loss  Changeover  rolling_std  Best Solution  \\\n",
       "0               0.465009    0.044140          NaN            NaN   \n",
       "1               0.234635    0.035164          NaN            NaN   \n",
       "2               0.148267    0.178806          NaN            NaN   \n",
       "3               0.114818    0.789781          NaN            NaN   \n",
       "4               0.229297    0.081871          NaN            NaN   \n",
       "..                   ...         ...          ...            ...   \n",
       "242                  NaN         NaN          NaN            0.0   \n",
       "243                  NaN         NaN          NaN            0.0   \n",
       "244                  NaN         NaN          NaN            0.0   \n",
       "245                  NaN         NaN          NaN            0.0   \n",
       "246                  NaN         NaN          NaN            0.0   \n",
       "\n",
       "     Best Innovation  Improvement Iterations  Lessons and Sharing  \\\n",
       "0                NaN                     NaN                  NaN   \n",
       "1                NaN                     NaN                  NaN   \n",
       "2                NaN                     NaN                  NaN   \n",
       "3                NaN                     NaN                  NaN   \n",
       "4                NaN                     NaN                  NaN   \n",
       "..               ...                     ...                  ...   \n",
       "242              0.0                     0.0                  0.0   \n",
       "243              0.0                     0.0                  0.0   \n",
       "244              0.0                     0.0                  0.0   \n",
       "245              0.0                     0.0                  0.0   \n",
       "246              0.0                     0.0                  0.0   \n",
       "\n",
       "     Team Contribution and Spirit  \n",
       "0                             NaN  \n",
       "1                             NaN  \n",
       "2                             NaN  \n",
       "3                             NaN  \n",
       "4                             NaN  \n",
       "..                            ...  \n",
       "242                           0.0  \n",
       "243                           0.0  \n",
       "244                           0.0  \n",
       "245                           0.0  \n",
       "246                           0.0  \n",
       "\n",
       "[247 rows x 17 columns]"
      ],
      "text/html": "<div>\n<style scoped>\n    .dataframe tbody tr th:only-of-type {\n        vertical-align: middle;\n    }\n\n    .dataframe tbody tr th {\n        vertical-align: top;\n    }\n\n    .dataframe thead th {\n        text-align: right;\n    }\n</style>\n<table border=\"1\" class=\"dataframe\">\n  <thead>\n    <tr style=\"text-align: right;\">\n      <th></th>\n      <th>Week</th>\n      <th>Line</th>\n      <th>OEE %</th>\n      <th>WeekOfYear</th>\n      <th>Year</th>\n      <th>Date</th>\n      <th>Plant</th>\n      <th>OEE  Start point</th>\n      <th>OEE% Target (2022)</th>\n      <th>Unplanned_tech_loss</th>\n      <th>Changeover</th>\n      <th>rolling_std</th>\n      <th>Best Solution</th>\n      <th>Best Innovation</th>\n      <th>Improvement Iterations</th>\n      <th>Lessons and Sharing</th>\n      <th>Team Contribution and Spirit</th>\n    </tr>\n  </thead>\n  <tbody>\n    <tr>\n      <th>0</th>\n      <td>W13-2021</td>\n      <td>C2 Packaging Line</td>\n      <td>0.458414</td>\n      <td>13.0</td>\n      <td>2021.0</td>\n      <td>2021-04-04</td>\n      <td>Maisons-Alfort</td>\n      <td>0.397503</td>\n      <td>0.47</td>\n      <td>0.465009</td>\n      <td>0.044140</td>\n      <td>NaN</td>\n      <td>NaN</td>\n      <td>NaN</td>\n      <td>NaN</td>\n      <td>NaN</td>\n      <td>NaN</td>\n    </tr>\n    <tr>\n      <th>1</th>\n      <td>W13-2021</td>\n      <td>M22 Filling</td>\n      <td>0.649336</td>\n      <td>13.0</td>\n      <td>2021.0</td>\n      <td>2021-04-04</td>\n      <td>Frankfurt</td>\n      <td>0.530068</td>\n      <td>0.65</td>\n      <td>0.234635</td>\n      <td>0.035164</td>\n      <td>NaN</td>\n      <td>NaN</td>\n      <td>NaN</td>\n      <td>NaN</td>\n      <td>NaN</td>\n      <td>NaN</td>\n    </tr>\n    <tr>\n      <th>2</th>\n      <td>W13-2021</td>\n      <td>SUPPO Packaging Line</td>\n      <td>0.432432</td>\n      <td>13.0</td>\n      <td>2021.0</td>\n      <td>2021-04-04</td>\n      <td>Lisieux</td>\n      <td>0.353021</td>\n      <td>0.53</td>\n      <td>0.148267</td>\n      <td>0.178806</td>\n      <td>NaN</td>\n      <td>NaN</td>\n      <td>NaN</td>\n      <td>NaN</td>\n      <td>NaN</td>\n      <td>NaN</td>\n    </tr>\n    <tr>\n      <th>3</th>\n      <td>W13-2021</td>\n      <td>M18 Filling</td>\n      <td>0.046124</td>\n      <td>13.0</td>\n      <td>2021.0</td>\n      <td>2021-04-04</td>\n      <td>Frankfurt</td>\n      <td>0.443522</td>\n      <td>0.65</td>\n      <td>0.114818</td>\n      <td>0.789781</td>\n      <td>NaN</td>\n      <td>NaN</td>\n      <td>NaN</td>\n      <td>NaN</td>\n      <td>NaN</td>\n      <td>NaN</td>\n    </tr>\n    <tr>\n      <th>4</th>\n      <td>W13-2021</td>\n      <td>C9 Packaging Line</td>\n      <td>0.371845</td>\n      <td>13.0</td>\n      <td>2021.0</td>\n      <td>2021-04-04</td>\n      <td>Maisons-Alfort</td>\n      <td>0.528518</td>\n      <td>0.53</td>\n      <td>0.229297</td>\n      <td>0.081871</td>\n      <td>NaN</td>\n      <td>NaN</td>\n      <td>NaN</td>\n      <td>NaN</td>\n      <td>NaN</td>\n      <td>NaN</td>\n    </tr>\n    <tr>\n      <th>...</th>\n      <td>...</td>\n      <td>...</td>\n      <td>...</td>\n      <td>...</td>\n      <td>...</td>\n      <td>...</td>\n      <td>...</td>\n      <td>...</td>\n      <td>...</td>\n      <td>...</td>\n      <td>...</td>\n      <td>...</td>\n      <td>...</td>\n      <td>...</td>\n      <td>...</td>\n      <td>...</td>\n      <td>...</td>\n    </tr>\n    <tr>\n      <th>242</th>\n      <td>NaN</td>\n      <td>AL5 Packaging 1</td>\n      <td>NaN</td>\n      <td>NaN</td>\n      <td>NaN</td>\n      <td>2021-09-12</td>\n      <td>Frankfurt</td>\n      <td>NaN</td>\n      <td>NaN</td>\n      <td>NaN</td>\n      <td>NaN</td>\n      <td>NaN</td>\n      <td>0.0</td>\n      <td>0.0</td>\n      <td>0.0</td>\n      <td>0.0</td>\n      <td>0.0</td>\n    </tr>\n    <tr>\n      <th>243</th>\n      <td>NaN</td>\n      <td>AL6</td>\n      <td>NaN</td>\n      <td>NaN</td>\n      <td>NaN</td>\n      <td>2021-09-12</td>\n      <td>Frankfurt</td>\n      <td>NaN</td>\n      <td>NaN</td>\n      <td>NaN</td>\n      <td>NaN</td>\n      <td>NaN</td>\n      <td>0.0</td>\n      <td>0.0</td>\n      <td>0.0</td>\n      <td>0.0</td>\n      <td>0.0</td>\n    </tr>\n    <tr>\n      <th>244</th>\n      <td>NaN</td>\n      <td>M18 Filling</td>\n      <td>NaN</td>\n      <td>NaN</td>\n      <td>NaN</td>\n      <td>2021-09-12</td>\n      <td>Frankfurt</td>\n      <td>NaN</td>\n      <td>NaN</td>\n      <td>NaN</td>\n      <td>NaN</td>\n      <td>NaN</td>\n      <td>0.0</td>\n      <td>0.0</td>\n      <td>0.0</td>\n      <td>0.0</td>\n      <td>0.0</td>\n    </tr>\n    <tr>\n      <th>245</th>\n      <td>NaN</td>\n      <td>M21 Filling</td>\n      <td>NaN</td>\n      <td>NaN</td>\n      <td>NaN</td>\n      <td>2021-09-12</td>\n      <td>Frankfurt</td>\n      <td>NaN</td>\n      <td>NaN</td>\n      <td>NaN</td>\n      <td>NaN</td>\n      <td>NaN</td>\n      <td>0.0</td>\n      <td>0.0</td>\n      <td>0.0</td>\n      <td>0.0</td>\n      <td>0.0</td>\n    </tr>\n    <tr>\n      <th>246</th>\n      <td>NaN</td>\n      <td>M22 Filling</td>\n      <td>NaN</td>\n      <td>NaN</td>\n      <td>NaN</td>\n      <td>2021-09-12</td>\n      <td>Frankfurt</td>\n      <td>NaN</td>\n      <td>NaN</td>\n      <td>NaN</td>\n      <td>NaN</td>\n      <td>NaN</td>\n      <td>0.0</td>\n      <td>0.0</td>\n      <td>0.0</td>\n      <td>0.0</td>\n      <td>0.0</td>\n    </tr>\n  </tbody>\n</table>\n<p>247 rows × 17 columns</p>\n</div>"
     },
     "metadata": {},
     "execution_count": 14
    }
   ],
   "source": [
    "df_nom_sectors['Date'] = pd.Series(df_nom_sectors['Date']).fillna(method='ffill')\n",
    "df_nom_sectors = df_nom_sectors.fillna(0)\n",
    "\n",
    "df_weekly = df_weekly.merge(df_nom_sectors[['Line','Plant','Date','Best Solution','Best Innovation','Improvement Iterations','Lessons and Sharing','Team Contribution and Spirit']],how='outer', on=['Date','Plant','Line'])\n",
    "df_weekly"
   ]
  },
  {
   "cell_type": "markdown",
   "metadata": {},
   "source": [
    "## Create review dates\n",
    "create a review_date column for grouping the data later, so we only get the data we're interested in for each review"
   ]
  },
  {
   "cell_type": "code",
   "execution_count": 15,
   "metadata": {},
   "outputs": [],
   "source": [
    "def thurs_of_weekbefore(year, week):\n",
    "    return datetime.date.fromisocalendar(year, week-1, 4)  # (year, week before (w-1), thursday)\n",
    "\n",
    "review_weeks = [16, 20, 24, 28, 34, 38, 42, 47]\n",
    "review_dates = []\n",
    "\n",
    "for i in review_weeks:\n",
    "    if i > 0:\n",
    "        review_dates.append((thurs_of_weekbefore(2021,i)))\n",
    "\n",
    "df_review_dates = pd.DataFrame(review_dates)\n",
    "df_review_dates.rename(columns={0:'Review_Date'}, inplace=True)\n",
    "df_review_dates['Review_Date'] = pd.to_datetime(df_review_dates.Review_Date)\n",
    "\n",
    "# df_review_dates.info()\n",
    "df_weekly = pd.merge_asof(df_weekly.sort_values('Date'), df_review_dates, left_on='Date', right_on='Review_Date', allow_exact_matches=True, direction='forward')\n"
   ]
  },
  {
   "cell_type": "markdown",
   "metadata": {},
   "source": [
    "#### We need the diff between the weekly OEE % figures, and the Weekly Changeover figures\n",
    "Need something to calculate the OEE Progress and Changeover, otherwise we will have problems when we group and sum values later\n",
    "- Create OEE_diff with OEE % from groupby of each Line, Week (only 1 row per week, so 'mean' will yield the same)   \n",
    "- Find the diff between the rows in OEE_Diff for each Line   \n",
    "- fillNA (first row for each Line) with OEE Start point - should only be needed on the first row for each Line   \n",
    "\n",
    "repeat same logic for Changeover - there will be more NaN as start_changeover wasn't provided for all.  We populate this later"
   ]
  },
  {
   "cell_type": "code",
   "execution_count": 16,
   "metadata": {},
   "outputs": [],
   "source": [
    "# this was calculating the wrong Diff - the first row of each site was looking at the previous site for all but the 1st calc\n",
    "# needed to sort by Line and Date first \n",
    "\n",
    "# OEE_Diff = df_weekly.groupby(['Line',pd.Grouper(key='Date',freq='W')])['OEE %'].mean().reset_index()\n",
    "# OEE_Diff[\"OEE_Diff\"] = OEE_Diff[\"OEE %\"].diff()\n",
    "# df_weekly = df_weekly.merge(OEE_Diff[[\"Line\",\"Date\",\"OEE_Diff\"]], on=([\"Line\",\"Date\"]))\n",
    "\n",
    "# df_weekly['OEE_Diff'].fillna(df_weekly['OEE %'] - df_weekly['OEE  Start point'], inplace=True)\n",
    "# df_weekly[[\"Line\",\"Date\",\"OEE %\",\"OEE_Diff\"]].head(50).sort_values(by=['Line', 'Date'])"
   ]
  },
  {
   "source": [
    "after merging with nominations spreadsheet we will have future dated rows that get in the way of calcs later - get rid of them using the review_date set earlier"
   ],
   "cell_type": "markdown",
   "metadata": {}
  },
  {
   "cell_type": "code",
   "execution_count": 17,
   "metadata": {},
   "outputs": [],
   "source": [
    "df_weekly = df_weekly[df_weekly['Review_Date'] <= review_date]"
   ]
  },
  {
   "cell_type": "code",
   "execution_count": 18,
   "metadata": {},
   "outputs": [
    {
     "output_type": "execute_result",
     "data": {
      "text/plain": [
       "                    Line       Date     OEE %  OEE_Diff\n",
       "12       AL5 Packaging 1 2021-04-04  0.479693  0.000000\n",
       "25       AL5 Packaging 1 2021-04-11  0.479693  0.000000\n",
       "30       AL5 Packaging 1 2021-04-18  0.449745 -0.029948\n",
       "3                    AL6 2021-04-04  0.367897  0.035240\n",
       "16                   AL6 2021-04-11  0.360681 -0.007216\n",
       "31                   AL6 2021-04-18  0.334140 -0.026541\n",
       "45                   AL6 2021-04-25  0.309545 -0.024595\n",
       "0      C2 Packaging Line 2021-04-04  0.458414  0.060911\n",
       "19     C2 Packaging Line 2021-04-11  0.530707  0.072293\n",
       "38     C2 Packaging Line 2021-04-18  0.410676 -0.120032\n",
       "39     C2 Packaging Line 2021-04-25  0.372550 -0.038125\n",
       "8      C9 Packaging Line 2021-04-04  0.371845 -0.156673\n",
       "13     C9 Packaging Line 2021-04-11  0.259071 -0.112774\n",
       "28     C9 Packaging Line 2021-04-18  0.444577  0.185507\n",
       "40     C9 Packaging Line 2021-04-25  0.509444  0.064867\n",
       "6                 GAMMA1 2021-04-04  0.431186  0.012503\n",
       "23                GAMMA1 2021-04-11  0.389690 -0.041496\n",
       "37                GAMMA1 2021-04-18  0.458668  0.068978\n",
       "41                GAMMA1 2021-04-25  0.471819  0.013150\n",
       "2              IMA C80/2 2021-04-04  0.581304  0.130272\n",
       "21             IMA C80/2 2021-04-11  0.433635 -0.147669\n",
       "27             IMA C80/2 2021-04-18  0.451515  0.017881\n",
       "44             IMA C80/2 2021-04-25  0.406219 -0.045296\n",
       "1     L18 Packaging Line 2021-04-04  0.465923  0.088240\n",
       "17    L18 Packaging Line 2021-04-11  0.410901 -0.055022\n",
       "35    L18 Packaging Line 2021-04-18  0.401397 -0.009504\n",
       "46    L18 Packaging Line 2021-04-25  0.357559 -0.043839\n",
       "5     L25 Packaging Line 2021-04-04  0.393740  0.042176\n",
       "14    L25 Packaging Line 2021-04-11  0.346988 -0.046751\n",
       "36    L25 Packaging Line 2021-04-18  0.187845 -0.159143\n",
       "9            M18 Filling 2021-04-04  0.046124 -0.397398\n",
       "18           M18 Filling 2021-04-11  0.463021  0.416897\n",
       "32           M18 Filling 2021-04-18  0.386723 -0.076297\n",
       "47           M18 Filling 2021-04-25  0.352420 -0.034303\n",
       "7            M21 Filling 2021-04-04  0.599671  0.000000\n",
       "24           M21 Filling 2021-04-11  0.599671  0.000000\n",
       "33           M21 Filling 2021-04-18  0.599671  0.000000\n",
       "42           M21 Filling 2021-04-25  0.000000 -0.599671\n",
       "11           M22 Filling 2021-04-04  0.649336  0.119268\n",
       "22           M22 Filling 2021-04-11  0.427316 -0.222019\n",
       "34           M22 Filling 2021-04-18  0.520511  0.093195\n",
       "43           M22 Filling 2021-04-25  0.703703  0.183191\n",
       "10  SUPPO Packaging Line 2021-04-04  0.432432  0.079411\n",
       "20  SUPPO Packaging Line 2021-04-11  0.518594  0.086162\n",
       "29  SUPPO Packaging Line 2021-04-18  0.633037  0.114443\n",
       "49  SUPPO Packaging Line 2021-04-25  0.403974 -0.229063\n",
       "4   TR200 Packaging Line 2021-04-04  0.596432  0.112928\n",
       "15  TR200 Packaging Line 2021-04-11  0.515187 -0.081246\n",
       "26  TR200 Packaging Line 2021-04-18  0.655470  0.140283\n",
       "48  TR200 Packaging Line 2021-04-25  0.501130 -0.154340"
      ],
      "text/html": "<div>\n<style scoped>\n    .dataframe tbody tr th:only-of-type {\n        vertical-align: middle;\n    }\n\n    .dataframe tbody tr th {\n        vertical-align: top;\n    }\n\n    .dataframe thead th {\n        text-align: right;\n    }\n</style>\n<table border=\"1\" class=\"dataframe\">\n  <thead>\n    <tr style=\"text-align: right;\">\n      <th></th>\n      <th>Line</th>\n      <th>Date</th>\n      <th>OEE %</th>\n      <th>OEE_Diff</th>\n    </tr>\n  </thead>\n  <tbody>\n    <tr>\n      <th>12</th>\n      <td>AL5 Packaging 1</td>\n      <td>2021-04-04</td>\n      <td>0.479693</td>\n      <td>0.000000</td>\n    </tr>\n    <tr>\n      <th>25</th>\n      <td>AL5 Packaging 1</td>\n      <td>2021-04-11</td>\n      <td>0.479693</td>\n      <td>0.000000</td>\n    </tr>\n    <tr>\n      <th>30</th>\n      <td>AL5 Packaging 1</td>\n      <td>2021-04-18</td>\n      <td>0.449745</td>\n      <td>-0.029948</td>\n    </tr>\n    <tr>\n      <th>3</th>\n      <td>AL6</td>\n      <td>2021-04-04</td>\n      <td>0.367897</td>\n      <td>0.035240</td>\n    </tr>\n    <tr>\n      <th>16</th>\n      <td>AL6</td>\n      <td>2021-04-11</td>\n      <td>0.360681</td>\n      <td>-0.007216</td>\n    </tr>\n    <tr>\n      <th>31</th>\n      <td>AL6</td>\n      <td>2021-04-18</td>\n      <td>0.334140</td>\n      <td>-0.026541</td>\n    </tr>\n    <tr>\n      <th>45</th>\n      <td>AL6</td>\n      <td>2021-04-25</td>\n      <td>0.309545</td>\n      <td>-0.024595</td>\n    </tr>\n    <tr>\n      <th>0</th>\n      <td>C2 Packaging Line</td>\n      <td>2021-04-04</td>\n      <td>0.458414</td>\n      <td>0.060911</td>\n    </tr>\n    <tr>\n      <th>19</th>\n      <td>C2 Packaging Line</td>\n      <td>2021-04-11</td>\n      <td>0.530707</td>\n      <td>0.072293</td>\n    </tr>\n    <tr>\n      <th>38</th>\n      <td>C2 Packaging Line</td>\n      <td>2021-04-18</td>\n      <td>0.410676</td>\n      <td>-0.120032</td>\n    </tr>\n    <tr>\n      <th>39</th>\n      <td>C2 Packaging Line</td>\n      <td>2021-04-25</td>\n      <td>0.372550</td>\n      <td>-0.038125</td>\n    </tr>\n    <tr>\n      <th>8</th>\n      <td>C9 Packaging Line</td>\n      <td>2021-04-04</td>\n      <td>0.371845</td>\n      <td>-0.156673</td>\n    </tr>\n    <tr>\n      <th>13</th>\n      <td>C9 Packaging Line</td>\n      <td>2021-04-11</td>\n      <td>0.259071</td>\n      <td>-0.112774</td>\n    </tr>\n    <tr>\n      <th>28</th>\n      <td>C9 Packaging Line</td>\n      <td>2021-04-18</td>\n      <td>0.444577</td>\n      <td>0.185507</td>\n    </tr>\n    <tr>\n      <th>40</th>\n      <td>C9 Packaging Line</td>\n      <td>2021-04-25</td>\n      <td>0.509444</td>\n      <td>0.064867</td>\n    </tr>\n    <tr>\n      <th>6</th>\n      <td>GAMMA1</td>\n      <td>2021-04-04</td>\n      <td>0.431186</td>\n      <td>0.012503</td>\n    </tr>\n    <tr>\n      <th>23</th>\n      <td>GAMMA1</td>\n      <td>2021-04-11</td>\n      <td>0.389690</td>\n      <td>-0.041496</td>\n    </tr>\n    <tr>\n      <th>37</th>\n      <td>GAMMA1</td>\n      <td>2021-04-18</td>\n      <td>0.458668</td>\n      <td>0.068978</td>\n    </tr>\n    <tr>\n      <th>41</th>\n      <td>GAMMA1</td>\n      <td>2021-04-25</td>\n      <td>0.471819</td>\n      <td>0.013150</td>\n    </tr>\n    <tr>\n      <th>2</th>\n      <td>IMA C80/2</td>\n      <td>2021-04-04</td>\n      <td>0.581304</td>\n      <td>0.130272</td>\n    </tr>\n    <tr>\n      <th>21</th>\n      <td>IMA C80/2</td>\n      <td>2021-04-11</td>\n      <td>0.433635</td>\n      <td>-0.147669</td>\n    </tr>\n    <tr>\n      <th>27</th>\n      <td>IMA C80/2</td>\n      <td>2021-04-18</td>\n      <td>0.451515</td>\n      <td>0.017881</td>\n    </tr>\n    <tr>\n      <th>44</th>\n      <td>IMA C80/2</td>\n      <td>2021-04-25</td>\n      <td>0.406219</td>\n      <td>-0.045296</td>\n    </tr>\n    <tr>\n      <th>1</th>\n      <td>L18 Packaging Line</td>\n      <td>2021-04-04</td>\n      <td>0.465923</td>\n      <td>0.088240</td>\n    </tr>\n    <tr>\n      <th>17</th>\n      <td>L18 Packaging Line</td>\n      <td>2021-04-11</td>\n      <td>0.410901</td>\n      <td>-0.055022</td>\n    </tr>\n    <tr>\n      <th>35</th>\n      <td>L18 Packaging Line</td>\n      <td>2021-04-18</td>\n      <td>0.401397</td>\n      <td>-0.009504</td>\n    </tr>\n    <tr>\n      <th>46</th>\n      <td>L18 Packaging Line</td>\n      <td>2021-04-25</td>\n      <td>0.357559</td>\n      <td>-0.043839</td>\n    </tr>\n    <tr>\n      <th>5</th>\n      <td>L25 Packaging Line</td>\n      <td>2021-04-04</td>\n      <td>0.393740</td>\n      <td>0.042176</td>\n    </tr>\n    <tr>\n      <th>14</th>\n      <td>L25 Packaging Line</td>\n      <td>2021-04-11</td>\n      <td>0.346988</td>\n      <td>-0.046751</td>\n    </tr>\n    <tr>\n      <th>36</th>\n      <td>L25 Packaging Line</td>\n      <td>2021-04-18</td>\n      <td>0.187845</td>\n      <td>-0.159143</td>\n    </tr>\n    <tr>\n      <th>9</th>\n      <td>M18 Filling</td>\n      <td>2021-04-04</td>\n      <td>0.046124</td>\n      <td>-0.397398</td>\n    </tr>\n    <tr>\n      <th>18</th>\n      <td>M18 Filling</td>\n      <td>2021-04-11</td>\n      <td>0.463021</td>\n      <td>0.416897</td>\n    </tr>\n    <tr>\n      <th>32</th>\n      <td>M18 Filling</td>\n      <td>2021-04-18</td>\n      <td>0.386723</td>\n      <td>-0.076297</td>\n    </tr>\n    <tr>\n      <th>47</th>\n      <td>M18 Filling</td>\n      <td>2021-04-25</td>\n      <td>0.352420</td>\n      <td>-0.034303</td>\n    </tr>\n    <tr>\n      <th>7</th>\n      <td>M21 Filling</td>\n      <td>2021-04-04</td>\n      <td>0.599671</td>\n      <td>0.000000</td>\n    </tr>\n    <tr>\n      <th>24</th>\n      <td>M21 Filling</td>\n      <td>2021-04-11</td>\n      <td>0.599671</td>\n      <td>0.000000</td>\n    </tr>\n    <tr>\n      <th>33</th>\n      <td>M21 Filling</td>\n      <td>2021-04-18</td>\n      <td>0.599671</td>\n      <td>0.000000</td>\n    </tr>\n    <tr>\n      <th>42</th>\n      <td>M21 Filling</td>\n      <td>2021-04-25</td>\n      <td>0.000000</td>\n      <td>-0.599671</td>\n    </tr>\n    <tr>\n      <th>11</th>\n      <td>M22 Filling</td>\n      <td>2021-04-04</td>\n      <td>0.649336</td>\n      <td>0.119268</td>\n    </tr>\n    <tr>\n      <th>22</th>\n      <td>M22 Filling</td>\n      <td>2021-04-11</td>\n      <td>0.427316</td>\n      <td>-0.222019</td>\n    </tr>\n    <tr>\n      <th>34</th>\n      <td>M22 Filling</td>\n      <td>2021-04-18</td>\n      <td>0.520511</td>\n      <td>0.093195</td>\n    </tr>\n    <tr>\n      <th>43</th>\n      <td>M22 Filling</td>\n      <td>2021-04-25</td>\n      <td>0.703703</td>\n      <td>0.183191</td>\n    </tr>\n    <tr>\n      <th>10</th>\n      <td>SUPPO Packaging Line</td>\n      <td>2021-04-04</td>\n      <td>0.432432</td>\n      <td>0.079411</td>\n    </tr>\n    <tr>\n      <th>20</th>\n      <td>SUPPO Packaging Line</td>\n      <td>2021-04-11</td>\n      <td>0.518594</td>\n      <td>0.086162</td>\n    </tr>\n    <tr>\n      <th>29</th>\n      <td>SUPPO Packaging Line</td>\n      <td>2021-04-18</td>\n      <td>0.633037</td>\n      <td>0.114443</td>\n    </tr>\n    <tr>\n      <th>49</th>\n      <td>SUPPO Packaging Line</td>\n      <td>2021-04-25</td>\n      <td>0.403974</td>\n      <td>-0.229063</td>\n    </tr>\n    <tr>\n      <th>4</th>\n      <td>TR200 Packaging Line</td>\n      <td>2021-04-04</td>\n      <td>0.596432</td>\n      <td>0.112928</td>\n    </tr>\n    <tr>\n      <th>15</th>\n      <td>TR200 Packaging Line</td>\n      <td>2021-04-11</td>\n      <td>0.515187</td>\n      <td>-0.081246</td>\n    </tr>\n    <tr>\n      <th>26</th>\n      <td>TR200 Packaging Line</td>\n      <td>2021-04-18</td>\n      <td>0.655470</td>\n      <td>0.140283</td>\n    </tr>\n    <tr>\n      <th>48</th>\n      <td>TR200 Packaging Line</td>\n      <td>2021-04-25</td>\n      <td>0.501130</td>\n      <td>-0.154340</td>\n    </tr>\n  </tbody>\n</table>\n</div>"
     },
     "metadata": {},
     "execution_count": 18
    }
   ],
   "source": [
    "OEE_Diff = df_weekly.sort_values(by=['Line', 'Date'])[['Line','Date','OEE %','OEE  Start point']]\n",
    "OEE_Diff['OEE_Diff'] = OEE_Diff.groupby('Line')['OEE %'].diff().fillna(df_weekly['OEE %'] - df_weekly['OEE  Start point'])\n",
    "df_weekly = df_weekly.merge(OEE_Diff[[\"Line\",\"Date\",\"OEE_Diff\"]], on=([\"Line\",\"Date\"]))\n",
    "df_weekly[[\"Line\",\"Date\",\"OEE %\",\"OEE_Diff\"]].head(50).sort_values(by=['Line', 'Date'])"
   ]
  },
  {
   "cell_type": "code",
   "execution_count": 19,
   "metadata": {},
   "outputs": [],
   "source": [
    "# Changeover_Diff = df_weekly.sort_values(by=['Line', 'Date'])[['Line','Date','Changeover','start_changeover']]\n",
    "Changeover_Diff = df_weekly.sort_values(by=['Line', 'Date'])[['Line','Date','Changeover']]\n",
    "# Changeover_Diff['Changeover_Diff'] = Changeover_Diff.groupby('Line')['Changeover'].diff().fillna(df_weekly['start_changeover'] - df_weekly['Changeover'])\n",
    "Changeover_Diff['Changeover_Diff'] = Changeover_Diff.groupby('Line')['Changeover'].diff().fillna(0)\n",
    "df_weekly = df_weekly.merge(Changeover_Diff[[\"Line\",\"Date\",\"Changeover_Diff\"]], on=([\"Line\",\"Date\"]))"
   ]
  },
  {
   "cell_type": "code",
   "execution_count": 20,
   "metadata": {},
   "outputs": [
    {
     "output_type": "execute_result",
     "data": {
      "text/plain": [
       "                     Line       Date  Changeover  Changeover_Diff\n",
       "4    TR200 Packaging Line 2021-04-04    0.075189         0.000000\n",
       "15   TR200 Packaging Line 2021-04-11    0.366955         0.291765\n",
       "26   TR200 Packaging Line 2021-04-18    0.130089        -0.236865\n",
       "48   TR200 Packaging Line 2021-04-25    0.036253        -0.093836\n",
       "55   TR200 Packaging Line 2021-05-02    0.158523         0.122270\n",
       "69   TR200 Packaging Line 2021-05-09    0.143708        -0.014815\n",
       "96   TR200 Packaging Line 2021-05-16    0.144646         0.000938\n",
       "106  TR200 Packaging Line 2021-05-23    0.196068         0.051422\n",
       "118  TR200 Packaging Line 2021-05-30    0.163872        -0.032196\n",
       "137  TR200 Packaging Line 2021-06-06    0.057577        -0.106295\n",
       "153  TR200 Packaging Line 2021-06-13    0.116895         0.059318\n",
       "162  TR200 Packaging Line 2021-06-20    0.264205         0.147309\n",
       "177  TR200 Packaging Line 2021-06-27    0.038517        -0.225688\n",
       "193  TR200 Packaging Line 2021-07-04         NaN         0.000000"
      ],
      "text/html": "<div>\n<style scoped>\n    .dataframe tbody tr th:only-of-type {\n        vertical-align: middle;\n    }\n\n    .dataframe tbody tr th {\n        vertical-align: top;\n    }\n\n    .dataframe thead th {\n        text-align: right;\n    }\n</style>\n<table border=\"1\" class=\"dataframe\">\n  <thead>\n    <tr style=\"text-align: right;\">\n      <th></th>\n      <th>Line</th>\n      <th>Date</th>\n      <th>Changeover</th>\n      <th>Changeover_Diff</th>\n    </tr>\n  </thead>\n  <tbody>\n    <tr>\n      <th>4</th>\n      <td>TR200 Packaging Line</td>\n      <td>2021-04-04</td>\n      <td>0.075189</td>\n      <td>0.000000</td>\n    </tr>\n    <tr>\n      <th>15</th>\n      <td>TR200 Packaging Line</td>\n      <td>2021-04-11</td>\n      <td>0.366955</td>\n      <td>0.291765</td>\n    </tr>\n    <tr>\n      <th>26</th>\n      <td>TR200 Packaging Line</td>\n      <td>2021-04-18</td>\n      <td>0.130089</td>\n      <td>-0.236865</td>\n    </tr>\n    <tr>\n      <th>48</th>\n      <td>TR200 Packaging Line</td>\n      <td>2021-04-25</td>\n      <td>0.036253</td>\n      <td>-0.093836</td>\n    </tr>\n    <tr>\n      <th>55</th>\n      <td>TR200 Packaging Line</td>\n      <td>2021-05-02</td>\n      <td>0.158523</td>\n      <td>0.122270</td>\n    </tr>\n    <tr>\n      <th>69</th>\n      <td>TR200 Packaging Line</td>\n      <td>2021-05-09</td>\n      <td>0.143708</td>\n      <td>-0.014815</td>\n    </tr>\n    <tr>\n      <th>96</th>\n      <td>TR200 Packaging Line</td>\n      <td>2021-05-16</td>\n      <td>0.144646</td>\n      <td>0.000938</td>\n    </tr>\n    <tr>\n      <th>106</th>\n      <td>TR200 Packaging Line</td>\n      <td>2021-05-23</td>\n      <td>0.196068</td>\n      <td>0.051422</td>\n    </tr>\n    <tr>\n      <th>118</th>\n      <td>TR200 Packaging Line</td>\n      <td>2021-05-30</td>\n      <td>0.163872</td>\n      <td>-0.032196</td>\n    </tr>\n    <tr>\n      <th>137</th>\n      <td>TR200 Packaging Line</td>\n      <td>2021-06-06</td>\n      <td>0.057577</td>\n      <td>-0.106295</td>\n    </tr>\n    <tr>\n      <th>153</th>\n      <td>TR200 Packaging Line</td>\n      <td>2021-06-13</td>\n      <td>0.116895</td>\n      <td>0.059318</td>\n    </tr>\n    <tr>\n      <th>162</th>\n      <td>TR200 Packaging Line</td>\n      <td>2021-06-20</td>\n      <td>0.264205</td>\n      <td>0.147309</td>\n    </tr>\n    <tr>\n      <th>177</th>\n      <td>TR200 Packaging Line</td>\n      <td>2021-06-27</td>\n      <td>0.038517</td>\n      <td>-0.225688</td>\n    </tr>\n    <tr>\n      <th>193</th>\n      <td>TR200 Packaging Line</td>\n      <td>2021-07-04</td>\n      <td>NaN</td>\n      <td>0.000000</td>\n    </tr>\n  </tbody>\n</table>\n</div>"
     },
     "metadata": {},
     "execution_count": 20
    }
   ],
   "source": [
    "Changeover_Diff[Changeover_Diff.Line.str.contains('TR200')]"
   ]
  },
  {
   "cell_type": "code",
   "execution_count": 21,
   "metadata": {},
   "outputs": [],
   "source": [
    "# Changeover_mean = df_weekly.sort_values(by=['Line', 'Date'])[['Line','Date','Changeover','start_changeover']]\n",
    "Changeover_mean = df_weekly.sort_values(by=['Line', 'Date'])[['Line','Date','Changeover']]\n",
    "Changeover_mean['Changeover_rolling_mean'] = Changeover_mean.groupby('Line')['Changeover'].apply(lambda x : x.rolling(4,1).mean())\n",
    "df_weekly = df_weekly.merge(Changeover_mean[[\"Line\",\"Date\",\"Changeover_rolling_mean\"]], on=([\"Line\",\"Date\"]))"
   ]
  },
  {
   "cell_type": "code",
   "execution_count": 22,
   "metadata": {},
   "outputs": [
    {
     "output_type": "execute_result",
     "data": {
      "text/plain": [
       "                     Line       Date  Changeover  Changeover_rolling_mean\n",
       "4    TR200 Packaging Line 2021-04-04    0.075189                 0.075189\n",
       "15   TR200 Packaging Line 2021-04-11    0.366955                 0.221072\n",
       "26   TR200 Packaging Line 2021-04-18    0.130089                 0.190744\n",
       "48   TR200 Packaging Line 2021-04-25    0.036253                 0.152122\n",
       "55   TR200 Packaging Line 2021-05-02    0.158523                 0.172955\n",
       "69   TR200 Packaging Line 2021-05-09    0.143708                 0.117143\n",
       "96   TR200 Packaging Line 2021-05-16    0.144646                 0.120783\n",
       "106  TR200 Packaging Line 2021-05-23    0.196068                 0.160736\n",
       "118  TR200 Packaging Line 2021-05-30    0.163872                 0.162074\n",
       "137  TR200 Packaging Line 2021-06-06    0.057577                 0.140541\n",
       "153  TR200 Packaging Line 2021-06-13    0.116895                 0.133603\n",
       "162  TR200 Packaging Line 2021-06-20    0.264205                 0.150637\n",
       "177  TR200 Packaging Line 2021-06-27    0.038517                 0.119299\n",
       "193  TR200 Packaging Line 2021-07-04         NaN                 0.139872"
      ],
      "text/html": "<div>\n<style scoped>\n    .dataframe tbody tr th:only-of-type {\n        vertical-align: middle;\n    }\n\n    .dataframe tbody tr th {\n        vertical-align: top;\n    }\n\n    .dataframe thead th {\n        text-align: right;\n    }\n</style>\n<table border=\"1\" class=\"dataframe\">\n  <thead>\n    <tr style=\"text-align: right;\">\n      <th></th>\n      <th>Line</th>\n      <th>Date</th>\n      <th>Changeover</th>\n      <th>Changeover_rolling_mean</th>\n    </tr>\n  </thead>\n  <tbody>\n    <tr>\n      <th>4</th>\n      <td>TR200 Packaging Line</td>\n      <td>2021-04-04</td>\n      <td>0.075189</td>\n      <td>0.075189</td>\n    </tr>\n    <tr>\n      <th>15</th>\n      <td>TR200 Packaging Line</td>\n      <td>2021-04-11</td>\n      <td>0.366955</td>\n      <td>0.221072</td>\n    </tr>\n    <tr>\n      <th>26</th>\n      <td>TR200 Packaging Line</td>\n      <td>2021-04-18</td>\n      <td>0.130089</td>\n      <td>0.190744</td>\n    </tr>\n    <tr>\n      <th>48</th>\n      <td>TR200 Packaging Line</td>\n      <td>2021-04-25</td>\n      <td>0.036253</td>\n      <td>0.152122</td>\n    </tr>\n    <tr>\n      <th>55</th>\n      <td>TR200 Packaging Line</td>\n      <td>2021-05-02</td>\n      <td>0.158523</td>\n      <td>0.172955</td>\n    </tr>\n    <tr>\n      <th>69</th>\n      <td>TR200 Packaging Line</td>\n      <td>2021-05-09</td>\n      <td>0.143708</td>\n      <td>0.117143</td>\n    </tr>\n    <tr>\n      <th>96</th>\n      <td>TR200 Packaging Line</td>\n      <td>2021-05-16</td>\n      <td>0.144646</td>\n      <td>0.120783</td>\n    </tr>\n    <tr>\n      <th>106</th>\n      <td>TR200 Packaging Line</td>\n      <td>2021-05-23</td>\n      <td>0.196068</td>\n      <td>0.160736</td>\n    </tr>\n    <tr>\n      <th>118</th>\n      <td>TR200 Packaging Line</td>\n      <td>2021-05-30</td>\n      <td>0.163872</td>\n      <td>0.162074</td>\n    </tr>\n    <tr>\n      <th>137</th>\n      <td>TR200 Packaging Line</td>\n      <td>2021-06-06</td>\n      <td>0.057577</td>\n      <td>0.140541</td>\n    </tr>\n    <tr>\n      <th>153</th>\n      <td>TR200 Packaging Line</td>\n      <td>2021-06-13</td>\n      <td>0.116895</td>\n      <td>0.133603</td>\n    </tr>\n    <tr>\n      <th>162</th>\n      <td>TR200 Packaging Line</td>\n      <td>2021-06-20</td>\n      <td>0.264205</td>\n      <td>0.150637</td>\n    </tr>\n    <tr>\n      <th>177</th>\n      <td>TR200 Packaging Line</td>\n      <td>2021-06-27</td>\n      <td>0.038517</td>\n      <td>0.119299</td>\n    </tr>\n    <tr>\n      <th>193</th>\n      <td>TR200 Packaging Line</td>\n      <td>2021-07-04</td>\n      <td>NaN</td>\n      <td>0.139872</td>\n    </tr>\n  </tbody>\n</table>\n</div>"
     },
     "metadata": {},
     "execution_count": 22
    }
   ],
   "source": [
    "Changeover_mean[Changeover_mean.Line.str.contains('TR200')]"
   ]
  },
  {
   "cell_type": "markdown",
   "metadata": {},
   "source": [
    "#### Populate missing Unplanned Tech Loss\n",
    "\n",
    "- Create weekly min/max cols for Unplanned tech loss from any site   \n",
    "- Merge those columns into df_weekly   \n",
    "- fill any NaN rows with the max Unplanned_tech_loss found for that week   \n",
    "\n",
    "**this might be flawed!!** "
   ]
  },
  {
   "cell_type": "code",
   "execution_count": 23,
   "metadata": {},
   "outputs": [
    {
     "output_type": "execute_result",
     "data": {
      "text/plain": [
       "         Week                  Line     OEE %  WeekOfYear    Year       Date  \\\n",
       "0    W13-2021     C2 Packaging Line  0.458414        13.0  2021.0 2021-04-04   \n",
       "1    W13-2021    L18 Packaging Line  0.465923        13.0  2021.0 2021-04-04   \n",
       "2    W13-2021             IMA C80/2  0.581304        13.0  2021.0 2021-04-04   \n",
       "3    W13-2021                   AL6  0.367897        13.0  2021.0 2021-04-04   \n",
       "4    W13-2021  TR200 Packaging Line  0.596432        13.0  2021.0 2021-04-04   \n",
       "..        ...                   ...       ...         ...     ...        ...   \n",
       "197  W26-2021                GAMMA1  0.491885        26.0  2021.0 2021-07-04   \n",
       "198  W26-2021     C9 Packaging Line  0.406623        26.0  2021.0 2021-07-04   \n",
       "199  W26-2021    L18 Packaging Line  0.411426        26.0  2021.0 2021-07-04   \n",
       "200  W26-2021    L25 Packaging Line  0.381273        26.0  2021.0 2021-07-04   \n",
       "201  W26-2021           M18 Filling  0.000000        26.0  2021.0 2021-07-04   \n",
       "\n",
       "              Plant  OEE  Start point  OEE% Target (2022)  \\\n",
       "0    Maisons-Alfort          0.397503               0.470   \n",
       "1             Tours          0.377683               0.547   \n",
       "2          SCOPPITO          0.451031               0.580   \n",
       "3         Frankfurt          0.332657               0.450   \n",
       "4           Lisieux          0.483505               0.650   \n",
       "..              ...               ...                 ...   \n",
       "197        SCOPPITO          0.418683               0.570   \n",
       "198  Maisons-Alfort          0.528518               0.530   \n",
       "199           Tours          0.377683               0.547   \n",
       "200           Tours          0.351564               0.478   \n",
       "201       Frankfurt          0.443522               0.650   \n",
       "\n",
       "     Unplanned_tech_loss  ...  rolling_std  Best Solution  Best Innovation  \\\n",
       "0               0.465009  ...          NaN            NaN              NaN   \n",
       "1               0.208273  ...          NaN            NaN              NaN   \n",
       "2               0.224561  ...          NaN            NaN              NaN   \n",
       "3               0.342851  ...          NaN            NaN              NaN   \n",
       "4               0.163573  ...          NaN            NaN              NaN   \n",
       "..                   ...  ...          ...            ...              ...   \n",
       "197             0.143339  ...     0.055086            0.0              0.0   \n",
       "198             0.452948  ...     0.081720            0.0              0.0   \n",
       "199             0.185620  ...     0.053623            0.0              0.0   \n",
       "200             0.192098  ...     0.019916            0.0              0.0   \n",
       "201             0.000000  ...     0.320648            0.0              0.0   \n",
       "\n",
       "     Improvement Iterations  Lessons and Sharing  \\\n",
       "0                       NaN                  NaN   \n",
       "1                       NaN                  NaN   \n",
       "2                       NaN                  NaN   \n",
       "3                       NaN                  NaN   \n",
       "4                       NaN                  NaN   \n",
       "..                      ...                  ...   \n",
       "197                     0.0                  0.0   \n",
       "198                     0.0                  0.0   \n",
       "199                     0.0                  0.0   \n",
       "200                     0.0                  0.0   \n",
       "201                     0.0                  0.0   \n",
       "\n",
       "     Team Contribution and Spirit  Review_Date  OEE_Diff  Changeover_Diff  \\\n",
       "0                             NaN   2021-04-15  0.060911         0.000000   \n",
       "1                             NaN   2021-04-15  0.088240         0.000000   \n",
       "2                             NaN   2021-04-15  0.130272         0.000000   \n",
       "3                             NaN   2021-04-15  0.035240         0.000000   \n",
       "4                             NaN   2021-04-15  0.112928         0.000000   \n",
       "..                            ...          ...       ...              ...   \n",
       "197                           0.0   2021-07-08 -0.111172         0.000000   \n",
       "198                           0.0   2021-07-08 -0.082118        -0.057612   \n",
       "199                           0.0   2021-07-08 -0.081630         0.037749   \n",
       "200                           0.0   2021-07-08  0.036620        -0.031079   \n",
       "201                           0.0   2021-07-08 -0.620440         0.958811   \n",
       "\n",
       "     Changeover_rolling_mean  \n",
       "0                   0.044140  \n",
       "1                   0.134271  \n",
       "2                   0.070836  \n",
       "3                   0.184958  \n",
       "4                   0.075189  \n",
       "..                       ...  \n",
       "197                 0.219199  \n",
       "198                 0.064467  \n",
       "199                 0.183051  \n",
       "200                 0.252406  \n",
       "201                 0.279900  \n",
       "\n",
       "[202 rows x 21 columns]"
      ],
      "text/html": "<div>\n<style scoped>\n    .dataframe tbody tr th:only-of-type {\n        vertical-align: middle;\n    }\n\n    .dataframe tbody tr th {\n        vertical-align: top;\n    }\n\n    .dataframe thead th {\n        text-align: right;\n    }\n</style>\n<table border=\"1\" class=\"dataframe\">\n  <thead>\n    <tr style=\"text-align: right;\">\n      <th></th>\n      <th>Week</th>\n      <th>Line</th>\n      <th>OEE %</th>\n      <th>WeekOfYear</th>\n      <th>Year</th>\n      <th>Date</th>\n      <th>Plant</th>\n      <th>OEE  Start point</th>\n      <th>OEE% Target (2022)</th>\n      <th>Unplanned_tech_loss</th>\n      <th>...</th>\n      <th>rolling_std</th>\n      <th>Best Solution</th>\n      <th>Best Innovation</th>\n      <th>Improvement Iterations</th>\n      <th>Lessons and Sharing</th>\n      <th>Team Contribution and Spirit</th>\n      <th>Review_Date</th>\n      <th>OEE_Diff</th>\n      <th>Changeover_Diff</th>\n      <th>Changeover_rolling_mean</th>\n    </tr>\n  </thead>\n  <tbody>\n    <tr>\n      <th>0</th>\n      <td>W13-2021</td>\n      <td>C2 Packaging Line</td>\n      <td>0.458414</td>\n      <td>13.0</td>\n      <td>2021.0</td>\n      <td>2021-04-04</td>\n      <td>Maisons-Alfort</td>\n      <td>0.397503</td>\n      <td>0.470</td>\n      <td>0.465009</td>\n      <td>...</td>\n      <td>NaN</td>\n      <td>NaN</td>\n      <td>NaN</td>\n      <td>NaN</td>\n      <td>NaN</td>\n      <td>NaN</td>\n      <td>2021-04-15</td>\n      <td>0.060911</td>\n      <td>0.000000</td>\n      <td>0.044140</td>\n    </tr>\n    <tr>\n      <th>1</th>\n      <td>W13-2021</td>\n      <td>L18 Packaging Line</td>\n      <td>0.465923</td>\n      <td>13.0</td>\n      <td>2021.0</td>\n      <td>2021-04-04</td>\n      <td>Tours</td>\n      <td>0.377683</td>\n      <td>0.547</td>\n      <td>0.208273</td>\n      <td>...</td>\n      <td>NaN</td>\n      <td>NaN</td>\n      <td>NaN</td>\n      <td>NaN</td>\n      <td>NaN</td>\n      <td>NaN</td>\n      <td>2021-04-15</td>\n      <td>0.088240</td>\n      <td>0.000000</td>\n      <td>0.134271</td>\n    </tr>\n    <tr>\n      <th>2</th>\n      <td>W13-2021</td>\n      <td>IMA C80/2</td>\n      <td>0.581304</td>\n      <td>13.0</td>\n      <td>2021.0</td>\n      <td>2021-04-04</td>\n      <td>SCOPPITO</td>\n      <td>0.451031</td>\n      <td>0.580</td>\n      <td>0.224561</td>\n      <td>...</td>\n      <td>NaN</td>\n      <td>NaN</td>\n      <td>NaN</td>\n      <td>NaN</td>\n      <td>NaN</td>\n      <td>NaN</td>\n      <td>2021-04-15</td>\n      <td>0.130272</td>\n      <td>0.000000</td>\n      <td>0.070836</td>\n    </tr>\n    <tr>\n      <th>3</th>\n      <td>W13-2021</td>\n      <td>AL6</td>\n      <td>0.367897</td>\n      <td>13.0</td>\n      <td>2021.0</td>\n      <td>2021-04-04</td>\n      <td>Frankfurt</td>\n      <td>0.332657</td>\n      <td>0.450</td>\n      <td>0.342851</td>\n      <td>...</td>\n      <td>NaN</td>\n      <td>NaN</td>\n      <td>NaN</td>\n      <td>NaN</td>\n      <td>NaN</td>\n      <td>NaN</td>\n      <td>2021-04-15</td>\n      <td>0.035240</td>\n      <td>0.000000</td>\n      <td>0.184958</td>\n    </tr>\n    <tr>\n      <th>4</th>\n      <td>W13-2021</td>\n      <td>TR200 Packaging Line</td>\n      <td>0.596432</td>\n      <td>13.0</td>\n      <td>2021.0</td>\n      <td>2021-04-04</td>\n      <td>Lisieux</td>\n      <td>0.483505</td>\n      <td>0.650</td>\n      <td>0.163573</td>\n      <td>...</td>\n      <td>NaN</td>\n      <td>NaN</td>\n      <td>NaN</td>\n      <td>NaN</td>\n      <td>NaN</td>\n      <td>NaN</td>\n      <td>2021-04-15</td>\n      <td>0.112928</td>\n      <td>0.000000</td>\n      <td>0.075189</td>\n    </tr>\n    <tr>\n      <th>...</th>\n      <td>...</td>\n      <td>...</td>\n      <td>...</td>\n      <td>...</td>\n      <td>...</td>\n      <td>...</td>\n      <td>...</td>\n      <td>...</td>\n      <td>...</td>\n      <td>...</td>\n      <td>...</td>\n      <td>...</td>\n      <td>...</td>\n      <td>...</td>\n      <td>...</td>\n      <td>...</td>\n      <td>...</td>\n      <td>...</td>\n      <td>...</td>\n      <td>...</td>\n      <td>...</td>\n    </tr>\n    <tr>\n      <th>197</th>\n      <td>W26-2021</td>\n      <td>GAMMA1</td>\n      <td>0.491885</td>\n      <td>26.0</td>\n      <td>2021.0</td>\n      <td>2021-07-04</td>\n      <td>SCOPPITO</td>\n      <td>0.418683</td>\n      <td>0.570</td>\n      <td>0.143339</td>\n      <td>...</td>\n      <td>0.055086</td>\n      <td>0.0</td>\n      <td>0.0</td>\n      <td>0.0</td>\n      <td>0.0</td>\n      <td>0.0</td>\n      <td>2021-07-08</td>\n      <td>-0.111172</td>\n      <td>0.000000</td>\n      <td>0.219199</td>\n    </tr>\n    <tr>\n      <th>198</th>\n      <td>W26-2021</td>\n      <td>C9 Packaging Line</td>\n      <td>0.406623</td>\n      <td>26.0</td>\n      <td>2021.0</td>\n      <td>2021-07-04</td>\n      <td>Maisons-Alfort</td>\n      <td>0.528518</td>\n      <td>0.530</td>\n      <td>0.452948</td>\n      <td>...</td>\n      <td>0.081720</td>\n      <td>0.0</td>\n      <td>0.0</td>\n      <td>0.0</td>\n      <td>0.0</td>\n      <td>0.0</td>\n      <td>2021-07-08</td>\n      <td>-0.082118</td>\n      <td>-0.057612</td>\n      <td>0.064467</td>\n    </tr>\n    <tr>\n      <th>199</th>\n      <td>W26-2021</td>\n      <td>L18 Packaging Line</td>\n      <td>0.411426</td>\n      <td>26.0</td>\n      <td>2021.0</td>\n      <td>2021-07-04</td>\n      <td>Tours</td>\n      <td>0.377683</td>\n      <td>0.547</td>\n      <td>0.185620</td>\n      <td>...</td>\n      <td>0.053623</td>\n      <td>0.0</td>\n      <td>0.0</td>\n      <td>0.0</td>\n      <td>0.0</td>\n      <td>0.0</td>\n      <td>2021-07-08</td>\n      <td>-0.081630</td>\n      <td>0.037749</td>\n      <td>0.183051</td>\n    </tr>\n    <tr>\n      <th>200</th>\n      <td>W26-2021</td>\n      <td>L25 Packaging Line</td>\n      <td>0.381273</td>\n      <td>26.0</td>\n      <td>2021.0</td>\n      <td>2021-07-04</td>\n      <td>Tours</td>\n      <td>0.351564</td>\n      <td>0.478</td>\n      <td>0.192098</td>\n      <td>...</td>\n      <td>0.019916</td>\n      <td>0.0</td>\n      <td>0.0</td>\n      <td>0.0</td>\n      <td>0.0</td>\n      <td>0.0</td>\n      <td>2021-07-08</td>\n      <td>0.036620</td>\n      <td>-0.031079</td>\n      <td>0.252406</td>\n    </tr>\n    <tr>\n      <th>201</th>\n      <td>W26-2021</td>\n      <td>M18 Filling</td>\n      <td>0.000000</td>\n      <td>26.0</td>\n      <td>2021.0</td>\n      <td>2021-07-04</td>\n      <td>Frankfurt</td>\n      <td>0.443522</td>\n      <td>0.650</td>\n      <td>0.000000</td>\n      <td>...</td>\n      <td>0.320648</td>\n      <td>0.0</td>\n      <td>0.0</td>\n      <td>0.0</td>\n      <td>0.0</td>\n      <td>0.0</td>\n      <td>2021-07-08</td>\n      <td>-0.620440</td>\n      <td>0.958811</td>\n      <td>0.279900</td>\n    </tr>\n  </tbody>\n</table>\n<p>202 rows × 21 columns</p>\n</div>"
     },
     "metadata": {},
     "execution_count": 23
    }
   ],
   "source": [
    "df_weekly_minmax = (df_weekly.assign(Data_Value=df_weekly['Unplanned_tech_loss'].abs())\n",
    "       .groupby(pd.Grouper(key='Date',freq='W'))['Unplanned_tech_loss'].agg([('Min' , 'min'), ('Max', 'max')])\n",
    "       .add_prefix('WeekUTL'))\n",
    "df_weekly_minmax.reset_index(inplace=True)\n",
    "df_weekly = df_weekly.merge(df_weekly_minmax[['Date','WeekUTLMin','WeekUTLMax']])\n",
    "df_weekly['Unplanned_tech_loss'].fillna(df_weekly.WeekUTLMax, inplace=True)\n",
    "df_weekly.drop(columns=['WeekUTLMin','WeekUTLMax'], inplace=True)\n",
    "df_weekly"
   ]
  },
  {
   "cell_type": "markdown",
   "metadata": {},
   "source": [
    "#### Populate missing Changeover \n",
    "\n",
    "Now, this doesn't really work!  Sometimes the max value changeover for the week is 100%, and there isn't any correlation in my calc between OEE + Changeover + unplanned outage being < 100% ...\n",
    "\n",
    "...but I don't think we're using/relying on changeover figure for sector calcs here or in tableau.  Going to remove these rows below."
   ]
  },
  {
   "cell_type": "code",
   "execution_count": 24,
   "metadata": {},
   "outputs": [
    {
     "output_type": "execute_result",
     "data": {
      "text/plain": [
       "         Week                  Line     OEE %  WeekOfYear    Year       Date  \\\n",
       "0    W13-2021     C2 Packaging Line  0.458414        13.0  2021.0 2021-04-04   \n",
       "1    W13-2021    L18 Packaging Line  0.465923        13.0  2021.0 2021-04-04   \n",
       "2    W13-2021             IMA C80/2  0.581304        13.0  2021.0 2021-04-04   \n",
       "3    W13-2021                   AL6  0.367897        13.0  2021.0 2021-04-04   \n",
       "4    W13-2021  TR200 Packaging Line  0.596432        13.0  2021.0 2021-04-04   \n",
       "..        ...                   ...       ...         ...     ...        ...   \n",
       "197  W26-2021                GAMMA1  0.491885        26.0  2021.0 2021-07-04   \n",
       "198  W26-2021     C9 Packaging Line  0.406623        26.0  2021.0 2021-07-04   \n",
       "199  W26-2021    L18 Packaging Line  0.411426        26.0  2021.0 2021-07-04   \n",
       "200  W26-2021    L25 Packaging Line  0.381273        26.0  2021.0 2021-07-04   \n",
       "201  W26-2021           M18 Filling  0.000000        26.0  2021.0 2021-07-04   \n",
       "\n",
       "              Plant  OEE  Start point  OEE% Target (2022)  \\\n",
       "0    Maisons-Alfort          0.397503               0.470   \n",
       "1             Tours          0.377683               0.547   \n",
       "2          SCOPPITO          0.451031               0.580   \n",
       "3         Frankfurt          0.332657               0.450   \n",
       "4           Lisieux          0.483505               0.650   \n",
       "..              ...               ...                 ...   \n",
       "197        SCOPPITO          0.418683               0.570   \n",
       "198  Maisons-Alfort          0.528518               0.530   \n",
       "199           Tours          0.377683               0.547   \n",
       "200           Tours          0.351564               0.478   \n",
       "201       Frankfurt          0.443522               0.650   \n",
       "\n",
       "     Unplanned_tech_loss  ...  rolling_std  Best Solution  Best Innovation  \\\n",
       "0               0.465009  ...          NaN            NaN              NaN   \n",
       "1               0.208273  ...          NaN            NaN              NaN   \n",
       "2               0.224561  ...          NaN            NaN              NaN   \n",
       "3               0.342851  ...          NaN            NaN              NaN   \n",
       "4               0.163573  ...          NaN            NaN              NaN   \n",
       "..                   ...  ...          ...            ...              ...   \n",
       "197             0.143339  ...     0.055086            0.0              0.0   \n",
       "198             0.452948  ...     0.081720            0.0              0.0   \n",
       "199             0.185620  ...     0.053623            0.0              0.0   \n",
       "200             0.192098  ...     0.019916            0.0              0.0   \n",
       "201             0.000000  ...     0.320648            0.0              0.0   \n",
       "\n",
       "     Improvement Iterations  Lessons and Sharing  \\\n",
       "0                       NaN                  NaN   \n",
       "1                       NaN                  NaN   \n",
       "2                       NaN                  NaN   \n",
       "3                       NaN                  NaN   \n",
       "4                       NaN                  NaN   \n",
       "..                      ...                  ...   \n",
       "197                     0.0                  0.0   \n",
       "198                     0.0                  0.0   \n",
       "199                     0.0                  0.0   \n",
       "200                     0.0                  0.0   \n",
       "201                     0.0                  0.0   \n",
       "\n",
       "     Team Contribution and Spirit  Review_Date  OEE_Diff  Changeover_Diff  \\\n",
       "0                             NaN   2021-04-15  0.060911         0.000000   \n",
       "1                             NaN   2021-04-15  0.088240         0.000000   \n",
       "2                             NaN   2021-04-15  0.130272         0.000000   \n",
       "3                             NaN   2021-04-15  0.035240         0.000000   \n",
       "4                             NaN   2021-04-15  0.112928         0.000000   \n",
       "..                            ...          ...       ...              ...   \n",
       "197                           0.0   2021-07-08 -0.111172         0.000000   \n",
       "198                           0.0   2021-07-08 -0.082118        -0.057612   \n",
       "199                           0.0   2021-07-08 -0.081630         0.037749   \n",
       "200                           0.0   2021-07-08  0.036620        -0.031079   \n",
       "201                           0.0   2021-07-08 -0.620440         0.958811   \n",
       "\n",
       "     Changeover_rolling_mean  \n",
       "0                   0.044140  \n",
       "1                   0.134271  \n",
       "2                   0.070836  \n",
       "3                   0.184958  \n",
       "4                   0.075189  \n",
       "..                       ...  \n",
       "197                 0.219199  \n",
       "198                 0.064467  \n",
       "199                 0.183051  \n",
       "200                 0.252406  \n",
       "201                 0.279900  \n",
       "\n",
       "[202 rows x 21 columns]"
      ],
      "text/html": "<div>\n<style scoped>\n    .dataframe tbody tr th:only-of-type {\n        vertical-align: middle;\n    }\n\n    .dataframe tbody tr th {\n        vertical-align: top;\n    }\n\n    .dataframe thead th {\n        text-align: right;\n    }\n</style>\n<table border=\"1\" class=\"dataframe\">\n  <thead>\n    <tr style=\"text-align: right;\">\n      <th></th>\n      <th>Week</th>\n      <th>Line</th>\n      <th>OEE %</th>\n      <th>WeekOfYear</th>\n      <th>Year</th>\n      <th>Date</th>\n      <th>Plant</th>\n      <th>OEE  Start point</th>\n      <th>OEE% Target (2022)</th>\n      <th>Unplanned_tech_loss</th>\n      <th>...</th>\n      <th>rolling_std</th>\n      <th>Best Solution</th>\n      <th>Best Innovation</th>\n      <th>Improvement Iterations</th>\n      <th>Lessons and Sharing</th>\n      <th>Team Contribution and Spirit</th>\n      <th>Review_Date</th>\n      <th>OEE_Diff</th>\n      <th>Changeover_Diff</th>\n      <th>Changeover_rolling_mean</th>\n    </tr>\n  </thead>\n  <tbody>\n    <tr>\n      <th>0</th>\n      <td>W13-2021</td>\n      <td>C2 Packaging Line</td>\n      <td>0.458414</td>\n      <td>13.0</td>\n      <td>2021.0</td>\n      <td>2021-04-04</td>\n      <td>Maisons-Alfort</td>\n      <td>0.397503</td>\n      <td>0.470</td>\n      <td>0.465009</td>\n      <td>...</td>\n      <td>NaN</td>\n      <td>NaN</td>\n      <td>NaN</td>\n      <td>NaN</td>\n      <td>NaN</td>\n      <td>NaN</td>\n      <td>2021-04-15</td>\n      <td>0.060911</td>\n      <td>0.000000</td>\n      <td>0.044140</td>\n    </tr>\n    <tr>\n      <th>1</th>\n      <td>W13-2021</td>\n      <td>L18 Packaging Line</td>\n      <td>0.465923</td>\n      <td>13.0</td>\n      <td>2021.0</td>\n      <td>2021-04-04</td>\n      <td>Tours</td>\n      <td>0.377683</td>\n      <td>0.547</td>\n      <td>0.208273</td>\n      <td>...</td>\n      <td>NaN</td>\n      <td>NaN</td>\n      <td>NaN</td>\n      <td>NaN</td>\n      <td>NaN</td>\n      <td>NaN</td>\n      <td>2021-04-15</td>\n      <td>0.088240</td>\n      <td>0.000000</td>\n      <td>0.134271</td>\n    </tr>\n    <tr>\n      <th>2</th>\n      <td>W13-2021</td>\n      <td>IMA C80/2</td>\n      <td>0.581304</td>\n      <td>13.0</td>\n      <td>2021.0</td>\n      <td>2021-04-04</td>\n      <td>SCOPPITO</td>\n      <td>0.451031</td>\n      <td>0.580</td>\n      <td>0.224561</td>\n      <td>...</td>\n      <td>NaN</td>\n      <td>NaN</td>\n      <td>NaN</td>\n      <td>NaN</td>\n      <td>NaN</td>\n      <td>NaN</td>\n      <td>2021-04-15</td>\n      <td>0.130272</td>\n      <td>0.000000</td>\n      <td>0.070836</td>\n    </tr>\n    <tr>\n      <th>3</th>\n      <td>W13-2021</td>\n      <td>AL6</td>\n      <td>0.367897</td>\n      <td>13.0</td>\n      <td>2021.0</td>\n      <td>2021-04-04</td>\n      <td>Frankfurt</td>\n      <td>0.332657</td>\n      <td>0.450</td>\n      <td>0.342851</td>\n      <td>...</td>\n      <td>NaN</td>\n      <td>NaN</td>\n      <td>NaN</td>\n      <td>NaN</td>\n      <td>NaN</td>\n      <td>NaN</td>\n      <td>2021-04-15</td>\n      <td>0.035240</td>\n      <td>0.000000</td>\n      <td>0.184958</td>\n    </tr>\n    <tr>\n      <th>4</th>\n      <td>W13-2021</td>\n      <td>TR200 Packaging Line</td>\n      <td>0.596432</td>\n      <td>13.0</td>\n      <td>2021.0</td>\n      <td>2021-04-04</td>\n      <td>Lisieux</td>\n      <td>0.483505</td>\n      <td>0.650</td>\n      <td>0.163573</td>\n      <td>...</td>\n      <td>NaN</td>\n      <td>NaN</td>\n      <td>NaN</td>\n      <td>NaN</td>\n      <td>NaN</td>\n      <td>NaN</td>\n      <td>2021-04-15</td>\n      <td>0.112928</td>\n      <td>0.000000</td>\n      <td>0.075189</td>\n    </tr>\n    <tr>\n      <th>...</th>\n      <td>...</td>\n      <td>...</td>\n      <td>...</td>\n      <td>...</td>\n      <td>...</td>\n      <td>...</td>\n      <td>...</td>\n      <td>...</td>\n      <td>...</td>\n      <td>...</td>\n      <td>...</td>\n      <td>...</td>\n      <td>...</td>\n      <td>...</td>\n      <td>...</td>\n      <td>...</td>\n      <td>...</td>\n      <td>...</td>\n      <td>...</td>\n      <td>...</td>\n      <td>...</td>\n    </tr>\n    <tr>\n      <th>197</th>\n      <td>W26-2021</td>\n      <td>GAMMA1</td>\n      <td>0.491885</td>\n      <td>26.0</td>\n      <td>2021.0</td>\n      <td>2021-07-04</td>\n      <td>SCOPPITO</td>\n      <td>0.418683</td>\n      <td>0.570</td>\n      <td>0.143339</td>\n      <td>...</td>\n      <td>0.055086</td>\n      <td>0.0</td>\n      <td>0.0</td>\n      <td>0.0</td>\n      <td>0.0</td>\n      <td>0.0</td>\n      <td>2021-07-08</td>\n      <td>-0.111172</td>\n      <td>0.000000</td>\n      <td>0.219199</td>\n    </tr>\n    <tr>\n      <th>198</th>\n      <td>W26-2021</td>\n      <td>C9 Packaging Line</td>\n      <td>0.406623</td>\n      <td>26.0</td>\n      <td>2021.0</td>\n      <td>2021-07-04</td>\n      <td>Maisons-Alfort</td>\n      <td>0.528518</td>\n      <td>0.530</td>\n      <td>0.452948</td>\n      <td>...</td>\n      <td>0.081720</td>\n      <td>0.0</td>\n      <td>0.0</td>\n      <td>0.0</td>\n      <td>0.0</td>\n      <td>0.0</td>\n      <td>2021-07-08</td>\n      <td>-0.082118</td>\n      <td>-0.057612</td>\n      <td>0.064467</td>\n    </tr>\n    <tr>\n      <th>199</th>\n      <td>W26-2021</td>\n      <td>L18 Packaging Line</td>\n      <td>0.411426</td>\n      <td>26.0</td>\n      <td>2021.0</td>\n      <td>2021-07-04</td>\n      <td>Tours</td>\n      <td>0.377683</td>\n      <td>0.547</td>\n      <td>0.185620</td>\n      <td>...</td>\n      <td>0.053623</td>\n      <td>0.0</td>\n      <td>0.0</td>\n      <td>0.0</td>\n      <td>0.0</td>\n      <td>0.0</td>\n      <td>2021-07-08</td>\n      <td>-0.081630</td>\n      <td>0.037749</td>\n      <td>0.183051</td>\n    </tr>\n    <tr>\n      <th>200</th>\n      <td>W26-2021</td>\n      <td>L25 Packaging Line</td>\n      <td>0.381273</td>\n      <td>26.0</td>\n      <td>2021.0</td>\n      <td>2021-07-04</td>\n      <td>Tours</td>\n      <td>0.351564</td>\n      <td>0.478</td>\n      <td>0.192098</td>\n      <td>...</td>\n      <td>0.019916</td>\n      <td>0.0</td>\n      <td>0.0</td>\n      <td>0.0</td>\n      <td>0.0</td>\n      <td>0.0</td>\n      <td>2021-07-08</td>\n      <td>0.036620</td>\n      <td>-0.031079</td>\n      <td>0.252406</td>\n    </tr>\n    <tr>\n      <th>201</th>\n      <td>W26-2021</td>\n      <td>M18 Filling</td>\n      <td>0.000000</td>\n      <td>26.0</td>\n      <td>2021.0</td>\n      <td>2021-07-04</td>\n      <td>Frankfurt</td>\n      <td>0.443522</td>\n      <td>0.650</td>\n      <td>0.000000</td>\n      <td>...</td>\n      <td>0.320648</td>\n      <td>0.0</td>\n      <td>0.0</td>\n      <td>0.0</td>\n      <td>0.0</td>\n      <td>0.0</td>\n      <td>2021-07-08</td>\n      <td>-0.620440</td>\n      <td>0.958811</td>\n      <td>0.279900</td>\n    </tr>\n  </tbody>\n</table>\n<p>202 rows × 21 columns</p>\n</div>"
     },
     "metadata": {},
     "execution_count": 24
    }
   ],
   "source": [
    "df_weekly_minmax = (df_weekly.assign(Data_Value=df_weekly['Changeover'].abs())\n",
    "       .groupby(pd.Grouper(key='Date',freq='W'))['Changeover'].agg([('Min' , 'min'), ('Max', 'max')])\n",
    "       .add_prefix('WeekChangeover'))\n",
    "df_weekly_minmax.reset_index(inplace=True)\n",
    "df_weekly = df_weekly.merge(df_weekly_minmax[['Date','WeekChangeoverMin','WeekChangeoverMax']])\n",
    "df_weekly['Changeover'].fillna(df_weekly.WeekChangeoverMax, inplace=True)\n",
    "df_weekly.drop(columns=['WeekChangeoverMin','WeekChangeoverMax'], inplace=True)\n",
    "df_weekly"
   ]
  },
  {
   "cell_type": "markdown",
   "metadata": {},
   "source": [
    "#### Populate missing start_changeover (NaN)\n",
    "If we've got this far and you still don't have a start_changeover, then you're a new site and can have this week's Changeover value"
   ]
  },
  {
   "cell_type": "markdown",
   "metadata": {},
   "source": [
    "These rows still have NaN Changeover values"
   ]
  },
  {
   "cell_type": "code",
   "execution_count": 25,
   "metadata": {},
   "outputs": [
    {
     "output_type": "execute_result",
     "data": {
      "text/plain": [
       "Empty DataFrame\n",
       "Columns: [Line, Date, Changeover]\n",
       "Index: []"
      ],
      "text/html": "<div>\n<style scoped>\n    .dataframe tbody tr th:only-of-type {\n        vertical-align: middle;\n    }\n\n    .dataframe tbody tr th {\n        vertical-align: top;\n    }\n\n    .dataframe thead th {\n        text-align: right;\n    }\n</style>\n<table border=\"1\" class=\"dataframe\">\n  <thead>\n    <tr style=\"text-align: right;\">\n      <th></th>\n      <th>Line</th>\n      <th>Date</th>\n      <th>Changeover</th>\n    </tr>\n  </thead>\n  <tbody>\n  </tbody>\n</table>\n</div>"
     },
     "metadata": {},
     "execution_count": 25
    }
   ],
   "source": [
    "df_weekly[['Line','Date','Changeover']][df_weekly['Changeover'].isna()]"
   ]
  },
  {
   "cell_type": "code",
   "execution_count": 26,
   "metadata": {},
   "outputs": [],
   "source": [
    "# df_weekly.start_changeover.fillna(df_weekly.Changeover, inplace=True)\n",
    "df_weekly['OEE  Start point'].fillna(df_weekly['OEE %'], inplace=True)\n",
    "df_weekly['OEE% Target (2022)'].fillna(0.65, inplace=True)"
   ]
  },
  {
   "source": [
    "### Calculating Sector times\n",
    "\n",
    "\n",
    "The lap time is a sum of the calculated sector scores + the pole position time from the F1 race data (eg for Paul Ricard it was 88 secs):\n",
    "\n",
    "\n",
    "\n",
    "Sector [1-4] calculations   \n",
    "**sector 1**\n",
    "How much has your OEE increased / decreased?  Sum difference between each week and multiply total by -1.  This provides a negative figure to subtract from your laptime, so that larger OEE increase is rewarded with a bigger reduction in laptime\n",
    "\n",
    "df_weekly['sector_1'] = df_weekly['OEE_Diff'].mul(-1)\n",
    "\n",
    "OEE_Diff calculation\n",
    "- Sort values by Line and Date\n",
    "- Find the difference between each weekly OEE figure\n",
    "- ~~Fill NaN values from missing OEE figures with the weekly OEE minus OEE Start Point for that site~~   \n",
    "- any missing OEE figures will already be populated with previous week's value or the start OEE value\n",
    "\n",
    "\n",
    "**Sector 2** \n",
    "How big was your rolling std deviation this period, over the previous 4 weeks std dev?  \n",
    "\n",
    "df_weekly['sector_2'] = df_weekly['rolling_std']\n",
    "\n",
    "rolling_std = rolling std deviation for past 4 weeks for each site\n",
    "\n",
    "\n",
    " \n",
    "**Sector 3**\n",
    "We want to reduce Unplanned tech loss (recorded as % of OEE) Unplanned tech loss is calculated within QlikSense but missing values sometimes.  Fill the missing values and then display the average Unplanned tech loss :\n",
    "\n",
    "df_weekly['sector_3'] = df_weekly['Unplanned_tech_loss']\n",
    "\n",
    "\n",
    "Populate missing unplanned tech loss:\n",
    "- Create weekly min/max cols for Unplanned tech loss from any site\n",
    "- Merge those columns into df_weekly\n",
    "- fill any NaN unplanned tech loss rows with the max OEE calc'd for that week (bigger is worse)\n",
    "\n",
    " \n",
    "**Sector 4**\n",
    "We're trying to reduce changeover time (recorded as % of OEE).  \n",
    "Start changeover value isn't provided, so calc our own start point for each Line using the average changeover in 2021 up to 30 April, 2021.\n",
    "   \n",
    "start_changeover_calc = df_weekly[['Plant','Line','Changeover']][df_weekly['Date'] < '2021-04-30'].groupby(['Plant','Line']).mean().reset_index()\n",
    "start_changeover_calc.rename(columns={'Changeover':'start_changeover'}, inplace=True)\n",
    "df_weekly = df_weekly.merge(start_changeover_calc[['Line','start_changeover']])\n",
    "\n",
    "\n",
    "\n",
    "df_weekly['sector_4'] = df_weekly['Changeover_rolling_mean']\n",
    "\n",
    "Changeover_mean = df_weekly.sort_values(by=['Line', 'Date'])[['Line', 'Date', 'Changeover', 'start_changeover']]   \n",
    "Changeover_mean['Changeover_rolling_mean'] = Changeover_mean.groupby('Line')['Changeover'].apply(lambda x : x.rolling(4,1).mean())\n",
    "df_weekly = df_weekly.merge(Changeover_mean[[\"Line\",\"Date\",\"Changeover_rolling_mean\"]], on=([\"Line\",\"Date\"]))\n",
    "\n",
    "\n",
    "\n",
    "**Clean the sectors of NaN before summing them**   \n",
    "Sometimes, when we haven't got enough information for pct_change calcs, we were getting no values coming through for the lap_time.  We should make sure there is a value in each of the sectors, otherwise there is an unfair advantage by not having data available.  Find all NaN values and replace with the mean for that column(sector)\n",
    "\n",
    "**Sectors 5 - 9**   \n",
    "These scores are taken from the Nomination process.  Read in the Nomination s/s, merge any values we find with df_weekly, replace all NaN (missing) values with 0, and reduce the scores we find to 10% of their original value.  This value is then subtracted from the lap_time - so the better you do in the nominations the more your lap_time gets reduced by.\n",
    "\n",
    " \n",
    "**lap_time**   \n",
    "df_weekly['lap_time'] = df_weekly[['sector_1','sector_2','sector_3','sector_4','sector_5','sector_6','sector_7','sector_8','sector_9']].sum(axis=1)"
   ],
   "cell_type": "markdown",
   "metadata": {}
  },
  {
   "cell_type": "code",
   "execution_count": 27,
   "metadata": {},
   "outputs": [
    {
     "output_type": "execute_result",
     "data": {
      "text/plain": [
       "Line                  Date      \n",
       "AL5 Packaging 1       2021-04-04    0.708660\n",
       "                      2021-04-11    0.540053\n",
       "                      2021-04-18    0.449241\n",
       "                      2021-04-25    0.134643\n",
       "                      2021-05-02    0.593747\n",
       "                                      ...   \n",
       "TR200 Packaging Line  2021-06-06    0.162536\n",
       "                      2021-06-13    0.704221\n",
       "                      2021-06-20    0.635328\n",
       "                      2021-06-27    0.297245\n",
       "                      2021-07-04    0.892840\n",
       "Name: lap_time, Length: 202, dtype: float64"
      ]
     },
     "metadata": {},
     "execution_count": 27
    }
   ],
   "source": [
    "# df_weekly['sector_1'] = (df_weekly['WeekMax'] - df_weekly['OEE %'])\n",
    "# df_weekly['sector_1'] = (df_weekly['OEE  Start point'] - df_weekly['OEE %'])\n",
    "df_weekly['sector_1'] = df_weekly['OEE_Diff'].mul(-1)\n",
    "df_weekly['sector_2'] = df_weekly['rolling_std']\n",
    "df_weekly['sector_3'] = df_weekly['Unplanned_tech_loss']\n",
    "# df_weekly['sector_4'] = (df_weekly['start_changeover'] - df_weekly['Changeover'])\n",
    "# df_weekly['sector_4'] = (df_weekly['Changeover'] - df_weekly['start_changeover'])\n",
    "df_weekly['sector_4'] = df_weekly['Changeover_rolling_mean']\n",
    "# take 10% of the sector5-9 scores \n",
    "df_weekly[['sector_5','sector_6','sector_7','sector_8','sector_9']] = df_weekly[['Best Solution','Best Innovation','Improvement Iterations','Lessons and Sharing','Team Contribution and Spirit']] * -0.1\n",
    "df_weekly[['sector_5','sector_6','sector_7','sector_8','sector_9']] = df_weekly[['sector_5','sector_6','sector_7','sector_8','sector_9']].fillna(0)\n",
    "\n",
    "# we'll use these in the absence of values for a sector\n",
    "df_weekly[['sector_1','sector_2','sector_3','sector_4']] = df_weekly[['sector_1','sector_2','sector_3','sector_4']].fillna(df_weekly[['sector_1','sector_2','sector_3','sector_4']].mean())\n",
    "\n",
    "#this will sum and handle the NaN\n",
    "df_weekly['lap_time'] = df_weekly[['sector_1','sector_2','sector_3','sector_4','sector_5','sector_6','sector_7','sector_8','sector_9']].sum(axis=1)\n",
    "\n",
    "# now add the pole['Laptime'] from fastf1 to the lap_time adjustment we've created\n",
    "# just use 88 secs rather than playing with timedeltas for now\n",
    "# df_weekly['lap_time'] = pole['LapTime'] + pd.to_timedelta(df_weekly['lap_time'], unit='S')\n",
    "# df_weekly['lap_time'] = 88 + df_weekly['lap_time']\n",
    "df_weekly.groupby(['Line', pd.Grouper(key='Date', freq='W')])['lap_time'].sum()\n",
    "# print (df_weekly['sector_1_time'] , df_weekly['sector_2_time'] , df_weekly['sector_3_time'], df_weekly['sector_4_time'])"
   ]
  },
  {
   "cell_type": "markdown",
   "metadata": {},
   "source": [
    "#### Write out df_weekly to excel"
   ]
  },
  {
   "cell_type": "code",
   "execution_count": 28,
   "metadata": {},
   "outputs": [],
   "source": [
    "df_weekly.to_excel(output_dir + \"df_weekly_with_calcs.xlsx\")"
   ]
  },
  {
   "cell_type": "markdown",
   "metadata": {},
   "source": [
    "#### Monthly Calcs\n",
    "\n",
    "Repeat the process for a df_monthly spreadsheet.  We will use this for calculating the Leader board  \n",
    "group df_weekly by review_date so we can get the right data for each review meeting"
   ]
  },
  {
   "cell_type": "code",
   "execution_count": 29,
   "metadata": {
    "scrolled": true
   },
   "outputs": [
    {
     "output_type": "execute_result",
     "data": {
      "text/plain": [
       "        Date               Line   lap_time\n",
       "0 2021-04-15    AL5 Packaging 1  89.248712\n",
       "1 2021-04-15                AL6  89.137846\n",
       "2 2021-04-15  C2 Packaging Line  88.952682\n",
       "3 2021-04-15  C9 Packaging Line  89.021271\n",
       "4 2021-04-15             GAMMA1  89.153563"
      ],
      "text/html": "<div>\n<style scoped>\n    .dataframe tbody tr th:only-of-type {\n        vertical-align: middle;\n    }\n\n    .dataframe tbody tr th {\n        vertical-align: top;\n    }\n\n    .dataframe thead th {\n        text-align: right;\n    }\n</style>\n<table border=\"1\" class=\"dataframe\">\n  <thead>\n    <tr style=\"text-align: right;\">\n      <th></th>\n      <th>Date</th>\n      <th>Line</th>\n      <th>lap_time</th>\n    </tr>\n  </thead>\n  <tbody>\n    <tr>\n      <th>0</th>\n      <td>2021-04-15</td>\n      <td>AL5 Packaging 1</td>\n      <td>89.248712</td>\n    </tr>\n    <tr>\n      <th>1</th>\n      <td>2021-04-15</td>\n      <td>AL6</td>\n      <td>89.137846</td>\n    </tr>\n    <tr>\n      <th>2</th>\n      <td>2021-04-15</td>\n      <td>C2 Packaging Line</td>\n      <td>88.952682</td>\n    </tr>\n    <tr>\n      <th>3</th>\n      <td>2021-04-15</td>\n      <td>C9 Packaging Line</td>\n      <td>89.021271</td>\n    </tr>\n    <tr>\n      <th>4</th>\n      <td>2021-04-15</td>\n      <td>GAMMA1</td>\n      <td>89.153563</td>\n    </tr>\n  </tbody>\n</table>\n</div>"
     },
     "metadata": {},
     "execution_count": 29
    }
   ],
   "source": [
    "# df_monthly = df_weekly.groupby([pd.Grouper(key='Date',freq='M'),'Line'])[['start_changeover','OEE  Start point','OEE %','Unplanned_tech_loss','Changeover','rolling_std','techloss_pct_chg','Changeover_pct_chg']].mean().reset_index()\n",
    "# df_monthly = df_weekly.groupby([pd.Grouper(key='Date',freq='M'),'Line']).lap_time.sum().reset_index()\n",
    "df_monthly = df_weekly.groupby(['Review_Date','Line']).lap_time.sum().reset_index()\n",
    "# change the name of review_date to save renaming all references to Date later\n",
    "df_monthly = df_monthly.rename(columns={'Review_Date':'Date'})\n",
    "df_monthly['lap_time'] = df_monthly['lap_time'] + 88\n",
    "df_monthly.head()"
   ]
  },
  {
   "cell_type": "markdown",
   "metadata": {},
   "source": [
    "### Leader board table"
   ]
  },
  {
   "cell_type": "code",
   "execution_count": 30,
   "metadata": {},
   "outputs": [
    {
     "output_type": "execute_result",
     "data": {
      "text/plain": [
       "                      Line  2021-04-15 00:00:00  2021-05-13 00:00:00  \\\n",
       "0                   GAMMA1            89.153563            69.325767   \n",
       "1                IMA C80/2            88.910252            69.256522   \n",
       "2       L18 Packaging Line            88.847299            74.226704   \n",
       "3       L25 Packaging Line            88.849775            74.908842   \n",
       "4              M22 Filling            88.953983            81.806345   \n",
       "5              M21 Filling            89.248712            83.742378   \n",
       "6              M18 Filling            89.960465            82.596174   \n",
       "7                      AL6            89.137846            90.323044   \n",
       "8     SUPPO Packaging Line            88.585379            89.604811   \n",
       "9   LINE 01 - UHLMANN 1880            89.960465            88.525497   \n",
       "10    TR200 Packaging Line            88.710407            89.591164   \n",
       "11          MEDISEAL PURAN            89.960465            89.019996   \n",
       "12         AL5 Packaging 1            89.248712            89.725754   \n",
       "13       C9 Packaging Line            89.021271            89.747841   \n",
       "14       C2 Packaging Line            88.952682            90.451874   \n",
       "\n",
       "    2021-06-10 00:00:00  2021-07-08 00:00:00   race_time  prev_race_time  \\\n",
       "0             68.226756            89.979194  316.685280      226.706086   \n",
       "1             75.232693            89.674113  323.073580      233.399467   \n",
       "2             89.407996            89.425327  341.907326      252.481999   \n",
       "3             90.011979            89.862601  343.633196      253.770595   \n",
       "4             84.857670            89.522488  345.140486      255.617998   \n",
       "5             84.767181            89.760825  347.519096      257.758271   \n",
       "6             85.446232            90.979137  348.982009      258.002872   \n",
       "7             84.205598            89.902144  353.568632      263.666488   \n",
       "8             89.904755            89.318502  357.413446      268.094944   \n",
       "9             89.636847            89.547483  357.670293      268.122809   \n",
       "10            89.381941            90.529634  358.213147      267.683513   \n",
       "11            89.838256            89.971539  358.790255      268.818717   \n",
       "12            90.495004            89.559946  359.029416      269.469470   \n",
       "13            90.361488            90.130804  359.261404      269.130601   \n",
       "14            90.261138            90.622942  360.288637      269.665695   \n",
       "\n",
       "             Plant  position  gap_to_leader  prev_position  Gain/Loss  \\\n",
       "0         SCOPPITO         1       0.000000              1          0   \n",
       "1         SCOPPITO         2       6.388299              2          0   \n",
       "2            Tours         3      25.222045              3          0   \n",
       "3            Tours         4      26.947916              4          0   \n",
       "4        Frankfurt         5      28.455206              5          0   \n",
       "5        Frankfurt         6      30.833816              6          0   \n",
       "6        Frankfurt         7      32.296728              7          0   \n",
       "7        Frankfurt         8      36.883352              8          0   \n",
       "8          Lisieux         9      40.728166             10          1   \n",
       "9           SUZANO        10      40.985013             11          1   \n",
       "10         Lisieux        11      41.527866              9         -2   \n",
       "11          SUZANO        12      42.104975             12          0   \n",
       "12       Frankfurt        13      42.344136             14          1   \n",
       "13  Maisons-Alfort        14      42.576124             13         -1   \n",
       "14  Maisons-Alfort        15      43.603356             15          0   \n",
       "\n",
       "     interval  OEE  Start point  ⇗ OEE% progress  OEE% Target (2022)  \n",
       "0         NaN          0.418683         0.085148               0.570  \n",
       "1    6.388299          0.451031         0.043365               0.580  \n",
       "2   18.833746          0.377683         0.086173               0.547  \n",
       "3    1.725871          0.351564         0.001613               0.478  \n",
       "4    1.507290          0.530068         0.120280               0.650  \n",
       "5    2.378610          0.599671         0.022006               0.650  \n",
       "6    1.462913          0.443522        -0.010057               0.650  \n",
       "7    4.586623          0.332657         0.078541               0.450  \n",
       "8    3.844814          0.353021        -0.010676               0.530  \n",
       "9    0.256846          0.427854         0.015085               0.650  \n",
       "10   0.542854          0.483505         0.120926               0.650  \n",
       "11   0.577109          0.592206        -0.025165               0.650  \n",
       "12   0.239161          0.479693        -0.187473               0.500  \n",
       "13   0.231988          0.528518        -0.019492               0.530  \n",
       "14   1.027232          0.397503         0.012193               0.470  "
      ],
      "text/html": "<div>\n<style scoped>\n    .dataframe tbody tr th:only-of-type {\n        vertical-align: middle;\n    }\n\n    .dataframe tbody tr th {\n        vertical-align: top;\n    }\n\n    .dataframe thead th {\n        text-align: right;\n    }\n</style>\n<table border=\"1\" class=\"dataframe\">\n  <thead>\n    <tr style=\"text-align: right;\">\n      <th></th>\n      <th>Line</th>\n      <th>2021-04-15 00:00:00</th>\n      <th>2021-05-13 00:00:00</th>\n      <th>2021-06-10 00:00:00</th>\n      <th>2021-07-08 00:00:00</th>\n      <th>race_time</th>\n      <th>prev_race_time</th>\n      <th>Plant</th>\n      <th>position</th>\n      <th>gap_to_leader</th>\n      <th>prev_position</th>\n      <th>Gain/Loss</th>\n      <th>interval</th>\n      <th>OEE  Start point</th>\n      <th>⇗ OEE% progress</th>\n      <th>OEE% Target (2022)</th>\n    </tr>\n  </thead>\n  <tbody>\n    <tr>\n      <th>0</th>\n      <td>GAMMA1</td>\n      <td>89.153563</td>\n      <td>69.325767</td>\n      <td>68.226756</td>\n      <td>89.979194</td>\n      <td>316.685280</td>\n      <td>226.706086</td>\n      <td>SCOPPITO</td>\n      <td>1</td>\n      <td>0.000000</td>\n      <td>1</td>\n      <td>0</td>\n      <td>NaN</td>\n      <td>0.418683</td>\n      <td>0.085148</td>\n      <td>0.570</td>\n    </tr>\n    <tr>\n      <th>1</th>\n      <td>IMA C80/2</td>\n      <td>88.910252</td>\n      <td>69.256522</td>\n      <td>75.232693</td>\n      <td>89.674113</td>\n      <td>323.073580</td>\n      <td>233.399467</td>\n      <td>SCOPPITO</td>\n      <td>2</td>\n      <td>6.388299</td>\n      <td>2</td>\n      <td>0</td>\n      <td>6.388299</td>\n      <td>0.451031</td>\n      <td>0.043365</td>\n      <td>0.580</td>\n    </tr>\n    <tr>\n      <th>2</th>\n      <td>L18 Packaging Line</td>\n      <td>88.847299</td>\n      <td>74.226704</td>\n      <td>89.407996</td>\n      <td>89.425327</td>\n      <td>341.907326</td>\n      <td>252.481999</td>\n      <td>Tours</td>\n      <td>3</td>\n      <td>25.222045</td>\n      <td>3</td>\n      <td>0</td>\n      <td>18.833746</td>\n      <td>0.377683</td>\n      <td>0.086173</td>\n      <td>0.547</td>\n    </tr>\n    <tr>\n      <th>3</th>\n      <td>L25 Packaging Line</td>\n      <td>88.849775</td>\n      <td>74.908842</td>\n      <td>90.011979</td>\n      <td>89.862601</td>\n      <td>343.633196</td>\n      <td>253.770595</td>\n      <td>Tours</td>\n      <td>4</td>\n      <td>26.947916</td>\n      <td>4</td>\n      <td>0</td>\n      <td>1.725871</td>\n      <td>0.351564</td>\n      <td>0.001613</td>\n      <td>0.478</td>\n    </tr>\n    <tr>\n      <th>4</th>\n      <td>M22 Filling</td>\n      <td>88.953983</td>\n      <td>81.806345</td>\n      <td>84.857670</td>\n      <td>89.522488</td>\n      <td>345.140486</td>\n      <td>255.617998</td>\n      <td>Frankfurt</td>\n      <td>5</td>\n      <td>28.455206</td>\n      <td>5</td>\n      <td>0</td>\n      <td>1.507290</td>\n      <td>0.530068</td>\n      <td>0.120280</td>\n      <td>0.650</td>\n    </tr>\n    <tr>\n      <th>5</th>\n      <td>M21 Filling</td>\n      <td>89.248712</td>\n      <td>83.742378</td>\n      <td>84.767181</td>\n      <td>89.760825</td>\n      <td>347.519096</td>\n      <td>257.758271</td>\n      <td>Frankfurt</td>\n      <td>6</td>\n      <td>30.833816</td>\n      <td>6</td>\n      <td>0</td>\n      <td>2.378610</td>\n      <td>0.599671</td>\n      <td>0.022006</td>\n      <td>0.650</td>\n    </tr>\n    <tr>\n      <th>6</th>\n      <td>M18 Filling</td>\n      <td>89.960465</td>\n      <td>82.596174</td>\n      <td>85.446232</td>\n      <td>90.979137</td>\n      <td>348.982009</td>\n      <td>258.002872</td>\n      <td>Frankfurt</td>\n      <td>7</td>\n      <td>32.296728</td>\n      <td>7</td>\n      <td>0</td>\n      <td>1.462913</td>\n      <td>0.443522</td>\n      <td>-0.010057</td>\n      <td>0.650</td>\n    </tr>\n    <tr>\n      <th>7</th>\n      <td>AL6</td>\n      <td>89.137846</td>\n      <td>90.323044</td>\n      <td>84.205598</td>\n      <td>89.902144</td>\n      <td>353.568632</td>\n      <td>263.666488</td>\n      <td>Frankfurt</td>\n      <td>8</td>\n      <td>36.883352</td>\n      <td>8</td>\n      <td>0</td>\n      <td>4.586623</td>\n      <td>0.332657</td>\n      <td>0.078541</td>\n      <td>0.450</td>\n    </tr>\n    <tr>\n      <th>8</th>\n      <td>SUPPO Packaging Line</td>\n      <td>88.585379</td>\n      <td>89.604811</td>\n      <td>89.904755</td>\n      <td>89.318502</td>\n      <td>357.413446</td>\n      <td>268.094944</td>\n      <td>Lisieux</td>\n      <td>9</td>\n      <td>40.728166</td>\n      <td>10</td>\n      <td>1</td>\n      <td>3.844814</td>\n      <td>0.353021</td>\n      <td>-0.010676</td>\n      <td>0.530</td>\n    </tr>\n    <tr>\n      <th>9</th>\n      <td>LINE 01 - UHLMANN 1880</td>\n      <td>89.960465</td>\n      <td>88.525497</td>\n      <td>89.636847</td>\n      <td>89.547483</td>\n      <td>357.670293</td>\n      <td>268.122809</td>\n      <td>SUZANO</td>\n      <td>10</td>\n      <td>40.985013</td>\n      <td>11</td>\n      <td>1</td>\n      <td>0.256846</td>\n      <td>0.427854</td>\n      <td>0.015085</td>\n      <td>0.650</td>\n    </tr>\n    <tr>\n      <th>10</th>\n      <td>TR200 Packaging Line</td>\n      <td>88.710407</td>\n      <td>89.591164</td>\n      <td>89.381941</td>\n      <td>90.529634</td>\n      <td>358.213147</td>\n      <td>267.683513</td>\n      <td>Lisieux</td>\n      <td>11</td>\n      <td>41.527866</td>\n      <td>9</td>\n      <td>-2</td>\n      <td>0.542854</td>\n      <td>0.483505</td>\n      <td>0.120926</td>\n      <td>0.650</td>\n    </tr>\n    <tr>\n      <th>11</th>\n      <td>MEDISEAL PURAN</td>\n      <td>89.960465</td>\n      <td>89.019996</td>\n      <td>89.838256</td>\n      <td>89.971539</td>\n      <td>358.790255</td>\n      <td>268.818717</td>\n      <td>SUZANO</td>\n      <td>12</td>\n      <td>42.104975</td>\n      <td>12</td>\n      <td>0</td>\n      <td>0.577109</td>\n      <td>0.592206</td>\n      <td>-0.025165</td>\n      <td>0.650</td>\n    </tr>\n    <tr>\n      <th>12</th>\n      <td>AL5 Packaging 1</td>\n      <td>89.248712</td>\n      <td>89.725754</td>\n      <td>90.495004</td>\n      <td>89.559946</td>\n      <td>359.029416</td>\n      <td>269.469470</td>\n      <td>Frankfurt</td>\n      <td>13</td>\n      <td>42.344136</td>\n      <td>14</td>\n      <td>1</td>\n      <td>0.239161</td>\n      <td>0.479693</td>\n      <td>-0.187473</td>\n      <td>0.500</td>\n    </tr>\n    <tr>\n      <th>13</th>\n      <td>C9 Packaging Line</td>\n      <td>89.021271</td>\n      <td>89.747841</td>\n      <td>90.361488</td>\n      <td>90.130804</td>\n      <td>359.261404</td>\n      <td>269.130601</td>\n      <td>Maisons-Alfort</td>\n      <td>14</td>\n      <td>42.576124</td>\n      <td>13</td>\n      <td>-1</td>\n      <td>0.231988</td>\n      <td>0.528518</td>\n      <td>-0.019492</td>\n      <td>0.530</td>\n    </tr>\n    <tr>\n      <th>14</th>\n      <td>C2 Packaging Line</td>\n      <td>88.952682</td>\n      <td>90.451874</td>\n      <td>90.261138</td>\n      <td>90.622942</td>\n      <td>360.288637</td>\n      <td>269.665695</td>\n      <td>Maisons-Alfort</td>\n      <td>15</td>\n      <td>43.603356</td>\n      <td>15</td>\n      <td>0</td>\n      <td>1.027232</td>\n      <td>0.397503</td>\n      <td>0.012193</td>\n      <td>0.470</td>\n    </tr>\n  </tbody>\n</table>\n</div>"
     },
     "metadata": {},
     "execution_count": 30
    }
   ],
   "source": [
    "# filter using the end_date to stop picking up future dated nomination rows of zero I created when joining the s/s\n",
    "# pivot = df_monthly[df_monthly['Date'] < end_date].pivot(index='Line', columns='Date', values='lap_time')\n",
    "pivot = df_monthly.pivot(index='Line', columns='Date', values='lap_time')\n",
    "pivot.reset_index(inplace=True)\n",
    "# pivot creates NaN for rows with no monthly data for each race review data\n",
    "# populate each NaN value with the max for that column - so they get the max laptime for that race\n",
    "# we can search for cols [1:] and find all cols after Date and Line\n",
    "pivot.iloc[:,1:] = pivot.iloc[:,1:].fillna(pivot.iloc[:,1:].max())\n",
    "\n",
    "# sum all the columns to get a race_time\n",
    "pivot['race_time'] = pivot.sum(axis=1)\n",
    "# sum all but the last 2 cols (this lap and the race_time) to calc prev_race_time\n",
    "\n",
    "# pivot['prev_race_time'] = pivot[pivot.columns[2]] + pivot[pivot.columns[3]]\n",
    "pivot['prev_race_time'] = pivot.iloc[:,1:-2].sum(axis=1)\n",
    "\n",
    "pivot = pivot.merge(df_dash[['Plant','Line']], on='Line')\n",
    "pivot.sort_values('race_time', inplace=True)\n",
    "pivot['position'] = np.arange(1,len(pivot) + 1)\n",
    "pivot['gap_to_leader'] = pivot['race_time'] - pivot['race_time'].iloc[0]\n",
    "pivot.sort_values('prev_race_time', inplace=True)\n",
    "pivot['prev_position'] = np.arange(1,len(pivot) + 1)\n",
    "pivot['Gain/Loss'] = pivot.prev_position - pivot.position\n",
    "pivot.sort_values('race_time', inplace=True)\n",
    "pivot['interval'] = pivot.race_time.diff()\n",
    "pivot = pivot.merge(df_dash[['Line','OEE  Start point', '⇗ OEE% progress', 'OEE% Target (2022)']], on='Line')\n",
    "pivot"
   ]
  },
  {
   "cell_type": "markdown",
   "metadata": {},
   "source": [
    "#### write this out for tableau"
   ]
  },
  {
   "cell_type": "code",
   "execution_count": 31,
   "metadata": {},
   "outputs": [],
   "source": [
    "pivot.to_csv(output_dir + \"leaderboard.csv\")\n",
    "pivot.to_excel(output_dir + \"leaderboard.xlsx\")"
   ]
  },
  {
   "cell_type": "markdown",
   "metadata": {},
   "source": [
    "# END OF PROCESSING - Sanity checks below"
   ]
  },
  {
   "cell_type": "code",
   "execution_count": 32,
   "metadata": {},
   "outputs": [],
   "source": [
    "pivot.sort_values(pivot.columns[1], inplace=True)\n",
    "pivot['apr_position'] = np.arange(1,len(pivot) + 1)\n",
    "pivot['temp_race_time'] = pivot[pivot.columns[[1,2]]].sum(axis=1)\n",
    "pivot.sort_values(by='temp_race_time', inplace=True)\n",
    "pivot['may_position'] = np.arange(1,len(pivot) + 1)\n",
    "pivot['temp_race_time'] = pivot[pivot.columns[[1,2,3]]].sum(axis=1)\n",
    "pivot.sort_values(by='temp_race_time', inplace=True)\n",
    "pivot['jun_position'] = np.arange(1,len(pivot) + 1)\n",
    "pivot['temp_race_time'] = pivot[pivot.columns[[1,2,3,4]]].sum(axis=1)\n",
    "pivot.sort_values(by='temp_race_time', inplace=True)\n",
    "pivot['jly_position'] = np.arange(1,len(pivot) + 1)"
   ]
  },
  {
   "cell_type": "code",
   "execution_count": 33,
   "metadata": {
    "scrolled": true
   },
   "outputs": [
    {
     "output_type": "execute_result",
     "data": {
      "text/plain": [
       "                      Line  2021-04-15 00:00:00  2021-05-13 00:00:00  \\\n",
       "0                   GAMMA1            89.153563            69.325767   \n",
       "1                IMA C80/2            88.910252            69.256522   \n",
       "2       L18 Packaging Line            88.847299            74.226704   \n",
       "3       L25 Packaging Line            88.849775            74.908842   \n",
       "4              M22 Filling            88.953983            81.806345   \n",
       "5              M21 Filling            89.248712            83.742378   \n",
       "6              M18 Filling            89.960465            82.596174   \n",
       "7                      AL6            89.137846            90.323044   \n",
       "8     SUPPO Packaging Line            88.585379            89.604811   \n",
       "9   LINE 01 - UHLMANN 1880            89.960465            88.525497   \n",
       "10    TR200 Packaging Line            88.710407            89.591164   \n",
       "11          MEDISEAL PURAN            89.960465            89.019996   \n",
       "12         AL5 Packaging 1            89.248712            89.725754   \n",
       "13       C9 Packaging Line            89.021271            89.747841   \n",
       "14       C2 Packaging Line            88.952682            90.451874   \n",
       "\n",
       "    2021-06-10 00:00:00  2021-07-08 00:00:00  position  prev_position  \\\n",
       "0             68.226756            89.979194         1              1   \n",
       "1             75.232693            89.674113         2              2   \n",
       "2             89.407996            89.425327         3              3   \n",
       "3             90.011979            89.862601         4              4   \n",
       "4             84.857670            89.522488         5              5   \n",
       "5             84.767181            89.760825         6              6   \n",
       "6             85.446232            90.979137         7              7   \n",
       "7             84.205598            89.902144         8              8   \n",
       "8             89.904755            89.318502         9             10   \n",
       "9             89.636847            89.547483        10             11   \n",
       "10            89.381941            90.529634        11              9   \n",
       "11            89.838256            89.971539        12             12   \n",
       "12            90.495004            89.559946        13             14   \n",
       "13            90.361488            90.130804        14             13   \n",
       "14            90.261138            90.622942        15             15   \n",
       "\n",
       "    apr_position  may_position  jun_position  jly_position  \n",
       "0             10             2             1             1  \n",
       "1              5             1             2             2  \n",
       "2              3             3             3             3  \n",
       "3              4             4             4             4  \n",
       "4              7             5             5             5  \n",
       "5             11             7             6             6  \n",
       "6             13             6             7             7  \n",
       "7              9            15             8             8  \n",
       "8              1             8            10             9  \n",
       "9             14            10            11            10  \n",
       "10             2             9             9            11  \n",
       "11            15            13            12            12  \n",
       "12            12            12            14            13  \n",
       "13             8            11            13            14  \n",
       "14             6            14            15            15  "
      ],
      "text/html": "<div>\n<style scoped>\n    .dataframe tbody tr th:only-of-type {\n        vertical-align: middle;\n    }\n\n    .dataframe tbody tr th {\n        vertical-align: top;\n    }\n\n    .dataframe thead th {\n        text-align: right;\n    }\n</style>\n<table border=\"1\" class=\"dataframe\">\n  <thead>\n    <tr style=\"text-align: right;\">\n      <th></th>\n      <th>Line</th>\n      <th>2021-04-15 00:00:00</th>\n      <th>2021-05-13 00:00:00</th>\n      <th>2021-06-10 00:00:00</th>\n      <th>2021-07-08 00:00:00</th>\n      <th>position</th>\n      <th>prev_position</th>\n      <th>apr_position</th>\n      <th>may_position</th>\n      <th>jun_position</th>\n      <th>jly_position</th>\n    </tr>\n  </thead>\n  <tbody>\n    <tr>\n      <th>0</th>\n      <td>GAMMA1</td>\n      <td>89.153563</td>\n      <td>69.325767</td>\n      <td>68.226756</td>\n      <td>89.979194</td>\n      <td>1</td>\n      <td>1</td>\n      <td>10</td>\n      <td>2</td>\n      <td>1</td>\n      <td>1</td>\n    </tr>\n    <tr>\n      <th>1</th>\n      <td>IMA C80/2</td>\n      <td>88.910252</td>\n      <td>69.256522</td>\n      <td>75.232693</td>\n      <td>89.674113</td>\n      <td>2</td>\n      <td>2</td>\n      <td>5</td>\n      <td>1</td>\n      <td>2</td>\n      <td>2</td>\n    </tr>\n    <tr>\n      <th>2</th>\n      <td>L18 Packaging Line</td>\n      <td>88.847299</td>\n      <td>74.226704</td>\n      <td>89.407996</td>\n      <td>89.425327</td>\n      <td>3</td>\n      <td>3</td>\n      <td>3</td>\n      <td>3</td>\n      <td>3</td>\n      <td>3</td>\n    </tr>\n    <tr>\n      <th>3</th>\n      <td>L25 Packaging Line</td>\n      <td>88.849775</td>\n      <td>74.908842</td>\n      <td>90.011979</td>\n      <td>89.862601</td>\n      <td>4</td>\n      <td>4</td>\n      <td>4</td>\n      <td>4</td>\n      <td>4</td>\n      <td>4</td>\n    </tr>\n    <tr>\n      <th>4</th>\n      <td>M22 Filling</td>\n      <td>88.953983</td>\n      <td>81.806345</td>\n      <td>84.857670</td>\n      <td>89.522488</td>\n      <td>5</td>\n      <td>5</td>\n      <td>7</td>\n      <td>5</td>\n      <td>5</td>\n      <td>5</td>\n    </tr>\n    <tr>\n      <th>5</th>\n      <td>M21 Filling</td>\n      <td>89.248712</td>\n      <td>83.742378</td>\n      <td>84.767181</td>\n      <td>89.760825</td>\n      <td>6</td>\n      <td>6</td>\n      <td>11</td>\n      <td>7</td>\n      <td>6</td>\n      <td>6</td>\n    </tr>\n    <tr>\n      <th>6</th>\n      <td>M18 Filling</td>\n      <td>89.960465</td>\n      <td>82.596174</td>\n      <td>85.446232</td>\n      <td>90.979137</td>\n      <td>7</td>\n      <td>7</td>\n      <td>13</td>\n      <td>6</td>\n      <td>7</td>\n      <td>7</td>\n    </tr>\n    <tr>\n      <th>7</th>\n      <td>AL6</td>\n      <td>89.137846</td>\n      <td>90.323044</td>\n      <td>84.205598</td>\n      <td>89.902144</td>\n      <td>8</td>\n      <td>8</td>\n      <td>9</td>\n      <td>15</td>\n      <td>8</td>\n      <td>8</td>\n    </tr>\n    <tr>\n      <th>8</th>\n      <td>SUPPO Packaging Line</td>\n      <td>88.585379</td>\n      <td>89.604811</td>\n      <td>89.904755</td>\n      <td>89.318502</td>\n      <td>9</td>\n      <td>10</td>\n      <td>1</td>\n      <td>8</td>\n      <td>10</td>\n      <td>9</td>\n    </tr>\n    <tr>\n      <th>9</th>\n      <td>LINE 01 - UHLMANN 1880</td>\n      <td>89.960465</td>\n      <td>88.525497</td>\n      <td>89.636847</td>\n      <td>89.547483</td>\n      <td>10</td>\n      <td>11</td>\n      <td>14</td>\n      <td>10</td>\n      <td>11</td>\n      <td>10</td>\n    </tr>\n    <tr>\n      <th>10</th>\n      <td>TR200 Packaging Line</td>\n      <td>88.710407</td>\n      <td>89.591164</td>\n      <td>89.381941</td>\n      <td>90.529634</td>\n      <td>11</td>\n      <td>9</td>\n      <td>2</td>\n      <td>9</td>\n      <td>9</td>\n      <td>11</td>\n    </tr>\n    <tr>\n      <th>11</th>\n      <td>MEDISEAL PURAN</td>\n      <td>89.960465</td>\n      <td>89.019996</td>\n      <td>89.838256</td>\n      <td>89.971539</td>\n      <td>12</td>\n      <td>12</td>\n      <td>15</td>\n      <td>13</td>\n      <td>12</td>\n      <td>12</td>\n    </tr>\n    <tr>\n      <th>12</th>\n      <td>AL5 Packaging 1</td>\n      <td>89.248712</td>\n      <td>89.725754</td>\n      <td>90.495004</td>\n      <td>89.559946</td>\n      <td>13</td>\n      <td>14</td>\n      <td>12</td>\n      <td>12</td>\n      <td>14</td>\n      <td>13</td>\n    </tr>\n    <tr>\n      <th>13</th>\n      <td>C9 Packaging Line</td>\n      <td>89.021271</td>\n      <td>89.747841</td>\n      <td>90.361488</td>\n      <td>90.130804</td>\n      <td>14</td>\n      <td>13</td>\n      <td>8</td>\n      <td>11</td>\n      <td>13</td>\n      <td>14</td>\n    </tr>\n    <tr>\n      <th>14</th>\n      <td>C2 Packaging Line</td>\n      <td>88.952682</td>\n      <td>90.451874</td>\n      <td>90.261138</td>\n      <td>90.622942</td>\n      <td>15</td>\n      <td>15</td>\n      <td>6</td>\n      <td>14</td>\n      <td>15</td>\n      <td>15</td>\n    </tr>\n  </tbody>\n</table>\n</div>"
     },
     "metadata": {},
     "execution_count": 33
    }
   ],
   "source": [
    "# regex filter on column name contains Line, position or 2021\n",
    "pivot.filter(regex='Line|position|2021')"
   ]
  },
  {
   "cell_type": "code",
   "execution_count": 34,
   "metadata": {},
   "outputs": [],
   "source": [
    "# df_weekly.groupby(['Review_Date','Line']).lap_time.sum().reset_index()\n",
    "sectors = df_weekly.filter(regex='Line|sector|Review_Date')"
   ]
  },
  {
   "cell_type": "code",
   "execution_count": 35,
   "metadata": {},
   "outputs": [
    {
     "output_type": "execute_result",
     "data": {
      "text/plain": [
       "Review_Date                    Line  2021-04-15 00:00:00  2021-05-13 00:00:00  \\\n",
       "0                   AL5 Packaging 1             1.248712             1.725754   \n",
       "1                               AL6             1.137846             2.323044   \n",
       "2                 C2 Packaging Line             0.952682             2.451874   \n",
       "3                 C9 Packaging Line             1.021271             1.747841   \n",
       "4                            GAMMA1             1.153563             1.725767   \n",
       "5                         IMA C80/2             0.910252             1.656522   \n",
       "6                L18 Packaging Line             0.847299             1.426704   \n",
       "7                L25 Packaging Line             0.849775             2.108842   \n",
       "8            LINE 01 - UHLMANN 1880                  NaN             0.525497   \n",
       "9                       M18 Filling             1.960465             2.596174   \n",
       "10                      M21 Filling             1.248712             3.742378   \n",
       "11                      M22 Filling             0.953983             1.806345   \n",
       "12                   MEDISEAL PURAN                  NaN             1.019996   \n",
       "13             SUPPO Packaging Line             0.585379             1.604811   \n",
       "14             TR200 Packaging Line             0.710407             1.591164   \n",
       "\n",
       "Review_Date  2021-06-10 00:00:00  2021-07-08 00:00:00  \n",
       "0                       2.495004             1.559946  \n",
       "1                       1.805598             1.902144  \n",
       "2                       2.261138             2.622942  \n",
       "3                       2.361488             2.130804  \n",
       "4                       1.926756             1.979194  \n",
       "5                       1.732693             1.674113  \n",
       "6                       1.407996             1.425327  \n",
       "7                       2.011979             1.862601  \n",
       "8                       1.636847             1.547483  \n",
       "9                       2.646232             2.979137  \n",
       "10                      1.967181             1.760825  \n",
       "11                      2.057670             1.522488  \n",
       "12                      1.838256             1.971539  \n",
       "13                      1.904755             1.318502  \n",
       "14                      1.381941             2.529634  "
      ],
      "text/html": "<div>\n<style scoped>\n    .dataframe tbody tr th:only-of-type {\n        vertical-align: middle;\n    }\n\n    .dataframe tbody tr th {\n        vertical-align: top;\n    }\n\n    .dataframe thead th {\n        text-align: right;\n    }\n</style>\n<table border=\"1\" class=\"dataframe\">\n  <thead>\n    <tr style=\"text-align: right;\">\n      <th>Review_Date</th>\n      <th>Line</th>\n      <th>2021-04-15 00:00:00</th>\n      <th>2021-05-13 00:00:00</th>\n      <th>2021-06-10 00:00:00</th>\n      <th>2021-07-08 00:00:00</th>\n    </tr>\n  </thead>\n  <tbody>\n    <tr>\n      <th>0</th>\n      <td>AL5 Packaging 1</td>\n      <td>1.248712</td>\n      <td>1.725754</td>\n      <td>2.495004</td>\n      <td>1.559946</td>\n    </tr>\n    <tr>\n      <th>1</th>\n      <td>AL6</td>\n      <td>1.137846</td>\n      <td>2.323044</td>\n      <td>1.805598</td>\n      <td>1.902144</td>\n    </tr>\n    <tr>\n      <th>2</th>\n      <td>C2 Packaging Line</td>\n      <td>0.952682</td>\n      <td>2.451874</td>\n      <td>2.261138</td>\n      <td>2.622942</td>\n    </tr>\n    <tr>\n      <th>3</th>\n      <td>C9 Packaging Line</td>\n      <td>1.021271</td>\n      <td>1.747841</td>\n      <td>2.361488</td>\n      <td>2.130804</td>\n    </tr>\n    <tr>\n      <th>4</th>\n      <td>GAMMA1</td>\n      <td>1.153563</td>\n      <td>1.725767</td>\n      <td>1.926756</td>\n      <td>1.979194</td>\n    </tr>\n    <tr>\n      <th>5</th>\n      <td>IMA C80/2</td>\n      <td>0.910252</td>\n      <td>1.656522</td>\n      <td>1.732693</td>\n      <td>1.674113</td>\n    </tr>\n    <tr>\n      <th>6</th>\n      <td>L18 Packaging Line</td>\n      <td>0.847299</td>\n      <td>1.426704</td>\n      <td>1.407996</td>\n      <td>1.425327</td>\n    </tr>\n    <tr>\n      <th>7</th>\n      <td>L25 Packaging Line</td>\n      <td>0.849775</td>\n      <td>2.108842</td>\n      <td>2.011979</td>\n      <td>1.862601</td>\n    </tr>\n    <tr>\n      <th>8</th>\n      <td>LINE 01 - UHLMANN 1880</td>\n      <td>NaN</td>\n      <td>0.525497</td>\n      <td>1.636847</td>\n      <td>1.547483</td>\n    </tr>\n    <tr>\n      <th>9</th>\n      <td>M18 Filling</td>\n      <td>1.960465</td>\n      <td>2.596174</td>\n      <td>2.646232</td>\n      <td>2.979137</td>\n    </tr>\n    <tr>\n      <th>10</th>\n      <td>M21 Filling</td>\n      <td>1.248712</td>\n      <td>3.742378</td>\n      <td>1.967181</td>\n      <td>1.760825</td>\n    </tr>\n    <tr>\n      <th>11</th>\n      <td>M22 Filling</td>\n      <td>0.953983</td>\n      <td>1.806345</td>\n      <td>2.057670</td>\n      <td>1.522488</td>\n    </tr>\n    <tr>\n      <th>12</th>\n      <td>MEDISEAL PURAN</td>\n      <td>NaN</td>\n      <td>1.019996</td>\n      <td>1.838256</td>\n      <td>1.971539</td>\n    </tr>\n    <tr>\n      <th>13</th>\n      <td>SUPPO Packaging Line</td>\n      <td>0.585379</td>\n      <td>1.604811</td>\n      <td>1.904755</td>\n      <td>1.318502</td>\n    </tr>\n    <tr>\n      <th>14</th>\n      <td>TR200 Packaging Line</td>\n      <td>0.710407</td>\n      <td>1.591164</td>\n      <td>1.381941</td>\n      <td>2.529634</td>\n    </tr>\n  </tbody>\n</table>\n</div>"
     },
     "metadata": {},
     "execution_count": 35
    }
   ],
   "source": [
    "# sectors[sectors.columns[[2,3,4,5]]].sum(axis=1)\n",
    "sectors = df_weekly.filter(regex='Line|sector|Review_Date')\n",
    "sectors = sectors.iloc[:,0:6]\n",
    "sectors = sectors.groupby(['Line','Review_Date']).sum().reset_index()\n",
    "sectors['time'] = sectors.sum(axis=1)\n",
    "sectors_pivot = sectors.pivot(index='Line', columns='Review_Date', values='time')\n",
    "sectors_pivot.reset_index(inplace=True)\n",
    "sectors_pivot\n",
    "# sectors[sectors[sectors.columns[[2,3,4,5]]].sum(axis=1)\n",
    "# sectors[sectors.Line.str.contains('AL5')]"
   ]
  },
  {
   "cell_type": "code",
   "execution_count": 36,
   "metadata": {},
   "outputs": [],
   "source": [
    "# search for cols [1:] and find all cols after Date and Line\n",
    "sectors_pivot.iloc[:,1:] = sectors_pivot.iloc[:,1:].fillna(sectors_pivot.iloc[:,1:].max())\n"
   ]
  },
  {
   "cell_type": "code",
   "execution_count": 150,
   "metadata": {},
   "outputs": [
    {
     "output_type": "execute_result",
     "data": {
      "text/plain": [
       "<pandas.io.formats.style.Styler at 0x21534856f40>"
      ],
      "text/html": "<style  type=\"text/css\" >\n#T_62b7b_row0_col1{\n            background-color:  #5f3c99;\n            color:  #f1f1f1;\n        }#T_62b7b_row0_col2,#T_62b7b_row3_col3{\n            background-color:  #6f5ba8;\n            color:  #f1f1f1;\n        }#T_62b7b_row0_col3{\n            background-color:  #420680;\n            color:  #f1f1f1;\n        }#T_62b7b_row0_col4{\n            background-color:  #4a1486;\n            color:  #f1f1f1;\n        }#T_62b7b_row0_col5,#T_62b7b_row1_col7,#T_62b7b_row2_col8,#T_62b7b_row4_col6{\n            background-color:  #572c92;\n            color:  #f1f1f1;\n        }#T_62b7b_row0_col6,#T_62b7b_row1_col8,#T_62b7b_row4_col5,#T_62b7b_row4_col7{\n            background-color:  #4b1687;\n            color:  #f1f1f1;\n        }#T_62b7b_row0_col7,#T_62b7b_row0_col8,#T_62b7b_row1_col1,#T_62b7b_row1_col4,#T_62b7b_row1_col5,#T_62b7b_row1_col6,#T_62b7b_row2_col2,#T_62b7b_row4_col3{\n            background-color:  #3f007d;\n            color:  #f1f1f1;\n        }#T_62b7b_row1_col2,#T_62b7b_row10_col3{\n            background-color:  #796eb2;\n            color:  #000000;\n        }#T_62b7b_row1_col3,#T_62b7b_row6_col1{\n            background-color:  #8986be;\n            color:  #000000;\n        }#T_62b7b_row2_col1,#T_62b7b_row7_col1,#T_62b7b_row13_col2,#T_62b7b_row13_col6,#T_62b7b_row14_col1,#T_62b7b_row14_col3,#T_62b7b_row14_col4,#T_62b7b_row14_col5,#T_62b7b_row14_col7,#T_62b7b_row14_col8{\n            background-color:  #fcfbfd;\n            color:  #000000;\n        }#T_62b7b_row2_col3{\n            background-color:  #61409b;\n            color:  #f1f1f1;\n        }#T_62b7b_row2_col4{\n            background-color:  #562b91;\n            color:  #f1f1f1;\n        }#T_62b7b_row2_col5,#T_62b7b_row10_col6,#T_62b7b_row12_col7,#T_62b7b_row12_col8{\n            background-color:  #ecebf4;\n            color:  #000000;\n        }#T_62b7b_row2_col6,#T_62b7b_row2_col7,#T_62b7b_row3_col4,#T_62b7b_row3_col8,#T_62b7b_row8_col5{\n            background-color:  #63449d;\n            color:  #f1f1f1;\n        }#T_62b7b_row3_col1{\n            background-color:  #674ca1;\n            color:  #f1f1f1;\n        }#T_62b7b_row3_col2{\n            background-color:  #7c75b6;\n            color:  #000000;\n        }#T_62b7b_row3_col5,#T_62b7b_row3_col6,#T_62b7b_row3_col7,#T_62b7b_row4_col8{\n            background-color:  #705eaa;\n            color:  #f1f1f1;\n        }#T_62b7b_row4_col1{\n            background-color:  #4e1c8a;\n            color:  #f1f1f1;\n        }#T_62b7b_row4_col2{\n            background-color:  #786db2;\n            color:  #000000;\n        }#T_62b7b_row4_col4{\n            background-color:  #d5d5e9;\n            color:  #000000;\n        }#T_62b7b_row5_col1,#T_62b7b_row12_col1,#T_62b7b_row13_col4{\n            background-color:  #6d57a6;\n            color:  #f1f1f1;\n        }#T_62b7b_row5_col2,#T_62b7b_row6_col4{\n            background-color:  #8582bc;\n            color:  #000000;\n        }#T_62b7b_row5_col3{\n            background-color:  #a6a3cd;\n            color:  #000000;\n        }#T_62b7b_row5_col4{\n            background-color:  #53268f;\n            color:  #f1f1f1;\n        }#T_62b7b_row5_col5,#T_62b7b_row5_col7,#T_62b7b_row6_col8,#T_62b7b_row11_col6{\n            background-color:  #8d89c0;\n            color:  #000000;\n        }#T_62b7b_row5_col6,#T_62b7b_row5_col8,#T_62b7b_row6_col7,#T_62b7b_row12_col5{\n            background-color:  #7d77b7;\n            color:  #000000;\n        }#T_62b7b_row6_col2,#T_62b7b_row9_col2{\n            background-color:  #807cba;\n            color:  #000000;\n        }#T_62b7b_row6_col3{\n            background-color:  #8e8ac0;\n            color:  #000000;\n        }#T_62b7b_row6_col5,#T_62b7b_row9_col6,#T_62b7b_row9_col8,#T_62b7b_row11_col7,#T_62b7b_row14_col2{\n            background-color:  #c0c1de;\n            color:  #000000;\n        }#T_62b7b_row6_col6,#T_62b7b_row7_col7,#T_62b7b_row7_col8,#T_62b7b_row11_col5{\n            background-color:  #9e9bc8;\n            color:  #000000;\n        }#T_62b7b_row7_col2{\n            background-color:  #593093;\n            color:  #f1f1f1;\n        }#T_62b7b_row7_col3{\n            background-color:  #7d78b7;\n            color:  #000000;\n        }#T_62b7b_row7_col4{\n            background-color:  #8481bc;\n            color:  #000000;\n        }#T_62b7b_row7_col5,#T_62b7b_row13_col7,#T_62b7b_row13_col8,#T_62b7b_row14_col6{\n            background-color:  #f5f3f8;\n            color:  #000000;\n        }#T_62b7b_row7_col6,#T_62b7b_row9_col5,#T_62b7b_row10_col7,#T_62b7b_row10_col8{\n            background-color:  #d1d2e7;\n            color:  #000000;\n        }#T_62b7b_row8_col1{\n            background-color:  #603e9a;\n            color:  #f1f1f1;\n        }#T_62b7b_row8_col2{\n            background-color:  #9d99c7;\n            color:  #000000;\n        }#T_62b7b_row8_col3{\n            background-color:  #9e9ac8;\n            color:  #000000;\n        }#T_62b7b_row8_col4{\n            background-color:  #776cb1;\n            color:  #000000;\n        }#T_62b7b_row8_col6,#T_62b7b_row8_col7,#T_62b7b_row8_col8,#T_62b7b_row10_col5{\n            background-color:  #afaed4;\n            color:  #000000;\n        }#T_62b7b_row9_col1,#T_62b7b_row13_col1{\n            background-color:  #9a96c6;\n            color:  #000000;\n        }#T_62b7b_row9_col3{\n            background-color:  #f0eef5;\n            color:  #000000;\n        }#T_62b7b_row9_col4{\n            background-color:  #582e92;\n            color:  #f1f1f1;\n        }#T_62b7b_row9_col7,#T_62b7b_row11_col8,#T_62b7b_row12_col4,#T_62b7b_row12_col6,#T_62b7b_row13_col5{\n            background-color:  #e0e0ee;\n            color:  #000000;\n        }#T_62b7b_row10_col1{\n            background-color:  #8683bd;\n            color:  #000000;\n        }#T_62b7b_row10_col2{\n            background-color:  #adabd2;\n            color:  #000000;\n        }#T_62b7b_row10_col4{\n            background-color:  #7b74b5;\n            color:  #000000;\n        }#T_62b7b_row11_col1{\n            background-color:  #7669af;\n            color:  #000000;\n        }#T_62b7b_row11_col2{\n            background-color:  #817ebb;\n            color:  #000000;\n        }#T_62b7b_row11_col3{\n            background-color:  #dedeed;\n            color:  #000000;\n        }#T_62b7b_row11_col4{\n            background-color:  #9c98c7;\n            color:  #000000;\n        }#T_62b7b_row12_col2{\n            background-color:  #b6b6d8;\n            color:  #000000;\n        }#T_62b7b_row12_col3{\n            background-color:  #cecee5;\n            color:  #000000;\n        }#T_62b7b_row13_col3{\n            background-color:  #9591c4;\n            color:  #000000;\n        }</style><table id=\"T_62b7b_\" ><thead>    <tr>        <th class=\"index_name level0\" >Review_Date</th>        <th class=\"col_heading level0 col0\" >Line</th>        <th class=\"col_heading level0 col1\" >2021-04-15 00:00:00</th>        <th class=\"col_heading level0 col2\" >2021-05-13 00:00:00</th>        <th class=\"col_heading level0 col3\" >2021-06-10 00:00:00</th>        <th class=\"col_heading level0 col4\" >2021-07-08 00:00:00</th>        <th class=\"col_heading level0 col5\" >apr_position</th>        <th class=\"col_heading level0 col6\" >may_position</th>        <th class=\"col_heading level0 col7\" >jun_position</th>        <th class=\"col_heading level0 col8\" >jly_position</th>    </tr></thead><tbody>\n                <tr>\n                        <th id=\"T_62b7b_level0_row0\" class=\"row_heading level0 row0\" >6</th>\n                        <td id=\"T_62b7b_row0_col0\" class=\"data row0 col0\" >L18 Packaging Line</td>\n                        <td id=\"T_62b7b_row0_col1\" class=\"data row0 col1\" >0.847299</td>\n                        <td id=\"T_62b7b_row0_col2\" class=\"data row0 col2\" >1.426704</td>\n                        <td id=\"T_62b7b_row0_col3\" class=\"data row0 col3\" >1.407996</td>\n                        <td id=\"T_62b7b_row0_col4\" class=\"data row0 col4\" >1.425327</td>\n                        <td id=\"T_62b7b_row0_col5\" class=\"data row0 col5\" >3</td>\n                        <td id=\"T_62b7b_row0_col6\" class=\"data row0 col6\" >2</td>\n                        <td id=\"T_62b7b_row0_col7\" class=\"data row0 col7\" >1</td>\n                        <td id=\"T_62b7b_row0_col8\" class=\"data row0 col8\" >1</td>\n            </tr>\n            <tr>\n                        <th id=\"T_62b7b_level0_row1\" class=\"row_heading level0 row1\" >13</th>\n                        <td id=\"T_62b7b_row1_col0\" class=\"data row1 col0\" >SUPPO Packaging Line</td>\n                        <td id=\"T_62b7b_row1_col1\" class=\"data row1 col1\" >0.585379</td>\n                        <td id=\"T_62b7b_row1_col2\" class=\"data row1 col2\" >1.604811</td>\n                        <td id=\"T_62b7b_row1_col3\" class=\"data row1 col3\" >1.904755</td>\n                        <td id=\"T_62b7b_row1_col4\" class=\"data row1 col4\" >1.318502</td>\n                        <td id=\"T_62b7b_row1_col5\" class=\"data row1 col5\" >1</td>\n                        <td id=\"T_62b7b_row1_col6\" class=\"data row1 col6\" >1</td>\n                        <td id=\"T_62b7b_row1_col7\" class=\"data row1 col7\" >3</td>\n                        <td id=\"T_62b7b_row1_col8\" class=\"data row1 col8\" >2</td>\n            </tr>\n            <tr>\n                        <th id=\"T_62b7b_level0_row2\" class=\"row_heading level0 row2\" >8</th>\n                        <td id=\"T_62b7b_row2_col0\" class=\"data row2 col0\" >LINE 01 - UHLMANN 1880</td>\n                        <td id=\"T_62b7b_row2_col1\" class=\"data row2 col1\" >1.960465</td>\n                        <td id=\"T_62b7b_row2_col2\" class=\"data row2 col2\" >0.525497</td>\n                        <td id=\"T_62b7b_row2_col3\" class=\"data row2 col3\" >1.636847</td>\n                        <td id=\"T_62b7b_row2_col4\" class=\"data row2 col4\" >1.547483</td>\n                        <td id=\"T_62b7b_row2_col5\" class=\"data row2 col5\" >13</td>\n                        <td id=\"T_62b7b_row2_col6\" class=\"data row2 col6\" >4</td>\n                        <td id=\"T_62b7b_row2_col7\" class=\"data row2 col7\" >4</td>\n                        <td id=\"T_62b7b_row2_col8\" class=\"data row2 col8\" >3</td>\n            </tr>\n            <tr>\n                        <th id=\"T_62b7b_level0_row3\" class=\"row_heading level0 row3\" >5</th>\n                        <td id=\"T_62b7b_row3_col0\" class=\"data row3 col0\" >IMA C80/2</td>\n                        <td id=\"T_62b7b_row3_col1\" class=\"data row3 col1\" >0.910252</td>\n                        <td id=\"T_62b7b_row3_col2\" class=\"data row3 col2\" >1.656522</td>\n                        <td id=\"T_62b7b_row3_col3\" class=\"data row3 col3\" >1.732693</td>\n                        <td id=\"T_62b7b_row3_col4\" class=\"data row3 col4\" >1.674113</td>\n                        <td id=\"T_62b7b_row3_col5\" class=\"data row3 col5\" >5</td>\n                        <td id=\"T_62b7b_row3_col6\" class=\"data row3 col6\" >5</td>\n                        <td id=\"T_62b7b_row3_col7\" class=\"data row3 col7\" >5</td>\n                        <td id=\"T_62b7b_row3_col8\" class=\"data row3 col8\" >4</td>\n            </tr>\n            <tr>\n                        <th id=\"T_62b7b_level0_row4\" class=\"row_heading level0 row4\" >14</th>\n                        <td id=\"T_62b7b_row4_col0\" class=\"data row4 col0\" >TR200 Packaging Line</td>\n                        <td id=\"T_62b7b_row4_col1\" class=\"data row4 col1\" >0.710407</td>\n                        <td id=\"T_62b7b_row4_col2\" class=\"data row4 col2\" >1.591164</td>\n                        <td id=\"T_62b7b_row4_col3\" class=\"data row4 col3\" >1.381941</td>\n                        <td id=\"T_62b7b_row4_col4\" class=\"data row4 col4\" >2.529634</td>\n                        <td id=\"T_62b7b_row4_col5\" class=\"data row4 col5\" >2</td>\n                        <td id=\"T_62b7b_row4_col6\" class=\"data row4 col6\" >3</td>\n                        <td id=\"T_62b7b_row4_col7\" class=\"data row4 col7\" >2</td>\n                        <td id=\"T_62b7b_row4_col8\" class=\"data row4 col8\" >5</td>\n            </tr>\n            <tr>\n                        <th id=\"T_62b7b_level0_row5\" class=\"row_heading level0 row5\" >11</th>\n                        <td id=\"T_62b7b_row5_col0\" class=\"data row5 col0\" >M22 Filling</td>\n                        <td id=\"T_62b7b_row5_col1\" class=\"data row5 col1\" >0.953983</td>\n                        <td id=\"T_62b7b_row5_col2\" class=\"data row5 col2\" >1.806345</td>\n                        <td id=\"T_62b7b_row5_col3\" class=\"data row5 col3\" >2.057670</td>\n                        <td id=\"T_62b7b_row5_col4\" class=\"data row5 col4\" >1.522488</td>\n                        <td id=\"T_62b7b_row5_col5\" class=\"data row5 col5\" >7</td>\n                        <td id=\"T_62b7b_row5_col6\" class=\"data row5 col6\" >6</td>\n                        <td id=\"T_62b7b_row5_col7\" class=\"data row5 col7\" >7</td>\n                        <td id=\"T_62b7b_row5_col8\" class=\"data row5 col8\" >6</td>\n            </tr>\n            <tr>\n                        <th id=\"T_62b7b_level0_row6\" class=\"row_heading level0 row6\" >4</th>\n                        <td id=\"T_62b7b_row6_col0\" class=\"data row6 col0\" >GAMMA1</td>\n                        <td id=\"T_62b7b_row6_col1\" class=\"data row6 col1\" >1.153563</td>\n                        <td id=\"T_62b7b_row6_col2\" class=\"data row6 col2\" >1.725767</td>\n                        <td id=\"T_62b7b_row6_col3\" class=\"data row6 col3\" >1.926756</td>\n                        <td id=\"T_62b7b_row6_col4\" class=\"data row6 col4\" >1.979194</td>\n                        <td id=\"T_62b7b_row6_col5\" class=\"data row6 col5\" >10</td>\n                        <td id=\"T_62b7b_row6_col6\" class=\"data row6 col6\" >8</td>\n                        <td id=\"T_62b7b_row6_col7\" class=\"data row6 col7\" >6</td>\n                        <td id=\"T_62b7b_row6_col8\" class=\"data row6 col8\" >7</td>\n            </tr>\n            <tr>\n                        <th id=\"T_62b7b_level0_row7\" class=\"row_heading level0 row7\" >12</th>\n                        <td id=\"T_62b7b_row7_col0\" class=\"data row7 col0\" >MEDISEAL PURAN</td>\n                        <td id=\"T_62b7b_row7_col1\" class=\"data row7 col1\" >1.960465</td>\n                        <td id=\"T_62b7b_row7_col2\" class=\"data row7 col2\" >1.019996</td>\n                        <td id=\"T_62b7b_row7_col3\" class=\"data row7 col3\" >1.838256</td>\n                        <td id=\"T_62b7b_row7_col4\" class=\"data row7 col4\" >1.971539</td>\n                        <td id=\"T_62b7b_row7_col5\" class=\"data row7 col5\" >14</td>\n                        <td id=\"T_62b7b_row7_col6\" class=\"data row7 col6\" >11</td>\n                        <td id=\"T_62b7b_row7_col7\" class=\"data row7 col7\" >8</td>\n                        <td id=\"T_62b7b_row7_col8\" class=\"data row7 col8\" >8</td>\n            </tr>\n            <tr>\n                        <th id=\"T_62b7b_level0_row8\" class=\"row_heading level0 row8\" >7</th>\n                        <td id=\"T_62b7b_row8_col0\" class=\"data row8 col0\" >L25 Packaging Line</td>\n                        <td id=\"T_62b7b_row8_col1\" class=\"data row8 col1\" >0.849775</td>\n                        <td id=\"T_62b7b_row8_col2\" class=\"data row8 col2\" >2.108842</td>\n                        <td id=\"T_62b7b_row8_col3\" class=\"data row8 col3\" >2.011979</td>\n                        <td id=\"T_62b7b_row8_col4\" class=\"data row8 col4\" >1.862601</td>\n                        <td id=\"T_62b7b_row8_col5\" class=\"data row8 col5\" >4</td>\n                        <td id=\"T_62b7b_row8_col6\" class=\"data row8 col6\" >9</td>\n                        <td id=\"T_62b7b_row8_col7\" class=\"data row8 col7\" >9</td>\n                        <td id=\"T_62b7b_row8_col8\" class=\"data row8 col8\" >9</td>\n            </tr>\n            <tr>\n                        <th id=\"T_62b7b_level0_row9\" class=\"row_heading level0 row9\" >0</th>\n                        <td id=\"T_62b7b_row9_col0\" class=\"data row9 col0\" >AL5 Packaging 1</td>\n                        <td id=\"T_62b7b_row9_col1\" class=\"data row9 col1\" >1.248712</td>\n                        <td id=\"T_62b7b_row9_col2\" class=\"data row9 col2\" >1.725754</td>\n                        <td id=\"T_62b7b_row9_col3\" class=\"data row9 col3\" >2.495004</td>\n                        <td id=\"T_62b7b_row9_col4\" class=\"data row9 col4\" >1.559946</td>\n                        <td id=\"T_62b7b_row9_col5\" class=\"data row9 col5\" >11</td>\n                        <td id=\"T_62b7b_row9_col6\" class=\"data row9 col6\" >10</td>\n                        <td id=\"T_62b7b_row9_col7\" class=\"data row9 col7\" >12</td>\n                        <td id=\"T_62b7b_row9_col8\" class=\"data row9 col8\" >10</td>\n            </tr>\n            <tr>\n                        <th id=\"T_62b7b_level0_row10\" class=\"row_heading level0 row10\" >1</th>\n                        <td id=\"T_62b7b_row10_col0\" class=\"data row10 col0\" >AL6</td>\n                        <td id=\"T_62b7b_row10_col1\" class=\"data row10 col1\" >1.137846</td>\n                        <td id=\"T_62b7b_row10_col2\" class=\"data row10 col2\" >2.323044</td>\n                        <td id=\"T_62b7b_row10_col3\" class=\"data row10 col3\" >1.805598</td>\n                        <td id=\"T_62b7b_row10_col4\" class=\"data row10 col4\" >1.902144</td>\n                        <td id=\"T_62b7b_row10_col5\" class=\"data row10 col5\" >9</td>\n                        <td id=\"T_62b7b_row10_col6\" class=\"data row10 col6\" >13</td>\n                        <td id=\"T_62b7b_row10_col7\" class=\"data row10 col7\" >11</td>\n                        <td id=\"T_62b7b_row10_col8\" class=\"data row10 col8\" >11</td>\n            </tr>\n            <tr>\n                        <th id=\"T_62b7b_level0_row11\" class=\"row_heading level0 row11\" >3</th>\n                        <td id=\"T_62b7b_row11_col0\" class=\"data row11 col0\" >C9 Packaging Line</td>\n                        <td id=\"T_62b7b_row11_col1\" class=\"data row11 col1\" >1.021271</td>\n                        <td id=\"T_62b7b_row11_col2\" class=\"data row11 col2\" >1.747841</td>\n                        <td id=\"T_62b7b_row11_col3\" class=\"data row11 col3\" >2.361488</td>\n                        <td id=\"T_62b7b_row11_col4\" class=\"data row11 col4\" >2.130804</td>\n                        <td id=\"T_62b7b_row11_col5\" class=\"data row11 col5\" >8</td>\n                        <td id=\"T_62b7b_row11_col6\" class=\"data row11 col6\" >7</td>\n                        <td id=\"T_62b7b_row11_col7\" class=\"data row11 col7\" >10</td>\n                        <td id=\"T_62b7b_row11_col8\" class=\"data row11 col8\" >12</td>\n            </tr>\n            <tr>\n                        <th id=\"T_62b7b_level0_row12\" class=\"row_heading level0 row12\" >2</th>\n                        <td id=\"T_62b7b_row12_col0\" class=\"data row12 col0\" >C2 Packaging Line</td>\n                        <td id=\"T_62b7b_row12_col1\" class=\"data row12 col1\" >0.952682</td>\n                        <td id=\"T_62b7b_row12_col2\" class=\"data row12 col2\" >2.451874</td>\n                        <td id=\"T_62b7b_row12_col3\" class=\"data row12 col3\" >2.261138</td>\n                        <td id=\"T_62b7b_row12_col4\" class=\"data row12 col4\" >2.622942</td>\n                        <td id=\"T_62b7b_row12_col5\" class=\"data row12 col5\" >6</td>\n                        <td id=\"T_62b7b_row12_col6\" class=\"data row12 col6\" >12</td>\n                        <td id=\"T_62b7b_row12_col7\" class=\"data row12 col7\" >13</td>\n                        <td id=\"T_62b7b_row12_col8\" class=\"data row12 col8\" >13</td>\n            </tr>\n            <tr>\n                        <th id=\"T_62b7b_level0_row13\" class=\"row_heading level0 row13\" >10</th>\n                        <td id=\"T_62b7b_row13_col0\" class=\"data row13 col0\" >M21 Filling</td>\n                        <td id=\"T_62b7b_row13_col1\" class=\"data row13 col1\" >1.248712</td>\n                        <td id=\"T_62b7b_row13_col2\" class=\"data row13 col2\" >3.742378</td>\n                        <td id=\"T_62b7b_row13_col3\" class=\"data row13 col3\" >1.967181</td>\n                        <td id=\"T_62b7b_row13_col4\" class=\"data row13 col4\" >1.760825</td>\n                        <td id=\"T_62b7b_row13_col5\" class=\"data row13 col5\" >12</td>\n                        <td id=\"T_62b7b_row13_col6\" class=\"data row13 col6\" >15</td>\n                        <td id=\"T_62b7b_row13_col7\" class=\"data row13 col7\" >14</td>\n                        <td id=\"T_62b7b_row13_col8\" class=\"data row13 col8\" >14</td>\n            </tr>\n            <tr>\n                        <th id=\"T_62b7b_level0_row14\" class=\"row_heading level0 row14\" >9</th>\n                        <td id=\"T_62b7b_row14_col0\" class=\"data row14 col0\" >M18 Filling</td>\n                        <td id=\"T_62b7b_row14_col1\" class=\"data row14 col1\" >1.960465</td>\n                        <td id=\"T_62b7b_row14_col2\" class=\"data row14 col2\" >2.596174</td>\n                        <td id=\"T_62b7b_row14_col3\" class=\"data row14 col3\" >2.646232</td>\n                        <td id=\"T_62b7b_row14_col4\" class=\"data row14 col4\" >2.979137</td>\n                        <td id=\"T_62b7b_row14_col5\" class=\"data row14 col5\" >15</td>\n                        <td id=\"T_62b7b_row14_col6\" class=\"data row14 col6\" >14</td>\n                        <td id=\"T_62b7b_row14_col7\" class=\"data row14 col7\" >15</td>\n                        <td id=\"T_62b7b_row14_col8\" class=\"data row14 col8\" >15</td>\n            </tr>\n    </tbody></table>"
     },
     "metadata": {},
     "execution_count": 150
    }
   ],
   "source": [
    "sectors_pivot.sort_values(sectors_pivot.columns[1], inplace=True)\n",
    "sectors_pivot['apr_position'] = np.arange(1,len(sectors_pivot) + 1)\n",
    "sectors_pivot['temp_race_time'] = sectors_pivot[sectors_pivot.columns[[1,2]]].sum(axis=1)\n",
    "sectors_pivot.sort_values(by='temp_race_time', inplace=True)\n",
    "sectors_pivot['may_position'] = np.arange(1,len(sectors_pivot) + 1)\n",
    "sectors_pivot['temp_race_time'] = sectors_pivot[sectors_pivot.columns[[1,2,3]]].sum(axis=1)\n",
    "sectors_pivot.sort_values(by='temp_race_time', inplace=True)\n",
    "sectors_pivot['jun_position'] = np.arange(1,len(sectors_pivot) + 1)\n",
    "sectors_pivot['temp_race_time'] = sectors_pivot[sectors_pivot.columns[[1,2,3,4]]].sum(axis=1)\n",
    "sectors_pivot.sort_values(by='temp_race_time', inplace=True)\n",
    "sectors_pivot['jly_position'] = np.arange(1,len(sectors_pivot) + 1)\n",
    "sectors_pivot.drop(columns='temp_race_time', inplace=True)\n",
    "sectors_pivot.style.background_gradient(cmap='Purples_r')"
   ]
  },
  {
   "cell_type": "code",
   "execution_count": 38,
   "metadata": {},
   "outputs": [
    {
     "output_type": "execute_result",
     "data": {
      "text/plain": [
       "                      Line  2021-04-15 00:00:00  2021-05-13 00:00:00  \\\n",
       "0                   GAMMA1            89.153563            69.325767   \n",
       "1                IMA C80/2            88.910252            69.256522   \n",
       "2       L18 Packaging Line            88.847299            74.226704   \n",
       "3       L25 Packaging Line            88.849775            74.908842   \n",
       "4              M22 Filling            88.953983            81.806345   \n",
       "5              M21 Filling            89.248712            83.742378   \n",
       "6              M18 Filling            89.960465            82.596174   \n",
       "7                      AL6            89.137846            90.323044   \n",
       "10    TR200 Packaging Line            88.710407            89.591164   \n",
       "8     SUPPO Packaging Line            88.585379            89.604811   \n",
       "9   LINE 01 - UHLMANN 1880            89.960465            88.525497   \n",
       "11          MEDISEAL PURAN            89.960465            89.019996   \n",
       "13       C9 Packaging Line            89.021271            89.747841   \n",
       "12         AL5 Packaging 1            89.248712            89.725754   \n",
       "14       C2 Packaging Line            88.952682            90.451874   \n",
       "\n",
       "    2021-06-10 00:00:00  2021-07-08 00:00:00  position  prev_position  \\\n",
       "0             68.226756            89.979194         1              1   \n",
       "1             75.232693            89.674113         2              2   \n",
       "2             89.407996            89.425327         3              3   \n",
       "3             90.011979            89.862601         4              4   \n",
       "4             84.857670            89.522488         5              5   \n",
       "5             84.767181            89.760825         6              6   \n",
       "6             85.446232            90.979137         7              7   \n",
       "7             84.205598            89.902144         8              8   \n",
       "10            89.381941            90.529634        11              9   \n",
       "8             89.904755            89.318502         9             10   \n",
       "9             89.636847            89.547483        10             11   \n",
       "11            89.838256            89.971539        12             12   \n",
       "13            90.361488            90.130804        14             13   \n",
       "12            90.495004            89.559946        13             14   \n",
       "14            90.261138            90.622942        15             15   \n",
       "\n",
       "    apr_position  may_position  jun_position  jly_position  \n",
       "0             10             2             1             1  \n",
       "1              5             1             2             2  \n",
       "2              3             3             3             3  \n",
       "3              4             4             4             4  \n",
       "4              7             5             5             5  \n",
       "5             11             7             6             6  \n",
       "6             13             6             7             7  \n",
       "7              9            15             8             8  \n",
       "10             2             9             9            11  \n",
       "8              1             8            10             9  \n",
       "9             14            10            11            10  \n",
       "11            15            13            12            12  \n",
       "13             8            11            13            14  \n",
       "12            12            12            14            13  \n",
       "14             6            14            15            15  "
      ],
      "text/html": "<div>\n<style scoped>\n    .dataframe tbody tr th:only-of-type {\n        vertical-align: middle;\n    }\n\n    .dataframe tbody tr th {\n        vertical-align: top;\n    }\n\n    .dataframe thead th {\n        text-align: right;\n    }\n</style>\n<table border=\"1\" class=\"dataframe\">\n  <thead>\n    <tr style=\"text-align: right;\">\n      <th></th>\n      <th>Line</th>\n      <th>2021-04-15 00:00:00</th>\n      <th>2021-05-13 00:00:00</th>\n      <th>2021-06-10 00:00:00</th>\n      <th>2021-07-08 00:00:00</th>\n      <th>position</th>\n      <th>prev_position</th>\n      <th>apr_position</th>\n      <th>may_position</th>\n      <th>jun_position</th>\n      <th>jly_position</th>\n    </tr>\n  </thead>\n  <tbody>\n    <tr>\n      <th>0</th>\n      <td>GAMMA1</td>\n      <td>89.153563</td>\n      <td>69.325767</td>\n      <td>68.226756</td>\n      <td>89.979194</td>\n      <td>1</td>\n      <td>1</td>\n      <td>10</td>\n      <td>2</td>\n      <td>1</td>\n      <td>1</td>\n    </tr>\n    <tr>\n      <th>1</th>\n      <td>IMA C80/2</td>\n      <td>88.910252</td>\n      <td>69.256522</td>\n      <td>75.232693</td>\n      <td>89.674113</td>\n      <td>2</td>\n      <td>2</td>\n      <td>5</td>\n      <td>1</td>\n      <td>2</td>\n      <td>2</td>\n    </tr>\n    <tr>\n      <th>2</th>\n      <td>L18 Packaging Line</td>\n      <td>88.847299</td>\n      <td>74.226704</td>\n      <td>89.407996</td>\n      <td>89.425327</td>\n      <td>3</td>\n      <td>3</td>\n      <td>3</td>\n      <td>3</td>\n      <td>3</td>\n      <td>3</td>\n    </tr>\n    <tr>\n      <th>3</th>\n      <td>L25 Packaging Line</td>\n      <td>88.849775</td>\n      <td>74.908842</td>\n      <td>90.011979</td>\n      <td>89.862601</td>\n      <td>4</td>\n      <td>4</td>\n      <td>4</td>\n      <td>4</td>\n      <td>4</td>\n      <td>4</td>\n    </tr>\n    <tr>\n      <th>4</th>\n      <td>M22 Filling</td>\n      <td>88.953983</td>\n      <td>81.806345</td>\n      <td>84.857670</td>\n      <td>89.522488</td>\n      <td>5</td>\n      <td>5</td>\n      <td>7</td>\n      <td>5</td>\n      <td>5</td>\n      <td>5</td>\n    </tr>\n    <tr>\n      <th>5</th>\n      <td>M21 Filling</td>\n      <td>89.248712</td>\n      <td>83.742378</td>\n      <td>84.767181</td>\n      <td>89.760825</td>\n      <td>6</td>\n      <td>6</td>\n      <td>11</td>\n      <td>7</td>\n      <td>6</td>\n      <td>6</td>\n    </tr>\n    <tr>\n      <th>6</th>\n      <td>M18 Filling</td>\n      <td>89.960465</td>\n      <td>82.596174</td>\n      <td>85.446232</td>\n      <td>90.979137</td>\n      <td>7</td>\n      <td>7</td>\n      <td>13</td>\n      <td>6</td>\n      <td>7</td>\n      <td>7</td>\n    </tr>\n    <tr>\n      <th>7</th>\n      <td>AL6</td>\n      <td>89.137846</td>\n      <td>90.323044</td>\n      <td>84.205598</td>\n      <td>89.902144</td>\n      <td>8</td>\n      <td>8</td>\n      <td>9</td>\n      <td>15</td>\n      <td>8</td>\n      <td>8</td>\n    </tr>\n    <tr>\n      <th>10</th>\n      <td>TR200 Packaging Line</td>\n      <td>88.710407</td>\n      <td>89.591164</td>\n      <td>89.381941</td>\n      <td>90.529634</td>\n      <td>11</td>\n      <td>9</td>\n      <td>2</td>\n      <td>9</td>\n      <td>9</td>\n      <td>11</td>\n    </tr>\n    <tr>\n      <th>8</th>\n      <td>SUPPO Packaging Line</td>\n      <td>88.585379</td>\n      <td>89.604811</td>\n      <td>89.904755</td>\n      <td>89.318502</td>\n      <td>9</td>\n      <td>10</td>\n      <td>1</td>\n      <td>8</td>\n      <td>10</td>\n      <td>9</td>\n    </tr>\n    <tr>\n      <th>9</th>\n      <td>LINE 01 - UHLMANN 1880</td>\n      <td>89.960465</td>\n      <td>88.525497</td>\n      <td>89.636847</td>\n      <td>89.547483</td>\n      <td>10</td>\n      <td>11</td>\n      <td>14</td>\n      <td>10</td>\n      <td>11</td>\n      <td>10</td>\n    </tr>\n    <tr>\n      <th>11</th>\n      <td>MEDISEAL PURAN</td>\n      <td>89.960465</td>\n      <td>89.019996</td>\n      <td>89.838256</td>\n      <td>89.971539</td>\n      <td>12</td>\n      <td>12</td>\n      <td>15</td>\n      <td>13</td>\n      <td>12</td>\n      <td>12</td>\n    </tr>\n    <tr>\n      <th>13</th>\n      <td>C9 Packaging Line</td>\n      <td>89.021271</td>\n      <td>89.747841</td>\n      <td>90.361488</td>\n      <td>90.130804</td>\n      <td>14</td>\n      <td>13</td>\n      <td>8</td>\n      <td>11</td>\n      <td>13</td>\n      <td>14</td>\n    </tr>\n    <tr>\n      <th>12</th>\n      <td>AL5 Packaging 1</td>\n      <td>89.248712</td>\n      <td>89.725754</td>\n      <td>90.495004</td>\n      <td>89.559946</td>\n      <td>13</td>\n      <td>14</td>\n      <td>12</td>\n      <td>12</td>\n      <td>14</td>\n      <td>13</td>\n    </tr>\n    <tr>\n      <th>14</th>\n      <td>C2 Packaging Line</td>\n      <td>88.952682</td>\n      <td>90.451874</td>\n      <td>90.261138</td>\n      <td>90.622942</td>\n      <td>15</td>\n      <td>15</td>\n      <td>6</td>\n      <td>14</td>\n      <td>15</td>\n      <td>15</td>\n    </tr>\n  </tbody>\n</table>\n</div>"
     },
     "metadata": {},
     "execution_count": 38
    }
   ],
   "source": [
    "pivot.filter(regex='Line|position|2021').sort_values('jun_position')"
   ]
  },
  {
   "cell_type": "code",
   "execution_count": 39,
   "metadata": {},
   "outputs": [],
   "source": [
    "aggregations = {\n",
    "    'sector_1':'sum',\n",
    "    'sector_2':'mean',\n",
    "    'sector_3':'mean',\n",
    "    'sector_4':'mean',\n",
    "    'sector_5':'sum',\n",
    "    'sector_6':'sum',\n",
    "    'sector_7':'sum',\n",
    "    'sector_8':'sum',\n",
    "    'sector_9':'sum',\n",
    "    'lap_time':'sum'\n",
    "}\n",
    "all_sectors = df_weekly.groupby(['Review_Date','Line'])[['sector_1','sector_2','sector_3','sector_4','sector_5','sector_6','sector_7','sector_8','sector_9','lap_time']].agg(aggregations).reset_index()"
   ]
  },
  {
   "cell_type": "code",
   "execution_count": 171,
   "metadata": {},
   "outputs": [
    {
     "output_type": "execute_result",
     "data": {
      "text/plain": [
       "<pandas.io.formats.style.Styler at 0x21533b2cd90>"
      ],
      "text/html": "<style  type=\"text/css\" >\n#T_23782_row0_col2,#T_23782_row1_col5,#T_23782_row2_col3,#T_23782_row8_col4{\n            background-color:  #3f007d;\n            color:  #f1f1f1;\n        }#T_23782_row0_col3{\n            background-color:  #eae9f3;\n            color:  #000000;\n        }#T_23782_row0_col4{\n            background-color:  #7b74b5;\n            color:  #000000;\n        }#T_23782_row0_col5{\n            background-color:  #4e1c8a;\n            color:  #f1f1f1;\n        }#T_23782_row1_col2{\n            background-color:  #7261ab;\n            color:  #000000;\n        }#T_23782_row1_col3{\n            background-color:  #6a51a3;\n            color:  #f1f1f1;\n        }#T_23782_row1_col4{\n            background-color:  #7d77b7;\n            color:  #000000;\n        }#T_23782_row2_col2{\n            background-color:  #8f8cc1;\n            color:  #000000;\n        }#T_23782_row2_col4{\n            background-color:  #674ba0;\n            color:  #f1f1f1;\n        }#T_23782_row2_col5,#T_23782_row13_col4,#T_23782_row14_col2,#T_23782_row14_col3{\n            background-color:  #fcfbfd;\n            color:  #000000;\n        }#T_23782_row3_col2{\n            background-color:  #9490c3;\n            color:  #000000;\n        }#T_23782_row3_col3,#T_23782_row5_col4{\n            background-color:  #6c55a5;\n            color:  #f1f1f1;\n        }#T_23782_row3_col4{\n            background-color:  #65479e;\n            color:  #f1f1f1;\n        }#T_23782_row3_col5{\n            background-color:  #efedf5;\n            color:  #000000;\n        }#T_23782_row4_col2{\n            background-color:  #9c98c7;\n            color:  #000000;\n        }#T_23782_row4_col3,#T_23782_row8_col3,#T_23782_row14_col4{\n            background-color:  #51228d;\n            color:  #f1f1f1;\n        }#T_23782_row4_col4{\n            background-color:  #5d3897;\n            color:  #f1f1f1;\n        }#T_23782_row4_col5,#T_23782_row13_col2{\n            background-color:  #cacae3;\n            color:  #000000;\n        }#T_23782_row5_col2{\n            background-color:  #9e9ac8;\n            color:  #000000;\n        }#T_23782_row5_col3{\n            background-color:  #8b87bf;\n            color:  #000000;\n        }#T_23782_row5_col5,#T_23782_row6_col4{\n            background-color:  #440a82;\n            color:  #f1f1f1;\n        }#T_23782_row6_col2{\n            background-color:  #a09dca;\n            color:  #000000;\n        }#T_23782_row6_col3{\n            background-color:  #9390c3;\n            color:  #000000;\n        }#T_23782_row6_col5{\n            background-color:  #807cba;\n            color:  #000000;\n        }#T_23782_row7_col2{\n            background-color:  #a3a0cb;\n            color:  #000000;\n        }#T_23782_row7_col3{\n            background-color:  #c7c8e1;\n            color:  #000000;\n        }#T_23782_row7_col4{\n            background-color:  #4a1486;\n            color:  #f1f1f1;\n        }#T_23782_row7_col5{\n            background-color:  #8380bb;\n            color:  #000000;\n        }#T_23782_row8_col2{\n            background-color:  #aeadd3;\n            color:  #000000;\n        }#T_23782_row8_col5{\n            background-color:  #b3b3d6;\n            color:  #000000;\n        }#T_23782_row9_col2{\n            background-color:  #afaed4;\n            color:  #000000;\n        }#T_23782_row9_col3{\n            background-color:  #613f9a;\n            color:  #f1f1f1;\n        }#T_23782_row9_col4{\n            background-color:  #d6d6e9;\n            color:  #000000;\n        }#T_23782_row9_col5{\n            background-color:  #460d83;\n            color:  #f1f1f1;\n        }#T_23782_row10_col2{\n            background-color:  #bcbddc;\n            color:  #000000;\n        }#T_23782_row10_col3{\n            background-color:  #7a71b4;\n            color:  #000000;\n        }#T_23782_row10_col4{\n            background-color:  #918ec2;\n            color:  #000000;\n        }#T_23782_row10_col5{\n            background-color:  #593093;\n            color:  #f1f1f1;\n        }#T_23782_row11_col2{\n            background-color:  #bebfdd;\n            color:  #000000;\n        }#T_23782_row11_col3,#T_23782_row13_col3{\n            background-color:  #5e3a98;\n            color:  #f1f1f1;\n        }#T_23782_row11_col4{\n            background-color:  #a9a7cf;\n            color:  #000000;\n        }#T_23782_row11_col5{\n            background-color:  #450b82;\n            color:  #f1f1f1;\n        }#T_23782_row12_col2{\n            background-color:  #c8c8e2;\n            color:  #000000;\n        }#T_23782_row12_col3{\n            background-color:  #9b97c6;\n            color:  #000000;\n        }#T_23782_row12_col4{\n            background-color:  #b2b2d5;\n            color:  #000000;\n        }#T_23782_row12_col5{\n            background-color:  #8784bd;\n            color:  #000000;\n        }#T_23782_row13_col5{\n            background-color:  #481084;\n            color:  #f1f1f1;\n        }#T_23782_row14_col5{\n            background-color:  #f2f0f7;\n            color:  #000000;\n        }</style><table id=\"T_23782_\" ><thead>    <tr>        <th class=\"blank level0\" ></th>        <th class=\"col_heading level0 col0\" >Review_Date</th>        <th class=\"col_heading level0 col1\" >Line</th>        <th class=\"col_heading level0 col2\" >sector_1</th>        <th class=\"col_heading level0 col3\" >sector_2</th>        <th class=\"col_heading level0 col4\" >sector_3</th>        <th class=\"col_heading level0 col5\" >sector_4</th>        <th class=\"col_heading level0 col6\" >sector_5</th>        <th class=\"col_heading level0 col7\" >sector_6</th>        <th class=\"col_heading level0 col8\" >sector_7</th>        <th class=\"col_heading level0 col9\" >sector_8</th>        <th class=\"col_heading level0 col10\" >sector_9</th>        <th class=\"col_heading level0 col11\" >lap_time</th>    </tr></thead><tbody>\n                <tr>\n                        <th id=\"T_23782_level0_row0\" class=\"row_heading level0 row0\" >43</th>\n                        <td id=\"T_23782_row0_col0\" class=\"data row0 col0\" >2021-07-08 00:00:00</td>\n                        <td id=\"T_23782_row0_col1\" class=\"data row0 col1\" >AL5 Packaging 1</td>\n                        <td id=\"T_23782_row0_col2\" class=\"data row0 col2\" >-0.47</td>\n                        <td id=\"T_23782_row0_col3\" class=\"data row0 col3\" >0.19</td>\n                        <td id=\"T_23782_row0_col4\" class=\"data row0 col4\" >0.24</td>\n                        <td id=\"T_23782_row0_col5\" class=\"data row0 col5\" >0.07</td>\n                        <td id=\"T_23782_row0_col6\" class=\"data row0 col6\" >0.000000</td>\n                        <td id=\"T_23782_row0_col7\" class=\"data row0 col7\" >0.000000</td>\n                        <td id=\"T_23782_row0_col8\" class=\"data row0 col8\" >0.000000</td>\n                        <td id=\"T_23782_row0_col9\" class=\"data row0 col9\" >0.000000</td>\n                        <td id=\"T_23782_row0_col10\" class=\"data row0 col10\" >0.000000</td>\n                        <td id=\"T_23782_row0_col11\" class=\"data row0 col11\" >89.559946</td>\n            </tr>\n            <tr>\n                        <th id=\"T_23782_level0_row1\" class=\"row_heading level0 row1\" >56</th>\n                        <td id=\"T_23782_row1_col0\" class=\"data row1 col0\" >2021-07-08 00:00:00</td>\n                        <td id=\"T_23782_row1_col1\" class=\"data row1 col1\" >SUPPO Packaging Line</td>\n                        <td id=\"T_23782_row1_col2\" class=\"data row1 col2\" >-0.17</td>\n                        <td id=\"T_23782_row1_col3\" class=\"data row1 col3\" >0.07</td>\n                        <td id=\"T_23782_row1_col4\" class=\"data row1 col4\" >0.24</td>\n                        <td id=\"T_23782_row1_col5\" class=\"data row1 col5\" >0.06</td>\n                        <td id=\"T_23782_row1_col6\" class=\"data row1 col6\" >0.000000</td>\n                        <td id=\"T_23782_row1_col7\" class=\"data row1 col7\" >0.000000</td>\n                        <td id=\"T_23782_row1_col8\" class=\"data row1 col8\" >0.000000</td>\n                        <td id=\"T_23782_row1_col9\" class=\"data row1 col9\" >0.000000</td>\n                        <td id=\"T_23782_row1_col10\" class=\"data row1 col10\" >0.000000</td>\n                        <td id=\"T_23782_row1_col11\" class=\"data row1 col11\" >89.318502</td>\n            </tr>\n            <tr>\n                        <th id=\"T_23782_level0_row2\" class=\"row_heading level0 row2\" >50</th>\n                        <td id=\"T_23782_row2_col0\" class=\"data row2 col0\" >2021-07-08 00:00:00</td>\n                        <td id=\"T_23782_row2_col1\" class=\"data row2 col1\" >L25 Packaging Line</td>\n                        <td id=\"T_23782_row2_col2\" class=\"data row2 col2\" >-0.03</td>\n                        <td id=\"T_23782_row2_col3\" class=\"data row2 col3\" >0.02</td>\n                        <td id=\"T_23782_row2_col4\" class=\"data row2 col4\" >0.20</td>\n                        <td id=\"T_23782_row2_col5\" class=\"data row2 col5\" >0.25</td>\n                        <td id=\"T_23782_row2_col6\" class=\"data row2 col6\" >0.000000</td>\n                        <td id=\"T_23782_row2_col7\" class=\"data row2 col7\" >0.000000</td>\n                        <td id=\"T_23782_row2_col8\" class=\"data row2 col8\" >0.000000</td>\n                        <td id=\"T_23782_row2_col9\" class=\"data row2 col9\" >0.000000</td>\n                        <td id=\"T_23782_row2_col10\" class=\"data row2 col10\" >0.000000</td>\n                        <td id=\"T_23782_row2_col11\" class=\"data row2 col11\" >89.862601</td>\n            </tr>\n            <tr>\n                        <th id=\"T_23782_level0_row3\" class=\"row_heading level0 row3\" >47</th>\n                        <td id=\"T_23782_row3_col0\" class=\"data row3 col0\" >2021-07-08 00:00:00</td>\n                        <td id=\"T_23782_row3_col1\" class=\"data row3 col1\" >GAMMA1</td>\n                        <td id=\"T_23782_row3_col2\" class=\"data row3 col2\" >-0.01</td>\n                        <td id=\"T_23782_row3_col3\" class=\"data row3 col3\" >0.07</td>\n                        <td id=\"T_23782_row3_col4\" class=\"data row3 col4\" >0.19</td>\n                        <td id=\"T_23782_row3_col5\" class=\"data row3 col5\" >0.23</td>\n                        <td id=\"T_23782_row3_col6\" class=\"data row3 col6\" >0.000000</td>\n                        <td id=\"T_23782_row3_col7\" class=\"data row3 col7\" >0.000000</td>\n                        <td id=\"T_23782_row3_col8\" class=\"data row3 col8\" >0.000000</td>\n                        <td id=\"T_23782_row3_col9\" class=\"data row3 col9\" >0.000000</td>\n                        <td id=\"T_23782_row3_col10\" class=\"data row3 col10\" >0.000000</td>\n                        <td id=\"T_23782_row3_col11\" class=\"data row3 col11\" >89.979194</td>\n            </tr>\n            <tr>\n                        <th id=\"T_23782_level0_row4\" class=\"row_heading level0 row4\" >48</th>\n                        <td id=\"T_23782_row4_col0\" class=\"data row4 col0\" >2021-07-08 00:00:00</td>\n                        <td id=\"T_23782_row4_col1\" class=\"data row4 col1\" >IMA C80/2</td>\n                        <td id=\"T_23782_row4_col2\" class=\"data row4 col2\" >0.02</td>\n                        <td id=\"T_23782_row4_col3\" class=\"data row4 col3\" >0.04</td>\n                        <td id=\"T_23782_row4_col4\" class=\"data row4 col4\" >0.18</td>\n                        <td id=\"T_23782_row4_col5\" class=\"data row4 col5\" >0.19</td>\n                        <td id=\"T_23782_row4_col6\" class=\"data row4 col6\" >0.000000</td>\n                        <td id=\"T_23782_row4_col7\" class=\"data row4 col7\" >0.000000</td>\n                        <td id=\"T_23782_row4_col8\" class=\"data row4 col8\" >0.000000</td>\n                        <td id=\"T_23782_row4_col9\" class=\"data row4 col9\" >0.000000</td>\n                        <td id=\"T_23782_row4_col10\" class=\"data row4 col10\" >0.000000</td>\n                        <td id=\"T_23782_row4_col11\" class=\"data row4 col11\" >89.674113</td>\n            </tr>\n            <tr>\n                        <th id=\"T_23782_level0_row5\" class=\"row_heading level0 row5\" >51</th>\n                        <td id=\"T_23782_row5_col0\" class=\"data row5 col0\" >2021-07-08 00:00:00</td>\n                        <td id=\"T_23782_row5_col1\" class=\"data row5 col1\" >LINE 01 - UHLMANN 1880</td>\n                        <td id=\"T_23782_row5_col2\" class=\"data row5 col2\" >0.03</td>\n                        <td id=\"T_23782_row5_col3\" class=\"data row5 col3\" >0.11</td>\n                        <td id=\"T_23782_row5_col4\" class=\"data row5 col4\" >0.21</td>\n                        <td id=\"T_23782_row5_col5\" class=\"data row5 col5\" >0.06</td>\n                        <td id=\"T_23782_row5_col6\" class=\"data row5 col6\" >0.000000</td>\n                        <td id=\"T_23782_row5_col7\" class=\"data row5 col7\" >0.000000</td>\n                        <td id=\"T_23782_row5_col8\" class=\"data row5 col8\" >0.000000</td>\n                        <td id=\"T_23782_row5_col9\" class=\"data row5 col9\" >0.000000</td>\n                        <td id=\"T_23782_row5_col10\" class=\"data row5 col10\" >0.000000</td>\n                        <td id=\"T_23782_row5_col11\" class=\"data row5 col11\" >89.547483</td>\n            </tr>\n            <tr>\n                        <th id=\"T_23782_level0_row6\" class=\"row_heading level0 row6\" >54</th>\n                        <td id=\"T_23782_row6_col0\" class=\"data row6 col0\" >2021-07-08 00:00:00</td>\n                        <td id=\"T_23782_row6_col1\" class=\"data row6 col1\" >M22 Filling</td>\n                        <td id=\"T_23782_row6_col2\" class=\"data row6 col2\" >0.04</td>\n                        <td id=\"T_23782_row6_col3\" class=\"data row6 col3\" >0.11</td>\n                        <td id=\"T_23782_row6_col4\" class=\"data row6 col4\" >0.13</td>\n                        <td id=\"T_23782_row6_col5\" class=\"data row6 col5\" >0.13</td>\n                        <td id=\"T_23782_row6_col6\" class=\"data row6 col6\" >0.000000</td>\n                        <td id=\"T_23782_row6_col7\" class=\"data row6 col7\" >0.000000</td>\n                        <td id=\"T_23782_row6_col8\" class=\"data row6 col8\" >0.000000</td>\n                        <td id=\"T_23782_row6_col9\" class=\"data row6 col9\" >0.000000</td>\n                        <td id=\"T_23782_row6_col10\" class=\"data row6 col10\" >0.000000</td>\n                        <td id=\"T_23782_row6_col11\" class=\"data row6 col11\" >89.522488</td>\n            </tr>\n            <tr>\n                        <th id=\"T_23782_level0_row7\" class=\"row_heading level0 row7\" >53</th>\n                        <td id=\"T_23782_row7_col0\" class=\"data row7 col0\" >2021-07-08 00:00:00</td>\n                        <td id=\"T_23782_row7_col1\" class=\"data row7 col1\" >M21 Filling</td>\n                        <td id=\"T_23782_row7_col2\" class=\"data row7 col2\" >0.05</td>\n                        <td id=\"T_23782_row7_col3\" class=\"data row7 col3\" >0.16</td>\n                        <td id=\"T_23782_row7_col4\" class=\"data row7 col4\" >0.14</td>\n                        <td id=\"T_23782_row7_col5\" class=\"data row7 col5\" >0.13</td>\n                        <td id=\"T_23782_row7_col6\" class=\"data row7 col6\" >0.000000</td>\n                        <td id=\"T_23782_row7_col7\" class=\"data row7 col7\" >0.000000</td>\n                        <td id=\"T_23782_row7_col8\" class=\"data row7 col8\" >0.000000</td>\n                        <td id=\"T_23782_row7_col9\" class=\"data row7 col9\" >0.000000</td>\n                        <td id=\"T_23782_row7_col10\" class=\"data row7 col10\" >0.000000</td>\n                        <td id=\"T_23782_row7_col11\" class=\"data row7 col11\" >89.760825</td>\n            </tr>\n            <tr>\n                        <th id=\"T_23782_level0_row8\" class=\"row_heading level0 row8\" >49</th>\n                        <td id=\"T_23782_row8_col0\" class=\"data row8 col0\" >2021-07-08 00:00:00</td>\n                        <td id=\"T_23782_row8_col1\" class=\"data row8 col1\" >L18 Packaging Line</td>\n                        <td id=\"T_23782_row8_col2\" class=\"data row8 col2\" >0.10</td>\n                        <td id=\"T_23782_row8_col3\" class=\"data row8 col3\" >0.04</td>\n                        <td id=\"T_23782_row8_col4\" class=\"data row8 col4\" >0.11</td>\n                        <td id=\"T_23782_row8_col5\" class=\"data row8 col5\" >0.17</td>\n                        <td id=\"T_23782_row8_col6\" class=\"data row8 col6\" >0.000000</td>\n                        <td id=\"T_23782_row8_col7\" class=\"data row8 col7\" >0.000000</td>\n                        <td id=\"T_23782_row8_col8\" class=\"data row8 col8\" >0.000000</td>\n                        <td id=\"T_23782_row8_col9\" class=\"data row8 col9\" >0.000000</td>\n                        <td id=\"T_23782_row8_col10\" class=\"data row8 col10\" >0.000000</td>\n                        <td id=\"T_23782_row8_col11\" class=\"data row8 col11\" >89.425327</td>\n            </tr>\n            <tr>\n                        <th id=\"T_23782_level0_row9\" class=\"row_heading level0 row9\" >46</th>\n                        <td id=\"T_23782_row9_col0\" class=\"data row9 col0\" >2021-07-08 00:00:00</td>\n                        <td id=\"T_23782_row9_col1\" class=\"data row9 col1\" >C9 Packaging Line</td>\n                        <td id=\"T_23782_row9_col2\" class=\"data row9 col2\" >0.11</td>\n                        <td id=\"T_23782_row9_col3\" class=\"data row9 col3\" >0.06</td>\n                        <td id=\"T_23782_row9_col4\" class=\"data row9 col4\" >0.38</td>\n                        <td id=\"T_23782_row9_col5\" class=\"data row9 col5\" >0.07</td>\n                        <td id=\"T_23782_row9_col6\" class=\"data row9 col6\" >0.000000</td>\n                        <td id=\"T_23782_row9_col7\" class=\"data row9 col7\" >0.000000</td>\n                        <td id=\"T_23782_row9_col8\" class=\"data row9 col8\" >0.000000</td>\n                        <td id=\"T_23782_row9_col9\" class=\"data row9 col9\" >0.000000</td>\n                        <td id=\"T_23782_row9_col10\" class=\"data row9 col10\" >0.000000</td>\n                        <td id=\"T_23782_row9_col11\" class=\"data row9 col11\" >90.130804</td>\n            </tr>\n            <tr>\n                        <th id=\"T_23782_level0_row10\" class=\"row_heading level0 row10\" >55</th>\n                        <td id=\"T_23782_row10_col0\" class=\"data row10 col0\" >2021-07-08 00:00:00</td>\n                        <td id=\"T_23782_row10_col1\" class=\"data row10 col1\" >MEDISEAL PURAN</td>\n                        <td id=\"T_23782_row10_col2\" class=\"data row10 col2\" >0.16</td>\n                        <td id=\"T_23782_row10_col3\" class=\"data row10 col3\" >0.09</td>\n                        <td id=\"T_23782_row10_col4\" class=\"data row10 col4\" >0.28</td>\n                        <td id=\"T_23782_row10_col5\" class=\"data row10 col5\" >0.09</td>\n                        <td id=\"T_23782_row10_col6\" class=\"data row10 col6\" >0.000000</td>\n                        <td id=\"T_23782_row10_col7\" class=\"data row10 col7\" >0.000000</td>\n                        <td id=\"T_23782_row10_col8\" class=\"data row10 col8\" >0.000000</td>\n                        <td id=\"T_23782_row10_col9\" class=\"data row10 col9\" >0.000000</td>\n                        <td id=\"T_23782_row10_col10\" class=\"data row10 col10\" >0.000000</td>\n                        <td id=\"T_23782_row10_col11\" class=\"data row10 col11\" >89.971539</td>\n            </tr>\n            <tr>\n                        <th id=\"T_23782_level0_row11\" class=\"row_heading level0 row11\" >44</th>\n                        <td id=\"T_23782_row11_col0\" class=\"data row11 col0\" >2021-07-08 00:00:00</td>\n                        <td id=\"T_23782_row11_col1\" class=\"data row11 col1\" >AL6</td>\n                        <td id=\"T_23782_row11_col2\" class=\"data row11 col2\" >0.17</td>\n                        <td id=\"T_23782_row11_col3\" class=\"data row11 col3\" >0.06</td>\n                        <td id=\"T_23782_row11_col4\" class=\"data row11 col4\" >0.31</td>\n                        <td id=\"T_23782_row11_col5\" class=\"data row11 col5\" >0.06</td>\n                        <td id=\"T_23782_row11_col6\" class=\"data row11 col6\" >0.000000</td>\n                        <td id=\"T_23782_row11_col7\" class=\"data row11 col7\" >0.000000</td>\n                        <td id=\"T_23782_row11_col8\" class=\"data row11 col8\" >0.000000</td>\n                        <td id=\"T_23782_row11_col9\" class=\"data row11 col9\" >0.000000</td>\n                        <td id=\"T_23782_row11_col10\" class=\"data row11 col10\" >0.000000</td>\n                        <td id=\"T_23782_row11_col11\" class=\"data row11 col11\" >89.902144</td>\n            </tr>\n            <tr>\n                        <th id=\"T_23782_level0_row12\" class=\"row_heading level0 row12\" >57</th>\n                        <td id=\"T_23782_row12_col0\" class=\"data row12 col0\" >2021-07-08 00:00:00</td>\n                        <td id=\"T_23782_row12_col1\" class=\"data row12 col1\" >TR200 Packaging Line</td>\n                        <td id=\"T_23782_row12_col2\" class=\"data row12 col2\" >0.21</td>\n                        <td id=\"T_23782_row12_col3\" class=\"data row12 col3\" >0.12</td>\n                        <td id=\"T_23782_row12_col4\" class=\"data row12 col4\" >0.33</td>\n                        <td id=\"T_23782_row12_col5\" class=\"data row12 col5\" >0.14</td>\n                        <td id=\"T_23782_row12_col6\" class=\"data row12 col6\" >0.000000</td>\n                        <td id=\"T_23782_row12_col7\" class=\"data row12 col7\" >0.000000</td>\n                        <td id=\"T_23782_row12_col8\" class=\"data row12 col8\" >0.000000</td>\n                        <td id=\"T_23782_row12_col9\" class=\"data row12 col9\" >0.000000</td>\n                        <td id=\"T_23782_row12_col10\" class=\"data row12 col10\" >0.000000</td>\n                        <td id=\"T_23782_row12_col11\" class=\"data row12 col11\" >90.529634</td>\n            </tr>\n            <tr>\n                        <th id=\"T_23782_level0_row13\" class=\"row_heading level0 row13\" >45</th>\n                        <td id=\"T_23782_row13_col0\" class=\"data row13 col0\" >2021-07-08 00:00:00</td>\n                        <td id=\"T_23782_row13_col1\" class=\"data row13 col1\" >C2 Packaging Line</td>\n                        <td id=\"T_23782_row13_col2\" class=\"data row13 col2\" >0.22</td>\n                        <td id=\"T_23782_row13_col3\" class=\"data row13 col3\" >0.06</td>\n                        <td id=\"T_23782_row13_col4\" class=\"data row13 col4\" >0.48</td>\n                        <td id=\"T_23782_row13_col5\" class=\"data row13 col5\" >0.07</td>\n                        <td id=\"T_23782_row13_col6\" class=\"data row13 col6\" >0.000000</td>\n                        <td id=\"T_23782_row13_col7\" class=\"data row13 col7\" >0.000000</td>\n                        <td id=\"T_23782_row13_col8\" class=\"data row13 col8\" >0.000000</td>\n                        <td id=\"T_23782_row13_col9\" class=\"data row13 col9\" >0.000000</td>\n                        <td id=\"T_23782_row13_col10\" class=\"data row13 col10\" >0.000000</td>\n                        <td id=\"T_23782_row13_col11\" class=\"data row13 col11\" >90.622942</td>\n            </tr>\n            <tr>\n                        <th id=\"T_23782_level0_row14\" class=\"row_heading level0 row14\" >52</th>\n                        <td id=\"T_23782_row14_col0\" class=\"data row14 col0\" >2021-07-08 00:00:00</td>\n                        <td id=\"T_23782_row14_col1\" class=\"data row14 col1\" >M18 Filling</td>\n                        <td id=\"T_23782_row14_col2\" class=\"data row14 col2\" >0.54</td>\n                        <td id=\"T_23782_row14_col3\" class=\"data row14 col3\" >0.22</td>\n                        <td id=\"T_23782_row14_col4\" class=\"data row14 col4\" >0.16</td>\n                        <td id=\"T_23782_row14_col5\" class=\"data row14 col5\" >0.23</td>\n                        <td id=\"T_23782_row14_col6\" class=\"data row14 col6\" >0.000000</td>\n                        <td id=\"T_23782_row14_col7\" class=\"data row14 col7\" >0.000000</td>\n                        <td id=\"T_23782_row14_col8\" class=\"data row14 col8\" >0.000000</td>\n                        <td id=\"T_23782_row14_col9\" class=\"data row14 col9\" >0.000000</td>\n                        <td id=\"T_23782_row14_col10\" class=\"data row14 col10\" >0.000000</td>\n                        <td id=\"T_23782_row14_col11\" class=\"data row14 col11\" >90.979137</td>\n            </tr>\n    </tbody></table>"
     },
     "metadata": {},
     "execution_count": 171
    }
   ],
   "source": [
    "all_sectors[all_sectors.Review_Date == '2021-07-08'].sort_values('sector_1').style.background_gradient(subset=['sector_1','sector_2','sector_3','sector_4'], cmap='Purples_r')\\\n",
    "    .format({'sector_1':'{:,.2f}'})\\\n",
    "    .format({'sector_2':'{:,.2f}'})\\\n",
    "    .format({'sector_3':'{:,.2f}'})\\\n",
    "    .format({'sector_4':'{:,.2f}'})"
   ]
  },
  {
   "cell_type": "code",
   "execution_count": 41,
   "metadata": {},
   "outputs": [],
   "source": [
    "all_sectors['lap_time'] = all_sectors['lap_time'] + 88"
   ]
  },
  {
   "cell_type": "code",
   "execution_count": 178,
   "metadata": {},
   "outputs": [
    {
     "output_type": "execute_result",
     "data": {
      "text/plain": [
       "        OEE %  Changeover\n",
       "156  0.638877    0.040598\n",
       "169  0.661879    0.037814\n",
       "173  0.620440    0.041189\n",
       "201  0.000000    1.000000"
      ],
      "text/html": "<div>\n<style scoped>\n    .dataframe tbody tr th:only-of-type {\n        vertical-align: middle;\n    }\n\n    .dataframe tbody tr th {\n        vertical-align: top;\n    }\n\n    .dataframe thead th {\n        text-align: right;\n    }\n</style>\n<table border=\"1\" class=\"dataframe\">\n  <thead>\n    <tr style=\"text-align: right;\">\n      <th></th>\n      <th>OEE %</th>\n      <th>Changeover</th>\n    </tr>\n  </thead>\n  <tbody>\n    <tr>\n      <th>156</th>\n      <td>0.638877</td>\n      <td>0.040598</td>\n    </tr>\n    <tr>\n      <th>169</th>\n      <td>0.661879</td>\n      <td>0.037814</td>\n    </tr>\n    <tr>\n      <th>173</th>\n      <td>0.620440</td>\n      <td>0.041189</td>\n    </tr>\n    <tr>\n      <th>201</th>\n      <td>0.000000</td>\n      <td>1.000000</td>\n    </tr>\n  </tbody>\n</table>\n</div>"
     },
     "metadata": {},
     "execution_count": 178
    }
   ],
   "source": [
    "df_weekly[['OEE %','Changeover']][(df_weekly.Line.str.contains('M18')) & (df_weekly.Review_Date == '2021-07-08')]"
   ]
  },
  {
   "cell_type": "code",
   "execution_count": 43,
   "metadata": {},
   "outputs": [
    {
     "output_type": "execute_result",
     "data": {
      "text/plain": [
       "            Line     OEE %  rolling_std  Unplanned_tech_loss  \\\n",
       "9    M18 Filling  0.046124          NaN             0.114818   \n",
       "18   M18 Filling  0.463021     0.294791             0.240339   \n",
       "32   M18 Filling  0.386723     0.221973             0.069673   \n",
       "47   M18 Filling  0.352420     0.183226             0.485988   \n",
       "63   M18 Filling  0.530336     0.079604             0.311511   \n",
       "78   M18 Filling  0.562696     0.103957             0.227898   \n",
       "92   M18 Filling  0.698908     0.142578             0.108069   \n",
       "98   M18 Filling  0.000000     0.307459             0.000000   \n",
       "116  M18 Filling  0.191951     0.323388             0.080336   \n",
       "130  M18 Filling  0.537044     0.318333             0.216673   \n",
       "156  M18 Filling  0.638877     0.297577             0.222576   \n",
       "169  M18 Filling  0.661879     0.217207             0.200207   \n",
       "173  M18 Filling  0.620440     0.054387             0.198006   \n",
       "201  M18 Filling  0.000000     0.320648             0.000000   \n",
       "\n",
       "     Changeover_rolling_mean Review_Date       Date  \n",
       "9                   0.789781  2021-04-15 2021-04-04  \n",
       "18                  0.442593  2021-04-15 2021-04-11  \n",
       "32                  0.425201  2021-05-13 2021-04-18  \n",
       "47                  0.327211  2021-05-13 2021-04-25  \n",
       "63                  0.137063  2021-05-13 2021-05-02  \n",
       "78                  0.122545  2021-05-13 2021-05-09  \n",
       "92                  0.024941  2021-06-10 2021-05-16  \n",
       "98                  0.266630  2021-06-10 2021-05-23  \n",
       "116                 0.415980  2021-06-10 2021-05-30  \n",
       "130                 0.416194  2021-06-10 2021-06-06  \n",
       "156                 0.426343  2021-07-08 2021-06-13  \n",
       "169                 0.185797  2021-07-08 2021-06-20  \n",
       "173                 0.039446  2021-07-08 2021-06-27  \n",
       "201                 0.279900  2021-07-08 2021-07-04  "
      ],
      "text/html": "<div>\n<style scoped>\n    .dataframe tbody tr th:only-of-type {\n        vertical-align: middle;\n    }\n\n    .dataframe tbody tr th {\n        vertical-align: top;\n    }\n\n    .dataframe thead th {\n        text-align: right;\n    }\n</style>\n<table border=\"1\" class=\"dataframe\">\n  <thead>\n    <tr style=\"text-align: right;\">\n      <th></th>\n      <th>Line</th>\n      <th>OEE %</th>\n      <th>rolling_std</th>\n      <th>Unplanned_tech_loss</th>\n      <th>Changeover_rolling_mean</th>\n      <th>Review_Date</th>\n      <th>Date</th>\n    </tr>\n  </thead>\n  <tbody>\n    <tr>\n      <th>9</th>\n      <td>M18 Filling</td>\n      <td>0.046124</td>\n      <td>NaN</td>\n      <td>0.114818</td>\n      <td>0.789781</td>\n      <td>2021-04-15</td>\n      <td>2021-04-04</td>\n    </tr>\n    <tr>\n      <th>18</th>\n      <td>M18 Filling</td>\n      <td>0.463021</td>\n      <td>0.294791</td>\n      <td>0.240339</td>\n      <td>0.442593</td>\n      <td>2021-04-15</td>\n      <td>2021-04-11</td>\n    </tr>\n    <tr>\n      <th>32</th>\n      <td>M18 Filling</td>\n      <td>0.386723</td>\n      <td>0.221973</td>\n      <td>0.069673</td>\n      <td>0.425201</td>\n      <td>2021-05-13</td>\n      <td>2021-04-18</td>\n    </tr>\n    <tr>\n      <th>47</th>\n      <td>M18 Filling</td>\n      <td>0.352420</td>\n      <td>0.183226</td>\n      <td>0.485988</td>\n      <td>0.327211</td>\n      <td>2021-05-13</td>\n      <td>2021-04-25</td>\n    </tr>\n    <tr>\n      <th>63</th>\n      <td>M18 Filling</td>\n      <td>0.530336</td>\n      <td>0.079604</td>\n      <td>0.311511</td>\n      <td>0.137063</td>\n      <td>2021-05-13</td>\n      <td>2021-05-02</td>\n    </tr>\n    <tr>\n      <th>78</th>\n      <td>M18 Filling</td>\n      <td>0.562696</td>\n      <td>0.103957</td>\n      <td>0.227898</td>\n      <td>0.122545</td>\n      <td>2021-05-13</td>\n      <td>2021-05-09</td>\n    </tr>\n    <tr>\n      <th>92</th>\n      <td>M18 Filling</td>\n      <td>0.698908</td>\n      <td>0.142578</td>\n      <td>0.108069</td>\n      <td>0.024941</td>\n      <td>2021-06-10</td>\n      <td>2021-05-16</td>\n    </tr>\n    <tr>\n      <th>98</th>\n      <td>M18 Filling</td>\n      <td>0.000000</td>\n      <td>0.307459</td>\n      <td>0.000000</td>\n      <td>0.266630</td>\n      <td>2021-06-10</td>\n      <td>2021-05-23</td>\n    </tr>\n    <tr>\n      <th>116</th>\n      <td>M18 Filling</td>\n      <td>0.191951</td>\n      <td>0.323388</td>\n      <td>0.080336</td>\n      <td>0.415980</td>\n      <td>2021-06-10</td>\n      <td>2021-05-30</td>\n    </tr>\n    <tr>\n      <th>130</th>\n      <td>M18 Filling</td>\n      <td>0.537044</td>\n      <td>0.318333</td>\n      <td>0.216673</td>\n      <td>0.416194</td>\n      <td>2021-06-10</td>\n      <td>2021-06-06</td>\n    </tr>\n    <tr>\n      <th>156</th>\n      <td>M18 Filling</td>\n      <td>0.638877</td>\n      <td>0.297577</td>\n      <td>0.222576</td>\n      <td>0.426343</td>\n      <td>2021-07-08</td>\n      <td>2021-06-13</td>\n    </tr>\n    <tr>\n      <th>169</th>\n      <td>M18 Filling</td>\n      <td>0.661879</td>\n      <td>0.217207</td>\n      <td>0.200207</td>\n      <td>0.185797</td>\n      <td>2021-07-08</td>\n      <td>2021-06-20</td>\n    </tr>\n    <tr>\n      <th>173</th>\n      <td>M18 Filling</td>\n      <td>0.620440</td>\n      <td>0.054387</td>\n      <td>0.198006</td>\n      <td>0.039446</td>\n      <td>2021-07-08</td>\n      <td>2021-06-27</td>\n    </tr>\n    <tr>\n      <th>201</th>\n      <td>M18 Filling</td>\n      <td>0.000000</td>\n      <td>0.320648</td>\n      <td>0.000000</td>\n      <td>0.279900</td>\n      <td>2021-07-08</td>\n      <td>2021-07-04</td>\n    </tr>\n  </tbody>\n</table>\n</div>"
     },
     "metadata": {},
     "execution_count": 43
    }
   ],
   "source": [
    "df_weekly[['Line','OEE %','rolling_std','Unplanned_tech_loss','Changeover_rolling_mean','Review_Date','Date']][df_weekly.Line.str.contains('M18')]"
   ]
  },
  {
   "cell_type": "code",
   "execution_count": 180,
   "metadata": {},
   "outputs": [
    {
     "output_type": "execute_result",
     "data": {
      "text/plain": [
       "<pandas.io.formats.style.Styler at 0x21533b81c40>"
      ],
      "text/html": "<style  type=\"text/css\" >\n#T_b9e5e_row0_col1,#T_b9e5e_row0_col2,#T_b9e5e_row8_col3,#T_b9e5e_row10_col4,#T_b9e5e_row13_col2{\n            background-color:  #3f007d;\n            color:  #f1f1f1;\n        }#T_b9e5e_row0_col3,#T_b9e5e_row7_col2{\n            background-color:  #776ab0;\n            color:  #000000;\n        }#T_b9e5e_row0_col4,#T_b9e5e_row10_col2{\n            background-color:  #786db2;\n            color:  #000000;\n        }#T_b9e5e_row0_col5{\n            background-color:  #cfecc9;\n            color:  #000000;\n        }#T_b9e5e_row0_col6,#T_b9e5e_row0_col7,#T_b9e5e_row9_col5,#T_b9e5e_row9_col8{\n            background-color:  #f7fcf5;\n            color:  #000000;\n        }#T_b9e5e_row0_col8,#T_b9e5e_row3_col7{\n            background-color:  #0d7836;\n            color:  #f1f1f1;\n        }#T_b9e5e_row0_col9{\n            background-color:  #cecece;\n            color:  #000000;\n        }#T_b9e5e_row0_col10{\n            background-color:  #6a6a6a;\n            color:  #000000;\n        }#T_b9e5e_row0_col11{\n            background-color:  #6d6d6d;\n            color:  #000000;\n        }#T_b9e5e_row0_col12{\n            background-color:  #777777;\n            color:  #000000;\n        }#T_b9e5e_row0_col13,#T_b9e5e_row1_col13{\n            background-color:  #932f03;\n            color:  #f1f1f1;\n        }#T_b9e5e_row0_col14,#T_b9e5e_row13_col16{\n            background-color:  #b83c02;\n            color:  #f1f1f1;\n        }#T_b9e5e_row0_col15{\n            background-color:  #b63c02;\n            color:  #f1f1f1;\n        }#T_b9e5e_row0_col16{\n            background-color:  #b53b02;\n            color:  #f1f1f1;\n        }#T_b9e5e_row1_col1{\n            background-color:  #dedded;\n            color:  #000000;\n        }#T_b9e5e_row1_col2{\n            background-color:  #613f9a;\n            color:  #f1f1f1;\n        }#T_b9e5e_row1_col3,#T_b9e5e_row4_col4{\n            background-color:  #8e8bc1;\n            color:  #000000;\n        }#T_b9e5e_row1_col4{\n            background-color:  #8683bd;\n            color:  #000000;\n        }#T_b9e5e_row1_col5{\n            background-color:  #0c7735;\n            color:  #f1f1f1;\n        }#T_b9e5e_row1_col6{\n            background-color:  #077331;\n            color:  #f1f1f1;\n        }#T_b9e5e_row1_col7{\n            background-color:  #0e7936;\n            color:  #f1f1f1;\n        }#T_b9e5e_row1_col8,#T_b9e5e_row5_col7{\n            background-color:  #006729;\n            color:  #f1f1f1;\n        }#T_b9e5e_row1_col9{\n            background-color:  #656565;\n            color:  #f1f1f1;\n        }#T_b9e5e_row1_col10{\n            background-color:  #c7c7c7;\n            color:  #000000;\n        }#T_b9e5e_row1_col11{\n            background-color:  #f5f5f5;\n            color:  #000000;\n        }#T_b9e5e_row1_col12{\n            background-color:  #aeaeae;\n            color:  #000000;\n        }#T_b9e5e_row1_col14,#T_b9e5e_row8_col14{\n            background-color:  #c34002;\n            color:  #f1f1f1;\n        }#T_b9e5e_row1_col15,#T_b9e5e_row2_col16{\n            background-color:  #942f03;\n            color:  #f1f1f1;\n        }#T_b9e5e_row1_col16{\n            background-color:  #902e04;\n            color:  #f1f1f1;\n        }#T_b9e5e_row2_col1{\n            background-color:  #a19eca;\n            color:  #000000;\n        }#T_b9e5e_row2_col2,#T_b9e5e_row3_col3{\n            background-color:  #9490c3;\n            color:  #000000;\n        }#T_b9e5e_row2_col3,#T_b9e5e_row4_col3{\n            background-color:  #7b74b5;\n            color:  #000000;\n        }#T_b9e5e_row2_col4,#T_b9e5e_row10_col1{\n            background-color:  #adabd2;\n            color:  #000000;\n        }#T_b9e5e_row2_col5{\n            background-color:  #005f26;\n            color:  #f1f1f1;\n        }#T_b9e5e_row2_col6,#T_b9e5e_row5_col5{\n            background-color:  #006027;\n            color:  #f1f1f1;\n        }#T_b9e5e_row2_col7{\n            background-color:  #005120;\n            color:  #f1f1f1;\n        }#T_b9e5e_row2_col8{\n            background-color:  #359e53;\n            color:  #000000;\n        }#T_b9e5e_row2_col9,#T_b9e5e_row2_col10,#T_b9e5e_row2_col11,#T_b9e5e_row2_col12,#T_b9e5e_row3_col11,#T_b9e5e_row4_col11,#T_b9e5e_row13_col9,#T_b9e5e_row14_col12{\n            background-color:  #ffffff;\n            color:  #000000;\n        }#T_b9e5e_row2_col13{\n            background-color:  #812804;\n            color:  #f1f1f1;\n        }#T_b9e5e_row2_col14{\n            background-color:  #ce4401;\n            color:  #f1f1f1;\n        }#T_b9e5e_row2_col15{\n            background-color:  #b93d02;\n            color:  #f1f1f1;\n        }#T_b9e5e_row3_col1{\n            background-color:  #8f8cc1;\n            color:  #000000;\n        }#T_b9e5e_row3_col2{\n            background-color:  #9d99c7;\n            color:  #000000;\n        }#T_b9e5e_row3_col4,#T_b9e5e_row6_col4,#T_b9e5e_row9_col1{\n            background-color:  #8784bd;\n            color:  #000000;\n        }#T_b9e5e_row3_col5,#T_b9e5e_row13_col6{\n            background-color:  #107a37;\n            color:  #f1f1f1;\n        }#T_b9e5e_row3_col6{\n            background-color:  #005522;\n            color:  #f1f1f1;\n        }#T_b9e5e_row3_col8,#T_b9e5e_row4_col5{\n            background-color:  #16803c;\n            color:  #f1f1f1;\n        }#T_b9e5e_row3_col9{\n            background-color:  #dcdcdc;\n            color:  #000000;\n        }#T_b9e5e_row3_col10{\n            background-color:  #e1e1e1;\n            color:  #000000;\n        }#T_b9e5e_row3_col12{\n            background-color:  #c5c5c5;\n            color:  #000000;\n        }#T_b9e5e_row3_col13{\n            background-color:  #832804;\n            color:  #f1f1f1;\n        }#T_b9e5e_row3_col14{\n            background-color:  #c14002;\n            color:  #f1f1f1;\n        }#T_b9e5e_row3_col15{\n            background-color:  #a93703;\n            color:  #f1f1f1;\n        }#T_b9e5e_row3_col16{\n            background-color:  #9e3303;\n            color:  #f1f1f1;\n        }#T_b9e5e_row4_col1{\n            background-color:  #807dba;\n            color:  #000000;\n        }#T_b9e5e_row4_col2{\n            background-color:  #7d78b7;\n            color:  #000000;\n        }#T_b9e5e_row4_col6{\n            background-color:  #3da65a;\n            color:  #000000;\n        }#T_b9e5e_row4_col7{\n            background-color:  #1e8741;\n            color:  #000000;\n        }#T_b9e5e_row4_col8{\n            background-color:  #00692a;\n            color:  #f1f1f1;\n        }#T_b9e5e_row4_col9{\n            background-color:  #1c1c1c;\n            color:  #f1f1f1;\n        }#T_b9e5e_row4_col10{\n            background-color:  #414141;\n            color:  #f1f1f1;\n        }#T_b9e5e_row4_col12{\n            background-color:  #434343;\n            color:  #f1f1f1;\n        }#T_b9e5e_row4_col13{\n            background-color:  #fd9a4e;\n            color:  #000000;\n        }#T_b9e5e_row4_col14{\n            background-color:  #ffeede;\n            color:  #000000;\n        }#T_b9e5e_row4_col15{\n            background-color:  #fdbf86;\n            color:  #000000;\n        }#T_b9e5e_row4_col16{\n            background-color:  #fdd0a2;\n            color:  #000000;\n        }#T_b9e5e_row5_col1{\n            background-color:  #aeacd2;\n            color:  #000000;\n        }#T_b9e5e_row5_col2{\n            background-color:  #705ca9;\n            color:  #f1f1f1;\n        }#T_b9e5e_row5_col3{\n            background-color:  #7262ac;\n            color:  #000000;\n        }#T_b9e5e_row5_col4{\n            background-color:  #8b87bf;\n            color:  #000000;\n        }#T_b9e5e_row5_col6,#T_b9e5e_row6_col7{\n            background-color:  #006529;\n            color:  #f1f1f1;\n        }#T_b9e5e_row5_col8{\n            background-color:  #005b25;\n            color:  #f1f1f1;\n        }#T_b9e5e_row5_col9,#T_b9e5e_row13_col12{\n            background-color:  #565656;\n            color:  #f1f1f1;\n        }#T_b9e5e_row5_col10{\n            background-color:  #757575;\n            color:  #000000;\n        }#T_b9e5e_row5_col11{\n            background-color:  #3c3c3c;\n            color:  #f1f1f1;\n        }#T_b9e5e_row5_col12{\n            background-color:  #5b5b5b;\n            color:  #f1f1f1;\n        }#T_b9e5e_row5_col13{\n            background-color:  #f16913;\n            color:  #000000;\n        }#T_b9e5e_row5_col14{\n            background-color:  #fdc895;\n            color:  #000000;\n        }#T_b9e5e_row5_col15{\n            background-color:  #fdab66;\n            color:  #000000;\n        }#T_b9e5e_row5_col16,#T_b9e5e_row6_col14{\n            background-color:  #fdb97d;\n            color:  #000000;\n        }#T_b9e5e_row6_col1{\n            background-color:  #c8c8e2;\n            color:  #000000;\n        }#T_b9e5e_row6_col2{\n            background-color:  #5c3696;\n            color:  #f1f1f1;\n        }#T_b9e5e_row6_col3{\n            background-color:  #8e8ac0;\n            color:  #000000;\n        }#T_b9e5e_row6_col5{\n            background-color:  #005020;\n            color:  #f1f1f1;\n        }#T_b9e5e_row6_col6{\n            background-color:  #006b2b;\n            color:  #f1f1f1;\n        }#T_b9e5e_row6_col8{\n            background-color:  #00682a;\n            color:  #f1f1f1;\n        }#T_b9e5e_row6_col9,#T_b9e5e_row6_col11,#T_b9e5e_row9_col12,#T_b9e5e_row11_col10{\n            background-color:  #000000;\n            color:  #f1f1f1;\n        }#T_b9e5e_row6_col10{\n            background-color:  #1a1a1a;\n            color:  #f1f1f1;\n        }#T_b9e5e_row6_col12{\n            background-color:  #575757;\n            color:  #f1f1f1;\n        }#T_b9e5e_row6_col13{\n            background-color:  #e15407;\n            color:  #000000;\n        }#T_b9e5e_row6_col15{\n            background-color:  #fd9b50;\n            color:  #000000;\n        }#T_b9e5e_row6_col16{\n            background-color:  #fda660;\n            color:  #000000;\n        }#T_b9e5e_row7_col1{\n            background-color:  #bcbddc;\n            color:  #000000;\n        }#T_b9e5e_row7_col3{\n            background-color:  #7e79b8;\n            color:  #000000;\n        }#T_b9e5e_row7_col4{\n            background-color:  #6e58a7;\n            color:  #f1f1f1;\n        }#T_b9e5e_row7_col5,#T_b9e5e_row7_col6,#T_b9e5e_row7_col7,#T_b9e5e_row7_col8{\n            background-color:  #00441b;\n            color:  #f1f1f1;\n        }#T_b9e5e_row7_col9{\n            background-color:  #737373;\n            color:  #000000;\n        }#T_b9e5e_row7_col10{\n            background-color:  #6c6c6c;\n            color:  #000000;\n        }#T_b9e5e_row7_col11,#T_b9e5e_row12_col11{\n            background-color:  #767676;\n            color:  #000000;\n        }#T_b9e5e_row7_col12{\n            background-color:  #5a5a5a;\n            color:  #f1f1f1;\n        }#T_b9e5e_row7_col13{\n            background-color:  #fc8937;\n            color:  #000000;\n        }#T_b9e5e_row7_col14,#T_b9e5e_row7_col15,#T_b9e5e_row9_col13,#T_b9e5e_row9_col16{\n            background-color:  #fff5eb;\n            color:  #000000;\n        }#T_b9e5e_row7_col16{\n            background-color:  #fee7d1;\n            color:  #000000;\n        }#T_b9e5e_row8_col1{\n            background-color:  #65489f;\n            color:  #f1f1f1;\n        }#T_b9e5e_row8_col2{\n            background-color:  #dedeed;\n            color:  #000000;\n        }#T_b9e5e_row8_col4{\n            background-color:  #bdbedc;\n            color:  #000000;\n        }#T_b9e5e_row8_col5{\n            background-color:  #19833e;\n            color:  #f1f1f1;\n        }#T_b9e5e_row8_col6{\n            background-color:  #2d954d;\n            color:  #000000;\n        }#T_b9e5e_row8_col7{\n            background-color:  #79c67a;\n            color:  #000000;\n        }#T_b9e5e_row8_col8{\n            background-color:  #3fa95c;\n            color:  #000000;\n        }#T_b9e5e_row8_col9{\n            background-color:  #101010;\n            color:  #f1f1f1;\n        }#T_b9e5e_row8_col10{\n            background-color:  #171717;\n            color:  #f1f1f1;\n        }#T_b9e5e_row8_col11{\n            background-color:  #949494;\n            color:  #000000;\n        }#T_b9e5e_row8_col12{\n            background-color:  #b4b4b4;\n            color:  #000000;\n        }#T_b9e5e_row8_col13{\n            background-color:  #912e04;\n            color:  #f1f1f1;\n        }#T_b9e5e_row8_col15{\n            background-color:  #a53603;\n            color:  #f1f1f1;\n        }#T_b9e5e_row8_col16,#T_b9e5e_row9_col15,#T_b9e5e_row13_col13,#T_b9e5e_row13_col14{\n            background-color:  #7f2704;\n            color:  #f1f1f1;\n        }#T_b9e5e_row9_col2{\n            background-color:  #7465ad;\n            color:  #000000;\n        }#T_b9e5e_row9_col3{\n            background-color:  #8c88bf;\n            color:  #000000;\n        }#T_b9e5e_row9_col4,#T_b9e5e_row10_col3,#T_b9e5e_row11_col2,#T_b9e5e_row14_col1{\n            background-color:  #fcfbfd;\n            color:  #000000;\n        }#T_b9e5e_row9_col6{\n            background-color:  #eef8ea;\n            color:  #000000;\n        }#T_b9e5e_row9_col7,#T_b9e5e_row11_col5{\n            background-color:  #17813d;\n            color:  #f1f1f1;\n        }#T_b9e5e_row9_col9{\n            background-color:  #717171;\n            color:  #000000;\n        }#T_b9e5e_row9_col10{\n            background-color:  #7e7e7e;\n            color:  #000000;\n        }#T_b9e5e_row9_col11{\n            background-color:  #727272;\n            color:  #000000;\n        }#T_b9e5e_row9_col14{\n            background-color:  #fdc997;\n            color:  #000000;\n        }#T_b9e5e_row10_col5{\n            background-color:  #4db163;\n            color:  #000000;\n        }#T_b9e5e_row10_col6{\n            background-color:  #88ce87;\n            color:  #000000;\n        }#T_b9e5e_row10_col7{\n            background-color:  #ceecc8;\n            color:  #000000;\n        }#T_b9e5e_row10_col8{\n            background-color:  #75c477;\n            color:  #000000;\n        }#T_b9e5e_row10_col9{\n            background-color:  #060606;\n            color:  #f1f1f1;\n        }#T_b9e5e_row10_col10{\n            background-color:  #222222;\n            color:  #f1f1f1;\n        }#T_b9e5e_row10_col11{\n            background-color:  #383838;\n            color:  #f1f1f1;\n        }#T_b9e5e_row10_col12{\n            background-color:  #626262;\n            color:  #f1f1f1;\n        }#T_b9e5e_row10_col13{\n            background-color:  #c84202;\n            color:  #f1f1f1;\n        }#T_b9e5e_row10_col14{\n            background-color:  #f57622;\n            color:  #000000;\n        }#T_b9e5e_row10_col15{\n            background-color:  #f77a27;\n            color:  #000000;\n        }#T_b9e5e_row10_col16,#T_b9e5e_row14_col16{\n            background-color:  #f57520;\n            color:  #000000;\n        }#T_b9e5e_row11_col1{\n            background-color:  #c5c6e1;\n            color:  #000000;\n        }#T_b9e5e_row11_col3{\n            background-color:  #593093;\n            color:  #f1f1f1;\n        }#T_b9e5e_row11_col4{\n            background-color:  #5e3a98;\n            color:  #f1f1f1;\n        }#T_b9e5e_row11_col6{\n            background-color:  #78c679;\n            color:  #000000;\n        }#T_b9e5e_row11_col7{\n            background-color:  #81ca81;\n            color:  #000000;\n        }#T_b9e5e_row11_col8{\n            background-color:  #309950;\n            color:  #000000;\n        }#T_b9e5e_row11_col9{\n            background-color:  #1d1d1d;\n            color:  #f1f1f1;\n        }#T_b9e5e_row11_col11{\n            background-color:  #5e5e5e;\n            color:  #f1f1f1;\n        }#T_b9e5e_row11_col12{\n            background-color:  #464646;\n            color:  #f1f1f1;\n        }#T_b9e5e_row11_col13{\n            background-color:  #8f2d04;\n            color:  #f1f1f1;\n        }#T_b9e5e_row11_col14{\n            background-color:  #f67925;\n            color:  #000000;\n        }#T_b9e5e_row11_col15{\n            background-color:  #fd9040;\n            color:  #000000;\n        }#T_b9e5e_row11_col16{\n            background-color:  #fd9649;\n            color:  #000000;\n        }#T_b9e5e_row12_col1{\n            background-color:  #dbdbec;\n            color:  #000000;\n        }#T_b9e5e_row12_col2{\n            background-color:  #cecee5;\n            color:  #000000;\n        }#T_b9e5e_row12_col3{\n            background-color:  #4c1888;\n            color:  #f1f1f1;\n        }#T_b9e5e_row12_col4{\n            background-color:  #8a86bf;\n            color:  #000000;\n        }#T_b9e5e_row12_col5{\n            background-color:  #2f984f;\n            color:  #000000;\n        }#T_b9e5e_row12_col6{\n            background-color:  #329b51;\n            color:  #000000;\n        }#T_b9e5e_row12_col7{\n            background-color:  #43ac5e;\n            color:  #000000;\n        }#T_b9e5e_row12_col8,#T_b9e5e_row14_col8{\n            background-color:  #097532;\n            color:  #f1f1f1;\n        }#T_b9e5e_row12_col9{\n            background-color:  #cfcfcf;\n            color:  #000000;\n        }#T_b9e5e_row12_col10{\n            background-color:  #cbcbcb;\n            color:  #000000;\n        }#T_b9e5e_row12_col12{\n            background-color:  #7b7b7b;\n            color:  #000000;\n        }#T_b9e5e_row12_col13{\n            background-color:  #b13a03;\n            color:  #f1f1f1;\n        }#T_b9e5e_row12_col14{\n            background-color:  #db4a02;\n            color:  #f1f1f1;\n        }#T_b9e5e_row12_col15{\n            background-color:  #c03f02;\n            color:  #f1f1f1;\n        }#T_b9e5e_row12_col16{\n            background-color:  #a63603;\n            color:  #f1f1f1;\n        }#T_b9e5e_row13_col1{\n            background-color:  #b2b2d5;\n            color:  #000000;\n        }#T_b9e5e_row13_col3{\n            background-color:  #b6b6d8;\n            color:  #000000;\n        }#T_b9e5e_row13_col4{\n            background-color:  #52238d;\n            color:  #f1f1f1;\n        }#T_b9e5e_row13_col5{\n            background-color:  #016e2d;\n            color:  #f1f1f1;\n        }#T_b9e5e_row13_col7{\n            background-color:  #29914a;\n            color:  #000000;\n        }#T_b9e5e_row13_col8{\n            background-color:  #208843;\n            color:  #000000;\n        }#T_b9e5e_row13_col10{\n            background-color:  #353535;\n            color:  #f1f1f1;\n        }#T_b9e5e_row13_col11{\n            background-color:  #a4a4a4;\n            color:  #000000;\n        }#T_b9e5e_row13_col15{\n            background-color:  #a43503;\n            color:  #f1f1f1;\n        }#T_b9e5e_row14_col2{\n            background-color:  #cacae3;\n            color:  #000000;\n        }#T_b9e5e_row14_col3{\n            background-color:  #4f1f8b;\n            color:  #f1f1f1;\n        }#T_b9e5e_row14_col4{\n            background-color:  #7567af;\n            color:  #000000;\n        }#T_b9e5e_row14_col5{\n            background-color:  #349d53;\n            color:  #000000;\n        }#T_b9e5e_row14_col6{\n            background-color:  #97d492;\n            color:  #000000;\n        }#T_b9e5e_row14_col7{\n            background-color:  #a4da9e;\n            color:  #000000;\n        }#T_b9e5e_row14_col9{\n            background-color:  #707070;\n            color:  #000000;\n        }#T_b9e5e_row14_col10{\n            background-color:  #909090;\n            color:  #000000;\n        }#T_b9e5e_row14_col11{\n            background-color:  #5c5c5c;\n            color:  #f1f1f1;\n        }#T_b9e5e_row14_col13{\n            background-color:  #cd4401;\n            color:  #f1f1f1;\n        }#T_b9e5e_row14_col14{\n            background-color:  #fd9e54;\n            color:  #000000;\n        }#T_b9e5e_row14_col15{\n            background-color:  #ea5f0e;\n            color:  #000000;\n        }</style><table id=\"T_b9e5e_\" ><thead>    <tr>        <th class=\"blank level0\" ></th>        <th class=\"col_heading level0 col0\" >Line</th>        <th class=\"col_heading level0 col1\" colspan=\"4\">sector_1</th>        <th class=\"col_heading level0 col5\" colspan=\"4\">sector_2</th>        <th class=\"col_heading level0 col9\" colspan=\"4\">sector_3</th>        <th class=\"col_heading level0 col13\" colspan=\"4\">sector_4</th>    </tr>    <tr>        <th class=\"index_name level1\" >Date</th>        <th class=\"col_heading level1 col0\" ></th>        <th class=\"col_heading level1 col1\" >20210613</th>        <th class=\"col_heading level1 col2\" >20210620</th>        <th class=\"col_heading level1 col3\" >20210627</th>        <th class=\"col_heading level1 col4\" >20210704</th>        <th class=\"col_heading level1 col5\" >20210613</th>        <th class=\"col_heading level1 col6\" >20210620</th>        <th class=\"col_heading level1 col7\" >20210627</th>        <th class=\"col_heading level1 col8\" >20210704</th>        <th class=\"col_heading level1 col9\" >20210613</th>        <th class=\"col_heading level1 col10\" >20210620</th>        <th class=\"col_heading level1 col11\" >20210627</th>        <th class=\"col_heading level1 col12\" >20210704</th>        <th class=\"col_heading level1 col13\" >20210613</th>        <th class=\"col_heading level1 col14\" >20210620</th>        <th class=\"col_heading level1 col15\" >20210627</th>        <th class=\"col_heading level1 col16\" >20210704</th>    </tr></thead><tbody>\n                <tr>\n                        <th id=\"T_b9e5e_level0_row0\" class=\"row_heading level0 row0\" >0</th>\n                        <td id=\"T_b9e5e_row0_col0\" class=\"data row0 col0\" >AL5 Packaging 1</td>\n                        <td id=\"T_b9e5e_row0_col1\" class=\"data row0 col1\" >-0.330179</td>\n                        <td id=\"T_b9e5e_row0_col2\" class=\"data row0 col2\" >-0.136351</td>\n                        <td id=\"T_b9e5e_row0_col3\" class=\"data row0 col3\" >-0.016760</td>\n                        <td id=\"T_b9e5e_row0_col4\" class=\"data row0 col4\" >0.014238</td>\n                        <td id=\"T_b9e5e_row0_col5\" class=\"data row0 col5\" >0.239303</td>\n                        <td id=\"T_b9e5e_row0_col6\" class=\"data row0 col6\" >0.230223</td>\n                        <td id=\"T_b9e5e_row0_col7\" class=\"data row0 col7\" >0.224082</td>\n                        <td id=\"T_b9e5e_row0_col8\" class=\"data row0 col8\" >0.071769</td>\n                        <td id=\"T_b9e5e_row0_col9\" class=\"data row0 col9\" >0.333841</td>\n                        <td id=\"T_b9e5e_row0_col10\" class=\"data row0 col10\" >0.173684</td>\n                        <td id=\"T_b9e5e_row0_col11\" class=\"data row0 col11\" >0.192306</td>\n                        <td id=\"T_b9e5e_row0_col12\" class=\"data row0 col12\" >0.266691</td>\n                        <td id=\"T_b9e5e_row0_col13\" class=\"data row0 col13\" >0.074752</td>\n                        <td id=\"T_b9e5e_row0_col14\" class=\"data row0 col14\" >0.064235</td>\n                        <td id=\"T_b9e5e_row0_col15\" class=\"data row0 col15\" >0.079034</td>\n                        <td id=\"T_b9e5e_row0_col16\" class=\"data row0 col16\" >0.079075</td>\n            </tr>\n            <tr>\n                        <th id=\"T_b9e5e_level0_row1\" class=\"row_heading level0 row1\" >1</th>\n                        <td id=\"T_b9e5e_row1_col0\" class=\"data row1 col0\" >AL6</td>\n                        <td id=\"T_b9e5e_row1_col1\" class=\"data row1 col1\" >0.104511</td>\n                        <td id=\"T_b9e5e_row1_col2\" class=\"data row1 col2\" >-0.063769</td>\n                        <td id=\"T_b9e5e_row1_col3\" class=\"data row1 col3\" >0.048738</td>\n                        <td id=\"T_b9e5e_row1_col4\" class=\"data row1 col4\" >0.078298</td>\n                        <td id=\"T_b9e5e_row1_col5\" class=\"data row1 col5\" >0.074493</td>\n                        <td id=\"T_b9e5e_row1_col6\" class=\"data row1 col6\" >0.058049</td>\n                        <td id=\"T_b9e5e_row1_col7\" class=\"data row1 col7\" >0.047659</td>\n                        <td id=\"T_b9e5e_row1_col8\" class=\"data row1 col8\" >0.052392</td>\n                        <td id=\"T_b9e5e_row1_col9\" class=\"data row1 col9\" >0.206465</td>\n                        <td id=\"T_b9e5e_row1_col10\" class=\"data row1 col10\" >0.290337</td>\n                        <td id=\"T_b9e5e_row1_col11\" class=\"data row1 col11\" >0.354232</td>\n                        <td id=\"T_b9e5e_row1_col12\" class=\"data row1 col12\" >0.396381</td>\n                        <td id=\"T_b9e5e_row1_col13\" class=\"data row1 col13\" >0.075543</td>\n                        <td id=\"T_b9e5e_row1_col14\" class=\"data row1 col14\" >0.069819</td>\n                        <td id=\"T_b9e5e_row1_col15\" class=\"data row1 col15\" >0.055182</td>\n                        <td id=\"T_b9e5e_row1_col16\" class=\"data row1 col16\" >0.053813</td>\n            </tr>\n            <tr>\n                        <th id=\"T_b9e5e_level0_row2\" class=\"row_heading level0 row2\" >2</th>\n                        <td id=\"T_b9e5e_row2_col0\" class=\"data row2 col0\" >C2 Packaging Line</td>\n                        <td id=\"T_b9e5e_row2_col1\" class=\"data row2 col1\" >-0.039284</td>\n                        <td id=\"T_b9e5e_row2_col2\" class=\"data row2 col2\" >0.032762</td>\n                        <td id=\"T_b9e5e_row2_col3\" class=\"data row2 col3\" >-0.000000</td>\n                        <td id=\"T_b9e5e_row2_col4\" class=\"data row2 col4\" >0.223237</td>\n                        <td id=\"T_b9e5e_row2_col5\" class=\"data row2 col5\" >0.051397</td>\n                        <td id=\"T_b9e5e_row2_col6\" class=\"data row2 col6\" >0.045457</td>\n                        <td id=\"T_b9e5e_row2_col7\" class=\"data row2 col7\" >0.017736</td>\n                        <td id=\"T_b9e5e_row2_col8\" class=\"data row2 col8\" >0.118093</td>\n                        <td id=\"T_b9e5e_row2_col9\" class=\"data row2 col9\" >0.434789</td>\n                        <td id=\"T_b9e5e_row2_col10\" class=\"data row2 col10\" >0.406865</td>\n                        <td id=\"T_b9e5e_row2_col11\" class=\"data row2 col11\" >0.378615</td>\n                        <td id=\"T_b9e5e_row2_col12\" class=\"data row2 col12\" >0.685652</td>\n                        <td id=\"T_b9e5e_row2_col13\" class=\"data row2 col13\" >0.054718</td>\n                        <td id=\"T_b9e5e_row2_col14\" class=\"data row2 col14\" >0.076029</td>\n                        <td id=\"T_b9e5e_row2_col15\" class=\"data row2 col15\" >0.080278</td>\n                        <td id=\"T_b9e5e_row2_col16\" class=\"data row2 col16\" >0.056597</td>\n            </tr>\n            <tr>\n                        <th id=\"T_b9e5e_level0_row3\" class=\"row_heading level0 row3\" >3</th>\n                        <td id=\"T_b9e5e_row3_col0\" class=\"data row3 col0\" >C9 Packaging Line</td>\n                        <td id=\"T_b9e5e_row3_col1\" class=\"data row3 col1\" >-0.083021</td>\n                        <td id=\"T_b9e5e_row3_col2\" class=\"data row3 col2\" >0.045966</td>\n                        <td id=\"T_b9e5e_row3_col3\" class=\"data row3 col3\" >0.060883</td>\n                        <td id=\"T_b9e5e_row3_col4\" class=\"data row3 col4\" >0.082118</td>\n                        <td id=\"T_b9e5e_row3_col5\" class=\"data row3 col5\" >0.077638</td>\n                        <td id=\"T_b9e5e_row3_col6\" class=\"data row3 col6\" >0.037802</td>\n                        <td id=\"T_b9e5e_row3_col7\" class=\"data row3 col7\" >0.046610</td>\n                        <td id=\"T_b9e5e_row3_col8\" class=\"data row3 col8\" >0.081720</td>\n                        <td id=\"T_b9e5e_row3_col9\" class=\"data row3 col9\" >0.354641</td>\n                        <td id=\"T_b9e5e_row3_col10\" class=\"data row3 col10\" >0.334504</td>\n                        <td id=\"T_b9e5e_row3_col11\" class=\"data row3 col11\" >0.378615</td>\n                        <td id=\"T_b9e5e_row3_col12\" class=\"data row3 col12\" >0.452948</td>\n                        <td id=\"T_b9e5e_row3_col13\" class=\"data row3 col13\" >0.055710</td>\n                        <td id=\"T_b9e5e_row3_col14\" class=\"data row3 col14\" >0.069295</td>\n                        <td id=\"T_b9e5e_row3_col15\" class=\"data row3 col15\" >0.070908</td>\n                        <td id=\"T_b9e5e_row3_col16\" class=\"data row3 col16\" >0.064467</td>\n            </tr>\n            <tr>\n                        <th id=\"T_b9e5e_level0_row4\" class=\"row_heading level0 row4\" >4</th>\n                        <td id=\"T_b9e5e_row4_col0\" class=\"data row4 col0\" >GAMMA1</td>\n                        <td id=\"T_b9e5e_row4_col1\" class=\"data row4 col1\" >-0.116359</td>\n                        <td id=\"T_b9e5e_row4_col2\" class=\"data row4 col2\" >-0.003118</td>\n                        <td id=\"T_b9e5e_row4_col3\" class=\"data row4 col3\" >-0.000000</td>\n                        <td id=\"T_b9e5e_row4_col4\" class=\"data row4 col4\" >0.111172</td>\n                        <td id=\"T_b9e5e_row4_col5\" class=\"data row4 col5\" >0.084034</td>\n                        <td id=\"T_b9e5e_row4_col6\" class=\"data row4 col6\" >0.099853</td>\n                        <td id=\"T_b9e5e_row4_col7\" class=\"data row4 col7\" >0.059237</td>\n                        <td id=\"T_b9e5e_row4_col8\" class=\"data row4 col8\" >0.055086</td>\n                        <td id=\"T_b9e5e_row4_col9\" class=\"data row4 col9\" >0.130150</td>\n                        <td id=\"T_b9e5e_row4_col10\" class=\"data row4 col10\" >0.125200</td>\n                        <td id=\"T_b9e5e_row4_col11\" class=\"data row4 col11\" >0.378615</td>\n                        <td id=\"T_b9e5e_row4_col12\" class=\"data row4 col12\" >0.143339</td>\n                        <td id=\"T_b9e5e_row4_col13\" class=\"data row4 col13\" >0.257434</td>\n                        <td id=\"T_b9e5e_row4_col14\" class=\"data row4 col14\" >0.233924</td>\n                        <td id=\"T_b9e5e_row4_col15\" class=\"data row4 col15\" >0.201427</td>\n                        <td id=\"T_b9e5e_row4_col16\" class=\"data row4 col16\" >0.219199</td>\n            </tr>\n            <tr>\n                        <th id=\"T_b9e5e_level0_row5\" class=\"row_heading level0 row5\" >5</th>\n                        <td id=\"T_b9e5e_row5_col0\" class=\"data row5 col0\" >IMA C80/2</td>\n                        <td id=\"T_b9e5e_row5_col1\" class=\"data row5 col1\" >-0.010669</td>\n                        <td id=\"T_b9e5e_row5_col2\" class=\"data row5 col2\" >-0.031821</td>\n                        <td id=\"T_b9e5e_row5_col3\" class=\"data row5 col3\" >-0.029993</td>\n                        <td id=\"T_b9e5e_row5_col4\" class=\"data row5 col4\" >0.096609</td>\n                        <td id=\"T_b9e5e_row5_col5\" class=\"data row5 col5\" >0.051457</td>\n                        <td id=\"T_b9e5e_row5_col6\" class=\"data row5 col6\" >0.048656</td>\n                        <td id=\"T_b9e5e_row5_col7\" class=\"data row5 col7\" >0.032795</td>\n                        <td id=\"T_b9e5e_row5_col8\" class=\"data row5 col8\" >0.041548</td>\n                        <td id=\"T_b9e5e_row5_col9\" class=\"data row5 col9\" >0.188204</td>\n                        <td id=\"T_b9e5e_row5_col10\" class=\"data row5 col10\" >0.187384</td>\n                        <td id=\"T_b9e5e_row5_col11\" class=\"data row5 col11\" >0.145926</td>\n                        <td id=\"T_b9e5e_row5_col12\" class=\"data row5 col12\" >0.193675</td>\n                        <td id=\"T_b9e5e_row5_col13\" class=\"data row5 col13\" >0.191808</td>\n                        <td id=\"T_b9e5e_row5_col14\" class=\"data row5 col14\" >0.184578</td>\n                        <td id=\"T_b9e5e_row5_col15\" class=\"data row5 col15\" >0.184157</td>\n                        <td id=\"T_b9e5e_row5_col16\" class=\"data row5 col16\" >0.199801</td>\n            </tr>\n            <tr>\n                        <th id=\"T_b9e5e_level0_row6\" class=\"row_heading level0 row6\" >6</th>\n                        <td id=\"T_b9e5e_row6_col0\" class=\"data row6 col0\" >L18 Packaging Line</td>\n                        <td id=\"T_b9e5e_row6_col1\" class=\"data row6 col1\" >0.049611</td>\n                        <td id=\"T_b9e5e_row6_col2\" class=\"data row6 col2\" >-0.073659</td>\n                        <td id=\"T_b9e5e_row6_col3\" class=\"data row6 col3\" >0.046826</td>\n                        <td id=\"T_b9e5e_row6_col4\" class=\"data row6 col4\" >0.081630</td>\n                        <td id=\"T_b9e5e_row6_col5\" class=\"data row6 col5\" >0.038149</td>\n                        <td id=\"T_b9e5e_row6_col6\" class=\"data row6 col6\" >0.051868</td>\n                        <td id=\"T_b9e5e_row6_col7\" class=\"data row6 col7\" >0.031486</td>\n                        <td id=\"T_b9e5e_row6_col8\" class=\"data row6 col8\" >0.053623</td>\n                        <td id=\"T_b9e5e_row6_col9\" class=\"data row6 col9\" >0.098353</td>\n                        <td id=\"T_b9e5e_row6_col10\" class=\"data row6 col10\" >0.083866</td>\n                        <td id=\"T_b9e5e_row6_col11\" class=\"data row6 col11\" >0.090875</td>\n                        <td id=\"T_b9e5e_row6_col12\" class=\"data row6 col12\" >0.185620</td>\n                        <td id=\"T_b9e5e_row6_col13\" class=\"data row6 col13\" >0.161486</td>\n                        <td id=\"T_b9e5e_row6_col14\" class=\"data row6 col14\" >0.172588</td>\n                        <td id=\"T_b9e5e_row6_col15\" class=\"data row6 col15\" >0.169953</td>\n                        <td id=\"T_b9e5e_row6_col16\" class=\"data row6 col16\" >0.183051</td>\n            </tr>\n            <tr>\n                        <th id=\"T_b9e5e_level0_row7\" class=\"row_heading level0 row7\" >7</th>\n                        <td id=\"T_b9e5e_row7_col0\" class=\"data row7 col0\" >L25 Packaging Line</td>\n                        <td id=\"T_b9e5e_row7_col1\" class=\"data row7 col1\" >0.020987</td>\n                        <td id=\"T_b9e5e_row7_col2\" class=\"data row7 col2\" >-0.017593</td>\n                        <td id=\"T_b9e5e_row7_col3\" class=\"data row7 col3\" >0.008010</td>\n                        <td id=\"T_b9e5e_row7_col4\" class=\"data row7 col4\" >-0.036620</td>\n                        <td id=\"T_b9e5e_row7_col5\" class=\"data row7 col5\" >0.028297</td>\n                        <td id=\"T_b9e5e_row7_col6\" class=\"data row7 col6\" >0.027422</td>\n                        <td id=\"T_b9e5e_row7_col7\" class=\"data row7 col7\" >0.009343</td>\n                        <td id=\"T_b9e5e_row7_col8\" class=\"data row7 col8\" >0.019916</td>\n                        <td id=\"T_b9e5e_row7_col9\" class=\"data row7 col9\" >0.224615</td>\n                        <td id=\"T_b9e5e_row7_col10\" class=\"data row7 col10\" >0.176019</td>\n                        <td id=\"T_b9e5e_row7_col11\" class=\"data row7 col11\" >0.201629</td>\n                        <td id=\"T_b9e5e_row7_col12\" class=\"data row7 col12\" >0.192098</td>\n                        <td id=\"T_b9e5e_row7_col13\" class=\"data row7 col13\" >0.233708</td>\n                        <td id=\"T_b9e5e_row7_col14\" class=\"data row7 col14\" >0.246058</td>\n                        <td id=\"T_b9e5e_row7_col15\" class=\"data row7 col15\" >0.276305</td>\n                        <td id=\"T_b9e5e_row7_col16\" class=\"data row7 col16\" >0.252406</td>\n            </tr>\n            <tr>\n                        <th id=\"T_b9e5e_level0_row8\" class=\"row_heading level0 row8\" >8</th>\n                        <td id=\"T_b9e5e_row8_col0\" class=\"data row8 col0\" >LINE 01 - UHLMANN 1880</td>\n                        <td id=\"T_b9e5e_row8_col1\" class=\"data row8 col1\" >-0.203893</td>\n                        <td id=\"T_b9e5e_row8_col2\" class=\"data row8 col2\" >0.150160</td>\n                        <td id=\"T_b9e5e_row8_col3\" class=\"data row8 col3\" >-0.198111</td>\n                        <td id=\"T_b9e5e_row8_col4\" class=\"data row8 col4\" >0.282615</td>\n                        <td id=\"T_b9e5e_row8_col5\" class=\"data row8 col5\" >0.086351</td>\n                        <td id=\"T_b9e5e_row8_col6\" class=\"data row8 col6\" >0.086634</td>\n                        <td id=\"T_b9e5e_row8_col7\" class=\"data row8 col7\" >0.119715</td>\n                        <td id=\"T_b9e5e_row8_col8\" class=\"data row8 col8\" >0.131077</td>\n                        <td id=\"T_b9e5e_row8_col9\" class=\"data row8 col9\" >0.117504</td>\n                        <td id=\"T_b9e5e_row8_col10\" class=\"data row8 col10\" >0.080061</td>\n                        <td id=\"T_b9e5e_row8_col11\" class=\"data row8 col11\" >0.233553</td>\n                        <td id=\"T_b9e5e_row8_col12\" class=\"data row8 col12\" >0.409397</td>\n                        <td id=\"T_b9e5e_row8_col13\" class=\"data row8 col13\" >0.073951</td>\n                        <td id=\"T_b9e5e_row8_col14\" class=\"data row8 col14\" >0.069827</td>\n                        <td id=\"T_b9e5e_row8_col15\" class=\"data row8 col15\" >0.068238</td>\n                        <td id=\"T_b9e5e_row8_col16\" class=\"data row8 col16\" >0.040405</td>\n            </tr>\n            <tr>\n                        <th id=\"T_b9e5e_level0_row9\" class=\"row_heading level0 row9\" >9</th>\n                        <td id=\"T_b9e5e_row9_col0\" class=\"data row9 col0\" >M18 Filling</td>\n                        <td id=\"T_b9e5e_row9_col1\" class=\"data row9 col1\" >-0.101833</td>\n                        <td id=\"T_b9e5e_row9_col2\" class=\"data row9 col2\" >-0.023002</td>\n                        <td id=\"T_b9e5e_row9_col3\" class=\"data row9 col3\" >0.041439</td>\n                        <td id=\"T_b9e5e_row9_col4\" class=\"data row9 col4\" >0.620440</td>\n                        <td id=\"T_b9e5e_row9_col5\" class=\"data row9 col5\" >0.297577</td>\n                        <td id=\"T_b9e5e_row9_col6\" class=\"data row9 col6\" >0.217207</td>\n                        <td id=\"T_b9e5e_row9_col7\" class=\"data row9 col7\" >0.054387</td>\n                        <td id=\"T_b9e5e_row9_col8\" class=\"data row9 col8\" >0.320648</td>\n                        <td id=\"T_b9e5e_row9_col9\" class=\"data row9 col9\" >0.222576</td>\n                        <td id=\"T_b9e5e_row9_col10\" class=\"data row9 col10\" >0.200207</td>\n                        <td id=\"T_b9e5e_row9_col11\" class=\"data row9 col11\" >0.198006</td>\n                        <td id=\"T_b9e5e_row9_col12\" class=\"data row9 col12\" >0.000000</td>\n                        <td id=\"T_b9e5e_row9_col13\" class=\"data row9 col13\" >0.426343</td>\n                        <td id=\"T_b9e5e_row9_col14\" class=\"data row9 col14\" >0.185797</td>\n                        <td id=\"T_b9e5e_row9_col15\" class=\"data row9 col15\" >0.039446</td>\n                        <td id=\"T_b9e5e_row9_col16\" class=\"data row9 col16\" >0.279900</td>\n            </tr>\n            <tr>\n                        <th id=\"T_b9e5e_level0_row10\" class=\"row_heading level0 row10\" >10</th>\n                        <td id=\"T_b9e5e_row10_col0\" class=\"data row10 col0\" >M21 Filling</td>\n                        <td id=\"T_b9e5e_row10_col1\" class=\"data row10 col1\" >-0.014851</td>\n                        <td id=\"T_b9e5e_row10_col2\" class=\"data row10 col2\" >-0.014932</td>\n                        <td id=\"T_b9e5e_row10_col3\" class=\"data row10 col3\" >0.367543</td>\n                        <td id=\"T_b9e5e_row10_col4\" class=\"data row10 col4\" >-0.283019</td>\n                        <td id=\"T_b9e5e_row10_col5\" class=\"data row10 col5\" >0.136721</td>\n                        <td id=\"T_b9e5e_row10_col6\" class=\"data row10 col6\" >0.140005</td>\n                        <td id=\"T_b9e5e_row10_col7\" class=\"data row10 col7\" >0.176738</td>\n                        <td id=\"T_b9e5e_row10_col8\" class=\"data row10 col8\" >0.171205</td>\n                        <td id=\"T_b9e5e_row10_col9\" class=\"data row10 col9\" >0.104932</td>\n                        <td id=\"T_b9e5e_row10_col10\" class=\"data row10 col10\" >0.092956</td>\n                        <td id=\"T_b9e5e_row10_col11\" class=\"data row10 col11\" >0.141601</td>\n                        <td id=\"T_b9e5e_row10_col12\" class=\"data row10 col12\" >0.211714</td>\n                        <td id=\"T_b9e5e_row10_col13\" class=\"data row10 col13\" >0.128533</td>\n                        <td id=\"T_b9e5e_row10_col14\" class=\"data row10 col14\" >0.119056</td>\n                        <td id=\"T_b9e5e_row10_col15\" class=\"data row10 col15\" >0.142352</td>\n                        <td id=\"T_b9e5e_row10_col16\" class=\"data row10 col16\" >0.140270</td>\n            </tr>\n            <tr>\n                        <th id=\"T_b9e5e_level0_row11\" class=\"row_heading level0 row11\" >11</th>\n                        <td id=\"T_b9e5e_row11_col0\" class=\"data row11 col0\" >M22 Filling</td>\n                        <td id=\"T_b9e5e_row11_col1\" class=\"data row11 col1\" >0.042555</td>\n                        <td id=\"T_b9e5e_row11_col2\" class=\"data row11 col2\" >0.232819</td>\n                        <td id=\"T_b9e5e_row11_col3\" class=\"data row11 col3\" >-0.111666</td>\n                        <td id=\"T_b9e5e_row11_col4\" class=\"data row11 col4\" >-0.120418</td>\n                        <td id=\"T_b9e5e_row11_col5\" class=\"data row11 col5\" >0.084457</td>\n                        <td id=\"T_b9e5e_row11_col6\" class=\"data row11 col6\" >0.131104</td>\n                        <td id=\"T_b9e5e_row11_col7\" class=\"data row11 col7\" >0.124430</td>\n                        <td id=\"T_b9e5e_row11_col8\" class=\"data row11 col8\" >0.111698</td>\n                        <td id=\"T_b9e5e_row11_col9\" class=\"data row11 col9\" >0.131238</td>\n                        <td id=\"T_b9e5e_row11_col10\" class=\"data row11 col10\" >0.052069</td>\n                        <td id=\"T_b9e5e_row11_col11\" class=\"data row11 col11\" >0.175693</td>\n                        <td id=\"T_b9e5e_row11_col12\" class=\"data row11 col12\" >0.149263</td>\n                        <td id=\"T_b9e5e_row11_col13\" class=\"data row11 col13\" >0.070323</td>\n                        <td id=\"T_b9e5e_row11_col14\" class=\"data row11 col14\" >0.121179</td>\n                        <td id=\"T_b9e5e_row11_col15\" class=\"data row11 col15\" >0.159962</td>\n                        <td id=\"T_b9e5e_row11_col16\" class=\"data row11 col16\" >0.167782</td>\n            </tr>\n            <tr>\n                        <th id=\"T_b9e5e_level0_row12\" class=\"row_heading level0 row12\" >12</th>\n                        <td id=\"T_b9e5e_row12_col0\" class=\"data row12 col0\" >MEDISEAL PURAN</td>\n                        <td id=\"T_b9e5e_row12_col1\" class=\"data row12 col1\" >0.096687</td>\n                        <td id=\"T_b9e5e_row12_col2\" class=\"data row12 col2\" >0.121009</td>\n                        <td id=\"T_b9e5e_row12_col3\" class=\"data row12 col3\" >-0.151811</td>\n                        <td id=\"T_b9e5e_row12_col4\" class=\"data row12 col4\" >0.092727</td>\n                        <td id=\"T_b9e5e_row12_col5\" class=\"data row12 col5\" >0.109675</td>\n                        <td id=\"T_b9e5e_row12_col6\" class=\"data row12 col6\" >0.090911</td>\n                        <td id=\"T_b9e5e_row12_col7\" class=\"data row12 col7\" >0.091159</td>\n                        <td id=\"T_b9e5e_row12_col8\" class=\"data row12 col8\" >0.067430</td>\n                        <td id=\"T_b9e5e_row12_col9\" class=\"data row12 col9\" >0.334920</td>\n                        <td id=\"T_b9e5e_row12_col10\" class=\"data row12 col10\" >0.295099</td>\n                        <td id=\"T_b9e5e_row12_col11\" class=\"data row12 col11\" >0.201045</td>\n                        <td id=\"T_b9e5e_row12_col12\" class=\"data row12 col12\" >0.276238</td>\n                        <td id=\"T_b9e5e_row12_col13\" class=\"data row12 col13\" >0.107870</td>\n                        <td id=\"T_b9e5e_row12_col14\" class=\"data row12 col14\" >0.083598</td>\n                        <td id=\"T_b9e5e_row12_col15\" class=\"data row12 col15\" >0.084629</td>\n                        <td id=\"T_b9e5e_row12_col16\" class=\"data row12 col16\" >0.070351</td>\n            </tr>\n            <tr>\n                        <th id=\"T_b9e5e_level0_row13\" class=\"row_heading level0 row13\" >13</th>\n                        <td id=\"T_b9e5e_row13_col0\" class=\"data row13 col0\" >SUPPO Packaging Line</td>\n                        <td id=\"T_b9e5e_row13_col1\" class=\"data row13 col1\" >-0.000000</td>\n                        <td id=\"T_b9e5e_row13_col2\" class=\"data row13 col2\" >-0.135720</td>\n                        <td id=\"T_b9e5e_row13_col3\" class=\"data row13 col3\" >0.140677</td>\n                        <td id=\"T_b9e5e_row13_col4\" class=\"data row13 col4\" >-0.177787</td>\n                        <td id=\"T_b9e5e_row13_col5\" class=\"data row13 col5\" >0.063870</td>\n                        <td id=\"T_b9e5e_row13_col6\" class=\"data row13 col6\" >0.064080</td>\n                        <td id=\"T_b9e5e_row13_col7\" class=\"data row13 col7\" >0.068726</td>\n                        <td id=\"T_b9e5e_row13_col8\" class=\"data row13 col8\" >0.091783</td>\n                        <td id=\"T_b9e5e_row13_col9\" class=\"data row13 col9\" >0.434789</td>\n                        <td id=\"T_b9e5e_row13_col10\" class=\"data row13 col10\" >0.112141</td>\n                        <td id=\"T_b9e5e_row13_col11\" class=\"data row13 col11\" >0.247184</td>\n                        <td id=\"T_b9e5e_row13_col12\" class=\"data row13 col12\" >0.182846</td>\n                        <td id=\"T_b9e5e_row13_col13\" class=\"data row13 col13\" >0.050597</td>\n                        <td id=\"T_b9e5e_row13_col14\" class=\"data row13 col14\" >0.027030</td>\n                        <td id=\"T_b9e5e_row13_col15\" class=\"data row13 col15\" >0.067559</td>\n                        <td id=\"T_b9e5e_row13_col16\" class=\"data row13 col16\" >0.080726</td>\n            </tr>\n            <tr>\n                        <th id=\"T_b9e5e_level0_row14\" class=\"row_heading level0 row14\" >14</th>\n                        <td id=\"T_b9e5e_row14_col0\" class=\"data row14 col0\" >TR200 Packaging Line</td>\n                        <td id=\"T_b9e5e_row14_col1\" class=\"data row14 col1\" >0.234292</td>\n                        <td id=\"T_b9e5e_row14_col2\" class=\"data row14 col2\" >0.114787</td>\n                        <td id=\"T_b9e5e_row14_col3\" class=\"data row14 col3\" >-0.141097</td>\n                        <td id=\"T_b9e5e_row14_col4\" class=\"data row14 col4\" >-0.000000</td>\n                        <td id=\"T_b9e5e_row14_col5\" class=\"data row14 col5\" >0.115091</td>\n                        <td id=\"T_b9e5e_row14_col6\" class=\"data row14 col6\" >0.148133</td>\n                        <td id=\"T_b9e5e_row14_col7\" class=\"data row14 col7\" >0.145425</td>\n                        <td id=\"T_b9e5e_row14_col8\" class=\"data row14 col8\" >0.067316</td>\n                        <td id=\"T_b9e5e_row14_col9\" class=\"data row14 col9\" >0.221234</td>\n                        <td id=\"T_b9e5e_row14_col10\" class=\"data row14 col10\" >0.221771</td>\n                        <td id=\"T_b9e5e_row14_col11\" class=\"data row14 col11\" >0.173618</td>\n                        <td id=\"T_b9e5e_row14_col12\" class=\"data row14 col12\" >0.685652</td>\n                        <td id=\"T_b9e5e_row14_col13\" class=\"data row14 col13\" >0.133603</td>\n                        <td id=\"T_b9e5e_row14_col14\" class=\"data row14 col14\" >0.150637</td>\n                        <td id=\"T_b9e5e_row14_col15\" class=\"data row14 col15\" >0.119299</td>\n                        <td id=\"T_b9e5e_row14_col16\" class=\"data row14 col16\" >0.139872</td>\n            </tr>\n    </tbody></table>"
     },
     "metadata": {},
     "execution_count": 180
    }
   ],
   "source": [
    "# df_weekly['sector_1'] = df_weekly['sector_1'].mul(-1)\n",
    "# df_weekly['sector_3'] = df_weekly['sector_3'].mul(-1)\n",
    "# highlighted_sectors['sector_1'] = highlighted_sectors['sector_1'].mul(-1)\n",
    "# highlighted_sectors['sector_3'] = highlighted_sectors['sector_3'].mul(-1)\n",
    "# highlighted_sectors = df_weekly.pivot(index='Line', columns='Date', values=['sector_1','sector_2','sector_3','sector_4']).reset_index().style.highlight_max(color = 'purple', axis = 0)\n",
    "\n",
    "def highlight_max(s):\n",
    "    is_max = s == s.max()\n",
    "    return ['background-color: purple' if v else '' for v in is_max]\n",
    "\n",
    "def highlight_min(s):\n",
    "    is_min = s == s.min()\n",
    "    return ['background-color: purple' if v else '' for v in is_min]\n",
    "\n",
    "\n",
    "highlighted_sectors = df_weekly[df_weekly.Review_Date == '2021-07-08']\n",
    "highlighted_sectors = highlighted_sectors.pivot(index='Line', columns='Date', values=['sector_1','sector_2','sector_3','sector_4']).reset_index()\n",
    "# highlighted_sectors.filter(regex='Line|_1').style.highlight_min(color = 'purple', axis=0)\n",
    "# highlighted_sectors.style.highlight_min(subset=['sector_1'], color='purple')\\\n",
    "#     .highlight_max(subset=['sector_2'], color='purple')\\\n",
    "#     .highlight_min(subset=['sector_3'], color='purple')\\\n",
    "#     .highlight_max(subset=['sector_4'], color='purple')\\\n",
    "highlighted_sectors.style.background_gradient(subset=['sector_1'], cmap='Purples_r')\\\n",
    "    .background_gradient(subset=['sector_2'], cmap='Greens_r')\\\n",
    "    .background_gradient(subset=['sector_3'], cmap='Greys_r')\\\n",
    "    .background_gradient(subset=['sector_4'], cmap='Oranges_r')\n",
    "# highlighted_sectors['sector_1'] = df_weekly.pivot(index='Line', columns='Date', values='sector_1').style.highlight_max(color = 'purple', axis = 0)\n",
    "# df_weekly['sector_1'] = df_weekly['sector_1'].mul(-1)\n",
    "# df_weekly['sector_3'] = df_weekly['sector_3'].mul(-1)\n"
   ]
  },
  {
   "cell_type": "code",
   "execution_count": 144,
   "metadata": {},
   "outputs": [
    {
     "output_type": "execute_result",
     "data": {
      "text/plain": [
       "<pandas.io.formats.style.Styler at 0x2153421f5b0>"
      ],
      "text/html": "<style  type=\"text/css\" >\n#T_574c3_row0_col0,#T_574c3_row10_col0{\n            background-color:  #9a96c6;\n            color:  #000000;\n        }#T_574c3_row0_col1,#T_574c3_row3_col1{\n            background-color:  #f9f7fb;\n            color:  #000000;\n        }#T_574c3_row0_col2,#T_574c3_row1_col1,#T_574c3_row2_col1,#T_574c3_row3_col2,#T_574c3_row9_col0,#T_574c3_row9_col3{\n            background-color:  #fcfbfd;\n            color:  #000000;\n        }#T_574c3_row0_col3{\n            background-color:  #582e92;\n            color:  #f1f1f1;\n        }#T_574c3_row1_col0{\n            background-color:  #8683bd;\n            color:  #000000;\n        }#T_574c3_row1_col2{\n            background-color:  #d2d2e7;\n            color:  #000000;\n        }#T_574c3_row1_col3{\n            background-color:  #7b74b5;\n            color:  #000000;\n        }#T_574c3_row2_col0,#T_574c3_row7_col1,#T_574c3_row10_col3,#T_574c3_row11_col0{\n            background-color:  #6d57a6;\n            color:  #f1f1f1;\n        }#T_574c3_row2_col2{\n            background-color:  #fbfafc;\n            color:  #000000;\n        }#T_574c3_row2_col3{\n            background-color:  #e0e0ee;\n            color:  #000000;\n        }#T_574c3_row3_col0{\n            background-color:  #7669af;\n            color:  #000000;\n        }#T_574c3_row3_col3{\n            background-color:  #9c98c7;\n            color:  #000000;\n        }#T_574c3_row4_col0{\n            background-color:  #8986be;\n            color:  #000000;\n        }#T_574c3_row4_col1,#T_574c3_row4_col2,#T_574c3_row5_col1,#T_574c3_row13_col0,#T_574c3_row13_col3{\n            background-color:  #3f007d;\n            color:  #f1f1f1;\n        }#T_574c3_row4_col3{\n            background-color:  #8582bc;\n            color:  #000000;\n        }#T_574c3_row5_col0,#T_574c3_row6_col1{\n            background-color:  #674ca1;\n            color:  #f1f1f1;\n        }#T_574c3_row5_col2{\n            background-color:  #7567af;\n            color:  #000000;\n        }#T_574c3_row5_col3{\n            background-color:  #63449d;\n            color:  #f1f1f1;\n        }#T_574c3_row6_col0{\n            background-color:  #5f3c99;\n            color:  #f1f1f1;\n        }#T_574c3_row6_col2,#T_574c3_row14_col2{\n            background-color:  #f7f6fa;\n            color:  #000000;\n        }#T_574c3_row6_col3{\n            background-color:  #4a1486;\n            color:  #f1f1f1;\n        }#T_574c3_row7_col0{\n            background-color:  #603e9a;\n            color:  #f1f1f1;\n        }#T_574c3_row7_col2{\n            background-color:  #faf9fc;\n            color:  #000000;\n        }#T_574c3_row7_col3{\n            background-color:  #776cb1;\n            color:  #000000;\n        }#T_574c3_row8_col0,#T_574c3_row12_col0{\n            background-color:  #000000;\n            color:  #f1f1f1;\n        }#T_574c3_row8_col1{\n            background-color:  #f3f1f7;\n            color:  #000000;\n        }#T_574c3_row8_col2{\n            background-color:  #f8f7fb;\n            color:  #000000;\n        }#T_574c3_row8_col3{\n            background-color:  #562b91;\n            color:  #f1f1f1;\n        }#T_574c3_row9_col1{\n            background-color:  #bebedd;\n            color:  #000000;\n        }#T_574c3_row9_col2{\n            background-color:  #dedded;\n            color:  #000000;\n        }#T_574c3_row10_col1{\n            background-color:  #cacae3;\n            color:  #000000;\n        }#T_574c3_row10_col2{\n            background-color:  #d9d9ea;\n            color:  #000000;\n        }#T_574c3_row11_col1{\n            background-color:  #b4b4d7;\n            color:  #000000;\n        }#T_574c3_row11_col2{\n            background-color:  #dadaeb;\n            color:  #000000;\n        }#T_574c3_row11_col3{\n            background-color:  #53268f;\n            color:  #f1f1f1;\n        }#T_574c3_row12_col1{\n            background-color:  #f5f4f9;\n            color:  #000000;\n        }#T_574c3_row12_col2{\n            background-color:  #f9f8fb;\n            color:  #000000;\n        }#T_574c3_row12_col3{\n            background-color:  #8481bc;\n            color:  #000000;\n        }#T_574c3_row13_col1,#T_574c3_row14_col1{\n            background-color:  #f8f7fa;\n            color:  #000000;\n        }#T_574c3_row13_col2{\n            background-color:  #faf8fb;\n            color:  #000000;\n        }#T_574c3_row14_col0{\n            background-color:  #4e1c8a;\n            color:  #f1f1f1;\n        }#T_574c3_row14_col3{\n            background-color:  #d5d5e9;\n            color:  #000000;\n        }</style><table id=\"T_574c3_\" ><thead>    <tr>        <th class=\"index_name level0\" >Review_Date</th>        <th class=\"col_heading level0 col0\" >2021-04-15 00:00:00</th>        <th class=\"col_heading level0 col1\" >2021-05-13 00:00:00</th>        <th class=\"col_heading level0 col2\" >2021-06-10 00:00:00</th>        <th class=\"col_heading level0 col3\" >2021-07-08 00:00:00</th>    </tr>    <tr>        <th class=\"index_name level0\" >Line</th>        <th class=\"blank\" ></th>        <th class=\"blank\" ></th>        <th class=\"blank\" ></th>        <th class=\"blank\" ></th>    </tr></thead><tbody>\n                <tr>\n                        <th id=\"T_574c3_level0_row0\" class=\"row_heading level0 row0\" >AL5 Packaging 1</th>\n                        <td id=\"T_574c3_row0_col0\" class=\"data row0 col0\" >89.248712</td>\n                        <td id=\"T_574c3_row0_col1\" class=\"data row0 col1\" >89.725754</td>\n                        <td id=\"T_574c3_row0_col2\" class=\"data row0 col2\" >90.495004</td>\n                        <td id=\"T_574c3_row0_col3\" class=\"data row0 col3\" >89.559946</td>\n            </tr>\n            <tr>\n                        <th id=\"T_574c3_level0_row1\" class=\"row_heading level0 row1\" >AL6</th>\n                        <td id=\"T_574c3_row1_col0\" class=\"data row1 col0\" >89.137846</td>\n                        <td id=\"T_574c3_row1_col1\" class=\"data row1 col1\" >90.323044</td>\n                        <td id=\"T_574c3_row1_col2\" class=\"data row1 col2\" >84.205598</td>\n                        <td id=\"T_574c3_row1_col3\" class=\"data row1 col3\" >89.902144</td>\n            </tr>\n            <tr>\n                        <th id=\"T_574c3_level0_row2\" class=\"row_heading level0 row2\" >C2 Packaging Line</th>\n                        <td id=\"T_574c3_row2_col0\" class=\"data row2 col0\" >88.952682</td>\n                        <td id=\"T_574c3_row2_col1\" class=\"data row2 col1\" >90.451874</td>\n                        <td id=\"T_574c3_row2_col2\" class=\"data row2 col2\" >90.261138</td>\n                        <td id=\"T_574c3_row2_col3\" class=\"data row2 col3\" >90.622942</td>\n            </tr>\n            <tr>\n                        <th id=\"T_574c3_level0_row3\" class=\"row_heading level0 row3\" >C9 Packaging Line</th>\n                        <td id=\"T_574c3_row3_col0\" class=\"data row3 col0\" >89.021271</td>\n                        <td id=\"T_574c3_row3_col1\" class=\"data row3 col1\" >89.747841</td>\n                        <td id=\"T_574c3_row3_col2\" class=\"data row3 col2\" >90.361488</td>\n                        <td id=\"T_574c3_row3_col3\" class=\"data row3 col3\" >90.130804</td>\n            </tr>\n            <tr>\n                        <th id=\"T_574c3_level0_row4\" class=\"row_heading level0 row4\" >GAMMA1</th>\n                        <td id=\"T_574c3_row4_col0\" class=\"data row4 col0\" >89.153563</td>\n                        <td id=\"T_574c3_row4_col1\" class=\"data row4 col1\" >69.325767</td>\n                        <td id=\"T_574c3_row4_col2\" class=\"data row4 col2\" >68.226756</td>\n                        <td id=\"T_574c3_row4_col3\" class=\"data row4 col3\" >89.979194</td>\n            </tr>\n            <tr>\n                        <th id=\"T_574c3_level0_row5\" class=\"row_heading level0 row5\" >IMA C80/2</th>\n                        <td id=\"T_574c3_row5_col0\" class=\"data row5 col0\" >88.910252</td>\n                        <td id=\"T_574c3_row5_col1\" class=\"data row5 col1\" >69.256522</td>\n                        <td id=\"T_574c3_row5_col2\" class=\"data row5 col2\" >75.232693</td>\n                        <td id=\"T_574c3_row5_col3\" class=\"data row5 col3\" >89.674113</td>\n            </tr>\n            <tr>\n                        <th id=\"T_574c3_level0_row6\" class=\"row_heading level0 row6\" >L18 Packaging Line</th>\n                        <td id=\"T_574c3_row6_col0\" class=\"data row6 col0\" >88.847299</td>\n                        <td id=\"T_574c3_row6_col1\" class=\"data row6 col1\" >74.226704</td>\n                        <td id=\"T_574c3_row6_col2\" class=\"data row6 col2\" >89.407996</td>\n                        <td id=\"T_574c3_row6_col3\" class=\"data row6 col3\" >89.425327</td>\n            </tr>\n            <tr>\n                        <th id=\"T_574c3_level0_row7\" class=\"row_heading level0 row7\" >L25 Packaging Line</th>\n                        <td id=\"T_574c3_row7_col0\" class=\"data row7 col0\" >88.849775</td>\n                        <td id=\"T_574c3_row7_col1\" class=\"data row7 col1\" >74.908842</td>\n                        <td id=\"T_574c3_row7_col2\" class=\"data row7 col2\" >90.011979</td>\n                        <td id=\"T_574c3_row7_col3\" class=\"data row7 col3\" >89.862601</td>\n            </tr>\n            <tr>\n                        <th id=\"T_574c3_level0_row8\" class=\"row_heading level0 row8\" >LINE 01 - UHLMANN 1880</th>\n                        <td id=\"T_574c3_row8_col0\" class=\"data row8 col0\" >nan</td>\n                        <td id=\"T_574c3_row8_col1\" class=\"data row8 col1\" >88.525497</td>\n                        <td id=\"T_574c3_row8_col2\" class=\"data row8 col2\" >89.636847</td>\n                        <td id=\"T_574c3_row8_col3\" class=\"data row8 col3\" >89.547483</td>\n            </tr>\n            <tr>\n                        <th id=\"T_574c3_level0_row9\" class=\"row_heading level0 row9\" >M18 Filling</th>\n                        <td id=\"T_574c3_row9_col0\" class=\"data row9 col0\" >89.960465</td>\n                        <td id=\"T_574c3_row9_col1\" class=\"data row9 col1\" >82.596174</td>\n                        <td id=\"T_574c3_row9_col2\" class=\"data row9 col2\" >85.446232</td>\n                        <td id=\"T_574c3_row9_col3\" class=\"data row9 col3\" >90.979137</td>\n            </tr>\n            <tr>\n                        <th id=\"T_574c3_level0_row10\" class=\"row_heading level0 row10\" >M21 Filling</th>\n                        <td id=\"T_574c3_row10_col0\" class=\"data row10 col0\" >89.248712</td>\n                        <td id=\"T_574c3_row10_col1\" class=\"data row10 col1\" >83.742378</td>\n                        <td id=\"T_574c3_row10_col2\" class=\"data row10 col2\" >84.767181</td>\n                        <td id=\"T_574c3_row10_col3\" class=\"data row10 col3\" >89.760825</td>\n            </tr>\n            <tr>\n                        <th id=\"T_574c3_level0_row11\" class=\"row_heading level0 row11\" >M22 Filling</th>\n                        <td id=\"T_574c3_row11_col0\" class=\"data row11 col0\" >88.953983</td>\n                        <td id=\"T_574c3_row11_col1\" class=\"data row11 col1\" >81.806345</td>\n                        <td id=\"T_574c3_row11_col2\" class=\"data row11 col2\" >84.857670</td>\n                        <td id=\"T_574c3_row11_col3\" class=\"data row11 col3\" >89.522488</td>\n            </tr>\n            <tr>\n                        <th id=\"T_574c3_level0_row12\" class=\"row_heading level0 row12\" >MEDISEAL PURAN</th>\n                        <td id=\"T_574c3_row12_col0\" class=\"data row12 col0\" >nan</td>\n                        <td id=\"T_574c3_row12_col1\" class=\"data row12 col1\" >89.019996</td>\n                        <td id=\"T_574c3_row12_col2\" class=\"data row12 col2\" >89.838256</td>\n                        <td id=\"T_574c3_row12_col3\" class=\"data row12 col3\" >89.971539</td>\n            </tr>\n            <tr>\n                        <th id=\"T_574c3_level0_row13\" class=\"row_heading level0 row13\" >SUPPO Packaging Line</th>\n                        <td id=\"T_574c3_row13_col0\" class=\"data row13 col0\" >88.585379</td>\n                        <td id=\"T_574c3_row13_col1\" class=\"data row13 col1\" >89.604811</td>\n                        <td id=\"T_574c3_row13_col2\" class=\"data row13 col2\" >89.904755</td>\n                        <td id=\"T_574c3_row13_col3\" class=\"data row13 col3\" >89.318502</td>\n            </tr>\n            <tr>\n                        <th id=\"T_574c3_level0_row14\" class=\"row_heading level0 row14\" >TR200 Packaging Line</th>\n                        <td id=\"T_574c3_row14_col0\" class=\"data row14 col0\" >88.710407</td>\n                        <td id=\"T_574c3_row14_col1\" class=\"data row14 col1\" >89.591164</td>\n                        <td id=\"T_574c3_row14_col2\" class=\"data row14 col2\" >89.381941</td>\n                        <td id=\"T_574c3_row14_col3\" class=\"data row14 col3\" >90.529634</td>\n            </tr>\n    </tbody></table>"
     },
     "metadata": {},
     "execution_count": 144
    }
   ],
   "source": [
    "all_sectors.pivot(index='Line', columns='Review_Date', values='lap_time').style.background_gradient(cmap='Purples_r')"
   ]
  },
  {
   "source": [
    "adding a weekly race_time just for the gapminder presentation"
   ],
   "cell_type": "markdown",
   "metadata": {}
  },
  {
   "cell_type": "code",
   "execution_count": 64,
   "metadata": {},
   "outputs": [
    {
     "output_type": "execute_result",
     "data": {
      "text/plain": [
       "         Week                  Line     OEE %  WeekOfYear    Year       Date  \\\n",
       "0    W13-2021     C2 Packaging Line  0.458414        13.0  2021.0 2021-04-04   \n",
       "1    W13-2021    L18 Packaging Line  0.465923        13.0  2021.0 2021-04-04   \n",
       "2    W13-2021             IMA C80/2  0.581304        13.0  2021.0 2021-04-04   \n",
       "3    W13-2021                   AL6  0.367897        13.0  2021.0 2021-04-04   \n",
       "4    W13-2021  TR200 Packaging Line  0.596432        13.0  2021.0 2021-04-04   \n",
       "..        ...                   ...       ...         ...     ...        ...   \n",
       "197  W26-2021                GAMMA1  0.491885        26.0  2021.0 2021-07-04   \n",
       "198  W26-2021     C9 Packaging Line  0.406623        26.0  2021.0 2021-07-04   \n",
       "199  W26-2021    L18 Packaging Line  0.411426        26.0  2021.0 2021-07-04   \n",
       "200  W26-2021    L25 Packaging Line  0.381273        26.0  2021.0 2021-07-04   \n",
       "201  W26-2021           M18 Filling  0.000000        26.0  2021.0 2021-07-04   \n",
       "\n",
       "              Plant  OEE  Start point  OEE% Target (2022)  \\\n",
       "0    Maisons-Alfort          0.397503               0.470   \n",
       "1             Tours          0.377683               0.547   \n",
       "2          SCOPPITO          0.451031               0.580   \n",
       "3         Frankfurt          0.332657               0.450   \n",
       "4           Lisieux          0.483505               0.650   \n",
       "..              ...               ...                 ...   \n",
       "197        SCOPPITO          0.418683               0.570   \n",
       "198  Maisons-Alfort          0.528518               0.530   \n",
       "199           Tours          0.377683               0.547   \n",
       "200           Tours          0.351564               0.478   \n",
       "201       Frankfurt          0.443522               0.650   \n",
       "\n",
       "     Unplanned_tech_loss  ...  sector_2  sector_3  sector_4  sector_5  \\\n",
       "0               0.465009  ...  0.097643  0.465009  0.044140       0.0   \n",
       "1               0.208273  ...  0.097643  0.208273  0.134271       0.0   \n",
       "2               0.224561  ...  0.097643  0.224561  0.070836       0.0   \n",
       "3               0.342851  ...  0.097643  0.342851  0.184958       0.0   \n",
       "4               0.163573  ...  0.097643  0.163573  0.075189       0.0   \n",
       "..                   ...  ...       ...       ...       ...       ...   \n",
       "197             0.143339  ...  0.055086  0.143339  0.219199      -0.0   \n",
       "198             0.452948  ...  0.081720  0.452948  0.064467      -0.0   \n",
       "199             0.185620  ...  0.053623  0.185620  0.183051      -0.0   \n",
       "200             0.192098  ...  0.019916  0.192098  0.252406      -0.0   \n",
       "201             0.000000  ...  0.320648  0.000000  0.279900      -0.0   \n",
       "\n",
       "     sector_6  sector_7  sector_8 sector_9  lap_time  race_time  \n",
       "0         0.0       0.0       0.0      0.0  0.545881  88.545881  \n",
       "1         0.0       0.0       0.0      0.0  0.351947  88.351947  \n",
       "2         0.0       0.0       0.0      0.0  0.262768  88.262768  \n",
       "3         0.0       0.0       0.0      0.0  0.590211  88.590211  \n",
       "4         0.0       0.0       0.0      0.0  0.223478  88.223478  \n",
       "..        ...       ...       ...      ...       ...        ...  \n",
       "197      -0.0      -0.0      -0.0     -0.0  0.528796  52.685280  \n",
       "198      -0.0      -0.0      -0.0     -0.0  0.681253  95.261404  \n",
       "199      -0.0      -0.0      -0.0     -0.0  0.503925  77.907326  \n",
       "200      -0.0      -0.0      -0.0     -0.0  0.427800  79.633196  \n",
       "201      -0.0      -0.0      -0.0     -0.0  1.220988  84.982009  \n",
       "\n",
       "[202 rows x 32 columns]"
      ],
      "text/html": "<div>\n<style scoped>\n    .dataframe tbody tr th:only-of-type {\n        vertical-align: middle;\n    }\n\n    .dataframe tbody tr th {\n        vertical-align: top;\n    }\n\n    .dataframe thead th {\n        text-align: right;\n    }\n</style>\n<table border=\"1\" class=\"dataframe\">\n  <thead>\n    <tr style=\"text-align: right;\">\n      <th></th>\n      <th>Week</th>\n      <th>Line</th>\n      <th>OEE %</th>\n      <th>WeekOfYear</th>\n      <th>Year</th>\n      <th>Date</th>\n      <th>Plant</th>\n      <th>OEE  Start point</th>\n      <th>OEE% Target (2022)</th>\n      <th>Unplanned_tech_loss</th>\n      <th>...</th>\n      <th>sector_2</th>\n      <th>sector_3</th>\n      <th>sector_4</th>\n      <th>sector_5</th>\n      <th>sector_6</th>\n      <th>sector_7</th>\n      <th>sector_8</th>\n      <th>sector_9</th>\n      <th>lap_time</th>\n      <th>race_time</th>\n    </tr>\n  </thead>\n  <tbody>\n    <tr>\n      <th>0</th>\n      <td>W13-2021</td>\n      <td>C2 Packaging Line</td>\n      <td>0.458414</td>\n      <td>13.0</td>\n      <td>2021.0</td>\n      <td>2021-04-04</td>\n      <td>Maisons-Alfort</td>\n      <td>0.397503</td>\n      <td>0.470</td>\n      <td>0.465009</td>\n      <td>...</td>\n      <td>0.097643</td>\n      <td>0.465009</td>\n      <td>0.044140</td>\n      <td>0.0</td>\n      <td>0.0</td>\n      <td>0.0</td>\n      <td>0.0</td>\n      <td>0.0</td>\n      <td>0.545881</td>\n      <td>88.545881</td>\n    </tr>\n    <tr>\n      <th>1</th>\n      <td>W13-2021</td>\n      <td>L18 Packaging Line</td>\n      <td>0.465923</td>\n      <td>13.0</td>\n      <td>2021.0</td>\n      <td>2021-04-04</td>\n      <td>Tours</td>\n      <td>0.377683</td>\n      <td>0.547</td>\n      <td>0.208273</td>\n      <td>...</td>\n      <td>0.097643</td>\n      <td>0.208273</td>\n      <td>0.134271</td>\n      <td>0.0</td>\n      <td>0.0</td>\n      <td>0.0</td>\n      <td>0.0</td>\n      <td>0.0</td>\n      <td>0.351947</td>\n      <td>88.351947</td>\n    </tr>\n    <tr>\n      <th>2</th>\n      <td>W13-2021</td>\n      <td>IMA C80/2</td>\n      <td>0.581304</td>\n      <td>13.0</td>\n      <td>2021.0</td>\n      <td>2021-04-04</td>\n      <td>SCOPPITO</td>\n      <td>0.451031</td>\n      <td>0.580</td>\n      <td>0.224561</td>\n      <td>...</td>\n      <td>0.097643</td>\n      <td>0.224561</td>\n      <td>0.070836</td>\n      <td>0.0</td>\n      <td>0.0</td>\n      <td>0.0</td>\n      <td>0.0</td>\n      <td>0.0</td>\n      <td>0.262768</td>\n      <td>88.262768</td>\n    </tr>\n    <tr>\n      <th>3</th>\n      <td>W13-2021</td>\n      <td>AL6</td>\n      <td>0.367897</td>\n      <td>13.0</td>\n      <td>2021.0</td>\n      <td>2021-04-04</td>\n      <td>Frankfurt</td>\n      <td>0.332657</td>\n      <td>0.450</td>\n      <td>0.342851</td>\n      <td>...</td>\n      <td>0.097643</td>\n      <td>0.342851</td>\n      <td>0.184958</td>\n      <td>0.0</td>\n      <td>0.0</td>\n      <td>0.0</td>\n      <td>0.0</td>\n      <td>0.0</td>\n      <td>0.590211</td>\n      <td>88.590211</td>\n    </tr>\n    <tr>\n      <th>4</th>\n      <td>W13-2021</td>\n      <td>TR200 Packaging Line</td>\n      <td>0.596432</td>\n      <td>13.0</td>\n      <td>2021.0</td>\n      <td>2021-04-04</td>\n      <td>Lisieux</td>\n      <td>0.483505</td>\n      <td>0.650</td>\n      <td>0.163573</td>\n      <td>...</td>\n      <td>0.097643</td>\n      <td>0.163573</td>\n      <td>0.075189</td>\n      <td>0.0</td>\n      <td>0.0</td>\n      <td>0.0</td>\n      <td>0.0</td>\n      <td>0.0</td>\n      <td>0.223478</td>\n      <td>88.223478</td>\n    </tr>\n    <tr>\n      <th>...</th>\n      <td>...</td>\n      <td>...</td>\n      <td>...</td>\n      <td>...</td>\n      <td>...</td>\n      <td>...</td>\n      <td>...</td>\n      <td>...</td>\n      <td>...</td>\n      <td>...</td>\n      <td>...</td>\n      <td>...</td>\n      <td>...</td>\n      <td>...</td>\n      <td>...</td>\n      <td>...</td>\n      <td>...</td>\n      <td>...</td>\n      <td>...</td>\n      <td>...</td>\n      <td>...</td>\n    </tr>\n    <tr>\n      <th>197</th>\n      <td>W26-2021</td>\n      <td>GAMMA1</td>\n      <td>0.491885</td>\n      <td>26.0</td>\n      <td>2021.0</td>\n      <td>2021-07-04</td>\n      <td>SCOPPITO</td>\n      <td>0.418683</td>\n      <td>0.570</td>\n      <td>0.143339</td>\n      <td>...</td>\n      <td>0.055086</td>\n      <td>0.143339</td>\n      <td>0.219199</td>\n      <td>-0.0</td>\n      <td>-0.0</td>\n      <td>-0.0</td>\n      <td>-0.0</td>\n      <td>-0.0</td>\n      <td>0.528796</td>\n      <td>52.685280</td>\n    </tr>\n    <tr>\n      <th>198</th>\n      <td>W26-2021</td>\n      <td>C9 Packaging Line</td>\n      <td>0.406623</td>\n      <td>26.0</td>\n      <td>2021.0</td>\n      <td>2021-07-04</td>\n      <td>Maisons-Alfort</td>\n      <td>0.528518</td>\n      <td>0.530</td>\n      <td>0.452948</td>\n      <td>...</td>\n      <td>0.081720</td>\n      <td>0.452948</td>\n      <td>0.064467</td>\n      <td>-0.0</td>\n      <td>-0.0</td>\n      <td>-0.0</td>\n      <td>-0.0</td>\n      <td>-0.0</td>\n      <td>0.681253</td>\n      <td>95.261404</td>\n    </tr>\n    <tr>\n      <th>199</th>\n      <td>W26-2021</td>\n      <td>L18 Packaging Line</td>\n      <td>0.411426</td>\n      <td>26.0</td>\n      <td>2021.0</td>\n      <td>2021-07-04</td>\n      <td>Tours</td>\n      <td>0.377683</td>\n      <td>0.547</td>\n      <td>0.185620</td>\n      <td>...</td>\n      <td>0.053623</td>\n      <td>0.185620</td>\n      <td>0.183051</td>\n      <td>-0.0</td>\n      <td>-0.0</td>\n      <td>-0.0</td>\n      <td>-0.0</td>\n      <td>-0.0</td>\n      <td>0.503925</td>\n      <td>77.907326</td>\n    </tr>\n    <tr>\n      <th>200</th>\n      <td>W26-2021</td>\n      <td>L25 Packaging Line</td>\n      <td>0.381273</td>\n      <td>26.0</td>\n      <td>2021.0</td>\n      <td>2021-07-04</td>\n      <td>Tours</td>\n      <td>0.351564</td>\n      <td>0.478</td>\n      <td>0.192098</td>\n      <td>...</td>\n      <td>0.019916</td>\n      <td>0.192098</td>\n      <td>0.252406</td>\n      <td>-0.0</td>\n      <td>-0.0</td>\n      <td>-0.0</td>\n      <td>-0.0</td>\n      <td>-0.0</td>\n      <td>0.427800</td>\n      <td>79.633196</td>\n    </tr>\n    <tr>\n      <th>201</th>\n      <td>W26-2021</td>\n      <td>M18 Filling</td>\n      <td>0.000000</td>\n      <td>26.0</td>\n      <td>2021.0</td>\n      <td>2021-07-04</td>\n      <td>Frankfurt</td>\n      <td>0.443522</td>\n      <td>0.650</td>\n      <td>0.000000</td>\n      <td>...</td>\n      <td>0.320648</td>\n      <td>0.000000</td>\n      <td>0.279900</td>\n      <td>-0.0</td>\n      <td>-0.0</td>\n      <td>-0.0</td>\n      <td>-0.0</td>\n      <td>-0.0</td>\n      <td>1.220988</td>\n      <td>84.982009</td>\n    </tr>\n  </tbody>\n</table>\n<p>202 rows × 32 columns</p>\n</div>"
     },
     "metadata": {},
     "execution_count": 64
    }
   ],
   "source": [
    "weekly_race_time = df_weekly.groupby(['Line','Date'])['lap_time'].sum().groupby('Line').cumsum().reset_index()\n",
    "weekly_race_time.rename(columns={'lap_time' : 'race_time'}, inplace=True)\n",
    "weekly_race_time['race_time'] = weekly_race_time['race_time'] + 88\n",
    "df_weekly = df_weekly.merge(weekly_race_time[['Line','Date','race_time']], on=(['Line','Date']))\n",
    "# df_weekly.drop(columns={'race_time'}, inplace=True)\n",
    "df_weekly"
   ]
  },
  {
   "cell_type": "code",
   "execution_count": 77,
   "metadata": {},
   "outputs": [],
   "source": [
    "# create output for gapminder.  weekly race_time is useful for plotting and change Date format to yyyymmdd so that gapminder handles it.\n",
    "df_weekly['Date'] = df_weekly['Date'].dt.strftime('%Y%m%d')\n",
    "gapminder_weekly = df_weekly[['Line','Date','sector_1','sector_2','sector_3','sector_4','lap_time','race_time']]\n",
    "gapminder_weekly.to_csv(dir +'gapfinder_weekly.csv', index=False)\n",
    "\n",
    "\n"
   ]
  },
  {
   "cell_type": "code",
   "execution_count": 78,
   "metadata": {},
   "outputs": [
    {
     "output_type": "execute_result",
     "data": {
      "text/plain": [
       "                     Line      Date  race_time\n",
       "4    TR200 Packaging Line  20210404  88.223478\n",
       "15   TR200 Packaging Line  20210411  88.710407\n",
       "26   TR200 Packaging Line  20210418  88.976982\n",
       "48   TR200 Packaging Line  20210425  89.573466\n",
       "55   TR200 Packaging Line  20210502  90.001912\n",
       "69   TR200 Packaging Line  20210509  90.301571\n",
       "96   TR200 Packaging Line  20210516  90.694460\n",
       "106  TR200 Packaging Line  20210523  90.993436\n",
       "118  TR200 Packaging Line  20210530  91.520976\n",
       "137  TR200 Packaging Line  20210606  91.683513\n",
       "153  TR200 Packaging Line  20210613  92.387734\n",
       "162  TR200 Packaging Line  20210620  93.023062\n",
       "177  TR200 Packaging Line  20210627  93.320307\n",
       "193  TR200 Packaging Line  20210704  94.213147"
      ],
      "text/html": "<div>\n<style scoped>\n    .dataframe tbody tr th:only-of-type {\n        vertical-align: middle;\n    }\n\n    .dataframe tbody tr th {\n        vertical-align: top;\n    }\n\n    .dataframe thead th {\n        text-align: right;\n    }\n</style>\n<table border=\"1\" class=\"dataframe\">\n  <thead>\n    <tr style=\"text-align: right;\">\n      <th></th>\n      <th>Line</th>\n      <th>Date</th>\n      <th>race_time</th>\n    </tr>\n  </thead>\n  <tbody>\n    <tr>\n      <th>4</th>\n      <td>TR200 Packaging Line</td>\n      <td>20210404</td>\n      <td>88.223478</td>\n    </tr>\n    <tr>\n      <th>15</th>\n      <td>TR200 Packaging Line</td>\n      <td>20210411</td>\n      <td>88.710407</td>\n    </tr>\n    <tr>\n      <th>26</th>\n      <td>TR200 Packaging Line</td>\n      <td>20210418</td>\n      <td>88.976982</td>\n    </tr>\n    <tr>\n      <th>48</th>\n      <td>TR200 Packaging Line</td>\n      <td>20210425</td>\n      <td>89.573466</td>\n    </tr>\n    <tr>\n      <th>55</th>\n      <td>TR200 Packaging Line</td>\n      <td>20210502</td>\n      <td>90.001912</td>\n    </tr>\n    <tr>\n      <th>69</th>\n      <td>TR200 Packaging Line</td>\n      <td>20210509</td>\n      <td>90.301571</td>\n    </tr>\n    <tr>\n      <th>96</th>\n      <td>TR200 Packaging Line</td>\n      <td>20210516</td>\n      <td>90.694460</td>\n    </tr>\n    <tr>\n      <th>106</th>\n      <td>TR200 Packaging Line</td>\n      <td>20210523</td>\n      <td>90.993436</td>\n    </tr>\n    <tr>\n      <th>118</th>\n      <td>TR200 Packaging Line</td>\n      <td>20210530</td>\n      <td>91.520976</td>\n    </tr>\n    <tr>\n      <th>137</th>\n      <td>TR200 Packaging Line</td>\n      <td>20210606</td>\n      <td>91.683513</td>\n    </tr>\n    <tr>\n      <th>153</th>\n      <td>TR200 Packaging Line</td>\n      <td>20210613</td>\n      <td>92.387734</td>\n    </tr>\n    <tr>\n      <th>162</th>\n      <td>TR200 Packaging Line</td>\n      <td>20210620</td>\n      <td>93.023062</td>\n    </tr>\n    <tr>\n      <th>177</th>\n      <td>TR200 Packaging Line</td>\n      <td>20210627</td>\n      <td>93.320307</td>\n    </tr>\n    <tr>\n      <th>193</th>\n      <td>TR200 Packaging Line</td>\n      <td>20210704</td>\n      <td>94.213147</td>\n    </tr>\n  </tbody>\n</table>\n</div>"
     },
     "metadata": {},
     "execution_count": 78
    }
   ],
   "source": [
    "df_weekly[['Line','Date','race_time']][df_weekly.Line.str.contains('TR200')].sort_values(['Line','Date'])"
   ]
  },
  {
   "cell_type": "code",
   "execution_count": null,
   "metadata": {},
   "outputs": [],
   "source": []
  }
 ],
 "metadata": {
  "kernelspec": {
   "display_name": "geo_env",
   "language": "python",
   "name": "geo_env"
  },
  "language_info": {
   "codemirror_mode": {
    "name": "ipython",
    "version": 3
   },
   "file_extension": ".py",
   "mimetype": "text/x-python",
   "name": "python",
   "nbconvert_exporter": "python",
   "pygments_lexer": "ipython3",
   "version": "3.9.4"
  }
 },
 "nbformat": 4,
 "nbformat_minor": 4
}