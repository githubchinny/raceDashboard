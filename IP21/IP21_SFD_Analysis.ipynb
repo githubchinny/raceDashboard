{
 "cells": [
  {
   "cell_type": "markdown",
   "metadata": {},
   "source": [
    "# IP21 and Alarm data analyse\n",
    "\n",
    "Author: Mark Chinnock, Anova Data Solutions   \n",
    "Date: July 2021   \n",
    "## Content\n",
    "\n",
    "Introduction\n",
    "\n",
    "    1.1 Background\n",
    "\n",
    "    1.2 Problem\n",
    "\n",
    "    1.3 Audience\n",
    "\n",
    "    Data\n",
    "    Methodology\n",
    "    Results\n",
    "    Discussion\n",
    "    Conclusion\n",
    "\n"
   ]
  },
  {
   "cell_type": "markdown",
   "metadata": {},
   "source": [
    "## Introduction\n",
    "\n",
    "IP21 data is a generic name given to data recorded from machine sensors on each of the manufacturing lines.  The sensors provide readings of (but not exclusively): temperature, humidity, pressure, and counters.   \n",
    "<p>The readings come from the machines at regular timed intervals (time series data) regardless of the current reading/performance from the sensor – ie it is not alerting of a specific scenario/reading.  Each sensor is documented on a detailed schematic and named so that it can be mapped to a plant/line/machine/sensor type.\n",
    "<p>There are also alerts/alarms that are issued from the manufacturing lines.  The alarms have also been named to indicate specific areas / machines.  Although often mentioned along with IP21, there is no direct correlation between the alerts/alarms being issued into one database and the IP21 data being issued into another database. There would need to be a complex mapping exercise to link specific alerts/alarms to related IP21 data.\n"
   ]
  },
  {
   "cell_type": "code",
   "execution_count": 2,
   "metadata": {},
   "outputs": [],
   "source": [
    "import pandas as pd\n",
    "import numpy as np\n",
    "import datetime\n",
    "\n",
    "# this dir should point at where ever your sanofi Mclaren directory is syncing\n",
    "# dir = \"C:/Users/mark_/Sanofi/Sanofi x McLaren sharing - General/Race Dashboard data/\"\n",
    "\n",
    "from sys import platform\n",
    "# if platform == \"linux\" or platform == \"linux2\":\n",
    "    # linux    \n",
    "if platform == \"darwin\":\n",
    "    # OS X\n",
    "    dir = \"/Users/mark/Documents/GitHub/IP21/\"\n",
    "elif platform == \"win32\":\n",
    "    # Windows...\n",
    "    # dir = \"C:/Users/mark_/Documents/McLaren2021/Sanofi/IP21/\"\n",
    "    # trying the microsoft teams sanofi share folder\n",
    "    dir = \"C:/Users/mark_/Sanofi/Sanofi x McLaren sharing - General/Frankfurt sprint/SFD/OEE data/\"\n",
    "\n",
    "    \n"
   ]
  },
  {
   "cell_type": "code",
   "execution_count": 3,
   "metadata": {},
   "outputs": [],
   "source": [
    "def get_col_widths(dataframe):\n",
    "    # First we find the maximum length of the index column   \n",
    "    idx_max = max([len(str(s)) for s in dataframe.index.values] + [len(str(dataframe.index.name))])\n",
    "    # Then, we concatenate this to the max of the lengths of column name and its values for each column, left to right\n",
    "    return [idx_max] + [max([len(str(s)) for s in dataframe[col].values] + [len(col)]) for col in dataframe.columns]\n"
   ]
  },
  {
   "cell_type": "code",
   "execution_count": null,
   "metadata": {},
   "outputs": [],
   "source": []
  },
  {
   "cell_type": "code",
   "execution_count": 70,
   "metadata": {},
   "outputs": [
    {
     "output_type": "execute_result",
     "data": {
      "text/plain": [
       "(2741, 2)"
      ]
     },
     "metadata": {},
     "execution_count": 70
    }
   ],
   "source": [
    "# read Detailed Events file\n",
    "file = (dir + 'AL6_Packaging_Detailed_Events.xlsx')\n",
    "df = pd.read_excel(file, parse_dates=True, index_col='Start Date')\n",
    "\n",
    "# read in OEE losses\n",
    "file = (dir + 'AL6_OEE_Losses.xlsx')\n",
    "df_OEE = pd.read_excel(file)\n",
    "df_OEE.rename(columns=({'Calendar Day':'Date', \n",
    "                        'Point of OEE':'OEE',\n",
    "                        'Loss Category':'Category'}), inplace=True)\n",
    "df_OEE['OEE'] = pd.to_numeric(df_OEE['OEE'], errors='coerce')\n",
    "df_OEE['OEE'] = df_OEE['OEE'].mul(100)\n",
    "df_OEE = df_OEE.set_index('Date')\n",
    "df_OEE.shape"
   ]
  },
  {
   "cell_type": "markdown",
   "metadata": {},
   "source": [
    "get rid of any pre April 2021 data - wasn't valid for AL6"
   ]
  },
  {
   "cell_type": "code",
   "execution_count": 71,
   "metadata": {},
   "outputs": [
    {
     "output_type": "execute_result",
     "data": {
      "text/plain": [
       "array(['Qualifizierung/Validierung (11)', 'Production', 'Minor Loss',\n",
       "       'Without cause', 'Sonstiges und Unbekannte (26)',\n",
       "       'Störungen und Fehlerbehebung (25)', 'Speed Loss',\n",
       "       'W&I (geplante Linie) (23)',\n",
       "       'Organisatorische Verluste und Wartezeiten (22)',\n",
       "       'Rüstvorgänge (21)', 'Ungeplante Linie (14)',\n",
       "       'Feier/Brückentag (12)', 'Autonome Wartungen (24)',\n",
       "       'vorbeugende Instandhaltung/Wartung (13)', 'Sonstige (15)',\n",
       "       'Quality Loss'], dtype=object)"
      ]
     },
     "metadata": {},
     "execution_count": 71
    }
   ],
   "source": [
    "start_date = '2021-04-01'\n",
    "end_date = datetime.date.today()\n",
    "df_OEE = df_OEE[df_OEE.index >= start_date].sort_values('Date')\n",
    "df_OEE.Category.unique()"
   ]
  },
  {
   "cell_type": "markdown",
   "metadata": {},
   "source": [
    "Let's translate these categories!"
   ]
  },
  {
   "cell_type": "code",
   "execution_count": 73,
   "metadata": {},
   "outputs": [
    {
     "output_type": "execute_result",
     "data": {
      "text/plain": [
       "                                Shift Long Name            End Date  \\\n",
       "Start Date                                                            \n",
       "2021-04-01 06:05:43  FRUE - 01/04/2021 06:00:00 2021-04-01 06:06:33   \n",
       "2021-04-01 06:22:19  FRUE - 01/04/2021 06:00:00 2021-04-01 06:23:43   \n",
       "2021-04-01 06:54:09  FRUE - 01/04/2021 06:00:00 2021-04-01 06:55:52   \n",
       "2021-04-01 06:56:00  FRUE - 01/04/2021 06:00:00 2021-04-01 06:57:59   \n",
       "2021-04-01 06:58:05  FRUE - 01/04/2021 06:00:00 2021-04-01 06:59:42   \n",
       "\n",
       "                     Duration (min.) Stoppage Reason 3 Last Level Reason  \\\n",
       "Start Date                                                                 \n",
       "2021-04-01 06:05:43         0.833333        Minor Loss                 -   \n",
       "2021-04-01 06:22:19         1.400000        Minor Loss                 -   \n",
       "2021-04-01 06:54:09         1.716667        Minor Loss                 -   \n",
       "2021-04-01 06:56:00         1.983333        Minor Loss                 -   \n",
       "2021-04-01 06:58:05         1.616667        Minor Loss                 -   \n",
       "\n",
       "                             Machine Comments    Creator  \n",
       "Start Date                                                \n",
       "2021-04-01 06:05:43  AL6 Kartonierer      ---  MIIPCOPQH  \n",
       "2021-04-01 06:22:19  AL6 Kartonierer      ---  MIIPCOPQH  \n",
       "2021-04-01 06:54:09  AL6 Kartonierer      ---  MIIPCOPQH  \n",
       "2021-04-01 06:56:00  AL6 Kartonierer      ---  MIIPCOPQH  \n",
       "2021-04-01 06:58:05  AL6 Kartonierer      ---  MIIPCOPQH  "
      ],
      "text/html": "<div>\n<style scoped>\n    .dataframe tbody tr th:only-of-type {\n        vertical-align: middle;\n    }\n\n    .dataframe tbody tr th {\n        vertical-align: top;\n    }\n\n    .dataframe thead th {\n        text-align: right;\n    }\n</style>\n<table border=\"1\" class=\"dataframe\">\n  <thead>\n    <tr style=\"text-align: right;\">\n      <th></th>\n      <th>Shift Long Name</th>\n      <th>End Date</th>\n      <th>Duration (min.)</th>\n      <th>Stoppage Reason 3</th>\n      <th>Last Level Reason</th>\n      <th>Machine</th>\n      <th>Comments</th>\n      <th>Creator</th>\n    </tr>\n    <tr>\n      <th>Start Date</th>\n      <th></th>\n      <th></th>\n      <th></th>\n      <th></th>\n      <th></th>\n      <th></th>\n      <th></th>\n      <th></th>\n    </tr>\n  </thead>\n  <tbody>\n    <tr>\n      <th>2021-04-01 06:05:43</th>\n      <td>FRUE - 01/04/2021 06:00:00</td>\n      <td>2021-04-01 06:06:33</td>\n      <td>0.833333</td>\n      <td>Minor Loss</td>\n      <td>-</td>\n      <td>AL6 Kartonierer</td>\n      <td>---</td>\n      <td>MIIPCOPQH</td>\n    </tr>\n    <tr>\n      <th>2021-04-01 06:22:19</th>\n      <td>FRUE - 01/04/2021 06:00:00</td>\n      <td>2021-04-01 06:23:43</td>\n      <td>1.400000</td>\n      <td>Minor Loss</td>\n      <td>-</td>\n      <td>AL6 Kartonierer</td>\n      <td>---</td>\n      <td>MIIPCOPQH</td>\n    </tr>\n    <tr>\n      <th>2021-04-01 06:54:09</th>\n      <td>FRUE - 01/04/2021 06:00:00</td>\n      <td>2021-04-01 06:55:52</td>\n      <td>1.716667</td>\n      <td>Minor Loss</td>\n      <td>-</td>\n      <td>AL6 Kartonierer</td>\n      <td>---</td>\n      <td>MIIPCOPQH</td>\n    </tr>\n    <tr>\n      <th>2021-04-01 06:56:00</th>\n      <td>FRUE - 01/04/2021 06:00:00</td>\n      <td>2021-04-01 06:57:59</td>\n      <td>1.983333</td>\n      <td>Minor Loss</td>\n      <td>-</td>\n      <td>AL6 Kartonierer</td>\n      <td>---</td>\n      <td>MIIPCOPQH</td>\n    </tr>\n    <tr>\n      <th>2021-04-01 06:58:05</th>\n      <td>FRUE - 01/04/2021 06:00:00</td>\n      <td>2021-04-01 06:59:42</td>\n      <td>1.616667</td>\n      <td>Minor Loss</td>\n      <td>-</td>\n      <td>AL6 Kartonierer</td>\n      <td>---</td>\n      <td>MIIPCOPQH</td>\n    </tr>\n  </tbody>\n</table>\n</div>"
     },
     "metadata": {},
     "execution_count": 73
    }
   ],
   "source": [
    "df.head()"
   ]
  },
  {
   "cell_type": "code",
   "execution_count": 90,
   "metadata": {},
   "outputs": [],
   "source": [
    "df_OEE['Category'].replace({\n",
    "'Qualifizierung/Validierung (11)':'Qualification/validation', \n",
    "'Sonstiges und Unbekannte (26)':'Other and unknown',\n",
    "'Störungen und Fehlerbehebung (25)':'Malfunctions and troubleshooting', \n",
    "'W&I (geplante Linie) (23)':'W&I (planned line)',\n",
    "'Organisatorische Verluste und Wartezeiten (22)':'Organizational losses and waiting times',\n",
    "'Rüstvorgänge (21)':'Changeover', \n",
    "'Ungeplante Linie (14)':'Unplanned Line',\n",
    "'Feier/Brückentag (12)':'Celebration / long day', \n",
    "'Autonome Wartungen (24)':'Autonomous maintenance',\n",
    "'vorbeugende Instandhaltung/Wartung (13)':'Preventive maintenance / servicing', \n",
    "'Sonstige (15)':'Other'}, inplace=True)\n",
    "\n",
    "df['Stoppage Reason 3'].replace({\n",
    "'Qualifizierung/Validierung (11)':'Qualification/validation', \n",
    "'Sonstiges und Unbekannte (26)':'Other and unknown',\n",
    "'Störungen und Fehlerbehebung (25)':'Malfunctions and troubleshooting', \n",
    "'W&I (geplante Linie) (23)':'W&I (planned line)',\n",
    "'Organisatorische Verluste und Wartezeiten (22)':'Organizational losses and waiting times',\n",
    "'Rüstvorgänge (21)':'Changeover', \n",
    "'Ungeplante Linie (14)':'Unplanned Line',\n",
    "'Feier/Brückentag (12)':'Celebration / long day', \n",
    "'Autonome Wartungen (24)':'Autonomous maintenance',\n",
    "'vorbeugende Instandhaltung/Wartung (13)':'Preventive maintenance / servicing', \n",
    "'Sonstige (15)':'Other'}, inplace=True)"
   ]
  },
  {
   "cell_type": "code",
   "execution_count": 75,
   "metadata": {},
   "outputs": [
    {
     "output_type": "execute_result",
     "data": {
      "text/plain": [
       "           Date\n",
       "0    2021-04-01\n",
       "1    2021-04-02\n",
       "2    2021-04-03\n",
       "3    2021-04-04\n",
       "4    2021-04-05\n",
       "..          ...\n",
       "109  2021-07-19\n",
       "110  2021-07-20\n",
       "111  2021-07-21\n",
       "112  2021-07-22\n",
       "113  2021-07-23\n",
       "\n",
       "[114 rows x 1 columns]"
      ],
      "text/html": "<div>\n<style scoped>\n    .dataframe tbody tr th:only-of-type {\n        vertical-align: middle;\n    }\n\n    .dataframe tbody tr th {\n        vertical-align: top;\n    }\n\n    .dataframe thead th {\n        text-align: right;\n    }\n</style>\n<table border=\"1\" class=\"dataframe\">\n  <thead>\n    <tr style=\"text-align: right;\">\n      <th></th>\n      <th>Date</th>\n    </tr>\n  </thead>\n  <tbody>\n    <tr>\n      <th>0</th>\n      <td>2021-04-01</td>\n    </tr>\n    <tr>\n      <th>1</th>\n      <td>2021-04-02</td>\n    </tr>\n    <tr>\n      <th>2</th>\n      <td>2021-04-03</td>\n    </tr>\n    <tr>\n      <th>3</th>\n      <td>2021-04-04</td>\n    </tr>\n    <tr>\n      <th>4</th>\n      <td>2021-04-05</td>\n    </tr>\n    <tr>\n      <th>...</th>\n      <td>...</td>\n    </tr>\n    <tr>\n      <th>109</th>\n      <td>2021-07-19</td>\n    </tr>\n    <tr>\n      <th>110</th>\n      <td>2021-07-20</td>\n    </tr>\n    <tr>\n      <th>111</th>\n      <td>2021-07-21</td>\n    </tr>\n    <tr>\n      <th>112</th>\n      <td>2021-07-22</td>\n    </tr>\n    <tr>\n      <th>113</th>\n      <td>2021-07-23</td>\n    </tr>\n  </tbody>\n</table>\n<p>114 rows × 1 columns</p>\n</div>"
     },
     "metadata": {},
     "execution_count": 75
    }
   ],
   "source": [
    "# do I need this?  \n",
    "\n",
    "# set up date range with min start_date and max start_date recorded earlier\n",
    "daterange = pd.date_range(start = start_date, end = end_date, freq='D')\n",
    "\n",
    "pd.DataFrame({'Date': daterange.date})\n",
    "\n",
    "# df = pd.merge(df1, df, on=['Date','UI'], how='outer')"
   ]
  },
  {
   "cell_type": "code",
   "execution_count": 76,
   "metadata": {},
   "outputs": [
    {
     "output_type": "execute_result",
     "data": {
      "text/plain": [
       "<pandas.io.formats.style.Styler at 0x19b2965cc40>"
      ],
      "text/html": "<style  type=\"text/css\" >\n#T_a685eac5_ebb7_11eb_a5e8_18473df4e220row0_col0{\n            background-color:  #fdc48f;\n            color:  #000000;\n        }#T_a685eac5_ebb7_11eb_a5e8_18473df4e220row0_col1{\n            background-color:  #f4721e;\n            color:  #000000;\n        }#T_a685eac5_ebb7_11eb_a5e8_18473df4e220row0_col2{\n            background-color:  #fda25a;\n            color:  #000000;\n        }#T_a685eac5_ebb7_11eb_a5e8_18473df4e220row0_col3,#T_a685eac5_ebb7_11eb_a5e8_18473df4e220row15_col3{\n            background-color:  #fee0c1;\n            color:  #000000;\n        }#T_a685eac5_ebb7_11eb_a5e8_18473df4e220row1_col0,#T_a685eac5_ebb7_11eb_a5e8_18473df4e220row9_col1{\n            background-color:  #dc4c03;\n            color:  #f1f1f1;\n        }#T_a685eac5_ebb7_11eb_a5e8_18473df4e220row1_col1,#T_a685eac5_ebb7_11eb_a5e8_18473df4e220row21_col2{\n            background-color:  #e35608;\n            color:  #000000;\n        }#T_a685eac5_ebb7_11eb_a5e8_18473df4e220row1_col2{\n            background-color:  #8b2c04;\n            color:  #f1f1f1;\n        }#T_a685eac5_ebb7_11eb_a5e8_18473df4e220row1_col3{\n            background-color:  #fda965;\n            color:  #000000;\n        }#T_a685eac5_ebb7_11eb_a5e8_18473df4e220row2_col0,#T_a685eac5_ebb7_11eb_a5e8_18473df4e220row3_col2,#T_a685eac5_ebb7_11eb_a5e8_18473df4e220row6_col1,#T_a685eac5_ebb7_11eb_a5e8_18473df4e220row14_col3{\n            background-color:  #fff5eb;\n            color:  #000000;\n        }#T_a685eac5_ebb7_11eb_a5e8_18473df4e220row2_col1{\n            background-color:  #973003;\n            color:  #f1f1f1;\n        }#T_a685eac5_ebb7_11eb_a5e8_18473df4e220row2_col2{\n            background-color:  #f57622;\n            color:  #000000;\n        }#T_a685eac5_ebb7_11eb_a5e8_18473df4e220row2_col3,#T_a685eac5_ebb7_11eb_a5e8_18473df4e220row11_col1{\n            background-color:  #e75c0c;\n            color:  #000000;\n        }#T_a685eac5_ebb7_11eb_a5e8_18473df4e220row3_col0,#T_a685eac5_ebb7_11eb_a5e8_18473df4e220row3_col3,#T_a685eac5_ebb7_11eb_a5e8_18473df4e220row5_col2,#T_a685eac5_ebb7_11eb_a5e8_18473df4e220row10_col3,#T_a685eac5_ebb7_11eb_a5e8_18473df4e220row29_col1{\n            background-color:  #7f2704;\n            color:  #f1f1f1;\n        }#T_a685eac5_ebb7_11eb_a5e8_18473df4e220row3_col1,#T_a685eac5_ebb7_11eb_a5e8_18473df4e220row8_col2,#T_a685eac5_ebb7_11eb_a5e8_18473df4e220row10_col1{\n            background-color:  #a03403;\n            color:  #f1f1f1;\n        }#T_a685eac5_ebb7_11eb_a5e8_18473df4e220row4_col0,#T_a685eac5_ebb7_11eb_a5e8_18473df4e220row4_col3,#T_a685eac5_ebb7_11eb_a5e8_18473df4e220row5_col3,#T_a685eac5_ebb7_11eb_a5e8_18473df4e220row6_col3,#T_a685eac5_ebb7_11eb_a5e8_18473df4e220row7_col3,#T_a685eac5_ebb7_11eb_a5e8_18473df4e220row12_col2,#T_a685eac5_ebb7_11eb_a5e8_18473df4e220row13_col2,#T_a685eac5_ebb7_11eb_a5e8_18473df4e220row14_col2,#T_a685eac5_ebb7_11eb_a5e8_18473df4e220row15_col1,#T_a685eac5_ebb7_11eb_a5e8_18473df4e220row15_col2,#T_a685eac5_ebb7_11eb_a5e8_18473df4e220row19_col3,#T_a685eac5_ebb7_11eb_a5e8_18473df4e220row20_col3,#T_a685eac5_ebb7_11eb_a5e8_18473df4e220row21_col3,#T_a685eac5_ebb7_11eb_a5e8_18473df4e220row22_col3,#T_a685eac5_ebb7_11eb_a5e8_18473df4e220row23_col1,#T_a685eac5_ebb7_11eb_a5e8_18473df4e220row23_col3,#T_a685eac5_ebb7_11eb_a5e8_18473df4e220row24_col3,#T_a685eac5_ebb7_11eb_a5e8_18473df4e220row25_col3,#T_a685eac5_ebb7_11eb_a5e8_18473df4e220row26_col3,#T_a685eac5_ebb7_11eb_a5e8_18473df4e220row27_col3,#T_a685eac5_ebb7_11eb_a5e8_18473df4e220row28_col3,#T_a685eac5_ebb7_11eb_a5e8_18473df4e220row29_col3,#T_a685eac5_ebb7_11eb_a5e8_18473df4e220row30_col0,#T_a685eac5_ebb7_11eb_a5e8_18473df4e220row30_col2,#T_a685eac5_ebb7_11eb_a5e8_18473df4e220row30_col3{\n            background-color:  #000000;\n            color:  #f1f1f1;\n        }#T_a685eac5_ebb7_11eb_a5e8_18473df4e220row4_col1{\n            background-color:  #b03903;\n            color:  #f1f1f1;\n        }#T_a685eac5_ebb7_11eb_a5e8_18473df4e220row4_col2{\n            background-color:  #fd9e54;\n            color:  #000000;\n        }#T_a685eac5_ebb7_11eb_a5e8_18473df4e220row5_col0{\n            background-color:  #f87d29;\n            color:  #000000;\n        }#T_a685eac5_ebb7_11eb_a5e8_18473df4e220row5_col1{\n            background-color:  #bb3d02;\n            color:  #f1f1f1;\n        }#T_a685eac5_ebb7_11eb_a5e8_18473df4e220row6_col0{\n            background-color:  #fd9a4e;\n            color:  #000000;\n        }#T_a685eac5_ebb7_11eb_a5e8_18473df4e220row6_col2{\n            background-color:  #b93d02;\n            color:  #f1f1f1;\n        }#T_a685eac5_ebb7_11eb_a5e8_18473df4e220row7_col0{\n            background-color:  #feddbc;\n            color:  #000000;\n        }#T_a685eac5_ebb7_11eb_a5e8_18473df4e220row7_col1{\n            background-color:  #fedebd;\n            color:  #000000;\n        }#T_a685eac5_ebb7_11eb_a5e8_18473df4e220row7_col2{\n            background-color:  #e95e0d;\n            color:  #000000;\n        }#T_a685eac5_ebb7_11eb_a5e8_18473df4e220row8_col0{\n            background-color:  #fdd9b4;\n            color:  #000000;\n        }#T_a685eac5_ebb7_11eb_a5e8_18473df4e220row8_col1{\n            background-color:  #ee6511;\n            color:  #000000;\n        }#T_a685eac5_ebb7_11eb_a5e8_18473df4e220row8_col3{\n            background-color:  #fff3e6;\n            color:  #000000;\n        }#T_a685eac5_ebb7_11eb_a5e8_18473df4e220row9_col0,#T_a685eac5_ebb7_11eb_a5e8_18473df4e220row11_col2{\n            background-color:  #ec620f;\n            color:  #000000;\n        }#T_a685eac5_ebb7_11eb_a5e8_18473df4e220row9_col2,#T_a685eac5_ebb7_11eb_a5e8_18473df4e220row28_col2{\n            background-color:  #ed6310;\n            color:  #000000;\n        }#T_a685eac5_ebb7_11eb_a5e8_18473df4e220row9_col3{\n            background-color:  #fee7d0;\n            color:  #000000;\n        }#T_a685eac5_ebb7_11eb_a5e8_18473df4e220row10_col0{\n            background-color:  #e75b0b;\n            color:  #000000;\n        }#T_a685eac5_ebb7_11eb_a5e8_18473df4e220row10_col2,#T_a685eac5_ebb7_11eb_a5e8_18473df4e220row22_col0{\n            background-color:  #fdad69;\n            color:  #000000;\n        }#T_a685eac5_ebb7_11eb_a5e8_18473df4e220row11_col0,#T_a685eac5_ebb7_11eb_a5e8_18473df4e220row12_col1{\n            background-color:  #e45709;\n            color:  #000000;\n        }#T_a685eac5_ebb7_11eb_a5e8_18473df4e220row11_col3{\n            background-color:  #fd9f56;\n            color:  #000000;\n        }#T_a685eac5_ebb7_11eb_a5e8_18473df4e220row12_col0,#T_a685eac5_ebb7_11eb_a5e8_18473df4e220row16_col2{\n            background-color:  #f98230;\n            color:  #000000;\n        }#T_a685eac5_ebb7_11eb_a5e8_18473df4e220row12_col3{\n            background-color:  #fdd0a2;\n            color:  #000000;\n        }#T_a685eac5_ebb7_11eb_a5e8_18473df4e220row13_col0{\n            background-color:  #fdc088;\n            color:  #000000;\n        }#T_a685eac5_ebb7_11eb_a5e8_18473df4e220row13_col1{\n            background-color:  #fd9649;\n            color:  #000000;\n        }#T_a685eac5_ebb7_11eb_a5e8_18473df4e220row13_col3{\n            background-color:  #feeddc;\n            color:  #000000;\n        }#T_a685eac5_ebb7_11eb_a5e8_18473df4e220row14_col0{\n            background-color:  #fda762;\n            color:  #000000;\n        }#T_a685eac5_ebb7_11eb_a5e8_18473df4e220row14_col1,#T_a685eac5_ebb7_11eb_a5e8_18473df4e220row20_col1{\n            background-color:  #fdcfa0;\n            color:  #000000;\n        }#T_a685eac5_ebb7_11eb_a5e8_18473df4e220row15_col0{\n            background-color:  #f16913;\n            color:  #000000;\n        }#T_a685eac5_ebb7_11eb_a5e8_18473df4e220row16_col0{\n            background-color:  #fdd5ad;\n            color:  #000000;\n        }#T_a685eac5_ebb7_11eb_a5e8_18473df4e220row16_col1,#T_a685eac5_ebb7_11eb_a5e8_18473df4e220row28_col0{\n            background-color:  #fd9446;\n            color:  #000000;\n        }#T_a685eac5_ebb7_11eb_a5e8_18473df4e220row16_col3{\n            background-color:  #fddab6;\n            color:  #000000;\n        }#T_a685eac5_ebb7_11eb_a5e8_18473df4e220row17_col0{\n            background-color:  #fd9040;\n            color:  #000000;\n        }#T_a685eac5_ebb7_11eb_a5e8_18473df4e220row17_col1,#T_a685eac5_ebb7_11eb_a5e8_18473df4e220row25_col2{\n            background-color:  #f36e19;\n            color:  #000000;\n        }#T_a685eac5_ebb7_11eb_a5e8_18473df4e220row17_col2{\n            background-color:  #f9802d;\n            color:  #000000;\n        }#T_a685eac5_ebb7_11eb_a5e8_18473df4e220row17_col3{\n            background-color:  #f9812e;\n            color:  #000000;\n        }#T_a685eac5_ebb7_11eb_a5e8_18473df4e220row18_col0{\n            background-color:  #fda55f;\n            color:  #000000;\n        }#T_a685eac5_ebb7_11eb_a5e8_18473df4e220row18_col1,#T_a685eac5_ebb7_11eb_a5e8_18473df4e220row21_col1{\n            background-color:  #fdb678;\n            color:  #000000;\n        }#T_a685eac5_ebb7_11eb_a5e8_18473df4e220row18_col2,#T_a685eac5_ebb7_11eb_a5e8_18473df4e220row27_col2{\n            background-color:  #d14501;\n            color:  #f1f1f1;\n        }#T_a685eac5_ebb7_11eb_a5e8_18473df4e220row18_col3{\n            background-color:  #fdd7af;\n            color:  #000000;\n        }#T_a685eac5_ebb7_11eb_a5e8_18473df4e220row19_col0,#T_a685eac5_ebb7_11eb_a5e8_18473df4e220row23_col0{\n            background-color:  #fd9b50;\n            color:  #000000;\n        }#T_a685eac5_ebb7_11eb_a5e8_18473df4e220row19_col1{\n            background-color:  #f87e2b;\n            color:  #000000;\n        }#T_a685eac5_ebb7_11eb_a5e8_18473df4e220row19_col2{\n            background-color:  #fdc692;\n            color:  #000000;\n        }#T_a685eac5_ebb7_11eb_a5e8_18473df4e220row20_col0{\n            background-color:  #f26c16;\n            color:  #000000;\n        }#T_a685eac5_ebb7_11eb_a5e8_18473df4e220row20_col2{\n            background-color:  #ab3803;\n            color:  #f1f1f1;\n        }#T_a685eac5_ebb7_11eb_a5e8_18473df4e220row21_col0{\n            background-color:  #f4711c;\n            color:  #000000;\n        }#T_a685eac5_ebb7_11eb_a5e8_18473df4e220row22_col1,#T_a685eac5_ebb7_11eb_a5e8_18473df4e220row27_col0{\n            background-color:  #fdb87c;\n            color:  #000000;\n        }#T_a685eac5_ebb7_11eb_a5e8_18473df4e220row22_col2{\n            background-color:  #b83c02;\n            color:  #f1f1f1;\n        }#T_a685eac5_ebb7_11eb_a5e8_18473df4e220row23_col2,#T_a685eac5_ebb7_11eb_a5e8_18473df4e220row25_col0{\n            background-color:  #e15307;\n            color:  #000000;\n        }#T_a685eac5_ebb7_11eb_a5e8_18473df4e220row24_col0{\n            background-color:  #de5005;\n            color:  #f1f1f1;\n        }#T_a685eac5_ebb7_11eb_a5e8_18473df4e220row24_col1{\n            background-color:  #d94801;\n            color:  #f1f1f1;\n        }#T_a685eac5_ebb7_11eb_a5e8_18473df4e220row24_col2{\n            background-color:  #fd974a;\n            color:  #000000;\n        }#T_a685eac5_ebb7_11eb_a5e8_18473df4e220row25_col1{\n            background-color:  #f67925;\n            color:  #000000;\n        }#T_a685eac5_ebb7_11eb_a5e8_18473df4e220row26_col0{\n            background-color:  #f3701b;\n            color:  #000000;\n        }#T_a685eac5_ebb7_11eb_a5e8_18473df4e220row26_col1{\n            background-color:  #963003;\n            color:  #f1f1f1;\n        }#T_a685eac5_ebb7_11eb_a5e8_18473df4e220row26_col2{\n            background-color:  #fda660;\n            color:  #000000;\n        }#T_a685eac5_ebb7_11eb_a5e8_18473df4e220row27_col1{\n            background-color:  #942f03;\n            color:  #f1f1f1;\n        }#T_a685eac5_ebb7_11eb_a5e8_18473df4e220row28_col1{\n            background-color:  #db4a02;\n            color:  #f1f1f1;\n        }#T_a685eac5_ebb7_11eb_a5e8_18473df4e220row29_col0{\n            background-color:  #fdd5ab;\n            color:  #000000;\n        }#T_a685eac5_ebb7_11eb_a5e8_18473df4e220row29_col2{\n            background-color:  #c03f02;\n            color:  #f1f1f1;\n        }#T_a685eac5_ebb7_11eb_a5e8_18473df4e220row30_col1{\n            background-color:  #d84801;\n            color:  #f1f1f1;\n        }</style><table id=\"T_a685eac5_ebb7_11eb_a5e8_18473df4e220\" ><thead>    <tr>        <th class=\"index_name level0\" >Month</th>        <th class=\"col_heading level0 col0\" >April</th>        <th class=\"col_heading level0 col1\" >May</th>        <th class=\"col_heading level0 col2\" >June</th>        <th class=\"col_heading level0 col3\" >July</th>    </tr>    <tr>        <th class=\"index_name level0\" >Day</th>        <th class=\"blank\" ></th>        <th class=\"blank\" ></th>        <th class=\"blank\" ></th>        <th class=\"blank\" ></th>    </tr></thead><tbody>\n                <tr>\n                        <th id=\"T_a685eac5_ebb7_11eb_a5e8_18473df4e220level0_row0\" class=\"row_heading level0 row0\" >01</th>\n                        <td id=\"T_a685eac5_ebb7_11eb_a5e8_18473df4e220row0_col0\" class=\"data row0 col0\" >43.382099</td>\n                        <td id=\"T_a685eac5_ebb7_11eb_a5e8_18473df4e220row0_col1\" class=\"data row0 col1\" >43.102778</td>\n                        <td id=\"T_a685eac5_ebb7_11eb_a5e8_18473df4e220row0_col2\" class=\"data row0 col2\" >54.364583</td>\n                        <td id=\"T_a685eac5_ebb7_11eb_a5e8_18473df4e220row0_col3\" class=\"data row0 col3\" >44.023148</td>\n            </tr>\n            <tr>\n                        <th id=\"T_a685eac5_ebb7_11eb_a5e8_18473df4e220level0_row1\" class=\"row_heading level0 row1\" >02</th>\n                        <td id=\"T_a685eac5_ebb7_11eb_a5e8_18473df4e220row1_col0\" class=\"data row1 col0\" >16.429006</td>\n                        <td id=\"T_a685eac5_ebb7_11eb_a5e8_18473df4e220row1_col1\" class=\"data row1 col1\" >38.669444</td>\n                        <td id=\"T_a685eac5_ebb7_11eb_a5e8_18473df4e220row1_col2\" class=\"data row1 col2\" >21.286574</td>\n                        <td id=\"T_a685eac5_ebb7_11eb_a5e8_18473df4e220row1_col3\" class=\"data row1 col3\" >31.937310</td>\n            </tr>\n            <tr>\n                        <th id=\"T_a685eac5_ebb7_11eb_a5e8_18473df4e220level0_row2\" class=\"row_heading level0 row2\" >03</th>\n                        <td id=\"T_a685eac5_ebb7_11eb_a5e8_18473df4e220row2_col0\" class=\"data row2 col0\" >61.401389</td>\n                        <td id=\"T_a685eac5_ebb7_11eb_a5e8_18473df4e220row2_col1\" class=\"data row2 col1\" >29.590123</td>\n                        <td id=\"T_a685eac5_ebb7_11eb_a5e8_18473df4e220row2_col2\" class=\"data row2 col2\" >44.448400</td>\n                        <td id=\"T_a685eac5_ebb7_11eb_a5e8_18473df4e220row2_col3\" class=\"data row2 col3\" >17.029861</td>\n            </tr>\n            <tr>\n                        <th id=\"T_a685eac5_ebb7_11eb_a5e8_18473df4e220level0_row3\" class=\"row_heading level0 row3\" >04</th>\n                        <td id=\"T_a685eac5_ebb7_11eb_a5e8_18473df4e220row3_col0\" class=\"data row3 col0\" >0.008333</td>\n                        <td id=\"T_a685eac5_ebb7_11eb_a5e8_18473df4e220row3_col1\" class=\"data row3 col1\" >30.714903</td>\n                        <td id=\"T_a685eac5_ebb7_11eb_a5e8_18473df4e220row3_col2\" class=\"data row3 col2\" >80.177778</td>\n                        <td id=\"T_a685eac5_ebb7_11eb_a5e8_18473df4e220row3_col3\" class=\"data row3 col3\" >0.000000</td>\n            </tr>\n            <tr>\n                        <th id=\"T_a685eac5_ebb7_11eb_a5e8_18473df4e220level0_row4\" class=\"row_heading level0 row4\" >05</th>\n                        <td id=\"T_a685eac5_ebb7_11eb_a5e8_18473df4e220row4_col0\" class=\"data row4 col0\" >nan</td>\n                        <td id=\"T_a685eac5_ebb7_11eb_a5e8_18473df4e220row4_col1\" class=\"data row4 col1\" >32.486574</td>\n                        <td id=\"T_a685eac5_ebb7_11eb_a5e8_18473df4e220row4_col2\" class=\"data row4 col2\" >53.335463</td>\n                        <td id=\"T_a685eac5_ebb7_11eb_a5e8_18473df4e220row4_col3\" class=\"data row4 col3\" >nan</td>\n            </tr>\n            <tr>\n                        <th id=\"T_a685eac5_ebb7_11eb_a5e8_18473df4e220level0_row5\" class=\"row_heading level0 row5\" >06</th>\n                        <td id=\"T_a685eac5_ebb7_11eb_a5e8_18473df4e220row5_col0\" class=\"data row5 col0\" >27.228704</td>\n                        <td id=\"T_a685eac5_ebb7_11eb_a5e8_18473df4e220row5_col1\" class=\"data row5 col1\" >33.511179</td>\n                        <td id=\"T_a685eac5_ebb7_11eb_a5e8_18473df4e220row5_col2\" class=\"data row5 col2\" >18.668519</td>\n                        <td id=\"T_a685eac5_ebb7_11eb_a5e8_18473df4e220row5_col3\" class=\"data row5 col3\" >nan</td>\n            </tr>\n            <tr>\n                        <th id=\"T_a685eac5_ebb7_11eb_a5e8_18473df4e220level0_row6\" class=\"row_heading level0 row6\" >07</th>\n                        <td id=\"T_a685eac5_ebb7_11eb_a5e8_18473df4e220row6_col0\" class=\"data row6 col0\" >33.662500</td>\n                        <td id=\"T_a685eac5_ebb7_11eb_a5e8_18473df4e220row6_col1\" class=\"data row6 col1\" >67.476157</td>\n                        <td id=\"T_a685eac5_ebb7_11eb_a5e8_18473df4e220row6_col2\" class=\"data row6 col2\" >29.443308</td>\n                        <td id=\"T_a685eac5_ebb7_11eb_a5e8_18473df4e220row6_col3\" class=\"data row6 col3\" >nan</td>\n            </tr>\n            <tr>\n                        <th id=\"T_a685eac5_ebb7_11eb_a5e8_18473df4e220level0_row7\" class=\"row_heading level0 row7\" >08</th>\n                        <td id=\"T_a685eac5_ebb7_11eb_a5e8_18473df4e220row7_col0\" class=\"data row7 col0\" >50.584259</td>\n                        <td id=\"T_a685eac5_ebb7_11eb_a5e8_18473df4e220row7_col1\" class=\"data row7 col1\" >60.335648</td>\n                        <td id=\"T_a685eac5_ebb7_11eb_a5e8_18473df4e220row7_col2\" class=\"data row7 col2\" >39.222029</td>\n                        <td id=\"T_a685eac5_ebb7_11eb_a5e8_18473df4e220row7_col3\" class=\"data row7 col3\" >nan</td>\n            </tr>\n            <tr>\n                        <th id=\"T_a685eac5_ebb7_11eb_a5e8_18473df4e220level0_row8\" class=\"row_heading level0 row8\" >09</th>\n                        <td id=\"T_a685eac5_ebb7_11eb_a5e8_18473df4e220row8_col0\" class=\"data row8 col0\" >49.161111</td>\n                        <td id=\"T_a685eac5_ebb7_11eb_a5e8_18473df4e220row8_col1\" class=\"data row8 col1\" >41.127778</td>\n                        <td id=\"T_a685eac5_ebb7_11eb_a5e8_18473df4e220row8_col2\" class=\"data row8 col2\" >25.174102</td>\n                        <td id=\"T_a685eac5_ebb7_11eb_a5e8_18473df4e220row8_col3\" class=\"data row8 col3\" >51.367983</td>\n            </tr>\n            <tr>\n                        <th id=\"T_a685eac5_ebb7_11eb_a5e8_18473df4e220level0_row9\" class=\"row_heading level0 row9\" >10</th>\n                        <td id=\"T_a685eac5_ebb7_11eb_a5e8_18473df4e220row9_col0\" class=\"data row9 col0\" >21.541204</td>\n                        <td id=\"T_a685eac5_ebb7_11eb_a5e8_18473df4e220row9_col1\" class=\"data row9 col1\" >37.269136</td>\n                        <td id=\"T_a685eac5_ebb7_11eb_a5e8_18473df4e220row9_col2\" class=\"data row9 col2\" >40.460725</td>\n                        <td id=\"T_a685eac5_ebb7_11eb_a5e8_18473df4e220row9_col3\" class=\"data row9 col3\" >46.144444</td>\n            </tr>\n            <tr>\n                        <th id=\"T_a685eac5_ebb7_11eb_a5e8_18473df4e220level0_row10\" class=\"row_heading level0 row10\" >11</th>\n                        <td id=\"T_a685eac5_ebb7_11eb_a5e8_18473df4e220row10_col0\" class=\"data row10 col0\" >19.879630</td>\n                        <td id=\"T_a685eac5_ebb7_11eb_a5e8_18473df4e220row10_col1\" class=\"data row10 col1\" >30.717593</td>\n                        <td id=\"T_a685eac5_ebb7_11eb_a5e8_18473df4e220row10_col2\" class=\"data row10 col2\" >56.632035</td>\n                        <td id=\"T_a685eac5_ebb7_11eb_a5e8_18473df4e220row10_col3\" class=\"data row10 col3\" >0.000000</td>\n            </tr>\n            <tr>\n                        <th id=\"T_a685eac5_ebb7_11eb_a5e8_18473df4e220level0_row11\" class=\"row_heading level0 row11\" >12</th>\n                        <td id=\"T_a685eac5_ebb7_11eb_a5e8_18473df4e220row11_col0\" class=\"data row11 col0\" >18.801852</td>\n                        <td id=\"T_a685eac5_ebb7_11eb_a5e8_18473df4e220row11_col1\" class=\"data row11 col1\" >39.638889</td>\n                        <td id=\"T_a685eac5_ebb7_11eb_a5e8_18473df4e220row11_col2\" class=\"data row11 col2\" >40.257336</td>\n                        <td id=\"T_a685eac5_ebb7_11eb_a5e8_18473df4e220row11_col3\" class=\"data row11 col3\" >29.729321</td>\n            </tr>\n            <tr>\n                        <th id=\"T_a685eac5_ebb7_11eb_a5e8_18473df4e220level0_row12\" class=\"row_heading level0 row12\" >13</th>\n                        <td id=\"T_a685eac5_ebb7_11eb_a5e8_18473df4e220row12_col0\" class=\"data row12 col0\" >28.356034</td>\n                        <td id=\"T_a685eac5_ebb7_11eb_a5e8_18473df4e220row12_col1\" class=\"data row12 col1\" >38.884722</td>\n                        <td id=\"T_a685eac5_ebb7_11eb_a5e8_18473df4e220row12_col2\" class=\"data row12 col2\" >nan</td>\n                        <td id=\"T_a685eac5_ebb7_11eb_a5e8_18473df4e220row12_col3\" class=\"data row12 col3\" >39.157182</td>\n            </tr>\n            <tr>\n                        <th id=\"T_a685eac5_ebb7_11eb_a5e8_18473df4e220level0_row13\" class=\"row_heading level0 row13\" >14</th>\n                        <td id=\"T_a685eac5_ebb7_11eb_a5e8_18473df4e220row13_col0\" class=\"data row13 col0\" >42.300956</td>\n                        <td id=\"T_a685eac5_ebb7_11eb_a5e8_18473df4e220row13_col1\" class=\"data row13 col1\" >48.251852</td>\n                        <td id=\"T_a685eac5_ebb7_11eb_a5e8_18473df4e220row13_col2\" class=\"data row13 col2\" >nan</td>\n                        <td id=\"T_a685eac5_ebb7_11eb_a5e8_18473df4e220row13_col3\" class=\"data row13 col3\" >48.774537</td>\n            </tr>\n            <tr>\n                        <th id=\"T_a685eac5_ebb7_11eb_a5e8_18473df4e220level0_row14\" class=\"row_heading level0 row14\" >15</th>\n                        <td id=\"T_a685eac5_ebb7_11eb_a5e8_18473df4e220row14_col0\" class=\"data row14 col0\" >36.832639</td>\n                        <td id=\"T_a685eac5_ebb7_11eb_a5e8_18473df4e220row14_col1\" class=\"data row14 col1\" >56.997543</td>\n                        <td id=\"T_a685eac5_ebb7_11eb_a5e8_18473df4e220row14_col2\" class=\"data row14 col2\" >nan</td>\n                        <td id=\"T_a685eac5_ebb7_11eb_a5e8_18473df4e220row14_col3\" class=\"data row14 col3\" >52.423803</td>\n            </tr>\n            <tr>\n                        <th id=\"T_a685eac5_ebb7_11eb_a5e8_18473df4e220level0_row15\" class=\"row_heading level0 row15\" >16</th>\n                        <td id=\"T_a685eac5_ebb7_11eb_a5e8_18473df4e220row15_col0\" class=\"data row15 col0\" >23.082639</td>\n                        <td id=\"T_a685eac5_ebb7_11eb_a5e8_18473df4e220row15_col1\" class=\"data row15 col1\" >nan</td>\n                        <td id=\"T_a685eac5_ebb7_11eb_a5e8_18473df4e220row15_col2\" class=\"data row15 col2\" >nan</td>\n                        <td id=\"T_a685eac5_ebb7_11eb_a5e8_18473df4e220row15_col3\" class=\"data row15 col3\" >43.964120</td>\n            </tr>\n            <tr>\n                        <th id=\"T_a685eac5_ebb7_11eb_a5e8_18473df4e220level0_row16\" class=\"row_heading level0 row16\" >17</th>\n                        <td id=\"T_a685eac5_ebb7_11eb_a5e8_18473df4e220row16_col0\" class=\"data row16 col0\" >47.968056</td>\n                        <td id=\"T_a685eac5_ebb7_11eb_a5e8_18473df4e220row16_col1\" class=\"data row16 col1\" >47.876543</td>\n                        <td id=\"T_a685eac5_ebb7_11eb_a5e8_18473df4e220row16_col2\" class=\"data row16 col2\" >47.181481</td>\n                        <td id=\"T_a685eac5_ebb7_11eb_a5e8_18473df4e220row16_col3\" class=\"data row16 col3\" >42.312731</td>\n            </tr>\n            <tr>\n                        <th id=\"T_a685eac5_ebb7_11eb_a5e8_18473df4e220level0_row17\" class=\"row_heading level0 row17\" >18</th>\n                        <td id=\"T_a685eac5_ebb7_11eb_a5e8_18473df4e220row17_col0\" class=\"data row17 col0\" >31.369444</td>\n                        <td id=\"T_a685eac5_ebb7_11eb_a5e8_18473df4e220row17_col1\" class=\"data row17 col1\" >42.353009</td>\n                        <td id=\"T_a685eac5_ebb7_11eb_a5e8_18473df4e220row17_col2\" class=\"data row17 col2\" >46.707639</td>\n                        <td id=\"T_a685eac5_ebb7_11eb_a5e8_18473df4e220row17_col3\" class=\"data row17 col3\" >24.037037</td>\n            </tr>\n            <tr>\n                        <th id=\"T_a685eac5_ebb7_11eb_a5e8_18473df4e220level0_row18\" class=\"row_heading level0 row18\" >19</th>\n                        <td id=\"T_a685eac5_ebb7_11eb_a5e8_18473df4e220row18_col0\" class=\"data row18 col0\" >36.224074</td>\n                        <td id=\"T_a685eac5_ebb7_11eb_a5e8_18473df4e220row18_col1\" class=\"data row18 col1\" >53.217361</td>\n                        <td id=\"T_a685eac5_ebb7_11eb_a5e8_18473df4e220row18_col2\" class=\"data row18 col2\" >32.887500</td>\n                        <td id=\"T_a685eac5_ebb7_11eb_a5e8_18473df4e220row18_col3\" class=\"data row18 col3\" >41.329095</td>\n            </tr>\n            <tr>\n                        <th id=\"T_a685eac5_ebb7_11eb_a5e8_18473df4e220level0_row19\" class=\"row_heading level0 row19\" >20</th>\n                        <td id=\"T_a685eac5_ebb7_11eb_a5e8_18473df4e220row19_col0\" class=\"data row19 col0\" >33.851389</td>\n                        <td id=\"T_a685eac5_ebb7_11eb_a5e8_18473df4e220row19_col1\" class=\"data row19 col1\" >44.592361</td>\n                        <td id=\"T_a685eac5_ebb7_11eb_a5e8_18473df4e220row19_col2\" class=\"data row19 col2\" >62.568245</td>\n                        <td id=\"T_a685eac5_ebb7_11eb_a5e8_18473df4e220row19_col3\" class=\"data row19 col3\" >nan</td>\n            </tr>\n            <tr>\n                        <th id=\"T_a685eac5_ebb7_11eb_a5e8_18473df4e220level0_row20\" class=\"row_heading level0 row20\" >21</th>\n                        <td id=\"T_a685eac5_ebb7_11eb_a5e8_18473df4e220row20_col0\" class=\"data row20 col0\" >23.668056</td>\n                        <td id=\"T_a685eac5_ebb7_11eb_a5e8_18473df4e220row20_col1\" class=\"data row20 col1\" >56.915278</td>\n                        <td id=\"T_a685eac5_ebb7_11eb_a5e8_18473df4e220row20_col2\" class=\"data row20 col2\" >27.259259</td>\n                        <td id=\"T_a685eac5_ebb7_11eb_a5e8_18473df4e220row20_col3\" class=\"data row20 col3\" >nan</td>\n            </tr>\n            <tr>\n                        <th id=\"T_a685eac5_ebb7_11eb_a5e8_18473df4e220level0_row21\" class=\"row_heading level0 row21\" >22</th>\n                        <td id=\"T_a685eac5_ebb7_11eb_a5e8_18473df4e220row21_col0\" class=\"data row21 col0\" >24.777778</td>\n                        <td id=\"T_a685eac5_ebb7_11eb_a5e8_18473df4e220row21_col1\" class=\"data row21 col1\" >53.195139</td>\n                        <td id=\"T_a685eac5_ebb7_11eb_a5e8_18473df4e220row21_col2\" class=\"data row21 col2\" >37.336806</td>\n                        <td id=\"T_a685eac5_ebb7_11eb_a5e8_18473df4e220row21_col3\" class=\"data row21 col3\" >nan</td>\n            </tr>\n            <tr>\n                        <th id=\"T_a685eac5_ebb7_11eb_a5e8_18473df4e220level0_row22\" class=\"row_heading level0 row22\" >23</th>\n                        <td id=\"T_a685eac5_ebb7_11eb_a5e8_18473df4e220row22_col0\" class=\"data row22 col0\" >37.938889</td>\n                        <td id=\"T_a685eac5_ebb7_11eb_a5e8_18473df4e220row22_col1\" class=\"data row22 col1\" >53.586111</td>\n                        <td id=\"T_a685eac5_ebb7_11eb_a5e8_18473df4e220row22_col2\" class=\"data row22 col2\" >29.197222</td>\n                        <td id=\"T_a685eac5_ebb7_11eb_a5e8_18473df4e220row22_col3\" class=\"data row22 col3\" >nan</td>\n            </tr>\n            <tr>\n                        <th id=\"T_a685eac5_ebb7_11eb_a5e8_18473df4e220level0_row23\" class=\"row_heading level0 row23\" >24</th>\n                        <td id=\"T_a685eac5_ebb7_11eb_a5e8_18473df4e220row23_col0\" class=\"data row23 col0\" >34.022252</td>\n                        <td id=\"T_a685eac5_ebb7_11eb_a5e8_18473df4e220row23_col1\" class=\"data row23 col1\" >nan</td>\n                        <td id=\"T_a685eac5_ebb7_11eb_a5e8_18473df4e220row23_col2\" class=\"data row23 col2\" >36.686574</td>\n                        <td id=\"T_a685eac5_ebb7_11eb_a5e8_18473df4e220row23_col3\" class=\"data row23 col3\" >nan</td>\n            </tr>\n            <tr>\n                        <th id=\"T_a685eac5_ebb7_11eb_a5e8_18473df4e220level0_row24\" class=\"row_heading level0 row24\" >25</th>\n                        <td id=\"T_a685eac5_ebb7_11eb_a5e8_18473df4e220row24_col0\" class=\"data row24 col0\" >17.201852</td>\n                        <td id=\"T_a685eac5_ebb7_11eb_a5e8_18473df4e220row24_col1\" class=\"data row24 col1\" >36.665741</td>\n                        <td id=\"T_a685eac5_ebb7_11eb_a5e8_18473df4e220row24_col2\" class=\"data row24 col2\" >51.619907</td>\n                        <td id=\"T_a685eac5_ebb7_11eb_a5e8_18473df4e220row24_col3\" class=\"data row24 col3\" >nan</td>\n            </tr>\n            <tr>\n                        <th id=\"T_a685eac5_ebb7_11eb_a5e8_18473df4e220level0_row25\" class=\"row_heading level0 row25\" >26</th>\n                        <td id=\"T_a685eac5_ebb7_11eb_a5e8_18473df4e220row25_col0\" class=\"data row25 col0\" >17.789545</td>\n                        <td id=\"T_a685eac5_ebb7_11eb_a5e8_18473df4e220row25_col1\" class=\"data row25 col1\" >44.075054</td>\n                        <td id=\"T_a685eac5_ebb7_11eb_a5e8_18473df4e220row25_col2\" class=\"data row25 col2\" >42.872750</td>\n                        <td id=\"T_a685eac5_ebb7_11eb_a5e8_18473df4e220row25_col3\" class=\"data row25 col3\" >nan</td>\n            </tr>\n            <tr>\n                        <th id=\"T_a685eac5_ebb7_11eb_a5e8_18473df4e220level0_row26\" class=\"row_heading level0 row26\" >27</th>\n                        <td id=\"T_a685eac5_ebb7_11eb_a5e8_18473df4e220row26_col0\" class=\"data row26 col0\" >24.606069</td>\n                        <td id=\"T_a685eac5_ebb7_11eb_a5e8_18473df4e220row26_col1\" class=\"data row26 col1\" >29.422189</td>\n                        <td id=\"T_a685eac5_ebb7_11eb_a5e8_18473df4e220row26_col2\" class=\"data row26 col2\" >55.277778</td>\n                        <td id=\"T_a685eac5_ebb7_11eb_a5e8_18473df4e220row26_col3\" class=\"data row26 col3\" >nan</td>\n            </tr>\n            <tr>\n                        <th id=\"T_a685eac5_ebb7_11eb_a5e8_18473df4e220level0_row27\" class=\"row_heading level0 row27\" >28</th>\n                        <td id=\"T_a685eac5_ebb7_11eb_a5e8_18473df4e220row27_col0\" class=\"data row27 col0\" >40.645852</td>\n                        <td id=\"T_a685eac5_ebb7_11eb_a5e8_18473df4e220row27_col1\" class=\"data row27 col1\" >29.017283</td>\n                        <td id=\"T_a685eac5_ebb7_11eb_a5e8_18473df4e220row27_col2\" class=\"data row27 col2\" >32.945135</td>\n                        <td id=\"T_a685eac5_ebb7_11eb_a5e8_18473df4e220row27_col3\" class=\"data row27 col3\" >nan</td>\n            </tr>\n            <tr>\n                        <th id=\"T_a685eac5_ebb7_11eb_a5e8_18473df4e220level0_row28\" class=\"row_heading level0 row28\" >29</th>\n                        <td id=\"T_a685eac5_ebb7_11eb_a5e8_18473df4e220row28_col0\" class=\"data row28 col0\" >32.317361</td>\n                        <td id=\"T_a685eac5_ebb7_11eb_a5e8_18473df4e220row28_col1\" class=\"data row28 col1\" >36.871793</td>\n                        <td id=\"T_a685eac5_ebb7_11eb_a5e8_18473df4e220row28_col2\" class=\"data row28 col2\" >40.484561</td>\n                        <td id=\"T_a685eac5_ebb7_11eb_a5e8_18473df4e220row28_col3\" class=\"data row28 col3\" >nan</td>\n            </tr>\n            <tr>\n                        <th id=\"T_a685eac5_ebb7_11eb_a5e8_18473df4e220level0_row29\" class=\"row_heading level0 row29\" >30</th>\n                        <td id=\"T_a685eac5_ebb7_11eb_a5e8_18473df4e220row29_col0\" class=\"data row29 col0\" >47.721528</td>\n                        <td id=\"T_a685eac5_ebb7_11eb_a5e8_18473df4e220row29_col1\" class=\"data row29 col1\" >26.219444</td>\n                        <td id=\"T_a685eac5_ebb7_11eb_a5e8_18473df4e220row29_col2\" class=\"data row29 col2\" >30.341111</td>\n                        <td id=\"T_a685eac5_ebb7_11eb_a5e8_18473df4e220row29_col3\" class=\"data row29 col3\" >nan</td>\n            </tr>\n            <tr>\n                        <th id=\"T_a685eac5_ebb7_11eb_a5e8_18473df4e220level0_row30\" class=\"row_heading level0 row30\" >31</th>\n                        <td id=\"T_a685eac5_ebb7_11eb_a5e8_18473df4e220row30_col0\" class=\"data row30 col0\" >nan</td>\n                        <td id=\"T_a685eac5_ebb7_11eb_a5e8_18473df4e220row30_col1\" class=\"data row30 col1\" >36.513889</td>\n                        <td id=\"T_a685eac5_ebb7_11eb_a5e8_18473df4e220row30_col2\" class=\"data row30 col2\" >nan</td>\n                        <td id=\"T_a685eac5_ebb7_11eb_a5e8_18473df4e220row30_col3\" class=\"data row30 col3\" >nan</td>\n            </tr>\n    </tbody></table>"
     },
     "metadata": {},
     "execution_count": 76
    }
   ],
   "source": [
    "df_OEE['Month'] = df_OEE.index.strftime(\"%B\")\n",
    "df_OEE['Day'] = df_OEE.index.strftime(\"%d\")\n",
    "df_OEE.head()\n",
    "\n",
    "# df_OEE.groupby(['Day', 'Month', 'Category'])[['OEE']].sum()\n",
    "\n",
    "df_OEE['Month'] = df_OEE['Month'].astype(pd.api.types.CategoricalDtype(categories=['April','May','June', 'July'], ordered=True))\n",
    "\n",
    "\n",
    "production = df_OEE[df_OEE.Category == ('Production')]\n",
    "changeover = df_OEE[df_OEE.Category == ('Changeover')]\n",
    "\n",
    "pivot = production.pivot(index='Day', columns='Month', values='OEE').style.background_gradient(cmap='Oranges_r')\\\n",
    "       # .format(\"{:.2f}\")\n",
    "\n",
    "pivot"
   ]
  },
  {
   "cell_type": "code",
   "execution_count": 77,
   "metadata": {},
   "outputs": [],
   "source": [
    "pivot.to_excel(dir + \"AL6_production_losses_pivot.xlsx\")"
   ]
  },
  {
   "cell_type": "code",
   "execution_count": 78,
   "metadata": {},
   "outputs": [],
   "source": [
    "category_order = ['Production',\n",
    "'Organizational losses and waiting times', \n",
    "'Changeover', \n",
    "'Malfunctions and troubleshooting',\n",
    "'Other and unknown', \n",
    "'Without cause', \n",
    "'Minor Loss', \n",
    "'Speed Loss', \n",
    "'Autonomous maintenance',\n",
    "'Celebration / long day', \n",
    "'Other',\n",
    "'Preventive maintenance / servicing', \n",
    "'Quality Loss',\n",
    "'Unplanned Line',\n",
    "'W&I (planned line)',\n",
    "'Qualification/validation']"
   ]
  },
  {
   "cell_type": "markdown",
   "metadata": {},
   "source": [
    "not using this one at the moment, as the categories are all over the place"
   ]
  },
  {
   "cell_type": "code",
   "execution_count": 168,
   "metadata": {},
   "outputs": [
    {
     "output_type": "execute_result",
     "data": {
      "text/plain": [
       "<xlsxwriter.format.Format at 0x19b2be7a670>"
      ]
     },
     "metadata": {},
     "execution_count": 168
    }
   ],
   "source": [
    "writer = pd.ExcelWriter(dir + 'AL6_OEE_Losses_pivot.xlsx', engine='xlsxwriter')\n",
    "for i in df_OEE.Month.unique():\n",
    "    pivot_OEE = df_OEE.pivot(index='Day', columns=['Category','Month'], values='OEE').filter(regex=i)\n",
    "    styler_OEE = pivot_OEE.style.background_gradient(cmap='Oranges')\\\n",
    "        .background_gradient(subset=['Production'], cmap='Oranges_r')\\\n",
    "    \n",
    "    styler_OEE.to_excel(writer, sheet_name=i)\n",
    "    worksheet = writer.sheets[i]\n",
    "    workbook = writer.book\n",
    "    cell_format = workbook.add_format()\n",
    "    decimal = workbook.add_format({'num_format': '0.00'})\n",
    "#     worksheet.set_column('A:H', 45, cell_format)\n",
    "#     call function get_col_widths to auto size the excel columns\n",
    "    for x, width in enumerate(get_col_widths(pivot_OEE)):\n",
    "        #set each column width to be 1*25 that of the max string so that it fits nicely\n",
    "        worksheet.set_column(x, x, width * 1.25)    \n",
    "\n",
    "\n",
    "\n",
    "workbook = writer.book\n",
    "workbook.add_format()\n",
    "workbook.add_format({'num_format': '0.00'})\n",
    "# writer.save()"
   ]
  },
  {
   "cell_type": "markdown",
   "metadata": {},
   "source": [
    "This sorts the pivot by category, then month."
   ]
  },
  {
   "cell_type": "code",
   "execution_count": 80,
   "metadata": {},
   "outputs": [],
   "source": [
    "# writer = pd.ExcelWriter(dir + 'AL6_OEE_Losses_pivot.xlsx', engine='xlsxwriter')\n",
    "\n",
    "# pivot_OEE_sorted = df_OEE.pivot(index='Day', columns=['Category','Month'], values='OEE')\n",
    "# pivot_OEE_sorted.columns = pivot_OEE_sorted.columns.set_levels(\n",
    "#     pd.CategoricalIndex(\n",
    "#         pivot_OEE_sorted.columns.levels[0],\n",
    "#         ['Production',\n",
    "#         'Organizational losses and waiting times', \n",
    "#         'Changeover', \n",
    "#         'Malfunctions and troubleshooting',\n",
    "#         'Other and unknown', \n",
    "#         'Without cause', \n",
    "#         'Minor Loss', \n",
    "#         'Speed Loss', \n",
    "#         'Autonomous maintenance',\n",
    "#         'W&I (planned line)',\n",
    "#         'Celebration / long day', \n",
    "#         'Other',\n",
    "#         'Preventive maintenance / servicing', \n",
    "#         'Quality Loss',\n",
    "#         'Unplanned Line',\n",
    "#         'Qualification/validation'],\n",
    "#         ordered=True\n",
    "#     ), level=0\n",
    "# )\n",
    "\n",
    "# pivot_OEE_sorted = pivot_OEE_sorted.sort_index(axis=1).style.background_gradient(cmap='Oranges')\\\n",
    "#     .background_gradient(subset=['Production'], cmap='Purples')\n",
    "\n",
    "# pivot_OEE_sorted.to_excel(writer)\n",
    "# workbook = writer.book\n",
    "# writer.save()"
   ]
  },
  {
   "cell_type": "code",
   "execution_count": 81,
   "metadata": {},
   "outputs": [
    {
     "output_type": "execute_result",
     "data": {
      "text/plain": [
       "Category  Autonomous maintenance                                   \\\n",
       "Month                      April        May       June       July   \n",
       "OEE count              29.000000  29.000000  26.000000  15.000000   \n",
       "    mean                2.200777   2.992478   3.742103   2.113928   \n",
       "    std                 4.408781   4.039306   5.025886   4.397251   \n",
       "    min                 0.000000   0.000000   0.000000   0.000000   \n",
       "    25%                 0.000000   0.000000   0.502025   0.000000   \n",
       "    50%                 0.620370   1.012346   3.007995   0.726852   \n",
       "    75%                 2.942130   4.481481   4.711516   1.332392   \n",
       "    max                22.726852  15.724537  23.834491  16.607762   \n",
       "\n",
       "Category  Celebration / long day           Changeover                        \\\n",
       "Month                      April  May June      April        May       June   \n",
       "OEE count                    5.0  1.0  1.0  29.000000  29.000000  26.000000   \n",
       "    mean                     0.0  0.0  0.0  10.866925   8.049728   6.767113   \n",
       "    std                      0.0  NaN  NaN  18.301047   6.980477  10.173623   \n",
       "    min                      0.0  0.0  0.0   0.000000   0.000000   0.000000   \n",
       "    25%                      0.0  0.0  0.0   2.824074   1.851852   0.000000   \n",
       "    50%                      0.0  0.0  0.0   7.143519   7.131944   3.182870   \n",
       "    75%                      0.0  0.0  0.0  12.169753  11.748868  10.366030   \n",
       "    max                      0.0  0.0  0.0  99.995370  29.032407  47.500000   \n",
       "\n",
       "Category   ... Unplanned Line       W&I (planned line)                       \\\n",
       "Month      ...           June  July              April  May       June July   \n",
       "OEE count  ...           26.0  15.0               12.0  8.0  12.000000  9.0   \n",
       "    mean   ...            0.0   0.0                0.0  0.0   0.560957  0.0   \n",
       "    std    ...            0.0   0.0                0.0  0.0   1.310115  0.0   \n",
       "    min    ...            0.0   0.0                0.0  0.0   0.000000  0.0   \n",
       "    25%    ...            0.0   0.0                0.0  0.0   0.000000  0.0   \n",
       "    50%    ...            0.0   0.0                0.0  0.0   0.000000  0.0   \n",
       "    75%    ...            0.0   0.0                0.0  0.0   0.000000  0.0   \n",
       "    max    ...            0.0   0.0                0.0  0.0   3.371528  0.0   \n",
       "\n",
       "Category  Without cause                                   \n",
       "Month             April        May       June       July  \n",
       "OEE count     29.000000  29.000000  26.000000  15.000000  \n",
       "    mean       4.234435   7.735997   1.904903   1.585354  \n",
       "    std        3.924070   7.918484   1.657682   1.479806  \n",
       "    min        0.000000   0.000000   0.000000   0.000000  \n",
       "    25%        1.516204   4.101852   0.527199   0.177662  \n",
       "    50%        2.003472   6.299769   1.712269   1.416667  \n",
       "    75%        6.394676   9.224993   3.304398   2.313601  \n",
       "    max       12.229167  42.574074   5.504630   4.671296  \n",
       "\n",
       "[8 rows x 62 columns]"
      ],
      "text/html": "<div>\n<style scoped>\n    .dataframe tbody tr th:only-of-type {\n        vertical-align: middle;\n    }\n\n    .dataframe tbody tr th {\n        vertical-align: top;\n    }\n\n    .dataframe thead tr th {\n        text-align: left;\n    }\n</style>\n<table border=\"1\" class=\"dataframe\">\n  <thead>\n    <tr>\n      <th></th>\n      <th>Category</th>\n      <th colspan=\"4\" halign=\"left\">Autonomous maintenance</th>\n      <th colspan=\"3\" halign=\"left\">Celebration / long day</th>\n      <th colspan=\"3\" halign=\"left\">Changeover</th>\n      <th>...</th>\n      <th colspan=\"2\" halign=\"left\">Unplanned Line</th>\n      <th colspan=\"4\" halign=\"left\">W&amp;I (planned line)</th>\n      <th colspan=\"4\" halign=\"left\">Without cause</th>\n    </tr>\n    <tr>\n      <th></th>\n      <th>Month</th>\n      <th>April</th>\n      <th>May</th>\n      <th>June</th>\n      <th>July</th>\n      <th>April</th>\n      <th>May</th>\n      <th>June</th>\n      <th>April</th>\n      <th>May</th>\n      <th>June</th>\n      <th>...</th>\n      <th>June</th>\n      <th>July</th>\n      <th>April</th>\n      <th>May</th>\n      <th>June</th>\n      <th>July</th>\n      <th>April</th>\n      <th>May</th>\n      <th>June</th>\n      <th>July</th>\n    </tr>\n  </thead>\n  <tbody>\n    <tr>\n      <th rowspan=\"8\" valign=\"top\">OEE</th>\n      <th>count</th>\n      <td>29.000000</td>\n      <td>29.000000</td>\n      <td>26.000000</td>\n      <td>15.000000</td>\n      <td>5.0</td>\n      <td>1.0</td>\n      <td>1.0</td>\n      <td>29.000000</td>\n      <td>29.000000</td>\n      <td>26.000000</td>\n      <td>...</td>\n      <td>26.0</td>\n      <td>15.0</td>\n      <td>12.0</td>\n      <td>8.0</td>\n      <td>12.000000</td>\n      <td>9.0</td>\n      <td>29.000000</td>\n      <td>29.000000</td>\n      <td>26.000000</td>\n      <td>15.000000</td>\n    </tr>\n    <tr>\n      <th>mean</th>\n      <td>2.200777</td>\n      <td>2.992478</td>\n      <td>3.742103</td>\n      <td>2.113928</td>\n      <td>0.0</td>\n      <td>0.0</td>\n      <td>0.0</td>\n      <td>10.866925</td>\n      <td>8.049728</td>\n      <td>6.767113</td>\n      <td>...</td>\n      <td>0.0</td>\n      <td>0.0</td>\n      <td>0.0</td>\n      <td>0.0</td>\n      <td>0.560957</td>\n      <td>0.0</td>\n      <td>4.234435</td>\n      <td>7.735997</td>\n      <td>1.904903</td>\n      <td>1.585354</td>\n    </tr>\n    <tr>\n      <th>std</th>\n      <td>4.408781</td>\n      <td>4.039306</td>\n      <td>5.025886</td>\n      <td>4.397251</td>\n      <td>0.0</td>\n      <td>NaN</td>\n      <td>NaN</td>\n      <td>18.301047</td>\n      <td>6.980477</td>\n      <td>10.173623</td>\n      <td>...</td>\n      <td>0.0</td>\n      <td>0.0</td>\n      <td>0.0</td>\n      <td>0.0</td>\n      <td>1.310115</td>\n      <td>0.0</td>\n      <td>3.924070</td>\n      <td>7.918484</td>\n      <td>1.657682</td>\n      <td>1.479806</td>\n    </tr>\n    <tr>\n      <th>min</th>\n      <td>0.000000</td>\n      <td>0.000000</td>\n      <td>0.000000</td>\n      <td>0.000000</td>\n      <td>0.0</td>\n      <td>0.0</td>\n      <td>0.0</td>\n      <td>0.000000</td>\n      <td>0.000000</td>\n      <td>0.000000</td>\n      <td>...</td>\n      <td>0.0</td>\n      <td>0.0</td>\n      <td>0.0</td>\n      <td>0.0</td>\n      <td>0.000000</td>\n      <td>0.0</td>\n      <td>0.000000</td>\n      <td>0.000000</td>\n      <td>0.000000</td>\n      <td>0.000000</td>\n    </tr>\n    <tr>\n      <th>25%</th>\n      <td>0.000000</td>\n      <td>0.000000</td>\n      <td>0.502025</td>\n      <td>0.000000</td>\n      <td>0.0</td>\n      <td>0.0</td>\n      <td>0.0</td>\n      <td>2.824074</td>\n      <td>1.851852</td>\n      <td>0.000000</td>\n      <td>...</td>\n      <td>0.0</td>\n      <td>0.0</td>\n      <td>0.0</td>\n      <td>0.0</td>\n      <td>0.000000</td>\n      <td>0.0</td>\n      <td>1.516204</td>\n      <td>4.101852</td>\n      <td>0.527199</td>\n      <td>0.177662</td>\n    </tr>\n    <tr>\n      <th>50%</th>\n      <td>0.620370</td>\n      <td>1.012346</td>\n      <td>3.007995</td>\n      <td>0.726852</td>\n      <td>0.0</td>\n      <td>0.0</td>\n      <td>0.0</td>\n      <td>7.143519</td>\n      <td>7.131944</td>\n      <td>3.182870</td>\n      <td>...</td>\n      <td>0.0</td>\n      <td>0.0</td>\n      <td>0.0</td>\n      <td>0.0</td>\n      <td>0.000000</td>\n      <td>0.0</td>\n      <td>2.003472</td>\n      <td>6.299769</td>\n      <td>1.712269</td>\n      <td>1.416667</td>\n    </tr>\n    <tr>\n      <th>75%</th>\n      <td>2.942130</td>\n      <td>4.481481</td>\n      <td>4.711516</td>\n      <td>1.332392</td>\n      <td>0.0</td>\n      <td>0.0</td>\n      <td>0.0</td>\n      <td>12.169753</td>\n      <td>11.748868</td>\n      <td>10.366030</td>\n      <td>...</td>\n      <td>0.0</td>\n      <td>0.0</td>\n      <td>0.0</td>\n      <td>0.0</td>\n      <td>0.000000</td>\n      <td>0.0</td>\n      <td>6.394676</td>\n      <td>9.224993</td>\n      <td>3.304398</td>\n      <td>2.313601</td>\n    </tr>\n    <tr>\n      <th>max</th>\n      <td>22.726852</td>\n      <td>15.724537</td>\n      <td>23.834491</td>\n      <td>16.607762</td>\n      <td>0.0</td>\n      <td>0.0</td>\n      <td>0.0</td>\n      <td>99.995370</td>\n      <td>29.032407</td>\n      <td>47.500000</td>\n      <td>...</td>\n      <td>0.0</td>\n      <td>0.0</td>\n      <td>0.0</td>\n      <td>0.0</td>\n      <td>3.371528</td>\n      <td>0.0</td>\n      <td>12.229167</td>\n      <td>42.574074</td>\n      <td>5.504630</td>\n      <td>4.671296</td>\n    </tr>\n  </tbody>\n</table>\n<p>8 rows × 62 columns</p>\n</div>"
     },
     "metadata": {},
     "execution_count": 81
    }
   ],
   "source": [
    "df_OEE.groupby(['Category','Month']).describe().transpose()"
   ]
  },
  {
   "cell_type": "code",
   "execution_count": 82,
   "metadata": {},
   "outputs": [
    {
     "output_type": "execute_result",
     "data": {
      "text/plain": [
       "Category   Autonomous maintenance  Celebration / long day  Changeover  \\\n",
       "Day Month                                                               \n",
       "01  April                0.000000                     0.0   11.976852   \n",
       "    May                  0.312500                     NaN    4.842593   \n",
       "    June                 0.619213                     NaN    0.000000   \n",
       "    July                 7.040509                     NaN    0.000000   \n",
       "02  April                0.000000                     0.0   18.625000   \n",
       "...                           ...                     ...         ...   \n",
       "29  June                 1.216992                     NaN   11.150019   \n",
       "30  April                0.000000                     NaN    7.019676   \n",
       "    May                  0.000000                     NaN   29.032407   \n",
       "    June                10.797222                     NaN    7.166667   \n",
       "31  May                  1.012346                     NaN    0.000000   \n",
       "\n",
       "Category   Malfunctions and troubleshooting  Minor Loss  \\\n",
       "Day Month                                                 \n",
       "01  April                         22.481481   12.870370   \n",
       "    May                           21.302083   23.060185   \n",
       "    June                           2.065972   10.186343   \n",
       "    July                          22.467593    8.652778   \n",
       "02  April                         21.027778   14.275463   \n",
       "...                                     ...         ...   \n",
       "29  June                           9.029851    9.446996   \n",
       "30  April                         11.686343   16.143519   \n",
       "    May                            0.000000    7.166667   \n",
       "    June                          14.008333    7.388889   \n",
       "31  May                           34.214506    6.540123   \n",
       "\n",
       "Category   Organizational losses and waiting times  Other  Other and unknown  \\\n",
       "Day Month                                                                      \n",
       "01  April                                 3.421296    NaN          10.745370   \n",
       "    May                                   0.701389    0.0           6.754630   \n",
       "    June                                  1.945602    0.0           7.738426   \n",
       "    July                                  3.653935    0.0           5.106481   \n",
       "02  April                                 2.925926    NaN           9.358796   \n",
       "...                                            ...    ...                ...   \n",
       "29  June                                  9.169537    0.0           6.174895   \n",
       "30  April                                 7.013889    NaN          10.497685   \n",
       "    May                                  20.972222    NaN           7.490741   \n",
       "    June                                  8.333333    0.0           0.725000   \n",
       "31  May                                   0.000000    NaN           4.195988   \n",
       "\n",
       "Category   Preventive maintenance / servicing  Production  \\\n",
       "Day Month                                                   \n",
       "01  April                                 NaN   43.382099   \n",
       "    May                                   0.0   43.102778   \n",
       "    June                                  NaN   54.364583   \n",
       "    July                                  NaN   44.023148   \n",
       "02  April                                 0.0   16.429006   \n",
       "...                                       ...         ...   \n",
       "29  June                                  NaN   40.484561   \n",
       "30  April                                 0.0   47.721528   \n",
       "    May                                   NaN   26.219444   \n",
       "    June                                  NaN   30.341111   \n",
       "31  May                                   NaN   36.513889   \n",
       "\n",
       "Category   Qualification/validation  Quality Loss  Speed Loss  Unplanned Line  \\\n",
       "Day Month                                                                       \n",
       "01  April                       0.0           NaN   -6.983951             0.0   \n",
       "    May                         0.0           NaN  -10.181481             0.0   \n",
       "    June                        0.0           NaN   20.543981             0.0   \n",
       "    July                        0.0           0.0    7.487269             0.0   \n",
       "02  April                       0.0           NaN   15.739976             0.0   \n",
       "...                             ...           ...         ...             ...   \n",
       "29  June                        0.0           NaN   12.515822             0.0   \n",
       "30  April                       0.0           NaN  -12.311806             0.0   \n",
       "    May                         NaN           NaN    9.118519             0.0   \n",
       "    June                        0.0           0.0   19.289444             0.0   \n",
       "31  May                         0.0           NaN   15.549383             0.0   \n",
       "\n",
       "Category   W&I (planned line)  Without cause  \n",
       "Day Month                                     \n",
       "01  April                 0.0       2.106481  \n",
       "    May                   NaN      10.105324  \n",
       "    June                  NaN       2.535880  \n",
       "    July                  0.0       1.568287  \n",
       "02  April                 NaN       1.618056  \n",
       "...                       ...            ...  \n",
       "29  June                  0.0       0.811328  \n",
       "30  April                 NaN      12.229167  \n",
       "    May                   0.0       0.000000  \n",
       "    June                  0.0       1.950000  \n",
       "31  May                   NaN       1.973765  \n",
       "\n",
       "[99 rows x 16 columns]"
      ],
      "text/html": "<div>\n<style scoped>\n    .dataframe tbody tr th:only-of-type {\n        vertical-align: middle;\n    }\n\n    .dataframe tbody tr th {\n        vertical-align: top;\n    }\n\n    .dataframe thead th {\n        text-align: right;\n    }\n</style>\n<table border=\"1\" class=\"dataframe\">\n  <thead>\n    <tr style=\"text-align: right;\">\n      <th></th>\n      <th>Category</th>\n      <th>Autonomous maintenance</th>\n      <th>Celebration / long day</th>\n      <th>Changeover</th>\n      <th>Malfunctions and troubleshooting</th>\n      <th>Minor Loss</th>\n      <th>Organizational losses and waiting times</th>\n      <th>Other</th>\n      <th>Other and unknown</th>\n      <th>Preventive maintenance / servicing</th>\n      <th>Production</th>\n      <th>Qualification/validation</th>\n      <th>Quality Loss</th>\n      <th>Speed Loss</th>\n      <th>Unplanned Line</th>\n      <th>W&amp;I (planned line)</th>\n      <th>Without cause</th>\n    </tr>\n    <tr>\n      <th>Day</th>\n      <th>Month</th>\n      <th></th>\n      <th></th>\n      <th></th>\n      <th></th>\n      <th></th>\n      <th></th>\n      <th></th>\n      <th></th>\n      <th></th>\n      <th></th>\n      <th></th>\n      <th></th>\n      <th></th>\n      <th></th>\n      <th></th>\n      <th></th>\n    </tr>\n  </thead>\n  <tbody>\n    <tr>\n      <th rowspan=\"4\" valign=\"top\">01</th>\n      <th>April</th>\n      <td>0.000000</td>\n      <td>0.0</td>\n      <td>11.976852</td>\n      <td>22.481481</td>\n      <td>12.870370</td>\n      <td>3.421296</td>\n      <td>NaN</td>\n      <td>10.745370</td>\n      <td>NaN</td>\n      <td>43.382099</td>\n      <td>0.0</td>\n      <td>NaN</td>\n      <td>-6.983951</td>\n      <td>0.0</td>\n      <td>0.0</td>\n      <td>2.106481</td>\n    </tr>\n    <tr>\n      <th>May</th>\n      <td>0.312500</td>\n      <td>NaN</td>\n      <td>4.842593</td>\n      <td>21.302083</td>\n      <td>23.060185</td>\n      <td>0.701389</td>\n      <td>0.0</td>\n      <td>6.754630</td>\n      <td>0.0</td>\n      <td>43.102778</td>\n      <td>0.0</td>\n      <td>NaN</td>\n      <td>-10.181481</td>\n      <td>0.0</td>\n      <td>NaN</td>\n      <td>10.105324</td>\n    </tr>\n    <tr>\n      <th>June</th>\n      <td>0.619213</td>\n      <td>NaN</td>\n      <td>0.000000</td>\n      <td>2.065972</td>\n      <td>10.186343</td>\n      <td>1.945602</td>\n      <td>0.0</td>\n      <td>7.738426</td>\n      <td>NaN</td>\n      <td>54.364583</td>\n      <td>0.0</td>\n      <td>NaN</td>\n      <td>20.543981</td>\n      <td>0.0</td>\n      <td>NaN</td>\n      <td>2.535880</td>\n    </tr>\n    <tr>\n      <th>July</th>\n      <td>7.040509</td>\n      <td>NaN</td>\n      <td>0.000000</td>\n      <td>22.467593</td>\n      <td>8.652778</td>\n      <td>3.653935</td>\n      <td>0.0</td>\n      <td>5.106481</td>\n      <td>NaN</td>\n      <td>44.023148</td>\n      <td>0.0</td>\n      <td>0.0</td>\n      <td>7.487269</td>\n      <td>0.0</td>\n      <td>0.0</td>\n      <td>1.568287</td>\n    </tr>\n    <tr>\n      <th>02</th>\n      <th>April</th>\n      <td>0.000000</td>\n      <td>0.0</td>\n      <td>18.625000</td>\n      <td>21.027778</td>\n      <td>14.275463</td>\n      <td>2.925926</td>\n      <td>NaN</td>\n      <td>9.358796</td>\n      <td>0.0</td>\n      <td>16.429006</td>\n      <td>0.0</td>\n      <td>NaN</td>\n      <td>15.739976</td>\n      <td>0.0</td>\n      <td>NaN</td>\n      <td>1.618056</td>\n    </tr>\n    <tr>\n      <th>...</th>\n      <th>...</th>\n      <td>...</td>\n      <td>...</td>\n      <td>...</td>\n      <td>...</td>\n      <td>...</td>\n      <td>...</td>\n      <td>...</td>\n      <td>...</td>\n      <td>...</td>\n      <td>...</td>\n      <td>...</td>\n      <td>...</td>\n      <td>...</td>\n      <td>...</td>\n      <td>...</td>\n      <td>...</td>\n    </tr>\n    <tr>\n      <th>29</th>\n      <th>June</th>\n      <td>1.216992</td>\n      <td>NaN</td>\n      <td>11.150019</td>\n      <td>9.029851</td>\n      <td>9.446996</td>\n      <td>9.169537</td>\n      <td>0.0</td>\n      <td>6.174895</td>\n      <td>NaN</td>\n      <td>40.484561</td>\n      <td>0.0</td>\n      <td>NaN</td>\n      <td>12.515822</td>\n      <td>0.0</td>\n      <td>0.0</td>\n      <td>0.811328</td>\n    </tr>\n    <tr>\n      <th rowspan=\"3\" valign=\"top\">30</th>\n      <th>April</th>\n      <td>0.000000</td>\n      <td>NaN</td>\n      <td>7.019676</td>\n      <td>11.686343</td>\n      <td>16.143519</td>\n      <td>7.013889</td>\n      <td>NaN</td>\n      <td>10.497685</td>\n      <td>0.0</td>\n      <td>47.721528</td>\n      <td>0.0</td>\n      <td>NaN</td>\n      <td>-12.311806</td>\n      <td>0.0</td>\n      <td>NaN</td>\n      <td>12.229167</td>\n    </tr>\n    <tr>\n      <th>May</th>\n      <td>0.000000</td>\n      <td>NaN</td>\n      <td>29.032407</td>\n      <td>0.000000</td>\n      <td>7.166667</td>\n      <td>20.972222</td>\n      <td>NaN</td>\n      <td>7.490741</td>\n      <td>NaN</td>\n      <td>26.219444</td>\n      <td>NaN</td>\n      <td>NaN</td>\n      <td>9.118519</td>\n      <td>0.0</td>\n      <td>0.0</td>\n      <td>0.000000</td>\n    </tr>\n    <tr>\n      <th>June</th>\n      <td>10.797222</td>\n      <td>NaN</td>\n      <td>7.166667</td>\n      <td>14.008333</td>\n      <td>7.388889</td>\n      <td>8.333333</td>\n      <td>0.0</td>\n      <td>0.725000</td>\n      <td>NaN</td>\n      <td>30.341111</td>\n      <td>0.0</td>\n      <td>0.0</td>\n      <td>19.289444</td>\n      <td>0.0</td>\n      <td>0.0</td>\n      <td>1.950000</td>\n    </tr>\n    <tr>\n      <th>31</th>\n      <th>May</th>\n      <td>1.012346</td>\n      <td>NaN</td>\n      <td>0.000000</td>\n      <td>34.214506</td>\n      <td>6.540123</td>\n      <td>0.000000</td>\n      <td>NaN</td>\n      <td>4.195988</td>\n      <td>NaN</td>\n      <td>36.513889</td>\n      <td>0.0</td>\n      <td>NaN</td>\n      <td>15.549383</td>\n      <td>0.0</td>\n      <td>NaN</td>\n      <td>1.973765</td>\n    </tr>\n  </tbody>\n</table>\n<p>99 rows × 16 columns</p>\n</div>"
     },
     "metadata": {},
     "execution_count": 82
    }
   ],
   "source": [
    "pivot_OEE = df_OEE.pivot(index='Day', columns=['Category','Month'], values='OEE')\n",
    "pivot_OEE.stack()"
   ]
  },
  {
   "cell_type": "code",
   "execution_count": 169,
   "metadata": {},
   "outputs": [
    {
     "output_type": "execute_result",
     "data": {
      "text/plain": [
       "<xlsxwriter.format.Format at 0x19b2a2baf10>"
      ]
     },
     "metadata": {},
     "execution_count": 169
    }
   ],
   "source": [
    "# writer = pd.ExcelWriter(dir + 'AL6_OEE_Detailed_Events.xlsx', engine='xlsxwriter')\n",
    "df_grouped = df.groupby([pd.Grouper(freq='D'), 'Machine'])['Duration (min.)'].mean().reset_index()\n",
    "pivot = df_grouped.pivot(index='Start Date', columns='Machine', values='Duration (min.)')\n",
    "pivot.fillna(0, inplace=True)\n",
    "pivot['Total Duration'] = pivot.sum(axis=1)\n",
    "styler_pivot = pivot.style.background_gradient(cmap='Purples')\n",
    "styler_pivot.to_excel(writer, sheet_name='Detailed_Events (mins)')\n",
    "worksheet = writer.sheets['Detailed_Events (mins)']\n",
    "workbook = writer.book\n",
    "for x, width in enumerate(get_col_widths(pivot)):\n",
    "    #set each column width to be 1*25 that of the max string so that it fits nicely\n",
    "    worksheet.set_column(x, x, width * 1.25)    \n",
    "\n",
    "workbook = writer.book\n",
    "workbook.add_format()\n",
    "workbook.add_format({'num_format': '0.00'})\n",
    "# writer.save()\n"
   ]
  },
  {
   "cell_type": "code",
   "execution_count": 156,
   "metadata": {},
   "outputs": [
    {
     "output_type": "execute_result",
     "data": {
      "text/plain": [
       "                                                                                          Duration (min.)\n",
       "Machine          Stoppage Reason 3                Last Level Reason                                      \n",
       "AL6 Endverpacker Malfunctions and troubleshooting Kuka Roboter (251270601)                     106.766667\n",
       "AL6 Kartonierer  Malfunctions and troubleshooting F2_224- Abholwerkzeug PENs (251440803)        17.750000\n",
       "                 Minor Loss                       -                                              1.018333"
      ],
      "text/html": "<div>\n<style scoped>\n    .dataframe tbody tr th:only-of-type {\n        vertical-align: middle;\n    }\n\n    .dataframe tbody tr th {\n        vertical-align: top;\n    }\n\n    .dataframe thead th {\n        text-align: right;\n    }\n</style>\n<table border=\"1\" class=\"dataframe\">\n  <thead>\n    <tr style=\"text-align: right;\">\n      <th></th>\n      <th></th>\n      <th></th>\n      <th>Duration (min.)</th>\n    </tr>\n    <tr>\n      <th>Machine</th>\n      <th>Stoppage Reason 3</th>\n      <th>Last Level Reason</th>\n      <th></th>\n    </tr>\n  </thead>\n  <tbody>\n    <tr>\n      <th>AL6 Endverpacker</th>\n      <th>Malfunctions and troubleshooting</th>\n      <th>Kuka Roboter (251270601)</th>\n      <td>106.766667</td>\n    </tr>\n    <tr>\n      <th rowspan=\"2\" valign=\"top\">AL6 Kartonierer</th>\n      <th>Malfunctions and troubleshooting</th>\n      <th>F2_224- Abholwerkzeug PENs (251440803)</th>\n      <td>17.750000</td>\n    </tr>\n    <tr>\n      <th>Minor Loss</th>\n      <th>-</th>\n      <td>1.018333</td>\n    </tr>\n  </tbody>\n</table>\n</div>"
     },
     "metadata": {},
     "execution_count": 156
    }
   ],
   "source": [
    "df.loc['2021-06-21'].groupby(['Machine','Stoppage Reason 3','Last Level Reason']).mean().sort_values('Duration (min.)', ascending=False)"
   ]
  },
  {
   "cell_type": "code",
   "execution_count": 157,
   "metadata": {},
   "outputs": [],
   "source": [
    "df_date = df.loc['2021-06-21']"
   ]
  },
  {
   "source": [
    "import the IP21 data for AL6 for the same date and map those outage times to IP21 data"
   ],
   "cell_type": "markdown",
   "metadata": {}
  },
  {
   "cell_type": "code",
   "execution_count": 158,
   "metadata": {},
   "outputs": [
    {
     "output_type": "execute_result",
     "data": {
      "text/plain": [
       "(248774, 6)"
      ]
     },
     "metadata": {},
     "execution_count": 158
    }
   ],
   "source": [
    "# read in txt file\n",
    "file = (dir + 'IP21_AL6_20210621.txt')\n",
    "df_IP21 = pd.read_csv(file, parse_dates=True, index_col='Start Date', header=None, names=('name', 'Start Date', 'avg', 'min', 'max', 'std', 'sum'))\n",
    "df_IP21.shape"
   ]
  },
  {
   "cell_type": "code",
   "execution_count": 159,
   "metadata": {},
   "outputs": [
    {
     "output_type": "stream",
     "name": "stdout",
     "text": [
      "<class 'pandas.core.frame.DataFrame'>\nDatetimeIndex: 248774 entries, 2021-06-21 00:01:00 to 2021-06-21 23:59:00\nData columns (total 6 columns):\n #   Column  Non-Null Count   Dtype  \n---  ------  --------------   -----  \n 0   name    248774 non-null  object \n 1   avg     248774 non-null  float64\n 2   min     248774 non-null  float64\n 3   max     248774 non-null  float64\n 4   std     248774 non-null  float64\n 5   sum     248774 non-null  float64\ndtypes: float64(5), object(1)\nmemory usage: 13.3+ MB\n"
     ]
    }
   ],
   "source": [
    "df_IP21.info()"
   ]
  },
  {
   "cell_type": "code",
   "execution_count": 160,
   "metadata": {},
   "outputs": [],
   "source": [
    "df_merge = pd.merge_asof(df_date.sort_index(), df_IP21.sort_index(), left_index=True, right_index=True, allow_exact_matches=True, direction='forward')"
   ]
  },
  {
   "cell_type": "code",
   "execution_count": 161,
   "metadata": {},
   "outputs": [
    {
     "output_type": "execute_result",
     "data": {
      "text/plain": [
       "                                Shift Long Name            End Date  \\\n",
       "Start Date                                                            \n",
       "2021-06-21 06:31:54  FRUE - 21/06/2021 06:00:00 2021-06-21 06:32:16   \n",
       "2021-06-21 06:43:59  FRUE - 21/06/2021 06:00:00 2021-06-21 06:45:47   \n",
       "2021-06-21 07:29:02  FRUE - 21/06/2021 06:00:00 2021-06-21 07:30:44   \n",
       "2021-06-21 07:30:50  FRUE - 21/06/2021 06:00:00 2021-06-21 07:32:48   \n",
       "2021-06-21 07:49:16  FRUE - 21/06/2021 06:00:00 2021-06-21 07:50:26   \n",
       "\n",
       "                     Duration (min.) Stoppage Reason 3 Last Level Reason  \\\n",
       "Start Date                                                                 \n",
       "2021-06-21 06:31:54         0.366667        Minor Loss                 -   \n",
       "2021-06-21 06:43:59         1.800000        Minor Loss                 -   \n",
       "2021-06-21 07:29:02         1.700000        Minor Loss                 -   \n",
       "2021-06-21 07:30:50         1.966667        Minor Loss                 -   \n",
       "2021-06-21 07:49:16         1.166667        Minor Loss                 -   \n",
       "\n",
       "                             Machine         Comments         Creator  \\\n",
       "Start Date                                                              \n",
       "2021-06-21 06:31:54  AL6 Kartonierer  Auto assignment  OEE_INTEGRATOR   \n",
       "2021-06-21 06:43:59  AL6 Kartonierer  Auto assignment  OEE_INTEGRATOR   \n",
       "2021-06-21 07:29:02  AL6 Kartonierer  Auto assignment  OEE_INTEGRATOR   \n",
       "2021-06-21 07:30:50  AL6 Kartonierer  Auto assignment  OEE_INTEGRATOR   \n",
       "2021-06-21 07:49:16  AL6 Kartonierer  Auto assignment  OEE_INTEGRATOR   \n",
       "\n",
       "                                        name           avg      min  \\\n",
       "Start Date                                                            \n",
       "2021-06-21 06:31:54     36650901_LIFECOUNTER  39972.100000  39970.1   \n",
       "2021-06-21 06:43:59        36630901_WATCHDOG     -0.476953     -1.0   \n",
       "2021-06-21 07:29:02   36630901_S300HEIGHT_L7      0.000000      0.0   \n",
       "2021-06-21 07:30:50  36630901_S340HEIGHT_L16     82.390200      0.0   \n",
       "2021-06-21 07:49:16       36670901_CNTRB_ETK      0.000000      0.0   \n",
       "\n",
       "                           max        std           sum  \n",
       "Start Date                                               \n",
       "2021-06-21 06:31:54  39974.100   1.177820  2.398330e+06  \n",
       "2021-06-21 06:43:59      0.000   0.293557 -2.861720e+01  \n",
       "2021-06-21 07:29:02      0.000   0.000000  0.000000e+00  \n",
       "2021-06-21 07:30:50    164.171  47.329300  4.943410e+03  \n",
       "2021-06-21 07:49:16      0.000   0.000000  0.000000e+00  "
      ],
      "text/html": "<div>\n<style scoped>\n    .dataframe tbody tr th:only-of-type {\n        vertical-align: middle;\n    }\n\n    .dataframe tbody tr th {\n        vertical-align: top;\n    }\n\n    .dataframe thead th {\n        text-align: right;\n    }\n</style>\n<table border=\"1\" class=\"dataframe\">\n  <thead>\n    <tr style=\"text-align: right;\">\n      <th></th>\n      <th>Shift Long Name</th>\n      <th>End Date</th>\n      <th>Duration (min.)</th>\n      <th>Stoppage Reason 3</th>\n      <th>Last Level Reason</th>\n      <th>Machine</th>\n      <th>Comments</th>\n      <th>Creator</th>\n      <th>name</th>\n      <th>avg</th>\n      <th>min</th>\n      <th>max</th>\n      <th>std</th>\n      <th>sum</th>\n    </tr>\n    <tr>\n      <th>Start Date</th>\n      <th></th>\n      <th></th>\n      <th></th>\n      <th></th>\n      <th></th>\n      <th></th>\n      <th></th>\n      <th></th>\n      <th></th>\n      <th></th>\n      <th></th>\n      <th></th>\n      <th></th>\n      <th></th>\n    </tr>\n  </thead>\n  <tbody>\n    <tr>\n      <th>2021-06-21 06:31:54</th>\n      <td>FRUE - 21/06/2021 06:00:00</td>\n      <td>2021-06-21 06:32:16</td>\n      <td>0.366667</td>\n      <td>Minor Loss</td>\n      <td>-</td>\n      <td>AL6 Kartonierer</td>\n      <td>Auto assignment</td>\n      <td>OEE_INTEGRATOR</td>\n      <td>36650901_LIFECOUNTER</td>\n      <td>39972.100000</td>\n      <td>39970.1</td>\n      <td>39974.100</td>\n      <td>1.177820</td>\n      <td>2.398330e+06</td>\n    </tr>\n    <tr>\n      <th>2021-06-21 06:43:59</th>\n      <td>FRUE - 21/06/2021 06:00:00</td>\n      <td>2021-06-21 06:45:47</td>\n      <td>1.800000</td>\n      <td>Minor Loss</td>\n      <td>-</td>\n      <td>AL6 Kartonierer</td>\n      <td>Auto assignment</td>\n      <td>OEE_INTEGRATOR</td>\n      <td>36630901_WATCHDOG</td>\n      <td>-0.476953</td>\n      <td>-1.0</td>\n      <td>0.000</td>\n      <td>0.293557</td>\n      <td>-2.861720e+01</td>\n    </tr>\n    <tr>\n      <th>2021-06-21 07:29:02</th>\n      <td>FRUE - 21/06/2021 06:00:00</td>\n      <td>2021-06-21 07:30:44</td>\n      <td>1.700000</td>\n      <td>Minor Loss</td>\n      <td>-</td>\n      <td>AL6 Kartonierer</td>\n      <td>Auto assignment</td>\n      <td>OEE_INTEGRATOR</td>\n      <td>36630901_S300HEIGHT_L7</td>\n      <td>0.000000</td>\n      <td>0.0</td>\n      <td>0.000</td>\n      <td>0.000000</td>\n      <td>0.000000e+00</td>\n    </tr>\n    <tr>\n      <th>2021-06-21 07:30:50</th>\n      <td>FRUE - 21/06/2021 06:00:00</td>\n      <td>2021-06-21 07:32:48</td>\n      <td>1.966667</td>\n      <td>Minor Loss</td>\n      <td>-</td>\n      <td>AL6 Kartonierer</td>\n      <td>Auto assignment</td>\n      <td>OEE_INTEGRATOR</td>\n      <td>36630901_S340HEIGHT_L16</td>\n      <td>82.390200</td>\n      <td>0.0</td>\n      <td>164.171</td>\n      <td>47.329300</td>\n      <td>4.943410e+03</td>\n    </tr>\n    <tr>\n      <th>2021-06-21 07:49:16</th>\n      <td>FRUE - 21/06/2021 06:00:00</td>\n      <td>2021-06-21 07:50:26</td>\n      <td>1.166667</td>\n      <td>Minor Loss</td>\n      <td>-</td>\n      <td>AL6 Kartonierer</td>\n      <td>Auto assignment</td>\n      <td>OEE_INTEGRATOR</td>\n      <td>36670901_CNTRB_ETK</td>\n      <td>0.000000</td>\n      <td>0.0</td>\n      <td>0.000</td>\n      <td>0.000000</td>\n      <td>0.000000e+00</td>\n    </tr>\n  </tbody>\n</table>\n</div>"
     },
     "metadata": {},
     "execution_count": 161
    }
   ],
   "source": [
    "df_merge.head()"
   ]
  },
  {
   "cell_type": "code",
   "execution_count": 167,
   "metadata": {},
   "outputs": [
    {
     "output_type": "execute_result",
     "data": {
      "text/plain": [
       "                                          Duration (min.)           avg  \\\n",
       "Machine          name                                                     \n",
       "AL6 Endverpacker 36630901_S130HEIGHT_L9        106.766667      0.670655   \n",
       "AL6 Kartonierer  36630901_CNTRB_ST13             1.200000      0.000000   \n",
       "                 36630901_CNTRB_ST3              0.483333      0.000000   \n",
       "                 36630901_CNTRB_ST4              0.266667      0.000000   \n",
       "                 36630901_CNTRB_ST9              0.900000     26.680000   \n",
       "                 36630901_CNTRB_ZA_PCS           1.883333     64.925400   \n",
       "                 36630901_S130HEIGHT_L1          0.300000      0.000000   \n",
       "                 36630901_S130HEIGHT_L11         1.016667      0.000000   \n",
       "                 36630901_S130HEIGHT_L13         0.916667      0.292963   \n",
       "                 36630901_S130HEIGHT_L14         1.883333      0.439292   \n",
       "                 36630901_S130HEIGHT_L15         0.766667      0.488957   \n",
       "                 36630901_S130HEIGHT_L9          0.216667      0.477567   \n",
       "                 36630901_S300HEIGHT_L7          1.700000      0.000000   \n",
       "                 36630901_S340HEIGHT_L16         1.966667     82.390200   \n",
       "                 36630901_S340HEIGHT_L9          0.433333    140.305000   \n",
       "                 36630901_WATCHDOG               1.108333     -0.485123   \n",
       "                 36640901_CNTRB_ETHO_IN          1.533333      0.000000   \n",
       "                 36640901_RUN                    1.950000      0.968724   \n",
       "                 36650901_CNTRG_PEN_IN           1.666667  59460.100000   \n",
       "                 36650901_CNTR_OUTPUT2           0.400000  20129.300000   \n",
       "                 36650901_LIFECOUNTER            0.366667  40348.100000   \n",
       "                 36670901_CNTRB_ETK              1.166667      0.000000   \n",
       "                 36670901_CNTRB_IPC              0.766667      0.000000   \n",
       "                 36670901_CNTRB_NORTN            1.850000      4.000000   \n",
       "                 36670901_PRI020                 0.850000  11727.100000   \n",
       "                 36680901_SPEED                  1.083333      1.693930   \n",
       "                 36680901_STARTEND               0.366667      0.000000   \n",
       "                 36680901_WATCHDOG               9.291667     -0.503955   \n",
       "\n",
       "                                                   min           max  \\\n",
       "Machine          name                                                  \n",
       "AL6 Endverpacker 36630901_S130HEIGHT_L9       0.000000      0.982494   \n",
       "AL6 Kartonierer  36630901_CNTRB_ST13          0.000000      0.000000   \n",
       "                 36630901_CNTRB_ST3           0.000000      0.000000   \n",
       "                 36630901_CNTRB_ST4           0.000000      0.000000   \n",
       "                 36630901_CNTRB_ST9          26.616200     26.743800   \n",
       "                 36630901_CNTRB_ZA_PCS       64.792100     65.601600   \n",
       "                 36630901_S130HEIGHT_L1       0.000000      0.000000   \n",
       "                 36630901_S130HEIGHT_L11      0.000000      0.000000   \n",
       "                 36630901_S130HEIGHT_L13      0.099392      0.486535   \n",
       "                 36630901_S130HEIGHT_L14      0.107509      0.771075   \n",
       "                 36630901_S130HEIGHT_L15      0.000000      1.000990   \n",
       "                 36630901_S130HEIGHT_L9       0.000000      1.030100   \n",
       "                 36630901_S300HEIGHT_L7       0.000000      0.000000   \n",
       "                 36630901_S340HEIGHT_L16      0.000000    164.171000   \n",
       "                 36630901_S340HEIGHT_L9       0.000000    164.278000   \n",
       "                 36630901_WATCHDOG           -1.000000      0.000000   \n",
       "                 36640901_CNTRB_ETHO_IN       0.000000      0.000000   \n",
       "                 36640901_RUN                 0.632152      1.000000   \n",
       "                 36650901_CNTRG_PEN_IN    59459.500000  59460.600000   \n",
       "                 36650901_CNTR_OUTPUT2    19963.600000  20239.600000   \n",
       "                 36650901_LIFECOUNTER     40346.150000  40350.000000   \n",
       "                 36670901_CNTRB_ETK           0.000000      0.000000   \n",
       "                 36670901_CNTRB_IPC           0.000000      0.000000   \n",
       "                 36670901_CNTRB_NORTN         4.000000      4.000000   \n",
       "                 36670901_PRI020          11709.600000  11749.700000   \n",
       "                 36680901_SPEED               1.593510      1.794350   \n",
       "                 36680901_STARTEND            0.000000      0.000000   \n",
       "                 36680901_WATCHDOG           -1.000000      0.000000   \n",
       "\n",
       "                                                 std           sum  \n",
       "Machine          name                                               \n",
       "AL6 Endverpacker 36630901_S130HEIGHT_L9     0.205391  4.023930e+01  \n",
       "AL6 Kartonierer  36630901_CNTRB_ST13        0.000000  0.000000e+00  \n",
       "                 36630901_CNTRB_ST3         0.000000  0.000000e+00  \n",
       "                 36630901_CNTRB_ST4         0.000000  0.000000e+00  \n",
       "                 36630901_CNTRB_ST9         0.036832  1.600800e+03  \n",
       "                 36630901_CNTRB_ZA_PCS      0.128561  3.895520e+03  \n",
       "                 36630901_S130HEIGHT_L1     0.000000  0.000000e+00  \n",
       "                 36630901_S130HEIGHT_L11    0.000000  0.000000e+00  \n",
       "                 36630901_S130HEIGHT_L13    0.111758  1.757780e+01  \n",
       "                 36630901_S130HEIGHT_L14    0.191555  2.635750e+01  \n",
       "                 36630901_S130HEIGHT_L15    0.246195  2.933740e+01  \n",
       "                 36630901_S130HEIGHT_L9     0.268322  2.865400e+01  \n",
       "                 36630901_S300HEIGHT_L7     0.000000  0.000000e+00  \n",
       "                 36630901_S340HEIGHT_L16   47.329300  4.943410e+03  \n",
       "                 36630901_S340HEIGHT_L9    22.803200  8.418330e+03  \n",
       "                 36630901_WATCHDOG          0.291356 -2.910740e+01  \n",
       "                 36640901_CNTRB_ETHO_IN     0.000000  0.000000e+00  \n",
       "                 36640901_RUN               0.081803  5.812340e+01  \n",
       "                 36650901_CNTRG_PEN_IN      0.330643  3.567600e+06  \n",
       "                 36650901_CNTR_OUTPUT2    102.792000  1.207760e+06  \n",
       "                 36650901_LIFECOUNTER       1.144190  2.420890e+06  \n",
       "                 36670901_CNTRB_ETK         0.000000  0.000000e+00  \n",
       "                 36670901_CNTRB_IPC         0.000000  0.000000e+00  \n",
       "                 36670901_CNTRB_NORTN       0.000000  2.400000e+02  \n",
       "                 36670901_PRI020           14.853300  7.036260e+05  \n",
       "                 36680901_SPEED             0.057978  1.016360e+02  \n",
       "                 36680901_STARTEND          0.000000  0.000000e+00  \n",
       "                 36680901_WATCHDOG          0.288183 -3.023730e+01  "
      ],
      "text/html": "<div>\n<style scoped>\n    .dataframe tbody tr th:only-of-type {\n        vertical-align: middle;\n    }\n\n    .dataframe tbody tr th {\n        vertical-align: top;\n    }\n\n    .dataframe thead th {\n        text-align: right;\n    }\n</style>\n<table border=\"1\" class=\"dataframe\">\n  <thead>\n    <tr style=\"text-align: right;\">\n      <th></th>\n      <th></th>\n      <th>Duration (min.)</th>\n      <th>avg</th>\n      <th>min</th>\n      <th>max</th>\n      <th>std</th>\n      <th>sum</th>\n    </tr>\n    <tr>\n      <th>Machine</th>\n      <th>name</th>\n      <th></th>\n      <th></th>\n      <th></th>\n      <th></th>\n      <th></th>\n      <th></th>\n    </tr>\n  </thead>\n  <tbody>\n    <tr>\n      <th>AL6 Endverpacker</th>\n      <th>36630901_S130HEIGHT_L9</th>\n      <td>106.766667</td>\n      <td>0.670655</td>\n      <td>0.000000</td>\n      <td>0.982494</td>\n      <td>0.205391</td>\n      <td>4.023930e+01</td>\n    </tr>\n    <tr>\n      <th rowspan=\"27\" valign=\"top\">AL6 Kartonierer</th>\n      <th>36630901_CNTRB_ST13</th>\n      <td>1.200000</td>\n      <td>0.000000</td>\n      <td>0.000000</td>\n      <td>0.000000</td>\n      <td>0.000000</td>\n      <td>0.000000e+00</td>\n    </tr>\n    <tr>\n      <th>36630901_CNTRB_ST3</th>\n      <td>0.483333</td>\n      <td>0.000000</td>\n      <td>0.000000</td>\n      <td>0.000000</td>\n      <td>0.000000</td>\n      <td>0.000000e+00</td>\n    </tr>\n    <tr>\n      <th>36630901_CNTRB_ST4</th>\n      <td>0.266667</td>\n      <td>0.000000</td>\n      <td>0.000000</td>\n      <td>0.000000</td>\n      <td>0.000000</td>\n      <td>0.000000e+00</td>\n    </tr>\n    <tr>\n      <th>36630901_CNTRB_ST9</th>\n      <td>0.900000</td>\n      <td>26.680000</td>\n      <td>26.616200</td>\n      <td>26.743800</td>\n      <td>0.036832</td>\n      <td>1.600800e+03</td>\n    </tr>\n    <tr>\n      <th>36630901_CNTRB_ZA_PCS</th>\n      <td>1.883333</td>\n      <td>64.925400</td>\n      <td>64.792100</td>\n      <td>65.601600</td>\n      <td>0.128561</td>\n      <td>3.895520e+03</td>\n    </tr>\n    <tr>\n      <th>36630901_S130HEIGHT_L1</th>\n      <td>0.300000</td>\n      <td>0.000000</td>\n      <td>0.000000</td>\n      <td>0.000000</td>\n      <td>0.000000</td>\n      <td>0.000000e+00</td>\n    </tr>\n    <tr>\n      <th>36630901_S130HEIGHT_L11</th>\n      <td>1.016667</td>\n      <td>0.000000</td>\n      <td>0.000000</td>\n      <td>0.000000</td>\n      <td>0.000000</td>\n      <td>0.000000e+00</td>\n    </tr>\n    <tr>\n      <th>36630901_S130HEIGHT_L13</th>\n      <td>0.916667</td>\n      <td>0.292963</td>\n      <td>0.099392</td>\n      <td>0.486535</td>\n      <td>0.111758</td>\n      <td>1.757780e+01</td>\n    </tr>\n    <tr>\n      <th>36630901_S130HEIGHT_L14</th>\n      <td>1.883333</td>\n      <td>0.439292</td>\n      <td>0.107509</td>\n      <td>0.771075</td>\n      <td>0.191555</td>\n      <td>2.635750e+01</td>\n    </tr>\n    <tr>\n      <th>36630901_S130HEIGHT_L15</th>\n      <td>0.766667</td>\n      <td>0.488957</td>\n      <td>0.000000</td>\n      <td>1.000990</td>\n      <td>0.246195</td>\n      <td>2.933740e+01</td>\n    </tr>\n    <tr>\n      <th>36630901_S130HEIGHT_L9</th>\n      <td>0.216667</td>\n      <td>0.477567</td>\n      <td>0.000000</td>\n      <td>1.030100</td>\n      <td>0.268322</td>\n      <td>2.865400e+01</td>\n    </tr>\n    <tr>\n      <th>36630901_S300HEIGHT_L7</th>\n      <td>1.700000</td>\n      <td>0.000000</td>\n      <td>0.000000</td>\n      <td>0.000000</td>\n      <td>0.000000</td>\n      <td>0.000000e+00</td>\n    </tr>\n    <tr>\n      <th>36630901_S340HEIGHT_L16</th>\n      <td>1.966667</td>\n      <td>82.390200</td>\n      <td>0.000000</td>\n      <td>164.171000</td>\n      <td>47.329300</td>\n      <td>4.943410e+03</td>\n    </tr>\n    <tr>\n      <th>36630901_S340HEIGHT_L9</th>\n      <td>0.433333</td>\n      <td>140.305000</td>\n      <td>0.000000</td>\n      <td>164.278000</td>\n      <td>22.803200</td>\n      <td>8.418330e+03</td>\n    </tr>\n    <tr>\n      <th>36630901_WATCHDOG</th>\n      <td>1.108333</td>\n      <td>-0.485123</td>\n      <td>-1.000000</td>\n      <td>0.000000</td>\n      <td>0.291356</td>\n      <td>-2.910740e+01</td>\n    </tr>\n    <tr>\n      <th>36640901_CNTRB_ETHO_IN</th>\n      <td>1.533333</td>\n      <td>0.000000</td>\n      <td>0.000000</td>\n      <td>0.000000</td>\n      <td>0.000000</td>\n      <td>0.000000e+00</td>\n    </tr>\n    <tr>\n      <th>36640901_RUN</th>\n      <td>1.950000</td>\n      <td>0.968724</td>\n      <td>0.632152</td>\n      <td>1.000000</td>\n      <td>0.081803</td>\n      <td>5.812340e+01</td>\n    </tr>\n    <tr>\n      <th>36650901_CNTRG_PEN_IN</th>\n      <td>1.666667</td>\n      <td>59460.100000</td>\n      <td>59459.500000</td>\n      <td>59460.600000</td>\n      <td>0.330643</td>\n      <td>3.567600e+06</td>\n    </tr>\n    <tr>\n      <th>36650901_CNTR_OUTPUT2</th>\n      <td>0.400000</td>\n      <td>20129.300000</td>\n      <td>19963.600000</td>\n      <td>20239.600000</td>\n      <td>102.792000</td>\n      <td>1.207760e+06</td>\n    </tr>\n    <tr>\n      <th>36650901_LIFECOUNTER</th>\n      <td>0.366667</td>\n      <td>40348.100000</td>\n      <td>40346.150000</td>\n      <td>40350.000000</td>\n      <td>1.144190</td>\n      <td>2.420890e+06</td>\n    </tr>\n    <tr>\n      <th>36670901_CNTRB_ETK</th>\n      <td>1.166667</td>\n      <td>0.000000</td>\n      <td>0.000000</td>\n      <td>0.000000</td>\n      <td>0.000000</td>\n      <td>0.000000e+00</td>\n    </tr>\n    <tr>\n      <th>36670901_CNTRB_IPC</th>\n      <td>0.766667</td>\n      <td>0.000000</td>\n      <td>0.000000</td>\n      <td>0.000000</td>\n      <td>0.000000</td>\n      <td>0.000000e+00</td>\n    </tr>\n    <tr>\n      <th>36670901_CNTRB_NORTN</th>\n      <td>1.850000</td>\n      <td>4.000000</td>\n      <td>4.000000</td>\n      <td>4.000000</td>\n      <td>0.000000</td>\n      <td>2.400000e+02</td>\n    </tr>\n    <tr>\n      <th>36670901_PRI020</th>\n      <td>0.850000</td>\n      <td>11727.100000</td>\n      <td>11709.600000</td>\n      <td>11749.700000</td>\n      <td>14.853300</td>\n      <td>7.036260e+05</td>\n    </tr>\n    <tr>\n      <th>36680901_SPEED</th>\n      <td>1.083333</td>\n      <td>1.693930</td>\n      <td>1.593510</td>\n      <td>1.794350</td>\n      <td>0.057978</td>\n      <td>1.016360e+02</td>\n    </tr>\n    <tr>\n      <th>36680901_STARTEND</th>\n      <td>0.366667</td>\n      <td>0.000000</td>\n      <td>0.000000</td>\n      <td>0.000000</td>\n      <td>0.000000</td>\n      <td>0.000000e+00</td>\n    </tr>\n    <tr>\n      <th>36680901_WATCHDOG</th>\n      <td>9.291667</td>\n      <td>-0.503955</td>\n      <td>-1.000000</td>\n      <td>0.000000</td>\n      <td>0.288183</td>\n      <td>-3.023730e+01</td>\n    </tr>\n  </tbody>\n</table>\n</div>"
     },
     "metadata": {},
     "execution_count": 167
    }
   ],
   "source": [
    "df_merge.groupby(['Machine','name']).mean()"
   ]
  },
  {
   "cell_type": "code",
   "execution_count": 170,
   "metadata": {},
   "outputs": [
    {
     "output_type": "execute_result",
     "data": {
      "text/plain": [
       "<xlsxwriter.format.Format at 0x19b29d62f40>"
      ]
     },
     "metadata": {},
     "execution_count": 170
    }
   ],
   "source": [
    "# writer = pd.ExcelWriter(dir + 'AL6_OEE_Detailed_Events.xlsx', engine='xlsxwriter')\n",
    "df_grouped = df_merge.groupby(['Machine','name']).mean()\n",
    "df_grouped.to_excel(writer, sheet_name='IP21_Data')\n",
    "worksheet = writer.sheets['IP21_Data']\n",
    "workbook = writer.book\n",
    "for x, width in enumerate(get_col_widths(pivot)):\n",
    "    #set each column width to be 1*25 that of the max string so that it fits nicely\n",
    "    worksheet.set_column(x, x, width * 1.25)    \n",
    "\n",
    "workbook = writer.book\n",
    "workbook.add_format()\n",
    "workbook.add_format({'num_format': '0.00'})\n",
    "# writer.save()\n"
   ]
  },
  {
   "cell_type": "code",
   "execution_count": 164,
   "metadata": {},
   "outputs": [
    {
     "output_type": "execute_result",
     "data": {
      "text/plain": [
       "                                Shift Long Name            End Date  \\\n",
       "Start Date                                                            \n",
       "2021-06-21 06:31:54  FRUE - 21/06/2021 06:00:00 2021-06-21 06:32:16   \n",
       "2021-06-21 06:43:59  FRUE - 21/06/2021 06:00:00 2021-06-21 06:45:47   \n",
       "2021-06-21 07:29:02  FRUE - 21/06/2021 06:00:00 2021-06-21 07:30:44   \n",
       "2021-06-21 07:30:50  FRUE - 21/06/2021 06:00:00 2021-06-21 07:32:48   \n",
       "2021-06-21 07:49:16  FRUE - 21/06/2021 06:00:00 2021-06-21 07:50:26   \n",
       "2021-06-21 08:27:02  FRUE - 21/06/2021 06:00:00 2021-06-21 08:27:57   \n",
       "2021-06-21 09:39:26  FRUE - 21/06/2021 06:00:00 2021-06-21 09:39:48   \n",
       "2021-06-21 09:42:08  FRUE - 21/06/2021 06:00:00 2021-06-21 09:44:05   \n",
       "2021-06-21 10:03:09  FRUE - 21/06/2021 06:00:00 2021-06-21 10:03:55   \n",
       "2021-06-21 12:08:49  FRUE - 21/06/2021 06:00:00 2021-06-21 12:09:50   \n",
       "2021-06-21 15:02:56  SPAE - 21/06/2021 14:00:00 2021-06-21 15:03:46   \n",
       "2021-06-21 15:06:04  SPAE - 21/06/2021 14:00:00 2021-06-21 15:06:34   \n",
       "2021-06-21 15:08:55  SPAE - 21/06/2021 14:00:00 2021-06-21 15:10:48   \n",
       "2021-06-21 15:10:55  SPAE - 21/06/2021 14:00:00 2021-06-21 15:12:27   \n",
       "2021-06-21 15:12:34  SPAE - 21/06/2021 14:00:00 2021-06-21 15:13:20   \n",
       "2021-06-21 15:13:46  SPAE - 21/06/2021 14:00:00 2021-06-21 15:14:12   \n",
       "2021-06-21 15:14:23  SPAE - 21/06/2021 14:00:00 2021-06-21 15:15:17   \n",
       "2021-06-21 15:15:54  SPAE - 21/06/2021 14:00:00 2021-06-21 15:33:39   \n",
       "2021-06-21 16:28:59  SPAE - 21/06/2021 14:00:00 2021-06-21 16:29:24   \n",
       "2021-06-21 16:34:08  SPAE - 21/06/2021 14:00:00 2021-06-21 16:36:01   \n",
       "2021-06-21 16:36:19  SPAE - 21/06/2021 14:00:00 2021-06-21 16:37:24   \n",
       "2021-06-21 17:03:10  SPAE - 21/06/2021 14:00:00 2021-06-21 17:03:34   \n",
       "2021-06-21 17:06:59  SPAE - 21/06/2021 14:00:00 2021-06-21 17:07:15   \n",
       "2021-06-21 17:07:49  SPAE - 21/06/2021 14:00:00 2021-06-21 17:08:02   \n",
       "2021-06-21 17:09:56  SPAE - 21/06/2021 14:00:00 2021-06-21 17:11:50   \n",
       "2021-06-21 17:36:32  SPAE - 21/06/2021 14:00:00 2021-06-21 17:38:23   \n",
       "2021-06-21 20:00:32  SPAE - 21/06/2021 14:00:00 2021-06-21 20:01:01   \n",
       "2021-06-21 20:07:32  SPAE - 21/06/2021 14:00:00 2021-06-21 20:07:50   \n",
       "2021-06-21 20:52:34  SPAE - 21/06/2021 14:00:00 2021-06-21 20:52:56   \n",
       "2021-06-21 21:11:14  SPAE - 21/06/2021 14:00:00 2021-06-21 21:12:05   \n",
       "2021-06-21 21:13:04  SPAE - 21/06/2021 14:00:00 2021-06-21 21:14:44   \n",
       "\n",
       "                     Duration (min.)                 Stoppage Reason 3  \\\n",
       "Start Date                                                               \n",
       "2021-06-21 06:31:54         0.366667                        Minor Loss   \n",
       "2021-06-21 06:43:59         1.800000                        Minor Loss   \n",
       "2021-06-21 07:29:02         1.700000                        Minor Loss   \n",
       "2021-06-21 07:30:50         1.966667                        Minor Loss   \n",
       "2021-06-21 07:49:16         1.166667                        Minor Loss   \n",
       "2021-06-21 08:27:02         0.916667                        Minor Loss   \n",
       "2021-06-21 09:39:26         0.366667                        Minor Loss   \n",
       "2021-06-21 09:42:08         1.950000                        Minor Loss   \n",
       "2021-06-21 10:03:09         0.766667                        Minor Loss   \n",
       "2021-06-21 12:08:49         1.016667                        Minor Loss   \n",
       "2021-06-21 15:02:56         0.833333                        Minor Loss   \n",
       "2021-06-21 15:06:04         0.500000                        Minor Loss   \n",
       "2021-06-21 15:08:55         1.883333                        Minor Loss   \n",
       "2021-06-21 15:10:55         1.533333                        Minor Loss   \n",
       "2021-06-21 15:12:34         0.766667                        Minor Loss   \n",
       "2021-06-21 15:13:46         0.433333                        Minor Loss   \n",
       "2021-06-21 15:14:23         0.900000                        Minor Loss   \n",
       "2021-06-21 15:15:54        17.750000  Malfunctions and troubleshooting   \n",
       "2021-06-21 16:28:59         0.416667                        Minor Loss   \n",
       "2021-06-21 16:34:08         1.883333                        Minor Loss   \n",
       "2021-06-21 16:36:19         1.083333                        Minor Loss   \n",
       "2021-06-21 17:03:10         0.400000                        Minor Loss   \n",
       "2021-06-21 17:06:59         0.266667                        Minor Loss   \n",
       "2021-06-21 17:07:49         0.216667                        Minor Loss   \n",
       "2021-06-21 17:09:56         1.900000                        Minor Loss   \n",
       "2021-06-21 17:36:32         1.850000                        Minor Loss   \n",
       "2021-06-21 20:00:32         0.483333                        Minor Loss   \n",
       "2021-06-21 20:07:32         0.300000                        Minor Loss   \n",
       "2021-06-21 20:52:34         0.366667                        Minor Loss   \n",
       "2021-06-21 21:11:14         0.850000                        Minor Loss   \n",
       "2021-06-21 21:13:04         1.666667                        Minor Loss   \n",
       "\n",
       "                                          Last Level Reason          Machine  \\\n",
       "Start Date                                                                     \n",
       "2021-06-21 06:31:54                                       -  AL6 Kartonierer   \n",
       "2021-06-21 06:43:59                                       -  AL6 Kartonierer   \n",
       "2021-06-21 07:29:02                                       -  AL6 Kartonierer   \n",
       "2021-06-21 07:30:50                                       -  AL6 Kartonierer   \n",
       "2021-06-21 07:49:16                                       -  AL6 Kartonierer   \n",
       "2021-06-21 08:27:02                                       -  AL6 Kartonierer   \n",
       "2021-06-21 09:39:26                                       -  AL6 Kartonierer   \n",
       "2021-06-21 09:42:08                                       -  AL6 Kartonierer   \n",
       "2021-06-21 10:03:09                                       -  AL6 Kartonierer   \n",
       "2021-06-21 12:08:49                                       -  AL6 Kartonierer   \n",
       "2021-06-21 15:02:56                                       -  AL6 Kartonierer   \n",
       "2021-06-21 15:06:04                                       -  AL6 Kartonierer   \n",
       "2021-06-21 15:08:55                                       -  AL6 Kartonierer   \n",
       "2021-06-21 15:10:55                                       -  AL6 Kartonierer   \n",
       "2021-06-21 15:12:34                                       -  AL6 Kartonierer   \n",
       "2021-06-21 15:13:46                                       -  AL6 Kartonierer   \n",
       "2021-06-21 15:14:23                                       -  AL6 Kartonierer   \n",
       "2021-06-21 15:15:54  F2_224- Abholwerkzeug PENs (251440803)  AL6 Kartonierer   \n",
       "2021-06-21 16:28:59                                       -  AL6 Kartonierer   \n",
       "2021-06-21 16:34:08                                       -  AL6 Kartonierer   \n",
       "2021-06-21 16:36:19                                       -  AL6 Kartonierer   \n",
       "2021-06-21 17:03:10                                       -  AL6 Kartonierer   \n",
       "2021-06-21 17:06:59                                       -  AL6 Kartonierer   \n",
       "2021-06-21 17:07:49                                       -  AL6 Kartonierer   \n",
       "2021-06-21 17:09:56                                       -  AL6 Kartonierer   \n",
       "2021-06-21 17:36:32                                       -  AL6 Kartonierer   \n",
       "2021-06-21 20:00:32                                       -  AL6 Kartonierer   \n",
       "2021-06-21 20:07:32                                       -  AL6 Kartonierer   \n",
       "2021-06-21 20:52:34                                       -  AL6 Kartonierer   \n",
       "2021-06-21 21:11:14                                       -  AL6 Kartonierer   \n",
       "2021-06-21 21:13:04                                       -  AL6 Kartonierer   \n",
       "\n",
       "                            Comments         Creator  \n",
       "Start Date                                            \n",
       "2021-06-21 06:31:54  Auto assignment  OEE_INTEGRATOR  \n",
       "2021-06-21 06:43:59  Auto assignment  OEE_INTEGRATOR  \n",
       "2021-06-21 07:29:02  Auto assignment  OEE_INTEGRATOR  \n",
       "2021-06-21 07:30:50  Auto assignment  OEE_INTEGRATOR  \n",
       "2021-06-21 07:49:16  Auto assignment  OEE_INTEGRATOR  \n",
       "2021-06-21 08:27:02  Auto assignment  OEE_INTEGRATOR  \n",
       "2021-06-21 09:39:26  Auto assignment  OEE_INTEGRATOR  \n",
       "2021-06-21 09:42:08  Auto assignment  OEE_INTEGRATOR  \n",
       "2021-06-21 10:03:09  Auto assignment  OEE_INTEGRATOR  \n",
       "2021-06-21 12:08:49  Auto assignment  OEE_INTEGRATOR  \n",
       "2021-06-21 15:02:56  Auto assignment  OEE_INTEGRATOR  \n",
       "2021-06-21 15:06:04  Auto assignment  OEE_INTEGRATOR  \n",
       "2021-06-21 15:08:55  Auto assignment  OEE_INTEGRATOR  \n",
       "2021-06-21 15:10:55  Auto assignment  OEE_INTEGRATOR  \n",
       "2021-06-21 15:12:34  Auto assignment  OEE_INTEGRATOR  \n",
       "2021-06-21 15:13:46  Auto assignment  OEE_INTEGRATOR  \n",
       "2021-06-21 15:14:23  Auto assignment  OEE_INTEGRATOR  \n",
       "2021-06-21 15:15:54                -        I0230167  \n",
       "2021-06-21 16:28:59  Auto assignment  OEE_INTEGRATOR  \n",
       "2021-06-21 16:34:08  Auto assignment  OEE_INTEGRATOR  \n",
       "2021-06-21 16:36:19  Auto assignment  OEE_INTEGRATOR  \n",
       "2021-06-21 17:03:10  Auto assignment  OEE_INTEGRATOR  \n",
       "2021-06-21 17:06:59  Auto assignment  OEE_INTEGRATOR  \n",
       "2021-06-21 17:07:49  Auto assignment  OEE_INTEGRATOR  \n",
       "2021-06-21 17:09:56  Auto assignment  OEE_INTEGRATOR  \n",
       "2021-06-21 17:36:32  Auto assignment  OEE_INTEGRATOR  \n",
       "2021-06-21 20:00:32  Auto assignment  OEE_INTEGRATOR  \n",
       "2021-06-21 20:07:32  Auto assignment  OEE_INTEGRATOR  \n",
       "2021-06-21 20:52:34  Auto assignment  OEE_INTEGRATOR  \n",
       "2021-06-21 21:11:14  Auto assignment  OEE_INTEGRATOR  \n",
       "2021-06-21 21:13:04  Auto assignment  OEE_INTEGRATOR  "
      ],
      "text/html": "<div>\n<style scoped>\n    .dataframe tbody tr th:only-of-type {\n        vertical-align: middle;\n    }\n\n    .dataframe tbody tr th {\n        vertical-align: top;\n    }\n\n    .dataframe thead th {\n        text-align: right;\n    }\n</style>\n<table border=\"1\" class=\"dataframe\">\n  <thead>\n    <tr style=\"text-align: right;\">\n      <th></th>\n      <th>Shift Long Name</th>\n      <th>End Date</th>\n      <th>Duration (min.)</th>\n      <th>Stoppage Reason 3</th>\n      <th>Last Level Reason</th>\n      <th>Machine</th>\n      <th>Comments</th>\n      <th>Creator</th>\n    </tr>\n    <tr>\n      <th>Start Date</th>\n      <th></th>\n      <th></th>\n      <th></th>\n      <th></th>\n      <th></th>\n      <th></th>\n      <th></th>\n      <th></th>\n    </tr>\n  </thead>\n  <tbody>\n    <tr>\n      <th>2021-06-21 06:31:54</th>\n      <td>FRUE - 21/06/2021 06:00:00</td>\n      <td>2021-06-21 06:32:16</td>\n      <td>0.366667</td>\n      <td>Minor Loss</td>\n      <td>-</td>\n      <td>AL6 Kartonierer</td>\n      <td>Auto assignment</td>\n      <td>OEE_INTEGRATOR</td>\n    </tr>\n    <tr>\n      <th>2021-06-21 06:43:59</th>\n      <td>FRUE - 21/06/2021 06:00:00</td>\n      <td>2021-06-21 06:45:47</td>\n      <td>1.800000</td>\n      <td>Minor Loss</td>\n      <td>-</td>\n      <td>AL6 Kartonierer</td>\n      <td>Auto assignment</td>\n      <td>OEE_INTEGRATOR</td>\n    </tr>\n    <tr>\n      <th>2021-06-21 07:29:02</th>\n      <td>FRUE - 21/06/2021 06:00:00</td>\n      <td>2021-06-21 07:30:44</td>\n      <td>1.700000</td>\n      <td>Minor Loss</td>\n      <td>-</td>\n      <td>AL6 Kartonierer</td>\n      <td>Auto assignment</td>\n      <td>OEE_INTEGRATOR</td>\n    </tr>\n    <tr>\n      <th>2021-06-21 07:30:50</th>\n      <td>FRUE - 21/06/2021 06:00:00</td>\n      <td>2021-06-21 07:32:48</td>\n      <td>1.966667</td>\n      <td>Minor Loss</td>\n      <td>-</td>\n      <td>AL6 Kartonierer</td>\n      <td>Auto assignment</td>\n      <td>OEE_INTEGRATOR</td>\n    </tr>\n    <tr>\n      <th>2021-06-21 07:49:16</th>\n      <td>FRUE - 21/06/2021 06:00:00</td>\n      <td>2021-06-21 07:50:26</td>\n      <td>1.166667</td>\n      <td>Minor Loss</td>\n      <td>-</td>\n      <td>AL6 Kartonierer</td>\n      <td>Auto assignment</td>\n      <td>OEE_INTEGRATOR</td>\n    </tr>\n    <tr>\n      <th>2021-06-21 08:27:02</th>\n      <td>FRUE - 21/06/2021 06:00:00</td>\n      <td>2021-06-21 08:27:57</td>\n      <td>0.916667</td>\n      <td>Minor Loss</td>\n      <td>-</td>\n      <td>AL6 Kartonierer</td>\n      <td>Auto assignment</td>\n      <td>OEE_INTEGRATOR</td>\n    </tr>\n    <tr>\n      <th>2021-06-21 09:39:26</th>\n      <td>FRUE - 21/06/2021 06:00:00</td>\n      <td>2021-06-21 09:39:48</td>\n      <td>0.366667</td>\n      <td>Minor Loss</td>\n      <td>-</td>\n      <td>AL6 Kartonierer</td>\n      <td>Auto assignment</td>\n      <td>OEE_INTEGRATOR</td>\n    </tr>\n    <tr>\n      <th>2021-06-21 09:42:08</th>\n      <td>FRUE - 21/06/2021 06:00:00</td>\n      <td>2021-06-21 09:44:05</td>\n      <td>1.950000</td>\n      <td>Minor Loss</td>\n      <td>-</td>\n      <td>AL6 Kartonierer</td>\n      <td>Auto assignment</td>\n      <td>OEE_INTEGRATOR</td>\n    </tr>\n    <tr>\n      <th>2021-06-21 10:03:09</th>\n      <td>FRUE - 21/06/2021 06:00:00</td>\n      <td>2021-06-21 10:03:55</td>\n      <td>0.766667</td>\n      <td>Minor Loss</td>\n      <td>-</td>\n      <td>AL6 Kartonierer</td>\n      <td>Auto assignment</td>\n      <td>OEE_INTEGRATOR</td>\n    </tr>\n    <tr>\n      <th>2021-06-21 12:08:49</th>\n      <td>FRUE - 21/06/2021 06:00:00</td>\n      <td>2021-06-21 12:09:50</td>\n      <td>1.016667</td>\n      <td>Minor Loss</td>\n      <td>-</td>\n      <td>AL6 Kartonierer</td>\n      <td>Auto assignment</td>\n      <td>OEE_INTEGRATOR</td>\n    </tr>\n    <tr>\n      <th>2021-06-21 15:02:56</th>\n      <td>SPAE - 21/06/2021 14:00:00</td>\n      <td>2021-06-21 15:03:46</td>\n      <td>0.833333</td>\n      <td>Minor Loss</td>\n      <td>-</td>\n      <td>AL6 Kartonierer</td>\n      <td>Auto assignment</td>\n      <td>OEE_INTEGRATOR</td>\n    </tr>\n    <tr>\n      <th>2021-06-21 15:06:04</th>\n      <td>SPAE - 21/06/2021 14:00:00</td>\n      <td>2021-06-21 15:06:34</td>\n      <td>0.500000</td>\n      <td>Minor Loss</td>\n      <td>-</td>\n      <td>AL6 Kartonierer</td>\n      <td>Auto assignment</td>\n      <td>OEE_INTEGRATOR</td>\n    </tr>\n    <tr>\n      <th>2021-06-21 15:08:55</th>\n      <td>SPAE - 21/06/2021 14:00:00</td>\n      <td>2021-06-21 15:10:48</td>\n      <td>1.883333</td>\n      <td>Minor Loss</td>\n      <td>-</td>\n      <td>AL6 Kartonierer</td>\n      <td>Auto assignment</td>\n      <td>OEE_INTEGRATOR</td>\n    </tr>\n    <tr>\n      <th>2021-06-21 15:10:55</th>\n      <td>SPAE - 21/06/2021 14:00:00</td>\n      <td>2021-06-21 15:12:27</td>\n      <td>1.533333</td>\n      <td>Minor Loss</td>\n      <td>-</td>\n      <td>AL6 Kartonierer</td>\n      <td>Auto assignment</td>\n      <td>OEE_INTEGRATOR</td>\n    </tr>\n    <tr>\n      <th>2021-06-21 15:12:34</th>\n      <td>SPAE - 21/06/2021 14:00:00</td>\n      <td>2021-06-21 15:13:20</td>\n      <td>0.766667</td>\n      <td>Minor Loss</td>\n      <td>-</td>\n      <td>AL6 Kartonierer</td>\n      <td>Auto assignment</td>\n      <td>OEE_INTEGRATOR</td>\n    </tr>\n    <tr>\n      <th>2021-06-21 15:13:46</th>\n      <td>SPAE - 21/06/2021 14:00:00</td>\n      <td>2021-06-21 15:14:12</td>\n      <td>0.433333</td>\n      <td>Minor Loss</td>\n      <td>-</td>\n      <td>AL6 Kartonierer</td>\n      <td>Auto assignment</td>\n      <td>OEE_INTEGRATOR</td>\n    </tr>\n    <tr>\n      <th>2021-06-21 15:14:23</th>\n      <td>SPAE - 21/06/2021 14:00:00</td>\n      <td>2021-06-21 15:15:17</td>\n      <td>0.900000</td>\n      <td>Minor Loss</td>\n      <td>-</td>\n      <td>AL6 Kartonierer</td>\n      <td>Auto assignment</td>\n      <td>OEE_INTEGRATOR</td>\n    </tr>\n    <tr>\n      <th>2021-06-21 15:15:54</th>\n      <td>SPAE - 21/06/2021 14:00:00</td>\n      <td>2021-06-21 15:33:39</td>\n      <td>17.750000</td>\n      <td>Malfunctions and troubleshooting</td>\n      <td>F2_224- Abholwerkzeug PENs (251440803)</td>\n      <td>AL6 Kartonierer</td>\n      <td>-</td>\n      <td>I0230167</td>\n    </tr>\n    <tr>\n      <th>2021-06-21 16:28:59</th>\n      <td>SPAE - 21/06/2021 14:00:00</td>\n      <td>2021-06-21 16:29:24</td>\n      <td>0.416667</td>\n      <td>Minor Loss</td>\n      <td>-</td>\n      <td>AL6 Kartonierer</td>\n      <td>Auto assignment</td>\n      <td>OEE_INTEGRATOR</td>\n    </tr>\n    <tr>\n      <th>2021-06-21 16:34:08</th>\n      <td>SPAE - 21/06/2021 14:00:00</td>\n      <td>2021-06-21 16:36:01</td>\n      <td>1.883333</td>\n      <td>Minor Loss</td>\n      <td>-</td>\n      <td>AL6 Kartonierer</td>\n      <td>Auto assignment</td>\n      <td>OEE_INTEGRATOR</td>\n    </tr>\n    <tr>\n      <th>2021-06-21 16:36:19</th>\n      <td>SPAE - 21/06/2021 14:00:00</td>\n      <td>2021-06-21 16:37:24</td>\n      <td>1.083333</td>\n      <td>Minor Loss</td>\n      <td>-</td>\n      <td>AL6 Kartonierer</td>\n      <td>Auto assignment</td>\n      <td>OEE_INTEGRATOR</td>\n    </tr>\n    <tr>\n      <th>2021-06-21 17:03:10</th>\n      <td>SPAE - 21/06/2021 14:00:00</td>\n      <td>2021-06-21 17:03:34</td>\n      <td>0.400000</td>\n      <td>Minor Loss</td>\n      <td>-</td>\n      <td>AL6 Kartonierer</td>\n      <td>Auto assignment</td>\n      <td>OEE_INTEGRATOR</td>\n    </tr>\n    <tr>\n      <th>2021-06-21 17:06:59</th>\n      <td>SPAE - 21/06/2021 14:00:00</td>\n      <td>2021-06-21 17:07:15</td>\n      <td>0.266667</td>\n      <td>Minor Loss</td>\n      <td>-</td>\n      <td>AL6 Kartonierer</td>\n      <td>Auto assignment</td>\n      <td>OEE_INTEGRATOR</td>\n    </tr>\n    <tr>\n      <th>2021-06-21 17:07:49</th>\n      <td>SPAE - 21/06/2021 14:00:00</td>\n      <td>2021-06-21 17:08:02</td>\n      <td>0.216667</td>\n      <td>Minor Loss</td>\n      <td>-</td>\n      <td>AL6 Kartonierer</td>\n      <td>Auto assignment</td>\n      <td>OEE_INTEGRATOR</td>\n    </tr>\n    <tr>\n      <th>2021-06-21 17:09:56</th>\n      <td>SPAE - 21/06/2021 14:00:00</td>\n      <td>2021-06-21 17:11:50</td>\n      <td>1.900000</td>\n      <td>Minor Loss</td>\n      <td>-</td>\n      <td>AL6 Kartonierer</td>\n      <td>Auto assignment</td>\n      <td>OEE_INTEGRATOR</td>\n    </tr>\n    <tr>\n      <th>2021-06-21 17:36:32</th>\n      <td>SPAE - 21/06/2021 14:00:00</td>\n      <td>2021-06-21 17:38:23</td>\n      <td>1.850000</td>\n      <td>Minor Loss</td>\n      <td>-</td>\n      <td>AL6 Kartonierer</td>\n      <td>Auto assignment</td>\n      <td>OEE_INTEGRATOR</td>\n    </tr>\n    <tr>\n      <th>2021-06-21 20:00:32</th>\n      <td>SPAE - 21/06/2021 14:00:00</td>\n      <td>2021-06-21 20:01:01</td>\n      <td>0.483333</td>\n      <td>Minor Loss</td>\n      <td>-</td>\n      <td>AL6 Kartonierer</td>\n      <td>Auto assignment</td>\n      <td>OEE_INTEGRATOR</td>\n    </tr>\n    <tr>\n      <th>2021-06-21 20:07:32</th>\n      <td>SPAE - 21/06/2021 14:00:00</td>\n      <td>2021-06-21 20:07:50</td>\n      <td>0.300000</td>\n      <td>Minor Loss</td>\n      <td>-</td>\n      <td>AL6 Kartonierer</td>\n      <td>Auto assignment</td>\n      <td>OEE_INTEGRATOR</td>\n    </tr>\n    <tr>\n      <th>2021-06-21 20:52:34</th>\n      <td>SPAE - 21/06/2021 14:00:00</td>\n      <td>2021-06-21 20:52:56</td>\n      <td>0.366667</td>\n      <td>Minor Loss</td>\n      <td>-</td>\n      <td>AL6 Kartonierer</td>\n      <td>Auto assignment</td>\n      <td>OEE_INTEGRATOR</td>\n    </tr>\n    <tr>\n      <th>2021-06-21 21:11:14</th>\n      <td>SPAE - 21/06/2021 14:00:00</td>\n      <td>2021-06-21 21:12:05</td>\n      <td>0.850000</td>\n      <td>Minor Loss</td>\n      <td>-</td>\n      <td>AL6 Kartonierer</td>\n      <td>Auto assignment</td>\n      <td>OEE_INTEGRATOR</td>\n    </tr>\n    <tr>\n      <th>2021-06-21 21:13:04</th>\n      <td>SPAE - 21/06/2021 14:00:00</td>\n      <td>2021-06-21 21:14:44</td>\n      <td>1.666667</td>\n      <td>Minor Loss</td>\n      <td>-</td>\n      <td>AL6 Kartonierer</td>\n      <td>Auto assignment</td>\n      <td>OEE_INTEGRATOR</td>\n    </tr>\n  </tbody>\n</table>\n</div>"
     },
     "metadata": {},
     "execution_count": 164
    }
   ],
   "source": [
    "df_date[df_date.Machine.str.contains('Kart')]"
   ]
  },
  {
   "cell_type": "code",
   "execution_count": 171,
   "metadata": {},
   "outputs": [],
   "source": [
    "# writer = pd.ExcelWriter(dir + 'AL6_OEE_Detailed_Events.xlsx', engine='xlsxwriter')\n",
    "df_merge.to_excel(writer, sheet_name='IP21_Data_Details')\n",
    "worksheet = writer.sheets['IP21_Data_Details']\n",
    "workbook = writer.book\n",
    "for x, width in enumerate(get_col_widths(pivot)):\n",
    "    #set each column width to be 1*25 that of the max string so that it fits nicely\n",
    "    worksheet.set_column(x, x, width * 1.25)    \n",
    "\n",
    "workbook = writer.book\n",
    "workbook.add_format()\n",
    "workbook.add_format({'num_format': '0.00'})\n",
    "writer.save()"
   ]
  },
  {
   "cell_type": "code",
   "execution_count": null,
   "metadata": {},
   "outputs": [],
   "source": []
  }
 ],
 "metadata": {
  "interpreter": {
   "hash": "dc38ca91b741400ca81ff193f73ec074f6545a5dbac62412cc25190e340b3fbc"
  },
  "kernelspec": {
   "name": "python3",
   "display_name": "Python 3.8.5 64-bit ('base': conda)"
  },
  "language_info": {
   "codemirror_mode": {
    "name": "ipython",
    "version": 3
   },
   "file_extension": ".py",
   "mimetype": "text/x-python",
   "name": "python",
   "nbconvert_exporter": "python",
   "pygments_lexer": "ipython3",
   "version": "3.8.5"
  }
 },
 "nbformat": 4,
 "nbformat_minor": 2
}