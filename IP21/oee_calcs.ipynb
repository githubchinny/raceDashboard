{
 "cells": [
  {
   "cell_type": "code",
   "execution_count": 1,
   "metadata": {},
   "outputs": [],
   "source": [
    "import pandas as pd\n",
    "import numpy as np\n",
    "import os\n",
    "import datetime\n",
    "\n",
    "import set_config\n",
    "import BATCHACTIVE\n",
    "import QlikSense_OEE\n",
    "import ORDER\n",
    "import CNTR\n",
    "\n",
    "# my modules\n",
    "from common_functions import create_df_from_file\n",
    "from common_functions import create_shift_category\n",
    "\n",
    "# call set_config\n",
    "dir_sanofi_share = set_config.ConfigSectionMap(\"SectionOne\")['sanofi']\n",
    "dir_local = set_config.ConfigSectionMap(\"SectionOne\")['local']\n",
    "\n",
    "# read IP21 SPEED files for AL6 packaging machines\n",
    "folder = 'IP21_data'\n",
    "\n",
    "Files = []\n",
    "df = []\n",
    "\n"
   ]
  },
  {
   "cell_type": "markdown",
   "metadata": {},
   "source": [
    "This produces a final dataframe with the following columns\n",
    "\n",
    "| # | Column | Dtype | Description |  \n",
    "|---| ------ | ----- | ----------- |  \n",
    "| 0 |Name|object| \n",
    "| 1 |counter|int64|counter value from CNTR files|   \n",
    "| 2 |IP_TREND_QLEVEL|object||  \n",
    "| 3 |IP_TREND_QSTATUS|object||  \n",
    "| 4 |Machine|object||  \n",
    "| 5 |Type|object||  \n",
    "| 6 |counter_diff|float64|difference between counter files of same name| \n",
    "| 7 |time_diff|float64|difference in time between counter files of same name| \n",
    "| 8 |In_Changeover|float64|1 if during changeover period (Florian formula), NaN if outside period| \n",
    "| 9 |Assembly_Order_No|object| 36630901_ORDERNUMBER file values| \n",
    "| 10|PAL_Order_No|object|36650901_ORDERNUMBER file values|  \n",
    "| 11|BATCH_ID|object|36630901_BATCHID values|  \n",
    "| 12|BATCH_SIZE|float64|36630901_MATNO values, believe is the number of pens per batch| \n",
    "| 13|Shift|category|EARLY, LATE, NIGHT, 06:00 - 14:00, 14:00-22:00, 22:00-06:00|"
   ]
  },
  {
   "cell_type": "markdown",
   "metadata": {},
   "source": [
    "# CHANGEOVER"
   ]
  },
  {
   "cell_type": "code",
   "execution_count": 2,
   "metadata": {},
   "outputs": [],
   "source": [
    "# call changeover - calculated from the BATCHACTIVE files\n",
    "df_changeover = BATCHACTIVE.changeover()"
   ]
  },
  {
   "cell_type": "markdown",
   "metadata": {},
   "source": [
    "# ORDER"
   ]
  },
  {
   "cell_type": "code",
   "execution_count": 3,
   "metadata": {},
   "outputs": [],
   "source": [
    "# get the batch info \n",
    "df_order = ORDER.ORDER_files()"
   ]
  },
  {
   "cell_type": "markdown",
   "metadata": {},
   "source": [
    "# COUNTER"
   ]
  },
  {
   "cell_type": "code",
   "execution_count": 9,
   "metadata": {},
   "outputs": [
    {
     "name": "stderr",
     "output_type": "stream",
     "text": [
      "C:\\Users\\mark_\\anaconda3\\lib\\site-packages\\pandas\\core\\indexing.py:1637: SettingWithCopyWarning: \n",
      "A value is trying to be set on a copy of a slice from a DataFrame\n",
      "\n",
      "See the caveats in the documentation: https://pandas.pydata.org/pandas-docs/stable/user_guide/indexing.html#returning-a-view-versus-a-copy\n",
      "  self._setitem_single_block(indexer, value, name)\n",
      "C:\\Users\\mark_\\anaconda3\\lib\\site-packages\\pandas\\core\\indexing.py:1637: SettingWithCopyWarning: \n",
      "A value is trying to be set on a copy of a slice from a DataFrame\n",
      "\n",
      "See the caveats in the documentation: https://pandas.pydata.org/pandas-docs/stable/user_guide/indexing.html#returning-a-view-versus-a-copy\n",
      "  self._setitem_single_block(indexer, value, name)\n"
     ]
    }
   ],
   "source": [
    "df_CNTR = CNTR.CNTR_Files()\n"
   ]
  },
  {
   "cell_type": "markdown",
   "metadata": {},
   "source": [
    "# Merge Dataframes\n",
    "\n",
    "## Create changeover category"
   ]
  },
  {
   "cell_type": "code",
   "execution_count": 10,
   "metadata": {},
   "outputs": [],
   "source": [
    "df_CNTR.set_index('IP_TREND_TIME', inplace=True)"
   ]
  },
  {
   "cell_type": "code",
   "execution_count": 11,
   "metadata": {},
   "outputs": [],
   "source": [
    "df_CNTR.rename(columns={'IP_TREND_VALUE':'counter'}, inplace=True)"
   ]
  },
  {
   "cell_type": "code",
   "execution_count": 12,
   "metadata": {},
   "outputs": [],
   "source": [
    "# create a category of In_Changeover if times are between changeover start and end\n",
    "for i, times in df_changeover.iterrows():\n",
    "    df_CNTR.loc[(df_CNTR.index > times[0]) & (df_CNTR.index < times[1]), 'In_Changeover'] = 1"
   ]
  },
  {
   "cell_type": "markdown",
   "metadata": {},
   "source": [
    "## Create Order Number column"
   ]
  },
  {
   "cell_type": "markdown",
   "metadata": {},
   "source": [
    "Find rows for 36630901 order number changes and merge with df_CNTR"
   ]
  },
  {
   "cell_type": "code",
   "execution_count": 13,
   "metadata": {},
   "outputs": [],
   "source": [
    "df_order.set_index('IP_TREND_TIME', inplace=True)"
   ]
  },
  {
   "cell_type": "code",
   "execution_count": 14,
   "metadata": {},
   "outputs": [],
   "source": [
    "assembly_orders = df_order[df_order['36630901_ORDERNUMBER'].isna()==False]\n",
    "pal_orders = df_order[df_order['36650901_ORDERNUMBER'].isna()==False]\n",
    "# pd.DataFrame({'start':df_orders2.iloc[::2].values, 'end':df_orders2.iloc[1::2].values, 'time_diff_mins':df_orders2.time_diff_mins.iloc[1::2].values})\n",
    "df_order2 = pd.merge_asof(df_CNTR.sort_index(), df_order.sort_index()[['36630901_ORDERNUMBER','36650901_ORDERNUMBER','BATCH_ID','BATCH_SIZE']].sort_index(), left_index=True, right_index=True, direction='forward', allow_exact_matches=True)\n",
    "df_order2.rename(columns={'36630901_ORDERNUMBER':'Assembly_Order_No',\n",
    "                          '36650901_ORDERNUMBER':'PAL_Order_No'}, inplace=True)\n"
   ]
  },
  {
   "cell_type": "markdown",
   "metadata": {},
   "source": [
    "## Create Shift Category"
   ]
  },
  {
   "cell_type": "code",
   "execution_count": 15,
   "metadata": {},
   "outputs": [],
   "source": [
    "# call create_shift_category with dataframe and which column you want to use\n",
    "df_order2 = create_shift_category(df_order2)"
   ]
  },
  {
   "cell_type": "code",
   "execution_count": 16,
   "metadata": {},
   "outputs": [],
   "source": [
    "filename = 'Batch_Order_Info.csv'\n",
    "df_order2.to_csv(os.path.join(dir_sanofi_share, folder, filename))\n"
   ]
  },
  {
   "cell_type": "code",
   "execution_count": null,
   "metadata": {},
   "outputs": [],
   "source": []
  }
 ],
 "metadata": {
  "interpreter": {
   "hash": "dc38ca91b741400ca81ff193f73ec074f6545a5dbac62412cc25190e340b3fbc"
  },
  "kernelspec": {
   "display_name": "Python 3.8.8 64-bit ('base': conda)",
   "name": "python3"
  },
  "language_info": {
   "codemirror_mode": {
    "name": "ipython",
    "version": 3
   },
   "file_extension": ".py",
   "mimetype": "text/x-python",
   "name": "python",
   "nbconvert_exporter": "python",
   "pygments_lexer": "ipython3",
   "version": "3.8.8"
  },
  "orig_nbformat": 4
 },
 "nbformat": 4,
 "nbformat_minor": 2
}
