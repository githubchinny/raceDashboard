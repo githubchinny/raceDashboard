{
 "cells": [
  {
   "cell_type": "markdown",
   "metadata": {},
   "source": [
    "# Alarm Data Analysis\n",
    "\n"
   ]
  },
  {
   "cell_type": "code",
   "execution_count": 1,
   "metadata": {},
   "outputs": [
    {
     "output_type": "stream",
     "name": "stdout",
     "text": [
      "dir_sanofi_share is C:/Users/mark_/Sanofi/Sanofi x McLaren sharing - General/Frankfurt sprint/SFD/\ndir_alarms is C:/Users/mark_/Sanofi/Sanofi x McLaren sharing - General/Frankfurt sprint/SFD/Alarms_data/\n"
     ]
    }
   ],
   "source": [
    "import pandas as pd\n",
    "import numpy as np\n",
    "import datetime\n",
    "import os\n",
    "import xlrd\n",
    "import re\n",
    "\n",
    "# this needs a settings.cfg file in the same directory\n",
    "\n",
    "import configparser\n",
    "\n",
    "Config = configparser.ConfigParser()\n",
    "\n",
    "Config.read('settings.cfg')\n",
    "\n",
    "def ConfigSectionMap(section):\n",
    "    dict1 = {}\n",
    "    options = Config.options(section)\n",
    "    for option in options:\n",
    "        try:\n",
    "            dict1[option] = Config.get(section, option)\n",
    "            if dict1[option] == -1:\n",
    "                DebugPrint(\"skip: %s\" % option)\n",
    "        except:\n",
    "            print(\"exception on %s!\" % option)\n",
    "            dict1[option] = None\n",
    "    return dict1\n",
    "\n",
    "\n",
    "dir_ip21 = ConfigSectionMap(\"SectionOne\")['ip21']\n",
    "dir_sanofi_share = ConfigSectionMap(\"SectionOne\")['sanofi']\n",
    "dir_alarms = ConfigSectionMap(\"SectionOne\")['alarms']\n",
    "\n",
    "print (\"dir_sanofi_share is %s\" % (dir_sanofi_share))\n",
    "print (\"dir_alarms is %s\" % (dir_alarms))\n",
    "\n",
    "pd.set_option('display.max_columns', None)\n",
    "pd.set_option('max_colwidth', None)"
   ]
  },
  {
   "cell_type": "markdown",
   "metadata": {},
   "source": []
  },
  {
   "cell_type": "markdown",
   "metadata": {},
   "source": [
    "## AL6_Endverpacker\n",
    "\n",
    "Dir: Y:\\E00_Solostar\\E6_Assembly_Line_6\\E68_Endverpacker\\PAL\n",
    "\n",
    "These files are converted from .VAA files into csv and then we can read them:\n",
    "\n",
    "```\n",
    "\n",
    "ID\tState\tStateID\tStateText\tTimeIn\tTimeUserAck\tTimePLCAck\tMessageID\tMessageText\tOccur\tGroupID\tGroupText\tPriority\tParameter1\tParameter2\tGroup\tClass\tHistoricalID\tHasNotes\tSortBuffer\tTimeInUTC\tUser\tMachine\n",
    "579\t0\t$2524\tMGG\t31/07/2021 23:57\t30/12/1899 00:00:00\t01/08/2021 00:30\t$9051\tMaschine wartet auf Produkte\t1\t$8879\tWarnung Maschine\t0\t$7326\t12\t42\t5\t1\t0\tAlarmhistory_1-8-21--12-0\t31/07/2021 21:57\t\tFRAM28556\n",
    "579\t4\t$2522\tMGK\t01/08/2021 00:30\t30/12/1899 00:00:00\t30/12/1899 00:00:00\t$9051\tMaschine wartet auf Produkte\t1\t$8879\tWarnung Maschine\t0\t$7326\t12\t42\t5\t2\t0\tAlarmhistory_1-8-21--12-0\t31/07/2021 22:30\t\tFRAM28556\n",
    "579\t0\t$2524\tMGG\t01/08/2021 00:30\t30/12/1899 00:00:00\t01/08/2021 00:31\t$9051\tMaschine wartet auf Produkte\t1\t$8879\tWarnung Maschine\t0\t$7326\t12\t42\t5\t3\t0\tAlarmhistory_1-8-21--12-0\t31/07/2021 22:30\t\tFRAM28556\n",
    "828\t4\t$2522\tMGK\t01/08/2021 00:32\t30/12/1899 00:00:00\t30/12/1899 00:00:00\t$9300\tRoboter: Palette voll\t1\t$8896\tWarnung Roboter: Kartonhandling\t0\t$8323\t10004\t59\t5\t4\t0\tAlarmhistory_1-8-21--12-0\t31/07/2021 22:32\t\tFRAM28556\n",
    "\n",
    "```"
   ]
  },
  {
   "cell_type": "code",
   "execution_count": 2,
   "metadata": {},
   "outputs": [],
   "source": [
    "folder = 'AL6_Endverpacker'\n",
    "\n",
    "Files = []\n",
    "df = []\n",
    "Endverpacker_df = pd.DataFrame()\n",
    "\n",
    "for filename in os.listdir( dir_alarms + folder ):\n",
    "    if filename.endswith('.csv'):\n",
    "        Files.append(filename)\n",
    "\n",
    "Files.sort(key=str.lower)\n",
    "\n",
    "# Loop through all the files.\n",
    "for filename in Files:\n",
    "    path = os.path.join(dir_alarms, folder, filename)\n",
    "    # print (path)\n",
    "    df = pd.read_csv(path, encoding='mbcs')\n",
    "    df['Filename'] = filename\n",
    "    Endverpacker_df = Endverpacker_df.append(df)\n",
    "\n",
    "\n",
    "# C:\\Users\\mark_\\Sanofi\\Sanofi x McLaren sharing - General\\Frankfurt sprint\\SFD\\Alarms_data\\AL6_Endverpacker\n",
    "Endverpacker_df['Machine'] = folder"
   ]
  },
  {
   "cell_type": "markdown",
   "metadata": {},
   "source": [
    "## AL6_Etikettierer\n",
    "\n",
    "Dir: Y:\\E00_Solostar\\E6_Assembly_Line_6\\E64_Etikettierer\\AuditTrail\n",
    "\n",
    "There are PDF files and AuditTrail csv files which hold the same information.\n",
    "- status 0 = start of alarm\n",
    "- status 3 = end of alarm\n",
    "\n",
    "Problem is the ID of the alarm is reused repeatedly and I can see multiple Status 3 returned for same ID without a Status 0 apparently initiating the alarm\n",
    "\n",
    "csv files looks like this:\n",
    "\n",
    "```\n",
    "Nummer;Projekt;Status;Prio;Quali;Datum;Zeit;UTC Versatz;Meldetext;ID;BMK;Parameterwert;Einheit;Alt/Neu-Wert;Benutzer;Auftrag;Charge\n",
    "00000001;BAS;0;4;L;15.08.2021;22:00:00;+02:00;01-01 Solostar PEN;;TYPE;0001;;N;Bediener;80758594;1F7908A\n",
    "\n",
    "```\n",
    "\n",
    "Approach:\n",
    "- read all the xls files in from folder   \n",
    "- derive Start\n"
   ]
  },
  {
   "cell_type": "code",
   "execution_count": 3,
   "metadata": {},
   "outputs": [],
   "source": [
    "folder = 'AL6_Etikettierer'\n",
    "\n",
    "Files = []\n",
    "df = []\n",
    "Etikettierer_df = pd.DataFrame()\n",
    "\n",
    "for filename in os.listdir( dir_alarms + folder ):\n",
    "    if filename.endswith('.csv'):\n",
    "        Files.append(filename)\n",
    "\n",
    "Files.sort(key=str.lower)\n",
    "\n",
    "# Loop through all the files.\n",
    "for filename in Files:\n",
    "    path = os.path.join(dir_alarms, folder, filename)\n",
    "    # print (path)\n",
    "    df = pd.read_csv(path, sep=';', encoding='utf-16')\n",
    "    df['Filename'] = filename    \n",
    "    Etikettierer_df = Etikettierer_df.append(df)\n",
    "\n",
    "Etikettierer_df['Machine'] = folder\n",
    "\n",
    "# convert dates to datetime format\n",
    "Etikettierer_df['Start'] = pd.to_datetime(Etikettierer_df['Datum'] + \".\"+ Etikettierer_df['Zeit'], format='%d.%m.%Y.%H:%M:%S')\n",
    "\n",
    "# drop the rows with NaN values in ID - thought it was causing problems when trying to merge on ID, can't calc duration for them anyway, and I don't think they are relevant alarms\n",
    "Etikettierer_df = Etikettierer_df[Etikettierer_df['ID'].notnull()]\n",
    "\n",
    "# This was attempting to find a corresponding Status 3 for an ID to calculate \n",
    "\n",
    "# take the rows with status = 3\n",
    "# Etikettierer_end = Etikettierer_df[['ID','Start']][Etikettierer_df['Status'] == 3]\n",
    "# Etikettierer_end.rename(columns={'Start': 'End'}, inplace=True)\n",
    "\n",
    "# get rid of the rows with status 3 from main df\n",
    "# Etikettierer_df = Etikettierer_df[Etikettierer_df['Status'] != 3]\n",
    "\n",
    "# merge \n",
    "# Etikettierer_df.merge(Etikettierer_end, on='ID', how='inner')"
   ]
  },
  {
   "cell_type": "code",
   "execution_count": 22,
   "metadata": {},
   "outputs": [
    {
     "output_type": "execute_result",
     "data": {
      "text/plain": [
       "                     Nummer Projekt  Status  Prio Quali       Datum      Zeit  \\\n",
       "Start                                                                           \n",
       "2021-06-04 00:11:29     140     MMA       0     3     L  04.06.2021  00:11:29   \n",
       "2021-06-04 00:14:32     142     MMA       3     3     L  04.06.2021  00:14:32   \n",
       "2021-06-04 00:16:50     145     MMA       0     3     L  04.06.2021  00:16:50   \n",
       "2021-06-04 00:17:05     146     MMA       3     3     L  04.06.2021  00:17:05   \n",
       "2021-06-04 00:18:17     151     MMA       0     3     L  04.06.2021  00:18:17   \n",
       "...                     ...     ...     ...   ...   ...         ...       ...   \n",
       "2021-06-04 21:33:45     139     MMA       0     3     L  04.06.2021  21:33:45   \n",
       "2021-06-04 21:33:48     142     MMA       3     3     L  04.06.2021  21:33:48   \n",
       "2021-06-04 21:33:51     144     MMA       0     3     L  04.06.2021  21:33:51   \n",
       "2021-06-04 21:50:23     160     MMA       3     3     L  04.06.2021  21:50:23   \n",
       "2021-06-04 21:57:00     167     MMA       3     3     L  04.06.2021  21:57:00   \n",
       "\n",
       "                    UTC Versatz  \\\n",
       "Start                             \n",
       "2021-06-04 00:11:29      +02:00   \n",
       "2021-06-04 00:14:32      +02:00   \n",
       "2021-06-04 00:16:50      +02:00   \n",
       "2021-06-04 00:17:05      +02:00   \n",
       "2021-06-04 00:18:17      +02:00   \n",
       "...                         ...   \n",
       "2021-06-04 21:33:45      +02:00   \n",
       "2021-06-04 21:33:48      +02:00   \n",
       "2021-06-04 21:33:51      +02:00   \n",
       "2021-06-04 21:50:23      +02:00   \n",
       "2021-06-04 21:57:00      +02:00   \n",
       "\n",
       "                                                              Message Text  \\\n",
       "Start                                                                        \n",
       "2021-06-04 00:11:29  Devicesperre wurde geschlossen durch: Transportbänder   \n",
       "2021-06-04 00:14:32  Devicesperre wurde geschlossen durch: Transportbänder   \n",
       "2021-06-04 00:16:50  Devicesperre wurde geschlossen durch: Transportbänder   \n",
       "2021-06-04 00:17:05  Devicesperre wurde geschlossen durch: Transportbänder   \n",
       "2021-06-04 00:18:17  Devicesperre wurde geschlossen durch: Transportbänder   \n",
       "...                                                                    ...   \n",
       "2021-06-04 21:33:45  Devicesperre wurde geschlossen durch: Transportbänder   \n",
       "2021-06-04 21:33:48  Devicesperre wurde geschlossen durch: Transportbänder   \n",
       "2021-06-04 21:33:51  Devicesperre wurde geschlossen durch: Transportbänder   \n",
       "2021-06-04 21:50:23  Devicesperre wurde geschlossen durch: Transportbänder   \n",
       "2021-06-04 21:57:00  Devicesperre wurde geschlossen durch: Transportbänder   \n",
       "\n",
       "                        ID  BMK Parameterwert  Einheit Alt/Neu-Wert  Benutzer  \\\n",
       "Start                                                                           \n",
       "2021-06-04 00:11:29  364.0  NaN           NaN      NaN          NaN  Bediener   \n",
       "2021-06-04 00:14:32  364.0  NaN           NaN      NaN          NaN  Bediener   \n",
       "2021-06-04 00:16:50  364.0  NaN           NaN      NaN          NaN  Bediener   \n",
       "2021-06-04 00:17:05  364.0  NaN           NaN      NaN          NaN  Bediener   \n",
       "2021-06-04 00:18:17  364.0  NaN           NaN      NaN          NaN  Bediener   \n",
       "...                    ...  ...           ...      ...          ...       ...   \n",
       "2021-06-04 21:33:45  364.0  NaN           NaN      NaN          NaN  Bediener   \n",
       "2021-06-04 21:33:48  364.0  NaN           NaN      NaN          NaN  Bediener   \n",
       "2021-06-04 21:33:51  364.0  NaN           NaN      NaN          NaN  Bediener   \n",
       "2021-06-04 21:50:23  364.0  NaN           NaN      NaN          NaN  Bediener   \n",
       "2021-06-04 21:57:00  364.0  NaN           NaN      NaN          NaN  Bediener   \n",
       "\n",
       "                      Auftrag  Charge  \\\n",
       "Start                                   \n",
       "2021-06-04 00:11:29  80752924  1F051A   \n",
       "2021-06-04 00:14:32  80752924  1F051A   \n",
       "2021-06-04 00:16:50  80752924  1F051A   \n",
       "2021-06-04 00:17:05  80752924  1F051A   \n",
       "2021-06-04 00:18:17  80752924  1F051A   \n",
       "...                       ...     ...   \n",
       "2021-06-04 21:33:45  80752924  1F051A   \n",
       "2021-06-04 21:33:48  80752924  1F051A   \n",
       "2021-06-04 21:33:51  80752924  1F051A   \n",
       "2021-06-04 21:50:23  80752924  1F051A   \n",
       "2021-06-04 21:57:00  80752924  1F051A   \n",
       "\n",
       "                                                         Filename  \\\n",
       "Start                                                               \n",
       "2021-06-04 00:11:29  AL6Audit Trail 000000 2021-06-04 K747B14.csv   \n",
       "2021-06-04 00:14:32  AL6Audit Trail 000000 2021-06-04 K747B14.csv   \n",
       "2021-06-04 00:16:50  AL6Audit Trail 000000 2021-06-04 K747B14.csv   \n",
       "2021-06-04 00:17:05  AL6Audit Trail 000000 2021-06-04 K747B14.csv   \n",
       "2021-06-04 00:18:17  AL6Audit Trail 000000 2021-06-04 K747B14.csv   \n",
       "...                                                           ...   \n",
       "2021-06-04 21:33:45  AL6Audit Trail 210000 2021-06-04 K747B14.csv   \n",
       "2021-06-04 21:33:48  AL6Audit Trail 210000 2021-06-04 K747B14.csv   \n",
       "2021-06-04 21:33:51  AL6Audit Trail 210000 2021-06-04 K747B14.csv   \n",
       "2021-06-04 21:50:23  AL6Audit Trail 210000 2021-06-04 K747B14.csv   \n",
       "2021-06-04 21:57:00  AL6Audit Trail 210000 2021-06-04 K747B14.csv   \n",
       "\n",
       "                              Machine  \n",
       "Start                                  \n",
       "2021-06-04 00:11:29  AL6_Etikettierer  \n",
       "2021-06-04 00:14:32  AL6_Etikettierer  \n",
       "2021-06-04 00:16:50  AL6_Etikettierer  \n",
       "2021-06-04 00:17:05  AL6_Etikettierer  \n",
       "2021-06-04 00:18:17  AL6_Etikettierer  \n",
       "...                               ...  \n",
       "2021-06-04 21:33:45  AL6_Etikettierer  \n",
       "2021-06-04 21:33:48  AL6_Etikettierer  \n",
       "2021-06-04 21:33:51  AL6_Etikettierer  \n",
       "2021-06-04 21:50:23  AL6_Etikettierer  \n",
       "2021-06-04 21:57:00  AL6_Etikettierer  \n",
       "\n",
       "[285 rows x 19 columns]"
      ],
      "text/html": "<div>\n<style scoped>\n    .dataframe tbody tr th:only-of-type {\n        vertical-align: middle;\n    }\n\n    .dataframe tbody tr th {\n        vertical-align: top;\n    }\n\n    .dataframe thead th {\n        text-align: right;\n    }\n</style>\n<table border=\"1\" class=\"dataframe\">\n  <thead>\n    <tr style=\"text-align: right;\">\n      <th></th>\n      <th>Nummer</th>\n      <th>Projekt</th>\n      <th>Status</th>\n      <th>Prio</th>\n      <th>Quali</th>\n      <th>Datum</th>\n      <th>Zeit</th>\n      <th>UTC Versatz</th>\n      <th>Message Text</th>\n      <th>ID</th>\n      <th>BMK</th>\n      <th>Parameterwert</th>\n      <th>Einheit</th>\n      <th>Alt/Neu-Wert</th>\n      <th>Benutzer</th>\n      <th>Auftrag</th>\n      <th>Charge</th>\n      <th>Filename</th>\n      <th>Machine</th>\n    </tr>\n    <tr>\n      <th>Start</th>\n      <th></th>\n      <th></th>\n      <th></th>\n      <th></th>\n      <th></th>\n      <th></th>\n      <th></th>\n      <th></th>\n      <th></th>\n      <th></th>\n      <th></th>\n      <th></th>\n      <th></th>\n      <th></th>\n      <th></th>\n      <th></th>\n      <th></th>\n      <th></th>\n      <th></th>\n    </tr>\n  </thead>\n  <tbody>\n    <tr>\n      <th>2021-06-04 00:11:29</th>\n      <td>140</td>\n      <td>MMA</td>\n      <td>0</td>\n      <td>3</td>\n      <td>L</td>\n      <td>04.06.2021</td>\n      <td>00:11:29</td>\n      <td>+02:00</td>\n      <td>Devicesperre wurde geschlossen durch: Transportbänder</td>\n      <td>364.0</td>\n      <td>NaN</td>\n      <td>NaN</td>\n      <td>NaN</td>\n      <td>NaN</td>\n      <td>Bediener</td>\n      <td>80752924</td>\n      <td>1F051A</td>\n      <td>AL6Audit Trail 000000 2021-06-04 K747B14.csv</td>\n      <td>AL6_Etikettierer</td>\n    </tr>\n    <tr>\n      <th>2021-06-04 00:14:32</th>\n      <td>142</td>\n      <td>MMA</td>\n      <td>3</td>\n      <td>3</td>\n      <td>L</td>\n      <td>04.06.2021</td>\n      <td>00:14:32</td>\n      <td>+02:00</td>\n      <td>Devicesperre wurde geschlossen durch: Transportbänder</td>\n      <td>364.0</td>\n      <td>NaN</td>\n      <td>NaN</td>\n      <td>NaN</td>\n      <td>NaN</td>\n      <td>Bediener</td>\n      <td>80752924</td>\n      <td>1F051A</td>\n      <td>AL6Audit Trail 000000 2021-06-04 K747B14.csv</td>\n      <td>AL6_Etikettierer</td>\n    </tr>\n    <tr>\n      <th>2021-06-04 00:16:50</th>\n      <td>145</td>\n      <td>MMA</td>\n      <td>0</td>\n      <td>3</td>\n      <td>L</td>\n      <td>04.06.2021</td>\n      <td>00:16:50</td>\n      <td>+02:00</td>\n      <td>Devicesperre wurde geschlossen durch: Transportbänder</td>\n      <td>364.0</td>\n      <td>NaN</td>\n      <td>NaN</td>\n      <td>NaN</td>\n      <td>NaN</td>\n      <td>Bediener</td>\n      <td>80752924</td>\n      <td>1F051A</td>\n      <td>AL6Audit Trail 000000 2021-06-04 K747B14.csv</td>\n      <td>AL6_Etikettierer</td>\n    </tr>\n    <tr>\n      <th>2021-06-04 00:17:05</th>\n      <td>146</td>\n      <td>MMA</td>\n      <td>3</td>\n      <td>3</td>\n      <td>L</td>\n      <td>04.06.2021</td>\n      <td>00:17:05</td>\n      <td>+02:00</td>\n      <td>Devicesperre wurde geschlossen durch: Transportbänder</td>\n      <td>364.0</td>\n      <td>NaN</td>\n      <td>NaN</td>\n      <td>NaN</td>\n      <td>NaN</td>\n      <td>Bediener</td>\n      <td>80752924</td>\n      <td>1F051A</td>\n      <td>AL6Audit Trail 000000 2021-06-04 K747B14.csv</td>\n      <td>AL6_Etikettierer</td>\n    </tr>\n    <tr>\n      <th>2021-06-04 00:18:17</th>\n      <td>151</td>\n      <td>MMA</td>\n      <td>0</td>\n      <td>3</td>\n      <td>L</td>\n      <td>04.06.2021</td>\n      <td>00:18:17</td>\n      <td>+02:00</td>\n      <td>Devicesperre wurde geschlossen durch: Transportbänder</td>\n      <td>364.0</td>\n      <td>NaN</td>\n      <td>NaN</td>\n      <td>NaN</td>\n      <td>NaN</td>\n      <td>Bediener</td>\n      <td>80752924</td>\n      <td>1F051A</td>\n      <td>AL6Audit Trail 000000 2021-06-04 K747B14.csv</td>\n      <td>AL6_Etikettierer</td>\n    </tr>\n    <tr>\n      <th>...</th>\n      <td>...</td>\n      <td>...</td>\n      <td>...</td>\n      <td>...</td>\n      <td>...</td>\n      <td>...</td>\n      <td>...</td>\n      <td>...</td>\n      <td>...</td>\n      <td>...</td>\n      <td>...</td>\n      <td>...</td>\n      <td>...</td>\n      <td>...</td>\n      <td>...</td>\n      <td>...</td>\n      <td>...</td>\n      <td>...</td>\n      <td>...</td>\n    </tr>\n    <tr>\n      <th>2021-06-04 21:33:45</th>\n      <td>139</td>\n      <td>MMA</td>\n      <td>0</td>\n      <td>3</td>\n      <td>L</td>\n      <td>04.06.2021</td>\n      <td>21:33:45</td>\n      <td>+02:00</td>\n      <td>Devicesperre wurde geschlossen durch: Transportbänder</td>\n      <td>364.0</td>\n      <td>NaN</td>\n      <td>NaN</td>\n      <td>NaN</td>\n      <td>NaN</td>\n      <td>Bediener</td>\n      <td>80752924</td>\n      <td>1F051A</td>\n      <td>AL6Audit Trail 210000 2021-06-04 K747B14.csv</td>\n      <td>AL6_Etikettierer</td>\n    </tr>\n    <tr>\n      <th>2021-06-04 21:33:48</th>\n      <td>142</td>\n      <td>MMA</td>\n      <td>3</td>\n      <td>3</td>\n      <td>L</td>\n      <td>04.06.2021</td>\n      <td>21:33:48</td>\n      <td>+02:00</td>\n      <td>Devicesperre wurde geschlossen durch: Transportbänder</td>\n      <td>364.0</td>\n      <td>NaN</td>\n      <td>NaN</td>\n      <td>NaN</td>\n      <td>NaN</td>\n      <td>Bediener</td>\n      <td>80752924</td>\n      <td>1F051A</td>\n      <td>AL6Audit Trail 210000 2021-06-04 K747B14.csv</td>\n      <td>AL6_Etikettierer</td>\n    </tr>\n    <tr>\n      <th>2021-06-04 21:33:51</th>\n      <td>144</td>\n      <td>MMA</td>\n      <td>0</td>\n      <td>3</td>\n      <td>L</td>\n      <td>04.06.2021</td>\n      <td>21:33:51</td>\n      <td>+02:00</td>\n      <td>Devicesperre wurde geschlossen durch: Transportbänder</td>\n      <td>364.0</td>\n      <td>NaN</td>\n      <td>NaN</td>\n      <td>NaN</td>\n      <td>NaN</td>\n      <td>Bediener</td>\n      <td>80752924</td>\n      <td>1F051A</td>\n      <td>AL6Audit Trail 210000 2021-06-04 K747B14.csv</td>\n      <td>AL6_Etikettierer</td>\n    </tr>\n    <tr>\n      <th>2021-06-04 21:50:23</th>\n      <td>160</td>\n      <td>MMA</td>\n      <td>3</td>\n      <td>3</td>\n      <td>L</td>\n      <td>04.06.2021</td>\n      <td>21:50:23</td>\n      <td>+02:00</td>\n      <td>Devicesperre wurde geschlossen durch: Transportbänder</td>\n      <td>364.0</td>\n      <td>NaN</td>\n      <td>NaN</td>\n      <td>NaN</td>\n      <td>NaN</td>\n      <td>Bediener</td>\n      <td>80752924</td>\n      <td>1F051A</td>\n      <td>AL6Audit Trail 210000 2021-06-04 K747B14.csv</td>\n      <td>AL6_Etikettierer</td>\n    </tr>\n    <tr>\n      <th>2021-06-04 21:57:00</th>\n      <td>167</td>\n      <td>MMA</td>\n      <td>3</td>\n      <td>3</td>\n      <td>L</td>\n      <td>04.06.2021</td>\n      <td>21:57:00</td>\n      <td>+02:00</td>\n      <td>Devicesperre wurde geschlossen durch: Transportbänder</td>\n      <td>364.0</td>\n      <td>NaN</td>\n      <td>NaN</td>\n      <td>NaN</td>\n      <td>NaN</td>\n      <td>Bediener</td>\n      <td>80752924</td>\n      <td>1F051A</td>\n      <td>AL6Audit Trail 210000 2021-06-04 K747B14.csv</td>\n      <td>AL6_Etikettierer</td>\n    </tr>\n  </tbody>\n</table>\n<p>285 rows × 19 columns</p>\n</div>"
     },
     "metadata": {},
     "execution_count": 22
    }
   ],
   "source": [
    "temp_df = Etikettierer_df[Etikettierer_df['ID'] == 364]\n",
    "temp_df.set_index('Start', inplace=True)\n",
    "temp_df.sort_index()\n",
    "temp_df.loc['2021-06-04']"
   ]
  },
  {
   "cell_type": "markdown",
   "metadata": {},
   "source": [
    "## AL6_Montage\n",
    "\n",
    "Dir: Y:\\E00_Solostar\\E6_Assembly_Line_6\\E63_Montage\\CSV\n",
    "\n",
    "- Saved as Text files but standard 'csv' files separated by semi-colon   \n",
    "- Selecting just the files that begin with 'A' as they appear to be the warnings and alarms.    \n",
    "- They don't have a header record   \n",
    "- Don't know what the 'C*' files are   \n",
    "\n",
    "``` \n",
    "\n",
    "Warnung;2021-08-05 02:00:09;2021-08-05 02:00:10;1342;1091-1B14 Standby: Teil nicht auf Abholposition Spur 14;0..Flt[1342];\n",
    "Warnung;2021-08-05 02:00:09;2021-08-05 02:00:10;1343;1091-1B15 Standby: Teil nicht auf Abholposition Spur 15;0..Flt[1343];\n",
    "Warnung;2021-08-05 02:00:23;2021-08-05 02:03:48;1198;1462-7B1 Standby: Max. Stau Abführband erreicht;0..Flt[1198];\n",
    "Warnung;2021-08-05 02:04:20;2021-08-05 02:04:33;1198;1462-7B1 Standby: Max. Stau Abführband erreicht;0..Flt[1198];\n",
    "\n",
    "```"
   ]
  },
  {
   "cell_type": "code",
   "execution_count": 4,
   "metadata": {},
   "outputs": [],
   "source": [
    "folder = 'AL6_Montage'\n",
    "\n",
    "Files = []\n",
    "df = []\n",
    "Montage_df = pd.DataFrame()\n",
    "\n",
    "for filename in os.listdir( dir_alarms + folder ):\n",
    "    if filename.startswith('A'):\n",
    "        path = os.path.join(dir_alarms, folder, filename)\n",
    "        if os.path.getsize(path) > 0:\n",
    "            Files.append(filename)\n",
    "\n",
    "Files.sort(key=str.lower)\n",
    "\n",
    "# Loop through all the files.\n",
    "for filename in Files:\n",
    "    path = os.path.join(dir_alarms, folder, filename)\n",
    "    # print (path)\n",
    "    df = pd.read_csv(path, sep=';', encoding='cp1252', header=None)\n",
    "    df['Filename'] = filename\n",
    "    Montage_df = Montage_df.append(df)\n",
    "\n",
    "Montage_df.columns=['Type','Start','End','Duration','Message Text','Some Code','Not sure','Filename']\n",
    "Montage_df['Machine'] = folder"
   ]
  },
  {
   "source": [
    "## AL6_Kartonierer\n",
    "\n",
    "Dir: Y:\\E00_Solostar\\E6_Assembly_Line_6\\E65_Kartonierer\\40 - Reports\n",
    "\n",
    "- Saved as PDF and xlsx files in a report format - warnings and alarms written to sections, if they occurred in that reporting period   \n",
    "- Selecting just the xlsx files to work with.    \n",
    "- interate over each file, find 'Alarme' and append row to dataframe until we find next blank row\n",
    "\n",
    "\n",
    "``` \n",
    "\n",
    "\t\t\t\t\t\n",
    "Alarme\t\t\t\t\t\n",
    "Meldungstext\tBeginn\tEnde\t\t\t\n",
    "Waage: Ausdrucke können nicht mehr lokal gespeichert werden. Bitte legen Sie ein Speichermedium ein\t\"10:31:09\n",
    "28.08.2021\"\t\"11:24:19\n",
    "28.08.2021\"\t\t\t\n",
    " =A+52-AP-U1# AS-i Fehler\t\"11:22:47\n",
    "28.08.2021\"\t\"11:23:22\n",
    "28.08.2021\"\t\t\t\n",
    "Druckluft überprüfen (Druck zu gering) (=A+05-SP48)\t\"11:23:28\n",
    "28.08.2021\"\t\"11:23:40\n",
    "28.08.2021\"\t\t\t\n"
   ],
   "cell_type": "markdown",
   "metadata": {}
  },
  {
   "cell_type": "code",
   "execution_count": 5,
   "metadata": {
    "tags": []
   },
   "outputs": [
    {
     "output_type": "execute_result",
     "data": {
      "text/plain": [
       "                                          Message Text                Start  \\\n",
       "2                              Seidenader nicht bereit  30.03.2021 13:44:15   \n",
       "3    F4_403# Aufnahmefehler (=E+54-29SV1, =E+54-29SV3)  30.03.2021 13:47:15   \n",
       "4  Druckluft überprüfen (Druck zu gering) (=A+05-SP48)  30.03.2021 14:03:48   \n",
       "5  Druckluft überprüfen (Druck zu gering) (=A+05-SP48)  30.03.2021 14:05:33   \n",
       "6  Druckluft überprüfen (Druck zu gering) (=A+05-SP48)  30.03.2021 14:08:10   \n",
       "\n",
       "                   End                                            Filename  \\\n",
       "2  30.03.2021 13:44:44  2691_20210401_114604_AutomaticBatchFinalReport.xls   \n",
       "3  30.03.2021 13:47:26  2691_20210401_114604_AutomaticBatchFinalReport.xls   \n",
       "4  30.03.2021 14:03:54  2691_20210401_114604_AutomaticBatchFinalReport.xls   \n",
       "5  30.03.2021 14:05:44  2691_20210401_114604_AutomaticBatchFinalReport.xls   \n",
       "6  30.03.2021 14:08:16  2691_20210401_114604_AutomaticBatchFinalReport.xls   \n",
       "\n",
       "           Machine  \n",
       "2  AL6_Kartonierer  \n",
       "3  AL6_Kartonierer  \n",
       "4  AL6_Kartonierer  \n",
       "5  AL6_Kartonierer  \n",
       "6  AL6_Kartonierer  "
      ],
      "text/html": "<div>\n<style scoped>\n    .dataframe tbody tr th:only-of-type {\n        vertical-align: middle;\n    }\n\n    .dataframe tbody tr th {\n        vertical-align: top;\n    }\n\n    .dataframe thead th {\n        text-align: right;\n    }\n</style>\n<table border=\"1\" class=\"dataframe\">\n  <thead>\n    <tr style=\"text-align: right;\">\n      <th></th>\n      <th>Message Text</th>\n      <th>Start</th>\n      <th>End</th>\n      <th>Filename</th>\n      <th>Machine</th>\n    </tr>\n  </thead>\n  <tbody>\n    <tr>\n      <th>2</th>\n      <td>Seidenader nicht bereit</td>\n      <td>30.03.2021 13:44:15</td>\n      <td>30.03.2021 13:44:44</td>\n      <td>2691_20210401_114604_AutomaticBatchFinalReport.xls</td>\n      <td>AL6_Kartonierer</td>\n    </tr>\n    <tr>\n      <th>3</th>\n      <td>F4_403# Aufnahmefehler (=E+54-29SV1, =E+54-29SV3)</td>\n      <td>30.03.2021 13:47:15</td>\n      <td>30.03.2021 13:47:26</td>\n      <td>2691_20210401_114604_AutomaticBatchFinalReport.xls</td>\n      <td>AL6_Kartonierer</td>\n    </tr>\n    <tr>\n      <th>4</th>\n      <td>Druckluft überprüfen (Druck zu gering) (=A+05-SP48)</td>\n      <td>30.03.2021 14:03:48</td>\n      <td>30.03.2021 14:03:54</td>\n      <td>2691_20210401_114604_AutomaticBatchFinalReport.xls</td>\n      <td>AL6_Kartonierer</td>\n    </tr>\n    <tr>\n      <th>5</th>\n      <td>Druckluft überprüfen (Druck zu gering) (=A+05-SP48)</td>\n      <td>30.03.2021 14:05:33</td>\n      <td>30.03.2021 14:05:44</td>\n      <td>2691_20210401_114604_AutomaticBatchFinalReport.xls</td>\n      <td>AL6_Kartonierer</td>\n    </tr>\n    <tr>\n      <th>6</th>\n      <td>Druckluft überprüfen (Druck zu gering) (=A+05-SP48)</td>\n      <td>30.03.2021 14:08:10</td>\n      <td>30.03.2021 14:08:16</td>\n      <td>2691_20210401_114604_AutomaticBatchFinalReport.xls</td>\n      <td>AL6_Kartonierer</td>\n    </tr>\n  </tbody>\n</table>\n</div>"
     },
     "metadata": {},
     "execution_count": 5
    }
   ],
   "source": [
    "folder = 'AL6_Kartonierer'\n",
    "\n",
    "Files = []\n",
    "df = []\n",
    "Kartonierer_df = pd.DataFrame()\n",
    "\n",
    "# Loop through all the files.\n",
    "for filename in os.listdir( dir_alarms + folder ):\n",
    "\n",
    "    path = os.path.join(dir_alarms, folder, filename)\n",
    "    df = pd.read_excel(path, na_filter=False)\n",
    "    # df.set_index('Unnamed: 0', inplace=True)\n",
    "\n",
    "\n",
    "    df['Filename'] = filename\n",
    "\n",
    "    # Kartonierer_alarms = pd.DataFrame()\n",
    "\n",
    "    for i, row in df.iterrows():\n",
    "        str_temp = str(row[0])\n",
    "        if (str_temp.find('Alarme') != -1): \n",
    "            alarm = True\n",
    "        if row[0] == '': \n",
    "            alarm = False\n",
    "        if alarm:\n",
    "            Kartonierer_df = Kartonierer_df.append({'Message Text': row[0],\n",
    "                                                    'Start': row[1],\n",
    "                                                    'End': row[2],\n",
    "                                                    'Filename': row['Filename']}, ignore_index=True)\n",
    "\n",
    "\n",
    "Kartonierer_df = Kartonierer_df[Kartonierer_df['Message Text'].str.contains('Alarme|Meldu') == False]\n",
    "# Kartonierer_alarms['Start'].replace('\\n',' ', inplace=True)\n",
    "Kartonierer_df['Start'] = Kartonierer_df['Start'].str[9:21] + ' ' + Kartonierer_df['Start'].str[0:8]\n",
    "Kartonierer_df['End'] = Kartonierer_df['End'].str[9:21] + ' ' + Kartonierer_df['End'].str[0:8]\n",
    "\n",
    "Kartonierer_df['Machine'] = folder\n",
    "Kartonierer_df.head()\n"
   ]
  },
  {
   "cell_type": "code",
   "execution_count": 6,
   "metadata": {},
   "outputs": [
    {
     "output_type": "execute_result",
     "data": {
      "text/plain": [
       "(54928, 5)"
      ]
     },
     "metadata": {},
     "execution_count": 6
    }
   ],
   "source": [
    "Kartonierer_df.shape"
   ]
  },
  {
   "cell_type": "code",
   "execution_count": 12,
   "metadata": {},
   "outputs": [
    {
     "output_type": "execute_result",
     "data": {
      "text/plain": [
       "    ID  State StateID StateText               Start          TimeUserAck  \\\n",
       "0  579      0   $2524       MGG 2021-07-31 23:57:45  30/12/1899 00:00:00   \n",
       "1  579      4   $2522       MGK 2021-08-01 00:30:50  30/12/1899 00:00:00   \n",
       "2  579      0   $2524       MGG 2021-08-01 00:30:50  30/12/1899 00:00:00   \n",
       "3  828      4   $2522       MGK 2021-08-01 00:32:05  30/12/1899 00:00:00   \n",
       "4  828      0   $2524       MGG 2021-08-01 00:32:05  30/12/1899 00:00:00   \n",
       "\n",
       "            TimePLCAck MessageID                  Message Text  Occur GroupID  \\\n",
       "0  01/08/2021 00:30:15     $9051  Maschine wartet auf Produkte      1   $8879   \n",
       "1  30/12/1899 00:00:00     $9051  Maschine wartet auf Produkte      1   $8879   \n",
       "2  01/08/2021 00:31:31     $9051  Maschine wartet auf Produkte      1   $8879   \n",
       "3  30/12/1899 00:00:00     $9300         Roboter: Palette voll      1   $8896   \n",
       "4  01/08/2021 00:32:15     $9300         Roboter: Palette voll      1   $8896   \n",
       "\n",
       "                         GroupText  Priority Parameter1  Parameter2  Group  \\\n",
       "0                 Warnung Maschine         0      $7326          12     42   \n",
       "1                 Warnung Maschine         0      $7326          12     42   \n",
       "2                 Warnung Maschine         0      $7326          12     42   \n",
       "3  Warnung Roboter: Kartonhandling         0      $8323       10004     59   \n",
       "4  Warnung Roboter: Kartonhandling         0      $8323       10004     59   \n",
       "\n",
       "   Class  HistoricalID  HasNotes                 SortBuffer  \\\n",
       "0      5             1         0  Alarmhistory_1-8-21--12-0   \n",
       "1      5             2         0  Alarmhistory_1-8-21--12-0   \n",
       "2      5             3         0  Alarmhistory_1-8-21--12-0   \n",
       "3      5             4         0  Alarmhistory_1-8-21--12-0   \n",
       "4      5             5         0  Alarmhistory_1-8-21--12-0   \n",
       "\n",
       "             TimeInUTC  User           Machine  \\\n",
       "0  31/07/2021 21:57:45   NaN  AL6_Endverpacker   \n",
       "1  31/07/2021 22:30:50   NaN  AL6_Endverpacker   \n",
       "2  31/07/2021 22:30:50   NaN  AL6_Endverpacker   \n",
       "3  31/07/2021 22:32:05   NaN  AL6_Endverpacker   \n",
       "4  31/07/2021 22:32:05   NaN  AL6_Endverpacker   \n",
       "\n",
       "                            Filename Duration  \n",
       "0  Alarmhistory_1-8-21--12-0#VAA.csv   1950.0  \n",
       "1  Alarmhistory_1-8-21--12-0#VAA.csv      N/A  \n",
       "2  Alarmhistory_1-8-21--12-0#VAA.csv     41.0  \n",
       "3  Alarmhistory_1-8-21--12-0#VAA.csv      N/A  \n",
       "4  Alarmhistory_1-8-21--12-0#VAA.csv     10.0  "
      ],
      "text/html": "<div>\n<style scoped>\n    .dataframe tbody tr th:only-of-type {\n        vertical-align: middle;\n    }\n\n    .dataframe tbody tr th {\n        vertical-align: top;\n    }\n\n    .dataframe thead th {\n        text-align: right;\n    }\n</style>\n<table border=\"1\" class=\"dataframe\">\n  <thead>\n    <tr style=\"text-align: right;\">\n      <th></th>\n      <th>ID</th>\n      <th>State</th>\n      <th>StateID</th>\n      <th>StateText</th>\n      <th>Start</th>\n      <th>TimeUserAck</th>\n      <th>TimePLCAck</th>\n      <th>MessageID</th>\n      <th>Message Text</th>\n      <th>Occur</th>\n      <th>GroupID</th>\n      <th>GroupText</th>\n      <th>Priority</th>\n      <th>Parameter1</th>\n      <th>Parameter2</th>\n      <th>Group</th>\n      <th>Class</th>\n      <th>HistoricalID</th>\n      <th>HasNotes</th>\n      <th>SortBuffer</th>\n      <th>TimeInUTC</th>\n      <th>User</th>\n      <th>Machine</th>\n      <th>Filename</th>\n      <th>Duration</th>\n    </tr>\n  </thead>\n  <tbody>\n    <tr>\n      <th>0</th>\n      <td>579</td>\n      <td>0</td>\n      <td>$2524</td>\n      <td>MGG</td>\n      <td>2021-07-31 23:57:45</td>\n      <td>30/12/1899 00:00:00</td>\n      <td>01/08/2021 00:30:15</td>\n      <td>$9051</td>\n      <td>Maschine wartet auf Produkte</td>\n      <td>1</td>\n      <td>$8879</td>\n      <td>Warnung Maschine</td>\n      <td>0</td>\n      <td>$7326</td>\n      <td>12</td>\n      <td>42</td>\n      <td>5</td>\n      <td>1</td>\n      <td>0</td>\n      <td>Alarmhistory_1-8-21--12-0</td>\n      <td>31/07/2021 21:57:45</td>\n      <td>NaN</td>\n      <td>AL6_Endverpacker</td>\n      <td>Alarmhistory_1-8-21--12-0#VAA.csv</td>\n      <td>1950.0</td>\n    </tr>\n    <tr>\n      <th>1</th>\n      <td>579</td>\n      <td>4</td>\n      <td>$2522</td>\n      <td>MGK</td>\n      <td>2021-08-01 00:30:50</td>\n      <td>30/12/1899 00:00:00</td>\n      <td>30/12/1899 00:00:00</td>\n      <td>$9051</td>\n      <td>Maschine wartet auf Produkte</td>\n      <td>1</td>\n      <td>$8879</td>\n      <td>Warnung Maschine</td>\n      <td>0</td>\n      <td>$7326</td>\n      <td>12</td>\n      <td>42</td>\n      <td>5</td>\n      <td>2</td>\n      <td>0</td>\n      <td>Alarmhistory_1-8-21--12-0</td>\n      <td>31/07/2021 22:30:50</td>\n      <td>NaN</td>\n      <td>AL6_Endverpacker</td>\n      <td>Alarmhistory_1-8-21--12-0#VAA.csv</td>\n      <td>N/A</td>\n    </tr>\n    <tr>\n      <th>2</th>\n      <td>579</td>\n      <td>0</td>\n      <td>$2524</td>\n      <td>MGG</td>\n      <td>2021-08-01 00:30:50</td>\n      <td>30/12/1899 00:00:00</td>\n      <td>01/08/2021 00:31:31</td>\n      <td>$9051</td>\n      <td>Maschine wartet auf Produkte</td>\n      <td>1</td>\n      <td>$8879</td>\n      <td>Warnung Maschine</td>\n      <td>0</td>\n      <td>$7326</td>\n      <td>12</td>\n      <td>42</td>\n      <td>5</td>\n      <td>3</td>\n      <td>0</td>\n      <td>Alarmhistory_1-8-21--12-0</td>\n      <td>31/07/2021 22:30:50</td>\n      <td>NaN</td>\n      <td>AL6_Endverpacker</td>\n      <td>Alarmhistory_1-8-21--12-0#VAA.csv</td>\n      <td>41.0</td>\n    </tr>\n    <tr>\n      <th>3</th>\n      <td>828</td>\n      <td>4</td>\n      <td>$2522</td>\n      <td>MGK</td>\n      <td>2021-08-01 00:32:05</td>\n      <td>30/12/1899 00:00:00</td>\n      <td>30/12/1899 00:00:00</td>\n      <td>$9300</td>\n      <td>Roboter: Palette voll</td>\n      <td>1</td>\n      <td>$8896</td>\n      <td>Warnung Roboter: Kartonhandling</td>\n      <td>0</td>\n      <td>$8323</td>\n      <td>10004</td>\n      <td>59</td>\n      <td>5</td>\n      <td>4</td>\n      <td>0</td>\n      <td>Alarmhistory_1-8-21--12-0</td>\n      <td>31/07/2021 22:32:05</td>\n      <td>NaN</td>\n      <td>AL6_Endverpacker</td>\n      <td>Alarmhistory_1-8-21--12-0#VAA.csv</td>\n      <td>N/A</td>\n    </tr>\n    <tr>\n      <th>4</th>\n      <td>828</td>\n      <td>0</td>\n      <td>$2524</td>\n      <td>MGG</td>\n      <td>2021-08-01 00:32:05</td>\n      <td>30/12/1899 00:00:00</td>\n      <td>01/08/2021 00:32:15</td>\n      <td>$9300</td>\n      <td>Roboter: Palette voll</td>\n      <td>1</td>\n      <td>$8896</td>\n      <td>Warnung Roboter: Kartonhandling</td>\n      <td>0</td>\n      <td>$8323</td>\n      <td>10004</td>\n      <td>59</td>\n      <td>5</td>\n      <td>5</td>\n      <td>0</td>\n      <td>Alarmhistory_1-8-21--12-0</td>\n      <td>31/07/2021 22:32:05</td>\n      <td>NaN</td>\n      <td>AL6_Endverpacker</td>\n      <td>Alarmhistory_1-8-21--12-0#VAA.csv</td>\n      <td>10.0</td>\n    </tr>\n  </tbody>\n</table>\n</div>"
     },
     "metadata": {},
     "execution_count": 12
    }
   ],
   "source": [
    "Endverpacker_df.head()"
   ]
  },
  {
   "cell_type": "code",
   "execution_count": 8,
   "metadata": {},
   "outputs": [
    {
     "output_type": "error",
     "ename": "KeyError",
     "evalue": "'TimeIn'",
     "traceback": [
      "\u001b[1;31m---------------------------------------------------------------------------\u001b[0m",
      "\u001b[1;31mKeyError\u001b[0m                                  Traceback (most recent call last)",
      "\u001b[1;32m~\\anaconda3\\envs\\race_dash\\lib\\site-packages\\pandas\\core\\indexes\\base.py\u001b[0m in \u001b[0;36mget_loc\u001b[1;34m(self, key, method, tolerance)\u001b[0m\n\u001b[0;32m   3360\u001b[0m             \u001b[1;32mtry\u001b[0m\u001b[1;33m:\u001b[0m\u001b[1;33m\u001b[0m\u001b[1;33m\u001b[0m\u001b[0m\n\u001b[1;32m-> 3361\u001b[1;33m                 \u001b[1;32mreturn\u001b[0m \u001b[0mself\u001b[0m\u001b[1;33m.\u001b[0m\u001b[0m_engine\u001b[0m\u001b[1;33m.\u001b[0m\u001b[0mget_loc\u001b[0m\u001b[1;33m(\u001b[0m\u001b[0mcasted_key\u001b[0m\u001b[1;33m)\u001b[0m\u001b[1;33m\u001b[0m\u001b[1;33m\u001b[0m\u001b[0m\n\u001b[0m\u001b[0;32m   3362\u001b[0m             \u001b[1;32mexcept\u001b[0m \u001b[0mKeyError\u001b[0m \u001b[1;32mas\u001b[0m \u001b[0merr\u001b[0m\u001b[1;33m:\u001b[0m\u001b[1;33m\u001b[0m\u001b[1;33m\u001b[0m\u001b[0m\n",
      "\u001b[1;32m~\\anaconda3\\envs\\race_dash\\lib\\site-packages\\pandas\\_libs\\index.pyx\u001b[0m in \u001b[0;36mpandas._libs.index.IndexEngine.get_loc\u001b[1;34m()\u001b[0m\n",
      "\u001b[1;32m~\\anaconda3\\envs\\race_dash\\lib\\site-packages\\pandas\\_libs\\index.pyx\u001b[0m in \u001b[0;36mpandas._libs.index.IndexEngine.get_loc\u001b[1;34m()\u001b[0m\n",
      "\u001b[1;32mpandas\\_libs\\hashtable_class_helper.pxi\u001b[0m in \u001b[0;36mpandas._libs.hashtable.PyObjectHashTable.get_item\u001b[1;34m()\u001b[0m\n",
      "\u001b[1;32mpandas\\_libs\\hashtable_class_helper.pxi\u001b[0m in \u001b[0;36mpandas._libs.hashtable.PyObjectHashTable.get_item\u001b[1;34m()\u001b[0m\n",
      "\u001b[1;31mKeyError\u001b[0m: 'TimeIn'",
      "\nThe above exception was the direct cause of the following exception:\n",
      "\u001b[1;31mKeyError\u001b[0m                                  Traceback (most recent call last)",
      "\u001b[1;32m<ipython-input-8-ef34b80b4ccf>\u001b[0m in \u001b[0;36m<module>\u001b[1;34m\u001b[0m\n\u001b[0;32m      3\u001b[0m \u001b[1;31m#Calculate duration in seconds and add as a column to Endverpacker. Rows without a duration are recorded as 'N/A'\u001b[0m\u001b[1;33m\u001b[0m\u001b[1;33m\u001b[0m\u001b[1;33m\u001b[0m\u001b[0m\n\u001b[0;32m      4\u001b[0m \u001b[0ma\u001b[0m\u001b[1;33m=\u001b[0m\u001b[0mpd\u001b[0m\u001b[1;33m.\u001b[0m\u001b[0mto_datetime\u001b[0m\u001b[1;33m(\u001b[0m\u001b[0mEndverpacker_df\u001b[0m\u001b[1;33m[\u001b[0m\u001b[1;34m'TimePLCAck'\u001b[0m\u001b[1;33m]\u001b[0m\u001b[1;33m,\u001b[0m \u001b[0mdayfirst\u001b[0m\u001b[1;33m=\u001b[0m\u001b[1;32mTrue\u001b[0m\u001b[1;33m)\u001b[0m\u001b[1;33m\u001b[0m\u001b[1;33m\u001b[0m\u001b[0m\n\u001b[1;32m----> 5\u001b[1;33m \u001b[0mb\u001b[0m\u001b[1;33m=\u001b[0m\u001b[0mpd\u001b[0m\u001b[1;33m.\u001b[0m\u001b[0mto_datetime\u001b[0m\u001b[1;33m(\u001b[0m\u001b[0mEndverpacker_df\u001b[0m\u001b[1;33m[\u001b[0m\u001b[1;34m'TimeIn'\u001b[0m\u001b[1;33m]\u001b[0m\u001b[1;33m,\u001b[0m \u001b[0mdayfirst\u001b[0m\u001b[1;33m=\u001b[0m\u001b[1;32mTrue\u001b[0m\u001b[1;33m)\u001b[0m\u001b[1;33m\u001b[0m\u001b[1;33m\u001b[0m\u001b[0m\n\u001b[0m\u001b[0;32m      6\u001b[0m \u001b[0mc\u001b[0m\u001b[1;33m=\u001b[0m\u001b[0ma\u001b[0m\u001b[1;33m-\u001b[0m\u001b[0mb\u001b[0m\u001b[1;33m\u001b[0m\u001b[1;33m\u001b[0m\u001b[0m\n\u001b[0;32m      7\u001b[0m \u001b[0md\u001b[0m\u001b[1;33m=\u001b[0m\u001b[0mc\u001b[0m\u001b[1;33m.\u001b[0m\u001b[0mdt\u001b[0m\u001b[1;33m.\u001b[0m\u001b[0mtotal_seconds\u001b[0m\u001b[1;33m(\u001b[0m\u001b[1;33m)\u001b[0m\u001b[1;33m\u001b[0m\u001b[1;33m\u001b[0m\u001b[0m\n",
      "\u001b[1;32m~\\anaconda3\\envs\\race_dash\\lib\\site-packages\\pandas\\core\\frame.py\u001b[0m in \u001b[0;36m__getitem__\u001b[1;34m(self, key)\u001b[0m\n\u001b[0;32m   3453\u001b[0m             \u001b[1;32mif\u001b[0m \u001b[0mself\u001b[0m\u001b[1;33m.\u001b[0m\u001b[0mcolumns\u001b[0m\u001b[1;33m.\u001b[0m\u001b[0mnlevels\u001b[0m \u001b[1;33m>\u001b[0m \u001b[1;36m1\u001b[0m\u001b[1;33m:\u001b[0m\u001b[1;33m\u001b[0m\u001b[1;33m\u001b[0m\u001b[0m\n\u001b[0;32m   3454\u001b[0m                 \u001b[1;32mreturn\u001b[0m \u001b[0mself\u001b[0m\u001b[1;33m.\u001b[0m\u001b[0m_getitem_multilevel\u001b[0m\u001b[1;33m(\u001b[0m\u001b[0mkey\u001b[0m\u001b[1;33m)\u001b[0m\u001b[1;33m\u001b[0m\u001b[1;33m\u001b[0m\u001b[0m\n\u001b[1;32m-> 3455\u001b[1;33m             \u001b[0mindexer\u001b[0m \u001b[1;33m=\u001b[0m \u001b[0mself\u001b[0m\u001b[1;33m.\u001b[0m\u001b[0mcolumns\u001b[0m\u001b[1;33m.\u001b[0m\u001b[0mget_loc\u001b[0m\u001b[1;33m(\u001b[0m\u001b[0mkey\u001b[0m\u001b[1;33m)\u001b[0m\u001b[1;33m\u001b[0m\u001b[1;33m\u001b[0m\u001b[0m\n\u001b[0m\u001b[0;32m   3456\u001b[0m             \u001b[1;32mif\u001b[0m \u001b[0mis_integer\u001b[0m\u001b[1;33m(\u001b[0m\u001b[0mindexer\u001b[0m\u001b[1;33m)\u001b[0m\u001b[1;33m:\u001b[0m\u001b[1;33m\u001b[0m\u001b[1;33m\u001b[0m\u001b[0m\n\u001b[0;32m   3457\u001b[0m                 \u001b[0mindexer\u001b[0m \u001b[1;33m=\u001b[0m \u001b[1;33m[\u001b[0m\u001b[0mindexer\u001b[0m\u001b[1;33m]\u001b[0m\u001b[1;33m\u001b[0m\u001b[1;33m\u001b[0m\u001b[0m\n",
      "\u001b[1;32m~\\anaconda3\\envs\\race_dash\\lib\\site-packages\\pandas\\core\\indexes\\base.py\u001b[0m in \u001b[0;36mget_loc\u001b[1;34m(self, key, method, tolerance)\u001b[0m\n\u001b[0;32m   3361\u001b[0m                 \u001b[1;32mreturn\u001b[0m \u001b[0mself\u001b[0m\u001b[1;33m.\u001b[0m\u001b[0m_engine\u001b[0m\u001b[1;33m.\u001b[0m\u001b[0mget_loc\u001b[0m\u001b[1;33m(\u001b[0m\u001b[0mcasted_key\u001b[0m\u001b[1;33m)\u001b[0m\u001b[1;33m\u001b[0m\u001b[1;33m\u001b[0m\u001b[0m\n\u001b[0;32m   3362\u001b[0m             \u001b[1;32mexcept\u001b[0m \u001b[0mKeyError\u001b[0m \u001b[1;32mas\u001b[0m \u001b[0merr\u001b[0m\u001b[1;33m:\u001b[0m\u001b[1;33m\u001b[0m\u001b[1;33m\u001b[0m\u001b[0m\n\u001b[1;32m-> 3363\u001b[1;33m                 \u001b[1;32mraise\u001b[0m \u001b[0mKeyError\u001b[0m\u001b[1;33m(\u001b[0m\u001b[0mkey\u001b[0m\u001b[1;33m)\u001b[0m \u001b[1;32mfrom\u001b[0m \u001b[0merr\u001b[0m\u001b[1;33m\u001b[0m\u001b[1;33m\u001b[0m\u001b[0m\n\u001b[0m\u001b[0;32m   3364\u001b[0m \u001b[1;33m\u001b[0m\u001b[0m\n\u001b[0;32m   3365\u001b[0m         \u001b[1;32mif\u001b[0m \u001b[0mis_scalar\u001b[0m\u001b[1;33m(\u001b[0m\u001b[0mkey\u001b[0m\u001b[1;33m)\u001b[0m \u001b[1;32mand\u001b[0m \u001b[0misna\u001b[0m\u001b[1;33m(\u001b[0m\u001b[0mkey\u001b[0m\u001b[1;33m)\u001b[0m \u001b[1;32mand\u001b[0m \u001b[1;32mnot\u001b[0m \u001b[0mself\u001b[0m\u001b[1;33m.\u001b[0m\u001b[0mhasnans\u001b[0m\u001b[1;33m:\u001b[0m\u001b[1;33m\u001b[0m\u001b[1;33m\u001b[0m\u001b[0m\n",
      "\u001b[1;31mKeyError\u001b[0m: 'TimeIn'"
     ]
    }
   ],
   "source": [
    "from datetime import datetime\n",
    "\n",
    "#Calculate duration in seconds and add as a column to Endverpacker. Rows without a duration are recorded as 'N/A'\n",
    "a=pd.to_datetime(Endverpacker_df['TimePLCAck'], dayfirst=True)\n",
    "b=pd.to_datetime(Endverpacker_df['TimeIn'], dayfirst=True)\n",
    "c=a-b\n",
    "d=c.dt.total_seconds()\n",
    "e=d.where(d >0, 'N/A')\n",
    "Endverpacker_df['Duration']=e\n",
    "\n",
    "#Etikettierer does not include durations. A column has still been created for merging with 'N/A' values.\n",
    "Etikettierer_df['Duration']='N/A'\n",
    "\n",
    "#Calculate duration in seconds and add as a column to Montage. Rows without a duration are recorded as 'N/A'\n",
    "a=pd.to_datetime(Montage_df['End'])\n",
    "b=pd.to_datetime(Montage_df['Start'])\n",
    "c=a-b\n",
    "d=c.dt.total_seconds()\n",
    "e=d.where(d >0, 'N/A')\n",
    "Montage_df['Duration']=e\n",
    "\n",
    "#Convert start time columns to datetime format\n",
    "\n",
    "Endverpacker_df['TimeIn']=pd.to_datetime(Endverpacker_df['TimeIn'], dayfirst = True)\n",
    "\n",
    "f=Etikettierer_df['Datum'] + \".\"+ Etikettierer_df['Zeit']\n",
    "g=pd.to_datetime(f,format='%d.%m.%Y.%H:%M:%S')\n",
    "Etikettierer_df['Start']=g\n",
    "\n",
    "Montage_df['Start']=pd.to_datetime(Montage_df['Start'])\n",
    "\n",
    "#Give a universal column name for Start Time (Start)\n",
    "\n",
    "Endverpacker_df=Endverpacker_df.rename(columns={\"TimeIn\" : \"Start\"})\n",
    "#Etikettierer_df=Etikettierer_df.rename(columns={\"Zeit\" : \"Start\"})\n",
    "\n",
    "Kartonierer_df['Start'] = pd.to_datetime(Kartonierer_df['Start'], dayfirst=True)\n",
    "Kartonierer_df['End'] = pd.to_datetime(Kartonierer_df['End'], dayfirst=True)\n",
    "c = Kartonierer_df['End'] - Kartonierer_df['Start']\n",
    "d = c.dt.total_seconds()\n",
    "Kartonierer_df['Duration'] = d\n"
   ]
  },
  {
   "cell_type": "code",
   "execution_count": 13,
   "metadata": {},
   "outputs": [],
   "source": [
    "#Create a universal column name for Message Text\n",
    "\n",
    "Endverpacker_df=Endverpacker_df.rename(columns={\"MessageText\" : \"Message Text\"})\n",
    "Etikettierer_df=Etikettierer_df.rename(columns={\"Meldetext\" : \"Message Text\"})\n"
   ]
  },
  {
   "cell_type": "code",
   "execution_count": 14,
   "metadata": {},
   "outputs": [],
   "source": [
    "#Create and populate master alarms database with useful data read across\n",
    "\n",
    "Alarms_df=pd.DataFrame(columns=['Message Text','Start','Duration','Filename','Machine'])\n",
    "Alarms_df=pd.concat([Alarms_df, Etikettierer_df, Endverpacker_df, Montage_df, Kartonierer_df], join=\"inner\")\n",
    "Alarms_df=Alarms_df.reset_index()\n"
   ]
  },
  {
   "cell_type": "code",
   "execution_count": 15,
   "metadata": {},
   "outputs": [],
   "source": [
    "Messages=Alarms_df['Message Text'].unique()\n",
    "\n",
    "import googletrans\n",
    "from googletrans import Translator\n",
    "\n",
    "#Initialise\n",
    "translator = Translator(service_urls=['translate.googleapis.com'])\n",
    "\n"
   ]
  },
  {
   "cell_type": "code",
   "execution_count": 19,
   "metadata": {},
   "outputs": [],
   "source": [
    "#This theoertically works, but in practice googletranslate is unreliable and it does not translate consistently\n",
    "#translations = {}\n",
    "#for element in Messages:\n",
    "#    # add translation to the dictionary\n",
    "#    translations[element] = translator.translate(element).text\n",
    "    \n",
    "#Alarms_df['Message Text']=Alarms_df['Message Text'].replace(translations)\n",
    "#Alarms_df.to_csv('alarms.csv')"
   ]
  },
  {
   "cell_type": "code",
   "execution_count": 16,
   "metadata": {},
   "outputs": [],
   "source": [
    "#Instead a list of unique alarm messages has been extracted, translated and saved as a CSV file.\n",
    "filename = 'translations.csv'\n",
    "path = os.path.join(dir_ip21, filename)\n",
    "df = pd.read_csv(path ,encoding='UTF-8', header=None, index_col=0)\n",
    "# df = pd.read_csv(r'C:\\Users\\Raza-PC\\Documents\\McLaren\\Sanofi\\Sanofi\\translations.csv',encoding='UTF-8',header=None,index_col=0)\n",
    "translation=df.to_dict()\n",
    "# Alarms_df['Message Text'] = Alarms_df['Message Text'].replace(translation[1])\n",
    "Alarms_df['Message Text (English)'] = Alarms_df['Message Text'].replace(translation[1])\n"
   ]
  },
  {
   "cell_type": "code",
   "execution_count": 91,
   "metadata": {},
   "outputs": [],
   "source": [
    "# this gets rid of (drops) the 'index' col and moves the newly created 'Message Text (English)' to the firstt col\n",
    "cols = Alarms_df.columns.tolist()\n",
    "cols = cols[-1:] + cols[1:-1]\n",
    "Alarms_df = Alarms_df[cols]\n",
    "filename = 'alarms.csv'\n",
    "path = os.path.join(dir_ip21, filename)\n",
    "Alarms_df.to_csv(path)"
   ]
  },
  {
   "cell_type": "code",
   "execution_count": 19,
   "metadata": {},
   "outputs": [
    {
     "output_type": "execute_result",
     "data": {
      "text/plain": [
       "                   index  Message Text   Start  Filename  \\\n",
       "Machine                                                    \n",
       "AL6_Endverpacker    3975          3975    3975      3975   \n",
       "AL6_Etikettierer  263336        263336  263336    263336   \n",
       "AL6_Kartonierer    54928         54928   54928     54928   \n",
       "AL6_Montage       447243        447243  447243    447243   \n",
       "\n",
       "                  Message Text (English)  \n",
       "Machine                                   \n",
       "AL6_Endverpacker                    3975  \n",
       "AL6_Etikettierer                  263336  \n",
       "AL6_Kartonierer                    54928  \n",
       "AL6_Montage                       447243  "
      ],
      "text/html": "<div>\n<style scoped>\n    .dataframe tbody tr th:only-of-type {\n        vertical-align: middle;\n    }\n\n    .dataframe tbody tr th {\n        vertical-align: top;\n    }\n\n    .dataframe thead th {\n        text-align: right;\n    }\n</style>\n<table border=\"1\" class=\"dataframe\">\n  <thead>\n    <tr style=\"text-align: right;\">\n      <th></th>\n      <th>index</th>\n      <th>Message Text</th>\n      <th>Start</th>\n      <th>Filename</th>\n      <th>Message Text (English)</th>\n    </tr>\n    <tr>\n      <th>Machine</th>\n      <th></th>\n      <th></th>\n      <th></th>\n      <th></th>\n      <th></th>\n    </tr>\n  </thead>\n  <tbody>\n    <tr>\n      <th>AL6_Endverpacker</th>\n      <td>3975</td>\n      <td>3975</td>\n      <td>3975</td>\n      <td>3975</td>\n      <td>3975</td>\n    </tr>\n    <tr>\n      <th>AL6_Etikettierer</th>\n      <td>263336</td>\n      <td>263336</td>\n      <td>263336</td>\n      <td>263336</td>\n      <td>263336</td>\n    </tr>\n    <tr>\n      <th>AL6_Kartonierer</th>\n      <td>54928</td>\n      <td>54928</td>\n      <td>54928</td>\n      <td>54928</td>\n      <td>54928</td>\n    </tr>\n    <tr>\n      <th>AL6_Montage</th>\n      <td>447243</td>\n      <td>447243</td>\n      <td>447243</td>\n      <td>447243</td>\n      <td>447243</td>\n    </tr>\n  </tbody>\n</table>\n</div>"
     },
     "metadata": {},
     "execution_count": 19
    }
   ],
   "source": [
    "Alarms_df.groupby('Machine').count()"
   ]
  },
  {
   "cell_type": "code",
   "execution_count": null,
   "metadata": {},
   "outputs": [],
   "source": []
  }
 ],
 "metadata": {
  "interpreter": {
   "hash": "cc4b4fb9cade4a7d88141835964df12a004f9fc927f75285077057c6fefe486e"
  },
  "kernelspec": {
   "name": "python3",
   "display_name": "Python 3.8.11 64-bit ('race_dash': conda)"
  },
  "language_info": {
   "codemirror_mode": {
    "name": "ipython",
    "version": 3
   },
   "file_extension": ".py",
   "mimetype": "text/x-python",
   "name": "python",
   "nbconvert_exporter": "python",
   "pygments_lexer": "ipython3",
   "version": "3.8.11"
  }
 },
 "nbformat": 4,
 "nbformat_minor": 2
}